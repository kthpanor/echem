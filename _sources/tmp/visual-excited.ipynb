{
 "cells": [
  {
   "cell_type": "markdown",
   "metadata": {},
   "source": [
    "# Visualizing excited states\n",
    "\n",
    "```{note}\n",
    "- Currently pyscf, but this will be changed.\n",
    "- Resolution will be improved\n",
    "- To be added:\n",
    "    1. More theory\n",
    "    2. Electron and hole densities (e/h)\n",
    "    3. Descriptors of e/h and D/A densities\n",
    "```\n",
    "\n",
    "Calculating the first two excited states of water, using SCF from PySCF and ADC from adcc:"
   ]
  },
  {
   "cell_type": "code",
   "execution_count": null,
   "metadata": {
    "tags": [
     "hide-input",
     "remove-output"
    ]
   },
   "outputs": [],
   "source": [
    "import py3Dmol\n",
    "import numpy as np\n",
    "import matplotlib.pyplot as plt\n",
    "import adcc\n",
    "from pyscf import gto, scf, tools"
   ]
  },
  {
   "cell_type": "code",
   "execution_count": null,
   "metadata": {
    "tags": [
     "remove-output"
    ]
   },
   "outputs": [],
   "source": [
    "water_geom = \"\"\"\n",
    "O       0.0000000000     0.1187290000     0.0000000000\n",
    "H      -0.7532010000    -0.4749160000    -0.0000000000\n",
    "H       0.7532010000    -0.4749160000     0.0000000000\n",
    "\"\"\"\n",
    "\n",
    "# Prepare molecule object\n",
    "mol       = gto.Mole()\n",
    "mol.atom  = water_geom\n",
    "mol.basis = '6-31G'\n",
    "mol.build()\n",
    "\n",
    "# SCF calculation\n",
    "scf_gs = scf.HF(mol)\n",
    "scf_gs.kernel()\n",
    "\n",
    "# ADC(2) calculation, two states\n",
    "adc_state = adcc.adc2(scf_gs,n_singlets=2)\n",
    "\n",
    "# Print results\n",
    "print(adc_state.describe())\n",
    "\n",
    "# Print dominant amplitudes\n",
    "print(adc_state.describe_amplitudes())"
   ]
  },
  {
   "cell_type": "markdown",
   "metadata": {},
   "source": [
    "Here we print the basic description of the excited states (energy, intensity, weight of double excitation amplitudes), as well as a break-down of the dominating amplitudes for each transition. From this we can start analysing the excited state by looking at the canonical MOs, but they easily becomes to diffuse to provide easy assignments. Instead we will consider two different methods by which the excitations can be more easily visualized and analysed, starting with natural transition orbitals.\n",
    "\n",
    "### Natural transition orbitals\n",
    "\n",
    "Natural transition orbitals (NTOs) are constructed to provide the most compact, transition-dependent transition orbitals of a specific excitation. With those, a single pair of NTOs corresponding to the hole and electron will typically dominate, and will thus provide a easily interpretable description of the excitation. For a pure HOMO to LUMO transition the NTOs would be the same as the HOMO (hole) and LUMO (electron) orbitals.\n",
    "\n",
    "The NTOs are constructed from a singular-value decomposition (SVD) of the transition density matrix ($\\mathbf{T}$):\n",
    "\n",
    "\\begin{equation}\n",
    "\\mathbf{UTV}^{\\dagger} = \\mathbf{\\Lambda}\n",
    "\\end{equation}\n",
    "\n",
    "where $\\mathbf{U}$ and $\\mathbf{V}$ are the transformation matrices correspoding to the hole and electron, respectively, and $\\mathbf{\\Lambda}$ is a diagonal matrix measuring the relative importance of each pair of NTOs.\n",
    "\n",
    "Constructing the NTOs of each transition using `np.linalg.svd`. Focusing on the first excited state, and building:"
   ]
  },
  {
   "cell_type": "markdown",
   "metadata": {},
   "source": [
    "```python\n",
    "i = 0 # first state only\n",
    "\n",
    "# Load transition density matrix, combine alpha and beta, and transform to numpy\n",
    "tdm_ao    = adc_state.transition_dm[i].to_ao_basis()\n",
    "p_tdm_tot = (tdm_ao[0] + tdm_ao[1]).to_ndarray()\n",
    "\n",
    "# Build NTOs by singular value decomposition\n",
    "u, s, v = np.linalg.svd(p_tdm_tot)\n",
    "\n",
    "print('Dominant NTO of state {}'.format(i+1))\n",
    "print('Relative importance:',np.around(s[0]/sum(s),3))\n",
    "k = 0 # only look at dominant NTO pair  \n",
    "\n",
    "# Initial\n",
    "tools.cubegen.orbital(mol=mol, coeff=v[k],outfile=\"../img/vis/water_nto_{}_HONTO+{}.cube\".format(i,k))\n",
    "# Final\n",
    "tools.cubegen.orbital(mol=mol, coeff=u.T[k],outfile=\"../img/vis/water_nto_{}_LUNTO+{}.cube\".format(i,k))\n",
    "```"
   ]
  },
  {
   "cell_type": "markdown",
   "metadata": {},
   "source": [
    "This shows a strong dominance (0.97) of the first NTO pair.\n",
    "\n",
    "Loading and visualizing"
   ]
  },
  {
   "cell_type": "code",
   "execution_count": null,
   "metadata": {},
   "outputs": [],
   "source": [
    "viewer = py3Dmol.view(linked=False,viewergrid=(1,2),width=800,height=300)\n",
    "i = 0 # first state only\n",
    "k = 0 # only look at dominant NTO pair  \n",
    "\n",
    "# Initial\n",
    "with open(\"../img/vis/water_nto_{}_HONTO+{}.cube\".format(i,k), \"r\") as f:\n",
    "    cube = f.read(); f.close()\n",
    "viewer.addModel(cube, \"cube\",viewer=(0,0)); viewer.setStyle({'stick':{}},viewer=(0,0))\n",
    "viewer.addVolumetricData(cube, \"cube\", {\"isoval\": -0.05, \"color\": \"blue\", \"opacity\": 0.75},viewer=(0,0))\n",
    "viewer.addVolumetricData(cube, \"cube\", {\"isoval\":  0.05, \"color\":  \"red\", \"opacity\": 0.75},viewer=(0,0))\n",
    "\n",
    "# Final\n",
    "with open(\"../img/vis/water_nto_{}_LUNTO+{}.cube\".format(i,k), \"r\") as f:\n",
    "    cube = f.read(); f.close() \n",
    "viewer.addModel(cube, \"cube\",viewer=(0,1)); viewer.setStyle({'stick':{}},viewer=(0,1))\n",
    "viewer.addVolumetricData(cube, \"cube\", {\"isoval\": -0.05, \"color\": \"blue\", \"opacity\": 0.75},viewer=(0,1))\n",
    "viewer.addVolumetricData(cube, \"cube\", {\"isoval\":  0.05, \"color\":  \"red\", \"opacity\": 0.75},viewer=(0,1))\n",
    "\n",
    "viewer.rotate(-45,'x',viewer=(0,0))\n",
    "viewer.rotate(-45,'x',viewer=(0,1))\n",
    "viewer.show()"
   ]
  },
  {
   "cell_type": "markdown",
   "metadata": {},
   "source": [
    "## Attachment and detachment densities\n",
    "\n",
    "A different method for visualizing the transitions is to consider the attachment (A) and detachment (D) densities, which are constructed to show the density change related to an excitation. These densities, which corresponds to the hole/where electrons go from and an electron/where they go to, can then be used to look at properties such as hole and electron size, distance between the centroid (and thus level of charge-transfer), and more. For a simple HOMO-LUMO transition they would simply correspond to the square of the dominant NTOs.\n",
    "\n",
    "D/A densities are constructed from the one-particle difference density matrix (1DDM), which is simply the difference between the on-particle density matrices of the initial and final state:\n",
    "\n",
    "\\begin{equation}\n",
    "\\rho_{\\Delta} = \\rho_f - \\rho_i\n",
    "\\end{equation}\n",
    "\n",
    "Diagonalizing this\n",
    "\n",
    "\\begin{equation}\n",
    "\\mathbf{U} \\rho_{\\Delta} \\mathbf{U}^{\\dagger} = \\delta\n",
    "\\end{equation}\n",
    "\n",
    "The attachment and detachment densities are constructed by considering the negative and positive eigenvalues. For a discussion on NTOs and D/A densities, see, *e.g.*, [this paper](https://onlinelibrary.wiley.com/doi/10.1002/jcc.23975)."
   ]
  },
  {
   "cell_type": "markdown",
   "metadata": {},
   "source": [
    "```python\n",
    "# Load transition density matrix, combine alpha and beta, and transform to numpy\n",
    "p_state = adc_state.state_diffdm[i].to_ao_basis()\n",
    "p_state_ao = (p_state[0] + p_state[1]).to_ndarray()\n",
    "\n",
    "# Diagonalize the 1DDM\n",
    "k, w = np.linalg.eigh(p_state_ao)\n",
    "k_detach = k.copy()\n",
    "k_attach = k.copy()\n",
    "# Detachment: set positive eigenvalues to 0\n",
    "k_detach[k > 0] = 0\n",
    "# Attachment: set negative eigenvalues to 0\n",
    "k_attach[k < 0] = 0 \n",
    "# Back-transform with numpy\n",
    "detach_ao = w @ np.diag(k_detach) @ w.T\n",
    "attach_ao = w @ np.diag(k_attach) @ w.T\n",
    "\n",
    "# Write cube-files\n",
    "de = tools.cubegen.density(mol, dm=detach_ao, outfile=\"../img/vis/water_detachment_{}.cube\".format(i))\n",
    "at = tools.cubegen.density(mol, dm=attach_ao, outfile=\"../img/vis/water_attachment_{}.cube\".format(i))\n",
    "```"
   ]
  },
  {
   "cell_type": "code",
   "execution_count": null,
   "metadata": {},
   "outputs": [],
   "source": [
    "viewer = py3Dmol.view(linked=False,viewergrid=(1,2),width=800,height=300)\n",
    "\n",
    "# Detachment\n",
    "with open(\"../img/vis/water_detachment_{}.cube\".format(i), \"r\") as f:\n",
    "    cube = f.read(); f.close()\n",
    "viewer.addModel(cube, \"cube\",viewer=(0,0)); viewer.setStyle({'stick':{}},viewer=(0,0))\n",
    "viewer.addVolumetricData(cube, \"cube\", {\"isoval\": -0.05, \"color\": \"blue\", \"opacity\": 0.75},viewer=(0,0))\n",
    "\n",
    "# Attachment\n",
    "with open(\"../img/vis/water_attachment_{}.cube\".format(i), \"r\") as f:\n",
    "    cube = f.read(); f.close() \n",
    "viewer.addModel(cube, \"cube\",viewer=(0,1)); viewer.setStyle({'stick':{}},viewer=(0,1))\n",
    "viewer.addVolumetricData(cube, \"cube\", {\"isoval\":  0.05, \"color\":  \"red\", \"opacity\": 0.75},viewer=(0,1))\n",
    "\n",
    "viewer.rotate(-45,'x',viewer=(0,0))\n",
    "viewer.rotate(-45,'x',viewer=(0,1))\n",
    "viewer.show()"
   ]
  }
 ],
 "metadata": {
  "celltoolbar": "Tags",
  "kernelspec": {
   "display_name": "Python 3",
   "language": "python",
   "name": "python3"
  },
  "language_info": {
   "codemirror_mode": {
    "name": "ipython",
    "version": 3
   },
   "file_extension": ".py",
   "mimetype": "text/x-python",
   "name": "python",
   "nbconvert_exporter": "python",
   "pygments_lexer": "ipython3",
   "version": "3.7.9"
  }
 },
 "nbformat": 4,
 "nbformat_minor": 5
}
