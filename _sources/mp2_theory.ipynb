{
 "cells": [
  {
   "cell_type": "markdown",
   "id": "6a3e83b7-befe-4b37-9849-6b22fb5aeec0",
   "metadata": {
    "editable": true,
    "slideshow": {
     "slide_type": ""
    },
    "tags": []
   },
   "source": [
    "# Møller–Plesset partitioning\n",
    "\n",
    "Using Rayleigh–Schrödinger perturbation theory ([RSPT](pt)), the Hamiltonian can be partitioned according to the Møller–Plesset (MP) scheme {cite}`Szabo2012,Helgaker2014,mbpt2009`\n",
    "\n",
    "\\begin{equation*}\n",
    "\\hat{H} = \\hat{F} + \\hat{\\Phi}\n",
    "\\end{equation*}\n",
    "\n",
    "where the zeroth-order Hamiltonian, $\\hat{F}$, is the Fock operator and the perturbation, $\\hat{\\Phi}$, is known as the fluctuation potential.\n",
    "\n",
    "The exact solutions to the zeroth-order Hamiltonian are found from the time-independent Schrödinger equation\n",
    "\n",
    "\\begin{align*}\n",
    "\\hat{F} | \\Phi_n \\rangle  &= {\\cal E}_n | \\Phi_n \\rangle \n",
    "\\end{align*}\n",
    "\n",
    "The exact state solutions to this equation are given by the Hartree–Fock state and its excited determinants\n",
    "\n",
    "\\begin{align*}\n",
    "| \\Phi_0 \\rangle & = | \\Psi_\\mathrm{HF} \\rangle \\\\\n",
    "| \\Phi_n \\rangle & = | \\Psi_{ij\\ldots}^{ab\\ldots} \\rangle; \\quad n > 0\n",
    "\\end{align*}\n",
    "\n",
    "and, in terms of orbital energies, the associated exact energies are equal to\n",
    "\n",
    "\\begin{align*}\n",
    "{\\cal E}_0 & = \\sum_{i}^\\mathrm{occ} \\varepsilon_{i} \\\\ \n",
    "{\\cal E}^{ab\\cdots}_{ij\\cdots} &= \\varepsilon_{a} + \\varepsilon_{b} + \\ldots - \\varepsilon_{i} - \\varepsilon_{j} - \\ldots \\\\\n",
    "\\end{align*}"
   ]
  },
  {
   "cell_type": "markdown",
   "id": "fa4e5d7e-ef7c-449d-9405-dcdeb28d45eb",
   "metadata": {
    "editable": true,
    "slideshow": {
     "slide_type": ""
    },
    "tags": []
   },
   "source": [
    "## Perturbation expansion in the fluctuation potential\n",
    "\n",
    "The exact ground state is a solution to\n",
    "\n",
    "$$\n",
    "\\hat{H} | \\Psi \\rangle = E | \\Psi \\rangle\n",
    "$$\n",
    "\n",
    "where $| \\Psi \\rangle$ and $E$ are expanded in orders of the perturbation\n",
    "\n",
    "$$\n",
    "| \\Psi \\rangle = \\sum_{k=0}^\\infty | \\Psi^{(k)} \\rangle; \\qquad E = \\sum_{k=0}^\\infty E^{(k)}\n",
    "$$\n",
    "\n",
    "From RSPT, we get \n",
    "\n",
    "\\begin{align*}\n",
    "E^{(0)} & = {\\cal E}_0 \\\\\n",
    "E^{(1)} & = \\langle \\Psi_\\mathrm{HF} | \\hat{\\Phi} | \\Psi_\\mathrm{HF}  \\rangle = -\\frac{1}{2} \\sum_{i,j}^\\mathrm{occ} \\langle ij \\| ij \\rangle\n",
    "\\end{align*}\n",
    "\n",
    "so that \n",
    "\n",
    "$$\n",
    "E_{\\mathrm{HF}} = E^{(0)} + E^{(1)}\n",
    "$$\n",
    "\n",
    "The first-order correction to the wave function is obtained from the [RSPT master equation](pt)\n",
    "\n",
    "$$\n",
    "| \\Psi^{(1)} \\rangle = -\\frac{1}{4} \\sum_{i,j}^\\mathrm{occ} \\sum_{a,b}^\\mathrm{virt} t_{ij}^{ab} | \\Psi_{ij}^{ab} \\rangle ; \\qquad\n",
    "t_{ij}^{ab} = \\frac{\\langle ab \\| ij \\rangle}{{\\cal E}_{ij}^{ab}}\n",
    "$$\n",
    "\n",
    "and, in terms of the introduced $t$-amplitudes, we thereby get a second-order energy correction equal to\n",
    "\n",
    "$$\n",
    "E^{(2)}  = - \\frac{1}{4} \\sum_{i,j}^\\mathrm{occ} \\sum_{a,b}^\\mathrm{virt} t_{ij}^{ab} \\langle ij || ab \\rangle\n",
    "$$\n",
    "\n",
    "such that\n",
    "\n",
    "$$\n",
    "E_{\\mathrm{MP2}} = E_{\\mathrm{HF}} + E^{(2)}\n",
    "$$"
   ]
  },
  {
   "cell_type": "markdown",
   "id": "c901cc1d-d6ff-461f-b62f-856607fc2eb8",
   "metadata": {
    "editable": true,
    "jp-MarkdownHeadingCollapsed": true,
    "slideshow": {
     "slide_type": ""
    },
    "tags": []
   },
   "source": [
    "### Closed-shell reference state\n",
    "\n",
    "For a closed-shell Hartree–Fock state, the MP2 energy correction can be written in terms of sums referring to molecular orbitals (MOs)\n",
    "\n",
    "$$\n",
    "E^{(2)} = E_{\\mathrm{os}}^{(2)} + E_{\\mathrm{ss}}^{(2)}\n",
    "$$\n",
    "\n",
    "where \n",
    "\n",
    "\\begin{align*}\n",
    "E_{\\mathrm{os}}^{(2)} & = -\n",
    "\\sum_{i,j}^\\mathrm{occ} \\sum_{a,b}^\\mathrm{virt}\n",
    "\\frac{(ia|jb)(ia|jb)}{{\\cal E}_{ij}^{ab}} \\\\\n",
    "E_{\\mathrm{ss}}^{(2)} & = -\n",
    "\\sum_{i,j}^\\mathrm{occ} \\sum_{a,b}^\\mathrm{virt}\n",
    "\\frac{(ia|jb)}{{\\cal E}_{ij}^{ab}}\n",
    "\\big[ (ia|jb) - (ib|ja) \\big] \\\\\n",
    "\\end{align*}\n",
    "\n",
    "The [chemist's notation](https://kthpanor.github.io/echem/docs/units_notation.html#two-electron-integrals) has here been used for the integrals."
   ]
  },
  {
   "cell_type": "markdown",
   "id": "dfb0ab74-d661-4bd1-aff1-f7f027cd8147",
   "metadata": {
    "editable": true,
    "slideshow": {
     "slide_type": ""
    },
    "tags": []
   },
   "source": [
    "# Illustration\n",
    "\n",
    "Let us illustrate the theory with a calculation of the MP2 energy of water."
   ]
  },
  {
   "cell_type": "code",
   "execution_count": null,
   "id": "d78cd800-cae8-4ac9-8ecb-f39ea463aaa6",
   "metadata": {
    "editable": true,
    "scrolled": true,
    "slideshow": {
     "slide_type": ""
    },
    "tags": [
     "remove-output"
    ]
   },
   "outputs": [],
   "source": [
    "import veloxchem as vlx"
   ]
  },
  {
   "cell_type": "code",
   "execution_count": null,
   "id": "7b9cf10f-20ff-4f8d-ad28-83bc49215f34",
   "metadata": {
    "editable": true,
    "scrolled": true,
    "slideshow": {
     "slide_type": ""
    },
    "tags": []
   },
   "outputs": [],
   "source": [
    "h2o_xyz = \"\"\"3\n",
    "water                                                                                                                          \n",
    "O    0.000000000000        0.000000000000        0.000000000000                         \n",
    "H    0.000000000000        0.740848095288        0.582094932012                         \n",
    "H    0.000000000000       -0.740848095288        0.582094932012\n",
    "\"\"\"\n",
    "\n",
    "molecule = vlx.Molecule.read_xyz_string(h2o_xyz)\n",
    "basis = vlx.MolecularBasis.read(molecule, \"cc-pvdz\", ostream=None)\n",
    "\n",
    "nocc = molecule.number_of_alpha_electrons()\n",
    "nvirt = basis.get_dimension_of_basis() - nocc\n",
    "\n",
    "print(\"Number of occupied orbitals:\", nocc)\n",
    "print(\"Number of unoccupied orbitals:\", nvirt)"
   ]
  },
  {
   "cell_type": "code",
   "execution_count": null,
   "id": "3f0feae0-de8a-49d2-8ba4-d38d6ea641e2",
   "metadata": {
    "editable": true,
    "scrolled": true,
    "slideshow": {
     "slide_type": ""
    },
    "tags": []
   },
   "outputs": [],
   "source": [
    "molecule.show()"
   ]
  },
  {
   "cell_type": "markdown",
   "id": "46014f3e-fa28-4a62-91e1-1e39f82f1fbc",
   "metadata": {
    "editable": true,
    "slideshow": {
     "slide_type": ""
    },
    "tags": []
   },
   "source": [
    "## Hartree–Fock reference state"
   ]
  },
  {
   "cell_type": "code",
   "execution_count": null,
   "id": "d260f75b-cfa8-445b-8e8b-89f586545aa8",
   "metadata": {
    "editable": true,
    "scrolled": true,
    "slideshow": {
     "slide_type": ""
    },
    "tags": []
   },
   "outputs": [],
   "source": [
    "scf_drv = vlx.ScfRestrictedDriver()\n",
    "scf_drv.ostream.mute()\n",
    "scf_results = scf_drv.compute(molecule, basis)"
   ]
  },
  {
   "cell_type": "markdown",
   "id": "3e3db8e6-df40-4ad7-b905-d8de66f73e29",
   "metadata": {
    "editable": true,
    "slideshow": {
     "slide_type": ""
    },
    "tags": []
   },
   "source": [
    "We obtain the orbital energies."
   ]
  },
  {
   "cell_type": "code",
   "execution_count": null,
   "id": "d18ec509-fb5c-426c-95bf-aeb30670d376",
   "metadata": {
    "editable": true,
    "slideshow": {
     "slide_type": ""
    },
    "tags": []
   },
   "outputs": [],
   "source": [
    "E = scf_results[\"E_alpha\"]"
   ]
  },
  {
   "cell_type": "markdown",
   "id": "f88b2137-9a62-4f45-a89c-c2cee2d53d16",
   "metadata": {
    "editable": true,
    "slideshow": {
     "slide_type": ""
    },
    "tags": []
   },
   "source": [
    "## Integrals in the MO basis\n",
    "\n",
    "We create an instance of the `MOIntegralsDriver` class to get the electron repulsion integrals in the MO basis and in the chemist's notation."
   ]
  },
  {
   "cell_type": "code",
   "execution_count": null,
   "id": "b55192bb-c723-4f3c-a6ea-3dc688e78571",
   "metadata": {
    "editable": true,
    "slideshow": {
     "slide_type": ""
    },
    "tags": []
   },
   "outputs": [],
   "source": [
    "erimo_drv = vlx.MOIntegralsDriver()\n",
    "\n",
    "ovov = erimo_drv.compute_in_memory(molecule, basis, scf_drv.mol_orbs, \"chem_ovov\")\n",
    "print(\"(ov|ov):\", ovov.shape)"
   ]
  },
  {
   "cell_type": "markdown",
   "id": "d8733e57-8f72-478c-ad7d-cdf7b7a47171",
   "metadata": {
    "editable": true,
    "slideshow": {
     "slide_type": ""
    },
    "tags": []
   },
   "source": [
    "## The MP2 energy correction\n",
    "\n",
    "We now have all the ingredients to compute the opposite-spin and same-spin components of the MP2 energy correction."
   ]
  },
  {
   "cell_type": "code",
   "execution_count": null,
   "id": "362d922d-7acd-4089-bb89-9b7290a302c8",
   "metadata": {
    "editable": true,
    "slideshow": {
     "slide_type": ""
    },
    "tags": []
   },
   "outputs": [],
   "source": [
    "e_mp2_ss = 0.0\n",
    "e_mp2_os = 0.0\n",
    "\n",
    "# extract the occupied subset of the orbital energies\n",
    "e_o = E[:nocc]\n",
    "# extract the virtual subset of the orbital energies\n",
    "e_v = E[nocc:]\n",
    "\n",
    "for i in range(nocc):\n",
    "    for j in range(nocc):\n",
    "        for a in range(nvirt):\n",
    "            for b in range(nvirt):\n",
    "                # enegy denominators\n",
    "                e_ijab = e_v[a] + e_v[b] - e_o[i] - e_o[j]\n",
    "\n",
    "                # update opposite-spin component of the energy\n",
    "                e_mp2_os -= (ovov[i, a, j, b] * ovov[i, a, j, b]) / e_ijab\n",
    "\n",
    "                # update same-spin component of the energy\n",
    "                e_mp2_ss -= (\n",
    "                    ovov[i, a, j, b] * (ovov[i, a, j, b] - ovov[i, b, j, a]) / e_ijab\n",
    "                )"
   ]
  },
  {
   "cell_type": "code",
   "execution_count": null,
   "id": "a218e0b2-0bbc-488f-8f65-89f44b987875",
   "metadata": {
    "editable": true,
    "slideshow": {
     "slide_type": ""
    },
    "tags": []
   },
   "outputs": [],
   "source": [
    "print(f\"Opposite-spin MP2 energy: {e_mp2_os:12.8f}\")\n",
    "print(f\"Same-spin MP2 energy    : {e_mp2_ss:12.8f}\")\n",
    "print(f\"MP2 energy              : {e_mp2_os + e_mp2_ss:12.8f}\")"
   ]
  },
  {
   "cell_type": "markdown",
   "id": "c20477a7-036c-4acd-9201-f60786d94242",
   "metadata": {
    "editable": true,
    "slideshow": {
     "slide_type": ""
    },
    "tags": []
   },
   "source": [
    "Let us compare this result with the MP2 energy obtained with VeloxChem."
   ]
  },
  {
   "cell_type": "code",
   "execution_count": null,
   "id": "882e1c4d-b4e0-4e06-a359-c8f338d05bf6",
   "metadata": {
    "editable": true,
    "slideshow": {
     "slide_type": ""
    },
    "tags": []
   },
   "outputs": [],
   "source": [
    "mp2_drv = vlx.Mp2Driver()\n",
    "mp2_drv.ostream.mute()\n",
    "\n",
    "mp2_results = mp2_drv.compute_conventional(molecule, basis, scf_drv.mol_orbs)"
   ]
  },
  {
   "cell_type": "code",
   "execution_count": null,
   "id": "18284b93-f4a1-4125-bd1b-d9a386338624",
   "metadata": {
    "editable": true,
    "slideshow": {
     "slide_type": ""
    },
    "tags": []
   },
   "outputs": [],
   "source": [
    "print(f\"Energy difference: {mp2_results['mp2_energy']:12.8f}\")"
   ]
  },
  {
   "cell_type": "markdown",
   "id": "37164b50-5d96-4d33-93bd-d4689fe43399",
   "metadata": {
    "editable": true,
    "slideshow": {
     "slide_type": ""
    },
    "tags": []
   },
   "source": [
    "We note that the two results are in perfect agreement."
   ]
  },
  {
   "cell_type": "markdown",
   "id": "e63fce48-190a-4731-a523-6f9c4bbddb25",
   "metadata": {
    "editable": true,
    "slideshow": {
     "slide_type": ""
    },
    "tags": []
   },
   "source": [
    "(sec:mp2-size-consistency)=\n",
    "# Size consistency\n",
    "\n",
    "We see that to second order, Møller-Plesset perturbation theory only involves up to double excitations from the HF reference. It would thus be natural to consider it an approximation to CISD, and expect it to suffer from the same issue, namely a lack of size consistency. Yet this is not the case as discussed in the [RSPT section on this topic](https://kthpanor.github.io/echem/docs/elec_struct/pt.html#size-extensivity-in-rspt)."
   ]
  },
  {
   "cell_type": "code",
   "execution_count": null,
   "id": "8ec95944-aeea-40ff-bede-486931ca371d",
   "metadata": {
    "editable": true,
    "scrolled": true,
    "slideshow": {
     "slide_type": ""
    },
    "tags": []
   },
   "outputs": [],
   "source": [
    "dimer_xyz = \"\"\"6\n",
    "2 water 100 Å apart                                                                                                            \n",
    "O    0.000000000000        0.000000000000        0.000000000000                         \n",
    "H    0.000000000000        0.740848095288        0.582094932012                         \n",
    "H    0.000000000000       -0.740848095288        0.582094932012\n",
    "O  100.000000000000        0.000000000000        0.000000000000                         \n",
    "H  100.000000000000        0.740848095288        0.582094932012                         \n",
    "H  100.000000000000       -0.740848095288        0.582094932012\n",
    "\"\"\"\n",
    "\n",
    "molecule = vlx.Molecule.read_xyz_string(dimer_xyz)\n",
    "basis = vlx.MolecularBasis.read(molecule, \"cc-pvdz\", ostream=None)"
   ]
  },
  {
   "cell_type": "code",
   "execution_count": null,
   "id": "003fcfa9-eae7-4069-953c-e139e0c2c8f3",
   "metadata": {
    "editable": true,
    "slideshow": {
     "slide_type": ""
    },
    "tags": []
   },
   "outputs": [],
   "source": [
    "molecule.show()"
   ]
  },
  {
   "cell_type": "code",
   "execution_count": null,
   "id": "7787218b-9ed0-404b-88b3-1fa6a7772370",
   "metadata": {
    "editable": true,
    "scrolled": true,
    "slideshow": {
     "slide_type": ""
    },
    "tags": [
     "remove-output"
    ]
   },
   "outputs": [],
   "source": [
    "scf_results = scf_drv.compute(molecule, basis)\n",
    "\n",
    "mp2_dimer_results = mp2_drv.compute_conventional(molecule, basis, scf_drv.mol_orbs)"
   ]
  },
  {
   "cell_type": "code",
   "execution_count": null,
   "id": "9fc69f17-a9ad-42cc-a73f-b9441b638a5f",
   "metadata": {
    "editable": true,
    "slideshow": {
     "slide_type": ""
    },
    "tags": []
   },
   "outputs": [],
   "source": [
    "print(\"=\" * 30)\n",
    "print(\"MP2 energies\")\n",
    "print(\"-\" * 30)\n",
    "print(f\"Dimer       : {mp2_dimer_results['mp2_energy']:16.10f}\")\n",
    "print(f\"Two monomers: {2 * mp2_results['mp2_energy']:16.10f}\")\n",
    "print(\"=\" * 30)"
   ]
  },
  {
   "cell_type": "markdown",
   "id": "ecea7964-1460-4173-9a36-917c69543e48",
   "metadata": {
    "editable": true,
    "slideshow": {
     "slide_type": ""
    },
    "tags": []
   },
   "source": [
    "We can see that the two energies match. MP2 is size consistent! So why is it behaving better than CISD in this aspect?\n",
    "\n",
    "The key is that in MP2, the coefficients of the excited determinants are independent of the system size. Thus a molecule would have the same MP2 energy correction regardless of the presence or not of another, non-interacting, molecule. By contrast, in CISD, the coefficients depend on the system size through normalization, lowering the weight of these determinants as the size of the system increases."
   ]
  },
  {
   "cell_type": "code",
   "execution_count": null,
   "id": "fc9a214e-c662-437f-8d40-9aa767512504",
   "metadata": {},
   "outputs": [],
   "source": []
  }
 ],
 "metadata": {
  "celltoolbar": "Tags",
  "kernelspec": {
   "display_name": "Python 3 (ipykernel)",
   "language": "python",
   "name": "python3"
  },
  "language_info": {
   "codemirror_mode": {
    "name": "ipython",
    "version": 3
   },
   "file_extension": ".py",
   "mimetype": "text/x-python",
   "name": "python",
   "nbconvert_exporter": "python",
   "pygments_lexer": "ipython3",
   "version": "3.12.8"
  }
 },
 "nbformat": 4,
 "nbformat_minor": 5
}
