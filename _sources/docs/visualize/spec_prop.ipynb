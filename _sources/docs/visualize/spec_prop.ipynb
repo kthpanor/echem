{
 "cells": [
  {
   "cell_type": "markdown",
   "id": "80ac8f21-86da-4f9f-9a31-9cae3c52b5c3",
   "metadata": {},
   "source": [
    "# Spectra and properties\n",
    "\n",
    "This chapter will discuss the visualization of spectra and properties, and is for now focused on [spectrum broadening](broadening)."
   ]
  }
 ],
 "metadata": {
  "kernelspec": {
   "display_name": "Python 3 (ipykernel)",
   "language": "python",
   "name": "python3"
  },
  "language_info": {
   "codemirror_mode": {
    "name": "ipython",
    "version": 3
   },
   "file_extension": ".py",
   "mimetype": "text/x-python",
   "name": "python",
   "nbconvert_exporter": "python",
   "pygments_lexer": "ipython3",
   "version": "3.11.5"
  }
 },
 "nbformat": 4,
 "nbformat_minor": 5
}
