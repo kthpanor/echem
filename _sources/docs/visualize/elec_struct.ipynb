{
 "cells": [
  {
   "cell_type": "markdown",
   "id": "452858a5-a295-414f-8577-b6ad6e568564",
   "metadata": {},
   "source": [
    "# Electronic structure"
   ]
  },
  {
   "cell_type": "markdown",
   "id": "99d01d1e-8a9c-42c9-89ed-5cf98034915b",
   "metadata": {},
   "source": [
    "The visualization of electronic structure is here focused on [molecular orbitals](orb_vis), both in 3D space and as radial densities. This include a demonstration of the `OrbitalViewer` function which can be used for visualizing molecular orbitals, as well as selecting active spaces for multi-reference calculations."
   ]
  }
 ],
 "metadata": {
  "kernelspec": {
   "display_name": "Python 3 (ipykernel)",
   "language": "python",
   "name": "python3"
  },
  "language_info": {
   "codemirror_mode": {
    "name": "ipython",
    "version": 3
   },
   "file_extension": ".py",
   "mimetype": "text/x-python",
   "name": "python",
   "nbconvert_exporter": "python",
   "pygments_lexer": "ipython3",
   "version": "3.10.12"
  }
 },
 "nbformat": 4,
 "nbformat_minor": 5
}
