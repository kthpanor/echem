{
 "cells": [
  {
   "cell_type": "markdown",
   "id": "02288820-5cb5-4c8b-8432-81a99ceeec0d",
   "metadata": {},
   "source": [
    "# Excited states\n",
    "\n",
    "For the analysis of the excited states, it is common to simply study the molecular orbitals of the final states, and base assignments and other conclusions from this. This often works quite well, but the final state can be multi-determinational in nature, and the canonical orbitals of larger systems are often quite delocalized and hard to study. As such, many other analysis tools have been developed, two of which will be discussed here:\n",
    "- [Natural transition orbitals](sec:vis_ntos) (NTOs), which constructs a compact, transition-dependent description of specific excitations\n",
    "- [Attachment and detachment densities](sec:vis_attach_det), which are based on the one-particle density matrix and considers the density change involved in an excitation\n",
    "\n",
    "\n",
    "As an illustration, we consider the first valence-excited state of water, as calculated using ADC(2):"
   ]
  },
  {
   "cell_type": "markdown",
   "id": "e10e61d1-a956-4d72-a5cb-fe661b39cf02",
   "metadata": {},
   "source": [
    "```python\n",
    "import gator\n",
    "\n",
    "water_mol_str = \"\"\"\n",
    "O       0.0000000000     0.1187290000     0.0000000000\n",
    "H      -0.7532010000    -0.4749160000    -0.0000000000\n",
    "H       0.7532010000    -0.4749160000     0.0000000000\n",
    "\"\"\"\n",
    "\n",
    "# Construct structure and basis objects\n",
    "molecule = gator.get_molecule(water_mol_str)\n",
    "basis = gator.get_molecular_basis(molecule, \"6-31G\")\n",
    "```"
   ]
  },
  {
   "cell_type": "code",
   "execution_count": 1,
   "id": "067965b8-0058-4dd9-acd0-e5500efffce5",
   "metadata": {
    "tags": [
     "remove-input"
    ]
   },
   "outputs": [
    {
     "data": {
      "application/3dmoljs_load.v0": "<div id=\"3dmolviewer_16921139347352104\"  style=\"position: relative; width: 300px; height: 200px\">\n        <p id=\"3dmolwarning_16921139347352104\" style=\"background-color:#ffcccc;color:black\">You appear to be running in JupyterLab (or JavaScript failed to load for some other reason).  You need to install the 3dmol extension: <br>\n        <tt>jupyter labextension install jupyterlab_3dmol</tt></p>\n        </div>\n<script>\n\nvar loadScriptAsync = function(uri){\n  return new Promise((resolve, reject) => {\n    //this is to ignore the existence of requirejs amd\n    var savedexports, savedmodule;\n    if (typeof exports !== 'undefined') savedexports = exports;\n    else exports = {}\n    if (typeof module !== 'undefined') savedmodule = module;\n    else module = {}\n\n    var tag = document.createElement('script');\n    tag.src = uri;\n    tag.async = true;\n    tag.onload = () => {\n        exports = savedexports;\n        module = savedmodule;\n        resolve();\n    };\n  var firstScriptTag = document.getElementsByTagName('script')[0];\n  firstScriptTag.parentNode.insertBefore(tag, firstScriptTag);\n});\n};\n\nif(typeof $3Dmolpromise === 'undefined') {\n$3Dmolpromise = null;\n  $3Dmolpromise = loadScriptAsync('https://cdnjs.cloudflare.com/ajax/libs/3Dmol/2.0.1/3Dmol-min.js');\n}\n\nvar viewer_16921139347352104 = null;\nvar warn = document.getElementById(\"3dmolwarning_16921139347352104\");\nif(warn) {\n    warn.parentNode.removeChild(warn);\n}\n$3Dmolpromise.then(function() {\nviewer_16921139347352104 = $3Dmol.createViewer(document.getElementById(\"3dmolviewer_16921139347352104\"),{backgroundColor:\"white\"});\nviewer_16921139347352104.zoomTo();\n\tviewer_16921139347352104.addModel(\"3\\n\\nO       0.0000000000     0.1187290000     0.0000000000\\nH      -0.7532010000    -0.4749160000    -0.0000000000\\nH       0.7532010000    -0.4749160000     0.0000000000\\n\",\"xyz\");\n\tviewer_16921139347352104.setViewStyle({\"style\": \"outline\", \"width\": 0.05});\n\tviewer_16921139347352104.setStyle({\"stick\": {}, \"sphere\": {\"scale\": 0.25}});\nviewer_16921139347352104.render();\n});\n</script>",
      "text/html": [
       "<div id=\"3dmolviewer_16921139347352104\"  style=\"position: relative; width: 300px; height: 200px\">\n",
       "        <p id=\"3dmolwarning_16921139347352104\" style=\"background-color:#ffcccc;color:black\">You appear to be running in JupyterLab (or JavaScript failed to load for some other reason).  You need to install the 3dmol extension: <br>\n",
       "        <tt>jupyter labextension install jupyterlab_3dmol</tt></p>\n",
       "        </div>\n",
       "<script>\n",
       "\n",
       "var loadScriptAsync = function(uri){\n",
       "  return new Promise((resolve, reject) => {\n",
       "    //this is to ignore the existence of requirejs amd\n",
       "    var savedexports, savedmodule;\n",
       "    if (typeof exports !== 'undefined') savedexports = exports;\n",
       "    else exports = {}\n",
       "    if (typeof module !== 'undefined') savedmodule = module;\n",
       "    else module = {}\n",
       "\n",
       "    var tag = document.createElement('script');\n",
       "    tag.src = uri;\n",
       "    tag.async = true;\n",
       "    tag.onload = () => {\n",
       "        exports = savedexports;\n",
       "        module = savedmodule;\n",
       "        resolve();\n",
       "    };\n",
       "  var firstScriptTag = document.getElementsByTagName('script')[0];\n",
       "  firstScriptTag.parentNode.insertBefore(tag, firstScriptTag);\n",
       "});\n",
       "};\n",
       "\n",
       "if(typeof $3Dmolpromise === 'undefined') {\n",
       "$3Dmolpromise = null;\n",
       "  $3Dmolpromise = loadScriptAsync('https://cdnjs.cloudflare.com/ajax/libs/3Dmol/2.0.1/3Dmol-min.js');\n",
       "}\n",
       "\n",
       "var viewer_16921139347352104 = null;\n",
       "var warn = document.getElementById(\"3dmolwarning_16921139347352104\");\n",
       "if(warn) {\n",
       "    warn.parentNode.removeChild(warn);\n",
       "}\n",
       "$3Dmolpromise.then(function() {\n",
       "viewer_16921139347352104 = $3Dmol.createViewer(document.getElementById(\"3dmolviewer_16921139347352104\"),{backgroundColor:\"white\"});\n",
       "viewer_16921139347352104.zoomTo();\n",
       "\tviewer_16921139347352104.addModel(\"3\\n\\nO       0.0000000000     0.1187290000     0.0000000000\\nH      -0.7532010000    -0.4749160000    -0.0000000000\\nH       0.7532010000    -0.4749160000     0.0000000000\\n\",\"xyz\");\n",
       "\tviewer_16921139347352104.setViewStyle({\"style\": \"outline\", \"width\": 0.05});\n",
       "\tviewer_16921139347352104.setStyle({\"stick\": {}, \"sphere\": {\"scale\": 0.25}});\n",
       "viewer_16921139347352104.render();\n",
       "});\n",
       "</script>"
      ]
     },
     "metadata": {},
     "output_type": "display_data"
    }
   ],
   "source": [
    "import py3Dmol as p3d\n",
    "\n",
    "water_xyz = \"\"\"3\n",
    "\n",
    "O       0.0000000000     0.1187290000     0.0000000000\n",
    "H      -0.7532010000    -0.4749160000    -0.0000000000\n",
    "H       0.7532010000    -0.4749160000     0.0000000000\n",
    "\"\"\"\n",
    "\n",
    "viewer = p3d.view(width=300, height=200)\n",
    "viewer.addModel(water_xyz, 'xyz')\n",
    "viewer.setViewStyle({\"style\": \"outline\", \"width\": 0.05})\n",
    "viewer.setStyle({\"stick\":{},\"sphere\": {\"scale\":0.25}})\n",
    "viewer.show()"
   ]
  },
  {
   "cell_type": "markdown",
   "id": "67487eb7-6461-4dc4-8547-24daea471b28",
   "metadata": {},
   "source": [
    "```python\n",
    "# Perform SCF calculation\n",
    "scf_gs = gator.run_scf(molecule, basis)\n",
    "\n",
    "# Calculate the 2 lowest eigenstates\n",
    "adc_results = gator.run_adc(molecule, basis, scf_gs, method=\"adc2\", singlets=2)\n",
    "```\n",
    "\n",
    "Printing the results:\n",
    "\n",
    "```python\n",
    "# Print results\n",
    "print(adc_state.describe())\n",
    "\n",
    "# Print dominant amplitudes\n",
    "print(adc_state.describe_amplitudes())\n",
    "```"
   ]
  },
  {
   "cell_type": "code",
   "execution_count": 2,
   "id": "cc1fbd8f-d079-4c91-aaaa-dd414bc6dccf",
   "metadata": {
    "tags": [
     "hide-input",
     "remove-input"
    ]
   },
   "outputs": [
    {
     "name": "stdout",
     "output_type": "stream",
     "text": [
      "+--------------------------------------------------------------+\n",
      "| adc2                                    singlet ,  converged |\n",
      "+--------------------------------------------------------------+\n",
      "|  #        excitation energy     osc str    |v1|^2    |v2|^2  |\n",
      "|          (au)           (eV)                                 |\n",
      "|  0     0.3054352      8.311314   0.0142    0.9591   0.04089  |\n",
      "|  1     0.3903211      10.62118   0.0000    0.9636   0.03637  |\n",
      "+--------------------------------------------------------------+\n",
      "\n",
      "+---------------------------------------------------+\n",
      "| State   0 ,     0.3054352 au,      8.311314 eV    |\n",
      "+---------------------------------------------------+\n",
      "| HOMO          -> LUMO           a ->a      -0.691 |\n",
      "| HOMO          -> LUMO+4         a ->a     +0.0451 |\n",
      "| HOMO          -> LUMO+7         a ->a     +0.0227 |\n",
      "| HOMO-2 HOMO   -> LUMO+1 LUMO    ab->ab    +0.0306 |\n",
      "| HOMO   HOMO   -> LUMO   LUMO+3  ab->ab    -0.0253 |\n",
      "| HOMO-2 HOMO   -> LUMO   LUMO+1  aa->aa    -0.0191 |\n",
      "| HOMO-1 HOMO   -> LUMO   LUMO    ab->ab    -0.0191 |\n",
      "| HOMO-3 HOMO   -> LUMO   LUMO    ab->ab    +0.0182 |\n",
      "| HOMO-1 HOMO   -> LUMO   LUMO+4  aa->aa    -0.0174 |\n",
      "| HOMO-1 HOMO   -> LUMO+4 LUMO    ab->ab    +0.0152 |\n",
      "| HOMO-2 HOMO   -> LUMO+6 LUMO    ab->ab    -0.0152 |\n",
      "| HOMO-1 HOMO   -> LUMO+5 LUMO    ab->ab    -0.0147 |\n",
      "| HOMO-2 HOMO   -> LUMO   LUMO+6  aa->aa    +0.0139 |\n",
      "| HOMO-1 HOMO   -> LUMO   LUMO+5  aa->aa    +0.0117 |\n",
      "| HOMO-2 HOMO   -> LUMO   LUMO+1  ab->ab    +0.0115 |\n",
      "| HOMO-3 HOMO   -> LUMO   LUMO+7  aa->aa    +0.0107 |\n",
      "\n",
      "+---------------------------------------------------+\n",
      "| State   1 ,     0.3903211 au,      10.62118 eV    |\n",
      "+---------------------------------------------------+\n",
      "| HOMO          -> LUMO+1         a ->a       +0.69 |\n",
      "| HOMO          -> LUMO+6         a ->a     -0.0598 |\n",
      "| HOMO          -> LUMO+2         a ->a     -0.0431 |\n",
      "| HOMO-2 HOMO   -> LUMO+1 LUMO+1  ab->ab    -0.0301 |\n",
      "| HOMO   HOMO   -> LUMO+1 LUMO+3  ab->ab    +0.0234 |\n",
      "| HOMO-1 HOMO   -> LUMO   LUMO+1  ab->ab     +0.019 |\n",
      "| HOMO-2 HOMO   -> LUMO+1 LUMO+6  aa->aa    -0.0189 |\n",
      "| HOMO-1 HOMO   -> LUMO+4 LUMO+1  ab->ab    -0.0144 |\n",
      "| HOMO-3 HOMO   -> LUMO   LUMO+1  ab->ab    -0.0143 |\n",
      "| HOMO-1 HOMO   -> LUMO+1 LUMO+4  aa->aa    +0.0133 |\n",
      "| HOMO-2 HOMO   -> LUMO+6 LUMO+1  ab->ab     +0.013 |\n",
      "| HOMO-1 HOMO   -> LUMO+5 LUMO+1  ab->ab    +0.0121 |\n",
      "| HOMO-1 HOMO   -> LUMO+1 LUMO+5  aa->aa    -0.0109 |\n",
      "| HOMO-1 HOMO   -> LUMO   LUMO+1  aa->aa    +0.0104 |\n"
     ]
    }
   ],
   "source": [
    "print_results = \"\"\"+--------------------------------------------------------------+\n",
    "| adc2                                    singlet ,  converged |\n",
    "+--------------------------------------------------------------+\n",
    "|  #        excitation energy     osc str    |v1|^2    |v2|^2  |\n",
    "|          (au)           (eV)                                 |\n",
    "|  0     0.3054352      8.311314   0.0142    0.9591   0.04089  |\n",
    "|  1     0.3903211      10.62118   0.0000    0.9636   0.03637  |\n",
    "+--------------------------------------------------------------+\n",
    "\n",
    "+---------------------------------------------------+\n",
    "| State   0 ,     0.3054352 au,      8.311314 eV    |\n",
    "+---------------------------------------------------+\n",
    "| HOMO          -> LUMO           a ->a      -0.691 |\n",
    "| HOMO          -> LUMO+4         a ->a     +0.0451 |\n",
    "| HOMO          -> LUMO+7         a ->a     +0.0227 |\n",
    "| HOMO-2 HOMO   -> LUMO+1 LUMO    ab->ab    +0.0306 |\n",
    "| HOMO   HOMO   -> LUMO   LUMO+3  ab->ab    -0.0253 |\n",
    "| HOMO-2 HOMO   -> LUMO   LUMO+1  aa->aa    -0.0191 |\n",
    "| HOMO-1 HOMO   -> LUMO   LUMO    ab->ab    -0.0191 |\n",
    "| HOMO-3 HOMO   -> LUMO   LUMO    ab->ab    +0.0182 |\n",
    "| HOMO-1 HOMO   -> LUMO   LUMO+4  aa->aa    -0.0174 |\n",
    "| HOMO-1 HOMO   -> LUMO+4 LUMO    ab->ab    +0.0152 |\n",
    "| HOMO-2 HOMO   -> LUMO+6 LUMO    ab->ab    -0.0152 |\n",
    "| HOMO-1 HOMO   -> LUMO+5 LUMO    ab->ab    -0.0147 |\n",
    "| HOMO-2 HOMO   -> LUMO   LUMO+6  aa->aa    +0.0139 |\n",
    "| HOMO-1 HOMO   -> LUMO   LUMO+5  aa->aa    +0.0117 |\n",
    "| HOMO-2 HOMO   -> LUMO   LUMO+1  ab->ab    +0.0115 |\n",
    "| HOMO-3 HOMO   -> LUMO   LUMO+7  aa->aa    +0.0107 |\n",
    "\n",
    "+---------------------------------------------------+\n",
    "| State   1 ,     0.3903211 au,      10.62118 eV    |\n",
    "+---------------------------------------------------+\n",
    "| HOMO          -> LUMO+1         a ->a       +0.69 |\n",
    "| HOMO          -> LUMO+6         a ->a     -0.0598 |\n",
    "| HOMO          -> LUMO+2         a ->a     -0.0431 |\n",
    "| HOMO-2 HOMO   -> LUMO+1 LUMO+1  ab->ab    -0.0301 |\n",
    "| HOMO   HOMO   -> LUMO+1 LUMO+3  ab->ab    +0.0234 |\n",
    "| HOMO-1 HOMO   -> LUMO   LUMO+1  ab->ab     +0.019 |\n",
    "| HOMO-2 HOMO   -> LUMO+1 LUMO+6  aa->aa    -0.0189 |\n",
    "| HOMO-1 HOMO   -> LUMO+4 LUMO+1  ab->ab    -0.0144 |\n",
    "| HOMO-3 HOMO   -> LUMO   LUMO+1  ab->ab    -0.0143 |\n",
    "| HOMO-1 HOMO   -> LUMO+1 LUMO+4  aa->aa    +0.0133 |\n",
    "| HOMO-2 HOMO   -> LUMO+6 LUMO+1  ab->ab     +0.013 |\n",
    "| HOMO-1 HOMO   -> LUMO+5 LUMO+1  ab->ab    +0.0121 |\n",
    "| HOMO-1 HOMO   -> LUMO+1 LUMO+5  aa->aa    -0.0109 |\n",
    "| HOMO-1 HOMO   -> LUMO   LUMO+1  aa->aa    +0.0104 |\"\"\"\n",
    "print(print_results)"
   ]
  },
  {
   "cell_type": "markdown",
   "id": "f46143bd-3180-436d-ac55-82a779d004bf",
   "metadata": {},
   "source": [
    "Here we print the basic description of the excited states (energy, intensity, weight of double excitation amplitudes), as well as a break-down of the dominating amplitudes for each transition. From this we can start analysing the excited state by looking at the canonical MOs, but we will now use the results for a more involved analysis.\n",
    "\n",
    "\n",
    "(sec:vis_ntos)=\n",
    "## Natural transition orbitals\n",
    "\n",
    "[Natural transition orbitals](https://aip.scitation.org/doi/pdf/10.1063/1.1558471) (NTOs) are constructed to provide the most compact, transition-dependent transition orbitals of a specific excitation. With this, a single pair of NTOs corresponding to the hole and electron will typically dominate, and will thus provide a easily interpretable description of the excitation. For a pure HOMO to LUMO transition the NTOs would be the same as the HOMO (hole) and LUMO (electron) orbitals.\n",
    "\n",
    "The NTOs are constructed from a singular-value decomposition (SVD) of the transition density matrix ($\\mathbf{T}$):\n",
    "\n",
    "$$\n",
    "\\mathbf{UTV}^{\\dagger} = \\mathbf{\\Lambda}\n",
    "$$\n",
    "\n",
    "where $\\mathbf{U}$ and $\\mathbf{V}$ are the transformation matrices correspoding to the hole and electron, respectively, and $\\mathbf{\\Lambda}$ is a diagonal matrix measuring the relative importance of each pair of NTOs.\n",
    "\n",
    "The first pair of NTOs for the first excitation can now be constructed as:\n",
    "\n",
    "```{note}\n",
    "The following scripts are not executed, and static image are instead loaded. This is merely for improved loading time of the webpage and to save disk space.\n",
    "```\n",
    "\n",
    "```python\n",
    "i = 0 # first state only\n",
    "\n",
    "# Load transition density matrix, combine alpha and beta, and transform to numpy\n",
    "tdm_ao = adc_state.transition_dm[i].to_ao_basis()\n",
    "p_tdm_tot = (tdm_ao[0] + tdm_ao[1]).to_ndarray()\n",
    "\n",
    "# Build NTOs by singular value decomposition\n",
    "u, s, v = np.linalg.svd(p_tdm_tot)\n",
    "\n",
    "print('Dominant NTO of state {}'.format(i+1))\n",
    "print('Relative importance:',np.around(s[0]/sum(s),3))\n",
    "k = 0 # only look at dominant NTO pair  \n",
    "\n",
    "# Initial\n",
    "tools.cubegen.orbital(mol=mol, coeff=v[k],outfile=\"../../img/visualize/water_nto_{}_HONTO+{}.cube\".format(i,k))\n",
    "# Final\n",
    "tools.cubegen.orbital(mol=mol, coeff=u.T[k],outfile=\"../../img/visualize/water_nto_{}_LUNTO+{}.cube\".format(i,k))\n",
    "```"
   ]
  },
  {
   "cell_type": "code",
   "execution_count": 3,
   "id": "421cd479-cce8-4350-bb65-ca71c6398efe",
   "metadata": {
    "tags": [
     "hide-input",
     "remove-input"
    ]
   },
   "outputs": [
    {
     "name": "stdout",
     "output_type": "stream",
     "text": [
      "\n",
      "Dominant NTO of state 1\n",
      "Relative importance: 0.97\n",
      "\n"
     ]
    }
   ],
   "source": [
    "print_results = \"\"\"\n",
    "Dominant NTO of state 1\n",
    "Relative importance: 0.97\n",
    "\"\"\"\n",
    "print(print_results)"
   ]
  },
  {
   "cell_type": "markdown",
   "id": "c1535452-e2f6-45d7-a80b-d05b7d7bc639",
   "metadata": {
    "editable": true,
    "slideshow": {
     "slide_type": ""
    },
    "tags": []
   },
   "source": [
    "```{figure} ../../img/visualize/water-ntos-dens.png\n",
    "---\n",
    "name: water-ntos-dens\n",
    "```\n",
    "\n",
    "This shows a strong dominance (0.97) of the first NTO pair.\n",
    "\n",
    "\n",
    "(sec:vis_attach_det)=\n",
    "## Attachment and detachment densities\n",
    "\n",
    "A different method for visualizing the transitions is to consider the attachment (A) and detachment (D) densities, which are constructed to show the density change related to an excitation {cite}`adanalysis1995, visualform2014, visualappl2014`. For a simple HOMO-LUMO transition they would simply correspond to the square of the dominant NTOs, with meaning:\n",
    "\n",
    "- Hole/detachment density representing where electrons go from\n",
    "- Electron/attachment density representing where electrons go to\n",
    "\n",
    "These densities can then be used to look at properties such as hole and electron size, distance between the centroid (and thus level of charge-transfer), and more. D/A densities are constructed from the one-particle difference density matrix (1DDM), which is simply the difference between the one-particle density matrices of the initial and final state:\n",
    "\n",
    "$$\n",
    "\\rho_{\\Delta} = \\rho_f - \\rho_i\n",
    "$$\n",
    "\n",
    "The sum of the attachment and detachment densities is then the difference density.\n",
    "\n",
    "\n",
    "Diagonalizing 1DDM\n",
    "\n",
    "$$\n",
    "\\mathbf{U} \\rho_{\\Delta} \\mathbf{U}^{\\dagger} = \\delta\n",
    "$$\n",
    "\n",
    "The attachment and detachment densities are constructed by considering the negative and positive eigenvalues, and the trace of either is the number of electron involved in the excitation.\n",
    "\n",
    "Looking at the attachment and detachment density of the first excited state:\n",
    "\n",
    "```python\n",
    "# Load transition density matrix, combine alpha and beta, and transform to numpy\n",
    "p_state = adc_state.state_diffdm[i].to_ao_basis()\n",
    "p_state_ao = (p_state[0] + p_state[1]).to_ndarray()\n",
    "\n",
    "# Diagonalize the 1DDM\n",
    "k, w = np.linalg.eigh(p_state_ao)\n",
    "k_detach = k.copy()\n",
    "k_attach = k.copy()\n",
    "# Detachment: set positive eigenvalues to 0\n",
    "k_detach[k > 0] = 0\n",
    "# Attachment: set negative eigenvalues to 0\n",
    "k_attach[k < 0] = 0\n",
    "# Back-transform with numpy\n",
    "detach_ao = w @ np.diag(k_detach) @ w.T\n",
    "attach_ao = w @ np.diag(k_attach) @ w.T\n",
    "\n",
    "# Write cube-files\n",
    "de = tools.cubegen.density(\n",
    "    mol, dm=detach_ao, outfile=\"../../img/visualize/water_detachment_{}.cube\".format(i)\n",
    ")\n",
    "at = tools.cubegen.density(\n",
    "    mol, dm=attach_ao, outfile=\"../../img/visualize/water_attachment_{}.cube\".format(i)\n",
    ")\n",
    "```\n",
    "\n",
    "```{figure} ../../img/visualize/water-att-det-dens.png\n",
    "---\n",
    "name: water-att-det-dens\n",
    "```\n",
    "\n",
    "We see that these states are more compact (as we are looking on *densities*) than above NTOs. For a discussion on NTOs and D/A densities, see, *e.g.*, [this paper](https://onlinelibrary.wiley.com/doi/10.1002/jcc.23975)."
   ]
  },
  {
   "cell_type": "markdown",
   "id": "7b5c8532-3fad-4545-ba8a-71e08aa34633",
   "metadata": {
    "editable": true,
    "slideshow": {
     "slide_type": ""
    },
    "tags": []
   },
   "source": [
    "(sec:vis_analysis_detach_attach)=\n",
    "## Visual analysis of electronic transitions\n",
    "\n",
    "The attachment and detachment densities (as well as other density types such as transition, electron, or hole densities) can be further analyzed quantitatively to determine electron localization and transfer between different molecular moieties. This is achieved by fragmenting the molecule into (chemically relevant) subgroups and performing a geometric segmentation of the selected density over these subgroups (using Voronoi segmentation). Charge transfer between molecular fragments can then be calculated. This is achieved by a constrained optimization algorithm since the problem does not have a unique solution. See the complete formulation [here](https://onlinelibrary.wiley.com/doi/10.1111/cgf.14307).\n",
    "\n",
    "To illustrate this quantitative analysis method, we will determine the lowest 5 singlet excited states of a molecule with donor-acceptor (D-A) sub-units and we will analyze the nature of these states. The molecule is illustrated below.\n",
    "\n",
    "```{figure} ../../img/visualize/TBTD.png\n",
    "---\n",
    "name: DA-molecule\n",
    "scale: 75%\n",
    "```\n",
    "\n",
    "It consists of an electron-donor moiety (thiophene $-$ T) and an electron-acceptor moiety (benzothiadiazol $-$ BTD). The excited states could either be local excitations (i.e. to unoccupied orbitals localized over the same moiety as the excited orbitals) or charge transfer excited states.\n",
    "\n",
    "We start by calculating the first 5 lowest excited states and saving the detachment and attachment densities to cube files."
   ]
  },
  {
   "cell_type": "code",
   "execution_count": 25,
   "id": "8564dac4-9b11-4579-859c-ca8da0bed5b5",
   "metadata": {},
   "outputs": [
    {
     "name": "stdout",
     "output_type": "stream",
     "text": [
      "* Info * Reading basis set from file: /home/emi/miniconda3/envs/echem-notebook/lib/python3.11/site-packages/veloxchem/basis/DEF2-SVP\n",
      "                                                                                                                          \n",
      "                                              Molecular Basis (Atomic Basis)                                              \n",
      "                                             ================================                                             \n",
      "                                                                                                                          \n",
      "                               Basis: DEF2-SVP                                                                            \n",
      "                                                                                                                          \n",
      "                               Atom Contracted GTOs           Primitive GTOs                                              \n",
      "                                                                                                                          \n",
      "                                S   (4S,3P,1D)                (10S,7P,1D)                                                 \n",
      "                                H   (2S,1P)                   (4S,1P)                                                     \n",
      "                                C   (3S,2P,1D)                (7S,4P,1D)                                                  \n",
      "                                N   (3S,2P,1D)                (7S,4P,1D)                                                  \n",
      "                                                                                                                          \n",
      "                               Contracted Basis Functions : 234                                                           \n",
      "                               Primitive Basis Functions  : 402                                                           \n",
      "                                                                                                                          \n"
     ]
    }
   ],
   "source": [
    "from valet import transition_analysis_utils as tau\n",
    "import veloxchem as vlx\n",
    "\n",
    "# Construct the molecule\n",
    "tbtd_xyz = \"\"\"20\n",
    "\n",
    "S          4.068045   -3.624923    0.876690\n",
    "N          2.639177   -2.836908    0.709379\n",
    "N          5.098300   -2.405670    0.511106\n",
    "C          4.350952   -1.330511    0.243156\n",
    "C          2.916432   -1.578879    0.357966\n",
    "C          4.842823   -0.044344   -0.122971\n",
    "C          3.916934    0.941290   -0.360665\n",
    "C          2.515033    0.706408   -0.250615\n",
    "C          1.963841   -0.518606    0.100843\n",
    "H          1.846971    1.545984   -0.457062\n",
    "H          5.917464    0.122515   -0.203730\n",
    "H          4.250523    1.942643   -0.644082\n",
    "S         -0.602069    0.589617   -0.116171\n",
    "C          0.518988   -0.725202    0.204641\n",
    "C         -0.183592   -1.870687    0.539498\n",
    "C         -1.595416   -1.691667    0.537227\n",
    "C         -1.969387   -0.414234    0.202022\n",
    "H          0.319728   -2.805288    0.777227\n",
    "H         -2.974834   -0.002812    0.123129\n",
    "H         -2.307715   -2.482919    0.775986\n",
    "\"\"\"\n",
    "\n",
    "molecule = vlx.Molecule.from_xyz_string(tbtd_xyz)\n",
    "basis_label = \"def2-svp\"\n",
    "basis = vlx.MolecularBasis.read(molecule, basis_label)"
   ]
  },
  {
   "cell_type": "code",
   "execution_count": 26,
   "id": "cc17bcde-cd0b-4cec-9f8e-a364b40e6561",
   "metadata": {
    "editable": true,
    "slideshow": {
     "slide_type": ""
    },
    "tags": [
     "remove-input"
    ]
   },
   "outputs": [
    {
     "data": {
      "application/3dmoljs_load.v0": "<div id=\"3dmolviewer_1692117871870986\"  style=\"position: relative; width: 500px; height: 300px\">\n        <p id=\"3dmolwarning_1692117871870986\" style=\"background-color:#ffcccc;color:black\">You appear to be running in JupyterLab (or JavaScript failed to load for some other reason).  You need to install the 3dmol extension: <br>\n        <tt>jupyter labextension install jupyterlab_3dmol</tt></p>\n        </div>\n<script>\n\nvar loadScriptAsync = function(uri){\n  return new Promise((resolve, reject) => {\n    //this is to ignore the existence of requirejs amd\n    var savedexports, savedmodule;\n    if (typeof exports !== 'undefined') savedexports = exports;\n    else exports = {}\n    if (typeof module !== 'undefined') savedmodule = module;\n    else module = {}\n\n    var tag = document.createElement('script');\n    tag.src = uri;\n    tag.async = true;\n    tag.onload = () => {\n        exports = savedexports;\n        module = savedmodule;\n        resolve();\n    };\n  var firstScriptTag = document.getElementsByTagName('script')[0];\n  firstScriptTag.parentNode.insertBefore(tag, firstScriptTag);\n});\n};\n\nif(typeof $3Dmolpromise === 'undefined') {\n$3Dmolpromise = null;\n  $3Dmolpromise = loadScriptAsync('https://cdnjs.cloudflare.com/ajax/libs/3Dmol/2.0.1/3Dmol-min.js');\n}\n\nvar viewer_1692117871870986 = null;\nvar warn = document.getElementById(\"3dmolwarning_1692117871870986\");\nif(warn) {\n    warn.parentNode.removeChild(warn);\n}\n$3Dmolpromise.then(function() {\nviewer_1692117871870986 = $3Dmol.createViewer(document.getElementById(\"3dmolviewer_1692117871870986\"),{backgroundColor:\"white\"});\nviewer_1692117871870986.zoomTo();\n\tviewer_1692117871870986.addModel(\"20\\n\\nS          4.068045   -3.624923    0.876690\\nN          2.639177   -2.836908    0.709379\\nN          5.098300   -2.405670    0.511106\\nC          4.350952   -1.330511    0.243156\\nC          2.916432   -1.578879    0.357966\\nC          4.842823   -0.044344   -0.122971\\nC          3.916934    0.941290   -0.360665\\nC          2.515033    0.706408   -0.250615\\nC          1.963841   -0.518606    0.100843\\nH          1.846971    1.545984   -0.457062\\nH          5.917464    0.122515   -0.203730\\nH          4.250523    1.942643   -0.644082\\nS         -0.602069    0.589617   -0.116171\\nC          0.518988   -0.725202    0.204641\\nC         -0.183592   -1.870687    0.539498\\nC         -1.595416   -1.691667    0.537227\\nC         -1.969387   -0.414234    0.202022\\nH          0.319728   -2.805288    0.777227\\nH         -2.974834   -0.002812    0.123129\\nH         -2.307715   -2.482919    0.775986\\n\",\"xyz\");\n\tviewer_1692117871870986.setViewStyle({\"style\": \"outline\", \"width\": 0.05});\n\tviewer_1692117871870986.setStyle({\"stick\": {}, \"sphere\": {\"scale\": 0.25}});\nviewer_1692117871870986.render();\n});\n</script>",
      "text/html": [
       "<div id=\"3dmolviewer_1692117871870986\"  style=\"position: relative; width: 500px; height: 300px\">\n",
       "        <p id=\"3dmolwarning_1692117871870986\" style=\"background-color:#ffcccc;color:black\">You appear to be running in JupyterLab (or JavaScript failed to load for some other reason).  You need to install the 3dmol extension: <br>\n",
       "        <tt>jupyter labextension install jupyterlab_3dmol</tt></p>\n",
       "        </div>\n",
       "<script>\n",
       "\n",
       "var loadScriptAsync = function(uri){\n",
       "  return new Promise((resolve, reject) => {\n",
       "    //this is to ignore the existence of requirejs amd\n",
       "    var savedexports, savedmodule;\n",
       "    if (typeof exports !== 'undefined') savedexports = exports;\n",
       "    else exports = {}\n",
       "    if (typeof module !== 'undefined') savedmodule = module;\n",
       "    else module = {}\n",
       "\n",
       "    var tag = document.createElement('script');\n",
       "    tag.src = uri;\n",
       "    tag.async = true;\n",
       "    tag.onload = () => {\n",
       "        exports = savedexports;\n",
       "        module = savedmodule;\n",
       "        resolve();\n",
       "    };\n",
       "  var firstScriptTag = document.getElementsByTagName('script')[0];\n",
       "  firstScriptTag.parentNode.insertBefore(tag, firstScriptTag);\n",
       "});\n",
       "};\n",
       "\n",
       "if(typeof $3Dmolpromise === 'undefined') {\n",
       "$3Dmolpromise = null;\n",
       "  $3Dmolpromise = loadScriptAsync('https://cdnjs.cloudflare.com/ajax/libs/3Dmol/2.0.1/3Dmol-min.js');\n",
       "}\n",
       "\n",
       "var viewer_1692117871870986 = null;\n",
       "var warn = document.getElementById(\"3dmolwarning_1692117871870986\");\n",
       "if(warn) {\n",
       "    warn.parentNode.removeChild(warn);\n",
       "}\n",
       "$3Dmolpromise.then(function() {\n",
       "viewer_1692117871870986 = $3Dmol.createViewer(document.getElementById(\"3dmolviewer_1692117871870986\"),{backgroundColor:\"white\"});\n",
       "viewer_1692117871870986.zoomTo();\n",
       "\tviewer_1692117871870986.addModel(\"20\\n\\nS          4.068045   -3.624923    0.876690\\nN          2.639177   -2.836908    0.709379\\nN          5.098300   -2.405670    0.511106\\nC          4.350952   -1.330511    0.243156\\nC          2.916432   -1.578879    0.357966\\nC          4.842823   -0.044344   -0.122971\\nC          3.916934    0.941290   -0.360665\\nC          2.515033    0.706408   -0.250615\\nC          1.963841   -0.518606    0.100843\\nH          1.846971    1.545984   -0.457062\\nH          5.917464    0.122515   -0.203730\\nH          4.250523    1.942643   -0.644082\\nS         -0.602069    0.589617   -0.116171\\nC          0.518988   -0.725202    0.204641\\nC         -0.183592   -1.870687    0.539498\\nC         -1.595416   -1.691667    0.537227\\nC         -1.969387   -0.414234    0.202022\\nH          0.319728   -2.805288    0.777227\\nH         -2.974834   -0.002812    0.123129\\nH         -2.307715   -2.482919    0.775986\\n\",\"xyz\");\n",
       "\tviewer_1692117871870986.setViewStyle({\"style\": \"outline\", \"width\": 0.05});\n",
       "\tviewer_1692117871870986.setStyle({\"stick\": {}, \"sphere\": {\"scale\": 0.25}});\n",
       "viewer_1692117871870986.render();\n",
       "});\n",
       "</script>"
      ]
     },
     "metadata": {},
     "output_type": "display_data"
    }
   ],
   "source": [
    "viewer = p3d.view(width=500, height=300)\n",
    "viewer.addModel(tbtd_xyz, 'xyz')\n",
    "viewer.setViewStyle({\"style\": \"outline\", \"width\": 0.05})\n",
    "viewer.setStyle({\"stick\":{},\"sphere\": {\"scale\":0.25}})\n",
    "viewer.show()"
   ]
  },
  {
   "cell_type": "markdown",
   "id": "ff10103b-15ae-4392-b08c-3c2e320e4a4f",
   "metadata": {
    "editable": true,
    "scrolled": true,
    "slideshow": {
     "slide_type": ""
    },
    "tags": []
   },
   "source": [
    "```python\n",
    "# We will obtain the excited states at the B3LYP level of theory\n",
    "\n",
    "method_dict = {'xcfun':'b3lyp'}\n",
    "scf_dict = {}\n",
    "\n",
    "scf_drv = vlx.ScfRestrictedDriver()\n",
    "scf_drv.update_settings(scf_dict={}, method_dict=method_dict)\n",
    "scf_results = scf_drv.compute(molecule, basis)\n",
    "```"
   ]
  },
  {
   "cell_type": "markdown",
   "id": "cf174584-9f0d-4d00-9281-b62f90f1184c",
   "metadata": {
    "editable": true,
    "scrolled": true,
    "slideshow": {
     "slide_type": ""
    },
    "tags": []
   },
   "source": [
    "```python\n",
    "# We now run the excited states calculation and save the attachment and \n",
    "# detachment densities in cube files\n",
    "rsp_dict = {'detach_attach':'yes', 'nstates':5}\n",
    "rsp_drv = vlx.lreigensolver.LinearResponseEigenSolver()\n",
    "rsp_drv.update_settings(rsp_dict=rsp_dict, method_dict=method_dict)\n",
    "rsp_results = rsp_drv.compute(molecule, basis, scf_results)\n",
    "```"
   ]
  },
  {
   "cell_type": "code",
   "execution_count": 27,
   "id": "d6986685-825d-4ceb-ac41-3089d9e9d25b",
   "metadata": {
    "editable": true,
    "slideshow": {
     "slide_type": ""
    },
    "tags": []
   },
   "outputs": [
    {
     "name": "stdout",
     "output_type": "stream",
     "text": [
      "[0, 0, 0, 0, 0, 0, 0, 0, 0, 0, 0, 0, 1, 1, 1, 1, 1, 1, 1, 1]\n"
     ]
    }
   ],
   "source": [
    "# Now we can analyze the densities.\n",
    "# First, we have to define the subgroups. One subgroup will consist of the benzothiadiazol, while the other will consist of the thiophene.\n",
    "subgroup_name = [\"BTD\", \"T\"]\n",
    "natm = molecule.number_of_atoms()\n",
    "atom_subgroup_map = [-1] * natm\n",
    "atom_subgroup_map[:12] = [0] * 12\n",
    "atom_subgroup_map[12:] = [1] * (natm-12)\n",
    "print(atom_subgroup_map)"
   ]
  },
  {
   "cell_type": "code",
   "execution_count": 28,
   "id": "c6892caf-5425-4fac-a3b0-275893326ff7",
   "metadata": {
    "editable": true,
    "scrolled": true,
    "slideshow": {
     "slide_type": ""
    },
    "tags": []
   },
   "outputs": [
    {
     "name": "stdout",
     "output_type": "stream",
     "text": [
      "Computing attach-detach for excited state 1...\n"
     ]
    }
   ],
   "source": [
    "state_index = 1 # States 1, 2, 4 have CT character, while states 3 and 5 are local excitations.\n",
    "density_type_plus = \"detach\" # or hole\n",
    "density_type_minus = \"attach\" # or electron/particle\n",
    "\n",
    "hole_cube = \"../../data/vis/TBTD_S%d_%s.cube\" % (state_index, density_type_plus)\n",
    "particle_cube = \"../../data/vis/TBTD_S%d_%s.cube\" % (state_index, density_type_minus)\n",
    "    \n",
    "print(\"Computing %s-%s for excited state %d...\" % (density_type_minus, density_type_plus, state_index))\n",
    "\n",
    "# We have to load the detachment and attachment densities and compute the atomic charges\n",
    "transition = tau.load_transition(hole_cube, particle_cube)\n",
    "segment_array = tau.compute_atomic_charges([transition])\n",
    "    \n",
    "subgroup_info = tau.SubgroupInfo()"
   ]
  },
  {
   "cell_type": "code",
   "execution_count": 29,
   "id": "bb34c5a4-b20d-4168-805c-81052c15c44f",
   "metadata": {
    "editable": true,
    "slideshow": {
     "slide_type": ""
    },
    "tags": []
   },
   "outputs": [],
   "source": [
    "# Determine subgroup charges\n",
    "subgroup_info.set_subgroups(subgroup_name, atom_subgroup_map)\n",
    "    \n",
    "tau.compute_subgroup_charges(transition, subgroup_info)\n",
    "    \n",
    "diagram_title = \"TBTD S%d %s-%s\" % (state_index, density_type_minus, density_type_plus)"
   ]
  },
  {
   "cell_type": "code",
   "execution_count": 30,
   "id": "3ca587a5-e159-4fc8-912e-62e89eb03a8e",
   "metadata": {
    "editable": true,
    "slideshow": {
     "slide_type": ""
    },
    "tags": []
   },
   "outputs": [
    {
     "data": {
      "application/vnd.jupyter.widget-view+json": {
       "model_id": "5e663b5c8fd741d68d50333f41916cc8",
       "version_major": 2,
       "version_minor": 0
      },
      "image/png": "[encoded data removed]",
      "text/html": [
       "\n",
       "            <div style=\"display: inline-block;\">\n",
       "                <div class=\"jupyter-widgets widget-label\" style=\"text-align: center;\">\n",
       "                    Figure\n",
       "                </div>\n",
       "                <img src='data:image/png;base64,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' width=640.0/>\n",
       "            </div>\n",
       "        "
      ],
      "text/plain": [
       "Canvas(toolbar=Toolbar(toolitems=[('Home', 'Reset original view', 'home', 'home'), ('Back', 'Back to previous …"
      ]
     },
     "metadata": {},
     "output_type": "display_data"
    }
   ],
   "source": [
    "%matplotlib widget\n",
    "tau.create_diagram(subgroup_info, title=diagram_title,\n",
    "                    save_plot=False)"
   ]
  },
  {
   "cell_type": "code",
   "execution_count": null,
   "id": "5ff48b18-30c7-4d62-9b31-c8b16901a842",
   "metadata": {
    "editable": true,
    "slideshow": {
     "slide_type": ""
    },
    "tags": []
   },
   "outputs": [],
   "source": []
  }
 ],
 "metadata": {
  "kernelspec": {
   "display_name": "Python 3 (ipykernel)",
   "language": "python",
   "name": "python3"
  },
  "language_info": {
   "codemirror_mode": {
    "name": "ipython",
    "version": 3
   },
   "file_extension": ".py",
   "mimetype": "text/x-python",
   "name": "python",
   "nbconvert_exporter": "python",
   "pygments_lexer": "ipython3",
   "version": "3.11.4"
  }
 },
 "nbformat": 4,
 "nbformat_minor": 5
}
