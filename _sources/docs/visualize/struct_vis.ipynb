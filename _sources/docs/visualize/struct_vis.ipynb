{
 "cells": [
  {
   "cell_type": "markdown",
   "id": "87fa2c00-bf2f-408c-a5e5-e97e4842975f",
   "metadata": {},
   "source": [
    "# Molecular structure"
   ]
  },
  {
   "cell_type": "code",
   "execution_count": 1,
   "id": "81b998aa-4617-4052-93f9-6a89bfa8ca91",
   "metadata": {
    "tags": [
     "remove-output"
    ]
   },
   "outputs": [
    {
     "name": "stdout",
     "output_type": "stream",
     "text": [
      "* Warning * Environment variable OMP_NUM_THREADS not set.\n",
      "* Warning * Setting OMP_NUM_THREADS to 4.\n"
     ]
    }
   ],
   "source": [
    "import py3Dmol\n",
    "import veloxchem as vlx"
   ]
  },
  {
   "cell_type": "markdown",
   "id": "3d15513f-c248-4ab1-b21e-985d8dc2fca0",
   "metadata": {
    "tags": []
   },
   "source": [
    "The structure of a molecular system can be visualized with `py3Dmol`, using an xyz-file:"
   ]
  },
  {
   "cell_type": "code",
   "execution_count": 2,
   "id": "931f9e57-3505-4566-8a75-d4f7faf7b25c",
   "metadata": {
    "tags": []
   },
   "outputs": [
    {
     "data": {
      "application/3dmoljs_load.v0": "<div id=\"3dmolviewer_1679475670774659\"  style=\"position: relative; width: 400px; height: 300px\">\n        <p id=\"3dmolwarning_1679475670774659\" style=\"background-color:#ffcccc;color:black\">You appear to be running in JupyterLab (or JavaScript failed to load for some other reason).  You need to install the 3dmol extension: <br>\n        <tt>jupyter labextension install jupyterlab_3dmol</tt></p>\n        </div>\n<script>\n\nvar loadScriptAsync = function(uri){\n  return new Promise((resolve, reject) => {\n    //this is to ignore the existence of requirejs amd\n    var savedexports, savedmodule;\n    if (typeof exports !== 'undefined') savedexports = exports;\n    else exports = {}\n    if (typeof module !== 'undefined') savedmodule = module;\n    else module = {}\n\n    var tag = document.createElement('script');\n    tag.src = uri;\n    tag.async = true;\n    tag.onload = () => {\n        exports = savedexports;\n        module = savedmodule;\n        resolve();\n    };\n  var firstScriptTag = document.getElementsByTagName('script')[0];\n  firstScriptTag.parentNode.insertBefore(tag, firstScriptTag);\n});\n};\n\nif(typeof $3Dmolpromise === 'undefined') {\n$3Dmolpromise = null;\n  $3Dmolpromise = loadScriptAsync('https://cdnjs.cloudflare.com/ajax/libs/3Dmol/2.0.1/3Dmol-min.js');\n}\n\nvar viewer_1679475670774659 = null;\nvar warn = document.getElementById(\"3dmolwarning_1679475670774659\");\nif(warn) {\n    warn.parentNode.removeChild(warn);\n}\n$3Dmolpromise.then(function() {\nviewer_1679475670774659 = $3Dmol.createViewer(document.getElementById(\"3dmolviewer_1679475670774659\"),{backgroundColor:\"white\"});\nviewer_1679475670774659.zoomTo();\n\tviewer_1679475670774659.setViewStyle({\"style\": \"outline\", \"width\": 0.05});\n\tviewer_1679475670774659.addModel(\"15\\n*\\n C     0.095722    -0.037785    -1.093615\\n C    -0.011848     1.408694    -1.113404\\n C    -0.204706     2.048475     0.052807\\n N    -0.302595     1.390520     1.249226\\n C    -0.214596     0.023933     1.378238\\n N    -0.017387    -0.607231     0.171757\\n O     0.270287    -0.735594    -2.076393\\n C     0.098029     2.096194    -2.424990\\n H     1.052976     1.874860    -2.891573\\n H     0.002157     3.170639    -2.310554\\n H    -0.671531     1.743694    -3.104794\\n O    -0.301905    -0.554734     2.440234\\n H    -0.292790     3.119685     0.106201\\n H     0.053626    -1.612452     0.215637\\n H    -0.446827     1.892203     2.107092\\n\");\n\tviewer_1679475670774659.setStyle({\"stick\": {}, \"sphere\": {\"scale\": 0.25}});\n\tviewer_1679475670774659.rotate(-90,\"y\");\nviewer_1679475670774659.render();\n});\n</script>",
      "text/html": [
       "<div id=\"3dmolviewer_1679475670774659\"  style=\"position: relative; width: 400px; height: 300px\">\n",
       "        <p id=\"3dmolwarning_1679475670774659\" style=\"background-color:#ffcccc;color:black\">You appear to be running in JupyterLab (or JavaScript failed to load for some other reason).  You need to install the 3dmol extension: <br>\n",
       "        <tt>jupyter labextension install jupyterlab_3dmol</tt></p>\n",
       "        </div>\n",
       "<script>\n",
       "\n",
       "var loadScriptAsync = function(uri){\n",
       "  return new Promise((resolve, reject) => {\n",
       "    //this is to ignore the existence of requirejs amd\n",
       "    var savedexports, savedmodule;\n",
       "    if (typeof exports !== 'undefined') savedexports = exports;\n",
       "    else exports = {}\n",
       "    if (typeof module !== 'undefined') savedmodule = module;\n",
       "    else module = {}\n",
       "\n",
       "    var tag = document.createElement('script');\n",
       "    tag.src = uri;\n",
       "    tag.async = true;\n",
       "    tag.onload = () => {\n",
       "        exports = savedexports;\n",
       "        module = savedmodule;\n",
       "        resolve();\n",
       "    };\n",
       "  var firstScriptTag = document.getElementsByTagName('script')[0];\n",
       "  firstScriptTag.parentNode.insertBefore(tag, firstScriptTag);\n",
       "});\n",
       "};\n",
       "\n",
       "if(typeof $3Dmolpromise === 'undefined') {\n",
       "$3Dmolpromise = null;\n",
       "  $3Dmolpromise = loadScriptAsync('https://cdnjs.cloudflare.com/ajax/libs/3Dmol/2.0.1/3Dmol-min.js');\n",
       "}\n",
       "\n",
       "var viewer_1679475670774659 = null;\n",
       "var warn = document.getElementById(\"3dmolwarning_1679475670774659\");\n",
       "if(warn) {\n",
       "    warn.parentNode.removeChild(warn);\n",
       "}\n",
       "$3Dmolpromise.then(function() {\n",
       "viewer_1679475670774659 = $3Dmol.createViewer(document.getElementById(\"3dmolviewer_1679475670774659\"),{backgroundColor:\"white\"});\n",
       "viewer_1679475670774659.zoomTo();\n",
       "\tviewer_1679475670774659.setViewStyle({\"style\": \"outline\", \"width\": 0.05});\n",
       "\tviewer_1679475670774659.addModel(\"15\\n*\\n C     0.095722    -0.037785    -1.093615\\n C    -0.011848     1.408694    -1.113404\\n C    -0.204706     2.048475     0.052807\\n N    -0.302595     1.390520     1.249226\\n C    -0.214596     0.023933     1.378238\\n N    -0.017387    -0.607231     0.171757\\n O     0.270287    -0.735594    -2.076393\\n C     0.098029     2.096194    -2.424990\\n H     1.052976     1.874860    -2.891573\\n H     0.002157     3.170639    -2.310554\\n H    -0.671531     1.743694    -3.104794\\n O    -0.301905    -0.554734     2.440234\\n H    -0.292790     3.119685     0.106201\\n H     0.053626    -1.612452     0.215637\\n H    -0.446827     1.892203     2.107092\\n\");\n",
       "\tviewer_1679475670774659.setStyle({\"stick\": {}, \"sphere\": {\"scale\": 0.25}});\n",
       "\tviewer_1679475670774659.rotate(-90,\"y\");\n",
       "viewer_1679475670774659.render();\n",
       "});\n",
       "</script>"
      ]
     },
     "metadata": {},
     "output_type": "display_data"
    }
   ],
   "source": [
    "thymine_xyz = \"\"\"15\n",
    "*\n",
    " C     0.095722    -0.037785    -1.093615\n",
    " C    -0.011848     1.408694    -1.113404\n",
    " C    -0.204706     2.048475     0.052807\n",
    " N    -0.302595     1.390520     1.249226\n",
    " C    -0.214596     0.023933     1.378238\n",
    " N    -0.017387    -0.607231     0.171757\n",
    " O     0.270287    -0.735594    -2.076393\n",
    " C     0.098029     2.096194    -2.424990\n",
    " H     1.052976     1.874860    -2.891573\n",
    " H     0.002157     3.170639    -2.310554\n",
    " H    -0.671531     1.743694    -3.104794\n",
    " O    -0.301905    -0.554734     2.440234\n",
    " H    -0.292790     3.119685     0.106201\n",
    " H     0.053626    -1.612452     0.215637\n",
    " H    -0.446827     1.892203     2.107092\n",
    "\"\"\"\n",
    "\n",
    "viewer = py3Dmol.view(width=400, height=300)\n",
    "# black outline for nicer-looking figures\n",
    "viewer.setViewStyle({\"style\": \"outline\", \"width\": 0.05})\n",
    "viewer.addModel(thymine_xyz)\n",
    "# visualize with the sticks and spheres\n",
    "viewer.setStyle({\"stick\":{},\"sphere\": {\"scale\":0.25}})\n",
    "# rotate for a better initial view\n",
    "viewer.rotate(-90, \"y\")\n",
    "viewer.show()"
   ]
  },
  {
   "cell_type": "markdown",
   "id": "97e3f7b9-c3a1-4242-b52f-2e03eb35cd8e",
   "metadata": {},
   "source": [
    "This creates a dynamic view which can be rotated and zoomed in and out.\n",
    "\n",
    "Alternatively, PDF-files can be loaded directly from the PDB-library, and illustrated with different models (here looking at an [XRD structure](https://www.rcsb.org/structure/6w1o) of [photosystem II](https://www.pnas.org/doi/full/10.1073/pnas.2000529117)):"
   ]
  },
  {
   "cell_type": "code",
   "execution_count": 5,
   "id": "7d944853-7958-430b-96a5-7a0d49044acc",
   "metadata": {},
   "outputs": [
    {
     "data": {
      "application/3dmoljs_load.v0": "<div id=\"3dmolviewer_16569392185167198\"  style=\"position: relative; width: 800px; height: 300px\">\n        <p id=\"3dmolwarning_16569392185167198\" style=\"background-color:#ffcccc;color:black\">You appear to be running in JupyterLab (or JavaScript failed to load for some other reason).  You need to install the 3dmol extension: <br>\n        <tt>jupyter labextension install jupyterlab_3dmol</tt></p>\n        </div>\n<script>\n\nvar loadScriptAsync = function(uri){\n  return new Promise((resolve, reject) => {\n    var tag = document.createElement('script');\n    tag.src = uri;\n    tag.async = true;\n    tag.onload = () => {\n      resolve();\n    };\n  var firstScriptTag = document.getElementsByTagName('script')[0];\n  firstScriptTag.parentNode.insertBefore(tag, firstScriptTag);\n});\n};\n\nif(typeof $3Dmolpromise === 'undefined') {\n$3Dmolpromise = null;\n  $3Dmolpromise = loadScriptAsync('https://3dmol.org/build/3Dmol.js');\n}\n\nvar viewer_16569392185167198 = null;\nvar warn = document.getElementById(\"3dmolwarning_16569392185167198\");\nif(warn) {\n    warn.parentNode.removeChild(warn);\n}\n$3Dmolpromise.then(function() {\nvar viewergrid_16569392185167198 = null;\nviewergrid_16569392185167198 = $3Dmol.createViewerGrid($(\"#3dmolviewer_16569392185167198\"),{rows: 1, cols: 3, control_all: false},{backgroundColor:\"white\"});\nviewer_16569392185167198 = viewergrid_16569392185167198[0][0];\n$3Dmol.download(\"pdb:6W1O\", viewergrid_16569392185167198[0][0], {}, function() {\n$3Dmol.download(\"pdb:6W1O\", viewergrid_16569392185167198[0][1], {}, function() {\n$3Dmol.download(\"pdb:6W1O\", viewergrid_16569392185167198[0][2], {}, function() {\nviewergrid_16569392185167198[0][0].zoomTo();viewergrid_16569392185167198[0][1].zoomTo();viewergrid_16569392185167198[0][2].zoomTo();\tviewergrid_16569392185167198[0][1].setStyle({\"cartoon\": {\"color\": \"spectrum\"}});\n\tviewergrid_16569392185167198[0][2].setStyle({\"cartoon\": {}});\n\tviewergrid_16569392185167198[0][2].addStyle({\"elem\": \"Mn\"},{\"sphere\": {\"color\": \"red\"}});\n\tviewergrid_16569392185167198[0][2].addStyle({\"elem\": \"Ca\"},{\"sphere\": {\"color\": \"yellow\"}});\nviewergrid_16569392185167198[0][2].render();\nviewergrid_16569392185167198[0][1].render();\nviewergrid_16569392185167198[0][0].render();\n})\n})\n})\n});\n</script>",
      "text/html": [
       "<div id=\"3dmolviewer_16569392185167198\"  style=\"position: relative; width: 800px; height: 300px\">\n",
       "        <p id=\"3dmolwarning_16569392185167198\" style=\"background-color:#ffcccc;color:black\">You appear to be running in JupyterLab (or JavaScript failed to load for some other reason).  You need to install the 3dmol extension: <br>\n",
       "        <tt>jupyter labextension install jupyterlab_3dmol</tt></p>\n",
       "        </div>\n",
       "<script>\n",
       "\n",
       "var loadScriptAsync = function(uri){\n",
       "  return new Promise((resolve, reject) => {\n",
       "    var tag = document.createElement('script');\n",
       "    tag.src = uri;\n",
       "    tag.async = true;\n",
       "    tag.onload = () => {\n",
       "      resolve();\n",
       "    };\n",
       "  var firstScriptTag = document.getElementsByTagName('script')[0];\n",
       "  firstScriptTag.parentNode.insertBefore(tag, firstScriptTag);\n",
       "});\n",
       "};\n",
       "\n",
       "if(typeof $3Dmolpromise === 'undefined') {\n",
       "$3Dmolpromise = null;\n",
       "  $3Dmolpromise = loadScriptAsync('https://3dmol.org/build/3Dmol.js');\n",
       "}\n",
       "\n",
       "var viewer_16569392185167198 = null;\n",
       "var warn = document.getElementById(\"3dmolwarning_16569392185167198\");\n",
       "if(warn) {\n",
       "    warn.parentNode.removeChild(warn);\n",
       "}\n",
       "$3Dmolpromise.then(function() {\n",
       "var viewergrid_16569392185167198 = null;\n",
       "viewergrid_16569392185167198 = $3Dmol.createViewerGrid($(\"#3dmolviewer_16569392185167198\"),{rows: 1, cols: 3, control_all: false},{backgroundColor:\"white\"});\n",
       "viewer_16569392185167198 = viewergrid_16569392185167198[0][0];\n",
       "$3Dmol.download(\"pdb:6W1O\", viewergrid_16569392185167198[0][0], {}, function() {\n",
       "$3Dmol.download(\"pdb:6W1O\", viewergrid_16569392185167198[0][1], {}, function() {\n",
       "$3Dmol.download(\"pdb:6W1O\", viewergrid_16569392185167198[0][2], {}, function() {\n",
       "viewergrid_16569392185167198[0][0].zoomTo();viewergrid_16569392185167198[0][1].zoomTo();viewergrid_16569392185167198[0][2].zoomTo();\tviewergrid_16569392185167198[0][1].setStyle({\"cartoon\": {\"color\": \"spectrum\"}});\n",
       "\tviewergrid_16569392185167198[0][2].setStyle({\"cartoon\": {}});\n",
       "\tviewergrid_16569392185167198[0][2].addStyle({\"elem\": \"Mn\"},{\"sphere\": {\"color\": \"red\"}});\n",
       "\tviewergrid_16569392185167198[0][2].addStyle({\"elem\": \"Ca\"},{\"sphere\": {\"color\": \"yellow\"}});\n",
       "viewergrid_16569392185167198[0][2].render();\n",
       "viewergrid_16569392185167198[0][1].render();\n",
       "viewergrid_16569392185167198[0][0].render();\n",
       "})\n",
       "})\n",
       "})\n",
       "});\n",
       "</script>"
      ]
     },
     "metadata": {},
     "output_type": "display_data"
    }
   ],
   "source": [
    "viewer = py3Dmol.view(\n",
    "    query=\"pdb:6W1O\", viewergrid=(1, 3), width=800, height=300, linked=False\n",
    ")\n",
    "viewer.setStyle({\"cartoon\": {\"color\": \"spectrum\"}}, viewer=(0, 1))\n",
    "viewer.setStyle({\"cartoon\": {}}, viewer=(0, 2))\n",
    "viewer.addStyle({\"elem\": \"Mn\"}, {\"sphere\": {\"color\": \"red\"}}, viewer=(0, 2))\n",
    "viewer.addStyle({\"elem\": \"Ca\"}, {\"sphere\": {\"color\": \"yellow\"}}, viewer=(0, 2))\n",
    "viewer.show()"
   ]
  },
  {
   "cell_type": "markdown",
   "id": "67cca7b6-8d1e-4eec-87ee-134718869c29",
   "metadata": {},
   "source": [
    "Here we illustrate this by line structure, and more cartoonish image with and without coloring different strands differently. To the right we see white ribbons with manganese and calcium atoms colored in red and yellow, respectively. These shows the position of the oxygen-evolving complex of photosystem II, which is the site of water-splitting and oxygen generation."
   ]
  },
  {
   "cell_type": "code",
   "execution_count": null,
   "id": "38115af2-3b2f-4532-971b-c312bb291e11",
   "metadata": {},
   "outputs": [],
   "source": []
  }
 ],
 "metadata": {
  "kernelspec": {
   "display_name": "Python 3 (ipykernel)",
   "language": "python",
   "name": "python3"
  },
  "language_info": {
   "codemirror_mode": {
    "name": "ipython",
    "version": 3
   },
   "file_extension": ".py",
   "mimetype": "text/x-python",
   "name": "python",
   "nbconvert_exporter": "python",
   "pygments_lexer": "ipython3",
   "version": "3.11.5"
  }
 },
 "nbformat": 4,
 "nbformat_minor": 5
}
