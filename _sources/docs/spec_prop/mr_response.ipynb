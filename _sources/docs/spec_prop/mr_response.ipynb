{
 "cells": [
  {
   "cell_type": "markdown",
   "id": "089a4c7b",
   "metadata": {},
   "source": [
    "# Multireference methods\n",
    "\n",
    "In this section, we will describe how to use response theory to obtain excited state properties at the CI and MCSCF level.\n",
    "\n",
    "- [Configuration interaction (CI) response](ci_response) <br>\n",
    "A direct application of exact state response to full and truncated CI.\n",
    "- [State-averaged MCSCF](sa_mcscf) <br>\n",
    "A straightforward generalization of CI response to obtain excited state properties at the MCSCF level.\n",
    "- [Multiconfigurational linear response](mclr) <br>\n",
    "The full linear response for MCSCF wavefunctions.\n",
    "- [Exercises](mr_exercises) <br>\n",
    "Applications of MCSCF to photochemistry and spectroscopy."
   ]
  },
  {
   "cell_type": "code",
   "execution_count": null,
   "id": "819c3b0f-c6e3-4e25-8f62-e20ae868f18c",
   "metadata": {},
   "outputs": [],
   "source": []
  }
 ],
 "metadata": {
  "celltoolbar": "Tags",
  "kernelspec": {
   "display_name": "Python 3 (ipykernel)",
   "language": "python",
   "name": "python3"
  },
  "language_info": {
   "codemirror_mode": {
    "name": "ipython",
    "version": 3
   },
   "file_extension": ".py",
   "mimetype": "text/x-python",
   "name": "python",
   "nbconvert_exporter": "python",
   "pygments_lexer": "ipython3",
   "version": "3.10.12"
  }
 },
 "nbformat": 4,
 "nbformat_minor": 5
}
