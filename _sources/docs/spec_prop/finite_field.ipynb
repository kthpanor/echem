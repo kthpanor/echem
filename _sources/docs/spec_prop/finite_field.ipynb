{
 "cells": [
  {
   "cell_type": "markdown",
   "id": "f6ce7391-df29-4142-8e33-dab81e3cea42",
   "metadata": {
    "editable": true,
    "slideshow": {
     "slide_type": ""
    },
    "tags": []
   },
   "source": [
    "# Finite field method\n",
    "\n",
    "The finite field method denotes the calculation of molecular properties of a given order by means of numerical differentiation of lower-order molecular properties. It is typically applied to the determination of electric properties since it is trivial to incorporate uniform static electric fields in the molecular Hamiltonian and carry out calculations in the presence of these fields.\n",
    "\n",
    "Compared to analytic derivative techniques, finite field calculations are slower and less accurate but their appeal lies in the ease of implementation."
   ]
  },
  {
   "cell_type": "markdown",
   "id": "3af60db4-9df3-4aae-9f3b-53caea2ef5d4",
   "metadata": {
    "editable": true,
    "slideshow": {
     "slide_type": ""
    },
    "tags": []
   },
   "source": [
    "## Energy expansion\n",
    "\n",
    "In the presence of a uniform static electric field, the molecular energy becomes equal to\n",
    "\n",
    "$$\n",
    "E(F) = E_0 - \\mu_{\\alpha} F_\\alpha -\n",
    "\\frac{1}{2} \\alpha_{\\alpha\\beta} F_\\alpha F_\\beta -\n",
    "\\frac{1}{6} \\beta_{\\alpha\\beta\\gamma} F_\\alpha F_\\beta F_\\gamma -\n",
    "\\frac{1}{24} \\gamma_{\\alpha\\beta\\gamma\\delta} F_\\alpha F_\\beta F_\\gamma F_\\delta - \\cdots\n",
    "$$\n",
    "\n",
    "where the molecular property tensors $\\mu$, $\\alpha$, $\\beta$, and $\\gamma$ are the permanent dipole moment, polarizabilty, first-order hyperpolarizability, and second-order hyperpolarizability, respectively. These molecular properties refer to the isolated system and can thus be identified from derivatives of the energy in the limit of zero field strength:\n",
    "\n",
    "\\begin{align*}\n",
    "\\mu_{\\alpha} & = \n",
    "- \\left. \\frac{\\partial E(F)}{\\partial F_\\alpha} \\right|_{F = 0} \\\\\n",
    "\\alpha_{\\alpha\\beta}(0;0) & = \n",
    "- \\left. \\frac{\\partial^2 E(F)}{\\partial F_\\alpha \\partial F_\\beta} \\right|_{F = 0} \\\\\n",
    "\\beta_{\\alpha\\beta\\gamma}(0;0,0) & = \n",
    "- \\left. \\frac{\\partial^3 E(F)}{\\partial F_\\alpha \\partial F_\\beta \\partial F_\\gamma} \\right|_{F = 0} \\\\\n",
    "\\gamma_{\\alpha\\beta\\gamma\\delta}(0;0,0,0) & = \n",
    "- \\left. \\frac{\\partial^4 E(F)}{\\partial F_\\alpha \\partial F_\\beta \\partial F_\\gamma \\partial F_\\delta} \\right|_{F = 0} \n",
    "\\end{align*}"
   ]
  },
  {
   "cell_type": "markdown",
   "id": "d3076e28-040e-4423-929f-5b1b0c0c3df8",
   "metadata": {
    "editable": true,
    "slideshow": {
     "slide_type": ""
    },
    "tags": []
   },
   "source": [
    "## Dipole moment expansion\n",
    "\n",
    "It is also possible to define a dipole moment of the system in the *presence* of the external field. This field-dependent dipole moment take the form\n",
    "\n",
    "$$\n",
    "\\mu_\\alpha^F = \\mu_\\alpha + \\alpha_{\\alpha\\beta} F_\\beta +\n",
    "\\frac{1}{2} \\beta_{\\alpha\\beta\\gamma} F_\\beta F_\\gamma +\n",
    "\\frac{1}{6} \\gamma_{\\alpha\\beta\\gamma\\delta} F_\\beta F_\\gamma F_\\delta - \\cdots\n",
    "$$\n",
    "\n",
    "We then get\n",
    "\n",
    "\\begin{align*}\n",
    "\\alpha_{\\alpha\\beta}(0;0) & = \n",
    "\\left. \\frac{\\partial \\mu_\\alpha^F}{\\partial F_\\beta } \\right|_{F = 0} \\\\\n",
    "\\beta_{\\alpha\\beta\\gamma}(0;0,0) & = \\left. \\frac{\\partial^2 \\mu_\\alpha^F}{\\partial F_\\beta \\partial F_\\gamma} \\right|_{F = 0} \\\\\n",
    "\\gamma_{\\alpha\\beta\\gamma\\delta}(0;0,0,0) & = \n",
    "\\left. \\frac{\\partial^3 \\mu_\\alpha^F}{\\partial F_\\beta \\partial F_\\gamma \\partial F_\\delta} \\right|_{F = 0} \n",
    "\\end{align*}"
   ]
  },
  {
   "cell_type": "markdown",
   "id": "4a407422-207d-44af-bb4f-64d794a31b11",
   "metadata": {
    "editable": true,
    "slideshow": {
     "slide_type": ""
    },
    "tags": []
   },
   "source": [
    "## Polarizability expansion\n",
    "\n",
    "It is also possible to define a polarizability of the system in the *presence* of the external field. This field-dependent polarizability takes the form\n",
    "\n",
    "$$\n",
    "\\alpha_{\\alpha\\beta}^F(-\\omega;\\omega) = \\alpha_{\\alpha\\beta}(-\\omega;\\omega) +\n",
    "\\beta_{\\alpha\\beta\\gamma}(-\\omega;\\omega,0) F_\\gamma +\n",
    "\\frac{1}{2} \\gamma_{\\alpha\\beta\\gamma\\delta}(-\\omega;\\omega,0,0) F_\\gamma F_\\delta - \\cdots\n",
    "$$\n",
    "\n",
    "We then get\n",
    "\n",
    "\\begin{align*}\n",
    "\\beta_{\\alpha\\beta\\gamma}(-\\omega;\\omega,0) & = \n",
    "\\left. \\frac{\\partial^2 \\alpha_{\\alpha\\beta}^F(-\\omega;\\omega)}{\\partial F_\\gamma} \\right|_{F = 0} \\\\\n",
    "\\gamma_{\\alpha\\beta\\gamma\\delta}(-\\omega;\\omega,0,0) & = \n",
    "\\left. \\frac{\\partial^2 \\alpha_{\\alpha\\beta}^F(-\\omega;\\omega)}{\\partial F_\\beta \\partial F_\\gamma \\partial F_\\delta} \\right|_{F = 0} \n",
    "\\end{align*}"
   ]
  },
  {
   "cell_type": "markdown",
   "id": "e1219956-e2fe-4b4a-8e19-e2ecf277f4c6",
   "metadata": {
    "editable": true,
    "slideshow": {
     "slide_type": ""
    },
    "tags": []
   },
   "source": [
    "## Hyperpolarizability expansion\n",
    "\n",
    "It is also possible to define a hyperpolarizability of the system in the *presence* of the external field. This field-dependent hyperpolarizability takes the form\n",
    "\n",
    "$$\n",
    "\\beta_{\\alpha\\beta\\gamma}^F(-\\omega_\\sigma;\\omega_1, \\omega_2) = \n",
    "\\beta_{\\alpha\\beta\\gamma}(-\\omega_\\sigma;\\omega_1,\\omega_2) +\n",
    "\\gamma_{\\alpha\\beta\\gamma\\delta}(-\\omega_\\sigma;\\omega_1,\\omega_2,0) F_\\delta - \\cdots\n",
    "$$\n",
    "\n",
    "We then get\n",
    "\n",
    "\\begin{align*}\n",
    "\\gamma_{\\alpha\\beta\\gamma\\delta}(-\\omega_\\sigma;\\omega_1,\\omega_2,0) & = \n",
    "\\left. \\frac{\\partial^2 \\beta_{\\alpha\\beta\\gamma}^F(-\\omega_\\sigma;\\omega_1,\\omega_2)}{\\partial F_\\delta} \\right|_{F = 0} \n",
    "\\end{align*}\n",
    "\n",
    "where $\\omega_\\sigma = \\omega_1+ \\omega_2$."
   ]
  },
  {
   "cell_type": "markdown",
   "id": "1692d3c5-d0a1-47cf-acd0-ab4fd03336f9",
   "metadata": {
    "editable": true,
    "slideshow": {
     "slide_type": ""
    },
    "tags": []
   },
   "source": [
    "## Numerical example\n",
    "\n",
    "Let us illustrate the finite field method with practical example."
   ]
  },
  {
   "cell_type": "code",
   "execution_count": 1,
   "id": "de1dc2e4-74e7-4864-9004-e9dba027c064",
   "metadata": {
    "editable": true,
    "scrolled": true,
    "slideshow": {
     "slide_type": ""
    },
    "tags": [
     "remove-output"
    ]
   },
   "outputs": [],
   "source": [
    "import numpy as np\n",
    "import veloxchem as vlx"
   ]
  },
  {
   "cell_type": "markdown",
   "id": "a7b5653e-737a-46b3-b675-0a045631b64f",
   "metadata": {
    "editable": true,
    "slideshow": {
     "slide_type": ""
    },
    "tags": []
   },
   "source": [
    "We define a water molecule with the dipole moment aligned along the positive *z*-axis."
   ]
  },
  {
   "cell_type": "code",
   "execution_count": 2,
   "id": "6c142662-cdc2-4804-970d-a23ca22985ff",
   "metadata": {
    "editable": true,
    "scrolled": true,
    "slideshow": {
     "slide_type": ""
    },
    "tags": []
   },
   "outputs": [],
   "source": [
    "h2o_xyz = \"\"\"3\n",
    "\n",
    "O    0.000000000000        0.000000000000        0.000000000000\n",
    "H    0.000000000000        0.740848095288        0.582094932012\n",
    "H    0.000000000000       -0.740848095288        0.582094932012\n",
    "\"\"\"\n",
    "\n",
    "molecule = vlx.Molecule.read_xyz_string(h2o_xyz)\n",
    "basis = vlx.MolecularBasis.read(molecule, \"def2-svpd\", ostream=None)"
   ]
  },
  {
   "cell_type": "markdown",
   "id": "3479fa97-8ede-4128-978d-61d74a906db4",
   "metadata": {
    "editable": true,
    "raw_mimetype": "",
    "slideshow": {
     "slide_type": ""
    },
    "tags": []
   },
   "source": [
    "Setting up drivers for:\n",
    "- SCF optimization\n",
    "- first-order properties (for now an explicit function, will be changed later)\n",
    "- linear response function (real)\n",
    "- quadratic response function (complex)\n",
    "- cubic response function (complex)"
   ]
  },
  {
   "cell_type": "code",
   "execution_count": 3,
   "id": "9ecf7b9b-70b6-4a26-917f-647f7ecb359a",
   "metadata": {
    "editable": true,
    "jupyter": {
     "source_hidden": true
    },
    "scrolled": true,
    "slideshow": {
     "slide_type": ""
    },
    "tags": [
     "hide-input"
    ]
   },
   "outputs": [],
   "source": [
    "scf_drv = vlx.ScfRestrictedDriver()\n",
    "scf_drv.ostream.mute()\n",
    "\n",
    "scf_drv.xcfun = \"b3lyp\""
   ]
  },
  {
   "cell_type": "code",
   "execution_count": 4,
   "id": "b9ef9877-ca6a-4d22-a2ce-13cc02a9bcd6",
   "metadata": {
    "editable": true,
    "jupyter": {
     "source_hidden": true
    },
    "slideshow": {
     "slide_type": ""
    },
    "tags": [
     "hide-input"
    ]
   },
   "outputs": [],
   "source": [
    "element_charges = {\"H\": 1.0, \"O\": 8.0}\n",
    "\n",
    "# electric-dipole\n",
    "dipole_drv = vlx.ElectricDipoleIntegralsDriver()\n",
    "\n",
    "dipole_mats = dipole_drv.compute(molecule, basis)\n",
    "\n",
    "mu_x = -1.0 * dipole_mats.x_to_numpy()\n",
    "mu_y = -1.0 * dipole_mats.y_to_numpy()\n",
    "mu_z = -1.0 * dipole_mats.z_to_numpy()\n",
    "\n",
    "\n",
    "def dipmom(D):\n",
    "    mu_e = np.zeros(3)\n",
    "    mu_n = np.zeros(3)\n",
    "\n",
    "    # electronic part\n",
    "    mu_e[0] = np.einsum(\"ab, ab\", D, mu_x)\n",
    "    mu_e[1] = np.einsum(\"ab, ab\", D, mu_y)\n",
    "    mu_e[2] = np.einsum(\"ab, ab\", D, mu_z)\n",
    "\n",
    "    # nuclear part\n",
    "    for A, molecule_atom_label in enumerate(molecule.get_labels()):\n",
    "        R_A = np.array(molecule.get_atom_coordinates(A))\n",
    "        Z_A = element_charges[molecule_atom_label]\n",
    "\n",
    "        mu_n += Z_A * R_A\n",
    "\n",
    "    # total dipole moment\n",
    "    mu = mu_e + mu_n\n",
    "\n",
    "    return mu[2]"
   ]
  },
  {
   "cell_type": "code",
   "execution_count": 5,
   "id": "b36ab0d5-74ec-4cd3-a6ac-1ad60055748c",
   "metadata": {
    "editable": true,
    "jupyter": {
     "source_hidden": true
    },
    "slideshow": {
     "slide_type": ""
    },
    "tags": [
     "hide-input"
    ]
   },
   "outputs": [],
   "source": [
    "lrf_drv = vlx.LinearResponseSolver()\n",
    "\n",
    "lrf_drv.ostream.mute()\n",
    "\n",
    "lrf_drv.a_operator = \"electric dipole\"\n",
    "lrf_drv.b_operator = \"electric dipole\"\n",
    "\n",
    "lrf_drv.a_components = \"z\"\n",
    "lrf_drv.b_components = \"z\"\n",
    "\n",
    "lrf_drv.frequencies = [0.0]"
   ]
  },
  {
   "cell_type": "code",
   "execution_count": 6,
   "id": "4ff14c57-3a9a-42c5-bcfb-2465106ec89e",
   "metadata": {
    "editable": true,
    "jupyter": {
     "source_hidden": true
    },
    "slideshow": {
     "slide_type": ""
    },
    "tags": [
     "hide-input"
    ]
   },
   "outputs": [],
   "source": [
    "qrf_drv = vlx.QuadraticResponseDriver()\n",
    "\n",
    "qrf_drv.ostream.mute()\n",
    "\n",
    "qrf_drv.a_component = \"z\"\n",
    "qrf_drv.b_component = \"z\"\n",
    "qrf_drv.c_component = \"z\"\n",
    "\n",
    "qrf_drv.b_frequencies = [0.0]\n",
    "qrf_drv.c_frequencies = [0.0]\n",
    "\n",
    "qrf_drv.damping = 0.0"
   ]
  },
  {
   "cell_type": "code",
   "execution_count": 7,
   "id": "603e2eae-f7af-405e-ab83-b655b0b1aedd",
   "metadata": {
    "editable": true,
    "jupyter": {
     "source_hidden": true
    },
    "slideshow": {
     "slide_type": ""
    },
    "tags": [
     "hide-input"
    ]
   },
   "outputs": [],
   "source": [
    "crf_drv = vlx.CubicResponseDriver()\n",
    "\n",
    "crf_drv.ostream.mute()\n",
    "\n",
    "crf_drv.a_component = \"z\"\n",
    "crf_drv.b_component = \"z\"\n",
    "crf_drv.c_component = \"z\"\n",
    "crf_drv.d_component = \"z\"\n",
    "\n",
    "crf_drv.b_frequencies = [0.0]\n",
    "crf_drv.c_frequencies = [0.0]\n",
    "crf_drv.d_frequencies = [0.0]\n",
    "\n",
    "crf_drv.damping = 0.0"
   ]
  },
  {
   "cell_type": "markdown",
   "id": "8b8fc8d4-9454-47ba-8acc-f5108e34056e",
   "metadata": {
    "editable": true,
    "slideshow": {
     "slide_type": ""
    },
    "tags": []
   },
   "source": [
    "### Numerical differentiation\n",
    "\n",
    "Up to fourth-order numerical derivatives are calculated with use of a one-dimensional [five-point stencil](https://en.wikipedia.org/wiki/Five-point_stencil)."
   ]
  },
  {
   "cell_type": "code",
   "execution_count": 8,
   "id": "8a95a55c-3f7b-4665-bb0d-d3fcf966ca1c",
   "metadata": {
    "editable": true,
    "slideshow": {
     "slide_type": ""
    },
    "tags": []
   },
   "outputs": [],
   "source": [
    "def numerical_derivatives(f):\n",
    "    # numerical differentiation based on the five-point stencil\n",
    "\n",
    "    d1 = (-f[2 * h] + 8 * f[h] - 8 * f[-h] + f[-2 * h]) / (12 * h)\n",
    "    d2 = (-f[2 * h] + 16 * f[h] - 30 * f[0.0] + 16 * f[-h] - f[-2 * h]) / (12 * h**2)\n",
    "    d3 = (f[2 * h] - 2 * f[h] + 2 * f[-h] - f[-2 * h]) / (2 * h**3)\n",
    "    d4 = (f[2 * h] - 4 * f[h] + 6 * f[0.0] - 4 * f[-h] + f[-2 * h]) / h**4\n",
    "\n",
    "    return (d1, d2, d3, d4)"
   ]
  },
  {
   "cell_type": "markdown",
   "id": "f55b275a-ba35-45e0-af79-87f9a9648d02",
   "metadata": {
    "editable": true,
    "slideshow": {
     "slide_type": ""
    },
    "tags": []
   },
   "source": [
    "### Field-dependent molecular properties\n",
    "\n",
    "The following static molecular properties are determined as functions of the strength, $F$, of the electric field applied along the positive *z*-axis:\n",
    "\n",
    "- electronic energy, $E(F)$\n",
    "- dipole moment, $\\mu_z^F$\n",
    "- polarizability, $\\alpha_{zz}^F(0;0)$\n",
    "- first-order hyperpolarizaiblity, $\\beta_{zzz}^F(0;0,0)$\n",
    "- second-order hyperpolarizaiblity, $\\gamma_{zzzz}^F(0;0,0,0)$"
   ]
  },
  {
   "cell_type": "code",
   "execution_count": 12,
   "id": "db20b247-3fd5-4a39-bbb4-8cb96a9204eb",
   "metadata": {
    "editable": true,
    "scrolled": true,
    "slideshow": {
     "slide_type": ""
    },
    "tags": [
     "remove_output"
    ]
   },
   "outputs": [],
   "source": [
    "E = {}\n",
    "mu = {}\n",
    "alpha = {}\n",
    "beta = {}\n",
    "gamma = {}\n",
    "\n",
    "h = 0.001\n",
    "field_strengths = np.linspace(-2, 2, 5) * h # five-point stencil\n",
    "\n",
    "for F in field_strengths:\n",
    "    scf_drv.electric_field = [0.0, 0.0, F]\n",
    "    scf_results = scf_drv.compute(molecule, basis)\n",
    "\n",
    "    E[F] = scf_results[\"scf_energy\"]\n",
    "\n",
    "    mu[F] = dipmom(scf_results[\"D_alpha\"] + scf_results[\"D_beta\"])\n",
    "\n",
    "    lrf_results = lrf_drv.compute(molecule, basis, scf_results)\n",
    "    alpha[F] = -lrf_results[\"response_functions\"][(\"z\", \"z\", 0.0)]\n",
    "\n",
    "    qrf_results = qrf_drv.compute(molecule, basis, scf_results)\n",
    "    beta[F] = -qrf_results[('qrf', 0.0, 0.0)]\n",
    "\n",
    "    crf_results = crf_drv.compute(molecule, basis, scf_results)\n",
    "    gamma[F] = -crf_results[('crf', 0.0, 0.0, 0.0)]"
   ]
  },
  {
   "cell_type": "markdown",
   "id": "59391f85-1aaa-4ab7-a701-7b5468290972",
   "metadata": {
    "editable": true,
    "slideshow": {
     "slide_type": ""
    },
    "tags": []
   },
   "source": [
    "### Calculate derivatives"
   ]
  },
  {
   "cell_type": "code",
   "execution_count": 10,
   "id": "b1ae28bb-de7c-409e-8d1c-1f8ab2531938",
   "metadata": {
    "editable": true,
    "slideshow": {
     "slide_type": ""
    },
    "tags": []
   },
   "outputs": [],
   "source": [
    "dE = numerical_derivatives(E)\n",
    "dmu = numerical_derivatives(mu)\n",
    "dalpha = numerical_derivatives(alpha)\n",
    "dbeta = numerical_derivatives(beta)"
   ]
  },
  {
   "cell_type": "markdown",
   "id": "9197fbab-37a0-4ceb-8f71-5024f7d44965",
   "metadata": {
    "editable": true,
    "slideshow": {
     "slide_type": ""
    },
    "tags": []
   },
   "source": [
    "### Results"
   ]
  },
  {
   "cell_type": "code",
   "execution_count": 11,
   "id": "5132a8bd-ef51-4990-9120-533be1441010",
   "metadata": {
    "editable": true,
    "slideshow": {
     "slide_type": ""
    },
    "tags": []
   },
   "outputs": [
    {
     "name": "stdout",
     "output_type": "stream",
     "text": [
      "--------------------------------------------------\n",
      "                    Molecular properties\n",
      "          ----------------------------------------\n",
      "Method            mu     alpha      beta     gamma\n",
      "--------------------------------------------------\n",
      "Analytic derivatives\n",
      "            0.744762   9.34779  -6.73492   999.154\n",
      "\n",
      "Numerical differentiation\n",
      " -energy    0.744763   9.34779  -6.71196  1046.601\n",
      " -mu                   9.34781  -6.73532   999.819\n",
      " -alpha                         -6.73499   999.151\n",
      " -beta                                     999.159\n",
      "--------------------------------------------------\n"
     ]
    }
   ],
   "source": [
    "print(\"-\"*50)\n",
    "print(f\"{'Molecular properties':>40s}\")\n",
    "print(\" \"*10 + \"-\"*40)\n",
    "print(f\"{'Method':10s}{'mu':>10s}{'alpha':>10s}{'beta':>10s}{'gamma':>10s}\")\n",
    "print(\"-\"*50)\n",
    "print(\"Analytic derivatives\")\n",
    "print(f\"{'':10s}{mu[0.0]:10.6f}{alpha[0.0]:10.5f}{beta[0.0].real:10.5f}{gamma[0.0].real:10.3f}\")\n",
    "print(\"\\nNumerical differentiation\")\n",
    "print(f\"{' -energy':10s}{-dE[0]:10.6f}{-dE[1]:10.5f}{-dE[2]:10.5f}{-dE[3]:10.3f}\")\n",
    "print(f\"{' -mu':10s}{'':10s}{dmu[0]:10.5f}{dmu[1]:10.5f}{dmu[2]:10.3f}\")\n",
    "print(f\"{' -alpha':10s}{'':10s}{'':10s}{dalpha[0]:10.5f}{dalpha[1]:10.3f}\")\n",
    "print(f\"{' -beta':10s}{'':10s}{'':10s}{'':10s}{dbeta[0].real:10.3f}\")\n",
    "print(\"-\"*50)"
   ]
  },
  {
   "cell_type": "markdown",
   "id": "63ef17a2-b83f-4d8a-9f9f-01f96f7a1290",
   "metadata": {
    "editable": true,
    "slideshow": {
     "slide_type": ""
    },
    "tags": []
   },
   "source": [
    "Using the results obtained with analytic derivatives as reference, we note that up to second-order derivatives are quite stable with the chosen thresholds of convergence (in the SCF optimization and response equation solvers) and strength of the applied field. Fourth-order derivatives are not reliable as seen in the result for $\\gamma_{zzzz}(0;0,0,0)$ based on differentiation of the energy."
   ]
  }
 ],
 "metadata": {
  "kernelspec": {
   "display_name": "Python 3 (ipykernel)",
   "language": "python",
   "name": "python3"
  },
  "language_info": {
   "codemirror_mode": {
    "name": "ipython",
    "version": 3
   },
   "file_extension": ".py",
   "mimetype": "text/x-python",
   "name": "python",
   "nbconvert_exporter": "python",
   "pygments_lexer": "ipython3",
   "version": "3.11.6"
  }
 },
 "nbformat": 4,
 "nbformat_minor": 5
}
