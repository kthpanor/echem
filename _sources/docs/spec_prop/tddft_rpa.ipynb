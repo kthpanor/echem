{
 "cells": [
  {
   "cell_type": "markdown",
   "id": "82a99743-db37-4e5e-bc1d-be3c9e5ea9d1",
   "metadata": {
    "editable": true,
    "slideshow": {
     "slide_type": ""
    },
    "tags": []
   },
   "source": [
    "# RPA equation\n",
    "\n",
    "\n",
    "The linear response TDDFT equations involves the solution of a non-Hermitian eigenvalue equation which can be written as\n",
    "\n",
    "$$\n",
    "\\left(\n",
    "\\begin{array}{cc}\n",
    "\\mathbf{A} & \\mathbf{B} \\\\\n",
    "\\mathbf{B}^* & \\mathbf{A}^*\n",
    "\\end{array}\n",
    "\\right) \n",
    "\\left(\n",
    "\\begin{array}{c}\n",
    "\\mathbf{X} \\\\\n",
    "\\mathbf{Y}\n",
    "\\end{array}\n",
    "\\right) \n",
    "= \\omega\n",
    "\\left(\n",
    "\\begin{array}{cc}\n",
    "\\mathbf{1} & \\mathbf{0} \\\\\n",
    "\\mathbf{0} & \\mathbf{-1}\n",
    "\\end{array}\n",
    "\\right) \n",
    "\\left(\n",
    "\\begin{array}{c}\n",
    "\\mathbf{X} \\\\\n",
    "\\mathbf{Y}\n",
    "\\end{array}\n",
    "\\right) \n",
    "$$\n",
    "\n",
    "From this, excitation energies and transition amplitudes are obtained from the eigenvalues and corresponding eigenvectors, respectively. For historical reasons, this is referred to as the random-phase approximation (RPA) within TDHF theory, and we adopt this naming convention also for TDDFT.\n",
    "\n",
    "As an example, consider the ethylene molecule:"
   ]
  },
  {
   "cell_type": "code",
   "execution_count": 1,
   "id": "534fd1fa-37dd-48bd-b4ba-1a68f36a0796",
   "metadata": {
    "editable": true,
    "slideshow": {
     "slide_type": ""
    },
    "tags": [
     "hide-input",
     "remove-output"
    ]
   },
   "outputs": [
    {
     "name": "stderr",
     "output_type": "stream",
     "text": [
      "[thomas-Latitude-5580:27821] mca_base_component_repository_open: unable to open mca_btl_openib: librdmacm.so.1: cannot open shared object file: No such file or directory (ignored)\n"
     ]
    },
    {
     "name": "stdout",
     "output_type": "stream",
     "text": [
      "* Warning * Environment variable OMP_NUM_THREADS not set.\n",
      "* Warning * Setting OMP_NUM_THREADS to 4.\n"
     ]
    }
   ],
   "source": [
    "import py3Dmol as p3d\n",
    "import veloxchem as vlx\n",
    "import matplotlib.pyplot as plt\n",
    "import numpy as np\n",
    "from valet import transition_analysis_utils as tau"
   ]
  },
  {
   "cell_type": "code",
   "execution_count": 2,
   "id": "9066ce9b-cd27-4232-ab9a-39db273e8bb5",
   "metadata": {
    "editable": true,
    "slideshow": {
     "slide_type": ""
    },
    "tags": []
   },
   "outputs": [],
   "source": [
    "ethene_xyz = \"\"\"6\n",
    "\n",
    "C        0.67759997    0.00000000    0.00000000\n",
    "C       -0.67759997    0.00000000    0.00000000\n",
    "H        1.21655197    0.92414474    0.00000000\n",
    "H        1.21655197   -0.92414474    0.00000000\n",
    "H       -1.21655197   -0.92414474    0.00000000\n",
    "H       -1.21655197    0.92414474    0.00000000\n",
    "\"\"\""
   ]
  },
  {
   "cell_type": "code",
   "execution_count": 3,
   "id": "4d7de92f-e435-464a-a906-95e73624cc6e",
   "metadata": {
    "editable": true,
    "slideshow": {
     "slide_type": ""
    },
    "tags": [
     "remove-input"
    ]
   },
   "outputs": [
    {
     "data": {
      "application/3dmoljs_load.v0": "<div id=\"3dmolviewer_1701686636767196\"  style=\"position: relative; width: 400px; height: 300px;\">\n        <p id=\"3dmolwarning_1701686636767196\" style=\"background-color:#ffcccc;color:black\">You appear to be running in JupyterLab (or JavaScript failed to load for some other reason).  You need to install the 3dmol extension: <br>\n        <tt>jupyter labextension install jupyterlab_3dmol</tt></p>\n        </div>\n<script>\n\nvar loadScriptAsync = function(uri){\n  return new Promise((resolve, reject) => {\n    //this is to ignore the existence of requirejs amd\n    var savedexports, savedmodule;\n    if (typeof exports !== 'undefined') savedexports = exports;\n    else exports = {}\n    if (typeof module !== 'undefined') savedmodule = module;\n    else module = {}\n\n    var tag = document.createElement('script');\n    tag.src = uri;\n    tag.async = true;\n    tag.onload = () => {\n        exports = savedexports;\n        module = savedmodule;\n        resolve();\n    };\n  var firstScriptTag = document.getElementsByTagName('script')[0];\n  firstScriptTag.parentNode.insertBefore(tag, firstScriptTag);\n});\n};\n\nif(typeof $3Dmolpromise === 'undefined') {\n$3Dmolpromise = null;\n  $3Dmolpromise = loadScriptAsync('https://cdnjs.cloudflare.com/ajax/libs/3Dmol/2.0.4/3Dmol-min.js');\n}\n\nvar viewer_1701686636767196 = null;\nvar warn = document.getElementById(\"3dmolwarning_1701686636767196\");\nif(warn) {\n    warn.parentNode.removeChild(warn);\n}\n$3Dmolpromise.then(function() {\nviewer_1701686636767196 = $3Dmol.createViewer(document.getElementById(\"3dmolviewer_1701686636767196\"),{backgroundColor:\"white\"});\nviewer_1701686636767196.zoomTo();\n\tviewer_1701686636767196.addModel(\"6\\n\\nC        0.67759997    0.00000000    0.00000000\\nC       -0.67759997    0.00000000    0.00000000\\nH        1.21655197    0.92414474    0.00000000\\nH        1.21655197   -0.92414474    0.00000000\\nH       -1.21655197   -0.92414474    0.00000000\\nH       -1.21655197    0.92414474    0.00000000\\n\");\n\tviewer_1701686636767196.setViewStyle({\"style\": \"outline\", \"width\": 0.05});\n\tviewer_1701686636767196.setStyle({\"stick\": {}, \"sphere\": {\"scale\": 0.25}});\nviewer_1701686636767196.render();\n});\n</script>",
      "text/html": [
       "<div id=\"3dmolviewer_1701686636767196\"  style=\"position: relative; width: 400px; height: 300px;\">\n",
       "        <p id=\"3dmolwarning_1701686636767196\" style=\"background-color:#ffcccc;color:black\">You appear to be running in JupyterLab (or JavaScript failed to load for some other reason).  You need to install the 3dmol extension: <br>\n",
       "        <tt>jupyter labextension install jupyterlab_3dmol</tt></p>\n",
       "        </div>\n",
       "<script>\n",
       "\n",
       "var loadScriptAsync = function(uri){\n",
       "  return new Promise((resolve, reject) => {\n",
       "    //this is to ignore the existence of requirejs amd\n",
       "    var savedexports, savedmodule;\n",
       "    if (typeof exports !== 'undefined') savedexports = exports;\n",
       "    else exports = {}\n",
       "    if (typeof module !== 'undefined') savedmodule = module;\n",
       "    else module = {}\n",
       "\n",
       "    var tag = document.createElement('script');\n",
       "    tag.src = uri;\n",
       "    tag.async = true;\n",
       "    tag.onload = () => {\n",
       "        exports = savedexports;\n",
       "        module = savedmodule;\n",
       "        resolve();\n",
       "    };\n",
       "  var firstScriptTag = document.getElementsByTagName('script')[0];\n",
       "  firstScriptTag.parentNode.insertBefore(tag, firstScriptTag);\n",
       "});\n",
       "};\n",
       "\n",
       "if(typeof $3Dmolpromise === 'undefined') {\n",
       "$3Dmolpromise = null;\n",
       "  $3Dmolpromise = loadScriptAsync('https://cdnjs.cloudflare.com/ajax/libs/3Dmol/2.0.4/3Dmol-min.js');\n",
       "}\n",
       "\n",
       "var viewer_1701686636767196 = null;\n",
       "var warn = document.getElementById(\"3dmolwarning_1701686636767196\");\n",
       "if(warn) {\n",
       "    warn.parentNode.removeChild(warn);\n",
       "}\n",
       "$3Dmolpromise.then(function() {\n",
       "viewer_1701686636767196 = $3Dmol.createViewer(document.getElementById(\"3dmolviewer_1701686636767196\"),{backgroundColor:\"white\"});\n",
       "viewer_1701686636767196.zoomTo();\n",
       "\tviewer_1701686636767196.addModel(\"6\\n\\nC        0.67759997    0.00000000    0.00000000\\nC       -0.67759997    0.00000000    0.00000000\\nH        1.21655197    0.92414474    0.00000000\\nH        1.21655197   -0.92414474    0.00000000\\nH       -1.21655197   -0.92414474    0.00000000\\nH       -1.21655197    0.92414474    0.00000000\\n\");\n",
       "\tviewer_1701686636767196.setViewStyle({\"style\": \"outline\", \"width\": 0.05});\n",
       "\tviewer_1701686636767196.setStyle({\"stick\": {}, \"sphere\": {\"scale\": 0.25}});\n",
       "viewer_1701686636767196.render();\n",
       "});\n",
       "</script>"
      ]
     },
     "metadata": {},
     "output_type": "display_data"
    }
   ],
   "source": [
    "viewer = p3d.view(width=400, height=300)\n",
    "viewer.addModel(ethene_xyz)\n",
    "viewer.setViewStyle({\"style\": \"outline\", \"width\": 0.05})\n",
    "viewer.setStyle({\"stick\": {}, \"sphere\": {\"scale\": 0.25}})\n",
    "viewer.show()"
   ]
  },
  {
   "cell_type": "code",
   "execution_count": 4,
   "id": "d3109c83-530c-4f9f-8d4c-bb9dee1e9024",
   "metadata": {
    "editable": true,
    "scrolled": true,
    "slideshow": {
     "slide_type": ""
    },
    "tags": [
     "remove-output"
    ]
   },
   "outputs": [
    {
     "name": "stdout",
     "output_type": "stream",
     "text": [
      "* Info * Reading basis set from file: /home/thomas/miniconda3/envs/echem/lib/python3.11/site-packages/veloxchem/basis/STO-3G\n",
      "                                                                                                                          \n",
      "                                              Molecular Basis (Atomic Basis)                                              \n",
      "                                             ================================                                             \n",
      "                                                                                                                          \n",
      "                               Basis: STO-3G                                                                              \n",
      "                                                                                                                          \n",
      "                               Atom Contracted GTOs           Primitive GTOs                                              \n",
      "                                                                                                                          \n",
      "                                H   (1S)                      (3S)                                                        \n",
      "                                C   (2S,1P)                   (6S,3P)                                                     \n",
      "                                                                                                                          \n",
      "                               Contracted Basis Functions : 14                                                            \n",
      "                               Primitive Basis Functions  : 42                                                            \n",
      "                                                                                                                          \n",
      "                                                                                                                          \n",
      "                                            Self Consistent Field Driver Setup                                            \n",
      "                                           ====================================                                           \n",
      "                                                                                                                          \n",
      "                   Wave Function Model             : Spin-Restricted Hartree-Fock                                         \n",
      "                   Initial Guess Model             : Superposition of Atomic Densities                                    \n",
      "                   Convergence Accelerator         : Two Level Direct Inversion of Iterative Subspace                     \n",
      "                   Max. Number of Iterations       : 50                                                                   \n",
      "                   Max. Number of Error Vectors    : 10                                                                   \n",
      "                   Convergence Threshold           : 1.0e-06                                                              \n",
      "                   ERI Screening Scheme            : Cauchy Schwarz + Density                                             \n",
      "                   ERI Screening Mode              : Dynamic                                                              \n",
      "                   ERI Screening Threshold         : 1.0e-12                                                              \n",
      "                   Linear Dependence Threshold     : 1.0e-06                                                              \n",
      "                                                                                                                          \n",
      "* Info * Nuclear repulsion energy: 33.3086336060 a.u.                                                                     \n",
      "                                                                                                                          \n",
      "* Info * Overlap matrix computed in 0.02 sec.                                                                             \n",
      "                                                                                                                          \n",
      "* Info * Kinetic energy matrix computed in 0.02 sec.                                                                      \n",
      "                                                                                                                          \n",
      "* Info * Nuclear potential matrix computed in 0.02 sec.                                                                   \n",
      "                                                                                                                          \n",
      "* Info * Orthogonalization matrix computed in 0.01 sec.                                                                   \n",
      "                                                                                                                          \n",
      "* Info * SAD initial guess computed in 0.03 sec.                                                                          \n",
      "                                                                                                                          \n",
      "* Info * Starting Reduced Basis SCF calculation...                                                                        \n",
      "* Info * ...done. SCF energy in reduced basis set: -77.069246342859 a.u. Time: 0.20 sec.                                  \n",
      "                                                                                                                          \n",
      "* Info * Overlap matrix computed in 0.01 sec.                                                                             \n",
      "                                                                                                                          \n",
      "* Info * Kinetic energy matrix computed in 0.01 sec.                                                                      \n",
      "                                                                                                                          \n",
      "* Info * Nuclear potential matrix computed in 0.00 sec.                                                                   \n",
      "                                                                                                                          \n",
      "* Info * Orthogonalization matrix computed in 0.00 sec.                                                                   \n",
      "                                                                                                                          \n",
      "                                                                                                                          \n",
      "               Iter. | Hartree-Fock Energy | Energy Change | Gradient Norm | Max. Gradient | Density Change               \n",
      "               --------------------------------------------------------------------------------------------               \n",
      "                  1       -77.069246350041    0.0000000000      0.00003960      0.00000947      0.00000000                \n",
      "                  2       -77.069246350393   -0.0000000004      0.00000281      0.00000073      0.00003064                \n",
      "                  3       -77.069246350394   -0.0000000000      0.00000013      0.00000003      0.00000185                \n",
      "                                                                                                                          \n",
      "               *** SCF converged in 3 iterations. Time: 0.14 sec.                                                         \n",
      "                                                                                                                          \n",
      "               Spin-Restricted Hartree-Fock:                                                                              \n",
      "               -----------------------------                                                                              \n",
      "               Total Energy                       :      -77.0692463504 a.u.                                              \n",
      "               Electronic Energy                  :     -110.3778799564 a.u.                                              \n",
      "               Nuclear Repulsion Energy           :       33.3086336060 a.u.                                              \n",
      "               ------------------------------------                                                                       \n",
      "               Gradient Norm                      :        0.0000001250 a.u.                                              \n",
      "                                                                                                                          \n",
      "                                                                                                                          \n",
      "               Ground State Information                                                                                   \n",
      "               ------------------------                                                                                   \n",
      "               Charge of Molecule            :  0.0                                                                       \n",
      "               Multiplicity (2S+1)           :  1.0                                                                       \n",
      "               Magnetic Quantum Number (M_S) :  0.0                                                                       \n",
      "                                                                                                                          \n",
      "                                                                                                                          \n",
      "                                                 Spin Restricted Orbitals                                                 \n",
      "                                                 ------------------------                                                 \n",
      "                                                                                                                          \n",
      "               Molecular Orbital No.   4:                                                                                 \n",
      "               --------------------------                                                                                 \n",
      "               Occupation: 2.000 Energy:   -0.74975 a.u.                                                                  \n",
      "               (   1 C   2s  :    -0.42) (   1 C   1p+1:    -0.20) (   2 C   2s  :     0.42)                              \n",
      "               (   2 C   1p+1:    -0.20) (   3 H   1s  :    -0.22) (   4 H   1s  :    -0.22)                              \n",
      "               (   5 H   1s  :     0.22) (   6 H   1s  :     0.22)                                                        \n",
      "                                                                                                                          \n",
      "               Molecular Orbital No.   5:                                                                                 \n",
      "               --------------------------                                                                                 \n",
      "               Occupation: 2.000 Energy:   -0.60874 a.u.                                                                  \n",
      "               (   1 C   1p-1:     0.39) (   2 C   1p-1:     0.39) (   3 H   1s  :     0.26)                              \n",
      "               (   4 H   1s  :    -0.26) (   5 H   1s  :    -0.26) (   6 H   1s  :     0.26)                              \n",
      "                                                                                                                          \n",
      "               Molecular Orbital No.   6:                                                                                 \n",
      "               --------------------------                                                                                 \n",
      "               Occupation: 2.000 Energy:   -0.52384 a.u.                                                                  \n",
      "               (   1 C   1p+1:    -0.51) (   2 C   1p+1:     0.51) (   3 H   1s  :    -0.21)                              \n",
      "               (   4 H   1s  :    -0.21) (   5 H   1s  :    -0.21) (   6 H   1s  :    -0.21)                              \n",
      "                                                                                                                          \n",
      "               Molecular Orbital No.   7:                                                                                 \n",
      "               --------------------------                                                                                 \n",
      "               Occupation: 2.000 Energy:   -0.47291 a.u.                                                                  \n",
      "               (   1 C   1p-1:    -0.39) (   2 C   1p-1:     0.39) (   3 H   1s  :    -0.34)                              \n",
      "               (   4 H   1s  :     0.34) (   5 H   1s  :    -0.34) (   6 H   1s  :     0.34)                              \n",
      "                                                                                                                          \n",
      "               Molecular Orbital No.   8:                                                                                 \n",
      "               --------------------------                                                                                 \n",
      "               Occupation: 2.000 Energy:   -0.31834 a.u.                                                                  \n",
      "               (   1 C   1p0 :    -0.64) (   2 C   1p0 :    -0.64)                                                        \n",
      "                                                                                                                          \n",
      "               Molecular Orbital No.   9:                                                                                 \n",
      "               --------------------------                                                                                 \n",
      "               Occupation: 0.000 Energy:    0.31057 a.u.                                                                  \n",
      "               (   1 C   1p0 :    -0.81) (   2 C   1p0 :     0.81)                                                        \n",
      "                                                                                                                          \n",
      "               Molecular Orbital No.  10:                                                                                 \n",
      "               --------------------------                                                                                 \n",
      "               Occupation: 0.000 Energy:    0.65780 a.u.                                                                  \n",
      "               (   1 C   1p-1:     0.73) (   2 C   1p-1:     0.73) (   3 H   1s  :    -0.64)                              \n",
      "               (   4 H   1s  :     0.64) (   5 H   1s  :     0.64) (   6 H   1s  :    -0.64)                              \n",
      "                                                                                                                          \n",
      "               Molecular Orbital No.  11:                                                                                 \n",
      "               --------------------------                                                                                 \n",
      "               Occupation: 0.000 Energy:    0.69522 a.u.                                                                  \n",
      "               (   1 C   2s  :    -0.84) (   1 C   1p+1:    -0.51) (   2 C   2s  :    -0.84)                              \n",
      "               (   2 C   1p+1:     0.51) (   3 H   1s  :     0.63) (   4 H   1s  :     0.63)                              \n",
      "               (   5 H   1s  :     0.63) (   6 H   1s  :     0.63)                                                        \n",
      "                                                                                                                          \n",
      "               Molecular Orbital No.  12:                                                                                 \n",
      "               --------------------------                                                                                 \n",
      "               Occupation: 0.000 Energy:    0.70654 a.u.                                                                  \n",
      "               (   1 C   1s  :    -0.17) (   1 C   2s  :     1.07) (   1 C   1p+1:     0.21)                              \n",
      "               (   2 C   1s  :     0.17) (   2 C   2s  :    -1.07) (   2 C   1p+1:     0.21)                              \n",
      "               (   3 H   1s  :    -0.65) (   4 H   1s  :    -0.65) (   5 H   1s  :     0.65)                              \n",
      "               (   6 H   1s  :     0.65)                                                                                  \n",
      "                                                                                                                          \n",
      "               Molecular Orbital No.  13:                                                                                 \n",
      "               --------------------------                                                                                 \n",
      "               Occupation: 0.000 Energy:    0.95189 a.u.                                                                  \n",
      "               (   1 C   2s  :    -0.82) (   1 C   1p+1:     1.13) (   2 C   2s  :     0.82)                              \n",
      "               (   2 C   1p+1:     1.13)                                                                                  \n",
      "                                                                                                                          \n"
     ]
    }
   ],
   "source": [
    "molecule = vlx.Molecule.from_xyz_string(ethene_xyz)\n",
    "basis = vlx.MolecularBasis.read(molecule, \"STO-3G\")\n",
    "\n",
    "scf_drv = vlx.ScfRestrictedDriver()\n",
    "scf_results = scf_drv.compute(molecule, basis)"
   ]
  },
  {
   "cell_type": "markdown",
   "id": "545d13b6-91ba-431d-839f-da8d22339ce1",
   "metadata": {
    "editable": true,
    "slideshow": {
     "slide_type": ""
    },
    "tags": []
   },
   "source": [
    "We can extract the MO energies, number of occupied and unoccupied MOs, and the HOMO-LUMO gap:"
   ]
  },
  {
   "cell_type": "code",
   "execution_count": 5,
   "id": "54e494d4-34d1-4fad-a818-b4b05719ecb3",
   "metadata": {
    "editable": true,
    "slideshow": {
     "slide_type": ""
    },
    "tags": []
   },
   "outputs": [
    {
     "name": "stdout",
     "output_type": "stream",
     "text": [
      "Number of orbitals: 14\n",
      "Number of occupied orbitals: 8\n",
      "Number of virtual orbitals: 6\n",
      "\n",
      "MO energies (au):\n",
      " [-11.01836831 -11.01770512  -0.97499968  -0.74974532  -0.60873828\n",
      "  -0.52384446  -0.47291168  -0.31833759   0.31057108   0.65779903\n",
      "   0.69521875   0.70654116   0.95189253   0.95926696]\n",
      "\n",
      "HOMO-LUMO gap (eV): 9.449\n"
     ]
    }
   ],
   "source": [
    "mo_energy = scf_results[\"E_alpha\"]\n",
    "nocc = molecule.number_of_alpha_electrons()\n",
    "norb = mo_energy.shape[0]\n",
    "nvirt = norb - nocc\n",
    "\n",
    "print(\"Number of orbitals:\", len(mo_energy))\n",
    "print(\"Number of occupied orbitals:\", nocc)\n",
    "print(\"Number of virtual orbitals:\", nvirt)\n",
    "print(\"\\nMO energies (au):\\n\", mo_energy)\n",
    "\n",
    "print(f\"\\nHOMO-LUMO gap (eV): {27.2114*(mo_energy[nocc+1] - mo_energy[nocc]):.3f}\")"
   ]
  },
  {
   "cell_type": "markdown",
   "id": "be5ec232-c162-49e5-abd7-dc05bd29b860",
   "metadata": {
    "editable": true,
    "slideshow": {
     "slide_type": ""
    },
    "tags": []
   },
   "source": [
    "Looking at the MOs:"
   ]
  },
  {
   "cell_type": "code",
   "execution_count": 6,
   "id": "ffd74563-d606-4f53-acf9-59b89b751787",
   "metadata": {
    "editable": true,
    "slideshow": {
     "slide_type": ""
    },
    "tags": []
   },
   "outputs": [
    {
     "data": {
      "application/vnd.jupyter.widget-view+json": {
       "model_id": "e82e115e07bd49a7b261d789e1319c09",
       "version_major": 2,
       "version_minor": 0
      },
      "text/plain": [
       "Output()"
      ]
     },
     "metadata": {},
     "output_type": "display_data"
    },
    {
     "data": {
      "application/vnd.jupyter.widget-view+json": {
       "model_id": "5e38bebbc15749a088ce1611af546903",
       "version_major": 2,
       "version_minor": 0
      },
      "text/plain": [
       "Dropdown(description='Orbital:', index=7, options=(('  1 occ=2.000 ene=-11.018', 0), ('  2 occ=2.000 ene=-11.0…"
      ]
     },
     "metadata": {},
     "output_type": "display_data"
    }
   ],
   "source": [
    "viewer = vlx.OrbitalViewer()\n",
    "viewer.plot(molecule, basis, scf_drv.mol_orbs)"
   ]
  },
  {
   "cell_type": "markdown",
   "id": "ed6da192-6b4f-414a-ba23-51b54b8dfc16",
   "metadata": {
    "editable": true,
    "slideshow": {
     "slide_type": ""
    },
    "tags": []
   },
   "source": [
    "## Eigenstates\n",
    "\n",
    "We first perform a reference calculation using `LinearResponseEigenSolver`, where we calculate the first 12 excited states using a reduced-space Davidson algorithm which can resolve the N lowest eigenvalues (bottom-up).:"
   ]
  },
  {
   "cell_type": "code",
   "execution_count": 7,
   "id": "e8aa2579-86b2-4f78-bbb6-cd6d53ec0533",
   "metadata": {
    "editable": true,
    "scrolled": true,
    "slideshow": {
     "slide_type": ""
    },
    "tags": [
     "remove-output"
    ]
   },
   "outputs": [
    {
     "name": "stdout",
     "output_type": "stream",
     "text": [
      "                                                                                                                          \n",
      "                                            Linear Response EigenSolver Setup                                             \n",
      "                                           ===================================                                            \n",
      "                                                                                                                          \n",
      "                               Number of States                : 12                                                       \n",
      "                               Max. Number of Iterations       : 150                                                      \n",
      "                               Convergence Threshold           : 1.0e-04                                                  \n",
      "                               ERI Screening Scheme            : Cauchy Schwarz + Density                                 \n",
      "                               ERI Screening Threshold         : 1.0e-12                                                  \n",
      "                                                                                                                          \n",
      "* Info * Processing Fock builds... (batch size: 24)                                                                       \n",
      "* Info *   batch 1/1                                                                                                      \n",
      "                                                                                                                          \n",
      "* Info * 12 gerade trial vectors in reduced space                                                                         \n",
      "* Info * 12 ungerade trial vectors in reduced space                                                                       \n",
      "                                                                                                                          \n",
      "* Info * 29.07 kB of memory used for subspace procedure on the master node                                                \n",
      "* Info * 6.12 GB of memory available for the solver on the master node                                                    \n",
      "                                                                                                                          \n",
      "               *** Iteration:   1 * Residuals (Max,Min): 5.75e-01 and 6.56e-15                                            \n",
      "                                                                                                                          \n",
      "               Excitation 1   :      0.41081935 Residual Norm: 0.21075670                                                 \n",
      "               Excitation 2   :      0.41914496 Residual Norm: 0.00000000   converged                                     \n",
      "               Excitation 3   :      0.43357190 Residual Norm: 0.57536797                                                 \n",
      "               Excitation 4   :      0.53745930 Residual Norm: 0.06597515                                                 \n",
      "               Excitation 5   :      0.59799821 Residual Norm: 0.00000000   converged                                     \n",
      "               Excitation 6   :      0.66562849 Residual Norm: 0.02570414                                                 \n",
      "               Excitation 7   :      0.69766714 Residual Norm: 0.08214912                                                 \n",
      "               Excitation 8   :      0.75559181 Residual Norm: 0.07621878                                                 \n",
      "               Excitation 9   :      0.84753391 Residual Norm: 0.18175232                                                 \n",
      "               Excitation 10  :      0.84942435 Residual Norm: 0.19173241                                                 \n",
      "               Excitation 11  :      0.87392189 Residual Norm: 0.18141922                                                 \n",
      "               Excitation 12  :      0.90131363 Residual Norm: 0.17999098                                                 \n",
      "                                                                                                                          \n",
      "* Info * Processing Fock builds... (batch size: 18)                                                                       \n",
      "* Info *   batch 1/1                                                                                                      \n",
      "                                                                                                                          \n",
      "* Info * 21 gerade trial vectors in reduced space                                                                         \n",
      "* Info * 21 ungerade trial vectors in reduced space                                                                       \n",
      "                                                                                                                          \n",
      "* Info * 43.85 kB of memory used for subspace procedure on the master node                                                \n",
      "* Info * 6.12 GB of memory available for the solver on the master node                                                    \n",
      "                                                                                                                          \n",
      "               *** Iteration:   2 * Residuals (Max,Min): 1.10e-01 and 3.53e-15                                            \n",
      "                                                                                                                          \n",
      "               Excitation 1   :      0.36912024 Residual Norm: 0.05716223                                                 \n",
      "               Excitation 2   :      0.39587810 Residual Norm: 0.04374154                                                 \n",
      "               Excitation 3   :      0.41914496 Residual Norm: 0.00000000   converged                                     \n",
      "               Excitation 4   :      0.53648534 Residual Norm: 0.00000000   converged                                     \n",
      "               Excitation 5   :      0.59799821 Residual Norm: 0.00000000   converged                                     \n",
      "               Excitation 6   :      0.66561384 Residual Norm: 0.00000000   converged                                     \n",
      "               Excitation 7   :      0.69483832 Residual Norm: 0.11010729                                                 \n",
      "               Excitation 8   :      0.75545073 Residual Norm: 0.00000000   converged                                     \n",
      "               Excitation 9   :      0.82655674 Residual Norm: 0.07171314                                                 \n",
      "               Excitation 10  :      0.83748328 Residual Norm: 0.06430252                                                 \n",
      "               Excitation 11  :      0.84045109 Residual Norm: 0.05385844                                                 \n",
      "               Excitation 12  :      0.87168529 Residual Norm: 0.00000000   converged                                     \n",
      "                                                                                                                          \n",
      "* Info * Processing Fock builds... (batch size: 10)                                                                       \n",
      "* Info *   batch 1/1                                                                                                      \n",
      "                                                                                                                          \n",
      "* Info * 26 gerade trial vectors in reduced space                                                                         \n",
      "* Info * 26 ungerade trial vectors in reduced space                                                                       \n",
      "                                                                                                                          \n",
      "* Info * 51.40 kB of memory used for subspace procedure on the master node                                                \n",
      "* Info * 6.12 GB of memory available for the solver on the master node                                                    \n",
      "                                                                                                                          \n",
      "               *** Iteration:   3 * Residuals (Max,Min): 4.57e-02 and 2.82e-15                                            \n",
      "                                                                                                                          \n",
      "               Excitation 1   :      0.36853171 Residual Norm: 0.01069026                                                 \n",
      "               Excitation 2   :      0.39582117 Residual Norm: 0.00000000   converged                                     \n",
      "               Excitation 3   :      0.41914496 Residual Norm: 0.00000000   converged                                     \n",
      "               Excitation 4   :      0.53648534 Residual Norm: 0.00000000   converged                                     \n",
      "               Excitation 5   :      0.59799821 Residual Norm: 0.00000000   converged                                     \n",
      "               Excitation 6   :      0.66561384 Residual Norm: 0.00000000   converged                                     \n",
      "               Excitation 7   :      0.69427700 Residual Norm: 0.00000000   converged                                     \n",
      "               Excitation 8   :      0.75545073 Residual Norm: 0.00000000   converged                                     \n",
      "               Excitation 9   :      0.79173677 Residual Norm: 0.00000000   converged                                     \n",
      "               Excitation 10  :      0.82458714 Residual Norm: 0.04571050                                                 \n",
      "               Excitation 11  :      0.83668071 Residual Norm: 0.01754885                                                 \n",
      "               Excitation 12  :      0.83968784 Residual Norm: 0.02090542                                                 \n",
      "                                                                                                                          \n",
      "* Info * Processing Fock builds... (batch size: 8)                                                                        \n",
      "* Info *   batch 1/1                                                                                                      \n",
      "                                                                                                                          \n",
      "* Info * 30 gerade trial vectors in reduced space                                                                         \n",
      "* Info * 30 ungerade trial vectors in reduced space                                                                       \n",
      "                                                                                                                          \n",
      "* Info * 57.55 kB of memory used for subspace procedure on the master node                                                \n",
      "* Info * 6.12 GB of memory available for the solver on the master node                                                    \n",
      "                                                                                                                          \n",
      "               *** Iteration:   4 * Residuals (Max,Min): 1.89e-02 and 3.62e-15                                            \n",
      "                                                                                                                          \n",
      "               Excitation 1   :      0.36852357 Residual Norm: 0.00028353                                                 \n",
      "               Excitation 2   :      0.39582117 Residual Norm: 0.00000000   converged                                     \n",
      "               Excitation 3   :      0.41914496 Residual Norm: 0.00000000   converged                                     \n",
      "               Excitation 4   :      0.53648534 Residual Norm: 0.00000000   converged                                     \n",
      "               Excitation 5   :      0.59799821 Residual Norm: 0.00000000   converged                                     \n",
      "               Excitation 6   :      0.66561384 Residual Norm: 0.00000000   converged                                     \n",
      "               Excitation 7   :      0.69427700 Residual Norm: 0.00000000   converged                                     \n",
      "               Excitation 8   :      0.75545073 Residual Norm: 0.00000000   converged                                     \n",
      "               Excitation 9   :      0.79173677 Residual Norm: 0.00000000   converged                                     \n",
      "               Excitation 10  :      0.82446542 Residual Norm: 0.00250088                                                 \n",
      "               Excitation 11  :      0.83652173 Residual Norm: 0.01894665                                                 \n",
      "               Excitation 12  :      0.83957927 Residual Norm: 0.00405360                                                 \n",
      "                                                                                                                          \n",
      "* Info * Processing Fock builds... (batch size: 8)                                                                        \n",
      "* Info *   batch 1/1                                                                                                      \n",
      "                                                                                                                          \n",
      "* Info * 34 gerade trial vectors in reduced space                                                                         \n",
      "* Info * 34 ungerade trial vectors in reduced space                                                                       \n",
      "                                                                                                                          \n",
      "* Info * 63.69 kB of memory used for subspace procedure on the master node                                                \n",
      "* Info * 6.12 GB of memory available for the solver on the master node                                                    \n",
      "                                                                                                                          \n",
      "               *** Iteration:   5 * Residuals (Max,Min): 1.25e-03 and 2.89e-15                                            \n",
      "                                                                                                                          \n",
      "               Excitation 1   :      0.36852357 Residual Norm: 0.00000176   converged                                     \n",
      "               Excitation 2   :      0.39582117 Residual Norm: 0.00000000   converged                                     \n",
      "               Excitation 3   :      0.41914496 Residual Norm: 0.00000000   converged                                     \n",
      "               Excitation 4   :      0.53648534 Residual Norm: 0.00000000   converged                                     \n",
      "               Excitation 5   :      0.59799821 Residual Norm: 0.00000000   converged                                     \n",
      "               Excitation 6   :      0.66561384 Residual Norm: 0.00000000   converged                                     \n",
      "               Excitation 7   :      0.69427700 Residual Norm: 0.00000000   converged                                     \n",
      "               Excitation 8   :      0.75545073 Residual Norm: 0.00000000   converged                                     \n",
      "               Excitation 9   :      0.79173677 Residual Norm: 0.00000000   converged                                     \n",
      "               Excitation 10  :      0.82446474 Residual Norm: 0.00013950                                                 \n",
      "               Excitation 11  :      0.83647073 Residual Norm: 0.00125068                                                 \n",
      "               Excitation 12  :      0.83957720 Residual Norm: 0.00102366                                                 \n",
      "                                                                                                                          \n",
      "* Info * Processing Fock builds... (batch size: 5)                                                                        \n",
      "* Info *   batch 1/1                                                                                                      \n",
      "                                                                                                                          \n",
      "* Info * 36 gerade trial vectors in reduced space                                                                         \n",
      "* Info * 37 ungerade trial vectors in reduced space                                                                       \n",
      "                                                                                                                          \n",
      "* Info * 67.81 kB of memory used for subspace procedure on the master node                                                \n",
      "* Info * 6.12 GB of memory available for the solver on the master node                                                    \n",
      "                                                                                                                          \n",
      "               *** Iteration:   6 * Residuals (Max,Min): 4.82e-04 and 3.10e-15                                            \n",
      "                                                                                                                          \n",
      "               Excitation 1   :      0.36852357 Residual Norm: 0.00000000   converged                                     \n",
      "               Excitation 2   :      0.39582117 Residual Norm: 0.00000000   converged                                     \n",
      "               Excitation 3   :      0.41914496 Residual Norm: 0.00000000   converged                                     \n",
      "               Excitation 4   :      0.53648534 Residual Norm: 0.00000000   converged                                     \n",
      "               Excitation 5   :      0.59799821 Residual Norm: 0.00000000   converged                                     \n",
      "               Excitation 6   :      0.66561384 Residual Norm: 0.00000000   converged                                     \n",
      "               Excitation 7   :      0.69427700 Residual Norm: 0.00000000   converged                                     \n",
      "               Excitation 8   :      0.75545073 Residual Norm: 0.00000000   converged                                     \n",
      "               Excitation 9   :      0.79173677 Residual Norm: 0.00000000   converged                                     \n",
      "               Excitation 10  :      0.82446474 Residual Norm: 0.00000452   converged                                     \n",
      "               Excitation 11  :      0.83647070 Residual Norm: 0.00000000   converged                                     \n",
      "               Excitation 12  :      0.83957700 Residual Norm: 0.00048173                                                 \n",
      "                                                                                                                          \n",
      "* Info * Processing Fock builds... (batch size: 2)                                                                        \n",
      "* Info *   batch 1/1                                                                                                      \n",
      "                                                                                                                          \n",
      "* Info * 37 gerade trial vectors in reduced space                                                                         \n",
      "* Info * 38 ungerade trial vectors in reduced space                                                                       \n",
      "                                                                                                                          \n",
      "* Info * 68.36 kB of memory used for subspace procedure on the master node                                                \n",
      "* Info * 6.11 GB of memory available for the solver on the master node                                                    \n",
      "                                                                                                                          \n",
      "               *** Iteration:   7 * Residuals (Max,Min): 1.01e-05 and 3.15e-15                                            \n",
      "                                                                                                                          \n",
      "               Excitation 1   :      0.36852357 Residual Norm: 0.00000000   converged                                     \n",
      "               Excitation 2   :      0.39582117 Residual Norm: 0.00000000   converged                                     \n",
      "               Excitation 3   :      0.41914496 Residual Norm: 0.00000000   converged                                     \n",
      "               Excitation 4   :      0.53648534 Residual Norm: 0.00000000   converged                                     \n",
      "               Excitation 5   :      0.59799821 Residual Norm: 0.00000000   converged                                     \n",
      "               Excitation 6   :      0.66561384 Residual Norm: 0.00000000   converged                                     \n",
      "               Excitation 7   :      0.69427700 Residual Norm: 0.00000000   converged                                     \n",
      "               Excitation 8   :      0.75545073 Residual Norm: 0.00000000   converged                                     \n",
      "               Excitation 9   :      0.79173677 Residual Norm: 0.00000000   converged                                     \n",
      "               Excitation 10  :      0.82446474 Residual Norm: 0.00000452   converged                                     \n",
      "               Excitation 11  :      0.83647070 Residual Norm: 0.00000000   converged                                     \n",
      "               Excitation 12  :      0.83957699 Residual Norm: 0.00001012   converged                                     \n",
      "                                                                                                                          \n",
      "               *** Linear response converged in 7 iterations. Time: 0.64 sec                                              \n",
      "                                                                                                                          \n",
      "                                                                                                                          \n",
      "               Electric Transition Dipole Moments (dipole length, a.u.)                                                   \n",
      "               --------------------------------------------------------                                                   \n",
      "                                                X            Y            Z                                               \n",
      "               Excited State    S1:     -1.411490     0.000000    -0.000000                                               \n",
      "               Excited State    S2:      0.000000     0.000000    -0.000000                                               \n",
      "               Excited State    S3:     -0.000000     0.000000     0.000000                                               \n",
      "               Excited State    S4:      0.000000    -0.000000     0.000000                                               \n",
      "               Excited State    S5:     -0.000000    -0.000000     0.000000                                               \n",
      "               Excited State    S6:     -0.000000     0.000000     0.000111                                               \n",
      "               Excited State    S7:      0.000000     0.000000     0.000000                                               \n",
      "               Excited State    S8:     -0.000000     0.000000    -0.982242                                               \n",
      "               Excited State    S9:     -0.000000     0.000000    -0.000000                                               \n",
      "               Excited State   S10:      0.000000     0.256050    -0.000000                                               \n",
      "               Excited State   S11:      1.467544    -0.000000    -0.000000                                               \n",
      "               Excited State   S12:      0.000000     0.000000     0.000000                                               \n",
      "                                                                                                                          \n",
      "               Electric Transition Dipole Moments (dipole velocity, a.u.)                                                 \n",
      "               ----------------------------------------------------------                                                 \n",
      "                                                X            Y            Z                                               \n",
      "               Excited State    S1:     -0.831766     0.000000    -0.000000                                               \n",
      "               Excited State    S2:     -0.000000    -0.000000    -0.000000                                               \n",
      "               Excited State    S3:     -0.000000     0.000000     0.000000                                               \n",
      "               Excited State    S4:      0.000000    -0.000000     0.000000                                               \n",
      "               Excited State    S5:     -0.000000    -0.000000    -0.000000                                               \n",
      "               Excited State    S6:     -0.000000     0.000000     0.235275                                               \n",
      "               Excited State    S7:      0.000000     0.000000    -0.000000                                               \n",
      "               Excited State    S8:     -0.000000     0.000000    -0.483952                                               \n",
      "               Excited State    S9:     -0.000000     0.000000    -0.000000                                               \n",
      "               Excited State   S10:      0.000000     0.097356    -0.000000                                               \n",
      "               Excited State   S11:      0.995258    -0.000000    -0.000000                                               \n",
      "               Excited State   S12:      0.000000     0.000000     0.000000                                               \n",
      "                                                                                                                          \n",
      "               Magnetic Transition Dipole Moments (a.u.)                                                                  \n",
      "               -----------------------------------------                                                                  \n",
      "                                                X            Y            Z                                               \n",
      "               Excited State    S1:      0.000000     0.000000     0.000000                                               \n",
      "               Excited State    S2:     -0.000000     0.860079    -0.000000                                               \n",
      "               Excited State    S3:     -0.641625    -0.000000    -0.000000                                               \n",
      "               Excited State    S4:      0.000000    -0.000000    -0.000000                                               \n",
      "               Excited State    S5:      0.233770     0.000000     0.000000                                               \n",
      "               Excited State    S6:      0.000000    -0.000000    -0.000000                                               \n",
      "               Excited State    S7:     -0.000000     0.036903    -0.000000                                               \n",
      "               Excited State    S8:     -0.000000    -0.000000    -0.000000                                               \n",
      "               Excited State    S9:     -0.000000     0.372998    -0.000000                                               \n",
      "               Excited State   S10:      0.000000     0.000000     0.000000                                               \n",
      "               Excited State   S11:      0.000000     0.000000     0.000000                                               \n",
      "               Excited State   S12:     -0.000000    -0.000000    -1.063794                                               \n",
      "                                                                                                                          \n",
      "               One-Photon Absorption                                                                                      \n",
      "               ---------------------                                                                                      \n",
      "               Excited State    S1:      0.36852357 a.u.     10.02804 eV    Osc.Str.    0.4895                            \n",
      "               Excited State    S2:      0.39582117 a.u.     10.77084 eV    Osc.Str.    0.0000                            \n",
      "               Excited State    S3:      0.41914496 a.u.     11.40552 eV    Osc.Str.    0.0000                            \n",
      "               Excited State    S4:      0.53648534 a.u.     14.59851 eV    Osc.Str.    0.0000                            \n",
      "               Excited State    S5:      0.59799821 a.u.     16.27236 eV    Osc.Str.    0.0000                            \n",
      "               Excited State    S6:      0.66561384 a.u.     18.11228 eV    Osc.Str.    0.0000                            \n",
      "               Excited State    S7:      0.69427700 a.u.     18.89224 eV    Osc.Str.    0.0000                            \n",
      "               Excited State    S8:      0.75545073 a.u.     20.55686 eV    Osc.Str.    0.4859                            \n",
      "               Excited State    S9:      0.79173677 a.u.     21.54426 eV    Osc.Str.    0.0000                            \n",
      "               Excited State   S10:      0.82446474 a.u.     22.43483 eV    Osc.Str.    0.0360                            \n",
      "               Excited State   S11:      0.83647070 a.u.     22.76153 eV    Osc.Str.    1.2010                            \n",
      "               Excited State   S12:      0.83957699 a.u.     22.84605 eV    Osc.Str.    0.0000                            \n",
      "                                                                                                                          \n",
      "               Electronic Circular Dichroism                                                                              \n",
      "               -----------------------------                                                                              \n",
      "               Excited State    S1:     Rot.Str.     -0.000000 a.u.    -0.0000 [10**(-40) cgs]                            \n",
      "               Excited State    S2:     Rot.Str.     -0.000000 a.u.    -0.0000 [10**(-40) cgs]                            \n",
      "               Excited State    S3:     Rot.Str.      0.000000 a.u.     0.0000 [10**(-40) cgs]                            \n",
      "               Excited State    S4:     Rot.Str.      0.000000 a.u.     0.0000 [10**(-40) cgs]                            \n",
      "               Excited State    S5:     Rot.Str.     -0.000000 a.u.    -0.0000 [10**(-40) cgs]                            \n",
      "               Excited State    S6:     Rot.Str.     -0.000000 a.u.    -0.0000 [10**(-40) cgs]                            \n",
      "               Excited State    S7:     Rot.Str.      0.000000 a.u.     0.0000 [10**(-40) cgs]                            \n",
      "               Excited State    S8:     Rot.Str.      0.000000 a.u.     0.0000 [10**(-40) cgs]                            \n",
      "               Excited State    S9:     Rot.Str.      0.000000 a.u.     0.0000 [10**(-40) cgs]                            \n",
      "               Excited State   S10:     Rot.Str.      0.000000 a.u.     0.0000 [10**(-40) cgs]                            \n",
      "               Excited State   S11:     Rot.Str.      0.000000 a.u.     0.0000 [10**(-40) cgs]                            \n",
      "               Excited State   S12:     Rot.Str.     -0.000000 a.u.    -0.0000 [10**(-40) cgs]                            \n",
      "                                                                                                                          \n",
      "               Character of excitations:                                                                                  \n",
      "                                                                                                                          \n",
      "               Excited state 1                                                                                            \n",
      "               ---------------                                                                                            \n",
      "               HOMO     -> LUMO         0.9905                                                                            \n",
      "                                                                                                                          \n",
      "               Excited state 2                                                                                            \n",
      "               ---------------                                                                                            \n",
      "               HOMO-2   -> LUMO         0.9925                                                                            \n",
      "                                                                                                                          \n",
      "               Excited state 3                                                                                            \n",
      "               ---------------                                                                                            \n",
      "               HOMO-1   -> LUMO         0.9986                                                                            \n",
      "                                                                                                                          \n",
      "               Excited state 4                                                                                            \n",
      "               ---------------                                                                                            \n",
      "               HOMO-3   -> LUMO        -0.9999                                                                            \n",
      "                                                                                                                          \n",
      "               Excited state 5                                                                                            \n",
      "               ---------------                                                                                            \n",
      "               HOMO     -> LUMO+1      -0.9985                                                                            \n",
      "                                                                                                                          \n",
      "               Excited state 6                                                                                            \n",
      "               ---------------                                                                                            \n",
      "               HOMO     -> LUMO+2       0.9130                                                                            \n",
      "               HOMO-4   -> LUMO        -0.4083                                                                            \n",
      "                                                                                                                          \n",
      "               Excited state 7                                                                                            \n",
      "               ---------------                                                                                            \n",
      "               HOMO     -> LUMO+3       0.9894                                                                            \n",
      "                                                                                                                          \n",
      "               Excited state 8                                                                                            \n",
      "               ---------------                                                                                            \n",
      "               HOMO-4   -> LUMO         0.9134                                                                            \n",
      "               HOMO     -> LUMO+2       0.4083                                                                            \n",
      "                                                                                                                          \n",
      "               Excited state 9                                                                                            \n",
      "               ---------------                                                                                            \n",
      "               HOMO     -> LUMO+4       0.9948                                                                            \n",
      "                                                                                                                          \n",
      "               Excited state 10                                                                                           \n",
      "               ----------------                                                                                           \n",
      "               HOMO-2   -> LUMO+1      -0.8927                                                                            \n",
      "               HOMO-1   -> LUMO+3       0.3249                                                                            \n",
      "               HOMO-3   -> LUMO+2       0.2457                                                                            \n",
      "                                                                                                                          \n",
      "               Excited state 11                                                                                           \n",
      "               ----------------                                                                                           \n",
      "               HOMO-1   -> LUMO+1      -0.9826                                                                            \n",
      "                                                                                                                          \n",
      "               Excited state 12                                                                                           \n",
      "               ----------------                                                                                           \n",
      "               HOMO-1   -> LUMO+2      -0.9182                                                                            \n",
      "               HOMO-3   -> LUMO+3      -0.3860                                                                            \n",
      "                                                                                                                          \n"
     ]
    }
   ],
   "source": [
    "lres_drv = vlx.LinearResponseEigenSolver()\n",
    "rsp_settings = {\"nstates\": 12}\n",
    "lres_drv.update_settings(rsp_settings)\n",
    "lres_out = lres_drv.compute(molecule, basis, scf_results)"
   ]
  },
  {
   "cell_type": "markdown",
   "id": "f772cd2b-0ad6-47bb-b462-4f29a4558f7b",
   "metadata": {
    "editable": true,
    "slideshow": {
     "slide_type": ""
    },
    "tags": []
   },
   "source": [
    "The output contains"
   ]
  },
  {
   "cell_type": "code",
   "execution_count": 8,
   "id": "84eae92a-6fda-4498-bf84-75b02d671148",
   "metadata": {
    "editable": true,
    "slideshow": {
     "slide_type": ""
    },
    "tags": []
   },
   "outputs": [
    {
     "data": {
      "text/plain": [
       "dict_keys(['eigenvalues', 'eigenvectors_distributed', 'electric_transition_dipoles', 'velocity_transition_dipoles', 'magnetic_transition_dipoles', 'oscillator_strengths', 'rotatory_strengths', 'excitation_details'])"
      ]
     },
     "execution_count": 8,
     "metadata": {},
     "output_type": "execute_result"
    }
   ],
   "source": [
    "lres_out.keys()"
   ]
  },
  {
   "cell_type": "markdown",
   "id": "a2038421-b7c1-4a66-8001-9eb301a09a0c",
   "metadata": {
    "editable": true,
    "slideshow": {
     "slide_type": ""
    },
    "tags": []
   },
   "source": [
    "We create a function for printing the results (energy, oscillator strength, transition moment) in a table:"
   ]
  },
  {
   "cell_type": "code",
   "execution_count": 9,
   "id": "a8d548b2-11d3-4b3a-9991-a1c174baaa67",
   "metadata": {
    "editable": true,
    "slideshow": {
     "slide_type": ""
    },
    "tags": []
   },
   "outputs": [
    {
     "name": "stdout",
     "output_type": "stream",
     "text": [
      "State Energy [eV]  Osc. str.   TM(x)     TM(y)     TM(z)\n",
      "  0     10.028      0.48947  -1.41149   0.00000  -0.00000\n",
      "  1     10.771      0.00000   0.00000   0.00000  -0.00000\n",
      "  2     11.406      0.00000  -0.00000   0.00000   0.00000\n",
      "  3     14.599      0.00000   0.00000  -0.00000   0.00000\n",
      "  4     16.272      0.00000  -0.00000  -0.00000   0.00000\n",
      "  5     18.112      0.00000  -0.00000   0.00000   0.00011\n",
      "  6     18.892      0.00000   0.00000   0.00000   0.00000\n",
      "  7     20.557      0.48591  -0.00000   0.00000  -0.98224\n",
      "  8     21.544      0.00000  -0.00000   0.00000  -0.00000\n",
      "  9     22.435      0.03604   0.00000   0.25605  -0.00000\n",
      " 10     22.762      1.20100   1.46754  -0.00000  -0.00000\n",
      " 11     22.846      0.00000   0.00000   0.00000   0.00000\n"
     ]
    }
   ],
   "source": [
    "def print_table(lres):\n",
    "    print(\"State Energy [eV]  Osc. str.   TM(x)     TM(y)     TM(z)\")\n",
    "    for i in np.arange(len(lres[\"eigenvalues\"])):\n",
    "        e, os, x, y, z = (\n",
    "            27.2114 * lres[\"eigenvalues\"][i],\n",
    "            lres[\"oscillator_strengths\"][i],\n",
    "            lres[\"electric_transition_dipoles\"][i][0],\n",
    "            lres[\"electric_transition_dipoles\"][i][1],\n",
    "            lres[\"electric_transition_dipoles\"][i][2],\n",
    "        )\n",
    "        print(f\" {i:2}     {e:.3f}     {os:8.5f}  {x:8.5f}  {y:8.5f}  {z:8.5f}\")\n",
    "\n",
    "print_table(lres_out)"
   ]
  },
  {
   "cell_type": "markdown",
   "id": "36e1a888-edec-4a99-9da0-681f593116f8",
   "metadata": {
    "editable": true,
    "slideshow": {
     "slide_type": ""
    },
    "tags": []
   },
   "source": [
    "These results were obtained using the solver in VeloxChem, and we will now calculate this explicitly by using the Hessian, overlap matrix, and property gradients.\n",
    "\n",
    "### Electronic Hessian\n",
    "\n",
    "The electronic Hessian, $\\mathbf{E}^{[2]}$ reads\n",
    "\n",
    "\\begin{equation*}\n",
    "\\mathbf{E}^{[2]} =\n",
    "\t\\begin{pmatrix}\n",
    "    \\rule[-5pt]{0pt}{20pt}\n",
    "\t\\rule{5pt}{0pt}\n",
    "\t\\mathbf{A} & \\mathbf{B} \\rule{5pt}{0pt}\n",
    "\t\\\\\n",
    "    \\rule[-10pt]{0pt}{25pt}\n",
    "    \\rule{5pt}{0pt}    \n",
    "\t\\mathbf{B}^* & \\mathbf{A}^* \\\\\n",
    "\t\\end{pmatrix}\n",
    "\\end{equation*}\n",
    "\n",
    "For a general hybrid functional, the blocks are constructed as:\n",
    "\n",
    "\\begin{align*}\n",
    "A_{ia,jb}  &= \\delta_{ij} \\delta_{ab} (\\epsilon_a - \\epsilon_i) + (ia|jb) - c_{\\textrm{HF}}(ij|ab) + (1-c_{\\textrm{HF}})(ia|f_{\\textrm{xc}}|jb)\n",
    "\\\\\n",
    "B_{ia,jb}  &= (ia|bj) - c_{\\textrm{HF}}(ib|aj) + (1-c_{\\textrm{HF}})(ia|f_{\\textrm{xc}}|bj)\n",
    "\\end{align*}\n",
    "\n",
    "For a closed-shell system, the dimension of the $\\mathbf{A}$- and $\\mathbf{B}$-blocks of the $\\mathbf{E}^{[2]}$-matrix equals the number of occupied (spatial) orbitals times the number of virtual orbitals or, in other words\n",
    "\n",
    "$$\\mathrm{dim}\\left(\\mathbf{E}^{[2]}\\right) = 2 \\times n_\\mathrm{occ} \\times n_\\mathrm{virt}$$\n",
    "\n",
    "In the limits we retrieve the TDHF blocks ($c_{\\textrm{HF}} = 1$) and pure TDDFT ($c_{\\textrm{HF}} = 0$). It can be noted that:\n",
    "\n",
    "- The matrix is Hermitian and has an internal structure in terms of the matrix blocks $\\mathbf{A}$ and $\\mathbf{B}$, but not in the full form\n",
    "- The diagonal elements correspond to differences in energy between the single-excited determinants $|0_i^a\\rangle$ and the reference state $|0\\rangle$\n",
    "\n",
    "We get the $\\mathbf{E}^{[2]}$-matrix from the `LinearResponseEigenSolver` class object."
   ]
  },
  {
   "cell_type": "code",
   "execution_count": 10,
   "id": "089125a8-0d03-4ca3-820e-5b4444717789",
   "metadata": {
    "editable": true,
    "slideshow": {
     "slide_type": "slide"
    },
    "tags": [
     "remove-output"
    ]
   },
   "outputs": [
    {
     "name": "stdout",
     "output_type": "stream",
     "text": [
      "* Info * Processing Fock builds... (batch size: 192)                                                                      \n",
      "* Info *   batch 1/1                                                                                                      \n"
     ]
    }
   ],
   "source": [
    "lres_drv = vlx.LinearResponseEigenSolver()\n",
    "E2 = lres_drv.get_e2(molecule, basis, scf_results)"
   ]
  },
  {
   "cell_type": "markdown",
   "id": "c299532c-a9cd-4044-a1f6-71e4d32b96c9",
   "metadata": {
    "editable": true,
    "slideshow": {
     "slide_type": ""
    },
    "tags": []
   },
   "source": [
    "The dimension of the Hessian should be"
   ]
  },
  {
   "cell_type": "code",
   "execution_count": 11,
   "id": "69a04dbb-f1d6-40f2-a0ae-69e0b7bdaff7",
   "metadata": {
    "editable": true,
    "slideshow": {
     "slide_type": ""
    },
    "tags": []
   },
   "outputs": [
    {
     "name": "stdout",
     "output_type": "stream",
     "text": [
      "Dimension of full Hessian: 96\n"
     ]
    }
   ],
   "source": [
    "n = nocc * nvirt\n",
    "print(\"Dimension of full Hessian:\", 2 * n)"
   ]
  },
  {
   "cell_type": "markdown",
   "id": "ba4aea40-d9f8-41f4-af49-7b3c10a6d4ed",
   "metadata": {
    "editable": true,
    "slideshow": {
     "slide_type": ""
    },
    "tags": []
   },
   "source": [
    "Which is verified using `.shape`"
   ]
  },
  {
   "cell_type": "code",
   "execution_count": 12,
   "id": "69d5936d-a535-495b-8263-f30f7df4f475",
   "metadata": {
    "editable": true,
    "slideshow": {
     "slide_type": ""
    },
    "tags": []
   },
   "outputs": [
    {
     "name": "stdout",
     "output_type": "stream",
     "text": [
      "(96, 96)\n"
     ]
    }
   ],
   "source": [
    "print(E2.shape)"
   ]
  },
  {
   "cell_type": "markdown",
   "id": "98ea175c-b64f-46cb-910d-7f7a42181122",
   "metadata": {
    "editable": true,
    "slideshow": {
     "slide_type": ""
    },
    "tags": []
   },
   "source": [
    "This is a bit too large to print, but we can visualize the matrix using `imshow`:"
   ]
  },
  {
   "cell_type": "code",
   "execution_count": 13,
   "id": "03457f85-b880-4f10-95fc-d7e4ddc16b5b",
   "metadata": {
    "editable": true,
    "slideshow": {
     "slide_type": ""
    },
    "tags": []
   },
   "outputs": [
    {
     "data": {
      "image/png": "[encoded data removed]",
      "text/plain": [
       "<Figure size 500x400 with 2 Axes>"
      ]
     },
     "metadata": {},
     "output_type": "display_data"
    }
   ],
   "source": [
    "plt.figure(figsize=(5, 4))\n",
    "plt.imshow(E2)\n",
    "plt.colorbar()\n",
    "plt.show()"
   ]
  },
  {
   "cell_type": "markdown",
   "id": "3a55205c-a505-4bc5-9bef-c02f750127e6",
   "metadata": {},
   "source": [
    "In order to see the off-diagonal elements better, we subtract the diagonal elements"
   ]
  },
  {
   "cell_type": "code",
   "execution_count": 15,
   "id": "b523ad23-2ce0-4caf-a5f0-4fa757da4a25",
   "metadata": {
    "editable": true,
    "slideshow": {
     "slide_type": ""
    },
    "tags": []
   },
   "outputs": [
    {
     "data": {
      "image/png": "[encoded data removed]",
      "text/plain": [
       "<Figure size 500x400 with 2 Axes>"
      ]
     },
     "metadata": {},
     "output_type": "display_data"
    }
   ],
   "source": [
    "plt.figure(figsize=(5, 4))\n",
    "plt.imshow(np.array(E2) - np.array(E2)*np.identity(96))\n",
    "plt.colorbar()\n",
    "plt.show()"
   ]
  },
  {
   "cell_type": "markdown",
   "id": "988ab2b1-c1bc-475b-9260-5039c8794017",
   "metadata": {
    "editable": true,
    "slideshow": {
     "slide_type": ""
    },
    "tags": []
   },
   "source": [
    "Matrix elements can be directly accessed, such as that of the $\\pi \\rightarrow \\pi^{\\ast}$ transition"
   ]
  },
  {
   "cell_type": "code",
   "execution_count": 16,
   "id": "65b924a3-ee1c-4e22-84f6-94f3fb4fc6a7",
   "metadata": {
    "editable": true,
    "slideshow": {
     "slide_type": ""
    },
    "tags": []
   },
   "outputs": [
    {
     "name": "stdout",
     "output_type": "stream",
     "text": [
      "Diagonal element for the (pi,pi*)-excitation:  0.467844 a.u.\n"
     ]
    }
   ],
   "source": [
    "idx = (nocc - 1) * nvirt # index position for (pi,pi*) excitation\n",
    "print(f'Diagonal element for the (pi,pi*)-excitation: {E2[idx,idx] : .6f} a.u.')"
   ]
  },
  {
   "cell_type": "markdown",
   "id": "935dc31b-5a85-4d71-bddd-f98428976956",
   "metadata": {
    "editable": true,
    "slideshow": {
     "slide_type": ""
    },
    "tags": []
   },
   "source": [
    "Alternatively, we can in principle determine the elements of the $\\mathbf{E}^{[2]}$-matrix from explicit calculations using orbital energies and two-electron integrals in the MO-basis."
   ]
  },
  {
   "cell_type": "code",
   "execution_count": 18,
   "id": "d7652c0e-8685-4f3f-9dec-bb3a53744190",
   "metadata": {
    "editable": true,
    "slideshow": {
     "slide_type": ""
    },
    "tags": []
   },
   "outputs": [
    {
     "name": "stdout",
     "output_type": "stream",
     "text": [
      "Diagonal element (explicit calculation):  0.467844  a.u.\n"
     ]
    }
   ],
   "source": [
    "# Orbital energies\n",
    "orbital_energies = scf_results['E_alpha']\n",
    "\n",
    "# ERI integrals in physicist's notation\n",
    "moints_drv = vlx.MOIntegralsDriver()\n",
    "isis = moints_drv.compute_in_memory(molecule, basis, scf_drv.mol_orbs, \"phys_OVOV\")\n",
    "iiss = moints_drv.compute_in_memory(molecule, basis, scf_drv.mol_orbs, \"phys_OOVV\")\n",
    "\n",
    "# Determine the specific diagonal matrix element of E[2] explicitly \n",
    "diag_element = orbital_energies[nocc] - orbital_energies[nocc - 1] +(- isis[nocc - 1,0,nocc - 1,0] + 2 * iiss[nocc - 1,nocc - 1,0,0])\n",
    "print(f'Diagonal element (explicit calculation): {diag_element : .6f}  a.u.')"
   ]
  },
  {
   "cell_type": "markdown",
   "id": "6eb52e16-40e6-4e06-b33b-223452a29b33",
   "metadata": {
    "editable": true,
    "slideshow": {
     "slide_type": ""
    },
    "tags": []
   },
   "source": [
    "## Overlap matrix\n",
    "\n",
    "\n",
    "The overlap matrix, $\\mathbf{S}^{[2]}$, in the SCF approximation is trivial and equal to\n",
    "\n",
    "$$\n",
    "\\mathbf{S}^{[2]}  =\n",
    "\t\\begin{pmatrix}\n",
    "    \\rule[-5pt]{0pt}{20pt}\n",
    "\t\\rule{5pt}{0pt}\n",
    "\t\\mathbf{1} & \\mathbf{0} \\rule{5pt}{0pt}\n",
    "\t\\\\\n",
    "    \\rule[-10pt]{0pt}{25pt}\n",
    "    \\rule{5pt}{0pt}    \n",
    "\t\\mathbf{0} & -\\mathbf{1} \\\\\n",
    "\t\\end{pmatrix}\n",
    "$$\n",
    "\n",
    "where $\\mathbf{1}$ and the $\\mathbf{1}$ are understood to be the identity and zero matrices, respectively, of the same rank as sub-blocks $\\mathbf{A}$ and $\\mathbf{B}$ in the electronic Hessian. We construct this as"
   ]
  },
  {
   "cell_type": "code",
   "execution_count": 22,
   "id": "6633ba42-3e6a-4b91-a344-035b7fe498b5",
   "metadata": {
    "editable": true,
    "slideshow": {
     "slide_type": ""
    },
    "tags": []
   },
   "outputs": [],
   "source": [
    "S2 = np.identity(2 * n)\n",
    "S2[n:, n:] *= -1"
   ]
  },
  {
   "cell_type": "markdown",
   "id": "a4a8b47e-4335-4eb5-9cc0-b839b578fa5e",
   "metadata": {
    "editable": true,
    "slideshow": {
     "slide_type": ""
    },
    "tags": []
   },
   "source": [
    "## Property gradient\n",
    "\n",
    "\n",
    "In the SCF approximation, the property gradient, $\\mathbf{V}^{[1]}$, takes the form\n",
    "\n",
    "\\begin{equation*}\n",
    "  \\mathbf{V}^{[1]} =\n",
    "      \\begin{pmatrix}\n",
    "    \\rule[-5pt]{0pt}{15pt}\n",
    "    \\mathbf{g}\n",
    "       \\\\\n",
    "    \\rule[-5pt]{0pt}{0pt}\n",
    "     -\\mathbf{g}^*\n",
    "\\\\\n",
    "  \\end{pmatrix}\n",
    "\\end{equation*}\n",
    "\n",
    "We get the $\\mathbf{V}^{\\omega,[1]}$-vector from the `LinearResponseSolver` class object. We assume the perturbation operator to equal minus the electric dipole moment operator along the $x$-axis, i.e., the molecular C$-$C axis."
   ]
  },
  {
   "cell_type": "code",
   "execution_count": 23,
   "id": "a7c58195-cad7-441b-a1ba-ac494074250c",
   "metadata": {
    "editable": true,
    "slideshow": {
     "slide_type": ""
    },
    "tags": []
   },
   "outputs": [
    {
     "name": "stdout",
     "output_type": "stream",
     "text": [
      "Dimension of V[1] vectors: 96\n"
     ]
    }
   ],
   "source": [
    "lrs_drv = vlx.LinearResponseSolver()\n",
    "\n",
    "mu_x = lrs_drv.get_prop_grad(\"electric dipole\", \"x\", molecule, basis, scf_results)[0]\n",
    "mu_y = lrs_drv.get_prop_grad(\"electric dipole\", \"y\", molecule, basis, scf_results)[0]\n",
    "mu_z = lrs_drv.get_prop_grad(\"electric dipole\", \"z\", molecule, basis, scf_results)[0]\n",
    "\n",
    "V1x = -mu_x\n",
    "V1y = -mu_y\n",
    "V1z = -mu_z\n",
    "\n",
    "print(\"Dimension of V[1] vectors:\", V1x.shape[0])"
   ]
  },
  {
   "cell_type": "markdown",
   "id": "7db26c93-5e90-49c9-9eff-bd3636e82350",
   "metadata": {
    "editable": true,
    "slideshow": {
     "slide_type": ""
    },
    "tags": []
   },
   "source": [
    "We can illustrate these vectors as"
   ]
  },
  {
   "cell_type": "code",
   "execution_count": 24,
   "id": "15fd8ffe-3c50-4ce9-936d-2dc48505cbfb",
   "metadata": {
    "editable": true,
    "slideshow": {
     "slide_type": ""
    },
    "tags": []
   },
   "outputs": [
    {
     "data": {
      "image/png": "[encoded data removed]",
      "text/plain": [
       "<Figure size 300x400 with 4 Axes>"
      ]
     },
     "metadata": {},
     "output_type": "display_data"
    }
   ],
   "source": [
    "plt.figure(figsize=(3, 4))\n",
    "Vmtrx = np.zeros((2 * n, 100))\n",
    "plt.subplot(131)\n",
    "plt.title(\"Vx\")\n",
    "for i in np.arange(100):\n",
    "    Vmtrx[:, i] = V1x\n",
    "plt.imshow(\n",
    "    Vmtrx, vmin=np.min([V1x, V1y, V1z]), vmax=np.max([V1x, V1y, V1z]), aspect=\"auto\"\n",
    ")\n",
    "plt.xticks([])\n",
    "plt.yticks([])\n",
    "\n",
    "plt.subplot(132)\n",
    "plt.title(\"Vy\")\n",
    "for i in np.arange(100):\n",
    "    Vmtrx[:, i] = V1y\n",
    "plt.imshow(\n",
    "    Vmtrx, vmin=np.min([V1x, V1y, V1z]), vmax=np.max([V1x, V1y, V1z]), aspect=\"auto\"\n",
    ")\n",
    "plt.xticks([])\n",
    "plt.yticks([])\n",
    "\n",
    "plt.subplot(133)\n",
    "plt.title(\"Vz\")\n",
    "for i in np.arange(100):\n",
    "    Vmtrx[:, i] = V1z\n",
    "plt.imshow(\n",
    "    Vmtrx, vmin=np.min([V1x, V1y, V1z]), vmax=np.max([V1x, V1y, V1z]), aspect=\"auto\"\n",
    ")\n",
    "plt.xticks([])\n",
    "plt.yticks([])\n",
    "plt.colorbar()\n",
    "plt.show()"
   ]
  },
  {
   "cell_type": "markdown",
   "id": "2076cb2d-1a8e-46b3-affe-bab37259a926",
   "metadata": {
    "editable": true,
    "slideshow": {
     "slide_type": ""
    },
    "tags": []
   },
   "source": [
    "For the (pi,pi*) excitation we assume the perturbation operator to equal minus the electric dipole moment operator along the $x$-axis, i.e., the molecular C$-$C axis."
   ]
  },
  {
   "cell_type": "code",
   "execution_count": 33,
   "id": "22711b8f-8a01-4149-96e5-5b344b312716",
   "metadata": {
    "editable": true,
    "slideshow": {
     "slide_type": ""
    },
    "tags": []
   },
   "outputs": [
    {
     "name": "stdout",
     "output_type": "stream",
     "text": [
      "Elements for (pi,pi*)-excitation:\n",
      "(upper)   g: -1.861174\n",
      "(lower) -g*:  1.861174\n"
     ]
    }
   ],
   "source": [
    "lrs_drv = vlx.LinearResponseSolver()\n",
    "\n",
    "print('Elements for (pi,pi*)-excitation:')\n",
    "print(f'(upper)   g: {V1x[idx] : .6f}')\n",
    "print(f'(lower) -g*: {V1x[n + idx] : .6f}')"
   ]
  },
  {
   "cell_type": "markdown",
   "id": "3d888b41-5eaf-43cf-9669-8de8874aba20",
   "metadata": {
    "editable": true,
    "slideshow": {
     "slide_type": ""
    },
    "tags": []
   },
   "source": [
    "Alternatively, we can in principle determine the elements of the $\\mathbf{V}^{\\omega,[1]}$-vector from explicit calculations using one-electron integrals of the perturbation operator in the MO-basis. The property integrals are available in AO-basis from the `ElectricDipoleIntegralsDriver` class object and we transfer them to the MO-basis with use of the MO-coefficients."
   ]
  },
  {
   "cell_type": "code",
   "execution_count": 46,
   "id": "a824734f-3a3a-485a-8dda-0fdd774e421a",
   "metadata": {
    "editable": true,
    "slideshow": {
     "slide_type": ""
    },
    "tags": []
   },
   "outputs": [
    {
     "name": "stdout",
     "output_type": "stream",
     "text": [
      "MO integral < pi | x | pi* >: -1.316049\n",
      "MO integral < pi | x | pi* >: -1.861174\n"
     ]
    }
   ],
   "source": [
    "dipole_drv = vlx.ElectricDipoleIntegralsDriver()\n",
    "C = scf_results['C_alpha']\n",
    "\n",
    "dipole_matrices = dipole_drv.compute(molecule, basis)\n",
    "x_ao = -dipole_matrices.x_to_numpy()\n",
    "x_mo = np.matmul(C.T, np.matmul(x_ao, C))\n",
    "\n",
    "# sqrt(2) for consistent normalization\n",
    "print(f'{x_mo[nocc - 1,nocc]*np.sqrt(2.0) : .6f}')"
   ]
  },
  {
   "cell_type": "markdown",
   "id": "f1512e34-0283-4484-b2e5-c58d192599ff",
   "metadata": {
    "editable": true,
    "slideshow": {
     "slide_type": ""
    },
    "tags": []
   },
   "source": [
    "## Excitation energies\n",
    "\n",
    "Denote the eigenvectors of the generalized eigenvalue equation as $\\mathbf{X}_e$\n",
    "\n",
    "$$\n",
    "  \\mathbf{E}^{[2]} \\mathbf{X}_e = \\lambda_e \\mathbf{S}^{[2]} \\mathbf{X}_e, \\quad e = -n,\\ldots,-1,1,\\ldots,n ,\n",
    "$$\n",
    " \n",
    "where the matrix dimension is $2n$. We find the set of eigenvalues and eigenvectors by diagonalizing the non-Hermitian matrix $\\left(\\mathbf{S}^{[2]}\\right)^{-1} \\mathbf{E}^{[2]}$\n",
    "\n",
    "$$\n",
    "  \\mathbf{X}^{-1} \\left[ \\left(\\mathbf{S}^{[2]}\\right)^{-1} \\mathbf{E}^{[2]} \\right] \\mathbf{X} = \n",
    "  \\begin{bmatrix}\n",
    "    \\rule[-5pt]{0pt}{15pt}\n",
    "    \\rule{9pt}{0pt}\n",
    "    \\boldsymbol{\\lambda} & \\rule{3pt}{0pt} \\mathbf{0} \\rule{3pt}{0pt} \\\\\n",
    "    \\rule{3pt}{0pt}\n",
    "    \\mathbf{0} & -\\boldsymbol{\\lambda} \\rule{3pt}{0pt} \\\\\n",
    "  \\end{bmatrix}\n",
    "$$\n",
    "\n",
    "where $\\boldsymbol{\\lambda}$ is a diagonal matrix of dimension $n$ collecting the eigenvalues with positive index and the columns of $\\mathbf{X}$ store the eigenvectors ($\\mathbf{X}$ is assumed to be nonsingular). This pairing of eigenvalues has its correspondence in the eigenvectors through\n",
    "\n",
    "\\begin{align*}\n",
    "  \\mathbf{X}_e &=\n",
    "  \\begin{pmatrix}\n",
    "    \\rule[-5pt]{0pt}{15pt}\n",
    "    \\mathbf{Z}_e \\\\\n",
    "    \\rule[-5pt]{0pt}{0pt}\n",
    "    \\mathbf{Y}_e^* \\\\\n",
    "  \\end{pmatrix}\n",
    "\\; \\mbox{with eigenvalue}\\; \\lambda_e \\\\\n",
    "  \\mathbf{X}_{-e} &=\n",
    "  \\begin{pmatrix}\n",
    "    \\rule[-5pt]{0pt}{15pt}\n",
    "    \\mathbf{Y}_{e} \\\\\n",
    "    \\rule[-5pt]{0pt}{0pt}\n",
    "    \\mathbf{Z}_{e}^* \\\\\n",
    "  \\end{pmatrix} \n",
    "\\; \\mbox{with eigenvalue}\\; -\\!\\lambda_e \n",
    "\\end{align*}\n",
    "\n",
    "The matrix $\\mathbf{X}$ will therefore have the structure\n",
    "\n",
    "\\begin{equation*}\n",
    "  \\mathbf{X} = \n",
    "  \\begin{bmatrix}\n",
    "    \\rule[-5pt]{0pt}{15pt}\n",
    "    \\rule{3pt}{0pt}\n",
    "    \\mathbf{Z} & \\rule{3pt}{0pt} \\mathbf{Y} \\rule{3pt}{0pt} \\\\\n",
    "    \\rule{8pt}{0pt}\n",
    "    \\mathbf{Y}^* & \\rule{3pt}{0pt} \\mathbf{Z}^* \\rule{3pt}{0pt} \\\\\n",
    "  \\end{bmatrix}\n",
    "\\end{equation*}\n",
    "\n",
    "With an appropriate scaling of the eigenvectors $\\mathbf{X}_e$, the non-unitary matrix $\\mathbf{X}$ achieves a simultaneous diagonalization of the two non-commuting matrices $\\mathbf{E}^{[2]}$ and $\\mathbf{S}^{[2]}$ as\n",
    "\n",
    "$$\n",
    "  \\mathbf{X}^\\dagger \\mathbf{E}^{[2]} \\mathbf{X} = \n",
    "  \\begin{bmatrix}\n",
    "    \\rule[-5pt]{0pt}{15pt}\n",
    "    \\rule{9pt}{0pt}\n",
    "    \\boldsymbol{\\lambda} & \\rule{3pt}{0pt} \\mathbf{0} \\rule{3pt}{0pt} \\\\\n",
    "    \\rule{3pt}{0pt}\n",
    "    \\mathbf{0} & \\boldsymbol{\\lambda} \\rule{3pt}{0pt} \\\\\n",
    "  \\end{bmatrix} ; \\qquad\n",
    "  \\mathbf{X}^\\dagger \\mathbf{S}^{[2]} \\mathbf{X} =\n",
    "  \\begin{bmatrix}\n",
    "    \\rule[-5pt]{0pt}{15pt}\n",
    "    \\rule{8pt}{0pt}\n",
    "    \\mathbf{1} & \\rule{5pt}{0pt} \\mathbf{0} \\rule{3pt}{0pt} \\\\\n",
    "    \\rule{5pt}{0pt}\n",
    "    \\mathbf{0} & -\\mathbf{1} \\rule{3pt}{0pt} \\\\\n",
    "  \\end{bmatrix} \n",
    "$$\n",
    "\n",
    "For each pair of eigenvectors, the second equation involving the metric of the generalized eigenvalue equation defines which of the two that should be indexed with a positive index. We also emphasize that $\\mathbf{X}^\\dagger \\neq \\mathbf{X}^{-1}$ and for this reason the $\\mathbf{X}_e$'s are eigenvectors neither of $\\mathbf{E}^{[2]}$ nor of $\\mathbf{S}^{[2]}$, just as the $\\lambda_e$'s are not the eigenvalues of $\\mathbf{E}^{[2]}$.\n",
    "\n",
    "The eigenvalues, or excitation energies, can then be calculated by use of `np.linalg.eig` on $\\left(\\mathbf{S}^{[2]}\\right)^{-1} \\mathbf{E}^{[2]}$. This will return the eigenvalues and eigenvectors, which can then be reordered:"
   ]
  },
  {
   "cell_type": "code",
   "execution_count": 19,
   "id": "f2ffdeb2-05e7-4070-ac39-79d5b9d93c9f",
   "metadata": {
    "editable": true,
    "slideshow": {
     "slide_type": ""
    },
    "tags": []
   },
   "outputs": [
    {
     "name": "stdout",
     "output_type": "stream",
     "text": [
      "[0.36852357 0.39582117 0.41914496 0.53648534 0.59799821 0.66561384\n",
      " 0.694277   0.75545073 0.79173677 0.82446474 0.8364707  0.83957699]\n",
      "Reference:\n",
      " [0.36852357 0.39582117 0.41914496 0.53648534 0.59799821 0.66561384\n",
      " 0.694277   0.75545073 0.79173677 0.82446474 0.8364707  0.83957699]\n"
     ]
    }
   ],
   "source": [
    "eigs, X = np.linalg.eig(np.matmul(np.linalg.inv(S2), E2))\n",
    "\n",
    "# Reorder results\n",
    "idx = np.argsort(eigs)\n",
    "eigs = np.array(eigs)[idx]\n",
    "X = np.array(X)[:, idx]\n",
    "# print first 12 positive eigenvalues:\n",
    "print(eigs[n : n + 12])\n",
    "\n",
    "# print(f'Excitation energy (au): {eigs[idx] : .6f}')\n",
    "print(\"Reference:\\n\", lres_out[\"eigenvalues\"])"
   ]
  },
  {
   "cell_type": "markdown",
   "id": "7f346326-9e90-4c59-957b-366dad6d32a0",
   "metadata": {
    "editable": true,
    "slideshow": {
     "slide_type": ""
    },
    "tags": []
   },
   "source": [
    "## Intensities\n",
    "\n",
    "Transition moments in the SCF approximation take the form\n",
    "\n",
    "$$\n",
    "    \\langle n | \\hat{V} | 0 \\rangle =\n",
    "    \\mathbf{X}^\\dagger_f \\mathbf{V}^{\\omega,[1]}\n",
    "$$\n",
    "\n",
    "The oscillator strength is then calculated as"
   ]
  },
  {
   "cell_type": "code",
   "execution_count": 20,
   "id": "1da98e06-095c-4a94-a619-7f7a7cbbb756",
   "metadata": {
    "editable": true,
    "slideshow": {
     "slide_type": ""
    },
    "tags": []
   },
   "outputs": [],
   "source": [
    "def compute_fosc(eigs, X, V1x, V1y, V1z, S2):\n",
    "    fosc = []\n",
    "    for i in range(len(eigs)):\n",
    "        if eigs[i] > 0.0:  # only for positive eigenvalues\n",
    "            Xf = X[:, i]\n",
    "            Xf = Xf / np.sqrt(np.matmul(Xf.T, np.matmul(S2, Xf)))\n",
    "            tm = np.dot(Xf, V1x) ** 2 + np.dot(Xf, V1y) ** 2 + np.dot(Xf, V1z) ** 2\n",
    "            fosc.append(tm * 2.0 / 3.0 * eigs[i])\n",
    "    return fosc\n",
    "\n",
    "\n",
    "fosc = compute_fosc(eigs, X, V1x, V1y, V1z, S2)"
   ]
  },
  {
   "cell_type": "code",
   "execution_count": 21,
   "id": "1aaf17d1-90da-427e-b71c-61c2b32e608e",
   "metadata": {
    "editable": true,
    "slideshow": {
     "slide_type": ""
    },
    "tags": []
   },
   "outputs": [
    {
     "name": "stdout",
     "output_type": "stream",
     "text": [
      "Oscillator strengths:\n",
      " [0.489474 0.       0.       0.       0.       0.       0.       0.485906\n",
      " 0.       0.036035 1.200997 0.      ]\n",
      "\n",
      "Reference:\n",
      " [0.489474 0.       0.       0.       0.       0.       0.       0.485906\n",
      " 0.       0.036035 1.200997 0.      ]\n"
     ]
    }
   ],
   "source": [
    "print(\"Oscillator strengths:\\n\", np.around(fosc[:12], 6))\n",
    "print(\"\\nReference:\\n\", np.around(lres_out[\"oscillator_strengths\"], 6))"
   ]
  },
  {
   "cell_type": "markdown",
   "id": "9b6be111-4942-4602-8631-d9870151c99b",
   "metadata": {
    "editable": true,
    "slideshow": {
     "slide_type": ""
    },
    "tags": []
   },
   "source": [
    "## Analysis\n",
    "\n",
    "We can now compare our excitation energies to experiment, with obtained excitation energies and intensities:"
   ]
  },
  {
   "cell_type": "code",
   "execution_count": 22,
   "id": "2c60fdfa-e231-4b54-a585-632dd1016120",
   "metadata": {
    "editable": true,
    "slideshow": {
     "slide_type": ""
    },
    "tags": []
   },
   "outputs": [
    {
     "name": "stdout",
     "output_type": "stream",
     "text": [
      "State Energy [eV]  Osc. str.   TM(x)     TM(y)     TM(z)\n",
      "  0     10.028      0.48947   1.41149  -0.00000  -0.00000\n",
      "  1     10.771      0.00000  -0.00000  -0.00000   0.00000\n",
      "  2     11.406      0.00000   0.00000   0.00000  -0.00000\n",
      "  3     14.599      0.00000  -0.00000   0.00000   0.00000\n",
      "  4     16.272      0.00000   0.00000   0.00000  -0.00000\n",
      "  5     18.112      0.00000  -0.00000  -0.00000  -0.00011\n",
      "  6     18.892      0.00000  -0.00000   0.00000   0.00000\n",
      "  7     20.557      0.48591   0.00000  -0.00000   0.98224\n",
      "  8     21.544      0.00000   0.00000  -0.00000   0.00000\n",
      "  9     22.435      0.03604  -0.00000  -0.25605  -0.00000\n",
      " 10     22.762      1.20100  -1.46754   0.00000   0.00000\n",
      " 11     22.846      0.00000   0.00000  -0.00000  -0.00000\n"
     ]
    }
   ],
   "source": [
    "print_table(lres_out)"
   ]
  },
  {
   "cell_type": "markdown",
   "id": "89d4e53b-900e-4ec6-8945-2962fd89a426",
   "metadata": {
    "editable": true,
    "slideshow": {
     "slide_type": ""
    },
    "tags": []
   },
   "source": [
    "Assigning transitions can be done by considering, *e.g.*:\n",
    "- The polarization of the transition\n",
    "- Contributing MOs\n",
    "- ...\n",
    "\n",
    "For now we consider the MO amplitudes dominating each transition:"
   ]
  },
  {
   "cell_type": "code",
   "execution_count": 23,
   "id": "2d7a3eb3-0d7f-473f-8260-ccdd3ef2636e",
   "metadata": {
    "editable": true,
    "slideshow": {
     "slide_type": ""
    },
    "tags": []
   },
   "outputs": [
    {
     "name": "stdout",
     "output_type": "stream",
     "text": [
      "State  0: ['HOMO     -> LUMO         0.9905']\n",
      "State  1: ['HOMO-2   -> LUMO        -0.9925']\n",
      "State  2: ['HOMO-1   -> LUMO        -0.9986']\n",
      "State  3: ['HOMO-3   -> LUMO         0.9999']\n",
      "State  4: ['HOMO     -> LUMO+1      -0.9985']\n",
      "State  5: ['HOMO     -> LUMO+2       0.9130', 'HOMO-4   -> LUMO         0.4083']\n",
      "State  6: ['HOMO     -> LUMO+3       0.9894']\n",
      "State  7: ['HOMO-4   -> LUMO        -0.9134', 'HOMO     -> LUMO+2       0.4083']\n",
      "State  8: ['HOMO     -> LUMO+4      -0.9948']\n",
      "State  9: ['HOMO-2   -> LUMO+1       0.8927', 'HOMO-1   -> LUMO+3       0.3249', 'HOMO-3   -> LUMO+2      -0.2457']\n",
      "State 10: ['HOMO-1   -> LUMO+1       0.9826']\n",
      "State 11: ['HOMO-1   -> LUMO+2       0.9182', 'HOMO-3   -> LUMO+3      -0.3860']\n"
     ]
    }
   ],
   "source": [
    "for i in np.arange(len(lres_out[\"excitation_details\"])):\n",
    "    print(f\"State {i:2}:\", lres_out[\"excitation_details\"][i])"
   ]
  },
  {
   "cell_type": "markdown",
   "id": "68804e41-7409-4a42-9a86-f1dc826e7fae",
   "metadata": {
    "editable": true,
    "slideshow": {
     "slide_type": ""
    },
    "tags": []
   },
   "source": [
    "We see that the first transition, which has the polarization of the sought state, is strongly dominated by a HOMO-LUMO transition. Looking at the MOs (above), we can see that this is an intense $\\pi \\rightarrow \\pi^*$ transition. The excitation energy is seen to be just above 10 eV, so quite a bit above experiment ($\\sim$7.7 eV). This is due to the use of TDHF and the very limited basis set."
   ]
  },
  {
   "cell_type": "markdown",
   "id": "f94092ce-bcc2-4a03-b77c-82d016051baf",
   "metadata": {
    "editable": true,
    "slideshow": {
     "slide_type": ""
    },
    "tags": []
   },
   "source": [
    "## Electric-dipole polarizability\n",
    "\n",
    "The polarizability is determined from the linear response function according to\n",
    "\n",
    "$$\n",
    "\\alpha_{\\alpha\\beta}(\\omega) = -\n",
    "\\langle \\! \\langle \\hat{\\mu}_\\alpha ; \\hat{\\mu}_\\beta \\rangle \\! \\rangle_\\omega\n",
    "$$\n",
    "\n",
    "Here, $\\hat{\\Omega} = \\hat{\\mu}_\\alpha$ and $\\hat{V}^\\omega = - \\hat{\\mu}_\\beta$ are associated with the observable and perturbation, respectively.\n",
    "\n",
    "This linear response function is determined from the RPA matrix\n",
    "\n",
    "$$\n",
    "\\langle\\!\\langle \\hat{\\mu}; \\hat{V}^\\omega \\rangle\\!\\rangle =\n",
    "-{\\boldsymbol{\\mu}^{[1]}}^\\dagger\n",
    "\\Big(\n",
    "\\mathbf{E}^{[2]} - \\omega \\mathbf{S}^{[2]}\n",
    "\\Big)^{-1}\n",
    "\\mathbf{V}^{\\omega, [1]}\n",
    "$$\n",
    "\n",
    "In typical applications, the matrix dimension is large and instead of explicitly constructing the Hessian matrix, we solve the linear response equation with iterative techniques\n",
    "\n",
    "$$\n",
    "\\mathbf{N}(\\omega) =\n",
    "\\Big(\n",
    "\\mathbf{E}^{[2]} - \\omega \\mathbf{S}^{[2]}\n",
    "\\Big)^{-1}\n",
    "\\mathbf{V}^{\\omega,[1]}\n",
    "$$\n",
    "\n",
    "such that\n",
    "\n",
    "$$\n",
    "\\langle\\!\\langle \\hat{\\mu}; \\hat{V}^\\omega \\rangle\\!\\rangle =\n",
    "-{\\boldsymbol{\\mu}^{[1]}}^\\dagger \\mathbf{N}(\\omega)\n",
    "$$\n",
    "\n",
    "A reduced-space iterative algorithm for solving the linear response funciton is available from the `LinearResponseSolver` class object."
   ]
  },
  {
   "cell_type": "code",
   "execution_count": 37,
   "id": "f97ad4f3-af90-4da7-ba0b-15e59856e24e",
   "metadata": {
    "editable": true,
    "scrolled": true,
    "slideshow": {
     "slide_type": ""
    },
    "tags": [
     "remove-output"
    ]
   },
   "outputs": [
    {
     "name": "stdout",
     "output_type": "stream",
     "text": [
      "                                                                                                                          \n",
      "                                               Linear Response Solver Setup                                               \n",
      "                                              ==============================                                              \n",
      "                                                                                                                          \n",
      "                               Number of Frequencies           : 1                                                        \n",
      "                               Max. Number of Iterations       : 150                                                      \n",
      "                               Convergence Threshold           : 1.0e-04                                                  \n",
      "                               ERI Screening Scheme            : Cauchy Schwarz + Density                                 \n",
      "                               ERI Screening Threshold         : 1.0e-12                                                  \n",
      "                                                                                                                          \n",
      "* Info * Processing Fock builds... (batch size: 3)                                                                        \n",
      "* Info *   batch 1/1                                                                                                      \n",
      "                                                                                                                          \n",
      "* Info * 0 gerade trial vectors in reduced space                                                                          \n",
      "* Info * 3 ungerade trial vectors in reduced space                                                                        \n",
      "                                                                                                                          \n",
      "* Info * 6.52 kB of memory used for subspace procedure on the master node                                                 \n",
      "* Info * 5.99 GB of memory available for the solver on the master node                                                    \n",
      "                                                                                                                          \n",
      "               *** Iteration:   1 * Residuals (Max,Min): 8.86e-01 and 1.12e-01                                            \n",
      "                                                                                                                          \n",
      "               <<x;x>>_0.0000 :    -16.45083761 Residual Norm: 0.88611408                                                 \n",
      "               <<y;y>>_0.0000 :    -10.81927568 Residual Norm: 0.11227629                                                 \n",
      "               <<z;z>>_0.0000 :     -2.55585166 Residual Norm: 0.16131415                                                 \n",
      "                                                                                                                          \n",
      "* Info * Processing Fock builds... (batch size: 3)                                                                        \n",
      "* Info *   batch 1/1                                                                                                      \n",
      "                                                                                                                          \n",
      "* Info * 0 gerade trial vectors in reduced space                                                                          \n",
      "* Info * 6 ungerade trial vectors in reduced space                                                                        \n",
      "                                                                                                                          \n",
      "* Info * 8.82 kB of memory used for subspace procedure on the master node                                                 \n",
      "* Info * 5.99 GB of memory available for the solver on the master node                                                    \n",
      "                                                                                                                          \n",
      "               *** Iteration:   2 * Residuals (Max,Min): 1.32e-01 and 4.59e-03                                            \n",
      "                                                                                                                          \n",
      "               <<x;x>>_0.0000 :    -19.16501719 Residual Norm: 0.13196535                                                 \n",
      "               <<y;y>>_0.0000 :    -10.84233250 Residual Norm: 0.00967568                                                 \n",
      "               <<z;z>>_0.0000 :     -2.55794508 Residual Norm: 0.00459426                                                 \n",
      "                                                                                                                          \n",
      "* Info * Processing Fock builds... (batch size: 3)                                                                        \n",
      "* Info *   batch 1/1                                                                                                      \n",
      "                                                                                                                          \n",
      "* Info * 0 gerade trial vectors in reduced space                                                                          \n",
      "* Info * 9 ungerade trial vectors in reduced space                                                                        \n",
      "                                                                                                                          \n",
      "* Info * 11.31 kB of memory used for subspace procedure on the master node                                                \n",
      "* Info * 5.99 GB of memory available for the solver on the master node                                                    \n",
      "                                                                                                                          \n",
      "               *** Iteration:   3 * Residuals (Max,Min): 2.48e-02 and 3.53e-16                                            \n",
      "                                                                                                                          \n",
      "               <<x;x>>_0.0000 :    -19.35409617 Residual Norm: 0.02477375                                                 \n",
      "               <<y;y>>_0.0000 :    -10.84237653 Residual Norm: 0.00099217                                                 \n",
      "               <<z;z>>_0.0000 :     -2.55795936 Residual Norm: 0.00000000                                                 \n",
      "                                                                                                                          \n",
      "* Info * Processing Fock builds... (batch size: 2)                                                                        \n",
      "* Info *   batch 1/1                                                                                                      \n",
      "                                                                                                                          \n",
      "* Info * 0 gerade trial vectors in reduced space                                                                          \n",
      "* Info * 11 ungerade trial vectors in reduced space                                                                       \n",
      "                                                                                                                          \n",
      "* Info * 12.85 kB of memory used for subspace procedure on the master node                                                \n",
      "* Info * 5.99 GB of memory available for the solver on the master node                                                    \n",
      "                                                                                                                          \n",
      "               *** Iteration:   4 * Residuals (Max,Min): 2.57e-03 and 3.53e-16                                            \n",
      "                                                                                                                          \n",
      "               <<x;x>>_0.0000 :    -19.35685326 Residual Norm: 0.00257124                                                 \n",
      "               <<y;y>>_0.0000 :    -10.84237717 Residual Norm: 0.00008119                                                 \n",
      "                                                                                                                          \n",
      "* Info * Processing Fock builds... (batch size: 1)                                                                        \n",
      "* Info *   batch 1/1                                                                                                      \n",
      "                                                                                                                          \n",
      "* Info * 0 gerade trial vectors in reduced space                                                                          \n",
      "* Info * 12 ungerade trial vectors in reduced space                                                                       \n",
      "                                                                                                                          \n",
      "* Info * 13.43 kB of memory used for subspace procedure on the master node                                                \n",
      "* Info * 5.99 GB of memory available for the solver on the master node                                                    \n",
      "                                                                                                                          \n",
      "               *** Iteration:   5 * Residuals (Max,Min): 9.36e-05 and 3.53e-16                                            \n",
      "                                                                                                                          \n",
      "               <<x;x>>_0.0000 :    -19.35685965 Residual Norm: 0.00009358                                                 \n",
      "                                                                                                                          \n",
      "               *** Linear response converged in 5 iterations. Time: 0.10 sec                                              \n",
      "                                                                                                                          \n",
      "                                                                                                                          \n",
      "               Polarizability (w=0.0000)                                                                                  \n",
      "               -------------------------                                                                                  \n",
      "                                  X              Y              Z                                                         \n",
      "               X        19.35685965    -0.00000000    -0.00000000                                                         \n",
      "               Y        -0.00000000    10.84237717    -0.00000000                                                         \n",
      "               Z        -0.00000000    -0.00000000     2.55795936                                                         \n",
      "                                                                                                                          \n"
     ]
    }
   ],
   "source": [
    "lrs_drv = vlx.LinearResponseSolver()\n",
    "lrs_out = lrs_drv.compute(molecule, basis, scf_results)"
   ]
  },
  {
   "cell_type": "markdown",
   "id": "5acc6404-7ba4-435a-9170-6d6e44b4014a",
   "metadata": {
    "editable": true,
    "slideshow": {
     "slide_type": ""
    },
    "tags": []
   },
   "source": [
    "The return result `lrs_out` is a dictonary with the values of the response functions provided from the key `response_functions`."
   ]
  },
  {
   "cell_type": "code",
   "execution_count": 38,
   "id": "caf16bb2-20d7-43d4-acee-fdb7a074882b",
   "metadata": {
    "editable": true,
    "slideshow": {
     "slide_type": ""
    },
    "tags": []
   },
   "outputs": [
    {
     "data": {
      "text/plain": [
       "dict_keys(['response_functions', 'solutions'])"
      ]
     },
     "execution_count": 38,
     "metadata": {},
     "output_type": "execute_result"
    }
   ],
   "source": [
    "lrs_out.keys()"
   ]
  },
  {
   "cell_type": "code",
   "execution_count": 39,
   "id": "fa801053-76ca-4793-9eac-ddad2c60a03f",
   "metadata": {
    "editable": true,
    "slideshow": {
     "slide_type": ""
    },
    "tags": []
   },
   "outputs": [
    {
     "name": "stdout",
     "output_type": "stream",
     "text": [
      "alpha_xx(0):  19.356860\n",
      "alpha_yy(0):  10.842377\n",
      "alpha_zz(0):  2.557959\n"
     ]
    }
   ],
   "source": [
    "alpha_xx = -lrs_out['response_functions'][('x', 'x', 0)]\n",
    "alpha_yy = -lrs_out['response_functions'][('y', 'y', 0)] \n",
    "alpha_zz = -lrs_out['response_functions'][('z', 'z', 0)]\n",
    "\n",
    "print(f\"alpha_xx(0): {alpha_xx : .6f}\")\n",
    "print(f\"alpha_yy(0): {alpha_yy : .6f}\")\n",
    "print(f\"alpha_zz(0): {alpha_zz : .6f}\")"
   ]
  },
  {
   "cell_type": "markdown",
   "id": "9c50b28f-9431-4d33-bbd2-d3e2fd5a35fc",
   "metadata": {
    "editable": true,
    "slideshow": {
     "slide_type": ""
    },
    "tags": []
   },
   "source": [
    "The solution vectors (or *response vectors*) are available from the key `solutions`, so that we can also determine the the linear response function values from the multiplication of response vectors with property gradients."
   ]
  },
  {
   "cell_type": "code",
   "execution_count": 40,
   "id": "bcd6568b-2cf5-403e-a5d2-dfdd4276e1cd",
   "metadata": {
    "editable": true,
    "slideshow": {
     "slide_type": ""
    },
    "tags": []
   },
   "outputs": [
    {
     "name": "stdout",
     "output_type": "stream",
     "text": [
      "alpha_xx(0):  19.356860\n",
      "alpha_yy(0):  10.842377\n",
      "alpha_zz(0):  2.557959\n"
     ]
    }
   ],
   "source": [
    "Nx = lrs_drv.get_full_solution_vector(lrs_out['solutions'][('x', 0)])\n",
    "Ny = lrs_drv.get_full_solution_vector(lrs_out['solutions'][('y', 0)])\n",
    "Nz = lrs_drv.get_full_solution_vector(lrs_out['solutions'][('z', 0)])\n",
    "\n",
    "print(f\"alpha_xx(0): {np.dot(mu_x, Nx) : .6f}\")\n",
    "print(f\"alpha_yy(0): {np.dot(mu_y, Ny) : .6f}\")\n",
    "print(f\"alpha_zz(0): {np.dot(mu_z, Nz) : .6f}\")"
   ]
  },
  {
   "cell_type": "markdown",
   "id": "65cea452-ba8c-4c93-9391-21ab733de448",
   "metadata": {
    "editable": true,
    "slideshow": {
     "slide_type": ""
    },
    "tags": []
   },
   "source": [
    "In this example, the `LinearResponseSolver` was using its default settings for operators and frequencies, both of which can be changed. We change the value of the optical frequency from the default zero to 0.0656 a.u. with use of the dictionary `rsp_settings`."
   ]
  },
  {
   "cell_type": "code",
   "execution_count": 41,
   "id": "c19508a7-b76a-402a-9bbe-a4c054ba2f34",
   "metadata": {
    "editable": true,
    "scrolled": true,
    "slideshow": {
     "slide_type": ""
    },
    "tags": [
     "remove-output"
    ]
   },
   "outputs": [
    {
     "name": "stdout",
     "output_type": "stream",
     "text": [
      "                                                                                                                          \n",
      "                                               Linear Response Solver Setup                                               \n",
      "                                              ==============================                                              \n",
      "                                                                                                                          \n",
      "                               Number of Frequencies           : 1                                                        \n",
      "                               Max. Number of Iterations       : 150                                                      \n",
      "                               Convergence Threshold           : 1.0e-04                                                  \n",
      "                               ERI Screening Scheme            : Cauchy Schwarz + Density                                 \n",
      "                               ERI Screening Threshold         : 1.0e-12                                                  \n",
      "                                                                                                                          \n",
      "* Info * Processing Fock builds... (batch size: 6)                                                                        \n",
      "* Info *   batch 1/1                                                                                                      \n",
      "                                                                                                                          \n",
      "* Info * 3 gerade trial vectors in reduced space                                                                          \n",
      "* Info * 3 ungerade trial vectors in reduced space                                                                        \n",
      "                                                                                                                          \n",
      "* Info * 8.86 kB of memory used for subspace procedure on the master node                                                 \n",
      "* Info * 5.94 GB of memory available for the solver on the master node                                                    \n",
      "                                                                                                                          \n",
      "               *** Iteration:   1 * Residuals (Max,Min): 8.70e-01 and 1.12e-01                                            \n",
      "                                                                                                                          \n",
      "               <<x;x>>_0.0656 :    -16.70393891 Residual Norm: 0.87013315                                                 \n",
      "               <<y;y>>_0.0656 :    -10.87666043 Residual Norm: 0.11170765                                                 \n",
      "               <<z;z>>_0.0656 :     -2.57519613 Residual Norm: 0.16126137                                                 \n",
      "                                                                                                                          \n",
      "* Info * Processing Fock builds... (batch size: 6)                                                                        \n",
      "* Info *   batch 1/1                                                                                                      \n",
      "                                                                                                                          \n",
      "* Info * 6 gerade trial vectors in reduced space                                                                          \n",
      "* Info * 6 ungerade trial vectors in reduced space                                                                        \n",
      "                                                                                                                          \n",
      "* Info * 13.47 kB of memory used for subspace procedure on the master node                                                \n",
      "* Info * 5.94 GB of memory available for the solver on the master node                                                    \n",
      "                                                                                                                          \n",
      "               *** Iteration:   2 * Residuals (Max,Min): 1.35e-01 and 5.04e-03                                            \n",
      "                                                                                                                          \n",
      "               <<x;x>>_0.0656 :    -19.53588904 Residual Norm: 0.13504784                                                 \n",
      "               <<y;y>>_0.0656 :    -10.90007992 Residual Norm: 0.00987185                                                 \n",
      "               <<z;z>>_0.0656 :     -2.57734969 Residual Norm: 0.00504108                                                 \n",
      "                                                                                                                          \n",
      "* Info * Processing Fock builds... (batch size: 6)                                                                        \n",
      "* Info *   batch 1/1                                                                                                      \n",
      "                                                                                                                          \n",
      "* Info * 9 gerade trial vectors in reduced space                                                                          \n",
      "* Info * 9 ungerade trial vectors in reduced space                                                                        \n",
      "                                                                                                                          \n",
      "* Info * 18.24 kB of memory used for subspace procedure on the master node                                                \n",
      "* Info * 5.94 GB of memory available for the solver on the master node                                                    \n",
      "                                                                                                                          \n",
      "               *** Iteration:   3 * Residuals (Max,Min): 2.52e-02 and 1.62e-16                                            \n",
      "                                                                                                                          \n",
      "               <<x;x>>_0.0656 :    -19.75417209 Residual Norm: 0.02518802                                                 \n",
      "               <<y;y>>_0.0656 :    -10.90012818 Residual Norm: 0.00102695                                                 \n",
      "               <<z;z>>_0.0656 :     -2.57736583 Residual Norm: 0.00000000                                                 \n",
      "                                                                                                                          \n",
      "* Info * Processing Fock builds... (batch size: 4)                                                                        \n",
      "* Info *   batch 1/1                                                                                                      \n",
      "                                                                                                                          \n",
      "* Info * 11 gerade trial vectors in reduced space                                                                         \n",
      "* Info * 11 ungerade trial vectors in reduced space                                                                       \n",
      "                                                                                                                          \n",
      "* Info * 21.31 kB of memory used for subspace procedure on the master node                                                \n",
      "* Info * 5.94 GB of memory available for the solver on the master node                                                    \n",
      "                                                                                                                          \n",
      "               *** Iteration:   4 * Residuals (Max,Min): 2.61e-03 and 1.62e-16                                            \n",
      "                                                                                                                          \n",
      "               <<x;x>>_0.0656 :    -19.75729633 Residual Norm: 0.00261140                                                 \n",
      "               <<y;y>>_0.0656 :    -10.90012886 Residual Norm: 0.00008802                                                 \n",
      "                                                                                                                          \n",
      "* Info * Processing Fock builds... (batch size: 2)                                                                        \n",
      "* Info *   batch 1/1                                                                                                      \n",
      "                                                                                                                          \n",
      "* Info * 12 gerade trial vectors in reduced space                                                                         \n",
      "* Info * 12 ungerade trial vectors in reduced space                                                                       \n",
      "                                                                                                                          \n",
      "* Info * 22.85 kB of memory used for subspace procedure on the master node                                                \n",
      "* Info * 5.94 GB of memory available for the solver on the master node                                                    \n",
      "                                                                                                                          \n",
      "               *** Iteration:   5 * Residuals (Max,Min): 1.07e-04 and 1.62e-16                                            \n",
      "                                                                                                                          \n",
      "               <<x;x>>_0.0656 :    -19.75730393 Residual Norm: 0.00010689                                                 \n",
      "                                                                                                                          \n",
      "* Info * Processing Fock builds... (batch size: 2)                                                                        \n",
      "* Info *   batch 1/1                                                                                                      \n",
      "                                                                                                                          \n",
      "* Info * 13 gerade trial vectors in reduced space                                                                         \n",
      "* Info * 13 ungerade trial vectors in reduced space                                                                       \n",
      "                                                                                                                          \n",
      "* Info * 24.22 kB of memory used for subspace procedure on the master node                                                \n",
      "* Info * 5.94 GB of memory available for the solver on the master node                                                    \n",
      "                                                                                                                          \n",
      "               *** Iteration:   6 * Residuals (Max,Min): 8.80e-05 and 1.62e-16                                            \n",
      "                                                                                                                          \n",
      "               <<x;x>>_0.0656 :    -19.75730396 Residual Norm: 0.00000689                                                 \n",
      "                                                                                                                          \n",
      "               *** Linear response converged in 6 iterations. Time: 0.17 sec                                              \n",
      "                                                                                                                          \n",
      "                                                                                                                          \n",
      "               Polarizability (w=0.0656)                                                                                  \n",
      "               -------------------------                                                                                  \n",
      "                                  X              Y              Z                                                         \n",
      "               X        19.75730396    -0.00000000    -0.00000000                                                         \n",
      "               Y        -0.00000000    10.90012886    -0.00000000                                                         \n",
      "               Z        -0.00000000    -0.00000000     2.57736583                                                         \n",
      "                                                                                                                          \n",
      "alpha_xx(w=0.0656):  19.757304\n",
      "alpha_yy(w=0.0656):  10.900129\n",
      "alpha_zz(w=0.0656):  2.577366\n"
     ]
    }
   ],
   "source": [
    "lrs_drv = vlx.LinearResponseSolver()\n",
    "rsp_settings = {'frequencies': [0.0656]}\n",
    "method_settings = {} # Hartree-Fock is default\n",
    "lrs_drv.update_settings(rsp_settings, method_settings)\n",
    "\n",
    "lrs_out = lrs_drv.compute(molecule, basis, scf_results)\n",
    "\n",
    "alpha_xx = -lrs_out['response_functions'][('x', 'x', 0.0656)]\n",
    "alpha_yy = -lrs_out['response_functions'][('y', 'y', 0.0656)] \n",
    "alpha_zz = -lrs_out['response_functions'][('z', 'z', 0.0656)]\n",
    "\n",
    "print(f\"alpha_xx(w=0.0656): {alpha_xx : .6f}\")\n",
    "print(f\"alpha_yy(w=0.0656): {alpha_yy : .6f}\")\n",
    "print(f\"alpha_zz(w=0.0656): {alpha_zz : .6f}\")"
   ]
  },
  {
   "cell_type": "markdown",
   "id": "4e5aef75-5a32-4895-8c35-d2c976ebe752",
   "metadata": {
    "editable": true,
    "slideshow": {
     "slide_type": ""
    },
    "tags": []
   },
   "source": [
    "Alternatively, in our small example the matrices in the RPA equation ($\\mathbf{E}^{[2]}$ and $\\mathbf{S}^{[2]}$) have been formed explicitly and we can thus determine values of linear response functions by straightforward matrix inverse and multiplication."
   ]
  },
  {
   "cell_type": "code",
   "execution_count": 42,
   "id": "40399d4f-d1c0-4a57-a77a-1bdd0c56d55f",
   "metadata": {
    "editable": true,
    "slideshow": {
     "slide_type": ""
    },
    "tags": []
   },
   "outputs": [
    {
     "name": "stdout",
     "output_type": "stream",
     "text": [
      "alpha_xx(w=0.0656):  19.757304\n",
      "alpha_yy(w=0.0656):  10.900129\n",
      "alpha_zz(w=0.0656):  2.577366\n"
     ]
    }
   ],
   "source": [
    "omega = 0.0656\n",
    "alpha_xx = np.dot(mu_x, np.matmul(np.linalg.inv(E2 - omega * S2), mu_x))\n",
    "alpha_yy = np.dot(mu_y, np.matmul(np.linalg.inv(E2 - omega * S2), mu_y))\n",
    "alpha_zz = np.dot(mu_z, np.matmul(np.linalg.inv(E2 - omega * S2), mu_z))\n",
    "\n",
    "print(f\"alpha_xx(w=0.0656): {alpha_xx : .6f}\")\n",
    "print(f\"alpha_yy(w=0.0656): {alpha_yy : .6f}\")\n",
    "print(f\"alpha_zz(w=0.0656): {alpha_zz : .6f}\")"
   ]
  },
  {
   "cell_type": "markdown",
   "id": "3b3cfee5-fd79-4ea0-ac28-8f7149f4c342",
   "metadata": {
    "editable": true,
    "slideshow": {
     "slide_type": ""
    },
    "tags": []
   },
   "source": [
    "## Complex polarizability\n",
    "\n",
    "As an alternative to calculating the eigenstates, the complex polarizability is determined from the linear response function according to {cite}`Norman2018`\n",
    "\n",
    "$$\n",
    "\\alpha_{\\alpha\\beta}(\\omega) = -\n",
    "\\langle \\! \\langle \\hat{\\mu}_\\alpha ; \\hat{\\mu}_\\beta \\rangle  \\! \\rangle_\\omega^\\gamma\n",
    "$$\n",
    "\n",
    "Here, the linear response equation takes the form\n",
    "\n",
    "$$\n",
    "\\langle\\!\\langle \\hat{\\mu}; \\hat{\\mu} \\rangle\\!\\rangle =\n",
    "-{\\boldsymbol{\\mu}^{[1]}}^\\dagger\n",
    "\\Big(\n",
    "\\mathbf{E}^{[2]} - (\\omega + i\\gamma) \\mathbf{S}^{[2]}\n",
    "\\Big)^{-1}\n",
    "\\boldsymbol{\\mu}^{[1]}\n",
    "$$\n",
    "\n",
    "where the phenomenological damping parameter $\\gamma$ is associated with the inverse of the finite lifetime of the excited states in the molecular system. A polarizability calculated in this manner is physically sound for all optical frequencies, be it in the nonresonance or resonence regions of the spectrum. The real and imaginary parts of such complex response functions are related by the Kramers--Kronig relations and typically associated with separate spectroscopies and/or physical phenomena. In the case of the electric-dipole polarizability, the real and imaginary parts are associated with light scattering and absorption, respectively.\n",
    "\n",
    "We can determine complex response functions by means of the `ComplexResponse` class object. We consider 50 frequencies within 0.05 a.u. from the $\\pi \\rightarrow \\pi^{\\ast}$ transition:"
   ]
  },
  {
   "cell_type": "code",
   "execution_count": 64,
   "id": "c0c186de-7dc3-4a0a-80a0-33b0795e06d9",
   "metadata": {
    "editable": true,
    "scrolled": true,
    "slideshow": {
     "slide_type": ""
    },
    "tags": [
     "remove-output"
    ]
   },
   "outputs": [
    {
     "name": "stdout",
     "output_type": "stream",
     "text": [
      "               Response Functions at Given Frequencies                                                                    \n",
      "               =======================================                                                                    \n",
      "                                                                                                                          \n",
      "               Dipole  Dipole   Frequency            Real        Imaginary                                                \n",
      "               -----------------------------------------------------------                                                \n",
      "               <<  x  ;  x  >>     0.3185    -52.22386969     -3.62363168j                                                \n",
      "               <<  x  ;  y  >>     0.3185      0.00000000      0.00000000j                                                \n",
      "               <<  x  ;  z  >>     0.3185      0.00000000     -0.00000000j                                                \n",
      "               <<  y  ;  x  >>     0.3185      0.00000000      0.00000000j                                                \n",
      "               <<  y  ;  y  >>     0.3185    -12.39364642     -0.05088425j                                                \n",
      "               <<  y  ;  z  >>     0.3185      0.00000000      0.00000000j                                                \n",
      "               <<  z  ;  x  >>     0.3185      0.00000000     -0.00000000j                                                \n",
      "               <<  z  ;  y  >>     0.3185      0.00000000      0.00000000j                                                \n",
      "               <<  z  ;  z  >>     0.3185     -3.10996309     -0.01921328j                                                \n",
      "                                                                                                                          \n",
      "               Dipole  Dipole   Frequency            Real        Imaginary                                                \n",
      "               -----------------------------------------------------------                                                \n",
      "               <<  x  ;  x  >>     0.3195    -53.03824423     -3.77421599j                                                \n",
      "               <<  x  ;  y  >>     0.3195      0.00000000      0.00000000j                                                \n",
      "               <<  x  ;  z  >>     0.3195      0.00000000     -0.00000000j                                                \n",
      "               <<  y  ;  x  >>     0.3195      0.00000000      0.00000000j                                                \n",
      "               <<  y  ;  y  >>     0.3195    -12.40506935     -0.05114336j                                                \n",
      "               <<  y  ;  z  >>     0.3195      0.00000000      0.00000000j                                                \n",
      "               <<  z  ;  x  >>     0.3195      0.00000000     -0.00000000j                                                \n",
      "               <<  z  ;  y  >>     0.3195      0.00000000      0.00000000j                                                \n",
      "               <<  z  ;  z  >>     0.3195     -3.11427776     -0.01932842j                                                \n",
      "                                                                                                                          \n",
      "               Dipole  Dipole   Frequency            Real        Imaginary                                                \n",
      "               -----------------------------------------------------------                                                \n",
      "               <<  x  ;  x  >>     0.3206    -53.88620867     -3.93438260j                                                \n",
      "               <<  x  ;  y  >>     0.3206      0.00000000      0.00000000j                                                \n",
      "               <<  x  ;  z  >>     0.3206      0.00000000     -0.00000000j                                                \n",
      "               <<  y  ;  x  >>     0.3206      0.00000000      0.00000000j                                                \n",
      "               <<  y  ;  y  >>     0.3206    -12.41655043     -0.05140367j                                                \n",
      "               <<  y  ;  z  >>     0.3206      0.00000000      0.00000000j                                                \n",
      "               <<  z  ;  x  >>     0.3206      0.00000000     -0.00000000j                                                \n",
      "               <<  z  ;  y  >>     0.3206      0.00000000      0.00000000j                                                \n",
      "               <<  z  ;  z  >>     0.3206     -3.11861829     -0.01944430j                                                \n",
      "                                                                                                                          \n",
      "               Dipole  Dipole   Frequency            Real        Imaginary                                                \n",
      "               -----------------------------------------------------------                                                \n",
      "               <<  x  ;  x  >>     0.3216    -54.76986933     -4.10496085j                                                \n",
      "               <<  x  ;  y  >>     0.3216      0.00000000      0.00000000j                                                \n",
      "               <<  x  ;  z  >>     0.3216      0.00000000     -0.00000000j                                                \n",
      "               <<  y  ;  x  >>     0.3216      0.00000000      0.00000000j                                                \n",
      "               <<  y  ;  y  >>     0.3216    -12.42808993     -0.05166519j                                                \n",
      "               <<  y  ;  z  >>     0.3216      0.00000000      0.00000000j                                                \n",
      "               <<  z  ;  x  >>     0.3216      0.00000000     -0.00000000j                                                \n",
      "               <<  z  ;  y  >>     0.3216      0.00000000      0.00000000j                                                \n",
      "               <<  z  ;  z  >>     0.3216     -3.12298484     -0.01956093j                                                \n",
      "                                                                                                                          \n",
      "               Dipole  Dipole   Frequency            Real        Imaginary                                                \n",
      "               -----------------------------------------------------------                                                \n",
      "               <<  x  ;  x  >>     0.3226    -55.69151067     -4.28687146j                                                \n",
      "               <<  x  ;  y  >>     0.3226      0.00000000      0.00000000j                                                \n",
      "               <<  x  ;  z  >>     0.3226      0.00000000     -0.00000000j                                                \n",
      "               <<  y  ;  x  >>     0.3226      0.00000000      0.00000000j                                                \n",
      "               <<  y  ;  y  >>     0.3226    -12.43968811     -0.05192793j                                                \n",
      "               <<  y  ;  z  >>     0.3226      0.00000000      0.00000000j                                                \n",
      "               <<  z  ;  x  >>     0.3226      0.00000000     -0.00000000j                                                \n",
      "               <<  z  ;  y  >>     0.3226      0.00000000      0.00000000j                                                \n",
      "               <<  z  ;  z  >>     0.3226     -3.12737758     -0.01967831j                                                \n",
      "                                                                                                                          \n",
      "               Dipole  Dipole   Frequency            Real        Imaginary                                                \n",
      "               -----------------------------------------------------------                                                \n",
      "               <<  x  ;  x  >>     0.3236    -56.65361427     -4.48113888j                                                \n",
      "               <<  x  ;  y  >>     0.3236      0.00000000      0.00000000j                                                \n",
      "               <<  x  ;  z  >>     0.3236      0.00000000     -0.00000000j                                                \n",
      "               <<  y  ;  x  >>     0.3236      0.00000000      0.00000000j                                                \n",
      "               <<  y  ;  y  >>     0.3236    -12.45134527     -0.05219190j                                                \n",
      "               <<  y  ;  z  >>     0.3236      0.00000000      0.00000000j                                                \n",
      "               <<  z  ;  x  >>     0.3236      0.00000000     -0.00000000j                                                \n",
      "               <<  z  ;  y  >>     0.3236      0.00000000      0.00000000j                                                \n",
      "               <<  z  ;  z  >>     0.3236     -3.13179669     -0.01979646j                                                \n",
      "                                                                                                                          \n",
      "               Dipole  Dipole   Frequency            Real        Imaginary                                                \n",
      "               -----------------------------------------------------------                                                \n",
      "               <<  x  ;  x  >>     0.3246    -57.65888033     -4.68890552j                                                \n",
      "               <<  x  ;  y  >>     0.3246      0.00000000      0.00000000j                                                \n",
      "               <<  x  ;  z  >>     0.3246      0.00000000     -0.00000000j                                                \n",
      "               <<  y  ;  x  >>     0.3246      0.00000000      0.00000000j                                                \n",
      "               <<  y  ;  y  >>     0.3246    -12.46306166     -0.05245710j                                                \n",
      "               <<  y  ;  z  >>     0.3246      0.00000000      0.00000000j                                                \n",
      "               <<  z  ;  x  >>     0.3246      0.00000000     -0.00000000j                                                \n",
      "               <<  z  ;  y  >>     0.3246      0.00000000      0.00000000j                                                \n",
      "               <<  z  ;  z  >>     0.3246     -3.13624233     -0.01991537j                                                \n",
      "                                                                                                                          \n",
      "               Dipole  Dipole   Frequency            Real        Imaginary                                                \n",
      "               -----------------------------------------------------------                                                \n",
      "               <<  x  ;  x  >>     0.3257    -58.71025183     -4.91144842j                                                \n",
      "               <<  x  ;  y  >>     0.3257      0.00000000      0.00000000j                                                \n",
      "               <<  x  ;  z  >>     0.3257      0.00000000     -0.00000000j                                                \n",
      "               <<  y  ;  x  >>     0.3257      0.00000000      0.00000000j                                                \n",
      "               <<  y  ;  y  >>     0.3257    -12.47483757     -0.05272355j                                                \n",
      "               <<  y  ;  z  >>     0.3257      0.00000000      0.00000000j                                                \n",
      "               <<  z  ;  x  >>     0.3257      0.00000000     -0.00000000j                                                \n",
      "               <<  z  ;  y  >>     0.3257      0.00000000      0.00000000j                                                \n",
      "               <<  z  ;  z  >>     0.3257     -3.14071468     -0.02003506j                                                \n",
      "                                                                                                                          \n",
      "               Dipole  Dipole   Frequency            Real        Imaginary                                                \n",
      "               -----------------------------------------------------------                                                \n",
      "               <<  x  ;  x  >>     0.3267    -59.81094212     -5.15019866j                                                \n",
      "               <<  x  ;  y  >>     0.3267      0.00000000      0.00000000j                                                \n",
      "               <<  x  ;  z  >>     0.3267      0.00000000     -0.00000000j                                                \n",
      "               <<  y  ;  x  >>     0.3267      0.00000000      0.00000000j                                                \n",
      "               <<  y  ;  y  >>     0.3267    -12.48667328     -0.05299126j                                                \n",
      "               <<  y  ;  z  >>     0.3267      0.00000000      0.00000000j                                                \n",
      "               <<  z  ;  x  >>     0.3267      0.00000000     -0.00000000j                                                \n",
      "               <<  z  ;  y  >>     0.3267      0.00000000      0.00000000j                                                \n",
      "               <<  z  ;  z  >>     0.3267     -3.14521391     -0.02015554j                                                \n",
      "                                                                                                                          \n",
      "               Dipole  Dipole   Frequency            Real        Imaginary                                                \n",
      "               -----------------------------------------------------------                                                \n",
      "               <<  x  ;  x  >>     0.3277    -60.96446611     -5.40676409j                                                \n",
      "               <<  x  ;  y  >>     0.3277      0.00000000      0.00000000j                                                \n",
      "               <<  x  ;  z  >>     0.3277      0.00000000     -0.00000000j                                                \n",
      "               <<  y  ;  x  >>     0.3277      0.00000000      0.00000000j                                                \n",
      "               <<  y  ;  y  >>     0.3277    -12.49856907     -0.05326024j                                                \n",
      "               <<  y  ;  z  >>     0.3277      0.00000000      0.00000000j                                                \n",
      "               <<  z  ;  x  >>     0.3277      0.00000000     -0.00000000j                                                \n",
      "               <<  z  ;  y  >>     0.3277      0.00000000      0.00000000j                                                \n",
      "               <<  z  ;  z  >>     0.3277     -3.14974019     -0.02027680j                                                \n",
      "                                                                                                                          \n",
      "               Dipole  Dipole   Frequency            Real        Imaginary                                                \n",
      "               -----------------------------------------------------------                                                \n",
      "               <<  x  ;  x  >>     0.3287    -62.17467590     -5.68295605j                                                \n",
      "               <<  x  ;  y  >>     0.3287      0.00000000      0.00000000j                                                \n",
      "               <<  x  ;  z  >>     0.3287      0.00000000     -0.00000000j                                                \n",
      "               <<  y  ;  x  >>     0.3287      0.00000000      0.00000000j                                                \n",
      "               <<  y  ;  y  >>     0.3287    -12.51052523     -0.05353049j                                                \n",
      "               <<  y  ;  z  >>     0.3287      0.00000000      0.00000000j                                                \n",
      "               <<  z  ;  x  >>     0.3287      0.00000000     -0.00000000j                                                \n",
      "               <<  z  ;  y  >>     0.3287      0.00000000      0.00000000j                                                \n",
      "               <<  z  ;  z  >>     0.3287     -3.15429371     -0.02039887j                                                \n",
      "                                                                                                                          \n",
      "               Dipole  Dipole   Frequency            Real        Imaginary                                                \n",
      "               -----------------------------------------------------------                                                \n",
      "               <<  x  ;  x  >>     0.3297    -63.44580146     -5.98082098j                                                \n",
      "               <<  x  ;  y  >>     0.3297      0.00000000      0.00000000j                                                \n",
      "               <<  x  ;  z  >>     0.3297      0.00000000     -0.00000000j                                                \n",
      "               <<  y  ;  x  >>     0.3297      0.00000000      0.00000000j                                                \n",
      "               <<  y  ;  y  >>     0.3297    -12.52254204     -0.05380204j                                                \n",
      "               <<  y  ;  z  >>     0.3297      0.00000000      0.00000000j                                                \n",
      "               <<  z  ;  x  >>     0.3297      0.00000000     -0.00000000j                                                \n",
      "               <<  z  ;  y  >>     0.3297      0.00000000      0.00000000j                                                \n",
      "               <<  z  ;  z  >>     0.3297     -3.15887465     -0.02052175j                                                \n",
      "                                                                                                                          \n",
      "               Dipole  Dipole   Frequency            Real        Imaginary                                                \n",
      "               -----------------------------------------------------------                                                \n",
      "               <<  x  ;  x  >>     0.3308    -64.78249712     -6.30267773j                                                \n",
      "               <<  x  ;  y  >>     0.3308      0.00000000      0.00000000j                                                \n",
      "               <<  x  ;  z  >>     0.3308      0.00000000     -0.00000000j                                                \n",
      "               <<  y  ;  x  >>     0.3308      0.00000000      0.00000000j                                                \n",
      "               <<  y  ;  y  >>     0.3308    -12.53461980     -0.05407487j                                                \n",
      "               <<  y  ;  z  >>     0.3308      0.00000000      0.00000000j                                                \n",
      "               <<  z  ;  x  >>     0.3308      0.00000000     -0.00000000j                                                \n",
      "               <<  z  ;  y  >>     0.3308      0.00000000      0.00000000j                                                \n",
      "               <<  z  ;  z  >>     0.3308     -3.16348319     -0.02064544j                                                \n",
      "                                                                                                                          \n",
      "               Dipole  Dipole   Frequency            Real        Imaginary                                                \n",
      "               -----------------------------------------------------------                                                \n",
      "               <<  x  ;  x  >>     0.3318    -66.18989504     -6.65116211j                                                \n",
      "               <<  x  ;  y  >>     0.3318      0.00000000      0.00000000j                                                \n",
      "               <<  x  ;  z  >>     0.3318      0.00000000     -0.00000000j                                                \n",
      "               <<  y  ;  x  >>     0.3318      0.00000000      0.00000000j                                                \n",
      "               <<  y  ;  y  >>     0.3318    -12.54675878     -0.05434902j                                                \n",
      "               <<  y  ;  z  >>     0.3318      0.00000000      0.00000000j                                                \n",
      "               <<  z  ;  x  >>     0.3318      0.00000000     -0.00000000j                                                \n",
      "               <<  z  ;  y  >>     0.3318      0.00000000      0.00000000j                                                \n",
      "               <<  z  ;  z  >>     0.3318     -3.16811950     -0.02076995j                                                \n",
      "                                                                                                                          \n",
      "               Dipole  Dipole   Frequency            Real        Imaginary                                                \n",
      "               -----------------------------------------------------------                                                \n",
      "               <<  x  ;  x  >>     0.3328    -67.67366669     -7.02927992j                                                \n",
      "               <<  x  ;  y  >>     0.3328      0.00000000      0.00000000j                                                \n",
      "               <<  x  ;  z  >>     0.3328      0.00000000     -0.00000000j                                                \n",
      "               <<  y  ;  x  >>     0.3328      0.00000000      0.00000000j                                                \n",
      "               <<  y  ;  y  >>     0.3328    -12.55895930     -0.05462448j                                                \n",
      "               <<  y  ;  z  >>     0.3328      0.00000000      0.00000000j                                                \n",
      "               <<  z  ;  x  >>     0.3328      0.00000000     -0.00000000j                                                \n",
      "               <<  z  ;  y  >>     0.3328      0.00000000      0.00000000j                                                \n",
      "               <<  z  ;  z  >>     0.3328     -3.17278379     -0.02089530j                                                \n",
      "                                                                                                                          \n",
      "               Dipole  Dipole   Frequency            Real        Imaginary                                                \n",
      "               -----------------------------------------------------------                                                \n",
      "               <<  x  ;  x  >>     0.3338    -69.24009378     -7.44047077j                                                \n",
      "               <<  x  ;  y  >>     0.3338      0.00000000      0.00000000j                                                \n",
      "               <<  x  ;  z  >>     0.3338     -0.00000000     -0.00000000j                                                \n",
      "               <<  y  ;  x  >>     0.3338      0.00000000      0.00000000j                                                \n",
      "               <<  y  ;  y  >>     0.3338    -12.57122164     -0.05490127j                                                \n",
      "               <<  y  ;  z  >>     0.3338      0.00000000      0.00000000j                                                \n",
      "               <<  z  ;  x  >>     0.3338     -0.00000000     -0.00000000j                                                \n",
      "               <<  z  ;  y  >>     0.3338      0.00000000      0.00000000j                                                \n",
      "               <<  z  ;  z  >>     0.3338     -3.17747622     -0.02102149j                                                \n",
      "                                                                                                                          \n",
      "               Dipole  Dipole   Frequency            Real        Imaginary                                                \n",
      "               -----------------------------------------------------------                                                \n",
      "               <<  x  ;  x  >>     0.3349    -70.89615032     -7.88868484j                                                \n",
      "               <<  x  ;  y  >>     0.3349      0.00000000      0.00000000j                                                \n",
      "               <<  x  ;  z  >>     0.3349     -0.00000000     -0.00000000j                                                \n",
      "               <<  y  ;  x  >>     0.3349      0.00000000      0.00000000j                                                \n",
      "               <<  y  ;  y  >>     0.3349    -12.58354610     -0.05517940j                                                \n",
      "               <<  y  ;  z  >>     0.3349      0.00000000      0.00000000j                                                \n",
      "               <<  z  ;  x  >>     0.3349     -0.00000000     -0.00000000j                                                \n",
      "               <<  z  ;  y  >>     0.3349      0.00000000      0.00000000j                                                \n",
      "               <<  z  ;  z  >>     0.3349     -3.18219700     -0.02114853j                                                \n",
      "                                                                                                                          \n",
      "               Dipole  Dipole   Frequency            Real        Imaginary                                                \n",
      "               -----------------------------------------------------------                                                \n",
      "               <<  x  ;  x  >>     0.3359    -72.64959784     -8.37847597j                                                \n",
      "               <<  x  ;  y  >>     0.3359      0.00000000      0.00000000j                                                \n",
      "               <<  x  ;  z  >>     0.3359     -0.00000000     -0.00000000j                                                \n",
      "               <<  y  ;  x  >>     0.3359      0.00000000      0.00000000j                                                \n",
      "               <<  y  ;  y  >>     0.3359    -12.59593299     -0.05545888j                                                \n",
      "               <<  y  ;  z  >>     0.3359      0.00000000      0.00000000j                                                \n",
      "               <<  z  ;  x  >>     0.3359     -0.00000000     -0.00000000j                                                \n",
      "               <<  z  ;  y  >>     0.3359      0.00000000      0.00000000j                                                \n",
      "               <<  z  ;  z  >>     0.3359     -3.18694631     -0.02127642j                                                \n",
      "                                                                                                                          \n",
      "               Dipole  Dipole   Frequency            Real        Imaginary                                                \n",
      "               -----------------------------------------------------------                                                \n",
      "               <<  x  ;  x  >>     0.3369    -74.50909602     -8.91511496j                                                \n",
      "               <<  x  ;  y  >>     0.3369      0.00000000      0.00000000j                                                \n",
      "               <<  x  ;  z  >>     0.3369     -0.00000000     -0.00000000j                                                \n",
      "               <<  y  ;  x  >>     0.3369      0.00000000      0.00000000j                                                \n",
      "               <<  y  ;  y  >>     0.3369    -12.60838260     -0.05573972j                                                \n",
      "               <<  y  ;  z  >>     0.3369      0.00000000      0.00000000j                                                \n",
      "               <<  z  ;  x  >>     0.3369     -0.00000000     -0.00000000j                                                \n",
      "               <<  z  ;  y  >>     0.3369      0.00000000      0.00000000j                                                \n",
      "               <<  z  ;  z  >>     0.3369     -3.19172435     -0.02140519j                                                \n",
      "                                                                                                                          \n",
      "               Dipole  Dipole   Frequency            Real        Imaginary                                                \n",
      "               -----------------------------------------------------------                                                \n",
      "               <<  x  ;  x  >>     0.3379    -76.48433181     -9.50472828j                                                \n",
      "               <<  x  ;  y  >>     0.3379      0.00000000      0.00000000j                                                \n",
      "               <<  x  ;  z  >>     0.3379     -0.00000000     -0.00000000j                                                \n",
      "               <<  y  ;  x  >>     0.3379      0.00000000      0.00000000j                                                \n",
      "               <<  y  ;  y  >>     0.3379    -12.62089524     -0.05602193j                                                \n",
      "               <<  y  ;  z  >>     0.3379      0.00000000      0.00000000j                                                \n",
      "               <<  z  ;  x  >>     0.3379     -0.00000000     -0.00000000j                                                \n",
      "               <<  z  ;  y  >>     0.3379      0.00000000      0.00000000j                                                \n",
      "               <<  z  ;  z  >>     0.3379     -3.19653132     -0.02153482j                                                \n",
      "                                                                                                                          \n",
      "               Dipole  Dipole   Frequency            Real        Imaginary                                                \n",
      "               -----------------------------------------------------------                                                \n",
      "               <<  x  ;  x  >>     0.3389    -78.58617022    -10.15446884j                                                \n",
      "               <<  x  ;  y  >>     0.3389      0.00000000      0.00000000j                                                \n",
      "               <<  x  ;  z  >>     0.3389     -0.00000000     -0.00000000j                                                \n",
      "               <<  y  ;  x  >>     0.3389      0.00000000      0.00000000j                                                \n",
      "               <<  y  ;  y  >>     0.3389    -12.63347123     -0.05630552j                                                \n",
      "               <<  y  ;  z  >>     0.3389      0.00000000      0.00000000j                                                \n",
      "               <<  z  ;  x  >>     0.3389     -0.00000000     -0.00000000j                                                \n",
      "               <<  z  ;  y  >>     0.3389      0.00000000      0.00000000j                                                \n",
      "               <<  z  ;  z  >>     0.3389     -3.20136740     -0.02166535j                                                \n",
      "                                                                                                                          \n",
      "               Dipole  Dipole   Frequency            Real        Imaginary                                                \n",
      "               -----------------------------------------------------------                                                \n",
      "               <<  x  ;  x  >>     0.3400    -80.82683096    -10.87272739j                                                \n",
      "               <<  x  ;  y  >>     0.3400      0.00000000      0.00000000j                                                \n",
      "               <<  x  ;  z  >>     0.3400     -0.00000000     -0.00000000j                                                \n",
      "               <<  y  ;  x  >>     0.3400      0.00000000      0.00000000j                                                \n",
      "               <<  y  ;  y  >>     0.3400    -12.64611086     -0.05659051j                                                \n",
      "               <<  y  ;  z  >>     0.3400      0.00000000      0.00000000j                                                \n",
      "               <<  z  ;  x  >>     0.3400     -0.00000000     -0.00000000j                                                \n",
      "               <<  z  ;  y  >>     0.3400      0.00000000      0.00000000j                                                \n",
      "               <<  z  ;  z  >>     0.3400     -3.20623279     -0.02179676j                                                \n",
      "                                                                                                                          \n",
      "               Dipole  Dipole   Frequency            Real        Imaginary                                                \n",
      "               -----------------------------------------------------------                                                \n",
      "               <<  x  ;  x  >>     0.3410    -83.22009574    -11.66939610j                                                \n",
      "               <<  x  ;  y  >>     0.3410      0.00000000      0.00000000j                                                \n",
      "               <<  x  ;  z  >>     0.3410     -0.00000000     -0.00000000j                                                \n",
      "               <<  y  ;  x  >>     0.3410      0.00000000      0.00000000j                                                \n",
      "               <<  y  ;  y  >>     0.3410    -12.65881446     -0.05687689j                                                \n",
      "               <<  y  ;  z  >>     0.3410      0.00000000      0.00000000j                                                \n",
      "               <<  z  ;  x  >>     0.3410     -0.00000000     -0.00000000j                                                \n",
      "               <<  z  ;  y  >>     0.3410      0.00000000      0.00000000j                                                \n",
      "               <<  z  ;  z  >>     0.3410     -3.21112771     -0.02192908j                                                \n",
      "                                                                                                                          \n",
      "               Dipole  Dipole   Frequency            Real        Imaginary                                                \n",
      "               -----------------------------------------------------------                                                \n",
      "               <<  x  ;  x  >>     0.3420    -85.78155188    -12.55619910j                                                \n",
      "               <<  x  ;  y  >>     0.3420      0.00000000      0.00000000j                                                \n",
      "               <<  x  ;  z  >>     0.3420     -0.00000000     -0.00000000j                                                \n",
      "               <<  y  ;  x  >>     0.3420      0.00000000      0.00000000j                                                \n",
      "               <<  y  ;  y  >>     0.3420    -12.67158234     -0.05716470j                                                \n",
      "               <<  y  ;  z  >>     0.3420      0.00000000      0.00000000j                                                \n",
      "               <<  z  ;  x  >>     0.3420     -0.00000000     -0.00000000j                                                \n",
      "               <<  z  ;  y  >>     0.3420      0.00000000      0.00000000j                                                \n",
      "               <<  z  ;  z  >>     0.3420     -3.21605234     -0.02206230j                                                \n",
      "                                                                                                                          \n",
      "               Dipole  Dipole   Frequency            Real        Imaginary                                                \n",
      "               -----------------------------------------------------------                                                \n",
      "               <<  x  ;  x  >>     0.3430    -88.52887886    -13.54711005j                                                \n",
      "               <<  x  ;  y  >>     0.3430      0.00000000      0.00000000j                                                \n",
      "               <<  x  ;  z  >>     0.3430     -0.00000000     -0.00000000j                                                \n",
      "               <<  y  ;  x  >>     0.3430      0.00000000      0.00000000j                                                \n",
      "               <<  y  ;  y  >>     0.3430    -12.68441481     -0.05745393j                                                \n",
      "               <<  y  ;  z  >>     0.3430      0.00000000      0.00000000j                                                \n",
      "               <<  z  ;  x  >>     0.3430     -0.00000000     -0.00000000j                                                \n",
      "               <<  z  ;  y  >>     0.3430      0.00000000      0.00000000j                                                \n",
      "               <<  z  ;  z  >>     0.3430     -3.22100691     -0.02219645j                                                \n",
      "                                                                                                                          \n",
      "               Dipole  Dipole   Frequency            Real        Imaginary                                                \n",
      "               -----------------------------------------------------------                                                \n",
      "               <<  x  ;  x  >>     0.3440    -91.48218531    -14.65888349j                                                \n",
      "               <<  x  ;  y  >>     0.3440      0.00000000      0.00000000j                                                \n",
      "               <<  x  ;  z  >>     0.3440     -0.00000000     -0.00000000j                                                \n",
      "               <<  y  ;  x  >>     0.3440      0.00000000      0.00000000j                                                \n",
      "               <<  y  ;  y  >>     0.3440    -12.69731220     -0.05774459j                                                \n",
      "               <<  y  ;  z  >>     0.3440      0.00000000      0.00000000j                                                \n",
      "               <<  z  ;  x  >>     0.3440     -0.00000000     -0.00000000j                                                \n",
      "               <<  z  ;  y  >>     0.3440      0.00000000      0.00000000j                                                \n",
      "               <<  z  ;  z  >>     0.3440     -3.22599160     -0.02233153j                                                \n",
      "                                                                                                                          \n",
      "               Dipole  Dipole   Frequency            Real        Imaginary                                                \n",
      "               -----------------------------------------------------------                                                \n",
      "               <<  x  ;  x  >>     0.3451    -94.66440480    -15.91173624j                                                \n",
      "               <<  x  ;  y  >>     0.3451      0.00000000      0.00000000j                                                \n",
      "               <<  x  ;  z  >>     0.3451     -0.00000000     -0.00000000j                                                \n",
      "               <<  y  ;  x  >>     0.3451      0.00000000      0.00000000j                                                \n",
      "               <<  y  ;  y  >>     0.3451    -12.71027484     -0.05803671j                                                \n",
      "               <<  y  ;  z  >>     0.3451      0.00000000      0.00000000j                                                \n",
      "               <<  z  ;  x  >>     0.3451     -0.00000000     -0.00000000j                                                \n",
      "               <<  z  ;  y  >>     0.3451      0.00000000      0.00000000j                                                \n",
      "               <<  z  ;  z  >>     0.3451     -3.23100664     -0.02246755j                                                \n",
      "                                                                                                                          \n",
      "               Dipole  Dipole   Frequency            Real        Imaginary                                                \n",
      "               -----------------------------------------------------------                                                \n",
      "               <<  x  ;  x  >>     0.3461    -98.10175913    -17.33022828j                                                \n",
      "               <<  x  ;  y  >>     0.3461      0.00000000      0.00000000j                                                \n",
      "               <<  x  ;  z  >>     0.3461     -0.00000000     -0.00000000j                                                \n",
      "               <<  y  ;  x  >>     0.3461      0.00000000      0.00000000j                                                \n",
      "               <<  y  ;  y  >>     0.3461    -12.72330304     -0.05833028j                                                \n",
      "               <<  y  ;  z  >>     0.3461      0.00000000      0.00000000j                                                \n",
      "               <<  z  ;  x  >>     0.3461     -0.00000000     -0.00000000j                                                \n",
      "               <<  z  ;  y  >>     0.3461      0.00000000      0.00000000j                                                \n",
      "               <<  z  ;  z  >>     0.3461     -3.23605223     -0.02260451j                                                \n",
      "                                                                                                                          \n",
      "               Dipole  Dipole   Frequency            Real        Imaginary                                                \n",
      "               -----------------------------------------------------------                                                \n",
      "               <<  x  ;  x  >>     0.3471   -101.82429692    -18.94441137j                                                \n",
      "               <<  x  ;  y  >>     0.3471      0.00000000      0.00000000j                                                \n",
      "               <<  x  ;  z  >>     0.3471     -0.00000000     -0.00000000j                                                \n",
      "               <<  y  ;  x  >>     0.3471      0.00000000      0.00000000j                                                \n",
      "               <<  y  ;  y  >>     0.3471    -12.73639713     -0.05862533j                                                \n",
      "               <<  y  ;  z  >>     0.3471      0.00000000      0.00000000j                                                \n",
      "               <<  z  ;  x  >>     0.3471     -0.00000000     -0.00000000j                                                \n",
      "               <<  z  ;  y  >>     0.3471      0.00000000      0.00000000j                                                \n",
      "               <<  z  ;  z  >>     0.3471     -3.24112858     -0.02274244j                                                \n",
      "                                                                                                                          \n",
      "               Dipole  Dipole   Frequency            Real        Imaginary                                                \n",
      "               -----------------------------------------------------------                                                \n",
      "               <<  x  ;  x  >>     0.3481   -105.86651302    -20.79134031j                                                \n",
      "               <<  x  ;  y  >>     0.3481      0.00000000      0.00000000j                                                \n",
      "               <<  x  ;  z  >>     0.3481     -0.00000000     -0.00000000j                                                \n",
      "               <<  y  ;  x  >>     0.3481      0.00000000      0.00000000j                                                \n",
      "               <<  y  ;  y  >>     0.3481    -12.74955745     -0.05892187j                                                \n",
      "               <<  y  ;  z  >>     0.3481      0.00000000      0.00000000j                                                \n",
      "               <<  z  ;  x  >>     0.3481     -0.00000000     -0.00000000j                                                \n",
      "               <<  z  ;  y  >>     0.3481      0.00000000      0.00000000j                                                \n",
      "               <<  z  ;  z  >>     0.3481     -3.24623592     -0.02288133j                                                \n",
      "                                                                                                                          \n",
      "               Dipole  Dipole   Frequency            Real        Imaginary                                                \n",
      "               -----------------------------------------------------------                                                \n",
      "               <<  x  ;  x  >>     0.3491   -110.26804682    -22.91707989j                                                \n",
      "               <<  x  ;  y  >>     0.3491      0.00000000      0.00000000j                                                \n",
      "               <<  x  ;  z  >>     0.3491     -0.00000000     -0.00000000j                                                \n",
      "               <<  y  ;  x  >>     0.3491      0.00000000      0.00000000j                                                \n",
      "               <<  y  ;  y  >>     0.3491    -12.76278433     -0.05921989j                                                \n",
      "               <<  y  ;  z  >>     0.3491      0.00000000      0.00000000j                                                \n",
      "               <<  z  ;  x  >>     0.3491     -0.00000000     -0.00000000j                                                \n",
      "               <<  z  ;  y  >>     0.3491      0.00000000      0.00000000j                                                \n",
      "               <<  z  ;  z  >>     0.3491     -3.25137446     -0.02302121j                                                \n",
      "                                                                                                                          \n",
      "               Dipole  Dipole   Frequency            Real        Imaginary                                                \n",
      "               -----------------------------------------------------------                                                \n",
      "               <<  x  ;  x  >>     0.3502   -115.07444362    -25.37939662j                                                \n",
      "               <<  x  ;  y  >>     0.3502      0.00000000      0.00000000j                                                \n",
      "               <<  x  ;  z  >>     0.3502     -0.00000000     -0.00000000j                                                \n",
      "               <<  y  ;  x  >>     0.3502      0.00000000      0.00000000j                                                \n",
      "               <<  y  ;  y  >>     0.3502    -12.77607810     -0.05951943j                                                \n",
      "               <<  y  ;  z  >>     0.3502      0.00000000      0.00000000j                                                \n",
      "               <<  z  ;  x  >>     0.3502     -0.00000000     -0.00000000j                                                \n",
      "               <<  z  ;  y  >>     0.3502      0.00000000      0.00000000j                                                \n",
      "               <<  z  ;  z  >>     0.3502     -3.25654442     -0.02316207j                                                \n",
      "                                                                                                                          \n",
      "               Dipole  Dipole   Frequency            Real        Imaginary                                                \n",
      "               -----------------------------------------------------------                                                \n",
      "               <<  x  ;  x  >>     0.3512   -120.33793389    -28.25140503j                                                \n",
      "               <<  x  ;  y  >>     0.3512      0.00000000      0.00000000j                                                \n",
      "               <<  x  ;  z  >>     0.3512     -0.00000000     -0.00000000j                                                \n",
      "               <<  y  ;  x  >>     0.3512      0.00000000      0.00000000j                                                \n",
      "               <<  y  ;  y  >>     0.3512    -12.78943911     -0.05982049j                                                \n",
      "               <<  y  ;  z  >>     0.3512      0.00000000      0.00000000j                                                \n",
      "               <<  z  ;  x  >>     0.3512     -0.00000000     -0.00000000j                                                \n",
      "               <<  z  ;  y  >>     0.3512      0.00000000      0.00000000j                                                \n",
      "               <<  z  ;  z  >>     0.3512     -3.26174602     -0.02330393j                                                \n",
      "                                                                                                                          \n",
      "               Dipole  Dipole   Frequency            Real        Imaginary                                                \n",
      "               -----------------------------------------------------------                                                \n",
      "               <<  x  ;  x  >>     0.3522   -126.11812963    -31.62655828j                                                \n",
      "               <<  x  ;  y  >>     0.3522      0.00000000      0.00000000j                                                \n",
      "               <<  x  ;  z  >>     0.3522     -0.00000000     -0.00000000j                                                \n",
      "               <<  y  ;  x  >>     0.3522      0.00000000      0.00000000j                                                \n",
      "               <<  y  ;  y  >>     0.3522    -12.80286769     -0.06012308j                                                \n",
      "               <<  y  ;  z  >>     0.3522      0.00000000      0.00000000j                                                \n",
      "               <<  z  ;  x  >>     0.3522     -0.00000000     -0.00000000j                                                \n",
      "               <<  z  ;  y  >>     0.3522      0.00000000      0.00000000j                                                \n",
      "               <<  z  ;  z  >>     0.3522     -3.26697949     -0.02344680j                                                \n",
      "                                                                                                                          \n",
      "               Dipole  Dipole   Frequency            Real        Imaginary                                                \n",
      "               -----------------------------------------------------------                                                \n",
      "               <<  x  ;  x  >>     0.3532   -132.48243078    -35.62554868j                                                \n",
      "               <<  x  ;  y  >>     0.3532      0.00000000      0.00000000j                                                \n",
      "               <<  x  ;  z  >>     0.3532     -0.00000000     -0.00000000j                                                \n",
      "               <<  y  ;  x  >>     0.3532      0.00000000      0.00000000j                                                \n",
      "               <<  y  ;  y  >>     0.3532    -12.81636420     -0.06042721j                                                \n",
      "               <<  y  ;  z  >>     0.3532      0.00000000      0.00000000j                                                \n",
      "               <<  z  ;  x  >>     0.3532     -0.00000000     -0.00000000j                                                \n",
      "               <<  z  ;  y  >>     0.3532      0.00000000      0.00000000j                                                \n",
      "               <<  z  ;  z  >>     0.3532     -3.27224506     -0.02359069j                                                \n",
      "                                                                                                                          \n",
      "               Dipole  Dipole   Frequency            Real        Imaginary                                                \n",
      "               -----------------------------------------------------------                                                \n",
      "               <<  x  ;  x  >>     0.3542   -139.50573345    -40.40594293j                                                \n",
      "               <<  x  ;  y  >>     0.3542      0.00000000      0.00000000j                                                \n",
      "               <<  x  ;  z  >>     0.3542     -0.00000000     -0.00000000j                                                \n",
      "               <<  y  ;  x  >>     0.3542      0.00000000      0.00000000j                                                \n",
      "               <<  y  ;  y  >>     0.3542    -12.82992897     -0.06073291j                                                \n",
      "               <<  y  ;  z  >>     0.3542      0.00000000      0.00000000j                                                \n",
      "               <<  z  ;  x  >>     0.3542     -0.00000000     -0.00000000j                                                \n",
      "               <<  z  ;  y  >>     0.3542      0.00000000      0.00000000j                                                \n",
      "               <<  z  ;  z  >>     0.3542     -3.27754294     -0.02373561j                                                \n",
      "                                                                                                                          \n",
      "               Dipole  Dipole   Frequency            Real        Imaginary                                                \n",
      "               -----------------------------------------------------------                                                \n",
      "               <<  x  ;  x  >>     0.3553   -147.26865157    -46.17575373j                                                \n",
      "               <<  x  ;  y  >>     0.3553      0.00000000      0.00000000j                                                \n",
      "               <<  x  ;  z  >>     0.3553     -0.00000000     -0.00000000j                                                \n",
      "               <<  y  ;  x  >>     0.3553      0.00000000      0.00000000j                                                \n",
      "               <<  y  ;  y  >>     0.3553    -12.84356236     -0.06104017j                                                \n",
      "               <<  y  ;  z  >>     0.3553      0.00000000      0.00000000j                                                \n",
      "               <<  z  ;  x  >>     0.3553     -0.00000000     -0.00000000j                                                \n",
      "               <<  z  ;  y  >>     0.3553      0.00000000      0.00000000j                                                \n",
      "               <<  z  ;  z  >>     0.3553     -3.28287339     -0.02388157j                                                \n",
      "                                                                                                                          \n",
      "               Dipole  Dipole   Frequency            Real        Imaginary                                                \n",
      "               -----------------------------------------------------------                                                \n",
      "               <<  x  ;  x  >>     0.3563   -155.85273955    -53.21268125j                                                \n",
      "               <<  x  ;  y  >>     0.3563      0.00000000      0.00000000j                                                \n",
      "               <<  x  ;  z  >>     0.3563     -0.00000000     -0.00000000j                                                \n",
      "               <<  y  ;  x  >>     0.3563      0.00000000      0.00000000j                                                \n",
      "               <<  y  ;  y  >>     0.3563    -12.85726472     -0.06134902j                                                \n",
      "               <<  y  ;  z  >>     0.3563      0.00000000      0.00000000j                                                \n",
      "               <<  z  ;  x  >>     0.3563     -0.00000000     -0.00000000j                                                \n",
      "               <<  z  ;  y  >>     0.3563      0.00000000      0.00000000j                                                \n",
      "               <<  z  ;  z  >>     0.3563     -3.28823662     -0.02402858j                                                \n",
      "                                                                                                                          \n",
      "               Dipole  Dipole   Frequency            Real        Imaginary                                                \n",
      "               -----------------------------------------------------------                                                \n",
      "               <<  x  ;  x  >>     0.3573   -165.32982002    -61.89145719j                                                \n",
      "               <<  x  ;  y  >>     0.3573      0.00000000      0.00000000j                                                \n",
      "               <<  x  ;  z  >>     0.3573     -0.00000000     -0.00000000j                                                \n",
      "               <<  y  ;  x  >>     0.3573      0.00000000      0.00000000j                                                \n",
      "               <<  y  ;  y  >>     0.3573    -12.87103641     -0.06165946j                                                \n",
      "               <<  y  ;  z  >>     0.3573      0.00000000      0.00000000j                                                \n",
      "               <<  z  ;  x  >>     0.3573     -0.00000000     -0.00000000j                                                \n",
      "               <<  z  ;  y  >>     0.3573      0.00000000      0.00000000j                                                \n",
      "               <<  z  ;  z  >>     0.3573     -3.29363288     -0.02417666j                                                \n",
      "                                                                                                                          \n",
      "               Dipole  Dipole   Frequency            Real        Imaginary                                                \n",
      "               -----------------------------------------------------------                                                \n",
      "               <<  x  ;  x  >>     0.3583   -175.73986481    -72.72248383j                                                \n",
      "               <<  x  ;  y  >>     0.3583      0.00000000      0.00000000j                                                \n",
      "               <<  x  ;  z  >>     0.3583     -0.00000000     -0.00000000j                                                \n",
      "               <<  y  ;  x  >>     0.3583      0.00000000      0.00000000j                                                \n",
      "               <<  y  ;  y  >>     0.3583    -12.88487778     -0.06197151j                                                \n",
      "               <<  y  ;  z  >>     0.3583      0.00000000      0.00000000j                                                \n",
      "               <<  z  ;  x  >>     0.3583     -0.00000000     -0.00000000j                                                \n",
      "               <<  z  ;  y  >>     0.3583      0.00000000      0.00000000j                                                \n",
      "               <<  z  ;  z  >>     0.3583     -3.29906241     -0.02432581j                                                \n",
      "                                                                                                                          \n",
      "               Dipole  Dipole   Frequency            Real        Imaginary                                                \n",
      "               -----------------------------------------------------------                                                \n",
      "               <<  x  ;  x  >>     0.3593   -187.04678688    -86.40527354j                                                \n",
      "               <<  x  ;  y  >>     0.3593      0.00000000      0.00000000j                                                \n",
      "               <<  x  ;  z  >>     0.3593     -0.00000000     -0.00000000j                                                \n",
      "               <<  y  ;  x  >>     0.3593      0.00000000      0.00000000j                                                \n",
      "               <<  y  ;  y  >>     0.3593    -12.89878920     -0.06228518j                                                \n",
      "               <<  y  ;  z  >>     0.3593      0.00000000      0.00000000j                                                \n",
      "               <<  z  ;  x  >>     0.3593     -0.00000000     -0.00000000j                                                \n",
      "               <<  z  ;  y  >>     0.3593      0.00000000      0.00000000j                                                \n",
      "               <<  z  ;  z  >>     0.3593     -3.30452544     -0.02447605j                                                \n",
      "                                                                                                                          \n",
      "               Dipole  Dipole   Frequency            Real        Imaginary                                                \n",
      "               -----------------------------------------------------------                                                \n",
      "               <<  x  ;  x  >>     0.3604   -199.05189524   -103.89833723j                                                \n",
      "               <<  x  ;  y  >>     0.3604      0.00000000      0.00000000j                                                \n",
      "               <<  x  ;  z  >>     0.3604     -0.00000000     -0.00000000j                                                \n",
      "               <<  y  ;  x  >>     0.3604      0.00000000      0.00000000j                                                \n",
      "               <<  y  ;  y  >>     0.3604    -12.91277103     -0.06260049j                                                \n",
      "               <<  y  ;  z  >>     0.3604      0.00000000      0.00000000j                                                \n",
      "               <<  z  ;  x  >>     0.3604     -0.00000000     -0.00000000j                                                \n",
      "               <<  z  ;  y  >>     0.3604      0.00000000      0.00000000j                                                \n",
      "               <<  z  ;  z  >>     0.3604     -3.31002223     -0.02462738j                                                \n",
      "                                                                                                                          \n",
      "               Dipole  Dipole   Frequency            Real        Imaginary                                                \n",
      "               -----------------------------------------------------------                                                \n",
      "               <<  x  ;  x  >>     0.3614   -211.22746219   -126.49801815j                                                \n",
      "               <<  x  ;  y  >>     0.3614      0.00000000      0.00000000j                                                \n",
      "               <<  x  ;  z  >>     0.3614     -0.00000000     -0.00000000j                                                \n",
      "               <<  y  ;  x  >>     0.3614      0.00000000      0.00000000j                                                \n",
      "               <<  y  ;  y  >>     0.3614    -12.92682364     -0.06291745j                                                \n",
      "               <<  y  ;  z  >>     0.3614      0.00000000      0.00000000j                                                \n",
      "               <<  z  ;  x  >>     0.3614     -0.00000000     -0.00000000j                                                \n",
      "               <<  z  ;  y  >>     0.3614      0.00000000      0.00000000j                                                \n",
      "               <<  z  ;  z  >>     0.3614     -3.31555301     -0.02477983j                                                \n",
      "                                                                                                                          \n",
      "               Dipole  Dipole   Frequency            Real        Imaginary                                                \n",
      "               -----------------------------------------------------------                                                \n",
      "               <<  x  ;  x  >>     0.3624   -222.40542274   -155.88834845j                                                \n",
      "               <<  x  ;  y  >>     0.3624      0.00000000      0.00000000j                                                \n",
      "               <<  x  ;  z  >>     0.3624     -0.00000000     -0.00000000j                                                \n",
      "               <<  y  ;  x  >>     0.3624      0.00000000      0.00000000j                                                \n",
      "               <<  y  ;  y  >>     0.3624    -12.94094739     -0.06323607j                                                \n",
      "               <<  y  ;  z  >>     0.3624      0.00000000      0.00000000j                                                \n",
      "               <<  z  ;  x  >>     0.3624     -0.00000000     -0.00000000j                                                \n",
      "               <<  z  ;  y  >>     0.3624      0.00000000      0.00000000j                                                \n",
      "               <<  z  ;  z  >>     0.3624     -3.32111804     -0.02493339j                                                \n",
      "                                                                                                                          \n",
      "               Dipole  Dipole   Frequency            Real        Imaginary                                                \n",
      "               -----------------------------------------------------------                                                \n",
      "               <<  x  ;  x  >>     0.3634   -230.22853081   -194.03859765j                                                \n",
      "               <<  x  ;  y  >>     0.3634      0.00000000      0.00000000j                                                \n",
      "               <<  x  ;  z  >>     0.3634     -0.00000000     -0.00000000j                                                \n",
      "               <<  y  ;  x  >>     0.3634      0.00000000      0.00000000j                                                \n",
      "               <<  y  ;  y  >>     0.3634    -12.95514267     -0.06355636j                                                \n",
      "               <<  y  ;  z  >>     0.3634      0.00000000      0.00000000j                                                \n",
      "               <<  z  ;  x  >>     0.3634     -0.00000000     -0.00000000j                                                \n",
      "               <<  z  ;  y  >>     0.3634      0.00000000      0.00000000j                                                \n",
      "               <<  z  ;  z  >>     0.3634     -3.32671757     -0.02508809j                                                \n",
      "                                                                                                                          \n",
      "               Dipole  Dipole   Frequency            Real        Imaginary                                                \n",
      "               -----------------------------------------------------------                                                \n",
      "               <<  x  ;  x  >>     0.3644   -230.31136510   -242.62324844j                                                \n",
      "               <<  x  ;  y  >>     0.3644      0.00000000      0.00000000j                                                \n",
      "               <<  x  ;  z  >>     0.3644     -0.00000000     -0.00000000j                                                \n",
      "               <<  y  ;  x  >>     0.3644      0.00000000      0.00000000j                                                \n",
      "               <<  y  ;  y  >>     0.3644    -12.96940985     -0.06387834j                                                \n",
      "               <<  y  ;  z  >>     0.3644      0.00000000      0.00000000j                                                \n",
      "               <<  z  ;  x  >>     0.3644     -0.00000000     -0.00000000j                                                \n",
      "               <<  z  ;  y  >>     0.3644      0.00000000      0.00000000j                                                \n",
      "               <<  z  ;  z  >>     0.3644     -3.33235186     -0.02524393j                                                \n",
      "                                                                                                                          \n",
      "               Dipole  Dipole   Frequency            Real        Imaginary                                                \n",
      "               -----------------------------------------------------------                                                \n",
      "               <<  x  ;  x  >>     0.3655   -215.41645970   -301.30443576j                                                \n",
      "               <<  x  ;  y  >>     0.3655      0.00000000      0.00000000j                                                \n",
      "               <<  x  ;  z  >>     0.3655     -0.00000000     -0.00000000j                                                \n",
      "               <<  y  ;  x  >>     0.3655      0.00000000      0.00000000j                                                \n",
      "               <<  y  ;  y  >>     0.3655    -12.98374931     -0.06420203j                                                \n",
      "               <<  y  ;  z  >>     0.3655      0.00000000      0.00000000j                                                \n",
      "               <<  z  ;  x  >>     0.3655     -0.00000000     -0.00000000j                                                \n",
      "               <<  z  ;  y  >>     0.3655      0.00000000      0.00000000j                                                \n",
      "               <<  z  ;  z  >>     0.3655     -3.33802116     -0.02540093j                                                \n",
      "                                                                                                                          \n",
      "               Dipole  Dipole   Frequency            Real        Imaginary                                                \n",
      "               -----------------------------------------------------------                                                \n",
      "               <<  x  ;  x  >>     0.3665   -176.13971037   -364.23131839j                                                \n",
      "               <<  x  ;  y  >>     0.3665      0.00000000      0.00000000j                                                \n",
      "               <<  x  ;  z  >>     0.3665     -0.00000000     -0.00000000j                                                \n",
      "               <<  y  ;  x  >>     0.3665      0.00000000      0.00000000j                                                \n",
      "               <<  y  ;  y  >>     0.3665    -12.99816144     -0.06452744j                                                \n",
      "               <<  y  ;  z  >>     0.3665      0.00000000      0.00000000j                                                \n",
      "               <<  z  ;  x  >>     0.3665     -0.00000000     -0.00000000j                                                \n",
      "               <<  z  ;  y  >>     0.3665      0.00000000      0.00000000j                                                \n",
      "               <<  z  ;  z  >>     0.3665     -3.34372573     -0.02555909j                                                \n",
      "                                                                                                                          \n",
      "               Dipole  Dipole   Frequency            Real        Imaginary                                                \n",
      "               -----------------------------------------------------------                                                \n",
      "               <<  x  ;  x  >>     0.3675   -106.27140619   -416.41332263j                                                \n",
      "               <<  x  ;  y  >>     0.3675      0.00000000      0.00000000j                                                \n",
      "               <<  x  ;  z  >>     0.3675     -0.00000000     -0.00000000j                                                \n",
      "               <<  y  ;  x  >>     0.3675      0.00000000      0.00000000j                                                \n",
      "               <<  y  ;  y  >>     0.3675    -13.01264661     -0.06485457j                                                \n",
      "               <<  y  ;  z  >>     0.3675      0.00000000      0.00000000j                                                \n",
      "               <<  z  ;  x  >>     0.3675     -0.00000000     -0.00000000j                                                \n",
      "               <<  z  ;  y  >>     0.3675      0.00000000      0.00000000j                                                \n",
      "               <<  z  ;  z  >>     0.3675     -3.34946583     -0.02571844j                                                \n",
      "                                                                                                                          \n",
      "               Dipole  Dipole   Frequency            Real        Imaginary                                                \n",
      "               -----------------------------------------------------------                                                \n",
      "               <<  x  ;  x  >>     0.3685    -13.03061441   -437.29712347j                                                \n",
      "               <<  x  ;  y  >>     0.3685      0.00000000      0.00000000j                                                \n",
      "               <<  x  ;  z  >>     0.3685      0.00000000     -0.00000000j                                                \n",
      "               <<  y  ;  x  >>     0.3685      0.00000000      0.00000000j                                                \n",
      "               <<  y  ;  y  >>     0.3685    -13.02720521     -0.06518346j                                                \n",
      "               <<  y  ;  z  >>     0.3685      0.00000000      0.00000000j                                                \n",
      "               <<  z  ;  x  >>     0.3685      0.00000000     -0.00000000j                                                \n",
      "               <<  z  ;  y  >>     0.3685      0.00000000      0.00000000j                                                \n",
      "               <<  z  ;  z  >>     0.3685     -3.35524174     -0.02587899j                                                \n",
      "                                                                                                                          \n",
      "                                                                                                                          \n",
      "                                              Complex Response Solver Setup                                               \n",
      "                                             ===============================                                              \n",
      "                                                                                                                          \n",
      "                               Number of Frequencies           : 50                                                       \n",
      "                               Max. Number of Iterations       : 150                                                      \n",
      "                               Convergence Threshold           : 1.0e-04                                                  \n",
      "                               ERI Screening Scheme            : Cauchy Schwarz + Density                                 \n",
      "                               ERI Screening Threshold         : 1.0e-12                                                  \n",
      "                                                                                                                          \n",
      "* Info * Processing Fock builds... (batch size: 14)                                                                       \n",
      "* Info *   batch 1/1                                                                                                      \n",
      "                                                                                                                          \n",
      "* Info * 7 gerade trial vectors in reduced space                                                                          \n",
      "* Info * 7 ungerade trial vectors in reduced space                                                                        \n",
      "                                                                                                                          \n",
      "* Info * 343.25 kB of memory used for subspace procedure on the master node                                               \n",
      "* Info * 5.99 GB of memory available for the solver on the master node                                                    \n",
      "                                                                                                                          \n",
      "               *** Iteration:   1 * Residuals (Max,Min): 5.62e-01 and 8.81e-02                                            \n",
      "                                                                                                                          \n",
      "               Operator:  electric dipole (xyz)                                                                           \n",
      "                                                                                                                          \n",
      "               <<x;x>>_0.3185 :    -30.99851209     -0.94829228j   Residual Norm: 0.56240137                              \n",
      "               <<x;x>>_0.3206 :    -31.43056919     -0.99073473j   Residual Norm: 0.56070246                              \n",
      "               <<x;x>>_0.3226 :    -31.88208600     -1.03610628j   Residual Norm: 0.55899874                              \n",
      "               <<x;x>>_0.3246 :    -32.35441197     -1.08468541j   Residual Norm: 0.55729018                              \n",
      "               <<x;x>>_0.3267 :    -32.84902520     -1.13678449j   Residual Norm: 0.55557673                              \n",
      "               <<x;x>>_0.3287 :    -33.36754808     -1.19275485j   Residual Norm: 0.55385834                              \n",
      "               <<x;x>>_0.3308 :    -33.91176529     -1.25299275j   Residual Norm: 0.55213497                              \n",
      "               <<x;x>>_0.3328 :    -34.48364460     -1.31794643j   Residual Norm: 0.55040656                              \n",
      "               <<x;x>>_0.3349 :    -35.08536080     -1.38812457j   Residual Norm: 0.54867305                              \n",
      "               <<x;x>>_0.3369 :    -35.71932367     -1.46410624j   Residual Norm: 0.54693438                              \n",
      "               <<x;x>>_0.3389 :    -36.38821038     -1.54655298j   Residual Norm: 0.54519050                              \n",
      "               <<x;x>>_0.3410 :    -37.09500352     -1.63622322j   Residual Norm: 0.54344134                              \n",
      "               <<x;x>>_0.3430 :    -37.84303574     -1.73398986j   Residual Norm: 0.54168683                              \n",
      "               <<x;x>>_0.3451 :    -38.63604240     -1.84086157j   Residual Norm: 0.53992690                              \n",
      "               <<x;x>>_0.3471 :    -39.47822395     -1.95800891j   Residual Norm: 0.53816148                              \n",
      "               <<x;x>>_0.3491 :    -40.37432024     -2.08679649j   Residual Norm: 0.53639050                              \n",
      "               <<x;x>>_0.3512 :    -41.32969941     -2.22882280j   Residual Norm: 0.53461386                              \n",
      "               <<x;x>>_0.3532 :    -42.35046485     -2.38596993j   Residual Norm: 0.53283151                              \n",
      "               <<x;x>>_0.3553 :    -43.44358457     -2.56046597j   Residual Norm: 0.53104334                              \n",
      "               <<x;x>>_0.3573 :    -44.61704868     -2.75496411j   Residual Norm: 0.52924928                              \n",
      "               <<x;x>>_0.3593 :    -45.88006219     -2.97264351j   Residual Norm: 0.52744924                              \n",
      "               <<x;x>>_0.3614 :    -47.24328276     -3.21733917j   Residual Norm: 0.52564312                              \n",
      "               <<x;x>>_0.3634 :    -48.71911578     -3.49371072j   Residual Norm: 0.52383084                              \n",
      "               <<x;x>>_0.3655 :    -50.32208349     -3.80746392j   Residual Norm: 0.52201229                              \n",
      "               <<x;x>>_0.3675 :    -52.06929038     -4.16564455j   Residual Norm: 0.52018739                              \n",
      "               <<x;x>>_0.3695 :    -53.98101481     -4.57703289j   Residual Norm: 0.51835602                              \n",
      "               <<x;x>>_0.3716 :    -56.08146788     -5.05267989j   Residual Norm: 0.51651810                              \n",
      "               <<x;x>>_0.3736 :    -58.39977598     -5.60664612j   Residual Norm: 0.51467351                              \n",
      "               <<x;x>>_0.3757 :    -60.97126554     -6.25703535j   Residual Norm: 0.51282214                              \n",
      "               <<x;x>>_0.3777 :    -63.83915996     -7.02746417j   Residual Norm: 0.51096390                              \n",
      "               <<x;x>>_0.3797 :    -67.05684496     -7.94918950j   Residual Norm: 0.50909866                              \n",
      "               <<x;x>>_0.3818 :    -70.69092415     -9.06424961j   Residual Norm: 0.50722633                              \n",
      "               <<x;x>>_0.3838 :    -74.82538194    -10.43020410j   Residual Norm: 0.50534678                              \n",
      "               <<x;x>>_0.3859 :    -79.56730313    -12.12746139j   Residual Norm: 0.50345989                              \n",
      "               <<x;x>>_0.3879 :    -85.05477177    -14.27091478j   Residual Norm: 0.50156556                              \n",
      "               <<x;x>>_0.3900 :    -91.46775709    -17.02897985j   Residual Norm: 0.49966366                              \n",
      "               <<x;x>>_0.3920 :    -99.04284975    -20.65579081j   Residual Norm: 0.49775408                              \n",
      "               <<x;x>>_0.3940 :   -108.09210305    -25.54767672j   Residual Norm: 0.49583669                              \n",
      "               <<x;x>>_0.3961 :   -119.02310823    -32.34621865j   Residual Norm: 0.49391137                              \n",
      "               <<x;x>>_0.3981 :   -132.34537586    -42.13410681j   Residual Norm: 0.49197799                              \n",
      "               <<x;x>>_0.4002 :   -148.60435195    -56.82102938j   Residual Norm: 0.49003644                              \n",
      "               <<x;x>>_0.4022 :   -168.02573354    -79.91457469j   Residual Norm: 0.48808659                              \n",
      "               <<x;x>>_0.4042 :   -189.07636300   -117.95302192j   Residual Norm: 0.48612831                              \n",
      "               <<x;x>>_0.4063 :   -203.25322541   -182.01337192j   Residual Norm: 0.48416148                              \n",
      "               <<x;x>>_0.4083 :   -180.71996688   -280.68270355j   Residual Norm: 0.48218596                              \n",
      "               <<x;x>>_0.4104 :    -68.77555241   -372.51028035j   Residual Norm: 0.48020164                              \n",
      "               <<x;x>>_0.4124 :     91.21637076   -349.69579420j   Residual Norm: 0.47820839                              \n",
      "               <<x;x>>_0.4144 :    169.37071068   -244.61361351j   Residual Norm: 0.47620608                              \n",
      "               <<x;x>>_0.4165 :    174.25282937   -157.00115461j   Residual Norm: 0.47419457                              \n",
      "               <<x;x>>_0.4185 :    155.95011897   -103.06461904j   Residual Norm: 0.47217376                              \n",
      "               <<y;y>>_0.3185 :    -12.36690635     -0.05039152j   Residual Norm: 0.09609975                              \n",
      "               <<y;y>>_0.3206 :    -12.38958809     -0.05090348j   Residual Norm: 0.09608817                              \n",
      "               <<y;y>>_0.3226 :    -12.41250014     -0.05142016j   Residual Norm: 0.09607650                              \n",
      "               <<y;y>>_0.3246 :    -12.43564462     -0.05194162j   Residual Norm: 0.09606472                              \n",
      "               <<y;y>>_0.3267 :    -12.45902370     -0.05246793j   Residual Norm: 0.09605284                              \n",
      "               <<y;y>>_0.3287 :    -12.48263957     -0.05299918j   Residual Norm: 0.09604086                              \n",
      "               <<y;y>>_0.3308 :    -12.50649444     -0.05353544j   Residual Norm: 0.09602878                              \n",
      "               <<y;y>>_0.3328 :    -12.53059059     -0.05407678j   Residual Norm: 0.09601659                              \n",
      "               <<y;y>>_0.3349 :    -12.55493031     -0.05462330j   Residual Norm: 0.09600429                              \n",
      "               <<y;y>>_0.3369 :    -12.57951592     -0.05517506j   Residual Norm: 0.09599189                              \n",
      "               <<y;y>>_0.3389 :    -12.60434980     -0.05573215j   Residual Norm: 0.09597938                              \n",
      "               <<y;y>>_0.3410 :    -12.62943436     -0.05629466j   Residual Norm: 0.09596676                              \n",
      "               <<y;y>>_0.3430 :    -12.65477203     -0.05686267j   Residual Norm: 0.09595403                              \n",
      "               <<y;y>>_0.3451 :    -12.68036530     -0.05743627j   Residual Norm: 0.09594118                              \n",
      "               <<y;y>>_0.3471 :    -12.70621669     -0.05801555j   Residual Norm: 0.09592823                              \n",
      "               <<y;y>>_0.3491 :    -12.73232876     -0.05860059j   Residual Norm: 0.09591515                              \n",
      "               <<y;y>>_0.3512 :    -12.75870412     -0.05919150j   Residual Norm: 0.09590197                              \n",
      "               <<y;y>>_0.3532 :    -12.78534541     -0.05978836j   Residual Norm: 0.09588866                              \n",
      "               <<y;y>>_0.3553 :    -12.81225532     -0.06039126j   Residual Norm: 0.09587524                              \n",
      "               <<y;y>>_0.3573 :    -12.83943657     -0.06100032j   Residual Norm: 0.09586170                              \n",
      "               <<y;y>>_0.3593 :    -12.86689194     -0.06161562j   Residual Norm: 0.09584804                              \n",
      "               <<y;y>>_0.3614 :    -12.89462425     -0.06223726j   Residual Norm: 0.09583425                              \n",
      "               <<y;y>>_0.3634 :    -12.92263636     -0.06286536j   Residual Norm: 0.09582035                              \n",
      "               <<y;y>>_0.3655 :    -12.95093119     -0.06350001j   Residual Norm: 0.09580632                              \n",
      "               <<y;y>>_0.3675 :    -12.97951169     -0.06414132j   Residual Norm: 0.09579216                              \n",
      "               <<y;y>>_0.3695 :    -13.00838087     -0.06478940j   Residual Norm: 0.09577787                              \n",
      "               <<y;y>>_0.3716 :    -13.03754178     -0.06544437j   Residual Norm: 0.09576346                              \n",
      "               <<y;y>>_0.3736 :    -13.06699753     -0.06610633j   Residual Norm: 0.09574892                              \n",
      "               <<y;y>>_0.3757 :    -13.09675128     -0.06677540j   Residual Norm: 0.09573425                              \n",
      "               <<y;y>>_0.3777 :    -13.12680624     -0.06745170j   Residual Norm: 0.09571944                              \n",
      "               <<y;y>>_0.3797 :    -13.15716567     -0.06813535j   Residual Norm: 0.09570450                              \n",
      "               <<y;y>>_0.3818 :    -13.18783289     -0.06882646j   Residual Norm: 0.09568943                              \n",
      "               <<y;y>>_0.3838 :    -13.21881127     -0.06952518j   Residual Norm: 0.09567422                              \n",
      "               <<y;y>>_0.3859 :    -13.25010423     -0.07023162j   Residual Norm: 0.09565887                              \n",
      "               <<y;y>>_0.3879 :    -13.28171527     -0.07094591j   Residual Norm: 0.09564338                              \n",
      "               <<y;y>>_0.3900 :    -13.31364793     -0.07166819j   Residual Norm: 0.09562776                              \n",
      "               <<y;y>>_0.3920 :    -13.34590582     -0.07239859j   Residual Norm: 0.09561199                              \n",
      "               <<y;y>>_0.3940 :    -13.37849260     -0.07313724j   Residual Norm: 0.09559608                              \n",
      "               <<y;y>>_0.3961 :    -13.41141199     -0.07388430j   Residual Norm: 0.09558003                              \n",
      "               <<y;y>>_0.3981 :    -13.44466781     -0.07463990j   Residual Norm: 0.09556383                              \n",
      "               <<y;y>>_0.4002 :    -13.47826389     -0.07540419j   Residual Norm: 0.09554748                              \n",
      "               <<y;y>>_0.4022 :    -13.51220416     -0.07617733j   Residual Norm: 0.09553099                              \n",
      "               <<y;y>>_0.4042 :    -13.54649262     -0.07695945j   Residual Norm: 0.09551435                              \n",
      "               <<y;y>>_0.4063 :    -13.58113332     -0.07775073j   Residual Norm: 0.09549756                              \n",
      "               <<y;y>>_0.4083 :    -13.61613041     -0.07855131j   Residual Norm: 0.09548062                              \n",
      "               <<y;y>>_0.4104 :    -13.65148807     -0.07936136j   Residual Norm: 0.09546352                              \n",
      "               <<y;y>>_0.4124 :    -13.68721058     -0.08018105j   Residual Norm: 0.09544627                              \n",
      "               <<y;y>>_0.4144 :    -13.72330231     -0.08101055j   Residual Norm: 0.09542887                              \n",
      "               <<y;y>>_0.4165 :    -13.75976767     -0.08185003j   Residual Norm: 0.09541131                              \n",
      "               <<y;y>>_0.4185 :    -13.79661118     -0.08269967j   Residual Norm: 0.09539360                              \n",
      "               <<z;z>>_0.3185 :     -3.10714515     -0.01916617j   Residual Norm: 0.09664463                              \n",
      "               <<z;z>>_0.3206 :     -3.11577911     -0.01939656j   Residual Norm: 0.09652827                              \n",
      "               <<z;z>>_0.3226 :     -3.12451689     -0.01962994j   Residual Norm: 0.09640996                              \n",
      "               <<z;z>>_0.3246 :     -3.13335984     -0.01986636j   Residual Norm: 0.09628966                              \n",
      "               <<z;z>>_0.3267 :     -3.14230932     -0.02010587j   Residual Norm: 0.09616735                              \n",
      "               <<z;z>>_0.3287 :     -3.15136674     -0.02034855j   Residual Norm: 0.09604300                              \n",
      "               <<z;z>>_0.3308 :     -3.16053354     -0.02059445j   Residual Norm: 0.09591659                              \n",
      "               <<z;z>>_0.3328 :     -3.16981115     -0.02084364j   Residual Norm: 0.09578809                              \n",
      "               <<z;z>>_0.3349 :     -3.17920108     -0.02109618j   Residual Norm: 0.09565746                              \n",
      "               <<z;z>>_0.3369 :     -3.18870484     -0.02135215j   Residual Norm: 0.09552468                              \n",
      "               <<z;z>>_0.3389 :     -3.19832398     -0.02161160j   Residual Norm: 0.09538973                              \n",
      "               <<z;z>>_0.3410 :     -3.20806007     -0.02187462j   Residual Norm: 0.09525256                              \n",
      "               <<z;z>>_0.3430 :     -3.21791472     -0.02214128j   Residual Norm: 0.09511316                              \n",
      "               <<z;z>>_0.3451 :     -3.22788958     -0.02241164j   Residual Norm: 0.09497150                              \n",
      "               <<z;z>>_0.3471 :     -3.23798633     -0.02268579j   Residual Norm: 0.09482753                              \n",
      "               <<z;z>>_0.3491 :     -3.24820667     -0.02296380j   Residual Norm: 0.09468124                              \n",
      "               <<z;z>>_0.3512 :     -3.25855236     -0.02324576j   Residual Norm: 0.09453259                              \n",
      "               <<z;z>>_0.3532 :     -3.26902518     -0.02353175j   Residual Norm: 0.09438155                              \n",
      "               <<z;z>>_0.3553 :     -3.27962694     -0.02382185j   Residual Norm: 0.09422809                              \n",
      "               <<z;z>>_0.3573 :     -3.29035952     -0.02411615j   Residual Norm: 0.09407218                              \n",
      "               <<z;z>>_0.3593 :     -3.30122480     -0.02441473j   Residual Norm: 0.09391378                              \n",
      "               <<z;z>>_0.3614 :     -3.31222473     -0.02471769j   Residual Norm: 0.09375286                              \n",
      "               <<z;z>>_0.3634 :     -3.32336129     -0.02502513j   Residual Norm: 0.09358939                              \n",
      "               <<z;z>>_0.3655 :     -3.33463649     -0.02533713j   Residual Norm: 0.09342333                              \n",
      "               <<z;z>>_0.3675 :     -3.34605241     -0.02565380j   Residual Norm: 0.09325466                              \n",
      "               <<z;z>>_0.3695 :     -3.35761116     -0.02597523j   Residual Norm: 0.09308333                              \n",
      "               <<z;z>>_0.3716 :     -3.36931489     -0.02630154j   Residual Norm: 0.09290932                              \n",
      "               <<z;z>>_0.3736 :     -3.38116580     -0.02663282j   Residual Norm: 0.09273258                              \n",
      "               <<z;z>>_0.3757 :     -3.39316615     -0.02696919j   Residual Norm: 0.09255308                              \n",
      "               <<z;z>>_0.3777 :     -3.40531824     -0.02731076j   Residual Norm: 0.09237079                              \n",
      "               <<z;z>>_0.3797 :     -3.41762441     -0.02765764j   Residual Norm: 0.09218567                              \n",
      "               <<z;z>>_0.3818 :     -3.43008708     -0.02800995j   Residual Norm: 0.09199768                              \n",
      "               <<z;z>>_0.3838 :     -3.44270870     -0.02836782j   Residual Norm: 0.09180678                              \n",
      "               <<z;z>>_0.3859 :     -3.45549179     -0.02873137j   Residual Norm: 0.09161294                              \n",
      "               <<z;z>>_0.3879 :     -3.46843891     -0.02910072j   Residual Norm: 0.09141612                              \n",
      "               <<z;z>>_0.3900 :     -3.48155269     -0.02947601j   Residual Norm: 0.09121628                              \n",
      "               <<z;z>>_0.3920 :     -3.49483582     -0.02985738j   Residual Norm: 0.09101338                              \n",
      "               <<z;z>>_0.3940 :     -3.50829105     -0.03024497j   Residual Norm: 0.09080737                              \n",
      "               <<z;z>>_0.3961 :     -3.52192119     -0.03063891j   Residual Norm: 0.09059823                              \n",
      "               <<z;z>>_0.3981 :     -3.53572912     -0.03103936j   Residual Norm: 0.09038591                              \n",
      "               <<z;z>>_0.4002 :     -3.54971779     -0.03144647j   Residual Norm: 0.09017037                              \n",
      "               <<z;z>>_0.4022 :     -3.56389021     -0.03186039j   Residual Norm: 0.08995157                              \n",
      "               <<z;z>>_0.4042 :     -3.57824946     -0.03228129j   Residual Norm: 0.08972945                              \n",
      "               <<z;z>>_0.4063 :     -3.59279870     -0.03270932j   Residual Norm: 0.08950400                              \n",
      "               <<z;z>>_0.4083 :     -3.60754116     -0.03314467j   Residual Norm: 0.08927515                              \n",
      "               <<z;z>>_0.4104 :     -3.62248016     -0.03358751j   Residual Norm: 0.08904286                              \n",
      "               <<z;z>>_0.4124 :     -3.63761908     -0.03403801j   Residual Norm: 0.08880710                              \n",
      "               <<z;z>>_0.4144 :     -3.65296139     -0.03449637j   Residual Norm: 0.08856781                              \n",
      "               <<z;z>>_0.4165 :     -3.66851066     -0.03496277j   Residual Norm: 0.08832495                              \n",
      "               <<z;z>>_0.4185 :     -3.68427052     -0.03543741j   Residual Norm: 0.08807848                              \n",
      "                                                                                                                          \n",
      "* Info * Processing Fock builds... (batch size: 16)                                                                       \n",
      "* Info *   batch 1/1                                                                                                      \n",
      "                                                                                                                          \n",
      "* Info * 15 gerade trial vectors in reduced space                                                                         \n",
      "* Info * 15 ungerade trial vectors in reduced space                                                                       \n",
      "                                                                                                                          \n",
      "* Info * 359.33 kB of memory used for subspace procedure on the master node                                               \n",
      "* Info * 5.96 GB of memory available for the solver on the master node                                                    \n",
      "                                                                                                                          \n",
      "               *** Iteration:   2 * Residuals (Max,Min): 1.70e-02 and 9.02e-16                                            \n",
      "                                                                                                                          \n",
      "               Operator:  electric dipole (xyz)                                                                           \n",
      "                                                                                                                          \n",
      "               <<x;x>>_0.3185 :    -52.21445761     -3.62189855j   Residual Norm: 0.01700954                              \n",
      "               <<x;x>>_0.3206 :    -53.87599898     -3.93242084j   Residual Norm: 0.01697827                              \n",
      "               <<x;x>>_0.3226 :    -55.68039863     -4.28463929j   Residual Norm: 0.01694674                              \n",
      "               <<x;x>>_0.3246 :    -57.64674229     -4.68635115j   Residual Norm: 0.01691494                              \n",
      "               <<x;x>>_0.3267 :    -59.79763115     -5.14725740j   Residual Norm: 0.01688287                              \n",
      "               <<x;x>>_0.3287 :    -62.16001615     -5.67954616j   Residual Norm: 0.01685054                              \n",
      "               <<x;x>>_0.3308 :    -64.76627647     -6.29869486j   Residual Norm: 0.01681792                              \n",
      "               <<x;x>>_0.3328 :    -67.65562715     -7.02458919j   Residual Norm: 0.01678503                              \n",
      "               <<x;x>>_0.3349 :    -70.87597530     -7.88310949j   Residual Norm: 0.01675185                              \n",
      "               <<x;x>>_0.3369 :    -74.48639321     -8.90841996j   Residual Norm: 0.01671838                              \n",
      "               <<x;x>>_0.3389 :    -78.56044856    -10.14633642j   Residual Norm: 0.01668461                              \n",
      "               <<x;x>>_0.3410 :    -83.19073381    -11.65938859j   Residual Norm: 0.01665054                              \n",
      "               <<x;x>>_0.3430 :    -88.49508145    -13.53461203j   Residual Norm: 0.01661617                              \n",
      "               <<x;x>>_0.3451 :    -94.62514283    -15.89586191j   Residual Norm: 0.01658149                              \n",
      "               <<x;x>>_0.3471 :   -101.77822489    -18.92385157j   Residual Norm: 0.01654649                              \n",
      "               <<x;x>>_0.3491 :   -110.21339205    -22.88984080j   Residual Norm: 0.01651117                              \n",
      "               <<x;x>>_0.3512 :   -120.27235902    -28.21434478j   Residual Norm: 0.01647553                              \n",
      "               <<x;x>>_0.3532 :   -132.40290265    -35.57352208j   Residual Norm: 0.01643955                              \n",
      "               <<x;x>>_0.3553 :   -147.17146830    -46.09996857j   Residual Norm: 0.01640324                              \n",
      "               <<x;x>>_0.3573 :   -165.21137763    -61.77620838j   Residual Norm: 0.01636660                              \n",
      "               <<x;x>>_0.3593 :   -186.90722745    -86.22143203j   Residual Norm: 0.01632960                              \n",
      "               <<x;x>>_0.3614 :   -211.08499805   -126.19146403j   Residual Norm: 0.01629226                              \n",
      "               <<x;x>>_0.3634 :   -230.16995929   -193.52318521j   Residual Norm: 0.01625456                              \n",
      "               <<x;x>>_0.3655 :   -215.72039802   -300.55800192j   Residual Norm: 0.01621651                              \n",
      "               <<x;x>>_0.3675 :   -107.27919106   -415.93607497j   Residual Norm: 0.01617809                              \n",
      "               <<x;x>>_0.3695 :     79.19919006   -416.88865371j   Residual Norm: 0.01613930                              \n",
      "               <<x;x>>_0.3716 :    189.04809940   -302.05503728j   Residual Norm: 0.01610013                              \n",
      "               <<x;x>>_0.3736 :    204.22402258   -194.55975253j   Residual Norm: 0.01606059                              \n",
      "               <<x;x>>_0.3757 :    185.30593494   -126.81074982j   Residual Norm: 0.01602067                              \n",
      "               <<x;x>>_0.3777 :    161.12012002    -86.59598233j   Residual Norm: 0.01598036                              \n",
      "               <<x;x>>_0.3797 :    139.37902329    -62.01453134j   Residual Norm: 0.01593965                              \n",
      "               <<x;x>>_0.3818 :    121.29296486    -46.26047650j   Residual Norm: 0.01589855                              \n",
      "               <<x;x>>_0.3838 :    106.48487840    -35.68770860j   Residual Norm: 0.01585705                              \n",
      "               <<x;x>>_0.3859 :     94.32164385    -28.29984106j   Residual Norm: 0.01581514                              \n",
      "               <<x;x>>_0.3879 :     84.23547620    -22.95696510j   Residual Norm: 0.01577282                              \n",
      "               <<x;x>>_0.3900 :     75.77720322    -18.97890549j   Residual Norm: 0.01573009                              \n",
      "               <<x;x>>_0.3920 :     68.60397724    -15.94284546j   Residual Norm: 0.01568695                              \n",
      "               <<x;x>>_0.3940 :     62.45587628    -13.57615275j   Residual Norm: 0.01564338                              \n",
      "               <<x;x>>_0.3961 :     57.13495767    -11.69726553j   Residual Norm: 0.01559939                              \n",
      "               <<x;x>>_0.3981 :     52.48909977    -10.18178676j   Residual Norm: 0.01555497                              \n",
      "               <<x;x>>_0.4002 :     48.40012007     -8.94232482j   Residual Norm: 0.01551012                              \n",
      "               <<x;x>>_0.4022 :     44.77516311     -7.91610986j   Residual Norm: 0.01546483                              \n",
      "               <<x;x>>_0.4042 :     41.54046138     -7.05716042j   Residual Norm: 0.01541911                              \n",
      "               <<x;x>>_0.4063 :     38.63678890     -6.33119571j   Residual Norm: 0.01537295                              \n",
      "               <<x;x>>_0.4083 :     36.01611905     -5.71225172j   Residual Norm: 0.01532635                              \n",
      "               <<x;x>>_0.4104 :     33.63914265     -5.18038181j   Residual Norm: 0.01527930                              \n",
      "               <<x;x>>_0.4124 :     31.47340557     -4.72006344j   Residual Norm: 0.01523181                              \n",
      "               <<x;x>>_0.4144 :     29.49189651     -4.31907463j   Residual Norm: 0.01518387                              \n",
      "               <<x;x>>_0.4165 :     27.67196509     -3.96768875j   Residual Norm: 0.01513549                              \n",
      "               <<x;x>>_0.4185 :     25.99448509     -3.65808881j   Residual Norm: 0.01508665                              \n",
      "               <<y;y>>_0.3185 :    -12.39355507     -0.05088202j   Residual Norm: 0.00933702                              \n",
      "               <<y;y>>_0.3206 :    -12.41645807     -0.05140140j   Residual Norm: 0.00937868                              \n",
      "               <<y;y>>_0.3226 :    -12.43959472     -0.05192562j   Residual Norm: 0.00942052                              \n",
      "               <<y;y>>_0.3246 :    -12.46296723     -0.05245475j   Residual Norm: 0.00946254                              \n",
      "               <<y;y>>_0.3267 :    -12.48657779     -0.05298887j   Residual Norm: 0.00950475                              \n",
      "               <<y;y>>_0.3287 :    -12.51042866     -0.05352806j   Residual Norm: 0.00954714                              \n",
      "               <<y;y>>_0.3308 :    -12.53452212     -0.05407240j   Residual Norm: 0.00958972                              \n",
      "               <<y;y>>_0.3328 :    -12.55886051     -0.05462196j   Residual Norm: 0.00963248                              \n",
      "               <<y;y>>_0.3349 :    -12.58344617     -0.05517684j   Residual Norm: 0.00967542                              \n",
      "               <<y;y>>_0.3369 :    -12.60828151     -0.05573711j   Residual Norm: 0.00971855                              \n",
      "               <<y;y>>_0.3389 :    -12.63336896     -0.05630287j   Residual Norm: 0.00976185                              \n",
      "               <<y;y>>_0.3410 :    -12.65871099     -0.05687419j   Residual Norm: 0.00980534                              \n",
      "               <<y;y>>_0.3430 :    -12.68431012     -0.05745117j   Residual Norm: 0.00984902                              \n",
      "               <<y;y>>_0.3451 :    -12.71016890     -0.05803390j   Residual Norm: 0.00989288                              \n",
      "               <<y;y>>_0.3471 :    -12.73628993     -0.05862248j   Residual Norm: 0.00993692                              \n",
      "               <<y;y>>_0.3491 :    -12.76267584     -0.05921699j   Residual Norm: 0.00998114                              \n",
      "               <<y;y>>_0.3512 :    -12.78932931     -0.05981753j   Residual Norm: 0.01002555                              \n",
      "               <<y;y>>_0.3532 :    -12.81625306     -0.06042420j   Residual Norm: 0.01007014                              \n",
      "               <<y;y>>_0.3553 :    -12.84344986     -0.06103710j   Residual Norm: 0.01011491                              \n",
      "               <<y;y>>_0.3573 :    -12.87092252     -0.06165634j   Residual Norm: 0.01015987                              \n",
      "               <<y;y>>_0.3593 :    -12.89867390     -0.06228200j   Residual Norm: 0.01020501                              \n",
      "               <<y;y>>_0.3614 :    -12.92670691     -0.06291421j   Residual Norm: 0.01025033                              \n",
      "               <<y;y>>_0.3634 :    -12.95502448     -0.06355306j   Residual Norm: 0.01029584                              \n",
      "               <<y;y>>_0.3655 :    -12.98362963     -0.06419867j   Residual Norm: 0.01034153                              \n",
      "               <<y;y>>_0.3675 :    -13.01252541     -0.06485115j   Residual Norm: 0.01038741                              \n",
      "               <<y;y>>_0.3695 :    -13.04171490     -0.06551062j   Residual Norm: 0.01043347                              \n",
      "               <<y;y>>_0.3716 :    -13.07120128     -0.06617718j   Residual Norm: 0.01047972                              \n",
      "               <<y;y>>_0.3736 :    -13.10098773     -0.06685095j   Residual Norm: 0.01052615                              \n",
      "               <<y;y>>_0.3757 :    -13.13107753     -0.06753207j   Residual Norm: 0.01057276                              \n",
      "               <<y;y>>_0.3777 :    -13.16147397     -0.06822065j   Residual Norm: 0.01061956                              \n",
      "               <<y;y>>_0.3797 :    -13.19218043     -0.06891681j   Residual Norm: 0.01066655                              \n",
      "               <<y;y>>_0.3818 :    -13.22320034     -0.06962069j   Residual Norm: 0.01071372                              \n",
      "               <<y;y>>_0.3838 :    -13.25453717     -0.07033242j   Residual Norm: 0.01076108                              \n",
      "               <<y;y>>_0.3859 :    -13.28619447     -0.07105212j   Residual Norm: 0.01080862                              \n",
      "               <<y;y>>_0.3879 :    -13.31817585     -0.07177995j   Residual Norm: 0.01085635                              \n",
      "               <<y;y>>_0.3900 :    -13.35048496     -0.07251602j   Residual Norm: 0.01090427                              \n",
      "               <<y;y>>_0.3920 :    -13.38312553     -0.07326049j   Residual Norm: 0.01095237                              \n",
      "               <<y;y>>_0.3940 :    -13.41610135     -0.07401351j   Residual Norm: 0.01100066                              \n",
      "               <<y;y>>_0.3961 :    -13.44941629     -0.07477521j   Residual Norm: 0.01104914                              \n",
      "               <<y;y>>_0.3981 :    -13.48307426     -0.07554576j   Residual Norm: 0.01109781                              \n",
      "               <<y;y>>_0.4002 :    -13.51707925     -0.07632530j   Residual Norm: 0.01114667                              \n",
      "               <<y;y>>_0.4022 :    -13.55143533     -0.07711399j   Residual Norm: 0.01119571                              \n",
      "               <<y;y>>_0.4042 :    -13.58614664     -0.07791199j   Residual Norm: 0.01124495                              \n",
      "               <<y;y>>_0.4063 :    -13.62121736     -0.07871947j   Residual Norm: 0.01129438                              \n",
      "               <<y;y>>_0.4083 :    -13.65665179     -0.07953660j   Residual Norm: 0.01134399                              \n",
      "               <<y;y>>_0.4104 :    -13.69245428     -0.08036354j   Residual Norm: 0.01139380                              \n",
      "               <<y;y>>_0.4124 :    -13.72862926     -0.08120047j   Residual Norm: 0.01144380                              \n",
      "               <<y;y>>_0.4144 :    -13.76518125     -0.08204758j   Residual Norm: 0.01149398                              \n",
      "               <<y;y>>_0.4165 :    -13.80211483     -0.08290503j   Residual Norm: 0.01154437                              \n",
      "               <<y;y>>_0.4185 :    -13.83943469     -0.08377303j   Residual Norm: 0.01159494                              \n",
      "               <<z;z>>_0.3185 :     -3.10996309     -0.01921328j   Residual Norm: 0.00000000                              \n",
      "               <<z;z>>_0.3206 :     -3.11861829     -0.01944430j   Residual Norm: 0.00000000                              \n",
      "               <<z;z>>_0.3226 :     -3.12737758     -0.01967831j   Residual Norm: 0.00000000                              \n",
      "               <<z;z>>_0.3246 :     -3.13624233     -0.01991537j   Residual Norm: 0.00000000                              \n",
      "               <<z;z>>_0.3267 :     -3.14521391     -0.02015554j   Residual Norm: 0.00000000                              \n",
      "               <<z;z>>_0.3287 :     -3.15429371     -0.02039887j   Residual Norm: 0.00000000                              \n",
      "               <<z;z>>_0.3308 :     -3.16348319     -0.02064544j   Residual Norm: 0.00000000                              \n",
      "               <<z;z>>_0.3328 :     -3.17278379     -0.02089530j   Residual Norm: 0.00000000                              \n",
      "               <<z;z>>_0.3349 :     -3.18219700     -0.02114853j   Residual Norm: 0.00000000                              \n",
      "               <<z;z>>_0.3369 :     -3.19172435     -0.02140519j   Residual Norm: 0.00000000                              \n",
      "               <<z;z>>_0.3389 :     -3.20136740     -0.02166535j   Residual Norm: 0.00000000                              \n",
      "               <<z;z>>_0.3410 :     -3.21112771     -0.02192908j   Residual Norm: 0.00000000                              \n",
      "               <<z;z>>_0.3430 :     -3.22100691     -0.02219645j   Residual Norm: 0.00000000                              \n",
      "               <<z;z>>_0.3451 :     -3.23100664     -0.02246755j   Residual Norm: 0.00000000                              \n",
      "               <<z;z>>_0.3471 :     -3.24112858     -0.02274244j   Residual Norm: 0.00000000                              \n",
      "               <<z;z>>_0.3491 :     -3.25137446     -0.02302121j   Residual Norm: 0.00000000                              \n",
      "               <<z;z>>_0.3512 :     -3.26174602     -0.02330393j   Residual Norm: 0.00000000                              \n",
      "               <<z;z>>_0.3532 :     -3.27224506     -0.02359069j   Residual Norm: 0.00000000                              \n",
      "               <<z;z>>_0.3553 :     -3.28287339     -0.02388157j   Residual Norm: 0.00000000                              \n",
      "               <<z;z>>_0.3573 :     -3.29363288     -0.02417666j   Residual Norm: 0.00000000                              \n",
      "               <<z;z>>_0.3593 :     -3.30452544     -0.02447605j   Residual Norm: 0.00000000                              \n",
      "               <<z;z>>_0.3614 :     -3.31555301     -0.02477983j   Residual Norm: 0.00000000                              \n",
      "               <<z;z>>_0.3634 :     -3.32671757     -0.02508809j   Residual Norm: 0.00000000                              \n",
      "               <<z;z>>_0.3655 :     -3.33802116     -0.02540093j   Residual Norm: 0.00000000                              \n",
      "               <<z;z>>_0.3675 :     -3.34946583     -0.02571844j   Residual Norm: 0.00000000                              \n",
      "               <<z;z>>_0.3695 :     -3.36105372     -0.02604074j   Residual Norm: 0.00000000                              \n",
      "               <<z;z>>_0.3716 :     -3.37278697     -0.02636792j   Residual Norm: 0.00000000                              \n",
      "               <<z;z>>_0.3736 :     -3.38466781     -0.02670009j   Residual Norm: 0.00000000                              \n",
      "               <<z;z>>_0.3757 :     -3.39669848     -0.02703735j   Residual Norm: 0.00000000                              \n",
      "               <<z;z>>_0.3777 :     -3.40888129     -0.02737983j   Residual Norm: 0.00000000                              \n",
      "               <<z;z>>_0.3797 :     -3.42121860     -0.02772763j   Residual Norm: 0.00000000                              \n",
      "               <<z;z>>_0.3818 :     -3.43371282     -0.02808088j   Residual Norm: 0.00000000                              \n",
      "               <<z;z>>_0.3838 :     -3.44636641     -0.02843970j   Residual Norm: 0.00000000                              \n",
      "               <<z;z>>_0.3859 :     -3.45918190     -0.02880420j   Residual Norm: 0.00000000                              \n",
      "               <<z;z>>_0.3879 :     -3.47216185     -0.02917453j   Residual Norm: 0.00000000                              \n",
      "               <<z;z>>_0.3900 :     -3.48530890     -0.02955081j   Residual Norm: 0.00000000                              \n",
      "               <<z;z>>_0.3920 :     -3.49862575     -0.02993318j   Residual Norm: 0.00000000                              \n",
      "               <<z;z>>_0.3940 :     -3.51211515     -0.03032178j   Residual Norm: 0.00000000                              \n",
      "               <<z;z>>_0.3961 :     -3.52577992     -0.03071675j   Residual Norm: 0.00000000                              \n",
      "               <<z;z>>_0.3981 :     -3.53962294     -0.03111825j   Residual Norm: 0.00000000                              \n",
      "               <<z;z>>_0.4002 :     -3.55364717     -0.03152641j   Residual Norm: 0.00000000                              \n",
      "               <<z;z>>_0.4022 :     -3.56785562     -0.03194140j   Residual Norm: 0.00000000                              \n",
      "               <<z;z>>_0.4042 :     -3.58225138     -0.03236338j   Residual Norm: 0.00000000                              \n",
      "               <<z;z>>_0.4063 :     -3.59683763     -0.03279252j   Residual Norm: 0.00000000                              \n",
      "               <<z;z>>_0.4083 :     -3.61161760     -0.03322899j   Residual Norm: 0.00000000                              \n",
      "               <<z;z>>_0.4104 :     -3.62659460     -0.03367295j   Residual Norm: 0.00000000                              \n",
      "               <<z;z>>_0.4124 :     -3.64177203     -0.03412460j   Residual Norm: 0.00000000                              \n",
      "               <<z;z>>_0.4144 :     -3.65715338     -0.03458412j   Residual Norm: 0.00000000                              \n",
      "               <<z;z>>_0.4165 :     -3.67274220     -0.03505169j   Residual Norm: 0.00000000                              \n",
      "               <<z;z>>_0.4185 :     -3.68854214     -0.03552753j   Residual Norm: 0.00000000                              \n",
      "                                                                                                                          \n",
      "* Info * Processing Fock builds... (batch size: 10)                                                                       \n",
      "* Info *   batch 1/1                                                                                                      \n",
      "                                                                                                                          \n",
      "* Info * 20 gerade trial vectors in reduced space                                                                         \n",
      "* Info * 20 ungerade trial vectors in reduced space                                                                       \n",
      "                                                                                                                          \n",
      "* Info * 367.01 kB of memory used for subspace procedure on the master node                                               \n",
      "* Info * 5.95 GB of memory available for the solver on the master node                                                    \n",
      "                                                                                                                          \n",
      "               *** Iteration:   3 * Residuals (Max,Min): 4.26e-04 and 9.02e-16                                            \n",
      "                                                                                                                          \n",
      "               Operator:  electric dipole (xyz)                                                                           \n",
      "                                                                                                                          \n",
      "               <<x;x>>_0.3185 :    -52.22386946     -3.62363163j   Residual Norm: 0.00011576                              \n",
      "               <<x;x>>_0.3206 :    -53.88620841     -3.93438254j   Residual Norm: 0.00011682                              \n",
      "               <<x;x>>_0.3226 :    -55.69151038     -4.28687140j   Residual Norm: 0.00011789                              \n",
      "               <<x;x>>_0.3246 :    -57.65888001     -4.68890544j   Residual Norm: 0.00011896                              \n",
      "               <<x;x>>_0.3267 :    -59.81094177     -5.15019857j   Residual Norm: 0.00012005                              \n",
      "               <<x;x>>_0.3287 :    -62.17467551     -5.68295594j   Residual Norm: 0.00012114                              \n",
      "               <<x;x>>_0.3308 :    -64.78249668     -6.30267760j   Residual Norm: 0.00012224                              \n",
      "               <<x;x>>_0.3328 :    -67.67366619     -7.02927977j   Residual Norm: 0.00012334                              \n",
      "               <<x;x>>_0.3349 :    -70.89614976     -7.88868466j   Residual Norm: 0.00012446                              \n",
      "               <<x;x>>_0.3369 :    -74.50909537     -8.91511474j   Residual Norm: 0.00012558                              \n",
      "               <<x;x>>_0.3389 :    -78.58616948    -10.15446857j   Residual Norm: 0.00012671                              \n",
      "               <<x;x>>_0.3410 :    -83.22009488    -11.66939577j   Residual Norm: 0.00012784                              \n",
      "               <<x;x>>_0.3430 :    -88.52887785    -13.54710963j   Residual Norm: 0.00012899                              \n",
      "               <<x;x>>_0.3451 :    -94.66440360    -15.91173570j   Residual Norm: 0.00013014                              \n",
      "               <<x;x>>_0.3471 :   -101.82429549    -18.94441067j   Residual Norm: 0.00013130                              \n",
      "               <<x;x>>_0.3491 :   -110.26804510    -22.91707895j   Residual Norm: 0.00013246                              \n",
      "               <<x;x>>_0.3512 :   -120.33793179    -28.25140373j   Residual Norm: 0.00013364                              \n",
      "               <<x;x>>_0.3532 :   -132.48242820    -35.62554684j   Residual Norm: 0.00013482                              \n",
      "               <<x;x>>_0.3553 :   -147.26864839    -46.17575103j   Residual Norm: 0.00013601                              \n",
      "               <<x;x>>_0.3573 :   -165.32981610    -61.89145305j   Residual Norm: 0.00013721                              \n",
      "               <<x;x>>_0.3593 :   -187.04678224    -86.40526689j   Residual Norm: 0.00013841                              \n",
      "               <<x;x>>_0.3614 :   -211.22745754   -126.49800700j   Residual Norm: 0.00013963                              \n",
      "               <<x;x>>_0.3634 :   -230.22852944   -194.03857882j   Residual Norm: 0.00014085                              \n",
      "               <<x;x>>_0.3655 :   -215.41647210   -301.30440861j   Residual Norm: 0.00014207                              \n",
      "               <<x;x>>_0.3675 :   -106.27144489   -416.41330627j   Residual Norm: 0.00014331                              \n",
      "               <<x;x>>_0.3695 :     80.21006610   -416.41399759j   Residual Norm: 0.00014455                              \n",
      "               <<x;x>>_0.3716 :    189.35456009   -301.30643099j   Residual Norm: 0.00014580                              \n",
      "               <<x;x>>_0.3736 :    204.16547150   -194.04189444j   Residual Norm: 0.00014706                              \n",
      "               <<x;x>>_0.3757 :    185.16264537   -126.50261810j   Residual Norm: 0.00014832                              \n",
      "               <<x;x>>_0.3777 :    160.97962184    -86.41118088j   Residual Norm: 0.00014959                              \n",
      "               <<x;x>>_0.3797 :    139.25971827    -61.89867513j   Residual Norm: 0.00015087                              \n",
      "               <<x;x>>_0.3818 :    121.19502476    -46.18428474j   Residual Norm: 0.00015216                              \n",
      "               <<x;x>>_0.3838 :    106.40469006    -35.63539495j   Residual Norm: 0.00015345                              \n",
      "               <<x;x>>_0.3859 :     94.25548966    -28.26256872j   Residual Norm: 0.00015475                              \n",
      "               <<x;x>>_0.3879 :     84.18030859    -22.92956327j   Residual Norm: 0.00015605                              \n",
      "               <<x;x>>_0.3900 :     75.73067318    -18.95821686j   Residual Norm: 0.00015736                              \n",
      "               <<x;x>>_0.3920 :     68.56430294    -15.92686647j   Residual Norm: 0.00015868                              \n",
      "               <<x;x>>_0.3940 :     62.42170506    -13.56356788j   Residual Norm: 0.00016000                              \n",
      "               <<x;x>>_0.3961 :     57.10525485    -11.68718460j   Residual Norm: 0.00016133                              \n",
      "               <<x;x>>_0.3981 :     52.46306567    -10.17359134j   Residual Norm: 0.00016267                              \n",
      "               <<x;x>>_0.4002 :     48.37712969     -8.93557503j   Residual Norm: 0.00016401                              \n",
      "               <<x;x>>_0.4022 :     44.75472245     -7.91048631j   Residual Norm: 0.00016535                              \n",
      "               <<x;x>>_0.4042 :     41.52217574     -7.05242685j   Residual Norm: 0.00016670                              \n",
      "               <<x;x>>_0.4063 :     38.62033968     -6.32717445j   Residual Norm: 0.00016806                              \n",
      "               <<x;x>>_0.4083 :     36.00124657     -5.70880716j   Residual Norm: 0.00016941                              \n",
      "               <<x;x>>_0.4104 :     33.62563337     -5.17740900j   Residual Norm: 0.00017077                              \n",
      "               <<x;x>>_0.4124 :     31.46108242     -4.71748021j   Residual Norm: 0.00017214                              \n",
      "               <<x;x>>_0.4144 :     29.48061150     -4.31681589j   Residual Norm: 0.00017351                              \n",
      "               <<x;x>>_0.4165 :     27.66159368     -3.96570242j   Residual Norm: 0.00017488                              \n",
      "               <<x;x>>_0.4185 :     25.98492171     -3.65633284j   Residual Norm: 0.00017625                              \n",
      "               <<y;y>>_0.3185 :    -12.39364638     -0.05088425j   Residual Norm: 0.00033869                              \n",
      "               <<y;y>>_0.3206 :    -12.41655039     -0.05140367j   Residual Norm: 0.00033994                              \n",
      "               <<y;y>>_0.3226 :    -12.43968807     -0.05192793j   Residual Norm: 0.00034120                              \n",
      "               <<y;y>>_0.3246 :    -12.46306162     -0.05245710j   Residual Norm: 0.00034249                              \n",
      "               <<y;y>>_0.3267 :    -12.48667324     -0.05299126j   Residual Norm: 0.00034379                              \n",
      "               <<y;y>>_0.3287 :    -12.51052519     -0.05353049j   Residual Norm: 0.00034511                              \n",
      "               <<y;y>>_0.3308 :    -12.53461975     -0.05407487j   Residual Norm: 0.00034645                              \n",
      "               <<y;y>>_0.3328 :    -12.55895926     -0.05462448j   Residual Norm: 0.00034781                              \n",
      "               <<y;y>>_0.3349 :    -12.58354606     -0.05517940j   Residual Norm: 0.00034919                              \n",
      "               <<y;y>>_0.3369 :    -12.60838255     -0.05573972j   Residual Norm: 0.00035058                              \n",
      "               <<y;y>>_0.3389 :    -12.63347118     -0.05630552j   Residual Norm: 0.00035200                              \n",
      "               <<y;y>>_0.3410 :    -12.65881441     -0.05687689j   Residual Norm: 0.00035343                              \n",
      "               <<y;y>>_0.3430 :    -12.68441477     -0.05745392j   Residual Norm: 0.00035489                              \n",
      "               <<y;y>>_0.3451 :    -12.71027479     -0.05803671j   Residual Norm: 0.00035637                              \n",
      "               <<y;y>>_0.3471 :    -12.73639708     -0.05862533j   Residual Norm: 0.00035787                              \n",
      "               <<y;y>>_0.3491 :    -12.76278428     -0.05921989j   Residual Norm: 0.00035939                              \n",
      "               <<y;y>>_0.3512 :    -12.78943906     -0.05982049j   Residual Norm: 0.00036093                              \n",
      "               <<y;y>>_0.3532 :    -12.81636415     -0.06042721j   Residual Norm: 0.00036249                              \n",
      "               <<y;y>>_0.3553 :    -12.84356231     -0.06104017j   Residual Norm: 0.00036407                              \n",
      "               <<y;y>>_0.3573 :    -12.87103635     -0.06165946j   Residual Norm: 0.00036568                              \n",
      "               <<y;y>>_0.3593 :    -12.89878914     -0.06228518j   Residual Norm: 0.00036731                              \n",
      "               <<y;y>>_0.3614 :    -12.92682358     -0.06291745j   Residual Norm: 0.00036896                              \n",
      "               <<y;y>>_0.3634 :    -12.95514262     -0.06355636j   Residual Norm: 0.00037063                              \n",
      "               <<y;y>>_0.3655 :    -12.98374926     -0.06420203j   Residual Norm: 0.00037233                              \n",
      "               <<y;y>>_0.3675 :    -13.01264655     -0.06485457j   Residual Norm: 0.00037406                              \n",
      "               <<y;y>>_0.3695 :    -13.04183759     -0.06551410j   Residual Norm: 0.00037580                              \n",
      "               <<y;y>>_0.3716 :    -13.07132554     -0.06618072j   Residual Norm: 0.00037757                              \n",
      "               <<y;y>>_0.3736 :    -13.10111360     -0.06685457j   Residual Norm: 0.00037937                              \n",
      "               <<y;y>>_0.3757 :    -13.13120502     -0.06753575j   Residual Norm: 0.00038119                              \n",
      "               <<y;y>>_0.3777 :    -13.16160313     -0.06822440j   Residual Norm: 0.00038304                              \n",
      "               <<y;y>>_0.3797 :    -13.19231128     -0.06892063j   Residual Norm: 0.00038492                              \n",
      "               <<y;y>>_0.3818 :    -13.22333292     -0.06962458j   Residual Norm: 0.00038682                              \n",
      "               <<y;y>>_0.3838 :    -13.25467151     -0.07033638j   Residual Norm: 0.00038875                              \n",
      "               <<y;y>>_0.3859 :    -13.28633060     -0.07105616j   Residual Norm: 0.00039070                              \n",
      "               <<y;y>>_0.3879 :    -13.31831380     -0.07178406j   Residual Norm: 0.00039269                              \n",
      "               <<y;y>>_0.3900 :    -13.35062477     -0.07252022j   Residual Norm: 0.00039470                              \n",
      "               <<y;y>>_0.3920 :    -13.38326724     -0.07326477j   Residual Norm: 0.00039674                              \n",
      "               <<y;y>>_0.3940 :    -13.41624499     -0.07401787j   Residual Norm: 0.00039881                              \n",
      "               <<y;y>>_0.3961 :    -13.44956190     -0.07477966j   Residual Norm: 0.00040091                              \n",
      "               <<y;y>>_0.3981 :    -13.48322188     -0.07555029j   Residual Norm: 0.00040304                              \n",
      "               <<y;y>>_0.4002 :    -13.51722892     -0.07632991j   Residual Norm: 0.00040521                              \n",
      "               <<y;y>>_0.4022 :    -13.55158708     -0.07711870j   Residual Norm: 0.00040740                              \n",
      "               <<y;y>>_0.4042 :    -13.58630051     -0.07791679j   Residual Norm: 0.00040963                              \n",
      "               <<y;y>>_0.4063 :    -13.62137340     -0.07872437j   Residual Norm: 0.00041188                              \n",
      "               <<y;y>>_0.4083 :    -13.65681004     -0.07954159j   Residual Norm: 0.00041418                              \n",
      "               <<y;y>>_0.4104 :    -13.69261479     -0.08036863j   Residual Norm: 0.00041650                              \n",
      "               <<y;y>>_0.4124 :    -13.72879207     -0.08120566j   Residual Norm: 0.00041886                              \n",
      "               <<y;y>>_0.4144 :    -13.76534640     -0.08205287j   Residual Norm: 0.00042126                              \n",
      "               <<y;y>>_0.4165 :    -13.80228237     -0.08291043j   Residual Norm: 0.00042369                              \n",
      "               <<y;y>>_0.4185 :    -13.83960467     -0.08377853j   Residual Norm: 0.00042616                              \n",
      "                                                                                                                          \n",
      "* Info * Processing Fock builds... (batch size: 4)                                                                        \n",
      "* Info *   batch 1/1                                                                                                      \n",
      "                                                                                                                          \n",
      "* Info * 22 gerade trial vectors in reduced space                                                                         \n",
      "* Info * 22 ungerade trial vectors in reduced space                                                                       \n",
      "                                                                                                                          \n",
      "* Info * 366.29 kB of memory used for subspace procedure on the master node                                               \n",
      "* Info * 5.94 GB of memory available for the solver on the master node                                                    \n",
      "                                                                                                                          \n",
      "               *** Iteration:   4 * Residuals (Max,Min): 3.00e-15 and 2.71e-16                                            \n",
      "                                                                                                                          \n",
      "               Operator:  electric dipole (xyz)                                                                           \n",
      "                                                                                                                          \n",
      "               <<x;x>>_0.3185 :    -52.22386969     -3.62363168j   Residual Norm: 0.00000000                              \n",
      "               <<x;x>>_0.3206 :    -53.88620867     -3.93438260j   Residual Norm: 0.00000000                              \n",
      "               <<x;x>>_0.3226 :    -55.69151067     -4.28687146j   Residual Norm: 0.00000000                              \n",
      "               <<x;x>>_0.3246 :    -57.65888033     -4.68890552j   Residual Norm: 0.00000000                              \n",
      "               <<x;x>>_0.3267 :    -59.81094212     -5.15019866j   Residual Norm: 0.00000000                              \n",
      "               <<x;x>>_0.3287 :    -62.17467590     -5.68295605j   Residual Norm: 0.00000000                              \n",
      "               <<x;x>>_0.3308 :    -64.78249712     -6.30267773j   Residual Norm: 0.00000000                              \n",
      "               <<x;x>>_0.3328 :    -67.67366669     -7.02927992j   Residual Norm: 0.00000000                              \n",
      "               <<x;x>>_0.3349 :    -70.89615032     -7.88868484j   Residual Norm: 0.00000000                              \n",
      "               <<x;x>>_0.3369 :    -74.50909602     -8.91511496j   Residual Norm: 0.00000000                              \n",
      "               <<x;x>>_0.3389 :    -78.58617022    -10.15446884j   Residual Norm: 0.00000000                              \n",
      "               <<x;x>>_0.3410 :    -83.22009574    -11.66939610j   Residual Norm: 0.00000000                              \n",
      "               <<x;x>>_0.3430 :    -88.52887886    -13.54711005j   Residual Norm: 0.00000000                              \n",
      "               <<x;x>>_0.3451 :    -94.66440480    -15.91173624j   Residual Norm: 0.00000000                              \n",
      "               <<x;x>>_0.3471 :   -101.82429692    -18.94441137j   Residual Norm: 0.00000000                              \n",
      "               <<x;x>>_0.3491 :   -110.26804682    -22.91707989j   Residual Norm: 0.00000000                              \n",
      "               <<x;x>>_0.3512 :   -120.33793389    -28.25140503j   Residual Norm: 0.00000000                              \n",
      "               <<x;x>>_0.3532 :   -132.48243078    -35.62554868j   Residual Norm: 0.00000000                              \n",
      "               <<x;x>>_0.3553 :   -147.26865157    -46.17575373j   Residual Norm: 0.00000000                              \n",
      "               <<x;x>>_0.3573 :   -165.32982002    -61.89145719j   Residual Norm: 0.00000000                              \n",
      "               <<x;x>>_0.3593 :   -187.04678688    -86.40527354j   Residual Norm: 0.00000000                              \n",
      "               <<x;x>>_0.3614 :   -211.22746219   -126.49801815j   Residual Norm: 0.00000000                              \n",
      "               <<x;x>>_0.3634 :   -230.22853081   -194.03859765j   Residual Norm: 0.00000000                              \n",
      "               <<x;x>>_0.3655 :   -215.41645970   -301.30443576j   Residual Norm: 0.00000000                              \n",
      "               <<x;x>>_0.3675 :   -106.27140619   -416.41332263j   Residual Norm: 0.00000000                              \n",
      "               <<x;x>>_0.3695 :     80.21010403   -416.41397778j   Residual Norm: 0.00000000                              \n",
      "               <<x;x>>_0.3716 :    189.35457081   -301.30640134j   Residual Norm: 0.00000000                              \n",
      "               <<x;x>>_0.3736 :    204.16546833   -194.04187401j   Residual Norm: 0.00000000                              \n",
      "               <<x;x>>_0.3757 :    185.16263908   -126.50260590j   Residual Norm: 0.00000000                              \n",
      "               <<x;x>>_0.3777 :    160.97961576    -86.41117351j   Residual Norm: 0.00000000                              \n",
      "               <<x;x>>_0.3797 :    139.25971308    -61.89867048j   Residual Norm: 0.00000000                              \n",
      "               <<x;x>>_0.3818 :    121.19502046    -46.18428166j   Residual Norm: 0.00000000                              \n",
      "               <<x;x>>_0.3838 :    106.40468649    -35.63539282j   Residual Norm: 0.00000000                              \n",
      "               <<x;x>>_0.3859 :     94.25548667    -28.26256720j   Residual Norm: 0.00000000                              \n",
      "               <<x;x>>_0.3879 :     84.18030606    -22.92956214j   Residual Norm: 0.00000000                              \n",
      "               <<x;x>>_0.3900 :     75.73067101    -18.95821600j   Residual Norm: 0.00000000                              \n",
      "               <<x;x>>_0.3920 :     68.56430106    -15.92686580j   Residual Norm: 0.00000000                              \n",
      "               <<x;x>>_0.3940 :     62.42170341    -13.56356734j   Residual Norm: 0.00000000                              \n",
      "               <<x;x>>_0.3961 :     57.10525339    -11.68718418j   Residual Norm: 0.00000000                              \n",
      "               <<x;x>>_0.3981 :     52.46306437    -10.17359099j   Residual Norm: 0.00000000                              \n",
      "               <<x;x>>_0.4002 :     48.37712852     -8.93557474j   Residual Norm: 0.00000000                              \n",
      "               <<x;x>>_0.4022 :     44.75472139     -7.91048606j   Residual Norm: 0.00000000                              \n",
      "               <<x;x>>_0.4042 :     41.52217477     -7.05242665j   Residual Norm: 0.00000000                              \n",
      "               <<x;x>>_0.4063 :     38.62033880     -6.32717428j   Residual Norm: 0.00000000                              \n",
      "               <<x;x>>_0.4083 :     36.00124576     -5.70880700j   Residual Norm: 0.00000000                              \n",
      "               <<x;x>>_0.4104 :     33.62563262     -5.17740887j   Residual Norm: 0.00000000                              \n",
      "               <<x;x>>_0.4124 :     31.46108173     -4.71748009j   Residual Norm: 0.00000000                              \n",
      "               <<x;x>>_0.4144 :     29.48061085     -4.31681579j   Residual Norm: 0.00000000                              \n",
      "               <<x;x>>_0.4165 :     27.66159307     -3.96570233j   Residual Norm: 0.00000000                              \n",
      "               <<x;x>>_0.4185 :     25.98492114     -3.65633275j   Residual Norm: 0.00000000                              \n",
      "               <<y;y>>_0.3185 :    -12.39364642     -0.05088425j   Residual Norm: 0.00000000                              \n",
      "               <<y;y>>_0.3206 :    -12.41655043     -0.05140367j   Residual Norm: 0.00000000                              \n",
      "               <<y;y>>_0.3226 :    -12.43968811     -0.05192793j   Residual Norm: 0.00000000                              \n",
      "               <<y;y>>_0.3246 :    -12.46306166     -0.05245710j   Residual Norm: 0.00000000                              \n",
      "               <<y;y>>_0.3267 :    -12.48667328     -0.05299126j   Residual Norm: 0.00000000                              \n",
      "               <<y;y>>_0.3287 :    -12.51052523     -0.05353049j   Residual Norm: 0.00000000                              \n",
      "               <<y;y>>_0.3308 :    -12.53461980     -0.05407487j   Residual Norm: 0.00000000                              \n",
      "               <<y;y>>_0.3328 :    -12.55895930     -0.05462448j   Residual Norm: 0.00000000                              \n",
      "               <<y;y>>_0.3349 :    -12.58354610     -0.05517940j   Residual Norm: 0.00000000                              \n",
      "               <<y;y>>_0.3369 :    -12.60838260     -0.05573972j   Residual Norm: 0.00000000                              \n",
      "               <<y;y>>_0.3389 :    -12.63347123     -0.05630552j   Residual Norm: 0.00000000                              \n",
      "               <<y;y>>_0.3410 :    -12.65881446     -0.05687689j   Residual Norm: 0.00000000                              \n",
      "               <<y;y>>_0.3430 :    -12.68441481     -0.05745393j   Residual Norm: 0.00000000                              \n",
      "               <<y;y>>_0.3451 :    -12.71027484     -0.05803671j   Residual Norm: 0.00000000                              \n",
      "               <<y;y>>_0.3471 :    -12.73639713     -0.05862533j   Residual Norm: 0.00000000                              \n",
      "               <<y;y>>_0.3491 :    -12.76278433     -0.05921989j   Residual Norm: 0.00000000                              \n",
      "               <<y;y>>_0.3512 :    -12.78943911     -0.05982049j   Residual Norm: 0.00000000                              \n",
      "               <<y;y>>_0.3532 :    -12.81636420     -0.06042721j   Residual Norm: 0.00000000                              \n",
      "               <<y;y>>_0.3553 :    -12.84356236     -0.06104017j   Residual Norm: 0.00000000                              \n",
      "               <<y;y>>_0.3573 :    -12.87103641     -0.06165946j   Residual Norm: 0.00000000                              \n",
      "               <<y;y>>_0.3593 :    -12.89878920     -0.06228518j   Residual Norm: 0.00000000                              \n",
      "               <<y;y>>_0.3614 :    -12.92682364     -0.06291745j   Residual Norm: 0.00000000                              \n",
      "               <<y;y>>_0.3634 :    -12.95514267     -0.06355636j   Residual Norm: 0.00000000                              \n",
      "               <<y;y>>_0.3655 :    -12.98374931     -0.06420203j   Residual Norm: 0.00000000                              \n",
      "               <<y;y>>_0.3675 :    -13.01264661     -0.06485457j   Residual Norm: 0.00000000                              \n",
      "               <<y;y>>_0.3695 :    -13.04183765     -0.06551410j   Residual Norm: 0.00000000                              \n",
      "               <<y;y>>_0.3716 :    -13.07132560     -0.06618072j   Residual Norm: 0.00000000                              \n",
      "               <<y;y>>_0.3736 :    -13.10111365     -0.06685457j   Residual Norm: 0.00000000                              \n",
      "               <<y;y>>_0.3757 :    -13.13120508     -0.06753575j   Residual Norm: 0.00000000                              \n",
      "               <<y;y>>_0.3777 :    -13.16160319     -0.06822440j   Residual Norm: 0.00000000                              \n",
      "               <<y;y>>_0.3797 :    -13.19231134     -0.06892063j   Residual Norm: 0.00000000                              \n",
      "               <<y;y>>_0.3818 :    -13.22333298     -0.06962459j   Residual Norm: 0.00000000                              \n",
      "               <<y;y>>_0.3838 :    -13.25467157     -0.07033639j   Residual Norm: 0.00000000                              \n",
      "               <<y;y>>_0.3859 :    -13.28633067     -0.07105617j   Residual Norm: 0.00000000                              \n",
      "               <<y;y>>_0.3879 :    -13.31831387     -0.07178406j   Residual Norm: 0.00000000                              \n",
      "               <<y;y>>_0.3900 :    -13.35062484     -0.07252022j   Residual Norm: 0.00000000                              \n",
      "               <<y;y>>_0.3920 :    -13.38326730     -0.07326477j   Residual Norm: 0.00000000                              \n",
      "               <<y;y>>_0.3940 :    -13.41624506     -0.07401787j   Residual Norm: 0.00000000                              \n",
      "               <<y;y>>_0.3961 :    -13.44956197     -0.07477966j   Residual Norm: 0.00000000                              \n",
      "               <<y;y>>_0.3981 :    -13.48322195     -0.07555029j   Residual Norm: 0.00000000                              \n",
      "               <<y;y>>_0.4002 :    -13.51722899     -0.07632992j   Residual Norm: 0.00000000                              \n",
      "               <<y;y>>_0.4022 :    -13.55158716     -0.07711870j   Residual Norm: 0.00000000                              \n",
      "               <<y;y>>_0.4042 :    -13.58630059     -0.07791679j   Residual Norm: 0.00000000                              \n",
      "               <<y;y>>_0.4063 :    -13.62137348     -0.07872437j   Residual Norm: 0.00000000                              \n",
      "               <<y;y>>_0.4083 :    -13.65681012     -0.07954159j   Residual Norm: 0.00000000                              \n",
      "               <<y;y>>_0.4104 :    -13.69261487     -0.08036863j   Residual Norm: 0.00000000                              \n",
      "               <<y;y>>_0.4124 :    -13.72879215     -0.08120567j   Residual Norm: 0.00000000                              \n",
      "               <<y;y>>_0.4144 :    -13.76534648     -0.08205287j   Residual Norm: 0.00000000                              \n",
      "               <<y;y>>_0.4165 :    -13.80228246     -0.08291043j   Residual Norm: 0.00000000                              \n",
      "               <<y;y>>_0.4185 :    -13.83960476     -0.08377853j   Residual Norm: 0.00000000                              \n",
      "                                                                                                                          \n",
      "               *** Complex response converged in 4 iterations. Time: 0.85 sec                                             \n",
      "                                                                                                                          \n",
      "                                                                                                                          \n"
     ]
    }
   ],
   "source": [
    "cpp_drv = vlx.ComplexResponse()\n",
    "\n",
    "exc = lres_out['eigenvalues'][0]\n",
    "freqs = np.linspace(exc - 0.05, exc + 0.05, 50)\n",
    "rsp_settings = {'frequencies': freqs}\n",
    "cpp_drv.update_settings(rsp_settings, method_settings)\n",
    "cpp_out = cpp_drv.compute(molecule, basis, scf_results)\n",
    "\n",
    "alpha_xx = []\n",
    "for freq in freqs:\n",
    "    alpha_xx.append(-cpp_out['response_functions'][('x', 'x', freq)])\n",
    "\n",
    "alpha_xx = np.array(alpha_xx)"
   ]
  },
  {
   "cell_type": "code",
   "execution_count": 65,
   "id": "4415b8e6-6029-485a-a35f-2dcf9fbb0dd6",
   "metadata": {
    "editable": true,
    "slideshow": {
     "slide_type": ""
    },
    "tags": []
   },
   "outputs": [
    {
     "data": {
      "image/png": "[encoded data removed]",
      "text/plain": [
       "<Figure size 800x400 with 1 Axes>"
      ]
     },
     "metadata": {},
     "output_type": "display_data"
    }
   ],
   "source": [
    "import matplotlib.pyplot as plt\n",
    "from scipy.interpolate import interp1d\n",
    "\n",
    "fig = plt.figure(1,figsize=(8,4))\n",
    "\n",
    "x = np.arange(exc - 0.05, exc + 0.05, 0.001)\n",
    "yR = interp1d(freqs, alpha_xx.real, kind = 'cubic')\n",
    "yI = interp1d(freqs, alpha_xx.imag, kind = 'cubic')\n",
    "\n",
    "plt.plot(x, yI(x), 'b-', x, yR(x), 'r-')\n",
    "plt.plot(freqs, alpha_xx.real, 'ko', freqs, alpha_xx.imag, 'ko')\n",
    "\n",
    "plt.legend(['Imag', 'Real'])\n",
    "\n",
    "plt.axhline(y = 0, color = '0.5', linewidth = 0.7, dashes = [3,1,3,1])\n",
    "#plt.setp(plt.gca(),xlim=(0.26,0.33))\n",
    "\n",
    "plt.ylabel('Polarizability (a.u.)')\n",
    "plt.xlabel('Frequency (a.u.)')\n",
    "\n",
    "plt.show()"
   ]
  },
  {
   "cell_type": "code",
   "execution_count": null,
   "id": "77cc34d6-386c-4a82-8943-45c3c1437804",
   "metadata": {
    "editable": true,
    "slideshow": {
     "slide_type": ""
    },
    "tags": []
   },
   "outputs": [],
   "source": []
  }
 ],
 "metadata": {
  "kernelspec": {
   "display_name": "Python 3 (ipykernel)",
   "language": "python",
   "name": "python3"
  },
  "language_info": {
   "codemirror_mode": {
    "name": "ipython",
    "version": 3
   },
   "file_extension": ".py",
   "mimetype": "text/x-python",
   "name": "python",
   "nbconvert_exporter": "python",
   "pygments_lexer": "ipython3",
   "version": "3.11.7"
  }
 },
 "nbformat": 4,
 "nbformat_minor": 5
}
