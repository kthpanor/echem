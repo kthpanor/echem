{
 "cells": [
  {
   "cell_type": "markdown",
   "id": "f3ba610a-1257-4d3f-a90d-f1c05c479c28",
   "metadata": {},
   "source": [
    "(sec:tddft-rpa)=\n",
    "# Spectrum calculation\n"
   ]
  },
  {
   "cell_type": "markdown",
   "id": "5fab0c09-0717-477e-b173-2ff05fa5942a",
   "metadata": {
    "tags": [
     "remove-cell"
    ]
   },
   "source": [
    "\n",
    "## Random-phase approximation\n",
    "\n",
    "The linear response TDHF equations, also known as the random phase approximation (RPA), involves the solution of a non-Hermitian eigenvalue equation which can be written as:\n",
    "\n",
    "\\begin{equation*}\n",
    "\\left(\n",
    "\\begin{array}{cc}\n",
    "\\mathbf{A} & \\mathbf{B} \\\\\n",
    "\\mathbf{B}^* & \\mathbf{A}^*\n",
    "\\end{array}\n",
    "\\right) \n",
    "\\left(\n",
    "\\begin{array}{c}\n",
    "\\mathbf{X} \\\\\n",
    "\\mathbf{Y}\n",
    "\\end{array}\n",
    "\\right) \n",
    "= \\omega\n",
    "\\left(\n",
    "\\begin{array}{cc}\n",
    "\\mathbf{1} & \\mathbf{0} \\\\\n",
    "\\mathbf{0}^* & \\mathbf{-1}^*\n",
    "\\end{array}\n",
    "\\right) \n",
    "\\left(\n",
    "\\begin{array}{c}\n",
    "\\mathbf{X} \\\\\n",
    "\\mathbf{Y}\n",
    "\\end{array}\n",
    "\\right) \n",
    "\\end{equation*}\n",
    "\n",
    "From this, excitation energies and transition amplitudes are obtained from the eigenvalues and corresponding eigenvectors, respectively.\n",
    "\n",
    "\n",
    "## Matrix elements\n",
    "\n",
    "### Electronic Hessian\n",
    "\n",
    "The electronic Hessian, $\\mathbf{E}^{[2]}$ reads\n",
    "\n",
    "\\begin{eqnarray*}\n",
    "\\mathbf{E}^{[2]} & = &\n",
    "\t\\begin{pmatrix}\n",
    "    \\rule[-5pt]{0pt}{20pt}\n",
    "\t\\rule{5pt}{0pt}\n",
    "\t\\mathbf{A} & \\mathbf{B} \\rule{5pt}{0pt}\n",
    "\t\\\\\n",
    "    \\rule[-10pt]{0pt}{25pt}\n",
    "    \\rule{5pt}{0pt}    \n",
    "\t\\mathbf{B}^* & \\mathbf{A}^* \\\\\n",
    "\t\\end{pmatrix}\n",
    "\\end{eqnarray*}\n",
    "\n",
    "This structure is the same for TDDFT, which we will focus on. Then, for a general hybrid functional, the blocks are constructed as:\n",
    "\n",
    "$$\n",
    "A_{ia,jb}  = \\delta_{ij} \\delta_{ab} (\\epsilon_a - \\epsilon_i) + (ia|jb) + c_{\\textrm{HF}}(ij|ab) + (1-c_{\\textrm{HF}})(ia|f_{\\textrm{xc}}|jb)\\\\\n",
    "B_{ia,jb}  = (ia|bj) + c_{\\textrm{HF}}(ib|aj) + (1-c_{\\textrm{HF}})(ia|f_{\\textrm{xc}}|bj)\n",
    "$$\n",
    "\n",
    "In the limits we retrieve the TDHF blocks ($c_{\\textrm{HF}} = 1$) and pure TDDFT ($c_{\\textrm{HF}} = 0$). The Tamm-Dancoff approximation (TDA) can be constructed by setting $\\mathbf{B}=0$, *i.e.* diagonalizing only $\\mathbf{A}$, which for TDHF corresponds to CIS. It can be noted that:\n",
    "\n",
    "- The matrix is Hermitian and has an internal structure in terms of the matrix blocks $\\mathbf{A}$ and $\\mathbf{B}$, but not in the full form\n",
    "- The diagonal elements correspond to differences in energy between the single-excited determinants $|0_i^a\\rangle$ and the reference state $|0\\rangle$\n",
    "\n",
    "### Overlap matrix\n",
    "\n",
    "The overlap matrix, $\\mathbf{S}^{[2]}$, in the SCF approximation is trivial and equal to\n",
    "\n",
    "\\begin{eqnarray*}\n",
    "\\label{S2}\n",
    "\\mathbf{S}^{[2]} & = &\n",
    "  \\begin{pmatrix}\n",
    "    \\rule[-10pt]{0pt}{20pt}\n",
    "     \\langle 0 | [\\hat{q}_{n}, \\hat{q}_{m}^\\dagger] | 0 \\rangle\n",
    "     &\n",
    "     \\langle 0 | [\\hat{q}_{n}, \\hat{q}_{m}] | 0 \\rangle \\\\\n",
    "    \\rule[-5pt]{0pt}{20pt}\n",
    "     \\langle 0 | [\\hat{q}_{n}^\\dagger, \\hat{q}_{m}^\\dagger] | 0 \\rangle\n",
    "     &\n",
    "     \\langle 0 | [\\hat{q}_{n}^\\dagger, \\hat{q}_{m}] | 0 \\rangle \\\\\n",
    "  \\end{pmatrix} =\n",
    "\t\\begin{pmatrix}\n",
    "    \\rule[-5pt]{0pt}{20pt}\n",
    "\t\\rule{5pt}{0pt}\n",
    "\t\\mathbf{1} & \\mathbf{0} \\rule{5pt}{0pt}\n",
    "\t\\\\\n",
    "    \\rule[-10pt]{0pt}{25pt}\n",
    "    \\rule{5pt}{0pt}    \n",
    "\t\\mathbf{0} & -\\mathbf{1} \\\\\n",
    "\t\\end{pmatrix} ,\n",
    "\\end{eqnarray*}\n",
    "\n",
    "where the \"1\" and the \"0\" are here understood to be the identity and zero matrices, respectively, of the same rank as sub-blocks $\\mathbf{A}$ and $\\mathbf{B}$ in the electronic Hessian.\n",
    "\n",
    "### Property gradient\n",
    "\n",
    "In the SCF approximation, the property gradient, $\\mathbf{V}^{[1]}$, takes the form\n",
    "\n",
    "\\begin{equation*}\n",
    "  \\mathbf{V}^{[1]} =\n",
    "  \\begin{pmatrix}\n",
    "    \\rule[-10pt]{0pt}{20pt}\n",
    "     \\langle 0 | [\\hat{a}_{i}^\\dagger\\hat{a}_{a}, \\hat{V}] | 0 \\rangle\n",
    "       \\\\\n",
    "    \\rule[-5pt]{0pt}{20pt}\n",
    "     \\langle 0 | [\\hat{a}_{a}^\\dagger\\hat{a}_{i}, \\hat{V}] | 0 \\rangle\n",
    "  \\\\\n",
    "  \\end{pmatrix} =\n",
    "  \\begin{pmatrix}\n",
    "    \\rule[-5pt]{0pt}{15pt}\n",
    "     \\langle 0_i^a | \\hat{V} | 0 \\rangle\n",
    "       \\\\\n",
    "    \\rule[-5pt]{0pt}{0pt}\n",
    "     -\\langle 0 | \\hat{V} | 0_i^a \\rangle\n",
    "    \\\\\n",
    "  \\end{pmatrix} =\n",
    "      \\begin{pmatrix}\n",
    "    \\rule[-5pt]{0pt}{15pt}\n",
    "    \\mathbf{g}\n",
    "       \\\\\n",
    "    \\rule[-5pt]{0pt}{0pt}\n",
    "     -\\mathbf{g}^*\n",
    "\\\\\n",
    "  \\end{pmatrix}\n",
    "\\end{equation*}\n",
    "\n",
    "```{note}\n",
    "It is a common practice to adopt the use of spin-adapted electron excitation vectors as a means to reduce the dimension of matrices and vectors.\n",
    "```\n",
    "\n",
    "### Numerical example\n",
    "Let us consider ethylene in a minimal basis set. We perform an SCF optimization of the Hsrtree--Fock reference state with use of the VeloxChem program. The dictonary `scf_tensors` contains information of the SCF calculation and we retrieve the orbital energies."
   ]
  },
  {
   "cell_type": "code",
   "execution_count": 2,
   "id": "4504aedb-35d5-43f1-8aa1-d873d48c3fef",
   "metadata": {
    "tags": [
     "remove-cell"
    ]
   },
   "outputs": [
    {
     "name": "stdout",
     "output_type": "stream",
     "text": [
      "* Warning * Environment variable OMP_NUM_THREADS not set.\n",
      "* Warning * Setting OMP_NUM_THREADS to 4.\n",
      "* Warning * Setting MKL_THREADING_LAYER to \"GNU\".\n"
     ]
    }
   ],
   "source": [
    "import veloxchem as vlx\n",
    "import numpy as np"
   ]
  },
  {
   "cell_type": "code",
   "execution_count": 49,
   "id": "d6060c9d-8812-452d-a334-8ea97cb8fe82",
   "metadata": {
    "tags": [
     "remove-output",
     "remove-cell"
    ]
   },
   "outputs": [
    {
     "name": "stdout",
     "output_type": "stream",
     "text": [
      "                                                                                                                          \n",
      "                                            Self Consistent Field Driver Setup                                            \n",
      "                                           ====================================                                           \n",
      "                                                                                                                          \n",
      "                   Wave Function Model             : Spin-Restricted Hartree-Fock                                         \n",
      "                   Initial Guess Model             : Superposition of Atomic Densities                                    \n",
      "                   Convergence Accelerator         : Two Level Direct Inversion of Iterative Subspace                     \n",
      "                   Max. Number of Iterations       : 50                                                                   \n",
      "                   Max. Number of Error Vectors    : 10                                                                   \n",
      "                   Convergence Threshold           : 1.0e-06                                                              \n",
      "                   ERI Screening Scheme            : Cauchy Schwarz + Density                                             \n",
      "                   ERI Screening Mode              : Dynamic                                                              \n",
      "                   ERI Screening Threshold         : 1.0e-12                                                              \n",
      "                   Linear Dependence Threshold     : 1.0e-06                                                              \n",
      "                                                                                                                          \n",
      "* Info * Nuclear repulsion energy: 33.3086336060 a.u.                                                                     \n",
      "                                                                                                                          \n",
      "* Info * Overlap matrix computed in 0.00 sec.                                                                             \n",
      "                                                                                                                          \n",
      "* Info * Kinetic energy matrix computed in 0.00 sec.                                                                      \n",
      "                                                                                                                          \n",
      "* Info * Nuclear potential matrix computed in 0.00 sec.                                                                   \n",
      "                                                                                                                          \n",
      "* Info * Orthogonalization matrix computed in 0.00 sec.                                                                   \n",
      "                                                                                                                          \n",
      "* Info * SAD initial guess computed in 0.00 sec.                                                                          \n",
      "                                                                                                                          \n",
      "* Info * Starting Reduced Basis SCF calculation...                                                                        \n",
      "* Info * ...done. SCF energy in reduced basis set: -78.002642751764 a.u. Time: 0.25 sec.                                  \n",
      "                                                                                                                          \n",
      "* Info * Overlap matrix computed in 0.00 sec.                                                                             \n",
      "                                                                                                                          \n",
      "* Info * Kinetic energy matrix computed in 0.00 sec.                                                                      \n",
      "                                                                                                                          \n",
      "* Info * Nuclear potential matrix computed in 0.00 sec.                                                                   \n",
      "                                                                                                                          \n",
      "* Info * Orthogonalization matrix computed in 0.00 sec.                                                                   \n",
      "                                                                                                                          \n",
      "                                                                                                                          \n",
      "               Iter. | Hartree-Fock Energy | Energy Change | Gradient Norm | Max. Gradient | Density Change               \n",
      "               --------------------------------------------------------------------------------------------               \n",
      "                  1       -78.002642754877    0.0000000000      0.00003567      0.00000803      0.00000000                \n",
      "                  2       -78.002642755176   -0.0000000003      0.00001162      0.00000253      0.00002363                \n",
      "                  3       -78.002642755198   -0.0000000000      0.00000124      0.00000031      0.00000434                \n",
      "                  4       -78.002642755199   -0.0000000000      0.00000009      0.00000002      0.00000144                \n",
      "                                                                                                                          \n",
      "               *** SCF converged in 4 iterations. Time: 0.18 sec.                                                         \n",
      "                                                                                                                          \n",
      "               Spin-Restricted Hartree-Fock:                                                                              \n",
      "               -----------------------------                                                                              \n",
      "               Total Energy                       :      -78.0026427552 a.u.                                              \n",
      "               Electronic Energy                  :     -111.3112763612 a.u.                                              \n",
      "               Nuclear Repulsion Energy           :       33.3086336060 a.u.                                              \n",
      "               ------------------------------------                                                                       \n",
      "               Gradient Norm                      :        0.0000000897 a.u.                                              \n",
      "                                                                                                                          \n",
      "                                                                                                                          \n",
      "               Ground State Information                                                                                   \n",
      "               ------------------------                                                                                   \n",
      "               Charge of Molecule            :  0.0                                                                       \n",
      "               Multiplicity (2S+1)           :  1.0                                                                       \n",
      "               Magnetic Quantum Number (M_S) :  0.0                                                                       \n",
      "                                                                                                                          \n",
      "                                                                                                                          \n",
      "                                                 Spin Restricted Orbitals                                                 \n",
      "                                                 ------------------------                                                 \n",
      "                                                                                                                          \n",
      "               Molecular Orbital No.   4:                                                                                 \n",
      "               --------------------------                                                                                 \n",
      "               Occupation: 2.000 Energy:   -0.79297 a.u.                                                                  \n",
      "               (   1 C   2s  :     0.25) (   1 C   3s  :     0.24) (   1 C   1p+1:     0.16)                              \n",
      "               (   2 C   2s  :    -0.25) (   2 C   3s  :    -0.24) (   2 C   1p+1:     0.16)                              \n",
      "               (   3 H   1s  :     0.15) (   4 H   1s  :     0.15) (   5 H   1s  :    -0.15)                              \n",
      "               (   6 H   1s  :    -0.15)                                                                                  \n",
      "                                                                                                                          \n",
      "               Molecular Orbital No.   5:                                                                                 \n",
      "               --------------------------                                                                                 \n",
      "               Occupation: 2.000 Energy:   -0.64755 a.u.                                                                  \n",
      "               (   1 C   1p-1:     0.32) (   2 C   1p-1:     0.32) (   3 H   1s  :     0.16)                              \n",
      "               (   4 H   1s  :    -0.16) (   5 H   1s  :    -0.16) (   6 H   1s  :     0.16)                              \n",
      "                                                                                                                          \n",
      "               Molecular Orbital No.   6:                                                                                 \n",
      "               --------------------------                                                                                 \n",
      "               Occupation: 2.000 Energy:   -0.57528 a.u.                                                                  \n",
      "               (   1 C   1p+1:     0.41) (   1 C   2p+1:     0.15) (   2 C   1p+1:    -0.41)                              \n",
      "               (   2 C   2p+1:    -0.15)                                                                                  \n",
      "                                                                                                                          \n",
      "               Molecular Orbital No.   7:                                                                                 \n",
      "               --------------------------                                                                                 \n",
      "               Occupation: 2.000 Energy:   -0.51028 a.u.                                                                  \n",
      "               (   1 C   1p-1:     0.31) (   1 C   2p-1:     0.20) (   2 C   1p-1:    -0.31)                              \n",
      "               (   2 C   2p-1:    -0.20) (   3 H   1s  :     0.20) (   4 H   1s  :    -0.20)                              \n",
      "               (   5 H   1s  :     0.20) (   6 H   1s  :    -0.20)                                                        \n",
      "                                                                                                                          \n",
      "               Molecular Orbital No.   8:                                                                                 \n",
      "               --------------------------                                                                                 \n",
      "               Occupation: 2.000 Energy:   -0.36646 a.u.                                                                  \n",
      "               (   1 C   1p0 :     0.37) (   1 C   2p0 :     0.31) (   2 C   1p0 :     0.37)                              \n",
      "               (   2 C   2p0 :     0.31)                                                                                  \n",
      "                                                                                                                          \n",
      "               Molecular Orbital No.   9:                                                                                 \n",
      "               --------------------------                                                                                 \n",
      "               Occupation: 0.000 Energy:    0.17011 a.u.                                                                  \n",
      "               (   1 C   1p0 :     0.35) (   1 C   2p0 :     0.73) (   2 C   1p0 :    -0.35)                              \n",
      "               (   2 C   2p0 :    -0.73)                                                                                  \n",
      "                                                                                                                          \n",
      "               Molecular Orbital No.  10:                                                                                 \n",
      "               --------------------------                                                                                 \n",
      "               Occupation: 0.000 Energy:    0.26253 a.u.                                                                  \n",
      "               (   1 C   3s  :     1.49) (   1 C   2p+1:     0.62) (   2 C   3s  :     1.49)                              \n",
      "               (   2 C   2p+1:    -0.62) (   3 H   2s  :    -1.03) (   4 H   2s  :    -1.03)                              \n",
      "               (   5 H   2s  :    -1.03) (   6 H   2s  :    -1.03)                                                        \n",
      "                                                                                                                          \n",
      "               Molecular Orbital No.  11:                                                                                 \n",
      "               --------------------------                                                                                 \n",
      "               Occupation: 0.000 Energy:    0.29521 a.u.                                                                  \n",
      "               (   1 C   1p-1:    -0.25) (   1 C   2p-1:    -0.85) (   2 C   1p-1:    -0.25)                              \n",
      "               (   2 C   2p-1:    -0.85) (   3 H   2s  :     1.14) (   4 H   2s  :    -1.14)                              \n",
      "               (   5 H   2s  :    -1.14) (   6 H   2s  :     1.14)                                                        \n",
      "                                                                                                                          \n",
      "               Molecular Orbital No.  12:                                                                                 \n",
      "               --------------------------                                                                                 \n",
      "               Occupation: 0.000 Energy:    0.31110 a.u.                                                                  \n",
      "               (   1 C   3s  :    -1.96) (   2 C   3s  :     1.96) (   3 H   2s  :     1.08)                              \n",
      "               (   4 H   2s  :     1.08) (   5 H   2s  :    -1.08) (   6 H   2s  :    -1.08)                              \n",
      "                                                                                                                          \n",
      "               Molecular Orbital No.  13:                                                                                 \n",
      "               --------------------------                                                                                 \n",
      "               Occupation: 0.000 Energy:    0.38858 a.u.                                                                  \n",
      "               (   1 C   1p-1:     0.25) (   1 C   2p-1:     1.90) (   2 C   1p-1:    -0.25)                              \n",
      "               (   2 C   2p-1:    -1.90) (   3 H   2s  :    -1.66) (   4 H   2s  :     1.66)                              \n",
      "               (   5 H   2s  :    -1.66) (   6 H   2s  :     1.66)                                                        \n",
      "                                                                                                                          \n"
     ]
    }
   ],
   "source": [
    "mol_str = \"\"\"\n",
    "C        0.67759997    0.00000000    0.00000000\n",
    "C       -0.67759997    0.00000000    0.00000000\n",
    "H        1.21655197    0.92414474    0.00000000\n",
    "H        1.21655197   -0.92414474    0.00000000\n",
    "H       -1.21655197   -0.92414474    0.00000000\n",
    "H       -1.21655197    0.92414474    0.00000000\n",
    "\"\"\"\n",
    "molecule = vlx.Molecule.read_str(mol_str, units='angstrom')\n",
    "basis = vlx.MolecularBasis.read(molecule, \"6-31g\")\n",
    "\n",
    "scf_drv = vlx.ScfRestrictedDriver()\n",
    "scf_drv.compute(molecule, basis)\n",
    "\n",
    "orbital_energies = scf_drv.scf_tensors['E']\n",
    "C = scf_drv.scf_tensors['C'] # MO coefficients"
   ]
  },
  {
   "cell_type": "markdown",
   "id": "19432476-e3ec-4bd7-9c80-05ac21163be9",
   "metadata": {
    "tags": [
     "remove-cell"
    ]
   },
   "source": [
    "#### E[2] matrix\n",
    "For a closed-shell system, the dimension of the $\\mathbf{A}$- and $\\mathbf{B}$-blocks of the $\\mathbf{E}^{[2]}$-matrix equals the number of occupied (spatial) orbitals times the number of virtual orbitals or, in other words\n",
    "\n",
    "$$\\mathrm{dim}\\left(\\mathbf{E}^{[2]}\\right) = 2 \\times n_\\mathrm{occ} \\times n_\\mathrm{virt}$$"
   ]
  },
  {
   "cell_type": "code",
   "execution_count": 50,
   "id": "8b9d2778-4310-4854-876d-6e4a571a307d",
   "metadata": {
    "tags": [
     "remove-cell"
    ]
   },
   "outputs": [
    {
     "name": "stdout",
     "output_type": "stream",
     "text": [
      "Number of occupied orbitals: 8\n",
      "Number of virtual orbitals: 18\n",
      "Dimension of A-block in E2: 144\n"
     ]
    }
   ],
   "source": [
    "nocc = molecule.number_of_alpha_electrons()\n",
    "norb = orbital_energies.shape[0]\n",
    "nvirt = norb - nocc\n",
    "n = nocc * nvirt\n",
    "\n",
    "print('Number of occupied orbitals:', nocc)\n",
    "print('Number of virtual orbitals:', nvirt)\n",
    "print('Dimension of A-block in E2:', n)"
   ]
  },
  {
   "cell_type": "markdown",
   "id": "4111d9c2-1c24-4410-97a9-9dde7ad72138",
   "metadata": {
    "tags": [
     "remove-cell"
    ]
   },
   "source": [
    "We get the $\\mathbf{E}^{[2]}$-matrix from the `LinearResponseEigenSolver` class object."
   ]
  },
  {
   "cell_type": "code",
   "execution_count": 51,
   "id": "9bbef901-abaf-4378-8e09-5fe23a7ec98b",
   "metadata": {
    "slideshow": {
     "slide_type": "slide"
    },
    "tags": [
     "remove-output",
     "remove-cell"
    ]
   },
   "outputs": [
    {
     "name": "stdout",
     "output_type": "stream",
     "text": [
      "* Info * Processing Fock builds... (batch size: 576)                                                                      \n",
      "* Info *   batch 1/1                                                                                                      \n"
     ]
    }
   ],
   "source": [
    "lres_drv = vlx.LinearResponseEigenSolver()\n",
    "E2 = lres_drv.get_e2(molecule, basis, scf_drv.scf_tensors)"
   ]
  },
  {
   "cell_type": "code",
   "execution_count": 52,
   "id": "26ff6e01-8fd7-47f1-aef7-12a6014fb655",
   "metadata": {
    "tags": [
     "remove-cell"
    ]
   },
   "outputs": [
    {
     "name": "stdout",
     "output_type": "stream",
     "text": [
      "Dimension of E[2] matrix: (288, 288)\n",
      "Diagonal element for the (pi,pi*)-excitation:  0.361149 a.u.\n"
     ]
    }
   ],
   "source": [
    "print('Dimension of E[2] matrix:', E2.shape)\n",
    "\n",
    "idx = (nocc -1) * nvirt # index position for (pi,pi*) excitation\n",
    "print(f'Diagonal element for the (pi,pi*)-excitation: {E2[idx,idx] : .6f} a.u.')"
   ]
  },
  {
   "cell_type": "markdown",
   "id": "df917549-3687-41ac-880a-4f68a390a9b0",
   "metadata": {
    "tags": [
     "remove-cell"
    ]
   },
   "source": [
    "Alternatively, we can in principle determine the elements of the $\\mathbf{E}^{[2]}$-matrix from explicit calculations using orbital energies and two-electron integrals in the MO-basis."
   ]
  },
  {
   "cell_type": "code",
   "execution_count": 53,
   "id": "47ca1f21-b772-4305-8166-94abc9899fbb",
   "metadata": {
    "tags": [
     "remove-cell"
    ]
   },
   "outputs": [
    {
     "name": "stdout",
     "output_type": "stream",
     "text": [
      "Diagonal element (explicit calculation):  0.361149 a.u.\n"
     ]
    }
   ],
   "source": [
    "# ERI integrals in physicist's notation\n",
    "moints_drv = vlx.MOIntegralsDriver()\n",
    "isis = moints_drv.compute_in_memory(molecule, basis, scf_drv.mol_orbs, \"chem_OVOV\")\n",
    "iiss = moints_drv.compute_in_memory(molecule, basis, scf_drv.mol_orbs, \"chem_OOVV\")\n",
    "# Determine the specific diagonal matrix element of E[2] explicitly \n",
    "print(f'Diagonal element (explicit calculation): {orbital_energies[8] - orbital_energies[7]- isis[7,0,7,0] + 2 * iiss[7,7,0,0] : .6f} a.u.')"
   ]
  },
  {
   "cell_type": "markdown",
   "id": "e04c4a6a-813f-4a18-bed3-16ef02702c3c",
   "metadata": {
    "tags": [
     "remove-cell"
    ]
   },
   "source": [
    "#### S[2] matrix\n",
    "We construct the trivial $\\mathbf{S}^{[2]}$-matrix."
   ]
  },
  {
   "cell_type": "code",
   "execution_count": 54,
   "id": "73a685bc-c05d-48bb-a380-afdc1920633d",
   "metadata": {
    "slideshow": {
     "slide_type": "fragment"
    },
    "tags": [
     "remove-cell"
    ]
   },
   "outputs": [
    {
     "name": "stdout",
     "output_type": "stream",
     "text": [
      "Dimension of S[2] matrix: (288, 288)\n"
     ]
    }
   ],
   "source": [
    "S2 = np.identity(2 * n)\n",
    "S2[n:,n:] *= -1\n",
    "\n",
    "print('Dimension of S[2] matrix:', S2.shape)"
   ]
  },
  {
   "cell_type": "markdown",
   "id": "d1ee894a-d762-4045-bce3-035ca5a182c6",
   "metadata": {
    "tags": [
     "remove-cell"
    ]
   },
   "source": [
    "#### V[1] gradient\n",
    "We get the $\\mathbf{V}^{\\omega,[1]}$-vector from the `LinearResponseSolver` class object. We assume the perturbation operator to equal minus the electric dipole moment operator along the $x$-axis, i.e., the molecular C$-$C axis."
   ]
  },
  {
   "cell_type": "code",
   "execution_count": 55,
   "id": "138827e3-f1d0-429a-a939-ee3fda260fbf",
   "metadata": {
    "scrolled": true,
    "slideshow": {
     "slide_type": "fragment"
    },
    "tags": [
     "remove-cell"
    ]
   },
   "outputs": [
    {
     "name": "stdout",
     "output_type": "stream",
     "text": [
      "Dimension of V[1] vector: 288\n",
      "Elements for (pi,pi*)-excitation:\n",
      "(upper)   g: -2.005214\n",
      "(lower) -g*:  2.005214\n"
     ]
    }
   ],
   "source": [
    "lrs_drv = vlx.LinearResponseSolver()\n",
    "\n",
    "mu_x = lrs_drv.get_prop_grad('electric dipole', 'x', molecule, basis, scf_drv.scf_tensors)[0]\n",
    "mu_y = lrs_drv.get_prop_grad('electric dipole', 'y', molecule, basis, scf_drv.scf_tensors)[0]\n",
    "mu_z = lrs_drv.get_prop_grad('electric dipole', 'z', molecule, basis, scf_drv.scf_tensors)[0]\n",
    "\n",
    "V1 = -mu_x\n",
    "\n",
    "print('Dimension of V[1] vector:', V1.shape[0])\n",
    "print('Elements for (pi,pi*)-excitation:')\n",
    "print(f'(upper)   g: {V1[idx] : .6f}')\n",
    "print(f'(lower) -g*: {V1[n + idx] : .6f}')"
   ]
  },
  {
   "cell_type": "markdown",
   "id": "2c353b8a-dbcd-47eb-97f7-4bf2cd59426a",
   "metadata": {
    "tags": [
     "remove-cell"
    ]
   },
   "source": [
    "Alternatively, we can in principle determine the elements of the $\\mathbf{V}^{\\omega,[1]}$-vector from explicit calculations using one-electron integrals of the perturbation operator in the MO-basis. The property integrals are available in AO-basis from the `ElectricDipoleIntegralsDriver` class object and we transfer them to the MO-basis with use of the MO-coefficients."
   ]
  },
  {
   "cell_type": "code",
   "execution_count": 56,
   "id": "1562e6d4-ac69-4b4d-87ea-0179899e3728",
   "metadata": {
    "tags": [
     "remove-cell"
    ]
   },
   "outputs": [
    {
     "name": "stdout",
     "output_type": "stream",
     "text": [
      "MO integral < pi | x | pi* >:  1.417900\n"
     ]
    }
   ],
   "source": [
    "dipole_drv = vlx.ElectricDipoleIntegralsDriver()\n",
    "\n",
    "dipole_matrices = dipole_drv.compute(molecule, basis)\n",
    "x_ao = dipole_matrices.x_to_numpy()\n",
    "x_mo = np.matmul(C.T, np.matmul(x_ao, C))\n",
    "\n",
    "print(f'MO integral < pi | x | pi* >: {x_mo[7,8] : .6f}')"
   ]
  },
  {
   "cell_type": "markdown",
   "id": "47d39cb7-9cfc-4454-bb62-3e726eb13f33",
   "metadata": {
    "tags": [
     "remove-cell"
    ]
   },
   "source": [
    "## Electric-dipole polarizability\n",
    "The polarizability is determined from the linear response function according to\n",
    "\n",
    "$$\n",
    "\\alpha_{\\alpha\\beta}(\\omega) = -\n",
    "\\langle \\! \\langle \\hat{\\mu}_\\alpha ; \\hat{\\mu}_\\beta \\rangle \\! \\rangle_\\omega\n",
    "$$\n",
    "\n",
    "Here, $\\hat{\\Omega} = \\hat{\\mu}_\\alpha$ and $\\hat{V}^\\omega = - \\hat{\\mu}_\\beta$ are associated with the observable and perturbation, respectively.\n",
    "\n",
    "This linear response function is determined from the RPA matrix\n",
    "\n",
    "$$\n",
    "\\langle\\!\\langle \\hat{\\mu}; \\hat{V}^\\omega \\rangle\\!\\rangle =\n",
    "-{\\boldsymbol{\\mu}^{[1]}}^\\dagger\n",
    "\\Big(\n",
    "\\mathbf{E}^{[2]} - \\omega \\mathbf{S}^{[2]}\n",
    "\\Big)^{-1}\n",
    "\\mathbf{V}^{\\omega, [1]}\n",
    "$$\n",
    "\n",
    "In typical applications, the matrix dimension is large and instead of explicitly constructing the Hessian matrix, we solve the linear response equation with iterative techniques\n",
    "\n",
    "$$\n",
    "\\mathbf{N}(\\omega) =\n",
    "\\Big(\n",
    "\\mathbf{E}^{[2]} - \\omega \\mathbf{S}^{[2]}\n",
    "\\Big)^{-1}\n",
    "\\mathbf{V}^{\\omega,[1]}\n",
    "$$\n",
    "\n",
    "such that\n",
    "\n",
    "$$\n",
    "\\langle\\!\\langle \\hat{\\mu}; \\hat{V}^\\omega \\rangle\\!\\rangle =\n",
    "-{\\boldsymbol{\\mu}^{[1]}}^\\dagger \\mathbf{N}(\\omega)\n",
    "$$\n",
    "\n",
    "A reduced-space iterative algorithm for solving the linear response funciton is available from the `LinearResponseSolver` class object."
   ]
  },
  {
   "cell_type": "code",
   "execution_count": 57,
   "id": "aa18ce48-1381-4742-8847-620142f1fd3a",
   "metadata": {
    "scrolled": true,
    "tags": [
     "remove-output",
     "remove-cell"
    ]
   },
   "outputs": [
    {
     "name": "stdout",
     "output_type": "stream",
     "text": [
      "                                                                                                                          \n",
      "                                               Linear Response Solver Setup                                               \n",
      "                                              ==============================                                              \n",
      "                                                                                                                          \n",
      "                               Number of Frequencies           : 1                                                        \n",
      "                               Max. Number of Iterations       : 150                                                      \n",
      "                               Convergence Threshold           : 1.0e-04                                                  \n",
      "                               ERI Screening Scheme            : Cauchy Schwarz + Density                                 \n",
      "                               ERI Screening Threshold         : 1.0e-15                                                  \n",
      "                                                                                                                          \n",
      "* Info * Processing Fock builds... (batch size: 3)                                                                        \n",
      "* Info *   batch 1/1                                                                                                      \n",
      "                                                                                                                          \n",
      "* Info * 0 gerade trial vectors in reduced space                                                                          \n",
      "* Info * 3 ungerade trial vectors in reduced space                                                                        \n",
      "                                                                                                                          \n",
      "* Info * 17.15 kB of memory used for subspace procedure on the master node                                                \n",
      "* Info * 6.21 GB of memory available for the solver on the master node                                                    \n",
      "                                                                                                                          \n",
      "               *** Iteration:   1 * Residuals (Max,Min): 7.44e-01 and 1.61e-01                                            \n",
      "                                                                                                                          \n",
      "               <<x;x>>_0.0000 :    -28.27903164 Residual Norm: 0.74411735                                                 \n",
      "               <<y;y>>_0.0000 :    -18.70087893 Residual Norm: 0.30874960                                                 \n",
      "               <<z;z>>_0.0000 :     -7.17596423 Residual Norm: 0.16123892                                                 \n",
      "                                                                                                                          \n",
      "* Info * Processing Fock builds... (batch size: 3)                                                                        \n",
      "* Info *   batch 1/1                                                                                                      \n",
      "                                                                                                                          \n",
      "* Info * 0 gerade trial vectors in reduced space                                                                          \n",
      "* Info * 6 ungerade trial vectors in reduced space                                                                        \n",
      "                                                                                                                          \n",
      "* Info * 24.06 kB of memory used for subspace procedure on the master node                                                \n",
      "* Info * 6.21 GB of memory available for the solver on the master node                                                    \n",
      "                                                                                                                          \n",
      "               *** Iteration:   2 * Residuals (Max,Min): 1.70e-01 and 3.31e-02                                            \n",
      "                                                                                                                          \n",
      "               <<x;x>>_0.0000 :    -32.41967693 Residual Norm: 0.16986354                                                 \n",
      "               <<y;y>>_0.0000 :    -19.26310900 Residual Norm: 0.03593920                                                 \n",
      "               <<z;z>>_0.0000 :     -7.20082535 Residual Norm: 0.03313239                                                 \n",
      "                                                                                                                          \n",
      "* Info * Processing Fock builds... (batch size: 3)                                                                        \n",
      "* Info *   batch 1/1                                                                                                      \n",
      "                                                                                                                          \n",
      "* Info * 0 gerade trial vectors in reduced space                                                                          \n",
      "* Info * 9 ungerade trial vectors in reduced space                                                                        \n",
      "                                                                                                                          \n",
      "* Info * 30.97 kB of memory used for subspace procedure on the master node                                                \n",
      "* Info * 6.21 GB of memory available for the solver on the master node                                                    \n",
      "                                                                                                                          \n",
      "               *** Iteration:   3 * Residuals (Max,Min): 4.31e-02 and 5.33e-03                                            \n",
      "                                                                                                                          \n",
      "               <<x;x>>_0.0000 :    -32.95690850 Residual Norm: 0.04312012                                                 \n",
      "               <<y;y>>_0.0000 :    -19.26807042 Residual Norm: 0.00582253                                                 \n",
      "               <<z;z>>_0.0000 :     -7.20135309 Residual Norm: 0.00532886                                                 \n",
      "                                                                                                                          \n",
      "* Info * Processing Fock builds... (batch size: 3)                                                                        \n",
      "* Info *   batch 1/1                                                                                                      \n",
      "                                                                                                                          \n",
      "* Info * 0 gerade trial vectors in reduced space                                                                          \n",
      "* Info * 12 ungerade trial vectors in reduced space                                                                       \n",
      "                                                                                                                          \n",
      "* Info * 37.89 kB of memory used for subspace procedure on the master node                                                \n",
      "* Info * 6.21 GB of memory available for the solver on the master node                                                    \n",
      "                                                                                                                          \n",
      "               *** Iteration:   4 * Residuals (Max,Min): 8.34e-03 and 3.73e-04                                            \n",
      "                                                                                                                          \n",
      "               <<x;x>>_0.0000 :    -32.98535583 Residual Norm: 0.00834114                                                 \n",
      "               <<y;y>>_0.0000 :    -19.26812111 Residual Norm: 0.00072656                                                 \n",
      "               <<z;z>>_0.0000 :     -7.20136535 Residual Norm: 0.00037298                                                 \n",
      "                                                                                                                          \n",
      "* Info * Processing Fock builds... (batch size: 3)                                                                        \n",
      "* Info *   batch 1/1                                                                                                      \n",
      "                                                                                                                          \n",
      "* Info * 0 gerade trial vectors in reduced space                                                                          \n",
      "* Info * 15 ungerade trial vectors in reduced space                                                                       \n",
      "                                                                                                                          \n",
      "* Info * 44.99 kB of memory used for subspace procedure on the master node                                                \n",
      "* Info * 6.21 GB of memory available for the solver on the master node                                                    \n",
      "                                                                                                                          \n",
      "               *** Iteration:   5 * Residuals (Max,Min): 1.30e-03 and 4.86e-05                                            \n",
      "                                                                                                                          \n",
      "               <<x;x>>_0.0000 :    -32.98592441 Residual Norm: 0.00129893                                                 \n",
      "               <<y;y>>_0.0000 :    -19.26812213 Residual Norm: 0.00005077                                                 \n",
      "               <<z;z>>_0.0000 :     -7.20136549 Residual Norm: 0.00004855                                                 \n",
      "                                                                                                                          \n",
      "* Info * Processing Fock builds... (batch size: 1)                                                                        \n",
      "* Info *   batch 1/1                                                                                                      \n",
      "                                                                                                                          \n",
      "* Info * 0 gerade trial vectors in reduced space                                                                          \n",
      "* Info * 16 ungerade trial vectors in reduced space                                                                       \n",
      "                                                                                                                          \n",
      "* Info * 47.10 kB of memory used for subspace procedure on the master node                                                \n",
      "* Info * 6.21 GB of memory available for the solver on the master node                                                    \n",
      "                                                                                                                          \n",
      "               *** Iteration:   6 * Residuals (Max,Min): 9.86e-05 and 4.86e-05                                            \n",
      "                                                                                                                          \n",
      "               <<x;x>>_0.0000 :    -32.98592861 Residual Norm: 0.00009855                                                 \n",
      "                                                                                                                          \n",
      "               *** Linear response converged in 6 iterations. Time: 0.31 sec                                              \n",
      "                                                                                                                          \n",
      "                                                                                                                          \n"
     ]
    }
   ],
   "source": [
    "lrs_drv = vlx.LinearResponseSolver()\n",
    "lrs_out = lrs_drv.compute(molecule, basis, scf_drv.scf_tensors)"
   ]
  },
  {
   "cell_type": "markdown",
   "id": "1da20f6e-c8ff-48dc-8e5f-369b7e782412",
   "metadata": {
    "tags": [
     "remove-cell"
    ]
   },
   "source": [
    "The return result `lrs_out` is a dictonary with the values of the response functions provided from the key `response_functions`."
   ]
  },
  {
   "cell_type": "code",
   "execution_count": 58,
   "id": "cce36dbb-441d-4687-85e5-1cd09d9104c2",
   "metadata": {
    "tags": [
     "remove-cell"
    ]
   },
   "outputs": [
    {
     "data": {
      "text/plain": [
       "dict_keys(['response_functions', 'solutions'])"
      ]
     },
     "execution_count": 58,
     "metadata": {},
     "output_type": "execute_result"
    }
   ],
   "source": [
    "lrs_out.keys()"
   ]
  },
  {
   "cell_type": "code",
   "execution_count": 59,
   "id": "0d7bb582-1b04-4467-b1bb-cd7732e5d493",
   "metadata": {
    "tags": [
     "remove-cell"
    ]
   },
   "outputs": [
    {
     "name": "stdout",
     "output_type": "stream",
     "text": [
      "alpha_xx(0):  32.985929\n",
      "alpha_yy(0):  19.268122\n",
      "alpha_zz(0):  7.201365\n"
     ]
    }
   ],
   "source": [
    "alpha_xx = -lrs_out['response_functions'][('x', 'x', 0)]\n",
    "alpha_yy = -lrs_out['response_functions'][('y', 'y', 0)] \n",
    "alpha_zz = -lrs_out['response_functions'][('z', 'z', 0)]\n",
    "\n",
    "print(f\"alpha_xx(0): {alpha_xx : .6f}\")\n",
    "print(f\"alpha_yy(0): {alpha_yy : .6f}\")\n",
    "print(f\"alpha_zz(0): {alpha_zz : .6f}\")"
   ]
  },
  {
   "cell_type": "markdown",
   "id": "1766bf6d-8419-408f-b53a-552adf74dafa",
   "metadata": {
    "tags": [
     "remove-cell"
    ]
   },
   "source": [
    "The solution vectors (or *response vectors*) are available from the key `solutions`, so that we can also determine the the linear response function values from the multiplication of response vectors with property gradients."
   ]
  },
  {
   "cell_type": "code",
   "execution_count": 60,
   "id": "37681018-cf5a-42bd-9803-e75849d202e3",
   "metadata": {
    "tags": [
     "remove-cell"
    ]
   },
   "outputs": [
    {
     "name": "stdout",
     "output_type": "stream",
     "text": [
      "alpha_xx(0):  32.985929\n",
      "alpha_yy(0):  19.268122\n",
      "alpha_zz(0):  7.201365\n"
     ]
    }
   ],
   "source": [
    "Nx = lrs_out['solutions'][('x', 0)]\n",
    "Ny = lrs_out['solutions'][('y', 0)]\n",
    "Nz = lrs_out['solutions'][('z', 0)]\n",
    "\n",
    "print(f\"alpha_xx(0): {np.dot(mu_x, Nx) : .6f}\")\n",
    "print(f\"alpha_yy(0): {np.dot(mu_y, Ny) : .6f}\")\n",
    "print(f\"alpha_zz(0): {np.dot(mu_z, Nz) : .6f}\")"
   ]
  },
  {
   "cell_type": "markdown",
   "id": "4be778c5-dd1b-4fb9-be7e-e22876765c68",
   "metadata": {
    "tags": [
     "remove-cell"
    ]
   },
   "source": [
    "In this example, the `LinearResponseSolver` was using its default settings for operators and frequencies, both of which can be changed. We change the value of the optical frequency from the default zero to 0.0656 a.u. with use of the dictionary `rsp_settings`."
   ]
  },
  {
   "cell_type": "code",
   "execution_count": 61,
   "id": "4842add6-f064-4287-a451-6cb01e2e7bbb",
   "metadata": {
    "tags": [
     "remove-output",
     "remove-cell"
    ]
   },
   "outputs": [
    {
     "name": "stdout",
     "output_type": "stream",
     "text": [
      "                                                                                                                          \n",
      "                                               Linear Response Solver Setup                                               \n",
      "                                              ==============================                                              \n",
      "                                                                                                                          \n",
      "                               Number of Frequencies           : 1                                                        \n",
      "                               Max. Number of Iterations       : 150                                                      \n",
      "                               Convergence Threshold           : 1.0e-04                                                  \n",
      "                               ERI Screening Scheme            : Cauchy Schwarz + Density                                 \n",
      "                               ERI Screening Threshold         : 1.0e-15                                                  \n",
      "                                                                                                                          \n",
      "* Info * Processing Fock builds... (batch size: 6)                                                                        \n",
      "* Info *   batch 1/1                                                                                                      \n",
      "                                                                                                                          \n",
      "* Info * 3 gerade trial vectors in reduced space                                                                          \n",
      "* Info * 3 ungerade trial vectors in reduced space                                                                        \n",
      "                                                                                                                          \n",
      "* Info * 24.11 kB of memory used for subspace procedure on the master node                                                \n",
      "* Info * 6.19 GB of memory available for the solver on the master node                                                    \n",
      "                                                                                                                          \n",
      "               *** Iteration:   1 * Residuals (Max,Min): 7.29e-01 and 1.61e-01                                            \n",
      "                                                                                                                          \n",
      "               <<x;x>>_0.0656 :    -28.90809010 Residual Norm: 0.72909378                                                 \n",
      "               <<y;y>>_0.0656 :    -18.90028206 Residual Norm: 0.30812663                                                 \n",
      "               <<z;z>>_0.0656 :     -7.21864514 Residual Norm: 0.16109611                                                 \n",
      "                                                                                                                          \n",
      "* Info * Processing Fock builds... (batch size: 6)                                                                        \n",
      "* Info *   batch 1/1                                                                                                      \n",
      "                                                                                                                          \n",
      "* Info * 6 gerade trial vectors in reduced space                                                                          \n",
      "* Info * 6 ungerade trial vectors in reduced space                                                                        \n",
      "                                                                                                                          \n",
      "* Info * 37.93 kB of memory used for subspace procedure on the master node                                                \n",
      "* Info * 6.18 GB of memory available for the solver on the master node                                                    \n",
      "                                                                                                                          \n",
      "               *** Iteration:   2 * Residuals (Max,Min): 1.72e-01 and 3.38e-02                                            \n",
      "                                                                                                                          \n",
      "               <<x;x>>_0.0656 :    -33.34208303 Residual Norm: 0.17151693                                                 \n",
      "               <<y;y>>_0.0656 :    -19.48584735 Residual Norm: 0.03653566                                                 \n",
      "               <<z;z>>_0.0656 :     -7.24416983 Residual Norm: 0.03380469                                                 \n",
      "                                                                                                                          \n",
      "* Info * Processing Fock builds... (batch size: 6)                                                                        \n",
      "* Info *   batch 1/1                                                                                                      \n",
      "                                                                                                                          \n",
      "* Info * 9 gerade trial vectors in reduced space                                                                          \n",
      "* Info * 9 ungerade trial vectors in reduced space                                                                        \n",
      "                                                                                                                          \n",
      "* Info * 51.76 kB of memory used for subspace procedure on the master node                                                \n",
      "* Info * 6.17 GB of memory available for the solver on the master node                                                    \n",
      "                                                                                                                          \n",
      "               *** Iteration:   3 * Residuals (Max,Min): 4.56e-02 and 5.91e-03                                            \n",
      "                                                                                                                          \n",
      "               <<x;x>>_0.0656 :    -33.98163212 Residual Norm: 0.04558834                                                 \n",
      "               <<y;y>>_0.0656 :    -19.49128672 Residual Norm: 0.00590678                                                 \n",
      "               <<z;z>>_0.0656 :     -7.24480022 Residual Norm: 0.00607952                                                 \n",
      "                                                                                                                          \n",
      "* Info * Processing Fock builds... (batch size: 6)                                                                        \n",
      "* Info *   batch 1/1                                                                                                      \n",
      "                                                                                                                          \n",
      "* Info * 12 gerade trial vectors in reduced space                                                                         \n",
      "* Info * 12 ungerade trial vectors in reduced space                                                                       \n",
      "                                                                                                                          \n",
      "* Info * 65.58 kB of memory used for subspace procedure on the master node                                                \n",
      "* Info * 6.17 GB of memory available for the solver on the master node                                                    \n",
      "                                                                                                                          \n",
      "               *** Iteration:   4 * Residuals (Max,Min): 8.78e-03 and 4.89e-04                                            \n",
      "                                                                                                                          \n",
      "               <<x;x>>_0.0656 :    -34.01824630 Residual Norm: 0.00877993                                                 \n",
      "               <<y;y>>_0.0656 :    -19.49134363 Residual Norm: 0.00076089                                                 \n",
      "               <<z;z>>_0.0656 :     -7.24481702 Residual Norm: 0.00048936                                                 \n",
      "                                                                                                                          \n",
      "* Info * Processing Fock builds... (batch size: 6)                                                                        \n",
      "* Info *   batch 1/1                                                                                                      \n",
      "                                                                                                                          \n",
      "* Info * 15 gerade trial vectors in reduced space                                                                         \n",
      "* Info * 15 ungerade trial vectors in reduced space                                                                       \n",
      "                                                                                                                          \n",
      "* Info * 79.57 kB of memory used for subspace procedure on the master node                                                \n",
      "* Info * 6.17 GB of memory available for the solver on the master node                                                    \n",
      "                                                                                                                          \n",
      "               *** Iteration:   5 * Residuals (Max,Min): 1.35e-03 and 5.72e-05                                            \n",
      "                                                                                                                          \n",
      "               <<x;x>>_0.0656 :    -34.01898105 Residual Norm: 0.00134990                                                 \n",
      "               <<y;y>>_0.0656 :    -19.49134482 Residual Norm: 0.00006027                                                 \n",
      "               <<z;z>>_0.0656 :     -7.24481725 Residual Norm: 0.00005715                                                 \n",
      "                                                                                                                          \n",
      "* Info * Processing Fock builds... (batch size: 2)                                                                        \n",
      "* Info *   batch 1/1                                                                                                      \n",
      "                                                                                                                          \n",
      "* Info * 16 gerade trial vectors in reduced space                                                                         \n",
      "* Info * 16 ungerade trial vectors in reduced space                                                                       \n",
      "                                                                                                                          \n",
      "* Info * 84.18 kB of memory used for subspace procedure on the master node                                                \n",
      "* Info * 6.17 GB of memory available for the solver on the master node                                                    \n",
      "                                                                                                                          \n",
      "               *** Iteration:   6 * Residuals (Max,Min): 1.06e-04 and 5.72e-05                                            \n",
      "                                                                                                                          \n",
      "               <<x;x>>_0.0656 :    -34.01898635 Residual Norm: 0.00010574                                                 \n",
      "                                                                                                                          \n",
      "* Info * Processing Fock builds... (batch size: 2)                                                                        \n",
      "* Info *   batch 1/1                                                                                                      \n",
      "                                                                                                                          \n",
      "* Info * 17 gerade trial vectors in reduced space                                                                         \n",
      "* Info * 17 ungerade trial vectors in reduced space                                                                       \n",
      "                                                                                                                          \n",
      "* Info * 88.62 kB of memory used for subspace procedure on the master node                                                \n",
      "* Info * 6.17 GB of memory available for the solver on the master node                                                    \n",
      "                                                                                                                          \n",
      "               *** Iteration:   7 * Residuals (Max,Min): 6.03e-05 and 8.72e-06                                            \n",
      "                                                                                                                          \n",
      "               <<x;x>>_0.0656 :    -34.01898643 Residual Norm: 0.00000872                                                 \n",
      "                                                                                                                          \n",
      "               *** Linear response converged in 7 iterations. Time: 0.42 sec                                              \n",
      "                                                                                                                          \n",
      "                                                                                                                          \n",
      "alpha_xx(w=0.0656):  34.018986\n",
      "alpha_yy(w=0.0656):  19.491345\n",
      "alpha_zz(w=0.0656):  7.244817\n"
     ]
    }
   ],
   "source": [
    "lrs_drv = vlx.LinearResponseSolver()\n",
    "rsp_settings = {'frequencies': [0.0656]}\n",
    "method_settings = {} # Hartree-Fock is default\n",
    "lrs_drv.update_settings(rsp_settings, method_settings)\n",
    "\n",
    "lrs_out = lrs_drv.compute(molecule, basis, scf_drv.scf_tensors)\n",
    "\n",
    "alpha_xx = -lrs_out['response_functions'][('x', 'x', 0.0656)]\n",
    "alpha_yy = -lrs_out['response_functions'][('y', 'y', 0.0656)] \n",
    "alpha_zz = -lrs_out['response_functions'][('z', 'z', 0.0656)]\n",
    "\n",
    "print(f\"alpha_xx(w=0.0656): {alpha_xx : .6f}\")\n",
    "print(f\"alpha_yy(w=0.0656): {alpha_yy : .6f}\")\n",
    "print(f\"alpha_zz(w=0.0656): {alpha_zz : .6f}\")"
   ]
  },
  {
   "cell_type": "markdown",
   "id": "bfd4fc14-d739-4d8d-a1ba-456a40b3f374",
   "metadata": {},
   "source": [
    "Alternatively, in our small example the matrices in the RPA equation ($\\mathbf{E}^{[2]}$ and $\\mathbf{S}^{[2]}$) have been formed explicitly and we can thus determine values of linear response functions by straightforward matrix inverse and multiplication."
   ]
  },
  {
   "cell_type": "code",
   "execution_count": 62,
   "id": "82916554-b729-4ce1-858a-e11da05158f5",
   "metadata": {
    "tags": [
     "remove-cell"
    ]
   },
   "outputs": [
    {
     "name": "stdout",
     "output_type": "stream",
     "text": [
      "alpha_xx(w=0.0656):  34.018986\n",
      "alpha_yy(w=0.0656):  19.491345\n",
      "alpha_zz(w=0.0656):  7.244817\n"
     ]
    }
   ],
   "source": [
    "omega = 0.0656\n",
    "alpha_xx = np.dot(mu_x, np.matmul(np.linalg.inv(E2 - omega * S2), mu_x))\n",
    "alpha_yy = np.dot(mu_y, np.matmul(np.linalg.inv(E2 - omega * S2), mu_y))\n",
    "alpha_zz = np.dot(mu_z, np.matmul(np.linalg.inv(E2 - omega * S2), mu_z))\n",
    "\n",
    "print(f\"alpha_xx(w=0.0656): {alpha_xx : .6f}\")\n",
    "print(f\"alpha_yy(w=0.0656): {alpha_yy : .6f}\")\n",
    "print(f\"alpha_zz(w=0.0656): {alpha_zz : .6f}\")"
   ]
  },
  {
   "cell_type": "markdown",
   "id": "e3975bb6-5e88-4e09-9953-73ab10cee0be",
   "metadata": {
    "tags": [
     "remove-cell"
    ]
   },
   "source": [
    "## UV/vis spectrum\n",
    "From linear response theory, we can also obtain excitation energies and transition moments. An iterative reduced-spece solution of the generalized eigenvalue equation is provided by the `LinearResponseEigenSolver` class object."
   ]
  },
  {
   "cell_type": "code",
   "execution_count": 63,
   "id": "4f077f0f-e312-4ebf-9dea-c523b79e80e6",
   "metadata": {
    "tags": [
     "remove-output",
     "remove-cell"
    ]
   },
   "outputs": [
    {
     "name": "stdout",
     "output_type": "stream",
     "text": [
      "                                                                                                                          \n",
      "                                                                                                                          \n",
      "                                            Linear Response EigenSolver Setup                                             \n",
      "                                           ===================================                                            \n",
      "                                                                                                                          \n",
      "                               Number of States                : 1                                                        \n",
      "                               Max. Number of Iterations       : 150                                                      \n",
      "                               Convergence Threshold           : 1.0e-04                                                  \n",
      "                               ERI Screening Scheme            : Cauchy Schwarz + Density                                 \n",
      "                               ERI Screening Threshold         : 1.0e-15                                                  \n",
      "                                                                                                                          \n",
      "* Info * Processing Fock builds... (batch size: 2)                                                                        \n",
      "* Info *   batch 1/1                                                                                                      \n",
      "                                                                                                                          \n",
      "* Info * 1 gerade trial vectors in reduced space                                                                          \n",
      "* Info * 1 ungerade trial vectors in reduced space                                                                        \n",
      "                                                                                                                          \n",
      "* Info * 7.40 kB of memory used for subspace procedure on the master node                                                 \n",
      "* Info * 6.21 GB of memory available for the solver on the master node                                                    \n",
      "                                                                                                                          \n",
      "               *** Iteration:   1 * Residuals (Max,Min): 5.37e-01 and 5.37e-01                                            \n",
      "                                                                                                                          \n",
      "               Excitation 1   :      0.34325722 Residual Norm: 0.53728671                                                 \n",
      "                                                                                                                          \n",
      "* Info * Processing Fock builds... (batch size: 2)                                                                        \n",
      "* Info *   batch 1/1                                                                                                      \n",
      "                                                                                                                          \n",
      "* Info * 2 gerade trial vectors in reduced space                                                                          \n",
      "* Info * 2 ungerade trial vectors in reduced space                                                                        \n",
      "                                                                                                                          \n",
      "* Info * 12.01 kB of memory used for subspace procedure on the master node                                                \n",
      "* Info * 6.21 GB of memory available for the solver on the master node                                                    \n",
      "                                                                                                                          \n",
      "               *** Iteration:   2 * Residuals (Max,Min): 1.07e-01 and 1.07e-01                                            \n",
      "                                                                                                                          \n",
      "               Excitation 1   :      0.29472381 Residual Norm: 0.10677744                                                 \n",
      "                                                                                                                          \n",
      "* Info * Processing Fock builds... (batch size: 2)                                                                        \n",
      "* Info *   batch 1/1                                                                                                      \n",
      "                                                                                                                          \n",
      "* Info * 3 gerade trial vectors in reduced space                                                                          \n",
      "* Info * 3 ungerade trial vectors in reduced space                                                                        \n",
      "                                                                                                                          \n",
      "* Info * 16.62 kB of memory used for subspace procedure on the master node                                                \n",
      "* Info * 6.21 GB of memory available for the solver on the master node                                                    \n",
      "                                                                                                                          \n",
      "               *** Iteration:   3 * Residuals (Max,Min): 2.02e-02 and 2.02e-02                                            \n",
      "                                                                                                                          \n",
      "               Excitation 1   :      0.29161381 Residual Norm: 0.02023871                                                 \n",
      "                                                                                                                          \n",
      "* Info * Processing Fock builds... (batch size: 2)                                                                        \n",
      "* Info *   batch 1/1                                                                                                      \n",
      "                                                                                                                          \n",
      "* Info * 4 gerade trial vectors in reduced space                                                                          \n",
      "* Info * 4 ungerade trial vectors in reduced space                                                                        \n",
      "                                                                                                                          \n",
      "* Info * 21.22 kB of memory used for subspace procedure on the master node                                                \n",
      "* Info * 6.21 GB of memory available for the solver on the master node                                                    \n",
      "                                                                                                                          \n",
      "               *** Iteration:   4 * Residuals (Max,Min): 2.55e-03 and 2.55e-03                                            \n",
      "                                                                                                                          \n",
      "               Excitation 1   :      0.29153487 Residual Norm: 0.00254911                                                 \n",
      "                                                                                                                          \n",
      "* Info * Processing Fock builds... (batch size: 2)                                                                        \n",
      "* Info *   batch 1/1                                                                                                      \n",
      "                                                                                                                          \n",
      "* Info * 5 gerade trial vectors in reduced space                                                                          \n",
      "* Info * 5 ungerade trial vectors in reduced space                                                                        \n",
      "                                                                                                                          \n",
      "* Info * 25.83 kB of memory used for subspace procedure on the master node                                                \n",
      "* Info * 6.21 GB of memory available for the solver on the master node                                                    \n",
      "                                                                                                                          \n",
      "               *** Iteration:   5 * Residuals (Max,Min): 6.61e-04 and 6.61e-04                                            \n",
      "                                                                                                                          \n",
      "               Excitation 1   :      0.29153361 Residual Norm: 0.00066120                                                 \n",
      "                                                                                                                          \n",
      "* Info * Processing Fock builds... (batch size: 2)                                                                        \n",
      "* Info *   batch 1/1                                                                                                      \n",
      "                                                                                                                          \n",
      "* Info * 6 gerade trial vectors in reduced space                                                                          \n",
      "* Info * 6 ungerade trial vectors in reduced space                                                                        \n",
      "                                                                                                                          \n",
      "* Info * 30.44 kB of memory used for subspace procedure on the master node                                                \n",
      "* Info * 6.20 GB of memory available for the solver on the master node                                                    \n",
      "                                                                                                                          \n",
      "               *** Iteration:   6 * Residuals (Max,Min): 1.26e-04 and 1.26e-04                                            \n",
      "                                                                                                                          \n",
      "               Excitation 1   :      0.29153357 Residual Norm: 0.00012641                                                 \n",
      "                                                                                                                          \n",
      "* Info * Processing Fock builds... (batch size: 2)                                                                        \n",
      "* Info *   batch 1/1                                                                                                      \n",
      "                                                                                                                          \n",
      "* Info * 7 gerade trial vectors in reduced space                                                                          \n",
      "* Info * 7 ungerade trial vectors in reduced space                                                                        \n",
      "                                                                                                                          \n",
      "* Info * 35.05 kB of memory used for subspace procedure on the master node                                                \n",
      "* Info * 6.20 GB of memory available for the solver on the master node                                                    \n",
      "                                                                                                                          \n",
      "               *** Iteration:   7 * Residuals (Max,Min): 2.14e-05 and 2.14e-05                                            \n",
      "                                                                                                                          \n",
      "               Excitation 1   :      0.29153356 Residual Norm: 0.00002137   converged                                     \n",
      "                                                                                                                          \n",
      "               *** Linear response converged in 7 iterations. Time: 0.32 sec                                              \n",
      "                                                                                                                          \n",
      "                                                                                                                          \n"
     ]
    }
   ],
   "source": [
    "lres_drv = vlx.LinearResponseEigenSolver()\n",
    "rsp_settings = {'nstates': 1} # the (pi,pi*)-transition\n",
    "lres_drv.update_settings(rsp_settings, method_settings)\n",
    "\n",
    "lres_out = lres_drv.compute(molecule, basis, scf_drv.scf_tensors)"
   ]
  },
  {
   "cell_type": "code",
   "execution_count": 64,
   "id": "4bdf16b0-9161-4b14-bb43-44caae488644",
   "metadata": {
    "tags": [
     "remove-cell"
    ]
   },
   "outputs": [
    {
     "data": {
      "text/plain": [
       "dict_keys(['eigenvalues', 'eigenvectors', 'electric_transition_dipoles', 'velocity_transition_dipoles', 'magnetic_transition_dipoles', 'oscillator_strengths', 'rotatory_strengths'])"
      ]
     },
     "execution_count": 64,
     "metadata": {},
     "output_type": "execute_result"
    }
   ],
   "source": [
    "lres_out.keys()"
   ]
  },
  {
   "cell_type": "code",
   "execution_count": 65,
   "id": "26066e5f-8836-4953-9570-96ad9e0c7e0c",
   "metadata": {
    "tags": [
     "remove-cell"
    ]
   },
   "outputs": [
    {
     "name": "stdout",
     "output_type": "stream",
     "text": [
      "Excitation energy (a.u.): [0.291534]\n",
      "Transition moments (a.u.): [-1.531492  0.       -0.      ]\n",
      "Oscillator strength: [0.455855]\n"
     ]
    }
   ],
   "source": [
    "np.set_printoptions(precision = 6, suppress = True)\n",
    "print('Excitation energy (a.u.):', lres_out['eigenvalues'])\n",
    "print('Transition moments (a.u.):', lres_out['electric_transition_dipoles'][0])\n",
    "print('Oscillator strength:', lres_out['oscillator_strengths'])"
   ]
  },
  {
   "cell_type": "markdown",
   "id": "5672839a-374b-4fac-aba5-f5cf066b55c7",
   "metadata": {
    "slideshow": {
     "slide_type": "slide"
    },
    "tags": [
     "remove-cell"
    ]
   },
   "source": [
    "### Generalized eigenvalue equation\n",
    "We denote by $\\mathbf{X}_e$ the eigenvectors of the generalized eigenvalue equation\n",
    "\n",
    "\\begin{equation*}\n",
    "  \\mathbf{E}^{[2]} \\mathbf{X}_e = \\lambda_e \\mathbf{S}^{[2]} \\mathbf{X}_e, \\quad e = -n,\\ldots,-1,1,\\ldots,n ,\n",
    "\\end{equation*}\n",
    " \n",
    "where the matrix dimension is $2n$. We find the set of eigenvalues and eigenvectors by diagonalizing the non-Hermitian matrix $\\left(\\mathbf{S}^{[2]}\\right)^{-1} \\mathbf{E}^{[2]}$ according to\n",
    "\n",
    "\\begin{equation*}\n",
    "\\label{gen-eig}\n",
    "  \\mathbf{X}^{-1} \\left[ \\left(\\mathbf{S}^{[2]}\\right)^{-1} \\mathbf{E}^{[2]} \\right] \\mathbf{X} = \n",
    "  \\begin{bmatrix}\n",
    "    \\rule[-5pt]{0pt}{15pt}\n",
    "    \\rule{9pt}{0pt}\n",
    "    \\boldsymbol{\\lambda} & \\rule{3pt}{0pt} \\mathbf{0} \\rule{3pt}{0pt} \\\\\n",
    "    \\rule{3pt}{0pt}\n",
    "    \\mathbf{0} & -\\boldsymbol{\\lambda} \\rule{3pt}{0pt} \\\\\n",
    "  \\end{bmatrix} ,\n",
    "\\end{equation*}\n",
    "\n",
    "where $\\boldsymbol{\\lambda}$ is a diagonal matrix of dimension $n$ collecting the eigenvalues with positive index and the columns of $\\mathbf{X}$ store the eigenvectors ($\\mathbf{X}$ is assumed to be nonsingular). This pairing of eigenvalues has its correspondence in the eigenvectors through\n",
    "\n",
    "\\begin{equation*}\n",
    "  \\mathbf{X}_e =\n",
    "  \\begin{pmatrix}\n",
    "    \\rule[-5pt]{0pt}{15pt}\n",
    "    \\mathbf{Z}_e \\\\\n",
    "    \\rule[-5pt]{0pt}{0pt}\n",
    "    \\mathbf{Y}_e^* \\\\\n",
    "  \\end{pmatrix}\n",
    "\\; \\mbox{with eigenvalue}\\; \\lambda_e\n",
    "; \\qquad\n",
    "  \\mathbf{X}_{-e} =\n",
    "  \\begin{pmatrix}\n",
    "    \\rule[-5pt]{0pt}{15pt}\n",
    "    \\mathbf{Y}_{e} \\\\\n",
    "    \\rule[-5pt]{0pt}{0pt}\n",
    "    \\mathbf{Z}_{e}^* \\\\\n",
    "  \\end{pmatrix} \n",
    "\\; \\mbox{with eigenvalue}\\; -\\!\\lambda_e .\n",
    "\\end{equation*}\n",
    "\n",
    "The matrix $\\mathbf{X}$ will therefore have the structure\n",
    "\n",
    "\\begin{equation*}\n",
    "\\label{X-struct}\n",
    "  \\mathbf{X} = \n",
    "  \\begin{bmatrix}\n",
    "    \\rule[-5pt]{0pt}{15pt}\n",
    "    \\rule{3pt}{0pt}\n",
    "    \\mathbf{Z} & \\rule{3pt}{0pt} \\mathbf{Y} \\rule{3pt}{0pt} \\\\\n",
    "    \\rule{8pt}{0pt}\n",
    "    \\mathbf{Y}^* & \\rule{3pt}{0pt} \\mathbf{Z}^* \\rule{3pt}{0pt} \\\\\n",
    "  \\end{bmatrix} .\n",
    "\\end{equation*}\n",
    "\n",
    "With an appropriate scaling of the eigenvectors $\\mathbf{X}_e$, the non-unitary matrix $\\mathbf{X}$ achieves a simultaneous diagonalization of the two non-commuting matrices $\\mathbf{E}^{[2]}$ and $\\mathbf{S}^{[2]}$ as\n",
    "\n",
    "\\begin{equation*}\n",
    "\\label{sim-diag}\n",
    "  \\mathbf{X}^\\dagger \\mathbf{E}^{[2]} \\mathbf{X} = \n",
    "  \\begin{bmatrix}\n",
    "    \\rule[-5pt]{0pt}{15pt}\n",
    "    \\rule{9pt}{0pt}\n",
    "    \\boldsymbol{\\lambda} & \\rule{3pt}{0pt} \\mathbf{0} \\rule{3pt}{0pt} \\\\\n",
    "    \\rule{3pt}{0pt}\n",
    "    \\mathbf{0} & \\boldsymbol{\\lambda} \\rule{3pt}{0pt} \\\\\n",
    "  \\end{bmatrix} ; \\qquad\n",
    "  \\mathbf{X}^\\dagger \\mathbf{S}^{[2]} \\mathbf{X} =\n",
    "  \\begin{bmatrix}\n",
    "    \\rule[-5pt]{0pt}{15pt}\n",
    "    \\rule{8pt}{0pt}\n",
    "    \\mathbf{1} & \\rule{5pt}{0pt} \\mathbf{0} \\rule{3pt}{0pt} \\\\\n",
    "    \\rule{5pt}{0pt}\n",
    "    \\mathbf{0} & -\\mathbf{1} \\rule{3pt}{0pt} \\\\\n",
    "  \\end{bmatrix} .\n",
    "\\end{equation*}\n",
    "\n",
    "For each pair of eigenvectors, the second equation involving the metric of the generalized eigenvalue equation defines which of the two that should be indexed with a positive index. We also emphasize that $\\mathbf{X}^\\dagger \\neq \\mathbf{X}^{-1}$ and for this reason the $\\mathbf{X}_e$'s are eigenvectors neither of $\\mathbf{E}^{[2]}$ nor of $\\mathbf{S}^{[2]}$, just as the $\\lambda_e$'s are not the eigenvalues of $\\mathbf{E}^{[2]}$.\n",
    "\n",
    "#### Excitation energies"
   ]
  },
  {
   "cell_type": "code",
   "execution_count": 66,
   "id": "be76b5a1-ed88-4b17-8efe-c3451f712a62",
   "metadata": {
    "slideshow": {
     "slide_type": "subslide"
    },
    "tags": [
     "remove-cell"
    ]
   },
   "outputs": [
    {
     "name": "stdout",
     "output_type": "stream",
     "text": [
      "Excitation energy (a.u.):  0.291534\n"
     ]
    }
   ],
   "source": [
    "eigs, X = np.linalg.eig(np.matmul(np.linalg.inv(S2), E2))\n",
    "\n",
    "# find the index position of the smallest positive eigenvalue\n",
    "# corresponding to the (pi,pi*)-transition\n",
    "idx = np.argmin(np.where(eigs>0, eigs, 999))\n",
    "\n",
    "print(f'Excitation energy (a.u.): {eigs[idx] : .6f}')"
   ]
  },
  {
   "cell_type": "markdown",
   "id": "d6913046-3878-4004-a121-9ed3ccfb5b8b",
   "metadata": {
    "slideshow": {
     "slide_type": "slide"
    },
    "tags": [
     "remove-cell"
    ]
   },
   "source": [
    "#### Transition moments\n",
    "Since $(\\boldsymbol{\\Omega \\Lambda})^{-1} = \\boldsymbol{\\Lambda}^{-1} \\boldsymbol{\\Omega}^{-1}$, we can form the inverse of the RPA matrix as\n",
    "\n",
    "$$\n",
    "  \\left( \\mathbf{E}^{[2]} - \\omega \\mathbf{S}^{[2]} \\right)^{-1} =\n",
    "  \\mathbf{X} \\left[ \\mathbf{X}^\\dagger \\left( \\mathbf{E}^{[2]} - \\omega \\mathbf{S}^{[2]} \\right) \\mathbf{X} \\right]^{-1} \\mathbf{X}^\\dagger\n",
    "$$\n",
    "\n",
    "which yields an expression for the linear response function that reads\n",
    "\n",
    "\\begin{eqnarray*}\n",
    "\\label{lrf-resolved}\n",
    "  \\langle \\!\n",
    "  \\langle\n",
    "  \\hat{\\Omega}; \\hat{V}\n",
    "  \\rangle \\!\n",
    "  \\rangle & = &\n",
    "  -\n",
    "  \\left[\\boldsymbol{\\Omega}^{[1]}\\right]^\\dagger \n",
    "  \\sum_{e=1}^n\n",
    "  \\left(\n",
    "  \\frac{\n",
    "    \\mathbf{X}_e\n",
    "    \\mathbf{X}^\\dagger_e\n",
    "    }{\n",
    "    \\lambda_e - \\hbar \\omega\n",
    "    }\n",
    "  +\n",
    "  \\frac{\n",
    "    \\mathbf{X}_e\n",
    "    \\mathbf{X}^\\dagger_e \n",
    "    }{\n",
    "    \\lambda_e + \\hbar \\omega\n",
    "    }\n",
    "  \\right) \\mathbf{V}^{\\omega,[1]} \n",
    "\\end{eqnarray*}\n",
    "\n",
    "This equation suggests that we identify the $\\lambda$-eigenvalues as excitation energies of the system and transition moments in the SCF approximation are identified as\n",
    "\n",
    "\\begin{equation*}\n",
    "\\label{tranmom}\n",
    "    \\langle f | \\hat{V} | 0 \\rangle =\n",
    "    \\mathbf{X}^\\dagger_f \\mathbf{V}^{\\omega,[1]}\n",
    "\\end{equation*}"
   ]
  },
  {
   "cell_type": "code",
   "execution_count": 67,
   "id": "03f6b50f-82de-4ba9-8eba-84a5f58e1b4e",
   "metadata": {
    "slideshow": {
     "slide_type": "fragment"
    },
    "tags": [
     "remove-cell"
    ]
   },
   "outputs": [
    {
     "name": "stdout",
     "output_type": "stream",
     "text": [
      "Transition moment (a.u.): -1.531506\n"
     ]
    }
   ],
   "source": [
    "Xf = X[:,idx]\n",
    "Xf =  Xf / np.sqrt(np.matmul(Xf.T,np.matmul(S2,Xf)))\n",
    "\n",
    "tmom = np.dot(Xf, V1)\n",
    "print(f'Transition moment (a.u.): {tmom : .6f}')"
   ]
  },
  {
   "cell_type": "markdown",
   "id": "553ffd42-43d6-410d-b86d-5f45814e8b1b",
   "metadata": {
    "tags": [
     "remove-cell"
    ]
   },
   "source": [
    "### Natural transition orbitals\n",
    "The characterization of electronic transitions in the TDHF and TDDFT approximations is not always straightforward as due to primarily two reasons:\n",
    "\n",
    "- Excitation vectors contain elements associated to excitations as well as de-excitations, and the interpretation of the latter part is not obvious\n",
    "- If not using minimal basis sets, the virtual orbital space is typically large and excitation vectors can have a large number of significant elements\n",
    "\n",
    "It is therefore receommended to instead use the concept of *natural transition orbitals* (NTOs) for the characterization of electronic transitions.\n",
    "\n",
    "Collecting occupied and unoccupied (real) MOs as vectors\n",
    "\n",
    "$$\n",
    "\\bar{\\boldsymbol{\\phi}}_\\mathrm{occ} = (\\ldots, \\phi_i(\\mathbf{r}),  \\ldots)^T; \\quad\n",
    "\\bar{\\boldsymbol{\\phi}}_\\mathrm{unocc} = (\\ldots, \\phi_a(\\mathbf{r}),  \\ldots)^T\n",
    "$$\n",
    "\n",
    "and scattering the (real) RPA eigenvector into a rectangular transition matrix $T$ of dimension $n_\\mathrm{occ} \\times n_\\mathrm{unocc}$\n",
    "\n",
    "$$\n",
    "T_{f, ia} = Z_{f, ia} - Y_{f, ia}\n",
    "$$\n",
    "\n",
    "we can write the transition moment as\n",
    "\n",
    "\\begin{equation*}\n",
    "    \\langle f | \\hat{V}^\\omega | 0 \\rangle =\n",
    "    \\mathbf{X}^T_f \\mathbf{V}^{\\omega,[1]} = \n",
    "    \\big(\n",
    "    \\mathbf{Z}_f^T, \\mathbf{Y}_f^T\n",
    "    \\big)\n",
    "    \\begin{pmatrix}\n",
    "    \\mathbf{g}\\\\-\\mathbf{g}\n",
    "    \\end{pmatrix}\n",
    "    =\n",
    "    \\big(\n",
    "    \\mathbf{Z}_f - \\mathbf{Y}_f\n",
    "    \\big)^T\n",
    "    \\mathbf{g}\n",
    "    =\n",
    "    \\int\n",
    "    \\hat{\\mu}_\\alpha\n",
    "    \\bar{\\boldsymbol{\\phi}}_\\mathrm{occ}^T\n",
    "    \\mathbf{T}\n",
    "    \\bar{\\boldsymbol{\\phi}}_\\mathrm{unocc} \\;\n",
    "    d^3\\mathbf{r}\n",
    "\\end{equation*}\n",
    "\n",
    "By means of a singular value decomposition (SVD), we can factorize the transition matrix\n",
    "\n",
    "$$\n",
    "\\mathbf{T} = \\mathbf{U} \\boldsymbol{\\Lambda} \\mathbf{V}^T\n",
    "$$\n",
    "\n",
    "where matrices $\\mathbf{U}$ and $\\mathbf{V}$ are square unitary and $\\boldsymbol{\\Lambda}$ is rectangular diagonal\n",
    "\n",
    "$$\n",
    "\\boldsymbol{\\Lambda} =\n",
    "\\begin{bmatrix}\n",
    " \\lambda_1 & 0 & \\cdots & 0 & 0 & \\cdots & 0 \\\\\n",
    " 0 & \\lambda_2 & \\cdots & 0 & 0 & \\cdots & 0 \\\\\n",
    " \\vdots & \\vdots & \\ddots & \\vdots & \\vdots & \\ddots & \\vdots \\\\\n",
    " 0 & 0 & \\cdots & \\lambda_\\mathrm{nocc} & 0 & \\cdots & 0 \\\\\n",
    "\\end{bmatrix}\n",
    "$$\n",
    "\n",
    "The SVD transformation matrices define the pairs of hole and electron NTOs\n",
    "\n",
    "$$\n",
    "\\bar{\\boldsymbol{\\phi}}_\\mathrm{h}^T = \\bar{\\boldsymbol{\\phi}}_\\mathrm{occ}^T \\mathbf{U}; \\quad\n",
    "\\bar{\\boldsymbol{\\phi}}_\\mathrm{e} = \\mathbf{V}^T \\bar{\\boldsymbol{\\phi}}_\\mathrm{unocc}\n",
    "$$\n",
    "\n",
    "such that\n",
    "\n",
    "\\begin{equation*}\n",
    "    \\langle f | \\hat{V}^\\omega | 0 \\rangle =\n",
    "    \\int\n",
    "    \\hat{\\mu}_\\alpha\n",
    "    \\bar{\\boldsymbol{\\phi}}_\\mathrm{h}^T\n",
    "    \\boldsymbol{\\Lambda}\n",
    "    \\bar{\\boldsymbol{\\phi}}_\\mathrm{e} \\;\n",
    "    d^3\\mathbf{r}\n",
    "\\end{equation*}\n",
    "\n",
    "The diagonal elements of $\\boldsymbol{\\Lambda}$ are interpreted as weights in the transition involving electron transfer from the  hole to the electron orbitals.\n",
    "\n",
    "```{note}\n",
    "There are $n_\\mathrm{occ}$ pairs of hole and electron orbitals. The remainng electron orbitals plays no role in the evaluation of the expression for the transition moment.\n",
    "```\n",
    "\n",
    "#### Numerical example\n",
    "Let us now perform an NTP analysis the $\\pi\\pi^*$-transition of ethylene. We first carry out an SVD to get the $\\lambda$-weights."
   ]
  },
  {
   "cell_type": "code",
   "execution_count": 68,
   "id": "5c3ba107-fa0f-4df8-b66c-24de10f37f1c",
   "metadata": {
    "slideshow": {
     "slide_type": "subslide"
    },
    "tags": [
     "remove-cell"
    ]
   },
   "outputs": [
    {
     "name": "stdout",
     "output_type": "stream",
     "text": [
      "Lambda diagonal elements:\n",
      " [0.907902 0.220204 0.10884  0.097467 0.094168 0.064033 0.000982 0.000764]\n"
     ]
    }
   ],
   "source": [
    "Zf = Xf[:n]\n",
    "Yf = Xf[n:]\n",
    "T = np.reshape(Zf - Yf, (nocc,nvirt))\n",
    "U, L, VT = np.linalg.svd(T)\n",
    "\n",
    "print('Lambda diagonal elements:\\n', L)"
   ]
  },
  {
   "cell_type": "markdown",
   "id": "aa33258c-bb66-4802-85b7-3c2f1187ebf0",
   "metadata": {
    "tags": [
     "remove-cell"
    ]
   },
   "source": [
    "We see that this transition is dominated by electron transfer from the first hole orbital, $\\phi_\\mathrm{h}^1$, to the first electron orbital, $\\phi_\\mathrm{e}^1$, that are expressed as linear combinations of the occupied and unoccupied orbitals, respectively:\n",
    "\n",
    "\\begin{eqnarray*}\n",
    "\\phi_\\mathrm{h}^1 & = &  \\sum_{i}^\\mathrm{occ} \\phi_i U_{i,1} \\\\\n",
    "\\phi_\\mathrm{e}^1 & = &  \\sum_{a}^\\mathrm{unocc} \\phi_a V^T_{1,a}\n",
    "\\end{eqnarray*}\n",
    "\n",
    "Inspecting the elements of the first column of $U$ and the first row of $V^T$ confirms that this transition is well characterized by a simple HOMO--LUMO excitation."
   ]
  },
  {
   "cell_type": "code",
   "execution_count": 69,
   "id": "7c55fdae-ca7a-41bf-9444-3d6bad65cf44",
   "metadata": {
    "tags": [
     "remove-cell"
    ]
   },
   "outputs": [
    {
     "name": "stdout",
     "output_type": "stream",
     "text": [
      "Hole orbital no. 1: [-0. -0. -0. -0. -0. -0. -0. -1.]\n",
      "Electron orbital no. 1: [-1.   -0.   -0.   -0.    0.   -0.    0.   -0.   -0.   -0.04  0.    0.    0.    0.    0.    0.    0.    0.  ]\n"
     ]
    }
   ],
   "source": [
    "np.set_printoptions(precision = 2, suppress = True, linewidth = 170)\n",
    "print('Hole orbital no. 1:', U[:,0])\n",
    "print('Electron orbital no. 1:', VT[0,:])"
   ]
  },
  {
   "cell_type": "markdown",
   "id": "c25b2d5b-1a88-420a-80d2-a1bdfd1ba729",
   "metadata": {
    "tags": [
     "remove-cell"
    ]
   },
   "source": [
    "## Complex polarizability\n",
    "The complex polarizability is determined from the linear response function according to {cite}`Norman2018`\n",
    "\n",
    "$$\n",
    "\\alpha_{\\alpha\\beta}(\\omega) = -\n",
    "\\langle \\! \\langle \\hat{\\mu}_\\alpha ; \\hat{\\mu}_\\beta \\rangle  \\! \\rangle_\\omega^\\gamma\n",
    "$$\n",
    "\n",
    "Here, the linear response equation takes the form\n",
    "\n",
    "$$\n",
    "\\langle\\!\\langle \\hat{\\mu}; \\hat{\\mu} \\rangle\\!\\rangle =\n",
    "-{\\boldsymbol{\\mu}^{[1]}}^\\dagger\n",
    "\\Big(\n",
    "\\mathbf{E}^{[2]} - (\\omega + i\\gamma) \\mathbf{S}^{[2]}\n",
    "\\Big)^{-1}\n",
    "\\boldsymbol{\\mu}^{[1]}\n",
    "$$\n",
    "\n",
    "where the phenomenological damping parameter $\\gamma$ is associated with the inverse of the finite lifetime of the excited states in the molecular system. A polarizability calculated in this manner is physically sound for all optical frequencies, be it in the nonresonance or resonence regions of the spectrum. The real and imaginary parts of such complex response functions are related by the Kramers--Kronig relations and typically associated with separate spectroscopies and/or physical phenomena. In the case of the electric-dipole polarizability, the real and imaginary parts are associated with light scattering and absorption, respectively.\n",
    "\n",
    "We can determine complex response functions by means of the `ComplexResponse` class object."
   ]
  },
  {
   "cell_type": "code",
   "execution_count": 71,
   "id": "38b460b5-3e99-40aa-91ec-dcfe7e2bed98",
   "metadata": {
    "scrolled": true,
    "tags": [
     "remove-output",
     "remove-cell"
    ]
   },
   "outputs": [
    {
     "name": "stdout",
     "output_type": "stream",
     "text": [
      "                                                                                                                          \n",
      "                                              Complex Response Solver Setup                                               \n",
      "                                             ===============================                                              \n",
      "                                                                                                                          \n",
      "                               Number of Frequencies           : 29                                                       \n",
      "                               Max. Number of Iterations       : 150                                                      \n",
      "                               Convergence Threshold           : 1.0e-04                                                  \n",
      "                               ERI Screening Scheme            : Cauchy Schwarz + Density                                 \n",
      "                               ERI Screening Threshold         : 1.0e-15                                                  \n",
      "                                                                                                                          \n",
      "* Info * Processing Fock builds... (batch size: 16)                                                                       \n",
      "* Info *   batch 1/1                                                                                                      \n",
      "                                                                                                                          \n",
      "* Info * 8 gerade trial vectors in reduced space                                                                          \n",
      "* Info * 8 ungerade trial vectors in reduced space                                                                        \n",
      "                                                                                                                          \n",
      "* Info * 586.13 kB of memory used for subspace procedure on the master node                                               \n",
      "* Info * 6.13 GB of memory available for the solver on the master node                                                    \n",
      "                                                                                                                          \n",
      "               *** Iteration:   1 * Residuals (Max,Min): 5.10e-01 and 1.50e-01                                            \n",
      "                                                                                                                          \n",
      "               Operator:  electric dipole (xyz)                                                                           \n",
      "                                                                                                                          \n",
      "               <<x;x>>_0.2600 :    -52.86685749     -2.06412855j   Residual Norm: 0.50978897                              \n",
      "               <<x;x>>_0.2625 :    -54.03037342     -2.21689574j   Residual Norm: 0.50811109                              \n",
      "               <<x;x>>_0.2650 :    -55.28086528     -2.38764536j   Residual Norm: 0.50642412                              \n",
      "               <<x;x>>_0.2675 :    -56.62863888     -2.57935002j   Residual Norm: 0.50472766                              \n",
      "               <<x;x>>_0.2700 :    -58.08570703     -2.79562272j   Residual Norm: 0.50302132                              \n",
      "               <<x;x>>_0.2725 :    -59.66615615     -3.04088949j   Residual Norm: 0.50130463                              \n",
      "               <<x;x>>_0.2750 :    -61.38661073     -3.32061881j   Residual Norm: 0.49957713                              \n",
      "               <<x;x>>_0.2775 :    -63.26682719     -3.64162986j   Residual Norm: 0.49783830                              \n",
      "               <<x;x>>_0.2800 :    -65.33046088     -4.01251241j   Residual Norm: 0.49608762                              \n",
      "               <<x;x>>_0.2825 :    -67.60606713     -4.44420667j   Residual Norm: 0.49432450                              \n",
      "               <<x;x>>_0.2850 :    -70.12842275     -4.95081639j   Residual Norm: 0.49254837                              \n",
      "               <<x;x>>_0.2875 :    -72.94029212     -5.55076865j   Residual Norm: 0.49075857                              \n",
      "               <<x;x>>_0.2900 :    -76.09481859     -6.26849900j   Residual Norm: 0.48895444                              \n",
      "               <<x;x>>_0.2925 :    -79.65880839     -7.13695085j   Residual Norm: 0.48713530                              \n",
      "               <<x;x>>_0.2950 :    -83.71730759     -8.20136861j   Residual Norm: 0.48530041                              \n",
      "               <<x;x>>_0.2975 :    -88.38008104     -9.52520330j   Residual Norm: 0.48344901                              \n",
      "               <<x;x>>_0.3000 :    -93.79092903    -11.19957577j   Residual Norm: 0.48158030                              \n",
      "               <<x;x>>_0.3025 :   -100.14128645    -13.35894152j   Residual Norm: 0.47969348                              \n",
      "               <<x;x>>_0.3050 :   -107.69031300    -16.20799621j   Residual Norm: 0.47778769                              \n",
      "               <<x;x>>_0.3075 :   -116.79469809    -20.06987176j   Residual Norm: 0.47586204                              \n",
      "               <<x;x>>_0.3100 :   -127.95216990    -25.47670551j   Residual Norm: 0.47391562                              \n",
      "               <<x;x>>_0.3125 :   -141.86038884    -33.34930450j   Residual Norm: 0.47194751                              \n",
      "               <<x;x>>_0.3150 :   -159.47426031    -45.37538939j   Residual Norm: 0.46995674                              \n",
      "               <<x;x>>_0.3175 :   -181.94843309    -64.85458595j   Residual Norm: 0.46794234                              \n",
      "               <<x;x>>_0.3200 :   -209.88418965    -98.65712771j   Residual Norm: 0.46590329                              \n",
      "               <<x;x>>_0.3225 :   -239.04293217   -161.38327468j   Residual Norm: 0.46383859                              \n",
      "               <<x;x>>_0.3250 :   -240.67703976   -277.34528149j   Residual Norm: 0.46174720                              \n",
      "               <<x;x>>_0.3275 :   -121.66948417   -422.38245360j   Residual Norm: 0.45962807                              \n",
      "               <<x;x>>_0.3300 :    103.48276256   -402.56851589j   Residual Norm: 0.45748016                              \n",
      "               <<y;y>>_0.2600 :    -22.78912248     -0.17115965j   Residual Norm: 0.23703034                              \n",
      "               <<y;y>>_0.2625 :    -22.88387528     -0.17438084j   Residual Norm: 0.23660998                              \n",
      "               <<y;y>>_0.2650 :    -22.98041282     -0.17767030j   Residual Norm: 0.23618775                              \n",
      "               <<y;y>>_0.2675 :    -23.07877311     -0.18103025j   Residual Norm: 0.23576369                              \n",
      "               <<y;y>>_0.2700 :    -23.17899539     -0.18446299j   Residual Norm: 0.23533784                              \n",
      "               <<y;y>>_0.2725 :    -23.28112020     -0.18797092j   Residual Norm: 0.23491026                              \n",
      "               <<y;y>>_0.2750 :    -23.38518942     -0.19155653j   Residual Norm: 0.23448098                              \n",
      "               <<y;y>>_0.2775 :    -23.49124630     -0.19522242j   Residual Norm: 0.23405003                              \n",
      "               <<y;y>>_0.2800 :    -23.59933558     -0.19897129j   Residual Norm: 0.23361748                              \n",
      "               <<y;y>>_0.2825 :    -23.70950347     -0.20280595j   Residual Norm: 0.23318335                              \n",
      "               <<y;y>>_0.2850 :    -23.82179777     -0.20672934j   Residual Norm: 0.23274769                              \n",
      "               <<y;y>>_0.2875 :    -23.93626792     -0.21074450j   Residual Norm: 0.23231054                              \n",
      "               <<y;y>>_0.2900 :    -24.05296506     -0.21485463j   Residual Norm: 0.23187193                              \n",
      "               <<y;y>>_0.2925 :    -24.17194212     -0.21906304j   Residual Norm: 0.23143192                              \n",
      "               <<y;y>>_0.2950 :    -24.29325388     -0.22337322j   Residual Norm: 0.23099054                              \n",
      "               <<y;y>>_0.2975 :    -24.41695707     -0.22778876j   Residual Norm: 0.23054783                              \n",
      "               <<y;y>>_0.3000 :    -24.54311043     -0.23231347j   Residual Norm: 0.23010383                              \n",
      "               <<y;y>>_0.3025 :    -24.67177483     -0.23695128j   Residual Norm: 0.22965857                              \n",
      "               <<y;y>>_0.3050 :    -24.80301333     -0.24170634j   Residual Norm: 0.22921211                              \n",
      "               <<y;y>>_0.3075 :    -24.93689134     -0.24658294j   Residual Norm: 0.22876448                              \n",
      "               <<y;y>>_0.3100 :    -25.07347663     -0.25158562j   Residual Norm: 0.22831572                              \n",
      "               <<y;y>>_0.3125 :    -25.21283956     -0.25671910j   Residual Norm: 0.22786587                              \n",
      "               <<y;y>>_0.3150 :    -25.35505308     -0.26198833j   Residual Norm: 0.22741496                              \n",
      "               <<y;y>>_0.3175 :    -25.50019296     -0.26739849j   Residual Norm: 0.22696303                              \n",
      "               <<y;y>>_0.3200 :    -25.64833784     -0.27295503j   Residual Norm: 0.22651013                              \n",
      "               <<y;y>>_0.3225 :    -25.79956942     -0.27866364j   Residual Norm: 0.22605629                              \n",
      "               <<y;y>>_0.3250 :    -25.95397259     -0.28453029j   Residual Norm: 0.22560155                              \n",
      "               <<y;y>>_0.3275 :    -26.11163560     -0.29056127j   Residual Norm: 0.22514594                              \n",
      "               <<y;y>>_0.3300 :    -26.27265020     -0.29676316j   Residual Norm: 0.22468951                              \n",
      "               <<z;z>>_0.2600 :     -7.91837639     -0.02912429j   Residual Norm: 0.15806397                              \n",
      "               <<z;z>>_0.2625 :     -7.93446943     -0.02954916j   Residual Norm: 0.15786702                              \n",
      "               <<z;z>>_0.2650 :     -7.95079703     -0.02997967j   Residual Norm: 0.15766437                              \n",
      "               <<z;z>>_0.2675 :     -7.96736234     -0.03041597j   Residual Norm: 0.15745589                              \n",
      "               <<z;z>>_0.2700 :     -7.98416856     -0.03085821j   Residual Norm: 0.15724148                              \n",
      "               <<z;z>>_0.2725 :     -8.00121900     -0.03130655j   Residual Norm: 0.15702100                              \n",
      "               <<z;z>>_0.2750 :     -8.01851705     -0.03176118j   Residual Norm: 0.15679433                              \n",
      "               <<z;z>>_0.2775 :     -8.03606620     -0.03222225j   Residual Norm: 0.15656137                              \n",
      "               <<z;z>>_0.2800 :     -8.05387003     -0.03268994j   Residual Norm: 0.15632199                              \n",
      "               <<z;z>>_0.2825 :     -8.07193223     -0.03316446j   Residual Norm: 0.15607608                              \n",
      "               <<z;z>>_0.2850 :     -8.09025658     -0.03364598j   Residual Norm: 0.15582352                              \n",
      "               <<z;z>>_0.2875 :     -8.10884698     -0.03413472j   Residual Norm: 0.15556421                              \n",
      "               <<z;z>>_0.2900 :     -8.12770745     -0.03463088j   Residual Norm: 0.15529803                              \n",
      "               <<z;z>>_0.2925 :     -8.14684209     -0.03513467j   Residual Norm: 0.15502489                              \n",
      "               <<z;z>>_0.2950 :     -8.16625517     -0.03564633j   Residual Norm: 0.15474468                              \n",
      "               <<z;z>>_0.2975 :     -8.18595106     -0.03616609j   Residual Norm: 0.15445731                              \n",
      "               <<z;z>>_0.3000 :     -8.20593425     -0.03669420j   Residual Norm: 0.15416270                              \n",
      "               <<z;z>>_0.3025 :     -8.22620940     -0.03723091j   Residual Norm: 0.15386075                              \n",
      "               <<z;z>>_0.3050 :     -8.24678130     -0.03777648j   Residual Norm: 0.15355140                              \n",
      "               <<z;z>>_0.3075 :     -8.26765486     -0.03833120j   Residual Norm: 0.15323457                              \n",
      "               <<z;z>>_0.3100 :     -8.28883519     -0.03889536j   Residual Norm: 0.15291022                              \n",
      "               <<z;z>>_0.3125 :     -8.31032753     -0.03946925j   Residual Norm: 0.15257830                              \n",
      "               <<z;z>>_0.3150 :     -8.33213730     -0.04005320j   Residual Norm: 0.15223878                              \n",
      "               <<z;z>>_0.3175 :     -8.35427011     -0.04064752j   Residual Norm: 0.15189163                              \n",
      "               <<z;z>>_0.3200 :     -8.37673172     -0.04125258j   Residual Norm: 0.15153685                              \n",
      "               <<z;z>>_0.3225 :     -8.39952813     -0.04186873j   Residual Norm: 0.15117447                              \n",
      "               <<z;z>>_0.3250 :     -8.42266550     -0.04249634j   Residual Norm: 0.15080450                              \n",
      "               <<z;z>>_0.3275 :     -8.44615022     -0.04313582j   Residual Norm: 0.15042702                              \n",
      "               <<z;z>>_0.3300 :     -8.46998890     -0.04378758j   Residual Norm: 0.15004209                              \n",
      "                                                                                                                          \n",
      "* Info * Processing Fock builds... (batch size: 19)                                                                       \n",
      "* Info *   batch 1/1                                                                                                      \n",
      "                                                                                                                          \n",
      "* Info * 17 gerade trial vectors in reduced space                                                                         \n",
      "* Info * 18 ungerade trial vectors in reduced space                                                                       \n",
      "                                                                                                                          \n",
      "* Info * 629.90 kB of memory used for subspace procedure on the master node                                               \n",
      "* Info * 6.13 GB of memory available for the solver on the master node                                                    \n",
      "                                                                                                                          \n",
      "               *** Iteration:   2 * Residuals (Max,Min): 6.32e-02 and 1.57e-02                                            \n",
      "                                                                                                                          \n",
      "               Operator:  electric dipole (xyz)                                                                           \n",
      "                                                                                                                          \n",
      "               <<x;x>>_0.2600 :    -95.29454411    -10.04655930j   Residual Norm: 0.06321668                              \n",
      "               <<x;x>>_0.2625 :   -101.00596007    -11.73708241j   Residual Norm: 0.06313989                              \n",
      "               <<x;x>>_0.2650 :   -107.67015981    -13.89243395j   Residual Norm: 0.06306195                              \n",
      "               <<x;x>>_0.2675 :   -115.53892246    -16.69810085j   Residual Norm: 0.06298276                              \n",
      "               <<x;x>>_0.2700 :   -124.95554224    -20.44064380j   Residual Norm: 0.06290223                              \n",
      "               <<x;x>>_0.2725 :   -136.39554796    -25.58022890j   Residual Norm: 0.06282023                              \n",
      "               <<x;x>>_0.2750 :   -150.52495017    -32.88998132j   Residual Norm: 0.06273665                              \n",
      "               <<x;x>>_0.2775 :   -168.27301991    -43.73932922j   Residual Norm: 0.06265137                              \n",
      "               <<x;x>>_0.2800 :   -190.87250864    -60.70610184j   Residual Norm: 0.06256425                              \n",
      "               <<x;x>>_0.2825 :   -219.60214806    -88.97294127j   Residual Norm: 0.06247516                              \n",
      "               <<x;x>>_0.2850 :   -253.90754780   -139.53699906j   Residual Norm: 0.06238397                              \n",
      "               <<x;x>>_0.2875 :   -281.62280982   -234.86168527j   Residual Norm: 0.06229052                              \n",
      "               <<x;x>>_0.2900 :   -241.32215622   -397.48693321j   Residual Norm: 0.06219467                              \n",
      "               <<x;x>>_0.2925 :    -22.79736549   -514.89044831j   Residual Norm: 0.06209625                              \n",
      "               <<x;x>>_0.2950 :    192.65109360   -394.10038383j   Residual Norm: 0.06199511                              \n",
      "               <<x;x>>_0.2975 :    230.56286094   -232.51237457j   Residual Norm: 0.06189107                              \n",
      "               <<x;x>>_0.3000 :    202.40610171   -138.30838659j   Residual Norm: 0.06178396                              \n",
      "               <<x;x>>_0.3025 :    168.14506840    -88.32591212j   Residual Norm: 0.06167361                              \n",
      "               <<x;x>>_0.3050 :    139.51611708    -60.35129751j   Residual Norm: 0.06155981                              \n",
      "               <<x;x>>_0.3075 :    116.99472356    -43.54187047j   Residual Norm: 0.06144239                              \n",
      "               <<x;x>>_0.3100 :     99.29516763    -32.78463847j   Residual Norm: 0.06132116                              \n",
      "               <<x;x>>_0.3125 :     85.18974117    -25.53335032j   Residual Norm: 0.06119590                              \n",
      "               <<x;x>>_0.3150 :     73.75465721    -20.43374244j   Residual Norm: 0.06106642                              \n",
      "               <<x;x>>_0.3175 :     64.32804204    -16.72044822j   Residual Norm: 0.06093251                              \n",
      "               <<x;x>>_0.3200 :     56.43725044    -13.93751054j   Residual Norm: 0.06079396                              \n",
      "               <<x;x>>_0.3225 :     49.74096336    -11.80077351j   Residual Norm: 0.06065056                              \n",
      "               <<x;x>>_0.3250 :     43.98875647    -10.12618806j   Residual Norm: 0.06050209                              \n",
      "               <<x;x>>_0.3275 :     38.99376857     -8.79052768j   Residual Norm: 0.06034833                              \n",
      "               <<x;x>>_0.3300 :     34.61425779     -7.70888726j   Residual Norm: 0.06018906                              \n",
      "               <<y;y>>_0.2600 :    -23.58755322     -0.18961802j   Residual Norm: 0.01569139                              \n",
      "               <<y;y>>_0.2625 :    -23.69255959     -0.19333554j   Residual Norm: 0.01576588                              \n",
      "               <<y;y>>_0.2650 :    -23.79962706     -0.19713768j   Residual Norm: 0.01584127                              \n",
      "               <<y;y>>_0.2675 :    -23.90880279     -0.20102737j   Residual Norm: 0.01591755                              \n",
      "               <<y;y>>_0.2700 :    -24.02013556     -0.20500765j   Residual Norm: 0.01599473                              \n",
      "               <<y;y>>_0.2725 :    -24.13367585     -0.20908169j   Residual Norm: 0.01607283                              \n",
      "               <<y;y>>_0.2750 :    -24.24947594     -0.21325280j   Residual Norm: 0.01615184                              \n",
      "               <<y;y>>_0.2775 :    -24.36758993     -0.21752443j   Residual Norm: 0.01623177                              \n",
      "               <<y;y>>_0.2800 :    -24.48807387     -0.22190021j   Residual Norm: 0.01631262                              \n",
      "               <<y;y>>_0.2825 :    -24.61098583     -0.22638388j   Residual Norm: 0.01639440                              \n",
      "               <<y;y>>_0.2850 :    -24.73638596     -0.23097940j   Residual Norm: 0.01647712                              \n",
      "               <<y;y>>_0.2875 :    -24.86433666     -0.23569089j   Residual Norm: 0.01656078                              \n",
      "               <<y;y>>_0.2900 :    -24.99490261     -0.24052264j   Residual Norm: 0.01664539                              \n",
      "               <<y;y>>_0.2925 :    -25.12815089     -0.24547917j   Residual Norm: 0.01673095                              \n",
      "               <<y;y>>_0.2950 :    -25.26415112     -0.25056519j   Residual Norm: 0.01681746                              \n",
      "               <<y;y>>_0.2975 :    -25.40297556     -0.25578566j   Residual Norm: 0.01690494                              \n",
      "               <<y;y>>_0.3000 :    -25.54469924     -0.26114574j   Residual Norm: 0.01699338                              \n",
      "               <<y;y>>_0.3025 :    -25.68940007     -0.26665086j   Residual Norm: 0.01708280                              \n",
      "               <<y;y>>_0.3050 :    -25.83715904     -0.27230673j   Residual Norm: 0.01717320                              \n",
      "               <<y;y>>_0.3075 :    -25.98806030     -0.27811931j   Residual Norm: 0.01726459                              \n",
      "               <<y;y>>_0.3100 :    -26.14219136     -0.28409488j   Residual Norm: 0.01735696                              \n",
      "               <<y;y>>_0.3125 :    -26.29964325     -0.29024004j   Residual Norm: 0.01745033                              \n",
      "               <<y;y>>_0.3150 :    -26.46051068     -0.29656171j   Residual Norm: 0.01754470                              \n",
      "               <<y;y>>_0.3175 :    -26.62489226     -0.30306717j   Residual Norm: 0.01764008                              \n",
      "               <<y;y>>_0.3200 :    -26.79289069     -0.30976409j   Residual Norm: 0.01773648                              \n",
      "               <<y;y>>_0.3225 :    -26.96461296     -0.31666054j   Residual Norm: 0.01783389                              \n",
      "               <<y;y>>_0.3250 :    -27.14017059     -0.32376502j   Residual Norm: 0.01793233                              \n",
      "               <<y;y>>_0.3275 :    -27.31967986     -0.33108649j   Residual Norm: 0.01803180                              \n",
      "               <<y;y>>_0.3300 :    -27.50326211     -0.33863439j   Residual Norm: 0.01813231                              \n",
      "               <<z;z>>_0.2600 :     -7.96284282     -0.03011127j   Residual Norm: 0.02900391                              \n",
      "               <<z;z>>_0.2625 :     -7.97948251     -0.03055579j   Residual Norm: 0.02937235                              \n",
      "               <<z;z>>_0.2650 :     -7.99636765     -0.03100639j   Residual Norm: 0.02975400                              \n",
      "               <<z;z>>_0.2675 :     -8.01350163     -0.03146325j   Residual Norm: 0.03014954                              \n",
      "               <<z;z>>_0.2700 :     -8.03088792     -0.03192654j   Residual Norm: 0.03055976                              \n",
      "               <<z;z>>_0.2725 :     -8.04853010     -0.03239648j   Residual Norm: 0.03098548                              \n",
      "               <<z;z>>_0.2750 :     -8.06643187     -0.03287328j   Residual Norm: 0.03142763                              \n",
      "               <<z;z>>_0.2775 :     -8.08459704     -0.03335715j   Residual Norm: 0.03188720                              \n",
      "               <<z;z>>_0.2800 :     -8.10302955     -0.03384833j   Residual Norm: 0.03236529                              \n",
      "               <<z;z>>_0.2825 :     -8.12173347     -0.03434708j   Residual Norm: 0.03286312                              \n",
      "               <<z;z>>_0.2850 :     -8.14071301     -0.03485368j   Residual Norm: 0.03338203                              \n",
      "               <<z;z>>_0.2875 :     -8.15997255     -0.03536841j   Residual Norm: 0.03392350                              \n",
      "               <<z;z>>_0.2900 :     -8.17951662     -0.03589160j   Residual Norm: 0.03448918                              \n",
      "               <<z;z>>_0.2925 :     -8.19934993     -0.03642360j   Residual Norm: 0.03508092                              \n",
      "               <<z;z>>_0.2950 :     -8.21947739     -0.03696479j   Residual Norm: 0.03570079                              \n",
      "               <<z;z>>_0.2975 :     -8.23990415     -0.03751559j   Residual Norm: 0.03635110                              \n",
      "               <<z;z>>_0.3000 :     -8.26063557     -0.03807648j   Residual Norm: 0.03703449                              \n",
      "               <<z;z>>_0.3025 :     -8.28167728     -0.03864798j   Residual Norm: 0.03775394                              \n",
      "               <<z;z>>_0.3050 :     -8.30303522     -0.03923069j   Residual Norm: 0.03851283                              \n",
      "               <<z;z>>_0.3075 :     -8.32471568     -0.03982530j   Residual Norm: 0.03931506                              \n",
      "               <<z;z>>_0.3100 :     -8.34672531     -0.04043257j   Residual Norm: 0.04016511                              \n",
      "               <<z;z>>_0.3125 :     -8.36907122     -0.04105343j   Residual Norm: 0.04106817                              \n",
      "               <<z;z>>_0.3150 :     -8.39176104     -0.04168895j   Residual Norm: 0.04203026                              \n",
      "               <<z;z>>_0.3175 :     -8.41480301     -0.04234040j   Residual Norm: 0.04305847                              \n",
      "               <<z;z>>_0.3200 :     -8.43820609     -0.04300931j   Residual Norm: 0.04416116                              \n",
      "               <<z;z>>_0.3225 :     -8.46198014     -0.04369757j   Residual Norm: 0.04534823                              \n",
      "               <<z;z>>_0.3250 :     -8.48613604     -0.04440749j   Residual Norm: 0.04663157                              \n",
      "               <<z;z>>_0.3275 :     -8.51068604     -0.04514200j   Residual Norm: 0.04802555                              \n",
      "               <<z;z>>_0.3300 :     -8.53564401     -0.04590481j   Residual Norm: 0.04954766                              \n",
      "                                                                                                                          \n",
      "* Info * Processing Fock builds... (batch size: 18)                                                                       \n",
      "* Info *   batch 1/1                                                                                                      \n",
      "                                                                                                                          \n",
      "* Info * 26 gerade trial vectors in reduced space                                                                         \n",
      "* Info * 27 ungerade trial vectors in reduced space                                                                       \n",
      "                                                                                                                          \n",
      "* Info * 671.37 kB of memory used for subspace procedure on the master node                                               \n",
      "* Info * 6.11 GB of memory available for the solver on the master node                                                    \n",
      "                                                                                                                          \n",
      "               *** Iteration:   3 * Residuals (Max,Min): 5.63e-03 and 1.43e-03                                            \n",
      "                                                                                                                          \n",
      "               Operator:  electric dipole (xyz)                                                                           \n",
      "                                                                                                                          \n",
      "               <<x;x>>_0.2600 :    -97.35348093    -10.63649892j   Residual Norm: 0.00540383                              \n",
      "               <<x;x>>_0.2625 :   -103.39812533    -12.48472818j   Residual Norm: 0.00540884                              \n",
      "               <<x;x>>_0.2650 :   -110.48156270    -14.85873480j   Residual Norm: 0.00541405                              \n",
      "               <<x;x>>_0.2675 :   -118.88617581    -17.97608046j   Residual Norm: 0.00541947                              \n",
      "               <<x;x>>_0.2700 :   -128.99937871    -22.17756618j   Residual Norm: 0.00542510                              \n",
      "               <<x;x>>_0.2725 :   -141.36052688    -28.01938301j   Residual Norm: 0.00543095                              \n",
      "               <<x;x>>_0.2750 :   -156.72597022    -36.45384980j   Residual Norm: 0.00543702                              \n",
      "               <<x;x>>_0.2775 :   -176.14027825    -49.20529834j   Residual Norm: 0.00544332                              \n",
      "               <<x;x>>_0.2800 :   -200.92059938    -69.60038300j   Residual Norm: 0.00544984                              \n",
      "               <<x;x>>_0.2825 :   -232.06624807   -104.48683807j   Residual Norm: 0.00545660                              \n",
      "               <<x;x>>_0.2850 :   -266.69086433   -168.47995258j   Residual Norm: 0.00546359                              \n",
      "               <<x;x>>_0.2875 :   -280.79197373   -288.56720856j   Residual Norm: 0.00547083                              \n",
      "               <<x;x>>_0.2900 :   -181.23350202   -462.37056349j   Residual Norm: 0.00547830                              \n",
      "               <<x;x>>_0.2925 :     78.75088817   -492.90701058j   Residual Norm: 0.00548602                              \n",
      "               <<x;x>>_0.2950 :    222.47504041   -326.42343632j   Residual Norm: 0.00549398                              \n",
      "               <<x;x>>_0.2975 :    222.72246167   -189.90918829j   Residual Norm: 0.00550219                              \n",
      "               <<x;x>>_0.3000 :    189.15061471   -115.84116920j   Residual Norm: 0.00551065                              \n",
      "               <<x;x>>_0.3025 :    156.62500891    -75.99047162j   Residual Norm: 0.00551935                              \n",
      "               <<x;x>>_0.3050 :    130.40930290    -53.07731173j   Residual Norm: 0.00552830                              \n",
      "               <<x;x>>_0.3075 :    109.86134312    -38.96083707j   Residual Norm: 0.00553749                              \n",
      "               <<x;x>>_0.3100 :     93.64115715    -29.73716139j   Residual Norm: 0.00554692                              \n",
      "               <<x;x>>_0.3125 :     80.63260952    -23.41328472j   Residual Norm: 0.00555659                              \n",
      "               <<x;x>>_0.3150 :     70.01898828    -18.90376019j   Residual Norm: 0.00556650                              \n",
      "               <<x;x>>_0.3175 :     61.21754171    -15.58226845j   Residual Norm: 0.00557663                              \n",
      "               <<x;x>>_0.3200 :     53.81076793    -13.06898873j   Residual Norm: 0.00558698                              \n",
      "               <<x;x>>_0.3225 :     47.49544884    -11.12358739j   Residual Norm: 0.00559755                              \n",
      "               <<x;x>>_0.3250 :     42.04770130     -9.58835525j   Residual Norm: 0.00560833                              \n",
      "               <<x;x>>_0.3275 :     37.29941745     -8.35650470j   Residual Norm: 0.00561931                              \n",
      "               <<x;x>>_0.3300 :     33.12232137     -7.35373252j   Residual Norm: 0.00563047                              \n",
      "               <<y;y>>_0.2600 :    -23.58985212     -0.18972815j   Residual Norm: 0.00143118                              \n",
      "               <<y;y>>_0.2625 :    -23.69491995     -0.19344989j   Residual Norm: 0.00143638                              \n",
      "               <<y;y>>_0.2650 :    -23.80205125     -0.19725645j   Residual Norm: 0.00144143                              \n",
      "               <<y;y>>_0.2675 :    -23.91129327     -0.20115075j   Residual Norm: 0.00144630                              \n",
      "               <<y;y>>_0.2700 :    -24.02269491     -0.20513586j   Residual Norm: 0.00145102                              \n",
      "               <<y;y>>_0.2725 :    -24.13630679     -0.20921495j   Residual Norm: 0.00145557                              \n",
      "               <<y;y>>_0.2750 :    -24.25218130     -0.21339136j   Residual Norm: 0.00145995                              \n",
      "               <<y;y>>_0.2775 :    -24.37037267     -0.21766854j   Residual Norm: 0.00146418                              \n",
      "               <<y;y>>_0.2800 :    -24.49093710     -0.22205013j   Residual Norm: 0.00146826                              \n",
      "               <<y;y>>_0.2825 :    -24.61393280     -0.22653991j   Residual Norm: 0.00147218                              \n",
      "               <<y;y>>_0.2850 :    -24.73942010     -0.23114182j   Residual Norm: 0.00147597                              \n",
      "               <<y;y>>_0.2875 :    -24.86746154     -0.23586001j   Residual Norm: 0.00147963                              \n",
      "               <<y;y>>_0.2900 :    -24.99812199     -0.24069881j   Residual Norm: 0.00148317                              \n",
      "               <<y;y>>_0.2925 :    -25.13146873     -0.24566273j   Residual Norm: 0.00148661                              \n",
      "               <<y;y>>_0.2950 :    -25.26757156     -0.25075652j   Residual Norm: 0.00148996                              \n",
      "               <<y;y>>_0.2975 :    -25.40650295     -0.25598515j   Residual Norm: 0.00149324                              \n",
      "               <<y;y>>_0.3000 :    -25.54833816     -0.26135381j   Residual Norm: 0.00149648                              \n",
      "               <<y;y>>_0.3025 :    -25.69315534     -0.26686796j   Residual Norm: 0.00149971                              \n",
      "               <<y;y>>_0.3050 :    -25.84103571     -0.27253332j   Residual Norm: 0.00150294                              \n",
      "               <<y;y>>_0.3075 :    -25.99206370     -0.27835589j   Residual Norm: 0.00150623                              \n",
      "               <<y;y>>_0.3100 :    -26.14632710     -0.28434199j   Residual Norm: 0.00150959                              \n",
      "               <<y;y>>_0.3125 :    -26.30391724     -0.29049824j   Residual Norm: 0.00151308                              \n",
      "               <<y;y>>_0.3150 :    -26.46492914     -0.29683159j   Residual Norm: 0.00151674                              \n",
      "               <<y;y>>_0.3175 :    -26.62946176     -0.30334938j   Residual Norm: 0.00152062                              \n",
      "               <<y;y>>_0.3200 :    -26.79761814     -0.31005931j   Residual Norm: 0.00152479                              \n",
      "               <<y;y>>_0.3225 :    -26.96950567     -0.31696948j   Residual Norm: 0.00152929                              \n",
      "               <<y;y>>_0.3250 :    -27.14523626     -0.32408845j   Residual Norm: 0.00153421                              \n",
      "               <<y;y>>_0.3275 :    -27.32492665     -0.33142523j   Residual Norm: 0.00153961                              \n",
      "               <<y;y>>_0.3300 :    -27.50869860     -0.33898931j   Residual Norm: 0.00154559                              \n",
      "               <<z;z>>_0.2600 :     -7.96351215     -0.03015325j   Residual Norm: 0.00175925                              \n",
      "               <<z;z>>_0.2625 :     -7.98017538     -0.03060001j   Residual Norm: 0.00179655                              \n",
      "               <<z;z>>_0.2650 :     -7.99708534     -0.03105302j   Residual Norm: 0.00183528                              \n",
      "               <<z;z>>_0.2675 :     -8.01424549     -0.03151247j   Residual Norm: 0.00187550                              \n",
      "               <<z;z>>_0.2700 :     -8.03165942     -0.03197857j   Residual Norm: 0.00191730                              \n",
      "               <<z;z>>_0.2725 :     -8.04933082     -0.03245153j   Residual Norm: 0.00196077                              \n",
      "               <<z;z>>_0.2750 :     -8.06726352     -0.03293159j   Residual Norm: 0.00200602                              \n",
      "               <<z;z>>_0.2775 :     -8.08546147     -0.03341901j   Residual Norm: 0.00205316                              \n",
      "               <<z;z>>_0.2800 :     -8.10392877     -0.03391406j   Residual Norm: 0.00210230                              \n",
      "               <<z;z>>_0.2825 :     -8.12266966     -0.03441703j   Residual Norm: 0.00215359                              \n",
      "               <<z;z>>_0.2850 :     -8.14168857     -0.03492823j   Residual Norm: 0.00220716                              \n",
      "               <<z;z>>_0.2875 :     -8.16099009     -0.03544801j   Residual Norm: 0.00226318                              \n",
      "               <<z;z>>_0.2900 :     -8.18057900     -0.03597677j   Residual Norm: 0.00232182                              \n",
      "               <<z;z>>_0.2925 :     -8.20046032     -0.03651490j   Residual Norm: 0.00238329                              \n",
      "               <<z;z>>_0.2950 :     -8.22063929     -0.03706290j   Residual Norm: 0.00244781                              \n",
      "               <<z;z>>_0.2975 :     -8.24112141     -0.03762127j   Residual Norm: 0.00251562                              \n",
      "               <<z;z>>_0.3000 :     -8.26191250     -0.03819061j   Residual Norm: 0.00258702                              \n",
      "               <<z;z>>_0.3025 :     -8.28301870     -0.03877159j   Residual Norm: 0.00266231                              \n",
      "               <<z;z>>_0.3050 :     -8.30444654     -0.03936500j   Residual Norm: 0.00274187                              \n",
      "               <<z;z>>_0.3075 :     -8.32620298     -0.03997172j   Residual Norm: 0.00282610                              \n",
      "               <<z;z>>_0.3100 :     -8.34829552     -0.04059281j   Residual Norm: 0.00291549                              \n",
      "               <<z;z>>_0.3125 :     -8.37073223     -0.04122953j   Residual Norm: 0.00301060                              \n",
      "               <<z;z>>_0.3150 :     -8.39352191     -0.04188335j   Residual Norm: 0.00311208                              \n",
      "               <<z;z>>_0.3175 :     -8.41667421     -0.04255611j   Residual Norm: 0.00322070                              \n",
      "               <<z;z>>_0.3200 :     -8.44019980     -0.04325002j   Residual Norm: 0.00333737                              \n",
      "               <<z;z>>_0.3225 :     -8.46411063     -0.04396788j   Residual Norm: 0.00346317                              \n",
      "               <<z;z>>_0.3250 :     -8.48842024     -0.04471318j   Residual Norm: 0.00359942                              \n",
      "               <<z;z>>_0.3275 :     -8.51314414     -0.04549047j   Residual Norm: 0.00374772                              \n",
      "               <<z;z>>_0.3300 :     -8.53830039     -0.04630564j   Residual Norm: 0.00391004                              \n",
      "                                                                                                                          \n",
      "* Info * Processing Fock builds... (batch size: 17)                                                                       \n",
      "* Info *   batch 1/1                                                                                                      \n",
      "                                                                                                                          \n",
      "* Info * 34 gerade trial vectors in reduced space                                                                         \n",
      "* Info * 36 ungerade trial vectors in reduced space                                                                       \n",
      "                                                                                                                          \n",
      "* Info * 710.11 kB of memory used for subspace procedure on the master node                                               \n",
      "* Info * 6.11 GB of memory available for the solver on the master node                                                    \n",
      "                                                                                                                          \n",
      "               *** Iteration:   4 * Residuals (Max,Min): 5.27e-04 and 4.86e-05                                            \n",
      "                                                                                                                          \n",
      "               Operator:  electric dipole (xyz)                                                                           \n",
      "                                                                                                                          \n",
      "               <<x;x>>_0.2600 :    -97.35973444    -10.63836758j   Residual Norm: 0.00047227                              \n",
      "               <<x;x>>_0.2625 :   -103.40543287    -12.48711003j   Residual Norm: 0.00047411                              \n",
      "               <<x;x>>_0.2650 :   -110.49020296    -14.86183281j   Residual Norm: 0.00047594                              \n",
      "               <<x;x>>_0.2675 :   -118.89652842    -17.98020674j   Residual Norm: 0.00047779                              \n",
      "               <<x;x>>_0.2700 :   -129.01196910    -22.18321909j   Residual Norm: 0.00047964                              \n",
      "               <<x;x>>_0.2725 :   -141.37609136    -28.02739388j   Residual Norm: 0.00048150                              \n",
      "               <<x;x>>_0.2750 :   -156.74554076    -36.46567842j   Residual Norm: 0.00048337                              \n",
      "               <<x;x>>_0.2775 :   -176.16524870    -49.22366441j   Residual Norm: 0.00048525                              \n",
      "               <<x;x>>_0.2800 :   -200.95254389    -69.63069643j   Residual Norm: 0.00048715                              \n",
      "               <<x;x>>_0.2825 :   -232.10533797   -104.54052779j   Residual Norm: 0.00048905                              \n",
      "               <<x;x>>_0.2850 :   -266.72727669   -168.58119285j   Residual Norm: 0.00049098                              \n",
      "               <<x;x>>_0.2875 :   -280.76805194   -288.75081762j   Residual Norm: 0.00049291                              \n",
      "               <<x;x>>_0.2900 :   -180.99457620   -462.54883596j   Residual Norm: 0.00049487                              \n",
      "               <<x;x>>_0.2925 :     79.04153238   -492.77482124j   Residual Norm: 0.00049683                              \n",
      "               <<x;x>>_0.2950 :    222.52975939   -326.21809722j   Residual Norm: 0.00049882                              \n",
      "               <<x;x>>_0.2975 :    222.68849526   -189.78963235j   Residual Norm: 0.00050081                              \n",
      "               <<x;x>>_0.3000 :    189.10792245   -115.77801984j   Residual Norm: 0.00050282                              \n",
      "               <<x;x>>_0.3025 :    156.58911383    -75.95526075j   Residual Norm: 0.00050485                              \n",
      "               <<x;x>>_0.3050 :    130.38097441    -53.05621791j   Residual Norm: 0.00050688                              \n",
      "               <<x;x>>_0.3075 :    109.83901609    -38.94736844j   Residual Norm: 0.00050893                              \n",
      "               <<x;x>>_0.3100 :     93.62330908    -29.72809655j   Residual Norm: 0.00051097                              \n",
      "               <<x;x>>_0.3125 :     80.61809050    -23.40691587j   Residual Norm: 0.00051303                              \n",
      "               <<x;x>>_0.3150 :     70.00697377    -18.89912492j   Residual Norm: 0.00051508                              \n",
      "               <<x;x>>_0.3175 :     61.20744294    -15.57879482j   Residual Norm: 0.00051712                              \n",
      "               <<x;x>>_0.3200 :     53.80215985    -13.06632103j   Residual Norm: 0.00051915                              \n",
      "               <<x;x>>_0.3225 :     47.48801967    -11.12149562j   Residual Norm: 0.00052117                              \n",
      "               <<x;x>>_0.3250 :     42.04121843     -9.58668564j   Residual Norm: 0.00052316                              \n",
      "               <<x;x>>_0.3275 :     37.29370446     -8.35515141j   Residual Norm: 0.00052511                              \n",
      "               <<x;x>>_0.3300 :     33.11724234     -7.35262085j   Residual Norm: 0.00052702                              \n",
      "               <<y;y>>_0.2600 :    -23.58987091     -0.18972900j   Residual Norm: 0.00035235                              \n",
      "               <<y;y>>_0.2625 :    -23.69493921     -0.19345076j   Residual Norm: 0.00035589                              \n",
      "               <<y;y>>_0.2650 :    -23.80207099     -0.19725735j   Residual Norm: 0.00035944                              \n",
      "               <<y;y>>_0.2675 :    -23.91131351     -0.20115168j   Residual Norm: 0.00036301                              \n",
      "               <<y;y>>_0.2700 :    -24.02271567     -0.20513682j   Residual Norm: 0.00036659                              \n",
      "               <<y;y>>_0.2725 :    -24.13632809     -0.20921595j   Residual Norm: 0.00037017                              \n",
      "               <<y;y>>_0.2750 :    -24.25220315     -0.21339239j   Residual Norm: 0.00037376                              \n",
      "               <<y;y>>_0.2775 :    -24.37039509     -0.21766961j   Residual Norm: 0.00037734                              \n",
      "               <<y;y>>_0.2800 :    -24.49096011     -0.22205123j   Residual Norm: 0.00038092                              \n",
      "               <<y;y>>_0.2825 :    -24.61395643     -0.22654104j   Residual Norm: 0.00038448                              \n",
      "               <<y;y>>_0.2850 :    -24.73944436     -0.23114300j   Residual Norm: 0.00038801                              \n",
      "               <<y;y>>_0.2875 :    -24.86748646     -0.23586123j   Residual Norm: 0.00039152                              \n",
      "               <<y;y>>_0.2900 :    -24.99814759     -0.24070006j   Residual Norm: 0.00039499                              \n",
      "               <<y;y>>_0.2925 :    -25.13149502     -0.24566403j   Residual Norm: 0.00039842                              \n",
      "               <<y;y>>_0.2950 :    -25.26759857     -0.25075787j   Residual Norm: 0.00040180                              \n",
      "               <<y;y>>_0.2975 :    -25.40653071     -0.25598654j   Residual Norm: 0.00040511                              \n",
      "               <<y;y>>_0.3000 :    -25.54836669     -0.26135524j   Residual Norm: 0.00040835                              \n",
      "               <<y;y>>_0.3025 :    -25.69318468     -0.26686944j   Residual Norm: 0.00041151                              \n",
      "               <<y;y>>_0.3050 :    -25.84106588     -0.27253486j   Residual Norm: 0.00041458                              \n",
      "               <<y;y>>_0.3075 :    -25.99209473     -0.27835749j   Residual Norm: 0.00041755                              \n",
      "               <<y;y>>_0.3100 :    -26.14635902     -0.28434365j   Residual Norm: 0.00042040                              \n",
      "               <<y;y>>_0.3125 :    -26.30395007     -0.29049995j   Residual Norm: 0.00042311                              \n",
      "               <<y;y>>_0.3150 :    -26.46496293     -0.29683337j   Residual Norm: 0.00042569                              \n",
      "               <<y;y>>_0.3175 :    -26.62949654     -0.30335122j   Residual Norm: 0.00042810                              \n",
      "               <<y;y>>_0.3200 :    -26.79765395     -0.31006122j   Residual Norm: 0.00043034                              \n",
      "               <<y;y>>_0.3225 :    -26.96954254     -0.31697146j   Residual Norm: 0.00043239                              \n",
      "               <<y;y>>_0.3250 :    -27.14527424     -0.32409051j   Residual Norm: 0.00043423                              \n",
      "               <<y;y>>_0.3275 :    -27.32496578     -0.33142737j   Residual Norm: 0.00043584                              \n",
      "               <<y;y>>_0.3300 :    -27.50873893     -0.33899154j   Residual Norm: 0.00043721                              \n",
      "               <<z;z>>_0.2600 :     -7.96351507     -0.03015360j   Residual Norm: 0.00004857                              \n",
      "               <<z;z>>_0.2625 :     -7.98017850     -0.03060040j   Residual Norm: 0.00004894                              \n",
      "               <<z;z>>_0.2650 :     -7.99708867     -0.03105344j   Residual Norm: 0.00004940                              \n",
      "               <<z;z>>_0.2675 :     -8.01424905     -0.03151292j   Residual Norm: 0.00004995                              \n",
      "               <<z;z>>_0.2700 :     -8.03166323     -0.03197905j   Residual Norm: 0.00005060                              \n",
      "               <<z;z>>_0.2725 :     -8.04933491     -0.03245206j   Residual Norm: 0.00005135                              \n",
      "               <<z;z>>_0.2750 :     -8.06726791     -0.03293217j   Residual Norm: 0.00005221                              \n",
      "               <<z;z>>_0.2775 :     -8.08546619     -0.03341964j   Residual Norm: 0.00005319                              \n",
      "               <<z;z>>_0.2800 :     -8.10393384     -0.03391474j   Residual Norm: 0.00005429                              \n",
      "               <<z;z>>_0.2825 :     -8.12267512     -0.03441777j   Residual Norm: 0.00005551                              \n",
      "               <<z;z>>_0.2850 :     -8.14169446     -0.03492904j   Residual Norm: 0.00005687                              \n",
      "               <<z;z>>_0.2875 :     -8.16099644     -0.03544891j   Residual Norm: 0.00005838                              \n",
      "               <<z;z>>_0.2900 :     -8.18058586     -0.03597774j   Residual Norm: 0.00006003                              \n",
      "               <<z;z>>_0.2925 :     -8.20046773     -0.03651598j   Residual Norm: 0.00006184                              \n",
      "               <<z;z>>_0.2950 :     -8.22064730     -0.03706407j   Residual Norm: 0.00006381                              \n",
      "               <<z;z>>_0.2975 :     -8.24113010     -0.03762256j   Residual Norm: 0.00006595                              \n",
      "               <<z;z>>_0.3000 :     -8.26192193     -0.03819204j   Residual Norm: 0.00006828                              \n",
      "               <<z;z>>_0.3025 :     -8.28302894     -0.03877318j   Residual Norm: 0.00007079                              \n",
      "               <<z;z>>_0.3050 :     -8.30445768     -0.03936676j   Residual Norm: 0.00007350                              \n",
      "               <<z;z>>_0.3075 :     -8.32621513     -0.03997368j   Residual Norm: 0.00007641                              \n",
      "               <<z;z>>_0.3100 :     -8.34830879     -0.04059500j   Residual Norm: 0.00007953                              \n",
      "               <<z;z>>_0.3125 :     -8.37074674     -0.04123197j   Residual Norm: 0.00008287                              \n",
      "               <<z;z>>_0.3150 :     -8.39353781     -0.04188610j   Residual Norm: 0.00008644                              \n",
      "               <<z;z>>_0.3175 :     -8.41669167     -0.04255920j   Residual Norm: 0.00009025                              \n",
      "               <<z;z>>_0.3200 :     -8.44021902     -0.04325353j   Residual Norm: 0.00009430                              \n",
      "               <<z;z>>_0.3225 :     -8.46413186     -0.04397187j   Residual Norm: 0.00009860                              \n",
      "               <<z;z>>_0.3250 :     -8.48844375     -0.04471776j   Residual Norm: 0.00010316                              \n",
      "               <<z;z>>_0.3275 :     -8.51317026     -0.04549575j   Residual Norm: 0.00010800                              \n",
      "               <<z;z>>_0.3300 :     -8.53832953     -0.04631178j   Residual Norm: 0.00011310                              \n",
      "                                                                                                                          \n",
      "* Info * Processing Fock builds... (batch size: 15)                                                                       \n",
      "* Info *   batch 1/1                                                                                                      \n",
      "                                                                                                                          \n",
      "* Info * 41 gerade trial vectors in reduced space                                                                         \n",
      "* Info * 44 ungerade trial vectors in reduced space                                                                       \n",
      "                                                                                                                          \n",
      "* Info * 745.10 kB of memory used for subspace procedure on the master node                                               \n",
      "* Info * 6.10 GB of memory available for the solver on the master node                                                    \n",
      "                                                                                                                          \n",
      "               *** Iteration:   5 * Residuals (Max,Min): 9.86e-05 and 2.81e-05                                            \n",
      "                                                                                                                          \n",
      "               Operator:  electric dipole (xyz)                                                                           \n",
      "                                                                                                                          \n",
      "               <<x;x>>_0.2600 :    -97.35977275    -10.63837964j   Residual Norm: 0.00002830                              \n",
      "               <<x;x>>_0.2625 :   -103.40547797    -12.48712546j   Residual Norm: 0.00002864                              \n",
      "               <<x;x>>_0.2650 :   -110.49025670    -14.86185294j   Residual Norm: 0.00002898                              \n",
      "               <<x;x>>_0.2675 :   -118.89659327    -17.98023364j   Residual Norm: 0.00002931                              \n",
      "               <<x;x>>_0.2700 :   -129.01204852    -22.18325606j   Residual Norm: 0.00002964                              \n",
      "               <<x;x>>_0.2725 :   -141.37619020    -28.02744645j   Residual Norm: 0.00002997                              \n",
      "               <<x;x>>_0.2750 :   -156.74566581    -36.46575629j   Residual Norm: 0.00003029                              \n",
      "               <<x;x>>_0.2775 :   -176.16540917    -49.22378569j   Residual Norm: 0.00003061                              \n",
      "               <<x;x>>_0.2800 :   -200.95275009    -69.63089720j   Residual Norm: 0.00003092                              \n",
      "               <<x;x>>_0.2825 :   -232.10559073   -104.54088436j   Residual Norm: 0.00003124                              \n",
      "               <<x;x>>_0.2850 :   -266.72750955   -168.58186669j   Residual Norm: 0.00003155                              \n",
      "               <<x;x>>_0.2875 :   -280.76787715   -288.75204041j   Residual Norm: 0.00003186                              \n",
      "               <<x;x>>_0.2900 :   -180.99295732   -462.55001292j   Residual Norm: 0.00003217                              \n",
      "               <<x;x>>_0.2925 :     79.04348469   -492.77390446j   Residual Norm: 0.00003248                              \n",
      "               <<x;x>>_0.2950 :    222.53011493   -326.21669742j   Residual Norm: 0.00003279                              \n",
      "               <<x;x>>_0.2975 :    222.68825382   -189.78881748j   Residual Norm: 0.00003310                              \n",
      "               <<x;x>>_0.3000 :    189.10762406   -115.77758863j   Residual Norm: 0.00003341                              \n",
      "               <<x;x>>_0.3025 :    156.58886292    -75.95501973j   Residual Norm: 0.00003372                              \n",
      "               <<x;x>>_0.3050 :    130.38077581    -53.05607313j   Residual Norm: 0.00003403                              \n",
      "               <<x;x>>_0.3075 :    109.83885897    -38.94727573j   Residual Norm: 0.00003435                              \n",
      "               <<x;x>>_0.3100 :     93.62318296    -29.72803396j   Residual Norm: 0.00003466                              \n",
      "               <<x;x>>_0.3125 :     80.61798746    -23.40687177j   Residual Norm: 0.00003497                              \n",
      "               <<x;x>>_0.3150 :     70.00688816    -18.89909272j   Residual Norm: 0.00003529                              \n",
      "               <<x;x>>_0.3175 :     61.20737069    -15.57877061j   Residual Norm: 0.00003560                              \n",
      "               <<x;x>>_0.3200 :     53.80209803    -13.06630237j   Residual Norm: 0.00003592                              \n",
      "               <<x;x>>_0.3225 :     47.48796612    -11.12148094j   Residual Norm: 0.00003623                              \n",
      "               <<x;x>>_0.3250 :     42.04117154     -9.58667388j   Residual Norm: 0.00003655                              \n",
      "               <<x;x>>_0.3275 :     37.29366302     -8.35514184j   Residual Norm: 0.00003686                              \n",
      "               <<x;x>>_0.3300 :     33.11720540     -7.35261296j   Residual Norm: 0.00003717                              \n",
      "               <<y;y>>_0.2600 :    -23.58987134     -0.18972903j   Residual Norm: 0.00003192                              \n",
      "               <<y;y>>_0.2625 :    -23.69493966     -0.19345079j   Residual Norm: 0.00003255                              \n",
      "               <<y;y>>_0.2650 :    -23.80207146     -0.19725738j   Residual Norm: 0.00003319                              \n",
      "               <<y;y>>_0.2675 :    -23.91131400     -0.20115171j   Residual Norm: 0.00003383                              \n",
      "               <<y;y>>_0.2700 :    -24.02271618     -0.20513685j   Residual Norm: 0.00003448                              \n",
      "               <<y;y>>_0.2725 :    -24.13632862     -0.20921598j   Residual Norm: 0.00003514                              \n",
      "               <<y;y>>_0.2750 :    -24.25220369     -0.21339242j   Residual Norm: 0.00003580                              \n",
      "               <<y;y>>_0.2775 :    -24.37039566     -0.21766965j   Residual Norm: 0.00003646                              \n",
      "               <<y;y>>_0.2800 :    -24.49096070     -0.22205127j   Residual Norm: 0.00003712                              \n",
      "               <<y;y>>_0.2825 :    -24.61395703     -0.22654108j   Residual Norm: 0.00003778                              \n",
      "               <<y;y>>_0.2850 :    -24.73944499     -0.23114304j   Residual Norm: 0.00003845                              \n",
      "               <<y;y>>_0.2875 :    -24.86748711     -0.23586127j   Residual Norm: 0.00003911                              \n",
      "               <<y;y>>_0.2900 :    -24.99814826     -0.24070011j   Residual Norm: 0.00003977                              \n",
      "               <<y;y>>_0.2925 :    -25.13149572     -0.24566408j   Residual Norm: 0.00004043                              \n",
      "               <<y;y>>_0.2950 :    -25.26759930     -0.25075791j   Residual Norm: 0.00004108                              \n",
      "               <<y;y>>_0.2975 :    -25.40653147     -0.25598659j   Residual Norm: 0.00004173                              \n",
      "               <<y;y>>_0.3000 :    -25.54836748     -0.26135530j   Residual Norm: 0.00004237                              \n",
      "               <<y;y>>_0.3025 :    -25.69318549     -0.26686950j   Residual Norm: 0.00004300                              \n",
      "               <<y;y>>_0.3050 :    -25.84106672     -0.27253491j   Residual Norm: 0.00004362                              \n",
      "               <<y;y>>_0.3075 :    -25.99209560     -0.27835754j   Residual Norm: 0.00004423                              \n",
      "               <<y;y>>_0.3100 :    -26.14635992     -0.28434370j   Residual Norm: 0.00004483                              \n",
      "               <<y;y>>_0.3125 :    -26.30395100     -0.29050001j   Residual Norm: 0.00004541                              \n",
      "               <<y;y>>_0.3150 :    -26.46496389     -0.29683343j   Residual Norm: 0.00004596                              \n",
      "               <<y;y>>_0.3175 :    -26.62949753     -0.30335128j   Residual Norm: 0.00004650                              \n",
      "               <<y;y>>_0.3200 :    -26.79765498     -0.31006127j   Residual Norm: 0.00004701                              \n",
      "               <<y;y>>_0.3225 :    -26.96954360     -0.31697152j   Residual Norm: 0.00004749                              \n",
      "               <<y;y>>_0.3250 :    -27.14527534     -0.32409057j   Residual Norm: 0.00004795                              \n",
      "               <<y;y>>_0.3275 :    -27.32496690     -0.33142743j   Residual Norm: 0.00004836                              \n",
      "               <<y;y>>_0.3300 :    -27.50874009     -0.33899160j   Residual Norm: 0.00004874                              \n",
      "               <<z;z>>_0.3250 :     -8.48844375     -0.04471776j   Residual Norm: 0.00002807                              \n",
      "               <<z;z>>_0.3275 :     -8.51317026     -0.04549575j   Residual Norm: 0.00002915                              \n",
      "               <<z;z>>_0.3300 :     -8.53832953     -0.04631179j   Residual Norm: 0.00003016                              \n",
      "                                                                                                                          \n",
      "               *** Complex response converged in 5 iterations. Time: 1.21 sec                                             \n",
      "                                                                                                                          \n",
      "                                                                                                                          \n"
     ]
    }
   ],
   "source": [
    "cpp_drv = vlx.ComplexResponse()\n",
    "\n",
    "freqs = np.arange(0.26, 0.33, 0.0025)\n",
    "rsp_settings = {'frequencies': freqs}\n",
    "cpp_drv.update_settings(rsp_settings, method_settings)\n",
    "cpp_out = cpp_drv.compute(molecule, basis, scf_drv.scf_tensors)\n",
    "\n",
    "alpha_xx = []\n",
    "for freq in freqs:\n",
    "    alpha_xx.append(-cpp_out['response_functions'][('x', 'x', freq)])\n",
    "\n",
    "alpha_xx = np.array(alpha_xx)"
   ]
  },
  {
   "cell_type": "code",
   "execution_count": 72,
   "id": "6e6d342d-ad7e-47e2-83c8-4322a10346a0",
   "metadata": {
    "tags": [
     "remove-cell"
    ]
   },
   "outputs": [
    {
     "data": {
      "image/png": "[encoded data removed]",
      "text/plain": [
       "<Figure size 576x288 with 1 Axes>"
      ]
     },
     "metadata": {
      "needs_background": "light"
     },
     "output_type": "display_data"
    }
   ],
   "source": [
    "import matplotlib.pyplot as plt\n",
    "from scipy.interpolate import interp1d\n",
    "\n",
    "fig = plt.figure(1,figsize=(8,4))\n",
    "\n",
    "x = np.arange(0.26, 0.33, 0.001)\n",
    "yR = interp1d(freqs, alpha_xx.real, kind = 'cubic')\n",
    "yI = interp1d(freqs, alpha_xx.imag, kind = 'cubic')\n",
    "\n",
    "plt.plot(x, yI(x), 'b-', x, yR(x), 'r-')\n",
    "plt.plot(freqs, alpha_xx.real, 'ko', freqs, alpha_xx.imag, 'ko')\n",
    "\n",
    "plt.legend(['Imag', 'Real'])\n",
    "\n",
    "plt.axhline(y = 0, color = '0.5', linewidth = 0.7, dashes = [3,1,3,1])\n",
    "plt.setp(plt.gca(),xlim=(0.26,0.33))\n",
    "\n",
    "plt.ylabel('Polarizability (a.u.)')\n",
    "plt.xlabel('Frequency (a.u.)')\n",
    "\n",
    "plt.show()"
   ]
  },
  {
   "cell_type": "code",
   "execution_count": null,
   "id": "6ea7c2ab-22fb-4c30-a96a-5c6b87123e3e",
   "metadata": {},
   "outputs": [],
   "source": []
  }
 ],
 "metadata": {
  "kernelspec": {
   "display_name": "Python 3 (ipykernel)",
   "language": "python",
   "name": "python3"
  },
  "language_info": {
   "codemirror_mode": {
    "name": "ipython",
    "version": 3
   },
   "file_extension": ".py",
   "mimetype": "text/x-python",
   "name": "python",
   "nbconvert_exporter": "python",
   "pygments_lexer": "ipython3",
   "version": "3.9.15"
  }
 },
 "nbformat": 4,
 "nbformat_minor": 5
}
