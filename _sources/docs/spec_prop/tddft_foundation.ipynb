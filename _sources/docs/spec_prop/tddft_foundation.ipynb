{
 "cells": [
  {
   "cell_type": "markdown",
   "id": "4d84500c-41ac-4b9b-a5cd-452b2a66e3ca",
   "metadata": {},
   "source": [
    "# Foundations\n",
    "\n",
    "In Hartree--Fock and Kohn--Sham density functional theory, the reference state is described by a single Slater determinant, also referred to as the self-consistent field (SCF) approximation. The detailed derivation of response functions in this approximation can be found in {cite}`Norman2018`, but the key steps will be indicated below."
   ]
  },
  {
   "cell_type": "markdown",
   "id": "f931c69b-6ec6-47e4-88c3-23b325e30af2",
   "metadata": {
    "tags": []
   },
   "source": [
    "## Runge-Gross theorem\n",
    "\n",
    "The basics of TDDFT comes from the work of Work of [Runge and Gross](https://journals.aps.org/prl/abstract/10.1103/PhysRevLett.52.997), who presented a theory which underlies TDDFT:\n",
    "\n",
    "> For every single-particle potential $V(r,t)$, which can be expanded in a Taylor series around $t_0$, there exists a one-to-one mapping $G:V(r,t) \\rightarrow \\rho (r,t)$. This mapping is defined by solving the time-dependent Schrödinger equation with a fixed initial state $\\phi$ and calculating the corresponding densities $\\rho (r,t)$.\n",
    "\n",
    "They also presented schemes for practical schemes, the most important being:\n",
    "\n",
    "> The exact time-dependent density can be expressed as a sum over states: $\\rho (r,t) = \\sum | \\phi (r,t)|^2$\n",
    "\n",
    "We calculate time-dependent orbitals from:\n",
    "\n",
    "$$\n",
    "i \\frac{\\partial}{\\partial t} \\phi_i (r,t) = \\left( -\\frac{1}{2} \\nabla^2 + V_{\\textrm{eff}} (r,t) \\right) \\phi_i (r,t)\n",
    "$$\n",
    "\n",
    "This requires knowledge of exact time-dependent xc-functional, which is even less known than the ground-state correspondance.\n",
    "\n",
    "\n",
    "## Adiabatic approximation\n",
    "\n",
    "In the adiabatic approximation one siplifies the xc-functional as one which do not change over time, such that standard functionals can be used. This is a reasonable approximations for systems changing slowly in time, for which the time-dependence of the energy then changes through the time-dependence of the density.\n",
    "\n",
    "It can be note that the search for non-adiabatic functional may be somewhat futile, as it would technically require the solution of the full time-dependent Schrödinger equation, as [has](https://journals.aps.org/pra/abstract/10.1103/PhysRevA.75.022513) [been](https://journals.aps.org/pra/abstract/10.1103/PhysRevA.78.056501) [discussed](https://journals.aps.org/pra/abstract/10.1103/PhysRevA.78.056502)."
   ]
  },
  {
   "cell_type": "code",
   "execution_count": null,
   "id": "f80afa23-d635-4fcb-b97f-31a241bba51d",
   "metadata": {},
   "outputs": [],
   "source": []
  }
 ],
 "metadata": {
  "kernelspec": {
   "display_name": "Python 3 (ipykernel)",
   "language": "python",
   "name": "python3"
  },
  "language_info": {
   "codemirror_mode": {
    "name": "ipython",
    "version": 3
   },
   "file_extension": ".py",
   "mimetype": "text/x-python",
   "name": "python",
   "nbconvert_exporter": "python",
   "pygments_lexer": "ipython3",
   "version": "3.10.12"
  }
 },
 "nbformat": 4,
 "nbformat_minor": 5
}
