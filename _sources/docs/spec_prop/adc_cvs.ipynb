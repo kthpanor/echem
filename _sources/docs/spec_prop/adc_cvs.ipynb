{
 "cells": [
  {
   "cell_type": "markdown",
   "id": "816f09b7",
   "metadata": {},
   "source": [
    "(cvs:label)=\n",
    "# Core-valence separation\n",
    "\n",
    "One way to reach the space of core-excitations (and thus be able to compute, for example, X-ray absorption spectra), without having to deal with an intractably large ADC matrix is provided by the core-valence separation (CVS) approximation. CVS is obtained by decoupling the core and valence excitation spaces and is motivated by the large energy separation between them {cite}`cederbaum1980`. Essentially, it consists of applying only excitation operators that involve one core electron -- see (a) and (b) in below figure. This translates into keeping only those blocks of the ADC matrix which include one core orbital (c) and significantly reduces the size of the matrix to be diagonalized (d). The error introduced by this approximation is small and system independent {cite}`Herbst2020`.\n",
    "\n",
    "Illustration of the (a) single excitations and (b) double excitations involved in the CVS approximation. (c) Schematic representation of the full ADC(2) matrix and (d) the size reduction achieved by the CVS approximation.\n",
    "\n",
    "```{figure} ../../img/adc/cvs_adc_matrix.png\n",
    "---\n",
    "name: cvs_adc_matrix\n",
    "align: center\n",
    "---\n",
    "```\n",
    "\n",
    "The CVS approximation allows the computation of [X-ray spectroscopies](../tutorials/xray.ipynb), which are important techniques for the characterisation of materials, providing element-specific probes sensitive to the local environment. In the remaining of this section we will introduce [X-ray absorption spectroscopy](sec:xray_calc_xas) (XAS) and review some of its features. For a more in-depth discussion see Refs. {cite}`Stohr1992` and {cite}`xrayrev2018`.\n",
    "\n",
    "The absorption of soft X-ray electromagnetic radiation by a molecular system results in electronic excitation between core initial electronic states (localized and atomic-like) and final states that are more delocalized, and sometimes continuum-like. A schematic and simplified illustration of this process, alongside the corresponding XAS spectrum is shown below. Here (a) shows a schematic potential and (b) schematic representation of the C K-edge X-ray absorption spectrum for the dichloroethylene molecule (adapted from Ref. {cite}`Stohr1992`, Fig. 4.2.).\n",
    "\n",
    "```{figure} ../../img/adc/xas.png\n",
    "---\n",
    "name: xas_illustration_adc\n",
    "align: center\n",
    "---\n",
    "\n",
    "```\n",
    "\n",
    "The core-level binding energies of 1s electrons are element-specific, with very large energy separations between different elements, e.g. $\\sim$290 eV (C), $\\sim$400 eV (N), and $\\sim$500 eV (O). Additionally, atoms of the same species placed in different chemical environments have binding energies which differ by a few electron-volts. This means that absorption peaks corresponding to transitions from chemically inequivalent atoms will occur at different photon energies. The separation between these peaks is called [chemical shift](sec:xray_ex_chem) and it enables the use of XAS for chemical analysis and materials characterization. \n",
    "\n",
    "In the case of core-excitations, electron--electron correlation and the presence of the core-hole influence the excitation energies and transition probabilities. These [relaxation effects](sec:xray_topics_relax) are present also in the case of valence-excitations, but they are more pronounced in the case of core-excitations. This is due the presence of a localized core-hole, which leads to a strong net attraction of the electron density towards the probed atom. In addition, the interaction with the excited electron creates a small repulsive polarisation effect in the valence region. Both these two counteracting effects need to be accounted for in order to accurately model XAS. At the ADC level of theory, this is achieved by including at least doubly excited configurations in the construction of the ADC matrix. "
   ]
  },
  {
   "cell_type": "code",
   "execution_count": null,
   "id": "47a5fa74-97c7-444d-8012-cd898f6ae0a5",
   "metadata": {},
   "outputs": [],
   "source": []
  }
 ],
 "metadata": {
  "kernelspec": {
   "display_name": "Python 3 (ipykernel)",
   "language": "python",
   "name": "python3"
  },
  "language_info": {
   "codemirror_mode": {
    "name": "ipython",
    "version": 3
   },
   "file_extension": ".py",
   "mimetype": "text/x-python",
   "name": "python",
   "nbconvert_exporter": "python",
   "pygments_lexer": "ipython3",
   "version": "3.10.11"
  }
 },
 "nbformat": 4,
 "nbformat_minor": 5
}
