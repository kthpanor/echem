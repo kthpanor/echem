{
 "cells": [
  {
   "cell_type": "markdown",
   "id": "82a99743-db37-4e5e-bc1d-be3c9e5ea9d1",
   "metadata": {},
   "source": [
    "# Spin-flip"
   ]
  }
 ],
 "metadata": {
  "kernelspec": {
   "display_name": "Python 3 (ipykernel)",
   "language": "python",
   "name": "python3"
  },
  "language_info": {
   "codemirror_mode": {
    "name": "ipython",
    "version": 3
   },
   "file_extension": ".py",
   "mimetype": "text/x-python",
   "name": "python",
   "nbconvert_exporter": "python",
   "pygments_lexer": "ipython3",
   "version": "3.10.12"
  }
 },
 "nbformat": 4,
 "nbformat_minor": 5
}
