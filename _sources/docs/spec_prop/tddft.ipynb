{
 "cells": [
  {
   "cell_type": "markdown",
   "id": "5fab0c09-0717-477e-b173-2ff05fa5942a",
   "metadata": {},
   "source": [
    "(sec:tddft)=\n",
    "# TDDFT\n",
    "\n",
    "This part considers the underlying theory and practical aspects of time-dependent density functional theory (TDDFT) and time-dependent Hartree--Fock (TDHF), including:\n",
    "\n",
    "- The [foundations](tddft_basics) of these theories\n",
    "- The [calculation of spectra](tddft_rpa), including a discussion on the random phase approximation (RPA) and Tamm-Dancoff approximation (TDA)\n",
    "- [Exercises](tddft_exercises), with a discussion on the many challenges of TDDFT\n",
    "\n",
    "This is currently being worked on, and a thorough discussion on single-reference methods can be found [here](https://pubs.acs.org/doi/10.1021/cr0505627)."
   ]
  },
  {
   "cell_type": "code",
   "execution_count": null,
   "id": "4504aedb-35d5-43f1-8aa1-d873d48c3fef",
   "metadata": {},
   "outputs": [],
   "source": []
  }
 ],
 "metadata": {
  "kernelspec": {
   "display_name": "Python 3 (ipykernel)",
   "language": "python",
   "name": "python3"
  },
  "language_info": {
   "codemirror_mode": {
    "name": "ipython",
    "version": 3
   },
   "file_extension": ".py",
   "mimetype": "text/x-python",
   "name": "python",
   "nbconvert_exporter": "python",
   "pygments_lexer": "ipython3",
   "version": "3.9.15"
  }
 },
 "nbformat": 4,
 "nbformat_minor": 5
}
