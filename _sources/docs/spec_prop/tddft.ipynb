{
 "cells": [
  {
   "cell_type": "markdown",
   "id": "5fab0c09-0717-477e-b173-2ff05fa5942a",
   "metadata": {},
   "source": [
    "(sec:tddft)=\n",
    "# TDDFT\n",
    "\n",
    "This part considers the underlying theory and practical aspects of time-dependent density functional theory (TDDFT) and time-dependent Hartree--Fock (TDHF), including:\n",
    "\n",
    "- The [foundations](tddft_foundation) of these theories\n",
    "- The [linear response](tddft_linear_response) formulation of TDDFT/TDHF, most commonly used to calculated excited states\n",
    "- Various aspects of [excited state](tddft_excited_states) calculations, including:\n",
    "    - Computing [eigenstates](tddft_eigenstates), thus obtaining transition energies and intensities\n",
    "    - The [Tamm-Dancoff](tddft_tda) approximation (TDA)\n",
    "    - The [core-valence separation](tddft_cvs), used for calculating X-ray absorption spectra\n",
    "- The challenge of [charge transfer (CT)](tddft_charge_transfer) states\n",
    "\n",
    "This is currently being worked on, and a thorough discussion on single-reference methods can be found [here](https://pubs.acs.org/doi/10.1021/cr0505627)."
   ]
  },
  {
   "cell_type": "code",
   "execution_count": null,
   "id": "4504aedb-35d5-43f1-8aa1-d873d48c3fef",
   "metadata": {},
   "outputs": [],
   "source": []
  }
 ],
 "metadata": {
  "kernelspec": {
   "display_name": "Python 3 (ipykernel)",
   "language": "python",
   "name": "python3"
  },
  "language_info": {
   "codemirror_mode": {
    "name": "ipython",
    "version": 3
   },
   "file_extension": ".py",
   "mimetype": "text/x-python",
   "name": "python",
   "nbconvert_exporter": "python",
   "pygments_lexer": "ipython3",
   "version": "3.10.12"
  }
 },
 "nbformat": 4,
 "nbformat_minor": 5
}
