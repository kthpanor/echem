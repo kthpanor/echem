{
 "cells": [
  {
   "cell_type": "markdown",
   "id": "2b311221-42be-42d4-a354-2648605d3a6c",
   "metadata": {
    "editable": true,
    "slideshow": {
     "slide_type": ""
    },
    "tags": []
   },
   "source": [
    "# Selection rules"
   ]
  },
  {
   "cell_type": "markdown",
   "id": "781129c6-5ace-4b08-907f-aa63cbd0e8a7",
   "metadata": {
    "editable": true,
    "slideshow": {
     "slide_type": ""
    },
    "tags": []
   },
   "source": [
    "Spectrum intensities are proportional to the square modulus of transition moments\n",
    "\n",
    "$$\n",
    "\\sigma_{f\\leftarrow i} \\propto\n",
    "\\left| \n",
    "\\langle \\Psi_f | \\hat{\\Omega} | \\Psi_i \\rangle \n",
    "\\right|^2\n",
    "$$\n",
    "\n",
    "where quantum mechanical operator $\\hat{\\Omega}$ provides the coupling between the molecular system and the external electromagnetic fields. Examples of such coupling operators are the electric and magnetic dipole moments operators and the electric quadrupole moment operator. \n",
    "\n",
    "The study of the symmetry groups of molecular systems have immediate and powerful practical consequences. Specifically, we can predict when transition moments (and therefore also spectrum intensities) are zero due to reasons of symmetry. Such analyses are based on the result that an integral such as the transition moment is nonzero if and only if the direct product of the irreducible representations involved is equal to the all-symmetric representation\n",
    "\n",
    "$$\n",
    "\\Gamma(\\Psi_f) \\otimes\n",
    "\\Gamma(\\hat{\\Omega}) \\otimes\n",
    "\\Gamma(\\Psi_i) = \\Gamma(\\hat{I})\n",
    "$$"
   ]
  },
  {
   "cell_type": "markdown",
   "id": "3602a525-6f4a-406a-8a3b-c4810dd9119f",
   "metadata": {
    "editable": true,
    "slideshow": {
     "slide_type": ""
    },
    "tags": []
   },
   "source": [
    "Let us view a simple and concrete example how symmetry can be used to determine a few selection rules for electric- and magnetic-field induced transitions of a $\\pi$-stacked system. We will use the ethylene dimer with a separation distance of 4 Å as an illustration. "
   ]
  },
  {
   "cell_type": "code",
   "execution_count": 1,
   "id": "c72ea380-4585-4a28-beca-7dd06b5da804",
   "metadata": {
    "editable": true,
    "scrolled": true,
    "slideshow": {
     "slide_type": ""
    },
    "tags": [
     "hide-input"
    ]
   },
   "outputs": [],
   "source": [
    "dimer_xyz = \"\"\"12\n",
    "\n",
    "C        0.67759997    0.00000000   -2.00000000\n",
    "C       -0.67759997    0.00000000   -2.00000000\n",
    "H        1.21655197    0.92414474   -2.00000000\n",
    "H        1.21655197   -0.92414474   -2.00000000\n",
    "H       -1.21655197   -0.92414474   -2.00000000\n",
    "H       -1.21655197    0.92414474   -2.00000000\n",
    "C        0.67759997    0.00000000    2.00000000\n",
    "C       -0.67759997    0.00000000    2.00000000\n",
    "H        1.21655197    0.92414474    2.00000000\n",
    "H        1.21655197   -0.92414474    2.00000000\n",
    "H       -1.21655197   -0.92414474    2.00000000\n",
    "H       -1.21655197    0.92414474    2.00000000\"\"\""
   ]
  },
  {
   "cell_type": "code",
   "execution_count": 2,
   "id": "364da8ba-28d1-4bb1-ba18-d68b277d5003",
   "metadata": {
    "editable": true,
    "slideshow": {
     "slide_type": ""
    },
    "tags": [
     "remove-input"
    ]
   },
   "outputs": [
    {
     "data": {
      "application/3dmoljs_load.v0": "<div id=\"3dmolviewer_1699276492591528\"  style=\"position: relative; width: 400px; height: 300px;\">\n        <p id=\"3dmolwarning_1699276492591528\" style=\"background-color:#ffcccc;color:black\">You appear to be running in JupyterLab (or JavaScript failed to load for some other reason).  You need to install the 3dmol extension: <br>\n        <tt>jupyter labextension install jupyterlab_3dmol</tt></p>\n        </div>\n<script>\n\nvar loadScriptAsync = function(uri){\n  return new Promise((resolve, reject) => {\n    //this is to ignore the existence of requirejs amd\n    var savedexports, savedmodule;\n    if (typeof exports !== 'undefined') savedexports = exports;\n    else exports = {}\n    if (typeof module !== 'undefined') savedmodule = module;\n    else module = {}\n\n    var tag = document.createElement('script');\n    tag.src = uri;\n    tag.async = true;\n    tag.onload = () => {\n        exports = savedexports;\n        module = savedmodule;\n        resolve();\n    };\n  var firstScriptTag = document.getElementsByTagName('script')[0];\n  firstScriptTag.parentNode.insertBefore(tag, firstScriptTag);\n});\n};\n\nif(typeof $3Dmolpromise === 'undefined') {\n$3Dmolpromise = null;\n  $3Dmolpromise = loadScriptAsync('https://cdnjs.cloudflare.com/ajax/libs/3Dmol/2.0.4/3Dmol-min.js');\n}\n\nvar viewer_1699276492591528 = null;\nvar warn = document.getElementById(\"3dmolwarning_1699276492591528\");\nif(warn) {\n    warn.parentNode.removeChild(warn);\n}\n$3Dmolpromise.then(function() {\nviewer_1699276492591528 = $3Dmol.createViewer(document.getElementById(\"3dmolviewer_1699276492591528\"),{backgroundColor:\"white\"});\nviewer_1699276492591528.zoomTo();\n\tviewer_1699276492591528.addModel(\"12\\n\\nC        0.67759997    0.00000000   -2.00000000\\nC       -0.67759997    0.00000000   -2.00000000\\nH        1.21655197    0.92414474   -2.00000000\\nH        1.21655197   -0.92414474   -2.00000000\\nH       -1.21655197   -0.92414474   -2.00000000\\nH       -1.21655197    0.92414474   -2.00000000\\nC        0.67759997    0.00000000    2.00000000\\nC       -0.67759997    0.00000000    2.00000000\\nH        1.21655197    0.92414474    2.00000000\\nH        1.21655197   -0.92414474    2.00000000\\nH       -1.21655197   -0.92414474    2.00000000\\nH       -1.21655197    0.92414474    2.00000000\");\n\tviewer_1699276492591528.setStyle({\"stick\": {}, \"sphere\": {\"scale\": 0.25}});\n\tviewer_1699276492591528.rotate(-90,\"x\");\nviewer_1699276492591528.render();\n});\n</script>",
      "text/html": [
       "<div id=\"3dmolviewer_1699276492591528\"  style=\"position: relative; width: 400px; height: 300px;\">\n",
       "        <p id=\"3dmolwarning_1699276492591528\" style=\"background-color:#ffcccc;color:black\">You appear to be running in JupyterLab (or JavaScript failed to load for some other reason).  You need to install the 3dmol extension: <br>\n",
       "        <tt>jupyter labextension install jupyterlab_3dmol</tt></p>\n",
       "        </div>\n",
       "<script>\n",
       "\n",
       "var loadScriptAsync = function(uri){\n",
       "  return new Promise((resolve, reject) => {\n",
       "    //this is to ignore the existence of requirejs amd\n",
       "    var savedexports, savedmodule;\n",
       "    if (typeof exports !== 'undefined') savedexports = exports;\n",
       "    else exports = {}\n",
       "    if (typeof module !== 'undefined') savedmodule = module;\n",
       "    else module = {}\n",
       "\n",
       "    var tag = document.createElement('script');\n",
       "    tag.src = uri;\n",
       "    tag.async = true;\n",
       "    tag.onload = () => {\n",
       "        exports = savedexports;\n",
       "        module = savedmodule;\n",
       "        resolve();\n",
       "    };\n",
       "  var firstScriptTag = document.getElementsByTagName('script')[0];\n",
       "  firstScriptTag.parentNode.insertBefore(tag, firstScriptTag);\n",
       "});\n",
       "};\n",
       "\n",
       "if(typeof $3Dmolpromise === 'undefined') {\n",
       "$3Dmolpromise = null;\n",
       "  $3Dmolpromise = loadScriptAsync('https://cdnjs.cloudflare.com/ajax/libs/3Dmol/2.0.4/3Dmol-min.js');\n",
       "}\n",
       "\n",
       "var viewer_1699276492591528 = null;\n",
       "var warn = document.getElementById(\"3dmolwarning_1699276492591528\");\n",
       "if(warn) {\n",
       "    warn.parentNode.removeChild(warn);\n",
       "}\n",
       "$3Dmolpromise.then(function() {\n",
       "viewer_1699276492591528 = $3Dmol.createViewer(document.getElementById(\"3dmolviewer_1699276492591528\"),{backgroundColor:\"white\"});\n",
       "viewer_1699276492591528.zoomTo();\n",
       "\tviewer_1699276492591528.addModel(\"12\\n\\nC        0.67759997    0.00000000   -2.00000000\\nC       -0.67759997    0.00000000   -2.00000000\\nH        1.21655197    0.92414474   -2.00000000\\nH        1.21655197   -0.92414474   -2.00000000\\nH       -1.21655197   -0.92414474   -2.00000000\\nH       -1.21655197    0.92414474   -2.00000000\\nC        0.67759997    0.00000000    2.00000000\\nC       -0.67759997    0.00000000    2.00000000\\nH        1.21655197    0.92414474    2.00000000\\nH        1.21655197   -0.92414474    2.00000000\\nH       -1.21655197   -0.92414474    2.00000000\\nH       -1.21655197    0.92414474    2.00000000\");\n",
       "\tviewer_1699276492591528.setStyle({\"stick\": {}, \"sphere\": {\"scale\": 0.25}});\n",
       "\tviewer_1699276492591528.rotate(-90,\"x\");\n",
       "viewer_1699276492591528.render();\n",
       "});\n",
       "</script>"
      ]
     },
     "metadata": {},
     "output_type": "display_data"
    }
   ],
   "source": [
    "import py3Dmol\n",
    "\n",
    "viewer = py3Dmol.view(width=400, height=300)\n",
    "\n",
    "viewer.addModel(dimer_xyz)\n",
    "viewer.setStyle({\"stick\": {}, \"sphere\": {\"scale\": 0.25}})\n",
    "\n",
    "# rotate for a better initial view\n",
    "viewer.rotate(-90, \"x\")\n",
    "\n",
    "viewer.show()"
   ]
  },
  {
   "cell_type": "markdown",
   "id": "29c66a27-96ab-42cf-ac6b-a0d836fa24f9",
   "metadata": {
    "editable": true,
    "slideshow": {
     "slide_type": ""
    },
    "tags": []
   },
   "source": [
    "This system belong to the $D_{2h}$ point group with eight irreducible representations presented in the [character table](character_table_d2h).\n",
    "\n",
    "The ground (or initial) state is closed-shell in nature and we thus have\n",
    "\n",
    "$$\n",
    "\\Gamma(\\Psi_i) = A_g\n",
    "$$\n",
    "\n",
    "We start be performing an SCF optimization of this ground state at the DFT level of theory and using the `BHANDHLYP` functional to view the molecular orbitals (MOs) and, more, specifically, their symmetry character. "
   ]
  },
  {
   "cell_type": "code",
   "execution_count": 3,
   "id": "349f5f46-7b10-4687-989e-e49656fb9783",
   "metadata": {
    "editable": true,
    "slideshow": {
     "slide_type": ""
    },
    "tags": [
     "remove-output"
    ]
   },
   "outputs": [
    {
     "name": "stdout",
     "output_type": "stream",
     "text": [
      "* Warning * Environment variable OMP_NUM_THREADS not set.\n",
      "* Warning * Setting OMP_NUM_THREADS to 4.\n"
     ]
    }
   ],
   "source": [
    "import veloxchem as vlx"
   ]
  },
  {
   "cell_type": "code",
   "execution_count": 4,
   "id": "335fcf6c-bd5d-4501-acb8-1e6e79715970",
   "metadata": {
    "editable": true,
    "scrolled": true,
    "slideshow": {
     "slide_type": ""
    },
    "tags": [
     "remove-output"
    ]
   },
   "outputs": [
    {
     "name": "stdout",
     "output_type": "stream",
     "text": [
      "                                                                                                                          \n",
      "                                            Self Consistent Field Driver Setup                                            \n",
      "                                           ====================================                                           \n",
      "                                                                                                                          \n",
      "                   Wave Function Model             : Spin-Restricted Kohn-Sham                                            \n",
      "                   Initial Guess Model             : Superposition of Atomic Densities                                    \n",
      "                   Convergence Accelerator         : Two Level Direct Inversion of Iterative Subspace                     \n",
      "                   Max. Number of Iterations       : 50                                                                   \n",
      "                   Max. Number of Error Vectors    : 10                                                                   \n",
      "                   Convergence Threshold           : 1.0e-06                                                              \n",
      "                   ERI Screening Scheme            : Cauchy Schwarz + Density                                             \n",
      "                   ERI Screening Mode              : Dynamic                                                              \n",
      "                   ERI Screening Threshold         : 1.0e-12                                                              \n",
      "                   Linear Dependence Threshold     : 1.0e-06                                                              \n",
      "                   Exchange-Correlation Functional : BHANDHLYP                                                            \n",
      "                   Molecular Grid Level            : 4                                                                    \n",
      "                                                                                                                          \n",
      "* Info * Nuclear repulsion energy: 98.7986378861 a.u.                                                                     \n",
      "                                                                                                                          \n",
      "* Info * Molecular grid with 155212 points generated in 0.14 sec.                                                         \n",
      "                                                                                                                          \n",
      "* Info * Overlap matrix computed in 0.00 sec.                                                                             \n",
      "                                                                                                                          \n",
      "* Info * Kinetic energy matrix computed in 0.00 sec.                                                                      \n",
      "                                                                                                                          \n",
      "* Info * Nuclear potential matrix computed in 0.00 sec.                                                                   \n",
      "                                                                                                                          \n",
      "* Info * Orthogonalization matrix computed in 0.00 sec.                                                                   \n",
      "                                                                                                                          \n",
      "* Info * SAD initial guess computed in 0.00 sec.                                                                          \n",
      "                                                                                                                          \n",
      "* Info * Starting Reduced Basis SCF calculation...                                                                        \n",
      "* Info * ...done. SCF energy in reduced basis set: -156.004087235563 a.u. Time: 0.42 sec.                                 \n",
      "                                                                                                                          \n",
      "* Info * Overlap matrix computed in 0.00 sec.                                                                             \n",
      "                                                                                                                          \n",
      "* Info * Kinetic energy matrix computed in 0.00 sec.                                                                      \n",
      "                                                                                                                          \n",
      "* Info * Nuclear potential matrix computed in 0.00 sec.                                                                   \n",
      "                                                                                                                          \n",
      "* Info * Orthogonalization matrix computed in 0.00 sec.                                                                   \n",
      "                                                                                                                          \n",
      "                                                                                                                          \n",
      "               Iter. |    Kohn-Sham Energy | Energy Change | Gradient Norm | Max. Gradient | Density Change               \n",
      "               --------------------------------------------------------------------------------------------               \n",
      "                  1      -157.016494287843    0.0000000000      0.08283796      0.00960263      0.00000000                \n",
      "                  2      -157.017252689398   -0.0007584016      0.03966475      0.00462018      0.04452689                \n",
      "                  3      -157.017474514855   -0.0002218255      0.00085760      0.00018303      0.01209075                \n",
      "                  4      -157.017474761384   -0.0000002465      0.00004121      0.00000525      0.00080040                \n",
      "                  5      -157.017474761740   -0.0000000004      0.00000284      0.00000043      0.00004385                \n",
      "                  6      -157.017474761742   -0.0000000000      0.00000027      0.00000003      0.00000287                \n",
      "                                                                                                                          \n",
      "               *** SCF converged in 6 iterations. Time: 1.83 sec.                                                         \n",
      "                                                                                                                          \n",
      "               Spin-Restricted Kohn-Sham:                                                                                 \n",
      "               --------------------------                                                                                 \n",
      "               Total Energy                       :     -157.0174747617 a.u.                                              \n",
      "               Electronic Energy                  :     -255.8161126478 a.u.                                              \n",
      "               Nuclear Repulsion Energy           :       98.7986378861 a.u.                                              \n",
      "               ------------------------------------                                                                       \n",
      "               Gradient Norm                      :        0.0000002698 a.u.                                              \n",
      "                                                                                                                          \n",
      "                                                                                                                          \n",
      "               Ground State Information                                                                                   \n",
      "               ------------------------                                                                                   \n",
      "               Charge of Molecule            :  0.0                                                                       \n",
      "               Multiplicity (2S+1)           :  1.0                                                                       \n",
      "               Magnetic Quantum Number (M_S) :  0.0                                                                       \n",
      "                                                                                                                          \n",
      "                                                                                                                          \n",
      "                                                 Spin Restricted Orbitals                                                 \n",
      "                                                 ------------------------                                                 \n",
      "                                                                                                                          \n",
      "               Molecular Orbital No.  12:                                                                                 \n",
      "               --------------------------                                                                                 \n",
      "               Occupation: 2.000 Energy:   -0.47753 a.u.                                                                  \n",
      "               (   1 C   1p+1:     0.30) (   2 C   1p+1:    -0.30) (   7 C   1p+1:    -0.30)                              \n",
      "               (   8 C   1p+1:     0.30)                                                                                  \n",
      "                                                                                                                          \n",
      "               Molecular Orbital No.  13:                                                                                 \n",
      "               --------------------------                                                                                 \n",
      "               Occupation: 2.000 Energy:   -0.42257 a.u.                                                                  \n",
      "               (   1 C   1p-1:     0.22) (   2 C   1p-1:    -0.22) (   7 C   1p-1:     0.22)                              \n",
      "               (   8 C   1p-1:    -0.22)                                                                                  \n",
      "                                                                                                                          \n",
      "               Molecular Orbital No.  14:                                                                                 \n",
      "               --------------------------                                                                                 \n",
      "               Occupation: 2.000 Energy:   -0.42151 a.u.                                                                  \n",
      "               (   1 C   1p-1:     0.22) (   2 C   1p-1:    -0.22) (   7 C   1p-1:    -0.22)                              \n",
      "               (   8 C   1p-1:     0.22)                                                                                  \n",
      "                                                                                                                          \n",
      "               Molecular Orbital No.  15:                                                                                 \n",
      "               --------------------------                                                                                 \n",
      "               Occupation: 2.000 Energy:   -0.31495 a.u.                                                                  \n",
      "               (   1 C   1p0 :     0.27) (   1 C   2p0 :     0.21) (   2 C   1p0 :     0.27)                              \n",
      "               (   2 C   2p0 :     0.21) (   7 C   1p0 :    -0.27) (   7 C   2p0 :    -0.21)                              \n",
      "               (   8 C   1p0 :    -0.27) (   8 C   2p0 :    -0.21)                                                        \n",
      "                                                                                                                          \n",
      "               Molecular Orbital No.  16:                                                                                 \n",
      "               --------------------------                                                                                 \n",
      "               Occupation: 2.000 Energy:   -0.29784 a.u.                                                                  \n",
      "               (   1 C   1p0 :     0.29) (   1 C   2p0 :     0.21) (   2 C   1p0 :     0.29)                              \n",
      "               (   2 C   2p0 :     0.21) (   7 C   1p0 :     0.29) (   7 C   2p0 :     0.21)                              \n",
      "               (   8 C   1p0 :     0.29) (   8 C   2p0 :     0.21)                                                        \n",
      "                                                                                                                          \n",
      "               Molecular Orbital No.  17:                                                                                 \n",
      "               --------------------------                                                                                 \n",
      "               Occupation: 0.000 Energy:    0.05856 a.u.                                                                  \n",
      "               (   1 C   1p0 :     0.27) (   1 C   2p0 :     0.47) (   2 C   1p0 :    -0.27)                              \n",
      "               (   2 C   2p0 :    -0.47) (   7 C   1p0 :    -0.27) (   7 C   2p0 :    -0.47)                              \n",
      "               (   8 C   1p0 :     0.27) (   8 C   2p0 :     0.47)                                                        \n",
      "                                                                                                                          \n",
      "               Molecular Orbital No.  18:                                                                                 \n",
      "               --------------------------                                                                                 \n",
      "               Occupation: 0.000 Energy:    0.08051 a.u.                                                                  \n",
      "               (   1 C   1p0 :     0.29) (   1 C   2p0 :     0.46) (   2 C   1p0 :    -0.29)                              \n",
      "               (   2 C   2p0 :    -0.46) (   7 C   1p0 :     0.29) (   7 C   2p0 :     0.46)                              \n",
      "               (   8 C   1p0 :    -0.29) (   8 C   2p0 :    -0.46)                                                        \n",
      "                                                                                                                          \n",
      "               Molecular Orbital No.  19:                                                                                 \n",
      "               --------------------------                                                                                 \n",
      "               Occupation: 0.000 Energy:    0.16490 a.u.                                                                  \n",
      "               (   1 C   3s  :     1.01) (   1 C   2p+1:     0.42) (   2 C   3s  :     1.01)                              \n",
      "               (   2 C   2p+1:    -0.42) (   3 H   2s  :    -0.71) (   4 H   2s  :    -0.71)                              \n",
      "               (   5 H   2s  :    -0.71) (   6 H   2s  :    -0.71) (   7 C   3s  :     1.01)                              \n",
      "               (   7 C   2p+1:     0.42) (   8 C   3s  :     1.01) (   8 C   2p+1:    -0.42)                              \n",
      "               (   9 H   2s  :    -0.71) (  10 H   2s  :    -0.71) (  11 H   2s  :    -0.71)                              \n",
      "               (  12 H   2s  :    -0.71)                                                                                  \n",
      "                                                                                                                          \n",
      "               Molecular Orbital No.  20:                                                                                 \n",
      "               --------------------------                                                                                 \n",
      "               Occupation: 0.000 Energy:    0.17584 a.u.                                                                  \n",
      "               (   1 C   3s  :    -1.02) (   1 C   2p+1:    -0.42) (   2 C   3s  :    -1.02)                              \n",
      "               (   2 C   2p+1:     0.42) (   3 H   2s  :     0.71) (   4 H   2s  :     0.71)                              \n",
      "               (   5 H   2s  :     0.71) (   6 H   2s  :     0.71) (   7 C   3s  :     1.02)                              \n",
      "               (   7 C   2p+1:     0.42) (   8 C   3s  :     1.02) (   8 C   2p+1:    -0.42)                              \n",
      "               (   9 H   2s  :    -0.71) (  10 H   2s  :    -0.71) (  11 H   2s  :    -0.71)                              \n",
      "               (  12 H   2s  :    -0.71)                                                                                  \n",
      "                                                                                                                          \n",
      "               Molecular Orbital No.  21:                                                                                 \n",
      "               --------------------------                                                                                 \n",
      "               Occupation: 0.000 Energy:    0.19539 a.u.                                                                  \n",
      "               (   1 C   1p-1:     0.20) (   1 C   2p-1:     0.56) (   2 C   1p-1:     0.20)                              \n",
      "               (   2 C   2p-1:     0.56) (   3 H   2s  :    -0.77) (   4 H   2s  :     0.77)                              \n",
      "               (   5 H   2s  :     0.77) (   6 H   2s  :    -0.77) (   7 C   1p-1:     0.20)                              \n",
      "               (   7 C   2p-1:     0.56) (   8 C   1p-1:     0.20) (   8 C   2p-1:     0.56)                              \n",
      "               (   9 H   2s  :    -0.77) (  10 H   2s  :     0.77) (  11 H   2s  :     0.77)                              \n",
      "               (  12 H   2s  :    -0.77)                                                                                  \n",
      "                                                                                                                          \n"
     ]
    }
   ],
   "source": [
    "scf_drv = vlx.ScfRestrictedDriver()\n",
    "\n",
    "molecule = vlx.Molecule.read_xyz_string(dimer_xyz)\n",
    "basis = vlx.MolecularBasis.read(molecule, \"6-31g\", ostream=None)\n",
    "\n",
    "scf_drv.xcfun = \"bhandhlyp\"\n",
    "scf_results = scf_drv.compute(molecule, basis)"
   ]
  },
  {
   "cell_type": "code",
   "execution_count": 5,
   "id": "d8c0cf35-b677-49ee-a9e5-56d651392a21",
   "metadata": {
    "editable": true,
    "slideshow": {
     "slide_type": ""
    },
    "tags": []
   },
   "outputs": [
    {
     "data": {
      "application/vnd.jupyter.widget-view+json": {
       "model_id": "a894c230b9d14ed7b69a30be13d221af",
       "version_major": 2,
       "version_minor": 0
      },
      "text/plain": [
       "Output()"
      ]
     },
     "metadata": {},
     "output_type": "display_data"
    },
    {
     "data": {
      "application/vnd.jupyter.widget-view+json": {
       "model_id": "76d378101b874ff9bceec0f4160f692d",
       "version_major": 2,
       "version_minor": 0
      },
      "text/plain": [
       "Dropdown(description='Orbital:', index=15, options=(('  1 occ=2.000 ene=-10.584', 0), ('  2 occ=2.000 ene=-10.…"
      ]
     },
     "metadata": {},
     "output_type": "display_data"
    }
   ],
   "source": [
    "viewer = vlx.OrbitalViewer()\n",
    "viewer.plot(molecule, basis, scf_drv.mol_orbs)"
   ]
  },
  {
   "cell_type": "markdown",
   "id": "b1054d0f-8ab6-4719-90b5-c71d9e745967",
   "metadata": {
    "editable": true,
    "slideshow": {
     "slide_type": ""
    },
    "tags": []
   },
   "source": [
    "While this HTML page is static, when running the notebook in Jupyter lab one change the selection of MO in the pull-down menu. Let us for this reason collect the $\\pi$-conjugated frontier orbitals in the figure below. The figure represents a slight variation of an illustration found in Ref. {cite}`Norman2014`."
   ]
  },
  {
   "cell_type": "markdown",
   "id": "4990425f-c31c-4edc-88db-cfca2f841f8f",
   "metadata": {
    "editable": true,
    "slideshow": {
     "slide_type": ""
    },
    "tags": []
   },
   "source": [
    "![H-aggregate](../../img/h-aggregate.png) "
   ]
  },
  {
   "cell_type": "markdown",
   "id": "733000ca-33e6-4120-8f09-94242eacaf31",
   "metadata": {
    "editable": true,
    "slideshow": {
     "slide_type": ""
    },
    "tags": []
   },
   "source": [
    "The MOs of supramolecular system can be considered as linear combinations of the $\\pi$- and $\\pi^*$-orbitals of the monomers with main characters as follows\n",
    "\n",
    "\\begin{align*}\n",
    "|i^-\\rangle = \\pi_1 - \\pi_2 \\\\\n",
    "|i^+\\rangle = \\pi_1 + \\pi_2 \\\\\n",
    "|f^-\\rangle = \\pi_1^* - \\pi_2^* \\\\\n",
    "|f^+\\rangle = \\pi_1^* + \\pi_2^* \\\\\n",
    "\\end{align*}\n",
    "\n",
    "where, respectively, $i$ and $f$ denote initial and final electronic states in the excitation process. With two initial and two final orbitals, we can form four excited states. \n",
    "\n",
    "The symmetries of these MOs are straightforwardly identified from the [character table](character_table_d2h) and given in the figure with the conventional use of small letters for denoting symmetries of MOs and capital letters for symmetries of multi-electron wave functions.\n",
    "\n",
    "- State $| \\sigma\\rangle$ is lowest in energy and (primarily) associated with a HOMO–LUMO excitation giving rise to a ${}^1B_{2g}$ state. This state is electric-dipole forbidden. However, it couples to the ground state by means of the magnetic-dipole operator $\\hat{m}_y$ that transforms as the rotation operation $R_y$ in the [character table](character_table_d2h).\n",
    "\n",
    "- State $| \\gamma\\rangle$ follows next in energy and is (primarily) associated with a mix of (HOMO-1)–LUMO and HOMO–(LUMO+1) excitations giving rise to a ${}^1B_{3u}$ state. This state is magnetic-dipole forbidden. However, it couples to the ground state by means of the electric-dipole operator $\\hat{\\mu}_x$ that transforms as the translation operation $x$ in the [character table](character_table_d2h).\n",
    "\n"
   ]
  },
  {
   "cell_type": "code",
   "execution_count": 6,
   "id": "2eaccc85-57cb-464e-8486-2160f5446cf4",
   "metadata": {
    "editable": true,
    "scrolled": true,
    "slideshow": {
     "slide_type": ""
    },
    "tags": [
     "hide-output",
     "output_scroll"
    ]
   },
   "outputs": [
    {
     "name": "stdout",
     "output_type": "stream",
     "text": [
      "                                                                                                                          \n",
      "                                            Linear Response EigenSolver Setup                                             \n",
      "                                           ===================================                                            \n",
      "                                                                                                                          \n",
      "                               Number of States                : 4                                                        \n",
      "                               Max. Number of Iterations       : 150                                                      \n",
      "                               Convergence Threshold           : 1.0e-04                                                  \n",
      "                               ERI Screening Scheme            : Cauchy Schwarz + Density                                 \n",
      "                               ERI Screening Threshold         : 1.0e-12                                                  \n",
      "                               Exchange-Correlation Functional : BHANDHLYP                                                \n",
      "                               Molecular Grid Level            : 4                                                        \n",
      "                                                                                                                          \n",
      "* Info * Molecular grid with 155212 points generated in 0.15 sec.                                                         \n",
      "                                                                                                                          \n",
      "* Info * Processing Fock builds... (batch size: 8)                                                                        \n",
      "* Info *   batch 1/1                                                                                                      \n",
      "                                                                                                                          \n",
      "* Info * 4 gerade trial vectors in reduced space                                                                          \n",
      "* Info * 4 ungerade trial vectors in reduced space                                                                        \n",
      "                                                                                                                          \n",
      "* Info * 111.25 kB of memory used for subspace procedure on the master node                                               \n",
      "* Info * 2.81 GB of memory available for the solver on the master node                                                    \n",
      "                                                                                                                          \n",
      "               *** Iteration:   1 * Residuals (Max,Min): 5.42e-01 and 4.30e-02                                            \n",
      "                                                                                                                          \n",
      "               Excitation 1   :      0.29886486 Residual Norm: 0.23050061                                                 \n",
      "               Excitation 2   :      0.30816448 Residual Norm: 0.04296535                                                 \n",
      "               Excitation 3   :      0.35275340 Residual Norm: 0.49873815                                                 \n",
      "               Excitation 4   :      0.35889716 Residual Norm: 0.54233423                                                 \n",
      "                                                                                                                          \n",
      "* Info * Processing Fock builds... (batch size: 8)                                                                        \n",
      "* Info *   batch 1/1                                                                                                      \n",
      "                                                                                                                          \n",
      "* Info * 8 gerade trial vectors in reduced space                                                                          \n",
      "* Info * 8 ungerade trial vectors in reduced space                                                                        \n",
      "                                                                                                                          \n",
      "* Info * 184.98 kB of memory used for subspace procedure on the master node                                               \n",
      "* Info * 2.81 GB of memory available for the solver on the master node                                                    \n",
      "                                                                                                                          \n",
      "               *** Iteration:   2 * Residuals (Max,Min): 6.31e-02 and 4.47e-02                                            \n",
      "                                                                                                                          \n",
      "               Excitation 1   :      0.28000197 Residual Norm: 0.05960920                                                 \n",
      "               Excitation 2   :      0.30445887 Residual Norm: 0.06313509                                                 \n",
      "               Excitation 3   :      0.31059408 Residual Norm: 0.05597997                                                 \n",
      "               Excitation 4   :      0.32198852 Residual Norm: 0.04474809                                                 \n",
      "                                                                                                                          \n",
      "* Info * Processing Fock builds... (batch size: 8)                                                                        \n",
      "* Info *   batch 1/1                                                                                                      \n",
      "                                                                                                                          \n",
      "* Info * 12 gerade trial vectors in reduced space                                                                         \n",
      "* Info * 12 ungerade trial vectors in reduced space                                                                       \n",
      "                                                                                                                          \n",
      "* Info * 258.70 kB of memory used for subspace procedure on the master node                                               \n",
      "* Info * 2.81 GB of memory available for the solver on the master node                                                    \n",
      "                                                                                                                          \n",
      "               *** Iteration:   3 * Residuals (Max,Min): 1.18e-02 and 6.59e-03                                            \n",
      "                                                                                                                          \n",
      "               Excitation 1   :      0.27901030 Residual Norm: 0.01014723                                                 \n",
      "               Excitation 2   :      0.30311660 Residual Norm: 0.01184968                                                 \n",
      "               Excitation 3   :      0.30985402 Residual Norm: 0.00791235                                                 \n",
      "               Excitation 4   :      0.32142144 Residual Norm: 0.00659006                                                 \n",
      "                                                                                                                          \n",
      "* Info * Processing Fock builds... (batch size: 8)                                                                        \n",
      "* Info *   batch 1/1                                                                                                      \n",
      "                                                                                                                          \n",
      "* Info * 16 gerade trial vectors in reduced space                                                                         \n",
      "* Info * 16 ungerade trial vectors in reduced space                                                                       \n",
      "                                                                                                                          \n",
      "* Info * 332.43 kB of memory used for subspace procedure on the master node                                               \n",
      "* Info * 2.81 GB of memory available for the solver on the master node                                                    \n",
      "                                                                                                                          \n",
      "               *** Iteration:   4 * Residuals (Max,Min): 1.52e-03 and 5.77e-04                                            \n",
      "                                                                                                                          \n",
      "               Excitation 1   :      0.27898432 Residual Norm: 0.00101745                                                 \n",
      "               Excitation 2   :      0.30307896 Residual Norm: 0.00152197                                                 \n",
      "               Excitation 3   :      0.30983916 Residual Norm: 0.00067638                                                 \n",
      "               Excitation 4   :      0.32141004 Residual Norm: 0.00057708                                                 \n",
      "                                                                                                                          \n",
      "* Info * Processing Fock builds... (batch size: 8)                                                                        \n",
      "* Info *   batch 1/1                                                                                                      \n",
      "                                                                                                                          \n",
      "* Info * 20 gerade trial vectors in reduced space                                                                         \n",
      "* Info * 20 ungerade trial vectors in reduced space                                                                       \n",
      "                                                                                                                          \n",
      "* Info * 406.16 kB of memory used for subspace procedure on the master node                                               \n",
      "* Info * 2.81 GB of memory available for the solver on the master node                                                    \n",
      "                                                                                                                          \n",
      "               *** Iteration:   5 * Residuals (Max,Min): 8.42e-04 and 1.63e-04                                            \n",
      "                                                                                                                          \n",
      "               Excitation 1   :      0.27898346 Residual Norm: 0.00051296                                                 \n",
      "               Excitation 2   :      0.30307614 Residual Norm: 0.00084174                                                 \n",
      "               Excitation 3   :      0.30983891 Residual Norm: 0.00022931                                                 \n",
      "               Excitation 4   :      0.32140992 Residual Norm: 0.00016251                                                 \n",
      "                                                                                                                          \n",
      "* Info * Processing Fock builds... (batch size: 5)                                                                        \n",
      "* Info *   batch 1/1                                                                                                      \n",
      "                                                                                                                          \n",
      "* Info * 22 gerade trial vectors in reduced space                                                                         \n",
      "* Info * 23 ungerade trial vectors in reduced space                                                                       \n",
      "                                                                                                                          \n",
      "* Info * 452.40 kB of memory used for subspace procedure on the master node                                               \n",
      "* Info * 2.82 GB of memory available for the solver on the master node                                                    \n",
      "                                                                                                                          \n",
      "               *** Iteration:   6 * Residuals (Max,Min): 1.35e-04 and 4.11e-05                                            \n",
      "                                                                                                                          \n",
      "               Excitation 1   :      0.27898339 Residual Norm: 0.00006282   converged                                     \n",
      "               Excitation 2   :      0.30307585 Residual Norm: 0.00013523                                                 \n",
      "               Excitation 3   :      0.30983889 Residual Norm: 0.00004107   converged                                     \n",
      "               Excitation 4   :      0.32140991 Residual Norm: 0.00004840   converged                                     \n",
      "                                                                                                                          \n",
      "* Info * Processing Fock builds... (batch size: 2)                                                                        \n",
      "* Info *   batch 1/1                                                                                                      \n",
      "                                                                                                                          \n",
      "* Info * 23 gerade trial vectors in reduced space                                                                         \n",
      "* Info * 24 ungerade trial vectors in reduced space                                                                       \n",
      "                                                                                                                          \n",
      "* Info * 470.67 kB of memory used for subspace procedure on the master node                                               \n",
      "* Info * 2.82 GB of memory available for the solver on the master node                                                    \n",
      "                                                                                                                          \n",
      "               *** Iteration:   7 * Residuals (Max,Min): 6.28e-05 and 2.37e-05                                            \n",
      "                                                                                                                          \n",
      "               Excitation 1   :      0.27898339 Residual Norm: 0.00006282   converged                                     \n",
      "               Excitation 2   :      0.30307584 Residual Norm: 0.00002372   converged                                     \n",
      "               Excitation 3   :      0.30983889 Residual Norm: 0.00003010   converged                                     \n",
      "               Excitation 4   :      0.32140991 Residual Norm: 0.00004840   converged                                     \n",
      "                                                                                                                          \n",
      "               *** Linear response converged in 7 iterations. Time: 6.38 sec                                              \n",
      "                                                                                                                          \n",
      "                                                                                                                          \n",
      "               Electric Transition Dipole Moments (dipole length, a.u.)                                                   \n",
      "               --------------------------------------------------------                                                   \n",
      "                                                X            Y            Z                                               \n",
      "               Excited State    S1:     -0.000000     0.000000     0.000000                                               \n",
      "               Excited State    S2:     -1.670323     0.000000    -0.000000                                               \n",
      "               Excited State    S3:     -0.918537     0.000000     0.000000                                               \n",
      "               Excited State    S4:      0.000000     0.000000    -0.000000                                               \n",
      "                                                                                                                          \n",
      "               Electric Transition Dipole Moments (dipole velocity, a.u.)                                                 \n",
      "               ----------------------------------------------------------                                                 \n",
      "                                                X            Y            Z                                               \n",
      "               Excited State    S1:     -0.000000     0.000000     0.000000                                               \n",
      "               Excited State    S2:     -1.466417     0.000000    -0.000000                                               \n",
      "               Excited State    S3:     -0.780599     0.000000    -0.000000                                               \n",
      "               Excited State    S4:      0.000000     0.000000    -0.000000                                               \n",
      "                                                                                                                          \n",
      "               Magnetic Transition Dipole Moments (a.u.)                                                                  \n",
      "               -----------------------------------------                                                                  \n",
      "                                                X            Y            Z                                               \n",
      "               Excited State    S1:     -0.000000    -0.927175    -0.000000                                               \n",
      "               Excited State    S2:     -0.000000     0.000000    -0.000000                                               \n",
      "               Excited State    S3:      0.000000    -0.000000    -0.000000                                               \n",
      "               Excited State    S4:      0.000000    -0.490912    -0.000000                                               \n",
      "                                                                                                                          \n",
      "               One-Photon Absorption                                                                                      \n",
      "               ---------------------                                                                                      \n",
      "               Excited State    S1:      0.27898339 a.u.      7.59152 eV    Osc.Str.    0.0000                            \n",
      "               Excited State    S2:      0.30307584 a.u.      8.24711 eV    Osc.Str.    0.5637                            \n",
      "               Excited State    S3:      0.30983889 a.u.      8.43115 eV    Osc.Str.    0.1743                            \n",
      "               Excited State    S4:      0.32140991 a.u.      8.74601 eV    Osc.Str.    0.0000                            \n",
      "                                                                                                                          \n",
      "               Electronic Circular Dichroism                                                                              \n",
      "               -----------------------------                                                                              \n",
      "               Excited State    S1:     Rot.Str.     -0.000000 a.u.    -0.0000 [10**(-40) cgs]                            \n",
      "               Excited State    S2:     Rot.Str.      0.000000 a.u.     0.0000 [10**(-40) cgs]                            \n",
      "               Excited State    S3:     Rot.Str.     -0.000000 a.u.    -0.0000 [10**(-40) cgs]                            \n",
      "               Excited State    S4:     Rot.Str.     -0.000000 a.u.    -0.0000 [10**(-40) cgs]                            \n",
      "                                                                                                                          \n",
      "               Character of excitations:                                                                                  \n",
      "                                                                                                                          \n",
      "               Excited state 1                                                                                            \n",
      "               ---------------                                                                                            \n",
      "               HOMO     -> LUMO        -0.9789                                                                            \n",
      "                                                                                                                          \n",
      "               Excited state 2                                                                                            \n",
      "               ---------------                                                                                            \n",
      "               HOMO-1   -> LUMO         0.9586                                                                            \n",
      "               HOMO     -> LUMO+1       0.2700                                                                            \n",
      "                                                                                                                          \n",
      "               Excited state 3                                                                                            \n",
      "               ---------------                                                                                            \n",
      "               HOMO     -> LUMO+1       0.9593                                                                            \n",
      "               HOMO-1   -> LUMO        -0.2752                                                                            \n",
      "                                                                                                                          \n",
      "               Excited state 4                                                                                            \n",
      "               ---------------                                                                                            \n",
      "               HOMO-1   -> LUMO+1      -0.9776                                                                            \n",
      "                                                                                                                          \n"
     ]
    }
   ],
   "source": [
    "lreig_drv = vlx.LinearResponseEigenSolver()\n",
    "lreig_drv.nstates = 4\n",
    "\n",
    "lreig_results = lreig_drv.compute(molecule, basis, scf_results)"
   ]
  },
  {
   "cell_type": "code",
   "execution_count": 7,
   "id": "09624e0a-6794-46a4-b410-87962416d473",
   "metadata": {
    "editable": true,
    "slideshow": {
     "slide_type": ""
    },
    "tags": []
   },
   "outputs": [
    {
     "name": "stdout",
     "output_type": "stream",
     "text": [
      "   E (eV)  mu_x    mu_y    mu_z    m_x     m_y     m_z     f       R       \n",
      "------------------------------------------------------------------------\n",
      "  7.5915 -0.0000  0.0000  0.0000 -0.0000 -0.9272 -0.0000  0.0000 -0.0000\n",
      "  8.2471 -1.6703  0.0000 -0.0000 -0.0000  0.0000 -0.0000  0.5637  0.0000\n",
      "  8.4311 -0.9185  0.0000  0.0000  0.0000 -0.0000 -0.0000  0.1743 -0.0000\n",
      "  8.7460  0.0000  0.0000 -0.0000  0.0000 -0.4909 -0.0000  0.0000 -0.0000\n"
     ]
    }
   ],
   "source": [
    "print(f\"   {'E (eV)':8s}{'mu_x':8s}{'mu_y':8s}{'mu_z':8s}{'m_x':8s}{'m_y':8s}{'m_z':8s}{'f':8s}{'R':8s}\")\n",
    "print(72 * \"-\")\n",
    "\n",
    "for E, e, m, f, R in zip(\n",
    "    lreig_results[\"eigenvalues\"],\n",
    "    lreig_results[\"electric_transition_dipoles\"],\n",
    "    lreig_results[\"magnetic_transition_dipoles\"],\n",
    "    lreig_results[\"oscillator_strengths\"],\n",
    "    lreig_results[\"rotatory_strengths\"],\n",
    "):\n",
    "    print(\n",
    "        f\"{E*27.2114:8.4f}{e[0]:8.4f}{e[1]:8.4f}{e[2]:8.4f}{m[0]:8.4f}{m[1]:8.4f}{m[2]:8.4f}{f:8.4f}{R:8.4f}\"\n",
    "    )"
   ]
  },
  {
   "cell_type": "markdown",
   "id": "b29074e5-299b-45ca-9092-602f5286ea8f",
   "metadata": {
    "editable": true,
    "slideshow": {
     "slide_type": ""
    },
    "tags": []
   },
   "source": [
    "So a symmetry analysis allows us to understand the UV/vis absorption and circular dichroism (CD) spectra of H-stacked aggregates. In absorption spectroscopy, the $\\pi\\pi^*$-band of the monomer becomes split into a lower dark band and an upper bright band that acquires the intensity from the two monomers. In CD spectroscopy, none of the bands gives rise to a signal. However, in a twisted supramolecular configuration, the symmetry of the system becomes lower and a bisignate excitonic band is formed from the two Frenkel states {cite}`Norman2014`."
   ]
  }
 ],
 "metadata": {
  "kernelspec": {
   "display_name": "Python 3 (ipykernel)",
   "language": "python",
   "name": "python3"
  },
  "language_info": {
   "codemirror_mode": {
    "name": "ipython",
    "version": 3
   },
   "file_extension": ".py",
   "mimetype": "text/x-python",
   "name": "python",
   "nbconvert_exporter": "python",
   "pygments_lexer": "ipython3",
   "version": "3.11.6"
  }
 },
 "nbformat": 4,
 "nbformat_minor": 5
}
