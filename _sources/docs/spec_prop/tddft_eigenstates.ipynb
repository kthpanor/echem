{
 "cells": [
  {
   "cell_type": "markdown",
   "id": "82a99743-db37-4e5e-bc1d-be3c9e5ea9d1",
   "metadata": {
    "editable": true,
    "slideshow": {
     "slide_type": ""
    },
    "tags": []
   },
   "source": [
    "# Eigenstates\n",
    "\n",
    "\n",
    "The linear response TDDFT equations involves the solution of a non-Hermitian eigenvalue equation which can be written as\n",
    "\n",
    "$$\n",
    "\\left(\n",
    "\\begin{array}{cc}\n",
    "\\mathbf{A} & \\mathbf{B} \\\\\n",
    "\\mathbf{B}^* & \\mathbf{A}^*\n",
    "\\end{array}\n",
    "\\right) \n",
    "\\left(\n",
    "\\begin{array}{c}\n",
    "\\mathbf{X} \\\\\n",
    "\\mathbf{Y}\n",
    "\\end{array}\n",
    "\\right) \n",
    "= \\omega\n",
    "\\left(\n",
    "\\begin{array}{cc}\n",
    "\\mathbf{1} & \\mathbf{0} \\\\\n",
    "\\mathbf{0}^* & \\mathbf{-1}^*\n",
    "\\end{array}\n",
    "\\right) \n",
    "\\left(\n",
    "\\begin{array}{c}\n",
    "\\mathbf{X} \\\\\n",
    "\\mathbf{Y}\n",
    "\\end{array}\n",
    "\\right) \n",
    "$$\n",
    "\n",
    "From this, excitation energies and transition amplitudes are obtained from the eigenvalues and corresponding eigenvectors, respectively.\n",
    "\n",
    "## Example: ethylene"
   ]
  },
  {
   "cell_type": "code",
   "execution_count": 1,
   "id": "534fd1fa-37dd-48bd-b4ba-1a68f36a0796",
   "metadata": {
    "editable": true,
    "slideshow": {
     "slide_type": ""
    },
    "tags": [
     "hide-input"
    ]
   },
   "outputs": [
    {
     "name": "stdout",
     "output_type": "stream",
     "text": [
      "* Warning * Environment variable OMP_NUM_THREADS not set.\n",
      "* Warning * Setting OMP_NUM_THREADS to 4.\n"
     ]
    }
   ],
   "source": [
    "import py3Dmol as p3d\n",
    "import veloxchem as vlx\n",
    "import matplotlib.pyplot as plt\n",
    "import numpy as np\n",
    "from valet import transition_analysis_utils as tau"
   ]
  },
  {
   "cell_type": "code",
   "execution_count": 2,
   "id": "9066ce9b-cd27-4232-ab9a-39db273e8bb5",
   "metadata": {
    "editable": true,
    "slideshow": {
     "slide_type": ""
    },
    "tags": []
   },
   "outputs": [],
   "source": [
    "ethene_xyz = \"\"\"6\n",
    "\n",
    "C        0.67759997    0.00000000    0.00000000\n",
    "C       -0.67759997    0.00000000    0.00000000\n",
    "H        1.21655197    0.92414474    0.00000000\n",
    "H        1.21655197   -0.92414474    0.00000000\n",
    "H       -1.21655197   -0.92414474    0.00000000\n",
    "H       -1.21655197    0.92414474    0.00000000\n",
    "\"\"\""
   ]
  },
  {
   "cell_type": "code",
   "execution_count": 3,
   "id": "4d7de92f-e435-464a-a906-95e73624cc6e",
   "metadata": {
    "editable": true,
    "slideshow": {
     "slide_type": ""
    },
    "tags": []
   },
   "outputs": [
    {
     "data": {
      "application/3dmoljs_load.v0": "<div id=\"3dmolviewer_17003057806006413\"  style=\"position: relative; width: 400px; height: 300px;\">\n        <p id=\"3dmolwarning_17003057806006413\" style=\"background-color:#ffcccc;color:black\">You appear to be running in JupyterLab (or JavaScript failed to load for some other reason).  You need to install the 3dmol extension: <br>\n        <tt>jupyter labextension install jupyterlab_3dmol</tt></p>\n        </div>\n<script>\n\nvar loadScriptAsync = function(uri){\n  return new Promise((resolve, reject) => {\n    //this is to ignore the existence of requirejs amd\n    var savedexports, savedmodule;\n    if (typeof exports !== 'undefined') savedexports = exports;\n    else exports = {}\n    if (typeof module !== 'undefined') savedmodule = module;\n    else module = {}\n\n    var tag = document.createElement('script');\n    tag.src = uri;\n    tag.async = true;\n    tag.onload = () => {\n        exports = savedexports;\n        module = savedmodule;\n        resolve();\n    };\n  var firstScriptTag = document.getElementsByTagName('script')[0];\n  firstScriptTag.parentNode.insertBefore(tag, firstScriptTag);\n});\n};\n\nif(typeof $3Dmolpromise === 'undefined') {\n$3Dmolpromise = null;\n  $3Dmolpromise = loadScriptAsync('https://cdnjs.cloudflare.com/ajax/libs/3Dmol/2.0.4/3Dmol-min.js');\n}\n\nvar viewer_17003057806006413 = null;\nvar warn = document.getElementById(\"3dmolwarning_17003057806006413\");\nif(warn) {\n    warn.parentNode.removeChild(warn);\n}\n$3Dmolpromise.then(function() {\nviewer_17003057806006413 = $3Dmol.createViewer(document.getElementById(\"3dmolviewer_17003057806006413\"),{backgroundColor:\"white\"});\nviewer_17003057806006413.zoomTo();\n\tviewer_17003057806006413.addModel(\"6\\n\\nC        0.67759997    0.00000000    0.00000000\\nC       -0.67759997    0.00000000    0.00000000\\nH        1.21655197    0.92414474    0.00000000\\nH        1.21655197   -0.92414474    0.00000000\\nH       -1.21655197   -0.92414474    0.00000000\\nH       -1.21655197    0.92414474    0.00000000\\n\");\n\tviewer_17003057806006413.setViewStyle({\"style\": \"outline\", \"width\": 0.05});\n\tviewer_17003057806006413.setStyle({\"stick\": {}, \"sphere\": {\"scale\": 0.25}});\nviewer_17003057806006413.render();\n});\n</script>",
      "text/html": [
       "<div id=\"3dmolviewer_17003057806006413\"  style=\"position: relative; width: 400px; height: 300px;\">\n",
       "        <p id=\"3dmolwarning_17003057806006413\" style=\"background-color:#ffcccc;color:black\">You appear to be running in JupyterLab (or JavaScript failed to load for some other reason).  You need to install the 3dmol extension: <br>\n",
       "        <tt>jupyter labextension install jupyterlab_3dmol</tt></p>\n",
       "        </div>\n",
       "<script>\n",
       "\n",
       "var loadScriptAsync = function(uri){\n",
       "  return new Promise((resolve, reject) => {\n",
       "    //this is to ignore the existence of requirejs amd\n",
       "    var savedexports, savedmodule;\n",
       "    if (typeof exports !== 'undefined') savedexports = exports;\n",
       "    else exports = {}\n",
       "    if (typeof module !== 'undefined') savedmodule = module;\n",
       "    else module = {}\n",
       "\n",
       "    var tag = document.createElement('script');\n",
       "    tag.src = uri;\n",
       "    tag.async = true;\n",
       "    tag.onload = () => {\n",
       "        exports = savedexports;\n",
       "        module = savedmodule;\n",
       "        resolve();\n",
       "    };\n",
       "  var firstScriptTag = document.getElementsByTagName('script')[0];\n",
       "  firstScriptTag.parentNode.insertBefore(tag, firstScriptTag);\n",
       "});\n",
       "};\n",
       "\n",
       "if(typeof $3Dmolpromise === 'undefined') {\n",
       "$3Dmolpromise = null;\n",
       "  $3Dmolpromise = loadScriptAsync('https://cdnjs.cloudflare.com/ajax/libs/3Dmol/2.0.4/3Dmol-min.js');\n",
       "}\n",
       "\n",
       "var viewer_17003057806006413 = null;\n",
       "var warn = document.getElementById(\"3dmolwarning_17003057806006413\");\n",
       "if(warn) {\n",
       "    warn.parentNode.removeChild(warn);\n",
       "}\n",
       "$3Dmolpromise.then(function() {\n",
       "viewer_17003057806006413 = $3Dmol.createViewer(document.getElementById(\"3dmolviewer_17003057806006413\"),{backgroundColor:\"white\"});\n",
       "viewer_17003057806006413.zoomTo();\n",
       "\tviewer_17003057806006413.addModel(\"6\\n\\nC        0.67759997    0.00000000    0.00000000\\nC       -0.67759997    0.00000000    0.00000000\\nH        1.21655197    0.92414474    0.00000000\\nH        1.21655197   -0.92414474    0.00000000\\nH       -1.21655197   -0.92414474    0.00000000\\nH       -1.21655197    0.92414474    0.00000000\\n\");\n",
       "\tviewer_17003057806006413.setViewStyle({\"style\": \"outline\", \"width\": 0.05});\n",
       "\tviewer_17003057806006413.setStyle({\"stick\": {}, \"sphere\": {\"scale\": 0.25}});\n",
       "viewer_17003057806006413.render();\n",
       "});\n",
       "</script>"
      ]
     },
     "metadata": {},
     "output_type": "display_data"
    }
   ],
   "source": [
    "viewer = p3d.view(width=400, height=300)\n",
    "viewer.addModel(ethene_xyz)\n",
    "viewer.setViewStyle({\"style\": \"outline\", \"width\": 0.05})\n",
    "viewer.setStyle({\"stick\": {}, \"sphere\": {\"scale\": 0.25}})\n",
    "viewer.show()"
   ]
  },
  {
   "cell_type": "code",
   "execution_count": 4,
   "id": "d3109c83-530c-4f9f-8d4c-bb9dee1e9024",
   "metadata": {
    "editable": true,
    "scrolled": true,
    "slideshow": {
     "slide_type": ""
    },
    "tags": [
     "remove-output"
    ]
   },
   "outputs": [
    {
     "name": "stdout",
     "output_type": "stream",
     "text": [
      "* Info * Reading basis set from file: /home/thomas/miniconda3/envs/echem/lib/python3.10/site-packages/veloxchem/basis/STO-3G\n",
      "                                                                                                                          \n",
      "                                              Molecular Basis (Atomic Basis)                                              \n",
      "                                             ================================                                             \n",
      "                                                                                                                          \n",
      "                               Basis: STO-3G                                                                              \n",
      "                                                                                                                          \n",
      "                               Atom Contracted GTOs           Primitive GTOs                                              \n",
      "                                                                                                                          \n",
      "                                H   (1S)                      (3S)                                                        \n",
      "                                C   (2S,1P)                   (6S,3P)                                                     \n",
      "                                                                                                                          \n",
      "                               Contracted Basis Functions : 14                                                            \n",
      "                               Primitive Basis Functions  : 42                                                            \n",
      "                                                                                                                          \n",
      "                                                                                                                          \n",
      "                                            Self Consistent Field Driver Setup                                            \n",
      "                                           ====================================                                           \n",
      "                                                                                                                          \n",
      "                   Wave Function Model             : Spin-Restricted Hartree-Fock                                         \n",
      "                   Initial Guess Model             : Superposition of Atomic Densities                                    \n",
      "                   Convergence Accelerator         : Two Level Direct Inversion of Iterative Subspace                     \n",
      "                   Max. Number of Iterations       : 50                                                                   \n",
      "                   Max. Number of Error Vectors    : 10                                                                   \n",
      "                   Convergence Threshold           : 1.0e-06                                                              \n",
      "                   ERI Screening Scheme            : Cauchy Schwarz + Density                                             \n",
      "                   ERI Screening Mode              : Dynamic                                                              \n",
      "                   ERI Screening Threshold         : 1.0e-12                                                              \n",
      "                   Linear Dependence Threshold     : 1.0e-06                                                              \n",
      "                                                                                                                          \n",
      "* Info * Nuclear repulsion energy: 33.3086336060 a.u.                                                                     \n",
      "                                                                                                                          \n",
      "* Info * Overlap matrix computed in 0.00 sec.                                                                             \n",
      "                                                                                                                          \n",
      "* Info * Kinetic energy matrix computed in 0.00 sec.                                                                      \n",
      "                                                                                                                          \n",
      "* Info * Nuclear potential matrix computed in 0.00 sec.                                                                   \n",
      "                                                                                                                          \n",
      "* Info * Orthogonalization matrix computed in 0.01 sec.                                                                   \n",
      "                                                                                                                          \n",
      "* Info * SAD initial guess computed in 0.00 sec.                                                                          \n",
      "                                                                                                                          \n",
      "* Info * Starting Reduced Basis SCF calculation...                                                                        \n",
      "* Info * ...done. SCF energy in reduced basis set: -77.069246342859 a.u. Time: 0.07 sec.                                  \n",
      "                                                                                                                          \n",
      "* Info * Overlap matrix computed in 0.00 sec.                                                                             \n",
      "                                                                                                                          \n",
      "* Info * Kinetic energy matrix computed in 0.00 sec.                                                                      \n",
      "                                                                                                                          \n",
      "* Info * Nuclear potential matrix computed in 0.01 sec.                                                                   \n",
      "                                                                                                                          \n",
      "* Info * Orthogonalization matrix computed in 0.00 sec.                                                                   \n",
      "                                                                                                                          \n",
      "                                                                                                                          \n",
      "               Iter. | Hartree-Fock Energy | Energy Change | Gradient Norm | Max. Gradient | Density Change               \n",
      "               --------------------------------------------------------------------------------------------               \n",
      "                  1       -77.069246350041    0.0000000000      0.00003960      0.00000947      0.00000000                \n",
      "                  2       -77.069246350393   -0.0000000004      0.00000281      0.00000073      0.00003064                \n",
      "                  3       -77.069246350395   -0.0000000000      0.00000013      0.00000003      0.00000185                \n",
      "                                                                                                                          \n",
      "               *** SCF converged in 3 iterations. Time: 0.07 sec.                                                         \n",
      "                                                                                                                          \n",
      "               Spin-Restricted Hartree-Fock:                                                                              \n",
      "               -----------------------------                                                                              \n",
      "               Total Energy                       :      -77.0692463504 a.u.                                              \n",
      "               Electronic Energy                  :     -110.3778799564 a.u.                                              \n",
      "               Nuclear Repulsion Energy           :       33.3086336060 a.u.                                              \n",
      "               ------------------------------------                                                                       \n",
      "               Gradient Norm                      :        0.0000001250 a.u.                                              \n",
      "                                                                                                                          \n",
      "                                                                                                                          \n",
      "               Ground State Information                                                                                   \n",
      "               ------------------------                                                                                   \n",
      "               Charge of Molecule            :  0.0                                                                       \n",
      "               Multiplicity (2S+1)           :  1.0                                                                       \n",
      "               Magnetic Quantum Number (M_S) :  0.0                                                                       \n",
      "                                                                                                                          \n",
      "                                                                                                                          \n",
      "                                                 Spin Restricted Orbitals                                                 \n",
      "                                                 ------------------------                                                 \n",
      "                                                                                                                          \n",
      "               Molecular Orbital No.   4:                                                                                 \n",
      "               --------------------------                                                                                 \n",
      "               Occupation: 2.000 Energy:   -0.74975 a.u.                                                                  \n",
      "               (   1 C   2s  :    -0.42) (   1 C   1p+1:    -0.20) (   2 C   2s  :     0.42)                              \n",
      "               (   2 C   1p+1:    -0.20) (   3 H   1s  :    -0.22) (   4 H   1s  :    -0.22)                              \n",
      "               (   5 H   1s  :     0.22) (   6 H   1s  :     0.22)                                                        \n",
      "                                                                                                                          \n",
      "               Molecular Orbital No.   5:                                                                                 \n",
      "               --------------------------                                                                                 \n",
      "               Occupation: 2.000 Energy:   -0.60874 a.u.                                                                  \n",
      "               (   1 C   1p-1:     0.39) (   2 C   1p-1:     0.39) (   3 H   1s  :     0.26)                              \n",
      "               (   4 H   1s  :    -0.26) (   5 H   1s  :    -0.26) (   6 H   1s  :     0.26)                              \n",
      "                                                                                                                          \n",
      "               Molecular Orbital No.   6:                                                                                 \n",
      "               --------------------------                                                                                 \n",
      "               Occupation: 2.000 Energy:   -0.52384 a.u.                                                                  \n",
      "               (   1 C   1p+1:    -0.51) (   2 C   1p+1:     0.51) (   3 H   1s  :    -0.21)                              \n",
      "               (   4 H   1s  :    -0.21) (   5 H   1s  :    -0.21) (   6 H   1s  :    -0.21)                              \n",
      "                                                                                                                          \n",
      "               Molecular Orbital No.   7:                                                                                 \n",
      "               --------------------------                                                                                 \n",
      "               Occupation: 2.000 Energy:   -0.47291 a.u.                                                                  \n",
      "               (   1 C   1p-1:    -0.39) (   2 C   1p-1:     0.39) (   3 H   1s  :    -0.34)                              \n",
      "               (   4 H   1s  :     0.34) (   5 H   1s  :    -0.34) (   6 H   1s  :     0.34)                              \n",
      "                                                                                                                          \n",
      "               Molecular Orbital No.   8:                                                                                 \n",
      "               --------------------------                                                                                 \n",
      "               Occupation: 2.000 Energy:   -0.31834 a.u.                                                                  \n",
      "               (   1 C   1p0 :     0.64) (   2 C   1p0 :     0.64)                                                        \n",
      "                                                                                                                          \n",
      "               Molecular Orbital No.   9:                                                                                 \n",
      "               --------------------------                                                                                 \n",
      "               Occupation: 0.000 Energy:    0.31057 a.u.                                                                  \n",
      "               (   1 C   1p0 :    -0.81) (   2 C   1p0 :     0.81)                                                        \n",
      "                                                                                                                          \n",
      "               Molecular Orbital No.  10:                                                                                 \n",
      "               --------------------------                                                                                 \n",
      "               Occupation: 0.000 Energy:    0.65780 a.u.                                                                  \n",
      "               (   1 C   1p-1:     0.73) (   2 C   1p-1:     0.73) (   3 H   1s  :    -0.64)                              \n",
      "               (   4 H   1s  :     0.64) (   5 H   1s  :     0.64) (   6 H   1s  :    -0.64)                              \n",
      "                                                                                                                          \n",
      "               Molecular Orbital No.  11:                                                                                 \n",
      "               --------------------------                                                                                 \n",
      "               Occupation: 0.000 Energy:    0.69522 a.u.                                                                  \n",
      "               (   1 C   2s  :    -0.84) (   1 C   1p+1:    -0.51) (   2 C   2s  :    -0.84)                              \n",
      "               (   2 C   1p+1:     0.51) (   3 H   1s  :     0.63) (   4 H   1s  :     0.63)                              \n",
      "               (   5 H   1s  :     0.63) (   6 H   1s  :     0.63)                                                        \n",
      "                                                                                                                          \n",
      "               Molecular Orbital No.  12:                                                                                 \n",
      "               --------------------------                                                                                 \n",
      "               Occupation: 0.000 Energy:    0.70654 a.u.                                                                  \n",
      "               (   1 C   1s  :     0.17) (   1 C   2s  :    -1.07) (   1 C   1p+1:    -0.21)                              \n",
      "               (   2 C   1s  :    -0.17) (   2 C   2s  :     1.07) (   2 C   1p+1:    -0.21)                              \n",
      "               (   3 H   1s  :     0.65) (   4 H   1s  :     0.65) (   5 H   1s  :    -0.65)                              \n",
      "               (   6 H   1s  :    -0.65)                                                                                  \n",
      "                                                                                                                          \n",
      "               Molecular Orbital No.  13:                                                                                 \n",
      "               --------------------------                                                                                 \n",
      "               Occupation: 0.000 Energy:    0.95189 a.u.                                                                  \n",
      "               (   1 C   2s  :     0.82) (   1 C   1p+1:    -1.13) (   2 C   2s  :    -0.82)                              \n",
      "               (   2 C   1p+1:    -1.13)                                                                                  \n",
      "                                                                                                                          \n"
     ]
    }
   ],
   "source": [
    "molecule = vlx.Molecule.from_xyz_string(ethene_xyz)\n",
    "basis = vlx.MolecularBasis.read(molecule, \"STO-3G\")\n",
    "\n",
    "scf_drv = vlx.ScfRestrictedDriver()\n",
    "scf_results = scf_drv.compute(molecule, basis)"
   ]
  },
  {
   "cell_type": "markdown",
   "id": "545d13b6-91ba-431d-839f-da8d22339ce1",
   "metadata": {
    "editable": true,
    "slideshow": {
     "slide_type": ""
    },
    "tags": []
   },
   "source": [
    "We can extract the MO energies, number of occupied and unoccupied MOs, and the HOMO-LUMO gap:"
   ]
  },
  {
   "cell_type": "code",
   "execution_count": 5,
   "id": "54e494d4-34d1-4fad-a818-b4b05719ecb3",
   "metadata": {
    "editable": true,
    "slideshow": {
     "slide_type": ""
    },
    "tags": []
   },
   "outputs": [
    {
     "name": "stdout",
     "output_type": "stream",
     "text": [
      "Number of orbitals: 14\n",
      "Number of occupied orbitals: 8\n",
      "Number of virtual orbitals: 6\n",
      "\n",
      "MO energies (au):\n",
      " [-11.01836831 -11.01770512  -0.97499968  -0.74974532  -0.60873828\n",
      "  -0.52384446  -0.47291168  -0.31833759   0.31057108   0.65779903\n",
      "   0.69521875   0.70654116   0.95189253   0.95926696]\n",
      "\n",
      "HOMO-LUMO gap (eV): 9.449\n"
     ]
    }
   ],
   "source": [
    "mo_energy = scf_results[\"E_alpha\"]\n",
    "nocc = molecule.number_of_alpha_electrons()\n",
    "norb = mo_energy.shape[0]\n",
    "nvirt = norb - nocc\n",
    "\n",
    "print(\"Number of orbitals:\", len(mo_energy))\n",
    "print(\"Number of occupied orbitals:\", nocc)\n",
    "print(\"Number of virtual orbitals:\", nvirt)\n",
    "print(\"\\nMO energies (au):\\n\", mo_energy)\n",
    "\n",
    "print(f\"\\nHOMO-LUMO gap (eV): {27.2114*(mo_energy[nocc+1] - mo_energy[nocc]):.3f}\")"
   ]
  },
  {
   "cell_type": "markdown",
   "id": "be5ec232-c162-49e5-abd7-dc05bd29b860",
   "metadata": {
    "editable": true,
    "slideshow": {
     "slide_type": ""
    },
    "tags": []
   },
   "source": [
    "Looking at the MOs:"
   ]
  },
  {
   "cell_type": "code",
   "execution_count": 6,
   "id": "ffd74563-d606-4f53-acf9-59b89b751787",
   "metadata": {
    "editable": true,
    "slideshow": {
     "slide_type": ""
    },
    "tags": []
   },
   "outputs": [
    {
     "data": {
      "application/vnd.jupyter.widget-view+json": {
       "model_id": "cca84308a783478287aeff08beb6c1cd",
       "version_major": 2,
       "version_minor": 0
      },
      "text/plain": [
       "Output()"
      ]
     },
     "metadata": {},
     "output_type": "display_data"
    },
    {
     "data": {
      "application/vnd.jupyter.widget-view+json": {
       "model_id": "6663fda44c67454ca04cffe1241221d9",
       "version_major": 2,
       "version_minor": 0
      },
      "text/plain": [
       "Dropdown(description='Orbital:', index=7, options=(('  1 occ=2.000 ene=-11.018', 0), ('  2 occ=2.000 ene=-11.0…"
      ]
     },
     "metadata": {},
     "output_type": "display_data"
    }
   ],
   "source": [
    "viewer = vlx.OrbitalViewer()\n",
    "viewer.plot(molecule, basis, scf_drv.mol_orbs)"
   ]
  },
  {
   "cell_type": "markdown",
   "id": "ed6da192-6b4f-414a-ba23-51b54b8dfc16",
   "metadata": {
    "editable": true,
    "slideshow": {
     "slide_type": ""
    },
    "tags": []
   },
   "source": [
    "## Eigenstates\n",
    "\n",
    "We first perform a reference calculation using `LinearResponseEigenSolver`, where we calculate the first 12 excited states using a reduced-space Davidson algorithm which can resolve the N lowest eigenvalues (bottom-up).:"
   ]
  },
  {
   "cell_type": "code",
   "execution_count": 8,
   "id": "e8aa2579-86b2-4f78-bbb6-cd6d53ec0533",
   "metadata": {
    "editable": true,
    "scrolled": true,
    "slideshow": {
     "slide_type": ""
    },
    "tags": [
     "remove-output"
    ]
   },
   "outputs": [
    {
     "name": "stdout",
     "output_type": "stream",
     "text": [
      "                                                                                                                          \n",
      "                                            Linear Response EigenSolver Setup                                             \n",
      "                                           ===================================                                            \n",
      "                                                                                                                          \n",
      "                               Number of States                : 12                                                       \n",
      "                               Max. Number of Iterations       : 150                                                      \n",
      "                               Convergence Threshold           : 1.0e-04                                                  \n",
      "                               ERI Screening Scheme            : Cauchy Schwarz + Density                                 \n",
      "                               ERI Screening Threshold         : 1.0e-12                                                  \n",
      "                                                                                                                          \n",
      "* Info * Processing Fock builds... (batch size: 24)                                                                       \n",
      "* Info *   batch 1/1                                                                                                      \n",
      "                                                                                                                          \n",
      "* Info * 12 gerade trial vectors in reduced space                                                                         \n",
      "* Info * 12 ungerade trial vectors in reduced space                                                                       \n",
      "                                                                                                                          \n",
      "* Info * 28.83 kB of memory used for subspace procedure on the master node                                                \n",
      "* Info * 5.63 GB of memory available for the solver on the master node                                                    \n",
      "                                                                                                                          \n",
      "               *** Iteration:   1 * Residuals (Max,Min): 5.75e-01 and 4.09e-15                                            \n",
      "                                                                                                                          \n",
      "               Excitation 1   :      0.41081935 Residual Norm: 0.21075670                                                 \n",
      "               Excitation 2   :      0.41914496 Residual Norm: 0.00000000   converged                                     \n",
      "               Excitation 3   :      0.43357190 Residual Norm: 0.57536797                                                 \n",
      "               Excitation 4   :      0.53745930 Residual Norm: 0.06597515                                                 \n",
      "               Excitation 5   :      0.59799821 Residual Norm: 0.00000000   converged                                     \n",
      "               Excitation 6   :      0.66562849 Residual Norm: 0.02570414                                                 \n",
      "               Excitation 7   :      0.69766714 Residual Norm: 0.08214912                                                 \n",
      "               Excitation 8   :      0.75559181 Residual Norm: 0.07621878                                                 \n",
      "               Excitation 9   :      0.84753391 Residual Norm: 0.18175232                                                 \n",
      "               Excitation 10  :      0.84942435 Residual Norm: 0.19173241                                                 \n",
      "               Excitation 11  :      0.87392189 Residual Norm: 0.18141922                                                 \n",
      "               Excitation 12  :      0.90131363 Residual Norm: 0.17999098                                                 \n",
      "                                                                                                                          \n",
      "* Info * Processing Fock builds... (batch size: 18)                                                                       \n",
      "* Info *   batch 1/1                                                                                                      \n",
      "                                                                                                                          \n",
      "* Info * 21 gerade trial vectors in reduced space                                                                         \n",
      "* Info * 21 ungerade trial vectors in reduced space                                                                       \n",
      "                                                                                                                          \n",
      "* Info * 43.59 kB of memory used for subspace procedure on the master node                                                \n",
      "* Info * 5.63 GB of memory available for the solver on the master node                                                    \n",
      "                                                                                                                          \n",
      "               *** Iteration:   2 * Residuals (Max,Min): 1.10e-01 and 3.89e-15                                            \n",
      "                                                                                                                          \n",
      "               Excitation 1   :      0.36912024 Residual Norm: 0.05716223                                                 \n",
      "               Excitation 2   :      0.39587810 Residual Norm: 0.04374154                                                 \n",
      "               Excitation 3   :      0.41914496 Residual Norm: 0.00000000   converged                                     \n",
      "               Excitation 4   :      0.53648534 Residual Norm: 0.00000000   converged                                     \n",
      "               Excitation 5   :      0.59799821 Residual Norm: 0.00000000   converged                                     \n",
      "               Excitation 6   :      0.66561384 Residual Norm: 0.00000000   converged                                     \n",
      "               Excitation 7   :      0.69483832 Residual Norm: 0.11010729                                                 \n",
      "               Excitation 8   :      0.75545073 Residual Norm: 0.00000000   converged                                     \n",
      "               Excitation 9   :      0.82655674 Residual Norm: 0.07171314                                                 \n",
      "               Excitation 10  :      0.83748328 Residual Norm: 0.06430252                                                 \n",
      "               Excitation 11  :      0.84045109 Residual Norm: 0.05385844                                                 \n",
      "               Excitation 12  :      0.87168529 Residual Norm: 0.00000000   converged                                     \n",
      "                                                                                                                          \n",
      "* Info * Processing Fock builds... (batch size: 10)                                                                       \n",
      "* Info *   batch 1/1                                                                                                      \n",
      "                                                                                                                          \n",
      "* Info * 26 gerade trial vectors in reduced space                                                                         \n",
      "* Info * 26 ungerade trial vectors in reduced space                                                                       \n",
      "                                                                                                                          \n",
      "* Info * 51.14 kB of memory used for subspace procedure on the master node                                                \n",
      "* Info * 5.63 GB of memory available for the solver on the master node                                                    \n",
      "                                                                                                                          \n",
      "               *** Iteration:   3 * Residuals (Max,Min): 4.57e-02 and 2.97e-15                                            \n",
      "                                                                                                                          \n",
      "               Excitation 1   :      0.36853171 Residual Norm: 0.01069026                                                 \n",
      "               Excitation 2   :      0.39582117 Residual Norm: 0.00000000   converged                                     \n",
      "               Excitation 3   :      0.41914496 Residual Norm: 0.00000000   converged                                     \n",
      "               Excitation 4   :      0.53648534 Residual Norm: 0.00000000   converged                                     \n",
      "               Excitation 5   :      0.59799821 Residual Norm: 0.00000000   converged                                     \n",
      "               Excitation 6   :      0.66561384 Residual Norm: 0.00000000   converged                                     \n",
      "               Excitation 7   :      0.69427700 Residual Norm: 0.00000000   converged                                     \n",
      "               Excitation 8   :      0.75545073 Residual Norm: 0.00000000   converged                                     \n",
      "               Excitation 9   :      0.79173677 Residual Norm: 0.00000000   converged                                     \n",
      "               Excitation 10  :      0.82458714 Residual Norm: 0.04571050                                                 \n",
      "               Excitation 11  :      0.83668071 Residual Norm: 0.01754885                                                 \n",
      "               Excitation 12  :      0.83968784 Residual Norm: 0.02090542                                                 \n",
      "                                                                                                                          \n",
      "* Info * Processing Fock builds... (batch size: 8)                                                                        \n",
      "* Info *   batch 1/1                                                                                                      \n",
      "                                                                                                                          \n",
      "* Info * 30 gerade trial vectors in reduced space                                                                         \n",
      "* Info * 30 ungerade trial vectors in reduced space                                                                       \n",
      "                                                                                                                          \n",
      "* Info * 57.29 kB of memory used for subspace procedure on the master node                                                \n",
      "* Info * 5.63 GB of memory available for the solver on the master node                                                    \n",
      "                                                                                                                          \n",
      "               *** Iteration:   4 * Residuals (Max,Min): 1.89e-02 and 3.39e-15                                            \n",
      "                                                                                                                          \n",
      "               Excitation 1   :      0.36852357 Residual Norm: 0.00028353                                                 \n",
      "               Excitation 2   :      0.39582117 Residual Norm: 0.00000000   converged                                     \n",
      "               Excitation 3   :      0.41914496 Residual Norm: 0.00000000   converged                                     \n",
      "               Excitation 4   :      0.53648534 Residual Norm: 0.00000000   converged                                     \n",
      "               Excitation 5   :      0.59799821 Residual Norm: 0.00000000   converged                                     \n",
      "               Excitation 6   :      0.66561384 Residual Norm: 0.00000000   converged                                     \n",
      "               Excitation 7   :      0.69427700 Residual Norm: 0.00000000   converged                                     \n",
      "               Excitation 8   :      0.75545073 Residual Norm: 0.00000000   converged                                     \n",
      "               Excitation 9   :      0.79173677 Residual Norm: 0.00000000   converged                                     \n",
      "               Excitation 10  :      0.82446542 Residual Norm: 0.00250088                                                 \n",
      "               Excitation 11  :      0.83652173 Residual Norm: 0.01894665                                                 \n",
      "               Excitation 12  :      0.83957927 Residual Norm: 0.00405360                                                 \n",
      "                                                                                                                          \n",
      "* Info * Processing Fock builds... (batch size: 8)                                                                        \n",
      "* Info *   batch 1/1                                                                                                      \n",
      "                                                                                                                          \n",
      "* Info * 34 gerade trial vectors in reduced space                                                                         \n",
      "* Info * 34 ungerade trial vectors in reduced space                                                                       \n",
      "                                                                                                                          \n",
      "* Info * 63.43 kB of memory used for subspace procedure on the master node                                                \n",
      "* Info * 5.63 GB of memory available for the solver on the master node                                                    \n",
      "                                                                                                                          \n",
      "               *** Iteration:   5 * Residuals (Max,Min): 1.25e-03 and 2.88e-15                                            \n",
      "                                                                                                                          \n",
      "               Excitation 1   :      0.36852357 Residual Norm: 0.00000176   converged                                     \n",
      "               Excitation 2   :      0.39582117 Residual Norm: 0.00000000   converged                                     \n",
      "               Excitation 3   :      0.41914496 Residual Norm: 0.00000000   converged                                     \n",
      "               Excitation 4   :      0.53648534 Residual Norm: 0.00000000   converged                                     \n",
      "               Excitation 5   :      0.59799821 Residual Norm: 0.00000000   converged                                     \n",
      "               Excitation 6   :      0.66561384 Residual Norm: 0.00000000   converged                                     \n",
      "               Excitation 7   :      0.69427700 Residual Norm: 0.00000000   converged                                     \n",
      "               Excitation 8   :      0.75545073 Residual Norm: 0.00000000   converged                                     \n",
      "               Excitation 9   :      0.79173677 Residual Norm: 0.00000000   converged                                     \n",
      "               Excitation 10  :      0.82446474 Residual Norm: 0.00013950                                                 \n",
      "               Excitation 11  :      0.83647073 Residual Norm: 0.00125068                                                 \n",
      "               Excitation 12  :      0.83957720 Residual Norm: 0.00102366                                                 \n",
      "                                                                                                                          \n",
      "* Info * Processing Fock builds... (batch size: 5)                                                                        \n",
      "* Info *   batch 1/1                                                                                                      \n",
      "                                                                                                                          \n",
      "* Info * 36 gerade trial vectors in reduced space                                                                         \n",
      "* Info * 37 ungerade trial vectors in reduced space                                                                       \n",
      "                                                                                                                          \n",
      "* Info * 67.55 kB of memory used for subspace procedure on the master node                                                \n",
      "* Info * 5.63 GB of memory available for the solver on the master node                                                    \n",
      "                                                                                                                          \n",
      "               *** Iteration:   6 * Residuals (Max,Min): 4.82e-04 and 3.68e-15                                            \n",
      "                                                                                                                          \n",
      "               Excitation 1   :      0.36852357 Residual Norm: 0.00000000   converged                                     \n",
      "               Excitation 2   :      0.39582117 Residual Norm: 0.00000000   converged                                     \n",
      "               Excitation 3   :      0.41914496 Residual Norm: 0.00000000   converged                                     \n",
      "               Excitation 4   :      0.53648534 Residual Norm: 0.00000000   converged                                     \n",
      "               Excitation 5   :      0.59799821 Residual Norm: 0.00000000   converged                                     \n",
      "               Excitation 6   :      0.66561384 Residual Norm: 0.00000000   converged                                     \n",
      "               Excitation 7   :      0.69427700 Residual Norm: 0.00000000   converged                                     \n",
      "               Excitation 8   :      0.75545073 Residual Norm: 0.00000000   converged                                     \n",
      "               Excitation 9   :      0.79173677 Residual Norm: 0.00000000   converged                                     \n",
      "               Excitation 10  :      0.82446474 Residual Norm: 0.00000452   converged                                     \n",
      "               Excitation 11  :      0.83647070 Residual Norm: 0.00000000   converged                                     \n",
      "               Excitation 12  :      0.83957700 Residual Norm: 0.00048173                                                 \n",
      "                                                                                                                          \n",
      "* Info * Processing Fock builds... (batch size: 2)                                                                        \n",
      "* Info *   batch 1/1                                                                                                      \n",
      "                                                                                                                          \n",
      "* Info * 37 gerade trial vectors in reduced space                                                                         \n",
      "* Info * 38 ungerade trial vectors in reduced space                                                                       \n",
      "                                                                                                                          \n",
      "* Info * 68.11 kB of memory used for subspace procedure on the master node                                                \n",
      "* Info * 5.63 GB of memory available for the solver on the master node                                                    \n",
      "                                                                                                                          \n",
      "               *** Iteration:   7 * Residuals (Max,Min): 1.01e-05 and 3.10e-15                                            \n",
      "                                                                                                                          \n",
      "               Excitation 1   :      0.36852357 Residual Norm: 0.00000000   converged                                     \n",
      "               Excitation 2   :      0.39582117 Residual Norm: 0.00000000   converged                                     \n",
      "               Excitation 3   :      0.41914496 Residual Norm: 0.00000000   converged                                     \n",
      "               Excitation 4   :      0.53648534 Residual Norm: 0.00000000   converged                                     \n",
      "               Excitation 5   :      0.59799821 Residual Norm: 0.00000000   converged                                     \n",
      "               Excitation 6   :      0.66561384 Residual Norm: 0.00000000   converged                                     \n",
      "               Excitation 7   :      0.69427700 Residual Norm: 0.00000000   converged                                     \n",
      "               Excitation 8   :      0.75545073 Residual Norm: 0.00000000   converged                                     \n",
      "               Excitation 9   :      0.79173677 Residual Norm: 0.00000000   converged                                     \n",
      "               Excitation 10  :      0.82446474 Residual Norm: 0.00000452   converged                                     \n",
      "               Excitation 11  :      0.83647070 Residual Norm: 0.00000000   converged                                     \n",
      "               Excitation 12  :      0.83957699 Residual Norm: 0.00001012   converged                                     \n",
      "                                                                                                                          \n",
      "               *** Linear response converged in 7 iterations. Time: 0.47 sec                                              \n",
      "                                                                                                                          \n",
      "                                                                                                                          \n",
      "               Electric Transition Dipole Moments (dipole length, a.u.)                                                   \n",
      "               --------------------------------------------------------                                                   \n",
      "                                                X            Y            Z                                               \n",
      "               Excited State    S1:      1.411490    -0.000000    -0.000000                                               \n",
      "               Excited State    S2:     -0.000000    -0.000000     0.000000                                               \n",
      "               Excited State    S3:      0.000000     0.000000    -0.000000                                               \n",
      "               Excited State    S4:     -0.000000     0.000000     0.000000                                               \n",
      "               Excited State    S5:      0.000000     0.000000    -0.000000                                               \n",
      "               Excited State    S6:     -0.000000    -0.000000    -0.000111                                               \n",
      "               Excited State    S7:     -0.000000     0.000000     0.000000                                               \n",
      "               Excited State    S8:      0.000000    -0.000000     0.982242                                               \n",
      "               Excited State    S9:      0.000000    -0.000000     0.000000                                               \n",
      "               Excited State   S10:     -0.000000    -0.256050    -0.000000                                               \n",
      "               Excited State   S11:     -1.467544     0.000000     0.000000                                               \n",
      "               Excited State   S12:      0.000000    -0.000000    -0.000000                                               \n",
      "                                                                                                                          \n",
      "               Electric Transition Dipole Moments (dipole velocity, a.u.)                                                 \n",
      "               ----------------------------------------------------------                                                 \n",
      "                                                X            Y            Z                                               \n",
      "               Excited State    S1:      0.831766    -0.000000     0.000000                                               \n",
      "               Excited State    S2:     -0.000000    -0.000000     0.000000                                               \n",
      "               Excited State    S3:      0.000000     0.000000    -0.000000                                               \n",
      "               Excited State    S4:     -0.000000     0.000000     0.000000                                               \n",
      "               Excited State    S5:      0.000000     0.000000     0.000000                                               \n",
      "               Excited State    S6:     -0.000000    -0.000000    -0.235275                                               \n",
      "               Excited State    S7:     -0.000000     0.000000    -0.000000                                               \n",
      "               Excited State    S8:      0.000000    -0.000000     0.483952                                               \n",
      "               Excited State    S9:      0.000000    -0.000000     0.000000                                               \n",
      "               Excited State   S10:     -0.000000    -0.097356     0.000000                                               \n",
      "               Excited State   S11:     -0.995258     0.000000     0.000000                                               \n",
      "               Excited State   S12:      0.000000    -0.000000    -0.000000                                               \n",
      "                                                                                                                          \n",
      "               Magnetic Transition Dipole Moments (a.u.)                                                                  \n",
      "               -----------------------------------------                                                                  \n",
      "                                                X            Y            Z                                               \n",
      "               Excited State    S1:     -0.000000    -0.000000    -0.000000                                               \n",
      "               Excited State    S2:      0.000000    -0.860079     0.000000                                               \n",
      "               Excited State    S3:      0.641625     0.000000     0.000000                                               \n",
      "               Excited State    S4:     -0.000000     0.000000    -0.000000                                               \n",
      "               Excited State    S5:     -0.233770    -0.000000     0.000000                                               \n",
      "               Excited State    S6:     -0.000000    -0.000000    -0.000000                                               \n",
      "               Excited State    S7:     -0.000000     0.036903    -0.000000                                               \n",
      "               Excited State    S8:     -0.000000     0.000000     0.000000                                               \n",
      "               Excited State    S9:     -0.000000    -0.372998     0.000000                                               \n",
      "               Excited State   S10:     -0.000000     0.000000    -0.000000                                               \n",
      "               Excited State   S11:     -0.000000    -0.000000     0.000000                                               \n",
      "               Excited State   S12:     -0.000000     0.000000     1.063794                                               \n",
      "                                                                                                                          \n",
      "               One-Photon Absorption                                                                                      \n",
      "               ---------------------                                                                                      \n",
      "               Excited State    S1:      0.36852357 a.u.     10.02804 eV    Osc.Str.    0.4895                            \n",
      "               Excited State    S2:      0.39582117 a.u.     10.77084 eV    Osc.Str.    0.0000                            \n",
      "               Excited State    S3:      0.41914496 a.u.     11.40552 eV    Osc.Str.    0.0000                            \n",
      "               Excited State    S4:      0.53648534 a.u.     14.59851 eV    Osc.Str.    0.0000                            \n",
      "               Excited State    S5:      0.59799821 a.u.     16.27236 eV    Osc.Str.    0.0000                            \n",
      "               Excited State    S6:      0.66561384 a.u.     18.11228 eV    Osc.Str.    0.0000                            \n",
      "               Excited State    S7:      0.69427700 a.u.     18.89224 eV    Osc.Str.    0.0000                            \n",
      "               Excited State    S8:      0.75545073 a.u.     20.55686 eV    Osc.Str.    0.4859                            \n",
      "               Excited State    S9:      0.79173677 a.u.     21.54426 eV    Osc.Str.    0.0000                            \n",
      "               Excited State   S10:      0.82446474 a.u.     22.43483 eV    Osc.Str.    0.0360                            \n",
      "               Excited State   S11:      0.83647070 a.u.     22.76153 eV    Osc.Str.    1.2010                            \n",
      "               Excited State   S12:      0.83957699 a.u.     22.84605 eV    Osc.Str.    0.0000                            \n",
      "                                                                                                                          \n",
      "               Electronic Circular Dichroism                                                                              \n",
      "               -----------------------------                                                                              \n",
      "               Excited State    S1:     Rot.Str.     -0.000000 a.u.    -0.0000 [10**(-40) cgs]                            \n",
      "               Excited State    S2:     Rot.Str.      0.000000 a.u.     0.0000 [10**(-40) cgs]                            \n",
      "               Excited State    S3:     Rot.Str.      0.000000 a.u.     0.0000 [10**(-40) cgs]                            \n",
      "               Excited State    S4:     Rot.Str.      0.000000 a.u.     0.0000 [10**(-40) cgs]                            \n",
      "               Excited State    S5:     Rot.Str.     -0.000000 a.u.    -0.0000 [10**(-40) cgs]                            \n",
      "               Excited State    S6:     Rot.Str.      0.000000 a.u.     0.0000 [10**(-40) cgs]                            \n",
      "               Excited State    S7:     Rot.Str.      0.000000 a.u.     0.0000 [10**(-40) cgs]                            \n",
      "               Excited State    S8:     Rot.Str.      0.000000 a.u.     0.0000 [10**(-40) cgs]                            \n",
      "               Excited State    S9:     Rot.Str.      0.000000 a.u.     0.0000 [10**(-40) cgs]                            \n",
      "               Excited State   S10:     Rot.Str.     -0.000000 a.u.    -0.0000 [10**(-40) cgs]                            \n",
      "               Excited State   S11:     Rot.Str.      0.000000 a.u.     0.0000 [10**(-40) cgs]                            \n",
      "               Excited State   S12:     Rot.Str.     -0.000000 a.u.    -0.0000 [10**(-40) cgs]                            \n",
      "                                                                                                                          \n",
      "               Character of excitations:                                                                                  \n",
      "                                                                                                                          \n",
      "               Excited state 1                                                                                            \n",
      "               ---------------                                                                                            \n",
      "               HOMO     -> LUMO         0.9905                                                                            \n",
      "                                                                                                                          \n",
      "               Excited state 2                                                                                            \n",
      "               ---------------                                                                                            \n",
      "               HOMO-2   -> LUMO        -0.9925                                                                            \n",
      "                                                                                                                          \n",
      "               Excited state 3                                                                                            \n",
      "               ---------------                                                                                            \n",
      "               HOMO-1   -> LUMO        -0.9986                                                                            \n",
      "                                                                                                                          \n",
      "               Excited state 4                                                                                            \n",
      "               ---------------                                                                                            \n",
      "               HOMO-3   -> LUMO         0.9999                                                                            \n",
      "                                                                                                                          \n",
      "               Excited state 5                                                                                            \n",
      "               ---------------                                                                                            \n",
      "               HOMO     -> LUMO+1      -0.9985                                                                            \n",
      "                                                                                                                          \n",
      "               Excited state 6                                                                                            \n",
      "               ---------------                                                                                            \n",
      "               HOMO     -> LUMO+2       0.9130                                                                            \n",
      "               HOMO-4   -> LUMO         0.4083                                                                            \n",
      "                                                                                                                          \n",
      "               Excited state 7                                                                                            \n",
      "               ---------------                                                                                            \n",
      "               HOMO     -> LUMO+3       0.9894                                                                            \n",
      "                                                                                                                          \n",
      "               Excited state 8                                                                                            \n",
      "               ---------------                                                                                            \n",
      "               HOMO-4   -> LUMO        -0.9134                                                                            \n",
      "               HOMO     -> LUMO+2       0.4083                                                                            \n",
      "                                                                                                                          \n",
      "               Excited state 9                                                                                            \n",
      "               ---------------                                                                                            \n",
      "               HOMO     -> LUMO+4      -0.9948                                                                            \n",
      "                                                                                                                          \n",
      "               Excited state 10                                                                                           \n",
      "               ----------------                                                                                           \n",
      "               HOMO-2   -> LUMO+1       0.8927                                                                            \n",
      "               HOMO-1   -> LUMO+3       0.3249                                                                            \n",
      "               HOMO-3   -> LUMO+2      -0.2457                                                                            \n",
      "                                                                                                                          \n",
      "               Excited state 11                                                                                           \n",
      "               ----------------                                                                                           \n",
      "               HOMO-1   -> LUMO+1       0.9826                                                                            \n",
      "                                                                                                                          \n",
      "               Excited state 12                                                                                           \n",
      "               ----------------                                                                                           \n",
      "               HOMO-1   -> LUMO+2       0.9182                                                                            \n",
      "               HOMO-3   -> LUMO+3      -0.3860                                                                            \n",
      "                                                                                                                          \n"
     ]
    }
   ],
   "source": [
    "lres_drv = vlx.LinearResponseEigenSolver()\n",
    "rsp_settings = {\"nstates\": 12}\n",
    "lres_drv.update_settings(rsp_settings)\n",
    "lres_out = lres_drv.compute(molecule, basis, scf_results)"
   ]
  },
  {
   "cell_type": "markdown",
   "id": "f772cd2b-0ad6-47bb-b462-4f29a4558f7b",
   "metadata": {
    "editable": true,
    "slideshow": {
     "slide_type": ""
    },
    "tags": []
   },
   "source": [
    "The output contains"
   ]
  },
  {
   "cell_type": "code",
   "execution_count": null,
   "id": "84eae92a-6fda-4498-bf84-75b02d671148",
   "metadata": {
    "editable": true,
    "slideshow": {
     "slide_type": ""
    },
    "tags": []
   },
   "outputs": [],
   "source": [
    "lres_out.keys()"
   ]
  },
  {
   "cell_type": "markdown",
   "id": "a2038421-b7c1-4a66-8001-9eb301a09a0c",
   "metadata": {
    "editable": true,
    "slideshow": {
     "slide_type": ""
    },
    "tags": []
   },
   "source": [
    "We create a function for printing the results (energy, oscillator strength, transition moment) in a table:"
   ]
  },
  {
   "cell_type": "code",
   "execution_count": 9,
   "id": "a8d548b2-11d3-4b3a-9991-a1c174baaa67",
   "metadata": {
    "editable": true,
    "slideshow": {
     "slide_type": ""
    },
    "tags": []
   },
   "outputs": [
    {
     "name": "stdout",
     "output_type": "stream",
     "text": [
      "State Energy [eV]  Osc. str.   TM(x)     TM(y)     TM(z)\n",
      "  0     10.028      0.48947   1.41149  -0.00000  -0.00000\n",
      "  1     10.771      0.00000  -0.00000  -0.00000   0.00000\n",
      "  2     11.406      0.00000   0.00000   0.00000  -0.00000\n",
      "  3     14.599      0.00000  -0.00000   0.00000   0.00000\n",
      "  4     16.272      0.00000   0.00000   0.00000  -0.00000\n",
      "  5     18.112      0.00000  -0.00000  -0.00000  -0.00011\n",
      "  6     18.892      0.00000  -0.00000   0.00000   0.00000\n",
      "  7     20.557      0.48591   0.00000  -0.00000   0.98224\n",
      "  8     21.544      0.00000   0.00000  -0.00000   0.00000\n",
      "  9     22.435      0.03604  -0.00000  -0.25605  -0.00000\n",
      " 10     22.762      1.20100  -1.46754   0.00000   0.00000\n",
      " 11     22.846      0.00000   0.00000  -0.00000  -0.00000\n"
     ]
    }
   ],
   "source": [
    "def print_table(lres):\n",
    "    print(\"State Energy [eV]  Osc. str.   TM(x)     TM(y)     TM(z)\")\n",
    "    for i in np.arange(len(lres[\"eigenvalues\"])):\n",
    "        e, os, x, y, z = (\n",
    "            27.2114 * lres[\"eigenvalues\"][i],\n",
    "            lres[\"oscillator_strengths\"][i],\n",
    "            lres[\"electric_transition_dipoles\"][i][0],\n",
    "            lres[\"electric_transition_dipoles\"][i][1],\n",
    "            lres[\"electric_transition_dipoles\"][i][2],\n",
    "        )\n",
    "        print(f\" {i:2}     {e:.3f}     {os:8.5f}  {x:8.5f}  {y:8.5f}  {z:8.5f}\")\n",
    "\n",
    "print_table(lres_out)"
   ]
  },
  {
   "cell_type": "markdown",
   "id": "36e1a888-edec-4a99-9da0-681f593116f8",
   "metadata": {
    "editable": true,
    "slideshow": {
     "slide_type": ""
    },
    "tags": []
   },
   "source": [
    "These results were obtained using the solver in VeloxChem, and we will now calculate this explicitly by using the Hessian, overlap matrix, and property gradients.\n",
    "\n",
    "### Electronic Hessian\n",
    "\n",
    "The electronic Hessian, $\\mathbf{E}^{[2]}$ reads\n",
    "\n",
    "\\begin{equation*}\n",
    "\\mathbf{E}^{[2]} =\n",
    "\t\\begin{pmatrix}\n",
    "    \\rule[-5pt]{0pt}{20pt}\n",
    "\t\\rule{5pt}{0pt}\n",
    "\t\\mathbf{A} & \\mathbf{B} \\rule{5pt}{0pt}\n",
    "\t\\\\\n",
    "    \\rule[-10pt]{0pt}{25pt}\n",
    "    \\rule{5pt}{0pt}    \n",
    "\t\\mathbf{B}^* & \\mathbf{A}^* \\\\\n",
    "\t\\end{pmatrix}\n",
    "\\end{equation*}\n",
    "\n",
    "For a general hybrid functional, the blocks are constructed as:\n",
    "\n",
    "\\begin{align*}\n",
    "A_{ia,jb}  &= \\delta_{ij} \\delta_{ab} (\\epsilon_a - \\epsilon_i) + (ia|jb) - c_{\\textrm{HF}}(ij|ab) + (1-c_{\\textrm{HF}})(ia|f_{\\textrm{xc}}|jb)\n",
    "\\\\\n",
    "B_{ia,jb}  &= (ia|bj) - c_{\\textrm{HF}}(ib|aj) + (1-c_{\\textrm{HF}})(ia|f_{\\textrm{xc}}|bj)\n",
    "\\end{align*}\n",
    "\n",
    "For a closed-shell system, the dimension of the $\\mathbf{A}$- and $\\mathbf{B}$-blocks of the $\\mathbf{E}^{[2]}$-matrix equals the number of occupied (spatial) orbitals times the number of virtual orbitals or, in other words\n",
    "\n",
    "$$\\mathrm{dim}\\left(\\mathbf{E}^{[2]}\\right) = 2 \\times n_\\mathrm{occ} \\times n_\\mathrm{virt}$$\n",
    "\n",
    "In the limits we retrieve the TDHF blocks ($c_{\\textrm{HF}} = 1$) and pure TDDFT ($c_{\\textrm{HF}} = 0$). It can be noted that:\n",
    "\n",
    "- The matrix is Hermitian and has an internal structure in terms of the matrix blocks $\\mathbf{A}$ and $\\mathbf{B}$, but not in the full form\n",
    "- The diagonal elements correspond to differences in energy between the single-excited determinants $|0_i^a\\rangle$ and the reference state $|0\\rangle$\n",
    "\n",
    "We get the $\\mathbf{E}^{[2]}$-matrix from the `LinearResponseEigenSolver` class object."
   ]
  },
  {
   "cell_type": "code",
   "execution_count": 10,
   "id": "089125a8-0d03-4ca3-820e-5b4444717789",
   "metadata": {
    "editable": true,
    "slideshow": {
     "slide_type": "slide"
    },
    "tags": [
     "remove-output"
    ]
   },
   "outputs": [
    {
     "name": "stdout",
     "output_type": "stream",
     "text": [
      "* Info * Processing Fock builds... (batch size: 192)                                                                      \n",
      "* Info *   batch 1/1                                                                                                      \n"
     ]
    }
   ],
   "source": [
    "lres_drv = vlx.LinearResponseEigenSolver()\n",
    "E2 = lres_drv.get_e2(molecule, basis, scf_results)"
   ]
  },
  {
   "cell_type": "markdown",
   "id": "c299532c-a9cd-4044-a1f6-71e4d32b96c9",
   "metadata": {
    "editable": true,
    "slideshow": {
     "slide_type": ""
    },
    "tags": []
   },
   "source": [
    "The dimension of the Hessian should be"
   ]
  },
  {
   "cell_type": "code",
   "execution_count": 11,
   "id": "69a04dbb-f1d6-40f2-a0ae-69e0b7bdaff7",
   "metadata": {
    "editable": true,
    "slideshow": {
     "slide_type": ""
    },
    "tags": []
   },
   "outputs": [
    {
     "name": "stdout",
     "output_type": "stream",
     "text": [
      "Dimension of full Hessian: 96\n"
     ]
    }
   ],
   "source": [
    "n = nocc * nvirt\n",
    "print(\"Dimension of full Hessian:\", 2 * n)"
   ]
  },
  {
   "cell_type": "markdown",
   "id": "ba4aea40-d9f8-41f4-af49-7b3c10a6d4ed",
   "metadata": {
    "editable": true,
    "slideshow": {
     "slide_type": ""
    },
    "tags": []
   },
   "source": [
    "Which is verified using `.shape`"
   ]
  },
  {
   "cell_type": "code",
   "execution_count": 12,
   "id": "69d5936d-a535-495b-8263-f30f7df4f475",
   "metadata": {
    "editable": true,
    "slideshow": {
     "slide_type": ""
    },
    "tags": []
   },
   "outputs": [
    {
     "name": "stdout",
     "output_type": "stream",
     "text": [
      "(96, 96)\n"
     ]
    }
   ],
   "source": [
    "print(E2.shape)"
   ]
  },
  {
   "cell_type": "markdown",
   "id": "98ea175c-b64f-46cb-910d-7f7a42181122",
   "metadata": {
    "editable": true,
    "slideshow": {
     "slide_type": ""
    },
    "tags": []
   },
   "source": [
    "This is a bit too large to print, but we can visualize the matrix using `imshow`:"
   ]
  },
  {
   "cell_type": "code",
   "execution_count": 13,
   "id": "03457f85-b880-4f10-95fc-d7e4ddc16b5b",
   "metadata": {
    "editable": true,
    "slideshow": {
     "slide_type": ""
    },
    "tags": []
   },
   "outputs": [
    {
     "data": {
      "image/png": "[encoded data removed]",
      "text/plain": [
       "<Figure size 500x400 with 2 Axes>"
      ]
     },
     "metadata": {},
     "output_type": "display_data"
    }
   ],
   "source": [
    "plt.figure(figsize=(5, 4))\n",
    "plt.imshow(E2)\n",
    "plt.colorbar()\n",
    "plt.show()"
   ]
  },
  {
   "cell_type": "code",
   "execution_count": 14,
   "id": "b523ad23-2ce0-4caf-a5f0-4fa757da4a25",
   "metadata": {
    "editable": true,
    "slideshow": {
     "slide_type": ""
    },
    "tags": []
   },
   "outputs": [
    {
     "data": {
      "image/png": "[encoded data removed]",
      "text/plain": [
       "<Figure size 500x400 with 2 Axes>"
      ]
     },
     "metadata": {},
     "output_type": "display_data"
    }
   ],
   "source": [
    "plt.figure(figsize=(5, 4))\n",
    "plt.imshow(np.array(E2) - np.array(E2)*np.identity(96))\n",
    "plt.colorbar()\n",
    "plt.show()"
   ]
  },
  {
   "cell_type": "markdown",
   "id": "6eb52e16-40e6-4e06-b33b-223452a29b33",
   "metadata": {
    "editable": true,
    "slideshow": {
     "slide_type": ""
    },
    "tags": []
   },
   "source": [
    "## Overlap matrix\n",
    "\n",
    "\n",
    "The overlap matrix, $\\mathbf{S}^{[2]}$, in the SCF approximation is trivial and equal to\n",
    "\n",
    "$$\n",
    "\\mathbf{S}^{[2]}  =\n",
    "\t\\begin{pmatrix}\n",
    "    \\rule[-5pt]{0pt}{20pt}\n",
    "\t\\rule{5pt}{0pt}\n",
    "\t\\mathbf{1} & \\mathbf{0} \\rule{5pt}{0pt}\n",
    "\t\\\\\n",
    "    \\rule[-10pt]{0pt}{25pt}\n",
    "    \\rule{5pt}{0pt}    \n",
    "\t\\mathbf{0} & -\\mathbf{1} \\\\\n",
    "\t\\end{pmatrix}\n",
    "$$\n",
    "\n",
    "where $\\mathbf{1}$ and the $\\mathbf{1}$ are understood to be the identity and zero matrices, respectively, of the same rank as sub-blocks $\\mathbf{A}$ and $\\mathbf{B}$ in the electronic Hessian. We construct this as"
   ]
  },
  {
   "cell_type": "code",
   "execution_count": 15,
   "id": "6633ba42-3e6a-4b91-a344-035b7fe498b5",
   "metadata": {
    "editable": true,
    "slideshow": {
     "slide_type": ""
    },
    "tags": []
   },
   "outputs": [],
   "source": [
    "S2 = np.identity(2 * n)\n",
    "S2[n:, n:] *= -1"
   ]
  },
  {
   "cell_type": "markdown",
   "id": "a4a8b47e-4335-4eb5-9cc0-b839b578fa5e",
   "metadata": {
    "editable": true,
    "slideshow": {
     "slide_type": ""
    },
    "tags": []
   },
   "source": [
    "## Property gradient\n",
    "\n",
    "\n",
    "In the SCF approximation, the property gradient, $\\mathbf{V}^{[1]}$, takes the form\n",
    "\n",
    "\\begin{equation*}\n",
    "  \\mathbf{V}^{[1]} =\n",
    "      \\begin{pmatrix}\n",
    "    \\rule[-5pt]{0pt}{15pt}\n",
    "    \\mathbf{g}\n",
    "       \\\\\n",
    "    \\rule[-5pt]{0pt}{0pt}\n",
    "     -\\mathbf{g}^*\n",
    "\\\\\n",
    "  \\end{pmatrix}\n",
    "\\end{equation*}\n",
    "\n",
    "We get the $\\mathbf{V}^{\\omega,[1]}$-vector from the `LinearResponseSolver` class object. We assume the perturbation operator to equal minus the electric dipole moment operator along the $x$-axis, i.e., the molecular C$-$C axis."
   ]
  },
  {
   "cell_type": "code",
   "execution_count": 16,
   "id": "a7c58195-cad7-441b-a1ba-ac494074250c",
   "metadata": {
    "editable": true,
    "slideshow": {
     "slide_type": ""
    },
    "tags": []
   },
   "outputs": [
    {
     "name": "stdout",
     "output_type": "stream",
     "text": [
      "Dimension of V[1] vectors: 96\n"
     ]
    }
   ],
   "source": [
    "lrs_drv = vlx.LinearResponseSolver()\n",
    "\n",
    "mu_x = lrs_drv.get_prop_grad(\"electric dipole\", \"x\", molecule, basis, scf_results)[0]\n",
    "mu_y = lrs_drv.get_prop_grad(\"electric dipole\", \"y\", molecule, basis, scf_results)[0]\n",
    "mu_z = lrs_drv.get_prop_grad(\"electric dipole\", \"z\", molecule, basis, scf_results)[0]\n",
    "\n",
    "V1x = -mu_x\n",
    "V1y = -mu_y\n",
    "V1z = -mu_z\n",
    "\n",
    "print(\"Dimension of V[1] vectors:\", V1x.shape[0])"
   ]
  },
  {
   "cell_type": "markdown",
   "id": "7db26c93-5e90-49c9-9eff-bd3636e82350",
   "metadata": {
    "editable": true,
    "slideshow": {
     "slide_type": ""
    },
    "tags": []
   },
   "source": [
    "We can illustrate these vectors as"
   ]
  },
  {
   "cell_type": "code",
   "execution_count": 17,
   "id": "15fd8ffe-3c50-4ce9-936d-2dc48505cbfb",
   "metadata": {
    "editable": true,
    "slideshow": {
     "slide_type": ""
    },
    "tags": []
   },
   "outputs": [
    {
     "data": {
      "image/png": "[encoded data removed]",
      "text/plain": [
       "<Figure size 300x400 with 4 Axes>"
      ]
     },
     "metadata": {},
     "output_type": "display_data"
    }
   ],
   "source": [
    "plt.figure(figsize=(3, 4))\n",
    "Vmtrx = np.zeros((2 * n, 100))\n",
    "plt.subplot(131)\n",
    "plt.title(\"Vx\")\n",
    "for i in np.arange(100):\n",
    "    Vmtrx[:, i] = V1x\n",
    "plt.imshow(\n",
    "    Vmtrx, vmin=np.min([V1x, V1y, V1z]), vmax=np.max([V1x, V1y, V1z]), aspect=\"auto\"\n",
    ")\n",
    "plt.xticks([])\n",
    "plt.yticks([])\n",
    "\n",
    "plt.subplot(132)\n",
    "plt.title(\"Vy\")\n",
    "for i in np.arange(100):\n",
    "    Vmtrx[:, i] = V1y\n",
    "plt.imshow(\n",
    "    Vmtrx, vmin=np.min([V1x, V1y, V1z]), vmax=np.max([V1x, V1y, V1z]), aspect=\"auto\"\n",
    ")\n",
    "plt.xticks([])\n",
    "plt.yticks([])\n",
    "\n",
    "plt.subplot(133)\n",
    "plt.title(\"Vz\")\n",
    "for i in np.arange(100):\n",
    "    Vmtrx[:, i] = V1z\n",
    "plt.imshow(\n",
    "    Vmtrx, vmin=np.min([V1x, V1y, V1z]), vmax=np.max([V1x, V1y, V1z]), aspect=\"auto\"\n",
    ")\n",
    "plt.xticks([])\n",
    "plt.yticks([])\n",
    "plt.colorbar()\n",
    "plt.show()"
   ]
  },
  {
   "cell_type": "markdown",
   "id": "f1512e34-0283-4484-b2e5-c58d192599ff",
   "metadata": {
    "editable": true,
    "slideshow": {
     "slide_type": ""
    },
    "tags": []
   },
   "source": [
    "## Calculating excitation energies\n",
    "\n",
    "Denote the eigenvectors of the generalized eigenvalue equation as $\\mathbf{X}_e$\n",
    "\n",
    "$$\n",
    "  \\mathbf{E}^{[2]} \\mathbf{X}_e = \\lambda_e \\mathbf{S}^{[2]} \\mathbf{X}_e, \\quad e = -n,\\ldots,-1,1,\\ldots,n ,\n",
    "$$\n",
    " \n",
    "where the matrix dimension is $2n$. We find the set of eigenvalues and eigenvectors by diagonalizing the non-Hermitian matrix $\\left(\\mathbf{S}^{[2]}\\right)^{-1} \\mathbf{E}^{[2]}$\n",
    "\n",
    "$$\n",
    "  \\mathbf{X}^{-1} \\left[ \\left(\\mathbf{S}^{[2]}\\right)^{-1} \\mathbf{E}^{[2]} \\right] \\mathbf{X} = \n",
    "  \\begin{bmatrix}\n",
    "    \\rule[-5pt]{0pt}{15pt}\n",
    "    \\rule{9pt}{0pt}\n",
    "    \\boldsymbol{\\lambda} & \\rule{3pt}{0pt} \\mathbf{0} \\rule{3pt}{0pt} \\\\\n",
    "    \\rule{3pt}{0pt}\n",
    "    \\mathbf{0} & -\\boldsymbol{\\lambda} \\rule{3pt}{0pt} \\\\\n",
    "  \\end{bmatrix}\n",
    "$$\n",
    "\n",
    "where $\\boldsymbol{\\lambda}$ is a diagonal matrix of dimension $n$ collecting the eigenvalues with positive index and the columns of $\\mathbf{X}$ store the eigenvectors ($\\mathbf{X}$ is assumed to be nonsingular). This pairing of eigenvalues has its correspondence in the eigenvectors through\n",
    "\n",
    "\\begin{align*}\n",
    "  \\mathbf{X}_e &=\n",
    "  \\begin{pmatrix}\n",
    "    \\rule[-5pt]{0pt}{15pt}\n",
    "    \\mathbf{Z}_e \\\\\n",
    "    \\rule[-5pt]{0pt}{0pt}\n",
    "    \\mathbf{Y}_e^* \\\\\n",
    "  \\end{pmatrix}\n",
    "\\; \\mbox{with eigenvalue}\\; \\lambda_e \\\\\n",
    "  \\mathbf{X}_{-e} &=\n",
    "  \\begin{pmatrix}\n",
    "    \\rule[-5pt]{0pt}{15pt}\n",
    "    \\mathbf{Y}_{e} \\\\\n",
    "    \\rule[-5pt]{0pt}{0pt}\n",
    "    \\mathbf{Z}_{e}^* \\\\\n",
    "  \\end{pmatrix} \n",
    "\\; \\mbox{with eigenvalue}\\; -\\!\\lambda_e \n",
    "\\end{align*}\n",
    "\n",
    "The matrix $\\mathbf{X}$ will therefore have the structure\n",
    "\n",
    "\\begin{equation*}\n",
    "  \\mathbf{X} = \n",
    "  \\begin{bmatrix}\n",
    "    \\rule[-5pt]{0pt}{15pt}\n",
    "    \\rule{3pt}{0pt}\n",
    "    \\mathbf{Z} & \\rule{3pt}{0pt} \\mathbf{Y} \\rule{3pt}{0pt} \\\\\n",
    "    \\rule{8pt}{0pt}\n",
    "    \\mathbf{Y}^* & \\rule{3pt}{0pt} \\mathbf{Z}^* \\rule{3pt}{0pt} \\\\\n",
    "  \\end{bmatrix}\n",
    "\\end{equation*}\n",
    "\n",
    "With an appropriate scaling of the eigenvectors $\\mathbf{X}_e$, the non-unitary matrix $\\mathbf{X}$ achieves a simultaneous diagonalization of the two non-commuting matrices $\\mathbf{E}^{[2]}$ and $\\mathbf{S}^{[2]}$ as\n",
    "\n",
    "$$\n",
    "  \\mathbf{X}^\\dagger \\mathbf{E}^{[2]} \\mathbf{X} = \n",
    "  \\begin{bmatrix}\n",
    "    \\rule[-5pt]{0pt}{15pt}\n",
    "    \\rule{9pt}{0pt}\n",
    "    \\boldsymbol{\\lambda} & \\rule{3pt}{0pt} \\mathbf{0} \\rule{3pt}{0pt} \\\\\n",
    "    \\rule{3pt}{0pt}\n",
    "    \\mathbf{0} & \\boldsymbol{\\lambda} \\rule{3pt}{0pt} \\\\\n",
    "  \\end{bmatrix} ; \\qquad\n",
    "  \\mathbf{X}^\\dagger \\mathbf{S}^{[2]} \\mathbf{X} =\n",
    "  \\begin{bmatrix}\n",
    "    \\rule[-5pt]{0pt}{15pt}\n",
    "    \\rule{8pt}{0pt}\n",
    "    \\mathbf{1} & \\rule{5pt}{0pt} \\mathbf{0} \\rule{3pt}{0pt} \\\\\n",
    "    \\rule{5pt}{0pt}\n",
    "    \\mathbf{0} & -\\mathbf{1} \\rule{3pt}{0pt} \\\\\n",
    "  \\end{bmatrix} \n",
    "$$\n",
    "\n",
    "For each pair of eigenvectors, the second equation involving the metric of the generalized eigenvalue equation defines which of the two that should be indexed with a positive index. We also emphasize that $\\mathbf{X}^\\dagger \\neq \\mathbf{X}^{-1}$ and for this reason the $\\mathbf{X}_e$'s are eigenvectors neither of $\\mathbf{E}^{[2]}$ nor of $\\mathbf{S}^{[2]}$, just as the $\\lambda_e$'s are not the eigenvalues of $\\mathbf{E}^{[2]}$.\n",
    "\n",
    "The eigenvalues, or excitation energies, can then be calculated by use of `np.linalg.eig` on $\\left(\\mathbf{S}^{[2]}\\right)^{-1} \\mathbf{E}^{[2]}$. This will return the eigenvalues and eigenvectors, which can then be reordered:"
   ]
  },
  {
   "cell_type": "code",
   "execution_count": 19,
   "id": "f2ffdeb2-05e7-4070-ac39-79d5b9d93c9f",
   "metadata": {
    "editable": true,
    "slideshow": {
     "slide_type": ""
    },
    "tags": []
   },
   "outputs": [
    {
     "name": "stdout",
     "output_type": "stream",
     "text": [
      "[0.36852357 0.39582117 0.41914496 0.53648534 0.59799821 0.66561384\n",
      " 0.694277   0.75545073 0.79173677 0.82446474 0.8364707  0.83957699]\n",
      "Reference:\n",
      " [0.36852357 0.39582117 0.41914496 0.53648534 0.59799821 0.66561384\n",
      " 0.694277   0.75545073 0.79173677 0.82446474 0.8364707  0.83957699]\n"
     ]
    }
   ],
   "source": [
    "eigs, X = np.linalg.eig(np.matmul(np.linalg.inv(S2), E2))\n",
    "\n",
    "# Reorder results\n",
    "idx = np.argsort(eigs)\n",
    "eigs = np.array(eigs)[idx]\n",
    "X = np.array(X)[:, idx]\n",
    "# print first 12 positive eigenvalues:\n",
    "print(eigs[n : n + 12])\n",
    "\n",
    "# print(f'Excitation energy (au): {eigs[idx] : .6f}')\n",
    "print(\"Reference:\\n\", lres_out[\"eigenvalues\"])"
   ]
  },
  {
   "cell_type": "markdown",
   "id": "7f346326-9e90-4c59-957b-366dad6d32a0",
   "metadata": {
    "editable": true,
    "slideshow": {
     "slide_type": ""
    },
    "tags": []
   },
   "source": [
    "## Calculating intensities\n",
    "\n",
    "Transition moments in the SCF approximation take the form\n",
    "\n",
    "$$\n",
    "    \\langle n | \\hat{V} | 0 \\rangle =\n",
    "    \\mathbf{X}^\\dagger_f \\mathbf{V}^{\\omega,[1]}\n",
    "$$\n",
    "\n",
    "The oscillator strength is then calculated as"
   ]
  },
  {
   "cell_type": "code",
   "execution_count": 20,
   "id": "1da98e06-095c-4a94-a619-7f7a7cbbb756",
   "metadata": {
    "editable": true,
    "slideshow": {
     "slide_type": ""
    },
    "tags": []
   },
   "outputs": [],
   "source": [
    "def compute_fosc(eigs, X, V1x, V1y, V1z, S2):\n",
    "    fosc = []\n",
    "    for i in range(len(eigs)):\n",
    "        if eigs[i] > 0.0:  # only for positive eigenvalues\n",
    "            Xf = X[:, i]\n",
    "            Xf = Xf / np.sqrt(np.matmul(Xf.T, np.matmul(S2, Xf)))\n",
    "            tm = np.dot(Xf, V1x) ** 2 + np.dot(Xf, V1y) ** 2 + np.dot(Xf, V1z) ** 2\n",
    "            fosc.append(tm * 2.0 / 3.0 * eigs[i])\n",
    "    return fosc\n",
    "\n",
    "\n",
    "fosc = compute_fosc(eigs, X, V1x, V1y, V1z, S2)"
   ]
  },
  {
   "cell_type": "code",
   "execution_count": 21,
   "id": "1aaf17d1-90da-427e-b71c-61c2b32e608e",
   "metadata": {
    "editable": true,
    "slideshow": {
     "slide_type": ""
    },
    "tags": []
   },
   "outputs": [
    {
     "name": "stdout",
     "output_type": "stream",
     "text": [
      "Oscillator strengths:\n",
      " [0.489474 0.       0.       0.       0.       0.       0.       0.485906\n",
      " 0.       0.036035 1.200997 0.      ]\n",
      "\n",
      "Reference:\n",
      " [0.489474 0.       0.       0.       0.       0.       0.       0.485906\n",
      " 0.       0.036035 1.200997 0.      ]\n"
     ]
    }
   ],
   "source": [
    "print(\"Oscillator strengths:\\n\", np.around(fosc[:12], 6))\n",
    "print(\"\\nReference:\\n\", np.around(lres_out[\"oscillator_strengths\"], 6))"
   ]
  },
  {
   "cell_type": "markdown",
   "id": "9b6be111-4942-4602-8631-d9870151c99b",
   "metadata": {
    "editable": true,
    "slideshow": {
     "slide_type": ""
    },
    "tags": []
   },
   "source": [
    "## Analysis\n",
    "\n",
    "We are finally ready to compare our excitation energies to experiment, and we can first print our HF/STO-3G results as:"
   ]
  },
  {
   "cell_type": "code",
   "execution_count": 22,
   "id": "2c60fdfa-e231-4b54-a585-632dd1016120",
   "metadata": {
    "editable": true,
    "slideshow": {
     "slide_type": ""
    },
    "tags": []
   },
   "outputs": [
    {
     "name": "stdout",
     "output_type": "stream",
     "text": [
      "State Energy [eV]  Osc. str.   TM(x)     TM(y)     TM(z)\n",
      "  0     10.028      0.48947   1.41149  -0.00000  -0.00000\n",
      "  1     10.771      0.00000  -0.00000  -0.00000   0.00000\n",
      "  2     11.406      0.00000   0.00000   0.00000  -0.00000\n",
      "  3     14.599      0.00000  -0.00000   0.00000   0.00000\n",
      "  4     16.272      0.00000   0.00000   0.00000  -0.00000\n",
      "  5     18.112      0.00000  -0.00000  -0.00000  -0.00011\n",
      "  6     18.892      0.00000  -0.00000   0.00000   0.00000\n",
      "  7     20.557      0.48591   0.00000  -0.00000   0.98224\n",
      "  8     21.544      0.00000   0.00000  -0.00000   0.00000\n",
      "  9     22.435      0.03604  -0.00000  -0.25605  -0.00000\n",
      " 10     22.762      1.20100  -1.46754   0.00000   0.00000\n",
      " 11     22.846      0.00000   0.00000  -0.00000  -0.00000\n"
     ]
    }
   ],
   "source": [
    "print_table(lres_out)"
   ]
  },
  {
   "cell_type": "markdown",
   "id": "89d4e53b-900e-4ec6-8945-2962fd89a426",
   "metadata": {
    "editable": true,
    "slideshow": {
     "slide_type": ""
    },
    "tags": []
   },
   "source": [
    "Assigning transitions can be done by considering, *e.g.*:\n",
    "- The polarization of the transition\n",
    "- Contributing MOs\n",
    "- ...\n",
    "\n",
    "This afternoon we will discuss natural transition orbitals (NTOs), which provide a convenient tool for studying the character of excited states, but for now we can consider the MO amplitudes dominating each transition:"
   ]
  },
  {
   "cell_type": "code",
   "execution_count": 23,
   "id": "2d7a3eb3-0d7f-473f-8260-ccdd3ef2636e",
   "metadata": {
    "editable": true,
    "slideshow": {
     "slide_type": ""
    },
    "tags": []
   },
   "outputs": [
    {
     "name": "stdout",
     "output_type": "stream",
     "text": [
      "State  0: ['HOMO     -> LUMO         0.9905']\n",
      "State  1: ['HOMO-2   -> LUMO        -0.9925']\n",
      "State  2: ['HOMO-1   -> LUMO        -0.9986']\n",
      "State  3: ['HOMO-3   -> LUMO         0.9999']\n",
      "State  4: ['HOMO     -> LUMO+1      -0.9985']\n",
      "State  5: ['HOMO     -> LUMO+2       0.9130', 'HOMO-4   -> LUMO         0.4083']\n",
      "State  6: ['HOMO     -> LUMO+3       0.9894']\n",
      "State  7: ['HOMO-4   -> LUMO        -0.9134', 'HOMO     -> LUMO+2       0.4083']\n",
      "State  8: ['HOMO     -> LUMO+4      -0.9948']\n",
      "State  9: ['HOMO-2   -> LUMO+1       0.8927', 'HOMO-1   -> LUMO+3       0.3249', 'HOMO-3   -> LUMO+2      -0.2457']\n",
      "State 10: ['HOMO-1   -> LUMO+1       0.9826']\n",
      "State 11: ['HOMO-1   -> LUMO+2       0.9182', 'HOMO-3   -> LUMO+3      -0.3860']\n"
     ]
    }
   ],
   "source": [
    "for i in np.arange(len(lres_out[\"excitation_details\"])):\n",
    "    print(f\"State {i:2}:\", lres_out[\"excitation_details\"][i])"
   ]
  },
  {
   "cell_type": "markdown",
   "id": "68804e41-7409-4a42-9a86-f1dc826e7fae",
   "metadata": {
    "editable": true,
    "slideshow": {
     "slide_type": ""
    },
    "tags": []
   },
   "source": [
    "We see that the first transition, which has the polarization of the sought state, is strongly dominated by a HOMO-LUMO transition. Looking at the MOs:"
   ]
  },
  {
   "cell_type": "code",
   "execution_count": 24,
   "id": "ddc28ea7-b378-46a9-ab29-f065fe91559d",
   "metadata": {
    "editable": true,
    "slideshow": {
     "slide_type": ""
    },
    "tags": []
   },
   "outputs": [
    {
     "data": {
      "application/vnd.jupyter.widget-view+json": {
       "model_id": "a2168a8f8b6742dc935a7cd105fcadfe",
       "version_major": 2,
       "version_minor": 0
      },
      "text/plain": [
       "Output()"
      ]
     },
     "metadata": {},
     "output_type": "display_data"
    },
    {
     "data": {
      "application/vnd.jupyter.widget-view+json": {
       "model_id": "b2519a98ecba47baa636989ebe4ffb81",
       "version_major": 2,
       "version_minor": 0
      },
      "text/plain": [
       "Dropdown(description='Orbital:', index=7, options=(('  1 occ=2.000 ene=-11.018', 0), ('  2 occ=2.000 ene=-11.0…"
      ]
     },
     "metadata": {},
     "output_type": "display_data"
    }
   ],
   "source": [
    "viewer = vlx.OrbitalViewer()\n",
    "viewer.plot(molecule, basis, scf_drv.mol_orbs)"
   ]
  },
  {
   "cell_type": "markdown",
   "id": "57a60812-4cf7-45b5-8ff8-815d76dc7c3a",
   "metadata": {
    "editable": true,
    "slideshow": {
     "slide_type": ""
    },
    "tags": []
   },
   "source": [
    "We can see that this is an intense $\\pi \\rightarrow \\pi^*$ transition. The excitation energy is seen to be just above 10 eV, so quite a bit above experiment ($\\sim$7.7 eV). This is due to the use of TDHF and the very limited basis set."
   ]
  },
  {
   "cell_type": "code",
   "execution_count": null,
   "id": "2e0ad41e-944a-47ce-b1cd-d09600da0236",
   "metadata": {
    "editable": true,
    "slideshow": {
     "slide_type": ""
    },
    "tags": []
   },
   "outputs": [],
   "source": []
  }
 ],
 "metadata": {
  "kernelspec": {
   "display_name": "Python 3 (ipykernel)",
   "language": "python",
   "name": "python3"
  },
  "language_info": {
   "codemirror_mode": {
    "name": "ipython",
    "version": 3
   },
   "file_extension": ".py",
   "mimetype": "text/x-python",
   "name": "python",
   "nbconvert_exporter": "python",
   "pygments_lexer": "ipython3",
   "version": "3.10.12"
  }
 },
 "nbformat": 4,
 "nbformat_minor": 5
}
