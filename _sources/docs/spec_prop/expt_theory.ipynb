{
 "cells": [
  {
   "cell_type": "markdown",
   "id": "b9c58ec6-05b7-4cdf-9c86-09b6967b03ab",
   "metadata": {},
   "source": [
    "# Experiment to theory"
   ]
  }
 ],
 "metadata": {
  "kernelspec": {
   "display_name": "Python 3 (ipykernel)",
   "language": "python",
   "name": "python3"
  },
  "language_info": {
   "codemirror_mode": {
    "name": "ipython",
    "version": 3
   },
   "file_extension": ".py",
   "mimetype": "text/x-python",
   "name": "python",
   "nbconvert_exporter": "python",
   "pygments_lexer": "ipython3",
   "version": "3.10.12"
  }
 },
 "nbformat": 4,
 "nbformat_minor": 5
}
