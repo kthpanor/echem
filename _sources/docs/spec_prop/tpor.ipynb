{
 "cells": [
  {
   "cell_type": "markdown",
   "id": "da8bf99c-c71e-4ac3-b44e-5374ecaad793",
   "metadata": {},
   "source": [
    "# Two-photon optical rotation"
   ]
  },
  {
   "cell_type": "markdown",
   "id": "56d34367-c7c0-4593-b87a-f22110c520dc",
   "metadata": {},
   "source": []
  }
 ],
 "metadata": {
  "kernelspec": {
   "display_name": "Python 3 (ipykernel)",
   "language": "python",
   "name": "python3"
  },
  "language_info": {
   "codemirror_mode": {
    "name": "ipython",
    "version": 3
   },
   "file_extension": ".py",
   "mimetype": "text/x-python",
   "name": "python",
   "nbconvert_exporter": "python",
   "pygments_lexer": "ipython3",
   "version": "3.11.5"
  }
 },
 "nbformat": 4,
 "nbformat_minor": 5
}
