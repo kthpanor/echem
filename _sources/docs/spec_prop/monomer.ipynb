{
 "cells": [
  {
   "cell_type": "markdown",
   "id": "a9c7bac6-7321-4004-9278-761aa254e73c",
   "metadata": {
    "editable": true,
    "slideshow": {
     "slide_type": ""
    },
    "tags": []
   },
   "source": [
    "# Selection rules\n",
    "\n",
    "When considering the interaction of light and matter and determining the excitations an electron can undergo by absorption of one photon, the following selection rules are introduced for atoms\n",
    "\n",
    "\\begin{align*}\n",
    "%&\\Delta n  =\\textrm{integer} \\\\ \n",
    "&\\Delta l  = \\pm1\\\\ \n",
    "&\\Delta L  =0,\\pm1 \\\\ \n",
    "&\\Delta S  =0 \\\\ \n",
    "&\\Delta J  =0,\\pm 1 \\quad (J=0 \\Rightarrow \\Delta J=0)\n",
    "\\end{align*}\n",
    "\n",
    "for transitions involving changing the electronic state of an atom. Pure electronic excitations can be found in wave lengths of visible light and below. The selection rules can be understood by group theoretical considerations. If the atom (or, more generally, a molecule, for which selection rules can be found in similar manners) interacts with an electric field of incoming photons, electric dipole transitions to higher states are made possible. The probability of a transition from an initial state $\\psi_i$ to a final state $\\psi_f$ can be calculated as\n",
    "\n",
    "$$\n",
    "p_{fi}=\\hat{\\mu}_{fi}^2= \\left| \\langle \\psi_f | \\hat{\\mu} | \\psi_i \\rangle \\right|^2\n",
    "$$\n",
    "\n",
    "where $\\hat{\\mu}$ is the electric dipole moment. Again, this integral is by necessity zero if the integrand does not contain the totally symmetric irrep of the point group. In other words, we need to determine the symmetry of the function $\\psi_f^{\\ast} \\hat{\\mu} \\psi_i$, by taking the direct product of the symmetry species of each function and see if this contains the totally symmetric irrep.\n",
    "\n",
    "First we must then learn how to determine the symmetry of an electronic state. This is done by identifying all unpaired electrons in the molecule and take the direct product of the corresponding irreps of the molecular orbitals. Note here that the ground state of a closed-shell molecule always belong to the totally symmetric irrep (as all electrons are paired). Remembering that for two functions the symmetry species of the functions much match to acquire the totally symmetric irrep, so this transition is only achievable if\n",
    "\n",
    "$$\n",
    "D_{\\mu i}(g)=D_{\\mu}(g) \\otimes D_i(g) \\qquad \\textrm{has the same symmetry as} \\qquad D_f(g)\n",
    "$$\n",
    "\n",
    "Consider water with the basis set $(s_H,s_H',s_O,p_x,p_y,p_z)$. Using this it is possible to construct molecular orbitals by use of SALCs such that we obtain three orbitals of $A_1$ symmetry (the totally symmetrical symmetry), two of $B_1$ symmetry and one of $B_2$ symmetry. The ground state is then found to be $(1A_1)^2(1B_1)^2(2A_1)^4(1B_2)^2$ and is, as stated above, of $A_2$ symmetry. The closest antibonding orbital is $(3A_1)$. Further, it can be shown that x-polarized light is of $B_1$ symmetry, y-polarized of $B_2$ symmetry and z-polarized of $A_1$ symmetry.\n",
    "\n",
    "We are thus prepared to conclude which transitions that can be achieved with which polarizations of incoming light. The first excited state yields the unpaired electrons in $(B_2)(A_1)$, for which the direct product of the two symmetries yields $B_2 \\otimes A_1=B_2$. This symmetry matches that of y-polarized light, so this excitation is possible by use of y-polarized light. The second excited state is $(B_2)(B_1)$, with $B_2 \\otimes B_1=A_2$. This symmetry does not match that of any polarization of light, and is thus inaccessible. This procedure can be carried out for all possible excitations."
   ]
  },
  {
   "cell_type": "markdown",
   "id": "4990425f-c31c-4edc-88db-cfca2f841f8f",
   "metadata": {
    "editable": true,
    "slideshow": {
     "slide_type": ""
    },
    "tags": []
   },
   "source": [
    "![H-aggregate](../../img/h-aggregate.png) "
   ]
  },
  {
   "cell_type": "code",
   "execution_count": 1,
   "id": "349f5f46-7b10-4687-989e-e49656fb9783",
   "metadata": {
    "editable": true,
    "slideshow": {
     "slide_type": ""
    },
    "tags": [
     "remove-output"
    ]
   },
   "outputs": [
    {
     "name": "stdout",
     "output_type": "stream",
     "text": [
      "* Warning * Environment variable OMP_NUM_THREADS not set.\n",
      "* Warning * Setting OMP_NUM_THREADS to 4.\n"
     ]
    }
   ],
   "source": [
    "import veloxchem as vlx"
   ]
  },
  {
   "cell_type": "code",
   "execution_count": 2,
   "id": "c72ea380-4585-4a28-beca-7dd06b5da804",
   "metadata": {
    "editable": true,
    "scrolled": true,
    "slideshow": {
     "slide_type": ""
    },
    "tags": [
     "hide-input"
    ]
   },
   "outputs": [],
   "source": [
    "dimer_xyz = \"\"\"6\n",
    "\n",
    "C        0.67759997    0.00000000    0.00000000\n",
    "C       -0.67759997    0.00000000    0.00000000\n",
    "H        1.21655197    0.92414474    0.00000000\n",
    "H        1.21655197   -0.92414474    0.00000000\n",
    "H       -1.21655197   -0.92414474    0.00000000\n",
    "H       -1.21655197    0.92414474    0.00000000\"\"\"\n",
    "\n",
    "molecule = vlx.Molecule.read_xyz_string(dimer_xyz)\n",
    "basis = vlx.MolecularBasis.read(molecule, \"6-31g\", ostream=None)"
   ]
  },
  {
   "cell_type": "code",
   "execution_count": 3,
   "id": "364da8ba-28d1-4bb1-ba18-d68b277d5003",
   "metadata": {
    "editable": true,
    "slideshow": {
     "slide_type": ""
    },
    "tags": [
     "hide-input"
    ]
   },
   "outputs": [
    {
     "data": {
      "application/3dmoljs_load.v0": "<div id=\"3dmolviewer_1699264208334996\"  style=\"position: relative; width: 400px; height: 300px;\">\n        <p id=\"3dmolwarning_1699264208334996\" style=\"background-color:#ffcccc;color:black\">You appear to be running in JupyterLab (or JavaScript failed to load for some other reason).  You need to install the 3dmol extension: <br>\n        <tt>jupyter labextension install jupyterlab_3dmol</tt></p>\n        </div>\n<script>\n\nvar loadScriptAsync = function(uri){\n  return new Promise((resolve, reject) => {\n    //this is to ignore the existence of requirejs amd\n    var savedexports, savedmodule;\n    if (typeof exports !== 'undefined') savedexports = exports;\n    else exports = {}\n    if (typeof module !== 'undefined') savedmodule = module;\n    else module = {}\n\n    var tag = document.createElement('script');\n    tag.src = uri;\n    tag.async = true;\n    tag.onload = () => {\n        exports = savedexports;\n        module = savedmodule;\n        resolve();\n    };\n  var firstScriptTag = document.getElementsByTagName('script')[0];\n  firstScriptTag.parentNode.insertBefore(tag, firstScriptTag);\n});\n};\n\nif(typeof $3Dmolpromise === 'undefined') {\n$3Dmolpromise = null;\n  $3Dmolpromise = loadScriptAsync('https://cdnjs.cloudflare.com/ajax/libs/3Dmol/2.0.4/3Dmol-min.js');\n}\n\nvar viewer_1699264208334996 = null;\nvar warn = document.getElementById(\"3dmolwarning_1699264208334996\");\nif(warn) {\n    warn.parentNode.removeChild(warn);\n}\n$3Dmolpromise.then(function() {\nviewer_1699264208334996 = $3Dmol.createViewer(document.getElementById(\"3dmolviewer_1699264208334996\"),{backgroundColor:\"white\"});\nviewer_1699264208334996.zoomTo();\n\tviewer_1699264208334996.addModel(\"6\\n\\nC        0.67759997    0.00000000    0.00000000\\nC       -0.67759997    0.00000000    0.00000000\\nH        1.21655197    0.92414474    0.00000000\\nH        1.21655197   -0.92414474    0.00000000\\nH       -1.21655197   -0.92414474    0.00000000\\nH       -1.21655197    0.92414474    0.00000000\");\n\tviewer_1699264208334996.setStyle({\"stick\": {}, \"sphere\": {\"scale\": 0.25}});\n\tviewer_1699264208334996.rotate(-90,\"x\");\n\tviewer_1699264208334996.zoomTo();\nviewer_1699264208334996.render();\n});\n</script>",
      "text/html": [
       "<div id=\"3dmolviewer_1699264208334996\"  style=\"position: relative; width: 400px; height: 300px;\">\n",
       "        <p id=\"3dmolwarning_1699264208334996\" style=\"background-color:#ffcccc;color:black\">You appear to be running in JupyterLab (or JavaScript failed to load for some other reason).  You need to install the 3dmol extension: <br>\n",
       "        <tt>jupyter labextension install jupyterlab_3dmol</tt></p>\n",
       "        </div>\n",
       "<script>\n",
       "\n",
       "var loadScriptAsync = function(uri){\n",
       "  return new Promise((resolve, reject) => {\n",
       "    //this is to ignore the existence of requirejs amd\n",
       "    var savedexports, savedmodule;\n",
       "    if (typeof exports !== 'undefined') savedexports = exports;\n",
       "    else exports = {}\n",
       "    if (typeof module !== 'undefined') savedmodule = module;\n",
       "    else module = {}\n",
       "\n",
       "    var tag = document.createElement('script');\n",
       "    tag.src = uri;\n",
       "    tag.async = true;\n",
       "    tag.onload = () => {\n",
       "        exports = savedexports;\n",
       "        module = savedmodule;\n",
       "        resolve();\n",
       "    };\n",
       "  var firstScriptTag = document.getElementsByTagName('script')[0];\n",
       "  firstScriptTag.parentNode.insertBefore(tag, firstScriptTag);\n",
       "});\n",
       "};\n",
       "\n",
       "if(typeof $3Dmolpromise === 'undefined') {\n",
       "$3Dmolpromise = null;\n",
       "  $3Dmolpromise = loadScriptAsync('https://cdnjs.cloudflare.com/ajax/libs/3Dmol/2.0.4/3Dmol-min.js');\n",
       "}\n",
       "\n",
       "var viewer_1699264208334996 = null;\n",
       "var warn = document.getElementById(\"3dmolwarning_1699264208334996\");\n",
       "if(warn) {\n",
       "    warn.parentNode.removeChild(warn);\n",
       "}\n",
       "$3Dmolpromise.then(function() {\n",
       "viewer_1699264208334996 = $3Dmol.createViewer(document.getElementById(\"3dmolviewer_1699264208334996\"),{backgroundColor:\"white\"});\n",
       "viewer_1699264208334996.zoomTo();\n",
       "\tviewer_1699264208334996.addModel(\"6\\n\\nC        0.67759997    0.00000000    0.00000000\\nC       -0.67759997    0.00000000    0.00000000\\nH        1.21655197    0.92414474    0.00000000\\nH        1.21655197   -0.92414474    0.00000000\\nH       -1.21655197   -0.92414474    0.00000000\\nH       -1.21655197    0.92414474    0.00000000\");\n",
       "\tviewer_1699264208334996.setStyle({\"stick\": {}, \"sphere\": {\"scale\": 0.25}});\n",
       "\tviewer_1699264208334996.rotate(-90,\"x\");\n",
       "\tviewer_1699264208334996.zoomTo();\n",
       "viewer_1699264208334996.render();\n",
       "});\n",
       "</script>"
      ]
     },
     "metadata": {},
     "output_type": "display_data"
    }
   ],
   "source": [
    "import py3Dmol\n",
    "\n",
    "viewer = py3Dmol.view(width=400, height=300)\n",
    "\n",
    "viewer.addModel(dimer_xyz)\n",
    "viewer.setStyle({\"stick\": {}, \"sphere\": {\"scale\": 0.25}})\n",
    "\n",
    "# rotate and centralize for a better initial view\n",
    "viewer.rotate(-90, \"x\")\n",
    "viewer.zoomTo()\n",
    "\n",
    "viewer.show()"
   ]
  },
  {
   "cell_type": "code",
   "execution_count": 4,
   "id": "335fcf6c-bd5d-4501-acb8-1e6e79715970",
   "metadata": {
    "editable": true,
    "scrolled": true,
    "slideshow": {
     "slide_type": ""
    },
    "tags": [
     "hide-output"
    ]
   },
   "outputs": [
    {
     "name": "stdout",
     "output_type": "stream",
     "text": [
      "                                                                                                                          \n",
      "                                            Self Consistent Field Driver Setup                                            \n",
      "                                           ====================================                                           \n",
      "                                                                                                                          \n",
      "                   Wave Function Model             : Spin-Restricted Kohn-Sham                                            \n",
      "                   Initial Guess Model             : Superposition of Atomic Densities                                    \n",
      "                   Convergence Accelerator         : Two Level Direct Inversion of Iterative Subspace                     \n",
      "                   Max. Number of Iterations       : 50                                                                   \n",
      "                   Max. Number of Error Vectors    : 10                                                                   \n",
      "                   Convergence Threshold           : 1.0e-06                                                              \n",
      "                   ERI Screening Scheme            : Cauchy Schwarz + Density                                             \n",
      "                   ERI Screening Mode              : Dynamic                                                              \n",
      "                   ERI Screening Threshold         : 1.0e-12                                                              \n",
      "                   Linear Dependence Threshold     : 1.0e-06                                                              \n",
      "                   Exchange-Correlation Functional : BHANDHLYP                                                            \n",
      "                   Molecular Grid Level            : 4                                                                    \n",
      "                                                                                                                          \n",
      "* Info * Nuclear repulsion energy: 33.3086336060 a.u.                                                                     \n",
      "                                                                                                                          \n",
      "* Info * Molecular grid with 78818 points generated in 0.06 sec.                                                          \n",
      "                                                                                                                          \n",
      "* Info * Overlap matrix computed in 0.00 sec.                                                                             \n",
      "                                                                                                                          \n",
      "* Info * Kinetic energy matrix computed in 0.00 sec.                                                                      \n",
      "                                                                                                                          \n",
      "* Info * Nuclear potential matrix computed in 0.00 sec.                                                                   \n",
      "                                                                                                                          \n",
      "* Info * Orthogonalization matrix computed in 0.00 sec.                                                                   \n",
      "                                                                                                                          \n",
      "* Info * SAD initial guess computed in 0.00 sec.                                                                          \n",
      "                                                                                                                          \n",
      "* Info * Starting Reduced Basis SCF calculation...                                                                        \n",
      "* Info * ...done. SCF energy in reduced basis set: -78.002642751764 a.u. Time: 0.10 sec.                                  \n",
      "                                                                                                                          \n",
      "* Info * Overlap matrix computed in 0.00 sec.                                                                             \n",
      "                                                                                                                          \n",
      "* Info * Kinetic energy matrix computed in 0.00 sec.                                                                      \n",
      "                                                                                                                          \n",
      "* Info * Nuclear potential matrix computed in 0.00 sec.                                                                   \n",
      "                                                                                                                          \n",
      "* Info * Orthogonalization matrix computed in 0.00 sec.                                                                   \n",
      "                                                                                                                          \n",
      "                                                                                                                          \n",
      "               Iter. |    Kohn-Sham Energy | Energy Change | Gradient Norm | Max. Gradient | Density Change               \n",
      "               --------------------------------------------------------------------------------------------               \n",
      "                  1       -78.508630098244    0.0000000000      0.05889014      0.00965001      0.00000000                \n",
      "                  2       -78.509016633350   -0.0003865351      0.02795851      0.00472666      0.03149682                \n",
      "                  3       -78.509126845188   -0.0001102118      0.00065135      0.00019637      0.00842764                \n",
      "                  4       -78.509126989263   -0.0000001441      0.00002897      0.00000553      0.00061870                \n",
      "                  5       -78.509126989439   -0.0000000002      0.00000170      0.00000036      0.00003326                \n",
      "                  6       -78.509126989440   -0.0000000000      0.00000017      0.00000003      0.00000164                \n",
      "                                                                                                                          \n",
      "               *** SCF converged in 6 iterations. Time: 0.64 sec.                                                         \n",
      "                                                                                                                          \n",
      "               Spin-Restricted Kohn-Sham:                                                                                 \n",
      "               --------------------------                                                                                 \n",
      "               Total Energy                       :      -78.5091269894 a.u.                                              \n",
      "               Electronic Energy                  :     -111.8177605955 a.u.                                              \n",
      "               Nuclear Repulsion Energy           :       33.3086336060 a.u.                                              \n",
      "               ------------------------------------                                                                       \n",
      "               Gradient Norm                      :        0.0000001700 a.u.                                              \n",
      "                                                                                                                          \n",
      "                                                                                                                          \n",
      "               Ground State Information                                                                                   \n",
      "               ------------------------                                                                                   \n",
      "               Charge of Molecule            :  0.0                                                                       \n",
      "               Multiplicity (2S+1)           :  1.0                                                                       \n",
      "               Magnetic Quantum Number (M_S) :  0.0                                                                       \n",
      "                                                                                                                          \n",
      "                                                                                                                          \n",
      "                                                 Spin Restricted Orbitals                                                 \n",
      "                                                 ------------------------                                                 \n",
      "                                                                                                                          \n",
      "               Molecular Orbital No.   4:                                                                                 \n",
      "               --------------------------                                                                                 \n",
      "               Occupation: 2.000 Energy:   -0.66902 a.u.                                                                  \n",
      "               (   1 C   2s  :     0.25) (   1 C   3s  :     0.24) (   1 C   1p+1:     0.16)                              \n",
      "               (   2 C   2s  :    -0.25) (   2 C   3s  :    -0.24) (   2 C   1p+1:     0.16)                              \n",
      "               (   3 H   1s  :     0.15) (   4 H   1s  :     0.15) (   5 H   1s  :    -0.15)                              \n",
      "               (   6 H   1s  :    -0.15)                                                                                  \n",
      "                                                                                                                          \n",
      "               Molecular Orbital No.   5:                                                                                 \n",
      "               --------------------------                                                                                 \n",
      "               Occupation: 2.000 Energy:   -0.54732 a.u.                                                                  \n",
      "               (   1 C   1p-1:     0.33) (   2 C   1p-1:     0.33) (   3 H   1s  :     0.16)                              \n",
      "               (   4 H   1s  :    -0.16) (   5 H   1s  :    -0.16) (   6 H   1s  :     0.16)                              \n",
      "                                                                                                                          \n",
      "               Molecular Orbital No.   6:                                                                                 \n",
      "               --------------------------                                                                                 \n",
      "               Occupation: 2.000 Energy:   -0.48144 a.u.                                                                  \n",
      "               (   1 C   1p+1:    -0.42) (   2 C   1p+1:     0.42)                                                        \n",
      "                                                                                                                          \n",
      "               Molecular Orbital No.   7:                                                                                 \n",
      "               --------------------------                                                                                 \n",
      "               Occupation: 2.000 Energy:   -0.42531 a.u.                                                                  \n",
      "               (   1 C   1p-1:    -0.32) (   2 C   1p-1:     0.32) (   3 H   1s  :    -0.20)                              \n",
      "               (   3 H   2s  :    -0.17) (   4 H   1s  :     0.20) (   4 H   2s  :     0.17)                              \n",
      "               (   5 H   1s  :    -0.20) (   5 H   2s  :    -0.17) (   6 H   1s  :     0.20)                              \n",
      "               (   6 H   2s  :     0.17)                                                                                  \n",
      "                                                                                                                          \n",
      "               Molecular Orbital No.   8:                                                                                 \n",
      "               --------------------------                                                                                 \n",
      "               Occupation: 2.000 Energy:   -0.31080 a.u.                                                                  \n",
      "               (   1 C   1p0 :     0.39) (   1 C   2p0 :     0.30) (   2 C   1p0 :     0.39)                              \n",
      "               (   2 C   2p0 :     0.30)                                                                                  \n",
      "                                                                                                                          \n",
      "               Molecular Orbital No.   9:                                                                                 \n",
      "               --------------------------                                                                                 \n",
      "               Occupation: 0.000 Energy:    0.06551 a.u.                                                                  \n",
      "               (   1 C   1p0 :     0.40) (   1 C   2p0 :     0.66) (   2 C   1p0 :    -0.40)                              \n",
      "               (   2 C   2p0 :    -0.66)                                                                                  \n",
      "                                                                                                                          \n",
      "               Molecular Orbital No.  10:                                                                                 \n",
      "               --------------------------                                                                                 \n",
      "               Occupation: 0.000 Energy:    0.16773 a.u.                                                                  \n",
      "               (   1 C   3s  :     1.43) (   1 C   1p+1:     0.16) (   1 C   2p+1:     0.59)                              \n",
      "               (   2 C   3s  :     1.43) (   2 C   1p+1:    -0.16) (   2 C   2p+1:    -0.59)                              \n",
      "               (   3 H   2s  :    -1.00) (   4 H   2s  :    -1.00) (   5 H   2s  :    -1.00)                              \n",
      "               (   6 H   2s  :    -1.00)                                                                                  \n",
      "                                                                                                                          \n",
      "               Molecular Orbital No.  11:                                                                                 \n",
      "               --------------------------                                                                                 \n",
      "               Occupation: 0.000 Energy:    0.19755 a.u.                                                                  \n",
      "               (   1 C   1p-1:     0.28) (   1 C   2p-1:     0.80) (   2 C   1p-1:     0.28)                              \n",
      "               (   2 C   2p-1:     0.80) (   3 H   2s  :    -1.10) (   4 H   2s  :     1.10)                              \n",
      "               (   5 H   2s  :     1.10) (   6 H   2s  :    -1.10)                                                        \n",
      "                                                                                                                          \n",
      "               Molecular Orbital No.  12:                                                                                 \n",
      "               --------------------------                                                                                 \n",
      "               Occupation: 0.000 Energy:    0.21222 a.u.                                                                  \n",
      "               (   1 C   3s  :    -1.92) (   2 C   3s  :     1.92) (   3 H   2s  :     1.04)                              \n",
      "               (   4 H   2s  :     1.04) (   5 H   2s  :    -1.04) (   6 H   2s  :    -1.04)                              \n",
      "                                                                                                                          \n",
      "               Molecular Orbital No.  13:                                                                                 \n",
      "               --------------------------                                                                                 \n",
      "               Occupation: 0.000 Energy:    0.29170 a.u.                                                                  \n",
      "               (   1 C   1p-1:    -0.29) (   1 C   2p-1:    -1.78) (   2 C   1p-1:     0.29)                              \n",
      "               (   2 C   2p-1:     1.78) (   3 H   2s  :     1.59) (   4 H   2s  :    -1.59)                              \n",
      "               (   5 H   2s  :     1.59) (   6 H   2s  :    -1.59)                                                        \n",
      "                                                                                                                          \n"
     ]
    }
   ],
   "source": [
    "scf_drv = vlx.ScfRestrictedDriver()\n",
    "\n",
    "scf_drv.xcfun = \"bhandhlyp\"\n",
    "scf_results = scf_drv.compute(molecule, basis)"
   ]
  },
  {
   "cell_type": "code",
   "execution_count": 5,
   "id": "d8c0cf35-b677-49ee-a9e5-56d651392a21",
   "metadata": {
    "editable": true,
    "slideshow": {
     "slide_type": ""
    },
    "tags": []
   },
   "outputs": [
    {
     "data": {
      "application/vnd.jupyter.widget-view+json": {
       "model_id": "f7d405efa8d94b22960b0a28272f57f2",
       "version_major": 2,
       "version_minor": 0
      },
      "text/plain": [
       "Output()"
      ]
     },
     "metadata": {},
     "output_type": "display_data"
    },
    {
     "data": {
      "application/vnd.jupyter.widget-view+json": {
       "model_id": "c9ab905f58754dd697b3f3859b4c4001",
       "version_major": 2,
       "version_minor": 0
      },
      "text/plain": [
       "Dropdown(description='Orbital:', index=7, options=(('  1 occ=2.000 ene=-10.588', 0), ('  2 occ=2.000 ene=-10.5…"
      ]
     },
     "metadata": {},
     "output_type": "display_data"
    }
   ],
   "source": [
    "viewer = vlx.OrbitalViewer()\n",
    "viewer.plot(molecule, basis, scf_drv.mol_orbs)"
   ]
  },
  {
   "cell_type": "code",
   "execution_count": 6,
   "id": "2eaccc85-57cb-464e-8486-2160f5446cf4",
   "metadata": {
    "editable": true,
    "scrolled": true,
    "slideshow": {
     "slide_type": ""
    },
    "tags": [
     "remove-output"
    ]
   },
   "outputs": [
    {
     "name": "stdout",
     "output_type": "stream",
     "text": [
      "                                                                                                                          \n",
      "                                            Linear Response EigenSolver Setup                                             \n",
      "                                           ===================================                                            \n",
      "                                                                                                                          \n",
      "                               Number of States                : 4                                                        \n",
      "                               Max. Number of Iterations       : 150                                                      \n",
      "                               Convergence Threshold           : 1.0e-04                                                  \n",
      "                               ERI Screening Scheme            : Cauchy Schwarz + Density                                 \n",
      "                               ERI Screening Threshold         : 1.0e-12                                                  \n",
      "                               Exchange-Correlation Functional : BHANDHLYP                                                \n",
      "                               Molecular Grid Level            : 4                                                        \n",
      "                                                                                                                          \n",
      "* Info * Molecular grid with 78818 points generated in 0.09 sec.                                                          \n",
      "                                                                                                                          \n",
      "* Info * Processing Fock builds... (batch size: 8)                                                                        \n",
      "* Info *   batch 1/1                                                                                                      \n",
      "                                                                                                                          \n",
      "* Info * 4 gerade trial vectors in reduced space                                                                          \n",
      "* Info * 4 ungerade trial vectors in reduced space                                                                        \n",
      "                                                                                                                          \n",
      "* Info * 28.30 kB of memory used for subspace procedure on the master node                                                \n",
      "* Info * 2.65 GB of memory available for the solver on the master node                                                    \n",
      "                                                                                                                          \n",
      "               *** Iteration:   1 * Residuals (Max,Min): 5.42e-01 and 7.85e-02                                            \n",
      "                                                                                                                          \n",
      "               Excitation 1   :      0.33140639 Residual Norm: 0.08430297                                                 \n",
      "               Excitation 2   :      0.35126204 Residual Norm: 0.54184670                                                 \n",
      "               Excitation 3   :      0.35308894 Residual Norm: 0.08998951                                                 \n",
      "               Excitation 4   :      0.37082083 Residual Norm: 0.07845036                                                 \n",
      "                                                                                                                          \n",
      "* Info * Processing Fock builds... (batch size: 8)                                                                        \n",
      "* Info *   batch 1/1                                                                                                      \n",
      "                                                                                                                          \n",
      "* Info * 8 gerade trial vectors in reduced space                                                                          \n",
      "* Info * 8 ungerade trial vectors in reduced space                                                                        \n",
      "                                                                                                                          \n",
      "* Info * 46.74 kB of memory used for subspace procedure on the master node                                                \n",
      "* Info * 2.65 GB of memory available for the solver on the master node                                                    \n",
      "                                                                                                                          \n",
      "               *** Iteration:   2 * Residuals (Max,Min): 7.92e-02 and 2.73e-03                                            \n",
      "                                                                                                                          \n",
      "               Excitation 1   :      0.30105220 Residual Norm: 0.07920055                                                 \n",
      "               Excitation 2   :      0.32895561 Residual Norm: 0.00559636                                                 \n",
      "               Excitation 3   :      0.35049413 Residual Norm: 0.01563886                                                 \n",
      "               Excitation 4   :      0.36897501 Residual Norm: 0.00272782                                                 \n",
      "                                                                                                                          \n",
      "* Info * Processing Fock builds... (batch size: 8)                                                                        \n",
      "* Info *   batch 1/1                                                                                                      \n",
      "                                                                                                                          \n",
      "* Info * 12 gerade trial vectors in reduced space                                                                         \n",
      "* Info * 12 ungerade trial vectors in reduced space                                                                       \n",
      "                                                                                                                          \n",
      "* Info * 65.33 kB of memory used for subspace procedure on the master node                                                \n",
      "* Info * 2.65 GB of memory available for the solver on the master node                                                    \n",
      "                                                                                                                          \n",
      "               *** Iteration:   3 * Residuals (Max,Min): 1.38e-02 and 3.39e-15                                            \n",
      "                                                                                                                          \n",
      "               Excitation 1   :      0.29923219 Residual Norm: 0.01378366                                                 \n",
      "               Excitation 2   :      0.32894709 Residual Norm: 0.00000000   converged                                     \n",
      "               Excitation 3   :      0.35044261 Residual Norm: 0.00210675                                                 \n",
      "               Excitation 4   :      0.36897178 Residual Norm: 0.00000000   converged                                     \n",
      "                                                                                                                          \n",
      "* Info * Processing Fock builds... (batch size: 4)                                                                        \n",
      "* Info *   batch 1/1                                                                                                      \n",
      "                                                                                                                          \n",
      "* Info * 14 gerade trial vectors in reduced space                                                                         \n",
      "* Info * 14 ungerade trial vectors in reduced space                                                                       \n",
      "                                                                                                                          \n",
      "* Info * 74.54 kB of memory used for subspace procedure on the master node                                                \n",
      "* Info * 2.65 GB of memory available for the solver on the master node                                                    \n",
      "                                                                                                                          \n",
      "               *** Iteration:   4 * Residuals (Max,Min): 9.57e-04 and 3.45e-15                                            \n",
      "                                                                                                                          \n",
      "               Excitation 1   :      0.29918871 Residual Norm: 0.00095684                                                 \n",
      "               Excitation 2   :      0.32894709 Residual Norm: 0.00000000   converged                                     \n",
      "               Excitation 3   :      0.35044179 Residual Norm: 0.00011768                                                 \n",
      "               Excitation 4   :      0.36897178 Residual Norm: 0.00000000   converged                                     \n",
      "                                                                                                                          \n",
      "* Info * Processing Fock builds... (batch size: 4)                                                                        \n",
      "* Info *   batch 1/1                                                                                                      \n",
      "                                                                                                                          \n",
      "* Info * 16 gerade trial vectors in reduced space                                                                         \n",
      "* Info * 16 ungerade trial vectors in reduced space                                                                       \n",
      "                                                                                                                          \n",
      "* Info * 83.60 kB of memory used for subspace procedure on the master node                                                \n",
      "* Info * 2.64 GB of memory available for the solver on the master node                                                    \n",
      "                                                                                                                          \n",
      "               *** Iteration:   5 * Residuals (Max,Min): 9.37e-05 and 3.57e-15                                            \n",
      "                                                                                                                          \n",
      "               Excitation 1   :      0.29918848 Residual Norm: 0.00009365   converged                                     \n",
      "               Excitation 2   :      0.32894709 Residual Norm: 0.00000000   converged                                     \n",
      "               Excitation 3   :      0.35044179 Residual Norm: 0.00002329   converged                                     \n",
      "               Excitation 4   :      0.36897178 Residual Norm: 0.00000000   converged                                     \n",
      "                                                                                                                          \n",
      "               *** Linear response converged in 5 iterations. Time: 1.52 sec                                              \n",
      "                                                                                                                          \n",
      "                                                                                                                          \n",
      "               Electric Transition Dipole Moments (dipole length, a.u.)                                                   \n",
      "               --------------------------------------------------------                                                   \n",
      "                                                X            Y            Z                                               \n",
      "               Excited State    S1:     -1.419477    -0.000000     0.000000                                               \n",
      "               Excited State    S2:     -0.000000     0.000000     0.000000                                               \n",
      "               Excited State    S3:      0.000000    -0.000000    -0.015140                                               \n",
      "               Excited State    S4:     -0.000000    -0.000000    -0.000000                                               \n",
      "                                                                                                                          \n",
      "               Electric Transition Dipole Moments (dipole velocity, a.u.)                                                 \n",
      "               ----------------------------------------------------------                                                 \n",
      "                                                X            Y            Z                                               \n",
      "               Excited State    S1:     -1.240102    -0.000000    -0.000000                                               \n",
      "               Excited State    S2:     -0.000000     0.000000     0.000000                                               \n",
      "               Excited State    S3:      0.000000     0.000000    -0.133081                                               \n",
      "               Excited State    S4:      0.000000    -0.000000    -0.000000                                               \n",
      "                                                                                                                          \n",
      "               Magnetic Transition Dipole Moments (a.u.)                                                                  \n",
      "               -----------------------------------------                                                                  \n",
      "                                                X            Y            Z                                               \n",
      "               Excited State    S1:      0.000000     0.000000    -0.000000                                               \n",
      "               Excited State    S2:     -0.697256     0.000000    -0.000000                                               \n",
      "               Excited State    S3:      0.000000     0.000000    -0.000000                                               \n",
      "               Excited State    S4:      0.045330    -0.000000    -0.000000                                               \n",
      "                                                                                                                          \n",
      "               One-Photon Absorption                                                                                      \n",
      "               ---------------------                                                                                      \n",
      "               Excited State    S1:      0.29918848 a.u.      8.14133 eV    Osc.Str.    0.4019                            \n",
      "               Excited State    S2:      0.32894709 a.u.      8.95111 eV    Osc.Str.    0.0000                            \n",
      "               Excited State    S3:      0.35044179 a.u.      9.53601 eV    Osc.Str.    0.0001                            \n",
      "               Excited State    S4:      0.36897178 a.u.     10.04023 eV    Osc.Str.    0.0000                            \n",
      "                                                                                                                          \n",
      "               Electronic Circular Dichroism                                                                              \n",
      "               -----------------------------                                                                              \n",
      "               Excited State    S1:     Rot.Str.     -0.000000 a.u.    -0.0000 [10**(-40) cgs]                            \n",
      "               Excited State    S2:     Rot.Str.      0.000000 a.u.     0.0000 [10**(-40) cgs]                            \n",
      "               Excited State    S3:     Rot.Str.      0.000000 a.u.     0.0000 [10**(-40) cgs]                            \n",
      "               Excited State    S4:     Rot.Str.      0.000000 a.u.     0.0000 [10**(-40) cgs]                            \n",
      "                                                                                                                          \n",
      "               Character of excitations:                                                                                  \n",
      "                                                                                                                          \n",
      "               Excited state 1                                                                                            \n",
      "               ---------------                                                                                            \n",
      "               HOMO     -> LUMO         0.9946                                                                            \n",
      "                                                                                                                          \n",
      "               Excited state 2                                                                                            \n",
      "               ---------------                                                                                            \n",
      "               HOMO-1   -> LUMO        -0.9902                                                                            \n",
      "                                                                                                                          \n",
      "               Excited state 3                                                                                            \n",
      "               ---------------                                                                                            \n",
      "               HOMO     -> LUMO+1      -0.9970                                                                            \n",
      "                                                                                                                          \n",
      "               Excited state 4                                                                                            \n",
      "               ---------------                                                                                            \n",
      "               HOMO     -> LUMO+2       0.9904                                                                            \n",
      "                                                                                                                          \n"
     ]
    }
   ],
   "source": [
    "lreig_drv = vlx.LinearResponseEigenSolver()\n",
    "lreig_drv.nstates = 4\n",
    "\n",
    "lreig_results = lreig_drv.compute(molecule, basis, scf_results)"
   ]
  },
  {
   "cell_type": "code",
   "execution_count": 7,
   "id": "09624e0a-6794-46a4-b410-87962416d473",
   "metadata": {
    "editable": true,
    "slideshow": {
     "slide_type": ""
    },
    "tags": []
   },
   "outputs": [
    {
     "name": "stdout",
     "output_type": "stream",
     "text": [
      "    E       mu_x    mu_y    mu_z    m_x     m_y     m_z     f       R       \n",
      "------------------------------------------------------------------------\n",
      "  0.2790 -0.0000 -0.0000  0.0000 -0.0000 -0.9272  0.0000  0.0000  0.0000\n",
      "  0.3031 -1.6703 -0.0000 -0.0000  0.0000 -0.8399 -0.0000  0.5637 -0.0000\n",
      "  0.3098 -0.9185 -0.0000  0.0000  0.0000 -0.4570 -0.0000  0.1743 -0.0000\n",
      "  0.3214  0.0000 -0.0000 -0.0000  0.0000 -0.4909  0.0000  0.0000  0.0000\n"
     ]
    }
   ],
   "source": [
    "print(f\"    {'E':8s}{'mu_x':8s}{'mu_y':8s}{'mu_z':8s}{'m_x':8s}{'m_y':8s}{'m_z':8s}{'f':8s}{'R':8s}\")\n",
    "print(72 * \"-\")\n",
    "\n",
    "for E, e, m, f, R in zip(\n",
    "    lreig_results[\"eigenvalues\"],\n",
    "    lreig_results[\"electric_transition_dipoles\"],\n",
    "    lreig_results[\"magnetic_transition_dipoles\"],\n",
    "    lreig_results[\"oscillator_strengths\"],\n",
    "    lreig_results[\"rotatory_strengths\"],\n",
    "):\n",
    "    print(\n",
    "        f\"{E:8.4f}{e[0]:8.4f}{e[1]:8.4f}{e[2]:8.4f}{m[0]:8.4f}{m[1]:8.4f}{m[2]:8.4f}{f:8.4f}{R:8.4f}\"\n",
    "    )"
   ]
  },
  {
   "cell_type": "code",
   "execution_count": 8,
   "id": "2f16df58-7b33-46b9-9fd9-daedd2e57610",
   "metadata": {
    "editable": true,
    "slideshow": {
     "slide_type": ""
    },
    "tags": []
   },
   "outputs": [
    {
     "name": "stdout",
     "output_type": "stream",
     "text": [
      "[['HOMO     -> LUMO        -0.9789'], ['HOMO-1   -> LUMO         0.9586', 'HOMO     -> LUMO+1       0.2700'], ['HOMO     -> LUMO+1       0.9593', 'HOMO-1   -> LUMO        -0.2752'], ['HOMO-1   -> LUMO+1      -0.9776']]\n"
     ]
    }
   ],
   "source": [
    "print(lreig_results[\"excitation_details\"])"
   ]
  }
 ],
 "metadata": {
  "kernelspec": {
   "display_name": "Python 3 (ipykernel)",
   "language": "python",
   "name": "python3"
  },
  "language_info": {
   "codemirror_mode": {
    "name": "ipython",
    "version": 3
   },
   "file_extension": ".py",
   "mimetype": "text/x-python",
   "name": "python",
   "nbconvert_exporter": "python",
   "pygments_lexer": "ipython3",
   "version": "3.11.6"
  }
 },
 "nbformat": 4,
 "nbformat_minor": 5
}
