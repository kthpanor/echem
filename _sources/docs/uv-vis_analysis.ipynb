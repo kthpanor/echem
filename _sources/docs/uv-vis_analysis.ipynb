{
 "cells": [
  {
   "cell_type": "markdown",
   "id": "96b5371a",
   "metadata": {},
   "source": [
    "# Spectrum analysis\n",
    "\n",
    "- Visualization and assignment of states\n",
    "    - Valence-valence\n",
    "    - Valence-Rydberg\n",
    "    - Charge-transfer\n",
    "- Check visualization tools paper for good examples\n",
    "- Later: descriptors which help determine state character"
   ]
  }
 ],
 "metadata": {
  "kernelspec": {
   "display_name": "Python 3 (ipykernel)",
   "language": "python",
   "name": "python3"
  },
  "language_info": {
   "codemirror_mode": {
    "name": "ipython",
    "version": 3
   },
   "file_extension": ".py",
   "mimetype": "text/x-python",
   "name": "python",
   "nbconvert_exporter": "python",
   "pygments_lexer": "ipython3",
   "version": "3.9.12"
  }
 },
 "nbformat": 4,
 "nbformat_minor": 5
}
