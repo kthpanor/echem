{
 "cells": [
  {
   "cell_type": "markdown",
   "id": "9755b725",
   "metadata": {},
   "source": [
    "\n",
    "# Raman spectroscopy\n",
    "\n",
    "(sec:raman-tutorial)=\n",
    "\n",
    "The Raman scattering process involves the inelasic scattering of light in the visible range, leaving the molecule in a different vibrational state. The associated scattering amplitude is related to the transition polarizability tensor ($\\boldsymbol{\\alpha}$) expressed uing the Kramers-Heisenberg-Dirac equation {cite}`Norman2018`:\n",
    "\\begin{equation}\n",
    "\\alpha_{ab}(\\omega,\\omega') = \\frac{1}{\\hbar}\\sum_n\\left[\\frac{\\langle f|\\hat{\\mu}_a | n\\rangle\\langle n|\\hat{\\mu}_b | 0\\rangle}{\\omega_{n0}-\\omega - i\\gamma_n}+\\frac{\\langle f|\\hat{\\mu}_b | n\\rangle\\langle n|\\hat{\\mu}_a | 0\\rangle}{\\omega_{n0}+\\omega' + i\\gamma_n}\\right]\\,,\n",
    "\\end{equation}\n",
    "where $\\alpha_{ab}$ is a tensor element (with $a,b=x,y,$ or $z$), $|0\\rangle$ and $|f\\rangle$ are the ground state, respectively excited vibrational state, $\\hat{\\mu}$ is the dipole operator, $\\omega$ and $\\omega'$ are the incoming, respectively, outgoing photon angular frequecy, the sumation is over all intermidite excited states $|n \\rangle$, $\\gamma_n$ is the inverse lifetime parameter of state $|n\\rangle$, and $\\omega_{n0}$ is the angular frequency associated to the energy difference between the vibrational excited state $|n\\rangle$ and the ground state.\n",
    "\n",
    "In the case of normal Raman scattering described using the harmonic approximation for molecular vibrations, the transition polarizability associated to normal mode $k$ ($\\alpha^k_{ab}$) becomes {cite}`Norman2018`:\n",
    "\\begin{equation}\n",
    "\\alpha^k_{ab} = \\sqrt{\\frac{\\hbar}{2\\omega_k}}\\left(\\frac{\\partial \\alpha^\\mathrm{e}_{ab}}{\\partial Q_k}\\right)\\,.\n",
    "\\end{equation}\n",
    "Here, $\\omega_k$ is the angular frequency corresponding to the normal mode described by the $Q_k$ normal coordiante and $\\alpha^\\mathrm{e}_{ab}$ is the $ab$ component of the electronic polarizability tensor.\n",
    "\n",
    "Raman scattering amplitudes thus depend on the derivative of the electronic polarizability with respect to the normal coordinate, so only modes along which the polarizability changes will be Raman active.\n",
    "\n",
    "For randomly oriented molecules and linearly polarized incident light, the Raman differenial cross-section is calculated in practice as {cite}`Guthmuller2019`:\n",
    "\\begin{equation}\n",
    "\\frac{\\mathrm{d}\\sigma_k}{\\mathrm{d}\\Omega} = \\frac{\\hbar\\omega_L\\omega_S^3}{32\\pi^2\\epsilon_0^2c^4\\omega_k}\\frac{S_k}{45}\n",
    "\\end{equation}\n",
    "where $\\omega_L$ is ..., $\\omega_S$ is the angular frequency of the scattered light, $\\omega_k$ is the angular frequency of vibrational mode $k$, and $S_k$ is the Raman activity of the mode, defined as {cite}`Guthmuller2019`:\n",
    "\\begin{equation}\n",
    "S_k=45\\bar{\\alpha}^2_k + 7\\bar{\\gamma}^2_k.\n",
    "\\end{equation}\n",
    "Here, $\\bar{\\alpha}^2_k$ and $\\bar{\\gamma}^2_k$ are Raman rotational invariants {cite}`Guthmuller2019`:\n",
    "\\begin{align}\n",
    "\\bar{\\alpha}^2_k &= \\frac{1}{9}\\left(\\frac{\\partial \\alpha_{xx}^\\mathrm{e}}{\\partial Q_k} + \\frac{\\partial \\alpha_{yy}^\\mathrm{e}}{\\partial Q_k} + \\frac{\\partial \\alpha_{zz}^\\mathrm{e}}{\\partial Q_k}\\right)^2\\\\\n",
    "\\bar{\\gamma}^2_k &= 3 \\left[\\left(\\frac{\\partial \\alpha_{xy}^\\mathrm{e}}{\\partial Q_k}\\right)^2 + \\left(\\frac{\\partial \\alpha_{xz}^\\mathrm{e}}{\\partial Q_k}\\right)^2 + \\left(\\frac{\\partial \\alpha_{yz}^\\mathrm{e}}{\\partial Q_k}\\right)^2\\right]\\\\\n",
    "&+\\frac12\\left[ \\left(\\frac{\\partial \\alpha_{xx}^\\mathrm{e}}{\\partial Q_k}-\\frac{\\partial \\alpha_{yy}^\\mathrm{e}}{\\partial Q_k}\\right)^2 + \\left(\\frac{\\partial \\alpha_{xx}^\\mathrm{e}}{\\partial Q_k}-\\frac{\\partial \\alpha_{zz}^\\mathrm{e}}{\\partial Q_k}\\right)^2 +\\left(\\frac{\\partial \\alpha_{yy}^\\mathrm{e}}{\\partial Q_k}-\\frac{\\partial \\alpha_{zz}^\\mathrm{e}}{\\partial Q_k}\\right)^2    \\right]\\,.\n",
    "\\end{align}\n"
   ]
  },
  {
   "cell_type": "code",
   "execution_count": null,
   "id": "e2985b8d",
   "metadata": {},
   "outputs": [],
   "source": []
  }
 ],
 "metadata": {
  "kernelspec": {
   "display_name": "Python 3",
   "language": "python",
   "name": "python3"
  },
  "language_info": {
   "codemirror_mode": {
    "name": "ipython",
    "version": 3
   },
   "file_extension": ".py",
   "mimetype": "text/x-python",
   "name": "python",
   "nbconvert_exporter": "python",
   "pygments_lexer": "ipython3",
   "version": "3.6.9"
  }
 },
 "nbformat": 4,
 "nbformat_minor": 5
}
