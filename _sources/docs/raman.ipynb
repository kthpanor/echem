{
 "cells": [
  {
   "cell_type": "markdown",
   "id": "9755b725",
   "metadata": {},
   "source": [
    "(sec:raman-tutorial)=\n",
    "# Raman spectroscopy\n",
    "\n",
    "The Raman scattering process involves the inelasic scattering of light in the visible range, leaving the molecule in a different vibrational state. The associated scattering amplitude is related to the transition polarizability tensor $\\boldsymbol{\\alpha}$, as discussed in more details [here](dipole_mom_gradient:label). In the case of normal Raman scattering described using the harmonic approximation for molecular vibrations, the transition polarizability associated to a normal mode $k$ depends on the derivative of the electronic polarizability with respect to the normal coordinate $Q_k$. As a consequence, only modes along which the polarizability changes will be Raman active."
   ]
  },
  {
   "cell_type": "markdown",
   "id": "c369c966-6da4-4e75-b8ea-326553f6eb12",
   "metadata": {},
   "source": [
    "## Raman spectra of H<sub>2</sub>O, NH<sub>3</sub> and CH<sub>4</sub>\n",
    "Here, we will calculate the Raman spectra of H<sub>2</sub>O, NH<sub>3</sub> and CH<sub>4</sub> and determine how going from O over N to C influences the vibrational frequencies of the Hydrogen stretching modes."
   ]
  },
  {
   "cell_type": "code",
   "execution_count": 1,
   "id": "01c915b2-d1dd-498d-bc8a-d1cbe817957d",
   "metadata": {
    "tags": [
     "hide-output"
    ]
   },
   "outputs": [
    {
     "name": "stdout",
     "output_type": "stream",
     "text": [
      "* Warning * Environment variable OMP_NUM_THREADS not set.\n",
      "* Warning * Setting OMP_NUM_THREADS to 8.\n",
      "* Warning * Setting MKL_THREADING_LAYER to \"GNU\".\n"
     ]
    }
   ],
   "source": [
    "# Import section\n",
    "import veloxchem as vlx\n",
    "import py3Dmol as p3d\n",
    "import sys\n",
    "from veloxchem.veloxchemlib import bohr_in_angstroms\n",
    "\n",
    "from matplotlib import pyplot as plt\n",
    "import numpy as np\n",
    "\n",
    "basis_set_label = '6-31G'"
   ]
  },
  {
   "cell_type": "markdown",
   "id": "36bdaede-a46e-4639-baf8-9ebd184e2fcf",
   "metadata": {},
   "source": [
    "To compute a meaningful Raman spectrum, the molecular geometries must be optimized at the same level of theory and using the same basis set. Let us assume that we have optimized the geometries at the HF/6-31G theory level and we have these geometries stored in xyz files. Otherwise, we would start by performing the necessary geometry optimizations."
   ]
  },
  {
   "cell_type": "code",
   "execution_count": 2,
   "id": "7ff201a0-0f1e-43e3-acde-8f2dfda5d6c5",
   "metadata": {},
   "outputs": [
    {
     "name": "stdout",
     "output_type": "stream",
     "text": [
      "\n",
      "       (a) H2O                   (b) NH3                  (c) CH4\n"
     ]
    },
    {
     "data": {
      "application/3dmoljs_load.v0": "<div id=\"3dmolviewer_16544426704907298\"  style=\"position: relative; width: 600px; height: 250px\">\n        <p id=\"3dmolwarning_16544426704907298\" style=\"background-color:#ffcccc;color:black\">You appear to be running in JupyterLab (or JavaScript failed to load for some other reason).  You need to install the 3dmol extension: <br>\n        <tt>jupyter labextension install jupyterlab_3dmol</tt></p>\n        </div>\n<script>\n\nvar loadScriptAsync = function(uri){\n  return new Promise((resolve, reject) => {\n    var tag = document.createElement('script');\n    tag.src = uri;\n    tag.async = true;\n    tag.onload = () => {\n      resolve();\n    };\n  var firstScriptTag = document.getElementsByTagName('script')[0];\n  firstScriptTag.parentNode.insertBefore(tag, firstScriptTag);\n});\n};\n\nif(typeof $3Dmolpromise === 'undefined') {\n$3Dmolpromise = null;\n  $3Dmolpromise = loadScriptAsync('https://3dmol.org/build/3Dmol.js');\n}\n\nvar viewer_16544426704907298 = null;\nvar warn = document.getElementById(\"3dmolwarning_16544426704907298\");\nif(warn) {\n    warn.parentNode.removeChild(warn);\n}\n$3Dmolpromise.then(function() {\nvar viewergrid_16544426704907298 = null;\nviewergrid_16544426704907298 = $3Dmol.createViewerGrid($(\"#3dmolviewer_16544426704907298\"),{rows: 1, cols: 3, control_all: true},{backgroundColor:\"white\"});\nviewer_16544426704907298 = viewergrid_16544426704907298[0][0];\nviewergrid_16544426704907298[0][0].zoomTo();viewergrid_16544426704907298[0][1].zoomTo();viewergrid_16544426704907298[0][2].zoomTo();\tviewergrid_16544426704907298[0][0].addModel(\"3\\nHF/6-31G\\nO       0.0308991       0.0228758      -0.0161623\\nH       0.2572697       0.8975361       0.2762831\\nH       0.5960312      -0.2658119      -0.7226208\\n\",\"xyz\");\n\tviewergrid_16544426704907298[0][1].addModel(\"4\\nHF/6-31G\\nN       0.0961758       0.0137254       0.1108604\\nH      -0.4973546       0.2946055       0.8535526\\nH       0.7093592       0.7070993      -0.2441077\\nH       0.4632196      -0.9053302       0.1689946\\n\",\"xyz\");\n\tviewergrid_16544426704907298[0][2].addModel(\"5\\nHF/6-31G\\nC      -0.0000199       0.0000199       0.0000000\\nH       0.5489997       0.7922034       0.4919110\\nH       0.6769972      -0.8058792      -0.2512524\\nH      -0.7710148      -0.3700500       0.6629997\\nH      -0.4550622       0.3838059      -0.9036583\\n\",\"xyz\");\n\tviewergrid_16544426704907298[0][0].setStyle({\"stick\": {}});\n\tviewergrid_16544426704907298[0][1].setStyle({\"stick\": {}});\n\tviewergrid_16544426704907298[0][2].setStyle({\"stick\": {}});\nviewergrid_16544426704907298[0][2].render();\nviewergrid_16544426704907298[0][1].render();\nviewergrid_16544426704907298[0][0].render();\n});\n</script>",
      "text/html": [
       "<div id=\"3dmolviewer_16544426704907298\"  style=\"position: relative; width: 600px; height: 250px\">\n",
       "        <p id=\"3dmolwarning_16544426704907298\" style=\"background-color:#ffcccc;color:black\">You appear to be running in JupyterLab (or JavaScript failed to load for some other reason).  You need to install the 3dmol extension: <br>\n",
       "        <tt>jupyter labextension install jupyterlab_3dmol</tt></p>\n",
       "        </div>\n",
       "<script>\n",
       "\n",
       "var loadScriptAsync = function(uri){\n",
       "  return new Promise((resolve, reject) => {\n",
       "    var tag = document.createElement('script');\n",
       "    tag.src = uri;\n",
       "    tag.async = true;\n",
       "    tag.onload = () => {\n",
       "      resolve();\n",
       "    };\n",
       "  var firstScriptTag = document.getElementsByTagName('script')[0];\n",
       "  firstScriptTag.parentNode.insertBefore(tag, firstScriptTag);\n",
       "});\n",
       "};\n",
       "\n",
       "if(typeof $3Dmolpromise === 'undefined') {\n",
       "$3Dmolpromise = null;\n",
       "  $3Dmolpromise = loadScriptAsync('https://3dmol.org/build/3Dmol.js');\n",
       "}\n",
       "\n",
       "var viewer_16544426704907298 = null;\n",
       "var warn = document.getElementById(\"3dmolwarning_16544426704907298\");\n",
       "if(warn) {\n",
       "    warn.parentNode.removeChild(warn);\n",
       "}\n",
       "$3Dmolpromise.then(function() {\n",
       "var viewergrid_16544426704907298 = null;\n",
       "viewergrid_16544426704907298 = $3Dmol.createViewerGrid($(\"#3dmolviewer_16544426704907298\"),{rows: 1, cols: 3, control_all: true},{backgroundColor:\"white\"});\n",
       "viewer_16544426704907298 = viewergrid_16544426704907298[0][0];\n",
       "viewergrid_16544426704907298[0][0].zoomTo();viewergrid_16544426704907298[0][1].zoomTo();viewergrid_16544426704907298[0][2].zoomTo();\tviewergrid_16544426704907298[0][0].addModel(\"3\\nHF/6-31G\\nO       0.0308991       0.0228758      -0.0161623\\nH       0.2572697       0.8975361       0.2762831\\nH       0.5960312      -0.2658119      -0.7226208\\n\",\"xyz\");\n",
       "\tviewergrid_16544426704907298[0][1].addModel(\"4\\nHF/6-31G\\nN       0.0961758       0.0137254       0.1108604\\nH      -0.4973546       0.2946055       0.8535526\\nH       0.7093592       0.7070993      -0.2441077\\nH       0.4632196      -0.9053302       0.1689946\\n\",\"xyz\");\n",
       "\tviewergrid_16544426704907298[0][2].addModel(\"5\\nHF/6-31G\\nC      -0.0000199       0.0000199       0.0000000\\nH       0.5489997       0.7922034       0.4919110\\nH       0.6769972      -0.8058792      -0.2512524\\nH      -0.7710148      -0.3700500       0.6629997\\nH      -0.4550622       0.3838059      -0.9036583\\n\",\"xyz\");\n",
       "\tviewergrid_16544426704907298[0][0].setStyle({\"stick\": {}});\n",
       "\tviewergrid_16544426704907298[0][1].setStyle({\"stick\": {}});\n",
       "\tviewergrid_16544426704907298[0][2].setStyle({\"stick\": {}});\n",
       "viewergrid_16544426704907298[0][2].render();\n",
       "viewergrid_16544426704907298[0][1].render();\n",
       "viewergrid_16544426704907298[0][0].render();\n",
       "});\n",
       "</script>"
      ]
     },
     "metadata": {},
     "output_type": "display_data"
    }
   ],
   "source": [
    "# Prepare molecules and basis sets:\n",
    "h2o_xyz = open(\"../xyz/ir_raman/opt_h2o.xyz\", \"r\").read() # read optimized geometry from file\n",
    "nh3_xyz = open(\"../xyz/ir_raman/opt_nh3.xyz\", \"r\").read() # read optimized geometry from file\n",
    "ch4_xyz = open(\"../xyz/ir_raman/opt_ch4.xyz\", \"r\").read() # read optimized geometry from file\n",
    "\n",
    "h2o = vlx.Molecule.from_xyz_string(h2o_xyz)\n",
    "h2o_basis = vlx.MolecularBasis.read(h2o, basis_set_label)\n",
    "\n",
    "nh3 = vlx.Molecule.from_xyz_string(nh3_xyz)\n",
    "nh3_basis = vlx.MolecularBasis.read(nh3, basis_set_label)\n",
    "\n",
    "ch4 = vlx.Molecule.from_xyz_string(ch4_xyz)\n",
    "ch4_basis = vlx.MolecularBasis.read(ch4, basis_set_label)\n",
    "\n",
    "print(\"\\n       (a) H2O                   (b) NH3                  (c) CH4\")\n",
    "viewer = p3d.view(viewergrid=(1,3),width=600,height=250, linked=True)\n",
    "viewer.addModel(h2o_xyz, 'xyz', viewer=(0,0))\n",
    "viewer.addModel(nh3_xyz, 'xyz', viewer=(0,1))\n",
    "viewer.addModel(ch4_xyz, 'xyz', viewer=(0,2))\n",
    "viewer.setStyle({'stick': {}})\n",
    "viewer.show()"
   ]
  },
  {
   "cell_type": "markdown",
   "id": "04cd0ea9-d262-457a-ab16-9697c1f0a214",
   "metadata": {},
   "source": [
    "To compute the Raman spectrum, we need the vibrational frequencies and Raman intensities. The frequencies are eigenvalues of the molecular Hessian, while the Raman intensities are proportional to the gradient of the polarizability. The first step is to determine the Hessian matrix."
   ]
  },
  {
   "cell_type": "code",
   "execution_count": 3,
   "id": "39c3b8f3-6cf4-4b60-85d2-2a3dee8edcf6",
   "metadata": {
    "scrolled": true,
    "tags": []
   },
   "outputs": [],
   "source": [
    "# Settings:\n",
    "scf_settings = {'conv_thresh': 1.0e-5}\n",
    "method_settings = {} # HF;  use 'xcfun': 'b3lyp', 'grid_level': 4, etc. for a DFT calculation \n",
    "# Numerical Hessian\n",
    "hessian_settings = {'do_raman': 'yes', 'print_depolarization_ratio':'yes'}\n",
    "\n",
    "# We first need to run SCF calculations:\n",
    "h2o_scfdrv = vlx.ScfRestrictedDriver()\n",
    "h2o_scfdrv.update_settings(scf_settings, method_settings)\n",
    "h2o_scfdrv.ostream.state = False # To remove printout\n",
    "h2o_scfdrv.compute(h2o, h2o_basis)\n",
    "\n",
    "nh3_scfdrv = vlx.ScfRestrictedDriver()\n",
    "nh3_scfdrv.update_settings(scf_settings, method_settings)\n",
    "nh3_scfdrv.ostream.state = False\n",
    "nh3_scfdrv.compute(nh3, nh3_basis)\n",
    "\n",
    "ch4_scfdrv = vlx.ScfRestrictedDriver()\n",
    "ch4_scfdrv.update_settings(scf_settings, method_settings)\n",
    "ch4_scfdrv.ostream.state = False\n",
    "ch4_scfdrv.compute(ch4, ch4_basis)"
   ]
  },
  {
   "cell_type": "code",
   "execution_count": 4,
   "id": "485690dc-663a-4d28-8fce-7efdbe2fd165",
   "metadata": {},
   "outputs": [],
   "source": [
    "# Create a Hessian driver object, update settings, and compute \n",
    "h2o_hessian_drv = vlx.scfhessiandriver.ScfHessianDriver(h2o_scfdrv)\n",
    "h2o_hessian_drv.update_settings(method_settings, hessian_settings)\n",
    "\n",
    "nh3_hessian_drv = vlx.scfhessiandriver.ScfHessianDriver(nh3_scfdrv)\n",
    "nh3_hessian_drv.update_settings(method_settings, hessian_settings)\n",
    "\n",
    "ch4_hessian_drv = vlx.scfhessiandriver.ScfHessianDriver(ch4_scfdrv)\n",
    "ch4_hessian_drv.update_settings(method_settings, hessian_settings)"
   ]
  },
  {
   "cell_type": "markdown",
   "id": "65ae6f4e-cb90-44f6-a326-0486072ff66a",
   "metadata": {},
   "source": [
    "```python\n",
    "# Calculate hessians from scratch\n",
    "h2o_hessian_drv.compute(h2o, h2o_basis)\n",
    "nh3_hessian_drv.compute(nh3, nh3_basis)\n",
    "ch4_hessian_drv.compute(ch4, ch4_basis)\n",
    "```"
   ]
  },
  {
   "cell_type": "code",
   "execution_count": 5,
   "id": "10016c7e-4983-4f8d-b13f-bb8fcf2fb9de",
   "metadata": {},
   "outputs": [],
   "source": [
    "# Or read from checkpoint file:\n",
    "\n",
    "import h5py\n",
    "\n",
    "fname = '../h5files/ir_raman/raman.h5'\n",
    "hf = h5py.File(fname, \"r\")\n",
    "\n",
    "labels = ['h2o', 'nh3', 'ch4']\n",
    "i = 0\n",
    "    \n",
    "for driver in [h2o_hessian_drv, nh3_hessian_drv, ch4_hessian_drv]:\n",
    "    label = labels[i]\n",
    "    \n",
    "    driver.hessian = np.array(hf.get(label+'_hessian')) \n",
    "    driver.polarizability_gradient = np.array(hf.get(label+'_polgrad')) \n",
    "    driver.dipole_gradient = np.array( hf.get(label+'_dipolegrad'))\n",
    "    \n",
    "    i += 1\n",
    "\n",
    "hf.close()"
   ]
  },
  {
   "cell_type": "code",
   "execution_count": 6,
   "id": "1d7747f9-9d56-4774-a0eb-13082f5542ea",
   "metadata": {},
   "outputs": [
    {
     "name": "stdout",
     "output_type": "stream",
     "text": [
      "                                                   Vibrational Analysis                                                   \n",
      "                                                  ======================                                                  \n",
      "                                                                                                                          \n",
      "                 Harmonic frequencies (in cm**-1), force constants (in mdyne/A), reduced masses (in amu),                 \n",
      "                          IR intensities (in km/mol), Raman scattering activities (in A**4/amu),                          \n",
      "                      parallel and perpendicular Raman scattering activities, depolarization ratios,                      \n",
      "                                         and Cartesian normal mode displacements.                                         \n",
      "                                                                                                                          \n",
      "                                                                                                                          \n",
      "  Index:                        1                              2                              3               \n",
      "  Frequency:                 1736.87                        3988.20                        4145.10            \n",
      "  Force constant:            1.9404                         9.7200                         11.0231            \n",
      "  Reduced mass:              1.0917                         1.0372                         1.0889             \n",
      "  IR intensity:             123.0358                        2.9544                         54.2936            \n",
      "  Raman activ.:              10.6274                        90.1326                        40.0871            \n",
      "  Parallel Raman:            97.0717                       943.7930                       292.0906            \n",
      "  Perp. Raman:               38.4408                       205.5058                       219.0680            \n",
      "  Depol. ratio:              0.3960                         0.2177                         0.7500             \n",
      "  Normal mode:       X         Y         Z     |    X         Y         Z     |    X         Y         Z     |\n",
      "  1 O             -0.0554   -0.0410    0.0290  |  0.0327    0.0242   -0.0171  |  0.0158   -0.0544   -0.0467  |\n",
      "  2 H              0.5217    0.0427   -0.4725  | -0.1273   -0.6466   -0.2544  |  0.1681    0.6495    0.2172  |\n",
      "  3 H              0.3571    0.6079    0.0128  | -0.3919    0.2622    0.5260  | -0.4197    0.2144    0.5246  |\n",
      "                                                                                                                          \n",
      "                                                                                                                          \n"
     ]
    }
   ],
   "source": [
    "h2o_hessian_drv.vibrational_analysis(h2o)"
   ]
  },
  {
   "cell_type": "code",
   "execution_count": 7,
   "id": "2eca86b2-e55d-4996-8b93-7e5c552244e3",
   "metadata": {},
   "outputs": [
    {
     "name": "stdout",
     "output_type": "stream",
     "text": [
      "                                                   Vibrational Analysis                                                   \n",
      "                                                  ======================                                                  \n",
      "                                                                                                                          \n",
      "                 Harmonic frequencies (in cm**-1), force constants (in mdyne/A), reduced masses (in amu),                 \n",
      "                          IR intensities (in km/mol), Raman scattering activities (in A**4/amu),                          \n",
      "                      parallel and perpendicular Raman scattering activities, depolarization ratios,                      \n",
      "                                         and Cartesian normal mode displacements.                                         \n",
      "                                                                                                                          \n",
      "                                                                                                                          \n",
      "  Index:                        1                              2                              3               \n",
      "  Frequency:                 597.47                         1814.46                        1814.47            \n",
      "  Force constant:            0.2525                         2.1054                         2.1054             \n",
      "  Reduced mass:              1.2003                         1.0854                         1.0854             \n",
      "  IR intensity:             644.8631                        46.9030                        46.9030            \n",
      "  Raman activ.:              4.6612                         6.2677                         6.2677             \n",
      "  Parallel Raman:            58.6274                        45.6689                        45.6690            \n",
      "  Perp. Raman:               0.8086                         34.2517                        34.2517            \n",
      "  Depol. ratio:              0.0138                         0.7500                         0.7500             \n",
      "  Normal mode:       X         Y         Z     |    X         Y         Z     |    X         Y         Z     |\n",
      "  1 N              0.0794    0.0113    0.0915  |  0.0081   -0.0767    0.0024  | -0.0579   -0.0045    0.0508  |\n",
      "  2 H             -0.4452   -0.0243   -0.3601  |  0.1611    0.7186   -0.1654  | -0.1089    0.2583   -0.1202  |\n",
      "  3 H             -0.3156    0.0200   -0.4779  | -0.3086    0.4013    0.3445  |  0.3386   -0.4046   -0.0974  |\n",
      "  4 H             -0.3420   -0.1531   -0.4336  |  0.0343   -0.0540   -0.2130  |  0.5753    0.2093   -0.4884  |\n",
      "                                                                                                                          \n",
      "  Index:                        4                              5                              6               \n",
      "  Frequency:                 3779.47                        3983.60                        3983.60            \n",
      "  Force constant:            8.5217                         10.2768                        10.2768            \n",
      "  Reduced mass:              1.0125                         1.0991                         1.0991             \n",
      "  IR intensity:              0.5571                         16.1431                        16.1430            \n",
      "  Raman activ.:             109.6648                        39.5442                        39.5443            \n",
      "  Parallel Raman:           1223.8453                      288.1351                       288.1354            \n",
      "  Perp. Raman:              174.5125                       216.1014                       216.1015            \n",
      "  Depol. ratio:              0.1426                         0.7500                         0.7500             \n",
      "  Normal mode:       X         Y         Z     |    X         Y         Z     |    X         Y         Z     |\n",
      "  1 N              0.0122    0.0017    0.0141  | -0.0518    0.0536    0.0383  |  0.0367    0.0639   -0.0398  |\n",
      "  2 H              0.3677   -0.1623   -0.4143  |  0.4485   -0.2013   -0.5554  | -0.1983    0.1137    0.2440  |\n",
      "  3 H             -0.3412   -0.4046    0.2305  |  0.0379    0.0729   -0.0208  | -0.4994   -0.5646    0.2943  |\n",
      "  4 H             -0.1966    0.5426   -0.0122  |  0.2330   -0.6159    0.0444  |  0.1873   -0.4371    0.0143  |\n",
      "                                                                                                                          \n",
      "                                                                                                                          \n"
     ]
    }
   ],
   "source": [
    "nh3_hessian_drv.vibrational_analysis(nh3)"
   ]
  },
  {
   "cell_type": "code",
   "execution_count": 8,
   "id": "595ce59f-446b-4ca3-ac05-fc5c5e5b7b2b",
   "metadata": {},
   "outputs": [
    {
     "name": "stdout",
     "output_type": "stream",
     "text": [
      "                                                   Vibrational Analysis                                                   \n",
      "                                                  ======================                                                  \n",
      "                                                                                                                          \n",
      "                 Harmonic frequencies (in cm**-1), force constants (in mdyne/A), reduced masses (in amu),                 \n",
      "                          IR intensities (in km/mol), Raman scattering activities (in A**4/amu),                          \n",
      "                      parallel and perpendicular Raman scattering activities, depolarization ratios,                      \n",
      "                                         and Cartesian normal mode displacements.                                         \n",
      "                                                                                                                          \n",
      "                                                                                                                          \n",
      "  Index:                        1                              2                              3               \n",
      "  Frequency:                 1516.76                        1516.77                        1516.77            \n",
      "  Force constant:            1.6021                         1.6021                         1.6021             \n",
      "  Reduced mass:              1.1820                         1.1820                         1.1820             \n",
      "  IR intensity:              21.4495                        21.4494                        21.4495            \n",
      "  Raman activ.:              2.9988                         2.9987                         2.9988             \n",
      "  Parallel Raman:            21.8503                        21.8500                        21.8504            \n",
      "  Perp. Raman:               16.3878                        16.3875                        16.3878            \n",
      "  Depol. ratio:              0.7500                         0.7500                         0.7500             \n",
      "  Normal mode:       X         Y         Z     |    X         Y         Z     |    X         Y         Z     |\n",
      "  1 C              0.1208    0.0145    0.0316  |  0.0074    0.1011   -0.0744  |  0.0340   -0.0734   -0.0963  |\n",
      "  2 H             -0.3408    0.2769    0.0631  |  0.0868   -0.3096    0.4673  | -0.3867    0.0305    0.2628  |\n",
      "  3 H             -0.3837   -0.3044   -0.2252  | -0.2187   -0.2678    0.4258  |  0.1738   -0.0487    0.3378  |\n",
      "  4 H             -0.3008    0.0648   -0.3929  |  0.2984   -0.3257    0.0707  |  0.0638    0.4618    0.2676  |\n",
      "  5 H             -0.4146   -0.2098    0.1782  | -0.2543   -0.3013   -0.0769  | -0.2559    0.4307    0.2793  |\n",
      "                                                                                                                          \n",
      "  Index:                        4                              5                              6               \n",
      "  Frequency:                 1708.70                        1708.70                        3181.65            \n",
      "  Force constant:            1.7339                         1.7339                         6.0118             \n",
      "  Reduced mass:              1.0080                         1.0080                         1.0080             \n",
      "  IR intensity:              0.0000                         0.0000                         0.0000             \n",
      "  Raman activ.:              39.5165                        39.5165                       145.7008            \n",
      "  Parallel Raman:           287.9329                       287.9329                       1857.8604           \n",
      "  Perp. Raman:              215.9497                       215.9497                        0.0000             \n",
      "  Depol. ratio:              0.7500                         0.7500                         0.0000             \n",
      "  Normal mode:       X         Y         Z     |    X         Y         Z     |    X         Y         Z     |\n",
      "  1 C              0.0000    0.0000   -0.0000  | -0.0000   -0.0000   -0.0000  | -0.0000   -0.0000   -0.0000  |\n",
      "  2 H             -0.4146    0.2792    0.0130  |  0.1175    0.1950   -0.4452  |  0.2537    0.3660    0.2273  |\n",
      "  3 H             -0.3848   -0.2703   -0.1699  | -0.0637   -0.1956    0.4557  |  0.3128   -0.3724   -0.1161  |\n",
      "  4 H              0.3506   -0.1577    0.3197  |  0.0127   -0.4426   -0.2322  | -0.3562   -0.1710    0.3063  |\n",
      "  5 H              0.4487    0.1487   -0.1628  | -0.0664    0.4432    0.2217  | -0.2103    0.1773   -0.4175  |\n",
      "                                                                                                                          \n",
      "  Index:                        7                              8                              9               \n",
      "  Frequency:                 3296.17                        3296.17                        3296.18            \n",
      "  Force constant:            7.0367                         7.0367                         7.0367             \n",
      "  Reduced mass:              1.0993                         1.0993                         1.0993             \n",
      "  IR intensity:              37.8001                        37.8000                        37.8000            \n",
      "  Raman activ.:              66.7339                        66.7338                        66.7338            \n",
      "  Parallel Raman:           486.2497                       486.2491                       486.2492            \n",
      "  Perp. Raman:              364.6872                       364.6868                       364.6869            \n",
      "  Depol. ratio:              0.7500                         0.7500                         0.7500             \n",
      "  Normal mode:       X         Y         Z     |    X         Y         Z     |    X         Y         Z     |\n",
      "  1 C             -0.0340   -0.0610    0.0584  | -0.0033   -0.0620   -0.0666  | -0.0844    0.0270   -0.0209  |\n",
      "  2 H              0.1655    0.2357    0.1716  |  0.3808    0.5344    0.3245  |  0.1386    0.2390    0.1385  |\n",
      "  3 H             -0.0733    0.0606    0.0392  | -0.3633    0.4152    0.1170  |  0.3920   -0.4859   -0.1592  |\n",
      "  4 H              0.5517    0.2531   -0.4667  | -0.1206   -0.0737    0.0854  |  0.2417    0.1337   -0.2324  |\n",
      "  5 H             -0.2385    0.1776   -0.4405  |  0.1425   -0.1372    0.2672  |  0.2337   -0.2087    0.5026  |\n",
      "                                                                                                                          \n",
      "                                                                                                                          \n"
     ]
    }
   ],
   "source": [
    "ch4_hessian_drv.vibrational_analysis(ch4)"
   ]
  },
  {
   "cell_type": "code",
   "execution_count": 9,
   "id": "01084e99-5840-44d0-b9d7-9f83cc38142f",
   "metadata": {},
   "outputs": [],
   "source": [
    "def add_broadening(list_ex_energy, list_osci_strength, line_profile='Lorentzian', line_param=10, step=10):\n",
    "        x_min = np.amin(list_ex_energy) - 50\n",
    "        x_max = np.amax(list_ex_energy) + 50\n",
    "        x = np.arange(x_min, x_max, step)\n",
    "        y = np.zeros((len(x)))\n",
    "        #print(x)\n",
    "        #print(y)\n",
    "\n",
    "        # go through the frames and calculate the spectrum for each frame\n",
    "        for xp in range(len(x)):\n",
    "            for e, f in zip(list_ex_energy, list_osci_strength):\n",
    "                if line_profile == 'Gaussian':\n",
    "                    y[xp] += f * np.exp(-(\n",
    "                        (e - x[xp]) / line_param)**2)\n",
    "                elif line_profile == 'Lorentzian':\n",
    "                    y[xp] += 0.5 * line_param * f / (np.pi * (\n",
    "                        (x[xp] - e)**2 + 0.25 * line_param**2))\n",
    "        return x, y\n"
   ]
  },
  {
   "cell_type": "code",
   "execution_count": 10,
   "id": "831b3511-02f4-4c6e-804a-3cfc9385e20d",
   "metadata": {},
   "outputs": [
    {
     "data": {
      "image/png": "[encoded data removed]",
      "text/plain": [
       "<Figure size 504x288 with 1 Axes>"
      ]
     },
     "metadata": {
      "needs_background": "light"
     },
     "output_type": "display_data"
    }
   ],
   "source": [
    "# plot the Raman spectra\n",
    "plt.figure(figsize=(7,4))\n",
    "\n",
    "h2o_x,h2o_y = h2o_hessian_drv.frequencies, h2o_hessian_drv.raman_intensities\n",
    "nh3_x,nh3_y = nh3_hessian_drv.frequencies, nh3_hessian_drv.raman_intensities\n",
    "ch4_x,ch4_y = ch4_hessian_drv.frequencies, ch4_hessian_drv.raman_intensities\n",
    "\n",
    "h2o_xl, h2o_yl = add_broadening(h2o_x, h2o_y, line_profile='Lorentzian', line_param=10, step=10)\n",
    "nh3_xl, nh3_yl = add_broadening(nh3_x, nh3_y, line_profile='Lorentzian', line_param=10, step=10)\n",
    "ch4_xl, ch4_yl = add_broadening(ch4_x, ch4_y, line_profile='Lorentzian', line_param=10, step=10)\n",
    "\n",
    "plt.plot(h2o_xl, h2o_yl, label='H2O')\n",
    "plt.plot(nh3_xl, nh3_yl, label='NH3')\n",
    "plt.plot(ch4_xl, ch4_yl, label='CH4')\n",
    "\n",
    "plt.xlabel('Wavenumber (cm**-1)')\n",
    "plt.ylabel('Raman activity (A**4/amu)')\n",
    "plt.title(\"Calculated Raman sepctra of H2O, NH3, CH4\")\n",
    "plt.legend()\n",
    "plt.tight_layout(); plt.show()"
   ]
  },
  {
   "cell_type": "markdown",
   "id": "6eac9fad-a7ae-4247-b665-22ef5b212d04",
   "metadata": {},
   "source": [
    "Let's compare the H-stretching modes:"
   ]
  },
  {
   "cell_type": "code",
   "execution_count": 11,
   "id": "84cff38c-2a29-493c-814b-2170a0667cd9",
   "metadata": {},
   "outputs": [],
   "source": [
    "# To animate the normal mode we will need both the geometry and the displacements \n",
    "def get_normal_mode(molecule, normal_mode):\n",
    "    elements = molecule.get_labels()\n",
    "    coords = molecule.get_coordinates() * bohr_in_angstroms() # To transform from au to A\n",
    "    natm = molecule.number_of_atoms()\n",
    "    vib_xyz = \"%d\\n\\n\" % natm\n",
    "    nm = normal_mode.reshape(natm, 3)\n",
    "    for i in range(natm):\n",
    "        # add coordinates:\n",
    "        vib_xyz += elements[i] + \" %15.7f %15.7f %15.7f \" % (coords[i,0], coords[i,1], coords[i,2])\n",
    "        # add displacements:\n",
    "        vib_xyz += \"%15.7f %15.7f %15.7f\\n\" % (nm[i,0], nm[i,1], nm[i,2])\n",
    "    return vib_xyz"
   ]
  },
  {
   "cell_type": "code",
   "execution_count": 12,
   "id": "6d4d0fbf-ce1e-48eb-a96d-b3cfbbfd8feb",
   "metadata": {},
   "outputs": [],
   "source": [
    "h2o_h1 = get_normal_mode(h2o, h2o_hessian_drv.normal_modes[-2])\n",
    "h2o_h2 = get_normal_mode(h2o, h2o_hessian_drv.normal_modes[-1])\n",
    "\n",
    "nh3_h1 = get_normal_mode(nh3, nh3_hessian_drv.normal_modes[-3])\n",
    "nh3_h2 = get_normal_mode(nh3, nh3_hessian_drv.normal_modes[-2])\n",
    "nh3_h3 = get_normal_mode(nh3, nh3_hessian_drv.normal_modes[-1])\n",
    "\n",
    "ch4_h1 = get_normal_mode(ch4, ch4_hessian_drv.normal_modes[-4])\n",
    "ch4_h2 = get_normal_mode(ch4, ch4_hessian_drv.normal_modes[-3])\n",
    "ch4_h3 = get_normal_mode(ch4, ch4_hessian_drv.normal_modes[-2])\n",
    "ch4_h4 = get_normal_mode(ch4, ch4_hessian_drv.normal_modes[-1])"
   ]
  },
  {
   "cell_type": "code",
   "execution_count": 13,
   "id": "7f763995-8941-4d56-bf27-40c77742e4d2",
   "metadata": {},
   "outputs": [
    {
     "name": "stdout",
     "output_type": "stream",
     "text": [
      "These are the two H stretching modes of H2O.\n"
     ]
    },
    {
     "data": {
      "application/3dmoljs_load.v0": "<div id=\"3dmolviewer_16544427546219218\"  style=\"position: relative; width: 300px; height: 200px\">\n        <p id=\"3dmolwarning_16544427546219218\" style=\"background-color:#ffcccc;color:black\">You appear to be running in JupyterLab (or JavaScript failed to load for some other reason).  You need to install the 3dmol extension: <br>\n        <tt>jupyter labextension install jupyterlab_3dmol</tt></p>\n        </div>\n<script>\n\nvar loadScriptAsync = function(uri){\n  return new Promise((resolve, reject) => {\n    var tag = document.createElement('script');\n    tag.src = uri;\n    tag.async = true;\n    tag.onload = () => {\n      resolve();\n    };\n  var firstScriptTag = document.getElementsByTagName('script')[0];\n  firstScriptTag.parentNode.insertBefore(tag, firstScriptTag);\n});\n};\n\nif(typeof $3Dmolpromise === 'undefined') {\n$3Dmolpromise = null;\n  $3Dmolpromise = loadScriptAsync('https://3dmol.org/build/3Dmol.js');\n}\n\nvar viewer_16544427546219218 = null;\nvar warn = document.getElementById(\"3dmolwarning_16544427546219218\");\nif(warn) {\n    warn.parentNode.removeChild(warn);\n}\n$3Dmolpromise.then(function() {\nvar viewergrid_16544427546219218 = null;\nviewergrid_16544427546219218 = $3Dmol.createViewerGrid($(\"#3dmolviewer_16544427546219218\"),{rows: 1, cols: 2, control_all: true},{backgroundColor:\"white\"});\nviewer_16544427546219218 = viewergrid_16544427546219218[0][0];\nviewergrid_16544427546219218[0][0].zoomTo();viewergrid_16544427546219218[0][1].zoomTo();\tviewergrid_16544427546219218[0][0].addModel(\"3\\n\\nO       0.0308991       0.0228758      -0.0161623       0.0327104       0.0242160      -0.0171102\\nH       0.2572697       0.8975361       0.2762831      -0.1272754      -0.6466085      -0.2543954\\nH       0.5960312      -0.2658119      -0.7226208      -0.3919305       0.2622324       0.5259818\\n\",\"xyz\",{\"vibrate\": {\"frames\": 10, \"amplitude\": 0.75}});\n\tviewergrid_16544427546219218[0][1].addModel(\"3\\n\\nO       0.0308991       0.0228758      -0.0161623       0.0158485      -0.0544267      -0.0467330\\nH       0.2572697       0.8975361       0.2762831       0.1681040       0.6495275       0.2171716\\nH       0.5960312      -0.2658119      -0.7226208      -0.4196642       0.2143779       0.5246124\\n\",\"xyz\",{\"vibrate\": {\"frames\": 10, \"amplitude\": 0.75}});\n\tviewergrid_16544427546219218[0][0].setStyle({\"stick\": {}});\n\tviewergrid_16544427546219218[0][1].setStyle({\"stick\": {}});\n\tviewergrid_16544427546219218[0][0].animate({\"loop\": \"backAndForth\"});\n\tviewergrid_16544427546219218[0][1].animate({\"loop\": \"backAndForth\"});\n\tviewergrid_16544427546219218[0][0].rotate(120,\"x\");\n\tviewergrid_16544427546219218[0][1].rotate(120,\"x\");\n\tviewergrid_16544427546219218[0][0].zoomTo();\n\tviewergrid_16544427546219218[0][1].zoomTo();\nviewergrid_16544427546219218[0][1].render();\nviewergrid_16544427546219218[0][0].render();\n});\n</script>",
      "text/html": [
       "<div id=\"3dmolviewer_16544427546219218\"  style=\"position: relative; width: 300px; height: 200px\">\n",
       "        <p id=\"3dmolwarning_16544427546219218\" style=\"background-color:#ffcccc;color:black\">You appear to be running in JupyterLab (or JavaScript failed to load for some other reason).  You need to install the 3dmol extension: <br>\n",
       "        <tt>jupyter labextension install jupyterlab_3dmol</tt></p>\n",
       "        </div>\n",
       "<script>\n",
       "\n",
       "var loadScriptAsync = function(uri){\n",
       "  return new Promise((resolve, reject) => {\n",
       "    var tag = document.createElement('script');\n",
       "    tag.src = uri;\n",
       "    tag.async = true;\n",
       "    tag.onload = () => {\n",
       "      resolve();\n",
       "    };\n",
       "  var firstScriptTag = document.getElementsByTagName('script')[0];\n",
       "  firstScriptTag.parentNode.insertBefore(tag, firstScriptTag);\n",
       "});\n",
       "};\n",
       "\n",
       "if(typeof $3Dmolpromise === 'undefined') {\n",
       "$3Dmolpromise = null;\n",
       "  $3Dmolpromise = loadScriptAsync('https://3dmol.org/build/3Dmol.js');\n",
       "}\n",
       "\n",
       "var viewer_16544427546219218 = null;\n",
       "var warn = document.getElementById(\"3dmolwarning_16544427546219218\");\n",
       "if(warn) {\n",
       "    warn.parentNode.removeChild(warn);\n",
       "}\n",
       "$3Dmolpromise.then(function() {\n",
       "var viewergrid_16544427546219218 = null;\n",
       "viewergrid_16544427546219218 = $3Dmol.createViewerGrid($(\"#3dmolviewer_16544427546219218\"),{rows: 1, cols: 2, control_all: true},{backgroundColor:\"white\"});\n",
       "viewer_16544427546219218 = viewergrid_16544427546219218[0][0];\n",
       "viewergrid_16544427546219218[0][0].zoomTo();viewergrid_16544427546219218[0][1].zoomTo();\tviewergrid_16544427546219218[0][0].addModel(\"3\\n\\nO       0.0308991       0.0228758      -0.0161623       0.0327104       0.0242160      -0.0171102\\nH       0.2572697       0.8975361       0.2762831      -0.1272754      -0.6466085      -0.2543954\\nH       0.5960312      -0.2658119      -0.7226208      -0.3919305       0.2622324       0.5259818\\n\",\"xyz\",{\"vibrate\": {\"frames\": 10, \"amplitude\": 0.75}});\n",
       "\tviewergrid_16544427546219218[0][1].addModel(\"3\\n\\nO       0.0308991       0.0228758      -0.0161623       0.0158485      -0.0544267      -0.0467330\\nH       0.2572697       0.8975361       0.2762831       0.1681040       0.6495275       0.2171716\\nH       0.5960312      -0.2658119      -0.7226208      -0.4196642       0.2143779       0.5246124\\n\",\"xyz\",{\"vibrate\": {\"frames\": 10, \"amplitude\": 0.75}});\n",
       "\tviewergrid_16544427546219218[0][0].setStyle({\"stick\": {}});\n",
       "\tviewergrid_16544427546219218[0][1].setStyle({\"stick\": {}});\n",
       "\tviewergrid_16544427546219218[0][0].animate({\"loop\": \"backAndForth\"});\n",
       "\tviewergrid_16544427546219218[0][1].animate({\"loop\": \"backAndForth\"});\n",
       "\tviewergrid_16544427546219218[0][0].rotate(120,\"x\");\n",
       "\tviewergrid_16544427546219218[0][1].rotate(120,\"x\");\n",
       "\tviewergrid_16544427546219218[0][0].zoomTo();\n",
       "\tviewergrid_16544427546219218[0][1].zoomTo();\n",
       "viewergrid_16544427546219218[0][1].render();\n",
       "viewergrid_16544427546219218[0][0].render();\n",
       "});\n",
       "</script>"
      ]
     },
     "metadata": {},
     "output_type": "display_data"
    }
   ],
   "source": [
    "print(\"These are the two H stretching modes of H2O.\")\n",
    "view = p3d.view(viewergrid=(1,2), width=300, height=200, linked=True)\n",
    "view.addModel(h2o_h1, \"xyz\", {'vibrate': {'frames':10,'amplitude':0.75}}, viewer=(0,0))\n",
    "view.addModel(h2o_h2, \"xyz\", {'vibrate': {'frames':10,'amplitude':0.75}}, viewer=(0,1))\n",
    "view.setStyle({'stick':{}})\n",
    "view.animate({'loop': 'backAndForth'})\n",
    "view.rotate(120, \"x\")\n",
    "view.zoomTo()\n",
    "view.show()"
   ]
  },
  {
   "cell_type": "code",
   "execution_count": 14,
   "id": "02a8093a-96cf-4e68-98a1-4e08b06accb8",
   "metadata": {},
   "outputs": [
    {
     "name": "stdout",
     "output_type": "stream",
     "text": [
      "These are the three H stretching modes of NH3.\n"
     ]
    },
    {
     "data": {
      "application/3dmoljs_load.v0": "<div id=\"3dmolviewer_16544427580762327\"  style=\"position: relative; width: 600px; height: 200px\">\n        <p id=\"3dmolwarning_16544427580762327\" style=\"background-color:#ffcccc;color:black\">You appear to be running in JupyterLab (or JavaScript failed to load for some other reason).  You need to install the 3dmol extension: <br>\n        <tt>jupyter labextension install jupyterlab_3dmol</tt></p>\n        </div>\n<script>\n\nvar loadScriptAsync = function(uri){\n  return new Promise((resolve, reject) => {\n    var tag = document.createElement('script');\n    tag.src = uri;\n    tag.async = true;\n    tag.onload = () => {\n      resolve();\n    };\n  var firstScriptTag = document.getElementsByTagName('script')[0];\n  firstScriptTag.parentNode.insertBefore(tag, firstScriptTag);\n});\n};\n\nif(typeof $3Dmolpromise === 'undefined') {\n$3Dmolpromise = null;\n  $3Dmolpromise = loadScriptAsync('https://3dmol.org/build/3Dmol.js');\n}\n\nvar viewer_16544427580762327 = null;\nvar warn = document.getElementById(\"3dmolwarning_16544427580762327\");\nif(warn) {\n    warn.parentNode.removeChild(warn);\n}\n$3Dmolpromise.then(function() {\nvar viewergrid_16544427580762327 = null;\nviewergrid_16544427580762327 = $3Dmol.createViewerGrid($(\"#3dmolviewer_16544427580762327\"),{rows: 1, cols: 3, control_all: true},{backgroundColor:\"white\"});\nviewer_16544427580762327 = viewergrid_16544427580762327[0][0];\nviewergrid_16544427580762327[0][0].zoomTo();viewergrid_16544427580762327[0][1].zoomTo();viewergrid_16544427580762327[0][2].zoomTo();\tviewergrid_16544427580762327[0][0].addModel(\"4\\n\\nN       0.0961758       0.0137254       0.1108604       0.0122338       0.0017465       0.0141058\\nH      -0.4973546       0.2946055       0.8535526       0.3677203      -0.1622822      -0.4143243\\nH       0.7093592       0.7070993      -0.2441077      -0.3411583      -0.4045994       0.2304919\\nH       0.4632196      -0.9053302       0.1689946      -0.1965639       0.5426122      -0.0121830\\n\",\"xyz\",{\"vibrate\": {\"frames\": 10, \"amplitude\": 0.75}});\n\tviewergrid_16544427580762327[0][1].addModel(\"4\\n\\nN       0.0961758       0.0137254       0.1108604      -0.0517684       0.0535694       0.0382671\\nH      -0.4973546       0.2946055       0.8535526       0.4485282      -0.2013363      -0.5554093\\nH       0.7093592       0.7070993      -0.2441077       0.0378593       0.0728610      -0.0207532\\nH       0.4632196      -0.9053302       0.1689946       0.2329879      -0.6159262       0.0444015\\n\",\"xyz\",{\"vibrate\": {\"frames\": 10, \"amplitude\": 0.75}});\n\tviewergrid_16544427580762327[0][2].addModel(\"4\\n\\nN       0.0961758       0.0137254       0.1108604       0.0367296       0.0639023      -0.0397672\\nH      -0.4973546       0.2946055       0.8535526      -0.1983012       0.1137341       0.2440004\\nH       0.7093592       0.7070993      -0.2441077      -0.4994233      -0.5645995       0.2943155\\nH       0.4632196      -0.9053302       0.1689946       0.1873284      -0.4371236       0.0142899\\n\",\"xyz\",{\"vibrate\": {\"frames\": 10, \"amplitude\": 0.75}});\n\tviewergrid_16544427580762327[0][0].setStyle({\"stick\": {}});\n\tviewergrid_16544427580762327[0][1].setStyle({\"stick\": {}});\n\tviewergrid_16544427580762327[0][2].setStyle({\"stick\": {}});\n\tviewergrid_16544427580762327[0][0].animate({\"loop\": \"backAndForth\"});\n\tviewergrid_16544427580762327[0][1].animate({\"loop\": \"backAndForth\"});\n\tviewergrid_16544427580762327[0][2].animate({\"loop\": \"backAndForth\"});\n\tviewergrid_16544427580762327[0][0].rotate(90,\"x\");\n\tviewergrid_16544427580762327[0][1].rotate(90,\"x\");\n\tviewergrid_16544427580762327[0][2].rotate(90,\"x\");\n\tviewergrid_16544427580762327[0][0].zoomTo();\n\tviewergrid_16544427580762327[0][1].zoomTo();\n\tviewergrid_16544427580762327[0][2].zoomTo();\nviewergrid_16544427580762327[0][2].render();\nviewergrid_16544427580762327[0][1].render();\nviewergrid_16544427580762327[0][0].render();\n});\n</script>",
      "text/html": [
       "<div id=\"3dmolviewer_16544427580762327\"  style=\"position: relative; width: 600px; height: 200px\">\n",
       "        <p id=\"3dmolwarning_16544427580762327\" style=\"background-color:#ffcccc;color:black\">You appear to be running in JupyterLab (or JavaScript failed to load for some other reason).  You need to install the 3dmol extension: <br>\n",
       "        <tt>jupyter labextension install jupyterlab_3dmol</tt></p>\n",
       "        </div>\n",
       "<script>\n",
       "\n",
       "var loadScriptAsync = function(uri){\n",
       "  return new Promise((resolve, reject) => {\n",
       "    var tag = document.createElement('script');\n",
       "    tag.src = uri;\n",
       "    tag.async = true;\n",
       "    tag.onload = () => {\n",
       "      resolve();\n",
       "    };\n",
       "  var firstScriptTag = document.getElementsByTagName('script')[0];\n",
       "  firstScriptTag.parentNode.insertBefore(tag, firstScriptTag);\n",
       "});\n",
       "};\n",
       "\n",
       "if(typeof $3Dmolpromise === 'undefined') {\n",
       "$3Dmolpromise = null;\n",
       "  $3Dmolpromise = loadScriptAsync('https://3dmol.org/build/3Dmol.js');\n",
       "}\n",
       "\n",
       "var viewer_16544427580762327 = null;\n",
       "var warn = document.getElementById(\"3dmolwarning_16544427580762327\");\n",
       "if(warn) {\n",
       "    warn.parentNode.removeChild(warn);\n",
       "}\n",
       "$3Dmolpromise.then(function() {\n",
       "var viewergrid_16544427580762327 = null;\n",
       "viewergrid_16544427580762327 = $3Dmol.createViewerGrid($(\"#3dmolviewer_16544427580762327\"),{rows: 1, cols: 3, control_all: true},{backgroundColor:\"white\"});\n",
       "viewer_16544427580762327 = viewergrid_16544427580762327[0][0];\n",
       "viewergrid_16544427580762327[0][0].zoomTo();viewergrid_16544427580762327[0][1].zoomTo();viewergrid_16544427580762327[0][2].zoomTo();\tviewergrid_16544427580762327[0][0].addModel(\"4\\n\\nN       0.0961758       0.0137254       0.1108604       0.0122338       0.0017465       0.0141058\\nH      -0.4973546       0.2946055       0.8535526       0.3677203      -0.1622822      -0.4143243\\nH       0.7093592       0.7070993      -0.2441077      -0.3411583      -0.4045994       0.2304919\\nH       0.4632196      -0.9053302       0.1689946      -0.1965639       0.5426122      -0.0121830\\n\",\"xyz\",{\"vibrate\": {\"frames\": 10, \"amplitude\": 0.75}});\n",
       "\tviewergrid_16544427580762327[0][1].addModel(\"4\\n\\nN       0.0961758       0.0137254       0.1108604      -0.0517684       0.0535694       0.0382671\\nH      -0.4973546       0.2946055       0.8535526       0.4485282      -0.2013363      -0.5554093\\nH       0.7093592       0.7070993      -0.2441077       0.0378593       0.0728610      -0.0207532\\nH       0.4632196      -0.9053302       0.1689946       0.2329879      -0.6159262       0.0444015\\n\",\"xyz\",{\"vibrate\": {\"frames\": 10, \"amplitude\": 0.75}});\n",
       "\tviewergrid_16544427580762327[0][2].addModel(\"4\\n\\nN       0.0961758       0.0137254       0.1108604       0.0367296       0.0639023      -0.0397672\\nH      -0.4973546       0.2946055       0.8535526      -0.1983012       0.1137341       0.2440004\\nH       0.7093592       0.7070993      -0.2441077      -0.4994233      -0.5645995       0.2943155\\nH       0.4632196      -0.9053302       0.1689946       0.1873284      -0.4371236       0.0142899\\n\",\"xyz\",{\"vibrate\": {\"frames\": 10, \"amplitude\": 0.75}});\n",
       "\tviewergrid_16544427580762327[0][0].setStyle({\"stick\": {}});\n",
       "\tviewergrid_16544427580762327[0][1].setStyle({\"stick\": {}});\n",
       "\tviewergrid_16544427580762327[0][2].setStyle({\"stick\": {}});\n",
       "\tviewergrid_16544427580762327[0][0].animate({\"loop\": \"backAndForth\"});\n",
       "\tviewergrid_16544427580762327[0][1].animate({\"loop\": \"backAndForth\"});\n",
       "\tviewergrid_16544427580762327[0][2].animate({\"loop\": \"backAndForth\"});\n",
       "\tviewergrid_16544427580762327[0][0].rotate(90,\"x\");\n",
       "\tviewergrid_16544427580762327[0][1].rotate(90,\"x\");\n",
       "\tviewergrid_16544427580762327[0][2].rotate(90,\"x\");\n",
       "\tviewergrid_16544427580762327[0][0].zoomTo();\n",
       "\tviewergrid_16544427580762327[0][1].zoomTo();\n",
       "\tviewergrid_16544427580762327[0][2].zoomTo();\n",
       "viewergrid_16544427580762327[0][2].render();\n",
       "viewergrid_16544427580762327[0][1].render();\n",
       "viewergrid_16544427580762327[0][0].render();\n",
       "});\n",
       "</script>"
      ]
     },
     "metadata": {},
     "output_type": "display_data"
    }
   ],
   "source": [
    "print(\"These are the three H stretching modes of NH3.\")\n",
    "view = p3d.view(viewergrid=(1,3), width=600, height=200, linked=True)\n",
    "view.addModel(nh3_h1, \"xyz\", {'vibrate': {'frames':10,'amplitude':0.75}}, viewer=(0,0))\n",
    "view.addModel(nh3_h2, \"xyz\", {'vibrate': {'frames':10,'amplitude':0.75}}, viewer=(0,1))\n",
    "view.addModel(nh3_h3, \"xyz\", {'vibrate': {'frames':10,'amplitude':0.75}}, viewer=(0,2))\n",
    "view.setStyle({'stick':{}})\n",
    "view.animate({'loop': 'backAndForth'})\n",
    "view.rotate(90, \"x\")\n",
    "view.zoomTo()\n",
    "view.show()"
   ]
  },
  {
   "cell_type": "code",
   "execution_count": 15,
   "id": "1cd0822e-692d-4323-b1ca-81b6cf6af4ef",
   "metadata": {},
   "outputs": [
    {
     "name": "stdout",
     "output_type": "stream",
     "text": [
      "These are the four H stretching modes of CH4.\n"
     ]
    },
    {
     "data": {
      "application/3dmoljs_load.v0": "<div id=\"3dmolviewer_1654442760063096\"  style=\"position: relative; width: 600px; height: 200px\">\n        <p id=\"3dmolwarning_1654442760063096\" style=\"background-color:#ffcccc;color:black\">You appear to be running in JupyterLab (or JavaScript failed to load for some other reason).  You need to install the 3dmol extension: <br>\n        <tt>jupyter labextension install jupyterlab_3dmol</tt></p>\n        </div>\n<script>\n\nvar loadScriptAsync = function(uri){\n  return new Promise((resolve, reject) => {\n    var tag = document.createElement('script');\n    tag.src = uri;\n    tag.async = true;\n    tag.onload = () => {\n      resolve();\n    };\n  var firstScriptTag = document.getElementsByTagName('script')[0];\n  firstScriptTag.parentNode.insertBefore(tag, firstScriptTag);\n});\n};\n\nif(typeof $3Dmolpromise === 'undefined') {\n$3Dmolpromise = null;\n  $3Dmolpromise = loadScriptAsync('https://3dmol.org/build/3Dmol.js');\n}\n\nvar viewer_1654442760063096 = null;\nvar warn = document.getElementById(\"3dmolwarning_1654442760063096\");\nif(warn) {\n    warn.parentNode.removeChild(warn);\n}\n$3Dmolpromise.then(function() {\nvar viewergrid_1654442760063096 = null;\nviewergrid_1654442760063096 = $3Dmol.createViewerGrid($(\"#3dmolviewer_1654442760063096\"),{rows: 1, cols: 4, control_all: true},{backgroundColor:\"white\"});\nviewer_1654442760063096 = viewergrid_1654442760063096[0][0];\nviewergrid_1654442760063096[0][0].zoomTo();viewergrid_1654442760063096[0][1].zoomTo();viewergrid_1654442760063096[0][2].zoomTo();viewergrid_1654442760063096[0][3].zoomTo();\tviewergrid_1654442760063096[0][0].addModel(\"5\\n\\nC      -0.0000199       0.0000199       0.0000000      -0.0000001      -0.0000000      -0.0000002\\nH       0.5489997       0.7922034       0.4919110       0.2536819       0.3660389       0.2272940\\nH       0.6769972      -0.8058792      -0.2512524       0.3128238      -0.3723751      -0.1160942\\nH      -0.7710148      -0.3700500       0.6629997      -0.3562480      -0.1709954       0.3063473\\nH      -0.4550622       0.3838059      -0.9036583      -0.2102569       0.1773321      -0.4175443\\n\",\"xyz\",{\"vibrate\": {\"frames\": 10, \"amplitude\": 0.75}});\n\tviewergrid_1654442760063096[0][1].addModel(\"5\\n\\nC      -0.0000199       0.0000199       0.0000000      -0.0340235      -0.0610143       0.0584425\\nH       0.5489997       0.7922034       0.4919110       0.1655323       0.2357191       0.1716460\\nH       0.6769972      -0.8058792      -0.2512524      -0.0733168       0.0606392       0.0392300\\nH      -0.7710148      -0.3700500       0.6629997       0.5516666       0.2530706      -0.4667356\\nH      -0.4550622       0.3838059      -0.9036583      -0.2384727       0.1775919      -0.4405166\\n\",\"xyz\",{\"vibrate\": {\"frames\": 10, \"amplitude\": 0.75}});\n\tviewergrid_1654442760063096[0][2].addModel(\"5\\n\\nC      -0.0000199       0.0000199       0.0000000      -0.0033071      -0.0619934      -0.0666468\\nH       0.5489997       0.7922034       0.4919110       0.3807778       0.5344139       0.3244610\\nH       0.6769972      -0.8058792      -0.2512524      -0.3633034       0.4151665       0.1170204\\nH      -0.7710148      -0.3700500       0.6629997      -0.1205617      -0.0737171       0.0854424\\nH      -0.4550622       0.3838059      -0.9036583       0.1424929      -0.1371759       0.2672108\\n\",\"xyz\",{\"vibrate\": {\"frames\": 10, \"amplitude\": 0.75}});\n\tviewergrid_1654442760063096[0][3].addModel(\"5\\n\\nC      -0.0000199       0.0000199       0.0000000      -0.0844238       0.0270177      -0.0209421\\nH       0.5489997       0.7922034       0.4919110       0.1385547       0.2389705       0.1384935\\nH       0.6769972      -0.8058792      -0.2512524       0.3920163      -0.4859212      -0.1591988\\nH      -0.7710148      -0.3700500       0.6629997       0.2416776       0.1337234      -0.2323672\\nH      -0.4550622       0.3838059      -0.9036583       0.2337092      -0.2087045       0.5026100\\n\",\"xyz\",{\"vibrate\": {\"frames\": 10, \"amplitude\": 0.75}});\n\tviewergrid_1654442760063096[0][0].setStyle({\"stick\": {}});\n\tviewergrid_1654442760063096[0][1].setStyle({\"stick\": {}});\n\tviewergrid_1654442760063096[0][2].setStyle({\"stick\": {}});\n\tviewergrid_1654442760063096[0][3].setStyle({\"stick\": {}});\n\tviewergrid_1654442760063096[0][0].animate({\"loop\": \"backAndForth\"});\n\tviewergrid_1654442760063096[0][1].animate({\"loop\": \"backAndForth\"});\n\tviewergrid_1654442760063096[0][2].animate({\"loop\": \"backAndForth\"});\n\tviewergrid_1654442760063096[0][3].animate({\"loop\": \"backAndForth\"});\n\tviewergrid_1654442760063096[0][0].zoomTo();\n\tviewergrid_1654442760063096[0][1].zoomTo();\n\tviewergrid_1654442760063096[0][2].zoomTo();\n\tviewergrid_1654442760063096[0][3].zoomTo();\nviewergrid_1654442760063096[0][3].render();\nviewergrid_1654442760063096[0][2].render();\nviewergrid_1654442760063096[0][1].render();\nviewergrid_1654442760063096[0][0].render();\n});\n</script>",
      "text/html": [
       "<div id=\"3dmolviewer_1654442760063096\"  style=\"position: relative; width: 600px; height: 200px\">\n",
       "        <p id=\"3dmolwarning_1654442760063096\" style=\"background-color:#ffcccc;color:black\">You appear to be running in JupyterLab (or JavaScript failed to load for some other reason).  You need to install the 3dmol extension: <br>\n",
       "        <tt>jupyter labextension install jupyterlab_3dmol</tt></p>\n",
       "        </div>\n",
       "<script>\n",
       "\n",
       "var loadScriptAsync = function(uri){\n",
       "  return new Promise((resolve, reject) => {\n",
       "    var tag = document.createElement('script');\n",
       "    tag.src = uri;\n",
       "    tag.async = true;\n",
       "    tag.onload = () => {\n",
       "      resolve();\n",
       "    };\n",
       "  var firstScriptTag = document.getElementsByTagName('script')[0];\n",
       "  firstScriptTag.parentNode.insertBefore(tag, firstScriptTag);\n",
       "});\n",
       "};\n",
       "\n",
       "if(typeof $3Dmolpromise === 'undefined') {\n",
       "$3Dmolpromise = null;\n",
       "  $3Dmolpromise = loadScriptAsync('https://3dmol.org/build/3Dmol.js');\n",
       "}\n",
       "\n",
       "var viewer_1654442760063096 = null;\n",
       "var warn = document.getElementById(\"3dmolwarning_1654442760063096\");\n",
       "if(warn) {\n",
       "    warn.parentNode.removeChild(warn);\n",
       "}\n",
       "$3Dmolpromise.then(function() {\n",
       "var viewergrid_1654442760063096 = null;\n",
       "viewergrid_1654442760063096 = $3Dmol.createViewerGrid($(\"#3dmolviewer_1654442760063096\"),{rows: 1, cols: 4, control_all: true},{backgroundColor:\"white\"});\n",
       "viewer_1654442760063096 = viewergrid_1654442760063096[0][0];\n",
       "viewergrid_1654442760063096[0][0].zoomTo();viewergrid_1654442760063096[0][1].zoomTo();viewergrid_1654442760063096[0][2].zoomTo();viewergrid_1654442760063096[0][3].zoomTo();\tviewergrid_1654442760063096[0][0].addModel(\"5\\n\\nC      -0.0000199       0.0000199       0.0000000      -0.0000001      -0.0000000      -0.0000002\\nH       0.5489997       0.7922034       0.4919110       0.2536819       0.3660389       0.2272940\\nH       0.6769972      -0.8058792      -0.2512524       0.3128238      -0.3723751      -0.1160942\\nH      -0.7710148      -0.3700500       0.6629997      -0.3562480      -0.1709954       0.3063473\\nH      -0.4550622       0.3838059      -0.9036583      -0.2102569       0.1773321      -0.4175443\\n\",\"xyz\",{\"vibrate\": {\"frames\": 10, \"amplitude\": 0.75}});\n",
       "\tviewergrid_1654442760063096[0][1].addModel(\"5\\n\\nC      -0.0000199       0.0000199       0.0000000      -0.0340235      -0.0610143       0.0584425\\nH       0.5489997       0.7922034       0.4919110       0.1655323       0.2357191       0.1716460\\nH       0.6769972      -0.8058792      -0.2512524      -0.0733168       0.0606392       0.0392300\\nH      -0.7710148      -0.3700500       0.6629997       0.5516666       0.2530706      -0.4667356\\nH      -0.4550622       0.3838059      -0.9036583      -0.2384727       0.1775919      -0.4405166\\n\",\"xyz\",{\"vibrate\": {\"frames\": 10, \"amplitude\": 0.75}});\n",
       "\tviewergrid_1654442760063096[0][2].addModel(\"5\\n\\nC      -0.0000199       0.0000199       0.0000000      -0.0033071      -0.0619934      -0.0666468\\nH       0.5489997       0.7922034       0.4919110       0.3807778       0.5344139       0.3244610\\nH       0.6769972      -0.8058792      -0.2512524      -0.3633034       0.4151665       0.1170204\\nH      -0.7710148      -0.3700500       0.6629997      -0.1205617      -0.0737171       0.0854424\\nH      -0.4550622       0.3838059      -0.9036583       0.1424929      -0.1371759       0.2672108\\n\",\"xyz\",{\"vibrate\": {\"frames\": 10, \"amplitude\": 0.75}});\n",
       "\tviewergrid_1654442760063096[0][3].addModel(\"5\\n\\nC      -0.0000199       0.0000199       0.0000000      -0.0844238       0.0270177      -0.0209421\\nH       0.5489997       0.7922034       0.4919110       0.1385547       0.2389705       0.1384935\\nH       0.6769972      -0.8058792      -0.2512524       0.3920163      -0.4859212      -0.1591988\\nH      -0.7710148      -0.3700500       0.6629997       0.2416776       0.1337234      -0.2323672\\nH      -0.4550622       0.3838059      -0.9036583       0.2337092      -0.2087045       0.5026100\\n\",\"xyz\",{\"vibrate\": {\"frames\": 10, \"amplitude\": 0.75}});\n",
       "\tviewergrid_1654442760063096[0][0].setStyle({\"stick\": {}});\n",
       "\tviewergrid_1654442760063096[0][1].setStyle({\"stick\": {}});\n",
       "\tviewergrid_1654442760063096[0][2].setStyle({\"stick\": {}});\n",
       "\tviewergrid_1654442760063096[0][3].setStyle({\"stick\": {}});\n",
       "\tviewergrid_1654442760063096[0][0].animate({\"loop\": \"backAndForth\"});\n",
       "\tviewergrid_1654442760063096[0][1].animate({\"loop\": \"backAndForth\"});\n",
       "\tviewergrid_1654442760063096[0][2].animate({\"loop\": \"backAndForth\"});\n",
       "\tviewergrid_1654442760063096[0][3].animate({\"loop\": \"backAndForth\"});\n",
       "\tviewergrid_1654442760063096[0][0].zoomTo();\n",
       "\tviewergrid_1654442760063096[0][1].zoomTo();\n",
       "\tviewergrid_1654442760063096[0][2].zoomTo();\n",
       "\tviewergrid_1654442760063096[0][3].zoomTo();\n",
       "viewergrid_1654442760063096[0][3].render();\n",
       "viewergrid_1654442760063096[0][2].render();\n",
       "viewergrid_1654442760063096[0][1].render();\n",
       "viewergrid_1654442760063096[0][0].render();\n",
       "});\n",
       "</script>"
      ]
     },
     "metadata": {},
     "output_type": "display_data"
    }
   ],
   "source": [
    "print(\"These are the four H stretching modes of CH4.\")\n",
    "view = p3d.view(viewergrid=(1,4), width=600, height=200, linked=True)\n",
    "view.addModel(ch4_h1, \"xyz\", {'vibrate': {'frames':10,'amplitude':0.75}}, viewer=(0,0))\n",
    "view.addModel(ch4_h2, \"xyz\", {'vibrate': {'frames':10,'amplitude':0.75}}, viewer=(0,1))\n",
    "view.addModel(ch4_h3, \"xyz\", {'vibrate': {'frames':10,'amplitude':0.75}}, viewer=(0,2))\n",
    "view.addModel(ch4_h4, \"xyz\", {'vibrate': {'frames':10,'amplitude':0.75}}, viewer=(0,3))\n",
    "view.setStyle({'stick':{}})\n",
    "view.animate({'loop': 'backAndForth'})\n",
    "view.zoomTo()\n",
    "view.show()"
   ]
  },
  {
   "cell_type": "code",
   "execution_count": null,
   "id": "02abec38-cc26-4edf-89aa-74d4e7292e31",
   "metadata": {},
   "outputs": [],
   "source": []
  }
 ],
 "metadata": {
  "kernelspec": {
   "display_name": "Python 3 (ipykernel)",
   "language": "python",
   "name": "python3"
  },
  "language_info": {
   "codemirror_mode": {
    "name": "ipython",
    "version": 3
   },
   "file_extension": ".py",
   "mimetype": "text/x-python",
   "name": "python",
   "nbconvert_exporter": "python",
   "pygments_lexer": "ipython3",
   "version": "3.9.13"
  }
 },
 "nbformat": 4,
 "nbformat_minor": 5
}
