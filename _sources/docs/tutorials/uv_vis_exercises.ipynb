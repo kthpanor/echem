{
 "cells": [
  {
   "cell_type": "markdown",
   "metadata": {},
   "source": [
    "# Exercises\n",
    "\n",
    "## Spectrum calculation and assignment\n",
    "\n",
    "**Take your favorite (small) molecule:**\n",
    "- [Optimize](../mol_struct/opt_gs) the structure\n",
    "    - [Visualize](../visualize/exc_vis) the initial and final structure\n",
    "- Calculate the valence spectra using:\n",
    "    - TDHF\n",
    "    - TDDFT\n",
    "        - BLYP\n",
    "        - B3LYP\n",
    "        - BHandHLYP\n",
    "    - ADC\n",
    "        - ADC(1)\n",
    "        - ADC(2)\n",
    "        - ADC(3)\n",
    "- Plot and compare the spectra\n",
    "    - Which methods agree/disagree?\n",
    "    - How does the absolute energy of BLYP - B3LYP - BHandHLYP - TDHF look?\n",
    "        - Compare to HOMO-LUMO gaps\n",
    "    - TDHF and ADC(1) (and CIS) should be almost identical - verify this\n",
    "- Analyse and assign the features (using the ADC(3) results)\n",
    "    - Looking at polarization\n",
    "    - Look at [MOs](../visualize/exc_vis)\n",
    "    - Look at [NTOs](sec:vis_ntos)\n",
    "    - Look at [attachment/detachment densities](sec:vis_attach_det)\n",
    "\n",
    "\n",
    "## Cost-saving measures\n",
    "\n",
    "Looking at water with ADC(2) and a reasonably large basis set, investigate the influence of cost-saving measures, such as:\n",
    "- Freezing the core-orbital\n",
    "- Freezing a percentage of the highest-energy virtuals\n",
    "- Freezing virtuals according to the restricted virtual space protocol discussed [here](https://pubmed.ncbi.nlm.nih.gov/28349599/)\n",
    "\n",
    "How are the spectra affected? What are the computational savings? How does it change when using ADC(2) instead of ADC(3)?"
   ]
  },
  {
   "cell_type": "markdown",
   "metadata": {
    "tags": [
     "remove-cell"
    ]
   },
   "source": [
    "\n",
    "## Spectrum analysis\n",
    "\n",
    "- Reproduce and analyze some experimental spectra (*to be added*)\n",
    "\n",
    "\n",
    "## Charge-transfer state\n",
    "\n",
    "Identify charge-transfer states\n",
    "- TDA versus RPA\n",
    "- MOs\n",
    "- NTOs\n",
    "    - Centroids\n",
    "\n",
    "\n",
    "## Eigenstates versus CPP\n",
    "\n",
    "- How many states are required to get the same spectra?\n",
    "- Is the spectra *really* the same?\n",
    "- Changes with $\\gamma$\n"
   ]
  },
  {
   "cell_type": "code",
   "execution_count": null,
   "metadata": {},
   "outputs": [],
   "source": []
  }
 ],
 "metadata": {
  "celltoolbar": "Tags",
  "kernelspec": {
   "display_name": "Python 3 (ipykernel)",
   "language": "python",
   "name": "python3"
  },
  "language_info": {
   "codemirror_mode": {
    "name": "ipython",
    "version": 3
   },
   "file_extension": ".py",
   "mimetype": "text/x-python",
   "name": "python",
   "nbconvert_exporter": "python",
   "pygments_lexer": "ipython3",
   "version": "3.9.15"
  }
 },
 "nbformat": 4,
 "nbformat_minor": 4
}
