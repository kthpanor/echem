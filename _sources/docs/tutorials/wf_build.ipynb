{
 "cells": [
  {
   "cell_type": "markdown",
   "id": "ff8a63c1-317c-4890-a059-85f7e2c9f1e6",
   "metadata": {},
   "source": [
    "# Building the system\n",
    "\n",
    "This section will focus on the construction of an initial molecular structure, which can be done using a number of ways:\n",
    "\n",
    "- Specify the structure using the simplified molecular-input line-entry system ([SMILES](https://en.wikipedia.org/wiki/Simplified_molecular-input_line-entry_system)) line notation, and employ a program which can build the molecule from this\n",
    "\n",
    "- Downloading a structure from the protein data bank ([PDB](https://www.rcsb.org/))\n",
    "\n",
    "- Using a graphical molecular editor, such as [Avogadro](https://avogadro.cc/)\n"
   ]
  },
  {
   "cell_type": "code",
   "execution_count": 1,
   "id": "ef9ec4dd",
   "metadata": {},
   "outputs": [],
   "source": [
    "import py3Dmol as p3d\n",
    "from rdkit import Chem\n",
    "from rdkit.Chem import AllChem\n",
    "from IPython.display import SVG"
   ]
  },
  {
   "cell_type": "markdown",
   "id": "da4f7b09",
   "metadata": {},
   "source": [
    "# Using SMILES\n",
    "\n",
    "\n",
    "In this section we will focus on the first option, using the [RDkit](https://www.rdkit.org/) package. For a full description of how a molecule is written using SMILES can be found on, *e.g.*, the [wiki](https://en.wikipedia.org/wiki/Simplified_molecular-input_line-entry_system) entry --- here we will just illustrate some of the basic commands. Remember to make sure to visualize the resulting geometries and ensure they correspond to what you are interested in.\n",
    "\n",
    "As a first example, we obtain the SMILES string of caffeine from [wikipedia](https://en.wikipedia.org/wiki/Caffeine) and construct a force-field optimized structure expressed xyz-coordinates."
   ]
  },
  {
   "cell_type": "code",
   "execution_count": 2,
   "id": "af2bcbc2",
   "metadata": {},
   "outputs": [],
   "source": [
    "def smilestoxyz(smiles, opt = True, return_noH = False):\n",
    "    mol_bare = Chem.MolFromSmiles(smiles)\n",
    "    mol_full = Chem.AddHs(mol_bare)\n",
    "    AllChem.EmbedMolecule(mol_full)\n",
    "    if opt: AllChem.UFFOptimizeMolecule(mol_full)\n",
    "    if return_noH:\n",
    "        return Chem.MolToXYZBlock(mol_full), Chem.RemoveHs(mol_full)\n",
    "    return Chem.MolToXYZBlock(mol_full)\n",
    "\n",
    "caffeine_xyz = smilestoxyz('CN1C=NC2=C1C(=O)N(C(=O)N2C)C')"
   ]
  },
  {
   "cell_type": "markdown",
   "id": "2fa8b94d",
   "metadata": {},
   "source": [
    "In `smilestoxyz` we:\n",
    "\n",
    "1. Build the molecule, excluding implicit atoms (hydrogens)\n",
    "2. Add hydrogens\n",
    "3. Generate conformer\n",
    "4. Optimize using the Universal Force Field (UFF) [optional] \n",
    "5. Return the xyz-coordinates, and [optional] the RDfit object without hydrogens\n",
    "\n",
    "We can visualize the structure using py3Dmol:"
   ]
  },
  {
   "cell_type": "code",
   "execution_count": 3,
   "id": "66d104ff",
   "metadata": {},
   "outputs": [
    {
     "data": {
      "application/3dmoljs_load.v0": "<div id=\"3dmolviewer_16739461993504658\"  style=\"position: relative; width: 300px; height: 200px\">\n        <p id=\"3dmolwarning_16739461993504658\" style=\"background-color:#ffcccc;color:black\">You appear to be running in JupyterLab (or JavaScript failed to load for some other reason).  You need to install the 3dmol extension: <br>\n        <tt>jupyter labextension install jupyterlab_3dmol</tt></p>\n        </div>\n<script>\n\nvar loadScriptAsync = function(uri){\n  return new Promise((resolve, reject) => {\n    //this is to ignore the existence of requirejs amd\n    var savedexports, savedmodule;\n    if (typeof exports !== 'undefined') savedexports = exports;\n    else exports = {}\n    if (typeof module !== 'undefined') savedmodule = module;\n    else module = {}\n\n    var tag = document.createElement('script');\n    tag.src = uri;\n    tag.async = true;\n    tag.onload = () => {\n        exports = savedexports;\n        module = savedmodule;\n        resolve();\n    };\n  var firstScriptTag = document.getElementsByTagName('script')[0];\n  firstScriptTag.parentNode.insertBefore(tag, firstScriptTag);\n});\n};\n\nif(typeof $3Dmolpromise === 'undefined') {\n$3Dmolpromise = null;\n  $3Dmolpromise = loadScriptAsync('https://cdn.jsdelivr.net/npm/3dmol@latest/build/3Dmol-min.min.js');\n}\n\nvar viewer_16739461993504658 = null;\nvar warn = document.getElementById(\"3dmolwarning_16739461993504658\");\nif(warn) {\n    warn.parentNode.removeChild(warn);\n}\n$3Dmolpromise.then(function() {\nviewer_16739461993504658 = $3Dmol.createViewer(document.getElementById(\"3dmolviewer_16739461993504658\"),{backgroundColor:\"white\"});\nviewer_16739461993504658.zoomTo();\n\tviewer_16739461993504658.addModel(\"24\\n\\nC      3.263017    0.665602   -0.212720\\nN      2.130944   -0.255164   -0.199731\\nC      2.169427   -1.598733   -0.377053\\nN      0.942209   -2.179661   -0.328611\\nC      0.122902   -1.131387   -0.108457\\nC      0.826777    0.020965   -0.033402\\nC      0.176416    1.232141    0.162798\\nO      0.830662    2.309769    0.212003\\nN     -1.194119    1.221596    0.291480\\nC     -1.895573    0.031642    0.181110\\nO     -3.158218    0.040671    0.233363\\nN     -1.232449   -1.164517    0.007067\\nC     -1.967842   -2.428192   -0.134534\\nC     -1.923424    2.489165    0.463343\\nH      4.214642    0.108953   -0.348684\\nH      3.149265    1.386854   -1.048964\\nH      3.309011    1.216933    0.749769\\nH      3.081659   -2.156591   -0.545352\\nH     -1.328558   -3.298924    0.124931\\nH     -2.841765   -2.451853    0.551042\\nH     -2.320805   -2.537641   -1.181510\\nH     -2.839017    2.343970    1.075630\\nH     -2.209018    2.891819   -0.531182\\nH     -1.306144    3.242585    0.997663\\n\",\"xyz\");\n\tviewer_16739461993504658.setViewStyle({\"style\": \"outline\", \"color\": \"black\", \"width\": 0.1});\n\tviewer_16739461993504658.setStyle({\"stick\": {}});\nviewer_16739461993504658.render();\n});\n</script>",
      "text/html": [
       "<div id=\"3dmolviewer_16739461993504658\"  style=\"position: relative; width: 300px; height: 200px\">\n",
       "        <p id=\"3dmolwarning_16739461993504658\" style=\"background-color:#ffcccc;color:black\">You appear to be running in JupyterLab (or JavaScript failed to load for some other reason).  You need to install the 3dmol extension: <br>\n",
       "        <tt>jupyter labextension install jupyterlab_3dmol</tt></p>\n",
       "        </div>\n",
       "<script>\n",
       "\n",
       "var loadScriptAsync = function(uri){\n",
       "  return new Promise((resolve, reject) => {\n",
       "    //this is to ignore the existence of requirejs amd\n",
       "    var savedexports, savedmodule;\n",
       "    if (typeof exports !== 'undefined') savedexports = exports;\n",
       "    else exports = {}\n",
       "    if (typeof module !== 'undefined') savedmodule = module;\n",
       "    else module = {}\n",
       "\n",
       "    var tag = document.createElement('script');\n",
       "    tag.src = uri;\n",
       "    tag.async = true;\n",
       "    tag.onload = () => {\n",
       "        exports = savedexports;\n",
       "        module = savedmodule;\n",
       "        resolve();\n",
       "    };\n",
       "  var firstScriptTag = document.getElementsByTagName('script')[0];\n",
       "  firstScriptTag.parentNode.insertBefore(tag, firstScriptTag);\n",
       "});\n",
       "};\n",
       "\n",
       "if(typeof $3Dmolpromise === 'undefined') {\n",
       "$3Dmolpromise = null;\n",
       "  $3Dmolpromise = loadScriptAsync('https://cdn.jsdelivr.net/npm/3dmol@latest/build/3Dmol-min.min.js');\n",
       "}\n",
       "\n",
       "var viewer_16739461993504658 = null;\n",
       "var warn = document.getElementById(\"3dmolwarning_16739461993504658\");\n",
       "if(warn) {\n",
       "    warn.parentNode.removeChild(warn);\n",
       "}\n",
       "$3Dmolpromise.then(function() {\n",
       "viewer_16739461993504658 = $3Dmol.createViewer(document.getElementById(\"3dmolviewer_16739461993504658\"),{backgroundColor:\"white\"});\n",
       "viewer_16739461993504658.zoomTo();\n",
       "\tviewer_16739461993504658.addModel(\"24\\n\\nC      3.263017    0.665602   -0.212720\\nN      2.130944   -0.255164   -0.199731\\nC      2.169427   -1.598733   -0.377053\\nN      0.942209   -2.179661   -0.328611\\nC      0.122902   -1.131387   -0.108457\\nC      0.826777    0.020965   -0.033402\\nC      0.176416    1.232141    0.162798\\nO      0.830662    2.309769    0.212003\\nN     -1.194119    1.221596    0.291480\\nC     -1.895573    0.031642    0.181110\\nO     -3.158218    0.040671    0.233363\\nN     -1.232449   -1.164517    0.007067\\nC     -1.967842   -2.428192   -0.134534\\nC     -1.923424    2.489165    0.463343\\nH      4.214642    0.108953   -0.348684\\nH      3.149265    1.386854   -1.048964\\nH      3.309011    1.216933    0.749769\\nH      3.081659   -2.156591   -0.545352\\nH     -1.328558   -3.298924    0.124931\\nH     -2.841765   -2.451853    0.551042\\nH     -2.320805   -2.537641   -1.181510\\nH     -2.839017    2.343970    1.075630\\nH     -2.209018    2.891819   -0.531182\\nH     -1.306144    3.242585    0.997663\\n\",\"xyz\");\n",
       "\tviewer_16739461993504658.setViewStyle({\"style\": \"outline\", \"color\": \"black\", \"width\": 0.1});\n",
       "\tviewer_16739461993504658.setStyle({\"stick\": {}});\n",
       "viewer_16739461993504658.render();\n",
       "});\n",
       "</script>"
      ]
     },
     "metadata": {},
     "output_type": "display_data"
    }
   ],
   "source": [
    "viewer = p3d.view(width=300, height=200)\n",
    "viewer.addModel(caffeine_xyz, 'xyz')\n",
    "viewer.setViewStyle({\"style\": \"outline\", \"color\": \"black\", \"width\": 0.1})\n",
    "viewer.setStyle({\"stick\": {}})\n",
    "viewer.show()"
   ]
  },
  {
   "cell_type": "markdown",
   "id": "596a3604",
   "metadata": {},
   "source": [
    "Print the xyz-coordinates:"
   ]
  },
  {
   "cell_type": "code",
   "execution_count": 5,
   "id": "9189a099",
   "metadata": {
    "tags": [
     "output_scroll"
    ]
   },
   "outputs": [
    {
     "name": "stdout",
     "output_type": "stream",
     "text": [
      "24\n",
      "\n",
      "C      3.263017    0.665602   -0.212720\n",
      "N      2.130944   -0.255164   -0.199731\n",
      "C      2.169427   -1.598733   -0.377053\n",
      "N      0.942209   -2.179661   -0.328611\n",
      "C      0.122902   -1.131387   -0.108457\n",
      "C      0.826777    0.020965   -0.033402\n",
      "C      0.176416    1.232141    0.162798\n",
      "O      0.830662    2.309769    0.212003\n",
      "N     -1.194119    1.221596    0.291480\n",
      "C     -1.895573    0.031642    0.181110\n",
      "O     -3.158218    0.040671    0.233363\n",
      "N     -1.232449   -1.164517    0.007067\n",
      "C     -1.967842   -2.428192   -0.134534\n",
      "C     -1.923424    2.489165    0.463343\n",
      "H      4.214642    0.108953   -0.348684\n",
      "H      3.149265    1.386854   -1.048964\n",
      "H      3.309011    1.216933    0.749769\n",
      "H      3.081659   -2.156591   -0.545352\n",
      "H     -1.328558   -3.298924    0.124931\n",
      "H     -2.841765   -2.451853    0.551042\n",
      "H     -2.320805   -2.537641   -1.181510\n",
      "H     -2.839017    2.343970    1.075630\n",
      "H     -2.209018    2.891819   -0.531182\n",
      "H     -1.306144    3.242585    0.997663\n",
      "\n"
     ]
    }
   ],
   "source": [
    "print(caffeine_xyz)"
   ]
  },
  {
   "cell_type": "markdown",
   "id": "c0b75ae2",
   "metadata": {},
   "source": [
    "This structure looks close to the actual equilibrium geometry, and in the next section we will discuss how to (further) [optimize the structure](wf_struct) using higher-level theory.\n",
    "\n",
    "\n",
    "If you want a 2D-representation, call the `smilestoxyz` with `return_noH = True`, and then make the figure using functionalities from RDfit:"
   ]
  },
  {
   "cell_type": "code",
   "execution_count": 73,
   "id": "33797b98",
   "metadata": {
    "scrolled": false
   },
   "outputs": [
    {
     "data": {
      "image/svg+xml": [
       "<svg xmlns=\"http://www.w3.org/2000/svg\" xmlns:rdkit=\"http://www.rdkit.org/xml\" xmlns:xlink=\"http://www.w3.org/1999/xlink\" version=\"1.1\" baseProfile=\"full\" xml:space=\"preserve\" width=\"300px\" height=\"200px\" viewBox=\"0 0 300 200\">\n",
       "<!-- END OF HEADER -->\n",
       "<rect style=\"opacity:1.0;fill:#FFFFFF;stroke:none\" width=\"300.0\" height=\"200.0\" x=\"0.0\" y=\"0.0\"> </rect>\n",
       "<path class=\"bond-0 atom-0 atom-1\" d=\"M 266.4,130.2 L 251.0,116.1\" style=\"fill:none;fill-rule:evenodd;stroke:#000000;stroke-width:2.0px;stroke-linecap:butt;stroke-linejoin:miter;stroke-opacity:1\"/>\n",
       "<path class=\"bond-0 atom-0 atom-1\" d=\"M 251.0,116.1 L 235.6,102.0\" style=\"fill:none;fill-rule:evenodd;stroke:#0000FF;stroke-width:2.0px;stroke-linecap:butt;stroke-linejoin:miter;stroke-opacity:1\"/>\n",
       "<path class=\"bond-1 atom-1 atom-2\" d=\"M 229.1,86.1 L 231.0,66.9\" style=\"fill:none;fill-rule:evenodd;stroke:#0000FF;stroke-width:2.0px;stroke-linecap:butt;stroke-linejoin:miter;stroke-opacity:1\"/>\n",
       "<path class=\"bond-1 atom-1 atom-2\" d=\"M 231.0,66.9 L 232.8,47.7\" style=\"fill:none;fill-rule:evenodd;stroke:#000000;stroke-width:2.0px;stroke-linecap:butt;stroke-linejoin:miter;stroke-opacity:1\"/>\n",
       "<path class=\"bond-2 atom-2 atom-3\" d=\"M 232.8,47.7 L 215.3,38.1\" style=\"fill:none;fill-rule:evenodd;stroke:#000000;stroke-width:2.0px;stroke-linecap:butt;stroke-linejoin:miter;stroke-opacity:1\"/>\n",
       "<path class=\"bond-2 atom-2 atom-3\" d=\"M 215.3,38.1 L 197.9,28.6\" style=\"fill:none;fill-rule:evenodd;stroke:#0000FF;stroke-width:2.0px;stroke-linecap:butt;stroke-linejoin:miter;stroke-opacity:1\"/>\n",
       "<path class=\"bond-2 atom-2 atom-3\" d=\"M 225.1,51.8 L 209.7,43.4\" style=\"fill:none;fill-rule:evenodd;stroke:#000000;stroke-width:2.0px;stroke-linecap:butt;stroke-linejoin:miter;stroke-opacity:1\"/>\n",
       "<path class=\"bond-2 atom-2 atom-3\" d=\"M 209.7,43.4 L 194.4,35.0\" style=\"fill:none;fill-rule:evenodd;stroke:#0000FF;stroke-width:2.0px;stroke-linecap:butt;stroke-linejoin:miter;stroke-opacity:1\"/>\n",
       "<path class=\"bond-3 atom-3 atom-4\" d=\"M 183.3,32.8 L 171.1,46.4\" style=\"fill:none;fill-rule:evenodd;stroke:#0000FF;stroke-width:2.0px;stroke-linecap:butt;stroke-linejoin:miter;stroke-opacity:1\"/>\n",
       "<path class=\"bond-3 atom-3 atom-4\" d=\"M 171.1,46.4 L 159.0,60.0\" style=\"fill:none;fill-rule:evenodd;stroke:#000000;stroke-width:2.0px;stroke-linecap:butt;stroke-linejoin:miter;stroke-opacity:1\"/>\n",
       "<path class=\"bond-4 atom-4 atom-5\" d=\"M 159.0,60.0 L 181.3,102.3\" style=\"fill:none;fill-rule:evenodd;stroke:#000000;stroke-width:2.0px;stroke-linecap:butt;stroke-linejoin:miter;stroke-opacity:1\"/>\n",
       "<path class=\"bond-4 atom-4 atom-5\" d=\"M 167.8,61.1 L 185.3,94.3\" style=\"fill:none;fill-rule:evenodd;stroke:#000000;stroke-width:2.0px;stroke-linecap:butt;stroke-linejoin:miter;stroke-opacity:1\"/>\n",
       "<path class=\"bond-5 atom-5 atom-6\" d=\"M 181.3,102.3 L 155.5,143.7\" style=\"fill:none;fill-rule:evenodd;stroke:#000000;stroke-width:2.0px;stroke-linecap:butt;stroke-linejoin:miter;stroke-opacity:1\"/>\n",
       "<path class=\"bond-6 atom-6 atom-7\" d=\"M 151.2,143.4 L 159.7,159.5\" style=\"fill:none;fill-rule:evenodd;stroke:#000000;stroke-width:2.0px;stroke-linecap:butt;stroke-linejoin:miter;stroke-opacity:1\"/>\n",
       "<path class=\"bond-6 atom-6 atom-7\" d=\"M 159.7,159.5 L 168.2,175.5\" style=\"fill:none;fill-rule:evenodd;stroke:#FF0000;stroke-width:2.0px;stroke-linecap:butt;stroke-linejoin:miter;stroke-opacity:1\"/>\n",
       "<path class=\"bond-6 atom-6 atom-7\" d=\"M 157.7,140.1 L 166.2,156.1\" style=\"fill:none;fill-rule:evenodd;stroke:#000000;stroke-width:2.0px;stroke-linecap:butt;stroke-linejoin:miter;stroke-opacity:1\"/>\n",
       "<path class=\"bond-6 atom-6 atom-7\" d=\"M 166.2,156.1 L 174.7,172.1\" style=\"fill:none;fill-rule:evenodd;stroke:#FF0000;stroke-width:2.0px;stroke-linecap:butt;stroke-linejoin:miter;stroke-opacity:1\"/>\n",
       "<path class=\"bond-7 atom-6 atom-8\" d=\"M 155.5,143.7 L 134.8,142.3\" style=\"fill:none;fill-rule:evenodd;stroke:#000000;stroke-width:2.0px;stroke-linecap:butt;stroke-linejoin:miter;stroke-opacity:1\"/>\n",
       "<path class=\"bond-7 atom-6 atom-8\" d=\"M 134.8,142.3 L 114.2,140.9\" style=\"fill:none;fill-rule:evenodd;stroke:#0000FF;stroke-width:2.0px;stroke-linecap:butt;stroke-linejoin:miter;stroke-opacity:1\"/>\n",
       "<path class=\"bond-8 atom-8 atom-9\" d=\"M 102.3,131.2 L 93.6,113.9\" style=\"fill:none;fill-rule:evenodd;stroke:#0000FF;stroke-width:2.0px;stroke-linecap:butt;stroke-linejoin:miter;stroke-opacity:1\"/>\n",
       "<path class=\"bond-8 atom-8 atom-9\" d=\"M 93.6,113.9 L 84.9,96.5\" style=\"fill:none;fill-rule:evenodd;stroke:#000000;stroke-width:2.0px;stroke-linecap:butt;stroke-linejoin:miter;stroke-opacity:1\"/>\n",
       "<path class=\"bond-9 atom-9 atom-10\" d=\"M 87.2,93.0 L 68.2,91.7\" style=\"fill:none;fill-rule:evenodd;stroke:#000000;stroke-width:2.0px;stroke-linecap:butt;stroke-linejoin:miter;stroke-opacity:1\"/>\n",
       "<path class=\"bond-9 atom-9 atom-10\" d=\"M 68.2,91.7 L 49.3,90.5\" style=\"fill:none;fill-rule:evenodd;stroke:#FF0000;stroke-width:2.0px;stroke-linecap:butt;stroke-linejoin:miter;stroke-opacity:1\"/>\n",
       "<path class=\"bond-9 atom-9 atom-10\" d=\"M 86.8,100.3 L 67.8,99.0\" style=\"fill:none;fill-rule:evenodd;stroke:#000000;stroke-width:2.0px;stroke-linecap:butt;stroke-linejoin:miter;stroke-opacity:1\"/>\n",
       "<path class=\"bond-9 atom-9 atom-10\" d=\"M 67.8,99.0 L 48.8,97.7\" style=\"fill:none;fill-rule:evenodd;stroke:#FF0000;stroke-width:2.0px;stroke-linecap:butt;stroke-linejoin:miter;stroke-opacity:1\"/>\n",
       "<path class=\"bond-10 atom-9 atom-11\" d=\"M 84.9,96.5 L 95.1,80.7\" style=\"fill:none;fill-rule:evenodd;stroke:#000000;stroke-width:2.0px;stroke-linecap:butt;stroke-linejoin:miter;stroke-opacity:1\"/>\n",
       "<path class=\"bond-10 atom-9 atom-11\" d=\"M 95.1,80.7 L 105.2,65.0\" style=\"fill:none;fill-rule:evenodd;stroke:#0000FF;stroke-width:2.0px;stroke-linecap:butt;stroke-linejoin:miter;stroke-opacity:1\"/>\n",
       "<path class=\"bond-11 atom-11 atom-12\" d=\"M 106.6,46.7 L 97.4,27.9\" style=\"fill:none;fill-rule:evenodd;stroke:#0000FF;stroke-width:2.0px;stroke-linecap:butt;stroke-linejoin:miter;stroke-opacity:1\"/>\n",
       "<path class=\"bond-11 atom-11 atom-12\" d=\"M 97.4,27.9 L 88.2,9.1\" style=\"fill:none;fill-rule:evenodd;stroke:#000000;stroke-width:2.0px;stroke-linecap:butt;stroke-linejoin:miter;stroke-opacity:1\"/>\n",
       "<path class=\"bond-12 atom-8 atom-13\" d=\"M 100.8,149.5 L 89.6,166.4\" style=\"fill:none;fill-rule:evenodd;stroke:#0000FF;stroke-width:2.0px;stroke-linecap:butt;stroke-linejoin:miter;stroke-opacity:1\"/>\n",
       "<path class=\"bond-12 atom-8 atom-13\" d=\"M 89.6,166.4 L 78.4,183.2\" style=\"fill:none;fill-rule:evenodd;stroke:#000000;stroke-width:2.0px;stroke-linecap:butt;stroke-linejoin:miter;stroke-opacity:1\"/>\n",
       "<path class=\"bond-13 atom-5 atom-1\" d=\"M 181.3,102.3 L 201.1,99.3\" style=\"fill:none;fill-rule:evenodd;stroke:#000000;stroke-width:2.0px;stroke-linecap:butt;stroke-linejoin:miter;stroke-opacity:1\"/>\n",
       "<path class=\"bond-13 atom-5 atom-1\" d=\"M 201.1,99.3 L 220.9,96.4\" style=\"fill:none;fill-rule:evenodd;stroke:#0000FF;stroke-width:2.0px;stroke-linecap:butt;stroke-linejoin:miter;stroke-opacity:1\"/>\n",
       "<path class=\"bond-14 atom-11 atom-4\" d=\"M 118.3,56.5 L 138.7,58.2\" style=\"fill:none;fill-rule:evenodd;stroke:#0000FF;stroke-width:2.0px;stroke-linecap:butt;stroke-linejoin:miter;stroke-opacity:1\"/>\n",
       "<path class=\"bond-14 atom-11 atom-4\" d=\"M 138.7,58.2 L 159.0,60.0\" style=\"fill:none;fill-rule:evenodd;stroke:#000000;stroke-width:2.0px;stroke-linecap:butt;stroke-linejoin:miter;stroke-opacity:1\"/>\n",
       "<path d=\"M 232.7,48.7 L 232.8,47.7 L 231.9,47.2\" style=\"fill:none;stroke:#000000;stroke-width:2.0px;stroke-linecap:butt;stroke-linejoin:miter;stroke-opacity:1;\"/>\n",
       "<path d=\"M 156.8,141.6 L 155.5,143.7 L 154.5,143.6\" style=\"fill:none;stroke:#000000;stroke-width:2.0px;stroke-linecap:butt;stroke-linejoin:miter;stroke-opacity:1;\"/>\n",
       "<path d=\"M 85.4,97.4 L 84.9,96.5 L 85.4,95.7\" style=\"fill:none;stroke:#000000;stroke-width:2.0px;stroke-linecap:butt;stroke-linejoin:miter;stroke-opacity:1;\"/>\n",
       "<path class=\"atom-1\" d=\"M 224.9 87.7 L 229.9 95.7 Q 230.3 96.5, 231.1 97.9 Q 231.9 99.4, 232.0 99.4 L 232.0 87.7 L 234.0 87.7 L 234.0 102.8 L 231.9 102.8 L 226.6 94.1 Q 226.0 93.1, 225.3 91.9 Q 224.7 90.7, 224.5 90.4 L 224.5 102.8 L 222.5 102.8 L 222.5 87.7 L 224.9 87.7 \" fill=\"#0000FF\"/>\n",
       "<path class=\"atom-3\" d=\"M 187.2 17.0 L 192.2 25.0 Q 192.7 25.8, 193.4 27.2 Q 194.2 28.6, 194.3 28.7 L 194.3 17.0 L 196.3 17.0 L 196.3 32.1 L 194.2 32.1 L 188.9 23.4 Q 188.3 22.3, 187.6 21.2 Q 187.0 20.0, 186.8 19.6 L 186.8 32.1 L 184.9 32.1 L 184.9 17.0 L 187.2 17.0 \" fill=\"#0000FF\"/>\n",
       "<path class=\"atom-7\" d=\"M 169.4 183.1 Q 169.4 179.5, 171.2 177.5 Q 173.0 175.4, 176.3 175.4 Q 179.7 175.4, 181.5 177.5 Q 183.2 179.5, 183.2 183.1 Q 183.2 186.8, 181.4 188.8 Q 179.6 190.9, 176.3 190.9 Q 173.0 190.9, 171.2 188.8 Q 169.4 186.8, 169.4 183.1 M 176.3 189.2 Q 178.6 189.2, 179.9 187.7 Q 181.1 186.1, 181.1 183.1 Q 181.1 180.1, 179.9 178.7 Q 178.6 177.1, 176.3 177.1 Q 174.0 177.1, 172.8 178.6 Q 171.5 180.1, 171.5 183.1 Q 171.5 186.1, 172.8 187.7 Q 174.0 189.2, 176.3 189.2 \" fill=\"#FF0000\"/>\n",
       "<path class=\"atom-8\" d=\"M 103.6 132.8 L 108.5 140.8 Q 109.0 141.6, 109.8 143.0 Q 110.6 144.4, 110.6 144.5 L 110.6 132.8 L 112.6 132.8 L 112.6 147.9 L 110.5 147.9 L 105.2 139.2 Q 104.6 138.1, 104.0 137.0 Q 103.3 135.8, 103.1 135.4 L 103.1 147.9 L 101.2 147.9 L 101.2 132.8 L 103.6 132.8 \" fill=\"#0000FF\"/>\n",
       "<path class=\"atom-10\" d=\"M 33.6 93.6 Q 33.6 90.0, 35.4 88.0 Q 37.2 85.9, 40.5 85.9 Q 43.9 85.9, 45.6 88.0 Q 47.4 90.0, 47.4 93.6 Q 47.4 97.2, 45.6 99.3 Q 43.8 101.4, 40.5 101.4 Q 37.2 101.4, 35.4 99.3 Q 33.6 97.3, 33.6 93.6 M 40.5 99.7 Q 42.8 99.7, 44.1 98.2 Q 45.3 96.6, 45.3 93.6 Q 45.3 90.6, 44.1 89.1 Q 42.8 87.6, 40.5 87.6 Q 38.2 87.6, 37.0 89.1 Q 35.7 90.6, 35.7 93.6 Q 35.7 96.6, 37.0 98.2 Q 38.2 99.7, 40.5 99.7 \" fill=\"#FF0000\"/>\n",
       "<path class=\"atom-11\" d=\"M 107.7 48.3 L 112.6 56.3 Q 113.1 57.1, 113.9 58.5 Q 114.7 59.9, 114.7 60.0 L 114.7 48.3 L 116.7 48.3 L 116.7 63.4 L 114.7 63.4 L 109.4 54.7 Q 108.8 53.6, 108.1 52.5 Q 107.5 51.3, 107.3 50.9 L 107.3 63.4 L 105.3 63.4 L 105.3 48.3 L 107.7 48.3 \" fill=\"#0000FF\"/>\n",
       "</svg>"
      ],
      "text/plain": [
       "<IPython.core.display.SVG object>"
      ]
     },
     "metadata": {},
     "output_type": "display_data"
    }
   ],
   "source": [
    "caffeine_xyz, caffeine_noH = smilestoxyz('CN1C=NC2=C1C(=O)N(C(=O)N2C)C', return_noH = True)\n",
    "\n",
    "drawer = Chem.Draw.rdMolDraw2D.MolDraw2DSVG(300,200)\n",
    "drawer.DrawMolecule(caffeine_noH)\n",
    "drawer.FinishDrawing()\n",
    "display(SVG(drawer.GetDrawingText()))"
   ]
  },
  {
   "cell_type": "markdown",
   "id": "4cd42682",
   "metadata": {},
   "source": [
    "Note that the image will look somewhat different each time, as the initial conformer and UFF optimized structure will have different orientations, which will affect the projection to 2D --- this is particularly the case for larger molecules extending in all three directions. Still, for many molecules this will work well, and you can save the .svg-figure with right-click save.\n",
    "\n",
    "\n",
    "## Bond type\n",
    "\n",
    "The basic principle of SMILES is to start at a suitable part of the molecule, and build the full molecule by sequentially describing the connections of each atom/functional group in turn. Hydrogens are typically added implicitly, and thus do not need to be specified. As such, the first four alkanes can simply be written with an increasing number of `C`:"
   ]
  },
  {
   "cell_type": "code",
   "execution_count": 7,
   "id": "b246d31d",
   "metadata": {},
   "outputs": [
    {
     "data": {
      "application/3dmoljs_load.v0": "<div id=\"3dmolviewer_16739478143898885\"  style=\"position: relative; width: 500px; height: 300px\">\n        <p id=\"3dmolwarning_16739478143898885\" style=\"background-color:#ffcccc;color:black\">You appear to be running in JupyterLab (or JavaScript failed to load for some other reason).  You need to install the 3dmol extension: <br>\n        <tt>jupyter labextension install jupyterlab_3dmol</tt></p>\n        </div>\n<script>\n\nvar loadScriptAsync = function(uri){\n  return new Promise((resolve, reject) => {\n    //this is to ignore the existence of requirejs amd\n    var savedexports, savedmodule;\n    if (typeof exports !== 'undefined') savedexports = exports;\n    else exports = {}\n    if (typeof module !== 'undefined') savedmodule = module;\n    else module = {}\n\n    var tag = document.createElement('script');\n    tag.src = uri;\n    tag.async = true;\n    tag.onload = () => {\n        exports = savedexports;\n        module = savedmodule;\n        resolve();\n    };\n  var firstScriptTag = document.getElementsByTagName('script')[0];\n  firstScriptTag.parentNode.insertBefore(tag, firstScriptTag);\n});\n};\n\nif(typeof $3Dmolpromise === 'undefined') {\n$3Dmolpromise = null;\n  $3Dmolpromise = loadScriptAsync('https://cdn.jsdelivr.net/npm/3dmol@latest/build/3Dmol-min.min.js');\n}\n\nvar viewer_16739478143898885 = null;\nvar warn = document.getElementById(\"3dmolwarning_16739478143898885\");\nif(warn) {\n    warn.parentNode.removeChild(warn);\n}\n$3Dmolpromise.then(function() {\nvar viewergrid_16739478143898885 = null;\nviewergrid_16739478143898885 = $3Dmol.createViewerGrid(document.getElementById(\"3dmolviewer_16739478143898885\"),{rows: 2, cols: 2, control_all: false},{backgroundColor:\"white\"});\nviewer_16739478143898885 = viewergrid_16739478143898885[0][0];\nviewergrid_16739478143898885[0][0].zoomTo();viewergrid_16739478143898885[0][1].zoomTo();viewergrid_16739478143898885[1][0].zoomTo();viewergrid_16739478143898885[1][1].zoomTo();\tviewergrid_16739478143898885[0][0].addModel(\"5\\n\\nC      0.000000    0.000000    0.000000\\nH      0.182388   -0.815099    0.730150\\nH      0.914426    0.164990   -0.606113\\nH     -0.256786    0.932549    0.543309\\nH     -0.840028   -0.282440   -0.667346\\n\",\"xyz\");\n\tviewergrid_16739478143898885[0][1].addModel(\"8\\n\\nC     -0.756702    0.065355   -0.010363\\nC      0.756702   -0.065355    0.010363\\nH     -1.063885    0.972483    0.551523\\nH     -1.218148   -0.828018    0.460710\\nH     -1.112975    0.148757   -1.058729\\nH      1.063884   -0.972483   -0.551523\\nH      1.112976   -0.148758    1.058729\\nH      1.218148    0.828018   -0.460710\\n\",\"xyz\");\n\tviewergrid_16739478143898885[1][0].addModel(\"11\\n\\nC     -1.253095   -0.250057   -0.103493\\nC      0.004630    0.613478   -0.104541\\nC      1.249548   -0.220020    0.183597\\nH     -2.139371    0.384324   -0.315646\\nH     -1.182622   -1.035324   -0.886139\\nH     -1.389832   -0.731372    0.888366\\nH      0.112537    1.103046   -1.096418\\nH     -0.093607    1.405433    0.668956\\nH      2.145559    0.435753    0.175903\\nH      1.376734   -1.004603   -0.592546\\nH      1.169520   -0.700659    1.181960\\n\",\"xyz\");\n\tviewergrid_16739478143898885[1][1].addModel(\"14\\n\\nC      1.492937   -0.171355    0.705098\\nC      0.648781    0.749046   -0.175861\\nC     -0.504415    0.009927   -0.870851\\nC     -1.604261   -0.413908    0.102047\\nH      0.903545   -0.533986    1.572550\\nH      1.861945   -1.039577    0.118742\\nH      2.368672    0.390596    1.092746\\nH      0.252111    1.588928    0.435075\\nH      1.308353    1.184406   -0.957549\\nH     -0.117860   -0.883132   -1.408447\\nH     -0.951792    0.690140   -1.627669\\nH     -1.971895    0.461544    0.678432\\nH     -2.454888   -0.843860   -0.467643\\nH     -1.231233   -1.188770    0.803329\\n\",\"xyz\");\n\tviewergrid_16739478143898885[0][0].setViewStyle({\"style\": \"outline\", \"color\": \"black\", \"width\": 0.1});\n\tviewergrid_16739478143898885[0][1].setViewStyle({\"style\": \"outline\", \"color\": \"black\", \"width\": 0.1});\n\tviewergrid_16739478143898885[1][0].setViewStyle({\"style\": \"outline\", \"color\": \"black\", \"width\": 0.1});\n\tviewergrid_16739478143898885[1][1].setViewStyle({\"style\": \"outline\", \"color\": \"black\", \"width\": 0.1});\n\tviewergrid_16739478143898885[0][0].setStyle({\"stick\": {}});\n\tviewergrid_16739478143898885[0][1].setStyle({\"stick\": {}});\n\tviewergrid_16739478143898885[1][0].setStyle({\"stick\": {}});\n\tviewergrid_16739478143898885[1][1].setStyle({\"stick\": {}});\nviewergrid_16739478143898885[1][1].render();\nviewergrid_16739478143898885[1][0].render();\nviewergrid_16739478143898885[0][1].render();\nviewergrid_16739478143898885[0][0].render();\n});\n</script>",
      "text/html": [
       "<div id=\"3dmolviewer_16739478143898885\"  style=\"position: relative; width: 500px; height: 300px\">\n",
       "        <p id=\"3dmolwarning_16739478143898885\" style=\"background-color:#ffcccc;color:black\">You appear to be running in JupyterLab (or JavaScript failed to load for some other reason).  You need to install the 3dmol extension: <br>\n",
       "        <tt>jupyter labextension install jupyterlab_3dmol</tt></p>\n",
       "        </div>\n",
       "<script>\n",
       "\n",
       "var loadScriptAsync = function(uri){\n",
       "  return new Promise((resolve, reject) => {\n",
       "    //this is to ignore the existence of requirejs amd\n",
       "    var savedexports, savedmodule;\n",
       "    if (typeof exports !== 'undefined') savedexports = exports;\n",
       "    else exports = {}\n",
       "    if (typeof module !== 'undefined') savedmodule = module;\n",
       "    else module = {}\n",
       "\n",
       "    var tag = document.createElement('script');\n",
       "    tag.src = uri;\n",
       "    tag.async = true;\n",
       "    tag.onload = () => {\n",
       "        exports = savedexports;\n",
       "        module = savedmodule;\n",
       "        resolve();\n",
       "    };\n",
       "  var firstScriptTag = document.getElementsByTagName('script')[0];\n",
       "  firstScriptTag.parentNode.insertBefore(tag, firstScriptTag);\n",
       "});\n",
       "};\n",
       "\n",
       "if(typeof $3Dmolpromise === 'undefined') {\n",
       "$3Dmolpromise = null;\n",
       "  $3Dmolpromise = loadScriptAsync('https://cdn.jsdelivr.net/npm/3dmol@latest/build/3Dmol-min.min.js');\n",
       "}\n",
       "\n",
       "var viewer_16739478143898885 = null;\n",
       "var warn = document.getElementById(\"3dmolwarning_16739478143898885\");\n",
       "if(warn) {\n",
       "    warn.parentNode.removeChild(warn);\n",
       "}\n",
       "$3Dmolpromise.then(function() {\n",
       "var viewergrid_16739478143898885 = null;\n",
       "viewergrid_16739478143898885 = $3Dmol.createViewerGrid(document.getElementById(\"3dmolviewer_16739478143898885\"),{rows: 2, cols: 2, control_all: false},{backgroundColor:\"white\"});\n",
       "viewer_16739478143898885 = viewergrid_16739478143898885[0][0];\n",
       "viewergrid_16739478143898885[0][0].zoomTo();viewergrid_16739478143898885[0][1].zoomTo();viewergrid_16739478143898885[1][0].zoomTo();viewergrid_16739478143898885[1][1].zoomTo();\tviewergrid_16739478143898885[0][0].addModel(\"5\\n\\nC      0.000000    0.000000    0.000000\\nH      0.182388   -0.815099    0.730150\\nH      0.914426    0.164990   -0.606113\\nH     -0.256786    0.932549    0.543309\\nH     -0.840028   -0.282440   -0.667346\\n\",\"xyz\");\n",
       "\tviewergrid_16739478143898885[0][1].addModel(\"8\\n\\nC     -0.756702    0.065355   -0.010363\\nC      0.756702   -0.065355    0.010363\\nH     -1.063885    0.972483    0.551523\\nH     -1.218148   -0.828018    0.460710\\nH     -1.112975    0.148757   -1.058729\\nH      1.063884   -0.972483   -0.551523\\nH      1.112976   -0.148758    1.058729\\nH      1.218148    0.828018   -0.460710\\n\",\"xyz\");\n",
       "\tviewergrid_16739478143898885[1][0].addModel(\"11\\n\\nC     -1.253095   -0.250057   -0.103493\\nC      0.004630    0.613478   -0.104541\\nC      1.249548   -0.220020    0.183597\\nH     -2.139371    0.384324   -0.315646\\nH     -1.182622   -1.035324   -0.886139\\nH     -1.389832   -0.731372    0.888366\\nH      0.112537    1.103046   -1.096418\\nH     -0.093607    1.405433    0.668956\\nH      2.145559    0.435753    0.175903\\nH      1.376734   -1.004603   -0.592546\\nH      1.169520   -0.700659    1.181960\\n\",\"xyz\");\n",
       "\tviewergrid_16739478143898885[1][1].addModel(\"14\\n\\nC      1.492937   -0.171355    0.705098\\nC      0.648781    0.749046   -0.175861\\nC     -0.504415    0.009927   -0.870851\\nC     -1.604261   -0.413908    0.102047\\nH      0.903545   -0.533986    1.572550\\nH      1.861945   -1.039577    0.118742\\nH      2.368672    0.390596    1.092746\\nH      0.252111    1.588928    0.435075\\nH      1.308353    1.184406   -0.957549\\nH     -0.117860   -0.883132   -1.408447\\nH     -0.951792    0.690140   -1.627669\\nH     -1.971895    0.461544    0.678432\\nH     -2.454888   -0.843860   -0.467643\\nH     -1.231233   -1.188770    0.803329\\n\",\"xyz\");\n",
       "\tviewergrid_16739478143898885[0][0].setViewStyle({\"style\": \"outline\", \"color\": \"black\", \"width\": 0.1});\n",
       "\tviewergrid_16739478143898885[0][1].setViewStyle({\"style\": \"outline\", \"color\": \"black\", \"width\": 0.1});\n",
       "\tviewergrid_16739478143898885[1][0].setViewStyle({\"style\": \"outline\", \"color\": \"black\", \"width\": 0.1});\n",
       "\tviewergrid_16739478143898885[1][1].setViewStyle({\"style\": \"outline\", \"color\": \"black\", \"width\": 0.1});\n",
       "\tviewergrid_16739478143898885[0][0].setStyle({\"stick\": {}});\n",
       "\tviewergrid_16739478143898885[0][1].setStyle({\"stick\": {}});\n",
       "\tviewergrid_16739478143898885[1][0].setStyle({\"stick\": {}});\n",
       "\tviewergrid_16739478143898885[1][1].setStyle({\"stick\": {}});\n",
       "viewergrid_16739478143898885[1][1].render();\n",
       "viewergrid_16739478143898885[1][0].render();\n",
       "viewergrid_16739478143898885[0][1].render();\n",
       "viewergrid_16739478143898885[0][0].render();\n",
       "});\n",
       "</script>"
      ]
     },
     "metadata": {},
     "output_type": "display_data"
    }
   ],
   "source": [
    "methane_xyz = smilestoxyz('C')\n",
    "ethane_xyz = smilestoxyz('CC')\n",
    "propane_xyz = smilestoxyz('CCC')\n",
    "butane_xyz = smilestoxyz('CCCC')\n",
    "\n",
    "viewer = p3d.view(viewergrid=(2, 2), width=500, height=300, linked=False)\n",
    "viewer.addModel(methane_xyz, 'xyz', viewer=(0, 0))\n",
    "viewer.addModel(ethane_xyz, 'xyz', viewer=(0, 1))\n",
    "viewer.addModel(propane_xyz, 'xyz', viewer=(1, 0))\n",
    "viewer.addModel(butane_xyz, 'xyz', viewer=(1, 1))\n",
    "viewer.setViewStyle({\"style\": \"outline\", \"color\": \"black\", \"width\": 0.1})\n",
    "viewer.setStyle({\"stick\": {}})\n",
    "viewer.show()"
   ]
  },
  {
   "cell_type": "markdown",
   "id": "dfcdffbd",
   "metadata": {},
   "source": [
    "Bond types are specified with different symbols between two atoms, with `-`, `#`, and `#`, for single-, double-, and triple-bonds, respectively, and other bond types are possible (see, *e.g.*, [wikipedia](https://en.wikipedia.org/wiki/Simplified_molecular-input_line-entry_system)). Single bonds is assumed if no bond type is specified.\n",
    "\n",
    "For example, ethane, ethene, and ethyne are constructed as:"
   ]
  },
  {
   "cell_type": "code",
   "execution_count": 8,
   "id": "fc73aeeb",
   "metadata": {},
   "outputs": [
    {
     "data": {
      "application/3dmoljs_load.v0": "<div id=\"3dmolviewer_16739478162148273\"  style=\"position: relative; width: 400px; height: 200px\">\n        <p id=\"3dmolwarning_16739478162148273\" style=\"background-color:#ffcccc;color:black\">You appear to be running in JupyterLab (or JavaScript failed to load for some other reason).  You need to install the 3dmol extension: <br>\n        <tt>jupyter labextension install jupyterlab_3dmol</tt></p>\n        </div>\n<script>\n\nvar loadScriptAsync = function(uri){\n  return new Promise((resolve, reject) => {\n    //this is to ignore the existence of requirejs amd\n    var savedexports, savedmodule;\n    if (typeof exports !== 'undefined') savedexports = exports;\n    else exports = {}\n    if (typeof module !== 'undefined') savedmodule = module;\n    else module = {}\n\n    var tag = document.createElement('script');\n    tag.src = uri;\n    tag.async = true;\n    tag.onload = () => {\n        exports = savedexports;\n        module = savedmodule;\n        resolve();\n    };\n  var firstScriptTag = document.getElementsByTagName('script')[0];\n  firstScriptTag.parentNode.insertBefore(tag, firstScriptTag);\n});\n};\n\nif(typeof $3Dmolpromise === 'undefined') {\n$3Dmolpromise = null;\n  $3Dmolpromise = loadScriptAsync('https://cdn.jsdelivr.net/npm/3dmol@latest/build/3Dmol-min.min.js');\n}\n\nvar viewer_16739478162148273 = null;\nvar warn = document.getElementById(\"3dmolwarning_16739478162148273\");\nif(warn) {\n    warn.parentNode.removeChild(warn);\n}\n$3Dmolpromise.then(function() {\nvar viewergrid_16739478162148273 = null;\nviewergrid_16739478162148273 = $3Dmol.createViewerGrid(document.getElementById(\"3dmolviewer_16739478162148273\"),{rows: 1, cols: 3, control_all: false},{backgroundColor:\"white\"});\nviewer_16739478162148273 = viewergrid_16739478162148273[0][0];\nviewergrid_16739478162148273[0][0].zoomTo();viewergrid_16739478162148273[0][1].zoomTo();viewergrid_16739478162148273[0][2].zoomTo();\tviewergrid_16739478162148273[0][0].addModel(\"8\\n\\nC     -0.759101    0.013817    0.023483\\nC      0.759101   -0.013815   -0.023484\\nH     -1.099651    0.243063    1.055196\\nH     -1.163172   -0.974334   -0.281874\\nH     -1.142948    0.793257   -0.667958\\nH      1.163174    0.974334    0.281874\\nH      1.142945   -0.793255    0.667960\\nH      1.099652   -0.243066   -1.055196\\n\",\"xyz\");\n\tviewergrid_16739478162148273[0][1].addModel(\"6\\n\\nC     -0.327672   -0.460623    0.351202\\nC      0.327671    0.460623   -0.351202\\nH     -0.415168   -0.366492    1.428747\\nH     -0.778418   -1.311385   -0.149450\\nH      0.415169    0.366492   -1.428747\\nH      0.778417    1.311385    0.149450\\n\",\"xyz\");\n\tviewergrid_16739478162148273[0][2].addModel(\"4\\n\\nC      0.559988   -0.085220    0.552785\\nC     -0.559988    0.085220    0.141126\\nH      1.543409   -0.234879    0.914252\\nH     -1.543409    0.234879   -0.220341\\n\",\"xyz\");\n\tviewergrid_16739478162148273[0][0].setViewStyle({\"style\": \"outline\", \"color\": \"black\", \"width\": 0.1});\n\tviewergrid_16739478162148273[0][1].setViewStyle({\"style\": \"outline\", \"color\": \"black\", \"width\": 0.1});\n\tviewergrid_16739478162148273[0][2].setViewStyle({\"style\": \"outline\", \"color\": \"black\", \"width\": 0.1});\n\tviewergrid_16739478162148273[0][0].setStyle({\"stick\": {}});\n\tviewergrid_16739478162148273[0][1].setStyle({\"stick\": {}});\n\tviewergrid_16739478162148273[0][2].setStyle({\"stick\": {}});\nviewergrid_16739478162148273[0][2].render();\nviewergrid_16739478162148273[0][1].render();\nviewergrid_16739478162148273[0][0].render();\n});\n</script>",
      "text/html": [
       "<div id=\"3dmolviewer_16739478162148273\"  style=\"position: relative; width: 400px; height: 200px\">\n",
       "        <p id=\"3dmolwarning_16739478162148273\" style=\"background-color:#ffcccc;color:black\">You appear to be running in JupyterLab (or JavaScript failed to load for some other reason).  You need to install the 3dmol extension: <br>\n",
       "        <tt>jupyter labextension install jupyterlab_3dmol</tt></p>\n",
       "        </div>\n",
       "<script>\n",
       "\n",
       "var loadScriptAsync = function(uri){\n",
       "  return new Promise((resolve, reject) => {\n",
       "    //this is to ignore the existence of requirejs amd\n",
       "    var savedexports, savedmodule;\n",
       "    if (typeof exports !== 'undefined') savedexports = exports;\n",
       "    else exports = {}\n",
       "    if (typeof module !== 'undefined') savedmodule = module;\n",
       "    else module = {}\n",
       "\n",
       "    var tag = document.createElement('script');\n",
       "    tag.src = uri;\n",
       "    tag.async = true;\n",
       "    tag.onload = () => {\n",
       "        exports = savedexports;\n",
       "        module = savedmodule;\n",
       "        resolve();\n",
       "    };\n",
       "  var firstScriptTag = document.getElementsByTagName('script')[0];\n",
       "  firstScriptTag.parentNode.insertBefore(tag, firstScriptTag);\n",
       "});\n",
       "};\n",
       "\n",
       "if(typeof $3Dmolpromise === 'undefined') {\n",
       "$3Dmolpromise = null;\n",
       "  $3Dmolpromise = loadScriptAsync('https://cdn.jsdelivr.net/npm/3dmol@latest/build/3Dmol-min.min.js');\n",
       "}\n",
       "\n",
       "var viewer_16739478162148273 = null;\n",
       "var warn = document.getElementById(\"3dmolwarning_16739478162148273\");\n",
       "if(warn) {\n",
       "    warn.parentNode.removeChild(warn);\n",
       "}\n",
       "$3Dmolpromise.then(function() {\n",
       "var viewergrid_16739478162148273 = null;\n",
       "viewergrid_16739478162148273 = $3Dmol.createViewerGrid(document.getElementById(\"3dmolviewer_16739478162148273\"),{rows: 1, cols: 3, control_all: false},{backgroundColor:\"white\"});\n",
       "viewer_16739478162148273 = viewergrid_16739478162148273[0][0];\n",
       "viewergrid_16739478162148273[0][0].zoomTo();viewergrid_16739478162148273[0][1].zoomTo();viewergrid_16739478162148273[0][2].zoomTo();\tviewergrid_16739478162148273[0][0].addModel(\"8\\n\\nC     -0.759101    0.013817    0.023483\\nC      0.759101   -0.013815   -0.023484\\nH     -1.099651    0.243063    1.055196\\nH     -1.163172   -0.974334   -0.281874\\nH     -1.142948    0.793257   -0.667958\\nH      1.163174    0.974334    0.281874\\nH      1.142945   -0.793255    0.667960\\nH      1.099652   -0.243066   -1.055196\\n\",\"xyz\");\n",
       "\tviewergrid_16739478162148273[0][1].addModel(\"6\\n\\nC     -0.327672   -0.460623    0.351202\\nC      0.327671    0.460623   -0.351202\\nH     -0.415168   -0.366492    1.428747\\nH     -0.778418   -1.311385   -0.149450\\nH      0.415169    0.366492   -1.428747\\nH      0.778417    1.311385    0.149450\\n\",\"xyz\");\n",
       "\tviewergrid_16739478162148273[0][2].addModel(\"4\\n\\nC      0.559988   -0.085220    0.552785\\nC     -0.559988    0.085220    0.141126\\nH      1.543409   -0.234879    0.914252\\nH     -1.543409    0.234879   -0.220341\\n\",\"xyz\");\n",
       "\tviewergrid_16739478162148273[0][0].setViewStyle({\"style\": \"outline\", \"color\": \"black\", \"width\": 0.1});\n",
       "\tviewergrid_16739478162148273[0][1].setViewStyle({\"style\": \"outline\", \"color\": \"black\", \"width\": 0.1});\n",
       "\tviewergrid_16739478162148273[0][2].setViewStyle({\"style\": \"outline\", \"color\": \"black\", \"width\": 0.1});\n",
       "\tviewergrid_16739478162148273[0][0].setStyle({\"stick\": {}});\n",
       "\tviewergrid_16739478162148273[0][1].setStyle({\"stick\": {}});\n",
       "\tviewergrid_16739478162148273[0][2].setStyle({\"stick\": {}});\n",
       "viewergrid_16739478162148273[0][2].render();\n",
       "viewergrid_16739478162148273[0][1].render();\n",
       "viewergrid_16739478162148273[0][0].render();\n",
       "});\n",
       "</script>"
      ]
     },
     "metadata": {},
     "output_type": "display_data"
    }
   ],
   "source": [
    "ethane_xyz = smilestoxyz('C-C') # or 'CC'\n",
    "ethene_xyz = smilestoxyz('C=C')\n",
    "ethyne_xyz = smilestoxyz('C#C')\n",
    "\n",
    "viewer = p3d.view(viewergrid=(1, 3), width=400, height=200, linked=False)\n",
    "viewer.addModel(ethane_xyz, 'xyz', viewer=(0, 0))\n",
    "viewer.addModel(ethene_xyz, 'xyz', viewer=(0, 1))\n",
    "viewer.addModel(ethyne_xyz, 'xyz', viewer=(0, 2))\n",
    "viewer.setViewStyle({\"style\": \"outline\", \"color\": \"black\", \"width\": 0.1})\n",
    "viewer.setStyle({\"stick\": {}})\n",
    "viewer.show()"
   ]
  },
  {
   "cell_type": "markdown",
   "id": "7f573fda",
   "metadata": {},
   "source": [
    "## Branching and substitutions\n",
    "\n",
    "Branches are given within paranthesis, as connected to the atom just before the paranthesis. These branches can be nested, for more complex molecules.\n",
    "\n",
    "```{note}\n",
    "Several valid SMILES strings can typically be written for the same molecule.\n",
    "```\n",
    "\n",
    "\n",
    "Hexane and 3-ethylheptane are then written as:"
   ]
  },
  {
   "cell_type": "code",
   "execution_count": 50,
   "id": "b8510007",
   "metadata": {},
   "outputs": [
    {
     "data": {
      "application/3dmoljs_load.v0": "<div id=\"3dmolviewer_1673536407151315\"  style=\"position: relative; width: 500px; height: 200px\">\n        <p id=\"3dmolwarning_1673536407151315\" style=\"background-color:#ffcccc;color:black\">You appear to be running in JupyterLab (or JavaScript failed to load for some other reason).  You need to install the 3dmol extension: <br>\n        <tt>jupyter labextension install jupyterlab_3dmol</tt></p>\n        </div>\n<script>\n\nvar loadScriptAsync = function(uri){\n  return new Promise((resolve, reject) => {\n    //this is to ignore the existence of requirejs amd\n    var savedexports, savedmodule;\n    if (typeof exports !== 'undefined') savedexports = exports;\n    else exports = {}\n    if (typeof module !== 'undefined') savedmodule = module;\n    else module = {}\n\n    var tag = document.createElement('script');\n    tag.src = uri;\n    tag.async = true;\n    tag.onload = () => {\n        exports = savedexports;\n        module = savedmodule;\n        resolve();\n    };\n  var firstScriptTag = document.getElementsByTagName('script')[0];\n  firstScriptTag.parentNode.insertBefore(tag, firstScriptTag);\n});\n};\n\nif(typeof $3Dmolpromise === 'undefined') {\n$3Dmolpromise = null;\n  $3Dmolpromise = loadScriptAsync('https://cdn.jsdelivr.net/npm/3dmol@latest/build/3Dmol-min.min.js');\n}\n\nvar viewer_1673536407151315 = null;\nvar warn = document.getElementById(\"3dmolwarning_1673536407151315\");\nif(warn) {\n    warn.parentNode.removeChild(warn);\n}\n$3Dmolpromise.then(function() {\nvar viewergrid_1673536407151315 = null;\nviewergrid_1673536407151315 = $3Dmol.createViewerGrid(document.getElementById(\"3dmolviewer_1673536407151315\"),{rows: 1, cols: 2, control_all: false},{backgroundColor:\"white\"});\nviewer_1673536407151315 = viewergrid_1673536407151315[0][0];\nviewergrid_1673536407151315[0][0].zoomTo();viewergrid_1673536407151315[0][1].zoomTo();\tviewergrid_1673536407151315[0][0].addModel(\"26\\n\\nC      3.544515    0.510605    0.907632\\nC      2.936656   -0.889487    0.828413\\nC      1.405162   -0.865189    0.707736\\nC      0.929808   -0.321566   -0.651122\\nC     -0.575174   -0.534529   -0.878826\\nC     -1.441416    0.345193    0.034856\\nC     -2.927436    0.200400   -0.313244\\nC     -3.794354    1.064120    0.598388\\nH      4.633946    0.428954    1.106142\\nH      3.077841    1.091134    1.731637\\nH      3.407778    1.052740   -0.050913\\nH      3.207104   -1.439817    1.755612\\nH      3.380011   -1.440129   -0.029530\\nH      0.982907   -0.255100    1.534664\\nH      1.035946   -1.906718    0.831355\\nH      1.164122    0.761383   -0.734107\\nH      1.475993   -0.849508   -1.463219\\nH     -0.831451   -1.606059   -0.726825\\nH     -0.799875   -0.282454   -1.938549\\nH     -1.290279    0.046046    1.094115\\nH     -1.139671    1.409521   -0.081028\\nH     -3.097950    0.508709   -1.367852\\nH     -3.236395   -0.862006   -0.202553\\nH     -3.521442    2.135383    0.488852\\nH     -3.663662    0.758503    1.658390\\nH     -4.862684    0.939873    0.322348\\n\",\"xyz\");\n\tviewergrid_1673536407151315[0][1].addModel(\"26\\n\\nC      3.444864    0.344254    0.379589\\nC      2.092437    0.394690   -0.326154\\nC      1.003261   -0.294250    0.511424\\nC     -0.335825   -0.474019   -0.248440\\nC     -0.947589    0.865881   -0.745892\\nC     -1.306307    1.856726    0.364354\\nC     -1.313114   -1.306012    0.620167\\nC     -2.610859   -1.671863   -0.101866\\nH      3.767441   -0.709008    0.523081\\nH      3.382664    0.847303    1.368154\\nH      4.206110    0.866356   -0.237635\\nH      2.184330   -0.106468   -1.314168\\nH      1.829348    1.461056   -0.489253\\nH      1.376698   -1.302132    0.799958\\nH      0.841290    0.272675    1.453204\\nH     -0.113326   -1.080646   -1.155146\\nH     -0.245369    1.359439   -1.449429\\nH     -1.858197    0.661372   -1.346428\\nH     -2.062945    1.427606    1.052086\\nH     -1.739901    2.771860   -0.091041\\nH     -0.405054    2.156489    0.936820\\nH     -0.814404   -2.258263    0.905958\\nH     -1.553510   -0.771856    1.563712\\nH     -2.393237   -2.109069   -1.099407\\nH     -3.260919   -0.780060   -0.217619\\nH     -3.167890   -2.422062    0.498199\\n\",\"xyz\");\n\tviewergrid_1673536407151315[0][0].setViewStyle({\"style\": \"outline\", \"color\": \"black\", \"width\": 0.1});\n\tviewergrid_1673536407151315[0][1].setViewStyle({\"style\": \"outline\", \"color\": \"black\", \"width\": 0.1});\n\tviewergrid_1673536407151315[0][0].setStyle({\"stick\": {}});\n\tviewergrid_1673536407151315[0][1].setStyle({\"stick\": {}});\nviewergrid_1673536407151315[0][1].render();\nviewergrid_1673536407151315[0][0].render();\n});\n</script>",
      "text/html": [
       "<div id=\"3dmolviewer_1673536407151315\"  style=\"position: relative; width: 500px; height: 200px\">\n",
       "        <p id=\"3dmolwarning_1673536407151315\" style=\"background-color:#ffcccc;color:black\">You appear to be running in JupyterLab (or JavaScript failed to load for some other reason).  You need to install the 3dmol extension: <br>\n",
       "        <tt>jupyter labextension install jupyterlab_3dmol</tt></p>\n",
       "        </div>\n",
       "<script>\n",
       "\n",
       "var loadScriptAsync = function(uri){\n",
       "  return new Promise((resolve, reject) => {\n",
       "    //this is to ignore the existence of requirejs amd\n",
       "    var savedexports, savedmodule;\n",
       "    if (typeof exports !== 'undefined') savedexports = exports;\n",
       "    else exports = {}\n",
       "    if (typeof module !== 'undefined') savedmodule = module;\n",
       "    else module = {}\n",
       "\n",
       "    var tag = document.createElement('script');\n",
       "    tag.src = uri;\n",
       "    tag.async = true;\n",
       "    tag.onload = () => {\n",
       "        exports = savedexports;\n",
       "        module = savedmodule;\n",
       "        resolve();\n",
       "    };\n",
       "  var firstScriptTag = document.getElementsByTagName('script')[0];\n",
       "  firstScriptTag.parentNode.insertBefore(tag, firstScriptTag);\n",
       "});\n",
       "};\n",
       "\n",
       "if(typeof $3Dmolpromise === 'undefined') {\n",
       "$3Dmolpromise = null;\n",
       "  $3Dmolpromise = loadScriptAsync('https://cdn.jsdelivr.net/npm/3dmol@latest/build/3Dmol-min.min.js');\n",
       "}\n",
       "\n",
       "var viewer_1673536407151315 = null;\n",
       "var warn = document.getElementById(\"3dmolwarning_1673536407151315\");\n",
       "if(warn) {\n",
       "    warn.parentNode.removeChild(warn);\n",
       "}\n",
       "$3Dmolpromise.then(function() {\n",
       "var viewergrid_1673536407151315 = null;\n",
       "viewergrid_1673536407151315 = $3Dmol.createViewerGrid(document.getElementById(\"3dmolviewer_1673536407151315\"),{rows: 1, cols: 2, control_all: false},{backgroundColor:\"white\"});\n",
       "viewer_1673536407151315 = viewergrid_1673536407151315[0][0];\n",
       "viewergrid_1673536407151315[0][0].zoomTo();viewergrid_1673536407151315[0][1].zoomTo();\tviewergrid_1673536407151315[0][0].addModel(\"26\\n\\nC      3.544515    0.510605    0.907632\\nC      2.936656   -0.889487    0.828413\\nC      1.405162   -0.865189    0.707736\\nC      0.929808   -0.321566   -0.651122\\nC     -0.575174   -0.534529   -0.878826\\nC     -1.441416    0.345193    0.034856\\nC     -2.927436    0.200400   -0.313244\\nC     -3.794354    1.064120    0.598388\\nH      4.633946    0.428954    1.106142\\nH      3.077841    1.091134    1.731637\\nH      3.407778    1.052740   -0.050913\\nH      3.207104   -1.439817    1.755612\\nH      3.380011   -1.440129   -0.029530\\nH      0.982907   -0.255100    1.534664\\nH      1.035946   -1.906718    0.831355\\nH      1.164122    0.761383   -0.734107\\nH      1.475993   -0.849508   -1.463219\\nH     -0.831451   -1.606059   -0.726825\\nH     -0.799875   -0.282454   -1.938549\\nH     -1.290279    0.046046    1.094115\\nH     -1.139671    1.409521   -0.081028\\nH     -3.097950    0.508709   -1.367852\\nH     -3.236395   -0.862006   -0.202553\\nH     -3.521442    2.135383    0.488852\\nH     -3.663662    0.758503    1.658390\\nH     -4.862684    0.939873    0.322348\\n\",\"xyz\");\n",
       "\tviewergrid_1673536407151315[0][1].addModel(\"26\\n\\nC      3.444864    0.344254    0.379589\\nC      2.092437    0.394690   -0.326154\\nC      1.003261   -0.294250    0.511424\\nC     -0.335825   -0.474019   -0.248440\\nC     -0.947589    0.865881   -0.745892\\nC     -1.306307    1.856726    0.364354\\nC     -1.313114   -1.306012    0.620167\\nC     -2.610859   -1.671863   -0.101866\\nH      3.767441   -0.709008    0.523081\\nH      3.382664    0.847303    1.368154\\nH      4.206110    0.866356   -0.237635\\nH      2.184330   -0.106468   -1.314168\\nH      1.829348    1.461056   -0.489253\\nH      1.376698   -1.302132    0.799958\\nH      0.841290    0.272675    1.453204\\nH     -0.113326   -1.080646   -1.155146\\nH     -0.245369    1.359439   -1.449429\\nH     -1.858197    0.661372   -1.346428\\nH     -2.062945    1.427606    1.052086\\nH     -1.739901    2.771860   -0.091041\\nH     -0.405054    2.156489    0.936820\\nH     -0.814404   -2.258263    0.905958\\nH     -1.553510   -0.771856    1.563712\\nH     -2.393237   -2.109069   -1.099407\\nH     -3.260919   -0.780060   -0.217619\\nH     -3.167890   -2.422062    0.498199\\n\",\"xyz\");\n",
       "\tviewergrid_1673536407151315[0][0].setViewStyle({\"style\": \"outline\", \"color\": \"black\", \"width\": 0.1});\n",
       "\tviewergrid_1673536407151315[0][1].setViewStyle({\"style\": \"outline\", \"color\": \"black\", \"width\": 0.1});\n",
       "\tviewergrid_1673536407151315[0][0].setStyle({\"stick\": {}});\n",
       "\tviewergrid_1673536407151315[0][1].setStyle({\"stick\": {}});\n",
       "viewergrid_1673536407151315[0][1].render();\n",
       "viewergrid_1673536407151315[0][0].render();\n",
       "});\n",
       "</script>"
      ]
     },
     "metadata": {},
     "output_type": "display_data"
    }
   ],
   "source": [
    "hexane_xyz = smilestoxyz('CCCCCCCC')\n",
    "ethylheptane_xyz = smilestoxyz('CCCC(CC)CC')\n",
    "\n",
    "viewer = p3d.view(viewergrid=(1, 2), width=500, height=200, linked=False)\n",
    "viewer.addModel(hexane_xyz, 'xyz', viewer=(0, 0))\n",
    "viewer.addModel(ethylheptane_xyz, 'xyz', viewer=(0, 1))\n",
    "viewer.setViewStyle({\"style\": \"outline\", \"color\": \"black\", \"width\": 0.1})\n",
    "viewer.setStyle({\"stick\": {}})\n",
    "viewer.show()"
   ]
  },
  {
   "cell_type": "markdown",
   "id": "7176cee2",
   "metadata": {},
   "source": [
    "Substitutions are done by replacing the relevant atom, or adding it to replace an implicit hydrogen. For example, methanol, 1,1-difluoroethene, and 1,2-difluoroethene can be given as:"
   ]
  },
  {
   "cell_type": "code",
   "execution_count": 9,
   "id": "1513d76d",
   "metadata": {},
   "outputs": [
    {
     "data": {
      "application/3dmoljs_load.v0": "<div id=\"3dmolviewer_16739481356751502\"  style=\"position: relative; width: 400px; height: 200px\">\n        <p id=\"3dmolwarning_16739481356751502\" style=\"background-color:#ffcccc;color:black\">You appear to be running in JupyterLab (or JavaScript failed to load for some other reason).  You need to install the 3dmol extension: <br>\n        <tt>jupyter labextension install jupyterlab_3dmol</tt></p>\n        </div>\n<script>\n\nvar loadScriptAsync = function(uri){\n  return new Promise((resolve, reject) => {\n    //this is to ignore the existence of requirejs amd\n    var savedexports, savedmodule;\n    if (typeof exports !== 'undefined') savedexports = exports;\n    else exports = {}\n    if (typeof module !== 'undefined') savedmodule = module;\n    else module = {}\n\n    var tag = document.createElement('script');\n    tag.src = uri;\n    tag.async = true;\n    tag.onload = () => {\n        exports = savedexports;\n        module = savedmodule;\n        resolve();\n    };\n  var firstScriptTag = document.getElementsByTagName('script')[0];\n  firstScriptTag.parentNode.insertBefore(tag, firstScriptTag);\n});\n};\n\nif(typeof $3Dmolpromise === 'undefined') {\n$3Dmolpromise = null;\n  $3Dmolpromise = loadScriptAsync('https://cdn.jsdelivr.net/npm/3dmol@latest/build/3Dmol-min.min.js');\n}\n\nvar viewer_16739481356751502 = null;\nvar warn = document.getElementById(\"3dmolwarning_16739481356751502\");\nif(warn) {\n    warn.parentNode.removeChild(warn);\n}\n$3Dmolpromise.then(function() {\nvar viewergrid_16739481356751502 = null;\nviewergrid_16739481356751502 = $3Dmol.createViewerGrid(document.getElementById(\"3dmolviewer_16739481356751502\"),{rows: 1, cols: 3, control_all: false},{backgroundColor:\"white\"});\nviewer_16739481356751502 = viewergrid_16739481356751502[0][0];\nviewergrid_16739481356751502[0][0].zoomTo();viewergrid_16739481356751502[0][1].zoomTo();viewergrid_16739481356751502[0][2].zoomTo();\tviewergrid_16739481356751502[0][0].addModel(\"6\\n\\nC     -0.352846    0.021996   -0.059026\\nO      0.881380   -0.634641   -0.024485\\nH     -0.627484    0.376220    0.958288\\nH     -0.308630    0.885263   -0.758058\\nH     -1.131277   -0.684682   -0.413230\\nH      1.538857    0.035843    0.296512\\n\",\"xyz\");\n\tviewergrid_16739481356751502[0][1].addModel(\"6\\n\\nC     -0.668007   -0.228456    0.080627\\nC      0.583844    0.199673   -0.070469\\nF      1.160779    0.972672    0.886008\\nF      1.289870   -0.134558   -1.181795\\nH     -1.234717    0.036831    0.967328\\nH     -1.131769   -0.846161   -0.681699\\n\",\"xyz\");\n\tviewergrid_16739481356751502[0][2].addModel(\"6\\n\\nF      1.520764    0.929998   -0.144212\\nC      0.657046   -0.104493    0.026241\\nC     -0.657046    0.104492   -0.026245\\nF     -1.520764   -0.929996    0.144223\\nH      1.045636   -1.101829    0.205392\\nH     -1.045636    1.101828   -0.205399\\n\",\"xyz\");\n\tviewergrid_16739481356751502[0][0].setViewStyle({\"style\": \"outline\", \"color\": \"black\", \"width\": 0.1});\n\tviewergrid_16739481356751502[0][1].setViewStyle({\"style\": \"outline\", \"color\": \"black\", \"width\": 0.1});\n\tviewergrid_16739481356751502[0][2].setViewStyle({\"style\": \"outline\", \"color\": \"black\", \"width\": 0.1});\n\tviewergrid_16739481356751502[0][0].setStyle({\"stick\": {}});\n\tviewergrid_16739481356751502[0][1].setStyle({\"stick\": {}});\n\tviewergrid_16739481356751502[0][2].setStyle({\"stick\": {}});\nviewergrid_16739481356751502[0][2].render();\nviewergrid_16739481356751502[0][1].render();\nviewergrid_16739481356751502[0][0].render();\n});\n</script>",
      "text/html": [
       "<div id=\"3dmolviewer_16739481356751502\"  style=\"position: relative; width: 400px; height: 200px\">\n",
       "        <p id=\"3dmolwarning_16739481356751502\" style=\"background-color:#ffcccc;color:black\">You appear to be running in JupyterLab (or JavaScript failed to load for some other reason).  You need to install the 3dmol extension: <br>\n",
       "        <tt>jupyter labextension install jupyterlab_3dmol</tt></p>\n",
       "        </div>\n",
       "<script>\n",
       "\n",
       "var loadScriptAsync = function(uri){\n",
       "  return new Promise((resolve, reject) => {\n",
       "    //this is to ignore the existence of requirejs amd\n",
       "    var savedexports, savedmodule;\n",
       "    if (typeof exports !== 'undefined') savedexports = exports;\n",
       "    else exports = {}\n",
       "    if (typeof module !== 'undefined') savedmodule = module;\n",
       "    else module = {}\n",
       "\n",
       "    var tag = document.createElement('script');\n",
       "    tag.src = uri;\n",
       "    tag.async = true;\n",
       "    tag.onload = () => {\n",
       "        exports = savedexports;\n",
       "        module = savedmodule;\n",
       "        resolve();\n",
       "    };\n",
       "  var firstScriptTag = document.getElementsByTagName('script')[0];\n",
       "  firstScriptTag.parentNode.insertBefore(tag, firstScriptTag);\n",
       "});\n",
       "};\n",
       "\n",
       "if(typeof $3Dmolpromise === 'undefined') {\n",
       "$3Dmolpromise = null;\n",
       "  $3Dmolpromise = loadScriptAsync('https://cdn.jsdelivr.net/npm/3dmol@latest/build/3Dmol-min.min.js');\n",
       "}\n",
       "\n",
       "var viewer_16739481356751502 = null;\n",
       "var warn = document.getElementById(\"3dmolwarning_16739481356751502\");\n",
       "if(warn) {\n",
       "    warn.parentNode.removeChild(warn);\n",
       "}\n",
       "$3Dmolpromise.then(function() {\n",
       "var viewergrid_16739481356751502 = null;\n",
       "viewergrid_16739481356751502 = $3Dmol.createViewerGrid(document.getElementById(\"3dmolviewer_16739481356751502\"),{rows: 1, cols: 3, control_all: false},{backgroundColor:\"white\"});\n",
       "viewer_16739481356751502 = viewergrid_16739481356751502[0][0];\n",
       "viewergrid_16739481356751502[0][0].zoomTo();viewergrid_16739481356751502[0][1].zoomTo();viewergrid_16739481356751502[0][2].zoomTo();\tviewergrid_16739481356751502[0][0].addModel(\"6\\n\\nC     -0.352846    0.021996   -0.059026\\nO      0.881380   -0.634641   -0.024485\\nH     -0.627484    0.376220    0.958288\\nH     -0.308630    0.885263   -0.758058\\nH     -1.131277   -0.684682   -0.413230\\nH      1.538857    0.035843    0.296512\\n\",\"xyz\");\n",
       "\tviewergrid_16739481356751502[0][1].addModel(\"6\\n\\nC     -0.668007   -0.228456    0.080627\\nC      0.583844    0.199673   -0.070469\\nF      1.160779    0.972672    0.886008\\nF      1.289870   -0.134558   -1.181795\\nH     -1.234717    0.036831    0.967328\\nH     -1.131769   -0.846161   -0.681699\\n\",\"xyz\");\n",
       "\tviewergrid_16739481356751502[0][2].addModel(\"6\\n\\nF      1.520764    0.929998   -0.144212\\nC      0.657046   -0.104493    0.026241\\nC     -0.657046    0.104492   -0.026245\\nF     -1.520764   -0.929996    0.144223\\nH      1.045636   -1.101829    0.205392\\nH     -1.045636    1.101828   -0.205399\\n\",\"xyz\");\n",
       "\tviewergrid_16739481356751502[0][0].setViewStyle({\"style\": \"outline\", \"color\": \"black\", \"width\": 0.1});\n",
       "\tviewergrid_16739481356751502[0][1].setViewStyle({\"style\": \"outline\", \"color\": \"black\", \"width\": 0.1});\n",
       "\tviewergrid_16739481356751502[0][2].setViewStyle({\"style\": \"outline\", \"color\": \"black\", \"width\": 0.1});\n",
       "\tviewergrid_16739481356751502[0][0].setStyle({\"stick\": {}});\n",
       "\tviewergrid_16739481356751502[0][1].setStyle({\"stick\": {}});\n",
       "\tviewergrid_16739481356751502[0][2].setStyle({\"stick\": {}});\n",
       "viewergrid_16739481356751502[0][2].render();\n",
       "viewergrid_16739481356751502[0][1].render();\n",
       "viewergrid_16739481356751502[0][0].render();\n",
       "});\n",
       "</script>"
      ]
     },
     "metadata": {},
     "output_type": "display_data"
    }
   ],
   "source": [
    "methanol_xyz = smilestoxyz('CO')\n",
    "difluoro11_xyz = smilestoxyz('C=C(F)F')\n",
    "difluoro12_xyz = smilestoxyz('FC=CF')\n",
    "\n",
    "viewer = p3d.view(viewergrid=(1, 3), width=400, height=200, linked=False)\n",
    "viewer.addModel(methanol_xyz, 'xyz', viewer=(0, 0))\n",
    "viewer.addModel(difluoro11_xyz, 'xyz', viewer=(0, 1))\n",
    "viewer.addModel(difluoro12_xyz, 'xyz', viewer=(0, 2))\n",
    "viewer.setViewStyle({\"style\": \"outline\", \"color\": \"black\", \"width\": 0.1})\n",
    "viewer.setStyle({\"stick\": {}})\n",
    "viewer.show()"
   ]
  },
  {
   "cell_type": "markdown",
   "id": "d63f5cd9",
   "metadata": {},
   "source": [
    "### UFF optimization\n",
    "\n",
    "Following the construction of a conformer in RDkit, it is generally advised to perform a short UFF (universal force field) optimization to obtain a structure close to a local minima.\n",
    "\n",
    "As an example, for ethanol the initial conformer will have the OH-group with any rotation to CH$_3$, and following a UFF optimization it takes on the staggered conformation:"
   ]
  },
  {
   "cell_type": "code",
   "execution_count": 10,
   "id": "d7828af2",
   "metadata": {},
   "outputs": [
    {
     "data": {
      "application/3dmoljs_load.v0": "<div id=\"3dmolviewer_1673948325469051\"  style=\"position: relative; width: 400px; height: 200px\">\n        <p id=\"3dmolwarning_1673948325469051\" style=\"background-color:#ffcccc;color:black\">You appear to be running in JupyterLab (or JavaScript failed to load for some other reason).  You need to install the 3dmol extension: <br>\n        <tt>jupyter labextension install jupyterlab_3dmol</tt></p>\n        </div>\n<script>\n\nvar loadScriptAsync = function(uri){\n  return new Promise((resolve, reject) => {\n    //this is to ignore the existence of requirejs amd\n    var savedexports, savedmodule;\n    if (typeof exports !== 'undefined') savedexports = exports;\n    else exports = {}\n    if (typeof module !== 'undefined') savedmodule = module;\n    else module = {}\n\n    var tag = document.createElement('script');\n    tag.src = uri;\n    tag.async = true;\n    tag.onload = () => {\n        exports = savedexports;\n        module = savedmodule;\n        resolve();\n    };\n  var firstScriptTag = document.getElementsByTagName('script')[0];\n  firstScriptTag.parentNode.insertBefore(tag, firstScriptTag);\n});\n};\n\nif(typeof $3Dmolpromise === 'undefined') {\n$3Dmolpromise = null;\n  $3Dmolpromise = loadScriptAsync('https://cdn.jsdelivr.net/npm/3dmol@latest/build/3Dmol-min.min.js');\n}\n\nvar viewer_1673948325469051 = null;\nvar warn = document.getElementById(\"3dmolwarning_1673948325469051\");\nif(warn) {\n    warn.parentNode.removeChild(warn);\n}\n$3Dmolpromise.then(function() {\nvar viewergrid_1673948325469051 = null;\nviewergrid_1673948325469051 = $3Dmol.createViewerGrid(document.getElementById(\"3dmolviewer_1673948325469051\"),{rows: 1, cols: 2, control_all: false},{backgroundColor:\"white\"});\nviewer_1673948325469051 = viewergrid_1673948325469051[0][0];\nviewergrid_1673948325469051[0][0].zoomTo();viewergrid_1673948325469051[0][1].zoomTo();\tviewergrid_1673948325469051[0][0].addModel(\"6\\n\\nC     -0.348657    0.002015    0.000140\\nO      0.956379   -0.369453   -0.257793\\nH     -0.638000   -0.092053    1.065876\\nH     -0.613710    0.992964   -0.390828\\nH     -0.992779   -0.751234   -0.540230\\nH      1.636767    0.217760    0.122835\\n\",\"xyz\");\n\tviewergrid_1673948325469051[0][1].addModel(\"6\\n\\nC     -0.356114   -0.038087   -0.014170\\nO      0.957152   -0.300372   -0.416936\\nH     -0.493782   -0.319934    1.052339\\nH     -0.591324    1.039756   -0.151145\\nH     -1.053672   -0.637380   -0.634713\\nH      1.537738    0.256018    0.164625\\n\",\"xyz\");\n\tviewergrid_1673948325469051[0][0].setViewStyle({\"style\": \"outline\", \"color\": \"black\", \"width\": 0.1});\n\tviewergrid_1673948325469051[0][1].setViewStyle({\"style\": \"outline\", \"color\": \"black\", \"width\": 0.1});\n\tviewergrid_1673948325469051[0][0].setStyle({\"stick\": {}});\n\tviewergrid_1673948325469051[0][1].setStyle({\"stick\": {}});\nviewergrid_1673948325469051[0][1].render();\nviewergrid_1673948325469051[0][0].render();\n});\n</script>",
      "text/html": [
       "<div id=\"3dmolviewer_1673948325469051\"  style=\"position: relative; width: 400px; height: 200px\">\n",
       "        <p id=\"3dmolwarning_1673948325469051\" style=\"background-color:#ffcccc;color:black\">You appear to be running in JupyterLab (or JavaScript failed to load for some other reason).  You need to install the 3dmol extension: <br>\n",
       "        <tt>jupyter labextension install jupyterlab_3dmol</tt></p>\n",
       "        </div>\n",
       "<script>\n",
       "\n",
       "var loadScriptAsync = function(uri){\n",
       "  return new Promise((resolve, reject) => {\n",
       "    //this is to ignore the existence of requirejs amd\n",
       "    var savedexports, savedmodule;\n",
       "    if (typeof exports !== 'undefined') savedexports = exports;\n",
       "    else exports = {}\n",
       "    if (typeof module !== 'undefined') savedmodule = module;\n",
       "    else module = {}\n",
       "\n",
       "    var tag = document.createElement('script');\n",
       "    tag.src = uri;\n",
       "    tag.async = true;\n",
       "    tag.onload = () => {\n",
       "        exports = savedexports;\n",
       "        module = savedmodule;\n",
       "        resolve();\n",
       "    };\n",
       "  var firstScriptTag = document.getElementsByTagName('script')[0];\n",
       "  firstScriptTag.parentNode.insertBefore(tag, firstScriptTag);\n",
       "});\n",
       "};\n",
       "\n",
       "if(typeof $3Dmolpromise === 'undefined') {\n",
       "$3Dmolpromise = null;\n",
       "  $3Dmolpromise = loadScriptAsync('https://cdn.jsdelivr.net/npm/3dmol@latest/build/3Dmol-min.min.js');\n",
       "}\n",
       "\n",
       "var viewer_1673948325469051 = null;\n",
       "var warn = document.getElementById(\"3dmolwarning_1673948325469051\");\n",
       "if(warn) {\n",
       "    warn.parentNode.removeChild(warn);\n",
       "}\n",
       "$3Dmolpromise.then(function() {\n",
       "var viewergrid_1673948325469051 = null;\n",
       "viewergrid_1673948325469051 = $3Dmol.createViewerGrid(document.getElementById(\"3dmolviewer_1673948325469051\"),{rows: 1, cols: 2, control_all: false},{backgroundColor:\"white\"});\n",
       "viewer_1673948325469051 = viewergrid_1673948325469051[0][0];\n",
       "viewergrid_1673948325469051[0][0].zoomTo();viewergrid_1673948325469051[0][1].zoomTo();\tviewergrid_1673948325469051[0][0].addModel(\"6\\n\\nC     -0.348657    0.002015    0.000140\\nO      0.956379   -0.369453   -0.257793\\nH     -0.638000   -0.092053    1.065876\\nH     -0.613710    0.992964   -0.390828\\nH     -0.992779   -0.751234   -0.540230\\nH      1.636767    0.217760    0.122835\\n\",\"xyz\");\n",
       "\tviewergrid_1673948325469051[0][1].addModel(\"6\\n\\nC     -0.356114   -0.038087   -0.014170\\nO      0.957152   -0.300372   -0.416936\\nH     -0.493782   -0.319934    1.052339\\nH     -0.591324    1.039756   -0.151145\\nH     -1.053672   -0.637380   -0.634713\\nH      1.537738    0.256018    0.164625\\n\",\"xyz\");\n",
       "\tviewergrid_1673948325469051[0][0].setViewStyle({\"style\": \"outline\", \"color\": \"black\", \"width\": 0.1});\n",
       "\tviewergrid_1673948325469051[0][1].setViewStyle({\"style\": \"outline\", \"color\": \"black\", \"width\": 0.1});\n",
       "\tviewergrid_1673948325469051[0][0].setStyle({\"stick\": {}});\n",
       "\tviewergrid_1673948325469051[0][1].setStyle({\"stick\": {}});\n",
       "viewergrid_1673948325469051[0][1].render();\n",
       "viewergrid_1673948325469051[0][0].render();\n",
       "});\n",
       "</script>"
      ]
     },
     "metadata": {},
     "output_type": "display_data"
    }
   ],
   "source": [
    "ethanol_initial_xyz = smilestoxyz('CO', opt=False)\n",
    "ethanol_xyz = smilestoxyz('CO')\n",
    "\n",
    "viewer = p3d.view(viewergrid=(1, 2), width=400, height=200, linked=False)\n",
    "viewer.addModel(ethanol_initial_xyz, 'xyz', viewer=(0, 0))\n",
    "viewer.addModel(ethanol_xyz, 'xyz', viewer=(0, 1))\n",
    "viewer.setViewStyle({\"style\": \"outline\", \"color\": \"black\", \"width\": 0.1})\n",
    "viewer.setStyle({\"stick\": {}})\n",
    "viewer.show()"
   ]
  },
  {
   "cell_type": "markdown",
   "id": "349eccfa",
   "metadata": {},
   "source": [
    "## Ring systems\n",
    "\n",
    "Ring systems are constructed by labeling part(s) of the ring and then closing the ring by having the SMILES string go back to the labeled atom(s). This can be performed several time, so that, *e.g.* cyclohexane and norbornane are written as:"
   ]
  },
  {
   "cell_type": "code",
   "execution_count": 11,
   "id": "8ed2c3e1",
   "metadata": {},
   "outputs": [
    {
     "data": {
      "application/3dmoljs_load.v0": "<div id=\"3dmolviewer_16739484454890392\"  style=\"position: relative; width: 400px; height: 200px\">\n        <p id=\"3dmolwarning_16739484454890392\" style=\"background-color:#ffcccc;color:black\">You appear to be running in JupyterLab (or JavaScript failed to load for some other reason).  You need to install the 3dmol extension: <br>\n        <tt>jupyter labextension install jupyterlab_3dmol</tt></p>\n        </div>\n<script>\n\nvar loadScriptAsync = function(uri){\n  return new Promise((resolve, reject) => {\n    //this is to ignore the existence of requirejs amd\n    var savedexports, savedmodule;\n    if (typeof exports !== 'undefined') savedexports = exports;\n    else exports = {}\n    if (typeof module !== 'undefined') savedmodule = module;\n    else module = {}\n\n    var tag = document.createElement('script');\n    tag.src = uri;\n    tag.async = true;\n    tag.onload = () => {\n        exports = savedexports;\n        module = savedmodule;\n        resolve();\n    };\n  var firstScriptTag = document.getElementsByTagName('script')[0];\n  firstScriptTag.parentNode.insertBefore(tag, firstScriptTag);\n});\n};\n\nif(typeof $3Dmolpromise === 'undefined') {\n$3Dmolpromise = null;\n  $3Dmolpromise = loadScriptAsync('https://cdn.jsdelivr.net/npm/3dmol@latest/build/3Dmol-min.min.js');\n}\n\nvar viewer_16739484454890392 = null;\nvar warn = document.getElementById(\"3dmolwarning_16739484454890392\");\nif(warn) {\n    warn.parentNode.removeChild(warn);\n}\n$3Dmolpromise.then(function() {\nvar viewergrid_16739484454890392 = null;\nviewergrid_16739484454890392 = $3Dmol.createViewerGrid(document.getElementById(\"3dmolviewer_16739484454890392\"),{rows: 1, cols: 2, control_all: false},{backgroundColor:\"white\"});\nviewer_16739484454890392 = viewergrid_16739484454890392[0][0];\nviewergrid_16739484454890392[0][0].zoomTo();viewergrid_16739484454890392[0][1].zoomTo();\tviewergrid_16739484454890392[0][0].addModel(\"18\\n\\nC     -0.008080   -1.312239   -0.681891\\nC     -1.312347   -0.640190   -0.234340\\nC     -1.164876    0.886486   -0.210283\\nC      0.008080    1.312239    0.681891\\nC      1.312347    0.640189    0.234341\\nC      1.164875   -0.886486    0.210283\\nH      0.208579   -1.040633   -1.738556\\nH     -0.127201   -2.415821   -0.629529\\nH     -1.591685   -1.004473    0.778834\\nH     -2.128152   -0.919022   -0.935440\\nH     -2.103064    1.339708    0.176003\\nH     -1.003129    1.262462   -1.244562\\nH      0.127201    2.415821    0.629527\\nH     -0.208579    1.040635    1.738557\\nH      1.591687    1.004471   -0.778833\\nH      2.128152    0.919021    0.935440\\nH      1.003129   -1.262462    1.244563\\nH      2.103064   -1.339707   -0.176006\\n\",\"xyz\");\n\tviewergrid_16739484454890392[0][1].addModel(\"19\\n\\nC      0.829810    1.240514    0.383632\\nC     -0.617762    0.986556   -0.074294\\nC     -0.584072    0.220176   -1.408906\\nC     -0.111767   -1.180499   -0.984157\\nC      0.063196   -1.032907    0.538099\\nC     -1.063013   -0.088848    0.889038\\nC      1.302115   -0.160162    0.808382\\nH      1.459723    1.659588   -0.431294\\nH      0.842743    1.936489    1.251290\\nH     -1.257701    1.894595   -0.086403\\nH      0.110307    0.685769   -2.142106\\nH     -1.603840    0.170892   -1.850518\\nH      0.836443   -1.467670   -1.489084\\nH     -0.891852   -1.940591   -1.210217\\nH      0.053931   -1.995208    1.093163\\nH     -2.069792   -0.501832    0.646640\\nH     -1.039064    0.241992    1.953410\\nH      1.554731   -0.175000    1.891592\\nH      2.185864   -0.493855    0.221734\\n\",\"xyz\");\n\tviewergrid_16739484454890392[0][0].setViewStyle({\"style\": \"outline\", \"color\": \"black\", \"width\": 0.1});\n\tviewergrid_16739484454890392[0][1].setViewStyle({\"style\": \"outline\", \"color\": \"black\", \"width\": 0.1});\n\tviewergrid_16739484454890392[0][0].setStyle({\"stick\": {}});\n\tviewergrid_16739484454890392[0][1].setStyle({\"stick\": {}});\nviewergrid_16739484454890392[0][1].render();\nviewergrid_16739484454890392[0][0].render();\n});\n</script>",
      "text/html": [
       "<div id=\"3dmolviewer_16739484454890392\"  style=\"position: relative; width: 400px; height: 200px\">\n",
       "        <p id=\"3dmolwarning_16739484454890392\" style=\"background-color:#ffcccc;color:black\">You appear to be running in JupyterLab (or JavaScript failed to load for some other reason).  You need to install the 3dmol extension: <br>\n",
       "        <tt>jupyter labextension install jupyterlab_3dmol</tt></p>\n",
       "        </div>\n",
       "<script>\n",
       "\n",
       "var loadScriptAsync = function(uri){\n",
       "  return new Promise((resolve, reject) => {\n",
       "    //this is to ignore the existence of requirejs amd\n",
       "    var savedexports, savedmodule;\n",
       "    if (typeof exports !== 'undefined') savedexports = exports;\n",
       "    else exports = {}\n",
       "    if (typeof module !== 'undefined') savedmodule = module;\n",
       "    else module = {}\n",
       "\n",
       "    var tag = document.createElement('script');\n",
       "    tag.src = uri;\n",
       "    tag.async = true;\n",
       "    tag.onload = () => {\n",
       "        exports = savedexports;\n",
       "        module = savedmodule;\n",
       "        resolve();\n",
       "    };\n",
       "  var firstScriptTag = document.getElementsByTagName('script')[0];\n",
       "  firstScriptTag.parentNode.insertBefore(tag, firstScriptTag);\n",
       "});\n",
       "};\n",
       "\n",
       "if(typeof $3Dmolpromise === 'undefined') {\n",
       "$3Dmolpromise = null;\n",
       "  $3Dmolpromise = loadScriptAsync('https://cdn.jsdelivr.net/npm/3dmol@latest/build/3Dmol-min.min.js');\n",
       "}\n",
       "\n",
       "var viewer_16739484454890392 = null;\n",
       "var warn = document.getElementById(\"3dmolwarning_16739484454890392\");\n",
       "if(warn) {\n",
       "    warn.parentNode.removeChild(warn);\n",
       "}\n",
       "$3Dmolpromise.then(function() {\n",
       "var viewergrid_16739484454890392 = null;\n",
       "viewergrid_16739484454890392 = $3Dmol.createViewerGrid(document.getElementById(\"3dmolviewer_16739484454890392\"),{rows: 1, cols: 2, control_all: false},{backgroundColor:\"white\"});\n",
       "viewer_16739484454890392 = viewergrid_16739484454890392[0][0];\n",
       "viewergrid_16739484454890392[0][0].zoomTo();viewergrid_16739484454890392[0][1].zoomTo();\tviewergrid_16739484454890392[0][0].addModel(\"18\\n\\nC     -0.008080   -1.312239   -0.681891\\nC     -1.312347   -0.640190   -0.234340\\nC     -1.164876    0.886486   -0.210283\\nC      0.008080    1.312239    0.681891\\nC      1.312347    0.640189    0.234341\\nC      1.164875   -0.886486    0.210283\\nH      0.208579   -1.040633   -1.738556\\nH     -0.127201   -2.415821   -0.629529\\nH     -1.591685   -1.004473    0.778834\\nH     -2.128152   -0.919022   -0.935440\\nH     -2.103064    1.339708    0.176003\\nH     -1.003129    1.262462   -1.244562\\nH      0.127201    2.415821    0.629527\\nH     -0.208579    1.040635    1.738557\\nH      1.591687    1.004471   -0.778833\\nH      2.128152    0.919021    0.935440\\nH      1.003129   -1.262462    1.244563\\nH      2.103064   -1.339707   -0.176006\\n\",\"xyz\");\n",
       "\tviewergrid_16739484454890392[0][1].addModel(\"19\\n\\nC      0.829810    1.240514    0.383632\\nC     -0.617762    0.986556   -0.074294\\nC     -0.584072    0.220176   -1.408906\\nC     -0.111767   -1.180499   -0.984157\\nC      0.063196   -1.032907    0.538099\\nC     -1.063013   -0.088848    0.889038\\nC      1.302115   -0.160162    0.808382\\nH      1.459723    1.659588   -0.431294\\nH      0.842743    1.936489    1.251290\\nH     -1.257701    1.894595   -0.086403\\nH      0.110307    0.685769   -2.142106\\nH     -1.603840    0.170892   -1.850518\\nH      0.836443   -1.467670   -1.489084\\nH     -0.891852   -1.940591   -1.210217\\nH      0.053931   -1.995208    1.093163\\nH     -2.069792   -0.501832    0.646640\\nH     -1.039064    0.241992    1.953410\\nH      1.554731   -0.175000    1.891592\\nH      2.185864   -0.493855    0.221734\\n\",\"xyz\");\n",
       "\tviewergrid_16739484454890392[0][0].setViewStyle({\"style\": \"outline\", \"color\": \"black\", \"width\": 0.1});\n",
       "\tviewergrid_16739484454890392[0][1].setViewStyle({\"style\": \"outline\", \"color\": \"black\", \"width\": 0.1});\n",
       "\tviewergrid_16739484454890392[0][0].setStyle({\"stick\": {}});\n",
       "\tviewergrid_16739484454890392[0][1].setStyle({\"stick\": {}});\n",
       "viewergrid_16739484454890392[0][1].render();\n",
       "viewergrid_16739484454890392[0][0].render();\n",
       "});\n",
       "</script>"
      ]
     },
     "metadata": {},
     "output_type": "display_data"
    }
   ],
   "source": [
    "cyclohexane_xyz = smilestoxyz('C1CCCCC1')\n",
    "norborane_xyz = smilestoxyz('C1C2CCC(C2)C1')\n",
    "\n",
    "viewer = p3d.view(viewergrid=(1, 2), width=400, height=200, linked=False)\n",
    "viewer.addModel(cyclohexane_xyz, 'xyz', viewer=(0, 0))\n",
    "viewer.addModel(norborane_xyz, 'xyz', viewer=(0, 1))\n",
    "viewer.setViewStyle({\"style\": \"outline\", \"color\": \"black\", \"width\": 0.1})\n",
    "viewer.setStyle({\"stick\": {}})\n",
    "viewer.show()"
   ]
  },
  {
   "cell_type": "markdown",
   "id": "1a1a1f74",
   "metadata": {},
   "source": [
    "Aromatic rings can be written by using the aromatic bond symbole (`:`) or using lower-case for for the contributing atoms. For example, p-cymene can be written as both:"
   ]
  },
  {
   "cell_type": "code",
   "execution_count": 12,
   "id": "3878a714",
   "metadata": {},
   "outputs": [
    {
     "data": {
      "application/3dmoljs_load.v0": "<div id=\"3dmolviewer_16739484864215376\"  style=\"position: relative; width: 500px; height: 200px\">\n        <p id=\"3dmolwarning_16739484864215376\" style=\"background-color:#ffcccc;color:black\">You appear to be running in JupyterLab (or JavaScript failed to load for some other reason).  You need to install the 3dmol extension: <br>\n        <tt>jupyter labextension install jupyterlab_3dmol</tt></p>\n        </div>\n<script>\n\nvar loadScriptAsync = function(uri){\n  return new Promise((resolve, reject) => {\n    //this is to ignore the existence of requirejs amd\n    var savedexports, savedmodule;\n    if (typeof exports !== 'undefined') savedexports = exports;\n    else exports = {}\n    if (typeof module !== 'undefined') savedmodule = module;\n    else module = {}\n\n    var tag = document.createElement('script');\n    tag.src = uri;\n    tag.async = true;\n    tag.onload = () => {\n        exports = savedexports;\n        module = savedmodule;\n        resolve();\n    };\n  var firstScriptTag = document.getElementsByTagName('script')[0];\n  firstScriptTag.parentNode.insertBefore(tag, firstScriptTag);\n});\n};\n\nif(typeof $3Dmolpromise === 'undefined') {\n$3Dmolpromise = null;\n  $3Dmolpromise = loadScriptAsync('https://cdn.jsdelivr.net/npm/3dmol@latest/build/3Dmol-min.min.js');\n}\n\nvar viewer_16739484864215376 = null;\nvar warn = document.getElementById(\"3dmolwarning_16739484864215376\");\nif(warn) {\n    warn.parentNode.removeChild(warn);\n}\n$3Dmolpromise.then(function() {\nvar viewergrid_16739484864215376 = null;\nviewergrid_16739484864215376 = $3Dmol.createViewerGrid(document.getElementById(\"3dmolviewer_16739484864215376\"),{rows: 1, cols: 2, control_all: false},{backgroundColor:\"white\"});\nviewer_16739484864215376 = viewergrid_16739484864215376[0][0];\nviewergrid_16739484864215376[0][0].zoomTo();viewergrid_16739484864215376[0][1].zoomTo();\tviewergrid_16739484864215376[0][0].addModel(\"22\\n\\nC     -2.884036    0.720062   -1.085885\\nC     -2.132624   -0.173170   -0.430705\\nC     -2.781644   -1.420876    0.104754\\nC     -0.660156    0.008593   -0.314830\\nC      0.201722   -1.098484   -0.416880\\nC      1.585360   -0.935336   -0.302858\\nC      2.131897    0.333877   -0.067135\\nC      3.618801    0.513364    0.016355\\nC      1.279878    1.443361    0.023948\\nC     -0.103988    1.282461   -0.090738\\nH     -2.448556    1.600577   -1.540428\\nH     -3.950762    0.571478   -1.200767\\nH     -3.815629   -1.212456    0.454906\\nH     -2.207183   -1.815996    0.969215\\nH     -2.817576   -2.193093   -0.692020\\nH     -0.192347   -2.089547   -0.603308\\nH      2.230518   -1.799959   -0.399550\\nH      4.100628   -0.396697    0.433144\\nH      3.873755    1.369402    0.676864\\nH      4.024843    0.705587   -0.998643\\nH      1.686221    2.433652    0.189368\\nH     -0.739118    2.153201    0.011701\\n\",\"xyz\");\n\tviewergrid_16739484864215376[0][1].addModel(\"22\\n\\nC     -2.884036    0.720062   -1.085885\\nC     -2.132624   -0.173170   -0.430705\\nC     -2.781644   -1.420876    0.104754\\nC     -0.660156    0.008593   -0.314830\\nC      0.201722   -1.098484   -0.416880\\nC      1.585360   -0.935336   -0.302858\\nC      2.131897    0.333877   -0.067135\\nC      3.618801    0.513364    0.016355\\nC      1.279878    1.443361    0.023948\\nC     -0.103988    1.282461   -0.090738\\nH     -2.448556    1.600577   -1.540428\\nH     -3.950762    0.571478   -1.200767\\nH     -3.815629   -1.212456    0.454906\\nH     -2.207183   -1.815996    0.969215\\nH     -2.817576   -2.193093   -0.692020\\nH     -0.192347   -2.089547   -0.603308\\nH      2.230518   -1.799959   -0.399550\\nH      4.100628   -0.396697    0.433144\\nH      3.873755    1.369402    0.676864\\nH      4.024843    0.705587   -0.998643\\nH      1.686221    2.433652    0.189368\\nH     -0.739118    2.153201    0.011701\\n\",\"xyz\");\n\tviewergrid_16739484864215376[0][0].setViewStyle({\"style\": \"outline\", \"color\": \"black\", \"width\": 0.1});\n\tviewergrid_16739484864215376[0][1].setViewStyle({\"style\": \"outline\", \"color\": \"black\", \"width\": 0.1});\n\tviewergrid_16739484864215376[0][0].setStyle({\"stick\": {}});\n\tviewergrid_16739484864215376[0][1].setStyle({\"stick\": {}});\nviewergrid_16739484864215376[0][1].render();\nviewergrid_16739484864215376[0][0].render();\n});\n</script>",
      "text/html": [
       "<div id=\"3dmolviewer_16739484864215376\"  style=\"position: relative; width: 500px; height: 200px\">\n",
       "        <p id=\"3dmolwarning_16739484864215376\" style=\"background-color:#ffcccc;color:black\">You appear to be running in JupyterLab (or JavaScript failed to load for some other reason).  You need to install the 3dmol extension: <br>\n",
       "        <tt>jupyter labextension install jupyterlab_3dmol</tt></p>\n",
       "        </div>\n",
       "<script>\n",
       "\n",
       "var loadScriptAsync = function(uri){\n",
       "  return new Promise((resolve, reject) => {\n",
       "    //this is to ignore the existence of requirejs amd\n",
       "    var savedexports, savedmodule;\n",
       "    if (typeof exports !== 'undefined') savedexports = exports;\n",
       "    else exports = {}\n",
       "    if (typeof module !== 'undefined') savedmodule = module;\n",
       "    else module = {}\n",
       "\n",
       "    var tag = document.createElement('script');\n",
       "    tag.src = uri;\n",
       "    tag.async = true;\n",
       "    tag.onload = () => {\n",
       "        exports = savedexports;\n",
       "        module = savedmodule;\n",
       "        resolve();\n",
       "    };\n",
       "  var firstScriptTag = document.getElementsByTagName('script')[0];\n",
       "  firstScriptTag.parentNode.insertBefore(tag, firstScriptTag);\n",
       "});\n",
       "};\n",
       "\n",
       "if(typeof $3Dmolpromise === 'undefined') {\n",
       "$3Dmolpromise = null;\n",
       "  $3Dmolpromise = loadScriptAsync('https://cdn.jsdelivr.net/npm/3dmol@latest/build/3Dmol-min.min.js');\n",
       "}\n",
       "\n",
       "var viewer_16739484864215376 = null;\n",
       "var warn = document.getElementById(\"3dmolwarning_16739484864215376\");\n",
       "if(warn) {\n",
       "    warn.parentNode.removeChild(warn);\n",
       "}\n",
       "$3Dmolpromise.then(function() {\n",
       "var viewergrid_16739484864215376 = null;\n",
       "viewergrid_16739484864215376 = $3Dmol.createViewerGrid(document.getElementById(\"3dmolviewer_16739484864215376\"),{rows: 1, cols: 2, control_all: false},{backgroundColor:\"white\"});\n",
       "viewer_16739484864215376 = viewergrid_16739484864215376[0][0];\n",
       "viewergrid_16739484864215376[0][0].zoomTo();viewergrid_16739484864215376[0][1].zoomTo();\tviewergrid_16739484864215376[0][0].addModel(\"22\\n\\nC     -2.884036    0.720062   -1.085885\\nC     -2.132624   -0.173170   -0.430705\\nC     -2.781644   -1.420876    0.104754\\nC     -0.660156    0.008593   -0.314830\\nC      0.201722   -1.098484   -0.416880\\nC      1.585360   -0.935336   -0.302858\\nC      2.131897    0.333877   -0.067135\\nC      3.618801    0.513364    0.016355\\nC      1.279878    1.443361    0.023948\\nC     -0.103988    1.282461   -0.090738\\nH     -2.448556    1.600577   -1.540428\\nH     -3.950762    0.571478   -1.200767\\nH     -3.815629   -1.212456    0.454906\\nH     -2.207183   -1.815996    0.969215\\nH     -2.817576   -2.193093   -0.692020\\nH     -0.192347   -2.089547   -0.603308\\nH      2.230518   -1.799959   -0.399550\\nH      4.100628   -0.396697    0.433144\\nH      3.873755    1.369402    0.676864\\nH      4.024843    0.705587   -0.998643\\nH      1.686221    2.433652    0.189368\\nH     -0.739118    2.153201    0.011701\\n\",\"xyz\");\n",
       "\tviewergrid_16739484864215376[0][1].addModel(\"22\\n\\nC     -2.884036    0.720062   -1.085885\\nC     -2.132624   -0.173170   -0.430705\\nC     -2.781644   -1.420876    0.104754\\nC     -0.660156    0.008593   -0.314830\\nC      0.201722   -1.098484   -0.416880\\nC      1.585360   -0.935336   -0.302858\\nC      2.131897    0.333877   -0.067135\\nC      3.618801    0.513364    0.016355\\nC      1.279878    1.443361    0.023948\\nC     -0.103988    1.282461   -0.090738\\nH     -2.448556    1.600577   -1.540428\\nH     -3.950762    0.571478   -1.200767\\nH     -3.815629   -1.212456    0.454906\\nH     -2.207183   -1.815996    0.969215\\nH     -2.817576   -2.193093   -0.692020\\nH     -0.192347   -2.089547   -0.603308\\nH      2.230518   -1.799959   -0.399550\\nH      4.100628   -0.396697    0.433144\\nH      3.873755    1.369402    0.676864\\nH      4.024843    0.705587   -0.998643\\nH      1.686221    2.433652    0.189368\\nH     -0.739118    2.153201    0.011701\\n\",\"xyz\");\n",
       "\tviewergrid_16739484864215376[0][0].setViewStyle({\"style\": \"outline\", \"color\": \"black\", \"width\": 0.1});\n",
       "\tviewergrid_16739484864215376[0][1].setViewStyle({\"style\": \"outline\", \"color\": \"black\", \"width\": 0.1});\n",
       "\tviewergrid_16739484864215376[0][0].setStyle({\"stick\": {}});\n",
       "\tviewergrid_16739484864215376[0][1].setStyle({\"stick\": {}});\n",
       "viewergrid_16739484864215376[0][1].render();\n",
       "viewergrid_16739484864215376[0][0].render();\n",
       "});\n",
       "</script>"
      ]
     },
     "metadata": {},
     "output_type": "display_data"
    }
   ],
   "source": [
    "pcymene1_xyz = smilestoxyz('C=C(C)C1:C:C:C(C):C:C1')\n",
    "pcymene2_xyz = smilestoxyz('C=C(C)c1ccc(C)cc1')\n",
    "\n",
    "viewer = p3d.view(viewergrid=(1, 2), width=500, height=200, linked=False)\n",
    "viewer.addModel(pcymene1_xyz, 'xyz', viewer=(0, 0))\n",
    "viewer.addModel(pcymene1_xyz, 'xyz', viewer=(0, 1))\n",
    "viewer.setViewStyle({\"style\": \"outline\", \"color\": \"black\", \"width\": 0.1})\n",
    "viewer.setStyle({\"stick\": {}})\n",
    "viewer.show()"
   ]
  },
  {
   "cell_type": "markdown",
   "id": "b152e821",
   "metadata": {},
   "source": [
    "## More complex systems\n",
    "\n",
    "For more complex molecules, the easiest option is to check if wikipedia or other digital resources provide the SMILES string. This will work for many common molecules, and for the rest you can either consult more detailed guides on using SMILES and go from there, or use a graphical interface.\n",
    "\n",
    "```{note}\n",
    "No matter which option is chosen, we stress that you should always check that the structure you obtain is reasonably close to what is sought. For some systems you may need to sample many different conformers, and for PDB-files you might have to add hydrogens.\n",
    "```"
   ]
  }
 ],
 "metadata": {
  "celltoolbar": "Tags",
  "kernelspec": {
   "display_name": "Python 3 (ipykernel)",
   "language": "python",
   "name": "python3"
  },
  "language_info": {
   "codemirror_mode": {
    "name": "ipython",
    "version": 3
   },
   "file_extension": ".py",
   "mimetype": "text/x-python",
   "name": "python",
   "nbconvert_exporter": "python",
   "pygments_lexer": "ipython3",
   "version": "3.9.15"
  }
 },
 "nbformat": 4,
 "nbformat_minor": 5
}
