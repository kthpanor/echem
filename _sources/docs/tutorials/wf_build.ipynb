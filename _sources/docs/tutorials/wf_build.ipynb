{
 "cells": [
  {
   "cell_type": "markdown",
   "id": "ff8a63c1-317c-4890-a059-85f7e2c9f1e6",
   "metadata": {},
   "source": [
    "# Building the system\n",
    "\n",
    "This section will focus on the construction of an initial molecular structure, which can be done using a number of ways:\n",
    "\n",
    "- Specify the structure using the simplified molecular-input line-entry system ([SMILES](https://en.wikipedia.org/wiki/Simplified_molecular-input_line-entry_system)) line notation, and employ a program which can build the molecule from this\n",
    "\n",
    "- Downloading a structure from the protein data bank ([PDB](https://www.rcsb.org/))\n",
    "\n",
    "- Using a graphical molecular editor, such as [Avogadro](https://avogadro.cc/)\n"
   ]
  },
  {
   "cell_type": "code",
   "execution_count": 1,
   "id": "ef9ec4dd",
   "metadata": {
    "tags": []
   },
   "outputs": [
    {
     "name": "stdout",
     "output_type": "stream",
     "text": [
      "* Warning * Environment variable OMP_NUM_THREADS not set.\n",
      "* Warning * Setting OMP_NUM_THREADS to 4.\n"
     ]
    }
   ],
   "source": [
    "import py3Dmol as p3d\n",
    "import veloxchem as vlx\n",
    "from IPython.display import SVG"
   ]
  },
  {
   "cell_type": "markdown",
   "id": "da4f7b09",
   "metadata": {},
   "source": [
    "# Using SMILES\n",
    "\n",
    "\n",
    "In this section we will focus on the first option, using the [RDkit](https://www.rdkit.org/) package (which can also read PDB-files). For a full description of how a molecule is written using SMILES can be found on, *e.g.*, the [wiki](https://en.wikipedia.org/wiki/Simplified_molecular-input_line-entry_system) entry --- here we will just illustrate some of the basic commands. Remember to make sure to visualize the resulting geometries and ensure they correspond to what you are interested in.\n",
    "\n",
    "As a first example, we obtain the SMILES string of caffeine from [wikipedia](https://en.wikipedia.org/wiki/Caffeine) and construct a force-field optimized structure expressed xyz-coordinates."
   ]
  },
  {
   "cell_type": "code",
   "execution_count": 2,
   "id": "af2bcbc2",
   "metadata": {
    "tags": []
   },
   "outputs": [],
   "source": [
    "smiles_str = 'CN1C=NC2=C1C(=O)N(C(=O)N2C)C'\n",
    "caffeine_molecule = vlx.Molecule.read_smiles(smiles_str)\n",
    "caffeine_xyz = caffeine_molecule.get_xyz_string()"
   ]
  },
  {
   "cell_type": "markdown",
   "id": "2fa8b94d",
   "metadata": {},
   "source": [
    "In `vlx.Molecule.read_smiles` we:\n",
    "\n",
    "1. Build the molecule, excluding implicit atoms (hydrogens)\n",
    "2. Add hydrogens\n",
    "3. Generate conformer\n",
    "4. Optimize using the Universal Force Field (UFF)\n",
    "5. Return the 'molecule' object\n",
    "\n",
    "This can then be converted to an xyz-string using `get_xyz_string`, and the resulting coordinates printed as:"
   ]
  },
  {
   "cell_type": "code",
   "execution_count": 5,
   "id": "e22acbc7-1f18-46f6-997d-fdfa751b0039",
   "metadata": {
    "tags": []
   },
   "outputs": [
    {
     "name": "stdout",
     "output_type": "stream",
     "text": [
      "24\n",
      "\n",
      "C 3.263017 0.665602 -0.212720\n",
      "N 2.130944 -0.255164 -0.199731\n",
      "C 2.169427 -1.598733 -0.377053\n",
      "N 0.942209 -2.179661 -0.328611\n",
      "C 0.122902 -1.131387 -0.108457\n",
      "C 0.826777 0.020965 -0.033402\n",
      "C 0.176416 1.232141 0.162798\n",
      "O 0.830662 2.309769 0.212003\n",
      "N -1.194119 1.221596 0.291480\n",
      "C -1.895573 0.031642 0.181110\n",
      "O -3.158218 0.040671 0.233363\n",
      "N -1.232449 -1.164517 0.007067\n",
      "C -1.967842 -2.428192 -0.134534\n",
      "C -1.923424 2.489165 0.463343\n",
      "H 4.214642 0.108953 -0.348684\n",
      "H 3.149265 1.386854 -1.048964\n",
      "H 3.309011 1.216933 0.749769\n",
      "H 3.081659 -2.156591 -0.545352\n",
      "H -1.328558 -3.298924 0.124931\n",
      "H -2.841765 -2.451853 0.551042\n",
      "H -2.320805 -2.537641 -1.181510\n",
      "H -2.839017 2.343970 1.075630\n",
      "H -2.209018 2.891819 -0.531182\n",
      "H -1.306144 3.242585 0.997663\n",
      "\n"
     ]
    }
   ],
   "source": [
    "print(caffeine_xyz)"
   ]
  },
  {
   "cell_type": "markdown",
   "id": "2d3efe54-1ebb-478d-8d7c-015e6a6cdc65",
   "metadata": {},
   "source": [
    "In order to immediately get the xyz-object, we can also use:"
   ]
  },
  {
   "cell_type": "code",
   "execution_count": 27,
   "id": "ec283686-a2ab-4e44-9e10-1d87910b1a06",
   "metadata": {
    "tags": []
   },
   "outputs": [],
   "source": [
    "caffeine_xyz = vlx.Molecule._smiles_to_xyz(smiles_str)"
   ]
  },
  {
   "cell_type": "markdown",
   "id": "e7672456-6cc3-41c2-bc6c-eeaa751e15f7",
   "metadata": {
    "tags": []
   },
   "source": [
    "We visualize the structure using py3Dmol:"
   ]
  },
  {
   "cell_type": "code",
   "execution_count": 28,
   "id": "66d104ff",
   "metadata": {
    "tags": []
   },
   "outputs": [
    {
     "data": {
      "application/3dmoljs_load.v0": "<div id=\"3dmolviewer_16835419735793672\"  style=\"position: relative; width: 400px; height: 300px\">\n        <p id=\"3dmolwarning_16835419735793672\" style=\"background-color:#ffcccc;color:black\">You appear to be running in JupyterLab (or JavaScript failed to load for some other reason).  You need to install the 3dmol extension: <br>\n        <tt>jupyter labextension install jupyterlab_3dmol</tt></p>\n        </div>\n<script>\n\nvar loadScriptAsync = function(uri){\n  return new Promise((resolve, reject) => {\n    //this is to ignore the existence of requirejs amd\n    var savedexports, savedmodule;\n    if (typeof exports !== 'undefined') savedexports = exports;\n    else exports = {}\n    if (typeof module !== 'undefined') savedmodule = module;\n    else module = {}\n\n    var tag = document.createElement('script');\n    tag.src = uri;\n    tag.async = true;\n    tag.onload = () => {\n        exports = savedexports;\n        module = savedmodule;\n        resolve();\n    };\n  var firstScriptTag = document.getElementsByTagName('script')[0];\n  firstScriptTag.parentNode.insertBefore(tag, firstScriptTag);\n});\n};\n\nif(typeof $3Dmolpromise === 'undefined') {\n$3Dmolpromise = null;\n  $3Dmolpromise = loadScriptAsync('https://cdnjs.cloudflare.com/ajax/libs/3Dmol/2.0.1/3Dmol-min.js');\n}\n\nvar viewer_16835419735793672 = null;\nvar warn = document.getElementById(\"3dmolwarning_16835419735793672\");\nif(warn) {\n    warn.parentNode.removeChild(warn);\n}\n$3Dmolpromise.then(function() {\nviewer_16835419735793672 = $3Dmol.createViewer(document.getElementById(\"3dmolviewer_16835419735793672\"),{backgroundColor:\"white\"});\nviewer_16835419735793672.zoomTo();\n\tviewer_16835419735793672.addModel(\"24\\n\\nC      2.976675   -1.508204   -0.293962\\nN      2.131132   -0.318845   -0.287042\\nC      2.538337    0.972752   -0.350398\\nN      1.509086    1.859342   -0.328614\\nC      0.426143    1.059609   -0.249219\\nC      0.791312   -0.242323   -0.225754\\nC     -0.169480   -1.242272   -0.153174\\nO      0.171711   -2.456074   -0.108610\\nN     -1.494914   -0.870885   -0.131372\\nC     -1.843452    0.470336   -0.133489\\nO     -3.062064    0.801882   -0.086897\\nN     -0.875586    1.450834   -0.184715\\nC     -1.238836    2.873417   -0.233833\\nC     -2.543628   -1.900149   -0.034598\\nH      2.815621   -2.087782    0.639095\\nH      4.048378   -1.222348   -0.354570\\nH      2.726852   -2.140311   -1.171748\\nH      3.576472    1.273041   -0.412038\\nH     -0.392411    3.520556    0.080336\\nH     -2.082963    3.084376    0.457016\\nH     -1.535916    3.145574   -1.268435\\nH     -2.218666   -2.856407   -0.497249\\nH     -3.461891   -1.587386   -0.576082\\nH     -2.791912   -2.078735    1.032736\\n\",\"xyz\");\n\tviewer_16835419735793672.setViewStyle({\"style\": \"outline\", \"width\": 0.05});\n\tviewer_16835419735793672.setStyle({\"stick\": {}, \"sphere\": {\"scale\": 0.25}});\nviewer_16835419735793672.render();\n});\n</script>",
      "text/html": [
       "<div id=\"3dmolviewer_16835419735793672\"  style=\"position: relative; width: 400px; height: 300px\">\n",
       "        <p id=\"3dmolwarning_16835419735793672\" style=\"background-color:#ffcccc;color:black\">You appear to be running in JupyterLab (or JavaScript failed to load for some other reason).  You need to install the 3dmol extension: <br>\n",
       "        <tt>jupyter labextension install jupyterlab_3dmol</tt></p>\n",
       "        </div>\n",
       "<script>\n",
       "\n",
       "var loadScriptAsync = function(uri){\n",
       "  return new Promise((resolve, reject) => {\n",
       "    //this is to ignore the existence of requirejs amd\n",
       "    var savedexports, savedmodule;\n",
       "    if (typeof exports !== 'undefined') savedexports = exports;\n",
       "    else exports = {}\n",
       "    if (typeof module !== 'undefined') savedmodule = module;\n",
       "    else module = {}\n",
       "\n",
       "    var tag = document.createElement('script');\n",
       "    tag.src = uri;\n",
       "    tag.async = true;\n",
       "    tag.onload = () => {\n",
       "        exports = savedexports;\n",
       "        module = savedmodule;\n",
       "        resolve();\n",
       "    };\n",
       "  var firstScriptTag = document.getElementsByTagName('script')[0];\n",
       "  firstScriptTag.parentNode.insertBefore(tag, firstScriptTag);\n",
       "});\n",
       "};\n",
       "\n",
       "if(typeof $3Dmolpromise === 'undefined') {\n",
       "$3Dmolpromise = null;\n",
       "  $3Dmolpromise = loadScriptAsync('https://cdnjs.cloudflare.com/ajax/libs/3Dmol/2.0.1/3Dmol-min.js');\n",
       "}\n",
       "\n",
       "var viewer_16835419735793672 = null;\n",
       "var warn = document.getElementById(\"3dmolwarning_16835419735793672\");\n",
       "if(warn) {\n",
       "    warn.parentNode.removeChild(warn);\n",
       "}\n",
       "$3Dmolpromise.then(function() {\n",
       "viewer_16835419735793672 = $3Dmol.createViewer(document.getElementById(\"3dmolviewer_16835419735793672\"),{backgroundColor:\"white\"});\n",
       "viewer_16835419735793672.zoomTo();\n",
       "\tviewer_16835419735793672.addModel(\"24\\n\\nC      2.976675   -1.508204   -0.293962\\nN      2.131132   -0.318845   -0.287042\\nC      2.538337    0.972752   -0.350398\\nN      1.509086    1.859342   -0.328614\\nC      0.426143    1.059609   -0.249219\\nC      0.791312   -0.242323   -0.225754\\nC     -0.169480   -1.242272   -0.153174\\nO      0.171711   -2.456074   -0.108610\\nN     -1.494914   -0.870885   -0.131372\\nC     -1.843452    0.470336   -0.133489\\nO     -3.062064    0.801882   -0.086897\\nN     -0.875586    1.450834   -0.184715\\nC     -1.238836    2.873417   -0.233833\\nC     -2.543628   -1.900149   -0.034598\\nH      2.815621   -2.087782    0.639095\\nH      4.048378   -1.222348   -0.354570\\nH      2.726852   -2.140311   -1.171748\\nH      3.576472    1.273041   -0.412038\\nH     -0.392411    3.520556    0.080336\\nH     -2.082963    3.084376    0.457016\\nH     -1.535916    3.145574   -1.268435\\nH     -2.218666   -2.856407   -0.497249\\nH     -3.461891   -1.587386   -0.576082\\nH     -2.791912   -2.078735    1.032736\\n\",\"xyz\");\n",
       "\tviewer_16835419735793672.setViewStyle({\"style\": \"outline\", \"width\": 0.05});\n",
       "\tviewer_16835419735793672.setStyle({\"stick\": {}, \"sphere\": {\"scale\": 0.25}});\n",
       "viewer_16835419735793672.render();\n",
       "});\n",
       "</script>"
      ]
     },
     "metadata": {},
     "output_type": "display_data"
    }
   ],
   "source": [
    "viewer = p3d.view(width=400, height=300)\n",
    "viewer.addModel(caffeine_xyz, 'xyz')\n",
    "viewer.setViewStyle({\"style\": \"outline\", \"width\": 0.05})\n",
    "viewer.setStyle({\"stick\":{},\"sphere\": {\"scale\":0.25}})\n",
    "viewer.show()"
   ]
  },
  {
   "cell_type": "markdown",
   "id": "c0b75ae2",
   "metadata": {},
   "source": [
    "This structure looks close to the actual equilibrium geometry, and in the next section we will discuss how to (further) [optimize the structure](wf_struct) using higher-level theory.\n",
    "\n",
    "\n",
    "For a 2D-representation:"
   ]
  },
  {
   "cell_type": "code",
   "execution_count": 8,
   "id": "33797b98",
   "metadata": {
    "tags": []
   },
   "outputs": [
    {
     "data": {
      "image/svg+xml": [
       "<svg xmlns=\"http://www.w3.org/2000/svg\" xmlns:rdkit=\"http://www.rdkit.org/xml\" xmlns:xlink=\"http://www.w3.org/1999/xlink\" version=\"1.1\" baseProfile=\"full\" xml:space=\"preserve\" width=\"300px\" height=\"300px\" viewBox=\"0 0 300 300\">\n",
       "<!-- END OF HEADER -->\n",
       "<rect style=\"opacity:1.0;fill:#FFFFFF;stroke:none\" width=\"300.0\" height=\"300.0\" x=\"0.0\" y=\"0.0\"> </rect>\n",
       "<path class=\"bond-0 atom-0 atom-1\" d=\"M 286.4,145.1 L 264.3,133.2\" style=\"fill:none;fill-rule:evenodd;stroke:#000000;stroke-width:2.0px;stroke-linecap:butt;stroke-linejoin:miter;stroke-opacity:1\"/>\n",
       "<path class=\"bond-0 atom-0 atom-1\" d=\"M 264.3,133.2 L 242.2,121.2\" style=\"fill:none;fill-rule:evenodd;stroke:#0000FF;stroke-width:2.0px;stroke-linecap:butt;stroke-linejoin:miter;stroke-opacity:1\"/>\n",
       "<path class=\"bond-1 atom-1 atom-2\" d=\"M 232.0,106.0 L 228.7,83.6\" style=\"fill:none;fill-rule:evenodd;stroke:#0000FF;stroke-width:2.0px;stroke-linecap:butt;stroke-linejoin:miter;stroke-opacity:1\"/>\n",
       "<path class=\"bond-1 atom-1 atom-2\" d=\"M 228.7,83.6 L 225.3,61.3\" style=\"fill:none;fill-rule:evenodd;stroke:#000000;stroke-width:2.0px;stroke-linecap:butt;stroke-linejoin:miter;stroke-opacity:1\"/>\n",
       "<path class=\"bond-2 atom-2 atom-3\" d=\"M 225.3,61.3 L 202.6,55.4\" style=\"fill:none;fill-rule:evenodd;stroke:#000000;stroke-width:2.0px;stroke-linecap:butt;stroke-linejoin:miter;stroke-opacity:1\"/>\n",
       "<path class=\"bond-2 atom-2 atom-3\" d=\"M 202.6,55.4 L 179.8,49.6\" style=\"fill:none;fill-rule:evenodd;stroke:#0000FF;stroke-width:2.0px;stroke-linecap:butt;stroke-linejoin:miter;stroke-opacity:1\"/>\n",
       "<path class=\"bond-2 atom-2 atom-3\" d=\"M 217.8,68.1 L 197.7,63.0\" style=\"fill:none;fill-rule:evenodd;stroke:#000000;stroke-width:2.0px;stroke-linecap:butt;stroke-linejoin:miter;stroke-opacity:1\"/>\n",
       "<path class=\"bond-2 atom-2 atom-3\" d=\"M 197.7,63.0 L 177.7,57.8\" style=\"fill:none;fill-rule:evenodd;stroke:#0000FF;stroke-width:2.0px;stroke-linecap:butt;stroke-linejoin:miter;stroke-opacity:1\"/>\n",
       "<path class=\"bond-3 atom-3 atom-4\" d=\"M 165.8,58.1 L 155.8,77.5\" style=\"fill:none;fill-rule:evenodd;stroke:#0000FF;stroke-width:2.0px;stroke-linecap:butt;stroke-linejoin:miter;stroke-opacity:1\"/>\n",
       "<path class=\"bond-3 atom-3 atom-4\" d=\"M 155.8,77.5 L 145.8,97.0\" style=\"fill:none;fill-rule:evenodd;stroke:#000000;stroke-width:2.0px;stroke-linecap:butt;stroke-linejoin:miter;stroke-opacity:1\"/>\n",
       "<path class=\"bond-4 atom-4 atom-5\" d=\"M 145.8,97.0 L 182.8,138.5\" style=\"fill:none;fill-rule:evenodd;stroke:#000000;stroke-width:2.0px;stroke-linecap:butt;stroke-linejoin:miter;stroke-opacity:1\"/>\n",
       "<path class=\"bond-4 atom-4 atom-5\" d=\"M 156.0,95.7 L 185.0,128.3\" style=\"fill:none;fill-rule:evenodd;stroke:#000000;stroke-width:2.0px;stroke-linecap:butt;stroke-linejoin:miter;stroke-opacity:1\"/>\n",
       "<path class=\"bond-5 atom-5 atom-6\" d=\"M 182.8,138.5 L 165.4,193.2\" style=\"fill:none;fill-rule:evenodd;stroke:#000000;stroke-width:2.0px;stroke-linecap:butt;stroke-linejoin:miter;stroke-opacity:1\"/>\n",
       "<path class=\"bond-6 atom-6 atom-7\" d=\"M 160.5,194.2 L 173.8,209.1\" style=\"fill:none;fill-rule:evenodd;stroke:#000000;stroke-width:2.0px;stroke-linecap:butt;stroke-linejoin:miter;stroke-opacity:1\"/>\n",
       "<path class=\"bond-6 atom-6 atom-7\" d=\"M 173.8,209.1 L 187.1,224.0\" style=\"fill:none;fill-rule:evenodd;stroke:#FF0000;stroke-width:2.0px;stroke-linecap:butt;stroke-linejoin:miter;stroke-opacity:1\"/>\n",
       "<path class=\"bond-6 atom-6 atom-7\" d=\"M 166.9,188.5 L 180.2,203.4\" style=\"fill:none;fill-rule:evenodd;stroke:#000000;stroke-width:2.0px;stroke-linecap:butt;stroke-linejoin:miter;stroke-opacity:1\"/>\n",
       "<path class=\"bond-6 atom-6 atom-7\" d=\"M 180.2,203.4 L 193.4,218.3\" style=\"fill:none;fill-rule:evenodd;stroke:#FF0000;stroke-width:2.0px;stroke-linecap:butt;stroke-linejoin:miter;stroke-opacity:1\"/>\n",
       "<path class=\"bond-7 atom-6 atom-8\" d=\"M 165.4,193.2 L 141.9,197.8\" style=\"fill:none;fill-rule:evenodd;stroke:#000000;stroke-width:2.0px;stroke-linecap:butt;stroke-linejoin:miter;stroke-opacity:1\"/>\n",
       "<path class=\"bond-7 atom-6 atom-8\" d=\"M 141.9,197.8 L 118.5,202.3\" style=\"fill:none;fill-rule:evenodd;stroke:#0000FF;stroke-width:2.0px;stroke-linecap:butt;stroke-linejoin:miter;stroke-opacity:1\"/>\n",
       "<path class=\"bond-8 atom-8 atom-9\" d=\"M 101.4,194.0 L 87.0,177.3\" style=\"fill:none;fill-rule:evenodd;stroke:#0000FF;stroke-width:2.0px;stroke-linecap:butt;stroke-linejoin:miter;stroke-opacity:1\"/>\n",
       "<path class=\"bond-8 atom-8 atom-9\" d=\"M 87.0,177.3 L 72.7,160.7\" style=\"fill:none;fill-rule:evenodd;stroke:#000000;stroke-width:2.0px;stroke-linecap:butt;stroke-linejoin:miter;stroke-opacity:1\"/>\n",
       "<path class=\"bond-9 atom-9 atom-10\" d=\"M 74.2,156.0 L 52.5,160.3\" style=\"fill:none;fill-rule:evenodd;stroke:#000000;stroke-width:2.0px;stroke-linecap:butt;stroke-linejoin:miter;stroke-opacity:1\"/>\n",
       "<path class=\"bond-9 atom-9 atom-10\" d=\"M 52.5,160.3 L 30.8,164.7\" style=\"fill:none;fill-rule:evenodd;stroke:#FF0000;stroke-width:2.0px;stroke-linecap:butt;stroke-linejoin:miter;stroke-opacity:1\"/>\n",
       "<path class=\"bond-9 atom-9 atom-10\" d=\"M 75.9,164.4 L 54.2,168.7\" style=\"fill:none;fill-rule:evenodd;stroke:#000000;stroke-width:2.0px;stroke-linecap:butt;stroke-linejoin:miter;stroke-opacity:1\"/>\n",
       "<path class=\"bond-9 atom-9 atom-10\" d=\"M 54.2,168.7 L 32.5,173.0\" style=\"fill:none;fill-rule:evenodd;stroke:#FF0000;stroke-width:2.0px;stroke-linecap:butt;stroke-linejoin:miter;stroke-opacity:1\"/>\n",
       "<path class=\"bond-10 atom-9 atom-11\" d=\"M 72.7,160.7 L 79.9,138.9\" style=\"fill:none;fill-rule:evenodd;stroke:#000000;stroke-width:2.0px;stroke-linecap:butt;stroke-linejoin:miter;stroke-opacity:1\"/>\n",
       "<path class=\"bond-10 atom-9 atom-11\" d=\"M 79.9,138.9 L 87.0,117.2\" style=\"fill:none;fill-rule:evenodd;stroke:#0000FF;stroke-width:2.0px;stroke-linecap:butt;stroke-linejoin:miter;stroke-opacity:1\"/>\n",
       "<path class=\"bond-11 atom-11 atom-12\" d=\"M 82.0,96.4 L 66.8,78.5\" style=\"fill:none;fill-rule:evenodd;stroke:#0000FF;stroke-width:2.0px;stroke-linecap:butt;stroke-linejoin:miter;stroke-opacity:1\"/>\n",
       "<path class=\"bond-11 atom-11 atom-12\" d=\"M 66.8,78.5 L 51.6,60.5\" style=\"fill:none;fill-rule:evenodd;stroke:#000000;stroke-width:2.0px;stroke-linecap:butt;stroke-linejoin:miter;stroke-opacity:1\"/>\n",
       "<path class=\"bond-12 atom-8 atom-13\" d=\"M 106.2,214.6 L 98.0,238.0\" style=\"fill:none;fill-rule:evenodd;stroke:#0000FF;stroke-width:2.0px;stroke-linecap:butt;stroke-linejoin:miter;stroke-opacity:1\"/>\n",
       "<path class=\"bond-12 atom-8 atom-13\" d=\"M 98.0,238.0 L 89.7,261.4\" style=\"fill:none;fill-rule:evenodd;stroke:#000000;stroke-width:2.0px;stroke-linecap:butt;stroke-linejoin:miter;stroke-opacity:1\"/>\n",
       "<path class=\"bond-13 atom-5 atom-1\" d=\"M 182.8,138.5 L 203.9,129.4\" style=\"fill:none;fill-rule:evenodd;stroke:#000000;stroke-width:2.0px;stroke-linecap:butt;stroke-linejoin:miter;stroke-opacity:1\"/>\n",
       "<path class=\"bond-13 atom-5 atom-1\" d=\"M 203.9,129.4 L 225.1,120.3\" style=\"fill:none;fill-rule:evenodd;stroke:#0000FF;stroke-width:2.0px;stroke-linecap:butt;stroke-linejoin:miter;stroke-opacity:1\"/>\n",
       "<path class=\"bond-14 atom-11 atom-4\" d=\"M 99.1,105.0 L 122.4,101.0\" style=\"fill:none;fill-rule:evenodd;stroke:#0000FF;stroke-width:2.0px;stroke-linecap:butt;stroke-linejoin:miter;stroke-opacity:1\"/>\n",
       "<path class=\"bond-14 atom-11 atom-4\" d=\"M 122.4,101.0 L 145.8,97.0\" style=\"fill:none;fill-rule:evenodd;stroke:#000000;stroke-width:2.0px;stroke-linecap:butt;stroke-linejoin:miter;stroke-opacity:1\"/>\n",
       "<path d=\"M 225.5,62.4 L 225.3,61.3 L 224.2,61.0\" style=\"fill:none;stroke:#000000;stroke-width:2.0px;stroke-linecap:butt;stroke-linejoin:miter;stroke-opacity:1;\"/>\n",
       "<path d=\"M 166.3,190.5 L 165.4,193.2 L 164.2,193.5\" style=\"fill:none;stroke:#000000;stroke-width:2.0px;stroke-linecap:butt;stroke-linejoin:miter;stroke-opacity:1;\"/>\n",
       "<path d=\"M 73.4,161.5 L 72.7,160.7 L 73.0,159.6\" style=\"fill:none;stroke:#000000;stroke-width:2.0px;stroke-linecap:butt;stroke-linejoin:miter;stroke-opacity:1;\"/>\n",
       "<path class=\"atom-1\" d=\"M 229.7 107.8 L 235.5 117.2 Q 236.1 118.1, 237.0 119.7 Q 237.9 121.4, 238.0 121.5 L 238.0 107.8 L 240.3 107.8 L 240.3 125.4 L 237.9 125.4 L 231.7 115.2 Q 231.0 114.1, 230.2 112.7 Q 229.5 111.3, 229.2 110.9 L 229.2 125.4 L 227.0 125.4 L 227.0 107.8 L 229.7 107.8 \" fill=\"#0000FF\"/>\n",
       "<path class=\"atom-3\" d=\"M 167.4 38.6 L 173.2 47.9 Q 173.8 48.9, 174.7 50.5 Q 175.6 52.2, 175.6 52.3 L 175.6 38.6 L 178.0 38.6 L 178.0 56.2 L 175.6 56.2 L 169.4 46.0 Q 168.7 44.8, 167.9 43.5 Q 167.2 42.1, 166.9 41.7 L 166.9 56.2 L 164.6 56.2 L 164.6 38.6 L 167.4 38.6 \" fill=\"#0000FF\"/>\n",
       "<path class=\"atom-7\" d=\"M 191.7 232.0 Q 191.7 227.8, 193.8 225.4 Q 195.9 223.0, 199.8 223.0 Q 203.7 223.0, 205.8 225.4 Q 207.9 227.8, 207.9 232.0 Q 207.9 236.2, 205.8 238.7 Q 203.6 241.1, 199.8 241.1 Q 195.9 241.1, 193.8 238.7 Q 191.7 236.3, 191.7 232.0 M 199.8 239.1 Q 202.5 239.1, 203.9 237.3 Q 205.4 235.5, 205.4 232.0 Q 205.4 228.5, 203.9 226.8 Q 202.5 225.0, 199.8 225.0 Q 197.1 225.0, 195.7 226.8 Q 194.2 228.5, 194.2 232.0 Q 194.2 235.5, 195.7 237.3 Q 197.1 239.1, 199.8 239.1 \" fill=\"#FF0000\"/>\n",
       "<path class=\"atom-8\" d=\"M 106.0 195.1 L 111.8 204.4 Q 112.4 205.4, 113.3 207.0 Q 114.2 208.7, 114.3 208.8 L 114.3 195.1 L 116.6 195.1 L 116.6 212.7 L 114.2 212.7 L 108.0 202.5 Q 107.3 201.3, 106.5 200.0 Q 105.8 198.6, 105.5 198.2 L 105.5 212.7 L 103.3 212.7 L 103.3 195.1 L 106.0 195.1 \" fill=\"#0000FF\"/>\n",
       "<path class=\"atom-10\" d=\"M 13.6 170.9 Q 13.6 166.7, 15.7 164.3 Q 17.8 162.0, 21.7 162.0 Q 25.6 162.0, 27.7 164.3 Q 29.8 166.7, 29.8 170.9 Q 29.8 175.2, 27.7 177.6 Q 25.5 180.0, 21.7 180.0 Q 17.8 180.0, 15.7 177.6 Q 13.6 175.2, 13.6 170.9 M 21.7 178.0 Q 24.4 178.0, 25.8 176.2 Q 27.3 174.4, 27.3 170.9 Q 27.3 167.4, 25.8 165.7 Q 24.4 163.9, 21.7 163.9 Q 19.0 163.9, 17.6 165.7 Q 16.1 167.4, 16.1 170.9 Q 16.1 174.4, 17.6 176.2 Q 19.0 178.0, 21.7 178.0 \" fill=\"#FF0000\"/>\n",
       "<path class=\"atom-11\" d=\"M 86.7 97.7 L 92.4 107.0 Q 93.0 107.9, 93.9 109.6 Q 94.8 111.3, 94.9 111.4 L 94.9 97.7 L 97.2 97.7 L 97.2 115.3 L 94.8 115.3 L 88.6 105.1 Q 87.9 103.9, 87.1 102.6 Q 86.4 101.2, 86.2 100.8 L 86.2 115.3 L 83.9 115.3 L 83.9 97.7 L 86.7 97.7 \" fill=\"#0000FF\"/>\n",
       "</svg>"
      ],
      "text/plain": [
       "<IPython.core.display.SVG object>"
      ]
     },
     "metadata": {},
     "output_type": "display_data"
    }
   ],
   "source": [
    "vlx.Molecule.draw_2d_svg(smiles_str, width=300, height=300)"
   ]
  },
  {
   "cell_type": "markdown",
   "id": "4cd42682",
   "metadata": {},
   "source": [
    "Note that the image will look somewhat different each time, as the initial conformer and UFF optimized structure will have different orientations, which will affect the projection to 2D --- this is particularly the case for larger molecules extending in all three directions. Still, for many molecules this will work well, and you can save the .svg-figure with right-click save.\n",
    "\n",
    "\n",
    "## Bond type\n",
    "\n",
    "The basic principle of SMILES is to start at a suitable part of the molecule, and build the full molecule by sequentially describing the connections of each atom/functional group in turn. Hydrogens are typically added implicitly, and thus do not need to be specified. As such, the first four alkanes can simply be written with an increasing number of `C`:"
   ]
  },
  {
   "cell_type": "code",
   "execution_count": 29,
   "id": "b246d31d",
   "metadata": {
    "tags": []
   },
   "outputs": [
    {
     "data": {
      "application/3dmoljs_load.v0": "<div id=\"3dmolviewer_16835420543263843\"  style=\"position: relative; width: 500px; height: 300px\">\n        <p id=\"3dmolwarning_16835420543263843\" style=\"background-color:#ffcccc;color:black\">You appear to be running in JupyterLab (or JavaScript failed to load for some other reason).  You need to install the 3dmol extension: <br>\n        <tt>jupyter labextension install jupyterlab_3dmol</tt></p>\n        </div>\n<script>\n\nvar loadScriptAsync = function(uri){\n  return new Promise((resolve, reject) => {\n    //this is to ignore the existence of requirejs amd\n    var savedexports, savedmodule;\n    if (typeof exports !== 'undefined') savedexports = exports;\n    else exports = {}\n    if (typeof module !== 'undefined') savedmodule = module;\n    else module = {}\n\n    var tag = document.createElement('script');\n    tag.src = uri;\n    tag.async = true;\n    tag.onload = () => {\n        exports = savedexports;\n        module = savedmodule;\n        resolve();\n    };\n  var firstScriptTag = document.getElementsByTagName('script')[0];\n  firstScriptTag.parentNode.insertBefore(tag, firstScriptTag);\n});\n};\n\nif(typeof $3Dmolpromise === 'undefined') {\n$3Dmolpromise = null;\n  $3Dmolpromise = loadScriptAsync('https://cdnjs.cloudflare.com/ajax/libs/3Dmol/2.0.1/3Dmol-min.js');\n}\n\nvar viewer_16835420543263843 = null;\nvar warn = document.getElementById(\"3dmolwarning_16835420543263843\");\nif(warn) {\n    warn.parentNode.removeChild(warn);\n}\n$3Dmolpromise.then(function() {\nvar viewergrid_16835420543263843 = null;\nviewergrid_16835420543263843 = $3Dmol.createViewerGrid(document.getElementById(\"3dmolviewer_16835420543263843\"),{rows: 2, cols: 2, control_all: false},{backgroundColor:\"white\"});\nviewer_16835420543263843 = viewergrid_16835420543263843[0][0];\nviewergrid_16835420543263843[0][0].zoomTo();viewergrid_16835420543263843[0][1].zoomTo();viewergrid_16835420543263843[1][0].zoomTo();viewergrid_16835420543263843[1][1].zoomTo();\tviewergrid_16835420543263843[0][0].addModel(\"5\\n\\nC      0.000000    0.000000    0.000000\\nH     -0.692684   -0.652755   -0.569974\\nH     -0.561619    0.861984    0.415137\\nH      0.799143    0.369745   -0.674855\\nH      0.455160   -0.578974    0.829692\\n\",\"xyz\");\n\tviewergrid_16835420543263843[0][1].addModel(\"8\\n\\nC     -0.758390   -0.029009   -0.031307\\nC      0.758390    0.029009    0.031307\\nH     -1.088579   -1.076533   -0.194484\\nH     -1.125007    0.602496   -0.867818\\nH     -1.188995    0.343886    0.921839\\nH      1.088579    1.076534    0.194477\\nH      1.188994   -0.343891   -0.921837\\nH      1.125007   -0.602492    0.867822\\n\",\"xyz\");\n\tviewergrid_16835420543263843[1][0].addModel(\"11\\n\\nC      1.239638    0.320830   -0.062082\\nC      0.034457   -0.614056   -0.095156\\nC     -1.266040    0.149689    0.134996\\nH      2.168092   -0.263914   -0.232313\\nH      1.311829    0.822442    0.926513\\nH      1.153125    1.090189   -0.858793\\nH     -0.008500   -1.122232   -1.082603\\nH      0.149390   -1.388606    0.693515\\nH     -1.250625    0.647421    1.128057\\nH     -1.409333    0.915171   -0.657248\\nH     -2.122032   -0.556934    0.105114\\n\",\"xyz\");\n\tviewergrid_16835420543263843[1][1].addModel(\"14\\n\\nC     -1.876567    0.446399    0.143990\\nC     -0.644992   -0.365014   -0.247218\\nC      0.644992    0.365012    0.142468\\nC      1.876567   -0.446398   -0.248746\\nH     -1.871952    1.428963   -0.374329\\nH     -1.897391    0.610849    1.242457\\nH     -2.794134   -0.105645   -0.149789\\nH     -0.661544   -0.536769   -1.345694\\nH     -0.686866   -1.351432    0.264300\\nH      0.661546    0.536762    1.240945\\nH      0.686864    1.351433   -0.369046\\nH      1.871957   -1.428961    0.269571\\nH      2.794134    0.105648    0.045027\\nH      1.897385   -0.610847   -1.347213\\n\",\"xyz\");\n\tviewergrid_16835420543263843[0][0].setViewStyle({\"style\": \"outline\", \"width\": 0.05});\n\tviewergrid_16835420543263843[0][1].setViewStyle({\"style\": \"outline\", \"width\": 0.05});\n\tviewergrid_16835420543263843[1][0].setViewStyle({\"style\": \"outline\", \"width\": 0.05});\n\tviewergrid_16835420543263843[1][1].setViewStyle({\"style\": \"outline\", \"width\": 0.05});\n\tviewergrid_16835420543263843[0][0].setStyle({\"stick\": {}, \"sphere\": {\"scale\": 0.25}});\n\tviewergrid_16835420543263843[0][1].setStyle({\"stick\": {}, \"sphere\": {\"scale\": 0.25}});\n\tviewergrid_16835420543263843[1][0].setStyle({\"stick\": {}, \"sphere\": {\"scale\": 0.25}});\n\tviewergrid_16835420543263843[1][1].setStyle({\"stick\": {}, \"sphere\": {\"scale\": 0.25}});\nviewergrid_16835420543263843[1][1].render();\nviewergrid_16835420543263843[1][0].render();\nviewergrid_16835420543263843[0][1].render();\nviewergrid_16835420543263843[0][0].render();\n});\n</script>",
      "text/html": [
       "<div id=\"3dmolviewer_16835420543263843\"  style=\"position: relative; width: 500px; height: 300px\">\n",
       "        <p id=\"3dmolwarning_16835420543263843\" style=\"background-color:#ffcccc;color:black\">You appear to be running in JupyterLab (or JavaScript failed to load for some other reason).  You need to install the 3dmol extension: <br>\n",
       "        <tt>jupyter labextension install jupyterlab_3dmol</tt></p>\n",
       "        </div>\n",
       "<script>\n",
       "\n",
       "var loadScriptAsync = function(uri){\n",
       "  return new Promise((resolve, reject) => {\n",
       "    //this is to ignore the existence of requirejs amd\n",
       "    var savedexports, savedmodule;\n",
       "    if (typeof exports !== 'undefined') savedexports = exports;\n",
       "    else exports = {}\n",
       "    if (typeof module !== 'undefined') savedmodule = module;\n",
       "    else module = {}\n",
       "\n",
       "    var tag = document.createElement('script');\n",
       "    tag.src = uri;\n",
       "    tag.async = true;\n",
       "    tag.onload = () => {\n",
       "        exports = savedexports;\n",
       "        module = savedmodule;\n",
       "        resolve();\n",
       "    };\n",
       "  var firstScriptTag = document.getElementsByTagName('script')[0];\n",
       "  firstScriptTag.parentNode.insertBefore(tag, firstScriptTag);\n",
       "});\n",
       "};\n",
       "\n",
       "if(typeof $3Dmolpromise === 'undefined') {\n",
       "$3Dmolpromise = null;\n",
       "  $3Dmolpromise = loadScriptAsync('https://cdnjs.cloudflare.com/ajax/libs/3Dmol/2.0.1/3Dmol-min.js');\n",
       "}\n",
       "\n",
       "var viewer_16835420543263843 = null;\n",
       "var warn = document.getElementById(\"3dmolwarning_16835420543263843\");\n",
       "if(warn) {\n",
       "    warn.parentNode.removeChild(warn);\n",
       "}\n",
       "$3Dmolpromise.then(function() {\n",
       "var viewergrid_16835420543263843 = null;\n",
       "viewergrid_16835420543263843 = $3Dmol.createViewerGrid(document.getElementById(\"3dmolviewer_16835420543263843\"),{rows: 2, cols: 2, control_all: false},{backgroundColor:\"white\"});\n",
       "viewer_16835420543263843 = viewergrid_16835420543263843[0][0];\n",
       "viewergrid_16835420543263843[0][0].zoomTo();viewergrid_16835420543263843[0][1].zoomTo();viewergrid_16835420543263843[1][0].zoomTo();viewergrid_16835420543263843[1][1].zoomTo();\tviewergrid_16835420543263843[0][0].addModel(\"5\\n\\nC      0.000000    0.000000    0.000000\\nH     -0.692684   -0.652755   -0.569974\\nH     -0.561619    0.861984    0.415137\\nH      0.799143    0.369745   -0.674855\\nH      0.455160   -0.578974    0.829692\\n\",\"xyz\");\n",
       "\tviewergrid_16835420543263843[0][1].addModel(\"8\\n\\nC     -0.758390   -0.029009   -0.031307\\nC      0.758390    0.029009    0.031307\\nH     -1.088579   -1.076533   -0.194484\\nH     -1.125007    0.602496   -0.867818\\nH     -1.188995    0.343886    0.921839\\nH      1.088579    1.076534    0.194477\\nH      1.188994   -0.343891   -0.921837\\nH      1.125007   -0.602492    0.867822\\n\",\"xyz\");\n",
       "\tviewergrid_16835420543263843[1][0].addModel(\"11\\n\\nC      1.239638    0.320830   -0.062082\\nC      0.034457   -0.614056   -0.095156\\nC     -1.266040    0.149689    0.134996\\nH      2.168092   -0.263914   -0.232313\\nH      1.311829    0.822442    0.926513\\nH      1.153125    1.090189   -0.858793\\nH     -0.008500   -1.122232   -1.082603\\nH      0.149390   -1.388606    0.693515\\nH     -1.250625    0.647421    1.128057\\nH     -1.409333    0.915171   -0.657248\\nH     -2.122032   -0.556934    0.105114\\n\",\"xyz\");\n",
       "\tviewergrid_16835420543263843[1][1].addModel(\"14\\n\\nC     -1.876567    0.446399    0.143990\\nC     -0.644992   -0.365014   -0.247218\\nC      0.644992    0.365012    0.142468\\nC      1.876567   -0.446398   -0.248746\\nH     -1.871952    1.428963   -0.374329\\nH     -1.897391    0.610849    1.242457\\nH     -2.794134   -0.105645   -0.149789\\nH     -0.661544   -0.536769   -1.345694\\nH     -0.686866   -1.351432    0.264300\\nH      0.661546    0.536762    1.240945\\nH      0.686864    1.351433   -0.369046\\nH      1.871957   -1.428961    0.269571\\nH      2.794134    0.105648    0.045027\\nH      1.897385   -0.610847   -1.347213\\n\",\"xyz\");\n",
       "\tviewergrid_16835420543263843[0][0].setViewStyle({\"style\": \"outline\", \"width\": 0.05});\n",
       "\tviewergrid_16835420543263843[0][1].setViewStyle({\"style\": \"outline\", \"width\": 0.05});\n",
       "\tviewergrid_16835420543263843[1][0].setViewStyle({\"style\": \"outline\", \"width\": 0.05});\n",
       "\tviewergrid_16835420543263843[1][1].setViewStyle({\"style\": \"outline\", \"width\": 0.05});\n",
       "\tviewergrid_16835420543263843[0][0].setStyle({\"stick\": {}, \"sphere\": {\"scale\": 0.25}});\n",
       "\tviewergrid_16835420543263843[0][1].setStyle({\"stick\": {}, \"sphere\": {\"scale\": 0.25}});\n",
       "\tviewergrid_16835420543263843[1][0].setStyle({\"stick\": {}, \"sphere\": {\"scale\": 0.25}});\n",
       "\tviewergrid_16835420543263843[1][1].setStyle({\"stick\": {}, \"sphere\": {\"scale\": 0.25}});\n",
       "viewergrid_16835420543263843[1][1].render();\n",
       "viewergrid_16835420543263843[1][0].render();\n",
       "viewergrid_16835420543263843[0][1].render();\n",
       "viewergrid_16835420543263843[0][0].render();\n",
       "});\n",
       "</script>"
      ]
     },
     "metadata": {},
     "output_type": "display_data"
    }
   ],
   "source": [
    "methane_xyz = vlx.Molecule._smiles_to_xyz('C')\n",
    "ethane_xyz = vlx.Molecule._smiles_to_xyz('CC')\n",
    "propane_xyz = vlx.Molecule._smiles_to_xyz('CCC')\n",
    "butane_xyz = vlx.Molecule._smiles_to_xyz('CCCC')\n",
    "\n",
    "viewer = p3d.view(viewergrid=(2, 2), width=500, height=300, linked=False)\n",
    "viewer.addModel(methane_xyz, 'xyz', viewer=(0, 0))\n",
    "viewer.addModel(ethane_xyz, 'xyz', viewer=(0, 1))\n",
    "viewer.addModel(propane_xyz, 'xyz', viewer=(1, 0))\n",
    "viewer.addModel(butane_xyz, 'xyz', viewer=(1, 1))\n",
    "viewer.setViewStyle({\"style\": \"outline\", \"width\": 0.05})\n",
    "viewer.setStyle({\"stick\":{},\"sphere\": {\"scale\":0.25}})\n",
    "viewer.show()"
   ]
  },
  {
   "cell_type": "markdown",
   "id": "dfcdffbd",
   "metadata": {},
   "source": [
    "Bond types are specified with different symbols between two atoms, with `-`, `#`, and `#`, for single-, double-, and triple-bonds, respectively, and other bond types are possible (see, *e.g.*, [wikipedia](https://en.wikipedia.org/wiki/Simplified_molecular-input_line-entry_system)). Single bonds is assumed if no bond type is specified.\n",
    "\n",
    "For example, ethane, ethene, and ethyne are constructed as:"
   ]
  },
  {
   "cell_type": "code",
   "execution_count": 30,
   "id": "fc73aeeb",
   "metadata": {
    "tags": []
   },
   "outputs": [
    {
     "data": {
      "application/3dmoljs_load.v0": "<div id=\"3dmolviewer_16835420774241254\"  style=\"position: relative; width: 400px; height: 200px\">\n        <p id=\"3dmolwarning_16835420774241254\" style=\"background-color:#ffcccc;color:black\">You appear to be running in JupyterLab (or JavaScript failed to load for some other reason).  You need to install the 3dmol extension: <br>\n        <tt>jupyter labextension install jupyterlab_3dmol</tt></p>\n        </div>\n<script>\n\nvar loadScriptAsync = function(uri){\n  return new Promise((resolve, reject) => {\n    //this is to ignore the existence of requirejs amd\n    var savedexports, savedmodule;\n    if (typeof exports !== 'undefined') savedexports = exports;\n    else exports = {}\n    if (typeof module !== 'undefined') savedmodule = module;\n    else module = {}\n\n    var tag = document.createElement('script');\n    tag.src = uri;\n    tag.async = true;\n    tag.onload = () => {\n        exports = savedexports;\n        module = savedmodule;\n        resolve();\n    };\n  var firstScriptTag = document.getElementsByTagName('script')[0];\n  firstScriptTag.parentNode.insertBefore(tag, firstScriptTag);\n});\n};\n\nif(typeof $3Dmolpromise === 'undefined') {\n$3Dmolpromise = null;\n  $3Dmolpromise = loadScriptAsync('https://cdnjs.cloudflare.com/ajax/libs/3Dmol/2.0.1/3Dmol-min.js');\n}\n\nvar viewer_16835420774241254 = null;\nvar warn = document.getElementById(\"3dmolwarning_16835420774241254\");\nif(warn) {\n    warn.parentNode.removeChild(warn);\n}\n$3Dmolpromise.then(function() {\nvar viewergrid_16835420774241254 = null;\nviewergrid_16835420774241254 = $3Dmol.createViewerGrid(document.getElementById(\"3dmolviewer_16835420774241254\"),{rows: 1, cols: 3, control_all: false},{backgroundColor:\"white\"});\nviewer_16835420774241254 = viewergrid_16835420774241254[0][0];\nviewergrid_16835420774241254[0][0].zoomTo();viewergrid_16835420774241254[0][1].zoomTo();viewergrid_16835420774241254[0][2].zoomTo();\tviewergrid_16835420774241254[0][0].addModel(\"8\\n\\nC     -0.758339    0.043568   -0.000323\\nC      0.758339   -0.043568    0.000322\\nH     -1.085644    0.913378    0.607345\\nH     -1.188859   -0.884463    0.431384\\nH     -1.127850    0.166557   -1.040175\\nH      1.188859    0.884465   -0.431379\\nH      1.085644   -0.913375   -0.607349\\nH      1.127850   -0.166561    1.040175\\n\",\"xyz\");\n\tviewergrid_16835420774241254[0][1].addModel(\"6\\n\\nC     -0.500418    0.362877   -0.246551\\nC      0.500419   -0.362875    0.246551\\nH     -1.201964    0.851788    0.421597\\nH     -0.620875    0.470033   -1.319690\\nH      1.201964   -0.851787   -0.421597\\nH      0.620874   -0.470037    1.319690\\n\",\"xyz\");\n\tviewergrid_16835420774241254[0][2].addModel(\"4\\n\\nC      0.589956    0.077303   -0.050922\\nC     -0.589956   -0.077302   -0.242671\\nH      1.626003    0.213056    0.117449\\nH     -1.626003   -0.213057   -0.411039\\n\",\"xyz\");\n\tviewergrid_16835420774241254[0][0].setViewStyle({\"style\": \"outline\", \"width\": 0.05});\n\tviewergrid_16835420774241254[0][1].setViewStyle({\"style\": \"outline\", \"width\": 0.05});\n\tviewergrid_16835420774241254[0][2].setViewStyle({\"style\": \"outline\", \"width\": 0.05});\n\tviewergrid_16835420774241254[0][0].setStyle({\"stick\": {}, \"sphere\": {\"scale\": 0.25}});\n\tviewergrid_16835420774241254[0][1].setStyle({\"stick\": {}, \"sphere\": {\"scale\": 0.25}});\n\tviewergrid_16835420774241254[0][2].setStyle({\"stick\": {}, \"sphere\": {\"scale\": 0.25}});\nviewergrid_16835420774241254[0][2].render();\nviewergrid_16835420774241254[0][1].render();\nviewergrid_16835420774241254[0][0].render();\n});\n</script>",
      "text/html": [
       "<div id=\"3dmolviewer_16835420774241254\"  style=\"position: relative; width: 400px; height: 200px\">\n",
       "        <p id=\"3dmolwarning_16835420774241254\" style=\"background-color:#ffcccc;color:black\">You appear to be running in JupyterLab (or JavaScript failed to load for some other reason).  You need to install the 3dmol extension: <br>\n",
       "        <tt>jupyter labextension install jupyterlab_3dmol</tt></p>\n",
       "        </div>\n",
       "<script>\n",
       "\n",
       "var loadScriptAsync = function(uri){\n",
       "  return new Promise((resolve, reject) => {\n",
       "    //this is to ignore the existence of requirejs amd\n",
       "    var savedexports, savedmodule;\n",
       "    if (typeof exports !== 'undefined') savedexports = exports;\n",
       "    else exports = {}\n",
       "    if (typeof module !== 'undefined') savedmodule = module;\n",
       "    else module = {}\n",
       "\n",
       "    var tag = document.createElement('script');\n",
       "    tag.src = uri;\n",
       "    tag.async = true;\n",
       "    tag.onload = () => {\n",
       "        exports = savedexports;\n",
       "        module = savedmodule;\n",
       "        resolve();\n",
       "    };\n",
       "  var firstScriptTag = document.getElementsByTagName('script')[0];\n",
       "  firstScriptTag.parentNode.insertBefore(tag, firstScriptTag);\n",
       "});\n",
       "};\n",
       "\n",
       "if(typeof $3Dmolpromise === 'undefined') {\n",
       "$3Dmolpromise = null;\n",
       "  $3Dmolpromise = loadScriptAsync('https://cdnjs.cloudflare.com/ajax/libs/3Dmol/2.0.1/3Dmol-min.js');\n",
       "}\n",
       "\n",
       "var viewer_16835420774241254 = null;\n",
       "var warn = document.getElementById(\"3dmolwarning_16835420774241254\");\n",
       "if(warn) {\n",
       "    warn.parentNode.removeChild(warn);\n",
       "}\n",
       "$3Dmolpromise.then(function() {\n",
       "var viewergrid_16835420774241254 = null;\n",
       "viewergrid_16835420774241254 = $3Dmol.createViewerGrid(document.getElementById(\"3dmolviewer_16835420774241254\"),{rows: 1, cols: 3, control_all: false},{backgroundColor:\"white\"});\n",
       "viewer_16835420774241254 = viewergrid_16835420774241254[0][0];\n",
       "viewergrid_16835420774241254[0][0].zoomTo();viewergrid_16835420774241254[0][1].zoomTo();viewergrid_16835420774241254[0][2].zoomTo();\tviewergrid_16835420774241254[0][0].addModel(\"8\\n\\nC     -0.758339    0.043568   -0.000323\\nC      0.758339   -0.043568    0.000322\\nH     -1.085644    0.913378    0.607345\\nH     -1.188859   -0.884463    0.431384\\nH     -1.127850    0.166557   -1.040175\\nH      1.188859    0.884465   -0.431379\\nH      1.085644   -0.913375   -0.607349\\nH      1.127850   -0.166561    1.040175\\n\",\"xyz\");\n",
       "\tviewergrid_16835420774241254[0][1].addModel(\"6\\n\\nC     -0.500418    0.362877   -0.246551\\nC      0.500419   -0.362875    0.246551\\nH     -1.201964    0.851788    0.421597\\nH     -0.620875    0.470033   -1.319690\\nH      1.201964   -0.851787   -0.421597\\nH      0.620874   -0.470037    1.319690\\n\",\"xyz\");\n",
       "\tviewergrid_16835420774241254[0][2].addModel(\"4\\n\\nC      0.589956    0.077303   -0.050922\\nC     -0.589956   -0.077302   -0.242671\\nH      1.626003    0.213056    0.117449\\nH     -1.626003   -0.213057   -0.411039\\n\",\"xyz\");\n",
       "\tviewergrid_16835420774241254[0][0].setViewStyle({\"style\": \"outline\", \"width\": 0.05});\n",
       "\tviewergrid_16835420774241254[0][1].setViewStyle({\"style\": \"outline\", \"width\": 0.05});\n",
       "\tviewergrid_16835420774241254[0][2].setViewStyle({\"style\": \"outline\", \"width\": 0.05});\n",
       "\tviewergrid_16835420774241254[0][0].setStyle({\"stick\": {}, \"sphere\": {\"scale\": 0.25}});\n",
       "\tviewergrid_16835420774241254[0][1].setStyle({\"stick\": {}, \"sphere\": {\"scale\": 0.25}});\n",
       "\tviewergrid_16835420774241254[0][2].setStyle({\"stick\": {}, \"sphere\": {\"scale\": 0.25}});\n",
       "viewergrid_16835420774241254[0][2].render();\n",
       "viewergrid_16835420774241254[0][1].render();\n",
       "viewergrid_16835420774241254[0][0].render();\n",
       "});\n",
       "</script>"
      ]
     },
     "metadata": {},
     "output_type": "display_data"
    }
   ],
   "source": [
    "ethane_xyz = vlx.Molecule._smiles_to_xyz('C-C') # or 'CC'\n",
    "ethene_xyz = vlx.Molecule._smiles_to_xyz('C=C')\n",
    "ethyne_xyz = vlx.Molecule._smiles_to_xyz('C#C')\n",
    "\n",
    "viewer = p3d.view(viewergrid=(1, 3), width=400, height=200, linked=False)\n",
    "viewer.addModel(ethane_xyz, 'xyz', viewer=(0, 0))\n",
    "viewer.addModel(ethene_xyz, 'xyz', viewer=(0, 1))\n",
    "viewer.addModel(ethyne_xyz, 'xyz', viewer=(0, 2))\n",
    "viewer.setViewStyle({\"style\": \"outline\", \"width\": 0.05})\n",
    "viewer.setStyle({\"stick\":{},\"sphere\": {\"scale\":0.25}})\n",
    "viewer.show()"
   ]
  },
  {
   "cell_type": "markdown",
   "id": "7f573fda",
   "metadata": {},
   "source": [
    "## Branching and substitutions\n",
    "\n",
    "Branches are given within paranthesis, as connected to the atom just before the paranthesis. These branches can be nested, for more complex molecules.\n",
    "\n",
    "```{note}\n",
    "Several valid SMILES strings can typically be written for the same molecule.\n",
    "```\n",
    "\n",
    "\n",
    "Hexane and 3-ethylheptane are then written as:"
   ]
  },
  {
   "cell_type": "code",
   "execution_count": 31,
   "id": "b8510007",
   "metadata": {
    "tags": []
   },
   "outputs": [
    {
     "data": {
      "application/3dmoljs_load.v0": "<div id=\"3dmolviewer_16835420988345392\"  style=\"position: relative; width: 500px; height: 200px\">\n        <p id=\"3dmolwarning_16835420988345392\" style=\"background-color:#ffcccc;color:black\">You appear to be running in JupyterLab (or JavaScript failed to load for some other reason).  You need to install the 3dmol extension: <br>\n        <tt>jupyter labextension install jupyterlab_3dmol</tt></p>\n        </div>\n<script>\n\nvar loadScriptAsync = function(uri){\n  return new Promise((resolve, reject) => {\n    //this is to ignore the existence of requirejs amd\n    var savedexports, savedmodule;\n    if (typeof exports !== 'undefined') savedexports = exports;\n    else exports = {}\n    if (typeof module !== 'undefined') savedmodule = module;\n    else module = {}\n\n    var tag = document.createElement('script');\n    tag.src = uri;\n    tag.async = true;\n    tag.onload = () => {\n        exports = savedexports;\n        module = savedmodule;\n        resolve();\n    };\n  var firstScriptTag = document.getElementsByTagName('script')[0];\n  firstScriptTag.parentNode.insertBefore(tag, firstScriptTag);\n});\n};\n\nif(typeof $3Dmolpromise === 'undefined') {\n$3Dmolpromise = null;\n  $3Dmolpromise = loadScriptAsync('https://cdnjs.cloudflare.com/ajax/libs/3Dmol/2.0.1/3Dmol-min.js');\n}\n\nvar viewer_16835420988345392 = null;\nvar warn = document.getElementById(\"3dmolwarning_16835420988345392\");\nif(warn) {\n    warn.parentNode.removeChild(warn);\n}\n$3Dmolpromise.then(function() {\nvar viewergrid_16835420988345392 = null;\nviewergrid_16835420988345392 = $3Dmol.createViewerGrid(document.getElementById(\"3dmolviewer_16835420988345392\"),{rows: 1, cols: 2, control_all: false},{backgroundColor:\"white\"});\nviewer_16835420988345392 = viewergrid_16835420988345392[0][0];\nviewergrid_16835420988345392[0][0].zoomTo();viewergrid_16835420988345392[0][1].zoomTo();\tviewergrid_16835420988345392[0][0].addModel(\"26\\n\\nC      3.811953    0.193369   -1.244366\\nC      2.934762   -0.666720   -0.339130\\nC      1.590282    0.015044   -0.059597\\nC      0.708027   -0.860465    0.842852\\nC     -0.594433   -0.158655    1.259190\\nC     -1.588273   -0.016274    0.096730\\nC     -2.921550    0.563246    0.583653\\nC     -3.909932    0.717457   -0.568732\\nH      4.777058   -0.324293   -1.427576\\nH      3.309447    0.363526   -2.220389\\nH      4.019938    1.172643   -0.762862\\nH      2.761798   -1.647972   -0.832737\\nH      3.472307   -0.843861    0.617948\\nH      1.073274    0.196888   -1.025843\\nH      1.771932    0.993747    0.436776\\nH      0.472416   -1.818051    0.328525\\nH      1.274371   -1.106320    1.767983\\nH     -0.363595    0.842468    1.685196\\nH     -1.067359   -0.764974    2.062793\\nH     -1.165285    0.659520   -0.676820\\nH     -1.767857   -1.013761   -0.361541\\nH     -3.365977   -0.109039    1.349714\\nH     -2.750263    1.559728    1.046368\\nH     -4.864268    1.136903   -0.186276\\nH     -3.501721    1.407485   -1.337699\\nH     -4.117051   -0.269741   -1.034160\\n\",\"xyz\");\n\tviewergrid_16835420988345392[0][1].addModel(\"26\\n\\nC      2.786461   -0.194712    0.211920\\nC      1.975511   -0.561069   -1.030618\\nC      0.530937   -0.990351   -0.707153\\nC     -0.327299    0.044725    0.076545\\nC     -0.431618    1.383997   -0.701928\\nC     -1.156187    2.489551    0.070552\\nC     -1.739752   -0.531633    0.367306\\nC     -1.722005   -1.779690    1.253811\\nH      2.720299   -1.002446    0.971526\\nH      3.852048   -0.059339   -0.069339\\nH      2.423284    0.758153    0.649765\\nH      1.990411    0.278080   -1.756152\\nH      2.481138   -1.415121   -1.531628\\nH      0.603783   -1.931012   -0.122919\\nH      0.019741   -1.237942   -1.663258\\nH      0.162753    0.245856    1.054051\\nH     -0.942045    1.221404   -1.676272\\nH      0.584523    1.773448   -0.912734\\nH     -0.978147    3.465815   -0.428253\\nH     -0.776669    2.553228    1.112482\\nH     -2.251762    2.315384    0.079072\\nH     -2.261291   -0.766766   -0.586200\\nH     -2.347727    0.223022    0.906652\\nH     -1.068382   -1.623179    2.138104\\nH     -2.751675   -1.993160    1.611210\\nH     -1.376332   -2.666243    0.683457\\n\",\"xyz\");\n\tviewergrid_16835420988345392[0][0].setViewStyle({\"style\": \"outline\", \"width\": 0.05});\n\tviewergrid_16835420988345392[0][1].setViewStyle({\"style\": \"outline\", \"width\": 0.05});\n\tviewergrid_16835420988345392[0][0].setStyle({\"stick\": {}, \"sphere\": {\"scale\": 0.25}});\n\tviewergrid_16835420988345392[0][1].setStyle({\"stick\": {}, \"sphere\": {\"scale\": 0.25}});\nviewergrid_16835420988345392[0][1].render();\nviewergrid_16835420988345392[0][0].render();\n});\n</script>",
      "text/html": [
       "<div id=\"3dmolviewer_16835420988345392\"  style=\"position: relative; width: 500px; height: 200px\">\n",
       "        <p id=\"3dmolwarning_16835420988345392\" style=\"background-color:#ffcccc;color:black\">You appear to be running in JupyterLab (or JavaScript failed to load for some other reason).  You need to install the 3dmol extension: <br>\n",
       "        <tt>jupyter labextension install jupyterlab_3dmol</tt></p>\n",
       "        </div>\n",
       "<script>\n",
       "\n",
       "var loadScriptAsync = function(uri){\n",
       "  return new Promise((resolve, reject) => {\n",
       "    //this is to ignore the existence of requirejs amd\n",
       "    var savedexports, savedmodule;\n",
       "    if (typeof exports !== 'undefined') savedexports = exports;\n",
       "    else exports = {}\n",
       "    if (typeof module !== 'undefined') savedmodule = module;\n",
       "    else module = {}\n",
       "\n",
       "    var tag = document.createElement('script');\n",
       "    tag.src = uri;\n",
       "    tag.async = true;\n",
       "    tag.onload = () => {\n",
       "        exports = savedexports;\n",
       "        module = savedmodule;\n",
       "        resolve();\n",
       "    };\n",
       "  var firstScriptTag = document.getElementsByTagName('script')[0];\n",
       "  firstScriptTag.parentNode.insertBefore(tag, firstScriptTag);\n",
       "});\n",
       "};\n",
       "\n",
       "if(typeof $3Dmolpromise === 'undefined') {\n",
       "$3Dmolpromise = null;\n",
       "  $3Dmolpromise = loadScriptAsync('https://cdnjs.cloudflare.com/ajax/libs/3Dmol/2.0.1/3Dmol-min.js');\n",
       "}\n",
       "\n",
       "var viewer_16835420988345392 = null;\n",
       "var warn = document.getElementById(\"3dmolwarning_16835420988345392\");\n",
       "if(warn) {\n",
       "    warn.parentNode.removeChild(warn);\n",
       "}\n",
       "$3Dmolpromise.then(function() {\n",
       "var viewergrid_16835420988345392 = null;\n",
       "viewergrid_16835420988345392 = $3Dmol.createViewerGrid(document.getElementById(\"3dmolviewer_16835420988345392\"),{rows: 1, cols: 2, control_all: false},{backgroundColor:\"white\"});\n",
       "viewer_16835420988345392 = viewergrid_16835420988345392[0][0];\n",
       "viewergrid_16835420988345392[0][0].zoomTo();viewergrid_16835420988345392[0][1].zoomTo();\tviewergrid_16835420988345392[0][0].addModel(\"26\\n\\nC      3.811953    0.193369   -1.244366\\nC      2.934762   -0.666720   -0.339130\\nC      1.590282    0.015044   -0.059597\\nC      0.708027   -0.860465    0.842852\\nC     -0.594433   -0.158655    1.259190\\nC     -1.588273   -0.016274    0.096730\\nC     -2.921550    0.563246    0.583653\\nC     -3.909932    0.717457   -0.568732\\nH      4.777058   -0.324293   -1.427576\\nH      3.309447    0.363526   -2.220389\\nH      4.019938    1.172643   -0.762862\\nH      2.761798   -1.647972   -0.832737\\nH      3.472307   -0.843861    0.617948\\nH      1.073274    0.196888   -1.025843\\nH      1.771932    0.993747    0.436776\\nH      0.472416   -1.818051    0.328525\\nH      1.274371   -1.106320    1.767983\\nH     -0.363595    0.842468    1.685196\\nH     -1.067359   -0.764974    2.062793\\nH     -1.165285    0.659520   -0.676820\\nH     -1.767857   -1.013761   -0.361541\\nH     -3.365977   -0.109039    1.349714\\nH     -2.750263    1.559728    1.046368\\nH     -4.864268    1.136903   -0.186276\\nH     -3.501721    1.407485   -1.337699\\nH     -4.117051   -0.269741   -1.034160\\n\",\"xyz\");\n",
       "\tviewergrid_16835420988345392[0][1].addModel(\"26\\n\\nC      2.786461   -0.194712    0.211920\\nC      1.975511   -0.561069   -1.030618\\nC      0.530937   -0.990351   -0.707153\\nC     -0.327299    0.044725    0.076545\\nC     -0.431618    1.383997   -0.701928\\nC     -1.156187    2.489551    0.070552\\nC     -1.739752   -0.531633    0.367306\\nC     -1.722005   -1.779690    1.253811\\nH      2.720299   -1.002446    0.971526\\nH      3.852048   -0.059339   -0.069339\\nH      2.423284    0.758153    0.649765\\nH      1.990411    0.278080   -1.756152\\nH      2.481138   -1.415121   -1.531628\\nH      0.603783   -1.931012   -0.122919\\nH      0.019741   -1.237942   -1.663258\\nH      0.162753    0.245856    1.054051\\nH     -0.942045    1.221404   -1.676272\\nH      0.584523    1.773448   -0.912734\\nH     -0.978147    3.465815   -0.428253\\nH     -0.776669    2.553228    1.112482\\nH     -2.251762    2.315384    0.079072\\nH     -2.261291   -0.766766   -0.586200\\nH     -2.347727    0.223022    0.906652\\nH     -1.068382   -1.623179    2.138104\\nH     -2.751675   -1.993160    1.611210\\nH     -1.376332   -2.666243    0.683457\\n\",\"xyz\");\n",
       "\tviewergrid_16835420988345392[0][0].setViewStyle({\"style\": \"outline\", \"width\": 0.05});\n",
       "\tviewergrid_16835420988345392[0][1].setViewStyle({\"style\": \"outline\", \"width\": 0.05});\n",
       "\tviewergrid_16835420988345392[0][0].setStyle({\"stick\": {}, \"sphere\": {\"scale\": 0.25}});\n",
       "\tviewergrid_16835420988345392[0][1].setStyle({\"stick\": {}, \"sphere\": {\"scale\": 0.25}});\n",
       "viewergrid_16835420988345392[0][1].render();\n",
       "viewergrid_16835420988345392[0][0].render();\n",
       "});\n",
       "</script>"
      ]
     },
     "metadata": {},
     "output_type": "display_data"
    }
   ],
   "source": [
    "hexane_xyz = vlx.Molecule._smiles_to_xyz('CCCCCCCC')\n",
    "ethylheptane_xyz = vlx.Molecule._smiles_to_xyz('CCCC(CC)CC')\n",
    "\n",
    "viewer = p3d.view(viewergrid=(1, 2), width=500, height=200, linked=False)\n",
    "viewer.addModel(hexane_xyz, 'xyz', viewer=(0, 0))\n",
    "viewer.addModel(ethylheptane_xyz, 'xyz', viewer=(0, 1))\n",
    "viewer.setViewStyle({\"style\": \"outline\", \"width\": 0.05})\n",
    "viewer.setStyle({\"stick\":{},\"sphere\": {\"scale\":0.25}})\n",
    "viewer.show()"
   ]
  },
  {
   "cell_type": "markdown",
   "id": "7176cee2",
   "metadata": {},
   "source": [
    "Substitutions are done by replacing the relevant atom, or adding it to replace an implicit hydrogen. For example, methanol, 1,1-difluoroethene, and 1,2-difluoroethene can be given as:"
   ]
  },
  {
   "cell_type": "code",
   "execution_count": 32,
   "id": "1513d76d",
   "metadata": {
    "tags": []
   },
   "outputs": [
    {
     "data": {
      "application/3dmoljs_load.v0": "<div id=\"3dmolviewer_16835421205905259\"  style=\"position: relative; width: 400px; height: 200px\">\n        <p id=\"3dmolwarning_16835421205905259\" style=\"background-color:#ffcccc;color:black\">You appear to be running in JupyterLab (or JavaScript failed to load for some other reason).  You need to install the 3dmol extension: <br>\n        <tt>jupyter labextension install jupyterlab_3dmol</tt></p>\n        </div>\n<script>\n\nvar loadScriptAsync = function(uri){\n  return new Promise((resolve, reject) => {\n    //this is to ignore the existence of requirejs amd\n    var savedexports, savedmodule;\n    if (typeof exports !== 'undefined') savedexports = exports;\n    else exports = {}\n    if (typeof module !== 'undefined') savedmodule = module;\n    else module = {}\n\n    var tag = document.createElement('script');\n    tag.src = uri;\n    tag.async = true;\n    tag.onload = () => {\n        exports = savedexports;\n        module = savedmodule;\n        resolve();\n    };\n  var firstScriptTag = document.getElementsByTagName('script')[0];\n  firstScriptTag.parentNode.insertBefore(tag, firstScriptTag);\n});\n};\n\nif(typeof $3Dmolpromise === 'undefined') {\n$3Dmolpromise = null;\n  $3Dmolpromise = loadScriptAsync('https://cdnjs.cloudflare.com/ajax/libs/3Dmol/2.0.1/3Dmol-min.js');\n}\n\nvar viewer_16835421205905259 = null;\nvar warn = document.getElementById(\"3dmolwarning_16835421205905259\");\nif(warn) {\n    warn.parentNode.removeChild(warn);\n}\n$3Dmolpromise.then(function() {\nvar viewergrid_16835421205905259 = null;\nviewergrid_16835421205905259 = $3Dmol.createViewerGrid(document.getElementById(\"3dmolviewer_16835421205905259\"),{rows: 1, cols: 3, control_all: false},{backgroundColor:\"white\"});\nviewer_16835421205905259 = viewergrid_16835421205905259[0][0];\nviewergrid_16835421205905259[0][0].zoomTo();viewergrid_16835421205905259[0][1].zoomTo();viewergrid_16835421205905259[0][2].zoomTo();\tviewergrid_16835421205905259[0][0].addModel(\"6\\n\\nC     -0.357489    0.025778    0.002332\\nO      0.940741    0.512725   -0.179782\\nH     -1.083940    0.834502   -0.219132\\nH     -0.548246   -0.825128   -0.687163\\nH     -0.499315   -0.304261    1.054373\\nH      1.548248   -0.243616    0.029372\\n\",\"xyz\");\n\tviewergrid_16835421205905259[0][1].addModel(\"6\\n\\nC      0.698063   -0.050105   -0.122980\\nC     -0.610113    0.043792    0.107486\\nF     -1.208194    1.262351    0.158883\\nF     -1.352716   -1.078535    0.292282\\nH      1.294107    0.844651   -0.271027\\nH      1.178854   -1.022154   -0.164643\\n\",\"xyz\");\n\tviewergrid_16835421205905259[0][2].addModel(\"6\\n\\nF     -1.387327    1.048890   -0.073869\\nC     -0.662912   -0.099148   -0.017251\\nC      0.667824   -0.055726    0.022055\\nF      1.318000    1.137164    0.006038\\nH     -1.176507   -1.055030   -0.004189\\nH      1.240922   -0.976150    0.067215\\n\",\"xyz\");\n\tviewergrid_16835421205905259[0][0].setViewStyle({\"style\": \"outline\", \"width\": 0.05});\n\tviewergrid_16835421205905259[0][1].setViewStyle({\"style\": \"outline\", \"width\": 0.05});\n\tviewergrid_16835421205905259[0][2].setViewStyle({\"style\": \"outline\", \"width\": 0.05});\n\tviewergrid_16835421205905259[0][0].setStyle({\"stick\": {}, \"sphere\": {\"scale\": 0.25}});\n\tviewergrid_16835421205905259[0][1].setStyle({\"stick\": {}, \"sphere\": {\"scale\": 0.25}});\n\tviewergrid_16835421205905259[0][2].setStyle({\"stick\": {}, \"sphere\": {\"scale\": 0.25}});\nviewergrid_16835421205905259[0][2].render();\nviewergrid_16835421205905259[0][1].render();\nviewergrid_16835421205905259[0][0].render();\n});\n</script>",
      "text/html": [
       "<div id=\"3dmolviewer_16835421205905259\"  style=\"position: relative; width: 400px; height: 200px\">\n",
       "        <p id=\"3dmolwarning_16835421205905259\" style=\"background-color:#ffcccc;color:black\">You appear to be running in JupyterLab (or JavaScript failed to load for some other reason).  You need to install the 3dmol extension: <br>\n",
       "        <tt>jupyter labextension install jupyterlab_3dmol</tt></p>\n",
       "        </div>\n",
       "<script>\n",
       "\n",
       "var loadScriptAsync = function(uri){\n",
       "  return new Promise((resolve, reject) => {\n",
       "    //this is to ignore the existence of requirejs amd\n",
       "    var savedexports, savedmodule;\n",
       "    if (typeof exports !== 'undefined') savedexports = exports;\n",
       "    else exports = {}\n",
       "    if (typeof module !== 'undefined') savedmodule = module;\n",
       "    else module = {}\n",
       "\n",
       "    var tag = document.createElement('script');\n",
       "    tag.src = uri;\n",
       "    tag.async = true;\n",
       "    tag.onload = () => {\n",
       "        exports = savedexports;\n",
       "        module = savedmodule;\n",
       "        resolve();\n",
       "    };\n",
       "  var firstScriptTag = document.getElementsByTagName('script')[0];\n",
       "  firstScriptTag.parentNode.insertBefore(tag, firstScriptTag);\n",
       "});\n",
       "};\n",
       "\n",
       "if(typeof $3Dmolpromise === 'undefined') {\n",
       "$3Dmolpromise = null;\n",
       "  $3Dmolpromise = loadScriptAsync('https://cdnjs.cloudflare.com/ajax/libs/3Dmol/2.0.1/3Dmol-min.js');\n",
       "}\n",
       "\n",
       "var viewer_16835421205905259 = null;\n",
       "var warn = document.getElementById(\"3dmolwarning_16835421205905259\");\n",
       "if(warn) {\n",
       "    warn.parentNode.removeChild(warn);\n",
       "}\n",
       "$3Dmolpromise.then(function() {\n",
       "var viewergrid_16835421205905259 = null;\n",
       "viewergrid_16835421205905259 = $3Dmol.createViewerGrid(document.getElementById(\"3dmolviewer_16835421205905259\"),{rows: 1, cols: 3, control_all: false},{backgroundColor:\"white\"});\n",
       "viewer_16835421205905259 = viewergrid_16835421205905259[0][0];\n",
       "viewergrid_16835421205905259[0][0].zoomTo();viewergrid_16835421205905259[0][1].zoomTo();viewergrid_16835421205905259[0][2].zoomTo();\tviewergrid_16835421205905259[0][0].addModel(\"6\\n\\nC     -0.357489    0.025778    0.002332\\nO      0.940741    0.512725   -0.179782\\nH     -1.083940    0.834502   -0.219132\\nH     -0.548246   -0.825128   -0.687163\\nH     -0.499315   -0.304261    1.054373\\nH      1.548248   -0.243616    0.029372\\n\",\"xyz\");\n",
       "\tviewergrid_16835421205905259[0][1].addModel(\"6\\n\\nC      0.698063   -0.050105   -0.122980\\nC     -0.610113    0.043792    0.107486\\nF     -1.208194    1.262351    0.158883\\nF     -1.352716   -1.078535    0.292282\\nH      1.294107    0.844651   -0.271027\\nH      1.178854   -1.022154   -0.164643\\n\",\"xyz\");\n",
       "\tviewergrid_16835421205905259[0][2].addModel(\"6\\n\\nF     -1.387327    1.048890   -0.073869\\nC     -0.662912   -0.099148   -0.017251\\nC      0.667824   -0.055726    0.022055\\nF      1.318000    1.137164    0.006038\\nH     -1.176507   -1.055030   -0.004189\\nH      1.240922   -0.976150    0.067215\\n\",\"xyz\");\n",
       "\tviewergrid_16835421205905259[0][0].setViewStyle({\"style\": \"outline\", \"width\": 0.05});\n",
       "\tviewergrid_16835421205905259[0][1].setViewStyle({\"style\": \"outline\", \"width\": 0.05});\n",
       "\tviewergrid_16835421205905259[0][2].setViewStyle({\"style\": \"outline\", \"width\": 0.05});\n",
       "\tviewergrid_16835421205905259[0][0].setStyle({\"stick\": {}, \"sphere\": {\"scale\": 0.25}});\n",
       "\tviewergrid_16835421205905259[0][1].setStyle({\"stick\": {}, \"sphere\": {\"scale\": 0.25}});\n",
       "\tviewergrid_16835421205905259[0][2].setStyle({\"stick\": {}, \"sphere\": {\"scale\": 0.25}});\n",
       "viewergrid_16835421205905259[0][2].render();\n",
       "viewergrid_16835421205905259[0][1].render();\n",
       "viewergrid_16835421205905259[0][0].render();\n",
       "});\n",
       "</script>"
      ]
     },
     "metadata": {},
     "output_type": "display_data"
    }
   ],
   "source": [
    "methanol_xyz = vlx.Molecule._smiles_to_xyz('CO')\n",
    "difluoro11_xyz = vlx.Molecule._smiles_to_xyz('C=C(F)F')\n",
    "difluoro12_xyz = vlx.Molecule._smiles_to_xyz('FC=CF')\n",
    "\n",
    "viewer = p3d.view(viewergrid=(1, 3), width=400, height=200, linked=False)\n",
    "viewer.addModel(methanol_xyz, 'xyz', viewer=(0, 0))\n",
    "viewer.addModel(difluoro11_xyz, 'xyz', viewer=(0, 1))\n",
    "viewer.addModel(difluoro12_xyz, 'xyz', viewer=(0, 2))\n",
    "viewer.setViewStyle({\"style\": \"outline\", \"width\": 0.05})\n",
    "viewer.setStyle({\"stick\":{},\"sphere\": {\"scale\":0.25}})\n",
    "viewer.show()"
   ]
  },
  {
   "cell_type": "markdown",
   "id": "d63f5cd9",
   "metadata": {},
   "source": [
    "### UFF optimization\n",
    "\n",
    "Following the construction of a conformer from a SMILES string, it is generally advised to perform a short UFF (universal force field) optimization to obtain a structure close to a local minima.\n",
    "\n",
    "As an example, for ethanol the initial conformer will have the OH-group with any rotation to CH$_3$, and following a UFF optimization it takes on the staggered conformation:"
   ]
  },
  {
   "cell_type": "code",
   "execution_count": 34,
   "id": "d7828af2",
   "metadata": {
    "tags": []
   },
   "outputs": [
    {
     "data": {
      "application/3dmoljs_load.v0": "<div id=\"3dmolviewer_16835421444390204\"  style=\"position: relative; width: 400px; height: 200px\">\n        <p id=\"3dmolwarning_16835421444390204\" style=\"background-color:#ffcccc;color:black\">You appear to be running in JupyterLab (or JavaScript failed to load for some other reason).  You need to install the 3dmol extension: <br>\n        <tt>jupyter labextension install jupyterlab_3dmol</tt></p>\n        </div>\n<script>\n\nvar loadScriptAsync = function(uri){\n  return new Promise((resolve, reject) => {\n    //this is to ignore the existence of requirejs amd\n    var savedexports, savedmodule;\n    if (typeof exports !== 'undefined') savedexports = exports;\n    else exports = {}\n    if (typeof module !== 'undefined') savedmodule = module;\n    else module = {}\n\n    var tag = document.createElement('script');\n    tag.src = uri;\n    tag.async = true;\n    tag.onload = () => {\n        exports = savedexports;\n        module = savedmodule;\n        resolve();\n    };\n  var firstScriptTag = document.getElementsByTagName('script')[0];\n  firstScriptTag.parentNode.insertBefore(tag, firstScriptTag);\n});\n};\n\nif(typeof $3Dmolpromise === 'undefined') {\n$3Dmolpromise = null;\n  $3Dmolpromise = loadScriptAsync('https://cdnjs.cloudflare.com/ajax/libs/3Dmol/2.0.1/3Dmol-min.js');\n}\n\nvar viewer_16835421444390204 = null;\nvar warn = document.getElementById(\"3dmolwarning_16835421444390204\");\nif(warn) {\n    warn.parentNode.removeChild(warn);\n}\n$3Dmolpromise.then(function() {\nvar viewergrid_16835421444390204 = null;\nviewergrid_16835421444390204 = $3Dmol.createViewerGrid(document.getElementById(\"3dmolviewer_16835421444390204\"),{rows: 1, cols: 2, control_all: false},{backgroundColor:\"white\"});\nviewer_16835421444390204 = viewergrid_16835421444390204[0][0];\nviewergrid_16835421444390204[0][0].zoomTo();viewergrid_16835421444390204[0][1].zoomTo();\tviewergrid_16835421444390204[0][0].addModel(\"6\\n\\nC     -0.355892    0.025840    0.009550\\nO      0.955828    0.339630    0.270515\\nH     -0.513480   -0.636412   -0.846050\\nH     -0.793801   -0.477717    0.896390\\nH     -0.909062    0.978202   -0.158991\\nH      1.616407   -0.229542   -0.171415\\n\",\"xyz\");\n\tviewergrid_16835421444390204[0][1].addModel(\"6\\n\\nC     -0.356251   -0.038776    0.007098\\nO      0.938172   -0.353054   -0.418792\\nH     -0.444037   -0.182573    1.105937\\nH     -0.601328    1.013469   -0.254720\\nH     -1.079284   -0.710452   -0.499738\\nH      1.542728    0.271387    0.060215\\n\",\"xyz\");\n\tviewergrid_16835421444390204[0][0].setViewStyle({\"style\": \"outline\", \"width\": 0.05});\n\tviewergrid_16835421444390204[0][1].setViewStyle({\"style\": \"outline\", \"width\": 0.05});\n\tviewergrid_16835421444390204[0][0].setStyle({\"stick\": {}, \"sphere\": {\"scale\": 0.25}});\n\tviewergrid_16835421444390204[0][1].setStyle({\"stick\": {}, \"sphere\": {\"scale\": 0.25}});\nviewergrid_16835421444390204[0][1].render();\nviewergrid_16835421444390204[0][0].render();\n});\n</script>",
      "text/html": [
       "<div id=\"3dmolviewer_16835421444390204\"  style=\"position: relative; width: 400px; height: 200px\">\n",
       "        <p id=\"3dmolwarning_16835421444390204\" style=\"background-color:#ffcccc;color:black\">You appear to be running in JupyterLab (or JavaScript failed to load for some other reason).  You need to install the 3dmol extension: <br>\n",
       "        <tt>jupyter labextension install jupyterlab_3dmol</tt></p>\n",
       "        </div>\n",
       "<script>\n",
       "\n",
       "var loadScriptAsync = function(uri){\n",
       "  return new Promise((resolve, reject) => {\n",
       "    //this is to ignore the existence of requirejs amd\n",
       "    var savedexports, savedmodule;\n",
       "    if (typeof exports !== 'undefined') savedexports = exports;\n",
       "    else exports = {}\n",
       "    if (typeof module !== 'undefined') savedmodule = module;\n",
       "    else module = {}\n",
       "\n",
       "    var tag = document.createElement('script');\n",
       "    tag.src = uri;\n",
       "    tag.async = true;\n",
       "    tag.onload = () => {\n",
       "        exports = savedexports;\n",
       "        module = savedmodule;\n",
       "        resolve();\n",
       "    };\n",
       "  var firstScriptTag = document.getElementsByTagName('script')[0];\n",
       "  firstScriptTag.parentNode.insertBefore(tag, firstScriptTag);\n",
       "});\n",
       "};\n",
       "\n",
       "if(typeof $3Dmolpromise === 'undefined') {\n",
       "$3Dmolpromise = null;\n",
       "  $3Dmolpromise = loadScriptAsync('https://cdnjs.cloudflare.com/ajax/libs/3Dmol/2.0.1/3Dmol-min.js');\n",
       "}\n",
       "\n",
       "var viewer_16835421444390204 = null;\n",
       "var warn = document.getElementById(\"3dmolwarning_16835421444390204\");\n",
       "if(warn) {\n",
       "    warn.parentNode.removeChild(warn);\n",
       "}\n",
       "$3Dmolpromise.then(function() {\n",
       "var viewergrid_16835421444390204 = null;\n",
       "viewergrid_16835421444390204 = $3Dmol.createViewerGrid(document.getElementById(\"3dmolviewer_16835421444390204\"),{rows: 1, cols: 2, control_all: false},{backgroundColor:\"white\"});\n",
       "viewer_16835421444390204 = viewergrid_16835421444390204[0][0];\n",
       "viewergrid_16835421444390204[0][0].zoomTo();viewergrid_16835421444390204[0][1].zoomTo();\tviewergrid_16835421444390204[0][0].addModel(\"6\\n\\nC     -0.355892    0.025840    0.009550\\nO      0.955828    0.339630    0.270515\\nH     -0.513480   -0.636412   -0.846050\\nH     -0.793801   -0.477717    0.896390\\nH     -0.909062    0.978202   -0.158991\\nH      1.616407   -0.229542   -0.171415\\n\",\"xyz\");\n",
       "\tviewergrid_16835421444390204[0][1].addModel(\"6\\n\\nC     -0.356251   -0.038776    0.007098\\nO      0.938172   -0.353054   -0.418792\\nH     -0.444037   -0.182573    1.105937\\nH     -0.601328    1.013469   -0.254720\\nH     -1.079284   -0.710452   -0.499738\\nH      1.542728    0.271387    0.060215\\n\",\"xyz\");\n",
       "\tviewergrid_16835421444390204[0][0].setViewStyle({\"style\": \"outline\", \"width\": 0.05});\n",
       "\tviewergrid_16835421444390204[0][1].setViewStyle({\"style\": \"outline\", \"width\": 0.05});\n",
       "\tviewergrid_16835421444390204[0][0].setStyle({\"stick\": {}, \"sphere\": {\"scale\": 0.25}});\n",
       "\tviewergrid_16835421444390204[0][1].setStyle({\"stick\": {}, \"sphere\": {\"scale\": 0.25}});\n",
       "viewergrid_16835421444390204[0][1].render();\n",
       "viewergrid_16835421444390204[0][0].render();\n",
       "});\n",
       "</script>"
      ]
     },
     "metadata": {},
     "output_type": "display_data"
    }
   ],
   "source": [
    "ethanol_initial_xyz = vlx.Molecule._smiles_to_xyz('CO', optimize=False)\n",
    "ethanol_xyz = vlx.Molecule._smiles_to_xyz('CO')\n",
    "\n",
    "viewer = p3d.view(viewergrid=(1, 2), width=400, height=200, linked=False)\n",
    "viewer.addModel(ethanol_initial_xyz, 'xyz', viewer=(0, 0))\n",
    "viewer.addModel(ethanol_xyz, 'xyz', viewer=(0, 1))\n",
    "viewer.setViewStyle({\"style\": \"outline\", \"width\": 0.05})\n",
    "viewer.setStyle({\"stick\":{},\"sphere\": {\"scale\":0.25}})\n",
    "viewer.show()"
   ]
  },
  {
   "cell_type": "markdown",
   "id": "349eccfa",
   "metadata": {},
   "source": [
    "## Ring systems\n",
    "\n",
    "Ring systems are constructed by labeling part(s) of the ring and then closing the ring by having the SMILES string go back to the labeled atom(s). This can be performed several time, so that, *e.g.* cyclohexane and norbornane are written as:"
   ]
  },
  {
   "cell_type": "code",
   "execution_count": 35,
   "id": "8ed2c3e1",
   "metadata": {
    "tags": []
   },
   "outputs": [
    {
     "data": {
      "application/3dmoljs_load.v0": "<div id=\"3dmolviewer_16835421619577906\"  style=\"position: relative; width: 400px; height: 200px\">\n        <p id=\"3dmolwarning_16835421619577906\" style=\"background-color:#ffcccc;color:black\">You appear to be running in JupyterLab (or JavaScript failed to load for some other reason).  You need to install the 3dmol extension: <br>\n        <tt>jupyter labextension install jupyterlab_3dmol</tt></p>\n        </div>\n<script>\n\nvar loadScriptAsync = function(uri){\n  return new Promise((resolve, reject) => {\n    //this is to ignore the existence of requirejs amd\n    var savedexports, savedmodule;\n    if (typeof exports !== 'undefined') savedexports = exports;\n    else exports = {}\n    if (typeof module !== 'undefined') savedmodule = module;\n    else module = {}\n\n    var tag = document.createElement('script');\n    tag.src = uri;\n    tag.async = true;\n    tag.onload = () => {\n        exports = savedexports;\n        module = savedmodule;\n        resolve();\n    };\n  var firstScriptTag = document.getElementsByTagName('script')[0];\n  firstScriptTag.parentNode.insertBefore(tag, firstScriptTag);\n});\n};\n\nif(typeof $3Dmolpromise === 'undefined') {\n$3Dmolpromise = null;\n  $3Dmolpromise = loadScriptAsync('https://cdnjs.cloudflare.com/ajax/libs/3Dmol/2.0.1/3Dmol-min.js');\n}\n\nvar viewer_16835421619577906 = null;\nvar warn = document.getElementById(\"3dmolwarning_16835421619577906\");\nif(warn) {\n    warn.parentNode.removeChild(warn);\n}\n$3Dmolpromise.then(function() {\nvar viewergrid_16835421619577906 = null;\nviewergrid_16835421619577906 = $3Dmol.createViewerGrid(document.getElementById(\"3dmolviewer_16835421619577906\"),{rows: 1, cols: 2, control_all: false},{backgroundColor:\"white\"});\nviewer_16835421619577906 = viewergrid_16835421619577906[0][0];\nviewergrid_16835421619577906[0][0].zoomTo();viewergrid_16835421619577906[0][1].zoomTo();\tviewergrid_16835421619577906[0][0].addModel(\"18\\n\\nC      1.178304    0.944915   -0.165631\\nC      1.248498   -0.560308   -0.495419\\nC      0.287704   -1.376358    0.375478\\nC     -1.178307   -0.944916    0.165601\\nC     -1.332676    0.538380   -0.228585\\nC     -0.203521    1.398286    0.348560\\nH      1.438197    1.520862   -1.080494\\nH      1.941205    1.189196    0.605434\\nH      2.287755   -0.925159   -0.346579\\nH      0.986961   -0.718669   -1.565042\\nH      0.394780   -2.456663    0.137155\\nH      0.565881   -1.238981    1.443803\\nH     -1.742435   -1.137416    1.104185\\nH     -1.636988   -1.572643   -0.629261\\nH     -2.312648    0.918672    0.132462\\nH     -1.324396    0.630771   -1.337174\\nH     -0.228440    1.326877    1.458448\\nH     -0.369875    2.463151    0.077060\\n\",\"xyz\");\n\tviewergrid_16835421619577906[0][1].addModel(\"19\\n\\nC     -0.905830   -0.018674    1.246499\\nC     -0.046047   -1.053501    0.498457\\nC      1.394230   -0.518732    0.402093\\nC      1.265457    0.620354   -0.623225\\nC     -0.231706    0.588805   -0.979829\\nC     -0.532405   -0.890746   -0.922713\\nC     -1.034603    1.120408    0.221176\\nH     -1.905252   -0.446499    1.482095\\nH     -0.423593    0.325034    2.187687\\nH     -0.122647   -2.086015    0.901261\\nH      2.074773   -1.311799    0.020929\\nH      1.771600   -0.152233    1.381782\\nH      1.573619    1.599034   -0.194569\\nH      1.880656    0.405353   -1.524716\\nH     -0.480256    1.077320   -1.946152\\nH     -1.616903   -1.120253   -1.041484\\nH      0.059853   -1.484788   -1.657056\\nH     -2.099374    1.270642   -0.063560\\nH     -0.621574    2.076290    0.611325\\n\",\"xyz\");\n\tviewergrid_16835421619577906[0][0].setViewStyle({\"style\": \"outline\", \"width\": 0.05});\n\tviewergrid_16835421619577906[0][1].setViewStyle({\"style\": \"outline\", \"width\": 0.05});\n\tviewergrid_16835421619577906[0][0].setStyle({\"stick\": {}, \"sphere\": {\"scale\": 0.25}});\n\tviewergrid_16835421619577906[0][1].setStyle({\"stick\": {}, \"sphere\": {\"scale\": 0.25}});\nviewergrid_16835421619577906[0][1].render();\nviewergrid_16835421619577906[0][0].render();\n});\n</script>",
      "text/html": [
       "<div id=\"3dmolviewer_16835421619577906\"  style=\"position: relative; width: 400px; height: 200px\">\n",
       "        <p id=\"3dmolwarning_16835421619577906\" style=\"background-color:#ffcccc;color:black\">You appear to be running in JupyterLab (or JavaScript failed to load for some other reason).  You need to install the 3dmol extension: <br>\n",
       "        <tt>jupyter labextension install jupyterlab_3dmol</tt></p>\n",
       "        </div>\n",
       "<script>\n",
       "\n",
       "var loadScriptAsync = function(uri){\n",
       "  return new Promise((resolve, reject) => {\n",
       "    //this is to ignore the existence of requirejs amd\n",
       "    var savedexports, savedmodule;\n",
       "    if (typeof exports !== 'undefined') savedexports = exports;\n",
       "    else exports = {}\n",
       "    if (typeof module !== 'undefined') savedmodule = module;\n",
       "    else module = {}\n",
       "\n",
       "    var tag = document.createElement('script');\n",
       "    tag.src = uri;\n",
       "    tag.async = true;\n",
       "    tag.onload = () => {\n",
       "        exports = savedexports;\n",
       "        module = savedmodule;\n",
       "        resolve();\n",
       "    };\n",
       "  var firstScriptTag = document.getElementsByTagName('script')[0];\n",
       "  firstScriptTag.parentNode.insertBefore(tag, firstScriptTag);\n",
       "});\n",
       "};\n",
       "\n",
       "if(typeof $3Dmolpromise === 'undefined') {\n",
       "$3Dmolpromise = null;\n",
       "  $3Dmolpromise = loadScriptAsync('https://cdnjs.cloudflare.com/ajax/libs/3Dmol/2.0.1/3Dmol-min.js');\n",
       "}\n",
       "\n",
       "var viewer_16835421619577906 = null;\n",
       "var warn = document.getElementById(\"3dmolwarning_16835421619577906\");\n",
       "if(warn) {\n",
       "    warn.parentNode.removeChild(warn);\n",
       "}\n",
       "$3Dmolpromise.then(function() {\n",
       "var viewergrid_16835421619577906 = null;\n",
       "viewergrid_16835421619577906 = $3Dmol.createViewerGrid(document.getElementById(\"3dmolviewer_16835421619577906\"),{rows: 1, cols: 2, control_all: false},{backgroundColor:\"white\"});\n",
       "viewer_16835421619577906 = viewergrid_16835421619577906[0][0];\n",
       "viewergrid_16835421619577906[0][0].zoomTo();viewergrid_16835421619577906[0][1].zoomTo();\tviewergrid_16835421619577906[0][0].addModel(\"18\\n\\nC      1.178304    0.944915   -0.165631\\nC      1.248498   -0.560308   -0.495419\\nC      0.287704   -1.376358    0.375478\\nC     -1.178307   -0.944916    0.165601\\nC     -1.332676    0.538380   -0.228585\\nC     -0.203521    1.398286    0.348560\\nH      1.438197    1.520862   -1.080494\\nH      1.941205    1.189196    0.605434\\nH      2.287755   -0.925159   -0.346579\\nH      0.986961   -0.718669   -1.565042\\nH      0.394780   -2.456663    0.137155\\nH      0.565881   -1.238981    1.443803\\nH     -1.742435   -1.137416    1.104185\\nH     -1.636988   -1.572643   -0.629261\\nH     -2.312648    0.918672    0.132462\\nH     -1.324396    0.630771   -1.337174\\nH     -0.228440    1.326877    1.458448\\nH     -0.369875    2.463151    0.077060\\n\",\"xyz\");\n",
       "\tviewergrid_16835421619577906[0][1].addModel(\"19\\n\\nC     -0.905830   -0.018674    1.246499\\nC     -0.046047   -1.053501    0.498457\\nC      1.394230   -0.518732    0.402093\\nC      1.265457    0.620354   -0.623225\\nC     -0.231706    0.588805   -0.979829\\nC     -0.532405   -0.890746   -0.922713\\nC     -1.034603    1.120408    0.221176\\nH     -1.905252   -0.446499    1.482095\\nH     -0.423593    0.325034    2.187687\\nH     -0.122647   -2.086015    0.901261\\nH      2.074773   -1.311799    0.020929\\nH      1.771600   -0.152233    1.381782\\nH      1.573619    1.599034   -0.194569\\nH      1.880656    0.405353   -1.524716\\nH     -0.480256    1.077320   -1.946152\\nH     -1.616903   -1.120253   -1.041484\\nH      0.059853   -1.484788   -1.657056\\nH     -2.099374    1.270642   -0.063560\\nH     -0.621574    2.076290    0.611325\\n\",\"xyz\");\n",
       "\tviewergrid_16835421619577906[0][0].setViewStyle({\"style\": \"outline\", \"width\": 0.05});\n",
       "\tviewergrid_16835421619577906[0][1].setViewStyle({\"style\": \"outline\", \"width\": 0.05});\n",
       "\tviewergrid_16835421619577906[0][0].setStyle({\"stick\": {}, \"sphere\": {\"scale\": 0.25}});\n",
       "\tviewergrid_16835421619577906[0][1].setStyle({\"stick\": {}, \"sphere\": {\"scale\": 0.25}});\n",
       "viewergrid_16835421619577906[0][1].render();\n",
       "viewergrid_16835421619577906[0][0].render();\n",
       "});\n",
       "</script>"
      ]
     },
     "metadata": {},
     "output_type": "display_data"
    }
   ],
   "source": [
    "cyclohexane_xyz = vlx.Molecule._smiles_to_xyz('C1CCCCC1')\n",
    "norborane_xyz = vlx.Molecule._smiles_to_xyz('C1C2CCC(C2)C1')\n",
    "\n",
    "viewer = p3d.view(viewergrid=(1, 2), width=400, height=200, linked=False)\n",
    "viewer.addModel(cyclohexane_xyz, 'xyz', viewer=(0, 0))\n",
    "viewer.addModel(norborane_xyz, 'xyz', viewer=(0, 1))\n",
    "viewer.setViewStyle({\"style\": \"outline\", \"width\": 0.05})\n",
    "viewer.setStyle({\"stick\":{},\"sphere\": {\"scale\":0.25}})\n",
    "viewer.show()"
   ]
  },
  {
   "cell_type": "markdown",
   "id": "1a1a1f74",
   "metadata": {},
   "source": [
    "Aromatic rings can be written by using the aromatic bond symbole (`:`) or using lower-case for for the contributing atoms. For example, p-cymene can be written as both:"
   ]
  },
  {
   "cell_type": "code",
   "execution_count": 36,
   "id": "3878a714",
   "metadata": {
    "tags": []
   },
   "outputs": [
    {
     "data": {
      "application/3dmoljs_load.v0": "<div id=\"3dmolviewer_16835421798057134\"  style=\"position: relative; width: 500px; height: 200px\">\n        <p id=\"3dmolwarning_16835421798057134\" style=\"background-color:#ffcccc;color:black\">You appear to be running in JupyterLab (or JavaScript failed to load for some other reason).  You need to install the 3dmol extension: <br>\n        <tt>jupyter labextension install jupyterlab_3dmol</tt></p>\n        </div>\n<script>\n\nvar loadScriptAsync = function(uri){\n  return new Promise((resolve, reject) => {\n    //this is to ignore the existence of requirejs amd\n    var savedexports, savedmodule;\n    if (typeof exports !== 'undefined') savedexports = exports;\n    else exports = {}\n    if (typeof module !== 'undefined') savedmodule = module;\n    else module = {}\n\n    var tag = document.createElement('script');\n    tag.src = uri;\n    tag.async = true;\n    tag.onload = () => {\n        exports = savedexports;\n        module = savedmodule;\n        resolve();\n    };\n  var firstScriptTag = document.getElementsByTagName('script')[0];\n  firstScriptTag.parentNode.insertBefore(tag, firstScriptTag);\n});\n};\n\nif(typeof $3Dmolpromise === 'undefined') {\n$3Dmolpromise = null;\n  $3Dmolpromise = loadScriptAsync('https://cdnjs.cloudflare.com/ajax/libs/3Dmol/2.0.1/3Dmol-min.js');\n}\n\nvar viewer_16835421798057134 = null;\nvar warn = document.getElementById(\"3dmolwarning_16835421798057134\");\nif(warn) {\n    warn.parentNode.removeChild(warn);\n}\n$3Dmolpromise.then(function() {\nvar viewergrid_16835421798057134 = null;\nviewergrid_16835421798057134 = $3Dmol.createViewerGrid(document.getElementById(\"3dmolviewer_16835421798057134\"),{rows: 1, cols: 2, control_all: false},{backgroundColor:\"white\"});\nviewer_16835421798057134 = viewergrid_16835421798057134[0][0];\nviewergrid_16835421798057134[0][0].zoomTo();viewergrid_16835421798057134[0][1].zoomTo();\tviewergrid_16835421798057134[0][0].addModel(\"22\\n\\nC     -2.757546   -1.076894   -0.918934\\nC     -2.106550   -0.417141    0.046823\\nC     -2.891222    0.159384    1.194315\\nC     -0.642888   -0.167847   -0.054727\\nC      0.225172   -1.155415   -0.558135\\nC      1.599864   -0.916573   -0.643479\\nC      2.131206    0.315535   -0.237628\\nC      3.610781    0.555969   -0.292836\\nC      1.275325    1.294225    0.286598\\nC     -0.099542    1.057014    0.373654\\nH     -2.241659   -1.454844   -1.792221\\nH     -3.828483   -1.229232   -0.863604\\nH     -2.249156    0.249521    2.095997\\nH     -3.272538    1.164392    0.916809\\nH     -3.750426   -0.494657    1.457334\\nH     -0.155119   -2.121395   -0.865378\\nH      2.250357   -1.695046   -1.022953\\nH      4.074399    0.224122    0.659523\\nH      3.826999    1.634986   -0.444634\\nH      4.068121   -0.007105   -1.134185\\nH      1.671740    2.243284    0.626146\\nH     -0.738835    1.837716    0.766083\\n\",\"xyz\");\n\tviewergrid_16835421798057134[0][1].addModel(\"22\\n\\nC     -2.757546   -1.076894   -0.918934\\nC     -2.106550   -0.417141    0.046823\\nC     -2.891222    0.159384    1.194315\\nC     -0.642888   -0.167847   -0.054727\\nC      0.225172   -1.155415   -0.558135\\nC      1.599864   -0.916573   -0.643479\\nC      2.131206    0.315535   -0.237628\\nC      3.610781    0.555969   -0.292836\\nC      1.275325    1.294225    0.286598\\nC     -0.099542    1.057014    0.373654\\nH     -2.241659   -1.454844   -1.792221\\nH     -3.828483   -1.229232   -0.863604\\nH     -2.249156    0.249521    2.095997\\nH     -3.272538    1.164392    0.916809\\nH     -3.750426   -0.494657    1.457334\\nH     -0.155119   -2.121395   -0.865378\\nH      2.250357   -1.695046   -1.022953\\nH      4.074399    0.224122    0.659523\\nH      3.826999    1.634986   -0.444634\\nH      4.068121   -0.007105   -1.134185\\nH      1.671740    2.243284    0.626146\\nH     -0.738835    1.837716    0.766083\\n\",\"xyz\");\n\tviewergrid_16835421798057134[0][0].setViewStyle({\"style\": \"outline\", \"width\": 0.05});\n\tviewergrid_16835421798057134[0][1].setViewStyle({\"style\": \"outline\", \"width\": 0.05});\n\tviewergrid_16835421798057134[0][0].setStyle({\"stick\": {}, \"sphere\": {\"scale\": 0.25}});\n\tviewergrid_16835421798057134[0][1].setStyle({\"stick\": {}, \"sphere\": {\"scale\": 0.25}});\nviewergrid_16835421798057134[0][1].render();\nviewergrid_16835421798057134[0][0].render();\n});\n</script>",
      "text/html": [
       "<div id=\"3dmolviewer_16835421798057134\"  style=\"position: relative; width: 500px; height: 200px\">\n",
       "        <p id=\"3dmolwarning_16835421798057134\" style=\"background-color:#ffcccc;color:black\">You appear to be running in JupyterLab (or JavaScript failed to load for some other reason).  You need to install the 3dmol extension: <br>\n",
       "        <tt>jupyter labextension install jupyterlab_3dmol</tt></p>\n",
       "        </div>\n",
       "<script>\n",
       "\n",
       "var loadScriptAsync = function(uri){\n",
       "  return new Promise((resolve, reject) => {\n",
       "    //this is to ignore the existence of requirejs amd\n",
       "    var savedexports, savedmodule;\n",
       "    if (typeof exports !== 'undefined') savedexports = exports;\n",
       "    else exports = {}\n",
       "    if (typeof module !== 'undefined') savedmodule = module;\n",
       "    else module = {}\n",
       "\n",
       "    var tag = document.createElement('script');\n",
       "    tag.src = uri;\n",
       "    tag.async = true;\n",
       "    tag.onload = () => {\n",
       "        exports = savedexports;\n",
       "        module = savedmodule;\n",
       "        resolve();\n",
       "    };\n",
       "  var firstScriptTag = document.getElementsByTagName('script')[0];\n",
       "  firstScriptTag.parentNode.insertBefore(tag, firstScriptTag);\n",
       "});\n",
       "};\n",
       "\n",
       "if(typeof $3Dmolpromise === 'undefined') {\n",
       "$3Dmolpromise = null;\n",
       "  $3Dmolpromise = loadScriptAsync('https://cdnjs.cloudflare.com/ajax/libs/3Dmol/2.0.1/3Dmol-min.js');\n",
       "}\n",
       "\n",
       "var viewer_16835421798057134 = null;\n",
       "var warn = document.getElementById(\"3dmolwarning_16835421798057134\");\n",
       "if(warn) {\n",
       "    warn.parentNode.removeChild(warn);\n",
       "}\n",
       "$3Dmolpromise.then(function() {\n",
       "var viewergrid_16835421798057134 = null;\n",
       "viewergrid_16835421798057134 = $3Dmol.createViewerGrid(document.getElementById(\"3dmolviewer_16835421798057134\"),{rows: 1, cols: 2, control_all: false},{backgroundColor:\"white\"});\n",
       "viewer_16835421798057134 = viewergrid_16835421798057134[0][0];\n",
       "viewergrid_16835421798057134[0][0].zoomTo();viewergrid_16835421798057134[0][1].zoomTo();\tviewergrid_16835421798057134[0][0].addModel(\"22\\n\\nC     -2.757546   -1.076894   -0.918934\\nC     -2.106550   -0.417141    0.046823\\nC     -2.891222    0.159384    1.194315\\nC     -0.642888   -0.167847   -0.054727\\nC      0.225172   -1.155415   -0.558135\\nC      1.599864   -0.916573   -0.643479\\nC      2.131206    0.315535   -0.237628\\nC      3.610781    0.555969   -0.292836\\nC      1.275325    1.294225    0.286598\\nC     -0.099542    1.057014    0.373654\\nH     -2.241659   -1.454844   -1.792221\\nH     -3.828483   -1.229232   -0.863604\\nH     -2.249156    0.249521    2.095997\\nH     -3.272538    1.164392    0.916809\\nH     -3.750426   -0.494657    1.457334\\nH     -0.155119   -2.121395   -0.865378\\nH      2.250357   -1.695046   -1.022953\\nH      4.074399    0.224122    0.659523\\nH      3.826999    1.634986   -0.444634\\nH      4.068121   -0.007105   -1.134185\\nH      1.671740    2.243284    0.626146\\nH     -0.738835    1.837716    0.766083\\n\",\"xyz\");\n",
       "\tviewergrid_16835421798057134[0][1].addModel(\"22\\n\\nC     -2.757546   -1.076894   -0.918934\\nC     -2.106550   -0.417141    0.046823\\nC     -2.891222    0.159384    1.194315\\nC     -0.642888   -0.167847   -0.054727\\nC      0.225172   -1.155415   -0.558135\\nC      1.599864   -0.916573   -0.643479\\nC      2.131206    0.315535   -0.237628\\nC      3.610781    0.555969   -0.292836\\nC      1.275325    1.294225    0.286598\\nC     -0.099542    1.057014    0.373654\\nH     -2.241659   -1.454844   -1.792221\\nH     -3.828483   -1.229232   -0.863604\\nH     -2.249156    0.249521    2.095997\\nH     -3.272538    1.164392    0.916809\\nH     -3.750426   -0.494657    1.457334\\nH     -0.155119   -2.121395   -0.865378\\nH      2.250357   -1.695046   -1.022953\\nH      4.074399    0.224122    0.659523\\nH      3.826999    1.634986   -0.444634\\nH      4.068121   -0.007105   -1.134185\\nH      1.671740    2.243284    0.626146\\nH     -0.738835    1.837716    0.766083\\n\",\"xyz\");\n",
       "\tviewergrid_16835421798057134[0][0].setViewStyle({\"style\": \"outline\", \"width\": 0.05});\n",
       "\tviewergrid_16835421798057134[0][1].setViewStyle({\"style\": \"outline\", \"width\": 0.05});\n",
       "\tviewergrid_16835421798057134[0][0].setStyle({\"stick\": {}, \"sphere\": {\"scale\": 0.25}});\n",
       "\tviewergrid_16835421798057134[0][1].setStyle({\"stick\": {}, \"sphere\": {\"scale\": 0.25}});\n",
       "viewergrid_16835421798057134[0][1].render();\n",
       "viewergrid_16835421798057134[0][0].render();\n",
       "});\n",
       "</script>"
      ]
     },
     "metadata": {},
     "output_type": "display_data"
    }
   ],
   "source": [
    "pcymene1_xyz = vlx.Molecule._smiles_to_xyz('C=C(C)C1:C:C:C(C):C:C1')\n",
    "pcymene2_xyz = vlx.Molecule._smiles_to_xyz('C=C(C)c1ccc(C)cc1')\n",
    "\n",
    "viewer = p3d.view(viewergrid=(1, 2), width=500, height=200, linked=False)\n",
    "viewer.addModel(pcymene1_xyz, 'xyz', viewer=(0, 0))\n",
    "viewer.addModel(pcymene1_xyz, 'xyz', viewer=(0, 1))\n",
    "viewer.setViewStyle({\"style\": \"outline\", \"width\": 0.05})\n",
    "viewer.setStyle({\"stick\":{},\"sphere\": {\"scale\":0.25}})\n",
    "viewer.show()"
   ]
  },
  {
   "cell_type": "markdown",
   "id": "b152e821",
   "metadata": {},
   "source": [
    "## More complex systems\n",
    "\n",
    "For more complex molecules, the easiest option is to check if wikipedia, [ChemSpider](http://www.chemspider.com/), or any other digital resources provide the SMILES string. This will work for many common molecules, and for the rest you can either consult more detailed guides on using SMILES and go from there, or use a graphical interface.\n",
    "\n",
    "```{note}\n",
    "No matter which option is chosen, we stress that you should always check that the structure you obtain is reasonably close to what is sought. For some systems you may need to sample many different conformers, and for PDB-files you might have to add hydrogens.\n",
    "```\n",
    "\n",
    "As an example, the structures NADH (left) and NAD$^+$ (right) are illustrated below, using the SMILES string from [wikipedia](https://en.wikipedia.org/wiki/Nicotinamide_adenine_dinucleotide). Nicotinamide adenine dinucleotide partake in metabolism through the redox reaction:\n",
    "\n",
    "$$\n",
    "\\mathrm{NADH} \\Longleftrightarrow \\mathrm{NAD}^+ +  \\mathrm{H}^+ + 2\\mathrm{e}^- \n",
    "$$\n",
    "\n",
    "The resulting conformers need to be corrected, but we see that the general structure and the location of the hydrogen at the nicotinamide ring is correct."
   ]
  },
  {
   "cell_type": "code",
   "execution_count": 37,
   "id": "3e331e6a",
   "metadata": {
    "tags": []
   },
   "outputs": [
    {
     "data": {
      "application/3dmoljs_load.v0": "<div id=\"3dmolviewer_1683542210082612\"  style=\"position: relative; width: 600px; height: 200px\">\n        <p id=\"3dmolwarning_1683542210082612\" style=\"background-color:#ffcccc;color:black\">You appear to be running in JupyterLab (or JavaScript failed to load for some other reason).  You need to install the 3dmol extension: <br>\n        <tt>jupyter labextension install jupyterlab_3dmol</tt></p>\n        </div>\n<script>\n\nvar loadScriptAsync = function(uri){\n  return new Promise((resolve, reject) => {\n    //this is to ignore the existence of requirejs amd\n    var savedexports, savedmodule;\n    if (typeof exports !== 'undefined') savedexports = exports;\n    else exports = {}\n    if (typeof module !== 'undefined') savedmodule = module;\n    else module = {}\n\n    var tag = document.createElement('script');\n    tag.src = uri;\n    tag.async = true;\n    tag.onload = () => {\n        exports = savedexports;\n        module = savedmodule;\n        resolve();\n    };\n  var firstScriptTag = document.getElementsByTagName('script')[0];\n  firstScriptTag.parentNode.insertBefore(tag, firstScriptTag);\n});\n};\n\nif(typeof $3Dmolpromise === 'undefined') {\n$3Dmolpromise = null;\n  $3Dmolpromise = loadScriptAsync('https://cdnjs.cloudflare.com/ajax/libs/3Dmol/2.0.1/3Dmol-min.js');\n}\n\nvar viewer_1683542210082612 = null;\nvar warn = document.getElementById(\"3dmolwarning_1683542210082612\");\nif(warn) {\n    warn.parentNode.removeChild(warn);\n}\n$3Dmolpromise.then(function() {\nvar viewergrid_1683542210082612 = null;\nviewergrid_1683542210082612 = $3Dmol.createViewerGrid(document.getElementById(\"3dmolviewer_1683542210082612\"),{rows: 1, cols: 2, control_all: false},{backgroundColor:\"white\"});\nviewer_1683542210082612 = viewergrid_1683542210082612[0][0];\nviewergrid_1683542210082612[0][0].zoomTo();viewergrid_1683542210082612[0][1].zoomTo();\tviewergrid_1683542210082612[0][0].addModel(\"71\\n\\nO     -7.859572    1.424851   -2.779940\\nC     -8.645763    1.720552   -1.836837\\nN     -9.643716    2.720176   -2.058111\\nC     -8.537542    1.018979   -0.530761\\nC     -9.675988    1.107047    0.465747\\nC     -9.609784    0.070480    1.553862\\nC     -8.482643   -0.589680    1.820154\\nN     -7.310559   -0.386986    1.017906\\nC     -7.412674    0.354360   -0.211479\\nC     -6.068431   -1.090642    1.362971\\nO     -4.955848   -0.263640    1.129948\\nC     -3.859181   -1.120468    0.887316\\nC     -4.388346   -2.512165    0.484489\\nO     -3.931195   -3.509188    1.370616\\nC     -5.896625   -2.346221    0.523796\\nO     -6.547121   -3.438148    1.119167\\nC     -2.962485   -0.513246   -0.201891\\nO     -2.583268    0.805451    0.135891\\nP     -1.064170    0.806563    0.915791\\nO     -0.619416    2.417401    1.182225\\nO     -1.178152    0.100521    2.250578\\nO      0.103091    0.066098   -0.084557\\nP      1.498960   -0.204087    0.848922\\nO      1.913433    1.071650    1.553906\\nO      1.191670   -1.408086    1.996383\\nO      2.741518   -0.753867   -0.190543\\nC      4.008506   -0.471043    0.367854\\nC      4.579173    0.821377   -0.235934\\nO      5.766314    1.182393    0.425533\\nC      6.573992    1.873842   -0.507216\\nN      7.948606    1.369297   -0.444626\\nC      9.080832    2.052098   -0.757300\\nN     10.206092    1.287172   -0.698429\\nC      9.726628    0.077582   -0.344889\\nC     10.405477   -1.117491   -0.135885\\nN      9.667557   -2.214182    0.214690\\nC      8.302911   -2.143357    0.349918\\nN      7.645401   -0.964304    0.136458\\nC      8.381124    0.124005   -0.204457\\nN     11.824883   -1.206622   -0.266783\\nC      5.999949    1.704500   -1.920967\\nO      5.472901    2.930936   -2.362914\\nC      4.913057    0.671136   -1.719299\\nO      3.802686    0.848424   -2.570176\\nH    -10.252106    3.074889   -1.285651\\nH     -9.759583    3.137237   -3.010493\\nH    -10.643155    0.978196   -0.071176\\nH     -9.665500    2.113435    0.936960\\nH    -10.478776   -0.091063    2.176649\\nH     -8.462679   -1.291669    2.644428\\nH     -6.571905    0.347539   -0.897427\\nH     -6.073399   -1.355578    2.445411\\nH     -3.270674   -1.199531    1.825897\\nH     -4.075947   -2.796422   -0.545442\\nH     -4.249860   -3.280731    2.282488\\nH     -6.281989   -2.175600   -0.508862\\nH     -6.564845   -4.162164    0.438915\\nH     -2.101675   -1.188114   -0.420861\\nH     -3.552311   -0.455401   -1.142311\\nH      4.688541   -1.317568    0.126898\\nH      4.007530   -0.411889    1.482280\\nH      3.847476    1.642907   -0.083084\\nH      6.583584    2.950785   -0.222534\\nH      9.090275    3.097493   -1.038946\\nH      7.743996   -3.026176    0.632045\\nH     12.398203   -0.363113   -0.488696\\nH     12.312255   -2.113776   -0.090737\\nH      6.772274    1.334962   -2.638538\\nH      5.392833    2.866222   -3.349214\\nH      5.349970   -0.336403   -1.911564\\nH      3.295185    1.648065   -2.268403\\n\",\"xyz\");\n\tviewergrid_1683542210082612[0][1].addModel(\"70\\n\\nO    -10.098978   -0.147379   -1.293564\\nC     -9.938172    0.469792   -0.205009\\nN    -11.090784    0.947382    0.496088\\nC     -8.568096    0.672137    0.329214\\nC     -8.274894    1.722579    1.210809\\nC     -6.970863    1.912973    1.661153\\nC     -5.963289    1.046604    1.240087\\nN     -6.246026    0.010404    0.390130\\nC     -7.518756   -0.170871   -0.078514\\nC     -5.171391   -0.888829   -0.066173\\nO     -4.313849   -1.207167    1.009909\\nC     -3.011602   -1.266386    0.485340\\nC     -2.933965   -0.265045   -0.658837\\nO     -1.998004   -0.684150   -1.620768\\nC     -4.355423   -0.239263   -1.192720\\nO     -4.484966   -0.994428   -2.373748\\nC     -1.991423   -0.974737    1.593115\\nO     -0.692040   -1.247750    1.121260\\nP      0.439361   -0.811040    2.328412\\nO      1.873128   -1.670795    2.069907\\nO     -0.079608   -1.171792    3.703598\\nO      0.764269    0.859960    2.288890\\nP      1.131311    1.275035    0.678649\\nO     -0.151003    1.369361   -0.118586\\nO      1.871830    2.793576    0.679705\\nO      2.219659    0.150365   -0.005165\\nC      1.950841    0.009340   -1.380065\\nC      3.097432   -0.751647   -2.060729\\nO      4.274657    0.030078   -1.993558\\nC      5.271604   -0.748850   -1.371365\\nN      6.076288    0.088462   -0.480008\\nC      5.644593    1.010587    0.420973\\nN      6.658036    1.608510    1.108384\\nC      7.754011    1.010275    0.602564\\nC      9.095518    1.216217    0.908267\\nN     10.021097    0.470026    0.232482\\nC      9.644118   -0.448341   -0.715062\\nN      8.321601   -0.638928   -1.010431\\nC      7.407863    0.102133   -0.337907\\nN      9.506085    2.174161    1.883427\\nC      4.598337   -1.873813   -0.600963\\nO      5.416325   -3.012925   -0.532212\\nC      3.356347   -2.123106   -1.417598\\nO      3.610185   -3.080853   -2.414392\\nH    -12.040720    0.829936    0.078728\\nH    -11.022455    1.351953    1.455127\\nH     -9.036907    2.422463    1.523082\\nH     -6.739282    2.736260    2.324157\\nH     -4.949217    1.216392    1.583280\\nH     -7.725005   -0.975955   -0.777118\\nH     -5.612007   -1.849304   -0.422772\\nH     -2.837979   -2.299803    0.103532\\nH     -2.676165    0.749502   -0.269877\\nH     -1.829288    0.098869   -2.206824\\nH     -4.677904    0.816533   -1.370691\\nH     -4.219654   -0.400197   -3.123597\\nH     -2.094457    0.086838    1.920023\\nH     -2.229067   -1.641934    2.451432\\nH      1.005325   -0.559961   -1.524423\\nH      1.861767    1.000966   -1.880678\\nH      2.824499   -0.879970   -3.132404\\nH      5.919788   -1.177617   -2.170204\\nH      4.602406    1.250160    0.581071\\nH     10.398835   -1.025347   -1.232882\\nH     10.519879    2.334235    2.068901\\nH      8.803717    2.770928    2.380306\\nH      4.303120   -1.536994    0.419122\\nH      6.053435   -2.855925    0.211672\\nH      2.521543   -2.464239   -0.760881\\nH      2.724431   -3.389381   -2.743072\\n\",\"xyz\");\n\tviewergrid_1683542210082612[0][0].setViewStyle({\"style\": \"outline\", \"width\": 0.05});\n\tviewergrid_1683542210082612[0][1].setViewStyle({\"style\": \"outline\", \"width\": 0.05});\n\tviewergrid_1683542210082612[0][0].setStyle({\"stick\": {}, \"sphere\": {\"scale\": 0.25}});\n\tviewergrid_1683542210082612[0][1].setStyle({\"stick\": {}, \"sphere\": {\"scale\": 0.25}});\n\tviewergrid_1683542210082612[0][0].zoomTo();\n\tviewergrid_1683542210082612[0][1].zoomTo();\nviewergrid_1683542210082612[0][1].render();\nviewergrid_1683542210082612[0][0].render();\n});\n</script>",
      "text/html": [
       "<div id=\"3dmolviewer_1683542210082612\"  style=\"position: relative; width: 600px; height: 200px\">\n",
       "        <p id=\"3dmolwarning_1683542210082612\" style=\"background-color:#ffcccc;color:black\">You appear to be running in JupyterLab (or JavaScript failed to load for some other reason).  You need to install the 3dmol extension: <br>\n",
       "        <tt>jupyter labextension install jupyterlab_3dmol</tt></p>\n",
       "        </div>\n",
       "<script>\n",
       "\n",
       "var loadScriptAsync = function(uri){\n",
       "  return new Promise((resolve, reject) => {\n",
       "    //this is to ignore the existence of requirejs amd\n",
       "    var savedexports, savedmodule;\n",
       "    if (typeof exports !== 'undefined') savedexports = exports;\n",
       "    else exports = {}\n",
       "    if (typeof module !== 'undefined') savedmodule = module;\n",
       "    else module = {}\n",
       "\n",
       "    var tag = document.createElement('script');\n",
       "    tag.src = uri;\n",
       "    tag.async = true;\n",
       "    tag.onload = () => {\n",
       "        exports = savedexports;\n",
       "        module = savedmodule;\n",
       "        resolve();\n",
       "    };\n",
       "  var firstScriptTag = document.getElementsByTagName('script')[0];\n",
       "  firstScriptTag.parentNode.insertBefore(tag, firstScriptTag);\n",
       "});\n",
       "};\n",
       "\n",
       "if(typeof $3Dmolpromise === 'undefined') {\n",
       "$3Dmolpromise = null;\n",
       "  $3Dmolpromise = loadScriptAsync('https://cdnjs.cloudflare.com/ajax/libs/3Dmol/2.0.1/3Dmol-min.js');\n",
       "}\n",
       "\n",
       "var viewer_1683542210082612 = null;\n",
       "var warn = document.getElementById(\"3dmolwarning_1683542210082612\");\n",
       "if(warn) {\n",
       "    warn.parentNode.removeChild(warn);\n",
       "}\n",
       "$3Dmolpromise.then(function() {\n",
       "var viewergrid_1683542210082612 = null;\n",
       "viewergrid_1683542210082612 = $3Dmol.createViewerGrid(document.getElementById(\"3dmolviewer_1683542210082612\"),{rows: 1, cols: 2, control_all: false},{backgroundColor:\"white\"});\n",
       "viewer_1683542210082612 = viewergrid_1683542210082612[0][0];\n",
       "viewergrid_1683542210082612[0][0].zoomTo();viewergrid_1683542210082612[0][1].zoomTo();\tviewergrid_1683542210082612[0][0].addModel(\"71\\n\\nO     -7.859572    1.424851   -2.779940\\nC     -8.645763    1.720552   -1.836837\\nN     -9.643716    2.720176   -2.058111\\nC     -8.537542    1.018979   -0.530761\\nC     -9.675988    1.107047    0.465747\\nC     -9.609784    0.070480    1.553862\\nC     -8.482643   -0.589680    1.820154\\nN     -7.310559   -0.386986    1.017906\\nC     -7.412674    0.354360   -0.211479\\nC     -6.068431   -1.090642    1.362971\\nO     -4.955848   -0.263640    1.129948\\nC     -3.859181   -1.120468    0.887316\\nC     -4.388346   -2.512165    0.484489\\nO     -3.931195   -3.509188    1.370616\\nC     -5.896625   -2.346221    0.523796\\nO     -6.547121   -3.438148    1.119167\\nC     -2.962485   -0.513246   -0.201891\\nO     -2.583268    0.805451    0.135891\\nP     -1.064170    0.806563    0.915791\\nO     -0.619416    2.417401    1.182225\\nO     -1.178152    0.100521    2.250578\\nO      0.103091    0.066098   -0.084557\\nP      1.498960   -0.204087    0.848922\\nO      1.913433    1.071650    1.553906\\nO      1.191670   -1.408086    1.996383\\nO      2.741518   -0.753867   -0.190543\\nC      4.008506   -0.471043    0.367854\\nC      4.579173    0.821377   -0.235934\\nO      5.766314    1.182393    0.425533\\nC      6.573992    1.873842   -0.507216\\nN      7.948606    1.369297   -0.444626\\nC      9.080832    2.052098   -0.757300\\nN     10.206092    1.287172   -0.698429\\nC      9.726628    0.077582   -0.344889\\nC     10.405477   -1.117491   -0.135885\\nN      9.667557   -2.214182    0.214690\\nC      8.302911   -2.143357    0.349918\\nN      7.645401   -0.964304    0.136458\\nC      8.381124    0.124005   -0.204457\\nN     11.824883   -1.206622   -0.266783\\nC      5.999949    1.704500   -1.920967\\nO      5.472901    2.930936   -2.362914\\nC      4.913057    0.671136   -1.719299\\nO      3.802686    0.848424   -2.570176\\nH    -10.252106    3.074889   -1.285651\\nH     -9.759583    3.137237   -3.010493\\nH    -10.643155    0.978196   -0.071176\\nH     -9.665500    2.113435    0.936960\\nH    -10.478776   -0.091063    2.176649\\nH     -8.462679   -1.291669    2.644428\\nH     -6.571905    0.347539   -0.897427\\nH     -6.073399   -1.355578    2.445411\\nH     -3.270674   -1.199531    1.825897\\nH     -4.075947   -2.796422   -0.545442\\nH     -4.249860   -3.280731    2.282488\\nH     -6.281989   -2.175600   -0.508862\\nH     -6.564845   -4.162164    0.438915\\nH     -2.101675   -1.188114   -0.420861\\nH     -3.552311   -0.455401   -1.142311\\nH      4.688541   -1.317568    0.126898\\nH      4.007530   -0.411889    1.482280\\nH      3.847476    1.642907   -0.083084\\nH      6.583584    2.950785   -0.222534\\nH      9.090275    3.097493   -1.038946\\nH      7.743996   -3.026176    0.632045\\nH     12.398203   -0.363113   -0.488696\\nH     12.312255   -2.113776   -0.090737\\nH      6.772274    1.334962   -2.638538\\nH      5.392833    2.866222   -3.349214\\nH      5.349970   -0.336403   -1.911564\\nH      3.295185    1.648065   -2.268403\\n\",\"xyz\");\n",
       "\tviewergrid_1683542210082612[0][1].addModel(\"70\\n\\nO    -10.098978   -0.147379   -1.293564\\nC     -9.938172    0.469792   -0.205009\\nN    -11.090784    0.947382    0.496088\\nC     -8.568096    0.672137    0.329214\\nC     -8.274894    1.722579    1.210809\\nC     -6.970863    1.912973    1.661153\\nC     -5.963289    1.046604    1.240087\\nN     -6.246026    0.010404    0.390130\\nC     -7.518756   -0.170871   -0.078514\\nC     -5.171391   -0.888829   -0.066173\\nO     -4.313849   -1.207167    1.009909\\nC     -3.011602   -1.266386    0.485340\\nC     -2.933965   -0.265045   -0.658837\\nO     -1.998004   -0.684150   -1.620768\\nC     -4.355423   -0.239263   -1.192720\\nO     -4.484966   -0.994428   -2.373748\\nC     -1.991423   -0.974737    1.593115\\nO     -0.692040   -1.247750    1.121260\\nP      0.439361   -0.811040    2.328412\\nO      1.873128   -1.670795    2.069907\\nO     -0.079608   -1.171792    3.703598\\nO      0.764269    0.859960    2.288890\\nP      1.131311    1.275035    0.678649\\nO     -0.151003    1.369361   -0.118586\\nO      1.871830    2.793576    0.679705\\nO      2.219659    0.150365   -0.005165\\nC      1.950841    0.009340   -1.380065\\nC      3.097432   -0.751647   -2.060729\\nO      4.274657    0.030078   -1.993558\\nC      5.271604   -0.748850   -1.371365\\nN      6.076288    0.088462   -0.480008\\nC      5.644593    1.010587    0.420973\\nN      6.658036    1.608510    1.108384\\nC      7.754011    1.010275    0.602564\\nC      9.095518    1.216217    0.908267\\nN     10.021097    0.470026    0.232482\\nC      9.644118   -0.448341   -0.715062\\nN      8.321601   -0.638928   -1.010431\\nC      7.407863    0.102133   -0.337907\\nN      9.506085    2.174161    1.883427\\nC      4.598337   -1.873813   -0.600963\\nO      5.416325   -3.012925   -0.532212\\nC      3.356347   -2.123106   -1.417598\\nO      3.610185   -3.080853   -2.414392\\nH    -12.040720    0.829936    0.078728\\nH    -11.022455    1.351953    1.455127\\nH     -9.036907    2.422463    1.523082\\nH     -6.739282    2.736260    2.324157\\nH     -4.949217    1.216392    1.583280\\nH     -7.725005   -0.975955   -0.777118\\nH     -5.612007   -1.849304   -0.422772\\nH     -2.837979   -2.299803    0.103532\\nH     -2.676165    0.749502   -0.269877\\nH     -1.829288    0.098869   -2.206824\\nH     -4.677904    0.816533   -1.370691\\nH     -4.219654   -0.400197   -3.123597\\nH     -2.094457    0.086838    1.920023\\nH     -2.229067   -1.641934    2.451432\\nH      1.005325   -0.559961   -1.524423\\nH      1.861767    1.000966   -1.880678\\nH      2.824499   -0.879970   -3.132404\\nH      5.919788   -1.177617   -2.170204\\nH      4.602406    1.250160    0.581071\\nH     10.398835   -1.025347   -1.232882\\nH     10.519879    2.334235    2.068901\\nH      8.803717    2.770928    2.380306\\nH      4.303120   -1.536994    0.419122\\nH      6.053435   -2.855925    0.211672\\nH      2.521543   -2.464239   -0.760881\\nH      2.724431   -3.389381   -2.743072\\n\",\"xyz\");\n",
       "\tviewergrid_1683542210082612[0][0].setViewStyle({\"style\": \"outline\", \"width\": 0.05});\n",
       "\tviewergrid_1683542210082612[0][1].setViewStyle({\"style\": \"outline\", \"width\": 0.05});\n",
       "\tviewergrid_1683542210082612[0][0].setStyle({\"stick\": {}, \"sphere\": {\"scale\": 0.25}});\n",
       "\tviewergrid_1683542210082612[0][1].setStyle({\"stick\": {}, \"sphere\": {\"scale\": 0.25}});\n",
       "\tviewergrid_1683542210082612[0][0].zoomTo();\n",
       "\tviewergrid_1683542210082612[0][1].zoomTo();\n",
       "viewergrid_1683542210082612[0][1].render();\n",
       "viewergrid_1683542210082612[0][0].render();\n",
       "});\n",
       "</script>"
      ]
     },
     "metadata": {},
     "output_type": "display_data"
    }
   ],
   "source": [
    "nadh_xyz = vlx.Molecule._smiles_to_xyz('O=C(N)C1CC=C[N](C=1)[C@@H]2O[C@@H]([C@@H](O)[C@H]2O)COP([O-])(=O)OP(=O)([O-])OC[C@H]5O[C@@H](n4cnc3c(ncnc34)N)[C@H](O)[C@@H]5O')\n",
    "nadp_xyz = vlx.Molecule._smiles_to_xyz('O=C(N)c1ccc[n+](c1)[C@@H]2O[C@@H]([C@@H](O)[C@H]2O)COP([O-])(=O)OP(=O)([O-])OC[C@H]5O[C@@H](n4cnc3c(ncnc34)N)[C@H](O)[C@@H]5O')\n",
    "\n",
    "viewer = p3d.view(viewergrid=(1, 2), width=600, height=200, linked=False)\n",
    "viewer.addModel(nadh_xyz, 'xyz', viewer=(0, 0))\n",
    "viewer.addModel(nadp_xyz, 'xyz', viewer=(0, 1))\n",
    "viewer.setViewStyle({\"style\": \"outline\", \"width\": 0.05})\n",
    "viewer.setStyle({\"stick\":{},\"sphere\": {\"scale\":0.25}})\n",
    "viewer.zoomTo()\n",
    "viewer.show()"
   ]
  },
  {
   "cell_type": "code",
   "execution_count": null,
   "id": "9211299e",
   "metadata": {},
   "outputs": [],
   "source": []
  }
 ],
 "metadata": {
  "celltoolbar": "Tags",
  "kernelspec": {
   "display_name": "Python 3 (ipykernel)",
   "language": "python",
   "name": "python3"
  },
  "language_info": {
   "codemirror_mode": {
    "name": "ipython",
    "version": 3
   },
   "file_extension": ".py",
   "mimetype": "text/x-python",
   "name": "python",
   "nbconvert_exporter": "python",
   "pygments_lexer": "ipython3",
   "version": "3.10.10"
  }
 },
 "nbformat": 4,
 "nbformat_minor": 5
}
