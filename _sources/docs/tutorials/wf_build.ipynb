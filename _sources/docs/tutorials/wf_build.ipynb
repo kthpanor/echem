{
 "cells": [
  {
   "cell_type": "markdown",
   "id": "ff8a63c1-317c-4890-a059-85f7e2c9f1e6",
   "metadata": {},
   "source": [
    "# Building the system\n",
    "\n",
    "This section will focus on the construction of an initial molecular structure, which can be done using a number of ways:\n",
    "\n",
    "- Downloading a structure from the [protein data bank](https://www.rcsb.org/)\n",
    "\n",
    "- Using a graphical molecular editor, such as [Avogadro](https://avogadro.cc/)\n",
    "\n",
    "- Specify the structure using the simplified molecular-input line-entry system ([SMILES](https://en.wikipedia.org/wiki/Simplified_molecular-input_line-entry_system)) line notation, and employ a program which can build the molecule from this\n",
    "\n",
    "In this section we will focus on the last option, using the [molSimplify](https://github.com/hjkgrp/molSimplify) program. For a full description of how a molecule is written using SMILES can be found on, *e.g.*, the [wiki](https://en.wikipedia.org/wiki/Simplified_molecular-input_line-entry_system) entry --- here we will illustrate its use for a few . Make sure to visualize the resulting geometries and ensure they correspond to what you want to study."
   ]
  },
  {
   "cell_type": "code",
   "execution_count": 2,
   "id": "ef9ec4dd",
   "metadata": {},
   "outputs": [],
   "source": [
    "import py3Dmol as p3d\n",
    "from rdkit import Chem\n",
    "from rdkit.Chem import AllChem"
   ]
  },
  {
   "cell_type": "markdown",
   "id": "be2c1d80",
   "metadata": {},
   "source": [
    "## Caffeine"
   ]
  },
  {
   "cell_type": "code",
   "execution_count": 62,
   "id": "af2bcbc2",
   "metadata": {},
   "outputs": [],
   "source": [
    "def smilestoxyz(smiles, opt = True):\n",
    "    mol_bare = Chem.MolFromSmiles(smiles)\n",
    "    mol_full = Chem.AddHs(mol_bare)\n",
    "    AllChem.EmbedMolecule(mol_full)\n",
    "    if opt: AllChem.UFFOptimizeMolecule(mol_full)\n",
    "    return Chem.MolToXYZBlock(mol_full)\n",
    "\n",
    "caffeine_xyz = smilestoxyz('CN1C=NC2=C1C(=O)N(C(=O)N2C)C')"
   ]
  },
  {
   "cell_type": "code",
   "execution_count": 63,
   "id": "9189a099",
   "metadata": {},
   "outputs": [
    {
     "name": "stdout",
     "output_type": "stream",
     "text": [
      "24\n",
      "\n",
      "C      3.167624   -1.053198    0.019519\n",
      "N      2.156340   -0.002008   -0.023714\n",
      "C      2.370872    1.335406   -0.081622\n",
      "N      1.222124    2.060433   -0.105889\n",
      "C      0.266645    1.109907   -0.058955\n",
      "C      0.818551   -0.123678   -0.008062\n",
      "C      0.013649   -1.253585    0.053021\n",
      "O      0.527792   -2.405433    0.077818\n",
      "N     -1.351527   -1.079127    0.085240\n",
      "C     -1.893878    0.193835    0.009189\n",
      "O     -3.148892    0.342268    0.013177\n",
      "N     -1.080179    1.303809   -0.072191\n",
      "C     -1.646655    2.658812   -0.106520\n",
      "C     -2.240156   -2.252542    0.129834\n",
      "H      3.047699   -1.724659   -0.856381\n",
      "H      3.057982   -1.640212    0.955403\n",
      "H      4.186998   -0.612624   -0.007007\n",
      "H      3.355008    1.785474   -0.106389\n",
      "H     -0.922286    3.392198   -0.520493\n",
      "H     -1.927356    2.970379    0.921522\n",
      "H     -2.546909    2.688787   -0.756890\n",
      "H     -2.512421   -2.552212   -0.903996\n",
      "H     -3.166296   -2.031104    0.702077\n",
      "H     -1.754726   -3.110927    0.641309\n",
      "\n"
     ]
    }
   ],
   "source": [
    "print(caffeine_xyz)"
   ]
  },
  {
   "cell_type": "code",
   "execution_count": 64,
   "id": "66d104ff",
   "metadata": {},
   "outputs": [
    {
     "data": {
      "application/3dmoljs_load.v0": "<div id=\"3dmolviewer_16733581550667098\"  style=\"position: relative; width: 400px; height: 300px\">\n        <p id=\"3dmolwarning_16733581550667098\" style=\"background-color:#ffcccc;color:black\">You appear to be running in JupyterLab (or JavaScript failed to load for some other reason).  You need to install the 3dmol extension: <br>\n        <tt>jupyter labextension install jupyterlab_3dmol</tt></p>\n        </div>\n<script>\n\nvar loadScriptAsync = function(uri){\n  return new Promise((resolve, reject) => {\n    //this is to ignore the existence of requirejs amd\n    var savedexports, savedmodule;\n    if (typeof exports !== 'undefined') savedexports = exports;\n    else exports = {}\n    if (typeof module !== 'undefined') savedmodule = module;\n    else module = {}\n\n    var tag = document.createElement('script');\n    tag.src = uri;\n    tag.async = true;\n    tag.onload = () => {\n        exports = savedexports;\n        module = savedmodule;\n        resolve();\n    };\n  var firstScriptTag = document.getElementsByTagName('script')[0];\n  firstScriptTag.parentNode.insertBefore(tag, firstScriptTag);\n});\n};\n\nif(typeof $3Dmolpromise === 'undefined') {\n$3Dmolpromise = null;\n  $3Dmolpromise = loadScriptAsync('https://cdn.jsdelivr.net/npm/3dmol@latest/build/3Dmol-min.min.js');\n}\n\nvar viewer_16733581550667098 = null;\nvar warn = document.getElementById(\"3dmolwarning_16733581550667098\");\nif(warn) {\n    warn.parentNode.removeChild(warn);\n}\n$3Dmolpromise.then(function() {\nviewer_16733581550667098 = $3Dmol.createViewer(document.getElementById(\"3dmolviewer_16733581550667098\"),{backgroundColor:\"white\"});\nviewer_16733581550667098.zoomTo();\n\tviewer_16733581550667098.addModel(\"24\\n\\nC      3.167624   -1.053198    0.019519\\nN      2.156340   -0.002008   -0.023714\\nC      2.370872    1.335406   -0.081622\\nN      1.222124    2.060433   -0.105889\\nC      0.266645    1.109907   -0.058955\\nC      0.818551   -0.123678   -0.008062\\nC      0.013649   -1.253585    0.053021\\nO      0.527792   -2.405433    0.077818\\nN     -1.351527   -1.079127    0.085240\\nC     -1.893878    0.193835    0.009189\\nO     -3.148892    0.342268    0.013177\\nN     -1.080179    1.303809   -0.072191\\nC     -1.646655    2.658812   -0.106520\\nC     -2.240156   -2.252542    0.129834\\nH      3.047699   -1.724659   -0.856381\\nH      3.057982   -1.640212    0.955403\\nH      4.186998   -0.612624   -0.007007\\nH      3.355008    1.785474   -0.106389\\nH     -0.922286    3.392198   -0.520493\\nH     -1.927356    2.970379    0.921522\\nH     -2.546909    2.688787   -0.756890\\nH     -2.512421   -2.552212   -0.903996\\nH     -3.166296   -2.031104    0.702077\\nH     -1.754726   -3.110927    0.641309\\n\",\"xyz\");\n\tviewer_16733581550667098.setViewStyle({\"style\": \"outline\", \"color\": \"black\", \"width\": 0.1});\n\tviewer_16733581550667098.setStyle({\"stick\": {}});\nviewer_16733581550667098.render();\n});\n</script>",
      "text/html": [
       "<div id=\"3dmolviewer_16733581550667098\"  style=\"position: relative; width: 400px; height: 300px\">\n",
       "        <p id=\"3dmolwarning_16733581550667098\" style=\"background-color:#ffcccc;color:black\">You appear to be running in JupyterLab (or JavaScript failed to load for some other reason).  You need to install the 3dmol extension: <br>\n",
       "        <tt>jupyter labextension install jupyterlab_3dmol</tt></p>\n",
       "        </div>\n",
       "<script>\n",
       "\n",
       "var loadScriptAsync = function(uri){\n",
       "  return new Promise((resolve, reject) => {\n",
       "    //this is to ignore the existence of requirejs amd\n",
       "    var savedexports, savedmodule;\n",
       "    if (typeof exports !== 'undefined') savedexports = exports;\n",
       "    else exports = {}\n",
       "    if (typeof module !== 'undefined') savedmodule = module;\n",
       "    else module = {}\n",
       "\n",
       "    var tag = document.createElement('script');\n",
       "    tag.src = uri;\n",
       "    tag.async = true;\n",
       "    tag.onload = () => {\n",
       "        exports = savedexports;\n",
       "        module = savedmodule;\n",
       "        resolve();\n",
       "    };\n",
       "  var firstScriptTag = document.getElementsByTagName('script')[0];\n",
       "  firstScriptTag.parentNode.insertBefore(tag, firstScriptTag);\n",
       "});\n",
       "};\n",
       "\n",
       "if(typeof $3Dmolpromise === 'undefined') {\n",
       "$3Dmolpromise = null;\n",
       "  $3Dmolpromise = loadScriptAsync('https://cdn.jsdelivr.net/npm/3dmol@latest/build/3Dmol-min.min.js');\n",
       "}\n",
       "\n",
       "var viewer_16733581550667098 = null;\n",
       "var warn = document.getElementById(\"3dmolwarning_16733581550667098\");\n",
       "if(warn) {\n",
       "    warn.parentNode.removeChild(warn);\n",
       "}\n",
       "$3Dmolpromise.then(function() {\n",
       "viewer_16733581550667098 = $3Dmol.createViewer(document.getElementById(\"3dmolviewer_16733581550667098\"),{backgroundColor:\"white\"});\n",
       "viewer_16733581550667098.zoomTo();\n",
       "\tviewer_16733581550667098.addModel(\"24\\n\\nC      3.167624   -1.053198    0.019519\\nN      2.156340   -0.002008   -0.023714\\nC      2.370872    1.335406   -0.081622\\nN      1.222124    2.060433   -0.105889\\nC      0.266645    1.109907   -0.058955\\nC      0.818551   -0.123678   -0.008062\\nC      0.013649   -1.253585    0.053021\\nO      0.527792   -2.405433    0.077818\\nN     -1.351527   -1.079127    0.085240\\nC     -1.893878    0.193835    0.009189\\nO     -3.148892    0.342268    0.013177\\nN     -1.080179    1.303809   -0.072191\\nC     -1.646655    2.658812   -0.106520\\nC     -2.240156   -2.252542    0.129834\\nH      3.047699   -1.724659   -0.856381\\nH      3.057982   -1.640212    0.955403\\nH      4.186998   -0.612624   -0.007007\\nH      3.355008    1.785474   -0.106389\\nH     -0.922286    3.392198   -0.520493\\nH     -1.927356    2.970379    0.921522\\nH     -2.546909    2.688787   -0.756890\\nH     -2.512421   -2.552212   -0.903996\\nH     -3.166296   -2.031104    0.702077\\nH     -1.754726   -3.110927    0.641309\\n\",\"xyz\");\n",
       "\tviewer_16733581550667098.setViewStyle({\"style\": \"outline\", \"color\": \"black\", \"width\": 0.1});\n",
       "\tviewer_16733581550667098.setStyle({\"stick\": {}});\n",
       "viewer_16733581550667098.render();\n",
       "});\n",
       "</script>"
      ]
     },
     "metadata": {},
     "output_type": "display_data"
    }
   ],
   "source": [
    "viewer = p3d.view(width=400, height=300)\n",
    "viewer.addModel(caffeine_xyz, 'xyz')\n",
    "viewer.setViewStyle({\"style\": \"outline\", \"color\": \"black\", \"width\": 0.1})\n",
    "viewer.setStyle({\"stick\": {}})\n",
    "viewer.show()"
   ]
  },
  {
   "cell_type": "markdown",
   "id": "4cd42682",
   "metadata": {},
   "source": [
    "## Linear molecules\n",
    "\n",
    "The basic principle of SMILES is to...\n",
    "\n",
    "Bonds:\n",
    "- ethane\n",
    "- ethene\n",
    "- ethyne\n",
    "- propane\n",
    "\n",
    "Substitutions:\n",
    "- 1-vinylfluoride\n",
    "- 2-vinylfluoride\n",
    "- 11-difluoroethene\n",
    "- 12 difluoroethene\n",
    "\n",
    "### Bond type"
   ]
  },
  {
   "cell_type": "code",
   "execution_count": 50,
   "id": "fc73aeeb",
   "metadata": {},
   "outputs": [
    {
     "data": {
      "application/3dmoljs_load.v0": "<div id=\"3dmolviewer_16733577523099318\"  style=\"position: relative; width: 800px; height: 300px\">\n        <p id=\"3dmolwarning_16733577523099318\" style=\"background-color:#ffcccc;color:black\">You appear to be running in JupyterLab (or JavaScript failed to load for some other reason).  You need to install the 3dmol extension: <br>\n        <tt>jupyter labextension install jupyterlab_3dmol</tt></p>\n        </div>\n<script>\n\nvar loadScriptAsync = function(uri){\n  return new Promise((resolve, reject) => {\n    //this is to ignore the existence of requirejs amd\n    var savedexports, savedmodule;\n    if (typeof exports !== 'undefined') savedexports = exports;\n    else exports = {}\n    if (typeof module !== 'undefined') savedmodule = module;\n    else module = {}\n\n    var tag = document.createElement('script');\n    tag.src = uri;\n    tag.async = true;\n    tag.onload = () => {\n        exports = savedexports;\n        module = savedmodule;\n        resolve();\n    };\n  var firstScriptTag = document.getElementsByTagName('script')[0];\n  firstScriptTag.parentNode.insertBefore(tag, firstScriptTag);\n});\n};\n\nif(typeof $3Dmolpromise === 'undefined') {\n$3Dmolpromise = null;\n  $3Dmolpromise = loadScriptAsync('https://cdn.jsdelivr.net/npm/3dmol@latest/build/3Dmol-min.min.js');\n}\n\nvar viewer_16733577523099318 = null;\nvar warn = document.getElementById(\"3dmolwarning_16733577523099318\");\nif(warn) {\n    warn.parentNode.removeChild(warn);\n}\n$3Dmolpromise.then(function() {\nvar viewergrid_16733577523099318 = null;\nviewergrid_16733577523099318 = $3Dmol.createViewerGrid(document.getElementById(\"3dmolviewer_16733577523099318\"),{rows: 1, cols: 3, control_all: false},{backgroundColor:\"white\"});\nviewer_16733577523099318 = viewergrid_16733577523099318[0][0];\nviewergrid_16733577523099318[0][0].zoomTo();viewergrid_16733577523099318[0][1].zoomTo();viewergrid_16733577523099318[0][2].zoomTo();\tviewergrid_16733577523099318[0][0].addModel(\"8\\n\\nC      0.758473    0.039024   -0.013189\\nC     -0.758472   -0.039025    0.013189\\nH      1.143057   -0.424547   -0.946010\\nH      1.178422   -0.501057    0.861404\\nH      1.081471    1.100692    0.025433\\nH     -1.143055    0.424541    0.946013\\nH     -1.178422    0.501064   -0.861400\\nH     -1.081473   -1.100692   -0.025439\\n\",\"xyz\");\n\tviewergrid_16733577523099318[0][1].addModel(\"6\\n\\nC     -0.660054    0.072973   -0.043458\\nC      0.660054   -0.072973    0.043458\\nH     -1.226393    0.440882    0.805967\\nH     -1.177937   -0.175068   -0.964270\\nH      1.177937    0.175068    0.964270\\nH      1.226393   -0.440882   -0.805967\\n\",\"xyz\");\n\tviewergrid_16733577523099318[0][2].addModel(\"4\\n\\nC      0.199463   -0.496895   -0.276632\\nC     -0.199463    0.496895    0.276632\\nH      0.549748   -1.369514   -0.762439\\nH     -0.549748    1.369514    0.762439\\n\",\"xyz\");\n\tviewergrid_16733577523099318[0][0].setViewStyle({\"style\": \"outline\", \"color\": \"black\", \"width\": 0.1});\n\tviewergrid_16733577523099318[0][1].setViewStyle({\"style\": \"outline\", \"color\": \"black\", \"width\": 0.1});\n\tviewergrid_16733577523099318[0][2].setViewStyle({\"style\": \"outline\", \"color\": \"black\", \"width\": 0.1});\n\tviewergrid_16733577523099318[0][0].setStyle({\"stick\": {}});\n\tviewergrid_16733577523099318[0][1].setStyle({\"stick\": {}});\n\tviewergrid_16733577523099318[0][2].setStyle({\"stick\": {}});\nviewergrid_16733577523099318[0][2].render();\nviewergrid_16733577523099318[0][1].render();\nviewergrid_16733577523099318[0][0].render();\n});\n</script>",
      "text/html": [
       "<div id=\"3dmolviewer_16733577523099318\"  style=\"position: relative; width: 800px; height: 300px\">\n",
       "        <p id=\"3dmolwarning_16733577523099318\" style=\"background-color:#ffcccc;color:black\">You appear to be running in JupyterLab (or JavaScript failed to load for some other reason).  You need to install the 3dmol extension: <br>\n",
       "        <tt>jupyter labextension install jupyterlab_3dmol</tt></p>\n",
       "        </div>\n",
       "<script>\n",
       "\n",
       "var loadScriptAsync = function(uri){\n",
       "  return new Promise((resolve, reject) => {\n",
       "    //this is to ignore the existence of requirejs amd\n",
       "    var savedexports, savedmodule;\n",
       "    if (typeof exports !== 'undefined') savedexports = exports;\n",
       "    else exports = {}\n",
       "    if (typeof module !== 'undefined') savedmodule = module;\n",
       "    else module = {}\n",
       "\n",
       "    var tag = document.createElement('script');\n",
       "    tag.src = uri;\n",
       "    tag.async = true;\n",
       "    tag.onload = () => {\n",
       "        exports = savedexports;\n",
       "        module = savedmodule;\n",
       "        resolve();\n",
       "    };\n",
       "  var firstScriptTag = document.getElementsByTagName('script')[0];\n",
       "  firstScriptTag.parentNode.insertBefore(tag, firstScriptTag);\n",
       "});\n",
       "};\n",
       "\n",
       "if(typeof $3Dmolpromise === 'undefined') {\n",
       "$3Dmolpromise = null;\n",
       "  $3Dmolpromise = loadScriptAsync('https://cdn.jsdelivr.net/npm/3dmol@latest/build/3Dmol-min.min.js');\n",
       "}\n",
       "\n",
       "var viewer_16733577523099318 = null;\n",
       "var warn = document.getElementById(\"3dmolwarning_16733577523099318\");\n",
       "if(warn) {\n",
       "    warn.parentNode.removeChild(warn);\n",
       "}\n",
       "$3Dmolpromise.then(function() {\n",
       "var viewergrid_16733577523099318 = null;\n",
       "viewergrid_16733577523099318 = $3Dmol.createViewerGrid(document.getElementById(\"3dmolviewer_16733577523099318\"),{rows: 1, cols: 3, control_all: false},{backgroundColor:\"white\"});\n",
       "viewer_16733577523099318 = viewergrid_16733577523099318[0][0];\n",
       "viewergrid_16733577523099318[0][0].zoomTo();viewergrid_16733577523099318[0][1].zoomTo();viewergrid_16733577523099318[0][2].zoomTo();\tviewergrid_16733577523099318[0][0].addModel(\"8\\n\\nC      0.758473    0.039024   -0.013189\\nC     -0.758472   -0.039025    0.013189\\nH      1.143057   -0.424547   -0.946010\\nH      1.178422   -0.501057    0.861404\\nH      1.081471    1.100692    0.025433\\nH     -1.143055    0.424541    0.946013\\nH     -1.178422    0.501064   -0.861400\\nH     -1.081473   -1.100692   -0.025439\\n\",\"xyz\");\n",
       "\tviewergrid_16733577523099318[0][1].addModel(\"6\\n\\nC     -0.660054    0.072973   -0.043458\\nC      0.660054   -0.072973    0.043458\\nH     -1.226393    0.440882    0.805967\\nH     -1.177937   -0.175068   -0.964270\\nH      1.177937    0.175068    0.964270\\nH      1.226393   -0.440882   -0.805967\\n\",\"xyz\");\n",
       "\tviewergrid_16733577523099318[0][2].addModel(\"4\\n\\nC      0.199463   -0.496895   -0.276632\\nC     -0.199463    0.496895    0.276632\\nH      0.549748   -1.369514   -0.762439\\nH     -0.549748    1.369514    0.762439\\n\",\"xyz\");\n",
       "\tviewergrid_16733577523099318[0][0].setViewStyle({\"style\": \"outline\", \"color\": \"black\", \"width\": 0.1});\n",
       "\tviewergrid_16733577523099318[0][1].setViewStyle({\"style\": \"outline\", \"color\": \"black\", \"width\": 0.1});\n",
       "\tviewergrid_16733577523099318[0][2].setViewStyle({\"style\": \"outline\", \"color\": \"black\", \"width\": 0.1});\n",
       "\tviewergrid_16733577523099318[0][0].setStyle({\"stick\": {}});\n",
       "\tviewergrid_16733577523099318[0][1].setStyle({\"stick\": {}});\n",
       "\tviewergrid_16733577523099318[0][2].setStyle({\"stick\": {}});\n",
       "viewergrid_16733577523099318[0][2].render();\n",
       "viewergrid_16733577523099318[0][1].render();\n",
       "viewergrid_16733577523099318[0][0].render();\n",
       "});\n",
       "</script>"
      ]
     },
     "metadata": {},
     "output_type": "display_data"
    }
   ],
   "source": [
    "ethane_xyz = smilestoxyz('CC')\n",
    "ethene_xyz = smilestoxyz('C=C')\n",
    "ethyne_xyz = smilestoxyz('C#C')\n",
    "\n",
    "viewer = p3d.view(viewergrid=(1, 3), width=800, height=300, linked=False)\n",
    "viewer.addModel(ethane_xyz, 'xyz', viewer=(0, 0))\n",
    "viewer.addModel(ethene_xyz, 'xyz', viewer=(0, 1))\n",
    "viewer.addModel(ethyne_xyz, 'xyz', viewer=(0, 2))\n",
    "viewer.setViewStyle({\"style\": \"outline\", \"color\": \"black\", \"width\": 0.1})\n",
    "viewer.setStyle({\"stick\": {}})\n",
    "viewer.show()"
   ]
  },
  {
   "cell_type": "markdown",
   "id": "7f573fda",
   "metadata": {},
   "source": [
    "### Substitution"
   ]
  },
  {
   "cell_type": "code",
   "execution_count": 67,
   "id": "1513d76d",
   "metadata": {},
   "outputs": [
    {
     "data": {
      "application/3dmoljs_load.v0": "<div id=\"3dmolviewer_16733583565315576\"  style=\"position: relative; width: 600px; height: 500px\">\n        <p id=\"3dmolwarning_16733583565315576\" style=\"background-color:#ffcccc;color:black\">You appear to be running in JupyterLab (or JavaScript failed to load for some other reason).  You need to install the 3dmol extension: <br>\n        <tt>jupyter labextension install jupyterlab_3dmol</tt></p>\n        </div>\n<script>\n\nvar loadScriptAsync = function(uri){\n  return new Promise((resolve, reject) => {\n    //this is to ignore the existence of requirejs amd\n    var savedexports, savedmodule;\n    if (typeof exports !== 'undefined') savedexports = exports;\n    else exports = {}\n    if (typeof module !== 'undefined') savedmodule = module;\n    else module = {}\n\n    var tag = document.createElement('script');\n    tag.src = uri;\n    tag.async = true;\n    tag.onload = () => {\n        exports = savedexports;\n        module = savedmodule;\n        resolve();\n    };\n  var firstScriptTag = document.getElementsByTagName('script')[0];\n  firstScriptTag.parentNode.insertBefore(tag, firstScriptTag);\n});\n};\n\nif(typeof $3Dmolpromise === 'undefined') {\n$3Dmolpromise = null;\n  $3Dmolpromise = loadScriptAsync('https://cdn.jsdelivr.net/npm/3dmol@latest/build/3Dmol-min.min.js');\n}\n\nvar viewer_16733583565315576 = null;\nvar warn = document.getElementById(\"3dmolwarning_16733583565315576\");\nif(warn) {\n    warn.parentNode.removeChild(warn);\n}\n$3Dmolpromise.then(function() {\nvar viewergrid_16733583565315576 = null;\nviewergrid_16733583565315576 = $3Dmol.createViewerGrid(document.getElementById(\"3dmolviewer_16733583565315576\"),{rows: 2, cols: 2, control_all: false},{backgroundColor:\"white\"});\nviewer_16733583565315576 = viewergrid_16733583565315576[0][0];\nviewergrid_16733583565315576[0][0].zoomTo();viewergrid_16733583565315576[0][1].zoomTo();viewergrid_16733583565315576[1][0].zoomTo();viewergrid_16733583565315576[1][1].zoomTo();\tviewergrid_16733583565315576[0][0].addModel(\"8\\n\\nF      1.072032    1.282569   -0.547611\\nC      0.747843    0.045618   -0.021443\\nC     -0.762896   -0.105020    0.046709\\nH      1.175769   -0.749819   -0.667290\\nH      1.180381   -0.042913    0.997395\\nH     -1.022486   -1.098499    0.469306\\nH     -1.193013    0.687777    0.694504\\nH     -1.197630   -0.019714   -0.971571\\n\",\"xyz\");\n\tviewergrid_16733583565315576[0][1].addModel(\"8\\n\\nC      0.769953    0.047599    0.011307\\nC     -0.741697   -0.107557   -0.011299\\nF     -1.340595    1.138766   -0.011637\\nH      1.079840    0.598244    0.924503\\nH      1.250196   -0.953572    0.011583\\nH      1.105685    0.610143   -0.885349\\nH     -1.048782   -0.660852   -0.923725\\nH     -1.074601   -0.672770    0.884617\\n\",\"xyz\");\n\tviewergrid_16733583565315576[1][0].addModel(\"6\\n\\nC     -0.637050   -0.192588    0.019863\\nC      0.637050    0.192588   -0.019862\\nF      1.632145   -0.725223    0.092590\\nF     -1.632145    0.725223   -0.092593\\nH     -0.887945   -1.241327    0.142231\\nH      0.887945    1.241328   -0.142228\\n\",\"xyz\");\n\tviewergrid_16733583565315576[1][1].addModel(\"6\\n\\nC     -0.694761   -0.144225   -0.037844\\nC      0.607228    0.126054    0.033076\\nF      1.488224   -0.847397    0.381597\\nF      1.060575    1.376501   -0.242763\\nH     -1.401153    0.631288   -0.315989\\nH     -1.060113   -1.142221    0.181923\\n\",\"xyz\");\n\tviewergrid_16733583565315576[0][0].setViewStyle({\"style\": \"outline\", \"color\": \"black\", \"width\": 0.1});\n\tviewergrid_16733583565315576[0][1].setViewStyle({\"style\": \"outline\", \"color\": \"black\", \"width\": 0.1});\n\tviewergrid_16733583565315576[1][0].setViewStyle({\"style\": \"outline\", \"color\": \"black\", \"width\": 0.1});\n\tviewergrid_16733583565315576[1][1].setViewStyle({\"style\": \"outline\", \"color\": \"black\", \"width\": 0.1});\n\tviewergrid_16733583565315576[0][0].setStyle({\"stick\": {}});\n\tviewergrid_16733583565315576[0][1].setStyle({\"stick\": {}});\n\tviewergrid_16733583565315576[1][0].setStyle({\"stick\": {}});\n\tviewergrid_16733583565315576[1][1].setStyle({\"stick\": {}});\nviewergrid_16733583565315576[1][1].render();\nviewergrid_16733583565315576[1][0].render();\nviewergrid_16733583565315576[0][1].render();\nviewergrid_16733583565315576[0][0].render();\n});\n</script>",
      "text/html": [
       "<div id=\"3dmolviewer_16733583565315576\"  style=\"position: relative; width: 600px; height: 500px\">\n",
       "        <p id=\"3dmolwarning_16733583565315576\" style=\"background-color:#ffcccc;color:black\">You appear to be running in JupyterLab (or JavaScript failed to load for some other reason).  You need to install the 3dmol extension: <br>\n",
       "        <tt>jupyter labextension install jupyterlab_3dmol</tt></p>\n",
       "        </div>\n",
       "<script>\n",
       "\n",
       "var loadScriptAsync = function(uri){\n",
       "  return new Promise((resolve, reject) => {\n",
       "    //this is to ignore the existence of requirejs amd\n",
       "    var savedexports, savedmodule;\n",
       "    if (typeof exports !== 'undefined') savedexports = exports;\n",
       "    else exports = {}\n",
       "    if (typeof module !== 'undefined') savedmodule = module;\n",
       "    else module = {}\n",
       "\n",
       "    var tag = document.createElement('script');\n",
       "    tag.src = uri;\n",
       "    tag.async = true;\n",
       "    tag.onload = () => {\n",
       "        exports = savedexports;\n",
       "        module = savedmodule;\n",
       "        resolve();\n",
       "    };\n",
       "  var firstScriptTag = document.getElementsByTagName('script')[0];\n",
       "  firstScriptTag.parentNode.insertBefore(tag, firstScriptTag);\n",
       "});\n",
       "};\n",
       "\n",
       "if(typeof $3Dmolpromise === 'undefined') {\n",
       "$3Dmolpromise = null;\n",
       "  $3Dmolpromise = loadScriptAsync('https://cdn.jsdelivr.net/npm/3dmol@latest/build/3Dmol-min.min.js');\n",
       "}\n",
       "\n",
       "var viewer_16733583565315576 = null;\n",
       "var warn = document.getElementById(\"3dmolwarning_16733583565315576\");\n",
       "if(warn) {\n",
       "    warn.parentNode.removeChild(warn);\n",
       "}\n",
       "$3Dmolpromise.then(function() {\n",
       "var viewergrid_16733583565315576 = null;\n",
       "viewergrid_16733583565315576 = $3Dmol.createViewerGrid(document.getElementById(\"3dmolviewer_16733583565315576\"),{rows: 2, cols: 2, control_all: false},{backgroundColor:\"white\"});\n",
       "viewer_16733583565315576 = viewergrid_16733583565315576[0][0];\n",
       "viewergrid_16733583565315576[0][0].zoomTo();viewergrid_16733583565315576[0][1].zoomTo();viewergrid_16733583565315576[1][0].zoomTo();viewergrid_16733583565315576[1][1].zoomTo();\tviewergrid_16733583565315576[0][0].addModel(\"8\\n\\nF      1.072032    1.282569   -0.547611\\nC      0.747843    0.045618   -0.021443\\nC     -0.762896   -0.105020    0.046709\\nH      1.175769   -0.749819   -0.667290\\nH      1.180381   -0.042913    0.997395\\nH     -1.022486   -1.098499    0.469306\\nH     -1.193013    0.687777    0.694504\\nH     -1.197630   -0.019714   -0.971571\\n\",\"xyz\");\n",
       "\tviewergrid_16733583565315576[0][1].addModel(\"8\\n\\nC      0.769953    0.047599    0.011307\\nC     -0.741697   -0.107557   -0.011299\\nF     -1.340595    1.138766   -0.011637\\nH      1.079840    0.598244    0.924503\\nH      1.250196   -0.953572    0.011583\\nH      1.105685    0.610143   -0.885349\\nH     -1.048782   -0.660852   -0.923725\\nH     -1.074601   -0.672770    0.884617\\n\",\"xyz\");\n",
       "\tviewergrid_16733583565315576[1][0].addModel(\"6\\n\\nC     -0.637050   -0.192588    0.019863\\nC      0.637050    0.192588   -0.019862\\nF      1.632145   -0.725223    0.092590\\nF     -1.632145    0.725223   -0.092593\\nH     -0.887945   -1.241327    0.142231\\nH      0.887945    1.241328   -0.142228\\n\",\"xyz\");\n",
       "\tviewergrid_16733583565315576[1][1].addModel(\"6\\n\\nC     -0.694761   -0.144225   -0.037844\\nC      0.607228    0.126054    0.033076\\nF      1.488224   -0.847397    0.381597\\nF      1.060575    1.376501   -0.242763\\nH     -1.401153    0.631288   -0.315989\\nH     -1.060113   -1.142221    0.181923\\n\",\"xyz\");\n",
       "\tviewergrid_16733583565315576[0][0].setViewStyle({\"style\": \"outline\", \"color\": \"black\", \"width\": 0.1});\n",
       "\tviewergrid_16733583565315576[0][1].setViewStyle({\"style\": \"outline\", \"color\": \"black\", \"width\": 0.1});\n",
       "\tviewergrid_16733583565315576[1][0].setViewStyle({\"style\": \"outline\", \"color\": \"black\", \"width\": 0.1});\n",
       "\tviewergrid_16733583565315576[1][1].setViewStyle({\"style\": \"outline\", \"color\": \"black\", \"width\": 0.1});\n",
       "\tviewergrid_16733583565315576[0][0].setStyle({\"stick\": {}});\n",
       "\tviewergrid_16733583565315576[0][1].setStyle({\"stick\": {}});\n",
       "\tviewergrid_16733583565315576[1][0].setStyle({\"stick\": {}});\n",
       "\tviewergrid_16733583565315576[1][1].setStyle({\"stick\": {}});\n",
       "viewergrid_16733583565315576[1][1].render();\n",
       "viewergrid_16733583565315576[1][0].render();\n",
       "viewergrid_16733583565315576[0][1].render();\n",
       "viewergrid_16733583565315576[0][0].render();\n",
       "});\n",
       "</script>"
      ]
     },
     "metadata": {},
     "output_type": "display_data"
    }
   ],
   "source": [
    "fluoro1_xyz = smilestoxyz('FCC')\n",
    "fluoro2_xyz = smilestoxyz('CCF')\n",
    "difluoro12_xyz = smilestoxyz('C(=CF)F')\n",
    "difluoro22_xyz = smilestoxyz('C=C(F)(F)')\n",
    "\n",
    "viewer = p3d.view(viewergrid=(2, 2), width=600, height=500, linked=False)\n",
    "viewer.addModel(fluoro1_xyz, 'xyz', viewer=(0, 0))\n",
    "viewer.addModel(fluoro2_xyz, 'xyz', viewer=(0, 1))\n",
    "viewer.addModel(difluoro12_xyz, 'xyz', viewer=(1, 0))\n",
    "viewer.addModel(difluoro22_xyz, 'xyz', viewer=(1, 1))\n",
    "viewer.setViewStyle({\"style\": \"outline\", \"color\": \"black\", \"width\": 0.1})\n",
    "viewer.setStyle({\"stick\": {}})\n",
    "viewer.show()"
   ]
  },
  {
   "cell_type": "markdown",
   "id": "046f0046",
   "metadata": {},
   "source": [
    "### Optimization"
   ]
  },
  {
   "cell_type": "code",
   "execution_count": 70,
   "id": "6aa2390b",
   "metadata": {},
   "outputs": [
    {
     "data": {
      "application/3dmoljs_load.v0": "<div id=\"3dmolviewer_16733584398694968\"  style=\"position: relative; width: 600px; height: 300px\">\n        <p id=\"3dmolwarning_16733584398694968\" style=\"background-color:#ffcccc;color:black\">You appear to be running in JupyterLab (or JavaScript failed to load for some other reason).  You need to install the 3dmol extension: <br>\n        <tt>jupyter labextension install jupyterlab_3dmol</tt></p>\n        </div>\n<script>\n\nvar loadScriptAsync = function(uri){\n  return new Promise((resolve, reject) => {\n    //this is to ignore the existence of requirejs amd\n    var savedexports, savedmodule;\n    if (typeof exports !== 'undefined') savedexports = exports;\n    else exports = {}\n    if (typeof module !== 'undefined') savedmodule = module;\n    else module = {}\n\n    var tag = document.createElement('script');\n    tag.src = uri;\n    tag.async = true;\n    tag.onload = () => {\n        exports = savedexports;\n        module = savedmodule;\n        resolve();\n    };\n  var firstScriptTag = document.getElementsByTagName('script')[0];\n  firstScriptTag.parentNode.insertBefore(tag, firstScriptTag);\n});\n};\n\nif(typeof $3Dmolpromise === 'undefined') {\n$3Dmolpromise = null;\n  $3Dmolpromise = loadScriptAsync('https://cdn.jsdelivr.net/npm/3dmol@latest/build/3Dmol-min.min.js');\n}\n\nvar viewer_16733584398694968 = null;\nvar warn = document.getElementById(\"3dmolwarning_16733584398694968\");\nif(warn) {\n    warn.parentNode.removeChild(warn);\n}\n$3Dmolpromise.then(function() {\nvar viewergrid_16733584398694968 = null;\nviewergrid_16733584398694968 = $3Dmol.createViewerGrid(document.getElementById(\"3dmolviewer_16733584398694968\"),{rows: 1, cols: 2, control_all: false},{backgroundColor:\"white\"});\nviewer_16733584398694968 = viewergrid_16733584398694968[0][0];\nviewergrid_16733584398694968[0][0].zoomTo();viewergrid_16733584398694968[0][1].zoomTo();\tviewergrid_16733584398694968[0][0].addModel(\"24\\n\\nC      1.590509   -0.381734   -0.518251\\nC      1.625335    0.964245    0.231010\\nC      0.339287    1.384131    0.962850\\nC     -0.865283    1.694920    0.058292\\nC     -1.464919    0.514656   -0.730166\\nC     -1.597102   -0.803067    0.062136\\nC     -0.520933   -1.844882   -0.292780\\nC      0.891155   -1.533060    0.234719\\nH      1.175992   -0.249456   -1.537132\\nH      2.649088   -0.678384   -0.689110\\nH      2.435133    0.909413    0.991549\\nH      1.914262    1.763987   -0.485197\\nH      0.577008    2.323478    1.508664\\nH      0.072502    0.662807    1.758344\\nH     -1.666359    2.112639    0.707129\\nH     -0.584863    2.497173   -0.658486\\nH     -0.918739    0.365100   -1.682405\\nH     -2.484948    0.827817   -1.045212\\nH     -1.641457   -0.632670    1.157732\\nH     -2.577355   -1.256331   -0.204633\\nH     -0.490920   -2.002748   -1.393275\\nH     -0.836058   -2.813501    0.153526\\nH      0.880455   -1.372533    1.332647\\nH      1.498208   -2.452001    0.078049\\n\",\"xyz\");\n\tviewergrid_16733584398694968[0][1].addModel(\"24\\n\\nC     -0.456100    1.495637    0.852579\\nC     -1.678886    0.968705    0.190676\\nC     -1.490332   -0.326654   -0.533568\\nC     -0.744535   -1.362148    0.229404\\nC      0.534301   -1.811086   -0.421027\\nC      1.503988   -0.721927   -0.690262\\nC      1.615431    0.299909    0.406630\\nC      0.766455    1.494435   -0.011330\\nH     -0.264427    0.949237    1.786837\\nH     -0.663342    2.555311    1.151639\\nH     -2.108379    1.698063   -0.542130\\nH     -2.463817    0.830980    0.962266\\nH     -2.525201   -0.715041   -0.768669\\nH     -1.026134   -0.174223   -1.543362\\nH     -0.589659   -0.998272    1.272839\\nH     -1.371490   -2.295398    0.351609\\nH      0.949839   -2.628756    0.220063\\nH      0.267826   -2.293401   -1.381456\\nH      1.266935   -0.224153   -1.643931\\nH      2.515321   -1.194462   -0.843478\\nH      2.691435    0.625213    0.476548\\nH      1.353551   -0.079814    1.401270\\nH      0.553831    1.486013   -1.096092\\nH      1.363389    2.421830    0.172945\\n\",\"xyz\");\n\tviewergrid_16733584398694968[0][0].setViewStyle({\"style\": \"outline\", \"color\": \"black\", \"width\": 0.1});\n\tviewergrid_16733584398694968[0][1].setViewStyle({\"style\": \"outline\", \"color\": \"black\", \"width\": 0.1});\n\tviewergrid_16733584398694968[0][0].setStyle({\"stick\": {}});\n\tviewergrid_16733584398694968[0][1].setStyle({\"stick\": {}});\nviewergrid_16733584398694968[0][1].render();\nviewergrid_16733584398694968[0][0].render();\n});\n</script>",
      "text/html": [
       "<div id=\"3dmolviewer_16733584398694968\"  style=\"position: relative; width: 600px; height: 300px\">\n",
       "        <p id=\"3dmolwarning_16733584398694968\" style=\"background-color:#ffcccc;color:black\">You appear to be running in JupyterLab (or JavaScript failed to load for some other reason).  You need to install the 3dmol extension: <br>\n",
       "        <tt>jupyter labextension install jupyterlab_3dmol</tt></p>\n",
       "        </div>\n",
       "<script>\n",
       "\n",
       "var loadScriptAsync = function(uri){\n",
       "  return new Promise((resolve, reject) => {\n",
       "    //this is to ignore the existence of requirejs amd\n",
       "    var savedexports, savedmodule;\n",
       "    if (typeof exports !== 'undefined') savedexports = exports;\n",
       "    else exports = {}\n",
       "    if (typeof module !== 'undefined') savedmodule = module;\n",
       "    else module = {}\n",
       "\n",
       "    var tag = document.createElement('script');\n",
       "    tag.src = uri;\n",
       "    tag.async = true;\n",
       "    tag.onload = () => {\n",
       "        exports = savedexports;\n",
       "        module = savedmodule;\n",
       "        resolve();\n",
       "    };\n",
       "  var firstScriptTag = document.getElementsByTagName('script')[0];\n",
       "  firstScriptTag.parentNode.insertBefore(tag, firstScriptTag);\n",
       "});\n",
       "};\n",
       "\n",
       "if(typeof $3Dmolpromise === 'undefined') {\n",
       "$3Dmolpromise = null;\n",
       "  $3Dmolpromise = loadScriptAsync('https://cdn.jsdelivr.net/npm/3dmol@latest/build/3Dmol-min.min.js');\n",
       "}\n",
       "\n",
       "var viewer_16733584398694968 = null;\n",
       "var warn = document.getElementById(\"3dmolwarning_16733584398694968\");\n",
       "if(warn) {\n",
       "    warn.parentNode.removeChild(warn);\n",
       "}\n",
       "$3Dmolpromise.then(function() {\n",
       "var viewergrid_16733584398694968 = null;\n",
       "viewergrid_16733584398694968 = $3Dmol.createViewerGrid(document.getElementById(\"3dmolviewer_16733584398694968\"),{rows: 1, cols: 2, control_all: false},{backgroundColor:\"white\"});\n",
       "viewer_16733584398694968 = viewergrid_16733584398694968[0][0];\n",
       "viewergrid_16733584398694968[0][0].zoomTo();viewergrid_16733584398694968[0][1].zoomTo();\tviewergrid_16733584398694968[0][0].addModel(\"24\\n\\nC      1.590509   -0.381734   -0.518251\\nC      1.625335    0.964245    0.231010\\nC      0.339287    1.384131    0.962850\\nC     -0.865283    1.694920    0.058292\\nC     -1.464919    0.514656   -0.730166\\nC     -1.597102   -0.803067    0.062136\\nC     -0.520933   -1.844882   -0.292780\\nC      0.891155   -1.533060    0.234719\\nH      1.175992   -0.249456   -1.537132\\nH      2.649088   -0.678384   -0.689110\\nH      2.435133    0.909413    0.991549\\nH      1.914262    1.763987   -0.485197\\nH      0.577008    2.323478    1.508664\\nH      0.072502    0.662807    1.758344\\nH     -1.666359    2.112639    0.707129\\nH     -0.584863    2.497173   -0.658486\\nH     -0.918739    0.365100   -1.682405\\nH     -2.484948    0.827817   -1.045212\\nH     -1.641457   -0.632670    1.157732\\nH     -2.577355   -1.256331   -0.204633\\nH     -0.490920   -2.002748   -1.393275\\nH     -0.836058   -2.813501    0.153526\\nH      0.880455   -1.372533    1.332647\\nH      1.498208   -2.452001    0.078049\\n\",\"xyz\");\n",
       "\tviewergrid_16733584398694968[0][1].addModel(\"24\\n\\nC     -0.456100    1.495637    0.852579\\nC     -1.678886    0.968705    0.190676\\nC     -1.490332   -0.326654   -0.533568\\nC     -0.744535   -1.362148    0.229404\\nC      0.534301   -1.811086   -0.421027\\nC      1.503988   -0.721927   -0.690262\\nC      1.615431    0.299909    0.406630\\nC      0.766455    1.494435   -0.011330\\nH     -0.264427    0.949237    1.786837\\nH     -0.663342    2.555311    1.151639\\nH     -2.108379    1.698063   -0.542130\\nH     -2.463817    0.830980    0.962266\\nH     -2.525201   -0.715041   -0.768669\\nH     -1.026134   -0.174223   -1.543362\\nH     -0.589659   -0.998272    1.272839\\nH     -1.371490   -2.295398    0.351609\\nH      0.949839   -2.628756    0.220063\\nH      0.267826   -2.293401   -1.381456\\nH      1.266935   -0.224153   -1.643931\\nH      2.515321   -1.194462   -0.843478\\nH      2.691435    0.625213    0.476548\\nH      1.353551   -0.079814    1.401270\\nH      0.553831    1.486013   -1.096092\\nH      1.363389    2.421830    0.172945\\n\",\"xyz\");\n",
       "\tviewergrid_16733584398694968[0][0].setViewStyle({\"style\": \"outline\", \"color\": \"black\", \"width\": 0.1});\n",
       "\tviewergrid_16733584398694968[0][1].setViewStyle({\"style\": \"outline\", \"color\": \"black\", \"width\": 0.1});\n",
       "\tviewergrid_16733584398694968[0][0].setStyle({\"stick\": {}});\n",
       "\tviewergrid_16733584398694968[0][1].setStyle({\"stick\": {}});\n",
       "viewergrid_16733584398694968[0][1].render();\n",
       "viewergrid_16733584398694968[0][0].render();\n",
       "});\n",
       "</script>"
      ]
     },
     "metadata": {},
     "output_type": "display_data"
    }
   ],
   "source": [
    "hexane = smilestoxyz('C1CCCCCCC1')\n",
    "hexane_start = smilestoxyz('C1CCCCCCC1', opt=False)\n",
    "\n",
    "viewer = p3d.view(viewergrid=(1, 2), width=600, height=300, linked=False)\n",
    "viewer.addModel(hexane, 'xyz', viewer=(0, 0))\n",
    "viewer.addModel(hexane_start, 'xyz', viewer=(0, 1))\n",
    "viewer.setViewStyle({\"style\": \"outline\", \"color\": \"black\", \"width\": 0.1})\n",
    "viewer.setStyle({\"stick\": {}})\n",
    "viewer.show()"
   ]
  },
  {
   "cell_type": "code",
   "execution_count": 10,
   "id": "9ad2fed1",
   "metadata": {},
   "outputs": [
    {
     "ename": "NameError",
     "evalue": "name 'm3' is not defined",
     "output_type": "error",
     "traceback": [
      "\u001b[0;31m---------------------------------------------------------------------------\u001b[0m",
      "\u001b[0;31mNameError\u001b[0m                                 Traceback (most recent call last)",
      "Cell \u001b[0;32mIn[10], line 1\u001b[0m\n\u001b[0;32m----> 1\u001b[0m AllChem\u001b[38;5;241m.\u001b[39mEmbedMolecule(\u001b[43mm3\u001b[49m)\n\u001b[1;32m      2\u001b[0m AllChem\u001b[38;5;241m.\u001b[39mUFFOptimizeMolecule(m3)\n\u001b[1;32m      3\u001b[0m mol_xyz \u001b[38;5;241m=\u001b[39m Chem\u001b[38;5;241m.\u001b[39mMolToXYZBlock(m3)\n",
      "\u001b[0;31mNameError\u001b[0m: name 'm3' is not defined"
     ]
    }
   ],
   "source": [
    "\n",
    "AllChem.EmbedMolecule(m3)\n",
    "AllChem.UFFOptimizeMolecule(m3)\n",
    "mol_xyz = Chem.MolToXYZBlock(m3)\n",
    "print(mol_xyz)\n",
    "\n",
    "viewer = py3Dmol.view(width=400, height=300)\n",
    "# black outline for nicer-looking figures\n",
    "viewer.setViewStyle({\"style\": \"outline\", \"color\": \"black\", \"width\": 0.1})\n",
    "viewer.addModel(mol_xyz)\n",
    "# visualize with the stick option - can also consider spheres and more\n",
    "viewer.setStyle({\"stick\": {}})\n",
    "# rotate for a better initial view\n",
    "viewer.rotate(-90, \"y\")\n",
    "viewer.show()"
   ]
  },
  {
   "cell_type": "markdown",
   "id": "df304b1d",
   "metadata": {},
   "source": [
    "## Branched molecules\n",
    "\n",
    "For branching, it...\n",
    "\n",
    "- octane isomers"
   ]
  },
  {
   "cell_type": "code",
   "execution_count": null,
   "id": "4cfdc0ca",
   "metadata": {},
   "outputs": [],
   "source": []
  },
  {
   "cell_type": "markdown",
   "id": "349eccfa",
   "metadata": {},
   "source": [
    "## Ring systems\n",
    "\n",
    "Ring systems are constructed\n",
    "\n",
    "- cyclohexane\n",
    "- benzene\n",
    "\n",
    "Ring and substituted branch?"
   ]
  },
  {
   "cell_type": "code",
   "execution_count": null,
   "id": "7bad05a4",
   "metadata": {},
   "outputs": [],
   "source": []
  },
  {
   "cell_type": "markdown",
   "id": "b152e821",
   "metadata": {},
   "source": [
    "## More complex systems\n",
    "\n",
    "Guanine, which can be found on the [wiki](https://en.wikipedia.org/wiki/Guanine) entry:\n",
    "\n",
    "- keto\n",
    "\n",
    "- enol"
   ]
  },
  {
   "cell_type": "code",
   "execution_count": null,
   "id": "e207611b",
   "metadata": {},
   "outputs": [],
   "source": []
  }
 ],
 "metadata": {
  "kernelspec": {
   "display_name": "Python 3 (ipykernel)",
   "language": "python",
   "name": "python3"
  },
  "language_info": {
   "codemirror_mode": {
    "name": "ipython",
    "version": 3
   },
   "file_extension": ".py",
   "mimetype": "text/x-python",
   "name": "python",
   "nbconvert_exporter": "python",
   "pygments_lexer": "ipython3",
   "version": "3.9.15"
  }
 },
 "nbformat": 4,
 "nbformat_minor": 5
}
