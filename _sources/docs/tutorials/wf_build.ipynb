{
 "cells": [
  {
   "cell_type": "markdown",
   "id": "ff8a63c1-317c-4890-a059-85f7e2c9f1e6",
   "metadata": {},
   "source": [
    "# Building the system\n",
    "\n",
    "This section will focus on the construction of an initial molecular structure, which can be done using a number of ways:\n",
    "\n",
    "- Specify the structure using the simplified molecular-input line-entry system ([SMILES](https://en.wikipedia.org/wiki/Simplified_molecular-input_line-entry_system)) line notation, and employ a program which can build the molecule from this\n",
    "\n",
    "- Downloading a structure from the protein data bank ([PDB](https://www.rcsb.org/))\n",
    "\n",
    "- Using a graphical molecular editor, such as [Avogadro](https://avogadro.cc/)\n"
   ]
  },
  {
   "cell_type": "code",
   "execution_count": 1,
   "id": "ef9ec4dd",
   "metadata": {
    "tags": []
   },
   "outputs": [
    {
     "name": "stdout",
     "output_type": "stream",
     "text": [
      "* Warning * Environment variable OMP_NUM_THREADS not set.\n",
      "* Warning * Setting OMP_NUM_THREADS to 4.\n"
     ]
    }
   ],
   "source": [
    "import py3Dmol as p3d\n",
    "import veloxchem as vlx\n",
    "from IPython.display import SVG"
   ]
  },
  {
   "cell_type": "markdown",
   "id": "da4f7b09",
   "metadata": {},
   "source": [
    "(sec:from_smiles)=\n",
    "# Using SMILES\n",
    "\n",
    "\n",
    "In this section we will focus on the first option, using functionalities from the [RDkit](https://www.rdkit.org/) package (which can also read PDB-files). For a full description of how a molecule is written using SMILES can be found on, *e.g.*, the [wiki](https://en.wikipedia.org/wiki/Simplified_molecular-input_line-entry_system) entry --- here we will just illustrate some of the basic commands. Remember to make sure to visualize the resulting geometries and ensure they correspond to what you are interested in.\n",
    "\n",
    "As a first example, we obtain the SMILES string of caffeine from [wikipedia](https://en.wikipedia.org/wiki/Caffeine) and construct a force-field optimized structure expressed xyz-coordinates."
   ]
  },
  {
   "cell_type": "code",
   "execution_count": 2,
   "id": "af2bcbc2",
   "metadata": {
    "tags": []
   },
   "outputs": [],
   "source": [
    "smiles_str = 'CN1C=NC2=C1C(=O)N(C(=O)N2C)C'\n",
    "caffeine_molecule = vlx.Molecule.read_smiles(smiles_str)\n",
    "caffeine_xyz = caffeine_molecule.get_xyz_string()"
   ]
  },
  {
   "cell_type": "markdown",
   "id": "2fa8b94d",
   "metadata": {},
   "source": [
    "In `vlx.Molecule.read_smiles` we:\n",
    "\n",
    "1. Build the molecule, excluding implicit atoms (hydrogens)\n",
    "2. Add hydrogens\n",
    "3. Generate conformer\n",
    "4. Optimize using the Universal Force Field (UFF)\n",
    "5. Return the 'molecule' object\n",
    "\n",
    "This can then be converted to an xyz-string using `get_xyz_string`, and the resulting coordinates printed as:"
   ]
  },
  {
   "cell_type": "code",
   "execution_count": 3,
   "id": "e22acbc7-1f18-46f6-997d-fdfa751b0039",
   "metadata": {
    "tags": []
   },
   "outputs": [
    {
     "name": "stdout",
     "output_type": "stream",
     "text": [
      "24\n",
      "\n",
      "C 3.263017 0.665602 -0.212720\n",
      "N 2.130944 -0.255164 -0.199731\n",
      "C 2.169427 -1.598733 -0.377053\n",
      "N 0.942209 -2.179661 -0.328611\n",
      "C 0.122902 -1.131387 -0.108457\n",
      "C 0.826777 0.020965 -0.033402\n",
      "C 0.176416 1.232141 0.162798\n",
      "O 0.830662 2.309769 0.212003\n",
      "N -1.194119 1.221596 0.291480\n",
      "C -1.895573 0.031642 0.181110\n",
      "O -3.158218 0.040671 0.233363\n",
      "N -1.232449 -1.164517 0.007067\n",
      "C -1.967842 -2.428192 -0.134534\n",
      "C -1.923424 2.489165 0.463343\n",
      "H 4.214642 0.108953 -0.348684\n",
      "H 3.149265 1.386854 -1.048964\n",
      "H 3.309011 1.216933 0.749769\n",
      "H 3.081659 -2.156591 -0.545352\n",
      "H -1.328558 -3.298924 0.124931\n",
      "H -2.841765 -2.451853 0.551042\n",
      "H -2.320805 -2.537641 -1.181510\n",
      "H -2.839017 2.343970 1.075630\n",
      "H -2.209018 2.891819 -0.531182\n",
      "H -1.306144 3.242585 0.997663\n",
      "\n"
     ]
    }
   ],
   "source": [
    "print(caffeine_xyz)"
   ]
  },
  {
   "cell_type": "markdown",
   "id": "2d3efe54-1ebb-478d-8d7c-015e6a6cdc65",
   "metadata": {},
   "source": [
    "In order to immediately get the xyz-object, we can also use:"
   ]
  },
  {
   "cell_type": "code",
   "execution_count": 4,
   "id": "ec283686-a2ab-4e44-9e10-1d87910b1a06",
   "metadata": {
    "tags": []
   },
   "outputs": [],
   "source": [
    "caffeine_xyz = vlx.Molecule.smiles_to_xyz(smiles_str)"
   ]
  },
  {
   "cell_type": "markdown",
   "id": "e7672456-6cc3-41c2-bc6c-eeaa751e15f7",
   "metadata": {
    "tags": []
   },
   "source": [
    "We visualize the structure using py3Dmol:"
   ]
  },
  {
   "cell_type": "code",
   "execution_count": 5,
   "id": "66d104ff",
   "metadata": {
    "tags": []
   },
   "outputs": [
    {
     "data": {
      "application/3dmoljs_load.v0": "<div id=\"3dmolviewer_16835483725590768\"  style=\"position: relative; width: 400px; height: 300px\">\n        <p id=\"3dmolwarning_16835483725590768\" style=\"background-color:#ffcccc;color:black\">You appear to be running in JupyterLab (or JavaScript failed to load for some other reason).  You need to install the 3dmol extension: <br>\n        <tt>jupyter labextension install jupyterlab_3dmol</tt></p>\n        </div>\n<script>\n\nvar loadScriptAsync = function(uri){\n  return new Promise((resolve, reject) => {\n    //this is to ignore the existence of requirejs amd\n    var savedexports, savedmodule;\n    if (typeof exports !== 'undefined') savedexports = exports;\n    else exports = {}\n    if (typeof module !== 'undefined') savedmodule = module;\n    else module = {}\n\n    var tag = document.createElement('script');\n    tag.src = uri;\n    tag.async = true;\n    tag.onload = () => {\n        exports = savedexports;\n        module = savedmodule;\n        resolve();\n    };\n  var firstScriptTag = document.getElementsByTagName('script')[0];\n  firstScriptTag.parentNode.insertBefore(tag, firstScriptTag);\n});\n};\n\nif(typeof $3Dmolpromise === 'undefined') {\n$3Dmolpromise = null;\n  $3Dmolpromise = loadScriptAsync('https://cdnjs.cloudflare.com/ajax/libs/3Dmol/2.0.1/3Dmol-min.js');\n}\n\nvar viewer_16835483725590768 = null;\nvar warn = document.getElementById(\"3dmolwarning_16835483725590768\");\nif(warn) {\n    warn.parentNode.removeChild(warn);\n}\n$3Dmolpromise.then(function() {\nviewer_16835483725590768 = $3Dmol.createViewer(document.getElementById(\"3dmolviewer_16835483725590768\"),{backgroundColor:\"white\"});\nviewer_16835483725590768.zoomTo();\n\tviewer_16835483725590768.addModel(\"24\\n\\nC      3.315306   -0.024151    0.219982\\nN      2.040403    0.664102    0.045342\\nC      1.840048    2.002193   -0.040816\\nN      0.533938    2.337475   -0.206762\\nC     -0.083641    1.138729   -0.222467\\nC      0.811114    0.135584   -0.074015\\nC      0.391082   -1.187984   -0.068540\\nO      1.222666   -2.123011    0.092420\\nN     -0.949948   -1.445892   -0.242610\\nC     -1.850383   -0.400272   -0.370105\\nO     -3.082774   -0.646405   -0.503294\\nN     -1.418569    0.908920   -0.352358\\nC     -2.361185    2.021079   -0.533138\\nC     -1.438403   -2.834984   -0.222952\\nH      3.294384   -0.619516    1.156754\\nH      4.147068    0.709399    0.283291\\nH      3.499205   -0.696918   -0.643757\\nH      2.635849    2.733723    0.016298\\nH     -3.301330    1.830400    0.027307\\nH     -1.942356    2.975813   -0.149741\\nH     -2.595628    2.137838   -1.612086\\nH     -1.733006   -3.110881    0.811376\\nH     -2.311889   -2.961164   -0.897738\\nH     -0.661950   -3.544077   -0.581255\\n\",\"xyz\");\n\tviewer_16835483725590768.setViewStyle({\"style\": \"outline\", \"width\": 0.05});\n\tviewer_16835483725590768.setStyle({\"stick\": {}, \"sphere\": {\"scale\": 0.25}});\nviewer_16835483725590768.render();\n});\n</script>",
      "text/html": [
       "<div id=\"3dmolviewer_16835483725590768\"  style=\"position: relative; width: 400px; height: 300px\">\n",
       "        <p id=\"3dmolwarning_16835483725590768\" style=\"background-color:#ffcccc;color:black\">You appear to be running in JupyterLab (or JavaScript failed to load for some other reason).  You need to install the 3dmol extension: <br>\n",
       "        <tt>jupyter labextension install jupyterlab_3dmol</tt></p>\n",
       "        </div>\n",
       "<script>\n",
       "\n",
       "var loadScriptAsync = function(uri){\n",
       "  return new Promise((resolve, reject) => {\n",
       "    //this is to ignore the existence of requirejs amd\n",
       "    var savedexports, savedmodule;\n",
       "    if (typeof exports !== 'undefined') savedexports = exports;\n",
       "    else exports = {}\n",
       "    if (typeof module !== 'undefined') savedmodule = module;\n",
       "    else module = {}\n",
       "\n",
       "    var tag = document.createElement('script');\n",
       "    tag.src = uri;\n",
       "    tag.async = true;\n",
       "    tag.onload = () => {\n",
       "        exports = savedexports;\n",
       "        module = savedmodule;\n",
       "        resolve();\n",
       "    };\n",
       "  var firstScriptTag = document.getElementsByTagName('script')[0];\n",
       "  firstScriptTag.parentNode.insertBefore(tag, firstScriptTag);\n",
       "});\n",
       "};\n",
       "\n",
       "if(typeof $3Dmolpromise === 'undefined') {\n",
       "$3Dmolpromise = null;\n",
       "  $3Dmolpromise = loadScriptAsync('https://cdnjs.cloudflare.com/ajax/libs/3Dmol/2.0.1/3Dmol-min.js');\n",
       "}\n",
       "\n",
       "var viewer_16835483725590768 = null;\n",
       "var warn = document.getElementById(\"3dmolwarning_16835483725590768\");\n",
       "if(warn) {\n",
       "    warn.parentNode.removeChild(warn);\n",
       "}\n",
       "$3Dmolpromise.then(function() {\n",
       "viewer_16835483725590768 = $3Dmol.createViewer(document.getElementById(\"3dmolviewer_16835483725590768\"),{backgroundColor:\"white\"});\n",
       "viewer_16835483725590768.zoomTo();\n",
       "\tviewer_16835483725590768.addModel(\"24\\n\\nC      3.315306   -0.024151    0.219982\\nN      2.040403    0.664102    0.045342\\nC      1.840048    2.002193   -0.040816\\nN      0.533938    2.337475   -0.206762\\nC     -0.083641    1.138729   -0.222467\\nC      0.811114    0.135584   -0.074015\\nC      0.391082   -1.187984   -0.068540\\nO      1.222666   -2.123011    0.092420\\nN     -0.949948   -1.445892   -0.242610\\nC     -1.850383   -0.400272   -0.370105\\nO     -3.082774   -0.646405   -0.503294\\nN     -1.418569    0.908920   -0.352358\\nC     -2.361185    2.021079   -0.533138\\nC     -1.438403   -2.834984   -0.222952\\nH      3.294384   -0.619516    1.156754\\nH      4.147068    0.709399    0.283291\\nH      3.499205   -0.696918   -0.643757\\nH      2.635849    2.733723    0.016298\\nH     -3.301330    1.830400    0.027307\\nH     -1.942356    2.975813   -0.149741\\nH     -2.595628    2.137838   -1.612086\\nH     -1.733006   -3.110881    0.811376\\nH     -2.311889   -2.961164   -0.897738\\nH     -0.661950   -3.544077   -0.581255\\n\",\"xyz\");\n",
       "\tviewer_16835483725590768.setViewStyle({\"style\": \"outline\", \"width\": 0.05});\n",
       "\tviewer_16835483725590768.setStyle({\"stick\": {}, \"sphere\": {\"scale\": 0.25}});\n",
       "viewer_16835483725590768.render();\n",
       "});\n",
       "</script>"
      ]
     },
     "metadata": {},
     "output_type": "display_data"
    }
   ],
   "source": [
    "viewer = p3d.view(width=400, height=300)\n",
    "viewer.addModel(caffeine_xyz, 'xyz')\n",
    "viewer.setViewStyle({\"style\": \"outline\", \"width\": 0.05})\n",
    "viewer.setStyle({\"stick\":{},\"sphere\": {\"scale\":0.25}})\n",
    "viewer.show()"
   ]
  },
  {
   "cell_type": "markdown",
   "id": "c0b75ae2",
   "metadata": {},
   "source": [
    "This structure looks close to the actual equilibrium geometry, and in the next section we will discuss how to (further) [optimize the structure](wf_struct) using higher-level theory.\n",
    "\n",
    "\n",
    "For a 2D-representation:"
   ]
  },
  {
   "cell_type": "code",
   "execution_count": 6,
   "id": "33797b98",
   "metadata": {
    "tags": []
   },
   "outputs": [
    {
     "data": {
      "image/svg+xml": [
       "<svg xmlns=\"http://www.w3.org/2000/svg\" xmlns:rdkit=\"http://www.rdkit.org/xml\" xmlns:xlink=\"http://www.w3.org/1999/xlink\" version=\"1.1\" baseProfile=\"full\" xml:space=\"preserve\" width=\"300px\" height=\"300px\" viewBox=\"0 0 300 300\">\n",
       "<!-- END OF HEADER -->\n",
       "<rect style=\"opacity:1.0;fill:#FFFFFF;stroke:none\" width=\"300.0\" height=\"300.0\" x=\"0.0\" y=\"0.0\"> </rect>\n",
       "<path class=\"bond-0 atom-0 atom-1\" d=\"M 286.4,238.3 L 273.3,215.7\" style=\"fill:none;fill-rule:evenodd;stroke:#000000;stroke-width:2.0px;stroke-linecap:butt;stroke-linejoin:miter;stroke-opacity:1\"/>\n",
       "<path class=\"bond-0 atom-0 atom-1\" d=\"M 273.3,215.7 L 260.2,193.0\" style=\"fill:none;fill-rule:evenodd;stroke:#0000FF;stroke-width:2.0px;stroke-linecap:butt;stroke-linejoin:miter;stroke-opacity:1\"/>\n",
       "<path class=\"bond-1 atom-1 atom-2\" d=\"M 258.5,169.5 L 268.0,147.8\" style=\"fill:none;fill-rule:evenodd;stroke:#0000FF;stroke-width:2.0px;stroke-linecap:butt;stroke-linejoin:miter;stroke-opacity:1\"/>\n",
       "<path class=\"bond-1 atom-1 atom-2\" d=\"M 268.0,147.8 L 277.6,126.2\" style=\"fill:none;fill-rule:evenodd;stroke:#000000;stroke-width:2.0px;stroke-linecap:butt;stroke-linejoin:miter;stroke-opacity:1\"/>\n",
       "<path class=\"bond-2 atom-2 atom-3\" d=\"M 277.6,126.2 L 260.9,108.8\" style=\"fill:none;fill-rule:evenodd;stroke:#000000;stroke-width:2.0px;stroke-linecap:butt;stroke-linejoin:miter;stroke-opacity:1\"/>\n",
       "<path class=\"bond-2 atom-2 atom-3\" d=\"M 260.9,108.8 L 244.2,91.5\" style=\"fill:none;fill-rule:evenodd;stroke:#0000FF;stroke-width:2.0px;stroke-linecap:butt;stroke-linejoin:miter;stroke-opacity:1\"/>\n",
       "<path class=\"bond-2 atom-2 atom-3\" d=\"M 266.4,128.2 L 252.0,113.1\" style=\"fill:none;fill-rule:evenodd;stroke:#000000;stroke-width:2.0px;stroke-linecap:butt;stroke-linejoin:miter;stroke-opacity:1\"/>\n",
       "<path class=\"bond-2 atom-2 atom-3\" d=\"M 252.0,113.1 L 237.5,98.0\" style=\"fill:none;fill-rule:evenodd;stroke:#0000FF;stroke-width:2.0px;stroke-linecap:butt;stroke-linejoin:miter;stroke-opacity:1\"/>\n",
       "<path class=\"bond-3 atom-3 atom-4\" d=\"M 225.4,87.1 L 203.8,99.3\" style=\"fill:none;fill-rule:evenodd;stroke:#0000FF;stroke-width:2.0px;stroke-linecap:butt;stroke-linejoin:miter;stroke-opacity:1\"/>\n",
       "<path class=\"bond-3 atom-3 atom-4\" d=\"M 203.8,99.3 L 182.2,111.6\" style=\"fill:none;fill-rule:evenodd;stroke:#000000;stroke-width:2.0px;stroke-linecap:butt;stroke-linejoin:miter;stroke-opacity:1\"/>\n",
       "<path class=\"bond-4 atom-4 atom-5\" d=\"M 182.2,111.6 L 192.9,171.1\" style=\"fill:none;fill-rule:evenodd;stroke:#000000;stroke-width:2.0px;stroke-linecap:butt;stroke-linejoin:miter;stroke-opacity:1\"/>\n",
       "<path class=\"bond-4 atom-4 atom-5\" d=\"M 192.6,116.5 L 201.0,162.9\" style=\"fill:none;fill-rule:evenodd;stroke:#000000;stroke-width:2.0px;stroke-linecap:butt;stroke-linejoin:miter;stroke-opacity:1\"/>\n",
       "<path class=\"bond-5 atom-5 atom-6\" d=\"M 192.9,171.1 L 144.9,210.7\" style=\"fill:none;fill-rule:evenodd;stroke:#000000;stroke-width:2.0px;stroke-linecap:butt;stroke-linejoin:miter;stroke-opacity:1\"/>\n",
       "<path class=\"bond-6 atom-6 atom-7\" d=\"M 139.7,208.6 L 143.9,232.0\" style=\"fill:none;fill-rule:evenodd;stroke:#000000;stroke-width:2.0px;stroke-linecap:butt;stroke-linejoin:miter;stroke-opacity:1\"/>\n",
       "<path class=\"bond-6 atom-6 atom-7\" d=\"M 143.9,232.0 L 148.1,255.3\" style=\"fill:none;fill-rule:evenodd;stroke:#FF0000;stroke-width:2.0px;stroke-linecap:butt;stroke-linejoin:miter;stroke-opacity:1\"/>\n",
       "<path class=\"bond-6 atom-6 atom-7\" d=\"M 149.0,207.2 L 153.1,230.3\" style=\"fill:none;fill-rule:evenodd;stroke:#000000;stroke-width:2.0px;stroke-linecap:butt;stroke-linejoin:miter;stroke-opacity:1\"/>\n",
       "<path class=\"bond-6 atom-6 atom-7\" d=\"M 153.1,230.3 L 157.3,253.7\" style=\"fill:none;fill-rule:evenodd;stroke:#FF0000;stroke-width:2.0px;stroke-linecap:butt;stroke-linejoin:miter;stroke-opacity:1\"/>\n",
       "<path class=\"bond-7 atom-6 atom-8\" d=\"M 144.9,210.7 L 120.4,201.0\" style=\"fill:none;fill-rule:evenodd;stroke:#000000;stroke-width:2.0px;stroke-linecap:butt;stroke-linejoin:miter;stroke-opacity:1\"/>\n",
       "<path class=\"bond-7 atom-6 atom-8\" d=\"M 120.4,201.0 L 95.9,191.3\" style=\"fill:none;fill-rule:evenodd;stroke:#0000FF;stroke-width:2.0px;stroke-linecap:butt;stroke-linejoin:miter;stroke-opacity:1\"/>\n",
       "<path class=\"bond-8 atom-8 atom-9\" d=\"M 84.5,175.8 L 80.5,151.2\" style=\"fill:none;fill-rule:evenodd;stroke:#0000FF;stroke-width:2.0px;stroke-linecap:butt;stroke-linejoin:miter;stroke-opacity:1\"/>\n",
       "<path class=\"bond-8 atom-8 atom-9\" d=\"M 80.5,151.2 L 76.5,126.7\" style=\"fill:none;fill-rule:evenodd;stroke:#000000;stroke-width:2.0px;stroke-linecap:butt;stroke-linejoin:miter;stroke-opacity:1\"/>\n",
       "<path class=\"bond-9 atom-9 atom-10\" d=\"M 80.7,123.3 L 57.9,114.8\" style=\"fill:none;fill-rule:evenodd;stroke:#000000;stroke-width:2.0px;stroke-linecap:butt;stroke-linejoin:miter;stroke-opacity:1\"/>\n",
       "<path class=\"bond-9 atom-9 atom-10\" d=\"M 57.9,114.8 L 35.1,106.3\" style=\"fill:none;fill-rule:evenodd;stroke:#FF0000;stroke-width:2.0px;stroke-linecap:butt;stroke-linejoin:miter;stroke-opacity:1\"/>\n",
       "<path class=\"bond-9 atom-9 atom-10\" d=\"M 77.4,132.0 L 54.6,123.6\" style=\"fill:none;fill-rule:evenodd;stroke:#000000;stroke-width:2.0px;stroke-linecap:butt;stroke-linejoin:miter;stroke-opacity:1\"/>\n",
       "<path class=\"bond-9 atom-9 atom-10\" d=\"M 54.6,123.6 L 31.9,115.1\" style=\"fill:none;fill-rule:evenodd;stroke:#FF0000;stroke-width:2.0px;stroke-linecap:butt;stroke-linejoin:miter;stroke-opacity:1\"/>\n",
       "<path class=\"bond-10 atom-9 atom-11\" d=\"M 76.5,126.7 L 95.9,111.1\" style=\"fill:none;fill-rule:evenodd;stroke:#000000;stroke-width:2.0px;stroke-linecap:butt;stroke-linejoin:miter;stroke-opacity:1\"/>\n",
       "<path class=\"bond-10 atom-9 atom-11\" d=\"M 95.9,111.1 L 115.4,95.4\" style=\"fill:none;fill-rule:evenodd;stroke:#0000FF;stroke-width:2.0px;stroke-linecap:butt;stroke-linejoin:miter;stroke-opacity:1\"/>\n",
       "<path class=\"bond-11 atom-11 atom-12\" d=\"M 123.0,76.0 L 118.8,49.8\" style=\"fill:none;fill-rule:evenodd;stroke:#0000FF;stroke-width:2.0px;stroke-linecap:butt;stroke-linejoin:miter;stroke-opacity:1\"/>\n",
       "<path class=\"bond-11 atom-11 atom-12\" d=\"M 118.8,49.8 L 114.7,23.5\" style=\"fill:none;fill-rule:evenodd;stroke:#000000;stroke-width:2.0px;stroke-linecap:butt;stroke-linejoin:miter;stroke-opacity:1\"/>\n",
       "<path class=\"bond-12 atom-8 atom-13\" d=\"M 77.0,194.9 L 55.6,211.6\" style=\"fill:none;fill-rule:evenodd;stroke:#0000FF;stroke-width:2.0px;stroke-linecap:butt;stroke-linejoin:miter;stroke-opacity:1\"/>\n",
       "<path class=\"bond-12 atom-8 atom-13\" d=\"M 55.6,211.6 L 34.1,228.4\" style=\"fill:none;fill-rule:evenodd;stroke:#000000;stroke-width:2.0px;stroke-linecap:butt;stroke-linejoin:miter;stroke-opacity:1\"/>\n",
       "<path class=\"bond-13 atom-5 atom-1\" d=\"M 192.9,171.1 L 218.4,175.4\" style=\"fill:none;fill-rule:evenodd;stroke:#000000;stroke-width:2.0px;stroke-linecap:butt;stroke-linejoin:miter;stroke-opacity:1\"/>\n",
       "<path class=\"bond-13 atom-5 atom-1\" d=\"M 218.4,175.4 L 243.9,179.7\" style=\"fill:none;fill-rule:evenodd;stroke:#0000FF;stroke-width:2.0px;stroke-linecap:butt;stroke-linejoin:miter;stroke-opacity:1\"/>\n",
       "<path class=\"bond-14 atom-11 atom-4\" d=\"M 134.2,91.7 L 158.2,101.6\" style=\"fill:none;fill-rule:evenodd;stroke:#0000FF;stroke-width:2.0px;stroke-linecap:butt;stroke-linejoin:miter;stroke-opacity:1\"/>\n",
       "<path class=\"bond-14 atom-11 atom-4\" d=\"M 158.2,101.6 L 182.2,111.6\" style=\"fill:none;fill-rule:evenodd;stroke:#000000;stroke-width:2.0px;stroke-linecap:butt;stroke-linejoin:miter;stroke-opacity:1\"/>\n",
       "<path d=\"M 277.1,127.3 L 277.6,126.2 L 276.7,125.3\" style=\"fill:none;stroke:#000000;stroke-width:2.0px;stroke-linecap:butt;stroke-linejoin:miter;stroke-opacity:1;\"/>\n",
       "<path d=\"M 147.3,208.7 L 144.9,210.7 L 143.6,210.2\" style=\"fill:none;stroke:#000000;stroke-width:2.0px;stroke-linecap:butt;stroke-linejoin:miter;stroke-opacity:1;\"/>\n",
       "<path d=\"M 76.7,127.9 L 76.5,126.7 L 77.5,125.9\" style=\"fill:none;stroke:#000000;stroke-width:2.0px;stroke-linecap:butt;stroke-linejoin:miter;stroke-opacity:1;\"/>\n",
       "<path class=\"atom-1\" d=\"M 249.1 171.6 L 255.4 181.8 Q 256.1 182.8, 257.1 184.7 Q 258.1 186.5, 258.1 186.6 L 258.1 171.6 L 260.7 171.6 L 260.7 190.9 L 258.1 190.9 L 251.2 179.7 Q 250.4 178.4, 249.6 176.9 Q 248.8 175.4, 248.5 174.9 L 248.5 190.9 L 246.0 190.9 L 246.0 171.6 L 249.1 171.6 \" fill=\"#0000FF\"/>\n",
       "<path class=\"atom-3\" d=\"M 230.5 72.0 L 236.9 82.3 Q 237.5 83.3, 238.5 85.1 Q 239.6 87.0, 239.6 87.1 L 239.6 72.0 L 242.2 72.0 L 242.2 91.4 L 239.5 91.4 L 232.7 80.2 Q 231.9 78.9, 231.1 77.4 Q 230.2 75.9, 230.0 75.4 L 230.0 91.4 L 227.5 91.4 L 227.5 72.0 L 230.5 72.0 \" fill=\"#0000FF\"/>\n",
       "<path class=\"atom-7\" d=\"M 145.9 266.4 Q 145.9 261.8, 148.2 259.2 Q 150.5 256.6, 154.8 256.6 Q 159.1 256.6, 161.4 259.2 Q 163.7 261.8, 163.7 266.4 Q 163.7 271.1, 161.4 273.8 Q 159.1 276.5, 154.8 276.5 Q 150.5 276.5, 148.2 273.8 Q 145.9 271.2, 145.9 266.4 M 154.8 274.3 Q 157.8 274.3, 159.4 272.3 Q 161.0 270.3, 161.0 266.4 Q 161.0 262.6, 159.4 260.7 Q 157.8 258.7, 154.8 258.7 Q 151.9 258.7, 150.2 260.7 Q 148.6 262.6, 148.6 266.4 Q 148.6 270.3, 150.2 272.3 Q 151.9 274.3, 154.8 274.3 \" fill=\"#FF0000\"/>\n",
       "<path class=\"atom-8\" d=\"M 82.1 177.8 L 88.5 188.1 Q 89.1 189.1, 90.1 190.9 Q 91.2 192.8, 91.2 192.9 L 91.2 177.8 L 93.8 177.8 L 93.8 197.2 L 91.1 197.2 L 84.3 186.0 Q 83.5 184.7, 82.7 183.2 Q 81.8 181.7, 81.6 181.2 L 81.6 197.2 L 79.1 197.2 L 79.1 177.8 L 82.1 177.8 \" fill=\"#0000FF\"/>\n",
       "<path class=\"atom-10\" d=\"M 13.6 106.7 Q 13.6 102.0, 15.9 99.4 Q 18.2 96.8, 22.5 96.8 Q 26.8 96.8, 29.1 99.4 Q 31.4 102.0, 31.4 106.7 Q 31.4 111.4, 29.1 114.1 Q 26.8 116.7, 22.5 116.7 Q 18.3 116.7, 15.9 114.1 Q 13.6 111.4, 13.6 106.7 M 22.5 114.5 Q 25.5 114.5, 27.1 112.6 Q 28.7 110.6, 28.7 106.7 Q 28.7 102.9, 27.1 100.9 Q 25.5 99.0, 22.5 99.0 Q 19.6 99.0, 18.0 100.9 Q 16.4 102.8, 16.4 106.7 Q 16.4 110.6, 18.0 112.6 Q 19.6 114.5, 22.5 114.5 \" fill=\"#FF0000\"/>\n",
       "<path class=\"atom-11\" d=\"M 120.5 78.1 L 126.9 88.4 Q 127.5 89.4, 128.5 91.2 Q 129.5 93.1, 129.6 93.2 L 129.6 78.1 L 132.2 78.1 L 132.2 97.5 L 129.5 97.5 L 122.7 86.3 Q 121.9 85.0, 121.0 83.5 Q 120.2 81.9, 120.0 81.5 L 120.0 97.5 L 117.5 97.5 L 117.5 78.1 L 120.5 78.1 \" fill=\"#0000FF\"/>\n",
       "</svg>"
      ],
      "text/plain": [
       "<IPython.core.display.SVG object>"
      ]
     },
     "metadata": {},
     "output_type": "display_data"
    }
   ],
   "source": [
    "vlx.Molecule.draw_2d_svg(smiles_str, width=300, height=300)"
   ]
  },
  {
   "cell_type": "markdown",
   "id": "4cd42682",
   "metadata": {},
   "source": [
    "Note that the image will look somewhat different each time, as the initial conformer and UFF optimized structure will have different orientations, which will affect the projection to 2D --- this is particularly the case for larger molecules extending in all three directions. Still, for many molecules this will work well, and you can save the .svg-figure with right-click save.\n",
    "\n",
    "\n",
    "## Bond type\n",
    "\n",
    "The basic principle of SMILES is to start at a suitable part of the molecule, and build the full molecule by sequentially describing the connections of each atom/functional group in turn. Hydrogens are typically added implicitly, and thus do not need to be specified. As such, the first four alkanes can simply be written with an increasing number of `C`:"
   ]
  },
  {
   "cell_type": "code",
   "execution_count": 7,
   "id": "b246d31d",
   "metadata": {
    "tags": []
   },
   "outputs": [
    {
     "data": {
      "application/3dmoljs_load.v0": "<div id=\"3dmolviewer_16835483726380975\"  style=\"position: relative; width: 500px; height: 300px\">\n        <p id=\"3dmolwarning_16835483726380975\" style=\"background-color:#ffcccc;color:black\">You appear to be running in JupyterLab (or JavaScript failed to load for some other reason).  You need to install the 3dmol extension: <br>\n        <tt>jupyter labextension install jupyterlab_3dmol</tt></p>\n        </div>\n<script>\n\nvar loadScriptAsync = function(uri){\n  return new Promise((resolve, reject) => {\n    //this is to ignore the existence of requirejs amd\n    var savedexports, savedmodule;\n    if (typeof exports !== 'undefined') savedexports = exports;\n    else exports = {}\n    if (typeof module !== 'undefined') savedmodule = module;\n    else module = {}\n\n    var tag = document.createElement('script');\n    tag.src = uri;\n    tag.async = true;\n    tag.onload = () => {\n        exports = savedexports;\n        module = savedmodule;\n        resolve();\n    };\n  var firstScriptTag = document.getElementsByTagName('script')[0];\n  firstScriptTag.parentNode.insertBefore(tag, firstScriptTag);\n});\n};\n\nif(typeof $3Dmolpromise === 'undefined') {\n$3Dmolpromise = null;\n  $3Dmolpromise = loadScriptAsync('https://cdnjs.cloudflare.com/ajax/libs/3Dmol/2.0.1/3Dmol-min.js');\n}\n\nvar viewer_16835483726380975 = null;\nvar warn = document.getElementById(\"3dmolwarning_16835483726380975\");\nif(warn) {\n    warn.parentNode.removeChild(warn);\n}\n$3Dmolpromise.then(function() {\nvar viewergrid_16835483726380975 = null;\nviewergrid_16835483726380975 = $3Dmol.createViewerGrid(document.getElementById(\"3dmolviewer_16835483726380975\"),{rows: 2, cols: 2, control_all: false},{backgroundColor:\"white\"});\nviewer_16835483726380975 = viewergrid_16835483726380975[0][0];\nviewergrid_16835483726380975[0][0].zoomTo();viewergrid_16835483726380975[0][1].zoomTo();viewergrid_16835483726380975[1][0].zoomTo();viewergrid_16835483726380975[1][1].zoomTo();\tviewergrid_16835483726380975[0][0].addModel(\"5\\n\\nC      0.000001   -0.000001   -0.000000\\nH      0.848025   -0.681618    0.216850\\nH      0.362238    0.863121   -0.595462\\nH     -0.434401    0.364757    0.953423\\nH     -0.775863   -0.546260   -0.574811\\n\",\"xyz\");\n\tviewergrid_16835483726380975[0][1].addModel(\"8\\n\\nC     -0.759011   -0.029082    0.005779\\nC      0.759011    0.029082   -0.005779\\nH     -1.094350   -1.063867    0.228772\\nH     -1.154932    0.275932   -0.985771\\nH     -1.156085    0.657455    0.782925\\nH      1.154932   -0.275933    0.985771\\nH      1.094350    1.063868   -0.228771\\nH      1.156085   -0.657454   -0.782926\\n\",\"xyz\");\n\tviewergrid_16835483726380975[1][0].addModel(\"11\\n\\nC      1.257278   -0.247440   -0.038895\\nC     -0.009812    0.583721   -0.215592\\nC     -1.249760   -0.199835    0.204092\\nH      1.207899   -1.163985   -0.664716\\nH      1.383714   -0.536469    1.026291\\nH      2.139669    0.349394   -0.352116\\nH     -0.107513    0.881257   -1.281925\\nH      0.067394    1.505542    0.400382\\nH     -1.355949   -1.115300   -0.416226\\nH     -1.180134   -0.487789    1.274783\\nH     -2.152785    0.430903    0.063921\\n\",\"xyz\");\n\tviewergrid_16835483726380975[1][1].addModel(\"14\\n\\nC      1.467096    0.717599    0.296763\\nC      0.769951   -0.350581   -0.545143\\nC     -0.537512   -0.846036    0.090650\\nC     -1.646335    0.205142    0.053709\\nH      2.452875    0.957494   -0.154527\\nH      1.632687    0.349926    1.331744\\nH      0.864883    1.649158    0.326663\\nH      1.459279   -1.216264   -0.650164\\nH      0.573097    0.047797   -1.564228\\nH     -0.885191   -1.739197   -0.472369\\nH     -0.356945   -1.160570    1.141580\\nH     -1.809715    0.561413   -0.985602\\nH     -1.392481    1.066988    0.704968\\nH     -2.591687   -0.242868    0.425956\\n\",\"xyz\");\n\tviewergrid_16835483726380975[0][0].setViewStyle({\"style\": \"outline\", \"width\": 0.05});\n\tviewergrid_16835483726380975[0][1].setViewStyle({\"style\": \"outline\", \"width\": 0.05});\n\tviewergrid_16835483726380975[1][0].setViewStyle({\"style\": \"outline\", \"width\": 0.05});\n\tviewergrid_16835483726380975[1][1].setViewStyle({\"style\": \"outline\", \"width\": 0.05});\n\tviewergrid_16835483726380975[0][0].setStyle({\"stick\": {}, \"sphere\": {\"scale\": 0.25}});\n\tviewergrid_16835483726380975[0][1].setStyle({\"stick\": {}, \"sphere\": {\"scale\": 0.25}});\n\tviewergrid_16835483726380975[1][0].setStyle({\"stick\": {}, \"sphere\": {\"scale\": 0.25}});\n\tviewergrid_16835483726380975[1][1].setStyle({\"stick\": {}, \"sphere\": {\"scale\": 0.25}});\nviewergrid_16835483726380975[1][1].render();\nviewergrid_16835483726380975[1][0].render();\nviewergrid_16835483726380975[0][1].render();\nviewergrid_16835483726380975[0][0].render();\n});\n</script>",
      "text/html": [
       "<div id=\"3dmolviewer_16835483726380975\"  style=\"position: relative; width: 500px; height: 300px\">\n",
       "        <p id=\"3dmolwarning_16835483726380975\" style=\"background-color:#ffcccc;color:black\">You appear to be running in JupyterLab (or JavaScript failed to load for some other reason).  You need to install the 3dmol extension: <br>\n",
       "        <tt>jupyter labextension install jupyterlab_3dmol</tt></p>\n",
       "        </div>\n",
       "<script>\n",
       "\n",
       "var loadScriptAsync = function(uri){\n",
       "  return new Promise((resolve, reject) => {\n",
       "    //this is to ignore the existence of requirejs amd\n",
       "    var savedexports, savedmodule;\n",
       "    if (typeof exports !== 'undefined') savedexports = exports;\n",
       "    else exports = {}\n",
       "    if (typeof module !== 'undefined') savedmodule = module;\n",
       "    else module = {}\n",
       "\n",
       "    var tag = document.createElement('script');\n",
       "    tag.src = uri;\n",
       "    tag.async = true;\n",
       "    tag.onload = () => {\n",
       "        exports = savedexports;\n",
       "        module = savedmodule;\n",
       "        resolve();\n",
       "    };\n",
       "  var firstScriptTag = document.getElementsByTagName('script')[0];\n",
       "  firstScriptTag.parentNode.insertBefore(tag, firstScriptTag);\n",
       "});\n",
       "};\n",
       "\n",
       "if(typeof $3Dmolpromise === 'undefined') {\n",
       "$3Dmolpromise = null;\n",
       "  $3Dmolpromise = loadScriptAsync('https://cdnjs.cloudflare.com/ajax/libs/3Dmol/2.0.1/3Dmol-min.js');\n",
       "}\n",
       "\n",
       "var viewer_16835483726380975 = null;\n",
       "var warn = document.getElementById(\"3dmolwarning_16835483726380975\");\n",
       "if(warn) {\n",
       "    warn.parentNode.removeChild(warn);\n",
       "}\n",
       "$3Dmolpromise.then(function() {\n",
       "var viewergrid_16835483726380975 = null;\n",
       "viewergrid_16835483726380975 = $3Dmol.createViewerGrid(document.getElementById(\"3dmolviewer_16835483726380975\"),{rows: 2, cols: 2, control_all: false},{backgroundColor:\"white\"});\n",
       "viewer_16835483726380975 = viewergrid_16835483726380975[0][0];\n",
       "viewergrid_16835483726380975[0][0].zoomTo();viewergrid_16835483726380975[0][1].zoomTo();viewergrid_16835483726380975[1][0].zoomTo();viewergrid_16835483726380975[1][1].zoomTo();\tviewergrid_16835483726380975[0][0].addModel(\"5\\n\\nC      0.000001   -0.000001   -0.000000\\nH      0.848025   -0.681618    0.216850\\nH      0.362238    0.863121   -0.595462\\nH     -0.434401    0.364757    0.953423\\nH     -0.775863   -0.546260   -0.574811\\n\",\"xyz\");\n",
       "\tviewergrid_16835483726380975[0][1].addModel(\"8\\n\\nC     -0.759011   -0.029082    0.005779\\nC      0.759011    0.029082   -0.005779\\nH     -1.094350   -1.063867    0.228772\\nH     -1.154932    0.275932   -0.985771\\nH     -1.156085    0.657455    0.782925\\nH      1.154932   -0.275933    0.985771\\nH      1.094350    1.063868   -0.228771\\nH      1.156085   -0.657454   -0.782926\\n\",\"xyz\");\n",
       "\tviewergrid_16835483726380975[1][0].addModel(\"11\\n\\nC      1.257278   -0.247440   -0.038895\\nC     -0.009812    0.583721   -0.215592\\nC     -1.249760   -0.199835    0.204092\\nH      1.207899   -1.163985   -0.664716\\nH      1.383714   -0.536469    1.026291\\nH      2.139669    0.349394   -0.352116\\nH     -0.107513    0.881257   -1.281925\\nH      0.067394    1.505542    0.400382\\nH     -1.355949   -1.115300   -0.416226\\nH     -1.180134   -0.487789    1.274783\\nH     -2.152785    0.430903    0.063921\\n\",\"xyz\");\n",
       "\tviewergrid_16835483726380975[1][1].addModel(\"14\\n\\nC      1.467096    0.717599    0.296763\\nC      0.769951   -0.350581   -0.545143\\nC     -0.537512   -0.846036    0.090650\\nC     -1.646335    0.205142    0.053709\\nH      2.452875    0.957494   -0.154527\\nH      1.632687    0.349926    1.331744\\nH      0.864883    1.649158    0.326663\\nH      1.459279   -1.216264   -0.650164\\nH      0.573097    0.047797   -1.564228\\nH     -0.885191   -1.739197   -0.472369\\nH     -0.356945   -1.160570    1.141580\\nH     -1.809715    0.561413   -0.985602\\nH     -1.392481    1.066988    0.704968\\nH     -2.591687   -0.242868    0.425956\\n\",\"xyz\");\n",
       "\tviewergrid_16835483726380975[0][0].setViewStyle({\"style\": \"outline\", \"width\": 0.05});\n",
       "\tviewergrid_16835483726380975[0][1].setViewStyle({\"style\": \"outline\", \"width\": 0.05});\n",
       "\tviewergrid_16835483726380975[1][0].setViewStyle({\"style\": \"outline\", \"width\": 0.05});\n",
       "\tviewergrid_16835483726380975[1][1].setViewStyle({\"style\": \"outline\", \"width\": 0.05});\n",
       "\tviewergrid_16835483726380975[0][0].setStyle({\"stick\": {}, \"sphere\": {\"scale\": 0.25}});\n",
       "\tviewergrid_16835483726380975[0][1].setStyle({\"stick\": {}, \"sphere\": {\"scale\": 0.25}});\n",
       "\tviewergrid_16835483726380975[1][0].setStyle({\"stick\": {}, \"sphere\": {\"scale\": 0.25}});\n",
       "\tviewergrid_16835483726380975[1][1].setStyle({\"stick\": {}, \"sphere\": {\"scale\": 0.25}});\n",
       "viewergrid_16835483726380975[1][1].render();\n",
       "viewergrid_16835483726380975[1][0].render();\n",
       "viewergrid_16835483726380975[0][1].render();\n",
       "viewergrid_16835483726380975[0][0].render();\n",
       "});\n",
       "</script>"
      ]
     },
     "metadata": {},
     "output_type": "display_data"
    }
   ],
   "source": [
    "methane_xyz = vlx.Molecule.smiles_to_xyz('C')\n",
    "ethane_xyz = vlx.Molecule.smiles_to_xyz('CC')\n",
    "propane_xyz = vlx.Molecule.smiles_to_xyz('CCC')\n",
    "butane_xyz = vlx.Molecule.smiles_to_xyz('CCCC')\n",
    "\n",
    "viewer = p3d.view(viewergrid=(2, 2), width=500, height=300, linked=False)\n",
    "viewer.addModel(methane_xyz, 'xyz', viewer=(0, 0))\n",
    "viewer.addModel(ethane_xyz, 'xyz', viewer=(0, 1))\n",
    "viewer.addModel(propane_xyz, 'xyz', viewer=(1, 0))\n",
    "viewer.addModel(butane_xyz, 'xyz', viewer=(1, 1))\n",
    "viewer.setViewStyle({\"style\": \"outline\", \"width\": 0.05})\n",
    "viewer.setStyle({\"stick\":{},\"sphere\": {\"scale\":0.25}})\n",
    "viewer.show()"
   ]
  },
  {
   "cell_type": "markdown",
   "id": "dfcdffbd",
   "metadata": {},
   "source": [
    "Bond types are specified with different symbols between two atoms, with `-`, `#`, and `#`, for single-, double-, and triple-bonds, respectively, and other bond types are possible (see, *e.g.*, [wikipedia](https://en.wikipedia.org/wiki/Simplified_molecular-input_line-entry_system)). Single bonds is assumed if no bond type is specified.\n",
    "\n",
    "For example, ethane, ethene, and ethyne are constructed as:"
   ]
  },
  {
   "cell_type": "code",
   "execution_count": 8,
   "id": "fc73aeeb",
   "metadata": {
    "tags": []
   },
   "outputs": [
    {
     "data": {
      "application/3dmoljs_load.v0": "<div id=\"3dmolviewer_16835483726580627\"  style=\"position: relative; width: 400px; height: 200px\">\n        <p id=\"3dmolwarning_16835483726580627\" style=\"background-color:#ffcccc;color:black\">You appear to be running in JupyterLab (or JavaScript failed to load for some other reason).  You need to install the 3dmol extension: <br>\n        <tt>jupyter labextension install jupyterlab_3dmol</tt></p>\n        </div>\n<script>\n\nvar loadScriptAsync = function(uri){\n  return new Promise((resolve, reject) => {\n    //this is to ignore the existence of requirejs amd\n    var savedexports, savedmodule;\n    if (typeof exports !== 'undefined') savedexports = exports;\n    else exports = {}\n    if (typeof module !== 'undefined') savedmodule = module;\n    else module = {}\n\n    var tag = document.createElement('script');\n    tag.src = uri;\n    tag.async = true;\n    tag.onload = () => {\n        exports = savedexports;\n        module = savedmodule;\n        resolve();\n    };\n  var firstScriptTag = document.getElementsByTagName('script')[0];\n  firstScriptTag.parentNode.insertBefore(tag, firstScriptTag);\n});\n};\n\nif(typeof $3Dmolpromise === 'undefined') {\n$3Dmolpromise = null;\n  $3Dmolpromise = loadScriptAsync('https://cdnjs.cloudflare.com/ajax/libs/3Dmol/2.0.1/3Dmol-min.js');\n}\n\nvar viewer_16835483726580627 = null;\nvar warn = document.getElementById(\"3dmolwarning_16835483726580627\");\nif(warn) {\n    warn.parentNode.removeChild(warn);\n}\n$3Dmolpromise.then(function() {\nvar viewergrid_16835483726580627 = null;\nviewergrid_16835483726580627 = $3Dmol.createViewerGrid(document.getElementById(\"3dmolviewer_16835483726580627\"),{rows: 1, cols: 3, control_all: false},{backgroundColor:\"white\"});\nviewer_16835483726580627 = viewergrid_16835483726580627[0][0];\nviewergrid_16835483726580627[0][0].zoomTo();viewergrid_16835483726580627[0][1].zoomTo();viewergrid_16835483726580627[0][2].zoomTo();\tviewergrid_16835483726580627[0][0].addModel(\"8\\n\\nC      0.756625   -0.043717    0.050842\\nC     -0.756625    0.043717   -0.050842\\nH      1.165291    0.920002    0.421241\\nH      1.040360   -0.853904    0.755150\\nH      1.189009   -0.262237   -0.948283\\nH     -1.189010    0.262233    0.948284\\nH     -1.165291   -0.920001   -0.421245\\nH     -1.040360    0.853907   -0.755146\\n\",\"xyz\");\n\tviewergrid_16835483726580627[0][1].addModel(\"6\\n\\nC      0.663795   -0.044558    0.016608\\nC     -0.663795    0.044558   -0.016608\\nH      1.146685   -1.016363    0.010940\\nH      1.271272    0.854056    0.049555\\nH     -1.271272   -0.854056   -0.049555\\nH     -1.146685    1.016363   -0.010941\\n\",\"xyz\");\n\tviewergrid_16835483726580627[0][2].addModel(\"4\\n\\nC      0.546028   -0.119271   -0.601820\\nC     -0.546030    0.119271   -0.150857\\nH      1.504936   -0.328727   -0.997794\\nH     -1.504935    0.328726    0.245125\\n\",\"xyz\");\n\tviewergrid_16835483726580627[0][0].setViewStyle({\"style\": \"outline\", \"width\": 0.05});\n\tviewergrid_16835483726580627[0][1].setViewStyle({\"style\": \"outline\", \"width\": 0.05});\n\tviewergrid_16835483726580627[0][2].setViewStyle({\"style\": \"outline\", \"width\": 0.05});\n\tviewergrid_16835483726580627[0][0].setStyle({\"stick\": {}, \"sphere\": {\"scale\": 0.25}});\n\tviewergrid_16835483726580627[0][1].setStyle({\"stick\": {}, \"sphere\": {\"scale\": 0.25}});\n\tviewergrid_16835483726580627[0][2].setStyle({\"stick\": {}, \"sphere\": {\"scale\": 0.25}});\nviewergrid_16835483726580627[0][2].render();\nviewergrid_16835483726580627[0][1].render();\nviewergrid_16835483726580627[0][0].render();\n});\n</script>",
      "text/html": [
       "<div id=\"3dmolviewer_16835483726580627\"  style=\"position: relative; width: 400px; height: 200px\">\n",
       "        <p id=\"3dmolwarning_16835483726580627\" style=\"background-color:#ffcccc;color:black\">You appear to be running in JupyterLab (or JavaScript failed to load for some other reason).  You need to install the 3dmol extension: <br>\n",
       "        <tt>jupyter labextension install jupyterlab_3dmol</tt></p>\n",
       "        </div>\n",
       "<script>\n",
       "\n",
       "var loadScriptAsync = function(uri){\n",
       "  return new Promise((resolve, reject) => {\n",
       "    //this is to ignore the existence of requirejs amd\n",
       "    var savedexports, savedmodule;\n",
       "    if (typeof exports !== 'undefined') savedexports = exports;\n",
       "    else exports = {}\n",
       "    if (typeof module !== 'undefined') savedmodule = module;\n",
       "    else module = {}\n",
       "\n",
       "    var tag = document.createElement('script');\n",
       "    tag.src = uri;\n",
       "    tag.async = true;\n",
       "    tag.onload = () => {\n",
       "        exports = savedexports;\n",
       "        module = savedmodule;\n",
       "        resolve();\n",
       "    };\n",
       "  var firstScriptTag = document.getElementsByTagName('script')[0];\n",
       "  firstScriptTag.parentNode.insertBefore(tag, firstScriptTag);\n",
       "});\n",
       "};\n",
       "\n",
       "if(typeof $3Dmolpromise === 'undefined') {\n",
       "$3Dmolpromise = null;\n",
       "  $3Dmolpromise = loadScriptAsync('https://cdnjs.cloudflare.com/ajax/libs/3Dmol/2.0.1/3Dmol-min.js');\n",
       "}\n",
       "\n",
       "var viewer_16835483726580627 = null;\n",
       "var warn = document.getElementById(\"3dmolwarning_16835483726580627\");\n",
       "if(warn) {\n",
       "    warn.parentNode.removeChild(warn);\n",
       "}\n",
       "$3Dmolpromise.then(function() {\n",
       "var viewergrid_16835483726580627 = null;\n",
       "viewergrid_16835483726580627 = $3Dmol.createViewerGrid(document.getElementById(\"3dmolviewer_16835483726580627\"),{rows: 1, cols: 3, control_all: false},{backgroundColor:\"white\"});\n",
       "viewer_16835483726580627 = viewergrid_16835483726580627[0][0];\n",
       "viewergrid_16835483726580627[0][0].zoomTo();viewergrid_16835483726580627[0][1].zoomTo();viewergrid_16835483726580627[0][2].zoomTo();\tviewergrid_16835483726580627[0][0].addModel(\"8\\n\\nC      0.756625   -0.043717    0.050842\\nC     -0.756625    0.043717   -0.050842\\nH      1.165291    0.920002    0.421241\\nH      1.040360   -0.853904    0.755150\\nH      1.189009   -0.262237   -0.948283\\nH     -1.189010    0.262233    0.948284\\nH     -1.165291   -0.920001   -0.421245\\nH     -1.040360    0.853907   -0.755146\\n\",\"xyz\");\n",
       "\tviewergrid_16835483726580627[0][1].addModel(\"6\\n\\nC      0.663795   -0.044558    0.016608\\nC     -0.663795    0.044558   -0.016608\\nH      1.146685   -1.016363    0.010940\\nH      1.271272    0.854056    0.049555\\nH     -1.271272   -0.854056   -0.049555\\nH     -1.146685    1.016363   -0.010941\\n\",\"xyz\");\n",
       "\tviewergrid_16835483726580627[0][2].addModel(\"4\\n\\nC      0.546028   -0.119271   -0.601820\\nC     -0.546030    0.119271   -0.150857\\nH      1.504936   -0.328727   -0.997794\\nH     -1.504935    0.328726    0.245125\\n\",\"xyz\");\n",
       "\tviewergrid_16835483726580627[0][0].setViewStyle({\"style\": \"outline\", \"width\": 0.05});\n",
       "\tviewergrid_16835483726580627[0][1].setViewStyle({\"style\": \"outline\", \"width\": 0.05});\n",
       "\tviewergrid_16835483726580627[0][2].setViewStyle({\"style\": \"outline\", \"width\": 0.05});\n",
       "\tviewergrid_16835483726580627[0][0].setStyle({\"stick\": {}, \"sphere\": {\"scale\": 0.25}});\n",
       "\tviewergrid_16835483726580627[0][1].setStyle({\"stick\": {}, \"sphere\": {\"scale\": 0.25}});\n",
       "\tviewergrid_16835483726580627[0][2].setStyle({\"stick\": {}, \"sphere\": {\"scale\": 0.25}});\n",
       "viewergrid_16835483726580627[0][2].render();\n",
       "viewergrid_16835483726580627[0][1].render();\n",
       "viewergrid_16835483726580627[0][0].render();\n",
       "});\n",
       "</script>"
      ]
     },
     "metadata": {},
     "output_type": "display_data"
    }
   ],
   "source": [
    "ethane_xyz = vlx.Molecule.smiles_to_xyz('C-C') # or 'CC'\n",
    "ethene_xyz = vlx.Molecule.smiles_to_xyz('C=C')\n",
    "ethyne_xyz = vlx.Molecule.smiles_to_xyz('C#C')\n",
    "\n",
    "viewer = p3d.view(viewergrid=(1, 3), width=400, height=200, linked=False)\n",
    "viewer.addModel(ethane_xyz, 'xyz', viewer=(0, 0))\n",
    "viewer.addModel(ethene_xyz, 'xyz', viewer=(0, 1))\n",
    "viewer.addModel(ethyne_xyz, 'xyz', viewer=(0, 2))\n",
    "viewer.setViewStyle({\"style\": \"outline\", \"width\": 0.05})\n",
    "viewer.setStyle({\"stick\":{},\"sphere\": {\"scale\":0.25}})\n",
    "viewer.show()"
   ]
  },
  {
   "cell_type": "markdown",
   "id": "7f573fda",
   "metadata": {},
   "source": [
    "## Branching and substitutions\n",
    "\n",
    "Branches are given within paranthesis, as connected to the atom just before the paranthesis. These branches can be nested, for more complex molecules.\n",
    "\n",
    "```{note}\n",
    "Several valid SMILES strings can typically be written for the same molecule.\n",
    "```\n",
    "\n",
    "\n",
    "Hexane and 3-ethylheptane are then written as:"
   ]
  },
  {
   "cell_type": "code",
   "execution_count": 9,
   "id": "b8510007",
   "metadata": {
    "tags": []
   },
   "outputs": [
    {
     "data": {
      "application/3dmoljs_load.v0": "<div id=\"3dmolviewer_16835483727366154\"  style=\"position: relative; width: 500px; height: 200px\">\n        <p id=\"3dmolwarning_16835483727366154\" style=\"background-color:#ffcccc;color:black\">You appear to be running in JupyterLab (or JavaScript failed to load for some other reason).  You need to install the 3dmol extension: <br>\n        <tt>jupyter labextension install jupyterlab_3dmol</tt></p>\n        </div>\n<script>\n\nvar loadScriptAsync = function(uri){\n  return new Promise((resolve, reject) => {\n    //this is to ignore the existence of requirejs amd\n    var savedexports, savedmodule;\n    if (typeof exports !== 'undefined') savedexports = exports;\n    else exports = {}\n    if (typeof module !== 'undefined') savedmodule = module;\n    else module = {}\n\n    var tag = document.createElement('script');\n    tag.src = uri;\n    tag.async = true;\n    tag.onload = () => {\n        exports = savedexports;\n        module = savedmodule;\n        resolve();\n    };\n  var firstScriptTag = document.getElementsByTagName('script')[0];\n  firstScriptTag.parentNode.insertBefore(tag, firstScriptTag);\n});\n};\n\nif(typeof $3Dmolpromise === 'undefined') {\n$3Dmolpromise = null;\n  $3Dmolpromise = loadScriptAsync('https://cdnjs.cloudflare.com/ajax/libs/3Dmol/2.0.1/3Dmol-min.js');\n}\n\nvar viewer_16835483727366154 = null;\nvar warn = document.getElementById(\"3dmolwarning_16835483727366154\");\nif(warn) {\n    warn.parentNode.removeChild(warn);\n}\n$3Dmolpromise.then(function() {\nvar viewergrid_16835483727366154 = null;\nviewergrid_16835483727366154 = $3Dmol.createViewerGrid(document.getElementById(\"3dmolviewer_16835483727366154\"),{rows: 1, cols: 2, control_all: false},{backgroundColor:\"white\"});\nviewer_16835483727366154 = viewergrid_16835483727366154[0][0];\nviewergrid_16835483727366154[0][0].zoomTo();viewergrid_16835483727366154[0][1].zoomTo();\tviewergrid_16835483727366154[0][0].addModel(\"26\\n\\nC     -3.030964    0.856101   -0.680343\\nC     -3.087385   -0.265800    0.354112\\nC     -1.894424   -1.232004    0.261151\\nC     -0.546041   -0.586419    0.644874\\nC      0.297515   -0.226401   -0.590916\\nC      1.542162    0.602892   -0.238003\\nC      2.593788   -0.207626    0.533444\\nC      3.866802    0.606470    0.746607\\nH     -2.900142    0.438244   -1.701141\\nH     -3.980372    1.431222   -0.652955\\nH     -2.199258    1.554464   -0.451407\\nH     -3.142852    0.172781    1.374179\\nH     -4.021152   -0.845952    0.188993\\nH     -1.850640   -1.685198   -0.753931\\nH     -2.092747   -2.067175    0.968320\\nH     -0.709036    0.314733    1.275904\\nH      0.024099   -1.316804    1.258206\\nH     -0.315737    0.367076   -1.300389\\nH      0.603786   -1.156253   -1.118648\\nH      1.243320    1.496081    0.353541\\nH      1.993290    0.964467   -1.188194\\nH      2.848647   -1.130260   -0.032033\\nH      2.195100   -0.500109    1.527806\\nH      4.604479    0.001298    1.314621\\nH      4.315062    0.885979   -0.230630\\nH      3.642703    1.528194    1.324845\\n\",\"xyz\");\n\tviewergrid_16835483727366154[0][1].addModel(\"26\\n\\nC      3.032756    0.245556    0.404574\\nC      2.172711    0.351508   -0.854894\\nC      0.765216    0.917781   -0.584571\\nC     -0.143105    0.028384    0.307828\\nC     -0.559051   -1.274474   -0.424342\\nC     -1.417330   -2.204541    0.434961\\nC     -1.350769    0.844922    0.842513\\nC     -2.345175    1.292066   -0.232945\\nH      4.083219    0.030601    0.115795\\nH      3.011953    1.198786    0.974331\\nH      2.682684   -0.584264    1.052225\\nH      2.685664    1.039926   -1.561262\\nH      2.118657   -0.635919   -1.356627\\nH      0.269914    1.078712   -1.566388\\nH      0.884720    1.919811   -0.116549\\nH      0.437204   -0.265375    1.207657\\nH      0.350866   -1.845304   -0.700992\\nH     -1.097841   -1.040279   -1.367017\\nH     -1.530640   -3.182390   -0.079035\\nH     -2.431433   -1.779878    0.584518\\nH     -0.935980   -2.377654    1.420886\\nH     -1.894476    0.254932    1.610401\\nH     -0.973249    1.749446    1.367656\\nH     -2.817434    0.418416   -0.726562\\nH     -3.150323    1.891266    0.241969\\nH     -1.848759    1.927965   -0.994132\\n\",\"xyz\");\n\tviewergrid_16835483727366154[0][0].setViewStyle({\"style\": \"outline\", \"width\": 0.05});\n\tviewergrid_16835483727366154[0][1].setViewStyle({\"style\": \"outline\", \"width\": 0.05});\n\tviewergrid_16835483727366154[0][0].setStyle({\"stick\": {}, \"sphere\": {\"scale\": 0.25}});\n\tviewergrid_16835483727366154[0][1].setStyle({\"stick\": {}, \"sphere\": {\"scale\": 0.25}});\nviewergrid_16835483727366154[0][1].render();\nviewergrid_16835483727366154[0][0].render();\n});\n</script>",
      "text/html": [
       "<div id=\"3dmolviewer_16835483727366154\"  style=\"position: relative; width: 500px; height: 200px\">\n",
       "        <p id=\"3dmolwarning_16835483727366154\" style=\"background-color:#ffcccc;color:black\">You appear to be running in JupyterLab (or JavaScript failed to load for some other reason).  You need to install the 3dmol extension: <br>\n",
       "        <tt>jupyter labextension install jupyterlab_3dmol</tt></p>\n",
       "        </div>\n",
       "<script>\n",
       "\n",
       "var loadScriptAsync = function(uri){\n",
       "  return new Promise((resolve, reject) => {\n",
       "    //this is to ignore the existence of requirejs amd\n",
       "    var savedexports, savedmodule;\n",
       "    if (typeof exports !== 'undefined') savedexports = exports;\n",
       "    else exports = {}\n",
       "    if (typeof module !== 'undefined') savedmodule = module;\n",
       "    else module = {}\n",
       "\n",
       "    var tag = document.createElement('script');\n",
       "    tag.src = uri;\n",
       "    tag.async = true;\n",
       "    tag.onload = () => {\n",
       "        exports = savedexports;\n",
       "        module = savedmodule;\n",
       "        resolve();\n",
       "    };\n",
       "  var firstScriptTag = document.getElementsByTagName('script')[0];\n",
       "  firstScriptTag.parentNode.insertBefore(tag, firstScriptTag);\n",
       "});\n",
       "};\n",
       "\n",
       "if(typeof $3Dmolpromise === 'undefined') {\n",
       "$3Dmolpromise = null;\n",
       "  $3Dmolpromise = loadScriptAsync('https://cdnjs.cloudflare.com/ajax/libs/3Dmol/2.0.1/3Dmol-min.js');\n",
       "}\n",
       "\n",
       "var viewer_16835483727366154 = null;\n",
       "var warn = document.getElementById(\"3dmolwarning_16835483727366154\");\n",
       "if(warn) {\n",
       "    warn.parentNode.removeChild(warn);\n",
       "}\n",
       "$3Dmolpromise.then(function() {\n",
       "var viewergrid_16835483727366154 = null;\n",
       "viewergrid_16835483727366154 = $3Dmol.createViewerGrid(document.getElementById(\"3dmolviewer_16835483727366154\"),{rows: 1, cols: 2, control_all: false},{backgroundColor:\"white\"});\n",
       "viewer_16835483727366154 = viewergrid_16835483727366154[0][0];\n",
       "viewergrid_16835483727366154[0][0].zoomTo();viewergrid_16835483727366154[0][1].zoomTo();\tviewergrid_16835483727366154[0][0].addModel(\"26\\n\\nC     -3.030964    0.856101   -0.680343\\nC     -3.087385   -0.265800    0.354112\\nC     -1.894424   -1.232004    0.261151\\nC     -0.546041   -0.586419    0.644874\\nC      0.297515   -0.226401   -0.590916\\nC      1.542162    0.602892   -0.238003\\nC      2.593788   -0.207626    0.533444\\nC      3.866802    0.606470    0.746607\\nH     -2.900142    0.438244   -1.701141\\nH     -3.980372    1.431222   -0.652955\\nH     -2.199258    1.554464   -0.451407\\nH     -3.142852    0.172781    1.374179\\nH     -4.021152   -0.845952    0.188993\\nH     -1.850640   -1.685198   -0.753931\\nH     -2.092747   -2.067175    0.968320\\nH     -0.709036    0.314733    1.275904\\nH      0.024099   -1.316804    1.258206\\nH     -0.315737    0.367076   -1.300389\\nH      0.603786   -1.156253   -1.118648\\nH      1.243320    1.496081    0.353541\\nH      1.993290    0.964467   -1.188194\\nH      2.848647   -1.130260   -0.032033\\nH      2.195100   -0.500109    1.527806\\nH      4.604479    0.001298    1.314621\\nH      4.315062    0.885979   -0.230630\\nH      3.642703    1.528194    1.324845\\n\",\"xyz\");\n",
       "\tviewergrid_16835483727366154[0][1].addModel(\"26\\n\\nC      3.032756    0.245556    0.404574\\nC      2.172711    0.351508   -0.854894\\nC      0.765216    0.917781   -0.584571\\nC     -0.143105    0.028384    0.307828\\nC     -0.559051   -1.274474   -0.424342\\nC     -1.417330   -2.204541    0.434961\\nC     -1.350769    0.844922    0.842513\\nC     -2.345175    1.292066   -0.232945\\nH      4.083219    0.030601    0.115795\\nH      3.011953    1.198786    0.974331\\nH      2.682684   -0.584264    1.052225\\nH      2.685664    1.039926   -1.561262\\nH      2.118657   -0.635919   -1.356627\\nH      0.269914    1.078712   -1.566388\\nH      0.884720    1.919811   -0.116549\\nH      0.437204   -0.265375    1.207657\\nH      0.350866   -1.845304   -0.700992\\nH     -1.097841   -1.040279   -1.367017\\nH     -1.530640   -3.182390   -0.079035\\nH     -2.431433   -1.779878    0.584518\\nH     -0.935980   -2.377654    1.420886\\nH     -1.894476    0.254932    1.610401\\nH     -0.973249    1.749446    1.367656\\nH     -2.817434    0.418416   -0.726562\\nH     -3.150323    1.891266    0.241969\\nH     -1.848759    1.927965   -0.994132\\n\",\"xyz\");\n",
       "\tviewergrid_16835483727366154[0][0].setViewStyle({\"style\": \"outline\", \"width\": 0.05});\n",
       "\tviewergrid_16835483727366154[0][1].setViewStyle({\"style\": \"outline\", \"width\": 0.05});\n",
       "\tviewergrid_16835483727366154[0][0].setStyle({\"stick\": {}, \"sphere\": {\"scale\": 0.25}});\n",
       "\tviewergrid_16835483727366154[0][1].setStyle({\"stick\": {}, \"sphere\": {\"scale\": 0.25}});\n",
       "viewergrid_16835483727366154[0][1].render();\n",
       "viewergrid_16835483727366154[0][0].render();\n",
       "});\n",
       "</script>"
      ]
     },
     "metadata": {},
     "output_type": "display_data"
    }
   ],
   "source": [
    "hexane_xyz = vlx.Molecule.smiles_to_xyz('CCCCCCCC')\n",
    "ethylheptane_xyz = vlx.Molecule.smiles_to_xyz('CCCC(CC)CC')\n",
    "\n",
    "viewer = p3d.view(viewergrid=(1, 2), width=500, height=200, linked=False)\n",
    "viewer.addModel(hexane_xyz, 'xyz', viewer=(0, 0))\n",
    "viewer.addModel(ethylheptane_xyz, 'xyz', viewer=(0, 1))\n",
    "viewer.setViewStyle({\"style\": \"outline\", \"width\": 0.05})\n",
    "viewer.setStyle({\"stick\":{},\"sphere\": {\"scale\":0.25}})\n",
    "viewer.show()"
   ]
  },
  {
   "cell_type": "markdown",
   "id": "7176cee2",
   "metadata": {},
   "source": [
    "Substitutions are done by replacing the relevant atom, or adding it to replace an implicit hydrogen. For example, methanol, 1,1-difluoroethene, and 1,2-difluoroethene can be given as:"
   ]
  },
  {
   "cell_type": "code",
   "execution_count": 10,
   "id": "1513d76d",
   "metadata": {
    "tags": []
   },
   "outputs": [
    {
     "data": {
      "application/3dmoljs_load.v0": "<div id=\"3dmolviewer_16835483727640007\"  style=\"position: relative; width: 400px; height: 200px\">\n        <p id=\"3dmolwarning_16835483727640007\" style=\"background-color:#ffcccc;color:black\">You appear to be running in JupyterLab (or JavaScript failed to load for some other reason).  You need to install the 3dmol extension: <br>\n        <tt>jupyter labextension install jupyterlab_3dmol</tt></p>\n        </div>\n<script>\n\nvar loadScriptAsync = function(uri){\n  return new Promise((resolve, reject) => {\n    //this is to ignore the existence of requirejs amd\n    var savedexports, savedmodule;\n    if (typeof exports !== 'undefined') savedexports = exports;\n    else exports = {}\n    if (typeof module !== 'undefined') savedmodule = module;\n    else module = {}\n\n    var tag = document.createElement('script');\n    tag.src = uri;\n    tag.async = true;\n    tag.onload = () => {\n        exports = savedexports;\n        module = savedmodule;\n        resolve();\n    };\n  var firstScriptTag = document.getElementsByTagName('script')[0];\n  firstScriptTag.parentNode.insertBefore(tag, firstScriptTag);\n});\n};\n\nif(typeof $3Dmolpromise === 'undefined') {\n$3Dmolpromise = null;\n  $3Dmolpromise = loadScriptAsync('https://cdnjs.cloudflare.com/ajax/libs/3Dmol/2.0.1/3Dmol-min.js');\n}\n\nvar viewer_16835483727640007 = null;\nvar warn = document.getElementById(\"3dmolwarning_16835483727640007\");\nif(warn) {\n    warn.parentNode.removeChild(warn);\n}\n$3Dmolpromise.then(function() {\nvar viewergrid_16835483727640007 = null;\nviewergrid_16835483727640007 = $3Dmol.createViewerGrid(document.getElementById(\"3dmolviewer_16835483727640007\"),{rows: 1, cols: 3, control_all: false},{backgroundColor:\"white\"});\nviewer_16835483727640007 = viewergrid_16835483727640007[0][0];\nviewergrid_16835483727640007[0][0].zoomTo();viewergrid_16835483727640007[0][1].zoomTo();viewergrid_16835483727640007[0][2].zoomTo();\tviewergrid_16835483727640007[0][0].addModel(\"6\\n\\nC     -0.355877   -0.018954   -0.038219\\nO      0.946837   -0.524674   -0.091741\\nH     -0.608982    0.279655    1.002263\\nH     -0.455312    0.857258   -0.715120\\nH     -1.065583   -0.805981   -0.366421\\nH      1.538917    0.212696    0.209238\\n\",\"xyz\");\n\tviewergrid_16835483727640007[0][1].addModel(\"6\\n\\nC     -0.710393   -0.014011   -0.008416\\nC      0.620890    0.012246    0.007356\\nF      1.323686   -1.133277    0.205049\\nF      1.282461    1.184679   -0.174173\\nH     -1.274760    0.899441   -0.166119\\nH     -1.241885   -0.949078    0.136304\\n\",\"xyz\");\n\tviewergrid_16835483727640007[0][2].addModel(\"6\\n\\nF      1.454860    0.954019   -0.059462\\nC      0.647749   -0.123932    0.121008\\nC     -0.664842   -0.025432   -0.083173\\nF     -1.213582    1.154266   -0.474544\\nH      1.080142   -1.068929    0.433544\\nH     -1.304326   -0.889992    0.062627\\n\",\"xyz\");\n\tviewergrid_16835483727640007[0][0].setViewStyle({\"style\": \"outline\", \"width\": 0.05});\n\tviewergrid_16835483727640007[0][1].setViewStyle({\"style\": \"outline\", \"width\": 0.05});\n\tviewergrid_16835483727640007[0][2].setViewStyle({\"style\": \"outline\", \"width\": 0.05});\n\tviewergrid_16835483727640007[0][0].setStyle({\"stick\": {}, \"sphere\": {\"scale\": 0.25}});\n\tviewergrid_16835483727640007[0][1].setStyle({\"stick\": {}, \"sphere\": {\"scale\": 0.25}});\n\tviewergrid_16835483727640007[0][2].setStyle({\"stick\": {}, \"sphere\": {\"scale\": 0.25}});\nviewergrid_16835483727640007[0][2].render();\nviewergrid_16835483727640007[0][1].render();\nviewergrid_16835483727640007[0][0].render();\n});\n</script>",
      "text/html": [
       "<div id=\"3dmolviewer_16835483727640007\"  style=\"position: relative; width: 400px; height: 200px\">\n",
       "        <p id=\"3dmolwarning_16835483727640007\" style=\"background-color:#ffcccc;color:black\">You appear to be running in JupyterLab (or JavaScript failed to load for some other reason).  You need to install the 3dmol extension: <br>\n",
       "        <tt>jupyter labextension install jupyterlab_3dmol</tt></p>\n",
       "        </div>\n",
       "<script>\n",
       "\n",
       "var loadScriptAsync = function(uri){\n",
       "  return new Promise((resolve, reject) => {\n",
       "    //this is to ignore the existence of requirejs amd\n",
       "    var savedexports, savedmodule;\n",
       "    if (typeof exports !== 'undefined') savedexports = exports;\n",
       "    else exports = {}\n",
       "    if (typeof module !== 'undefined') savedmodule = module;\n",
       "    else module = {}\n",
       "\n",
       "    var tag = document.createElement('script');\n",
       "    tag.src = uri;\n",
       "    tag.async = true;\n",
       "    tag.onload = () => {\n",
       "        exports = savedexports;\n",
       "        module = savedmodule;\n",
       "        resolve();\n",
       "    };\n",
       "  var firstScriptTag = document.getElementsByTagName('script')[0];\n",
       "  firstScriptTag.parentNode.insertBefore(tag, firstScriptTag);\n",
       "});\n",
       "};\n",
       "\n",
       "if(typeof $3Dmolpromise === 'undefined') {\n",
       "$3Dmolpromise = null;\n",
       "  $3Dmolpromise = loadScriptAsync('https://cdnjs.cloudflare.com/ajax/libs/3Dmol/2.0.1/3Dmol-min.js');\n",
       "}\n",
       "\n",
       "var viewer_16835483727640007 = null;\n",
       "var warn = document.getElementById(\"3dmolwarning_16835483727640007\");\n",
       "if(warn) {\n",
       "    warn.parentNode.removeChild(warn);\n",
       "}\n",
       "$3Dmolpromise.then(function() {\n",
       "var viewergrid_16835483727640007 = null;\n",
       "viewergrid_16835483727640007 = $3Dmol.createViewerGrid(document.getElementById(\"3dmolviewer_16835483727640007\"),{rows: 1, cols: 3, control_all: false},{backgroundColor:\"white\"});\n",
       "viewer_16835483727640007 = viewergrid_16835483727640007[0][0];\n",
       "viewergrid_16835483727640007[0][0].zoomTo();viewergrid_16835483727640007[0][1].zoomTo();viewergrid_16835483727640007[0][2].zoomTo();\tviewergrid_16835483727640007[0][0].addModel(\"6\\n\\nC     -0.355877   -0.018954   -0.038219\\nO      0.946837   -0.524674   -0.091741\\nH     -0.608982    0.279655    1.002263\\nH     -0.455312    0.857258   -0.715120\\nH     -1.065583   -0.805981   -0.366421\\nH      1.538917    0.212696    0.209238\\n\",\"xyz\");\n",
       "\tviewergrid_16835483727640007[0][1].addModel(\"6\\n\\nC     -0.710393   -0.014011   -0.008416\\nC      0.620890    0.012246    0.007356\\nF      1.323686   -1.133277    0.205049\\nF      1.282461    1.184679   -0.174173\\nH     -1.274760    0.899441   -0.166119\\nH     -1.241885   -0.949078    0.136304\\n\",\"xyz\");\n",
       "\tviewergrid_16835483727640007[0][2].addModel(\"6\\n\\nF      1.454860    0.954019   -0.059462\\nC      0.647749   -0.123932    0.121008\\nC     -0.664842   -0.025432   -0.083173\\nF     -1.213582    1.154266   -0.474544\\nH      1.080142   -1.068929    0.433544\\nH     -1.304326   -0.889992    0.062627\\n\",\"xyz\");\n",
       "\tviewergrid_16835483727640007[0][0].setViewStyle({\"style\": \"outline\", \"width\": 0.05});\n",
       "\tviewergrid_16835483727640007[0][1].setViewStyle({\"style\": \"outline\", \"width\": 0.05});\n",
       "\tviewergrid_16835483727640007[0][2].setViewStyle({\"style\": \"outline\", \"width\": 0.05});\n",
       "\tviewergrid_16835483727640007[0][0].setStyle({\"stick\": {}, \"sphere\": {\"scale\": 0.25}});\n",
       "\tviewergrid_16835483727640007[0][1].setStyle({\"stick\": {}, \"sphere\": {\"scale\": 0.25}});\n",
       "\tviewergrid_16835483727640007[0][2].setStyle({\"stick\": {}, \"sphere\": {\"scale\": 0.25}});\n",
       "viewergrid_16835483727640007[0][2].render();\n",
       "viewergrid_16835483727640007[0][1].render();\n",
       "viewergrid_16835483727640007[0][0].render();\n",
       "});\n",
       "</script>"
      ]
     },
     "metadata": {},
     "output_type": "display_data"
    }
   ],
   "source": [
    "methanol_xyz = vlx.Molecule.smiles_to_xyz('CO')\n",
    "difluoro11_xyz = vlx.Molecule.smiles_to_xyz('C=C(F)F')\n",
    "difluoro12_xyz = vlx.Molecule.smiles_to_xyz('FC=CF')\n",
    "\n",
    "viewer = p3d.view(viewergrid=(1, 3), width=400, height=200, linked=False)\n",
    "viewer.addModel(methanol_xyz, 'xyz', viewer=(0, 0))\n",
    "viewer.addModel(difluoro11_xyz, 'xyz', viewer=(0, 1))\n",
    "viewer.addModel(difluoro12_xyz, 'xyz', viewer=(0, 2))\n",
    "viewer.setViewStyle({\"style\": \"outline\", \"width\": 0.05})\n",
    "viewer.setStyle({\"stick\":{},\"sphere\": {\"scale\":0.25}})\n",
    "viewer.show()"
   ]
  },
  {
   "cell_type": "markdown",
   "id": "d63f5cd9",
   "metadata": {},
   "source": [
    "### UFF optimization\n",
    "\n",
    "Following the construction of a conformer from a SMILES string, it is generally advised to perform a short UFF (universal force field) optimization to obtain a structure close to a local minima.\n",
    "\n",
    "As an example, for ethanol the initial conformer will have the OH-group with any rotation to CH$_3$, and following a UFF optimization it takes on the staggered conformation:"
   ]
  },
  {
   "cell_type": "code",
   "execution_count": 11,
   "id": "d7828af2",
   "metadata": {
    "tags": []
   },
   "outputs": [
    {
     "data": {
      "application/3dmoljs_load.v0": "<div id=\"3dmolviewer_16835483727838185\"  style=\"position: relative; width: 400px; height: 200px\">\n        <p id=\"3dmolwarning_16835483727838185\" style=\"background-color:#ffcccc;color:black\">You appear to be running in JupyterLab (or JavaScript failed to load for some other reason).  You need to install the 3dmol extension: <br>\n        <tt>jupyter labextension install jupyterlab_3dmol</tt></p>\n        </div>\n<script>\n\nvar loadScriptAsync = function(uri){\n  return new Promise((resolve, reject) => {\n    //this is to ignore the existence of requirejs amd\n    var savedexports, savedmodule;\n    if (typeof exports !== 'undefined') savedexports = exports;\n    else exports = {}\n    if (typeof module !== 'undefined') savedmodule = module;\n    else module = {}\n\n    var tag = document.createElement('script');\n    tag.src = uri;\n    tag.async = true;\n    tag.onload = () => {\n        exports = savedexports;\n        module = savedmodule;\n        resolve();\n    };\n  var firstScriptTag = document.getElementsByTagName('script')[0];\n  firstScriptTag.parentNode.insertBefore(tag, firstScriptTag);\n});\n};\n\nif(typeof $3Dmolpromise === 'undefined') {\n$3Dmolpromise = null;\n  $3Dmolpromise = loadScriptAsync('https://cdnjs.cloudflare.com/ajax/libs/3Dmol/2.0.1/3Dmol-min.js');\n}\n\nvar viewer_16835483727838185 = null;\nvar warn = document.getElementById(\"3dmolwarning_16835483727838185\");\nif(warn) {\n    warn.parentNode.removeChild(warn);\n}\n$3Dmolpromise.then(function() {\nvar viewergrid_16835483727838185 = null;\nviewergrid_16835483727838185 = $3Dmol.createViewerGrid(document.getElementById(\"3dmolviewer_16835483727838185\"),{rows: 1, cols: 2, control_all: false},{backgroundColor:\"white\"});\nviewer_16835483727838185 = viewergrid_16835483727838185[0][0];\nviewergrid_16835483727838185[0][0].zoomTo();viewergrid_16835483727838185[0][1].zoomTo();\tviewergrid_16835483727838185[0][0].addModel(\"6\\n\\nC     -0.365348    0.028554    0.019235\\nO      0.964761    0.245816    0.356765\\nH     -0.824730    0.979784   -0.271684\\nH     -0.502011   -0.714526   -0.779788\\nH     -0.874228   -0.351351    0.924346\\nH      1.601556   -0.188277   -0.248875\\n\",\"xyz\");\n\tviewergrid_16835483727838185[0][1].addModel(\"6\\n\\nC     -0.351965    0.066642    0.012167\\nO      0.976619    0.360290   -0.310817\\nH     -0.673302   -0.867351   -0.497960\\nH     -1.001509    0.899908   -0.326316\\nH     -0.462706   -0.049102    1.112244\\nH      1.512863   -0.410387    0.010681\\n\",\"xyz\");\n\tviewergrid_16835483727838185[0][0].setViewStyle({\"style\": \"outline\", \"width\": 0.05});\n\tviewergrid_16835483727838185[0][1].setViewStyle({\"style\": \"outline\", \"width\": 0.05});\n\tviewergrid_16835483727838185[0][0].setStyle({\"stick\": {}, \"sphere\": {\"scale\": 0.25}});\n\tviewergrid_16835483727838185[0][1].setStyle({\"stick\": {}, \"sphere\": {\"scale\": 0.25}});\nviewergrid_16835483727838185[0][1].render();\nviewergrid_16835483727838185[0][0].render();\n});\n</script>",
      "text/html": [
       "<div id=\"3dmolviewer_16835483727838185\"  style=\"position: relative; width: 400px; height: 200px\">\n",
       "        <p id=\"3dmolwarning_16835483727838185\" style=\"background-color:#ffcccc;color:black\">You appear to be running in JupyterLab (or JavaScript failed to load for some other reason).  You need to install the 3dmol extension: <br>\n",
       "        <tt>jupyter labextension install jupyterlab_3dmol</tt></p>\n",
       "        </div>\n",
       "<script>\n",
       "\n",
       "var loadScriptAsync = function(uri){\n",
       "  return new Promise((resolve, reject) => {\n",
       "    //this is to ignore the existence of requirejs amd\n",
       "    var savedexports, savedmodule;\n",
       "    if (typeof exports !== 'undefined') savedexports = exports;\n",
       "    else exports = {}\n",
       "    if (typeof module !== 'undefined') savedmodule = module;\n",
       "    else module = {}\n",
       "\n",
       "    var tag = document.createElement('script');\n",
       "    tag.src = uri;\n",
       "    tag.async = true;\n",
       "    tag.onload = () => {\n",
       "        exports = savedexports;\n",
       "        module = savedmodule;\n",
       "        resolve();\n",
       "    };\n",
       "  var firstScriptTag = document.getElementsByTagName('script')[0];\n",
       "  firstScriptTag.parentNode.insertBefore(tag, firstScriptTag);\n",
       "});\n",
       "};\n",
       "\n",
       "if(typeof $3Dmolpromise === 'undefined') {\n",
       "$3Dmolpromise = null;\n",
       "  $3Dmolpromise = loadScriptAsync('https://cdnjs.cloudflare.com/ajax/libs/3Dmol/2.0.1/3Dmol-min.js');\n",
       "}\n",
       "\n",
       "var viewer_16835483727838185 = null;\n",
       "var warn = document.getElementById(\"3dmolwarning_16835483727838185\");\n",
       "if(warn) {\n",
       "    warn.parentNode.removeChild(warn);\n",
       "}\n",
       "$3Dmolpromise.then(function() {\n",
       "var viewergrid_16835483727838185 = null;\n",
       "viewergrid_16835483727838185 = $3Dmol.createViewerGrid(document.getElementById(\"3dmolviewer_16835483727838185\"),{rows: 1, cols: 2, control_all: false},{backgroundColor:\"white\"});\n",
       "viewer_16835483727838185 = viewergrid_16835483727838185[0][0];\n",
       "viewergrid_16835483727838185[0][0].zoomTo();viewergrid_16835483727838185[0][1].zoomTo();\tviewergrid_16835483727838185[0][0].addModel(\"6\\n\\nC     -0.365348    0.028554    0.019235\\nO      0.964761    0.245816    0.356765\\nH     -0.824730    0.979784   -0.271684\\nH     -0.502011   -0.714526   -0.779788\\nH     -0.874228   -0.351351    0.924346\\nH      1.601556   -0.188277   -0.248875\\n\",\"xyz\");\n",
       "\tviewergrid_16835483727838185[0][1].addModel(\"6\\n\\nC     -0.351965    0.066642    0.012167\\nO      0.976619    0.360290   -0.310817\\nH     -0.673302   -0.867351   -0.497960\\nH     -1.001509    0.899908   -0.326316\\nH     -0.462706   -0.049102    1.112244\\nH      1.512863   -0.410387    0.010681\\n\",\"xyz\");\n",
       "\tviewergrid_16835483727838185[0][0].setViewStyle({\"style\": \"outline\", \"width\": 0.05});\n",
       "\tviewergrid_16835483727838185[0][1].setViewStyle({\"style\": \"outline\", \"width\": 0.05});\n",
       "\tviewergrid_16835483727838185[0][0].setStyle({\"stick\": {}, \"sphere\": {\"scale\": 0.25}});\n",
       "\tviewergrid_16835483727838185[0][1].setStyle({\"stick\": {}, \"sphere\": {\"scale\": 0.25}});\n",
       "viewergrid_16835483727838185[0][1].render();\n",
       "viewergrid_16835483727838185[0][0].render();\n",
       "});\n",
       "</script>"
      ]
     },
     "metadata": {},
     "output_type": "display_data"
    }
   ],
   "source": [
    "ethanol_initial_xyz = vlx.Molecule.smiles_to_xyz('CO', optimize=False)\n",
    "ethanol_xyz = vlx.Molecule.smiles_to_xyz('CO')\n",
    "\n",
    "viewer = p3d.view(viewergrid=(1, 2), width=400, height=200, linked=False)\n",
    "viewer.addModel(ethanol_initial_xyz, 'xyz', viewer=(0, 0))\n",
    "viewer.addModel(ethanol_xyz, 'xyz', viewer=(0, 1))\n",
    "viewer.setViewStyle({\"style\": \"outline\", \"width\": 0.05})\n",
    "viewer.setStyle({\"stick\":{},\"sphere\": {\"scale\":0.25}})\n",
    "viewer.show()"
   ]
  },
  {
   "cell_type": "markdown",
   "id": "349eccfa",
   "metadata": {},
   "source": [
    "## Ring systems\n",
    "\n",
    "Ring systems are constructed by labeling part(s) of the ring and then closing the ring by having the SMILES string go back to the labeled atom(s). This can be performed several time, so that, *e.g.* cyclohexane and norbornane are written as:"
   ]
  },
  {
   "cell_type": "code",
   "execution_count": 12,
   "id": "8ed2c3e1",
   "metadata": {
    "tags": []
   },
   "outputs": [
    {
     "data": {
      "application/3dmoljs_load.v0": "<div id=\"3dmolviewer_16835483728235\"  style=\"position: relative; width: 400px; height: 200px\">\n        <p id=\"3dmolwarning_16835483728235\" style=\"background-color:#ffcccc;color:black\">You appear to be running in JupyterLab (or JavaScript failed to load for some other reason).  You need to install the 3dmol extension: <br>\n        <tt>jupyter labextension install jupyterlab_3dmol</tt></p>\n        </div>\n<script>\n\nvar loadScriptAsync = function(uri){\n  return new Promise((resolve, reject) => {\n    //this is to ignore the existence of requirejs amd\n    var savedexports, savedmodule;\n    if (typeof exports !== 'undefined') savedexports = exports;\n    else exports = {}\n    if (typeof module !== 'undefined') savedmodule = module;\n    else module = {}\n\n    var tag = document.createElement('script');\n    tag.src = uri;\n    tag.async = true;\n    tag.onload = () => {\n        exports = savedexports;\n        module = savedmodule;\n        resolve();\n    };\n  var firstScriptTag = document.getElementsByTagName('script')[0];\n  firstScriptTag.parentNode.insertBefore(tag, firstScriptTag);\n});\n};\n\nif(typeof $3Dmolpromise === 'undefined') {\n$3Dmolpromise = null;\n  $3Dmolpromise = loadScriptAsync('https://cdnjs.cloudflare.com/ajax/libs/3Dmol/2.0.1/3Dmol-min.js');\n}\n\nvar viewer_16835483728235 = null;\nvar warn = document.getElementById(\"3dmolwarning_16835483728235\");\nif(warn) {\n    warn.parentNode.removeChild(warn);\n}\n$3Dmolpromise.then(function() {\nvar viewergrid_16835483728235 = null;\nviewergrid_16835483728235 = $3Dmol.createViewerGrid(document.getElementById(\"3dmolviewer_16835483728235\"),{rows: 1, cols: 2, control_all: false},{backgroundColor:\"white\"});\nviewer_16835483728235 = viewergrid_16835483728235[0][0];\nviewergrid_16835483728235[0][0].zoomTo();viewergrid_16835483728235[0][1].zoomTo();\tviewergrid_16835483728235[0][0].addModel(\"18\\n\\nC      1.038154   -1.021787   -0.255340\\nC      1.339129    0.474310   -0.410823\\nC      0.445833    1.314230    0.510924\\nC     -1.038154    1.021786    0.255339\\nC     -1.339129   -0.474309    0.410824\\nC     -0.445833   -1.314230   -0.510923\\nH      1.312988   -1.353471    0.770187\\nH      1.655366   -1.597305   -0.978286\\nH      2.405146    0.662190   -0.159557\\nH      1.177141    0.780004   -1.467972\\nH      0.692549    1.093436    1.572825\\nH      0.643657    2.392725    0.330533\\nH     -1.312989    1.353467   -0.770189\\nH     -1.655368    1.597306    0.978284\\nH     -2.405146   -0.662189    0.159558\\nH     -1.177140   -0.780004    1.467973\\nH     -0.692549   -1.093435   -1.572825\\nH     -0.643656   -2.392725   -0.330532\\n\",\"xyz\");\n\tviewergrid_16835483728235[0][1].addModel(\"19\\n\\nC      1.249362   -0.189435    0.881953\\nC     -0.112528   -0.893163    0.741648\\nC     -1.227421    0.153364    0.918994\\nC     -1.133427    0.972741   -0.379144\\nC      0.022988    0.288192   -1.129983\\nC     -0.171637   -1.159628   -0.744373\\nC      1.343359    0.629930   -0.416191\\nH      1.295037    0.458988    1.784164\\nH      2.068109   -0.940966    0.929221\\nH     -0.227697   -1.794324    1.381063\\nH     -1.068817    0.786152    1.819517\\nH     -2.217725   -0.347790    0.993313\\nH     -2.076037    0.887418   -0.963600\\nH     -0.924295    2.045880   -0.176270\\nH      0.033333    0.481151   -2.223997\\nH      0.651809   -1.820662   -1.101987\\nH     -1.153777   -1.570746   -1.074983\\nH      1.439568    1.718703   -0.211641\\nH      2.209797    0.294194   -1.027703\\n\",\"xyz\");\n\tviewergrid_16835483728235[0][0].setViewStyle({\"style\": \"outline\", \"width\": 0.05});\n\tviewergrid_16835483728235[0][1].setViewStyle({\"style\": \"outline\", \"width\": 0.05});\n\tviewergrid_16835483728235[0][0].setStyle({\"stick\": {}, \"sphere\": {\"scale\": 0.25}});\n\tviewergrid_16835483728235[0][1].setStyle({\"stick\": {}, \"sphere\": {\"scale\": 0.25}});\nviewergrid_16835483728235[0][1].render();\nviewergrid_16835483728235[0][0].render();\n});\n</script>",
      "text/html": [
       "<div id=\"3dmolviewer_16835483728235\"  style=\"position: relative; width: 400px; height: 200px\">\n",
       "        <p id=\"3dmolwarning_16835483728235\" style=\"background-color:#ffcccc;color:black\">You appear to be running in JupyterLab (or JavaScript failed to load for some other reason).  You need to install the 3dmol extension: <br>\n",
       "        <tt>jupyter labextension install jupyterlab_3dmol</tt></p>\n",
       "        </div>\n",
       "<script>\n",
       "\n",
       "var loadScriptAsync = function(uri){\n",
       "  return new Promise((resolve, reject) => {\n",
       "    //this is to ignore the existence of requirejs amd\n",
       "    var savedexports, savedmodule;\n",
       "    if (typeof exports !== 'undefined') savedexports = exports;\n",
       "    else exports = {}\n",
       "    if (typeof module !== 'undefined') savedmodule = module;\n",
       "    else module = {}\n",
       "\n",
       "    var tag = document.createElement('script');\n",
       "    tag.src = uri;\n",
       "    tag.async = true;\n",
       "    tag.onload = () => {\n",
       "        exports = savedexports;\n",
       "        module = savedmodule;\n",
       "        resolve();\n",
       "    };\n",
       "  var firstScriptTag = document.getElementsByTagName('script')[0];\n",
       "  firstScriptTag.parentNode.insertBefore(tag, firstScriptTag);\n",
       "});\n",
       "};\n",
       "\n",
       "if(typeof $3Dmolpromise === 'undefined') {\n",
       "$3Dmolpromise = null;\n",
       "  $3Dmolpromise = loadScriptAsync('https://cdnjs.cloudflare.com/ajax/libs/3Dmol/2.0.1/3Dmol-min.js');\n",
       "}\n",
       "\n",
       "var viewer_16835483728235 = null;\n",
       "var warn = document.getElementById(\"3dmolwarning_16835483728235\");\n",
       "if(warn) {\n",
       "    warn.parentNode.removeChild(warn);\n",
       "}\n",
       "$3Dmolpromise.then(function() {\n",
       "var viewergrid_16835483728235 = null;\n",
       "viewergrid_16835483728235 = $3Dmol.createViewerGrid(document.getElementById(\"3dmolviewer_16835483728235\"),{rows: 1, cols: 2, control_all: false},{backgroundColor:\"white\"});\n",
       "viewer_16835483728235 = viewergrid_16835483728235[0][0];\n",
       "viewergrid_16835483728235[0][0].zoomTo();viewergrid_16835483728235[0][1].zoomTo();\tviewergrid_16835483728235[0][0].addModel(\"18\\n\\nC      1.038154   -1.021787   -0.255340\\nC      1.339129    0.474310   -0.410823\\nC      0.445833    1.314230    0.510924\\nC     -1.038154    1.021786    0.255339\\nC     -1.339129   -0.474309    0.410824\\nC     -0.445833   -1.314230   -0.510923\\nH      1.312988   -1.353471    0.770187\\nH      1.655366   -1.597305   -0.978286\\nH      2.405146    0.662190   -0.159557\\nH      1.177141    0.780004   -1.467972\\nH      0.692549    1.093436    1.572825\\nH      0.643657    2.392725    0.330533\\nH     -1.312989    1.353467   -0.770189\\nH     -1.655368    1.597306    0.978284\\nH     -2.405146   -0.662189    0.159558\\nH     -1.177140   -0.780004    1.467973\\nH     -0.692549   -1.093435   -1.572825\\nH     -0.643656   -2.392725   -0.330532\\n\",\"xyz\");\n",
       "\tviewergrid_16835483728235[0][1].addModel(\"19\\n\\nC      1.249362   -0.189435    0.881953\\nC     -0.112528   -0.893163    0.741648\\nC     -1.227421    0.153364    0.918994\\nC     -1.133427    0.972741   -0.379144\\nC      0.022988    0.288192   -1.129983\\nC     -0.171637   -1.159628   -0.744373\\nC      1.343359    0.629930   -0.416191\\nH      1.295037    0.458988    1.784164\\nH      2.068109   -0.940966    0.929221\\nH     -0.227697   -1.794324    1.381063\\nH     -1.068817    0.786152    1.819517\\nH     -2.217725   -0.347790    0.993313\\nH     -2.076037    0.887418   -0.963600\\nH     -0.924295    2.045880   -0.176270\\nH      0.033333    0.481151   -2.223997\\nH      0.651809   -1.820662   -1.101987\\nH     -1.153777   -1.570746   -1.074983\\nH      1.439568    1.718703   -0.211641\\nH      2.209797    0.294194   -1.027703\\n\",\"xyz\");\n",
       "\tviewergrid_16835483728235[0][0].setViewStyle({\"style\": \"outline\", \"width\": 0.05});\n",
       "\tviewergrid_16835483728235[0][1].setViewStyle({\"style\": \"outline\", \"width\": 0.05});\n",
       "\tviewergrid_16835483728235[0][0].setStyle({\"stick\": {}, \"sphere\": {\"scale\": 0.25}});\n",
       "\tviewergrid_16835483728235[0][1].setStyle({\"stick\": {}, \"sphere\": {\"scale\": 0.25}});\n",
       "viewergrid_16835483728235[0][1].render();\n",
       "viewergrid_16835483728235[0][0].render();\n",
       "});\n",
       "</script>"
      ]
     },
     "metadata": {},
     "output_type": "display_data"
    }
   ],
   "source": [
    "cyclohexane_xyz = vlx.Molecule.smiles_to_xyz('C1CCCCC1')\n",
    "norborane_xyz = vlx.Molecule.smiles_to_xyz('C1C2CCC(C2)C1')\n",
    "\n",
    "viewer = p3d.view(viewergrid=(1, 2), width=400, height=200, linked=False)\n",
    "viewer.addModel(cyclohexane_xyz, 'xyz', viewer=(0, 0))\n",
    "viewer.addModel(norborane_xyz, 'xyz', viewer=(0, 1))\n",
    "viewer.setViewStyle({\"style\": \"outline\", \"width\": 0.05})\n",
    "viewer.setStyle({\"stick\":{},\"sphere\": {\"scale\":0.25}})\n",
    "viewer.show()"
   ]
  },
  {
   "cell_type": "markdown",
   "id": "1a1a1f74",
   "metadata": {},
   "source": [
    "Aromatic rings can be written by using the aromatic bond symbole (`:`) or using lower-case for for the contributing atoms. For example, p-cymene can be written as both:"
   ]
  },
  {
   "cell_type": "code",
   "execution_count": 13,
   "id": "3878a714",
   "metadata": {
    "tags": []
   },
   "outputs": [
    {
     "data": {
      "application/3dmoljs_load.v0": "<div id=\"3dmolviewer_16835483728770812\"  style=\"position: relative; width: 500px; height: 200px\">\n        <p id=\"3dmolwarning_16835483728770812\" style=\"background-color:#ffcccc;color:black\">You appear to be running in JupyterLab (or JavaScript failed to load for some other reason).  You need to install the 3dmol extension: <br>\n        <tt>jupyter labextension install jupyterlab_3dmol</tt></p>\n        </div>\n<script>\n\nvar loadScriptAsync = function(uri){\n  return new Promise((resolve, reject) => {\n    //this is to ignore the existence of requirejs amd\n    var savedexports, savedmodule;\n    if (typeof exports !== 'undefined') savedexports = exports;\n    else exports = {}\n    if (typeof module !== 'undefined') savedmodule = module;\n    else module = {}\n\n    var tag = document.createElement('script');\n    tag.src = uri;\n    tag.async = true;\n    tag.onload = () => {\n        exports = savedexports;\n        module = savedmodule;\n        resolve();\n    };\n  var firstScriptTag = document.getElementsByTagName('script')[0];\n  firstScriptTag.parentNode.insertBefore(tag, firstScriptTag);\n});\n};\n\nif(typeof $3Dmolpromise === 'undefined') {\n$3Dmolpromise = null;\n  $3Dmolpromise = loadScriptAsync('https://cdnjs.cloudflare.com/ajax/libs/3Dmol/2.0.1/3Dmol-min.js');\n}\n\nvar viewer_16835483728770812 = null;\nvar warn = document.getElementById(\"3dmolwarning_16835483728770812\");\nif(warn) {\n    warn.parentNode.removeChild(warn);\n}\n$3Dmolpromise.then(function() {\nvar viewergrid_16835483728770812 = null;\nviewergrid_16835483728770812 = $3Dmol.createViewerGrid(document.getElementById(\"3dmolviewer_16835483728770812\"),{rows: 1, cols: 2, control_all: false},{backgroundColor:\"white\"});\nviewer_16835483728770812 = viewergrid_16835483728770812[0][0];\nviewergrid_16835483728770812[0][0].zoomTo();viewergrid_16835483728770812[0][1].zoomTo();\tviewergrid_16835483728770812[0][0].addModel(\"22\\n\\nC     -2.723718   -1.013405    1.047822\\nC     -2.129542   -0.114416    0.253770\\nC     -2.969866    0.944768   -0.407065\\nC     -0.649536   -0.094275    0.099496\\nC      0.085269   -1.292262    0.014813\\nC      1.474603   -1.264356   -0.137170\\nC      2.153270   -0.040757   -0.223219\\nC      3.647959   -0.012036   -0.346305\\nC      1.428952    1.155588   -0.126828\\nC      0.039492    1.129832    0.024204\\nH     -3.797711   -1.007354    1.188113\\nH     -2.151195   -1.754085    1.591118\\nH     -2.481102    1.302112   -1.338103\\nH     -3.102157    1.801435    0.286537\\nH     -3.968999    0.544444   -0.683908\\nH     -0.414915   -2.251759    0.050245\\nH      2.020319   -2.198279   -0.193191\\nH      4.012471   -0.901236   -0.903556\\nH      3.978667    0.895639   -0.894794\\nH      4.101625   -0.008433    0.666717\\nH      1.939830    2.109785   -0.167606\\nH     -0.493717    2.069051    0.100428\\n\",\"xyz\");\n\tviewergrid_16835483728770812[0][1].addModel(\"22\\n\\nC     -2.723718   -1.013405    1.047822\\nC     -2.129542   -0.114416    0.253770\\nC     -2.969866    0.944768   -0.407065\\nC     -0.649536   -0.094275    0.099496\\nC      0.085269   -1.292262    0.014813\\nC      1.474603   -1.264356   -0.137170\\nC      2.153270   -0.040757   -0.223219\\nC      3.647959   -0.012036   -0.346305\\nC      1.428952    1.155588   -0.126828\\nC      0.039492    1.129832    0.024204\\nH     -3.797711   -1.007354    1.188113\\nH     -2.151195   -1.754085    1.591118\\nH     -2.481102    1.302112   -1.338103\\nH     -3.102157    1.801435    0.286537\\nH     -3.968999    0.544444   -0.683908\\nH     -0.414915   -2.251759    0.050245\\nH      2.020319   -2.198279   -0.193191\\nH      4.012471   -0.901236   -0.903556\\nH      3.978667    0.895639   -0.894794\\nH      4.101625   -0.008433    0.666717\\nH      1.939830    2.109785   -0.167606\\nH     -0.493717    2.069051    0.100428\\n\",\"xyz\");\n\tviewergrid_16835483728770812[0][0].setViewStyle({\"style\": \"outline\", \"width\": 0.05});\n\tviewergrid_16835483728770812[0][1].setViewStyle({\"style\": \"outline\", \"width\": 0.05});\n\tviewergrid_16835483728770812[0][0].setStyle({\"stick\": {}, \"sphere\": {\"scale\": 0.25}});\n\tviewergrid_16835483728770812[0][1].setStyle({\"stick\": {}, \"sphere\": {\"scale\": 0.25}});\nviewergrid_16835483728770812[0][1].render();\nviewergrid_16835483728770812[0][0].render();\n});\n</script>",
      "text/html": [
       "<div id=\"3dmolviewer_16835483728770812\"  style=\"position: relative; width: 500px; height: 200px\">\n",
       "        <p id=\"3dmolwarning_16835483728770812\" style=\"background-color:#ffcccc;color:black\">You appear to be running in JupyterLab (or JavaScript failed to load for some other reason).  You need to install the 3dmol extension: <br>\n",
       "        <tt>jupyter labextension install jupyterlab_3dmol</tt></p>\n",
       "        </div>\n",
       "<script>\n",
       "\n",
       "var loadScriptAsync = function(uri){\n",
       "  return new Promise((resolve, reject) => {\n",
       "    //this is to ignore the existence of requirejs amd\n",
       "    var savedexports, savedmodule;\n",
       "    if (typeof exports !== 'undefined') savedexports = exports;\n",
       "    else exports = {}\n",
       "    if (typeof module !== 'undefined') savedmodule = module;\n",
       "    else module = {}\n",
       "\n",
       "    var tag = document.createElement('script');\n",
       "    tag.src = uri;\n",
       "    tag.async = true;\n",
       "    tag.onload = () => {\n",
       "        exports = savedexports;\n",
       "        module = savedmodule;\n",
       "        resolve();\n",
       "    };\n",
       "  var firstScriptTag = document.getElementsByTagName('script')[0];\n",
       "  firstScriptTag.parentNode.insertBefore(tag, firstScriptTag);\n",
       "});\n",
       "};\n",
       "\n",
       "if(typeof $3Dmolpromise === 'undefined') {\n",
       "$3Dmolpromise = null;\n",
       "  $3Dmolpromise = loadScriptAsync('https://cdnjs.cloudflare.com/ajax/libs/3Dmol/2.0.1/3Dmol-min.js');\n",
       "}\n",
       "\n",
       "var viewer_16835483728770812 = null;\n",
       "var warn = document.getElementById(\"3dmolwarning_16835483728770812\");\n",
       "if(warn) {\n",
       "    warn.parentNode.removeChild(warn);\n",
       "}\n",
       "$3Dmolpromise.then(function() {\n",
       "var viewergrid_16835483728770812 = null;\n",
       "viewergrid_16835483728770812 = $3Dmol.createViewerGrid(document.getElementById(\"3dmolviewer_16835483728770812\"),{rows: 1, cols: 2, control_all: false},{backgroundColor:\"white\"});\n",
       "viewer_16835483728770812 = viewergrid_16835483728770812[0][0];\n",
       "viewergrid_16835483728770812[0][0].zoomTo();viewergrid_16835483728770812[0][1].zoomTo();\tviewergrid_16835483728770812[0][0].addModel(\"22\\n\\nC     -2.723718   -1.013405    1.047822\\nC     -2.129542   -0.114416    0.253770\\nC     -2.969866    0.944768   -0.407065\\nC     -0.649536   -0.094275    0.099496\\nC      0.085269   -1.292262    0.014813\\nC      1.474603   -1.264356   -0.137170\\nC      2.153270   -0.040757   -0.223219\\nC      3.647959   -0.012036   -0.346305\\nC      1.428952    1.155588   -0.126828\\nC      0.039492    1.129832    0.024204\\nH     -3.797711   -1.007354    1.188113\\nH     -2.151195   -1.754085    1.591118\\nH     -2.481102    1.302112   -1.338103\\nH     -3.102157    1.801435    0.286537\\nH     -3.968999    0.544444   -0.683908\\nH     -0.414915   -2.251759    0.050245\\nH      2.020319   -2.198279   -0.193191\\nH      4.012471   -0.901236   -0.903556\\nH      3.978667    0.895639   -0.894794\\nH      4.101625   -0.008433    0.666717\\nH      1.939830    2.109785   -0.167606\\nH     -0.493717    2.069051    0.100428\\n\",\"xyz\");\n",
       "\tviewergrid_16835483728770812[0][1].addModel(\"22\\n\\nC     -2.723718   -1.013405    1.047822\\nC     -2.129542   -0.114416    0.253770\\nC     -2.969866    0.944768   -0.407065\\nC     -0.649536   -0.094275    0.099496\\nC      0.085269   -1.292262    0.014813\\nC      1.474603   -1.264356   -0.137170\\nC      2.153270   -0.040757   -0.223219\\nC      3.647959   -0.012036   -0.346305\\nC      1.428952    1.155588   -0.126828\\nC      0.039492    1.129832    0.024204\\nH     -3.797711   -1.007354    1.188113\\nH     -2.151195   -1.754085    1.591118\\nH     -2.481102    1.302112   -1.338103\\nH     -3.102157    1.801435    0.286537\\nH     -3.968999    0.544444   -0.683908\\nH     -0.414915   -2.251759    0.050245\\nH      2.020319   -2.198279   -0.193191\\nH      4.012471   -0.901236   -0.903556\\nH      3.978667    0.895639   -0.894794\\nH      4.101625   -0.008433    0.666717\\nH      1.939830    2.109785   -0.167606\\nH     -0.493717    2.069051    0.100428\\n\",\"xyz\");\n",
       "\tviewergrid_16835483728770812[0][0].setViewStyle({\"style\": \"outline\", \"width\": 0.05});\n",
       "\tviewergrid_16835483728770812[0][1].setViewStyle({\"style\": \"outline\", \"width\": 0.05});\n",
       "\tviewergrid_16835483728770812[0][0].setStyle({\"stick\": {}, \"sphere\": {\"scale\": 0.25}});\n",
       "\tviewergrid_16835483728770812[0][1].setStyle({\"stick\": {}, \"sphere\": {\"scale\": 0.25}});\n",
       "viewergrid_16835483728770812[0][1].render();\n",
       "viewergrid_16835483728770812[0][0].render();\n",
       "});\n",
       "</script>"
      ]
     },
     "metadata": {},
     "output_type": "display_data"
    }
   ],
   "source": [
    "pcymene1_xyz = vlx.Molecule.smiles_to_xyz('C=C(C)C1:C:C:C(C):C:C1')\n",
    "pcymene2_xyz = vlx.Molecule.smiles_to_xyz('C=C(C)c1ccc(C)cc1')\n",
    "\n",
    "viewer = p3d.view(viewergrid=(1, 2), width=500, height=200, linked=False)\n",
    "viewer.addModel(pcymene1_xyz, 'xyz', viewer=(0, 0))\n",
    "viewer.addModel(pcymene1_xyz, 'xyz', viewer=(0, 1))\n",
    "viewer.setViewStyle({\"style\": \"outline\", \"width\": 0.05})\n",
    "viewer.setStyle({\"stick\":{},\"sphere\": {\"scale\":0.25}})\n",
    "viewer.show()"
   ]
  },
  {
   "cell_type": "markdown",
   "id": "b152e821",
   "metadata": {},
   "source": [
    "## More complex systems\n",
    "\n",
    "For more complex molecules, the easiest option is to check if wikipedia, [ChemSpider](http://www.chemspider.com/), or any other digital resources provide the SMILES string. This will work for many common molecules, and for the rest you can either consult more detailed guides on using SMILES and go from there, or use a graphical interface.\n",
    "\n",
    "```{note}\n",
    "No matter which option is chosen, we stress that you should always check that the structure you obtain is reasonably close to what is sought. For some systems you may need to sample many different conformers, and for PDB-files you might have to add hydrogens.\n",
    "```\n",
    "\n",
    "As an example, the structures NADH (left) and NAD$^+$ (right) are illustrated below, using the SMILES string from [wikipedia](https://en.wikipedia.org/wiki/Nicotinamide_adenine_dinucleotide). Nicotinamide adenine dinucleotide partake in metabolism through the redox reaction:\n",
    "\n",
    "$$\n",
    "\\mathrm{NADH} \\Longleftrightarrow \\mathrm{NAD}^+ +  \\mathrm{H}^+ + 2\\mathrm{e}^- \n",
    "$$\n",
    "\n",
    "The resulting conformers need to be corrected, but we see that the general structure and the location of the hydrogen at the nicotinamide ring is correct."
   ]
  },
  {
   "cell_type": "code",
   "execution_count": 14,
   "id": "3e331e6a",
   "metadata": {
    "tags": []
   },
   "outputs": [
    {
     "data": {
      "application/3dmoljs_load.v0": "<div id=\"3dmolviewer_16835483737702134\"  style=\"position: relative; width: 600px; height: 200px\">\n        <p id=\"3dmolwarning_16835483737702134\" style=\"background-color:#ffcccc;color:black\">You appear to be running in JupyterLab (or JavaScript failed to load for some other reason).  You need to install the 3dmol extension: <br>\n        <tt>jupyter labextension install jupyterlab_3dmol</tt></p>\n        </div>\n<script>\n\nvar loadScriptAsync = function(uri){\n  return new Promise((resolve, reject) => {\n    //this is to ignore the existence of requirejs amd\n    var savedexports, savedmodule;\n    if (typeof exports !== 'undefined') savedexports = exports;\n    else exports = {}\n    if (typeof module !== 'undefined') savedmodule = module;\n    else module = {}\n\n    var tag = document.createElement('script');\n    tag.src = uri;\n    tag.async = true;\n    tag.onload = () => {\n        exports = savedexports;\n        module = savedmodule;\n        resolve();\n    };\n  var firstScriptTag = document.getElementsByTagName('script')[0];\n  firstScriptTag.parentNode.insertBefore(tag, firstScriptTag);\n});\n};\n\nif(typeof $3Dmolpromise === 'undefined') {\n$3Dmolpromise = null;\n  $3Dmolpromise = loadScriptAsync('https://cdnjs.cloudflare.com/ajax/libs/3Dmol/2.0.1/3Dmol-min.js');\n}\n\nvar viewer_16835483737702134 = null;\nvar warn = document.getElementById(\"3dmolwarning_16835483737702134\");\nif(warn) {\n    warn.parentNode.removeChild(warn);\n}\n$3Dmolpromise.then(function() {\nvar viewergrid_16835483737702134 = null;\nviewergrid_16835483737702134 = $3Dmol.createViewerGrid(document.getElementById(\"3dmolviewer_16835483737702134\"),{rows: 1, cols: 2, control_all: false},{backgroundColor:\"white\"});\nviewer_16835483737702134 = viewergrid_16835483737702134[0][0];\nviewergrid_16835483737702134[0][0].zoomTo();viewergrid_16835483737702134[0][1].zoomTo();\tviewergrid_16835483737702134[0][0].addModel(\"71\\n\\nO     10.739094    1.258711   -0.867150\\nC     10.166306    0.970777    0.219187\\nN     10.895480    1.130016    1.440677\\nC      8.760723    0.477458    0.212887\\nC      8.105209    0.075955    1.519475\\nC      6.727656   -0.511377    1.378178\\nC      6.089776   -0.547286    0.210873\\nN      6.711742   -0.043810   -0.983133\\nC      8.073968    0.416887   -0.942684\\nC      6.014287   -0.125825   -2.275170\\nO      4.658700    0.241965   -2.114063\\nC      3.872194   -0.763910   -2.708301\\nC      4.681329   -2.052044   -2.715731\\nO      4.298370   -2.878658   -3.784968\\nC      6.100963   -1.546046   -2.847391\\nO      6.498455   -1.487221   -4.195945\\nC      2.556634   -0.918303   -1.941747\\nO      1.849054    0.297171   -1.993883\\nP      0.427309    0.126712   -1.071384\\nO      0.837635   -0.259914    0.526262\\nO     -0.308561    1.446870   -1.085207\\nO     -0.556121   -1.076306   -1.770586\\nP     -1.740953   -1.498128   -0.625025\\nO     -2.826807   -2.284279   -1.323143\\nO     -1.035143   -2.478894    0.562400\\nO     -2.430073   -0.094393    0.060473\\nC     -3.059381   -0.444786    1.268918\\nC     -3.750194    0.794538    1.848830\\nO     -4.722129    1.254319    0.929294\\nC     -5.970790    1.275664    1.586443\\nN     -7.021390    0.796728    0.687092\\nC     -6.939461   -0.182478   -0.251891\\nN     -8.132891   -0.461385   -0.846427\\nC     -8.978038    0.386270   -0.228362\\nC    -10.350230    0.542755   -0.390177\\nN    -10.980183    1.460801    0.402188\\nC    -10.288682    2.200775    1.328274\\nN     -8.940296    2.032638    1.483626\\nC     -8.318145    1.128502    0.689588\\nN    -11.089297   -0.226620   -1.339063\\nC     -5.888631    0.402491    2.827649\\nO     -6.729939    0.887868    3.841671\\nC     -4.425789    0.491948    3.194955\\nO     -4.175209    1.513695    4.134580\\nH     11.872561    1.500261    1.416600\\nH     10.480409    0.909677    2.371903\\nH      8.741186   -0.681866    2.023322\\nH      8.033994    0.969082    2.175488\\nH      6.232896   -0.892316    2.263895\\nH      5.093135   -0.969091    0.171207\\nH      8.548820    0.716297   -1.869711\\nH      6.471925    0.597934   -2.987405\\nH      3.643167   -0.458257   -3.755319\\nH      4.568974   -2.592648   -1.745233\\nH      4.765664   -3.743168   -3.651469\\nH      6.805589   -2.184006   -2.259398\\nH      6.859636   -2.383255   -4.427325\\nH      2.792746   -1.194896   -0.888873\\nH      1.965109   -1.732916   -2.417684\\nH     -2.302426   -0.795517    2.006271\\nH     -3.825305   -1.237794    1.104038\\nH     -2.979013    1.586873    1.979607\\nH     -6.186776    2.329257    1.875072\\nH     -6.021886   -0.703177   -0.494522\\nH    -10.813854    2.918640    1.943185\\nH    -10.612540   -0.919688   -1.955922\\nH    -12.119545   -0.087778   -1.436889\\nH     -6.149330   -0.653099    2.573492\\nH     -6.724537    0.203642    4.561377\\nH     -4.085068   -0.472465    3.632785\\nH     -4.462081    2.378528    3.739419\\n\",\"xyz\");\n\tviewergrid_16835483737702134[0][1].addModel(\"70\\n\\nO      8.631997   -1.525918   -2.765382\\nC      7.755257   -0.891529   -2.120035\\nN      7.143021    0.250970   -2.723734\\nC      7.385745   -1.340073   -0.754901\\nC      8.269359   -2.140104   -0.014250\\nC      7.918653   -2.574040    1.262844\\nC      6.676116   -2.225440    1.789074\\nN      5.794677   -1.471315    1.059995\\nC      6.141082   -1.014842   -0.186966\\nC      4.498544   -1.100083    1.661414\\nO      3.484044   -1.092608    0.672811\\nC      2.834121    0.159095    0.731308\\nC      3.781196    1.159612    1.380406\\nO      3.069833    2.160410    2.059773\\nC      4.587964    0.286927    2.314735\\nO      4.062384    0.271090    3.621976\\nC      2.416682    0.602484   -0.673478\\nO      1.492670   -0.321837   -1.198824\\nP      1.082063    0.179938   -2.777967\\nO      2.445246    0.050431   -3.770970\\nO      0.003354   -0.724842   -3.330160\\nO      0.566343    1.805626   -2.781439\\nP     -0.957014    1.873928   -2.025765\\nO     -1.226459    3.310975   -1.627454\\nO     -2.141343    1.377735   -3.127335\\nO     -1.009295    0.873290   -0.640833\\nC     -2.217517    1.108163    0.047338\\nC     -2.548863   -0.107279    0.926304\\nO     -3.668282    0.190967    1.732188\\nC     -4.801050   -0.454762    1.176948\\nN     -5.831760    0.533541    0.837566\\nC     -5.708183    1.885607    0.756053\\nN     -6.830283    2.504416    0.296501\\nC     -7.673721    1.474674    0.089040\\nC     -8.957315    1.479835   -0.446410\\nN     -9.571375    0.272202   -0.636101\\nC     -8.946695   -0.904990   -0.310802\\nN     -7.680953   -0.898764    0.208060\\nC     -7.080441    0.302340    0.407825\\nN     -9.614696    2.693885   -0.807833\\nC     -4.379383   -1.251328   -0.059215\\nO     -4.990772   -2.515866   -0.084229\\nC     -2.878059   -1.345076    0.087865\\nO     -2.484430   -2.527405    0.749010\\nH      6.531165    0.902175   -2.184930\\nH      7.336670    0.475722   -3.725179\\nH      9.237395   -2.416689   -0.415189\\nH      8.606660   -3.177606    1.843981\\nH      6.417930   -2.567786    2.784864\\nH      5.436561   -0.423346   -0.754392\\nH      4.211523   -1.859028    2.424074\\nH      1.918471    0.051687    1.357110\\nH      4.459133    1.609546    0.614800\\nH      3.727853    2.870064    2.279871\\nH      5.638568    0.649899    2.362612\\nH      3.121840   -0.039317    3.574917\\nH      1.954580    1.612618   -0.592237\\nH      3.325179    0.658935   -1.314445\\nH     -2.094745    2.001958    0.699098\\nH     -3.082419    1.285571   -0.636079\\nH     -1.675448   -0.310784    1.587216\\nH     -5.209744   -1.143620    1.949294\\nH     -4.803118    2.423145    1.007799\\nH     -9.453301   -1.847032   -0.478302\\nH    -10.566915    2.669760   -1.239234\\nH     -9.160504    3.619535   -0.635487\\nH     -4.627595   -0.683804   -0.988031\\nH     -4.819248   -2.895184   -0.985569\\nH     -2.389903   -1.324206   -0.911565\\nH     -2.883053   -2.522253    1.657184\\n\",\"xyz\");\n\tviewergrid_16835483737702134[0][0].setViewStyle({\"style\": \"outline\", \"width\": 0.05});\n\tviewergrid_16835483737702134[0][1].setViewStyle({\"style\": \"outline\", \"width\": 0.05});\n\tviewergrid_16835483737702134[0][0].setStyle({\"stick\": {}, \"sphere\": {\"scale\": 0.25}});\n\tviewergrid_16835483737702134[0][1].setStyle({\"stick\": {}, \"sphere\": {\"scale\": 0.25}});\n\tviewergrid_16835483737702134[0][0].zoomTo();\n\tviewergrid_16835483737702134[0][1].zoomTo();\nviewergrid_16835483737702134[0][1].render();\nviewergrid_16835483737702134[0][0].render();\n});\n</script>",
      "text/html": [
       "<div id=\"3dmolviewer_16835483737702134\"  style=\"position: relative; width: 600px; height: 200px\">\n",
       "        <p id=\"3dmolwarning_16835483737702134\" style=\"background-color:#ffcccc;color:black\">You appear to be running in JupyterLab (or JavaScript failed to load for some other reason).  You need to install the 3dmol extension: <br>\n",
       "        <tt>jupyter labextension install jupyterlab_3dmol</tt></p>\n",
       "        </div>\n",
       "<script>\n",
       "\n",
       "var loadScriptAsync = function(uri){\n",
       "  return new Promise((resolve, reject) => {\n",
       "    //this is to ignore the existence of requirejs amd\n",
       "    var savedexports, savedmodule;\n",
       "    if (typeof exports !== 'undefined') savedexports = exports;\n",
       "    else exports = {}\n",
       "    if (typeof module !== 'undefined') savedmodule = module;\n",
       "    else module = {}\n",
       "\n",
       "    var tag = document.createElement('script');\n",
       "    tag.src = uri;\n",
       "    tag.async = true;\n",
       "    tag.onload = () => {\n",
       "        exports = savedexports;\n",
       "        module = savedmodule;\n",
       "        resolve();\n",
       "    };\n",
       "  var firstScriptTag = document.getElementsByTagName('script')[0];\n",
       "  firstScriptTag.parentNode.insertBefore(tag, firstScriptTag);\n",
       "});\n",
       "};\n",
       "\n",
       "if(typeof $3Dmolpromise === 'undefined') {\n",
       "$3Dmolpromise = null;\n",
       "  $3Dmolpromise = loadScriptAsync('https://cdnjs.cloudflare.com/ajax/libs/3Dmol/2.0.1/3Dmol-min.js');\n",
       "}\n",
       "\n",
       "var viewer_16835483737702134 = null;\n",
       "var warn = document.getElementById(\"3dmolwarning_16835483737702134\");\n",
       "if(warn) {\n",
       "    warn.parentNode.removeChild(warn);\n",
       "}\n",
       "$3Dmolpromise.then(function() {\n",
       "var viewergrid_16835483737702134 = null;\n",
       "viewergrid_16835483737702134 = $3Dmol.createViewerGrid(document.getElementById(\"3dmolviewer_16835483737702134\"),{rows: 1, cols: 2, control_all: false},{backgroundColor:\"white\"});\n",
       "viewer_16835483737702134 = viewergrid_16835483737702134[0][0];\n",
       "viewergrid_16835483737702134[0][0].zoomTo();viewergrid_16835483737702134[0][1].zoomTo();\tviewergrid_16835483737702134[0][0].addModel(\"71\\n\\nO     10.739094    1.258711   -0.867150\\nC     10.166306    0.970777    0.219187\\nN     10.895480    1.130016    1.440677\\nC      8.760723    0.477458    0.212887\\nC      8.105209    0.075955    1.519475\\nC      6.727656   -0.511377    1.378178\\nC      6.089776   -0.547286    0.210873\\nN      6.711742   -0.043810   -0.983133\\nC      8.073968    0.416887   -0.942684\\nC      6.014287   -0.125825   -2.275170\\nO      4.658700    0.241965   -2.114063\\nC      3.872194   -0.763910   -2.708301\\nC      4.681329   -2.052044   -2.715731\\nO      4.298370   -2.878658   -3.784968\\nC      6.100963   -1.546046   -2.847391\\nO      6.498455   -1.487221   -4.195945\\nC      2.556634   -0.918303   -1.941747\\nO      1.849054    0.297171   -1.993883\\nP      0.427309    0.126712   -1.071384\\nO      0.837635   -0.259914    0.526262\\nO     -0.308561    1.446870   -1.085207\\nO     -0.556121   -1.076306   -1.770586\\nP     -1.740953   -1.498128   -0.625025\\nO     -2.826807   -2.284279   -1.323143\\nO     -1.035143   -2.478894    0.562400\\nO     -2.430073   -0.094393    0.060473\\nC     -3.059381   -0.444786    1.268918\\nC     -3.750194    0.794538    1.848830\\nO     -4.722129    1.254319    0.929294\\nC     -5.970790    1.275664    1.586443\\nN     -7.021390    0.796728    0.687092\\nC     -6.939461   -0.182478   -0.251891\\nN     -8.132891   -0.461385   -0.846427\\nC     -8.978038    0.386270   -0.228362\\nC    -10.350230    0.542755   -0.390177\\nN    -10.980183    1.460801    0.402188\\nC    -10.288682    2.200775    1.328274\\nN     -8.940296    2.032638    1.483626\\nC     -8.318145    1.128502    0.689588\\nN    -11.089297   -0.226620   -1.339063\\nC     -5.888631    0.402491    2.827649\\nO     -6.729939    0.887868    3.841671\\nC     -4.425789    0.491948    3.194955\\nO     -4.175209    1.513695    4.134580\\nH     11.872561    1.500261    1.416600\\nH     10.480409    0.909677    2.371903\\nH      8.741186   -0.681866    2.023322\\nH      8.033994    0.969082    2.175488\\nH      6.232896   -0.892316    2.263895\\nH      5.093135   -0.969091    0.171207\\nH      8.548820    0.716297   -1.869711\\nH      6.471925    0.597934   -2.987405\\nH      3.643167   -0.458257   -3.755319\\nH      4.568974   -2.592648   -1.745233\\nH      4.765664   -3.743168   -3.651469\\nH      6.805589   -2.184006   -2.259398\\nH      6.859636   -2.383255   -4.427325\\nH      2.792746   -1.194896   -0.888873\\nH      1.965109   -1.732916   -2.417684\\nH     -2.302426   -0.795517    2.006271\\nH     -3.825305   -1.237794    1.104038\\nH     -2.979013    1.586873    1.979607\\nH     -6.186776    2.329257    1.875072\\nH     -6.021886   -0.703177   -0.494522\\nH    -10.813854    2.918640    1.943185\\nH    -10.612540   -0.919688   -1.955922\\nH    -12.119545   -0.087778   -1.436889\\nH     -6.149330   -0.653099    2.573492\\nH     -6.724537    0.203642    4.561377\\nH     -4.085068   -0.472465    3.632785\\nH     -4.462081    2.378528    3.739419\\n\",\"xyz\");\n",
       "\tviewergrid_16835483737702134[0][1].addModel(\"70\\n\\nO      8.631997   -1.525918   -2.765382\\nC      7.755257   -0.891529   -2.120035\\nN      7.143021    0.250970   -2.723734\\nC      7.385745   -1.340073   -0.754901\\nC      8.269359   -2.140104   -0.014250\\nC      7.918653   -2.574040    1.262844\\nC      6.676116   -2.225440    1.789074\\nN      5.794677   -1.471315    1.059995\\nC      6.141082   -1.014842   -0.186966\\nC      4.498544   -1.100083    1.661414\\nO      3.484044   -1.092608    0.672811\\nC      2.834121    0.159095    0.731308\\nC      3.781196    1.159612    1.380406\\nO      3.069833    2.160410    2.059773\\nC      4.587964    0.286927    2.314735\\nO      4.062384    0.271090    3.621976\\nC      2.416682    0.602484   -0.673478\\nO      1.492670   -0.321837   -1.198824\\nP      1.082063    0.179938   -2.777967\\nO      2.445246    0.050431   -3.770970\\nO      0.003354   -0.724842   -3.330160\\nO      0.566343    1.805626   -2.781439\\nP     -0.957014    1.873928   -2.025765\\nO     -1.226459    3.310975   -1.627454\\nO     -2.141343    1.377735   -3.127335\\nO     -1.009295    0.873290   -0.640833\\nC     -2.217517    1.108163    0.047338\\nC     -2.548863   -0.107279    0.926304\\nO     -3.668282    0.190967    1.732188\\nC     -4.801050   -0.454762    1.176948\\nN     -5.831760    0.533541    0.837566\\nC     -5.708183    1.885607    0.756053\\nN     -6.830283    2.504416    0.296501\\nC     -7.673721    1.474674    0.089040\\nC     -8.957315    1.479835   -0.446410\\nN     -9.571375    0.272202   -0.636101\\nC     -8.946695   -0.904990   -0.310802\\nN     -7.680953   -0.898764    0.208060\\nC     -7.080441    0.302340    0.407825\\nN     -9.614696    2.693885   -0.807833\\nC     -4.379383   -1.251328   -0.059215\\nO     -4.990772   -2.515866   -0.084229\\nC     -2.878059   -1.345076    0.087865\\nO     -2.484430   -2.527405    0.749010\\nH      6.531165    0.902175   -2.184930\\nH      7.336670    0.475722   -3.725179\\nH      9.237395   -2.416689   -0.415189\\nH      8.606660   -3.177606    1.843981\\nH      6.417930   -2.567786    2.784864\\nH      5.436561   -0.423346   -0.754392\\nH      4.211523   -1.859028    2.424074\\nH      1.918471    0.051687    1.357110\\nH      4.459133    1.609546    0.614800\\nH      3.727853    2.870064    2.279871\\nH      5.638568    0.649899    2.362612\\nH      3.121840   -0.039317    3.574917\\nH      1.954580    1.612618   -0.592237\\nH      3.325179    0.658935   -1.314445\\nH     -2.094745    2.001958    0.699098\\nH     -3.082419    1.285571   -0.636079\\nH     -1.675448   -0.310784    1.587216\\nH     -5.209744   -1.143620    1.949294\\nH     -4.803118    2.423145    1.007799\\nH     -9.453301   -1.847032   -0.478302\\nH    -10.566915    2.669760   -1.239234\\nH     -9.160504    3.619535   -0.635487\\nH     -4.627595   -0.683804   -0.988031\\nH     -4.819248   -2.895184   -0.985569\\nH     -2.389903   -1.324206   -0.911565\\nH     -2.883053   -2.522253    1.657184\\n\",\"xyz\");\n",
       "\tviewergrid_16835483737702134[0][0].setViewStyle({\"style\": \"outline\", \"width\": 0.05});\n",
       "\tviewergrid_16835483737702134[0][1].setViewStyle({\"style\": \"outline\", \"width\": 0.05});\n",
       "\tviewergrid_16835483737702134[0][0].setStyle({\"stick\": {}, \"sphere\": {\"scale\": 0.25}});\n",
       "\tviewergrid_16835483737702134[0][1].setStyle({\"stick\": {}, \"sphere\": {\"scale\": 0.25}});\n",
       "\tviewergrid_16835483737702134[0][0].zoomTo();\n",
       "\tviewergrid_16835483737702134[0][1].zoomTo();\n",
       "viewergrid_16835483737702134[0][1].render();\n",
       "viewergrid_16835483737702134[0][0].render();\n",
       "});\n",
       "</script>"
      ]
     },
     "metadata": {},
     "output_type": "display_data"
    }
   ],
   "source": [
    "nadh_xyz = vlx.Molecule.smiles_to_xyz('O=C(N)C1CC=C[N](C=1)[C@@H]2O[C@@H]([C@@H](O)[C@H]2O)COP([O-])(=O)OP(=O)([O-])OC[C@H]5O[C@@H](n4cnc3c(ncnc34)N)[C@H](O)[C@@H]5O')\n",
    "nadp_xyz = vlx.Molecule.smiles_to_xyz('O=C(N)c1ccc[n+](c1)[C@@H]2O[C@@H]([C@@H](O)[C@H]2O)COP([O-])(=O)OP(=O)([O-])OC[C@H]5O[C@@H](n4cnc3c(ncnc34)N)[C@H](O)[C@@H]5O')\n",
    "\n",
    "viewer = p3d.view(viewergrid=(1, 2), width=600, height=200, linked=False)\n",
    "viewer.addModel(nadh_xyz, 'xyz', viewer=(0, 0))\n",
    "viewer.addModel(nadp_xyz, 'xyz', viewer=(0, 1))\n",
    "viewer.setViewStyle({\"style\": \"outline\", \"width\": 0.05})\n",
    "viewer.setStyle({\"stick\":{},\"sphere\": {\"scale\":0.25}})\n",
    "viewer.zoomTo()\n",
    "viewer.show()"
   ]
  }
 ],
 "metadata": {
  "celltoolbar": "Tags",
  "kernelspec": {
   "display_name": "Python 3 (ipykernel)",
   "language": "python",
   "name": "python3"
  },
  "language_info": {
   "codemirror_mode": {
    "name": "ipython",
    "version": 3
   },
   "file_extension": ".py",
   "mimetype": "text/x-python",
   "name": "python",
   "nbconvert_exporter": "python",
   "pygments_lexer": "ipython3",
   "version": "3.10.6"
  }
 },
 "nbformat": 4,
 "nbformat_minor": 5
}
