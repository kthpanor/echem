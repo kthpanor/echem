{
 "cells": [
  {
   "cell_type": "markdown",
   "id": "1867bdea-420c-463e-9867-cf554c45bfbc",
   "metadata": {
    "editable": true,
    "slideshow": {
     "slide_type": ""
    },
    "tags": []
   },
   "source": [
    "(sec:ir-tutorial)=\n",
    "# IR spectroscopy\n",
    "\n",
    "The infrared (IR) absorption process involves the absorption of light with low photon energy (from approx. 800 nm to approx. 1000 $\\mu$m) which promotes the excitation of molecular vibrations. Of the entire IR photon energy range, the photons which excite fundamental vibrations of covalent bonds have energies in the range 2.5-25 $\\mu$m {cite}`Norman2018, Centrone2015`. The absorbed photon energies (i.e., IR absorption peak positions) correspond to the molecular vibrational frequencies, while the IR intensities are related to the IR linear absorption cross-section {cite}`Norman2018`\n",
    "\n",
    "$$\n",
    "\\sigma_k(\\omega)= \\frac{\\pi}{3\\epsilon_0c}\\left(\\frac{\\partial \\mu}{\\partial Q_k}\\right)^2\\frac{\\gamma_{k}}{(\\omega_{k0}-\\omega)^2+\\gamma_{k}^2}\\,\n",
    "$$\n",
    "\n",
    "Here, $\\mu$ is the molecular dipole moment of the electronic ground state, $Q_k$ is the normal coordinate corresponding to the vibrational mode $k$, $\\omega$ is the angular frequency of the absorbed electromagnetic radiation, $\\omega_{k0}$ is the angular frequency difference between the excited vibrational state $|k\\rangle$ and the ground state, and $\\gamma_{k}$ is the half-width broadening associated with the inverse lifetime of $|k\\rangle$. As can be seen from the equation, the IR absorption cross-section depends on the derivative of the dipole moment with respect to the normal coordinate $Q_k$. This means that the only modes which have non-zero IR absorption cross-sections are those associated with a change in the dipole moment {cite}`Siebert2007`.\n",
    "\n",
    "These molecular vibrations constitute fingerprints of different functional groups present in the system and thus are important for chemical characterization and molecular identification.\n",
    "\n",
    "The first step in an IR spectrum calculation is to determine the normal modes and frequencies. These are obtained from the eigenstates and eigenvalues of the Hessian matrix which collects all the second order derivatives of the energy $E$ with respect to the nuclear coordinates. For the ground state, the Hessian can be determined [analytically](sec:mol-hessian), or numerically based on the analytical gradient. The [dipole moment gradient](dipole_mom_gradient:label), required to compute IR absorption cross-sections, can also be determined analytically. "
   ]
  },
  {
   "cell_type": "code",
   "execution_count": 1,
   "id": "8ea1d5ea-44d1-4ae1-bd44-18e61b5b48f5",
   "metadata": {
    "editable": true,
    "slideshow": {
     "slide_type": ""
    },
    "tags": [
     "remove-output"
    ]
   },
   "outputs": [
    {
     "name": "stdout",
     "output_type": "stream",
     "text": [
      "* Warning * Environment variable OMP_NUM_THREADS not set.\n",
      "* Warning * Setting OMP_NUM_THREADS to 4.\n"
     ]
    }
   ],
   "source": [
    "import numpy as np\n",
    "import py3Dmol as p3d\n",
    "import veloxchem as vlx\n",
    "from veloxchem.veloxchemlib import bohr_in_angstroms"
   ]
  },
  {
   "cell_type": "code",
   "execution_count": 3,
   "id": "818d345a-f981-40cc-8726-e469179eb8a2",
   "metadata": {
    "editable": true,
    "slideshow": {
     "slide_type": ""
    },
    "tags": [
     "remove-output"
    ]
   },
   "outputs": [],
   "source": [
    "# Define the molecule and basis set\n",
    "molecule_string = \"\"\"3\n",
    "\n",
    "  O 0.000 0.000  0.000\n",
    "  H 0.000 0.000  0.950\n",
    "  H 0.896 0.000 -0.317\"\"\"\n",
    "\n",
    "molecule = vlx.Molecule.read_xyz_string(molecule_string)\n",
    "basis = vlx.MolecularBasis.read(molecule, \"sto-3g\", ostream=None)"
   ]
  },
  {
   "cell_type": "code",
   "execution_count": 4,
   "id": "126d7f3e-6036-47ae-b0fd-b9bdba4b0b11",
   "metadata": {
    "editable": true,
    "slideshow": {
     "slide_type": ""
    },
    "tags": [
     "remove-input"
    ]
   },
   "outputs": [
    {
     "data": {
      "application/3dmoljs_load.v0": "<div id=\"3dmolviewer_17091994442011771\"  style=\"position: relative; width: 400px; height: 300px;\">\n        <p id=\"3dmolwarning_17091994442011771\" style=\"background-color:#ffcccc;color:black\">You appear to be running in JupyterLab (or JavaScript failed to load for some other reason).  You need to install the 3dmol extension: <br>\n        <tt>jupyter labextension install jupyterlab_3dmol</tt></p>\n        </div>\n<script>\n\nvar loadScriptAsync = function(uri){\n  return new Promise((resolve, reject) => {\n    //this is to ignore the existence of requirejs amd\n    var savedexports, savedmodule;\n    if (typeof exports !== 'undefined') savedexports = exports;\n    else exports = {}\n    if (typeof module !== 'undefined') savedmodule = module;\n    else module = {}\n\n    var tag = document.createElement('script');\n    tag.src = uri;\n    tag.async = true;\n    tag.onload = () => {\n        exports = savedexports;\n        module = savedmodule;\n        resolve();\n    };\n  var firstScriptTag = document.getElementsByTagName('script')[0];\n  firstScriptTag.parentNode.insertBefore(tag, firstScriptTag);\n});\n};\n\nif(typeof $3Dmolpromise === 'undefined') {\n$3Dmolpromise = null;\n  $3Dmolpromise = loadScriptAsync('https://cdnjs.cloudflare.com/ajax/libs/3Dmol/2.0.4/3Dmol-min.js');\n}\n\nvar viewer_17091994442011771 = null;\nvar warn = document.getElementById(\"3dmolwarning_17091994442011771\");\nif(warn) {\n    warn.parentNode.removeChild(warn);\n}\n$3Dmolpromise.then(function() {\nviewer_17091994442011771 = $3Dmol.createViewer(document.getElementById(\"3dmolviewer_17091994442011771\"),{backgroundColor:\"white\"});\nviewer_17091994442011771.zoomTo();\n\tviewer_17091994442011771.addModel(\"3\\n\\nO              0.000000000000         0.000000000000         0.000000000000\\nH              0.000000000000         0.000000000000         0.950000000000\\nH              0.896000000000         0.000000000000        -0.317000000000\\n\");\n\tviewer_17091994442011771.setViewStyle({\"style\": \"outline\", \"width\": 0.05});\n\tviewer_17091994442011771.setStyle({\"stick\": {}, \"sphere\": {\"scale\": 0.25}});\n\tviewer_17091994442011771.zoomTo();\nviewer_17091994442011771.render();\n});\n</script>",
      "text/html": [
       "<div id=\"3dmolviewer_17091994442011771\"  style=\"position: relative; width: 400px; height: 300px;\">\n",
       "        <p id=\"3dmolwarning_17091994442011771\" style=\"background-color:#ffcccc;color:black\">You appear to be running in JupyterLab (or JavaScript failed to load for some other reason).  You need to install the 3dmol extension: <br>\n",
       "        <tt>jupyter labextension install jupyterlab_3dmol</tt></p>\n",
       "        </div>\n",
       "<script>\n",
       "\n",
       "var loadScriptAsync = function(uri){\n",
       "  return new Promise((resolve, reject) => {\n",
       "    //this is to ignore the existence of requirejs amd\n",
       "    var savedexports, savedmodule;\n",
       "    if (typeof exports !== 'undefined') savedexports = exports;\n",
       "    else exports = {}\n",
       "    if (typeof module !== 'undefined') savedmodule = module;\n",
       "    else module = {}\n",
       "\n",
       "    var tag = document.createElement('script');\n",
       "    tag.src = uri;\n",
       "    tag.async = true;\n",
       "    tag.onload = () => {\n",
       "        exports = savedexports;\n",
       "        module = savedmodule;\n",
       "        resolve();\n",
       "    };\n",
       "  var firstScriptTag = document.getElementsByTagName('script')[0];\n",
       "  firstScriptTag.parentNode.insertBefore(tag, firstScriptTag);\n",
       "});\n",
       "};\n",
       "\n",
       "if(typeof $3Dmolpromise === 'undefined') {\n",
       "$3Dmolpromise = null;\n",
       "  $3Dmolpromise = loadScriptAsync('https://cdnjs.cloudflare.com/ajax/libs/3Dmol/2.0.4/3Dmol-min.js');\n",
       "}\n",
       "\n",
       "var viewer_17091994442011771 = null;\n",
       "var warn = document.getElementById(\"3dmolwarning_17091994442011771\");\n",
       "if(warn) {\n",
       "    warn.parentNode.removeChild(warn);\n",
       "}\n",
       "$3Dmolpromise.then(function() {\n",
       "viewer_17091994442011771 = $3Dmol.createViewer(document.getElementById(\"3dmolviewer_17091994442011771\"),{backgroundColor:\"white\"});\n",
       "viewer_17091994442011771.zoomTo();\n",
       "\tviewer_17091994442011771.addModel(\"3\\n\\nO              0.000000000000         0.000000000000         0.000000000000\\nH              0.000000000000         0.000000000000         0.950000000000\\nH              0.896000000000         0.000000000000        -0.317000000000\\n\");\n",
       "\tviewer_17091994442011771.setViewStyle({\"style\": \"outline\", \"width\": 0.05});\n",
       "\tviewer_17091994442011771.setStyle({\"stick\": {}, \"sphere\": {\"scale\": 0.25}});\n",
       "\tviewer_17091994442011771.zoomTo();\n",
       "viewer_17091994442011771.render();\n",
       "});\n",
       "</script>"
      ]
     },
     "metadata": {},
     "output_type": "display_data"
    }
   ],
   "source": [
    "molecule.show()"
   ]
  },
  {
   "cell_type": "code",
   "execution_count": 5,
   "id": "6bfa1e42",
   "metadata": {
    "editable": true,
    "scrolled": true,
    "slideshow": {
     "slide_type": ""
    },
    "tags": [
     "remove-output"
    ]
   },
   "outputs": [],
   "source": [
    "scf_drv = vlx.ScfRestrictedDriver()\n",
    "scf_drv.ostream.mute()\n",
    "\n",
    "scf_results = scf_drv.compute(molecule, basis)"
   ]
  },
  {
   "cell_type": "markdown",
   "id": "b6109b95-ef70-43ea-b8eb-16b5d63bd8d2",
   "metadata": {
    "editable": true,
    "slideshow": {
     "slide_type": ""
    },
    "tags": []
   },
   "source": [
    "Now we can calculate the Hessian "
   ]
  },
  {
   "cell_type": "code",
   "execution_count": 7,
   "id": "77640f16",
   "metadata": {
    "editable": true,
    "slideshow": {
     "slide_type": ""
    },
    "tags": [
     "remove-output"
    ]
   },
   "outputs": [],
   "source": [
    "hessian_drv = vlx.ScfHessianDriver(scf_drv)\n",
    "hessian_drv.ostream.mute()\n",
    "\n",
    "hessian_drv.compute(molecule, basis)"
   ]
  },
  {
   "cell_type": "code",
   "execution_count": 8,
   "id": "57dd6f24",
   "metadata": {
    "editable": true,
    "slideshow": {
     "slide_type": ""
    },
    "tags": []
   },
   "outputs": [],
   "source": [
    "hessian_drv.print_hessian(molecule)"
   ]
  },
  {
   "cell_type": "markdown",
   "id": "f5229512",
   "metadata": {
    "editable": true,
    "slideshow": {
     "slide_type": ""
    },
    "tags": []
   },
   "source": [
    "The normal modes and frequencies are then determined by diagonalizing the Hessian. First, the translation and rotational modes must be projected out, leaving $3N-6$ (or $3N-5$ for a linear molecule) vibrational modes for a system with $N$ atoms. This is done under the hood with the help of [geomeTRIC](sec:geometric). \n",
    "\n",
    "The IR intensities are determined as discussed in more detail [here](dipole_mom_gradient:label)."
   ]
  },
  {
   "cell_type": "code",
   "execution_count": 9,
   "id": "d858138e",
   "metadata": {
    "editable": true,
    "slideshow": {
     "slide_type": ""
    },
    "tags": []
   },
   "outputs": [],
   "source": [
    "hessian_drv.vibrational_analysis(molecule)"
   ]
  },
  {
   "cell_type": "code",
   "execution_count": 10,
   "id": "2dfe5c91",
   "metadata": {
    "editable": true,
    "slideshow": {
     "slide_type": ""
    },
    "tags": []
   },
   "outputs": [],
   "source": [
    "def add_broadening(\n",
    "    list_ex_energy,\n",
    "    list_osci_strength,\n",
    "    line_profile=\"Lorentzian\",\n",
    "    line_param=10,\n",
    "    step=10,\n",
    "):\n",
    "    x_min = np.amin(list_ex_energy) - 50\n",
    "    x_max = np.amax(list_ex_energy) + 50\n",
    "    x = np.arange(x_min, x_max, step)\n",
    "    y = np.zeros((len(x)))\n",
    "\n",
    "    # go through the frames and calculate the spectrum for each frame\n",
    "    for xp in range(len(x)):\n",
    "        for e, f in zip(list_ex_energy, list_osci_strength):\n",
    "            if line_profile == \"Gaussian\":\n",
    "                y[xp] += f * np.exp(-(((e - x[xp]) / line_param) ** 2))\n",
    "            elif line_profile == \"Lorentzian\":\n",
    "                y[xp] += (\n",
    "                    0.5\n",
    "                    * line_param\n",
    "                    * f\n",
    "                    / (np.pi * ((x[xp] - e) ** 2 + 0.25 * line_param**2))\n",
    "                )\n",
    "    return x, y"
   ]
  },
  {
   "cell_type": "code",
   "execution_count": 11,
   "id": "2be8d188",
   "metadata": {
    "editable": true,
    "slideshow": {
     "slide_type": ""
    },
    "tags": []
   },
   "outputs": [
    {
     "data": {
      "image/png": "[encoded data removed]",
      "text/plain": [
       "<Figure size 700x400 with 1 Axes>"
      ]
     },
     "metadata": {},
     "output_type": "display_data"
    }
   ],
   "source": [
    "# plot the IR spectrum\n",
    "from matplotlib import pyplot as plt\n",
    "\n",
    "plt.figure(figsize=(7, 4))\n",
    "x1, y1 = hessian_drv.frequencies, hessian_drv.ir_intensities\n",
    "x1i, y1i = add_broadening(x1, y1, line_profile=\"Gaussian\", line_param=20, step=10)\n",
    "plt.plot(x1i, y1i)\n",
    "plt.xlabel(\"wavenumber (cm**-1)\")\n",
    "plt.ylabel(\"IR intensity (km/mol)\")\n",
    "plt.title(\"Calculated IR sepctrum of the water molecule\")\n",
    "plt.tight_layout()\n",
    "plt.show()"
   ]
  },
  {
   "cell_type": "markdown",
   "id": "62837f4f",
   "metadata": {
    "editable": true,
    "slideshow": {
     "slide_type": ""
    },
    "tags": []
   },
   "source": [
    "![Experimental spectrum](../../img/ir_raman/ir-exp-water.png)\n",
    "\n",
    "Let's now visualize the three vibrational normal modes. The two high frequency modes are OH stretching modes (one symmetryc and one asymmetric), while the lower energy mode is a bond angle bending."
   ]
  },
  {
   "cell_type": "code",
   "execution_count": 12,
   "id": "53826cd2",
   "metadata": {
    "editable": true,
    "slideshow": {
     "slide_type": ""
    },
    "tags": []
   },
   "outputs": [],
   "source": [
    "# To animate the normal mode we will need both the geometry and the displacements\n",
    "def get_normal_mode(molecule, normal_mode):\n",
    "    elements = molecule.get_labels()\n",
    "    # Transform from au to A\n",
    "    coords = molecule.get_coordinates() * bohr_in_angstroms()\n",
    "    natm = molecule.number_of_atoms()\n",
    "\n",
    "    vib_xyz = \"%d\\n\\n\" % natm\n",
    "    nm = normal_mode.reshape(natm, 3)\n",
    "    for i in range(natm):\n",
    "        # add coordinates:\n",
    "        vib_xyz += elements[i] + \" %15.7f %15.7f %15.7f \" % (\n",
    "            coords[i, 0],\n",
    "            coords[i, 1],\n",
    "            coords[i, 2],\n",
    "        )\n",
    "        # add displacements:\n",
    "        vib_xyz += \"%15.7f %15.7f %15.7f\\n\" % (nm[i, 0], nm[i, 1], nm[i, 2])\n",
    "    return vib_xyz"
   ]
  },
  {
   "cell_type": "code",
   "execution_count": 13,
   "id": "3ca09d44",
   "metadata": {
    "editable": true,
    "slideshow": {
     "slide_type": ""
    },
    "tags": []
   },
   "outputs": [],
   "source": [
    "vib_1 = get_normal_mode(molecule, hessian_drv.normal_modes[0])\n",
    "vib_2 = get_normal_mode(molecule, hessian_drv.normal_modes[1])\n",
    "vib_3 = get_normal_mode(molecule, hessian_drv.normal_modes[2])"
   ]
  },
  {
   "cell_type": "code",
   "execution_count": 14,
   "id": "3d21debc-01e2-4c68-acf2-8d409b984b65",
   "metadata": {
    "editable": true,
    "slideshow": {
     "slide_type": ""
    },
    "tags": []
   },
   "outputs": [
    {
     "name": "stdout",
     "output_type": "stream",
     "text": [
      "This is the bending mode at 1927.09 cm-1.\n"
     ]
    },
    {
     "data": {
      "application/3dmoljs_load.v0": "<div id=\"3dmolviewer_1709199597960767\"  style=\"position: relative; width: 300px; height: 300px;\">\n        <p id=\"3dmolwarning_1709199597960767\" style=\"background-color:#ffcccc;color:black\">You appear to be running in JupyterLab (or JavaScript failed to load for some other reason).  You need to install the 3dmol extension: <br>\n        <tt>jupyter labextension install jupyterlab_3dmol</tt></p>\n        </div>\n<script>\n\nvar loadScriptAsync = function(uri){\n  return new Promise((resolve, reject) => {\n    //this is to ignore the existence of requirejs amd\n    var savedexports, savedmodule;\n    if (typeof exports !== 'undefined') savedexports = exports;\n    else exports = {}\n    if (typeof module !== 'undefined') savedmodule = module;\n    else module = {}\n\n    var tag = document.createElement('script');\n    tag.src = uri;\n    tag.async = true;\n    tag.onload = () => {\n        exports = savedexports;\n        module = savedmodule;\n        resolve();\n    };\n  var firstScriptTag = document.getElementsByTagName('script')[0];\n  firstScriptTag.parentNode.insertBefore(tag, firstScriptTag);\n});\n};\n\nif(typeof $3Dmolpromise === 'undefined') {\n$3Dmolpromise = null;\n  $3Dmolpromise = loadScriptAsync('https://cdnjs.cloudflare.com/ajax/libs/3Dmol/2.0.4/3Dmol-min.js');\n}\n\nvar viewer_1709199597960767 = null;\nvar warn = document.getElementById(\"3dmolwarning_1709199597960767\");\nif(warn) {\n    warn.parentNode.removeChild(warn);\n}\n$3Dmolpromise.then(function() {\nviewer_1709199597960767 = $3Dmol.createViewer(document.getElementById(\"3dmolviewer_1709199597960767\"),{backgroundColor:\"white\"});\nviewer_1709199597960767.zoomTo();\n\tviewer_1709199597960767.addModel(\"3\\n\\nO       0.0000000       0.0000000       0.0000000       0.0587157       0.0000000       0.0414896\\nH       0.0000000       0.0000000       0.9500000      -0.7053752       0.0000000       0.0091562\\nH       0.8960000       0.0000000      -0.3170000      -0.2266087      -0.0000000      -0.6677137\\n\",\"xyz\",{\"vibrate\": {\"frames\": 10, \"amplitude\": 0.75}});\n\tviewer_1709199597960767.setViewStyle({\"style\": \"outline\", \"width\": 0.05});\n\tviewer_1709199597960767.setStyle({\"stick\": {}, \"sphere\": {\"scale\": 0.25}});\n\tviewer_1709199597960767.animate({\"loop\": \"backAndForth\"});\n\tviewer_1709199597960767.rotate(-90,\"x\");\n\tviewer_1709199597960767.zoomTo();\nviewer_1709199597960767.render();\n});\n</script>",
      "text/html": [
       "<div id=\"3dmolviewer_1709199597960767\"  style=\"position: relative; width: 300px; height: 300px;\">\n",
       "        <p id=\"3dmolwarning_1709199597960767\" style=\"background-color:#ffcccc;color:black\">You appear to be running in JupyterLab (or JavaScript failed to load for some other reason).  You need to install the 3dmol extension: <br>\n",
       "        <tt>jupyter labextension install jupyterlab_3dmol</tt></p>\n",
       "        </div>\n",
       "<script>\n",
       "\n",
       "var loadScriptAsync = function(uri){\n",
       "  return new Promise((resolve, reject) => {\n",
       "    //this is to ignore the existence of requirejs amd\n",
       "    var savedexports, savedmodule;\n",
       "    if (typeof exports !== 'undefined') savedexports = exports;\n",
       "    else exports = {}\n",
       "    if (typeof module !== 'undefined') savedmodule = module;\n",
       "    else module = {}\n",
       "\n",
       "    var tag = document.createElement('script');\n",
       "    tag.src = uri;\n",
       "    tag.async = true;\n",
       "    tag.onload = () => {\n",
       "        exports = savedexports;\n",
       "        module = savedmodule;\n",
       "        resolve();\n",
       "    };\n",
       "  var firstScriptTag = document.getElementsByTagName('script')[0];\n",
       "  firstScriptTag.parentNode.insertBefore(tag, firstScriptTag);\n",
       "});\n",
       "};\n",
       "\n",
       "if(typeof $3Dmolpromise === 'undefined') {\n",
       "$3Dmolpromise = null;\n",
       "  $3Dmolpromise = loadScriptAsync('https://cdnjs.cloudflare.com/ajax/libs/3Dmol/2.0.4/3Dmol-min.js');\n",
       "}\n",
       "\n",
       "var viewer_1709199597960767 = null;\n",
       "var warn = document.getElementById(\"3dmolwarning_1709199597960767\");\n",
       "if(warn) {\n",
       "    warn.parentNode.removeChild(warn);\n",
       "}\n",
       "$3Dmolpromise.then(function() {\n",
       "viewer_1709199597960767 = $3Dmol.createViewer(document.getElementById(\"3dmolviewer_1709199597960767\"),{backgroundColor:\"white\"});\n",
       "viewer_1709199597960767.zoomTo();\n",
       "\tviewer_1709199597960767.addModel(\"3\\n\\nO       0.0000000       0.0000000       0.0000000       0.0587157       0.0000000       0.0414896\\nH       0.0000000       0.0000000       0.9500000      -0.7053752       0.0000000       0.0091562\\nH       0.8960000       0.0000000      -0.3170000      -0.2266087      -0.0000000      -0.6677137\\n\",\"xyz\",{\"vibrate\": {\"frames\": 10, \"amplitude\": 0.75}});\n",
       "\tviewer_1709199597960767.setViewStyle({\"style\": \"outline\", \"width\": 0.05});\n",
       "\tviewer_1709199597960767.setStyle({\"stick\": {}, \"sphere\": {\"scale\": 0.25}});\n",
       "\tviewer_1709199597960767.animate({\"loop\": \"backAndForth\"});\n",
       "\tviewer_1709199597960767.rotate(-90,\"x\");\n",
       "\tviewer_1709199597960767.zoomTo();\n",
       "viewer_1709199597960767.render();\n",
       "});\n",
       "</script>"
      ]
     },
     "metadata": {},
     "output_type": "display_data"
    }
   ],
   "source": [
    "print(\"This is the bending mode at 1927.09 cm-1.\")\n",
    "view = p3d.view(width=300, height=300)\n",
    "view.addModel(vib_1, \"xyz\", {\"vibrate\": {\"frames\": 10, \"amplitude\": 0.75}})\n",
    "view.setViewStyle({\"style\": \"outline\", \"width\": 0.05})\n",
    "view.setStyle({\"stick\": {}, \"sphere\": {\"scale\": 0.25}})\n",
    "view.animate({\"loop\": \"backAndForth\"})\n",
    "view.rotate(-90, \"x\")\n",
    "view.zoomTo()\n",
    "view.show()"
   ]
  },
  {
   "cell_type": "code",
   "execution_count": 15,
   "id": "19e35714-8b3b-474a-8024-56a22fec1619",
   "metadata": {
    "editable": true,
    "slideshow": {
     "slide_type": ""
    },
    "tags": []
   },
   "outputs": [
    {
     "name": "stdout",
     "output_type": "stream",
     "text": [
      "This is the symmetric stretching mode at 4545.78 cm-1.\n"
     ]
    },
    {
     "data": {
      "application/3dmoljs_load.v0": "<div id=\"3dmolviewer_1709199604823694\"  style=\"position: relative; width: 300px; height: 300px;\">\n        <p id=\"3dmolwarning_1709199604823694\" style=\"background-color:#ffcccc;color:black\">You appear to be running in JupyterLab (or JavaScript failed to load for some other reason).  You need to install the 3dmol extension: <br>\n        <tt>jupyter labextension install jupyterlab_3dmol</tt></p>\n        </div>\n<script>\n\nvar loadScriptAsync = function(uri){\n  return new Promise((resolve, reject) => {\n    //this is to ignore the existence of requirejs amd\n    var savedexports, savedmodule;\n    if (typeof exports !== 'undefined') savedexports = exports;\n    else exports = {}\n    if (typeof module !== 'undefined') savedmodule = module;\n    else module = {}\n\n    var tag = document.createElement('script');\n    tag.src = uri;\n    tag.async = true;\n    tag.onload = () => {\n        exports = savedexports;\n        module = savedmodule;\n        resolve();\n    };\n  var firstScriptTag = document.getElementsByTagName('script')[0];\n  firstScriptTag.parentNode.insertBefore(tag, firstScriptTag);\n});\n};\n\nif(typeof $3Dmolpromise === 'undefined') {\n$3Dmolpromise = null;\n  $3Dmolpromise = loadScriptAsync('https://cdnjs.cloudflare.com/ajax/libs/3Dmol/2.0.4/3Dmol-min.js');\n}\n\nvar viewer_1709199604823694 = null;\nvar warn = document.getElementById(\"3dmolwarning_1709199604823694\");\nif(warn) {\n    warn.parentNode.removeChild(warn);\n}\n$3Dmolpromise.then(function() {\nviewer_1709199604823694 = $3Dmol.createViewer(document.getElementById(\"3dmolviewer_1709199604823694\"),{backgroundColor:\"white\"});\nviewer_1709199604823694.zoomTo();\n\tviewer_1709199604823694.addModel(\"3\\n\\nO       0.0000000       0.0000000       0.0000000      -0.0397284       0.0000000      -0.0273808\\nH       0.0000000       0.0000000       0.9500000      -0.0299230       0.0000000       0.7000267\\nH       0.8960000       0.0000000      -0.3170000       0.6605250      -0.0000000      -0.2654166\\n\",\"xyz\",{\"vibrate\": {\"frames\": 10, \"amplitude\": 0.75}});\n\tviewer_1709199604823694.setViewStyle({\"style\": \"outline\", \"width\": 0.05});\n\tviewer_1709199604823694.setStyle({\"stick\": {}, \"sphere\": {\"scale\": 0.25}});\n\tviewer_1709199604823694.animate({\"loop\": \"backAndForth\"});\n\tviewer_1709199604823694.rotate(-90,\"x\");\n\tviewer_1709199604823694.zoomTo();\nviewer_1709199604823694.render();\n});\n</script>",
      "text/html": [
       "<div id=\"3dmolviewer_1709199604823694\"  style=\"position: relative; width: 300px; height: 300px;\">\n",
       "        <p id=\"3dmolwarning_1709199604823694\" style=\"background-color:#ffcccc;color:black\">You appear to be running in JupyterLab (or JavaScript failed to load for some other reason).  You need to install the 3dmol extension: <br>\n",
       "        <tt>jupyter labextension install jupyterlab_3dmol</tt></p>\n",
       "        </div>\n",
       "<script>\n",
       "\n",
       "var loadScriptAsync = function(uri){\n",
       "  return new Promise((resolve, reject) => {\n",
       "    //this is to ignore the existence of requirejs amd\n",
       "    var savedexports, savedmodule;\n",
       "    if (typeof exports !== 'undefined') savedexports = exports;\n",
       "    else exports = {}\n",
       "    if (typeof module !== 'undefined') savedmodule = module;\n",
       "    else module = {}\n",
       "\n",
       "    var tag = document.createElement('script');\n",
       "    tag.src = uri;\n",
       "    tag.async = true;\n",
       "    tag.onload = () => {\n",
       "        exports = savedexports;\n",
       "        module = savedmodule;\n",
       "        resolve();\n",
       "    };\n",
       "  var firstScriptTag = document.getElementsByTagName('script')[0];\n",
       "  firstScriptTag.parentNode.insertBefore(tag, firstScriptTag);\n",
       "});\n",
       "};\n",
       "\n",
       "if(typeof $3Dmolpromise === 'undefined') {\n",
       "$3Dmolpromise = null;\n",
       "  $3Dmolpromise = loadScriptAsync('https://cdnjs.cloudflare.com/ajax/libs/3Dmol/2.0.4/3Dmol-min.js');\n",
       "}\n",
       "\n",
       "var viewer_1709199604823694 = null;\n",
       "var warn = document.getElementById(\"3dmolwarning_1709199604823694\");\n",
       "if(warn) {\n",
       "    warn.parentNode.removeChild(warn);\n",
       "}\n",
       "$3Dmolpromise.then(function() {\n",
       "viewer_1709199604823694 = $3Dmol.createViewer(document.getElementById(\"3dmolviewer_1709199604823694\"),{backgroundColor:\"white\"});\n",
       "viewer_1709199604823694.zoomTo();\n",
       "\tviewer_1709199604823694.addModel(\"3\\n\\nO       0.0000000       0.0000000       0.0000000      -0.0397284       0.0000000      -0.0273808\\nH       0.0000000       0.0000000       0.9500000      -0.0299230       0.0000000       0.7000267\\nH       0.8960000       0.0000000      -0.3170000       0.6605250      -0.0000000      -0.2654166\\n\",\"xyz\",{\"vibrate\": {\"frames\": 10, \"amplitude\": 0.75}});\n",
       "\tviewer_1709199604823694.setViewStyle({\"style\": \"outline\", \"width\": 0.05});\n",
       "\tviewer_1709199604823694.setStyle({\"stick\": {}, \"sphere\": {\"scale\": 0.25}});\n",
       "\tviewer_1709199604823694.animate({\"loop\": \"backAndForth\"});\n",
       "\tviewer_1709199604823694.rotate(-90,\"x\");\n",
       "\tviewer_1709199604823694.zoomTo();\n",
       "viewer_1709199604823694.render();\n",
       "});\n",
       "</script>"
      ]
     },
     "metadata": {},
     "output_type": "display_data"
    }
   ],
   "source": [
    "print(\"This is the symmetric stretching mode at 4545.78 cm-1.\")\n",
    "view = p3d.view(width=300, height=300)\n",
    "view.addModel(vib_2, \"xyz\", {\"vibrate\": {\"frames\": 10, \"amplitude\": 0.75}})\n",
    "view.setViewStyle({\"style\": \"outline\", \"width\": 0.05})\n",
    "view.setStyle({\"stick\": {}, \"sphere\": {\"scale\": 0.25}})\n",
    "view.animate({\"loop\": \"backAndForth\"})\n",
    "view.rotate(-90, \"x\")\n",
    "view.zoomTo()\n",
    "view.show()"
   ]
  },
  {
   "cell_type": "code",
   "execution_count": 16,
   "id": "e9f403ee-0334-496f-8165-815abc71213c",
   "metadata": {
    "editable": true,
    "slideshow": {
     "slide_type": ""
    },
    "tags": []
   },
   "outputs": [
    {
     "name": "stdout",
     "output_type": "stream",
     "text": [
      "This is the asymmetric stretching mode at 4896.44 cm-1.\n"
     ]
    },
    {
     "data": {
      "application/3dmoljs_load.v0": "<div id=\"3dmolviewer_1709199607479645\"  style=\"position: relative; width: 300px; height: 300px;\">\n        <p id=\"3dmolwarning_1709199607479645\" style=\"background-color:#ffcccc;color:black\">You appear to be running in JupyterLab (or JavaScript failed to load for some other reason).  You need to install the 3dmol extension: <br>\n        <tt>jupyter labextension install jupyterlab_3dmol</tt></p>\n        </div>\n<script>\n\nvar loadScriptAsync = function(uri){\n  return new Promise((resolve, reject) => {\n    //this is to ignore the existence of requirejs amd\n    var savedexports, savedmodule;\n    if (typeof exports !== 'undefined') savedexports = exports;\n    else exports = {}\n    if (typeof module !== 'undefined') savedmodule = module;\n    else module = {}\n\n    var tag = document.createElement('script');\n    tag.src = uri;\n    tag.async = true;\n    tag.onload = () => {\n        exports = savedexports;\n        module = savedmodule;\n        resolve();\n    };\n  var firstScriptTag = document.getElementsByTagName('script')[0];\n  firstScriptTag.parentNode.insertBefore(tag, firstScriptTag);\n});\n};\n\nif(typeof $3Dmolpromise === 'undefined') {\n$3Dmolpromise = null;\n  $3Dmolpromise = loadScriptAsync('https://cdnjs.cloudflare.com/ajax/libs/3Dmol/2.0.4/3Dmol-min.js');\n}\n\nvar viewer_1709199607479645 = null;\nvar warn = document.getElementById(\"3dmolwarning_1709199607479645\");\nif(warn) {\n    warn.parentNode.removeChild(warn);\n}\n$3Dmolpromise.then(function() {\nviewer_1709199607479645 = $3Dmol.createViewer(document.getElementById(\"3dmolviewer_1709199607479645\"),{backgroundColor:\"white\"});\nviewer_1709199607479645.zoomTo();\n\tviewer_1709199607479645.addModel(\"3\\n\\nO       0.0000000       0.0000000       0.0000000       0.0415550       0.0000000      -0.0594815\\nH       0.0000000       0.0000000       0.9500000      -0.0001977       0.0000000       0.7110579\\nH       0.8960000       0.0000000      -0.3170000      -0.6593972       0.0000000       0.2330816\\n\",\"xyz\",{\"vibrate\": {\"frames\": 10, \"amplitude\": 0.75}});\n\tviewer_1709199607479645.setViewStyle({\"style\": \"outline\", \"width\": 0.05});\n\tviewer_1709199607479645.setStyle({\"stick\": {}, \"sphere\": {\"scale\": 0.25}});\n\tviewer_1709199607479645.animate({\"loop\": \"backAndForth\"});\n\tviewer_1709199607479645.rotate(-90,\"x\");\n\tviewer_1709199607479645.zoomTo();\nviewer_1709199607479645.render();\n});\n</script>",
      "text/html": [
       "<div id=\"3dmolviewer_1709199607479645\"  style=\"position: relative; width: 300px; height: 300px;\">\n",
       "        <p id=\"3dmolwarning_1709199607479645\" style=\"background-color:#ffcccc;color:black\">You appear to be running in JupyterLab (or JavaScript failed to load for some other reason).  You need to install the 3dmol extension: <br>\n",
       "        <tt>jupyter labextension install jupyterlab_3dmol</tt></p>\n",
       "        </div>\n",
       "<script>\n",
       "\n",
       "var loadScriptAsync = function(uri){\n",
       "  return new Promise((resolve, reject) => {\n",
       "    //this is to ignore the existence of requirejs amd\n",
       "    var savedexports, savedmodule;\n",
       "    if (typeof exports !== 'undefined') savedexports = exports;\n",
       "    else exports = {}\n",
       "    if (typeof module !== 'undefined') savedmodule = module;\n",
       "    else module = {}\n",
       "\n",
       "    var tag = document.createElement('script');\n",
       "    tag.src = uri;\n",
       "    tag.async = true;\n",
       "    tag.onload = () => {\n",
       "        exports = savedexports;\n",
       "        module = savedmodule;\n",
       "        resolve();\n",
       "    };\n",
       "  var firstScriptTag = document.getElementsByTagName('script')[0];\n",
       "  firstScriptTag.parentNode.insertBefore(tag, firstScriptTag);\n",
       "});\n",
       "};\n",
       "\n",
       "if(typeof $3Dmolpromise === 'undefined') {\n",
       "$3Dmolpromise = null;\n",
       "  $3Dmolpromise = loadScriptAsync('https://cdnjs.cloudflare.com/ajax/libs/3Dmol/2.0.4/3Dmol-min.js');\n",
       "}\n",
       "\n",
       "var viewer_1709199607479645 = null;\n",
       "var warn = document.getElementById(\"3dmolwarning_1709199607479645\");\n",
       "if(warn) {\n",
       "    warn.parentNode.removeChild(warn);\n",
       "}\n",
       "$3Dmolpromise.then(function() {\n",
       "viewer_1709199607479645 = $3Dmol.createViewer(document.getElementById(\"3dmolviewer_1709199607479645\"),{backgroundColor:\"white\"});\n",
       "viewer_1709199607479645.zoomTo();\n",
       "\tviewer_1709199607479645.addModel(\"3\\n\\nO       0.0000000       0.0000000       0.0000000       0.0415550       0.0000000      -0.0594815\\nH       0.0000000       0.0000000       0.9500000      -0.0001977       0.0000000       0.7110579\\nH       0.8960000       0.0000000      -0.3170000      -0.6593972       0.0000000       0.2330816\\n\",\"xyz\",{\"vibrate\": {\"frames\": 10, \"amplitude\": 0.75}});\n",
       "\tviewer_1709199607479645.setViewStyle({\"style\": \"outline\", \"width\": 0.05});\n",
       "\tviewer_1709199607479645.setStyle({\"stick\": {}, \"sphere\": {\"scale\": 0.25}});\n",
       "\tviewer_1709199607479645.animate({\"loop\": \"backAndForth\"});\n",
       "\tviewer_1709199607479645.rotate(-90,\"x\");\n",
       "\tviewer_1709199607479645.zoomTo();\n",
       "viewer_1709199607479645.render();\n",
       "});\n",
       "</script>"
      ]
     },
     "metadata": {},
     "output_type": "display_data"
    }
   ],
   "source": [
    "print(\"This is the asymmetric stretching mode at 4896.44 cm-1.\")\n",
    "view = p3d.view(width=300, height=300)\n",
    "view.addModel(vib_3, \"xyz\", {\"vibrate\": {\"frames\": 10, \"amplitude\": 0.75}})\n",
    "view.setViewStyle({\"style\": \"outline\", \"width\": 0.05})\n",
    "view.setStyle({\"stick\": {}, \"sphere\": {\"scale\": 0.25}})\n",
    "view.animate({\"loop\": \"backAndForth\"})\n",
    "view.rotate(-90, \"x\")\n",
    "view.zoomTo()\n",
    "view.show()"
   ]
  }
 ],
 "metadata": {
  "kernelspec": {
   "display_name": "Python 3 (ipykernel)",
   "language": "python",
   "name": "python3"
  },
  "language_info": {
   "codemirror_mode": {
    "name": "ipython",
    "version": 3
   },
   "file_extension": ".py",
   "mimetype": "text/x-python",
   "name": "python",
   "nbconvert_exporter": "python",
   "pygments_lexer": "ipython3",
   "version": "3.10.13"
  },
  "widgets": {
   "application/vnd.jupyter.widget-state+json": {
    "state": {},
    "version_major": 2,
    "version_minor": 0
   }
  }
 },
 "nbformat": 4,
 "nbformat_minor": 5
}
