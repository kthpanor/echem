{
 "cells": [
  {
   "cell_type": "markdown",
   "id": "96b5371a",
   "metadata": {},
   "source": [
    "# Analysis\n",
    "\n",
    "The breakdown of spectra into the Cartesian components, as well as decomposing to occupied MOs is discussed in the [X-ray section](../tutorials/xray_analysis). The study of excited states using natural transition orbitals and detachment/attachment densities are currently in the [visualization section](../visualize/exc_vis), and here we will now focus on using [OrbitalViewer](sec:orbview) and decomposition of eigenstates."
   ]
  },
  {
   "cell_type": "code",
   "execution_count": 2,
   "id": "f1026907-d4e6-424a-89dd-fbd066cec786",
   "metadata": {
    "collapsed": true,
    "jupyter": {
     "outputs_hidden": true
    },
    "tags": [
     "hide-input",
     "remove-output"
    ]
   },
   "outputs": [
    {
     "name": "stdout",
     "output_type": "stream",
     "text": [
      "* Warning * Environment variable OMP_NUM_THREADS not set.\n",
      "* Warning * Setting OMP_NUM_THREADS to 4.\n",
      "* Warning * Setting MKL_THREADING_LAYER to \"GNU\".\n"
     ]
    }
   ],
   "source": [
    "import copy\n",
    "\n",
    "import gator\n",
    "import matplotlib.pyplot as plt\n",
    "import numpy as np\n",
    "import veloxchem as vlx\n",
    "\n",
    "# for vlx\n",
    "silent_ostream = vlx.OutputStream(None)\n",
    "from mpi4py import MPI\n",
    "\n",
    "comm = MPI.COMM_WORLD\n",
    "\n",
    "# au to eV conversion factor\n",
    "au2ev = 27.211386\n",
    "\n",
    "\n",
    "def lorentzian(x, y, xmin, xmax, xstep, gamma):\n",
    "    \"\"\"\n",
    "    Lorentzian broadening function\n",
    "\n",
    "    Call: xi,yi = lorentzian(energies, intensities, start energy, end energy, energy step, gamma)\n",
    "    \"\"\"\n",
    "    xi = np.arange(xmin, xmax, xstep)\n",
    "    yi = np.zeros(len(xi))\n",
    "    for i in range(len(xi)):\n",
    "        for k in range(len(x)):\n",
    "            yi[i] = yi[i] + y[k] * (gamma / 2.0) / (\n",
    "                (xi[i] - x[k]) ** 2 + (gamma / 2.0) ** 2\n",
    "            )\n",
    "    return xi, yi"
   ]
  },
  {
   "cell_type": "markdown",
   "id": "baa1971c-3289-4017-8895-1eea99790301",
   "metadata": {},
   "source": [
    "First, we calculate the six lowest states of methanol using ADC(2):"
   ]
  },
  {
   "cell_type": "code",
   "execution_count": 4,
   "id": "4783af33-feb6-435d-90fe-529476ef96e5",
   "metadata": {
    "collapsed": true,
    "jupyter": {
     "outputs_hidden": true
    },
    "tags": [
     "hide-output"
    ]
   },
   "outputs": [
    {
     "name": "stdout",
     "output_type": "stream",
     "text": [
      "* Info * Reading basis set from file: /home/thomas/Notebook/anaconda/envs/echem/lib/python3.9/site-packages/veloxchem/basis/6-31G\n",
      "                                                                                                                          \n",
      "                                                                                                                          \n",
      "                                            Self Consistent Field Driver Setup                                            \n",
      "                                           ====================================                                           \n",
      "                                                                                                                          \n",
      "                   Wave Function Model             : Spin-Restricted Hartree-Fock                                         \n",
      "                   Initial Guess Model             : Superposition of Atomic Densities                                    \n",
      "                   Convergence Accelerator         : Two Level Direct Inversion of Iterative Subspace                     \n",
      "                   Max. Number of Iterations       : 50                                                                   \n",
      "                   Max. Number of Error Vectors    : 10                                                                   \n",
      "                   Convergence Threshold           : 1.0e-06                                                              \n",
      "                   ERI Screening Scheme            : Cauchy Schwarz + Density                                             \n",
      "                   ERI Screening Mode              : Dynamic                                                              \n",
      "                   ERI Screening Threshold         : 1.0e-12                                                              \n",
      "                   Linear Dependence Threshold     : 1.0e-06                                                              \n",
      "                                                                                                                          \n",
      "* Info * Nuclear repulsion energy: 40.3876414915 a.u.                                                                     \n",
      "                                                                                                                          \n",
      "* Info * Overlap matrix computed in 0.00 sec.                                                                             \n",
      "                                                                                                                          \n",
      "* Info * Kinetic energy matrix computed in 0.00 sec.                                                                      \n",
      "                                                                                                                          \n",
      "* Info * Nuclear potential matrix computed in 0.00 sec.                                                                   \n",
      "                                                                                                                          \n",
      "* Info * Orthogonalization matrix computed in 0.02 sec.                                                                   \n",
      "                                                                                                                          \n",
      "* Info * SAD initial guess computed in 0.00 sec.                                                                          \n",
      "                                                                                                                          \n",
      "* Info * Starting Reduced Basis SCF calculation...                                                                        \n",
      "* Info * ...done. SCF energy in reduced basis set: -114.986646483208 a.u. Time: 0.24 sec.                                 \n",
      "                                                                                                                          \n",
      "* Info * Overlap matrix computed in 0.00 sec.                                                                             \n",
      "                                                                                                                          \n",
      "* Info * Kinetic energy matrix computed in 0.00 sec.                                                                      \n",
      "                                                                                                                          \n",
      "* Info * Nuclear potential matrix computed in 0.00 sec.                                                                   \n",
      "                                                                                                                          \n",
      "* Info * Orthogonalization matrix computed in 0.00 sec.                                                                   \n",
      "                                                                                                                          \n",
      "                                                                                                                          \n",
      "               Iter. | Hartree-Fock Energy | Energy Change | Gradient Norm | Max. Gradient | Density Change               \n",
      "               --------------------------------------------------------------------------------------------               \n",
      "                  1      -114.986647455185    0.0000000000      0.00019765      0.00003189      0.00000000                \n",
      "                  2      -114.986647466156   -0.0000000110      0.00008804      0.00001229      0.00014964                \n",
      "                  3      -114.986647467682   -0.0000000015      0.00001316      0.00000245      0.00005028                \n",
      "                  4      -114.986647467711   -0.0000000000      0.00000768      0.00000123      0.00000788                \n",
      "                  5      -114.986647467718   -0.0000000000      0.00000092      0.00000020      0.00000271                \n",
      "                                                                                                                          \n",
      "               *** SCF converged in 5 iterations. Time: 0.24 sec.                                                         \n",
      "                                                                                                                          \n",
      "               Spin-Restricted Hartree-Fock:                                                                              \n",
      "               -----------------------------                                                                              \n",
      "               Total Energy                       :     -114.9866474677 a.u.                                              \n",
      "               Electronic Energy                  :     -155.3742889592 a.u.                                              \n",
      "               Nuclear Repulsion Energy           :       40.3876414915 a.u.                                              \n",
      "               ------------------------------------                                                                       \n",
      "               Gradient Norm                      :        0.0000009201 a.u.                                              \n",
      "                                                                                                                          \n",
      "                                                                                                                          \n",
      "               Ground State Information                                                                                   \n",
      "               ------------------------                                                                                   \n",
      "               Charge of Molecule            :  0.0                                                                       \n",
      "               Multiplicity (2S+1)           :  1.0                                                                       \n",
      "               Magnetic Quantum Number (M_S) :  0.0                                                                       \n",
      "                                                                                                                          \n",
      "                                                                                                                          \n",
      "                                                 Spin Restricted Orbitals                                                 \n",
      "                                                 ------------------------                                                 \n",
      "                                                                                                                          \n",
      "               Molecular Orbital No.   5:                                                                                 \n",
      "               --------------------------                                                                                 \n",
      "               Occupation: 2.000 Energy:   -0.68674 a.u.                                                                  \n",
      "               (   1 C   1p+1:     0.18) (   1 C   1p-1:    -0.23) (   2 O   3s  :    -0.17)                              \n",
      "               (   2 O   1p+1:    -0.23) (   2 O   1p-1:    -0.36) (   2 O   2p-1:    -0.20)                              \n",
      "               (   6 H   1s  :     0.23)                                                                                  \n",
      "                                                                                                                          \n",
      "               Molecular Orbital No.   6:                                                                                 \n",
      "               --------------------------                                                                                 \n",
      "               Occupation: 2.000 Energy:   -0.62359 a.u.                                                                  \n",
      "               (   1 C   1p0 :    -0.38) (   1 C   2p0 :    -0.18) (   2 O   1p0 :    -0.33)                              \n",
      "               (   2 O   2p0 :    -0.22) (   3 H   1s  :     0.19) (   4 H   1s  :    -0.19)                              \n",
      "                                                                                                                          \n",
      "               Molecular Orbital No.   7:                                                                                 \n",
      "               --------------------------                                                                                 \n",
      "               Occupation: 2.000 Energy:   -0.58786 a.u.                                                                  \n",
      "               (   1 C   1p+1:    -0.30) (   1 C   1p-1:    -0.25) (   1 C   2p-1:    -0.16)                              \n",
      "               (   2 O   1p+1:     0.38) (   2 O   2p+1:     0.27) (   5 H   1s  :    -0.22)                              \n",
      "                                                                                                                          \n",
      "               Molecular Orbital No.   8:                                                                                 \n",
      "               --------------------------                                                                                 \n",
      "               Occupation: 2.000 Energy:   -0.49474 a.u.                                                                  \n",
      "               (   1 C   1p-1:    -0.30) (   2 O   3s  :     0.21) (   2 O   1p+1:    -0.19)                              \n",
      "               (   2 O   1p-1:     0.39) (   2 O   2p+1:    -0.16) (   2 O   2p-1:     0.30)                              \n",
      "               (   5 H   1s  :    -0.20) (   5 H   2s  :    -0.18)                                                        \n",
      "                                                                                                                          \n",
      "               Molecular Orbital No.   9:                                                                                 \n",
      "               --------------------------                                                                                 \n",
      "               Occupation: 2.000 Energy:   -0.44686 a.u.                                                                  \n",
      "               (   1 C   1p0 :     0.24) (   2 O   1p0 :    -0.55) (   2 O   2p0 :    -0.46)                              \n",
      "               (   3 H   1s  :    -0.17) (   3 H   2s  :    -0.19) (   4 H   1s  :     0.17)                              \n",
      "               (   4 H   2s  :     0.19)                                                                                  \n",
      "                                                                                                                          \n",
      "               Molecular Orbital No.  10:                                                                                 \n",
      "               --------------------------                                                                                 \n",
      "               Occupation: 0.000 Energy:    0.21888 a.u.                                                                  \n",
      "               (   1 C   3s  :    -1.06) (   1 C   1p+1:    -0.16) (   1 C   2p+1:    -0.60)                              \n",
      "               (   2 O   3s  :    -0.96) (   2 O   1p-1:     0.20) (   2 O   2p-1:     0.44)                              \n",
      "               (   3 H   2s  :     0.63) (   4 H   2s  :     0.63) (   5 H   2s  :     0.47)                              \n",
      "               (   6 H   2s  :     1.21)                                                                                  \n",
      "                                                                                                                          \n",
      "               Molecular Orbital No.  11:                                                                                 \n",
      "               --------------------------                                                                                 \n",
      "               Occupation: 0.000 Energy:    0.27257 a.u.                                                                  \n",
      "               (   1 C   3s  :     2.41) (   1 C   2p+1:     0.17) (   2 O   3s  :    -0.77)                              \n",
      "               (   2 O   2p+1:    -0.17) (   2 O   2p-1:     0.30) (   3 H   2s  :    -1.11)                              \n",
      "               (   4 H   2s  :    -1.11) (   5 H   2s  :    -1.04) (   6 H   2s  :     0.73)                              \n",
      "                                                                                                                          \n",
      "               Molecular Orbital No.  12:                                                                                 \n",
      "               --------------------------                                                                                 \n",
      "               Occupation: 0.000 Energy:    0.31271 a.u.                                                                  \n",
      "               (   1 C   1p-1:     0.33) (   1 C   2p+1:     0.39) (   1 C   2p-1:     1.45)                              \n",
      "               (   2 O   2p+1:     0.17) (   2 O   2p-1:    -0.16) (   3 H   2s  :     0.83)                              \n",
      "               (   4 H   2s  :     0.83) (   5 H   2s  :    -1.98) (   6 H   2s  :     0.21)                              \n",
      "                                                                                                                          \n",
      "               Molecular Orbital No.  13:                                                                                 \n",
      "               --------------------------                                                                                 \n",
      "               Occupation: 0.000 Energy:    0.32064 a.u.                                                                  \n",
      "               (   1 C   1p0 :    -0.37) (   1 C   2p0 :    -1.49) (   2 O   2p0 :     0.25)                              \n",
      "               (   3 H   2s  :    -1.67) (   4 H   2s  :     1.67)                                                        \n",
      "                                                                                                                          \n",
      "               Molecular Orbital No.  14:                                                                                 \n",
      "               --------------------------                                                                                 \n",
      "               Occupation: 0.000 Energy:    0.37611 a.u.                                                                  \n",
      "               (   1 C   3s  :    -0.88) (   1 C   1p+1:     0.20) (   1 C   2p+1:     1.53)                              \n",
      "               (   1 C   2p-1:    -0.50) (   2 O   3s  :     0.76) (   2 O   1p+1:     0.32)                              \n",
      "               (   2 O   2p+1:     0.97) (   2 O   2p-1:     0.29) (   3 H   2s  :    -0.35)                              \n",
      "               (   4 H   2s  :    -0.35) (   5 H   2s  :     0.33) (   6 H   2s  :     0.97)                              \n",
      "                                                                                                                          \n",
      "SCF converged in 5 iterations.\n",
      "Total Energy: -114.9866474677 au\n",
      "Starting adc2 singlet Jacobi-Davidson ...\n",
      "Niter n_ss  max_residual  time  Ritz values\n",
      "  1    12       0.23909  808ms  [0.40241316 0.48084642 0.51034518 0.52072285 0.55248738 0.55772689]\n",
      "  2    24      0.010561   4.5s  [0.29557131 0.37845885 0.39618815 0.4170348  0.44699784 0.45009195]\n",
      "  3    36     0.0038423   4.5s  [0.29423544 0.37469582 0.38629969 0.41095523 0.43604013 0.43686795]\n",
      "  4    48    0.00035144   6.4s  [0.29417706 0.37426126 0.38422222 0.40954519 0.43305633 0.43490802]\n",
      "  5    60    1.7396e-05   6.5s  [0.29417387 0.37422958 0.38413954 0.40949836 0.43288848 0.43484835]\n",
      "=== Restart ===\n",
      "  6    24    3.5709e-06   6.6s  [0.29417373 0.37422705 0.3841368  0.40949611 0.4328759  0.43484511]\n",
      "  7    36    3.3958e-07   5.0s  [0.29417371 0.37422666 0.38413652 0.40949598 0.43287347 0.43484478]\n",
      "=== Converged ===\n",
      "    Number of matrix applies:    84\n",
      "    Total solver time:            34s 688ms\n"
     ]
    }
   ],
   "source": [
    "ch3oh_xyz = '''\n",
    "C       0.6627602692    -0.0195253241    -0.0000000000\n",
    "O      -0.7482324502     0.1217146925     0.0000000000\n",
    "H       1.0282229693    -0.5397922417    -0.8872632580\n",
    "H       1.0282229693    -0.5397922417     0.8872632580\n",
    "H       1.0781531801     0.9835591659    -0.0000000000\n",
    "H      -1.1253011321    -0.7605402778     0.0000000000\n",
    "'''\n",
    "\n",
    "# Construct structure and basis objects\n",
    "struct = gator.get_molecule(ch3oh_xyz)\n",
    "basis = gator.get_molecular_basis(struct, \"6-31G\")\n",
    "\n",
    "# Perform SCF calculation\n",
    "scf_gs = gator.run_scf(struct, basis)\n",
    "\n",
    "# Calculate the 6 lowest eigenstates\n",
    "adc_res = gator.run_adc(struct, basis, scf_gs, method=\"adc2\", singlets=6)"
   ]
  },
  {
   "cell_type": "markdown",
   "id": "3399aa7d-ec2a-4717-aebb-700bc8e6b64e",
   "metadata": {},
   "source": [
    "## Print and plot spectra\n",
    "\n",
    "Resulting eigenstates can be summarized with `describe()`:"
   ]
  },
  {
   "cell_type": "code",
   "execution_count": 5,
   "id": "02510b44-fab2-48c3-811e-12398ec2fc08",
   "metadata": {},
   "outputs": [
    {
     "name": "stdout",
     "output_type": "stream",
     "text": [
      "+--------------------------------------------------------------+\n",
      "| adc2                                    singlet ,  converged |\n",
      "+--------------------------------------------------------------+\n",
      "|  #        excitation energy     osc str    |v1|^2    |v2|^2  |\n",
      "|          (au)           (eV)                                 |\n",
      "|  0     0.2941737      8.004874   0.0000    0.9527   0.04731  |\n",
      "|  1     0.3742267      10.18323   0.0109    0.9533   0.04671  |\n",
      "|  2     0.3841365      10.45289   0.0868    0.9329   0.06713  |\n",
      "|  3      0.409496      11.14295   0.0005    0.9455   0.05445  |\n",
      "|  4     0.4328735      11.77909   0.1071    0.9252   0.07478  |\n",
      "|  5     0.4348448      11.83273   0.0266    0.9439   0.05607  |\n",
      "+--------------------------------------------------------------+\n",
      "\n"
     ]
    }
   ],
   "source": [
    "print(adc_res.describe())"
   ]
  },
  {
   "cell_type": "markdown",
   "id": "b7140600-7978-4778-8f03-1a8e9712d4a1",
   "metadata": {},
   "source": [
    "And plotted with built-in functionalities, and here we also plot the state number next to each state to simplify analysis (note indexing from 0):"
   ]
  },
  {
   "cell_type": "code",
   "execution_count": 27,
   "id": "0aac24e5-bcd6-4a1f-aa31-692382bc1adc",
   "metadata": {},
   "outputs": [
    {
     "data": {
      "image/png": "[encoded data removed]",
      "text/plain": [
       "<Figure size 432x288 with 1 Axes>"
      ]
     },
     "metadata": {
      "needs_background": "light"
     },
     "output_type": "display_data"
    }
   ],
   "source": [
    "plt.figure(figsize=(6,4))\n",
    "adc_res.plot_spectrum()\n",
    "for i in np.arange(len(adc_res.excitation_energy)):\n",
    "    plt.text(au2ev*adc_res.excitation_energy[i]+0.01,adc_res.oscillator_strength[i]/6.5,str(i),color='r')\n",
    "plt.tight_layout()\n",
    "plt.show()"
   ]
  },
  {
   "cell_type": "markdown",
   "id": "51f495e1-e9df-485d-8621-0fb23adec178",
   "metadata": {},
   "source": [
    "## Dominant contributions to eigenstates\n",
    "\n",
    "With `describe_amplitudes` we can study the dominant contributions of the states:"
   ]
  },
  {
   "cell_type": "code",
   "execution_count": 29,
   "id": "d64016e3-217b-4535-a37c-f1e8ba099953",
   "metadata": {
    "tags": [
     "output_scroll"
    ]
   },
   "outputs": [
    {
     "name": "stdout",
     "output_type": "stream",
     "text": [
      "+-------------------------------------------------------+\n",
      "| State   0 ,     0.2941737 au,      8.004874 eV        |\n",
      "+-------------------------------------------------------+\n",
      "| HOMO            -> LUMO             a ->a      -0.652 |\n",
      "| HOMO -3         -> LUMO             a ->a      -0.153 |\n",
      "| HOMO            -> LUMO +1          a ->a      -0.146 |\n",
      "| HOMO -3         -> LUMO +1          a ->a     -0.0575 |\n",
      "| HOMO            -> LUMO +8          a ->a     +0.0233 |\n",
      "| HOMO -3         -> LUMO +4          a ->a     -0.0232 |\n",
      "| HOMO            -> LUMO+15          a ->a     +0.0206 |\n",
      "| HOMO            -> LUMO+10          a ->a     +0.0196 |\n",
      "| HOMO            -> LUMO+12          a ->a     +0.0175 |\n",
      "| HOMO            -> LUMO +7          a ->a     +0.0165 |\n",
      "| HOMO            -> LUMO +2          a ->a     +0.0105 |\n",
      "| HOMO -4 HOMO    -> LUMO +4 LUMO     ab->ab    -0.0157 |\n",
      "| HOMO    HOMO    -> LUMO    LUMO+13  ab->ab     +0.014 |\n",
      "| HOMO -4 HOMO    -> LUMO    LUMO     ab->ab    -0.0139 |\n",
      "| HOMO -2 HOMO    -> LUMO +4 LUMO     ab->ab     +0.012 |\n",
      "| HOMO -6 HOMO    -> LUMO    LUMO     ab->ab    +0.0117 |\n",
      "| HOMO -1 HOMO    -> LUMO    LUMO+10  aa->aa    +0.0116 |\n",
      "| HOMO -3 HOMO -2 -> LUMO    LUMO +4  ab->ab     +0.011 |\n",
      "| HOMO    HOMO -1 -> LUMO    LUMO+10  ab->ab    -0.0109 |\n",
      "\n",
      "+-------------------------------------------------------+\n",
      "| State   1 ,     0.3742267 au,      10.18323 eV        |\n",
      "+-------------------------------------------------------+\n",
      "| HOMO -1         -> LUMO             a ->a      +0.648 |\n",
      "| HOMO -2         -> LUMO             a ->a      -0.156 |\n",
      "| HOMO -1         -> LUMO +1          a ->a        +0.1 |\n",
      "| HOMO -4         -> LUMO             a ->a     -0.0798 |\n",
      "| HOMO -2         -> LUMO +1          a ->a     -0.0596 |\n",
      "| HOMO -2         -> LUMO +4          a ->a      -0.046 |\n",
      "| HOMO -1         -> LUMO +4          a ->a     -0.0456 |\n",
      "| HOMO            -> LUMO +3          a ->a     +0.0436 |\n",
      "| HOMO -4         -> LUMO +1          a ->a     -0.0369 |\n",
      "| HOMO -1         -> LUMO +2          a ->a     -0.0291 |\n",
      "| HOMO -5         -> LUMO             a ->a     +0.0278 |\n",
      "| HOMO -1         -> LUMO +7          a ->a     -0.0198 |\n",
      "| HOMO -1         -> LUMO+12          a ->a     -0.0198 |\n",
      "| HOMO -1         -> LUMO +8          a ->a     -0.0159 |\n",
      "| HOMO -6         -> LUMO             a ->a      -0.015 |\n",
      "| HOMO -2         -> LUMO +2          a ->a     -0.0133 |\n",
      "| HOMO -2         -> LUMO+15          a ->a     +0.0126 |\n",
      "| HOMO            -> LUMO+13          a ->a     -0.0126 |\n",
      "| HOMO -1         -> LUMO+15          a ->a     -0.0116 |\n",
      "| HOMO -4 HOMO -1 -> LUMO    LUMO     ab->ab    +0.0187 |\n",
      "| HOMO -1 HOMO -1 -> LUMO    LUMO     ab->ab    -0.0152 |\n",
      "| HOMO -4 HOMO -2 -> LUMO    LUMO +4  aa->aa    +0.0146 |\n",
      "| HOMO -4 HOMO -1 -> LUMO +4 LUMO     ab->ab    +0.0118 |\n",
      "| HOMO -1 HOMO -1 -> LUMO    LUMO +1  ab->ab    -0.0102 |\n",
      "\n",
      "+-------------------------------------------------------+\n",
      "| State   2 ,     0.3841365 au,      10.45289 eV        |\n",
      "+-------------------------------------------------------+\n",
      "| HOMO            -> LUMO +1          a ->a       +0.64 |\n",
      "| HOMO            -> LUMO             a ->a      -0.152 |\n",
      "| HOMO            -> LUMO +2          a ->a       -0.11 |\n",
      "| HOMO            -> LUMO +4          a ->a     -0.0918 |\n",
      "| HOMO -3         -> LUMO +1          a ->a     +0.0871 |\n",
      "| HOMO            -> LUMO +7          a ->a     -0.0437 |\n",
      "| HOMO -3         -> LUMO +7          a ->a     -0.0258 |\n",
      "| HOMO            -> LUMO+10          a ->a     -0.0214 |\n",
      "| HOMO            -> LUMO+11          a ->a     -0.0192 |\n",
      "| HOMO            -> LUMO+12          a ->a     +0.0176 |\n",
      "| HOMO -3         -> LUMO +4          a ->a     -0.0167 |\n",
      "| HOMO -3         -> LUMO             a ->a     +0.0165 |\n",
      "| HOMO -3         -> LUMO +2          a ->a     -0.0139 |\n",
      "| HOMO    HOMO    -> LUMO +1 LUMO +3  ab->ab    +0.0199 |\n",
      "| HOMO -4 HOMO    -> LUMO +4 LUMO +1  ab->ab     +0.018 |\n",
      "| HOMO -2 HOMO    -> LUMO +4 LUMO +1  ab->ab    -0.0179 |\n",
      "| HOMO    HOMO    -> LUMO +1 LUMO+13  ab->ab     -0.016 |\n",
      "| HOMO -2 HOMO    -> LUMO +1 LUMO +4  aa->aa    +0.0157 |\n",
      "| HOMO -4 HOMO    -> LUMO +1 LUMO +4  aa->aa    -0.0149 |\n",
      "| HOMO -1 HOMO    -> LUMO +1 LUMO+10  aa->aa    -0.0122 |\n",
      "| HOMO -3 HOMO -2 -> LUMO +1 LUMO +4  ab->ab    -0.0121 |\n",
      "| HOMO -4 HOMO -3 -> LUMO +1 LUMO +4  aa->aa    -0.0113 |\n",
      "| HOMO -4 HOMO -3 -> LUMO +4 LUMO +1  ab->ab    +0.0111 |\n",
      "| HOMO    HOMO -1 -> LUMO +1 LUMO+10  ab->ab    +0.0111 |\n",
      "| HOMO -1 HOMO    -> LUMO +2 LUMO +1  ab->ab     +0.011 |\n",
      "| HOMO -3 HOMO -2 -> LUMO +1 LUMO +4  aa->aa    -0.0109 |\n",
      "\n",
      "+-------------------------------------------------------+\n",
      "| State   3 ,      0.409496 au,      11.14295 eV        |\n",
      "+-------------------------------------------------------+\n",
      "| HOMO            -> LUMO +2          a ->a      -0.529 |\n",
      "| HOMO            -> LUMO +4          a ->a      -0.389 |\n",
      "| HOMO            -> LUMO +1          a ->a      -0.137 |\n",
      "| HOMO            -> LUMO +7          a ->a     -0.0715 |\n",
      "| HOMO -3         -> LUMO +4          a ->a     -0.0705 |\n",
      "| HOMO -3         -> LUMO +2          a ->a     -0.0628 |\n",
      "| HOMO -3         -> LUMO             a ->a     -0.0623 |\n",
      "| HOMO            -> LUMO             a ->a     +0.0354 |\n",
      "| HOMO -3         -> LUMO +1          a ->a       -0.03 |\n",
      "| HOMO            -> LUMO+15          a ->a     +0.0261 |\n",
      "| HOMO            -> LUMO +8          a ->a     +0.0239 |\n",
      "| HOMO            -> LUMO+14          a ->a     +0.0175 |\n",
      "| HOMO            -> LUMO+12          a ->a     -0.0152 |\n",
      "| HOMO -3         -> LUMO +7          a ->a     -0.0151 |\n",
      "| HOMO -2         -> LUMO +3          a ->a     +0.0113 |\n",
      "| HOMO -3         -> LUMO+11          a ->a     -0.0108 |\n",
      "| HOMO            -> LUMO+10          a ->a     -0.0108 |\n",
      "| HOMO -2 HOMO    -> LUMO +4 LUMO +2  ab->ab    +0.0148 |\n",
      "| HOMO -4 HOMO    -> LUMO +4 LUMO +2  ab->ab    -0.0138 |\n",
      "| HOMO    HOMO    -> LUMO +2 LUMO+13  ab->ab     +0.013 |\n",
      "| HOMO -4 HOMO    -> LUMO +2 LUMO +4  aa->aa    +0.0121 |\n",
      "| HOMO -2 HOMO    -> LUMO +2 LUMO +4  aa->aa    -0.0106 |\n",
      "| HOMO -3 HOMO -2 -> LUMO +2 LUMO +4  ab->ab    +0.0105 |\n",
      "| HOMO -4 HOMO -3 -> LUMO +2 LUMO +4  aa->aa    +0.0102 |\n",
      "| HOMO -1 HOMO    -> LUMO +2 LUMO +2  ab->ab    -0.0101 |\n",
      "\n",
      "+-------------------------------------------------------+\n",
      "| State   4 ,     0.4328735 au,      11.77909 eV        |\n",
      "+-------------------------------------------------------+\n",
      "| HOMO            -> LUMO +3          a ->a      +0.652 |\n",
      "| HOMO -3         -> LUMO +3          a ->a      +0.119 |\n",
      "| HOMO -1         -> LUMO +1          a ->a     +0.0857 |\n",
      "| HOMO -1         -> LUMO +2          a ->a     -0.0766 |\n",
      "| HOMO -1         -> LUMO             a ->a     -0.0627 |\n",
      "| HOMO -2         -> LUMO +4          a ->a     +0.0411 |\n",
      "| HOMO            -> LUMO +9          a ->a       +0.03 |\n",
      "| HOMO -2         -> LUMO +1          a ->a      -0.027 |\n",
      "| HOMO            -> LUMO +6          a ->a      +0.022 |\n",
      "| HOMO -4         -> LUMO             a ->a     -0.0202 |\n",
      "| HOMO -3         -> LUMO +9          a ->a     +0.0147 |\n",
      "| HOMO            -> LUMO+13          a ->a     +0.0144 |\n",
      "| HOMO -1         -> LUMO+10          a ->a     -0.0144 |\n",
      "| HOMO -2         -> LUMO +5          a ->a     -0.0122 |\n",
      "| HOMO -4         -> LUMO +1          a ->a     -0.0116 |\n",
      "| HOMO -1         -> LUMO +4          a ->a     -0.0115 |\n",
      "| HOMO -5         -> LUMO             a ->a     -0.0105 |\n",
      "| HOMO    HOMO    -> LUMO +3 LUMO +3  ab->ab    +0.0346 |\n",
      "| HOMO -4 HOMO    -> LUMO +4 LUMO +3  ab->ab    +0.0197 |\n",
      "| HOMO -2 HOMO    -> LUMO +4 LUMO +3  ab->ab    -0.0194 |\n",
      "| HOMO -2 HOMO    -> LUMO +3 LUMO +4  aa->aa    +0.0183 |\n",
      "| HOMO    HOMO    -> LUMO +3 LUMO+13  ab->ab    -0.0178 |\n",
      "| HOMO -4 HOMO    -> LUMO +3 LUMO +4  aa->aa    -0.0163 |\n",
      "| HOMO -3 HOMO    -> LUMO +3 LUMO +9  ab->ab    +0.0143 |\n",
      "| HOMO -3 HOMO -2 -> LUMO +3 LUMO +4  ab->ab    -0.0132 |\n",
      "| HOMO -3 HOMO -2 -> LUMO +3 LUMO +4  aa->aa    -0.0126 |\n",
      "| HOMO -1 HOMO    -> LUMO +3 LUMO+10  aa->aa    -0.0126 |\n",
      "| HOMO    HOMO -1 -> LUMO +3 LUMO+10  ab->ab    +0.0122 |\n",
      "| HOMO -4 HOMO -3 -> LUMO +3 LUMO +4  aa->aa    -0.0122 |\n",
      "| HOMO -4 HOMO -3 -> LUMO +4 LUMO +3  ab->ab    +0.0121 |\n",
      "| HOMO    HOMO    -> LUMO +3 LUMO +6  ab->ab    -0.0119 |\n",
      "| HOMO -2 HOMO    -> LUMO +7 LUMO +3  ab->ab    -0.0117 |\n",
      "| HOMO -3 HOMO    -> LUMO +3 LUMO +3  ab->ab    +0.0104 |\n",
      "| HOMO -2 HOMO    -> LUMO +3 LUMO +7  aa->aa    +0.0103 |\n",
      "| HOMO -6 HOMO    -> LUMO    LUMO +3  ab->ab    -0.0101 |\n",
      "\n",
      "+-------------------------------------------------------+\n",
      "| State   5 ,     0.4348448 au,      11.83273 eV        |\n",
      "+-------------------------------------------------------+\n",
      "| HOMO            -> LUMO +4          a ->a       -0.53 |\n",
      "| HOMO            -> LUMO +2          a ->a      +0.404 |\n",
      "| HOMO -3         -> LUMO +4          a ->a      -0.103 |\n",
      "| HOMO            -> LUMO +7          a ->a     -0.0685 |\n",
      "| HOMO -1         -> LUMO +3          a ->a     -0.0624 |\n",
      "| HOMO -3         -> LUMO             a ->a     -0.0513 |\n",
      "| HOMO -3         -> LUMO +2          a ->a     +0.0464 |\n",
      "| HOMO            -> LUMO +5          a ->a     +0.0256 |\n",
      "| HOMO            -> LUMO+14          a ->a     +0.0242 |\n",
      "| HOMO            -> LUMO+10          a ->a      +0.023 |\n",
      "| HOMO            -> LUMO+11          a ->a     -0.0203 |\n",
      "| HOMO -3         -> LUMO +7          a ->a     -0.0194 |\n",
      "| HOMO            -> LUMO+15          a ->a     +0.0167 |\n",
      "| HOMO            -> LUMO +8          a ->a     -0.0164 |\n",
      "| HOMO -4         -> LUMO +3          a ->a     -0.0159 |\n",
      "| HOMO            -> LUMO             a ->a     +0.0133 |\n",
      "| HOMO -4 HOMO    -> LUMO +4 LUMO +2  ab->ab    +0.0135 |\n",
      "| HOMO -2 HOMO    -> LUMO +2 LUMO +4  aa->aa     +0.013 |\n",
      "| HOMO -4 HOMO    -> LUMO +4 LUMO +4  ab->ab    -0.0129 |\n",
      "| HOMO -2 HOMO    -> LUMO +4 LUMO +2  ab->ab    -0.0125 |\n",
      "| HOMO -4 HOMO    -> LUMO +2 LUMO +4  aa->aa    -0.0121 |\n",
      "| HOMO    HOMO    -> LUMO +2 LUMO+13  ab->ab    -0.0119 |\n",
      "| HOMO -2 HOMO    -> LUMO +4 LUMO +4  ab->ab    +0.0115 |\n",
      "| HOMO -3 HOMO -2 -> LUMO +2 LUMO +4  aa->aa    -0.0112 |\n"
     ]
    }
   ],
   "source": [
    "print(adc_res.describe_amplitudes())"
   ]
  },
  {
   "cell_type": "markdown",
   "id": "77fcee7a-1d3b-4b58-b4ae-f3e9d27c4cd8",
   "metadata": {},
   "source": [
    "This outputs a string with all transitions and all contributions with an absolute value of 0.01. The printing threshold can be changed, as can the format of the output, but for now we focus on narrowing down on the two strongest state (2 and 4). This can be done by splitting the string at double line-breaks, where we also include a higher tolerance of inclusion of 0.1:"
   ]
  },
  {
   "cell_type": "code",
   "execution_count": 37,
   "id": "a6c553b6-b4c9-48c0-911d-b2de6834c97f",
   "metadata": {},
   "outputs": [],
   "source": [
    "split_res = adc_res.describe_amplitudes(tolerance=0.1).split('\\n\\n')"
   ]
  },
  {
   "cell_type": "markdown",
   "id": "281eb7b1-8764-46f2-91b5-102502971193",
   "metadata": {},
   "source": [
    "Printing the dominant amplitudes of states 2 and 4:"
   ]
  },
  {
   "cell_type": "code",
   "execution_count": 48,
   "id": "d2ae4cb2-11bf-4e55-adfc-687ce2f1aba2",
   "metadata": {},
   "outputs": [
    {
     "name": "stdout",
     "output_type": "stream",
     "text": [
      "+---------------------------------------------------+\n",
      "| State   2 ,     0.3841365 au,      10.45289 eV    |\n",
      "+---------------------------------------------------+\n",
      "| HOMO          -> LUMO+1         a ->a       +0.64 |\n",
      "| HOMO          -> LUMO           a ->a      -0.152 |\n",
      "| HOMO          -> LUMO+2         a ->a       -0.11 |\n",
      "\n",
      "\n",
      "+---------------------------------------------------+\n",
      "| State   4 ,     0.4328735 au,      11.77909 eV    |\n",
      "+---------------------------------------------------+\n",
      "| HOMO          -> LUMO+3         a ->a      +0.652 |\n",
      "| HOMO-3        -> LUMO+3         a ->a      +0.119 |\n"
     ]
    }
   ],
   "source": [
    "print(split_res[2])\n",
    "print('\\n')\n",
    "print(split_res[4])"
   ]
  },
  {
   "cell_type": "markdown",
   "id": "3b815a26-7545-4fe3-bb63-3b4dad9eed41",
   "metadata": {},
   "source": [
    "We see that both these excitations are dominate by transitions from HOMO to LUMO+1 and LUMO+3, and from `describe()` above we note that the transitions are dominated by singly excited configurations ($|v^2|^2\\sim0.07$). \n",
    "\n",
    "## Visualizing molecular orbitals\n",
    "\n",
    "Using OrbitalViewer, we can look at HOMO, LUMO+1, and LUMO+3:"
   ]
  },
  {
   "cell_type": "code",
   "execution_count": 50,
   "id": "7dd4601e-5660-4a60-9ebf-f5fef3046416",
   "metadata": {},
   "outputs": [
    {
     "data": {
      "application/vnd.jupyter.widget-view+json": {
       "model_id": "5036c8099b884bbbbf8fe19764163198",
       "version_major": 2,
       "version_minor": 0
      },
      "text/plain": [
       "Output()"
      ]
     },
     "metadata": {},
     "output_type": "display_data"
    },
    {
     "data": {
      "application/vnd.jupyter.widget-view+json": {
       "model_id": "7937d7559f0441f6a8c24956d6c9b4a5",
       "version_major": 2,
       "version_minor": 0
      },
      "text/plain": [
       "Dropdown(description='Orbital:', index=8, options=(('  1 occ=2.000 ene=-20.558', 0), ('  2 occ=2.000 ene=-11.2…"
      ]
     },
     "metadata": {},
     "output_type": "display_data"
    }
   ],
   "source": [
    "viewer = vlx.OrbitalViewer()\n",
    "viewer.plot(struct, basis, scf_gs.mol_orbs)"
   ]
  },
  {
   "cell_type": "markdown",
   "id": "a0932dbb-6e08-42bf-a0da-bca8699810f9",
   "metadata": {},
   "source": [
    "And we obtain:\n",
    "\n",
    "```{figure} ../../img/uv_vis/uv-vis_mos.png\n",
    "```\n",
    "\n",
    "Using these MOs and above eigenstate contributions we can assign the features, provided that the excited states are relatively dominated by a few contributions, and the canonical MOs can be assigned. If this is not viable, we would instead turn to, *e.g.*, [natural transition orbitals](../visualize/exc_vis), where we obtain a compact description of the excited states.\n",
    "\n",
    "## Polarization dependence\n",
    "\n",
    "Finally, we can look at the Cartesian components of the transition dipole moments, to see how the excitation is polarized:"
   ]
  },
  {
   "cell_type": "code",
   "execution_count": 54,
   "id": "2b0a1ff7-6067-4bd5-bb93-cd5cfd8d77f1",
   "metadata": {},
   "outputs": [
    {
     "name": "stdout",
     "output_type": "stream",
     "text": [
      "State 2: [ 2.94137281e-14 -2.17145638e-14 -5.82241208e-01]\n",
      "State 4: [ 5.17627387e-01 -3.21072518e-01  3.42342958e-13]\n"
     ]
    }
   ],
   "source": [
    "print('State 2:',adc_res.transition_dipole_moment[2])\n",
    "print('State 4:',adc_res.transition_dipole_moment[4])"
   ]
  },
  {
   "cell_type": "markdown",
   "id": "44040824-5507-4798-b0b9-967403747e4a",
   "metadata": {
    "tags": [
     "remove-cell"
    ]
   },
   "source": [
    "- Visualization and assignment of states\n",
    "    - Valence-valence\n",
    "    - Valence-Rydberg\n",
    "    - Charge-transfer\n",
    "- Check visualization tools paper(s) for good examples\n",
    "- Descriptors which help determine state character"
   ]
  }
 ],
 "metadata": {
  "kernelspec": {
   "display_name": "Python 3 (ipykernel)",
   "language": "python",
   "name": "python3"
  },
  "language_info": {
   "codemirror_mode": {
    "name": "ipython",
    "version": 3
   },
   "file_extension": ".py",
   "mimetype": "text/x-python",
   "name": "python",
   "nbconvert_exporter": "python",
   "pygments_lexer": "ipython3",
   "version": "3.9.15"
  }
 },
 "nbformat": 4,
 "nbformat_minor": 5
}
