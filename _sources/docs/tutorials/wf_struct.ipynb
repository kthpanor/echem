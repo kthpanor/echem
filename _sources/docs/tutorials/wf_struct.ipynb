{
 "cells": [
  {
   "cell_type": "markdown",
   "id": "ff8a63c1-317c-4890-a059-85f7e2c9f1e6",
   "metadata": {
    "editable": true,
    "slideshow": {
     "slide_type": ""
    },
    "tags": []
   },
   "source": [
    "# Optimizing molecular structure\n",
    "\n",
    "\n",
    "The initial structure can be provided manually, or as constructed using SMILES strings (see [previous](wf_build) section). Here we will do the latter to illustrate a full structure optimization workflow, with methanol as the example.\n",
    "\n",
    "To minimize computational cost, we perform the final quantum chemical structure optimization at a minimal level of theory (HF with the STO-3G basis set). For practical calculations, DFT or MP2 as well as a larger basis set should be used."
   ]
  },
  {
   "cell_type": "code",
   "execution_count": 1,
   "id": "cf677079",
   "metadata": {
    "editable": true,
    "slideshow": {
     "slide_type": ""
    },
    "tags": [
     "remove-output"
    ]
   },
   "outputs": [
    {
     "name": "stdout",
     "output_type": "stream",
     "text": [
      "* Warning * Environment variable OMP_NUM_THREADS not set.\n",
      "* Warning * Setting OMP_NUM_THREADS to 4.\n"
     ]
    }
   ],
   "source": [
    "import numpy as np\n",
    "import py3Dmol as p3d\n",
    "import veloxchem as vlx"
   ]
  },
  {
   "cell_type": "markdown",
   "id": "81416b7a",
   "metadata": {
    "editable": true,
    "slideshow": {
     "slide_type": ""
    },
    "tags": []
   },
   "source": [
    "## Initial structure\n",
    "\n",
    "We obtain the initial (force field optimized) structure from RDkit, using the SMILES string (`CO`)."
   ]
  },
  {
   "cell_type": "code",
   "execution_count": 2,
   "id": "23296c37",
   "metadata": {
    "editable": true,
    "slideshow": {
     "slide_type": ""
    },
    "tags": []
   },
   "outputs": [],
   "source": [
    "methanol_ff = vlx.Molecule.read_smiles(\"CO\")"
   ]
  },
  {
   "cell_type": "markdown",
   "id": "a06a5451",
   "metadata": {
    "editable": true,
    "slideshow": {
     "slide_type": ""
    },
    "tags": []
   },
   "source": [
    "## xTB optimization\n",
    "\n",
    "Next, set up the xTB driver and perform the structure optimization."
   ]
  },
  {
   "cell_type": "code",
   "execution_count": 7,
   "id": "9b36f2c1",
   "metadata": {
    "editable": true,
    "scrolled": true,
    "slideshow": {
     "slide_type": ""
    },
    "tags": [
     "remove-output"
    ]
   },
   "outputs": [],
   "source": [
    "xtb_drv = vlx.XtbDriver()\n",
    "\n",
    "xtb_opt_drv = vlx.OptimizationDriver(xtb_drv)\n",
    "xtb_opt_drv.ostream.mute()\n",
    "\n",
    "xtb_opt_results = xtb_opt_drv.compute(methanol_ff)\n",
    "\n",
    "methanol_xtb = vlx.Molecule.read_xyz_string(xtb_opt_results[\"final_geometry\"])"
   ]
  },
  {
   "cell_type": "markdown",
   "id": "884dd0a0",
   "metadata": {
    "editable": true,
    "slideshow": {
     "slide_type": ""
    },
    "tags": []
   },
   "source": [
    "## HF optimization\n",
    "\n",
    "Set up the SCF and optimization drivers and performing the final optimization, using the xTB results as the initial structure."
   ]
  },
  {
   "cell_type": "code",
   "execution_count": 11,
   "id": "1b7476df",
   "metadata": {
    "editable": true,
    "slideshow": {
     "slide_type": ""
    },
    "tags": [
     "remove-cell"
    ]
   },
   "outputs": [],
   "source": [
    "basis = vlx.MolecularBasis.read(methanol_xtb, \"STO-3G\", ostream=None)\n",
    "\n",
    "scf_drv = vlx.ScfRestrictedDriver()\n",
    "scf_drv.ostream.mute()\n",
    "scf_results = scf_drv.compute(methanol_xtb, basis)\n",
    "\n",
    "opt_drv = vlx.OptimizationDriver(scf_drv)\n",
    "opt_drv.ostream.mute()\n",
    "methanol_hf = opt_drv.compute(methanol_xtb, basis, scf_results)"
   ]
  },
  {
   "cell_type": "markdown",
   "id": "4c4ac105",
   "metadata": {
    "editable": true,
    "slideshow": {
     "slide_type": ""
    },
    "tags": []
   },
   "source": [
    "## Comparison\n",
    "\n",
    "Visualize the results using py3Dmol:"
   ]
  },
  {
   "cell_type": "code",
   "execution_count": 16,
   "id": "43b47c2c",
   "metadata": {
    "editable": true,
    "slideshow": {
     "slide_type": ""
    },
    "tags": []
   },
   "outputs": [
    {
     "data": {
      "application/3dmoljs_load.v0": "<div id=\"3dmolviewer_17092202591163452\"  style=\"position: relative; width: 500px; height: 200px;\">\n        <p id=\"3dmolwarning_17092202591163452\" style=\"background-color:#ffcccc;color:black\">You appear to be running in JupyterLab (or JavaScript failed to load for some other reason).  You need to install the 3dmol extension: <br>\n        <tt>jupyter labextension install jupyterlab_3dmol</tt></p>\n        </div>\n<script>\n\nvar loadScriptAsync = function(uri){\n  return new Promise((resolve, reject) => {\n    //this is to ignore the existence of requirejs amd\n    var savedexports, savedmodule;\n    if (typeof exports !== 'undefined') savedexports = exports;\n    else exports = {}\n    if (typeof module !== 'undefined') savedmodule = module;\n    else module = {}\n\n    var tag = document.createElement('script');\n    tag.src = uri;\n    tag.async = true;\n    tag.onload = () => {\n        exports = savedexports;\n        module = savedmodule;\n        resolve();\n    };\n  var firstScriptTag = document.getElementsByTagName('script')[0];\n  firstScriptTag.parentNode.insertBefore(tag, firstScriptTag);\n});\n};\n\nif(typeof $3Dmolpromise === 'undefined') {\n$3Dmolpromise = null;\n  $3Dmolpromise = loadScriptAsync('https://cdnjs.cloudflare.com/ajax/libs/3Dmol/2.0.4/3Dmol-min.js');\n}\n\nvar viewer_17092202591163452 = null;\nvar warn = document.getElementById(\"3dmolwarning_17092202591163452\");\nif(warn) {\n    warn.parentNode.removeChild(warn);\n}\n$3Dmolpromise.then(function() {\nvar viewergrid_17092202591163452 = null;\nviewergrid_17092202591163452 = $3Dmol.createViewerGrid(document.getElementById(\"3dmolviewer_17092202591163452\"),{rows: 1, cols: 3, control_all: false},{backgroundColor:\"white\"});\nviewer_17092202591163452 = viewergrid_17092202591163452[0][0];\nviewergrid_17092202591163452[0][0].zoomTo();viewergrid_17092202591163452[0][1].zoomTo();viewergrid_17092202591163452[0][2].zoomTo();\tviewergrid_17092202591163452[0][0].addModel(\"6\\n\\nC              0.954090000000        -0.072440000000        -0.035080000000\\nO              2.369750000000        -0.080860000000        -0.046850000000\\nH              0.593930000000         0.953980000000        -0.139430000000\\nH              0.593930000000        -0.502740000000         0.902610000000\\nH              0.588300000000        -0.671390000000        -0.872380000000\\nH              2.665130000000         0.458130000000         0.706630000000\\n\",\"xyz\");\n\tviewergrid_17092202591163452[0][1].addModel(\"6\\n\\nC              0.956837999841        -0.064042602194        -0.023341525322\\nO              2.362871979316        -0.080991777556        -0.047034532392\\nH              0.561832886723         0.951447926476        -0.136387513428\\nH              0.561832106015        -0.499042885132         0.901198662295\\nH              0.625861720746        -0.667292537973        -0.866653375864\\nH              2.695893307359         0.444601876378         0.687718284710\\n\",\"xyz\");\n\tviewergrid_17092202591163452[0][2].addModel(\"6\\n\\nC              0.966001708819        -0.066757237386        -0.027137353171\\nO              2.398127829006        -0.095543105117        -0.067375639022\\nH              0.566542546444         0.947314258499        -0.133213652459\\nH              0.566540076283        -0.494705449904         0.898309209777\\nH              0.599405581367        -0.664893317906        -0.863304273381\\nH              2.668512997979         0.459262585670         0.708223265914\\n\",\"xyz\");\n\tviewergrid_17092202591163452[0][0].setViewStyle({\"style\": \"outline\", \"width\": 0.05});\n\tviewergrid_17092202591163452[0][1].setViewStyle({\"style\": \"outline\", \"width\": 0.05});\n\tviewergrid_17092202591163452[0][2].setViewStyle({\"style\": \"outline\", \"width\": 0.05});\n\tviewergrid_17092202591163452[0][0].setStyle({\"stick\": {}, \"sphere\": {\"scale\": 0.25}});\n\tviewergrid_17092202591163452[0][1].setStyle({\"stick\": {}, \"sphere\": {\"scale\": 0.25}});\n\tviewergrid_17092202591163452[0][2].setStyle({\"stick\": {}, \"sphere\": {\"scale\": 0.25}});\nviewergrid_17092202591163452[0][2].render();\nviewergrid_17092202591163452[0][1].render();\nviewergrid_17092202591163452[0][0].render();\n});\n</script>",
      "text/html": [
       "<div id=\"3dmolviewer_17092202591163452\"  style=\"position: relative; width: 500px; height: 200px;\">\n",
       "        <p id=\"3dmolwarning_17092202591163452\" style=\"background-color:#ffcccc;color:black\">You appear to be running in JupyterLab (or JavaScript failed to load for some other reason).  You need to install the 3dmol extension: <br>\n",
       "        <tt>jupyter labextension install jupyterlab_3dmol</tt></p>\n",
       "        </div>\n",
       "<script>\n",
       "\n",
       "var loadScriptAsync = function(uri){\n",
       "  return new Promise((resolve, reject) => {\n",
       "    //this is to ignore the existence of requirejs amd\n",
       "    var savedexports, savedmodule;\n",
       "    if (typeof exports !== 'undefined') savedexports = exports;\n",
       "    else exports = {}\n",
       "    if (typeof module !== 'undefined') savedmodule = module;\n",
       "    else module = {}\n",
       "\n",
       "    var tag = document.createElement('script');\n",
       "    tag.src = uri;\n",
       "    tag.async = true;\n",
       "    tag.onload = () => {\n",
       "        exports = savedexports;\n",
       "        module = savedmodule;\n",
       "        resolve();\n",
       "    };\n",
       "  var firstScriptTag = document.getElementsByTagName('script')[0];\n",
       "  firstScriptTag.parentNode.insertBefore(tag, firstScriptTag);\n",
       "});\n",
       "};\n",
       "\n",
       "if(typeof $3Dmolpromise === 'undefined') {\n",
       "$3Dmolpromise = null;\n",
       "  $3Dmolpromise = loadScriptAsync('https://cdnjs.cloudflare.com/ajax/libs/3Dmol/2.0.4/3Dmol-min.js');\n",
       "}\n",
       "\n",
       "var viewer_17092202591163452 = null;\n",
       "var warn = document.getElementById(\"3dmolwarning_17092202591163452\");\n",
       "if(warn) {\n",
       "    warn.parentNode.removeChild(warn);\n",
       "}\n",
       "$3Dmolpromise.then(function() {\n",
       "var viewergrid_17092202591163452 = null;\n",
       "viewergrid_17092202591163452 = $3Dmol.createViewerGrid(document.getElementById(\"3dmolviewer_17092202591163452\"),{rows: 1, cols: 3, control_all: false},{backgroundColor:\"white\"});\n",
       "viewer_17092202591163452 = viewergrid_17092202591163452[0][0];\n",
       "viewergrid_17092202591163452[0][0].zoomTo();viewergrid_17092202591163452[0][1].zoomTo();viewergrid_17092202591163452[0][2].zoomTo();\tviewergrid_17092202591163452[0][0].addModel(\"6\\n\\nC              0.954090000000        -0.072440000000        -0.035080000000\\nO              2.369750000000        -0.080860000000        -0.046850000000\\nH              0.593930000000         0.953980000000        -0.139430000000\\nH              0.593930000000        -0.502740000000         0.902610000000\\nH              0.588300000000        -0.671390000000        -0.872380000000\\nH              2.665130000000         0.458130000000         0.706630000000\\n\",\"xyz\");\n",
       "\tviewergrid_17092202591163452[0][1].addModel(\"6\\n\\nC              0.956837999841        -0.064042602194        -0.023341525322\\nO              2.362871979316        -0.080991777556        -0.047034532392\\nH              0.561832886723         0.951447926476        -0.136387513428\\nH              0.561832106015        -0.499042885132         0.901198662295\\nH              0.625861720746        -0.667292537973        -0.866653375864\\nH              2.695893307359         0.444601876378         0.687718284710\\n\",\"xyz\");\n",
       "\tviewergrid_17092202591163452[0][2].addModel(\"6\\n\\nC              0.966001708819        -0.066757237386        -0.027137353171\\nO              2.398127829006        -0.095543105117        -0.067375639022\\nH              0.566542546444         0.947314258499        -0.133213652459\\nH              0.566540076283        -0.494705449904         0.898309209777\\nH              0.599405581367        -0.664893317906        -0.863304273381\\nH              2.668512997979         0.459262585670         0.708223265914\\n\",\"xyz\");\n",
       "\tviewergrid_17092202591163452[0][0].setViewStyle({\"style\": \"outline\", \"width\": 0.05});\n",
       "\tviewergrid_17092202591163452[0][1].setViewStyle({\"style\": \"outline\", \"width\": 0.05});\n",
       "\tviewergrid_17092202591163452[0][2].setViewStyle({\"style\": \"outline\", \"width\": 0.05});\n",
       "\tviewergrid_17092202591163452[0][0].setStyle({\"stick\": {}, \"sphere\": {\"scale\": 0.25}});\n",
       "\tviewergrid_17092202591163452[0][1].setStyle({\"stick\": {}, \"sphere\": {\"scale\": 0.25}});\n",
       "\tviewergrid_17092202591163452[0][2].setStyle({\"stick\": {}, \"sphere\": {\"scale\": 0.25}});\n",
       "viewergrid_17092202591163452[0][2].render();\n",
       "viewergrid_17092202591163452[0][1].render();\n",
       "viewergrid_17092202591163452[0][0].render();\n",
       "});\n",
       "</script>"
      ]
     },
     "metadata": {},
     "output_type": "display_data"
    }
   ],
   "source": [
    "viewer = p3d.view(viewergrid=(1, 3), width=500, height=200, linked=False)\n",
    "\n",
    "viewer.addModel(methanol_ff.get_xyz_string(), \"xyz\", viewer=(0, 0))\n",
    "viewer.addModel(methanol_xtb.get_xyz_string(), \"xyz\", viewer=(0, 1))\n",
    "viewer.addModel(methanol_hf[\"final_geometry\"], \"xyz\", viewer=(0, 2))\n",
    "\n",
    "viewer.setViewStyle({\"style\": \"outline\", \"width\": 0.05})\n",
    "viewer.setStyle({\"stick\": {}, \"sphere\": {\"scale\": 0.25}})\n",
    "\n",
    "viewer.show()"
   ]
  },
  {
   "cell_type": "markdown",
   "id": "3a864307",
   "metadata": {
    "editable": true,
    "slideshow": {
     "slide_type": ""
    },
    "tags": []
   },
   "source": [
    "These structures are all very similar, featuring, *e.g*, the staggered H-O-C-H dihedral. To better see any differences in the structures, the distance matrices can be calculated using functionalities from the molecule object:"
   ]
  },
  {
   "cell_type": "code",
   "execution_count": 20,
   "id": "4d7510fc",
   "metadata": {
    "editable": true,
    "slideshow": {
     "slide_type": ""
    },
    "tags": []
   },
   "outputs": [],
   "source": [
    "#print(\"From force field (UFF):\")\n",
    "#dm_ff = methanol_ff.get_distance_matrix_in_angstrom()\n",
    "#print(np.around(dm_ff, 3))\n",
    "#print()\n",
    "\n",
    "#print(\"From xTB:\")\n",
    "#dm_xtb = methanol_xtb.get_distance_matrix_in_angstrom()\n",
    "#print(np.around(dm_xtb, 3))\n",
    "#print()\n",
    "\n",
    "#print(\"From HF:\")\n",
    "#dm_hf = methanol_hf.get_distance_matrix_in_angstrom()\n",
    "#print(np.around(dm_hf, 3))"
   ]
  },
  {
   "cell_type": "markdown",
   "id": "c765ce4c",
   "metadata": {
    "editable": true,
    "slideshow": {
     "slide_type": ""
    },
    "tags": []
   },
   "source": [
    "This gives the the distances between all pairs of atoms, as expressed in Å.\n",
    "\n",
    "As long as the atom order is consistent (which it here is), we can print the differences in distance matrices, or maximal absolute difference:"
   ]
  },
  {
   "cell_type": "code",
   "execution_count": 21,
   "id": "22d97141",
   "metadata": {
    "editable": true,
    "slideshow": {
     "slide_type": ""
    },
    "tags": []
   },
   "outputs": [],
   "source": [
    "#print(\"Difference between HF and xTB:\")\n",
    "#print(np.around(dm_hf - dm_xtb, 3))\n",
    "#print()\n",
    "#print(\"Maximal absolute difference between HF and xTB:\")\n",
    "#print(f\"{np.max(np.abs(dm_hf - dm_xtb)):.4f} Å\")"
   ]
  },
  {
   "cell_type": "markdown",
   "id": "7afafe1e",
   "metadata": {
    "editable": true,
    "slideshow": {
     "slide_type": ""
    },
    "tags": []
   },
   "source": [
    "The largest difference is thus seen to be 0.04 Å, between atoms 2 and 5. These atoms are the oxygen and one hydrogen from CH$_4$, which has a total distance of 2.05 Å. As any pair-wise differences will propagate along the molecule, it may be more relevant to look at *relative* differences:"
   ]
  },
  {
   "cell_type": "code",
   "execution_count": 22,
   "id": "3e69853a",
   "metadata": {
    "editable": true,
    "slideshow": {
     "slide_type": ""
    },
    "tags": []
   },
   "outputs": [],
   "source": [
    "# replace the diagonal elements (zeros) with a large number to avoid nan\n",
    "#dm_tmp = dm_hf + 1e10 * np.diag(np.ones(len(dm_hf)))\n",
    "\n",
    "#print(\"Relative difference between HF and xTB:\")\n",
    "#print(np.around((dm_hf - dm_xtb) / dm_tmp, 3))\n",
    "#print()\n",
    "#print(\"Maximal relative difference between HF and xTB:\")\n",
    "#print(f\"{np.max(np.abs((dm_hf - dm_xtb)/dm_tmp)):.4f}\")"
   ]
  },
  {
   "cell_type": "markdown",
   "id": "3827800f",
   "metadata": {
    "editable": true,
    "slideshow": {
     "slide_type": ""
    },
    "tags": []
   },
   "source": [
    "Now we see that the largest *relative* difference in atom-pair distance is between atoms 2 and 6, which correspond to the oxygen and the hydrogen directly connected to the oxygen. With this, we have thus found the largest relative deviation in a bond length, which is in most cases more important than in distances between atoms at different sites."
   ]
  }
 ],
 "metadata": {
  "celltoolbar": "Tags",
  "kernelspec": {
   "display_name": "Python 3 (ipykernel)",
   "language": "python",
   "name": "python3"
  },
  "language_info": {
   "codemirror_mode": {
    "name": "ipython",
    "version": 3
   },
   "file_extension": ".py",
   "mimetype": "text/x-python",
   "name": "python",
   "nbconvert_exporter": "python",
   "pygments_lexer": "ipython3",
   "version": "3.10.13"
  }
 },
 "nbformat": 4,
 "nbformat_minor": 5
}
