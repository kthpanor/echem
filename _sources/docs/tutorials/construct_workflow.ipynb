{
 "cells": [
  {
   "cell_type": "markdown",
   "id": "2af5e7be-8036-4a42-9b2c-4eff72ff70ed",
   "metadata": {},
   "source": [
    "# Constructing workflows\n",
    "\n",
    "This chapter illustrates how Jupyter notebooks can be used to create an [example workflow](example_workflow) to model chemical, physical, and physicochemical processes. A workflow combines a number of modules into a sequential task list. "
   ]
  },
  {
   "cell_type": "markdown",
   "id": "be96b07a-932a-4b84-9446-1a89f3a1e35f",
   "metadata": {},
   "source": [
    "![workflow](../../img/intro/workflow.png)"
   ]
  }
 ],
 "metadata": {
  "kernelspec": {
   "display_name": "Python 3 (ipykernel)",
   "language": "python",
   "name": "python3"
  },
  "language_info": {
   "codemirror_mode": {
    "name": "ipython",
    "version": 3
   },
   "file_extension": ".py",
   "mimetype": "text/x-python",
   "name": "python",
   "nbconvert_exporter": "python",
   "pygments_lexer": "ipython3",
   "version": "3.9.15"
  }
 },
 "nbformat": 4,
 "nbformat_minor": 5
}
