{
 "cells": [
  {
   "cell_type": "markdown",
   "id": "ff8a63c1-317c-4890-a059-85f7e2c9f1e6",
   "metadata": {},
   "source": [
    "# Example workflow"
   ]
  },
  {
   "cell_type": "markdown",
   "id": "b90e8476-cf9b-41bd-aa36-16aa246298c5",
   "metadata": {
    "tags": [
     "remove-cell"
    ]
   },
   "source": [
    "Show how to:\n",
    "- build molecule\n",
    "- optimize molecule (xTB and DFT)\n",
    "- visualize\n",
    "- calculate SCF\n",
    "- visualize\n",
    "\n",
    "Example is less important, but maybe methane combustion:\n",
    "- Initial structure (SMILES?)\n",
    "- xTB optimization (?)\n",
    "- Optimization\n",
    "- Visualization (structure)\n",
    "- SCF calculation\n",
    "- Visualization (MOs)\n"
   ]
  }
 ],
 "metadata": {
  "kernelspec": {
   "display_name": "Python 3 (ipykernel)",
   "language": "python",
   "name": "python3"
  },
  "language_info": {
   "codemirror_mode": {
    "name": "ipython",
    "version": 3
   },
   "file_extension": ".py",
   "mimetype": "text/x-python",
   "name": "python",
   "nbconvert_exporter": "python",
   "pygments_lexer": "ipython3",
   "version": "3.9.15"
  }
 },
 "nbformat": 4,
 "nbformat_minor": 5
}
