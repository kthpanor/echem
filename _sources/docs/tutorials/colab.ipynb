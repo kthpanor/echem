{
 "cells": [
  {
   "cell_type": "markdown",
   "id": "fa8612d8-46c8-4c19-a1db-493ab970fb29",
   "metadata": {
    "editable": true,
    "slideshow": {
     "slide_type": ""
    },
    "tags": []
   },
   "source": [
    "(colab)=\n",
    "# Google Colab notebooks"
   ]
  },
  {
   "cell_type": "markdown",
   "id": "406a8d5f-567e-42ba-bb99-fe58a3554544",
   "metadata": {
    "editable": true,
    "slideshow": {
     "slide_type": ""
    },
    "tags": []
   },
   "source": [
    "With Google Colab you can explore most of the material in this eChem book without installing any software on your local computer. Notebooks are instead run in the cloud on resources provided by Google for free and even tablets can be used as interface. \n",
    "\n",
    "This serve as a convenient alternative if you just wish to try things out. Note, however, that session startup times will be in the order of minutes as software needs to be installed on the cloud resource made available to you (one typically gets two CPU cores). \n",
    "\n",
    "If you are new to Colab, there is an abundance of introductory material such as the YouTube video below."
   ]
  },
  {
   "cell_type": "code",
   "execution_count": 2,
   "id": "2bc75276-1a3e-4d49-a6ec-fdf29001b4e8",
   "metadata": {
    "editable": true,
    "slideshow": {
     "slide_type": ""
    },
    "tags": [
     "remove-input"
    ]
   },
   "outputs": [
    {
     "data": {
      "text/html": [
       "\n",
       "        <iframe\n",
       "            width=\"400\"\n",
       "            height=\"300\"\n",
       "            src=\"https://www.youtube.com/embed/inN8seMm7UI?si=vyj1XW9k1F-XOefN\"\n",
       "            frameborder=\"0\"\n",
       "            allowfullscreen\n",
       "            \n",
       "        ></iframe>\n",
       "        "
      ],
      "text/plain": [
       "<IPython.lib.display.YouTubeVideo at 0x105f79bd0>"
      ]
     },
     "execution_count": 2,
     "metadata": {},
     "output_type": "execute_result"
    }
   ],
   "source": [
    "from IPython.display import YouTubeVideo\n",
    "\n",
    "YouTubeVideo(\"inN8seMm7UI?si=vyj1XW9k1F-XOefN\")"
   ]
  },
  {
   "cell_type": "markdown",
   "id": "fe48bea0-553c-4a91-a7ef-fe64053f2e16",
   "metadata": {
    "editable": true,
    "slideshow": {
     "slide_type": ""
    },
    "tags": []
   },
   "source": [
    "## VeloxChem notebooks\n",
    "\n",
    "- [Atomic charges](https://colab.research.google.com/github/ahlqui/VeloxChemColabs/blob/main/AtomicCharges.ipynb)\n",
    "- [Bond dissociation energies](https://colab.research.google.com/github/ahlqui/VeloxChemColabs/blob/main/BDEtohydrogen.ipynb)\n",
    "- [Dihedral potential energy curve (relaxed scan)](https://colab.research.google.com/github/ahlqui/VeloxChemColabs/blob/main/DihedralScan.ipynb)\n",
    "- [Draw molecules and generate SMILES](https://colab.research.google.com/github/ahlqui/VeloxChemColabs/blob/main/DrawMoleculeSMILES.ipynb)\n",
    "- [Generate force fields and input files for Gromacs](https://colab.research.google.com/github/ahlqui/VeloxChemColabs/blob/main/ForceFieldGeneratorForGromacs.ipynb)\n",
    "- [Run molecular dynamics for single ligand](https://colab.research.google.com/github/ahlqui/VeloxChemColabs/blob/main/MolecularDynamics.ipynb)\n",
    "- [Conformer search with molecular dynamics](https://colab.research.google.com/github/ahlqui/VeloxChemColabs/blob/main/MolecularDynamicsConformerSearch.ipynb)\n",
    "- [Molecular dynamics with multiple ligand structures](https://colab.research.google.com/github/ahlqui/VeloxChemColabs/blob/main/MolecularDynamicsTwoMolecules.ipynb)\n",
    "- [Molecular structure optimizations](https://colab.research.google.com/github/ahlqui/VeloxChemColabs/blob/main/Optimize_geometry.ipynb)\n",
    "- [Visualize molecular orbitals](https://colab.research.google.com/github/ahlqui/VeloxChemColabs/blob/main/OrbitalVisualizer.ipynb)\n",
    "- [UV/vis spectrum](https://colab.research.google.com/github/ahlqui/VeloxChemColabs/blob/main/UV_Vis_spectrum.ipynb)"
   ]
  },
  {
   "cell_type": "code",
   "execution_count": null,
   "id": "90c83ad8-ddb8-4af2-a648-42ee0a469d5c",
   "metadata": {
    "editable": true,
    "slideshow": {
     "slide_type": ""
    },
    "tags": []
   },
   "outputs": [],
   "source": []
  }
 ],
 "metadata": {
  "kernelspec": {
   "display_name": "Python 3 (ipykernel)",
   "language": "python",
   "name": "python3"
  },
  "language_info": {
   "codemirror_mode": {
    "name": "ipython",
    "version": 3
   },
   "file_extension": ".py",
   "mimetype": "text/x-python",
   "name": "python",
   "nbconvert_exporter": "python",
   "pygments_lexer": "ipython3",
   "version": "3.10.13"
  }
 },
 "nbformat": 4,
 "nbformat_minor": 5
}
