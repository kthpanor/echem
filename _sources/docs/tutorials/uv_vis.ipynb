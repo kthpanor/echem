{
 "cells": [
  {
   "cell_type": "markdown",
   "id": "79828c2f",
   "metadata": {},
   "source": [
    "(sec:uv-vis)=\n",
    "# UV/vis spectroscopies\n",
    "\n",
    "In this chapter, we will address transitions between the ground state and valence excited states as a result of UV or visible light absorption. The photon energies of UV and visible light are on the same scale as the energy differences between valence electronic states, which are thus probed, revealing information on electronic structure in the valence region and on vibrational fine structure. As illustrated in the Jablonski diagram ({numref}`Fig. {number} <fig-jablonski>`), transitions between various states take place in different manners and on very different time-scales. The diagram illustrates the ground state (in this case a singlet state, S$_0$), three singlet excited states (S$_1$, S$_2$, and S$_3$), as well as one triplet excited state (T$_1$). Each electronic state has a vibrational fine structure as schematically represented in the figure. \n",
    "\n",
    "```{figure} ../../img/uv_vis/jablonski_diagram.png\n",
    "---\n",
    "scale: 100%\n",
    "name: fig-jablonski\n",
    "align: center\n",
    "---\n",
    "Jablonski diagram illustrating possible radiative and non-radiative transitions between singlet (S) and triplet (T) valence excited states. These transitions operate on very different timescales: $10^{-15}$ s (absorption), $10^{-14}$ - $10^{-11}$ s (vibrational relaxation and internal conversion), $10^{-9}$ - $10^{-7}$ s (fluorescence), $10^{-8}$ - $10^{-3}$ s (intersystem crossing), and $10^{-4}$ - $10^{-1}$ s (phosphorescence).\n",
    "```\n",
    "\n",
    "The absorption of a UV or visible photon typically results in an electronic excitation from the ground state, to one of the singlet excited states. Photon absorption is an ultrafast process which takes place on the femtosecond (fs) timescale. Usually, the system is brought onto a vibrationally excited state of the electronically excited state, as the transition dipole moment for such a process is larger than a transition to the vibrational gound state (a 0-0 transition).\n",
    "\n",
    "The full relaxation back to the ground state involves different processes which work on different timescales. Relaxation from a vibrationaly excited state to the vibrational ground state is a non-radiative process which occurs on the $10^{-14}$ - $10^{-11}$ s timescale. Another non-radiative process which operates on the same timescale is internal conversion, where a singlet excited state transitions to a different one through a crossing point where two excited state potential energy surfaces intersect. The non-radiative transition from a singlet excited state to a triplet excited state also takes place through an intersection point, a process called intersystem crossing with a much smaller rate than intenal conversion ($10^{-8}$ - $10^{-3}$ s). Finally, the radiative transition from a singlet excited state back to the singlet is called fluorescence and operates on the $10^{-9}$ - $10^{-7}$ s timescale, while the transition between a triplet excited state and the ground state gives rise to phosphorescence ($10^{-4}$ - $10^{-1}$ s).\n",
    "\n",
    "\n",
    "In the following sections we discuss:\n",
    "\n",
    "- How to calculate UV/vis [absorption spectra](uv_vis_absorption), using a number of different theoretical approaches such as MCSCF, TDDFT, and ADC\n",
    "- How to calculate UV/vis [fluorescence spectra](uv_vis_fluorescence)\n",
    "- The [visualization and analysis](uv_vis_analysis) of obtained spectra\n",
    "- General [recommendations](uv_vis_rec) for practical studies\n",
    "- The chapter closes with suggested [exercises](uv_vis_exercises)\n"
   ]
  },
  {
   "cell_type": "markdown",
   "id": "4c1009ba-5e6f-45bc-b10e-e7c5635a1468",
   "metadata": {
    "tags": [
     "remove-cell"
    ]
   },
   "source": [
    "\n",
    "```{note}\n",
    "- Add on this page\n",
    "    - Jablonski diagram\n",
    "    - Different excitation energies (vertical, adiabatic, 0-0)\n",
    "- Add sections\n",
    "    - Special aspects\n",
    "    - Large molecules\n",
    "    - Photochemistry example\n",
    "    - ORJuP?\n",
    "```"
   ]
  }
 ],
 "metadata": {
  "kernelspec": {
   "display_name": "Python 3 (ipykernel)",
   "language": "python",
   "name": "python3"
  },
  "language_info": {
   "codemirror_mode": {
    "name": "ipython",
    "version": 3
   },
   "file_extension": ".py",
   "mimetype": "text/x-python",
   "name": "python",
   "nbconvert_exporter": "python",
   "pygments_lexer": "ipython3",
   "version": "3.9.15"
  }
 },
 "nbformat": 4,
 "nbformat_minor": 5
}
