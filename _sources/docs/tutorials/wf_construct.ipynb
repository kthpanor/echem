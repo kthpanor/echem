{
 "cells": [
  {
   "cell_type": "markdown",
   "id": "ff8a63c1-317c-4890-a059-85f7e2c9f1e6",
   "metadata": {},
   "source": [
    "# Assembling a full workflow\n",
    "\n",
    "- The calculation of the [methane combustion energy](wf_methane)\n",
    "  \n",
    "- Estimating the [global warming potential (GWP)](wf_gwp) of different gases\n",
    "\n",
    "- Assembling a workflow for [calculating and analyzing](wf_spectra) UV/vis and X-ray absorption spectrum of a molecule, supplied with either xyz-coordinates or a SMILES string"
   ]
  },
  {
   "cell_type": "code",
   "execution_count": null,
   "id": "deb88709-4fef-4b91-a097-841c68f30807",
   "metadata": {},
   "outputs": [],
   "source": []
  }
 ],
 "metadata": {
  "celltoolbar": "Tags",
  "kernelspec": {
   "display_name": "Python 3 (ipykernel)",
   "language": "python",
   "name": "python3"
  },
  "language_info": {
   "codemirror_mode": {
    "name": "ipython",
    "version": 3
   },
   "file_extension": ".py",
   "mimetype": "text/x-python",
   "name": "python",
   "nbconvert_exporter": "python",
   "pygments_lexer": "ipython3",
   "version": "3.11.7"
  }
 },
 "nbformat": 4,
 "nbformat_minor": 5
}
