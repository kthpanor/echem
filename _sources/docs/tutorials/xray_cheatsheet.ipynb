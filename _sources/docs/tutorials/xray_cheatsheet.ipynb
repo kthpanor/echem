{
 "cells": [
  {
   "cell_type": "markdown",
   "id": "3d5d2dcc",
   "metadata": {},
   "source": [
    "# Cheat sheet\n",
    "\n",
    "Here we provide quick reference calculation for some of the most common X-ray spectrum calculations, considering XPS/IE, XAS, and (non-resonant) XES of water, as well as a typical workflow.\n",
    "\n",
    "\n",
    "## Typical workflow\n",
    "\n",
    "- Perform [structure optimization](../mol_struct/opt_gs)\n",
    "- Calculate the spectra/ionization energies\n",
    "    - Choose suitable [level of theory](xray_rec)\n",
    "    - Depending on spectroscopy:\n",
    "        - [Ionization energy](sec:xray_calc_xps): using [$\\Delta$-methods](sec:xray_calc_dscf), or target transitions to extremely [diffuse MOs](sec:xray_ie_diffuse)\n",
    "        - [XAS](sec:xray_calc_xas): [CVS-ADC](sec:xray_calc_cvsadc), [CPP-DFT](sec:xray_calc_cppdft), or [CVS-TDSCF](sec:xray_calc_cvsdft)\n",
    "        - [XES](sec:xray_calc_xes): [ADC](sec:xray_calc_xesadc), [TDSCF](sec:xray_calc_xesdft), and using [ground state MOs](sec:xray_calc_xesmos)\n",
    "        - [RIXS](sec:xray_calc_rixs): two-step model with [ADC](sec:xray_calc_2stepadc)\n",
    "- Analysis and assignment of the spectra\n",
    "    - Looking at [amplitudes](sec:xray_anal_amp)\n",
    "    - Visualization\n",
    "        - [Molecular orbitals](../visualize/exc_vis.ipynb)\n",
    "        - [Natural transition orbitals](sec:vis_ntos)\n",
    "        - [Attachment/detachment densities](sec:vis_attach_det)\n",
    "        "
   ]
  },
  {
   "cell_type": "markdown",
   "id": "02d4ba4b",
   "metadata": {},
   "source": [
    "## IEs and XPS\n",
    "\n",
    "\n",
    "### Koopmans' theorem\n",
    "\n",
    "While it is not recommended for any production calculations, estimates of ionization energies can be obtained from [Koopmans' theorem](sec:xray_calc_iekoop):"
   ]
  },
  {
   "cell_type": "code",
   "execution_count": 1,
   "id": "c4d4ee5b",
   "metadata": {},
   "outputs": [
    {
     "name": "stdout",
     "output_type": "stream",
     "text": [
      "* Warning * Environment variable OMP_NUM_THREADS not set.\n",
      "* Warning * Setting OMP_NUM_THREADS to 4.\n",
      "* Info * Reading basis set from file: /home/thomas/Notebook/anaconda/envs/echem/lib/python3.10/site-packages/veloxchem/basis/6-31G\n",
      "                                                                                                                          \n",
      "                                              Molecular Basis (Atomic Basis)                                              \n",
      "                                             ================================                                             \n",
      "                                                                                                                          \n",
      "                                  Basis: 6-31G                                                                            \n",
      "                                                                                                                          \n",
      "                                  Atom Contracted GTOs          Primitive GTOs                                            \n",
      "                                                                                                                          \n",
      "                                   O   (3S,2P)                  (10S,4P)                                                  \n",
      "                                   H   (2S)                     (4S)                                                      \n",
      "                                                                                                                          \n",
      "                                  Contracted Basis Functions : 13                                                         \n",
      "                                  Primitive Basis Functions  : 30                                                         \n",
      "                                                                                                                          \n",
      "1s E from Koopmans' theorem: -559.5 eV\n"
     ]
    }
   ],
   "source": [
    "import numpy as np\n",
    "import veloxchem as vlx\n",
    "\n",
    "# for vlx\n",
    "silent_ostream = vlx.OutputStream(None)\n",
    "from mpi4py import MPI\n",
    "\n",
    "comm = MPI.COMM_WORLD\n",
    "# au to eV conversion factor\n",
    "au2ev = 27.211386\n",
    "\n",
    "water_xyz = \"\"\"\n",
    "O       0.0000000000     0.0000000000     0.1178336003\n",
    "H      -0.7595754146    -0.0000000000    -0.4713344012\n",
    "H       0.7595754146     0.0000000000    -0.4713344012\n",
    "\"\"\"\n",
    "\n",
    "# Create veloxchem mol and basis objects\n",
    "mol_vlx = vlx.Molecule.read_str(water_xyz)\n",
    "bas_vlx = vlx.MolecularBasis.read(mol_vlx, \"6-31G\")\n",
    "\n",
    "# Perform SCF calculation\n",
    "scf_gs = vlx.ScfRestrictedDriver(comm, ostream=silent_ostream)\n",
    "scf_gs.compute(mol_vlx, bas_vlx)\n",
    "\n",
    "# Extract orbital energies\n",
    "orbital_energies = scf_gs.scf_tensors[\"E\"]\n",
    "print(\"1s E from Koopmans' theorem:\", np.around(au2ev * orbital_energies[0], 2), \"eV\")"
   ]
  },
  {
   "cell_type": "markdown",
   "id": "7aef2752",
   "metadata": {},
   "source": [
    "### $\\Delta$-methods\n",
    "\n",
    "Substantially improved ionization energies are obtained using [$\\Delta$-methods](sec:xray_calc_dscf), where the energy difference of the ground state and core-hole state is used to estimate the IE:"
   ]
  },
  {
   "cell_type": "code",
   "execution_count": 2,
   "id": "516176c4",
   "metadata": {},
   "outputs": [
    {
     "name": "stdout",
     "output_type": "stream",
     "text": [
      "converged SCF energy = -75.9838703827192  <S^2> = 6.3344885e-12  2S+1 = 1\n"
     ]
    },
    {
     "name": "stderr",
     "output_type": "stream",
     "text": [
      "Overwritten attributes  get_occ  of <class 'pyscf.scf.uhf.UHF'>\n"
     ]
    },
    {
     "name": "stdout",
     "output_type": "stream",
     "text": [
      "converged SCF energy = -56.0754789470865  <S^2> = 0.76257805  2S+1 = 2.0125387\n",
      "E(UMP2) = -76.1130483955489  E_corr = -0.129178012829706\n",
      "E(UMP2) = -56.1523709631035  E_corr = -0.0768920160169649\n",
      "HF ionization energy: 541.73 eV\n",
      "MP2 ionzation energy: 543.16 eV\n"
     ]
    }
   ],
   "source": [
    "import copy\n",
    "\n",
    "import numpy as np\n",
    "from pyscf import gto, mp, scf\n",
    "\n",
    "water_xyz = \"\"\"\n",
    "O       0.0000000000     0.0000000000     0.1178336003\n",
    "H      -0.7595754146    -0.0000000000    -0.4713344012\n",
    "H       0.7595754146     0.0000000000    -0.4713344012\n",
    "\"\"\"\n",
    "\n",
    "# Create pyscf mol object\n",
    "mol = gto.Mole()\n",
    "mol.atom = water_xyz\n",
    "mol.basis = \"6-31G\"\n",
    "mol.build()\n",
    "\n",
    "# Perform unrestricted SCF calculation\n",
    "scf_gs = scf.UHF(mol)\n",
    "scf_gs.kernel()\n",
    "\n",
    "# Copy molecular orbitals and occupations\n",
    "mo0 = copy.deepcopy(scf_gs.mo_coeff)\n",
    "occ0 = copy.deepcopy(scf_gs.mo_occ)\n",
    "\n",
    "# Create 1s core-hole by setting alpha_0 population to zero\n",
    "occ0[0][0] = 0.0\n",
    "\n",
    "# Perform unrestricted SCF calculation with MOM constraint\n",
    "scf_ion = scf.UHF(mol)\n",
    "scf.addons.mom_occ(scf_ion, mo0, occ0)\n",
    "scf_ion.kernel()\n",
    "\n",
    "# Run MP2 on neutral and core-hole state\n",
    "mp_res = mp.MP2(scf_gs).run()\n",
    "mp_ion = mp.MP2(scf_ion).run()\n",
    "\n",
    "# IE from energy difference\n",
    "print(\n",
    "    \"HF ionization energy:\",\n",
    "    np.around(au2ev * (scf_ion.energy_tot() - scf_gs.energy_tot()), 2),\n",
    "    \"eV\",\n",
    ")\n",
    "print(\n",
    "    \"MP2 ionzation energy:\", np.around(au2ev * (mp_ion.e_tot - mp_res.e_tot), 2), \"eV\"\n",
    ")"
   ]
  },
  {
   "cell_type": "markdown",
   "id": "cdd3f7d2",
   "metadata": {},
   "source": [
    "## XAS\n",
    "\n",
    "### CVS-ADC\n",
    "\n",
    "Absorption spectra can be calculated using [CVS-ADC](sec:xray_calc_cvsadc):"
   ]
  },
  {
   "cell_type": "code",
   "execution_count": 3,
   "id": "9f942a86",
   "metadata": {
    "tags": [
     "remove-output"
    ]
   },
   "outputs": [
    {
     "name": "stdout",
     "output_type": "stream",
     "text": [
      "* Info * Reading basis set from file: /home/thomas/Notebook/anaconda/envs/echem/lib/python3.10/site-packages/veloxchem/basis/6-31G\n",
      "                                                                                                                          \n",
      "                                              Molecular Basis (Atomic Basis)                                              \n",
      "                                             ================================                                             \n",
      "                                                                                                                          \n",
      "                                  Basis: 6-31G                                                                            \n",
      "                                                                                                                          \n",
      "                                  Atom Contracted GTOs          Primitive GTOs                                            \n",
      "                                                                                                                          \n",
      "                                   O   (3S,2P)                  (10S,4P)                                                  \n",
      "                                   H   (2S)                     (4S)                                                      \n",
      "                                                                                                                          \n",
      "                                  Contracted Basis Functions : 13                                                         \n",
      "                                  Primitive Basis Functions  : 30                                                         \n",
      "                                                                                                                          \n",
      "                                                                                                                          \n",
      "                                            Self Consistent Field Driver Setup                                            \n",
      "                                           ====================================                                           \n",
      "                                                                                                                          \n",
      "                   Wave Function Model             : Spin-Restricted Hartree-Fock                                         \n",
      "                   Initial Guess Model             : Superposition of Atomic Densities                                    \n",
      "                   Convergence Accelerator         : Two Level Direct Inversion of Iterative Subspace                     \n",
      "                   Max. Number of Iterations       : 50                                                                   \n",
      "                   Max. Number of Error Vectors    : 10                                                                   \n",
      "                   Convergence Threshold           : 1.0e-06                                                              \n",
      "                   ERI Screening Scheme            : Cauchy Schwarz + Density                                             \n",
      "                   ERI Screening Mode              : Dynamic                                                              \n",
      "                   ERI Screening Threshold         : 1.0e-12                                                              \n",
      "                   Linear Dependence Threshold     : 1.0e-06                                                              \n",
      "                                                                                                                          \n",
      "* Info * Nuclear repulsion energy: 9.1561447194 a.u.                                                                      \n",
      "                                                                                                                          \n",
      "* Info * Overlap matrix computed in 0.00 sec.                                                                             \n",
      "                                                                                                                          \n",
      "* Info * Kinetic energy matrix computed in 0.00 sec.                                                                      \n",
      "                                                                                                                          \n",
      "* Info * Nuclear potential matrix computed in 0.00 sec.                                                                   \n",
      "                                                                                                                          \n",
      "* Info * Orthogonalization matrix computed in 0.00 sec.                                                                   \n",
      "                                                                                                                          \n",
      "* Info * SAD initial guess computed in 0.01 sec.                                                                          \n",
      "                                                                                                                          \n",
      "* Info * Starting Reduced Basis SCF calculation...                                                                        \n",
      "* Info * ...done. SCF energy in reduced basis set: -75.983870205311 a.u. Time: 0.07 sec.                                  \n",
      "                                                                                                                          \n",
      "* Info * Overlap matrix computed in 0.00 sec.                                                                             \n",
      "                                                                                                                          \n",
      "* Info * Kinetic energy matrix computed in 0.01 sec.                                                                      \n",
      "                                                                                                                          \n",
      "* Info * Nuclear potential matrix computed in 0.00 sec.                                                                   \n",
      "                                                                                                                          \n",
      "* Info * Orthogonalization matrix computed in 0.00 sec.                                                                   \n",
      "                                                                                                                          \n",
      "                                                                                                                          \n",
      "               Iter. | Hartree-Fock Energy | Energy Change | Gradient Norm | Max. Gradient | Density Change               \n",
      "               --------------------------------------------------------------------------------------------               \n",
      "                  1       -75.983870373952    0.0000000000      0.00006826      0.00001638      0.00000000                \n",
      "                  2       -75.983870375702   -0.0000000017      0.00002636      0.00000475      0.00006304                \n",
      "                  3       -75.983870375765   -0.0000000001      0.00000396      0.00000061      0.00000524                \n",
      "                  4       -75.983870375769   -0.0000000000      0.00000029      0.00000008      0.00000296                \n",
      "                                                                                                                          \n",
      "               *** SCF converged in 4 iterations. Time: 0.07 sec.                                                         \n",
      "                                                                                                                          \n",
      "               Spin-Restricted Hartree-Fock:                                                                              \n",
      "               -----------------------------                                                                              \n",
      "               Total Energy                       :      -75.9838703758 a.u.                                              \n",
      "               Electronic Energy                  :      -85.1400150952 a.u.                                              \n",
      "               Nuclear Repulsion Energy           :        9.1561447194 a.u.                                              \n",
      "               ------------------------------------                                                                       \n",
      "               Gradient Norm                      :        0.0000002874 a.u.                                              \n",
      "                                                                                                                          \n",
      "                                                                                                                          \n",
      "               Ground State Information                                                                                   \n",
      "               ------------------------                                                                                   \n",
      "               Charge of Molecule            :  0.0                                                                       \n",
      "               Multiplicity (2S+1)           :  1.0                                                                       \n",
      "               Magnetic Quantum Number (M_S) :  0.0                                                                       \n",
      "                                                                                                                          \n",
      "                                                                                                                          \n",
      "                                                 Spin Restricted Orbitals                                                 \n",
      "                                                 ------------------------                                                 \n",
      "                                                                                                                          \n",
      "               Molecular Orbital No.   1:                                                                                 \n",
      "               --------------------------                                                                                 \n",
      "               Occupation: 2.000 Energy:  -20.56128 a.u.                                                                  \n",
      "               (   1 O   1s  :    -1.00)                                                                                  \n",
      "                                                                                                                          \n",
      "               Molecular Orbital No.   2:                                                                                 \n",
      "               --------------------------                                                                                 \n",
      "               Occupation: 2.000 Energy:   -1.35434 a.u.                                                                  \n",
      "               (   1 O   1s  :     0.21) (   1 O   2s  :    -0.47) (   1 O   3s  :    -0.48)                              \n",
      "                                                                                                                          \n",
      "               Molecular Orbital No.   3:                                                                                 \n",
      "               --------------------------                                                                                 \n",
      "               Occupation: 2.000 Energy:   -0.70774 a.u.                                                                  \n",
      "               (   1 O   1p+1:     0.51) (   1 O   2p+1:     0.27) (   2 H   1s  :    -0.26)                              \n",
      "               (   3 H   1s  :     0.26)                                                                                  \n",
      "                                                                                                                          \n",
      "               Molecular Orbital No.   4:                                                                                 \n",
      "               --------------------------                                                                                 \n",
      "               Occupation: 2.000 Energy:   -0.56024 a.u.                                                                  \n",
      "               (   1 O   2s  :    -0.18) (   1 O   3s  :    -0.31) (   1 O   1p0 :    -0.55)                              \n",
      "               (   1 O   2p0 :    -0.40)                                                                                  \n",
      "                                                                                                                          \n",
      "               Molecular Orbital No.   5:                                                                                 \n",
      "               --------------------------                                                                                 \n",
      "               Occupation: 2.000 Energy:   -0.50122 a.u.                                                                  \n",
      "               (   1 O   1p-1:     0.64) (   1 O   2p-1:     0.51)                                                        \n",
      "                                                                                                                          \n",
      "               Molecular Orbital No.   6:                                                                                 \n",
      "               --------------------------                                                                                 \n",
      "               Occupation: 0.000 Energy:    0.20280 a.u.                                                                  \n",
      "               (   1 O   3s  :     1.17) (   1 O   1p0 :    -0.23) (   1 O   2p0 :    -0.48)                              \n",
      "               (   2 H   2s  :    -0.99) (   3 H   2s  :    -0.99)                                                        \n",
      "                                                                                                                          \n",
      "               Molecular Orbital No.   7:                                                                                 \n",
      "               --------------------------                                                                                 \n",
      "               Occupation: 0.000 Energy:    0.29874 a.u.                                                                  \n",
      "               (   1 O   1p+1:    -0.34) (   1 O   2p+1:    -0.82) (   2 H   2s  :    -1.38)                              \n",
      "               (   3 H   2s  :     1.38)                                                                                  \n",
      "                                                                                                                          \n",
      "               Molecular Orbital No.   8:                                                                                 \n",
      "               --------------------------                                                                                 \n",
      "               Occupation: 0.000 Energy:    1.05548 a.u.                                                                  \n",
      "               (   1 O   2p+1:     0.74) (   2 H   1s  :     0.97) (   2 H   2s  :    -0.50)                              \n",
      "               (   3 H   1s  :    -0.97) (   3 H   2s  :     0.50)                                                        \n",
      "                                                                                                                          \n",
      "               Molecular Orbital No.   9:                                                                                 \n",
      "               --------------------------                                                                                 \n",
      "               Occupation: 0.000 Energy:    1.16442 a.u.                                                                  \n",
      "               (   1 O   1p-1:    -0.96) (   1 O   2p-1:     1.04)                                                        \n",
      "                                                                                                                          \n",
      "               Molecular Orbital No.  10:                                                                                 \n",
      "               --------------------------                                                                                 \n",
      "               Occupation: 0.000 Energy:    1.18237 a.u.                                                                  \n",
      "               (   1 O   2s  :     0.26) (   1 O   3s  :    -0.18) (   1 O   1p0 :    -0.67)                              \n",
      "               (   1 O   2p0 :     0.22) (   2 H   1s  :    -0.84) (   2 H   2s  :     0.55)                              \n",
      "               (   3 H   1s  :    -0.84) (   3 H   2s  :     0.55)                                                        \n",
      "                                                                                                                          \n"
     ]
    },
    {
     "ename": "AttributeError",
     "evalue": "'ScfRestrictedDriver' object has no attribute 'num_iter'",
     "output_type": "error",
     "traceback": [
      "\u001b[0;31m---------------------------------------------------------------------------\u001b[0m",
      "\u001b[0;31mAttributeError\u001b[0m                            Traceback (most recent call last)",
      "Cell \u001b[0;32mIn [3], line 15\u001b[0m\n\u001b[1;32m     12\u001b[0m basis \u001b[38;5;241m=\u001b[39m gator\u001b[38;5;241m.\u001b[39mget_molecular_basis(struct, \u001b[38;5;124m\"\u001b[39m\u001b[38;5;124m6-31G\u001b[39m\u001b[38;5;124m\"\u001b[39m)\n\u001b[1;32m     14\u001b[0m \u001b[38;5;66;03m# Perform SCF calculation\u001b[39;00m\n\u001b[0;32m---> 15\u001b[0m scf_gs \u001b[38;5;241m=\u001b[39m gator\u001b[38;5;241m.\u001b[39mrun_scf(struct, basis)\n\u001b[1;32m     17\u001b[0m \u001b[38;5;66;03m# Calculate the 6 lowest eigenstates with CVS restriction to MO #1 (oxygen 1s)\u001b[39;00m\n\u001b[1;32m     18\u001b[0m adc_res \u001b[38;5;241m=\u001b[39m gator\u001b[38;5;241m.\u001b[39mrun_adc(\n\u001b[1;32m     19\u001b[0m     struct, basis, scf_gs, method\u001b[38;5;241m=\u001b[39m\u001b[38;5;124m\"\u001b[39m\u001b[38;5;124mcvs-adc2x\u001b[39m\u001b[38;5;124m\"\u001b[39m, singlets\u001b[38;5;241m=\u001b[39m\u001b[38;5;241m4\u001b[39m, core_orbitals\u001b[38;5;241m=\u001b[39m\u001b[38;5;241m1\u001b[39m\n\u001b[1;32m     20\u001b[0m )\n",
      "File \u001b[0;32m~/Notebook/anaconda/envs/echem/lib/python3.10/site-packages/gator/gatorutils.py:123\u001b[0m, in \u001b[0;36mrun_scf\u001b[0;34m(mol, basis, **kwargs)\u001b[0m\n\u001b[1;32m    121\u001b[0m \u001b[38;5;28;01melse\u001b[39;00m:\n\u001b[1;32m    122\u001b[0m     valstr \u001b[38;5;241m+\u001b[39m\u001b[38;5;241m=\u001b[39m \u001b[38;5;124m'\u001b[39m\u001b[38;5;124mNOT converged in \u001b[39m\u001b[38;5;124m'\u001b[39m\n\u001b[0;32m--> 123\u001b[0m valstr \u001b[38;5;241m+\u001b[39m\u001b[38;5;241m=\u001b[39m \u001b[38;5;124m'\u001b[39m\u001b[38;5;132;01m{:d}\u001b[39;00m\u001b[38;5;124m iterations.\u001b[39m\u001b[38;5;124m'\u001b[39m\u001b[38;5;241m.\u001b[39mformat(\u001b[43mscf_drv\u001b[49m\u001b[38;5;241;43m.\u001b[39;49m\u001b[43mnum_iter\u001b[49m)\n\u001b[1;32m    124\u001b[0m \u001b[38;5;28mprint\u001b[39m(valstr, file\u001b[38;5;241m=\u001b[39msys\u001b[38;5;241m.\u001b[39mstdout)\n\u001b[1;32m    125\u001b[0m \u001b[38;5;28;01mif\u001b[39;00m scf_drv\u001b[38;5;241m.\u001b[39mis_converged:\n",
      "\u001b[0;31mAttributeError\u001b[0m: 'ScfRestrictedDriver' object has no attribute 'num_iter'"
     ]
    }
   ],
   "source": [
    "import gator\n",
    "import matplotlib.pyplot as plt\n",
    "\n",
    "water_xyz = \"\"\"\n",
    "O       0.0000000000     0.0000000000     0.1178336003\n",
    "H      -0.7595754146    -0.0000000000    -0.4713344012\n",
    "H       0.7595754146     0.0000000000    -0.4713344012\n",
    "\"\"\"\n",
    "\n",
    "# Construct structure and basis objects\n",
    "struct = gator.get_molecule(water_xyz)\n",
    "basis = gator.get_molecular_basis(struct, \"6-31G\")\n",
    "\n",
    "# Perform SCF calculation\n",
    "scf_gs = gator.run_scf(struct, basis)\n",
    "\n",
    "# Calculate the 6 lowest eigenstates with CVS restriction to MO #1 (oxygen 1s)\n",
    "adc_res = gator.run_adc(\n",
    "    struct, basis, scf_gs, method=\"cvs-adc2x\", singlets=4, core_orbitals=1\n",
    ")"
   ]
  },
  {
   "cell_type": "code",
   "execution_count": 4,
   "id": "4488f420",
   "metadata": {},
   "outputs": [
    {
     "name": "stdout",
     "output_type": "stream",
     "text": [
      "+--------------------------------------------------------------+\n",
      "| cvs-adc2x                               singlet ,  converged |\n",
      "+--------------------------------------------------------------+\n",
      "|  #        excitation energy     osc str    |v1|^2    |v2|^2  |\n",
      "|          (au)           (eV)                                 |\n",
      "|  0      19.71638      536.5099   0.0175       0.8       0.2  |\n",
      "|  1       19.7967      538.6956   0.0368    0.8087    0.1913  |\n",
      "|  2      20.49351      557.6567   0.0098    0.7858    0.2142  |\n",
      "|  3      20.50482      557.9647   0.1007    0.8441    0.1559  |\n",
      "+--------------------------------------------------------------+\n",
      "\n"
     ]
    },
    {
     "data": {
      "image/png": "[encoded data removed]",
      "text/plain": [
       "<Figure size 432x360 with 1 Axes>"
      ]
     },
     "metadata": {
      "needs_background": "light"
     },
     "output_type": "display_data"
    }
   ],
   "source": [
    "# Print information on eigenstates\n",
    "print(adc_res.describe())\n",
    "\n",
    "plt.figure(figsize=(6, 5))\n",
    "# Convolute using functionalities available in gator and adcc\n",
    "adc_res.plot_spectrum()\n",
    "plt.show()"
   ]
  },
  {
   "cell_type": "markdown",
   "id": "2f32f816",
   "metadata": {},
   "source": [
    "### CPP-DFT\n",
    "\n",
    "- To be added\n",
    "\n",
    "## XES\n",
    "\n",
    "### ADC\n",
    "\n",
    "The non-resonant X-ray emission spectrum can be calculated with a two-step approach using [ADC](sec:xray_calc_xesadc):"
   ]
  },
  {
   "cell_type": "code",
   "execution_count": 5,
   "id": "f62d4059",
   "metadata": {
    "tags": [
     "hide-output"
    ]
   },
   "outputs": [
    {
     "name": "stdout",
     "output_type": "stream",
     "text": [
      "converged SCF energy = -75.9838703827193  <S^2> = 6.3433703e-12  2S+1 = 1\n",
      "converged SCF energy = -56.0754789470865  <S^2> = 0.76257805  2S+1 = 2.0125387\n",
      "Starting adc2  Jacobi-Davidson ...\n",
      "Niter n_ss  max_residual  time  Ritz values\n",
      "  1     8       0.77768   2.0s  [-19.29082067 -19.19940205 -18.96181907 -18.3637012 ]\n",
      "  2    16     0.0010764  372ms  [-19.44427093 -19.36689642 -19.16826546 -18.57947501]\n",
      "  3    24    4.4301e-07  757ms  [-19.44429764 -19.3669284  -19.16831914 -18.57954987]\n",
      "=== Converged ===\n",
      "    Number of matrix applies:    24\n",
      "    Total solver time:             3s 185ms\n"
     ]
    }
   ],
   "source": [
    "import copy\n",
    "\n",
    "import adcc\n",
    "import matplotlib.pyplot as plt\n",
    "import numpy as np\n",
    "from pyscf import gto, mp, scf\n",
    "\n",
    "water_xyz = \"\"\"\n",
    "O       0.0000000000     0.0000000000     0.1178336003\n",
    "H      -0.7595754146    -0.0000000000    -0.4713344012\n",
    "H       0.7595754146     0.0000000000    -0.4713344012\n",
    "\"\"\"\n",
    "\n",
    "# Create pyscf mol object\n",
    "mol = gto.Mole()\n",
    "mol.atom = water_xyz\n",
    "mol.basis = \"6-31G\"\n",
    "mol.build()\n",
    "\n",
    "# Perform unrestricted SCF calculation\n",
    "scf_res = scf.UHF(mol)\n",
    "scf_res.kernel()\n",
    "\n",
    "# Copy molecular orbitals\n",
    "mo0 = copy.deepcopy(scf_res.mo_coeff)\n",
    "occ0 = copy.deepcopy(scf_res.mo_occ)\n",
    "\n",
    "# Create 1s core-hole by setting alpha_0 population to zero\n",
    "occ0[0][0] = 0.0\n",
    "\n",
    "# Perform unrestricted SCF calculation with MOM constraint\n",
    "scf_ion = scf.UHF(mol)\n",
    "scf.addons.mom_occ(scf_ion, mo0, occ0)\n",
    "scf_ion.kernel()\n",
    "\n",
    "# Perform ADC calculation\n",
    "adc_xes = adcc.adc2(scf_ion, n_states=4)"
   ]
  },
  {
   "cell_type": "code",
   "execution_count": 6,
   "id": "379c95f0",
   "metadata": {},
   "outputs": [
    {
     "name": "stdout",
     "output_type": "stream",
     "text": [
      "+--------------------------------------------------------------+\n",
      "| adc2                                        any ,  converged |\n",
      "+--------------------------------------------------------------+\n",
      "|  #        excitation energy     osc str    |v1|^2    |v2|^2  |\n",
      "|          (au)           (eV)                                 |\n",
      "|  0      -19.4443     -529.1063   0.0568    0.9548    0.0452  |\n",
      "|  1     -19.36693      -527.001   0.0458    0.9503   0.04966  |\n",
      "|  2     -19.16832     -521.5965   0.0419    0.9376   0.06245  |\n",
      "|  3     -18.57955     -505.5753   0.0031    0.9335   0.06655  |\n",
      "+--------------------------------------------------------------+\n",
      "\n"
     ]
    },
    {
     "data": {
      "image/png": "[encoded data removed]",
      "text/plain": [
       "<Figure size 600x500 with 1 Axes>"
      ]
     },
     "metadata": {},
     "output_type": "display_data"
    }
   ],
   "source": [
    "# Print information on eigenstates\n",
    "print(adc_xes.describe())\n",
    "\n",
    "plt.figure(figsize=(6, 5))\n",
    "# Convolute using functionalities available in gator and adcc\n",
    "adc_xes.plot_spectrum()\n",
    "plt.show()"
   ]
  },
  {
   "cell_type": "markdown",
   "id": "abc7bc72",
   "metadata": {},
   "source": [
    "\n",
    "### Ground state MOs\n",
    "\n",
    "To be added, using the approach [here](sec:xray_calc_xesmos)."
   ]
  }
 ],
 "metadata": {
  "celltoolbar": "Tags",
  "kernelspec": {
   "display_name": "Python 3 (ipykernel)",
   "language": "python",
   "name": "python3"
  },
  "language_info": {
   "codemirror_mode": {
    "name": "ipython",
    "version": 3
   },
   "file_extension": ".py",
   "mimetype": "text/x-python",
   "name": "python",
   "nbconvert_exporter": "python",
   "pygments_lexer": "ipython3",
   "version": "3.9.14"
  }
 },
 "nbformat": 4,
 "nbformat_minor": 5
}
