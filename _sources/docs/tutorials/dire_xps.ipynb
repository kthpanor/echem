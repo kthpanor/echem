{
 "cells": [
  {
   "attachments": {},
   "cell_type": "markdown",
   "id": "f85c19f9-c7b2-4d0f-928d-cf51112c10e0",
   "metadata": {
    "editable": true,
    "slideshow": {
     "slide_type": ""
    },
    "tags": []
   },
   "source": [
    "# Core-hole localization\n",
    "A special aspect of X-ray spectroscopy calculations which involve an explicit core-hole, e.g. X-ray photoelectron spectroscopy (XPS) or X-ray emission spectroscopy (XES), is the delocalization-induced relaxation error (DIRE) {cite}`dire2022`. DIRE affects symmetric molecules where care must be taken to localize the core-hole, especially when HF or DFT theory levels are used. Below follows an illustration of DIRE in the case of the ethylene molecule. We will calculate the ionization energy of the C 1s core orbitals. The ionization energy is calculated as:\n",
    "\n",
    "$$\n",
    "\\textrm{IE} = E_\\textrm{FCH} - E_\\textrm{GS}\n",
    "$$\n",
    "\n",
    "We will have to perform a ground state calculation, as well as a calculation with a full core-hole (FCH) on the C 1s orbital. The FCH is obtained using the [maximum overlap method (MOM)](sec:xray_mom). One option to localize the core-hole is to replace the 1s electrons of the non-core-ionized C atom with an effective core potential (ECP). Another option is to very slightly distort the molecule, which is the approach adopted here."
   ]
  },
  {
   "cell_type": "code",
   "execution_count": 11,
   "id": "5231e658-2064-4ee5-9d7b-e3ba90314fcc",
   "metadata": {
    "editable": true,
    "slideshow": {
     "slide_type": ""
    },
    "tags": [
     "remove-cell"
    ]
   },
   "outputs": [],
   "source": [
    "import veloxchem as vlx\n",
    "from veloxchem.veloxchemlib import hartree_in_ev\n",
    "import py3Dmol as p3d\n",
    "from matplotlib import pyplot as plt\n",
    "import numpy as np\n",
    "import copy\n",
    "import k3d\n",
    "\n",
    "import MolecGeom as geom"
   ]
  },
  {
   "cell_type": "code",
   "execution_count": 8,
   "id": "305bcffd-5f7c-4930-af29-db56ac9ab148",
   "metadata": {
    "editable": true,
    "slideshow": {
     "slide_type": ""
    },
    "tags": [
     "remove-cell"
    ]
   },
   "outputs": [],
   "source": [
    "def lorentzian(x, y, xmin, xmax, xstep, gamma):\n",
    "    \"\"\"\n",
    "    Lorentzian broadening function\n",
    "\n",
    "    Call: xi,yi = lorentzian(energies, intensities, start energy,\n",
    "                                    end energy, energy step, gamma)\n",
    "    \"\"\"\n",
    "    xi = np.arange(xmin, xmax, xstep)\n",
    "    yi = np.zeros(len(xi))\n",
    "    for i in range(len(xi)):\n",
    "        for k in range(len(x)):\n",
    "            yi[i] = (\n",
    "                yi[i]\n",
    "                + y[k] * gamma / ((xi[i] - x[k]) ** 2 + (gamma / 2.0) ** 2) / np.pi\n",
    "            )\n",
    "    return xi, yi\n",
    "\n",
    "def plot_orbital(molecule, basis, scf_drv, orbital_index=0):\n",
    "    \"\"\" Uses the OrbitalViewer class to plot one orbital.\n",
    "\n",
    "        :param molecule: the molecule.\n",
    "        :param basis: the basis set.\n",
    "        :param scf_drv: the SCF driver.\n",
    "        :param orbital_index: the index of the orbital.\n",
    "    \"\"\"\n",
    "    orb_viewer = vlx.OrbitalViewer()\n",
    "\n",
    "    mo_object = scf_drv.mol_orbs\n",
    "    orb_viewer._is_uhf = False\n",
    "    orb_viewer._mo_coefs = mo_object.alpha_to_numpy()\n",
    "\n",
    "    orb_viewer.initialize(molecule, basis)\n",
    "\n",
    "    orb_viewer._this_plot = k3d.plot(grid_visible=False)\n",
    "    plt_atoms, plt_bonds = orb_viewer.draw_molecule(molecule)\n",
    "    orb_viewer._this_plot += plt_atoms\n",
    "    for bonds in plt_bonds:\n",
    "        orb_viewer._this_plot += bonds\n",
    "\n",
    "    orbital = orb_viewer.compute_orbital(orb_viewer._mo_coefs, orbital_index)\n",
    "    orb_viewer._plt_iso_one, orb_viewer._plt_iso_two = orb_viewer.draw_orbital(orbital)\n",
    "    orb_viewer._this_plot += orb_viewer._plt_iso_one\n",
    "    orb_viewer._this_plot += orb_viewer._plt_iso_two\n",
    "    orb_viewer._this_plot.display()"
   ]
  },
  {
   "cell_type": "markdown",
   "id": "4cba1873-c5cf-4a9e-8ef6-bf3b3f971365",
   "metadata": {
    "editable": true,
    "slideshow": {
     "slide_type": ""
    },
    "tags": []
   },
   "source": [
    "##  Step 1 $-$ Define the molecular geometries\n",
    "\n",
    "In the following, we will create two ethylene molecules, one fully symmetric to obtain delocalized C 1s core orbitals and and one with slightly stretched CH bonds at one of the C sites, to obtain localized C 1s core orbitals."
   ]
  },
  {
   "cell_type": "code",
   "execution_count": 33,
   "id": "e4c64cc8-7008-44c7-94cc-ce039eafc491",
   "metadata": {
    "editable": true,
    "scrolled": true,
    "slideshow": {
     "slide_type": ""
    },
    "tags": [
     "remove-output"
    ]
   },
   "outputs": [
    {
     "name": "stdout",
     "output_type": "stream",
     "text": [
      "* Info * Reading basis set from file: /home/emi/miniconda3/envs/echem/lib/python3.11/site-packages/veloxchem/basis/6-311++G_D,P_\n",
      "                                                                                                                          \n",
      "                                              Molecular Basis (Atomic Basis)                                              \n",
      "                                             ================================                                             \n",
      "                                                                                                                          \n",
      "                               Basis: 6-311++G_D,P_                                                                       \n",
      "                                                                                                                          \n",
      "                               Atom Contracted GTOs           Primitive GTOs                                              \n",
      "                                                                                                                          \n",
      "                                H   (4S,1P)                   (6S,1P)                                                     \n",
      "                                C   (5S,4P,1D)                (12S,6P,1D)                                                 \n",
      "                                                                                                                          \n",
      "                               Contracted Basis Functions : 72                                                            \n",
      "                               Primitive Basis Functions  : 106                                                           \n",
      "                                                                                                                          \n"
     ]
    }
   ],
   "source": [
    "deloc_ethylene_xyz = \"\"\"6\n",
    "symmetric ehtylene molecule\n",
    "C   0.666005   0.000000   0.000000\n",
    "C  -0.666005   0.000000   0.000000\n",
    "H   1.227874   0.922836   0.000000\n",
    "H   1.227874  -0.922836   0.000000\n",
    "H  -1.227874   0.922836   0.000000\n",
    "H  -1.227874  -0.922836   0.000000\n",
    "\"\"\"\n",
    "\n",
    "loc_ethylene_xyz = \"\"\"6\n",
    "asymmetric ethylene molecule to localize the C1s orbitals\n",
    "C   0.666005   0.000000   0.000000\n",
    "C  -0.666005   0.000000   0.000000\n",
    "H   1.227874   0.922836   0.000000\n",
    "H   1.227874  -0.922836   0.000000\n",
    "H  -1.2538762  0.965543   0.000000    \n",
    "H  -1.2538762 -0.965543   0.000000   \n",
    "\"\"\"\n",
    "\n",
    "basis_set_label = \"6-311++G_D,P_\" #\"DEF2-TZVPPD\" #\"TAUG-CC-PCVDZ\" #\n",
    "\n",
    "deloc_ethylene = vlx.Molecule.from_xyz_string(deloc_ethylene_xyz)\n",
    "loc_ethylene = vlx.Molecule.from_xyz_string(loc_ethylene_xyz)\n",
    "\n",
    "basis = vlx.MolecularBasis.read(loc_ethylene, basis_set_label)"
   ]
  },
  {
   "cell_type": "code",
   "execution_count": 37,
   "id": "e4b19f05-5327-4438-a8d9-a7f101059050",
   "metadata": {
    "editable": true,
    "slideshow": {
     "slide_type": ""
    },
    "tags": [
     "remove-cell"
    ]
   },
   "outputs": [
    {
     "name": "stdout",
     "output_type": "stream",
     "text": [
      "   (a) Symmetric ethylene            (b) Ethylene CH bonds on one C stretched by 0.05 Å\n"
     ]
    },
    {
     "data": {
      "application/3dmoljs_load.v0": "<div id=\"3dmolviewer_17261555983375783\"  style=\"position: relative; width: 600px; height: 250px;\">\n        <p id=\"3dmolwarning_17261555983375783\" style=\"background-color:#ffcccc;color:black\">3Dmol.js failed to load for some reason.  Please check your browser console for error messages.<br></p>\n        </div>\n<script>\n\nvar loadScriptAsync = function(uri){\n  return new Promise((resolve, reject) => {\n    //this is to ignore the existence of requirejs amd\n    var savedexports, savedmodule;\n    if (typeof exports !== 'undefined') savedexports = exports;\n    else exports = {}\n    if (typeof module !== 'undefined') savedmodule = module;\n    else module = {}\n\n    var tag = document.createElement('script');\n    tag.src = uri;\n    tag.async = true;\n    tag.onload = () => {\n        exports = savedexports;\n        module = savedmodule;\n        resolve();\n    };\n  var firstScriptTag = document.getElementsByTagName('script')[0];\n  firstScriptTag.parentNode.insertBefore(tag, firstScriptTag);\n});\n};\n\nif(typeof $3Dmolpromise === 'undefined') {\n$3Dmolpromise = null;\n  $3Dmolpromise = loadScriptAsync('https://cdnjs.cloudflare.com/ajax/libs/3Dmol/2.2.1-post1/3Dmol-min.js');\n}\n\nvar viewer_17261555983375783 = null;\nvar warn = document.getElementById(\"3dmolwarning_17261555983375783\");\nif(warn) {\n    warn.parentNode.removeChild(warn);\n}\n$3Dmolpromise.then(function() {\nvar viewergrid_17261555983375783 = null;\nviewergrid_17261555983375783 = $3Dmol.createViewerGrid(document.getElementById(\"3dmolviewer_17261555983375783\"),{rows: 1, cols: 2, control_all: true},{backgroundColor:\"white\"});\nviewer_17261555983375783 = viewergrid_17261555983375783[0][0];\nviewergrid_17261555983375783[0][0].zoomTo();viewergrid_17261555983375783[0][1].zoomTo();\tviewergrid_17261555983375783[0][0].addModel(\"6\\nsymmetric ehtylene molecule\\nC   0.666005   0.000000   0.000000\\nC  -0.666005   0.000000   0.000000\\nH   1.227874   0.922836   0.000000\\nH   1.227874  -0.922836   0.000000\\nH  -1.227874   0.922836   0.000000\\nH  -1.227874  -0.922836   0.000000\\n\",\"xyz\");\n\tviewergrid_17261555983375783[0][1].addModel(\"6\\nasymmetric ethylene molecule to localize the C1s orbitals\\nC   0.666005   0.000000   0.000000\\nC  -0.666005   0.000000   0.000000\\nH   1.227874   0.922836   0.000000\\nH   1.227874  -0.922836   0.000000\\nH  -1.2538762  0.965543   0.000000    \\nH  -1.2538762 -0.965543   0.000000   \\n\",\"xyz\");\n\tviewergrid_17261555983375783[0][0].setViewStyle({\"style\": \"outline\", \"width\": 0.05});\n\tviewergrid_17261555983375783[0][1].setViewStyle({\"style\": \"outline\", \"width\": 0.05});\n\tviewergrid_17261555983375783[0][0].setStyle({\"stick\": {}, \"sphere\": {\"scale\": 0.25}});\n\tviewergrid_17261555983375783[0][1].setStyle({\"stick\": {}, \"sphere\": {\"scale\": 0.25}});\n\tviewergrid_17261555983375783[0][0].zoomTo();\n\tviewergrid_17261555983375783[0][1].zoomTo();\nviewergrid_17261555983375783[0][1].render();\nviewergrid_17261555983375783[0][0].render();\n});\n</script>",
      "text/html": [
       "<div id=\"3dmolviewer_17261555983375783\"  style=\"position: relative; width: 600px; height: 250px;\">\n",
       "        <p id=\"3dmolwarning_17261555983375783\" style=\"background-color:#ffcccc;color:black\">3Dmol.js failed to load for some reason.  Please check your browser console for error messages.<br></p>\n",
       "        </div>\n",
       "<script>\n",
       "\n",
       "var loadScriptAsync = function(uri){\n",
       "  return new Promise((resolve, reject) => {\n",
       "    //this is to ignore the existence of requirejs amd\n",
       "    var savedexports, savedmodule;\n",
       "    if (typeof exports !== 'undefined') savedexports = exports;\n",
       "    else exports = {}\n",
       "    if (typeof module !== 'undefined') savedmodule = module;\n",
       "    else module = {}\n",
       "\n",
       "    var tag = document.createElement('script');\n",
       "    tag.src = uri;\n",
       "    tag.async = true;\n",
       "    tag.onload = () => {\n",
       "        exports = savedexports;\n",
       "        module = savedmodule;\n",
       "        resolve();\n",
       "    };\n",
       "  var firstScriptTag = document.getElementsByTagName('script')[0];\n",
       "  firstScriptTag.parentNode.insertBefore(tag, firstScriptTag);\n",
       "});\n",
       "};\n",
       "\n",
       "if(typeof $3Dmolpromise === 'undefined') {\n",
       "$3Dmolpromise = null;\n",
       "  $3Dmolpromise = loadScriptAsync('https://cdnjs.cloudflare.com/ajax/libs/3Dmol/2.2.1-post1/3Dmol-min.js');\n",
       "}\n",
       "\n",
       "var viewer_17261555983375783 = null;\n",
       "var warn = document.getElementById(\"3dmolwarning_17261555983375783\");\n",
       "if(warn) {\n",
       "    warn.parentNode.removeChild(warn);\n",
       "}\n",
       "$3Dmolpromise.then(function() {\n",
       "var viewergrid_17261555983375783 = null;\n",
       "viewergrid_17261555983375783 = $3Dmol.createViewerGrid(document.getElementById(\"3dmolviewer_17261555983375783\"),{rows: 1, cols: 2, control_all: true},{backgroundColor:\"white\"});\n",
       "viewer_17261555983375783 = viewergrid_17261555983375783[0][0];\n",
       "viewergrid_17261555983375783[0][0].zoomTo();viewergrid_17261555983375783[0][1].zoomTo();\tviewergrid_17261555983375783[0][0].addModel(\"6\\nsymmetric ehtylene molecule\\nC   0.666005   0.000000   0.000000\\nC  -0.666005   0.000000   0.000000\\nH   1.227874   0.922836   0.000000\\nH   1.227874  -0.922836   0.000000\\nH  -1.227874   0.922836   0.000000\\nH  -1.227874  -0.922836   0.000000\\n\",\"xyz\");\n",
       "\tviewergrid_17261555983375783[0][1].addModel(\"6\\nasymmetric ethylene molecule to localize the C1s orbitals\\nC   0.666005   0.000000   0.000000\\nC  -0.666005   0.000000   0.000000\\nH   1.227874   0.922836   0.000000\\nH   1.227874  -0.922836   0.000000\\nH  -1.2538762  0.965543   0.000000    \\nH  -1.2538762 -0.965543   0.000000   \\n\",\"xyz\");\n",
       "\tviewergrid_17261555983375783[0][0].setViewStyle({\"style\": \"outline\", \"width\": 0.05});\n",
       "\tviewergrid_17261555983375783[0][1].setViewStyle({\"style\": \"outline\", \"width\": 0.05});\n",
       "\tviewergrid_17261555983375783[0][0].setStyle({\"stick\": {}, \"sphere\": {\"scale\": 0.25}});\n",
       "\tviewergrid_17261555983375783[0][1].setStyle({\"stick\": {}, \"sphere\": {\"scale\": 0.25}});\n",
       "\tviewergrid_17261555983375783[0][0].zoomTo();\n",
       "\tviewergrid_17261555983375783[0][1].zoomTo();\n",
       "viewergrid_17261555983375783[0][1].render();\n",
       "viewergrid_17261555983375783[0][0].render();\n",
       "});\n",
       "</script>"
      ]
     },
     "metadata": {},
     "output_type": "display_data"
    }
   ],
   "source": [
    "viewer = p3d.view(viewergrid=(1, 2), width=600, height=250, linked=True)\n",
    "print(\"   (a) Symmetric ethylene            (b) Ethylene CH bonds on one C stretched by 0.05 Å\")\n",
    "viewer.addModel(deloc_ethylene_xyz, \"xyz\", viewer=(0, 0))\n",
    "viewer.addModel(loc_ethylene_xyz, \"xyz\", viewer=(0, 1))\n",
    "viewer.setViewStyle({\"style\": \"outline\", \"width\": 0.05})\n",
    "viewer.setStyle({\"stick\": {}, \"sphere\": {\"scale\": 0.25}})\n",
    "viewer.zoomTo()\n",
    "viewer.show()"
   ]
  },
  {
   "cell_type": "markdown",
   "id": "943483be-49c9-4911-ba39-ed6611eb1a29",
   "metadata": {
    "editable": true,
    "slideshow": {
     "slide_type": ""
    },
    "tags": []
   },
   "source": [
    "## Step 2 $-$ determine the ground state energy"
   ]
  },
  {
   "cell_type": "code",
   "execution_count": 38,
   "id": "e08f7942-cee5-4e68-8a16-eedb90a8d2dd",
   "metadata": {
    "editable": true,
    "scrolled": true,
    "slideshow": {
     "slide_type": ""
    },
    "tags": [
     "remove-output"
    ]
   },
   "outputs": [],
   "source": [
    "deloc_scf_drv = vlx.ScfRestrictedDriver()\n",
    "deloc_scf_drv.ostream.mute()\n",
    "deloc_scf_results = deloc_scf_drv.compute(deloc_ethylene, basis)"
   ]
  },
  {
   "cell_type": "code",
   "execution_count": 39,
   "id": "3a0d7a93-b525-4160-ae89-5a121472d9c1",
   "metadata": {
    "editable": true,
    "scrolled": true,
    "slideshow": {
     "slide_type": ""
    },
    "tags": [
     "remove-output"
    ]
   },
   "outputs": [],
   "source": [
    "loc_scf_drv = vlx.ScfRestrictedDriver()\n",
    "loc_scf_drv.ostream.mute()\n",
    "loc_scf_results = loc_scf_drv.compute(loc_ethylene, basis)"
   ]
  },
  {
   "cell_type": "code",
   "execution_count": 40,
   "id": "6a94761c-dbe3-496d-8c1d-37798e44454c",
   "metadata": {
    "editable": true,
    "slideshow": {
     "slide_type": ""
    },
    "tags": []
   },
   "outputs": [
    {
     "data": {
      "application/vnd.jupyter.widget-view+json": {
       "model_id": "56e3b70221bb47aabadc960cf0168412",
       "version_major": 2,
       "version_minor": 0
      },
      "text/plain": [
       "Output()"
      ]
     },
     "metadata": {},
     "output_type": "display_data"
    }
   ],
   "source": [
    "plot_orbital(deloc_ethylene, basis, deloc_scf_drv, orbital_index=0)"
   ]
  },
  {
   "cell_type": "code",
   "execution_count": 41,
   "id": "6316f810-2840-4cd6-9620-b6dcf62f2f52",
   "metadata": {
    "editable": true,
    "slideshow": {
     "slide_type": ""
    },
    "tags": []
   },
   "outputs": [
    {
     "data": {
      "application/vnd.jupyter.widget-view+json": {
       "model_id": "aaee67f948bc4fd5990aea9dc6dd7629",
       "version_major": 2,
       "version_minor": 0
      },
      "text/plain": [
       "Output()"
      ]
     },
     "metadata": {},
     "output_type": "display_data"
    }
   ],
   "source": [
    "plot_orbital(loc_ethylene, basis, loc_scf_drv, orbital_index=0)"
   ]
  },
  {
   "cell_type": "markdown",
   "id": "e217574e-0a8b-4520-a7da-6c6769d49a89",
   "metadata": {
    "editable": true,
    "slideshow": {
     "slide_type": ""
    },
    "tags": []
   },
   "source": [
    "## Step 3 $-$ determine the core-ionized state energy"
   ]
  },
  {
   "cell_type": "code",
   "execution_count": 42,
   "id": "d1ac7715-20ef-4129-8f53-ef1b72016abf",
   "metadata": {
    "editable": true,
    "scrolled": true,
    "slideshow": {
     "slide_type": ""
    },
    "tags": []
   },
   "outputs": [],
   "source": [
    "def compute_fch_energy(molecule, basis, scf_drv):\n",
    "    fch_molecule = copy.deepcopy(molecule)\n",
    "    fch_molecule.set_charge(1)\n",
    "    fch_molecule.set_multiplicity(2)\n",
    "\n",
    "    # Lists of occupied alpha and beta MOs\n",
    "    occ_alpha = [0, 1, 2, 3, 4, 5, 6, 7]\n",
    "    occ_beta  = [1, 2, 3, 4, 5, 6, 7]\n",
    "\n",
    "    # Calculate SCF of the core-ionized system using the maximum overlap method\n",
    "    scfdrv_fch = vlx.ScfUnrestrictedDriver()\n",
    "    scfdrv_fch.ostream.mute()\n",
    "    scfdrv_fch.maximum_overlap(fch_molecule, basis, scf_drv.mol_orbs,\n",
    "                               occ_alpha, occ_beta)\n",
    "    scf_results = scfdrv_fch.compute(fch_molecule, basis)\n",
    "\n",
    "    return scfdrv_fch.get_scf_energy()"
   ]
  },
  {
   "cell_type": "markdown",
   "id": "09b90f98-c2f1-43ce-af95-ec8cf0f27e44",
   "metadata": {
    "editable": true,
    "slideshow": {
     "slide_type": ""
    },
    "tags": []
   },
   "source": [
    "$$\n",
    "\\textrm{IE} = E_\\textrm{FCH} - E_\\textrm{GS}\n",
    "$$"
   ]
  },
  {
   "cell_type": "code",
   "execution_count": 43,
   "id": "b536faef-89c7-49f0-8a48-5bc4ee9b4ad3",
   "metadata": {
    "editable": true,
    "scrolled": true,
    "slideshow": {
     "slide_type": ""
    },
    "tags": []
   },
   "outputs": [],
   "source": [
    "deloc_fch_energy = compute_fch_energy(deloc_ethylene, basis, deloc_scf_drv)\n",
    "deloc_gs_energy = deloc_scf_drv.get_scf_energy()\n",
    "deloc_hf_ie = (deloc_fch_energy - deloc_gs_energy) * hartree_in_ev()\n",
    "\n",
    "# Add a Lorentzian broadening\n",
    "deloc_x, deloc_y = lorentzian(np.array([deloc_hf_ie]), np.array([1]), \n",
    "                              deloc_hf_ie - 5, deloc_hf_ie + 5, 0.01, 0.7)"
   ]
  },
  {
   "cell_type": "code",
   "execution_count": 44,
   "id": "69158050-c375-45ef-8f73-2d5a71ba99b1",
   "metadata": {
    "editable": true,
    "slideshow": {
     "slide_type": ""
    },
    "tags": []
   },
   "outputs": [],
   "source": [
    "loc_fch_energy = compute_fch_energy(loc_ethylene, basis, loc_scf_drv)\n",
    "loc_gs_energy = loc_scf_drv.get_scf_energy()\n",
    "loc_hf_ie = (loc_fch_energy - loc_gs_energy) * hartree_in_ev()\n",
    "\n",
    "loc_x, loc_y = lorentzian(np.array([loc_hf_ie]), np.array([1]), \n",
    "                          loc_hf_ie - 5, loc_hf_ie + 5, 0.01, 0.7)"
   ]
  },
  {
   "cell_type": "markdown",
   "id": "7c604161-5f3e-4589-b728-d6dafb3fb590",
   "metadata": {
    "editable": true,
    "slideshow": {
     "slide_type": ""
    },
    "tags": []
   },
   "source": [
    "Now that we have calculated the ionization energies for both the localized and delocalized CH, let us plot the results. The dotted line marks the measured ionization energy {cite}`xpsethylene2011`."
   ]
  },
  {
   "cell_type": "code",
   "execution_count": 47,
   "id": "2b49a488-079a-456f-b3c8-3429e903785b",
   "metadata": {
    "editable": true,
    "slideshow": {
     "slide_type": ""
    },
    "tags": []
   },
   "outputs": [
    {
     "data": {
      "image/png": "[encoded data removed]",
      "text/plain": [
       "<Figure size 700x400 with 1 Axes>"
      ]
     },
     "metadata": {},
     "output_type": "display_data"
    }
   ],
   "source": [
    "plt.figure(figsize=(7, 4))\n",
    "\n",
    "plt.bar(deloc_hf_ie, 1.0, color=\"darkred\", width=0.1)\n",
    "plt.bar(loc_hf_ie, 1.0, color=\"navy\", width=0.1)\n",
    "plt.plot(deloc_x, deloc_y, color=\"darkred\", label=\"deloc. CH\", linewidth=2.5)\n",
    "plt.plot(loc_x, loc_y, color=\"navy\", label=\"loc. CH\", linewidth=2.5)\n",
    "\n",
    "plt.xlabel(\"Core-ionization energy (eV)\")\n",
    "plt.ylabel(\"Intensity (arb. units)\")\n",
    "plt.title(\"Ethylene, HF/6-311++G(d,p)\")\n",
    "\n",
    "plt.axvline(290.7, linestyle=\"--\", color=\"gray\", label=\"exp.\")\n",
    "plt.axis(xmin=287.5, xmax=300.5, ymin=-0.1, ymax=4.0)\n",
    "\n",
    "plt.xticks([288, 290, 292, 294, 296, 298, 300])\n",
    "plt.yticks([0])\n",
    "\n",
    "plt.legend()\n",
    "plt.show()"
   ]
  },
  {
   "cell_type": "code",
   "execution_count": 48,
   "id": "221390e9-394f-413a-937c-9794265cd53b",
   "metadata": {
    "editable": true,
    "slideshow": {
     "slide_type": ""
    },
    "tags": [
     "hide-input"
    ]
   },
   "outputs": [
    {
     "name": "stdout",
     "output_type": "stream",
     "text": [
      "DIRE, HF XPS: 7.51 eV\n"
     ]
    }
   ],
   "source": [
    "print(\"DIRE, HF XPS: %.2f eV\" % (deloc_hf_ie - loc_hf_ie) )"
   ]
  }
 ],
 "metadata": {
  "kernelspec": {
   "display_name": "Python 3 (ipykernel)",
   "language": "python",
   "name": "python3"
  },
  "language_info": {
   "codemirror_mode": {
    "name": "ipython",
    "version": 3
   },
   "file_extension": ".py",
   "mimetype": "text/x-python",
   "name": "python",
   "nbconvert_exporter": "python",
   "pygments_lexer": "ipython3",
   "version": "3.11.9"
  }
 },
 "nbformat": 4,
 "nbformat_minor": 5
}
