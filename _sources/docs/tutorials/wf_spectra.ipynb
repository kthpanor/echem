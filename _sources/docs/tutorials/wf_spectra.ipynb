{
 "cells": [
  {
   "cell_type": "markdown",
   "id": "ff8a63c1-317c-4890-a059-85f7e2c9f1e6",
   "metadata": {
    "editable": true,
    "slideshow": {
     "slide_type": ""
    },
    "tags": []
   },
   "source": [
    "# From structure to spectrum\n",
    "\n",
    "```{figure} ../../img/tutorials/wf_spectra.png\n",
    "---\n",
    "scale: 50%\n",
    "---\n",
    "```"
   ]
  },
  {
   "cell_type": "markdown",
   "id": "ef2f7b76-2246-4061-8efa-3eccb0e08099",
   "metadata": {
    "editable": true,
    "slideshow": {
     "slide_type": ""
    },
    "tags": [
     "remove-cell"
    ]
   },
   "source": [
    "\n",
    "\n",
    "- Build molecule\n",
    "    - xyz-coordinates\n",
    "    - SMILES string -> optimize -> visualize\n",
    "- SCF\n",
    "    - method, basis, ...\n",
    "    - Visualize MOs, energies, ...\n",
    "- Property calculation\n",
    "    - UV/vis\n",
    "    - XAS\n",
    "        - CVS\n",
    "    - Vibrations, XES, ...\n",
    "    - (Semi)automated number of states\n",
    "        - energy interval\n",
    "        - percentage of #virtual\n",
    "- Analysis\n",
    "    - Print E, I, main amplitudes, ...\n",
    "    - Plot spectrum\n",
    "    - NTOs\n",
    "\n",
    "Construct workflow such that it can (in principle) be looped over. Example: compare SMILES to xyz."
   ]
  },
  {
   "cell_type": "code",
   "execution_count": null,
   "id": "ab7c6705-f15f-4d9d-b404-44587db26bbb",
   "metadata": {},
   "outputs": [],
   "source": []
  }
 ],
 "metadata": {
  "celltoolbar": "Tags",
  "kernelspec": {
   "display_name": "Python 3 (ipykernel)",
   "language": "python",
   "name": "python3"
  },
  "language_info": {
   "codemirror_mode": {
    "name": "ipython",
    "version": 3
   },
   "file_extension": ".py",
   "mimetype": "text/x-python",
   "name": "python",
   "nbconvert_exporter": "python",
   "pygments_lexer": "ipython3",
   "version": "3.10.12"
  }
 },
 "nbformat": 4,
 "nbformat_minor": 5
}
