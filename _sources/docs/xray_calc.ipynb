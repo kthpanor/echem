{
 "cells": [
  {
   "cell_type": "markdown",
   "metadata": {},
   "source": [
    "# Spectrum calculation\n",
    "\n",
    "This section focus on the calculation of XPS, XAS, XES, and RIXS, with focus on considering these spectroscopies with ADC and TDDFT. For a more general overview of the large number of methods available for considering these properties, see, *e.g.*, {cite}`xrayrev2018`.\n",
    "\n",
    "*Loading modules and functions:*"
   ]
  },
  {
   "cell_type": "code",
   "execution_count": 1,
   "metadata": {
    "tags": [
     "remove-output",
     "hide-input"
    ]
   },
   "outputs": [
    {
     "name": "stderr",
     "output_type": "stream",
     "text": [
      "Warning: importing 'simtk.openmm' is deprecated.  Import 'openmm' instead.\n"
     ]
    },
    {
     "name": "stdout",
     "output_type": "stream",
     "text": [
      "* Warning * Environment variable OMP_NUM_THREADS not set.\n",
      "* Warning * Setting OMP_NUM_THREADS to 4.\n"
     ]
    }
   ],
   "source": [
    "# standard Python modules and functions\n",
    "from scipy.interpolate import interp1d\n",
    "from matplotlib import gridspec\n",
    "import matplotlib.pyplot as plt\n",
    "import numpy as np\n",
    "import copy\n",
    "\n",
    "# QC software suites and functionalities\n",
    "from pyscf import gto, scf, mp, cc\n",
    "import veloxchem as vlx\n",
    "import gator\n",
    "import adcc\n",
    "from veloxchem.rsplinabscross import LinearAbsorptionCrossSection\n",
    "\n",
    "# for vlx\n",
    "silent_ostream = vlx.OutputStream(None)\n",
    "from mpi4py import MPI\n",
    "comm = MPI.COMM_WORLD\n",
    "\n",
    "# au to eV conversion factor\n",
    "au2ev = 27.211386\n",
    "\n",
    "def lorentzian(x, y, xmin, xmax, xstep, gamma):\n",
    "    '''\n",
    "    Lorentzian broadening function\n",
    "    \n",
    "    Call: xi,yi = lorentzian(energies, intensities, start energy, end energy, energy step, gamma)\n",
    "    '''\n",
    "    xi = np.arange(xmin,xmax,xstep); yi=np.zeros(len(xi))\n",
    "    for i in range(len(xi)):\n",
    "        for k in range(len(x)):\n",
    "            yi[i] = yi[i] + y[k] * gamma / ( (xi[i]-x[k])**2 + (gamma/2.)**2 ) / np.pi\n",
    "    return xi,yi\n",
    "\n",
    "def gaussian(x, y, xmin, xmax, xstep, sigma):\n",
    "    '''\n",
    "    Gaussian broadening function\n",
    "    \n",
    "    Call: xi,yi = gaussian(energies, intensities, start energy, end energy, energy step, gamma)\n",
    "    '''\n",
    "    xi = np.arange(xmin,xmax,xstep); yi=np.zeros(len(xi))\n",
    "    for i in range(len(xi)): \n",
    "        for k in range(len(y)): yi[i] = yi[i] + y[k]*np.e**(-((xi[i]-x[k])**2)/(2*sigma**2))\n",
    "    return xi,yi\n"
   ]
  },
  {
   "cell_type": "markdown",
   "metadata": {},
   "source": [
    "(sec:xray_calc_xps)=\n",
    "## X-ray photoemission spectroscopy\n",
    "\n",
    "In XPS the photoemission of electrons is measured, yielding information on core-electron binding energies. Here we focus on the calculation of ionization energies (IE:s), from which the isotropic photoemission spectrum is formed by giving each IE the same intensity and then broadening with an appropriate convolution function. It is possible to go beyond such a simple approach using Dyson orbitals, but it typically does not make much of a difference {cite}`ccsdDyson2019`. \n",
    "\n",
    "\n",
    "(sec:xray_calc_iekoop)=\n",
    "### IE:s from Koopmans' theorem\n",
    "\n",
    "A simple model for calculating ionization energies and electron affinities is by using Koopmans' theorem, where they are estimated from the MO energies. For water, we then obtain a $1s$ IE of:"
   ]
  },
  {
   "cell_type": "code",
   "execution_count": 5,
   "metadata": {},
   "outputs": [
    {
     "name": "stdout",
     "output_type": "stream",
     "text": [
      "1s E from Koopmans' theorem: -559.5 eV\n"
     ]
    }
   ],
   "source": [
    "water_xyz = \"\"\"\n",
    "O       0.0000000000     0.0000000000     0.1178336003\n",
    "H      -0.7595754146    -0.0000000000    -0.4713344012\n",
    "H       0.7595754146     0.0000000000    -0.4713344012\n",
    "\"\"\"\n",
    "\n",
    "# Create veloxchem mol and basis objects\n",
    "mol_vlx = vlx.Molecule.read_str(water_xyz) \n",
    "bas_vlx = vlx.MolecularBasis.read(mol_vlx, '6-31G') \n",
    "\n",
    "# Perform SCF calculation\n",
    "scf_gs = vlx.ScfRestrictedDriver(comm, ostream=silent_ostream)\n",
    "scf_gs.compute(mol_vlx, bas_vlx)\n",
    "\n",
    "# Extract orbital energies\n",
    "orbital_energies = scf_gs.scf_tensors['E']\n",
    "print('1s E from Koopmans\\' theorem:',np.around(au2ev*orbital_energies[0],2),'eV')"
   ]
  },
  {
   "cell_type": "markdown",
   "metadata": {},
   "source": [
    "This can be compared to the experimental value, which is 539.9 eV. The overestimation of almost 20 eV is due to lack of [relaxation](sec:xray_topics_relax), which results from the reorganization of the valence electrons in response to a reduction in screening of the nuclei. By comparison, in valence spectroscopies the change in shielding is significantly smaller, yielding far smaller errors due to the lack of relaxation.\n",
    "\n",
    "An approach for including relaxation effects IE calculations is to instead use the $\\Delta\\textrm{SCF}$ approach, in which the difference in total energy between the neutral and explicitly optimized core-hole states yields estimates of core-electron binding energies.\n",
    "\n",
    "\n",
    "### The maximum overlap method\n",
    "\n",
    "In order to converge a core-hole state, an approach which avoid the convergence to a lower-energy valence-hole state is needed. This can be done using several approaches, but the focus here will be on the maximum overlap method (MOM), with which a SCF optimization with the constraint of maximizing the overlap to some initial guess {cite}`mom1961, mom1967, mom1971, maxover2008`. The guess is typically taken as the converged wave function of the neutral (no core-hole) system, and new occupied orbitals at each iteration is chose such that they overlap most with the span of old occupied orbitals. Defining the overlap matrix as\n",
    "\n",
    "$$\n",
    "\\textbf{O} = \n",
    "\\left( \\textbf{C}^{\\textrm{old}} \\right)^{\\dagger} \\textbf{SC}^{\\textrm{new}},\n",
    "$$\n",
    "\n",
    "with $O_{ij}$ being the overlap between the $i$:th old and $j$:th new orbital, and $\\textbf{C}$ and $\\textbf{S}$ are the MO coefficient matrices and basis function overlap matrix, respectively. The projections of the $j$:th new orbital onto the old space is\n",
    "\n",
    "$$\n",
    "p_j = \\sum_i^n O_{ij} = \n",
    "\\sum_a^N (\n",
    "\\sum_b^N (\n",
    "\\sum_i^n C_{ib}^{old} )\n",
    "S_{bc} )\n",
    "C_{cj}^{old}.\n",
    "$$\n",
    "\n",
    "The occupied orbitals are then selected by largest $p_j$ values.\n",
    "\n",
    "With this, a converged core-hole wave-function is obtained with the following scheme:\n",
    "\n",
    "1. Calculate the wave-function of the original system (*e.g.* no core-hole).\n",
    "\n",
    "2. Use this as a starting guess for a new wave-function optimization, removing an electron from desired orbital (and potentially occupying some other virtual orbital).\n",
    "\n",
    "3. Optimizing this state using the MOM restriction.\n",
    "\n",
    "Thisscheme can consider many unstable states, including core-ionized and certain core-excited states. Some care should observed, though:\n",
    "\n",
    "- If excited states are considered, check that the final state is reasonable close to what is to be investigated.\n",
    "\n",
    "- [Delocalized core orbitals](sec:xray_topics_chloc) need to be localized, for example by employing ECP:s.\n",
    "\n",
    "- If post-HF methods are used, the ground state calculation can attempt to (partially) fill the core-hole of the [non-*Aufbau* reference state](sec:xray_topics_nonaufbau), leading to a corrupt wave-function which represents some intermediate between a core-hole/valence-hole state.\n",
    "\n",
    "```{note}\n",
    "We currently use `pyscf` for the calculations involving explicit core-holes, as `veloxchem` presently lacks MOM.\n",
    "```\n",
    "\n",
    "### IE:s from $\\Delta\\textrm{SCF}$\n",
    "\n",
    "The IE of water using $\\Delta\\textrm{SCF}$ is now computed as:"
   ]
  },
  {
   "cell_type": "code",
   "execution_count": 6,
   "metadata": {},
   "outputs": [
    {
     "name": "stdout",
     "output_type": "stream",
     "text": [
      "converged SCF energy = -75.9838703827192  <S^2> = 6.3344885e-12  2S+1 = 1\n"
     ]
    },
    {
     "name": "stderr",
     "output_type": "stream",
     "text": [
      "Overwritten attributes  get_occ  of <class 'pyscf.scf.uhf.UHF'>\n"
     ]
    },
    {
     "name": "stdout",
     "output_type": "stream",
     "text": [
      "converged SCF energy = -56.0754789470865  <S^2> = 0.76257805  2S+1 = 2.0125387\n",
      "Ionization energy: 541.73 eV\n"
     ]
    }
   ],
   "source": [
    "# Create pyscf mol object\n",
    "mol = gto.Mole()\n",
    "mol.atom = water_xyz\n",
    "mol.basis = '6-31G'\n",
    "mol.build()\n",
    "\n",
    "# Perform unrestricted SCF calculation\n",
    "scf_gs = scf.UHF(mol)\n",
    "scf_gs.kernel()\n",
    "\n",
    "# Copy molecular orbitals and occupations\n",
    "mo0 = copy.deepcopy(scf_gs.mo_coeff)\n",
    "occ0 = copy.deepcopy(scf_gs.mo_occ)\n",
    "\n",
    "# Create 1s core-hole by setting alpha_0 population to zero\n",
    "occ0[0][0] = 0.0\n",
    "    \n",
    "# Perform unrestricted SCF calculation with MOM constraint\n",
    "scf_ion = scf.UHF(mol)\n",
    "scf.addons.mom_occ(scf_ion, mo0, occ0)\n",
    "scf_ion.kernel()\n",
    "\n",
    "# IE from energy difference\n",
    "print('Ionization energy:',np.around(au2ev*(scf_ion.energy_tot() - scf_gs.energy_tot()),2),'eV')"
   ]
  },
  {
   "cell_type": "markdown",
   "metadata": {},
   "source": [
    "This estimate is within 2 eV from experiment, and we can include electron correlation using MP2:"
   ]
  },
  {
   "cell_type": "code",
   "execution_count": 7,
   "metadata": {},
   "outputs": [
    {
     "name": "stdout",
     "output_type": "stream",
     "text": [
      "E(UMP2) = -76.1130483955489  E_corr = -0.129178012829713\n",
      "E(UMP2) = -56.1523709631035  E_corr = -0.0768920160169649\n",
      "Ionization potential: 543.16 eV\n"
     ]
    }
   ],
   "source": [
    "# Run MP2 on neutral and core-hole state\n",
    "mp_res = mp.MP2(scf_gs).run()\n",
    "mp_ion = mp.MP2(scf_ion).run()\n",
    "\n",
    "# IE from energy difference\n",
    "print('Ionization potential:',np.around(au2ev*(mp_ion.e_tot - mp_res.e_tot),2),'eV')"
   ]
  },
  {
   "cell_type": "markdown",
   "metadata": {},
   "source": [
    "Alternatively, we can consider this with KS-DFT:"
   ]
  },
  {
   "cell_type": "code",
   "execution_count": 5,
   "metadata": {},
   "outputs": [
    {
     "name": "stdout",
     "output_type": "stream",
     "text": [
      "converged SCF energy = -76.3480474320839  <S^2> = 2.5503155e-11  2S+1 = 1\n"
     ]
    },
    {
     "name": "stderr",
     "output_type": "stream",
     "text": [
      "Overwritten attributes  get_occ  of <class 'pyscf.dft.uks.UKS'>\n"
     ]
    },
    {
     "name": "stdout",
     "output_type": "stream",
     "text": [
      "converged SCF energy = -56.4125421194362  <S^2> = 0.75441021  2S+1 = 2.0044054\n",
      "Ionization energy: 542.47 eV\n"
     ]
    }
   ],
   "source": [
    "# Perform unrestricted SCF calculation\n",
    "scf_gs = scf.UKS(mol)\n",
    "scf_gs.xc = 'b3lyp'\n",
    "scf_gs.kernel()\n",
    "\n",
    "# Copy molecular orbitals\n",
    "mo0 = copy.deepcopy(scf_gs.mo_coeff)\n",
    "occ0 = copy.deepcopy(scf_gs.mo_occ)\n",
    "\n",
    "# Create 1s core-hole by setting alpha_0 population to zero\n",
    "occ0[0][0] = 0.0\n",
    "    \n",
    "# Perform unrestricted SCF calculation with MOM constraint\n",
    "scf_ion = scf.UKS(mol)\n",
    "scf_ion.xc = 'b3lyp'\n",
    "scf.addons.mom_occ(scf_ion, mo0, occ0)\n",
    "scf_ion.kernel()\n",
    "\n",
    "# IE from energy difference\n",
    "print('Ionization energy:',np.around(au2ev*(scf_ion.energy_tot() - scf_gs.energy_tot()),2),'eV')"
   ]
  },
  {
   "cell_type": "markdown",
   "metadata": {},
   "source": [
    "MP2 and DFT currently brings us *away* from experiment when comparing to HF, but we note that the basis set is small and ill-suited for core properties. Using a cc-pCVTZ basis we obtain:\n",
    "- HF: 538.93 eV\n",
    "- MP2: 540.26 eV\n",
    "- B3LYP: 539.19 eV\n",
    "\n",
    "Thus closer to experiment for the correlated methods (note that [scalar-relativistic effects](sec:xray_topics_rel) will shift these results upwards by $\\sim$0.37 eV).\n",
    "\n",
    "### Spectra from $\\Delta\\textrm{SCF}$\n",
    "\n",
    "The X-ray photoemission spectrum can be formed by computing all relavant core-electron binding energies (IE:s), give each unique ionization equal intensity, and broaden over the result with an appropriate convolution function.\n",
    "\n",
    "We here consider ethyl trifluoroacetate( (CF$_3$-CO-O-CH$_2$-CH$_3$), also known as the ['ESCA' molecule](https://doi.org/10.1016/j.elspec.2012.05.009), which possess very illustrative shifts in XPS features of the carbon $K$-edge due to interactions with the very electronegative oxygen and fluorine atoms. We calculate the four carbon 1s IE:s with $\\Delta\\textrm{SCF}$:\n",
    "\n",
    "```python\n",
    "esca_xyz   = '''\n",
    "C         1.1183780041   -0.3449927563    0.0140172822\n",
    "C         0.2599020293    0.9430366372   -0.0248385056\n",
    "F         2.4019839124   -0.0408200726   -0.0368443870\n",
    "F         0.8399255955   -1.1560630574   -1.0169777359\n",
    "F         0.8945563482   -1.0267696528    1.1485539196\n",
    "O         0.7954196415    2.0187110930    0.0011424145\n",
    "O        -1.0675509573    0.8144007049   -0.0614767265\n",
    "C        -1.7486063992   -0.4602333713   -0.1739210991\n",
    "C        -3.1986940727   -0.1850294900    0.1302033614\n",
    "H        -1.3268717284   -1.1720377773    0.5289059043\n",
    "H        -1.6185520565   -0.8344576449   -1.1859838788\n",
    "H        -3.3116641442    0.1959612359    1.1419001202\n",
    "H        -3.7716619472   -1.1057672384    0.0380096706\n",
    "H        -3.6012985602    0.5468300237   -0.5651778685            \n",
    "'''\n",
    "\n",
    "# Create pyscf mol object\n",
    "mol = gto.Mole()\n",
    "mol.atom = esca_xyz\n",
    "mol.basis = '6-31G'\n",
    "mol.build()\n",
    "\n",
    "# Perform unrestricted SCF calculation\n",
    "scf_gs = scf.UHF(mol)\n",
    "scf_gs.kernel()\n",
    "\n",
    "# Perform core-hole calculation for each carbon atom (MOs 5-8)\n",
    "esca_ies = []\n",
    "for n in [5,6,7,8]:\n",
    "    # Copy molecular orbitals\n",
    "    mo0  = copy.deepcopy(scf_gs.mo_coeff)\n",
    "    occ0 = copy.deepcopy(scf_gs.mo_occ)\n",
    "    # Create 1s core-hole by setting alpha_n population to zero\n",
    "    occ0[0][n] = 0.0\n",
    "    # Perform unrestricted SCF calculation with MOM constraint\n",
    "    scf_ion = scf.UHF(mol)\n",
    "    scf.addons.mom_occ(scf_ion, mo0, occ0)\n",
    "    scf_ion.kernel()\n",
    "    # Append resulting IE:s to an array\n",
    "    esca_ies.append(au2ev*(scf_ion.energy_tot() - scf_gs.energy_tot()))\n",
    "```"
   ]
  },
  {
   "cell_type": "code",
   "execution_count": 9,
   "metadata": {},
   "outputs": [
    {
     "data": {
      "image/png": "[encoded data removed]",
      "text/plain": [
       "<Figure size 432x216 with 1 Axes>"
      ]
     },
     "metadata": {
      "needs_background": "light"
     },
     "output_type": "display_data"
    }
   ],
   "source": [
    "# IE:s from above calculation\n",
    "esca_ies = [302.187, 299.362, 295.405, 293.277]\n",
    "\n",
    "# Broaden with a Lorenztian and plot\n",
    "plt.figure(figsize=(6,3))\n",
    "x,y = esca_ies,np.ones((len(esca_ies)))\n",
    "xi,yi = lorentzian(x,y,min(x)-2,max(x)+2,0.01,0.5); plt.plot(xi,yi)\n",
    "# Lorentzian function takes energies, intensities, energy range, step-size, and a broadening parameter\n",
    "plt.tight_layout(); plt.show()"
   ]
  },
  {
   "cell_type": "markdown",
   "metadata": {},
   "source": [
    "For the comparison to experimental measurements, a cc-pVTZ basis set is selected, as augmented with additional core-polarizing functions for the carbon atoms (*i.e.* cc-pCVTZ):\n",
    "\n",
    "```{figure} ../img/xray/esca_xps.svg\n",
    "---\n",
    "name: esca_xps\n",
    "---\n",
    "Carbon 1s XPS of ESCA, comparing $\\Delta\\textrm{SCF}$ results to [experiment](https://doi.org/10.1016/j.elspec.2012.05.009). Theoretical spectrum shifted by 0.11 eV (to account for relativistic effects) and broadened by 0.3 eV.\n",
    "```\n",
    "\n",
    "The features originate in, from low to high energy: H$_3$**C**-, -**C**H$_2$-, -**C**O-, and -**C**F$_3$. We note a good agreement for the first two features, but the comparison deteriorates for higher energies. This is largely an effect of the more significant change in electronic structure imposed by the very electronegative fluorine and oxygen atoms, which the current level of theory is not capable of describing as well.\n",
    "\n",
    "\n",
    "(sec:xray_calc_xas)=\n",
    "## X-ray absorption spectroscopy\n",
    "\n",
    "In XAS the energy-dependent photoabsorption of the sample is measured, probing excitation of core electrons to bound or continuum states. These two different final states then provide information on unoccupied states and local chemical environment, respectively, with a prototypical spectrum of a conjugated system: \n",
    "\n",
    "\n",
    "```{figure} ../img/xray/xafs.svg\n",
    "---\n",
    "name: xafs\n",
    "---\n",
    "Prototypical X-ray absorption spectrum of a conjugated system.\n",
    "```\n",
    "\n",
    "We see two disctinct regions with different features and physical origins:\n",
    "\n",
    "- **NEXAFS (near-edge X-ray absorption fine structure):** the region in which transitions to bound states occurs (this region is also known as XANES, X-ray absorption near-edge structure).\n",
    "\n",
    "- **EXAFS (extended X-ray absorption fine structure):** which consists of transitions to continuum states, as modulated by constructive or destructive interference between the emitted electron and the environment. This thus provide information on local chemical bonds.\n",
    "\n",
    "Included is also the position of the IE, as well assignment of typical features ($\\pi^*$, Rydberg, and $\\sigma^*$). Transitions to $\\pi^*$ states are typically low in energy and very intense, and thus easy to identify. By comparison, Rydberg states are typically weak and converge to the ionization energy, and for condensed phase they tend to be atttenuated. Finally, transitions to $\\sigma^*$ states can be found above the ionization energy.\n",
    "\n",
    "The total spectrum is referred to as the **XAFS (X-ray absorption fine structure)** region. For the remainder of this tutorial we will focus on NEXAFS, for which good starting points for modeling with ADC and TDDFT can be found in {cite}`cvsadc32015, coretddft2010, xrayrev2018`.\n",
    "\n",
    "\n",
    "(sec:xray_calc_cvs)=\n",
    "### Decoupling from the valence continuum\n",
    "\n",
    "A complication that arise when considering core excitations is the embedding of the core-excited states in the continuum of valence-ionized states. This means that the targetted core-excited states cannot easily be resolved with, *e.g.*, a Davidson approach, as a large number of valence-excited and -ionized states need to be converged first. A number of approaches have been developed to remove or circumvent this issue, including:\n",
    "\n",
    "- The core-valence separation (CVS) approximation {cite}`cederbaum1980, cvsadc32015, cvseomccsd2019`\n",
    "\n",
    "- Restricted energy window (which is largely a different flavour of CVS) {cite}`rttddft2012`\n",
    "\n",
    "- Damped linear response theory, or the complex polarization propagator (CPP), where the response at arbitrary frequencies is directly probed {cite}`cppdft1`\n",
    "\n",
    "- Real-time propagation of the electronic structure {cite}`rttddft2012`\n",
    "\n",
    "Alternatively, when using methods constructing explicit excited states this can be avoided by some constraint scheme, such as MOM.\n",
    "\n",
    "```{note}\n",
    "Within a damped response framework and when using real-time propagation there can be [spurious mixing](sec:xray_cons_spur_val) with valene-ionized states, which needs to be avoided.\n",
    "```\n",
    "\n",
    "\n",
    "The focus in this tutorial is the use of the CVS approximation and the CPP approach, with which interior eigenstates and response at arbitrary frequencies can be address, as illustrated in {numref}`global_xray`:\n",
    "\n",
    "\n",
    "```{figure} ../img/xray/cvs_adc.svg\n",
    "---\n",
    "name: global_xray\n",
    "---\n",
    "Global spectrum of water, using the 6-311G basis set. Results obtained with ADC(1), CVS-ADC(1), ADC(2), CVS-ADC(2), and CPP-DFT. CPP-DFT results obtained using the B3LYP exchange-correlation functional and a large $\\gamma$ of 1 eV. ADC results shown as bar spectra.\n",
    "```\n",
    "\n",
    "Here we see the global spectrum of water, using a rather limited basis set. Even so, ADC(1) requires more than 50 states to resolved the core-excitation region (situated at about 535 eV for water), and for ADC(2) we could only converge abot 50 states, which did not bring us to the core-excitations. With the CVS approximation we directly target the core-excitation region, albeit at the cost of introducing an error. However, this error has been shown to be relatively small (provided a reasonable basis set) and stable for AD {cite}`Herbst2020`, and for TDHF and TDDFT it is all but negligible. Using CPP-DFT, this error is avoided all together (although CPP-ADC has been noted to be hard to converge for core-excited state {cite}`gator`, so here CVS-CPP-ADC might instead be used - thus reintroducing this small error).\n",
    "\n",
    "\n",
    "### Spectra from CVS-ADC\n",
    "\n",
    "With CVS-ADC, the core-excitation spectrum is calculate by specifying the index of the probed core orbitals(s):"
   ]
  },
  {
   "cell_type": "code",
   "execution_count": 11,
   "metadata": {
    "scrolled": true,
    "tags": [
     "hide-output"
    ]
   },
   "outputs": [
    {
     "name": "stdout",
     "output_type": "stream",
     "text": [
      "* Info * Reading basis set from file: /home/thomas/Notebook/anaconda/envs/echem/lib/python3.9/site-packages/veloxchem/basis/6-31G\n",
      "                                                                                                                          \n",
      "                                                                                                                          \n",
      "                                            Self Consistent Field Driver Setup                                            \n",
      "                                           ====================================                                           \n",
      "                                                                                                                          \n",
      "                   Wave Function Model             : Spin-Restricted Hartree-Fock                                         \n",
      "                   Initial Guess Model             : Superposition of Atomic Densities                                    \n",
      "                   Convergence Accelerator         : Two Level Direct Inversion of Iterative Subspace                     \n",
      "                   Max. Number of Iterations       : 50                                                                   \n",
      "                   Max. Number of Error Vectors    : 10                                                                   \n",
      "                   Convergence Threshold           : 1.0e-06                                                              \n",
      "                   ERI Screening Scheme            : Cauchy Schwarz + Density                                             \n",
      "                   ERI Screening Mode              : Dynamic                                                              \n",
      "                   ERI Screening Threshold         : 1.0e-12                                                              \n",
      "                   Linear Dependence Threshold     : 1.0e-06                                                              \n",
      "                                                                                                                          \n",
      "* Info * Nuclear repulsion energy: 9.1561447194 a.u.                                                                      \n",
      "                                                                                                                          \n",
      "* Info * Overlap matrix computed in 0.01 sec.                                                                             \n",
      "                                                                                                                          \n",
      "* Info * Kinetic energy matrix computed in 0.00 sec.                                                                      \n",
      "                                                                                                                          \n",
      "* Info * Nuclear potential matrix computed in 0.00 sec.                                                                   \n",
      "                                                                                                                          \n",
      "* Info * Orthogonalization matrix computed in 0.00 sec.                                                                   \n",
      "                                                                                                                          \n",
      "* Info * SAD initial guess computed in 0.00 sec.                                                                          \n",
      "                                                                                                                          \n",
      "* Info * Starting Reduced Basis SCF calculation...                                                                        \n",
      "* Info * ...done. SCF energy in reduced basis set: -75.983870205311 a.u. Time: 0.08 sec.                                  \n",
      "                                                                                                                          \n",
      "* Info * Overlap matrix computed in 0.00 sec.                                                                             \n",
      "                                                                                                                          \n",
      "* Info * Kinetic energy matrix computed in 0.00 sec.                                                                      \n",
      "                                                                                                                          \n",
      "* Info * Nuclear potential matrix computed in 0.00 sec.                                                                   \n",
      "                                                                                                                          \n",
      "* Info * Orthogonalization matrix computed in 0.00 sec.                                                                   \n",
      "                                                                                                                          \n",
      "                                                                                                                          \n",
      "               Iter. | Hartree-Fock Energy | Energy Change | Gradient Norm | Max. Gradient | Density Change               \n",
      "               --------------------------------------------------------------------------------------------               \n",
      "                  1       -75.983870373952    0.0000000000      0.00006826      0.00001638      0.00000000                \n",
      "                  2       -75.983870375702   -0.0000000017      0.00002636      0.00000475      0.00006304                \n",
      "                  3       -75.983870375765   -0.0000000001      0.00000396      0.00000061      0.00000524                \n",
      "                  4       -75.983870375769   -0.0000000000      0.00000029      0.00000008      0.00000296                \n",
      "                                                                                                                          \n",
      "               *** SCF converged in 4 iterations. Time: 0.07 sec.                                                         \n",
      "                                                                                                                          \n",
      "               Spin-Restricted Hartree-Fock:                                                                              \n",
      "               -----------------------------                                                                              \n",
      "               Total Energy                       :      -75.9838703758 a.u.                                              \n",
      "               Electronic Energy                  :      -85.1400150952 a.u.                                              \n",
      "               Nuclear Repulsion Energy           :        9.1561447194 a.u.                                              \n",
      "               ------------------------------------                                                                       \n",
      "               Gradient Norm                      :        0.0000002874 a.u.                                              \n",
      "                                                                                                                          \n",
      "                                                                                                                          \n",
      "               Ground State Information                                                                                   \n",
      "               ------------------------                                                                                   \n",
      "               Charge of Molecule            :  0.0                                                                       \n",
      "               Multiplicity (2S+1)           :  1.0                                                                       \n",
      "               Magnetic Quantum Number (M_S) :  0.0                                                                       \n",
      "                                                                                                                          \n",
      "                                                                                                                          \n",
      "                                                 Spin Restricted Orbitals                                                 \n",
      "                                                 ------------------------                                                 \n",
      "                                                                                                                          \n",
      "               Molecular Orbital No.   1:                                                                                 \n",
      "               --------------------------                                                                                 \n",
      "               Occupation: 2.000 Energy:  -20.56128 a.u.                                                                  \n",
      "               (   1 O   1s  :    -1.00)                                                                                  \n",
      "                                                                                                                          \n",
      "               Molecular Orbital No.   2:                                                                                 \n",
      "               --------------------------                                                                                 \n",
      "               Occupation: 2.000 Energy:   -1.35434 a.u.                                                                  \n",
      "               (   1 O   1s  :     0.21) (   1 O   2s  :    -0.47) (   1 O   3s  :    -0.48)                              \n",
      "                                                                                                                          \n",
      "               Molecular Orbital No.   3:                                                                                 \n",
      "               --------------------------                                                                                 \n",
      "               Occupation: 2.000 Energy:   -0.70774 a.u.                                                                  \n",
      "               (   1 O   1p+1:    -0.51) (   1 O   2p+1:    -0.27) (   2 H   1s  :     0.26)                              \n",
      "               (   3 H   1s  :    -0.26)                                                                                  \n",
      "                                                                                                                          \n",
      "               Molecular Orbital No.   4:                                                                                 \n",
      "               --------------------------                                                                                 \n",
      "               Occupation: 2.000 Energy:   -0.56024 a.u.                                                                  \n",
      "               (   1 O   2s  :     0.18) (   1 O   3s  :     0.31) (   1 O   1p0 :     0.55)                              \n",
      "               (   1 O   2p0 :     0.40)                                                                                  \n",
      "                                                                                                                          \n",
      "               Molecular Orbital No.   5:                                                                                 \n",
      "               --------------------------                                                                                 \n",
      "               Occupation: 2.000 Energy:   -0.50122 a.u.                                                                  \n",
      "               (   1 O   1p-1:     0.64) (   1 O   2p-1:     0.51)                                                        \n",
      "                                                                                                                          \n",
      "               Molecular Orbital No.   6:                                                                                 \n",
      "               --------------------------                                                                                 \n",
      "               Occupation: 0.000 Energy:    0.20280 a.u.                                                                  \n",
      "               (   1 O   3s  :     1.17) (   1 O   1p0 :    -0.23) (   1 O   2p0 :    -0.48)                              \n",
      "               (   2 H   2s  :    -0.99) (   3 H   2s  :    -0.99)                                                        \n",
      "                                                                                                                          \n",
      "               Molecular Orbital No.   7:                                                                                 \n",
      "               --------------------------                                                                                 \n",
      "               Occupation: 0.000 Energy:    0.29874 a.u.                                                                  \n",
      "               (   1 O   1p+1:     0.34) (   1 O   2p+1:     0.82) (   2 H   2s  :     1.38)                              \n",
      "               (   3 H   2s  :    -1.38)                                                                                  \n",
      "                                                                                                                          \n",
      "               Molecular Orbital No.   8:                                                                                 \n",
      "               --------------------------                                                                                 \n",
      "               Occupation: 0.000 Energy:    1.05548 a.u.                                                                  \n",
      "               (   1 O   2p+1:    -0.74) (   2 H   1s  :    -0.97) (   2 H   2s  :     0.50)                              \n",
      "               (   3 H   1s  :     0.97) (   3 H   2s  :    -0.50)                                                        \n",
      "                                                                                                                          \n",
      "               Molecular Orbital No.   9:                                                                                 \n",
      "               --------------------------                                                                                 \n",
      "               Occupation: 0.000 Energy:    1.16442 a.u.                                                                  \n",
      "               (   1 O   1p-1:    -0.96) (   1 O   2p-1:     1.04)                                                        \n",
      "                                                                                                                          \n",
      "               Molecular Orbital No.  10:                                                                                 \n",
      "               --------------------------                                                                                 \n",
      "               Occupation: 0.000 Energy:    1.18237 a.u.                                                                  \n",
      "               (   1 O   2s  :     0.26) (   1 O   3s  :    -0.18) (   1 O   1p0 :    -0.67)                              \n",
      "               (   1 O   2p0 :     0.22) (   2 H   1s  :    -0.84) (   2 H   2s  :     0.55)                              \n",
      "               (   3 H   1s  :    -0.84) (   3 H   2s  :     0.55)                                                        \n",
      "                                                                                                                          \n"
     ]
    },
    {
     "name": "stdout",
     "output_type": "stream",
     "text": [
      "SCF converged in 4 iterations.\n",
      "Total Energy: -75.9838703758 au\n",
      "Starting cvs-adc2x singlet Jacobi-Davidson ...\n",
      "Niter n_ss  max_residual  time  Ritz values\n",
      "  1     8        1.2621  164ms  [20.27035896 20.30081829 20.86977777 20.91121528]\n",
      "  2    16      0.038976  452ms  [19.72495586 19.80691963 20.50881    20.51569984]\n",
      "  3    24     0.0035541  424ms  [19.71673642 19.79707758 20.49577433 20.5050343 ]\n",
      "  4    32    0.00029894  397ms  [19.71639059 19.79671156 20.49373717 20.50484016]\n",
      "  5    40    3.1991e-05  443ms  [19.7163757  19.79669977 20.49353402 20.5048266 ]\n",
      "=== Restart ===\n",
      "  6    16    5.9779e-06  421ms  [19.7163752  19.79669907 20.49351316 20.50482466]\n",
      "  7    24    1.1003e-06  300ms  [19.71637516 19.79669898 20.49350798 20.50482383]\n",
      "  8    32    5.7208e-07  361ms  [19.71637516 19.79669897 20.49350754 20.50482373]\n",
      "=== Converged ===\n",
      "    Number of matrix applies:    64\n",
      "    Total solver time:             2s 988ms\n"
     ]
    }
   ],
   "source": [
    "# Construct structure and basis objects\n",
    "struct = gator.get_molecule(water_xyz)\n",
    "basis = gator.get_molecular_basis(struct, '6-31G')\n",
    "\n",
    "# Perform SCF calculation\n",
    "scf_gs = gator.run_scf(struct,basis)\n",
    "\n",
    "# Calculate the 6 lowest eigenstates with CVS restriction to MO #1 (oxygen 1s)\n",
    "adc_res = gator.run_adc(struct, basis, scf_gs, method='cvs-adc2x', singlets=4, core_orbitals=1)"
   ]
  },
  {
   "cell_type": "markdown",
   "metadata": {},
   "source": [
    "The resuls can be printed as a table, and convoluted and plotted using built-in functionalities or a custom broadening:"
   ]
  },
  {
   "cell_type": "code",
   "execution_count": 12,
   "metadata": {},
   "outputs": [
    {
     "name": "stdout",
     "output_type": "stream",
     "text": [
      "+--------------------------------------------------------------+\n",
      "| cvs-adc2x                               singlet ,  converged |\n",
      "+--------------------------------------------------------------+\n",
      "|  #        excitation energy     osc str    |v1|^2    |v2|^2  |\n",
      "|          (au)           (eV)                                 |\n",
      "|  0      19.71638      536.5099   0.0175       0.8       0.2  |\n",
      "|  1       19.7967      538.6956   0.0368    0.8087    0.1913  |\n",
      "|  2      20.49351      557.6567   0.0098    0.7858    0.2142  |\n",
      "|  3      20.50482      557.9647   0.1007    0.8441    0.1559  |\n",
      "+--------------------------------------------------------------+\n",
      "\n"
     ]
    },
    {
     "data": {
      "image/png": "[encoded data removed]",
      "text/plain": [
       "<Figure size 432x360 with 2 Axes>"
      ]
     },
     "metadata": {
      "needs_background": "light"
     },
     "output_type": "display_data"
    }
   ],
   "source": [
    "# Print information on eigenstates\n",
    "print(adc_res.describe())\n",
    "\n",
    "plt.figure(figsize=(6,5))\n",
    "# Convolute using functionalities available in gator and adcc\n",
    "plt.subplot(211); plt.title('Built-in broadening')\n",
    "adc_res.plot_spectrum()\n",
    "\n",
    "# Manually convoluted using excitation energies and oscillator strengths\n",
    "plt.subplot(212); plt.title('Custom broadening (0.5 eV)')\n",
    "x,y  = au2ev*adc_res.excitation_energy, adc_res.oscillator_strength\n",
    "xi,yi = lorentzian(x,y,533,543,0.01,0.5); plt.plot(xi,yi)\n",
    "plt.tight_layout(); plt.show()"
   ]
  },
  {
   "cell_type": "markdown",
   "metadata": {},
   "source": [
    "The built-in functionality uses a Lorentzian broadening with a small broadening parameter, and plots the full region which is resolved, while we might want to focus on lower-energy regions and using custom broadening schemes (as done in the lower panel). We note that high-energy features can often be a result of a discretized continuum region, as seen by the unphysically intense feature at $\\sim$558 eV. A larger basis set will flatten out this region, but care should be taken for any analysis in that part of the spectrum.\n",
    "\n",
    "Increasing the basis set to aug-cc-pCVTZ/cc-pVTZ (for oxygen and hydrogen, respectively), we obtain results in good agreement with experiment:\n",
    "\n",
    "\n",
    "```{figure} ../img/xray/adc_water_xas.svg\n",
    "---\n",
    "name: adc_water_xas\n",
    "---\n",
    "CVS-ADC(2)-x calculation of the oxygen X-ray absorption spectrum of gaseous water, as compared to [experiment](https://journals.aps.org/pra/abstract/10.1103/PhysRevA.47.1136). Theoretical spectra has been shifted by 0.37 eV (to account for relativistic effects) and broadened by 0.3 eV.\n",
    "```\n",
    "\n",
    "### Spectra from TDDFT\n",
    "\n",
    "```{note}\n",
    "To be added. For now, see the [CVS example](sec:xray_cvs_vs_full) in [non-standard calculations](xray_nonstandard.ipynb).\n",
    "```"
   ]
  },
  {
   "cell_type": "markdown",
   "metadata": {},
   "source": [
    "### Spectra from CPP-DFT\n",
    "\n",
    "With the complex polarization propagator (CPP), also called the damped linear response function, the absorption and dispersion spectrum can be evaluated at arbitrary energies {cite}`cpp1`. As such, the X-ray absorption spectrum can then be directly calculated by calculating the response at X-ray photon energies. For this, we need to decide on which energy/frequency region to use, which can be estimated by, *e.g.*:\n",
    "\n",
    "- Screening extended energy regions with large step size. This could potentially be done using a smaller basis set.\n",
    "\n",
    "- With a method lacking relaxation: starting the region a few eV below the IE from Koopmans' theorem. This will not work for methods capable of including relaxation, where IE:s from $\\Delta$SCF could instead be considered as a first rough estimate (noting that it will work better or worse for different levels of, *e.g.*, ADC theory).\n",
    "\n",
    "Choosing an energy region of 514-525 eV, using a step length of 0.1 eV and a damping factor of 0.3 eV, we calculate the CPP-DFT (with the B3LYP functional) water spectrum as:\n",
    "\n",
    "```python\n",
    "# Prepare molecule and basis objects\n",
    "molecule = vlx.Molecule.read_str(water_xyz)\n",
    "basis = vlx.MolecularBasis.read(molecule, \"6-31G\")\n",
    "\n",
    "# SCF settings and SCF optimization\n",
    "scf_drv = vlx.ScfRestrictedDriver(comm, ostream=silent_ostream)\n",
    "scf_settings = {'conv_thresh': 1.0e-6}\n",
    "method_settings = {'xcfun': 'b3lyp'}\n",
    "scf_drv.update_settings(scf_settings, method_settings)\n",
    "scf_drv.compute(molecule, basis)\n",
    "\n",
    "# Define spectrum region to be resolved\n",
    "freqs = np.arange(515.0,525.0,0.1)/au2ev\n",
    "freqs_str = [str(x) for x in freqs]\n",
    "\n",
    "# Calculate the response\n",
    "cpp_prop = LinearAbsorptionCrossSection({'frequencies': ','.join(freqs_str), 'damping': 0.3/au2ev}, method_settings)\n",
    "cpp_prop.init_driver(comm, ostream=silent_ostream)\n",
    "cpp_prop.compute(molecule, basis, scf_drv.scf_tensors)\n",
    "\n",
    "# Extract the imaginary part of the complex response function and convert to absorption cross section\n",
    "sigma = []\n",
    "for w in freqs:\n",
    "    axx = - cpp_prop.rsp_property['response_functions'][('x', 'x', w)].imag\n",
    "    ayy = - cpp_prop.rsp_property['response_functions'][('y', 'y', w)].imag\n",
    "    azz = - cpp_prop.rsp_property['response_functions'][('z', 'z', w)].imag\n",
    "    alpha_bar = (axx + ayy + azz) / 3.0\n",
    "    sigma.append(4.0 * np.pi * w * alpha_bar / 137.035999)\n",
    "```\n",
    "\n",
    "Resulting spectra can be plotted as raw, or splined for smoother figures:\n",
    "\n",
    "\n",
    "```python\n",
    "# Make figure with panels of 3:1 width\n",
    "plt.figure(figsize=(9,5))\n",
    "gs = gridspec.GridSpec(2, 2, width_ratios=[3, 1]) \n",
    "\n",
    "# Raw results for the full region\n",
    "plt.subplot(gs[0])\n",
    "plt.plot(au2ev*freqs,sigma,'bx-')\n",
    "\n",
    "# Raw results for a zoomed-in region\n",
    "plt.subplot(gs[1])\n",
    "plt.plot(au2ev*freqs,sigma,'bx-')\n",
    "plt.xlim((519.5,520.5)); plt.ylim((0,0.10))\n",
    "\n",
    "# Raw and splined spectra for the full region\n",
    "plt.subplot(gs[2])\n",
    "plt.plot(au2ev*freqs,sigma,'bx')\n",
    "x = np.arange(min(au2ev*freqs),max(au2ev*freqs),0.01)\n",
    "y = interp1d(au2ev*freqs, sigma, kind='cubic')\n",
    "plt.plot(x,y(x),'r')\n",
    "plt.legend(('Raw','Splined'))\n",
    "\n",
    "# Raw and splined spectra for a zoomed-in region\n",
    "plt.subplot(gs[3])\n",
    "plt.plot(au2ev*freqs,sigma,'bx')\n",
    "plt.plot(x,y(x),'r')\n",
    "plt.xlim((519.5,520.5)); plt.ylim((0,0.10))\n",
    "plt.show()\n",
    "```\n",
    "\n",
    "\n",
    "```{figure} ../img/xray/cpp_dft.svg\n",
    "---\n",
    "name: xray_cpp_dft\n",
    "---\n",
    "```"
   ]
  },
  {
   "cell_type": "markdown",
   "metadata": {},
   "source": [
    "Using broadened eigenstates, increasing the basis set size and comparing to experiment we get:\n",
    "\n",
    "\n",
    "```{figure} ../img/xray/dft_water_xas.svg\n",
    "---\n",
    "name: dft_water_xas\n",
    "---\n",
    "TDDFT (B3LYP xc-functional) calculation of the oxygen X-ray absorption spectrum of gaseous water, as compared to [experiment](https://journals.aps.org/pra/abstract/10.1103/PhysRevA.47.1136). Theoretical spectra has been shifted by 14.5 eV and broadened by 0.3 eV.\n",
    "```\n",
    "\n",
    "As can be seen, the absolute excitation energies are significantly of, with a shift of 14.5 eV required to yield an approximate alignment to experiment. Part of this shift is due to lack of relativistic effects (~0.37 eV), and a small discrepancy can be expected due to the use of a limited basis set, but the main part of the error is due to two effects:\n",
    "\n",
    "1. Lack of [relaxation](sec:xray_topics_relax), which yield a final state too high in energy and thus shift theoretical spectra upwards in energy.\n",
    "\n",
    "2. The self-interaction error ([SIE](sec:xray_topics_sie)), which yield an erroneous self-repulsion of the dense core orbitals, and results in too low core-excitation energies.\n",
    "\n",
    "For B3LYP the combined effect of these two errors results in too low transition energies, meaning that the SIE dominates. By changing the amount of HF exchange this balance will shift and the error eventually becomes positive.\n",
    "\n",
    "Despite this large absolute error, the TDDFT spectrum is in reasonable agreement with experiment once it has been shifted. In general, different xc-functional can exhibit good [precision](sec:xray_precision) (relative errors), despite poor accuracy (absolute errors), such that a constant shift in energy can be applied."
   ]
  },
  {
   "cell_type": "markdown",
   "metadata": {},
   "source": [
    "(sec:xray_calc_xes)=\n",
    "## X-ray emission spectroscopy\n",
    "\n",
    "Following the creating of a core-hole, the system will rapidly ($\\sim$fs) decay to a valence-hole or valence-excited state, depending on whether the system is core-ionized or core-excited. These two different intermediate states  are probed when the X-ray pulse is in resonance (excited regime) or not (ionized regime), yieldig resonant/non-resonant X-ray emission spectroscopy. This section will focus on the latter, with the former following in the [next section](sec:xray_calc_rixs).\n",
    "\n",
    "In the decay process the system gain large amounts of energy which need to be discarded, as can occur by emission of high-energy photon (fluorescence) or high-lying electron (Auger), with relative probability depending on edge and element. For the *K*-edge the relative probabilities are:\n",
    "\n",
    "```{figure} ../img/xray/auger_vs_fluorescent.png\n",
    "---\n",
    "name: auger_vs_fluorescent\n",
    "---\n",
    "Fluorescence and Auger electron yields as a function of atomic number for *K*-edge core-holes. Figure taken from [wikipedia.org](https://commons.wikimedia.org/wiki/File:Auger_xray_wiki_in_png_format.png).\n",
    "```\n",
    "\n",
    "Auger decay dominates for light elements, which has impact on both our ability of obtaining well-resolved spectra for these elements, as well as the impact of X-ray damage on biological matter.\n",
    "\n",
    "In non-resonant XES we measure the fluorescent decay of core-ionized states, through which we probe the (element-specific) nature of the local chemical environment. For light elements the valence space is probed directly, but for heavier elements we obtain a number of different decay channels from the valence region and the outer core region. These lines vary considerably in energy, intensity, and sensitivity to local environment {cite}`guideXray2016`:\n",
    "\n",
    "1. The $2p \\rightarrow 1s$ ($K\\alpha_1$ and $K\\alpha_2$) lines are most intense (due to the large overlap) and of lowest energy, and relatively insensitive to the valence region\n",
    "\n",
    "2. The $3p \\rightarrow 1s$ ($K\\beta ' $ and $K\\beta_{1,3}$) lines are higher in energy and more sensitive to the local environment than $K\\alpha$, but about an order of magnitude weaker.\n",
    "\n",
    "3. Transitions from the ligand MO:s ($K\\beta '' $ and $K\\beta_{2,5}$), or valence-to-core (VtC), yield the weakest, highest-energy features, which is most sensitive to the local environment\n",
    "\n",
    "\n",
    "This tutorial focus on spectra of light elements, as modelled by ground state DFT, TDDFT, and ADC. Good starting points for learning about such modeling can be found in {cite}`coretddft2010, adcxes2019, dftXray2021`.\n",
    "\n",
    "\n",
    "\n",
    "### Spectra from ADC\n",
    "\n",
    "One approach for considering X-ray emission spectra is to converge a core-hole state and use this core-ionized system as the reference state for a normal excited state calculation {cite}`coretddft2010, adcxes2019`. The core-decay transitions are then the first negative eigenstates of the system, such that a standard Davidson calculation can be run on top of this reference state.\n",
    "\n",
    "Considering water with ADC(2), the oxygen X-ray emission spectrum is calculated as:"
   ]
  },
  {
   "cell_type": "code",
   "execution_count": 9,
   "metadata": {
    "tags": [
     "hide-output"
    ]
   },
   "outputs": [
    {
     "name": "stdout",
     "output_type": "stream",
     "text": [
      "converged SCF energy = -75.9838703827193  <S^2> = 6.3380412e-12  2S+1 = 1\n",
      "converged SCF energy = -56.0754789470865  <S^2> = 0.76257805  2S+1 = 2.0125387\n",
      "Starting adc2  Jacobi-Davidson ...\n",
      "Niter n_ss  max_residual  time  Ritz values\n",
      "  1     8       0.77768   1.7s  [-19.29082067 -19.19940205 -18.96181907 -18.3637012 ]\n",
      "  2    16     0.0010764  135ms  [-19.44427093 -19.36689642 -19.16826546 -18.57947501]\n",
      "  3    24    4.4301e-07  193ms  [-19.44429764 -19.3669284  -19.16831914 -18.57954987]\n",
      "=== Converged ===\n",
      "    Number of matrix applies:    24\n",
      "    Total solver time:             2s  39ms\n"
     ]
    }
   ],
   "source": [
    "# Create pyscf mol object\n",
    "mol = gto.Mole()\n",
    "mol.atom = water_xyz\n",
    "mol.basis = '6-31G'\n",
    "mol.build()\n",
    "\n",
    "# Perform unrestricted SCF calculation\n",
    "scf_res = scf.UHF(mol)\n",
    "scf_res.kernel()\n",
    "\n",
    "# Copy molecular orbitals\n",
    "mo0 = copy.deepcopy(scf_res.mo_coeff)\n",
    "occ0 = copy.deepcopy(scf_res.mo_occ)\n",
    "\n",
    "# Create 1s core-hole by setting alpha_0 population to zero\n",
    "occ0[0][0] = 0.0\n",
    "\n",
    "# Perform unrestricted SCF calculation with MOM constraint\n",
    "scf_ion = scf.UHF(mol)\n",
    "scf.addons.mom_occ(scf_ion, mo0, occ0)\n",
    "scf_ion.kernel()\n",
    "\n",
    "# Perform ADC calculation\n",
    "adc_xes = adcc.adc2(scf_ion, n_states = 4)"
   ]
  },
  {
   "cell_type": "markdown",
   "metadata": {},
   "source": [
    "```{note}\n",
    "There may be convergence issues if you include transitions of very different types, *e.g.* when resolving transitions into the core and out to the unoccupied valence region simultaneously. As such, the number of required states should not be too high.\n",
    "```\n",
    "\n",
    "The results can be printed as a table, and convoluted and plotted using built-in functionalities or a custom broadening. Note that the eigenvalues are negative, and a sign change is thus appropriate when constructing the spectra."
   ]
  },
  {
   "cell_type": "code",
   "execution_count": 10,
   "metadata": {},
   "outputs": [
    {
     "name": "stdout",
     "output_type": "stream",
     "text": [
      "+--------------------------------------------------------------+\n",
      "| adc2                                        any ,  converged |\n",
      "+--------------------------------------------------------------+\n",
      "|  #        excitation energy     osc str    |v1|^2    |v2|^2  |\n",
      "|          (au)           (eV)                                 |\n",
      "|  0      -19.4443     -529.1063   0.0568    0.9548    0.0452  |\n",
      "|  1     -19.36693      -527.001   0.0458    0.9503   0.04966  |\n",
      "|  2     -19.16832     -521.5965   0.0419    0.9376   0.06245  |\n",
      "|  3     -18.57955     -505.5753   0.0031    0.9335   0.06655  |\n",
      "+--------------------------------------------------------------+\n",
      "\n"
     ]
    },
    {
     "data": {
      "image/png": "[encoded data removed]",
      "text/plain": [
       "<Figure size 432x360 with 2 Axes>"
      ]
     },
     "metadata": {
      "needs_background": "light"
     },
     "output_type": "display_data"
    }
   ],
   "source": [
    "# Print information on eigenstates\n",
    "print(adc_xes.describe())\n",
    "\n",
    "plt.figure(figsize=(6,5))\n",
    "# Convolute using functionalities available in gator and adcc\n",
    "plt.subplot(211); plt.title('Built-in broadening [note negative energies]')\n",
    "adc_xes.plot_spectrum()\n",
    "\n",
    "# Convoluted using information on excitation energies and oscillator strengths\n",
    "plt.subplot(212); plt.title('Custom broadening')\n",
    "x,y = -au2ev*adc_xes.excitation_energy, adc_xes.oscillator_strength\n",
    "xi,yi = lorentzian(x,y,519,531,0.01,0.5); plt.plot(xi,yi)\n",
    "plt.tight_layout(); plt.show()"
   ]
  },
  {
   "cell_type": "markdown",
   "metadata": {},
   "source": [
    "Using a cc-pCVTZ/cc-pVTZ basis set and comparing to experiment:\n",
    "\n",
    "```{figure} ../img/xray/adc_water_xes.svg\n",
    "---\n",
    "name: adc_water_xes\n",
    "---\n",
    "ADC(2)  calculation of the oxygen X-ray absorption spectrum of gaseous water, as compared to [experiment](https://aip.scitation.org/doi/10.1063/1.3702644). Theoretical spectra shifted by 0.37 eV (to account for relativistic effects) and broadened by 0.3 eV.\n",
    "```\n",
    "\n",
    "While the broadening between the different lines is noticably different, it is clear that the energy spacing and integrated intensities of the features are in good agreement with experiment. Note that the theoretical spectrum is obtained at the ADC(2) level of theory, which has been seen to yield better absolute energies than ADC(2)-x and ADC(3/2) (for XES) {cite}`adcxes2019`.\n",
    "\n",
    "\n",
    "### Spectra from TDDFT\n",
    "\n",
    "```{note}\n",
    "To be added.\n",
    "```"
   ]
  },
  {
   "cell_type": "markdown",
   "metadata": {},
   "source": [
    "### Spectra from ground state MO:s\n",
    "\n",
    "While we have previously seen that Koopmans' theorem is in significant disagreement with experimental ionization energies (due to lack of relaxation), it has been noted that the *relative* position of the (valence) MO energies can still be quite reasonable {cite}`dftXray2021`. As such, a computationally simple approach for modeling X-ray emission spectra has been developed, in which transition energies are estimated from:\n",
    "\n",
    "$$\n",
    "\\Delta E = \\epsilon_v - \\epsilon_c\n",
    "$$\n",
    "\n",
    "*i.e.* from the difference in ground state MO energies. The intensities are taken to be proportional to the transition dipole moment:\n",
    "\n",
    "$$\n",
    "f \\propto \\left| \\langle \\phi_i \\left| \\hat{\\mu} \\right| \\phi_c \\rangle \\right| ^2\n",
    "$$\n",
    "\n",
    "This method is very attractive in its simplicity, requiring only a single ground state calculation and the construction of a number of transition dipole moments in order to construct the full spectrum. However, the absolute energies are significantly off, and any differences in relaxation between the different channels will not be accounted for. Nevertheless, this approach has been noted to yield good (relative) agreement to experimental measurements, and it is capable of considering even massive molecular systems.\n",
    "\n",
    "The calculation of an emission spectra thus requires the calculation of the ground state and of all relevant transition dipole moments:"
   ]
  },
  {
   "cell_type": "code",
   "execution_count": 14,
   "metadata": {},
   "outputs": [
    {
     "name": "stdout",
     "output_type": "stream",
     "text": [
      "Occupied MO energies: [-520.65709503  -27.6878928   -14.39952882   -9.70377531   -7.94952958]\n"
     ]
    }
   ],
   "source": [
    "# Prepare molecule and basis objects\n",
    "molecule = vlx.Molecule.read_str(water_xyz)\n",
    "basis = vlx.MolecularBasis.read(molecule, \"6-31G\")\n",
    "\n",
    "# SCF settings and calculation\n",
    "scf_drv = vlx.ScfRestrictedDriver(comm, ostream=silent_ostream)\n",
    "scf_settings = {'conv_thresh': 1.0e-6}\n",
    "method_settings  = {'xcfun': 'b3lyp'}\n",
    "scf_drv.update_settings(scf_settings, method_settings)\n",
    "scf_drv.compute(molecule, basis)\n",
    "\n",
    "# Extract orbital energies and number of occupied MOs\n",
    "orbital_energies = scf_drv.scf_tensors['E']\n",
    "nocc = molecule.number_of_alpha_electrons()\n",
    "print('Occupied MO energies:',au2ev*orbital_energies[:nocc])\n",
    "\n",
    "# Define probed core MO and calculate energy differences\n",
    "n_core = 0\n",
    "energy_diff = []\n",
    "for n_mo in np.arange(nocc):\n",
    "    if n_mo != n_core:\n",
    "        energy_diff.append(au2ev*(orbital_energies[n_mo]-orbital_energies[n_core]))\n",
    "\n",
    "# Extract MO coefficients\n",
    "mo_C = scf_drv.scf_tensors['C']\n",
    "         \n",
    "# Load drivers for transition dipole moment\n",
    "dipole_drv = vlx.ElectricDipoleIntegralsDriver(comm)\n",
    "\n",
    "# Calculated transition dipole moments and convert to MO basis\n",
    "dipole_matrices = dipole_drv.compute(molecule, basis)\n",
    "x_ao = dipole_matrices.x_to_numpy(); x_mo = np.matmul(mo_C.T, np.matmul(x_ao, mo_C))\n",
    "y_ao = dipole_matrices.y_to_numpy(); y_mo = np.matmul(mo_C.T, np.matmul(y_ao, mo_C))\n",
    "z_ao = dipole_matrices.z_to_numpy(); z_mo = np.matmul(mo_C.T, np.matmul(z_ao, mo_C))\n",
    "\n",
    "# Construct oscillator strengths\n",
    "xx,yy,zz,sigma = [],[],[],[]\n",
    "for n_mo in np.arange(nocc):\n",
    "    if n_mo != n_core:\n",
    "        x_tmp,y_tmp,z_tmp = x_mo[n_core,n_mo],y_mo[n_core,n_mo],z_mo[n_core,n_mo]\n",
    "        xx.append(x_tmp); yy.append(y_tmp); zz.append(z_tmp)\n",
    "        sigma.append(x_tmp**2+y_tmp**2+z_tmp**2)"
   ]
  },
  {
   "cell_type": "markdown",
   "metadata": {},
   "source": [
    "The resuls can be printed as a table, and convoluted and plotted using a custom broadening. We here focus on the high-energy features:"
   ]
  },
  {
   "cell_type": "code",
   "execution_count": 15,
   "metadata": {},
   "outputs": [
    {
     "name": "stdout",
     "output_type": "stream",
     "text": [
      "Energy   Osc. str.   x-component   y-component   z-component\n",
      "492.969   0.00022     -0.00000      -0.00000      -0.01478\n",
      "506.258   0.00238     -0.04878      -0.00000       0.00000\n",
      "510.953   0.00255     -0.00000       0.00000      -0.05050\n",
      "512.708   0.00342      0.00000      -0.05848      -0.00000\n"
     ]
    },
    {
     "data": {
      "image/png": "[encoded data removed]",
      "text/plain": [
       "<Figure size 432x216 with 1 Axes>"
      ]
     },
     "metadata": {
      "needs_background": "light"
     },
     "output_type": "display_data"
    }
   ],
   "source": [
    "# Print results as a table\n",
    "print('Energy   Osc. str.   x-component   y-component   z-component')\n",
    "for i in np.arange(len(energy_diff)):\n",
    "    e,os,x,y,z = energy_diff[i],sigma[i],xx[i],yy[i],zz[i]\n",
    "    print('{:.3f}  {:8.5f}     {:8.5f}      {:8.5f}      {:8.5f}'.format(e,os,x,y,z))\n",
    "\n",
    "# Plot X-ray emission spectrum\n",
    "plt.figure(figsize=(6,3))\n",
    "x,y   = energy_diff,sigma\n",
    "xi,yi = lorentzian(x,y,min(x)-5,max(x)+5,0.01,0.4); plt.plot(xi,yi)\n",
    "plt.xlim((504,514)); plt.show()"
   ]
  },
  {
   "cell_type": "markdown",
   "metadata": {},
   "source": [
    "Using a cc-pCVTZ/cc-pVTZ basis set and comparing to experiment {cite}`gaswaterrixs2012`:\n",
    "\n",
    "\n",
    "```{figure} ../img/xray/overlap_water_xes.svg\n",
    "---\n",
    "name: /overlap_water_xes\n",
    "---\n",
    "Ground state B3LYP calculation of the oxygen X-ray absorption spectrum of gaseous water, as compared to [experiment](https://aip.scitation.org/doi/10.1063/1.3702644). Theoretical spectra shifted by 15.5 eV, and broadened by 0.3 eV.\n",
    "```\n",
    "\n",
    "The resulting spectrum has poor absolute energies, but the relative agreement to experiment is quite impressive."
   ]
  },
  {
   "cell_type": "markdown",
   "metadata": {},
   "source": [
    "(sec:xray_calc_rixs)=\n",
    "## Resonant inelastic X-ray scattering\n",
    "\n",
    "We will here focus on calculating the electronic part of the RIXS plane, and skip cases where one is more interested in probing vibrational modes. The manner in which such calculations can be carried out will be added at a later date.\n",
    "\n",
    "\n",
    "### Two-step approach with ADC\n",
    "\n",
    "An approximate treatment of the RIXS plane can be achieved by considering it as a two-step process {cite}`adcwaterrixs2018`, with:\n",
    "\n",
    "1. A core-excitation as modeled like a normal X-ray absorption spectrum\n",
    "\n",
    "2. A core-decay process from the core-hole system with an electron put in each relevant final state probed in (1), modeled as a (non-resonant) X-ray emission spectrum\n",
    "\n",
    "The RIXS plane is then constructed from above absorption and emission energies, with RIXS intensity from the multiplication of respective oscillator strength.\n",
    "\n",
    "Note that this approach is an approximation, as it disregards potentially important detuning effects, and in the example given below we also ignore existing coupling between the polarization in the incoming and outgoing photon. Furthermore, it requires the convergence of core-ionized states, which is much trickier than core-ionized, and will likely only work for the first few core-excited states. Finally, depending on how the intermediate core-excited state is constructed, issues with spin-contamination can become highly influential.\n",
    "\n",
    "Nevertheless, the scheme is quite easy to understand, and introducing core-excited dynamics is relatively straightforward. As such, we here illustrate how the RIXS plane of water can be constructed. First, calculate the X-ray absorption spectrum, as well as the emission spectra with a core-excited reference state:\n",
    "\n",
    "\n",
    "```python\n",
    "# Create pyscf mol object\n",
    "mol = gto.Mole()\n",
    "mol.atom = water_xyz\n",
    "mol.basis = '6-31G'\n",
    "mol.build()\n",
    "\n",
    "# Perform restricted SCF calculation\n",
    "scf_gs = scf.RHF(mol)\n",
    "scf_gs.kernel()\n",
    "\n",
    "# Calculate X-ray absorption spectrum\n",
    "adc_xas = adcc.cvs_adc2(scf_gs, n_singlets=4, core_orbitals=1)\n",
    "print(adc_xas.describe())\n",
    "\n",
    "# Perform unrestricted SCF calculation\n",
    "scf_gs = scf.UHF(mol)\n",
    "scf_gs.kernel()\n",
    "\n",
    "# Calculate resonant X-ray emission spectrum\n",
    "#   for states where the core-electron is moved to LUMO or LUMO+1\n",
    "adc_rxes = []\n",
    "for n in [5,6]:\n",
    "    # Copy molecular orbitals\n",
    "    mo0  = copy.deepcopy(scf_gs.mo_coeff)\n",
    "    occ0 = copy.deepcopy(scf_gs.mo_occ)\n",
    "    # Move 1s electron to LUMO / LUMO+1\n",
    "    occ0[0][0] = 0.0\n",
    "    occ0[0][n] = 1.0\n",
    "    # Perform unrestricted SCF calculation with MOM constraint\n",
    "    scf_ion = scf.UHF(mol)\n",
    "    scf.addons.mom_occ(scf_ion, mo0, occ0)\n",
    "    scf_ion.kernel()\n",
    "    # Calculate resonant X-ray emission spectrum\n",
    "    adc_rxes.append(adcc.adc2(scf_ion, n_states=4))\n",
    "```\n",
    "\n",
    "Now the correct combinations of transition energies and intensities need to be calculated:\n",
    "\n",
    "```python\n",
    "adc_rixs = []\n",
    "\n",
    "# Probing LUMO and LUMO+1\n",
    "for indx in [0,1]:\n",
    "    # From XAS calculation\n",
    "    E_xas = au2ev*adc_xas.excitation_energy[indx]\n",
    "    I_xas = adc_xas.oscillator_strength[indx]\n",
    "    # From XES calculation\n",
    "    for i in np.arange(len(adc_rxes[indx])):\n",
    "        E_xes = -au2ev*adc_rxes[indx].excitation_energy[i]\n",
    "        I_xes = adc_rxes[indx].oscillator_strength[i]\n",
    "        adc_rixs.append([E_xas, E_xes, I_xas*I_xes])\n",
    "```\n",
    "\n",
    "And the RIXS plane can then be plotted:\n",
    "\n",
    "```python\n",
    "plt.figure(figsize=(8,6))\n",
    "# Plot absorption spectrum\n",
    "plt.subplot(222)\n",
    "x,y   = au2ev*adc_xas.excitation_energy, adc_xas.oscillator_strength\n",
    "xi,yi = lorentzian(x,y,min(x)-2,min(x)+5,0.01,0.3)\n",
    "plt.plot(yi,xi)\n",
    "\n",
    "# Plot emission specta, with vertical shift from absorbed energy\n",
    "plt.subplot(223)\n",
    "# LUMO\n",
    "x,y   = -au2ev*adc_rxes[0].excitation_energy, adc_rxes[0].oscillator_strength\n",
    "xi,yi = lorentzian(x,5.*y,x[1]-9,x[1]+2,0.01,0.3)\n",
    "plt.plot(xi,yi+au2ev*adc_xas.excitation_energy[0])\n",
    "# LUMO+1\n",
    "x,y   = -au2ev*adc_rxes[0].excitation_energy, adc_rxes[1].oscillator_strength\n",
    "xi,yi = lorentzian(x,5.*y,x[1]-9,x[1]+2,0.01,0.3)\n",
    "plt.plot(xi,yi+au2ev*adc_xas.excitation_energy[1])\n",
    "\n",
    "# Plot RIXS plane, here with marker size scaling with intensity\n",
    "plt.subplot(221)\n",
    "for i in np.arange(len(adc_rixs)):\n",
    "    tmp = adc_rixs[i]\n",
    "    plt.plot(tmp[1],tmp[0],'ok',markersize=10000*tmp[2])\n",
    "    \n",
    "# Zooming in to region spanned by XAS and XES projections\n",
    "plt.xlim((519,530))\n",
    "plt.ylim((536,544))\n",
    "    \n",
    "plt.tight_layout(); plt.show()\n",
    "```\n",
    "\n",
    "\n",
    "```{figure} ../img/xray/adc_2st_rixs.svg\n",
    "---\n",
    "name: adc_2st_rixs\n",
    "---\n",
    "```"
   ]
  },
  {
   "cell_type": "markdown",
   "metadata": {},
   "source": [
    "### Two-step approach with TDDFT\n",
    "\n",
    "```{note}\n",
    "To be added.\n",
    "```\n",
    "\n",
    "### Dirac-Kramer-Heisenberg with ADC\n",
    "\n",
    "```{note}\n",
    "To be added.\n",
    "```\n",
    "\n",
    "### HERFD\n",
    "\n",
    "```{note}\n",
    "To be added.\n",
    "```"
   ]
  }
 ],
 "metadata": {
  "celltoolbar": "Tags",
  "kernelspec": {
   "display_name": "Python 3 (ipykernel)",
   "language": "python",
   "name": "python3"
  },
  "language_info": {
   "codemirror_mode": {
    "name": "ipython",
    "version": 3
   },
   "file_extension": ".py",
   "mimetype": "text/x-python",
   "name": "python",
   "nbconvert_exporter": "python",
   "pygments_lexer": "ipython3",
   "version": "3.9.12"
  }
 },
 "nbformat": 4,
 "nbformat_minor": 4
}
