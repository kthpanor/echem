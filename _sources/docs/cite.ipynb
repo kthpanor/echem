{
 "cells": [
  {
   "cell_type": "markdown",
   "id": "0f254a5c-84af-4408-bc2a-507e2d4c0c18",
   "metadata": {
    "jp-MarkdownHeadingCollapsed": true,
    "tags": []
   },
   "source": [
    "# How to cite and contact\n",
    "\n",
    "This e-book is published under the Creative Commons Attribution-ShareAlike license [CC BY-SA](https://guides.lib.umich.edu/creativecommons/licenses).\n",
    "\n",
    "The general eChem book reference is\n",
    "> Fransson, T., Delcey, M. G., Brumboiu, I. E., Hodecker, M., Li, X., Rinkevicius, Z., Dreuw, A., Rhee, Y. M., and Norman, P. <i>Computational Chemistry from Laptop to HPC : A notebook exploration of quantum chemistry</i>, (KTH Royal Institute of Technology, Stockholm), 2022. [https://doi.org/10.30746/978-91-988114-0-7](https://doi.org/10.30746/978-91-988114-0-7)\n",
    "\n",
    "If you find use for this book in your teaching, please [this article](https://doi.org/10.1021/acs.jchemed.2c01103) describing some of the didactic aspects of eChem.\n",
    "\n",
    "We appreciate any suggestions/comments on the material presented, so do not hesitate to reach out to us either by contacting one of the book authors or by opening a Github issue. If there are sections missing that you wish to contribute, please also contact us.\n",
    "\n",
    "```{figure} ../img/misc/open_issue.png\n",
    ":align: center\n",
    "```"
   ]
  }
 ],
 "metadata": {
  "kernelspec": {
   "display_name": "Python 3 (ipykernel)",
   "language": "python",
   "name": "python3"
  },
  "language_info": {
   "codemirror_mode": {
    "name": "ipython",
    "version": 3
   },
   "file_extension": ".py",
   "mimetype": "text/x-python",
   "name": "python",
   "nbconvert_exporter": "python",
   "pygments_lexer": "ipython3",
   "version": "3.10.9"
  }
 },
 "nbformat": 4,
 "nbformat_minor": 5
}
