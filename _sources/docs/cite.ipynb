{
 "cells": [
  {
   "cell_type": "markdown",
   "id": "0f254a5c-84af-4408-bc2a-507e2d4c0c18",
   "metadata": {
    "jp-MarkdownHeadingCollapsed": true,
    "tags": []
   },
   "source": [
    "# How to cite\n",
    "\n",
    "This e-book is published under the Creative Commons Attribution-ShareAlike license [CC BY-SA](https://guides.lib.umich.edu/creativecommons/licenses).\n",
    "\n",
    "If you find use for this book in your work, please cite the article reference\n",
    "\n",
    "J. Chem. Educ., (2022), submitted\n",
    "\n",
    "We appreciate any suggestions/comments on the material presented, so do not hesitate to reach out to us either by contacting one of the article authors or by opening a Gitlab issue:\n",
    "\n",
    "```{figure} ../img/open_issue.png\n",
    ":align: center\n",
    "```"
   ]
  }
 ],
 "metadata": {
  "kernelspec": {
   "display_name": "Python 3 (ipykernel)",
   "language": "python",
   "name": "python3"
  },
  "language_info": {
   "codemirror_mode": {
    "name": "ipython",
    "version": 3
   },
   "file_extension": ".py",
   "mimetype": "text/x-python",
   "name": "python",
   "nbconvert_exporter": "python",
   "pygments_lexer": "ipython3",
   "version": "3.7.12"
  }
 },
 "nbformat": 4,
 "nbformat_minor": 5
}
