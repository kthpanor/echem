{
 "cells": [
  {
   "cell_type": "markdown",
   "id": "675387a8",
   "metadata": {},
   "source": [
    "# General aspects\n",
    "\n",
    "This section deals with general aspects of concern for explorations of potential energy surfaces. We address the various types of [molecular coordinates](coord), and general approaches to determine [analytical gradients](sec:gradients) and [hessians](hessians:label) at various levels of theory."
   ]
  },
  {
   "cell_type": "code",
   "execution_count": null,
   "id": "14839ad3-b333-4bd0-ab17-dbd48a271d22",
   "metadata": {},
   "outputs": [],
   "source": []
  }
 ],
 "metadata": {
  "kernelspec": {
   "display_name": "Python 3",
   "language": "python",
   "name": "python3"
  },
  "language_info": {
   "codemirror_mode": {
    "name": "ipython",
    "version": 3
   },
   "file_extension": ".py",
   "mimetype": "text/x-python",
   "name": "python",
   "nbconvert_exporter": "python",
   "pygments_lexer": "ipython3",
   "version": "3.6.9"
  }
 },
 "nbformat": 4,
 "nbformat_minor": 5
}
