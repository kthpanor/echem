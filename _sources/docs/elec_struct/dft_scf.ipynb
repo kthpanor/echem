{
 "cells": [
  {
   "cell_type": "markdown",
   "id": "96c75296",
   "metadata": {},
   "source": [
    "# SCF optimization of a closed-shell state\n",
    "\n",
    "The derivation of the [Kohn–Sham equation](kohn-sham-equation) follows closely the Hartree–Fock counterpart and the orbitals that minimize the DFT energy under the contraint of being orthogonal are eigenfuctions to the Kohn–Sham operator that closely resembles the [Fock operator](lagrangian) from Hartree–Fock theory. The Kohn–Sham operator takes the form\n",
    "\n",
    "$$\n",
    "\\hat{f} = \\hat{h} + \\hat{v}_\\mathrm{xc} + \\sum_{j=1}^N \\big( \\hat{J}_j + c_{\\text{x}} \\hat{K}_j \\big)\n",
    "$$\n",
    "\n",
    "where we note that the exchange term in the Fock operator has been at least partially replaced by the exchange–correlation potential\n",
    "\n",
    "$$\n",
    "v_\\mathrm{xc}(\\mathbf{r}) = \\frac{\\delta E_\\mathrm{xc}}{\\delta n(\\mathbf{r})}\n",
    "$$\n",
    "\n",
    "For *pure* functionals, $c_{\\text{x}} = 0$ whereas for *hybrid* functionals, we have $0 < c_{\\text{x}} < 1$.\n",
    "\n",
    "So an existing module for the [SCF optimization of a Hartree–Fock](scf-procedure) state is made capable to optimize a Kohn–Sham state by modifying the Fock operator accordingly. Let us do just that under the assumption that the exchange–correlation functional merely includes [Slater exchange](https://en.wikipedia.org/wiki/Local-density_approximation#Exchange_functional)\n",
    "\n",
    "$$\n",
    "\\varepsilon_\\mathrm{xc}(n(\\mathbf{r})) =\n",
    "-\\frac{3}{4} \\Big(\\frac{3}{\\pi}\\Big)^{1/3} \\big[n(\\mathbf{r})\\big]^{1/3}\n",
    "$$\n",
    "\n",
    "In the LDA, we have\n",
    "\n",
    "$$\n",
    "v_\\mathrm{xc}(\\mathbf{r}) =\n",
    "\\varepsilon_\\mathrm{xc}(n(\\mathbf{r})) + n(\\mathbf{r})\n",
    "\\frac{\\partial \\varepsilon_\\mathrm{xc}}{\\partial n}\n",
    "$$\n",
    "\n",
    "and, in our particular case, we get\n",
    "\n",
    "$$\n",
    "v_\\mathrm{xc}(\\mathbf{r}) = \\frac{4}{3} \\varepsilon_\\mathrm{xc}(n(\\mathbf{r}))\n",
    "$$\n",
    "\n",
    "where\n",
    "\n",
    "$$\n",
    "n(\\mathbf{r}) = 2 \\times \\sum_{i=1}^{N/2} \\left|\\phi_i(\\mathbf{r})\\right|^2\n",
    "$$"
   ]
  },
  {
   "cell_type": "code",
   "execution_count": 1,
   "id": "2d9879b7",
   "metadata": {
    "tags": [
     "remove-output"
    ]
   },
   "outputs": [
    {
     "name": "stdout",
     "output_type": "stream",
     "text": [
      "* Warning * Environment variable OMP_NUM_THREADS not set.\n",
      "* Warning * Setting OMP_NUM_THREADS to 8.\n"
     ]
    }
   ],
   "source": [
    "import veloxchem as vlx\n",
    "import numpy as np\n",
    "import matplotlib.pyplot as plt"
   ]
  },
  {
   "cell_type": "markdown",
   "id": "670cf53f",
   "metadata": {},
   "source": [
    "## Setting up the system"
   ]
  },
  {
   "cell_type": "code",
   "execution_count": 2,
   "id": "88e21c2e",
   "metadata": {},
   "outputs": [
    {
     "name": "stdout",
     "output_type": "stream",
     "text": [
      "Number of contracted basis functions: 13\n",
      "Number of doubly occupied molecular orbitals: 5\n",
      "Nuclear repulsion energy (in a.u.):  9.343638157670\n"
     ]
    }
   ],
   "source": [
    "mol_str = \"\"\"\n",
    "O    0.000000000000        0.000000000000        0.000000000000\n",
    "H    0.000000000000        0.740848095288        0.582094932012\n",
    "H    0.000000000000       -0.740848095288        0.582094932012\n",
    "\"\"\"\n",
    "\n",
    "molecule = vlx.Molecule.read_str(mol_str, units='angstrom')\n",
    "basis = vlx.MolecularBasis.read(molecule, '6-31g')\n",
    "\n",
    "nbas = vlx.MolecularBasis.get_dimensions_of_basis(basis, molecule)\n",
    "nocc = molecule.number_of_electrons() // 2\n",
    "V_nuc = molecule.nuclear_repulsion_energy()\n",
    "\n",
    "print('Number of contracted basis functions:', nbas)\n",
    "print('Number of doubly occupied molecular orbitals:', nocc)\n",
    "print(f'Nuclear repulsion energy (in a.u.): {V_nuc : 14.12f}')"
   ]
  },
  {
   "cell_type": "markdown",
   "id": "ff9035ff",
   "metadata": {},
   "source": [
    "## Reference calculation\n",
    "\n",
    "Let us first perform an reference calculation using the restricted closed-shell SCF driver in VeloxChem."
   ]
  },
  {
   "cell_type": "code",
   "execution_count": 3,
   "id": "43273cce",
   "metadata": {
    "tags": [
     "remove-output"
    ]
   },
   "outputs": [
    {
     "name": "stdout",
     "output_type": "stream",
     "text": [
      "                                                                                                                          \n",
      "                                            Self Consistent Field Driver Setup                                            \n",
      "                                           ====================================                                           \n",
      "                                                                                                                          \n",
      "                   Wave Function Model             : Spin-Restricted Kohn-Sham                                            \n",
      "                   Initial Guess Model             : Superposition of Atomic Densities                                    \n",
      "                   Convergence Accelerator         : Two Level Direct Inversion of Iterative Subspace                     \n",
      "                   Max. Number of Iterations       : 50                                                                   \n",
      "                   Max. Number of Error Vectors    : 10                                                                   \n",
      "                   Convergence Threshold           : 1.0e-06                                                              \n",
      "                   ERI Screening Scheme            : Cauchy Schwarz + Density                                             \n",
      "                   ERI Screening Mode              : Dynamic                                                              \n",
      "                   ERI Screening Threshold         : 1.0e-12                                                              \n",
      "                   Linear Dependence Threshold     : 1.0e-06                                                              \n",
      "                   Exchange-Correlation Functional : SLATER                                                               \n",
      "                   Molecular Grid Level            : 4                                                                    \n",
      "                                                                                                                          \n",
      "* Info * Nuclear repulsion energy: 9.3436381577 a.u.                                                                      \n",
      "                                                                                                                          \n",
      "* Info * Molecular grid with 35884 points generated in 0.01 sec.                                                          \n",
      "                                                                                                                          \n",
      "* Info * Overlap matrix computed in 0.00 sec.                                                                             \n",
      "                                                                                                                          \n",
      "* Info * Kinetic energy matrix computed in 0.00 sec.                                                                      \n",
      "                                                                                                                          \n",
      "* Info * Nuclear potential matrix computed in 0.00 sec.                                                                   \n",
      "                                                                                                                          \n",
      "* Info * Orthogonalization matrix computed in 0.05 sec.                                                                   \n",
      "                                                                                                                          \n",
      "* Info * SAD initial guess computed in 0.00 sec.                                                                          \n",
      "                                                                                                                          \n",
      "* Info * Starting Reduced Basis SCF calculation...                                                                        \n",
      "* Info * ...done. SCF energy in reduced basis set: -75.983338616414 a.u. Time: 0.19 sec.                                  \n",
      "                                                                                                                          \n",
      "* Info * Overlap matrix computed in 0.03 sec.                                                                             \n",
      "                                                                                                                          \n",
      "* Info * Kinetic energy matrix computed in 0.04 sec.                                                                      \n",
      "                                                                                                                          \n",
      "* Info * Nuclear potential matrix computed in 0.03 sec.                                                                   \n",
      "                                                                                                                          \n",
      "* Info * Orthogonalization matrix computed in 0.00 sec.                                                                   \n",
      "                                                                                                                          \n",
      "                                                                                                                          \n",
      "               Iter. |    Kohn-Sham Energy | Energy Change | Gradient Norm | Max. Gradient | Density Change               \n",
      "               --------------------------------------------------------------------------------------------               \n",
      "                  1       -75.150048543941    0.0000000000      0.07684455      0.01397212      0.00000000                \n",
      "                  2       -75.149120620126    0.0009279238      0.12795976      0.02402629      0.04901510                \n",
      "                  3       -75.150580989550   -0.0014603694      0.00073574      0.00015078      0.02962419                \n",
      "                  4       -75.150581061056   -0.0000000715      0.00012978      0.00002856      0.00029238                \n",
      "                  5       -75.150581063103   -0.0000000020      0.00000260      0.00000057      0.00005365                \n",
      "                  6       -75.150581063104   -0.0000000000      0.00000056      0.00000010      0.00000082                \n",
      "                                                                                                                          \n",
      "               *** SCF converged in 6 iterations. Time: 0.47 sec.                                                         \n",
      "                                                                                                                          \n",
      "               Spin-Restricted Kohn-Sham:                                                                                 \n",
      "               --------------------------                                                                                 \n",
      "               Total Energy                       :      -75.1505810631 a.u.                                              \n",
      "               Electronic Energy                  :      -84.4942192208 a.u.                                              \n",
      "               Nuclear Repulsion Energy           :        9.3436381577 a.u.                                              \n",
      "               ------------------------------------                                                                       \n",
      "               Gradient Norm                      :        0.0000005601 a.u.                                              \n",
      "                                                                                                                          \n",
      "                                                                                                                          \n",
      "               Ground State Information                                                                                   \n",
      "               ------------------------                                                                                   \n",
      "               Charge of Molecule            :  0.0                                                                       \n",
      "               Multiplicity (2S+1)           :  1.0                                                                       \n",
      "               Magnetic Quantum Number (M_S) :  0.0                                                                       \n",
      "                                                                                                                          \n",
      "                                                                                                                          \n",
      "                                                 Spin Restricted Orbitals                                                 \n",
      "                                                 ------------------------                                                 \n",
      "                                                                                                                          \n",
      "               Molecular Orbital No.   1:                                                                                 \n",
      "               --------------------------                                                                                 \n",
      "               Occupation: 2.000 Energy:  -18.51511 a.u.                                                                  \n",
      "               (   1 O   1s  :     0.99)                                                                                  \n",
      "                                                                                                                          \n",
      "               Molecular Orbital No.   2:                                                                                 \n",
      "               --------------------------                                                                                 \n",
      "               Occupation: 2.000 Energy:   -0.87529 a.u.                                                                  \n",
      "               (   1 O   1s  :    -0.21) (   1 O   2s  :     0.45) (   1 O   3s  :     0.44)                              \n",
      "               (   1 O   1p0 :     0.17) (   2 H   1s  :     0.16) (   3 H   1s  :     0.16)                              \n",
      "                                                                                                                          \n",
      "               Molecular Orbital No.   3:                                                                                 \n",
      "               --------------------------                                                                                 \n",
      "               Occupation: 2.000 Energy:   -0.42759 a.u.                                                                  \n",
      "               (   1 O   1p-1:     0.52) (   1 O   2p-1:     0.23) (   2 H   1s  :     0.26)                              \n",
      "               (   2 H   2s  :     0.16) (   3 H   1s  :    -0.26) (   3 H   2s  :    -0.16)                              \n",
      "                                                                                                                          \n",
      "               Molecular Orbital No.   4:                                                                                 \n",
      "               --------------------------                                                                                 \n",
      "               Occupation: 2.000 Energy:   -0.24182 a.u.                                                                  \n",
      "               (   1 O   2s  :    -0.21) (   1 O   3s  :    -0.40) (   1 O   1p0 :     0.54)                              \n",
      "               (   1 O   2p0 :     0.38)                                                                                  \n",
      "                                                                                                                          \n",
      "               Molecular Orbital No.   5:                                                                                 \n",
      "               --------------------------                                                                                 \n",
      "               Occupation: 2.000 Energy:   -0.17875 a.u.                                                                  \n",
      "               (   1 O   1p+1:    -0.64) (   1 O   2p+1:    -0.52)                                                        \n",
      "                                                                                                                          \n",
      "               Molecular Orbital No.   6:                                                                                 \n",
      "               --------------------------                                                                                 \n",
      "               Occupation: 0.000 Energy:    0.07527 a.u.                                                                  \n",
      "               (   1 O   2s  :     0.16) (   1 O   3s  :     1.10) (   1 O   1p0 :     0.30)                              \n",
      "               (   1 O   2p0 :     0.43) (   2 H   2s  :    -0.95) (   3 H   2s  :    -0.95)                              \n",
      "                                                                                                                          \n",
      "               Molecular Orbital No.   7:                                                                                 \n",
      "               --------------------------                                                                                 \n",
      "               Occupation: 0.000 Energy:    0.16545 a.u.                                                                  \n",
      "               (   1 O   1p-1:     0.43) (   1 O   2p-1:     0.74) (   2 H   2s  :    -1.31)                              \n",
      "               (   3 H   2s  :     1.31)                                                                                  \n",
      "                                                                                                                          \n",
      "               Molecular Orbital No.   8:                                                                                 \n",
      "               --------------------------                                                                                 \n",
      "               Occupation: 0.000 Energy:    0.82813 a.u.                                                                  \n",
      "               (   1 O   1p-1:     0.15) (   1 O   2p-1:     0.63) (   2 H   1s  :    -0.98)                              \n",
      "               (   2 H   2s  :     0.60) (   3 H   1s  :     0.98) (   3 H   2s  :    -0.60)                              \n",
      "                                                                                                                          \n",
      "               Molecular Orbital No.   9:                                                                                 \n",
      "               --------------------------                                                                                 \n",
      "               Occupation: 0.000 Energy:    0.87488 a.u.                                                                  \n",
      "               (   1 O   1p+1:    -0.96) (   1 O   2p+1:     1.03)                                                        \n",
      "                                                                                                                          \n",
      "               Molecular Orbital No.  10:                                                                                 \n",
      "               --------------------------                                                                                 \n",
      "               Occupation: 0.000 Energy:    0.88179 a.u.                                                                  \n",
      "               (   1 O   3s  :    -0.28) (   1 O   1p0 :     0.93) (   1 O   2p0 :    -0.85)                              \n",
      "               (   2 H   1s  :    -0.44) (   2 H   2s  :     0.51) (   3 H   1s  :    -0.44)                              \n",
      "               (   3 H   2s  :     0.51)                                                                                  \n",
      "                                                                                                                          \n"
     ]
    }
   ],
   "source": [
    "scf_settings = {'conv_thresh': 1.0e-6}\n",
    "method_settings = {'xcfun': 'slater', 'grid_level': 4}\n",
    "\n",
    "scf_drv = vlx.ScfRestrictedDriver()\n",
    "scf_drv.update_settings(scf_settings, method_settings)\n",
    "scf_drv.compute(molecule, basis)"
   ]
  },
  {
   "cell_type": "code",
   "execution_count": 4,
   "id": "b7a9c77c",
   "metadata": {},
   "outputs": [
    {
     "name": "stdout",
     "output_type": "stream",
     "text": [
      "Final DFT energy: -75.15058106 Hartree\n"
     ]
    }
   ],
   "source": [
    "print(f'Final DFT energy: {scf_drv.get_scf_energy() : 12.8f} Hartree')"
   ]
  },
  {
   "cell_type": "code",
   "execution_count": 5,
   "id": "bbfb1f49",
   "metadata": {
    "tags": [
     "remove-cell"
    ]
   },
   "outputs": [],
   "source": [
    "# =============================================================\n",
    "# integrals in AO basis\n",
    "# =============================================================\n",
    "\n",
    "# overlap matrix\n",
    "overlap_drv = vlx.OverlapIntegralsDriver()\n",
    "S = overlap_drv.compute(molecule, basis).to_numpy()\n",
    "\n",
    "# one-electron Hamiltonian\n",
    "kinetic_drv = vlx.KineticEnergyIntegralsDriver()\n",
    "T = kinetic_drv.compute(molecule, basis).to_numpy()\n",
    "\n",
    "nucpot_drv = vlx.NuclearPotentialIntegralsDriver()\n",
    "V = -nucpot_drv.compute(molecule, basis).to_numpy()\n",
    "\n",
    "h = T + V \n",
    "\n",
    "# two-electron Hamiltonian\n",
    "eri_drv = vlx.ElectronRepulsionIntegralsDriver()\n",
    "g = np.zeros((nbas, nbas, nbas, nbas))\n",
    "eri_drv.compute_in_mem(molecule, basis, g)\n",
    "\n",
    "# =============================================================\n",
    "# Fock matrix diagonalization\n",
    "# =============================================================\n",
    "\n",
    "# symmetric transformation\n",
    "sigma, U = np.linalg.eigh(S)\n",
    "X = np.einsum('ik,k,jk->ij', U, 1/np.sqrt(sigma), U)\n",
    "def get_MO_coeff(F):\n",
    "\n",
    "    F_OAO = np.einsum('ki,kl,lj->ij', X, F, X)\n",
    "    epsilon, C_OAO = np.linalg.eigh(F_OAO)    \n",
    "    C = np.einsum(\"ik,kj->ij\", X, C_OAO)\n",
    "    \n",
    "    return C\n",
    "\n",
    "# =============================================================\n",
    "# DIIS convergence acceleration\n",
    "# =============================================================\n",
    "\n",
    "def get_DIIS_fock(F_mats, e_vecs):\n",
    "    \n",
    "    n = len(e_vecs)\n",
    "    \n",
    "    # build DIIS matrix\n",
    "    B = -np.ones((n + 1, n + 1))\n",
    "    B[n, n] = 0\n",
    "\n",
    "    for i in range(n):\n",
    "        for j in range(n):\n",
    "            B[i,j] = np.dot(e_vecs[i], e_vecs[j])\n",
    "            \n",
    "    b = np.zeros(n + 1)\n",
    "    b[n] = -1\n",
    "    \n",
    "    w = np.matmul(np.linalg.inv(B), b)\n",
    "\n",
    "    F_ave = np.zeros((nbas, nbas))\n",
    "    evec_ave = np.zeros(nocc * (nbas - nocc))\n",
    "    for i in range(n):\n",
    "        F_ave += w[i] * F_mats[i]\n",
    "        evec_ave += w[i] * e_vecs[i]\n",
    "        \n",
    "    F_mats[-1] = F_ave\n",
    "    e_vecs[-1] = evec_ave\n",
    "    \n",
    "    return F_ave"
   ]
  },
  {
   "cell_type": "markdown",
   "id": "8ed85472",
   "metadata": {},
   "source": [
    "## XC contribution to Fock matrix\n",
    "\n",
    "The contrbutions from $\\hat{v}_\\mathrm{xc}$ to the Fock operator in the AO matrix representation will be obtained by means of numerical integration. \n",
    "\n",
    "$$\n",
    "F^\\mathrm{xc}_{\\alpha\\beta} = \n",
    "( \\phi_\\alpha | \\hat{v}_\\mathrm{xc} | \\phi_\\beta ) \\approx\n",
    "\\sum_{i=1}^P\n",
    "w_i \\,\n",
    "v_\\mathrm{xc}(\\mathbf{r}_i) \\,\n",
    "\\phi_\\alpha^\\ast(\\mathbf{r}_i)\\phi_\\beta(\\mathbf{r}_i)\n",
    "$$\n",
    "\n",
    "We start by defining a molecular grid with grid points and weights. The number of grid points, $P$, will depend on the chosen grid level accuracy. The default level in VeloxChem is equal to 4."
   ]
  },
  {
   "cell_type": "code",
   "execution_count": 6,
   "id": "a4410295",
   "metadata": {},
   "outputs": [],
   "source": [
    "grid_drv = vlx.veloxchemlib.GridDriver()\n",
    "\n",
    "grid_drv.set_level(4) # default level in VeloxChem\n",
    "\n",
    "mol_grid = grid_drv.generate(molecule)\n",
    "weights = mol_grid.w_to_numpy()"
   ]
  },
  {
   "cell_type": "markdown",
   "id": "108b7fa8",
   "metadata": {},
   "source": [
    "In order to carry out the numerical integration, we need the values of the total density, $n(\\mathbf{r}_i)$, as well as pairs of atomic orbitals, $\\phi_\\alpha^\\ast(\\mathbf{r}_i)\\phi_\\beta(\\mathbf{r}_i)$, on the grid points. \n",
    "\n",
    "VeloxChem provides the class `DensityGridDriver` and the method `generate` to determine the values of densities (as represented by AO density matrices) on the grid points. This gives immediate access to $n(\\mathbf{r}_i)$. \n",
    "\n",
    "To get hold of $\\phi_\\alpha^\\ast(\\mathbf{r}_i)\\phi_\\beta(\\mathbf{r}_i)$, we construct an auxiliary density matrix\n",
    "\n",
    "$$\n",
    "D_{\\gamma\\delta} = \\delta_{\\gamma\\alpha} \\delta_{\\delta\\beta}\n",
    "$$\n",
    "\n",
    "and employ the same routine."
   ]
  },
  {
   "cell_type": "code",
   "execution_count": 7,
   "id": "ace2a1ab",
   "metadata": {},
   "outputs": [],
   "source": [
    "den_drv = vlx.veloxchemlib.DensityGridDriver()\n",
    "xctype = 'LDA' # generate densities but no gradients of densities\n",
    "\n",
    "def LDA_exchange(D):\n",
    "    \n",
    "    F_xc = np.zeros((nbas,nbas))\n",
    "\n",
    "    den_array_format = np.array([D, D])\n",
    "    den_cpp_format = vlx.veloxchemlib.AODensityMatrix(den_array_format, vlx.veloxchemlib.denmat.rest)\n",
    "    den_grid = den_drv.generate(den_cpp_format, molecule, basis, mol_grid, xctype)\n",
    "    den_alpha = den_grid.density_aa_to_numpy(0)\n",
    "    den_beta  = den_grid.density_bb_to_numpy(0)\n",
    "    \n",
    "    n = den_alpha + den_beta # density on the molecular grid\n",
    "    \n",
    "    e_xc = - 0.75 * (3 / np.pi)**(1/3) * n**(1/3)\n",
    "    E_xc = np.dot(weights, n * e_xc)\n",
    "    \n",
    "    v_xc = - (3 / np.pi)**(1/3) * n**(1/3)\n",
    "        \n",
    "    D = np.zeros((nbas,nbas)) # auxiliary density matrix for orbital pairs\n",
    "    \n",
    "    for alpha in range(nbas):\n",
    "        for beta in range(alpha, nbas):\n",
    "\n",
    "            D[alpha, beta] = 1.0\n",
    "\n",
    "            den_array_format = np.array([D, D])\n",
    "            den_cpp_format = vlx.veloxchemlib.AODensityMatrix(den_array_format, vlx.veloxchemlib.denmat.rest)\n",
    "            den_grid = den_drv.generate(den_cpp_format, molecule, basis, mol_grid, xctype)\n",
    "            den_ao_pair = den_grid.density_aa_to_numpy(0)\n",
    "\n",
    "            F_xc[alpha,beta] = np.dot(weights, v_xc * den_ao_pair)\n",
    "            F_xc[beta,alpha] = F_xc[alpha,beta]\n",
    "        \n",
    "            D[alpha, beta] = 0.0\n",
    "\n",
    "    return F_xc, E_xc"
   ]
  },
  {
   "cell_type": "markdown",
   "id": "41980805",
   "metadata": {},
   "source": [
    "## SCF procedure\n",
    "\n",
    "Let us merely modify the Fock matrix in the existing module for the [SCF optimization of a Hartree–Fock](scf-procedure) state and instead converge the Kohn–Sham state. "
   ]
  },
  {
   "cell_type": "code",
   "execution_count": 8,
   "id": "8b9f0dc9",
   "metadata": {
    "scrolled": true,
    "tags": [
     "output_scroll"
    ]
   },
   "outputs": [
    {
     "name": "stdout",
     "output_type": "stream",
     "text": [
      "iter       SCF energy   LDA exchange   Exact exchange   Error norm\n",
      " 0       -68.60921388   -10.70568929     -11.74379335     1.85e+00\n",
      " 1       -67.48094965    -6.48294784      -7.34508108     2.00e+00\n",
      " 2       -75.10007420    -8.01224248      -8.84607844     2.04e-01\n",
      " 3       -75.14419461    -8.18308773      -9.01388976     9.33e-02\n",
      " 4       -75.13644750    -8.00166768      -8.82683360     1.41e-01\n",
      " 5       -75.14997930    -8.08515413      -8.91258142     2.95e-02\n",
      " 6       -75.14726153    -8.15916365      -8.98889501     6.82e-02\n",
      " 7       -75.15045621    -8.11759127      -8.94590180     1.33e-02\n",
      " 8       -75.15058097    -8.10764053      -8.93564110     3.21e-04\n",
      " 9       -75.15058074    -8.10796002      -8.93597181     6.74e-04\n",
      "10       -75.15058074    -8.10795959      -8.93597120     6.77e-04\n",
      "11       -75.15058076    -8.10794182      -8.93595286     6.54e-04\n",
      "12       -75.15058106    -8.10742369      -8.93541839     2.50e-05\n",
      "13       -75.15058106    -8.10746119      -8.93545694     2.35e-05\n",
      "14       -75.15058106    -8.10738396      -8.93537731     7.80e-05\n",
      "15       -75.15058106    -8.10744662      -8.93544192     4.47e-06\n",
      "SCF iterations converged!\n"
     ]
    }
   ],
   "source": [
    "max_iter = 50\n",
    "conv_thresh = 1e-5\n",
    "\n",
    "e_vecs = []\n",
    "F_mats = []\n",
    "\n",
    "# initial guess from core Hamiltonian\n",
    "C = get_MO_coeff(h)\n",
    "\n",
    "print(\"iter       SCF energy   LDA exchange   Exact exchange   Error norm\")\n",
    "\n",
    "for iter in range(max_iter):\n",
    "    \n",
    "    D = np.einsum('ik,jk->ij', C[:, :nocc], C[:, :nocc])\n",
    "        \n",
    "    J = np.einsum('ijkl,kl->ij', g, D)\n",
    "    F = h + 2*J      # no exact exchange in the Fock matrix\n",
    "    \n",
    "    F_xc, E_xc = LDA_exchange(D)\n",
    "    F += F_xc        # add LDA exchange\n",
    "    \n",
    "    F_mats.append(F)\n",
    "    \n",
    "    E = np.einsum('ij,ij->', 2*h + 2*J, D) + V_nuc\n",
    "    E += E_xc\n",
    "\n",
    "    # determine exact exchange for comparison\n",
    "    K = np.einsum('ilkj,kl->ij', g, D)\n",
    "    E_exact_exchange = np.einsum('ij,ij->', -K, D)\n",
    "\n",
    "    # compute convergence metric\n",
    "    F_MO = np.einsum('ki,kl,lj->ij', C, F, C)\n",
    "    e_vecs.append(np.reshape(F_MO[:nocc, nocc:], -1))\n",
    "    error = np.linalg.norm(e_vecs[-1])\n",
    "\n",
    "    print(f'{iter:>2d} {E:18.8f} {E_xc:14.8f} {E_exact_exchange:16.8f} {error:12.2e}')\n",
    "\n",
    "    if error < conv_thresh:\n",
    "        print('SCF iterations converged!')\n",
    "        break\n",
    "        \n",
    "    F = get_DIIS_fock(F_mats, e_vecs)\n",
    "    \n",
    "    C = get_MO_coeff(F)"
   ]
  },
  {
   "cell_type": "markdown",
   "id": "6b14fe45",
   "metadata": {},
   "source": [
    "We note that the final SCF energy equals the one above as obtained in the reference calculation. It is also seen that the LDA exchange energy is some 0.83 Hartree higher than the corresponding exact Hartree–Fock exchange energy."
   ]
  },
  {
   "cell_type": "markdown",
   "id": "1a12baea",
   "metadata": {},
   "source": [
    "## Self-interaction error\n",
    "\n",
    "In Hartee–Fock, the exchange energy equals\n",
    "\n",
    "$$\n",
    "E_{\\mathrm{x}}^\\mathrm{HF} = - \\sum_{i=1}^{N/2} K_{ii}\n",
    "; \\qquad\n",
    "K_{ii} = \\sum_{j=1}^{N/2}\n",
    "( \\phi_i \\phi_j | \\phi_j \\phi_i )\n",
    "$$\n",
    "\n",
    "The term in $K_{ii}$ with $j = i$ cancels the self-interaction in the classical Coulomb electron repulsion energy. In DFT, with an approximate form of the exchange–correlation energy functional, this cancelation is no longer guaranteed.\n",
    "\n",
    "In our case, the DFT exchange energy equals\n",
    "\n",
    "$$\n",
    "E_{\\mathrm{x}}^\\mathrm{LDA} = 2\n",
    "\\sum_{i=1}^{N/2} ( \\phi_i | \\hat{\\varepsilon}_\\mathrm{xc} | \\phi_i ) = \n",
    "\\frac{3}{2} \\sum_{i=1}^{N/2} ( \\phi_i | \\hat{v}_\\mathrm{xc} | \\phi_i ) =\n",
    "\\frac{3}{2} \\sum_{i=1}^{N/2} F^\\mathrm{xc}_{ii}\n",
    "$$\n",
    "\n",
    "where the factor of 2 stems from the double occupancy of orbitals."
   ]
  },
  {
   "cell_type": "code",
   "execution_count": 9,
   "id": "9ef63c26",
   "metadata": {},
   "outputs": [
    {
     "data": {
      "image/png": "[encoded data removed]",
      "text/plain": [
       "<Figure size 576x432 with 1 Axes>"
      ]
     },
     "metadata": {
      "needs_background": "light"
     },
     "output_type": "display_data"
    }
   ],
   "source": [
    "import matplotlib.pyplot as plt\n",
    "\n",
    "F_xc_ii = []\n",
    "K_ii = []\n",
    "g_iiii = []\n",
    "\n",
    "for i in range(nocc):\n",
    "\n",
    "    F_xc_ii.append(np.einsum('a,b,ab->', C[:,i], C[:,i], F_xc))\n",
    "    K_ii.append(np.einsum('a,b,ab->', C[:,i], C[:,i], K))\n",
    "    g_iiii.append(np.einsum('a,b,c,d,abcd->', C[:,i], C[:,i], C[:,i], C[:,i], g)) \n",
    "\n",
    "LDA_x_ii = 1.5 * np.array(F_xc_ii)\n",
    "HF_x_ii = -np.array(K_ii)\n",
    "g_iiii = np.array(g_iiii)\n",
    "    \n",
    "fig = plt.figure(figsize = (8,6))\n",
    "\n",
    "ax = plt.axes(xticks = range(5))\n",
    "\n",
    "ax.scatter(range(nocc), HF_x_ii, label = 'Exact exchange')\n",
    "ax.scatter(range(nocc), LDA_x_ii, label = 'LDA exchange')\n",
    "ax.scatter(range(nocc), -g_iiii, label = r'$-(\\phi_i\\phi_i | \\phi_i\\phi_i)$')\n",
    "\n",
    "ax.legend(fontsize = 12)\n",
    "ax.grid(True)\n",
    "\n",
    "plt.xlabel('Molecular orbital', fontsize = 12)\n",
    "plt.ylabel('Energy (Hartree)', fontsize = 12)\n",
    "\n",
    "plt.show()"
   ]
  },
  {
   "cell_type": "markdown",
   "id": "81d2cc5b",
   "metadata": {},
   "source": [
    "First, we note that the self-interaction energy (SIE) in terms of the integral $(\\phi_i\\phi_i|\\phi_i\\phi_i)$ represents a dominant part of the exchange energy. The percentage contributions exceed 60% for all orbitals and it reaches 97% for the core 1s-orbital."
   ]
  },
  {
   "cell_type": "code",
   "execution_count": 10,
   "id": "59fc1c20",
   "metadata": {},
   "outputs": [
    {
     "name": "stdout",
     "output_type": "stream",
     "text": [
      "SIE percentage part of exchange energy\n",
      "0   97.0%\n",
      "1   64.2%\n",
      "2   73.3%\n",
      "3   77.5%\n",
      "4   76.6%\n"
     ]
    }
   ],
   "source": [
    "print('SIE percentage part of exchange energy')\n",
    "for i in range(5):\n",
    "    print(f'{i} {-g_iiii[i] / HF_x_ii[i] * 100 : 6.1f}%')"
   ]
  },
  {
   "cell_type": "markdown",
   "id": "2ba3fd1c",
   "metadata": {},
   "source": [
    "Second, we note that the LDA exchange energy is closely equal to the exact Hartree–Fock exchange energy for the outer valence orbitals but substantially less so for the core and inner valence orbitals. For the core 1s-orbital, the two results differ by some 0.66 Hartree."
   ]
  },
  {
   "cell_type": "code",
   "execution_count": 11,
   "id": "c021584f",
   "metadata": {},
   "outputs": [
    {
     "name": "stdout",
     "output_type": "stream",
     "text": [
      "Comparison of LDA and HF exchange energies\n",
      "0   86.4%   0.66 a.u.\n",
      "1   87.9%   0.14 a.u.\n",
      "2   99.9%   0.00 a.u.\n",
      "3   98.5%   0.01 a.u.\n",
      "4   99.5%   0.01 a.u.\n"
     ]
    }
   ],
   "source": [
    "print('Comparison of LDA and HF exchange energies')\n",
    "for i in range(5):\n",
    "    print(f'{i} {LDA_x_ii[i] / HF_x_ii[i] * 100 : 6.1f}% {LDA_x_ii[i] - HF_x_ii[i] : 6.2f} a.u.')"
   ]
  },
  {
   "cell_type": "code",
   "execution_count": null,
   "id": "dcfa514e-db07-4b1a-90d9-106a71564a75",
   "metadata": {},
   "outputs": [],
   "source": []
  }
 ],
 "metadata": {
  "celltoolbar": "Tags",
  "kernelspec": {
   "display_name": "Python 3",
   "language": "python",
   "name": "python3"
  },
  "language_info": {
   "codemirror_mode": {
    "name": "ipython",
    "version": 3
   },
   "file_extension": ".py",
   "mimetype": "text/x-python",
   "name": "python",
   "nbconvert_exporter": "python",
   "pygments_lexer": "ipython3",
   "version": "3.8.10"
  }
 },
 "nbformat": 4,
 "nbformat_minor": 5
}
