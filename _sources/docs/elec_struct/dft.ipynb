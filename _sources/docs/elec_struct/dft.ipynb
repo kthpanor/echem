{
 "cells": [
  {
   "cell_type": "markdown",
   "id": "d2af715c",
   "metadata": {},
   "source": [
    "# Density functional theory\n",
    "\n",
    "Since its inception in 1964 {cite}`Hohenberg1964`, density functional theory (DFT) has come a long way from being an obscure modeling tool in physics to its current state of being the leading approach for studies of the electronic structure and properties of molecules and solids. There have been remarkable achievements in applications and development of the theory itself and the foundation principles of DFT are well established by now. Nevertheless, DFT remains a dynamic and evolving research area focused on unresolved questions in theory itself, like the \"symmetry-dilemma\" {cite}`Gorling1993`, and the development of novel exchange–correlation functionals for more accurate electronic structure calculations {cite}`Cohen2012`.\n",
    "\n",
    "The earlier attempts to use DFT for the description of the molecular electronic structure were rather disappointing due to the poor description of the chemical bonding and successful applications of DFT for investigations of the molecular electronic structure first appeared in the late 1980s. It then immediately attracted much attention from the quantum chemistry community. This breakthrough became possible mainly due to the development of accurate exchange–correlation functionals capable of describing chemical bonding in molecules. The later rapid development of new exchange–correlation functionals, and the implementation of DFT methods in most popular quantum chemistry programs lead to the current situation where DFT methods are the most widely used quantum chemistry methods in studies of electronic structure and properties of molecules. The key to this remarkable success of DFT methods was their inherent capability to describe a large fraction of the dynamic electron correlation via approximate exchange–correlation functionals in a computationally inexpensive way. This feature allowed DFT methods to reach an accuracy comparable to more sophisticated *ab inito* methods in most practical calculations.\n",
    "\n",
    "In this section, we will discuss:\n",
    "- The [Hohenberg--Kuhn theorems](hohenberg), which form the foundation of DFT\n",
    "- The [Kohn--Sham method](kohn-sham), which provide a formulation of DFT which closely resembles that of Hartree--Fock\n",
    "- Issues of numerical [kernel integration](kernel_int)\n",
    "- An example of an explicit [SCF optimization](dft_scf)\n",
    "- The calculation of [first-order properties](dft_prop)\n",
    "- Exchange-correlation functionals [available in VeloxChem](available_xcfun)"
   ]
  }
 ],
 "metadata": {
  "kernelspec": {
   "display_name": "Python 3 (ipykernel)",
   "language": "python",
   "name": "python3"
  },
  "language_info": {
   "codemirror_mode": {
    "name": "ipython",
    "version": 3
   },
   "file_extension": ".py",
   "mimetype": "text/x-python",
   "name": "python",
   "nbconvert_exporter": "python",
   "pygments_lexer": "ipython3",
   "version": "3.11.7"
  }
 },
 "nbformat": 4,
 "nbformat_minor": 5
}
