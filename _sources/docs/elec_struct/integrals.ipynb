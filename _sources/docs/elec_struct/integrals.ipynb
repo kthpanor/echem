{
 "cells": [
  {
   "cell_type": "markdown",
   "id": "7687840c-a8c9-4edc-b1a6-e1a3e36e66f6",
   "metadata": {},
   "source": [
    "(sec:integrals)=\n",
    "# Integrals\n",
    "\n",
    "## Exposure to Python layer\n",
    "\n",
    "Several integrals are exposed to the Python layer in VeloxChem."
   ]
  },
  {
   "cell_type": "code",
   "execution_count": 7,
   "id": "be0a6a49-3e96-407d-966a-18418f0a872e",
   "metadata": {
    "tags": [
     "remove-output"
    ]
   },
   "outputs": [
    {
     "name": "stdout",
     "output_type": "stream",
     "text": [
      "* Info * Reading basis set from file: /Users/panor/opt/miniconda3/envs/vlxnb/lib/python3.10/site-packages/veloxchem/basis/CC-PVDZ\n",
      "                                                                                                                          \n",
      "                                              Molecular Basis (Atomic Basis)                                              \n",
      "                                             ================================                                             \n",
      "                                                                                                                          \n",
      "                                  Basis: CC-PVDZ                                                                          \n",
      "                                                                                                                          \n",
      "                                  Atom Contracted GTOs          Primitive GTOs                                            \n",
      "                                                                                                                          \n",
      "                                   O   (3S,2P,1D)               (17S,4P,1D)                                               \n",
      "                                   H   (2S,1P)                  (4S,1P)                                                   \n",
      "                                                                                                                          \n",
      "                                  Contracted Basis Functions : 24                                                         \n",
      "                                  Primitive Basis Functions  : 48                                                         \n",
      "                                                                                                                          \n"
     ]
    }
   ],
   "source": [
    "import numpy as np\n",
    "import veloxchem as vlx\n",
    "\n",
    "mol_str = \"\"\"\n",
    "O    0.000000000000        0.000000000000        0.000000000000\n",
    "H    0.000000000000        0.740848095288        0.582094932012\n",
    "H    0.000000000000       -0.740848095288        0.582094932012\n",
    "\"\"\"\n",
    "\n",
    "molecule = vlx.Molecule.read_str(mol_str, units=\"angstrom\")\n",
    "basis = vlx.MolecularBasis.read(molecule, \"cc-pVDZ\")"
   ]
  },
  {
   "cell_type": "markdown",
   "id": "cecaa921-115a-4dea-b4b5-55c5a8218bba",
   "metadata": {},
   "source": [
    "### Overlap"
   ]
  },
  {
   "cell_type": "code",
   "execution_count": 8,
   "id": "5f81e466-4b79-448a-a5d9-6502f0322404",
   "metadata": {},
   "outputs": [],
   "source": [
    "overlap_drv = vlx.OverlapIntegralsDriver()\n",
    "\n",
    "S = overlap_drv.compute(molecule, basis).to_numpy()"
   ]
  },
  {
   "cell_type": "markdown",
   "id": "863c0682-d319-48ca-8c63-879d233616e4",
   "metadata": {
    "tags": [
     "remove-output"
    ]
   },
   "source": [
    "### Kinetic energy"
   ]
  },
  {
   "cell_type": "code",
   "execution_count": 12,
   "id": "ba01be16-fb12-4de2-ac93-4a964185baa1",
   "metadata": {},
   "outputs": [],
   "source": [
    "# one-electron Hamiltonian\n",
    "kinetic_drv = vlx.KineticEnergyIntegralsDriver()\n",
    "\n",
    "T = kinetic_drv.compute(molecule, basis).to_numpy()"
   ]
  },
  {
   "cell_type": "markdown",
   "id": "38784c15-1c9d-4dc6-92b6-f6a95c5bebf5",
   "metadata": {},
   "source": [
    "### Nuclear potential"
   ]
  },
  {
   "cell_type": "code",
   "execution_count": 13,
   "id": "6d67fd27-206b-4db4-b089-3a73f457ab4f",
   "metadata": {},
   "outputs": [],
   "source": [
    "nucpot_drv = vlx.NuclearPotentialIntegralsDriver()\n",
    "\n",
    "V = -1.0 * nucpot_drv.compute(molecule, basis).to_numpy()"
   ]
  },
  {
   "cell_type": "markdown",
   "id": "2a5337f9-d94b-4dac-ac66-e22ed9cb4fca",
   "metadata": {},
   "source": [
    "### One-electron Hamiltonian"
   ]
  },
  {
   "cell_type": "code",
   "execution_count": 14,
   "id": "e7dc8ef7-5943-40e1-9117-c44aebfb0bdb",
   "metadata": {},
   "outputs": [],
   "source": [
    "h = T + V"
   ]
  },
  {
   "cell_type": "markdown",
   "id": "5ef22b76-8f5f-42fd-aec7-bf75e9b89806",
   "metadata": {},
   "source": [
    "### Electric dipole moment"
   ]
  },
  {
   "cell_type": "code",
   "execution_count": 23,
   "id": "a116fc63-3c72-4fec-bd8b-b9ed011482f0",
   "metadata": {},
   "outputs": [],
   "source": [
    "dipole_drv = vlx.ElectricDipoleIntegralsDriver()\n",
    "\n",
    "dipole_mats = dipole_drv.compute(molecule, basis)\n",
    "\n",
    "mu_x = -1.0 * dipole_mats.x_to_numpy()\n",
    "mu_y = -1.0 * dipole_mats.y_to_numpy()\n",
    "mu_z = -1.0 * dipole_mats.z_to_numpy()"
   ]
  },
  {
   "cell_type": "markdown",
   "id": "0dfe06bb-aff6-40d3-baef-d5274416a90d",
   "metadata": {},
   "source": [
    "### Electron repulsion integrals"
   ]
  },
  {
   "cell_type": "code",
   "execution_count": 33,
   "id": "930ab4ba-9fea-49e8-b105-04eeb54e7953",
   "metadata": {},
   "outputs": [
    {
     "name": "stdout",
     "output_type": "stream",
     "text": [
      "(24, 24, 24, 24)\n"
     ]
    }
   ],
   "source": [
    "eri_drv = vlx.ElectronRepulsionIntegralsDriver()\n",
    "\n",
    "g = eri_drv.compute_in_memory(molecule, basis)\n",
    "\n",
    "print(g.shape)"
   ]
  },
  {
   "cell_type": "markdown",
   "id": "a493579c-e813-4a00-bb45-741a5daa9f5c",
   "metadata": {},
   "source": [
    "## Integral transformation\n",
    "\n",
    "### Conventional\n",
    "\n",
    "Most correlated wavefunction theories rely on the integrals in the molecular orbital basis. For some methods, like Møller-Plesset second order perturbation theory, this step is even the most time-consuming step of the calculation.\n",
    "\n",
    "Conventionally, this is done by transforming the atomic orbital integrals (a four-dimensional tensor) to molecular basis. For example the $\\langle ij|ab \\rangle$ integrals can be obtained via\n",
    "\n",
    "\\begin{eqnarray*}\n",
    "\\langle \\mu \\nu|\\lambda b \\rangle &= \\sum_{\\sigma} C_{\\sigma b} \\langle \\mu \\nu | \\lambda \\sigma \\rangle \\\\\n",
    "\\langle \\mu \\nu|a b \\rangle &= \\sum_{\\lambda} C_{\\lambda a} \\langle \\mu \\nu | \\lambda b \\rangle \\\\\n",
    "\\langle \\mu j|a b \\rangle &= \\sum_{\\nu} C_{\\nu j} \\langle \\mu \\nu | a b \\rangle \\\\\n",
    "\\langle i j|a b \\rangle &= \\sum_{\\mu} C_{\\mu i} \\langle \\mu j | a b \\rangle\n",
    "\\end{eqnarray*}\n",
    "\n",
    "where $\\mu$, $\\nu$, $\\lambda$ and $\\sigma$ denote the atomic orbitals.\n",
    "The computational cost of this procedure is $O(N^5)$, since each summation involves five indices. Note that the intermediate result of the transformation needs to be explicitly stored in memory. This can be demanding as the required memory increases as $O(N^4)$ where $N$ is the number of contracted basis functions."
   ]
  },
  {
   "cell_type": "code",
   "execution_count": 20,
   "id": "58c13de1-f386-46cc-b35b-7e4a9888d4f6",
   "metadata": {
    "scrolled": true,
    "tags": [
     "remove-output"
    ]
   },
   "outputs": [
    {
     "name": "stdout",
     "output_type": "stream",
     "text": [
      "                                                                                                                          \n",
      "                                            Self Consistent Field Driver Setup                                            \n",
      "                                           ====================================                                           \n",
      "                                                                                                                          \n",
      "                   Wave Function Model             : Spin-Restricted Hartree-Fock                                         \n",
      "                   Initial Guess Model             : Superposition of Atomic Densities                                    \n",
      "                   Convergence Accelerator         : Two Level Direct Inversion of Iterative Subspace                     \n",
      "                   Max. Number of Iterations       : 50                                                                   \n",
      "                   Max. Number of Error Vectors    : 10                                                                   \n",
      "                   Convergence Threshold           : 1.0e-06                                                              \n",
      "                   ERI Screening Scheme            : Cauchy Schwarz + Density                                             \n",
      "                   ERI Screening Mode              : Dynamic                                                              \n",
      "                   ERI Screening Threshold         : 1.0e-12                                                              \n",
      "                   Linear Dependence Threshold     : 1.0e-06                                                              \n",
      "                                                                                                                          \n",
      "* Info * Nuclear repulsion energy: 9.3436381577 a.u.                                                                      \n",
      "                                                                                                                          \n",
      "* Info * Overlap matrix computed in 0.00 sec.                                                                             \n",
      "                                                                                                                          \n",
      "* Info * Kinetic energy matrix computed in 0.00 sec.                                                                      \n",
      "                                                                                                                          \n",
      "* Info * Nuclear potential matrix computed in 0.00 sec.                                                                   \n",
      "                                                                                                                          \n",
      "* Info * Orthogonalization matrix computed in 0.00 sec.                                                                   \n",
      "                                                                                                                          \n",
      "* Info * SAD initial guess computed in 0.00 sec.                                                                          \n",
      "                                                                                                                          \n",
      "* Info * Starting Reduced Basis SCF calculation...                                                                        \n",
      "* Info * ...done. SCF energy in reduced basis set: -75.979046359571 a.u. Time: 0.10 sec.                                  \n",
      "                                                                                                                          \n",
      "* Info * Overlap matrix computed in 0.00 sec.                                                                             \n",
      "                                                                                                                          \n",
      "* Info * Kinetic energy matrix computed in 0.00 sec.                                                                      \n",
      "                                                                                                                          \n",
      "* Info * Nuclear potential matrix computed in 0.00 sec.                                                                   \n",
      "                                                                                                                          \n",
      "* Info * Orthogonalization matrix computed in 0.00 sec.                                                                   \n",
      "                                                                                                                          \n",
      "                                                                                                                          \n",
      "               Iter. | Hartree-Fock Energy | Energy Change | Gradient Norm | Max. Gradient | Density Change               \n",
      "               --------------------------------------------------------------------------------------------               \n",
      "                  1       -76.025869744700    0.0000000000      0.09892066      0.01121867      0.00000000                \n",
      "                  2       -76.026932827150   -0.0010630825      0.01920269      0.00294570      0.02594960                \n",
      "                  3       -76.026981056596   -0.0000482294      0.00412658      0.00076652      0.00507499                \n",
      "                  4       -76.026983601529   -0.0000025449      0.00247905      0.00043111      0.00166621                \n",
      "                  5       -76.026984175646   -0.0000005741      0.00021766      0.00003639      0.00052311                \n",
      "                  6       -76.026984187024   -0.0000000114      0.00003206      0.00000540      0.00012084                \n",
      "                  7       -76.026984187255   -0.0000000002      0.00000208      0.00000029      0.00001663                \n",
      "                  8       -76.026984187255   -0.0000000000      0.00000053      0.00000008      0.00000087                \n",
      "                                                                                                                          \n",
      "               *** SCF converged in 8 iterations. Time: 1.01 sec.                                                         \n",
      "                                                                                                                          \n",
      "               Spin-Restricted Hartree-Fock:                                                                              \n",
      "               -----------------------------                                                                              \n",
      "               Total Energy                       :      -76.0269841873 a.u.                                              \n",
      "               Electronic Energy                  :      -85.3706223449 a.u.                                              \n",
      "               Nuclear Repulsion Energy           :        9.3436381577 a.u.                                              \n",
      "               ------------------------------------                                                                       \n",
      "               Gradient Norm                      :        0.0000005316 a.u.                                              \n",
      "                                                                                                                          \n",
      "                                                                                                                          \n",
      "               Ground State Information                                                                                   \n",
      "               ------------------------                                                                                   \n",
      "               Charge of Molecule            :  0.0                                                                       \n",
      "               Multiplicity (2S+1)           :  1.0                                                                       \n",
      "               Magnetic Quantum Number (M_S) :  0.0                                                                       \n",
      "                                                                                                                          \n",
      "                                                                                                                          \n",
      "                                                 Spin Restricted Orbitals                                                 \n",
      "                                                 ------------------------                                                 \n",
      "                                                                                                                          \n",
      "               Molecular Orbital No.   1:                                                                                 \n",
      "               --------------------------                                                                                 \n",
      "               Occupation: 2.000 Energy:  -20.54819 a.u.                                                                  \n",
      "               (   1 O   1s  :    -1.00)                                                                                  \n",
      "                                                                                                                          \n",
      "               Molecular Orbital No.   2:                                                                                 \n",
      "               --------------------------                                                                                 \n",
      "               Occupation: 2.000 Energy:   -1.34520 a.u.                                                                  \n",
      "               (   1 O   2s  :     0.44) (   1 O   3s  :     0.36) (   2 H   1s  :     0.20)                              \n",
      "               (   3 H   1s  :     0.20)                                                                                  \n",
      "                                                                                                                          \n",
      "               Molecular Orbital No.   3:                                                                                 \n",
      "               --------------------------                                                                                 \n",
      "               Occupation: 2.000 Energy:   -0.70585 a.u.                                                                  \n",
      "               (   1 O   1p-1:    -0.49) (   1 O   2p-1:    -0.22) (   2 H   1s  :    -0.33)                              \n",
      "               (   3 H   1s  :     0.33)                                                                                  \n",
      "                                                                                                                          \n",
      "               Molecular Orbital No.   4:                                                                                 \n",
      "               --------------------------                                                                                 \n",
      "               Occupation: 2.000 Energy:   -0.57109 a.u.                                                                  \n",
      "               (   1 O   2s  :    -0.15) (   1 O   3s  :    -0.36) (   1 O   1p0 :     0.55)                              \n",
      "               (   1 O   2p0 :     0.36) (   2 H   1s  :     0.21) (   3 H   1s  :     0.21)                              \n",
      "                                                                                                                          \n",
      "               Molecular Orbital No.   5:                                                                                 \n",
      "               --------------------------                                                                                 \n",
      "               Occupation: 2.000 Energy:   -0.49457 a.u.                                                                  \n",
      "               (   1 O   1p+1:     0.63) (   1 O   2p+1:     0.49)                                                        \n",
      "                                                                                                                          \n",
      "               Molecular Orbital No.   6:                                                                                 \n",
      "               --------------------------                                                                                 \n",
      "               Occupation: 0.000 Energy:    0.18787 a.u.                                                                  \n",
      "               (   1 O   3s  :    -1.02) (   1 O   1p0 :    -0.19) (   1 O   2p0 :    -0.33)                              \n",
      "               (   2 H   2s  :     0.83) (   3 H   2s  :     0.83)                                                        \n",
      "                                                                                                                          \n",
      "               Molecular Orbital No.   7:                                                                                 \n",
      "               --------------------------                                                                                 \n",
      "               Occupation: 0.000 Energy:    0.25852 a.u.                                                                  \n",
      "               (   1 O   1p-1:     0.28) (   1 O   2p-1:     0.67) (   2 H   2s  :    -1.48)                              \n",
      "               (   3 H   2s  :     1.48)                                                                                  \n",
      "                                                                                                                          \n",
      "               Molecular Orbital No.   8:                                                                                 \n",
      "               --------------------------                                                                                 \n",
      "               Occupation: 0.000 Energy:    0.79749 a.u.                                                                  \n",
      "               (   1 O   1p-1:    -0.26) (   1 O   2p-1:    -0.49) (   2 H   1s  :     0.95)                              \n",
      "               (   2 H   2s  :    -0.66) (   2 H   1p0 :     0.16) (   3 H   1s  :    -0.95)                              \n",
      "               (   3 H   2s  :     0.66) (   3 H   1p0 :    -0.16)                                                        \n",
      "                                                                                                                          \n",
      "               Molecular Orbital No.   9:                                                                                 \n",
      "               --------------------------                                                                                 \n",
      "               Occupation: 0.000 Energy:    0.87271 a.u.                                                                  \n",
      "               (   1 O   2s  :     0.25) (   1 O   3s  :    -0.34) (   1 O   1p0 :     0.34)                              \n",
      "               (   2 H   1s  :    -0.77) (   2 H   2s  :     0.54) (   2 H   1p-1:    -0.31)                              \n",
      "               (   3 H   1s  :    -0.77) (   3 H   2s  :     0.54) (   3 H   1p-1:     0.31)                              \n",
      "                                                                                                                          \n",
      "               Molecular Orbital No.  10:                                                                                 \n",
      "               --------------------------                                                                                 \n",
      "               Occupation: 0.000 Energy:    1.16315 a.u.                                                                  \n",
      "               (   1 O   3s  :     0.78) (   1 O   1p0 :    -0.74) (   1 O   2p0 :     1.31)                              \n",
      "               (   2 H   1s  :    -0.59) (   2 H   1p0 :     0.24) (   3 H   1s  :    -0.59)                              \n",
      "               (   3 H   1p0 :     0.24)                                                                                  \n",
      "                                                                                                                          \n"
     ]
    }
   ],
   "source": [
    "# get the MO coefficients\n",
    "\n",
    "scf_drv = vlx.ScfRestrictedDriver()\n",
    "scf_drv.compute(molecule, basis)\n",
    "\n",
    "C = scf_drv.scf_tensors[\"C_alpha\"]"
   ]
  },
  {
   "cell_type": "code",
   "execution_count": 34,
   "id": "b0617e4c-9ba8-481c-900c-0aa89a6e4c6c",
   "metadata": {},
   "outputs": [
    {
     "name": "stdout",
     "output_type": "stream",
     "text": [
      "(24, 24, 24, 24)\n"
     ]
    }
   ],
   "source": [
    "g_1 = np.einsum(\"ds, abcd -> abcs\", C, g)\n",
    "g_2 = np.einsum(\"cr, abcs -> abrs\", C, g_1)\n",
    "g_3 = np.einsum(\"bq, abrs -> aqrs\", C, g_2)\n",
    "\n",
    "g_mo = np.einsum(\"ap, aqrs -> pqrs\", C, g_3)\n",
    "\n",
    "print(g_mo.shape)"
   ]
  },
  {
   "cell_type": "markdown",
   "id": "d3afae0b-2947-415c-ac65-8a4cb7541464",
   "metadata": {},
   "source": [
    "Specific blocks a ERIs are made available directly in the MO basis, both in the physicist's and the chemist's notation."
   ]
  },
  {
   "cell_type": "code",
   "execution_count": 31,
   "id": "3d542821-7076-4dd7-b56f-816259a361db",
   "metadata": {},
   "outputs": [
    {
     "name": "stdout",
     "output_type": "stream",
     "text": [
      "(5, 19, 19, 5)\n",
      "(5, 5, 19, 19)\n"
     ]
    }
   ],
   "source": [
    "erimo_drv = vlx.MOIntegralsDriver()\n",
    "\n",
    "# [ov|vo]\n",
    "phys_ovvo = erimo_drv.compute_in_memory(molecule, basis, scf_drv.mol_orbs, \"phys_ovvo\")\n",
    "\n",
    "print(phys_ovvo.shape)\n",
    "\n",
    "# (oo|vv)\n",
    "chem_oovv = erimo_drv.compute_in_memory(molecule, basis, scf_drv.mol_orbs, \"chem_oovv\")\n",
    "\n",
    "print(chem_oovv.shape)"
   ]
  },
  {
   "cell_type": "markdown",
   "id": "895770d1-0592-4690-83ce-2dc843cba4ba",
   "metadata": {},
   "source": [
    "### Fock-matrix driven\n",
    "\n",
    "An alternative way of getting the molecular orbital integrals is through the direct formation of many Fock matrices. Taking the $\\langle ij|ab \\rangle$ integrals as an example, we can in practice build $N_{occ} \\times N_{occ}$ density matrices using the coefficients of the occupied orbitals, and form the corresponding Fock matrices that can then be transformed into molecular basis by the coefficients of the virtual orbitals. \n",
    "\n",
    "\\begin{eqnarray*}\n",
    "D^{ij}_{\\mu \\nu} &= C_{\\mu i} C_{\\nu j} \\\\\n",
    "K^{ij}_{\\lambda \\sigma} &= \\sum_{\\mu\\nu} \\langle \\mu \\nu| \\lambda \\sigma \\rangle D^{ij}_{\\mu\\nu} \\\\\n",
    "\\langle ij|ab \\rangle &= \\sum_{\\lambda \\sigma} C_{\\lambda a} K^{ij}_{\\lambda \\sigma} C_{\\sigma b}\n",
    "\\end{eqnarray*}\n",
    "\n",
    "The computational cost of this approach is formally $O(N^6)$; however, in practice the cost scales between $O(N^4)$ and $O(N^5)$ due to screening of integrals in the formation of Fock matrices. An advantage of this approach is that the Fock matrices can be computed and stored on individual compute nodes, making it suitable for large-scale parallelization on HPC systems."
   ]
  }
 ],
 "metadata": {
  "kernelspec": {
   "display_name": "Python 3 (ipykernel)",
   "language": "python",
   "name": "python3"
  },
  "language_info": {
   "codemirror_mode": {
    "name": "ipython",
    "version": 3
   },
   "file_extension": ".py",
   "mimetype": "text/x-python",
   "name": "python",
   "nbconvert_exporter": "python",
   "pygments_lexer": "ipython3",
   "version": "3.10.6"
  }
 },
 "nbformat": 4,
 "nbformat_minor": 5
}
