{
 "cells": [
  {
   "cell_type": "markdown",
   "id": "7687840c-a8c9-4edc-b1a6-e1a3e36e66f6",
   "metadata": {},
   "source": [
    "(sec:integrals)=\n",
    "# Integrals\n",
    "\n",
    "## Exposure to Python layer\n",
    "\n",
    "Several integrals are exposed to the Python layer in VeloxChem."
   ]
  },
  {
   "cell_type": "code",
   "execution_count": 17,
   "id": "be0a6a49-3e96-407d-966a-18418f0a872e",
   "metadata": {
    "tags": [
     "remove-output"
    ]
   },
   "outputs": [
    {
     "name": "stdout",
     "output_type": "stream",
     "text": [
      "* Info * Reading basis set from file: /home/thomas/Notebook/anaconda/envs/echem/lib/python3.10/site-packages/veloxchem/basis/CC-PVDZ\n",
      "                                                                                                                          \n",
      "                                              Molecular Basis (Atomic Basis)                                              \n",
      "                                             ================================                                             \n",
      "                                                                                                                          \n",
      "                               Basis: CC-PVDZ                                                                             \n",
      "                                                                                                                          \n",
      "                               Atom Contracted GTOs           Primitive GTOs                                              \n",
      "                                                                                                                          \n",
      "                                O   (3S,2P,1D)                (17S,4P,1D)                                                 \n",
      "                                H   (2S,1P)                   (4S,1P)                                                     \n",
      "                                                                                                                          \n",
      "                               Contracted Basis Functions : 24                                                            \n",
      "                               Primitive Basis Functions  : 48                                                            \n",
      "                                                                                                                          \n"
     ]
    }
   ],
   "source": [
    "import numpy as np\n",
    "import veloxchem as vlx\n",
    "\n",
    "mol_str = \"\"\"3\n",
    "\n",
    "O    0.000000000000        0.000000000000        0.000000000000\n",
    "H    0.000000000000        0.740848095288        0.582094932012\n",
    "H    0.000000000000       -0.740848095288        0.582094932012\n",
    "\"\"\"\n",
    "\n",
    "molecule = vlx.Molecule.from_xyz_string(mol_str)\n",
    "basis = vlx.MolecularBasis.read(molecule, \"cc-pVDZ\")"
   ]
  },
  {
   "cell_type": "code",
   "execution_count": 18,
   "id": "dd1ae7e0-643d-47d6-aaaa-910720d52620",
   "metadata": {
    "tags": [
     "remove-input"
    ]
   },
   "outputs": [
    {
     "data": {
      "application/3dmoljs_load.v0": "<div id=\"3dmolviewer_16788674057418067\"  style=\"position: relative; width: 300px; height: 200px\">\n        <p id=\"3dmolwarning_16788674057418067\" style=\"background-color:#ffcccc;color:black\">You appear to be running in JupyterLab (or JavaScript failed to load for some other reason).  You need to install the 3dmol extension: <br>\n        <tt>jupyter labextension install jupyterlab_3dmol</tt></p>\n        </div>\n<script>\n\nvar loadScriptAsync = function(uri){\n  return new Promise((resolve, reject) => {\n    //this is to ignore the existence of requirejs amd\n    var savedexports, savedmodule;\n    if (typeof exports !== 'undefined') savedexports = exports;\n    else exports = {}\n    if (typeof module !== 'undefined') savedmodule = module;\n    else module = {}\n\n    var tag = document.createElement('script');\n    tag.src = uri;\n    tag.async = true;\n    tag.onload = () => {\n        exports = savedexports;\n        module = savedmodule;\n        resolve();\n    };\n  var firstScriptTag = document.getElementsByTagName('script')[0];\n  firstScriptTag.parentNode.insertBefore(tag, firstScriptTag);\n});\n};\n\nif(typeof $3Dmolpromise === 'undefined') {\n$3Dmolpromise = null;\n  $3Dmolpromise = loadScriptAsync('https://cdnjs.cloudflare.com/ajax/libs/3Dmol/2.0.1/3Dmol-min.js');\n}\n\nvar viewer_16788674057418067 = null;\nvar warn = document.getElementById(\"3dmolwarning_16788674057418067\");\nif(warn) {\n    warn.parentNode.removeChild(warn);\n}\n$3Dmolpromise.then(function() {\nviewer_16788674057418067 = $3Dmol.createViewer(document.getElementById(\"3dmolviewer_16788674057418067\"),{backgroundColor:\"white\"});\nviewer_16788674057418067.zoomTo();\n\tviewer_16788674057418067.addModel(\"3\\n\\nO    0.000000000000        0.000000000000        0.000000000000\\nH    0.000000000000        0.740848095288        0.582094932012\\nH    0.000000000000       -0.740848095288        0.582094932012\\n\",\"xyz\");\n\tviewer_16788674057418067.setViewStyle({\"style\": \"outline\", \"width\": 0.05});\n\tviewer_16788674057418067.setStyle({\"stick\": {}, \"sphere\": {\"scale\": 0.25}});\n\tviewer_16788674057418067.rotate(90,\"y\");\n\tviewer_16788674057418067.rotate(-90,\"x\");\n\tviewer_16788674057418067.zoomTo();\nviewer_16788674057418067.render();\n});\n</script>",
      "text/html": [
       "<div id=\"3dmolviewer_16788674057418067\"  style=\"position: relative; width: 300px; height: 200px\">\n",
       "        <p id=\"3dmolwarning_16788674057418067\" style=\"background-color:#ffcccc;color:black\">You appear to be running in JupyterLab (or JavaScript failed to load for some other reason).  You need to install the 3dmol extension: <br>\n",
       "        <tt>jupyter labextension install jupyterlab_3dmol</tt></p>\n",
       "        </div>\n",
       "<script>\n",
       "\n",
       "var loadScriptAsync = function(uri){\n",
       "  return new Promise((resolve, reject) => {\n",
       "    //this is to ignore the existence of requirejs amd\n",
       "    var savedexports, savedmodule;\n",
       "    if (typeof exports !== 'undefined') savedexports = exports;\n",
       "    else exports = {}\n",
       "    if (typeof module !== 'undefined') savedmodule = module;\n",
       "    else module = {}\n",
       "\n",
       "    var tag = document.createElement('script');\n",
       "    tag.src = uri;\n",
       "    tag.async = true;\n",
       "    tag.onload = () => {\n",
       "        exports = savedexports;\n",
       "        module = savedmodule;\n",
       "        resolve();\n",
       "    };\n",
       "  var firstScriptTag = document.getElementsByTagName('script')[0];\n",
       "  firstScriptTag.parentNode.insertBefore(tag, firstScriptTag);\n",
       "});\n",
       "};\n",
       "\n",
       "if(typeof $3Dmolpromise === 'undefined') {\n",
       "$3Dmolpromise = null;\n",
       "  $3Dmolpromise = loadScriptAsync('https://cdnjs.cloudflare.com/ajax/libs/3Dmol/2.0.1/3Dmol-min.js');\n",
       "}\n",
       "\n",
       "var viewer_16788674057418067 = null;\n",
       "var warn = document.getElementById(\"3dmolwarning_16788674057418067\");\n",
       "if(warn) {\n",
       "    warn.parentNode.removeChild(warn);\n",
       "}\n",
       "$3Dmolpromise.then(function() {\n",
       "viewer_16788674057418067 = $3Dmol.createViewer(document.getElementById(\"3dmolviewer_16788674057418067\"),{backgroundColor:\"white\"});\n",
       "viewer_16788674057418067.zoomTo();\n",
       "\tviewer_16788674057418067.addModel(\"3\\n\\nO    0.000000000000        0.000000000000        0.000000000000\\nH    0.000000000000        0.740848095288        0.582094932012\\nH    0.000000000000       -0.740848095288        0.582094932012\\n\",\"xyz\");\n",
       "\tviewer_16788674057418067.setViewStyle({\"style\": \"outline\", \"width\": 0.05});\n",
       "\tviewer_16788674057418067.setStyle({\"stick\": {}, \"sphere\": {\"scale\": 0.25}});\n",
       "\tviewer_16788674057418067.rotate(90,\"y\");\n",
       "\tviewer_16788674057418067.rotate(-90,\"x\");\n",
       "\tviewer_16788674057418067.zoomTo();\n",
       "viewer_16788674057418067.render();\n",
       "});\n",
       "</script>"
      ]
     },
     "metadata": {},
     "output_type": "display_data"
    }
   ],
   "source": [
    "import py3Dmol as p3d\n",
    "viewer = p3d.view(width=300, height=200)\n",
    "viewer.addModel(mol_str, 'xyz')\n",
    "viewer.setViewStyle({\"style\": \"outline\", \"width\": 0.05})\n",
    "viewer.setStyle({\"stick\":{},\"sphere\": {\"scale\":0.25}})\n",
    "viewer.rotate(90,'y')\n",
    "viewer.rotate(-90,'x')\n",
    "viewer.show()"
   ]
  },
  {
   "cell_type": "markdown",
   "id": "cecaa921-115a-4dea-b4b5-55c5a8218bba",
   "metadata": {},
   "source": [
    "### Overlap"
   ]
  },
  {
   "cell_type": "code",
   "execution_count": 2,
   "id": "5f81e466-4b79-448a-a5d9-6502f0322404",
   "metadata": {},
   "outputs": [],
   "source": [
    "overlap_drv = vlx.OverlapIntegralsDriver()\n",
    "S = overlap_drv.compute(molecule, basis).to_numpy()"
   ]
  },
  {
   "cell_type": "markdown",
   "id": "863c0682-d319-48ca-8c63-879d233616e4",
   "metadata": {
    "tags": [
     "remove-output"
    ]
   },
   "source": [
    "### Kinetic energy"
   ]
  },
  {
   "cell_type": "code",
   "execution_count": 3,
   "id": "ba01be16-fb12-4de2-ac93-4a964185baa1",
   "metadata": {},
   "outputs": [],
   "source": [
    "kinetic_drv = vlx.KineticEnergyIntegralsDriver()\n",
    "T = kinetic_drv.compute(molecule, basis).to_numpy()"
   ]
  },
  {
   "cell_type": "markdown",
   "id": "38784c15-1c9d-4dc6-92b6-f6a95c5bebf5",
   "metadata": {},
   "source": [
    "### Nuclear potential"
   ]
  },
  {
   "cell_type": "code",
   "execution_count": 4,
   "id": "6d67fd27-206b-4db4-b089-3a73f457ab4f",
   "metadata": {},
   "outputs": [],
   "source": [
    "nucpot_drv = vlx.NuclearPotentialIntegralsDriver()\n",
    "V = -1.0 * nucpot_drv.compute(molecule, basis).to_numpy()"
   ]
  },
  {
   "cell_type": "markdown",
   "id": "2a5337f9-d94b-4dac-ac66-e22ed9cb4fca",
   "metadata": {},
   "source": [
    "### One-electron Hamiltonian"
   ]
  },
  {
   "cell_type": "code",
   "execution_count": 5,
   "id": "e7dc8ef7-5943-40e1-9117-c44aebfb0bdb",
   "metadata": {},
   "outputs": [],
   "source": [
    "h = T + V"
   ]
  },
  {
   "cell_type": "markdown",
   "id": "5ef22b76-8f5f-42fd-aec7-bf75e9b89806",
   "metadata": {},
   "source": [
    "### Electric dipole moment"
   ]
  },
  {
   "cell_type": "code",
   "execution_count": 6,
   "id": "a116fc63-3c72-4fec-bd8b-b9ed011482f0",
   "metadata": {},
   "outputs": [],
   "source": [
    "dipole_drv = vlx.ElectricDipoleIntegralsDriver()\n",
    "dipole_mats = dipole_drv.compute(molecule, basis)\n",
    "\n",
    "mu_x = -1.0 * dipole_mats.x_to_numpy()\n",
    "mu_y = -1.0 * dipole_mats.y_to_numpy()\n",
    "mu_z = -1.0 * dipole_mats.z_to_numpy()"
   ]
  },
  {
   "cell_type": "markdown",
   "id": "0dfe06bb-aff6-40d3-baef-d5274416a90d",
   "metadata": {},
   "source": [
    "### Electron repulsion integrals"
   ]
  },
  {
   "cell_type": "code",
   "execution_count": 7,
   "id": "930ab4ba-9fea-49e8-b105-04eeb54e7953",
   "metadata": {},
   "outputs": [
    {
     "name": "stdout",
     "output_type": "stream",
     "text": [
      "(24, 24, 24, 24)\n"
     ]
    }
   ],
   "source": [
    "eri_drv = vlx.ElectronRepulsionIntegralsDriver()\n",
    "g = eri_drv.compute_in_memory(molecule, basis)\n",
    "\n",
    "print(g.shape)"
   ]
  },
  {
   "cell_type": "markdown",
   "id": "a493579c-e813-4a00-bb45-741a5daa9f5c",
   "metadata": {},
   "source": [
    "## Integral transformation\n",
    "\n",
    "Most correlated wave function methods rely on integrals in the molecular orbital basis. For some methods, like Møller–Plesset second order perturbation theory, this step is the most time-consuming step of the calculation.\n",
    "\n",
    "### Conventional\n",
    "\n",
    "The transformation of the AO integrals to the MO basis can be done as follows\n",
    "\n",
    "\\begin{eqnarray*}\n",
    "( \\alpha \\beta | \\gamma s ) &= \\sum_{\\delta} C_{\\delta s} ( \\alpha \\beta | \\gamma \\delta ) \\\\\n",
    "%\n",
    "( \\alpha \\beta | r s ) &= \\sum_{\\gamma} C^*_{\\gamma r} ( \\alpha \\beta | \\gamma s ) \\\\\n",
    "%\n",
    "( \\alpha q | r s ) &= \\sum_{\\beta} C_{\\beta q} ( \\alpha \\beta | r s ) \\\\\n",
    "%\n",
    "( p q | r s ) &= \\sum_{\\alpha} C^*_{\\alpha p} ( \\alpha q | r s ) \\\\\n",
    "\\end{eqnarray*}\n",
    "\n",
    "The computational cost of this procedure is $O(N^5)$, since each summation involves five indices. Note that the intermediate result of the transformation needs to be explicitly stored in memory. This can be demanding as the required memory increases as $O(N^4)$, where $N$ is the number of contracted basis functions."
   ]
  },
  {
   "cell_type": "code",
   "execution_count": 8,
   "id": "58c13de1-f386-46cc-b35b-7e4a9888d4f6",
   "metadata": {
    "scrolled": true,
    "tags": [
     "remove-output"
    ]
   },
   "outputs": [
    {
     "name": "stdout",
     "output_type": "stream",
     "text": [
      "                                                                                                                          \n",
      "                                            Self Consistent Field Driver Setup                                            \n",
      "                                           ====================================                                           \n",
      "                                                                                                                          \n",
      "                   Wave Function Model             : Spin-Restricted Hartree-Fock                                         \n",
      "                   Initial Guess Model             : Superposition of Atomic Densities                                    \n",
      "                   Convergence Accelerator         : Two Level Direct Inversion of Iterative Subspace                     \n",
      "                   Max. Number of Iterations       : 50                                                                   \n",
      "                   Max. Number of Error Vectors    : 10                                                                   \n",
      "                   Convergence Threshold           : 1.0e-06                                                              \n",
      "                   ERI Screening Scheme            : Cauchy Schwarz + Density                                             \n",
      "                   ERI Screening Mode              : Dynamic                                                              \n",
      "                   ERI Screening Threshold         : 1.0e-12                                                              \n",
      "                   Linear Dependence Threshold     : 1.0e-06                                                              \n",
      "                                                                                                                          \n",
      "* Info * Nuclear repulsion energy: 9.3436381577 a.u.                                                                      \n",
      "                                                                                                                          \n",
      "* Info * Overlap matrix computed in 0.00 sec.                                                                             \n",
      "                                                                                                                          \n",
      "* Info * Kinetic energy matrix computed in 0.00 sec.                                                                      \n",
      "                                                                                                                          \n",
      "* Info * Nuclear potential matrix computed in 0.00 sec.                                                                   \n",
      "                                                                                                                          \n",
      "* Info * Orthogonalization matrix computed in 0.00 sec.                                                                   \n",
      "                                                                                                                          \n",
      "* Info * SAD initial guess computed in 0.00 sec.                                                                          \n",
      "                                                                                                                          \n",
      "* Info * Starting Reduced Basis SCF calculation...                                                                        \n",
      "* Info * ...done. SCF energy in reduced basis set: -75.979046359571 a.u. Time: 0.09 sec.                                  \n",
      "                                                                                                                          \n",
      "* Info * Overlap matrix computed in 0.00 sec.                                                                             \n",
      "                                                                                                                          \n",
      "* Info * Kinetic energy matrix computed in 0.00 sec.                                                                      \n",
      "                                                                                                                          \n",
      "* Info * Nuclear potential matrix computed in 0.00 sec.                                                                   \n",
      "                                                                                                                          \n",
      "* Info * Orthogonalization matrix computed in 0.00 sec.                                                                   \n",
      "                                                                                                                          \n",
      "                                                                                                                          \n",
      "               Iter. | Hartree-Fock Energy | Energy Change | Gradient Norm | Max. Gradient | Density Change               \n",
      "               --------------------------------------------------------------------------------------------               \n",
      "                  1       -76.025869744700    0.0000000000      0.09892066      0.01121867      0.00000000                \n",
      "                  2       -76.026932827150   -0.0010630825      0.01920269      0.00294570      0.02594960                \n",
      "                  3       -76.026981056596   -0.0000482294      0.00412658      0.00076652      0.00507499                \n",
      "                  4       -76.026983601529   -0.0000025449      0.00247905      0.00043111      0.00166621                \n",
      "                  5       -76.026984175646   -0.0000005741      0.00021766      0.00003639      0.00052311                \n",
      "                  6       -76.026984187024   -0.0000000114      0.00003206      0.00000540      0.00012084                \n",
      "                  7       -76.026984187255   -0.0000000002      0.00000208      0.00000029      0.00001663                \n",
      "                  8       -76.026984187256   -0.0000000000      0.00000053      0.00000008      0.00000087                \n",
      "                                                                                                                          \n",
      "               *** SCF converged in 8 iterations. Time: 1.03 sec.                                                         \n",
      "                                                                                                                          \n",
      "               Spin-Restricted Hartree-Fock:                                                                              \n",
      "               -----------------------------                                                                              \n",
      "               Total Energy                       :      -76.0269841873 a.u.                                              \n",
      "               Electronic Energy                  :      -85.3706223449 a.u.                                              \n",
      "               Nuclear Repulsion Energy           :        9.3436381577 a.u.                                              \n",
      "               ------------------------------------                                                                       \n",
      "               Gradient Norm                      :        0.0000005316 a.u.                                              \n",
      "                                                                                                                          \n",
      "                                                                                                                          \n",
      "               Ground State Information                                                                                   \n",
      "               ------------------------                                                                                   \n",
      "               Charge of Molecule            :  0.0                                                                       \n",
      "               Multiplicity (2S+1)           :  1.0                                                                       \n",
      "               Magnetic Quantum Number (M_S) :  0.0                                                                       \n",
      "                                                                                                                          \n",
      "                                                                                                                          \n",
      "                                                 Spin Restricted Orbitals                                                 \n",
      "                                                 ------------------------                                                 \n",
      "                                                                                                                          \n",
      "               Molecular Orbital No.   1:                                                                                 \n",
      "               --------------------------                                                                                 \n",
      "               Occupation: 2.000 Energy:  -20.54819 a.u.                                                                  \n",
      "               (   1 O   1s  :    -1.00)                                                                                  \n",
      "                                                                                                                          \n",
      "               Molecular Orbital No.   2:                                                                                 \n",
      "               --------------------------                                                                                 \n",
      "               Occupation: 2.000 Energy:   -1.34520 a.u.                                                                  \n",
      "               (   1 O   2s  :     0.44) (   1 O   3s  :     0.36) (   2 H   1s  :     0.20)                              \n",
      "               (   3 H   1s  :     0.20)                                                                                  \n",
      "                                                                                                                          \n",
      "               Molecular Orbital No.   3:                                                                                 \n",
      "               --------------------------                                                                                 \n",
      "               Occupation: 2.000 Energy:   -0.70585 a.u.                                                                  \n",
      "               (   1 O   1p-1:     0.49) (   1 O   2p-1:     0.22) (   2 H   1s  :     0.33)                              \n",
      "               (   3 H   1s  :    -0.33)                                                                                  \n",
      "                                                                                                                          \n",
      "               Molecular Orbital No.   4:                                                                                 \n",
      "               --------------------------                                                                                 \n",
      "               Occupation: 2.000 Energy:   -0.57109 a.u.                                                                  \n",
      "               (   1 O   2s  :    -0.15) (   1 O   3s  :    -0.36) (   1 O   1p0 :     0.55)                              \n",
      "               (   1 O   2p0 :     0.36) (   2 H   1s  :     0.21) (   3 H   1s  :     0.21)                              \n",
      "                                                                                                                          \n",
      "               Molecular Orbital No.   5:                                                                                 \n",
      "               --------------------------                                                                                 \n",
      "               Occupation: 2.000 Energy:   -0.49457 a.u.                                                                  \n",
      "               (   1 O   1p+1:    -0.63) (   1 O   2p+1:    -0.49)                                                        \n",
      "                                                                                                                          \n",
      "               Molecular Orbital No.   6:                                                                                 \n",
      "               --------------------------                                                                                 \n",
      "               Occupation: 0.000 Energy:    0.18787 a.u.                                                                  \n",
      "               (   1 O   3s  :     1.02) (   1 O   1p0 :     0.19) (   1 O   2p0 :     0.33)                              \n",
      "               (   2 H   2s  :    -0.83) (   3 H   2s  :    -0.83)                                                        \n",
      "                                                                                                                          \n",
      "               Molecular Orbital No.   7:                                                                                 \n",
      "               --------------------------                                                                                 \n",
      "               Occupation: 0.000 Energy:    0.25852 a.u.                                                                  \n",
      "               (   1 O   1p-1:     0.28) (   1 O   2p-1:     0.67) (   2 H   2s  :    -1.48)                              \n",
      "               (   3 H   2s  :     1.48)                                                                                  \n",
      "                                                                                                                          \n",
      "               Molecular Orbital No.   8:                                                                                 \n",
      "               --------------------------                                                                                 \n",
      "               Occupation: 0.000 Energy:    0.79749 a.u.                                                                  \n",
      "               (   1 O   1p-1:     0.26) (   1 O   2p-1:     0.49) (   2 H   1s  :    -0.95)                              \n",
      "               (   2 H   2s  :     0.66) (   2 H   1p0 :    -0.16) (   3 H   1s  :     0.95)                              \n",
      "               (   3 H   2s  :    -0.66) (   3 H   1p0 :     0.16)                                                        \n",
      "                                                                                                                          \n",
      "               Molecular Orbital No.   9:                                                                                 \n",
      "               --------------------------                                                                                 \n",
      "               Occupation: 0.000 Energy:    0.87271 a.u.                                                                  \n",
      "               (   1 O   2s  :    -0.25) (   1 O   3s  :     0.34) (   1 O   1p0 :    -0.34)                              \n",
      "               (   2 H   1s  :     0.77) (   2 H   2s  :    -0.54) (   2 H   1p-1:     0.31)                              \n",
      "               (   3 H   1s  :     0.77) (   3 H   2s  :    -0.54) (   3 H   1p-1:    -0.31)                              \n",
      "                                                                                                                          \n",
      "               Molecular Orbital No.  10:                                                                                 \n",
      "               --------------------------                                                                                 \n",
      "               Occupation: 0.000 Energy:    1.16315 a.u.                                                                  \n",
      "               (   1 O   3s  :    -0.78) (   1 O   1p0 :     0.74) (   1 O   2p0 :    -1.31)                              \n",
      "               (   2 H   1s  :     0.59) (   2 H   1p0 :    -0.24) (   3 H   1s  :     0.59)                              \n",
      "               (   3 H   1p0 :    -0.24)                                                                                  \n",
      "                                                                                                                          \n"
     ]
    }
   ],
   "source": [
    "# get the MO coefficients\n",
    "scf_drv = vlx.ScfRestrictedDriver()\n",
    "scf_results = scf_drv.compute(molecule, basis)\n",
    "\n",
    "C = scf_drv.scf_tensors[\"C_alpha\"]"
   ]
  },
  {
   "cell_type": "code",
   "execution_count": 9,
   "id": "b0617e4c-9ba8-481c-900c-0aa89a6e4c6c",
   "metadata": {},
   "outputs": [
    {
     "name": "stdout",
     "output_type": "stream",
     "text": [
      "(24, 24, 24, 24)\n"
     ]
    }
   ],
   "source": [
    "g_1 = np.einsum(\"ds, abcd -> abcs\", C, g)\n",
    "g_2 = np.einsum(\"cr, abcs -> abrs\", C, g_1)\n",
    "g_3 = np.einsum(\"bq, abrs -> aqrs\", C, g_2)\n",
    "\n",
    "g_mo = np.einsum(\"ap, aqrs -> pqrs\", C, g_3)\n",
    "\n",
    "print(g_mo.shape)"
   ]
  },
  {
   "cell_type": "markdown",
   "id": "d3afae0b-2947-415c-ac65-8a4cb7541464",
   "metadata": {},
   "source": [
    "Specific blocks a ERIs are made available directly in the MO basis, both in the physicist's and the chemist's notation."
   ]
  },
  {
   "cell_type": "code",
   "execution_count": 10,
   "id": "3d542821-7076-4dd7-b56f-816259a361db",
   "metadata": {},
   "outputs": [
    {
     "name": "stdout",
     "output_type": "stream",
     "text": [
      "[oo|vv]: (5, 5, 19, 19)\n",
      "(ov|ov): (5, 19, 5, 19)\n"
     ]
    }
   ],
   "source": [
    "erimo_drv = vlx.MOIntegralsDriver()\n",
    "\n",
    "phys_oovv = erimo_drv.compute_in_memory(molecule, basis, scf_drv.mol_orbs, \"phys_oovv\")\n",
    "print(\"[oo|vv]:\", phys_oovv.shape)\n",
    "\n",
    "chem_ovov = erimo_drv.compute_in_memory(molecule, basis, scf_drv.mol_orbs, \"chem_ovov\")\n",
    "print(\"(ov|ov):\", chem_ovov.shape)\n",
    "\n",
    "np.testing.assert_allclose(phys_oovv, chem_ovov.swapaxes(1,2), atol=1e-15)"
   ]
  },
  {
   "cell_type": "markdown",
   "id": "895770d1-0592-4690-83ce-2dc843cba4ba",
   "metadata": {},
   "source": [
    "### Fock-matrix driven\n",
    "\n",
    "An alternative way of getting the molecular orbital integrals is through the direct formation of many Fock matrices. Taking the ovov-block of MO integrals as an example, we can in practice build $N_{occ} \\times N_{occ}$ density matrices using the coefficients of the occupied orbitals, and form the corresponding Fock matrices that can then be transformed into molecular basis by the coefficients of the virtual orbitals. \n",
    "\n",
    "\\begin{eqnarray*}\n",
    "D^{ij}_{\\alpha \\beta} &=& C^*_{\\alpha i} C^*_{\\beta j} \\\\\n",
    "%\n",
    "K^{ij}_{\\gamma \\delta} &=& \n",
    "\\sum_{\\alpha, \\beta} D^{ij}_{\\alpha\\beta} (\\alpha \\gamma| \\beta \\delta ) \\\\\n",
    "%\n",
    "(i a|j b ) &=& \\sum_{\\gamma, \\delta} C_{\\gamma a} K^{ij}_{\\gamma \\delta} C_{\\delta b}\n",
    "\\end{eqnarray*}\n",
    "\n",
    "The computational cost of this approach is formally $O(N^6)$; however, in practice the cost scales between $O(N^4)$ and $O(N^5)$ due to screening of integrals in the formation of Fock matrices. An advantage of this approach is that the Fock matrices can be computed and stored on individual compute nodes, making it suitable for large-scale parallelization on HPC systems.\n",
    "\n",
    "VeloxChem uses this approach to serve electron repulsion integrals (ERIs) for the correlated wave function programs Gator and MultiPsi."
   ]
  },
  {
   "cell_type": "code",
   "execution_count": 4,
   "id": "5e9319e0-9c0f-4e3d-a73d-32c6741c543f",
   "metadata": {},
   "outputs": [
    {
     "ename": "NameError",
     "evalue": "name 'C' is not defined",
     "output_type": "error",
     "traceback": [
      "\u001b[0;31m---------------------------------------------------------------------------\u001b[0m",
      "\u001b[0;31mNameError\u001b[0m                                 Traceback (most recent call last)",
      "Cell \u001b[0;32mIn[4], line 5\u001b[0m\n\u001b[1;32m      1\u001b[0m nocc \u001b[38;5;241m=\u001b[39m molecule\u001b[38;5;241m.\u001b[39mnumber_of_alpha_electrons()\n\u001b[1;32m      3\u001b[0m i, j \u001b[38;5;241m=\u001b[39m \u001b[38;5;241m0\u001b[39m, \u001b[38;5;241m3\u001b[39m\n\u001b[0;32m----> 5\u001b[0m D_ij \u001b[38;5;241m=\u001b[39m np\u001b[38;5;241m.\u001b[39meinsum(\u001b[38;5;124m\"\u001b[39m\u001b[38;5;124ma, b -> ab\u001b[39m\u001b[38;5;124m\"\u001b[39m, \u001b[43mC\u001b[49m[:,i], C[:,j])\n\u001b[1;32m      6\u001b[0m K_ij \u001b[38;5;241m=\u001b[39m np\u001b[38;5;241m.\u001b[39meinsum(\u001b[38;5;124m\"\u001b[39m\u001b[38;5;124macbd, ab -> cd\u001b[39m\u001b[38;5;124m\"\u001b[39m, g, D_ij)\n\u001b[1;32m      7\u001b[0m g_ivjv \u001b[38;5;241m=\u001b[39m np\u001b[38;5;241m.\u001b[39meinsum(\u001b[38;5;124m\"\u001b[39m\u001b[38;5;124mca, cd, db -> ab\u001b[39m\u001b[38;5;124m\"\u001b[39m, C[:,nocc:], K_ij, C[:,nocc:])\n",
      "\u001b[0;31mNameError\u001b[0m: name 'C' is not defined"
     ]
    }
   ],
   "source": [
    "nocc = molecule.number_of_alpha_electrons()\n",
    "\n",
    "i, j = 0, 3\n",
    "D_ij = np.einsum(\"a, b -> ab\", C[:,i], C[:,j])\n",
    "K_ij = np.einsum(\"acbd, ab -> cd\", g, D_ij)\n",
    "g_ivjv = np.einsum(\"ca, cd, db -> ab\", C[:,nocc:], K_ij, C[:,nocc:])\n",
    "\n",
    "print(g_ivjv.shape)\n",
    "np.testing.assert_allclose(g_ivjv, chem_ovov[i,:,j,:], atol=1e-15)"
   ]
  },
  {
   "cell_type": "code",
   "execution_count": null,
   "id": "18030a2b-c0e3-4265-828b-7e233820d7da",
   "metadata": {},
   "outputs": [],
   "source": []
  }
 ],
 "metadata": {
  "kernelspec": {
   "display_name": "Python 3 (ipykernel)",
   "language": "python",
   "name": "python3"
  },
  "language_info": {
   "codemirror_mode": {
    "name": "ipython",
    "version": 3
   },
   "file_extension": ".py",
   "mimetype": "text/x-python",
   "name": "python",
   "nbconvert_exporter": "python",
   "pygments_lexer": "ipython3",
   "version": "3.10.9"
  }
 },
 "nbformat": 4,
 "nbformat_minor": 5
}
