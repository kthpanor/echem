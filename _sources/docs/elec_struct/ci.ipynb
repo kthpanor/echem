{
 "cells": [
  {
   "cell_type": "markdown",
   "id": "growing-cornell",
   "metadata": {},
   "source": [
    "(sec:ci)=\n",
    "# Configuration interaction\n",
    "## General theory\n",
    "\n",
    "One of the conceptually (but not computationally) simplest way to solve the Schrödinger equation is to simply expand our many-body wavefunction on a $N$-electron basis set (not to be confused with the one-electron basis functions used to expand orbitals):\n",
    "\n",
    "$$\n",
    "| \\Psi_{\\text{CI}} \\rangle = \\sum_k c_k | \\mathbf{k} \\rangle \n",
    "$$\n",
    "\n",
    "with energy:\n",
    "\n",
    "(eq:CIene)=\n",
    "$$\n",
    "E_{\\text{CI}} = \\frac{\\langle \\Psi_{\\text{CI}} | \\hat{H} | \\Psi_{\\text{CI}} \\rangle}{\\langle \\Psi_{\\text{CI}} | \\Psi_{\\text{CI}} \\rangle} \n",
    "$$\n",
    "\n",
    "We will discuss in the next section the choice of the basis, but in all cases, as the size of this basis set increases, the solution converges to the exact solution of the Schrödinger equation.\n",
    "\n",
    "There is a redundancy in the parameters $c_k$ as multiplying them all by a constant does not change the energy. We thus add the constraint that the wavefunction should be normalised $\\langle \\Psi_{\\text{CI}} | \\Psi_{\\text{CI}} \\rangle = \\sum_k c_k^2 = 1$. To minimize the wavefunction subject to this constraint, we write a Lagrangian:\n",
    "\n",
    "$$\n",
    "L = E - \\epsilon(\\sum_k c_k^2 -1)\n",
    "$$\n",
    "\n",
    "To define our minimisation we set the gradient of our Lagrangian to 0 and obtain:\n",
    "\n",
    "$$\n",
    "\\frac{\\mathrm{d}L}{\\mathrm{d} c_k} =  \\sum_i \\langle \\mathbf{i} | \\hat{H} | \\mathbf{k} \\rangle c_i - \\epsilon c_k + \\text{c.c.}= 0 \\, ,\n",
    "$$\n",
    "\n",
    "where \"$\\text{c.c.}$\" denotes the complex conjugate of the previous expression. This can finally be recast in the familiar form:\n",
    "\n",
    "$$\n",
    "\\mathbf{H} \\mathbf{c} = \\epsilon \\mathbf{c}\n",
    "$$\n",
    "\n",
    "showing that minimising [the CI energy](eq:CIene) energy is equivalent to diagonalising the Hamiltonian matrix in our chosen basis, with the eigenvalues being the energies of all possible states in the system. The ground state simply corresponds to the lowest eigenvalue."
   ]
  },
  {
   "cell_type": "markdown",
   "id": "finnish-tomorrow",
   "metadata": {},
   "source": [
    "## The $N$-electron basis\n",
    "\n",
    "There are in principle an infinite number of possible $N$-electron basis to choose from, but we ideally want the expansion to converge quickly (compact expansion) and the functions to be easily manipulatable to efficiently compute the Hamiltonian elements. Naturally, these two criteria often go opposite.\n",
    "\n",
    "As electron correlation depends on the distance between electrons, it would be natural to use functions that depend explicitly on this distance, the same way as our gaussian or Slater 1-electron basis depends explicitly on the distance between electron and nuclei. Wavefunctions having these properties are typically called explicitly correlated wavefunctions, but this interelectronic distance makes the calculation of integrals very difficult as it couples multiple electrons together.\n",
    "\n",
    "We often drop this explicit dependence and instead use a wavefunction that is simply formed from products of one-electron functions, i.e., product of orbitals. The simplest of these basis functions is the Hartree product, but since we know the wavefunction should be antisymmetric with respect to the exchange of two electrons, we instead use the antisymmetrised version of the Hartree product: Slater determinants (SDs). As each SD represents a different electronic configuration, the resulting method is called configuration interaction (CI). As discussed in the previous sections, this basis of SDs constitutes a complete basis within a specified one-electron basis set, and thus the solution obtained by minimizing the energy of this wavefunction is the exact ground state within that one-electron basis.\n",
    "\n",
    "In some codes, configuration state functions (CSF) are used instead of SDs. CSF are fixed linear combinations of SDs but with the attractive properties that they are also eigenfunctions of the $\\hat{S}^2$ spin operator. This spin constraints means that the resulting wavefunction will always be spin-adapted and also that CSF are less numerous than Slater determinants, which has advantages on a computational standpoint. However, SDs can be expressed as ordered \"strings\" of $\\alpha$ and $\\beta$ creating operators, and this separation of $\\alpha$ and $\\beta$ electrons allows for efficient computer implementations, outweighing the benefits of the slightly smaller expansion of CSF.\n",
    "\n",
    "Having chosen SDs as our basis functions, we now need an efficient way to create our expansion, i.e., a direct link between a given index in our expansion and the corresponding occupation of the SDs. This link should work both ways, matching a given occupation to the corresponding index in the expansion. A common choice is the so-called lexical ordering or the reverse lexical ordering. The details are beyond the scope of this page, but fortunately, the MultiPsi package provides the tools to do this.\n",
    "\n",
    "Let's start by initialising a calculation for O$_2$. We will first run a Hartree-Fock calculation to generate starting orbitals. The ground state of this molecule is a triplet, so we will use unrestricted HF. Note that full CI is exact and does not depend on the actual shape of the orbitals, so we could have run a singlet calculation instead without changing the result."
   ]
  },
  {
   "cell_type": "code",
   "execution_count": 1,
   "id": "active-dubai",
   "metadata": {
    "tags": [
     "hide-output"
    ]
   },
   "outputs": [
    {
     "name": "stdout",
     "output_type": "stream",
     "text": [
      "* Warning * Environment variable OMP_NUM_THREADS not set.\n",
      "* Warning * Setting OMP_NUM_THREADS to 4.\n",
      "* Info * Reading basis set from file: /home/thomas/Notebook/anaconda/envs/echem/lib/python3.10/site-packages/veloxchem/basis/STO-3G\n",
      "                                                                                                                          \n",
      "                                              Molecular Basis (Atomic Basis)                                              \n",
      "                                             ================================                                             \n",
      "                                                                                                                          \n",
      "                                  Basis: STO-3G                                                                           \n",
      "                                                                                                                          \n",
      "                                  Atom Contracted GTOs          Primitive GTOs                                            \n",
      "                                                                                                                          \n",
      "                                   O   (2S,1P)                  (6S,3P)                                                   \n",
      "                                                                                                                          \n",
      "                                  Contracted Basis Functions : 10                                                         \n",
      "                                  Primitive Basis Functions  : 30                                                         \n",
      "                                                                                                                          \n",
      "                                                                                                                          \n",
      "                                            Self Consistent Field Driver Setup                                            \n",
      "                                           ====================================                                           \n",
      "                                                                                                                          \n",
      "                   Wave Function Model             : Spin-Unrestricted Hartree-Fock                                       \n",
      "                   Initial Guess Model             : Superposition of Atomic Densities                                    \n",
      "                   Convergence Accelerator         : Two Level Direct Inversion of Iterative Subspace                     \n",
      "                   Max. Number of Iterations       : 50                                                                   \n",
      "                   Max. Number of Error Vectors    : 10                                                                   \n",
      "                   Convergence Threshold           : 1.0e-06                                                              \n",
      "                   ERI Screening Scheme            : Cauchy Schwarz + Density                                             \n",
      "                   ERI Screening Mode              : Dynamic                                                              \n",
      "                   ERI Screening Threshold         : 1.0e-12                                                              \n",
      "                   Linear Dependence Threshold     : 1.0e-06                                                              \n",
      "                                                                                                                          \n",
      "* Info * Nuclear repulsion energy: 28.2227845815 a.u.                                                                     \n",
      "                                                                                                                          \n",
      "* Info * Overlap matrix computed in 0.01 sec.                                                                             \n",
      "                                                                                                                          \n",
      "* Info * Kinetic energy matrix computed in 0.00 sec.                                                                      \n",
      "                                                                                                                          \n",
      "* Info * Nuclear potential matrix computed in 0.00 sec.                                                                   \n",
      "                                                                                                                          \n",
      "* Info * Orthogonalization matrix computed in 0.03 sec.                                                                   \n",
      "                                                                                                                          \n",
      "* Info * SAD initial guess computed in 0.00 sec.                                                                          \n",
      "                                                                                                                          \n",
      "* Info * Starting Reduced Basis SCF calculation...                                                                        \n",
      "* Info * ...done. SCF energy in reduced basis set: -147.633452768035 a.u. Time: 0.10 sec.                                 \n",
      "                                                                                                                          \n",
      "* Info * Overlap matrix computed in 0.01 sec.                                                                             \n",
      "                                                                                                                          \n",
      "* Info * Kinetic energy matrix computed in 0.00 sec.                                                                      \n",
      "                                                                                                                          \n",
      "* Info * Nuclear potential matrix computed in 0.00 sec.                                                                   \n",
      "                                                                                                                          \n",
      "* Info * Orthogonalization matrix computed in 0.00 sec.                                                                   \n",
      "                                                                                                                          \n",
      "                                                                                                                          \n",
      "               Iter. | Hartree-Fock Energy | Energy Change | Gradient Norm | Max. Gradient | Density Change               \n",
      "               --------------------------------------------------------------------------------------------               \n",
      "                  1      -147.633452768037    0.0000000000      0.00000076      0.00000033      0.00000000                \n",
      "                                                                                                                          \n",
      "               *** SCF converged in 1 iterations. Time: 0.03 sec.                                                         \n",
      "                                                                                                                          \n",
      "               Spin-Unrestricted Hartree-Fock:                                                                            \n",
      "               -------------------------------                                                                            \n",
      "               Total Energy                       :     -147.6334527680 a.u.                                              \n",
      "               Electronic Energy                  :     -175.8562373495 a.u.                                              \n",
      "               Nuclear Repulsion Energy           :       28.2227845815 a.u.                                              \n",
      "               ------------------------------------                                                                       \n",
      "               Gradient Norm                      :        0.0000007631 a.u.                                              \n",
      "                                                                                                                          \n",
      "                                                                                                                          \n",
      "               Ground State Information                                                                                   \n",
      "               ------------------------                                                                                   \n",
      "               Charge of Molecule            :  0.0                                                                       \n",
      "               Magnetic Quantum Number (M_S) :  1.0                                                                       \n",
      "               Expectation value of S**2     :  2.0034                                                                    \n",
      "                                                                                                                          \n",
      "                                                                                                                          \n",
      "                                             Spin Unrestricted Alpha Orbitals                                             \n",
      "                                             --------------------------------                                             \n",
      "                                                                                                                          \n",
      "               Molecular Orbital No.   5:                                                                                 \n",
      "               --------------------------                                                                                 \n",
      "               Occupation: 1.000 Energy:   -0.72085 a.u.                                                                  \n",
      "               (   1 O   1p+1:     0.62) (   1 O   1p-1:     0.21) (   2 O   1p+1:     0.62)                              \n",
      "               (   2 O   1p-1:     0.21)                                                                                  \n",
      "                                                                                                                          \n",
      "               Molecular Orbital No.   6:                                                                                 \n",
      "               --------------------------                                                                                 \n",
      "               Occupation: 1.000 Energy:   -0.72085 a.u.                                                                  \n",
      "               (   1 O   1p+1:     0.21) (   1 O   1p-1:    -0.62) (   2 O   1p+1:     0.21)                              \n",
      "               (   2 O   1p-1:    -0.62)                                                                                  \n",
      "                                                                                                                          \n",
      "               Molecular Orbital No.   7:                                                                                 \n",
      "               --------------------------                                                                                 \n",
      "               Occupation: 1.000 Energy:   -0.61135 a.u.                                                                  \n",
      "               (   1 O   2s  :    -0.32) (   1 O   1p0 :     0.62) (   2 O   2s  :    -0.32)                              \n",
      "               (   2 O   1p0 :    -0.62)                                                                                  \n",
      "                                                                                                                          \n",
      "               Molecular Orbital No.   8:                                                                                 \n",
      "               --------------------------                                                                                 \n",
      "               Occupation: 1.000 Energy:   -0.41143 a.u.                                                                  \n",
      "               (   1 O   1p+1:    -0.74) (   1 O   1p-1:     0.20) (   2 O   1p+1:     0.74)                              \n",
      "               (   2 O   1p-1:    -0.20)                                                                                  \n",
      "                                                                                                                          \n",
      "               Molecular Orbital No.   9:                                                                                 \n",
      "               --------------------------                                                                                 \n",
      "               Occupation: 1.000 Energy:   -0.41143 a.u.                                                                  \n",
      "               (   1 O   1p+1:    -0.20) (   1 O   1p-1:    -0.74) (   2 O   1p+1:     0.20)                              \n",
      "               (   2 O   1p-1:     0.74)                                                                                  \n",
      "                                                                                                                          \n",
      "               Molecular Orbital No.  10:                                                                                 \n",
      "               --------------------------                                                                                 \n",
      "               Occupation: 0.000 Energy:    0.70300 a.u.                                                                  \n",
      "               (   1 O   2s  :    -0.57) (   1 O   1p0 :    -0.95) (   2 O   2s  :     0.57)                              \n",
      "               (   2 O   1p0 :    -0.95)                                                                                  \n",
      "                                                                                                                          \n",
      "                                             Spin Unrestricted Beta Orbitals                                              \n",
      "                                             -------------------------------                                              \n",
      "                                                                                                                          \n",
      "               Molecular Orbital No.   3:                                                                                 \n",
      "               --------------------------                                                                                 \n",
      "               Occupation: 1.000 Energy:   -1.49800 a.u.                                                                  \n",
      "               (   1 O   1s  :    -0.17) (   1 O   2s  :     0.56) (   1 O   1p0 :     0.19)                              \n",
      "               (   2 O   1s  :    -0.17) (   2 O   2s  :     0.56) (   2 O   1p0 :    -0.19)                              \n",
      "                                                                                                                          \n",
      "               Molecular Orbital No.   4:                                                                                 \n",
      "               --------------------------                                                                                 \n",
      "               Occupation: 1.000 Energy:   -0.89550 a.u.                                                                  \n",
      "               (   1 O   1s  :    -0.18) (   1 O   2s  :     0.76) (   1 O   1p0 :    -0.19)                              \n",
      "               (   2 O   1s  :     0.18) (   2 O   2s  :    -0.76) (   2 O   1p0 :    -0.19)                              \n",
      "                                                                                                                          \n",
      "               Molecular Orbital No.   5:                                                                                 \n",
      "               --------------------------                                                                                 \n",
      "               Occupation: 1.000 Energy:   -0.55786 a.u.                                                                  \n",
      "               (   1 O   2s  :    -0.35) (   1 O   1p0 :     0.61) (   2 O   2s  :    -0.35)                              \n",
      "               (   2 O   1p0 :    -0.61)                                                                                  \n",
      "                                                                                                                          \n",
      "               Molecular Orbital No.   6:                                                                                 \n",
      "               --------------------------                                                                                 \n",
      "               Occupation: 1.000 Energy:   -0.44994 a.u.                                                                  \n",
      "               (   1 O   1p+1:     0.55) (   1 O   1p-1:     0.37) (   2 O   1p+1:     0.55)                              \n",
      "               (   2 O   1p-1:     0.37)                                                                                  \n",
      "                                                                                                                          \n",
      "               Molecular Orbital No.   7:                                                                                 \n",
      "               --------------------------                                                                                 \n",
      "               Occupation: 1.000 Energy:   -0.44994 a.u.                                                                  \n",
      "               (   1 O   1p+1:     0.37) (   1 O   1p-1:    -0.55) (   2 O   1p+1:     0.37)                              \n",
      "               (   2 O   1p-1:    -0.55)                                                                                  \n",
      "                                                                                                                          \n",
      "               Molecular Orbital No.   8:                                                                                 \n",
      "               --------------------------                                                                                 \n",
      "               Occupation: 0.000 Energy:    0.27474 a.u.                                                                  \n",
      "               (   1 O   1p+1:    -0.76) (   2 O   1p+1:     0.76)                                                        \n",
      "                                                                                                                          \n",
      "               Molecular Orbital No.   9:                                                                                 \n",
      "               --------------------------                                                                                 \n",
      "               Occupation: 0.000 Energy:    0.27474 a.u.                                                                  \n",
      "               (   1 O   1p-1:     0.76) (   2 O   1p-1:    -0.76)                                                        \n",
      "                                                                                                                          \n",
      "               Molecular Orbital No.  10:                                                                                 \n",
      "               --------------------------                                                                                 \n",
      "               Occupation: 0.000 Energy:    0.79356 a.u.                                                                  \n",
      "               (   1 O   2s  :    -0.62) (   1 O   1p0 :    -0.94) (   2 O   2s  :     0.62)                              \n",
      "               (   2 O   1p0 :    -0.94)                                                                                  \n",
      "                                                                                                                          \n"
     ]
    }
   ],
   "source": [
    "import veloxchem as vlx\n",
    "import multipsi as mtp\n",
    "import numpy as np\n",
    "O2_xyz = \"\"\"2\n",
    "O2                                                                                                                         \n",
    "O    0.000000000000        0.000000000000       -0.600000000000 \n",
    "O    0.000000000000        0.000000000000        0.600000000000 \n",
    "\"\"\"\n",
    "\n",
    "molecule = vlx.Molecule.from_xyz_string(O2_xyz)\n",
    "molecule.set_multiplicity(3)\n",
    "basis = vlx.MolecularBasis.read(molecule,\"STO-3G\")\n",
    "\n",
    "scfdrv = vlx.ScfUnrestrictedDriver()\n",
    "scfdrv.compute(molecule, basis)"
   ]
  },
  {
   "cell_type": "markdown",
   "id": "vietnamese-observation",
   "metadata": {},
   "source": [
    "The next step is to define our CI using the MultiPsi.OrbSpace object. The meaning of this step will become more clear when we discuss truncated CI and active spaces. Now we simply define a full CI by using the FCI keyword. Then we use the CIExpansion class to create the tools necessary to handle the CI expansion."
   ]
  },
  {
   "cell_type": "code",
   "execution_count": 2,
   "id": "radical-fetish",
   "metadata": {},
   "outputs": [
    {
     "name": "stdout",
     "output_type": "stream",
     "text": [
      "\n",
      "          CI expansion:\n",
      "          -------------\n",
      "Number of determinants:      1200\n",
      "\n",
      "\n"
     ]
    }
   ],
   "source": [
    "space = mtp.OrbSpace(molecule,scfdrv.mol_orbs)\n",
    "space.FCI()\n",
    "expansion = mtp.CIExpansion(space)\n",
    "print(expansion)"
   ]
  },
  {
   "cell_type": "markdown",
   "id": "phantom-pierre",
   "metadata": {},
   "source": [
    "Printing the expansion shows the number of Slater determinants. As you can see, the number is already fairly large. This is not an issue in a real calculation, but for testing purposes, we will restrict this number a bit. For this, we will simply exclude the 1s and 2s of the oxygen from the calculation, which corresponds to \"freezing\" 4 orbitals."
   ]
  },
  {
   "cell_type": "code",
   "execution_count": 3,
   "id": "postal-forum",
   "metadata": {},
   "outputs": [
    {
     "name": "stdout",
     "output_type": "stream",
     "text": [
      "\n",
      "          CI expansion:\n",
      "          -------------\n",
      "Number of determinants:      120\n",
      "\n",
      "\n"
     ]
    }
   ],
   "source": [
    "space.FCI(nfrozen=4)\n",
    "expansion = mtp.CIExpansion(space)\n",
    "print(expansion)"
   ]
  },
  {
   "cell_type": "markdown",
   "id": "attended-assembly",
   "metadata": {},
   "source": [
    "This number is much more manageable.\n",
    "\n",
    "Now we can look at the determinants themselves. The easiest way is to use the generator detlist() of the expansion class in a python for loop, which as the name implies will provide the determinants in a predefined order, here in reverse lexical ordering. By printing the determinant directly, we get the string representation, with a character for each orbital in the system. '2' indicates that the orbital is doubly occupied, 'a' and 'b' indicates an $\\alpha$ or $\\beta$ electron, and '0' an empty orbital. The determinant also provides a python list of the orbitals containing a $\\alpha$ or $\\beta$ electron."
   ]
  },
  {
   "cell_type": "code",
   "execution_count": 4,
   "id": "similar-suggestion",
   "metadata": {
    "tags": [
     "output_scroll"
    ]
   },
   "outputs": [
    {
     "name": "stdout",
     "output_type": "stream",
     "text": [
      "222aa0 [0, 1, 2, 3, 4] [0, 1, 2]\n",
      "22a2a0 [0, 1, 2, 3, 4] [0, 1, 3]\n",
      "2a22a0 [0, 1, 2, 3, 4] [0, 2, 3]\n",
      "a222a0 [0, 1, 2, 3, 4] [1, 2, 3]\n",
      "22aa20 [0, 1, 2, 3, 4] [0, 1, 4]\n",
      "2a2a20 [0, 1, 2, 3, 4] [0, 2, 4]\n",
      "a22a20 [0, 1, 2, 3, 4] [1, 2, 4]\n",
      "2aa220 [0, 1, 2, 3, 4] [0, 3, 4]\n",
      "a2a220 [0, 1, 2, 3, 4] [1, 3, 4]\n",
      "aa2220 [0, 1, 2, 3, 4] [2, 3, 4]\n",
      "22aaab [0, 1, 2, 3, 4] [0, 1, 5]\n",
      "2a2aab [0, 1, 2, 3, 4] [0, 2, 5]\n",
      "a22aab [0, 1, 2, 3, 4] [1, 2, 5]\n",
      "2aa2ab [0, 1, 2, 3, 4] [0, 3, 5]\n",
      "a2a2ab [0, 1, 2, 3, 4] [1, 3, 5]\n",
      "aa22ab [0, 1, 2, 3, 4] [2, 3, 5]\n",
      "2aaa2b [0, 1, 2, 3, 4] [0, 4, 5]\n",
      "a2aa2b [0, 1, 2, 3, 4] [1, 4, 5]\n",
      "aa2a2b [0, 1, 2, 3, 4] [2, 4, 5]\n",
      "aaa22b [0, 1, 2, 3, 4] [3, 4, 5]\n",
      "222a0a [0, 1, 2, 3, 5] [0, 1, 2]\n",
      "22a20a [0, 1, 2, 3, 5] [0, 1, 3]\n",
      "2a220a [0, 1, 2, 3, 5] [0, 2, 3]\n",
      "a2220a [0, 1, 2, 3, 5] [1, 2, 3]\n",
      "22aaba [0, 1, 2, 3, 5] [0, 1, 4]\n",
      "2a2aba [0, 1, 2, 3, 5] [0, 2, 4]\n",
      "a22aba [0, 1, 2, 3, 5] [1, 2, 4]\n",
      "2aa2ba [0, 1, 2, 3, 5] [0, 3, 4]\n",
      "a2a2ba [0, 1, 2, 3, 5] [1, 3, 4]\n",
      "aa22ba [0, 1, 2, 3, 5] [2, 3, 4]\n",
      "22aa02 [0, 1, 2, 3, 5] [0, 1, 5]\n",
      "2a2a02 [0, 1, 2, 3, 5] [0, 2, 5]\n",
      "a22a02 [0, 1, 2, 3, 5] [1, 2, 5]\n",
      "2aa202 [0, 1, 2, 3, 5] [0, 3, 5]\n",
      "a2a202 [0, 1, 2, 3, 5] [1, 3, 5]\n",
      "aa2202 [0, 1, 2, 3, 5] [2, 3, 5]\n",
      "2aaab2 [0, 1, 2, 3, 5] [0, 4, 5]\n",
      "a2aab2 [0, 1, 2, 3, 5] [1, 4, 5]\n",
      "aa2ab2 [0, 1, 2, 3, 5] [2, 4, 5]\n",
      "aaa2b2 [0, 1, 2, 3, 5] [3, 4, 5]\n",
      "2220aa [0, 1, 2, 4, 5] [0, 1, 2]\n",
      "22abaa [0, 1, 2, 4, 5] [0, 1, 3]\n",
      "2a2baa [0, 1, 2, 4, 5] [0, 2, 3]\n",
      "a22baa [0, 1, 2, 4, 5] [1, 2, 3]\n",
      "22a02a [0, 1, 2, 4, 5] [0, 1, 4]\n",
      "2a202a [0, 1, 2, 4, 5] [0, 2, 4]\n",
      "a2202a [0, 1, 2, 4, 5] [1, 2, 4]\n",
      "2aab2a [0, 1, 2, 4, 5] [0, 3, 4]\n",
      "a2ab2a [0, 1, 2, 4, 5] [1, 3, 4]\n",
      "aa2b2a [0, 1, 2, 4, 5] [2, 3, 4]\n",
      "22a0a2 [0, 1, 2, 4, 5] [0, 1, 5]\n",
      "2a20a2 [0, 1, 2, 4, 5] [0, 2, 5]\n",
      "a220a2 [0, 1, 2, 4, 5] [1, 2, 5]\n",
      "2aaba2 [0, 1, 2, 4, 5] [0, 3, 5]\n",
      "a2aba2 [0, 1, 2, 4, 5] [1, 3, 5]\n",
      "aa2ba2 [0, 1, 2, 4, 5] [2, 3, 5]\n",
      "2aa022 [0, 1, 2, 4, 5] [0, 4, 5]\n",
      "a2a022 [0, 1, 2, 4, 5] [1, 4, 5]\n",
      "aa2022 [0, 1, 2, 4, 5] [2, 4, 5]\n",
      "aaab22 [0, 1, 2, 4, 5] [3, 4, 5]\n",
      "22baaa [0, 1, 3, 4, 5] [0, 1, 2]\n",
      "2202aa [0, 1, 3, 4, 5] [0, 1, 3]\n",
      "2ab2aa [0, 1, 3, 4, 5] [0, 2, 3]\n",
      "a2b2aa [0, 1, 3, 4, 5] [1, 2, 3]\n",
      "220a2a [0, 1, 3, 4, 5] [0, 1, 4]\n",
      "2aba2a [0, 1, 3, 4, 5] [0, 2, 4]\n",
      "a2ba2a [0, 1, 3, 4, 5] [1, 2, 4]\n",
      "2a022a [0, 1, 3, 4, 5] [0, 3, 4]\n",
      "a2022a [0, 1, 3, 4, 5] [1, 3, 4]\n",
      "aab22a [0, 1, 3, 4, 5] [2, 3, 4]\n",
      "220aa2 [0, 1, 3, 4, 5] [0, 1, 5]\n",
      "2abaa2 [0, 1, 3, 4, 5] [0, 2, 5]\n",
      "a2baa2 [0, 1, 3, 4, 5] [1, 2, 5]\n",
      "2a02a2 [0, 1, 3, 4, 5] [0, 3, 5]\n",
      "a202a2 [0, 1, 3, 4, 5] [1, 3, 5]\n",
      "aab2a2 [0, 1, 3, 4, 5] [2, 3, 5]\n",
      "2a0a22 [0, 1, 3, 4, 5] [0, 4, 5]\n",
      "a20a22 [0, 1, 3, 4, 5] [1, 4, 5]\n",
      "aaba22 [0, 1, 3, 4, 5] [2, 4, 5]\n",
      "aa0222 [0, 1, 3, 4, 5] [3, 4, 5]\n",
      "2b2aaa [0, 2, 3, 4, 5] [0, 1, 2]\n",
      "2ba2aa [0, 2, 3, 4, 5] [0, 1, 3]\n",
      "2022aa [0, 2, 3, 4, 5] [0, 2, 3]\n",
      "ab22aa [0, 2, 3, 4, 5] [1, 2, 3]\n",
      "2baa2a [0, 2, 3, 4, 5] [0, 1, 4]\n",
      "202a2a [0, 2, 3, 4, 5] [0, 2, 4]\n",
      "ab2a2a [0, 2, 3, 4, 5] [1, 2, 4]\n",
      "20a22a [0, 2, 3, 4, 5] [0, 3, 4]\n",
      "aba22a [0, 2, 3, 4, 5] [1, 3, 4]\n",
      "a0222a [0, 2, 3, 4, 5] [2, 3, 4]\n",
      "2baaa2 [0, 2, 3, 4, 5] [0, 1, 5]\n",
      "202aa2 [0, 2, 3, 4, 5] [0, 2, 5]\n",
      "ab2aa2 [0, 2, 3, 4, 5] [1, 2, 5]\n",
      "20a2a2 [0, 2, 3, 4, 5] [0, 3, 5]\n",
      "aba2a2 [0, 2, 3, 4, 5] [1, 3, 5]\n",
      "a022a2 [0, 2, 3, 4, 5] [2, 3, 5]\n",
      "20aa22 [0, 2, 3, 4, 5] [0, 4, 5]\n",
      "abaa22 [0, 2, 3, 4, 5] [1, 4, 5]\n",
      "a02a22 [0, 2, 3, 4, 5] [2, 4, 5]\n",
      "a0a222 [0, 2, 3, 4, 5] [3, 4, 5]\n",
      "b22aaa [1, 2, 3, 4, 5] [0, 1, 2]\n",
      "b2a2aa [1, 2, 3, 4, 5] [0, 1, 3]\n",
      "ba22aa [1, 2, 3, 4, 5] [0, 2, 3]\n",
      "0222aa [1, 2, 3, 4, 5] [1, 2, 3]\n",
      "b2aa2a [1, 2, 3, 4, 5] [0, 1, 4]\n",
      "ba2a2a [1, 2, 3, 4, 5] [0, 2, 4]\n",
      "022a2a [1, 2, 3, 4, 5] [1, 2, 4]\n",
      "baa22a [1, 2, 3, 4, 5] [0, 3, 4]\n",
      "02a22a [1, 2, 3, 4, 5] [1, 3, 4]\n",
      "0a222a [1, 2, 3, 4, 5] [2, 3, 4]\n",
      "b2aaa2 [1, 2, 3, 4, 5] [0, 1, 5]\n",
      "ba2aa2 [1, 2, 3, 4, 5] [0, 2, 5]\n",
      "022aa2 [1, 2, 3, 4, 5] [1, 2, 5]\n",
      "baa2a2 [1, 2, 3, 4, 5] [0, 3, 5]\n",
      "02a2a2 [1, 2, 3, 4, 5] [1, 3, 5]\n",
      "0a22a2 [1, 2, 3, 4, 5] [2, 3, 5]\n",
      "baaa22 [1, 2, 3, 4, 5] [0, 4, 5]\n",
      "02aa22 [1, 2, 3, 4, 5] [1, 4, 5]\n",
      "0a2a22 [1, 2, 3, 4, 5] [2, 4, 5]\n",
      "0aa222 [1, 2, 3, 4, 5] [3, 4, 5]\n"
     ]
    }
   ],
   "source": [
    "for det in expansion.detlist():\n",
    "    print(det,det.occ_alpha(),det.occ_beta())"
   ]
  },
  {
   "cell_type": "markdown",
   "id": "executive-coach",
   "metadata": {},
   "source": [
    "## The CI Hamiltonian\n",
    "\n",
    "Now that we have the list of determinants, we only need to form the CI Hamiltonian. For this, we need to be able to calculate the matrix elements.\n",
    "\n",
    "MultiPsi also provides a function to do that. For this, we need to initialise the CIOperator class and set it to the Hamiltonian operator. This class will then compute the  integrals in the molecular basis and provides several functions to use them in a CI calculation."
   ]
  },
  {
   "cell_type": "code",
   "execution_count": 5,
   "id": "straight-style",
   "metadata": {},
   "outputs": [],
   "source": [
    "CIham=mtp.CIOperator(expansion)\n",
    "CIham.compute_Hints(molecule,basis) #Set the operator to be the molecular Hamiltonian"
   ]
  },
  {
   "cell_type": "markdown",
   "id": "bright-clause",
   "metadata": {},
   "source": [
    "We can now compute the Hamiltonian. The easiest is to simply do a double loop over SD and then compute the matrix element using the Hij function of CIOperator:"
   ]
  },
  {
   "cell_type": "code",
   "execution_count": 6,
   "id": "specific-influence",
   "metadata": {},
   "outputs": [],
   "source": [
    "Ham = np.zeros((expansion.nDet,expansion.nDet))\n",
    "for i,idet in enumerate(expansion.detlist()):\n",
    "    for j,jdet in enumerate(expansion.detlist()):\n",
    "        Ham[i,j]=CIham.Hij(idet,jdet)"
   ]
  },
  {
   "cell_type": "markdown",
   "id": "animal-brazilian",
   "metadata": {},
   "source": [
    "If we diagonalise this hamiltonian, we now obtain all the energies of the system, both ground and excited states:"
   ]
  },
  {
   "cell_type": "code",
   "execution_count": 7,
   "id": "capable-blast",
   "metadata": {},
   "outputs": [
    {
     "name": "stdout",
     "output_type": "stream",
     "text": [
      "[-147.72339194 -147.49488796 -147.49488796 -147.48991742 -147.39178263\n",
      " -147.39178263 -147.31022148 -147.27297821 -147.27297821 -147.14365547\n",
      " -147.14365547 -147.08916312 -147.08916312 -147.08242927 -147.07852818\n",
      " -147.05836503 -147.05836503 -147.00699461 -147.00699461 -146.99905665\n",
      " -146.99905665 -146.97927131 -146.97927131 -146.95353201 -146.9354175\n",
      " -146.93382892 -146.93382892 -146.88967934 -146.88967934 -146.88480791\n",
      " -146.83509186 -146.83509186 -146.82598782 -146.75346539 -146.75346539\n",
      " -146.75077715 -146.75077715 -146.74829521 -146.74125314 -146.74125314\n",
      " -146.71397134 -146.71397134 -146.70255217 -146.70255217 -146.64273756\n",
      " -146.6366741  -146.6366741  -146.56810118 -146.53923066 -146.48989258\n",
      " -146.48989258 -146.48113701 -146.48113701 -146.47615159 -146.43900556\n",
      " -146.43900556 -146.43155944 -146.41314138 -146.40393925 -146.37524854\n",
      " -146.37524854 -146.34672641 -146.33446114 -146.33446114 -146.27975068\n",
      " -146.2749686  -146.2749686  -146.26378644 -146.22065448 -146.21747518\n",
      " -146.20946767 -146.20946767 -146.19236321 -146.19236321 -146.17110856\n",
      " -146.17110856 -146.16624582 -146.16624582 -146.13162568 -146.10690359\n",
      " -146.10690359 -146.0604229  -146.05944823 -146.05944823 -146.05247853\n",
      " -146.05247853 -146.04847397 -146.04847397 -145.97547061 -145.97547061\n",
      " -145.89703574 -145.89703574 -145.89485308 -145.89424117 -145.88770488\n",
      " -145.88770488 -145.80696382 -145.80696382 -145.77118848 -145.76968622\n",
      " -145.76968622 -145.76657329 -145.76657329 -145.75603435 -145.75598202\n",
      " -145.75598202 -145.70968766 -145.70968766 -145.69813332 -145.68735456\n",
      " -145.68735456 -145.66670629 -145.66467605 -145.66467605 -145.08963409\n",
      " -144.99400313 -144.89601606 -144.89601606 -144.86160532 -144.86160532]\n"
     ]
    }
   ],
   "source": [
    "w,v = np.linalg.eigh(Ham)\n",
    "print(w)"
   ]
  },
  {
   "cell_type": "markdown",
   "id": "portuguese-bible",
   "metadata": {},
   "source": [
    "Note how the first (and lowest) energy is indeed lower than the one found at the Hartree-Fock level, due to electron correlation. However, it is important to note that some of the states obtained here are not actually triplet but have a higher multiplicity. As we discussed in the previous section, the basis of Slater Determinant is not spin-adapted.  The only constraint in our expansion is the value of $m_s$, here $m_s = 1$, meaning we have two more $\\alpha$ electrons than $\\beta$. This excludes singlet (which can only have $m_s=0$) but does not exclude some quintets or higher.\n",
    "\n",
    "We can also print the first eigenvector:"
   ]
  },
  {
   "cell_type": "code",
   "execution_count": 8,
   "id": "broken-empire",
   "metadata": {},
   "outputs": [
    {
     "name": "stdout",
     "output_type": "stream",
     "text": [
      "[-0.969 -0.000 -0.000 -0.000 0.000 0.000 0.000 -0.000 -0.000 -0.176 0.000\n",
      " 0.000 -0.000 0.040 -0.060 0.000 -0.060 -0.040 0.000 0.000 -0.000 -0.000\n",
      " -0.000 -0.000 0.000 -0.000 -0.000 0.002 -0.003 0.000 -0.000 -0.000 -0.000\n",
      " 0.000 -0.000 0.000 0.000 -0.000 0.000 -0.000 0.000 -0.000 -0.000 0.000\n",
      " 0.000 0.000 0.000 -0.003 -0.002 0.000 -0.000 -0.000 -0.000 -0.000 0.000\n",
      " 0.000 0.000 0.000 0.000 0.000 0.000 -0.000 -0.043 0.065 -0.000 0.065\n",
      " 0.043 0.000 0.000 0.000 0.066 -0.000 0.000 -0.000 -0.000 -0.000 0.000\n",
      " 0.000 0.000 0.036 -0.000 -0.005 0.000 -0.000 0.008 -0.000 -0.000 -0.000\n",
      " -0.000 -0.000 -0.000 0.019 -0.000 0.000 0.000 -0.000 -0.000 0.000 0.000\n",
      " -0.000 0.000 0.008 -0.000 0.000 0.005 0.000 0.000 -0.000 -0.000 0.000\n",
      " 0.000 0.000 0.019 0.000 0.000 0.000 -0.000 -0.000 -0.000 0.000]\n"
     ]
    }
   ],
   "source": [
    "np.set_printoptions(formatter={'float_kind':\"{:.3f}\".format})\n",
    "print(v[:,0])"
   ]
  },
  {
   "cell_type": "markdown",
   "id": "general-grade",
   "metadata": {},
   "source": [
    "One can see that the largest coefficient is the first one, corresponding to the '222aa0' determinant, which intuitively is indeed the expected ground state configuration.\n",
    "\n",
    "You may be curious as to what happens in the Hij function, that is, how we compute the $\\langle i | H | j \\rangle $ matrix elements. The answer to this is the Slater-Condon rules, see the section on [Slater Determinants](sec:slater). This rules define the matrix elements in terms of molecular integrals, depending on the difference in occupation between the 2 determinants. The difference in occupation is easily formulated in terms of excitations, with different rules depending on if $|j \\rangle$ is singly or doubly excited compared to $|i \\rangle$. Any higher excitation will simply lead to 0.\n",
    "\n",
    "These rules are relatively easy to derive, both in standard and second quantization formulation. The idea is that the Hamiltonian has to \"reconcile\" the excitations. Being a two-electron operator, the Hamiltonian can reconcile at most two excitations.\n",
    "\n",
    "First we need to obtain the necessary integrals. Those are the standard 1 and 2 electron integrals but in the molecular orbital basis as the expressions are simpler in this basis. Since we are leaving some occupied orbitals outside of the CI space (the s orbitals), also called inactive orbitals, we also need to include their interaction with the electrons in our CI. This is done by replacing the 1 electron integrals by the inactive Fock matrix defined as:\n",
    "\n",
    "$$\n",
    "F^I_{pq} = h_{pq} + \\sum_{i \\in \\mathrm{inactive}} 2 (pq|ii) - (pi|qi) \n",
    "$$\n",
    "\n",
    "As in Hartree-Fock, we efficiently compute this matrix in the AO basis:\n",
    "\n",
    "$$\n",
    "F^I_{\\mu\\nu} = h_{\\mu\\nu} + \\sum_{\\lambda\\sigma} 2 D^I_{\\lambda\\sigma}(\\mu\\nu|\\lambda\\sigma) - (\\mu \\lambda|\\nu\\sigma) \n",
    "$$\n",
    "using the inactive density matrix defined from the MO coefficients $C^i_\\mu$:\n",
    "\n",
    "$$\n",
    "D^I_{\\mu\\nu}= \\sum_{i \\in \\mathrm{inactive}} C^i_\\mu C^i_\\nu\n",
    "$$\n",
    "\n",
    "To compute the total energy, we also need to include the inactive energy, which is simply the energy of the inactive electrons and the nuclear-nuclear repulsion term.\n",
    "\n",
    "$$\n",
    "E^I = V_{NN} + \\sum_{i \\in \\mathrm{inactive}} 2 ( h_{ii} + F^I_{ii} )\n",
    "$$\n",
    "or using the AO matrices\n",
    "\n",
    "$$\n",
    "E^I = V_{NN} + \\sum_{pq} D^I_{\\mu\\nu} ( h_{\\mu\\nu} + F^I_{\\mu\\nu} )\n",
    "$$\n"
   ]
  },
  {
   "cell_type": "code",
   "execution_count": 9,
   "id": "07e111a0",
   "metadata": {},
   "outputs": [],
   "source": [
    "nIn = space.nOcc #Number of inactive orbitals\n",
    "nAct = space.nAct #Number of active orbitals\n",
    "nbas = space.norb #Total number of orbitals\n",
    "\n",
    "############################\n",
    "## Get integrals and V_NN ##\n",
    "############################\n",
    "V_nuc = molecule.nuclear_repulsion_energy()\n",
    "\n",
    "# one-electron Hamiltonian\n",
    "kinetic_drv = vlx.KineticEnergyIntegralsDriver()\n",
    "T = kinetic_drv.compute(molecule, basis).to_numpy()\n",
    "\n",
    "nucpot_drv = vlx.NuclearPotentialIntegralsDriver()\n",
    "V = -nucpot_drv.compute(molecule, basis).to_numpy()\n",
    "\n",
    "h = T + V \n",
    "\n",
    "# two-electron Hamiltonian\n",
    "eri_drv = vlx.ElectronRepulsionIntegralsDriver()\n",
    "g = np.zeros((nbas, nbas, nbas, nbas))\n",
    "eri_drv.compute_in_memory(molecule, basis, g)\n",
    "\n",
    "#################################\n",
    "## Compute the needed matrices ##\n",
    "#################################\n",
    "\n",
    "C = scfdrv.mol_orbs.alpha_to_numpy()\n",
    "Cact=C[:, nIn:nIn+nAct] #Active MOs"
   ]
  },
  {
   "cell_type": "markdown",
   "id": "7b5d9822",
   "metadata": {},
   "source": [
    "As an exercise, the reader is invited to compute the inactive energy and Fock matrix:\n",
    "\n",
    "```python\n",
    "# Compute the inactive density matrix\n",
    "Din = ...\n",
    "\n",
    "# Compute the inactive Fock matrix in AO\n",
    "Jin = ... #Coulomb term\n",
    "Kin = ... #Exchange term\n",
    "Fin = ... #Fock matrix\n",
    "\n",
    "#Compute the inactive energy:\n",
    "Ein = ...\n",
    "```"
   ]
  },
  {
   "cell_type": "code",
   "execution_count": 10,
   "id": "84d69e57",
   "metadata": {
    "tags": [
     "hide-input"
    ]
   },
   "outputs": [],
   "source": [
    "# Compute the inactive density matrix\n",
    "Din = np.einsum('mi,ni->mn', C[:, :nIn], C[:, :nIn])\n",
    "\n",
    "# Compute the inactive Fock matrix in AO\n",
    "Jin = np.einsum('mnls,ls->mn', g, Din) #Coulomb term\n",
    "Kin = np.einsum('mlns,ls->mn', g, Din) #Exchange term\n",
    "Fin = h + 2*Jin - Kin #Fock matrix\n",
    "\n",
    "#Compute the inactive energy:\n",
    "Ein = np.einsum('ij,ij->', h + Fin, Din) + V_nuc"
   ]
  },
  {
   "cell_type": "code",
   "execution_count": 11,
   "id": "791c82ed",
   "metadata": {},
   "outputs": [],
   "source": [
    "# Transform the Fock matrix to active MO basis\n",
    "Ftu = np.einsum(\"pq,qu, pt->tu\", Fin, Cact, Cact)\n",
    "\n",
    "#Transform the 2-electron integrals to active MO basis\n",
    "pqrw = np.einsum(\"pqrs,sw->pqrw\", g   , Cact)\n",
    "pqvw = np.einsum(\"pqrw,rv->pqvw\", pqrw, Cact)\n",
    "puvw = np.einsum(\"pqvw,qu->puvw\", pqvw, Cact)\n",
    "tuvw = np.einsum(\"puvw,pt->tuvw\", puvw, Cact)"
   ]
  },
  {
   "cell_type": "markdown",
   "id": "35f1655d",
   "metadata": {},
   "source": [
    "We can compare our results to those provided directly by CIham if needed:"
   ]
  },
  {
   "cell_type": "code",
   "execution_count": 12,
   "id": "8025dfcd",
   "metadata": {},
   "outputs": [],
   "source": [
    "assert abs(Ein - CIham.inEne)<1.0e-8\n",
    "np.testing.assert_almost_equal(Ftu, CIham.Ftu)\n",
    "np.testing.assert_almost_equal(tuvw, CIham.tuvw)"
   ]
  },
  {
   "cell_type": "markdown",
   "id": "b31a1cd4",
   "metadata": {},
   "source": [
    "Using those integrals, we can now implement the Slater Condon rules:"
   ]
  },
  {
   "cell_type": "code",
   "execution_count": 13,
   "id": "precious-advocacy",
   "metadata": {},
   "outputs": [],
   "source": [
    "def SC_diag(occa, occb):\n",
    "    '''\n",
    "    The energy of a given SD, as a function of its list of occupied orbitals\n",
    "    '''\n",
    "    Hij = Ein #Inactive energy (inc. nuclear repulsion)\n",
    "    for i in occa:\n",
    "        Hij += Ftu[i,i] #1-e term = inactive Fock matrix\n",
    "        for j in occa:\n",
    "            if i < j:\n",
    "                Hij += tuvw[i,i,j,j] - tuvw[i,j,j,i] #Coulomb-Exchange\n",
    "        for j in occb:\n",
    "            Hij += tuvw[i,i,j,j]\n",
    "    for i in occb:\n",
    "        Hij += Ftu[i,i]\n",
    "        for j in occb:\n",
    "            if i < j:\n",
    "                Hij += tuvw[i,i,j,j]-tuvw[i,j,j,i]\n",
    "    return Hij\n",
    "def SC_1exc(i, a, ss_occ, os_occ):\n",
    "    '''\n",
    "    Slater-Condon between a SD and a singly excited determinant, depending on the excited orbitals (i,a)\n",
    "    and the same-spin (compared to spin of the excited electron) and opposite-spin occupation\n",
    "    '''\n",
    "    Hij = Ftu[i,a]\n",
    "    for k in ss_occ:\n",
    "        Hij += tuvw[i,a,k,k] - tuvw[i,k,k,a]\n",
    "    for k in os_occ:\n",
    "        Hij += tuvw[i,a,k,k]\n",
    "    return Hij\n",
    "def SC_ss1exc(i,a,j,b):\n",
    "    '''\n",
    "    Slater-Condon between a SD and a doubly excited determinant,\n",
    "    with both excited electrons having the same spin\n",
    "    '''\n",
    "    return tuvw[i,a,j,b] - tuvw[i,b,j,a]\n",
    "def SC_os1exc(i,a,j,b):\n",
    "    '''\n",
    "    Slater-Condon between a SD and a doubly excited determinant,\n",
    "    with the excited electrons having opposite spin\n",
    "    '''\n",
    "    return tuvw[i,a,j,b]"
   ]
  },
  {
   "cell_type": "markdown",
   "id": "fitted-kitty",
   "metadata": {},
   "source": [
    "The difficult part is to make sure that the occupations of the Slater determinants are brought to maximum concordance. The expansion produced by lexical ordering may not have this property, but one can switch electrons until we reach this maximum concordance, introducing a negative phase factor at each electron exchange. Again, MultiPsi provides a convenient way to achieve this. The idea is to explicitly create the singly excited determinant (or doubly excited by applying the operation twice) and then keep track of the number of exchanges to bring it to natural ordering. The excite_alpha and excite_beta functions do this, providing both the excited determinant and the phase factor. The index() function of the determinants then provides the index of the given determinant in the expansion, in order to associate the energy to the correct position in the Hamiltonian.\n",
    "\n",
    "With these new tools and our Slater-Condon functions, we can now rewrite the above code. We replace the double loop by a simple loop and then an explicit construction of all singly and doubly excited determinants. The resulting code looks more complex but is relatively easy to follow."
   ]
  },
  {
   "cell_type": "code",
   "execution_count": 14,
   "id": "italian-rental",
   "metadata": {},
   "outputs": [],
   "source": [
    "Ham = np.zeros((expansion.nDet,expansion.nDet))\n",
    "for idet, det in enumerate(expansion.detlist()):\n",
    "    #Diagonal term\n",
    "    Ham[idet,idet] = SC_diag(det.occ_alpha(),det.occ_beta())\n",
    "    #Single excitations alpha\n",
    "    for i in det.occ_alpha():\n",
    "        for a in det.unocc_alpha():\n",
    "            phase, excdet = det.excite_alpha(i,a)\n",
    "            Ham[idet, excdet.index()] = phase * SC_1exc(i,a,det.occ_alpha(),det.occ_beta())\n",
    "            #alpha-alpha excitation\n",
    "            for j in det.occ_alpha():\n",
    "                if i >= j:\n",
    "                    continue\n",
    "                for b in det.unocc_alpha():\n",
    "                    if a >= b:\n",
    "                        continue\n",
    "                    phase2, exc2det = excdet.excite_alpha(j,b)\n",
    "                    Ham[idet, exc2det.index()] = phase * phase2 * SC_ss1exc(i,a,j,b)\n",
    "            #alpha-beta excitation\n",
    "            for j in det.occ_beta():\n",
    "                for b in det.unocc_beta():\n",
    "                    phase2, exc2det = excdet.excite_beta(j,b)\n",
    "                    Ham[idet, exc2det.index()] = phase * phase2 * SC_os1exc(i,a,j,b)\n",
    "    #Single excitations beta\n",
    "    for i in det.occ_beta():\n",
    "        for a in det.unocc_beta():\n",
    "            phase, excdet = det.excite_beta(i,a)\n",
    "            Ham[idet, excdet.index()] = phase * SC_1exc(i,a,det.occ_beta(), det.occ_alpha())\n",
    "            #beta-beta excitation\n",
    "            for j in det.occ_beta():\n",
    "                if i >= j:\n",
    "                    continue\n",
    "                for b in det.unocc_beta():\n",
    "                    if a >= b:\n",
    "                        continue\n",
    "                    phase2, exc2det = excdet.excite_beta(j,b)\n",
    "                    Ham[idet, exc2det.index()] = phase * phase2 * SC_ss1exc(i,a,j,b) "
   ]
  },
  {
   "cell_type": "markdown",
   "id": "swedish-morning",
   "metadata": {},
   "source": [
    "The advantage of this loop structure is that we only compute the non-zero elements. It can be easily verified that we obtain the same result:"
   ]
  },
  {
   "cell_type": "code",
   "execution_count": 15,
   "id": "serial-effect",
   "metadata": {},
   "outputs": [
    {
     "name": "stdout",
     "output_type": "stream",
     "text": [
      "[-147.723 -147.495 -147.495]\n"
     ]
    }
   ],
   "source": [
    "w,v = np.linalg.eigh(Ham)\n",
    "print(w[0:3])"
   ]
  },
  {
   "cell_type": "markdown",
   "id": "thrown-bedroom",
   "metadata": {},
   "source": [
    "## Direct CI\n",
    "\n",
    "As we saw, the number of SDs $N_{\\mathrm{SD}}$ grows extremely rapidly with the size of the system. The Hamiltonian matrix grows even faster, with size $N_{\\mathrm{SD}}^2$. For example, for a singlet with 6 electron in 6 orbitals, the number of SD is 210, growing to 31 878 for 10 electrons in 10 orbitals and 82 824 885 for 16 in 16. At this scale, the Hamiltonian matrix would take nearly 7000 TB of storage on a computer. Most of the matrix elements are zero, but even using sparse storage, the memory footprint is enormous.\n",
    "\n",
    "Fortunately, we are rarely if ever interested in the entire list of excited states, usually only the ground state and/or a couple of excited states. In this case, one can replace the diagonalisation of the Hamiltonian by an iterative process where we progressively optimise a couple of states. In this case, we do not need to store the entire Hamiltonian matrix, but we only need to know its effect on a vector, the so-called $\\boldsymbol{\\sigma}$ vector:\n",
    "\n",
    "$$\n",
    "\\boldsymbol{\\sigma} = \\mathbf{H} \\mathbf{c}\n",
    "$$\n",
    "\n",
    "In order to solve $ \\mathbf{H} \\mathbf{c} = \\epsilon \\mathbf{c} $, we can use a method similar to the conjugate gradient optimisation, which in this context is called the Davidson method. At each iteration, a new trial vector is constructed according to:\n",
    "\n",
    "(eq:cidav)=\n",
    "$$\n",
    "\\mathbf{c_{\\mathrm{dav}}} = (\\mathbf{H_0} - \\epsilon)^{-1} \\mathbf{r}\n",
    "$$\n",
    "with $\\mathbf{H_0}$ the preconditioner, typically the diagonal of the Hamiltonian and $\\mathbf{r}$ the residual vector defined as\n",
    "\n",
    "$$\n",
    "\\mathbf{r} = (\\mathbf{H} - \\epsilon) \\mathbf{c} = \\boldsymbol{\\sigma} - \\epsilon \\mathbf{c}\n",
    "$$\n",
    "\n",
    "To compute the improved CI vector, one typically creates and diagonalises a small Hamiltonian matrix in the basis of $\\mathbf{c}$ and $\\mathbf{c_{\\mathrm{dav}}}$, sometimes including also the vectors at previous iterations to improve convergence.\n",
    "\n",
    "Thus, only quantities with sizes equal to the number of SD are needed, and expansion up to up to hundreds of millions of determinant can be computed on a standard computer.\n",
    "\n",
    "The code we had to compute the Hamiltonian can be trivially modified to compute the sigma vector. One simply need to change:\n",
    "\n",
    "```python\n",
    "Ham[i,j] = X\n",
    "```\n",
    "to\n",
    "\n",
    "```\n",
    "sigma[i] = X * vector[j]\n",
    "```"
   ]
  },
  {
   "cell_type": "markdown",
   "id": "84cbd651",
   "metadata": {},
   "source": [
    "We leave this as an exercise for the reader:\n",
    "\n",
    "```python\n",
    "def sigma(vector):\n",
    "    result = np.zeros(expansion.nDet)\n",
    "    for idet, det in enumerate(expansion.detlist()):\n",
    "        ...\n",
    "\n",
    "    return result\n",
    "\n",
    "```"
   ]
  },
  {
   "cell_type": "code",
   "execution_count": 16,
   "id": "sensitive-dylan",
   "metadata": {
    "tags": [
     "hide-input"
    ]
   },
   "outputs": [],
   "source": [
    "def sigma(vector):\n",
    "    result = np.zeros(expansion.nDet)\n",
    "    for idet, det in enumerate(expansion.detlist()):\n",
    "        #Diagonal term\n",
    "        result[idet] += SC_diag(det.occ_alpha(), det.occ_beta()) * vector[idet]\n",
    "        #Single excitations alpha\n",
    "        for i in det.occ_alpha():\n",
    "            for a in det.unocc_alpha():\n",
    "                phase, excdet = det.excite_alpha(i,a)\n",
    "                result[excdet.index()] += phase * SC_1exc(i,a,det.occ_alpha(),det.occ_beta()) * vector[idet]\n",
    "                #alpha-alpha excitation\n",
    "                for j in det.occ_alpha():\n",
    "                    if i >= j:\n",
    "                        continue\n",
    "                    for b in det.unocc_alpha():\n",
    "                        if a >= b:\n",
    "                            continue\n",
    "                        phase2, exc2det = excdet.excite_alpha(j,b)\n",
    "                        result[exc2det.index()] += phase * phase2 * SC_ss1exc(i,a,j,b) * vector[idet]\n",
    "                #alpha-beta excitation\n",
    "                for j in det.occ_beta():\n",
    "                    for b in det.unocc_beta():\n",
    "                        phase2, exc2det = excdet.excite_beta(j,b)\n",
    "                        result[exc2det.index()] += phase * phase2 * SC_os1exc(i,a,j,b) * vector[idet]\n",
    "        #Single excitations beta\n",
    "        for i in det.occ_beta():\n",
    "            for a in det.unocc_beta():\n",
    "                phase,excdet = det.excite_beta(i,a)\n",
    "                result[excdet.index()] += phase * SC_1exc(i,a,det.occ_beta(), det.occ_alpha()) * vector[idet]\n",
    "                #beta-beta excitation\n",
    "                for j in det.occ_beta():\n",
    "                    if i >= j:\n",
    "                        continue\n",
    "                    for b in det.unocc_beta():\n",
    "                        if a >= b:\n",
    "                            continue\n",
    "                        phase2, exc2det = excdet.excite_beta(j,b)\n",
    "                        result[exc2det.index()] += phase * phase2 * SC_ss1exc(i,a,j,b) * vector[idet]\n",
    "    return result"
   ]
  },
  {
   "cell_type": "markdown",
   "id": "liquid-business",
   "metadata": {},
   "source": [
    "We can check that we get the same result as using the explicit Hamiltonian."
   ]
  },
  {
   "cell_type": "code",
   "execution_count": 17,
   "id": "powerful-banking",
   "metadata": {},
   "outputs": [],
   "source": [
    "vec0 = np.random.rand(expansion.nDet) #Create a random vector\n",
    "\n",
    "#Check that one gets the same result with this new function as doing explicitely H.C\n",
    "np.testing.assert_almost_equal(np.dot(Ham, vec0), sigma(vec0))"
   ]
  },
  {
   "cell_type": "markdown",
   "id": "adequate-custody",
   "metadata": {},
   "source": [
    "We have now all the tools needed to optimise our CI vector. We will first initialise the CI vector to the dominant Slater determinant (which we saw was conveniently the first one) and perform the Davidson steps until the norm of the residual gets sufficiently close to 0."
   ]
  },
  {
   "cell_type": "code",
   "execution_count": 18,
   "id": "fantastic-tension",
   "metadata": {},
   "outputs": [
    {
     "name": "stdout",
     "output_type": "stream",
     "text": [
      "Energy at step 1 = -147.6295384002183\n",
      "Energy at step 2 = -147.71943365872372\n",
      "Energy at step 3 = -147.72318864393188\n",
      "Energy at step 4 = -147.7233687717927\n",
      "Energy at step 5 = -147.7233888421168\n",
      "Energy at step 6 = -147.72339140513358\n",
      "Energy at step 7 = -147.72339184362315\n",
      "Energy at step 8 = -147.72339192048076\n",
      "Energy at step 9 = -147.72339193446453\n"
     ]
    }
   ],
   "source": [
    "\n",
    "#Compute Hdiag\n",
    "Hdiag = np.empty(expansion.nDet)\n",
    "for idet,det in enumerate(expansion.detlist()):\n",
    "    Hdiag[idet] = SC_diag(det.occ_alpha(), det.occ_beta())\n",
    "    \n",
    "vec0 = np.zeros(expansion.nDet)\n",
    "lowest_state = np.argmin(Hdiag)\n",
    "\n",
    "vec0[lowest_state] = 1 #Initialise to the HF reference\n",
    "\n",
    "resnorm = 1\n",
    "istep = 0\n",
    "while resnorm > 0.0001: #As long as the residual norm is large\n",
    "    istep += 1\n",
    "    \n",
    "    sigvec0 = sigma(vec0) #Note that this technically does not need to be recomputed from scratch at each iteration\n",
    "    energy = np.dot(vec0,sigvec0)\n",
    "    print(\"Energy at step\", istep, \"=\", energy)\n",
    "    \n",
    "    #Compute residual and its norm\n",
    "    residual = sigvec0-energy*vec0\n",
    "    resnorm = np.linalg.norm(residual)\n",
    "    \n",
    "    #Compute Davidson update\n",
    "    preconditioner = 1/(Hdiag - energy + 0.0001) #0.0001 to prevent divergence\n",
    "    vec1 = preconditioner * residual\n",
    "    \n",
    "    #Orthonormalize with vec0\n",
    "    vec1 -= np.dot(vec1, vec0) * vec0\n",
    "    norm = np.linalg.norm(vec1)\n",
    "    vec1 *= 1/norm\n",
    "    sigvec1 = sigma(vec1)\n",
    "    \n",
    "    #Create small hamiltonian\n",
    "    smallHam = np.zeros((2,2))\n",
    "    smallHam[0,0] = energy\n",
    "    smallHam[0,1] = np.dot(vec0,sigvec1)\n",
    "    smallHam[1,0] = np.dot(vec1,sigvec0)\n",
    "    smallHam[1,1] = np.dot(vec1,sigvec1)\n",
    "    \n",
    "    #Form the updated CI vector using the eigenvector\n",
    "    w,v = np.linalg.eigh(smallHam)\n",
    "    vec0 = v[0,0] * vec0 + v[1,0] * vec1\n",
    "    norm = np.linalg.norm(vec0)\n",
    "    vec0 *= 1/norm    "
   ]
  },
  {
   "cell_type": "markdown",
   "id": "religious-pattern",
   "metadata": {},
   "source": [
    "We can compare this to the CI optimisation of MultiPsi:"
   ]
  },
  {
   "cell_type": "code",
   "execution_count": 19,
   "id": "derived-property",
   "metadata": {
    "tags": [
     "output_scroll"
    ]
   },
   "outputs": [
    {
     "name": "stdout",
     "output_type": "stream",
     "text": [
      "\n",
      "          Active space definition:\n",
      "          ------------------------\n",
      "Number of inactive (occupied) orbitals: 4\n",
      "Number of active orbitals:              6\n",
      "Number of virtual orbitals:             0\n",
      "\n",
      "    This is a CASSCF wavefunction: CAS(8,6)\n",
      "\n",
      "          CI expansion:\n",
      "          -------------\n",
      "Number of determinants:      120\n",
      "\n",
      "\n",
      "                                                                                                                          \n",
      "        CI Iterations\n",
      "        -------------\n",
      "                                                                                                                          \n",
      "     Iter. | Average Energy | E. Change | Grad. Norm |   Time\n",
      "     ----------------------------------------------------------\n",
      "        1     -147.629538400     0.0e+00      1.6e-01   0:00:00\n",
      "        2     nan         nan      0.0e+00   0:00:00\n",
      "Something went very wrong in Davidson, linear dependency issue\n"
     ]
    },
    {
     "ename": "SystemExit",
     "evalue": "",
     "output_type": "error",
     "traceback": [
      "An exception has occurred, use %tb to see the full traceback.\n",
      "\u001b[0;31mSystemExit\u001b[0m\n"
     ]
    },
    {
     "name": "stderr",
     "output_type": "stream",
     "text": [
      "/home/thomas/Notebook/anaconda/envs/echem/lib/python3.10/site-packages/IPython/core/interactiveshell.py:3386: UserWarning: To exit: use 'exit', 'quit', or Ctrl-D.\n",
      "  warn(\"To exit: use 'exit', 'quit', or Ctrl-D.\", stacklevel=1)\n"
     ]
    }
   ],
   "source": [
    "CIdrv = mtp.CIDriver()\n",
    "#By default, the guess is done by diagonalising a small segment of the full Hamiltonian\n",
    "#here set the dimension of this Hamiltonian to 1, which corresponds to simply starting from a single SD\n",
    "CIdrv.nguess = 1\n",
    "CIdrv.compute(molecule, basis, space)"
   ]
  },
  {
   "cell_type": "markdown",
   "id": "protected-briefs",
   "metadata": {},
   "source": [
    "The CI code is of course more efficient, being fully optimised, and also converges in slightly fewer iterations than our test code, despite a stricter convergence threshold, by keeping old vectors when forming the small Hamiltonian (up to 10 by default). Otherwise the result is essentially the same."
   ]
  },
  {
   "cell_type": "markdown",
   "id": "ba4c332d",
   "metadata": {},
   "source": [
    "## Density matrices and natural orbitals\n",
    "\n",
    "In order to compute expectation values, useful for properties, but also as an intermediate for some additional electronic structure methods (such as [MCSCF](sec:static-correlation)), we often need to compute density matrices.\n",
    "\n",
    "The one-particle density matrix (in molecular orbital basis) is defined in second quantization as:\n",
    "\n",
    "$$\n",
    "D_{pq} = \\langle 0 | \\hat{a}_p^\\dagger \\hat{a}_q | 0 \\rangle\n",
    "$$\n",
    "\n",
    "It is easy to see that for a single Slater Determinant, this simplifies to:\n",
    "\n",
    "$$\n",
    "D^\\mathrm{HF}_{pq} = \\langle \\mathrm{HF} | \\hat{a}_p^\\dagger \\hat{a}_q | \\mathrm{HF} \\rangle = \\delta_{pq}\n",
    "$$\n",
    "for $p$ and $q$ occupied, and 0 otherwise.\n",
    "\n",
    "However, for CI wavefunctions, the resulting equation is more complex. In [the exercises](sec:ci-exercises), we will try to implement this using a similar structure as the code for the $\\sigma$ vector.\n",
    "\n",
    "One of the uses of the one-particle density matrix is that it allows an intuitive look at the correlated wavefunction by looking at the occupation number of the so-called natural orbitals. Indeed, while orbitals are originally born out of a mean-field theory and are technically not appropriate representations of a real (i.e., correlated) wavefunction, their intuitive power is undeniable. Natural orbitals generalize the concept of orbitals to correlated wavefunctions. The occupation numbers are now non-integer between 2 and 0, representing a sort of weighted average of the occupation across all configurations. By doing so, the occupation number offer a measure of correlation: occupations far from an integer value reflecting significant deviations from the mean-field picture, and thus significant correlation effects. Further discussion of these natural orbitals is included in the chapter on multiconfigurational methods."
   ]
  },
  {
   "cell_type": "code",
   "execution_count": null,
   "id": "02f80afa",
   "metadata": {},
   "outputs": [],
   "source": [
    "Dpq = CIdrv.get1den(0) #Get the density for state 0\n",
    "w, v = np.linalg.eigh(Dpq)\n",
    "print(\"Natural occupation numbers for O2: \", np.flip(w))"
   ]
  },
  {
   "cell_type": "markdown",
   "id": "62f3518d",
   "metadata": {},
   "source": [
    "Here we recognize the dominant configuration that we found earlier (222aa0), but with deviations coming from electron correlation. It is interesting to note how the occupation often work in pairs summing up approximately to an integer. This reflects that the dominant correlation (especially in this minimal basis case) is often within a bond itself, between the bonding and anti-bonding orbitals. In this example, the first and last orbitals correspond to the $\\sigma$ and $\\sigma^*$ with 2 electrons in total while orbitals 2 and 3 are $\\pi$ and 4 and 5 are $\\pi^*$ with 3 electrons in each orbital pairs."
   ]
  },
  {
   "cell_type": "markdown",
   "id": "secret-catalyst",
   "metadata": {},
   "source": [
    "(sec:truncated-ci)=\n",
    "## Truncated CI\n",
    "### Restricting the excitations\n",
    "\n",
    "This full CI method is only useful conceptually or for very small molecules as a benchmark reference. The issue is  that the  number of determinants  grows very  fast (factorially) with the size of the system.  For example, a simple water molecule in a polarization double zeta basis, corresponding to 10 electrons and 24 orbitals, would require 903.316.260 determinants. While such a calculation is possible, it is very expensive, and it should be obvious from this example that full CI cannot be used on any real size system.\n",
    "\n",
    "From here, different directions can be taken to turn CI into a useful computational tool. The first one is to restrict excitations, and thus the number of determinants involved  in  the  calculation. After all, a single  SD  turned  out to be  a reasonable approximation in most cases. As a the Hamiltonian is a two-electron operator, a determinant only interacts directly with at most doubly excited determinants, which suggests that those are those which would contribute the most to the energy. This can easily be tested on a small molecule like water. "
   ]
  },
  {
   "cell_type": "code",
   "execution_count": null,
   "id": "orange-wagner",
   "metadata": {
    "scrolled": true,
    "tags": [
     "hide_output"
    ]
   },
   "outputs": [],
   "source": [
    "import veloxchem as vlx\n",
    "import multipsi as mtp\n",
    "\n",
    "#One water calculation\n",
    "h2o_xyz = \"\"\"3\n",
    "water                                                                                                                          \n",
    "O    0.000000000000        0.000000000000        0.000000000000                         \n",
    "H    0.000000000000        0.740848095288        0.582094932012                         \n",
    "H    0.000000000000       -0.740848095288        0.582094932012\n",
    "\"\"\"\n",
    "\n",
    "H2O = vlx.Molecule.from_xyz_string(h2o_xyz)\n",
    "\n",
    "basis = vlx.MolecularBasis.read(H2O, \"6-31G\")\n",
    "\n",
    "scfdrv = vlx.ScfRestrictedDriver()\n",
    "scfdrv.compute(H2O, basis)\n",
    "H2O_orbs = scfdrv.mol_orbs\n",
    "\n",
    "E_hf = scfdrv.get_scf_energy()\n",
    "Energies = []\n",
    "\n",
    "space = mtp.OrbSpace(H2O,H2O_orbs)\n",
    "CIdrv = mtp.CIDriver()\n",
    "\n",
    "for excitations in range(1,5):\n",
    "    space.CI(excitations)    #Compute CIS, CISD, CISDT and CISDTQ\n",
    "    CIdrv.compute(H2O,basis,space)\n",
    "    Energies.append(CIdrv.getEnergies()[0])\n",
    "\n",
    "space.FCI()   #Compute fullCI\n",
    "CIdrv.compute(H2O,basis,space)\n",
    "E_FCI = CIdrv.getEnergies()[0]"
   ]
  },
  {
   "cell_type": "code",
   "execution_count": null,
   "id": "supposed-retrieval",
   "metadata": {},
   "outputs": [],
   "source": [
    "import matplotlib.pyplot as plt\n",
    "\n",
    "Energies = np.array(Energies) #Create a numpy array from the energies\n",
    "\n",
    "plt.figure(figsize=(6,4))\n",
    "x = np.array(range(1,5))\n",
    "plt.plot(x, (Energies-E_hf)/(E_FCI-E_hf)*100, label='CI energies')\n",
    "plt.title('Convergence of correlation')\n",
    "plt.xticks([1, 2, 3, 4], ['CIS', 'CISD', 'CISDT', 'CISDTQ'])\n",
    "plt.ylabel(\"% of correlation\")\n",
    "plt.legend()\n",
    "plt.tight_layout(); plt.show()\n",
    "\n",
    "print(\"Percentage of electron correlation recovered: \", (Energies-E_hf)/(E_FCI-E_hf)*100)"
   ]
  },
  {
   "cell_type": "markdown",
   "id": "pending-script",
   "metadata": {},
   "source": [
    "As we can see above, CIS does not recover any correlation (the optimized HF determinant does not interact with single excitations), and in general the odd excitation orders do not add much to the correlation energy. However, already with CISD, we recover more than 95% of the correlation energy, and that number rises to nearly 99.9% with CISDTQ. This is remarkable as water has 10 electrons, and thus up to 10 excitations are included in the full CI. Looking at the determinant count, CISD has only 1.141 determinants, compared to the 828.828 of full CI.\n",
    "\n",
    "This clearly suggests using truncated schemes, and in particular CISD as a relatively efficient way to recover most of the correlation energy."
   ]
  },
  {
   "cell_type": "markdown",
   "id": "applicable-blanket",
   "metadata": {
    "tags": []
   },
   "source": [
    "(sec:size-consistency)=\n",
    "### Size consistency\n",
    "\n",
    "The main issue with those truncated CI methods is that as the system grows larger, the importance of higher excitations increases, and thus truncated CI captures a smaller and smaller fraction of the correlation. \n",
    "\n",
    "This is very well illustrated when taking two identical molecules at large distance. One would normally expect the energy of this non-interacting dimer to be exactly twice that of the monomer. Let's verify it on our water molecule:"
   ]
  },
  {
   "cell_type": "code",
   "execution_count": null,
   "id": "nominated-prize",
   "metadata": {
    "tags": [
     "hide_output"
    ]
   },
   "outputs": [],
   "source": [
    "#Two water molecules, 100Å apart, CISD.\n",
    "h2o_xyz = \"\"\"6\n",
    "water                                                                                                                          \n",
    "O    0.000000000000        0.000000000000        0.000000000000                         \n",
    "H    0.000000000000        0.740848095288        0.582094932012                         \n",
    "H    0.000000000000       -0.740848095288        0.582094932012\n",
    "O  100.000000000000        0.000000000000        0.000000000000                         \n",
    "H  100.000000000000        0.740848095288        0.582094932012                         \n",
    "H  100.000000000000       -0.740848095288        0.582094932012\n",
    "\"\"\"\n",
    "\n",
    "molecule = vlx.Molecule.from_xyz_string(h2o_xyz)\n",
    "\n",
    "basis = vlx.MolecularBasis.read(molecule, \"6-31G\")\n",
    "\n",
    "scfdrv = vlx.ScfRestrictedDriver()\n",
    "scfdrv.compute(molecule, basis)\n",
    "\n",
    "space = mtp.OrbSpace(molecule, scfdrv.mol_orbs)\n",
    "space.CISD()\n",
    "\n",
    "CIdrv.compute(molecule, basis, space)\n",
    "\n",
    "E_2h20 = CIdrv.getEnergies()[0]"
   ]
  },
  {
   "cell_type": "code",
   "execution_count": null,
   "id": "charming-louisville",
   "metadata": {},
   "outputs": [],
   "source": [
    "print(\"CI Energy of 2 water molecules\", E_2h20)\n",
    "print(\"Twice the energy of 1 water molecule\", 2 * Energies[1])\n",
    "print(\"Size-consistency error\", E_2h20-2 * Energies[1])"
   ]
  },
  {
   "cell_type": "markdown",
   "id": "controlling-creativity",
   "metadata": {},
   "source": [
    "The calculation for the dimer found the energy to be higher than twice the monomer, and not equal as one would expect. This systematic failure of truncated CI is called size consistency error. In general, the truncated CI energy of two molecules far apart from each other is not the same as the sum of the truncated CI energy of each molecule.\n",
    "\n",
    "To understand this, let's assume a molecule $A$ whose CI expansion consists only of 2 SD, the HF reference and a SD generated by exciting 2 electrons from orbitals $i, j$ to $a, b$:\n",
    "\n",
    "$$\n",
    "| \\Psi_A \\rangle = c_{0} | ... ij ...\\rangle + c_{ijab} | ... ab ...\\rangle\n",
    "$$\n",
    "\n",
    "Now let's assume a second molecule $B$ with also 2 SD, the second one being generated from a $klcd$ excitation from the reference:\n",
    "\n",
    "$$\n",
    "| \\Psi_B \\rangle = c'_{0} | ... kl ...\\rangle + c'_{klcd} | ... cd ...\\rangle\n",
    "$$\n",
    "\n",
    "In a correct calculation, since the two systems are far apart, they should be independent, and thus, their combined wavefunction can be expressed as a product of their individual ones:\n",
    "\n",
    "$$\n",
    "| \\Psi_{AB} \\rangle &= | \\Psi_A \\Psi_B \\rangle \\\\\n",
    "                    &= \\Big( c_{0} | ... ij ...\\rangle + c_{ijab} | ... ab ...\\rangle \\Big) \\Big(c'_{0} | ... kl ...\\rangle + c'_{klcd} | ... cd ...\\rangle \\Big) \\\\\n",
    "                    &= c_0 c'_0 | ... ij...kl ...\\rangle + c_{0}c'_{klcd} | ... ij...cd ...\\rangle + c_{ijab}c'_{0} | ... ab...kl ...\\rangle + c_{ijab}c'_{klcd} | ... ab...cd ...\\rangle   \\\\\n",
    "$$\n",
    "\n",
    "The last term corresponds to a quadruple excitation from the first one (the HF reference). Since these quadruple excitations are excluded from CISD, it is clear the method cannot describe the combined system as well as it can describe the individual subsystems.\n",
    "\n",
    "Some approximations exist to try to at least partially correct for this error. One of the simplest is the _Davidson correction_ estimating the contribution from the quadruply excited determinants using a reasoning based on perturbation theory:\n",
    "\n",
    "$$\n",
    "\\Delta E_\\mathrm{Davidson} = (1 - c_0^2)(E_{\\rm CISD} - E_{\\rm HF}), \n",
    "$$\n",
    "\n",
    "Let's try it here"
   ]
  },
  {
   "cell_type": "code",
   "execution_count": null,
   "id": "664f1f94",
   "metadata": {},
   "outputs": [],
   "source": [
    "# Print the CI vector to find the weight of the HF determinant\n",
    "print(CIdrv.vecs[0])\n",
    "\n",
    "#Recompute 1 water molecule\n",
    "space = mtp.OrbSpace(H2O,H2O_orbs)\n",
    "space.CISD()\n",
    "CIdrv.compute(H2O,basis,space)\n",
    "\n",
    "print(CIdrv.vecs[0])"
   ]
  },
  {
   "cell_type": "code",
   "execution_count": null,
   "id": "b71d4b6d",
   "metadata": {},
   "outputs": [],
   "source": [
    "E_D_2H2O = (1-0.932)*(E_2h20 - scfdrv.get_scf_energy()) + E_2h20\n",
    "\n",
    "print(\"Davidson Energy of 2 water molecules\", E_D_2H2O)\n",
    "\n",
    "E_D_H2O = (1-0.962)*(CIdrv.getEnergy(0) - E_hf) + CIdrv.getEnergy(0)\n",
    "\n",
    "print(\"Twice the energy of 1 water molecule\", 2 * E_D_H2O)\n",
    "print(\"Size consistency error\",E_D_2H2O-2 * E_D_H2O)"
   ]
  },
  {
   "cell_type": "markdown",
   "id": "163b9666",
   "metadata": {},
   "source": [
    "The size-consistency error has clearly been significantly reduced, now around only about 1 kcal/mol.\n",
    "\n",
    "Despite this, truncated CI have for the most part disappeared from the quantum chemistry landscape as more efficient and/or more accurate methods supplanted them."
   ]
  },
  {
   "cell_type": "code",
   "execution_count": null,
   "id": "882a5e65",
   "metadata": {},
   "outputs": [],
   "source": []
  }
 ],
 "metadata": {
  "celltoolbar": "Tags",
  "kernelspec": {
   "display_name": "Python 3 (ipykernel)",
   "language": "python",
   "name": "python3"
  },
  "language_info": {
   "codemirror_mode": {
    "name": "ipython",
    "version": 3
   },
   "file_extension": ".py",
   "mimetype": "text/x-python",
   "name": "python",
   "nbconvert_exporter": "python",
   "pygments_lexer": "ipython3",
   "version": "3.10.6"
  }
 },
 "nbformat": 4,
 "nbformat_minor": 5
}
