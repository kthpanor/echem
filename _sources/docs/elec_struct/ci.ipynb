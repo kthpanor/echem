{
 "cells": [
  {
   "cell_type": "markdown",
   "id": "growing-cornell",
   "metadata": {
    "editable": true,
    "slideshow": {
     "slide_type": ""
    },
    "tags": []
   },
   "source": [
    "(sec:ci)=\n",
    "# Configuration interaction\n",
    "## General theory\n",
    "\n",
    "One of the conceptually (but not computationally) simplest way to solve the Schrödinger equation is to simply expand our many-body wave function on a $N$-electron basis set (not to be confused with the one-electron basis functions used to expand orbitals)\n",
    "\n",
    "$$\n",
    "| \\Psi_{\\text{CI}} \\rangle = \\sum_k c_k | \\mathbf{k} \\rangle \n",
    "$$\n",
    "\n",
    "with energy\n",
    "\n",
    "(eq:CIene)=\n",
    "$$\n",
    "E_{\\text{CI}} = \\frac{\\langle \\Psi_{\\text{CI}} | \\hat{H} | \\Psi_{\\text{CI}} \\rangle}{\\langle \\Psi_{\\text{CI}} | \\Psi_{\\text{CI}} \\rangle} \n",
    "$$\n",
    "\n",
    "As the size of this basis set increases, the solution converges to the exact solution of the Schrödinger equation.\n",
    "\n",
    "There is a redundancy in the parameters $c_k$, as multiplying them all by a constant does not change the energy. We thus add the constraint that the wave function should be normalized\n",
    "\n",
    "$$\n",
    "\\langle \\Psi_{\\text{CI}} | \\Psi_{\\text{CI}} \\rangle = \\sum_k c_k^2 = 1\n",
    "$$\n",
    "\n",
    "To minimize the wave function subject to this constraint, we write a Lagrangian\n",
    "\n",
    "$$\n",
    "L = E - \\epsilon(\\sum_k c_k^2 -1)\n",
    "$$\n",
    "\n",
    "To define our minimization we set the gradient of our Lagrangian to 0 and obtain\n",
    "\n",
    "$$\n",
    "\\frac{\\mathrm{d}L}{\\mathrm{d} c_k} =  \\sum_i \\langle \\mathbf{i} | \\hat{H} | \\mathbf{k} \\rangle c_i - \\epsilon c_k + \\text{c.c.}= 0 \\, \n",
    "$$\n",
    "\n",
    "where \"$\\text{c.c.}$\" denotes the complex conjugate of the previous expression. This can finally be recast in the familiar form\n",
    "\n",
    "$$\n",
    "\\mathbf{H} \\mathbf{c} = \\epsilon \\mathbf{c}\n",
    "$$\n",
    "\n",
    "showing that minimizing the CI energy energy is equivalent to diagonalizing the Hamiltonian matrix in our chosen basis, with the eigenvalues being the energies of all possible states in the system. The ground state simply corresponds to the lowest eigenvalue."
   ]
  },
  {
   "cell_type": "markdown",
   "id": "finnish-tomorrow",
   "metadata": {
    "editable": true,
    "slideshow": {
     "slide_type": ""
    },
    "tags": []
   },
   "source": [
    "## The $N$-electron basis\n",
    "\n",
    "There are in principle an infinite number of possible $N$-electron basis to choose from, but we ideally want the expansion to converge quickly (compact expansion) and the functions to be easily manipulable to efficiently compute the Hamiltonian elements. Unfortunately, these two criteria often oppose each other.\n",
    "\n",
    "As electron correlation depends on the distance between electrons, it would be natural to use functions that depend explicitly on this distance, the same way as our Gaussian or Slater one-electron basis depends explicitly on the distance between electron and nuclei. Wave functions having these properties are typically called explicitly correlated wave functions, but this interelectronic distance makes the calculation of integrals very difficult as it couples multiple electrons together.\n",
    "\n",
    "We often drop this explicit dependence and instead use a wave function that is formed from products of one-electron functions, *i.e.*, a product of orbitals. The simplest of these basis functions is the [Hartree product](https://en.wikipedia.org/wiki/Hartree_equation), but since we know the wave function should be antisymmetric with respect to the exchange of two electrons, we instead use the antisymmetrised version of the Hartree product: [Slater determinants (SDs)](sec:slater). As each SD represents a different electronic configuration, the resulting method is called configuration interaction (CI). As discussed in the previous sections, this basis of SDs constitutes a complete basis within a specified one-electron basis set, and thus the solution obtained by minimizing the energy of this wave function is the exact ground state within that one-electron basis.\n",
    "\n",
    "In some codes, [configuration state functions (CSFs)](https://en.wikipedia.org/wiki/Configuration_state_function) are used instead of SDs. CSFs are fixed linear combinations of SDs but with the attractive properties that they are also eigenfunctions of the $\\hat{S}^2$ spin operator. This spin constraints means that the resulting wave function will always be spin-adapted and also that CSFs are less numerous than Slater determinants, which has advantages on a computational standpoint. However, SDs can be expressed as ordered \"strings\" of $\\alpha$ and $\\beta$ creation operators, and this separation of $\\alpha$ and $\\beta$ electrons allows for efficient computer implementations, outweighing the benefits of the slightly smaller expansion of CSF.\n",
    "\n",
    "Having chosen SDs as our basis functions, we now need an efficient way to create our expansion, *i.e.*, a direct link between a given index in our expansion and the corresponding occupation of the SDs. This link should work both ways, matching a given occupation to the corresponding index in the expansion. A common choice is the so-called lexical ordering or the reverse lexical ordering. The details are beyond the scope of this page, but fortunately, the MultiPsi package provides the tools to do this.\n",
    "\n",
    "Let's start by initializing a calculation for O$_2$. We will first run a Hartree--Fock (HF) calculation to generate starting orbitals. The ground state of this molecule is a triplet, so we will use restricted open-shell HF. Note that full CI is exact and does not depend on the actual shape of the orbitals, so we could have run a singlet calculation instead without changing the result."
   ]
  },
  {
   "cell_type": "code",
   "execution_count": 1,
   "id": "17779923-10cd-4534-904d-a82c9268ac93",
   "metadata": {
    "editable": true,
    "scrolled": true,
    "slideshow": {
     "slide_type": ""
    },
    "tags": [
     "remove-output"
    ]
   },
   "outputs": [],
   "source": [
    "import multipsi as mtp\n",
    "import numpy as np\n",
    "import veloxchem as vlx"
   ]
  },
  {
   "cell_type": "code",
   "execution_count": 2,
   "id": "e47a067c-e1e2-4ee3-ba46-7fa269da4ec0",
   "metadata": {
    "editable": true,
    "scrolled": true,
    "slideshow": {
     "slide_type": ""
    },
    "tags": []
   },
   "outputs": [],
   "source": [
    "o2_xyz = \"\"\"2\n",
    "Oxygen molecule                                                                                                                         \n",
    "O    -0.600000000000       0.000000000000        0.000000000000       \n",
    "O     0.600000000000       0.000000000000        0.000000000000\n",
    "\"\"\"\n",
    "\n",
    "molecule = vlx.Molecule.read_xyz_string(o2_xyz)\n",
    "molecule.set_multiplicity(3)\n",
    "basis = vlx.MolecularBasis.read(molecule, \"STO-3G\", ostream=None)"
   ]
  },
  {
   "cell_type": "code",
   "execution_count": 3,
   "id": "8047e2a9-4b27-4848-b5bf-6732f24b643a",
   "metadata": {
    "editable": true,
    "slideshow": {
     "slide_type": ""
    },
    "tags": []
   },
   "outputs": [
    {
     "data": {
      "application/3dmoljs_load.v0": "<div id=\"3dmolviewer_1739453514092232\"  style=\"position: relative; width: 400px; height: 300px;\">\n        <p id=\"3dmolwarning_1739453514092232\" style=\"background-color:#ffcccc;color:black\">3Dmol.js failed to load for some reason.  Please check your browser console for error messages.<br></p>\n        </div>\n<script>\n\nvar loadScriptAsync = function(uri){\n  return new Promise((resolve, reject) => {\n    //this is to ignore the existence of requirejs amd\n    var savedexports, savedmodule;\n    if (typeof exports !== 'undefined') savedexports = exports;\n    else exports = {}\n    if (typeof module !== 'undefined') savedmodule = module;\n    else module = {}\n\n    var tag = document.createElement('script');\n    tag.src = uri;\n    tag.async = true;\n    tag.onload = () => {\n        exports = savedexports;\n        module = savedmodule;\n        resolve();\n    };\n  var firstScriptTag = document.getElementsByTagName('script')[0];\n  firstScriptTag.parentNode.insertBefore(tag, firstScriptTag);\n});\n};\n\nif(typeof $3Dmolpromise === 'undefined') {\n$3Dmolpromise = null;\n  $3Dmolpromise = loadScriptAsync('https://cdnjs.cloudflare.com/ajax/libs/3Dmol/2.4.2/3Dmol-min.js');\n}\n\nvar viewer_1739453514092232 = null;\nvar warn = document.getElementById(\"3dmolwarning_1739453514092232\");\nif(warn) {\n    warn.parentNode.removeChild(warn);\n}\n$3Dmolpromise.then(function() {\nviewer_1739453514092232 = $3Dmol.createViewer(document.getElementById(\"3dmolviewer_1739453514092232\"),{backgroundColor:\"white\"});\nviewer_1739453514092232.zoomTo();\n\tviewer_1739453514092232.addModel(\"2\\n\\nO             -0.600000000000         0.000000000000         0.000000000000\\nO              0.600000000000         0.000000000000         0.000000000000\\n\");\n\tviewer_1739453514092232.setViewStyle({\"style\": \"outline\", \"width\": 0.05});\n\tviewer_1739453514092232.setStyle({\"stick\": {}, \"sphere\": {\"scale\": 0.25}});\n\tviewer_1739453514092232.zoomTo();\nviewer_1739453514092232.render();\n});\n</script>",
      "text/html": [
       "<div id=\"3dmolviewer_1739453514092232\"  style=\"position: relative; width: 400px; height: 300px;\">\n",
       "        <p id=\"3dmolwarning_1739453514092232\" style=\"background-color:#ffcccc;color:black\">3Dmol.js failed to load for some reason.  Please check your browser console for error messages.<br></p>\n",
       "        </div>\n",
       "<script>\n",
       "\n",
       "var loadScriptAsync = function(uri){\n",
       "  return new Promise((resolve, reject) => {\n",
       "    //this is to ignore the existence of requirejs amd\n",
       "    var savedexports, savedmodule;\n",
       "    if (typeof exports !== 'undefined') savedexports = exports;\n",
       "    else exports = {}\n",
       "    if (typeof module !== 'undefined') savedmodule = module;\n",
       "    else module = {}\n",
       "\n",
       "    var tag = document.createElement('script');\n",
       "    tag.src = uri;\n",
       "    tag.async = true;\n",
       "    tag.onload = () => {\n",
       "        exports = savedexports;\n",
       "        module = savedmodule;\n",
       "        resolve();\n",
       "    };\n",
       "  var firstScriptTag = document.getElementsByTagName('script')[0];\n",
       "  firstScriptTag.parentNode.insertBefore(tag, firstScriptTag);\n",
       "});\n",
       "};\n",
       "\n",
       "if(typeof $3Dmolpromise === 'undefined') {\n",
       "$3Dmolpromise = null;\n",
       "  $3Dmolpromise = loadScriptAsync('https://cdnjs.cloudflare.com/ajax/libs/3Dmol/2.4.2/3Dmol-min.js');\n",
       "}\n",
       "\n",
       "var viewer_1739453514092232 = null;\n",
       "var warn = document.getElementById(\"3dmolwarning_1739453514092232\");\n",
       "if(warn) {\n",
       "    warn.parentNode.removeChild(warn);\n",
       "}\n",
       "$3Dmolpromise.then(function() {\n",
       "viewer_1739453514092232 = $3Dmol.createViewer(document.getElementById(\"3dmolviewer_1739453514092232\"),{backgroundColor:\"white\"});\n",
       "viewer_1739453514092232.zoomTo();\n",
       "\tviewer_1739453514092232.addModel(\"2\\n\\nO             -0.600000000000         0.000000000000         0.000000000000\\nO              0.600000000000         0.000000000000         0.000000000000\\n\");\n",
       "\tviewer_1739453514092232.setViewStyle({\"style\": \"outline\", \"width\": 0.05});\n",
       "\tviewer_1739453514092232.setStyle({\"stick\": {}, \"sphere\": {\"scale\": 0.25}});\n",
       "\tviewer_1739453514092232.zoomTo();\n",
       "viewer_1739453514092232.render();\n",
       "});\n",
       "</script>"
      ]
     },
     "metadata": {},
     "output_type": "display_data"
    }
   ],
   "source": [
    "molecule.show()"
   ]
  },
  {
   "cell_type": "code",
   "execution_count": 4,
   "id": "88545a00-ce4b-4a8f-95e2-d55eed6c1927",
   "metadata": {
    "editable": true,
    "scrolled": true,
    "slideshow": {
     "slide_type": ""
    },
    "tags": []
   },
   "outputs": [],
   "source": [
    "scf_drv = vlx.ScfRestrictedOpenDriver()\n",
    "scf_drv.ostream.mute()\n",
    "scf_results = scf_drv.compute(molecule, basis)"
   ]
  },
  {
   "cell_type": "markdown",
   "id": "vietnamese-observation",
   "metadata": {
    "editable": true,
    "slideshow": {
     "slide_type": ""
    },
    "tags": []
   },
   "source": [
    "The next step is to define our CI using the `MultiPsi.OrbSpace` object. The meaning of this step will become more clear when we discuss truncated CI and active spaces. Now we simply define a full CI by using the FCI keyword. Then we use the `CIExpansion` class to create the tools necessary to handle the CI expansion."
   ]
  },
  {
   "cell_type": "code",
   "execution_count": 5,
   "id": "radical-fetish",
   "metadata": {
    "editable": true,
    "slideshow": {
     "slide_type": ""
    },
    "tags": []
   },
   "outputs": [
    {
     "name": "stdout",
     "output_type": "stream",
     "text": [
      "\n",
      "               CI expansion:\n",
      "               -------------\n",
      "               Number of determinants:      1200\n",
      "\n",
      "\n"
     ]
    }
   ],
   "source": [
    "space = mtp.OrbSpace(molecule, scf_drv.mol_orbs)\n",
    "space.fci()\n",
    "expansion = mtp.CIExpansion(space)\n",
    "print(expansion)"
   ]
  },
  {
   "cell_type": "markdown",
   "id": "phantom-pierre",
   "metadata": {
    "editable": true,
    "slideshow": {
     "slide_type": ""
    },
    "tags": []
   },
   "source": [
    "Printing the expansion shows the number of Slater determinants. As you can see, the number is already fairly large. This is not an issue in a real calculation, but for testing purposes, we will restrict this number a bit. For this, we will simply exclude the 1s and 2s of the oxygen from the calculation, which corresponds to \"freezing\" 4 orbitals. Borrowing from the MCSCF naming conventions, the 1s orbitals will be called \"inactive\" while the rest of the orbital space will be called \"active\"."
   ]
  },
  {
   "cell_type": "code",
   "execution_count": 6,
   "id": "postal-forum",
   "metadata": {
    "editable": true,
    "slideshow": {
     "slide_type": ""
    },
    "tags": []
   },
   "outputs": [
    {
     "name": "stdout",
     "output_type": "stream",
     "text": [
      "\n",
      "               CI expansion:\n",
      "               -------------\n",
      "               Number of determinants:      120\n",
      "\n",
      "\n"
     ]
    }
   ],
   "source": [
    "space.fci(n_frozen=4)\n",
    "expansion = mtp.CIExpansion(space)\n",
    "print(expansion)"
   ]
  },
  {
   "cell_type": "markdown",
   "id": "attended-assembly",
   "metadata": {
    "editable": true,
    "slideshow": {
     "slide_type": ""
    },
    "tags": []
   },
   "source": [
    "Now we can look at the determinants themselves. The easiest way is to use the generator `detlist()` of the expansion class in a Python for loop, which as the name implies will provide the determinants in a predefined order, here in reverse lexical ordering.\n",
    "\n",
    "By printing the determinant directly, we get the string representation, with a character for each orbital in the system. '2' indicates that the orbital is doubly occupied, 'a' and 'b' indicates an $\\alpha$ or $\\beta$ electron, and '0' an empty orbital. The determinant also provides a Python list of the orbitals containing a $\\alpha$ or $\\beta$ electron."
   ]
  },
  {
   "cell_type": "code",
   "execution_count": 7,
   "id": "similar-suggestion",
   "metadata": {
    "editable": true,
    "scrolled": true,
    "slideshow": {
     "slide_type": ""
    },
    "tags": [
     "output_scroll"
    ]
   },
   "outputs": [
    {
     "name": "stdout",
     "output_type": "stream",
     "text": [
      "222aa0 [0, 1, 2, 3, 4] [0, 1, 2]\n",
      "22a2a0 [0, 1, 2, 3, 4] [0, 1, 3]\n",
      "2a22a0 [0, 1, 2, 3, 4] [0, 2, 3]\n",
      "a222a0 [0, 1, 2, 3, 4] [1, 2, 3]\n",
      "22aa20 [0, 1, 2, 3, 4] [0, 1, 4]\n",
      "2a2a20 [0, 1, 2, 3, 4] [0, 2, 4]\n",
      "a22a20 [0, 1, 2, 3, 4] [1, 2, 4]\n",
      "2aa220 [0, 1, 2, 3, 4] [0, 3, 4]\n",
      "a2a220 [0, 1, 2, 3, 4] [1, 3, 4]\n",
      "aa2220 [0, 1, 2, 3, 4] [2, 3, 4]\n",
      "22aaab [0, 1, 2, 3, 4] [0, 1, 5]\n",
      "2a2aab [0, 1, 2, 3, 4] [0, 2, 5]\n",
      "a22aab [0, 1, 2, 3, 4] [1, 2, 5]\n",
      "2aa2ab [0, 1, 2, 3, 4] [0, 3, 5]\n",
      "a2a2ab [0, 1, 2, 3, 4] [1, 3, 5]\n",
      "aa22ab [0, 1, 2, 3, 4] [2, 3, 5]\n",
      "2aaa2b [0, 1, 2, 3, 4] [0, 4, 5]\n",
      "a2aa2b [0, 1, 2, 3, 4] [1, 4, 5]\n",
      "aa2a2b [0, 1, 2, 3, 4] [2, 4, 5]\n",
      "aaa22b [0, 1, 2, 3, 4] [3, 4, 5]\n",
      "222a0a [0, 1, 2, 3, 5] [0, 1, 2]\n",
      "22a20a [0, 1, 2, 3, 5] [0, 1, 3]\n",
      "2a220a [0, 1, 2, 3, 5] [0, 2, 3]\n",
      "a2220a [0, 1, 2, 3, 5] [1, 2, 3]\n",
      "22aaba [0, 1, 2, 3, 5] [0, 1, 4]\n",
      "2a2aba [0, 1, 2, 3, 5] [0, 2, 4]\n",
      "a22aba [0, 1, 2, 3, 5] [1, 2, 4]\n",
      "2aa2ba [0, 1, 2, 3, 5] [0, 3, 4]\n",
      "a2a2ba [0, 1, 2, 3, 5] [1, 3, 4]\n",
      "aa22ba [0, 1, 2, 3, 5] [2, 3, 4]\n",
      "22aa02 [0, 1, 2, 3, 5] [0, 1, 5]\n",
      "2a2a02 [0, 1, 2, 3, 5] [0, 2, 5]\n",
      "a22a02 [0, 1, 2, 3, 5] [1, 2, 5]\n",
      "2aa202 [0, 1, 2, 3, 5] [0, 3, 5]\n",
      "a2a202 [0, 1, 2, 3, 5] [1, 3, 5]\n",
      "aa2202 [0, 1, 2, 3, 5] [2, 3, 5]\n",
      "2aaab2 [0, 1, 2, 3, 5] [0, 4, 5]\n",
      "a2aab2 [0, 1, 2, 3, 5] [1, 4, 5]\n",
      "aa2ab2 [0, 1, 2, 3, 5] [2, 4, 5]\n",
      "aaa2b2 [0, 1, 2, 3, 5] [3, 4, 5]\n",
      "2220aa [0, 1, 2, 4, 5] [0, 1, 2]\n",
      "22abaa [0, 1, 2, 4, 5] [0, 1, 3]\n",
      "2a2baa [0, 1, 2, 4, 5] [0, 2, 3]\n",
      "a22baa [0, 1, 2, 4, 5] [1, 2, 3]\n",
      "22a02a [0, 1, 2, 4, 5] [0, 1, 4]\n",
      "2a202a [0, 1, 2, 4, 5] [0, 2, 4]\n",
      "a2202a [0, 1, 2, 4, 5] [1, 2, 4]\n",
      "2aab2a [0, 1, 2, 4, 5] [0, 3, 4]\n",
      "a2ab2a [0, 1, 2, 4, 5] [1, 3, 4]\n",
      "aa2b2a [0, 1, 2, 4, 5] [2, 3, 4]\n",
      "22a0a2 [0, 1, 2, 4, 5] [0, 1, 5]\n",
      "2a20a2 [0, 1, 2, 4, 5] [0, 2, 5]\n",
      "a220a2 [0, 1, 2, 4, 5] [1, 2, 5]\n",
      "2aaba2 [0, 1, 2, 4, 5] [0, 3, 5]\n",
      "a2aba2 [0, 1, 2, 4, 5] [1, 3, 5]\n",
      "aa2ba2 [0, 1, 2, 4, 5] [2, 3, 5]\n",
      "2aa022 [0, 1, 2, 4, 5] [0, 4, 5]\n",
      "a2a022 [0, 1, 2, 4, 5] [1, 4, 5]\n",
      "aa2022 [0, 1, 2, 4, 5] [2, 4, 5]\n",
      "aaab22 [0, 1, 2, 4, 5] [3, 4, 5]\n",
      "22baaa [0, 1, 3, 4, 5] [0, 1, 2]\n",
      "2202aa [0, 1, 3, 4, 5] [0, 1, 3]\n",
      "2ab2aa [0, 1, 3, 4, 5] [0, 2, 3]\n",
      "a2b2aa [0, 1, 3, 4, 5] [1, 2, 3]\n",
      "220a2a [0, 1, 3, 4, 5] [0, 1, 4]\n",
      "2aba2a [0, 1, 3, 4, 5] [0, 2, 4]\n",
      "a2ba2a [0, 1, 3, 4, 5] [1, 2, 4]\n",
      "2a022a [0, 1, 3, 4, 5] [0, 3, 4]\n",
      "a2022a [0, 1, 3, 4, 5] [1, 3, 4]\n",
      "aab22a [0, 1, 3, 4, 5] [2, 3, 4]\n",
      "220aa2 [0, 1, 3, 4, 5] [0, 1, 5]\n",
      "2abaa2 [0, 1, 3, 4, 5] [0, 2, 5]\n",
      "a2baa2 [0, 1, 3, 4, 5] [1, 2, 5]\n",
      "2a02a2 [0, 1, 3, 4, 5] [0, 3, 5]\n",
      "a202a2 [0, 1, 3, 4, 5] [1, 3, 5]\n",
      "aab2a2 [0, 1, 3, 4, 5] [2, 3, 5]\n",
      "2a0a22 [0, 1, 3, 4, 5] [0, 4, 5]\n",
      "a20a22 [0, 1, 3, 4, 5] [1, 4, 5]\n",
      "aaba22 [0, 1, 3, 4, 5] [2, 4, 5]\n",
      "aa0222 [0, 1, 3, 4, 5] [3, 4, 5]\n",
      "2b2aaa [0, 2, 3, 4, 5] [0, 1, 2]\n",
      "2ba2aa [0, 2, 3, 4, 5] [0, 1, 3]\n",
      "2022aa [0, 2, 3, 4, 5] [0, 2, 3]\n",
      "ab22aa [0, 2, 3, 4, 5] [1, 2, 3]\n",
      "2baa2a [0, 2, 3, 4, 5] [0, 1, 4]\n",
      "202a2a [0, 2, 3, 4, 5] [0, 2, 4]\n",
      "ab2a2a [0, 2, 3, 4, 5] [1, 2, 4]\n",
      "20a22a [0, 2, 3, 4, 5] [0, 3, 4]\n",
      "aba22a [0, 2, 3, 4, 5] [1, 3, 4]\n",
      "a0222a [0, 2, 3, 4, 5] [2, 3, 4]\n",
      "2baaa2 [0, 2, 3, 4, 5] [0, 1, 5]\n",
      "202aa2 [0, 2, 3, 4, 5] [0, 2, 5]\n",
      "ab2aa2 [0, 2, 3, 4, 5] [1, 2, 5]\n",
      "20a2a2 [0, 2, 3, 4, 5] [0, 3, 5]\n",
      "aba2a2 [0, 2, 3, 4, 5] [1, 3, 5]\n",
      "a022a2 [0, 2, 3, 4, 5] [2, 3, 5]\n",
      "20aa22 [0, 2, 3, 4, 5] [0, 4, 5]\n",
      "abaa22 [0, 2, 3, 4, 5] [1, 4, 5]\n",
      "a02a22 [0, 2, 3, 4, 5] [2, 4, 5]\n",
      "a0a222 [0, 2, 3, 4, 5] [3, 4, 5]\n",
      "b22aaa [1, 2, 3, 4, 5] [0, 1, 2]\n",
      "b2a2aa [1, 2, 3, 4, 5] [0, 1, 3]\n",
      "ba22aa [1, 2, 3, 4, 5] [0, 2, 3]\n",
      "0222aa [1, 2, 3, 4, 5] [1, 2, 3]\n",
      "b2aa2a [1, 2, 3, 4, 5] [0, 1, 4]\n",
      "ba2a2a [1, 2, 3, 4, 5] [0, 2, 4]\n",
      "022a2a [1, 2, 3, 4, 5] [1, 2, 4]\n",
      "baa22a [1, 2, 3, 4, 5] [0, 3, 4]\n",
      "02a22a [1, 2, 3, 4, 5] [1, 3, 4]\n",
      "0a222a [1, 2, 3, 4, 5] [2, 3, 4]\n",
      "b2aaa2 [1, 2, 3, 4, 5] [0, 1, 5]\n",
      "ba2aa2 [1, 2, 3, 4, 5] [0, 2, 5]\n",
      "022aa2 [1, 2, 3, 4, 5] [1, 2, 5]\n",
      "baa2a2 [1, 2, 3, 4, 5] [0, 3, 5]\n",
      "02a2a2 [1, 2, 3, 4, 5] [1, 3, 5]\n",
      "0a22a2 [1, 2, 3, 4, 5] [2, 3, 5]\n",
      "baaa22 [1, 2, 3, 4, 5] [0, 4, 5]\n",
      "02aa22 [1, 2, 3, 4, 5] [1, 4, 5]\n",
      "0a2a22 [1, 2, 3, 4, 5] [2, 4, 5]\n",
      "0aa222 [1, 2, 3, 4, 5] [3, 4, 5]\n"
     ]
    }
   ],
   "source": [
    "for det in expansion.determinant_list():\n",
    "    print(det, det.occ_alpha(), det.occ_beta())"
   ]
  },
  {
   "cell_type": "markdown",
   "id": "edf419d7-21a8-4e83-a5a6-318743bd2608",
   "metadata": {
    "editable": true,
    "slideshow": {
     "slide_type": ""
    },
    "tags": []
   },
   "source": [
    "## MO integrals\n",
    "\n",
    "Now that we have the list of determinants, we need to form the CI Hamiltonian. For this, we need to be able to calculate the matrix elements.\n",
    "\n",
    "CI is most easily performed using integrals in the molecular orbital basis. First, we use VeloxChem to compute the integrals in the atomic orbital basis:"
   ]
  },
  {
   "cell_type": "code",
   "execution_count": 8,
   "id": "def67abc-b641-4537-b7aa-52e98a02f0c2",
   "metadata": {
    "editable": true,
    "slideshow": {
     "slide_type": ""
    },
    "tags": []
   },
   "outputs": [],
   "source": [
    "#############################\n",
    "## Get integrals and V_Nuc ##\n",
    "#############################\n",
    "V_nuc = molecule.nuclear_repulsion_energy()\n",
    "\n",
    "# one-electron Hamiltonian\n",
    "kinetic_drv = vlx.KineticEnergyDriver()\n",
    "T = kinetic_drv.compute(molecule, basis).full_matrix().to_numpy()\n",
    "\n",
    "nucpot_drv = vlx.NuclearPotentialDriver()\n",
    "V = -nucpot_drv.compute(molecule, basis).full_matrix().to_numpy()\n",
    "\n",
    "h = T + V \n",
    "\n",
    "# two-electron Hamiltonian\n",
    "fock_drv = vlx.FockDriver()\n",
    "g = fock_drv.compute_eri(molecule, basis)"
   ]
  },
  {
   "cell_type": "markdown",
   "id": "11cb83f8-ca5f-42af-a3b0-e51e52b769cb",
   "metadata": {
    "editable": true,
    "slideshow": {
     "slide_type": ""
    },
    "tags": []
   },
   "source": [
    "Then we need to compute the one and two-electron matrix elements in the MO basis. Note that the one-electron matrix element for the valence orbitals also contain interactions with the core electrons that we have excluded from the CI. This one-electron matrix is thus a Fock matrix but using the density of the inactive orbitals.\n",
    "\n",
    "$$\n",
    "F^I_{pq} = h_{pq} + \\sum_{i \\in \\mathrm{inactive}} 2 (pq|ii) - (pi|qi) \n",
    "$$\n",
    "\n",
    "As in Hartree--Fock, we efficiently compute this matrix in the AO basis\n",
    "\n",
    "$$\n",
    "F^I_{\\mu\\nu} = h_{\\mu\\nu} + \\sum_{\\lambda\\sigma} 2 D^I_{\\lambda\\sigma}(\\mu\\nu|\\lambda\\sigma) - (\\mu \\lambda|\\nu\\sigma) \n",
    "$$\n",
    "using the inactive density matrix defined from the MO coefficients $C^i_\\mu$\n",
    "\n",
    "$$\n",
    "D^I_{\\mu\\nu}= \\sum_{i \\in \\mathrm{inactive}} C^i_\\mu C^i_\\nu\n",
    "$$\n",
    "\n",
    "To compute the total energy, we also need to include the inactive energy, which is simply the energy of the inactive electrons and the nuclear-nuclear repulsion term.\n",
    "\n",
    "$$\n",
    "E^I = V_{NN} + \\sum_{i \\in \\mathrm{inactive}} 2 ( h_{ii} + F^I_{ii} )\n",
    "$$\n",
    "\n",
    "or using the AO matrices\n",
    "\n",
    "$$\n",
    "E^I = V_{NN} + \\sum_{pq} D^I_{\\mu\\nu} ( h_{\\mu\\nu} + F^I_{\\mu\\nu} )\n",
    "$$"
   ]
  },
  {
   "cell_type": "code",
   "execution_count": 9,
   "id": "straight-style",
   "metadata": {
    "editable": true,
    "slideshow": {
     "slide_type": ""
    },
    "tags": []
   },
   "outputs": [],
   "source": [
    "##################################\n",
    "## Compute inactive Fock matrix ##\n",
    "##################################\n",
    "\n",
    "# Active space sizes\n",
    "n_inactive = space.n_inactive  # number of inactive orbitals\n",
    "n_active = space.n_active  # number of active orbitals\n",
    "\n",
    "# MO coefficients\n",
    "C = scf_drv.mol_orbs.alpha_to_numpy()\n",
    "\n",
    "# Compute the inactive density matrix\n",
    "D_inactive = np.einsum(\"mi,ni->mn\", C[:, :n_inactive], C[:, :n_inactive])\n",
    "\n",
    "# Compute the inactive Fock matrix in AO\n",
    "J_inactive = np.einsum(\"mnls,ls->mn\", g, D_inactive)  # Coulomb term\n",
    "K_inactive = np.einsum(\"mlns,ls->mn\", g, D_inactive)  # Exchange term\n",
    "F_inactive = h + 2 * J_inactive - K_inactive  # Fock matrix\n",
    "\n",
    "# Compute the inactive energy:\n",
    "E_inactive = np.einsum(\"ij,ij->\", h + F_inactive, D_inactive) + V_nuc"
   ]
  },
  {
   "cell_type": "markdown",
   "id": "bright-clause",
   "metadata": {
    "editable": true,
    "slideshow": {
     "slide_type": ""
    },
    "tags": [
     "remove-cell"
    ]
   },
   "source": [
    "Finally, we transform all of the integrals to the MO basis. By convention, we use t, u, v and w letters to represent the active orbitals."
   ]
  },
  {
   "cell_type": "code",
   "execution_count": 10,
   "id": "specific-influence",
   "metadata": {
    "editable": true,
    "slideshow": {
     "slide_type": ""
    },
    "tags": []
   },
   "outputs": [],
   "source": [
    "###########################\n",
    "## Transform to MO basis ##\n",
    "###########################\n",
    "C_active = C[:, n_inactive : n_inactive + n_active]  # active MOs\n",
    "\n",
    "# Transform the Fock matrix to active MO basis\n",
    "F_tu = C_active.T @ F_inactive @ C_active\n",
    "\n",
    "# Transform the 2-electron integrals to active MO basis\n",
    "pqrw = np.einsum(\"pqrs,sw->pqrw\", g, C_active)\n",
    "pqvw = np.einsum(\"pqrw,rv->pqvw\", pqrw, C_active)\n",
    "puvw = np.einsum(\"pqvw,qu->puvw\", pqvw, C_active)\n",
    "tuvw = np.einsum(\"puvw,pt->tuvw\", puvw, C_active)"
   ]
  },
  {
   "cell_type": "markdown",
   "id": "9523f8c3-1b99-4732-b89d-87c018c78da9",
   "metadata": {
    "editable": true,
    "slideshow": {
     "slide_type": ""
    },
    "tags": []
   },
   "source": [
    "We can compare these integrals to the ones computed by MultiPsi."
   ]
  },
  {
   "cell_type": "code",
   "execution_count": 11,
   "id": "4d9ea9cf-07b1-44c3-a5cf-c3a870954b69",
   "metadata": {
    "editable": true,
    "slideshow": {
     "slide_type": ""
    },
    "tags": []
   },
   "outputs": [],
   "source": [
    "# Compute CI integrals\n",
    "mcham = mtp.MC_Hamiltonian()\n",
    "mcham.init_integrals(molecule, basis, space)\n",
    "ref_energy, ref_Einactive, ref_Ftu, ref_tuvw = mcham.ci_gradients()\n",
    "\n",
    "assert abs(E_inactive - ref_Einactive) < 1.0e-8\n",
    "np.testing.assert_almost_equal(F_tu, ref_Ftu)\n",
    "np.testing.assert_almost_equal(tuvw, ref_tuvw)"
   ]
  },
  {
   "cell_type": "markdown",
   "id": "animal-brazilian",
   "metadata": {
    "editable": true,
    "slideshow": {
     "slide_type": ""
    },
    "tags": []
   },
   "source": [
    "With these, we can now write a function to compute the energy of a given determinant:"
   ]
  },
  {
   "cell_type": "code",
   "execution_count": 12,
   "id": "capable-blast",
   "metadata": {
    "editable": true,
    "slideshow": {
     "slide_type": ""
    },
    "tags": []
   },
   "outputs": [],
   "source": [
    "def SC_diag(occ_alpha, occ_beta):\n",
    "    \"\"\"\n",
    "    The energy of a given SD, as a function of its list of occupied orbitals\n",
    "    \"\"\"\n",
    "    e_SD = E_inactive  # Inactive energy (inc. nuclear repulsion)\n",
    "\n",
    "    for i in occ_alpha:\n",
    "        # alpha 1-electron energy\n",
    "        e_SD += F_tu[i, i]\n",
    "        for j in occ_alpha:\n",
    "            if i < j:\n",
    "                # alpha-alpha Coulomb and exchange\n",
    "                e_SD += tuvw[i, i, j, j] - tuvw[i, j, j, i]\n",
    "\n",
    "    for i in occ_beta:\n",
    "        # beta 1-electron energy\n",
    "        e_SD += F_tu[i, i]\n",
    "        for j in occ_beta:\n",
    "            if i < j:\n",
    "                # beta-beta Coulomb and exchange\n",
    "                e_SD += tuvw[i, i, j, j] - tuvw[i, j, j, i]\n",
    "\n",
    "    # alpha - beta Coulomb\n",
    "    for i in occ_alpha:\n",
    "        for j in occ_beta:\n",
    "            e_SD += tuvw[i, i, j, j]\n",
    "    \n",
    "    return e_SD"
   ]
  },
  {
   "cell_type": "markdown",
   "id": "portuguese-bible",
   "metadata": {
    "editable": true,
    "slideshow": {
     "slide_type": ""
    },
    "tags": []
   },
   "source": [
    "We can check that the energy of the first determinant matches the SCF energy:"
   ]
  },
  {
   "cell_type": "code",
   "execution_count": 13,
   "id": "broken-empire",
   "metadata": {
    "editable": true,
    "slideshow": {
     "slide_type": ""
    },
    "tags": []
   },
   "outputs": [
    {
     "name": "stdout",
     "output_type": "stream",
     "text": [
      "Determinant energy: -147.6316553212165\n",
      "ROHF energy:        -147.63165532121653\n"
     ]
    }
   ],
   "source": [
    "det = next(expansion.determinant_list()) # First determinant\n",
    "print(\"Determinant energy:\", SC_diag(det.occ_alpha(), det.occ_beta()))\n",
    "print(\"ROHF energy:       \", scf_drv.get_scf_energy())"
   ]
  },
  {
   "cell_type": "markdown",
   "id": "a8afcef3-5328-4e0f-9825-b5bd1e2f1ce4",
   "metadata": {
    "editable": true,
    "slideshow": {
     "slide_type": ""
    },
    "tags": []
   },
   "source": [
    "## Phase factor\n",
    "\n",
    "The function above provides us with the diagonal elements of the CI Hamiltonian matrix. To compute the off-diagonal, we need to be careful about phase factors.\n",
    "\n",
    "Phase factors are a consequence of the antisymmetry of the wavefunction. The matrix element of an excitation operator between two Slater Determinants $ \\langle Y | a_a^\\dagger a_i |X \\rangle$ can be 0, 1 or -1. A simple way to think about it is to consider the action of the excitation operator on the ket side first, creating a new SD:\n",
    "\n",
    "$$ |X^{ia} \\rangle = a_a^\\dagger a_i |X \\rangle $$\n",
    "\n",
    "Then we compute the overlap between this new SD and the bra $ \\langle Y | X^{ia} \\rangle$. If $|Y\\rangle$ and $|X^{ia}\\rangle$ have any occupation difference the overlap will be 0. Otherwise, it can be -1 or 1 depending on the order of the operators.\n",
    "\n",
    "MultiPsi provides SD such that their list of occupied orbitals is always sorted in ascending order. When $a_i$ is applied, it removes an electron from orbital $i$ (if there is one), and gives a phase factor depending on the number of occupied orbitals in $|X\\rangle$ that are before orbital $i$. For simplicity it is often useful to cancel the phase factor when applying $a_a^\\dagger$ by putting $a$ in the same position as $i$ was before (since this action takes the same number of permutation and the total number of permutation becomes even).\n",
    "\n",
    "Taking for example the first determinant in our list, it has beta occupations $|0, 1, 2 \\rangle$. Restricting ourselves to $\\beta$ creation/annihilation opertators, applying $a_{1}$ generates $-|0, 2 \\rangle$ and then applying $ a_3^\\dagger$ creates $-|0, 2, 3\\rangle$ which is identical to $|0, 3, 2\\rangle$. Clearly we simply replaced 1 by 3 in the same position.\n",
    "\n",
    "This resulting determinant has overlap only with determinant 3, but determinant 3 is defined as $|0, 2, 3\\rangle$, so we need one permutation to get a match, and thus the resulting matrix element is -1.\n",
    "\n",
    "For our code, we can implement a function returning the differences between two occupation vectors, and then one computing the phase factor to apply an excitation and sort to ascending occupations."
   ]
  },
  {
   "cell_type": "code",
   "execution_count": 14,
   "id": "7469b8b1-43ec-47a0-853d-9a69bb67bf97",
   "metadata": {
    "editable": true,
    "slideshow": {
     "slide_type": ""
    },
    "tags": []
   },
   "outputs": [],
   "source": [
    "def differences(occ1, occ2):\n",
    "    # Which orbitals left when removing those also in the other one\n",
    "    return list(set(occ1)-set(occ2)), list(set(occ2)-set(occ1))\n",
    "\n",
    "def sort_and_phase(occ, diff_from, diff_to):\n",
    "\n",
    "    # 1) apply the difference\n",
    "    new_occ = list(occ) # copy occ vector\n",
    "    idiff = 0\n",
    "    for i in range(len(new_occ)):\n",
    "        if new_occ[i] == diff_from[idiff]:\n",
    "            new_occ[i] = diff_to[idiff]\n",
    "            idiff += 1\n",
    "            if idiff >= len(diff_from):\n",
    "                break\n",
    "    # 2) sort\n",
    "    phase = 1\n",
    "    for i in range(len(new_occ)):\n",
    "        j = np.argmin(new_occ[i:]) # Find lowest in new_occ:\n",
    "        jval = new_occ[i+j] # save value of lowest\n",
    "        new_occ.pop(i+j) # remove the lowest from where it was\n",
    "        new_occ.insert(i, jval) # insert it here\n",
    "        if j % 2 == 1: # if odd number of displacements\n",
    "            phase *= -1\n",
    "    return phase"
   ]
  },
  {
   "cell_type": "code",
   "execution_count": 15,
   "id": "fad49fe1-3523-4db3-b7ab-8a43fb91f99d",
   "metadata": {
    "editable": true,
    "slideshow": {
     "slide_type": ""
    },
    "tags": []
   },
   "outputs": [
    {
     "data": {
      "text/plain": [
       "-1"
      ]
     },
     "execution_count": 15,
     "metadata": {},
     "output_type": "execute_result"
    }
   ],
   "source": [
    "# Check for beta electrons of determinant 1 and 3\n",
    "diff1, diff2 = differences([0, 1, 2], [0, 2, 3])\n",
    "sort_and_phase([0, 1, 2], diff1, diff2)"
   ]
  },
  {
   "cell_type": "markdown",
   "id": "6cdbb90d-f10c-4cd5-9003-df03ae463f9a",
   "metadata": {
    "editable": true,
    "slideshow": {
     "slide_type": ""
    },
    "tags": []
   },
   "source": [
    "## CI Hamiltonian\n",
    "\n",
    "We can now finally compute the entire CI Hamiltonian. For this, the last thing remaining is the calculation of the off-diagonal elements using the Slater–Condon rules."
   ]
  },
  {
   "cell_type": "code",
   "execution_count": 16,
   "id": "9b4e1dcc-dc78-4cc8-886f-572c56f24140",
   "metadata": {
    "editable": true,
    "slideshow": {
     "slide_type": ""
    },
    "tags": []
   },
   "outputs": [],
   "source": [
    "def SC_1exc(i, a, ss_occ, os_occ):\n",
    "    \"\"\"\n",
    "    Slater-Condon between a SD and a singly excited determinant,\n",
    "    depending on the excited orbitals (i,a) and the same-spin\n",
    "    (compared to spin of the excited electron) and opposite-spin occupation\n",
    "    \"\"\"\n",
    "    Hij = F_tu[i, a]\n",
    "\n",
    "    for k in ss_occ:\n",
    "        Hij += tuvw[i, a, k, k] - tuvw[i, k, k, a]\n",
    "    for k in os_occ:\n",
    "        Hij += tuvw[i, a, k, k]\n",
    "\n",
    "    return Hij\n",
    "\n",
    "\n",
    "def SC_ss_2exc(i, a, j, b):\n",
    "    \"\"\"\n",
    "    Slater-Condon between a SD and a doubly excited determinant,\n",
    "    with both excited electrons having the same spin\n",
    "    \"\"\"\n",
    "    return tuvw[i, a, j, b] - tuvw[i, b, j, a]\n",
    "\n",
    "\n",
    "def SC_os_2exc(i, a, j, b):\n",
    "    \"\"\"\n",
    "    Slater-Condon between a SD and a doubly excited determinant,\n",
    "    with the excited electrons having opposite spin\n",
    "    \"\"\"\n",
    "    return tuvw[i, a, j, b]"
   ]
  },
  {
   "cell_type": "code",
   "execution_count": 17,
   "id": "c8604e0d-230a-47d5-93a9-424478ec69c6",
   "metadata": {
    "editable": true,
    "slideshow": {
     "slide_type": ""
    },
    "tags": []
   },
   "outputs": [],
   "source": [
    "def Hij(idet, jdet):\n",
    "    # check differences\n",
    "    a_from, a_to = differences(idet.occ_alpha(), jdet.occ_alpha())\n",
    "    b_from, b_to = differences(idet.occ_beta(), jdet.occ_beta())\n",
    "    n_adiff = len(a_from)\n",
    "    n_bdiff = len(b_from)\n",
    "    # Diagonal term\n",
    "    if n_adiff + n_bdiff == 0:\n",
    "        return SC_diag(idet.occ_alpha(),idet.occ_beta())\n",
    "    # Single excitations\n",
    "    elif n_adiff == 1 and n_bdiff == 0:\n",
    "        phase = sort_and_phase(idet.occ_alpha(), a_from, a_to)\n",
    "        return phase * SC_1exc(a_from[0], a_to[0], idet.occ_alpha(),idet.occ_beta())\n",
    "    elif n_adiff == 0 and n_bdiff == 1:\n",
    "        phase = sort_and_phase(idet.occ_beta(), b_from, b_to)\n",
    "        return phase * SC_1exc(b_from[0], b_to[0], idet.occ_beta(),idet.occ_alpha())\n",
    "    # Double excitations    \n",
    "    elif n_adiff == 2 and n_bdiff == 0:\n",
    "        phase = sort_and_phase(idet.occ_alpha(), a_from, a_to)\n",
    "        return phase * SC_ss_2exc(a_from[0], a_to[0], a_from[1], a_to[1])\n",
    "    elif n_adiff == 0 and n_bdiff == 2:\n",
    "        phase = sort_and_phase(idet.occ_beta(), b_from, b_to)\n",
    "        return phase * SC_ss_2exc(b_from[0], b_to[0], b_from[1], b_to[1])\n",
    "    elif n_adiff == 1 and n_bdiff == 1:\n",
    "        phase = sort_and_phase(idet.occ_alpha(), a_from, a_to)\n",
    "        phase *= sort_and_phase(idet.occ_beta(), b_from, b_to)\n",
    "        return phase * SC_os_2exc(a_from[0], a_to[0], b_from[0], b_to[0])\n",
    "    # Beyond, 0\n",
    "    else:\n",
    "        return 0"
   ]
  },
  {
   "cell_type": "markdown",
   "id": "d2ea8c9d-9097-4ae5-897c-0deca7510c25",
   "metadata": {
    "editable": true,
    "slideshow": {
     "slide_type": ""
    },
    "tags": []
   },
   "source": [
    "We can now form the Hamiltonian by computing the matrix elements between every pair of determinant. We then diagonalize it to obtain all the energies of the system, both ground and excited states:"
   ]
  },
  {
   "cell_type": "code",
   "execution_count": 18,
   "id": "5349b2dc-abe3-4bcd-b82c-5d48b6684ce4",
   "metadata": {
    "editable": true,
    "scrolled": true,
    "slideshow": {
     "slide_type": ""
    },
    "tags": []
   },
   "outputs": [
    {
     "name": "stdout",
     "output_type": "stream",
     "text": [
      "[-147.72142572 -147.49304169 -147.49304169 -147.48807552 -147.3873587\n",
      " -147.3873587  -147.30200524 -147.27544175 -147.27544175 -147.14731015\n",
      " -147.14731015 -147.08159065 -147.08159065 -147.07878348 -147.07001287\n",
      " -147.06034613 -147.06034613 -147.00846109 -147.00846109 -146.9956644\n",
      " -146.9956644  -146.97297098 -146.97297098 -146.94721038 -146.93555355\n",
      " -146.93555355 -146.92638432 -146.8851956  -146.8851956  -146.88031319\n",
      " -146.83656167 -146.83656167 -146.8194181  -146.74951724 -146.74951724\n",
      " -146.7444825  -146.7444825  -146.73931587 -146.7380768  -146.7380768\n",
      " -146.71308896 -146.71308896 -146.69767334 -146.69767334 -146.65702461\n",
      " -146.63644115 -146.63644115 -146.56808066 -146.53474693 -146.49721331\n",
      " -146.49721331 -146.49222219 -146.48988297 -146.48988297 -146.43557548\n",
      " -146.43557548 -146.43157041 -146.41342432 -146.39421472 -146.36844193\n",
      " -146.36844193 -146.34140472 -146.33447137 -146.33447137 -146.27735346\n",
      " -146.27735346 -146.27295048 -146.26022031 -146.22089316 -146.21143536\n",
      " -146.20231493 -146.20231493 -146.19364401 -146.19364401 -146.16203131\n",
      " -146.16203131 -146.16052966 -146.16052966 -146.12448418 -146.10706774\n",
      " -146.10706774 -146.06279699 -146.05373213 -146.05373213 -146.05166257\n",
      " -146.05166257 -146.04811384 -146.04811384 -145.97639961 -145.97639961\n",
      " -145.89737526 -145.89737526 -145.89541644 -145.89452505 -145.8879828\n",
      " -145.8879828  -145.80699569 -145.80699569 -145.77058046 -145.77002018\n",
      " -145.77002018 -145.76483211 -145.76483211 -145.75718118 -145.75483376\n",
      " -145.75483376 -145.71098624 -145.71098624 -145.69867907 -145.68762972\n",
      " -145.68762972 -145.66194027 -145.66043364 -145.66043364 -145.10614438\n",
      " -145.00547389 -144.90619332 -144.90619332 -144.87085696 -144.87085696]\n"
     ]
    }
   ],
   "source": [
    "# Form the Hamiltonian\n",
    "H_CI = np.zeros((expansion.n_determinants, expansion.n_determinants))\n",
    "for i, idet in enumerate(expansion.determinant_list()):\n",
    "    for j, jdet in enumerate(expansion.determinant_list()):\n",
    "        H_CI[i, j] = Hij(idet, jdet)\n",
    "\n",
    "# Diagonalize it\n",
    "eigenvalues, eigenvectors = np.linalg.eigh(H_CI)\n",
    "print(eigenvalues)"
   ]
  },
  {
   "cell_type": "markdown",
   "id": "4b126848-c685-4c58-acd6-fba89cf9fb38",
   "metadata": {
    "editable": true,
    "slideshow": {
     "slide_type": ""
    },
    "tags": []
   },
   "source": [
    "Note how the first (and lowest) energy is indeed lower than the one found at the Hartree--Fock level, due to electron correlation. However, it is important to note that some of the states obtained here are not actually triplet but have a higher multiplicity.\n",
    "\n",
    "As we discussed in the previous section, the basis of SDs is not spin-adapted. The only constraint in our expansion is the value of $m_s$, here $m_s = 1$, meaning we have two more $\\alpha$ electrons than $\\beta$. This excludes singlet (which can only have $m_s=0$) but does not exclude some quintets or higher.\n",
    "\n",
    "We can also print the first eigenvector:"
   ]
  },
  {
   "cell_type": "code",
   "execution_count": 19,
   "id": "154684a7-f8e3-4b06-b459-8cbad2594464",
   "metadata": {
    "editable": true,
    "slideshow": {
     "slide_type": ""
    },
    "tags": []
   },
   "outputs": [
    {
     "name": "stdout",
     "output_type": "stream",
     "text": [
      "[0.970 -0.000 -0.000 -0.000 -0.000 -0.000 -0.000 0.000 0.000 0.179 0.000\n",
      " 0.000 0.000 0.066 -0.026 -0.000 -0.026 -0.066 0.000 0.000 0.000 0.000\n",
      " -0.000 0.000 0.000 0.000 0.000 0.003 -0.001 -0.000 0.000 0.000 0.000\n",
      " -0.000 -0.000 -0.001 -0.000 -0.000 -0.000 -0.000 -0.000 -0.000 -0.000\n",
      " 0.000 0.000 0.000 0.000 -0.001 -0.003 0.000 -0.000 -0.000 -0.000 -0.000\n",
      " 0.000 -0.000 -0.000 -0.000 -0.001 -0.000 0.000 -0.000 -0.070 0.028 -0.000\n",
      " 0.028 0.070 -0.000 -0.000 0.000 -0.061 0.000 -0.000 0.000 -0.000 -0.000\n",
      " -0.000 -0.000 -0.000 -0.033 0.000 -0.007 0.000 -0.000 0.003 -0.000 -0.000\n",
      " 0.000 0.000 -0.000 0.000 -0.019 -0.000 0.000 0.000 -0.000 0.000 0.000\n",
      " -0.000 0.000 -0.000 0.003 -0.000 0.000 0.007 0.000 0.000 0.000 0.000\n",
      " -0.000 -0.000 0.000 -0.019 0.000 0.000 0.000 0.000 0.000 0.000 -0.000]\n"
     ]
    }
   ],
   "source": [
    "np.set_printoptions(formatter={\"float_kind\": \"{:.3f}\".format})\n",
    "\n",
    "print(eigenvectors[:, 0])"
   ]
  },
  {
   "cell_type": "markdown",
   "id": "35dd42e2-c705-4daa-8d9c-21efbaca72a4",
   "metadata": {
    "editable": true,
    "slideshow": {
     "slide_type": ""
    },
    "tags": []
   },
   "source": [
    "One can see that the largest coefficient is the first one, corresponding to the '222aa0' determinant, which indeed is the expected ground state configuration."
   ]
  },
  {
   "cell_type": "markdown",
   "id": "thrown-bedroom",
   "metadata": {
    "editable": true,
    "slideshow": {
     "slide_type": ""
    },
    "tags": []
   },
   "source": [
    "## Direct CI\n",
    "\n",
    "As seen above, the number of SDs ($N_{\\mathrm{SD}}$) grows extremely rapidly with the size of the system. The Hamiltonian matrix grows even faster, with size $N_{\\mathrm{SD}}^2$. For example, for a singlet with 6 electron in 6 orbitals, the number of SD is 210, growing to 31,878 for 10 electrons in 10 orbitals and 82,824,885 for 16 in 16. At this scale, storing the Hamiltonian matrix would take nearly 7,000 TB. Most of the matrix elements are zero, but even using sparse storage, the memory footprint is enormous.\n",
    "\n",
    "Fortunately, we are rarely if ever interested in the entire list of excited states, instead usually focusing on the ground state and/or a couple of excited states. In this case, one can replace the diagonalization of the Hamiltonian by an iterative process where we progressively optimize a couple of states. In this case, we do not need to store the entire Hamiltonian matrix, but we only need to know its effect on a vector, the so-called $\\boldsymbol{\\sigma}$ vector\n",
    "\n",
    "$$\n",
    "\\boldsymbol{\\sigma} = \\mathbf{H} \\mathbf{c}\n",
    "$$\n",
    "\n",
    "In order to solve $ \\mathbf{H} \\mathbf{c} = \\epsilon \\mathbf{c} $, we can use a method similar to [conjugate gradient](https://en.wikipedia.org/wiki/Conjugate_gradient_method) optimization, which in this context is called the Davidson method. At each iteration, a new trial vector is constructed according to\n",
    "\n",
    "(eq:cidav)=\n",
    "$$\n",
    "\\mathbf{c_{\\mathrm{dav}}} = (\\mathbf{H_0} - \\epsilon)^{-1} \\mathbf{r}\n",
    "$$\n",
    "\n",
    "With $\\mathbf{H_0}$ being a preconditioner, typically the diagonal of the Hamiltonian, and $\\mathbf{r}$ the residual vector\n",
    "\n",
    "$$\n",
    "\\mathbf{r} = (\\mathbf{H} - \\epsilon) \\mathbf{c} = \\boldsymbol{\\sigma} - \\epsilon \\mathbf{c}\n",
    "$$\n",
    "\n",
    "To compute the improved CI vector, one may create and diagonalize a small Hamiltonian matrix in the basis of $\\mathbf{c}$ and $\\mathbf{c_{\\mathrm{dav}}}$, sometimes including also the vectors at previous iterations to improve convergence.\n",
    "\n",
    "Thus, only quantities with sizes equal to the number of SD are needed, and expansions up to hundreds of millions of determinants can be computed on a standard computer.\n",
    "\n",
    "The code we had to compute the Hamiltonian can be trivially modified to compute the sigma vector. One simply need to change:\n",
    "\n",
    "```python\n",
    "Ham[i,j] = X\n",
    "```\n",
    "to\n",
    "\n",
    "```\n",
    "sigma[i] = X * vector[j]\n",
    "```"
   ]
  },
  {
   "cell_type": "code",
   "execution_count": 20,
   "id": "623970bb-92db-4b3b-883f-d64d19730805",
   "metadata": {
    "editable": true,
    "raw_mimetype": "",
    "slideshow": {
     "slide_type": ""
    },
    "tags": []
   },
   "outputs": [],
   "source": [
    "def sigma(vector):\n",
    "    result = np.zeros(expansion.n_determinants)\n",
    "\n",
    "    for i, idet in enumerate(expansion.determinant_list()):\n",
    "        for j, jdet in enumerate(expansion.determinant_list()):\n",
    "            result[i] += Hij(idet, jdet) * vector[j]\n",
    "    return result"
   ]
  },
  {
   "cell_type": "markdown",
   "id": "adequate-custody",
   "metadata": {
    "editable": true,
    "slideshow": {
     "slide_type": ""
    },
    "tags": []
   },
   "source": [
    "We have now all the tools needed to optimize our CI vector. We will first initialize the CI vector to the dominant Slater determinant (conveniently, the first one) and perform the Davidson steps until convergence."
   ]
  },
  {
   "cell_type": "code",
   "execution_count": 21,
   "id": "53db795d-d26d-4c29-ba3d-2ca98bfab49a",
   "metadata": {
    "editable": true,
    "raw_mimetype": "",
    "slideshow": {
     "slide_type": ""
    },
    "tags": [
     "output_scroll"
    ]
   },
   "outputs": [
    {
     "name": "stdout",
     "output_type": "stream",
     "text": [
      "Energy at step 1 = -147.6316553212165\n",
      "Energy at step 2 = -147.71794930773657\n",
      "Energy at step 3 = -147.72126020025402\n",
      "Energy at step 4 = -147.72140796023183\n",
      "Energy at step 5 = -147.72142345293136\n",
      "Energy at step 6 = -147.7214253339019\n",
      "Energy at step 7 = -147.7214256519155\n",
      "Energy at step 8 = -147.72142570698196\n",
      "Energy at step 9 = -147.72142571687212\n"
     ]
    }
   ],
   "source": [
    "# Compute diagonal of the Hamiltonian\n",
    "Hdiag = np.empty(expansion.n_determinants)\n",
    "for idet, det in enumerate(expansion.determinant_list()):\n",
    "    Hdiag[idet] = SC_diag(det.occ_alpha(), det.occ_beta())\n",
    "\n",
    "# Compute guess as the lowest element (HF reference)\n",
    "vec_0 = np.zeros(expansion.n_determinants)\n",
    "lowest_det = np.argmin(Hdiag)\n",
    "vec_0[lowest_det] = 1\n",
    "\n",
    "# Start iterating\n",
    "resnorm = 1\n",
    "istep = 0\n",
    "while resnorm > 0.0001 and istep < 20:  # As long as the residual norm is large\n",
    "    istep += 1\n",
    "    sigma_0 = sigma(vec_0)\n",
    "    # Note that above technically does not need to be recomputed from scratch at each iteration\n",
    "    energy = np.dot(vec_0, sigma_0)\n",
    "    print(\"Energy at step\", istep, \"=\", energy)\n",
    "\n",
    "    # Compute residual and its norm\n",
    "    residual = sigma_0 - energy * vec_0\n",
    "    resnorm = np.linalg.norm(residual)\n",
    "\n",
    "    # Compute Davidson update\n",
    "    preconditioner = 1 / (Hdiag - energy + 0.0001)  # 0.0001 to prevent divergence\n",
    "    vec_1 = preconditioner * residual\n",
    "\n",
    "    # Orthonormalize with vec0\n",
    "    vec_1 -= np.dot(vec_1, vec_0) * vec_0\n",
    "    norm = np.linalg.norm(vec_1)\n",
    "    vec_1 *= 1 / norm\n",
    "    sigma_1 = sigma(vec_1)\n",
    "\n",
    "    # Create small hamiltonian\n",
    "    smallHam = np.zeros((2, 2))\n",
    "    smallHam[0, 0] = energy\n",
    "    smallHam[0, 1] = np.dot(vec_0, sigma_1)\n",
    "    smallHam[1, 0] = np.dot(vec_1, sigma_0)\n",
    "    smallHam[1, 1] = np.dot(vec_1, sigma_1)\n",
    "\n",
    "    # Form the updated CI vector using the eigenvector\n",
    "    eigenvalues, eigenvectors = np.linalg.eigh(smallHam)\n",
    "    vec_0 = eigenvectors[0, 0] * vec_0 + eigenvectors[1, 0] * vec_1\n",
    "    norm = np.linalg.norm(vec_0)\n",
    "    vec_0 *= 1 / norm"
   ]
  },
  {
   "cell_type": "markdown",
   "id": "protected-briefs",
   "metadata": {
    "editable": true,
    "slideshow": {
     "slide_type": ""
    },
    "tags": []
   },
   "source": [
    "We can confirm the final energy matches the one from the diagonalization."
   ]
  },
  {
   "cell_type": "markdown",
   "id": "secret-catalyst",
   "metadata": {
    "editable": true,
    "slideshow": {
     "slide_type": ""
    },
    "tags": []
   },
   "source": [
    "(sec:truncated-ci)=\n",
    "## Truncated CI\n",
    "### Restricting the excitations\n",
    "\n",
    "This full CI method is only useful conceptually or for very small molecules as a benchmark reference. The issue is  that the  number of determinants  grows very  fast (factorially) with the size of the system.  For example, a simple water molecule in a polarization double zeta basis, corresponding to 10 electrons and 24 orbitals, would require 903.316.260 determinants. While such a calculation is possible, it is very expensive, and it should be obvious from this example that full CI cannot be used on any real size system.\n",
    "\n",
    "From here, different directions can be taken to turn CI into a useful computational tool. The first one is to restrict excitations, and thus the number of determinants involved  in  the  calculation. After all, a single  SD  turned  out to be  a reasonable approximation in most cases. As a the Hamiltonian is a two-electron operator, a determinant only interacts directly with at most doubly excited determinants, which suggests that those are those which would contribute the most to the energy. This can easily be tested on a small molecule like water. "
   ]
  },
  {
   "cell_type": "code",
   "execution_count": 22,
   "id": "f075dc40-ebad-4ce5-ba31-b724a1f71a32",
   "metadata": {
    "editable": true,
    "scrolled": true,
    "slideshow": {
     "slide_type": ""
    },
    "tags": []
   },
   "outputs": [],
   "source": [
    "h2o_xyz = \"\"\"3\n",
    "water                                                                                                                          \n",
    "O    0.000000000000        0.000000000000        0.000000000000                         \n",
    "H    0.000000000000        0.740848095288        0.582094932012                         \n",
    "H    0.000000000000       -0.740848095288        0.582094932012\n",
    "\"\"\"\n",
    "\n",
    "H2O = vlx.Molecule.read_xyz_string(h2o_xyz)\n",
    "basis = vlx.MolecularBasis.read(H2O, \"6-31G\", ostream=None)"
   ]
  },
  {
   "cell_type": "code",
   "execution_count": 23,
   "id": "90e1e5d6-5295-4b22-a3d1-195cdacb88b9",
   "metadata": {
    "editable": true,
    "scrolled": true,
    "slideshow": {
     "slide_type": ""
    },
    "tags": []
   },
   "outputs": [
    {
     "data": {
      "application/3dmoljs_load.v0": "<div id=\"3dmolviewer_1739453519017217\"  style=\"position: relative; width: 400px; height: 300px;\">\n        <p id=\"3dmolwarning_1739453519017217\" style=\"background-color:#ffcccc;color:black\">3Dmol.js failed to load for some reason.  Please check your browser console for error messages.<br></p>\n        </div>\n<script>\n\nvar loadScriptAsync = function(uri){\n  return new Promise((resolve, reject) => {\n    //this is to ignore the existence of requirejs amd\n    var savedexports, savedmodule;\n    if (typeof exports !== 'undefined') savedexports = exports;\n    else exports = {}\n    if (typeof module !== 'undefined') savedmodule = module;\n    else module = {}\n\n    var tag = document.createElement('script');\n    tag.src = uri;\n    tag.async = true;\n    tag.onload = () => {\n        exports = savedexports;\n        module = savedmodule;\n        resolve();\n    };\n  var firstScriptTag = document.getElementsByTagName('script')[0];\n  firstScriptTag.parentNode.insertBefore(tag, firstScriptTag);\n});\n};\n\nif(typeof $3Dmolpromise === 'undefined') {\n$3Dmolpromise = null;\n  $3Dmolpromise = loadScriptAsync('https://cdnjs.cloudflare.com/ajax/libs/3Dmol/2.4.2/3Dmol-min.js');\n}\n\nvar viewer_1739453519017217 = null;\nvar warn = document.getElementById(\"3dmolwarning_1739453519017217\");\nif(warn) {\n    warn.parentNode.removeChild(warn);\n}\n$3Dmolpromise.then(function() {\nviewer_1739453519017217 = $3Dmol.createViewer(document.getElementById(\"3dmolviewer_1739453519017217\"),{backgroundColor:\"white\"});\nviewer_1739453519017217.zoomTo();\n\tviewer_1739453519017217.addModel(\"3\\n\\nO              0.000000000000         0.000000000000         0.000000000000\\nH              0.000000000000         0.740848095288         0.582094932012\\nH              0.000000000000        -0.740848095288         0.582094932012\\n\");\n\tviewer_1739453519017217.setViewStyle({\"style\": \"outline\", \"width\": 0.05});\n\tviewer_1739453519017217.setStyle({\"stick\": {}, \"sphere\": {\"scale\": 0.25}});\n\tviewer_1739453519017217.zoomTo();\nviewer_1739453519017217.render();\n});\n</script>",
      "text/html": [
       "<div id=\"3dmolviewer_1739453519017217\"  style=\"position: relative; width: 400px; height: 300px;\">\n",
       "        <p id=\"3dmolwarning_1739453519017217\" style=\"background-color:#ffcccc;color:black\">3Dmol.js failed to load for some reason.  Please check your browser console for error messages.<br></p>\n",
       "        </div>\n",
       "<script>\n",
       "\n",
       "var loadScriptAsync = function(uri){\n",
       "  return new Promise((resolve, reject) => {\n",
       "    //this is to ignore the existence of requirejs amd\n",
       "    var savedexports, savedmodule;\n",
       "    if (typeof exports !== 'undefined') savedexports = exports;\n",
       "    else exports = {}\n",
       "    if (typeof module !== 'undefined') savedmodule = module;\n",
       "    else module = {}\n",
       "\n",
       "    var tag = document.createElement('script');\n",
       "    tag.src = uri;\n",
       "    tag.async = true;\n",
       "    tag.onload = () => {\n",
       "        exports = savedexports;\n",
       "        module = savedmodule;\n",
       "        resolve();\n",
       "    };\n",
       "  var firstScriptTag = document.getElementsByTagName('script')[0];\n",
       "  firstScriptTag.parentNode.insertBefore(tag, firstScriptTag);\n",
       "});\n",
       "};\n",
       "\n",
       "if(typeof $3Dmolpromise === 'undefined') {\n",
       "$3Dmolpromise = null;\n",
       "  $3Dmolpromise = loadScriptAsync('https://cdnjs.cloudflare.com/ajax/libs/3Dmol/2.4.2/3Dmol-min.js');\n",
       "}\n",
       "\n",
       "var viewer_1739453519017217 = null;\n",
       "var warn = document.getElementById(\"3dmolwarning_1739453519017217\");\n",
       "if(warn) {\n",
       "    warn.parentNode.removeChild(warn);\n",
       "}\n",
       "$3Dmolpromise.then(function() {\n",
       "viewer_1739453519017217 = $3Dmol.createViewer(document.getElementById(\"3dmolviewer_1739453519017217\"),{backgroundColor:\"white\"});\n",
       "viewer_1739453519017217.zoomTo();\n",
       "\tviewer_1739453519017217.addModel(\"3\\n\\nO              0.000000000000         0.000000000000         0.000000000000\\nH              0.000000000000         0.740848095288         0.582094932012\\nH              0.000000000000        -0.740848095288         0.582094932012\\n\");\n",
       "\tviewer_1739453519017217.setViewStyle({\"style\": \"outline\", \"width\": 0.05});\n",
       "\tviewer_1739453519017217.setStyle({\"stick\": {}, \"sphere\": {\"scale\": 0.25}});\n",
       "\tviewer_1739453519017217.zoomTo();\n",
       "viewer_1739453519017217.render();\n",
       "});\n",
       "</script>"
      ]
     },
     "metadata": {},
     "output_type": "display_data"
    }
   ],
   "source": [
    "H2O.show()"
   ]
  },
  {
   "cell_type": "code",
   "execution_count": 24,
   "id": "162a4758-bbef-48b7-827a-640226051241",
   "metadata": {
    "editable": true,
    "scrolled": true,
    "slideshow": {
     "slide_type": ""
    },
    "tags": []
   },
   "outputs": [],
   "source": [
    "scf_drv = vlx.ScfRestrictedDriver()\n",
    "scf_drv.ostream.mute()\n",
    "\n",
    "scf_results = scf_drv.compute(H2O, basis)\n",
    "H2O_orbs = scf_drv.mol_orbs\n",
    "E_hf = scf_drv.get_scf_energy()"
   ]
  },
  {
   "cell_type": "code",
   "execution_count": 25,
   "id": "1ca94d77-c1ab-46ac-93bc-59d0f6edd016",
   "metadata": {
    "editable": true,
    "scrolled": true,
    "slideshow": {
     "slide_type": ""
    },
    "tags": [
     "hide-output"
    ]
   },
   "outputs": [],
   "source": [
    "energies = []\n",
    "\n",
    "space = mtp.OrbSpace(H2O, H2O_orbs)\n",
    "ci_drv = mtp.CIDriver()\n",
    "ci_drv.ostream.mute()\n",
    "\n",
    "for excitations in range(1, 5):\n",
    "    space.ci(excitations)  # Compute CIS, CISD, CISDT and CISDTQ\n",
    "    ci_results = ci_drv.compute(H2O, basis, space)\n",
    "    energies.append(ci_results[\"energies\"][0])\n",
    "\n",
    "energies = np.array(energies)\n",
    "\n",
    "space.fci()  # Compute fullCI\n",
    "ci_results = ci_drv.compute(H2O, basis, space)\n",
    "E_FCI = ci_results[\"energies\"][0]"
   ]
  },
  {
   "cell_type": "code",
   "execution_count": 26,
   "id": "supposed-retrieval",
   "metadata": {
    "editable": true,
    "slideshow": {
     "slide_type": ""
    },
    "tags": []
   },
   "outputs": [
    {
     "data": {
      "image/png": "[encoded data removed]",
      "text/plain": [
       "<Figure size 500x600 with 2 Axes>"
      ]
     },
     "metadata": {},
     "output_type": "display_data"
    },
    {
     "name": "stdout",
     "output_type": "stream",
     "text": [
      "Recovered electron correlation:\n",
      "  CIS   : 3.148e-11\n",
      "  CISD  : 95.14\n",
      "  CISDT : 95.84\n",
      "  CISDTQ: 99.88\n"
     ]
    }
   ],
   "source": [
    "import matplotlib.pyplot as plt\n",
    "\n",
    "corr_perc = (energies - E_hf) / (E_FCI - E_hf) * 100\n",
    "methods = [\"CIS\", \"CISD\", \"CISDT\", \"CISDTQ\"]\n",
    "\n",
    "plt.figure(figsize=(5, 6))\n",
    "plt.subplot(211)\n",
    "plt.plot(energies / E_FCI * 100, \"o-\", label=\"CI energies\")\n",
    "plt.title(\"Total energy\")\n",
    "plt.xticks([0, 1, 2, 3], ())\n",
    "plt.ylabel(\"% of total\")\n",
    "plt.legend()\n",
    "\n",
    "plt.subplot(212)\n",
    "plt.plot(corr_perc, \"o-\")\n",
    "plt.title(\"Correlation energy\")\n",
    "plt.xticks([0, 1, 2, 3], methods)\n",
    "plt.ylabel(\"% of correlation\")\n",
    "plt.tight_layout()\n",
    "plt.show()\n",
    "\n",
    "print(\"Recovered electron correlation:\")\n",
    "for i in range(len(methods)):\n",
    "    # (Energies-E_hf)/(E_FCI-E_hf)*100:\n",
    "    print(f\"  {methods[i]:6}: {corr_perc[i]:.4}\")"
   ]
  },
  {
   "cell_type": "markdown",
   "id": "pending-script",
   "metadata": {
    "editable": true,
    "slideshow": {
     "slide_type": ""
    },
    "tags": []
   },
   "source": [
    "The total energy of CIS is only approximately 2% too low, but it does not recover any correlation (the optimized HF determinant does not interact with single excitations). In general, the odd excitation orders do not add much to the correlation energy. However, already with CISD, we recover more than 95% of the correlation energy, and that number rises to nearly 99.9% with CISDTQ. This is remarkable as water has 10 electrons, and thus up to 10 excitations are included in the full CI. Looking at the determinant count, CISD has only 1,141 determinants, compared to the 828,828 of full CI.\n",
    "\n",
    "This clearly suggests using truncated schemes, and in particular CISD as a relatively efficient way to recover most of the correlation energy."
   ]
  },
  {
   "cell_type": "markdown",
   "id": "applicable-blanket",
   "metadata": {
    "editable": true,
    "slideshow": {
     "slide_type": ""
    },
    "tags": []
   },
   "source": [
    "(sec:size-consistency)=\n",
    "### Size consistency\n",
    "\n",
    "The main issue with those truncated CI methods is that as the system grows larger, the importance of higher excitations increases, and thus truncated CI captures a smaller and smaller fraction of the correlation. \n",
    "\n",
    "This is very well illustrated when taking two identical molecules at large distance. One would normally expect the energy of this non-interacting dimer to be exactly twice that of the monomer. Let's verify it on our water molecule:"
   ]
  },
  {
   "cell_type": "code",
   "execution_count": 27,
   "id": "da372d33-2f84-44c2-9900-61095930a01d",
   "metadata": {
    "editable": true,
    "scrolled": true,
    "slideshow": {
     "slide_type": ""
    },
    "tags": []
   },
   "outputs": [],
   "source": [
    "# Two water molecules at 100 Å distance\n",
    "dimer_xyz = \"\"\"6\n",
    "water                                                                                                                          \n",
    "O    0.000000000000        0.000000000000        0.000000000000                         \n",
    "H    0.000000000000        0.740848095288        0.582094932012                         \n",
    "H    0.000000000000       -0.740848095288        0.582094932012\n",
    "O  100.000000000000        0.000000000000        0.000000000000                         \n",
    "H  100.000000000000        0.740848095288        0.582094932012                         \n",
    "H  100.000000000000       -0.740848095288        0.582094932012\n",
    "\"\"\"\n",
    "\n",
    "molecule = vlx.Molecule.read_xyz_string(dimer_xyz)\n",
    "basis = vlx.MolecularBasis.read(molecule, \"6-31G\", ostream=None)"
   ]
  },
  {
   "cell_type": "code",
   "execution_count": 28,
   "id": "5470d57a-c092-4f9f-be36-e53ddfa06631",
   "metadata": {
    "editable": true,
    "slideshow": {
     "slide_type": ""
    },
    "tags": []
   },
   "outputs": [
    {
     "data": {
      "application/3dmoljs_load.v0": "<div id=\"3dmolviewer_17394535296882381\"  style=\"position: relative; width: 400px; height: 300px;\">\n        <p id=\"3dmolwarning_17394535296882381\" style=\"background-color:#ffcccc;color:black\">3Dmol.js failed to load for some reason.  Please check your browser console for error messages.<br></p>\n        </div>\n<script>\n\nvar loadScriptAsync = function(uri){\n  return new Promise((resolve, reject) => {\n    //this is to ignore the existence of requirejs amd\n    var savedexports, savedmodule;\n    if (typeof exports !== 'undefined') savedexports = exports;\n    else exports = {}\n    if (typeof module !== 'undefined') savedmodule = module;\n    else module = {}\n\n    var tag = document.createElement('script');\n    tag.src = uri;\n    tag.async = true;\n    tag.onload = () => {\n        exports = savedexports;\n        module = savedmodule;\n        resolve();\n    };\n  var firstScriptTag = document.getElementsByTagName('script')[0];\n  firstScriptTag.parentNode.insertBefore(tag, firstScriptTag);\n});\n};\n\nif(typeof $3Dmolpromise === 'undefined') {\n$3Dmolpromise = null;\n  $3Dmolpromise = loadScriptAsync('https://cdnjs.cloudflare.com/ajax/libs/3Dmol/2.4.2/3Dmol-min.js');\n}\n\nvar viewer_17394535296882381 = null;\nvar warn = document.getElementById(\"3dmolwarning_17394535296882381\");\nif(warn) {\n    warn.parentNode.removeChild(warn);\n}\n$3Dmolpromise.then(function() {\nviewer_17394535296882381 = $3Dmol.createViewer(document.getElementById(\"3dmolviewer_17394535296882381\"),{backgroundColor:\"white\"});\nviewer_17394535296882381.zoomTo();\n\tviewer_17394535296882381.addModel(\"6\\n\\nO              0.000000000000         0.000000000000         0.000000000000\\nH              0.000000000000         0.740848095288         0.582094932012\\nH              0.000000000000        -0.740848095288         0.582094932012\\nO            100.000000000000         0.000000000000         0.000000000000\\nH            100.000000000000         0.740848095288         0.582094932012\\nH            100.000000000000        -0.740848095288         0.582094932012\\n\");\n\tviewer_17394535296882381.setViewStyle({\"style\": \"outline\", \"width\": 0.05});\n\tviewer_17394535296882381.setStyle({\"stick\": {}, \"sphere\": {\"scale\": 0.25}});\n\tviewer_17394535296882381.zoomTo();\nviewer_17394535296882381.render();\n});\n</script>",
      "text/html": [
       "<div id=\"3dmolviewer_17394535296882381\"  style=\"position: relative; width: 400px; height: 300px;\">\n",
       "        <p id=\"3dmolwarning_17394535296882381\" style=\"background-color:#ffcccc;color:black\">3Dmol.js failed to load for some reason.  Please check your browser console for error messages.<br></p>\n",
       "        </div>\n",
       "<script>\n",
       "\n",
       "var loadScriptAsync = function(uri){\n",
       "  return new Promise((resolve, reject) => {\n",
       "    //this is to ignore the existence of requirejs amd\n",
       "    var savedexports, savedmodule;\n",
       "    if (typeof exports !== 'undefined') savedexports = exports;\n",
       "    else exports = {}\n",
       "    if (typeof module !== 'undefined') savedmodule = module;\n",
       "    else module = {}\n",
       "\n",
       "    var tag = document.createElement('script');\n",
       "    tag.src = uri;\n",
       "    tag.async = true;\n",
       "    tag.onload = () => {\n",
       "        exports = savedexports;\n",
       "        module = savedmodule;\n",
       "        resolve();\n",
       "    };\n",
       "  var firstScriptTag = document.getElementsByTagName('script')[0];\n",
       "  firstScriptTag.parentNode.insertBefore(tag, firstScriptTag);\n",
       "});\n",
       "};\n",
       "\n",
       "if(typeof $3Dmolpromise === 'undefined') {\n",
       "$3Dmolpromise = null;\n",
       "  $3Dmolpromise = loadScriptAsync('https://cdnjs.cloudflare.com/ajax/libs/3Dmol/2.4.2/3Dmol-min.js');\n",
       "}\n",
       "\n",
       "var viewer_17394535296882381 = null;\n",
       "var warn = document.getElementById(\"3dmolwarning_17394535296882381\");\n",
       "if(warn) {\n",
       "    warn.parentNode.removeChild(warn);\n",
       "}\n",
       "$3Dmolpromise.then(function() {\n",
       "viewer_17394535296882381 = $3Dmol.createViewer(document.getElementById(\"3dmolviewer_17394535296882381\"),{backgroundColor:\"white\"});\n",
       "viewer_17394535296882381.zoomTo();\n",
       "\tviewer_17394535296882381.addModel(\"6\\n\\nO              0.000000000000         0.000000000000         0.000000000000\\nH              0.000000000000         0.740848095288         0.582094932012\\nH              0.000000000000        -0.740848095288         0.582094932012\\nO            100.000000000000         0.000000000000         0.000000000000\\nH            100.000000000000         0.740848095288         0.582094932012\\nH            100.000000000000        -0.740848095288         0.582094932012\\n\");\n",
       "\tviewer_17394535296882381.setViewStyle({\"style\": \"outline\", \"width\": 0.05});\n",
       "\tviewer_17394535296882381.setStyle({\"stick\": {}, \"sphere\": {\"scale\": 0.25}});\n",
       "\tviewer_17394535296882381.zoomTo();\n",
       "viewer_17394535296882381.render();\n",
       "});\n",
       "</script>"
      ]
     },
     "metadata": {},
     "output_type": "display_data"
    }
   ],
   "source": [
    "molecule.show()"
   ]
  },
  {
   "cell_type": "code",
   "execution_count": 29,
   "id": "a80c5017-0d35-4b9e-89c2-c5b366b711db",
   "metadata": {
    "editable": true,
    "scrolled": true,
    "slideshow": {
     "slide_type": ""
    },
    "tags": [
     "hide-output"
    ]
   },
   "outputs": [],
   "source": [
    "scf_results = scf_drv.compute(molecule, basis)\n",
    "\n",
    "space = mtp.OrbSpace(molecule, scf_drv.mol_orbs)\n",
    "space.cisd()\n",
    "ci_results = ci_drv.compute(molecule, basis, space)\n",
    "\n",
    "E_2h2o = ci_results[\"energies\"][0]"
   ]
  },
  {
   "cell_type": "code",
   "execution_count": 30,
   "id": "charming-louisville",
   "metadata": {
    "editable": true,
    "slideshow": {
     "slide_type": ""
    },
    "tags": []
   },
   "outputs": [
    {
     "name": "stdout",
     "output_type": "stream",
     "text": [
      "==========================\n",
      "CISD energy\n",
      "--------------------------\n",
      "Dimer       :  -152.215193\n",
      "Two monomers:  -152.224357\n",
      "Difference  :     0.009163\n",
      "==========================\n"
     ]
    }
   ],
   "source": [
    "print(\"=\" * 26)\n",
    "print(\"CISD energy\")\n",
    "print(\"-\" * 26)\n",
    "print(f\"Dimer       : {E_2h2o:12.6f}\")\n",
    "print(f\"Two monomers: {2 * energies[1]:12.6f}\")\n",
    "print(f\"Difference  : {E_2h2o - 2 * energies[1]:12.6f}\")\n",
    "print(\"=\" * 26)"
   ]
  },
  {
   "cell_type": "markdown",
   "id": "controlling-creativity",
   "metadata": {
    "editable": true,
    "slideshow": {
     "slide_type": ""
    },
    "tags": []
   },
   "source": [
    "The calculation for the dimer found the energy to be higher than twice the monomer, and not equal as one would expect. This systematic failure of truncated CI is called the size-consistency error.\n",
    "\n",
    "To understand this, let us consider a molecule $A$ whose CI expansion consists of only two Slater determinants --- the HF reference and a SD generated by exciting 2 electrons from orbitals $i, j$ to $a, b$:\n",
    "\n",
    "$$\n",
    "| \\Psi_A \\rangle = c_{0} | ... ij ...\\rangle + c_{ijab} | ... ab ...\\rangle\n",
    "$$\n",
    "\n",
    "Now add second molecule $B$ with two SDs, a HF reference and one being generated from a $klcd$ excitation:\n",
    "\n",
    "$$\n",
    "| \\Psi_B \\rangle = c'_{0} | ... kl ...\\rangle + c'_{klcd} | ... cd ...\\rangle\n",
    "$$\n",
    "\n",
    "In a correct calculation, as the two systems are far apart, the combined wave function can be expressed as a product of their individual ones:\n",
    "\n",
    "\\begin{align*}\n",
    "| \\Psi_{AB} \\rangle &= | \\Psi_A \\Psi_B \\rangle \\\\\n",
    "                    &= \\Big( c_{0} | ... ij ...\\rangle + c_{ijab} | ... ab ...\\rangle \\Big) \\Big(c'_{0} | ... kl ...\\rangle + c'_{klcd} | ... cd ...\\rangle \\Big) \\\\\n",
    "                    &= c_0 c'_0 | ... ij...kl ...\\rangle + c_{0}c'_{klcd} | ... ij...cd ...\\rangle \\\\ & \\qquad + c_{ijab}c'_{0} | ... ab...kl ...\\rangle + c_{ijab}c'_{klcd} | ... ab...cd ...\\rangle   \\\\\n",
    "\\end{align*}\n",
    "\n",
    "The last term corresponds to a quadruple excitation from the HF reference. Since these quadruple excitations are excluded from CISD, it is clear the method cannot describe the combined system as well as it can describe the individual subsystems.\n",
    "\n",
    "Some approximations exist to partially correct for this error. One of the simplest is the Davidson correction, in which the contributions from the quadruply excited determinants are estimated using a reasoning based on perturbation theory:\n",
    "\n",
    "$$\n",
    "\\Delta E_\\mathrm{Davidson} = (1 - c_0^2)(E_{\\rm CISD} - E_{\\rm HF}), \n",
    "$$\n"
   ]
  },
  {
   "cell_type": "code",
   "execution_count": 31,
   "id": "caaa63c4-e729-47ef-b7c8-5f0877607e4d",
   "metadata": {
    "editable": true,
    "slideshow": {
     "slide_type": ""
    },
    "tags": []
   },
   "outputs": [
    {
     "name": "stdout",
     "output_type": "stream",
     "text": [
      "Determinant                  coef.    weight \n",
      "22222222220000000000000000  -0.965    0.932 \n",
      "\n"
     ]
    }
   ],
   "source": [
    "# Weight of the HF determinant for the dimer\n",
    "ci_results[\"ci_vectors\"].print(0)"
   ]
  },
  {
   "cell_type": "code",
   "execution_count": 32,
   "id": "8f3bece0-9fad-47b5-9cb8-580cf21e1900",
   "metadata": {
    "editable": true,
    "slideshow": {
     "slide_type": ""
    },
    "tags": [
     "remove-output"
    ]
   },
   "outputs": [],
   "source": [
    "# Recompute 1 water molecule\n",
    "basis = vlx.MolecularBasis.read(H2O, \"6-31G\", ostream=None)\n",
    "space = mtp.OrbSpace(H2O, H2O_orbs)\n",
    "space.cisd()\n",
    "ci_results = ci_drv.compute(H2O, basis, space)"
   ]
  },
  {
   "cell_type": "code",
   "execution_count": 33,
   "id": "b34bbb5e-8d43-4e08-8b08-966a335f425c",
   "metadata": {
    "editable": true,
    "slideshow": {
     "slide_type": ""
    },
    "tags": []
   },
   "outputs": [
    {
     "name": "stdout",
     "output_type": "stream",
     "text": [
      "Determinant     coef.    weight \n",
      "2222200000000  -0.981    0.962 \n",
      "\n"
     ]
    }
   ],
   "source": [
    "# Weight of the HF determinant for the monomer\n",
    "ci_results[\"ci_vectors\"].print(0)"
   ]
  },
  {
   "cell_type": "code",
   "execution_count": 34,
   "id": "f3a2912c-f334-4c23-b4f1-348bf9381f40",
   "metadata": {
    "editable": true,
    "slideshow": {
     "slide_type": ""
    },
    "tags": []
   },
   "outputs": [
    {
     "name": "stdout",
     "output_type": "stream",
     "text": [
      "==========================\n",
      "Davidson corrected energy\n",
      "--------------------------\n",
      "Dimer       :  -152.232092\n",
      "Two monomers:  -152.234148\n",
      "Difference  :     0.002056\n",
      "==========================\n"
     ]
    }
   ],
   "source": [
    "E_D_2H2O = (1 - 0.932) * (E_2h2o - scf_drv.get_scf_energy()) + E_2h2o\n",
    "E_D_H2O = (1 - 0.962) * (ci_results[\"energies\"][0] - E_hf) + ci_results[\"energies\"][0]\n",
    "\n",
    "print(\"=\" * 26)\n",
    "print(\"Davidson corrected energy\")\n",
    "print(\"-\" * 26)\n",
    "print(f\"Dimer       : {E_D_2H2O:12.6f}\")\n",
    "print(f\"Two monomers: {2 * E_D_H2O:12.6f}\")\n",
    "print(f\"Difference  : {E_D_2H2O - 2 * E_D_H2O:12.6f}\")\n",
    "print(\"=\" * 26)"
   ]
  },
  {
   "cell_type": "markdown",
   "id": "163b9666",
   "metadata": {
    "editable": true,
    "slideshow": {
     "slide_type": ""
    },
    "tags": []
   },
   "source": [
    "With this, the size-consistency error has been noticeably reduced.\n",
    "\n",
    "Despite this, truncated CI have for the most part disappeared from the quantum chemistry landscape as more efficient and/or more accurate methods supplanted them."
   ]
  },
  {
   "cell_type": "code",
   "execution_count": null,
   "id": "77ef3ec7-9ede-432f-9e47-798e5a10aa7f",
   "metadata": {},
   "outputs": [],
   "source": []
  }
 ],
 "metadata": {
  "celltoolbar": "Tags",
  "kernelspec": {
   "display_name": "Python 3 (ipykernel)",
   "language": "python",
   "name": "python3"
  },
  "language_info": {
   "codemirror_mode": {
    "name": "ipython",
    "version": 3
   },
   "file_extension": ".py",
   "mimetype": "text/x-python",
   "name": "python",
   "nbconvert_exporter": "python",
   "pygments_lexer": "ipython3",
   "version": "3.12.8"
  }
 },
 "nbformat": 4,
 "nbformat_minor": 5
}
