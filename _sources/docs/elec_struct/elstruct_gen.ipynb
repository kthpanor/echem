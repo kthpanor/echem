{
 "cells": [
  {
   "cell_type": "markdown",
   "id": "4b57bc93",
   "metadata": {},
   "source": [
    "# General aspects\n",
    "\n",
    "In this section we will cover general aspects of electronic structure theory calculations.\n",
    "\n",
    "- [Orbitals and basis sets](orbitals) <br>\n",
    "An introduction to wave functions for single-electron systems is given.\n",
    "- [Many-electron wave functions](slater) <br>\n",
    "An introduction to many-electron wave functions is given.\n",
    "- [Operators and matrix elements](operators) <br>\n",
    "An introduction to one- and two-electron operators is given together with a presentation of their associated matrix elements.\n",
    "- [Reduced particle densities](reduced_density) <br>\n",
    "One- and two-particle reduced densities are presented and illustrated.\n",
    "- [Natural orbitals](natural_orbitals) <br>\n",
    "Natural orbitals for restricted and unrestricted calculations are introduced.\n",
    "- [Integrals](integrals) <br>\n",
    "A presentation of a technique to transform integrals in the AO basis to the MO basis as needed for correlated wave function methods.\n",
    "- [Electron spin](spin) <br>\n",
    "Definitions of spin operators and a visual illustration of collinear and noncollinear spin densities.\n",
    "- [Electron correlation](correlation) <br>\n",
    "Definition of correlation energy and a visual exploration of the effects of electron correlation on one- and two-particle densities.\n",
    "- [Dispersion interactions](dispersion) <br>\n",
    "Definition of interaction energy and visual illustration of its association with electron correlation. Dispersion correction by means of $C_6$ coefficients is demonstrated.\n",
    "- [Rayleigh–Schrödinger perturbation theory](pt) <br>\n",
    "A presentation of the perturbation theory in a form useful for Møller–Plesset methods.\n",
    "- [Second quantization](second_quant) <br>\n",
    "A presentation of the occupation number formalism is given.\n",
    "- [Group theory](group_theory) <br>\n",
    "A presentation of group theory its application in chemistry is given."
   ]
  }
 ],
 "metadata": {
  "kernelspec": {
   "display_name": "Python 3 (ipykernel)",
   "language": "python",
   "name": "python3"
  },
  "language_info": {
   "codemirror_mode": {
    "name": "ipython",
    "version": 3
   },
   "file_extension": ".py",
   "mimetype": "text/x-python",
   "name": "python",
   "nbconvert_exporter": "python",
   "pygments_lexer": "ipython3",
   "version": "3.10.9"
  }
 },
 "nbformat": 4,
 "nbformat_minor": 5
}
