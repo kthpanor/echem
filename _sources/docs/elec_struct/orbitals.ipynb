{
 "cells": [
  {
   "cell_type": "markdown",
   "id": "abd8da60",
   "metadata": {},
   "source": [
    "(sec:orbitals)=\n",
    "# Orbitals and basis sets\n",
    "\n",
    "## Electronic wave functions and molecular orbitals\n",
    "\n",
    "State vectors representing single-electron systems reside in a [Hilbert space](https://en.wikipedia.org/wiki/Hilbert_space) formed as a direct product\n",
    "\n",
    "$$\n",
    "\\mathcal{V} = \n",
    "\\mathcal{V}^\\mathrm{o} \\otimes \n",
    "\\mathcal{V}^\\mathrm{c} \\otimes \n",
    "\\mathcal{V}^\\mathrm{s}\n",
    "$$\n",
    "\n",
    "The underlying vector spaces are associated with orbital, charge, and spin degrees of freedom. The elements of $\\mathcal{V}$ can be expressed in terms of\n",
    "\n",
    "$$\n",
    "\\psi^{\\mathrm{L}\\alpha}(\\mathbf{r},t) \n",
    "\\otimes\n",
    "\\begin{pmatrix}\n",
    "1\\\\0\n",
    "\\end{pmatrix}\n",
    "\\otimes\n",
    "\\begin{pmatrix}\n",
    "1\\\\0\n",
    "\\end{pmatrix}; \\quad\n",
    "\\psi^{\\mathrm{L}\\beta}(\\mathbf{r},t) \n",
    "\\otimes\n",
    "\\begin{pmatrix}\n",
    "1\\\\0\n",
    "\\end{pmatrix}\n",
    "\\otimes\n",
    "\\begin{pmatrix}\n",
    "0\\\\1\n",
    "\\end{pmatrix} \n",
    "$$\n",
    "\n",
    "$$\n",
    "\\psi^{\\mathrm{S}\\alpha}(\\mathbf{r},t) \n",
    "\\otimes\n",
    "\\begin{pmatrix}\n",
    "0\\\\1\n",
    "\\end{pmatrix}\n",
    "\\otimes\n",
    "\\begin{pmatrix}\n",
    "1\\\\0\n",
    "\\end{pmatrix} ; \\quad\n",
    "\\psi^{\\mathrm{S}\\beta}(\\mathbf{r},t) \n",
    "\\otimes\n",
    "\\begin{pmatrix}\n",
    "0\\\\1\n",
    "\\end{pmatrix}\n",
    "\\otimes\n",
    "\\begin{pmatrix}\n",
    "0\\\\1\n",
    "\\end{pmatrix} \n",
    "$$\n",
    "\n",
    "with a sum that equals a general wave function for a single-electron system, also known as a spinor\n",
    "\n",
    "$$\n",
    "\\psi(\\mathbf{r},t) =\n",
    "\\begin{pmatrix}\n",
    "\\psi^{\\mathrm{L}\\alpha} \\\\\n",
    "\\psi^{\\mathrm{L}\\beta} \\\\\n",
    "\\psi^{\\mathrm{S}\\alpha} \\\\\n",
    "\\psi^{\\mathrm{S}\\beta} \n",
    "\\end{pmatrix}\n",
    "$$\n",
    "\n",
    "In this general case, the particle density becomes\n",
    "\n",
    "$$\n",
    "n(\\mathbf{r},t) = \n",
    "\\psi^\\dagger \\psi =\n",
    "\\sum_\\mathrm{c}^{\\mathrm{L,S}}\n",
    "\\sum_\\sigma^{\\alpha,\\beta}\n",
    "\\left|\n",
    "\\psi^{\\mathrm{c}\\sigma}(\\mathbf{r},t) \n",
    "\\right|^2\n",
    "$$\n",
    "\n",
    "Spinor components $\\psi^{\\mathrm{S}\\alpha}$ and $\\psi^{\\mathrm{S}\\beta}$ are small and sometimes ignored, reducing the electronic wave function to its two-component form\n",
    "\n",
    "$$\n",
    "\\psi(\\mathbf{r},t) =\n",
    "\\begin{pmatrix}\n",
    "\\psi^{\\mathrm{L}\\alpha} \\\\\n",
    "\\psi^{\\mathrm{L}\\beta}\n",
    "\\end{pmatrix}\n",
    "$$\n",
    "\n",
    "For a system described by a spin-independent Hamiltonian, the spatial and spin degrees of freedom are separable and we arrive at (suppressing the time variable) single-electron wave functions, or spin orbitals, of the form\n",
    "\n",
    "$$\n",
    "\\psi(\\mathbf{r}) =\n",
    "\\phi(\\mathbf{r}) \\sigma ; \\quad\n",
    "\\sigma = c_\\alpha\n",
    "\\begin{pmatrix}\n",
    "1 \\\\\n",
    "0\n",
    "\\end{pmatrix}\n",
    "+\n",
    "c_\\beta\n",
    "\\begin{pmatrix}\n",
    "0 \\\\\n",
    "1\n",
    "\\end{pmatrix}\n",
    "$$\n",
    "\n",
    "In the collinear approximation, all spin orbitals are eigenfunctions of the spin operator $\\hat{s}_z$ such that every spatial function (or molecular orbital), $\\phi(\\mathbf{r})$, gives rise to two spin orbitals\n",
    "\n",
    "$$\n",
    "\\psi_{p}(\\mathbf{r}) = \\phi_p(\\mathbf{r})\n",
    "\\begin{pmatrix}\n",
    "1 \\\\\n",
    "0\n",
    "\\end{pmatrix} ; \\quad\n",
    "\\psi_{\\bar{p}}(\\mathbf{r}) = \\phi_p(\\mathbf{r})\n",
    "\\begin{pmatrix}\n",
    "0 \\\\\n",
    "1\n",
    "\\end{pmatrix}\n",
    "$$\n",
    "\n",
    "referred to as $\\alpha$- and $\\beta$-spin orbitals, respectively."
   ]
  },
  {
   "cell_type": "markdown",
   "id": "42d83138",
   "metadata": {},
   "source": [
    "(sec:lcao)=\n",
    "### Linear combination of atomic orbitals\n",
    "In quantum chemistry, molecular orbitals (MOs) are normally expanded in a set of atom-centered basis functions, or localized atomic orbitals (AOs)\n",
    "\n",
    "$$\n",
    "\\phi_p(\\mathbf{r}) =\n",
    "\\sum_\\alpha\n",
    "c_{\\alpha p} \\chi_\\alpha(\\mathbf{r} - \\mathbf{R}_\\alpha)\n",
    "$$\n",
    "\n",
    "where $\\mathbf{R}_\\alpha$ denotes the atomic position center of basis function $\\chi_\\alpha$, and the expansion coefficients $c_{\\alpha p}$ are known as molecular orbital (MO) coefficients. Using the [Dirac notation](https://en.wikipedia.org/wiki/Bra%E2%80%93ket_notation), this linear combination of atomic orbitals (LCAO) expansion takes the form\n",
    "\n",
    "$$\n",
    "| \\phi_p \\rangle =\n",
    "\\sum_\\alpha\n",
    "| \\chi_\\alpha \\rangle c_{\\alpha p}\n",
    "$$\n",
    "\n",
    "It can be convenient to collect the set of MOs (and AOs) as a row vector and introduce a notation\n",
    "\n",
    "$$\n",
    "| \\overline{\\phi} \\rangle = (\\ldots, | \\phi_p \\rangle, \\ldots)\n",
    "$$\n",
    "\n",
    "The LCAO expansion for the entire set of MOs can then be compactly written as\n",
    "\n",
    "$$\n",
    "| \\overline{\\phi} \\rangle = | \\overline{\\chi} \\rangle \\mathbf{C}\n",
    "$$\n",
    "\n",
    "where $\\mathbf{C}$ is the MO coefficient matrix."
   ]
  },
  {
   "cell_type": "markdown",
   "id": "0af4f4a6",
   "metadata": {},
   "source": [
    "### Ordering of atomic orbitals\n",
    "\n",
    "The VeloxChem program orders AO basis functions based on\n",
    "\n",
    "1. Angular momentum quantum number, $l$\n",
    "2. Angular momentum quantum number, $m_l$\n",
    "3. User-defined order of atoms\n",
    "\n",
    "Considering carbon monoxide using a minimal basis set"
   ]
  },
  {
   "cell_type": "code",
   "execution_count": null,
   "id": "62b4251e",
   "metadata": {
    "scrolled": true,
    "tags": [
     "remove-output"
    ]
   },
   "outputs": [],
   "source": [
    "import veloxchem as vlx\n",
    "\n",
    "mol_str = \"\"\"2\n",
    "\n",
    "C        0.00000000    0.00000000   -0.71500000\n",
    "O        0.00000000    0.00000000    0.71500000\n",
    "\"\"\"\n",
    "molecule = vlx.Molecule.from_xyz_string(mol_str)\n",
    "basis = vlx.MolecularBasis.read(molecule, \"sto-3g\")\n",
    "\n",
    "scf_drv = vlx.ScfRestrictedDriver()\n",
    "scf_results = scf_drv.compute(molecule, basis)"
   ]
  },
  {
   "cell_type": "code",
   "execution_count": null,
   "id": "6cbf4c04-9ccf-4a38-8ceb-b0fd742b60b7",
   "metadata": {
    "tags": [
     "remove_input"
    ]
   },
   "outputs": [],
   "source": [
    "import py3Dmol as p3d\n",
    "viewer = p3d.view(width=300, height=200)\n",
    "viewer.addModel(mol_str, 'xyz')\n",
    "viewer.setViewStyle({\"style\": \"outline\", \"width\": 0.05})\n",
    "viewer.setStyle({\"stick\":{},\"sphere\": {\"scale\":0.25}})\n",
    "viewer.rotate(90,'y');\n",
    "viewer.show()"
   ]
  },
  {
   "cell_type": "markdown",
   "id": "46c760ff-a442-414b-a740-6240660d5707",
   "metadata": {},
   "source": [
    "The order of basis functions become\n",
    "\n",
    "$\\chi_{1s}^{C}$, $\\chi_{2s}^{C}$, $\\chi_{1s}^{O}$, $\\chi_{2s}^{O}$\n",
    "$\\chi_{2py}^{C}$, $\\chi_{2py}^{O}$, $\\chi_{2pz}^{C}$, $\\chi_{2pz}^{O}$, $\\chi_{2px}^{C}$, $\\chi_{2px}^{O}$\n",
    "\n",
    "And the resulting MO coefficients are available as"
   ]
  },
  {
   "cell_type": "code",
   "execution_count": null,
   "id": "5ded6613",
   "metadata": {
    "tags": []
   },
   "outputs": [],
   "source": [
    "import numpy as np\n",
    "\n",
    "np.set_printoptions(precision=3, suppress=True, linewidth=170)\n",
    "\n",
    "C_alpha = scf_results[\"C_alpha\"]\n",
    "print(\"MO coefficient matrix:\\n\", C_alpha)"
   ]
  },
  {
   "cell_type": "markdown",
   "id": "852f78a6",
   "metadata": {},
   "source": [
    "(sec:overlap)=\n",
    "### Overlap matrix\n",
    "The overlap between two basis functions is\n",
    "\n",
    "$$\n",
    "S_{\\alpha\\beta} = \\langle \\chi_\\alpha | \\chi_\\beta \\rangle\n",
    "$$\n",
    "\n",
    "and the overlap matrix can be written as\n",
    "\n",
    "$$\n",
    "\\mathbf{S} = \\langle \\overline{\\chi} | \\overline{\\chi} \\rangle\n",
    "$$\n",
    "\n",
    "where \n",
    "\n",
    "$$\n",
    "\\langle \\overline{\\chi} | = \n",
    "(\\ldots, \\langle \\chi_\\alpha |, \\ldots)^T\n",
    "$$"
   ]
  },
  {
   "cell_type": "code",
   "execution_count": null,
   "id": "9fbbc380",
   "metadata": {
    "scrolled": true
   },
   "outputs": [],
   "source": [
    "S = scf_results[\"S\"]\n",
    "print(\"Overlap matrix:\\n\", S)"
   ]
  },
  {
   "cell_type": "markdown",
   "id": "96ff8d83-b86b-40d9-966e-d42015a4a71e",
   "metadata": {},
   "source": [
    "(sec:basis)=\n",
    "## Basis sets of atomic orbitals\n",
    "\n",
    "### Assign to molecule\n",
    "\n",
    "A [basis set](https://en.wikipedia.org/wiki/Basis_set_(chemistry)) object associated with a molecule can be created with  the `read` method."
   ]
  },
  {
   "cell_type": "code",
   "execution_count": null,
   "id": "69ecf970-6e5d-46ae-b033-a5408bd987b8",
   "metadata": {
    "scrolled": true,
    "tags": [
     "remove-output"
    ]
   },
   "outputs": [],
   "source": [
    "basis = vlx.MolecularBasis.read(molecule, \"cc-pVDZ\")"
   ]
  },
  {
   "cell_type": "markdown",
   "id": "06e6f098-97c6-404b-acb9-157828a48a39",
   "metadata": {},
   "source": [
    "### Basis set library\n",
    "\n",
    "Our software comes distributed with several of the standard basis sets and families of basis sets. For a given element, the available basis sets in the VeloxChem library can be provided with the `get_avail_basis`. Should a basis set not be included in the software distribution, it can be readily supplied by the user in a separate file in the working directory, with basis set parameters available from, *e.g.*, [Basis Set Exchange](https://www.basissetexchange.org/)."
   ]
  },
  {
   "cell_type": "code",
   "execution_count": null,
   "id": "f28304d5",
   "metadata": {},
   "outputs": [],
   "source": [
    "print(\"Available basis sets for carbon:\\n\", basis.get_avail_basis(\"C\"))"
   ]
  },
  {
   "cell_type": "markdown",
   "id": "8d8d9403",
   "metadata": {
    "tags": []
   },
   "source": [
    "**Table**: Categories of basis set.\n",
    "| Category | Character | Example |\n",
    "| -------- | --------- | ------- |\n",
    "| Minimal | Single basis function per occupied atomic orbital, size for second-row elements is $[2s1p]$ | STO-3G |\n",
    "| Double-$\\zeta$ | Two basis functions per occupied valence atomic orbital, size for second-row elements is $[3s2p]$ | 6-31G | \n",
    "| Triple-$\\zeta$ | Three basis functions per occupied valence atomic orbital, for second-row elements $[4s3p]$ | 6-311G |\n",
    "| Polarization | Basis functions with higher angular momenta; important for chemical bonding; size for second-row elements is $[3s2p1d]$ | cc-pVDZ |\n",
    "| Diffuse | Basis functions with small exponents; important for excited states; sizes for second-row elements are $[4s3p]$ for 6-31+G and $[4s3p2d]$ for aug-cc-pVDZ |  6-31+G, aug-cc-pVDZ |\n",
    "\n",
    "\n",
    "### Number of basis functions\n",
    "\n",
    "The number of contracted and primitive basis functions are available from the `get_dimensions_of_basis` and `get_dimensions_of_primitive_basis` methods, respectively."
   ]
  },
  {
   "cell_type": "code",
   "execution_count": null,
   "id": "50b39d01",
   "metadata": {},
   "outputs": [],
   "source": [
    "nbas = basis.get_dimensions_of_basis(molecule)\n",
    "nprim = basis.get_dimensions_of_primitive_basis(molecule)\n",
    "\n",
    "print(\"Number of contracted basis functions:\", nbas)\n",
    "print(\"Number of primitive basis functions:\", nprim)"
   ]
  },
  {
   "cell_type": "markdown",
   "id": "a2bb9415",
   "metadata": {},
   "source": [
    "### Additional information\n",
    "\n",
    "The molecular basis set label is retrieved with the `get_label` method:"
   ]
  },
  {
   "cell_type": "code",
   "execution_count": null,
   "id": "8761dd89",
   "metadata": {},
   "outputs": [],
   "source": [
    "label = basis.get_label()\n",
    "print(\"Basis set label:\", label)"
   ]
  },
  {
   "cell_type": "markdown",
   "id": "9a0d398a-86d9-459b-ab84-3b966393844d",
   "metadata": {},
   "source": [
    "and additional basis set information is available:"
   ]
  },
  {
   "cell_type": "code",
   "execution_count": null,
   "id": "3a85ebf4-61c6-437e-8fa6-62e8de52003d",
   "metadata": {
    "scrolled": true,
    "tags": []
   },
   "outputs": [],
   "source": [
    "info = basis.get_string(label, molecule)\n",
    "print(info)"
   ]
  }
 ],
 "metadata": {
  "celltoolbar": "Tags",
  "kernelspec": {
   "display_name": "Python 3 (ipykernel)",
   "language": "python",
   "name": "python3"
  },
  "language_info": {
   "codemirror_mode": {
    "name": "ipython",
    "version": 3
   },
   "file_extension": ".py",
   "mimetype": "text/x-python",
   "name": "python",
   "nbconvert_exporter": "python",
   "pygments_lexer": "ipython3",
   "version": "3.10.10"
  }
 },
 "nbformat": 4,
 "nbformat_minor": 5
}
