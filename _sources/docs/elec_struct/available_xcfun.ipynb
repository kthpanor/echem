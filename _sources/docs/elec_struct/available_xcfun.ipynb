{
 "cells": [
  {
   "cell_type": "markdown",
   "id": "000f60c9-34aa-493b-a890-70f2c24a4aea",
   "metadata": {
    "editable": true,
    "slideshow": {
     "slide_type": ""
    },
    "tags": []
   },
   "source": [
    "# Available XC functionals"
   ]
  },
  {
   "cell_type": "markdown",
   "id": "3cccf5b5-bfc6-4d59-acb9-92ed91d17b53",
   "metadata": {
    "editable": true,
    "slideshow": {
     "slide_type": ""
    },
    "tags": []
   },
   "source": [
    "A number of exchange–correlation (XC) functionals are available in VeloxChem.\n",
    "\n",
    "We will calculate the electronic energy of helium using the Hartree–Fock (HF), second-order Møller–Plesset (MP2), and full configuration interaction (FCI) methods as well as Kohn–Sham density functional theory (DFT) using the available XC functionals."
   ]
  },
  {
   "cell_type": "code",
   "execution_count": null,
   "id": "1ba04a46-1ffc-4879-a971-d6858b8304c6",
   "metadata": {
    "editable": true,
    "slideshow": {
     "slide_type": ""
    },
    "tags": [
     "remove-output"
    ]
   },
   "outputs": [],
   "source": [
    "import matplotlib.pyplot as plt\n",
    "import multipsi as mtp\n",
    "import veloxchem as vlx"
   ]
  },
  {
   "cell_type": "code",
   "execution_count": null,
   "id": "185ad403-4b01-4d3a-90e4-b90111903475",
   "metadata": {
    "editable": true,
    "scrolled": true,
    "slideshow": {
     "slide_type": ""
    },
    "tags": [
     "remove-output"
    ]
   },
   "outputs": [],
   "source": [
    "molecule = vlx.Molecule.read_molecule_string(\"He   0.000  0.000  0.000\")\n",
    "basis = vlx.MolecularBasis.read(molecule, \"cc-pvtz\", ostream=None)"
   ]
  },
  {
   "cell_type": "markdown",
   "id": "938797de-553f-4adc-ac61-faa68dfb5501",
   "metadata": {
    "editable": true,
    "slideshow": {
     "slide_type": ""
    },
    "tags": []
   },
   "source": [
    "## Hartree–Fock"
   ]
  },
  {
   "cell_type": "code",
   "execution_count": null,
   "id": "beda549e-566a-4865-8ee7-8b0556fbb264",
   "metadata": {
    "editable": true,
    "scrolled": true,
    "slideshow": {
     "slide_type": ""
    },
    "tags": [
     "remove-output"
    ]
   },
   "outputs": [],
   "source": [
    "scf_drv = vlx.ScfRestrictedDriver()\n",
    "scf_drv.ostream.mute()\n",
    "scf_results = scf_drv.compute(molecule, basis)\n",
    "\n",
    "energies = {}\n",
    "energies[\"HF\"] = scf_drv.get_scf_energy()"
   ]
  },
  {
   "cell_type": "markdown",
   "id": "e0f161bc-361f-461c-8635-6f7829aac104",
   "metadata": {
    "editable": true,
    "slideshow": {
     "slide_type": ""
    },
    "tags": []
   },
   "source": [
    "## MP2"
   ]
  },
  {
   "cell_type": "code",
   "execution_count": null,
   "id": "478ae216-bdc1-41af-a94a-4921eab9b069",
   "metadata": {
    "editable": true,
    "scrolled": true,
    "slideshow": {
     "slide_type": ""
    },
    "tags": [
     "remove-output"
    ]
   },
   "outputs": [],
   "source": [
    "mp2_drv = vlx.Mp2Driver()\n",
    "mp2_drv.ostream.mute()\n",
    "mp2_results = mp2_drv.compute(molecule, basis, scf_drv.mol_orbs)\n",
    "\n",
    "energies[\"MP2\"] = mp2_results[\"mp2_energy\"] + energies[\"HF\"]"
   ]
  },
  {
   "cell_type": "markdown",
   "id": "231fe415-2395-47b8-99e2-c9df8d29e88c",
   "metadata": {
    "editable": true,
    "slideshow": {
     "slide_type": ""
    },
    "tags": []
   },
   "source": [
    "## FCI"
   ]
  },
  {
   "cell_type": "code",
   "execution_count": null,
   "id": "745d0cb5-5a0a-41a2-85ae-1ab484c58c7e",
   "metadata": {
    "editable": true,
    "slideshow": {
     "slide_type": ""
    },
    "tags": []
   },
   "outputs": [],
   "source": [
    "space = mtp.OrbSpace(molecule, scf_drv.mol_orbs)\n",
    "space.fci()\n",
    "\n",
    "ci_drv = mtp.CIDriver()\n",
    "ci_drv.ostream.mute()\n",
    "\n",
    "ci_results = ci_drv.compute(molecule, basis, space)\n",
    "\n",
    "energies[\"FCI\"] = ci_results[\"energies\"][0]"
   ]
  },
  {
   "cell_type": "markdown",
   "id": "4c2e2bec-4de4-4a01-9ced-5da6a86967ff",
   "metadata": {
    "editable": true,
    "slideshow": {
     "slide_type": ""
    },
    "tags": []
   },
   "source": [
    "## DFT"
   ]
  },
  {
   "cell_type": "code",
   "execution_count": null,
   "id": "3db92189-131c-4990-884c-d29f526884eb",
   "metadata": {
    "editable": true,
    "scrolled": true,
    "slideshow": {
     "slide_type": ""
    },
    "tags": []
   },
   "outputs": [],
   "source": [
    "for xcfun in vlx.available_functionals():\n",
    "    scf_drv.xcfun = xcfun\n",
    "    scf_drv.compute(molecule, basis)\n",
    "    \n",
    "    energies[xcfun] = scf_drv.get_scf_energy()"
   ]
  },
  {
   "cell_type": "markdown",
   "id": "7b308261-eed1-400e-9e2c-5b43195348e7",
   "metadata": {
    "editable": true,
    "slideshow": {
     "slide_type": ""
    },
    "tags": []
   },
   "source": [
    "## Plotting the energies"
   ]
  },
  {
   "cell_type": "code",
   "execution_count": null,
   "id": "a0f51fca-4f52-4728-8c76-a991489a1c03",
   "metadata": {
    "editable": true,
    "scrolled": true,
    "slideshow": {
     "slide_type": ""
    },
    "tags": [
     "output_scroll"
    ]
   },
   "outputs": [],
   "source": [
    "for method in energies.keys():\n",
    "    print(f\"    {method:<12s}: {energies[method]:16.8f} a.u.\")"
   ]
  },
  {
   "cell_type": "code",
   "execution_count": null,
   "id": "0f5dd4a1-362e-4a43-9231-084b581bdeb4",
   "metadata": {
    "editable": true,
    "slideshow": {
     "slide_type": ""
    },
    "tags": []
   },
   "outputs": [],
   "source": [
    "fig, ax = plt.subplots(figsize=(10, 6))\n",
    "\n",
    "for i, method in enumerate(energies.keys()):\n",
    "    ax.plot(i, energies[method], \"o\")\n",
    "\n",
    "ax.set_xticks(range(len(energies)), energies.keys())\n",
    "plt.xticks(rotation=90)\n",
    "\n",
    "ax.set_ylim(-2.93, -2.82)\n",
    "plt.ylabel(\"Electronic energy (a.u.)\")\n",
    "\n",
    "plt.grid(True)\n",
    "plt.show()"
   ]
  }
 ],
 "metadata": {
  "kernelspec": {
   "display_name": "Python 3 (ipykernel)",
   "language": "python",
   "name": "python3"
  },
  "language_info": {
   "codemirror_mode": {
    "name": "ipython",
    "version": 3
   },
   "file_extension": ".py",
   "mimetype": "text/x-python",
   "name": "python",
   "nbconvert_exporter": "python",
   "pygments_lexer": "ipython3",
   "version": "3.12.8"
  }
 },
 "nbformat": 4,
 "nbformat_minor": 5
}
