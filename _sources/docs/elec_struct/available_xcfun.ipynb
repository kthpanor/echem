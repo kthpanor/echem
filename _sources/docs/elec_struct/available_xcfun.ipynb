{
 "cells": [
  {
   "cell_type": "markdown",
   "id": "000f60c9-34aa-493b-a890-70f2c24a4aea",
   "metadata": {},
   "source": [
    "# Available XC functionals"
   ]
  },
  {
   "cell_type": "markdown",
   "id": "3cccf5b5-bfc6-4d59-acb9-92ed91d17b53",
   "metadata": {},
   "source": [
    "A number of exchange–correlation (XC) functionals are available in VeloxChem.\n",
    "\n",
    "We will calculate the electronic energy of helium using the Hartree–Fock and second-order Møller–Plesset methods as well as Kohn–Sham density functional theory using the available XC functionals."
   ]
  },
  {
   "cell_type": "code",
   "execution_count": null,
   "id": "1ba04a46-1ffc-4879-a971-d6858b8304c6",
   "metadata": {
    "tags": [
     "remove-output"
    ]
   },
   "outputs": [],
   "source": [
    "import matplotlib.pyplot as plt\n",
    "import veloxchem as vlx"
   ]
  },
  {
   "cell_type": "code",
   "execution_count": null,
   "id": "185ad403-4b01-4d3a-90e4-b90111903475",
   "metadata": {
    "scrolled": true,
    "tags": [
     "remove-output"
    ]
   },
   "outputs": [],
   "source": [
    "molecule = vlx.Molecule.read_str(\"He   0.000  0.000  0.000\")\n",
    "basis = vlx.MolecularBasis.read(molecule, \"cc-pvtz\")"
   ]
  },
  {
   "cell_type": "markdown",
   "id": "938797de-553f-4adc-ac61-faa68dfb5501",
   "metadata": {},
   "source": [
    "## Hartree–Fock"
   ]
  },
  {
   "cell_type": "code",
   "execution_count": null,
   "id": "beda549e-566a-4865-8ee7-8b0556fbb264",
   "metadata": {
    "scrolled": true,
    "tags": [
     "remove-output"
    ]
   },
   "outputs": [],
   "source": [
    "scf_drv = vlx.ScfRestrictedDriver()\n",
    "\n",
    "scf_results = scf_drv.compute(molecule, basis)\n",
    "\n",
    "scf_energies = {}\n",
    "scf_energies[\"HF\"] = scf_drv.get_scf_energy()"
   ]
  },
  {
   "cell_type": "markdown",
   "id": "e0f161bc-361f-461c-8635-6f7829aac104",
   "metadata": {},
   "source": [
    "## MP2"
   ]
  },
  {
   "cell_type": "code",
   "execution_count": null,
   "id": "478ae216-bdc1-41af-a94a-4921eab9b069",
   "metadata": {
    "tags": [
     "remove-output"
    ]
   },
   "outputs": [],
   "source": [
    "mp2_drv = vlx.Mp2Driver()\n",
    "mp2_results = mp2_drv.compute(molecule, basis, scf_drv.mol_orbs)\n",
    "\n",
    "scf_energies[\"MP2\"] = mp2_results[\"mp2_energy\"] + scf_energies[\"HF\"]"
   ]
  },
  {
   "cell_type": "markdown",
   "id": "4c2e2bec-4de4-4a01-9ced-5da6a86967ff",
   "metadata": {},
   "source": [
    "## DFT"
   ]
  },
  {
   "cell_type": "code",
   "execution_count": null,
   "id": "a2abd689-aa0c-4fdb-a105-1251de7f05d5",
   "metadata": {
    "scrolled": true,
    "tags": [
     "remove-output"
    ]
   },
   "outputs": [],
   "source": [
    "for xcfun in vlx.available_functionals():\n",
    "\n",
    "    if xcfun.lower() in ['vwn_rpa', 'lyp']:\n",
    "        continue\n",
    "        \n",
    "    scf_drv.xcfun = xcfun\n",
    "    scf_drv.compute(molecule, basis)\n",
    "    scf_energies[xcfun] = scf_drv.get_scf_energy()"
   ]
  },
  {
   "cell_type": "markdown",
   "id": "7b308261-eed1-400e-9e2c-5b43195348e7",
   "metadata": {},
   "source": [
    "## Plotting the energies"
   ]
  },
  {
   "cell_type": "code",
   "execution_count": null,
   "id": "0f5dd4a1-362e-4a43-9231-084b581bdeb4",
   "metadata": {},
   "outputs": [],
   "source": [
    "fig, ax = plt.subplots(figsize=(10, 6))\n",
    "\n",
    "number_methods = len(scf_energies)\n",
    "\n",
    "for i, method in enumerate(scf_energies.keys()):\n",
    "\n",
    "    ax.plot(i, scf_energies[method], \"o\")\n",
    "\n",
    "ax.set_xticks(range(number_methods), scf_energies.keys())\n",
    "plt.xticks(rotation=90)\n",
    "\n",
    "ax.set_ylim(-2.93, -2.82)\n",
    "plt.ylabel(\"Electronic energy (a.u.)\")\n",
    "\n",
    "plt.grid(True)\n",
    "\n",
    "plt.show()"
   ]
  }
 ],
 "metadata": {
  "kernelspec": {
   "display_name": "Python 3 (ipykernel)",
   "language": "python",
   "name": "python3"
  },
  "language_info": {
   "codemirror_mode": {
    "name": "ipython",
    "version": 3
   },
   "file_extension": ".py",
   "mimetype": "text/x-python",
   "name": "python",
   "nbconvert_exporter": "python",
   "pygments_lexer": "ipython3",
   "version": "3.10.10"
  }
 },
 "nbformat": 4,
 "nbformat_minor": 5
}
