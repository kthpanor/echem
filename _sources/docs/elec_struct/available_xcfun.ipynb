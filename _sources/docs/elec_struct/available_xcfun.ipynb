{
 "cells": [
  {
   "cell_type": "markdown",
   "id": "000f60c9-34aa-493b-a890-70f2c24a4aea",
   "metadata": {
    "editable": true,
    "slideshow": {
     "slide_type": ""
    },
    "tags": []
   },
   "source": [
    "# Available XC functionals"
   ]
  },
  {
   "cell_type": "markdown",
   "id": "3cccf5b5-bfc6-4d59-acb9-92ed91d17b53",
   "metadata": {
    "editable": true,
    "slideshow": {
     "slide_type": ""
    },
    "tags": []
   },
   "source": [
    "A number of exchange–correlation (XC) functionals are available in VeloxChem.\n",
    "\n",
    "We will calculate the electronic energy of helium using the Hartree–Fock (HF), second-order Møller–Plesset (MP2), and full configuration interaction (FCI) methods as well as Kohn–Sham density functional theory (DFT) using the available XC functionals."
   ]
  },
  {
   "cell_type": "code",
   "execution_count": 1,
   "id": "1ba04a46-1ffc-4879-a971-d6858b8304c6",
   "metadata": {
    "editable": true,
    "slideshow": {
     "slide_type": ""
    },
    "tags": [
     "remove-output"
    ]
   },
   "outputs": [],
   "source": [
    "import matplotlib.pyplot as plt\n",
    "import multipsi as mtp\n",
    "import veloxchem as vlx"
   ]
  },
  {
   "cell_type": "code",
   "execution_count": 2,
   "id": "185ad403-4b01-4d3a-90e4-b90111903475",
   "metadata": {
    "editable": true,
    "scrolled": true,
    "slideshow": {
     "slide_type": ""
    },
    "tags": [
     "remove-output"
    ]
   },
   "outputs": [],
   "source": [
    "molecule = vlx.Molecule.read_molecule_string(\"He   0.000  0.000  0.000\")\n",
    "basis = vlx.MolecularBasis.read(molecule, \"cc-pvtz\", ostream=None)"
   ]
  },
  {
   "cell_type": "markdown",
   "id": "938797de-553f-4adc-ac61-faa68dfb5501",
   "metadata": {
    "editable": true,
    "slideshow": {
     "slide_type": ""
    },
    "tags": []
   },
   "source": [
    "## Hartree–Fock"
   ]
  },
  {
   "cell_type": "code",
   "execution_count": 3,
   "id": "beda549e-566a-4865-8ee7-8b0556fbb264",
   "metadata": {
    "editable": true,
    "scrolled": true,
    "slideshow": {
     "slide_type": ""
    },
    "tags": [
     "remove-output"
    ]
   },
   "outputs": [],
   "source": [
    "scf_drv = vlx.ScfRestrictedDriver()\n",
    "scf_drv.ostream.mute()\n",
    "scf_results = scf_drv.compute(molecule, basis)\n",
    "\n",
    "energies = {}\n",
    "energies[\"HF\"] = scf_drv.get_scf_energy()"
   ]
  },
  {
   "cell_type": "markdown",
   "id": "e0f161bc-361f-461c-8635-6f7829aac104",
   "metadata": {
    "editable": true,
    "slideshow": {
     "slide_type": ""
    },
    "tags": []
   },
   "source": [
    "## MP2"
   ]
  },
  {
   "cell_type": "code",
   "execution_count": 4,
   "id": "478ae216-bdc1-41af-a94a-4921eab9b069",
   "metadata": {
    "editable": true,
    "scrolled": true,
    "slideshow": {
     "slide_type": ""
    },
    "tags": [
     "remove-output"
    ]
   },
   "outputs": [],
   "source": [
    "mp2_drv = vlx.Mp2Driver()\n",
    "mp2_drv.ostream.mute()\n",
    "mp2_results = mp2_drv.compute(molecule, basis, scf_drv.mol_orbs)\n",
    "\n",
    "energies[\"MP2\"] = mp2_results[\"mp2_energy\"] + energies[\"HF\"]"
   ]
  },
  {
   "cell_type": "markdown",
   "id": "231fe415-2395-47b8-99e2-c9df8d29e88c",
   "metadata": {
    "editable": true,
    "slideshow": {
     "slide_type": ""
    },
    "tags": []
   },
   "source": [
    "## FCI"
   ]
  },
  {
   "cell_type": "code",
   "execution_count": 5,
   "id": "745d0cb5-5a0a-41a2-85ae-1ab484c58c7e",
   "metadata": {
    "editable": true,
    "slideshow": {
     "slide_type": ""
    },
    "tags": []
   },
   "outputs": [],
   "source": [
    "space = mtp.OrbSpace(molecule, scf_drv.mol_orbs)\n",
    "space.fci()\n",
    "\n",
    "ci_drv = mtp.CIDriver()\n",
    "ci_drv.ostream.mute()\n",
    "\n",
    "ci_results = ci_drv.compute(molecule, basis, space)\n",
    "\n",
    "energies[\"FCI\"] = ci_drv.get_energy()"
   ]
  },
  {
   "cell_type": "markdown",
   "id": "4c2e2bec-4de4-4a01-9ced-5da6a86967ff",
   "metadata": {
    "editable": true,
    "slideshow": {
     "slide_type": ""
    },
    "tags": []
   },
   "source": [
    "## DFT"
   ]
  },
  {
   "cell_type": "code",
   "execution_count": 6,
   "id": "3db92189-131c-4990-884c-d29f526884eb",
   "metadata": {
    "editable": true,
    "scrolled": true,
    "slideshow": {
     "slide_type": ""
    },
    "tags": []
   },
   "outputs": [],
   "source": [
    "for xcfun in vlx.available_functionals():\n",
    "    scf_drv.xcfun = xcfun\n",
    "    scf_drv.compute(molecule, basis)\n",
    "    \n",
    "    energies[xcfun] = scf_drv.get_scf_energy()"
   ]
  },
  {
   "cell_type": "markdown",
   "id": "7b308261-eed1-400e-9e2c-5b43195348e7",
   "metadata": {
    "editable": true,
    "slideshow": {
     "slide_type": ""
    },
    "tags": []
   },
   "source": [
    "## Plotting the energies"
   ]
  },
  {
   "cell_type": "code",
   "execution_count": 7,
   "id": "a0f51fca-4f52-4728-8c76-a991489a1c03",
   "metadata": {
    "editable": true,
    "scrolled": true,
    "slideshow": {
     "slide_type": ""
    },
    "tags": [
     "output_scroll"
    ]
   },
   "outputs": [
    {
     "name": "stdout",
     "output_type": "stream",
     "text": [
      "    HF          :      -2.86115334 a.u.\n",
      "    MP2         :      -2.89429091 a.u.\n",
      "    FCI         :      -2.90023217 a.u.\n",
      "    SLATER      :      -2.72271178 a.u.\n",
      "    SLDA        :      -2.87143717 a.u.\n",
      "    B88X        :      -2.86247050 a.u.\n",
      "    BLYP        :      -2.90621759 a.u.\n",
      "    B3LYP       :      -2.91450655 a.u.\n",
      "    BHANDH      :      -2.83473781 a.u.\n",
      "    BHANDHLYP   :      -2.90514866 a.u.\n",
      "    PBE         :      -2.89213590 a.u.\n",
      "    PBE0        :      -2.89451563 a.u.\n",
      "    REVPBE      :      -2.90710482 a.u.\n",
      "    BP86        :      -2.90557480 a.u.\n",
      "    PW91        :      -2.89919908 a.u.\n",
      "    MPW1K       :      -2.90521521 a.u.\n",
      "    OLYP        :      -2.90644600 a.u.\n",
      "    O3LYP       :      -2.90951647 a.u.\n",
      "    X3LYP       :      -2.90758515 a.u.\n",
      "    B97         :      -2.90931588 a.u.\n",
      "    B97-1       :      -2.90639481 a.u.\n",
      "    B97-2       :      -2.90940855 a.u.\n",
      "    B97-3       :      -2.91133188 a.u.\n",
      "    TPSS        :      -2.90886838 a.u.\n",
      "    TPSSH       :      -2.90836089 a.u.\n",
      "    REVTPSS     :      -2.91132827 a.u.\n",
      "    PKZB        :      -2.90387499 a.u.\n",
      "    SCAN        :      -2.90431544 a.u.\n",
      "    RSCAN       :      -2.90431544 a.u.\n",
      "    R2SCAN      :      -2.90431544 a.u.\n",
      "    M05         :      -2.90471113 a.u.\n",
      "    M05-2X      :      -2.90804370 a.u.\n",
      "    M06         :      -2.90925996 a.u.\n",
      "    M06-2X      :      -2.90399052 a.u.\n",
      "    M06-HF      :      -2.90187434 a.u.\n",
      "    M06-L       :      -2.91319059 a.u.\n",
      "    M11-L       :      -2.91833797 a.u.\n",
      "    MPW1B95     :      -2.90141905 a.u.\n",
      "    MPWB1K      :      -2.90163660 a.u.\n",
      "    PW6B95      :      -2.91673962 a.u.\n",
      "    PWB6K       :      -2.90888490 a.u.\n"
     ]
    }
   ],
   "source": [
    "for method in energies.keys():\n",
    "    print(f\"    {method:<12s}: {energies[method]:16.8f} a.u.\")"
   ]
  },
  {
   "cell_type": "code",
   "execution_count": 12,
   "id": "0f5dd4a1-362e-4a43-9231-084b581bdeb4",
   "metadata": {
    "editable": true,
    "slideshow": {
     "slide_type": ""
    },
    "tags": []
   },
   "outputs": [
    {
     "data": {
      "image/png": "[encoded data removed]",
      "text/plain": [
       "<Figure size 1000x600 with 1 Axes>"
      ]
     },
     "metadata": {},
     "output_type": "display_data"
    }
   ],
   "source": [
    "fig, ax = plt.subplots(figsize=(10, 6))\n",
    "\n",
    "for i, method in enumerate(energies.keys()):\n",
    "    ax.plot(i, energies[method], \"o\")\n",
    "\n",
    "ax.set_xticks(range(len(energies)), energies.keys())\n",
    "plt.xticks(rotation=90)\n",
    "\n",
    "ax.set_ylim(-2.93, -2.82)\n",
    "plt.ylabel(\"Electronic energy (a.u.)\")\n",
    "\n",
    "plt.grid(True)\n",
    "plt.show()"
   ]
  }
 ],
 "metadata": {
  "kernelspec": {
   "display_name": "Python 3 (ipykernel)",
   "language": "python",
   "name": "python3"
  },
  "language_info": {
   "codemirror_mode": {
    "name": "ipython",
    "version": 3
   },
   "file_extension": ".py",
   "mimetype": "text/x-python",
   "name": "python",
   "nbconvert_exporter": "python",
   "pygments_lexer": "ipython3",
   "version": "3.11.7"
  }
 },
 "nbformat": 4,
 "nbformat_minor": 5
}
