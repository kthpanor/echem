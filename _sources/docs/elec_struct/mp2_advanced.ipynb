{
 "cells": [
  {
   "cell_type": "markdown",
   "id": "6a3e83b7-befe-4b37-9849-6b22fb5aeec0",
   "metadata": {
    "editable": true,
    "slideshow": {
     "slide_type": ""
    },
    "tags": []
   },
   "source": [
    "# Other partitionings"
   ]
  },
  {
   "cell_type": "markdown",
   "id": "a9039c1a-3161-4d26-bdd2-66a76e450734",
   "metadata": {
    "editable": true,
    "slideshow": {
     "slide_type": ""
    },
    "tags": []
   },
   "source": [
    "(sec:mp2-taylor)=\n",
    "# Taylor expansion of the energy\n",
    "\n",
    "Using [RSPT](pt), it is a common practice to use an order parameter $\\lambda$ for the perturbation \n",
    "\n",
    "$$\n",
    "\\hat{H}(\\lambda) = \\hat{H_0} + \\lambda \\hat{V}\n",
    "$$\n",
    "\n",
    "Each order of the perturbation then corresponds to a power of $\\lambda$\n",
    "\n",
    "$$\n",
    "E(\\lambda) = E^{(0)} + \\lambda E^{(1)} + \\lambda^2 E^{(2)} + \\ldots\n",
    "$$\n",
    "\n",
    "The RSPT equations are found by collecting terms in powers of $\\lambda$ and, at the end, set $\\lambda$ equal to 1 to recover the correct Hamiltonian. Taking this approach, it is seen that RSPT relates to Taylor expansions. We will here demonstrate that\n",
    "\n",
    "$$\n",
    "E_\\mathrm{FCI}(\\lambda) = \\sum_{i=0}^\\infty \\lambda^i E_{\\mathrm{MP}}^{(i)}\n",
    "$$\n",
    "\n",
    "or, in other words, the $n$th-order MP energy correction is given by\n",
    "\n",
    "$$\n",
    "E_{\\mathrm{MP}}^{(n)} = \n",
    "\\frac{1}{n!}\n",
    "\\left.\n",
    "\\frac{d^n E_\\mathrm{FCI}(\\lambda)}{d \\lambda^n} \n",
    "\\right|_{\\lambda=0}\n",
    "$$\n",
    "\n",
    "The total MP energy to order $n$ is a sum of the corrections\n",
    "\n",
    "$$\n",
    "E_{\\mathrm{MPn}} = \n",
    "\\sum_{i=0}^n E_{\\mathrm{MP}}^{(i)}\n",
    "$$\n",
    "\n",
    "We will explicitly create $\\hat{H}(\\lambda)$ and determine the FCI energy. This allows us to determine the MP2 energy by means of numerical differentiation to second order with respect to $\\lambda$.\n",
    "\n",
    "First, we determine the Hartree–Fock state of water in the 6-31G basis set."
   ]
  },
  {
   "cell_type": "code",
   "execution_count": 1,
   "id": "d78cd800-cae8-4ac9-8ecb-f39ea463aaa6",
   "metadata": {
    "editable": true,
    "scrolled": true,
    "slideshow": {
     "slide_type": ""
    },
    "tags": [
     "remove-output"
    ]
   },
   "outputs": [],
   "source": [
    "import veloxchem as vlx\n",
    "import numpy as np"
   ]
  },
  {
   "cell_type": "code",
   "execution_count": 2,
   "id": "7b9cf10f-20ff-4f8d-ad28-83bc49215f34",
   "metadata": {
    "editable": true,
    "scrolled": true,
    "slideshow": {
     "slide_type": ""
    },
    "tags": []
   },
   "outputs": [],
   "source": [
    "h2o_xyz = \"\"\"3\n",
    "water                                                                                                                          \n",
    "O    0.000000000000        0.000000000000        0.000000000000                         \n",
    "H    0.000000000000        0.740848095288        0.582094932012                         \n",
    "H    0.000000000000       -0.740848095288        0.582094932012\n",
    "\"\"\"\n",
    "\n",
    "molecule = vlx.Molecule.read_xyz_string(h2o_xyz)\n",
    "basis = vlx.MolecularBasis.read(molecule, \"6-31G\", ostream=None)\n",
    "\n",
    "scf_drv = vlx.ScfRestrictedDriver()\n",
    "scf_drv.ostream.mute()\n",
    "scf_results = scf_drv.compute(molecule, basis)"
   ]
  },
  {
   "cell_type": "code",
   "execution_count": 3,
   "id": "9b7d527e-5c71-4a8f-9e19-836e90aa1b00",
   "metadata": {
    "editable": true,
    "scrolled": true,
    "slideshow": {
     "slide_type": ""
    },
    "tags": []
   },
   "outputs": [],
   "source": [
    "# MO coefficients\n",
    "C = scf_results[\"C_alpha\"]\n",
    "\n",
    "# orbital energies\n",
    "E = scf_results[\"E_alpha\"]"
   ]
  },
  {
   "cell_type": "markdown",
   "id": "e2695fb1",
   "metadata": {
    "editable": true,
    "slideshow": {
     "slide_type": ""
    },
    "tags": []
   },
   "source": [
    "Second, we create $\\hat{H_0} = \\hat{F}$ and $\\hat{V} = (\\hat{H} - \\hat{F})_{\\lambda=1}$ in the MO basis. The perturbation has a one-electron as well as a two-electron part that we will keep separate\n",
    "\n",
    "$$\n",
    "\\hat{V} = \\hat{V}_1 + \\hat{V}_2\n",
    "$$"
   ]
  },
  {
   "cell_type": "code",
   "execution_count": 4,
   "id": "fdae6470-bb2d-499e-9343-bc198ff5c57e",
   "metadata": {
    "editable": true,
    "slideshow": {
     "slide_type": ""
    },
    "tags": []
   },
   "outputs": [],
   "source": [
    "import numpy as np\n",
    "\n",
    "F = np.diag(E)\n",
    "\n",
    "# Get the core Hamiltonian in MO basis\n",
    "T_ao = vlx.compute_kinetic_energy_integrals(molecule, basis)\n",
    "\n",
    "V_nucpot_ao = vlx.compute_nuclear_potential_integrals(molecule, basis)\n",
    "\n",
    "h = np.einsum(\"ai, ab, bj -> ij\", C, T_ao + V_nucpot_ao, C)\n",
    "\n",
    "# Compute the 2-electron integrals\n",
    "fock_drv = vlx.FockDriver()\n",
    "g_ao = fock_drv.compute_eri(molecule, basis)\n",
    "\n",
    "g_1 = np.einsum(\"ds, abcd -> abcs\", C, g_ao)\n",
    "g_2 = np.einsum(\"cr, abcs -> abrs\", C, g_1)\n",
    "g_3 = np.einsum(\"bq, abrs -> aqrs\", C, g_2)\n",
    "\n",
    "g = np.einsum(\"ap, aqrs -> pqrs\", C, g_3)"
   ]
  },
  {
   "cell_type": "code",
   "execution_count": 5,
   "id": "f55cf258-9696-4f4a-8b05-dc3c0fcfd9a3",
   "metadata": {
    "editable": true,
    "slideshow": {
     "slide_type": ""
    },
    "tags": []
   },
   "outputs": [],
   "source": [
    "H0 = F\n",
    "\n",
    "V_1 = h - F\n",
    "V_2 = g"
   ]
  },
  {
   "cell_type": "markdown",
   "id": "e429ff6c",
   "metadata": {
    "editable": true,
    "slideshow": {
     "slide_type": ""
    },
    "tags": []
   },
   "source": [
    "Third, we use MultiPsi to determine the FCI energies."
   ]
  },
  {
   "cell_type": "code",
   "execution_count": 6,
   "id": "f5d21092-341c-4e33-b8f1-a21087b5e1c3",
   "metadata": {
    "editable": true,
    "scrolled": true,
    "slideshow": {
     "slide_type": ""
    },
    "tags": []
   },
   "outputs": [],
   "source": [
    "import multipsi as mtp\n",
    "\n",
    "ci_drv = mtp.CIDriver()\n",
    "ci_drv.ostream.mute()\n",
    "\n",
    "space = mtp.OrbSpace(molecule, scf_drv.mol_orbs)\n",
    "space.fci()"
   ]
  },
  {
   "cell_type": "markdown",
   "id": "51c68088-6034-46b4-aca5-3f75a5a0c35d",
   "metadata": {
    "editable": true,
    "slideshow": {
     "slide_type": ""
    },
    "tags": []
   },
   "source": [
    "Determine $E_\\mathrm{FCI}(\\lambda)$ and calculate the second derivative with use of a 3-point stencil."
   ]
  },
  {
   "cell_type": "code",
   "execution_count": 7,
   "id": "38df568d-bdc9-4e51-ab00-6fdc87461013",
   "metadata": {
    "editable": true,
    "scrolled": true,
    "slideshow": {
     "slide_type": ""
    },
    "tags": []
   },
   "outputs": [],
   "source": [
    "E_FCI = []\n",
    "\n",
    "for lambda_val in [-0.01, 0, 0.01]:\n",
    "\n",
    "    ci_drv._update_integrals(\n",
    "        molecule.nuclear_repulsion_energy(), H0 + lambda_val * V_1, lambda_val * V_2\n",
    "    )\n",
    "\n",
    "    ci_results = ci_drv.compute(molecule, basis, space, 1)\n",
    "\n",
    "    E_FCI.append(ci_results[\"energies\"][0])"
   ]
  },
  {
   "cell_type": "code",
   "execution_count": 8,
   "id": "92ebf8d0-ea45-4a81-b969-f0e6ca8479ad",
   "metadata": {},
   "outputs": [],
   "source": [
    "E_Taylor2 = 0.5 * (E_FCI[0] + E_FCI[2] - 2 * E_FCI[1]) / 0.01**2"
   ]
  },
  {
   "cell_type": "code",
   "execution_count": 9,
   "id": "72c3fb41-e186-498a-836b-d168cd234496",
   "metadata": {},
   "outputs": [
    {
     "name": "stdout",
     "output_type": "stream",
     "text": [
      "Numerical 2nd order Taylor energy correction: -0.12747116\n"
     ]
    }
   ],
   "source": [
    "print(f\"Numerical 2nd order Taylor energy correction:{E_Taylor2:12.8f}\")"
   ]
  },
  {
   "cell_type": "markdown",
   "id": "9cadb564-514b-4a14-be6d-9d1bb626d71c",
   "metadata": {},
   "source": [
    "Perform a reference calculation using the MP2 module in VeloxChem."
   ]
  },
  {
   "cell_type": "code",
   "execution_count": 10,
   "id": "2bd29388-8747-4387-b2ec-7d10d95a55d1",
   "metadata": {
    "editable": true,
    "slideshow": {
     "slide_type": ""
    },
    "tags": [
     "remove-output"
    ]
   },
   "outputs": [
    {
     "name": "stdout",
     "output_type": "stream",
     "text": [
      "                                                                                                                          \n",
      "                                                     MP2 Driver Setup                                                     \n",
      "                                                    ==================                                                    \n",
      "                                                                                                                          \n",
      "                               Number of Fock Matrices      : 15                                                          \n",
      "                               Number of Subcommunicators   : 1                                                           \n",
      "                               ERI Screening Threshold      : 1.0e-12                                                     \n",
      "                                                                                                                          \n",
      "                     Monitoring calculation on master node.                                                               \n",
      "                                                                                                                          \n",
      "                     15 Fock matrices will be processed on master node.                                                   \n",
      "                                                                                                                          \n",
      "                     *** MP2 correlation energy:      -0.127470661549 a.u.                                                \n",
      "                                                                                                                          \n"
     ]
    }
   ],
   "source": [
    "mp2_drv = vlx.Mp2Driver()\n",
    "mp2_results = mp2_drv.compute(molecule, basis, scf_drv.mol_orbs)"
   ]
  },
  {
   "cell_type": "code",
   "execution_count": 11,
   "id": "1cf5d218-4d2f-499a-9706-089a72e4738b",
   "metadata": {},
   "outputs": [
    {
     "name": "stdout",
     "output_type": "stream",
     "text": [
      "MP2 energy correction: -0.12747066\n"
     ]
    }
   ],
   "source": [
    "print(f\"MP2 energy correction:{mp2_results['mp2_energy']:12.8f}\")"
   ]
  },
  {
   "cell_type": "markdown",
   "id": "a10bca43-5c94-4dab-88e3-5b71160c891b",
   "metadata": {},
   "source": [
    "We note the the two results are in perfect agreement. The small discrepancy is due to the use of numerical differentiation in the former case."
   ]
  },
  {
   "cell_type": "markdown",
   "id": "cc093175-6e13-4aae-9076-d23c563b4248",
   "metadata": {
    "editable": true,
    "slideshow": {
     "slide_type": ""
    },
    "tags": []
   },
   "source": [
    "# Convergence of the perturbation series"
   ]
  },
  {
   "cell_type": "markdown",
   "id": "b5aca421-5263-4b29-b38c-07932012e90d",
   "metadata": {
    "editable": true,
    "slideshow": {
     "slide_type": ""
    },
    "tags": []
   },
   "source": [
    "While Møller–Plesset is often used to second order, it forms a series that one would expect to converge to the full CI energy. However, like any Taylor expansion, there is a convergence radius. This means if the perturbation is too large, the series may not converge to the desired outcome, even diverging. This can easily be illustrated on a two electrons in two orbital basis like H$_2$ in a minimal basis, for which we can compute the exact result easily.\n",
    "\n",
    "In such a system, there are in principle four determinants, but symmetries reduce this number to two relevant ones for the ground state.\n",
    "\n",
    "$$ | 0 \\rangle = | \\sigma_g \\bar{\\sigma_g} \\rangle $$\n",
    "$$ | 1 \\rangle = | \\sigma_u \\bar{\\sigma_u} \\rangle $$\n",
    "with energies $\\langle 0 | \\hat{H} | 0 \\rangle = E_0 $ and $\\langle 1 | \\hat{H} | 1 \\rangle = E_1 $ and interaction term $\\langle 0 | \\hat{H} | 1 \\rangle = V_{01}$.\n",
    "\n",
    "The Hamiltonian is thus\n",
    "\n",
    "$$ \\begin{pmatrix}\n",
    "E_0 & V_{01}\\\\\n",
    "V_{01} & E_1\n",
    "\\end{pmatrix}\n",
    "$$\n",
    "\n",
    "or if we shift everything by the HF ground state energy $E_0$\n",
    "\n",
    "$$ \\begin{pmatrix}\n",
    "0 & V_{01}\\\\\n",
    "V_{01} & E_1 - E_0\n",
    "\\end{pmatrix}\n",
    "$$\n",
    "\n",
    "The eigenvalues of such a 2x2 matrix are known, as it corresponds to the roots of a second order polynomial:\n",
    "\n",
    "$$ E_\\mathrm{corr} = \\frac{\\Delta E \\pm \\sqrt{\\Delta E^2 + 4V_{01}^2}}{2} $$\n",
    "with $\\Delta E = E_1 - E_0 \\geq 0$. Assuming $\\Delta E \\neq 0$ we can write this as\n",
    "\n",
    "$$ E_\\mathrm{corr} = \\frac{\\Delta E \\pm \\Delta E \\sqrt{1 + 4V_{01}^2/\\Delta E^2}}{2} $$\n",
    "Since we want the ground state, we keep only the solution with a minus sign. Now we can use the known Taylor expansion $\\sqrt{1+x} = 1 - \\frac{x}{2} + o(x) $\n",
    "\n",
    "$$ E_\\mathrm{corr} \\approx - \\frac{V_{01}}{\\Delta E}$$\n",
    "\n",
    "We recognize here the second order perturbation theory result. Specifically, here, this is not the Epstein-Nesbet perturbation theory result, but similar reasoning could be done using Møller–Plesset.\n",
    "\n",
    "The important thing is that the Taylor series $\\sqrt{1+x} = 1 - \\frac{x}{2} + o(x) $ is only convergent for $|x| \\leq 1$, which in our case means for $2|V_{01}| \\leq \\Delta E $. In other words, if the energy difference between the ground and excited determinants become too small, the Taylor series -and thus the perturbation expansion- would not converge.\n",
    "\n",
    "This regime corresponds to the strong correlation regime and requires more sophisticated electronic structure methods. "
   ]
  },
  {
   "cell_type": "code",
   "execution_count": null,
   "id": "4388ab5a-00cd-4167-a1e1-f0b564c60563",
   "metadata": {
    "editable": true,
    "slideshow": {
     "slide_type": ""
    },
    "tags": []
   },
   "outputs": [],
   "source": []
  }
 ],
 "metadata": {
  "celltoolbar": "Tags",
  "kernelspec": {
   "display_name": "Python 3 (ipykernel)",
   "language": "python",
   "name": "python3"
  },
  "language_info": {
   "codemirror_mode": {
    "name": "ipython",
    "version": 3
   },
   "file_extension": ".py",
   "mimetype": "text/x-python",
   "name": "python",
   "nbconvert_exporter": "python",
   "pygments_lexer": "ipython3",
   "version": "3.12.8"
  }
 },
 "nbformat": 4,
 "nbformat_minor": 5
}
