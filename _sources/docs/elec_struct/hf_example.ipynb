{
 "cells": [
  {
   "cell_type": "markdown",
   "id": "a1fcc90d-2c51-4f8b-beda-52842a08c8df",
   "metadata": {
    "editable": true,
    "slideshow": {
     "slide_type": ""
    },
    "tags": []
   },
   "source": [
    "# HF in VeloxChem"
   ]
  },
  {
   "cell_type": "code",
   "execution_count": 1,
   "id": "1b83ad5b-ded9-4b03-8766-461b3884d332",
   "metadata": {
    "editable": true,
    "scrolled": true,
    "slideshow": {
     "slide_type": ""
    },
    "tags": [
     "remove-output"
    ]
   },
   "outputs": [
    {
     "name": "stdout",
     "output_type": "stream",
     "text": [
      "* Warning * Environment variable OMP_NUM_THREADS not set.\n",
      "* Warning * Setting OMP_NUM_THREADS to 10.\n"
     ]
    }
   ],
   "source": [
    "import veloxchem as vlx"
   ]
  },
  {
   "cell_type": "markdown",
   "id": "19ff8735-568c-4ff6-b74a-a250d119eaef",
   "metadata": {
    "editable": true,
    "slideshow": {
     "slide_type": ""
    },
    "tags": []
   },
   "source": [
    "## Define the molecule\n",
    "\n",
    "We first define the structure of a water molecule and choose a basis set."
   ]
  },
  {
   "cell_type": "code",
   "execution_count": 2,
   "id": "f30b9f1c-b6b5-4ef5-823e-bb0e61455ffd",
   "metadata": {
    "editable": true,
    "scrolled": true,
    "slideshow": {
     "slide_type": ""
    },
    "tags": []
   },
   "outputs": [],
   "source": [
    "mol_xyz = \"\"\"3 \n",
    "\n",
    "O       0.0000000000     0.1178336003     0.0000000000\n",
    "H      -0.7595754146    -0.4713344012    -0.0000000000\n",
    "H       0.7595754146    -0.4713344012     0.0000000000\n",
    "\"\"\"\n",
    "\n",
    "molecule = vlx.Molecule.read_xyz_string(mol_xyz)\n",
    "basis = vlx.MolecularBasis.read(molecule, \"cc-pVDZ\", ostream=None)"
   ]
  },
  {
   "cell_type": "code",
   "execution_count": 3,
   "id": "c7767fdf-05b9-46ad-af4c-7ed37e27f779",
   "metadata": {
    "editable": true,
    "slideshow": {
     "slide_type": ""
    },
    "tags": []
   },
   "outputs": [
    {
     "data": {
      "application/3dmoljs_load.v0": "<div id=\"3dmolviewer_1705771553596571\"  style=\"position: relative; width: 400px; height: 300px;\">\n        <p id=\"3dmolwarning_1705771553596571\" style=\"background-color:#ffcccc;color:black\">You appear to be running in JupyterLab (or JavaScript failed to load for some other reason).  You need to install the 3dmol extension: <br>\n        <tt>jupyter labextension install jupyterlab_3dmol</tt></p>\n        </div>\n<script>\n\nvar loadScriptAsync = function(uri){\n  return new Promise((resolve, reject) => {\n    //this is to ignore the existence of requirejs amd\n    var savedexports, savedmodule;\n    if (typeof exports !== 'undefined') savedexports = exports;\n    else exports = {}\n    if (typeof module !== 'undefined') savedmodule = module;\n    else module = {}\n\n    var tag = document.createElement('script');\n    tag.src = uri;\n    tag.async = true;\n    tag.onload = () => {\n        exports = savedexports;\n        module = savedmodule;\n        resolve();\n    };\n  var firstScriptTag = document.getElementsByTagName('script')[0];\n  firstScriptTag.parentNode.insertBefore(tag, firstScriptTag);\n});\n};\n\nif(typeof $3Dmolpromise === 'undefined') {\n$3Dmolpromise = null;\n  $3Dmolpromise = loadScriptAsync('https://cdnjs.cloudflare.com/ajax/libs/3Dmol/2.0.4/3Dmol-min.js');\n}\n\nvar viewer_1705771553596571 = null;\nvar warn = document.getElementById(\"3dmolwarning_1705771553596571\");\nif(warn) {\n    warn.parentNode.removeChild(warn);\n}\n$3Dmolpromise.then(function() {\nviewer_1705771553596571 = $3Dmol.createViewer(document.getElementById(\"3dmolviewer_1705771553596571\"),{backgroundColor:\"white\"});\nviewer_1705771553596571.zoomTo();\n\tviewer_1705771553596571.addModel(\"3\\n\\nO              0.000000000000         0.117833600300         0.000000000000\\nH             -0.759575414600        -0.471334401200        -0.000000000000\\nH              0.759575414600        -0.471334401200         0.000000000000\\n\");\n\tviewer_1705771553596571.setViewStyle({\"style\": \"outline\", \"width\": 0.05});\n\tviewer_1705771553596571.setStyle({\"stick\": {}, \"sphere\": {\"scale\": 0.25}});\n\tviewer_1705771553596571.zoomTo();\nviewer_1705771553596571.render();\n});\n</script>",
      "text/html": [
       "<div id=\"3dmolviewer_1705771553596571\"  style=\"position: relative; width: 400px; height: 300px;\">\n",
       "        <p id=\"3dmolwarning_1705771553596571\" style=\"background-color:#ffcccc;color:black\">You appear to be running in JupyterLab (or JavaScript failed to load for some other reason).  You need to install the 3dmol extension: <br>\n",
       "        <tt>jupyter labextension install jupyterlab_3dmol</tt></p>\n",
       "        </div>\n",
       "<script>\n",
       "\n",
       "var loadScriptAsync = function(uri){\n",
       "  return new Promise((resolve, reject) => {\n",
       "    //this is to ignore the existence of requirejs amd\n",
       "    var savedexports, savedmodule;\n",
       "    if (typeof exports !== 'undefined') savedexports = exports;\n",
       "    else exports = {}\n",
       "    if (typeof module !== 'undefined') savedmodule = module;\n",
       "    else module = {}\n",
       "\n",
       "    var tag = document.createElement('script');\n",
       "    tag.src = uri;\n",
       "    tag.async = true;\n",
       "    tag.onload = () => {\n",
       "        exports = savedexports;\n",
       "        module = savedmodule;\n",
       "        resolve();\n",
       "    };\n",
       "  var firstScriptTag = document.getElementsByTagName('script')[0];\n",
       "  firstScriptTag.parentNode.insertBefore(tag, firstScriptTag);\n",
       "});\n",
       "};\n",
       "\n",
       "if(typeof $3Dmolpromise === 'undefined') {\n",
       "$3Dmolpromise = null;\n",
       "  $3Dmolpromise = loadScriptAsync('https://cdnjs.cloudflare.com/ajax/libs/3Dmol/2.0.4/3Dmol-min.js');\n",
       "}\n",
       "\n",
       "var viewer_1705771553596571 = null;\n",
       "var warn = document.getElementById(\"3dmolwarning_1705771553596571\");\n",
       "if(warn) {\n",
       "    warn.parentNode.removeChild(warn);\n",
       "}\n",
       "$3Dmolpromise.then(function() {\n",
       "viewer_1705771553596571 = $3Dmol.createViewer(document.getElementById(\"3dmolviewer_1705771553596571\"),{backgroundColor:\"white\"});\n",
       "viewer_1705771553596571.zoomTo();\n",
       "\tviewer_1705771553596571.addModel(\"3\\n\\nO              0.000000000000         0.117833600300         0.000000000000\\nH             -0.759575414600        -0.471334401200        -0.000000000000\\nH              0.759575414600        -0.471334401200         0.000000000000\\n\");\n",
       "\tviewer_1705771553596571.setViewStyle({\"style\": \"outline\", \"width\": 0.05});\n",
       "\tviewer_1705771553596571.setStyle({\"stick\": {}, \"sphere\": {\"scale\": 0.25}});\n",
       "\tviewer_1705771553596571.zoomTo();\n",
       "viewer_1705771553596571.render();\n",
       "});\n",
       "</script>"
      ]
     },
     "metadata": {},
     "output_type": "display_data"
    }
   ],
   "source": [
    "molecule.show()"
   ]
  },
  {
   "cell_type": "code",
   "execution_count": 4,
   "id": "fded87e3-2b0c-43cd-ab97-23ac87354b77",
   "metadata": {
    "editable": true,
    "slideshow": {
     "slide_type": ""
    },
    "tags": []
   },
   "outputs": [
    {
     "name": "stdout",
     "output_type": "stream",
     "text": [
      "Number of atoms: 3\n",
      "Number of electrons: 10\n",
      "Number of contracted basis functions: 24\n"
     ]
    }
   ],
   "source": [
    "print(\"Number of atoms:\", molecule.number_of_atoms())\n",
    "print(\"Number of electrons:\", molecule.number_of_electrons())\n",
    "print(\"Number of contracted basis functions:\", basis.get_dimensions_of_basis(molecule))"
   ]
  },
  {
   "cell_type": "markdown",
   "id": "4f3156f7-f286-4b7c-82b2-4b3826b6f4c6",
   "metadata": {
    "editable": true,
    "slideshow": {
     "slide_type": ""
    },
    "tags": []
   },
   "source": [
    "## SCF optimization\n",
    "\n",
    "Perform a self-consistent field (SCF) optimization to obtain the Hartree–Fock wave function and the associated ground-state energy."
   ]
  },
  {
   "cell_type": "code",
   "execution_count": 5,
   "id": "7ffdf71c-b0f4-4003-84d4-50451f5b089d",
   "metadata": {
    "editable": true,
    "scrolled": true,
    "slideshow": {
     "slide_type": ""
    },
    "tags": []
   },
   "outputs": [],
   "source": [
    "scf_drv = vlx.ScfRestrictedDriver()\n",
    "scf_drv.ostream.mute()\n",
    "scf_results = scf_drv.compute(molecule, basis)"
   ]
  },
  {
   "cell_type": "markdown",
   "id": "f497aae3-36ee-4961-a6d2-b76362d3d1c9",
   "metadata": {
    "editable": true,
    "slideshow": {
     "slide_type": ""
    },
    "tags": []
   },
   "source": [
    "## SCF information\n",
    "\n",
    "The SCF driver object has a method named `get_scf_energy()` for retrieving the final energy."
   ]
  },
  {
   "cell_type": "code",
   "execution_count": 6,
   "id": "99f3f957-b815-49be-af0b-bb889289239c",
   "metadata": {
    "editable": true,
    "slideshow": {
     "slide_type": ""
    },
    "tags": []
   },
   "outputs": [
    {
     "name": "stdout",
     "output_type": "stream",
     "text": [
      "Hartree–Fock energy: -76.0265782198 a.u.\n"
     ]
    }
   ],
   "source": [
    "print(f\"Hartree–Fock energy: {scf_drv.get_scf_energy():14.10f} a.u.\")"
   ]
  },
  {
   "cell_type": "markdown",
   "id": "e802a0a3-bbb7-4f14-a781-92598079834f",
   "metadata": {
    "editable": true,
    "slideshow": {
     "slide_type": ""
    },
    "tags": []
   },
   "source": [
    "The return object from the `compute()` method is a Python dictionary containing several tensors:\n",
    "\n",
    "- `C`: molecular orbital coefficients as a NumPy array\n",
    "- `E`: orbital energies as a NumPy array\n",
    "- `D`: $\\alpha$- and $\\beta$-spin density matrices as a tuple of NumPy arrays\n",
    "- `F`: $\\alpha$- and $\\beta$-spin Fock matrices as a tuple of NumPy arrays\n",
    "- `S`: overlap integrals as a NumPy array"
   ]
  },
  {
   "cell_type": "code",
   "execution_count": 9,
   "id": "eeb5d272-eb1c-4189-a0e7-722f2fc1a506",
   "metadata": {
    "editable": true,
    "slideshow": {
     "slide_type": ""
    },
    "tags": []
   },
   "outputs": [
    {
     "name": "stdout",
     "output_type": "stream",
     "text": [
      "Dictionary keys:\n",
      " dict_keys(['eri_thresh', 'qq_type', 'scf_type', 'scf_energy', 'restart', 'S', 'C_alpha', 'C_beta', 'E_alpha', 'E_beta', 'D_alpha', 'D_beta', 'F_alpha', 'F_beta', 'C', 'E', 'D', 'F'])\n",
      "\n",
      "Orbital energies:\n",
      " [-20.55119961  -1.33473347  -0.69692651  -0.56605275  -0.49289827\n",
      "   0.18486487   0.25566978   0.78604709   0.85103488   1.16387193\n",
      "   1.20030818   1.25366153   1.44422793   1.4755769    1.67329727\n",
      "   1.8679223    1.93111284   2.4430781    2.48048696   3.28268216\n",
      "   3.334531     3.50569214   3.86065795   4.14355137]\n"
     ]
    }
   ],
   "source": [
    "print(\"Dictionary keys:\\n\", scf_results.keys())\n",
    "print(\"\\nOrbital energies:\\n\", scf_results[\"E_alpha\"])"
   ]
  },
  {
   "cell_type": "markdown",
   "id": "01b5627d-a563-4776-b456-2570c57d2ca6",
   "metadata": {
    "editable": true,
    "slideshow": {
     "slide_type": ""
    },
    "tags": []
   },
   "source": [
    "## Visualizing molecular orbitals\n",
    "\n",
    "The resulting molecular orbitals (MOs) can be visualized using the `OrbitalViewer` class."
   ]
  },
  {
   "cell_type": "code",
   "execution_count": 8,
   "id": "f5d6f365-b9d7-4a07-b21b-571454b0cd44",
   "metadata": {
    "editable": true,
    "slideshow": {
     "slide_type": ""
    },
    "tags": []
   },
   "outputs": [
    {
     "data": {
      "application/vnd.jupyter.widget-view+json": {
       "model_id": "f3bd864e89bf488b987cd5753428fe8d",
       "version_major": 2,
       "version_minor": 0
      },
      "text/plain": [
       "Output()"
      ]
     },
     "metadata": {},
     "output_type": "display_data"
    },
    {
     "data": {
      "application/vnd.jupyter.widget-view+json": {
       "model_id": "33870cc5ee904ff0a10a25c9bffa0128",
       "version_major": 2,
       "version_minor": 0
      },
      "text/plain": [
       "Dropdown(description='Orbital:', index=4, options=(('  1 occ=2.000 ene=-20.551', 0), ('  2 occ=2.000 ene=-1.33…"
      ]
     },
     "metadata": {},
     "output_type": "display_data"
    }
   ],
   "source": [
    "viewer = vlx.OrbitalViewer()\n",
    "viewer.plot(molecule, basis, scf_drv.mol_orbs)"
   ]
  },
  {
   "cell_type": "markdown",
   "id": "367e5027-acb5-4c74-b094-a613697f8230",
   "metadata": {
    "editable": true,
    "slideshow": {
     "slide_type": ""
    },
    "tags": []
   },
   "source": [
    "In the eChem book, this is a static HTML page but if you download the notebook and open it in Jupyter lab you will be able to select and view any of the other molecular orbitals from the pull-down menu."
   ]
  }
 ],
 "metadata": {
  "kernelspec": {
   "display_name": "Python 3 (ipykernel)",
   "language": "python",
   "name": "python3"
  },
  "language_info": {
   "codemirror_mode": {
    "name": "ipython",
    "version": 3
   },
   "file_extension": ".py",
   "mimetype": "text/x-python",
   "name": "python",
   "nbconvert_exporter": "python",
   "pygments_lexer": "ipython3",
   "version": "3.11.7"
  }
 },
 "nbformat": 4,
 "nbformat_minor": 5
}
