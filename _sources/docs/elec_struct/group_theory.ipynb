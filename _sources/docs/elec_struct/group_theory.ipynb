{
 "cells": [
  {
   "cell_type": "markdown",
   "id": "50a1a8fc-7450-4939-a559-db739251021a",
   "metadata": {},
   "source": [
    "# Group theory\n",
    "\n",
    "## Point group flowchart\n",
    "\n",
    "```{figure} ../../img/misc/flowchart.png\n",
    "```\n",
    "\n",
    "\n",
    "\n",
    "## Character tables\n",
    "\n",
    "### C$_{2h}$\n",
    "\n",
    "```{table} Character table for the $C_{2h}$ point group.\n",
    ":name: point-group-c2h\n",
    "\n",
    "| Irrep | $\\hat{E}$ | $\\hat{C}_2(z)$ | $\\hat{i}$ | $\\hat{\\sigma}_h$ | Operation |\n",
    "| --- | --- | --- | --- | --- | --- |\n",
    "| $A_g$ | 1 | 1 | 1 | 1 | $R_z$, $x^2$, $y^2$, $z^2$ |\n",
    "| $B_{g}$ | 1 | -1 | 1 | -1 | $R_x$, $R_y$ |\n",
    "| $A_{u}$ | 1 | 1 | -1 | -1 | $z$  |\n",
    "| $B_{u}$ | 1 | -1 | -1 | 1 | $x$, $y$ |\n",
    "```\n",
    "\n",
    "### D$_{2h}$\n",
    "\n",
    "```{table} Character table for the $D_{2h}$ point group.\n",
    ":name: point-group-d2h\n",
    "\n",
    "| Irrep  | $\\hat{E}$ | $\\hat{C}_2(z)$ | $\\hat{C}_2(y)$ | $\\hat{C}_2(x)$ | $\\hat{i}$ | $\\hat{\\sigma}(xy)$| $\\hat{\\sigma}(xz)$ | $\\hat{\\sigma}(yz)$ | Operation |\n",
    "| --- | --- | --- | --- | --- | --- | --- | --- | --- | --- |\n",
    "| $A_g$ | 1 | 1 | 1 | 1 | 1 | 1 | 1 | 1 |$x^2$, $y^2$, $z^2$ |\n",
    "| $B_{1g}$ | 1 | 1 | -1 | -1 | 1 | 1 | -1 | -1 | $R_z$, $xy$ |\n",
    "| $B_{2g}$ | 1 | -1 | 1 | -1 | 1 | -1 | 1 | -1 | $R_y$, $xz$ |\n",
    "| $B_{3g}$ | 1 | -1 | -1 | 1 | 1 | -1 | -1 | 1 | $R_x$, $yz$ |\n",
    "| $A_{u}$ | 1 | 1 | 1 | 1 | -1 | -1 | -1 | -1 |  |\n",
    "| $B_{1u}$ | 1 | 1 | -1 | -1 | -1 | -1 | 1 | 1 | $z$ |\n",
    "| $B_{2u}$ | 1 | -1 | 1 | -1 | -1 | 1 | -1 | 1 | $y$ |\n",
    "| $B_{3u}$ | 1 | -1 | -1 | 1 | -1 | 1 | 1 | -1 | $x$ |\n",
    "```"
   ]
  }
 ],
 "metadata": {
  "kernelspec": {
   "display_name": "Python 3 (ipykernel)",
   "language": "python",
   "name": "python3"
  },
  "language_info": {
   "codemirror_mode": {
    "name": "ipython",
    "version": 3
   },
   "file_extension": ".py",
   "mimetype": "text/x-python",
   "name": "python",
   "nbconvert_exporter": "python",
   "pygments_lexer": "ipython3",
   "version": "3.10.9"
  }
 },
 "nbformat": 4,
 "nbformat_minor": 5
}
