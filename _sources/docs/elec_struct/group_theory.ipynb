{
 "cells": [
  {
   "cell_type": "markdown",
   "id": "c33b1dbe-e3e6-4d2b-a969-b57c21f18e95",
   "metadata": {
    "editable": true,
    "slideshow": {
     "slide_type": ""
    },
    "tags": []
   },
   "source": [
    "# Symmetry\n",
    "\n",
    "In everyday life, symmetry operations are given by rotations, reflections, and inversions of a physical object that leaves the object unchanged, *i.e.*, the properties of the object are invariant under these transformations.\n",
    "\n",
    "In quantum mechanics, symmetry operations are applied to wave functions, operators, and equations, and we are concerned with the invariance of observables."
   ]
  },
  {
   "cell_type": "markdown",
   "id": "65b01554-3dfd-4904-aee5-5114164b1c9c",
   "metadata": {
    "editable": true,
    "slideshow": {
     "slide_type": ""
    },
    "tags": []
   },
   "source": [
    "## Active or passive point of view\n",
    "\n",
    "When discussing the effect of symmetry operations, it becomes important to distinguish the active and passive points of view. In the former, symmetry operations move the system whereas, in the latter, the frame of reference is changed. An illustration of a step-by-step sequence of operations from these two points of view is presented in the figure below.\n",
    "\n",
    "![Passive and active transformations](../../img/misc/symmetry_transformations.svg)\n",
    "\n",
    "We will adopt the active view in which the transformation of a function takes the form\n",
    "\n",
    "$$\n",
    "\\hat{R} f(\\boldsymbol{r}) = f(\\hat{R}^{-1}\\boldsymbol{r})\n",
    "$$\n",
    "\n",
    "*i.e.*, we map function values of $f$ from one point in space $\\boldsymbol{r}' = \\hat{R}^{-1}\\boldsymbol{r}$ to another $\\hat{R}\\boldsymbol{r}' = \\boldsymbol{r}$."
   ]
  },
  {
   "cell_type": "markdown",
   "id": "84af46ec-a0e2-43d5-8c69-edefdb2d847d",
   "metadata": {
    "editable": true,
    "slideshow": {
     "slide_type": ""
    },
    "tags": []
   },
   "source": [
    "## Invariance of observables\n",
    "\n",
    "Spectrum intensities are observables given by\n",
    "\n",
    "$$\n",
    "\\sigma_{f\\leftarrow i} \\propto\n",
    "\\left| \n",
    "\\langle \\Psi_f | \\hat{\\Omega} | \\Psi_i \\rangle \n",
    "\\right|^2 = \n",
    "\\left| \n",
    "\\langle \\Psi_f | \\Psi_{\\Omega,i} \\rangle \n",
    "\\right|^2\n",
    "$$\n",
    "\n",
    "For these to be invariant, we must have\n",
    "\n",
    "$$\n",
    "\\hat{R} \\langle \\Psi_f | \\Psi_{\\Omega,i} \\rangle = \n",
    "\\langle \\hat{R} \\Psi_f | \\hat{R} \\Psi_{\\Omega,i} \\rangle = \n",
    "\\langle \\Psi_f | \\hat{R}^\\dagger \\hat{R} | \\Psi_{\\Omega,i} \\rangle =\n",
    "\\left\\{\n",
    "\\begin{split}\n",
    " & \\langle \\Psi_f | \\Psi_{\\Omega,i} \\rangle \\quad (1)\\\\\n",
    "\\rule{0pt}{14pt} & \\langle \\Psi_f | \\Psi_{\\Omega,i} \\rangle^* \\quad (2) \n",
    "\\end{split}\n",
    "\\right.\n",
    "$$\n",
    "\n",
    "1. $\\hat{R}$ is unitary with $\\hat{R}^\\dagger \\hat{R} = \\hat{E}$, where $\\hat{E}$ is the identity operator\n",
    "2. $\\hat{R}$ is anti-unitary\n",
    "\n",
    "The spatial transformations of concern are unitary transformations, whereas an example of an anti-unitary operation is time-reversal.\n",
    "\n",
    "We can separate the action of the symmetry operator on the operator and the wave function according to\n",
    "\n",
    "$$\n",
    "\\hat{R} | \\Psi_{\\Omega,i} \\rangle =\n",
    "\\hat{R} \\hat{\\Omega} | \\Psi_i \\rangle =\n",
    "\\left( \\hat{R} \\hat{\\Omega} \\hat{R}^{-1} \\right) \\hat{R} | \\Psi_i \\rangle\n",
    "$$\n",
    "\n",
    "In most cases, we are concerned with spatial symmetry operations that leave the Hamiltonian invariant\n",
    "\n",
    "$$\n",
    "\\hat{R} \\hat{H} \\hat{R}^{-1} = \\hat{H} \n",
    "$$\n",
    "\n",
    "or\n",
    "\n",
    "$$\n",
    "\\left[ \\hat{R}, \\hat{H} \\right] = 0\n",
    "$$"
   ]
  },
  {
   "cell_type": "markdown",
   "id": "c1de36b5-f579-4935-9ec7-e755d4626730",
   "metadata": {},
   "source": [
    "## Time reversal symmetry\n",
    "\n",
    "In quantum mechanics, the time reversal operator is a notable exception to the rule that operators leave unchanged the scalar constants in front of a function on which it operates. Instead, it transforms this scalar constant into its complex conjugate. From the previous section, we know that time reversal takes the form of an anti-linear operator such that \n",
    "\n",
    "$$\n",
    "\\hat{R}\\left(c_1|\\Psi_1\\rangle + c_2|\\Psi_2\\rangle\\right) = c_1^*\\hat{R}|\\Psi_1\\rangle + c_2^*\\hat{R}|\\Psi_2\\rangle\n",
    "$$\n",
    "\n",
    "Conceptually, this operator sends the system backward in time, $t \\rightarrow -t$. For the motion of a classical particle whitin a time interval $-T < t < T$ where the particule is observed at time $t$ with position $\\boldsymbol{r}(t)$ and velocity $\\boldsymbol{v}(t)$, applying the time reversal operator yields the following relations for the time-reversed position and velocity\n",
    "\n",
    "\\begin{align*}\n",
    "\\boldsymbol{r}_T(t) & = \\boldsymbol{r}(-t) \\\\\n",
    "\\boldsymbol{v}_T(t) & = -\\boldsymbol{v}(-t)\n",
    "\\end{align*}\n",
    "\n",
    "Moreover, according to the Lorentz force, which represents the total derivative of mechanical momentum (itself proportional to \n",
    "$\\boldsymbol{v}_T$ and thus changing sign under time reversal),\n",
    "\n",
    "$$\n",
    "\\boldsymbol{F}_T(t) = {d\\boldsymbol{\\pi}_T(t) \\over dt} = q[\\boldsymbol{E}_T(t) + \\boldsymbol{v}_T(t)\\times \\boldsymbol{B}_T(t)]\n",
    "$$\n",
    "\n",
    "electric and magnetic fields within the system must satisfy\n",
    "\n",
    "\\begin{align*}\n",
    "\\boldsymbol{E}_T(t) & = \\boldsymbol{E}(-t) \\\\\n",
    "\\boldsymbol{B}_T(t) & = -\\boldsymbol{B}(-t)\n",
    "\\end{align*}\n",
    "\n",
    "The total and angular momenta should change sign as well. However, if these fields are introduced as external perturbations, they both remain unaffected by time symmetry.  \n",
    "\n",
    "Considering the quantum-mechanichal case of an electronic system, the $\\Psi(t)$ is connected to the wavefunction of the time-reversed system by the $\\hat{\\tau}$ and $\\hat{\\kappa}$ operators\n",
    "\n",
    "$$\n",
    "\\Psi_T(t) = \\hat{\\tau}\\Psi(t) = \\hat{\\kappa}\\Psi(-t)\n",
    "$$\n",
    "\n",
    "Time inversion induces reversal of both orbital and spin momenta. One would expect from Wigner's argument that a perfect looping in time would bring the system back to its inital state, but applying time reversal twice gives rise to an additional phase factor, *viz.* $+1$ for systems with an even number of electrons and $-1$ for systems with odd number of electrons.\n"
   ]
  },
  {
   "cell_type": "markdown",
   "id": "a6e70c94-d699-48ae-ad82-fdac0def50bf",
   "metadata": {},
   "source": [
    "## Spatial symmetry\n",
    "\n",
    "By limiting ourselves to spatial symmetry, symmetry operations are restricted to geometric actions that leave the nuclear framework invariant. There are five different kinds of spatial symmetry operations:\n",
    "\n",
    "1. The identity operation, $\\hat{E}$, does nothing.\n",
    "2. The rotation operation, $\\hat{C}_n$, rotates the system of an angle $2\\pi/n$ about an axis. If the molecules possesses several rotation axes, the one with the largest $n$ is referred to as the principal axis.\n",
    "3. The reflection operation, $\\hat{\\sigma}$, reflects the system in a plane. If a plane is perpendicular to the principal axis, the operation is denoted $\\hat{\\sigma}_h$. If, on the other hand, it contains the principal axis, it is denoted $\\hat{\\sigma}_v$. Finally, if the plane bisects the angle between two $C_2$-axes, it is denoted $\\hat{\\sigma}_d$.\n",
    "4. The inversion operation, $\\hat{i}$, inverts space through the origin. \n",
    "5. The improper rotation (or rotoreflection) operation, $\\hat{S}_n = \\hat{\\sigma}_h \\hat{C}_n$, performs a combination of a rotation and a reflection in a plane perpendicular to the rotation axis. \n",
    "  \n",
    "It is noted that some symmetry operations are equivalent, *e.g.*, $\\hat{S}_2 = \\hat{i}$.\n",
    "\n",
    "Spatial symmetry operations are linear transformations of a coordinate function space\n",
    "\n",
    "$$\n",
    "\\hat{R}\\left(c_1|\\Psi_1\\rangle + c_2|\\Psi_2\\rangle\\right) = c_1\\hat{R}|\\Psi_1\\rangle + c_2\\hat{R}|\\Psi_2\\rangle\n",
    "$$\n",
    "\n",
    "Applying spatial symmetry operators results in simple matrix multiplications where the components of the function space, here generalized to $n$ dimensions, are arranged in a row vector\n",
    "\n",
    "$$\n",
    "\\hat{R}\\left(|\\Psi_1\\rangle|\\Psi_2\\rangle\\cdots|\\Psi_n\\rangle\\right) = \n",
    "\\left(|\\Psi_1\\rangle|\\Psi_2\\rangle\\cdots|\\Psi_n\\rangle\\right)\\boldsymbol{D}(R)\n",
    "$$\n",
    "\n",
    "where $\\boldsymbol{D}(R)$ is called the representative of the operation. It is said that there is a homomorphism between the set operators and the ensemble of their representatives. When choosing an orthonormal space, operations preserve orthonormality and all transformations are carried out by unitary matrices. \n",
    "\n",
    "\n",
    "The set of symmetry operations that commute with the Hamiltonian form a group, $\\boldsymbol{G}$. A group is a fundamental structure consisting of elements joined by a multiplication rule and with the following properties:\n",
    "\n",
    "1. The set of operations contains $\\hat{E}$, which leaves all elements unchanged\n",
    "   $$\n",
    "   \\hat{E}\\hat{R} = \\hat{R}\\hat{E} = \\hat{R}\n",
    "   $$\n",
    "2. Closure\n",
    "   $$\n",
    "   \\forall \\hat{R},  \\hat{Q} \\in \\boldsymbol{G} \\Rightarrow \\hat{R}\\hat{Q} \\in \\boldsymbol{G}\\ \\&\\ \\hat{R}\\hat{Q} \\in \\boldsymbol{G}\n",
    "   $$\n",
    "3. Associativity\n",
    "   $$\n",
    "   \\hat{R}(\\hat{Q}\\hat{P}) = (\\hat{R}\\hat{Q})\\hat{P}\n",
    "   $$\n",
    "4. The inverse for all operations belongs to the group\n",
    "   $$\n",
    "   \\hat{R}\\hat{R}^{-1} = \\hat{R}^{-1}\\hat{R} = \\hat{E}\n",
    "   $$\n",
    "\n",
    "A group $\\boldsymbol{G}$ of $g$ elements is said to be of order $g$.\n",
    "\n",
    "A group is completely determined only by the products $\\hat{R}\\hat{Q}$, combined in the multiplication table. It is however not necessary to store the whole mutliplication table to know everything about the group. A more compact way uses the generators, a minimal set of elements capable of generating the whole group. Furthermore, symmetry operations of the same type, $\\hat{R}$ and $\\hat{R}'$, belong to the same class if there is an element of the group $\\hat{F}$ such that\n",
    "$$\n",
    "\\hat{R}' = \\hat{F}^{-1}\\hat{R}\\hat{F}\n",
    "$$\n",
    "\n",
    "A symmetry element (different from a group element) is a geometrical entity, *e.g.*, a point, line, or plane, about which an action takes place. For every operation there is an associated element. At least one point in space is left unchanged for all symmetry operations and we refer to such groups as point groups to distinguish them from crystal groups that also possess translational symmetry."
   ]
  },
  {
   "cell_type": "markdown",
   "id": "86611b83-63e2-48f2-ac1e-5fffedcad753",
   "metadata": {},
   "source": [
    "## Abelian groups, subgroups, and cyclic groups\n",
    "\n",
    "Abelian groups are groups with a commutative multiplication rule\n",
    "\n",
    "\\begin{equation*}\n",
    "\\forall \\hat{R}, \\hat{Q} \\in \\boldsymbol{G} \\Rightarrow \\hat{R}\\hat{Q} = \\hat{Q}\\hat{R}\n",
    "\\end{equation*}\n",
    "\n",
    "The multiplication table of an Abelian group is therefore symmetric about the diagonal. Moreover, the unitary transformations used to determine the classes of the group always return the element on which they are acting, making each element its own class.\n",
    "\n",
    "A subgroup $\\boldsymbol{H}$ of $\\boldsymbol{G}$, denoted $\\boldsymbol{H} \\subset \\boldsymbol{G}$, is a subset of elements of $\\boldsymbol{G}$ that satisfies all the group properties. Trivial subgroups contain the identity alone, *i.e.* $C_1 = \\{\\hat{E}\\}$ and the group $\\boldsymbol{G}$ itself.\n",
    "\n",
    "Consider the example of an ammonia molecule, associated with the following group: $\\{\\hat{E}, \\hat{C}_3, \\hat{C}_3^2, \\hat{\\sigma}_v, \\hat{\\sigma}_v', \\hat{\\sigma}_v''\\}$. In this case, there are four nontrivial subgroups, namely, $\\{\\hat{E}, \\hat{C}_3, \\hat{C}_3^2\\}$ and three equivalent $\\{\\hat{E}, \\hat{\\sigma}_v\\}$ with the different reflexion planes. The order of a subgroup is a divisor of the order of the group. Therefore, groups with an order that is a prime number have no nontrivial subgroups.\n",
    "\n",
    "Forming a subgroup can involve taking the successive powers of an element. Owing to the finite size of a group, elements may become redundant, leading to $\\hat{A}^n = \\hat{E}$ for a generator $A$. Cyclic groups, usually denoted $C_n$, are groups with only one generator. All cyclic groups are Abelian, since the products of elements give rise to a sum of powers which is commutative\n",
    "\n",
    "$$\n",
    "\\hat{C}^i\\hat{C}^j = \\hat{C}^{i+j} = \\hat{C}^{j+i} = \\hat{C}^j\\hat{C}^i\n",
    "$$"
   ]
  },
  {
   "cell_type": "markdown",
   "id": "e2c26cf9-4704-4d2d-befe-56b5d43916ae",
   "metadata": {
    "editable": true,
    "slideshow": {
     "slide_type": ""
    },
    "tags": []
   },
   "source": [
    "## Point groups\n",
    "\n",
    "Identifying the point group for a molecule can be achieved with use of the following flowchart.\n",
    "\n",
    "![Flowchart](../../img/misc/pointgroup_analyzer_flowchart.svg)\n",
    "\n",
    "All molecules with the same set of elements belong to the same group. The name of the group is therefore determined by its set of elements. The Schoenflies notation system was adopted as it is more common for discussing individual molecules, while the Hermann–Mauguin system (or International system) is generally empolyed for discussing crystal groups. \n",
    "\n",
    "Knowledge of the point group of a molecule can immediately give information regarding its properties: \n",
    "\n",
    "- As a permanent dipole moment is the result of an asymmetric charge distribution, it is not possible to have a dipole moment along any other axis than a $C_n$-axis that, moreover, has no reflection perpendicular to it. As a result, only molecules belonging to the point groups $C_n$, $C_{nv}$, and $C_s$ can have a permanent dipole moment.\n",
    "\n",
    "- A molecule that cannot be superimposed on its mirror image is said to be chiral. This is exemplified by the inability of the left hand to be superimposed on the right hand, and it has the physical effect of rotating the plane of polarized light in opposite directions for the two different enantiomers. For a molecule to be chiral, it cannot contain a $S_n$-axis, an axis often implied by the presence of other symmetry elements (*e.g.* $\\hat{\\sigma}$ is equivalent to $\\hat{S}_1$).\n",
    "\n",
    "While the above decision tree provides a straightfoward approach on paper, complexities arise when dealing with imperfectly symmetric conformations. The `SymmetryAnalyzer` class in `VeloxChem` provides a tolerance-based function to assess the point groups of nearly symmetric molecules starting from their cartesian coordinates. First, for a molecule with $M$ atoms of masses $m_k$ at positions $\\boldsymbol{R}_k$, the inertia tensor is contructed as follows:\n",
    "$$\n",
    "\\boldsymbol{I}_{\\text{molecule}} = \\sum \\boldsymbol{I}_{\\text{atom}} = \\sum_k^M m_k[(\\boldsymbol{R}_k \\cdot \\boldsymbol{R}_k)\\boldsymbol{E}_{3}-\\boldsymbol{R}_k \\otimes \\boldsymbol{R}_k]\n",
    "$$\n",
    "where $\\boldsymbol{E}_{3}$ is the 3x3 identity matrix. The principal moments and axes of inertia are then computed by diagonalization. The degeneracy of these moments allows to classify the symmetry groups:\n",
    "- linear molecules have one vanishing eigenvalue\n",
    "- asymmetric top molecules have non-degenerated eigenvalues\n",
    "- symmetric top molecules have doubly degenerated eigenvalues\n",
    "- cubic (or spherical top) molecules have triply degenerated eigenvalues\n",
    "\n",
    "The aforementionned principal axes of a molecule correspond to the principal axes of inertia. In other words, a symmetry axis or plane must contain at least one eigenvector of the inertia tensor, since an operation must leave the molecule unchanged, and so its inertia tensor. This can then be used to follow the detection tree in an efficient way.\n",
    "\n",
    "As a first example, we consider an ammonia molecule for analyzing the symmetry. "
   ]
  },
  {
   "cell_type": "code",
   "execution_count": 1,
   "id": "c62d41c9",
   "metadata": {},
   "outputs": [
    {
     "data": {
      "application/3dmoljs_load.v0": "<div id=\"3dmolviewer_1716557813472529\"  style=\"position: relative; width: 400px; height: 300px;\">\n        <p id=\"3dmolwarning_1716557813472529\" style=\"background-color:#ffcccc;color:black\">3Dmol.js failed to load for some reason.  Please check your browser console for error messages.<br></p>\n        </div>\n<script>\n\nvar loadScriptAsync = function(uri){\n  return new Promise((resolve, reject) => {\n    //this is to ignore the existence of requirejs amd\n    var savedexports, savedmodule;\n    if (typeof exports !== 'undefined') savedexports = exports;\n    else exports = {}\n    if (typeof module !== 'undefined') savedmodule = module;\n    else module = {}\n\n    var tag = document.createElement('script');\n    tag.src = uri;\n    tag.async = true;\n    tag.onload = () => {\n        exports = savedexports;\n        module = savedmodule;\n        resolve();\n    };\n  var firstScriptTag = document.getElementsByTagName('script')[0];\n  firstScriptTag.parentNode.insertBefore(tag, firstScriptTag);\n});\n};\n\nif(typeof $3Dmolpromise === 'undefined') {\n$3Dmolpromise = null;\n  $3Dmolpromise = loadScriptAsync('https://cdnjs.cloudflare.com/ajax/libs/3Dmol/2.1.0/3Dmol-min.js');\n}\n\nvar viewer_1716557813472529 = null;\nvar warn = document.getElementById(\"3dmolwarning_1716557813472529\");\nif(warn) {\n    warn.parentNode.removeChild(warn);\n}\n$3Dmolpromise.then(function() {\nviewer_1716557813472529 = $3Dmol.createViewer(document.getElementById(\"3dmolviewer_1716557813472529\"),{backgroundColor:\"white\"});\nviewer_1716557813472529.zoomTo();\n\tviewer_1716557813472529.addModel(\"4\\n\\nN              1.071120000000         0.049840000000         0.073890000000\\nH              2.088450000000         0.005460000000         0.035990000000\\nH              0.759530000000        -0.880340000000         0.349650000000\\nH              0.759520000000         0.176720000000        -0.887970000000\\n\");\n\tviewer_1716557813472529.setViewStyle({\"style\": \"outline\", \"width\": 0.05});\n\tviewer_1716557813472529.setStyle({\"stick\": {}, \"sphere\": {\"scale\": 0.25}});\n\tviewer_1716557813472529.zoomTo();\nviewer_1716557813472529.render();\n});\n</script>",
      "text/html": [
       "<div id=\"3dmolviewer_1716557813472529\"  style=\"position: relative; width: 400px; height: 300px;\">\n",
       "        <p id=\"3dmolwarning_1716557813472529\" style=\"background-color:#ffcccc;color:black\">3Dmol.js failed to load for some reason.  Please check your browser console for error messages.<br></p>\n",
       "        </div>\n",
       "<script>\n",
       "\n",
       "var loadScriptAsync = function(uri){\n",
       "  return new Promise((resolve, reject) => {\n",
       "    //this is to ignore the existence of requirejs amd\n",
       "    var savedexports, savedmodule;\n",
       "    if (typeof exports !== 'undefined') savedexports = exports;\n",
       "    else exports = {}\n",
       "    if (typeof module !== 'undefined') savedmodule = module;\n",
       "    else module = {}\n",
       "\n",
       "    var tag = document.createElement('script');\n",
       "    tag.src = uri;\n",
       "    tag.async = true;\n",
       "    tag.onload = () => {\n",
       "        exports = savedexports;\n",
       "        module = savedmodule;\n",
       "        resolve();\n",
       "    };\n",
       "  var firstScriptTag = document.getElementsByTagName('script')[0];\n",
       "  firstScriptTag.parentNode.insertBefore(tag, firstScriptTag);\n",
       "});\n",
       "};\n",
       "\n",
       "if(typeof $3Dmolpromise === 'undefined') {\n",
       "$3Dmolpromise = null;\n",
       "  $3Dmolpromise = loadScriptAsync('https://cdnjs.cloudflare.com/ajax/libs/3Dmol/2.1.0/3Dmol-min.js');\n",
       "}\n",
       "\n",
       "var viewer_1716557813472529 = null;\n",
       "var warn = document.getElementById(\"3dmolwarning_1716557813472529\");\n",
       "if(warn) {\n",
       "    warn.parentNode.removeChild(warn);\n",
       "}\n",
       "$3Dmolpromise.then(function() {\n",
       "viewer_1716557813472529 = $3Dmol.createViewer(document.getElementById(\"3dmolviewer_1716557813472529\"),{backgroundColor:\"white\"});\n",
       "viewer_1716557813472529.zoomTo();\n",
       "\tviewer_1716557813472529.addModel(\"4\\n\\nN              1.071120000000         0.049840000000         0.073890000000\\nH              2.088450000000         0.005460000000         0.035990000000\\nH              0.759530000000        -0.880340000000         0.349650000000\\nH              0.759520000000         0.176720000000        -0.887970000000\\n\");\n",
       "\tviewer_1716557813472529.setViewStyle({\"style\": \"outline\", \"width\": 0.05});\n",
       "\tviewer_1716557813472529.setStyle({\"stick\": {}, \"sphere\": {\"scale\": 0.25}});\n",
       "\tviewer_1716557813472529.zoomTo();\n",
       "viewer_1716557813472529.render();\n",
       "});\n",
       "</script>"
      ]
     },
     "metadata": {},
     "output_type": "display_data"
    }
   ],
   "source": [
    "import veloxchem as vlx\n",
    "\n",
    "ammonia_str = \"N\"\n",
    "molecule = vlx.Molecule.read_smiles(ammonia_str)\n",
    "molecule.show()"
   ]
  },
  {
   "cell_type": "markdown",
   "id": "b5c8987d-44cd-41cb-9e6c-416f80943768",
   "metadata": {},
   "source": [
    "The point group is assessed by the `identify_pointgroup` method of the `SymmetryAnalyzer` class. The results are then printed using `print_symmetry_results`. In addition to the point group, this function returns all the symmetry elements associated with the operations that form the group and provides a list of Abelian subgroups, which will be discussed below."
   ]
  },
  {
   "cell_type": "code",
   "execution_count": 2,
   "id": "d5b4c434-da73-404e-8f1d-d34acb8eb476",
   "metadata": {},
   "outputs": [],
   "source": [
    "#pg = vlx.SymmetryAnalyzer()\n",
    "\n",
    "#pg_results = pg.identify_pointgroup(molecule, tolerance=\"very tight\")\n",
    "#pg.print_symmetry_results(pg_results)"
   ]
  },
  {
   "cell_type": "markdown",
   "id": "0ca08a00-da5b-4933-be4f-dd06de3d6f7a",
   "metadata": {},
   "source": [
    "The available tolerance thresholds can be provided with `print_tolerance_keywords`:"
   ]
  },
  {
   "cell_type": "code",
   "execution_count": 3,
   "id": "a2f40eb6-d767-4d37-8e44-3777789076cf",
   "metadata": {},
   "outputs": [],
   "source": [
    "#pg.print_tolerance_keywords()"
   ]
  },
  {
   "cell_type": "markdown",
   "id": "fd699ee9",
   "metadata": {},
   "source": [
    "## Symmetrizer algorithm\n",
    "\n",
    "The subsequent step in the `SymmetryAnalyzer` is the perfect symmetrization of the input structure and its reorientation according to the conventions of group theory. Additionally, one can choose to symmetrize to a lower order of symmetry by selecting a subgroup from the list of available groups returned by the symmetry analyzer. The symmetrization is achieved by the `symmetrize_pointgroup` object, which implements the procedure outlined in the following flowchart. This function is limited to molecules with less than 100 atoms in the current implementation. If one chooses $C_1$ as the new point group, the molecule is simply reoriented.\n",
    "\n",
    "![Symmetrizer algorithm flowchart](../../img/misc/symmetrizer_flowchart.svg)\n",
    "\n",
    "The molecules are reoriented using the following conventions:\n",
    "- The reference Cartesian frame is right-handed\n",
    "- The origin is placed at the center of mass\n",
    "- The principal axis is aligned with the $z$ Cartesian axis\n",
    "- If the $z$ axis lies along a $\\sigma$ plane, the $x$ axis is chosen to be perpendicular to the plane\n",
    "- If the $z$ axis is perpendicular to a $\\sigma$ plane, the $x$ and $y$ axes lie within the plane\n",
    "- If there is no rotational axis but a $\\sigma$ plane exists, the $z$ axis is set along the plane\n",
    "- If there is no rotational axis nor $\\sigma$ plane, the $x$ and $y$ axes are defined along the two principal axes of inertia associated with the two smallest principal moments\n",
    "\n",
    "Additional considerations are done for spherical top molecules. If one chooses to symmetrize a molecule of this type, it will be reoriented in its $D_{2(h)}$ orientation, *viz.* by using one $C_2$ axis perpendicular to the principal axis as the new main axis. \n",
    "\n",
    "As an illustration, let us consider a nearly symmetric water molecule rotated and translated from the origin of the reference frame."
   ]
  },
  {
   "cell_type": "code",
   "execution_count": 4,
   "id": "6c7aadf5",
   "metadata": {},
   "outputs": [],
   "source": [
    "water = \"\"\"3 \n",
    "\n",
    "O       12.0448432299       -3.9158679908        0.9692506110\n",
    "H       11.2081241979       -4.3238710922        1.0042469492\n",
    "H       12.4653859253       -4.3498515284        0.2216705986\n",
    "\"\"\"\n",
    "\n",
    "molecule = vlx.Molecule.read_xyz_string(water)\n",
    "\n",
    "#pg_results_verytight = pg.identify_pointgroup(molecule, tolerance=\"very tight\")\n",
    "#print(\"Tolerance: very tight\")\n",
    "#pg.print_symmetry_results(pg_results_verytight, symmetry_info=False)\n",
    "\n",
    "#pg_results_loose = pg.identify_pointgroup(molecule, tolerance=\"loose\")\n",
    "#print(\"\\nTolerance: loose\")\n",
    "#pg.print_symmetry_results(pg_results_loose, symmetry_info=False)"
   ]
  },
  {
   "cell_type": "code",
   "execution_count": 5,
   "id": "7e57c866",
   "metadata": {},
   "outputs": [],
   "source": [
    "#pg_symmetrize_results = pg.symmetrize_pointgroup(pg_results_loose, pointgoup_to_symmetrize=\"C2v\")\n",
    "\n",
    "#symmetrized_molecule = vlx.Molecule.read_xyz_string(pg_symmetrize_results)\n",
    "#symmetrized_coords = symmetrized_molecule.get_coordinates_in_angstrom()\n",
    "#print(\"Symmetrized coordinates:\")\n",
    "#print(symmetrized_coords, \"\\n\")\n",
    "\n",
    "#pg_symmetrized_results = pg.identify_pointgroup(symmetrized_molecule, tolerance=\"very tight\")\n",
    "#pg.print_symmetry_results(pg_symmetrized_results, symmetry_info=False)"
   ]
  },
  {
   "cell_type": "markdown",
   "id": "5fe7a1f6-25d8-4248-b907-f71b7a10406d",
   "metadata": {
    "editable": true,
    "slideshow": {
     "slide_type": ""
    },
    "tags": []
   },
   "source": [
    "## Character tables\n",
    "\n",
    "A matrix representation of a group is a set of matrices that represents all the operations of the group. These representations are typically in the form of block diagonal matrices. There is a limited set of representations, known as irreducible representations (or irreps), from which any other representation can be deduced. They are brought together in a character table.\n",
    "\n",
    "A character table lists all the symmetry operations of a point group as columns and the irreducible representations as rows. The number of irreps in a group is equal to the number of conjugacy classes. For Abelian groups, the number of irreps is equal to the number of group elements, and all irreps are one-dimensional. Characters are simply the traces of the representatives\n",
    "$$\n",
    "\\chi(R) = \\sum_i D_{ii}(R).\n",
    "$$\n",
    "Since traces of matrices are invariant under unitary transformations, characters literally characterize the representations. For a given representation, elements within the same conjugacy class have identical characters.\n",
    "\n",
    "The irreducible representation satisfy the Great Orthogonality Theorem (GOT). Let $\\Gamma$ and $\\Gamma'$ be two irreducible representations of a group $\\boldsymbol{G}$, and consider vectors formed by taking elements $ij$ and $kl$ from the respective representatives for every element of the group. These vectors are orthogonal to each other, and their squared norm is equal to the order of the group $g$, divided by the dimension of the irrep $\\ell$\n",
    "$$\n",
    "\\sum_{R\\in\\boldsymbol{G}}D^{*\\Gamma}_{ij}(R)D^{\\Gamma'}_{kl}(R) = {g\\over\\ell_\\Gamma}\\delta_{\\Gamma,\\Gamma'}\\delta_{ik}\\delta_{jl}\n",
    "$$\n",
    "The highest dimensionality of the irreps of the group corresponds to the maximum degree of degeneracy in the group, *e.g.*, the maximum degeneracy of the orbitals and quantum eigenstates of a molecule belonging to that group.\n",
    "\n",
    "Other relations can be deduced from the GOT. For $i=j$ and $k=l$, consider two irreps $\\Gamma$ and $\\Gamma'$ with their strings of characters arranged in vectors. The character theorem states that the squared norm of a character string equals the order of the group if and only if the characters are from an irrep. The scalar product of character strings from different irreps is zero\n",
    "$$\n",
    "\\langle\\chi^{\\Gamma}|\\chi^{\\Gamma'}\\rangle = \\sum_{R\\in \\boldsymbol{G}}\\bar{\\chi}^{\\Gamma}(R)\\chi^{\\Gamma'}(R) = g\\delta_{\\Gamma,\\Gamma'}\n",
    "$$\n",
    "\n",
    "In chemical applications, irreps are denoted by labels indicating their degeneracy. One-dimensional irreps are labeled $A$ and $B$, representing symmetric and antisymmetric states with respect to the principal element. Two- and three-dimensional representations are labeled $E$ and $T$, respectively. In some icosahedral groups, four- and five-dimensional irreps are labeled $G$ and $H$. Further subscripts, such as $g$ and $u$, distinguish between even (gerade) and odd (ungerade) symmetries with respect to spatial inversion. Primes and double primes indicate behavior concerning a $\\sigma_h$ plane. Numerical indices are used when multiple representations share the same label.\n",
    "\n",
    "The irreps spanned by orbitals on a central atom under symmetry operations are typically listed on the right-hand side of the character table. $A_1$ is always present and is referred to as the totally symmetric irreducible representation.\n",
    "\n",
    "\n",
    "Below are examples of character tables for various groups."
   ]
  },
  {
   "cell_type": "markdown",
   "id": "00cee392-766d-415c-9aeb-4e7ceca69045",
   "metadata": {
    "editable": true,
    "slideshow": {
     "slide_type": ""
    },
    "tags": []
   },
   "source": [
    "(character_table_c2v)=\n",
    "### C$_\\mathsf{2v}$\n",
    "\n",
    "| Irrep | $\\hat{E}$ | $\\hat{C}_2^z$ | $\\hat{\\sigma}_v^{xz}$ | $\\hat{\\sigma}_v^{yz}$ | Operation |\n",
    "| :--- | :---: | :---: | :---: | :---: | ---: |\n",
    "| $A_1$ | 1 | 1 | 1 | 1 | $z$ |\n",
    "| $A_{2}$ | 1 | 1 | -1 | -1 | $R_z$ |\n",
    "| $B_{1}$ | 1 | -1 | 1 | -1 | $R_y$, $x$  |\n",
    "| $B_{2}$ | 1 | -1 | -1 | 1 | $R_x$, $y$ |"
   ]
  },
  {
   "cell_type": "code",
   "execution_count": 6,
   "id": "7a5e629f-585e-4345-9692-677f49a1e83a",
   "metadata": {
    "editable": true,
    "slideshow": {
     "slide_type": ""
    },
    "tags": [
     "remove-input"
    ]
   },
   "outputs": [
    {
     "data": {
      "application/3dmoljs_load.v0": "<div id=\"3dmolviewer_17165579761224132\"  style=\"position: relative; width: 400px; height: 300px;\">\n        <p id=\"3dmolwarning_17165579761224132\" style=\"background-color:#ffcccc;color:black\">3Dmol.js failed to load for some reason.  Please check your browser console for error messages.<br></p>\n        </div>\n<script>\n\nvar loadScriptAsync = function(uri){\n  return new Promise((resolve, reject) => {\n    //this is to ignore the existence of requirejs amd\n    var savedexports, savedmodule;\n    if (typeof exports !== 'undefined') savedexports = exports;\n    else exports = {}\n    if (typeof module !== 'undefined') savedmodule = module;\n    else module = {}\n\n    var tag = document.createElement('script');\n    tag.src = uri;\n    tag.async = true;\n    tag.onload = () => {\n        exports = savedexports;\n        module = savedmodule;\n        resolve();\n    };\n  var firstScriptTag = document.getElementsByTagName('script')[0];\n  firstScriptTag.parentNode.insertBefore(tag, firstScriptTag);\n});\n};\n\nif(typeof $3Dmolpromise === 'undefined') {\n$3Dmolpromise = null;\n  $3Dmolpromise = loadScriptAsync('https://cdnjs.cloudflare.com/ajax/libs/3Dmol/2.1.0/3Dmol-min.js');\n}\n\nvar viewer_17165579761224132 = null;\nvar warn = document.getElementById(\"3dmolwarning_17165579761224132\");\nif(warn) {\n    warn.parentNode.removeChild(warn);\n}\n$3Dmolpromise.then(function() {\nviewer_17165579761224132 = $3Dmol.createViewer(document.getElementById(\"3dmolviewer_17165579761224132\"),{backgroundColor:\"white\"});\nviewer_17165579761224132.zoomTo();\n\tviewer_17165579761224132.addModel(\"3\\n\\nO              1.033440000000         0.072130000000        -0.055210000000\\nH              2.001330000000         0.035550000000        -0.083800000000\\nH              0.754590000000        -0.658980000000        -0.626760000000\\n\");\n\tviewer_17165579761224132.setViewStyle({\"style\": \"outline\", \"width\": 0.05});\n\tviewer_17165579761224132.setStyle({\"stick\": {}, \"sphere\": {\"scale\": 0.25}});\n\tviewer_17165579761224132.zoomTo();\nviewer_17165579761224132.render();\n});\n</script>",
      "text/html": [
       "<div id=\"3dmolviewer_17165579761224132\"  style=\"position: relative; width: 400px; height: 300px;\">\n",
       "        <p id=\"3dmolwarning_17165579761224132\" style=\"background-color:#ffcccc;color:black\">3Dmol.js failed to load for some reason.  Please check your browser console for error messages.<br></p>\n",
       "        </div>\n",
       "<script>\n",
       "\n",
       "var loadScriptAsync = function(uri){\n",
       "  return new Promise((resolve, reject) => {\n",
       "    //this is to ignore the existence of requirejs amd\n",
       "    var savedexports, savedmodule;\n",
       "    if (typeof exports !== 'undefined') savedexports = exports;\n",
       "    else exports = {}\n",
       "    if (typeof module !== 'undefined') savedmodule = module;\n",
       "    else module = {}\n",
       "\n",
       "    var tag = document.createElement('script');\n",
       "    tag.src = uri;\n",
       "    tag.async = true;\n",
       "    tag.onload = () => {\n",
       "        exports = savedexports;\n",
       "        module = savedmodule;\n",
       "        resolve();\n",
       "    };\n",
       "  var firstScriptTag = document.getElementsByTagName('script')[0];\n",
       "  firstScriptTag.parentNode.insertBefore(tag, firstScriptTag);\n",
       "});\n",
       "};\n",
       "\n",
       "if(typeof $3Dmolpromise === 'undefined') {\n",
       "$3Dmolpromise = null;\n",
       "  $3Dmolpromise = loadScriptAsync('https://cdnjs.cloudflare.com/ajax/libs/3Dmol/2.1.0/3Dmol-min.js');\n",
       "}\n",
       "\n",
       "var viewer_17165579761224132 = null;\n",
       "var warn = document.getElementById(\"3dmolwarning_17165579761224132\");\n",
       "if(warn) {\n",
       "    warn.parentNode.removeChild(warn);\n",
       "}\n",
       "$3Dmolpromise.then(function() {\n",
       "viewer_17165579761224132 = $3Dmol.createViewer(document.getElementById(\"3dmolviewer_17165579761224132\"),{backgroundColor:\"white\"});\n",
       "viewer_17165579761224132.zoomTo();\n",
       "\tviewer_17165579761224132.addModel(\"3\\n\\nO              1.033440000000         0.072130000000        -0.055210000000\\nH              2.001330000000         0.035550000000        -0.083800000000\\nH              0.754590000000        -0.658980000000        -0.626760000000\\n\");\n",
       "\tviewer_17165579761224132.setViewStyle({\"style\": \"outline\", \"width\": 0.05});\n",
       "\tviewer_17165579761224132.setStyle({\"stick\": {}, \"sphere\": {\"scale\": 0.25}});\n",
       "\tviewer_17165579761224132.zoomTo();\n",
       "viewer_17165579761224132.render();\n",
       "});\n",
       "</script>"
      ]
     },
     "metadata": {},
     "output_type": "display_data"
    }
   ],
   "source": [
    "smiles_str = \"O\"\n",
    "molecule = vlx.Molecule.read_smiles(smiles_str)\n",
    "molecule.show()"
   ]
  },
  {
   "cell_type": "markdown",
   "id": "4dddd2af-9675-4a96-8f65-86710c441bb1",
   "metadata": {
    "editable": true,
    "slideshow": {
     "slide_type": ""
    },
    "tags": []
   },
   "source": [
    "(character_table_c2h)=\n",
    "### C$_\\mathsf{2h}$\n",
    "\n",
    "| Irrep | $\\hat{E}$ | $\\hat{C}_2^z$ | $\\hat{i}$ | $\\hat{\\sigma}_h$ | Operation |\n",
    "| :--- | :---: | :---: | :---: | :---: | ---: |\n",
    "| $A_g$ | 1 | 1 | 1 | 1 | $R_z$ |\n",
    "| $B_{g}$ | 1 | -1 | 1 | -1 | $R_x$, $R_y$ |\n",
    "| $A_{u}$ | 1 | 1 | -1 | -1 | $z$  |\n",
    "| $B_{u}$ | 1 | -1 | -1 | 1 | $x$, $y$ |"
   ]
  },
  {
   "cell_type": "code",
   "execution_count": 7,
   "id": "170203ad-a050-4a1e-8565-f5453d4daad9",
   "metadata": {
    "editable": true,
    "slideshow": {
     "slide_type": ""
    },
    "tags": [
     "remove-input"
    ]
   },
   "outputs": [
    {
     "data": {
      "application/3dmoljs_load.v0": "<div id=\"3dmolviewer_1716557978503828\"  style=\"position: relative; width: 400px; height: 300px;\">\n        <p id=\"3dmolwarning_1716557978503828\" style=\"background-color:#ffcccc;color:black\">3Dmol.js failed to load for some reason.  Please check your browser console for error messages.<br></p>\n        </div>\n<script>\n\nvar loadScriptAsync = function(uri){\n  return new Promise((resolve, reject) => {\n    //this is to ignore the existence of requirejs amd\n    var savedexports, savedmodule;\n    if (typeof exports !== 'undefined') savedexports = exports;\n    else exports = {}\n    if (typeof module !== 'undefined') savedmodule = module;\n    else module = {}\n\n    var tag = document.createElement('script');\n    tag.src = uri;\n    tag.async = true;\n    tag.onload = () => {\n        exports = savedexports;\n        module = savedmodule;\n        resolve();\n    };\n  var firstScriptTag = document.getElementsByTagName('script')[0];\n  firstScriptTag.parentNode.insertBefore(tag, firstScriptTag);\n});\n};\n\nif(typeof $3Dmolpromise === 'undefined') {\n$3Dmolpromise = null;\n  $3Dmolpromise = loadScriptAsync('https://cdnjs.cloudflare.com/ajax/libs/3Dmol/2.1.0/3Dmol-min.js');\n}\n\nvar viewer_1716557978503828 = null;\nvar warn = document.getElementById(\"3dmolwarning_1716557978503828\");\nif(warn) {\n    warn.parentNode.removeChild(warn);\n}\n$3Dmolpromise.then(function() {\nviewer_1716557978503828 = $3Dmol.createViewer(document.getElementById(\"3dmolviewer_1716557978503828\"),{backgroundColor:\"white\"});\nviewer_1716557978503828.zoomTo();\n\tviewer_1716557978503828.addModel(\"10\\n\\nC              0.958390000000        -0.026850000000        -0.086100000000\\nC              2.295910000000        -0.048100000000        -0.094710000000\\nC              3.058580000000        -1.181900000000        -0.554530000000\\nC              4.396280000000        -1.203880000000        -0.563440000000\\nH              0.424230000000         0.848840000000         0.269040000000\\nH              0.364250000000        -0.868490000000        -0.427420000000\\nH              2.841680000000         0.824170000000         0.259040000000\\nH              2.512640000000        -2.054120000000        -0.908260000000\\nH              4.990770000000        -0.362460000000        -0.222200000000\\nH              4.929960000000        -2.079820000000        -0.918680000000\\n\");\n\tviewer_1716557978503828.setViewStyle({\"style\": \"outline\", \"width\": 0.05});\n\tviewer_1716557978503828.setStyle({\"stick\": {}, \"sphere\": {\"scale\": 0.25}});\n\tviewer_1716557978503828.zoomTo();\nviewer_1716557978503828.render();\n});\n</script>",
      "text/html": [
       "<div id=\"3dmolviewer_1716557978503828\"  style=\"position: relative; width: 400px; height: 300px;\">\n",
       "        <p id=\"3dmolwarning_1716557978503828\" style=\"background-color:#ffcccc;color:black\">3Dmol.js failed to load for some reason.  Please check your browser console for error messages.<br></p>\n",
       "        </div>\n",
       "<script>\n",
       "\n",
       "var loadScriptAsync = function(uri){\n",
       "  return new Promise((resolve, reject) => {\n",
       "    //this is to ignore the existence of requirejs amd\n",
       "    var savedexports, savedmodule;\n",
       "    if (typeof exports !== 'undefined') savedexports = exports;\n",
       "    else exports = {}\n",
       "    if (typeof module !== 'undefined') savedmodule = module;\n",
       "    else module = {}\n",
       "\n",
       "    var tag = document.createElement('script');\n",
       "    tag.src = uri;\n",
       "    tag.async = true;\n",
       "    tag.onload = () => {\n",
       "        exports = savedexports;\n",
       "        module = savedmodule;\n",
       "        resolve();\n",
       "    };\n",
       "  var firstScriptTag = document.getElementsByTagName('script')[0];\n",
       "  firstScriptTag.parentNode.insertBefore(tag, firstScriptTag);\n",
       "});\n",
       "};\n",
       "\n",
       "if(typeof $3Dmolpromise === 'undefined') {\n",
       "$3Dmolpromise = null;\n",
       "  $3Dmolpromise = loadScriptAsync('https://cdnjs.cloudflare.com/ajax/libs/3Dmol/2.1.0/3Dmol-min.js');\n",
       "}\n",
       "\n",
       "var viewer_1716557978503828 = null;\n",
       "var warn = document.getElementById(\"3dmolwarning_1716557978503828\");\n",
       "if(warn) {\n",
       "    warn.parentNode.removeChild(warn);\n",
       "}\n",
       "$3Dmolpromise.then(function() {\n",
       "viewer_1716557978503828 = $3Dmol.createViewer(document.getElementById(\"3dmolviewer_1716557978503828\"),{backgroundColor:\"white\"});\n",
       "viewer_1716557978503828.zoomTo();\n",
       "\tviewer_1716557978503828.addModel(\"10\\n\\nC              0.958390000000        -0.026850000000        -0.086100000000\\nC              2.295910000000        -0.048100000000        -0.094710000000\\nC              3.058580000000        -1.181900000000        -0.554530000000\\nC              4.396280000000        -1.203880000000        -0.563440000000\\nH              0.424230000000         0.848840000000         0.269040000000\\nH              0.364250000000        -0.868490000000        -0.427420000000\\nH              2.841680000000         0.824170000000         0.259040000000\\nH              2.512640000000        -2.054120000000        -0.908260000000\\nH              4.990770000000        -0.362460000000        -0.222200000000\\nH              4.929960000000        -2.079820000000        -0.918680000000\\n\");\n",
       "\tviewer_1716557978503828.setViewStyle({\"style\": \"outline\", \"width\": 0.05});\n",
       "\tviewer_1716557978503828.setStyle({\"stick\": {}, \"sphere\": {\"scale\": 0.25}});\n",
       "\tviewer_1716557978503828.zoomTo();\n",
       "viewer_1716557978503828.render();\n",
       "});\n",
       "</script>"
      ]
     },
     "metadata": {},
     "output_type": "display_data"
    }
   ],
   "source": [
    "smiles_str = \"C=CC=C\"\n",
    "molecule = vlx.Molecule.read_smiles(smiles_str)\n",
    "molecule.show()"
   ]
  },
  {
   "cell_type": "markdown",
   "id": "5018a4de-0000-409c-ba52-d7b5bbdfef77",
   "metadata": {
    "editable": true,
    "slideshow": {
     "slide_type": ""
    },
    "tags": []
   },
   "source": [
    "(character_table_d2h)=\n",
    "### D$_\\mathsf{2h}$\n",
    "\n",
    "| Irrep  | $\\hat{E}$ | $\\hat{C}_2^z$ | $\\hat{C}_2^y$ | $\\hat{C}_2^x$ | $\\hat{i}$ | $\\hat{\\sigma}^{xy}$| $\\hat{\\sigma}^{xz}$ | $\\hat{\\sigma}^{yz}$ | Operation |\n",
    "| :--- | :---: | :---: | :---: | :---: | :---: | :---: | :---: | :---: | ---: |\n",
    "| $A_g$ | 1 | 1 | 1 | 1 | 1 | 1 | 1 | 1 | |\n",
    "| $B_{1g}$ | 1 | 1 | -1 | -1 | 1 | 1 | -1 | -1 | $R_z$ |\n",
    "| $B_{2g}$ | 1 | -1 | 1 | -1 | 1 | -1 | 1 | -1 | $R_y$ |\n",
    "| $B_{3g}$ | 1 | -1 | -1 | 1 | 1 | -1 | -1 | 1 | $R_x$ |\n",
    "| $A_{u}$ | 1 | 1 | 1 | 1 | -1 | -1 | -1 | -1 |  |\n",
    "| $B_{1u}$ | 1 | 1 | -1 | -1 | -1 | -1 | 1 | 1 | $z$ |\n",
    "| $B_{2u}$ | 1 | -1 | 1 | -1 | -1 | 1 | -1 | 1 | $y$ |\n",
    "| $B_{3u}$ | 1 | -1 | -1 | 1 | -1 | 1 | 1 | -1 | $x$ |"
   ]
  },
  {
   "cell_type": "code",
   "execution_count": 8,
   "id": "1e59b789-b36b-4952-9fc8-5eb6e1af6da4",
   "metadata": {
    "editable": true,
    "slideshow": {
     "slide_type": ""
    },
    "tags": [
     "remove-input"
    ]
   },
   "outputs": [
    {
     "data": {
      "application/3dmoljs_load.v0": "<div id=\"3dmolviewer_1716557980320231\"  style=\"position: relative; width: 400px; height: 300px;\">\n        <p id=\"3dmolwarning_1716557980320231\" style=\"background-color:#ffcccc;color:black\">3Dmol.js failed to load for some reason.  Please check your browser console for error messages.<br></p>\n        </div>\n<script>\n\nvar loadScriptAsync = function(uri){\n  return new Promise((resolve, reject) => {\n    //this is to ignore the existence of requirejs amd\n    var savedexports, savedmodule;\n    if (typeof exports !== 'undefined') savedexports = exports;\n    else exports = {}\n    if (typeof module !== 'undefined') savedmodule = module;\n    else module = {}\n\n    var tag = document.createElement('script');\n    tag.src = uri;\n    tag.async = true;\n    tag.onload = () => {\n        exports = savedexports;\n        module = savedmodule;\n        resolve();\n    };\n  var firstScriptTag = document.getElementsByTagName('script')[0];\n  firstScriptTag.parentNode.insertBefore(tag, firstScriptTag);\n});\n};\n\nif(typeof $3Dmolpromise === 'undefined') {\n$3Dmolpromise = null;\n  $3Dmolpromise = loadScriptAsync('https://cdnjs.cloudflare.com/ajax/libs/3Dmol/2.1.0/3Dmol-min.js');\n}\n\nvar viewer_1716557980320231 = null;\nvar warn = document.getElementById(\"3dmolwarning_1716557980320231\");\nif(warn) {\n    warn.parentNode.removeChild(warn);\n}\n$3Dmolpromise.then(function() {\nviewer_1716557980320231 = $3Dmol.createViewer(document.getElementById(\"3dmolviewer_1716557980320231\"),{backgroundColor:\"white\"});\nviewer_1716557980320231.zoomTo();\n\tviewer_1716557980320231.addModel(\"6\\n\\nC              0.957930000000         0.075930000000         0.035720000000\\nC              2.293690000000         0.075930000000         0.035720000000\\nH              0.398100000000         0.767030000000         0.658040000000\\nH              0.398100000000        -0.615160000000        -0.586610000000\\nH              2.853520000000         0.767030000000         0.658040000000\\nH              2.853520000000        -0.615160000000        -0.586610000000\\n\");\n\tviewer_1716557980320231.setViewStyle({\"style\": \"outline\", \"width\": 0.05});\n\tviewer_1716557980320231.setStyle({\"stick\": {}, \"sphere\": {\"scale\": 0.25}});\n\tviewer_1716557980320231.zoomTo();\nviewer_1716557980320231.render();\n});\n</script>",
      "text/html": [
       "<div id=\"3dmolviewer_1716557980320231\"  style=\"position: relative; width: 400px; height: 300px;\">\n",
       "        <p id=\"3dmolwarning_1716557980320231\" style=\"background-color:#ffcccc;color:black\">3Dmol.js failed to load for some reason.  Please check your browser console for error messages.<br></p>\n",
       "        </div>\n",
       "<script>\n",
       "\n",
       "var loadScriptAsync = function(uri){\n",
       "  return new Promise((resolve, reject) => {\n",
       "    //this is to ignore the existence of requirejs amd\n",
       "    var savedexports, savedmodule;\n",
       "    if (typeof exports !== 'undefined') savedexports = exports;\n",
       "    else exports = {}\n",
       "    if (typeof module !== 'undefined') savedmodule = module;\n",
       "    else module = {}\n",
       "\n",
       "    var tag = document.createElement('script');\n",
       "    tag.src = uri;\n",
       "    tag.async = true;\n",
       "    tag.onload = () => {\n",
       "        exports = savedexports;\n",
       "        module = savedmodule;\n",
       "        resolve();\n",
       "    };\n",
       "  var firstScriptTag = document.getElementsByTagName('script')[0];\n",
       "  firstScriptTag.parentNode.insertBefore(tag, firstScriptTag);\n",
       "});\n",
       "};\n",
       "\n",
       "if(typeof $3Dmolpromise === 'undefined') {\n",
       "$3Dmolpromise = null;\n",
       "  $3Dmolpromise = loadScriptAsync('https://cdnjs.cloudflare.com/ajax/libs/3Dmol/2.1.0/3Dmol-min.js');\n",
       "}\n",
       "\n",
       "var viewer_1716557980320231 = null;\n",
       "var warn = document.getElementById(\"3dmolwarning_1716557980320231\");\n",
       "if(warn) {\n",
       "    warn.parentNode.removeChild(warn);\n",
       "}\n",
       "$3Dmolpromise.then(function() {\n",
       "viewer_1716557980320231 = $3Dmol.createViewer(document.getElementById(\"3dmolviewer_1716557980320231\"),{backgroundColor:\"white\"});\n",
       "viewer_1716557980320231.zoomTo();\n",
       "\tviewer_1716557980320231.addModel(\"6\\n\\nC              0.957930000000         0.075930000000         0.035720000000\\nC              2.293690000000         0.075930000000         0.035720000000\\nH              0.398100000000         0.767030000000         0.658040000000\\nH              0.398100000000        -0.615160000000        -0.586610000000\\nH              2.853520000000         0.767030000000         0.658040000000\\nH              2.853520000000        -0.615160000000        -0.586610000000\\n\");\n",
       "\tviewer_1716557980320231.setViewStyle({\"style\": \"outline\", \"width\": 0.05});\n",
       "\tviewer_1716557980320231.setStyle({\"stick\": {}, \"sphere\": {\"scale\": 0.25}});\n",
       "\tviewer_1716557980320231.zoomTo();\n",
       "viewer_1716557980320231.render();\n",
       "});\n",
       "</script>"
      ]
     },
     "metadata": {},
     "output_type": "display_data"
    }
   ],
   "source": [
    "smiles_str = \"C=C\"\n",
    "molecule = vlx.Molecule.read_smiles(smiles_str)\n",
    "molecule.show()"
   ]
  },
  {
   "cell_type": "markdown",
   "id": "f8810f7e",
   "metadata": {
    "editable": true,
    "slideshow": {
     "slide_type": ""
    },
    "tags": []
   },
   "source": [
    "```{note}\n",
    "A methane molecule belongs to the tetrahedral point group $T_d$. This group includes $T$ symmetry irreducible representations, allowing for triply-degenerate orbitals at most.\n",
    "```"
   ]
  },
  {
   "cell_type": "markdown",
   "id": "5456c0a8",
   "metadata": {},
   "source": [
    "(character_table_td)=\n",
    "### T$_\\mathsf{d}$\n",
    "\n",
    "| Irrep  | $\\hat{E}$ | $8\\hat{C}_3$ | $3\\hat{C}_2$ | $6\\hat{S}_4$ | $6\\hat{\\sigma}_{d}$| Operation |\n",
    "| :--- | :---: | :---: | :---: | :---: | :---: | :---: |\n",
    "| $A_1$ | 1 | 1 | 1 | 1 | 1 |\n",
    "| $A_2$ | 1 | 1 | 1 | -1 | -1 |\n",
    "| $E$ | 2 | -1 | 2 | 0 | 0 |\n",
    "| $T_1$ | 3 | 0 | -1 | 1 | -1 | $(R_x, R_y, R_z)$ |\n",
    "| $T_2$ | 3 | 0 | -1 | -1 | 1 | $x, y, z$ |"
   ]
  },
  {
   "cell_type": "code",
   "execution_count": 9,
   "id": "cd3b60c3",
   "metadata": {
    "editable": true,
    "slideshow": {
     "slide_type": ""
    },
    "tags": [
     "remove-input"
    ]
   },
   "outputs": [
    {
     "data": {
      "application/3dmoljs_load.v0": "<div id=\"3dmolviewer_171655798934185\"  style=\"position: relative; width: 400px; height: 300px;\">\n        <p id=\"3dmolwarning_171655798934185\" style=\"background-color:#ffcccc;color:black\">3Dmol.js failed to load for some reason.  Please check your browser console for error messages.<br></p>\n        </div>\n<script>\n\nvar loadScriptAsync = function(uri){\n  return new Promise((resolve, reject) => {\n    //this is to ignore the existence of requirejs amd\n    var savedexports, savedmodule;\n    if (typeof exports !== 'undefined') savedexports = exports;\n    else exports = {}\n    if (typeof module !== 'undefined') savedmodule = module;\n    else module = {}\n\n    var tag = document.createElement('script');\n    tag.src = uri;\n    tag.async = true;\n    tag.onload = () => {\n        exports = savedexports;\n        module = savedmodule;\n        resolve();\n    };\n  var firstScriptTag = document.getElementsByTagName('script')[0];\n  firstScriptTag.parentNode.insertBefore(tag, firstScriptTag);\n});\n};\n\nif(typeof $3Dmolpromise === 'undefined') {\n$3Dmolpromise = null;\n  $3Dmolpromise = loadScriptAsync('https://cdnjs.cloudflare.com/ajax/libs/3Dmol/2.1.0/3Dmol-min.js');\n}\n\nvar viewer_171655798934185 = null;\nvar warn = document.getElementById(\"3dmolwarning_171655798934185\");\nif(warn) {\n    warn.parentNode.removeChild(warn);\n}\n$3Dmolpromise.then(function() {\nviewer_171655798934185 = $3Dmol.createViewer(document.getElementById(\"3dmolviewer_171655798934185\"),{backgroundColor:\"white\"});\nviewer_171655798934185.zoomTo();\n\tviewer_171655798934185.addModel(\"5\\n\\nC              1.017190000000         0.057690000000         0.079850000000\\nH              2.109390000000         0.057690000000         0.079850000000\\nH              0.653130000000        -0.345380000000        -0.867720000000\\nH              0.653130000000         1.079850000000         0.204560000000\\nH              0.653120000000        -0.561390000000         0.902710000000\\n\");\n\tviewer_171655798934185.setViewStyle({\"style\": \"outline\", \"width\": 0.05});\n\tviewer_171655798934185.setStyle({\"stick\": {}, \"sphere\": {\"scale\": 0.25}});\n\tviewer_171655798934185.zoomTo();\nviewer_171655798934185.render();\n});\n</script>",
      "text/html": [
       "<div id=\"3dmolviewer_171655798934185\"  style=\"position: relative; width: 400px; height: 300px;\">\n",
       "        <p id=\"3dmolwarning_171655798934185\" style=\"background-color:#ffcccc;color:black\">3Dmol.js failed to load for some reason.  Please check your browser console for error messages.<br></p>\n",
       "        </div>\n",
       "<script>\n",
       "\n",
       "var loadScriptAsync = function(uri){\n",
       "  return new Promise((resolve, reject) => {\n",
       "    //this is to ignore the existence of requirejs amd\n",
       "    var savedexports, savedmodule;\n",
       "    if (typeof exports !== 'undefined') savedexports = exports;\n",
       "    else exports = {}\n",
       "    if (typeof module !== 'undefined') savedmodule = module;\n",
       "    else module = {}\n",
       "\n",
       "    var tag = document.createElement('script');\n",
       "    tag.src = uri;\n",
       "    tag.async = true;\n",
       "    tag.onload = () => {\n",
       "        exports = savedexports;\n",
       "        module = savedmodule;\n",
       "        resolve();\n",
       "    };\n",
       "  var firstScriptTag = document.getElementsByTagName('script')[0];\n",
       "  firstScriptTag.parentNode.insertBefore(tag, firstScriptTag);\n",
       "});\n",
       "};\n",
       "\n",
       "if(typeof $3Dmolpromise === 'undefined') {\n",
       "$3Dmolpromise = null;\n",
       "  $3Dmolpromise = loadScriptAsync('https://cdnjs.cloudflare.com/ajax/libs/3Dmol/2.1.0/3Dmol-min.js');\n",
       "}\n",
       "\n",
       "var viewer_171655798934185 = null;\n",
       "var warn = document.getElementById(\"3dmolwarning_171655798934185\");\n",
       "if(warn) {\n",
       "    warn.parentNode.removeChild(warn);\n",
       "}\n",
       "$3Dmolpromise.then(function() {\n",
       "viewer_171655798934185 = $3Dmol.createViewer(document.getElementById(\"3dmolviewer_171655798934185\"),{backgroundColor:\"white\"});\n",
       "viewer_171655798934185.zoomTo();\n",
       "\tviewer_171655798934185.addModel(\"5\\n\\nC              1.017190000000         0.057690000000         0.079850000000\\nH              2.109390000000         0.057690000000         0.079850000000\\nH              0.653130000000        -0.345380000000        -0.867720000000\\nH              0.653130000000         1.079850000000         0.204560000000\\nH              0.653120000000        -0.561390000000         0.902710000000\\n\");\n",
       "\tviewer_171655798934185.setViewStyle({\"style\": \"outline\", \"width\": 0.05});\n",
       "\tviewer_171655798934185.setStyle({\"stick\": {}, \"sphere\": {\"scale\": 0.25}});\n",
       "\tviewer_171655798934185.zoomTo();\n",
       "viewer_171655798934185.render();\n",
       "});\n",
       "</script>"
      ]
     },
     "metadata": {},
     "output_type": "display_data"
    }
   ],
   "source": [
    "smiles_str = \"C\"\n",
    "molecule = vlx.Molecule.read_smiles(smiles_str)\n",
    "molecule.show()"
   ]
  },
  {
   "cell_type": "code",
   "execution_count": 10,
   "id": "96b21f29",
   "metadata": {},
   "outputs": [
    {
     "name": "stdout",
     "output_type": "stream",
     "text": [
      "Number of orbitals: 30\n",
      "\n",
      "MO energies (au):\n",
      " [-11.20882348  -0.94196013  -0.5453617   -0.54536042  -0.54535953\n",
      "   0.16113805   0.23756109   0.23756137   0.23756154   0.42836509\n",
      "   0.42836568   0.42836636   0.74942      0.81643931   0.81643962\n",
      "   0.81644079   0.98831673   1.51918071   1.51918102   1.78539525\n",
      "   1.78539549   1.78539578   2.57006486   2.75828059   2.75828446\n",
      "   2.75828704   3.48944059   3.48944171   3.48944641  24.55021359]\n"
     ]
    }
   ],
   "source": [
    "basis = vlx.MolecularBasis.read(molecule, \"6-311G*\", ostream=None)\n",
    "\n",
    "scf_drv = vlx.ScfRestrictedDriver()\n",
    "scf_drv.ostream.mute()\n",
    "\n",
    "scf_results = scf_drv.compute(molecule, basis)\n",
    "\n",
    "mo_energy = scf_results[\"E_alpha\"]\n",
    "\n",
    "print(\"Number of orbitals:\", len(mo_energy))\n",
    "print(\"\\nMO energies (au):\\n\", mo_energy)"
   ]
  },
  {
   "cell_type": "markdown",
   "id": "88bc1b22",
   "metadata": {},
   "source": [
    "```{note}\n",
    "Some point groups, such as the cyclic groups $C_n$ (except for $C_1$ and $C_2$), $C_{(2n+1)h}$, $S_{2n}$, and also $T$ and $T_h$ have irreps with complex characters. In these cases, there will always be a complementary irrep with a complex-conjugate character string. They are orthogonal to each other, meaning no point group operation can transform a function belonging to $\\Gamma$ into $\\bar{\\Gamma}$.\n",
    "\n",
    "However, complex-conjugate irreps remain degenerate under time-reversal symmetry and are typically treated as a \"kind of a\" two-dimensional irreducible representation. Often, the reduction producing the pair of irreps is not carried out, as twofold degeneracy may still occur. This is illustrated below by computing the orbital energies of triethylamine in a $C_3$ conformation. \n",
    "```"
   ]
  },
  {
   "cell_type": "markdown",
   "id": "625393ff",
   "metadata": {},
   "source": [
    "(character_table_c3)=\n",
    "### C$_\\mathsf{3}$\n",
    "\n",
    "| Irrep | $\\hat{E}$ | $\\hat{C}_3^z$ | $\\hat{C}_3^{2, z}$ | Operation |\n",
    "| :--- | :---: | :---: | :---: | :---: |\n",
    "| $A$ | 1 | 1 | 1 | $z$, $R_z$ |\n",
    "| $E$ | 1 | $\\epsilon$ | $\\epsilon^*$ | $(x, y)$, $(R_x, R_y)$\n",
    "| | 1 | $\\epsilon^*$ | $\\epsilon$ |"
   ]
  },
  {
   "cell_type": "code",
   "execution_count": 11,
   "id": "739aa44e",
   "metadata": {
    "editable": true,
    "slideshow": {
     "slide_type": ""
    },
    "tags": [
     "remove-input"
    ]
   },
   "outputs": [
    {
     "data": {
      "application/3dmoljs_load.v0": "<div id=\"3dmolviewer_171655801768116\"  style=\"position: relative; width: 400px; height: 300px;\">\n        <p id=\"3dmolwarning_171655801768116\" style=\"background-color:#ffcccc;color:black\">3Dmol.js failed to load for some reason.  Please check your browser console for error messages.<br></p>\n        </div>\n<script>\n\nvar loadScriptAsync = function(uri){\n  return new Promise((resolve, reject) => {\n    //this is to ignore the existence of requirejs amd\n    var savedexports, savedmodule;\n    if (typeof exports !== 'undefined') savedexports = exports;\n    else exports = {}\n    if (typeof module !== 'undefined') savedmodule = module;\n    else module = {}\n\n    var tag = document.createElement('script');\n    tag.src = uri;\n    tag.async = true;\n    tag.onload = () => {\n        exports = savedexports;\n        module = savedmodule;\n        resolve();\n    };\n  var firstScriptTag = document.getElementsByTagName('script')[0];\n  firstScriptTag.parentNode.insertBefore(tag, firstScriptTag);\n});\n};\n\nif(typeof $3Dmolpromise === 'undefined') {\n$3Dmolpromise = null;\n  $3Dmolpromise = loadScriptAsync('https://cdnjs.cloudflare.com/ajax/libs/3Dmol/2.1.0/3Dmol-min.js');\n}\n\nvar viewer_171655801768116 = null;\nvar warn = document.getElementById(\"3dmolwarning_171655801768116\");\nif(warn) {\n    warn.parentNode.removeChild(warn);\n}\n$3Dmolpromise.then(function() {\nviewer_171655801768116 = $3Dmol.createViewer(document.getElementById(\"3dmolviewer_171655801768116\"),{backgroundColor:\"white\"});\nviewer_171655801768116.zoomTo();\n\tviewer_171655801768116.addModel(\"22\\n\\nC              1.440648143200         0.096424013000         0.324487332400\\nH              3.290645056900         0.845227209400        -0.512474137100\\nN             -0.001468641900        -0.021964761900        -0.042320835000\\nH              1.790078109100        -0.927918375800         0.586566459400\\nH              1.832490517900         1.621167077400        -1.171948736800\\nH              1.573768005500         0.716932463800         1.237235705800\\nH              2.279967881400        -0.014498302800        -1.684762459900\\nC              2.254127927000         0.663423312300        -0.821983007300\\nC             -0.647520697800         1.310109897500        -0.233262706800\\nH             -2.497389295600         2.143956249200        -0.985848742900\\nH              0.058650060500         1.925735176600        -0.835253134800\\nH             -2.640078127600         0.465157383500        -0.416218729500\\nH             -0.775788561700         1.837568481400         0.736889871800\\nH             -1.867105009300         0.814978240400        -1.971452817300\\nC             -1.980985393700         1.177213526200        -0.941670967100\\nC             -0.758300856100        -0.885977830200         0.911068578100\\nH             -0.789905656600        -2.939140060600         1.594607385600\\nH             -1.835039200600        -0.793227338600         0.642561625900\\nH              0.785747068000        -2.412832598100         0.959372757700\\nH             -0.661492867300        -0.514324299700         1.954314999100\\nH             -0.545145782000        -2.777888281300        -0.151515945800\\nC             -0.305871073500        -2.329899534100         0.821462728000\\n\");\n\tviewer_171655801768116.setViewStyle({\"style\": \"outline\", \"width\": 0.05});\n\tviewer_171655801768116.setStyle({\"stick\": {}, \"sphere\": {\"scale\": 0.25}});\n\tviewer_171655801768116.zoomTo();\nviewer_171655801768116.render();\n});\n</script>",
      "text/html": [
       "<div id=\"3dmolviewer_171655801768116\"  style=\"position: relative; width: 400px; height: 300px;\">\n",
       "        <p id=\"3dmolwarning_171655801768116\" style=\"background-color:#ffcccc;color:black\">3Dmol.js failed to load for some reason.  Please check your browser console for error messages.<br></p>\n",
       "        </div>\n",
       "<script>\n",
       "\n",
       "var loadScriptAsync = function(uri){\n",
       "  return new Promise((resolve, reject) => {\n",
       "    //this is to ignore the existence of requirejs amd\n",
       "    var savedexports, savedmodule;\n",
       "    if (typeof exports !== 'undefined') savedexports = exports;\n",
       "    else exports = {}\n",
       "    if (typeof module !== 'undefined') savedmodule = module;\n",
       "    else module = {}\n",
       "\n",
       "    var tag = document.createElement('script');\n",
       "    tag.src = uri;\n",
       "    tag.async = true;\n",
       "    tag.onload = () => {\n",
       "        exports = savedexports;\n",
       "        module = savedmodule;\n",
       "        resolve();\n",
       "    };\n",
       "  var firstScriptTag = document.getElementsByTagName('script')[0];\n",
       "  firstScriptTag.parentNode.insertBefore(tag, firstScriptTag);\n",
       "});\n",
       "};\n",
       "\n",
       "if(typeof $3Dmolpromise === 'undefined') {\n",
       "$3Dmolpromise = null;\n",
       "  $3Dmolpromise = loadScriptAsync('https://cdnjs.cloudflare.com/ajax/libs/3Dmol/2.1.0/3Dmol-min.js');\n",
       "}\n",
       "\n",
       "var viewer_171655801768116 = null;\n",
       "var warn = document.getElementById(\"3dmolwarning_171655801768116\");\n",
       "if(warn) {\n",
       "    warn.parentNode.removeChild(warn);\n",
       "}\n",
       "$3Dmolpromise.then(function() {\n",
       "viewer_171655801768116 = $3Dmol.createViewer(document.getElementById(\"3dmolviewer_171655801768116\"),{backgroundColor:\"white\"});\n",
       "viewer_171655801768116.zoomTo();\n",
       "\tviewer_171655801768116.addModel(\"22\\n\\nC              1.440648143200         0.096424013000         0.324487332400\\nH              3.290645056900         0.845227209400        -0.512474137100\\nN             -0.001468641900        -0.021964761900        -0.042320835000\\nH              1.790078109100        -0.927918375800         0.586566459400\\nH              1.832490517900         1.621167077400        -1.171948736800\\nH              1.573768005500         0.716932463800         1.237235705800\\nH              2.279967881400        -0.014498302800        -1.684762459900\\nC              2.254127927000         0.663423312300        -0.821983007300\\nC             -0.647520697800         1.310109897500        -0.233262706800\\nH             -2.497389295600         2.143956249200        -0.985848742900\\nH              0.058650060500         1.925735176600        -0.835253134800\\nH             -2.640078127600         0.465157383500        -0.416218729500\\nH             -0.775788561700         1.837568481400         0.736889871800\\nH             -1.867105009300         0.814978240400        -1.971452817300\\nC             -1.980985393700         1.177213526200        -0.941670967100\\nC             -0.758300856100        -0.885977830200         0.911068578100\\nH             -0.789905656600        -2.939140060600         1.594607385600\\nH             -1.835039200600        -0.793227338600         0.642561625900\\nH              0.785747068000        -2.412832598100         0.959372757700\\nH             -0.661492867300        -0.514324299700         1.954314999100\\nH             -0.545145782000        -2.777888281300        -0.151515945800\\nC             -0.305871073500        -2.329899534100         0.821462728000\\n\");\n",
       "\tviewer_171655801768116.setViewStyle({\"style\": \"outline\", \"width\": 0.05});\n",
       "\tviewer_171655801768116.setStyle({\"stick\": {}, \"sphere\": {\"scale\": 0.25}});\n",
       "\tviewer_171655801768116.zoomTo();\n",
       "viewer_171655801768116.render();\n",
       "});\n",
       "</script>"
      ]
     },
     "metadata": {},
     "output_type": "display_data"
    }
   ],
   "source": [
    "triethylamine_str = \"\"\"22\n",
    "\n",
    "C        1.4406481432        0.0964240130        0.3244873324\n",
    "H        3.2906450569        0.8452272094       -0.5124741371\n",
    "N       -0.0014686419       -0.0219647619       -0.0423208350\n",
    "H        1.7900781091       -0.9279183758        0.5865664594\n",
    "H        1.8324905179        1.6211670774       -1.1719487368\n",
    "H        1.5737680055        0.7169324638        1.2372357058\n",
    "H        2.2799678814       -0.0144983028       -1.6847624599\n",
    "C        2.2541279270        0.6634233123       -0.8219830073\n",
    "C       -0.6475206978        1.3101098975       -0.2332627068\n",
    "H       -2.4973892956        2.1439562492       -0.9858487429\n",
    "H        0.0586500605        1.9257351766       -0.8352531348\n",
    "H       -2.6400781276        0.4651573835       -0.4162187295\n",
    "H       -0.7757885617        1.8375684814        0.7368898718\n",
    "H       -1.8671050093        0.8149782404       -1.9714528173\n",
    "C       -1.9809853937        1.1772135262       -0.9416709671\n",
    "C       -0.7583008561       -0.8859778302        0.9110685781\n",
    "H       -0.7899056566       -2.9391400606        1.5946073856\n",
    "H       -1.8350392006       -0.7932273386        0.6425616259\n",
    "H        0.7857470680       -2.4128325981        0.9593727577\n",
    "H       -0.6614928673       -0.5143242997        1.9543149991\n",
    "H       -0.5451457820       -2.7778882813       -0.1515159458\n",
    "C       -0.3058710735       -2.3298995341        0.8214627280\n",
    "\"\"\"\n",
    "molecule = vlx.Molecule.read_xyz_string(triethylamine_str)\n",
    "molecule.show()"
   ]
  },
  {
   "cell_type": "code",
   "execution_count": 12,
   "id": "93953dae",
   "metadata": {},
   "outputs": [
    {
     "name": "stdout",
     "output_type": "stream",
     "text": [
      "Number of orbitals: 93\n",
      "\n",
      "MO energies (au):\n",
      " [-15.54578849 -11.25090355 -11.25090355 -11.25087358 -11.21246683\n",
      " -11.21246653 -11.21246653  -1.21131333  -1.02510881  -1.02510881\n",
      "  -0.95516387  -0.84457492  -0.84457492  -0.76156233  -0.63980813\n",
      "  -0.63980813  -0.61995786  -0.58982172  -0.58982172  -0.54558603\n",
      "  -0.52774456  -0.51291914  -0.51291914  -0.50152399  -0.4839755\n",
      "  -0.4839755   -0.4473856   -0.4473856   -0.33930113   0.23557939\n",
      "   0.24581183   0.24581183   0.27338951   0.29363159   0.29363159\n",
      "   0.30611874   0.31534336   0.31534336   0.33506903   0.33506903\n",
      "   0.34579136   0.36436004   0.38908878   0.38908878   0.40390215\n",
      "   0.42832684   0.42832684   0.45960101   0.45960101   0.4814887\n",
      "   0.73810901   0.73810901   0.76078307   0.77961338   0.77961338\n",
      "   0.80202299   0.82977804   0.82977804   0.83162343   0.92269428\n",
      "   0.95025505   0.95025505   0.95533729   0.98746581   0.98746581\n",
      "   1.07603196   1.07603196   1.11600443   1.12617684   1.19648957\n",
      "   1.20455251   1.20455251   1.22181746   1.22181746   1.22709025\n",
      "   1.24353097   1.2508069    1.2508069    1.26259608   1.26259608\n",
      "   1.29418576   1.32269348   1.32269348   1.35323599   1.4345424\n",
      "   1.44579073   1.44579073   1.64418987   1.64418987   1.77919534\n",
      "   1.92026477   1.92026477   2.06059262]\n"
     ]
    }
   ],
   "source": [
    "basis = vlx.MolecularBasis.read(molecule, \"6-31G\", ostream=None)\n",
    "\n",
    "scf_drv = vlx.ScfRestrictedDriver()\n",
    "scf_drv.ostream.mute()\n",
    "\n",
    "scf_results = scf_drv.compute(molecule, basis)\n",
    "\n",
    "mo_energy = scf_results[\"E_alpha\"]\n",
    "\n",
    "print(\"Number of orbitals:\", len(mo_energy))\n",
    "print(\"\\nMO energies (au):\\n\", mo_energy)"
   ]
  },
  {
   "cell_type": "markdown",
   "id": "0f2056c6-9a94-4ac2-86d6-7ee919f9ad8c",
   "metadata": {
    "editable": true,
    "slideshow": {
     "slide_type": ""
    },
    "tags": []
   },
   "source": [
    "## Wave function symmetry\n",
    "\n",
    "In view of the characters listed in the table, it is straightforward to identify to which irrep molecular orbitals (MOs) belong, $\\Gamma(\\phi_i)$. Since we are here concerned with spatial operations the symmetry of spin orbitals, $\\Gamma(\\psi_i)$, is equal to the symmetry of the associated MOs.\n",
    "\n",
    "The symmetry of many-electron functions composed of Slater determinants is equal to the direct product of the irreps of the spin orbitals\n",
    "\n",
    "$$\n",
    "\\Gamma(\\Psi) = \\Gamma(\\psi_1) \\otimes \\Gamma(\\psi_2) \\otimes \\cdots \\otimes \\Gamma(\\psi_N)\n",
    "$$\n",
    "\n",
    "For double electron occupied MOs, we get\n",
    "\n",
    "$$\n",
    "\\Gamma(\\psi_i \\psi_{\\bar{i}}) = \\Gamma(\\psi_i) \\otimes \\Gamma(\\psi_{\\bar{i}}) = \n",
    "\\Gamma(\\phi_i) \\otimes \\Gamma(\\phi_i) = \\Gamma(\\hat{E})\n",
    "$$\n",
    "\n",
    "This gives us the result that closed-shell determinants belong to the all-symmetric irrep, $\\Gamma(\\hat{E})$, and the symmetry of open-shell determinants equals the direct product of the irreps of the single electron occupied MOs."
   ]
  }
 ],
 "metadata": {
  "kernelspec": {
   "display_name": "Python 3 (ipykernel)",
   "language": "python",
   "name": "python3"
  },
  "language_info": {
   "codemirror_mode": {
    "name": "ipython",
    "version": 3
   },
   "file_extension": ".py",
   "mimetype": "text/x-python",
   "name": "python",
   "nbconvert_exporter": "python",
   "pygments_lexer": "ipython3",
   "version": "3.11.8"
  }
 },
 "nbformat": 4,
 "nbformat_minor": 5
}
