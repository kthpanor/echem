{
 "cells": [
  {
   "cell_type": "markdown",
   "id": "8ef6a31e",
   "metadata": {},
   "source": [
    "# Wave function theory\n",
    "\n",
    "In this section we will describe commonly adopted wave function methods.\n",
    "\n",
    "- [Hartree--Fock](hartree-fock) <br>\n",
    "Introduction to the concepts of Hartree-Fock theory and an implementation of the self-consistent field algorithm.\n",
    "- [Møller--Plesset](mp2) <br>\n",
    "A description and implementation of second order Møller-Plesset perturbation theory.\n",
    "- [Configuration interaction](ci) <br>\n",
    "A presentation and implementation of full and truncated configuration interaction methods.\n",
    "\n"
   ]
  }
 ],
 "metadata": {
  "kernelspec": {
   "display_name": "Python 3 (ipykernel)",
   "language": "python",
   "name": "python3"
  },
  "language_info": {
   "codemirror_mode": {
    "name": "ipython",
    "version": 3
   },
   "file_extension": ".py",
   "mimetype": "text/x-python",
   "name": "python",
   "nbconvert_exporter": "python",
   "pygments_lexer": "ipython3",
   "version": "3.11.7"
  }
 },
 "nbformat": 4,
 "nbformat_minor": 5
}
