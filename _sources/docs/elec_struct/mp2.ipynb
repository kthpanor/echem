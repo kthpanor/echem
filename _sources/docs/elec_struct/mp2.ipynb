{
 "cells": [
  {
   "cell_type": "markdown",
   "id": "c90fe308-2fe2-4109-9993-0279960de994",
   "metadata": {
    "editable": true,
    "slideshow": {
     "slide_type": ""
    },
    "tags": []
   },
   "source": [
    "(sec:mp2)=\n",
    "# Møller–Plesset"
   ]
  },
  {
   "cell_type": "markdown",
   "id": "bbf702e6-bb44-42c5-8aed-b9e85530206a",
   "metadata": {
    "editable": true,
    "jp-MarkdownHeadingCollapsed": true,
    "slideshow": {
     "slide_type": ""
    },
    "tags": []
   },
   "source": [
    "## Møller–Plesset partitioning\n",
    "\n",
    "When using [perturbation theory](pt), a very common partitioning of the Hamiltonian is the using the Møller–Plesset (MP) {cite}`Szabo2012,Helgaker2014,mbpt2009` scheme, which follows quite naturally when first approximating the desired ground state in terms of a single reference determinant. The Hamiltonian is rewritten as\n",
    "\n",
    "\\begin{equation*}\n",
    "\\hat{H} = \\hat{F} + \\hat{\\Phi}\n",
    "\\end{equation*}\n",
    "\n",
    "where $\\hat{F}$ is the Fock operator and $\\hat{\\Phi}$ is the so-called fluctuation potential, which is a two-body operator.\n",
    "\n",
    "$\\hat{F}$ is a one-body operator whose spectrum consists of all determinants that can be built from excitation of the reference $| 0 \\rangle$\n",
    "\n",
    "\\begin{align*}\n",
    "\\hat{F} | 0 \\rangle  &= E_{0}^{(0)}| 0 \\rangle \\\\\n",
    "\\hat{F} \\left|_{ij\\ldots} ^{ab\\ldots} \\right\\rangle &=\n",
    "\\left(E_{0}^{(0)} + \\varepsilon^{ab\\cdots}_{ij\\cdots}  \\right)\n",
    "\\left|_{ij\\ldots} ^{ab\\ldots} \\right\\rangle\n",
    "\\end{align*}\n",
    "\n",
    "The zeroth-order energy and the orbital-energy denominators are\n",
    "\n",
    "\\begin{align*}\n",
    "E_{0}^{(0)} &= \\sum_{i} \\varepsilon_{i} \\\\\n",
    "\\varepsilon^{ab\\cdots}_{ij\\cdots} &= \\varepsilon_{a} + \\varepsilon_{b} + \\ldots - \\varepsilon_{i} - \\varepsilon_{j} - \\ldots\n",
    "\\end{align*}\n",
    "\n",
    "With $i,j,\\ldots$ referring to occupied orbitals, whereas $a,b,\\ldots$ refer to unoccupied (virtual) ones.\n",
    "\n",
    "Using this partitioning, the zeroth-order energy is the sum of orbital energies, and the first-order correction is\n",
    "\n",
    "\\begin{equation*}\n",
    "E_0^{(1)} = \\left\\langle 0 \\left| \\hat{\\Phi} \\right| 0 \\right\\rangle = -\\frac{1}{2} \\sum_{ij} \\langle ij \\| ij \\rangle\n",
    "\\end{equation*}\n",
    "\n",
    "that is, the energy of the reference single determinant is correct through first order in the perturbative series\n",
    "\n",
    "$$\n",
    "E_{\\mathrm{ref}} = E_{\\mathrm{HF}} = E_{0}^{(0)} + E_0^{(1)}\n",
    "$$\n",
    "\n",
    "(label:mp1-wf)=\n",
    "The first-order correction to the wave function is obtained from the [RSPT master equation](pt). In a basis of molecular spin-orbitals, it is given by\n",
    "\n",
    "\\begin{equation*}\n",
    "| \\Psi_0^{(1)} \\rangle = -\\frac{1}{4}\\sum_{ijab}  \n",
    "\\frac{\\langle ab \\| ij \\rangle}{\\varepsilon_{ij}^{ab}} |_{ij}^{ab}\\rangle \\\n",
    "\\end{equation*}\n",
    "\n",
    "The expansion coefficients are identified as the so-called $t$-amplitudes\n",
    "\n",
    "\\begin{equation*}\n",
    "t_{ijab} = \\frac{\\langle ab \\| ij \\rangle}{\\varepsilon_{ij}^{ab}} \\, \n",
    "\\end{equation*}\n",
    "\n",
    "(eq:mp2-energy)=\n",
    "The second-order energy correction is\n",
    "\n",
    "\\begin{equation*}\n",
    "E_{0}^{(2)}  = - \\frac{1}{4} \n",
    "\\sum_{ijab} \\frac{\\langle ij \\| ab \\rangle \\langle ab \\| ij \\rangle}{\\varepsilon_{ij}^{ab}}\n",
    "= - \\frac{1}{4} \\sum_{ijab} t_{ijab} \\langle ij || ab \\rangle\n",
    "\\end{equation*}\n",
    "\n",
    "and the total MP2 energy is given by $E_{\\mathrm{MP2}} = E_{\\mathrm{HF}} + E_0^{(2)}$.\n",
    "For a closed-shell, restricted reference using real MOs, $E_0^{(2)}$ can be written as\n",
    "\n",
    "\\begin{equation*}\n",
    "E_0^{(2)} = -\n",
    "\\sum_{ij}^{N_{\\mathrm{O}}} \\sum_{ab}^{N_{\\mathrm{V}}} \n",
    "\\frac{\\langle ij | ab \\rangle}{\\varepsilon_{ij}^{ab}}\n",
    "[ 2 \\langle ij | ab \\rangle - \\langle ij | ba \\rangle ]\n",
    "\\end{equation*}\n",
    "\n",
    "where $N_{\\mathrm{O}}$ is the number of occupied spatial orbitals ($N/2$), and $N_{\\mathrm{V}}$ the number of virtual spatial orbitals. This can be further rearrange into two terms called opposite-spin (OS) and same-spin (SS)\n",
    "\n",
    "\\begin{equation*}\n",
    "E_0^{(2)} = -\n",
    "\\sum_{ij}^{N_{\\mathrm{O}}} \\sum_{ab}^{N_{\\mathrm{V}}} \n",
    "\\frac{\\langle ij | ab \\rangle\\langle ij | ab \\rangle}{\\varepsilon_{ij}^{ab}} -\n",
    "\\sum_{ij}^{N_{\\mathrm{O}}} \\sum_{ab}^{N_{\\mathrm{V}}} \n",
    "\\frac{\\langle ij | ab \\rangle[ \\langle ij | ab \\rangle - \\langle ij | ba \\rangle ]}{\\varepsilon_{ij}^{ab}} = \n",
    "E_{\\mathrm{OS}}^{(2)} + E_{\\mathrm{SS}}^{(2)}.\n",
    "\\end{equation*}"
   ]
  },
  {
   "cell_type": "markdown",
   "id": "dfb0ab74-d661-4bd1-aff1-f7f027cd8147",
   "metadata": {
    "editable": true,
    "slideshow": {
     "slide_type": ""
    },
    "tags": []
   },
   "source": [
    "## Implementation\n",
    "\n",
    "To compute $E_0^{(2)}$ we need to:\n",
    "\n",
    "1. obtain the reference closed-shell determinant from a Hartree--Fock calculation\n",
    "2. transform the AO basis ERI tensor to MO basis\n",
    "3. assemble the energy denominators\n",
    "4. combine the results of steps 2 and 3 to form the perturbative correction\n",
    "\n",
    "![Obtaining the MP2 energy correction](../../img/misc/mp2.svg)\n",
    "\n",
    "### Obtaining the HF reference"
   ]
  },
  {
   "cell_type": "code",
   "execution_count": 1,
   "id": "d78cd800-cae8-4ac9-8ecb-f39ea463aaa6",
   "metadata": {
    "editable": true,
    "scrolled": true,
    "slideshow": {
     "slide_type": ""
    },
    "tags": [
     "remove-output"
    ]
   },
   "outputs": [
    {
     "name": "stdout",
     "output_type": "stream",
     "text": [
      "* Warning * Environment variable OMP_NUM_THREADS not set.\n",
      "* Warning * Setting OMP_NUM_THREADS to 10.\n"
     ]
    }
   ],
   "source": [
    "import veloxchem as vlx"
   ]
  },
  {
   "cell_type": "code",
   "execution_count": 2,
   "id": "aac1ae4f-5275-4685-8a4b-056816a1664a",
   "metadata": {
    "editable": true,
    "scrolled": true,
    "slideshow": {
     "slide_type": ""
    },
    "tags": []
   },
   "outputs": [
    {
     "data": {
      "application/3dmoljs_load.v0": "<div id=\"3dmolviewer_1705774287081889\"  style=\"position: relative; width: 400px; height: 300px;\">\n        <p id=\"3dmolwarning_1705774287081889\" style=\"background-color:#ffcccc;color:black\">You appear to be running in JupyterLab (or JavaScript failed to load for some other reason).  You need to install the 3dmol extension: <br>\n        <tt>jupyter labextension install jupyterlab_3dmol</tt></p>\n        </div>\n<script>\n\nvar loadScriptAsync = function(uri){\n  return new Promise((resolve, reject) => {\n    //this is to ignore the existence of requirejs amd\n    var savedexports, savedmodule;\n    if (typeof exports !== 'undefined') savedexports = exports;\n    else exports = {}\n    if (typeof module !== 'undefined') savedmodule = module;\n    else module = {}\n\n    var tag = document.createElement('script');\n    tag.src = uri;\n    tag.async = true;\n    tag.onload = () => {\n        exports = savedexports;\n        module = savedmodule;\n        resolve();\n    };\n  var firstScriptTag = document.getElementsByTagName('script')[0];\n  firstScriptTag.parentNode.insertBefore(tag, firstScriptTag);\n});\n};\n\nif(typeof $3Dmolpromise === 'undefined') {\n$3Dmolpromise = null;\n  $3Dmolpromise = loadScriptAsync('https://cdnjs.cloudflare.com/ajax/libs/3Dmol/2.0.4/3Dmol-min.js');\n}\n\nvar viewer_1705774287081889 = null;\nvar warn = document.getElementById(\"3dmolwarning_1705774287081889\");\nif(warn) {\n    warn.parentNode.removeChild(warn);\n}\n$3Dmolpromise.then(function() {\nviewer_1705774287081889 = $3Dmol.createViewer(document.getElementById(\"3dmolviewer_1705774287081889\"),{backgroundColor:\"white\"});\nviewer_1705774287081889.zoomTo();\n\tviewer_1705774287081889.addModel(\"3\\n\\nO              0.000000000000         0.000000000000         0.000000000000\\nH              0.000000000000         0.740848095288         0.582094932012\\nH              0.000000000000        -0.740848095288         0.582094932012\\n\");\n\tviewer_1705774287081889.setViewStyle({\"style\": \"outline\", \"width\": 0.05});\n\tviewer_1705774287081889.setStyle({\"stick\": {}, \"sphere\": {\"scale\": 0.25}});\n\tviewer_1705774287081889.zoomTo();\nviewer_1705774287081889.render();\n});\n</script>",
      "text/html": [
       "<div id=\"3dmolviewer_1705774287081889\"  style=\"position: relative; width: 400px; height: 300px;\">\n",
       "        <p id=\"3dmolwarning_1705774287081889\" style=\"background-color:#ffcccc;color:black\">You appear to be running in JupyterLab (or JavaScript failed to load for some other reason).  You need to install the 3dmol extension: <br>\n",
       "        <tt>jupyter labextension install jupyterlab_3dmol</tt></p>\n",
       "        </div>\n",
       "<script>\n",
       "\n",
       "var loadScriptAsync = function(uri){\n",
       "  return new Promise((resolve, reject) => {\n",
       "    //this is to ignore the existence of requirejs amd\n",
       "    var savedexports, savedmodule;\n",
       "    if (typeof exports !== 'undefined') savedexports = exports;\n",
       "    else exports = {}\n",
       "    if (typeof module !== 'undefined') savedmodule = module;\n",
       "    else module = {}\n",
       "\n",
       "    var tag = document.createElement('script');\n",
       "    tag.src = uri;\n",
       "    tag.async = true;\n",
       "    tag.onload = () => {\n",
       "        exports = savedexports;\n",
       "        module = savedmodule;\n",
       "        resolve();\n",
       "    };\n",
       "  var firstScriptTag = document.getElementsByTagName('script')[0];\n",
       "  firstScriptTag.parentNode.insertBefore(tag, firstScriptTag);\n",
       "});\n",
       "};\n",
       "\n",
       "if(typeof $3Dmolpromise === 'undefined') {\n",
       "$3Dmolpromise = null;\n",
       "  $3Dmolpromise = loadScriptAsync('https://cdnjs.cloudflare.com/ajax/libs/3Dmol/2.0.4/3Dmol-min.js');\n",
       "}\n",
       "\n",
       "var viewer_1705774287081889 = null;\n",
       "var warn = document.getElementById(\"3dmolwarning_1705774287081889\");\n",
       "if(warn) {\n",
       "    warn.parentNode.removeChild(warn);\n",
       "}\n",
       "$3Dmolpromise.then(function() {\n",
       "viewer_1705774287081889 = $3Dmol.createViewer(document.getElementById(\"3dmolviewer_1705774287081889\"),{backgroundColor:\"white\"});\n",
       "viewer_1705774287081889.zoomTo();\n",
       "\tviewer_1705774287081889.addModel(\"3\\n\\nO              0.000000000000         0.000000000000         0.000000000000\\nH              0.000000000000         0.740848095288         0.582094932012\\nH              0.000000000000        -0.740848095288         0.582094932012\\n\");\n",
       "\tviewer_1705774287081889.setViewStyle({\"style\": \"outline\", \"width\": 0.05});\n",
       "\tviewer_1705774287081889.setStyle({\"stick\": {}, \"sphere\": {\"scale\": 0.25}});\n",
       "\tviewer_1705774287081889.zoomTo();\n",
       "viewer_1705774287081889.render();\n",
       "});\n",
       "</script>"
      ]
     },
     "metadata": {},
     "output_type": "display_data"
    }
   ],
   "source": [
    "h2o_xyz = \"\"\"3\n",
    "water                                                                                                                          \n",
    "O    0.000000000000        0.000000000000        0.000000000000                         \n",
    "H    0.000000000000        0.740848095288        0.582094932012                         \n",
    "H    0.000000000000       -0.740848095288        0.582094932012\n",
    "\"\"\"\n",
    "\n",
    "molecule = vlx.Molecule.read_xyz_string(h2o_xyz)\n",
    "basis = vlx.MolecularBasis.read(molecule, \"cc-pvdz\", ostream=None)\n",
    "\n",
    "molecule.show()"
   ]
  },
  {
   "cell_type": "code",
   "execution_count": 3,
   "id": "d260f75b-cfa8-445b-8e8b-89f586545aa8",
   "metadata": {
    "editable": true,
    "scrolled": true,
    "slideshow": {
     "slide_type": ""
    },
    "tags": []
   },
   "outputs": [],
   "source": [
    "scf_drv = vlx.ScfRestrictedDriver()\n",
    "scf_drv.ostream.mute()\n",
    "\n",
    "scf_results = scf_drv.compute(molecule, basis)"
   ]
  },
  {
   "cell_type": "markdown",
   "id": "3e3db8e6-df40-4ad7-b905-d8de66f73e29",
   "metadata": {
    "editable": true,
    "slideshow": {
     "slide_type": ""
    },
    "tags": []
   },
   "source": [
    "We can now access orbital energies and MO coefficients from the SCF driver"
   ]
  },
  {
   "cell_type": "code",
   "execution_count": 4,
   "id": "d18ec509-fb5c-426c-95bf-aeb30670d376",
   "metadata": {
    "editable": true,
    "slideshow": {
     "slide_type": ""
    },
    "tags": []
   },
   "outputs": [],
   "source": [
    "E = scf_results[\"E\"]\n",
    "C = scf_results[\"C\"]"
   ]
  },
  {
   "cell_type": "markdown",
   "id": "f88b2137-9a62-4f45-a89c-c2cee2d53d16",
   "metadata": {
    "editable": true,
    "slideshow": {
     "slide_type": ""
    },
    "tags": []
   },
   "source": [
    "### Transforming the integrals\n",
    "\n",
    "We compute the MP2 energy correction with the ERI expressed in MO basis, and thus need to transform the ERI tensor from AO basis. The transformation reads\n",
    "\n",
    "\\begin{equation*}\n",
    "\\langle pq | rs \\rangle = \\sum_{\\mu\\nu\\kappa\\lambda} C_{\\mu p}C_{\\nu r} (\\mu\\nu|\\kappa\\lambda) C_{\\kappa q} C_{\\lambda s}\n",
    "\\end{equation*}\n",
    "\n",
    "with the MO integrals in [**physicists' notation**](http://vergil.chemistry.gatech.edu/notes/permsymm/permsymm.html). The transformation requires $O(N^{8})$ operation count. However, we can perform it more efficiently as a step-wise contraction:\n",
    "\n",
    "\\begin{equation*}\n",
    "\\langle pq | rs \\rangle = \\sum_{\\mu} C_{\\mu p}  \\left(\\sum_{\\nu} C_{\\nu r}  \\left (\\sum_{\\kappa} \\left(\\sum_{\\lambda} (\\mu\\nu|\\kappa\\lambda) C_{\\lambda s} \\right) C_{\\kappa q} \\right)\\right)\n",
    "\\end{equation*}\n",
    "\n",
    "Note that we do **not** need the full ERI tensor in MO basis, but rather the *OOVV* class of integrals, which involve two occupied and two virtual MO indices\n",
    "\n",
    "\\begin{equation*}\n",
    "\\langle ij | ab \\rangle = \n",
    "\\sum_{\\mu} C_{\\mu i}  \n",
    "\\left(\\sum_{\\nu} C_{\\nu j}  \n",
    "\\left(\\sum_{\\kappa} \n",
    "\\left(\\sum_{\\lambda} (\\mu\\kappa|\\nu\\lambda) C_{\\lambda b} \\right)\n",
    "C_{\\kappa a}\\right)\\right)\n",
    "\\end{equation*}"
   ]
  },
  {
   "cell_type": "code",
   "execution_count": 5,
   "id": "b55192bb-c723-4f3c-a6ea-3dc688e78571",
   "metadata": {
    "editable": true,
    "slideshow": {
     "slide_type": ""
    },
    "tags": []
   },
   "outputs": [],
   "source": [
    "eridrv = vlx.ElectronRepulsionIntegralsDriver()\n",
    "mknl = eridrv.compute_in_memory(molecule, basis)"
   ]
  },
  {
   "cell_type": "code",
   "execution_count": 6,
   "id": "f8c8e50e-3130-4d0d-bdbe-ba6a461925fe",
   "metadata": {
    "editable": true,
    "slideshow": {
     "slide_type": ""
    },
    "tags": []
   },
   "outputs": [
    {
     "name": "stdout",
     "output_type": "stream",
     "text": [
      "mknb.shape=(24, 24, 24, 19)\n",
      "mnab.shape=(24, 24, 19, 19)\n",
      "mjab.shape=(24, 5, 19, 19)\n",
      "ijab.shape=(5, 5, 19, 19)\n"
     ]
    }
   ],
   "source": [
    "import numpy as np\n",
    "\n",
    "N_O = molecule.number_of_alpha_electrons()\n",
    "N_V = scf_drv.mol_orbs.number_mos() - N_O\n",
    "\n",
    "mknb = np.einsum(\"mknl,lB->mknB\", mknl, C[:, N_O:])\n",
    "print(f\"mknb.shape={mknb.shape}\")\n",
    "mnab = np.einsum(\"mknB,kA->mnAB\", mknb, C[:, N_O:])\n",
    "print(f\"mnab.shape={mnab.shape}\")\n",
    "mjab = np.einsum(\"mnAB,nJ->mJAB\", mnab, C[:, :N_O])\n",
    "print(f\"mjab.shape={mjab.shape}\")\n",
    "ijab = np.einsum(\"mJAB,mI->IJAB\", mjab, C[:, :N_O])\n",
    "print(f\"ijab.shape={ijab.shape}\")"
   ]
  },
  {
   "cell_type": "markdown",
   "id": "dfe71846-d589-4fb2-9ea5-c1a5a9d2eca6",
   "metadata": {
    "editable": true,
    "slideshow": {
     "slide_type": ""
    },
    "tags": []
   },
   "source": [
    "Compare our *OOVV* ERI tensor with the one computed by using `MOIntegralsDriver`:"
   ]
  },
  {
   "cell_type": "code",
   "execution_count": 7,
   "id": "527fad34-ebc8-46f0-a071-eb9440825c9d",
   "metadata": {
    "editable": true,
    "slideshow": {
     "slide_type": ""
    },
    "tags": []
   },
   "outputs": [],
   "source": [
    "moeridrv = vlx.MOIntegralsDriver()\n",
    "moeri = moeridrv.compute_in_memory(\n",
    "    molecule, basis, mol_orbs=scf_drv.mol_orbs, moints_name=\"phys_OOVV\"\n",
    ")\n",
    "\n",
    "np.testing.assert_allclose(ijab, moeri, atol=1.0e-10)"
   ]
  },
  {
   "cell_type": "markdown",
   "id": "d8733e57-8f72-478c-ad7d-cdf7b7a47171",
   "metadata": {
    "editable": true,
    "slideshow": {
     "slide_type": ""
    },
    "tags": []
   },
   "source": [
    "### The MP2 energy correction\n",
    "\n",
    "We now have all the ingredients to compute the opposite-spin and same-spin components of the MP2 energy correction"
   ]
  },
  {
   "cell_type": "code",
   "execution_count": 8,
   "id": "362d922d-7acd-4089-bb89-9b7290a302c8",
   "metadata": {
    "editable": true,
    "slideshow": {
     "slide_type": ""
    },
    "tags": []
   },
   "outputs": [],
   "source": [
    "e_mp2_ss = 0.0\n",
    "e_mp2_os = 0.0\n",
    "\n",
    "# extract the occupied subset of the orbital energies\n",
    "e_ij = E[:N_O]\n",
    "# extract the virtual subset of the orbital energies\n",
    "e_ab = E[N_O:]\n",
    "\n",
    "for i in range(N_O):\n",
    "    for j in range(N_O):\n",
    "        for a in range(N_V):\n",
    "            for b in range(N_V):\n",
    "                # enegy denominators\n",
    "                e_ijab = e_ab[a] + e_ab[b] - e_ij[i] - e_ij[j]\n",
    "\n",
    "                # update opposite-spin component of the energy\n",
    "                e_mp2_os -= (ijab[i, j, a, b] * ijab[i, j, a, b]) / e_ijab\n",
    "\n",
    "                # update same-spin component of the energy\n",
    "                e_mp2_ss -= (\n",
    "                    ijab[i, j, a, b] * (ijab[i, j, a, b] - ijab[i, j, b, a]) / e_ijab\n",
    "                )"
   ]
  },
  {
   "cell_type": "code",
   "execution_count": 9,
   "id": "a218e0b2-0bbc-488f-8f65-89f44b987875",
   "metadata": {
    "editable": true,
    "slideshow": {
     "slide_type": ""
    },
    "tags": []
   },
   "outputs": [
    {
     "name": "stdout",
     "output_type": "stream",
     "text": [
      "Opposite-spin MP2 energy: -0.1516308\n",
      "Same-spin MP2 energy:     -0.0513819\n",
      "MP2 energy:               -0.2030127\n"
     ]
    }
   ],
   "source": [
    "print(f\"Opposite-spin MP2 energy: {e_mp2_os:9.7f}\")\n",
    "print(f\"Same-spin MP2 energy:     {e_mp2_ss:9.7f}\")\n",
    "print(f\"MP2 energy:               {e_mp2_os + e_mp2_ss:9.7f}\")"
   ]
  },
  {
   "cell_type": "markdown",
   "id": "c20477a7-036c-4acd-9201-f60786d94242",
   "metadata": {
    "editable": true,
    "slideshow": {
     "slide_type": ""
    },
    "tags": []
   },
   "source": [
    "Comparing to MP2 implementation in VeloxChem:"
   ]
  },
  {
   "cell_type": "code",
   "execution_count": 10,
   "id": "882e1c4d-b4e0-4e06-a359-c8f338d05bf6",
   "metadata": {
    "editable": true,
    "slideshow": {
     "slide_type": ""
    },
    "tags": []
   },
   "outputs": [],
   "source": [
    "mp2_drv = vlx.Mp2Driver()\n",
    "mp2_drv.ostream.mute()\n",
    "\n",
    "mp2_results = mp2_drv.compute_conventional(molecule, basis, scf_drv.mol_orbs)"
   ]
  },
  {
   "cell_type": "code",
   "execution_count": 11,
   "id": "18284b93-f4a1-4125-bd1b-d9a386338624",
   "metadata": {
    "editable": true,
    "slideshow": {
     "slide_type": ""
    },
    "tags": []
   },
   "outputs": [
    {
     "name": "stdout",
     "output_type": "stream",
     "text": [
      "Energy difference: 1.11E-16\n"
     ]
    }
   ],
   "source": [
    "print(f\"Energy difference: {e_mp2_os + e_mp2_ss - mp2_results['mp2_energy']:8.2E}\")"
   ]
  },
  {
   "cell_type": "markdown",
   "id": "e63fce48-190a-4731-a523-6f9c4bbddb25",
   "metadata": {
    "editable": true,
    "slideshow": {
     "slide_type": ""
    },
    "tags": []
   },
   "source": [
    "(sec:mp2-size-consistency)=\n",
    "## Size consistency\n",
    "\n",
    "We see that to second order, Møller-Plesset perturbation theory only involves up to double excitations from the HF reference. It would thus be natural to consider it an approximation to CISD, and expect it to suffer from the same issue, namely a lack of size consistency. Yet this is not the case:"
   ]
  },
  {
   "cell_type": "code",
   "execution_count": 12,
   "id": "8ec95944-aeea-40ff-bede-486931ca371d",
   "metadata": {
    "editable": true,
    "scrolled": true,
    "slideshow": {
     "slide_type": ""
    },
    "tags": []
   },
   "outputs": [],
   "source": [
    "dimer_xyz = \"\"\"6\n",
    "2 water 100 Å apart                                                                                                            \n",
    "O    0.000000000000        0.000000000000        0.000000000000                         \n",
    "H    0.000000000000        0.740848095288        0.582094932012                         \n",
    "H    0.000000000000       -0.740848095288        0.582094932012\n",
    "O  100.000000000000        0.000000000000        0.000000000000                         \n",
    "H  100.000000000000        0.740848095288        0.582094932012                         \n",
    "H  100.000000000000       -0.740848095288        0.582094932012\n",
    "\"\"\"\n",
    "\n",
    "molecule = vlx.Molecule.read_xyz_string(dimer_xyz)\n",
    "basis = vlx.MolecularBasis.read(molecule, \"cc-pvdz\", ostream=None)"
   ]
  },
  {
   "cell_type": "code",
   "execution_count": 13,
   "id": "003fcfa9-eae7-4069-953c-e139e0c2c8f3",
   "metadata": {
    "editable": true,
    "slideshow": {
     "slide_type": ""
    },
    "tags": []
   },
   "outputs": [
    {
     "data": {
      "application/3dmoljs_load.v0": "<div id=\"3dmolviewer_1705774287749202\"  style=\"position: relative; width: 400px; height: 300px;\">\n        <p id=\"3dmolwarning_1705774287749202\" style=\"background-color:#ffcccc;color:black\">You appear to be running in JupyterLab (or JavaScript failed to load for some other reason).  You need to install the 3dmol extension: <br>\n        <tt>jupyter labextension install jupyterlab_3dmol</tt></p>\n        </div>\n<script>\n\nvar loadScriptAsync = function(uri){\n  return new Promise((resolve, reject) => {\n    //this is to ignore the existence of requirejs amd\n    var savedexports, savedmodule;\n    if (typeof exports !== 'undefined') savedexports = exports;\n    else exports = {}\n    if (typeof module !== 'undefined') savedmodule = module;\n    else module = {}\n\n    var tag = document.createElement('script');\n    tag.src = uri;\n    tag.async = true;\n    tag.onload = () => {\n        exports = savedexports;\n        module = savedmodule;\n        resolve();\n    };\n  var firstScriptTag = document.getElementsByTagName('script')[0];\n  firstScriptTag.parentNode.insertBefore(tag, firstScriptTag);\n});\n};\n\nif(typeof $3Dmolpromise === 'undefined') {\n$3Dmolpromise = null;\n  $3Dmolpromise = loadScriptAsync('https://cdnjs.cloudflare.com/ajax/libs/3Dmol/2.0.4/3Dmol-min.js');\n}\n\nvar viewer_1705774287749202 = null;\nvar warn = document.getElementById(\"3dmolwarning_1705774287749202\");\nif(warn) {\n    warn.parentNode.removeChild(warn);\n}\n$3Dmolpromise.then(function() {\nviewer_1705774287749202 = $3Dmol.createViewer(document.getElementById(\"3dmolviewer_1705774287749202\"),{backgroundColor:\"white\"});\nviewer_1705774287749202.zoomTo();\n\tviewer_1705774287749202.addModel(\"6\\n\\nO              0.000000000000         0.000000000000         0.000000000000\\nH              0.000000000000         0.740848095288         0.582094932012\\nH              0.000000000000        -0.740848095288         0.582094932012\\nO            100.000000000000         0.000000000000         0.000000000000\\nH            100.000000000000         0.740848095288         0.582094932012\\nH            100.000000000000        -0.740848095288         0.582094932012\\n\");\n\tviewer_1705774287749202.setViewStyle({\"style\": \"outline\", \"width\": 0.05});\n\tviewer_1705774287749202.setStyle({\"stick\": {}, \"sphere\": {\"scale\": 0.25}});\n\tviewer_1705774287749202.zoomTo();\nviewer_1705774287749202.render();\n});\n</script>",
      "text/html": [
       "<div id=\"3dmolviewer_1705774287749202\"  style=\"position: relative; width: 400px; height: 300px;\">\n",
       "        <p id=\"3dmolwarning_1705774287749202\" style=\"background-color:#ffcccc;color:black\">You appear to be running in JupyterLab (or JavaScript failed to load for some other reason).  You need to install the 3dmol extension: <br>\n",
       "        <tt>jupyter labextension install jupyterlab_3dmol</tt></p>\n",
       "        </div>\n",
       "<script>\n",
       "\n",
       "var loadScriptAsync = function(uri){\n",
       "  return new Promise((resolve, reject) => {\n",
       "    //this is to ignore the existence of requirejs amd\n",
       "    var savedexports, savedmodule;\n",
       "    if (typeof exports !== 'undefined') savedexports = exports;\n",
       "    else exports = {}\n",
       "    if (typeof module !== 'undefined') savedmodule = module;\n",
       "    else module = {}\n",
       "\n",
       "    var tag = document.createElement('script');\n",
       "    tag.src = uri;\n",
       "    tag.async = true;\n",
       "    tag.onload = () => {\n",
       "        exports = savedexports;\n",
       "        module = savedmodule;\n",
       "        resolve();\n",
       "    };\n",
       "  var firstScriptTag = document.getElementsByTagName('script')[0];\n",
       "  firstScriptTag.parentNode.insertBefore(tag, firstScriptTag);\n",
       "});\n",
       "};\n",
       "\n",
       "if(typeof $3Dmolpromise === 'undefined') {\n",
       "$3Dmolpromise = null;\n",
       "  $3Dmolpromise = loadScriptAsync('https://cdnjs.cloudflare.com/ajax/libs/3Dmol/2.0.4/3Dmol-min.js');\n",
       "}\n",
       "\n",
       "var viewer_1705774287749202 = null;\n",
       "var warn = document.getElementById(\"3dmolwarning_1705774287749202\");\n",
       "if(warn) {\n",
       "    warn.parentNode.removeChild(warn);\n",
       "}\n",
       "$3Dmolpromise.then(function() {\n",
       "viewer_1705774287749202 = $3Dmol.createViewer(document.getElementById(\"3dmolviewer_1705774287749202\"),{backgroundColor:\"white\"});\n",
       "viewer_1705774287749202.zoomTo();\n",
       "\tviewer_1705774287749202.addModel(\"6\\n\\nO              0.000000000000         0.000000000000         0.000000000000\\nH              0.000000000000         0.740848095288         0.582094932012\\nH              0.000000000000        -0.740848095288         0.582094932012\\nO            100.000000000000         0.000000000000         0.000000000000\\nH            100.000000000000         0.740848095288         0.582094932012\\nH            100.000000000000        -0.740848095288         0.582094932012\\n\");\n",
       "\tviewer_1705774287749202.setViewStyle({\"style\": \"outline\", \"width\": 0.05});\n",
       "\tviewer_1705774287749202.setStyle({\"stick\": {}, \"sphere\": {\"scale\": 0.25}});\n",
       "\tviewer_1705774287749202.zoomTo();\n",
       "viewer_1705774287749202.render();\n",
       "});\n",
       "</script>"
      ]
     },
     "metadata": {},
     "output_type": "display_data"
    }
   ],
   "source": [
    "molecule.show()"
   ]
  },
  {
   "cell_type": "code",
   "execution_count": 14,
   "id": "7787218b-9ed0-404b-88b3-1fa6a7772370",
   "metadata": {
    "editable": true,
    "scrolled": true,
    "slideshow": {
     "slide_type": ""
    },
    "tags": [
     "remove-output"
    ]
   },
   "outputs": [],
   "source": [
    "scf_drv = vlx.ScfRestrictedDriver()\n",
    "scf_drv.ostream.mute()\n",
    "\n",
    "scf_results = scf_drv.compute(molecule, basis)"
   ]
  },
  {
   "cell_type": "code",
   "execution_count": 15,
   "id": "088770de-eb88-4ef2-8af3-711102a63302",
   "metadata": {
    "editable": true,
    "scrolled": true,
    "slideshow": {
     "slide_type": ""
    },
    "tags": [
     "remove-output"
    ]
   },
   "outputs": [],
   "source": [
    "mp2_dimer_results = mp2_drv.compute_conventional(molecule, basis, scf_drv.mol_orbs)"
   ]
  },
  {
   "cell_type": "code",
   "execution_count": 16,
   "id": "9fc69f17-a9ad-42cc-a73f-b9441b638a5f",
   "metadata": {
    "editable": true,
    "slideshow": {
     "slide_type": ""
    },
    "tags": []
   },
   "outputs": [
    {
     "name": "stdout",
     "output_type": "stream",
     "text": [
      "==============================\n",
      "MP2 energies\n",
      "------------------------------\n",
      "Dimer       :    -0.4060254140\n",
      "Two monomers:    -0.4060254051\n",
      "==============================\n"
     ]
    }
   ],
   "source": [
    "print(\"=\" * 30)\n",
    "print(\"MP2 energies\")\n",
    "print(\"-\" * 30)\n",
    "print(f\"Dimer       : {mp2_dimer_results['mp2_energy']:16.10f}\")\n",
    "print(f\"Two monomers: {2 * mp2_results['mp2_energy']:16.10f}\")\n",
    "print(\"=\" * 30)"
   ]
  },
  {
   "cell_type": "markdown",
   "id": "ecea7964-1460-4173-9a36-917c69543e48",
   "metadata": {
    "editable": true,
    "slideshow": {
     "slide_type": ""
    },
    "tags": []
   },
   "source": [
    "We can see that the two energies match. MP2 is size consistent! So why is it behaving better than CISD in this aspect?\n",
    "\n",
    "The key is that in MP2, the coefficients of the excited determinants are independent of the system size. Thus a molecule would have the same MP2 energy correction regardless of the presence or not of another, non-interacting, molecule. By contrast, in CISD, the coefficients depend on the system size through normalization, lowering the weight of these determinants as the size of the system increases."
   ]
  },
  {
   "cell_type": "markdown",
   "id": "29213b17",
   "metadata": {
    "editable": true,
    "slideshow": {
     "slide_type": ""
    },
    "tags": []
   },
   "source": [
    "(sec:mp2-taylor)=\n",
    "## Taylor expansion of the energy\n",
    "\n",
    "In using [Rayleigh--Schrödinger perturbation theory](pt) (RSPT), it is a common practice to use an expansion in the perturbation strength $\\lambda$, with $\\hat{H} = \\hat{H_0} + \\lambda \\hat{V}$. Each order of perturbation then corresponds to a power of $\\lambda$\n",
    "\n",
    "$$\n",
    "E = E^{0} + \\lambda E^{1} + \\lambda^2 E^{2} + ...\n",
    "$$\n",
    "\n",
    "The RSPT equations are then simply found by collecting together equal powers of $\\lambda$ and at the end, $\\lambda$ is set to 1.0 to recover the standard Hamiltonian. With this framework, it is easy to see how RSPT is related to Taylor expansions. In this section, we will make this link more explicit.\n",
    "\n",
    "Let's explicitly create these Hamiltonian and compute the exact energy for different values of $\\lambda$ using the CI driver. First let us recompute the energy with a minimal basis."
   ]
  },
  {
   "cell_type": "code",
   "execution_count": 17,
   "id": "41dac91a",
   "metadata": {
    "editable": true,
    "scrolled": true,
    "slideshow": {
     "slide_type": ""
    },
    "tags": []
   },
   "outputs": [],
   "source": [
    "molecule = vlx.Molecule.read_xyz_string(h2o_xyz)\n",
    "basis = vlx.MolecularBasis.read(molecule, \"sto-3g\", ostream=None)\n",
    "\n",
    "scf_drv = vlx.ScfRestrictedDriver()\n",
    "scf_drv.ostream.mute()\n",
    "\n",
    "scf_results = scf_drv.compute(molecule, basis)\n",
    "\n",
    "E = scf_results[\"E\"]\n",
    "C = scf_results[\"C\"]"
   ]
  },
  {
   "cell_type": "markdown",
   "id": "e2695fb1",
   "metadata": {
    "editable": true,
    "slideshow": {
     "slide_type": ""
    },
    "tags": []
   },
   "source": [
    "Now let's create $\\hat{H_0} = \\hat{F}$ and $\\hat{V}$ in molecular orbital basis. $\\hat{F}$ is a one-electron Hamiltonian while for $\\hat{V}$ we need both the one and two-electron components."
   ]
  },
  {
   "cell_type": "code",
   "execution_count": 18,
   "id": "d1436594",
   "metadata": {
    "editable": true,
    "slideshow": {
     "slide_type": ""
    },
    "tags": []
   },
   "outputs": [],
   "source": [
    "F = scf_results[\"F\"][0]  # Fock matrix from SCF\n",
    "F_MO = np.matmul(np.matmul(C.T, F), C)\n",
    "\n",
    "# Get the 1-electron integrals\n",
    "kin_drv = vlx.KineticEnergyIntegralsDriver()\n",
    "T_ao = kin_drv.compute(molecule, basis).to_numpy()\n",
    "npot_drv = vlx.NuclearPotentialIntegralsDriver()\n",
    "V_ao = -npot_drv.compute(molecule, basis).to_numpy()\n",
    "\n",
    "# core Hamiltonian\n",
    "h_MO = np.einsum(\"ai, ab, bj -> ij\", C, T_ao + V_ao, C)\n",
    "\n",
    "# Compute the 2-electron integrals\n",
    "naos = V_ao.shape[0]\n",
    "eridrv = vlx.ElectronRepulsionIntegralsDriver()\n",
    "mknl = np.zeros((naos, naos, naos, naos))\n",
    "eridrv.compute_in_memory(molecule, basis, mknl)\n",
    "\n",
    "# Transform them to the (full) MO basis\n",
    "mknb = np.einsum(\"mknl,lB->mknB\", mknl, C)\n",
    "mnab = np.einsum(\"mknB,nA->mkAB\", mknb, C)\n",
    "mjab = np.einsum(\"mkAB,kJ->mJAB\", mnab, C)\n",
    "ijab = np.einsum(\"mJAB,mI->IJAB\", mjab, C)\n",
    "\n",
    "H0_1 = F_MO\n",
    "V_1 = h_MO - F_MO\n",
    "V_2 = ijab"
   ]
  },
  {
   "cell_type": "markdown",
   "id": "e429ff6c",
   "metadata": {
    "editable": true,
    "slideshow": {
     "slide_type": ""
    },
    "tags": []
   },
   "source": [
    "Solving the CI for increasing values of $\\lambda$:"
   ]
  },
  {
   "cell_type": "code",
   "execution_count": 19,
   "id": "47b91a17",
   "metadata": {
    "editable": true,
    "scrolled": true,
    "slideshow": {
     "slide_type": ""
    },
    "tags": []
   },
   "outputs": [],
   "source": [
    "import multipsi as mtp\n",
    "\n",
    "npoints = 21\n",
    "\n",
    "ci_drv = mtp.CIDriver()\n",
    "ci_drv.ostream.mute()\n",
    "\n",
    "space = mtp.OrbSpace(molecule, scf_drv.mol_orbs)\n",
    "space.fci()\n",
    "\n",
    "energies = []\n",
    "for i in range(npoints):\n",
    "    lambda_val = i / (npoints - 1)\n",
    "    ci_drv._update_integrals(\n",
    "        molecule.nuclear_repulsion_energy(), H0_1 + lambda_val * V_1, lambda_val * V_2\n",
    "    )\n",
    "    ci_results = ci_drv.compute(molecule, basis, space, 1)\n",
    "    energies.append(ci_drv.get_energy())"
   ]
  },
  {
   "cell_type": "code",
   "execution_count": 20,
   "id": "c52ae126",
   "metadata": {
    "editable": true,
    "slideshow": {
     "slide_type": ""
    },
    "tags": []
   },
   "outputs": [
    {
     "data": {
      "image/png": "[encoded data removed]",
      "text/plain": [
       "<Figure size 600x400 with 1 Axes>"
      ]
     },
     "metadata": {},
     "output_type": "display_data"
    }
   ],
   "source": [
    "import matplotlib.pyplot as plt\n",
    "\n",
    "plt.figure(figsize=(6, 4))\n",
    "plt.title(\"Energy as a function of $\\lambda$\")\n",
    "x = np.array(range(npoints)) / (npoints - 1)\n",
    "y = np.array(energies)\n",
    "plt.plot(x, y, label=\"Energy\")\n",
    "\n",
    "plt.xlabel(\"Lambda\")\n",
    "plt.ylabel(\"Energy (Ha)\")\n",
    "plt.legend()\n",
    "plt.tight_layout()\n",
    "plt.show()"
   ]
  },
  {
   "cell_type": "markdown",
   "id": "9a3aecbb",
   "metadata": {
    "editable": true,
    "slideshow": {
     "slide_type": ""
    },
    "tags": []
   },
   "source": [
    "Before going further, we notice that the energy does not start at the HF energy (-74.96033 Ha) but a much higher one. This is because the Fock Hamiltonian gives not the HF energy but twice the sum of orbital energies (+ the nuclear repulsion)."
   ]
  },
  {
   "cell_type": "code",
   "execution_count": 21,
   "id": "69d1357e",
   "metadata": {
    "editable": true,
    "slideshow": {
     "slide_type": ""
    },
    "tags": []
   },
   "outputs": [
    {
     "name": "stdout",
     "output_type": "stream",
     "text": [
      "Sum of orbital energies : -36.642187\n",
      "Energy for lambda = 0   : -36.642186\n"
     ]
    }
   ],
   "source": [
    "N = molecule.number_of_alpha_electrons()\n",
    "print(\n",
    "    f\"Sum of orbital energies : {2*np.sum(E[:N]) + molecule.nuclear_repulsion_energy():9.6f}\"\n",
    ")\n",
    "print(f\"Energy for lambda = 0   : {energies[0]:9.6f}\")"
   ]
  },
  {
   "cell_type": "markdown",
   "id": "15313c1c",
   "metadata": {
    "editable": true,
    "slideshow": {
     "slide_type": ""
    },
    "tags": []
   },
   "source": [
    "With this parenthesis being closed, the concept of RSPT in this Taylor framework is to find the best approximation of the energy at $\\lambda = 1$ (which is our exact full CI energy) using only quantities that are available in the easier $\\lambda = 0$ Hamiltonian. For this we try to fit the curve above with a Taylor expansion at $\\lambda = 0$. We immediately notice that the curve looks almost like a straight line, implying that we may get already a good approximation with just the gradient.\n",
    "\n",
    "For demonstration purpose, let us compute these gradients numerically by fitting the curve above for very small values of $\\lambda = 0$."
   ]
  },
  {
   "cell_type": "code",
   "execution_count": 22,
   "id": "80333a9c",
   "metadata": {
    "editable": true,
    "scrolled": true,
    "slideshow": {
     "slide_type": ""
    },
    "tags": [
     "remove-output"
    ]
   },
   "outputs": [],
   "source": [
    "increment = 0.001\n",
    "small_energies = []\n",
    "for i in range(3):\n",
    "    lambda_val = i * increment\n",
    "    ci_drv._update_integrals(\n",
    "        molecule.nuclear_repulsion_energy(), H0_1 + lambda_val * V_1, lambda_val * V_2\n",
    "    )\n",
    "    ci_results = ci_drv.compute(molecule, basis, space, 1)\n",
    "    small_energies.append(ci_drv.get_energy())"
   ]
  },
  {
   "cell_type": "code",
   "execution_count": 23,
   "id": "b317fc89",
   "metadata": {
    "editable": true,
    "slideshow": {
     "slide_type": ""
    },
    "tags": [
     "remove-output"
    ]
   },
   "outputs": [
    {
     "name": "stdout",
     "output_type": "stream",
     "text": [
      "SCF energy       : -74.960337\n",
      "0th order energy : -36.642186\n",
      "1st order energy : -74.960371\n"
     ]
    }
   ],
   "source": [
    "# Compute first derivative from the first point\n",
    "First_deriv = (small_energies[1] - small_energies[0]) / increment\n",
    "print(f\"SCF energy       : {scf_drv.get_scf_energy():9.6f}\")\n",
    "print(f\"0th order energy : {small_energies[0]:9.6f}\")\n",
    "print(f\"1st order energy : {small_energies[0] + First_deriv:9.6f}\")"
   ]
  },
  {
   "cell_type": "markdown",
   "id": "023c9b8f",
   "metadata": {
    "editable": true,
    "slideshow": {
     "slide_type": ""
    },
    "tags": []
   },
   "source": [
    "We see that the first derivative is actually the difference between the HF energy and the sum of orbital energies. Thus when extrapolating to $\\lambda = 1$, we get back the HF energy (apart for numerical errors). This fits exactly what we had found above, namely that the Hartree-Fock energy is the sum of the zeroth and first order MP energies.\n",
    "\n",
    "Let's now see the difference between the previously computed energy and the first order approximation of it to properly visualize the contributions from higher order (and thus the correlation energy). Then let's fit the 3 points we got for small values of $\\lambda$ to a second order polynomial."
   ]
  },
  {
   "cell_type": "code",
   "execution_count": 24,
   "id": "8462c0dd",
   "metadata": {
    "editable": true,
    "slideshow": {
     "slide_type": ""
    },
    "tags": []
   },
   "outputs": [
    {
     "data": {
      "image/png": "[encoded data removed]",
      "text/plain": [
       "<Figure size 600x400 with 1 Axes>"
      ]
     },
     "metadata": {},
     "output_type": "display_data"
    }
   ],
   "source": [
    "plt.figure(figsize=(6, 4))\n",
    "plt.title(\"Correlation as a function of $\\lambda$\")\n",
    "x = np.array(range(npoints)) / (npoints - 1)\n",
    "y = np.array(energies) - (energies[0] + x * First_deriv)\n",
    "plt.plot(x, y, label=\"Higher order terms\")\n",
    "plt.xlabel(\"Lambda\")\n",
    "plt.legend()\n",
    "plt.tight_layout()\n",
    "plt.show()"
   ]
  },
  {
   "cell_type": "code",
   "execution_count": 25,
   "id": "e11c36df",
   "metadata": {
    "editable": true,
    "slideshow": {
     "slide_type": ""
    },
    "tags": []
   },
   "outputs": [
    {
     "name": "stdout",
     "output_type": "stream",
     "text": [
      "0th order term : -36.642186\n",
      "linear term    : -38.318151\n",
      "0th + 1st order: -74.960337\n",
      "quadratic term :  -0.034393\n"
     ]
    }
   ],
   "source": [
    "coefs = np.polyfit(np.array([0, increment, 2 * increment]), np.array(small_energies), 2)\n",
    "E0 = coefs[2]\n",
    "E1 = coefs[1]\n",
    "E2 = coefs[0]\n",
    "\n",
    "print(f\"0th order term : {E0:9.6f}\")\n",
    "print(f\"linear term    : {E1:9.6f}\")\n",
    "print(f\"0th + 1st order: {E0 + E1:9.6f}\")\n",
    "print(f\"quadratic term :  {E2:9.6f}\")"
   ]
  },
  {
   "cell_type": "code",
   "execution_count": 33,
   "id": "f3bbc84d",
   "metadata": {
    "editable": true,
    "slideshow": {
     "slide_type": ""
    },
    "tags": []
   },
   "outputs": [
    {
     "data": {
      "image/png": "[encoded data removed]",
      "text/plain": [
       "<Figure size 600x400 with 1 Axes>"
      ]
     },
     "metadata": {},
     "output_type": "display_data"
    }
   ],
   "source": [
    "plt.figure(figsize=(6, 4))\n",
    "\n",
    "x = np.array(range(npoints)) / (npoints - 1)\n",
    "y = np.array(energies) - (E0 + x * E1)\n",
    "z = E2 * x**2\n",
    "\n",
    "plt.plot(x, y, label=\"Higher order energy\")\n",
    "plt.plot(x, z, label=\"2nd order term\")\n",
    "\n",
    "plt.title(\"Progressive correlation\")\n",
    "plt.xlabel(\"Lambda\")\n",
    "\n",
    "plt.legend()\n",
    "\n",
    "plt.tight_layout()\n",
    "\n",
    "plt.show()"
   ]
  },
  {
   "cell_type": "markdown",
   "id": "0efd7ea2",
   "metadata": {
    "editable": true,
    "slideshow": {
     "slide_type": ""
    },
    "tags": []
   },
   "source": [
    "With the second order term, we recover a decent fraction of the missing energy (i.e. of the correlation energy). Note that this what we printed here is the coefficient in front of the quadratic term, not the second derivative, the two differ by a factor of 2. However, this term can be directly compared to the MP2 energy and we see that they indeed match:"
   ]
  },
  {
   "cell_type": "code",
   "execution_count": 27,
   "id": "61b8eb43",
   "metadata": {
    "editable": true,
    "slideshow": {
     "slide_type": ""
    },
    "tags": [
     "remove-output"
    ]
   },
   "outputs": [],
   "source": [
    "mp2_results = mp2_drv.compute(molecule, basis, scf_drv.mol_orbs)"
   ]
  },
  {
   "cell_type": "code",
   "execution_count": 28,
   "id": "b3e9af64-01fb-4485-aedd-0403395d3ab6",
   "metadata": {
    "editable": true,
    "slideshow": {
     "slide_type": ""
    },
    "tags": []
   },
   "outputs": [
    {
     "name": "stdout",
     "output_type": "stream",
     "text": [
      "MP2 energy    : -0.034401\n",
      "Quadratic term: -0.034393\n"
     ]
    }
   ],
   "source": [
    "print(f\"MP2 energy    :{mp2_results['mp2_energy']:10.6f}\")\n",
    "print(f\"Quadratic term:{E2:10.6f}\")"
   ]
  },
  {
   "cell_type": "markdown",
   "id": "f879e602",
   "metadata": {
    "editable": true,
    "slideshow": {
     "slide_type": ""
    },
    "tags": []
   },
   "source": [
    "With this little exercise, we have clearly illustrated how the MP expansion is simply a Taylor expansion of the fullCI energy for $\\lambda = 0$. In other words, it is an attempt to recover as much as possible from the energy of the true Hamiltonian by using a Taylor expansion of the energy at a much simpler Hamiltonian."
   ]
  }
 ],
 "metadata": {
  "celltoolbar": "Tags",
  "kernelspec": {
   "display_name": "Python 3 (ipykernel)",
   "language": "python",
   "name": "python3"
  },
  "language_info": {
   "codemirror_mode": {
    "name": "ipython",
    "version": 3
   },
   "file_extension": ".py",
   "mimetype": "text/x-python",
   "name": "python",
   "nbconvert_exporter": "python",
   "pygments_lexer": "ipython3",
   "version": "3.11.7"
  }
 },
 "nbformat": 4,
 "nbformat_minor": 5
}
