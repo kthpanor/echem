{
 "cells": [
  {
   "cell_type": "markdown",
   "id": "a2dcd883",
   "metadata": {},
   "source": [
    "# Exercises\n",
    "\n",
    "In this exercise we will look at how substitution affects the vibrational frequencies, IR, and Raman spectra."
   ]
  },
  {
   "cell_type": "code",
   "execution_count": 1,
   "id": "baee4409-9dcc-4bc2-82a8-9bb9b66a11dd",
   "metadata": {},
   "outputs": [
    {
     "name": "stdout",
     "output_type": "stream",
     "text": [
      "* Warning * Environment variable OMP_NUM_THREADS not set.\n",
      "* Warning * Setting OMP_NUM_THREADS to 4.\n",
      "* Warning * Setting MKL_THREADING_LAYER to \"GNU\".\n"
     ]
    }
   ],
   "source": [
    "# import section\n",
    "import veloxchem as vlx\n",
    "import py3Dmol as p3d\n",
    "from veloxchem.veloxchemlib import bohr_in_angstroms\n",
    "from matplotlib import pyplot as plt\n",
    "import numpy as np\n",
    "from veloxchem.veloxchemlib import bohr_in_angstroms\n",
    "\n",
    "basis_set_label = \"6-31G\""
   ]
  },
  {
   "cell_type": "code",
   "execution_count": 2,
   "id": "86487e18-5a12-4b99-908a-06abf595bee3",
   "metadata": {},
   "outputs": [],
   "source": [
    "# define molecules and basis sets\n",
    "ethene_xyz = \"\"\"6\n",
    " ethene\n",
    " C          0.000000    -0.663984   0.000000\n",
    " C          0.000000     0.663984   0.000000\n",
    " H          0.919796    -1.223061   0.000000\n",
    " H         -0.919796    -1.223061   0.000000\n",
    " H          0.919796     1.223061   0.000000\n",
    " H         -0.919796     1.223061   0.000000\n",
    "\"\"\"\n",
    "ethene = vlx.Molecule.from_xyz_string(ethene_xyz)\n",
    "ethene_basis = vlx.MolecularBasis.read(ethene, basis_set_label)"
   ]
  },
  {
   "cell_type": "code",
   "execution_count": 3,
   "id": "cf171cf2-4ac8-4d88-8ea4-64fe30c51a35",
   "metadata": {},
   "outputs": [],
   "source": [
    "fluoroethene_xyz = \"\"\"6\n",
    "fluoroethene\n",
    " C          0.000000    -0.663984   0.000000\n",
    " C          0.000000     0.663984   0.000000\n",
    " F         1.519796    -1.223061   0.000000\n",
    " H         -0.919796    -1.223061   0.000000\n",
    " H          0.919796     1.223061   0.000000\n",
    " H         -0.919796     1.223061   0.000000\n",
    " \"\"\"\n",
    "fluoroethene = vlx.Molecule.from_xyz_string(fluoroethene_xyz)\n",
    "fluoroethene_basis = vlx.MolecularBasis.read(fluoroethene, basis_set_label)"
   ]
  },
  {
   "cell_type": "code",
   "execution_count": 4,
   "id": "dbb571de-2588-41c8-b780-fa472d7fc6da",
   "metadata": {},
   "outputs": [],
   "source": [
    "chloroethene_xyz = \"\"\"6\n",
    "chloroethene\n",
    " C          0.000000    -0.663984   0.000000\n",
    " C          0.000000     0.663984   0.000000\n",
    " Cl         1.519796    -1.223061   0.000000\n",
    " H         -0.919796    -1.223061   0.000000\n",
    " H          0.919796     1.223061   0.000000\n",
    " H         -0.919796     1.223061   0.000000\n",
    " \"\"\"\n",
    "chloroethene = vlx.Molecule.from_xyz_string(chloroethene_xyz)\n",
    "chloroethene_basis = vlx.MolecularBasis.read(chloroethene, basis_set_label)"
   ]
  },
  {
   "cell_type": "code",
   "execution_count": 5,
   "id": "3e52c946-a62d-4f9a-852a-6560922d4717",
   "metadata": {},
   "outputs": [
    {
     "data": {
      "application/3dmoljs_load.v0": "<div id=\"3dmolviewer_16542568174839892\"  style=\"position: relative; width: 700px; height: 200px\">\n        <p id=\"3dmolwarning_16542568174839892\" style=\"background-color:#ffcccc;color:black\">You appear to be running in JupyterLab (or JavaScript failed to load for some other reason).  You need to install the 3dmol extension: <br>\n        <tt>jupyter labextension install jupyterlab_3dmol</tt></p>\n        </div>\n<script>\n\nvar loadScriptAsync = function(uri){\n  return new Promise((resolve, reject) => {\n    var tag = document.createElement('script');\n    tag.src = uri;\n    tag.async = true;\n    tag.onload = () => {\n      resolve();\n    };\n  var firstScriptTag = document.getElementsByTagName('script')[0];\n  firstScriptTag.parentNode.insertBefore(tag, firstScriptTag);\n});\n};\n\nif(typeof $3Dmolpromise === 'undefined') {\n$3Dmolpromise = null;\n  $3Dmolpromise = loadScriptAsync('https://3dmol.org/build/3Dmol.js');\n}\n\nvar viewer_16542568174839892 = null;\nvar warn = document.getElementById(\"3dmolwarning_16542568174839892\");\nif(warn) {\n    warn.parentNode.removeChild(warn);\n}\n$3Dmolpromise.then(function() {\nvar viewergrid_16542568174839892 = null;\nviewergrid_16542568174839892 = $3Dmol.createViewerGrid($(\"#3dmolviewer_16542568174839892\"),{rows: 1, cols: 3, control_all: true},{backgroundColor:\"white\"});\nviewer_16542568174839892 = viewergrid_16542568174839892[0][0];\nviewergrid_16542568174839892[0][0].zoomTo();viewergrid_16542568174839892[0][1].zoomTo();viewergrid_16542568174839892[0][2].zoomTo();\tviewergrid_16542568174839892[0][0].addModel(\"6\\n ethene\\n C          0.000000    -0.663984   0.000000\\n C          0.000000     0.663984   0.000000\\n H          0.919796    -1.223061   0.000000\\n H         -0.919796    -1.223061   0.000000\\n H          0.919796     1.223061   0.000000\\n H         -0.919796     1.223061   0.000000\\n\",\"xyz\");\n\tviewergrid_16542568174839892[0][1].addModel(\"6\\nfluoroethene\\n C          0.000000    -0.663984   0.000000\\n C          0.000000     0.663984   0.000000\\n F         1.519796    -1.223061   0.000000\\n H         -0.919796    -1.223061   0.000000\\n H          0.919796     1.223061   0.000000\\n H         -0.919796     1.223061   0.000000\\n \",\"xyz\");\n\tviewergrid_16542568174839892[0][2].addModel(\"6\\nchloroethene\\n C          0.000000    -0.663984   0.000000\\n C          0.000000     0.663984   0.000000\\n Cl         1.519796    -1.223061   0.000000\\n H         -0.919796    -1.223061   0.000000\\n H          0.919796     1.223061   0.000000\\n H         -0.919796     1.223061   0.000000\\n \",\"xyz\");\n\tviewergrid_16542568174839892[0][0].setStyle({\"stick\": {}});\n\tviewergrid_16542568174839892[0][1].setStyle({\"stick\": {}});\n\tviewergrid_16542568174839892[0][2].setStyle({\"stick\": {}});\n\tviewergrid_16542568174839892[0][0].zoomTo();\n\tviewergrid_16542568174839892[0][1].zoomTo();\n\tviewergrid_16542568174839892[0][2].zoomTo();\nviewergrid_16542568174839892[0][2].render();\nviewergrid_16542568174839892[0][1].render();\nviewergrid_16542568174839892[0][0].render();\n});\n</script>",
      "text/html": [
       "<div id=\"3dmolviewer_16542568174839892\"  style=\"position: relative; width: 700px; height: 200px\">\n",
       "        <p id=\"3dmolwarning_16542568174839892\" style=\"background-color:#ffcccc;color:black\">You appear to be running in JupyterLab (or JavaScript failed to load for some other reason).  You need to install the 3dmol extension: <br>\n",
       "        <tt>jupyter labextension install jupyterlab_3dmol</tt></p>\n",
       "        </div>\n",
       "<script>\n",
       "\n",
       "var loadScriptAsync = function(uri){\n",
       "  return new Promise((resolve, reject) => {\n",
       "    var tag = document.createElement('script');\n",
       "    tag.src = uri;\n",
       "    tag.async = true;\n",
       "    tag.onload = () => {\n",
       "      resolve();\n",
       "    };\n",
       "  var firstScriptTag = document.getElementsByTagName('script')[0];\n",
       "  firstScriptTag.parentNode.insertBefore(tag, firstScriptTag);\n",
       "});\n",
       "};\n",
       "\n",
       "if(typeof $3Dmolpromise === 'undefined') {\n",
       "$3Dmolpromise = null;\n",
       "  $3Dmolpromise = loadScriptAsync('https://3dmol.org/build/3Dmol.js');\n",
       "}\n",
       "\n",
       "var viewer_16542568174839892 = null;\n",
       "var warn = document.getElementById(\"3dmolwarning_16542568174839892\");\n",
       "if(warn) {\n",
       "    warn.parentNode.removeChild(warn);\n",
       "}\n",
       "$3Dmolpromise.then(function() {\n",
       "var viewergrid_16542568174839892 = null;\n",
       "viewergrid_16542568174839892 = $3Dmol.createViewerGrid($(\"#3dmolviewer_16542568174839892\"),{rows: 1, cols: 3, control_all: true},{backgroundColor:\"white\"});\n",
       "viewer_16542568174839892 = viewergrid_16542568174839892[0][0];\n",
       "viewergrid_16542568174839892[0][0].zoomTo();viewergrid_16542568174839892[0][1].zoomTo();viewergrid_16542568174839892[0][2].zoomTo();\tviewergrid_16542568174839892[0][0].addModel(\"6\\n ethene\\n C          0.000000    -0.663984   0.000000\\n C          0.000000     0.663984   0.000000\\n H          0.919796    -1.223061   0.000000\\n H         -0.919796    -1.223061   0.000000\\n H          0.919796     1.223061   0.000000\\n H         -0.919796     1.223061   0.000000\\n\",\"xyz\");\n",
       "\tviewergrid_16542568174839892[0][1].addModel(\"6\\nfluoroethene\\n C          0.000000    -0.663984   0.000000\\n C          0.000000     0.663984   0.000000\\n F         1.519796    -1.223061   0.000000\\n H         -0.919796    -1.223061   0.000000\\n H          0.919796     1.223061   0.000000\\n H         -0.919796     1.223061   0.000000\\n \",\"xyz\");\n",
       "\tviewergrid_16542568174839892[0][2].addModel(\"6\\nchloroethene\\n C          0.000000    -0.663984   0.000000\\n C          0.000000     0.663984   0.000000\\n Cl         1.519796    -1.223061   0.000000\\n H         -0.919796    -1.223061   0.000000\\n H          0.919796     1.223061   0.000000\\n H         -0.919796     1.223061   0.000000\\n \",\"xyz\");\n",
       "\tviewergrid_16542568174839892[0][0].setStyle({\"stick\": {}});\n",
       "\tviewergrid_16542568174839892[0][1].setStyle({\"stick\": {}});\n",
       "\tviewergrid_16542568174839892[0][2].setStyle({\"stick\": {}});\n",
       "\tviewergrid_16542568174839892[0][0].zoomTo();\n",
       "\tviewergrid_16542568174839892[0][1].zoomTo();\n",
       "\tviewergrid_16542568174839892[0][2].zoomTo();\n",
       "viewergrid_16542568174839892[0][2].render();\n",
       "viewergrid_16542568174839892[0][1].render();\n",
       "viewergrid_16542568174839892[0][0].render();\n",
       "});\n",
       "</script>"
      ]
     },
     "metadata": {},
     "output_type": "display_data"
    }
   ],
   "source": [
    "# to view the molecules\n",
    "view = p3d.view(linked=True, viewergrid=(1,3),width=700,height=200)\n",
    "view.addModel(ethene_xyz, 'xyz', viewer=(0,0))\n",
    "view.addModel(fluoroethene_xyz, 'xyz', viewer=(0,1))\n",
    "view.addModel(chloroethene_xyz, 'xyz', viewer=(0,2))\n",
    "view.setStyle({'stick': {}})\n",
    "view.zoomTo()\n",
    "view.show()"
   ]
  },
  {
   "cell_type": "markdown",
   "id": "6b62bf80",
   "metadata": {},
   "source": [
    "## SCF geometry optimization\n",
    "Before we can calculate the vibrational spectra, we first must optimize the geometries."
   ]
  },
  {
   "cell_type": "code",
   "execution_count": 6,
   "id": "8c25d95a-8ba6-4612-9582-c5243d152681",
   "metadata": {},
   "outputs": [],
   "source": [
    "# Settings for SCF and gradient drivers\n",
    "scf_settings = {'conv_thresh':1e-6}\n",
    "method_settings = {}"
   ]
  },
  {
   "cell_type": "code",
   "execution_count": 7,
   "id": "3a6d33b2-bc9e-46d1-8862-541428fa0974",
   "metadata": {},
   "outputs": [],
   "source": [
    "# Run SCF for ethene\n",
    "ethene_scfdrv = vlx.ScfRestrictedDriver()\n",
    "ethene_scfdrv.update_settings(scf_settings, method_settings)\n",
    "ethene_scfdrv.ostream.state = False \n",
    "ethene_scfdrv.compute(ethene, ethene_basis)\n",
    "\n",
    "# Run SCF for fluoroethene\n",
    "fluoroethene_scfdrv = vlx.ScfRestrictedDriver()\n",
    "fluoroethene_scfdrv.update_settings(scf_settings, method_settings)\n",
    "fluoroethene_scfdrv.ostream.state = False \n",
    "fluoroethene_scfdrv.compute(fluoroethene, fluoroethene_basis)\n",
    "\n",
    "# Run SCF for chloroethene\n",
    "chloroethene_scfdrv = vlx.ScfRestrictedDriver()\n",
    "chloroethene_scfdrv.update_settings(scf_settings, method_settings)\n",
    "chloroethene_scfdrv.ostream.state = False \n",
    "chloroethene_scfdrv.compute(chloroethene, chloroethene_basis)"
   ]
  },
  {
   "cell_type": "code",
   "execution_count": 8,
   "id": "0e1eb43f-b091-4259-88cd-c5578f080bbd",
   "metadata": {},
   "outputs": [],
   "source": [
    "# Set up the gradient and optimization dirvers:\n",
    "ethene_grad_drv = vlx.ScfGradientDriver(ethene_scfdrv)\n",
    "ethene_opt_drv = vlx.OptimizationDriver(ethene_grad_drv)\n",
    "\n",
    "fluoroethene_grad_drv = vlx.ScfGradientDriver(fluoroethene_scfdrv)\n",
    "fluoroethene_opt_drv = vlx.OptimizationDriver(fluoroethene_grad_drv)\n",
    "\n",
    "chloroethene_grad_drv = vlx.ScfGradientDriver(chloroethene_scfdrv)\n",
    "chloroethene_opt_drv = vlx.OptimizationDriver(chloroethene_grad_drv)"
   ]
  },
  {
   "cell_type": "code",
   "execution_count": 9,
   "id": "346b2d87-b57e-4fb9-9097-4fa87ca12848",
   "metadata": {
    "tags": []
   },
   "outputs": [
    {
     "ename": "KeyboardInterrupt",
     "evalue": "",
     "output_type": "error",
     "traceback": [
      "\u001b[0;31m---------------------------------------------------------------------------\u001b[0m",
      "\u001b[0;31mKeyboardInterrupt\u001b[0m                         Traceback (most recent call last)",
      "Input \u001b[0;32mIn [9]\u001b[0m, in \u001b[0;36m<cell line: 2>\u001b[0;34m()\u001b[0m\n\u001b[1;32m      1\u001b[0m \u001b[38;5;66;03m# Either optimize the geometries\u001b[39;00m\n\u001b[0;32m----> 2\u001b[0m opt_ethene \u001b[38;5;241m=\u001b[39m \u001b[43methene_opt_drv\u001b[49m\u001b[38;5;241;43m.\u001b[39;49m\u001b[43mcompute\u001b[49m\u001b[43m(\u001b[49m\u001b[43methene\u001b[49m\u001b[43m,\u001b[49m\u001b[43m \u001b[49m\u001b[43methene_basis\u001b[49m\u001b[43m)\u001b[49m\n",
      "File \u001b[0;32m~/Notebook/anaconda/envs/echem/lib/python3.9/site-packages/veloxchem/optimizationdriver.py:184\u001b[0m, in \u001b[0;36mOptimizationDriver.compute\u001b[0;34m(self, molecule, *args)\u001b[0m\n\u001b[1;32m    181\u001b[0m \u001b[38;5;28;01mwith\u001b[39;00m redirect_stdout(StringIO()) \u001b[38;5;28;01mas\u001b[39;00m fg_out, redirect_stderr(\n\u001b[1;32m    182\u001b[0m         StringIO()) \u001b[38;5;28;01mas\u001b[39;00m fg_err:\n\u001b[1;32m    183\u001b[0m     \u001b[38;5;28;01mtry\u001b[39;00m:\n\u001b[0;32m--> 184\u001b[0m         m \u001b[38;5;241m=\u001b[39m \u001b[43mgeometric\u001b[49m\u001b[38;5;241;43m.\u001b[39;49m\u001b[43moptimize\u001b[49m\u001b[38;5;241;43m.\u001b[39;49m\u001b[43mrun_optimizer\u001b[49m\u001b[43m(\u001b[49m\n\u001b[1;32m    185\u001b[0m \u001b[43m            \u001b[49m\u001b[43mcustomengine\u001b[49m\u001b[38;5;241;43m=\u001b[39;49m\u001b[43mopt_engine\u001b[49m\u001b[43m,\u001b[49m\n\u001b[1;32m    186\u001b[0m \u001b[43m            \u001b[49m\u001b[43mcoordsys\u001b[49m\u001b[38;5;241;43m=\u001b[39;49m\u001b[38;5;28;43mself\u001b[39;49m\u001b[38;5;241;43m.\u001b[39;49m\u001b[43mcoordsys\u001b[49m\u001b[43m,\u001b[49m\n\u001b[1;32m    187\u001b[0m \u001b[43m            \u001b[49m\u001b[43mcheck\u001b[49m\u001b[38;5;241;43m=\u001b[39;49m\u001b[38;5;28;43mself\u001b[39;49m\u001b[38;5;241;43m.\u001b[39;49m\u001b[43mcheck_interval\u001b[49m\u001b[43m,\u001b[49m\n\u001b[1;32m    188\u001b[0m \u001b[43m            \u001b[49m\u001b[43mmaxiter\u001b[49m\u001b[38;5;241;43m=\u001b[39;49m\u001b[38;5;28;43mself\u001b[39;49m\u001b[38;5;241;43m.\u001b[39;49m\u001b[43mmax_iter\u001b[49m\u001b[43m,\u001b[49m\n\u001b[1;32m    189\u001b[0m \u001b[43m            \u001b[49m\u001b[43mconstraints\u001b[49m\u001b[38;5;241;43m=\u001b[39;49m\u001b[43mconstr_filename\u001b[49m\u001b[43m,\u001b[49m\n\u001b[1;32m    190\u001b[0m \u001b[43m            \u001b[49m\u001b[43mtransition\u001b[49m\u001b[38;5;241;43m=\u001b[39;49m\u001b[38;5;28;43mself\u001b[39;49m\u001b[38;5;241;43m.\u001b[39;49m\u001b[43mtransition\u001b[49m\u001b[43m,\u001b[49m\n\u001b[1;32m    191\u001b[0m \u001b[43m            \u001b[49m\u001b[43mhessian\u001b[49m\u001b[38;5;241;43m=\u001b[39;49m\u001b[38;5;28;43mself\u001b[39;49m\u001b[38;5;241;43m.\u001b[39;49m\u001b[43mhessian\u001b[49m\u001b[43m,\u001b[49m\n\u001b[1;32m    192\u001b[0m \u001b[43m            \u001b[49m\u001b[38;5;28;43minput\u001b[39;49m\u001b[38;5;241;43m=\u001b[39;49m\u001b[43mfilename\u001b[49m\u001b[43m \u001b[49m\u001b[38;5;241;43m+\u001b[39;49m\u001b[43m \u001b[49m\u001b[38;5;124;43m'\u001b[39;49m\u001b[38;5;124;43m.optinp\u001b[39;49m\u001b[38;5;124;43m'\u001b[39;49m\u001b[43m)\u001b[49m\n\u001b[1;32m    193\u001b[0m     \u001b[38;5;28;01mexcept\u001b[39;00m geometric\u001b[38;5;241m.\u001b[39merrors\u001b[38;5;241m.\u001b[39mHessianExit:\n\u001b[1;32m    194\u001b[0m         hessian_exit \u001b[38;5;241m=\u001b[39m \u001b[38;5;28;01mTrue\u001b[39;00m\n",
      "File \u001b[0;32m~/Notebook/anaconda/envs/echem/lib/python3.9/site-packages/geometric/optimize.py:825\u001b[0m, in \u001b[0;36mrun_optimizer\u001b[0;34m(**kwargs)\u001b[0m\n\u001b[1;32m    822\u001b[0m \u001b[38;5;28;01mif\u001b[39;00m Cons \u001b[38;5;129;01mis\u001b[39;00m \u001b[38;5;28;01mNone\u001b[39;00m:\n\u001b[1;32m    823\u001b[0m     \u001b[38;5;66;03m# Run a standard geometry optimization\u001b[39;00m\n\u001b[1;32m    824\u001b[0m     params\u001b[38;5;241m.\u001b[39mxyzout \u001b[38;5;241m=\u001b[39m prefix\u001b[38;5;241m+\u001b[39m\u001b[38;5;124m\"\u001b[39m\u001b[38;5;124m_optim.xyz\u001b[39m\u001b[38;5;124m\"\u001b[39m\n\u001b[0;32m--> 825\u001b[0m     progress \u001b[38;5;241m=\u001b[39m \u001b[43mOptimize\u001b[49m\u001b[43m(\u001b[49m\u001b[43mcoords\u001b[49m\u001b[43m,\u001b[49m\u001b[43m \u001b[49m\u001b[43mM\u001b[49m\u001b[43m,\u001b[49m\u001b[43m \u001b[49m\u001b[43mIC\u001b[49m\u001b[43m,\u001b[49m\u001b[43m \u001b[49m\u001b[43mengine\u001b[49m\u001b[43m,\u001b[49m\u001b[43m \u001b[49m\u001b[43mdirname\u001b[49m\u001b[43m,\u001b[49m\u001b[43m \u001b[49m\u001b[43mparams\u001b[49m\u001b[43m)\u001b[49m\n\u001b[1;32m    826\u001b[0m \u001b[38;5;28;01melse\u001b[39;00m:\n\u001b[1;32m    827\u001b[0m     \u001b[38;5;66;03m# Run a single constrained geometry optimization or scan over a grid of values\u001b[39;00m\n\u001b[1;32m    828\u001b[0m     \u001b[38;5;28;01mif\u001b[39;00m \u001b[38;5;28misinstance\u001b[39m(IC, (CartesianCoordinates, PrimitiveInternalCoordinates)):\n",
      "File \u001b[0;32m~/Notebook/anaconda/envs/echem/lib/python3.9/site-packages/geometric/optimize.py:705\u001b[0m, in \u001b[0;36mOptimize\u001b[0;34m(coords, molecule, IC, engine, dirname, params)\u001b[0m\n\u001b[1;32m    677\u001b[0m \u001b[38;5;124;03m\"\"\"\u001b[39;00m\n\u001b[1;32m    678\u001b[0m \u001b[38;5;124;03mOptimize the geometry of a molecule. This function used to contain the whole\u001b[39;00m\n\u001b[1;32m    679\u001b[0m \u001b[38;5;124;03moptimization loop, which has since been moved to the Optimizer() class;\u001b[39;00m\n\u001b[0;32m   (...)\u001b[0m\n\u001b[1;32m    702\u001b[0m \u001b[38;5;124;03m    A molecule object for opt trajectory and energies\u001b[39;00m\n\u001b[1;32m    703\u001b[0m \u001b[38;5;124;03m\"\"\"\u001b[39;00m\n\u001b[1;32m    704\u001b[0m optimizer \u001b[38;5;241m=\u001b[39m Optimizer(coords, molecule, IC, engine, dirname, params)\n\u001b[0;32m--> 705\u001b[0m \u001b[38;5;28;01mreturn\u001b[39;00m \u001b[43moptimizer\u001b[49m\u001b[38;5;241;43m.\u001b[39;49m\u001b[43moptimizeGeometry\u001b[49m\u001b[43m(\u001b[49m\u001b[43m)\u001b[49m\n",
      "File \u001b[0;32m~/Notebook/anaconda/envs/echem/lib/python3.9/site-packages/geometric/optimize.py:628\u001b[0m, in \u001b[0;36mOptimizer.optimizeGeometry\u001b[0;34m(self)\u001b[0m\n\u001b[1;32m    626\u001b[0m     \u001b[38;5;28mself\u001b[39m\u001b[38;5;241m.\u001b[39mstep()\n\u001b[1;32m    627\u001b[0m     \u001b[38;5;28;01mif\u001b[39;00m \u001b[38;5;28mself\u001b[39m\u001b[38;5;241m.\u001b[39mstate \u001b[38;5;241m==\u001b[39m OPT_STATE\u001b[38;5;241m.\u001b[39mNEEDS_EVALUATION:\n\u001b[0;32m--> 628\u001b[0m         \u001b[38;5;28;43mself\u001b[39;49m\u001b[38;5;241;43m.\u001b[39;49m\u001b[43mcalcEnergyForce\u001b[49m\u001b[43m(\u001b[49m\u001b[43m)\u001b[49m\n\u001b[1;32m    629\u001b[0m         \u001b[38;5;28mself\u001b[39m\u001b[38;5;241m.\u001b[39mevaluateStep()\n\u001b[1;32m    630\u001b[0m \u001b[38;5;28;01mif\u001b[39;00m \u001b[38;5;28mself\u001b[39m\u001b[38;5;241m.\u001b[39mstate \u001b[38;5;241m==\u001b[39m OPT_STATE\u001b[38;5;241m.\u001b[39mFAILED:\n",
      "File \u001b[0;32m~/Notebook/anaconda/envs/echem/lib/python3.9/site-packages/geometric/optimize.py:220\u001b[0m, in \u001b[0;36mOptimizer.calcEnergyForce\u001b[0;34m(self)\u001b[0m\n\u001b[1;32m    215\u001b[0m \u001b[38;5;28mself\u001b[39m\u001b[38;5;241m.\u001b[39mcheckStructure()\n\u001b[1;32m    216\u001b[0m \u001b[38;5;66;03m### Calculate Energy and Gradient ###\u001b[39;00m\n\u001b[1;32m    217\u001b[0m \u001b[38;5;66;03m# Dictionary containing single point properties (energy, gradient)\u001b[39;00m\n\u001b[1;32m    218\u001b[0m \u001b[38;5;66;03m# For frequency calculations and multi-step jobs, the gradient from an existing\u001b[39;00m\n\u001b[1;32m    219\u001b[0m \u001b[38;5;66;03m# output file may be read in.\u001b[39;00m\n\u001b[0;32m--> 220\u001b[0m spcalc \u001b[38;5;241m=\u001b[39m \u001b[38;5;28;43mself\u001b[39;49m\u001b[38;5;241;43m.\u001b[39;49m\u001b[43mengine\u001b[49m\u001b[38;5;241;43m.\u001b[39;49m\u001b[43mcalc\u001b[49m\u001b[43m(\u001b[49m\u001b[38;5;28;43mself\u001b[39;49m\u001b[38;5;241;43m.\u001b[39;49m\u001b[43mX\u001b[49m\u001b[43m,\u001b[49m\u001b[43m \u001b[49m\u001b[38;5;28;43mself\u001b[39;49m\u001b[38;5;241;43m.\u001b[39;49m\u001b[43mdirname\u001b[49m\u001b[43m,\u001b[49m\u001b[43m \u001b[49m\u001b[43mread_data\u001b[49m\u001b[38;5;241;43m=\u001b[39;49m\u001b[43m(\u001b[49m\u001b[38;5;28;43mself\u001b[39;49m\u001b[38;5;241;43m.\u001b[39;49m\u001b[43mIteration\u001b[49m\u001b[38;5;241;43m==\u001b[39;49m\u001b[38;5;241;43m0\u001b[39;49m\u001b[43m)\u001b[49m\u001b[43m)\u001b[49m\n\u001b[1;32m    221\u001b[0m \u001b[38;5;28mself\u001b[39m\u001b[38;5;241m.\u001b[39mE \u001b[38;5;241m=\u001b[39m spcalc[\u001b[38;5;124m'\u001b[39m\u001b[38;5;124menergy\u001b[39m\u001b[38;5;124m'\u001b[39m]\n\u001b[1;32m    222\u001b[0m \u001b[38;5;28mself\u001b[39m\u001b[38;5;241m.\u001b[39mgradx \u001b[38;5;241m=\u001b[39m spcalc[\u001b[38;5;124m'\u001b[39m\u001b[38;5;124mgradient\u001b[39m\u001b[38;5;124m'\u001b[39m]\n",
      "File \u001b[0;32m~/Notebook/anaconda/envs/echem/lib/python3.9/site-packages/geometric/engine.py:244\u001b[0m, in \u001b[0;36mEngine.calc\u001b[0;34m(self, coords, dirname, read_data, copydir)\u001b[0m\n\u001b[1;32m    242\u001b[0m             \u001b[38;5;28mself\u001b[39m\u001b[38;5;241m.\u001b[39mcopy_scratch(copydir, dirname)\n\u001b[1;32m    243\u001b[0m         \u001b[38;5;28;01melif\u001b[39;00m \u001b[38;5;129;01mnot\u001b[39;00m os\u001b[38;5;241m.\u001b[39mpath\u001b[38;5;241m.\u001b[39mexists(dirname): os\u001b[38;5;241m.\u001b[39mmakedirs(dirname)\n\u001b[0;32m--> 244\u001b[0m         result \u001b[38;5;241m=\u001b[39m \u001b[38;5;28;43mself\u001b[39;49m\u001b[38;5;241;43m.\u001b[39;49m\u001b[43mcalc_new\u001b[49m\u001b[43m(\u001b[49m\u001b[43mcoords\u001b[49m\u001b[43m,\u001b[49m\u001b[43m \u001b[49m\u001b[43mdirname\u001b[49m\u001b[43m)\u001b[49m\n\u001b[1;32m    245\u001b[0m     \u001b[38;5;28mself\u001b[39m\u001b[38;5;241m.\u001b[39mstored_calcs[coord_hash] \u001b[38;5;241m=\u001b[39m {\u001b[38;5;124m'\u001b[39m\u001b[38;5;124mcoords\u001b[39m\u001b[38;5;124m'\u001b[39m:coords, \u001b[38;5;124m'\u001b[39m\u001b[38;5;124mresult\u001b[39m\u001b[38;5;124m'\u001b[39m:result}\n\u001b[1;32m    246\u001b[0m \u001b[38;5;28;01mreturn\u001b[39;00m result\n",
      "File \u001b[0;32m~/Notebook/anaconda/envs/echem/lib/python3.9/site-packages/veloxchem/optimizationengine.py:108\u001b[0m, in \u001b[0;36mOptimizationEngine.calc_new\u001b[0;34m(self, coords, dirname)\u001b[0m\n\u001b[1;32m    105\u001b[0m \u001b[38;5;28mself\u001b[39m\u001b[38;5;241m.\u001b[39mgrad_drv\u001b[38;5;241m.\u001b[39mostream\u001b[38;5;241m.\u001b[39mstate \u001b[38;5;241m=\u001b[39m \u001b[38;5;28;01mFalse\u001b[39;00m\n\u001b[1;32m    107\u001b[0m energy \u001b[38;5;241m=\u001b[39m \u001b[38;5;28mself\u001b[39m\u001b[38;5;241m.\u001b[39mgrad_drv\u001b[38;5;241m.\u001b[39mcompute_energy(new_mol, \u001b[38;5;241m*\u001b[39m\u001b[38;5;28mself\u001b[39m\u001b[38;5;241m.\u001b[39margs)\n\u001b[0;32m--> 108\u001b[0m \u001b[38;5;28;43mself\u001b[39;49m\u001b[38;5;241;43m.\u001b[39;49m\u001b[43mgrad_drv\u001b[49m\u001b[38;5;241;43m.\u001b[39;49m\u001b[43mcompute\u001b[49m\u001b[43m(\u001b[49m\u001b[43mnew_mol\u001b[49m\u001b[43m,\u001b[49m\u001b[43m \u001b[49m\u001b[38;5;241;43m*\u001b[39;49m\u001b[38;5;28;43mself\u001b[39;49m\u001b[38;5;241;43m.\u001b[39;49m\u001b[43margs\u001b[49m\u001b[43m)\u001b[49m\n\u001b[1;32m    109\u001b[0m gradient \u001b[38;5;241m=\u001b[39m \u001b[38;5;28mself\u001b[39m\u001b[38;5;241m.\u001b[39mgrad_drv\u001b[38;5;241m.\u001b[39mget_gradient()\n\u001b[1;32m    111\u001b[0m \u001b[38;5;28mself\u001b[39m\u001b[38;5;241m.\u001b[39mgrad_drv\u001b[38;5;241m.\u001b[39mostream\u001b[38;5;241m.\u001b[39mstate \u001b[38;5;241m=\u001b[39m grad_ostream_state\n",
      "File \u001b[0;32m~/Notebook/anaconda/envs/echem/lib/python3.9/site-packages/veloxchem/scfgradientdriver.py:80\u001b[0m, in \u001b[0;36mScfGradientDriver.compute\u001b[0;34m(self, molecule, ao_basis, min_basis)\u001b[0m\n\u001b[1;32m     77\u001b[0m \u001b[38;5;28mself\u001b[39m\u001b[38;5;241m.\u001b[39mscf_drv\u001b[38;5;241m.\u001b[39mostream\u001b[38;5;241m.\u001b[39mstate \u001b[38;5;241m=\u001b[39m \u001b[38;5;28;01mFalse\u001b[39;00m\n\u001b[1;32m     79\u001b[0m \u001b[38;5;66;03m# Currently, only numerical gradients activated\u001b[39;00m\n\u001b[0;32m---> 80\u001b[0m \u001b[38;5;28;43mself\u001b[39;49m\u001b[38;5;241;43m.\u001b[39;49m\u001b[43mcompute_numerical\u001b[49m\u001b[43m(\u001b[49m\u001b[43mmolecule\u001b[49m\u001b[43m,\u001b[49m\u001b[43m \u001b[49m\u001b[43mao_basis\u001b[49m\u001b[43m,\u001b[49m\u001b[43m \u001b[49m\u001b[43mmin_basis\u001b[49m\u001b[43m)\u001b[49m\n\u001b[1;32m     82\u001b[0m \u001b[38;5;28mself\u001b[39m\u001b[38;5;241m.\u001b[39mscf_drv\u001b[38;5;241m.\u001b[39mostream\u001b[38;5;241m.\u001b[39mstate \u001b[38;5;241m=\u001b[39m scf_ostream_state\n\u001b[1;32m     84\u001b[0m \u001b[38;5;66;03m# print gradient\u001b[39;00m\n",
      "File \u001b[0;32m~/Notebook/anaconda/envs/echem/lib/python3.9/site-packages/veloxchem/gradientdriver.py:116\u001b[0m, in \u001b[0;36mGradientDriver.compute_numerical\u001b[0;34m(self, molecule, *args)\u001b[0m\n\u001b[1;32m    114\u001b[0m coords[i, d] \u001b[38;5;241m-\u001b[39m\u001b[38;5;241m=\u001b[39m \u001b[38;5;241m2.0\u001b[39m \u001b[38;5;241m*\u001b[39m \u001b[38;5;28mself\u001b[39m\u001b[38;5;241m.\u001b[39mdelta_h\n\u001b[1;32m    115\u001b[0m new_mol \u001b[38;5;241m=\u001b[39m Molecule(labels, coords, units\u001b[38;5;241m=\u001b[39m\u001b[38;5;124m'\u001b[39m\u001b[38;5;124mau\u001b[39m\u001b[38;5;124m'\u001b[39m)\n\u001b[0;32m--> 116\u001b[0m e_minus \u001b[38;5;241m=\u001b[39m \u001b[38;5;28;43mself\u001b[39;49m\u001b[38;5;241;43m.\u001b[39;49m\u001b[43mcompute_energy\u001b[49m\u001b[43m(\u001b[49m\u001b[43mnew_mol\u001b[49m\u001b[43m,\u001b[49m\u001b[43m \u001b[49m\u001b[38;5;241;43m*\u001b[39;49m\u001b[43margs\u001b[49m\u001b[43m)\u001b[49m\n\u001b[1;32m    118\u001b[0m coords[i, d] \u001b[38;5;241m+\u001b[39m\u001b[38;5;241m=\u001b[39m \u001b[38;5;28mself\u001b[39m\u001b[38;5;241m.\u001b[39mdelta_h\n\u001b[1;32m    119\u001b[0m \u001b[38;5;28mself\u001b[39m\u001b[38;5;241m.\u001b[39mgradient[i, d] \u001b[38;5;241m=\u001b[39m (e_plus \u001b[38;5;241m-\u001b[39m e_minus) \u001b[38;5;241m/\u001b[39m (\u001b[38;5;241m2.0\u001b[39m \u001b[38;5;241m*\u001b[39m \u001b[38;5;28mself\u001b[39m\u001b[38;5;241m.\u001b[39mdelta_h)\n",
      "File \u001b[0;32m~/Notebook/anaconda/envs/echem/lib/python3.9/site-packages/veloxchem/scfgradientdriver.py:109\u001b[0m, in \u001b[0;36mScfGradientDriver.compute_energy\u001b[0;34m(self, molecule, ao_basis, min_basis)\u001b[0m\n\u001b[1;32m     94\u001b[0m \u001b[38;5;28;01mdef\u001b[39;00m \u001b[38;5;21mcompute_energy\u001b[39m(\u001b[38;5;28mself\u001b[39m, molecule, ao_basis, min_basis\u001b[38;5;241m=\u001b[39m\u001b[38;5;28;01mNone\u001b[39;00m):\n\u001b[1;32m     95\u001b[0m     \u001b[38;5;124;03m\"\"\"\u001b[39;00m\n\u001b[1;32m     96\u001b[0m \u001b[38;5;124;03m    Computes the energy at current geometry.\u001b[39;00m\n\u001b[1;32m     97\u001b[0m \n\u001b[0;32m   (...)\u001b[0m\n\u001b[1;32m    106\u001b[0m \u001b[38;5;124;03m        The energy.\u001b[39;00m\n\u001b[1;32m    107\u001b[0m \u001b[38;5;124;03m    \"\"\"\u001b[39;00m\n\u001b[0;32m--> 109\u001b[0m     \u001b[38;5;28;43mself\u001b[39;49m\u001b[38;5;241;43m.\u001b[39;49m\u001b[43mscf_drv\u001b[49m\u001b[38;5;241;43m.\u001b[39;49m\u001b[43mcompute\u001b[49m\u001b[43m(\u001b[49m\u001b[43mmolecule\u001b[49m\u001b[43m,\u001b[49m\u001b[43m \u001b[49m\u001b[43mao_basis\u001b[49m\u001b[43m,\u001b[49m\u001b[43m \u001b[49m\u001b[43mmin_basis\u001b[49m\u001b[43m)\u001b[49m\n\u001b[1;32m    110\u001b[0m     \u001b[38;5;28;01mreturn\u001b[39;00m \u001b[38;5;28mself\u001b[39m\u001b[38;5;241m.\u001b[39mscf_drv\u001b[38;5;241m.\u001b[39mget_scf_energy()\n",
      "File \u001b[0;32m~/Notebook/anaconda/envs/echem/lib/python3.9/site-packages/veloxchem/scfdriver.py:465\u001b[0m, in \u001b[0;36mScfDriver.compute\u001b[0;34m(self, molecule, ao_basis, min_basis)\u001b[0m\n\u001b[1;32m    462\u001b[0m \u001b[38;5;28mself\u001b[39m\u001b[38;5;241m.\u001b[39mmax_iter \u001b[38;5;241m=\u001b[39m \u001b[38;5;241m5\u001b[39m\n\u001b[1;32m    464\u001b[0m val_basis \u001b[38;5;241m=\u001b[39m ao_basis\u001b[38;5;241m.\u001b[39mget_valence_basis()\n\u001b[0;32m--> 465\u001b[0m \u001b[38;5;28;43mself\u001b[39;49m\u001b[38;5;241;43m.\u001b[39;49m\u001b[43mcomp_diis\u001b[49m\u001b[43m(\u001b[49m\u001b[43mmolecule\u001b[49m\u001b[43m,\u001b[49m\u001b[43m \u001b[49m\u001b[43mval_basis\u001b[49m\u001b[43m,\u001b[49m\u001b[43m \u001b[49m\u001b[43mmin_basis\u001b[49m\u001b[43m,\u001b[49m\u001b[43m \u001b[49m\u001b[43mprofiler\u001b[49m\u001b[43m)\u001b[49m\n\u001b[1;32m    467\u001b[0m \u001b[38;5;66;03m# second step\u001b[39;00m\n\u001b[1;32m    468\u001b[0m \u001b[38;5;28mself\u001b[39m\u001b[38;5;241m.\u001b[39mfirst_step \u001b[38;5;241m=\u001b[39m \u001b[38;5;28;01mFalse\u001b[39;00m\n",
      "File \u001b[0;32m~/Notebook/anaconda/envs/echem/lib/python3.9/site-packages/veloxchem/scfdriver.py:720\u001b[0m, in \u001b[0;36mScfDriver.comp_diis\u001b[0;34m(self, molecule, ao_basis, min_basis, profiler)\u001b[0m\n\u001b[1;32m    716\u001b[0m iter_start_time \u001b[38;5;241m=\u001b[39m tm\u001b[38;5;241m.\u001b[39mtime()\n\u001b[1;32m    718\u001b[0m profiler\u001b[38;5;241m.\u001b[39mstart_timer(\u001b[38;5;124m'\u001b[39m\u001b[38;5;124mFockBuild\u001b[39m\u001b[38;5;124m'\u001b[39m)\n\u001b[0;32m--> 720\u001b[0m vxc_mat, e_pe, V_pe \u001b[38;5;241m=\u001b[39m \u001b[38;5;28;43mself\u001b[39;49m\u001b[38;5;241;43m.\u001b[39;49m\u001b[43mcomp_2e_fock\u001b[49m\u001b[43m(\u001b[49m\u001b[43mfock_mat\u001b[49m\u001b[43m,\u001b[49m\u001b[43m \u001b[49m\u001b[43mden_mat\u001b[49m\u001b[43m,\u001b[49m\u001b[43m \u001b[49m\u001b[43mmolecule\u001b[49m\u001b[43m,\u001b[49m\n\u001b[1;32m    721\u001b[0m \u001b[43m                                        \u001b[49m\u001b[43mao_basis\u001b[49m\u001b[43m,\u001b[49m\u001b[43m \u001b[49m\u001b[43mqq_data\u001b[49m\u001b[43m,\u001b[49m\u001b[43m \u001b[49m\u001b[43me_grad\u001b[49m\u001b[43m,\u001b[49m\n\u001b[1;32m    722\u001b[0m \u001b[43m                                        \u001b[49m\u001b[43mprofiler\u001b[49m\u001b[43m)\u001b[49m\n\u001b[1;32m    724\u001b[0m profiler\u001b[38;5;241m.\u001b[39mstop_timer(\u001b[38;5;124m'\u001b[39m\u001b[38;5;124mFockBuild\u001b[39m\u001b[38;5;124m'\u001b[39m)\n\u001b[1;32m    725\u001b[0m profiler\u001b[38;5;241m.\u001b[39mstart_timer(\u001b[38;5;124m'\u001b[39m\u001b[38;5;124mCompEnergy\u001b[39m\u001b[38;5;124m'\u001b[39m)\n",
      "File \u001b[0;32m~/Notebook/anaconda/envs/echem/lib/python3.9/site-packages/veloxchem/scfdriver.py:1107\u001b[0m, in \u001b[0;36mScfDriver.comp_2e_fock\u001b[0;34m(self, fock_mat, den_mat, molecule, basis, screening, e_grad, profiler)\u001b[0m\n\u001b[1;32m   1103\u001b[0m     vxc_mat, e_pe, V_pe \u001b[38;5;241m=\u001b[39m \u001b[38;5;28mself\u001b[39m\u001b[38;5;241m.\u001b[39mcomp_2e_fock_split_comm(\n\u001b[1;32m   1104\u001b[0m         fock_mat, den_mat, molecule, basis, screening, e_grad)\n\u001b[1;32m   1106\u001b[0m \u001b[38;5;28;01melse\u001b[39;00m:\n\u001b[0;32m-> 1107\u001b[0m     vxc_mat, e_pe, V_pe \u001b[38;5;241m=\u001b[39m \u001b[38;5;28;43mself\u001b[39;49m\u001b[38;5;241;43m.\u001b[39;49m\u001b[43mcomp_2e_fock_single_comm\u001b[49m\u001b[43m(\u001b[49m\n\u001b[1;32m   1108\u001b[0m \u001b[43m        \u001b[49m\u001b[43mfock_mat\u001b[49m\u001b[43m,\u001b[49m\u001b[43m \u001b[49m\u001b[43mden_mat\u001b[49m\u001b[43m,\u001b[49m\u001b[43m \u001b[49m\u001b[43mmolecule\u001b[49m\u001b[43m,\u001b[49m\u001b[43m \u001b[49m\u001b[43mbasis\u001b[49m\u001b[43m,\u001b[49m\u001b[43m \u001b[49m\u001b[43mscreening\u001b[49m\u001b[43m,\u001b[49m\u001b[43m \u001b[49m\u001b[43me_grad\u001b[49m\u001b[43m,\u001b[49m\u001b[43m \u001b[49m\u001b[43mprofiler\u001b[49m\u001b[43m)\u001b[49m\n\u001b[1;32m   1110\u001b[0m \u001b[38;5;28;01mreturn\u001b[39;00m vxc_mat, e_pe, V_pe\n",
      "File \u001b[0;32m~/Notebook/anaconda/envs/echem/lib/python3.9/site-packages/veloxchem/scfdriver.py:1150\u001b[0m, in \u001b[0;36mScfDriver.comp_2e_fock_single_comm\u001b[0;34m(self, fock_mat, den_mat, molecule, basis, screening, e_grad, profiler)\u001b[0m\n\u001b[1;32m   1146\u001b[0m xc_drv \u001b[38;5;241m=\u001b[39m XCIntegrator(\u001b[38;5;28mself\u001b[39m\u001b[38;5;241m.\u001b[39mcomm)\n\u001b[1;32m   1148\u001b[0m eri_t0 \u001b[38;5;241m=\u001b[39m tm\u001b[38;5;241m.\u001b[39mtime()\n\u001b[0;32m-> 1150\u001b[0m \u001b[43meri_drv\u001b[49m\u001b[38;5;241;43m.\u001b[39;49m\u001b[43mcompute\u001b[49m\u001b[43m(\u001b[49m\u001b[43mfock_mat\u001b[49m\u001b[43m,\u001b[49m\u001b[43m \u001b[49m\u001b[43mden_mat\u001b[49m\u001b[43m,\u001b[49m\u001b[43m \u001b[49m\u001b[43mmolecule\u001b[49m\u001b[43m,\u001b[49m\u001b[43m \u001b[49m\u001b[43mbasis\u001b[49m\u001b[43m,\u001b[49m\u001b[43m \u001b[49m\u001b[43mscreening\u001b[49m\u001b[43m)\u001b[49m\n\u001b[1;32m   1151\u001b[0m fock_mat\u001b[38;5;241m.\u001b[39mreduce_sum(\u001b[38;5;28mself\u001b[39m\u001b[38;5;241m.\u001b[39mrank, \u001b[38;5;28mself\u001b[39m\u001b[38;5;241m.\u001b[39mnodes, \u001b[38;5;28mself\u001b[39m\u001b[38;5;241m.\u001b[39mcomm)\n\u001b[1;32m   1153\u001b[0m \u001b[38;5;28;01mif\u001b[39;00m \u001b[38;5;28mself\u001b[39m\u001b[38;5;241m.\u001b[39mtiming:\n",
      "\u001b[0;31mKeyboardInterrupt\u001b[0m: "
     ]
    }
   ],
   "source": [
    "# Either optimize the geometries\n",
    "#opt_ethene = ethene_opt_drv.compute(ethene, ethene_basis)"
   ]
  },
  {
   "cell_type": "code",
   "execution_count": null,
   "id": "615e6e70-a0a4-4524-85d7-edaa397825ac",
   "metadata": {
    "scrolled": true,
    "tags": []
   },
   "outputs": [],
   "source": [
    "fluoroethene_opt_drv.ostream.state = True # to enable printout\n",
    "#opt_fluoroethene = fluoroethene_opt_drv.compute(fluoroethene, fluoroethene_basis)"
   ]
  },
  {
   "cell_type": "code",
   "execution_count": null,
   "id": "34e24f87-4ec2-4781-8e84-49974a1ca018",
   "metadata": {},
   "outputs": [],
   "source": [
    "chloroethene_opt_drv.ostream.state = True\n",
    "#opt_chloroethene = chloroethene_opt_drv.compute(chloroethene, chloroethene_basis)"
   ]
  },
  {
   "cell_type": "code",
   "execution_count": null,
   "id": "3d08e146-524f-4de4-9965-46f6b21b5bdf",
   "metadata": {},
   "outputs": [],
   "source": [
    "# Get optimized coordinates\n",
    "def get_xyz(molecule):\n",
    "    natm = molecule.number_of_atoms()\n",
    "    elements = molecule.get_labels()\n",
    "    coords = molecule.get_coordinates() * bohr_in_angstroms()\n",
    "    txt = \"%d\\n\\n\" % natm\n",
    "    for i in range(natm):\n",
    "        txt += elements[i] + \" %15.7f %15.7f %15.7f\\n\" % (coords[i,0], coords[i,1], coords[i,2])\n",
    "    return txt"
   ]
  },
  {
   "cell_type": "code",
   "execution_count": null,
   "id": "206b62f9-73b8-428b-929b-5395101737d2",
   "metadata": {},
   "outputs": [],
   "source": [
    "opt_ethene_xyz = get_xyz(opt_ethene)\n",
    "opt_fluoroethene_xyz = get_xyz(opt_fluoroethene)\n",
    "opt_chloroethene_xyz = get_xyz(opt_chloroethene)"
   ]
  },
  {
   "cell_type": "markdown",
   "id": "96f0c3ca-5610-409e-9b5b-0151e44f4024",
   "metadata": {},
   "source": [
    "```python\n",
    "# Or read optimized geometries from file:\n",
    "opt_ethene_xyz = open(\"../xyz/ir_raman/opt_ethene.xyz\", \"r\").read() # read optimized geometry from file\n",
    "opt_fluoroethene_xyz = open(\"../xyz/ir_raman/opt_fluoroethene.xyz\", \"r\").read() # read optimized geometry from file\n",
    "opt_chloroethene_xyz = open(\"../xyz/ir_raman/opt_chloroethene.xyz\", \"r\").read() # read optimized geometry from file\n",
    "\n",
    "opt_ethene = vlx.Molecule.from_xyz_string(opt_ethene_xyz)\n",
    "ethene_basis = vlx.MolecularBasis.read(opt_ethene, basis_set_label)\n",
    "\n",
    "opt_fluoroethene = vlx.Molecule.from_xyz_string(opt_fluoroethene_xyz)\n",
    "fluoroethene_basis = vlx.MolecularBasis.read(opt_fluoroethene, basis_set_label)\n",
    "\n",
    "opt_chloroethene = vlx.Molecule.from_xyz_string(opt_chloroethene_xyz)\n",
    "chloroethene_basis = vlx.MolecularBasis.read(opt_chloroethene, basis_set_label)\n",
    "```"
   ]
  },
  {
   "cell_type": "code",
   "execution_count": null,
   "id": "2bd26732-cd91-4601-b25f-5e832476eb8f",
   "metadata": {},
   "outputs": [],
   "source": [
    "# Visualize the optimized molecular structures\n",
    "view = p3d.view(linked=True, viewergrid=(1,3),width=700,height=200)\n",
    "view.addModel(opt_ethene_xyz, 'xyz', viewer=(0,0))\n",
    "view.addModel(opt_fluoroethene_xyz, 'xyz', viewer=(0,1))\n",
    "view.addModel(opt_chloroethene_xyz, 'xyz', viewer=(0,2))\n",
    "view.setStyle({'stick': {}})\n",
    "view.zoomTo()\n",
    "view.show()"
   ]
  },
  {
   "cell_type": "code",
   "execution_count": null,
   "id": "e6ee6055-3f5f-49a7-89b8-cf6ca980575b",
   "metadata": {
    "scrolled": true,
    "tags": []
   },
   "outputs": [],
   "source": [
    "# Compute SCF with the optimized geometries of all molecules\n",
    "ethene_scfdrv.compute(opt_ethene, ethene_basis)\n",
    "fluoroethene_scfdrv.compute(opt_fluoroethene, fluoroethene_basis)\n",
    "chloroethene_scfdrv.compute(opt_chloroethene, chloroethene_basis)"
   ]
  },
  {
   "cell_type": "markdown",
   "id": "faf15a93-fb2a-4b55-a82c-04b4f22d22b9",
   "metadata": {},
   "source": [
    "## Hessians\n",
    "\n",
    "Now, let's calculate the IR and Raman spectra for these optimized geometries"
   ]
  },
  {
   "cell_type": "code",
   "execution_count": null,
   "id": "3e7cff88-6e0f-465b-a303-a1d08ecd628f",
   "metadata": {},
   "outputs": [],
   "source": [
    "# Settings for Hessian calculation\n",
    "hessian_settings = {'do_raman': 'yes', 'print_depolarization_ratio':'no'}"
   ]
  },
  {
   "cell_type": "code",
   "execution_count": null,
   "id": "82ac731e-3ff5-424d-a6f2-b4547adb9758",
   "metadata": {},
   "outputs": [],
   "source": [
    "# Create Hessian driver and update settings\n",
    "ethene_hessian_drv = vlx.scfhessiandriver.ScfHessianDriver(ethene_scfdrv)\n",
    "ethene_hessian_drv.update_settings(method_settings, hessian_settings)\n",
    "\n",
    "fluoroethene_hessian_drv = vlx.scfhessiandriver.ScfHessianDriver(fluoroethene_scfdrv)\n",
    "fluoroethene_hessian_drv.update_settings(method_settings, hessian_settings)\n",
    "\n",
    "chloroethene_hessian_drv = vlx.scfhessiandriver.ScfHessianDriver(chloroethene_scfdrv)\n",
    "chloroethene_hessian_drv.update_settings(method_settings, hessian_settings)"
   ]
  },
  {
   "cell_type": "code",
   "execution_count": null,
   "id": "bd051545-e7a2-42b7-8d2e-0a3b0703f72a",
   "metadata": {},
   "outputs": [],
   "source": [
    "# Compute the Hessians:\n",
    "ethene_hessian_drv.compute(ethene, ethene_basis)\n",
    "fluoroethene_hessian_drv.compute(fluoroethene, fluoroethene_basis)\n",
    "chloroethene_hessian_drv.compute(chloroethene, chloroethene_basis)"
   ]
  },
  {
   "cell_type": "markdown",
   "id": "c4b85143-b45b-4dc7-a1f5-02b5893f2688",
   "metadata": {},
   "source": [
    "```python\n",
    "# Or read them from file:\n",
    "import h5py\n",
    "\n",
    "fname = '../h5files/ir_raman/ethenes.h5'\n",
    "hf = h5py.File(fname, \"r\")\n",
    "\n",
    "labels = ['ethene', 'fluoroethene', 'chloroethene']\n",
    "\n",
    "i = 0   \n",
    "for driver in [ethene_hessian_drv, fluoroethene_hessian_drv, chloroethene_hessian_drv]:\n",
    "    label = labels[i]\n",
    "    \n",
    "    driver.hessian = np.array(hf.get(label + '_hessian')) \n",
    "    driver.dipole_gradient = np.array( hf.get(label + '_dipolegrad'))\n",
    "    driver.polarizability_gradient = np.array(hf.get(label + '_polgrad')) \n",
    "    \n",
    "    i += 1\n",
    "\n",
    "hf.close()\n",
    "```"
   ]
  },
  {
   "cell_type": "code",
   "execution_count": null,
   "id": "93923297-607c-49c9-ae40-672fc856b791",
   "metadata": {},
   "outputs": [],
   "source": [
    "# Broadening function\n",
    "def add_broadening(list_ex_energy, list_osci_strength, line_profile='Lorentzian', line_param=10, step=10):\n",
    "        x_min = np.amin(list_ex_energy) - 50\n",
    "        x_max = np.amax(list_ex_energy) + 50\n",
    "        x = np.arange(x_min, x_max, step)\n",
    "        y = np.zeros((len(x)))\n",
    "        #print(x)\n",
    "        #print(y)\n",
    "\n",
    "        # go through the frames and calculate the spectrum for each frame\n",
    "        for xp in range(len(x)):\n",
    "            for e, f in zip(list_ex_energy, list_osci_strength):\n",
    "                if line_profile == 'Gaussian':\n",
    "                    y[xp] += f * np.exp(-(\n",
    "                        (e - x[xp]) / line_param)**2)\n",
    "                elif line_profile == 'Lorentzian':\n",
    "                    y[xp] += 0.5 * line_param * f / (np.pi * (\n",
    "                        (x[xp] - e)**2 + 0.25 * line_param**2))\n",
    "        return x, y\n",
    "\n",
    "        \n",
    "# To animate the normal mode we will need both the geometry and the displacements \n",
    "def get_normal_mode(molecule, normal_mode):\n",
    "    elements = molecule.get_labels()\n",
    "    coords = molecule.get_coordinates() * bohr_in_angstroms() # To transform from au to A\n",
    "    natm = molecule.number_of_atoms()\n",
    "    vib_xyz = \"%d\\n\\n\" % natm\n",
    "    nm = normal_mode.reshape(natm, 3)\n",
    "    for i in range(natm):\n",
    "        # add coordinates:\n",
    "        vib_xyz += elements[i] + \" %15.7f %15.7f %15.7f \" % (coords[i,0], coords[i,1], coords[i,2])\n",
    "        # add displacements:\n",
    "        vib_xyz += \"%15.7f %15.7f %15.7f\\n\" % (nm[i,0], nm[i,1], nm[i,2])\n",
    "    return vib_xyz"
   ]
  },
  {
   "cell_type": "markdown",
   "id": "cc78ddde-10b9-408e-beca-967a7df5eae9",
   "metadata": {},
   "source": [
    "## Vibrational analysis\n",
    "\n",
    "To get a summary of the vibrational analysis, one simply needs to run the following command:"
   ]
  },
  {
   "cell_type": "code",
   "execution_count": null,
   "id": "d16074af-61b2-4171-b06f-1a37291deaa7",
   "metadata": {},
   "outputs": [],
   "source": [
    "# Run for all molecules\n",
    "ethene_hessian_drv.vibrational_analysis(opt_ethene)\n",
    "fluoroethene_hessian_drv.vibrational_analysis(opt_fluoroethene)\n",
    "chloroethene_hessian_drv.vibrational_analysis(opt_chloroethene)"
   ]
  },
  {
   "cell_type": "code",
   "execution_count": null,
   "id": "38796d98-8cb6-457b-bcb3-bc14e9176e0e",
   "metadata": {},
   "outputs": [],
   "source": [
    "# Plot the IR spectra\n",
    "plt.figure(figsize=(7,4))\n",
    "\n",
    "eth_x, eth_ir = ethene_hessian_drv.frequencies, ethene_hessian_drv.ir_intensities\n",
    "flo_x, flo_ir = fluoroethene_hessian_drv.frequencies, fluoroethene_hessian_drv.ir_intensities\n",
    "chl_x, chl_ir = chloroethene_hessian_drv.frequencies, chloroethene_hessian_drv.ir_intensities\n",
    "\n",
    "eth_xl, eth_irl = add_broadening(eth_x, eth_ir, line_profile='Gaussian', line_param=20, step=2)\n",
    "flo_xl, flo_irl = add_broadening(flo_x, flo_ir, line_profile='Gaussian', line_param=20, step=2)\n",
    "chl_xl, chl_irl = add_broadening(chl_x, chl_ir, line_profile='Gaussian', line_param=20, step=2)\n",
    "\n",
    "plt.plot(eth_xl, eth_irl, label='Ethene')\n",
    "plt.plot(eth_x, eth_ir, 'x', label='Ethene')\n",
    "\n",
    "plt.plot(flo_xl, flo_irl, label='Fluoroethene')\n",
    "plt.plot(flo_x, flo_ir, '*', label='Fluoroethene')\n",
    "\n",
    "plt.plot(chl_xl, chl_irl, label='Chloroethene')\n",
    "plt.plot(chl_x, chl_ir, 'o' , label='Chloroethene')\n",
    "\n",
    "plt.xlabel('Wavenumber (cm**-1)')\n",
    "plt.axis(xmin=3200, xmax=3500)\n",
    "#plt.axis(ymin=-0.2, ymax=1.5)\n",
    "plt.axis(ymin=-0.2, ymax=50)\n",
    "plt.ylabel('IR intensity (km/mol)')\n",
    "plt.title(\"Calculated IR sepctra of substituted ethenes\")\n",
    "plt.legend()\n",
    "plt.tight_layout(); plt.show()"
   ]
  },
  {
   "cell_type": "code",
   "execution_count": null,
   "id": "736c5a5f-0b22-4ac9-82a8-a2d2c95024cb",
   "metadata": {},
   "outputs": [],
   "source": [
    "# Plot the IR spectra\n",
    "plt.figure(figsize=(7,4))\n",
    "\n",
    "eth_x, eth_ir = ethene_hessian_drv.frequencies, ethene_hessian_drv.raman_intensities\n",
    "flo_x, flo_ir = fluoroethene_hessian_drv.frequencies, fluoroethene_hessian_drv.raman_intensities\n",
    "chl_x, chl_ir = chloroethene_hessian_drv.frequencies, chloroethene_hessian_drv.raman_intensities\n",
    "\n",
    "eth_xl, eth_irl = add_broadening(eth_x, eth_ir, line_profile='Gaussian', line_param=20, step=2)\n",
    "flo_xl, flo_irl = add_broadening(flo_x, flo_ir, line_profile='Gaussian', line_param=20, step=2)\n",
    "chl_xl, chl_irl = add_broadening(chl_x, chl_ir, line_profile='Gaussian', line_param=20, step=2)\n",
    "\n",
    "plt.plot(eth_xl, eth_irl, label='Ethene')\n",
    "plt.plot(eth_x, eth_ir, 'x', label='Ethene')\n",
    "\n",
    "plt.plot(flo_xl, flo_irl, label='Fluoroethene')\n",
    "plt.plot(flo_x, flo_ir, '*', label='Fluoroethene')\n",
    "\n",
    "plt.plot(chl_xl, chl_irl, label='Chloroethene')\n",
    "plt.plot(chl_x, chl_ir, 'o' , label='Chloroethene')\n",
    "\n",
    "plt.xlabel('Wavenumber (cm**-1)')\n",
    "plt.axis(xmin=3200, xmax=3500)\n",
    "#plt.axis(ymin=-0.2, ymax=1.5)\n",
    "#plt.axis(ymin=-0.2, ymax=50)\n",
    "plt.ylabel('Raman activities')\n",
    "plt.title(\"Calculated Raman sepctra of substituted ethenes\")\n",
    "plt.legend()\n",
    "plt.tight_layout(); plt.show()"
   ]
  },
  {
   "cell_type": "code",
   "execution_count": null,
   "id": "05d9f0e2-b9d5-4586-acc8-aee39dcc20c6",
   "metadata": {},
   "outputs": [],
   "source": [
    "# Get the displacements of the normal mode\n",
    "ethene_h1 = get_normal_mode(ethene, ethene_hessian_drv.normal_modes[-1])\n",
    "fluoroethene_h1 = get_normal_mode(fluoroethene, fluoroethene_hessian_drv.normal_modes[-3])\n",
    "chloroethene_h1 = get_normal_mode(chloroethene, chloroethene_hessian_drv.normal_modes[-3])"
   ]
  },
  {
   "cell_type": "code",
   "execution_count": null,
   "id": "8fba0834-460a-463d-92e3-f4361327a04b",
   "metadata": {},
   "outputs": [],
   "source": [
    "# # Animate the vibration\n",
    "# view = p3d.view(viewergrid=(1,1), width=300, height=200, linked=True)\n",
    "# view.addModel(fluoroethene_h1, \"xyz\", {'vibrate': {'frames':10,'amplitude':0.75}}, viewer=(0,0))\n",
    "# view.setStyle({'stick':{}})\n",
    "# view.animate({'loop': 'backAndForth'})\n",
    "# view.zoomTo()\n",
    "# view.show()"
   ]
  },
  {
   "cell_type": "markdown",
   "id": "4330b398-12d7-4686-b3f0-c8556a3a28a8",
   "metadata": {},
   "source": [
    "## IR intensities and Raman activities\n",
    "\n",
    "To rationalize why the IR and Raman spectra look as they do, calculate how the dipole moment and polarizability change during particular vibrational motions. Look at the Hydrogen stretching modes and select a mode which is IR-active in ethene, but is \"suppressed\" in fluoroethene or chloroethene. What is the dipole moment in the optimized molecule? How does the dipole moment change during the vibration? "
   ]
  },
  {
   "cell_type": "code",
   "execution_count": null,
   "id": "941983b3-1165-4a72-9846-f9ab43973e9e",
   "metadata": {},
   "outputs": [],
   "source": [
    "ethene_prop = vlx.firstorderprop.FirstOrderProperties()\n",
    "ethene_prop.compute_scf_prop(opt_ethene, ethene_basis, ethene_scfdrv.scf_tensors)\n",
    "ethene_dipole_moment = ethene_prop.get_property('dipole moment')\n",
    "\n",
    "ethene_moments = []"
   ]
  },
  {
   "cell_type": "code",
   "execution_count": null,
   "id": "35bf69c8-12c5-400e-8dc5-b1a974f75cd8",
   "metadata": {},
   "outputs": [],
   "source": [
    "natm = opt_ethene.number_of_atoms()    \n",
    "new_ethene_scfdrv = vlx.scfrestdriver.ScfRestrictedDriver()\n",
    "displacements = ethene_hessian_drv.normal_modes[-1].reshape(natm, 3)\n",
    "labels = opt_ethene.get_labels()\n",
    "\n",
    "print(displacements.shape)"
   ]
  },
  {
   "cell_type": "code",
   "execution_count": null,
   "id": "3822ee56-d029-4efb-879a-397c16507791",
   "metadata": {
    "scrolled": true,
    "tags": []
   },
   "outputs": [],
   "source": [
    "for x in [-0.75, -0.5, -0.25, 0.0, 0.25, 0.5, 0.75]:\n",
    "    coords = opt_ethene.get_coordinates() * bohr_in_angstroms()\n",
    "    coords += x * displacements\n",
    "    new_ethene = vlx.molecule.Molecule(labels, coords, units='angstrom')\n",
    "    new_ethene_scfdrv.compute(new_ethene, ethene_basis)\n",
    "    ethene_prop.compute_scf_prop(new_ethene, ethene_basis, new_ethene_scfdrv.scf_tensors)\n",
    "    ethene_dipole_moment = ethene_prop.get_property('dipole moment')\n",
    "    ethene_moments.append(ethene_dipole_moment)"
   ]
  },
  {
   "cell_type": "code",
   "execution_count": null,
   "id": "cd9bbdb8-f46a-4b81-98ff-138cfc4d14f0",
   "metadata": {},
   "outputs": [],
   "source": [
    "ethene_moments_norms = []\n",
    "\n",
    "for m in ethene_moments:\n",
    "    norm = np.linalg.norm(m)\n",
    "    ethene_moments_norms.append(norm)"
   ]
  },
  {
   "cell_type": "code",
   "execution_count": null,
   "id": "332b2dd0-d905-4a31-a339-cf16c146e218",
   "metadata": {},
   "outputs": [],
   "source": [
    "disp = [-0.75, -0.5, -0.25, 0.0, 0.25, 0.5, 0.75]\n",
    "\n",
    "\n",
    "plt.plot(disp, ethene_moments_norms, label='Ethene')\n",
    "\n",
    "plt.xlabel('Displacement (%)')\n",
    "plt.ylabel('Norm of dipole moment (a.u.)')\n",
    "plt.title(\"Dipole Moment along the 3407.94 cm-1 mode\")\n",
    "plt.legend()\n",
    "plt.tight_layout(); plt.show()"
   ]
  },
  {
   "cell_type": "code",
   "execution_count": null,
   "id": "bd46322f-b174-447f-ba6d-10592ca34e8e",
   "metadata": {},
   "outputs": [],
   "source": [
    "ethene_lrdrv = vlx.lrsolver.LinearResponseSolver()\n",
    "ethene_pol_dict = ethene_lrdrv.compute(opt_ethene, ethene_basis, ethene_scfdrv.scf_tensors)"
   ]
  },
  {
   "cell_type": "code",
   "execution_count": null,
   "id": "94afbf7a-2791-4c42-bbf1-644a5faa7ba5",
   "metadata": {},
   "outputs": [],
   "source": [
    "ethene_pol_dict['response_functions']"
   ]
  },
  {
   "cell_type": "code",
   "execution_count": null,
   "id": "b4d8fc35-f345-45a8-a8d2-35859e701281",
   "metadata": {},
   "outputs": [],
   "source": []
  }
 ],
 "metadata": {
  "kernelspec": {
   "display_name": "Python 3 (ipykernel)",
   "language": "python",
   "name": "python3"
  },
  "language_info": {
   "codemirror_mode": {
    "name": "ipython",
    "version": 3
   },
   "file_extension": ".py",
   "mimetype": "text/x-python",
   "name": "python",
   "nbconvert_exporter": "python",
   "pygments_lexer": "ipython3",
   "version": "3.9.12"
  }
 },
 "nbformat": 4,
 "nbformat_minor": 5
}
