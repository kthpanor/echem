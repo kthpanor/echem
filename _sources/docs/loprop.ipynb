{
 "cells": [
  {
   "cell_type": "markdown",
   "id": "45849c60",
   "metadata": {
    "slideshow": {
     "slide_type": "slide"
    }
   },
   "source": [
    "(sec:loprop)=\n",
    "# LoProp charges and polarisabilities \n",
    "\n",
    "The *localised properties* (LoProp) method {cite}`Gagliardi2004` is a computationally inexpensive scheme that gives physically meaningful localised charges and polarisabilities that sum up to the corresponding molecular properties.\n",
    "\n",
    "In this scheme, we classify atomic orbitals in the basis set to be either *occupied* or *virtual* based on the associated atomic electron configurations. The former category includes both doubly and partially occupied sub-shells. \n",
    "\n",
    "We note that the family of atomic natiural orbital (ANO) basis sets is well suited for LoProp calculations as the basis functions are close to the orbitals of the atoms.\n",
    "\n",
    "## Reference LoProp calculations\n",
    "\n",
    "As an example, let us consider hydrogen floride at the Hartree–Fock/6-31G level of theory. We first run a reference LoProp calculation with the built-in module in the VeloxChem program and will thereafter repeat the LoProp calculation step-by-step in the notebook."
   ]
  },
  {
   "cell_type": "code",
   "execution_count": 1,
   "id": "limited-service",
   "metadata": {
    "slideshow": {
     "slide_type": "slide"
    },
    "tags": [
     "remove-output"
    ]
   },
   "outputs": [
    {
     "name": "stdout",
     "output_type": "stream",
     "text": [
      "* Warning * Environment variable OMP_NUM_THREADS not set.\n",
      "* Warning * Setting OMP_NUM_THREADS to 8.\n",
      "                                                                                                                          \n",
      "                                            Self Consistent Field Driver Setup                                            \n",
      "                                           ====================================                                           \n",
      "                                                                                                                          \n",
      "                   Wave Function Model             : Spin-Restricted Hartree-Fock                                         \n",
      "                   Initial Guess Model             : Superposition of Atomic Densities                                    \n",
      "                   Convergence Accelerator         : Two Level Direct Inversion of Iterative Subspace                     \n",
      "                   Max. Number of Iterations       : 50                                                                   \n",
      "                   Max. Number of Error Vectors    : 10                                                                   \n",
      "                   Convergence Threshold           : 1.0e-06                                                              \n",
      "                   ERI Screening Scheme            : Cauchy Schwarz + Density                                             \n",
      "                   ERI Screening Mode              : Dynamic                                                              \n",
      "                   ERI Screening Threshold         : 1.0e-12                                                              \n",
      "                   Linear Dependence Threshold     : 1.0e-06                                                              \n",
      "                                                                                                                          \n",
      "* Info * Nuclear repulsion energy: 5.1933064051 a.u.                                                                      \n",
      "                                                                                                                          \n",
      "* Info * Overlap matrix computed in 0.01 sec.                                                                             \n",
      "                                                                                                                          \n",
      "* Info * Kinetic energy matrix computed in 0.01 sec.                                                                      \n",
      "                                                                                                                          \n",
      "* Info * Nuclear potential matrix computed in 0.01 sec.                                                                   \n",
      "                                                                                                                          \n",
      "* Info * Orthogonalization matrix computed in 0.00 sec.                                                                   \n",
      "                                                                                                                          \n",
      "* Info * SAD initial guess computed in 0.00 sec.                                                                          \n",
      "                                                                                                                          \n",
      "* Info * Starting Reduced Basis SCF calculation...                                                                        \n",
      "* Info * ...done. SCF energy in reduced basis set: -99.983409452007 a.u. Time: 0.07 sec.                                  \n",
      "                                                                                                                          \n",
      "* Info * Overlap matrix computed in 0.00 sec.                                                                             \n",
      "                                                                                                                          \n",
      "* Info * Kinetic energy matrix computed in 0.00 sec.                                                                      \n",
      "                                                                                                                          \n",
      "* Info * Nuclear potential matrix computed in 0.00 sec.                                                                   \n",
      "                                                                                                                          \n",
      "* Info * Orthogonalization matrix computed in 0.00 sec.                                                                   \n",
      "                                                                                                                          \n",
      "                                                                                                                          \n",
      "               Iter. | Hartree-Fock Energy | Energy Change | Gradient Norm | Max. Gradient | Density Change               \n",
      "               --------------------------------------------------------------------------------------------               \n",
      "                  1       -99.983409477322    0.0000000000      0.00011705      0.00002091      0.00000000                \n",
      "                  2       -99.983409481185   -0.0000000039      0.00001858      0.00000290      0.00007371                \n",
      "                  3       -99.983409481232   -0.0000000000      0.00000753      0.00000141      0.00000775                \n",
      "                  4       -99.983409481236   -0.0000000000      0.00000073      0.00000012      0.00000140                \n",
      "                                                                                                                          \n",
      "               *** SCF converged in 4 iterations. Time: 0.03 sec.                                                         \n",
      "                                                                                                                          \n",
      "               Spin-Restricted Hartree-Fock:                                                                              \n",
      "               -----------------------------                                                                              \n",
      "               Total Energy                       :      -99.9834094812 a.u.                                              \n",
      "               Electronic Energy                  :     -105.1767158863 a.u.                                              \n",
      "               Nuclear Repulsion Energy           :        5.1933064051 a.u.                                              \n",
      "               ------------------------------------                                                                       \n",
      "               Gradient Norm                      :        0.0000007302 a.u.                                              \n",
      "                                                                                                                          \n",
      "                                                                                                                          \n",
      "               Ground State Information                                                                                   \n",
      "               ------------------------                                                                                   \n",
      "               Charge of Molecule            :  0.0                                                                       \n",
      "               Multiplicity (2S+1)           :  1.0                                                                       \n",
      "               Magnetic Quantum Number (M_S) :  0.0                                                                       \n",
      "                                                                                                                          \n",
      "                                                                                                                          \n",
      "                                                 Spin Restricted Orbitals                                                 \n",
      "                                                 ------------------------                                                 \n",
      "                                                                                                                          \n",
      "               Molecular Orbital No.   1:                                                                                 \n",
      "               --------------------------                                                                                 \n",
      "               Occupation: 2.000 Energy:  -26.27572 a.u.                                                                  \n",
      "               (   1 F   1s  :     1.00)                                                                                  \n",
      "                                                                                                                          \n",
      "               Molecular Orbital No.   2:                                                                                 \n",
      "               --------------------------                                                                                 \n",
      "               Occupation: 2.000 Energy:   -1.58958 a.u.                                                                  \n",
      "               (   1 F   1s  :     0.23) (   1 F   2s  :    -0.50) (   1 F   3s  :    -0.53)                              \n",
      "                                                                                                                          \n",
      "               Molecular Orbital No.   3:                                                                                 \n",
      "               --------------------------                                                                                 \n",
      "               Occupation: 2.000 Energy:   -0.73895 a.u.                                                                  \n",
      "               (   1 F   3s  :     0.24) (   1 F   1p0 :    -0.55) (   1 F   2p0 :    -0.35)                              \n",
      "               (   2 H   1s  :    -0.29)                                                                                  \n",
      "                                                                                                                          \n",
      "               Molecular Orbital No.   4:                                                                                 \n",
      "               --------------------------                                                                                 \n",
      "               Occupation: 2.000 Energy:   -0.63103 a.u.                                                                  \n",
      "               (   1 F   1p-1:    -0.66) (   1 F   2p-1:    -0.49)                                                        \n",
      "                                                                                                                          \n",
      "               Molecular Orbital No.   5:                                                                                 \n",
      "               --------------------------                                                                                 \n",
      "               Occupation: 2.000 Energy:   -0.63103 a.u.                                                                  \n",
      "               (   1 F   1p+1:     0.66) (   1 F   2p+1:     0.49)                                                        \n",
      "                                                                                                                          \n",
      "               Molecular Orbital No.   6:                                                                                 \n",
      "               --------------------------                                                                                 \n",
      "               Occupation: 0.000 Energy:    0.20968 a.u.                                                                  \n",
      "               (   1 F   3s  :     0.73) (   1 F   1p0 :     0.27) (   1 F   2p0 :     0.45)                              \n",
      "               (   2 H   2s  :    -1.36)                                                                                  \n",
      "                                                                                                                          \n",
      "               Molecular Orbital No.   7:                                                                                 \n",
      "               --------------------------                                                                                 \n",
      "               Occupation: 0.000 Energy:    1.11673 a.u.                                                                  \n",
      "               (   1 F   1p0 :    -0.41) (   1 F   2p0 :    -0.28) (   2 H   1s  :     1.39)                              \n",
      "               (   2 H   2s  :    -0.83)                                                                                  \n",
      "                                                                                                                          \n",
      "               Molecular Orbital No.   8:                                                                                 \n",
      "               --------------------------                                                                                 \n",
      "               Occupation: 0.000 Energy:    1.48947 a.u.                                                                  \n",
      "               (   1 F   1p+1:    -0.21) (   1 F   1p-1:     0.92) (   1 F   2p+1:     0.23)                              \n",
      "               (   1 F   2p-1:    -1.02)                                                                                  \n",
      "                                                                                                                          \n",
      "               Molecular Orbital No.   9:                                                                                 \n",
      "               --------------------------                                                                                 \n",
      "               Occupation: 0.000 Energy:    1.48947 a.u.                                                                  \n",
      "               (   1 F   1p+1:    -0.92) (   1 F   1p-1:    -0.21) (   1 F   2p+1:     1.02)                              \n",
      "               (   1 F   2p-1:     0.23)                                                                                  \n",
      "                                                                                                                          \n",
      "               Molecular Orbital No.  10:                                                                                 \n",
      "               --------------------------                                                                                 \n",
      "               Occupation: 0.000 Energy:    1.59322 a.u.                                                                  \n",
      "               (   1 F   2s  :    -0.58) (   1 F   3s  :     0.38) (   1 F   1p0 :     0.83)                              \n",
      "               (   1 F   2p0 :    -1.16) (   2 H   1s  :     0.41)                                                        \n",
      "                                                                                                                          \n"
     ]
    },
    {
     "name": "stdout",
     "output_type": "stream",
     "text": [
      "                                                                                                                          \n",
      "                                               Linear Response Solver Setup                                               \n",
      "                                              ==============================                                              \n",
      "                                                                                                                          \n",
      "                               Number of Frequencies           : 1                                                        \n",
      "                               Max. Number of Iterations       : 150                                                      \n",
      "                               Convergence Threshold           : 1.0e-04                                                  \n",
      "                               ERI Screening Scheme            : Cauchy Schwarz + Density                                 \n",
      "                               ERI Screening Threshold         : 1.0e-15                                                  \n",
      "                                                                                                                          \n",
      "* Info * Processing Fock builds... (batch size: 3)                                                                        \n",
      "* Info *   batch 1/1                                                                                                      \n",
      "                                                                                                                          \n",
      "* Info * 0 gerade trial vectors in reduced space                                                                          \n",
      "* Info * 3 ungerade trial vectors in reduced space                                                                        \n",
      "                                                                                                                          \n",
      "* Info * 4.38 kB of memory used for subspace procedure on the master node                                                 \n",
      "* Info * 1.88 GB of memory available for the solver on the master node                                                    \n",
      "                                                                                                                          \n",
      "               *** Iteration:   1 * Residuals (Max,Min): 8.53e-01 and 2.49e-01                                            \n",
      "                                                                                                                          \n",
      "               <<x;x>>_0.0000 :     -0.65040552 Residual Norm: 0.24851775                                                 \n",
      "               <<y;y>>_0.0000 :     -0.65040552 Residual Norm: 0.24851775                                                 \n",
      "               <<z;z>>_0.0000 :     -3.59166638 Residual Norm: 0.85319680                                                 \n",
      "                                                                                                                          \n",
      "* Info * Processing Fock builds... (batch size: 3)                                                                        \n",
      "* Info *   batch 1/1                                                                                                      \n",
      "                                                                                                                          \n",
      "* Info * 0 gerade trial vectors in reduced space                                                                          \n",
      "* Info * 6 ungerade trial vectors in reduced space                                                                        \n",
      "                                                                                                                          \n",
      "* Info * 5.82 kB of memory used for subspace procedure on the master node                                                 \n",
      "* Info * 1.88 GB of memory available for the solver on the master node                                                    \n",
      "                                                                                                                          \n",
      "               *** Iteration:   2 * Residuals (Max,Min): 1.84e-01 and 5.59e-02                                            \n",
      "                                                                                                                          \n",
      "               <<x;x>>_0.0000 :     -0.66278002 Residual Norm: 0.05587577                                                 \n",
      "               <<y;y>>_0.0000 :     -0.66278002 Residual Norm: 0.05587577                                                 \n",
      "               <<z;z>>_0.0000 :     -3.84693208 Residual Norm: 0.18443727                                                 \n",
      "                                                                                                                          \n",
      "* Info * Processing Fock builds... (batch size: 3)                                                                        \n",
      "* Info *   batch 1/1                                                                                                      \n",
      "                                                                                                                          \n",
      "* Info * 0 gerade trial vectors in reduced space                                                                          \n",
      "* Info * 9 ungerade trial vectors in reduced space                                                                        \n",
      "                                                                                                                          \n",
      "* Info * 7.26 kB of memory used for subspace procedure on the master node                                                 \n",
      "* Info * 1.88 GB of memory available for the solver on the master node                                                    \n",
      "                                                                                                                          \n",
      "               *** Iteration:   3 * Residuals (Max,Min): 1.67e-02 and 8.41e-03                                            \n",
      "                                                                                                                          \n",
      "               <<x;x>>_0.0000 :     -0.66306205 Residual Norm: 0.00841447                                                 \n",
      "               <<y;y>>_0.0000 :     -0.66306205 Residual Norm: 0.00841447                                                 \n",
      "               <<z;z>>_0.0000 :     -3.86930777 Residual Norm: 0.01665627                                                 \n",
      "                                                                                                                          \n",
      "* Info * Processing Fock builds... (batch size: 3)                                                                        \n",
      "* Info *   batch 1/1                                                                                                      \n",
      "                                                                                                                          \n",
      "* Info * 0 gerade trial vectors in reduced space                                                                          \n",
      "* Info * 12 ungerade trial vectors in reduced space                                                                       \n",
      "                                                                                                                          \n",
      "* Info * 8.70 kB of memory used for subspace procedure on the master node                                                 \n",
      "* Info * 1.88 GB of memory available for the solver on the master node                                                    \n",
      "                                                                                                                          \n",
      "               *** Iteration:   4 * Residuals (Max,Min): 2.45e-03 and 6.94e-04                                            \n",
      "                                                                                                                          \n",
      "               <<x;x>>_0.0000 :     -0.66306280 Residual Norm: 0.00069414                                                 \n",
      "               <<y;y>>_0.0000 :     -0.66306280 Residual Norm: 0.00069414                                                 \n",
      "               <<z;z>>_0.0000 :     -3.86948356 Residual Norm: 0.00244759                                                 \n",
      "                                                                                                                          \n"
     ]
    },
    {
     "name": "stdout",
     "output_type": "stream",
     "text": [
      "* Info * Processing Fock builds... (batch size: 3)                                                                        \n",
      "* Info *   batch 1/1                                                                                                      \n",
      "                                                                                                                          \n",
      "* Info * 0 gerade trial vectors in reduced space                                                                          \n",
      "* Info * 15 ungerade trial vectors in reduced space                                                                       \n",
      "                                                                                                                          \n",
      "* Info * 10.33 kB of memory used for subspace procedure on the master node                                                \n",
      "* Info * 1.88 GB of memory available for the solver on the master node                                                    \n",
      "                                                                                                                          \n",
      "               *** Iteration:   5 * Residuals (Max,Min): 1.89e-04 and 1.25e-05                                            \n",
      "                                                                                                                          \n",
      "               <<x;x>>_0.0000 :     -0.66306281 Residual Norm: 0.00001254                                                 \n",
      "               <<y;y>>_0.0000 :     -0.66306281 Residual Norm: 0.00001254                                                 \n",
      "               <<z;z>>_0.0000 :     -3.86948409 Residual Norm: 0.00018915                                                 \n",
      "                                                                                                                          \n",
      "* Info * Processing Fock builds... (batch size: 1)                                                                        \n",
      "* Info *   batch 1/1                                                                                                      \n",
      "                                                                                                                          \n",
      "* Info * 0 gerade trial vectors in reduced space                                                                          \n",
      "* Info * 16 ungerade trial vectors in reduced space                                                                       \n",
      "                                                                                                                          \n",
      "* Info * 10.62 kB of memory used for subspace procedure on the master node                                                \n",
      "* Info * 1.88 GB of memory available for the solver on the master node                                                    \n",
      "                                                                                                                          \n",
      "               *** Iteration:   6 * Residuals (Max,Min): 1.25e-05 and 6.15e-06                                            \n",
      "                                                                                                                          \n",
      "               <<z;z>>_0.0000 :     -3.86948409 Residual Norm: 0.00000615                                                 \n",
      "                                                                                                                          \n",
      "               *** Linear response converged in 6 iterations. Time: 0.14 sec                                              \n",
      "                                                                                                                          \n",
      "                                                                                                                          \n",
      "                                          Local Properties (LoProp) Calculations                                          \n",
      "                                         ========================================                                         \n",
      "                                                                                                                          \n",
      "                                                Molecular Polarisabilities                                                \n",
      "                                                --------------------------                                                \n",
      "                                                 alpha_xx :       0.6631                                                  \n",
      "                                                 alpha_yy :       0.6631                                                  \n",
      "                                                 alpha_zz :       3.8695                                                  \n",
      "                                                                                                                          \n",
      "                                                  LoProp Charges (a.u.)                                                   \n",
      "                                                  ---------------------                                                   \n",
      "                                                  F    :         -0.1191                                                  \n",
      "                                                  H    :          0.1191                                                  \n",
      "                                                                                                                          \n",
      "                                              LoProp Polarizabilities (a.u.)                                              \n",
      "                                              ------------------------------                                              \n",
      "                                      xx         xy         xz         yy         yz         zz                           \n",
      "                         F    :     0.4371    -0.0000     0.0000     0.4371     0.0000     1.9170                         \n",
      "                         H    :     0.2260     0.0000     0.0000     0.2260     0.0000     1.9525                         \n",
      "                                                                                                                          \n"
     ]
    }
   ],
   "source": [
    "import veloxchem as vlx\n",
    "import numpy as np\n",
    "from numpy.linalg import inv\n",
    "\n",
    "np.set_printoptions(precision=4, suppress=True, linewidth=132)\n",
    "\n",
    "mol_str = \"\"\"\n",
    "F        0.00000000    0.00000000     -0.1733\n",
    "H        0.00000000    0.00000000      1.5597\n",
    "\"\"\"\n",
    "\n",
    "molecule = vlx.Molecule.read_str(mol_str, units='au')\n",
    "basis = vlx.MolecularBasis.read(molecule, \"6-31G\")\n",
    "\n",
    "natoms = molecule.number_of_atoms()\n",
    "norb = basis.get_dimensions_of_basis(molecule)\n",
    "\n",
    "# SCF optimization\n",
    "scf_drv = vlx.ScfRestrictedDriver()\n",
    "scf_drv.compute(molecule, basis)\n",
    "\n",
    "# LoProp\n",
    "loprop_drv = vlx.LoPropDriver()\n",
    "loprop_out = loprop_drv.compute(molecule, basis, scf_drv.scf_tensors)"
   ]
  },
  {
   "cell_type": "code",
   "execution_count": 2,
   "id": "6ff5304e",
   "metadata": {},
   "outputs": [
    {
     "name": "stdout",
     "output_type": "stream",
     "text": [
      "Localized charges (a.u.):\n",
      "F: -0.1191\n",
      "H:  0.1191\n",
      "\n",
      "Localized polarizabilities (a.u.):\n",
      "     xx      xy      xz      yy      yz      zz\n",
      "F: [ 0.4371 -0.      0.      0.4371  0.      1.917 ]\n",
      "H: [0.226  0.     0.     0.226  0.     1.9525]\n"
     ]
    }
   ],
   "source": [
    "print(\"Localized charges (a.u.):\")\n",
    "print(f\"F: {loprop_out['localized_charges'][0] : .4f}\")\n",
    "print(f\"H: {loprop_out['localized_charges'][1] : .4f}\")\n",
    "\n",
    "print(\"\\nLocalized polarizabilities (a.u.):\")\n",
    "print(\"     xx      xy      xz      yy      yz      zz\")\n",
    "print(f\"F: {loprop_out['localized_polarizabilities'][0]}\")\n",
    "print(f\"H: {loprop_out['localized_polarizabilities'][1]}\")"
   ]
  },
  {
   "cell_type": "markdown",
   "id": "cosmetic-dress",
   "metadata": {
    "slideshow": {
     "slide_type": "slide"
    }
   },
   "source": [
    "## LoProp transformation\n",
    "\n",
    "A LoProp transformation is performed of the atomic orbitals to obtain an orthonormal set of basis functions\n",
    "\n",
    "$$\n",
    "| \\boldsymbol{\\chi}^\\mathrm{L} \\rangle = | \\boldsymbol{\\chi} \\rangle \\mathbf{T}\n",
    "$$\n",
    "\n",
    "This transformation is decomposed into five steps\n",
    "\n",
    "$$ \n",
    "\\mathbf{T} = \\mathbf{T}_0 \\times \\mathbf{T}_1 \\times \\mathbf{T}_2 \\times \\mathbf{T}_3  \\times \\mathbf{T}_4\n",
    "$$\n",
    "\n",
    "- T0: Reordering of atomic orbitals\n",
    "- T1: Gram–Schmidt orthonormalisation for each atom block\n",
    "- T2: Lödwin orthonomalisation on occupied and virtual\n",
    "- T3: occupied to virtual projection\n",
    "- T4: Lödwin virtual\n",
    "\n",
    "with the overall aim to retain the atomic character of the occupied orbitals.\n",
    "\n",
    "We start with the overlap matrix, $S$, in the original AO basis:"
   ]
  },
  {
   "cell_type": "code",
   "execution_count": 3,
   "id": "e2fa1ff4",
   "metadata": {},
   "outputs": [
    {
     "name": "stdout",
     "output_type": "stream",
     "text": [
      "[[1.     0.2443 0.1716 0.0341 0.0601 0.     0.     0.     0.     0.     0.    ]\n",
      " [0.2443 1.     0.7635 0.2275 0.3321 0.     0.     0.     0.     0.     0.    ]\n",
      " [0.1716 0.7635 1.     0.4306 0.6374 0.     0.     0.     0.     0.     0.    ]\n",
      " [0.0341 0.2275 0.4306 1.     0.6583 0.     0.     0.2409 0.5971 0.     0.    ]\n",
      " [0.0601 0.3321 0.6374 0.6583 1.     0.     0.     0.1098 0.4105 0.     0.    ]\n",
      " [0.     0.     0.     0.     0.     1.     0.4995 0.     0.     0.     0.    ]\n",
      " [0.     0.     0.     0.     0.     0.4995 1.     0.     0.     0.     0.    ]\n",
      " [0.     0.     0.     0.2409 0.1098 0.     0.     1.     0.4995 0.     0.    ]\n",
      " [0.     0.     0.     0.5971 0.4105 0.     0.     0.4995 1.     0.     0.    ]\n",
      " [0.     0.     0.     0.     0.     0.     0.     0.     0.     1.     0.4995]\n",
      " [0.     0.     0.     0.     0.     0.     0.     0.     0.     0.4995 1.    ]]\n"
     ]
    }
   ],
   "source": [
    "S = scf_drv.scf_tensors['S']\n",
    "\n",
    "print(S)"
   ]
  },
  {
   "cell_type": "markdown",
   "id": "institutional-anatomy",
   "metadata": {
    "slideshow": {
     "slide_type": "slide"
    }
   },
   "source": [
    "### T0: Atomic orbital rearrangement\n",
    "\n",
    "```{figure} /img/loprop_T0.svg\n",
    "---\n",
    "name: T0 transformation\n",
    "align: center\n",
    "---\n",
    "Re-arranging atomic orbitals.\n",
    "```\n",
    "\n",
    "For hydrogen floride with the user defined order of atoms (F before H), the AOs are arranged as follow:\n",
    "\n",
    " <font color='red'>$\\chi_{1s}^{F}$, $\\chi_{2s}^{F}$</font>,  $\\chi_{3s}^{F}$\n",
    " <font color='red'>$\\chi_{1s}^{H}$</font>, $\\chi_{2s}^{H}$\n",
    " <font color='red'>$\\chi_{1py}^{F}$</font>, $\\chi_{2py}^{F}$,\n",
    " <font color='red'>$\\chi_{1pz}^{F}$</font>, $\\chi_{2pz}^{F}$,\n",
    " <font color='red'>$\\chi_{1px}^{F}$</font>, $\\chi_{2px}^{F}$\n",
    "\n",
    "where orbitals classified as occupied are high-lighted in red. The $T_0$ transformation re-arranges the orbitals as follows:\n",
    "\n",
    " <font color='red'>$\\chi_{1s}^{F}$, $\\chi_{2s}^{F}$</font>, $\\chi_{3s}^{F}$,\n",
    " <font color='red'>$\\chi_{1px}^{F}$, $\\chi_{1py}^{F}$,$\\chi_{1pz}^{F}$</font>,\n",
    " $\\chi_{2px}^{F}$, $\\chi_{2py}^{F}$,$\\chi_{2pz}^{F}$,  <font color='red'>$\\chi_{1s}^{H}$</font>,\n",
    "$\\chi_{2s}^{H}$"
   ]
  },
  {
   "cell_type": "code",
   "execution_count": 4,
   "id": "julian-couple",
   "metadata": {
    "slideshow": {
     "slide_type": "subslide"
    }
   },
   "outputs": [
    {
     "name": "stdout",
     "output_type": "stream",
     "text": [
      "Rearranged AO indices： [ 0  1  2  9  5  7 10  6  8  3  4]\n"
     ]
    }
   ],
   "source": [
    "rearranged_indices=[]\n",
    "\n",
    "for atom in range(natoms):\n",
    "    indices, angmoms = vlx.get_basis_function_indices_for_atom(molecule, basis, atom)\n",
    "    rearranged_indices.append(indices)\n",
    "    \n",
    "rearranged_indices = np.concatenate(rearranged_indices)\n",
    "\n",
    "print('Rearranged AO indices：', rearranged_indices)"
   ]
  },
  {
   "cell_type": "code",
   "execution_count": 5,
   "id": "stuffed-culture",
   "metadata": {
    "slideshow": {
     "slide_type": "subslide"
    }
   },
   "outputs": [
    {
     "name": "stdout",
     "output_type": "stream",
     "text": [
      "[[1.     0.2443 0.1716 0.     0.     0.     0.     0.     0.     0.0341 0.0601]\n",
      " [0.2443 1.     0.7635 0.     0.     0.     0.     0.     0.     0.2275 0.3321]\n",
      " [0.1716 0.7635 1.     0.     0.     0.     0.     0.     0.     0.4306 0.6374]\n",
      " [0.     0.     0.     1.     0.     0.     0.4995 0.     0.     0.     0.    ]\n",
      " [0.     0.     0.     0.     1.     0.     0.     0.4995 0.     0.     0.    ]\n",
      " [0.     0.     0.     0.     0.     1.     0.     0.     0.4995 0.2409 0.1098]\n",
      " [0.     0.     0.     0.4995 0.     0.     1.     0.     0.     0.     0.    ]\n",
      " [0.     0.     0.     0.     0.4995 0.     0.     1.     0.     0.     0.    ]\n",
      " [0.     0.     0.     0.     0.     0.4995 0.     0.     1.     0.5971 0.4105]\n",
      " [0.0341 0.2275 0.4306 0.     0.     0.2409 0.     0.     0.5971 1.     0.6583]\n",
      " [0.0601 0.3321 0.6374 0.     0.     0.1098 0.     0.     0.4105 0.6583 1.    ]]\n"
     ]
    }
   ],
   "source": [
    "T0 = np.zeros((norb, norb))\n",
    "\n",
    "for col, row in enumerate(rearranged_indices):\n",
    "    T0[row, col] = 1\n",
    "\n",
    "S0 = np.einsum('ba,bc,cd->ad', T0, S, T0)\n",
    "print(S0)"
   ]
  },
  {
   "cell_type": "markdown",
   "id": "prostate-recognition",
   "metadata": {
    "slideshow": {
     "slide_type": "slide"
    }
   },
   "source": [
    "### T1: Gram–Schmidt orthogonalization of atomic blocks\n",
    "\n",
    "```{figure} /img/loprop_T1.svg\n",
    "---\n",
    "name: T1 transformation\n",
    "align: center\n",
    "---\n",
    "Diagonalization of the atomic blocks.\n",
    "```\n",
    "\n",
    "Orthonormality in the atomic blocks of the overlap matrix is reached with a Gram–Schmidt orthogonalization, or equivalently with a Cholesky factorization. Using Gram-Schmidt orthogonalization ensures that the atomic subspace of the occupied basis functions is left intact. We have\n",
    "\n",
    "$S_0 = L L^T$\n",
    "\n",
    "where $L$ is a lower triangular matrix. We get\n",
    "\n",
    "$I = L^{-1} S_0 [L^T]^{-1}$\n",
    "\n",
    "and identify\n",
    "\n",
    "$T_1 = [L^T]^{-1}$ "
   ]
  },
  {
   "cell_type": "code",
   "execution_count": 6,
   "id": "square-house",
   "metadata": {
    "slideshow": {
     "slide_type": "subslide"
    }
   },
   "outputs": [
    {
     "name": "stdout",
     "output_type": "stream",
     "text": [
      "Occupied orbitals: [0, 1, 3, 4, 5, 9]\n",
      "Virtual orbitals: [2, 6, 7, 8, 10] \n",
      "\n",
      "[[ 1.     -0.      0.      0.      0.      0.      0.      0.      0.      0.0341  0.0501]\n",
      " [ 0.      1.     -0.      0.      0.      0.      0.      0.      0.      0.226   0.2372]\n",
      " [ 0.     -0.      1.      0.      0.      0.      0.      0.      0.      0.3975  0.4416]\n",
      " [ 0.      0.      0.      1.      0.      0.      0.      0.      0.      0.      0.    ]\n",
      " [ 0.      0.      0.      0.      1.      0.      0.      0.      0.      0.      0.    ]\n",
      " [ 0.      0.      0.      0.      0.      1.      0.      0.      0.      0.2409 -0.0647]\n",
      " [ 0.      0.      0.      0.      0.      0.      1.      0.      0.      0.      0.    ]\n",
      " [ 0.      0.      0.      0.      0.      0.      0.      1.      0.      0.      0.    ]\n",
      " [ 0.      0.      0.      0.      0.      0.      0.      0.      1.      0.5504  0.0641]\n",
      " [ 0.0341  0.226   0.3975  0.      0.      0.2409  0.      0.      0.5504  1.     -0.    ]\n",
      " [ 0.0501  0.2372  0.4416  0.      0.     -0.0647  0.      0.      0.0641 -0.      1.    ]]\n"
     ]
    }
   ],
   "source": [
    "T1 = np.zeros((norb,norb))\n",
    "\n",
    "norb_per_atom, indices_occ, indices_virt = loprop_drv.get_ao_indices(molecule, basis)\n",
    "\n",
    "print('Occupied orbitals:', indices_occ)\n",
    "print('Virtual orbitals:', indices_virt, '\\n')\n",
    "\n",
    "ri = 0\n",
    "for atom in range(natoms):\n",
    "\n",
    "    rf = ri + norb_per_atom[atom]\n",
    "\n",
    "    L = np.linalg.cholesky(S0[ri:rf, ri:rf])\n",
    "    T1[ri:rf, ri:rf] = np.linalg.inv(L.T)\n",
    "\n",
    "    ri += norb_per_atom[atom]\n",
    "\n",
    "S1 = np.einsum('ba,bc,cd->ad', T1, S0, T1)\n",
    "print(S1)"
   ]
  },
  {
   "cell_type": "markdown",
   "id": "annoying-antibody",
   "metadata": {
    "slideshow": {
     "slide_type": "slide"
    }
   },
   "source": [
    "### T2: Lödwin orthonormalization of occupied and virtual blocks\n",
    "\n",
    "```{figure} /img/loprop_T2.svg\n",
    "---\n",
    "name: T2 transformation\n",
    "align: center\n",
    "---\n",
    "Diagonalization of the occupied and virtual blocks.\n",
    "```\n",
    "\n",
    "The use of Löwdin orthonormalization ensures that the orbitals in the occupied and virtual subspaces are made orthonormal with a minimal modification as compared to the original atomic orbitals."
   ]
  },
  {
   "cell_type": "code",
   "execution_count": 7,
   "id": "adopted-group",
   "metadata": {
    "scrolled": true,
    "slideshow": {
     "slide_type": "subslide"
    }
   },
   "outputs": [
    {
     "name": "stdout",
     "output_type": "stream",
     "text": [
      "[[ 1.     -0.     -0.0209 -0.      0.     -0.      0.      0.     -0.0121  0.      0.0573]\n",
      " [-0.      1.     -0.1143 -0.      0.     -0.      0.      0.     -0.0765 -0.      0.2767]\n",
      " [-0.0209 -0.1143  1.     -0.      0.     -0.0414  0.      0.      0.      0.4636 -0.    ]\n",
      " [-0.     -0.     -0.      1.     -0.     -0.      0.      0.     -0.     -0.     -0.    ]\n",
      " [ 0.      0.      0.     -0.      1.      0.      0.      0.      0.      0.     -0.    ]\n",
      " [-0.     -0.     -0.0414 -0.      0.      1.      0.      0.     -0.0698 -0.     -0.0505]\n",
      " [ 0.      0.      0.      0.      0.      0.      1.      0.      0.      0.      0.    ]\n",
      " [ 0.      0.      0.      0.      0.      0.      0.      1.      0.      0.      0.    ]\n",
      " [-0.0121 -0.0765  0.     -0.      0.     -0.0698  0.      0.      1.      0.5822 -0.    ]\n",
      " [ 0.     -0.      0.4636 -0.      0.     -0.      0.      0.      0.5822  1.     -0.1497]\n",
      " [ 0.0573  0.2767 -0.     -0.     -0.     -0.0505  0.      0.     -0.     -0.1497  1.    ]]\n"
     ]
    }
   ],
   "source": [
    "T2 = np.zeros((norb, norb))\n",
    "\n",
    "S1_oo = S1[indices_occ, :][:, indices_occ]\n",
    "T2_oo = loprop_drv.lowdin_orthonormalize(S1_oo)\n",
    "\n",
    "nocc = len(indices_occ)\n",
    "nvirt = len(indices_virt)\n",
    "\n",
    "for r in range(nocc):\n",
    "    for c in range(nocc):\n",
    "        T2[indices_occ[r], indices_occ[c]] = T2_oo[r, c]\n",
    "\n",
    "S1_vv = S1[indices_virt, :][:, indices_virt]\n",
    "T2_vv = loprop_drv.lowdin_orthonormalize(S1_vv)\n",
    "\n",
    "for r in range(nvirt):\n",
    "    for c in range(nvirt):\n",
    "        T2[indices_virt[r], indices_virt[c]] = T2_vv[r, c]\n",
    "        \n",
    "S2 = np.einsum('ba,bc,cd->ad', T2, S1, T2)\n",
    "print(S2)"
   ]
  },
  {
   "cell_type": "markdown",
   "id": "rising-correspondence",
   "metadata": {
    "slideshow": {
     "slide_type": "slide"
    }
   },
   "source": [
    "### T3: Occupied–virtual projection\n",
    "\n",
    "```{figure} /img/loprop_T3.svg\n",
    "---\n",
    "name: T3 transformation\n",
    "align: center\n",
    "---\n",
    "Projecting out the occupied space from the virtual.\n",
    "```\n",
    "\n",
    "Components from the occipied subspace are projected out of the virtual subspace by means of Gram–Schmidt orthonormalizaton."
   ]
  },
  {
   "cell_type": "code",
   "execution_count": 8,
   "id": "leading-begin",
   "metadata": {
    "slideshow": {
     "slide_type": "subslide"
    }
   },
   "outputs": [
    {
     "name": "stdout",
     "output_type": "stream",
     "text": [
      "[[ 1.     -0.     -0.     -0.      0.     -0.      0.      0.     -0.      0.      0.    ]\n",
      " [-0.      1.      0.     -0.      0.     -0.      0.      0.      0.     -0.      0.    ]\n",
      " [-0.      0.      0.7698  0.     -0.     -0.      0.      0.     -0.2818  0.      0.1001]\n",
      " [-0.     -0.      0.      1.     -0.     -0.      0.      0.      0.     -0.      0.    ]\n",
      " [ 0.      0.     -0.     -0.      1.      0.      0.      0.     -0.      0.      0.    ]\n",
      " [-0.     -0.     -0.     -0.      0.      1.      0.      0.     -0.     -0.      0.    ]\n",
      " [ 0.      0.      0.      0.      0.      0.      1.      0.      0.      0.      0.    ]\n",
      " [ 0.      0.      0.      0.      0.      0.      0.      1.      0.      0.      0.    ]\n",
      " [-0.      0.     -0.2818  0.     -0.     -0.      0.      0.      0.6502  0.      0.1055]\n",
      " [ 0.     -0.      0.     -0.      0.     -0.      0.      0.      0.      1.     -0.    ]\n",
      " [ 0.      0.      0.1001  0.      0.      0.      0.      0.      0.1055 -0.      0.8952]]\n"
     ]
    }
   ],
   "source": [
    "T3 = np.identity(norb)\n",
    "\n",
    "S2_ov = S2[indices_occ, :][:, indices_virt]\n",
    "\n",
    "for i, index_occ in enumerate(indices_occ):\n",
    "    for j, index_virt in enumerate(indices_virt):\n",
    "        T3[index_occ, index_virt] = - S2_ov[i, j]\n",
    "\n",
    "S3 = np.einsum('ba,bc,cd->ad', T3, S2, T3)\n",
    "print(S3)"
   ]
  },
  {
   "cell_type": "markdown",
   "id": "genuine-notification",
   "metadata": {
    "slideshow": {
     "slide_type": "slide"
    }
   },
   "source": [
    "### T4: Lödwin  orthogonalizatio of virtual blocks\n",
    "\n",
    "```{figure} /img/loprop_T4.svg\n",
    "---\n",
    "name: T4 transformation\n",
    "align: center\n",
    "---\n",
    "Diagonalization the virtual subspace.\n",
    "```\n",
    "\n",
    "The virtual subspace is Löwdin orthonmalised."
   ]
  },
  {
   "cell_type": "code",
   "execution_count": 9,
   "id": "graduate-swimming",
   "metadata": {
    "slideshow": {
     "slide_type": "subslide"
    }
   },
   "outputs": [
    {
     "name": "stdout",
     "output_type": "stream",
     "text": [
      "[[ 1. -0. -0. -0.  0. -0.  0. -0. -0.  0.  0.]\n",
      " [-0.  1.  0. -0.  0. -0.  0.  0.  0. -0.  0.]\n",
      " [-0.  0.  1.  0. -0. -0.  0. -0.  0.  0. -0.]\n",
      " [-0. -0.  0.  1. -0. -0.  0. -0.  0. -0.  0.]\n",
      " [ 0.  0. -0. -0.  1.  0. -0. -0. -0.  0.  0.]\n",
      " [-0. -0. -0. -0.  0.  1.  0. -0. -0. -0.  0.]\n",
      " [ 0.  0.  0.  0. -0.  0.  1.  0.  0.  0.  0.]\n",
      " [-0.  0. -0. -0. -0. -0.  0.  1.  0.  0. -0.]\n",
      " [-0.  0.  0.  0. -0. -0.  0.  0.  1.  0. -0.]\n",
      " [ 0. -0.  0. -0.  0. -0.  0.  0.  0.  1. -0.]\n",
      " [ 0.  0. -0.  0.  0.  0.  0. -0. -0. -0.  1.]]\n"
     ]
    }
   ],
   "source": [
    "T4 = np.identity(norb)\n",
    "\n",
    "S3_vv = S3[indices_virt, :][:, indices_virt]\n",
    "T4_vv = loprop_drv.lowdin_orthonormalize(S3_vv)\n",
    "\n",
    "for i, index_virt1 in enumerate(indices_virt):\n",
    "    for j, index_virt2 in enumerate(indices_virt):\n",
    "        T4[index_virt1, index_virt2] = T4_vv[i, j]\n",
    "        \n",
    "S4 = np.einsum('ba,bc,cd->ad', T4, S3, T4)\n",
    "print(S4)"
   ]
  },
  {
   "cell_type": "markdown",
   "id": "capable-river",
   "metadata": {
    "slideshow": {
     "slide_type": "slide"
    }
   },
   "source": [
    "The complete LoProp transformation matrix is formed."
   ]
  },
  {
   "cell_type": "code",
   "execution_count": 10,
   "id": "35adb1be",
   "metadata": {},
   "outputs": [],
   "source": [
    "T = np.einsum('ab,bc,cd,de,ef->af', T0, T1, T2, T3, T4)"
   ]
  },
  {
   "cell_type": "markdown",
   "id": "12b640e6",
   "metadata": {},
   "source": [
    "The orbitals in the LoProp basis are atomic in character:"
   ]
  },
  {
   "cell_type": "code",
   "execution_count": 11,
   "id": "controlled-conditions",
   "metadata": {},
   "outputs": [
    {
     "name": "stdout",
     "output_type": "stream",
     "text": [
      "   F 1s    F 2s    F 2px   F 2py   F 2pz   H 1s\n",
      " -------------------------------------------------\n",
      "[[ 0.9997 -0.2541  0.      0.     -0.0022  0.0123]\n",
      " [ 0.0032  1.0527 -0.      0.      0.0229 -0.1253]\n",
      " [ 0.      0.      0.      0.      0.      0.    ]\n",
      " [-0.0183 -0.1215 -0.      0.     -0.1295  1.045 ]\n",
      " [ 0.      0.      0.      0.      0.      0.    ]\n",
      " [ 0.      0.     -0.      1.      0.      0.    ]\n",
      " [ 0.      0.      0.      0.      0.      0.    ]\n",
      " [ 0.0033  0.0222 -0.      0.      1.0237 -0.1295]\n",
      " [ 0.      0.      0.      0.      0.      0.    ]\n",
      " [ 0.     -0.      1.     -0.     -0.     -0.    ]\n",
      " [ 0.      0.      0.      0.      0.      0.    ]]\n"
     ]
    }
   ],
   "source": [
    "print('   F 1s    F 2s    F 2px   F 2py   F 2pz   H 1s\\n', '-'*49)\n",
    "print(T[:,indices_occ])"
   ]
  },
  {
   "cell_type": "markdown",
   "id": "dirty-escape",
   "metadata": {
    "slideshow": {
     "slide_type": "slide"
    }
   },
   "source": [
    "## Localization of first-order properties\n",
    "\n",
    "A molecular first-order property associated with an expctation value of a one-electron operator can be expressed as\n",
    "\n",
    "$$\n",
    "\\langle \\hat{\\Omega} \\rangle = \\mathrm{tr}\n",
    "\\big[\n",
    "\\Omega D\n",
    "\\big]\n",
    "$$\n",
    "\n",
    "where $\\Omega$ and $D$ are the property and one-particle reduced density matrices in original AO basis, respectively. This trace can equally well be evaluated in the LoProp basis after transforming the matrices.\n",
    "\n",
    "From the LCAO expansions of MOs\n",
    "\n",
    "$$\n",
    "| \\boldsymbol{\\phi} \\rangle = | \\boldsymbol{\\chi} \\rangle C\n",
    "= | \\boldsymbol{\\chi}^\\mathrm{L} \\rangle T^{-1} C\n",
    "$$\n",
    "\n",
    "we identify\n",
    "\n",
    "$$\n",
    "C^\\mathrm{L} = T^{-1} C\n",
    "$$\n",
    "\n",
    "and consequently\n",
    "\n",
    "$$\n",
    "D^\\mathrm{L} = T^{-1} D \\, [T^\\dagger]^{-1} = T^{-1} D \\, [T^{-1}]^\\dagger\n",
    "$$\n",
    "\n",
    "The transformation of property matrices is straightforwardly shown to be given by\n",
    "\n",
    "$$\n",
    "\\Omega^\\mathrm{L} = T^\\dagger \\Omega T\n",
    "$$\n",
    "\n",
    "\n",
    "We arrive at an decomposition of first-order properties in atomic contributions according to\n",
    "\n",
    "$$\n",
    "\\langle \\hat{\\Omega} \\rangle = \n",
    "\\sum_{A}\n",
    "\\Omega^\\mathrm{L}_{A}; \\qquad\n",
    "\\Omega^\\mathrm{L}_{A} = \\sum_{B}\n",
    "\\Omega^\\mathrm{L}_{AB}; \\qquad\n",
    "\\Omega^\\mathrm{L}_{AB} =\n",
    "\\sum_{\\alpha \\in A}\n",
    "\\sum_{\\beta \\in B}\n",
    "\\Omega^\\mathrm{L}_{\\alpha\\beta} D^\\mathrm{L}_{\\beta\\alpha}\n",
    "$$\n",
    "\n",
    "where $A$ and $B$ are atom indices and $\\alpha$ and $\\beta$ are atomic orbital indices."
   ]
  },
  {
   "cell_type": "code",
   "execution_count": 12,
   "id": "28246730",
   "metadata": {},
   "outputs": [],
   "source": [
    "def atomic_property(Omega, D):\n",
    "    \n",
    "    Omega_AB = np.zeros((natoms, natoms))\n",
    "\n",
    "    Omega_L = np.einsum('ba,bc,cd->ad', T, Omega, T)\n",
    "    D_L = np.einsum('ab,bc,dc->ad', inv(T), D, inv(T))\n",
    "    \n",
    "    idx_A = 0\n",
    "    for A in range(natoms):\n",
    "\n",
    "        idx_B = 0\n",
    "        for B in range(natoms):\n",
    "            \n",
    "            P = Omega_L[idx_A : idx_A + norb_per_atom[A], idx_B : idx_B + norb_per_atom[B]]\n",
    "            Q = D_L[idx_A : idx_A + norb_per_atom[A], idx_B : idx_B + norb_per_atom[B]]\n",
    "        \n",
    "            Omega_AB[A,B] = np.matmul(P.T, Q).trace()\n",
    "                    \n",
    "            idx_B += norb_per_atom[B]\n",
    "            \n",
    "        idx_A += norb_per_atom[A]\n",
    "        \n",
    "    return Omega_AB"
   ]
  },
  {
   "cell_type": "markdown",
   "id": "b8b70fae",
   "metadata": {
    "slideshow": {
     "slide_type": "slide"
    }
   },
   "source": [
    "### Localized charges\n",
    "\n",
    "The total electronic charge is equal to\n",
    "\n",
    "$$\n",
    "Q = -e \\, \n",
    "\\mathrm{tr} \\big[ S D \\big]\n",
    "$$\n",
    "\n",
    "The atomic charges are obtained from the partial summations over atomic orbitals in the orthonormal LoProp basis\n",
    "\n",
    "$$\n",
    "Q_A = \n",
    "- e\n",
    "\\sum_{\\alpha \\in A}\n",
    "D^\\mathrm{L}_{\\alpha\\alpha}\n",
    "$$\n"
   ]
  },
  {
   "cell_type": "code",
   "execution_count": 13,
   "id": "cd290f8b",
   "metadata": {
    "scrolled": true
   },
   "outputs": [
    {
     "name": "stdout",
     "output_type": "stream",
     "text": [
      "Total electronic charge: -10.0000\n",
      "Localized atomic charges: [-0.1191  0.1191]\n"
     ]
    }
   ],
   "source": [
    "# atomic numbers and therefore nuclear charge in atomic units\n",
    "Z_A = molecule.elem_ids_to_numpy()\n",
    "D = 2 * scf_drv.scf_tensors['D_alpha']\n",
    "\n",
    "Q_A = - atomic_property(S, D).sum(axis = 1)\n",
    "Q = Q_A.sum()\n",
    "\n",
    "print(f\"Total electronic charge: {Q : .4f}\")\n",
    "print(f\"Localized atomic charges: {Q_A + Z_A}\")"
   ]
  },
  {
   "cell_type": "markdown",
   "id": "8e657dbb",
   "metadata": {},
   "source": [
    "### Localized dipole moments\n",
    "\n",
    "With $\\hat{\\Omega} =  -e \\, \\hat{z}$, the associated property is the electronic dipole moment along the bond axis.\n",
    "\n",
    "The total molecular electronic dipole moment is equal to\n",
    "\n",
    "$$\n",
    "\\langle \\hat{\\mu} \\rangle = \\mathrm{tr} \\big[ \\mu D \\big]\n",
    "$$"
   ]
  },
  {
   "cell_type": "code",
   "execution_count": 14,
   "id": "05916e93",
   "metadata": {},
   "outputs": [
    {
     "name": "stdout",
     "output_type": "stream",
     "text": [
      "Total dipole moment:  0.9033\n",
      "\n",
      "mu_AB:\n",
      " [[ 2.0947  0.1471]\n",
      " [ 0.1471 -1.4855]]\n"
     ]
    }
   ],
   "source": [
    "dipole_drv = vlx.ElectricDipoleIntegralsDriver()\n",
    "dipole_mats = dipole_drv.compute(molecule, basis)\n",
    "\n",
    "mu = - dipole_mats.z_to_numpy()\n",
    "\n",
    "mu_AB = atomic_property(mu, D)\n",
    "\n",
    "print(f'Total dipole moment: {mu_AB.sum() : .4f}')\n",
    "print('\\nmu_AB:\\n', mu_AB)"
   ]
  },
  {
   "cell_type": "markdown",
   "id": "167bfe50",
   "metadata": {},
   "source": [
    "We note that the nuclear contribution to the total molecular dipole moment here vanished as due to our choice of placing the origin of the coordinate system at the center of nuclear charge. "
   ]
  },
  {
   "cell_type": "markdown",
   "id": "2d6191a5",
   "metadata": {},
   "source": [
    "The local dipole moment is origin dependent and local origins are therefore used.\n",
    "\n",
    "```{figure} /img/loprop_local_origin.svg\n",
    "---\n",
    "name: Local origin\n",
    "align: center\n",
    "---\n",
    "Bond midpoint coordinates.\n",
    "```\n",
    "\n",
    "We introduce\n",
    "\n",
    "$$\n",
    "\\boldsymbol{R}_{AB} = \\frac{\\boldsymbol{R}_{A} + \\boldsymbol{R}_{B}}{2}\n",
    "$$\n",
    "\n",
    "as the bond midpoint coordinate. When $\\boldsymbol{R}_{A} = \\boldsymbol{R}_{B}$, it reduces to the atomic coordinate. "
   ]
  },
  {
   "cell_type": "code",
   "execution_count": 15,
   "id": "4ddda77a",
   "metadata": {},
   "outputs": [],
   "source": [
    "R = np.zeros((natoms, natoms, 3))\n",
    "\n",
    "coords = molecule.get_coordinates()\n",
    "\n",
    "for A in range(natoms):\n",
    "    for B in range(natoms):\n",
    "    \n",
    "        R[A,B,:] = (coords[A,:] + coords[B,:]) / 2"
   ]
  },
  {
   "cell_type": "markdown",
   "id": "06b35cb3",
   "metadata": {},
   "source": [
    "With use of local origins, we define a gauge-orgin independent dipole moment\n",
    "\n",
    "$$\n",
    "\\boldsymbol{\\mu}^\\mathrm{L}_{(AB)} =\n",
    "-e \n",
    "\\sum_{\\alpha \\in A}\n",
    "\\sum_{\\beta \\in B}\n",
    "\\langle \\chi^\\mathrm{L}_\\alpha | (\\hat{\\boldsymbol{r}} - \\boldsymbol{R}_{AB}) | \\chi^\\mathrm{L}_\\beta \\rangle D^\\mathrm{L}_{\\beta\\alpha}\n",
    "$$\n",
    "\n",
    "It can be determined from the relation\n",
    "\n",
    "$$\n",
    "\\boldsymbol{\\mu}^\\mathrm{L}_{(AB)} =\n",
    "\\boldsymbol{\\mu}^\\mathrm{L}_{AB} - Q_A \\boldsymbol{R}_{A} \\delta_{AB}\n",
    "$$"
   ]
  },
  {
   "cell_type": "code",
   "execution_count": 16,
   "id": "8a82f2f7",
   "metadata": {},
   "outputs": [
    {
     "name": "stdout",
     "output_type": "stream",
     "text": [
      "mu_(AB):\n",
      " [[ 0.5144  0.1471]\n",
      " [ 0.1471 -0.1116]]\n"
     ]
    }
   ],
   "source": [
    "print('mu_(AB):\\n', mu_AB - np.diag(Q_A) * R[:,:,2])"
   ]
  },
  {
   "cell_type": "markdown",
   "id": "514f84e9",
   "metadata": {
    "slideshow": {
     "slide_type": "slide"
    }
   },
   "source": [
    "## Localization of  second-order properties\n",
    "\n",
    "### Polarizabilities from response functions\n",
    "\n",
    "The components of the electric-dipole polarizability tensor ia calculated from the linear response function\n",
    "\n",
    "$$\n",
    "\\alpha(-\\omega;\\omega) = -\n",
    "\\langle\\langle \\hat{\\mu}; \\hat{\\mu} \\rangle\\rangle_\\omega =\n",
    "-{\\mu^{[1]}}^\\dagger N(\\omega)\n",
    "$$\n",
    "\n",
    "where we have omitted the Cartesian tensor indices associated with the components of the dipole operators. For illustration, we will focus on the $zz$-component in the static limit, $\\omega = 0$. \n",
    "\n",
    "The strucure of the property gradient is\n",
    "\n",
    "$$\n",
    "\\mu^{[1]} =\n",
    "\\begin{pmatrix}\n",
    "g \\\\\n",
    "-g^* \\\\\n",
    "\\end{pmatrix}\n",
    "$$\n",
    "\n",
    "where the elements of $g$ refer to pairs of occupied–virtual orbital indices. With use of normalized, spin-adapted, electron excitation operators\n",
    "\n",
    "$$\n",
    "\\hat{E}_{si} = \\frac{1}{\\sqrt{2}}\n",
    "\\big(\n",
    "\\hat{a}^\\dagger_{s, \\alpha} \\hat{a}_{i, \\alpha} +\n",
    "\\hat{a}^\\dagger_{s, \\beta} \\hat{a}_{i, \\beta} \n",
    "\\big)\n",
    "$$\n",
    "\n",
    "we get\n",
    "\n",
    "$$\n",
    "g_{si} = \n",
    "\\langle 0 | \\big[ \\hat{E}_{is}, \\hat{\\mu} \\big] | 0 \\rangle =\n",
    "\\sqrt{2} \\mu_{si}\n",
    "$$\n",
    "\n",
    "The response vector $N(\\omega)$ is introduced as the solution vector to the linear response equation\n",
    "\n",
    "$$\n",
    "N(\\omega) =\n",
    "\\Big(\n",
    "E^{[2]} - \\hbar \\omega S^{[2]}\n",
    "\\Big)^{-1}\n",
    "\\mu^{[1]}\n",
    "$$\n",
    "\n",
    "The structure of the response vectors is\n",
    "\n",
    "$$\n",
    "N(\\omega) =\n",
    "\\begin{pmatrix}\n",
    "Z \\\\\n",
    "-Y^* \\\\\n",
    "\\end{pmatrix}\n",
    "$$\n",
    "\n",
    "and in the static limit, we have $Y = Z$."
   ]
  },
  {
   "cell_type": "code",
   "execution_count": 17,
   "id": "83b532f5",
   "metadata": {
    "scrolled": true,
    "slideshow": {
     "slide_type": "subslide"
    },
    "tags": [
     "remove-output"
    ]
   },
   "outputs": [
    {
     "name": "stdout",
     "output_type": "stream",
     "text": [
      "                                                                                                                          \n",
      "                                               Linear Response Solver Setup                                               \n",
      "                                              ==============================                                              \n",
      "                                                                                                                          \n",
      "                               Number of Frequencies           : 1                                                        \n",
      "                               Max. Number of Iterations       : 150                                                      \n",
      "                               Convergence Threshold           : 1.0e-04                                                  \n",
      "                               ERI Screening Scheme            : Cauchy Schwarz + Density                                 \n",
      "                               ERI Screening Threshold         : 1.0e-15                                                  \n",
      "                                                                                                                          \n",
      "* Info * Processing Fock builds... (batch size: 3)                                                                        \n",
      "* Info *   batch 1/1                                                                                                      \n",
      "                                                                                                                          \n",
      "* Info * 0 gerade trial vectors in reduced space                                                                          \n",
      "* Info * 3 ungerade trial vectors in reduced space                                                                        \n",
      "                                                                                                                          \n",
      "* Info * 4.38 kB of memory used for subspace procedure on the master node                                                 \n",
      "* Info * 1.88 GB of memory available for the solver on the master node                                                    \n",
      "                                                                                                                          \n",
      "               *** Iteration:   1 * Residuals (Max,Min): 8.53e-01 and 2.49e-01                                            \n",
      "                                                                                                                          \n",
      "               <<x;x>>_0.0000 :     -0.65040552 Residual Norm: 0.24851775                                                 \n",
      "               <<y;y>>_0.0000 :     -0.65040552 Residual Norm: 0.24851775                                                 \n",
      "               <<z;z>>_0.0000 :     -3.59166638 Residual Norm: 0.85319680                                                 \n",
      "                                                                                                                          \n",
      "* Info * Processing Fock builds... (batch size: 3)                                                                        \n",
      "* Info *   batch 1/1                                                                                                      \n",
      "                                                                                                                          \n",
      "* Info * 0 gerade trial vectors in reduced space                                                                          \n",
      "* Info * 6 ungerade trial vectors in reduced space                                                                        \n",
      "                                                                                                                          \n",
      "* Info * 5.82 kB of memory used for subspace procedure on the master node                                                 \n",
      "* Info * 1.88 GB of memory available for the solver on the master node                                                    \n",
      "                                                                                                                          \n",
      "               *** Iteration:   2 * Residuals (Max,Min): 1.84e-01 and 5.59e-02                                            \n",
      "                                                                                                                          \n",
      "               <<x;x>>_0.0000 :     -0.66278002 Residual Norm: 0.05587577                                                 \n",
      "               <<y;y>>_0.0000 :     -0.66278002 Residual Norm: 0.05587577                                                 \n",
      "               <<z;z>>_0.0000 :     -3.84693208 Residual Norm: 0.18443727                                                 \n",
      "                                                                                                                          \n",
      "* Info * Processing Fock builds... (batch size: 3)                                                                        \n",
      "* Info *   batch 1/1                                                                                                      \n",
      "                                                                                                                          \n",
      "* Info * 0 gerade trial vectors in reduced space                                                                          \n",
      "* Info * 9 ungerade trial vectors in reduced space                                                                        \n",
      "                                                                                                                          \n",
      "* Info * 7.26 kB of memory used for subspace procedure on the master node                                                 \n",
      "* Info * 1.88 GB of memory available for the solver on the master node                                                    \n",
      "                                                                                                                          \n",
      "               *** Iteration:   3 * Residuals (Max,Min): 1.67e-02 and 8.41e-03                                            \n",
      "                                                                                                                          \n",
      "               <<x;x>>_0.0000 :     -0.66306205 Residual Norm: 0.00841447                                                 \n",
      "               <<y;y>>_0.0000 :     -0.66306205 Residual Norm: 0.00841447                                                 \n",
      "               <<z;z>>_0.0000 :     -3.86930777 Residual Norm: 0.01665627                                                 \n",
      "                                                                                                                          \n",
      "* Info * Processing Fock builds... (batch size: 3)                                                                        \n",
      "* Info *   batch 1/1                                                                                                      \n",
      "                                                                                                                          \n",
      "* Info * 0 gerade trial vectors in reduced space                                                                          \n",
      "* Info * 12 ungerade trial vectors in reduced space                                                                       \n",
      "                                                                                                                          \n",
      "* Info * 8.70 kB of memory used for subspace procedure on the master node                                                 \n",
      "* Info * 1.88 GB of memory available for the solver on the master node                                                    \n",
      "                                                                                                                          \n",
      "               *** Iteration:   4 * Residuals (Max,Min): 2.45e-03 and 6.94e-04                                            \n",
      "                                                                                                                          \n",
      "               <<x;x>>_0.0000 :     -0.66306280 Residual Norm: 0.00069414                                                 \n",
      "               <<y;y>>_0.0000 :     -0.66306280 Residual Norm: 0.00069414                                                 \n",
      "               <<z;z>>_0.0000 :     -3.86948356 Residual Norm: 0.00244759                                                 \n",
      "                                                                                                                          \n"
     ]
    },
    {
     "name": "stdout",
     "output_type": "stream",
     "text": [
      "* Info * Processing Fock builds... (batch size: 3)                                                                        \n",
      "* Info *   batch 1/1                                                                                                      \n",
      "                                                                                                                          \n",
      "* Info * 0 gerade trial vectors in reduced space                                                                          \n",
      "* Info * 15 ungerade trial vectors in reduced space                                                                       \n",
      "                                                                                                                          \n",
      "* Info * 10.33 kB of memory used for subspace procedure on the master node                                                \n",
      "* Info * 1.88 GB of memory available for the solver on the master node                                                    \n",
      "                                                                                                                          \n",
      "               *** Iteration:   5 * Residuals (Max,Min): 1.89e-04 and 1.25e-05                                            \n",
      "                                                                                                                          \n",
      "               <<x;x>>_0.0000 :     -0.66306281 Residual Norm: 0.00001254                                                 \n",
      "               <<y;y>>_0.0000 :     -0.66306281 Residual Norm: 0.00001254                                                 \n",
      "               <<z;z>>_0.0000 :     -3.86948409 Residual Norm: 0.00018915                                                 \n",
      "                                                                                                                          \n",
      "* Info * Processing Fock builds... (batch size: 1)                                                                        \n",
      "* Info *   batch 1/1                                                                                                      \n",
      "                                                                                                                          \n",
      "* Info * 0 gerade trial vectors in reduced space                                                                          \n",
      "* Info * 16 ungerade trial vectors in reduced space                                                                       \n",
      "                                                                                                                          \n",
      "* Info * 10.62 kB of memory used for subspace procedure on the master node                                                \n",
      "* Info * 1.88 GB of memory available for the solver on the master node                                                    \n",
      "                                                                                                                          \n",
      "               *** Iteration:   6 * Residuals (Max,Min): 1.25e-05 and 6.15e-06                                            \n",
      "                                                                                                                          \n",
      "               <<z;z>>_0.0000 :     -3.86948409 Residual Norm: 0.00000615                                                 \n",
      "                                                                                                                          \n",
      "               *** Linear response converged in 6 iterations. Time: 0.11 sec                                              \n",
      "                                                                                                                          \n",
      "                                                                                                                          \n"
     ]
    }
   ],
   "source": [
    "lrs_drv = vlx.LinearResponseSolver()\n",
    "lrs_out = lrs_drv.compute(molecule, basis, scf_drv.scf_tensors)"
   ]
  },
  {
   "cell_type": "code",
   "execution_count": 26,
   "id": "union-david",
   "metadata": {
    "slideshow": {
     "slide_type": "-"
    }
   },
   "outputs": [
    {
     "name": "stdout",
     "output_type": "stream",
     "text": [
      "Molecular polarizability (zz-component):  3.8695 a.u.\n"
     ]
    }
   ],
   "source": [
    "alpha = - lrs_out['response_functions'][('z', 'z', 0)]\n",
    "\n",
    "print(f\"Molecular polarizability (zz-component): {alpha : .4f} a.u.\")"
   ]
  },
  {
   "cell_type": "markdown",
   "id": "993e1fda",
   "metadata": {
    "slideshow": {
     "slide_type": "slide"
    }
   },
   "source": [
    "### Polarizabilities from perturbed density matrices\n",
    "\n",
    "The upper and lower parts of the response vector can be unpacked into the occupied–virtual (ov) and virtual–occupied (vo) blocks of associate MO matrices according to\n",
    "\n",
    "$$\n",
    "\\kappa =\n",
    "\\begin{pmatrix}\n",
    "0 & Z \\\\\n",
    "Y^* & 0 \\\\\n",
    "\\end{pmatrix}\n",
    "$$"
   ]
  },
  {
   "cell_type": "code",
   "execution_count": 55,
   "id": "3a09d4d4",
   "metadata": {},
   "outputs": [],
   "source": [
    "def vec2mat(N, nocc, norb):\n",
    "    \n",
    "    n = nocc * (norb - nocc)\n",
    "    \n",
    "    kappa = np.zeros((norb,norb))\n",
    "    \n",
    "    kappa[:nocc, nocc:norb] = N[:n].reshape(nocc, norb - nocc)\n",
    "    kappa[nocc:, :nocc] = - N[n:].reshape(nocc, norb - nocc).T\n",
    "    \n",
    "    return kappa"
   ]
  },
  {
   "cell_type": "markdown",
   "id": "blocked-prairie",
   "metadata": {
    "slideshow": {
     "slide_type": "slide"
    }
   },
   "source": [
    "The polarizability can then be evaluated in the orignal AO basis according to\n",
    "\n",
    "$$\n",
    "\\alpha(-\\omega; \\omega) = \\mathrm{tr}\\big[ \\mu \\,\\kappa \\big] =\n",
    "\\sum_{\\alpha,\\beta} \\mu_{\\alpha\\beta} D^{(1)}_{\\alpha\\beta}\n",
    "$$\n",
    "\n",
    "where we have introduced the perturbed density matrix\n",
    "\n",
    "$$\n",
    "D^{(1)}_{\\alpha\\beta} =\n",
    "\\sum_{p,q} C^*_{\\alpha p} C_{\\beta q} \\kappa_{qp}\n",
    "$$\n",
    "\n",
    "It can also be exressed in the LoProp basis\n",
    "\n",
    "$$\n",
    "\\alpha(-\\omega; \\omega) = \\sum_{A,B} \\alpha^\\mathrm{L}_{AB}; \\qquad\n",
    "%\n",
    "\\alpha^\\mathrm{L}_{AB} =\n",
    "\\sum_{\\alpha \\in A}\n",
    "\\sum_{\\beta \\in B}\n",
    "\\mu^\\mathrm{L}_{\\alpha\\beta} D^{\\mathrm{L},(1)}_{\\beta\\alpha}\n",
    "$$"
   ]
  },
  {
   "cell_type": "code",
   "execution_count": 56,
   "id": "collective-panic",
   "metadata": {
    "scrolled": false,
    "slideshow": {
     "slide_type": "subslide"
    }
   },
   "outputs": [
    {
     "name": "stdout",
     "output_type": "stream",
     "text": [
      "alpha =  3.869484 a.u.\n",
      "\n",
      "alpha_AB:\n",
      " [[0.6304 0.2307]\n",
      " [0.2307 2.7776]]\n"
     ]
    }
   ],
   "source": [
    "nocc = molecule.number_of_alpha_electrons()\n",
    "\n",
    "N = - lrs_out['solutions'][('z', 0)]\n",
    "\n",
    "kappa = vec2mat(N, nocc, norb)\n",
    "\n",
    "C = scf_drv.scf_tensors['C']\n",
    "# factor of sqrt(2) due to use of normalized spin-adapted excitation operators\n",
    "# in the formation of the property gradient, mu[1].\n",
    "D1 = np.einsum('QP,aP,bQ->ab', kappa, C, C) * np.sqrt(2)\n",
    "\n",
    "alpha_AB = atomic_property(mu, D1)\n",
    "\n",
    "print(f\"alpha = {alpha_AB.sum() : .6f} a.u.\")\n",
    "print('\\nalpha_AB:\\n', alpha_AB)"
   ]
  },
  {
   "cell_type": "markdown",
   "id": "155b3676",
   "metadata": {
    "slideshow": {
     "slide_type": "slide"
    }
   },
   "source": [
    "### Localized polarizabilities\n",
    "\n",
    "We define gauge-origin independent local polarizability\n",
    "\n",
    "$$\n",
    "\\alpha^\\mathrm{L}_{(AB)} =\n",
    "-e \n",
    "\\sum_{\\alpha \\in A}\n",
    "\\sum_{\\beta \\in B}\n",
    "\\langle \\chi^\\mathrm{L}_\\alpha | (\\hat{\\boldsymbol{r}} - \\boldsymbol{R}_{AB}) | \\chi^\\mathrm{L}_\\beta \\rangle D^{\\mathrm{L},(1)}_{\\beta\\alpha}\n",
    "$$\n",
    "\n",
    "It can be determined from the relation\n",
    "\n",
    "$$\n",
    "\\alpha^\\mathrm{L}_{(AB)} =\n",
    "\\alpha^\\mathrm{L}_{AB}  - \\Delta Q_A \\boldsymbol{R}_{A} \\delta_{AB}\n",
    "$$\n",
    "\n",
    "where the external field derivative of the change in charge on atom $A$ is\n",
    "\n",
    "$$\n",
    "\\Delta Q_A = -e\n",
    "\\sum_{\\alpha \\in A} D^{\\mathrm{L},(1)}_{\\alpha\\alpha}\n",
    "$$\n",
    "\n",
    "As charge is preserved, we have\n",
    "\n",
    "$$\n",
    "\\sum_A \\Delta Q_A = 0\n",
    "$$"
   ]
  },
  {
   "cell_type": "code",
   "execution_count": 20,
   "id": "2594fee9",
   "metadata": {},
   "outputs": [
    {
     "name": "stdout",
     "output_type": "stream",
     "text": [
      "dQ_A:\n",
      " [-1.5231  1.5231]\n",
      "alpha_(AB):\n",
      " [[0.3664 0.2307]\n",
      " [0.2307 0.4019]]\n"
     ]
    }
   ],
   "source": [
    "dQ_A = - atomic_property(S, D1).sum(axis = 1)\n",
    "\n",
    "# Lower case atomic indices for gauge-origin independent properties\n",
    "alpha_ab = alpha_AB - np.diag(dQ_A) * R[:,:,2]\n",
    "\n",
    "print('dQ_A:\\n', dQ_A)\n",
    "print('alpha_(AB):\\n', alpha_ab)"
   ]
  },
  {
   "cell_type": "markdown",
   "id": "afraid-talent",
   "metadata": {
    "slideshow": {
     "slide_type": "slide"
    }
   },
   "source": [
    "Next, we define an auxiliary charge transfer matrix with elements, $\\Delta Q_{AB}$, as the external field derivative of the charge transfer from center $A$ to $B$. Although this quantity is not uniquely defined, it has to fulfill\n",
    "\n",
    "$$\n",
    "\\sum_{A \\neq B} \\Delta Q_{AB} = \\Delta Q_{A}\n",
    "$$\n",
    "\n",
    "and \n",
    "\n",
    "$$\n",
    "\\Delta Q_{BA} = - \\Delta Q_{AB}\n",
    "$$\n",
    "\n",
    "In the LoProp scheme, it assumed that $\\Delta Q_{AB}$ should be as small as possible and also that the charge transfer is short range. To accommodate these desired properties, a Lagrangian is formed\n",
    "\n",
    "$$ \n",
    "\\mathcal{L} =  \\sum_{AB} \\big[ \\Delta Q_{AB} \\big]^2 f(R_{AB}) + \n",
    "\\sum_{A} \\lambda_A \\big( \\sum_{A \\neq B} \\Delta Q_{AB} - \\Delta Q_A \\big) \n",
    "$$\n",
    "\n",
    "where the penatly function, $f$, for long-distance charge transfer is chosen as\n",
    "\n",
    "$$\n",
    "f(R_{AB}) = \\exp\\Big(\\alpha \\Big(\\frac{R_{AB}}{R_A^\\mathrm{BS} + R_B^\\mathrm{BS}}\\Big)^2\\Big) \n",
    "$$\n",
    "\n",
    "with $\\alpha$ set equal $2.0$ and $R_A^\\mathrm{BS}$ and $R_B^\\mathrm{BS}$ are the Bragg–Slater radii of atoms $A$ and $B$, respectively."
   ]
  },
  {
   "cell_type": "code",
   "execution_count": 21,
   "id": "805b46f6",
   "metadata": {},
   "outputs": [],
   "source": [
    "def f(A, B):\n",
    "    \n",
    "    # Bragg-Slater radii for F and H\n",
    "    bohr2ang = 0.529177249\n",
    "    R_BS = np.array([0.50, 0.25]) / bohr2ang\n",
    "    \n",
    "    # interatomic distance\n",
    "    R_AB = np.linalg.norm(R[A,A,:] - R[B,B,:])\n",
    "        \n",
    "    return np.exp(2.0 * (R_AB / (R_BS[A] + R_BS[B]))**2)"
   ]
  },
  {
   "cell_type": "markdown",
   "id": "mighty-modem",
   "metadata": {},
   "source": [
    "The stationary point of the Lagrangian allows for a determination of the Lagrange multipliers from the equation\n",
    "\n",
    "$$\n",
    "L \\lambda = \\Delta Q\n",
    "$$\n",
    "\n",
    "where \n",
    "\n",
    "$$\n",
    "L_{AB}  = \\frac{1}{2 f(R_{AB})} + C\n",
    "$$ \n",
    "\n",
    "and\n",
    "\n",
    "$$\n",
    "L_{AA}  = -\\sum_{A \\neq B} \\frac{1}{2 f(R_{AB})} + C\n",
    "$$ \n",
    "\n",
    "The constant $C$ is determined from the requirement of charge conservation, or zero net charge transfer.\n",
    "\n",
    "Once the Lagrange multipliers are determined, we have\n",
    "\n",
    "$$\n",
    "\\Delta Q_{AB} = - \\frac{\\lambda_{A} - \\lambda_{B}}{2f(R_{AB})}\n",
    "$$"
   ]
  },
  {
   "cell_type": "code",
   "execution_count": 57,
   "id": "09ecd536",
   "metadata": {},
   "outputs": [
    {
     "name": "stdout",
     "output_type": "stream",
     "text": [
      "lambda_A: [ 30.2963 -30.2963]\n"
     ]
    }
   ],
   "source": [
    "L_AB = np.zeros((natoms, natoms))\n",
    "\n",
    "for A in range(natoms):\n",
    "    for B in range(natoms):\n",
    "        L_AB[A,B] = 0.5 / f(A,B)\n",
    "\n",
    "    L_AB[A,A] -= sum(L_AB[A,:])\n",
    "\n",
    "L_AB = L_AB + 2.0 * np.max(np.abs(L_AB))\n",
    "\n",
    "lambda_A = np.linalg.solve(L_AB, dQ_A)\n",
    "\n",
    "print(f'lambda_A: {lambda_A}')"
   ]
  },
  {
   "cell_type": "code",
   "execution_count": 23,
   "id": "million-register",
   "metadata": {},
   "outputs": [
    {
     "name": "stdout",
     "output_type": "stream",
     "text": [
      "[[-0.     -1.5231]\n",
      " [ 1.5231 -0.    ]]\n"
     ]
    }
   ],
   "source": [
    "dQ_AB = np.zeros((natoms,natoms))\n",
    "\n",
    "for A in range(natoms):\n",
    "    for B in range(natoms):\n",
    "\n",
    "        dQ_AB[A,B] = - 0.5 * (lambda_A[A] - lambda_A[B]) / f(A,B)\n",
    "\n",
    "print(dQ_AB)"
   ]
  },
  {
   "cell_type": "markdown",
   "id": "c300788a",
   "metadata": {},
   "source": [
    "The $zz$-component of the bond polarizability is defined by\n",
    "\n",
    "$$\n",
    "\\alpha^\\mathrm{bond}_{AB} =\n",
    "\\Delta Q_{AB} \\big( \\boldsymbol{R}_A - \\boldsymbol{R}_B \\big)_z\n",
    "$$"
   ]
  },
  {
   "cell_type": "code",
   "execution_count": 24,
   "id": "automatic-sodium",
   "metadata": {},
   "outputs": [
    {
     "name": "stdout",
     "output_type": "stream",
     "text": [
      "[[-0.      2.6396]\n",
      " [ 2.6396 -0.    ]]\n"
     ]
    }
   ],
   "source": [
    "alpha_bond_AB = np.zeros((natoms, natoms))\n",
    "\n",
    "for A in range(natoms):\n",
    "    for B in range(natoms):\n",
    "        alpha_bond_AB[A,B] = dQ_AB[A,B] * (R[A,A,2] - R[B,B,2])\n",
    "        \n",
    "print(alpha_bond_AB)"
   ]
  },
  {
   "cell_type": "markdown",
   "id": "recovered-translator",
   "metadata": {},
   "source": [
    "The LoProp polarizability for atom $A$ is obtained as\n",
    "\n",
    "$$\n",
    "\\alpha^\\mathrm{L}_A = \\sum_B \\Big(\n",
    "\\alpha^\\mathrm{L}_{(AB)} + \\frac{1}{2} \\alpha^\\mathrm{bond}_{AB}\n",
    "\\Big)\n",
    "$$\n",
    "\n",
    "and it fulfills\n",
    "\n",
    "$$\n",
    "\\sum_A \\alpha^\\mathrm{L}_A = \\alpha(-\\omega;\\omega)\n",
    "$$"
   ]
  },
  {
   "cell_type": "code",
   "execution_count": 59,
   "id": "surrounded-qatar",
   "metadata": {},
   "outputs": [
    {
     "name": "stdout",
     "output_type": "stream",
     "text": [
      "LoProp atomic polarizabilities: [1.917  1.9525]\n",
      "Molecular polarizability:  3.8695 a.u.\n"
     ]
    }
   ],
   "source": [
    "alpha_A = (alpha_ab + 0.5 * alpha_bond_AB).sum(axis = 1)\n",
    "\n",
    "print(f\"LoProp atomic polarizabilities: {alpha_A}\")\n",
    "print(f\"Molecular polarizability: {alpha_A.sum() : .4f} a.u.\")"
   ]
  }
 ],
 "metadata": {
  "celltoolbar": "Tags",
  "kernelspec": {
   "display_name": "Python 3 (ipykernel)",
   "language": "python",
   "name": "python3"
  },
  "language_info": {
   "codemirror_mode": {
    "name": "ipython",
    "version": 3
   },
   "file_extension": ".py",
   "mimetype": "text/x-python",
   "name": "python",
   "nbconvert_exporter": "python",
   "pygments_lexer": "ipython3",
   "version": "3.9.7"
  }
 },
 "nbformat": 4,
 "nbformat_minor": 5
}
