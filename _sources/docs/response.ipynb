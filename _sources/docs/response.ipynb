{
 "cells": [
  {
   "cell_type": "markdown",
   "id": "ddfc642a",
   "metadata": {},
   "source": [
    "# Response theory\n",
    "\n",
    "- General comments\n",
    "    - What is response theory\n",
    "    - What can be considered\n",
    "    - Some figure?\n",
    "- Pointing to what is included:\n",
    "    - [Exact states](exact-response.ipynb) gives theoretical background and a general discussion on response theory\n",
    "    - [CI](ci-response.ipynb) discuss how spectra can be calculated using CI\n",
    "    - [TDHF](scf-response.ipynb) talks about the fundamentals of time-dependent SCF\n",
    "    - [TDDFT](tddft.ipynb) gives more practical considerations on TDDFT, based on TDHF discussion\n",
    "    - [Exercises](response_exercises.ipynb) give exercises\n"
   ]
  }
 ],
 "metadata": {
  "kernelspec": {
   "display_name": "Python 3 (ipykernel)",
   "language": "python",
   "name": "python3"
  },
  "language_info": {
   "codemirror_mode": {
    "name": "ipython",
    "version": 3
   },
   "file_extension": ".py",
   "mimetype": "text/x-python",
   "name": "python",
   "nbconvert_exporter": "python",
   "pygments_lexer": "ipython3",
   "version": "3.9.12"
  }
 },
 "nbformat": 4,
 "nbformat_minor": 5
}
