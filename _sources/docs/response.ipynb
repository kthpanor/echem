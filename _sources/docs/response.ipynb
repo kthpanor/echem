{
 "cells": [
  {
   "cell_type": "markdown",
   "id": "8fb55e15-69ff-41b4-af13-d11614c4d3c7",
   "metadata": {},
   "source": [
    "(sec:response_external_fields)=\n",
    "# Responses to external fields"
   ]
  },
  {
   "cell_type": "markdown",
   "id": "38ab0100-6816-4899-8e23-2c76f02c0c07",
   "metadata": {
    "jp-MarkdownHeadingCollapsed": true,
    "tags": []
   },
   "source": [
    "Compared to atomic fields, the externally applied electromagnetic fields are several orders of magnitude weaker and perturbation theory is called for and a main merit of such an approach is that the response functions defined in perturbation theory provide the natural meeting point between experiment and theory with a distinct separation of one-, two-, three-photon, etc., optical processes\n",
    "\n",
    "Response theory {cite}`Norman2018` may be thought of as a reformulation of standard time-dependent perturbation theory into a form suitable for approximate state theory. Virtually all spectroscopic properties are encompassed by the theory as possible perturbations include\n",
    "\n",
    "- time-independent or time-dependent \n",
    "- electric or magnetic\n",
    "- internal or external\n",
    "- geometric distortions\n",
    "\n",
    "The derivation of expressions for response functions can appear very different from one source to another and the vast number of technicalities can at first appear overwhelming. The principle, however, is quite straightforward and clear: Form a well-defined quantity of interest, e.g., the electric dipole moment, $\\mu(t)$, and identify response functions in the order expansions of these quantities.\n",
    "\n",
    "## Defining the system\n",
    "\n",
    "In the following, we assume that the system is described by a Hamiltonian of the form\n",
    "\n",
    "$$\n",
    "\\hat{H} = \\hat{H}_0 + \\hat{V}(t) \n",
    "$$\n",
    "\n",
    "where $\\hat{H}_0$ is the Hamiltonian of the isolated system and $\\hat{V}(t)$ described the quantum mechanical field-coupling. In the electric-dipole approximation, the coupling between the molecular system and external electric field is provided by minus the electric dipole moment operator, $-\\hat{\\mu}$, such that\n",
    "\n",
    "$$\n",
    "\\hat{V}(t) = - \\hat{\\mu} F(t)\n",
    "$$\n",
    "\n",
    "where $F(t)$ is the electric field amplitude. For simplicity, we assume the external electric field to be monochromatic and adiabatically switched on at time zero according to\n",
    "\n",
    "$$\n",
    "F(t) = F^\\omega \\sin \\omega t \\times \\mathrm{erf}(a t)\n",
    "$$\n",
    "\n",
    "We further assume the solutions to the eigenvalue problem of $\\hat{H}_0$ to be known\n",
    "\n",
    "$$\n",
    "  \\hat{H}_0 | n \\rangle = E_n  | n \\rangle \n",
    "$$\n",
    "\n",
    "such that it can be used as a basis in the calculation. Before being exposed to the perturbation, we assume the molecule to be in the molecular ground state, $| 0 \\rangle$.\n",
    "\n"
   ]
  },
  {
   "cell_type": "markdown",
   "id": "646d5e92-5409-40ca-8337-77fe7c744865",
   "metadata": {
    "jp-MarkdownHeadingCollapsed": true,
    "tags": []
   },
   "source": [
    "## Time propagation\n",
    "\n",
    "With a time step $\\Delta t$ that is small compared to the time variations in the Hamiltonian, we can approximate the Hamiltonian to be constant from time $t_0$ to $t_0 + \\Delta t$. It is then possible to perform a time integration of the Schröinger equation using\n",
    "\n",
    "\\begin{equation*}\n",
    "  \\Psi(t_0 + \\Delta t) = \\hat{U}(t_0+\\Delta t, t_0) \\Psi(t_0) \n",
    "\\end{equation*}\n",
    "\n",
    "where the time-evolution propagator is defined as \n",
    "\n",
    "\\begin{equation*}\n",
    "  \\hat{U}(t_0+\\Delta t, t_0) = e^{-i \\hat{H}(t_0) \\Delta t / \\hbar} \n",
    "\\end{equation*}\n",
    "\n",
    "Repeated applications of $\\hat{U}$ allow us to determine the wave function in the region $t>0$ and, given the time-dependent wave function, the dipole moment is obtained as the expectation value of the electric dipole operator\n",
    "\n",
    "\\begin{equation*}\n",
    "  \\mu(t) = \\langle \\Psi(t) | \\hat{\\mu} | \\Psi(t) \\rangle\n",
    "\\end{equation*}\n"
   ]
  },
  {
   "cell_type": "markdown",
   "id": "ba53dded-0e99-4a92-8e5a-b23fab752872",
   "metadata": {},
   "source": [
    "## Response functions\n",
    "\n",
    "Response functions are defined as the expansion coefficients of Fourier expansions of time-dependent expectation values of an observable associated with an operator $\\hat{\\Omega}$\n",
    "\n",
    "\\begin{eqnarray*}\n",
    "  \\langle \\Psi(t) | \\hat{\\Omega} | \\Psi(t) \\rangle & = &\n",
    "  \\langle 0 | \\hat{\\Omega} | 0 \\rangle +\n",
    "  \\sum_{\\omega}\n",
    "  \\langle \\langle \\hat{\\Omega}; \\hat{V} \\rangle \\rangle_{\\omega}\n",
    "  F^{\\omega}\n",
    "  e^{-i\\omega t} +\n",
    "  \\cdots \n",
    "\\end{eqnarray*}\n",
    "\n",
    "```{note}\n",
    "- In the general case, the coupling operator depends on the optical frequency of the external field, but in the electric-dipole approximation, it does not.\n",
    "- Consistent use of Fourier expansions should be used for all time-dependent functions in the definition of response functions.\n",
    "```\n",
    "\n",
    "In the case of the observable being the electric dipole moment, the linear coupling coefficient to the external electric field is known as the electric-dipole polarizability\n",
    "\n",
    "$$\n",
    "\\mu(t) = \\mu^0 + \\sum_\\omega \\alpha(\\omega) F^\\omega e^{-i\\omega t} + \\cdots\n",
    "$$\n",
    "\n",
    "such that\n",
    "\n",
    "$$\n",
    "\\alpha(\\omega) = - \n",
    "\\langle \\langle \\hat{\\mu}; \\hat{\\mu} \\rangle \\rangle_{\\omega}\n",
    "$$"
   ]
  },
  {
   "cell_type": "markdown",
   "id": "b30041eb",
   "metadata": {
    "tags": []
   },
   "source": [
    "## Two-level system"
   ]
  },
  {
   "cell_type": "code",
   "execution_count": 2,
   "id": "23d2d385",
   "metadata": {},
   "outputs": [],
   "source": [
    "import matplotlib.pyplot as plt\n",
    "import numpy as np\n",
    "from scipy.linalg import expm\n",
    "from scipy.special import erf"
   ]
  },
  {
   "cell_type": "markdown",
   "id": "40091482",
   "metadata": {},
   "source": [
    "The representation of an atomic system with two levels takes the form\n",
    "\n",
    "$$\n",
    "| \\Psi(t) \\rangle = \n",
    "a(t) | \\Psi_a \\rangle + b(t) | \\Psi_b \\rangle =\n",
    "\\begin{pmatrix}\n",
    "a(t) \\\\ b(t)\n",
    "\\end{pmatrix}\n",
    "$$\n",
    "\n",
    "$$\n",
    "\\hat{H}_0 =\n",
    "\\begin{pmatrix}\n",
    "E_a & 0 \\\\ \n",
    "0 & E_b \\\\\n",
    "\\end{pmatrix}; \\qquad\n",
    "\\hat{\\mu} =\n",
    "\\begin{pmatrix}\n",
    "0 & \\mu_{ab} \\\\ \n",
    "\\mu_{ba} & 0 \\\\\n",
    "\\end{pmatrix}\n",
    "$$"
   ]
  },
  {
   "cell_type": "code",
   "execution_count": 3,
   "id": "3ad56e05",
   "metadata": {},
   "outputs": [],
   "source": [
    "# Time\n",
    "delta = 0.1\n",
    "t = np.arange(0, 500, delta)\n",
    "n = len(t)\n",
    "\n",
    "# External electric field\n",
    "Fw = 0.00005\n",
    "w = 0.1\n",
    "F = Fw * np.sin(w * t) * erf(0.01 * t)\n",
    "\n",
    "# Time-dependent wave function\n",
    "psi = np.zeros((2, n), dtype=complex)\n",
    "psi[:, 0] = [1, 0]\n",
    "\n",
    "# Energy of levels\n",
    "Ea = 1\n",
    "Eb = 1.5\n",
    "\n",
    "# Transition dipole moment\n",
    "muab = 1\n",
    "muba = muab\n",
    "\n",
    "# Hamiltonian and dipole moment operators\n",
    "H0 = np.array([[Ea, 0], [0, Eb]])\n",
    "mu = np.array([[0, muab], [muba, 0]])\n",
    "V = -mu\n",
    "\n",
    "# Time-dependent dipole moment (polarization)\n",
    "P = np.zeros(n, dtype=float)\n",
    "P[0] = np.dot(psi[:, 0], np.matmul(mu, psi[:, 0])).real"
   ]
  },
  {
   "cell_type": "markdown",
   "id": "a3fffd29-3755-469d-9d13-45ad08eb1b7e",
   "metadata": {},
   "source": [
    "### Time propagation"
   ]
  },
  {
   "cell_type": "code",
   "execution_count": 4,
   "id": "4ddae287",
   "metadata": {
    "tags": []
   },
   "outputs": [],
   "source": [
    "for k in range(1, n):\n",
    "\n",
    "    psi[:, k] = np.matmul(expm(-1j * (H0 + V * F[k - 1]) * delta), psi[:, k - 1])\n",
    "\n",
    "    P[k] = np.dot(np.conjugate(psi[:, k]), np.matmul(mu, psi[:, k])).real"
   ]
  },
  {
   "cell_type": "markdown",
   "id": "88b3ecd9-7bb2-41da-bb3e-0197177f43b3",
   "metadata": {},
   "source": [
    "### Plotting observables"
   ]
  },
  {
   "cell_type": "code",
   "execution_count": 5,
   "id": "23e30950",
   "metadata": {},
   "outputs": [
    {
     "data": {
      "image/png": "[encoded data removed]",
      "text/plain": [
       "<Figure size 720x432 with 2 Axes>"
      ]
     },
     "metadata": {
      "needs_background": "light"
     },
     "output_type": "display_data"
    }
   ],
   "source": [
    "fig = plt.figure(figsize=(10, 6))\n",
    "\n",
    "ax = plt.subplot(2, 1, 1, xlim=(0, 500))\n",
    "plt.plot(t, P, \"k-\", linewidth=2.0)\n",
    "plt.grid(True)\n",
    "plt.ylabel(r\"$\\mu(t)$\")\n",
    "\n",
    "ax = plt.subplot(2, 1, 2, xlim=(0, 500))\n",
    "plt.plot(t, F, \"k-\", linewidth=2.0)\n",
    "plt.grid(True)\n",
    "plt.ylabel(r\"$F(t)$\")\n",
    "\n",
    "plt.xlabel(\"Time (a.u.)\")\n",
    "\n",
    "plt.show()"
   ]
  },
  {
   "cell_type": "markdown",
   "id": "0640cc6e-524e-473e-b07e-ae6dd32e6733",
   "metadata": {},
   "source": [
    "### Determining response functions\n",
    "\n",
    "As nonlinear responses are negligible, the value of the linear response function (or polarizability) at the given optical frequency is simply the ratio of the induced dipole moment and the amplitude of the electric field\n",
    "\n",
    "\\begin{equation*}\n",
    "  \\alpha(\\omega) =  \\frac{\\max[ \\mu(t) ]}{F^\\omega}\n",
    "\\end{equation*}"
   ]
  },
  {
   "cell_type": "code",
   "execution_count": 6,
   "id": "ff30e2fb-3a88-4bab-8385-fd0ff91e89e0",
   "metadata": {},
   "outputs": [
    {
     "name": "stdout",
     "output_type": "stream",
     "text": [
      "Polarizability:  4.17 a.u.\n"
     ]
    }
   ],
   "source": [
    "alpha_numerical = np.max(P) / Fw\n",
    "\n",
    "print(f\"Polarizability: {alpha_numerical : 4.2f} a.u.\")"
   ]
  },
  {
   "cell_type": "markdown",
   "id": "f537e2b6-a777-4f30-aa4b-c46ace36a6c9",
   "metadata": {},
   "source": [
    "## Analytic response functions\n",
    "\n",
    "In practice, we derive analytic expressions for the response functions with use of perturbation theory. This results in sum-over-state formulas such as that for the linear response function\n",
    "\n",
    "\\begin{equation*}\n",
    "  \\langle \\langle \\hat{\\Omega}; \\hat{V} \\rangle \\rangle_\\omega =\n",
    "  - \\frac{1}{\\hbar} \\sum_{n>0} \\left[\n",
    "  \\frac{\\langle 0 | \\hat{\\Omega}  | n \\rangle\n",
    "        \\langle n | \\hat{V} | 0 \\rangle }\n",
    "       {\\omega_{n0}-\\omega}\n",
    "+\n",
    "  \\frac{\\langle 0 | \\hat{V} | n \\rangle\n",
    "        \\langle n | \\hat{\\Omega} | 0 \\rangle }\n",
    "       {\\omega_{n0}+\\omega} \\right] \n",
    "\\end{equation*}\n"
   ]
  },
  {
   "cell_type": "code",
   "execution_count": 7,
   "id": "7debee46-3aaf-41d1-af48-8ddeb3446897",
   "metadata": {},
   "outputs": [
    {
     "name": "stdout",
     "output_type": "stream",
     "text": [
      "Polarizability:  4.17 a.u.\n"
     ]
    }
   ],
   "source": [
    "Eba = Eb - Ea\n",
    "\n",
    "alpha_analytic = muab * muba * (1.0 / (Eba - w) + 1.0 / (Eba + w))\n",
    "\n",
    "print(f\"Polarizability: {alpha_analytic : 4.2f} a.u.\")"
   ]
  },
  {
   "cell_type": "markdown",
   "id": "4df53d19-fd36-4f3a-bede-77de290b2432",
   "metadata": {},
   "source": [
    "## Dispersion\n",
    "\n",
    "The variations of response functions with optical frequencies are known as dispersions and values for non-oscillating fields ($\\omega = 0$) are known as static values."
   ]
  },
  {
   "cell_type": "markdown",
   "id": "9c6a8cac-27d0-4ffd-b609-de9e615006cc",
   "metadata": {},
   "source": [
    "## Poles of response functions\n",
    "\n",
    "Response functions have poles at transition energies and the associated residues are products of transition moments. \n",
    "\n",
    "Most excited state methods in computational chemistry are based on the principle of identifying excitation energies and spectrum intensities from a residue analysis of response functions."
   ]
  },
  {
   "cell_type": "code",
   "execution_count": 27,
   "id": "53c19500-144a-4071-9500-066deb620a07",
   "metadata": {},
   "outputs": [],
   "source": [
    "epsilon = 0.02\n",
    "wa = np.arange(0, Eba - epsilon, 0.001)\n",
    "wb = np.arange(Eba + epsilon, 1, 0.001)\n",
    "\n",
    "W = np.concatenate((wa, wb), axis=None)\n",
    "\n",
    "alpha = muab * muba * (1.0 / (Eba - W) + 1.0 / (Eba + W))"
   ]
  },
  {
   "cell_type": "code",
   "execution_count": 34,
   "id": "b34168fd-9708-4735-bcc4-e274fc4896c2",
   "metadata": {},
   "outputs": [
    {
     "data": {
      "image/png": "[encoded data removed]",
      "text/plain": [
       "<Figure size 432x288 with 1 Axes>"
      ]
     },
     "metadata": {
      "needs_background": "light"
     },
     "output_type": "display_data"
    }
   ],
   "source": [
    "ax = plt.subplot(1, 1, 1, xlim=(0, 1))\n",
    "\n",
    "plt.plot(W, alpha, lw = 2)\n",
    "\n",
    "plt.ylabel(r\"$\\alpha(\\omega)$ (a.u.)\")\n",
    "plt.xlabel(r\"$\\omega$ (a.u.)\")\n",
    "\n",
    "plt.annotate(\n",
    "    \"Static value\",\n",
    "    (0, alpha[0]),\n",
    "    xytext=(0.05, 15),\n",
    "    arrowprops={\"width\": 1, \"headwidth\": 6, \"headlength\": 6},\n",
    ")\n",
    "\n",
    "plt.annotate(\n",
    "    \"Pole\",\n",
    "    (Eba, 0),\n",
    "    xytext=(0.55, 10),\n",
    "    arrowprops={\"width\": 1, \"headwidth\": 6, \"headlength\": 6},\n",
    ")\n",
    "\n",
    "plt.grid(True)\n",
    "\n",
    "plt.show()"
   ]
  }
 ],
 "metadata": {
  "kernelspec": {
   "display_name": "Python 3 (ipykernel)",
   "language": "python",
   "name": "python3"
  },
  "language_info": {
   "codemirror_mode": {
    "name": "ipython",
    "version": 3
   },
   "file_extension": ".py",
   "mimetype": "text/x-python",
   "name": "python",
   "nbconvert_exporter": "python",
   "pygments_lexer": "ipython3",
   "version": "3.7.12"
  }
 },
 "nbformat": 4,
 "nbformat_minor": 5
}
