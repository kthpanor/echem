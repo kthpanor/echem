{
 "cells": [
  {
   "cell_type": "markdown",
   "id": "2c8b9be0",
   "metadata": {},
   "source": [
    "# Biased molecular dynamics\n",
    "\n",
    "- Might change to \"advanced options\", or something similar\n",
    "- Decision of what is to be included informed by what is available in openMM\n",
    "    - Umbrella sampling, ...?\n",
    "    - Annealing\n",
    "    - External forces\n",
    "    - Analysing energy contributions\n"
   ]
  }
 ],
 "metadata": {
  "kernelspec": {
   "display_name": "Python 3 (ipykernel)",
   "language": "python",
   "name": "python3"
  },
  "language_info": {
   "codemirror_mode": {
    "name": "ipython",
    "version": 3
   },
   "file_extension": ".py",
   "mimetype": "text/x-python",
   "name": "python",
   "nbconvert_exporter": "python",
   "pygments_lexer": "ipython3",
   "version": "3.9.12"
  }
 },
 "nbformat": 4,
 "nbformat_minor": 5
}
