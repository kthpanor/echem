{
 "cells": [
  {
   "cell_type": "markdown",
   "id": "40e21375-d0f3-4917-8679-56a89787b59f",
   "metadata": {},
   "source": [
    "# MD trajectories\n",
    "\n",
    "- To be written\n",
    "- Include example with *n* snapshots, as can be visualized with a slider (as well as movie)"
   ]
  }
 ],
 "metadata": {
  "kernelspec": {
   "display_name": "Python 3 (ipykernel)",
   "language": "python",
   "name": "python3"
  },
  "language_info": {
   "codemirror_mode": {
    "name": "ipython",
    "version": 3
   },
   "file_extension": ".py",
   "mimetype": "text/x-python",
   "name": "python",
   "nbconvert_exporter": "python",
   "pygments_lexer": "ipython3",
   "version": "3.9.12"
  }
 },
 "nbformat": 4,
 "nbformat_minor": 5
}
