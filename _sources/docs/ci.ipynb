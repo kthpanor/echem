{
 "cells": [
  {
   "cell_type": "markdown",
   "id": "growing-cornell",
   "metadata": {},
   "source": [
    "# Configuration interaction\n",
    "## General theory\n",
    "\n",
    "One of the conceptually (but not computationally) simplest way to solve the Schrödinger equation is to simply expand our many-body wavefunction on a n-electron basis set (not to be confused with the 1-electron basis functions used to expand orbitals):\n",
    "\n",
    "\\begin{equation}\n",
    "| \\Psi_{CI} \\rangle = \\sum_k c_k | \\mathbf{k} \\rangle \n",
    "\\end{equation}\n",
    "\n",
    "with energy:\n",
    "\n",
    "\\begin{equation}\n",
    "\\label{CIene}\n",
    "E = \\frac{\\langle \\Psi_{CI} | \\hat{H} | \\Psi_{CI} \\rangle}{\\langle \\Psi_{CI} | \\Psi_{CI} \\rangle} \n",
    "\\end{equation}\n",
    "\n",
    "We will discuss in the next section the choice of the basis, but in all cases, as the size of this basis set increases, the solution converges to the exact solution of the Schrödinger equation.\n",
    "\n",
    "There is a redundancy in the parameters $c_k$ as multiplying them all by a constant does not change the energy. We thus add the constraint that the wavefunction should be normalised $\\langle \\Psi_{CI} | \\Psi_{CI} \\rangle = \\sum_k c_k^2 = 1$. To minimize the wavefunction subject to this constraint, we write a Lagrangian:\n",
    "\n",
    "\\begin{equation}\n",
    "L = E - \\epsilon(\\sum_k c_k^2 -1)\n",
    "\\end{equation}\n",
    "\n",
    "To define our minimisation we set the gradient of our Lagrangian to 0 and obtain:\n",
    "\n",
    "\\begin{equation}\n",
    "\\frac{dL}{d c_k} =  \\sum_i \\langle \\mathbf{i} | \\hat{H} | \\mathbf{k} \\rangle c_i - \\epsilon c_k + cc.= 0\n",
    "\\end{equation}\n",
    "\n",
    "with $cc.$ the complex conjugate of the expression. This can finally be recast in the familiar form:\n",
    "\n",
    "\\begin{equation}\n",
    "\\mathbf{H} \\mathbf{c} = \\epsilon \\mathbf{c}\n",
    "\\end{equation}\n",
    "\n",
    "showing that minimising the wavefunction \\ref{CIene} is equivalent to diagonalising the Hamiltonian matrix in our chosen basis, with the eigenvalues being the energies of all possible states in the system. The ground state simply corresponds to the lowest eigenvalue."
   ]
  },
  {
   "cell_type": "markdown",
   "id": "finnish-tomorrow",
   "metadata": {},
   "source": [
    "## The n-electron basis\n",
    "\n",
    "There are in principle an infinite number of possible n-electron basis to choose from, but we ideally want the expansion to converge quickly (compact expansion) and the functions to be easily manipulatable to efficiently compute the Hamiltonian elements. Naturally, these two criteria often go opposite.\n",
    "\n",
    "As electron correlation depends on the distance between electrons, it would be natural to use functions that depend explicitely on this distance, the same way as our gaussian or Slater 1-electron basis depends explicitely on the distance between electron and nuclei. Wavefunction having this properties are typically called explicitly correlated wavefunctions, but this interelectronic distance makes the calculation of integrals very difficult as it couples multiple electrons together.\n",
    "\n",
    "We often drop this explicit dependence and instead use a wavefunction that is simply formed from products of one-electron functions, i.e. product of orbitals. The simplest of these basis functions is the Hartree product, but since we know the wavefunction should be antisymmetric with respect to the exchange of two electrons, we instead use the antisymmetrised version of the Hartree product: Slater determinants (SD). As each SD represents a different electronic configuration, the resulting method is called configuration interaction (CI). As discussed in the previous sections, this basis of SD constitutes a complete basis within a specified one-electron basis set, and thus the solution obtained by minimizing the energy of this wavefunction is the exact ground state within that one-electron basis.\n",
    "\n",
    "In some codes, configuration state functions (CSF) are used instead of SDs. CSF are fixed linear combinations of SD but with the attractive properties that they are also eigenfunctions of the $S^2$ spin operator. This spin constraints means that the resulting wavefunction will always be spin-adapted and also that CSF are less numerous than Slater Determinants which has advantages on a computational standpoint. However, SD can be expressed as ordered \"strings\" of $\\alpha$ and $\\beta$ creating operators, and this separation of $\\alpha$ and $\\beta$ electrons allows to write efficient computer implementation, outweighing the benefits of the slightly smaller expansion of CSF.\n",
    "\n",
    "Having chosen SD as our basis functions, we now need an efficient way to create our expansion, i.e. a direct link between a given index in our expansion and the corresponding occupation of the SD. This link should work both ways, matching a given occupation to the corresponding index in the expansion. A common choice is the so-called lexical ordering or the reverse lexical ordering. The details are beyond the scope of this page, but fortunately, the MultiPsi package provide the tools to do this.\n",
    "\n",
    "Let's start by initialising a calculation for O$_2$. We will first run a Hartree-Fock calculation to generate starting orbitals. The ground state of this molecule is a triplet, but for the Hartree-Fock step we will simply run a singlet closed-shell. This is not an issue as full CI is exact and does not depend on the actual shape of the orbitals."
   ]
  },
  {
   "cell_type": "code",
   "execution_count": 1,
   "id": "active-dubai",
   "metadata": {
    "scrolled": true,
    "tags": [
     "output_scroll"
    ]
   },
   "outputs": [
    {
     "name": "stderr",
     "output_type": "stream",
     "text": [
      "Warning: importing 'simtk.openmm' is deprecated.  Import 'openmm' instead.\n"
     ]
    },
    {
     "name": "stdout",
     "output_type": "stream",
     "text": [
      "* Warning * Environment variable OMP_NUM_THREADS not set.\n",
      "* Warning * Setting OMP_NUM_THREADS to 4.\n",
      "Molecular Geometry (Angstroms)\n",
      "================================\n",
      "\n",
      "  Atom         Coordinate X          Coordinate Y          Coordinate Z  \n",
      "\n",
      "  O           0.000000000000        0.000000000000       -0.600000000000\n",
      "  O           0.000000000000        0.000000000000        0.600000000000\n",
      "\n",
      "\n",
      "Molecular Basis (Atomic Basis)\n",
      "================================\n",
      "\n",
      "Basis: STO-3G                                         \n",
      "\n",
      "  Atom Contracted GTOs          Primitive GTOs           \n",
      "\n",
      "  O   (2S,1P)                  (6S,3P)                  \n",
      "\n",
      "Contracted Basis Functions : 10                       \n",
      "Primitive Basis Functions  : 30                       \n",
      "\n",
      "\n",
      "                                                                                                                          \n",
      "                                            Self Consistent Field Driver Setup                                            \n",
      "                                           ====================================                                           \n",
      "                                                                                                                          \n",
      "                   Wave Function Model             : Spin-Restricted Hartree-Fock                                         \n",
      "                   Initial Guess Model             : Superposition of Atomic Densities                                    \n",
      "                   Convergence Accelerator         : Two Level Direct Inversion of Iterative Subspace                     \n",
      "                   Max. Number of Iterations       : 50                                                                   \n",
      "                   Max. Number of Error Vectors    : 10                                                                   \n",
      "                   Convergence Threshold           : 1.0e-06                                                              \n",
      "                   ERI Screening Scheme            : Cauchy Schwarz + Density                                             \n",
      "                   ERI Screening Mode              : Dynamic                                                              \n",
      "                   ERI Screening Threshold         : 1.0e-12                                                              \n",
      "                   Linear Dependence Threshold     : 1.0e-06                                                              \n",
      "                                                                                                                          \n",
      "* Info * Nuclear repulsion energy: 28.2227845815 a.u.                                                                     \n",
      "                                                                                                                          \n",
      "* Info * Overlap matrix computed in 0.00 sec.                                                                             \n",
      "                                                                                                                          \n",
      "* Info * Kinetic energy matrix computed in 0.00 sec.                                                                      \n",
      "                                                                                                                          \n",
      "* Info * Nuclear potential matrix computed in 0.00 sec.                                                                   \n",
      "                                                                                                                          \n",
      "* Info * Orthogonalization matrix computed in 0.01 sec.                                                                   \n",
      "                                                                                                                          \n",
      "* Info * SAD initial guess computed in 0.00 sec.                                                                          \n",
      "                                                                                                                          \n",
      "* Info * Starting Reduced Basis SCF calculation...                                                                        \n",
      "* Info * ...done. SCF energy in reduced basis set: -147.550438945281 a.u. Time: 0.07 sec.                                 \n",
      "                                                                                                                          \n",
      "* Info * Overlap matrix computed in 0.00 sec.                                                                             \n",
      "                                                                                                                          \n",
      "* Info * Kinetic energy matrix computed in 0.00 sec.                                                                      \n",
      "                                                                                                                          \n",
      "* Info * Nuclear potential matrix computed in 0.00 sec.                                                                   \n",
      "                                                                                                                          \n",
      "* Info * Orthogonalization matrix computed in 0.00 sec.                                                                   \n",
      "                                                                                                                          \n",
      "                                                                                                                          \n",
      "               Iter. | Hartree-Fock Energy | Energy Change | Gradient Norm | Max. Gradient | Density Change               \n",
      "               --------------------------------------------------------------------------------------------               \n",
      "                  1      -147.550438945286    0.0000000000      0.00000114      0.00000034      0.00000000                \n",
      "                  2      -147.550438945286   -0.0000000000      0.00000004      0.00000001      0.00000081                \n",
      "                                                                                                                          \n",
      "* Info * SCF tensors written to file: scf.tensors.h5                                                                      \n",
      "                                                                                                                          \n",
      "               *** SCF converged in 2 iterations. Time: 0.08 sec.                                                         \n",
      "                                                                                                                          \n",
      "               Spin-Restricted Hartree-Fock:                                                                              \n",
      "               -----------------------------                                                                              \n",
      "               Total Energy                       :     -147.5504389453 a.u.                                              \n",
      "               Electronic Energy                  :     -175.7732235268 a.u.                                              \n",
      "               Nuclear Repulsion Energy           :       28.2227845815 a.u.                                              \n",
      "               ------------------------------------                                                                       \n",
      "               Gradient Norm                      :        0.0000000359 a.u.                                              \n",
      "                                                                                                                          \n",
      "                                                                                                                          \n",
      "               Ground State Information                                                                                   \n",
      "               ------------------------                                                                                   \n",
      "               Charge of Molecule            :  0.0                                                                       \n",
      "               Multiplicity (2S+1)           :  1.0                                                                       \n",
      "               Magnetic Quantum Number (M_S) :  0.0                                                                       \n",
      "                                                                                                                          \n",
      "                                                                                                                          \n",
      "                                                 Spin Restricted Orbitals                                                 \n",
      "                                                 ------------------------                                                 \n",
      "                                                                                                                          \n",
      "               Molecular Orbital No.   4:                                                                                 \n",
      "               --------------------------                                                                                 \n",
      "               Occupation: 2.0 Energy:   -0.99088 a.u.                                                                    \n",
      "               (   1 O   1s  :    -0.18) (   1 O   2s  :     0.78) (   1 O   1p0 :    -0.16)                              \n",
      "               (   2 O   1s  :     0.18) (   2 O   2s  :    -0.78) (   2 O   1p0 :    -0.16)                              \n",
      "                                                                                                                          \n",
      "               Molecular Orbital No.   5:                                                                                 \n",
      "               --------------------------                                                                                 \n",
      "               Occupation: 2.0 Energy:   -0.64661 a.u.                                                                    \n",
      "               (   1 O   1p+1:    -0.44) (   1 O   1p-1:     0.49) (   2 O   1p+1:    -0.44)                              \n",
      "               (   2 O   1p-1:     0.49)                                                                                  \n",
      "                                                                                                                          \n",
      "               Molecular Orbital No.   6:                                                                                 \n",
      "               --------------------------                                                                                 \n",
      "               Occupation: 2.0 Energy:   -0.58501 a.u.                                                                    \n",
      "               (   1 O   2s  :    -0.33) (   1 O   1p0 :     0.61) (   2 O   2s  :    -0.33)                              \n",
      "               (   2 O   1p0 :    -0.61)                                                                                  \n",
      "                                                                                                                          \n",
      "               Molecular Orbital No.   7:                                                                                 \n",
      "               --------------------------                                                                                 \n",
      "               Occupation: 2.0 Energy:   -0.52415 a.u.                                                                    \n",
      "               (   1 O   1p+1:    -0.49) (   1 O   1p-1:    -0.44) (   2 O   1p+1:    -0.49)                              \n",
      "               (   2 O   1p-1:    -0.44)                                                                                  \n",
      "                                                                                                                          \n",
      "               Molecular Orbital No.   8:                                                                                 \n",
      "               --------------------------                                                                                 \n",
      "               Occupation: 2.0 Energy:   -0.32847 a.u.                                                                    \n",
      "               (   1 O   1p+1:    -0.52) (   1 O   1p-1:     0.57) (   2 O   1p+1:     0.52)                              \n",
      "               (   2 O   1p-1:    -0.57)                                                                                  \n",
      "                                                                                                                          \n",
      "               Molecular Orbital No.   9:                                                                                 \n",
      "               --------------------------                                                                                 \n",
      "               Occupation: 0.0 Energy:    0.19167 a.u.                                                                    \n",
      "               (   1 O   1p+1:     0.57) (   1 O   1p-1:     0.52) (   2 O   1p+1:    -0.57)                              \n",
      "               (   2 O   1p-1:    -0.52)                                                                                  \n",
      "                                                                                                                          \n",
      "               Molecular Orbital No.  10:                                                                                 \n",
      "               --------------------------                                                                                 \n",
      "               Occupation: 0.0 Energy:    0.74727 a.u.                                                                    \n",
      "               (   1 O   2s  :    -0.59) (   1 O   1p0 :    -0.95) (   2 O   2s  :     0.59)                              \n",
      "               (   2 O   1p0 :    -0.95)                                                                                  \n",
      "                                                                                                                          \n"
     ]
    }
   ],
   "source": [
    "import veloxchem as vlx\n",
    "import multipsi as mtp\n",
    "import numpy as np\n",
    "O2_xyz=\"\"\"2\n",
    "O2                                                                                                                         \n",
    "O    0.000000000000        0.000000000000       -0.600000000000 \n",
    "O    0.000000000000        0.000000000000        0.600000000000 \n",
    "\"\"\"\n",
    "\n",
    "molecule = vlx.Molecule.from_xyz_string(O2_xyz)\n",
    "print(molecule.get_string())\n",
    "\n",
    "basis = vlx.MolecularBasis.read(molecule,\"STO-3G\")\n",
    "print(basis.get_string(molecule))\n",
    "\n",
    "scfdrv = vlx.ScfRestrictedDriver()\n",
    "scfdrv.compute(molecule, basis)"
   ]
  },
  {
   "cell_type": "markdown",
   "id": "appropriate-appeal",
   "metadata": {},
   "source": [
    "Now we can switch the multiplicity back to a triplet."
   ]
  },
  {
   "cell_type": "code",
   "execution_count": 2,
   "id": "published-murder",
   "metadata": {},
   "outputs": [],
   "source": [
    "molecule.set_multiplicity(3)"
   ]
  },
  {
   "cell_type": "markdown",
   "id": "vietnamese-observation",
   "metadata": {},
   "source": [
    "The next step is to define our CI. The meaning of this step will become more clear when we discuss truncated CI and active spaces. Now we simply define a full CI by using the FCI keyword. Then we use the CIExpansion class to create the tools necessary to handle the CI expansion."
   ]
  },
  {
   "cell_type": "code",
   "execution_count": 3,
   "id": "radical-fetish",
   "metadata": {},
   "outputs": [
    {
     "name": "stdout",
     "output_type": "stream",
     "text": [
      "\n",
      "          CI expansion:\n",
      "          -------------\n",
      "Number of determinants:      1200\n",
      "\n",
      "\n"
     ]
    }
   ],
   "source": [
    "space=mtp.MolSpace(molecule,scfdrv.mol_orbs)\n",
    "space.FCI()\n",
    "expansion=mtp.CIExpansion(space)\n",
    "print(expansion)"
   ]
  },
  {
   "cell_type": "markdown",
   "id": "phantom-pierre",
   "metadata": {},
   "source": [
    "Printing the expansion shows the number of Slater determinants. As you can see, the number is already fairly large. This is not an issue in a real calculation, but for testing purposes, we will restrict this number a bit. For this, we will simply exclude the 1s and 2s of the oxygen from the calculation by defining an active space. There are 8 electrons and 6 orbitals remaining, so we will define it as a CAS(8,6): "
   ]
  },
  {
   "cell_type": "code",
   "execution_count": 4,
   "id": "postal-forum",
   "metadata": {},
   "outputs": [
    {
     "name": "stdout",
     "output_type": "stream",
     "text": [
      "\n",
      "          CI expansion:\n",
      "          -------------\n",
      "Number of determinants:      120\n",
      "\n",
      "\n"
     ]
    }
   ],
   "source": [
    "space.CAS(8,6)\n",
    "expansion=mtp.CIExpansion(space)\n",
    "print(expansion)"
   ]
  },
  {
   "cell_type": "markdown",
   "id": "attended-assembly",
   "metadata": {},
   "source": [
    "This number is much more manageable.\n",
    "\n",
    "Now we can look at the determinants themselves. The easiest way is to use the generator detlist() of the expansion class in a python for loop, which as the name implies will provide the determinants in a predefined order, here in reverse lexical ordering. By printing the determinant directly, we get the string representation, with a character for each orbital in the system. '2' indicates that the orbital is doubly occupied, 'a' and 'b' indicates an $\\alpha$ or $\\beta$ electron, and '0' an empty orbital. The determinant also provides a python list of the orbitals containing a $\\alpha$ or $\\beta$ electron."
   ]
  },
  {
   "cell_type": "code",
   "execution_count": 5,
   "id": "similar-suggestion",
   "metadata": {
    "tags": [
     "output_scroll"
    ]
   },
   "outputs": [
    {
     "name": "stdout",
     "output_type": "stream",
     "text": [
      "222aa0 [0, 1, 2, 3, 4] [0, 1, 2]\n",
      "22a2a0 [0, 1, 2, 3, 4] [0, 1, 3]\n",
      "2a22a0 [0, 1, 2, 3, 4] [0, 2, 3]\n",
      "a222a0 [0, 1, 2, 3, 4] [1, 2, 3]\n",
      "22aa20 [0, 1, 2, 3, 4] [0, 1, 4]\n",
      "2a2a20 [0, 1, 2, 3, 4] [0, 2, 4]\n",
      "a22a20 [0, 1, 2, 3, 4] [1, 2, 4]\n",
      "2aa220 [0, 1, 2, 3, 4] [0, 3, 4]\n",
      "a2a220 [0, 1, 2, 3, 4] [1, 3, 4]\n",
      "aa2220 [0, 1, 2, 3, 4] [2, 3, 4]\n",
      "22aaab [0, 1, 2, 3, 4] [0, 1, 5]\n",
      "2a2aab [0, 1, 2, 3, 4] [0, 2, 5]\n",
      "a22aab [0, 1, 2, 3, 4] [1, 2, 5]\n",
      "2aa2ab [0, 1, 2, 3, 4] [0, 3, 5]\n",
      "a2a2ab [0, 1, 2, 3, 4] [1, 3, 5]\n",
      "aa22ab [0, 1, 2, 3, 4] [2, 3, 5]\n",
      "2aaa2b [0, 1, 2, 3, 4] [0, 4, 5]\n",
      "a2aa2b [0, 1, 2, 3, 4] [1, 4, 5]\n",
      "aa2a2b [0, 1, 2, 3, 4] [2, 4, 5]\n",
      "aaa22b [0, 1, 2, 3, 4] [3, 4, 5]\n",
      "222a0a [0, 1, 2, 3, 5] [0, 1, 2]\n",
      "22a20a [0, 1, 2, 3, 5] [0, 1, 3]\n",
      "2a220a [0, 1, 2, 3, 5] [0, 2, 3]\n",
      "a2220a [0, 1, 2, 3, 5] [1, 2, 3]\n",
      "22aaba [0, 1, 2, 3, 5] [0, 1, 4]\n",
      "2a2aba [0, 1, 2, 3, 5] [0, 2, 4]\n",
      "a22aba [0, 1, 2, 3, 5] [1, 2, 4]\n",
      "2aa2ba [0, 1, 2, 3, 5] [0, 3, 4]\n",
      "a2a2ba [0, 1, 2, 3, 5] [1, 3, 4]\n",
      "aa22ba [0, 1, 2, 3, 5] [2, 3, 4]\n",
      "22aa02 [0, 1, 2, 3, 5] [0, 1, 5]\n",
      "2a2a02 [0, 1, 2, 3, 5] [0, 2, 5]\n",
      "a22a02 [0, 1, 2, 3, 5] [1, 2, 5]\n",
      "2aa202 [0, 1, 2, 3, 5] [0, 3, 5]\n",
      "a2a202 [0, 1, 2, 3, 5] [1, 3, 5]\n",
      "aa2202 [0, 1, 2, 3, 5] [2, 3, 5]\n",
      "2aaab2 [0, 1, 2, 3, 5] [0, 4, 5]\n",
      "a2aab2 [0, 1, 2, 3, 5] [1, 4, 5]\n",
      "aa2ab2 [0, 1, 2, 3, 5] [2, 4, 5]\n",
      "aaa2b2 [0, 1, 2, 3, 5] [3, 4, 5]\n",
      "2220aa [0, 1, 2, 4, 5] [0, 1, 2]\n",
      "22abaa [0, 1, 2, 4, 5] [0, 1, 3]\n",
      "2a2baa [0, 1, 2, 4, 5] [0, 2, 3]\n",
      "a22baa [0, 1, 2, 4, 5] [1, 2, 3]\n",
      "22a02a [0, 1, 2, 4, 5] [0, 1, 4]\n",
      "2a202a [0, 1, 2, 4, 5] [0, 2, 4]\n",
      "a2202a [0, 1, 2, 4, 5] [1, 2, 4]\n",
      "2aab2a [0, 1, 2, 4, 5] [0, 3, 4]\n",
      "a2ab2a [0, 1, 2, 4, 5] [1, 3, 4]\n",
      "aa2b2a [0, 1, 2, 4, 5] [2, 3, 4]\n",
      "22a0a2 [0, 1, 2, 4, 5] [0, 1, 5]\n",
      "2a20a2 [0, 1, 2, 4, 5] [0, 2, 5]\n",
      "a220a2 [0, 1, 2, 4, 5] [1, 2, 5]\n",
      "2aaba2 [0, 1, 2, 4, 5] [0, 3, 5]\n",
      "a2aba2 [0, 1, 2, 4, 5] [1, 3, 5]\n",
      "aa2ba2 [0, 1, 2, 4, 5] [2, 3, 5]\n",
      "2aa022 [0, 1, 2, 4, 5] [0, 4, 5]\n",
      "a2a022 [0, 1, 2, 4, 5] [1, 4, 5]\n",
      "aa2022 [0, 1, 2, 4, 5] [2, 4, 5]\n",
      "aaab22 [0, 1, 2, 4, 5] [3, 4, 5]\n",
      "22baaa [0, 1, 3, 4, 5] [0, 1, 2]\n",
      "2202aa [0, 1, 3, 4, 5] [0, 1, 3]\n",
      "2ab2aa [0, 1, 3, 4, 5] [0, 2, 3]\n",
      "a2b2aa [0, 1, 3, 4, 5] [1, 2, 3]\n",
      "220a2a [0, 1, 3, 4, 5] [0, 1, 4]\n",
      "2aba2a [0, 1, 3, 4, 5] [0, 2, 4]\n",
      "a2ba2a [0, 1, 3, 4, 5] [1, 2, 4]\n",
      "2a022a [0, 1, 3, 4, 5] [0, 3, 4]\n",
      "a2022a [0, 1, 3, 4, 5] [1, 3, 4]\n",
      "aab22a [0, 1, 3, 4, 5] [2, 3, 4]\n",
      "220aa2 [0, 1, 3, 4, 5] [0, 1, 5]\n",
      "2abaa2 [0, 1, 3, 4, 5] [0, 2, 5]\n",
      "a2baa2 [0, 1, 3, 4, 5] [1, 2, 5]\n",
      "2a02a2 [0, 1, 3, 4, 5] [0, 3, 5]\n",
      "a202a2 [0, 1, 3, 4, 5] [1, 3, 5]\n",
      "aab2a2 [0, 1, 3, 4, 5] [2, 3, 5]\n",
      "2a0a22 [0, 1, 3, 4, 5] [0, 4, 5]\n",
      "a20a22 [0, 1, 3, 4, 5] [1, 4, 5]\n",
      "aaba22 [0, 1, 3, 4, 5] [2, 4, 5]\n",
      "aa0222 [0, 1, 3, 4, 5] [3, 4, 5]\n",
      "2b2aaa [0, 2, 3, 4, 5] [0, 1, 2]\n",
      "2ba2aa [0, 2, 3, 4, 5] [0, 1, 3]\n",
      "2022aa [0, 2, 3, 4, 5] [0, 2, 3]\n",
      "ab22aa [0, 2, 3, 4, 5] [1, 2, 3]\n",
      "2baa2a [0, 2, 3, 4, 5] [0, 1, 4]\n",
      "202a2a [0, 2, 3, 4, 5] [0, 2, 4]\n",
      "ab2a2a [0, 2, 3, 4, 5] [1, 2, 4]\n",
      "20a22a [0, 2, 3, 4, 5] [0, 3, 4]\n",
      "aba22a [0, 2, 3, 4, 5] [1, 3, 4]\n",
      "a0222a [0, 2, 3, 4, 5] [2, 3, 4]\n",
      "2baaa2 [0, 2, 3, 4, 5] [0, 1, 5]\n",
      "202aa2 [0, 2, 3, 4, 5] [0, 2, 5]\n",
      "ab2aa2 [0, 2, 3, 4, 5] [1, 2, 5]\n",
      "20a2a2 [0, 2, 3, 4, 5] [0, 3, 5]\n",
      "aba2a2 [0, 2, 3, 4, 5] [1, 3, 5]\n",
      "a022a2 [0, 2, 3, 4, 5] [2, 3, 5]\n",
      "20aa22 [0, 2, 3, 4, 5] [0, 4, 5]\n",
      "abaa22 [0, 2, 3, 4, 5] [1, 4, 5]\n",
      "a02a22 [0, 2, 3, 4, 5] [2, 4, 5]\n",
      "a0a222 [0, 2, 3, 4, 5] [3, 4, 5]\n",
      "b22aaa [1, 2, 3, 4, 5] [0, 1, 2]\n",
      "b2a2aa [1, 2, 3, 4, 5] [0, 1, 3]\n",
      "ba22aa [1, 2, 3, 4, 5] [0, 2, 3]\n",
      "0222aa [1, 2, 3, 4, 5] [1, 2, 3]\n",
      "b2aa2a [1, 2, 3, 4, 5] [0, 1, 4]\n",
      "ba2a2a [1, 2, 3, 4, 5] [0, 2, 4]\n",
      "022a2a [1, 2, 3, 4, 5] [1, 2, 4]\n",
      "baa22a [1, 2, 3, 4, 5] [0, 3, 4]\n",
      "02a22a [1, 2, 3, 4, 5] [1, 3, 4]\n",
      "0a222a [1, 2, 3, 4, 5] [2, 3, 4]\n",
      "b2aaa2 [1, 2, 3, 4, 5] [0, 1, 5]\n",
      "ba2aa2 [1, 2, 3, 4, 5] [0, 2, 5]\n",
      "022aa2 [1, 2, 3, 4, 5] [1, 2, 5]\n",
      "baa2a2 [1, 2, 3, 4, 5] [0, 3, 5]\n",
      "02a2a2 [1, 2, 3, 4, 5] [1, 3, 5]\n",
      "0a22a2 [1, 2, 3, 4, 5] [2, 3, 5]\n",
      "baaa22 [1, 2, 3, 4, 5] [0, 4, 5]\n",
      "02aa22 [1, 2, 3, 4, 5] [1, 4, 5]\n",
      "0a2a22 [1, 2, 3, 4, 5] [2, 4, 5]\n",
      "0aa222 [1, 2, 3, 4, 5] [3, 4, 5]\n"
     ]
    }
   ],
   "source": [
    "for det in expansion.detlist():\n",
    "    print(det,det.occ_alpha(),det.occ_beta())"
   ]
  },
  {
   "cell_type": "markdown",
   "id": "executive-coach",
   "metadata": {},
   "source": [
    "## The CI Hamiltonian\n",
    "\n",
    "Now that we have the list of determinants, we only need to form the CI Hamiltonian. For this, we need to be able to calculate the matrix elements.\n",
    "\n",
    "MultiPsi also provides a function to do that. For this we need to initialise the CIHam class, which computes the  integrals in the molecular basis and provides several functions to use them in a CI calculation."
   ]
  },
  {
   "cell_type": "code",
   "execution_count": 6,
   "id": "straight-style",
   "metadata": {},
   "outputs": [],
   "source": [
    "CIham=mtp.CIHam(molecule,basis,expansion) #Contains integrals and functions using them\n",
    "CIham.compute_ints()"
   ]
  },
  {
   "cell_type": "markdown",
   "id": "bright-clause",
   "metadata": {},
   "source": [
    "We can now compute the Hamiltonian. The easiest is to simply do a double loop over SD and then computing the matrix element using the Hij function of CIHam:"
   ]
  },
  {
   "cell_type": "code",
   "execution_count": 7,
   "id": "specific-influence",
   "metadata": {},
   "outputs": [],
   "source": [
    "Ham=np.zeros((expansion.nDet,expansion.nDet))\n",
    "for i,idet in enumerate(expansion.detlist()):\n",
    "    for j,jdet in enumerate(expansion.detlist()):\n",
    "        Ham[i,j]=CIham.Hij(idet,jdet)"
   ]
  },
  {
   "cell_type": "markdown",
   "id": "animal-brazilian",
   "metadata": {},
   "source": [
    "If we diagonalise this hamiltonian, we now obtain all the energies of the system, both ground and excited states:"
   ]
  },
  {
   "cell_type": "code",
   "execution_count": 8,
   "id": "capable-blast",
   "metadata": {
    "scrolled": false
   },
   "outputs": [
    {
     "name": "stdout",
     "output_type": "stream",
     "text": [
      "[-147.72142572 -147.49304169 -147.49304169 -147.48807552 -147.3873587\n",
      " -147.3873587  -147.30200524 -147.27544175 -147.27544175 -147.14731015\n",
      " -147.14731015 -147.08159064 -147.08159064 -147.07878348 -147.07001287\n",
      " -147.06034613 -147.06034613 -147.00846109 -147.00846109 -146.9956644\n",
      " -146.9956644  -146.97297098 -146.97297098 -146.94721038 -146.93555355\n",
      " -146.93555355 -146.92638432 -146.8851956  -146.8851956  -146.88031319\n",
      " -146.83656167 -146.83656167 -146.8194181  -146.74951724 -146.74951724\n",
      " -146.7444825  -146.7444825  -146.73931587 -146.7380768  -146.7380768\n",
      " -146.71308896 -146.71308896 -146.69767334 -146.69767334 -146.65702461\n",
      " -146.63644115 -146.63644115 -146.56808066 -146.53474692 -146.49721331\n",
      " -146.49721331 -146.49222219 -146.48988297 -146.48988297 -146.43557548\n",
      " -146.43557548 -146.43157041 -146.41342432 -146.39421472 -146.36844193\n",
      " -146.36844193 -146.34140472 -146.33447137 -146.33447137 -146.27735346\n",
      " -146.27735346 -146.27295048 -146.26022031 -146.22089316 -146.21143536\n",
      " -146.20231493 -146.20231493 -146.19364401 -146.19364401 -146.16203131\n",
      " -146.16203131 -146.16052966 -146.16052966 -146.12448418 -146.10706774\n",
      " -146.10706774 -146.06279699 -146.05373213 -146.05373213 -146.05166257\n",
      " -146.05166257 -146.04811384 -146.04811384 -145.97639961 -145.97639961\n",
      " -145.89737526 -145.89737526 -145.89541644 -145.89452505 -145.8879828\n",
      " -145.8879828  -145.80699569 -145.80699569 -145.77058046 -145.77002018\n",
      " -145.77002018 -145.76483211 -145.76483211 -145.75718118 -145.75483376\n",
      " -145.75483376 -145.71098624 -145.71098624 -145.69867907 -145.68762973\n",
      " -145.68762973 -145.66194027 -145.66043364 -145.66043364 -145.10614438\n",
      " -145.00547389 -144.90619332 -144.90619332 -144.87085696 -144.87085696]\n"
     ]
    }
   ],
   "source": [
    "w,v=np.linalg.eigh(Ham)\n",
    "print(w)"
   ]
  },
  {
   "cell_type": "markdown",
   "id": "portuguese-bible",
   "metadata": {},
   "source": [
    "Note how the first (and lowest) energy is indeed lower than the one found at the Hartree-Fock level. This comes both from electron correlation and from using the correct triplet multiplicity. However, it is important to note that some of the states obtained here are not actually triplet but have a higher multiplicity. As we discussed in the previous section, the basis of Slater Determinant is not spin-adapted.  The only constraint in our expansion is the value of $m_s$, here $m_s = 1$, meaning we have two more $\\alpha$ electron than $\\beta$. This excludes singlet (which can only have $m_s=0$) but does not exclude some quintets or higher.\n",
    "\n",
    "We can also print the first eigenvector:"
   ]
  },
  {
   "cell_type": "code",
   "execution_count": 9,
   "id": "broken-empire",
   "metadata": {},
   "outputs": [
    {
     "name": "stdout",
     "output_type": "stream",
     "text": [
      "[0.970 -0.000 -0.000 0.000 -0.000 0.000 0.000 -0.000 -0.179 0.000 -0.000\n",
      " 0.000 -0.000 0.000 0.000 0.071 0.071 -0.000 -0.000 0.000 -0.000 0.000\n",
      " 0.000 -0.000 0.000 0.000 0.000 0.000 -0.000 0.003 0.000 -0.000 -0.000\n",
      " -0.000 0.001 0.000 0.000 0.000 -0.000 -0.000 -0.000 0.000 -0.000 0.000\n",
      " 0.000 -0.000 -0.000 0.003 -0.000 -0.000 -0.000 -0.000 0.000 -0.000 0.000\n",
      " 0.000 -0.000 0.001 -0.000 -0.000 -0.000 -0.000 0.000 -0.000 0.000 0.007\n",
      " -0.000 -0.000 0.000 -0.000 -0.019 -0.000 0.000 -0.000 0.000 -0.000 0.000\n",
      " 0.000 0.000 -0.000 0.000 0.000 -0.000 -0.075 0.075 -0.000 0.000 0.000\n",
      " -0.000 0.000 -0.000 -0.061 0.000 0.000 0.000 0.000 0.000 -0.000 0.000\n",
      " -0.033 0.000 0.000 -0.007 0.000 -0.000 0.000 -0.000 0.000 -0.000 -0.000\n",
      " 0.000 0.000 -0.019 -0.000 0.000 0.000 -0.000 0.000 -0.000 0.000]\n"
     ]
    }
   ],
   "source": [
    "np.set_printoptions(formatter={'float_kind':\"{:.3f}\".format})\n",
    "print(v[:,0])"
   ]
  },
  {
   "cell_type": "markdown",
   "id": "general-grade",
   "metadata": {},
   "source": [
    "One can see that the largest coefficient is the first one, corresponding to the '222aa0' determinant, which intuitively is indeed the expected ground state configuration.\n",
    "\n",
    "You may be curious as to what happens in the Hij function, that is, how we compute the $\\langle i | H | j \\rangle $ matrix elements. The answer to this is the Slater-Condon rules, see the section on [Slater Determinants](sec:slater). This rules define the matrix elements in terms of molecular integrals, depending on the difference in occupation between the 2 determinants. The difference in occupation is easily formulated in terms of excitations, with different rules depending on if $|j \\rangle$ is singly or doubly excited compared to $|i \\rangle$. Any higher excitation will simply lead to 0.\n",
    "\n",
    "These rules are relatively easy to derive, both in standard and second quantization formulation. The idea is that the Hamiltonian has to \"reconcile\" the excitations. Being a two-electron operator, the Hamiltonian can reconcile at most two excitations.\n",
    "\n",
    "First we need to obtain the necessary integrals. Those are the standard 1 and 2 electron integrals but in the molecular orbital basis as the expressions are simpler in this basis. Since we are leaving some occupied orbitals outside of the CI space (the s orbitals), also called inactive orbitals, we also need to include their interaction with the electrons in our CI. This is done by replacing the 1 electron integrals by the inactive Fock matrix defined as:\n",
    "\n",
    "\\begin{equation}\n",
    "F^I_{pq} = h_{pq} + \\sum_{i \\in \\mathrm{inactive}} 2 (ii|pq) - (ip|iq) \n",
    "\\end{equation}\n",
    "\n",
    "To compute the total energy, we also need to include the inactive energy, which is simply the energy of the inactive electrons and the nuclear-nuclear repulsion term.\n",
    "\n",
    "\\begin{equation}\n",
    "E^I = V_{NN} + \\sum_{i \\in \\mathrm{inactive}} 2 ( h_{ii} + F^I_{ii} )\n",
    "\\end{equation}\n",
    "or using the AO matrices\n",
    "\n",
    "\\begin{equation}\n",
    "E^I = V_{NN} + \\sum_{pq} D^I_{pq} ( h_{pq} + F^I_{pq} )\n",
    "\\end{equation}\n",
    "with the inactive density defined from the MO coefficients $C^i_p$:\n",
    "\n",
    "\\begin{equation}\n",
    "D^I_{pq}= \\sum_{i \\in \\mathrm{inactive}} C^i_pC^i_q\n",
    "\\end{equation}\n"
   ]
  },
  {
   "cell_type": "code",
   "execution_count": 10,
   "id": "07e111a0",
   "metadata": {},
   "outputs": [],
   "source": [
    "nIn=space.nOcc #Number of inactive orbitals\n",
    "nAct=space.nAct #Number of active orbitals\n",
    "nbas=space.norb #Total number of orbitals\n",
    "\n",
    "############################\n",
    "## Get integrals and V_NN ##\n",
    "############################\n",
    "V_nuc = molecule.nuclear_repulsion_energy()\n",
    "\n",
    "# one-electron Hamiltonian\n",
    "kinetic_drv = vlx.KineticEnergyIntegralsDriver()\n",
    "T = kinetic_drv.compute(molecule, basis).to_numpy()\n",
    "\n",
    "nucpot_drv = vlx.NuclearPotentialIntegralsDriver()\n",
    "V = -nucpot_drv.compute(molecule, basis).to_numpy()\n",
    "\n",
    "h = T + V \n",
    "\n",
    "# two-electron Hamiltonian\n",
    "eri_drv = vlx.ElectronRepulsionIntegralsDriver()\n",
    "g = np.zeros((nbas, nbas, nbas, nbas))\n",
    "eri_drv.compute_in_mem(molecule, basis, g)\n",
    "\n",
    "#################################\n",
    "## Compute the needed matrices ##\n",
    "#################################\n",
    "\n",
    "C = scfdrv.mol_orbs.alpha_to_numpy()\n",
    "Cact=C[:, nIn:nIn+nAct] #Active MOs\n",
    "    \n",
    "# Compute the inactive Fock matrix\n",
    "Din = np.einsum('ik,jk->ij', C[:, :nIn], C[:, :nIn]) #inactive density\n",
    "Jin = np.einsum('ijkl,kl->ij', g, Din)\n",
    "Kin = np.einsum('ilkj,kl->ij', g, Din)\n",
    "Fin = h + 2*Jin - Kin\n",
    "    \n",
    "# Transform to MO basis\n",
    "Ftu = np.einsum(\"pq,qu, pt->tu\", Fin   , Cact, Cact)\n",
    "    \n",
    "#Inactive energy:\n",
    "Ein = np.einsum('ij,ij->', h + Fin, Din) + V_nuc\n",
    "\n",
    "#Compute the MO 2-electron integrals\n",
    "pqrw = np.einsum(\"pqrs,sw->pqrw\", g   , Cact)\n",
    "pqvw = np.einsum(\"pqrw,rv->pqvw\", pqrw, Cact)\n",
    "puvw = np.einsum(\"pqvw,qu->puvw\", pqvw, Cact)\n",
    "tuvw = np.einsum(\"puvw,pt->tuvw\", puvw, Cact)"
   ]
  },
  {
   "cell_type": "markdown",
   "id": "35f1655d",
   "metadata": {},
   "source": [
    "These integrals are also provided directly by CIHam if needed:"
   ]
  },
  {
   "cell_type": "code",
   "execution_count": 15,
   "id": "8025dfcd",
   "metadata": {},
   "outputs": [],
   "source": [
    "assert abs(Ein - CIham.inEne)<1.0e-8\n",
    "np.testing.assert_almost_equal(Ftu, CIham.Ftu)\n",
    "np.testing.assert_almost_equal(tuvw, CIham.tuvw)"
   ]
  },
  {
   "cell_type": "markdown",
   "id": "b31a1cd4",
   "metadata": {},
   "source": [
    "We can now implement the Slater Condon rules:"
   ]
  },
  {
   "cell_type": "code",
   "execution_count": null,
   "id": "precious-advocacy",
   "metadata": {},
   "outputs": [],
   "source": [
    "def SC_diag(occa, occb):\n",
    "    '''\n",
    "    The energy of a given SD, as a function of its list of occupied orbitals\n",
    "    '''\n",
    "    Hij=Ein #Inactive energy (inc. nuclear repulsion)\n",
    "    for i in occa:\n",
    "        Hij+=Ftu[i,i] #1-e term = inactive Fock matrix\n",
    "        for j in occa:\n",
    "            if i<j:\n",
    "                Hij+=tuvw[i,i,j,j]-tuvw[i,j,j,i] #Coulomb-Exchange\n",
    "        for j in occb:\n",
    "            Hij+=tuvw[i,i,j,j]\n",
    "    for i in occb:\n",
    "        Hij+=Ftu[i,i]\n",
    "        for j in occb:\n",
    "            if i<j:\n",
    "                Hij+=tuvw[i,i,j,j]-tuvw[i,j,j,i]\n",
    "    return Hij\n",
    "def SC_1exc(i,a,ss_occ, os_occ):\n",
    "    '''\n",
    "    Slater-Condon between a SD and a singly excited, depending on the excited orbitals (i,a)\n",
    "    and the same-spin (compared to spin of the excitated electron) and opposite-spin occupation\n",
    "    '''\n",
    "    Hij=Ftu[i,a]\n",
    "    for k in ss_occ:\n",
    "        Hij+=tuvw[i,a,k,k]-tuvw[i,k,k,a]\n",
    "    for k in os_occ:\n",
    "        Hij+=tuvw[i,a,k,k]\n",
    "    return Hij\n",
    "def SC_ss1exc(i,a,j,b):\n",
    "    '''\n",
    "    Slater-Condon between a SD and a singly excited determinant,\n",
    "    with both excited electrons having the same spin\n",
    "    '''\n",
    "    return tuvw[i,a,j,b]-tuvw[i,b,j,a]\n",
    "def SC_os1exc(i,a,j,b):\n",
    "    '''\n",
    "    Slater-Condon between a SD and a singly excited determinant,\n",
    "    with the excited electrons having opposite spin\n",
    "    '''\n",
    "    return tuvw[i,a,j,b]"
   ]
  },
  {
   "cell_type": "markdown",
   "id": "fitted-kitty",
   "metadata": {},
   "source": [
    "The difficult part is to make sure that the occupations of the Slater determinants are brought to maximum concordance. The expansion produced by lexical ordering may not have this property, but one can switch electrons until we reach this maximum concordance, introducing a negative phase factor at each electron exchange. Again, MultiPsi provides a convenient way to achieve this. The idea is to explicitely create the singly excitated determinant (or doubly excited by applying the operation twice) and then keep track of the number of exchanges to bring it to natural ordering. The excite_alpha and excite_beta functions do this, providing both the excited determinant and the phase factor. The index() function of the determinants then provides the index of the given determinant in the expansion, in order to associate the energy to the correct position in the Hamiltonian.\n",
    "\n",
    "With this new tools and our Slater-Condon functions, we can now rewrite the above code. We replace the double loop by a simple loop and then an explicit construction of all singly and doubly excited determinants. The resulting code looks more complex but is relatively easy to follow."
   ]
  },
  {
   "cell_type": "code",
   "execution_count": null,
   "id": "italian-rental",
   "metadata": {},
   "outputs": [],
   "source": [
    "Ham=np.zeros((expansion.nDet,expansion.nDet))\n",
    "for idet,det in enumerate(expansion.detlist()):\n",
    "    #Diagonal term\n",
    "    Ham[idet,idet]=SC_diag(det.occ_alpha(),det.occ_beta())\n",
    "    #Single excitations alpha\n",
    "    for i in det.occ_alpha():\n",
    "        for a in det.unocc_alpha():\n",
    "            phase,excdet=det.excite_alpha(i,a)\n",
    "            Ham[idet,excdet.index()]=phase*SC_1exc(i,a,det.occ_alpha(),det.occ_beta())\n",
    "            #alpha-alpha excitation\n",
    "            for j in det.occ_alpha():\n",
    "                if i>=j:\n",
    "                    continue\n",
    "                for b in det.unocc_alpha():\n",
    "                    if a>=b:\n",
    "                        continue\n",
    "                    phase2,exc2det=excdet.excite_alpha(j,b)\n",
    "                    Ham[idet,exc2det.index()]=phase*phase2*SC_ss1exc(i,a,j,b)\n",
    "            #alpha-beta excitation\n",
    "            for j in det.occ_beta():\n",
    "                for b in det.unocc_beta():\n",
    "                    phase2,exc2det=excdet.excite_beta(j,b)\n",
    "                    Ham[idet,exc2det.index()]=phase*phase2*SC_os1exc(i,a,j,b)\n",
    "    #Single excitations beta\n",
    "    for i in det.occ_beta():\n",
    "        for a in det.unocc_beta():\n",
    "            phase,excdet=det.excite_beta(i,a)\n",
    "            Ham[idet,excdet.index()]=phase*SC_1exc(i,a,det.occ_beta(),det.occ_alpha())\n",
    "            #beta-beta excitation\n",
    "            for j in det.occ_beta():\n",
    "                if i>=j:\n",
    "                    continue\n",
    "                for b in det.unocc_beta():\n",
    "                    if a>=b:\n",
    "                        continue\n",
    "                    phase2,exc2det=excdet.excite_beta(j,b)\n",
    "                    Ham[idet,exc2det.index()]=phase*phase2*SC_ss1exc(i,a,j,b) "
   ]
  },
  {
   "cell_type": "markdown",
   "id": "swedish-morning",
   "metadata": {},
   "source": [
    "The advantage of this loop structure is that we only compute the non-zero elements. It can be easily verified that we obtain the same result:"
   ]
  },
  {
   "cell_type": "code",
   "execution_count": null,
   "id": "serial-effect",
   "metadata": {},
   "outputs": [],
   "source": [
    "w,v=np.linalg.eigh(Ham)\n",
    "print(w[0:3])"
   ]
  },
  {
   "cell_type": "markdown",
   "id": "thrown-bedroom",
   "metadata": {},
   "source": [
    "## Direct CI\n",
    "\n",
    "As we saw, the number of SD $N_{\\mathrm{SD}}$ grows extremely rapidly with the size of the system. The Hamiltonian matrix grows even faster, with size $N_{\\mathrm{SD}}^2$. For example, for a singlet with 6 electron in 6 orbitals, the number of SD is 210, growing to 31 878 for 10 electron in 10 orbitals and 82 824 885 for 16 in 16. At this scale, the Hamiltonian matrix would take nearly 7000 TB of storage on a computer. Most of the matrix elements are zero, but even using sparse storage, the memory footprint is enormous.\n",
    "\n",
    "Fortunately, we are rarely if ever interested in the entire list of excited states, usually only the ground state and/or a couple of excited states. In this case, one can replace the diagonalisation of the Hamiltonian by an iterative process where we progressively optimise a couple of states. In this case, we do not need to store the entire Hamiltonian matrix, but we only need to know its effect on a vector, the so-called $\\sigma$ vector:\n",
    "\n",
    "\\begin{equation}\n",
    "\\mathbf{\\sigma} = \\mathbf{H} \\mathbf{c}\n",
    "\\end{equation}\n",
    "\n",
    "In order to solve $ \\mathbf{H} \\mathbf{c} = \\epsilon \\mathbf{c} $, we can use a method similar to the conjugate gradient optimisation, which in this context is called the Davidson method. At each iteration, a new trial vector is constructed according to:\n",
    "\n",
    "\\begin{equation}\n",
    "\\label{cidav}\n",
    "\\mathbf{c_{\\mathrm{dav}}} = (\\mathbf{H_0} - \\epsilon)^{-1} \\mathbf{r}\n",
    "\\end{equation}\n",
    "with $\\mathbf{H_0}$ the preconditioner, typically the diagonal of the Hamiltonian and $\\mathbf{r}$ the residual vector defined as\n",
    "\n",
    "\\begin{equation}\n",
    "\\mathbf{r} = (\\mathbf{H} - \\epsilon) \\mathbf{c} = \\mathbf{\\sigma} - \\epsilon \\mathbf{c}\n",
    "\\end{equation}\n",
    "\n",
    "To compute the improved CI vector, one typically creates and diagonalise a small Hamiltonian matrix in the basis of $\\mathbf{c}$ and $\\mathbf{c_{\\mathrm{dav}}}$, sometimes including also the vectors at previous iterations to improve convergence.\n",
    "\n",
    "Thus, only quantities with sizes equal to the number of SD are needed, and expansion up to up to hundreds of millions of determinant can be computed on a standard computer.\n",
    "\n",
    "The code we had to compute the Hamiltonian can be trivially modified to compute the sigma vector:"
   ]
  },
  {
   "cell_type": "code",
   "execution_count": null,
   "id": "sensitive-dylan",
   "metadata": {},
   "outputs": [],
   "source": [
    "def sigma(vector):\n",
    "    result=np.zeros(expansion.nDet)\n",
    "    for idet,det in enumerate(expansion.detlist()):\n",
    "        #Diagonal term\n",
    "        result[idet]+=SC_diag(det.occ_alpha(),det.occ_beta())*vector[idet]\n",
    "        #Single excitations alpha\n",
    "        for i in det.occ_alpha():\n",
    "            for a in det.unocc_alpha():\n",
    "                phase,excdet=det.excite_alpha(i,a)\n",
    "                result[excdet.index()]+=phase*SC_1exc(i,a,det.occ_alpha(),det.occ_beta())*vector[idet]\n",
    "                #alpha-alpha excitation\n",
    "                for j in det.occ_alpha():\n",
    "                    if i>=j:\n",
    "                        continue\n",
    "                    for b in det.unocc_alpha():\n",
    "                        if a>=b:\n",
    "                            continue\n",
    "                        phase2,exc2det=excdet.excite_alpha(j,b)\n",
    "                        result[exc2det.index()]+=phase*phase2*SC_ss1exc(i,a,j,b)*vector[idet]\n",
    "                #alpha-beta excitation\n",
    "                for j in det.occ_beta():\n",
    "                    for b in det.unocc_beta():\n",
    "                        phase2,exc2det=excdet.excite_beta(j,b)\n",
    "                        result[exc2det.index()]+=phase*phase2*SC_os1exc(i,a,j,b)*vector[idet]\n",
    "        #Single excitations beta\n",
    "        for i in det.occ_beta():\n",
    "            for a in det.unocc_beta():\n",
    "                phase,excdet=det.excite_beta(i,a)\n",
    "                result[excdet.index()]+=phase*SC_1exc(i,a,det.occ_beta(),det.occ_alpha())*vector[idet]\n",
    "                #beta-beta excitation\n",
    "                for j in det.occ_beta():\n",
    "                    if i>=j:\n",
    "                        continue\n",
    "                    for b in det.unocc_beta():\n",
    "                        if a>=b:\n",
    "                            continue\n",
    "                        phase2,exc2det=excdet.excite_beta(j,b)\n",
    "                        result[exc2det.index()]+=phase*phase2*SC_ss1exc(i,a,j,b)*vector[idet]\n",
    "    return result"
   ]
  },
  {
   "cell_type": "markdown",
   "id": "liquid-business",
   "metadata": {},
   "source": [
    "We can check that we get the same result as using the explicit Hamiltonian."
   ]
  },
  {
   "cell_type": "code",
   "execution_count": null,
   "id": "powerful-banking",
   "metadata": {},
   "outputs": [],
   "source": [
    "vec0=np.random.rand(expansion.nDet) #Create a random vector\n",
    "\n",
    "#Check that one gets the same result with this new function as doing explicitely H.C\n",
    "np.testing.assert_almost_equal(np.dot(Ham,vec0),sigma(vec0))"
   ]
  },
  {
   "cell_type": "markdown",
   "id": "adequate-custody",
   "metadata": {},
   "source": [
    "We have now all the tools needed to optimise our CI vector. We will first initialise the CI vector to the dominant Slater determinant (which we saw was conveniently the first one) and perform the Davidson steps until the norm of the residual gets sufficiently close to 0."
   ]
  },
  {
   "cell_type": "code",
   "execution_count": null,
   "id": "fantastic-tension",
   "metadata": {},
   "outputs": [],
   "source": [
    "vec0=np.zeros(expansion.nDet)\n",
    "vec0[0]=1 #Initialise to the HF reference\n",
    "\n",
    "#Compute Hdiag\n",
    "Hdiag=np.empty(expansion.nDet)\n",
    "for idet,det in enumerate(expansion.detlist()):\n",
    "    Hdiag[idet]=SC_diag(det.occ_alpha(),det.occ_beta())\n",
    "\n",
    "resnorm=1\n",
    "istep=0\n",
    "while resnorm>0.0001: #As long as the residual norm is large\n",
    "    istep+=1\n",
    "    \n",
    "    sigvec0=sigma(vec0) #Note that this technically does not need to be recomputed from scratch at each iteration\n",
    "    energy=np.dot(vec0,sigvec0)\n",
    "    print(\"Energy at step\",istep,\"=\",energy)\n",
    "    \n",
    "    #Compute residual and its norm\n",
    "    residual=sigvec0-energy*vec0\n",
    "    resnorm=np.linalg.norm(residual)\n",
    "    \n",
    "    #Compute Davidson update\n",
    "    preconditioner=1/(Hdiag-energy+0.0001) #0.0001 to prevent divergence\n",
    "    vec1=preconditioner*residual\n",
    "    \n",
    "    #Orthonormalize with vec0\n",
    "    vec1-=np.dot(vec1,vec0)*vec0\n",
    "    norm = np.linalg.norm(vec1)\n",
    "    vec1*= 1/norm\n",
    "    sigvec1=sigma(vec1)\n",
    "    \n",
    "    #Create small hamiltonian\n",
    "    smallHam=np.zeros((2,2))\n",
    "    smallHam[0,0]=energy\n",
    "    smallHam[0,1]=np.dot(vec0,sigvec1)\n",
    "    smallHam[1,0]=np.dot(vec1,sigvec0)\n",
    "    smallHam[1,1]=np.dot(vec1,sigvec1)\n",
    "    \n",
    "    #Form the updated CI vector using the eigenvector\n",
    "    w,v=np.linalg.eigh(smallHam)\n",
    "    vec0=v[0,0]*vec0+v[1,0]*vec1\n",
    "    norm = np.linalg.norm(vec0)\n",
    "    vec0*= 1/norm\n",
    "    "
   ]
  },
  {
   "cell_type": "markdown",
   "id": "religious-pattern",
   "metadata": {},
   "source": [
    "We can compare this to the CI optimisation of MultiPsi:"
   ]
  },
  {
   "cell_type": "code",
   "execution_count": null,
   "id": "derived-property",
   "metadata": {
    "tags": [
     "output_scroll"
    ]
   },
   "outputs": [],
   "source": [
    "CIdrv=mtp.CIDriver(molecule,basis,space)\n",
    "#By default, the guess is done by diagonalising a small segment of the full Hamiltonian\n",
    "#here set the dimension of this Hamiltonian to 1, which corresponds to simply starting from a single SD\n",
    "CIdrv.nguess=1\n",
    "CIdrv.compute(1)"
   ]
  },
  {
   "cell_type": "markdown",
   "id": "protected-briefs",
   "metadata": {},
   "source": [
    "The CI code is of course more efficient, being fully optimised, and also converges in slightly fewer iterations than our test code, despite a stricter convergence threshold, by keeping old vectors when forming the small Hamiltonian (up to 10 by default). Otherwise the result is essentially the same."
   ]
  },
  {
   "cell_type": "markdown",
   "id": "secret-catalyst",
   "metadata": {},
   "source": [
    "## Truncated CI\n",
    "### Restricting the excitations\n",
    "\n",
    "This full CI method is only useful conceptually or for very small molecules as a benchmark reference. The issue is  that the  number of determinants  grow very  fast (factorially) with the size of the system.  For example, a simple water molecule in a polarization double zeta basis, corresponding to 10 electrons and 24 orbitals, would require 903.316.260 determinants. While such calculation is possible, it is very expensive, and it should be obvious from this example that fullCI cannot be used on any real size system.\n",
    "\n",
    "From here, different directions can be taken to turn CI into a useful computational tool. The first one is to restrict excitations, and thus the number of determinants involved  in  the  calculation. After all, a single  SD  turned  out to be  a reasonable approximation in most cases. As a the Hamiltonian is a two-electron operator, a determinant only interacts directly with at most doubly excitated determinants, which suggests that those are those which would contribute the most to the energy. This can easily be tested on a small molecule like water. "
   ]
  },
  {
   "cell_type": "code",
   "execution_count": null,
   "id": "orange-wagner",
   "metadata": {
    "tags": [
     "hide_output"
    ]
   },
   "outputs": [],
   "source": [
    "import veloxchem as vlx\n",
    "import multipsi as mtp\n",
    "\n",
    "#One water calculation\n",
    "h2o_xyz = \"\"\"3\n",
    "water                                                                                                                          \n",
    "O    0.000000000000        0.000000000000        0.000000000000                         \n",
    "H    0.000000000000        0.740848095288        0.582094932012                         \n",
    "H    0.000000000000       -0.740848095288        0.582094932012\n",
    "\"\"\"\n",
    "\n",
    "molecule = vlx.Molecule.from_xyz_string(h2o_xyz)\n",
    "\n",
    "basis = vlx.MolecularBasis.read(molecule, \"6-31G\")\n",
    "\n",
    "scfdrv = vlx.ScfRestrictedDriver()\n",
    "scfdrv.compute(molecule, basis)\n",
    "\n",
    "E_hf=scfdrv.get_scf_energy()\n",
    "Energies=[]\n",
    "\n",
    "space=mtp.MolSpace(molecule,scfdrv.mol_orbs)\n",
    "\n",
    "for excitations in range(1,5):\n",
    "    space.CI(excitations)    #Compute CIS, CISD, CISDT and CISDTQ\n",
    "    CIdrv=mtp.CIDriver(molecule,basis,space)\n",
    "    CIdrv.compute(1)\n",
    "    Energies.append(CIdrv.getEnergies()[0])\n",
    "\n",
    "space.FCI()   #Compute fullCI\n",
    "CIdrv=mtp.CIDriver(molecule,basis,space)\n",
    "CIdrv.compute(1)\n",
    "E_FCI=CIdrv.getEnergies()[0]"
   ]
  },
  {
   "cell_type": "code",
   "execution_count": null,
   "id": "supposed-retrieval",
   "metadata": {},
   "outputs": [],
   "source": [
    "Energies=np.array(Energies) #Create a numpy array from the energies\n",
    "print(\"Percentage of electron correlation recovered: \",(Energies-E_hf)/(E_FCI-E_hf)*100)"
   ]
  },
  {
   "cell_type": "markdown",
   "id": "pending-script",
   "metadata": {},
   "source": [
    "As we can see above, CIS does not recover any correlation (the optimized HF determinant does not interact with single excitations), and in general the odd excitation orders do not add much to the correlation energy. However, already with CISD, we recover more than 95% of the correlation energy, and that number rises to nearly 99.9% with CISDTQ. This is remarkable as water has 10 electrons, and thus up to 10 excitations are included in the full CI. Looking at the determinant count, CISD has only 1.141 determinants, compared to the 828.828 of full CI.\n",
    "\n",
    "This clearly suggests using truncated schemes, and in particular CISD as a relatively efficient way to recover most of the correlation energy."
   ]
  },
  {
   "cell_type": "markdown",
   "id": "applicable-blanket",
   "metadata": {},
   "source": [
    "### Size-consistency\n",
    "\n",
    "The main issue with those truncated CI methods is that as the system grows larger, the importance of higher excitations increase, and thus truncated CI capture a smaller and smaller fraction of the correlation. \n",
    "\n",
    "This is very well illustrated when taking two identical molecules at large distance. One would normally expect the energy of this non-interacting dimer to be exactly twice that of the monomer. Let's verify it on our water molecule:"
   ]
  },
  {
   "cell_type": "code",
   "execution_count": null,
   "id": "nominated-prize",
   "metadata": {
    "tags": [
     "hide_output"
    ]
   },
   "outputs": [],
   "source": [
    "del CIdrv #Unsure why I need to do this to not mess everything up\n",
    "\n",
    "#Two water molecules, 100Å apart, CISD.\n",
    "h2o_xyz = \"\"\"6\n",
    "water                                                                                                                          \n",
    "O    0.000000000000        0.000000000000        0.000000000000                         \n",
    "H    0.000000000000        0.740848095288        0.582094932012                         \n",
    "H    0.000000000000       -0.740848095288        0.582094932012\n",
    "O  100.000000000000        0.000000000000        0.000000000000                         \n",
    "H  100.000000000000        0.740848095288        0.582094932012                         \n",
    "H  100.000000000000       -0.740848095288        0.582094932012\n",
    "\"\"\"\n",
    "\n",
    "molecule = vlx.Molecule.from_xyz_string(h2o_xyz)\n",
    "\n",
    "basis = vlx.MolecularBasis.read(molecule, \"6-31G\")\n",
    "\n",
    "scfdrv = vlx.ScfRestrictedDriver()\n",
    "scfdrv.compute(molecule, basis)\n",
    "\n",
    "space=mtp.MolSpace(molecule,scfdrv.mol_orbs)\n",
    "space.CISD()\n",
    "\n",
    "CIdrv=mtp.CIDriver(molecule,basis,space)\n",
    "CIdrv.compute(1)\n",
    "\n",
    "E_2h20=CIdrv.getEnergies()[0]"
   ]
  },
  {
   "cell_type": "code",
   "execution_count": null,
   "id": "charming-louisville",
   "metadata": {},
   "outputs": [],
   "source": [
    "print(\"CI Energy of 2 water molecules\",E_2h20)\n",
    "print(\"Twice the energy of 1 water molecule\",2*E_FCI)"
   ]
  },
  {
   "cell_type": "markdown",
   "id": "controlling-creativity",
   "metadata": {},
   "source": [
    "The calculation for the dimer found the energy to be higher than twice the monomer, and not equal as one would expect. This systematic failure of truncated CI is called size consistency error. In general, the truncated CI energy of two molecules far apart from each other is not the same as the sum of the truncated CI energy of each molecule.\n",
    "\n",
    "To understand this, let's assume a molecule $A$ whose CI expansion consists only of 2 SD, the HF reference and a SD generated by exciting 2 electrons from orbitals $i, j$ to $a, b$:\n",
    "\n",
    "\\begin{equation}\n",
    "| \\Psi_A \\rangle = c_{0} | ... ij ...\\rangle + c_{ijab} | ... ab ...\\rangle\n",
    "\\end{equation}\n",
    "\n",
    "Now let's assume a second molecule $B$ with also 2 SD, the second one being generated from a $klcd$ excitation from the reference:\n",
    "\n",
    "\\begin{equation}\n",
    "| \\Psi_B \\rangle = c'_{0} | ... kl ...\\rangle + c'_{klcd} | ... cd ...\\rangle\n",
    "\\end{equation}\n",
    "\n",
    "In a correct calculation, since the two systems are far apart, they should be independent, and thus, their combined wavefunction can be expressed as a product of their individual ones:\n",
    "\n",
    "\\begin{eqnarray}\n",
    "| \\Psi_{AB} \\rangle &= | \\Psi_A \\Psi B \\rangle \\\\\n",
    "                    &= (c_{0} | ... ij ...\\rangle + c_{ijab} | ... ab ...\\rangle)(c'_{0} | ... kl ...\\rangle + c'_{klcd} | ... cd ...\\rangle) \\\\\n",
    "                    &= c_0 c'_0 | ... ij...kl ...\\rangle + c_{0}c'_{klcd} | ... ij...cd ...\\rangle + c_{ijab}c'_{0} | ... ab...kl ...\\rangle + c_{ijab}c'_{klcd} | ... ab...cd ...\\rangle   \\\\\n",
    "\\end{eqnarray}\n",
    "\n",
    "The last term corresponds to a quadruple excitation from the first one (the HF reference). Since these quadruple excitations are excluded from CISD, it is clear the method cannot describe the combined system as well as it can describe the individual subsystems.\n",
    "\n",
    "While some approximate corrections exist, truncated CI have for the most part disappeared from the quantum chemistry landscape as more efficient and/or more accurate methods supplanted them."
   ]
  },
  {
   "cell_type": "code",
   "execution_count": null,
   "id": "perceived-projector",
   "metadata": {},
   "outputs": [],
   "source": []
  }
 ],
 "metadata": {
  "kernelspec": {
   "display_name": "Python 3 (ipykernel)",
   "language": "python",
   "name": "python3"
  },
  "language_info": {
   "codemirror_mode": {
    "name": "ipython",
    "version": 3
   },
   "file_extension": ".py",
   "mimetype": "text/x-python",
   "name": "python",
   "nbconvert_exporter": "python",
   "pygments_lexer": "ipython3",
   "version": "3.7.12"
  }
 },
 "nbformat": 4,
 "nbformat_minor": 5
}
