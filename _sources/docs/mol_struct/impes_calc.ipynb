{
 "cells": [
  {
   "cell_type": "markdown",
   "id": "ce7ac16f-1fc0-4a88-936c-50e36aedeaa1",
   "metadata": {
    "editable": true,
    "slideshow": {
     "slide_type": ""
    },
    "tags": []
   },
   "source": [
    "# Constructing the PES by interpolation\n",
    "\n",
    "The idea behind PES interpolation techniques is to construct the global PES of the molecular ground or excited-state from a set of data points (configurations) calculated quantum-mechanically (QM). For small molecules with few degrees of freedom, depending on the level of theory, the interpolated PES can have similar computational cost as constructing the PES *ab initio*. On the other hand, the use of an interpolated PES becomes very advantageous, especially when the molecule of interest is embedded in a larger environment (e.g. fluorescent probe in a protein), where this technique allows performing dynamics on the ground or excited state with quantum chemical accuracy, but at molecular mechanics computational cost {cite}`rhee2016interpolation`.\n",
    "\n",
    "The idea behind PES interpolation is to write the potential energy at a new configuration $\\mathbf{q}$ as a weighted average between potentials defined from a set of *ab initio* data points $\\{\\mathbf{q}_a\\}$:\n",
    "\n",
    "$$\n",
    "V(\\mathbf{q}) = \\sum_a w_a V_a(\\mathbf{q})\\,,\n",
    "$$\n",
    "\n",
    "where the weights $w_a$ depend on the distance ($\\boldsymbol{\\Delta}_a$) beween the new configuration $\\mathbf{q}$ and a data configuration $\\mathbf{q}_a$. The potentials $V_a$ are local harmonic potentials written in terms of Taylor expansions based on the energy ($E_a$), gradient ($\\mathbf{g}_a$) and Hessian ($\\mathbf{H}_a$):\n",
    "\n",
    "$$\n",
    "V_a(\\mathbf{q}) = E_a + \\boldsymbol{\\Delta}^\\mathrm{T}_a \\mathbf{g}_a + \\frac{1}{2} \\boldsymbol{\\Delta}^\\mathrm{T}_a \\mathbf{H}_a\\boldsymbol{\\Delta}_a\\, .\n",
    "$$\n",
    "\n",
    "The vector $\\mathbf{q}$ designating the position is in the internal coordinate system. The weights are provided by considering the distance between $\\mathbf{q}$ and $\\mathbf{q}_a$, such that the weight $w_a$ is larger for a data point $\\mathbf{q}_a$ that is closer to $\\mathbf{q}$. The weights $w_a$ are normalized weights: \n",
    "\n",
    "$$\n",
    "w_a = \\frac{v_a}{\\sum_i v_i}\\,\n",
    "$$\n",
    "\n",
    "where the un-normalized weights $v_a$ can be calculated in different ways, for example a simple weighting scheme is:\n",
    "\n",
    "$$\n",
    "v_a = \\frac{1}{|\\mathbf{q}-\\mathbf{q_a}|^{2p}}.\n",
    "$$\n",
    "\n",
    "The exponent $2p$ determines how fast the algorithm switches between data points {cite}`kim2016impesLargeMol`. \n",
    "\n",
    "Another approach to determine the un-normalized weights is the Shepard weighting scheme {cite}`kim2016impesLargeMol`:\n",
    "\n",
    "$$\n",
    "v_a = \\left[ \\left(\\frac{|\\mathbf{q}-\\mathbf{q_a}|}{r_a}\\right)^{2p} + \\left(\\frac{|\\mathbf{q}-\\mathbf{q_a}|}{r_a}\\right)^{2q} \\right]^{-1},\n",
    "$$\n",
    "\n",
    "where $r_a$ is the confidence radius for $\\mathbf{q_a}$. \n",
    "\n",
    "For a good overview of potential energy surfaces by interpolation, see {cite}`rhee2016interpolation`.\n",
    "\n",
    "In this tutorial we will get familiar with constructing the ground state potential energy surface (PES) of a molecule by interpolation. "
   ]
  },
  {
   "cell_type": "markdown",
   "id": "22404078-2b75-44b9-afe6-0ad135efeaba",
   "metadata": {
    "editable": true,
    "slideshow": {
     "slide_type": ""
    },
    "tags": []
   },
   "source": [
    "## The ground state potential energy surface of water \n",
    "\n",
    "Let's construct the ground state PES for the water molecule by interpolation. We need to carry out the following steps:\n",
    "- Transform the coordinates, gradients and Hessians from Cartesian coordinates to internal coordinates,\n",
    "- Calculate the ground state energy, gradient, and Hessian for a several molecular configurations which will serve as data points for interpolation,\n",
    "- Determine the harmonic potentials and weights,\n",
    "- Perform the interpolation and determine the potential energy at new configurations $\\mathbf{q}$."
   ]
  },
  {
   "cell_type": "markdown",
   "id": "910ea9a6-20ea-4029-82ec-6dca7272818f",
   "metadata": {
    "editable": true,
    "slideshow": {
     "slide_type": ""
    },
    "tags": []
   },
   "source": [
    "### Transforming from Cartesian to internal coordinates\n",
    "\n",
    "We will implement a set of routines to transform the gradient and Hessian to internal coordinates, making use of routines from [geomeTRIC](https://github.com/leeping/geomeTRIC). Let's start by setting up the molecule and calculating the energy, gradient and Hessian. "
   ]
  },
  {
   "cell_type": "code",
   "execution_count": 1,
   "id": "d0b0cace-44a6-4ebb-9e03-eaf3ab88dffa",
   "metadata": {
    "editable": true,
    "slideshow": {
     "slide_type": ""
    },
    "tags": [
     "remove-output"
    ]
   },
   "outputs": [],
   "source": [
    "import geometric\n",
    "import numpy as np\n",
    "import veloxchem as vlx\n",
    "from matplotlib import pyplot as plt"
   ]
  },
  {
   "cell_type": "code",
   "execution_count": 2,
   "id": "16c91e2b-8d49-4a74-8366-f1a914d5721e",
   "metadata": {
    "editable": true,
    "slideshow": {
     "slide_type": ""
    },
    "tags": []
   },
   "outputs": [],
   "source": [
    "molecule_string = \"\"\"3\n",
    "water                                                                                                                          \n",
    "O    0.000000000000        0.000000000000        0.000000000000                         \n",
    "H    0.000000000000        0.895700000000       -0.316700000000                         \n",
    "H    0.000000000000        0.000000000000        1.100000000000\n",
    "\"\"\"\n",
    "molecule = vlx.Molecule.read_xyz_string(molecule_string)\n",
    "basis = vlx.MolecularBasis.read(molecule, \"sto-3g\", ostream=None)"
   ]
  },
  {
   "cell_type": "code",
   "execution_count": 3,
   "id": "0eda6c6a-a025-43a2-ab7d-aa4e9ee927ce",
   "metadata": {
    "editable": true,
    "slideshow": {
     "slide_type": ""
    },
    "tags": [
     "hide-input"
    ]
   },
   "outputs": [
    {
     "data": {
      "application/3dmoljs_load.v0": "<div id=\"3dmolviewer_17222605207713697\"  style=\"position: relative; width: 400px; height: 300px;\">\n        <p id=\"3dmolwarning_17222605207713697\" style=\"background-color:#ffcccc;color:black\">3Dmol.js failed to load for some reason.  Please check your browser console for error messages.<br></p>\n        </div>\n<script>\n\nvar loadScriptAsync = function(uri){\n  return new Promise((resolve, reject) => {\n    //this is to ignore the existence of requirejs amd\n    var savedexports, savedmodule;\n    if (typeof exports !== 'undefined') savedexports = exports;\n    else exports = {}\n    if (typeof module !== 'undefined') savedmodule = module;\n    else module = {}\n\n    var tag = document.createElement('script');\n    tag.src = uri;\n    tag.async = true;\n    tag.onload = () => {\n        exports = savedexports;\n        module = savedmodule;\n        resolve();\n    };\n  var firstScriptTag = document.getElementsByTagName('script')[0];\n  firstScriptTag.parentNode.insertBefore(tag, firstScriptTag);\n});\n};\n\nif(typeof $3Dmolpromise === 'undefined') {\n$3Dmolpromise = null;\n  $3Dmolpromise = loadScriptAsync('https://cdnjs.cloudflare.com/ajax/libs/3Dmol/2.2.1-post1/3Dmol-min.js');\n}\n\nvar viewer_17222605207713697 = null;\nvar warn = document.getElementById(\"3dmolwarning_17222605207713697\");\nif(warn) {\n    warn.parentNode.removeChild(warn);\n}\n$3Dmolpromise.then(function() {\nviewer_17222605207713697 = $3Dmol.createViewer(document.getElementById(\"3dmolviewer_17222605207713697\"),{backgroundColor:\"white\"});\nviewer_17222605207713697.zoomTo();\n\tviewer_17222605207713697.addModel(\"3\\n\\nO              0.000000000000         0.000000000000         0.000000000000\\nH              0.000000000000         0.895700000000        -0.316700000000\\nH              0.000000000000         0.000000000000         1.100000000000\\n\");\n\tviewer_17222605207713697.setViewStyle({\"style\": \"outline\", \"width\": 0.05});\n\tviewer_17222605207713697.setStyle({\"stick\": {}, \"sphere\": {\"scale\": 0.25}});\n\tviewer_17222605207713697.zoomTo();\nviewer_17222605207713697.render();\n});\n</script>",
      "text/html": [
       "<div id=\"3dmolviewer_17222605207713697\"  style=\"position: relative; width: 400px; height: 300px;\">\n",
       "        <p id=\"3dmolwarning_17222605207713697\" style=\"background-color:#ffcccc;color:black\">3Dmol.js failed to load for some reason.  Please check your browser console for error messages.<br></p>\n",
       "        </div>\n",
       "<script>\n",
       "\n",
       "var loadScriptAsync = function(uri){\n",
       "  return new Promise((resolve, reject) => {\n",
       "    //this is to ignore the existence of requirejs amd\n",
       "    var savedexports, savedmodule;\n",
       "    if (typeof exports !== 'undefined') savedexports = exports;\n",
       "    else exports = {}\n",
       "    if (typeof module !== 'undefined') savedmodule = module;\n",
       "    else module = {}\n",
       "\n",
       "    var tag = document.createElement('script');\n",
       "    tag.src = uri;\n",
       "    tag.async = true;\n",
       "    tag.onload = () => {\n",
       "        exports = savedexports;\n",
       "        module = savedmodule;\n",
       "        resolve();\n",
       "    };\n",
       "  var firstScriptTag = document.getElementsByTagName('script')[0];\n",
       "  firstScriptTag.parentNode.insertBefore(tag, firstScriptTag);\n",
       "});\n",
       "};\n",
       "\n",
       "if(typeof $3Dmolpromise === 'undefined') {\n",
       "$3Dmolpromise = null;\n",
       "  $3Dmolpromise = loadScriptAsync('https://cdnjs.cloudflare.com/ajax/libs/3Dmol/2.2.1-post1/3Dmol-min.js');\n",
       "}\n",
       "\n",
       "var viewer_17222605207713697 = null;\n",
       "var warn = document.getElementById(\"3dmolwarning_17222605207713697\");\n",
       "if(warn) {\n",
       "    warn.parentNode.removeChild(warn);\n",
       "}\n",
       "$3Dmolpromise.then(function() {\n",
       "viewer_17222605207713697 = $3Dmol.createViewer(document.getElementById(\"3dmolviewer_17222605207713697\"),{backgroundColor:\"white\"});\n",
       "viewer_17222605207713697.zoomTo();\n",
       "\tviewer_17222605207713697.addModel(\"3\\n\\nO              0.000000000000         0.000000000000         0.000000000000\\nH              0.000000000000         0.895700000000        -0.316700000000\\nH              0.000000000000         0.000000000000         1.100000000000\\n\");\n",
       "\tviewer_17222605207713697.setViewStyle({\"style\": \"outline\", \"width\": 0.05});\n",
       "\tviewer_17222605207713697.setStyle({\"stick\": {}, \"sphere\": {\"scale\": 0.25}});\n",
       "\tviewer_17222605207713697.zoomTo();\n",
       "viewer_17222605207713697.render();\n",
       "});\n",
       "</script>"
      ]
     },
     "metadata": {},
     "output_type": "display_data"
    }
   ],
   "source": [
    "molecule.show()"
   ]
  },
  {
   "cell_type": "markdown",
   "id": "15e71bb3",
   "metadata": {
    "editable": true,
    "slideshow": {
     "slide_type": ""
    },
    "tags": []
   },
   "source": [
    "Calculating the energy, gradient, and hessian."
   ]
  },
  {
   "cell_type": "code",
   "execution_count": 4,
   "id": "35502ce7-1b7e-43e2-9914-a0442a35e5f1",
   "metadata": {
    "editable": true,
    "scrolled": true,
    "slideshow": {
     "slide_type": ""
    },
    "tags": [
     "hide-output"
    ]
   },
   "outputs": [],
   "source": [
    "# Energy\n",
    "scf_drv = vlx.ScfRestrictedDriver()\n",
    "scf_drv.ostream.mute()\n",
    "\n",
    "scf_results = scf_drv.compute(molecule, basis)\n",
    "energy = scf_drv.get_scf_energy()"
   ]
  },
  {
   "cell_type": "code",
   "execution_count": 5,
   "id": "9eeb4666-2f98-4f96-87c5-3ea87ffa707e",
   "metadata": {
    "editable": true,
    "scrolled": true,
    "slideshow": {
     "slide_type": ""
    },
    "tags": [
     "hide-output"
    ]
   },
   "outputs": [],
   "source": [
    "# Gradient\n",
    "grad_drv = vlx.ScfGradientDriver(scf_drv)\n",
    "grad_drv.ostream.mute()\n",
    "\n",
    "grad_results = grad_drv.compute(molecule, basis, scf_results)\n",
    "gradient = grad_drv.gradient"
   ]
  },
  {
   "cell_type": "code",
   "execution_count": 6,
   "id": "64ce9dec-fefe-4baf-9ebf-4b26d5e6325e",
   "metadata": {
    "editable": true,
    "scrolled": true,
    "slideshow": {
     "slide_type": ""
    },
    "tags": [
     "hide-output"
    ]
   },
   "outputs": [],
   "source": [
    "# Hessian\n",
    "hess_drv = vlx.ScfHessianDriver(scf_drv)\n",
    "hess_drv.ostream.mute()\n",
    "\n",
    "hess_results = hess_drv.compute(molecule, basis)\n",
    "hessian = hess_drv.hessian"
   ]
  },
  {
   "cell_type": "markdown",
   "id": "6f6626e1-3aaa-42c3-ba49-1ef1eeda8b5c",
   "metadata": {
    "editable": true,
    "slideshow": {
     "slide_type": ""
    },
    "tags": []
   },
   "source": [
    "Now that we have an energy, gradient and Hessian, let's define the Z-matrix for the water molecule and write the routines required to transform from Cartesian coordinates to the internal coordinates defined by the Z-matrix. We will use geomeTRIC to set up the internal coordinates."
   ]
  },
  {
   "cell_type": "code",
   "execution_count": 7,
   "id": "7a41d843-f96b-4fb5-97e3-9b3c0d4180c5",
   "metadata": {
    "editable": true,
    "slideshow": {
     "slide_type": ""
    },
    "tags": []
   },
   "outputs": [],
   "source": [
    "#            O-H1    O-H2   H1-O-H2\n",
    "z_matrix = [[0, 1], [0, 2], [1, 0, 2]]\n",
    "\n",
    "internal_coordinates = []\n",
    "\n",
    "for z in z_matrix:\n",
    "    if len(z) == 2:\n",
    "        # define a bond distance object\n",
    "        q = geometric.internal.Distance(z[0], z[1])\n",
    "\n",
    "    elif len(z) == 3:\n",
    "        # define a bond angle object\n",
    "        q = geometric.internal.Angle(z[0], z[1], z[2])\n",
    "\n",
    "    else:\n",
    "        # define a dihedral angle object\n",
    "        q = geometric.internal.Dihedral(z[0], z[1], z[2], z[3])\n",
    "\n",
    "    internal_coordinates.append(q)"
   ]
  },
  {
   "cell_type": "markdown",
   "id": "eed74fdb-d239-4ce8-b614-ff7bbf8bec1a",
   "metadata": {
    "editable": true,
    "slideshow": {
     "slide_type": ""
    },
    "tags": []
   },
   "source": [
    "The internal coordinates defined through geomeTRIC have routines that allow us to calculate derivatives with respect to Cartesian coordinates ($\\mathbf{x}$), as required for constructing the Wilson $\\mathbf{B}$-matrix:\n",
    "\n",
    "$$\n",
    "B_{ij} = \\frac{\\partial q_i}{\\partial x_j}\\,.\n",
    "$$\n",
    "\n",
    "Let us use these routines to get the $\\mathbf{B}$-matrix."
   ]
  },
  {
   "cell_type": "code",
   "execution_count": 8,
   "id": "b7734900-1302-4e75-820d-bdfce181b05c",
   "metadata": {
    "editable": true,
    "slideshow": {
     "slide_type": ""
    },
    "tags": []
   },
   "outputs": [],
   "source": [
    "def get_b_matrix(molecule, internal_coordinates, z_matrix):\n",
    "    n_atoms = molecule.number_of_atoms()\n",
    "\n",
    "    # number of Cartesian coordinates\n",
    "    n_cart = 3 * n_atoms\n",
    "\n",
    "    # number of internal coordinates\n",
    "    n_int = len(internal_coordinates)\n",
    "\n",
    "    # initialize the B-matrix\n",
    "    b_matrix = np.zeros((n_int, n_cart))\n",
    "\n",
    "    # Cartesian coordinates\n",
    "    coords = molecule.get_coordinates_in_bohr().reshape(3 * n_atoms)\n",
    "\n",
    "    # calculate the derivatives of q with respect to coords\n",
    "    i = 0  # i runs over all the internal coordinates\n",
    "    for q in internal_coordinates:\n",
    "        deriv_q = q.derivative(coords)\n",
    "        # add the derivative values in the right spots of the b_matrix;\n",
    "        # we need the atom indices from the Z-matrix.\n",
    "        for a in z_matrix[i]:\n",
    "            # from 3 * atom_index to 3 * atom_index + 3\n",
    "            b_matrix[i, 3 * a : 3 * a + 3] = deriv_q[a]\n",
    "        i += 1\n",
    "    return b_matrix\n",
    "\n",
    "\n",
    "b_mat = get_b_matrix(molecule, internal_coordinates, z_matrix)"
   ]
  },
  {
   "cell_type": "markdown",
   "id": "5fd2dd81-1028-4499-865f-17a948faa536",
   "metadata": {
    "editable": true,
    "slideshow": {
     "slide_type": ""
    },
    "tags": []
   },
   "source": [
    "In order to transform from Cartesian gradient to internal gradient, we need the inverse of $\\mathbf{B}$:\n",
    "\n",
    "$$\n",
    "\\frac{\\partial V}{\\partial q_i} = \\sum_j \\frac{\\partial V}{\\partial x_j} \\frac{\\partial x_j}{\\partial q_i} = \\sum_j \\frac{\\partial V}{\\partial x_j} B_{ji}^{-}, \n",
    "$$\n",
    "\n",
    "with $\\mathbf{BB}^{-}=\\mathbf{I}$. Because $\\mathbf{B}$ is a rectangular matrix, we need to obtain its inverse carefully. From\n",
    "\n",
    "$$\n",
    "\\mathbf{B}\\mathbf{B}^\\mathrm{T} \\left( \\mathbf{B}\\mathbf{B}^\\mathrm{T} \\right)^{-} = \\mathbf{I}, \n",
    "$$\n",
    "\n",
    "we can easily see that $\\mathbf{B}^{-} = \\mathbf{B}^\\mathrm{T} \\left( \\mathbf{B}\\mathbf{B}^\\mathrm{T} \\right)^{-}$ holds, so to get the inverse we have to first construct a square matrix $\\mathbf{G}=\\mathbf{B}\\mathbf{B}^\\mathrm{T}$."
   ]
  },
  {
   "cell_type": "code",
   "execution_count": 9,
   "id": "6424ea29-ebdd-4fb4-9a6b-d8da1bda80d4",
   "metadata": {
    "editable": true,
    "slideshow": {
     "slide_type": ""
    },
    "tags": []
   },
   "outputs": [],
   "source": [
    "g_mat = np.matmul(b_mat, b_mat.T)"
   ]
  },
  {
   "cell_type": "markdown",
   "id": "aa2109d5-4edc-4a3c-a32e-394be7ebf148",
   "metadata": {
    "editable": true,
    "slideshow": {
     "slide_type": ""
    },
    "tags": []
   },
   "source": [
    "$\\mathbf{G}$ is diagnoalized to get its eigenvalues and eigenvectors. The inverse of the non-zero eigenvalues and corresponding eigenvectors will be then used to construct the $\\mathbf{G}^{-}$ matrix."
   ]
  },
  {
   "cell_type": "code",
   "execution_count": 10,
   "id": "13556b72-2c95-4567-981a-97aeb0354afc",
   "metadata": {
    "editable": true,
    "slideshow": {
     "slide_type": ""
    },
    "tags": []
   },
   "outputs": [],
   "source": [
    "g_val, g_vec = np.linalg.eig(g_mat)\n",
    "g_val_inverse = []\n",
    "for g in g_val:\n",
    "    if abs(g) > 1e-7:\n",
    "        g_val_inverse.append(1.0 / g)\n",
    "    else:\n",
    "        g_val_inverse.append(0.0)\n",
    "g_val_inverse_mat = np.diag(np.array(g_val_inverse))\n",
    "g_minus = np.linalg.multi_dot([g_vec, g_val_inverse_mat, g_vec.T])"
   ]
  },
  {
   "cell_type": "markdown",
   "id": "343163c1-fbb2-49e8-8143-4998d20c4889",
   "metadata": {
    "editable": true,
    "slideshow": {
     "slide_type": ""
    },
    "tags": []
   },
   "source": [
    "Let's make this piece of code a general routine that we can use for an arbitrary $\\mathbf{B}$ matrix."
   ]
  },
  {
   "cell_type": "code",
   "execution_count": 11,
   "id": "6c8ab881-7252-4383-b877-4e7d3528840d",
   "metadata": {
    "editable": true,
    "slideshow": {
     "slide_type": ""
    },
    "tags": []
   },
   "outputs": [],
   "source": [
    "def get_g_minus(b_matrix):\n",
    "    g_mat = np.matmul(b_matrix, b_matrix.T)\n",
    "    g_val, g_vec = np.linalg.eig(g_mat)\n",
    "    g_val_inverse = []\n",
    "    for g in g_val:\n",
    "        if abs(g) > 1e-7:\n",
    "            g_val_inverse.append(1.0 / g)\n",
    "        else:\n",
    "            g_val_inverse.append(0.0)\n",
    "\n",
    "    g_val_inverse_mat = np.diag(np.array(g_val_inverse))\n",
    "    g_minus = np.linalg.multi_dot([g_vec, g_val_inverse_mat, g_vec.T])\n",
    "\n",
    "    return g_minus\n",
    "\n",
    "\n",
    "g = get_g_minus(b_mat)"
   ]
  },
  {
   "cell_type": "markdown",
   "id": "b9d7ecaf-a133-459b-b7b3-66e6acdb8c6a",
   "metadata": {
    "editable": true,
    "slideshow": {
     "slide_type": ""
    },
    "tags": []
   },
   "source": [
    "Now we have all the ingredients to transform the gradient, but we need the second order derivatives of $\\mathbf{q}$ with respect to $\\mathbf{x}$ to be able to also transform the Hessian. Let's write a routine to calculate the second-order B-matrix, $\\mathbf{B}^{(2)}$."
   ]
  },
  {
   "cell_type": "code",
   "execution_count": 12,
   "id": "676956fb-5f11-4d57-8fa9-8d9eeb2d3aad",
   "metadata": {
    "editable": true,
    "slideshow": {
     "slide_type": ""
    },
    "tags": []
   },
   "outputs": [],
   "source": [
    "def get_b2_matrix(molecule, internal_coordinates, z_matrix):\n",
    "    n_atoms = molecule.number_of_atoms()\n",
    "\n",
    "    # number of Cartesian coordinates\n",
    "    n_cart = 3 * n_atoms\n",
    "\n",
    "    # number of internal coordinates\n",
    "    n_int = len(internal_coordinates)\n",
    "\n",
    "    # initialize the B-matrix\n",
    "    b2_matrix = np.zeros((n_int, n_cart, n_cart))\n",
    "\n",
    "    # Cartesian coordinates\n",
    "    coords = molecule.get_coordinates_in_bohr().reshape(3 * n_atoms)\n",
    "\n",
    "    # calculate the derivatives of q with respect to coords\n",
    "    i = 0  # i runs over all the internal coordinates\n",
    "    for q in internal_coordinates:\n",
    "        second_deriv_q = q.second_derivative(coords)\n",
    "        # add the derivative values in the right spots of the b_matrix;\n",
    "        # we need the atom indices from the Z-matrix.\n",
    "        for a in z_matrix[i]:\n",
    "            for b in z_matrix[i]:\n",
    "                # from 3 * atom_index_a to 3 * atom_index_a + 3\n",
    "                # and from 3 * atom_index_b to 3 * atom_index_b + 3\n",
    "                b2_matrix[i, 3 * a : 3 * a + 3,\n",
    "                             3 * b : 3 * b + 3] = (\n",
    "                                 second_deriv_q[a, :, b, :]\n",
    "                             )\n",
    "        i += 1\n",
    "    return b2_matrix\n",
    "\n",
    "\n",
    "b2_matrix = get_b2_matrix(molecule, internal_coordinates, z_matrix)"
   ]
  },
  {
   "cell_type": "markdown",
   "id": "032e6acb-427b-4dff-8b59-16d53d43b6b3",
   "metadata": {
    "editable": true,
    "slideshow": {
     "slide_type": ""
    },
    "tags": []
   },
   "source": [
    "Let's write the routines which transform the gradient and the Hessian from Cartesian coordinates to internal coordinates. We have to implement the following equations:\n",
    "\n",
    "$$\n",
    "\\mathbf{g}_q = \\mathbf{G}^{-}\\mathbf{B}\\mathbf{g}_x \n",
    "$$\n",
    "\n",
    "$$\n",
    "\\mathbf{H}_q = \\mathbf{G}^{-}\\mathbf{B}\\big[ \\mathbf{H}_x - \\mathbf{g}_q\\mathbf{B}^{(2)}\\big]\\mathbf{B}^\\mathrm{T}\\mathbf{G}^{-\\mathrm{T}} \n",
    "$$\n",
    "\n",
    "```python\n",
    "def convert_gradient_to_internal(gradient, b_matrix, g_minus):\n",
    "\n",
    "    # Implement the equation to convert the gradient from Cartesian\n",
    "    # to internal coordinates.\n",
    "    \n",
    "    return gradient_q\n",
    "\n",
    "```"
   ]
  },
  {
   "cell_type": "code",
   "execution_count": 13,
   "id": "90d567fb-901a-418d-b0eb-b3ee687699e3",
   "metadata": {
    "editable": true,
    "slideshow": {
     "slide_type": ""
    },
    "tags": []
   },
   "outputs": [],
   "source": [
    "def convert_gradient_to_internal(gradient, b_matrix, g_minus):\n",
    "    n_atoms = gradient.shape[0]\n",
    "\n",
    "    # reshape the Cartesian gradient to match the dimensions of the\n",
    "    # g_minus and b_matrix\n",
    "    grad_x = gradient.reshape((3 * n_atoms))\n",
    "\n",
    "    # convert to internal coordinates\n",
    "    grad_q = np.linalg.multi_dot([g_minus, b_matrix, grad_x])\n",
    "    return grad_q\n",
    "\n",
    "\n",
    "grad_q = convert_gradient_to_internal(gradient, b_mat, g_minus)\n",
    "\n",
    "# To check if the gradient in internal coordinates is correct, you can calculate selected elements numerically."
   ]
  },
  {
   "cell_type": "markdown",
   "id": "36d15f50-643c-4d12-8e6a-5259adaacd6b",
   "metadata": {
    "editable": true,
    "slideshow": {
     "slide_type": ""
    },
    "tags": []
   },
   "source": [
    "Now, let's write a routine to convert the Hessian."
   ]
  },
  {
   "cell_type": "code",
   "execution_count": 14,
   "id": "51f944c3-0995-4dac-8c8e-fa190b26a883",
   "metadata": {
    "editable": true,
    "slideshow": {
     "slide_type": ""
    },
    "tags": []
   },
   "outputs": [],
   "source": [
    "def convert_Hessian_to_internal(hessian, b_matrix, g_minus, b2_matrix, grad_q):\n",
    "    # calculate term related to the second order B-matrix\n",
    "    gradq_b2mat = np.einsum(\"i,ixy->xy\", grad_q, b2_matrix)\n",
    "\n",
    "    # convert the Hessian from Cartesian to internal coordinates\n",
    "    hessian_q = np.linalg.multi_dot(\n",
    "        [g_minus, b_matrix, hessian - gradq_b2mat, b_matrix.T, g_minus.T]\n",
    "    )\n",
    "    return hessian_q\n",
    "\n",
    "\n",
    "hessian_q = convert_Hessian_to_internal(hessian, b_mat, g_minus, b2_matrix, grad_q)\n",
    "\n",
    "# To check if the conversion of the Hessian works correctly\n",
    "# you can calculate selected Hessian matrix elements numerically."
   ]
  },
  {
   "cell_type": "markdown",
   "id": "62c4becd-ce15-4cce-a921-0c95587e8cc2",
   "metadata": {
    "editable": true,
    "slideshow": {
     "slide_type": ""
    },
    "tags": []
   },
   "source": [
    "### Ground-state PES by interpolation\n",
    "\n",
    "Now that we have set up the routines for conversion between Cartesian and internal coordiantes, we can start collecting data points for interpolation. Let's start with stretching one of the OH bonds and calculate three new points: one when the bond is contracted, one around equilibrium bond length, and one when the bond is stretched."
   ]
  },
  {
   "cell_type": "code",
   "execution_count": 15,
   "id": "e10fa504-9556-4030-92fc-1f11228de1ff",
   "metadata": {
    "editable": true,
    "slideshow": {
     "slide_type": ""
    },
    "tags": []
   },
   "outputs": [],
   "source": [
    "mol_template = \"\"\"                                                                                                              \n",
    "O    0.000000000000        0.000000000000        0.000000000000                         \n",
    "H    0.000000000000        0.895700000000       -0.316700000000                         \n",
    "H    0.000000000000        0.000000000000        OHdist\n",
    "\"\"\"\n",
    "\n",
    "# list of bond distances\n",
    "distlist = [0.75, 0.95, 1.35]"
   ]
  },
  {
   "cell_type": "code",
   "execution_count": 16,
   "id": "096f5d6f-c0f7-4e39-a706-9e965ed0128b",
   "metadata": {
    "editable": true,
    "slideshow": {
     "slide_type": ""
    },
    "tags": [
     "hide-output"
    ]
   },
   "outputs": [
    {
     "name": "stdout",
     "output_type": "stream",
     "text": [
      "Calculating the energies, gradients and Hessians for OH =  0.75 A...\n",
      "Calculating the energies, gradients and Hessians for OH =  0.95 A...\n",
      "Calculating the energies, gradients and Hessians for OH =  1.35 A...\n"
     ]
    }
   ],
   "source": [
    "# empty list to save the energies, gradients and hessians\n",
    "energies = []\n",
    "cart_gradients = []\n",
    "cart_hessians = []\n",
    "\n",
    "# list for molecular configurations\n",
    "molecules = []\n",
    "\n",
    "for oh in distlist:\n",
    "    print(\"Calculating the energies, gradients and Hessians for OH = \", oh, \"A...\")\n",
    "\n",
    "    # Create new molecule\n",
    "    mol_str = mol_template.replace(\"OHdist\", str(oh))\n",
    "    new_molecule = vlx.Molecule.read_molecule_string(mol_str, units=\"angstrom\")\n",
    "\n",
    "    # set-up an scf driver\n",
    "    new_scf_drv = vlx.ScfRestrictedDriver()\n",
    "    new_scf_drv.ostream.mute()\n",
    "    new_scf_results = new_scf_drv.compute(new_molecule, basis)\n",
    "\n",
    "    # calculate the gradient\n",
    "    new_scf_grad_drv = vlx.ScfGradientDriver(new_scf_drv)\n",
    "    new_scf_grad_drv.ostream.state = False\n",
    "    new_scf_grad_drv.compute(new_molecule, basis)\n",
    "\n",
    "    # calculate the Hessian\n",
    "    new_scf_hessian_drv = vlx.ScfHessianDriver(new_scf_drv)\n",
    "    new_scf_hessian_drv.ostream.state = False\n",
    "    new_scf_hessian_drv.compute(new_molecule, basis)\n",
    "\n",
    "    # save the results:\n",
    "    energy = new_scf_drv.get_scf_energy()\n",
    "    cart_gradient = new_scf_grad_drv.gradient\n",
    "    cart_hessian = new_scf_hessian_drv.hessian\n",
    "\n",
    "    energies.append(energy)\n",
    "    cart_gradients.append(cart_gradient)\n",
    "    cart_hessians.append(cart_hessian)\n",
    "    molecules.append(new_molecule)"
   ]
  },
  {
   "cell_type": "markdown",
   "id": "e46faa5c-e1c5-4f76-b0a3-e6ff06db985d",
   "metadata": {
    "editable": true,
    "slideshow": {
     "slide_type": ""
    },
    "tags": []
   },
   "source": [
    "Now we have to transform the gradient and Hessian from Cartesian to internal coordinates in order to be able to use them for interpolation."
   ]
  },
  {
   "cell_type": "markdown",
   "id": "f30ae729-4090-4502-bcdf-17dfc48f6c46",
   "metadata": {
    "editable": true,
    "slideshow": {
     "slide_type": ""
    },
    "tags": []
   },
   "source": [
    "```python\n",
    "# number of data points:\n",
    "n_data_pts = len(energies)\n",
    "\n",
    "# empty lists for the internal gradients and Hessians:\n",
    "int_gradients = []\n",
    "int_hessians = []\n",
    "\n",
    "for i in range(n_data_pts):\n",
    "    # convert gradients\n",
    "    ...\n",
    "    # convert Hessians\n",
    "    ...\n",
    "```"
   ]
  },
  {
   "cell_type": "code",
   "execution_count": 17,
   "id": "a9ac3945-4eb6-4c23-b7ba-4a2a4f6bf4c4",
   "metadata": {
    "editable": true,
    "slideshow": {
     "slide_type": ""
    },
    "tags": [
     "hide-output",
     "hide-input"
    ]
   },
   "outputs": [],
   "source": [
    "# number of data points:\n",
    "n_data_pts = len(energies)\n",
    "\n",
    "# empty lists for the internal gradients and Hessians:\n",
    "int_gradients = []\n",
    "int_hessians = []\n",
    "\n",
    "for i in range(n_data_pts):\n",
    "    grad_x = cart_gradients[i]\n",
    "    hess_x = cart_hessians[i]\n",
    "    mol = molecules[i]\n",
    "    b_mat = get_b_matrix(mol, internal_coordinates, z_matrix)\n",
    "    g_minus = get_g_minus(b_mat)\n",
    "    b2_mat = get_b2_matrix(mol, internal_coordinates, z_matrix)\n",
    "\n",
    "    grad_q = convert_gradient_to_internal(grad_x, b_mat, g_minus)\n",
    "    hess_q = convert_Hessian_to_internal(hess_x, b_mat, g_minus, b2_mat, grad_q)\n",
    "    int_gradients.append(grad_q)\n",
    "    int_hessians.append(hess_q)"
   ]
  },
  {
   "cell_type": "markdown",
   "id": "6b70fa02-0b00-4920-8428-24b458ea625e",
   "metadata": {
    "editable": true,
    "slideshow": {
     "slide_type": ""
    },
    "tags": []
   },
   "source": [
    "Now that we have the gradients and Hessians in internal coordinates, let's write a routine which constructs the harmonic potential, given a new molecular configuration $\\mathbf{q}$.\n",
    "\n",
    "$$\n",
    "V_a(\\mathbf{q}) = E_a + \\boldsymbol{\\Delta}^\\mathrm{T}_a \\mathbf{g}_a + \\frac{1}{2} \\boldsymbol{\\Delta}^\\mathrm{T}_a \\mathbf{H}_a\\boldsymbol{\\Delta}_a\\, .\n",
    "$$"
   ]
  },
  {
   "cell_type": "code",
   "execution_count": 18,
   "id": "49830a5c-2eef-43ff-8ee1-6712812aef54",
   "metadata": {
    "editable": true,
    "slideshow": {
     "slide_type": ""
    },
    "tags": []
   },
   "outputs": [],
   "source": [
    "def get_harmonic_potential(q_a, e_a, g_a, h_a, new_q):\n",
    "    # coords_a are the coordinates where the energy, gradient and\n",
    "    # hessian have been calculated;\n",
    "    dist = new_q - q_a\n",
    "    pot = e_a + np.matmul(dist.T, g_a) + 0.5 * np.linalg.multi_dot([dist.T, h_a, dist])\n",
    "    return pot"
   ]
  },
  {
   "cell_type": "markdown",
   "id": "28062215-15a9-4f00-9b3f-9830e5d583f5",
   "metadata": {
    "editable": true,
    "slideshow": {
     "slide_type": ""
    },
    "tags": []
   },
   "source": [
    "To be able to use the routine, we first have to create the array of internal coordinates $\\mathbf{q}_a$. Let's add a routine to calculate the values of the internal coordinates we defined previously using geomeTRIC objects. We will need the Cartesian coordinates of the molecule in the different configurations.\n",
    "\n",
    "```{note}\n",
    "The Cartesian and internal coordinates used here are in atomic units!\n",
    "```"
   ]
  },
  {
   "cell_type": "code",
   "execution_count": 19,
   "id": "6f40d834-40d1-42e8-b604-15c214eb3771",
   "metadata": {
    "editable": true,
    "slideshow": {
     "slide_type": ""
    },
    "tags": []
   },
   "outputs": [],
   "source": [
    "def get_internal_coordinates_array(internal_coordinates, cart_coords):\n",
    "    q_list = []\n",
    "    for q in internal_coordinates:\n",
    "        q_list.append(q.value(cart_coords))\n",
    "    return np.array(q_list)\n",
    "\n",
    "\n",
    "# list of internal coordinates with our interpolation data points:\n",
    "qs = []\n",
    "\n",
    "for molec in molecules:\n",
    "    cart_coords = molec.get_coordinates_in_bohr()\n",
    "    q_a = get_internal_coordinates_array(internal_coordinates, cart_coords)\n",
    "    qs.append(q_a)"
   ]
  },
  {
   "cell_type": "markdown",
   "id": "3120951a-c290-4332-b378-dc8ba517be16",
   "metadata": {
    "editable": true,
    "slideshow": {
     "slide_type": ""
    },
    "tags": []
   },
   "source": [
    "Let's construct the harmonic potentials based on the three data points we calculated previously. To plot the results let's use an array of new O-H bond distances."
   ]
  },
  {
   "cell_type": "code",
   "execution_count": 20,
   "id": "8613363c-5cf3-4786-a53e-f3a6e4a1dae1",
   "metadata": {
    "editable": true,
    "slideshow": {
     "slide_type": ""
    },
    "tags": []
   },
   "outputs": [],
   "source": [
    "distlist = np.arange(0.6, 2.0, 0.05)\n",
    "\n",
    "# list of harmonic potentials\n",
    "harmonic_potentials = []\n",
    "\n",
    "for i in range(n_data_pts):\n",
    "    q_a = qs[i]\n",
    "    e_a = energies[i]\n",
    "    g_a = int_gradients[i]\n",
    "    h_a = int_hessians[i]\n",
    "\n",
    "    potential = []\n",
    "\n",
    "    for oh in distlist:\n",
    "        # print(\"Calculating the harmonic potential for... \", oh)\n",
    "\n",
    "        # Create new molecule\n",
    "        mol_str = mol_template.replace(\"OHdist\", str(oh))\n",
    "        new_molecule = vlx.Molecule.read_molecule_string(mol_str, units=\"angstrom\")\n",
    "        cart_coords = new_molecule.get_coordinates_in_bohr()\n",
    "        q = get_internal_coordinates_array(internal_coordinates, cart_coords)\n",
    "\n",
    "        # Calculate harmonic potential at point q\n",
    "        pot = get_harmonic_potential(q_a, e_a, g_a, h_a, q)\n",
    "        potential.append(pot)\n",
    "    harmonic_potentials.append(np.array(potential))"
   ]
  },
  {
   "cell_type": "markdown",
   "id": "553ee1cb-6491-44f9-8432-94dadc15cff0",
   "metadata": {
    "editable": true,
    "slideshow": {
     "slide_type": ""
    },
    "tags": []
   },
   "source": [
    "Let's plot the results."
   ]
  },
  {
   "cell_type": "code",
   "execution_count": 21,
   "id": "4fd0343a-5ed6-4304-89a0-4d7b671fb6be",
   "metadata": {
    "editable": true,
    "slideshow": {
     "slide_type": ""
    },
    "tags": [
     "hide-output"
    ]
   },
   "outputs": [
    {
     "data": {
      "image/png": "[encoded data removed]",
      "text/plain": [
       "<Figure size 600x400 with 1 Axes>"
      ]
     },
     "metadata": {},
     "output_type": "display_data"
    }
   ],
   "source": [
    "plt.figure(figsize=(6, 4))\n",
    "plt.title(\"Local Harmonic Potentials for Interpolation\")\n",
    "plt.plot(distlist, harmonic_potentials[0], label=\"0.75 Å\")\n",
    "plt.plot(distlist, harmonic_potentials[1], label=\"0.95 Å\")\n",
    "plt.plot(distlist, harmonic_potentials[2], label=\"1.35 Å\")\n",
    "\n",
    "plt.xlabel(\"O-H bond length (Å)\")\n",
    "plt.ylabel(\"Energy (H)\")\n",
    "\n",
    "plt.legend()\n",
    "plt.show()"
   ]
  },
  {
   "cell_type": "markdown",
   "id": "5bc4a397-bef0-45e7-ad1b-a1c576bc58f7",
   "metadata": {
    "editable": true,
    "slideshow": {
     "slide_type": ""
    },
    "tags": []
   },
   "source": [
    "Let's use these for interpolation and compare to the PES calculated with HF. We need to implement the following equations:\n",
    "\n",
    "$$\n",
    "V(\\mathbf{q}) = \\sum_a w_a V_a(\\mathbf{q})\\,,\n",
    "$$\n",
    "\n",
    "$$\n",
    "w_a = \\frac{v_a}{\\sum_i v_i}\\,\n",
    "$$\n",
    "\n",
    "$$\n",
    "v_a = \\frac{1}{|\\mathbf{q}-\\mathbf{q_a}|^{2p}}.\n",
    "$$\n"
   ]
  },
  {
   "cell_type": "code",
   "execution_count": 22,
   "id": "d5fed840-3171-4727-9e37-c78463b3de1b",
   "metadata": {
    "editable": true,
    "slideshow": {
     "slide_type": ""
    },
    "tags": []
   },
   "outputs": [],
   "source": [
    "def get_interpolated_pes(\n",
    "    new_point, data_points, energies, gradients, hessians, exponent\n",
    "):\n",
    "    # sum of all interpolation weights -- to normalize them\n",
    "    sum_weights = 0\n",
    "    weights = []\n",
    "    potentials = []\n",
    "\n",
    "    n_points = len(data_points)\n",
    "\n",
    "    for i in range(n_points):\n",
    "        q_a = data_points[i]\n",
    "        e_a = energies[i]\n",
    "        g_a = gradients[i]\n",
    "        h_a = hessians[i]\n",
    "        dist = np.linalg.norm(new_point - q_a)\n",
    "        weight = 1 / dist**exponent\n",
    "        pot = get_harmonic_potential(q_a, e_a, g_a, h_a, new_point)\n",
    "        # print(pot)\n",
    "        sum_weights += weight\n",
    "        weights.append(weight)\n",
    "        potentials.append(pot)\n",
    "\n",
    "    new_energy = 0\n",
    "    for i in range(len(data_points)):\n",
    "        new_energy += weights[i] / sum_weights * potentials[i]\n",
    "        # print(en)\n",
    "\n",
    "    return new_energy"
   ]
  },
  {
   "cell_type": "markdown",
   "id": "887a485f-6a2e-43ab-9e70-89484464299e",
   "metadata": {
    "editable": true,
    "slideshow": {
     "slide_type": ""
    },
    "tags": []
   },
   "source": [
    "Let's see how well the interpolated energies compare to HF energies."
   ]
  },
  {
   "cell_type": "code",
   "execution_count": 23,
   "id": "16378cb9-4004-4525-8b2a-6394827c2949",
   "metadata": {
    "editable": true,
    "slideshow": {
     "slide_type": ""
    },
    "tags": []
   },
   "outputs": [],
   "source": [
    "scf_energies = []\n",
    "im_energies = []\n",
    "\n",
    "for oh in distlist:\n",
    "\n",
    "    # Create new molecule\n",
    "    mol_str = mol_template.replace(\"OHdist\", str(oh))\n",
    "    new_molecule = vlx.Molecule.read_molecule_string(mol_str, units=\"angstrom\")\n",
    "\n",
    "    # set-up an xtb driver, gradient driver and hessian driver\n",
    "    new_scf_drv = vlx.ScfRestrictedDriver()\n",
    "    new_scf_drv.ostream.state = False\n",
    "    new_scf_results = new_scf_drv.compute(new_molecule, basis)\n",
    "\n",
    "    # save the results:\n",
    "    energy = new_scf_drv.get_scf_energy()\n",
    "\n",
    "    scf_energies.append(energy)\n",
    "\n",
    "    # calculate energies by interpolation\n",
    "    coords = new_molecule.get_coordinates_in_bohr()\n",
    "    new_q = get_internal_coordinates_array(internal_coordinates, coords)\n",
    "    im_energy = get_interpolated_pes(\n",
    "        new_q, qs, energies, int_gradients, int_hessians, 12\n",
    "    )\n",
    "\n",
    "    im_energies.append(im_energy)"
   ]
  },
  {
   "cell_type": "code",
   "execution_count": 40,
   "id": "324a4e93-a6c5-4416-b35e-c90074371d13",
   "metadata": {
    "editable": true,
    "slideshow": {
     "slide_type": ""
    },
    "tags": []
   },
   "outputs": [
    {
     "data": {
      "image/png": "[encoded data removed]",
      "text/plain": [
       "<Figure size 600x400 with 1 Axes>"
      ]
     },
     "metadata": {},
     "output_type": "display_data"
    }
   ],
   "source": [
    "qm_points = [0.75, 0.95, 1.35]\n",
    "\n",
    "plt.figure(figsize=(6, 4))\n",
    "plt.title(\"Energy during O-H dissociation\")\n",
    "plt.plot(distlist, scf_energies, label=\"HF\", linewidth=2.5, color=\"navy\")\n",
    "plt.plot(distlist, im_energies, \"--\", label=\"Interpolated\", linewidth=2, color=\"red\")\n",
    "plt.plot(qm_points, energies, \"o\", label=\"QM data points\", color=\"red\")\n",
    "\n",
    "plt.xlabel(\"O-H bond length (Å)\")\n",
    "plt.ylabel(\"Energy (H)\")\n",
    "\n",
    "plt.legend()\n",
    "plt.tight_layout()\n",
    "plt.show()"
   ]
  },
  {
   "cell_type": "code",
   "execution_count": 53,
   "id": "dc165f14-db6e-4dda-8079-a4410ce8ee33",
   "metadata": {
    "editable": true,
    "slideshow": {
     "slide_type": ""
    },
    "tags": [
     "hide-output"
    ]
   },
   "outputs": [
    {
     "data": {
      "image/png": "[encoded data removed]",
      "text/plain": [
       "<Figure size 600x400 with 1 Axes>"
      ]
     },
     "metadata": {},
     "output_type": "display_data"
    }
   ],
   "source": [
    "plt.figure(figsize=(6, 4))\n",
    "plt.title(\"Interpolated Energy during O-H dissociation\")\n",
    "plt.plot(distlist, harmonic_potentials[0], label=\"0.75 Å\", linewidth=2)\n",
    "plt.plot(distlist, harmonic_potentials[1], label=\"0.95 Å\", linewidth=2)\n",
    "plt.plot(distlist, harmonic_potentials[2], label=\"1.35 Å\", linewidth=2)\n",
    "plt.plot(distlist, im_energies, label=\"IM\", ls=\"--\", color=\"black\")\n",
    "\n",
    "#plt.plot(qm_points, energies, \"o\", label=\"QM data points\", color=\"dimgrey\")\n",
    "\n",
    "plt.scatter(qm_points, energies, label=\"QM data points\", color=\"dimgrey\")\n",
    "plt.scatter(qm_points[0], energies[0])\n",
    "plt.scatter(qm_points[1], energies[1])\n",
    "plt.scatter(qm_points[2], energies[2])\n",
    "\n",
    "plt.axis(ymin=-75.1, ymax=-74.5)\n",
    "\n",
    "plt.xlabel(\"O-H bond length (Å)\")\n",
    "plt.ylabel(\"Energy (H)\")\n",
    "\n",
    "plt.legend()\n",
    "plt.tight_layout()\n",
    "plt.show()"
   ]
  },
  {
   "cell_type": "markdown",
   "id": "3f4c49bb-3d58-4d12-9780-696da617db83",
   "metadata": {
    "editable": true,
    "slideshow": {
     "slide_type": ""
    },
    "tags": []
   },
   "source": [
    "Things to consider in this approach include:\n",
    "\n",
    "- What happens if you calculate the energy of a configuration which is outside\n",
    "the range of QM data points (eg. an OH bond length larger than the largest value you included)?\n",
    "\n",
    "- What happens if you include more or fewer data points in your data base?"
   ]
  }
 ],
 "metadata": {
  "celltoolbar": "Edit Metadata",
  "kernelspec": {
   "display_name": "Python 3 (ipykernel)",
   "language": "python",
   "name": "python3"
  },
  "language_info": {
   "codemirror_mode": {
    "name": "ipython",
    "version": 3
   },
   "file_extension": ".py",
   "mimetype": "text/x-python",
   "name": "python",
   "nbconvert_exporter": "python",
   "pygments_lexer": "ipython3",
   "version": "3.11.9"
  }
 },
 "nbformat": 4,
 "nbformat_minor": 5
}
