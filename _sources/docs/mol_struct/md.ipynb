{
 "cells": [
  {
   "cell_type": "markdown",
   "id": "6346cd07",
   "metadata": {},
   "source": [
    "# Molecular dynamics\n",
    "\n",
    "Despite the significant progress in developing and optimizing quantum chemical methods, as well as in computer hardware, a fully quantum mechanical treatment remains very costly, and thus only applicable for relatively small systems. The upper limit for a geometry optimization is around a thousand atoms and a dynamics simulation is only possible for systems of a few hundred atoms, and even then only for very short time scales. This means that unless new approximations are introduced, many systems that are of interest will be far beyond the capabilities of today's computers. A small piece of protein from the human body can consist of several thousand atoms, and even very small systems can increase by hundreds of atoms when a solvent is added.\n",
    "\n",
    "The simulation of large proteins and long time-scales can instead be consider using [molecular dynamics](https://en.wikipedia.org/wiki/Molecular_dynamics), in which we use simple Newtonian physics on entities (*e.g.* atoms) constructed to emulate the behavior of the molecular system. The development of such multiscale models for considering complex molecular systems was awarded the [2013 Nobel Prize](https://www.nobelprize.org/prizes/chemistry/2013/summary/), and represents a a large field of research and applications. In this chapter we will consider:\n",
    "\n",
    "- The construction of [force fields](forcefields), illustrating how terms describing bond stretch, bond angle, and dihedral angles can be assembled\n",
    "\n",
    "- How to [reparameterize](reparameterize) force fields for complex molecular systems\n",
    "\n",
    "- The different [ensembles and time integration](md_setup) schemes for molecular dynamics simulations\n",
    "\n",
    "- Basics on [running MD simulations](md_run)"
   ]
  },
  {
   "cell_type": "code",
   "execution_count": null,
   "id": "5fd59ce7-efe3-4cfc-8c50-dd40302650bf",
   "metadata": {},
   "outputs": [],
   "source": []
  }
 ],
 "metadata": {
  "kernelspec": {
   "display_name": "Python 3 (ipykernel)",
   "language": "python",
   "name": "python3"
  },
  "language_info": {
   "codemirror_mode": {
    "name": "ipython",
    "version": 3
   },
   "file_extension": ".py",
   "mimetype": "text/x-python",
   "name": "python",
   "nbconvert_exporter": "python",
   "pygments_lexer": "ipython3",
   "version": "3.9.15"
  }
 },
 "nbformat": 4,
 "nbformat_minor": 5
}
