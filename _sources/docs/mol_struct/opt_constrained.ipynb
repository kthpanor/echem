{
 "cells": [
  {
   "cell_type": "markdown",
   "id": "2f19c1c5-546c-43a9-adec-2cde9bf66c74",
   "metadata": {
    "editable": true,
    "slideshow": {
     "slide_type": ""
    },
    "tags": []
   },
   "source": [
    "# Constrained coordinates"
   ]
  },
  {
   "cell_type": "code",
   "execution_count": 1,
   "id": "cda628e6-f623-447c-b837-7721d713bb60",
   "metadata": {
    "editable": true,
    "slideshow": {
     "slide_type": ""
    },
    "tags": [
     "remove-output"
    ]
   },
   "outputs": [
    {
     "name": "stdout",
     "output_type": "stream",
     "text": [
      "* Warning * Environment variable OMP_NUM_THREADS not set.\n",
      "* Warning * Setting OMP_NUM_THREADS to 6.\n"
     ]
    }
   ],
   "source": [
    "import veloxchem as vlx"
   ]
  },
  {
   "cell_type": "markdown",
   "id": "38a537af-c01e-4d2d-99fd-966266c7bc77",
   "metadata": {
    "editable": true,
    "slideshow": {
     "slide_type": ""
    },
    "tags": []
   },
   "source": [
    "We define a structure in terms of a SMILES string."
   ]
  },
  {
   "cell_type": "code",
   "execution_count": 2,
   "id": "5b8d9b6d-7168-4aa9-b93a-c13a9c60d4f4",
   "metadata": {
    "editable": true,
    "slideshow": {
     "slide_type": ""
    },
    "tags": []
   },
   "outputs": [
    {
     "data": {
      "application/3dmoljs_load.v0": "<div id=\"3dmolviewer_1709147052427637\"  style=\"position: relative; width: 400px; height: 300px;\">\n        <p id=\"3dmolwarning_1709147052427637\" style=\"background-color:#ffcccc;color:black\">You appear to be running in JupyterLab (or JavaScript failed to load for some other reason).  You need to install the 3dmol extension: <br>\n        <tt>jupyter labextension install jupyterlab_3dmol</tt></p>\n        </div>\n<script>\n\nvar loadScriptAsync = function(uri){\n  return new Promise((resolve, reject) => {\n    //this is to ignore the existence of requirejs amd\n    var savedexports, savedmodule;\n    if (typeof exports !== 'undefined') savedexports = exports;\n    else exports = {}\n    if (typeof module !== 'undefined') savedmodule = module;\n    else module = {}\n\n    var tag = document.createElement('script');\n    tag.src = uri;\n    tag.async = true;\n    tag.onload = () => {\n        exports = savedexports;\n        module = savedmodule;\n        resolve();\n    };\n  var firstScriptTag = document.getElementsByTagName('script')[0];\n  firstScriptTag.parentNode.insertBefore(tag, firstScriptTag);\n});\n};\n\nif(typeof $3Dmolpromise === 'undefined') {\n$3Dmolpromise = null;\n  $3Dmolpromise = loadScriptAsync('https://cdnjs.cloudflare.com/ajax/libs/3Dmol/2.0.4/3Dmol-min.js');\n}\n\nvar viewer_1709147052427637 = null;\nvar warn = document.getElementById(\"3dmolwarning_1709147052427637\");\nif(warn) {\n    warn.parentNode.removeChild(warn);\n}\n$3Dmolpromise.then(function() {\nviewer_1709147052427637 = $3Dmol.createViewer(document.getElementById(\"3dmolviewer_1709147052427637\"),{backgroundColor:\"white\"});\nviewer_1709147052427637.zoomTo();\n\tviewer_1709147052427637.addModel(\"9\\n\\nO              1.017430000000        -0.041050000000        -0.126100000000\\nC              2.385780000000        -0.053980000000        -0.142810000000\\nC              3.067130000000        -0.755350000000        -1.049530000000\\nC              4.539920000000        -0.746380000000        -1.037940000000\\nO              5.191520000000        -1.380640000000        -1.857910000000\\nH              0.717050000000         0.526050000000         0.607040000000\\nH              2.832750000000         0.549570000000         0.637450000000\\nH              2.580720000000        -1.347130000000        -1.814590000000\\nH              5.020140000000        -0.139090000000        -0.252850000000\\n\");\n\tviewer_1709147052427637.setViewStyle({\"style\": \"outline\", \"width\": 0.05});\n\tviewer_1709147052427637.setStyle({\"stick\": {}, \"sphere\": {\"scale\": 0.25}});\n\tviewer_1709147052427637.addLabel(\"1\",{\"position\": {\"x\": 1.01743, \"y\": -0.04105, \"z\": -0.1261}, \"alignment\": \"center\", \"fontColor\": 0, \"backgroundColor\": 16777215, \"backgroundOpacity\": 0.0});\n\tviewer_1709147052427637.addLabel(\"2\",{\"position\": {\"x\": 2.38578, \"y\": -0.05397999999999999, \"z\": -0.14281}, \"alignment\": \"center\", \"fontColor\": 0, \"backgroundColor\": 16777215, \"backgroundOpacity\": 0.0});\n\tviewer_1709147052427637.addLabel(\"3\",{\"position\": {\"x\": 3.06713, \"y\": -0.75535, \"z\": -1.04953}, \"alignment\": \"center\", \"fontColor\": 0, \"backgroundColor\": 16777215, \"backgroundOpacity\": 0.0});\n\tviewer_1709147052427637.addLabel(\"4\",{\"position\": {\"x\": 4.53992, \"y\": -0.74638, \"z\": -1.03794}, \"alignment\": \"center\", \"fontColor\": 0, \"backgroundColor\": 16777215, \"backgroundOpacity\": 0.0});\n\tviewer_1709147052427637.addLabel(\"5\",{\"position\": {\"x\": 5.191519999999999, \"y\": -1.3806399999999999, \"z\": -1.85791}, \"alignment\": \"center\", \"fontColor\": 0, \"backgroundColor\": 16777215, \"backgroundOpacity\": 0.0});\n\tviewer_1709147052427637.addLabel(\"6\",{\"position\": {\"x\": 0.71705, \"y\": 0.52605, \"z\": 0.6070399999999999}, \"alignment\": \"center\", \"fontColor\": 0, \"backgroundColor\": 16777215, \"backgroundOpacity\": 0.0});\n\tviewer_1709147052427637.addLabel(\"7\",{\"position\": {\"x\": 2.83275, \"y\": 0.54957, \"z\": 0.63745}, \"alignment\": \"center\", \"fontColor\": 0, \"backgroundColor\": 16777215, \"backgroundOpacity\": 0.0});\n\tviewer_1709147052427637.addLabel(\"8\",{\"position\": {\"x\": 2.58072, \"y\": -1.34713, \"z\": -1.81459}, \"alignment\": \"center\", \"fontColor\": 0, \"backgroundColor\": 16777215, \"backgroundOpacity\": 0.0});\n\tviewer_1709147052427637.addLabel(\"9\",{\"position\": {\"x\": 5.02014, \"y\": -0.13909, \"z\": -0.25285}, \"alignment\": \"center\", \"fontColor\": 0, \"backgroundColor\": 16777215, \"backgroundOpacity\": 0.0});\n\tviewer_1709147052427637.zoomTo();\nviewer_1709147052427637.render();\n});\n</script>",
      "text/html": [
       "<div id=\"3dmolviewer_1709147052427637\"  style=\"position: relative; width: 400px; height: 300px;\">\n",
       "        <p id=\"3dmolwarning_1709147052427637\" style=\"background-color:#ffcccc;color:black\">You appear to be running in JupyterLab (or JavaScript failed to load for some other reason).  You need to install the 3dmol extension: <br>\n",
       "        <tt>jupyter labextension install jupyterlab_3dmol</tt></p>\n",
       "        </div>\n",
       "<script>\n",
       "\n",
       "var loadScriptAsync = function(uri){\n",
       "  return new Promise((resolve, reject) => {\n",
       "    //this is to ignore the existence of requirejs amd\n",
       "    var savedexports, savedmodule;\n",
       "    if (typeof exports !== 'undefined') savedexports = exports;\n",
       "    else exports = {}\n",
       "    if (typeof module !== 'undefined') savedmodule = module;\n",
       "    else module = {}\n",
       "\n",
       "    var tag = document.createElement('script');\n",
       "    tag.src = uri;\n",
       "    tag.async = true;\n",
       "    tag.onload = () => {\n",
       "        exports = savedexports;\n",
       "        module = savedmodule;\n",
       "        resolve();\n",
       "    };\n",
       "  var firstScriptTag = document.getElementsByTagName('script')[0];\n",
       "  firstScriptTag.parentNode.insertBefore(tag, firstScriptTag);\n",
       "});\n",
       "};\n",
       "\n",
       "if(typeof $3Dmolpromise === 'undefined') {\n",
       "$3Dmolpromise = null;\n",
       "  $3Dmolpromise = loadScriptAsync('https://cdnjs.cloudflare.com/ajax/libs/3Dmol/2.0.4/3Dmol-min.js');\n",
       "}\n",
       "\n",
       "var viewer_1709147052427637 = null;\n",
       "var warn = document.getElementById(\"3dmolwarning_1709147052427637\");\n",
       "if(warn) {\n",
       "    warn.parentNode.removeChild(warn);\n",
       "}\n",
       "$3Dmolpromise.then(function() {\n",
       "viewer_1709147052427637 = $3Dmol.createViewer(document.getElementById(\"3dmolviewer_1709147052427637\"),{backgroundColor:\"white\"});\n",
       "viewer_1709147052427637.zoomTo();\n",
       "\tviewer_1709147052427637.addModel(\"9\\n\\nO              1.017430000000        -0.041050000000        -0.126100000000\\nC              2.385780000000        -0.053980000000        -0.142810000000\\nC              3.067130000000        -0.755350000000        -1.049530000000\\nC              4.539920000000        -0.746380000000        -1.037940000000\\nO              5.191520000000        -1.380640000000        -1.857910000000\\nH              0.717050000000         0.526050000000         0.607040000000\\nH              2.832750000000         0.549570000000         0.637450000000\\nH              2.580720000000        -1.347130000000        -1.814590000000\\nH              5.020140000000        -0.139090000000        -0.252850000000\\n\");\n",
       "\tviewer_1709147052427637.setViewStyle({\"style\": \"outline\", \"width\": 0.05});\n",
       "\tviewer_1709147052427637.setStyle({\"stick\": {}, \"sphere\": {\"scale\": 0.25}});\n",
       "\tviewer_1709147052427637.addLabel(\"1\",{\"position\": {\"x\": 1.01743, \"y\": -0.04105, \"z\": -0.1261}, \"alignment\": \"center\", \"fontColor\": 0, \"backgroundColor\": 16777215, \"backgroundOpacity\": 0.0});\n",
       "\tviewer_1709147052427637.addLabel(\"2\",{\"position\": {\"x\": 2.38578, \"y\": -0.05397999999999999, \"z\": -0.14281}, \"alignment\": \"center\", \"fontColor\": 0, \"backgroundColor\": 16777215, \"backgroundOpacity\": 0.0});\n",
       "\tviewer_1709147052427637.addLabel(\"3\",{\"position\": {\"x\": 3.06713, \"y\": -0.75535, \"z\": -1.04953}, \"alignment\": \"center\", \"fontColor\": 0, \"backgroundColor\": 16777215, \"backgroundOpacity\": 0.0});\n",
       "\tviewer_1709147052427637.addLabel(\"4\",{\"position\": {\"x\": 4.53992, \"y\": -0.74638, \"z\": -1.03794}, \"alignment\": \"center\", \"fontColor\": 0, \"backgroundColor\": 16777215, \"backgroundOpacity\": 0.0});\n",
       "\tviewer_1709147052427637.addLabel(\"5\",{\"position\": {\"x\": 5.191519999999999, \"y\": -1.3806399999999999, \"z\": -1.85791}, \"alignment\": \"center\", \"fontColor\": 0, \"backgroundColor\": 16777215, \"backgroundOpacity\": 0.0});\n",
       "\tviewer_1709147052427637.addLabel(\"6\",{\"position\": {\"x\": 0.71705, \"y\": 0.52605, \"z\": 0.6070399999999999}, \"alignment\": \"center\", \"fontColor\": 0, \"backgroundColor\": 16777215, \"backgroundOpacity\": 0.0});\n",
       "\tviewer_1709147052427637.addLabel(\"7\",{\"position\": {\"x\": 2.83275, \"y\": 0.54957, \"z\": 0.63745}, \"alignment\": \"center\", \"fontColor\": 0, \"backgroundColor\": 16777215, \"backgroundOpacity\": 0.0});\n",
       "\tviewer_1709147052427637.addLabel(\"8\",{\"position\": {\"x\": 2.58072, \"y\": -1.34713, \"z\": -1.81459}, \"alignment\": \"center\", \"fontColor\": 0, \"backgroundColor\": 16777215, \"backgroundOpacity\": 0.0});\n",
       "\tviewer_1709147052427637.addLabel(\"9\",{\"position\": {\"x\": 5.02014, \"y\": -0.13909, \"z\": -0.25285}, \"alignment\": \"center\", \"fontColor\": 0, \"backgroundColor\": 16777215, \"backgroundOpacity\": 0.0});\n",
       "\tviewer_1709147052427637.zoomTo();\n",
       "viewer_1709147052427637.render();\n",
       "});\n",
       "</script>"
      ]
     },
     "metadata": {},
     "output_type": "display_data"
    }
   ],
   "source": [
    "molecule = vlx.Molecule.read_smiles(\"OC=CC=O\")\n",
    "molecule.show(atom_indices=True)"
   ]
  },
  {
   "cell_type": "markdown",
   "id": "2533dc2c-ec12-40a2-8b15-1d5b52b9d770",
   "metadata": {
    "editable": true,
    "slideshow": {
     "slide_type": ""
    },
    "tags": []
   },
   "source": [
    "We also define the electronic structure theory method to be used as well as an VeloxChem optimization driver."
   ]
  },
  {
   "cell_type": "code",
   "execution_count": 3,
   "id": "2a978804-5b44-44a5-b59e-e977d52b3f89",
   "metadata": {
    "editable": true,
    "scrolled": true,
    "slideshow": {
     "slide_type": ""
    },
    "tags": []
   },
   "outputs": [],
   "source": [
    "scf_drv = vlx.XtbDriver()\n",
    "scf_drv.ostream.mute()\n",
    "\n",
    "opt_drv = vlx.OptimizationDriver(scf_drv)\n",
    "opt_drv.ostream.mute()"
   ]
  },
  {
   "cell_type": "markdown",
   "id": "be0b451e-445e-4e60-a8cf-24dc8b9e930c",
   "metadata": {
    "editable": true,
    "slideshow": {
     "slide_type": ""
    },
    "tags": []
   },
   "source": [
    "## Set and freeze internal coordinates\n",
    "\n",
    "A selection of internal coordinates can be set or frozen during the molecular structure optimization, where the latter choice means that they are frozen to the values given in the initial structure. These options apply to internal coordinates of the types:\n",
    "\n",
    "- distance\n",
    "- angle\n",
    "- dihedral"
   ]
  },
  {
   "cell_type": "code",
   "execution_count": 12,
   "id": "d2bef618-df59-44c9-bc62-68bf462768ac",
   "metadata": {
    "editable": true,
    "slideshow": {
     "slide_type": ""
    },
    "tags": []
   },
   "outputs": [],
   "source": [
    "opt_drv.constraints = [\n",
    "    \"set dihedral 6 1 2 3 0.0\",\n",
    "    \"freeze distance 6 1\",\n",
    "]\n",
    "\n",
    "opt_results = opt_drv.compute(molecule)"
   ]
  },
  {
   "cell_type": "code",
   "execution_count": 13,
   "id": "0d16cb3c-9de5-46a8-b273-38ccc8acf5b7",
   "metadata": {
    "editable": true,
    "slideshow": {
     "slide_type": ""
    },
    "tags": []
   },
   "outputs": [
    {
     "data": {
      "application/3dmoljs_load.v0": "<div id=\"3dmolviewer_17091471833237371\"  style=\"position: relative; width: 400px; height: 300px;\">\n        <p id=\"3dmolwarning_17091471833237371\" style=\"background-color:#ffcccc;color:black\">You appear to be running in JupyterLab (or JavaScript failed to load for some other reason).  You need to install the 3dmol extension: <br>\n        <tt>jupyter labextension install jupyterlab_3dmol</tt></p>\n        </div>\n<script>\n\nvar loadScriptAsync = function(uri){\n  return new Promise((resolve, reject) => {\n    //this is to ignore the existence of requirejs amd\n    var savedexports, savedmodule;\n    if (typeof exports !== 'undefined') savedexports = exports;\n    else exports = {}\n    if (typeof module !== 'undefined') savedmodule = module;\n    else module = {}\n\n    var tag = document.createElement('script');\n    tag.src = uri;\n    tag.async = true;\n    tag.onload = () => {\n        exports = savedexports;\n        module = savedmodule;\n        resolve();\n    };\n  var firstScriptTag = document.getElementsByTagName('script')[0];\n  firstScriptTag.parentNode.insertBefore(tag, firstScriptTag);\n});\n};\n\nif(typeof $3Dmolpromise === 'undefined') {\n$3Dmolpromise = null;\n  $3Dmolpromise = loadScriptAsync('https://cdnjs.cloudflare.com/ajax/libs/3Dmol/2.0.4/3Dmol-min.js');\n}\n\nvar viewer_17091471833237371 = null;\nvar warn = document.getElementById(\"3dmolwarning_17091471833237371\");\nif(warn) {\n    warn.parentNode.removeChild(warn);\n}\n$3Dmolpromise.then(function() {\nviewer_17091471833237371 = $3Dmol.createViewer(document.getElementById(\"3dmolviewer_17091471833237371\"),{backgroundColor:\"white\"});\nviewer_17091471833237371.zoomTo();\n\tviewer_17091471833237371.addModel(\"9\\n\\nO              1.179743475891         0.279640588382         0.288262525003\\nC              2.481271301440         0.106409571142         0.064362437722\\nC              3.028161160205        -0.641673850017        -0.902228666638\\nC              4.461872658391        -0.767143212488        -1.064742492948\\nO              5.009934540956        -1.424640283487        -1.915049572914\\nH              0.647331981746        -0.219817763676        -0.357031337870\\nH              3.086190309045         0.655714818945         0.774576563973\\nH              2.409529516560        -1.184965379869        -1.604885096258\\nH              5.048405055768        -0.191524488932        -0.320504360071\\n\");\n\tviewer_17091471833237371.setViewStyle({\"style\": \"outline\", \"width\": 0.05});\n\tviewer_17091471833237371.setStyle({\"stick\": {}, \"sphere\": {\"scale\": 0.25}});\n\tviewer_17091471833237371.zoomTo();\nviewer_17091471833237371.render();\n});\n</script>",
      "text/html": [
       "<div id=\"3dmolviewer_17091471833237371\"  style=\"position: relative; width: 400px; height: 300px;\">\n",
       "        <p id=\"3dmolwarning_17091471833237371\" style=\"background-color:#ffcccc;color:black\">You appear to be running in JupyterLab (or JavaScript failed to load for some other reason).  You need to install the 3dmol extension: <br>\n",
       "        <tt>jupyter labextension install jupyterlab_3dmol</tt></p>\n",
       "        </div>\n",
       "<script>\n",
       "\n",
       "var loadScriptAsync = function(uri){\n",
       "  return new Promise((resolve, reject) => {\n",
       "    //this is to ignore the existence of requirejs amd\n",
       "    var savedexports, savedmodule;\n",
       "    if (typeof exports !== 'undefined') savedexports = exports;\n",
       "    else exports = {}\n",
       "    if (typeof module !== 'undefined') savedmodule = module;\n",
       "    else module = {}\n",
       "\n",
       "    var tag = document.createElement('script');\n",
       "    tag.src = uri;\n",
       "    tag.async = true;\n",
       "    tag.onload = () => {\n",
       "        exports = savedexports;\n",
       "        module = savedmodule;\n",
       "        resolve();\n",
       "    };\n",
       "  var firstScriptTag = document.getElementsByTagName('script')[0];\n",
       "  firstScriptTag.parentNode.insertBefore(tag, firstScriptTag);\n",
       "});\n",
       "};\n",
       "\n",
       "if(typeof $3Dmolpromise === 'undefined') {\n",
       "$3Dmolpromise = null;\n",
       "  $3Dmolpromise = loadScriptAsync('https://cdnjs.cloudflare.com/ajax/libs/3Dmol/2.0.4/3Dmol-min.js');\n",
       "}\n",
       "\n",
       "var viewer_17091471833237371 = null;\n",
       "var warn = document.getElementById(\"3dmolwarning_17091471833237371\");\n",
       "if(warn) {\n",
       "    warn.parentNode.removeChild(warn);\n",
       "}\n",
       "$3Dmolpromise.then(function() {\n",
       "viewer_17091471833237371 = $3Dmol.createViewer(document.getElementById(\"3dmolviewer_17091471833237371\"),{backgroundColor:\"white\"});\n",
       "viewer_17091471833237371.zoomTo();\n",
       "\tviewer_17091471833237371.addModel(\"9\\n\\nO              1.179743475891         0.279640588382         0.288262525003\\nC              2.481271301440         0.106409571142         0.064362437722\\nC              3.028161160205        -0.641673850017        -0.902228666638\\nC              4.461872658391        -0.767143212488        -1.064742492948\\nO              5.009934540956        -1.424640283487        -1.915049572914\\nH              0.647331981746        -0.219817763676        -0.357031337870\\nH              3.086190309045         0.655714818945         0.774576563973\\nH              2.409529516560        -1.184965379869        -1.604885096258\\nH              5.048405055768        -0.191524488932        -0.320504360071\\n\");\n",
       "\tviewer_17091471833237371.setViewStyle({\"style\": \"outline\", \"width\": 0.05});\n",
       "\tviewer_17091471833237371.setStyle({\"stick\": {}, \"sphere\": {\"scale\": 0.25}});\n",
       "\tviewer_17091471833237371.zoomTo();\n",
       "viewer_17091471833237371.render();\n",
       "});\n",
       "</script>"
      ]
     },
     "metadata": {},
     "output_type": "display_data"
    }
   ],
   "source": [
    "final_geometry = vlx.Molecule.read_xyz_string(opt_results[\"final_geometry\"])\n",
    "final_geometry.show()"
   ]
  },
  {
   "cell_type": "markdown",
   "id": "649f8dc8-1069-48ba-8950-2ee33e3931ff",
   "metadata": {
    "editable": true,
    "slideshow": {
     "slide_type": ""
    },
    "tags": []
   },
   "source": [
    "## Scan internal coordinates\n",
    "\n",
    "Relaxed scans of internal coordinates can be performed."
   ]
  },
  {
   "cell_type": "code",
   "execution_count": 6,
   "id": "11751131-e0e7-4290-9205-543613b387ec",
   "metadata": {
    "editable": true,
    "slideshow": {
     "slide_type": ""
    },
    "tags": []
   },
   "outputs": [],
   "source": [
    "opt_drv.constraints = [\"scan dihedral 6 1 2 3 0 360 19\"]\n",
    "\n",
    "opt_results = opt_drv.compute(molecule)"
   ]
  },
  {
   "cell_type": "markdown",
   "id": "489005bb-e37c-4637-8b2c-d36dd1ff3c16",
   "metadata": {
    "editable": true,
    "slideshow": {
     "slide_type": ""
    },
    "tags": []
   },
   "source": [
    "Energies and molecular structures are returned."
   ]
  },
  {
   "cell_type": "code",
   "execution_count": 7,
   "id": "0f576756-a73e-40a9-9d1a-45a41292561d",
   "metadata": {
    "editable": true,
    "slideshow": {
     "slide_type": ""
    },
    "tags": []
   },
   "outputs": [
    {
     "data": {
      "text/plain": [
       "dict_keys(['final_geometry', 'scan_energies', 'scan_geometries'])"
      ]
     },
     "execution_count": 7,
     "metadata": {},
     "output_type": "execute_result"
    }
   ],
   "source": [
    "opt_results.keys()"
   ]
  },
  {
   "cell_type": "markdown",
   "id": "03cc3335-c796-4467-96d2-afd5e7f7e110",
   "metadata": {
    "editable": true,
    "slideshow": {
     "slide_type": ""
    },
    "tags": []
   },
   "source": [
    "Let us plot the potential energy curve from the relaxed scan structure optimization."
   ]
  },
  {
   "cell_type": "code",
   "execution_count": 8,
   "id": "1d1a01fd-d311-4752-a107-2d9c80d907da",
   "metadata": {
    "editable": true,
    "slideshow": {
     "slide_type": ""
    },
    "tags": []
   },
   "outputs": [],
   "source": [
    "import numpy as np\n",
    "import scipy\n",
    "\n",
    "occc = np.linspace(0, 360, 19)\n",
    "\n",
    "e_min_in_au = min(opt_results[\"scan_energies\"])\n",
    "\n",
    "energy_scan = [\n",
    "    (e - e_min_in_au) * vlx.hartree_in_kcalpermol()\n",
    "    for e in opt_results[\"scan_energies\"]\n",
    "]\n",
    "\n",
    "spline_func = scipy.interpolate.interp1d(occc, energy_scan, kind=\"cubic\")\n",
    "\n",
    "x_spline = np.linspace(occc[0], occc[-1], 200)\n",
    "y_spline = spline_func(x_spline)"
   ]
  },
  {
   "cell_type": "code",
   "execution_count": 9,
   "id": "2c5edef1-f545-4171-9d11-e326c5720fc2",
   "metadata": {
    "editable": true,
    "slideshow": {
     "slide_type": ""
    },
    "tags": []
   },
   "outputs": [
    {
     "data": {
      "image/png": "[encoded data removed]",
      "text/plain": [
       "<Figure size 800x400 with 1 Axes>"
      ]
     },
     "metadata": {},
     "output_type": "display_data"
    }
   ],
   "source": [
    "from matplotlib import pyplot as plt\n",
    "\n",
    "fig, ax = plt.subplots(figsize=(8, 4))\n",
    "\n",
    "ax.plot(x_spline, y_spline, \"-\", color=\"navy\", label=\"cubic spline\")\n",
    "ax.plot(occc, energy_scan, \"o\", color=\"deepskyblue\", label=\"XTB data\")\n",
    "\n",
    "ax.legend(frameon=True, shadow=True, loc=\"lower center\")\n",
    "\n",
    "ax.grid(True)\n",
    "\n",
    "ax.set_title(\"Relaxed scan optimization\")\n",
    "ax.set_xlabel(\"H–O–C–C dihedral angle (degrees)\")\n",
    "ax.set_ylabel(\"Energy (kcal/mol)\")\n",
    "\n",
    "plt.show()"
   ]
  }
 ],
 "metadata": {
  "kernelspec": {
   "display_name": "Python 3 (ipykernel)",
   "language": "python",
   "name": "python3"
  },
  "language_info": {
   "codemirror_mode": {
    "name": "ipython",
    "version": 3
   },
   "file_extension": ".py",
   "mimetype": "text/x-python",
   "name": "python",
   "nbconvert_exporter": "python",
   "pygments_lexer": "ipython3",
   "version": "3.10.13"
  }
 },
 "nbformat": 4,
 "nbformat_minor": 5
}
