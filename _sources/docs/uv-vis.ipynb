{
 "cells": [
  {
   "cell_type": "markdown",
   "id": "79828c2f",
   "metadata": {},
   "source": [
    "# UV/vis spectroscopies\n",
    "\n",
    "```{note}\n",
    "- Intro discuss different processes to be included, as well as what the sections discuss\n",
    "- Figs:\n",
    "    - Jablonski diagram\n",
    "    - Excitation types\n",
    "- References, links to response sections, etc.\n",
    "- Photochemistry section?\n",
    "```"
   ]
  }
 ],
 "metadata": {
  "kernelspec": {
   "display_name": "Python 3 (ipykernel)",
   "language": "python",
   "name": "python3"
  },
  "language_info": {
   "codemirror_mode": {
    "name": "ipython",
    "version": 3
   },
   "file_extension": ".py",
   "mimetype": "text/x-python",
   "name": "python",
   "nbconvert_exporter": "python",
   "pygments_lexer": "ipython3",
   "version": "3.9.12"
  }
 },
 "nbformat": 4,
 "nbformat_minor": 5
}
