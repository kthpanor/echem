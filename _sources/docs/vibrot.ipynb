{
 "cells": [
  {
   "cell_type": "markdown",
   "metadata": {
    "tags": []
   },
   "source": [
    "# Rovibronic states\n",
    "\n",
    "The sum-over-states expressions for response functions are expressed in terms of the exact rovibronic eigenstates of the molecular Hamiltonian in the absence of external fields. These states are rarely available in practical calculations, where instead electronic states are employed. However, for a diatomic system, we can determine the rovibrational wave functions and the associated transition moments and energies.\n",
    "\n",
    "## Rovibrational spectroscopy for diatomic molecules\n",
    "\n",
    "In a diatomic molecule there are sequences of quantized **rotational** levels associated with the ground and excited **vibrational** levels. The transitions between rotational levels from a vibrational state to other are called bands, and depending on the difference in the rotational quantum number ($J$) we classify the bands in:\n",
    "\n",
    "1. Q-branch: when $\\Delta J = 0$\n",
    "2. R-branch: when $\\Delta J = +1$\n",
    "3. P-branch: when $\\Delta J = -1$\n",
    "\n",
    "Before digging more into the theoretical determination of the branches, we need first a method to get the wave functions for the different vibrational levels, i.e., solving the Schrödinger equation for a given potential.\n",
    "\n",
    "## Numerov's method for solving the Schrödinger equation\n",
    "\n",
    "Numerov's method can be employed to solve 1D differential equations using finite differences over a grid. \n",
    "\n",
    "The radial Schrödinger equation for a diatomic system takes the form\n",
    "\n",
    "$$   \n",
    "[- \\dfrac {\\hbar^{2}} {2 m} ... + V (R)] \\chi_n(R) = \n",
    "E_n \\chi_n(R)  \n",
    "$$\n",
    "\n",
    "where $m$ is the reduced mass."
   ]
  },
  {
   "cell_type": "markdown",
   "metadata": {},
   "source": [
    "## Numerov's method in VeloxChem\n",
    "\n",
    "We start by importing the modules and setting up the system"
   ]
  },
  {
   "cell_type": "code",
   "execution_count": 65,
   "metadata": {
    "tags": [
     "remove-output"
    ]
   },
   "outputs": [],
   "source": [
    "import matplotlib.pyplot as plt\n",
    "import numpy as np\n",
    "import veloxchem as vlx"
   ]
  },
  {
   "cell_type": "markdown",
   "metadata": {},
   "source": [
    "The system that we will use as an example is HCl."
   ]
  },
  {
   "cell_type": "code",
   "execution_count": 68,
   "metadata": {},
   "outputs": [],
   "source": [
    "molecule_string = \"\"\"\n",
    "Cl   0.0     0.0   0.0\n",
    "H    1.274   0.0   0.0\n",
    "\"\"\"\n",
    "\n",
    "molecule = vlx.Molecule.read_str(molecule_string, units=\"angs\")\n",
    "basis_set_label = \"6-31+G\"\n",
    "basis = vlx.MolecularBasis.read(molecule, basis_set_label)\n",
    "molecule.set_charge(0)\n",
    "molecule.set_multiplicity(1)\n",
    "\n",
    "scf_settings = {\"conv_thresh\": 1.0e-6}\n",
    "method_settings = {\"xcfun\": \"b3lyp\", \"grid_level\": 4}"
   ]
  },
  {
   "cell_type": "markdown",
   "metadata": {},
   "source": [
    "To run the Numerov driver in VeloxChem we need to define the settings in a dictionary. We can consult all the settings as follows: "
   ]
  },
  {
   "cell_type": "code",
   "execution_count": 69,
   "metadata": {},
   "outputs": [
    {
     "name": "stdout",
     "output_type": "stream",
     "text": [
      "                     ================================================================================                     \n",
      "                       @numerov                                                                                           \n",
      "                     --------------------------------------------------------------------------------                     \n",
      "                       pec_displacements   sequence       PEC scanning range [bohr]                                       \n",
      "                       pec_potential       string         potential type for fitting                                      \n",
      "                       reduced_mass        float          reduced mass of the molecule                                    \n",
      "                       el_transition       boolean        include an electronic transition                                \n",
      "                       final_el_state      integer        final state of the electronic transition                        \n",
      "                       exc_conv_thresh     float          excited state calculation threshold                             \n",
      "                       n_vib_states        integer        number of vibrational states to be resolved                     \n",
      "                       temp                float          temperature in Kelvin                                           \n",
      "                       n_rot_states        integer        number of rotational states to be resolved                      \n",
      "                       conv_thresh         float          convergence threshold for vibronic energies                     \n",
      "                       max_iter            integer        max. iteration number per vibronic state                        \n",
      "                       n_margin            float          negative margin of the grid [bohr]                              \n",
      "                       p_margin            float          positive margin of the grid [bohr]                              \n",
      "                       steps_per_au        integer        number of grid points per Bohr radius                           \n",
      "                     ================================================================================                     \n"
     ]
    }
   ],
   "source": [
    "num_drv = vlx.NumerovDriver()\n",
    "num_drv.print_keywords()"
   ]
  },
  {
   "cell_type": "markdown",
   "metadata": {},
   "source": [
    "Now we proceed with the calculation, the potential $V(R)$ will be calculated by mapping the bond distance and we can decide if we want to fit it with a harmonic or a Morse potential. As a disclaimer the Morse potential will work fine for as many vibrational excited states as we want meanwhile the harmonic will work only for the lower ones as it is not able to reproduce the dissociation limit."
   ]
  },
  {
   "cell_type": "code",
   "execution_count": 70,
   "metadata": {
    "collapsed": true,
    "jupyter": {
     "outputs_hidden": true
    },
    "tags": [
     "output_scroll"
    ]
   },
   "outputs": [
    {
     "name": "stdout",
     "output_type": "stream",
     "text": [
      "                                                                                                                          \n",
      "                                           Potential Energy Curve Driver Setup                                            \n",
      "                                          =====================================                                           \n",
      "                                                                                                                          \n",
      "                              Number of Geometries          : 28                                                          \n",
      "                              Wave Function Model           : Spin-Unrestricted Kohn-Sham                                 \n",
      "                              SCF Convergece Threshold      : 1.0e-06                                                     \n",
      "                              DFT Functional                : B3LYP                                                       \n",
      "                              Molecular Grid Level          : 4                                                           \n",
      "                                                                                                                          \n",
      "               *** Geometry 1/28:  Initial state converged                                                                \n",
      "               *** Geometry 2/28:  Initial state converged                                                                \n",
      "               *** Geometry 3/28:  Initial state converged                                                                \n",
      "               *** Geometry 4/28:  Initial state converged                                                                \n",
      "               *** Geometry 5/28:  Initial state converged                                                                \n",
      "               *** Geometry 6/28:  Initial state converged                                                                \n",
      "               *** Geometry 7/28:  Initial state converged                                                                \n",
      "               *** Geometry 8/28:  Initial state converged                                                                \n",
      "               *** Geometry 9/28:  Initial state converged                                                                \n",
      "               *** Geometry 10/28:  Initial state converged                                                               \n",
      "               *** Geometry 11/28:  Initial state converged                                                               \n",
      "               *** Geometry 12/28:  Initial state converged                                                               \n",
      "               *** Geometry 13/28:  Initial state converged                                                               \n",
      "               *** Geometry 14/28:  Initial state converged                                                               \n",
      "               *** Geometry 15/28:  Initial state converged                                                               \n",
      "               *** Geometry 16/28:  Initial state converged                                                               \n",
      "               *** Geometry 17/28:  Initial state converged                                                               \n",
      "               *** Geometry 18/28:  Initial state converged                                                               \n",
      "               *** Geometry 19/28:  Initial state converged                                                               \n",
      "               *** Geometry 20/28:  Initial state converged                                                               \n",
      "               *** Geometry 21/28:  Initial state converged                                                               \n",
      "               *** Geometry 22/28:  Initial state converged                                                               \n",
      "               *** Geometry 23/28:  Initial state converged                                                               \n",
      "               *** Geometry 24/28:  Initial state converged                                                               \n",
      "               *** Geometry 25/28:  Initial state converged                                                               \n",
      "               *** Geometry 26/28:  Initial state converged                                                               \n",
      "               *** Geometry 27/28:  Initial state converged                                                               \n",
      "               *** Geometry 28/28:  Initial state converged                                                               \n",
      "                                                                                                                          \n",
      "               Potential Energy Curve Information                                                                         \n",
      "               ----------------------------------                                                                         \n",
      "                                               rel. GS energy                                                             \n",
      "               Bond distance:     0.9036 angs      5.68241 eV                                                             \n",
      "               Bond distance:     0.9565 angs      3.81796 eV                                                             \n",
      "               Bond distance:     1.0094 angs      2.47425 eV                                                             \n",
      "               Bond distance:     1.0623 angs      1.51382 eV                                                             \n",
      "               Bond distance:     1.1152 angs      0.85345 eV                                                             \n",
      "               Bond distance:     1.1682 angs      0.42410 eV                                                             \n",
      "               Bond distance:     1.2211 angs      0.16198 eV                                                             \n",
      "               Bond distance:     1.2740 angs      0.03092 eV                                                             \n",
      "               Bond distance:     1.3269 angs      0.00000 eV                                                             \n",
      "               Bond distance:     1.3798 angs      0.03972 eV                                                             \n",
      "               Bond distance:     1.4328 angs      0.13267 eV                                                             \n",
      "               Bond distance:     1.4857 angs      0.26646 eV                                                             \n",
      "               Bond distance:     1.5386 angs      0.42875 eV                                                             \n",
      "               Bond distance:     1.5915 angs      0.60969 eV                                                             \n",
      "               Bond distance:     1.6444 angs      0.80427 eV                                                             \n",
      "               Bond distance:     1.6973 angs      1.00788 eV                                                             \n",
      "               Bond distance:     1.7503 angs      1.21606 eV                                                             \n",
      "               Bond distance:     1.8032 angs      1.42556 eV                                                             \n",
      "               Bond distance:     1.8561 angs      1.63464 eV                                                             \n",
      "               Bond distance:     1.9090 angs      1.84150 eV                                                             \n",
      "               Bond distance:     1.9619 angs      2.04471 eV                                                             \n",
      "               Bond distance:     2.0148 angs      2.24327 eV                                                             \n",
      "               Bond distance:     2.0678 angs      2.43647 eV                                                             \n",
      "               Bond distance:     2.1207 angs      2.62367 eV                                                             \n",
      "               Bond distance:     2.1736 angs      2.80427 eV                                                             \n",
      "               Bond distance:     2.2265 angs      2.97812 eV                                                             \n",
      "               Bond distance:     2.2794 angs      3.14527 eV                                                             \n",
      "               Bond distance:     2.3324 angs      3.30559 eV                                                             \n",
      "                                                                                                                          \n",
      "                                                                                                                          \n",
      "                                                   Numerov Driver Setup                                                   \n",
      "                                                  ======================                                                  \n",
      "                                                                                                                          \n",
      "                                         Number of Vibrational States : 15                                                \n",
      "                                         Energy Convergence Threshold : 1.0e-12                                           \n",
      "                                         Max. Number of Iterations    : 1000                                              \n",
      "                                         Grid Points per Bohr Radius  : 500                                               \n",
      "                                         Margin right of scanned PEC  : 1.50                                              \n",
      "                                         Margin left of scanned PEC   : 0.50                                              \n",
      "                                                                                                                          \n",
      "               *** Vibronic state 0 converged in 90 iterations                                                            \n",
      "               *** Vibronic state 1 converged in 168 iterations                                                           \n",
      "               *** Vibronic state 2 converged in 156 iterations                                                           \n",
      "               *** Vibronic state 3 converged in 154 iterations                                                           \n",
      "               *** Vibronic state 4 converged in 162 iterations                                                           \n",
      "               *** Vibronic state 5 converged in 169 iterations                                                           \n",
      "               *** Vibronic state 6 converged in 124 iterations                                                           \n",
      "               *** Vibronic state 7 converged in 133 iterations                                                           \n",
      "               *** Vibronic state 8 converged in 133 iterations                                                           \n",
      "               *** Vibronic state 9 converged in 128 iterations                                                           \n",
      "               *** Vibronic state 10 converged in 137 iterations                                                          \n",
      "               *** Vibronic state 11 converged in 118 iterations                                                          \n",
      "               *** Vibronic state 12 converged in 125 iterations                                                          \n",
      "               *** Vibronic state 13 converged in 105 iterations                                                          \n",
      "               *** Vibronic state 14 converged in 123 iterations                                                          \n",
      "                                                                                                                          \n",
      "               *** All vibronic states converged for the initial electronic state                                         \n",
      "                                                                                                                          \n",
      "               Rovibronic IR Spectrum                                                                                     \n",
      "               ----------------------                                                                                     \n",
      "                           Excitation energy    Oscillator strength                                                       \n",
      "               P Branch                                                                                                   \n",
      "                                2711.26 cm-1            4.00736e-09                                                       \n",
      "                                2691.71 cm-1            5.53061e-09                                                       \n",
      "                                2672.16 cm-1            5.83444e-09                                                       \n",
      "                                2652.62 cm-1            5.14370e-09                                                       \n",
      "                                2633.07 cm-1            3.92274e-09                                                       \n",
      "                                2613.52 cm-1            2.63231e-09                                                       \n",
      "                                2593.97 cm-1            1.56933e-09                                                       \n",
      "                                2574.43 cm-1            8.36248e-10                                                       \n",
      "                                2554.88 cm-1            3.99885e-10                                                       \n",
      "                                2535.33 cm-1            1.72080e-10                                                       \n",
      "                                2515.78 cm-1            6.67727e-11                                                       \n",
      "                                2496.24 cm-1            2.33994e-11                                                       \n",
      "                                2476.69 cm-1            7.41405e-12                                                       \n",
      "                                2457.14 cm-1            2.12593e-12                                                       \n",
      "               Q Branch                                                                                                   \n",
      "                                2730.81 cm-1            6.02968e-08                                                       \n",
      "               R Branch                                                                                                   \n",
      "                                2750.36 cm-1            1.39977e-09                                                       \n",
      "                                2769.90 cm-1            3.82130e-09                                                       \n",
      "                                2789.45 cm-1            5.27383e-09                                                       \n",
      "                                2809.00 cm-1            5.56356e-09                                                       \n",
      "                                2828.55 cm-1            4.90488e-09                                                       \n",
      "                                2848.09 cm-1            3.74061e-09                                                       \n",
      "                                2867.64 cm-1            2.51009e-09                                                       \n",
      "                                2887.19 cm-1            1.49647e-09                                                       \n",
      "                                2906.74 cm-1            7.97422e-10                                                       \n",
      "                                2926.28 cm-1            3.81319e-10                                                       \n",
      "                                2945.83 cm-1            1.64090e-10                                                       \n",
      "                                2965.38 cm-1            6.36725e-11                                                       \n",
      "                                2984.93 cm-1            2.23130e-11                                                       \n",
      "                                3004.47 cm-1            7.06982e-12                                                       \n",
      "                                3024.02 cm-1            2.02723e-12                                                       \n",
      "                                                                                                                          \n"
     ]
    }
   ],
   "source": [
    "numerov_settings = {\n",
    "    \"n_vib_states\": 15,\n",
    "    \"pec_displacements\": \"-0.7 - 2.0 (0.1)\",\n",
    "    \"el_transition\": \"no\",\n",
    "    \"pec_potential\": \"morse\",\n",
    "    \"n_rot_states\": 15,\n",
    "}\n",
    "num_drv.update_settings(numerov_settings, scf_settings, method_settings)\n",
    "num_results = num_drv.compute(molecule, basis)"
   ]
  },
  {
   "cell_type": "markdown",
   "metadata": {},
   "source": [
    "The results are stored in a dictionary."
   ]
  },
  {
   "cell_type": "code",
   "execution_count": 71,
   "metadata": {},
   "outputs": [
    {
     "name": "stdout",
     "output_type": "stream",
     "text": [
      "dict_keys(['grid', 'potential', 'psi', 'vib_levels', 'excitation_energies', 'oscillator_strengths'])\n"
     ]
    }
   ],
   "source": [
    "print(num_results.keys())"
   ]
  },
  {
   "cell_type": "code",
   "execution_count": 72,
   "metadata": {},
   "outputs": [],
   "source": [
    "grid = num_results[\"grid\"]\n",
    "potential = num_results[\"potential\"]\n",
    "psi = num_results[\"psi\"]\n",
    "vib_levels = num_results[\"vib_levels\"]\n",
    "displacements = num_drv.pec_displacements\n",
    "energies = num_drv.pec_energies[\"i\"]\n",
    "psi_squared = psi**2\n",
    "exc = num_results[\"excitation_energies\"]\n",
    "osc = num_results[\"oscillator_strengths\"]"
   ]
  },
  {
   "cell_type": "markdown",
   "metadata": {},
   "source": [
    "The vibrational levels can be plotted against the potential energy curve."
   ]
  },
  {
   "cell_type": "code",
   "execution_count": 80,
   "metadata": {},
   "outputs": [
    {
     "data": {
      "image/png": "[encoded data removed]",
      "text/plain": [
       "<Figure size 432x288 with 1 Axes>"
      ]
     },
     "metadata": {
      "needs_background": "light"
     },
     "output_type": "display_data"
    }
   ],
   "source": [
    "fig, ax1 = plt.subplots()\n",
    "\n",
    "for i in range(len(psi_squared)):\n",
    "    ax1.plot(grid, [float(x) + vib_levels[i] for x in psi_squared[i]], \"k\")\n",
    "\n",
    "ax = plt.subplot()\n",
    "ax.plot(grid, potential)\n",
    "ax.set_ylim(-0.01, vib_levels[-1])\n",
    "ax.set_xlabel(\"Displacements [Å] respect to the input structure\")\n",
    "ax.set_ylabel(\"Energy [a.u.]\")\n",
    "\n",
    "plt.show()"
   ]
  },
  {
   "cell_type": "markdown",
   "metadata": {},
   "source": [
    "## Rovibrational spectra\n",
    "\n",
    "Once we have the vibrational wave functions we can calculate the dipole transition moments\n",
    "\n",
    "$$ \n",
    "\\mu^{fi} = \\langle \\nu_{f} | \\mu^\\mathrm{e}(R) | \\nu_{i} \\rangle\n",
    "$$\n",
    "\n",
    "where $\\mu^\\mathrm{e}(R)$ is the dipole moment at internuclear separation distance $R$.\n",
    "\n",
    "Only the first transition dipole moment (corresponding to the Q-branch) is relevant and the rest are negligible. We will obtain the fine structure by deriving the rotational excited states for the R and P branches.\n",
    "\n",
    "Applying the rotational selection rules derived for linear molecules, we get the P-branch\n",
    "\n",
    "$$ \n",
    "E = \\hbar \\omega_{\\text{stretch}} + \\left( \\dfrac{h^2}{8\\pi^2I} \\right)((L - 1)L - L(L + 1)) = \\hbar \\omega_{\\text{stretch}} -2\\left( \\dfrac{h^2}{8\\pi^2 I} \\right)L \n",
    "$$\n",
    "\n",
    "and the R-branch\n",
    "\n",
    "$$\n",
    "E = \\hbar \\omega_{\\text{stretch}} + \\left( \\dfrac{h^2}{8\\pi^2I} \\right)((L+1)(L+2) - L(L + 1)) = \\hbar \\omega_{\\text{stretch}} + 2\\left( \\dfrac{h^2}{8\\pi^2I} \\right)(L + 1) $$\n",
    "\n",
    "where\n",
    "\n",
    "$$ \n",
    "I = \\frac{m_a m_b}{m_a + m_b} R^2 \n",
    "$$ \n",
    "\n",
    "VeloxChem takes care of the spectra and the branches storing the data on the keys: `excitation_energies` and `oscillator_strengths`.\n",
    "\n",
    "As well, computes the dipole moment for every point of the potential energy curve"
   ]
  },
  {
   "cell_type": "code",
   "execution_count": 78,
   "metadata": {},
   "outputs": [
    {
     "data": {
      "image/png": "[encoded data removed]",
      "text/plain": [
       "<Figure size 432x288 with 1 Axes>"
      ]
     },
     "metadata": {
      "needs_background": "light"
     },
     "output_type": "display_data"
    }
   ],
   "source": [
    "ax1 = plt.bar(exc[\"P\"], osc[\"P\"], width=5.0)\n",
    "ax2 = plt.bar(exc[\"R\"], osc[\"R\"], width=5.0)\n",
    "branches = (ax1, ax2)\n",
    "labels = list({\"P-branch\", \"R-branch\"})\n",
    "plt.xlabel(\"Excitation energies in cm-1\")\n",
    "plt.ylabel(\"Oscillator strength\")\n",
    "plt.legend(branches, labels)\n",
    "\n",
    "plt.show()"
   ]
  },
  {
   "cell_type": "markdown",
   "metadata": {},
   "source": [
    "## Rovibronic transitions: UV spectrum\n",
    "\n",
    "In this case, we want to consider the transition dipole moments between rovibrational states in different electronic states. The expression for the transition dipole integral in this case will involve different electronic states, so it's in essence, a generalization of the expression for the vibrational transition dipole moment.\n",
    "\n",
    "The electronic transition dipole moment equals\n",
    "\n",
    "$$ \n",
    "\\mu^{fi}(R) = \\langle \\psi^\\mathrm{e}_{f} | \\hat{\\mu} | \\psi^\\mathrm{e}_{i} \\rangle\n",
    "$$\n",
    "\n",
    "where $\\psi^\\mathrm{e}_{f}$ and $\\psi^\\mathrm{e}_{i}$ are the final and initial electronic wave function, respectively. \n",
    "\n",
    "Expanding the transition moment in a power series about the equilibrium distance, we get\n",
    "\n",
    "$$ \\mu_{f,i}(\\textbf{R}) = \\mu_{f,i}(\\textbf{R}_e) + \\sum\\limits_a \\dfrac{\\partial \\mu_{f,i}}{\\partial R_a} (R_a - R_{a,e}) + \\cdots . $$ \n",
    "\n",
    "Now, by truncating this expression in the first term we get the so called Frank-Condon approximation. We could also include the second term with is reffered as the Herzberg-Teller correction. But for out purposes we will go with the Frank-Condon approximation. <br />\n",
    "In that framework, transition energies can be obtained as: <br />\n",
    "$$ f_{if} = \\frac{2}{3} \\omega_{nl} \\sum_{\\alpha}^{x,y,z} | \\langle \\phi_n \\langle \\psi_i | \\mu_{\\alpha} | \\psi_f \\rangle \\phi'_l \\rangle |^2   $$\n",
    "Being $\\psi_i,\\psi_f$ the initial and final electronic wavefunctions <br />\n",
    "And $\\phi_n, \\phi'_l$ the vibrational wavefunctions of the initial and final electronic states  <br />"
   ]
  },
  {
   "cell_type": "markdown",
   "metadata": {},
   "source": [
    "Now, the only difference with respect to the pure rovibrational spectrum is that we are going to include an excited state"
   ]
  },
  {
   "cell_type": "code",
   "execution_count": 79,
   "metadata": {},
   "outputs": [
    {
     "name": "stdout",
     "output_type": "stream",
     "text": [
      "                                                                                                                          \n",
      "                                           Potential Energy Curve Driver Setup                                            \n",
      "                                          =====================================                                           \n",
      "                                                                                                                          \n",
      "                              Number of Geometries          : 28                                                          \n",
      "                              Wave Function Model           : Spin-Unrestricted Kohn-Sham                                 \n",
      "                              SCF Convergece Threshold      : 1.0e-06                                                     \n",
      "                              DFT Functional                : B3LYP                                                       \n",
      "                              Molecular Grid Level          : 4                                                           \n",
      "                              Targeted Exicted State        : 2                                                           \n",
      "                              Excited State Threshold       : 1.0e-04                                                     \n",
      "                                                                                                                          \n",
      "               *** Geometry 1/28:  Initial state converged,  Final state converged                                        \n",
      "               *** Geometry 2/28:  Initial state converged,  Final state converged                                        \n",
      "               *** Geometry 3/28:  Initial state converged,  Final state converged                                        \n",
      "               *** Geometry 4/28:  Initial state converged,  Final state converged                                        \n",
      "               *** Geometry 5/28:  Initial state converged,  Final state converged                                        \n",
      "               *** Geometry 6/28:  Initial state converged,  Final state converged                                        \n",
      "               *** Geometry 7/28:  Initial state converged,  Final state converged                                        \n",
      "               *** Geometry 8/28:  Initial state converged,  Final state converged                                        \n",
      "               *** Geometry 9/28:  Initial state converged,  Final state converged                                        \n",
      "               *** Geometry 10/28:  Initial state converged,  Final state converged                                       \n",
      "               *** Geometry 11/28:  Initial state converged,  Final state converged                                       \n",
      "               *** Geometry 12/28:  Initial state converged,  Final state converged                                       \n",
      "               *** Geometry 13/28:  Initial state converged,  Final state converged                                       \n",
      "               *** Geometry 14/28:  Initial state converged,  Final state converged                                       \n",
      "               *** Geometry 15/28:  Initial state converged,  Final state converged                                       \n",
      "               *** Geometry 16/28:  Initial state converged,  Final state converged                                       \n",
      "               *** Geometry 17/28:  Initial state converged,  Final state converged                                       \n",
      "               *** Geometry 18/28:  Initial state converged,  Final state converged                                       \n",
      "               *** Geometry 19/28:  Initial state converged,  Final state converged                                       \n",
      "               *** Geometry 20/28:  Initial state converged,  Final state converged                                       \n",
      "               *** Geometry 21/28:  Initial state converged,  Final state converged                                       \n",
      "               *** Geometry 22/28:  Initial state converged,  Final state converged                                       \n",
      "               *** Geometry 23/28:  Initial state converged,  Final state converged                                       \n",
      "               *** Geometry 24/28:  Initial state converged,  Final state converged                                       \n",
      "               *** Geometry 25/28:  Initial state converged,  Final state converged                                       \n",
      "               *** Geometry 26/28:  Initial state converged,  Final state converged                                       \n",
      "               *** Geometry 27/28:  Initial state converged,  Final state converged                                       \n",
      "               *** Geometry 28/28:  Initial state converged,  Final state converged                                       \n",
      "                                                                                                                          \n",
      "               Potential Energy Curve Information                                                                         \n",
      "               ----------------------------------                                                                         \n",
      "                                               rel. GS energy  rel. ES energy                                             \n",
      "               Bond distance:     0.9036 angs      5.68241 eV     16.00175 eV                                             \n",
      "               Bond distance:     0.9565 angs      3.81796 eV     14.09261 eV                                             \n",
      "               Bond distance:     1.0094 angs      2.47425 eV     12.70655 eV                                             \n",
      "               Bond distance:     1.0623 angs      1.51382 eV     11.70482 eV                                             \n",
      "               Bond distance:     1.1152 angs      0.85345 eV     11.00173 eV                                             \n",
      "               Bond distance:     1.1682 angs      0.42410 eV     10.52228 eV                                             \n",
      "               Bond distance:     1.2211 angs      0.16198 eV     10.18858 eV                                             \n",
      "               Bond distance:     1.2740 angs      0.03092 eV      9.94565 eV                                             \n",
      "               Bond distance:     1.3269 angs      0.00000 eV      9.77834 eV                                             \n",
      "               Bond distance:     1.3798 angs      0.03972 eV      9.69357 eV                                             \n",
      "               Bond distance:     1.4328 angs      0.13267 eV      9.68542 eV                                             \n",
      "               Bond distance:     1.4857 angs      0.26646 eV      9.73875 eV                                             \n",
      "               Bond distance:     1.5386 angs      0.42875 eV      9.83600 eV                                             \n",
      "               Bond distance:     1.5915 angs      0.60969 eV      9.96287 eV                                             \n",
      "               Bond distance:     1.6444 angs      0.80427 eV     10.11118 eV                                             \n",
      "               Bond distance:     1.6973 angs      1.00788 eV     10.37408 eV                                             \n",
      "               Bond distance:     1.7503 angs      1.21606 eV     10.44543 eV                                             \n",
      "               Bond distance:     1.8032 angs      1.42556 eV     10.62116 eV                                             \n",
      "               Bond distance:     1.8561 angs      1.63464 eV     10.79876 eV                                             \n",
      "               Bond distance:     1.9090 angs      1.84150 eV     10.97595 eV                                             \n",
      "               Bond distance:     1.9619 angs      2.04471 eV     11.15095 eV                                             \n",
      "               Bond distance:     2.0148 angs      2.24327 eV     11.32257 eV                                             \n",
      "               Bond distance:     2.0678 angs      2.43647 eV     11.48995 eV                                             \n",
      "               Bond distance:     2.1207 angs      2.62367 eV     11.65227 eV                                             \n",
      "               Bond distance:     2.1736 angs      2.80427 eV     11.80884 eV                                             \n",
      "               Bond distance:     2.2265 angs      2.97812 eV     11.95941 eV                                             \n",
      "               Bond distance:     2.2794 angs      3.14527 eV     12.10401 eV                                             \n",
      "               Bond distance:     2.3324 angs      3.30559 eV     12.24245 eV                                             \n",
      "                                                                                                                          \n",
      "                                                                                                                          \n",
      "                                                   Numerov Driver Setup                                                   \n",
      "                                                  ======================                                                  \n",
      "                                                                                                                          \n",
      "                                         Number of Vibrational States : 10                                                \n",
      "                                         Energy Convergence Threshold : 1.0e-12                                           \n",
      "                                         Max. Number of Iterations    : 1000                                              \n",
      "                                         Grid Points per Bohr Radius  : 500                                               \n",
      "                                         Margin right of scanned PEC  : 1.50                                              \n",
      "                                         Margin left of scanned PEC   : 0.50                                              \n",
      "                                                                                                                          \n",
      "               *** Vibronic state 0 converged in 83 iterations                                                            \n",
      "               *** Vibronic state 1 converged in 166 iterations                                                           \n",
      "               *** Vibronic state 2 converged in 162 iterations                                                           \n",
      "               *** Vibronic state 3 converged in 146 iterations                                                           \n",
      "               *** Vibronic state 4 converged in 162 iterations                                                           \n",
      "               *** Vibronic state 5 converged in 166 iterations                                                           \n",
      "               *** Vibronic state 6 converged in 128 iterations                                                           \n",
      "               *** Vibronic state 7 converged in 135 iterations                                                           \n",
      "               *** Vibronic state 8 converged in 142 iterations                                                           \n",
      "               *** Vibronic state 9 converged in 128 iterations                                                           \n",
      "                                                                                                                          \n",
      "               *** All vibronic states converged for the initial electronic state                                         \n",
      "                                                                                                                          \n",
      "               *** Vibronic state 0 converged in 107 iterations                                                           \n",
      "               *** Vibronic state 1 converged in 150 iterations                                                           \n",
      "               *** Vibronic state 2 converged in 151 iterations                                                           \n",
      "               *** Vibronic state 3 converged in 138 iterations                                                           \n",
      "               *** Vibronic state 4 converged in 137 iterations                                                           \n",
      "               *** Vibronic state 5 converged in 125 iterations                                                           \n",
      "               *** Vibronic state 6 converged in 135 iterations                                                           \n",
      "               *** Vibronic state 7 converged in 135 iterations                                                           \n",
      "               *** Vibronic state 8 converged in 114 iterations                                                           \n",
      "               *** Vibronic state 9 converged in 126 iterations                                                           \n",
      "                                                                                                                          \n",
      "               *** All vibronic states converged for the final electronic state                                           \n",
      "                                                                                                                          \n",
      "               UV/vis Absorption/Emission Spectrum                                                                        \n",
      "               -----------------------------------                                                                        \n",
      "                             Excitation energy    Oscillator strength                                                     \n",
      "               Absorption                                                                                                 \n",
      "                                 78549.62 cm-1            2.90688e-01                                                     \n",
      "                                 80930.00 cm-1            3.13498e-02                                                     \n",
      "                                 83217.43 cm-1            7.98128e-04                                                     \n",
      "                                 85411.91 cm-1            2.43094e-04                                                     \n",
      "                                 87513.43 cm-1            4.10661e-04                                                     \n",
      "                                 89522.00 cm-1            1.76387e-04                                                     \n",
      "                                 91437.61 cm-1            2.64359e-05                                                     \n",
      "                                 93260.27 cm-1            5.31594e-07                                                     \n",
      "                                 94989.97 cm-1            1.44926e-05                                                     \n",
      "                                 96626.72 cm-1            2.18005e-05                                                     \n",
      "               Emission                                                                                                   \n",
      "                                 78549.62 cm-1            2.90688e-01                                                     \n",
      "                                 75818.81 cm-1            7.33952e-02                                                     \n",
      "                                 73191.54 cm-1            1.46006e-03                                                     \n",
      "                                 70667.81 cm-1            3.37681e-05                                                     \n",
      "                                 68247.61 cm-1            7.25834e-06                                                     \n",
      "                                 65930.96 cm-1            1.30833e-05                                                     \n",
      "                                 63717.84 cm-1            6.58211e-06                                                     \n",
      "                                 61608.26 cm-1            1.11715e-06                                                     \n",
      "                                 59602.22 cm-1            1.97324e-08                                                     \n",
      "                                 57699.71 cm-1            6.15698e-07                                                     \n",
      "                                                                                                                          \n"
     ]
    }
   ],
   "source": [
    "numerov_settings = {\n",
    "    \"n_vib_states\": 10,\n",
    "    \"pec_displacements\": \"-0.7 - 2.0 (0.1)\",\n",
    "    \"el_transition\": \"yes\",\n",
    "    \"final_el_state\": 2,\n",
    "    \"pec_potential\": \"morse\",\n",
    "}\n",
    "num_drv.update_settings(numerov_settings, scf_settings, method_settings)\n",
    "num_results = num_drv.compute(molecule, basis)"
   ]
  },
  {
   "cell_type": "markdown",
   "metadata": {},
   "source": [
    "The results will be stored as keys that we can see here:"
   ]
  },
  {
   "cell_type": "code",
   "execution_count": 52,
   "metadata": {},
   "outputs": [
    {
     "name": "stdout",
     "output_type": "stream",
     "text": [
      "dict_keys(['grid', 'i_potential', 'i_psi', 'i_vib_levels', 'f_potential', 'f_psi', 'f_vib_levels', 'excitation_energies', 'oscillator_strengths'])\n"
     ]
    }
   ],
   "source": [
    "print(num_results.keys())"
   ]
  },
  {
   "cell_type": "markdown",
   "metadata": {},
   "source": [
    "We store the results in variables:"
   ]
  },
  {
   "cell_type": "code",
   "execution_count": 53,
   "metadata": {},
   "outputs": [],
   "source": [
    "grid = num_results[\"grid\"]\n",
    "gs_potential = num_results[\"i_potential\"]\n",
    "gs_psi = num_results[\"i_psi\"]\n",
    "gs_vib_levels = num_results[\"i_vib_levels\"]\n",
    "es_potential = num_results[\"f_potential\"]\n",
    "es_psi = num_results[\"f_psi\"]\n",
    "es_vib_levels = num_results[\"f_vib_levels\"]\n",
    "\n",
    "exc = num_results[\"excitation_energies\"]\n",
    "osc = num_results[\"oscillator_strengths\"]"
   ]
  },
  {
   "cell_type": "markdown",
   "metadata": {},
   "source": [
    "For the purposes of the representation of the vibrational levels in both electronic states we will store also this variables:"
   ]
  },
  {
   "cell_type": "code",
   "execution_count": 54,
   "metadata": {},
   "outputs": [],
   "source": [
    "displacements = num_drv.pec_displacements\n",
    "gs_energies = num_drv.pec_energies[\"i\"]\n",
    "es_energies = num_drv.pec_energies[\"f\"]\n",
    "\n",
    "# relative potentials:\n",
    "rel_es_potential = es_potential + (np.min(es_energies) - np.min(gs_energies))\n",
    "\n",
    "# relative excited state vibrational levels:\n",
    "rel_es_vib_levels = es_vib_levels + (np.min(es_energies) - np.min(gs_energies))\n",
    "\n",
    "gs_psi_squared = gs_psi**2\n",
    "es_psi_squared = es_psi**2"
   ]
  },
  {
   "cell_type": "markdown",
   "metadata": {},
   "source": [
    "The vibrational levels can be then plotted against the potential energy curves:"
   ]
  },
  {
   "cell_type": "code",
   "execution_count": 55,
   "metadata": {},
   "outputs": [
    {
     "data": {
      "image/png": "[encoded data removed]",
      "text/plain": [
       "<Figure size 432x288 with 1 Axes>"
      ]
     },
     "metadata": {
      "needs_background": "light"
     },
     "output_type": "display_data"
    }
   ],
   "source": [
    "fig, ax1 = plt.subplots()\n",
    "for i in range(len(gs_psi_squared)):\n",
    "    ax1.plot(grid, [float(x) + gs_vib_levels[i] for x in gs_psi_squared[i]], \"k\")\n",
    "    ax1.plot(grid, [float(x) + rel_es_vib_levels[i] for x in es_psi_squared[i]], \"k\")\n",
    "\n",
    "ax = plt.subplot()\n",
    "ax.plot(grid, gs_potential)\n",
    "ax.plot(grid, rel_es_potential)\n",
    "ax.set_ylim(-0.01, rel_es_vib_levels[-1] + 0.05)\n",
    "ax.set_xlabel(\"Displacements in Å respect to the input distance\")\n",
    "ax.set_ylabel(\"Energy in a.u.\")\n",
    "\n",
    "plt.show()"
   ]
  },
  {
   "cell_type": "markdown",
   "metadata": {},
   "source": [
    "Now we can just plot the spectrum by representing the results from the driver:"
   ]
  },
  {
   "cell_type": "code",
   "execution_count": 56,
   "metadata": {},
   "outputs": [
    {
     "data": {
      "image/png": "[encoded data removed]",
      "text/plain": [
       "<Figure size 432x288 with 1 Axes>"
      ]
     },
     "metadata": {
      "needs_background": "light"
     },
     "output_type": "display_data"
    }
   ],
   "source": [
    "plt.bar(exc[\"absorption\"], osc[\"absorption\"], width=500.0, label=\"absorption\")\n",
    "plt.bar(exc[\"emission\"], osc[\"emission\"], width=500.0, label=\"emission\")\n",
    "\n",
    "plt.legend(labels)\n",
    "plt.xlabel(\"Excitation energies in cm-1\")\n",
    "plt.ylabel(\"Oscillator strength\")\n",
    "\n",
    "plt.show()"
   ]
  },
  {
   "cell_type": "markdown",
   "metadata": {},
   "source": [
    "## User defined potential\n",
    "\n",
    "If you want to just explore the equations and have your own potentials and transition moments you can define them by using the method `read_pec_data` from the Numerov driver to get the wavefunctions and compute the UV spectrum as follows: "
   ]
  },
  {
   "cell_type": "code",
   "execution_count": 57,
   "metadata": {},
   "outputs": [],
   "source": [
    "num_drv = vlx.NumerovDriver()"
   ]
  },
  {
   "cell_type": "markdown",
   "metadata": {},
   "source": [
    "Definition of the user potentials: In this example we will use two harmonic potentials and a linear polarization with respect to the nuclear displacement."
   ]
  },
  {
   "cell_type": "code",
   "execution_count": 58,
   "metadata": {},
   "outputs": [],
   "source": [
    "new_bond_lengths = np.arange(-0.7, 2.01, 0.1)\n",
    "new_gs_energies = [0.75 * x**2 for x in new_bond_lengths]\n",
    "new_es_energies = [0.5 * (x - 0.35) ** 2 + 0.4 for x in new_bond_lengths]\n",
    "new_properties = [[0, 0.1, 0.1] for x in new_bond_lengths]"
   ]
  },
  {
   "cell_type": "markdown",
   "metadata": {},
   "source": [
    "Also we will use an example reduced mass of 1 and to the bond lenghts we will add 2 Å to the right to account the shift between the ground and excited electronic states:"
   ]
  },
  {
   "cell_type": "code",
   "execution_count": 59,
   "metadata": {},
   "outputs": [],
   "source": [
    "num_drv.read_pec_data(\n",
    "    new_bond_lengths + 2.0, new_properties, new_gs_energies, new_es_energies\n",
    ")\n",
    "num_drv.set_reduced_mass(1)\n",
    "numerov_settings = {\n",
    "    \"n_vib_states\": 10,\n",
    "    \"el_transition\": \"yes\",\n",
    "    \"final_el_state\": 1,\n",
    "    \"pec_potential\": \"harmonic\",\n",
    "}\n",
    "num_drv.update_settings(numerov_settings, scf_settings, method_settings)"
   ]
  },
  {
   "cell_type": "code",
   "execution_count": 60,
   "metadata": {},
   "outputs": [
    {
     "name": "stdout",
     "output_type": "stream",
     "text": [
      "                                                                                                                          \n",
      "                                                   Numerov Driver Setup                                                   \n",
      "                                                  ======================                                                  \n",
      "                                                                                                                          \n",
      "                                         Number of Vibrational States : 10                                                \n",
      "                                         Energy Convergence Threshold : 1.0e-12                                           \n",
      "                                         Max. Number of Iterations    : 1000                                              \n",
      "                                         Grid Points per Bohr Radius  : 500                                               \n",
      "                                         Margin right of scanned PEC  : 1.50                                              \n",
      "                                         Margin left of scanned PEC   : 0.50                                              \n",
      "                                                                                                                          \n",
      "               *** Vibronic state 0 converged in 120 iterations                                                           \n",
      "               *** Vibronic state 1 converged in 194 iterations                                                           \n",
      "               *** Vibronic state 2 converged in 193 iterations                                                           \n",
      "               *** Vibronic state 3 converged in 190 iterations                                                           \n",
      "               *** Vibronic state 4 converged in 191 iterations                                                           \n",
      "               *** Vibronic state 5 converged in 187 iterations                                                           \n",
      "               *** Vibronic state 6 converged in 188 iterations                                                           \n",
      "               *** Vibronic state 7 converged in 194 iterations                                                           \n",
      "               *** Vibronic state 8 converged in 195 iterations                                                           \n",
      "               *** Vibronic state 9 converged in 200 iterations                                                           \n",
      "                                                                                                                          \n",
      "               *** All vibronic states converged for the initial electronic state                                         \n",
      "                                                                                                                          \n",
      "               *** Vibronic state 0 converged in 103 iterations                                                           \n",
      "               *** Vibronic state 1 converged in 172 iterations                                                           \n",
      "               *** Vibronic state 2 converged in 167 iterations                                                           \n",
      "               *** Vibronic state 3 converged in 170 iterations                                                           \n",
      "               *** Vibronic state 4 converged in 170 iterations                                                           \n",
      "               *** Vibronic state 5 converged in 167 iterations                                                           \n",
      "               *** Vibronic state 6 converged in 172 iterations                                                           \n",
      "               *** Vibronic state 7 converged in 173 iterations                                                           \n",
      "               *** Vibronic state 8 converged in 171 iterations                                                           \n",
      "               *** Vibronic state 9 converged in 167 iterations                                                           \n",
      "                                                                                                                          \n",
      "               *** All vibronic states converged for the final electronic state                                           \n",
      "                                                                                                                          \n",
      "               UV/vis Absorption/Emission Spectrum                                                                        \n",
      "               -----------------------------------                                                                        \n",
      "                             Excitation energy    Oscillator strength                                                     \n",
      "               Absorption                                                                                                 \n",
      "                                 87209.80 cm-1            2.28498e-05                                                     \n",
      "                                 89930.03 cm-1            1.41158e-04                                                     \n",
      "                                 92650.26 cm-1            4.21033e-04                                                     \n",
      "                                 95370.49 cm-1            8.07088e-04                                                     \n",
      "                                 98090.72 cm-1            1.11638e-03                                                     \n",
      "                                100810.95 cm-1            1.18593e-03                                                     \n",
      "                                103531.17 cm-1            1.00529e-03                                                     \n",
      "                                106251.40 cm-1            6.97370e-04                                                     \n",
      "                                108971.63 cm-1            4.02758e-04                                                     \n",
      "                                111691.86 cm-1            1.95937e-04                                                     \n",
      "               Emission                                                                                                   \n",
      "                                 87209.80 cm-1            2.28498e-05                                                     \n",
      "                                 83878.22 cm-1            1.07498e-04                                                     \n",
      "                                 80546.63 cm-1            2.63000e-04                                                     \n",
      "                                 77215.04 cm-1            4.45018e-04                                                     \n",
      "                                 73883.46 cm-1            5.84568e-04                                                     \n",
      "                                 70551.87 cm-1            6.34554e-04                                                     \n",
      "                                 67220.29 cm-1            5.91832e-04                                                     \n",
      "                                 63888.70 cm-1            4.86979e-04                                                     \n",
      "                                 60557.11 cm-1            3.60294e-04                                                     \n",
      "                                 57225.53 cm-1            2.43116e-04                                                     \n",
      "                                                                                                                          \n"
     ]
    }
   ],
   "source": [
    "model_results = num_drv.compute()"
   ]
  },
  {
   "cell_type": "markdown",
   "metadata": {},
   "source": [
    "As usual we store the results in variables:"
   ]
  },
  {
   "cell_type": "code",
   "execution_count": 61,
   "metadata": {},
   "outputs": [],
   "source": [
    "grid = model_results[\"grid\"]\n",
    "gs_potential = model_results[\"i_potential\"]\n",
    "gs_psi = model_results[\"i_psi\"]\n",
    "gs_vib_levels = model_results[\"i_vib_levels\"]\n",
    "es_potential = model_results[\"f_potential\"]\n",
    "es_psi = model_results[\"f_psi\"]\n",
    "es_vib_levels = model_results[\"f_vib_levels\"]\n",
    "\n",
    "exc = model_results[\"excitation_energies\"]\n",
    "osc = model_results[\"oscillator_strengths\"]"
   ]
  },
  {
   "cell_type": "code",
   "execution_count": 62,
   "metadata": {},
   "outputs": [],
   "source": [
    "displacements = num_drv.pec_displacements\n",
    "gs_energies = num_drv.pec_energies[\"i\"]\n",
    "es_energies = num_drv.pec_energies[\"f\"]\n",
    "\n",
    "# relative potentials:\n",
    "rel_es_potential = es_potential + (np.min(es_energies) - np.min(gs_energies))\n",
    "\n",
    "# relative excited state vibrational levels:\n",
    "rel_es_vib_levels = es_vib_levels + (np.min(es_energies) - np.min(gs_energies))\n",
    "\n",
    "gs_psi_squared = gs_psi**2\n",
    "es_psi_squared = es_psi**2"
   ]
  },
  {
   "cell_type": "markdown",
   "metadata": {},
   "source": [
    "We can now visualize the vibrational levels against the potential energy curves:"
   ]
  },
  {
   "cell_type": "code",
   "execution_count": 63,
   "metadata": {},
   "outputs": [
    {
     "data": {
      "image/png": "[encoded data removed]",
      "text/plain": [
       "<Figure size 432x288 with 1 Axes>"
      ]
     },
     "metadata": {
      "needs_background": "light"
     },
     "output_type": "display_data"
    }
   ],
   "source": [
    "fig, ax1 = plt.subplots()\n",
    "for i in range(len(gs_psi_squared)):\n",
    "\n",
    "    ax1.plot(grid, [float(x) + gs_vib_levels[i] for x in gs_psi_squared[i]], \"k\")\n",
    "    ax1.plot(grid, [float(x) + rel_es_vib_levels[i] for x in es_psi_squared[i]], \"k\")\n",
    "\n",
    "ax = plt.subplot()\n",
    "ax.plot(grid, gs_potential)\n",
    "ax.plot(grid, rel_es_potential)\n",
    "ax.set_ylim(-0.01, rel_es_vib_levels[-1] + 0.2)\n",
    "\n",
    "plt.show()"
   ]
  },
  {
   "cell_type": "markdown",
   "metadata": {},
   "source": [
    "And we plot the UV spectrum by using the results from the driver:"
   ]
  },
  {
   "cell_type": "code",
   "execution_count": 64,
   "metadata": {},
   "outputs": [
    {
     "data": {
      "image/png": "[encoded data removed]",
      "text/plain": [
       "<Figure size 432x288 with 1 Axes>"
      ]
     },
     "metadata": {
      "needs_background": "light"
     },
     "output_type": "display_data"
    }
   ],
   "source": [
    "plt.bar(exc[\"absorption\"], osc[\"absorption\"], width=500.0, label=\"Absorption\")\n",
    "plt.bar(exc[\"emission\"], osc[\"emission\"], width=500.0, label=\"Emission\")\n",
    "\n",
    "plt.legend(labels)\n",
    "plt.xlabel(\"Excitation energies in cm-1\")\n",
    "plt.ylabel(\"Oscillator strength\")\n",
    "\n",
    "plt.show()"
   ]
  }
 ],
 "metadata": {
  "interpreter": {
   "hash": "23e396ce4096c803c7e184f55666c6656fc0df990879cdc0e34924873c1d3ee4"
  },
  "kernelspec": {
   "display_name": "Python 3 (ipykernel)",
   "language": "python",
   "name": "python3"
  },
  "language_info": {
   "codemirror_mode": {
    "name": "ipython",
    "version": 3
   },
   "file_extension": ".py",
   "mimetype": "text/x-python",
   "name": "python",
   "nbconvert_exporter": "python",
   "pygments_lexer": "ipython3",
   "version": "3.7.12"
  }
 },
 "nbformat": 4,
 "nbformat_minor": 4
}
