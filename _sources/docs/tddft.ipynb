{
 "cells": [
  {
   "cell_type": "markdown",
   "id": "5fab0c09-0717-477e-b173-2ff05fa5942a",
   "metadata": {},
   "source": [
    "# TDDFT\n",
    "\n",
    "Time-dependent density functional theory (TDDFT) shares many aspects with time-dependent Hartree-Fock (TDHF) {cite}`Dreuw2005`, and the discussion here will thus focus more on what need to be additionally considered for TDDFT. We thus recommend going over the TDHF material presented in the previous section before studying the material presented here. A throrough discussion on single-reference methods can be found [here](https://pubs.acs.org/doi/10.1021/cr0505627)."
   ]
  },
  {
   "cell_type": "code",
   "execution_count": null,
   "id": "4504aedb-35d5-43f1-8aa1-d873d48c3fef",
   "metadata": {},
   "outputs": [],
   "source": []
  }
 ],
 "metadata": {
  "kernelspec": {
   "display_name": "Python 3 (ipykernel)",
   "language": "python",
   "name": "python3"
  },
  "language_info": {
   "codemirror_mode": {
    "name": "ipython",
    "version": 3
   },
   "file_extension": ".py",
   "mimetype": "text/x-python",
   "name": "python",
   "nbconvert_exporter": "python",
   "pygments_lexer": "ipython3",
   "version": "3.9.12"
  }
 },
 "nbformat": 4,
 "nbformat_minor": 5
}
