{
 "cells": [
  {
   "cell_type": "markdown",
   "id": "a7c75a4f",
   "metadata": {},
   "source": [
    "# Molecular structure and dynamics"
   ]
  },
  {
   "cell_type": "code",
   "execution_count": 1,
   "id": "d830a629-3b36-43e6-b496-e102041d1a8c",
   "metadata": {
    "tags": [
     "hide-input",
     "remove-output"
    ]
   },
   "outputs": [
    {
     "name": "stdout",
     "output_type": "stream",
     "text": [
      "* Warning * Environment variable OMP_NUM_THREADS not set.\n",
      "* Warning * Setting OMP_NUM_THREADS to 4.\n",
      "* Warning * Setting MKL_THREADING_LAYER to \"GNU\".\n"
     ]
    }
   ],
   "source": [
    "import matplotlib.pyplot as plt\n",
    "import numpy as np\n",
    "import py3Dmol\n",
    "import veloxchem as vlx\n",
    "from pyscf import gto, scf, tools"
   ]
  },
  {
   "cell_type": "markdown",
   "id": "3936f93d-f0df-4e33-bdf7-00663c61ad73",
   "metadata": {
    "tags": []
   },
   "source": [
    "## Molecular structure\n",
    "\n",
    "The structure of a molecular system can be visualized with `py3Dmol`, using an xyz-file:"
   ]
  },
  {
   "cell_type": "code",
   "execution_count": 2,
   "id": "7c4f8549-dd8a-4a04-8070-cad53ecff576",
   "metadata": {},
   "outputs": [
    {
     "data": {
      "application/3dmoljs_load.v0": "<div id=\"3dmolviewer_16540058568595803\"  style=\"position: relative; width: 400px; height: 300px\">\n        <p id=\"3dmolwarning_16540058568595803\" style=\"background-color:#ffcccc;color:black\">You appear to be running in JupyterLab (or JavaScript failed to load for some other reason).  You need to install the 3dmol extension: <br>\n        <tt>jupyter labextension install jupyterlab_3dmol</tt></p>\n        </div>\n<script>\n\nvar loadScriptAsync = function(uri){\n  return new Promise((resolve, reject) => {\n    var tag = document.createElement('script');\n    tag.src = uri;\n    tag.async = true;\n    tag.onload = () => {\n      resolve();\n    };\n  var firstScriptTag = document.getElementsByTagName('script')[0];\n  firstScriptTag.parentNode.insertBefore(tag, firstScriptTag);\n});\n};\n\nif(typeof $3Dmolpromise === 'undefined') {\n$3Dmolpromise = null;\n  $3Dmolpromise = loadScriptAsync('https://3dmol.org/build/3Dmol.js');\n}\n\nvar viewer_16540058568595803 = null;\nvar warn = document.getElementById(\"3dmolwarning_16540058568595803\");\nif(warn) {\n    warn.parentNode.removeChild(warn);\n}\n$3Dmolpromise.then(function() {\nviewer_16540058568595803 = $3Dmol.createViewer($(\"#3dmolviewer_16540058568595803\"),{backgroundColor:\"white\"});\nviewer_16540058568595803.zoomTo();\n\tviewer_16540058568595803.setViewStyle({\"style\": \"outline\", \"color\": \"black\", \"width\": 0.1});\n\tviewer_16540058568595803.addModel(\"15\\n*\\n C     0.095722    -0.037785    -1.093615\\n C    -0.011848     1.408694    -1.113404\\n C    -0.204706     2.048475     0.052807\\n N    -0.302595     1.390520     1.249226\\n C    -0.214596     0.023933     1.378238\\n N    -0.017387    -0.607231     0.171757\\n O     0.270287    -0.735594    -2.076393\\n C     0.098029     2.096194    -2.424990\\n H     1.052976     1.874860    -2.891573\\n H     0.002157     3.170639    -2.310554\\n H    -0.671531     1.743694    -3.104794\\n O    -0.301905    -0.554734     2.440234\\n H    -0.292790     3.119685     0.106201\\n H     0.053626    -1.612452     0.215637\\n H    -0.446827     1.892203     2.107092\\n\");\n\tviewer_16540058568595803.setStyle({\"stick\": {}});\n\tviewer_16540058568595803.rotate(-90,\"y\");\nviewer_16540058568595803.render();\n});\n</script>",
      "text/html": [
       "<div id=\"3dmolviewer_16540058568595803\"  style=\"position: relative; width: 400px; height: 300px\">\n",
       "        <p id=\"3dmolwarning_16540058568595803\" style=\"background-color:#ffcccc;color:black\">You appear to be running in JupyterLab (or JavaScript failed to load for some other reason).  You need to install the 3dmol extension: <br>\n",
       "        <tt>jupyter labextension install jupyterlab_3dmol</tt></p>\n",
       "        </div>\n",
       "<script>\n",
       "\n",
       "var loadScriptAsync = function(uri){\n",
       "  return new Promise((resolve, reject) => {\n",
       "    var tag = document.createElement('script');\n",
       "    tag.src = uri;\n",
       "    tag.async = true;\n",
       "    tag.onload = () => {\n",
       "      resolve();\n",
       "    };\n",
       "  var firstScriptTag = document.getElementsByTagName('script')[0];\n",
       "  firstScriptTag.parentNode.insertBefore(tag, firstScriptTag);\n",
       "});\n",
       "};\n",
       "\n",
       "if(typeof $3Dmolpromise === 'undefined') {\n",
       "$3Dmolpromise = null;\n",
       "  $3Dmolpromise = loadScriptAsync('https://3dmol.org/build/3Dmol.js');\n",
       "}\n",
       "\n",
       "var viewer_16540058568595803 = null;\n",
       "var warn = document.getElementById(\"3dmolwarning_16540058568595803\");\n",
       "if(warn) {\n",
       "    warn.parentNode.removeChild(warn);\n",
       "}\n",
       "$3Dmolpromise.then(function() {\n",
       "viewer_16540058568595803 = $3Dmol.createViewer($(\"#3dmolviewer_16540058568595803\"),{backgroundColor:\"white\"});\n",
       "viewer_16540058568595803.zoomTo();\n",
       "\tviewer_16540058568595803.setViewStyle({\"style\": \"outline\", \"color\": \"black\", \"width\": 0.1});\n",
       "\tviewer_16540058568595803.addModel(\"15\\n*\\n C     0.095722    -0.037785    -1.093615\\n C    -0.011848     1.408694    -1.113404\\n C    -0.204706     2.048475     0.052807\\n N    -0.302595     1.390520     1.249226\\n C    -0.214596     0.023933     1.378238\\n N    -0.017387    -0.607231     0.171757\\n O     0.270287    -0.735594    -2.076393\\n C     0.098029     2.096194    -2.424990\\n H     1.052976     1.874860    -2.891573\\n H     0.002157     3.170639    -2.310554\\n H    -0.671531     1.743694    -3.104794\\n O    -0.301905    -0.554734     2.440234\\n H    -0.292790     3.119685     0.106201\\n H     0.053626    -1.612452     0.215637\\n H    -0.446827     1.892203     2.107092\\n\");\n",
       "\tviewer_16540058568595803.setStyle({\"stick\": {}});\n",
       "\tviewer_16540058568595803.rotate(-90,\"y\");\n",
       "viewer_16540058568595803.render();\n",
       "});\n",
       "</script>"
      ]
     },
     "metadata": {},
     "output_type": "display_data"
    }
   ],
   "source": [
    "thymine_xyz = \"\"\"15\n",
    "*\n",
    " C     0.095722    -0.037785    -1.093615\n",
    " C    -0.011848     1.408694    -1.113404\n",
    " C    -0.204706     2.048475     0.052807\n",
    " N    -0.302595     1.390520     1.249226\n",
    " C    -0.214596     0.023933     1.378238\n",
    " N    -0.017387    -0.607231     0.171757\n",
    " O     0.270287    -0.735594    -2.076393\n",
    " C     0.098029     2.096194    -2.424990\n",
    " H     1.052976     1.874860    -2.891573\n",
    " H     0.002157     3.170639    -2.310554\n",
    " H    -0.671531     1.743694    -3.104794\n",
    " O    -0.301905    -0.554734     2.440234\n",
    " H    -0.292790     3.119685     0.106201\n",
    " H     0.053626    -1.612452     0.215637\n",
    " H    -0.446827     1.892203     2.107092\n",
    "\"\"\"\n",
    "\n",
    "viewer = py3Dmol.view(width=400, height=300)\n",
    "# black outline for nicer-looking figures\n",
    "viewer.setViewStyle({\"style\": \"outline\", \"color\": \"black\", \"width\": 0.1})\n",
    "viewer.addModel(thymine_xyz)\n",
    "# visualize with the stick option - can also consider spheres and more\n",
    "viewer.setStyle({\"stick\": {}})\n",
    "# rotate for a better initial view\n",
    "viewer.rotate(-90, \"y\")\n",
    "viewer.show()"
   ]
  },
  {
   "cell_type": "markdown",
   "id": "5a32533f-6b5a-481b-a870-ed4be702edca",
   "metadata": {},
   "source": [
    "This creates a dynamic view which can be rotated and zoomed in and out.\n",
    "\n",
    "Alternatively, PDF-files can be loaded directly from the PDB-library, and illustrated with different models (here looking at an XRD structure of photosystem II):"
   ]
  },
  {
   "cell_type": "code",
   "execution_count": 3,
   "id": "4d7f3c29-c2eb-41b7-8b2e-00c5ddade567",
   "metadata": {},
   "outputs": [
    {
     "data": {
      "application/3dmoljs_load.v0": "<div id=\"3dmolviewer_16540058568673577\"  style=\"position: relative; width: 800px; height: 300px\">\n        <p id=\"3dmolwarning_16540058568673577\" style=\"background-color:#ffcccc;color:black\">You appear to be running in JupyterLab (or JavaScript failed to load for some other reason).  You need to install the 3dmol extension: <br>\n        <tt>jupyter labextension install jupyterlab_3dmol</tt></p>\n        </div>\n<script>\n\nvar loadScriptAsync = function(uri){\n  return new Promise((resolve, reject) => {\n    var tag = document.createElement('script');\n    tag.src = uri;\n    tag.async = true;\n    tag.onload = () => {\n      resolve();\n    };\n  var firstScriptTag = document.getElementsByTagName('script')[0];\n  firstScriptTag.parentNode.insertBefore(tag, firstScriptTag);\n});\n};\n\nif(typeof $3Dmolpromise === 'undefined') {\n$3Dmolpromise = null;\n  $3Dmolpromise = loadScriptAsync('https://3dmol.org/build/3Dmol.js');\n}\n\nvar viewer_16540058568673577 = null;\nvar warn = document.getElementById(\"3dmolwarning_16540058568673577\");\nif(warn) {\n    warn.parentNode.removeChild(warn);\n}\n$3Dmolpromise.then(function() {\nvar viewergrid_16540058568673577 = null;\nviewergrid_16540058568673577 = $3Dmol.createViewerGrid($(\"#3dmolviewer_16540058568673577\"),{rows: 1, cols: 3, control_all: false},{backgroundColor:\"white\"});\nviewer_16540058568673577 = viewergrid_16540058568673577[0][0];\n$3Dmol.download(\"pdb:6W1O\", viewergrid_16540058568673577[0][0], {}, function() {\n$3Dmol.download(\"pdb:6W1O\", viewergrid_16540058568673577[0][1], {}, function() {\n$3Dmol.download(\"pdb:6W1O\", viewergrid_16540058568673577[0][2], {}, function() {\nviewergrid_16540058568673577[0][0].zoomTo();viewergrid_16540058568673577[0][1].zoomTo();viewergrid_16540058568673577[0][2].zoomTo();\tviewergrid_16540058568673577[0][1].setStyle({\"cartoon\": {\"color\": \"spectrum\"}});\n\tviewergrid_16540058568673577[0][2].setStyle({\"cartoon\": {}});\n\tviewergrid_16540058568673577[0][2].addStyle({\"elem\": \"Mn\"},{\"sphere\": {\"color\": \"blue\"}});\n\tviewergrid_16540058568673577[0][2].addStyle({\"elem\": \"Ca\"},{\"sphere\": {\"color\": \"green\"}});\nviewergrid_16540058568673577[0][2].render();\nviewergrid_16540058568673577[0][1].render();\nviewergrid_16540058568673577[0][0].render();\n})\n})\n})\n});\n</script>",
      "text/html": [
       "<div id=\"3dmolviewer_16540058568673577\"  style=\"position: relative; width: 800px; height: 300px\">\n",
       "        <p id=\"3dmolwarning_16540058568673577\" style=\"background-color:#ffcccc;color:black\">You appear to be running in JupyterLab (or JavaScript failed to load for some other reason).  You need to install the 3dmol extension: <br>\n",
       "        <tt>jupyter labextension install jupyterlab_3dmol</tt></p>\n",
       "        </div>\n",
       "<script>\n",
       "\n",
       "var loadScriptAsync = function(uri){\n",
       "  return new Promise((resolve, reject) => {\n",
       "    var tag = document.createElement('script');\n",
       "    tag.src = uri;\n",
       "    tag.async = true;\n",
       "    tag.onload = () => {\n",
       "      resolve();\n",
       "    };\n",
       "  var firstScriptTag = document.getElementsByTagName('script')[0];\n",
       "  firstScriptTag.parentNode.insertBefore(tag, firstScriptTag);\n",
       "});\n",
       "};\n",
       "\n",
       "if(typeof $3Dmolpromise === 'undefined') {\n",
       "$3Dmolpromise = null;\n",
       "  $3Dmolpromise = loadScriptAsync('https://3dmol.org/build/3Dmol.js');\n",
       "}\n",
       "\n",
       "var viewer_16540058568673577 = null;\n",
       "var warn = document.getElementById(\"3dmolwarning_16540058568673577\");\n",
       "if(warn) {\n",
       "    warn.parentNode.removeChild(warn);\n",
       "}\n",
       "$3Dmolpromise.then(function() {\n",
       "var viewergrid_16540058568673577 = null;\n",
       "viewergrid_16540058568673577 = $3Dmol.createViewerGrid($(\"#3dmolviewer_16540058568673577\"),{rows: 1, cols: 3, control_all: false},{backgroundColor:\"white\"});\n",
       "viewer_16540058568673577 = viewergrid_16540058568673577[0][0];\n",
       "$3Dmol.download(\"pdb:6W1O\", viewergrid_16540058568673577[0][0], {}, function() {\n",
       "$3Dmol.download(\"pdb:6W1O\", viewergrid_16540058568673577[0][1], {}, function() {\n",
       "$3Dmol.download(\"pdb:6W1O\", viewergrid_16540058568673577[0][2], {}, function() {\n",
       "viewergrid_16540058568673577[0][0].zoomTo();viewergrid_16540058568673577[0][1].zoomTo();viewergrid_16540058568673577[0][2].zoomTo();\tviewergrid_16540058568673577[0][1].setStyle({\"cartoon\": {\"color\": \"spectrum\"}});\n",
       "\tviewergrid_16540058568673577[0][2].setStyle({\"cartoon\": {}});\n",
       "\tviewergrid_16540058568673577[0][2].addStyle({\"elem\": \"Mn\"},{\"sphere\": {\"color\": \"blue\"}});\n",
       "\tviewergrid_16540058568673577[0][2].addStyle({\"elem\": \"Ca\"},{\"sphere\": {\"color\": \"green\"}});\n",
       "viewergrid_16540058568673577[0][2].render();\n",
       "viewergrid_16540058568673577[0][1].render();\n",
       "viewergrid_16540058568673577[0][0].render();\n",
       "})\n",
       "})\n",
       "})\n",
       "});\n",
       "</script>"
      ]
     },
     "metadata": {},
     "output_type": "display_data"
    }
   ],
   "source": [
    "viewer = py3Dmol.view(\n",
    "    query=\"pdb:6W1O\", viewergrid=(1, 3), width=800, height=300, linked=False\n",
    ")\n",
    "viewer.setStyle({\"cartoon\": {\"color\": \"spectrum\"}}, viewer=(0, 1))\n",
    "viewer.setStyle({\"cartoon\": {}}, viewer=(0, 2))\n",
    "viewer.addStyle({\"elem\": \"Mn\"}, {\"sphere\": {\"color\": \"blue\"}}, viewer=(0, 2))\n",
    "viewer.addStyle({\"elem\": \"Ca\"}, {\"sphere\": {\"color\": \"green\"}}, viewer=(0, 2))\n",
    "viewer.show()"
   ]
  },
  {
   "cell_type": "markdown",
   "id": "84b0fbfd-50b7-4800-b6d2-54e65d3ebd47",
   "metadata": {},
   "source": [
    "Here we illustrate this by line structure, and more cartoonish image with and without coloring different strands differently. To the right we see white ribbons with manganese and calcium atoms colored in blue and red, respectively. These shows the position of the oxygen-evolving complex of photosystem II, which is the site of water-splitting and oxygen generation."
   ]
  }
 ],
 "metadata": {
  "kernelspec": {
   "display_name": "Python 3 (ipykernel)",
   "language": "python",
   "name": "python3"
  },
  "language_info": {
   "codemirror_mode": {
    "name": "ipython",
    "version": 3
   },
   "file_extension": ".py",
   "mimetype": "text/x-python",
   "name": "python",
   "nbconvert_exporter": "python",
   "pygments_lexer": "ipython3",
   "version": "3.9.12"
  }
 },
 "nbformat": 4,
 "nbformat_minor": 5
}
