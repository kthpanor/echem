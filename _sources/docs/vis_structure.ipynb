{
 "cells": [
  {
   "cell_type": "markdown",
   "id": "a7c75a4f",
   "metadata": {},
   "source": [
    "# Molecular structure and dynamics\n",
    "\n",
    "This section discuss visualization tools and analysis for\n",
    "- [Molecular structures](struct_vis), focusing on static (typically equilibrium) structures\n",
    "- For [MD trajectories](md_vis), where we illustrate how movies of the dynamics can be visualized, as well as the extraction of properties such as radial distribution functions and more. *Under construction*"
   ]
  }
 ],
 "metadata": {
  "kernelspec": {
   "display_name": "Python 3 (ipykernel)",
   "language": "python",
   "name": "python3"
  },
  "language_info": {
   "codemirror_mode": {
    "name": "ipython",
    "version": 3
   },
   "file_extension": ".py",
   "mimetype": "text/x-python",
   "name": "python",
   "nbconvert_exporter": "python",
   "pygments_lexer": "ipython3",
   "version": "3.7.9"
  }
 },
 "nbformat": 4,
 "nbformat_minor": 5
}
