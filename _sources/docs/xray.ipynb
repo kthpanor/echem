{
 "cells": [
  {
   "cell_type": "markdown",
   "metadata": {},
   "source": [
    "X-ray spectroscopies\n",
    "=================\n",
    "\n",
    "Processes considered\n",
    "--------------------------------\n",
    "\n",
    "*General aspects. In X-ray absorption spectroscopy the photon energy is tuned such that core electrons are targeted and excited to either bound or continuum states, and X-ray emission spectroscopy measures the subsequent decay from such an excited state. These core excitations/de-excitations exhibit strong relaxation effects, making theoretical considerations of the processes particularly challenging. While the removal of a valence electron leaves the remaining electrons relatively unaffected, removing core electrons has a substantial effect on the other electrons due to the significant change in the screening of the nucleus. Compare and contrast to UV/vis*\n",
    "\n",
    "![X-ray processes considered](../img/xray/processes.svg)\n",
    "\n",
    "\n",
    "- Figure: IP of elements (1s, 2s)?\n",
    "\n",
    "\n",
    "**Not included (yet)**\n",
    "- SO-coupling\n",
    "- beyond electrinc-dipole approximation\n",
    "- multireference methods"
   ]
  },
  {
   "cell_type": "markdown",
   "metadata": {},
   "source": [
    "X-ray photoemission spectroscopy\n",
    "--------------------------------------------------\n",
    "\n",
    "*We will here focus on calculating ionization potentials (IP:s), from which the isotropic photoemission spectrum is formed by giving each IP the same intensity and then broadening with a function.*\n",
    "\n",
    "### IP from Koopman's theorem"
   ]
  },
  {
   "cell_type": "code",
   "execution_count": 45,
   "metadata": {},
   "outputs": [
    {
     "name": "stdout",
     "output_type": "stream",
     "text": [
      "1s IP from Koopman's theorem: -559.501\n"
     ]
    }
   ],
   "source": [
    "import veloxchem as vlx\n",
    "import numpy as np\n",
    "from mpi4py import MPI\n",
    "comm = MPI.COMM_WORLD\n",
    "au2ev = 27.2114\n",
    "silent_ostream = vlx.OutputStream(None) # suppress program output\n",
    "mol_str = \"\"\"\n",
    "O       0.0000000000     0.0000000000     0.1178336003\n",
    "H      -0.7595754146    -0.0000000000    -0.4713344012\n",
    "H       0.7595754146     0.0000000000    -0.4713344012\n",
    "\"\"\"\n",
    "molecule = vlx.Molecule.read_str(mol_str, units='angstrom')\n",
    "basis    = vlx.MolecularBasis.read(molecule, \"6-31g\")\n",
    "scf_drv  = vlx.ScfRestrictedDriver(comm,silent_ostream)\n",
    "scf_drv.compute(molecule, basis)\n",
    "orbital_energies = scf_drv.scf_tensors['E']\n",
    "print('1s IP from Koopman\\'s theorem:',np.around(au2ev*orbital_energies[0],3))"
   ]
  },
  {
   "cell_type": "markdown",
   "metadata": {},
   "source": [
    "This is to be compared to the experimental IP of gas phase water, which is 539.9 eV. The overestimation of almost 20 eV is due to lack of **relaxation**, which results from the reorganization of the valence electrons in response to a reduction of screening of the nuclei. An approach for including these effects in IP calculation is to use the $\\Delta$SCF approach, in which the difference in total energy between the neutral and a core-hole system is considered as the IP.\n",
    "\n",
    "### MOM\n",
    "\n",
    "Describe the approach\n",
    "\n",
    "Note potential instabilities for post-HF on CH\n",
    "\n",
    "<div class=\"alert alert-block alert-info\"><b>Note:</b> We currently use pyscf for the illustrations involving core-holes, as VeloxChem lacks MOM (at the moment).</div>\n",
    "\n",
    "### IP from $\\Delta$SCF and $\\Delta$MP2\n"
   ]
  },
  {
   "cell_type": "code",
   "execution_count": 46,
   "metadata": {},
   "outputs": [
    {
     "name": "stdout",
     "output_type": "stream",
     "text": [
      "converged SCF energy = -75.9838703827192  <S^2> = 6.3353767e-12  2S+1 = 1\n",
      "converged SCF energy = -56.0754789470866  <S^2> = 0.76257807  2S+1 = 2.0125388\n",
      "Ionization potential: 541.735 eV\n"
     ]
    }
   ],
   "source": [
    "from pyscf import gto, scf\n",
    "import copy\n",
    "mol = gto.Mole()\n",
    "mol.atom  = mol_str; mol.basis = '6-31G'\n",
    "mol.build(); scfres = scf.UHF(mol); scfres.kernel()\n",
    "# create a core-hole in beta 1s (MO1)\n",
    "mo0 = copy.deepcopy(scfres.mo_coeff); occ0 = copy.deepcopy(scfres.mo_occ)\n",
    "occ0[0][0] = 0.0\n",
    "scfion = scf.UHF(mol); scfion.conv_tol = 1e-12; scfion.conv_tol_grad = 1e-9\n",
    "scf.addons.mom_occ(scfion, mo0, occ0)\n",
    "scfion.kernel()\n",
    "print('Ionization potential:',np.around(au2ev*(scfion.energy_tot() - scfres.energy_tot()),3),'eV')"
   ]
  },
  {
   "cell_type": "markdown",
   "metadata": {},
   "source": [
    "This estimate is now within 2 eV from experiment, and we can include correlation by using the SCF results for MP2 or any other method of your choice:"
   ]
  },
  {
   "cell_type": "code",
   "execution_count": 47,
   "metadata": {},
   "outputs": [
    {
     "name": "stdout",
     "output_type": "stream",
     "text": [
      "E(UMP2) = -76.1130483955489  E_corr = -0.129178012829716\n",
      "E(UMP2) = -56.1523709682674  E_corr = -0.0768920211808384\n",
      "Ionization potential: -543.158 eV\n"
     ]
    }
   ],
   "source": [
    "from pyscf import mp\n",
    "mp_res = mp.MP2(scfres).run(); mp_ion = mp.MP2(scfion).run()\n",
    "print('Ionization potential:',np.around(au2ev*(mp_res.e_tot - mp_ion.e_tot),3),'eV')"
   ]
  },
  {
   "cell_type": "markdown",
   "metadata": {},
   "source": [
    "This currently brings us **away** from experiment, but we note that the basis set is quite limited and ill suited for core properties, and relativistic effects are not included either (more on this below).\n",
    "\n",
    "### XPS of the ESCA molecule"
   ]
  },
  {
   "cell_type": "code",
   "execution_count": 33,
   "metadata": {},
   "outputs": [
    {
     "name": "stdout",
     "output_type": "stream",
     "text": [
      "converged SCF energy = -412.279202540049  <S^2> = 2.7561047e-08  2S+1 = 1.0000001\n",
      "SCF not converged.\n",
      "SCF energy = -401.292314355337 after 100 cycles  <S^2> = 0.89495889  2S+1 = 2.140055\n",
      "converged SCF energy = -401.341585452586  <S^2> = 0.80717734  2S+1 = 2.0563826\n",
      "SCF not converged.\n",
      "SCF energy = -401.418569831722 after 100 cycles  <S^2> = 1.1692099  2S+1 = 2.3826119\n",
      "converged SCF energy = -401.511489489205  <S^2> = 0.79315028  2S+1 = 2.0426946\n"
     ]
    },
    {
     "data": {
      "image/png": "[encoded data removed]",
      "text/plain": [
       "<Figure size 576x288 with 1 Axes>"
      ]
     },
     "metadata": {
      "needs_background": "light"
     },
     "output_type": "display_data"
    }
   ],
   "source": [
    "import matplotlib.pyplot as plt\n",
    "def lorentzian(x, y, xmin, xmax, xstep, gamma):\n",
    "    xi = np.arange(xmin,xmax,xstep); yi=np.zeros(len(xi))\n",
    "    for i in range(len(xi)):\n",
    "        for k in range(len(x)): yi[i] = yi[i] + y[k] * (gamma/2.) / ( (xi[i]-x[k])**2 + (gamma/2.)**2 )\n",
    "    return xi,yi\n",
    "uracil   = ' C     0.000000     0.313341     1.284889;\\\n",
    "             C     0.000000    -1.129946     1.193271;\\\n",
    "             C     0.000000    -1.722413    -0.011510;\\\n",
    "             N     0.000000    -1.002386    -1.171240;\\\n",
    "             C     0.000000     0.377102    -1.212137;\\\n",
    "             N     0.000000     0.946281     0.038980;\\\n",
    "             O     0.000000     0.966706     2.309430;\\\n",
    "             O     0.000000     1.007669    -2.246643;\\\n",
    "             H     0.000000    -2.791379    -0.129000;\\\n",
    "             H     0.000000     1.954858     0.054525;\\\n",
    "             H     0.000000    -1.456186    -2.067038;\\\n",
    "             H     0.000000    -1.702677     2.098114'\n",
    "mol_ura = gto.Mole()\n",
    "mol_ura.atom  = uracil; mol_ura.basis = '6-31G'\n",
    "mol_ura.build(); scf_ura = scf.UHF(mol_ura); scf_ura.kernel()\n",
    "ionization_energies = []\n",
    "for i in [4,5,6,7]:\n",
    "    mo0 = copy.deepcopy(scf_ura.mo_coeff); occ0 = copy.deepcopy(scf_ura.mo_occ); occ0[0][i] = 0.0\n",
    "    ion_tmp = scf.UHF(mol_ura); scf.addons.mom_occ(ion_tmp, mo0, occ0); ion_tmp.max_cycle = 100; ion_tmp.kernel()\n",
    "    ionization_energies.append(27.2114*(ion_tmp.energy_tot() - scf_ura.energy_tot()))\n",
    "plt.figure(figsize=(8,4))\n",
    "xi,yi = lorentzian(ionization_energies,np.ones((len(ionization_energies))),290,302,0.01,0.4)\n",
    "plt.plot(xi,yi); plt.xlim((290,302)); plt.show()"
   ]
  },
  {
   "cell_type": "markdown",
   "metadata": {},
   "source": [
    "X-ray absorption spectroscopy\n",
    "--------------------------------------------\n",
    "\n",
    "*Focus on NEXAFS, Core-excited states are embedded in a manifold of valence-excited states that needs to be considered by some computationally feasible method.*\n",
    "\n",
    "![X-ray processes considered](../img/xray/nexafs.svg)\n",
    "\n",
    "- Global spectrum\n",
    "\n",
    "### Individual states with CVS-ADC\n",
    "\n",
    "References to CVS approach and CVS error."
   ]
  },
  {
   "cell_type": "code",
   "execution_count": 34,
   "metadata": {
    "scrolled": true
   },
   "outputs": [
    {
     "name": "stdout",
     "output_type": "stream",
     "text": [
      "SCF converged in 5 iterations.\n",
      "Total Energy: -75.9835579174 au\n",
      "                                                                                                                          \n",
      "                                        Algebraic Diagrammatic Construction (ADC)                                         \n",
      "                                       ===========================================                                        \n",
      "                                                                                                                          \n",
      "                               ADC method                   : cvs-adc2x                                                   \n",
      "                               Number of Singlet States     : 4                                                           \n",
      "                               CVS-ADC, Core Orbital Space  : 1                                                           \n",
      "                               Convergence threshold        : 1.0e-06                                                     \n",
      "                                                                                                                          \n"
     ]
    },
    {
     "name": "stderr",
     "output_type": "stream",
     "text": [
      "/home/thomas/pkg/adcc/adcc/backends/__init__.py:48: UserWarning: Could not check host program psi4 minimal version, since __version__ tag not found. Proceeding anyway.\n",
      "  \"\".format(module)\n"
     ]
    },
    {
     "name": "stdout",
     "output_type": "stream",
     "text": [
      "Starting cvs-adc2x singlet Jacobi-Davidson ...\n",
      "Niter n_ss  max_residual  time  Ritz values\n",
      "  1     8        1.2622  435ms  [20.27095808 20.30194987 20.86973126 20.91162963]\n",
      "  2    16      0.036992  375ms  [19.72495218 19.8073679  20.50869353 20.51185933]\n",
      "  3    24     0.0034033  347ms  [19.71743636 19.79804125 20.49294316 20.50515463]\n",
      "  4    32    0.00026052  388ms  [19.71715415 19.79771387 20.49099765 20.50498331]\n",
      "  5    40    2.2702e-05  445ms  [19.71714329 19.79770363 20.49082001 20.50497023]\n",
      "=== Restart ===\n",
      "  6    16    3.9318e-06  427ms  [19.71714288 19.79770302 20.49080531 20.5049683 ]\n",
      "  7    24     7.467e-07  344ms  [19.71714285 19.79770295 20.4908021  20.50496755]\n",
      "=== Converged ===\n",
      "    Number of matrix applies:    56\n",
      "    Total solver time:             2s 797ms\n",
      "                                                                                                                          \n",
      "                                                  ADC Summary of Results                                                  \n",
      "                                                 ------------------------                                                 \n",
      "                                                                                                                          \n",
      "                             +--------------------------------------------------------------+                             \n",
      "                             | cvs-adc2x                               singlet ,  converged |                             \n",
      "                             +--------------------------------------------------------------+                             \n",
      "                             |  #        excitation energy     osc str    |v1|^2    |v2|^2  |                             \n",
      "                             |          (au)           (eV)                                 |                             \n",
      "                             |  0      19.71714      536.5308   0.0176    0.8002    0.1998  |                             \n",
      "                             |  1       19.7977      538.7229   0.0367    0.8089    0.1911  |                             \n",
      "                             |  2       20.4908      557.5831   0.0089     0.786     0.214  |                             \n",
      "                             |  3      20.50497      557.9686   0.1007    0.8443    0.1557  |                             \n",
      "                             +--------------------------------------------------------------+                             \n",
      "                                                                                                                          \n",
      "                                          End of ADC calculation. All went well!                                          \n",
      "                                                                                                                          \n"
     ]
    }
   ],
   "source": [
    "import gator\n",
    "struct = gator.get_molecule(\"\"\"\n",
    "O       0.0000000000     0.0000000000     0.1187290000\n",
    "H      -0.7532010000    -0.0000000000    -0.4749160000\n",
    "H       0.7532010000     0.0000000000    -0.4749160000\n",
    "\"\"\")\n",
    "basis  = gator.get_molecular_basis(struct,'6-31G')\n",
    "scfres = gator.run_scf(struct,basis)\n",
    "adcres = gator.run_adc(struct,basis,scfres,method='cvs-adc2x',singlets=4,core_orbitals=1)"
   ]
  },
  {
   "cell_type": "code",
   "execution_count": 48,
   "metadata": {},
   "outputs": [
    {
     "data": {
      "image/png": "[encoded data removed]",
      "text/plain": [
       "<Figure size 432x288 with 1 Axes>"
      ]
     },
     "metadata": {
      "needs_background": "light"
     },
     "output_type": "display_data"
    }
   ],
   "source": [
    "plt.figure(); adcres.plot_spectrum(); plt.show()"
   ]
  },
  {
   "cell_type": "markdown",
   "metadata": {},
   "source": [
    "### TDDFT: eigenstates and CPP\n",
    "\n",
    "SIE discussion below"
   ]
  },
  {
   "cell_type": "code",
   "execution_count": 49,
   "metadata": {},
   "outputs": [
    {
     "data": {
      "image/png": "[encoded data removed]",
      "text/plain": [
       "<Figure size 432x288 with 1 Axes>"
      ]
     },
     "metadata": {
      "needs_background": "light"
     },
     "output_type": "display_data"
    }
   ],
   "source": [
    "scf_settings    = {'conv_thresh': 1.0e-8}\n",
    "method_settings = {'xcfun': 'b3lyp', 'grid_level': 4}\n",
    "scf_drv = vlx.ScfRestrictedDriver(comm,silent_ostream)\n",
    "scf_drv.update_settings(scf_settings, method_settings)\n",
    "scf_drv.compute(molecule, basis)\n",
    "from veloxchem.rsplinabscross import LinearAbsorptionCrossSection\n",
    "freqs = np.arange(500.0,550.0,0.5)/27.2114\n",
    "freqs_str = [str(x) for x in freqs]\n",
    "cpp_prop = LinearAbsorptionCrossSection({'frequencies': ','.join(freqs_str), 'damping': 0.2/27.2114},method_settings)\n",
    "cpp_prop.init_driver(comm, silent_ostream)\n",
    "cpp_prop.compute(molecule, basis, scf_drv.scf_tensors)\n",
    "sigma,sX,sY,sZ = [],[],[],[]\n",
    "for w in freqs:\n",
    "    axx = -cpp_prop.rsp_property['response_functions'][('x', 'x', w)].imag\n",
    "    ayy = -cpp_prop.rsp_property['response_functions'][('y', 'y', w)].imag\n",
    "    azz = -cpp_prop.rsp_property['response_functions'][('z', 'z', w)].imag\n",
    "    alpha_bar = (axx + ayy + azz) / 3.0\n",
    "    sigma.append(4.0 * np.pi * w * alpha_bar / 137.035999)\n",
    "    sX.append(4.0 * np.pi * w * axx / (137.035999 * 3))\n",
    "    sY.append(4.0 * np.pi * w * ayy / (137.035999 * 3))\n",
    "    sZ.append(4.0 * np.pi * w * azz / (137.035999 * 3))\n",
    "plt.figure(); plt.plot(au2ev*freqs,sigma); plt.show()"
   ]
  },
  {
   "cell_type": "markdown",
   "metadata": {},
   "source": [
    "### Analysis\n",
    "\n",
    "Vinylfluoride. CVS-ADC and CPP-DFT.\n",
    "\n",
    "1. Chemical shifts\n",
    "\n",
    "2. Atom assignment - illustrate\n",
    "\n",
    "3. Polarization\n",
    "\n",
    "4. Visualization and descriptors - illustrate/tabulate\n",
    "\n",
    "### Uracil in solution\n",
    "\n",
    "CVS-ADC and CPP-DFT\n",
    "\n",
    "1. Tailored CVS spaces\n",
    "\n",
    "2. Gas phase\n",
    "\n",
    "3. Polarizable embedding\n",
    "\n",
    "### Maybe: massive system with DFT"
   ]
  },
  {
   "cell_type": "markdown",
   "metadata": {},
   "source": [
    "X-ray emission spectroscopy\n",
    "--------------------------------------------\n",
    "\n",
    "- maybe illustration: Augen/fluorescent yield\n",
    "\n",
    "### Decay from core-hole reference\n",
    "\n",
    "Water (vs expt)\n",
    "\n",
    "1. ADC(2)\n",
    "\n",
    "2. TDDFT\n",
    "\n",
    "### Overlap model\n",
    "\n",
    "Water (vs expt)\n",
    "\n",
    "1. DFT\n",
    "\n",
    "### Maybe: uracil in solution\n",
    "\n",
    "1. Gas phase\n",
    "\n",
    "2. Environment with PE\n",
    "\n",
    "### Maybe valence-to-core XES\n",
    "\n",
    "Suitable TM-complex with minimal static correlation\n",
    "\n",
    "1. TDDFT\n",
    "\n",
    "2. Overlap\n",
    "\n",
    "### Maybe: massive system with DFT"
   ]
  },
  {
   "cell_type": "markdown",
   "metadata": {},
   "source": [
    "Resonant inelastic X-ray scattering\n",
    "--------------------------------------------------\n",
    "\n",
    "Water.\n",
    "\n",
    "1. 2-step model\n",
    "\n",
    "2. DKH"
   ]
  },
  {
   "cell_type": "markdown",
   "metadata": {},
   "source": [
    "XAS and XES coupled to MD\n",
    "-----------------------------------------\n",
    "\n",
    "Some system...\n",
    "\n",
    "1. Dynamics + XAS\n",
    "\n",
    "2. Dynamics + XES\n",
    "\n",
    "3. Inclusion of environment?\n",
    "\n",
    "4. Core-hole dynamics with some model?"
   ]
  },
  {
   "cell_type": "markdown",
   "metadata": {},
   "source": [
    "Self-interaction error in DFT\n",
    "----------------------------------------\n",
    "\n",
    "For a single-electron systems the following equality should hold for the two-electron terms:\n",
    "\n",
    "\\begin{equation}\n",
    "J[\\rho] + E_{xc} [\\rho] = 0.0\n",
    "\\end{equation}\n",
    "\n",
    "This cancellation is achieved for, e.g. Hartree–Fock theory, but for any approximate functionals in DFT it will instead result in an erronous contribution to the energy. DFT-based methods generally suffer from self-interaction error (SIE), which corresponds to the sum of Coulomb and exchange self-interactions that remain because of the use of approximate exchange functionals. In more detail, the Coulomb self-repulsion of each electron included in the Coulomb operator is exactly canceled by the nonlocal exchange self-attraction in Hartree--Fock theory, but this is no longer the case when the exchange operator is replaced by an approximate exchange functional. The simplest correction to this error was proposed by Perdew and Zunger, by correcting the total exchange-correlation energy by a term, summed over all singly occupied orbitals\n",
    "\n",
    "\\begin{equation}\n",
    "XE PZ = E DFT -\n",
    "(J[\\rho_i] + E_{xc}[\\rho_i]).\n",
    "\\end{equation}\n",
    "\n",
    "- Radial distribution or something for functionals? Calculate error?"
   ]
  },
  {
   "cell_type": "markdown",
   "metadata": {},
   "source": [
    "Relativity\n",
    "---------------\n",
    "\n",
    "1. Water IP without relativity or with X2C\n",
    "\n",
    "2. Total relativistic and correlation corrections as a function of Z"
   ]
  },
  {
   "cell_type": "markdown",
   "metadata": {},
   "source": [
    "Relaxation\n",
    "---------------\n",
    "\n",
    "1. Radial distribution: Z, Z with hole, Z+1\n",
    "\n",
    "2. Total density: formaldehyde\n",
    "\n",
    "3. Maybe: visualization of effects for XAS and XES\n",
    "\n",
    "<img src=\"../img/xray/relax_form.svg\"  width=\"300px\">"
   ]
  },
  {
   "cell_type": "markdown",
   "metadata": {},
   "source": [
    "Basis set\n",
    "---------------\n",
    "\n",
    "IP with $\\Delta$SCF and $\\Delta$SCF.\n",
    "\n",
    "1. 6-31+ versus u6-31G\n",
    "\n",
    "2. cc-pVTZ versus cc-pCVTZ\n",
    "\n",
    "3. cc-pCVnT\n",
    "\n",
    "4. Maybe: cc-pVTZ + (Z+1)"
   ]
  },
  {
   "cell_type": "markdown",
   "metadata": {},
   "source": [
    "Exercises\n",
    "--------------\n",
    "\n",
    "### XPS\n",
    "\n",
    "### XAS\n",
    "\n",
    "1. Compute the C K-edge X-ray absorption spectra of the ethylene molecule using CVS-ADC(0), CVS-ADC(1), and CVS-ADC(2) in combination with the def2-SVP basis set. Choose an appropriate core space. What are the differences between the spectra computed at the different CVS-ADC levels? Are the differences between levels of theory larger in the case of core excitations or valence excitations? \n",
    "\n",
    "2. Assignment\n",
    "\n",
    "3. Compute also the C K-edge XAS spectra of difluoroethylene, and trifluoroethylene at the CVS-ADC(2) level of theory. Compare the spectra of ethylene, vinylfluoride, difluoroethylene, and trifluoroethylene to each other. What are the effects of fluorine substitution on the C K-edge spectrum? How large are the chemical shifts?\n",
    "\n",
    "4. Basis set. Compare to above results for XPS - differences, similarities...\n",
    "\n",
    "### XES\n",
    "\n",
    "1. ADC(n)\n",
    "\n",
    "2. Assignment\n",
    "\n",
    "3. Basis set. Compare to above results for XPS - differences, similarities...\n",
    "\n",
    "### SIE\n",
    "\n",
    "1. XAS and XES error as a function of %HF-exchange\n"
   ]
  }
 ],
 "metadata": {
  "kernelspec": {
   "display_name": "Python 3",
   "language": "python",
   "name": "python3"
  },
  "language_info": {
   "codemirror_mode": {
    "name": "ipython",
    "version": 3
   },
   "file_extension": ".py",
   "mimetype": "text/x-python",
   "name": "python",
   "nbconvert_exporter": "python",
   "pygments_lexer": "ipython3",
   "version": "3.7.9"
  }
 },
 "nbformat": 4,
 "nbformat_minor": 4
}
