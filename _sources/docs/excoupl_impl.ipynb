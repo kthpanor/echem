{
 "cells": [
  {
   "cell_type": "markdown",
   "metadata": {},
   "source": [
    "# Implementation\n",
    "### Import modules"
   ]
  },
  {
   "cell_type": "code",
   "execution_count": null,
   "metadata": {},
   "outputs": [],
   "source": [
    "import veloxchem as vlx\n",
    "import numpy as np"
   ]
  },
  {
   "cell_type": "markdown",
   "metadata": {},
   "source": [
    "### Set up molecule and basis set"
   ]
  },
  {
   "cell_type": "code",
   "execution_count": null,
   "metadata": {},
   "outputs": [],
   "source": [
    "# molecule and basis\n",
    "\n",
    "mol_xyz = \"\"\"12\n",
    "c2h4-dimer\n",
    "C         -1.37731        1.01769       -0.71611\n",
    "C         -0.04211        1.07142       -0.72602\n",
    "H         -1.96225        1.74636       -0.16458\n",
    "H         -1.90859        0.23094       -1.24174\n",
    "H          0.49049        1.84498       -0.18262\n",
    "H          0.54315        0.32947       -1.25941\n",
    "C         -1.18880       -1.26220        2.03150\n",
    "C          0.05470       -0.84410        2.28420\n",
    "H         -1.37000       -2.18130        1.48410\n",
    "H          0.91550       -1.41310        1.94850\n",
    "H         -2.04870       -0.68100        2.34880\n",
    "H          0.23460        0.08670        2.81250\n",
    "\"\"\"\n",
    "molecule = vlx.Molecule.from_xyz_string(mol_xyz)\n",
    "basis = vlx.MolecularBasis.read(molecule, 'def2-svp')"
   ]
  },
  {
   "cell_type": "markdown",
   "metadata": {},
   "source": [
    "### Set up exciton model"
   ]
  },
  {
   "cell_type": "code",
   "execution_count": null,
   "metadata": {},
   "outputs": [],
   "source": [
    "# exciton model setup\n",
    "\n",
    "exmod_settings = {\n",
    "    'fragments': '2',\n",
    "    'atoms_per_fragment': '6',\n",
    "    'charges': '0',\n",
    "    'nstates': '5',\n",
    "    'ct_nocc': '1',\n",
    "    'ct_nvir': '1',\n",
    "}\n",
    "\n",
    "method_settings = {'dft': 'no'}\n",
    "\n",
    "exmod_drv = vlx.ExcitonModelDriver()\n",
    "exmod_drv.update_settings(exmod_settings, method_settings)"
   ]
  },
  {
   "cell_type": "markdown",
   "metadata": {},
   "source": [
    "### Initializes exciton model Hamiltonian and transition dipoles"
   ]
  },
  {
   "cell_type": "code",
   "execution_count": null,
   "metadata": {},
   "outputs": [],
   "source": [
    "monomer_natoms = list(exmod_drv.natoms)\n",
    "n_monomers = len(monomer_natoms)\n",
    "monomer_start_indices = [sum(exmod_drv.natoms[:i]) for i in range(n_monomers)]\n",
    "\n",
    "npairs = n_monomers * (n_monomers - 1) // 2\n",
    "total_LE_states = n_monomers * exmod_drv.nstates\n",
    "total_CT_states = npairs * exmod_drv.ct_nocc * exmod_drv.ct_nvir * 2\n",
    "total_num_states = total_LE_states + total_CT_states\n",
    "\n",
    "exmod_drv.H = np.zeros((total_num_states, total_num_states))\n",
    "exmod_drv.trans_dipoles = np.zeros((total_num_states, 3))\n",
    "exmod_drv.velo_trans_dipoles = np.zeros((total_num_states, 3))\n",
    "exmod_drv.magn_trans_dipoles = np.zeros((total_num_states, 3))\n",
    "exmod_drv.center_of_mass = molecule.center_of_mass()\n",
    "\n",
    "excitation_ids = exmod_drv.get_excitation_ids()"
   ]
  },
  {
   "cell_type": "markdown",
   "metadata": {},
   "source": [
    "### Run monomer calculations"
   ]
  },
  {
   "cell_type": "code",
   "execution_count": null,
   "metadata": {},
   "outputs": [],
   "source": [
    "# monomer calculations\n",
    "\n",
    "monomers_info = [{} for ind in range(n_monomers)]\n",
    "\n",
    "for ind in range(n_monomers):\n",
    "    monomer = molecule.get_sub_molecule(monomer_start_indices[ind],\n",
    "                                        monomer_natoms[ind])\n",
    "    monomer.set_charge(exmod_drv.charges[ind])\n",
    "    monomer.check_multiplicity()\n",
    "\n",
    "    scf_tensors = exmod_drv.monomer_scf(method_settings, ind, monomer, basis)\n",
    "    tda_results = exmod_drv.monomer_tda(method_settings, ind, monomer, basis,\n",
    "                                        scf_tensors)\n",
    "\n",
    "    monomers_info[ind]['mo'] = scf_tensors['C_alpha']\n",
    "    monomers_info[ind]['exc_energies'] = tda_results['exc_energies']\n",
    "    monomers_info[ind]['exc_vectors'] = tda_results['exc_vectors']\n",
    "\n",
    "    one_elec_ints = exmod_drv.get_one_elec_integrals(monomer, basis)\n",
    "    trans_dipoles = exmod_drv.get_LE_trans_dipoles(monomer, basis,\n",
    "                                                   one_elec_ints, scf_tensors,\n",
    "                                                   tda_results)\n",
    "\n",
    "    # LE states\n",
    "    for s in range(exmod_drv.nstates):\n",
    "        h = excitation_ids[ind, ind] + s\n",
    "        # LE energies\n",
    "        exmod_drv.H[h, h] = monomers_info[ind]['exc_energies'][s]\n",
    "        # LE transition dipoles\n",
    "        exmod_drv.trans_dipoles[h, :] = trans_dipoles['electric'][s]\n",
    "        exmod_drv.velo_trans_dipoles[h, :] = trans_dipoles['velocity'][s]\n",
    "        exmod_drv.magn_trans_dipoles[h, :] = trans_dipoles['magnetic'][s]"
   ]
  },
  {
   "cell_type": "markdown",
   "metadata": {},
   "source": [
    "### Run dimer calculations"
   ]
  },
  {
   "cell_type": "code",
   "execution_count": null,
   "metadata": {},
   "outputs": [],
   "source": [
    "# dimer calculations\n",
    "\n",
    "for ind_A in range(n_monomers):\n",
    "    monomer_A = molecule.get_sub_molecule(monomer_start_indices[ind_A],\n",
    "                                          monomer_natoms[ind_A])\n",
    "    monomer_A.set_charge(exmod_drv.charges[ind_A])\n",
    "    monomer_A.check_multiplicity()\n",
    "\n",
    "    for ind_B in range(ind_A + 1, n_monomers):\n",
    "        monomer_B = molecule.get_sub_molecule(monomer_start_indices[ind_B],\n",
    "                                              monomer_natoms[ind_B])\n",
    "        monomer_B.set_charge(exmod_drv.charges[ind_B])\n",
    "        monomer_B.check_multiplicity()\n",
    "\n",
    "        dimer = vlx.Molecule(monomer_A, monomer_B)\n",
    "        dimer.check_multiplicity()\n",
    "\n",
    "        mo_A = monomers_info[ind_A]['mo']\n",
    "        mo_B = monomers_info[ind_B]['mo']\n",
    "\n",
    "        nocc_A = monomer_A.number_of_alpha_electrons()\n",
    "        nocc_B = monomer_B.number_of_alpha_electrons()\n",
    "        nvir_A = mo_A.shape[1] - nocc_A\n",
    "        nvir_B = mo_B.shape[1] - nocc_B\n",
    "\n",
    "        nocc = nocc_A + nocc_B\n",
    "        nvir = nvir_A + nvir_B\n",
    "\n",
    "        mo = exmod_drv.dimer_mo_coefficients(monomer_A, monomer_B, basis, mo_A,\n",
    "                                             mo_B)\n",
    "\n",
    "        dimer_prop = exmod_drv.dimer_properties(dimer, basis, mo)\n",
    "\n",
    "        dimer_energy = dimer_prop['energy']\n",
    "\n",
    "        exc_vectors_A = monomers_info[ind_A]['exc_vectors']\n",
    "        exc_vectors_B = monomers_info[ind_B]['exc_vectors']\n",
    "\n",
    "        exc_vectors = []\n",
    "\n",
    "        exc_vectors += exmod_drv.dimer_excitation_vectors_LE_A(\n",
    "            exc_vectors_A, ind_A, nocc_A, nvir_A, nocc, nvir, excitation_ids)\n",
    "\n",
    "        exc_vectors += exmod_drv.dimer_excitation_vectors_LE_B(\n",
    "            exc_vectors_B, ind_B, nocc_A, nvir_A, nocc, nvir, excitation_ids)\n",
    "\n",
    "        exc_vectors += exmod_drv.dimer_excitation_vectors_CT_AB(\n",
    "            ind_A, ind_B, nocc_A, nvir_A, nocc, nvir, excitation_ids)\n",
    "\n",
    "        exc_vectors += exmod_drv.dimer_excitation_vectors_CT_BA(\n",
    "            ind_A, ind_B, nocc_A, nvir_A, nocc, nvir, excitation_ids)\n",
    "\n",
    "        sigma_vectors = exmod_drv.dimer_sigma_vectors(dimer, basis, dimer_prop,\n",
    "                                                      mo, exc_vectors)\n",
    "\n",
    "        one_elec_ints = exmod_drv.get_one_elec_integrals(dimer, basis)\n",
    "        trans_dipoles = exmod_drv.get_CT_trans_dipoles(\n",
    "            dimer, basis, one_elec_ints, mo,\n",
    "            exc_vectors[exmod_drv.nstates * 2:])\n",
    "\n",
    "        # CT states\n",
    "        for i_vec, (c_vec, s_vec) in enumerate(\n",
    "                zip(exc_vectors[exmod_drv.nstates * 2:],\n",
    "                    sigma_vectors[exmod_drv.nstates * 2:])):\n",
    "            # CT energies\n",
    "            energy = np.vdot(c_vec['vec'], s_vec['vec'])\n",
    "            exmod_drv.H[c_vec['index'], c_vec['index']] = energy\n",
    "            # CT transition dipoles\n",
    "            exmod_drv.trans_dipoles[\n",
    "                c_vec['index'], :] = trans_dipoles['electric'][i_vec]\n",
    "            exmod_drv.velo_trans_dipoles[\n",
    "                c_vec['index'], :] = trans_dipoles['velocity'][i_vec]\n",
    "            exmod_drv.magn_trans_dipoles[\n",
    "                c_vec['index'], :] = trans_dipoles['magnetic'][i_vec]\n",
    "\n",
    "        # LE(A)-LE(B) couplings\n",
    "        for c_vec in exc_vectors[:exmod_drv.nstates]:\n",
    "            for s_vec in sigma_vectors[exmod_drv.nstates:exmod_drv.nstates * 2]:\n",
    "                coupling = np.vdot(c_vec['vec'], s_vec['vec'])\n",
    "                exmod_drv.H[c_vec['index'], s_vec['index']] = coupling\n",
    "                exmod_drv.H[s_vec['index'], c_vec['index']] = coupling\n",
    "\n",
    "        # LE-CT couplings\n",
    "        for c_vec in exc_vectors[:exmod_drv.nstates * 2]:\n",
    "            for s_vec in sigma_vectors[exmod_drv.nstates * 2:]:\n",
    "                coupling = np.vdot(c_vec['vec'], s_vec['vec'])\n",
    "                exmod_drv.H[c_vec['index'], s_vec['index']] = coupling\n",
    "                exmod_drv.H[s_vec['index'], c_vec['index']] = coupling\n",
    "\n",
    "        # CT-CT couplings\n",
    "        for c_vec in exc_vectors[exmod_drv.nstates * 2:]:\n",
    "            for s_vec in sigma_vectors[exmod_drv.nstates * 2:]:\n",
    "                if c_vec['index'] >= s_vec['index']:\n",
    "                    continue\n",
    "                coupling = np.vdot(c_vec['vec'], s_vec['vec'])\n",
    "                exmod_drv.H[c_vec['index'], s_vec['index']] = coupling\n",
    "                exmod_drv.H[s_vec['index'], c_vec['index']] = coupling"
   ]
  },
  {
   "cell_type": "markdown",
   "metadata": {},
   "source": [
    "### Get excitation energies and transition dipoles"
   ]
  },
  {
   "cell_type": "code",
   "execution_count": null,
   "metadata": {},
   "outputs": [],
   "source": [
    "# Exciton model energies\n",
    "\n",
    "eigvals, eigvecs = np.linalg.eigh(exmod_drv.H)\n",
    "\n",
    "elec_trans_dipoles = np.matmul(eigvecs.T, exmod_drv.trans_dipoles)\n",
    "velo_trans_dipoles = np.matmul(eigvecs.T, exmod_drv.velo_trans_dipoles)\n",
    "magn_trans_dipoles = np.matmul(eigvecs.T, exmod_drv.magn_trans_dipoles)\n",
    "\n",
    "for s in range(total_num_states):\n",
    "    ene = eigvals[s]\n",
    "    dip_strength = np.sum(elec_trans_dipoles[s, :]**2)\n",
    "    f = (2.0 / 3.0) * dip_strength * ene\n",
    "\n",
    "    velo_trans_dipoles[s, :] /= -ene\n",
    "    magn_trans_dipoles[s, :] *= -0.5\n",
    "    R = (-1.0) * np.vdot(velo_trans_dipoles[s, :], magn_trans_dipoles[s, :])\n",
    "\n",
    "    print(f'S{s+1:<2d}  e={ene:<.8f}  f={f:<.4f}  R={R:<.4f}')"
   ]
  }
 ],
 "metadata": {
  "kernelspec": {
   "display_name": "Python 3",
   "language": "python",
   "name": "python3"
  },
  "language_info": {
   "codemirror_mode": {
    "name": "ipython",
    "version": 3
   },
   "file_extension": ".py",
   "mimetype": "text/x-python",
   "name": "python",
   "nbconvert_exporter": "python",
   "pygments_lexer": "ipython3",
   "version": "3.8.3"
  }
 },
 "nbformat": 4,
 "nbformat_minor": 4
}
