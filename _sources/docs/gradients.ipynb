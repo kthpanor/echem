{
 "cells": [
  {
   "cell_type": "markdown",
   "id": "9d35a667",
   "metadata": {},
   "source": [
    "# Gradients\n",
    "\n",
    "In these sections, we will discuss first-order derivatives (or gradients) of the [energy](sec:energy-gradients) and of different [molecular properties](sec:property-gradients), such as the dipole moment or the polarizability.\n",
    "In general, those derivatives can be calculated either numerically by using finite differences or by employing analytical techniques.\n",
    "Among the most important derivatives are those with respect to nuclear coordinates.\n",
    "While nuclear gradients of the energy are used in [structure optimizations](sec:struct-opt) and [transition state searches](sec:tst)\n",
    "(i.e., to find points where the gradient vanishes),\n",
    "nuclear derivatives of the aforementioned properties are related to intensities in [vibrational spectroscopies](sec:vibrational-spec)."
   ]
  },
  {
   "cell_type": "code",
   "execution_count": null,
   "id": "2ecce056-5edd-4dfe-8aff-06715f4300e6",
   "metadata": {},
   "outputs": [],
   "source": []
  }
 ],
 "metadata": {
  "kernelspec": {
   "display_name": "Python 3",
   "language": "python",
   "name": "python3"
  },
  "language_info": {
   "codemirror_mode": {
    "name": "ipython",
    "version": 3
   },
   "file_extension": ".py",
   "mimetype": "text/x-python",
   "name": "python",
   "nbconvert_exporter": "python",
   "pygments_lexer": "ipython3",
   "version": "3.8.10"
  }
 },
 "nbformat": 4,
 "nbformat_minor": 5
}
