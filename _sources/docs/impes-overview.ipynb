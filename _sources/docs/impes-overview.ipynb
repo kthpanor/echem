{
 "cells": [
  {
   "cell_type": "markdown",
   "id": "ed60d533-1b88-4378-8bd8-f0fc6c1ce259",
   "metadata": {},
   "source": [
    "# PES interpolation techniques\n",
    "\n",
    "In this section we will discuss the construction of global ground and excited state potential energy surfaces (PES) by interpolation between data points calculated quantum mechanically (QM). We will see how to obtain a set of QM data points with which the global PES is accurate and we will use the interpolated PES to perform ground and excited state dynamics.\n",
    "\n",
    "```{figure} ../img/impes/impes_01.svg\n",
    ":align: center\n",
    "```\n",
    "\n"
   ]
  }
 ],
 "metadata": {
  "celltoolbar": "Edit Metadata",
  "kernelspec": {
   "display_name": "Python 3 (ipykernel)",
   "language": "python",
   "name": "python3"
  },
  "language_info": {
   "codemirror_mode": {
    "name": "ipython",
    "version": 3
   },
   "file_extension": ".py",
   "mimetype": "text/x-python",
   "name": "python",
   "nbconvert_exporter": "python",
   "pygments_lexer": "ipython3",
   "version": "3.9.12"
  }
 },
 "nbformat": 4,
 "nbformat_minor": 5
}
