{
 "cells": [
  {
   "cell_type": "markdown",
   "metadata": {},
   "source": [
    "# Spectrum calculation\n",
    "\n",
    "## Absorption\n",
    "\n",
    "### Eigenstates with ADC\n",
    "\n",
    "Water with 6-31G.\n",
    "\n",
    "### CPP with ADC\n",
    "\n",
    "### Eigenstates with TDDFT\n",
    "\n",
    "### CPP with DFT\n",
    "\n",
    "## Emission\n"
   ]
  }
 ],
 "metadata": {
  "kernelspec": {
   "display_name": "Python 3",
   "language": "python",
   "name": "python3"
  },
  "language_info": {
   "codemirror_mode": {
    "name": "ipython",
    "version": 3
   },
   "file_extension": ".py",
   "mimetype": "text/x-python",
   "name": "python",
   "nbconvert_exporter": "python",
   "pygments_lexer": "ipython3",
   "version": "3.7.9"
  }
 },
 "nbformat": 4,
 "nbformat_minor": 4
}
