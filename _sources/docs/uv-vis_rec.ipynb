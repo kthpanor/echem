{
 "cells": [
  {
   "cell_type": "markdown",
   "id": "ab90c1ba",
   "metadata": {},
   "source": [
    "# Recommendations\n",
    "\n",
    "Will potentially remove this (for now)\n",
    "\n",
    "- ADC(2), ADC(3/2), ...\n",
    "- CC2, CCSD, CC3, ...\n",
    "- DFT: functional choice\n",
    "    - Valence-valence\n",
    "    - Valence-Rydberg\n",
    "    - CT transitions\n",
    "    - Triplet-instabilities\n",
    "- Basis sets"
   ]
  }
 ],
 "metadata": {
  "kernelspec": {
   "display_name": "Python 3 (ipykernel)",
   "language": "python",
   "name": "python3"
  },
  "language_info": {
   "codemirror_mode": {
    "name": "ipython",
    "version": 3
   },
   "file_extension": ".py",
   "mimetype": "text/x-python",
   "name": "python",
   "nbconvert_exporter": "python",
   "pygments_lexer": "ipython3",
   "version": "3.9.12"
  }
 },
 "nbformat": 4,
 "nbformat_minor": 5
}
