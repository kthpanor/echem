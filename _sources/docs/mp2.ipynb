{
 "cells": [
  {
   "cell_type": "markdown",
   "id": "arctic-peripheral",
   "metadata": {
    "tags": []
   },
   "source": [
    "# Møller--Plesset\n",
    "\n",
    "## Møller-Plesset partitioning\n",
    "\n",
    "In molecular electronic structure theory, $\\hat{H}$ is the Born-Oppenheimer, many-body, molecular electronic Hamiltonian. However, in general, the partitioning of the Hamiltonian, i.e. the definition of $\\hat{H_0}$, can be achieved in a number of ways.  For example, taking the diagonal of the Hamiltonian in a basis of SD as $\\hat{H_0}$, we see that equation \\ref{PT_amp1} becomes identical to the first Davidson iteration in a configuration interaction calculation, see equation \\ref{cidav}.\n",
    "\n",
    "The most common partitioning in quantum chemistry is probably the Møller-Plesset partitioning, since it follows quite naturally when first approximating the desired ground state in terms of a *single reference determinant*. The Hamiltonian is in fact rewritten as:\n",
    "\n",
    "\\begin{equation}\n",
    "\\hat{H} = \\hat{F} + \\hat{\\Phi}\n",
    "\\end{equation}\n",
    "\n",
    "where $\\hat{F}$ is the Fock operator and $\\hat{\\Phi}$ is the so-called *fluctuation potential*. $\\hat{F}$ is a one-body operator whose spectrum consists of all determinants that can be built from excitation of the reference $| 0 \\rangle$:\n",
    "\n",
    "\\begin{equation}\n",
    "\\hat{F} | 0 \\rangle  = E_{0}^{(0)}| 0 \\rangle, \\quad\n",
    "\\hat{F} \\left|_{ij\\ldots} ^{ab\\ldots} \\right\\rangle =\n",
    "\\left(E_{0}^{(0)} + \\varepsilon^{ab\\cdots}_{ij\\cdots}  \\right)\n",
    "\\left|_{ij\\ldots} ^{ab\\ldots} \\right\\rangle,\n",
    "\\end{equation}\n",
    "\n",
    "where the *zeroth-order energy* and the *orbital energy denominators* are:\n",
    "\n",
    "\\begin{equation}\n",
    "E_{0}^{(0)} = \\sum_{i} \\varepsilon_{i},\\quad\n",
    "\\varepsilon^{ab\\cdots}_{ij\\cdots} = \\varepsilon_{a} + \\varepsilon_{b} + \\cdots - \\varepsilon_{i} - \\varepsilon_{j} - \\cdots\n",
    "\\end{equation}\n",
    "\n",
    "The fluctuation potential is a two-body operator. With this partinioning, the zeroth-order energy is the sum of orbital energies. The first-order correction is:\n",
    "\n",
    "\\begin{equation}\n",
    "E_0^{(1)} = \\left\\langle 0 \\left| \\hat{\\Phi} \\right| 0 \\right\\rangle = -\\frac{1}{2} \\sum_{ij} \\langle ij \\| ij \\rangle\n",
    "\\end{equation}\n",
    "\n",
    "that is, the energy of the reference single determinant is *correct* throught first order in the perturbative series: $E_{\\mathrm{ref}} = E_{0}^{(0)} + E_0^{(1)}$.\n",
    "\n",
    "The first-order wavefunction is obtained from the general RSPT expression. In a basis of molecular spin-orbitals:\n",
    "\n",
    "\\begin{equation}\n",
    "| \\Psi^{(1)} \\rangle = -\\frac{1}{4}\\sum_{ij}^{N_{\\mathrm{O}}} \\sum_{ab}^{N_{\\mathrm{V}}} \n",
    "\\frac{\\langle ab \\| ij \\rangle}{\\varepsilon_{ij}^{ab}} |_{ij}^{ab}\\rangle,\n",
    "\\end{equation}\n",
    "\n",
    "where the *orbital energy denominator* is: $\\varepsilon_{ij}^{ab} = \\varepsilon_{i} + \\varepsilon_{j} -\\varepsilon_{a} - \\varepsilon_{b} $. The second order energy correction follows:\n",
    "\n",
    "\\begin{equation}\n",
    "E_{0}^{(2)} \\equiv \n",
    "E_{\\mathrm{MP2}} = -\n",
    "\\frac{1}{4} \n",
    "\\sum_{ij}^{N_{\\mathrm{O}}} \\sum_{ab}^{N_{\\mathrm{V}}} \n",
    "\\frac{\\langle ij \\| ab \\rangle \\langle ab \\| ij \\rangle}{\\varepsilon_{ij}^{ab}}.\n",
    "\\end{equation}\n",
    "\n",
    "For a closed-shell, restricted reference using real MOs:\n",
    "\n",
    "\\begin{equation}\n",
    "E_{\\mathrm{MP2}} = -\n",
    "\\sum_{ij}^{N_{\\mathrm{O}}} \\sum_{ab}^{N_{\\mathrm{V}}} \n",
    "\\frac{\\langle ij | ab \\rangle}{\\varepsilon_{ij}^{ab}}\n",
    "[ 2 \\langle ij | ab \\rangle - \\langle ij | ba \\rangle ],\n",
    "\\end{equation}\n",
    "\n",
    "which we can further rearrange into to two terms, *opposite-spin* and *same-spin*:\n",
    "\n",
    "\\begin{equation}\n",
    "E_{\\mathrm{MP2}} = -\n",
    "\\sum_{ij}^{N_{\\mathrm{O}}} \\sum_{ab}^{N_{\\mathrm{V}}} \n",
    "\\frac{\\langle ij | ab \\rangle\\langle ij | ab \\rangle}{\\varepsilon_{ij}^{ab}} -\n",
    "\\sum_{ij}^{N_{\\mathrm{O}}} \\sum_{ab}^{N_{\\mathrm{V}}} \n",
    "\\frac{\\langle ij | ab \\rangle[ \\langle ij | ab \\rangle - \\langle ij | ba \\rangle ]}{\\varepsilon_{ij}^{ab}} = \n",
    "E_{\\mathrm{MP2}}^{\\mathrm{OS}} + E_{\\mathrm{MP2}}^{\\mathrm{SS}}.\n",
    "\\end{equation}"
   ]
  },
  {
   "cell_type": "markdown",
   "id": "personal-person",
   "metadata": {},
   "source": [
    "## Implementation\n",
    "\n",
    "To compute $E_{\\mathrm{MP2}}$ we need to:\n",
    "\n",
    "1. Obtain the reference closed-shell determinant from a Hartree-Fock calculation.\n",
    "2. Transform the AO basis ERI tensor to MO basis.\n",
    "3. Assemble the energy denominators.\n",
    "4. Combine the results of steps 2 and 3 to form the perturbative correction.\n",
    "\n",
    "![Obtaining the MP2 energy correction](../img/mp2.svg)\n",
    "\n",
    "### Obtaining the HF reference\n",
    "\n",
    "We start with the declaration of the usual water molecule and its basis set. We also perform the SCF calculation with the `ScfRestrictedDriver`."
   ]
  },
  {
   "cell_type": "code",
   "execution_count": 1,
   "id": "varying-agenda",
   "metadata": {
    "collapsed": true,
    "tags": [
     "hide_output"
    ]
   },
   "outputs": [
    {
     "name": "stdout",
     "output_type": "stream",
     "text": [
      "* Warning * Environment variable OMP_NUM_THREADS not set.\n",
      "* Warning * Setting OMP_NUM_THREADS to 4.\n",
      "                                                                                                                          \n",
      "                                            Self Consistent Field Driver Setup                                            \n",
      "                                           ====================================                                           \n",
      "                                                                                                                          \n",
      "                   Wave Function Model             : Spin-Restricted Hartree-Fock                                         \n",
      "                   Initial Guess Model             : Superposition of Atomic Densities                                    \n",
      "                   Convergence Accelerator         : Two Level Direct Inversion of Iterative Subspace                     \n",
      "                   Max. Number of Iterations       : 50                                                                   \n",
      "                   Max. Number of Error Vectors    : 10                                                                   \n",
      "                   Convergence Threshold           : 1.0e-06                                                              \n",
      "                   ERI Screening Scheme            : Cauchy Schwarz + Density                                             \n",
      "                   ERI Screening Mode              : Dynamic                                                              \n",
      "                   ERI Screening Threshold         : 1.0e-12                                                              \n",
      "                   Linear Dependence Threshold     : 1.0e-06                                                              \n",
      "                                                                                                                          \n",
      "* Info * Nuclear repulsion energy: 9.3436381580 au                                                                        \n",
      "                                                                                                                          \n",
      "* Info * Overlap matrix computed in 0.00 sec.                                                                             \n",
      "                                                                                                                          \n",
      "* Info * Kinetic energy matrix computed in 0.00 sec.                                                                      \n",
      "                                                                                                                          \n",
      "* Info * Nuclear potential matrix computed in 0.00 sec.                                                                   \n",
      "                                                                                                                          \n",
      "* Info * Orthogonalization matrix computed in 0.00 sec.                                                                   \n",
      "                                                                                                                          \n",
      "* Info * SAD initial guess computed in 0.00 sec.                                                                          \n",
      "                                                                                                                          \n",
      "* Info * Starting Reduced Basis SCF calculation...                                                                        \n",
      "* Info * ...done. SCF energy in reduced basis set: -75.979046359568 au. Time: 0.10 sec.                                   \n",
      "                                                                                                                          \n",
      "* Info * Overlap matrix computed in 0.00 sec.                                                                             \n",
      "                                                                                                                          \n",
      "* Info * Kinetic energy matrix computed in 0.00 sec.                                                                      \n",
      "                                                                                                                          \n",
      "* Info * Nuclear potential matrix computed in 0.00 sec.                                                                   \n",
      "                                                                                                                          \n",
      "* Info * Orthogonalization matrix computed in 0.00 sec.                                                                   \n",
      "                                                                                                                          \n",
      "                                                                                                                          \n",
      "               Iter. | Hartree-Fock Energy | Energy Change | Gradient Norm | Max. Gradient | Density Change               \n",
      "               --------------------------------------------------------------------------------------------               \n",
      "                  1       -76.025869744699    0.0000000000      0.09892066      0.01121867      0.00000000                \n",
      "                  2       -76.026932827150   -0.0010630825      0.01920269      0.00294570      0.02594960                \n",
      "                  3       -76.026981056596   -0.0000482294      0.00412658      0.00076652      0.00507499                \n",
      "                  4       -76.026983601528   -0.0000025449      0.00247905      0.00043111      0.00166621                \n",
      "                  5       -76.026984175645   -0.0000005741      0.00021766      0.00003639      0.00052311                \n",
      "                  6       -76.026984187023   -0.0000000114      0.00003206      0.00000540      0.00012084                \n",
      "                  7       -76.026984187254   -0.0000000002      0.00000208      0.00000029      0.00001663                \n",
      "                  8       -76.026984187255   -0.0000000000      0.00000053      0.00000008      0.00000087                \n",
      "                                                                                                                          \n",
      "               *** SCF converged in 8 iterations. Time: 0.92 sec.                                                         \n",
      "                                                                                                                          \n",
      "               Spin-Restricted Hartree-Fock:                                                                              \n",
      "               -----------------------------                                                                              \n",
      "               Total Energy                       :      -76.0269841873 au                                                \n",
      "               Electronic Energy                  :      -85.3706223452 au                                                \n",
      "               Nuclear Repulsion Energy           :        9.3436381580 au                                                \n",
      "               ------------------------------------                                                                       \n",
      "               Gradient Norm                      :        0.0000005316 au                                                \n",
      "                                                                                                                          \n",
      "                                                                                                                          \n",
      "               Ground State Information                                                                                   \n",
      "               ------------------------                                                                                   \n",
      "               Charge of Molecule            :  0.0                                                                       \n",
      "               Multiplicity (2S+1)           :  1.0                                                                       \n",
      "               Magnetic Quantum Number (M_S) :  0.0                                                                       \n",
      "                                                                                                                          \n",
      "                                                                                                                          \n",
      "                                                 Spin Restricted Orbitals                                                 \n",
      "                                                 ------------------------                                                 \n",
      "                                                                                                                          \n",
      "               Molecular Orbital No.   1:                                                                                 \n",
      "               --------------------------                                                                                 \n",
      "               Occupation: 2.0 Energy:  -20.54819 au                                                                      \n",
      "               (   1 O   1s  :    -1.00)                                                                                  \n",
      "                                                                                                                          \n",
      "               Molecular Orbital No.   2:                                                                                 \n",
      "               --------------------------                                                                                 \n",
      "               Occupation: 2.0 Energy:   -1.34520 au                                                                      \n",
      "               (   1 O   2s  :     0.44) (   1 O   3s  :     0.36) (   2 H   1s  :     0.20)                              \n",
      "               (   3 H   1s  :     0.20)                                                                                  \n",
      "                                                                                                                          \n",
      "               Molecular Orbital No.   3:                                                                                 \n",
      "               --------------------------                                                                                 \n",
      "               Occupation: 2.0 Energy:   -0.70585 au                                                                      \n",
      "               (   1 O   1p-1:    -0.49) (   1 O   2p-1:    -0.22) (   2 H   1s  :    -0.33)                              \n",
      "               (   3 H   1s  :     0.33)                                                                                  \n",
      "                                                                                                                          \n",
      "               Molecular Orbital No.   4:                                                                                 \n",
      "               --------------------------                                                                                 \n",
      "               Occupation: 2.0 Energy:   -0.57109 au                                                                      \n",
      "               (   1 O   2s  :    -0.15) (   1 O   3s  :    -0.36) (   1 O   1p0 :     0.55)                              \n",
      "               (   1 O   2p0 :     0.36) (   2 H   1s  :     0.21) (   3 H   1s  :     0.21)                              \n",
      "                                                                                                                          \n",
      "               Molecular Orbital No.   5:                                                                                 \n",
      "               --------------------------                                                                                 \n",
      "               Occupation: 2.0 Energy:   -0.49457 au                                                                      \n",
      "               (   1 O   1p+1:    -0.63) (   1 O   2p+1:    -0.49)                                                        \n",
      "                                                                                                                          \n",
      "               Molecular Orbital No.   6:                                                                                 \n",
      "               --------------------------                                                                                 \n",
      "               Occupation: 0.0 Energy:    0.18787 au                                                                      \n",
      "               (   1 O   3s  :    -1.02) (   1 O   1p0 :    -0.19) (   1 O   2p0 :    -0.33)                              \n",
      "               (   2 H   2s  :     0.83) (   3 H   2s  :     0.83)                                                        \n",
      "                                                                                                                          \n",
      "               Molecular Orbital No.   7:                                                                                 \n",
      "               --------------------------                                                                                 \n",
      "               Occupation: 0.0 Energy:    0.25852 au                                                                      \n",
      "               (   1 O   1p-1:     0.28) (   1 O   2p-1:     0.67) (   2 H   2s  :    -1.48)                              \n",
      "               (   3 H   2s  :     1.48)                                                                                  \n",
      "                                                                                                                          \n",
      "               Molecular Orbital No.   8:                                                                                 \n",
      "               --------------------------                                                                                 \n",
      "               Occupation: 0.0 Energy:    0.79749 au                                                                      \n",
      "               (   1 O   1p-1:    -0.26) (   1 O   2p-1:    -0.49) (   2 H   1s  :     0.95)                              \n",
      "               (   2 H   2s  :    -0.66) (   2 H   1p0 :     0.16) (   3 H   1s  :    -0.95)                              \n",
      "               (   3 H   2s  :     0.66) (   3 H   1p0 :    -0.16)                                                        \n",
      "                                                                                                                          \n",
      "               Molecular Orbital No.   9:                                                                                 \n",
      "               --------------------------                                                                                 \n",
      "               Occupation: 0.0 Energy:    0.87271 au                                                                      \n",
      "               (   1 O   2s  :    -0.25) (   1 O   3s  :     0.34) (   1 O   1p0 :    -0.34)                              \n",
      "               (   2 H   1s  :     0.77) (   2 H   2s  :    -0.54) (   2 H   1p-1:     0.31)                              \n",
      "               (   3 H   1s  :     0.77) (   3 H   2s  :    -0.54) (   3 H   1p-1:    -0.31)                              \n",
      "                                                                                                                          \n",
      "               Molecular Orbital No.  10:                                                                                 \n",
      "               --------------------------                                                                                 \n",
      "               Occupation: 0.0 Energy:    1.16315 au                                                                      \n",
      "               (   1 O   3s  :     0.78) (   1 O   1p0 :    -0.74) (   1 O   2p0 :     1.31)                              \n",
      "               (   2 H   1s  :    -0.59) (   2 H   1p0 :     0.24) (   3 H   1s  :    -0.59)                              \n",
      "               (   3 H   1p0 :     0.24)                                                                                  \n",
      "                                                                                                                          \n"
     ]
    }
   ],
   "source": [
    "import veloxchem as vlx\n",
    "\n",
    "h2o_xyz = \"\"\"3\n",
    "water                                                                                                                          \n",
    "O    0.000000000000        0.000000000000        0.000000000000                         \n",
    "H    0.000000000000        0.740848095288        0.582094932012                         \n",
    "H    0.000000000000       -0.740848095288        0.582094932012\n",
    "\"\"\"\n",
    "\n",
    "mol = vlx.Molecule.from_xyz_string(h2o_xyz)\n",
    "\n",
    "basis = vlx.MolecularBasis.read(mol, \"cc-pvdz\")\n",
    "\n",
    "scfdrv = vlx.ScfRestrictedDriver()\n",
    "scfdrv.compute(mol, basis)"
   ]
  },
  {
   "cell_type": "markdown",
   "id": "rocky-surface",
   "metadata": {},
   "source": [
    "We can now access orbital energies and MO coefficients from the driver:"
   ]
  },
  {
   "cell_type": "code",
   "execution_count": 2,
   "id": "unsigned-material",
   "metadata": {
    "collapsed": true
   },
   "outputs": [],
   "source": [
    "epsilon = scfdrv.scf_tensors[\"E\"]\n",
    "C = scfdrv.scf_tensors[\"C\"]"
   ]
  },
  {
   "cell_type": "markdown",
   "id": "operating-gabriel",
   "metadata": {},
   "source": [
    "### Transforming the integrals\n",
    "\n",
    "We compute the MP2 energy correction with the ERI expressed in MO basis: we need to transform the ERI tensor from AO basis.\n",
    "The transformation reads:\n",
    "\n",
    "\\begin{equation}\n",
    "\\langle pq | rs \\rangle = \\sum_{\\mu\\nu\\kappa\\lambda} C_{\\mu p}C_{\\nu r} (\\mu\\nu|\\kappa\\lambda) C_{\\kappa q} C_{\\lambda s},\n",
    "\\end{equation}\n",
    "\n",
    "with the MO integrals in [**physicists' notation**](http://vergil.chemistry.gatech.edu/notes/permsymm/permsymm.html). The transformation requires $O(N^{8})$ operation count. \n",
    "However, we can perform it more efficiently as a stepwise contraction:\n",
    "\n",
    "\\begin{equation}\n",
    "\\langle pq | rs \\rangle = \\sum_{\\mu} C_{\\mu p}  \\left(\\sum_{\\nu} C_{\\nu r}  \\left (\\sum_{\\kappa} \\left(\\sum_{\\lambda} (\\mu\\nu|\\kappa\\lambda) C_{\\lambda s} \\right) C_{\\kappa q} \\right)\\right).\n",
    "\\end{equation}\n",
    "\n",
    "We should also note that we do **not** need the full ERI tensor in MO basis, but rather the *OOVV* class of integrals, which involve two occupied and two virtual MO indices:\n",
    "\n",
    "\\begin{equation}\n",
    "\\langle ij | ab \\rangle = \n",
    "\\sum_{\\mu} C_{\\mu i}  \n",
    "\\left(\\sum_{\\nu} C_{\\nu j}  \n",
    "\\left(\\sum_{\\kappa} \n",
    "\\left(\\sum_{\\lambda} (\\mu\\kappa|\\nu\\lambda) C_{\\lambda b} \\right)\n",
    "C_{\\kappa a}\\right)\\right).\n",
    "\\end{equation}"
   ]
  },
  {
   "cell_type": "code",
   "execution_count": 3,
   "id": "arbitrary-adelaide",
   "metadata": {
    "collapsed": true
   },
   "outputs": [],
   "source": [
    "eridrv = vlx.ElectronRepulsionIntegralsDriver()\n",
    "mknl = eridrv.compute_in_mem(mol, basis)"
   ]
  },
  {
   "cell_type": "code",
   "execution_count": 4,
   "id": "level-bottom",
   "metadata": {
    "collapsed": true
   },
   "outputs": [
    {
     "name": "stdout",
     "output_type": "stream",
     "text": [
      "mknb.shape=(24, 24, 24, 19)\n",
      "mnab.shape=(24, 24, 19, 19)\n",
      "mjab.shape=(24, 5, 19, 19)\n",
      "ijab.shape=(5, 5, 19, 19)\n"
     ]
    }
   ],
   "source": [
    "import numpy as np\n",
    "\n",
    "N_O = mol.number_of_electrons() // 2\n",
    "N_V = scfdrv.mol_orbs.number_mos() - N_O\n",
    "\n",
    "mknb = np.einsum(\"mknl,lB->mknB\", mknl, C[:, N_O:])\n",
    "print(f\"{mknb.shape=}\")\n",
    "mnab = np.einsum(\"mknB,kA->mnAB\", mknb, C[:, N_O:])\n",
    "print(f\"{mnab.shape=}\")\n",
    "mjab = np.einsum(\"mnAB,nJ->mJAB\", mnab, C[:, :N_O])\n",
    "print(f\"{mjab.shape=}\")\n",
    "ijab = np.einsum(\"mJAB,mI->IJAB\", mjab, C[:, :N_O])\n",
    "print(f\"{ijab.shape=}\")"
   ]
  },
  {
   "cell_type": "markdown",
   "id": "illegal-belize",
   "metadata": {},
   "source": [
    "Let's compare our *OOVV* ERI tensor with the one computed by using VeloxChem's own `MOIntegralsDriver`:"
   ]
  },
  {
   "cell_type": "code",
   "execution_count": 5,
   "id": "auburn-producer",
   "metadata": {
    "collapsed": true,
    "tags": []
   },
   "outputs": [],
   "source": [
    "moeridrv = vlx.MOIntegralsDriver()\n",
    "moeri = moeridrv.compute_in_mem(mol, basis, mol_orbs=scfdrv.mol_orbs, mints_type=\"OOVV\")\n",
    "\n",
    "np.testing.assert_allclose(ijab, moeri, atol=1.e-10)"
   ]
  },
  {
   "cell_type": "markdown",
   "id": "czech-paint",
   "metadata": {},
   "source": [
    "### The MP2 energy correction\n",
    "\n",
    "We now have all the ingredients to compute the *opposite-spin* and *same-spin* components of the MP2 energy correction:\n",
    "\n",
    "\\begin{equation}\n",
    "E_{\\mathrm{MP2}} = -\n",
    "\\sum_{ij}^{N_{\\mathrm{O}}} \\sum_{ab}^{N_{\\mathrm{V}}} \n",
    "\\frac{\\langle ij | ab \\rangle\\langle ij | ab \\rangle}{\\varepsilon_{ij}^{ab}} - \n",
    "\\sum_{ij}^{N_{\\mathrm{O}}} \\sum_{ab}^{N_{\\mathrm{V}}} \n",
    "\\frac{\\langle ij | ab \\rangle[ \\langle ij | ab \\rangle - \\langle ij | ba \\rangle ]}{\\varepsilon_{ij}^{ab}} = \n",
    "E_{\\mathrm{MP2}}^{\\mathrm{OS}} + E_{\\mathrm{MP2}}^{\\mathrm{SS}}.\n",
    "\\end{equation}"
   ]
  },
  {
   "cell_type": "code",
   "execution_count": 6,
   "id": "nuclear-cruise",
   "metadata": {
    "collapsed": true
   },
   "outputs": [],
   "source": [
    "e_mp2_ss = 0.0\n",
    "e_mp2_os = 0.0\n",
    "\n",
    "# extract the occupied subset of the orbital energies\n",
    "e_ij = epsilon[:N_O]\n",
    "# extract the virtual subset of the orbital energies\n",
    "e_ab = epsilon[N_O:]\n",
    "\n",
    "for i in range(N_O):\n",
    "    for j in range(N_O):\n",
    "        for a in range(N_V):\n",
    "            for b in range(N_V):\n",
    "                # enegy denominators\n",
    "                e_ijab = e_ab[a] + e_ab[b] - e_ij[i] - e_ij[j] \n",
    "                \n",
    "                # update opposite-spin component of the energy\n",
    "                e_mp2_os -= (ijab[i, j, a, b] * ijab[i, j, a, b]) / e_ijab\n",
    "                \n",
    "                # update same-spin component of the energy\n",
    "                e_mp2_ss -= ijab[i, j, a, b] * (ijab[i, j, a, b]  - ijab[i, j, b, a]) / e_ijab"
   ]
  },
  {
   "cell_type": "code",
   "execution_count": 7,
   "id": "female-benjamin",
   "metadata": {
    "collapsed": true
   },
   "outputs": [
    {
     "name": "stdout",
     "output_type": "stream",
     "text": [
      "Opposite-spin MP2 energy:      -0.151630828957\n",
      "Same-spin MP2 energy:          -0.051381873614\n",
      "MP2 energy:                    -0.203012702571\n"
     ]
    }
   ],
   "source": [
    "print(f\"Opposite-spin MP2 energy: {e_mp2_os:20.12f}\")\n",
    "print(f\"Same-spin MP2 energy:     {e_mp2_ss:20.12f}\")\n",
    "print(f\"MP2 energy:               {e_mp2_os + e_mp2_ss:20.12f}\")"
   ]
  },
  {
   "cell_type": "markdown",
   "id": "herbal-preview",
   "metadata": {},
   "source": [
    "VeloxChem has its own implementation of the MP2 energy correction. We can check our result against it."
   ]
  },
  {
   "cell_type": "code",
   "execution_count": 8,
   "id": "massive-vaccine",
   "metadata": {
    "collapsed": true
   },
   "outputs": [],
   "source": [
    "mp2drv = vlx.Mp2Driver()\n",
    "mp2drv.compute_conventional(mol, basis, scfdrv.mol_orbs)\n",
    "\n",
    "np.testing.assert_allclose(e_mp2_os + e_mp2_ss, mp2drv.e_mp2, atol=1e-9)"
   ]
  },
  {
   "cell_type": "markdown",
   "id": "smart-aspect",
   "metadata": {},
   "source": [
    "## Size-consistency\n",
    "\n",
    "We see that to second order, Møller-Plesset perturbation theory only involves up to double excitations from the HF reference. It would thus be natural to consider it an approximation to CISD, and expect it to suffer from the same issue, namely a lack of size-consistency. Yet this is not the case. This can easily be verified numerically on a small case"
   ]
  },
  {
   "cell_type": "code",
   "execution_count": 17,
   "id": "dutch-plaza",
   "metadata": {
    "tags": [
     "hide_output"
    ]
   },
   "outputs": [
    {
     "name": "stdout",
     "output_type": "stream",
     "text": [
      "                                                                                                                          \n",
      "                                            Self Consistent Field Driver Setup                                            \n",
      "                                           ====================================                                           \n",
      "                                                                                                                          \n",
      "                   Wave Function Model             : Spin-Restricted Hartree-Fock                                         \n",
      "                   Initial Guess Model             : Superposition of Atomic Densities                                    \n",
      "                   Convergence Accelerator         : Two Level Direct Inversion of Iterative Subspace                     \n",
      "                   Max. Number of Iterations       : 50                                                                   \n",
      "                   Max. Number of Error Vectors    : 10                                                                   \n",
      "                   Convergence Threshold           : 1.0e-06                                                              \n",
      "                   ERI Screening Scheme            : Cauchy Schwarz + Density                                             \n",
      "                   ERI Screening Mode              : Dynamic                                                              \n",
      "                   ERI Screening Threshold         : 1.0e-12                                                              \n",
      "                   Linear Dependence Threshold     : 1.0e-06                                                              \n",
      "                                                                                                                          \n",
      "* Info * Nuclear repulsion energy: 19.2164448499 au                                                                       \n",
      "                                                                                                                          \n",
      "* Info * Overlap matrix computed in 0.00 sec.                                                                             \n",
      "                                                                                                                          \n",
      "* Info * Kinetic energy matrix computed in 0.00 sec.                                                                      \n",
      "                                                                                                                          \n",
      "* Info * Nuclear potential matrix computed in 0.00 sec.                                                                   \n",
      "                                                                                                                          \n",
      "* Info * Orthogonalization matrix computed in 0.00 sec.                                                                   \n",
      "                                                                                                                          \n",
      "* Info * SAD initial guess computed in 0.00 sec.                                                                          \n",
      "                                                                                                                          \n",
      "* Info * Starting Reduced Basis SCF calculation...                                                                        \n",
      "* Info * ...done. SCF energy in reduced basis set: -151.958092575955 au. Time: 0.19 sec.                                  \n",
      "                                                                                                                          \n",
      "* Info * Overlap matrix computed in 0.00 sec.                                                                             \n",
      "                                                                                                                          \n",
      "* Info * Kinetic energy matrix computed in 0.00 sec.                                                                      \n",
      "                                                                                                                          \n",
      "* Info * Nuclear potential matrix computed in 0.00 sec.                                                                   \n",
      "                                                                                                                          \n",
      "* Info * Orthogonalization matrix computed in 0.00 sec.                                                                   \n",
      "                                                                                                                          \n",
      "                                                                                                                          \n",
      "               Iter. | Hartree-Fock Energy | Energy Change | Gradient Norm | Max. Gradient | Density Change               \n",
      "               --------------------------------------------------------------------------------------------               \n",
      "                  1      -152.051738140320    0.0000000000      0.13991946      0.01118664      0.00000000                \n",
      "                  2      -152.053865418938   -0.0021272786      0.02711307      0.00253916      0.03667246                \n",
      "                  3      -152.053962061619   -0.0000966427      0.00577036      0.00075427      0.00716290                \n",
      "                  4      -152.053967147968   -0.0000050863      0.00344551      0.00033612      0.00235525                \n",
      "                  5      -152.053968254473   -0.0000011065      0.00030861      0.00003629      0.00072555                \n",
      "                  6      -152.053968277231   -0.0000000228      0.00004512      0.00000528      0.00017099                \n",
      "                  7      -152.053968277686   -0.0000000005      0.00000279      0.00000028      0.00002339                \n",
      "                  8      -152.053968277688   -0.0000000000      0.00000068      0.00000007      0.00000112                \n",
      "                                                                                                                          \n",
      "               *** SCF converged in 8 iterations. Time: 1.18 sec.                                                         \n",
      "                                                                                                                          \n",
      "               Spin-Restricted Hartree-Fock:                                                                              \n",
      "               -----------------------------                                                                              \n",
      "               Total Energy                       :     -152.0539682777 au                                                \n",
      "               Electronic Energy                  :     -171.2704131275 au                                                \n",
      "               Nuclear Repulsion Energy           :       19.2164448499 au                                                \n",
      "               ------------------------------------                                                                       \n",
      "               Gradient Norm                      :        0.0000006818 au                                                \n",
      "                                                                                                                          \n",
      "                                                                                                                          \n",
      "               Ground State Information                                                                                   \n",
      "               ------------------------                                                                                   \n",
      "               Charge of Molecule            :  0.0                                                                       \n",
      "               Multiplicity (2S+1)           :  1.0                                                                       \n",
      "               Magnetic Quantum Number (M_S) :  0.0                                                                       \n",
      "                                                                                                                          \n",
      "                                                                                                                          \n",
      "                                                 Spin Restricted Orbitals                                                 \n",
      "                                                 ------------------------                                                 \n",
      "                                                                                                                          \n",
      "               Molecular Orbital No.   6:                                                                                 \n",
      "               --------------------------                                                                                 \n",
      "               Occupation: 2.0 Energy:   -0.70584 au                                                                      \n",
      "               (   1 O   1p-1:     0.45) (   1 O   2p-1:     0.20) (   2 H   1s  :     0.31)                              \n",
      "               (   3 H   1s  :    -0.31) (   4 O   1p-1:    -0.19)                                                        \n",
      "                                                                                                                          \n",
      "               Molecular Orbital No.   7:                                                                                 \n",
      "               --------------------------                                                                                 \n",
      "               Occupation: 2.0 Energy:   -0.57109 au                                                                      \n",
      "               (   4 O   2s  :    -0.15) (   4 O   3s  :    -0.36) (   4 O   1p0 :     0.55)                              \n",
      "               (   4 O   2p0 :     0.36) (   5 H   1s  :     0.21) (   6 H   1s  :     0.21)                              \n",
      "                                                                                                                          \n",
      "               Molecular Orbital No.   8:                                                                                 \n",
      "               --------------------------                                                                                 \n",
      "               Occupation: 2.0 Energy:   -0.57109 au                                                                      \n",
      "               (   1 O   2s  :     0.15) (   1 O   3s  :     0.36) (   1 O   1p0 :    -0.55)                              \n",
      "               (   1 O   2p0 :    -0.36) (   2 H   1s  :    -0.21) (   3 H   1s  :    -0.21)                              \n",
      "                                                                                                                          \n",
      "               Molecular Orbital No.   9:                                                                                 \n",
      "               --------------------------                                                                                 \n",
      "               Occupation: 2.0 Energy:   -0.49457 au                                                                      \n",
      "               (   4 O   1p+1:     0.63) (   4 O   2p+1:     0.49)                                                        \n",
      "                                                                                                                          \n",
      "               Molecular Orbital No.  10:                                                                                 \n",
      "               --------------------------                                                                                 \n",
      "               Occupation: 2.0 Energy:   -0.49457 au                                                                      \n",
      "               (   1 O   1p+1:    -0.63) (   1 O   2p+1:    -0.49)                                                        \n",
      "                                                                                                                          \n",
      "               Molecular Orbital No.  11:                                                                                 \n",
      "               --------------------------                                                                                 \n",
      "               Occupation: 0.0 Energy:    0.18787 au                                                                      \n",
      "               (   1 O   3s  :     1.02) (   1 O   1p0 :     0.19) (   1 O   2p0 :     0.33)                              \n",
      "               (   2 H   2s  :    -0.83) (   3 H   2s  :    -0.83)                                                        \n",
      "                                                                                                                          \n",
      "               Molecular Orbital No.  12:                                                                                 \n",
      "               --------------------------                                                                                 \n",
      "               Occupation: 0.0 Energy:    0.18787 au                                                                      \n",
      "               (   4 O   3s  :    -1.02) (   4 O   1p0 :    -0.19) (   4 O   2p0 :    -0.33)                              \n",
      "               (   5 H   2s  :     0.83) (   6 H   2s  :     0.83)                                                        \n",
      "                                                                                                                          \n",
      "               Molecular Orbital No.  13:                                                                                 \n",
      "               --------------------------                                                                                 \n",
      "               Occupation: 0.0 Energy:    0.25852 au                                                                      \n",
      "               (   4 O   1p-1:    -0.28) (   4 O   2p-1:    -0.67) (   5 H   2s  :     1.48)                              \n",
      "               (   6 H   2s  :    -1.48)                                                                                  \n",
      "                                                                                                                          \n",
      "               Molecular Orbital No.  14:                                                                                 \n",
      "               --------------------------                                                                                 \n",
      "               Occupation: 0.0 Energy:    0.25852 au                                                                      \n",
      "               (   1 O   1p-1:     0.28) (   1 O   2p-1:     0.67) (   2 H   2s  :    -1.48)                              \n",
      "               (   3 H   2s  :     1.48)                                                                                  \n",
      "                                                                                                                          \n",
      "               Molecular Orbital No.  15:                                                                                 \n",
      "               --------------------------                                                                                 \n",
      "               Occupation: 0.0 Energy:    0.79749 au                                                                      \n",
      "               (   4 O   1p-1:     0.26) (   4 O   2p-1:     0.49) (   5 H   1s  :    -0.95)                              \n",
      "               (   5 H   2s  :     0.66) (   5 H   1p0 :    -0.16) (   6 H   1s  :     0.95)                              \n",
      "               (   6 H   2s  :    -0.66) (   6 H   1p0 :     0.16)                                                        \n",
      "                                                                                                                          \n"
     ]
    },
    {
     "name": "stdout",
     "output_type": "stream",
     "text": [
      "               *** MP2 correlation energy:      -0.406025413977 a.u.                                                      \n",
      "                                                                                                                          \n"
     ]
    }
   ],
   "source": [
    "h2o_2_xyz = \"\"\"6\n",
    "2 water 100Å apart                                                                                                            \n",
    "O    0.000000000000        0.000000000000        0.000000000000                         \n",
    "H    0.000000000000        0.740848095288        0.582094932012                         \n",
    "H    0.000000000000       -0.740848095288        0.582094932012\n",
    "O  100.000000000000        0.000000000000        0.000000000000                         \n",
    "H  100.000000000000        0.740848095288        0.582094932012                         \n",
    "H  100.000000000000       -0.740848095288        0.582094932012\n",
    "\"\"\"\n",
    "\n",
    "mol = vlx.Molecule.from_xyz_string(h2o_2_xyz)\n",
    "\n",
    "basis = vlx.MolecularBasis.read(mol, \"cc-pvdz\")\n",
    "\n",
    "scfdrv = vlx.ScfRestrictedDriver()\n",
    "scfdrv.compute(mol, basis)\n",
    "\n",
    "mp2drv = vlx.Mp2Driver()\n",
    "mp2drv.compute_conventional(mol, basis, scfdrv.mol_orbs)"
   ]
  },
  {
   "cell_type": "code",
   "execution_count": 18,
   "id": "fixed-forward",
   "metadata": {},
   "outputs": [
    {
     "name": "stdout",
     "output_type": "stream",
     "text": [
      "MP2 Energy correction of 2 water molecules -0.4060254139773466\n",
      "Twice the energy of 1 water molecule -0.40602540514196905\n"
     ]
    }
   ],
   "source": [
    "print(\"MP2 Energy correction of 2 water molecules\",mp2drv.e_mp2)\n",
    "print(\"Twice the energy of 1 water molecule\",(e_mp2_os + e_mp2_ss)*2)"
   ]
  },
  {
   "cell_type": "markdown",
   "id": "compound-helicopter",
   "metadata": {},
   "source": [
    "We can see that the two energies match. MP2 is size-consistent! Why is it behaving better than CISD in this aspect?\n",
    "\n",
    "The key is that in MP2, the coefficients of the excited determinants are independent of the system size. Thus a molecule would have the same MP2 energy correction regardless of the presence or not of another, non-interacting, molecule. By contrast, in CISD, the coefficients depend on the system size through normalisation, lowering the weight of these determinants as the size of the system increases."
   ]
  },
  {
   "cell_type": "markdown",
   "id": "executive-pearl",
   "metadata": {},
   "source": [
    "## Further reading\n",
    "\n",
    "- Shavitt, I.; Bartlett, R. J. *Many-Body Methods in Chemistry and Physics: MBPT and Coupled-Cluster Theory* Cambridge Molecular Science; Cambridge University Press, 2009.\n",
    "- Helgaker, T.; Jørgensen, P.; Olsen, J. *Molecular Electronic-Structure Theory* Wiley, 2000."
   ]
  },
  {
   "cell_type": "code",
   "execution_count": null,
   "id": "connected-peeing",
   "metadata": {},
   "outputs": [],
   "source": []
  }
 ],
 "metadata": {
  "kernelspec": {
   "display_name": "Python 3",
   "language": "python",
   "name": "python3"
  },
  "language_info": {
   "codemirror_mode": {
    "name": "ipython",
    "version": 3
   },
   "file_extension": ".py",
   "mimetype": "text/x-python",
   "name": "python",
   "nbconvert_exporter": "python",
   "pygments_lexer": "ipython3",
   "version": "3.8.6"
  }
 },
 "nbformat": 4,
 "nbformat_minor": 5
}
