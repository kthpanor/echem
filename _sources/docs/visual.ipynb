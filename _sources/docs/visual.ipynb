{
 "cells": [
  {
   "cell_type": "markdown",
   "id": "furnished-sleeve",
   "metadata": {},
   "source": [
    "#  One- and two-electron densities"
   ]
  },
  {
   "cell_type": "code",
   "execution_count": 1,
   "id": "confidential-psychiatry",
   "metadata": {
    "tags": [
     "remove-output"
    ]
   },
   "outputs": [
    {
     "name": "stdout",
     "output_type": "stream",
     "text": [
      "* Warning * Environment variable OMP_NUM_THREADS not set.\n",
      "* Warning * Setting OMP_NUM_THREADS to 4.\n"
     ]
    }
   ],
   "source": [
    "import veloxchem as vlx\n",
    "import matplotlib.pyplot as plt\n",
    "import numpy as np\n",
    "from scipy import interpolate\n",
    "from scipy.integrate import simps"
   ]
  },
  {
   "cell_type": "code",
   "execution_count": 15,
   "id": "creative-drove",
   "metadata": {
    "tags": [
     "hide-output"
    ]
   },
   "outputs": [
    {
     "name": "stdout",
     "output_type": "stream",
     "text": [
      "                                                                                                                          \n",
      "                                            Self Consistent Field Driver Setup                                            \n",
      "                                           ====================================                                           \n",
      "                                                                                                                          \n",
      "                   Wave Function Model             : Spin-Restricted Hartree-Fock                                         \n",
      "                   Initial Guess Model             : Superposition of Atomic Densities                                    \n",
      "                   Convergence Accelerator         : Two Level Direct Inversion of Iterative Subspace                     \n",
      "                   Max. Number of Iterations       : 50                                                                   \n",
      "                   Max. Number of Error Vectors    : 10                                                                   \n",
      "                   Convergence Threshold           : 1.0e-06                                                              \n",
      "                   ERI Screening Scheme            : Cauchy Schwarz + Density                                             \n",
      "                   ERI Screening Mode              : Dynamic                                                              \n",
      "                   ERI Screening Threshold         : 1.0e-12                                                              \n",
      "                   Linear Dependence Threshold     : 1.0e-06                                                              \n",
      "                                                                                                                          \n",
      "* Info * Nuclear repulsion energy: 0.7142857143 au                                                                        \n",
      "                                                                                                                          \n",
      "* Info * Overlap matrix computed in 0.00 sec.                                                                             \n",
      "                                                                                                                          \n",
      "* Info * Kinetic energy matrix computed in 0.00 sec.                                                                      \n",
      "                                                                                                                          \n",
      "* Info * Nuclear potential matrix computed in 0.00 sec.                                                                   \n",
      "                                                                                                                          \n",
      "* Info * Orthogonalization matrix computed in 0.00 sec.                                                                   \n",
      "                                                                                                                          \n",
      "* Info * SAD initial guess computed in 0.00 sec.                                                                          \n",
      "                                                                                                                          \n",
      "* Info * Starting Reduced Basis SCF calculation...                                                                        \n",
      "* Info * ...done. SCF energy in reduced basis set: -1.116714325063 au. Time: 0.01 sec.                                    \n",
      "                                                                                                                          \n",
      "* Info * Overlap matrix computed in 0.00 sec.                                                                             \n",
      "                                                                                                                          \n",
      "* Info * Kinetic energy matrix computed in 0.00 sec.                                                                      \n",
      "                                                                                                                          \n",
      "* Info * Nuclear potential matrix computed in 0.00 sec.                                                                   \n",
      "                                                                                                                          \n",
      "* Info * Orthogonalization matrix computed in 0.00 sec.                                                                   \n",
      "                                                                                                                          \n",
      "                                                                                                                          \n",
      "               Iter. | Hartree-Fock Energy | Energy Change | Gradient Norm | Max. Gradient | Density Change               \n",
      "               --------------------------------------------------------------------------------------------               \n",
      "                  1        -1.116714325063    0.0000000000      0.00000000      0.00000000      0.00000000                \n",
      "                                                                                                                          \n",
      "               *** SCF converged in 1 iterations. Time: 0.02 sec.                                                         \n",
      "                                                                                                                          \n",
      "               Spin-Restricted Hartree-Fock:                                                                              \n",
      "               -----------------------------                                                                              \n",
      "               Total Energy                       :       -1.1167143251 au                                                \n",
      "               Electronic Energy                  :       -1.8310000393 au                                                \n",
      "               Nuclear Repulsion Energy           :        0.7142857143 au                                                \n",
      "               ------------------------------------                                                                       \n",
      "               Gradient Norm                      :        0.0000000000 au                                                \n",
      "                                                                                                                          \n",
      "               Ground State Information                                                                                   \n",
      "               ------------------------                                                                                   \n",
      "               Charge of Molecule            :  0.0                                                                       \n",
      "               Multiplicity (2S+1)           :  1.0                                                                       \n",
      "               Magnetic Quantum Number (M_S) :  0.0                                                                       \n",
      "                                                                                                                          \n",
      "                                                                                                                          \n",
      "                                                 Spin Restricted Orbitals                                                 \n",
      "                                                 ------------------------                                                 \n",
      "                                                                                                                          \n",
      "               Molecular Orbital No.   1:                                                                                 \n",
      "               --------------------------                                                                                 \n",
      "               Occupation: 2.0 Energy:   -0.57820 au                                                                      \n",
      "               (   1 H   1s  :     0.55) (   2 H   1s  :     0.55)                                                        \n",
      "                                                                                                                          \n",
      "               Molecular Orbital No.   2:                                                                                 \n",
      "               --------------------------                                                                                 \n",
      "               Occupation: 0.0 Energy:    0.67027 au                                                                      \n",
      "               (   1 H   1s  :    -1.21) (   2 H   1s  :     1.21)                                                        \n",
      "                                                                                                                          \n"
     ]
    }
   ],
   "source": [
    "mol_str = \"\"\"\n",
    "H     0.000000    0.000000   -0.7\n",
    "H     0.000000    0.000000    0.7\n",
    "\"\"\"\n",
    "molecule = vlx.Molecule.read_str(mol_str, units='au')\n",
    "basis = vlx.MolecularBasis.read(molecule, 'sto-3g')\n",
    "\n",
    "scf_drv = vlx.ScfRestrictedDriver()\n",
    "scf_drv.compute(molecule, basis)"
   ]
  },
  {
   "cell_type": "code",
   "execution_count": 25,
   "id": "crazy-shanghai",
   "metadata": {},
   "outputs": [
    {
     "name": "stdout",
     "output_type": "stream",
     "text": [
      "Number of orbitals: 2\n"
     ]
    }
   ],
   "source": [
    "C = scf_drv.scf_tensors['C']\n",
    "S = scf_drv.scf_tensors['S']\n",
    "V_nrep = molecule.nuclear_repulsion_energy()\n",
    "norb = C.shape[0]\n",
    "print('Number of orbitals:', norb)"
   ]
  },
  {
   "cell_type": "markdown",
   "id": "moderate-winning",
   "metadata": {},
   "source": [
    "## One- and two-electron integrals"
   ]
  },
  {
   "cell_type": "code",
   "execution_count": 26,
   "id": "searching-enough",
   "metadata": {},
   "outputs": [
    {
     "name": "stdout",
     "output_type": "stream",
     "text": [
      "T =\n",
      " [[0.6005 0.    ]\n",
      " [0.     1.5369]]\n",
      "V =\n",
      " [[-1.8533  0.    ]\n",
      " [ 0.     -2.0125]]\n",
      "h =\n",
      " [[-1.2528  0.    ]\n",
      " [ 0.     -0.4756]]\n",
      "(11|11) = 0.6746\n",
      "(22|22) = 0.6975\n",
      "(11|22) = 0.6636\n",
      "(12|12) = 0.1813\n",
      "\n",
      "Kinetic energy (a.u.):  1.201079\n",
      "Electronic-nuclear potential energy (a.u.): -3.706674\n",
      "Electron-electron repulsion energy (a.u.):  0.674594\n",
      "Nuclear repulsion energy (a.u.):  0.714286\n",
      "HF energy (a.u.): -1.116714\n"
     ]
    }
   ],
   "source": [
    "kin_drv = vlx.KineticEnergyIntegralsDriver()\n",
    "T_ao = kin_drv.compute(molecule, basis).to_numpy()\n",
    "T = np.einsum('ai, ab, bj', C, T_ao, C)\n",
    "\n",
    "npot_drv = vlx.NuclearPotentialIntegralsDriver()\n",
    "V_ao = -npot_drv.compute(molecule, basis).to_numpy()\n",
    "V = np.einsum('ai, ab, bj', C, V_ao, C)\n",
    "\n",
    "# core Hamiltonian\n",
    "h = T + V\n",
    "\n",
    "eri_drv = vlx.ElectronRepulsionIntegralsDriver()\n",
    "eri_ao = np.zeros((norb, norb, norb, norb))\n",
    "eri_drv.compute_in_mem(molecule, basis, eri_ao)\n",
    "g = np.zeros((norb, norb, norb, norb))\n",
    "g = np.einsum('abcd,ai,bj,ck,dl', eri_ao, C, C, C, C)\n",
    "\n",
    "print('T =\\n', T)\n",
    "print('V =\\n', V)\n",
    "print('h =\\n', h)\n",
    "\n",
    "print('(11|11) = %6.4f' % g[0,0,0,0])\n",
    "print('(22|22) = %6.4f' % g[1,1,1,1])\n",
    "print('(11|22) = %6.4f' % g[0,0,1,1])\n",
    "print('(12|12) = %6.4f\\n' % g[0,1,0,1])\n",
    "\n",
    "print(f'Kinetic energy (a.u.): {2 * T[0,0]: .6f}')\n",
    "print(f'Electronic-nuclear potential energy (a.u.): {2 * V[0,0]: .6f}')\n",
    "print(f'Electron-electron repulsion energy (a.u.): {g[0,0,0,0]: .6f}')\n",
    "print(f'Nuclear repulsion energy (a.u.): {V_nrep: .6f}')\n",
    "print(f'HF energy (a.u.): {2 * h[0,0] + g[0,0,0,0] + V_nrep: .6f}')"
   ]
  },
  {
   "cell_type": "markdown",
   "id": "incoming-lebanon",
   "metadata": {},
   "source": [
    "## CI doubles state"
   ]
  },
  {
   "cell_type": "code",
   "execution_count": 27,
   "id": "alpine-infrastructure",
   "metadata": {},
   "outputs": [
    {
     "name": "stdout",
     "output_type": "stream",
     "text": [
      "Hartree–Fock energy = -1.116714 (a.u.)\n",
      "Correlation energy = -0.020562 (a.u.)\n",
      "Total CID energy = -1.137276 (a.u.)\n",
      "Weights (percent):  98.73  1.27\n"
     ]
    }
   ],
   "source": [
    "H_CID = np.zeros((2,2))\n",
    "\n",
    "H_CID[0,0] = 2*h[0,0] + g[0,0,0,0]\n",
    "H_CID[1,1] = 2*h[1,1] + g[1,1,1,1]\n",
    "H_CID[0,1] = g[0,1,0,1]\n",
    "H_CID[1,0] = H_CID[0,1]\n",
    "\n",
    "#print('CID Hamiltonian =\\n', H_CID)\n",
    "\n",
    "# diagonalize the CID Hamiltonian\n",
    "E_CID, V_CID = np.linalg.eigh(H_CID)\n",
    "#print('CID energies = \\n', E_CID)\n",
    "#print('CID vectors =\\n', V_CID)\n",
    "\n",
    "c_HF = V_CID[0,0]\n",
    "c_uu = V_CID[1,0]\n",
    "\n",
    "print(f'Hartree–Fock energy = {H_CID[0,0] + V_nrep : .6f} (a.u.)')\n",
    "print(f'Correlation energy = {E_CID[0] - H_CID[0,0] : .6f} (a.u.)')\n",
    "print(f'Total CID energy = {E_CID[0] + V_nrep : .6f} (a.u.)')\n",
    "print(f'Weights (percent): {c_HF**2*100 : .2f} {c_uu**2*100 : .2f}')"
   ]
  },
  {
   "cell_type": "markdown",
   "id": "failing-chain",
   "metadata": {},
   "source": [
    "## One- and two-electron densities"
   ]
  },
  {
   "cell_type": "code",
   "execution_count": 29,
   "id": "another-measurement",
   "metadata": {},
   "outputs": [],
   "source": [
    "# visualization\n",
    "vis_drv = vlx.VisualizationDriver()"
   ]
  },
  {
   "cell_type": "markdown",
   "id": "theoretical-facing",
   "metadata": {},
   "source": [
    "### One-particle density\n",
    "The CID state equals\n",
    "$$\n",
    "| \\Psi \\rangle =  c_0 | \\Psi_\\mathrm{HF} \\rangle + c_1 | \\Psi_{u\\bar{u}} \\rangle\n",
    "$$\n",
    "\n",
    "We have\n",
    "$$\n",
    "n(\\mathbf{r}) =\n",
    "\\langle \\Psi | \\hat{n}(\\mathbf{r}) | \\Psi \\rangle\n",
    "$$\n",
    "with\n",
    "$$\n",
    "\\hat{n}(\\mathbf{r}) = \n",
    "\\sum_{i=1}^N\n",
    "\\delta(\\mathbf{r} - \\mathbf{r}_i)\n",
    "$$\n",
    "\n",
    "For real-valued wave functions, we get\n",
    "$$\n",
    "n(\\mathbf{r}, \\mathbf{r}') = \n",
    "c_0^2 \\langle \\Psi_\\mathrm{HF} | \\hat{n} | \\Psi_\\mathrm{HF} \\rangle\n",
    "+\n",
    "c_1^2 \\langle \\Psi_{u\\bar{u}} | \\hat{n} | \\Psi_{u\\bar{u}} \\rangle\n",
    "+\n",
    "2 c_0 c_1 \\langle \\Psi_\\mathrm{HF} | \\hat{n} | \\Psi_{u\\bar{u}} \\rangle\n",
    "$$\n",
    "\n",
    "The general relations for matrix elements of a one-electron operator can now be used\n",
    "\\begin{align*}\n",
    "    \\langle \\Psi | \\hat{\\Omega} | \\Psi \\rangle &=\n",
    "   \\sum_{i=1}^N\n",
    "    \\langle i| \\hat{\\omega} |i \\rangle\n",
    "    \\\\\n",
    "    \\langle \\Psi | \\hat{\\Omega} | \\Psi_{ij}^{st} \\rangle &= 0\n",
    "\\end{align*}\n",
    "\n",
    "In our case, we get\n",
    "$$\n",
    "\\langle \\Psi_\\mathrm{HF} | \\hat{\\Omega} | \\Psi_\\mathrm{HF} \\rangle =\n",
    "2 (g| \\hat{\\omega} |g)\n",
    "$$\n",
    "$$\n",
    "\\langle \\Psi_{u\\bar{u}} | \\hat{\\Omega}| \\Psi_{u\\bar{u}} \\rangle =\n",
    "2 (u| \\hat{\\omega} |u)\n",
    "$$\n",
    "$$\n",
    "\\langle \\Psi_\\mathrm{HF} | \\hat{\\Omega} | \\Psi_{u\\bar{u}} \\rangle = 0\n",
    "$$"
   ]
  },
  {
   "cell_type": "code",
   "execution_count": 30,
   "id": "dangerous-scope",
   "metadata": {},
   "outputs": [],
   "source": [
    "# mo values at given coordinates\n",
    "mol_orbs = scf_drv.mol_orbs\n",
    "\n",
    "n = 100\n",
    "coords = np.zeros((n,3))\n",
    "coords[:,2] = np.linspace(-3, 3, n, endpoint=True)\n",
    "\n",
    "sigma_g = np.array(vis_drv.get_mo(coords, molecule, basis, mol_orbs, 0, 'alpha'))\n",
    "sigma_u = np.array(vis_drv.get_mo(coords, molecule, basis, mol_orbs, 1, 'alpha'))\n",
    "\n",
    "n1_HF = 2 * sigma_g**2\n",
    "n1_CID = 2 * (c_HF**2 * sigma_g**2 + c_uu**2 * sigma_u**2)"
   ]
  },
  {
   "cell_type": "code",
   "execution_count": 39,
   "id": "three-provider",
   "metadata": {},
   "outputs": [
    {
     "data": {
      "text/plain": [
       "[-3.0, 3.0, 0.0, 0.4]"
      ]
     },
     "execution_count": 39,
     "metadata": {},
     "output_type": "execute_result"
    },
    {
     "data": {
      "image/png": "[encoded data removed]",
      "text/plain": [
       "<Figure size 432x288 with 1 Axes>"
      ]
     },
     "metadata": {
      "needs_background": "light"
     },
     "output_type": "display_data"
    }
   ],
   "source": [
    "fig = plt.figure(1)\n",
    "plt.axes()\n",
    "plt.plot(coords[:,2], n1_HF)\n",
    "plt.plot(coords[:,2], n1_CID)\n",
    "\n",
    "Hz = vlx.Molecule.get_coordinates(molecule)[1,2] # z-coord of atom 2\n",
    "\n",
    "plt.axvline(x=Hz, color='0.5', linewidth = 0.7, dashes = [3,1,3,1])\n",
    "plt.axvline(x=-Hz, color='0.5', linewidth = 0.7, dashes = [3,1,3,1])\n",
    "plt.setp(plt.gca(), xlim = (-3,3), ylim = (0,0.4))"
   ]
  },
  {
   "cell_type": "markdown",
   "id": "formed-albert",
   "metadata": {},
   "source": [
    "### Two-particle density\n",
    "The CID state equals\n",
    "$$\n",
    "| \\Psi \\rangle =  c_0 | \\Psi_\\mathrm{HF} \\rangle + c_1 | \\Psi_{u\\bar{u}} \\rangle\n",
    "$$\n",
    "\n",
    "We have\n",
    "$$\n",
    "n(\\mathbf{r}, \\mathbf{r}') =\n",
    "\\langle \\Psi | \\hat{n}(\\mathbf{r}, \\mathbf{r}') | \\Psi \\rangle\n",
    "$$\n",
    "with\n",
    "$$\n",
    "\\hat{n}(\\mathbf{r}, \\mathbf{r}') = \n",
    "\\sum_{j>i}^N \\left[\n",
    "\\delta(\\mathbf{r} - \\mathbf{r}_i) \\delta(\\mathbf{r}' - \\mathbf{r}_j)\n",
    "+\n",
    "\\delta(\\mathbf{r} - \\mathbf{r}_j) \\delta(\\mathbf{r}' - \\mathbf{r}_i)\n",
    "\\right]\n",
    "$$\n",
    "\n",
    "For real-valued wave functions, we get\n",
    "$$\n",
    "n(\\mathbf{r}, \\mathbf{r}') = \n",
    "c_0^2 \\langle \\Psi_\\mathrm{HF} | \\hat{n} | \\Psi_\\mathrm{HF} \\rangle\n",
    "+\n",
    "c_1^2 \\langle \\Psi_{u\\bar{u}} | \\hat{n} | \\Psi_{u\\bar{u}} \\rangle\n",
    "+\n",
    "2 c_0 c_1 \\langle \\Psi_\\mathrm{HF} | \\hat{n} | \\Psi_{u\\bar{u}} \\rangle\n",
    "$$\n",
    "\n",
    "The general relations for matrix elements of a two-electron operator can now be used\n",
    "\\begin{align*}\n",
    "    \\langle \\Psi | \\hat{\\Omega} | \\Psi \\rangle &=\n",
    "    \\frac{1}{2} \\sum_{i,j}^N\n",
    "    \\Big[\n",
    "    \\langle ij| \\hat{\\omega} |ij \\rangle - \\langle ij | \\hat{\\omega} | ji \\rangle\n",
    "    \\Big]\n",
    "    \\\\\n",
    "    \\langle \\Psi | \\hat{\\Omega} | \\Psi_{ij}^{st} \\rangle &=\n",
    "     \\langle ij| \\hat{\\omega} |st \\rangle - \\langle ij| \\hat{\\omega} |ts \\rangle\n",
    "\\end{align*}\n",
    "\n",
    "In our case, we get\n",
    "$$\n",
    "\\langle \\Psi_\\mathrm{HF} | \\hat{\\Omega} | \\Psi_\\mathrm{HF} \\rangle =\n",
    "(gg| \\hat{\\omega} |gg)\n",
    "$$\n",
    "$$\n",
    "\\langle \\Psi_{u\\bar{u}} | \\hat{\\Omega}| \\Psi_{u\\bar{u}} \\rangle =\n",
    "(uu| \\hat{\\omega} |uu)\n",
    "$$\n",
    "$$\n",
    "\\langle \\Psi_\\mathrm{HF} | \\hat{\\Omega} | \\Psi_{u\\bar{u}} \\rangle =\n",
    "(gu| \\hat{\\omega} |gu)\n",
    "$$"
   ]
  },
  {
   "cell_type": "code",
   "execution_count": 40,
   "id": "graphic-passing",
   "metadata": {},
   "outputs": [],
   "source": [
    "# electron 1 at the position of the hydrogen nucleus\n",
    "# electron 2 anywhere on the internuclear axis\n",
    "h1 = [[0, 0, Hz]]\n",
    "sigma_g_at_h1 = vis_drv.get_mo(h1, molecule, basis, mol_orbs, 0, 'alpha')[0]\n",
    "sigma_u_at_h1 = vis_drv.get_mo(h1, molecule, basis, mol_orbs, 1, 'alpha')[0]\n",
    "\n",
    "n12_HF = 2 * sigma_g_at_h1**2 * sigma_g**2\n",
    "n12_CID = 2 * (c_HF**2 * sigma_g_at_h1**2 * sigma_g**2 + \n",
    "               c_uu**2 * sigma_u_at_h1**2 * sigma_u**2 +\n",
    "              2 * c_HF * c_uu * sigma_g_at_h1 * sigma_u_at_h1 *\n",
    "              sigma_g * sigma_u)"
   ]
  },
  {
   "cell_type": "code",
   "execution_count": 41,
   "id": "proud-collector",
   "metadata": {},
   "outputs": [
    {
     "data": {
      "text/plain": [
       "[-3.0, 3.0, 0.0, 0.1]"
      ]
     },
     "execution_count": 41,
     "metadata": {},
     "output_type": "execute_result"
    },
    {
     "data": {
      "image/png": "[encoded data removed]",
      "text/plain": [
       "<Figure size 432x288 with 1 Axes>"
      ]
     },
     "metadata": {
      "needs_background": "light"
     },
     "output_type": "display_data"
    }
   ],
   "source": [
    "fig = plt.figure(2)\n",
    "plt.axes()\n",
    "plt.plot(coords[:,2], n12_HF)\n",
    "plt.plot(coords[:,2], n12_CID)\n",
    "\n",
    "plt.axvline(x=Hz, color='0.5', linewidth = 0.7, dashes = [3,1,3,1])\n",
    "plt.axvline(x=-Hz, color='0.5', linewidth = 0.7, dashes = [3,1,3,1])\n",
    "plt.setp(plt.gca(), xlim = (-3,3), ylim = (0,0.1))"
   ]
  },
  {
   "cell_type": "code",
   "execution_count": null,
   "id": "cloudy-rehabilitation",
   "metadata": {},
   "outputs": [],
   "source": []
  }
 ],
 "metadata": {
  "celltoolbar": "Tags",
  "kernelspec": {
   "display_name": "Python 3",
   "language": "python",
   "name": "python3"
  },
  "language_info": {
   "codemirror_mode": {
    "name": "ipython",
    "version": 3
   },
   "file_extension": ".py",
   "mimetype": "text/x-python",
   "name": "python",
   "nbconvert_exporter": "python",
   "pygments_lexer": "ipython3",
   "version": "3.9.5"
  }
 },
 "nbformat": 4,
 "nbformat_minor": 5
}
