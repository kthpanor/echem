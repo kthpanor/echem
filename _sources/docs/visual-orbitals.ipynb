{
 "cells": [
  {
   "cell_type": "markdown",
   "id": "59086b8f",
   "metadata": {},
   "source": [
    "# Structure and orbitals\n",
    "The values of orbitals at given coordinates are available with VeloxChem from the `get_mo` method of the `VisualizationDriver` class."
   ]
  },
  {
   "cell_type": "code",
   "execution_count": null,
   "id": "bc7c9d6b",
   "metadata": {
    "tags": [
     "hide-input",
     "remove-output"
    ]
   },
   "outputs": [],
   "source": [
    "import py3Dmol\n",
    "import numpy as np\n",
    "import matplotlib.pyplot as plt\n",
    "import veloxchem as vlx\n",
    "from pyscf import gto, scf, tools"
   ]
  },
  {
   "cell_type": "markdown",
   "id": "e8e725f1",
   "metadata": {},
   "source": [
    "## Molecular structure\n",
    "\n",
    "The structure of a molecular system can be visualized with `py3Dmol`, using an xyz-file:"
   ]
  },
  {
   "cell_type": "code",
   "execution_count": null,
   "id": "ab605bd9",
   "metadata": {},
   "outputs": [],
   "source": [
    "thymine_xyz = '''15\n",
    "*\n",
    " C     0.095722    -0.037785    -1.093615\n",
    " C    -0.011848     1.408694    -1.113404\n",
    " C    -0.204706     2.048475     0.052807\n",
    " N    -0.302595     1.390520     1.249226\n",
    " C    -0.214596     0.023933     1.378238\n",
    " N    -0.017387    -0.607231     0.171757\n",
    " O     0.270287    -0.735594    -2.076393\n",
    " C     0.098029     2.096194    -2.424990\n",
    " H     1.052976     1.874860    -2.891573\n",
    " H     0.002157     3.170639    -2.310554\n",
    " H    -0.671531     1.743694    -3.104794\n",
    " O    -0.301905    -0.554734     2.440234\n",
    " H    -0.292790     3.119685     0.106201\n",
    " H     0.053626    -1.612452     0.215637\n",
    " H    -0.446827     1.892203     2.107092\n",
    "'''\n",
    "\n",
    "viewer = py3Dmol.view(width=400,height=300)\n",
    "# black outline for nicer-looking figures\n",
    "viewer.setViewStyle({'style':'outline','color':'black','width':0.1})\n",
    "viewer.addModel(thymine_xyz)\n",
    "# visualize with the stick option - can also consider spheres and more\n",
    "viewer.setStyle({'stick':{}})\n",
    "# rotate for a better initial view\n",
    "viewer.rotate(-90,'y')\n",
    "viewer.show()"
   ]
  },
  {
   "cell_type": "markdown",
   "id": "35e9708c",
   "metadata": {},
   "source": [
    "This creates a dynamic view which can be rotated and zoomed in and out.\n",
    "\n",
    "Alternatively, PDF-files can be loaded directly from the PDB-library, and illustrated with different models (here looking at an XRD structure of photosystem II):"
   ]
  },
  {
   "cell_type": "code",
   "execution_count": null,
   "id": "b5ae59af",
   "metadata": {},
   "outputs": [],
   "source": [
    "viewer = py3Dmol.view(query='pdb:6W1O',viewergrid=(1,3),width=800,height=300,linked=False)\n",
    "viewer.setStyle({'cartoon':{'color':'spectrum'}},viewer=(0,1))\n",
    "viewer.setStyle({'cartoon':{}},viewer=(0,2))\n",
    "viewer.addStyle({'elem':'Mn'},{'sphere':{'color':'blue'}},viewer=(0,2))\n",
    "viewer.addStyle({'elem':'Ca'},{'sphere':{'color':'green'}},viewer=(0,2))\n",
    "viewer.show()"
   ]
  },
  {
   "cell_type": "markdown",
   "id": "db752d68",
   "metadata": {},
   "source": [
    "Here we illustrate this by line structure, and more cartoonish image with and without coloring different strands differently. To the right we see white ribbons with manganese and calcium atoms colored in blue and red, respectively. These shows the position of the oxygen-evolving complex of photosystem II, which is the site of water-splitting and oxygen generation.\n",
    "\n",
    "## Molecular orbitals and densities"
   ]
  },
  {
   "cell_type": "code",
   "execution_count": null,
   "id": "4e5d2e01",
   "metadata": {
    "tags": [
     "remove-output"
    ]
   },
   "outputs": [],
   "source": [
    "water_xyz = \"\"\"3\n",
    "water\n",
    "O       0.0000000000     0.1187290000     0.0000000000\n",
    "H      -0.7532010000    -0.4749160000    -0.0000000000\n",
    "H       0.7532010000    -0.4749160000     0.0000000000\n",
    "\"\"\"\n",
    "\n",
    "# Create veloxchem mol and basis objects\n",
    "mol_vlx = vlx.Molecule.from_xyz_string(water_xyz) \n",
    "bas_vlx = vlx.MolecularBasis.read(mol_vlx,'sto-3g') \n",
    "\n",
    "# Perform SCF calculation\n",
    "scf_gs = vlx.ScfRestrictedDriver()\n",
    "scf_gs.compute(mol_vlx, bas_vlx)"
   ]
  },
  {
   "cell_type": "markdown",
   "id": "77750d96",
   "metadata": {},
   "source": [
    "### Create and dump cube-files:\n",
    "\n",
    "Looking at HOMO, LUMO, and $\\alpha$ density\n",
    "\n",
    "```python\n",
    "vis_drv = vlx.VisualizationDriver()\n",
    "\n",
    "vis_drv.gen_cubes(cube_dict={\"cubes\": \"mo(homo),mo(lumo),density(alpha)\", \n",
    "    \"files\": \"../img/vis/water_HOMO.cube,../img/vis/water_LUMO.cube,../img/vis/water_a_density.cube\"}, \n",
    "    molecule=mol_vlx, basis=bas_vlx, mol_orbs=scf_gs.mol_orbs, density=scf_gs.density)\n",
    "```\n",
    "\n",
    "### Illustrate, as overlaid over (stick) structure\n",
    "\n",
    "```{note}\n",
    "Currently low-resolution, but this will be improved.\n",
    "```"
   ]
  },
  {
   "cell_type": "code",
   "execution_count": null,
   "id": "cb4ed4d1",
   "metadata": {},
   "outputs": [],
   "source": [
    "viewer = py3Dmol.view(linked=False,viewergrid=(1,3),width=800,height=300)\n",
    "\n",
    "# HOMO\n",
    "with open(\"../img/vis/water_HOMO.cube\", \"r\") as f: cube = f.read()\n",
    "# Plot strick structures\n",
    "viewer.addModel(cube, \"cube\",viewer=(0,0)); viewer.setStyle({'stick':{}},viewer=(0,0))\n",
    "# Negative and positive nodes\n",
    "viewer.addVolumetricData(cube, \"cube\", {\"isoval\": -0.02, \"color\": \"blue\", \"opacity\": 0.75},viewer=(0,0))\n",
    "viewer.addVolumetricData(cube, \"cube\", {\"isoval\":  0.02, \"color\":  \"red\", \"opacity\": 0.75},viewer=(0,0))\n",
    "viewer.rotate(-45,'x',viewer=(0,0))\n",
    "\n",
    "# LUMO\n",
    "with open(\"../img/vis/water_LUMO.cube\", \"r\") as f: cube = f.read()\n",
    "viewer.addModel(cube, \"cube\",viewer=(0,1)); viewer.setStyle({'stick':{}},viewer=(0,1))\n",
    "viewer.addVolumetricData(cube, \"cube\", {\"isoval\": -0.02, \"color\": \"blue\", \"opacity\": 0.75},viewer=(0,1))\n",
    "viewer.addVolumetricData(cube, \"cube\", {\"isoval\":  0.02, \"color\":  \"red\", \"opacity\": 0.75},viewer=(0,1))\n",
    "viewer.rotate(-45,'x',viewer=(0,1))\n",
    "\n",
    "# Alpha density\n",
    "with open(\"../img/vis/water_a_density.cube\", \"r\") as f: cube = f.read()\n",
    "viewer.addModel(cube, \"cube\",viewer=(0,2)); viewer.setStyle({'stick':{}},viewer=(0,2))\n",
    "viewer.addVolumetricData(cube, \"cube\", {\"isoval\":  0.02, \"color\":  \"red\", \"opacity\": 0.75},viewer=(0,2))\n",
    "viewer.rotate(-45,'x',viewer=(0,2))\n",
    "\n",
    "viewer.show()"
   ]
  },
  {
   "cell_type": "markdown",
   "id": "7789f280",
   "metadata": {},
   "source": [
    "## Radial distribution"
   ]
  },
  {
   "cell_type": "code",
   "execution_count": null,
   "id": "a8329ca9",
   "metadata": {},
   "outputs": [],
   "source": [
    "mol_str = \"\"\"\n",
    "Ne        0.00000000    0.00000000    0.00000000\n",
    "\"\"\"\n",
    "molecule = vlx.Molecule.read_str(mol_str)\n",
    "basis = vlx.MolecularBasis.read(molecule, \"cc-pVDZ\")\n",
    "\n",
    "scf_drv = vlx.ScfRestrictedDriver()\n",
    "scf_drv.compute(molecule, basis)"
   ]
  },
  {
   "cell_type": "markdown",
   "id": "4e04952b",
   "metadata": {},
   "source": [
    "### Valence orbitals"
   ]
  },
  {
   "cell_type": "code",
   "execution_count": null,
   "id": "7f7ae536",
   "metadata": {},
   "outputs": [],
   "source": [
    "vis_drv = vlx.VisualizationDriver()\n",
    "\n",
    "mol_orbs = scf_drv.mol_orbs\n",
    "# define the coordinates (in Bohr) for which you wish values of orbitals\n",
    "n = 100\n",
    "coords = np.zeros((n,3))\n",
    "r = np.linspace(0,2,n)\n",
    "coords[:,2] = r # radial points along the z-axis\n",
    "\n",
    "# get the values of orbitals\n",
    "mo_1s = np.array(vis_drv.get_mo(coords, molecule, basis, mol_orbs, 0, 'alpha'))\n",
    "mo_2s = np.array(vis_drv.get_mo(coords, molecule, basis, mol_orbs, 1, 'alpha'))\n",
    "mo_2p_1 = np.array(vis_drv.get_mo(coords, molecule, basis, mol_orbs, 2, 'alpha'))\n",
    "mo_2p_2 = np.array(vis_drv.get_mo(coords, molecule, basis, mol_orbs, 3, 'alpha'))\n",
    "mo_2p_3 = np.array(vis_drv.get_mo(coords, molecule, basis, mol_orbs, 4, 'alpha'))\n",
    "\n",
    "# adjust signs\n",
    "mo_1s = np.sign(mo_1s[10]) * mo_1s\n",
    "mo_2s = np.sign(mo_2s[10]) * mo_2s\n",
    "mo_2p_1 = np.sign(mo_2p_1[10]) * mo_2p_1\n",
    "mo_2p_2 = np.sign(mo_2p_2[10]) * mo_2p_2\n",
    "mo_2p_3 = np.sign(mo_2p_3[10]) * mo_2p_3"
   ]
  },
  {
   "cell_type": "code",
   "execution_count": null,
   "id": "3a953895",
   "metadata": {},
   "outputs": [],
   "source": [
    "fig = plt.figure(1, figsize=(8,6))\n",
    "\n",
    "plt.plot(r, mo_1s, r, mo_2s, r, mo_2p_1, r, mo_2p_2, r, mo_2p_3)\n",
    "\n",
    "plt.axhline(y=0.0, color='0.5', linewidth = 0.7, dashes = [3,1,3,1])\n",
    "plt.setp(plt.gca(), xlim = (0,2), ylim = (-1, 6))\n",
    "plt.legend([r'$1s$', r'$2s$', r'$2p_1$', r'$2p_2$', r'$2p_3$'], loc = 'upper right', frameon = False)\n",
    "\n",
    "plt.title(r'Valence orbitals of Neon')\n",
    "plt.xlabel(r'Distance to nucleus (Bohr)')\n",
    "plt.ylabel(r'Orbital value (a.u.)')\n",
    "\n",
    "plt.show()"
   ]
  },
  {
   "cell_type": "markdown",
   "id": "eb1683d6",
   "metadata": {},
   "source": [
    "### Atomic sub-shell densities"
   ]
  },
  {
   "cell_type": "code",
   "execution_count": null,
   "id": "b2dbb698",
   "metadata": {},
   "outputs": [],
   "source": [
    "fig = plt.figure(2, figsize=(8,6))\n",
    "\n",
    "# additional factor of 2 from alpha and beta spin orbitals\n",
    "rad_den_1s = 4 * np.pi * r**2 * 2 * mo_1s**2 \n",
    "rad_den_2s = 4 * np.pi * r**2 * 2 * mo_2s**2 \n",
    "rad_den_2p = 4 * np.pi * r**2 * 2 * (mo_2p_1**2 + mo_2p_2**2 + mo_2p_3**2)\n",
    "\n",
    "plt.plot(r, rad_den_1s, r, rad_den_2s, r, rad_den_2p)\n",
    "\n",
    "plt.axhline(y=0.0, color='0.5', linewidth = 0.7, dashes = [3,1,3,1])\n",
    "plt.setp(plt.gca(), xlim = (0,2), ylim = (0.0, 10.5))\n",
    "plt.legend([r'$1s$', r'$2s$', r'$2p$'], loc = 'upper right', frameon = False)\n",
    "\n",
    "plt.title(r'Subshell radial densities in neon')\n",
    "plt.xlabel(r'Distance to nucleus (Bohr)')\n",
    "plt.ylabel(r'Radial densities (a.u.)')\n",
    "\n",
    "plt.show()"
   ]
  },
  {
   "cell_type": "code",
   "execution_count": null,
   "id": "6cd9f30d",
   "metadata": {},
   "outputs": [],
   "source": []
  }
 ],
 "metadata": {
  "celltoolbar": "Tags",
  "kernelspec": {
   "display_name": "Python 3 (ipykernel)",
   "language": "python",
   "name": "python3"
  },
  "language_info": {
   "codemirror_mode": {
    "name": "ipython",
    "version": 3
   },
   "file_extension": ".py",
   "mimetype": "text/x-python",
   "name": "python",
   "nbconvert_exporter": "python",
   "pygments_lexer": "ipython3",
   "version": "3.9.7"
  }
 },
 "nbformat": 4,
 "nbformat_minor": 5
}
