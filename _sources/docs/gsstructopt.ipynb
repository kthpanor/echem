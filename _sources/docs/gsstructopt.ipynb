{
 "cells": [
  {
   "cell_type": "markdown",
   "id": "a2dcd883",
   "metadata": {},
   "source": [
    "# Ground state structure optimization\n",
    "\n",
    "Molecular structure optimizations alwas start from an initial guess of the molecular geometry (constructed using chemistry software, e.g. Avogadro, or downloaded from a database). In the following we will perform a ground state structure optimization of cafestol and kahweol. Cafestol is a molecule present in Robusta coffee beans, while kahweol is a very similar molecule present in Arabica coffee beans. Kahweol has a distinctive Raman peak which allows to identify Arabica coffee beans by Raman spectroscopy. Here, we determine the relaxed geometries of these two molecules, to be used in Raman spectroscopy calculations (see **add link**)."
   ]
  },
  {
   "cell_type": "code",
   "execution_count": 1,
   "id": "863ce03b",
   "metadata": {},
   "outputs": [],
   "source": [
    "import veloxchem as vlx\n",
    "import py3Dmol as p3d\n",
    "import sys"
   ]
  },
  {
   "cell_type": "code",
   "execution_count": 2,
   "id": "2570a30b",
   "metadata": {},
   "outputs": [],
   "source": [
    "cafestol_xyz = \"\"\"51\n",
    "cafestol initial structure\n",
    "O  -4.5215   -1.3455    0.4926\n",
    "O  -5.2905    0.0812   -1.7033\n",
    "O   5.1630    0.4345   -0.1101\n",
    "C  -1.2807   -0.7511   -0.0465\n",
    "C  -0.5244    0.5810   -0.4102\n",
    "C   0.9909    0.6610    0.0407\n",
    "C  -2.9440    0.2916    1.2866\n",
    "C  -1.8143   -0.7311    1.3945\n",
    "C  -2.6188   -0.8159   -0.8642\n",
    "C  -3.7116   -0.2387    0.0606\n",
    "C  -0.4332   -2.0024   -0.3283\n",
    "C  -1.3742    1.8303   -0.0654\n",
    "C   1.6844   -0.6873   -0.4019\n",
    "C  -2.3206    1.6833    1.1309\n",
    "C   0.9997   -1.9155    0.1913\n",
    "C   1.7285    1.8344   -0.7277\n",
    "C   1.1437    0.9261    1.5588\n",
    "C   3.1644   -0.6155   -0.2085\n",
    "C  -4.6490    0.7442   -0.6282\n",
    "C   3.2525    1.9378   -0.4590\n",
    "C   3.8298    0.5879   -0.2856\n",
    "C   4.1654   -1.5888    0.0140\n",
    "C   5.3604   -0.9015    0.0689\n",
    "H  -0.4604    0.5817   -1.5108\n",
    "H  -3.5646    0.2626    2.1897\n",
    "H  -1.0861   -0.4449    2.1498\n",
    "H  -2.1902   -1.7145    1.7003\n",
    "H  -2.5286   -0.2495   -1.7981\n",
    "H  -2.8534   -1.8505   -1.1460\n",
    "H  -0.3943   -2.1694   -1.4136\n",
    "H  -0.9135   -2.8938    0.0946\n",
    "H  -1.9810    2.0650   -0.9487\n",
    "H  -0.7587    2.7222    0.0818\n",
    "H   1.5605   -0.7646   -1.4951\n",
    "H  -1.7642    1.9154    2.0477\n",
    "H  -3.1082    2.4431    1.0635\n",
    "H   1.0176   -1.9046    1.2859\n",
    "H   1.5276   -2.8282   -0.1118\n",
    "H   1.2808    2.8061   -0.4944\n",
    "H   1.5851    1.6842   -1.8068\n",
    "H   0.5898    1.8173    1.8670\n",
    "H   0.8147    0.0892    2.1727\n",
    "H   2.1832    1.0992    1.8532\n",
    "H  -4.1337    1.6158   -1.0351\n",
    "H  -5.4265    1.0934    0.0595\n",
    "H   3.4273    2.5264    0.4487\n",
    "H   3.7385    2.4646   -1.2871\n",
    "H  -3.9519   -2.0832    0.7635\n",
    "H   4.0442   -2.6573    0.1180\n",
    "H  -5.7603   -0.6874   -1.3370\n",
    "H   6.3869   -1.2031    0.2186\n",
    "\"\"\"\n",
    "cafestol = vlx.Molecule.from_xyz_string(cafestol_xyz)\n",
    "basis_set_label = \"6-31G\"\n",
    "cafestol_basis = vlx.MolecularBasis.read(cafestol, basis_set_label)"
   ]
  },
  {
   "cell_type": "code",
   "execution_count": 3,
   "id": "733ab0df",
   "metadata": {},
   "outputs": [],
   "source": [
    "kahweol_xyz = \"\"\"49\n",
    "kahweol initial structure\n",
    "O  -4.4710   -1.5361    0.0905\n",
    "O  -5.6188    0.9753   -0.0811\n",
    "O   5.1625    0.5695   -0.0997\n",
    "C  -1.2209   -0.8317   -0.2017\n",
    "C  -0.4821    0.5357   -0.4703\n",
    "C  -3.0038    0.1167    1.0462\n",
    "C  -1.8514   -0.8737    1.1997\n",
    "C  -2.4967   -0.9058   -1.1119\n",
    "C   0.9884    0.6333    0.0944\n",
    "C  -3.6676   -0.3924   -0.2474\n",
    "C  -0.3220   -2.0551   -0.4569\n",
    "C  -1.3919    1.7479   -0.1363\n",
    "C  -2.4167    1.5304    0.9816\n",
    "C   1.7435   -0.6786   -0.3542\n",
    "C   1.0741   -1.9483    0.1552\n",
    "C   1.0367    0.8330    1.6293\n",
    "C  -4.5845    0.5870   -0.9677\n",
    "C   1.7610    1.8511   -0.4907\n",
    "C   3.2146   -0.5444   -0.1101\n",
    "C   3.1013    1.8722   -0.6493\n",
    "C   3.8167    0.6946   -0.3059\n",
    "C   4.2309   -1.4546    0.2464\n",
    "C   5.3980   -0.7259    0.2399\n",
    "H  -0.3415    0.5842   -1.5631\n",
    "H  -3.6779    0.0397    1.9072\n",
    "H  -1.1861   -0.6021    2.0159\n",
    "H  -2.2356   -1.8757    1.4322\n",
    "H  -2.3648   -0.3090   -2.0216\n",
    "H  -2.6844   -1.9384   -1.4328\n",
    "H  -0.2098   -2.1924   -1.5413\n",
    "H  -0.8043   -2.9694   -0.0890\n",
    "H  -1.9406    2.0033   -1.0514\n",
    "H  -0.8134    2.6482    0.0921\n",
    "H  -1.9341    1.7452    1.9434\n",
    "H  -3.2193    2.2709    0.8849\n",
    "H   1.6699   -0.7251   -1.4553\n",
    "H   1.0259   -1.9792    1.2481\n",
    "H   1.6508   -2.8307   -0.1490\n",
    "H   2.0514    1.0518    1.9842\n",
    "H   0.4166    1.6762    1.9486\n",
    "H   0.7233   -0.0489    2.1864\n",
    "H  -5.0524    0.1195   -1.8415\n",
    "H  -4.0679    1.4861   -1.3088\n",
    "H   1.2088    2.7568   -0.7218\n",
    "H  -5.0925   -1.2746    0.7905\n",
    "H   3.6240    2.7536   -0.9997\n",
    "H   4.1386   -2.5085    0.4650\n",
    "H  -6.2132    0.2149    0.0339\n",
    "H   6.4308   -0.9731    0.4374\n",
    "\"\"\"\n",
    "kahweol = vlx.Molecule.from_xyz_string(kahweol_xyz)\n",
    "basis_set_label = \"6-31G\"\n",
    "kahweol_basis = vlx.MolecularBasis.read(kahweol, basis_set_label)"
   ]
  },
  {
   "cell_type": "markdown",
   "id": "2a66084a",
   "metadata": {},
   "source": [
    "The difference between cafestol and kahweol is very subtle, essentially only one double bond and two H atoms."
   ]
  },
  {
   "cell_type": "code",
   "execution_count": 4,
   "id": "d1014162",
   "metadata": {},
   "outputs": [
    {
     "data": {
      "application/3dmoljs_load.v0": "<div id=\"3dmolviewer_16449089266098518\"  style=\"position: relative; width: 500px; height: 200px\">\n        <p id=\"3dmolwarning_16449089266098518\" style=\"background-color:#ffcccc;color:black\">You appear to be running in JupyterLab (or JavaScript failed to load for some other reason).  You need to install the 3dmol extension: <br>\n        <tt>jupyter labextension install jupyterlab_3dmol</tt></p>\n        </div>\n<script>\n\nvar loadScriptAsync = function(uri){\n  return new Promise((resolve, reject) => {\n    var tag = document.createElement('script');\n    tag.src = uri;\n    tag.async = true;\n    tag.onload = () => {\n      resolve();\n    };\n  var firstScriptTag = document.getElementsByTagName('script')[0];\n  firstScriptTag.parentNode.insertBefore(tag, firstScriptTag);\n});\n};\n\nif(typeof $3Dmolpromise === 'undefined') {\n$3Dmolpromise = null;\n  $3Dmolpromise = loadScriptAsync('https://3dmol.org/build/3Dmol.js');\n}\n\nvar viewer_16449089266098518 = null;\nvar warn = document.getElementById(\"3dmolwarning_16449089266098518\");\nif(warn) {\n    warn.parentNode.removeChild(warn);\n}\n$3Dmolpromise.then(function() {\nviewer_16449089266098518 = $3Dmol.createViewer($(\"#3dmolviewer_16449089266098518\"),{backgroundColor:\"white\"});\nviewer_16449089266098518.zoomTo();\n\tviewer_16449089266098518.addModel(\"51\\ncafestol initial structure\\nO  -4.5215   -1.3455    0.4926\\nO  -5.2905    0.0812   -1.7033\\nO   5.1630    0.4345   -0.1101\\nC  -1.2807   -0.7511   -0.0465\\nC  -0.5244    0.5810   -0.4102\\nC   0.9909    0.6610    0.0407\\nC  -2.9440    0.2916    1.2866\\nC  -1.8143   -0.7311    1.3945\\nC  -2.6188   -0.8159   -0.8642\\nC  -3.7116   -0.2387    0.0606\\nC  -0.4332   -2.0024   -0.3283\\nC  -1.3742    1.8303   -0.0654\\nC   1.6844   -0.6873   -0.4019\\nC  -2.3206    1.6833    1.1309\\nC   0.9997   -1.9155    0.1913\\nC   1.7285    1.8344   -0.7277\\nC   1.1437    0.9261    1.5588\\nC   3.1644   -0.6155   -0.2085\\nC  -4.6490    0.7442   -0.6282\\nC   3.2525    1.9378   -0.4590\\nC   3.8298    0.5879   -0.2856\\nC   4.1654   -1.5888    0.0140\\nC   5.3604   -0.9015    0.0689\\nH  -0.4604    0.5817   -1.5108\\nH  -3.5646    0.2626    2.1897\\nH  -1.0861   -0.4449    2.1498\\nH  -2.1902   -1.7145    1.7003\\nH  -2.5286   -0.2495   -1.7981\\nH  -2.8534   -1.8505   -1.1460\\nH  -0.3943   -2.1694   -1.4136\\nH  -0.9135   -2.8938    0.0946\\nH  -1.9810    2.0650   -0.9487\\nH  -0.7587    2.7222    0.0818\\nH   1.5605   -0.7646   -1.4951\\nH  -1.7642    1.9154    2.0477\\nH  -3.1082    2.4431    1.0635\\nH   1.0176   -1.9046    1.2859\\nH   1.5276   -2.8282   -0.1118\\nH   1.2808    2.8061   -0.4944\\nH   1.5851    1.6842   -1.8068\\nH   0.5898    1.8173    1.8670\\nH   0.8147    0.0892    2.1727\\nH   2.1832    1.0992    1.8532\\nH  -4.1337    1.6158   -1.0351\\nH  -5.4265    1.0934    0.0595\\nH   3.4273    2.5264    0.4487\\nH   3.7385    2.4646   -1.2871\\nH  -3.9519   -2.0832    0.7635\\nH   4.0442   -2.6573    0.1180\\nH  -5.7603   -0.6874   -1.3370\\nH   6.3869   -1.2031    0.2186\\n\",\"xyz\");\n\tviewer_16449089266098518.setStyle({\"stick\": {}});\n\tviewer_16449089266098518.zoomTo();\nviewer_16449089266098518.render();\n});\n</script>",
      "text/html": [
       "<div id=\"3dmolviewer_16449089266098518\"  style=\"position: relative; width: 500px; height: 200px\">\n",
       "        <p id=\"3dmolwarning_16449089266098518\" style=\"background-color:#ffcccc;color:black\">You appear to be running in JupyterLab (or JavaScript failed to load for some other reason).  You need to install the 3dmol extension: <br>\n",
       "        <tt>jupyter labextension install jupyterlab_3dmol</tt></p>\n",
       "        </div>\n",
       "<script>\n",
       "\n",
       "var loadScriptAsync = function(uri){\n",
       "  return new Promise((resolve, reject) => {\n",
       "    var tag = document.createElement('script');\n",
       "    tag.src = uri;\n",
       "    tag.async = true;\n",
       "    tag.onload = () => {\n",
       "      resolve();\n",
       "    };\n",
       "  var firstScriptTag = document.getElementsByTagName('script')[0];\n",
       "  firstScriptTag.parentNode.insertBefore(tag, firstScriptTag);\n",
       "});\n",
       "};\n",
       "\n",
       "if(typeof $3Dmolpromise === 'undefined') {\n",
       "$3Dmolpromise = null;\n",
       "  $3Dmolpromise = loadScriptAsync('https://3dmol.org/build/3Dmol.js');\n",
       "}\n",
       "\n",
       "var viewer_16449089266098518 = null;\n",
       "var warn = document.getElementById(\"3dmolwarning_16449089266098518\");\n",
       "if(warn) {\n",
       "    warn.parentNode.removeChild(warn);\n",
       "}\n",
       "$3Dmolpromise.then(function() {\n",
       "viewer_16449089266098518 = $3Dmol.createViewer($(\"#3dmolviewer_16449089266098518\"),{backgroundColor:\"white\"});\n",
       "viewer_16449089266098518.zoomTo();\n",
       "\tviewer_16449089266098518.addModel(\"51\\ncafestol initial structure\\nO  -4.5215   -1.3455    0.4926\\nO  -5.2905    0.0812   -1.7033\\nO   5.1630    0.4345   -0.1101\\nC  -1.2807   -0.7511   -0.0465\\nC  -0.5244    0.5810   -0.4102\\nC   0.9909    0.6610    0.0407\\nC  -2.9440    0.2916    1.2866\\nC  -1.8143   -0.7311    1.3945\\nC  -2.6188   -0.8159   -0.8642\\nC  -3.7116   -0.2387    0.0606\\nC  -0.4332   -2.0024   -0.3283\\nC  -1.3742    1.8303   -0.0654\\nC   1.6844   -0.6873   -0.4019\\nC  -2.3206    1.6833    1.1309\\nC   0.9997   -1.9155    0.1913\\nC   1.7285    1.8344   -0.7277\\nC   1.1437    0.9261    1.5588\\nC   3.1644   -0.6155   -0.2085\\nC  -4.6490    0.7442   -0.6282\\nC   3.2525    1.9378   -0.4590\\nC   3.8298    0.5879   -0.2856\\nC   4.1654   -1.5888    0.0140\\nC   5.3604   -0.9015    0.0689\\nH  -0.4604    0.5817   -1.5108\\nH  -3.5646    0.2626    2.1897\\nH  -1.0861   -0.4449    2.1498\\nH  -2.1902   -1.7145    1.7003\\nH  -2.5286   -0.2495   -1.7981\\nH  -2.8534   -1.8505   -1.1460\\nH  -0.3943   -2.1694   -1.4136\\nH  -0.9135   -2.8938    0.0946\\nH  -1.9810    2.0650   -0.9487\\nH  -0.7587    2.7222    0.0818\\nH   1.5605   -0.7646   -1.4951\\nH  -1.7642    1.9154    2.0477\\nH  -3.1082    2.4431    1.0635\\nH   1.0176   -1.9046    1.2859\\nH   1.5276   -2.8282   -0.1118\\nH   1.2808    2.8061   -0.4944\\nH   1.5851    1.6842   -1.8068\\nH   0.5898    1.8173    1.8670\\nH   0.8147    0.0892    2.1727\\nH   2.1832    1.0992    1.8532\\nH  -4.1337    1.6158   -1.0351\\nH  -5.4265    1.0934    0.0595\\nH   3.4273    2.5264    0.4487\\nH   3.7385    2.4646   -1.2871\\nH  -3.9519   -2.0832    0.7635\\nH   4.0442   -2.6573    0.1180\\nH  -5.7603   -0.6874   -1.3370\\nH   6.3869   -1.2031    0.2186\\n\",\"xyz\");\n",
       "\tviewer_16449089266098518.setStyle({\"stick\": {}});\n",
       "\tviewer_16449089266098518.zoomTo();\n",
       "viewer_16449089266098518.render();\n",
       "});\n",
       "</script>"
      ]
     },
     "metadata": {},
     "output_type": "display_data"
    },
    {
     "data": {
      "application/3dmoljs_load.v0": "<div id=\"3dmolviewer_16449089266128197\"  style=\"position: relative; width: 500px; height: 200px\">\n        <p id=\"3dmolwarning_16449089266128197\" style=\"background-color:#ffcccc;color:black\">You appear to be running in JupyterLab (or JavaScript failed to load for some other reason).  You need to install the 3dmol extension: <br>\n        <tt>jupyter labextension install jupyterlab_3dmol</tt></p>\n        </div>\n<script>\n\nvar loadScriptAsync = function(uri){\n  return new Promise((resolve, reject) => {\n    var tag = document.createElement('script');\n    tag.src = uri;\n    tag.async = true;\n    tag.onload = () => {\n      resolve();\n    };\n  var firstScriptTag = document.getElementsByTagName('script')[0];\n  firstScriptTag.parentNode.insertBefore(tag, firstScriptTag);\n});\n};\n\nif(typeof $3Dmolpromise === 'undefined') {\n$3Dmolpromise = null;\n  $3Dmolpromise = loadScriptAsync('https://3dmol.org/build/3Dmol.js');\n}\n\nvar viewer_16449089266128197 = null;\nvar warn = document.getElementById(\"3dmolwarning_16449089266128197\");\nif(warn) {\n    warn.parentNode.removeChild(warn);\n}\n$3Dmolpromise.then(function() {\nviewer_16449089266128197 = $3Dmol.createViewer($(\"#3dmolviewer_16449089266128197\"),{backgroundColor:\"white\"});\nviewer_16449089266128197.zoomTo();\n\tviewer_16449089266128197.addModel(\"49\\nkahweol initial structure\\nO  -4.4710   -1.5361    0.0905\\nO  -5.6188    0.9753   -0.0811\\nO   5.1625    0.5695   -0.0997\\nC  -1.2209   -0.8317   -0.2017\\nC  -0.4821    0.5357   -0.4703\\nC  -3.0038    0.1167    1.0462\\nC  -1.8514   -0.8737    1.1997\\nC  -2.4967   -0.9058   -1.1119\\nC   0.9884    0.6333    0.0944\\nC  -3.6676   -0.3924   -0.2474\\nC  -0.3220   -2.0551   -0.4569\\nC  -1.3919    1.7479   -0.1363\\nC  -2.4167    1.5304    0.9816\\nC   1.7435   -0.6786   -0.3542\\nC   1.0741   -1.9483    0.1552\\nC   1.0367    0.8330    1.6293\\nC  -4.5845    0.5870   -0.9677\\nC   1.7610    1.8511   -0.4907\\nC   3.2146   -0.5444   -0.1101\\nC   3.1013    1.8722   -0.6493\\nC   3.8167    0.6946   -0.3059\\nC   4.2309   -1.4546    0.2464\\nC   5.3980   -0.7259    0.2399\\nH  -0.3415    0.5842   -1.5631\\nH  -3.6779    0.0397    1.9072\\nH  -1.1861   -0.6021    2.0159\\nH  -2.2356   -1.8757    1.4322\\nH  -2.3648   -0.3090   -2.0216\\nH  -2.6844   -1.9384   -1.4328\\nH  -0.2098   -2.1924   -1.5413\\nH  -0.8043   -2.9694   -0.0890\\nH  -1.9406    2.0033   -1.0514\\nH  -0.8134    2.6482    0.0921\\nH  -1.9341    1.7452    1.9434\\nH  -3.2193    2.2709    0.8849\\nH   1.6699   -0.7251   -1.4553\\nH   1.0259   -1.9792    1.2481\\nH   1.6508   -2.8307   -0.1490\\nH   2.0514    1.0518    1.9842\\nH   0.4166    1.6762    1.9486\\nH   0.7233   -0.0489    2.1864\\nH  -5.0524    0.1195   -1.8415\\nH  -4.0679    1.4861   -1.3088\\nH   1.2088    2.7568   -0.7218\\nH  -5.0925   -1.2746    0.7905\\nH   3.6240    2.7536   -0.9997\\nH   4.1386   -2.5085    0.4650\\nH  -6.2132    0.2149    0.0339\\nH   6.4308   -0.9731    0.4374\\n\",\"xyz\");\n\tviewer_16449089266128197.setStyle({\"stick\": {}});\n\tviewer_16449089266128197.zoomTo();\nviewer_16449089266128197.render();\n});\n</script>",
      "text/html": [
       "<div id=\"3dmolviewer_16449089266128197\"  style=\"position: relative; width: 500px; height: 200px\">\n",
       "        <p id=\"3dmolwarning_16449089266128197\" style=\"background-color:#ffcccc;color:black\">You appear to be running in JupyterLab (or JavaScript failed to load for some other reason).  You need to install the 3dmol extension: <br>\n",
       "        <tt>jupyter labextension install jupyterlab_3dmol</tt></p>\n",
       "        </div>\n",
       "<script>\n",
       "\n",
       "var loadScriptAsync = function(uri){\n",
       "  return new Promise((resolve, reject) => {\n",
       "    var tag = document.createElement('script');\n",
       "    tag.src = uri;\n",
       "    tag.async = true;\n",
       "    tag.onload = () => {\n",
       "      resolve();\n",
       "    };\n",
       "  var firstScriptTag = document.getElementsByTagName('script')[0];\n",
       "  firstScriptTag.parentNode.insertBefore(tag, firstScriptTag);\n",
       "});\n",
       "};\n",
       "\n",
       "if(typeof $3Dmolpromise === 'undefined') {\n",
       "$3Dmolpromise = null;\n",
       "  $3Dmolpromise = loadScriptAsync('https://3dmol.org/build/3Dmol.js');\n",
       "}\n",
       "\n",
       "var viewer_16449089266128197 = null;\n",
       "var warn = document.getElementById(\"3dmolwarning_16449089266128197\");\n",
       "if(warn) {\n",
       "    warn.parentNode.removeChild(warn);\n",
       "}\n",
       "$3Dmolpromise.then(function() {\n",
       "viewer_16449089266128197 = $3Dmol.createViewer($(\"#3dmolviewer_16449089266128197\"),{backgroundColor:\"white\"});\n",
       "viewer_16449089266128197.zoomTo();\n",
       "\tviewer_16449089266128197.addModel(\"49\\nkahweol initial structure\\nO  -4.4710   -1.5361    0.0905\\nO  -5.6188    0.9753   -0.0811\\nO   5.1625    0.5695   -0.0997\\nC  -1.2209   -0.8317   -0.2017\\nC  -0.4821    0.5357   -0.4703\\nC  -3.0038    0.1167    1.0462\\nC  -1.8514   -0.8737    1.1997\\nC  -2.4967   -0.9058   -1.1119\\nC   0.9884    0.6333    0.0944\\nC  -3.6676   -0.3924   -0.2474\\nC  -0.3220   -2.0551   -0.4569\\nC  -1.3919    1.7479   -0.1363\\nC  -2.4167    1.5304    0.9816\\nC   1.7435   -0.6786   -0.3542\\nC   1.0741   -1.9483    0.1552\\nC   1.0367    0.8330    1.6293\\nC  -4.5845    0.5870   -0.9677\\nC   1.7610    1.8511   -0.4907\\nC   3.2146   -0.5444   -0.1101\\nC   3.1013    1.8722   -0.6493\\nC   3.8167    0.6946   -0.3059\\nC   4.2309   -1.4546    0.2464\\nC   5.3980   -0.7259    0.2399\\nH  -0.3415    0.5842   -1.5631\\nH  -3.6779    0.0397    1.9072\\nH  -1.1861   -0.6021    2.0159\\nH  -2.2356   -1.8757    1.4322\\nH  -2.3648   -0.3090   -2.0216\\nH  -2.6844   -1.9384   -1.4328\\nH  -0.2098   -2.1924   -1.5413\\nH  -0.8043   -2.9694   -0.0890\\nH  -1.9406    2.0033   -1.0514\\nH  -0.8134    2.6482    0.0921\\nH  -1.9341    1.7452    1.9434\\nH  -3.2193    2.2709    0.8849\\nH   1.6699   -0.7251   -1.4553\\nH   1.0259   -1.9792    1.2481\\nH   1.6508   -2.8307   -0.1490\\nH   2.0514    1.0518    1.9842\\nH   0.4166    1.6762    1.9486\\nH   0.7233   -0.0489    2.1864\\nH  -5.0524    0.1195   -1.8415\\nH  -4.0679    1.4861   -1.3088\\nH   1.2088    2.7568   -0.7218\\nH  -5.0925   -1.2746    0.7905\\nH   3.6240    2.7536   -0.9997\\nH   4.1386   -2.5085    0.4650\\nH  -6.2132    0.2149    0.0339\\nH   6.4308   -0.9731    0.4374\\n\",\"xyz\");\n",
       "\tviewer_16449089266128197.setStyle({\"stick\": {}});\n",
       "\tviewer_16449089266128197.zoomTo();\n",
       "viewer_16449089266128197.render();\n",
       "});\n",
       "</script>"
      ]
     },
     "metadata": {},
     "output_type": "display_data"
    }
   ],
   "source": [
    "vc = p3d.view(500,200)\n",
    "vc.addModel(cafestol_xyz, 'xyz')\n",
    "vc.setStyle({'stick': {}})\n",
    "vc.zoomTo()\n",
    "vc.show()\n",
    "vk = p3d.view(500,200)\n",
    "vk.addModel(kahweol_xyz, 'xyz')\n",
    "vk.setStyle({'stick': {}})\n",
    "vk.zoomTo()\n",
    "vk.show()"
   ]
  },
  {
   "cell_type": "markdown",
   "id": "6b62bf80",
   "metadata": {},
   "source": [
    "## XTB geometry optimization"
   ]
  },
  {
   "cell_type": "code",
   "execution_count": 5,
   "id": "393bc9ae",
   "metadata": {},
   "outputs": [
    {
     "name": "stdout",
     "output_type": "stream",
     "text": [
      "                                                                                                                          \n",
      "                                                        XTB Driver                                                        \n",
      "                                                       ============                                                       \n",
      "                                                                                                                          \n",
      "* Info *   Energy   : -69.3615122026 a.u.                                                                                 \n",
      "* Info *   Gradient : 8.325170e-03 a.u. (RMS)                                                                             \n",
      "* Info *              1.928275e-02 a.u. (Max)                                                                             \n",
      "* Info *   Time     : 0.17 sec                                                                                            \n",
      "                                                                                                                          \n",
      "* Info * Reference: C. Bannwarth, E. Caldeweyher, S. Ehlert,                                                              \n",
      "* Info * A. Hansen, P. Pracht, J. Seibert, S. Spicher, S. Grimme,                                                         \n",
      "* Info * WIREs Comput. Mol. Sci., 2020, 11, e01493                                                                        \n",
      "                                                                                                                          \n"
     ]
    }
   ],
   "source": [
    "# Set up the xtb driver\n",
    "method_settings = {'xtb':'gfn2'}\n",
    "ostream = vlx.OutputStream(sys.stdout)\n",
    "xtbdrv = vlx.XTBDriver()\n",
    "xtbdrv.set_method(method_settings['xtb'].lower())\n",
    "xtbdrv.compute(cafestol, ostream)"
   ]
  },
  {
   "cell_type": "markdown",
   "id": "35e0ea21-05f6-4e12-9919-9e7bc8302b29",
   "metadata": {},
   "source": [
    "### Set up the xtb gradient and optimization drivers and run the geometry optimization\n",
    "```python\n",
    "xtb_grad_drv = vlx.XTBGradientDriver(xtbdrv)\n",
    "xtb_opt_drv = vlx.OptimizationDriver(xtb_grad_drv, flag='xtb')\n",
    "xtb_opt_cafestol = xtb_opt_drv.compute(cafestol, cafestol_basis)\n",
    "\n",
    "ostream.print_block(xtb_opt_cafestol.get_string())\n",
    "ostream.flush()\n",
    "```"
   ]
  },
  {
   "cell_type": "markdown",
   "id": "24a798fa-0959-4c7c-9a51-6764850d36e1",
   "metadata": {},
   "source": [
    "### Run the XTB structure optimization for kahweol:\n",
    "```python\n",
    "xtbdrv = vlx.XTBDriver()\n",
    "xtbdrv.set_method(method_settings['xtb'].lower())\n",
    "xtbdrv.compute(kahweol, ostream)\n",
    "xtb_grad_drv = vlx.XTBGradientDriver(xtbdrv)\n",
    "xtb_opt_drv = vlx.OptimizationDriver(xtb_grad_drv, flag='xtb')\n",
    "xtb_opt_kahweol = xtb_opt_drv.compute(kahweol, kahweol_basis)\n",
    "ostream.print_block(xtb_opt_kahweol.get_string())\n",
    "ostream.flush()\n",
    "```"
   ]
  },
  {
   "cell_type": "markdown",
   "id": "daa9c745",
   "metadata": {},
   "source": [
    "## SCF geometry optimization"
   ]
  },
  {
   "cell_type": "markdown",
   "id": "4607b7b3",
   "metadata": {},
   "source": [
    "## MP2 geometry optimization (Gator)\n"
   ]
  }
 ],
 "metadata": {
  "kernelspec": {
   "display_name": "Python 3",
   "language": "python",
   "name": "python3"
  },
  "language_info": {
   "codemirror_mode": {
    "name": "ipython",
    "version": 3
   },
   "file_extension": ".py",
   "mimetype": "text/x-python",
   "name": "python",
   "nbconvert_exporter": "python",
   "pygments_lexer": "ipython3",
   "version": "3.6.9"
  }
 },
 "nbformat": 4,
 "nbformat_minor": 5
}
