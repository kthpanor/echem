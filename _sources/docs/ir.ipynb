{
 "cells": [
  {
   "cell_type": "markdown",
   "id": "4dd455af",
   "metadata": {},
   "source": [
    "\n",
    "# IR spectrum calculation\n",
    "\n",
    "(sec:ir-tutorial)=\n",
    "\n",
    "The infrared (IR) absorption process involves the absorption of light with low photon energy (from approx. 800 nm to approx. 1000 $\\mu$m) which promotes the excitation of molecular vibrations. Of the entire IR photon energy range, the photons which excite fundamental vibrations of covalent bonds have energies in the range 2.5-25 $\\mu$m {cite}`Norman2018, Centrone2015`. The absorbed photon energies (i.e. IR absorption peak positions) correspond to the molecular vibrational freqencies, while the IR intensities are related to the IR linear absorption cross-section {cite}`Norman2018`:\n",
    "\\begin{equation}\n",
    "\\sigma(\\omega)= to\\,\\,be\\,\\,added\n",
    "\\end{equation}\n",
    "\n",
    "These molecular vibrations constitute fingerprints of different functional groups present in the system and thus are very important for chemical characterization and molecular identification **to be refined, to add examples**.\n",
    "\n",
    "\n",
    "The first step in an IR spectrum calculation is to determine the normal modes and frequencies which are obtained from the eigenstates and eigenvalues of the Hessian matrix. The Hessian collects all the second order derivatives of the energy ($E$) with respect to all nuclear coordinates (as exemplified below for a diatomic molecule AB where the atomic coordinates are denoted $A_x$, $A_y$, etc. **maybe remove?**):\n",
    "\n",
    "\\begin{equation}\n",
    "\\mathbf{H}= \\begin{bmatrix}\n",
    "\\frac{\\mathrm{d}^2E}{\\mathrm{d}A^2_x} & \\frac{\\mathrm{d}^2E}{\\mathrm{d}A_x\\mathrm{d}A_y} & \\frac{\\mathrm{d}^2E}{\\mathrm{d}A_x\\mathrm{d}A_z} & \\frac{\\mathrm{d}^2E}{\\mathrm{d}A_x\\mathrm{d}B_x} & \\frac{\\mathrm{d}^2E}{\\mathrm{d}A_x\\mathrm{d}B_y} & \\frac{\\mathrm{d}^2E}{\\mathrm{d}A_x\\mathrm{d}B_z} \\\\\n",
    "\\frac{\\mathrm{d}^2E}{\\mathrm{d}A_y\\mathrm{d}A_x} & \\frac{\\mathrm{d}^2E}{\\mathrm{d}A^2_y} &  \\frac{\\mathrm{d}^2E}{\\mathrm{d}A_y\\mathrm{d}A_z} & \\frac{\\mathrm{d}^2E}{\\mathrm{d}A_y\\mathrm{d}B_x} & \\frac{\\mathrm{d}^2E}{\\mathrm{d}A_y\\mathrm{d}B_y} & \\frac{\\mathrm{d}^2E}{\\mathrm{d}A_y\\mathrm{d}B_z} \\\\\n",
    "\\frac{\\mathrm{d}^2E}{\\mathrm{d}A_z\\mathrm{d}A_x} & \\frac{\\mathrm{d}^2E}{\\mathrm{d}A_z\\mathrm{d}A_y} & \\frac{\\mathrm{d}^2E}{\\mathrm{d}A^2_z} &  \\frac{\\mathrm{d}^2E}{\\mathrm{d}A_x\\mathrm{d}B_x} & \\frac{\\mathrm{d}^2E}{\\mathrm{d}A_x\\mathrm{d}B_y} & \\frac{\\mathrm{d}^2E}{\\mathrm{d}A_x\\mathrm{d}B_z} \\\\\n",
    "\\frac{\\mathrm{d}^2E}{\\mathrm{d}B_x\\mathrm{d}A_x} &  \\frac{\\mathrm{d}^2E}{\\mathrm{d}B_x\\mathrm{d}A_y} & \\frac{\\mathrm{d}^2E}{\\mathrm{d}B_x\\mathrm{d}A_z} & \\frac{\\mathrm{d}^2E}{\\mathrm{d}B^2_x} &  \\frac{\\mathrm{d}^2E}{\\mathrm{d}B_x\\mathrm{d}B_y} & \\frac{\\mathrm{d}^2E}{\\mathrm{d}B_x\\mathrm{d}B_z} \\\\\n",
    "\\frac{\\mathrm{d}^2E}{\\mathrm{d}B_y\\mathrm{d}A_x} &  \\frac{\\mathrm{d}^2E}{\\mathrm{d}B_y\\mathrm{d}A_y} & \\frac{\\mathrm{d}^2E}{\\mathrm{d}B_y\\mathrm{d}A_z} & \\frac{\\mathrm{d}^2E}{\\mathrm{d}B_y\\mathrm{d}B_x} & \\frac{\\mathrm{d}^2E}{\\mathrm{d}B^2_y} &  \\frac{\\mathrm{d}^2E}{\\mathrm{d}B_y\\mathrm{d}B_z} \\\\\n",
    "\\frac{\\mathrm{d}^2E}{\\mathrm{d}B_z\\mathrm{d}A_x} &  \\frac{\\mathrm{d}^2E}{\\mathrm{d}B_z\\mathrm{d}A_y} & \\frac{\\mathrm{d}^2E}{\\mathrm{d}B_z\\mathrm{d}A_z} & \\frac{\\mathrm{d}^2E}{\\mathrm{d}B_z\\mathrm{d}B_x} & \\frac{\\mathrm{d}^2E}{\\mathrm{d}B_z\\mathrm{d}B_x} & \\frac{\\mathrm{d}^2E}{\\mathrm{d}B^2_z} \\\\\n",
    "\\end{bmatrix}\n",
    "\\end{equation}\n",
    "\n",
    "The first step in a IR spectrum calculation is thus to determine the Hessian matrix. For the ground state, the Hessian can be determined [analytically](hessians:label), or numerically based on the analytical gradient."
   ]
  },
  {
   "cell_type": "code",
   "execution_count": 8,
   "id": "da7adf3c",
   "metadata": {},
   "outputs": [],
   "source": [
    "# Import section\n",
    "import veloxchem as vlx\n",
    "import numpy as np\n",
    "import sys"
   ]
  },
  {
   "cell_type": "code",
   "execution_count": 9,
   "id": "46f9e1d5",
   "metadata": {},
   "outputs": [
    {
     "name": "stdout",
     "output_type": "stream",
     "text": [
      "                                              Molecular Geometry (Angstroms)                                              \n",
      "                                             ================================                                             \n",
      "                                                                                                                          \n",
      "                          Atom         Coordinate X          Coordinate Y          Coordinate Z                           \n",
      "                                                                                                                          \n",
      "                           O           0.000000000000        0.000000000000        0.000000000000                         \n",
      "                           H           0.000000000000        0.000000000000        0.950000004673                         \n",
      "                           H           0.896000004407        0.000000000000       -0.317000001559                         \n",
      "                                                                                                                          \n"
     ]
    }
   ],
   "source": [
    "# Define the molecule and basis set\n",
    "molecule_string = \"\"\"\n",
    "  O 0 0 0\n",
    "  H 0 0 1.795239827225189\n",
    "  H 1.693194615993441 0 -0.599043184453037\"\"\"\n",
    "unit = \"au\"\n",
    "basis_set_label = 'def2-svp'\n",
    "\n",
    "molecule = vlx.Molecule.read_str(molecule_string, units=unit)\n",
    "basis = vlx.MolecularBasis.read(molecule, basis_set_label)\n",
    "ostream = vlx.OutputStream(sys.stdout)\n",
    "ostream.print_block(molecule.get_string()) #TODO: show the molecular structure instead\n",
    "ostream.flush()"
   ]
  },
  {
   "cell_type": "code",
   "execution_count": 10,
   "id": "f5da60e4",
   "metadata": {},
   "outputs": [
    {
     "name": "stdout",
     "output_type": "stream",
     "text": [
      "                                                                                                                          \n",
      "                                            Self Consistent Field Driver Setup                                            \n",
      "                                           ====================================                                           \n",
      "                                                                                                                          \n",
      "                   Wave Function Model             : Spin-Restricted Hartree-Fock                                         \n",
      "                   Initial Guess Model             : Superposition of Atomic Densities                                    \n",
      "                   Convergence Accelerator         : Two Level Direct Inversion of Iterative Subspace                     \n",
      "                   Max. Number of Iterations       : 50                                                                   \n",
      "                   Max. Number of Error Vectors    : 10                                                                   \n",
      "                   Convergence Threshold           : 1.0e-06                                                              \n",
      "                   ERI Screening Scheme            : Cauchy Schwarz + Density                                             \n",
      "                   ERI Screening Mode              : Dynamic                                                              \n",
      "                   ERI Screening Threshold         : 1.0e-12                                                              \n",
      "                   Linear Dependence Threshold     : 1.0e-06                                                              \n",
      "                                                                                                                          \n",
      "* Info * Nuclear repulsion energy: 9.2514792692 a.u.                                                                      \n",
      "                                                                                                                          \n",
      "* Info * Overlap matrix computed in 0.00 sec.                                                                             \n",
      "                                                                                                                          \n",
      "* Info * Kinetic energy matrix computed in 0.00 sec.                                                                      \n",
      "                                                                                                                          \n",
      "* Info * Nuclear potential matrix computed in 0.00 sec.                                                                   \n",
      "                                                                                                                          \n",
      "* Info * Orthogonalization matrix computed in 0.00 sec.                                                                   \n",
      "                                                                                                                          \n",
      "* Info * SAD initial guess computed in 0.00 sec.                                                                          \n",
      "                                                                                                                          \n",
      "* Info * Starting Reduced Basis SCF calculation...                                                                        \n",
      "* Info * ...done. SCF energy in reduced basis set: -75.916440647145 a.u. Time: 0.03 sec.                                  \n",
      "                                                                                                                          \n",
      "* Info * Overlap matrix computed in 0.00 sec.                                                                             \n",
      "                                                                                                                          \n",
      "* Info * Kinetic energy matrix computed in 0.00 sec.                                                                      \n",
      "                                                                                                                          \n",
      "* Info * Nuclear potential matrix computed in 0.00 sec.                                                                   \n",
      "                                                                                                                          \n",
      "* Info * Orthogonalization matrix computed in 0.00 sec.                                                                   \n",
      "                                                                                                                          \n",
      "                                                                                                                          \n",
      "               Iter. | Hartree-Fock Energy | Energy Change | Gradient Norm | Max. Gradient | Density Change               \n",
      "               --------------------------------------------------------------------------------------------               \n",
      "                  1       -75.959833036531    0.0000000000      0.09234869      0.01099918      0.00000000                \n",
      "                  2       -75.960709636402   -0.0008765999      0.01671860      0.00248033      0.02357521                \n",
      "                  3       -75.960744345211   -0.0000347088      0.00347436      0.00061888      0.00448968                \n",
      "                  4       -75.960746198780   -0.0000018536      0.00204897      0.00033265      0.00143280                \n",
      "                  5       -75.960746599257   -0.0000004005      0.00019959      0.00003424      0.00048577                \n",
      "                  6       -75.960746609076   -0.0000000098      0.00003116      0.00000533      0.00010793                \n",
      "                  7       -75.960746609321   -0.0000000002      0.00000371      0.00000055      0.00001791                \n",
      "                  8       -75.960746609325   -0.0000000000      0.00000094      0.00000015      0.00000234                \n",
      "                                                                                                                          \n",
      "* Info * SCF tensors written to file: scf.tensors.h5                                                                      \n",
      "                                                                                                                          \n",
      "               *** SCF converged in 8 iterations. Time: 0.78 sec.                                                         \n",
      "                                                                                                                          \n",
      "               Spin-Restricted Hartree-Fock:                                                                              \n",
      "               -----------------------------                                                                              \n",
      "               Total Energy                       :      -75.9607466093 a.u.                                              \n",
      "               Electronic Energy                  :      -85.2122258786 a.u.                                              \n",
      "               Nuclear Repulsion Energy           :        9.2514792692 a.u.                                              \n",
      "               ------------------------------------                                                                       \n",
      "               Gradient Norm                      :        0.0000009408 a.u.                                              \n",
      "                                                                                                                          \n",
      "                                                                                                                          \n",
      "               Ground State Information                                                                                   \n",
      "               ------------------------                                                                                   \n",
      "               Charge of Molecule            :  0.0                                                                       \n",
      "               Multiplicity (2S+1)           :  1.0                                                                       \n",
      "               Magnetic Quantum Number (M_S) :  0.0                                                                       \n",
      "                                                                                                                          \n",
      "                                                                                                                          \n",
      "                                                 Spin Restricted Orbitals                                                 \n",
      "                                                 ------------------------                                                 \n",
      "                                                                                                                          \n",
      "               Molecular Orbital No.   1:                                                                                 \n",
      "               --------------------------                                                                                 \n",
      "               Occupation: 2.0 Energy:  -20.54181 a.u.                                                                    \n",
      "               (   1 O   1s  :     0.99)                                                                                  \n",
      "                                                                                                                          \n",
      "               Molecular Orbital No.   2:                                                                                 \n",
      "               --------------------------                                                                                 \n",
      "               Occupation: 2.0 Energy:   -1.31839 a.u.                                                                    \n",
      "               (   1 O   1s  :     0.28) (   1 O   2s  :     0.55) (   1 O   3s  :     0.29)                              \n",
      "               (   2 H   1s  :     0.19) (   3 H   1s  :     0.19)                                                        \n",
      "                                                                                                                          \n",
      "               Molecular Orbital No.   3:                                                                                 \n",
      "               --------------------------                                                                                 \n",
      "               Occupation: 2.0 Energy:   -0.71659 a.u.                                                                    \n",
      "               (   1 O   1p+1:    -0.28) (   1 O   1p0 :     0.40) (   1 O   2p0 :     0.18)                              \n",
      "               (   2 H   1s  :     0.33) (   3 H   1s  :    -0.33)                                                        \n",
      "                                                                                                                          \n",
      "               Molecular Orbital No.   4:                                                                                 \n",
      "               --------------------------                                                                                 \n",
      "               Occupation: 2.0 Energy:   -0.55953 a.u.                                                                    \n",
      "               (   1 O   2s  :     0.19) (   1 O   3s  :     0.32) (   1 O   1p+1:    -0.45)                              \n",
      "               (   1 O   1p0 :    -0.32) (   1 O   2p+1:    -0.31) (   1 O   2p0 :    -0.22)                              \n",
      "               (   2 H   1s  :    -0.19) (   3 H   1s  :    -0.19)                                                        \n",
      "                                                                                                                          \n",
      "               Molecular Orbital No.   5:                                                                                 \n",
      "               --------------------------                                                                                 \n",
      "               Occupation: 2.0 Energy:   -0.49673 a.u.                                                                    \n",
      "               (   1 O   1p-1:     0.63) (   1 O   2p-1:     0.50)                                                        \n",
      "                                                                                                                          \n",
      "               Molecular Orbital No.   6:                                                                                 \n",
      "               --------------------------                                                                                 \n",
      "               Occupation: 0.0 Energy:    0.17821 a.u.                                                                    \n",
      "               (   1 O   3s  :     1.12) (   1 O   2p+1:     0.29) (   1 O   2p0 :     0.20)                              \n",
      "               (   2 H   2s  :    -0.91) (   3 H   2s  :    -0.91)                                                        \n",
      "                                                                                                                          \n",
      "               Molecular Orbital No.   7:                                                                                 \n",
      "               --------------------------                                                                                 \n",
      "               Occupation: 0.0 Energy:    0.25586 a.u.                                                                    \n",
      "               (   1 O   1p+1:    -0.16) (   1 O   1p0 :     0.23) (   1 O   2p+1:    -0.38)                              \n",
      "               (   1 O   2p0 :     0.54) (   2 H   2s  :    -1.42) (   3 H   2s  :     1.42)                              \n",
      "                                                                                                                          \n",
      "               Molecular Orbital No.   8:                                                                                 \n",
      "               --------------------------                                                                                 \n",
      "               Occupation: 0.0 Energy:    0.81974 a.u.                                                                    \n",
      "               (   1 O   1p+1:     0.17) (   1 O   1p0 :    -0.23) (   1 O   2p+1:     0.31)                              \n",
      "               (   1 O   2p0 :    -0.44) (   2 H   1s  :     0.97) (   2 H   2s  :    -0.63)                              \n",
      "               (   3 H   1s  :    -0.98) (   3 H   2s  :     0.63)                                                        \n",
      "                                                                                                                          \n",
      "               Molecular Orbital No.   9:                                                                                 \n",
      "               --------------------------                                                                                 \n",
      "               Occupation: 0.0 Energy:    0.85362 a.u.                                                                    \n",
      "               (   1 O   2s  :     0.36) (   1 O   3s  :    -0.28) (   1 O   1p+1:     0.24)                              \n",
      "               (   1 O   1p0 :     0.17) (   2 H   1s  :    -0.87) (   2 H   2s  :     0.55)                              \n",
      "               (   2 H   1p0 :    -0.21) (   3 H   1s  :    -0.85) (   3 H   2s  :     0.54)                              \n",
      "               (   3 H   1p+1:    -0.16) (   3 H   1p0 :     0.18)                                                        \n",
      "                                                                                                                          \n",
      "               Molecular Orbital No.  10:                                                                                 \n",
      "               --------------------------                                                                                 \n",
      "               Occupation: 0.0 Energy:    1.18380 a.u.                                                                    \n",
      "               (   1 O   2s  :     0.43) (   1 O   3s  :     0.20) (   1 O   1p+1:    -0.67)                              \n",
      "               (   1 O   1p0 :    -0.47) (   1 O   2p+1:     0.99) (   1 O   2p0 :     0.70)                              \n",
      "               (   2 H   1s  :    -0.38) (   2 H   1p0 :     0.16) (   3 H   1s  :    -0.38)                              \n",
      "               (   3 H   1p+1:     0.17)                                                                                  \n",
      "                                                                                                                          \n"
     ]
    }
   ],
   "source": [
    "# Run the scf calculation\n",
    "method_settings = {}\n",
    "scfdrv = vlx.ScfRestrictedDriver()\n",
    "scfdrv.compute(molecule, basis)"
   ]
  },
  {
   "cell_type": "code",
   "execution_count": 11,
   "id": "7a82d441",
   "metadata": {},
   "outputs": [
    {
     "name": "stdout",
     "output_type": "stream",
     "text": [
      "                                                                                                                          \n",
      "                                                    SCF Hessian Driver                                                    \n",
      "                                                   ====================                                                   \n",
      "                                                                                                                          \n",
      "                                                                                                                          \n",
      "                                       Coupled-Perturbed Hartree-Fock Solver Setup                                        \n",
      "                                      =============================================                                       \n",
      "                                                                                                                          \n",
      "                          Solver Type                     : Conjugate Gradient                                            \n",
      "                          Max. Number of Iterations       : 150                                                           \n",
      "                          Convergence Threshold           : 1.0e-04                                                       \n",
      "                                                                                                                          \n",
      "               *** Coupled-Perturbed Hartree-Fock converged in 10 iterations. Time: 1.17 sec                              \n",
      "                                                                                                                          \n",
      "                                                                                                                          \n",
      "                                   *** Time spent in Hessian calculation: 10.92 sec ***                                   \n",
      "                                                                                                                          \n",
      "                                                                                                                          \n"
     ]
    }
   ],
   "source": [
    "# Create the Hessian Driver and use it to compute an analytical SCF Hessian\n",
    "hessian_settings = {'numerical': 'no'}\n",
    "cphf_settings = {'use_subspace_solver':'no'}\n",
    "hessian_drv = vlx.scfhessiandriver.ScfHessianDriver(scfdrv, scfdrv.comm, ostream)\n",
    "hessian_drv.update_settings(method_settings, hessian_settings, cphf_settings)\n",
    "hessian_drv.compute(molecule, basis)"
   ]
  },
  {
   "cell_type": "code",
   "execution_count": 13,
   "id": "b842e98c",
   "metadata": {},
   "outputs": [
    {
     "name": "stdout",
     "output_type": "stream",
     "text": [
      "                                           Analytical Hessian (Hartree/Bohr**2)                                           \n",
      "                                          --------------------------------------                                          \n",
      "                                                                                                                          \n",
      "  Coord.       1 O(x)          1 O(y)          1 O(z)          2 H(x)          2 H(y)          2 H(z)          \n",
      "                                                                                                                          \n",
      "  1 O(x)       0.60158556      0.00000000     -0.15207252     -0.05695861     -0.00000000      0.02086391\n",
      "  1 O(y)       0.00000000     -0.00252875      0.00000000     -0.00000000      0.00140155     -0.00000000\n",
      "  1 O(z)      -0.15207252      0.00000000      0.71123729     -0.04125608     -0.00000000     -0.60022186\n",
      "  2 H(x)      -0.05695861     -0.00000000     -0.04125608      0.05366250      0.00000000     -0.00981460\n",
      "  2 H(y)      -0.00000000      0.00140155     -0.00000000      0.00000000      0.00294554      0.00000000\n",
      "  2 H(z)       0.02086391     -0.00000000     -0.60022186     -0.00981460      0.00000000      0.61106383\n",
      "  3 H(x)      -0.54462695     -0.00000000      0.19332860      0.00329611     -0.00000000     -0.01104931\n",
      "  3 H(y)      -0.00000000      0.00112721      0.00000000     -0.00000000     -0.00434709      0.00000000\n",
      "  3 H(z)       0.13120861      0.00000000     -0.11101543      0.05107068     -0.00000000     -0.01084197\n",
      "                                                                                                                          \n",
      "                                                                                                                          \n",
      "  Coord.       3 H(x)          3 H(y)          3 H(z)          \n",
      "                                                                                                                          \n",
      "  1 O(x)      -0.54462695     -0.00000000      0.13120861\n",
      "  1 O(y)      -0.00000000      0.00112721      0.00000000\n",
      "  1 O(z)       0.19332860      0.00000000     -0.11101543\n",
      "  2 H(x)       0.00329611     -0.00000000      0.05107068\n",
      "  2 H(y)      -0.00000000     -0.00434709     -0.00000000\n",
      "  2 H(z)      -0.01104931      0.00000000     -0.01084197\n",
      "  3 H(x)       0.54133084      0.00000000     -0.18227929\n",
      "  3 H(y)       0.00000000      0.00321988     -0.00000000\n",
      "  3 H(z)      -0.18227929     -0.00000000      0.12185740\n",
      "                                                                                                                          \n",
      "                                                                                                                          \n"
     ]
    }
   ],
   "source": [
    "hessian_drv.print_hessian(molecule)"
   ]
  },
  {
   "cell_type": "markdown",
   "id": "417914bc",
   "metadata": {},
   "source": [
    "The normal modes and frequencies are then determined by diagonalizing the Hessian. First, the transation and rotational modes mut be projected out, leaving 3N-6 (or 3N-5 for a linear molecule) vibrational modes. This is done under the hood with the help of geomeTRIC. **add comparison vib-rot removed vs. included?**\n",
    "\n",
    "The IR intensities are determined as discussed in more details in **add link**"
   ]
  },
  {
   "cell_type": "code",
   "execution_count": 14,
   "id": "16e81dfa",
   "metadata": {},
   "outputs": [
    {
     "name": "stdout",
     "output_type": "stream",
     "text": [
      "                                                   Vibrational Analysis                                                   \n",
      "                                                  ======================                                                  \n",
      "                                                                                                                          \n",
      "                 Harmonic frequencies (in cm**-1), force constants (in mdyne/A), reduced masses (in amu),                 \n",
      "                                                IR intensities (in km/mol),                                               \n",
      "                                         and Cartesian normal mode displacements.                                         \n",
      "                                                                                                                          \n",
      "                                                                                                                          \n",
      "  Index:                        1                              2                              3               \n",
      "  Frequency:                 1703.02                        4054.01                        4185.87            \n",
      "  Force constant:            1.8536                         10.1053                        11.2203            \n",
      "  Reduced mass:              1.0847                         1.0436                         1.0869             \n",
      "  IR intensity:              92.4868                        25.5570                        94.7798            \n",
      "  Normal mode:       X         Y         Z     |    X         Y         Z     |    X         Y         Z     |\n",
      "  1 O             -0.0584    0.0000   -0.0413  |  0.0407    0.0000    0.0268  | -0.0409   -0.0000    0.0599  |\n",
      "  2 H              0.7053   -0.0000   -0.0139  |  0.0254    0.0000   -0.6900  |  0.0005    0.0000   -0.7214  |\n",
      "  3 H              0.2222   -0.0000    0.6692  | -0.6715   -0.0000    0.2645  |  0.6495    0.0000   -0.2292  |\n",
      "                                                                                                                          \n",
      "                                                                                                                          \n"
     ]
    }
   ],
   "source": [
    "hessian_drv.vibrational_analysis(molecule, basis)"
   ]
  },
  {
   "cell_type": "code",
   "execution_count": 73,
   "id": "04ea9107",
   "metadata": {},
   "outputs": [],
   "source": [
    "def add_broadening(list_ex_energy, list_osci_strength, line_profile='Lorentzian', line_param=10, step=10):\n",
    "        x_min = np.amin(list_ex_energy) - 50\n",
    "        x_max = np.amax(list_ex_energy) + 50\n",
    "        x = np.arange(x_min, x_max, step)\n",
    "        y = np.zeros((len(x)))\n",
    "        #print(x)\n",
    "        #print(y)\n",
    "\n",
    "        # go through the frames and calculate the spectrum for each frame\n",
    "        for xp in range(len(x)):\n",
    "            for e, f in zip(list_ex_energy, list_osci_strength):\n",
    "                if line_profile == 'Gaussian':\n",
    "                    y[xp] += f * np.exp(-(\n",
    "                        (e - x[xp]) / line_param)**2)\n",
    "                elif line_profile == 'Lorentzian':\n",
    "                    y[xp] += 0.5 * line_param * f / (np.pi * (\n",
    "                        (x[xp] - e)**2 + 0.25 * line_param**2))\n",
    "        return x, y"
   ]
  },
  {
   "cell_type": "code",
   "execution_count": 75,
   "id": "45840981",
   "metadata": {},
   "outputs": [
    {
     "data": {
      "image/png": "[encoded data removed]",
      "text/plain": [
       "<Figure size 504x288 with 1 Axes>"
      ]
     },
     "metadata": {
      "needs_background": "light"
     },
     "output_type": "display_data"
    }
   ],
   "source": [
    "# plot the IR spectrum\n",
    "from matplotlib import pyplot as plt\n",
    "\n",
    "plt.figure(figsize=(7,4))\n",
    "# Spectrum from -CHF \n",
    "x1,y1 = hessian_drv.frequencies, hessian_drv.ir_intensities\n",
    "x1i, y1i = add_broadening(x1,y1,line_profile='Gaussian',line_param=20,step=10)\n",
    "plt.plot(x1i,y1i)\n",
    "#plt.plot(x1,y1,'x')\n",
    "plt.xlabel('wavenumber (cm**-1)')\n",
    "plt.ylabel('IR intensity (km/mol)')\n",
    "plt.title(\"Calculated IR sepctrum of the water molecule\")\n",
    "plt.tight_layout(); plt.show()\n",
    "# TODO: add comparison to expriment"
   ]
  },
  {
   "cell_type": "code",
   "execution_count": null,
   "id": "a42a0d20",
   "metadata": {},
   "outputs": [],
   "source": []
  }
 ],
 "metadata": {
  "kernelspec": {
   "display_name": "Python 3",
   "language": "python",
   "name": "python3"
  },
  "language_info": {
   "codemirror_mode": {
    "name": "ipython",
    "version": 3
   },
   "file_extension": ".py",
   "mimetype": "text/x-python",
   "name": "python",
   "nbconvert_exporter": "python",
   "pygments_lexer": "ipython3",
   "version": "3.6.9"
  }
 },
 "nbformat": 4,
 "nbformat_minor": 5
}
