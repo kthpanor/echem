{
 "cells": [
  {
   "cell_type": "markdown",
   "id": "a2dcd883",
   "metadata": {},
   "source": [
    "# Exercises\n",
    "\n",
    "In this exercise we will look at how substitution affects the vibrational frequencies, IR, and Raman spectra."
   ]
  },
  {
   "cell_type": "markdown",
   "id": "723f7310-e6dd-48b2-b435-b3d47c5db5f8",
   "metadata": {},
   "source": [
    "```python\n",
    "# import section\n",
    "import veloxchem as vlx\n",
    "import py3Dmol as p3d\n",
    "from veloxchem.veloxchemlib import bohr_in_angstroms\n",
    "from matplotlib import pyplot as plt\n",
    "import numpy as np\n",
    "\n",
    "basis_set_label = \"6-31G\"\n",
    "```"
   ]
  },
  {
   "cell_type": "markdown",
   "id": "07c3d16e-a106-4af7-a617-b41dc76c7fd8",
   "metadata": {},
   "source": [
    "```python\n",
    "# define molecules and basis sets\n",
    "ethene_xyz = \"\"\"6\n",
    " ethene\n",
    " C          0.000000    -0.663984   0.000000\n",
    " C          0.000000     0.663984   0.000000\n",
    " H          0.919796    -1.223061   0.000000\n",
    " H         -0.919796    -1.223061   0.000000\n",
    " H          0.919796     1.223061   0.000000\n",
    " H         -0.919796     1.223061   0.000000\n",
    "\"\"\"\n",
    "ethene = vlx.Molecule.from_xyz_string(ethene_xyz)\n",
    "ethene_basis = vlx.MolecularBasis.read(ethene, basis_set_label)\n",
    "```"
   ]
  },
  {
   "cell_type": "markdown",
   "id": "d3ffc7fc-fc24-4320-a468-ae50fa0fc71f",
   "metadata": {},
   "source": [
    "```python\n",
    "fluoroethene_xyz = \"\"\"6\n",
    "fluoroethene\n",
    " C          0.000000    -0.663984   0.000000\n",
    " C          0.000000     0.663984   0.000000\n",
    " F         1.519796    -1.223061   0.000000\n",
    " H         -0.919796    -1.223061   0.000000\n",
    " H          0.919796     1.223061   0.000000\n",
    " H         -0.919796     1.223061   0.000000\n",
    " \"\"\"\n",
    "fluoroethene = vlx.Molecule.from_xyz_string(fluoroethene_xyz)\n",
    "fluoroethene_basis = vlx.MolecularBasis.read(fluoroethene, basis_set_label)\n",
    "```"
   ]
  },
  {
   "cell_type": "markdown",
   "id": "fe9e729e-94d6-4333-8a88-8d9da9707898",
   "metadata": {},
   "source": [
    "```python\n",
    "chloroethene_xyz = \"\"\"6\n",
    "chloroethene\n",
    " C          0.000000    -0.663984   0.000000\n",
    " C          0.000000     0.663984   0.000000\n",
    " Cl         1.519796    -1.223061   0.000000\n",
    " H         -0.919796    -1.223061   0.000000\n",
    " H          0.919796     1.223061   0.000000\n",
    " H         -0.919796     1.223061   0.000000\n",
    " \"\"\"\n",
    "chloroethene = vlx.Molecule.from_xyz_string(chloroethene_xyz)\n",
    "chloroethene_basis = vlx.MolecularBasis.read(chloroethene, basis_set_label)\n",
    "```"
   ]
  },
  {
   "cell_type": "markdown",
   "id": "7acc638e-6144-4288-9e90-40cf459fc6a6",
   "metadata": {},
   "source": [
    "```python\n",
    "# to view the molecules\n",
    "view = p3d.view(linked=True, viewergrid=(1,3),width=700,height=200)\n",
    "view.addModel(ethene_xyz, 'xyz', viewer=(0,0))\n",
    "view.addModel(fluoroethene_xyz, 'xyz', viewer=(0,1))\n",
    "view.addModel(chloroethene_xyz, 'xyz', viewer=(0,2))\n",
    "view.setStyle({'stick': {}})\n",
    "view.zoomTo()\n",
    "view.show()\n",
    "```"
   ]
  },
  {
   "cell_type": "markdown",
   "id": "6b62bf80",
   "metadata": {},
   "source": [
    "## SCF geometry optimization\n",
    "Before we can calculate the vibrational spectra, we first must optimize the geometries."
   ]
  },
  {
   "cell_type": "markdown",
   "id": "29a45ef0-c657-401f-af0a-d84211871bc7",
   "metadata": {},
   "source": [
    "```python\n",
    "# Settings for SCF and gradient drivers\n",
    "scf_settings = {'conv_thresh':1e-6}\n",
    "method_settings = {}\n",
    "```"
   ]
  },
  {
   "cell_type": "markdown",
   "id": "7e1872ea-2369-44b5-be79-2a740195cd3d",
   "metadata": {},
   "source": [
    "```python\n",
    "# Run SCF for ethene\n",
    "ethene_scfdrv = ...\n",
    "...\n",
    "\n",
    "# Run SCF for fluoroethene\n",
    "fluoroethene_scfdrv = ...\n",
    "...\n",
    "\n",
    "# Run SCF for chloroethene\n",
    "chloroethene_scfdrv = ...\n",
    "...\n",
    "```"
   ]
  },
  {
   "cell_type": "markdown",
   "id": "8edf5055-053c-4d2e-b78d-b545da16e96b",
   "metadata": {},
   "source": [
    "```python\n",
    "# Set up the gradient and optimization dirvers:\n",
    "ethene_grad_drv = ...\n",
    "\n",
    "fluoroethene_grad_drv = ...\n",
    "...\n",
    "\n",
    "chloroethene_grad_drv = ...\n",
    "...\n",
    "```"
   ]
  },
  {
   "cell_type": "markdown",
   "id": "6db489c4-cc79-4b16-ab9d-29c9ba042380",
   "metadata": {
    "tags": []
   },
   "source": [
    "```python\n",
    "# Optimize the geometries\n",
    "opt_ethene = ...\n",
    "opt_fluoroethene = ...\n",
    "opt_chloroethene = ...\n",
    "```"
   ]
  },
  {
   "cell_type": "markdown",
   "id": "f713f9f8-8f74-4eb9-ad91-4f540520bad8",
   "metadata": {},
   "source": [
    "```python\n",
    "# Get optimized coordinates as xyz string\n",
    "def get_xyz(molecule):\n",
    "    natm = molecule.number_of_atoms()\n",
    "    elements = molecule.get_labels()\n",
    "    coords = molecule.get_coordinates() * bohr_in_angstroms()\n",
    "    txt = \"%d\\n\\n\" % natm\n",
    "    for i in range(natm):\n",
    "        txt += elements[i] + \" %15.7f %15.7f %15.7f\\n\" % (coords[i,0], coords[i,1], coords[i,2])\n",
    "    return txt\n",
    "```"
   ]
  },
  {
   "cell_type": "markdown",
   "id": "df78ad0e-b078-4621-b5aa-366678cc2632",
   "metadata": {},
   "source": [
    "```python\n",
    "# Visualize the optimized structures\n",
    "...\n",
    "```"
   ]
  },
  {
   "cell_type": "markdown",
   "id": "bfa550d9-48fe-4ebe-82d9-85a0f1feaae1",
   "metadata": {},
   "source": [
    "```python\n",
    "# Compute SCF with the optimized geometries of all molecules\n",
    "...\n",
    "```"
   ]
  },
  {
   "cell_type": "markdown",
   "id": "faf15a93-fb2a-4b55-a82c-04b4f22d22b9",
   "metadata": {},
   "source": [
    "## Hessians\n",
    "\n",
    "Now, we can calculate the IR and Raman spectra for these optimized geometries."
   ]
  },
  {
   "cell_type": "markdown",
   "id": "5106fb02-3ec5-48d5-a401-171cbe81878c",
   "metadata": {},
   "source": [
    "```python\n",
    "# Settings for Hessian calculation\n",
    "hessian_settings = {'do_raman': 'yes', 'print_depolarization_ratio':'no'}\n",
    "```"
   ]
  },
  {
   "cell_type": "markdown",
   "id": "856be5c6-d77b-4889-ab05-6cb025dd8b11",
   "metadata": {},
   "source": [
    "```python\n",
    "# Create Hessian driver and update settings\n",
    "ethene_hessian_drv = ...\n",
    "...\n",
    "\n",
    "fluoroethene_hessian_drv = ...\n",
    "...\n",
    "\n",
    "chloroethene_hessian_drv = ...\n",
    "...\n",
    "```"
   ]
  },
  {
   "cell_type": "markdown",
   "id": "1e5f4736-3022-46ce-900c-7088911c15db",
   "metadata": {},
   "source": [
    "```python\n",
    "# Compute the Hessians:\n",
    "...\n",
    "...\n",
    "...\n",
    "```"
   ]
  },
  {
   "cell_type": "markdown",
   "id": "796569c7-f4a7-4311-8995-935acf64f043",
   "metadata": {},
   "source": [
    "```python\n",
    "# Broadening function\n",
    "def add_broadening(list_ex_energy, list_osci_strength, line_profile='Lorentzian', line_param=10, step=10):\n",
    "\n",
    "    ...\n",
    "    \n",
    "    return x, y\n",
    "\n",
    "        \n",
    "# To animate the normal mode we will need both the geometry and the displacements \n",
    "def get_normal_mode(molecule, normal_mode):\n",
    "\n",
    "    ...\n",
    "    \n",
    "    return vib_xyz\n",
    "```"
   ]
  },
  {
   "cell_type": "markdown",
   "id": "cc78ddde-10b9-408e-beca-967a7df5eae9",
   "metadata": {},
   "source": [
    "## Vibrational analysis\n",
    "\n",
    "To get a summary of the vibrational analysis, one simply needs to run the following command:"
   ]
  },
  {
   "cell_type": "markdown",
   "id": "6788262e-3ed1-430a-ae82-6dd1aec4ea38",
   "metadata": {},
   "source": [
    "```python\n",
    "# Run for all molecules\n",
    "ethene_hessian_drv.vibrational_analysis(opt_ethene)\n",
    "...\n",
    "...\n",
    "```"
   ]
  },
  {
   "cell_type": "markdown",
   "id": "c22e9026-7695-49ff-9135-75350dc8bdc8",
   "metadata": {},
   "source": [
    "Think about the dipole moment of these molecules and consider the Hydrogen stretching modes. How do you expect the IR spectra to look like? Which molecule do you expect will have more intense IR-peaks?"
   ]
  },
  {
   "cell_type": "markdown",
   "id": "0693da26-492e-420b-b4f3-2b5fa2eb989d",
   "metadata": {},
   "source": [
    "```python\n",
    "# Plot the IR spectra\n",
    "plt.figure(figsize=(7,4))\n",
    "\n",
    "eth_x, eth_ir = ethene_hessian_drv.frequencies, ethene_hessian_drv.ir_intensities\n",
    "flo_x, flo_ir = fluoroethene_hessian_drv.frequencies, fluoroethene_hessian_drv.ir_intensities\n",
    "chl_x, chl_ir = chloroethene_hessian_drv.frequencies, chloroethene_hessian_drv.ir_intensities\n",
    "\n",
    "eth_xl, eth_irl = add_broadening(eth_x, eth_ir, line_profile='Lorentzian', line_param=20, step=2)\n",
    "flo_xl, flo_irl = add_broadening(flo_x, flo_ir, line_profile='Lorentzian', line_param=20, step=2)\n",
    "chl_xl, chl_irl = add_broadening(chl_x, chl_ir, line_profile='Lorentzian', line_param=20, step=2)\n",
    "\n",
    "plt.plot(eth_xl, eth_irl, label='Ethene')\n",
    "plt.plot(flo_xl, flo_irl, label='Fluoroethene')\n",
    "plt.plot(chl_xl, chl_irl, label='Chloroethene')\n",
    "\n",
    "plt.xlabel('Wavenumber (cm**-1)')\n",
    "plt.axis(xmin=3200, xmax=3500)\n",
    "plt.axis(ymin=-0.2, ymax=1.5)\n",
    "plt.ylabel('IR intensity (km/mol)')\n",
    "plt.title(\"Calculated IR sepctra of substituted ethenes\")\n",
    "plt.legend()\n",
    "plt.tight_layout(); plt.show()\n",
    "```"
   ]
  },
  {
   "cell_type": "markdown",
   "id": "3428b67d-c818-4ac2-bf10-a8a1bccc6352",
   "metadata": {},
   "source": [
    "```python\n",
    "# Get the displacements of the normal mode\n",
    "ethene_h1 = get_normal_mode(ethene, ethene_hessian_drv.normal_modes[-1])\n",
    "fluoroethene_h1 = get_normal_mode(fluoroethene, fluoroethene_hessian_drv.normal_modes[-1])\n",
    "chloroethene_h1 = get_normal_mode(chloroethene, chloroethene_hessian_drv.normal_modes[-1])\n",
    "```"
   ]
  },
  {
   "cell_type": "markdown",
   "id": "b5eb1c8d-ee92-4a2b-b762-7c0c63ce971a",
   "metadata": {},
   "source": [
    "```python\n",
    "# Animate the vibration\n",
    "view = p3d.view(viewergrid=(1,1), width=300, height=200, linked=True)\n",
    "view.addModel(ethene_h1, \"xyz\", {'vibrate': {'frames':10,'amplitude':0.75}}, viewer=(0,0))\n",
    "view.setStyle({'stick':{}})\n",
    "view.animate({'loop': 'backAndForth'})\n",
    "view.zoomTo()\n",
    "view.show()\n",
    "```"
   ]
  },
  {
   "cell_type": "markdown",
   "id": "4330b398-12d7-4686-b3f0-c8556a3a28a8",
   "metadata": {},
   "source": [
    "## IR intensities and Raman activities\n",
    "\n",
    "To rationalize why the IR and Raman spectra look as they do, calculate how the dipole moment and polarizability change during particular vibrational motions. Look at the Hydrogen stretching modes and select a mode which is IR-active in ethene, but is suppressed in fluoroethene or chloroethene. What is the dipole moment in the optimized molecule? How does the dipole moment change during the vibration? "
   ]
  },
  {
   "cell_type": "markdown",
   "id": "2e5505c8-e931-4e0c-86cc-b58895d0b2b5",
   "metadata": {},
   "source": [
    "```python\n",
    "# Calculate the dipole moment of the optimized molecules\n",
    "# For this we will use the FirstOrderProperties class from veloxchem\n",
    "ethene_prop = vlx.firstorderprop.FirstOrderProperties()\n",
    "ethene_prop.compute_scf_prop(opt_ethene, ethene_basis, ethene_scfdrv.scf_tensors)\n",
    "ethene_dipole_moment = ethene_prop.get_property('dipole moment')\n",
    "...\n",
    "\n",
    "# Select normal mode and get the array of atomic displacements\n",
    "...\n",
    "\n",
    "# Use the atomic displacement array to construct several new molecular configurations\n",
    "# along the vibrational mode, e.g. -0.75, -0.5, -0.25, 0.25, 0.5, 0.75 displacement \n",
    "...\n",
    "\n",
    "# Calculate the dipole moment for the new configurations\n",
    "...\n",
    "\n",
    "# Plot as a function of displacement\n",
    "...\n",
    "```"
   ]
  },
  {
   "cell_type": "markdown",
   "id": "d3d24781-13da-4ab2-a384-97c60f9a4ead",
   "metadata": {},
   "source": [
    "Now select a mode which is Raman-active in ethene, but is suppressed in fluoroethene or chloroethene. Calculate the polarizability of the optimized molecule. How does the polarizability change during the vibration? "
   ]
  },
  {
   "cell_type": "markdown",
   "id": "9713c000-4ec7-4f26-a7ed-5e1a4e9a2302",
   "metadata": {},
   "source": [
    "```python\n",
    "# Calculate the polarizability of the optimized molecules\n",
    "# For this, we need to run a linear response calculation\n",
    "ethene_lrdrv = vlx.lrsolver.LinearResponseSolver()\n",
    "ethene_pol_dict = ethene_lrdrv.compute(opt_ethene, ethene_basis, ethene_scfdrv.scf_tensors)\n",
    "ethene_polarizability = ethene_pol_dict['response_functions']\n",
    "...\n",
    "\n",
    "# Select normal mode and get the array of atomic displacements\n",
    "...\n",
    "\n",
    "# Use the atomic displacement array to construct several new molecular configurations\n",
    "# along the vibrational mode, e.g. -0.75, -0.5, -0.25, 0.25, 0.5, 0.75 displacement \n",
    "...\n",
    "\n",
    "# Calculate the polarizability for the new configurations\n",
    "...\n",
    "\n",
    "# Plot component or norm as a function of displacement\n",
    "...\n",
    "```"
   ]
  }
 ],
 "metadata": {
  "kernelspec": {
   "display_name": "Python 3",
   "language": "python",
   "name": "python3"
  },
  "language_info": {
   "codemirror_mode": {
    "name": "ipython",
    "version": 3
   },
   "file_extension": ".py",
   "mimetype": "text/x-python",
   "name": "python",
   "nbconvert_exporter": "python",
   "pygments_lexer": "ipython3",
   "version": "3.8.10"
  }
 },
 "nbformat": 4,
 "nbformat_minor": 5
}
