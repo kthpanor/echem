{
 "cells": [
  {
   "cell_type": "markdown",
   "id": "a2dcd883",
   "metadata": {},
   "source": [
    "# Exercises\n",
    "\n",
    "In this exercise we will look at how substitution affects the vibrational frequencies, IR, and Raman spectra."
   ]
  },
  {
   "cell_type": "code",
   "execution_count": 1,
   "id": "863ce03b",
   "metadata": {},
   "outputs": [],
   "source": [
    "import veloxchem as vlx\n",
    "import py3Dmol as p3d\n",
    "from veloxchem.veloxchemlib import bohr_in_angstroms\n",
    "from matplotlib import pyplot as plt\n",
    "import numpy as np\n",
    "\n",
    "basis_set_label = \"6-31G\""
   ]
  },
  {
   "cell_type": "code",
   "execution_count": 2,
   "id": "2570a30b",
   "metadata": {},
   "outputs": [],
   "source": [
    "ethene_xyz = \"\"\"6\n",
    " ethene\n",
    " C          0.000000    -0.663984   0.000000\n",
    " C          0.000000     0.663984   0.000000\n",
    " H          0.919796    -1.223061   0.000000\n",
    " H         -0.919796    -1.223061   0.000000\n",
    " H          0.919796     1.223061   0.000000\n",
    " H         -0.919796     1.223061   0.000000\n",
    "\"\"\"\n",
    "ethene = vlx.Molecule.from_xyz_string(ethene_xyz)\n",
    "ethene_basis = vlx.MolecularBasis.read(ethene, basis_set_label)"
   ]
  },
  {
   "cell_type": "code",
   "execution_count": 3,
   "id": "733ab0df",
   "metadata": {},
   "outputs": [],
   "source": [
    "fluoroethene_xyz = \"\"\"6\n",
    "fluoroethene\n",
    " C          0.000000    -0.663984   0.000000\n",
    " C          0.000000     0.663984   0.000000\n",
    " F         1.519796    -1.223061   0.000000\n",
    " H         -0.919796    -1.223061   0.000000\n",
    " H          0.919796     1.223061   0.000000\n",
    " H         -0.919796     1.223061   0.000000\n",
    " \"\"\"\n",
    "fluoroethene = vlx.Molecule.from_xyz_string(fluoroethene_xyz)\n",
    "fluoroethene_basis = vlx.MolecularBasis.read(fluoroethene, basis_set_label)"
   ]
  },
  {
   "cell_type": "code",
   "execution_count": 4,
   "id": "6de87a6f-7ec7-489a-807a-f748e162f278",
   "metadata": {},
   "outputs": [],
   "source": [
    "chloroethene_xyz = \"\"\"6\n",
    "chloroethene\n",
    " C          0.000000    -0.663984   0.000000\n",
    " C          0.000000     0.663984   0.000000\n",
    " Cl         1.519796    -1.223061   0.000000\n",
    " H         -0.919796    -1.223061   0.000000\n",
    " H          0.919796     1.223061   0.000000\n",
    " H         -0.919796     1.223061   0.000000\n",
    " \"\"\"\n",
    "chloroethene = vlx.Molecule.from_xyz_string(chloroethene_xyz)\n",
    "chloroethene_basis = vlx.MolecularBasis.read(chloroethene, basis_set_label)"
   ]
  },
  {
   "cell_type": "code",
   "execution_count": 5,
   "id": "d1014162",
   "metadata": {},
   "outputs": [
    {
     "data": {
      "application/3dmoljs_load.v0": "<div id=\"3dmolviewer_16506148262796607\"  style=\"position: relative; width: 500px; height: 300px\">\n        <p id=\"3dmolwarning_16506148262796607\" style=\"background-color:#ffcccc;color:black\">You appear to be running in JupyterLab (or JavaScript failed to load for some other reason).  You need to install the 3dmol extension: <br>\n        <tt>jupyter labextension install jupyterlab_3dmol</tt></p>\n        </div>\n<script>\n\nvar loadScriptAsync = function(uri){\n  return new Promise((resolve, reject) => {\n    var tag = document.createElement('script');\n    tag.src = uri;\n    tag.async = true;\n    tag.onload = () => {\n      resolve();\n    };\n  var firstScriptTag = document.getElementsByTagName('script')[0];\n  firstScriptTag.parentNode.insertBefore(tag, firstScriptTag);\n});\n};\n\nif(typeof $3Dmolpromise === 'undefined') {\n$3Dmolpromise = null;\n  $3Dmolpromise = loadScriptAsync('https://3dmol.org/build/3Dmol.js');\n}\n\nvar viewer_16506148262796607 = null;\nvar warn = document.getElementById(\"3dmolwarning_16506148262796607\");\nif(warn) {\n    warn.parentNode.removeChild(warn);\n}\n$3Dmolpromise.then(function() {\nvar viewergrid_16506148262796607 = null;\nviewergrid_16506148262796607 = $3Dmol.createViewerGrid($(\"#3dmolviewer_16506148262796607\"),{rows: 1, cols: 3, control_all: true},{backgroundColor:\"white\"});\nviewer_16506148262796607 = viewergrid_16506148262796607[0][0];\nviewergrid_16506148262796607[0][0].zoomTo();viewergrid_16506148262796607[0][1].zoomTo();viewergrid_16506148262796607[0][2].zoomTo();\tviewergrid_16506148262796607[0][0].addModel(\"6\\n ethene\\n C          0.000000    -0.663984   0.000000\\n C          0.000000     0.663984   0.000000\\n H          0.919796    -1.223061   0.000000\\n H         -0.919796    -1.223061   0.000000\\n H          0.919796     1.223061   0.000000\\n H         -0.919796     1.223061   0.000000\\n\",\"xyz\");\n\tviewergrid_16506148262796607[0][1].addModel(\"6\\nfluoroethene\\n C          0.000000    -0.663984   0.000000\\n C          0.000000     0.663984   0.000000\\n F         1.519796    -1.223061   0.000000\\n H         -0.919796    -1.223061   0.000000\\n H          0.919796     1.223061   0.000000\\n H         -0.919796     1.223061   0.000000\\n \",\"xyz\");\n\tviewergrid_16506148262796607[0][2].addModel(\"6\\nchloroethene\\n C          0.000000    -0.663984   0.000000\\n C          0.000000     0.663984   0.000000\\n Cl         1.519796    -1.223061   0.000000\\n H         -0.919796    -1.223061   0.000000\\n H          0.919796     1.223061   0.000000\\n H         -0.919796     1.223061   0.000000\\n \",\"xyz\");\n\tviewergrid_16506148262796607[0][0].setStyle({\"stick\": {}});\n\tviewergrid_16506148262796607[0][1].setStyle({\"stick\": {}});\n\tviewergrid_16506148262796607[0][2].setStyle({\"stick\": {}});\n\tviewergrid_16506148262796607[0][0].zoomTo();\n\tviewergrid_16506148262796607[0][1].zoomTo();\n\tviewergrid_16506148262796607[0][2].zoomTo();\nviewergrid_16506148262796607[0][2].render();\nviewergrid_16506148262796607[0][1].render();\nviewergrid_16506148262796607[0][0].render();\n});\n</script>",
      "text/html": [
       "<div id=\"3dmolviewer_16506148262796607\"  style=\"position: relative; width: 500px; height: 300px\">\n",
       "        <p id=\"3dmolwarning_16506148262796607\" style=\"background-color:#ffcccc;color:black\">You appear to be running in JupyterLab (or JavaScript failed to load for some other reason).  You need to install the 3dmol extension: <br>\n",
       "        <tt>jupyter labextension install jupyterlab_3dmol</tt></p>\n",
       "        </div>\n",
       "<script>\n",
       "\n",
       "var loadScriptAsync = function(uri){\n",
       "  return new Promise((resolve, reject) => {\n",
       "    var tag = document.createElement('script');\n",
       "    tag.src = uri;\n",
       "    tag.async = true;\n",
       "    tag.onload = () => {\n",
       "      resolve();\n",
       "    };\n",
       "  var firstScriptTag = document.getElementsByTagName('script')[0];\n",
       "  firstScriptTag.parentNode.insertBefore(tag, firstScriptTag);\n",
       "});\n",
       "};\n",
       "\n",
       "if(typeof $3Dmolpromise === 'undefined') {\n",
       "$3Dmolpromise = null;\n",
       "  $3Dmolpromise = loadScriptAsync('https://3dmol.org/build/3Dmol.js');\n",
       "}\n",
       "\n",
       "var viewer_16506148262796607 = null;\n",
       "var warn = document.getElementById(\"3dmolwarning_16506148262796607\");\n",
       "if(warn) {\n",
       "    warn.parentNode.removeChild(warn);\n",
       "}\n",
       "$3Dmolpromise.then(function() {\n",
       "var viewergrid_16506148262796607 = null;\n",
       "viewergrid_16506148262796607 = $3Dmol.createViewerGrid($(\"#3dmolviewer_16506148262796607\"),{rows: 1, cols: 3, control_all: true},{backgroundColor:\"white\"});\n",
       "viewer_16506148262796607 = viewergrid_16506148262796607[0][0];\n",
       "viewergrid_16506148262796607[0][0].zoomTo();viewergrid_16506148262796607[0][1].zoomTo();viewergrid_16506148262796607[0][2].zoomTo();\tviewergrid_16506148262796607[0][0].addModel(\"6\\n ethene\\n C          0.000000    -0.663984   0.000000\\n C          0.000000     0.663984   0.000000\\n H          0.919796    -1.223061   0.000000\\n H         -0.919796    -1.223061   0.000000\\n H          0.919796     1.223061   0.000000\\n H         -0.919796     1.223061   0.000000\\n\",\"xyz\");\n",
       "\tviewergrid_16506148262796607[0][1].addModel(\"6\\nfluoroethene\\n C          0.000000    -0.663984   0.000000\\n C          0.000000     0.663984   0.000000\\n F         1.519796    -1.223061   0.000000\\n H         -0.919796    -1.223061   0.000000\\n H          0.919796     1.223061   0.000000\\n H         -0.919796     1.223061   0.000000\\n \",\"xyz\");\n",
       "\tviewergrid_16506148262796607[0][2].addModel(\"6\\nchloroethene\\n C          0.000000    -0.663984   0.000000\\n C          0.000000     0.663984   0.000000\\n Cl         1.519796    -1.223061   0.000000\\n H         -0.919796    -1.223061   0.000000\\n H          0.919796     1.223061   0.000000\\n H         -0.919796     1.223061   0.000000\\n \",\"xyz\");\n",
       "\tviewergrid_16506148262796607[0][0].setStyle({\"stick\": {}});\n",
       "\tviewergrid_16506148262796607[0][1].setStyle({\"stick\": {}});\n",
       "\tviewergrid_16506148262796607[0][2].setStyle({\"stick\": {}});\n",
       "\tviewergrid_16506148262796607[0][0].zoomTo();\n",
       "\tviewergrid_16506148262796607[0][1].zoomTo();\n",
       "\tviewergrid_16506148262796607[0][2].zoomTo();\n",
       "viewergrid_16506148262796607[0][2].render();\n",
       "viewergrid_16506148262796607[0][1].render();\n",
       "viewergrid_16506148262796607[0][0].render();\n",
       "});\n",
       "</script>"
      ]
     },
     "metadata": {},
     "output_type": "display_data"
    }
   ],
   "source": [
    "view = p3d.view(linked=True, viewergrid=(1,3),width=500,height=300)\n",
    "view.addModel(ethene_xyz, 'xyz', viewer=(0,0))\n",
    "view.addModel(fluoroethene_xyz, 'xyz', viewer=(0,1))\n",
    "view.addModel(chloroethene_xyz, 'xyz', viewer=(0,2))\n",
    "view.setStyle({'stick': {}})\n",
    "view.zoomTo()\n",
    "view.show()"
   ]
  },
  {
   "cell_type": "markdown",
   "id": "6b62bf80",
   "metadata": {},
   "source": [
    "## SCF geometry optimization\n",
    "Before we can calculate the vibrational spectra, we first must optimize the geometries."
   ]
  },
  {
   "cell_type": "code",
   "execution_count": 6,
   "id": "393bc9ae",
   "metadata": {},
   "outputs": [],
   "source": [
    "# Settings for SCF and gradient drivers\n",
    "scf_settings = {'conv_thresh':1e-6}\n",
    "method_settings = {}\n",
    "grad_settings = {'numerical': 'no'}"
   ]
  },
  {
   "cell_type": "code",
   "execution_count": 7,
   "id": "15856a9d",
   "metadata": {
    "scrolled": true
   },
   "outputs": [],
   "source": [
    "ethene_scfdrv = vlx.ScfRestrictedDriver()\n",
    "ethene_scfdrv.update_settings(scf_settings, method_settings)\n",
    "ethene_scfdrv.ostream.state = False \n",
    "ethene_scfdrv.compute(ethene, ethene_basis)\n",
    "\n",
    "fluoroethene_scfdrv = vlx.ScfRestrictedDriver()\n",
    "fluoroethene_scfdrv.update_settings(scf_settings, method_settings)\n",
    "fluoroethene_scfdrv.ostream.state = False\n",
    "fluoroethene_scfdrv.compute(fluoroethene, fluoroethene_basis)\n",
    "\n",
    "chloroethene_scfdrv = vlx.ScfRestrictedDriver()\n",
    "chloroethene_scfdrv.update_settings(scf_settings, method_settings)\n",
    "chloroethene_scfdrv.ostream.state = False\n",
    "chloroethene_scfdrv.compute(chloroethene, chloroethene_basis)"
   ]
  },
  {
   "cell_type": "markdown",
   "id": "8edf5055-053c-4d2e-b78d-b545da16e96b",
   "metadata": {},
   "source": [
    "```python\n",
    "# Set up the gradient and optimization dirvers:\n",
    "ethene_grad_drv = vlx.ScfGradientDriver(ethene_scfdrv)\n",
    "ethene_grad_drv.update_settings(grad_settings, method_settings)\n",
    "ethene_opt_drv = vlx.OptimizationDriver(ethene_grad_drv)\n",
    "\n",
    "fluoroethene_grad_drv = vlx.ScfGradientDriver(fluoroethene_scfdrv)\n",
    "fluoroethene_grad_drv.update_settings(grad_settings, method_settings)\n",
    "fluoroethene_opt_drv = vlx.OptimizationDriver(fluoroethene_grad_drv)\n",
    "\n",
    "chloroethene_grad_drv = vlx.ScfGradientDriver(chloroethene_scfdrv)\n",
    "chloroethene_grad_drv.update_settings(grad_settings, method_settings)\n",
    "chloroethene_opt_drv = vlx.OptimizationDriver(chloroethene_grad_drv)\n",
    "```"
   ]
  },
  {
   "cell_type": "markdown",
   "id": "6db489c4-cc79-4b16-ab9d-29c9ba042380",
   "metadata": {
    "tags": []
   },
   "source": [
    "```python\n",
    "# Optimize the geometries\n",
    "opt_ethene = ethene_opt_drv.compute(ethene, ethene_basis)\n",
    "opt_fluoroethene = fluoroethene_opt_drv.compute(fluoroethene, fluoroethene_basis)\n",
    "opt_chloroethene = chloroethene_opt_drv.compute(chloroethene, chloroethene_basis)\n",
    "```"
   ]
  },
  {
   "cell_type": "code",
   "execution_count": 8,
   "id": "d5c44014",
   "metadata": {},
   "outputs": [],
   "source": [
    "def get_xyz(molecule):\n",
    "    natm = molecule.number_of_atoms()\n",
    "    elements = molecule.get_labels()\n",
    "    coords = molecule.get_coordinates() * bohr_in_angstroms()\n",
    "    txt = \"%d\\n\\n\" % natm\n",
    "    for i in range(natm):\n",
    "        txt += elements[i] + \" %15.7f %15.7f %15.7f\\n\" % (coords[i,0], coords[i,1], coords[i,2])\n",
    "    return txt"
   ]
  },
  {
   "cell_type": "code",
   "execution_count": 9,
   "id": "71812751-8a66-4cb6-a91b-5e2c8bbd9e02",
   "metadata": {},
   "outputs": [],
   "source": [
    "# Or read optimized geometries from file:\n",
    "opt_ethene_xyz = open(\"../xyz/ir_raman/opt_ethene.xyz\", \"r\").read() # read optimized geometry from file\n",
    "opt_fluoroethene_xyz = open(\"../xyz/ir_raman/opt_fluoroethene.xyz\", \"r\").read() # read optimized geometry from file\n",
    "opt_chloroethene_xyz = open(\"../xyz/ir_raman/opt_chloroethene.xyz\", \"r\").read() # read optimized geometry from file\n",
    "\n",
    "opt_ethene = vlx.Molecule.from_xyz_string(opt_ethene_xyz)\n",
    "ethene_basis = vlx.MolecularBasis.read(opt_ethene, basis_set_label)\n",
    "\n",
    "opt_fluoroethene = vlx.Molecule.from_xyz_string(opt_fluoroethene_xyz)\n",
    "fluoroethene_basis = vlx.MolecularBasis.read(opt_fluoroethene, basis_set_label)\n",
    "\n",
    "opt_chloroethene = vlx.Molecule.from_xyz_string(opt_chloroethene_xyz)\n",
    "chloroethene_basis = vlx.MolecularBasis.read(opt_chloroethene, basis_set_label)"
   ]
  },
  {
   "cell_type": "code",
   "execution_count": 10,
   "id": "32e70156-57c4-4b05-a19f-12a5114b930a",
   "metadata": {},
   "outputs": [
    {
     "data": {
      "application/3dmoljs_load.v0": "<div id=\"3dmolviewer_16506148442642694\"  style=\"position: relative; width: 500px; height: 300px\">\n        <p id=\"3dmolwarning_16506148442642694\" style=\"background-color:#ffcccc;color:black\">You appear to be running in JupyterLab (or JavaScript failed to load for some other reason).  You need to install the 3dmol extension: <br>\n        <tt>jupyter labextension install jupyterlab_3dmol</tt></p>\n        </div>\n<script>\n\nvar loadScriptAsync = function(uri){\n  return new Promise((resolve, reject) => {\n    var tag = document.createElement('script');\n    tag.src = uri;\n    tag.async = true;\n    tag.onload = () => {\n      resolve();\n    };\n  var firstScriptTag = document.getElementsByTagName('script')[0];\n  firstScriptTag.parentNode.insertBefore(tag, firstScriptTag);\n});\n};\n\nif(typeof $3Dmolpromise === 'undefined') {\n$3Dmolpromise = null;\n  $3Dmolpromise = loadScriptAsync('https://3dmol.org/build/3Dmol.js');\n}\n\nvar viewer_16506148442642694 = null;\nvar warn = document.getElementById(\"3dmolwarning_16506148442642694\");\nif(warn) {\n    warn.parentNode.removeChild(warn);\n}\n$3Dmolpromise.then(function() {\nvar viewergrid_16506148442642694 = null;\nviewergrid_16506148442642694 = $3Dmol.createViewerGrid($(\"#3dmolviewer_16506148442642694\"),{rows: 1, cols: 3, control_all: true},{backgroundColor:\"white\"});\nviewer_16506148442642694 = viewergrid_16506148442642694[0][0];\nviewergrid_16506148442642694[0][0].zoomTo();viewergrid_16506148442642694[0][1].zoomTo();viewergrid_16506148442642694[0][2].zoomTo();\tviewergrid_16506148442642694[0][0].addModel(\"6\\nHF/6-31G\\nC       0.0000322      -0.6609979       0.0000000\\nC       0.0000322       0.6609979      -0.0000000\\nH       0.9114505      -1.2291288       0.0000000\\nH      -0.9114827      -1.2289599       0.0000000\\nH       0.9114505       1.2291288      -0.0000000\\nH      -0.9114827       1.2289599      -0.0000000\\n\",\"xyz\");\n\tviewergrid_16506148442642694[0][1].addModel(\"6\\nHF/6-31G\\nC       0.1736978      -0.6127788       0.0000000\\nC       0.0618925       0.6926436       0.0000000\\nF       1.4083027      -1.2238970      -0.0000000\\nH      -0.6157236      -1.3309144      -0.0000000\\nH       0.9236831       1.3283044       0.0000000\\nH      -0.9058792       1.1499859       0.0000000\\n\",\"xyz\");\n\tviewergrid_16506148442642694[0][2].addModel(\"6\\nHF/6-31G\\nC       0.0115838      -0.5775809      -0.0000000\\nC      -0.0268417       0.7337206       0.0000000\\nCl       1.5639656      -1.5025726      -0.0000000\\nH      -0.8329473      -1.2296185       0.0000000\\nH       0.8578986       1.3377048      -0.0000000\\nH      -0.9736590       1.2383465       0.0000000\\n\",\"xyz\");\n\tviewergrid_16506148442642694[0][0].setStyle({\"stick\": {}});\n\tviewergrid_16506148442642694[0][1].setStyle({\"stick\": {}});\n\tviewergrid_16506148442642694[0][2].setStyle({\"stick\": {}});\n\tviewergrid_16506148442642694[0][0].zoomTo();\n\tviewergrid_16506148442642694[0][1].zoomTo();\n\tviewergrid_16506148442642694[0][2].zoomTo();\nviewergrid_16506148442642694[0][2].render();\nviewergrid_16506148442642694[0][1].render();\nviewergrid_16506148442642694[0][0].render();\n});\n</script>",
      "text/html": [
       "<div id=\"3dmolviewer_16506148442642694\"  style=\"position: relative; width: 500px; height: 300px\">\n",
       "        <p id=\"3dmolwarning_16506148442642694\" style=\"background-color:#ffcccc;color:black\">You appear to be running in JupyterLab (or JavaScript failed to load for some other reason).  You need to install the 3dmol extension: <br>\n",
       "        <tt>jupyter labextension install jupyterlab_3dmol</tt></p>\n",
       "        </div>\n",
       "<script>\n",
       "\n",
       "var loadScriptAsync = function(uri){\n",
       "  return new Promise((resolve, reject) => {\n",
       "    var tag = document.createElement('script');\n",
       "    tag.src = uri;\n",
       "    tag.async = true;\n",
       "    tag.onload = () => {\n",
       "      resolve();\n",
       "    };\n",
       "  var firstScriptTag = document.getElementsByTagName('script')[0];\n",
       "  firstScriptTag.parentNode.insertBefore(tag, firstScriptTag);\n",
       "});\n",
       "};\n",
       "\n",
       "if(typeof $3Dmolpromise === 'undefined') {\n",
       "$3Dmolpromise = null;\n",
       "  $3Dmolpromise = loadScriptAsync('https://3dmol.org/build/3Dmol.js');\n",
       "}\n",
       "\n",
       "var viewer_16506148442642694 = null;\n",
       "var warn = document.getElementById(\"3dmolwarning_16506148442642694\");\n",
       "if(warn) {\n",
       "    warn.parentNode.removeChild(warn);\n",
       "}\n",
       "$3Dmolpromise.then(function() {\n",
       "var viewergrid_16506148442642694 = null;\n",
       "viewergrid_16506148442642694 = $3Dmol.createViewerGrid($(\"#3dmolviewer_16506148442642694\"),{rows: 1, cols: 3, control_all: true},{backgroundColor:\"white\"});\n",
       "viewer_16506148442642694 = viewergrid_16506148442642694[0][0];\n",
       "viewergrid_16506148442642694[0][0].zoomTo();viewergrid_16506148442642694[0][1].zoomTo();viewergrid_16506148442642694[0][2].zoomTo();\tviewergrid_16506148442642694[0][0].addModel(\"6\\nHF/6-31G\\nC       0.0000322      -0.6609979       0.0000000\\nC       0.0000322       0.6609979      -0.0000000\\nH       0.9114505      -1.2291288       0.0000000\\nH      -0.9114827      -1.2289599       0.0000000\\nH       0.9114505       1.2291288      -0.0000000\\nH      -0.9114827       1.2289599      -0.0000000\\n\",\"xyz\");\n",
       "\tviewergrid_16506148442642694[0][1].addModel(\"6\\nHF/6-31G\\nC       0.1736978      -0.6127788       0.0000000\\nC       0.0618925       0.6926436       0.0000000\\nF       1.4083027      -1.2238970      -0.0000000\\nH      -0.6157236      -1.3309144      -0.0000000\\nH       0.9236831       1.3283044       0.0000000\\nH      -0.9058792       1.1499859       0.0000000\\n\",\"xyz\");\n",
       "\tviewergrid_16506148442642694[0][2].addModel(\"6\\nHF/6-31G\\nC       0.0115838      -0.5775809      -0.0000000\\nC      -0.0268417       0.7337206       0.0000000\\nCl       1.5639656      -1.5025726      -0.0000000\\nH      -0.8329473      -1.2296185       0.0000000\\nH       0.8578986       1.3377048      -0.0000000\\nH      -0.9736590       1.2383465       0.0000000\\n\",\"xyz\");\n",
       "\tviewergrid_16506148442642694[0][0].setStyle({\"stick\": {}});\n",
       "\tviewergrid_16506148442642694[0][1].setStyle({\"stick\": {}});\n",
       "\tviewergrid_16506148442642694[0][2].setStyle({\"stick\": {}});\n",
       "\tviewergrid_16506148442642694[0][0].zoomTo();\n",
       "\tviewergrid_16506148442642694[0][1].zoomTo();\n",
       "\tviewergrid_16506148442642694[0][2].zoomTo();\n",
       "viewergrid_16506148442642694[0][2].render();\n",
       "viewergrid_16506148442642694[0][1].render();\n",
       "viewergrid_16506148442642694[0][0].render();\n",
       "});\n",
       "</script>"
      ]
     },
     "metadata": {},
     "output_type": "display_data"
    }
   ],
   "source": [
    "view = p3d.view(linked=True, viewergrid=(1,3),width=500,height=300)\n",
    "view.addModel(opt_ethene_xyz, 'xyz', viewer=(0,0))\n",
    "view.addModel(opt_fluoroethene_xyz, 'xyz', viewer=(0,1))\n",
    "view.addModel(opt_chloroethene_xyz, 'xyz', viewer=(0,2))\n",
    "view.setStyle({'stick': {}})\n",
    "view.zoomTo()\n",
    "view.show()"
   ]
  },
  {
   "cell_type": "code",
   "execution_count": 11,
   "id": "577e83e8-6c63-4fdd-80fe-052d772e426e",
   "metadata": {},
   "outputs": [],
   "source": [
    "ethene_scfdrv.compute(opt_ethene, ethene_basis)\n",
    "fluoroethene_scfdrv.compute(opt_fluoroethene, fluoroethene_basis)\n",
    "chloroethene_scfdrv.compute(opt_chloroethene, chloroethene_basis)"
   ]
  },
  {
   "cell_type": "markdown",
   "id": "faf15a93-fb2a-4b55-a82c-04b4f22d22b9",
   "metadata": {},
   "source": [
    "## Hessians"
   ]
  },
  {
   "cell_type": "code",
   "execution_count": 12,
   "id": "05aefbc7-d5a5-4ba1-90f7-c42e675bf68b",
   "metadata": {},
   "outputs": [],
   "source": [
    "# Now let's calculate the IR and Raman spectra for these optimized geometries\n",
    "hessian_settings = {'numerical': 'yes', 'do_raman': 'yes', 'print_depolarization_ratio':'no',\n",
    "                    'numerical_grad': 'no', 'do_print_hessian': 'no', 'do_four_point': 'no'}"
   ]
  },
  {
   "cell_type": "code",
   "execution_count": 13,
   "id": "6a8dde42-3751-4b97-b56e-3b7abf66413d",
   "metadata": {},
   "outputs": [],
   "source": [
    "ethene_hessian_drv = vlx.scfhessiandriver.ScfHessianDriver(ethene_scfdrv)\n",
    "ethene_hessian_drv.update_settings(method_settings, hessian_settings)\n",
    "\n",
    "fluoroethene_hessian_drv = vlx.scfhessiandriver.ScfHessianDriver(fluoroethene_scfdrv)\n",
    "fluoroethene_hessian_drv.update_settings(method_settings, hessian_settings)\n",
    "\n",
    "chloroethene_hessian_drv = vlx.scfhessiandriver.ScfHessianDriver(chloroethene_scfdrv)\n",
    "chloroethene_hessian_drv.update_settings(method_settings, hessian_settings)"
   ]
  },
  {
   "cell_type": "markdown",
   "id": "1e5f4736-3022-46ce-900c-7088911c15db",
   "metadata": {},
   "source": [
    "```python\n",
    "# Compute the Hessians:\n",
    "ethene_hessian_drv.compute(ethene, ethene_basis)\n",
    "fluoroethene_hessian_drv.compute(fluoroethene, fluoroethene_basis)\n",
    "chloroethene_hessian_drv.compute(chloroethene, chloroethene_basis)\n",
    "```"
   ]
  },
  {
   "cell_type": "code",
   "execution_count": 14,
   "id": "32eca9c1-dd77-415e-a5e2-d757d27afe88",
   "metadata": {},
   "outputs": [],
   "source": [
    "# Or read them from file:\n",
    "import h5py\n",
    "\n",
    "fname = '../h5files/ir_raman/ethenes.h5'\n",
    "hf = h5py.File(fname, \"r\")\n",
    "\n",
    "labels = ['ethene', 'fluoroethene', 'chloroethene']\n",
    "\n",
    "i = 0   \n",
    "for driver in [ethene_hessian_drv, fluoroethene_hessian_drv, chloroethene_hessian_drv]:\n",
    "    label = labels[i]\n",
    "    \n",
    "    driver.hessian = np.array(hf.get(label+'_hessian')) \n",
    "    driver.polarizability_gradient = np.array(hf.get(label+'_polgrad')) \n",
    "    driver.dipole_gradient = np.array( hf.get(label+'_dipolegrad'))\n",
    "    \n",
    "    i += 1\n",
    "\n",
    "hf.close()"
   ]
  },
  {
   "cell_type": "code",
   "execution_count": 15,
   "id": "6dff3c43-648d-4cb9-ab7e-d863916d3516",
   "metadata": {},
   "outputs": [],
   "source": [
    "def add_broadening(list_ex_energy, list_osci_strength, line_profile='Lorentzian', line_param=10, step=10):\n",
    "        x_min = np.amin(list_ex_energy) - 50\n",
    "        x_max = np.amax(list_ex_energy) + 50\n",
    "        x = np.arange(x_min, x_max, step)\n",
    "        y = np.zeros((len(x)))\n",
    "        #print(x)\n",
    "        #print(y)\n",
    "\n",
    "        # go through the frames and calculate the spectrum for each frame\n",
    "        for xp in range(len(x)):\n",
    "            for e, f in zip(list_ex_energy, list_osci_strength):\n",
    "                if line_profile == 'Gaussian':\n",
    "                    y[xp] += f * np.exp(-(\n",
    "                        (e - x[xp]) / line_param)**2)\n",
    "                elif line_profile == 'Lorentzian':\n",
    "                    y[xp] += 0.5 * line_param * f / (np.pi * (\n",
    "                        (x[xp] - e)**2 + 0.25 * line_param**2))\n",
    "        return x, y\n",
    "\n",
    "        \n",
    "# To animate the normal mode we will need both the geometry and the displacements \n",
    "def get_normal_mode(molecule, normal_mode):\n",
    "    elements = molecule.get_labels()\n",
    "    coords = molecule.get_coordinates() * bohr_in_angstroms() # To transform from au to A\n",
    "    natm = molecule.number_of_atoms()\n",
    "    vib_xyz = \"%d\\n\\n\" % natm\n",
    "    nm = normal_mode.reshape(natm, 3)\n",
    "    for i in range(natm):\n",
    "        # add coordinates:\n",
    "        vib_xyz += elements[i] + \" %15.7f %15.7f %15.7f \" % (coords[i,0], coords[i,1], coords[i,2])\n",
    "        # add displacements:\n",
    "        vib_xyz += \"%15.7f %15.7f %15.7f\\n\" % (nm[i,0], nm[i,1], nm[i,2])\n",
    "    return vib_xyz"
   ]
  },
  {
   "cell_type": "markdown",
   "id": "cc78ddde-10b9-408e-beca-967a7df5eae9",
   "metadata": {},
   "source": [
    "## Vibrational analysis"
   ]
  },
  {
   "cell_type": "code",
   "execution_count": 16,
   "id": "754608bd-b6aa-4514-a1fd-995dbd74fc26",
   "metadata": {},
   "outputs": [
    {
     "name": "stdout",
     "output_type": "stream",
     "text": [
      "                                                   Vibrational Analysis                                                   \n",
      "                                                  ======================                                                  \n",
      "                                                                                                                          \n",
      "                 Harmonic frequencies (in cm**-1), force constants (in mdyne/A), reduced masses (in amu),                 \n",
      "                          IR intensities (in km/mol), Raman scattering activities (in A**4/amu),                          \n",
      "                                         and Cartesian normal mode displacements.                                         \n",
      "                                                                                                                          \n",
      "                                                                                                                          \n",
      "  Index:                        1                              2                              3               \n",
      "  Frequency:                 927.99                         1120.06                        1154.27            \n",
      "  Force constant:            0.5295                         0.8580                         1.1923             \n",
      "  Reduced mass:              1.0436                         1.1608                         1.5189             \n",
      "  IR intensity:              1.1151                        140.0933                        0.0000             \n",
      "  Raman activ.:              0.0000                         0.0000                         5.6668             \n",
      "  Normal mode:       X         Y         Z     |    X         Y         Z     |    X         Y         Z     |\n",
      "  1 C              0.0402    0.0000   -0.0000  | -0.0000   -0.0000    0.0834  | -0.0000   -0.0000    0.1523  |\n",
      "  2 C              0.0403    0.0000    0.0000  | -0.0000    0.0000    0.0833  |  0.0000    0.0000   -0.1524  |\n",
      "  3 H             -0.2399   -0.4379    0.0000  |  0.0000    0.0000   -0.4966  | -0.0000   -0.0000   -0.4917  |\n",
      "  4 H             -0.2397    0.4376    0.0000  |  0.0000   -0.0000   -0.4967  |  0.0000   -0.0001   -0.4844  |\n",
      "  5 H             -0.2398    0.4378   -0.0001  |  0.0000   -0.0000   -0.4965  | -0.0001    0.0001    0.4921  |\n",
      "  6 H             -0.2398   -0.4380   -0.0001  |  0.0000    0.0000   -0.4963  | -0.0000   -0.0001    0.4848  |\n",
      "                                                                                                                          \n",
      "  Index:                        4                              5                              6               \n",
      "  Frequency:                 1157.41                        1378.67                        1512.65            \n",
      "  Force constant:            0.7956                         1.7072                         1.7012             \n",
      "  Reduced mass:              1.0080                         1.5245                         1.2620             \n",
      "  IR intensity:              0.0000                         0.0000                         0.0000             \n",
      "  Raman activ.:              0.0002                         1.2237                         50.5216            \n",
      "  Normal mode:       X         Y         Z     |    X         Y         Z     |    X         Y         Z     |\n",
      "  1 C              0.0000    0.0000   -0.0007  |  0.1532    0.0000    0.0000  |  0.0001    0.1075    0.0000  |\n",
      "  2 C             -0.0000    0.0000    0.0007  | -0.1532    0.0001   -0.0000  | -0.0001   -0.1073   -0.0000  |\n",
      "  3 H             -0.0000   -0.0001   -0.4977  | -0.1458   -0.4667   -0.0000  |  0.1890    0.4556   -0.0000  |\n",
      "  4 H             -0.0000    0.0000    0.5023  | -0.1449    0.4654   -0.0001  | -0.1891    0.4562   -0.0001  |\n",
      "  5 H              0.0000   -0.0000    0.4975  |  0.1454   -0.4660    0.0000  |  0.1898   -0.4572    0.0000  |\n",
      "  6 H             -0.0000   -0.0000   -0.5024  |  0.1451    0.4659    0.0001  | -0.1897   -0.4568    0.0000  |\n",
      "                                                                                                                          \n",
      "  Index:                        7                              8                              9               \n",
      "  Frequency:                 1631.17                        1845.95                        3313.00            \n",
      "  Force constant:            1.7422                         5.7462                         6.7806             \n",
      "  Reduced mass:              1.1113                         2.8622                         1.0485             \n",
      "  IR intensity:              8.4018                         0.0000                         20.9758            \n",
      "  Raman activ.:              0.0001                         16.3821                        0.0001             \n",
      "  Normal mode:       X         Y         Z     |    X         Y         Z     |    X         Y         Z     |\n",
      "  1 C              0.0001   -0.0684    0.0000  |  0.0000   -0.2903    0.0000  |  0.0000   -0.0429    0.0000  |\n",
      "  2 C             -0.0001   -0.0686   -0.0000  | -0.0000    0.2903   -0.0000  | -0.0000   -0.0430   -0.0000  |\n",
      "  3 H              0.2846    0.4084   -0.0000  |  0.3822    0.2483   -0.0000  | -0.4286    0.2557    0.0000  |\n",
      "  4 H             -0.2848    0.4093    0.0000  | -0.3822    0.2485   -0.0000  |  0.4283    0.2554   -0.0000  |\n",
      "  5 H             -0.2843    0.4076    0.0001  |  0.3825   -0.2484    0.0000  |  0.4290    0.2561   -0.0000  |\n",
      "  6 H              0.2842    0.4080   -0.0000  | -0.3824   -0.2484   -0.0000  | -0.4285    0.2556    0.0000  |\n",
      "                                                                                                                          \n",
      "  Index:                       10                             11                             12               \n",
      "  Frequency:                 3337.48                        3389.60                        3419.11            \n",
      "  Force constant:            7.0901                         7.5394                         7.6927             \n",
      "  Reduced mass:              1.0804                         1.1138                         1.1169             \n",
      "  IR intensity:              0.0000                         0.0000                         43.0916            \n",
      "  Raman activ.:             188.7181                       129.4464                        0.0000             \n",
      "  Normal mode:       X         Y         Z     |    X         Y         Z     |    X         Y         Z     |\n",
      "  1 C             -0.0000   -0.0574   -0.0000  |  0.0694   -0.0000    0.0000  | -0.0703    0.0000    0.0000  |\n",
      "  2 C              0.0000    0.0573    0.0000  | -0.0693    0.0000   -0.0000  | -0.0704   -0.0000   -0.0000  |\n",
      "  3 H             -0.4266    0.2575   -0.0000  | -0.4201    0.2669   -0.0000  |  0.4190   -0.2681   -0.0000  |\n",
      "  4 H              0.4271    0.2577    0.0000  | -0.4202   -0.2669    0.0000  |  0.4189    0.2679    0.0000  |\n",
      "  5 H             -0.4267   -0.2575   -0.0000  |  0.4193    0.2665    0.0000  |  0.4192    0.2681    0.0000  |\n",
      "  6 H              0.4263   -0.2572   -0.0000  |  0.4204   -0.2670    0.0000  |  0.4194   -0.2682    0.0000  |\n",
      "                                                                                                                          \n",
      "                                                                                                                          \n"
     ]
    }
   ],
   "source": [
    "ethene_hessian_drv.vibrational_analysis(opt_ethene)"
   ]
  },
  {
   "cell_type": "code",
   "execution_count": 17,
   "id": "3ee47d77-6e68-4d0f-b373-d318926fe1f7",
   "metadata": {},
   "outputs": [
    {
     "name": "stdout",
     "output_type": "stream",
     "text": [
      "                                                   Vibrational Analysis                                                   \n",
      "                                                  ======================                                                  \n",
      "                                                                                                                          \n",
      "                 Harmonic frequencies (in cm**-1), force constants (in mdyne/A), reduced masses (in amu),                 \n",
      "                          IR intensities (in km/mol), Raman scattering activities (in A**4/amu),                          \n",
      "                                         and Cartesian normal mode displacements.                                         \n",
      "                                                                                                                          \n",
      "                                                                                                                          \n",
      "  Index:                        1                              2                              3               \n",
      "  Frequency:                 512.97                         784.04                         1005.42            \n",
      "  Force constant:            0.4032                         0.5229                         1.5365             \n",
      "  Reduced mass:              2.6004                         1.4438                         2.5798             \n",
      "  IR intensity:              6.3843                         0.1889                         57.3583            \n",
      "  Raman activ.:              2.5116                         10.6177                        7.0448             \n",
      "  Normal mode:       X         Y         Z     |    X         Y         Z     |    X         Y         Z     |\n",
      "  1 C             -0.1705   -0.1375    0.0000  | -0.0000   -0.0000    0.1791  |  0.1539   -0.0459   -0.0000  |\n",
      "  2 C              0.1372   -0.1298    0.0000  |  0.0000   -0.0000   -0.0295  |  0.1648   -0.1215    0.0000  |\n",
      "  3 F             -0.0184    0.1924    0.0000  |  0.0000    0.0000   -0.0639  | -0.1793    0.1175    0.0000  |\n",
      "  4 H             -0.1047   -0.2063   -0.0000  | -0.0000    0.0000   -0.2629  | -0.0300    0.1591    0.0000  |\n",
      "  5 H              0.4757   -0.5827   -0.0000  |  0.0000    0.0000    0.4926  | -0.2408    0.4046   -0.0000  |\n",
      "  6 H              0.3722    0.3480   -0.0000  | -0.0000   -0.0000   -0.8070  | -0.1476   -0.7853    0.0000  |\n",
      "                                                                                                                          \n",
      "  Index:                        4                              5                              6               \n",
      "  Frequency:                 1090.60                        1109.86                        1252.17            \n",
      "  Force constant:            0.7784                         1.0061                         2.0623             \n",
      "  Reduced mass:              1.1107                         1.3863                         2.2324             \n",
      "  IR intensity:             114.0027                        11.9586                        76.4289            \n",
      "  Raman activ.:              0.0109                         7.4209                         3.1899             \n",
      "  Normal mode:       X         Y         Z     |    X         Y         Z     |    X         Y         Z     |\n",
      "  1 C              0.0000    0.0000    0.0452  | -0.0000   -0.0000   -0.1187  |  0.2563    0.0283   -0.0000  |\n",
      "  2 C             -0.0000   -0.0000    0.0854  |  0.0000    0.0000    0.1424  | -0.1309   -0.0303   -0.0000  |\n",
      "  3 F             -0.0000   -0.0000   -0.0001  |  0.0000   -0.0000    0.0031  | -0.1267    0.0175   -0.0000  |\n",
      "  4 H              0.0000    0.0000   -0.6233  | -0.0000    0.0000    0.6196  |  0.5223   -0.2431    0.0000  |\n",
      "  5 H             -0.0000    0.0000   -0.7558  | -0.0000    0.0000   -0.2348  |  0.2515   -0.5254    0.0000  |\n",
      "  6 H              0.0000    0.0000   -0.1760  |  0.0000    0.0000   -0.7256  |  0.1202    0.4621   -0.0000  |\n",
      "                                                                                                                          \n",
      "  Index:                        7                              8                              9               \n",
      "  Frequency:                 1458.95                        1569.48                        1879.33            \n",
      "  Force constant:            1.4750                         1.7011                         9.4714             \n",
      "  Reduced mass:              1.1762                         1.1721                         4.5515             \n",
      "  IR intensity:              0.3677                         3.5928                         79.5501            \n",
      "  Raman activ.:              18.4529                        9.4537                         26.5675            \n",
      "  Normal mode:       X         Y         Z     |    X         Y         Z     |    X         Y         Z     |\n",
      "  1 C              0.0576    0.0450   -0.0000  | -0.0537    0.1020   -0.0000  | -0.1088    0.3973    0.0000  |\n",
      "  2 C             -0.0593   -0.0739    0.0000  |  0.0139    0.0320    0.0000  |  0.0399   -0.3857   -0.0000  |\n",
      "  3 F              0.0238    0.0043    0.0000  |  0.0081   -0.0137    0.0000  |  0.0239   -0.0261   -0.0000  |\n",
      "  4 H             -0.5432    0.7157    0.0000  |  0.2438   -0.2107   -0.0000  |  0.4357   -0.0594    0.0000  |\n",
      "  5 H              0.1594   -0.3814    0.0000  |  0.3754   -0.4771   -0.0000  | -0.4774    0.1785    0.0000  |\n",
      "  6 H             -0.0452   -0.0702    0.0000  | -0.2980   -0.6511   -0.0000  |  0.4123    0.2358    0.0000  |\n",
      "                                                                                                                          \n",
      "  Index:                       10                             11                             12               \n",
      "  Frequency:                 3363.62                        3448.47                        3466.15            \n",
      "  Force constant:            7.0856                         7.7686                         7.8601             \n",
      "  Reduced mass:              1.0629                         1.1088                         1.1104             \n",
      "  IR intensity:              0.1141                         1.2179                         8.5554             \n",
      "  Raman activ.:              71.3927                       104.7874                        30.4420            \n",
      "  Normal mode:       X         Y         Z     |    X         Y         Z     |    X         Y         Z     |\n",
      "  1 C              0.0099   -0.0024    0.0000  |  0.0450    0.0515   -0.0000  |  0.0412    0.0436    0.0000  |\n",
      "  2 C             -0.0079    0.0695    0.0000  | -0.0637   -0.0207    0.0000  |  0.0754   -0.0041   -0.0000  |\n",
      "  3 F             -0.0001   -0.0000   -0.0000  |  0.0002   -0.0005    0.0000  | -0.0006    0.0002   -0.0000  |\n",
      "  4 H             -0.1018   -0.0905   -0.0000  | -0.5519   -0.5081   -0.0000  | -0.4739   -0.4411   -0.0000  |\n",
      "  5 H             -0.5590   -0.4109   -0.0000  |  0.4220    0.3176   -0.0000  | -0.3781   -0.2912    0.0000  |\n",
      "  6 H              0.6377   -0.2974   -0.0000  |  0.3480   -0.1671   -0.0000  | -0.5260    0.2588    0.0000  |\n",
      "                                                                                                                          \n",
      "                                                                                                                          \n"
     ]
    }
   ],
   "source": [
    "fluoroethene_hessian_drv.vibrational_analysis(opt_fluoroethene)"
   ]
  },
  {
   "cell_type": "code",
   "execution_count": 18,
   "id": "717fe0bf-a78c-4f02-bbc4-616ffb9460e0",
   "metadata": {},
   "outputs": [
    {
     "name": "stdout",
     "output_type": "stream",
     "text": [
      "                                                   Vibrational Analysis                                                   \n",
      "                                                  ======================                                                  \n",
      "                                                                                                                          \n",
      "                 Harmonic frequencies (in cm**-1), force constants (in mdyne/A), reduced masses (in amu),                 \n",
      "                          IR intensities (in km/mol), Raman scattering activities (in A**4/amu),                          \n",
      "                                         and Cartesian normal mode displacements.                                         \n",
      "                                                                                                                          \n",
      "                                                                                                                          \n",
      "  Index:                        1                              2                              3               \n",
      "  Frequency:                 421.74                         691.77                         700.54             \n",
      "  Force constant:            0.3290                         1.3261                         0.3966             \n",
      "  Reduced mass:              3.1400                         4.7034                         1.3715             \n",
      "  IR intensity:              0.7508                         55.9808                        16.1680            \n",
      "  Raman activ.:              8.4334                         17.1578                        7.8631             \n",
      "  Normal mode:       X         Y         Z     |    X         Y         Z     |    X         Y         Z     |\n",
      "  1 C              0.1491    0.1752   -0.0000  |  0.4327   -0.0957    0.0000  | -0.0000   -0.0000   -0.1717  |\n",
      "  2 C             -0.2191    0.1774    0.0000  |  0.0775   -0.1359   -0.0000  |  0.0000   -0.0000    0.0353  |\n",
      "  3 Cl             0.0448   -0.1326    0.0000  | -0.1706    0.0873   -0.0000  | -0.0000    0.0000    0.0272  |\n",
      "  4 H              0.1848    0.1269    0.0000  |  0.3495    0.0163   -0.0000  | -0.0000   -0.0000    0.3394  |\n",
      "  5 H             -0.4837    0.5633   -0.0000  | -0.2375    0.3227    0.0000  |  0.0000   -0.0000   -0.4668  |\n",
      "  6 H             -0.4411   -0.2278    0.0000  | -0.1926   -0.6499   -0.0000  |  0.0000   -0.0000    0.7971  |\n",
      "                                                                                                                          \n",
      "  Index:                        4                              5                              6               \n",
      "  Frequency:                 1100.39                        1143.81                        1154.49            \n",
      "  Force constant:            0.7759                         1.0717                         1.0512             \n",
      "  Reduced mass:              1.0875                         1.3903                         1.3386             \n",
      "  IR intensity:              67.9287                        45.1809                        15.9612            \n",
      "  Raman activ.:              1.6158                         4.9232                         5.5758             \n",
      "  Normal mode:       X         Y         Z     |    X         Y         Z     |    X         Y         Z     |\n",
      "  1 C              0.0000    0.0000   -0.0847  | -0.0000   -0.0000   -0.0728  |  0.1105    0.0089   -0.0000  |\n",
      "  2 C             -0.0000    0.0000   -0.0079  |  0.0000   -0.0000    0.1716  | -0.1277    0.0212    0.0000  |\n",
      "  3 Cl            -0.0000   -0.0000   -0.0004  |  0.0000    0.0000    0.0008  | -0.0176   -0.0032    0.0000  |\n",
      "  4 H              0.0000   -0.0000    0.7988  | -0.0000    0.0000    0.1611  |  0.3999   -0.3531    0.0000  |\n",
      "  5 H              0.0000   -0.0000    0.5488  | -0.0000    0.0000   -0.6441  |  0.2366   -0.4901   -0.0000  |\n",
      "  6 H              0.0000    0.0000   -0.2313  | -0.0000   -0.0000   -0.7242  |  0.1888    0.5951   -0.0000  |\n",
      "                                                                                                                          \n",
      "  Index:                        7                              8                              9               \n",
      "  Frequency:                 1419.98                        1558.93                        1836.24            \n",
      "  Force constant:            1.4192                         1.7025                         8.2324             \n",
      "  Reduced mass:              1.1947                         1.1890                         4.1440             \n",
      "  IR intensity:              33.9954                        9.0961                         43.5328            \n",
      "  Raman activ.:              12.1841                        23.4377                        21.4675            \n",
      "  Normal mode:       X         Y         Z     |    X         Y         Z     |    X         Y         Z     |\n",
      "  1 C             -0.0841   -0.0038    0.0000  | -0.0198    0.1260    0.0000  |  0.0467   -0.3587   -0.0000  |\n",
      "  2 C              0.0804    0.0558   -0.0000  |  0.0005   -0.0132   -0.0000  | -0.0161    0.3922    0.0000  |\n",
      "  3 Cl            -0.0098   -0.0004   -0.0000  |  0.0009   -0.0024   -0.0000  | -0.0026    0.0049    0.0000  |\n",
      "  4 H              0.5137   -0.7708    0.0000  |  0.1379   -0.0498    0.0000  | -0.3274   -0.0208   -0.0000  |\n",
      "  5 H             -0.0910    0.3090    0.0000  |  0.3675   -0.5855    0.0000  |  0.5031   -0.2471   -0.0000  |\n",
      "  6 H             -0.0343   -0.1427    0.0000  | -0.3054   -0.6252   -0.0000  | -0.4493   -0.3022    0.0000  |\n",
      "                                                                                                                          \n",
      "  Index:                       10                             11                             12               \n",
      "  Frequency:                 3346.74                        3439.19                        3460.90            \n",
      "  Force constant:            7.0153                         7.7706                         7.7719             \n",
      "  Reduced mass:              1.0631                         1.1150                         1.1013             \n",
      "  IR intensity:              0.4596                         0.6629                         7.5225             \n",
      "  Raman activ.:             101.1156                        91.7140                        71.1724            \n",
      "  Normal mode:       X         Y         Z     |    X         Y         Z     |    X         Y         Z     |\n",
      "  1 C              0.0076   -0.0037   -0.0000  |  0.0211    0.0237   -0.0000  | -0.0621   -0.0573   -0.0000  |\n",
      "  2 C             -0.0156    0.0685    0.0000  | -0.0913   -0.0197    0.0000  | -0.0352    0.0100    0.0000  |\n",
      "  3 Cl             0.0000   -0.0001   -0.0000  |  0.0002   -0.0002    0.0000  |  0.0003   -0.0000    0.0000  |\n",
      "  4 H             -0.0877   -0.0679    0.0000  | -0.2703   -0.2121   -0.0000  |  0.7289    0.5784    0.0000  |\n",
      "  5 H             -0.5091   -0.3390   -0.0000  |  0.6232    0.4334   -0.0000  |  0.1725    0.1238   -0.0000  |\n",
      "  6 H              0.6908   -0.3624   -0.0000  |  0.4768   -0.2621    0.0000  |  0.2480   -0.1381    0.0000  |\n",
      "                                                                                                                          \n",
      "                                                                                                                          \n"
     ]
    }
   ],
   "source": [
    "chloroethene_hessian_drv.vibrational_analysis(opt_chloroethene)"
   ]
  },
  {
   "cell_type": "code",
   "execution_count": 19,
   "id": "e4351ec6-b8f0-4b4b-a812-f43427d6ddc5",
   "metadata": {},
   "outputs": [
    {
     "data": {
      "image/png": "[encoded data removed]",
      "text/plain": [
       "<Figure size 504x288 with 1 Axes>"
      ]
     },
     "metadata": {
      "needs_background": "light"
     },
     "output_type": "display_data"
    }
   ],
   "source": [
    "# plot the IR spectra\n",
    "plt.figure(figsize=(7,4))\n",
    "\n",
    "eth_x, eth_ir = ethene_hessian_drv.frequencies, ethene_hessian_drv.ir_intensities\n",
    "flo_x, flo_ir = fluoroethene_hessian_drv.frequencies, fluoroethene_hessian_drv.ir_intensities\n",
    "chl_x, chl_ir = chloroethene_hessian_drv.frequencies, chloroethene_hessian_drv.ir_intensities\n",
    "\n",
    "eth_xl, eth_irl = add_broadening(eth_x, eth_ir, line_profile='Lorentzian', line_param=20, step=2)\n",
    "flo_xl, flo_irl = add_broadening(flo_x, flo_ir, line_profile='Lorentzian', line_param=20, step=2)\n",
    "chl_xl, chl_irl = add_broadening(chl_x, chl_ir, line_profile='Lorentzian', line_param=20, step=2)\n",
    "\n",
    "plt.plot(eth_xl, eth_irl, label='Ethene')\n",
    "plt.plot(flo_xl, flo_irl, label='Fluoroethene')\n",
    "plt.plot(chl_xl, chl_irl, label='Chloroethene')\n",
    "\n",
    "plt.xlabel('Wavenumber (cm**-1)')\n",
    "plt.axis(xmin=3200, xmax=3500)\n",
    "plt.axis(ymin=-0.2, ymax=1.5)\n",
    "plt.ylabel('IR intensity (km/mol)')\n",
    "plt.title(\"Calculated IR sepctra of substituted ethenes\")\n",
    "plt.legend()\n",
    "plt.tight_layout(); plt.show()"
   ]
  },
  {
   "cell_type": "code",
   "execution_count": 20,
   "id": "42250135-ea37-436c-ae07-a881ad783242",
   "metadata": {},
   "outputs": [
    {
     "data": {
      "image/png": "[encoded data removed]",
      "text/plain": [
       "<Figure size 504x288 with 1 Axes>"
      ]
     },
     "metadata": {
      "needs_background": "light"
     },
     "output_type": "display_data"
    }
   ],
   "source": [
    "# plot the IR spectra\n",
    "plt.figure(figsize=(7,4))\n",
    "\n",
    "eth_r = ethene_hessian_drv.raman_intensities\n",
    "flo_r = fluoroethene_hessian_drv.raman_intensities\n",
    "chl_r = chloroethene_hessian_drv.raman_intensities\n",
    "\n",
    "eth_xl, eth_rl = add_broadening(eth_x, eth_r, line_profile='Lorentzian', line_param=20, step=2)\n",
    "flo_xl, flo_rl = add_broadening(flo_x, flo_r, line_profile='Lorentzian', line_param=20, step=2)\n",
    "chl_xl, chl_rl = add_broadening(chl_x, chl_r, line_profile='Lorentzian', line_param=20, step=2)\n",
    "\n",
    "plt.plot(eth_xl, eth_rl, label='Ethene')\n",
    "plt.plot(flo_xl, flo_rl, label='Fluoroethene')\n",
    "plt.plot(chl_xl, chl_rl, label='Chloroethene')\n",
    "\n",
    "plt.xlabel('Wavenumber (cm**-1)')\n",
    "plt.axis(xmin=3200, xmax=3500)\n",
    "#plt.axis(ymin=-0.2, ymax=1.5)\n",
    "plt.ylabel('Raman intensity (A**4/amu)')\n",
    "plt.title(\"Calculated Raman sepctra of substituted ethenes\")\n",
    "plt.legend()\n",
    "plt.tight_layout(); plt.show()"
   ]
  },
  {
   "cell_type": "code",
   "execution_count": 21,
   "id": "ba65d33d-9f68-407f-8b3b-42e55ab24975",
   "metadata": {},
   "outputs": [],
   "source": [
    "ethene_h1 = get_normal_mode(ethene, ethene_hessian_drv.normal_modes[-1])\n",
    "fluoroethene_h1 = get_normal_mode(fluoroethene, fluoroethene_hessian_drv.normal_modes[-1])\n",
    "chloroethene_h1 = get_normal_mode(chloroethene, chloroethene_hessian_drv.normal_modes[-1])"
   ]
  },
  {
   "cell_type": "code",
   "execution_count": 22,
   "id": "cb14491a-8ebf-467d-9d15-96153d4f10f9",
   "metadata": {},
   "outputs": [
    {
     "data": {
      "application/3dmoljs_load.v0": "<div id=\"3dmolviewer_16506148987760687\"  style=\"position: relative; width: 300px; height: 200px\">\n        <p id=\"3dmolwarning_16506148987760687\" style=\"background-color:#ffcccc;color:black\">You appear to be running in JupyterLab (or JavaScript failed to load for some other reason).  You need to install the 3dmol extension: <br>\n        <tt>jupyter labextension install jupyterlab_3dmol</tt></p>\n        </div>\n<script>\n\nvar loadScriptAsync = function(uri){\n  return new Promise((resolve, reject) => {\n    var tag = document.createElement('script');\n    tag.src = uri;\n    tag.async = true;\n    tag.onload = () => {\n      resolve();\n    };\n  var firstScriptTag = document.getElementsByTagName('script')[0];\n  firstScriptTag.parentNode.insertBefore(tag, firstScriptTag);\n});\n};\n\nif(typeof $3Dmolpromise === 'undefined') {\n$3Dmolpromise = null;\n  $3Dmolpromise = loadScriptAsync('https://3dmol.org/build/3Dmol.js');\n}\n\nvar viewer_16506148987760687 = null;\nvar warn = document.getElementById(\"3dmolwarning_16506148987760687\");\nif(warn) {\n    warn.parentNode.removeChild(warn);\n}\n$3Dmolpromise.then(function() {\nvar viewergrid_16506148987760687 = null;\nviewergrid_16506148987760687 = $3Dmol.createViewerGrid($(\"#3dmolviewer_16506148987760687\"),{rows: 1, cols: 1, control_all: true},{backgroundColor:\"white\"});\nviewer_16506148987760687 = viewergrid_16506148987760687[0][0];\nviewergrid_16506148987760687[0][0].zoomTo();\tviewergrid_16506148987760687[0][0].addModel(\"6\\n\\nC       0.0000000      -0.6639840       0.0000000      -0.0703211       0.0000206       0.0000001\\nC       0.0000000       0.6639840       0.0000000      -0.0703742      -0.0000017      -0.0000006\\nH       0.9197960      -1.2230610       0.0000000       0.4190488      -0.2680840      -0.0000008\\nH      -0.9197960      -1.2230610       0.0000000       0.4188834       0.2679019       0.0000021\\nH       0.9197960       1.2230610       0.0000000       0.4191758       0.2681471       0.0000044\\nH      -0.9197960       1.2230610       0.0000000       0.4193565      -0.2681896       0.0000014\\n\",\"xyz\",{\"vibrate\": {\"frames\": 10, \"amplitude\": 0.75}});\n\tviewergrid_16506148987760687[0][0].setStyle({\"stick\": {}});\n\tviewergrid_16506148987760687[0][0].animate({\"loop\": \"backAndForth\"});\n\tviewergrid_16506148987760687[0][0].zoomTo();\nviewergrid_16506148987760687[0][0].render();\n});\n</script>",
      "text/html": [
       "<div id=\"3dmolviewer_16506148987760687\"  style=\"position: relative; width: 300px; height: 200px\">\n",
       "        <p id=\"3dmolwarning_16506148987760687\" style=\"background-color:#ffcccc;color:black\">You appear to be running in JupyterLab (or JavaScript failed to load for some other reason).  You need to install the 3dmol extension: <br>\n",
       "        <tt>jupyter labextension install jupyterlab_3dmol</tt></p>\n",
       "        </div>\n",
       "<script>\n",
       "\n",
       "var loadScriptAsync = function(uri){\n",
       "  return new Promise((resolve, reject) => {\n",
       "    var tag = document.createElement('script');\n",
       "    tag.src = uri;\n",
       "    tag.async = true;\n",
       "    tag.onload = () => {\n",
       "      resolve();\n",
       "    };\n",
       "  var firstScriptTag = document.getElementsByTagName('script')[0];\n",
       "  firstScriptTag.parentNode.insertBefore(tag, firstScriptTag);\n",
       "});\n",
       "};\n",
       "\n",
       "if(typeof $3Dmolpromise === 'undefined') {\n",
       "$3Dmolpromise = null;\n",
       "  $3Dmolpromise = loadScriptAsync('https://3dmol.org/build/3Dmol.js');\n",
       "}\n",
       "\n",
       "var viewer_16506148987760687 = null;\n",
       "var warn = document.getElementById(\"3dmolwarning_16506148987760687\");\n",
       "if(warn) {\n",
       "    warn.parentNode.removeChild(warn);\n",
       "}\n",
       "$3Dmolpromise.then(function() {\n",
       "var viewergrid_16506148987760687 = null;\n",
       "viewergrid_16506148987760687 = $3Dmol.createViewerGrid($(\"#3dmolviewer_16506148987760687\"),{rows: 1, cols: 1, control_all: true},{backgroundColor:\"white\"});\n",
       "viewer_16506148987760687 = viewergrid_16506148987760687[0][0];\n",
       "viewergrid_16506148987760687[0][0].zoomTo();\tviewergrid_16506148987760687[0][0].addModel(\"6\\n\\nC       0.0000000      -0.6639840       0.0000000      -0.0703211       0.0000206       0.0000001\\nC       0.0000000       0.6639840       0.0000000      -0.0703742      -0.0000017      -0.0000006\\nH       0.9197960      -1.2230610       0.0000000       0.4190488      -0.2680840      -0.0000008\\nH      -0.9197960      -1.2230610       0.0000000       0.4188834       0.2679019       0.0000021\\nH       0.9197960       1.2230610       0.0000000       0.4191758       0.2681471       0.0000044\\nH      -0.9197960       1.2230610       0.0000000       0.4193565      -0.2681896       0.0000014\\n\",\"xyz\",{\"vibrate\": {\"frames\": 10, \"amplitude\": 0.75}});\n",
       "\tviewergrid_16506148987760687[0][0].setStyle({\"stick\": {}});\n",
       "\tviewergrid_16506148987760687[0][0].animate({\"loop\": \"backAndForth\"});\n",
       "\tviewergrid_16506148987760687[0][0].zoomTo();\n",
       "viewergrid_16506148987760687[0][0].render();\n",
       "});\n",
       "</script>"
      ]
     },
     "metadata": {},
     "output_type": "display_data"
    }
   ],
   "source": [
    "view = p3d.view(viewergrid=(1,1), width=300, height=200, linked=True)\n",
    "view.addModel(ethene_h1, \"xyz\", {'vibrate': {'frames':10,'amplitude':0.75}}, viewer=(0,0))\n",
    "view.setStyle({'stick':{}})\n",
    "view.animate({'loop': 'backAndForth'})\n",
    "view.zoomTo()\n",
    "view.show()"
   ]
  },
  {
   "cell_type": "markdown",
   "id": "4330b398-12d7-4686-b3f0-c8556a3a28a8",
   "metadata": {},
   "source": [
    "## IR intensities and Raman activities\n",
    "\n",
    "To rationalize why the IR and Raman spectra look as they do, let's calculate how the dipole moment and polarizability change during particular vibrational motions."
   ]
  },
  {
   "cell_type": "code",
   "execution_count": null,
   "id": "941983b3-1165-4a72-9846-f9ab43973e9e",
   "metadata": {},
   "outputs": [],
   "source": []
  }
 ],
 "metadata": {
  "kernelspec": {
   "display_name": "Python 3",
   "language": "python",
   "name": "python3"
  },
  "language_info": {
   "codemirror_mode": {
    "name": "ipython",
    "version": 3
   },
   "file_extension": ".py",
   "mimetype": "text/x-python",
   "name": "python",
   "nbconvert_exporter": "python",
   "pygments_lexer": "ipython3",
   "version": "3.6.9"
  }
 },
 "nbformat": 4,
 "nbformat_minor": 5
}
