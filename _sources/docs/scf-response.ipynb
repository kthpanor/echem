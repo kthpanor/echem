{
 "cells": [
  {
   "cell_type": "markdown",
   "id": "right-reaction",
   "metadata": {
    "slideshow": {
     "slide_type": "slide"
    }
   },
   "source": [
    "# SCF states\n",
    "Compared to exact-state theory, the first and foremost difference is that, in approximate-state methods, state vectors are in general not eigenstates of the unperturbed Hamiltonian but are rather formed in terms of Slater determinants. Apart from this, the steps to be taken in the derivation of response functions are very similar in the two situations.\n",
    "\n",
    "In Hartree--Fock and Kohn--Sham density functional theory, the reference state is described by a single Slater determinant, also referred to as the self-consistent field (SCF) approximation. The detailed derivation of response functions in this approximation can be found in {cite}`Norman2018` but the key steps are indicated below.\n",
    "\n",
    "## Parameterization\n",
    "Parameterization of SCF states:\n",
    "\n",
    "\\begin{equation*}\n",
    "\\label{psi-kappa-param}\n",
    "  | \\bar{\\psi}(t) \\rangle =\n",
    "    e^{-i\\hat{\\kappa}(t)} |0\\rangle ; \\quad\n",
    "  \\hat{\\kappa}(t) =\n",
    "  \\sum_s^\\mathrm{unocc} \\sum_i^\\mathrm{occ} \\left[\n",
    "    \\kappa_{si}(t) \\hat{a}^\\dagger_s \\hat{a}_i + \\kappa_{si}^*(t) \\hat{a}^\\dagger_i \\hat{a}_s\n",
    "    \\right] ,\n",
    "\\end{equation*}\n",
    "\n",
    "where the creation, $\\hat{a}^\\dagger$, and annihilation, $\\hat{a}$, operators act on unoccupied, secondary, $s$ and occupied, inactive, $i$ molecular orbitals.\n",
    "\n",
    "## Equation of motion\n",
    "The time evolution of the SCF state is determined from the Ehrenfest theorem:\n",
    "\n",
    "\\begin{equation*}\n",
    "\\label{ehren-equiv}\n",
    "  \\frac{\\partial}{\\partial t} \n",
    "  \\langle \\bar{\\psi}(t) | \\hat{\\Omega}_{pq}^\\dagger | \\bar{\\psi}(t) \\rangle \n",
    "  -\n",
    "  \\langle \\bar{\\psi}(t) | \n",
    "  \\frac{\\partial \\hat{\\Omega}_{pq}^\\dagger}{\\partial t} \n",
    "  | \\bar{\\psi}(t) \\rangle = \n",
    "  \\frac{1}{i\\hbar}\n",
    "    \\langle \\bar{\\psi}(t) | [\\hat{\\Omega}_{pq}^\\dagger, \\hat{H}] \n",
    "    | \\bar{\\psi}(t) \\rangle \n",
    "\\end{equation*}\n",
    "\n",
    "We require that this equation is fulfilled for the set of time-transformed electron-transfer operators\n",
    "\n",
    "\\begin{equation*}\n",
    "    \\hat{\\Omega}_{si}^\\dagger = \n",
    "  e^{-i\\hat{\\kappa}} \\, \\hat{a}^\\dagger_s \\hat{a}_i \\, e^{i\\hat{\\kappa}}\n",
    "\\end{equation*}\n",
    "\n",
    "as well as the corresponding Hermitian conjugate. There will be two equations associated with each single-electron excited determinant, so there are twice as  many equations as there are unknown *complex* parameters, $\\kappa_{si}(t)$, with independent real and imaginary parts in the time-dependent phase-isolated wave function, $| \\bar{\\psi}(t) \\rangle$.\n",
    "\n",
    "At this point, we adopt perturbation theory:\n",
    "\n",
    "\\begin{equation*}\n",
    "  \\kappa_{si}(t) = \\kappa_{si}^{(1)} + \\kappa_{si}^{(2)} + \\kappa_{si}^{(3)} + \\cdots ,\n",
    "\\end{equation*}\n",
    "\n",
    "which, after finding a first-order solution in the frequency domain, will eventually results in\n",
    "\n",
    "\\begin{equation*}\n",
    "  \\kappa^{(1)}(\\omega) = - i\n",
    "  \\left(E^{[2]} - \\hbar \\omega S^{[2]}\\right)^{-1} \n",
    "  V^{\\omega, [1]} .\n",
    "\\end{equation*}\n",
    "\n",
    "The vector $\\kappa^{(1)}$ collects the set of parameters and their complex conjugate and matrices $E^{[2]}$ and $S^{[2]}$ are known as the electronic Hessian and overlap matrices, respectively, and $V^{\\omega, [1]}$ is known as the property gradient of the perturbation operator.\n",
    "\n",
    "## Response functions\n",
    " The response functions of an observable $\\hat{\\Omega}$ are defined by:\n",
    "\n",
    "\\begin{equation*}\n",
    "  \\langle \\bar{\\psi}(t) | \\hat{\\Omega} | \\bar{\\psi}(t) \\rangle =\n",
    "  \\langle 0 | \\hat{\\Omega} | 0 \\rangle + \n",
    "  \\sum_{\\omega}\n",
    "  \\langle \\langle \\hat{\\Omega}; \\hat{V}^{\\omega} \\rangle \\rangle \n",
    "  F^{\\omega}\n",
    "  e^{-i\\omega t} + \\cdots \n",
    "\\end{equation*}\n",
    "\n",
    "and we are able to identify the following expression for the linear response function\n",
    "\n",
    "\\begin{equation*}\n",
    "  \\langle \\langle \\hat{\\Omega}; \\hat{V}^{\\omega} \\rangle\n",
    "  \\rangle  = -\n",
    "\\left[\\Omega^{[1]}\\right]^\\dagger\n",
    "   \\left(E^{[2]} - \\hbar \\omega S^{[2]}\\right)^{-1} V^{\\omega, [1]} ,\n",
    "\\end{equation*}\n",
    "\n",
    "where $\\Omega^{[1]}$ (analogously to  $V^{\\omega, [1]}$) is known as the property gradients associated with the observable. This expression for the linear response functions is also known as the random phase approximation (RPA) equation in the case a Hartree--Fock reference state. It is the principal equation to be solved in time-dependent Hartree--Fock (TDHF) and time-dependent density functional theory (TDDFT) theories. Explicit expressions for the vector matrix elements in the TDHF approximaiton are given below.\n",
    "\n",
    "## Matrix elements\n",
    "### Electronic Hessian\n",
    "The electronic Hessian reads\n",
    "\n",
    "\\begin{eqnarray*}\n",
    "E^{[2]} & = &\n",
    "\t\\begin{pmatrix}\n",
    "    \\rule[-5pt]{0pt}{20pt}\n",
    "\t\\rule{5pt}{0pt}\n",
    "\tA & B \\rule{5pt}{0pt}\n",
    "\t\\\\\n",
    "    \\rule[-10pt]{0pt}{25pt}\n",
    "    \\rule{5pt}{0pt}    \n",
    "\tB^* & A^* \\\\\n",
    "\t\\end{pmatrix} = -\n",
    "  \\begin{pmatrix}\n",
    "    \\rule[-10pt]{0pt}{20pt}\n",
    "     \\langle 0 | [\\hat{q}_{n},\n",
    "       [\\hat{q}_{m}^\\dagger, \\hat{H}_0]] | 0 \\rangle\n",
    "     &\n",
    "     \\langle 0 | [\\hat{q}_{n},\n",
    "       [\\hat{q}_{m}, \\hat{H}_0]] | 0 \\rangle \\\\\n",
    "    \\rule[-5pt]{0pt}{20pt}\n",
    "     \\langle 0 | [\\hat{q}_{n}^\\dagger,\n",
    "       [\\hat{q}_{m}^\\dagger, \\hat{H}_0]] | 0 \\rangle\n",
    "     &\n",
    "     \\langle 0 | [\\hat{q}_{n}^\\dagger,\n",
    "       [\\hat{q}_{m}, \\hat{H}_0]] | 0 \\rangle \\\\\n",
    "  \\end{pmatrix}\n",
    "  \\\\\n",
    "&\t= &\n",
    "    \\begin{pmatrix}\n",
    "    \\rule[-10pt]{0pt}{30pt}\n",
    "    \\langle 0_i^s | \\hat{H}_0 | 0_j^t \\rangle - \n",
    "    \\langle 0 | \\hat{H}_0 | 0 \\rangle \\delta_{st}\\delta_{ij} \n",
    "    & \n",
    "     -\\langle 0_{ij}^{st} | \\hat{H}_0 | 0 \\rangle \n",
    "    (1 - \\delta_{ij})(1-\\delta_{st}) \n",
    "    \\\\\n",
    "    \\rule[-10pt]{0pt}{30pt}\n",
    "    -\\langle 0 | \\hat{H}_0 | 0_{ij}^{st} \\rangle \n",
    "    (1 - \\delta_{ij})(1-\\delta_{st}) \n",
    "     & \n",
    "    \\langle 0_j^t | \\hat{H}_0 | 0_i^s \\rangle - \n",
    "    \\langle 0 | \\hat{H}_0 | 0 \\rangle \\delta_{st}\\delta_{ij} \n",
    "    \\\\\n",
    "  \\end{pmatrix} \n",
    "\\end{eqnarray*}\n",
    "\n",
    "- The Hessian matrix is Hermitian and has an internal structure in terms of the matrix blocks $A$ and $B$\n",
    "- The diagonal elements correspond to differences in energy between the single-excited determinants $|0_i^s\\rangle$ and the reference state $|0\\rangle$\n",
    "- The $A$-block corresponds to the CIS approximation\n",
    "\n",
    "In the Hartree–Fock approximation, the Hessian can be expressed as the differences in orbital energies corrected by an anti-symmetrized two-electron integral\n",
    "\n",
    "$$\n",
    "E^{[2]} = \n",
    "\\begin{pmatrix}\n",
    "    \\rule[-10pt]{0pt}{30pt}\n",
    "    F_{st} \\delta_{ij} \\!-\\! F_{ji}\\delta_{st} \\!-\\! \\langle sj || ti\n",
    "    \\rangle \n",
    "    & \n",
    "    -\\langle st||ij \\rangle \n",
    "    \\\\\n",
    "    \\rule[-10pt]{0pt}{30pt}\n",
    "    -\\langle ij||st \\rangle \n",
    "    & \n",
    "    F_{ts} \\delta_{ij}\\! -\\! F_{ij} \\delta_{st} \n",
    "    \\! - \\! \\langle ti || sj \\rangle \n",
    "    \\\\\n",
    "\\end{pmatrix}\n",
    "$$\n",
    "\n",
    "- The anti-symmetrized ERI gives the correct asymptotic behavior for charge-transfer excitations\n",
    "- At the level of DFT, the exchange–correlation functional is introduced and the asymptotic behavior becomes incorrect\n",
    "\n",
    "### Overlap matrix\n",
    "\n",
    "The overlap matrix in the SCF approximation is trivial and equal to\n",
    "\n",
    "\\begin{eqnarray*}\n",
    "\\label{S2}\n",
    "S^{[2]} & = &\n",
    "  \\begin{pmatrix}\n",
    "    \\rule[-10pt]{0pt}{20pt}\n",
    "     \\langle 0 | [\\hat{q}_{n}, \\hat{q}_{m}^\\dagger] | 0 \\rangle\n",
    "     &\n",
    "     \\langle 0 | [\\hat{q}_{n}, \\hat{q}_{m}] | 0 \\rangle \\\\\n",
    "    \\rule[-5pt]{0pt}{20pt}\n",
    "     \\langle 0 | [\\hat{q}_{n}^\\dagger, \\hat{q}_{m}^\\dagger] | 0 \\rangle\n",
    "     &\n",
    "     \\langle 0 | [\\hat{q}_{n}^\\dagger, \\hat{q}_{m}] | 0 \\rangle \\\\\n",
    "  \\end{pmatrix} =\n",
    "\t\\begin{pmatrix}\n",
    "    \\rule[-5pt]{0pt}{20pt}\n",
    "\t\\rule{5pt}{0pt}\n",
    "\t1 & 0 \\rule{5pt}{0pt}\n",
    "\t\\\\\n",
    "    \\rule[-10pt]{0pt}{25pt}\n",
    "    \\rule{5pt}{0pt}    \n",
    "\t0 & -1 \\\\\n",
    "\t\\end{pmatrix} ,\n",
    "\\end{eqnarray*}\n",
    "\n",
    "where the \"1\" and the \"0\" are here understood to be the identity and zero matrices, respectively, of the same rank as sub-blocks A and B in the electronic Hessian.\n",
    "\n",
    "### Property gradient\n",
    "\n",
    "In the SCF approximation, the property gradient takes the form\n",
    "\n",
    "\\begin{equation*}\n",
    "  V^{[1]} =\n",
    "  \\begin{pmatrix}\n",
    "    \\rule[-10pt]{0pt}{20pt}\n",
    "     \\langle 0 | [\\hat{a}_{i}^\\dagger\\hat{a}_{s}, \\hat{V}] | 0 \\rangle\n",
    "       \\\\\n",
    "    \\rule[-5pt]{0pt}{20pt}\n",
    "     \\langle 0 | [\\hat{a}_{s}^\\dagger\\hat{a}_{i}, \\hat{V}] | 0 \\rangle\n",
    "  \\\\\n",
    "  \\end{pmatrix} =\n",
    "  \\begin{pmatrix}\n",
    "    \\rule[-5pt]{0pt}{15pt}\n",
    "     \\langle 0_i^s | \\hat{V} | 0 \\rangle\n",
    "       \\\\\n",
    "    \\rule[-5pt]{0pt}{0pt}\n",
    "     -\\langle 0 | \\hat{V} | 0_i^s \\rangle\n",
    "    \\\\\n",
    "  \\end{pmatrix} =\n",
    "      \\begin{pmatrix}\n",
    "    \\rule[-5pt]{0pt}{15pt}\n",
    "    g\n",
    "       \\\\\n",
    "    \\rule[-5pt]{0pt}{0pt}\n",
    "     -g^*\n",
    "\\\\\n",
    "  \\end{pmatrix}\n",
    "\\end{equation*}\n",
    "\n",
    "```{note}\n",
    "It is a common practice to adopt the use of spin-adapted electron excitation vectors as a means to reduce the dimension of matrices and vectors. The expressions for the matrix elements then become modified accordingly.\n",
    "```\n",
    "\n",
    "### Numerical example\n",
    "Let us consider ethylene in a minimal basis set. We perform an SCF optimization of the Hartree--Fock reference state with use of the VeloxChem program. The dictonary `scf_tensors` contains information of the SCF calculation and we retrieve the orbital energies."
   ]
  },
  {
   "cell_type": "code",
   "execution_count": 157,
   "id": "entertaining-veteran",
   "metadata": {
    "slideshow": {
     "slide_type": "fragment"
    }
   },
   "outputs": [],
   "source": [
    "from mpi4py import MPI\n",
    "comm = MPI.COMM_WORLD\n",
    "\n",
    "import veloxchem as vlx\n",
    "ostream = vlx.OutputStream('/dev/null') # we will suppress program output\n",
    "\n",
    "import numpy as np"
   ]
  },
  {
   "cell_type": "code",
   "execution_count": 205,
   "id": "senior-husband",
   "metadata": {
    "slideshow": {
     "slide_type": "fragment"
    }
   },
   "outputs": [],
   "source": [
    "mol_str = \"\"\"\n",
    "C        0.67759997    0.00000000    0.00000000\n",
    "C       -0.67759997    0.00000000    0.00000000\n",
    "H        1.21655197    0.92414474    0.00000000\n",
    "H        1.21655197   -0.92414474    0.00000000\n",
    "H       -1.21655197   -0.92414474    0.00000000\n",
    "H       -1.21655197    0.92414474    0.00000000\n",
    "\"\"\"\n",
    "molecule = vlx.Molecule.read_str(mol_str, units='angstrom')\n",
    "basis = vlx.MolecularBasis.read(molecule, \"6-31g\")\n",
    "\n",
    "scf_drv = vlx.ScfRestrictedDriver(comm, ostream)\n",
    "scf_drv.compute(molecule, basis)\n",
    "\n",
    "orbital_energies = scf_drv.scf_tensors['E']\n",
    "C = scf_drv.scf_tensors['C'] # MO coefficients"
   ]
  },
  {
   "cell_type": "markdown",
   "id": "1b39289e",
   "metadata": {},
   "source": [
    "#### E[2] matrix\n",
    "For a closed-shell system, the dimension of the $A$- and $B$-blocks of the $E^{[2]}$-matrix equals the number of occupied (spatial) orbitals times the number of virtual orbitals or, in other words\n",
    "\n",
    "$$\\mathrm{dim}\\left(E^{[2]}\\right) = 2 \\times n_\\mathrm{occ} \\times n_\\mathrm{virt}$$"
   ]
  },
  {
   "cell_type": "code",
   "execution_count": 206,
   "id": "2be38f43",
   "metadata": {},
   "outputs": [
    {
     "name": "stdout",
     "output_type": "stream",
     "text": [
      "Number of occupied orbitals: 8\n",
      "Number of virtual orbitals: 18\n",
      "Dimension of A-block in E2: 144\n"
     ]
    }
   ],
   "source": [
    "nocc = molecule.number_of_alpha_electrons()\n",
    "norb = orbital_energies.shape[0]\n",
    "nvirt = norb - nocc\n",
    "n = nocc * nvirt\n",
    "\n",
    "print('Number of occupied orbitals:', nocc)\n",
    "print('Number of virtual orbitals:', nvirt)\n",
    "print('Dimension of A-block in E2:', n)"
   ]
  },
  {
   "cell_type": "markdown",
   "id": "f2cf9739",
   "metadata": {},
   "source": [
    "We get the $E^{[2]}$-matrix from the `LinearResponseEigenSolver` class object."
   ]
  },
  {
   "cell_type": "code",
   "execution_count": 207,
   "id": "equal-aurora",
   "metadata": {
    "slideshow": {
     "slide_type": "slide"
    }
   },
   "outputs": [
    {
     "name": "stdout",
     "output_type": "stream",
     "text": [
      "Dimension of E[2] matrix: (288, 288)\n",
      "Diagonal element for the (pi,pi*)-excitation:  0.722298 a.u.\n"
     ]
    }
   ],
   "source": [
    "lres_drv = vlx.LinearResponseEigenSolver(comm, ostream)\n",
    "E2 = lres_drv.get_e2(molecule, basis, scf_drv.scf_tensors)\n",
    "\n",
    "# index position for (pi,pi*) excitation\n",
    "idx = (nocc -1) * nvirt\n",
    "\n",
    "print('Dimension of E[2] matrix:', E2.shape)\n",
    "print(f'Diagonal element for the (pi,pi*)-excitation: {E2[idx,idx] : .6f} a.u.')"
   ]
  },
  {
   "cell_type": "markdown",
   "id": "a9975e0d",
   "metadata": {},
   "source": [
    "Alternatively, we can in principle determine the elements of the $E^{[2]}$-matrix from explicit calculations using orbital energies and two-electron integrals in the MO-basis."
   ]
  },
  {
   "cell_type": "code",
   "execution_count": 208,
   "id": "dc3032b2",
   "metadata": {},
   "outputs": [
    {
     "name": "stdout",
     "output_type": "stream",
     "text": [
      "Diagonal element (explicit calculation):  0.722298 a.u.\n"
     ]
    }
   ],
   "source": [
    "# ERI integrals in physicist's notation\n",
    "moints_drv = vlx.MOIntegralsDriver()\n",
    "isis = moints_drv.compute_in_mem(molecule, basis, scf_drv.mol_orbs, \"OVOV\")\n",
    "iiss = moints_drv.compute_in_mem(molecule, basis, scf_drv.mol_orbs, \"OOVV\")\n",
    "# Determine the specific diagonal matrix element of E[2] explicitly with\n",
    "# account made for use of spin-adapted excitation operators\n",
    "print(f'Diagonal element (explicit calculation): {2*(orbital_energies[8] - orbital_energies[7]- isis[7,0,7,0] + 2 * iiss[7,7,0,0]) : .6f} a.u.')"
   ]
  },
  {
   "cell_type": "markdown",
   "id": "3341502c",
   "metadata": {},
   "source": [
    "#### S[2] matrix\n",
    "We construct the trivial $S^{[2]}$-matrix."
   ]
  },
  {
   "cell_type": "code",
   "execution_count": 209,
   "id": "sexual-jesus",
   "metadata": {
    "slideshow": {
     "slide_type": "fragment"
    }
   },
   "outputs": [
    {
     "name": "stdout",
     "output_type": "stream",
     "text": [
      "Dimension of S[2] matrix: (288, 288)\n"
     ]
    }
   ],
   "source": [
    "# factor of 2 due to spin-adaptation\n",
    "S2 = 2 * np.identity(2 * n)\n",
    "S2[n:,n:] *= -1\n",
    "\n",
    "print('Dimension of S[2] matrix:', S2.shape)"
   ]
  },
  {
   "cell_type": "markdown",
   "id": "7573320a",
   "metadata": {},
   "source": [
    "#### V[1] gradient\n",
    "We get the $V^{\\omega,[1]}$-vector from the `LinearResponseSolver` class object. We assume the perturbation operator to equal minus the electric dipole moment operator along the $x$-axis, i.e., the molecular C--C axis."
   ]
  },
  {
   "cell_type": "code",
   "execution_count": 211,
   "id": "alpha-relations",
   "metadata": {
    "scrolled": true,
    "slideshow": {
     "slide_type": "fragment"
    }
   },
   "outputs": [
    {
     "name": "stdout",
     "output_type": "stream",
     "text": [
      "Dimension of V[1] vector: 288\n",
      "Elements for (pi,pi*)-excitation:\n",
      "(upper)   g:  2.835801\n",
      "(lower) -g*: -2.835801\n"
     ]
    }
   ],
   "source": [
    "lrs_drv = vlx.LinearResponseSolver(comm, ostream)\n",
    "\n",
    "mu_x = lrs_drv.get_prop_grad('electric dipole', 'x', molecule, basis, scf_drv.scf_tensors)[0]\n",
    "mu_y = lrs_drv.get_prop_grad('electric dipole', 'y', molecule, basis, scf_drv.scf_tensors)[0]\n",
    "mu_z = lrs_drv.get_prop_grad('electric dipole', 'z', molecule, basis, scf_drv.scf_tensors)[0]\n",
    "\n",
    "V1 = -mu_x\n",
    "\n",
    "print('Dimension of V[1] vector:', V1.shape[0])\n",
    "print('Elements for (pi,pi*)-excitation:')\n",
    "print(f'(upper)   g: {V1[idx] : .6f}')\n",
    "print(f'(lower) -g*: {V1[n + idx] : .6f}')"
   ]
  },
  {
   "cell_type": "markdown",
   "id": "c6d08cce",
   "metadata": {},
   "source": [
    "Alternatively, we can in principle determine the elements of the $V^{\\omega,[1]}$-vector from explicit calculations using one-electron integrals of the perturbation operator in the MO-basis. The property integrals are available in AO-basis from the `ElectricDipoleIntegralsDriver` class object and we transfer them to the MO-basis with use of the MO-coefficients."
   ]
  },
  {
   "cell_type": "code",
   "execution_count": 212,
   "id": "8830ca67",
   "metadata": {},
   "outputs": [
    {
     "name": "stdout",
     "output_type": "stream",
     "text": [
      "MO integral 2 * < pi | x | pi* >: -2.835801\n"
     ]
    }
   ],
   "source": [
    "dipole_drv = vlx.ElectricDipoleIntegralsDriver()\n",
    "\n",
    "dipole_matrices = dipole_drv.compute(molecule, basis)\n",
    "x_ao = dipole_matrices.x_to_numpy()\n",
    "x_mo = np.matmul(C.T, np.matmul(x_ao, C))\n",
    "\n",
    "# factor of 2 due to spin-adaptation\n",
    "print(f'MO integral 2 * < pi | x | pi* >: {2 * x_mo[7,8] : .6f}')"
   ]
  },
  {
   "cell_type": "markdown",
   "id": "7486e488",
   "metadata": {},
   "source": [
    "## Electric-dipole polarizability\n",
    "The polarizability is determined from the linear response function according to\n",
    "\n",
    "$$\n",
    "\\alpha_{\\alpha\\beta}(\\omega) = -\n",
    "\\langle \\langle \\hat{\\mu}_\\alpha ; \\hat{\\mu}_\\beta \\rangle \\rangle_\\omega\n",
    "$$\n",
    "\n",
    "Here, $\\hat{\\Omega} = \\hat{\\mu}_\\alpha$ and $\\hat{V}^\\omega = - \\hat{\\mu}_\\beta$ are associated with the observable and perturbation, respectively.\n",
    "\n",
    "This linear response function is determined from the RPA matrix\n",
    "\n",
    "$$\n",
    "\\langle\\langle \\hat{\\mu}; \\hat{V}^\\omega \\rangle\\rangle =\n",
    "-{\\mu^{[1]}}^\\dagger\n",
    "\\Big(\n",
    "E^{[2]} - \\omega S^{[2]}\n",
    "\\Big)^{-1}\n",
    "V^{\\omega, [1]}\n",
    "$$\n",
    "\n",
    "In typical applications, the matrix dimension is large and instead of explicitly constructing the Hessian matrix, we solve the linear response equation with iterative techniques\n",
    "\n",
    "$$\n",
    "N(\\omega) =\n",
    "\\Big(\n",
    "E^{[2]} - \\omega S^{[2]}\n",
    "\\Big)^{-1}\n",
    "V^{\\omega,[1]}\n",
    "$$\n",
    "\n",
    "such that\n",
    "\n",
    "$$\n",
    "\\langle\\langle \\hat{\\mu}; \\hat{V}^\\omega \\rangle\\rangle =\n",
    "-{\\mu^{[1]}}^\\dagger N(\\omega)\n",
    "$$\n",
    "\n",
    "A reduced-space iterative algorithm for solving the linear response funciton is available from the `LinearResponseSolver` class object."
   ]
  },
  {
   "cell_type": "code",
   "execution_count": 213,
   "id": "7caed173",
   "metadata": {},
   "outputs": [],
   "source": [
    "lrs_drv = vlx.LinearResponseSolver(comm, ostream)\n",
    "lrs_out = lrs_drv.compute(molecule, basis, scf_drv.scf_tensors)"
   ]
  },
  {
   "cell_type": "markdown",
   "id": "eef2e660",
   "metadata": {},
   "source": [
    "The return result `lrs_out` is a dictonary with the values of the response functions provided from the key `response_functions`."
   ]
  },
  {
   "cell_type": "code",
   "execution_count": 214,
   "id": "88774c26",
   "metadata": {},
   "outputs": [
    {
     "data": {
      "text/plain": [
       "dict_keys(['response_functions', 'solutions'])"
      ]
     },
     "execution_count": 214,
     "metadata": {},
     "output_type": "execute_result"
    }
   ],
   "source": [
    "lrs_out.keys()"
   ]
  },
  {
   "cell_type": "code",
   "execution_count": 215,
   "id": "2c208891",
   "metadata": {},
   "outputs": [
    {
     "name": "stdout",
     "output_type": "stream",
     "text": [
      "alpha_xx(0):  32.985933\n",
      "alpha_yy(0):  19.268122\n",
      "alpha_zz(0):  7.201370\n"
     ]
    }
   ],
   "source": [
    "alpha_xx = -lrs_out['response_functions'][('x', 'x', 0)]\n",
    "alpha_yy = -lrs_out['response_functions'][('y', 'y', 0)] \n",
    "alpha_zz = -lrs_out['response_functions'][('z', 'z', 0)]\n",
    "\n",
    "print(f\"alpha_xx(0): {alpha_xx : .6f}\")\n",
    "print(f\"alpha_yy(0): {alpha_yy : .6f}\")\n",
    "print(f\"alpha_zz(0): {alpha_zz : .6f}\")"
   ]
  },
  {
   "cell_type": "markdown",
   "id": "e4d9f05d",
   "metadata": {},
   "source": [
    "The solution vectors (or *response vectors*) are available from the key solutions, so that we can also determine the the linear response function values from the multiplication of response vectors with property gradients."
   ]
  },
  {
   "cell_type": "code",
   "execution_count": 216,
   "id": "9c6c486c",
   "metadata": {},
   "outputs": [
    {
     "name": "stdout",
     "output_type": "stream",
     "text": [
      "alpha_xx(0):  32.985933\n",
      "alpha_yy(0):  19.268122\n",
      "alpha_zz(0):  7.201370\n"
     ]
    }
   ],
   "source": [
    "Nx = lrs_out['solutions'][('x', 0)]\n",
    "Ny = lrs_out['solutions'][('y', 0)]\n",
    "Nz = lrs_out['solutions'][('z', 0)]\n",
    "\n",
    "print(f\"alpha_xx(0): {np.dot(mu_x, Nx) : .6f}\")\n",
    "print(f\"alpha_yy(0): {np.dot(mu_y, Ny) : .6f}\")\n",
    "print(f\"alpha_zz(0): {np.dot(mu_z, Nz) : .6f}\")"
   ]
  },
  {
   "cell_type": "markdown",
   "id": "09c83f1f",
   "metadata": {},
   "source": [
    "In this example, the `LinearResponseSolver` was using its default settings for operators and frequencies, both of which can be changed. We change the value of the optical frequency from the default zero to 0.0656 a.u. with use of the dictionary `rsp_settings`."
   ]
  },
  {
   "cell_type": "code",
   "execution_count": 217,
   "id": "7ad56234",
   "metadata": {},
   "outputs": [
    {
     "name": "stdout",
     "output_type": "stream",
     "text": [
      "alpha_xx(w=0.0656):  34.018991\n",
      "alpha_yy(w=0.0656):  19.491344\n",
      "alpha_zz(w=0.0656):  7.244821\n"
     ]
    }
   ],
   "source": [
    "lrs_drv = vlx.LinearResponseSolver(comm, ostream)\n",
    "rsp_settings = {'frequencies': [0.0656]}\n",
    "method_settings = {} # Hartree-Fock is default\n",
    "lrs_drv.update_settings(rsp_settings, method_settings)\n",
    "\n",
    "lrs_out = lrs_drv.compute(molecule, basis, scf_drv.scf_tensors)\n",
    "\n",
    "alpha_xx = -lrs_out['response_functions'][('x', 'x', 0.0656)]\n",
    "alpha_yy = -lrs_out['response_functions'][('y', 'y', 0.0656)] \n",
    "alpha_zz = -lrs_out['response_functions'][('z', 'z', 0.0656)]\n",
    "\n",
    "print(f\"alpha_xx(w=0.0656): {alpha_xx : .6f}\")\n",
    "print(f\"alpha_yy(w=0.0656): {alpha_yy : .6f}\")\n",
    "print(f\"alpha_zz(w=0.0656): {alpha_zz : .6f}\")"
   ]
  },
  {
   "cell_type": "markdown",
   "id": "28ec2ef6",
   "metadata": {},
   "source": [
    "Alternatively, in our small example the matrices in the RPA equation ($E^{[2]}$ and $S^{[2]}$) have been formed explicitly and we can thus determine values of linear response functions by straightforward matrix inverse and multiplication."
   ]
  },
  {
   "cell_type": "code",
   "execution_count": 218,
   "id": "182f97e5",
   "metadata": {},
   "outputs": [
    {
     "name": "stdout",
     "output_type": "stream",
     "text": [
      "alpha_xx(w=0.0656):  34.018991\n",
      "alpha_yy(w=0.0656):  19.491344\n",
      "alpha_zz(w=0.0656):  7.244821\n"
     ]
    }
   ],
   "source": [
    "omega = 0.0656\n",
    "alpha_xx = np.dot(mu_x, np.matmul(np.linalg.inv(E2 - omega * S2), mu_x))\n",
    "alpha_yy = np.dot(mu_y, np.matmul(np.linalg.inv(E2 - omega * S2), mu_y))\n",
    "alpha_zz = np.dot(mu_z, np.matmul(np.linalg.inv(E2 - omega * S2), mu_z))\n",
    "\n",
    "print(f\"alpha_xx(w=0.0656): {alpha_xx : .6f}\")\n",
    "print(f\"alpha_yy(w=0.0656): {alpha_yy : .6f}\")\n",
    "print(f\"alpha_zz(w=0.0656): {alpha_zz : .6f}\")"
   ]
  },
  {
   "cell_type": "markdown",
   "id": "48954fd4",
   "metadata": {},
   "source": [
    "## UV/vis spectrum\n",
    "From linear response theory, we can also obtain excitation energies and transition moments. An iterative reduced-spece solution of the generlized eigenvalue equation is provided by the `LinearResponseEigenSolver` class object."
   ]
  },
  {
   "cell_type": "code",
   "execution_count": 315,
   "id": "66403d09",
   "metadata": {},
   "outputs": [],
   "source": [
    "lres_drv = vlx.LinearResponseEigenSolver(comm, ostream)\n",
    "rsp_settings = {'nstates': 1} # the (pi,pi*)-transition\n",
    "lres_drv.update_settings(rsp_settings, method_settings)\n",
    "\n",
    "lres_out = lres_drv.compute(molecule, basis, scf_drv.scf_tensors)"
   ]
  },
  {
   "cell_type": "code",
   "execution_count": 316,
   "id": "49d438f3",
   "metadata": {},
   "outputs": [
    {
     "data": {
      "text/plain": [
       "dict_keys(['eigenvalues', 'electric_transition_dipoles', 'velocity_transition_dipoles', 'magnetic_transition_dipoles', 'oscillator_strengths', 'rotatory_strengths', 'eigenvectors'])"
      ]
     },
     "execution_count": 316,
     "metadata": {},
     "output_type": "execute_result"
    }
   ],
   "source": [
    "lres_out.keys()"
   ]
  },
  {
   "cell_type": "code",
   "execution_count": 318,
   "id": "c4ae79ac",
   "metadata": {},
   "outputs": [
    {
     "name": "stdout",
     "output_type": "stream",
     "text": [
      "Excitation energy (a.u.): [0.291534]\n",
      "Transition moments (a.u.): [1.531492 0.       0.      ]\n",
      "Oscillator strength: [0.455855]\n"
     ]
    }
   ],
   "source": [
    "np.set_printoptions(precision = 6, suppress = True)\n",
    "print('Excitation energy (a.u.):', lres_out['eigenvalues'])\n",
    "print('Transition moments (a.u.):', lres_out['electric_transition_dipoles'][0])\n",
    "print('Oscillator strength:', lres_out['oscillator_strengths'])"
   ]
  },
  {
   "cell_type": "markdown",
   "id": "supreme-symposium",
   "metadata": {
    "slideshow": {
     "slide_type": "slide"
    }
   },
   "source": [
    "### Generlized eigenvalue equation\n",
    "We denote by $X_e$ the eigenvectors of the generalized eigenvalue equation\n",
    "\n",
    "\\begin{equation*}\n",
    "  E^{[2]} X_e = \\lambda_e S^{[2]} X_e, \\quad e = -n,\\ldots,-1,1,\\ldots,n ,\n",
    "\\end{equation*}\n",
    " \n",
    "where the matrix dimension is $2n$. We find the set of eigenvalues and eigenvectors by diagonalizing the non-Hermitian matrix $\\left(S^{[2]}\\right)^{-1} E^{[2]}$ according to\n",
    "\n",
    "\\begin{equation*}\n",
    "\\label{gen-eig}\n",
    "  X^{-1} \\left[ \\left(S^{[2]}\\right)^{-1} E^{[2]} \\right] X = \n",
    "  \\begin{bmatrix}\n",
    "    \\rule[-5pt]{0pt}{15pt}\n",
    "    \\rule{9pt}{0pt}\n",
    "    \\lambda & \\rule{3pt}{0pt} 0 \\rule{3pt}{0pt} \\\\\n",
    "    \\rule{3pt}{0pt}\n",
    "    0 & -\\lambda \\rule{3pt}{0pt} \\\\\n",
    "  \\end{bmatrix} ,\n",
    "\\end{equation*}\n",
    "\n",
    "where $\\lambda$ is a diagonal matrix of dimension $n$ collecting the eigenvalues with positive index and the columns of $X$ store the eigenvectors ($X$ is assumed to be nonsingular). This pairing of eigenvalues has its correspondence in the eigenvectors through\n",
    "\n",
    "\\begin{equation*}\n",
    "  X_e =\n",
    "  \\begin{pmatrix}\n",
    "    \\rule[-5pt]{0pt}{15pt}\n",
    "    Z_e \\\\\n",
    "    \\rule[-5pt]{0pt}{0pt}\n",
    "    Y_e^* \\\\\n",
    "  \\end{pmatrix}\n",
    "\\; \\mbox{with eigenvalue}\\; \\lambda_e\n",
    "; \\qquad\n",
    "  X_{-e} =\n",
    "  \\begin{pmatrix}\n",
    "    \\rule[-5pt]{0pt}{15pt}\n",
    "    Y_{e} \\\\\n",
    "    \\rule[-5pt]{0pt}{0pt}\n",
    "    Z_{e}^* \\\\\n",
    "  \\end{pmatrix} \n",
    "\\; \\mbox{with eigenvalue}\\; -\\!\\lambda_e .\n",
    "\\end{equation*}\n",
    "\n",
    "The matrix $X$ will therefore have the structure\n",
    "\n",
    "\\begin{equation*}\n",
    "\\label{X-struct}\n",
    "  X = \n",
    "  \\begin{bmatrix}\n",
    "    \\rule[-5pt]{0pt}{15pt}\n",
    "    \\rule{3pt}{0pt}\n",
    "    Z & \\rule{3pt}{0pt} Y \\rule{3pt}{0pt} \\\\\n",
    "    \\rule{8pt}{0pt}\n",
    "    Y^* & \\rule{3pt}{0pt} Z^* \\rule{3pt}{0pt} \\\\\n",
    "  \\end{bmatrix} .\n",
    "\\end{equation*}\n",
    "\n",
    "With an appropriate scaling of the eigenvectors $X_e$, the non-unitary matrix $X$ achieves a simultaneous diagonalization of the two non-commuting matrices $E^{[2]}$ and $S^{[2]}$ as\n",
    "\n",
    "\\begin{equation*}\n",
    "\\label{sim-diag}\n",
    "  X^\\dagger E^{[2]} X = \n",
    "  \\begin{bmatrix}\n",
    "    \\rule[-5pt]{0pt}{15pt}\n",
    "    \\rule{9pt}{0pt}\n",
    "    \\lambda & \\rule{3pt}{0pt} 0 \\rule{3pt}{0pt} \\\\\n",
    "    \\rule{3pt}{0pt}\n",
    "    0 & \\lambda \\rule{3pt}{0pt} \\\\\n",
    "  \\end{bmatrix} ; \\qquad\n",
    "  X^\\dagger S^{[2]} X =\n",
    "  \\begin{bmatrix}\n",
    "    \\rule[-5pt]{0pt}{15pt}\n",
    "    \\rule{8pt}{0pt}\n",
    "    I & \\rule{5pt}{0pt} 0 \\rule{3pt}{0pt} \\\\\n",
    "    \\rule{5pt}{0pt}\n",
    "    0 & -I \\rule{3pt}{0pt} \\\\\n",
    "  \\end{bmatrix} .\n",
    "\\end{equation*}\n",
    "\n",
    "For each pair of eigenvectors, the second equation involving the metric of the generalized eigenvalue equation defines which of the two that should be indexed with a positive index. We also emphasize that $X^\\dagger \\neq X^{-1}$ and for this reason the $X_e$'s are eigenvectors neither of $E^{[2]}$ nor of $S^{[2]}$, just as the $\\lambda_e$'s are not the eigenvalues of $E^{[2]}$.\n",
    "\n",
    "#### Excitation energies"
   ]
  },
  {
   "cell_type": "code",
   "execution_count": 319,
   "id": "prescribed-dominant",
   "metadata": {
    "slideshow": {
     "slide_type": "subslide"
    }
   },
   "outputs": [
    {
     "name": "stdout",
     "output_type": "stream",
     "text": [
      "Excitation energy (a.u.):  0.291534\n"
     ]
    }
   ],
   "source": [
    "eigs, X = np.linalg.eig(np.matmul(np.linalg.inv(S2), E2))\n",
    "\n",
    "# find the index position of the smallest positive eigenvalue\n",
    "# corresponding to the (pi,pi*)-transition\n",
    "idx = np.argmin(np.where(eigs>0, eigs, 999))\n",
    "\n",
    "print(f'Excitation energy (a.u.): {eigs[idx] : .6f}')"
   ]
  },
  {
   "cell_type": "markdown",
   "id": "integral-biotechnology",
   "metadata": {
    "slideshow": {
     "slide_type": "slide"
    }
   },
   "source": [
    "#### Transition moments\n",
    "Since $(\\Omega \\Lambda)^{-1} = \\Lambda^{-1} \\Omega^{-1}$, we can form the inverse of the RPA matrix as\n",
    "\n",
    "\\begin{equation}\n",
    "  \\left( E^{[2]} - \\omega S^{[2]} \\right)^{-1} =\n",
    "  X \\left[ X^\\dagger \\left( E^{[2]} - \\omega S^{[2]} \\right) X \\right]^{-1} X^\\dagger\n",
    "\\end{equation}\n",
    "\n",
    "which yields an expression for the linear response function that reads\n",
    "\n",
    "\\begin{eqnarray*}\n",
    "\\label{lrf-resolved}\n",
    "  \\langle\n",
    "  \\langle\n",
    "  \\hat{\\Omega}; \\hat{V}\n",
    "  \\rangle\n",
    "  \\rangle & = &\n",
    "  -\n",
    "  \\left[\\Omega^{[1]}\\right]^\\dagger \n",
    "  \\sum_{e=1}^n\n",
    "  \\left(\n",
    "  \\frac{\n",
    "    X_e\n",
    "    X^\\dagger_e\n",
    "    }{\n",
    "    \\lambda_e - \\hbar \\omega\n",
    "    }\n",
    "  +\n",
    "  \\frac{\n",
    "    X_e\n",
    "    X^\\dagger_e \n",
    "    }{\n",
    "    \\lambda_e + \\hbar \\omega\n",
    "    }\n",
    "  \\right) V^{\\omega,[1]} \n",
    "\\end{eqnarray*}\n",
    "\n",
    "This equation suggests that we identify the $\\lambda$-eigenvalues as excitation energies of the system and transition moments in the SCF approximation are identified as\n",
    "\n",
    "\\begin{equation*}\n",
    "\\label{tranmom}\n",
    "    \\langle f | \\hat{V} | 0 \\rangle =\n",
    "    X^\\dagger_f V^{\\omega,[1]}\n",
    "\\end{equation*}"
   ]
  },
  {
   "cell_type": "code",
   "execution_count": 320,
   "id": "middle-cowboy",
   "metadata": {
    "slideshow": {
     "slide_type": "fragment"
    }
   },
   "outputs": [
    {
     "name": "stdout",
     "output_type": "stream",
     "text": [
      "Transition moment (a.u.):  1.531506\n"
     ]
    }
   ],
   "source": [
    "Xf = X[:,idx]\n",
    "Xf =  Xf / np.sqrt(np.matmul(Xf.T,np.matmul(S2,Xf)))\n",
    "\n",
    "tmom = np.dot(Xf, V1)\n",
    "print(f'Transition moment (a.u.): {tmom : .6f}')"
   ]
  },
  {
   "cell_type": "markdown",
   "id": "mediterranean-trinidad",
   "metadata": {
    "slideshow": {
     "slide_type": "slide"
    }
   },
   "source": [
    "### Tamm--Dancoff approximation\n",
    "\n",
    "The Tamm--Dancoff approximation (TDA) corresponds to setting $B=0$ in the electronic Hessian and diagonalize matrix block $A$:\n",
    "\n",
    "\\begin{eqnarray}\n",
    "E^{[2]} & = &\n",
    "\t\\begin{pmatrix}\n",
    "    \\rule[-5pt]{0pt}{20pt}\n",
    "\t\\rule{5pt}{0pt}\n",
    "\tA & B \\rule{5pt}{0pt}\n",
    "\t\\\\\n",
    "    \\rule[-10pt]{0pt}{25pt}\n",
    "    \\rule{5pt}{0pt}    \n",
    "\tB^* & A^* \\\\\n",
    "\t\\end{pmatrix}\n",
    "\\end{eqnarray}\n",
    "\n",
    "The `TDAExciDriver` class object implements an iterative reduced-space TDA solver."
   ]
  },
  {
   "cell_type": "code",
   "execution_count": 322,
   "id": "66f5fd56",
   "metadata": {},
   "outputs": [
    {
     "name": "stdout",
     "output_type": "stream",
     "text": [
      "TDA excitation energy (a.u.): [0.311438]\n"
     ]
    }
   ],
   "source": [
    "tda_drv = vlx.TDAExciDriver(comm, ostream)\n",
    "tda_drv.update_settings(rsp_settings, method_settings)\n",
    "tda_results = tda_drv.compute(molecule, basis, scf_drv.scf_tensors)\n",
    "tda_eig_vals = tda_results[\"eigenvalues\"]\n",
    "\n",
    "print(f'TDA excitation energy (a.u.):', tda_eig_vals)"
   ]
  },
  {
   "cell_type": "markdown",
   "id": "bf1e3629",
   "metadata": {},
   "source": [
    "Alternatively, given the small matrix dimension in our numerical example, we can perform a direct matrix diagonalization of the Hermitial $A$-block with use of NumPy routine `linalg.eigh`."
   ]
  },
  {
   "cell_type": "code",
   "execution_count": 323,
   "id": "difficult-trouble",
   "metadata": {
    "slideshow": {
     "slide_type": "fragment"
    }
   },
   "outputs": [
    {
     "name": "stdout",
     "output_type": "stream",
     "text": [
      "TDA excitation energy (a.u.):  0.311438\n"
     ]
    }
   ],
   "source": [
    "# factor of 2 due to spin-adaptation\n",
    "A = E2[0:n, 0:n] / 2\n",
    "\n",
    "eigs_TDA, X_TDA = np.linalg.eigh(A)\n",
    "print(f'TDA excitation energy (a.u.): {np.min(eigs_TDA) : .6f}')"
   ]
  },
  {
   "cell_type": "markdown",
   "id": "alive-transcription",
   "metadata": {
    "slideshow": {
     "slide_type": "slide"
    }
   },
   "source": [
    "### Natural transition orbitals\n",
    "The characterization of electronic transitions in the TDHF and TDDFT approximations is not always straightforward as due to primarily two reasons:\n",
    "\n",
    "- Excitation vectors contain elements associated to excitations as well as de-excitations, and the interpretation of the latter part is not obvious\n",
    "- If not using minimal basis sets, the virtual orbital space is typically large and excitation vectors can have a large number of significant elements\n",
    "\n",
    "It is therefore receommended to instead use the concept of *natural transition orbitals* (NTOs) for the characterization of electronic transitions.\n",
    "\n",
    "Collecting occupied and unoccupied (real) MOs as vectors\n",
    "\n",
    "$$\n",
    "\\bar{\\phi}_\\mathrm{occ} = (\\ldots, \\phi_i(\\mathbf{r}),  \\ldots)^T; \\quad\n",
    "\\bar{\\phi}_\\mathrm{unocc} = (\\ldots, \\phi_s(\\mathbf{r}),  \\ldots)^T\n",
    "$$\n",
    "\n",
    "and scattering the (real) RPA eigenvector into a rectangular transition matrix $T$ of dimension $n_\\mathrm{occ} \\times n_\\mathrm{unocc}$\n",
    "\n",
    "$$\n",
    "T_{f, is} = Z_{f, is} - Y_{f, is}\n",
    "$$\n",
    "\n",
    "we can write the transition moment as\n",
    "\n",
    "\\begin{equation*}\n",
    "    \\langle f | \\hat{V}^\\omega | 0 \\rangle =\n",
    "    X^T_f V^{\\omega,[1]} = \n",
    "    \\big(\n",
    "    Z_f^T, Y_f^T\n",
    "    \\big)\n",
    "    \\begin{pmatrix}\n",
    "    g\\\\-g\n",
    "    \\end{pmatrix}\n",
    "    =\n",
    "    \\big(\n",
    "    Z_f - Y_f\n",
    "    \\big)^T\n",
    "    g\n",
    "    =\n",
    "    \\int\n",
    "    \\hat{\\mu}_\\alpha\n",
    "    \\bar{\\phi}_\\mathrm{occ}^T\n",
    "    T\n",
    "    \\bar{\\phi}_\\mathrm{unocc} \\;\n",
    "    d^3\\mathbf{r}\n",
    "\\end{equation*}\n",
    "\n",
    "By means of a singular value decomposition (SVD), we can factorize the transition matrix\n",
    "\n",
    "$$\n",
    "T = U \\Lambda V^T\n",
    "$$\n",
    "\n",
    "where matrices $U$ and $V$ are square unitary and $\\Lambda$ is rectangular diagonal\n",
    "\n",
    "$$\n",
    "\\Lambda =\n",
    "\\begin{bmatrix}\n",
    " \\lambda_1 & 0 & \\cdots & 0 & 0 & \\cdots & 0 \\\\\n",
    " 0 & \\lambda_2 & \\cdots & 0 & 0 & \\cdots & 0 \\\\\n",
    " \\vdots & \\vdots & \\ddots & \\vdots & \\vdots & \\ddots & \\vdots \\\\\n",
    " 0 & 0 & \\cdots & \\lambda_\\mathrm{nocc} & 0 & \\cdots & 0 \\\\\n",
    "\\end{bmatrix}\n",
    "$$\n",
    "\n",
    "The SVD transformation matrices define the pairs of hole and electron NTOs\n",
    "\n",
    "$$\n",
    "\\bar{\\phi}_\\mathrm{h}^T = \\bar{\\phi}_\\mathrm{occ}^T U; \\quad\n",
    "\\bar{\\phi}_\\mathrm{e} = V^T \\bar{\\phi}_\\mathrm{unocc}\n",
    "$$\n",
    "\n",
    "such that\n",
    "\n",
    "\\begin{equation*}\n",
    "    \\langle f | \\hat{V}^\\omega | 0 \\rangle =\n",
    "    \\int\n",
    "    \\hat{\\mu}_\\alpha\n",
    "    \\bar{\\phi}_\\mathrm{h}^T\n",
    "    \\Lambda\n",
    "    \\bar{\\phi}_\\mathrm{e} \\;\n",
    "    d^3\\mathbf{r}\n",
    "\\end{equation*}\n",
    "\n",
    "The diagonal elements of $\\Lambda$ are interpreted as weights in the transition involving electron transfer from the  hole to the electron orbitals.\n",
    "\n",
    "```{note}\n",
    "There are $n_\\mathrm{occ}$ pairs of hole and electron orbitals. The remainng electron orbitals plays no role in the evaluation of the expression for the transition moment.\n",
    "```\n",
    "\n",
    "#### Numerical example\n",
    "Let us now perform an NTP analysis the $\\pi\\pi^*$-transition of ethylene. We first carry out an SVD to get the $\\lambda$-weights."
   ]
  },
  {
   "cell_type": "code",
   "execution_count": 241,
   "id": "standing-afghanistan",
   "metadata": {
    "slideshow": {
     "slide_type": "subslide"
    }
   },
   "outputs": [
    {
     "name": "stdout",
     "output_type": "stream",
     "text": [
      "Lambda diagonal elements:\n",
      " [0.641983 0.155708 0.076962 0.06892  0.066587 0.045278 0.000694 0.000541]\n"
     ]
    }
   ],
   "source": [
    "Zf = Xf[:n]\n",
    "Yf = Xf[n:]\n",
    "T = np.reshape(Zf - Yf, (nocc,nvirt))\n",
    "U, L, VT = np.linalg.svd(T)\n",
    "\n",
    "print('Lambda diagonal elements:\\n', L)"
   ]
  },
  {
   "cell_type": "markdown",
   "id": "e855f4f3",
   "metadata": {},
   "source": [
    "We see that this transition is dominated by electron transfer from the first hole orbital, $\\phi_\\mathrm{h}^1$, to the first electron orbital, $\\phi_\\mathrm{e}^1$, that are expressed as linear combinations of the occupied and unoccupied orbitals, respectively:\n",
    "\n",
    "\\begin{eqnarray*}\n",
    "\\phi_\\mathrm{h}^1 & = &  \\sum_{i}^\\mathrm{occ} \\phi_i U_{i,1} \\\\\n",
    "\\phi_\\mathrm{e}^1 & = &  \\sum_{s}^\\mathrm{unocc} \\phi_s V^T_{1,s}\n",
    "\\end{eqnarray*}\n",
    "\n",
    "Inspecting the elements of the first column of $U$ and the first row of $V^T$ confirms that this transition is well characterized by a simple HOMO--LUMO excitation."
   ]
  },
  {
   "cell_type": "code",
   "execution_count": 247,
   "id": "554dcc0e",
   "metadata": {},
   "outputs": [
    {
     "name": "stdout",
     "output_type": "stream",
     "text": [
      "Hole orbital no. 1: [ 0. -0. -0. -0. -0. -0. -0. -1.]\n",
      "Electron orbital no. 1: [-1.   -0.   -0.    0.    0.   -0.   -0.    0.    0.   -0.04 -0.   -0.   -0.   -0.    0.   -0.    0.    0.  ]\n"
     ]
    }
   ],
   "source": [
    "np.set_printoptions(precision = 2, suppress = True, linewidth = 170)\n",
    "print('Hole orbital no. 1:', U[:,0])\n",
    "print('Electron orbital no. 1:', VT[0,:])"
   ]
  },
  {
   "cell_type": "markdown",
   "id": "4be175e6",
   "metadata": {},
   "source": [
    "## Complex polarizability\n",
    "The complex polarizability is determined from the linear response function according to {cite}`Norman2018`\n",
    "\n",
    "$$\n",
    "\\alpha_{\\alpha\\beta}(\\omega) = -\n",
    "\\langle \\langle \\hat{\\mu}_\\alpha ; \\hat{\\mu}_\\beta \\rangle \\rangle_\\omega^\\gamma\n",
    "$$\n",
    "\n",
    "Here, the linear response equation takes the form\n",
    "\n",
    "$$\n",
    "\\langle\\langle \\hat{\\mu}; \\hat{\\mu} \\rangle\\rangle =\n",
    "-{\\mu^{[1]}}^\\dagger\n",
    "\\Big(\n",
    "E^{[2]} - (\\omega + i\\gamma) S^{[2]}\n",
    "\\Big)^{-1}\n",
    "\\mu^{[1]}\n",
    "$$\n",
    "\n",
    "where the phenomenological damping parameter $\\gamma$ is associated with the inverse of the finite lifetime of the excited states in the molecular system. A polarizability calculated in this manner is physically sound for all optical frequencies, be it in the nonresonance or resonence regions of the spectrum. The real and imaginary parts of such complex response functions are related by the Kramers--Kronig relations and typically associated with separate spectroscopies and/or physical phenomena. In the case of the electric-dipole polarizability, the real and imaginary parts are associated with light scattering and absorption, respectively.\n",
    "\n",
    "We can determine complex response functions by means of the `ComplexResponse` class object."
   ]
  },
  {
   "cell_type": "code",
   "execution_count": 312,
   "id": "6e2433b2",
   "metadata": {},
   "outputs": [],
   "source": [
    "cpp_drv = vlx.ComplexResponse(comm, ostream)\n",
    "\n",
    "freqs = np.arange(0.26, 0.33, 0.0025)\n",
    "rsp_settings = {'frequencies': freqs}\n",
    "cpp_drv.update_settings(rsp_settings, method_settings)\n",
    "cpp_out = cpp_drv.compute(molecule, basis, scf_drv.scf_tensors)\n",
    "\n",
    "alpha_xx = []\n",
    "for freq in freqs:\n",
    "    alpha_xx.append(-cpp_out['response_functions'][('x', 'x', freq)])\n",
    "\n",
    "alpha_xx = np.array(alpha_xx)"
   ]
  },
  {
   "cell_type": "code",
   "execution_count": 311,
   "id": "91492dda",
   "metadata": {},
   "outputs": [
    {
     "data": {
      "image/png": "[encoded data removed]",
      "text/plain": [
       "<Figure size 576x288 with 1 Axes>"
      ]
     },
     "metadata": {
      "needs_background": "light"
     },
     "output_type": "display_data"
    }
   ],
   "source": [
    "import matplotlib.pyplot as plt\n",
    "from scipy.interpolate import interp1d\n",
    "\n",
    "fig = plt.figure(1,figsize=(8,4))\n",
    "\n",
    "x = np.arange(0.26, 0.33, 0.001)\n",
    "yR = interp1d(freqs, alpha_xx.real, kind = 'cubic')\n",
    "yI = interp1d(freqs, alpha_xx.imag, kind = 'cubic')\n",
    "\n",
    "plt.plot(x, yI(x), 'b-', x, yR(x), 'r-')\n",
    "plt.plot(freqs, alpha_xx.real, 'ko', freqs, alpha_xx.imag, 'ko')\n",
    "\n",
    "plt.legend(['Imag', 'Real'])\n",
    "\n",
    "plt.axhline(y = 0, color = '0.5', linewidth = 0.7, dashes = [3,1,3,1])\n",
    "plt.setp(plt.gca(),xlim=(0.26,0.33))\n",
    "\n",
    "plt.ylabel('Polarizability (a.u.)')\n",
    "plt.xlabel('Frequency (a.u.)')\n",
    "\n",
    "plt.show()"
   ]
  }
 ],
 "metadata": {
  "kernelspec": {
   "display_name": "Python 3",
   "language": "python",
   "name": "python3"
  },
  "language_info": {
   "codemirror_mode": {
    "name": "ipython",
    "version": 3
   },
   "file_extension": ".py",
   "mimetype": "text/x-python",
   "name": "python",
   "nbconvert_exporter": "python",
   "pygments_lexer": "ipython3",
   "version": "3.9.5"
  }
 },
 "nbformat": 4,
 "nbformat_minor": 5
}
