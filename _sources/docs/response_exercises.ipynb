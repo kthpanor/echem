{
 "cells": [
  {
   "cell_type": "markdown",
   "metadata": {},
   "source": [
    "# Exercises\n",
    "\n",
    "```{note}\n",
    "This needs to be worked on.\n",
    "```\n",
    "\n",
    "## 3. TDDFT\n",
    "\n",
    "### 3.1: Functional dependence\n",
    "\n",
    "Consider the spectra of cynamic acid (refer to Harbach and Dreuw) for different functionals:\n",
    "- BLYP\n",
    "- B3LYP\n",
    "- BHandHLYP\n",
    "- CAM-B3LYP\n",
    "- TDHF\n",
    "\n",
    "Can use a small basis set such as 6-31G*. Reference spectra from ADC(2). Provide structure here.\n",
    "\n",
    "### 3.2: Charge-transfer\n",
    "\n",
    "Study energies as a function of dimer distance, seeing incorrect long-range behaviour - see [this paper](https://aip.scitation.org/doi/10.1063/1.1590951). \n",
    "- BLYP\n",
    "- B3LYP\n",
    "- BHandHLYP\n",
    "- CAM-B3LYP\n",
    "- TDHF\n",
    "\n",
    "Provide xyz, reference with ADC(2). Spectra from 6-31G*, probably.\n",
    "\n",
    "### 3.3: Potential energy surfaces\n",
    "\n",
    "Influence from CT. Twisted molecule. [This paper.](https://pubs.acs.org/doi/10.1021/ct1001973)"
   ]
  },
  {
   "cell_type": "markdown",
   "metadata": {},
   "source": [
    "## Solutions\n",
    "\n",
    "### 3.1: Functional dependence\n",
    "\n",
    "```{toggle}\n",
    "Will see spectrum shifts, but shape is about the same.\n",
    "```\n",
    "\n",
    "### 3.2: Charge-transfer\n",
    "\n",
    "```{toggle}\n",
    "See clear trends.\n",
    "```\n",
    "\n",
    "### 3.3: Potential energy surfaces\n",
    "\n",
    "```{toggle}\n",
    "Some results.\n",
    "```"
   ]
  }
 ],
 "metadata": {
  "celltoolbar": "Tags",
  "kernelspec": {
   "display_name": "Python 3 (ipykernel)",
   "language": "python",
   "name": "python3"
  },
  "language_info": {
   "codemirror_mode": {
    "name": "ipython",
    "version": 3
   },
   "file_extension": ".py",
   "mimetype": "text/x-python",
   "name": "python",
   "nbconvert_exporter": "python",
   "pygments_lexer": "ipython3",
   "version": "3.9.7"
  }
 },
 "nbformat": 4,
 "nbformat_minor": 4
}
