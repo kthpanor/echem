{
 "cells": [
  {
   "cell_type": "markdown",
   "id": "157173ce-7d9d-4dd0-8dbd-366b8c8c19e6",
   "metadata": {
    "editable": true,
    "slideshow": {
     "slide_type": ""
    },
    "tags": []
   },
   "source": [
    "(sec:esp_charges)=\n",
    "# ESP charges\n",
    "\n",
    "Let us consider a molecular system with $M$ nuclei and an electron charge distribution described by the one-particle density matrix $D$.\n",
    "\n",
    "Our goal is to represent the quantum mechanical electrostatic potential\n",
    "\n",
    "\\begin{equation*}\n",
    "V(\\mathbf{r}) = \n",
    "\\sum_{A=1}^M\n",
    "\\frac{Z_A e}{4\\pi\\varepsilon_0 |\\mathbf{r}-\\mathrm{\\textbf{R}}_A|} - e\n",
    "\\sum_{\\alpha,\\beta}\n",
    "D_{\\alpha\\beta}\n",
    "\\int \n",
    "\\frac{\n",
    "\\phi_\\alpha^*(\\mathbf{r}')\\phi_\\beta(\\mathbf{r}')\n",
    "}{\n",
    "4\\pi\\varepsilon_0\n",
    "|\\mathbf{r}-\\mathbf{r}'|\n",
    "}\n",
    "d^3\\mathbf{r}'\n",
    "\\end{equation*}\n",
    "\n",
    "with a classical potential associated with a set of atomic partial charges known as the electrostatic potential (ESP) charges\n",
    "\n",
    "\\begin{equation*}\n",
    "\\tilde{V}(\\mathbf{r}) = \n",
    "\\sum_{A=1}^M\n",
    "\\frac{\n",
    "q_A\n",
    "}{\n",
    "4\\pi\\varepsilon_0\n",
    "|\\mathbf{r}-\\textbf{R}_A|\n",
    "}\n",
    "\\end{equation*}"
   ]
  },
  {
   "cell_type": "markdown",
   "id": "ea8b9790-fe0b-473e-b909-ecc24eb8b70e",
   "metadata": {
    "editable": true,
    "slideshow": {
     "slide_type": ""
    },
    "tags": []
   },
   "source": [
    "There is of course no unique way of doing so. The Merz–Kollman (MK) scheme {cite}`Singh1984, Besler1990` minimizes the squared norm difference between these two potentials evaluated on a set of grid points in the solvent-accessible region of the molecule with respect to variations in the partial charges and a constraint of a conservation of the total molecular charge, $Q$. The grid points at positions $\\mathbf{r}_a$ are distributed on successive layers of scaled van der Waals surfaces, and the default is to introduce four layers associated with scaling factors of 1.4, 1.6, 1.8, and 2.0.\n",
    "\n",
    "To achieve this minimization, a Lagrangian is defined\n",
    "\n",
    "$$\n",
    "L(\\{q_A\\},\\lambda) = \\chi_{\\mathrm{esp}}^2 - \n",
    "2 \\lambda \n",
    "\\Big(\n",
    "\\sum_{A=1}^M q_A -Q\n",
    "\\Big)\n",
    "$$\n",
    "\n",
    "where\n",
    "\n",
    "\\begin{equation*}\n",
    "\\chi_{\\mathrm{esp}}^2 = \\sum_a \n",
    "\\big[ \n",
    "V(\\mathbf{r}_a) - \\tilde{V}(\\mathbf{r}_a) \n",
    "\\big]^2\n",
    "\\end{equation*}\n",
    "\n",
    "Finding the stationary point of this Lagrangian results in the following equation from which the ESP charges are obtained\n",
    "\n",
    "\\begin{equation*}\n",
    "\\begin{pmatrix}\n",
    "A_{11} &  \\cdots & A_{1M} & 1 \\\\\n",
    "\\vdots &  \\ddots & \\vdots & 1 \\\\\n",
    "A_{M1} &  \\cdots & A_{MM} & 1 \\\\\n",
    "1 & \\cdots & 1 & 0 \\\\\n",
    "\\end{pmatrix}\n",
    "\\begin{pmatrix}\n",
    "q_1\\\\\n",
    "\\vdots \\\\\n",
    "q_M \\\\\n",
    "\\lambda \\\\\n",
    "\\end{pmatrix}\n",
    "=\n",
    "\\begin{pmatrix}\n",
    "b_1\\\\\n",
    "\\vdots \\\\\n",
    "b_M \\\\\n",
    "Q \\\\\n",
    "\\end{pmatrix}\n",
    "\\end{equation*}\n",
    "\n",
    "where\n",
    "\n",
    "\\begin{equation*}\n",
    "A_{IJ} =\n",
    "\\frac{1}{4\\pi\\varepsilon_0}\n",
    "\\sum_{a} \\frac{1}{r_{aI}r_{aJ}} ;\n",
    "\\qquad\n",
    "r_{aI} =\n",
    "|\\mathbf{r}_a - \\mathbf{R}_I |\n",
    "\\end{equation*}\n",
    "\n",
    "and\n",
    "\n",
    "\\begin{equation*}\n",
    "b_I = \\sum_{a} \\frac{V(\\mathbf{r}_a)}{r_{aI}}\n",
    "\\end{equation*}"
   ]
  },
  {
   "cell_type": "markdown",
   "id": "99e8beb5-b50f-4862-81fc-4ad44dfaf9d1",
   "metadata": {
    "editable": true,
    "slideshow": {
     "slide_type": ""
    },
    "tags": []
   },
   "source": [
    "The MK scheme is implemented in VeloxChem. Added to Lagrangian presented above, it also offers a means to add constraints to require charges of equivalent atoms to be equal. \n",
    "\n",
    "We will use this implementation to determine the ESP charges of methanol at the Hartree–Fock/6-31G(d) level of theory. The hydrogens of the methyl group will be required to have identical charge."
   ]
  },
  {
   "cell_type": "code",
   "execution_count": 1,
   "id": "1d9bccd2-c23c-48ec-b22c-60bd4dff8015",
   "metadata": {
    "editable": true,
    "slideshow": {
     "slide_type": ""
    },
    "tags": [
     "hide-input"
    ]
   },
   "outputs": [],
   "source": [
    "methanol_xyz = \"\"\"6\n",
    "\n",
    "  H      1.2001      0.0363      0.8431\n",
    "  C      0.7031      0.0083     -0.1305\n",
    "  H      0.9877      0.8943     -0.7114\n",
    "  H      1.0155     -0.8918     -0.6742\n",
    "  O     -0.6582     -0.0067      0.1730\n",
    "  H     -1.1326     -0.0311     -0.6482\n",
    "\"\"\""
   ]
  },
  {
   "cell_type": "code",
   "execution_count": 2,
   "id": "67336802-d3c0-494d-8fc3-8ef7f7b2338c",
   "metadata": {
    "editable": true,
    "slideshow": {
     "slide_type": ""
    },
    "tags": [
     "remove-input"
    ]
   },
   "outputs": [
    {
     "data": {
      "application/3dmoljs_load.v0": "<div id=\"3dmolviewer_170135747694141\"  style=\"position: relative; width: 300px; height: 200px;\">\n        <p id=\"3dmolwarning_170135747694141\" style=\"background-color:#ffcccc;color:black\">You appear to be running in JupyterLab (or JavaScript failed to load for some other reason).  You need to install the 3dmol extension: <br>\n        <tt>jupyter labextension install jupyterlab_3dmol</tt></p>\n        </div>\n<script>\n\nvar loadScriptAsync = function(uri){\n  return new Promise((resolve, reject) => {\n    //this is to ignore the existence of requirejs amd\n    var savedexports, savedmodule;\n    if (typeof exports !== 'undefined') savedexports = exports;\n    else exports = {}\n    if (typeof module !== 'undefined') savedmodule = module;\n    else module = {}\n\n    var tag = document.createElement('script');\n    tag.src = uri;\n    tag.async = true;\n    tag.onload = () => {\n        exports = savedexports;\n        module = savedmodule;\n        resolve();\n    };\n  var firstScriptTag = document.getElementsByTagName('script')[0];\n  firstScriptTag.parentNode.insertBefore(tag, firstScriptTag);\n});\n};\n\nif(typeof $3Dmolpromise === 'undefined') {\n$3Dmolpromise = null;\n  $3Dmolpromise = loadScriptAsync('https://cdnjs.cloudflare.com/ajax/libs/3Dmol/2.0.4/3Dmol-min.js');\n}\n\nvar viewer_170135747694141 = null;\nvar warn = document.getElementById(\"3dmolwarning_170135747694141\");\nif(warn) {\n    warn.parentNode.removeChild(warn);\n}\n$3Dmolpromise.then(function() {\nviewer_170135747694141 = $3Dmol.createViewer(document.getElementById(\"3dmolviewer_170135747694141\"),{backgroundColor:\"white\"});\nviewer_170135747694141.zoomTo();\n\tviewer_170135747694141.addModel(\"6\\n\\n  H      1.2001      0.0363      0.8431\\n  C      0.7031      0.0083     -0.1305\\n  H      0.9877      0.8943     -0.7114\\n  H      1.0155     -0.8918     -0.6742\\n  O     -0.6582     -0.0067      0.1730\\n  H     -1.1326     -0.0311     -0.6482\\n\",\"xyz\");\n\tviewer_170135747694141.setStyle({\"stick\": {}});\nviewer_170135747694141.render();\n});\n</script>",
      "text/html": [
       "<div id=\"3dmolviewer_170135747694141\"  style=\"position: relative; width: 300px; height: 200px;\">\n",
       "        <p id=\"3dmolwarning_170135747694141\" style=\"background-color:#ffcccc;color:black\">You appear to be running in JupyterLab (or JavaScript failed to load for some other reason).  You need to install the 3dmol extension: <br>\n",
       "        <tt>jupyter labextension install jupyterlab_3dmol</tt></p>\n",
       "        </div>\n",
       "<script>\n",
       "\n",
       "var loadScriptAsync = function(uri){\n",
       "  return new Promise((resolve, reject) => {\n",
       "    //this is to ignore the existence of requirejs amd\n",
       "    var savedexports, savedmodule;\n",
       "    if (typeof exports !== 'undefined') savedexports = exports;\n",
       "    else exports = {}\n",
       "    if (typeof module !== 'undefined') savedmodule = module;\n",
       "    else module = {}\n",
       "\n",
       "    var tag = document.createElement('script');\n",
       "    tag.src = uri;\n",
       "    tag.async = true;\n",
       "    tag.onload = () => {\n",
       "        exports = savedexports;\n",
       "        module = savedmodule;\n",
       "        resolve();\n",
       "    };\n",
       "  var firstScriptTag = document.getElementsByTagName('script')[0];\n",
       "  firstScriptTag.parentNode.insertBefore(tag, firstScriptTag);\n",
       "});\n",
       "};\n",
       "\n",
       "if(typeof $3Dmolpromise === 'undefined') {\n",
       "$3Dmolpromise = null;\n",
       "  $3Dmolpromise = loadScriptAsync('https://cdnjs.cloudflare.com/ajax/libs/3Dmol/2.0.4/3Dmol-min.js');\n",
       "}\n",
       "\n",
       "var viewer_170135747694141 = null;\n",
       "var warn = document.getElementById(\"3dmolwarning_170135747694141\");\n",
       "if(warn) {\n",
       "    warn.parentNode.removeChild(warn);\n",
       "}\n",
       "$3Dmolpromise.then(function() {\n",
       "viewer_170135747694141 = $3Dmol.createViewer(document.getElementById(\"3dmolviewer_170135747694141\"),{backgroundColor:\"white\"});\n",
       "viewer_170135747694141.zoomTo();\n",
       "\tviewer_170135747694141.addModel(\"6\\n\\n  H      1.2001      0.0363      0.8431\\n  C      0.7031      0.0083     -0.1305\\n  H      0.9877      0.8943     -0.7114\\n  H      1.0155     -0.8918     -0.6742\\n  O     -0.6582     -0.0067      0.1730\\n  H     -1.1326     -0.0311     -0.6482\\n\",\"xyz\");\n",
       "\tviewer_170135747694141.setStyle({\"stick\": {}});\n",
       "viewer_170135747694141.render();\n",
       "});\n",
       "</script>"
      ]
     },
     "metadata": {},
     "output_type": "display_data"
    }
   ],
   "source": [
    "import py3Dmol as p3d\n",
    "\n",
    "viewer = p3d.view(width=300, height=200)\n",
    "\n",
    "viewer.addModel(methanol_xyz, \"xyz\")\n",
    "viewer.setStyle({\"stick\": {}})\n",
    "\n",
    "viewer.show()"
   ]
  },
  {
   "cell_type": "code",
   "execution_count": 3,
   "id": "42c4aa09-1502-4dfe-8f0c-04114de3418d",
   "metadata": {
    "editable": true,
    "scrolled": true,
    "slideshow": {
     "slide_type": ""
    },
    "tags": [
     "remove-output"
    ]
   },
   "outputs": [
    {
     "name": "stdout",
     "output_type": "stream",
     "text": [
      "* Warning * Environment variable OMP_NUM_THREADS not set.\n",
      "* Warning * Setting OMP_NUM_THREADS to 6.\n"
     ]
    }
   ],
   "source": [
    "import veloxchem as vlx"
   ]
  },
  {
   "cell_type": "markdown",
   "id": "254d4282-ebc9-4e14-ade3-769f91ea7504",
   "metadata": {
    "editable": true,
    "slideshow": {
     "slide_type": ""
    },
    "tags": []
   },
   "source": [
    "First, we determine the reference state of the system."
   ]
  },
  {
   "cell_type": "code",
   "execution_count": 4,
   "id": "571bf56f-b8a8-465e-bfe8-efd90be9dbad",
   "metadata": {
    "editable": true,
    "scrolled": true,
    "slideshow": {
     "slide_type": ""
    },
    "tags": [
     "remove-output"
    ]
   },
   "outputs": [],
   "source": [
    "molecule = vlx.Molecule.read_xyz_string(methanol_xyz)\n",
    "basis = vlx.MolecularBasis.read(molecule, \"6-31G*\", ostream=None)\n",
    "\n",
    "scf_drv = vlx.ScfRestrictedDriver()\n",
    "scf_drv.ostream.mute()\n",
    "\n",
    "scf_results = scf_drv.compute(molecule, basis)"
   ]
  },
  {
   "cell_type": "markdown",
   "id": "216d244a",
   "metadata": {
    "editable": true,
    "slideshow": {
     "slide_type": ""
    },
    "tags": []
   },
   "source": [
    "Second, we calculate ESP charges with the `compute` method of the `RespChargesDriver` class."
   ]
  },
  {
   "cell_type": "code",
   "execution_count": 5,
   "id": "9d281182-4f57-4d71-b55d-0187af50ec7d",
   "metadata": {
    "editable": true,
    "scrolled": true,
    "slideshow": {
     "slide_type": ""
    },
    "tags": [
     "hide-output",
     "output_scroll"
    ]
   },
   "outputs": [
    {
     "name": "stdout",
     "output_type": "stream",
     "text": [
      "                                                                                                                          \n",
      "                                                RESP Charges Driver Setup                                                 \n",
      "                                               ===========================                                                \n",
      "                                                                                                                          \n",
      "                                         Number of Conformers         :  1                                                \n",
      "                                         Number of Layers             :  4                                                \n",
      "                                         Points per Square Angstrom   :  1.0                                              \n",
      "                                         Total Number of Grid Points  :  420                                              \n",
      "                                                                                                                          \n",
      "                                                 Merz-Kollman ESP Charges                                                 \n",
      "                                                --------------------------                                                \n",
      "                                                                                                                          \n",
      "                                              No.   Atom      Charge (a.u.)                                               \n",
      "                                             -------------------------------                                              \n",
      "                                                1     H         0.023220                                                  \n",
      "                                                2     C         0.148458                                                  \n",
      "                                                3     H         0.023220                                                  \n",
      "                                                4     H         0.023220                                                  \n",
      "                                                5     O        -0.594785                                                  \n",
      "                                                6     H         0.376669                                                  \n",
      "                                             -------------------------------                                              \n",
      "                                               Total Charge  :  0.000000                                                  \n",
      "                                                                                                                          \n",
      "                                                       Fit Quality                                                        \n",
      "                                                      -------------                                                       \n",
      "                                       Relative Root-Mean-Square Error  :  0.180034                                       \n",
      "                                                                                                                          \n",
      "                                       Reference:                                                                         \n",
      "                                       J. Comput. Chem. 1984, 5, 129-145.                                                 \n",
      "                                                                                                                          \n"
     ]
    }
   ],
   "source": [
    "esp_drv = vlx.RespChargesDriver()\n",
    "\n",
    "esp_drv.equal_charges = \"1=3, 1=4\"\n",
    "\n",
    "esp_charges = esp_drv.compute(molecule, basis, scf_results, \"esp\")"
   ]
  },
  {
   "cell_type": "markdown",
   "id": "acb9eb81-2927-4ed6-900f-1bf58dd26980",
   "metadata": {
    "editable": true,
    "slideshow": {
     "slide_type": ""
    },
    "tags": []
   },
   "source": [
    "Third, we print out the results."
   ]
  },
  {
   "cell_type": "code",
   "execution_count": 6,
   "id": "f90a917b",
   "metadata": {
    "editable": true,
    "slideshow": {
     "slide_type": ""
    },
    "tags": []
   },
   "outputs": [
    {
     "name": "stdout",
     "output_type": "stream",
     "text": [
      "Atom      ESP charge\n",
      "--------------------\n",
      "H           0.023220\n",
      "C           0.148458\n",
      "H           0.023220\n",
      "H           0.023220\n",
      "O          -0.594785\n",
      "H           0.376669\n",
      "--------------------\n",
      "Total:      0.000000\n"
     ]
    }
   ],
   "source": [
    "print(\"Atom      ESP charge\")\n",
    "\n",
    "print(20 * \"-\")\n",
    "\n",
    "for label, esp_charge in zip(molecule.get_labels(), esp_charges):\n",
    "\n",
    "    print(f\"{label :s} {esp_charge : 18.6f}\")\n",
    "\n",
    "print(20 * \"-\")\n",
    "\n",
    "print(f\"Total: {esp_charges.sum() : 13.6f}\")"
   ]
  }
 ],
 "metadata": {
  "celltoolbar": "Tags",
  "kernelspec": {
   "display_name": "Python 3 (ipykernel)",
   "language": "python",
   "name": "python3"
  },
  "language_info": {
   "codemirror_mode": {
    "name": "ipython",
    "version": 3
   },
   "file_extension": ".py",
   "mimetype": "text/x-python",
   "name": "python",
   "nbconvert_exporter": "python",
   "pygments_lexer": "ipython3",
   "version": "3.11.6"
  }
 },
 "nbformat": 4,
 "nbformat_minor": 5
}
