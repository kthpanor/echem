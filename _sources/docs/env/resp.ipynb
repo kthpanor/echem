{
 "cells": [
  {
   "cell_type": "markdown",
   "id": "cb8726fc-4883-46c8-96af-493306177cc3",
   "metadata": {
    "editable": true,
    "slideshow": {
     "slide_type": ""
    },
    "tags": []
   },
   "source": [
    "(sec:resp_charges)=\n",
    "# RESP charges\n",
    "\n",
    "The restrained electrostatic potential (RESP) charge model {cite}`Bayly1993, Cieplak1995` represents an improvement to the [Merz–Kollman (MK) scheme](sec:esp_charges) as the ESP figure-of-merit is rather insensitive to variations in charges of atoms buried inside the molecule.\n",
    "\n",
    "```{figure} ../../img/env/chi_square.svg\n",
    "---\n",
    "name: chi_square\n",
    "width: 600px\n",
    "align: center\n",
    "---\n",
    "Dependence of figure-of-merit, $\\chi^2_\\mathrm{esp}$, with respect to variations in atomic charges. Four separate atoms are here considered.\n",
    "```\n",
    "\n",
    "To avoid unphysically high magnitudes of the charges of interior atoms, a hyperbolic penalty function is added\n",
    "\n",
    "$$\n",
    "\\chi_{\\mathrm{rstr}}^2 = \n",
    "\\alpha \\sum_{A=1}^M \n",
    "\\big[\n",
    "(q_A^2 + \\beta^2)^{1/2} - \\beta\n",
    "\\big]\n",
    "$$\n",
    "\n",
    "so that the diagonal matrix elements of the $A$-matrix in MK scheme become equal to\n",
    "\n",
    "$$\n",
    "A_{JJ} = \n",
    "\\frac{1}{4\\pi\\varepsilon_0}\n",
    "\\sum_{a} \\frac{1}{r_{aJ}^2} + \\alpha \\, (q_J^2+\\beta^2)^{-1/2}\n",
    "$$\n",
    "\n",
    "with a dependency on the partial charge. Consequently, RESP charges are obtained by solving the matrix equation iteratively until the charges and Lagrange multipliers become self-consistent. In addition to that, the RESP charge model allows for the introduction of constraints on charges of equivalent atoms due to symmetry operations or bond rotations."
   ]
  },
  {
   "cell_type": "markdown",
   "id": "8f9ffc2f-cfab-400f-9315-27e62161bcf4",
   "metadata": {
    "editable": true,
    "slideshow": {
     "slide_type": ""
    },
    "tags": []
   },
   "source": [
    "Let us determine the RESP charges for methanol at the Hartree–Fock/6-31G(d) level of theory. We will require the partial charges of the hydrogen atoms in the methyl group to be identical."
   ]
  },
  {
   "cell_type": "code",
   "execution_count": 4,
   "id": "ebfe69ae-49f1-48ea-993a-fb5986c0b795",
   "metadata": {
    "editable": true,
    "slideshow": {
     "slide_type": ""
    },
    "tags": [
     "hide-input"
    ]
   },
   "outputs": [],
   "source": [
    "methanol_xyz = \"\"\"6\n",
    "\n",
    "  H      1.2001      0.0363      0.8431\n",
    "  C      0.7031      0.0083     -0.1305\n",
    "  H      0.9877      0.8943     -0.7114\n",
    "  H      1.0155     -0.8918     -0.6742\n",
    "  O     -0.6582     -0.0067      0.1730\n",
    "  H     -1.1326     -0.0311     -0.6482\n",
    "\"\"\""
   ]
  },
  {
   "cell_type": "code",
   "execution_count": 5,
   "id": "abac06b2",
   "metadata": {
    "editable": true,
    "slideshow": {
     "slide_type": ""
    },
    "tags": [
     "remove-input"
    ]
   },
   "outputs": [
    {
     "data": {
      "application/3dmoljs_load.v0": "<div id=\"3dmolviewer_1701356890250734\"  style=\"position: relative; width: 300px; height: 200px;\">\n        <p id=\"3dmolwarning_1701356890250734\" style=\"background-color:#ffcccc;color:black\">You appear to be running in JupyterLab (or JavaScript failed to load for some other reason).  You need to install the 3dmol extension: <br>\n        <tt>jupyter labextension install jupyterlab_3dmol</tt></p>\n        </div>\n<script>\n\nvar loadScriptAsync = function(uri){\n  return new Promise((resolve, reject) => {\n    //this is to ignore the existence of requirejs amd\n    var savedexports, savedmodule;\n    if (typeof exports !== 'undefined') savedexports = exports;\n    else exports = {}\n    if (typeof module !== 'undefined') savedmodule = module;\n    else module = {}\n\n    var tag = document.createElement('script');\n    tag.src = uri;\n    tag.async = true;\n    tag.onload = () => {\n        exports = savedexports;\n        module = savedmodule;\n        resolve();\n    };\n  var firstScriptTag = document.getElementsByTagName('script')[0];\n  firstScriptTag.parentNode.insertBefore(tag, firstScriptTag);\n});\n};\n\nif(typeof $3Dmolpromise === 'undefined') {\n$3Dmolpromise = null;\n  $3Dmolpromise = loadScriptAsync('https://cdnjs.cloudflare.com/ajax/libs/3Dmol/2.0.4/3Dmol-min.js');\n}\n\nvar viewer_1701356890250734 = null;\nvar warn = document.getElementById(\"3dmolwarning_1701356890250734\");\nif(warn) {\n    warn.parentNode.removeChild(warn);\n}\n$3Dmolpromise.then(function() {\nviewer_1701356890250734 = $3Dmol.createViewer(document.getElementById(\"3dmolviewer_1701356890250734\"),{backgroundColor:\"white\"});\nviewer_1701356890250734.zoomTo();\n\tviewer_1701356890250734.addModel(\"6\\n\\n  H      1.2001      0.0363      0.8431\\n  C      0.7031      0.0083     -0.1305\\n  H      0.9877      0.8943     -0.7114\\n  H      1.0155     -0.8918     -0.6742\\n  O     -0.6582     -0.0067      0.1730\\n  H     -1.1326     -0.0311     -0.6482\\n\",\"xyz\");\n\tviewer_1701356890250734.setStyle({\"stick\": {}});\nviewer_1701356890250734.render();\n});\n</script>",
      "text/html": [
       "<div id=\"3dmolviewer_1701356890250734\"  style=\"position: relative; width: 300px; height: 200px;\">\n",
       "        <p id=\"3dmolwarning_1701356890250734\" style=\"background-color:#ffcccc;color:black\">You appear to be running in JupyterLab (or JavaScript failed to load for some other reason).  You need to install the 3dmol extension: <br>\n",
       "        <tt>jupyter labextension install jupyterlab_3dmol</tt></p>\n",
       "        </div>\n",
       "<script>\n",
       "\n",
       "var loadScriptAsync = function(uri){\n",
       "  return new Promise((resolve, reject) => {\n",
       "    //this is to ignore the existence of requirejs amd\n",
       "    var savedexports, savedmodule;\n",
       "    if (typeof exports !== 'undefined') savedexports = exports;\n",
       "    else exports = {}\n",
       "    if (typeof module !== 'undefined') savedmodule = module;\n",
       "    else module = {}\n",
       "\n",
       "    var tag = document.createElement('script');\n",
       "    tag.src = uri;\n",
       "    tag.async = true;\n",
       "    tag.onload = () => {\n",
       "        exports = savedexports;\n",
       "        module = savedmodule;\n",
       "        resolve();\n",
       "    };\n",
       "  var firstScriptTag = document.getElementsByTagName('script')[0];\n",
       "  firstScriptTag.parentNode.insertBefore(tag, firstScriptTag);\n",
       "});\n",
       "};\n",
       "\n",
       "if(typeof $3Dmolpromise === 'undefined') {\n",
       "$3Dmolpromise = null;\n",
       "  $3Dmolpromise = loadScriptAsync('https://cdnjs.cloudflare.com/ajax/libs/3Dmol/2.0.4/3Dmol-min.js');\n",
       "}\n",
       "\n",
       "var viewer_1701356890250734 = null;\n",
       "var warn = document.getElementById(\"3dmolwarning_1701356890250734\");\n",
       "if(warn) {\n",
       "    warn.parentNode.removeChild(warn);\n",
       "}\n",
       "$3Dmolpromise.then(function() {\n",
       "viewer_1701356890250734 = $3Dmol.createViewer(document.getElementById(\"3dmolviewer_1701356890250734\"),{backgroundColor:\"white\"});\n",
       "viewer_1701356890250734.zoomTo();\n",
       "\tviewer_1701356890250734.addModel(\"6\\n\\n  H      1.2001      0.0363      0.8431\\n  C      0.7031      0.0083     -0.1305\\n  H      0.9877      0.8943     -0.7114\\n  H      1.0155     -0.8918     -0.6742\\n  O     -0.6582     -0.0067      0.1730\\n  H     -1.1326     -0.0311     -0.6482\\n\",\"xyz\");\n",
       "\tviewer_1701356890250734.setStyle({\"stick\": {}});\n",
       "viewer_1701356890250734.render();\n",
       "});\n",
       "</script>"
      ]
     },
     "metadata": {},
     "output_type": "display_data"
    }
   ],
   "source": [
    "import py3Dmol as p3d\n",
    "\n",
    "viewer = p3d.view(width=300, height=200)\n",
    "\n",
    "viewer.addModel(methanol_xyz, \"xyz\")\n",
    "viewer.setStyle({\"stick\": {}})\n",
    "\n",
    "viewer.show()"
   ]
  },
  {
   "cell_type": "code",
   "execution_count": 6,
   "id": "5a8223f9-37a0-42d1-bd0f-813ea108abaf",
   "metadata": {
    "editable": true,
    "scrolled": true,
    "slideshow": {
     "slide_type": ""
    },
    "tags": [
     "remove-output"
    ]
   },
   "outputs": [],
   "source": [
    "import veloxchem as vlx"
   ]
  },
  {
   "cell_type": "markdown",
   "id": "dc9dcb8d-b040-46c1-bb1b-7530792db4e3",
   "metadata": {
    "editable": true,
    "slideshow": {
     "slide_type": ""
    },
    "tags": []
   },
   "source": [
    "First, we determine the reference state of the system."
   ]
  },
  {
   "cell_type": "code",
   "execution_count": 8,
   "id": "4cec7f99-2f80-49d7-bbc1-282644e0de93",
   "metadata": {
    "editable": true,
    "scrolled": true,
    "slideshow": {
     "slide_type": ""
    },
    "tags": [
     "remove-output"
    ]
   },
   "outputs": [],
   "source": [
    "molecule = vlx.Molecule.read_xyz_string(methanol_xyz)\n",
    "basis = vlx.MolecularBasis.read(molecule, \"6-31G*\", ostream=None)\n",
    "\n",
    "scf_drv = vlx.ScfRestrictedDriver()\n",
    "scf_drv.ostream.mute()\n",
    "\n",
    "scf_results = scf_drv.compute(molecule, basis)"
   ]
  },
  {
   "cell_type": "markdown",
   "id": "216d244a",
   "metadata": {
    "editable": true,
    "slideshow": {
     "slide_type": ""
    },
    "tags": []
   },
   "source": [
    "Second, we calculate the RESP charges with the `compute` method of the `RespChargesDriver` class."
   ]
  },
  {
   "cell_type": "code",
   "execution_count": 9,
   "id": "e599bd0d",
   "metadata": {
    "editable": true,
    "scrolled": true,
    "slideshow": {
     "slide_type": ""
    },
    "tags": [
     "hide-output",
     "output_scroll"
    ]
   },
   "outputs": [
    {
     "name": "stdout",
     "output_type": "stream",
     "text": [
      "                                                                                                                          \n",
      "                                                RESP Charges Driver Setup                                                 \n",
      "                                               ===========================                                                \n",
      "                                                                                                                          \n",
      "                                         Number of Conformers         :  1                                                \n",
      "                                         Number of Layers             :  4                                                \n",
      "                                         Points per Square Angstrom   :  1.0                                              \n",
      "                                         Total Number of Grid Points  :  420                                              \n",
      "                                                                                                                          \n",
      "                                                                                                                          \n",
      "                                                     First Stage Fit                                                      \n",
      "                                                    -----------------                                                     \n",
      "                                                                                                                          \n",
      "                                         Restraint Strength           :  0.0005                                           \n",
      "                                         Restrained Hydrogens         :  No                                               \n",
      "                                         Max. Number of Iterations    :  50                                               \n",
      "                                         Convergence Threshold (a.u.) :  1e-06                                            \n",
      "                                                                                                                          \n",
      "                                      *** Charge fitting converged in 9 iterations.                                       \n",
      "                                                                                                                          \n",
      "                                        No. | Atom |  Constraints | Charges (a.u.)                                        \n",
      "                                       --------------------------------------------                                       \n",
      "                                          1     H                      0.075643                                           \n",
      "                                          2     C                      0.117258                                           \n",
      "                                          3     H                      0.013902                                           \n",
      "                                          4     H                      0.013047                                           \n",
      "                                          5     O                     -0.639004                                           \n",
      "                                          6     H                      0.419154                                           \n",
      "                                       --------------------------------------------                                       \n",
      "                                               Total Charge  :  0.000000                                                  \n",
      "                                                                                                                          \n",
      "                                                       Fit Quality                                                        \n",
      "                                                      -------------                                                       \n",
      "                                       Relative Root-Mean-Square Error  :  0.139861                                       \n",
      "                                                                                                                          \n",
      "                                                                                                                          \n",
      "                                                     Second Stage Fit                                                     \n",
      "                                                    ------------------                                                    \n",
      "                                                                                                                          \n",
      "                                         Restraint Strength           :  0.001                                            \n",
      "                                         Restrained Hydrogens         :  No                                               \n",
      "                                         Max. Number of Iterations    :  50                                               \n",
      "                                         Convergence Threshold (a.u.) :  1e-06                                            \n",
      "                                                                                                                          \n",
      "                                      *** Charge fitting converged in 4 iterations.                                       \n",
      "                                                                                                                          \n",
      "                                    No. | Atom | Frozen | Constraints | Charges (a.u.)                                    \n",
      "                                   ----------------------------------------------------                                   \n",
      "                                      1     H       No                     0.033747                                       \n",
      "                                      2     C       No                     0.118610                                       \n",
      "                                      3     H       No         1           0.033747                                       \n",
      "                                      4     H       No         1           0.033747                                       \n",
      "                                      5     O      Yes                    -0.639004                                       \n",
      "                                      6     H      Yes                     0.419154                                       \n",
      "                                   ----------------------------------------------------                                   \n",
      "                                               Total Charge  :  0.000000                                                  \n",
      "                                                                                                                          \n",
      "                                                       Fit Quality                                                        \n",
      "                                                      -------------                                                       \n",
      "                                       Relative Root-Mean-Square Error  :  0.203249                                       \n",
      "                                                                                                                          \n",
      "                                       Reference:                                                                         \n",
      "                                       J. Phys. Chem. 1993, 97, 10269-10280.                                              \n",
      "                                                                                                                          \n"
     ]
    }
   ],
   "source": [
    "resp_drv = vlx.RespChargesDriver()\n",
    "\n",
    "resp_drv.update_settings({\"equal_charges\": \"1 = 3, 1 = 4\"})\n",
    "\n",
    "resp_charges = resp_drv.compute(molecule, basis, scf_results, \"resp\")"
   ]
  },
  {
   "cell_type": "markdown",
   "id": "59e2bc56-e9b0-41aa-92ad-be881daf4826",
   "metadata": {
    "editable": true,
    "slideshow": {
     "slide_type": ""
    },
    "tags": []
   },
   "source": [
    "Third, we print out the results."
   ]
  },
  {
   "cell_type": "code",
   "execution_count": 11,
   "id": "f90a917b",
   "metadata": {
    "editable": true,
    "slideshow": {
     "slide_type": ""
    },
    "tags": []
   },
   "outputs": [
    {
     "name": "stdout",
     "output_type": "stream",
     "text": [
      "Atom     RESP charge\n",
      "--------------------\n",
      "H           0.033747\n",
      "C           0.118610\n",
      "H           0.033747\n",
      "H           0.033747\n",
      "O          -0.639004\n",
      "H           0.419154\n",
      "--------------------\n",
      "Total:      0.000000\n"
     ]
    }
   ],
   "source": [
    "print(\"Atom     RESP charge\")\n",
    "print(20 * \"-\")\n",
    "\n",
    "for label, resp_charge in zip(molecule.get_labels(), resp_charges):\n",
    "    print(f\"{label :s} {resp_charge : 18.6f}\")\n",
    "\n",
    "print(20 * \"-\")\n",
    "\n",
    "print(f\"Total: {resp_charges.sum() : 13.6f}\")"
   ]
  },
  {
   "cell_type": "markdown",
   "id": "9d90c352-8929-4afb-b352-b780da14f2e9",
   "metadata": {
    "editable": true,
    "slideshow": {
     "slide_type": ""
    },
    "tags": []
   },
   "source": [
    "Compared to the ESP results, it is noted that the partial charge of the buried carbon atom is here lower (0.12 a.u.) as to be expected from the design of the RESP scheme."
   ]
  },
  {
   "cell_type": "markdown",
   "id": "df12016b-4b6b-4151-880e-0496df264e4c",
   "metadata": {
    "editable": true,
    "slideshow": {
     "slide_type": ""
    },
    "tags": []
   },
   "source": [
    "```{note}\n",
    "The RESP charge model is based on the quantum mechanical electrostatic potential calculated at the Hartree–Fock/6-31G(d) level of theory because it overestimates the gas-phase dipole moments in a way that it imitates approximately polarization effects in aqueous protein environments.\n",
    "```"
   ]
  }
 ],
 "metadata": {
  "celltoolbar": "Tags",
  "kernelspec": {
   "display_name": "Python 3 (ipykernel)",
   "language": "python",
   "name": "python3"
  },
  "language_info": {
   "codemirror_mode": {
    "name": "ipython",
    "version": 3
   },
   "file_extension": ".py",
   "mimetype": "text/x-python",
   "name": "python",
   "nbconvert_exporter": "python",
   "pygments_lexer": "ipython3",
   "version": "3.11.6"
  }
 },
 "nbformat": 4,
 "nbformat_minor": 5
}
