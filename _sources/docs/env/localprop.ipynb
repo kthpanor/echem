{
 "cells": [
  {
   "cell_type": "markdown",
   "id": "0abbc736-f89a-46bd-9934-abb990c9290c",
   "metadata": {
    "editable": true,
    "slideshow": {
     "slide_type": ""
    },
    "tags": []
   },
   "source": [
    "# Localized properties\n",
    "\n",
    "In this section, we will describe different ways to define and calculate local atomic properties that are use in classical representations of molecules. \n",
    "\n",
    "We will consider:\n",
    "\n",
    "- [ESP atomic charges](sec:esp_charges)\n",
    "- [CHELPG atomic charges](sec:chelpg_charges)\n",
    "- [RESP atomic charges](sec:resp_charges)\n",
    "- [LoProp charges and polarizabilities](sec:loprop)"
   ]
  }
 ],
 "metadata": {
  "kernelspec": {
   "display_name": "Python 3 (ipykernel)",
   "language": "python",
   "name": "python3"
  },
  "language_info": {
   "codemirror_mode": {
    "name": "ipython",
    "version": 3
   },
   "file_extension": ".py",
   "mimetype": "text/x-python",
   "name": "python",
   "nbconvert_exporter": "python",
   "pygments_lexer": "ipython3",
   "version": "3.11.6"
  }
 },
 "nbformat": 4,
 "nbformat_minor": 5
}
