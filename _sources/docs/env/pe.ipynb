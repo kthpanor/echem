{
 "cells": [
  {
   "cell_type": "markdown",
   "id": "a6a0a60c-42df-49a1-8d71-c3e5ab4b3ecb",
   "metadata": {},
   "source": [
    "# Polarizable embedding"
   ]
  }
 ],
 "metadata": {
  "kernelspec": {
   "display_name": "Python 3 (ipykernel)",
   "language": "python",
   "name": "python3"
  },
  "language_info": {
   "codemirror_mode": {
    "name": "ipython",
    "version": 3
   },
   "file_extension": ".py",
   "mimetype": "text/x-python",
   "name": "python",
   "nbconvert_exporter": "python",
   "pygments_lexer": "ipython3",
   "version": "3.9.12"
  }
 },
 "nbformat": 4,
 "nbformat_minor": 5
}
