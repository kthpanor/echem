{
 "cells": [
  {
   "cell_type": "code",
   "execution_count": 35,
   "id": "5b6ade45",
   "metadata": {},
   "outputs": [],
   "source": [
    "import numpy as np\n",
    "import math"
   ]
  },
  {
   "cell_type": "code",
   "execution_count": 127,
   "id": "5f3d5517",
   "metadata": {},
   "outputs": [
    {
     "name": "stdout",
     "output_type": "stream",
     "text": [
      "[[ 0.          0.43757997 -0.39974123  0.15067483 -0.13298723 -0.28511673\n",
      "   0.35940937  0.39836371 -0.18972408  0.46366619]\n",
      " [ 0.43757997 -0.38905278  0.          0.          0.          0.\n",
      "   0.          0.          0.          0.        ]\n",
      " [-0.39974123  0.         -0.41865581  0.          0.          0.\n",
      "   0.          0.          0.          0.        ]\n",
      " [ 0.15067483  0.          0.          0.4915837   0.          0.\n",
      "   0.          0.          0.          0.        ]\n",
      " [-0.13298723  0.          0.          0.         -0.21323801  0.\n",
      "   0.          0.          0.          0.        ]\n",
      " [-0.28511673  0.          0.          0.          0.          0.36267614\n",
      "   0.          0.          0.          0.        ]\n",
      " [ 0.35940937  0.          0.          0.          0.          0.\n",
      "  -0.19282798  0.          0.          0.        ]\n",
      " [ 0.39836371  0.          0.          0.          0.          0.\n",
      "   0.         -0.0606958   0.          0.        ]\n",
      " [-0.18972408  0.          0.          0.          0.          0.\n",
      "   0.          0.         -0.02268063  0.        ]\n",
      " [ 0.46366619  0.          0.          0.          0.          0.\n",
      "   0.          0.          0.          0.03741894]]\n"
     ]
    }
   ],
   "source": [
    "dim=10\n",
    "diag=np.random.rand(dim)-0.5\n",
    "arrowhead=np.diag(diag)\n",
    "V=np.random.rand(dim-1)-0.5\n",
    "arrowhead[0,1:]=V\n",
    "arrowhead[1:,0]=V\n",
    "arrowhead[0,0]=0\n",
    "diag[0]=0\n",
    "print(arrowhead)"
   ]
  },
  {
   "cell_type": "code",
   "execution_count": 128,
   "id": "7db7fd2a",
   "metadata": {},
   "outputs": [
    {
     "name": "stdout",
     "output_type": "stream",
     "text": [
      "[-1.10487645e+00 -4.06079660e-01 -2.84873975e-01 -2.10848725e-01\n",
      " -1.34893928e-01 -3.16973895e-02 -6.83326474e-04  3.13384950e-01\n",
      "  4.78202100e-01  9.76894172e-01]\n"
     ]
    }
   ],
   "source": [
    "w,v=np.linalg.eigh(arrowhead)\n",
    "print(w)"
   ]
  },
  {
   "cell_type": "code",
   "execution_count": 132,
   "id": "e1ccd5d7",
   "metadata": {},
   "outputs": [
    {
     "name": "stdout",
     "output_type": "stream",
     "text": [
      "-3.3552276187466736\n",
      "16.879717568494943\n",
      "-0.19877273450410213\n"
     ]
    }
   ],
   "source": [
    "tdiag=diag[1:]\n",
    "E=0.5*np.sum(tdiag-np.sqrt(tdiag*tdiag+4*V*V))\n",
    "print(E)\n",
    "C=0.5*(tdiag-np.sqrt(tdiag*tdiag+4*V*V))/tdiag\n",
    "#print(C)\n",
    "norm=math.sqrt(1+np.sum(C*C))\n",
    "print(norm)\n",
    "print(E/norm)"
   ]
  },
  {
   "cell_type": "code",
   "execution_count": 55,
   "id": "ca64024e",
   "metadata": {},
   "outputs": [
    {
     "name": "stdout",
     "output_type": "stream",
     "text": [
      "0.024819935080151567\n"
     ]
    }
   ],
   "source": [
    "#def aheig_basic (diag, V, 0, 1):\n",
    "imin=np.argmin(diag[1:])\n",
    "s=diag[imin+1]\n",
    "print(s)\n",
    "i=1\n",
    "side='R'\n",
    "#[invD1, invD2, w1, w2, wζ , b] = invA(D, z, α, i)\n",
    "D=diag-s\n",
    "a=-s\n",
    "w1=-V[0:imin]/D[1:imin+1]/V[imin]\n",
    "w2=-V[imin+1:]/D[imin+2:]/V[imin]\n",
    "invD1=1/D[1:imin+1]\n",
    "invD2=1/D[imin+2:]\n",
    "b=(-a + np.sum(V[0:imin]*V[0:imin]/D[1:imin+1]) + np.sum(V[imin+1:]*V[imin+1:]/D[imin+2:]))/(V[imin]*V[imin])\n",
    "\n",
    "#ν = bisect([invD1;0;invD2],[w1;wζ;w2],b,side)\n"
   ]
  },
  {
   "cell_type": "code",
   "execution_count": 162,
   "id": "1beb4722",
   "metadata": {},
   "outputs": [
    {
     "name": "stdout",
     "output_type": "stream",
     "text": [
      "-3.3552276187466736 -0.41865580945285896\n",
      "-0.5870796131258073 -1.8869417140997662\n"
     ]
    }
   ],
   "source": [
    "e=-0.2\n",
    "smin=E\n",
    "smax=np.min(diag)\n",
    "#smin=smiddle\n",
    "#smax=smiddle\n",
    "smiddle=(smin+smax)*0.5\n",
    "print(smin,smax)\n",
    "print(-np.sum(V*V/(diag[1:]-smiddle)),smiddle)"
   ]
  },
  {
   "cell_type": "markdown",
   "id": "b36958ec",
   "metadata": {},
   "source": [
    "The eigenvalues $\\lambda$ verify\n",
    "\n",
    "\\begin{equation}\n",
    "\\lambda = \\sum \\frac{V_i^2}{D_i-\\lambda}\n",
    "\\end{equation}"
   ]
  },
  {
   "cell_type": "code",
   "execution_count": null,
   "id": "4fc7aeec",
   "metadata": {},
   "outputs": [],
   "source": []
  }
 ],
 "metadata": {
  "kernelspec": {
   "display_name": "Python 3 (ipykernel)",
   "language": "python",
   "name": "python3"
  },
  "language_info": {
   "codemirror_mode": {
    "name": "ipython",
    "version": 3
   },
   "file_extension": ".py",
   "mimetype": "text/x-python",
   "name": "python",
   "nbconvert_exporter": "python",
   "pygments_lexer": "ipython3",
   "version": "3.9.7"
  }
 },
 "nbformat": 4,
 "nbformat_minor": 5
}
