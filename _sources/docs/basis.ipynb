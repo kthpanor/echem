{
 "cells": [
  {
   "cell_type": "markdown",
   "id": "559963f4",
   "metadata": {},
   "source": [
    "# Basis sets"
   ]
  },
  {
   "cell_type": "code",
   "execution_count": 3,
   "id": "c9332e31",
   "metadata": {
    "tags": [
     "remove-output"
    ]
   },
   "outputs": [],
   "source": [
    "import veloxchem as vlx"
   ]
  },
  {
   "cell_type": "markdown",
   "id": "7eda86cc",
   "metadata": {},
   "source": [
    "## Basis set library\n",
    "Our software somes distibuted with several of the standard basis sets and families of basis sets. For a given element, the available basis sets in the VeloxChem library can be provided from the `MolecularBasis` class object. Should a basis set not be included in the software distribution, it can be readily supplied by the user in a separate file in the working directory."
   ]
  },
  {
   "cell_type": "code",
   "execution_count": 4,
   "id": "f28304d5",
   "metadata": {},
   "outputs": [
    {
     "name": "stdout",
     "output_type": "stream",
     "text": [
      "Available basis sets for carbon:\n",
      " ['6-31++G', '6-31+G', '6-31+G**', '6-311++G', '6-311++G(2D,2P)', '6-311++G**', '6-311+G', '6-311+G(2D,P)', '6-311G', '6-311G(2DF,2PD)', '6-31G', '6-31G(2DF,P)', 'AUG-CC-PCVDZ', 'AUG-CC-PCVQZ', 'AUG-CC-PCVTZ', 'AUG-CC-PVDZ', 'AUG-CC-PVTZ', 'CC-PCVDZ', 'CC-PVDZ', 'CC-PVDZ-RI', 'CC-PVTZ', 'CC-PVTZ-RI', 'D-AUG-CC-PVDZ', 'D-AUG-CC-PVQZ', 'D-AUG-CC-PVTZ', 'DEF2-QZVP', 'DEF2-QZVPD', 'DEF2-QZVPP', 'DEF2-QZVPPD', 'DEF2-RI-J', 'DEF2-SV(P)', 'DEF2-SVP', 'DEF2-SVPD', 'DEF2-TZVP', 'DEF2-TZVPP', 'DEF2-TZVPPD', 'MIN-CC-PVDZ', 'SADLEJ-PVTZ', 'STO-3G', 'STO-6G']\n"
     ]
    }
   ],
   "source": [
    "print('Available basis sets for carbon:\\n', vlx.MolecularBasis.get_avail_basis('C'))"
   ]
  },
  {
   "cell_type": "markdown",
   "id": "b20cb741",
   "metadata": {},
   "source": [
    "## Basis set assignment\n",
    "A basis set can be assigned to a molecule with the `read` method."
   ]
  },
  {
   "cell_type": "code",
   "execution_count": 13,
   "id": "f9269007",
   "metadata": {},
   "outputs": [],
   "source": [
    "mol_str = \"\"\"\n",
    "C        0.00000000    0.00000000    0.00000000\n",
    "O        0.00000000    0.00000000    1.43\n",
    "\"\"\"\n",
    "molecule = vlx.Molecule.read_str(mol_str, units='angstrom')\n",
    "basis = vlx.MolecularBasis.read(molecule, 'cc-pVDZ')"
   ]
  },
  {
   "cell_type": "markdown",
   "id": "a2bb9415",
   "metadata": {},
   "source": [
    "The moleular basis set label is later available with use of the `get_label` method."
   ]
  },
  {
   "cell_type": "code",
   "execution_count": 17,
   "id": "8761dd89",
   "metadata": {},
   "outputs": [
    {
     "data": {
      "text/plain": [
       "'CC-PVDZ'"
      ]
     },
     "execution_count": 17,
     "metadata": {},
     "output_type": "execute_result"
    }
   ],
   "source": [
    "vlx.MolecularBasis.get_label(basis)"
   ]
  },
  {
   "cell_type": "markdown",
   "id": "8d8d9403",
   "metadata": {},
   "source": [
    "## Number of basis functions\n",
    "The number of contracted and primitive basis functions are available from the `get_dimensions_of_basis` and `get_dimensions_of_primitive_basis` methods, respectively."
   ]
  },
  {
   "cell_type": "code",
   "execution_count": 26,
   "id": "50b39d01",
   "metadata": {},
   "outputs": [
    {
     "name": "stdout",
     "output_type": "stream",
     "text": [
      "Number of contracted basis functions: 28\n",
      "Number of primitive basis functions: 68\n"
     ]
    }
   ],
   "source": [
    "nbas = vlx.MolecularBasis.get_dimensions_of_basis(basis, molecule)\n",
    "nprim = vlx.MolecularBasis.get_dimensions_of_primitive_basis(basis, molecule)\n",
    "\n",
    "print('Number of contracted basis functions:', nbas)\n",
    "print('Number of primitive basis functions:', nprim)"
   ]
  }
 ],
 "metadata": {
  "celltoolbar": "Tags",
  "kernelspec": {
   "display_name": "Python 3",
   "language": "python",
   "name": "python3"
  },
  "language_info": {
   "codemirror_mode": {
    "name": "ipython",
    "version": 3
   },
   "file_extension": ".py",
   "mimetype": "text/x-python",
   "name": "python",
   "nbconvert_exporter": "python",
   "pygments_lexer": "ipython3",
   "version": "3.9.5"
  }
 },
 "nbformat": 4,
 "nbformat_minor": 5
}
