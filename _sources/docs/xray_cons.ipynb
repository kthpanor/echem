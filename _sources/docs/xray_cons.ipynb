{
 "cells": [
  {
   "cell_type": "markdown",
   "metadata": {},
   "source": [
    "# General aspects\n",
    "\n",
    "```{note}\n",
    "- [ ] Add relaxation discussion\n",
    "- [ ] Clean up\n",
    "- [ ] Can calculate SIE...?\n",
    "- [ ] SO-coupling discussion...?\n",
    "- [ ] Core-hole localization...?\n",
    "- [ ] Tailored CVS space...?\n",
    "- [ ] Discuss basis set results\n",
    "```\n",
    "\n",
    "Discussing some special topics.\n",
    "\n",
    "*Loading functionalities:*"
   ]
  },
  {
   "cell_type": "code",
   "execution_count": 6,
   "metadata": {
    "tags": [
     "remove-output",
     "hide-input"
    ]
   },
   "outputs": [],
   "source": [
    "# loading modules etc\n",
    "\n",
    "# standard Python modules and functions\n",
    "from scipy.interpolate import interp1d\n",
    "from matplotlib import gridspec\n",
    "import matplotlib.pyplot as plt\n",
    "import numpy as np\n",
    "import copy\n",
    "\n",
    "# QC software suites and functionalities\n",
    "from pyscf import gto, scf, mp, cc\n",
    "import veloxchem as vlx\n",
    "import gator\n",
    "import adcc\n",
    "from veloxchem.rsplinabscross import LinearAbsorptionCrossSection\n",
    "\n",
    "# for vlx\n",
    "silent_ostream = vlx.OutputStream(None)\n",
    "from mpi4py import MPI\n",
    "comm = MPI.COMM_WORLD\n",
    "\n",
    "# au to eV conversion factor\n",
    "au2ev = 27.211386"
   ]
  },
  {
   "cell_type": "markdown",
   "metadata": {},
   "source": [
    "(sec:xray_topics_relax)=\n",
    "## Relaxation\n",
    "\n",
    "1. Radial distribution: Z, Z with hole, Z+1\n",
    "\n",
    "2. Total density: formaldehyde\n",
    "\n",
    "3. Maybe: visualization of effects for XAS and XES\n",
    "\n",
    "\n",
    "```{figure} ../img/xray/relax_form.svg\n",
    "---\n",
    "name: relax_form\n",
    "---\n",
    "foo\n",
    "```\n",
    "\n",
    "```{figure} ../img/xray/relax_processes.svg\n",
    "---\n",
    "name: relax_processes\n",
    "---\n",
    "foo\n",
    "```\n",
    "\n",
    "\n",
    "### Including with $\\Delta\\textrm{SCF}$ methods\n",
    "\n",
    "```{note}\n",
    "Illustrative calculations.\n",
    "```\n",
    "\n",
    "### Including for wave function methods\n",
    "\n",
    "```{note}\n",
    "Maybe relaxation versus v2, or so.\n",
    "```\n",
    "\n",
    "\n",
    "### Including for DFT-based methods\n",
    "\n",
    "```{note}\n",
    "Not sure anything can really be said.\n",
    "```\n",
    "\n",
    "(sec:xray_topics_rel)=\n",
    "## Relativity\n",
    "\n",
    "Total relativistic and correlation corrections as a function of Z\n",
    "\n",
    "Note: not additive with correlation\n",
    "\n",
    "\n",
    "### Scalar relativistic effects\n",
    "\n",
    "\n",
    "(sec:xray_topics_rel_ip)=\n",
    "#### For ionization potentials"
   ]
  },
  {
   "cell_type": "code",
   "execution_count": 9,
   "metadata": {
    "tags": [
     "hide-output"
    ]
   },
   "outputs": [
    {
     "name": "stdout",
     "output_type": "stream",
     "text": [
      "converged SCF energy = -2.85516047724517  <S^2> = 1.3322676e-15  2S+1 = 1\n",
      "converged SCF energy = -2.85525304501235  <S^2> = 1.110223e-15  2S+1 = 1\n",
      "converged SCF energy = -1.9942685861792  <S^2> = 0.75  2S+1 = 2\n"
     ]
    },
    {
     "name": "stderr",
     "output_type": "stream",
     "text": [
      "Overwritten attributes  get_occ  of <class 'pyscf.scf.uhf.UHF'>\n",
      "Overwritten attributes  get_occ  of <class 'pyscf.x2c.sfx2c1e.sfx2c1e.<locals>.SFX2C1E_SCF'>\n"
     ]
    },
    {
     "name": "stdout",
     "output_type": "stream",
     "text": [
      "converged SCF energy = -1.99436880481848  <S^2> = 0.75  2S+1 = 2\n",
      "converged SCF energy = -14.5723376313363  <S^2> = 2.8865799e-15  2S+1 = 1\n",
      "converged SCF energy = -14.5748455751041  <S^2> = 1.7763568e-15  2S+1 = 1\n",
      "converged SCF energy = -10.0357274640245  <S^2> = 0.75629212  2S+1 = 2.0062823\n",
      "converged SCF energy = -10.0378218682323  <S^2> = 0.75630468  2S+1 = 2.0062948\n",
      "converged SCF energy = -37.596291563267  <S^2> = 1.7763568e-15  2S+1 = 1\n",
      "converged SCF energy = -37.6112425609782  <S^2> = -8.8817842e-16  2S+1 = 1\n",
      "converged SCF energy = -26.6586016324336  <S^2> = 0.75725115  2S+1 = 2.0072381\n",
      "converged SCF energy = -26.6699783724091  <S^2> = 0.75726738  2S+1 = 2.0072542\n",
      "converged SCF energy = -74.665428938125  <S^2> = 5.3290705e-15  2S+1 = 1\n",
      "converged SCF energy = -74.7175020694568  <S^2> = 0  2S+1 = 1\n",
      "converged SCF energy = -54.5945032394038  <S^2> = 0.75658425  2S+1 = 2.0065734\n",
      "converged SCF energy = -54.632827234573  <S^2> = 0.75660276  2S+1 = 2.0065919\n",
      "converged SCF energy = -128.488775570938  <S^2> = 1.7763568e-15  2S+1 = 1\n",
      "converged SCF energy = -128.625415373727  <S^2> = -1.7763568e-15  2S+1 = 1\n",
      "converged SCF energy = -96.5516222970474  <S^2> = 0.75578137  2S+1 = 2.005773\n",
      "converged SCF energy = -96.6510283847277  <S^2> = 0.75580087  2S+1 = 2.0057925\n",
      "converged SCF energy = -199.608297084141  <S^2> = 7.9936058e-15  2S+1 = 1\n",
      "converged SCF energy = -199.914940213925  <S^2> = 3.5527137e-15  2S+1 = 1\n",
      "converged SCF energy = -151.491503261379  <S^2> = 0.75303231  2S+1 = 2.00303\n",
      "converged SCF energy = -151.717159175497  <S^2> = 0.75305441  2S+1 = 2.0030521\n",
      "converged SCF energy = -288.787205052154  <S^2> = -4.4408921e-15  2S+1 = 1\n",
      "converged SCF energy = -289.390917359484  <S^2> = -2.6645353e-15  2S+1 = 1\n",
      "converged SCF energy = -220.963046126516  <S^2> = 0.75243322  2S+1 = 2.0024317\n",
      "converged SCF energy = -221.408449536373  <S^2> = 0.75245636  2S+1 = 2.0024549\n",
      "converged SCF energy = -397.413437578762  <S^2> = 2.6645353e-15  2S+1 = 1\n",
      "converged SCF energy = -398.496590616317  <S^2> = -8.8817842e-15  2S+1 = 1\n",
      "converged SCF energy = -306.488275279816  <S^2> = 0.75212654  2S+1 = 2.0021254\n",
      "converged SCF energy = -307.289416362737  <S^2> = 0.75215123  2S+1 = 2.0021501\n",
      "converged SCF energy = -526.799865309821  <S^2> = 1.0658141e-14  2S+1 = 1\n",
      "converged SCF energy = -528.611698214494  <S^2> = -8.8817842e-15  2S+1 = 1\n",
      "converged SCF energy = -409.378251604582  <S^2> = 0.75188904  2S+1 = 2.0018881\n",
      "converged SCF energy = -410.72209109867  <S^2> = 0.75191517  2S+1 = 2.0019143\n"
     ]
    }
   ],
   "source": [
    "z, rel_mo, rel_delta, rel_e = [],[],[],[]\n",
    "for i in np.arange(2,20,2):\n",
    "    struct = str(i)+'   0.0  0.0  0.0'\n",
    "    mol = gto.Mole(); mol.atom  = struct; mol.basis = 'unc-ccpvdz'; mol.build()\n",
    "    scf_nr  = scf.UHF(mol); scf_nr.kernel()\n",
    "    scf_rel = scf.UHF(mol).x2c1e(); scf_rel.kernel()\n",
    "    z.append(i)\n",
    "    rel_mo.append(27.2114*(scf_nr.mo_energy[0][0]-scf_rel.mo_energy[0][0]))\n",
    "    mo0 = copy.deepcopy(scf_nr.mo_coeff); occ0 = copy.deepcopy(scf_nr.mo_occ); occ0[0][0] = 0.0\n",
    "    ion_nr  = scf.UHF(mol); scf.addons.mom_occ(ion_nr, mo0, occ0);  ion_nr.kernel()\n",
    "    ion_rel = scf.UHF(mol).x2c1e();     scf.addons.mom_occ(ion_rel, mo0, occ0);     ion_rel.kernel()\n",
    "    rel_delta.append(27.2114*((ion_rel.e_tot-scf_rel.e_tot)-(ion_nr.e_tot-scf_nr.e_tot)))\n",
    "    rel_e.append(27.2114*(ion_rel.e_tot-scf_rel.e_tot))"
   ]
  },
  {
   "cell_type": "markdown",
   "metadata": {},
   "source": [
    "yielding"
   ]
  },
  {
   "cell_type": "code",
   "execution_count": 10,
   "metadata": {},
   "outputs": [
    {
     "data": {
      "image/png": "[encoded data removed]",
      "text/plain": [
       "<Figure size 720x288 with 2 Axes>"
      ]
     },
     "metadata": {
      "needs_background": "light"
     },
     "output_type": "display_data"
    }
   ],
   "source": [
    "plt.figure(figsize=(10,4))\n",
    "plt.subplot(121)\n",
    "plt.plot(z,rel_mo)\n",
    "plt.plot(z,rel_delta)\n",
    "plt.legend(('From MO energies',r'From $\\Delta$SCF'))\n",
    "plt.xlabel('Atomic number')\n",
    "plt.ylabel('Relativistic effects [eV]')\n",
    "plt.subplot(122)\n",
    "plt.plot(z,100*np.array(rel_mo)/np.array(rel_e))\n",
    "plt.plot(z,100*np.array(rel_delta)/np.array(rel_e))\n",
    "plt.xlabel('Atomic number')\n",
    "plt.ylabel('Relativistic effects [% of total energy]')\n",
    "plt.show()"
   ]
  },
  {
   "cell_type": "markdown",
   "metadata": {},
   "source": [
    "#### For spectra (XAS)"
   ]
  },
  {
   "cell_type": "code",
   "execution_count": 11,
   "metadata": {
    "tags": [
     "hide-output"
    ]
   },
   "outputs": [
    {
     "name": "stdout",
     "output_type": "stream",
     "text": [
      "converged SCF energy = -75.9890271783229\n"
     ]
    },
    {
     "name": "stderr",
     "output_type": "stream",
     "text": [
      "/home/thomas/pkg/adcc/adcc/backends/__init__.py:48: UserWarning: Could not check host program psi4 minimal version, since __version__ tag not found. Proceeding anyway.\n",
      "  \"\".format(module)\n"
     ]
    },
    {
     "name": "stdout",
     "output_type": "stream",
     "text": [
      "Starting cvs-adc2 singlet Jacobi-Davidson ...\n",
      "Niter n_ss  max_residual  time  Ritz values\n",
      "  1    10        2.7777  582ms  [20.27588296 20.31155183 20.86140432 20.92171887 20.92996834]\n",
      "  2    20      0.035824  557ms  [19.72872545 19.81092766 20.31040554 20.40470691 20.49837544]\n",
      "  3    30    4.1402e-05  868ms  [19.72388013 19.80673445 20.3057139  20.39997868 20.49772007]\n",
      "=== Converged ===\n",
      "    Number of matrix applies:    30\n",
      "    Total solver time:             2s  42ms\n",
      "converged SCF energy = -76.0403950942124\n",
      "Starting cvs-adc2 singlet Jacobi-Davidson ...\n",
      "Niter n_ss  max_residual  time  Ritz values\n",
      "  1    10        2.7842  680ms  [20.29049204 20.32651304 20.87612706 20.93658562 20.9451677 ]\n",
      "  2    20      0.036027  663ms  [19.74278629 19.82524258 20.32473443 20.41889866 20.51251234]\n",
      "  3    30    4.1677e-05  588ms  [19.73792472 19.82102908 20.32001931 20.41414446 20.51185242]\n",
      "=== Converged ===\n",
      "    Number of matrix applies:    30\n",
      "    Total solver time:             1s 983ms\n"
     ]
    }
   ],
   "source": [
    "mol = gto.Mole()\n",
    "mol.atom  = water; mol.basis = 'unc-6-31G'\n",
    "mol.build()\n",
    "\n",
    "# non-relativistic\n",
    "scf_nr  = scf.RHF(mol); scf_nr.kernel()\n",
    "adc_nr  = adcc.cvs_adc2(scf_nr,n_singlets=5,core_orbitals=1)\n",
    "\n",
    "# relativistic\n",
    "scf_rel = scf.RHF(mol).x2c1e(); scf_rel.kernel()\n",
    "adc_rel = adcc.cvs_adc2(scf_rel,n_singlets=5,core_orbitals=1)"
   ]
  },
  {
   "cell_type": "markdown",
   "metadata": {},
   "source": [
    "with results:"
   ]
  },
  {
   "cell_type": "code",
   "execution_count": 12,
   "metadata": {},
   "outputs": [
    {
     "data": {
      "image/png": "[encoded data removed]",
      "text/plain": [
       "<Figure size 432x288 with 1 Axes>"
      ]
     },
     "metadata": {
      "needs_background": "light"
     },
     "output_type": "display_data"
    },
    {
     "name": "stdout",
     "output_type": "stream",
     "text": [
      "Energy shift of the first feature: 0.38 eV\n"
     ]
    }
   ],
   "source": [
    "plt.figure()\n",
    "adc_nr.plot_spectrum(label='Non-relativistic')\n",
    "adc_rel.plot_spectrum(label='Relativistic')\n",
    "plt.legend(); plt.show()\n",
    "print('Energy shift of the first feature:',\n",
    "      np.around(au2ev*(adc_rel.excitation_energy[0]-adc_nr.excitation_energy[0]),2),'eV')"
   ]
  },
  {
   "cell_type": "markdown",
   "metadata": {},
   "source": [
    "### Spin-orbit coupling\n",
    "\n",
    "```{note}\n",
    "Will not be able to illustrate for a while, but maybe insert short discussion.\n",
    "```"
   ]
  },
  {
   "cell_type": "markdown",
   "metadata": {},
   "source": [
    "(sec:xray_topics_basis)=\n",
    "## Basis set considerations\n",
    "\n",
    "The basis set requirements of X-ray spectrum calculations will depend strongly on which spectroscopy\n",
    "\n",
    "- XPS and XES probes occupied states, and thus need a good description of those\n",
    "\n",
    "- XAS and RIXS probes excited states, and thus need an improved description also of this region\n",
    "\n",
    "However, in both cases the relaxation due to the creation of a core-hole need to be enabled, which yield requirements of reasonable flexibility of the core and inner valence region. This is not typically the case, as most studies deals with valence electron and thus have a minimal or close to minimal description of the core region.\n",
    "\n",
    "A number of approaches for improving the basis sets have been developed:\n",
    "\n",
    "1. Augment the Dunning basis sets with core-polarizing functions, e.g. cc-pV*n*Z $\\rightarrow$ cc-pCV*n*Z\n",
    "\n",
    "2. Adding extra flexibility by performing full or partial decontraction, e.g.\n",
    "    1. u6-311++G\\*\\* is 6-311++G\\*\\* with decontracted 1s function of the probed element\n",
    "    2. un-6-311++G\\*\\* is a fully decontracted 6-311++G\\*\\* basis set\n",
    "\n",
    "3. Use basis functions from the next element, is inspired by the equvalent core/Z+1 approximation\n",
    "\n",
    "Here we focus on the basis set effects for calculations of the IP of water, and we encourage the interested reader to do the same excercise for XES, as well as for XAS (where the augmentation of diffuse functions also need to be considered)."
   ]
  },
  {
   "cell_type": "code",
   "execution_count": 13,
   "metadata": {
    "tags": [
     "hide-input"
    ]
   },
   "outputs": [],
   "source": [
    "u6311gss  = {'O': gto.basis.parse('''\n",
    "O    S\n",
    "   8588.500                  1.000000 \n",
    "O    S\n",
    "   1297.230                  1.000000 \n",
    "O    S\n",
    "    299.2960                 1.000000 \n",
    "O    S\n",
    "     87.37710                1.000000 \n",
    "O    S\n",
    "     25.67890                1.000000 \n",
    "O    S\n",
    "      3.740040               1.000000 \n",
    "O    SP\n",
    "     42.11750                0.113889               0.0365114\n",
    "      9.628370               0.920811               0.237153\n",
    "      2.853320              -0.00327447             0.819702\n",
    "O    SP\n",
    "      0.905661               1.000000               1.000000\n",
    "O    SP\n",
    "      0.255611               1.000000               1.000000\n",
    "O    D\n",
    "      1.292                  1.000000\n",
    "'''), 'H': '6-311G**'}\n",
    "un6311gss = {'O': gto.basis.parse('''\n",
    "O    S\n",
    "   8588.500                  1.000000 \n",
    "O    S\n",
    "   1297.230                  1.000000 \n",
    "O    S\n",
    "    299.2960                 1.000000 \n",
    "O    S\n",
    "     87.37710                1.000000 \n",
    "O    S\n",
    "     25.67890                1.000000 \n",
    "O    S\n",
    "      3.740040               1.000000 \n",
    "O    SP\n",
    "     42.11750                1.000000               1.000000\n",
    "O    SP\n",
    "      9.628370               1.000000               1.000000\n",
    "O    SP\n",
    "      2.853320               1.000000               1.000000\n",
    "O    SP\n",
    "      0.905661               1.000000               1.000000\n",
    "O    SP\n",
    "      0.255611               1.000000               1.000000\n",
    "O    D\n",
    "      1.292                  1.000000\n",
    "'''), 'H': '6-311G**'}\n",
    "z6311gss  = {'O': gto.basis.parse('''\n",
    "O    S\n",
    "   8588.500                  0.00189515\n",
    "   1297.230                  0.0143859\n",
    "    299.2960                 0.0707320\n",
    "     87.37710                0.2400010\n",
    "     25.67890                0.5947970\n",
    "      3.740040               0.2808020\n",
    "O    SP\n",
    "     42.11750                0.113889               0.0365114\n",
    "      9.628370               0.920811               0.237153\n",
    "      2.853320              -0.00327447             0.819702\n",
    "O    SP\n",
    "      0.905661               1.000000               1.000000\n",
    "O    SP\n",
    "      0.255611               1.000000               1.000000\n",
    "O    D\n",
    "      1.292                  1.000000\n",
    "O    S\n",
    "  11427.10                   0.00180093\n",
    "   1722.350                  0.0137419\n",
    "    395.7460                 0.0681334\n",
    "    115.1390                 0.2333250\n",
    "     33.60260                0.5890860\n",
    "      4.919010               0.2995050\n",
    "O    SP\n",
    "     55.44410                0.114536               0.0354609\n",
    "     12.63230                0.920512               0.237451\n",
    "      3.717560              -0.00337804             0.820458\n",
    "O    SP\n",
    "      1.165450               1.000000               1.000000\n",
    "O    SP\n",
    "      0.321892               1.000000               1.000000\n",
    "O    D\n",
    "      1.750                  1.000000\n",
    "'''), 'H': '6-311G**'}"
   ]
  },
  {
   "cell_type": "markdown",
   "metadata": {
    "tags": [
     "hide-input"
    ]
   },
   "source": [
    "Exotic version of basis sets found above\n",
    "\n",
    "```python\n",
    "basis_sets = ['6-311G**',u6311gss,un6311gss,z6311gss, 'cc-pVDZ', 'cc-pCVDZ', 'cc-pVTZ', 'cc-pCVTZ','cc-pVQZ', 'cc-pCVQZ']\n",
    "ip_hf, ip_mp2, ip_ccsd, ip_b3lyp, n_bas = [],[],[],[],[]\n",
    "for basis in basis_sets:\n",
    "    mol = gto.Mole(); mol.atom  = water; mol.basis = basis\n",
    "    mol.build()\n",
    "    scfres = scf.UHF(mol); scfres.kernel()\n",
    "    mo0 = copy.deepcopy(scfres.mo_coeff); occ0 = copy.deepcopy(scfres.mo_occ); occ0[0][0] = 0.0\n",
    "    scfion = scf.UHF(mol); scf.addons.mom_occ(scfion, mo0, occ0); scfion.kernel()\n",
    "    ip_hf.append(au2ev*(scfion.energy_tot() - scfres.energy_tot()))\n",
    "    ccsd_res = cc.UCCSD(scfres).run(); ccsd_ion = cc.UCCSD(scfion).run(max_cycle=500)\n",
    "    ip_ccsd.append(au2ev*(ccsd_ion.e_tot - ccsd_res.e_tot))\n",
    "    ip_mp2.append(au2ev*(ccsd_ion.e_hf+ccsd_ion.emp2-(ccsd_res.e_hf+ccsd_res.emp2)))\n",
    "    scfres = scf.UKS(mol); scfres.xc = 'b3lyp'; scfres.kernel()\n",
    "    mo0 = copy.deepcopy(scfres.mo_coeff); occ0 = copy.deepcopy(scfres.mo_occ); occ0[0][0] = 0.0\n",
    "    scfion = scf.UKS(mol); scf.addons.mom_occ(scfion, mo0, occ0); scfion.xc = 'b3lyp'; scfion.kernel()\n",
    "    ip_b3lyp.append(au2ev*(scfion.energy_tot() - scfres.energy_tot()))\n",
    "    n_bas.append(len(scfres.mo_occ[0]))\n",
    "    \n",
    "plt.figure(figsize=(10,5))\n",
    "basis_set_labels = ['6-311G**','u6-311G**','un6-311G**','6-311G** (Z+1)', 'cc-pVDZ', 'cc-pCVDZ', 'cc-pVTZ', 'cc-pCVTZ','cc-pVQZ', 'cc-pCVQZ']\n",
    "plt.plot(n_bas,ip_hf,'r*'); plt.plot(n_bas,ip_mp2,'bv')\n",
    "plt.plot(n_bas,ip_ccsd,'d',color='orange'); plt.plot(n_bas,ip_b3lyp,'go')\n",
    "plt.plot([min(n_bas)-5,max(n_bas)+5],[539.9,539.9],'k:')\n",
    "plt.plot([min(n_bas)-5,max(n_bas)+5],[539.9-0.3,539.9-0.3],'k--')\n",
    "plt.xlim((min(n_bas)-5,max(n_bas)+5))\n",
    "plt.ylabel('Ionization potential [eV]')\n",
    "plt.legend(('HF','MP2','CCSD','B3LYP','Expt','Expt - 0.3 eV'))\n",
    "plt.xticks(n_bas,basis_set_labels,rotation=70,fontsize=10)\n",
    "plt.tight_layout(); plt.savefig('basis_xps.svg')\n",
    "plt.show()\n",
    "```\n",
    "\n",
    "The execution of which yields\n",
    "\n",
    "\n",
    "\n",
    "```{figure} ../img/xray/basis_xps.svg\n",
    "---\n",
    "name: basis_xps\n",
    "---\n",
    "foo\n",
    "```\n",
    "\n",
    "On the y-axis we see the basis set labels, with order and position determined by the number of basis functions.\n",
    "\n",
    "We see that..."
   ]
  },
  {
   "cell_type": "markdown",
   "metadata": {},
   "source": [
    "(sec:xray_topics_sie)=\n",
    "## Self-interaction error in DFT\n",
    "\n",
    "For a single-electron systems the following equality should hold for the two-electron terms:\n",
    "\n",
    "$$\n",
    "J[\\rho] + E_{xc} [\\rho] = 0.0\n",
    "$$\n",
    "\n",
    "This cancellation is achieved for, e.g. Hartree–Fock theory, but for any approximate functionals in DFT it will instead result in an erronous contribution to the energy. DFT-based methods generally suffer from self-interaction error (SIE), which corresponds to the sum of Coulomb and exchange self-interactions that remain because of the use of approximate exchange functionals. In more detail, the Coulomb self-repulsion of each electron included in the Coulomb operator is exactly canceled by the nonlocal exchange self-attraction in Hartree--Fock theory, but this is no longer the case when the exchange operator is replaced by an approximate exchange functional.\n",
    "\n",
    "Consider the ionization potential of water, as calculated with MO energy and $\\Delta\\textrm{SCF}$. Former a reasonable representative of IP from TDDFT XAS calculation."
   ]
  },
  {
   "cell_type": "code",
   "execution_count": 7,
   "metadata": {
    "tags": [
     "hide-output"
    ]
   },
   "outputs": [
    {
     "name": "stdout",
     "output_type": "stream",
     "text": [
      "converged SCF energy = -76.3570352138422  <S^2> = 9.8854258e-13  2S+1 = 1\n",
      "converged SCF energy = -56.4237670553342  <S^2> = 0.75372494  2S+1 = 2.0037215\n",
      "converged SCF energy = -76.2984404502068  <S^2> = 6.9455552e-13  2S+1 = 1\n",
      "converged SCF energy = -56.3921764305246  <S^2> = 0.75419443  2S+1 = 2.00419\n",
      "converged SCF energy = -76.3458605029086  <S^2> = 1.9795721e-11  2S+1 = 1\n",
      "converged SCF energy = -56.4097695592283  <S^2> = 0.75459735  2S+1 = 2.0045921\n",
      "converged SCF energy = -76.3012084721053  <S^2> = 3.3200109e-12  2S+1 = 1\n",
      "converged SCF energy = -56.3896010586894  <S^2> = 0.7552122  2S+1 = 2.0052054\n",
      "converged SCF energy = -76.3352647255064  <S^2> = 1.3756107e-11  2S+1 = 1\n",
      "converged SCF energy = -56.3960927713703  <S^2> = 0.7556359  2S+1 = 2.005628\n",
      "converged SCF energy = -76.3045772524469  <S^2> = 2.934808e-11  2S+1 = 1\n",
      "converged SCF energy = -56.3873473076527  <S^2> = 0.75643162  2S+1 = 2.0064213\n",
      "converged SCF energy = -76.3251998349411  <S^2> = 1.0945023e-11  2S+1 = 1\n",
      "converged SCF energy = -56.3826985529724  <S^2> = 0.75686154  2S+1 = 2.0068498\n",
      "converged SCF energy = -76.3084953868845  <S^2> = 7.4624751e-12  2S+1 = 1\n",
      "converged SCF energy = -56.3853783589998  <S^2> = 0.75788093  2S+1 = 2.0078655\n",
      "converged SCF energy = -76.3853635207931  <S^2> = 1.0878942e-10  2S+1 = 1\n",
      "converged SCF energy = -56.4195161721823  <S^2> = 0.75808069  2S+1 = 2.0080644\n",
      "converged SCF energy = -76.3129197258738  <S^2> = 2.100542e-12  2S+1 = 1\n",
      "converged SCF energy = -56.383660960872  <S^2> = 0.75959312  2S+1 = 2.0095702\n"
     ]
    }
   ],
   "source": [
    "water = \"\"\"\n",
    "O       0.0000000000     0.0000000000     0.1178336003\n",
    "H      -0.7595754146    -0.0000000000    -0.4713344012\n",
    "H       0.7595754146     0.0000000000    -0.4713344012\n",
    "\"\"\"\n",
    "\n",
    "# Prepare molecule object\n",
    "mol       = gto.Mole(); mol.atom  = water; mol.basis = '6-31G'; mol.build()\n",
    "\n",
    "# HF exchange and creating result containers\n",
    "hf_exc  = [0.0,0.25,0.50,0.75,1.0]\n",
    "hf_blyp,hf_pbe = [[],[]], [[],[]]\n",
    "\n",
    "for h_x in hf_exc:\n",
    "    ###### BxLYP (Slater exchange 0.08, except when HF i 1.00)\n",
    "    if h_x == 1.0: s_x = 0.00\n",
    "    else:          s_x = 0.08 \n",
    "    b_x      = 1.00 - h_x - s_x\n",
    "    v_e, v_l = 0.19, 0.81\n",
    "    # Neutral calculation\n",
    "    dft_res    = scf.UKS(mol)\n",
    "    dft_res.xc = f'{h_x:} * HF + {s_x:} * Slater + {b_x:} * B88, {v_l:} * LYP + {v_e:} * VWN'\n",
    "    dft_res.kernel()\n",
    "    # Core-hole calculation\n",
    "    mo0  = copy.deepcopy(dft_res.mo_coeff); occ0 = copy.deepcopy(dft_res.mo_occ); occ0[0][0] = 0.0; dft_ion = scf.UKS(mol)\n",
    "    dft_ion.xc = f'{h_x:} * HF + {s_x:} * Slater + {b_x:} * B88, {v_l:} * LYP + {v_e:} * VWN'\n",
    "    scf.addons.mom_occ(dft_ion, mo0, occ0); dft_ion.kernel()\n",
    "    # Extract results\n",
    "    hf_blyp[0].append(au2ev*(dft_ion.energy_tot() - dft_res.energy_tot()))\n",
    "    hf_blyp[1].append(-au2ev*dft_res.mo_energy[0][0])\n",
    "    \n",
    "    ###### PBEx\n",
    "    p_x = 1.0 - h_x\n",
    "    # Neutral calculation\n",
    "    dft_res    = scf.UKS(mol)\n",
    "    dft_res.xc = f'{h_x:} * HF + {p_x:} * PBE, PBE'\n",
    "    dft_res.kernel()\n",
    "    # Core-hole calculation\n",
    "    mo0  = copy.deepcopy(dft_res.mo_coeff); occ0 = copy.deepcopy(dft_res.mo_occ);  occ0[0][0] = 0.0; dft_ion = scf.UKS(mol)\n",
    "    dft_ion.xc = f'{h_x:} * HF + {p_x:} * PBE, PBE'\n",
    "    scf.addons.mom_occ(dft_ion, mo0, occ0); dft_ion.kernel()\n",
    "    # Extract results\n",
    "    hf_pbe[0].append(au2ev*(dft_ion.energy_tot() - dft_res.energy_tot()))\n",
    "    hf_pbe[1].append(-au2ev*dft_res.mo_energy[0][0])"
   ]
  },
  {
   "cell_type": "markdown",
   "metadata": {},
   "source": [
    "With results:"
   ]
  },
  {
   "cell_type": "code",
   "execution_count": 8,
   "metadata": {},
   "outputs": [
    {
     "data": {
      "image/png": "[encoded data removed]",
      "text/plain": [
       "<Figure size 432x288 with 1 Axes>"
      ]
     },
     "metadata": {
      "needs_background": "light"
     },
     "output_type": "display_data"
    }
   ],
   "source": [
    "plt.figure(figsize=(6,4))\n",
    "plt.plot(hf_exc,hf_blyp[0],'bs--')\n",
    "plt.plot(hf_exc,hf_blyp[1],'ro--')\n",
    "plt.plot(hf_exc,hf_pbe[0],'d--',color='orange')\n",
    "plt.plot(hf_exc,hf_pbe[1],'g^--')\n",
    "plt.plot([-0.1,1.1],[539.9,539.9],'k-')\n",
    "plt.legend((r'BxLYP ($\\Delta$SCF)','BxLYP (Koopmans\\')',r'PBEx ($\\Delta$SCF)','PBEx (Koopmans\\')','Expt'))\n",
    "plt.xlim((-0.025,1.025)); plt.ylim((508,562.))\n",
    "plt.xlabel('HF exchange [%]')\n",
    "plt.ylabel('Ionization potential [eV]')\n",
    "plt.show()"
   ]
  },
  {
   "cell_type": "markdown",
   "metadata": {},
   "source": [
    "As can be seen, the IP error from MO energies (which scales as the XAS error) does not appreciably depend on the functional, save for HF exchange.\n",
    "\n",
    "- Radial distribution for functionals?\n",
    "\n",
    "- Calculate SIE?\n",
    "\n",
    "\n",
    "(sec:xray_topics_chloc)=\n",
    "## Core-hole localization\n",
    "\n",
    "- Compare \"physical reality\" and practical calculations\n",
    "\n",
    "- Discuss localization for IP and XES\n",
    "    - Example: ethene\n",
    "\n",
    "- Might mention XAS with, e.g., STEX and TP-DFT as well\n",
    "\n",
    "\n",
    "(sec:xray_topics_tailcvs)=\n",
    "## Tailored CVS\n",
    "\n",
    "- Tie to discussion of core-hole localization as found above\n",
    "\n",
    "- Focus on ADC\n",
    "    - Example: ethene"
   ]
  }
 ],
 "metadata": {
  "celltoolbar": "Tags",
  "kernelspec": {
   "display_name": "Python 3",
   "language": "python",
   "name": "python3"
  },
  "language_info": {
   "codemirror_mode": {
    "name": "ipython",
    "version": 3
   },
   "file_extension": ".py",
   "mimetype": "text/x-python",
   "name": "python",
   "nbconvert_exporter": "python",
   "pygments_lexer": "ipython3",
   "version": "3.7.9"
  }
 },
 "nbformat": 4,
 "nbformat_minor": 4
}
