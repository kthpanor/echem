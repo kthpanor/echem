{
 "cells": [
  {
   "cell_type": "markdown",
   "id": "eb597949-bc6b-4c99-9ad9-2daf55eeffc6",
   "metadata": {},
   "source": [
    "# ADC exercises\n",
    "\n",
    "In this exercise, we will implement the closed-shell restricted ADC(1) matrix yourself and diagonalize it to obtain excitation energies. We will use [Gator](sec:gator) to compare the results and obtain both singlet and triplet excitation energies. Furthermore, we will consider the core-valence separation (CVS) approximation for the calculation of core-excited states.\n",
    "\n",
    "First, we define a small molecule (lithium hydride) and minimal basis set (STO-3G)."
   ]
  },
  {
   "cell_type": "markdown",
   "id": "84d9ef45-4a35-4b3d-928c-cbc80d77f03e",
   "metadata": {},
   "source": [
    "```python\n",
    "import veloxchem as vlx\n",
    "import gator\n",
    "import py3Dmol as p3d\n",
    "import numpy as np\n",
    "from veloxchem.mointsdriver import MOIntegralsDriver\n",
    "\n",
    "np.set_printoptions(precision=5, suppress=True)\n",
    "# Conversion from Hartree to eV for later use\n",
    "au2ev = vlx.veloxchemlib.hartree_in_ev()\n",
    "print(au2ev)\n",
    "\n",
    "lih_xyz=\"\"\"2\n",
    "\n",
    "Li  0.000000   0.000000   0.000000\n",
    "H   0.000000   0.000000   1.000000\n",
    "\"\"\"\n",
    "lih = vlx.Molecule.from_xyz_string(lih_xyz)\n",
    "\n",
    "# Method and basis set\n",
    "method = 'adc1'\n",
    "basis_set_label = \"sto-3g\"\n",
    "basis = vlx.MolecularBasis.read(lih, basis_set_label)\n",
    "```"
   ]
  },
  {
   "cell_type": "markdown",
   "id": "d867cfaf-4d48-46a2-b4d5-6f58bcb739dc",
   "metadata": {},
   "source": [
    "## Calculate reference state"
   ]
  },
  {
   "cell_type": "markdown",
   "id": "ea4b509e-51fd-4c0d-893f-b33aa8a79821",
   "metadata": {
    "tags": []
   },
   "source": [
    "```python\n",
    "# SCF will be run by VeloxChem through Gator\n",
    "scf = gator.run_scf(lih, basis, conv_thresh=1e-10, verbose=True)\n",
    "```"
   ]
  },
  {
   "cell_type": "markdown",
   "id": "eedb1153-f081-4b8a-9762-f966cf7832de",
   "metadata": {},
   "source": [
    "**Look at the molecular orbitals**\n",
    "\n",
    "- Can you assign symmetry labels to the orbitals?\n",
    "  - $\\sigma$ orbitals are rotationally symmetric around the molecular axis (projection of the electron's angular momentum onto the molecular axis $\\lambda = 0$)\n",
    "  - $\\pi$ orbitals have one nodal plane along the axis ($\\lambda = \\pm 1$)"
   ]
  },
  {
   "cell_type": "markdown",
   "id": "82fcfcbe-2789-4d52-8438-64511c68b06b",
   "metadata": {},
   "source": [
    "```python\n",
    "orb_viewer = vlx.OrbitalViewer()\n",
    "orb_viewer.plot(lih, basis, scf.mol_orbs)\n",
    "```"
   ]
  },
  {
   "cell_type": "markdown",
   "id": "762f9e7f-f256-4d62-bd4c-32d63ba33aa7",
   "metadata": {},
   "source": [
    "## Contruct the ADC(1) matrix\n",
    "\n",
    "The ADC(1) matrix $\\mathbf{M}$ is in a *spin-orbital basis* given by\n",
    "\n",
    "$$\n",
    "  M_{ia,jb} = (\\epsilon_a - \\epsilon_i) \\delta_{ij} \\delta_{ab} - \\langle ja || ib \\rangle \\, ,\n",
    "$$\n",
    "\n",
    "which for a closed-shell restricted HF reference can be written in terms of _spatial_ orbitals as\n",
    "\n",
    "$$\n",
    "   M_{ia,jb} = (\\epsilon_a - \\epsilon_i) \\delta_{ij} \\delta_{ab} + 2 \\langle i j | a b \\rangle  - \\langle j a | i b \\rangle \\, ,\n",
    "$$\n",
    "\n",
    "where $\\epsilon_p$ are HF orbital energies and $\\langle p q | r s \\rangle$ are two-electron repulsion integrals in physicists' (\"1212\") notation.\n",
    "\n",
    "- We look at a very simple example of the LiH molecule in a minimal basis (STO-3G), having two occupied and four virtual orbitals\n",
    "- The first task is to construct the closed-shell ADC(1) matrix \"by hand.\" For this, we need the HF orbital energies (collected in a diagonal matrix) and the two-electron integrals\n",
    "- You can also construct the ADC(0) matrix, which consists only of the orbital-energy differences on the diagonal"
   ]
  },
  {
   "cell_type": "markdown",
   "id": "43a22ef1-96b8-4e26-8ec1-40262ac33071",
   "metadata": {},
   "source": [
    "Extract MO energies and two-electron integrals:\n",
    "\n",
    "```python\n",
    "# MO energies in diagonal matrix\n",
    "mo_energies = np.diag(scf.scf_tensors['E'])\n",
    "\n",
    "# Two-electron integrals from vlx\n",
    "moints_drv = MOIntegralsDriver()\n",
    "oovv = moints_drv.compute_in_mem(lih, basis, scf.mol_orbs, \"OOVV\")\n",
    "ovov = moints_drv.compute_in_mem(lih, basis, scf.mol_orbs, \"OVOV\")\n",
    "```"
   ]
  },
  {
   "cell_type": "markdown",
   "id": "0b064e4c-c116-4cf4-9a58-ffd11673537f",
   "metadata": {},
   "source": [
    "Construct matrix:\n",
    "\n",
    "```python\n",
    "# Number of occupied and virtual orbitals\n",
    "nocc = lih.number_of_alpha_electrons()\n",
    "norb = mo_energies.shape[0]\n",
    "nvir = norb - nocc\n",
    "nexc = nocc * nvir # number of excited (singlet or triplet) states in ADC(1)\n",
    "print(\"nocc: \", nocc)\n",
    "print(\"nvir: \", nvir)\n",
    "\n",
    "# ADC matrices with zeroes\n",
    "adc0_mat4d = np.zeros((nocc, nvir, nocc, nvir))\n",
    "adc1_mat4d = np.zeros((nocc, nvir, nocc, nvir))\n",
    "\n",
    "# Loop over all indices and fill matrix with corresponding elements\n",
    "for i in range(nocc):\n",
    "    for a in range(nvir):\n",
    "        # Fill the diagonal (orbital-energy differences)\n",
    "        adc0_mat4d[i,a,i,a] = ...\n",
    "        adc1_mat4d[i,a,i,a] = ...\n",
    "        for j in range(nocc):\n",
    "            for b in range(nvir):\n",
    "                # Fill the rest (two-electron integrals)\n",
    "                ...\n",
    "```"
   ]
  },
  {
   "cell_type": "markdown",
   "id": "bad7f69d-67bd-45a7-b9fe-6e1b38711535",
   "metadata": {},
   "source": [
    "Reshape:\n",
    "\n",
    "```python\n",
    "# Reshape the 4D into 2D matrices (and print them if you like)\n",
    "adc0_mat2d = ...\n",
    "#print(\"ADC(0) matrix:\\n\", adc0_mat2d.shape, \"\\n\", adc0_mat2d)\n",
    "\n",
    "adc1_mat2d = ...\n",
    "#print(\"\\nclosed-shell ADC(1) matrix:\\n\", adc1_mat2d.shape, \"\\n\", adc1_mat2d)\n",
    "```"
   ]
  },
  {
   "cell_type": "markdown",
   "id": "82fb4ec3-fdc9-4ab2-b26e-6a650f836489",
   "metadata": {},
   "source": [
    "And iagonalize the ADC(1) matrix:\n",
    "\n",
    "```python\n",
    "adc1_eigvals = np.linalg.eigvalsh(...)\n",
    "print(\"Closed-shell ADC(1)/STO-3G eigenvalues:\\n\", adc1_eigvals)\n",
    "```"
   ]
  },
  {
   "cell_type": "markdown",
   "id": "bd88df9e-4109-4e9a-8ddd-3ef35266e7da",
   "metadata": {},
   "source": [
    "- Now we want to compare the obtained eigenvalues with the results from Gator"
   ]
  },
  {
   "cell_type": "markdown",
   "id": "754c1c4d-6bc4-4d33-b6bb-9d4eefb187a7",
   "metadata": {},
   "source": [
    "## ADC calculation in Gator"
   ]
  },
  {
   "cell_type": "markdown",
   "id": "1c0a3d5c-88de-447e-b7bb-c2bde9c595f9",
   "metadata": {},
   "source": [
    "```python\n",
    "adc_results = gator.run_adc(lih, basis, scf, verbose=False, method='adc1',\n",
    "                            singlets=nexc, tol=1e-5)\n",
    "```"
   ]
  },
  {
   "cell_type": "markdown",
   "id": "386238f3-9cce-4642-be43-cbe26df3dbe4",
   "metadata": {},
   "source": [
    "```python\n",
    "# We can print a summary of the results\n",
    "print(adc_results.describe())\n",
    "\n",
    "# Or plot the absorbtion spectrum\n",
    "adc_results.plot_spectrum(label='adc(1)')\n",
    "```"
   ]
  },
  {
   "cell_type": "markdown",
   "id": "62569d41-59ee-45a4-9d0e-180b749ff6e7",
   "metadata": {},
   "source": [
    "```python\n",
    "# Compare the two results for the excitation energies\n",
    "# Gator saves them in the member variable \"excitation_energy\"\n",
    "print(\"Closed-shell ADC(1)/STO-3G eigenvalues:\\n\", ...)\n",
    "print(\"\\nADC(1)/STO-3G singlet excitation energies:\\n\", ...)\n",
    "```"
   ]
  },
  {
   "cell_type": "markdown",
   "id": "a5f48d06-366f-46f7-be2e-7a6d709b2641",
   "metadata": {},
   "source": [
    "- You should see that the two results are identical\n",
    "\n",
    "## Obtain and diagonalize the full ADC(1) matrix\n",
    "\n",
    "- One can get the full ADC(1) matrix in spin-orbital basis from Gator\n",
    "- Confirm that it is four times as large as the closed-shell restricted one (having $\\alpha\\alpha, \\alpha\\beta, \\beta\\alpha$, and $\\beta\\beta$ blocks)\n",
    "- The next task is to diagonalize it and have a look at the excitation energies and their degeneracies\n",
    "- Can you assign term symbols (singlet or triplet, $\\Sigma$ or $\\Pi$ state) to the respective excited states?\n",
    "    - Hint: the symmetry labels of the orbitals and degeneracies should be able to help you"
   ]
  },
  {
   "cell_type": "markdown",
   "id": "ef5e8e49-1184-4d29-97d2-c07c90842dd2",
   "metadata": {},
   "source": [
    "```python\n",
    "# This is the full matrix\n",
    "gator_adc_matrix = adc_results.matrix.to_ndarray()\n",
    "# Print the matrix and its shape\n",
    "...\n",
    "```"
   ]
  },
  {
   "cell_type": "markdown",
   "id": "be2911af-f15b-46b1-bad5-2b2bb2748c04",
   "metadata": {},
   "source": [
    "```python\n",
    "# Diagonalize the ADC(1) matrix from Gator to obtain excitation energies and vectors\n",
    "gator_adc1_eigvals, gator_adc1_eigvecs = np.linalg.eigh(...)\n",
    "\n",
    "print(\"Excitation energies from spin-orbital ADC(1)/STO-3G matrix:\\n\", ...)\n",
    "```"
   ]
  },
  {
   "cell_type": "markdown",
   "id": "b894136a-1e37-46cd-b0ee-7c9b4fe99f1d",
   "metadata": {},
   "source": [
    "```python\n",
    "# With gator, one can also look at the excitation vectors ...\n",
    "print(\"ph vector shape:\", adc_results.excitation_vector[0].ph.shape)\n",
    "\n",
    "# ... and have it print out the most important vector amplitudes\n",
    "print(adc_results.describe_amplitudes())\n",
    "```"
   ]
  },
  {
   "cell_type": "markdown",
   "id": "725c7ac7-cab5-4dff-a8db-e7afe41b6fff",
   "metadata": {},
   "source": [
    "- You can also calculate the triplet states to confirm that your assignments were correct\n",
    "- Info: setting `states=...` calculates both singlet and triplet states"
   ]
  },
  {
   "cell_type": "markdown",
   "id": "c35e9a6a-d6ef-4973-bb67-7aa08a3d588f",
   "metadata": {},
   "source": [
    "```python\n",
    "# Calculate triplet excited states\n",
    "adc_triplet_results = gator.run_adc(lih, basis, scf, verbose=False, method='adc1',\n",
    "                            triplets=nexc, tol=1e-5)\n",
    "\n",
    "# Print the triplet excitation energies and compare \n",
    "...\n",
    "```"
   ]
  },
  {
   "cell_type": "markdown",
   "id": "42a1ffce-3c72-4e04-9da4-d014974e404d",
   "metadata": {},
   "source": [
    "- Note that you can calculate 8 triplet states (at most), but they are all triply degenerate, so in total this corresponds to 24 states\n",
    "- Together with the 8 singlets this gives 32 states, the dimension of the full ADC(1)/STO-3G matrix for LiH"
   ]
  },
  {
   "cell_type": "markdown",
   "id": "19ae2c22-8167-45f7-861b-9e5cfbeefd8e",
   "metadata": {},
   "source": [
    "## Core-excited states and core-valence separation (CVS) approximation\n",
    "\n",
    "- From the above results for the (singlet or triplet) excitation energies, you see that they can be divided into two groups (consisting of 4 excited states each):\n",
    "  - Those with an excitation energy $<$0.75 Hartree (singlets) or $<$0.5 Hartree (triplets)\n",
    "  - Those with an excitation energy $>$2 Hartree\n",
    "- The first group can be considered __valence excitations__ (from the filled bonding orbital), the second group are __core excitations__ (from the Li 1s orbital)\n",
    "- __Core-excited states__ can also be targeted directly by employing the CVS approximation\n",
    "- Perform a CVS-ADC(1) calculation with Gator by setting the corresponding method, adjusting the number of states, and setting `core_orbitals=1`\n",
    "- Compare the excitation energies with the corresponding ones from the previous calculation"
   ]
  },
  {
   "cell_type": "markdown",
   "id": "044e7e4d-2565-4b9e-a720-cf17e704083c",
   "metadata": {},
   "source": [
    "```python\n",
    "# Run CVS-ADC(1) calculation with Gator\n",
    "...\n",
    "\n",
    "# Compare the CVS-ADC(1) results with the core-excitation energies from the full (singlet) diagonalization (convert to eV)\n",
    "...\n",
    "```"
   ]
  },
  {
   "cell_type": "markdown",
   "id": "1fe415c6-58dc-48df-9bc5-461525759fc7",
   "metadata": {},
   "source": [
    "- Repeat the SCF calculation with the NaH molecule (just replace Li by Na in the molecule string)\n",
    "- Diagonalize the ADC(1) matrix for all singlets (with Gator or your own implementation)\n",
    "- Compare the core-excitation energies to the results from a corresponding CVS-ADC(1) calculation"
   ]
  },
  {
   "cell_type": "markdown",
   "id": "7abc6bb5-3a6c-4940-b617-6c72e83595fc",
   "metadata": {
    "tags": []
   },
   "source": [
    "```python\n",
    "# Sodium hydride xyz string and molecule object\n",
    "...\n",
    "\n",
    "# Basis set\n",
    "...\n",
    "\n",
    "# Run SCF through Gator\n",
    "...\n",
    "```"
   ]
  },
  {
   "cell_type": "markdown",
   "id": "5b0a7e10-8836-484a-a473-c9d788281a2c",
   "metadata": {},
   "source": [
    "```python\n",
    "# Number of MOs, occupied and virtual orbitals, and excited states for NaH\n",
    "...\n",
    "```"
   ]
  },
  {
   "cell_type": "markdown",
   "id": "a73945e5-1ce1-49e5-8149-2263d4bf521c",
   "metadata": {},
   "source": [
    "```python\n",
    "# Calculate all possible singlet excited states with ADC(1)\n",
    "# How many are there?\n",
    "...\n",
    "\n",
    "# Print the excitation energies\n",
    "...\n",
    "```"
   ]
  },
  {
   "cell_type": "markdown",
   "id": "5b63c9ba-c93e-4d6f-91d4-fe069446d01d",
   "metadata": {},
   "source": [
    "```python\n",
    "# Calculate all possible core-excited states with CVS-ADC(1)\n",
    "# How many are there?\n",
    "...\n",
    "\n",
    "# Compare the results of the core-excitation energies\n",
    "...\n",
    "```"
   ]
  },
  {
   "cell_type": "markdown",
   "id": "8642d191-d86c-49af-9d55-7fc26e173ae0",
   "metadata": {},
   "source": [
    "- You should see that the CVS approximation is even better for NaH than for LiH, which is due to the larger energy separation of the core and valence orbitals"
   ]
  },
  {
   "cell_type": "code",
   "execution_count": null,
   "id": "f8291939-d60e-40f7-a3ca-46178d493e3c",
   "metadata": {},
   "outputs": [],
   "source": []
  }
 ],
 "metadata": {
  "kernelspec": {
   "display_name": "Python 3 (ipykernel)",
   "language": "python",
   "name": "python3"
  },
  "language_info": {
   "codemirror_mode": {
    "name": "ipython",
    "version": 3
   },
   "file_extension": ".py",
   "mimetype": "text/x-python",
   "name": "python",
   "nbconvert_exporter": "python",
   "pygments_lexer": "ipython3",
   "version": "3.9.12"
  }
 },
 "nbformat": 4,
 "nbformat_minor": 5
}
