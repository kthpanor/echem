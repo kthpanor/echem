{
 "cells": [
  {
   "cell_type": "markdown",
   "id": "1f4a1e3f",
   "metadata": {},
   "source": [
    "# Introduction to Jupyter\n",
    "\n",
    "There are many excellent guides to [Jupyter](https://jupyter.org/) (and [Python](https://www.python.org/)) available, with for example [this one](https://weisscharlesj.github.io/SciCompforChemists/intro.html) presenting an introduction on scientific computing for chemists using Python, and other links discussed [here](https://kthpanor.github.io/echem/docs/intro.html#new-to-python-jupyter). We hope that you have had the time to look over some of these resources and will go over the basics of Jupyter relatively rapidly, moving over to quantum chemical calculations and different functions and routines that will be used this week."
   ]
  },
  {
   "cell_type": "markdown",
   "id": "477a265f",
   "metadata": {},
   "source": [
    "# Cell types\n",
    "\n",
    "A Jupyter notebook consists of a number of different cells which can be executed in any order, the most relevant being:\n",
    "- Markdown: where you write text and equations, have hyperlinks, figures, and more\n",
    "- Code: which contains executable (Python) code\n",
    "\n",
    "A cell is executed by marking the cell and pressing `shift`+`enter`, or the `run` botton at the top. For a markdown cell this formats the text, and for code cells it runs the code. You can also press `ctrl`+`enter`, which only runs the cell, while `shift`+`enter` runs the cell and then selects the next one. Results from cells saved in memory, so it is often a good idea to separate one long calculation into several blocks, *e.g.* performing the heavy calculation(s) in one block and doing post-processing in another block. The cell-type is selected in a scroll-down window at the top of the notebook window, which for this cell is `Markdown`. For editing the formatted markdown cells you double-click on the text, which changes the format to plain text."
   ]
  },
  {
   "cell_type": "markdown",
   "id": "d06ea327-1ea2-4189-98b6-16d31fcc58fe",
   "metadata": {},
   "source": [
    "## Markdown cells\n",
    "\n",
    "[Markdown](https://www.markdownguide.org/) is a lightweight language for creating formatted code, with syntax examples including:\n",
    "\n",
    "---\n",
    "\n",
    "```\n",
    "# Heading 1\n",
    "\n",
    "## Heading 2\n",
    "\n",
    "### Heading 3\n",
    "\n",
    "#### Heading 4\n",
    "```\n",
    "\n",
    "-- *yields* --\n",
    "\n",
    "# Heading 1\n",
    "\n",
    "## Heading 2\n",
    "\n",
    "### Heading 3\n",
    "\n",
    "#### Heading 4\n",
    "\n",
    "---\n",
    "\n",
    "\n",
    "```\n",
    "You can write text in **bold** or *italics*, and have\n",
    "\n",
    "line breaks like this.\n",
    "\n",
    "```\n",
    "-- *yields* --\n",
    "\n",
    "You can write text in **bold** or *italics*, and have\n",
    "\n",
    "line breaks like this.\n",
    "\n",
    "---\n",
    "\n",
    "```\n",
    "- Subject 1\n",
    "    1. Detail 1\n",
    "    2. Detail 2\n",
    "- Subject 2\n",
    "    - Another detail\n",
    "1. New subject 1\n",
    "\n",
    "```\n",
    "-- *yields* --\n",
    "\n",
    "- Subject 1\n",
    "    1. Detail 1\n",
    "    2. Detail 2\n",
    "- Subject 2\n",
    "    - Another detail\n",
    "1. New subject\n",
    "\n",
    "---\n",
    "\n",
    "\n",
    "```\n",
    "Can link to [wikipedia](https://www.wikipedia.org/).\n",
    "\n",
    "```\n",
    "-- *yields* --\n",
    "\n",
    "Can link to [wikipedia](https://www.wikipedia.org/).\n",
    "\n",
    "---\n",
    "\n",
    "\n",
    "```\n",
    "Equations can be written with similar syntax as Latex, *e.g.*\n",
    "\n",
    "$$\n",
    "\\overline{F} = m \\overline{a},\n",
    "$$\n",
    "\n",
    "as well as in sentences, such as $\\overline{F} = m \\overline{a}$.\n",
    "\n",
    "```\n",
    "\n",
    "-- *yields* --\n",
    "\n",
    "Equations can be written with similar syntax as Latex, *e.g.*\n",
    "\n",
    "$$\n",
    "\\overline{F} = m \\overline{a},\n",
    "$$\n",
    "\n",
    "as well as in sentences, such as $\\overline{F} = m \\overline{a}$.\n",
    "\n",
    "\n",
    "---\n",
    "\n",
    "\n",
    "```\n",
    "![echem](figures/echem.png)\n",
    "\n",
    "```\n",
    "-- *yields* --\n",
    "\n",
    "![echem](figures/echem.png)\n",
    "\n",
    "\n",
    "\n",
    "---\n",
    "\n",
    "Markdown cells will be used throughout the week, and the above examples should cover the main functionalities you need to be familiar with, and you can find more [here](https://www.markdownguide.org/basic-syntax)."
   ]
  },
  {
   "cell_type": "markdown",
   "id": "b5f9c910-a922-491b-bbe3-b1f805ff4604",
   "metadata": {},
   "source": [
    "## Code cells\n",
    "\n",
    "Are written as Python code, for which tutorials can be found, *e.g.*, [here](https://docs.python.org/3/tutorial/) and [here](https://www.w3schools.com/python/). As a basic example, we define a function in one cell (saving it in memory), and call this function in a second cell:"
   ]
  },
  {
   "cell_type": "code",
   "execution_count": null,
   "id": "8ad6fbbe",
   "metadata": {},
   "outputs": [],
   "source": [
    "def sum_numbers(a, b):\n",
    "    return a + b"
   ]
  },
  {
   "cell_type": "code",
   "execution_count": null,
   "id": "5c111f3b",
   "metadata": {},
   "outputs": [],
   "source": [
    "sum_numbers(1, 2.0)"
   ]
  },
  {
   "cell_type": "markdown",
   "id": "7233a69d",
   "metadata": {},
   "source": [
    "Assigning this to a variable and printing as a string:"
   ]
  },
  {
   "cell_type": "code",
   "execution_count": null,
   "id": "0f1d7db8",
   "metadata": {},
   "outputs": [],
   "source": [
    "a = 1\n",
    "b = 2.0\n",
    "n_sum = sum_numbers(a, b)\n",
    "print(n_sum)"
   ]
  },
  {
   "cell_type": "markdown",
   "id": "20eecb0c-3f4d-43cb-b3d4-0036933b3c98",
   "metadata": {},
   "source": [
    "Note that Python automatically assign variable type, and here understands that an integer and a float can be added together and will return a float.\n",
    "\n",
    "Printing with more advanced formatting, as well as adding a comment (#):"
   ]
  },
  {
   "cell_type": "code",
   "execution_count": null,
   "id": "a98c1a01-762b-4888-8b57-d691336f136a",
   "metadata": {},
   "outputs": [],
   "source": [
    "print(f\"The sum of {a} and {b} is {n_sum}\")\n",
    "\n",
    "# tweaking position, number of decimals, and notation format\n",
    "print(f\"The sum of {a:4d} and {b:5.4f} is {n_sum:.4E}\")"
   ]
  },
  {
   "cell_type": "markdown",
   "id": "27ffd0d9",
   "metadata": {},
   "source": [
    "You can format the code cells by running the `Format notebook` command at the top of the window (between cell type selection and the clock symbol). This will, for instance, turn\n",
    "\n",
    "```python\n",
    "import numpy as np\n",
    "import matplotlib.pyplot as plt\n",
    "\n",
    "\n",
    "import veloxchem as vlx\n",
    "call_funtion(argument1, argument2,argument3,   argument4,argument5) # commenting this function\n",
    "```\n",
    "\n",
    "to\n",
    "\n",
    "```python\n",
    "import matplotlib.pyplot as plt\n",
    "import numpy as np\n",
    "import veloxchem as vlx\n",
    "\n",
    "call_funtion(\n",
    "    argument1, argument2, argument3, argument4, argument5\n",
    ")  # commenting this function\n",
    "```\n",
    "\n",
    "# Python ecosystem\n",
    "\n",
    "Python has a large number of modules and packages available, with the main ones used this week being:\n",
    "\n",
    "- `numpy`: large collection of mathematical functionalities\n",
    "- `matplotlib`: library for plotting\n",
    "- `veloxchem`: quantum chemical program from KTH\n",
    "- `py3Dmol`: for illustrating molecules\n",
    "- `scipy`: library for scientific and technical computing\n",
    "\n",
    "These modules can be loaded as a whole (often given an alias to avoid function collisions and overwriting), or by loading specific function. We load the required modules as:"
   ]
  },
  {
   "cell_type": "code",
   "execution_count": null,
   "id": "92c29554",
   "metadata": {},
   "outputs": [],
   "source": [
    "import matplotlib.pyplot as plt\n",
    "import numpy as np\n",
    "import py3Dmol as p3d\n",
    "import scipy\n",
    "import veloxchem as vlx"
   ]
  },
  {
   "cell_type": "code",
   "execution_count": null,
   "id": "27839175-fdde-4d37-a0d9-4bbccc6d0816",
   "metadata": {},
   "outputs": [],
   "source": [
    "# The following is a temporary solution to avoid OpenMP conflicts that tends to occur on Windows\n",
    "# (If your kernel dies when running VeloxChem, you should start by making sure this is run)\n",
    "import os\n",
    "\n",
    "os.environ[\"KMP_DUPLICATE_LIB_OK\"] = \"TRUE\""
   ]
  },
  {
   "cell_type": "markdown",
   "id": "dfd93100",
   "metadata": {},
   "source": [
    "Functionalities from the packages are used by calling the appropriate package and function, *e.g.* to create a figure for plotting we would run:\n",
    "\n",
    "```\n",
    "plt.figure()\n",
    "```\n",
    "\n",
    "\n",
    "# Molecular structure\n",
    "\n",
    "Moving to calculations of chemical systems, consider gaseous water using the following geometry:"
   ]
  },
  {
   "cell_type": "code",
   "execution_count": null,
   "id": "4ccb332f",
   "metadata": {},
   "outputs": [],
   "source": [
    "water_xyz = \"\"\"3 \n",
    "\n",
    "O       0.0000000000     0.1178336003     0.0000000000\n",
    "H      -0.7595754146    -0.4713344012    -0.0000000000\n",
    "H       0.7595754146    -0.4713344012     0.0000000000\n",
    "\"\"\""
   ]
  },
  {
   "cell_type": "markdown",
   "id": "44de05d6",
   "metadata": {},
   "source": [
    "As written in Cartesian coordinates, with units of Ångström.\n",
    "\n",
    "## Visualize structure\n",
    "\n",
    "The molecule can be [visualized](https://kthpanor.github.io/echem/docs/visualize/struct_vis.html) using [py3Dmol](https://pypi.org/project/py3Dmol/):"
   ]
  },
  {
   "cell_type": "code",
   "execution_count": null,
   "id": "ad26fe36",
   "metadata": {},
   "outputs": [],
   "source": [
    "viewer = p3d.view()\n",
    "viewer.addModel(water_xyz)\n",
    "viewer.show()"
   ]
  },
  {
   "cell_type": "markdown",
   "id": "ce72c4c7-6213-4d9d-86c0-8143cefaaaa6",
   "metadata": {},
   "source": [
    "As you can see, this line representation is hard to look at when considering such a small molecule, and we change to a stick figure with a black outline, shown in a smaller panel:"
   ]
  },
  {
   "cell_type": "code",
   "execution_count": null,
   "id": "4bfeef16-2a1f-42e8-9628-dc26383ecea6",
   "metadata": {},
   "outputs": [],
   "source": [
    "viewer = p3d.view(width=400, height=300)\n",
    "viewer.setViewStyle(\n",
    "    {\"style\": \"outline\", \"color\": \"black\", \"width\": 0.1}\n",
    ")  # Included for better contrast\n",
    "viewer.addModel(water_xyz)\n",
    "viewer.setStyle({\"stick\": {}})\n",
    "viewer.show()"
   ]
  },
  {
   "cell_type": "markdown",
   "id": "f1919abd",
   "metadata": {},
   "source": [
    "The perspective can be rotated and zoomed.\n",
    "\n",
    "\n",
    "## Wave function calculation\n",
    "\n",
    "The Hartree-Fock method and SCF procedure will be discussed tomorrow, so for now we focus on how [VeloxChem](https://veloxchem.org/docs/intro.html) can be used to calculate a wave function, and examples of how this can be used to look at molecular orbitals, construct potential energy surfaces, and more.\n",
    "\n",
    "In order to calculate the wave function, construct a `molecule` and `basis` [object](https://kthpanor.github.io/echem/docs/elec_struct/orbitals.html#basis-sets) containing the geometry and adopted basis set:"
   ]
  },
  {
   "cell_type": "code",
   "execution_count": null,
   "id": "a8a079ac",
   "metadata": {},
   "outputs": [],
   "source": [
    "molecule = vlx.Molecule.from_xyz_string(water_xyz)  # convert xyz to veloxchem format\n",
    "basis = vlx.MolecularBasis.read(\n",
    "    molecule, \"6-31G\"\n",
    ")  # create a basis object, using the 6-31G basis set"
   ]
  },
  {
   "cell_type": "markdown",
   "id": "13fbcb2f",
   "metadata": {},
   "source": [
    "The number of basis functions for the system is printed above, or can be found by:"
   ]
  },
  {
   "cell_type": "code",
   "execution_count": null,
   "id": "6e3b0408",
   "metadata": {},
   "outputs": [],
   "source": [
    "print(vlx.MolecularBasis.get_dimensions_of_basis(basis, molecule))"
   ]
  },
  {
   "cell_type": "markdown",
   "id": "c71d7ea4",
   "metadata": {},
   "source": [
    "Now, perform a (restricted) [SCF](https://kthpanor.github.io/echem/docs/elec_struct/hartree-fock.html#scf-procedure) calculation:"
   ]
  },
  {
   "cell_type": "code",
   "execution_count": null,
   "id": "15ea0431",
   "metadata": {
    "tags": []
   },
   "outputs": [],
   "source": [
    "scf_drv = vlx.ScfRestrictedDriver()\n",
    "scf_drv.compute(molecule, basis)"
   ]
  },
  {
   "cell_type": "markdown",
   "id": "b9e3c6c0",
   "metadata": {
    "tags": []
   },
   "source": [
    "> **Tip:** If the output of any cell (or the cell itself) is a bit long you can collapse it by pressing the blue bar to the left (visible when a cell is selected). You can also right-click and activate `Enable Scrolling for Outputs` for the cell.\n",
    "\n",
    "\n",
    "The results are stored in the `scf_drv`object and can be used for analysis, further calculations, etc. In order to better understand what the object is and what it contains, we can run:"
   ]
  },
  {
   "cell_type": "code",
   "execution_count": null,
   "id": "cc11b07e",
   "metadata": {
    "tags": []
   },
   "outputs": [],
   "source": [
    "scf_drv?"
   ]
  },
  {
   "cell_type": "markdown",
   "id": "bcc9d4aa",
   "metadata": {},
   "source": [
    "This returns the docstring and some basic information on the object. You can get more extensive information by running `help(scf_drv)`:"
   ]
  },
  {
   "cell_type": "code",
   "execution_count": null,
   "id": "a4ad4e76-f283-49fb-a220-cb2bf1c51da3",
   "metadata": {},
   "outputs": [],
   "source": [
    "help(scf_drv)"
   ]
  },
  {
   "cell_type": "markdown",
   "id": "efcd1a8b-5ad1-43a0-8072-57800ca768c8",
   "metadata": {},
   "source": [
    "Finally, in order to see which instances and functions can be accessed, you can use auto-completion by writing `basis.` and pressing tab. This shows all options with the same start as what you have written in a scroll-down window. For example, you can find a function called `get_scf_energy`, which returns the SCF energy:"
   ]
  },
  {
   "cell_type": "code",
   "execution_count": null,
   "id": "6a53bdd3",
   "metadata": {},
   "outputs": [],
   "source": [
    "print(scf_drv.get_scf_energy())"
   ]
  },
  {
   "cell_type": "markdown",
   "id": "61ed008f",
   "metadata": {},
   "source": [
    "## Basis set effects\n",
    "\n",
    "Next, let us consider impact of different basis sets on the total energy, and note any general trends for increasing basis set sizes. For this we first consider the construction and manipulation of Python lists, as well as plotting functionalities from `matplotlib`.\n",
    "\n",
    "### Python lists\n",
    "\n",
    "Lists are collections of elements (numbers, strings, other lists, ...), which can be modified. A list can be created by placing these elements within brackets, *e.g*:"
   ]
  },
  {
   "cell_type": "code",
   "execution_count": null,
   "id": "9b9ec816-02d5-42a4-8d3e-713da844bb26",
   "metadata": {},
   "outputs": [],
   "source": [
    "list_fib = [0, 1, 1, 2, 3, 5]"
   ]
  },
  {
   "cell_type": "markdown",
   "id": "7c2c149d-e3e3-4d33-9306-f58deb62b197",
   "metadata": {},
   "source": [
    "Creates a list containing the first six numbers from the Fibonacci sequence. We define a function which calculates the next number in the sequence, and use this to add the next five numbers:"
   ]
  },
  {
   "cell_type": "code",
   "execution_count": null,
   "id": "067e2133-29d7-4890-be72-338a9a52f4d3",
   "metadata": {},
   "outputs": [],
   "source": [
    "def fib_seq(fib_seq):\n",
    "    new_n = fib_seq[len(fib_seq) - 1] + fib_seq[len(fib_seq) - 2]\n",
    "    fib_seq.append(new_n)\n",
    "    return fib_seq\n",
    "\n",
    "\n",
    "for i in range(5):\n",
    "    list_fib = fib_seq(list_fib)\n",
    "\n",
    "print(list_fib)"
   ]
  },
  {
   "cell_type": "markdown",
   "id": "22cbe594-6266-4c66-93ba-f81d1b88bad8",
   "metadata": {},
   "source": [
    "### Basic plotting\n",
    "\n",
    "For constructing a basic figure we initiate a `figure` object, plot the Fibonacci sequence, and show the result:"
   ]
  },
  {
   "cell_type": "code",
   "execution_count": null,
   "id": "98f588f3-a6cb-4553-b50c-3311863d8cf3",
   "metadata": {},
   "outputs": [],
   "source": [
    "plt.figure()\n",
    "plt.plot(list_fib)\n",
    "plt.show()"
   ]
  },
  {
   "cell_type": "markdown",
   "id": "5c83eab1-5789-4f04-9b7e-84f93af07d07",
   "metadata": {},
   "source": [
    "As `plt.plot` did not get explicit x-values, it here simply uses the elements indices. Explicitly providing these indices as a list, and tweaking the plot setting for a more appealing figure:"
   ]
  },
  {
   "cell_type": "code",
   "execution_count": null,
   "id": "f79c2659-355a-49d6-b779-dd3e14ddabb3",
   "metadata": {},
   "outputs": [],
   "source": [
    "plt.figure(figsize=(6, 4))  # Tweak figure size\n",
    "plt.title(\"Nicer figure\")  # Title\n",
    "\n",
    "# plot circles at points, connected with a dashed line:\n",
    "x = [0, 1, 2, 3, 4, 5, 6, 7, 8, 9, 10]  # list of x-values\n",
    "plt.plot(x, list_fib, \"o--\", color=\"darkred\", label=\"Fibonacci sequence\")\n",
    "\n",
    "plt.legend(\n",
    "    loc=\"upper left\"\n",
    ")  # Include legend (using label from above), placed in upper left corner\n",
    "plt.xlim((0.0, 10.0))  # limits of x-axis\n",
    "plt.ylim((0.0, 60.0))  # limits of y-axis\n",
    "plt.grid()  # Include a grid\n",
    "plt.xlabel(\"Index\")\n",
    "plt.ylabel(\"Value\")\n",
    "plt.show()"
   ]
  },
  {
   "cell_type": "markdown",
   "id": "50744e2b-e0ad-4e1c-922c-4fa9191865ac",
   "metadata": {},
   "source": [
    "With this, we are ready to calculate the SCF energies with different basis sets, and plot the energy as a function of basis set size. First, define a function which takes in the geometry and basis set, and returns the SCF energy and the number of basis functions:\n",
    "\n",
    "```\n",
    "def calc_scf(xyz_str,basis):\n",
    "    ...\n",
    "    return scf_energy, n_bas\n",
    "```\n",
    "\n",
    "Using the structure and basis set from above water calculations, `print(calc_scf(water_xyz,'6-31G*'))` should return `(-76.00893877842314, 18)` (along with printed VeloxChem output, depending on the verbose level).\n",
    "\n",
    "> **Exercise:** Construct above function and perform the test."
   ]
  },
  {
   "cell_type": "code",
   "execution_count": null,
   "id": "0e9daf40-ab5d-4544-a66e-243946f8b2da",
   "metadata": {
    "tags": []
   },
   "outputs": [],
   "source": [
    "# Your code here\n",
    "\n",
    "# Solution\n",
    "def calc_scf(xyz, basis):\n",
    "    molecule = vlx.Molecule.from_xyz_string(xyz)\n",
    "    basis = vlx.MolecularBasis.read(molecule, basis)\n",
    "    n_bas = vlx.MolecularBasis.get_dimensions_of_basis(basis, molecule)\n",
    "    scf_drv = vlx.ScfRestrictedDriver()\n",
    "    scf_drv.compute(molecule, basis)\n",
    "    scf_energy = scf_drv.get_scf_energy()\n",
    "    return scf_energy, n_bas\n",
    "\n",
    "\n",
    "print(calc_scf(water_xyz, \"6-31G*\"))"
   ]
  },
  {
   "cell_type": "markdown",
   "id": "d957dcf9-73f4-4c08-a479-a782b749df70",
   "metadata": {},
   "source": [
    "> **Exercise:** Run with the following set of basis sets, and append the results to lists with resulting energies and basis set sizes\n",
    "\n",
    "    - STO-3G\n",
    "    - 6-31G\n",
    "    - 6-31++G**\n",
    "    - 6-311G\n",
    "    - 6-311++G**\n",
    "    \n",
    "Details on what the basis set designations mean can be found elsewhere, *e.g.* at [wikipedia](https://en.wikipedia.org/wiki/Basis_set_(chemistry)).\n",
    "\n",
    "> **Tip:** an empty list can be initiated with `tmp = []`, and then appended with `tmp.append(value)`.\n",
    "\n",
    "> **Note:** Should the calculation hang up/take too long, you can restart it with `kernel > restart`."
   ]
  },
  {
   "cell_type": "code",
   "execution_count": null,
   "id": "c53a4366-3989-472b-b5d6-4bff717d19fc",
   "metadata": {
    "tags": []
   },
   "outputs": [],
   "source": [
    "# Your code here\n",
    "\n",
    "# Solution\n",
    "scf_energies = []\n",
    "basis_size = []\n",
    "for basis in [\"STO-3G\", \"6-31G\", \"6-31++G**\", \"6-311G\", \"6-311++G**\"]:\n",
    "    energy_tmp, n_bas_tmp = calc_scf(water_xyz, basis)\n",
    "    scf_energies.append(energy_tmp)\n",
    "    basis_size.append(n_bas_tmp)"
   ]
  },
  {
   "cell_type": "markdown",
   "id": "7dc8d83e-9e3a-41c3-8d46-14359ebb14e1",
   "metadata": {},
   "source": [
    "> **Exercise:** Plot the resulting energies as a function of basis set size. How does it behave? Why?"
   ]
  },
  {
   "cell_type": "code",
   "execution_count": null,
   "id": "ca689370-5976-484a-bced-481527e46df8",
   "metadata": {},
   "outputs": [],
   "source": [
    "# Your code here\n",
    "\n",
    "# Solution\n",
    "plt.figure(figsize=(6, 4))\n",
    "plt.plot(basis_size, scf_energies, \"o\")\n",
    "plt.show()"
   ]
  },
  {
   "cell_type": "markdown",
   "id": "64a6fc71",
   "metadata": {},
   "source": [
    "# Visualize molecular orbitals\n",
    "\n",
    "Molecular orbitals can be [visualized](https://kthpanor.github.io/echem/docs/visualize/orb_vis.html) using a light-weight, interactive function called `OrbitalViewer`. For this, first recalculate the SCF using a minimal basis set (STO-3G):"
   ]
  },
  {
   "cell_type": "code",
   "execution_count": null,
   "id": "d37043fa-ebf2-4f0b-bb69-38c26948741e",
   "metadata": {
    "tags": []
   },
   "outputs": [],
   "source": [
    "basis = vlx.MolecularBasis.read(molecule, \"STO-3G\")\n",
    "scf_drv = vlx.ScfRestrictedDriver()\n",
    "scf_drv.compute(molecule, basis)"
   ]
  },
  {
   "cell_type": "markdown",
   "id": "9dfaaea8-43cc-4c1c-b99f-6019681270bc",
   "metadata": {},
   "source": [
    "A `viewer` object is then initiated, and used by passing information on the molecular structure, basis set, and SCF:"
   ]
  },
  {
   "cell_type": "code",
   "execution_count": null,
   "id": "9ce63b5b-5409-45d4-a4ee-8d92035dba94",
   "metadata": {},
   "outputs": [],
   "source": [
    "viewer = vlx.OrbitalViewer()\n",
    "viewer.plot(molecule, basis, scf_drv.mol_orbs)"
   ]
  },
  {
   "cell_type": "markdown",
   "id": "87baeb76-d26f-4eab-acff-782b371b21d1",
   "metadata": {},
   "source": [
    "This results in seven molecular orbitals (selected by drop-down menu at the lower left), as the use of a minimal basis set (STO-3G) yields one basis function per hydrogen (1s), and five basis functions for oxygen (1s, 2s, and the three 2p).\n",
    "\n",
    "You can compare these molecular orbitals with those found elsewhere, *e.g.* at [Wikipedia Commons](https://commons.wikimedia.org/wiki/File:Molecular_Orbitals_for_Water.png). You can change the visualization options in the upper right menu, with, *e.g.*, the selected isosurface values under `Objects>Orbitals>...` (positive/negative isosurfaces are treated individually). You an also try changing the basis set to cc-pVDZ and note the difference in number of molecular orbitals, as well as in how they look."
   ]
  },
  {
   "cell_type": "markdown",
   "id": "629c9b24-2a65-4df6-9876-1f5c53fd3685",
   "metadata": {},
   "source": [
    "# CO potential energy surface\n",
    "\n",
    "Next we construct the [potential energy surface (PES)](https://en.wikipedia.org/wiki/Potential_energy_surface) of carbon monoxide, and use this to fit a harmonic potential approximating the influence of bond stretching. In this case the construction of the potential energy surface is straightforward, as we simply change the bond length and document the energy at each position.\n",
    "\n",
    "For calculating the potential energy surface we will use the `replace` command, which works as follows:"
   ]
  },
  {
   "cell_type": "code",
   "execution_count": null,
   "id": "a79a7891-6ef6-4f55-abbd-1c2307a9bcac",
   "metadata": {},
   "outputs": [],
   "source": [
    "start_str = \"John went bowling with Jane\"\n",
    "print(start_str)\n",
    "\n",
    "end_str = start_str.replace(\"John\", \"Andrew\")\n",
    "end_str = end_str.replace(\"bowling\", \"to the cinema\")\n",
    "end_str = end_str.replace(\"Jane\", \"Sarah\")\n",
    "print(end_str)"
   ]
  },
  {
   "cell_type": "markdown",
   "id": "a0cbe438-8608-4f6a-94b3-2be4fdc54574",
   "metadata": {},
   "source": [
    "In order to create a list of bond distances we can use `np.arange` or `np.linspace`, which returns evenly spaced values within a given interval. These values are returned using either a specified step length (`np.arange`), or a specified number of steps (`np.linspace`). Note that `np.arange` gives values up to, but not including, the end point."
   ]
  },
  {
   "cell_type": "code",
   "execution_count": null,
   "id": "2d0a21cc-578a-4188-b050-9c943791b082",
   "metadata": {},
   "outputs": [],
   "source": [
    "print(\"np.arange:\")\n",
    "print(np.arange(10.0))\n",
    "print(np.arange(start=0.0, stop=10.0, step=2.0))\n",
    "print()\n",
    "print(\"np.linspace:\")\n",
    "print(np.linspace(start=0.0, stop=10.0, num=3))\n",
    "print(np.linspace(start=0.0, stop=10.0, num=6))"
   ]
  },
  {
   "cell_type": "markdown",
   "id": "175e6840-e542-4743-aa5f-a0f97c19b5e4",
   "metadata": {},
   "source": [
    "We write, *e.g.*, 10. instead of 10 to ensure that Python understand that we are looking at float numbers.\n",
    "\n",
    "This is useful for a number of applications, such as creating potential energy surfaces or when looping over and using lists:"
   ]
  },
  {
   "cell_type": "code",
   "execution_count": null,
   "id": "678fdaa1-d8b1-415f-80e8-703bcd6d6160",
   "metadata": {},
   "outputs": [],
   "source": [
    "some_string = [\"Printing\", \"elements\", \"one\", \"at\", \"a\", \"time.\"]\n",
    "\n",
    "for i in np.arange(len(some_string)):\n",
    "    print(some_string[i])"
   ]
  },
  {
   "cell_type": "markdown",
   "id": "096878f3-1cfe-4d92-a0a5-d6ae74466bfb",
   "metadata": {},
   "source": [
    "> **Exercise:** Using below starting geometry and lists of energies (empty) and distances, calculate and plot the potential energy surface of CO:"
   ]
  },
  {
   "cell_type": "code",
   "execution_count": null,
   "id": "4d14e08a-3cdf-45d8-9f39-adcf34a74983",
   "metadata": {
    "tags": []
   },
   "outputs": [],
   "source": [
    "co_base = \"\"\"\n",
    "O       0.0       0.0       0.0\n",
    "C         x       0.0       0.0\n",
    "\"\"\"\n",
    "\n",
    "bond_e = []\n",
    "bond_l = np.arange(1.00, 1.40, 0.04)\n",
    "\n",
    "# Your code here\n",
    "\n",
    "# Solution\n",
    "for d in bond_l:\n",
    "    # change C position\n",
    "    co_tmp = co_base.replace(\"x\", \"{}\".format(d))\n",
    "    molecule = vlx.Molecule.read_str(co_tmp)\n",
    "    basis = vlx.MolecularBasis.read(molecule, \"STO-3G\")\n",
    "\n",
    "    # calculate HF energy\n",
    "    scf_settings = {}\n",
    "    method_settings = {}\n",
    "    scf_drv = vlx.ScfRestrictedDriver()\n",
    "    scf_drv.update_settings(scf_settings, method_settings)\n",
    "    scf_drv.compute(molecule, basis)\n",
    "    bond_e.append(scf_drv.get_scf_energy())"
   ]
  },
  {
   "cell_type": "code",
   "execution_count": null,
   "id": "998f135c-4087-4c66-986a-86a4c8e465de",
   "metadata": {},
   "outputs": [],
   "source": [
    "# Your plot here\n",
    "\n",
    "# Solution\n",
    "plt.figure(figsize=(6, 3))\n",
    "plt.plot(bond_l, bond_e, \"o-\")\n",
    "plt.show()"
   ]
  },
  {
   "cell_type": "markdown",
   "id": "44008280-fbeb-46c4-a2e6-628beb8c99b2",
   "metadata": {},
   "source": [
    "## Compare to reference calculation\n",
    "\n",
    "These results can be compared to reference calculations, which are stored in plain text format in the subfolder `data`. These results were obtained using a DFT (with the B3LYP functional), and a 6-311++G** basis set. The data can be loaded using, *e.g.* `np.loadtxt`:"
   ]
  },
  {
   "cell_type": "code",
   "execution_count": null,
   "id": "c6b138de-5574-4df2-a998-d0b72f825677",
   "metadata": {},
   "outputs": [],
   "source": [
    "ref_l = np.loadtxt(\"data/co_bond_l.data\")\n",
    "ref_e = np.loadtxt(\"data/co_bond_e.data\")\n",
    "\n",
    "print(ref_l)"
   ]
  },
  {
   "cell_type": "markdown",
   "id": "14549370-a58a-4994-9b3b-9e451a417adc",
   "metadata": {},
   "source": [
    "> **Exercise:** Plot your data and the reference data in the same figure.\n",
    "\n",
    "> *Note:* The absolute energies are very different, so what should you do?"
   ]
  },
  {
   "cell_type": "code",
   "execution_count": null,
   "id": "b9fc00ae-086b-4a5c-a865-c3a249a6b1f8",
   "metadata": {},
   "outputs": [],
   "source": [
    "# Your code here\n",
    "\n",
    "# Solution\n",
    "plt.figure(figsize=(6, 3))\n",
    "ref_e_shifted = np.array(ref_e) - min(ref_e)\n",
    "plt.plot(ref_l, ref_e_shifted, \"d-\")\n",
    "bond_e_shifted = np.array(bond_e) - min(bond_e)\n",
    "plt.plot(bond_l, bond_e_shifted, \"s-\")\n",
    "plt.show()"
   ]
  },
  {
   "cell_type": "markdown",
   "id": "7937ac66-b6fc-4e61-8442-a0b2f70eecc8",
   "metadata": {
    "jupyter": {
     "outputs_hidden": true
    },
    "tags": []
   },
   "source": [
    "## Fitting harmonic function\n",
    "\n",
    "The change in energy by bond stretch can be approximated as a harmonic potential:\n",
    "\n",
    "$$\n",
    "E_k = \\frac{k_s}{2} \\left( l - l_0\\right)^2\n",
    "$$\n",
    "\n",
    "Such potential fits can be used to form a force field which are then used for molecular dynamics. In order to do this, we will use `scipy.optimize.curve_fit` for optimizing the parameters.\n",
    "\n",
    "For this, consider a near-linear ($y \\approx 2x+2.5$) set of data:"
   ]
  },
  {
   "cell_type": "code",
   "execution_count": null,
   "id": "e4376245-4b1b-4df1-a63e-243d5bb1256d",
   "metadata": {},
   "outputs": [],
   "source": [
    "xdata = [0.1, 1.3, 2.2, 3.5, 4.2, 5.4, 6.6]\n",
    "ydata = [2.9, 4.4, 8.0, 7.7, 10.8, 14.2, 13.7]"
   ]
  },
  {
   "cell_type": "markdown",
   "id": "235a7e67-3e64-49b0-b5da-ad6a05af9ee0",
   "metadata": {},
   "source": [
    "Parameters of a function are optimized by first defining the function, and then using `curve_fit`:"
   ]
  },
  {
   "cell_type": "code",
   "execution_count": null,
   "id": "9d86b88e-a005-43ec-909a-c51d1e89b3eb",
   "metadata": {},
   "outputs": [],
   "source": [
    "def lin_func(x, a, b):\n",
    "    return a * np.array(x) + b\n",
    "\n",
    "popt, pcov = scipy.optimize.curve_fit(lin_func, xdata, ydata)\n",
    "print(\"Optimized parameters [a, b]:\", popt)"
   ]
  },
  {
   "cell_type": "markdown",
   "id": "67f746c9",
   "metadata": {},
   "source": [
    "Resulting fit can be plotted and compared to the data:"
   ]
  },
  {
   "cell_type": "code",
   "execution_count": null,
   "id": "3adc24a1",
   "metadata": {},
   "outputs": [],
   "source": [
    "plt.figure(figsize=(4, 3))\n",
    "plt.plot(xdata, ydata, \"s\")\n",
    "plt.plot(xdata, lin_func(xdata, *popt))\n",
    "plt.legend((\"Data\", \"Fit\"), fontsize=9)\n",
    "plt.show()"
   ]
  },
  {
   "cell_type": "markdown",
   "id": "141088bb-7805-4024-9a1a-404be3e48468",
   "metadata": {},
   "source": [
    "> **Exercise:** Fit the harmonic potential (taking $k_s$ and $l_0$ as parameters to be optimized) to the reference data and plot the reference PES and the one from the fit. Remember to shift the energy axis such that minimum is zero (otherwise you need to include a scalar shift parameter which also need to be optimized)."
   ]
  },
  {
   "cell_type": "code",
   "execution_count": null,
   "id": "eb8d1289-3cdf-47a5-bdde-6bad3dbe9631",
   "metadata": {},
   "outputs": [],
   "source": [
    "# Your code here\n",
    "\n",
    "# Solution\n",
    "def harmonic_func(l, l_0, k_s):\n",
    "    return (k_s / 2.0) * (l - l_0) ** 2\n",
    "\n",
    "popt, pcov = scipy.optimize.curve_fit(harmonic_func, ref_l, ref_e_shifted)\n",
    "\n",
    "plt.figure(figsize=(6, 3))\n",
    "ref_e_shifted = np.array(ref_e) - min(ref_e)\n",
    "plt.plot(ref_l, ref_e_shifted, \"d\")\n",
    "plt.plot(ref_l, harmonic_func(ref_l, *popt))\n",
    "plt.show()"
   ]
  },
  {
   "cell_type": "markdown",
   "id": "64f9f6ce-241c-4749-be38-2026493c0430",
   "metadata": {},
   "source": [
    "The fit you obtain will not be particularly good, with a minima in the wrong location and an incorrect shape. This is due to a number of factor, including the inadequacies of a harmonic potential and fitting it to a somewhat unsuitable region, as discussed more [here](https://kthpanor.github.io/echem/docs/mol_struct/forcefields.html#bond-stretching)."
   ]
  },
  {
   "cell_type": "markdown",
   "id": "a2b6ea12-c8d3-414c-b6a0-bbb8b7cadd19",
   "metadata": {},
   "source": [
    "# Egenvalues and eigenvectors of a Hermitian matrix\n",
    "\n",
    "The [overlap matrix](https://kthpanor.github.io/echem/docs/elec_struct/orbitals.html#overlap-matrix) ($\\mathbf{S}$) is constructed from the overlap between each pair of orbitals:\n",
    "\n",
    "$$\n",
    "S_{\\alpha\\beta} = \\langle \\chi_{\\alpha} | \\chi_{\\beta} \\rangle\n",
    "$$\n",
    "\n",
    "Recalculating the SCF of water with a minimal basis:"
   ]
  },
  {
   "cell_type": "code",
   "execution_count": null,
   "id": "3a375991-1577-4a96-8786-479cbce81b33",
   "metadata": {
    "tags": []
   },
   "outputs": [],
   "source": [
    "molecule = vlx.Molecule.from_xyz_string(water_xyz)\n",
    "basis = vlx.MolecularBasis.read(molecule, \"STO-3G\")\n",
    "scf_drv = vlx.ScfRestrictedDriver()\n",
    "scf_drv.compute(molecule, basis)"
   ]
  },
  {
   "cell_type": "markdown",
   "id": "3b83d10b-3658-45cd-8d93-fe3ed7e02ec5",
   "metadata": {},
   "source": [
    "The overlap matrix is available as:"
   ]
  },
  {
   "cell_type": "code",
   "execution_count": null,
   "id": "aa164d2f-dacc-46db-ba12-a40a3d524398",
   "metadata": {},
   "outputs": [],
   "source": [
    "S = scf_drv.scf_tensors[\"S\"]\n",
    "print(np.around(S, 5))  # this rounds to five decimals"
   ]
  },
  {
   "cell_type": "markdown",
   "id": "90a21d3a",
   "metadata": {},
   "source": [
    "When constructing an orthogonal AO basis (see [here](https://kthpanor.github.io/echem/docs/elec_struct/hartree-fock.html#orthogonalization-of-the-ao-basis)) we diagonalize the overlap matrix:\n",
    "\n",
    "$$\n",
    "\\mathbf{S}_\\mathrm{diag} = \\mathbf{U}^\\dagger \\mathbf{S} \\mathbf{U}\n",
    "$$\n",
    "\n",
    "$\\mathbf{U}$ collects the eigenvectors of $\\mathbf{S}$ as columns, which can be found using `np.linalg.eigh`:\n"
   ]
  },
  {
   "cell_type": "code",
   "execution_count": null,
   "id": "03ee9113-d908-44e8-a6b9-55cf98004980",
   "metadata": {},
   "outputs": [],
   "source": [
    "s, U = np.linalg.eigh(S)\n",
    "\n",
    "print(\"Eigenvalues:\\n\", np.around(s, 5))\n",
    "print()\n",
    "print(\"Eigenvectors:\\n\", np.around(U, 5))"
   ]
  },
  {
   "cell_type": "markdown",
   "id": "d6da0e77-0868-4e1d-b6fe-9078a58886b2",
   "metadata": {},
   "source": [
    "$\\mathbf{S}_\\mathrm{diag}$ can be constructed using the eigenvectors and `np.matmul`:"
   ]
  },
  {
   "cell_type": "code",
   "execution_count": null,
   "id": "c546d0f9-f3fa-435f-824e-a61b17865e4b",
   "metadata": {},
   "outputs": [],
   "source": [
    "S_diag = np.matmul(np.matmul(U.T, S), U)\n",
    "\n",
    "print(np.around(S_diag, 5))"
   ]
  },
  {
   "cell_type": "markdown",
   "id": "a423184f-0ed2-4a33-b86a-80343ff3f138",
   "metadata": {},
   "source": [
    "> **Exercise:** Verify that \n",
    "\n",
    "$$\n",
    "\\mathbf{U}^\\dagger \\mathbf{U} = \\mathbf{1}\n",
    "$$"
   ]
  },
  {
   "cell_type": "code",
   "execution_count": null,
   "id": "d3e9bd39-5aac-415c-9967-b1012580d849",
   "metadata": {},
   "outputs": [],
   "source": [
    "# Your code here\n",
    "\n",
    "# Solution\n",
    "print(np.around(np.matmul(U.T, U), 5))"
   ]
  },
  {
   "cell_type": "markdown",
   "id": "0447fbfa-00dd-4f40-8779-eceb39ab0127",
   "metadata": {},
   "source": [
    "> **Exercise:** Construct the diagonal matrix using the eigenvalues in $s$ and verify that it gives the same results as above.\n",
    "\n",
    "> Tip: `np.identity(n)` returns an identity matrix of dimension $n$."
   ]
  },
  {
   "cell_type": "code",
   "execution_count": null,
   "id": "5c64c57e-60d4-4762-9c7a-2cbd7233bce5",
   "metadata": {},
   "outputs": [],
   "source": [
    "# Your code here\n",
    "\n",
    "# Solution\n",
    "print(np.around(s * np.identity(len(s)), 5))"
   ]
  },
  {
   "cell_type": "markdown",
   "id": "54b4eee4-66f9-42c7-945a-9c54cb615716",
   "metadata": {},
   "source": [
    "# Using Einstein summation\n",
    "\n",
    "This function provides a convenient way of using Einstein summation, with basic examples found [here](https://ajcr.net/Basic-guide-to-einsum/). Consider a vector A and a matrix B:\n"
   ]
  },
  {
   "cell_type": "code",
   "execution_count": null,
   "id": "fab58e91-137d-4244-9b05-c9a6636a4cd1",
   "metadata": {},
   "outputs": [],
   "source": [
    "A = np.array([0, 1, 2])\n",
    "\n",
    "B = np.array([[1, 1, 3], [3, 4, 5], [5, 6, 7]])\n",
    "\n",
    "print('A:\\n',A)\n",
    "\n",
    "print('B:\\n',B)"
   ]
  },
  {
   "cell_type": "markdown",
   "id": "563b888f-92c1-4e62-b000-7f82c3969e25",
   "metadata": {},
   "source": [
    "Say that we want to perform this operation:\n",
    "\n",
    "$$\n",
    "C_i = \\sum_j A_iB_{ij}\n",
    "$$\n",
    "\n",
    "In `einsum` this can be performed in a single step:"
   ]
  },
  {
   "cell_type": "code",
   "execution_count": null,
   "id": "9905cc9a-2562-4d92-b9bd-125b6768ead6",
   "metadata": {},
   "outputs": [],
   "source": [
    "np.einsum(\"i,ij->i\", A, B)"
   ]
  },
  {
   "cell_type": "markdown",
   "id": "939134b5-c08d-49bb-8546-cf123c966566",
   "metadata": {},
   "source": [
    "Here $i$ and $j$ select axis in the objects, and you can change the indices to any letter (provided you use them consistently). The operation carried out takes all $A_i$ and multiply with $B_{ij}$, summing over $j$ and returning a new object with elements along $i$. Removing the $i$ on the right-hand side instead gives the total sum:"
   ]
  },
  {
   "cell_type": "code",
   "execution_count": null,
   "id": "c5d2316b-75ed-4e17-b951-301bde9e3722",
   "metadata": {},
   "outputs": [],
   "source": [
    "np.einsum(\"i,ij->\", A, B)"
   ]
  },
  {
   "cell_type": "markdown",
   "id": "d4cf67fb-eec6-4b15-b801-7bdbf8e1fd0c",
   "metadata": {},
   "source": [
    "In other words, repeating an index tells `einsum` that it should multiply the objects along these dimensions, and omitting on the right-hand side tells it to sum along that dimension.\n",
    "\n",
    "This can be used for simpler operations such as taking the sum of an object, performing element-wise multiplication, calculating the trace, and more. It can also be used for more complicated matrix-matrix operations and considering more arrays, and we will here use it to perform a transformation from atomic to molecular orbitals (AO and MO, respectively).\n",
    "\n",
    "## AO to MO transformation\n",
    "\n",
    "Integrals are calculate in an AO basis, while we would in most cases prefer to work in the MO basis. For this, we then need to perform an AO to MO transformation. As an example, let us consider the expectation value of the kinetic energy:\n",
    "\n",
    "$$\n",
    "    \\langle \\hat{T} \\rangle = \n",
    "    2 \\sum_{i}^\\mathrm{occ} T_{ii}\n",
    "$$\n",
    "\n",
    "\n",
    "\n",
    "From `VeloxChem` we have access to $T_{\\alpha\\beta}$ in the AO basis, which can be obtained as:"
   ]
  },
  {
   "cell_type": "code",
   "execution_count": null,
   "id": "38450c19-8cfd-4f26-97fe-8e8a338918a6",
   "metadata": {
    "tags": []
   },
   "outputs": [],
   "source": [
    "molecule = vlx.Molecule.from_xyz_string(water_xyz)\n",
    "basis = vlx.MolecularBasis.read(molecule, \"STO-3G\")\n",
    "\n",
    "kin_drv = vlx.KineticEnergyIntegralsDriver()\n",
    "T_ao = kin_drv.compute(molecule, basis).to_numpy()"
   ]
  },
  {
   "cell_type": "markdown",
   "id": "b33bf09b-c9cc-4bc2-9a21-3d0ee6dfbed7",
   "metadata": {},
   "source": [
    "Running the SCF to get the number of occupied orbitals and MO coefficient matrix:"
   ]
  },
  {
   "cell_type": "code",
   "execution_count": null,
   "id": "01538e2a-f088-4666-a917-19bc9cb91253",
   "metadata": {
    "tags": []
   },
   "outputs": [],
   "source": [
    "scf_drv = vlx.ScfRestrictedDriver()\n",
    "scf_drv.compute(molecule, basis)\n",
    "\n",
    "nocc = molecule.number_of_alpha_electrons()\n",
    "C = scf_drv.scf_tensors[\"C\"]"
   ]
  },
  {
   "cell_type": "markdown",
   "id": "a391df94-e0ee-440d-8726-3a3dd1c603fb",
   "metadata": {},
   "source": [
    "We can now calculate the elements of the kinetic energy operator from the transformation:\n",
    "\n",
    "$$\n",
    "T_{pq} = (p|\\hat{T}|q) = \\sum_{\\alpha,\\beta} C^*_{\\alpha p} C_{\\beta q} \\, T_{\\alpha\\beta}\n",
    "$$\n",
    "\n",
    "The MO coefficient matrix $C$ is real, so you can here ignore the complex conjugate. When using `einsum`, try to just look at the above equation and use this to guide the construction of the operation, following the same order of indices and variable.\n",
    "\n",
    "We will use `einsum` to construct $T_{pq}$, and use the results to calculate the expectation value of the kinetic energy operator from before. For this we need to know one more function: [slicing](https://www.w3schools.com/python/numpy/numpy_array_slicing.asp) NumPy arrays.\n",
    "\n",
    "As an example, the orbital energies are extracted as:"
   ]
  },
  {
   "cell_type": "code",
   "execution_count": null,
   "id": "1cd31359-78a3-47b4-a0ea-22ac84a020b6",
   "metadata": {},
   "outputs": [],
   "source": [
    "orbital_energies = scf_drv.scf_tensors[\"E\"]\n",
    "print(orbital_energies)"
   ]
  },
  {
   "cell_type": "markdown",
   "id": "45709786-a48b-47c7-b291-fe23230d34f4",
   "metadata": {},
   "source": [
    "To print the energy of the occupied and unoccupied orbitals we use splicing:"
   ]
  },
  {
   "cell_type": "code",
   "execution_count": null,
   "id": "4c49e6e1-2c64-4642-8429-01c9c8e20b75",
   "metadata": {},
   "outputs": [],
   "source": [
    "print(\"Energy of occupied:  \", orbital_energies[:nocc])\n",
    "print(\"Energy of unoccupied:\", orbital_energies[nocc:])"
   ]
  },
  {
   "cell_type": "markdown",
   "id": "a6d4b96d-51ae-4fbd-8b88-7058dfeb4343",
   "metadata": {},
   "source": [
    "> **Exercise:** Calculate $T_{pq}$ using `einsum` and calculate the expectation energy of the kinetic energy operator ($\\sim$74.579 au)."
   ]
  },
  {
   "cell_type": "code",
   "execution_count": null,
   "id": "f91aaf2d-2fa3-4ea8-952c-e5510d5817e6",
   "metadata": {},
   "outputs": [],
   "source": [
    "# Your code here\n",
    "\n",
    "# Solution\n",
    "T_mo = np.einsum(\"ap, bq, ab -> pq\", C, C, T_ao)\n",
    "T_exp = 2 * np.einsum(\"ii\", T_mo[:nocc, :nocc])\n",
    "print(T_exp)"
   ]
  },
  {
   "cell_type": "markdown",
   "id": "76e55d8e-4e7b-4fc3-9a67-3c294bab8667",
   "metadata": {},
   "source": [
    "# Additional functions"
   ]
  },
  {
   "cell_type": "markdown",
   "id": "b681203b-87d8-4273-82a9-ba87e1977c91",
   "metadata": {},
   "source": [
    "## Dictionaries\n",
    "\n",
    "Are ordered collections of items, arranges in pairs of `key` and `value`:"
   ]
  },
  {
   "cell_type": "code",
   "execution_count": null,
   "id": "989b0633-19e2-4a59-b7c1-ee732c55edcb",
   "metadata": {},
   "outputs": [],
   "source": [
    "some_dict = {\"fruit\": \"apple\", \"color\": \"red\"}\n",
    "\n",
    "print(\"Print keys:\")\n",
    "print(some_dict.keys())\n",
    "\n",
    "print(\"\\nPrint values:\")  # \\n adds a new line\n",
    "print(some_dict.values())\n",
    "\n",
    "print(\"\\nPrint specific value:\")\n",
    "print(some_dict[\"color\"])"
   ]
  },
  {
   "cell_type": "markdown",
   "id": "456ffe18-33af-497d-880f-f2aa63570d8a",
   "metadata": {},
   "source": [
    "You can change values and add more keys:"
   ]
  },
  {
   "cell_type": "code",
   "execution_count": null,
   "id": "8a3c18cc-9e8b-4912-8542-a5f519766ebd",
   "metadata": {},
   "outputs": [],
   "source": [
    "some_dict[\"color\"] = \"green\"\n",
    "print(some_dict.values())\n",
    "print()  # empty line\n",
    "some_dict[\"freshness\"] = \"ripe\"\n",
    "print(some_dict.keys())\n",
    "print()\n",
    "print(some_dict.values())"
   ]
  },
  {
   "cell_type": "markdown",
   "id": "29c1d42a-c004-4c24-8d94-99159fa37739",
   "metadata": {},
   "source": [
    "The elements of a dictionary can be a new dictionary:"
   ]
  },
  {
   "cell_type": "code",
   "execution_count": null,
   "id": "71579936-11cc-4008-a951-ca29f0604121",
   "metadata": {},
   "outputs": [],
   "source": [
    "some_dict[\"dimensions\"] = {\"length\": 4.5, \"width\": 4.3, \"height\": 5.2}\n",
    "print(some_dict.values())"
   ]
  },
  {
   "cell_type": "code",
   "execution_count": null,
   "id": "40506c12-7017-4678-ae1c-504fad9e17d0",
   "metadata": {},
   "outputs": [],
   "source": [
    "x = some_dict[\"dimensions\"]\n",
    "print(x)\n",
    "print()\n",
    "print(x.keys())\n",
    "print()\n",
    "print(x[\"width\"])"
   ]
  },
  {
   "cell_type": "markdown",
   "id": "f4eb33c2-f25a-4ce7-988b-b1ffd6a79d7f",
   "metadata": {},
   "source": [
    "## `isinstance`\n",
    "\n",
    "Returns `True` if object is of the specified type:"
   ]
  },
  {
   "cell_type": "code",
   "execution_count": null,
   "id": "f562d904-cdf9-4860-b6e4-9c27e5717407",
   "metadata": {},
   "outputs": [],
   "source": [
    "x = 5\n",
    "print(\"Is x a string:  \", isinstance(x, str))\n",
    "print(\"Is x an integer:\", isinstance(x, int))\n",
    "print(\"Is x a float:   \", isinstance(x, float))"
   ]
  },
  {
   "cell_type": "markdown",
   "id": "cf32341d-ce20-4f5a-8028-44c4e47890f2",
   "metadata": {},
   "source": [
    "## `np.zeros` and `np.ones`\n",
    "\n",
    "Returns object of certain dimension, composed of zeros or ones."
   ]
  },
  {
   "cell_type": "code",
   "execution_count": null,
   "id": "5dfbe766-b3e4-4e0f-a380-9a1c1d2f1591",
   "metadata": {},
   "outputs": [],
   "source": [
    "print(np.zeros((3, 2)))\n",
    "print(np.ones((6)))"
   ]
  }
 ],
 "metadata": {
  "kernelspec": {
   "display_name": "Python 3 (ipykernel)",
   "language": "python",
   "name": "python3"
  },
  "language_info": {
   "codemirror_mode": {
    "name": "ipython",
    "version": 3
   },
   "file_extension": ".py",
   "mimetype": "text/x-python",
   "name": "python",
   "nbconvert_exporter": "python",
   "pygments_lexer": "ipython3",
   "version": "3.9.15"
  }
 },
 "nbformat": 4,
 "nbformat_minor": 5
}
