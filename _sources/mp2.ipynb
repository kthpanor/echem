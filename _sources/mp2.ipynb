{
 "cells": [
  {
   "cell_type": "markdown",
   "id": "89699d9b-91b7-4f94-9531-752e5e519db3",
   "metadata": {
    "editable": true,
    "slideshow": {
     "slide_type": ""
    },
    "tags": []
   },
   "source": [
    "(sec:mp2)=\n",
    "# Møller–Plesset\n",
    "\n",
    "Møller–Plesset is one of the least expensive ways to treat dynamical correlation on top of a Hartree--Fock (HF) reference state. For simple organic systems, it captures more than 90% of the correlation energy is size consistent, which means its accuracy does not degrade with the system size unlike truncated configuration interaction. While its use has decreased, it is still an important method in wavefunction theory, helps illustrate fundamental concepts and is still as a component in more sophisticated methods thanks to its efficiency.\n",
    "\n",
    "In this section, we will discuss:\n",
    "- The [theory and implementation](mp2_theory) of Møller–Plesset\n",
    "- Some more [advanced concepts](mp2_advanced) on Møller–Plesset and perturbation theory more generally"
   ]
  },
  {
   "cell_type": "code",
   "execution_count": null,
   "id": "fdd013ea-521e-47f5-95a5-ecf8640871c6",
   "metadata": {
    "editable": true,
    "slideshow": {
     "slide_type": ""
    },
    "tags": []
   },
   "outputs": [],
   "source": []
  }
 ],
 "metadata": {
  "celltoolbar": "Tags",
  "kernelspec": {
   "display_name": "Python 3 (ipykernel)",
   "language": "python",
   "name": "python3"
  },
  "language_info": {
   "codemirror_mode": {
    "name": "ipython",
    "version": 3
   },
   "file_extension": ".py",
   "mimetype": "text/x-python",
   "name": "python",
   "nbconvert_exporter": "python",
   "pygments_lexer": "ipython3",
   "version": "3.12.8"
  }
 },
 "nbformat": 4,
 "nbformat_minor": 5
}
