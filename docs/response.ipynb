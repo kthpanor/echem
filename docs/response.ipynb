{
 "cells": [
  {
   "cell_type": "markdown",
   "id": "ddfc642a",
   "metadata": {},
   "source": [
    "# Response theory\n",
    "\n",
    "In this section we will describe different methods for considering molecular properties, as obtained using response theory.\n",
    "\n",
    "- [Exact states](exact-response.ipynb) <br>\n",
    "Provides an overview of general concepts of response theory for the case of exact states, including Ehrenfest theorem and the complex polarization propagator.\n",
    "- [Configuration interaction and state-averaged MCSCF](ci-response.ipynb) <br>\n",
    "Discuss how properties can be calculated using (truncated) CI and MCSCF.\n",
    "- [Time-Dependent Hartree–Fock](scf-response.ipynb) <br>\n",
    "Considers the linear response function for SCF methods, with focus on Hartree--Fock.\n",
    "- [TDDFT](tddft) <br>\n",
    "Focuses on the calculation of molecular properties using time-dependent density functional theory (TDDFT), including challenges such as choice of exchange-correlation functionals, and considering charge-transfer states.\n",
    "- [Exercises](response_exercises.ipynb) <br>\n",
    "Contains exercises considering CI, SA-MCSCF, and TDSCF."
   ]
  }
 ],
 "metadata": {
  "kernelspec": {
   "display_name": "Python 3 (ipykernel)",
   "language": "python",
   "name": "python3"
  },
  "language_info": {
   "codemirror_mode": {
    "name": "ipython",
    "version": 3
   },
   "file_extension": ".py",
   "mimetype": "text/x-python",
   "name": "python",
   "nbconvert_exporter": "python",
   "pygments_lexer": "ipython3",
   "version": "3.9.12"
  }
 },
 "nbformat": 4,
 "nbformat_minor": 5
}
