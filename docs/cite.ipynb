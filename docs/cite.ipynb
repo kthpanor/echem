{
 "cells": [
  {
   "cell_type": "markdown",
   "id": "0f254a5c-84af-4408-bc2a-507e2d4c0c18",
   "metadata": {},
   "source": [
    "# How to cite\n",
    "\n",
    "If you find this book useful in any manner, please link to it where appropriate. We also appreciate any suggestions/comments on the material presented, so don't hesitate in reaching out to us."
   ]
  }
 ],
 "metadata": {
  "kernelspec": {
   "display_name": "Python 3 (ipykernel)",
   "language": "python",
   "name": "python3"
  },
  "language_info": {
   "codemirror_mode": {
    "name": "ipython",
    "version": 3
   },
   "file_extension": ".py",
   "mimetype": "text/x-python",
   "name": "python",
   "nbconvert_exporter": "python",
   "pygments_lexer": "ipython3",
   "version": "3.9.12"
  }
 },
 "nbformat": 4,
 "nbformat_minor": 5
}
