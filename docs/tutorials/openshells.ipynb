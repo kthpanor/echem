{
 "cells": [
  {
   "cell_type": "markdown",
   "id": "bd27b931",
   "metadata": {},
   "source": [
    "# Open shells\n",
    "\n",
    "In this chapter, we will describe how to treat [open-shell molecules](rest_unrest) as well as molecules with [static/strong correlation](correlation), which is when a single determinant is not even qualitatively a proper description of the system. We will here restrict ourselves to a non-relativistic description without external magnetic field.\n",
    "\n",
    "\n",
    "```{figure} ../../img/misc/mo_picture.svg\n",
    "---\n",
    "name: mo_picture\n",
    "scale: 250%\n",
    "---\n",
    "MO picture of the restricted Hartree-Fock (UHF), restricted open-shell Hartree-Fock (ROHF), and unrestricted Hartree-Fock (UHF) methods.\n",
    "```"
   ]
  },
  {
   "cell_type": "code",
   "execution_count": null,
   "id": "200c720c",
   "metadata": {},
   "outputs": [],
   "source": []
  }
 ],
 "metadata": {
  "celltoolbar": "Tags",
  "kernelspec": {
   "display_name": "Python 3 (ipykernel)",
   "language": "python",
   "name": "python3"
  },
  "language_info": {
   "codemirror_mode": {
    "name": "ipython",
    "version": 3
   },
   "file_extension": ".py",
   "mimetype": "text/x-python",
   "name": "python",
   "nbconvert_exporter": "python",
   "pygments_lexer": "ipython3",
   "version": "3.9.15"
  }
 },
 "nbformat": 4,
 "nbformat_minor": 5
}
