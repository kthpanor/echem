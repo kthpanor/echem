{
 "cells": [
  {
   "cell_type": "markdown",
   "id": "2af5e7be-8036-4a42-9b2c-4eff72ff70ed",
   "metadata": {},
   "source": [
    "# Constructing workflows\n",
    "\n",
    "This chapter illustrates how Jupyter notebooks can be used to create workflows to model chemical, physical, and physicochemical processes. A workflow combines a number of modules into a sequential task list, with tasks including, for example: \n",
    "\n",
    "![workflow](../../img/intro/workflow.png)\n",
    "\n",
    "This chapter contains sections discussing:\n",
    "\n",
    "- [Building](wf_build) and visualizing a molecular structure, primarily using [SMILES](https://en.wikipedia.org/wiki/Simplified_molecular-input_line-entry_system)\n",
    "\n",
    "- Optimizing the [molecular structure](wf_scf)\n",
    "\n",
    "- Optimizing and visualizing the [electronic structure](wf_struct)\n",
    "\n",
    "Finally, a number of different [full workflows](wf_construct) are discussed, with different chemical processes in mind."
   ]
  },
  {
   "cell_type": "code",
   "execution_count": null,
   "id": "155824d1",
   "metadata": {},
   "outputs": [],
   "source": []
  }
 ],
 "metadata": {
  "kernelspec": {
   "display_name": "Python 3 (ipykernel)",
   "language": "python",
   "name": "python3"
  },
  "language_info": {
   "codemirror_mode": {
    "name": "ipython",
    "version": 3
   },
   "file_extension": ".py",
   "mimetype": "text/x-python",
   "name": "python",
   "nbconvert_exporter": "python",
   "pygments_lexer": "ipython3",
   "version": "3.11.7"
  }
 },
 "nbformat": 4,
 "nbformat_minor": 5
}
