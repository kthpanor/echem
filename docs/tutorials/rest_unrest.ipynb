{
 "cells": [
  {
   "cell_type": "markdown",
   "id": "6e4512e7-2a16-446e-80b5-aaa8fc36e2bb",
   "metadata": {
    "editable": true,
    "slideshow": {
     "slide_type": ""
    },
    "tags": []
   },
   "source": [
    "# Restricted versus unrestricted\n",
    "\n",
    "## High spin states\n",
    "\n",
    "### Single-reference methods\n",
    "\n",
    "By a high-spin state, we refer to an open-shell system where all unpaired electrons are chosen to have $\\alpha$-spin. As detailed in  section {ref}`sec:spin`, this case is particularly simple since the system can be described by a single Slater determinant.\n",
    "\n",
    "There are two main ways to proceed:\n",
    "\n",
    "* Keep the molecular orbitals of the $\\alpha$ and $\\beta$ spin-orbitals identical but populating the $\\alpha$ spin-orbitals with more electrons. This is known as a restricted open-shell calculation.\n",
    "\n",
    "* Allow for different molecular orbitals for the $\\alpha$ and $\\beta$ spin-orbitals. This is known as an unrestricted calculation.\n",
    "\n",
    "Let us illustrate these two approaches on the most important open-shell molecule on earth namely the oxygen molecule."
   ]
  },
  {
   "cell_type": "code",
   "execution_count": null,
   "id": "93345a29-c112-4a9a-92b6-0dc2e2cbe8d2",
   "metadata": {
    "tags": [
     "remove-output"
    ]
   },
   "outputs": [],
   "source": [
    "import multipsi as mtp\n",
    "import veloxchem as vlx\n",
    "au2kcal = 627.51"
   ]
  },
  {
   "cell_type": "code",
   "execution_count": null,
   "id": "a4f945ed-1986-4dee-8bfc-526058b8ae74",
   "metadata": {
    "scrolled": true,
    "tags": [
     "output_scroll",
     "remove-output"
    ]
   },
   "outputs": [],
   "source": [
    "mol_str = \"\"\"\n",
    "O   0.0  0.0  -0.6\n",
    "O   0.0  0.0   0.6\n",
    "\"\"\"\n",
    "molecule = vlx.Molecule.read_molecule_string(mol_str, units=\"angstrom\")\n",
    "basis = vlx.MolecularBasis.read(molecule, \"cc-pvdz\")"
   ]
  },
  {
   "cell_type": "markdown",
   "id": "bb7125e5-f62f-4e64-a7ed-da0d68f3d51c",
   "metadata": {},
   "source": [
    "We determine the triplet ground state with the RODFT and UDFT approaches."
   ]
  },
  {
   "cell_type": "code",
   "execution_count": null,
   "id": "ad4b7cf6-f5fb-40af-b2a9-6b47cb88d503",
   "metadata": {
    "scrolled": true,
    "tags": [
     "output_scroll",
     "remove-output"
    ]
   },
   "outputs": [],
   "source": [
    "molecule.set_multiplicity(3)\n",
    "\n",
    "triplet_rodft_drv = vlx.ScfRestrictedOpenDriver()\n",
    "triplet_rodft_drv.xcfun = \"B3LYP\"\n",
    "\n",
    "triplet_rodft_results = triplet_rodft_drv.compute(molecule, basis)\n",
    "\n",
    "triplet_udft_drv = vlx.ScfUnrestrictedDriver()\n",
    "triplet_udft_drv.xcfun = \"B3LYP\"\n",
    "\n",
    "triplet_udft_results = triplet_udft_drv.compute(molecule, basis)"
   ]
  },
  {
   "cell_type": "markdown",
   "id": "e74c8373-fafb-44a0-aefc-a4d83cdb62e0",
   "metadata": {},
   "source": [
    "Owing to the larger flexibility in the reference state, the UDFT energy is slightly lower than the RODFT one."
   ]
  },
  {
   "cell_type": "code",
   "execution_count": null,
   "id": "9e070f79-dc95-48ab-9e1b-cf5f98665556",
   "metadata": {
    "tags": [
     "output_scroll"
    ]
   },
   "outputs": [],
   "source": [
    "print(f\"ROB3LYP energy: {triplet_rodft_drv.get_scf_energy() : 14.8f}\")\n",
    "print(f\" UB3LYP energy: {triplet_udft_drv.get_scf_energy() : 14.8f}\")"
   ]
  },
  {
   "cell_type": "markdown",
   "id": "30cd90b5-7495-478e-85f8-ded995b62316",
   "metadata": {},
   "source": [
    "In the RODFT case, we have one set of MOs with the first seven being doubly occupied and MOs eight and nine being singly occupied."
   ]
  },
  {
   "cell_type": "code",
   "execution_count": null,
   "id": "7d8bbea6-02c3-47ef-823f-40a408552042",
   "metadata": {
    "scrolled": true,
    "tags": [
     "output_scroll"
    ]
   },
   "outputs": [],
   "source": [
    "triplet_rodft_drv.molecular_orbitals.print_orbitals(molecule, basis)"
   ]
  },
  {
   "cell_type": "markdown",
   "id": "62c6611a-a09e-4007-a544-cb3b5d290ec5",
   "metadata": {},
   "source": [
    "In the UDFT case, there are two different sets of MOs with nine occupied $\\alpha$-spin orbitals and seven occupied $\\beta$-spin orbitals."
   ]
  },
  {
   "cell_type": "code",
   "execution_count": null,
   "id": "84138c46-9af9-4438-bbd3-3cc7a36a9528",
   "metadata": {
    "scrolled": true,
    "tags": [
     "output_scroll"
    ]
   },
   "outputs": [],
   "source": [
    "triplet_udft_drv.molecular_orbitals.print_orbitals(molecule, basis)"
   ]
  },
  {
   "cell_type": "markdown",
   "id": "84fe3eb9-2352-4f5c-a73f-200c2dc72af5",
   "metadata": {},
   "source": [
    "It is a common procedure to determine a Kohn–Sham DFT value estimating the expectation value of the  [total spin operator](https://kthpanor.github.io/echem/docs/elec_struct/spin.html#many-electron-systems) in the same manner as would be the case for a Hartree–Fock wave function.\n",
    "\n",
    "```{note}\n",
    "Since the [two-particle density](https://kthpanor.github.io/echem/docs/elec_struct/reduced_density.html#two-particle-density) is not directly available in DFT, the expectation value of a two-electron operator such as e.g. the total spin operator is also not available.\n",
    "```"
   ]
  },
  {
   "cell_type": "code",
   "execution_count": null,
   "id": "bd04dd4d-415f-45c4-bbbb-9f6a026aca78",
   "metadata": {},
   "outputs": [],
   "source": [
    "print(\n",
    "    f\"<S^2> RODFT = {triplet_rodft_drv.compute_s2(molecule, triplet_rodft_results) : 8.6f}\"\n",
    ")\n",
    "print(\n",
    "    f\"<S^2> UDFT  = {triplet_udft_drv.compute_s2(molecule, triplet_udft_results) : 8.6f}\"\n",
    ")"
   ]
  },
  {
   "cell_type": "markdown",
   "id": "57d4662e-abea-4bee-bda2-8cee74160dd9",
   "metadata": {},
   "source": [
    "The ground state of oxygen is a triplet with spin quantum number $S = 1$ and\n",
    "\n",
    "$$\n",
    "\\langle \\hat{S}^2 \\rangle = S(S+1)\\hbar^2 = 2 \\hbar^2\n",
    "$$ \n",
    " \n",
    "This is exactly what we get with a restricted open-shell description, but not in the unrestricted case. In general, an unrestricted state is not a eigenfunction of $\\hat{S}^2$ and one refers to this situation by saying that the state is spin contaminated.\n",
    "\n",
    "The relative simplicity of the unrestricted scheme together with its rather good performance makes it more widely used than the restricted open-shell form.\n",
    "\n",
    "```{note}\n",
    "The additional flexibility of unrestricted molecular orbitals does not lower the energy of *closed-shell* restricted states.\n",
    "```"
   ]
  },
  {
   "cell_type": "markdown",
   "id": "26add4de-aa76-46a8-8869-20aa2af5a0ca",
   "metadata": {},
   "source": [
    "### Multi-reference methods\n",
    "\n",
    "A multi-configurational method such as CASSCF can also be used and we note that a CASSCF wave function with only the high-spin open-shell MOs in the active space is equivalent to restricted open-shell Hartree–Fock (ROHF)."
   ]
  },
  {
   "cell_type": "code",
   "execution_count": null,
   "id": "2091f4f2-1588-4fb2-8e88-67837566498c",
   "metadata": {
    "scrolled": true,
    "tags": [
     "output_scroll",
     "remove-output"
    ]
   },
   "outputs": [],
   "source": [
    "triplet_rohf_drv = vlx.ScfRestrictedOpenDriver()\n",
    "triplet_rohf_results = triplet_rohf_drv.compute(molecule, basis)\n",
    "\n",
    "# By default, OrbSpace includes all open-shells in the active space\n",
    "space = mtp.OrbSpace(molecule, triplet_rohf_drv.mol_orbs)\n",
    "mcscf_drv = mtp.McscfDriver()\n",
    "triplet_mc_results = mcscf_drv.compute(molecule, basis, space)"
   ]
  },
  {
   "cell_type": "code",
   "execution_count": null,
   "id": "4d428703-dd11-40f1-8611-c90038dfe3a1",
   "metadata": {},
   "outputs": [],
   "source": [
    "print(f\"       ROHF energy: {triplet_rohf_drv.get_scf_energy() : 14.8f}\")\n",
    "print(f\"CASSCF(2,2) energy: {triplet_mc_results[\"energies\"][0] : 14.8f}\")"
   ]
  },
  {
   "cell_type": "markdown",
   "id": "f566014f-66e9-427b-97f3-d2cefc73bfea",
   "metadata": {},
   "source": [
    "## Low spin states\n",
    "\n",
    "### Single-reference methods: broken symmetry\n",
    "\n",
    "To address low spin open-shell systems, we can study [singlet states of the oxygen molecule](https://en.wikipedia.org/wiki/Singlet_oxygen). The two lowest singlet states are $a^1\\Delta_g$ and $b^1\\Sigma^+_g$ and experimentally they are found to be 22.5 and 37.5 kcal/mol above the ground triplet state, $X^3\\Sigma_g^-$, respectively. \n",
    "\n",
    "Let us first compute the lowest closed-shell singlet state using DFT."
   ]
  },
  {
   "cell_type": "code",
   "execution_count": null,
   "id": "68283c09-faa9-4350-9db7-90528b7b8f94",
   "metadata": {
    "scrolled": true,
    "tags": [
     "output_scroll",
     "remove-output"
    ]
   },
   "outputs": [],
   "source": [
    "molecule.set_multiplicity(1)\n",
    "\n",
    "singlet_rdft_drv = vlx.ScfRestrictedDriver()\n",
    "singlet_rdft_drv.xcfun = \"B3LYP\"\n",
    "singlet_rdft_results = singlet_rdft_drv.compute(molecule, basis)"
   ]
  },
  {
   "cell_type": "markdown",
   "id": "617f34a0-8922-49af-a0ae-290914cf8755",
   "metadata": {},
   "source": [
    "The $\\pi$-orbitals in the closed-shell state are no longer doubly degenerate."
   ]
  },
  {
   "cell_type": "code",
   "execution_count": null,
   "id": "89c36d77-78a1-48f7-84b1-b269059ac742",
   "metadata": {
    "scrolled": true,
    "tags": [
     "output_scroll"
    ]
   },
   "outputs": [],
   "source": [
    "singlet_rdft_drv.molecular_orbitals.print_orbitals(molecule, basis)"
   ]
  },
  {
   "cell_type": "code",
   "execution_count": null,
   "id": "edd6f9a0-cc7e-4e93-bbfc-65c44b2f6e9b",
   "metadata": {},
   "outputs": [],
   "source": [
    "print(\"Closed-shell singlet relative to triplet ground state (in kcal/mol)\")\n",
    "print(\n",
    "    f\"    restricted triplet state: {(singlet_rdft_drv.get_scf_energy() - triplet_rodft_drv.get_scf_energy()) * au2kcal : 14.8f}\"\n",
    ")\n",
    "print(\n",
    "    f\"  unrestricted triplet state: {(singlet_rdft_drv.get_scf_energy() - triplet_udft_drv.get_scf_energy()) * au2kcal : 14.8f}\"\n",
    ")"
   ]
  },
  {
   "cell_type": "markdown",
   "id": "add9b50e-817e-4601-a9ec-459b8431c924",
   "metadata": {},
   "source": [
    "These energies match reasonably well with the higher $b^1\\Sigma^+_g$ singlet state.\n",
    "\n",
    "There are two different ways to reach the lower singlet using DFT. The first one is to compute the (negative) excitation energy using TD-DFT."
   ]
  },
  {
   "cell_type": "code",
   "execution_count": null,
   "id": "7f92c857-ad16-4371-b14c-188e9ede0529",
   "metadata": {
    "scrolled": true,
    "tags": [
     "output_scroll",
     "remove-output"
    ]
   },
   "outputs": [],
   "source": [
    "rsp_drv = vlx.TdaEigenSolver()\n",
    "rsp_drv.update_settings({\"nstates\": 1}, {\"xcfun\": \"B3LYP\"})\n",
    "rsp_results = rsp_drv.compute(molecule, basis, singlet_rdft_results)"
   ]
  },
  {
   "cell_type": "code",
   "execution_count": null,
   "id": "5d7addd5-1eb2-4091-ba6f-51cb1c000d67",
   "metadata": {},
   "outputs": [],
   "source": [
    "exc_energy = rsp_results[\"eigenvalues\"][0]\n",
    "print(f\"Excitation energy (in kcal/mol): {exc_energy * au2kcal : 14.8}\\n\")\n",
    "\n",
    "print(\"Open-shell singlet energy relative to triplet ground state (in kcal/mol)\")\n",
    "print(\n",
    "    f\"    restricted triplet state: {(singlet_rdft_drv.get_scf_energy() + exc_energy - triplet_rodft_drv.get_scf_energy()) * au2kcal : 14.8f}\"\n",
    ")\n",
    "print(\n",
    "    f\"  unrestricted triplet state: {(singlet_rdft_drv.get_scf_energy() + exc_energy - triplet_udft_drv.get_scf_energy()) * au2kcal : 14.8f}\"\n",
    ")"
   ]
  },
  {
   "cell_type": "markdown",
   "id": "3dc666fc-f544-45d5-9f48-579d3fd29f37",
   "metadata": {},
   "source": [
    "These energies is in better agreement with the lowest singlet state. We have here reached the open-shell singlet state by means of a TD-DFT calculation based on a closed-shell reference state that is higher in energy.\n",
    "\n",
    "Let us instead compute the lower singlet state in a direct manner using unrestricted DFT."
   ]
  },
  {
   "cell_type": "code",
   "execution_count": null,
   "id": "04087fe2-6c93-4d0e-b5ae-e766dfac46db",
   "metadata": {
    "scrolled": true,
    "tags": [
     "output_scroll",
     "remove-output"
    ]
   },
   "outputs": [],
   "source": [
    "singlet_udft_drv = vlx.ScfUnrestrictedDriver()\n",
    "singlet_udft_drv.xcfun = \"B3LYP\"\n",
    "singlet_udft_result = singlet_udft_drv.compute(molecule, basis)"
   ]
  },
  {
   "cell_type": "code",
   "execution_count": null,
   "id": "a0a4f038-3189-4b42-a737-9a07b7c2945d",
   "metadata": {},
   "outputs": [],
   "source": [
    "print(f\"RDFT singlet: {singlet_rdft_drv.get_scf_energy() : 14.8f}\")\n",
    "print(f\"UDFT singlet: {singlet_udft_drv.get_scf_energy() : 14.8f}\")"
   ]
  },
  {
   "cell_type": "markdown",
   "id": "8d453959-7016-4221-bb5d-a6b2f8718220",
   "metadata": {},
   "source": [
    "Since the closed-shell state represent a stable point, the UDFT solution will become identical. \n",
    "\n",
    "In the absence of magnetic fields, there is no impetus for the MOs of the $\\alpha$ and $\\beta$ spin-orbitals to differ and the SCF optimization gets stuck in a symmetric solution. In the high-spin case, on the other hand, this symmetry was broken by the fact that we had an excess of $\\alpha$-spin electrons.\n",
    "\n",
    "However, we can break the symmetry by introducing different starting occupations for the $\\alpha$ and $\\beta$ spin-orbitals and remain in this region during the SCF optimization with the maximum-overlap method."
   ]
  },
  {
   "cell_type": "code",
   "execution_count": null,
   "id": "41e0924b-5e17-40a6-8497-b4c4d7eca06a",
   "metadata": {
    "scrolled": true,
    "tags": [
     "output_scroll",
     "remove-output"
    ]
   },
   "outputs": [],
   "source": [
    "# A list of which orbitals are occupied in alpha and beta (starting from the triplet orbitals)\n",
    "a_occ = [0, 1, 2, 3, 4, 5, 6, 7]\n",
    "b_occ = [0, 1, 2, 3, 4, 5, 6, 8]\n",
    "\n",
    "broken_udft_drv = vlx.ScfUnrestrictedDriver()\n",
    "broken_udft_drv.xcfun = \"B3LYP\"\n",
    "\n",
    "broken_udft_drv.maximum_overlap(\n",
    "    molecule, basis, triplet_rodft_drv.mol_orbs, a_occ, b_occ\n",
    ")\n",
    "broken_udft_results = broken_udft_drv.compute(molecule, basis)"
   ]
  },
  {
   "cell_type": "markdown",
   "id": "47f179bb-bbb3-47f2-8fa7-04dfe881faac",
   "metadata": {},
   "source": [
    "We can look at the [natural orbitals](../elec_struct/natural_orbitals) and see that the state indeed corresponds to two singly occupied $\\pi$-orbitals."
   ]
  },
  {
   "cell_type": "code",
   "execution_count": null,
   "id": "6bba977e-f9de-4acd-b1a8-a25f44394af3",
   "metadata": {
    "scrolled": true,
    "tags": [
     "output_scroll"
    ]
   },
   "outputs": [],
   "source": [
    "natural_orbs = broken_udft_drv.natural_orbitals(broken_udft_results)\n",
    "natural_orbs.print_orbitals(molecule, basis)"
   ]
  },
  {
   "cell_type": "markdown",
   "id": "96848174-4b38-4185-a5b3-4e93f403375c",
   "metadata": {},
   "source": [
    "The energy of this singlet relative to the triplet ground state becomes:"
   ]
  },
  {
   "cell_type": "code",
   "execution_count": null,
   "id": "e87f332d-90d0-4655-8d5c-6af14eb7519b",
   "metadata": {},
   "outputs": [],
   "source": [
    "print(\n",
    "    f\"Broken symmetry singlet-triplet gap: {(broken_udft_drv.get_scf_energy() - triplet_udft_drv.get_scf_energy()) * au2kcal : 10.8}\"\n",
    ")"
   ]
  },
  {
   "cell_type": "markdown",
   "id": "3ffdbb90-1f67-4956-9095-0b4884b7e572",
   "metadata": {
    "tags": []
   },
   "source": [
    "With this trick, we have thus found a lower energy singlet, albeit by introducing spin contamination."
   ]
  },
  {
   "cell_type": "code",
   "execution_count": null,
   "id": "58cf276f-0ed5-400e-897e-ffd11ae7813c",
   "metadata": {},
   "outputs": [],
   "source": [
    "print(\n",
    "    f\"<S^2> UDFT  = {broken_udft_drv.compute_s2(molecule, broken_udft_results) : 8.6f}\"\n",
    ")"
   ]
  },
  {
   "cell_type": "markdown",
   "id": "4f9a5cb9-a5bd-4969-9008-7c490f2c8395",
   "metadata": {},
   "source": [
    "We also note that the energy gap is now well below that of the experimental value. The reason is that, while high spin open-shells are single-determinant in nature, open-shell singlets and low-spin triplets are not. \n",
    "\n",
    "A minimum of two determinant is needed for physically correct wave functions\n",
    "\n",
    "\\begin{align*}\n",
    "| \\Psi_\\mathrm{S} \\rangle & = \n",
    "\\frac{1}{\\sqrt{2}} ( | \\alpha \\beta \\rangle -| \\beta \\alpha \\rangle ) \\\\\n",
    "%\n",
    "| \\Psi_\\mathrm{T} \\rangle & = \n",
    "\\frac{1}{\\sqrt{2}} ( | \\alpha \\beta \\rangle +| \\beta \\alpha \\rangle )\n",
    "\\end{align*}\n",
    "\n",
    "Our single determinant reference state is seen to correspond to a 50/50 mix of the singlet and triplet wave functions as reflected in the spin contamination of the UDFT state."
   ]
  },
  {
   "cell_type": "markdown",
   "id": "5d16726f-63f5-4338-bad1-ba19d001df3c",
   "metadata": {},
   "source": [
    "True singlets and triplets have spin expectation values of $0$ and $2 \\hbar^2$, respectively, whereas we obtained a value close to $\\hbar^2$.\n",
    "\n",
    "However, knowing this fact, we can actually correct the energy. Since we know the energy of the triplet and of the broken-symmetry solution, we can estimate the energy of the true singlet."
   ]
  },
  {
   "cell_type": "code",
   "execution_count": null,
   "id": "1add899e-58f0-431b-b322-a39237612b2e",
   "metadata": {},
   "outputs": [],
   "source": [
    "print(\n",
    "    f\"Estimated singlet-triplet gap: {2 * (broken_udft_drv.get_scf_energy() - triplet_udft_drv.get_scf_energy()) * au2kcal : 12.8f}\"\n",
    ")"
   ]
  },
  {
   "cell_type": "markdown",
   "id": "f37165ce-6538-4d6a-879f-093222e7768e",
   "metadata": {},
   "source": [
    "This is now very close to the experimental energy of 22.5 kcal/mol.\n",
    "\n",
    "Our technique to obtain the \"true\" singlet energy is a special case of the more general \"weighted-averaged broken symmetry\" (WABS) method, which can in principle correct any broken symmetry solution with knowledge of the high-spin energy and the expectation value of the total spin operator."
   ]
  },
  {
   "cell_type": "markdown",
   "id": "72327ca0-8432-4f27-9b99-5725df6678f6",
   "metadata": {},
   "source": [
    "### Multi-reference solution\n",
    "\n",
    "Arguably a multi-reference approach is simpler. For O$_2$, we create an active space with two electrons in two orbitals."
   ]
  },
  {
   "cell_type": "code",
   "execution_count": null,
   "id": "db3cec88-8132-418e-906a-c67d3ebe1e61",
   "metadata": {
    "scrolled": true,
    "tags": [
     "output_scroll",
     "remove-output"
    ]
   },
   "outputs": [],
   "source": [
    "space = mtp.OrbSpace(molecule, singlet_rdft_drv.mol_orbs)\n",
    "space.cas(2, 2)\n",
    "singlet_mc_results = mcscf_drv.compute(molecule, basis, space)"
   ]
  },
  {
   "cell_type": "code",
   "execution_count": null,
   "id": "25fcf6f9-e798-4326-a73f-7276fecd72fa",
   "metadata": {},
   "outputs": [],
   "source": [
    "print(\n",
    "    f\"Lowest singlet relative energy: {(singlet_mc_results[\"energies\"][0] - triplet_mc_results[\"energies\"][0]) * au2kcal : 14.8f}\"\n",
    ")"
   ]
  },
  {
   "cell_type": "markdown",
   "id": "18402eb1-4cf8-4c58-b91a-52bc64b8cd96",
   "metadata": {},
   "source": [
    "The CASSCF automatically finds the open-shell to be the lowest state.\n",
    "\n",
    "The CASSCF code in MultiPsi even allows to compute singlets and triplets simultaneously. We only need to deactivate the spin restriction that is applied by defaults to singlets and compute several states at the same time."
   ]
  },
  {
   "cell_type": "code",
   "execution_count": null,
   "id": "99201ff1-c29c-46e8-8479-81bf847fe922",
   "metadata": {
    "scrolled": true,
    "tags": [
     "output_scroll",
     "remove-output"
    ]
   },
   "outputs": [],
   "source": [
    "space = mtp.OrbSpace(molecule, singlet_rdft_drv.mol_orbs)\n",
    "space.spin_restricted = False\n",
    "space.cas(2, 2)\n",
    "mcscf_results = mcscf_drv.compute(molecule, basis, space, n_states=4)"
   ]
  },
  {
   "cell_type": "code",
   "execution_count": null,
   "id": "f602ad1f-1a04-4cf4-adbf-08d5e8902425",
   "metadata": {},
   "outputs": [],
   "source": [
    "print(\n",
    "    f\"First singlet relative energy : {(mcscf_results[\"energies\"][1] - mcscf_results[\"energies\"][0]) * au2kcal : 14.8f}\"\n",
    ")\n",
    "print(\n",
    "    f\"First singlet relative energy : {(mcscf_results[\"energies\"][2] - mcscf_results[\"energies\"][0]) * au2kcal : 14.8f}\"\n",
    ")\n",
    "print(\n",
    "    f\"Second singlet relative energy: {(mcscf_results[\"energies\"][3] - mcscf_results[\"energies\"][0]) * au2kcal : 14.8f}\"\n",
    ")"
   ]
  },
  {
   "cell_type": "markdown",
   "id": "31a7e4ca-b2b2-4aa6-978c-d51a77c84e50",
   "metadata": {},
   "source": [
    "In a single calculation, the CASSCF finds the lowest triplet state and the two components of the doubly degenerate $a^1\\Delta_g$ state followed by a higher lying singlet. \n",
    "\n",
    "The energies are not a great match with experiment due to the fact that a CASSCF calculation with so small an active space does not include correlation. A much better result is found by expanding the active space to include all atomic 2p orbitals."
   ]
  },
  {
   "cell_type": "code",
   "execution_count": null,
   "id": "24a37f04-0517-4835-9ad8-fb64dd35048a",
   "metadata": {
    "scrolled": true,
    "tags": [
     "output_scroll",
     "remove-output"
    ]
   },
   "outputs": [],
   "source": [
    "space.cas(8, 6)\n",
    "mcscf_results = mcscf_drv.compute(molecule, basis, space, n_states=4)"
   ]
  },
  {
   "cell_type": "code",
   "execution_count": null,
   "id": "e6a75e47-5f71-4aec-8443-ac77e771c0a9",
   "metadata": {},
   "outputs": [],
   "source": [
    "print(\n",
    "    f\"First singlet relative energy : {(mcscf_results[\"energies\"][1] - mcscf_results[\"energies\"][0]) * au2kcal : 14.8f}\"\n",
    ")\n",
    "print(\n",
    "    f\"First singlet relative energy : {(mcscf_results[\"energies\"][2] - mcscf_results[\"energies\"][0]) * au2kcal : 14.8f}\"\n",
    ")\n",
    "print(\n",
    "    f\"Second singlet relative energy: {(mcscf_results[\"energies\"][3] - mcscf_results[\"energies\"][0]) * au2kcal : 14.8f}\"\n",
    ")"
   ]
  },
  {
   "cell_type": "markdown",
   "id": "1b41882c-94a1-4940-925e-cb36361c5c45",
   "metadata": {},
   "source": [
    "If we examine the CASSCF wave functions, we clearly see the multi-determinant nature of the states."
   ]
  },
  {
   "cell_type": "code",
   "execution_count": null,
   "id": "e477376b-540e-4014-bb36-b433362e1e28",
   "metadata": {
    "editable": true,
    "slideshow": {
     "slide_type": ""
    },
    "tags": []
   },
   "outputs": [],
   "source": [
    "for i in range(4):\n",
    "    print(\"Wavefunction for state\", i + 1)\n",
    "    mcscf_results[\"ci_vectors\"].print(i)"
   ]
  },
  {
   "cell_type": "markdown",
   "id": "77bdf7a1-a711-4987-80e3-278d4a35c7c2",
   "metadata": {
    "editable": true,
    "slideshow": {
     "slide_type": ""
    },
    "tags": []
   },
   "source": [
    "The determinant notation lists the occupation of the two orbitals in order, with \"0\" meaning \"empty\", \"a\" and \"b\" meaning respectively singly occupied with an $\\alpha$ or $\\beta$ electron, and \"2\" meaning doubly occupied. Clearly in this case, every single state in the calculation is an equal-weight superposition of two determinants."
   ]
  }
 ],
 "metadata": {
  "kernelspec": {
   "display_name": "Python 3 (ipykernel)",
   "language": "python",
   "name": "python3"
  },
  "language_info": {
   "codemirror_mode": {
    "name": "ipython",
    "version": 3
   },
   "file_extension": ".py",
   "mimetype": "text/x-python",
   "name": "python",
   "nbconvert_exporter": "python",
   "pygments_lexer": "ipython3",
   "version": "3.12.8"
  }
 },
 "nbformat": 4,
 "nbformat_minor": 5
}
