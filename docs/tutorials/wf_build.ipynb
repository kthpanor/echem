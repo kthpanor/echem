{
 "cells": [
  {
   "cell_type": "markdown",
   "id": "ff8a63c1-317c-4890-a059-85f7e2c9f1e6",
   "metadata": {},
   "source": [
    "# Building the system\n",
    "\n",
    "This section will focus on the construction of an initial molecular structure, which can be done using a number of ways:\n",
    "\n",
    "- Specify the structure using the simplified molecular-input line-entry system ([SMILES](https://en.wikipedia.org/wiki/Simplified_molecular-input_line-entry_system)) line notation, and employ a program which can build the molecule from this\n",
    "\n",
    "- Downloading a structure from the protein data bank ([PDB](https://www.rcsb.org/))\n",
    "\n",
    "- Using a graphical molecular editor, such as [Avogadro](https://avogadro.cc/)\n"
   ]
  },
  {
   "cell_type": "code",
   "execution_count": 1,
   "id": "ef9ec4dd",
   "metadata": {
    "tags": []
   },
   "outputs": [],
   "source": [
    "import py3Dmol as p3d\n",
    "from rdkit import Chem\n",
    "from rdkit.Chem import AllChem\n",
    "from IPython.display import SVG"
   ]
  },
  {
   "cell_type": "markdown",
   "id": "da4f7b09",
   "metadata": {},
   "source": [
    "# Using SMILES\n",
    "\n",
    "\n",
    "In this section we will focus on the first option, using the [RDkit](https://www.rdkit.org/) package (which can also read PDB-files). For a full description of how a molecule is written using SMILES can be found on, *e.g.*, the [wiki](https://en.wikipedia.org/wiki/Simplified_molecular-input_line-entry_system) entry --- here we will just illustrate some of the basic commands. Remember to make sure to visualize the resulting geometries and ensure they correspond to what you are interested in.\n",
    "\n",
    "As a first example, we obtain the SMILES string of caffeine from [wikipedia](https://en.wikipedia.org/wiki/Caffeine) and construct a force-field optimized structure expressed xyz-coordinates."
   ]
  },
  {
   "cell_type": "code",
   "execution_count": 2,
   "id": "af2bcbc2",
   "metadata": {
    "tags": []
   },
   "outputs": [],
   "source": [
    "def smilestoxyz(smiles, opt = True, return_noH = False):\n",
    "    mol_bare = Chem.MolFromSmiles(smiles)\n",
    "    mol_full = Chem.AddHs(mol_bare)\n",
    "    AllChem.EmbedMolecule(mol_full)\n",
    "    if opt: AllChem.UFFOptimizeMolecule(mol_full)\n",
    "    if return_noH:\n",
    "        return Chem.MolToXYZBlock(mol_full), Chem.RemoveHs(mol_full)\n",
    "    return Chem.MolToXYZBlock(mol_full)\n",
    "\n",
    "caffeine_xyz = smilestoxyz('CN1C=NC2=C1C(=O)N(C(=O)N2C)C')"
   ]
  },
  {
   "cell_type": "markdown",
   "id": "2fa8b94d",
   "metadata": {},
   "source": [
    "In `smilestoxyz` we:\n",
    "\n",
    "1. Build the molecule, excluding implicit atoms (hydrogens)\n",
    "2. Add hydrogens\n",
    "3. Generate conformer\n",
    "4. Optimize using the Universal Force Field (UFF) [optional] \n",
    "5. Return the xyz-coordinates, and [optional] the RDfit object without hydrogens\n",
    "\n",
    "We can visualize the structure using py3Dmol:"
   ]
  },
  {
   "cell_type": "code",
   "execution_count": 4,
   "id": "66d104ff",
   "metadata": {
    "tags": [
     "remove_input"
    ]
   },
   "outputs": [
    {
     "data": {
      "application/3dmoljs_load.v0": "<div id=\"3dmolviewer_16788649288802335\"  style=\"position: relative; width: 400px; height: 300px\">\n        <p id=\"3dmolwarning_16788649288802335\" style=\"background-color:#ffcccc;color:black\">You appear to be running in JupyterLab (or JavaScript failed to load for some other reason).  You need to install the 3dmol extension: <br>\n        <tt>jupyter labextension install jupyterlab_3dmol</tt></p>\n        </div>\n<script>\n\nvar loadScriptAsync = function(uri){\n  return new Promise((resolve, reject) => {\n    //this is to ignore the existence of requirejs amd\n    var savedexports, savedmodule;\n    if (typeof exports !== 'undefined') savedexports = exports;\n    else exports = {}\n    if (typeof module !== 'undefined') savedmodule = module;\n    else module = {}\n\n    var tag = document.createElement('script');\n    tag.src = uri;\n    tag.async = true;\n    tag.onload = () => {\n        exports = savedexports;\n        module = savedmodule;\n        resolve();\n    };\n  var firstScriptTag = document.getElementsByTagName('script')[0];\n  firstScriptTag.parentNode.insertBefore(tag, firstScriptTag);\n});\n};\n\nif(typeof $3Dmolpromise === 'undefined') {\n$3Dmolpromise = null;\n  $3Dmolpromise = loadScriptAsync('https://cdnjs.cloudflare.com/ajax/libs/3Dmol/2.0.1/3Dmol-min.js');\n}\n\nvar viewer_16788649288802335 = null;\nvar warn = document.getElementById(\"3dmolwarning_16788649288802335\");\nif(warn) {\n    warn.parentNode.removeChild(warn);\n}\n$3Dmolpromise.then(function() {\nviewer_16788649288802335 = $3Dmol.createViewer(document.getElementById(\"3dmolviewer_16788649288802335\"),{backgroundColor:\"white\"});\nviewer_16788649288802335.zoomTo();\n\tviewer_16788649288802335.addModel(\"24\\n\\nC      3.263017    0.665602   -0.212720\\nN      2.130944   -0.255164   -0.199731\\nC      2.169427   -1.598733   -0.377053\\nN      0.942209   -2.179661   -0.328611\\nC      0.122902   -1.131387   -0.108457\\nC      0.826777    0.020965   -0.033402\\nC      0.176416    1.232141    0.162798\\nO      0.830662    2.309769    0.212003\\nN     -1.194119    1.221596    0.291480\\nC     -1.895573    0.031642    0.181110\\nO     -3.158218    0.040671    0.233363\\nN     -1.232449   -1.164517    0.007067\\nC     -1.967842   -2.428192   -0.134534\\nC     -1.923424    2.489165    0.463343\\nH      4.214642    0.108953   -0.348684\\nH      3.149265    1.386854   -1.048964\\nH      3.309011    1.216933    0.749769\\nH      3.081659   -2.156591   -0.545352\\nH     -1.328558   -3.298924    0.124931\\nH     -2.841765   -2.451853    0.551042\\nH     -2.320805   -2.537641   -1.181510\\nH     -2.839017    2.343970    1.075630\\nH     -2.209018    2.891819   -0.531182\\nH     -1.306144    3.242585    0.997663\\n\",\"xyz\");\n\tviewer_16788649288802335.setViewStyle({\"style\": \"outline\", \"width\": 0.05});\n\tviewer_16788649288802335.setStyle({\"stick\": {}, \"sphere\": {\"scale\": 0.25}});\nviewer_16788649288802335.render();\n});\n</script>",
      "text/html": [
       "<div id=\"3dmolviewer_16788649288802335\"  style=\"position: relative; width: 400px; height: 300px\">\n",
       "        <p id=\"3dmolwarning_16788649288802335\" style=\"background-color:#ffcccc;color:black\">You appear to be running in JupyterLab (or JavaScript failed to load for some other reason).  You need to install the 3dmol extension: <br>\n",
       "        <tt>jupyter labextension install jupyterlab_3dmol</tt></p>\n",
       "        </div>\n",
       "<script>\n",
       "\n",
       "var loadScriptAsync = function(uri){\n",
       "  return new Promise((resolve, reject) => {\n",
       "    //this is to ignore the existence of requirejs amd\n",
       "    var savedexports, savedmodule;\n",
       "    if (typeof exports !== 'undefined') savedexports = exports;\n",
       "    else exports = {}\n",
       "    if (typeof module !== 'undefined') savedmodule = module;\n",
       "    else module = {}\n",
       "\n",
       "    var tag = document.createElement('script');\n",
       "    tag.src = uri;\n",
       "    tag.async = true;\n",
       "    tag.onload = () => {\n",
       "        exports = savedexports;\n",
       "        module = savedmodule;\n",
       "        resolve();\n",
       "    };\n",
       "  var firstScriptTag = document.getElementsByTagName('script')[0];\n",
       "  firstScriptTag.parentNode.insertBefore(tag, firstScriptTag);\n",
       "});\n",
       "};\n",
       "\n",
       "if(typeof $3Dmolpromise === 'undefined') {\n",
       "$3Dmolpromise = null;\n",
       "  $3Dmolpromise = loadScriptAsync('https://cdnjs.cloudflare.com/ajax/libs/3Dmol/2.0.1/3Dmol-min.js');\n",
       "}\n",
       "\n",
       "var viewer_16788649288802335 = null;\n",
       "var warn = document.getElementById(\"3dmolwarning_16788649288802335\");\n",
       "if(warn) {\n",
       "    warn.parentNode.removeChild(warn);\n",
       "}\n",
       "$3Dmolpromise.then(function() {\n",
       "viewer_16788649288802335 = $3Dmol.createViewer(document.getElementById(\"3dmolviewer_16788649288802335\"),{backgroundColor:\"white\"});\n",
       "viewer_16788649288802335.zoomTo();\n",
       "\tviewer_16788649288802335.addModel(\"24\\n\\nC      3.263017    0.665602   -0.212720\\nN      2.130944   -0.255164   -0.199731\\nC      2.169427   -1.598733   -0.377053\\nN      0.942209   -2.179661   -0.328611\\nC      0.122902   -1.131387   -0.108457\\nC      0.826777    0.020965   -0.033402\\nC      0.176416    1.232141    0.162798\\nO      0.830662    2.309769    0.212003\\nN     -1.194119    1.221596    0.291480\\nC     -1.895573    0.031642    0.181110\\nO     -3.158218    0.040671    0.233363\\nN     -1.232449   -1.164517    0.007067\\nC     -1.967842   -2.428192   -0.134534\\nC     -1.923424    2.489165    0.463343\\nH      4.214642    0.108953   -0.348684\\nH      3.149265    1.386854   -1.048964\\nH      3.309011    1.216933    0.749769\\nH      3.081659   -2.156591   -0.545352\\nH     -1.328558   -3.298924    0.124931\\nH     -2.841765   -2.451853    0.551042\\nH     -2.320805   -2.537641   -1.181510\\nH     -2.839017    2.343970    1.075630\\nH     -2.209018    2.891819   -0.531182\\nH     -1.306144    3.242585    0.997663\\n\",\"xyz\");\n",
       "\tviewer_16788649288802335.setViewStyle({\"style\": \"outline\", \"width\": 0.05});\n",
       "\tviewer_16788649288802335.setStyle({\"stick\": {}, \"sphere\": {\"scale\": 0.25}});\n",
       "viewer_16788649288802335.render();\n",
       "});\n",
       "</script>"
      ]
     },
     "metadata": {},
     "output_type": "display_data"
    }
   ],
   "source": [
    "viewer = p3d.view(width=400, height=300)\n",
    "viewer.addModel(caffeine_xyz, 'xyz')\n",
    "viewer.setViewStyle({\"style\": \"outline\", \"width\": 0.05})\n",
    "viewer.setStyle({\"stick\":{},\"sphere\": {\"scale\":0.25}})\n",
    "viewer.show()"
   ]
  },
  {
   "cell_type": "markdown",
   "id": "596a3604",
   "metadata": {},
   "source": [
    "Print the xyz-coordinates:"
   ]
  },
  {
   "cell_type": "code",
   "execution_count": 5,
   "id": "9189a099",
   "metadata": {
    "tags": [
     "output_scroll"
    ]
   },
   "outputs": [
    {
     "name": "stdout",
     "output_type": "stream",
     "text": [
      "24\n",
      "\n",
      "C      3.263017    0.665602   -0.212720\n",
      "N      2.130944   -0.255164   -0.199731\n",
      "C      2.169427   -1.598733   -0.377053\n",
      "N      0.942209   -2.179661   -0.328611\n",
      "C      0.122902   -1.131387   -0.108457\n",
      "C      0.826777    0.020965   -0.033402\n",
      "C      0.176416    1.232141    0.162798\n",
      "O      0.830662    2.309769    0.212003\n",
      "N     -1.194119    1.221596    0.291480\n",
      "C     -1.895573    0.031642    0.181110\n",
      "O     -3.158218    0.040671    0.233363\n",
      "N     -1.232449   -1.164517    0.007067\n",
      "C     -1.967842   -2.428192   -0.134534\n",
      "C     -1.923424    2.489165    0.463343\n",
      "H      4.214642    0.108953   -0.348684\n",
      "H      3.149265    1.386854   -1.048964\n",
      "H      3.309011    1.216933    0.749769\n",
      "H      3.081659   -2.156591   -0.545352\n",
      "H     -1.328558   -3.298924    0.124931\n",
      "H     -2.841765   -2.451853    0.551042\n",
      "H     -2.320805   -2.537641   -1.181510\n",
      "H     -2.839017    2.343970    1.075630\n",
      "H     -2.209018    2.891819   -0.531182\n",
      "H     -1.306144    3.242585    0.997663\n",
      "\n"
     ]
    }
   ],
   "source": [
    "print(caffeine_xyz)"
   ]
  },
  {
   "cell_type": "markdown",
   "id": "c0b75ae2",
   "metadata": {},
   "source": [
    "This structure looks close to the actual equilibrium geometry, and in the next section we will discuss how to (further) [optimize the structure](wf_struct) using higher-level theory.\n",
    "\n",
    "\n",
    "If you want a 2D-representation, call the `smilestoxyz` with `return_noH = True`, and then make the figure using functionalities from RDfit:"
   ]
  },
  {
   "cell_type": "code",
   "execution_count": 6,
   "id": "33797b98",
   "metadata": {
    "tags": []
   },
   "outputs": [
    {
     "data": {
      "image/svg+xml": [
       "<svg xmlns=\"http://www.w3.org/2000/svg\" xmlns:rdkit=\"http://www.rdkit.org/xml\" xmlns:xlink=\"http://www.w3.org/1999/xlink\" version=\"1.1\" baseProfile=\"full\" xml:space=\"preserve\" width=\"300px\" height=\"200px\" viewBox=\"0 0 300 200\">\n",
       "<!-- END OF HEADER -->\n",
       "<rect style=\"opacity:1.0;fill:#FFFFFF;stroke:none\" width=\"300.0\" height=\"200.0\" x=\"0.0\" y=\"0.0\"> </rect>\n",
       "<path class=\"bond-0 atom-0 atom-1\" d=\"M 261.3,96.0 L 243.3,86.3\" style=\"fill:none;fill-rule:evenodd;stroke:#000000;stroke-width:2.0px;stroke-linecap:butt;stroke-linejoin:miter;stroke-opacity:1\"/>\n",
       "<path class=\"bond-0 atom-0 atom-1\" d=\"M 243.3,86.3 L 225.2,76.5\" style=\"fill:none;fill-rule:evenodd;stroke:#0000FF;stroke-width:2.0px;stroke-linecap:butt;stroke-linejoin:miter;stroke-opacity:1\"/>\n",
       "<path class=\"bond-1 atom-1 atom-2\" d=\"M 217.0,64.1 L 214.2,45.8\" style=\"fill:none;fill-rule:evenodd;stroke:#0000FF;stroke-width:2.0px;stroke-linecap:butt;stroke-linejoin:miter;stroke-opacity:1\"/>\n",
       "<path class=\"bond-1 atom-1 atom-2\" d=\"M 214.2,45.8 L 211.5,27.6\" style=\"fill:none;fill-rule:evenodd;stroke:#000000;stroke-width:2.0px;stroke-linecap:butt;stroke-linejoin:miter;stroke-opacity:1\"/>\n",
       "<path class=\"bond-2 atom-2 atom-3\" d=\"M 211.5,27.6 L 192.9,22.8\" style=\"fill:none;fill-rule:evenodd;stroke:#000000;stroke-width:2.0px;stroke-linecap:butt;stroke-linejoin:miter;stroke-opacity:1\"/>\n",
       "<path class=\"bond-2 atom-2 atom-3\" d=\"M 192.9,22.8 L 174.4,18.1\" style=\"fill:none;fill-rule:evenodd;stroke:#0000FF;stroke-width:2.0px;stroke-linecap:butt;stroke-linejoin:miter;stroke-opacity:1\"/>\n",
       "<path class=\"bond-2 atom-2 atom-3\" d=\"M 205.3,33.2 L 189.0,29.0\" style=\"fill:none;fill-rule:evenodd;stroke:#000000;stroke-width:2.0px;stroke-linecap:butt;stroke-linejoin:miter;stroke-opacity:1\"/>\n",
       "<path class=\"bond-2 atom-2 atom-3\" d=\"M 189.0,29.0 L 172.6,24.8\" style=\"fill:none;fill-rule:evenodd;stroke:#0000FF;stroke-width:2.0px;stroke-linecap:butt;stroke-linejoin:miter;stroke-opacity:1\"/>\n",
       "<path class=\"bond-3 atom-3 atom-4\" d=\"M 162.9,25.0 L 154.7,40.9\" style=\"fill:none;fill-rule:evenodd;stroke:#0000FF;stroke-width:2.0px;stroke-linecap:butt;stroke-linejoin:miter;stroke-opacity:1\"/>\n",
       "<path class=\"bond-3 atom-3 atom-4\" d=\"M 154.7,40.9 L 146.5,56.7\" style=\"fill:none;fill-rule:evenodd;stroke:#000000;stroke-width:2.0px;stroke-linecap:butt;stroke-linejoin:miter;stroke-opacity:1\"/>\n",
       "<path class=\"bond-4 atom-4 atom-5\" d=\"M 146.5,56.7 L 176.8,90.6\" style=\"fill:none;fill-rule:evenodd;stroke:#000000;stroke-width:2.0px;stroke-linecap:butt;stroke-linejoin:miter;stroke-opacity:1\"/>\n",
       "<path class=\"bond-4 atom-4 atom-5\" d=\"M 154.9,55.7 L 178.6,82.2\" style=\"fill:none;fill-rule:evenodd;stroke:#000000;stroke-width:2.0px;stroke-linecap:butt;stroke-linejoin:miter;stroke-opacity:1\"/>\n",
       "<path class=\"bond-5 atom-5 atom-6\" d=\"M 176.8,90.6 L 162.6,135.3\" style=\"fill:none;fill-rule:evenodd;stroke:#000000;stroke-width:2.0px;stroke-linecap:butt;stroke-linejoin:miter;stroke-opacity:1\"/>\n",
       "<path class=\"bond-6 atom-6 atom-7\" d=\"M 158.6,136.1 L 169.4,148.2\" style=\"fill:none;fill-rule:evenodd;stroke:#000000;stroke-width:2.0px;stroke-linecap:butt;stroke-linejoin:miter;stroke-opacity:1\"/>\n",
       "<path class=\"bond-6 atom-6 atom-7\" d=\"M 169.4,148.2 L 180.2,160.4\" style=\"fill:none;fill-rule:evenodd;stroke:#FF0000;stroke-width:2.0px;stroke-linecap:butt;stroke-linejoin:miter;stroke-opacity:1\"/>\n",
       "<path class=\"bond-6 atom-6 atom-7\" d=\"M 163.8,131.4 L 174.6,143.6\" style=\"fill:none;fill-rule:evenodd;stroke:#000000;stroke-width:2.0px;stroke-linecap:butt;stroke-linejoin:miter;stroke-opacity:1\"/>\n",
       "<path class=\"bond-6 atom-6 atom-7\" d=\"M 174.6,143.6 L 185.4,155.8\" style=\"fill:none;fill-rule:evenodd;stroke:#FF0000;stroke-width:2.0px;stroke-linecap:butt;stroke-linejoin:miter;stroke-opacity:1\"/>\n",
       "<path class=\"bond-7 atom-6 atom-8\" d=\"M 162.6,135.3 L 143.4,139.0\" style=\"fill:none;fill-rule:evenodd;stroke:#000000;stroke-width:2.0px;stroke-linecap:butt;stroke-linejoin:miter;stroke-opacity:1\"/>\n",
       "<path class=\"bond-7 atom-6 atom-8\" d=\"M 143.4,139.0 L 124.3,142.7\" style=\"fill:none;fill-rule:evenodd;stroke:#0000FF;stroke-width:2.0px;stroke-linecap:butt;stroke-linejoin:miter;stroke-opacity:1\"/>\n",
       "<path class=\"bond-8 atom-8 atom-9\" d=\"M 110.3,135.9 L 98.6,122.3\" style=\"fill:none;fill-rule:evenodd;stroke:#0000FF;stroke-width:2.0px;stroke-linecap:butt;stroke-linejoin:miter;stroke-opacity:1\"/>\n",
       "<path class=\"bond-8 atom-8 atom-9\" d=\"M 98.6,122.3 L 86.9,108.7\" style=\"fill:none;fill-rule:evenodd;stroke:#000000;stroke-width:2.0px;stroke-linecap:butt;stroke-linejoin:miter;stroke-opacity:1\"/>\n",
       "<path class=\"bond-9 atom-9 atom-10\" d=\"M 88.1,104.9 L 70.4,108.4\" style=\"fill:none;fill-rule:evenodd;stroke:#000000;stroke-width:2.0px;stroke-linecap:butt;stroke-linejoin:miter;stroke-opacity:1\"/>\n",
       "<path class=\"bond-9 atom-9 atom-10\" d=\"M 70.4,108.4 L 52.7,112.0\" style=\"fill:none;fill-rule:evenodd;stroke:#FF0000;stroke-width:2.0px;stroke-linecap:butt;stroke-linejoin:miter;stroke-opacity:1\"/>\n",
       "<path class=\"bond-9 atom-9 atom-10\" d=\"M 89.5,111.7 L 71.8,115.3\" style=\"fill:none;fill-rule:evenodd;stroke:#000000;stroke-width:2.0px;stroke-linecap:butt;stroke-linejoin:miter;stroke-opacity:1\"/>\n",
       "<path class=\"bond-9 atom-9 atom-10\" d=\"M 71.8,115.3 L 54.1,118.8\" style=\"fill:none;fill-rule:evenodd;stroke:#FF0000;stroke-width:2.0px;stroke-linecap:butt;stroke-linejoin:miter;stroke-opacity:1\"/>\n",
       "<path class=\"bond-10 atom-9 atom-11\" d=\"M 86.9,108.7 L 92.7,90.9\" style=\"fill:none;fill-rule:evenodd;stroke:#000000;stroke-width:2.0px;stroke-linecap:butt;stroke-linejoin:miter;stroke-opacity:1\"/>\n",
       "<path class=\"bond-10 atom-9 atom-11\" d=\"M 92.7,90.9 L 98.6,73.2\" style=\"fill:none;fill-rule:evenodd;stroke:#0000FF;stroke-width:2.0px;stroke-linecap:butt;stroke-linejoin:miter;stroke-opacity:1\"/>\n",
       "<path class=\"bond-11 atom-11 atom-12\" d=\"M 94.5,56.3 L 82.1,41.6\" style=\"fill:none;fill-rule:evenodd;stroke:#0000FF;stroke-width:2.0px;stroke-linecap:butt;stroke-linejoin:miter;stroke-opacity:1\"/>\n",
       "<path class=\"bond-11 atom-11 atom-12\" d=\"M 82.1,41.6 L 69.6,26.9\" style=\"fill:none;fill-rule:evenodd;stroke:#000000;stroke-width:2.0px;stroke-linecap:butt;stroke-linejoin:miter;stroke-opacity:1\"/>\n",
       "<path class=\"bond-12 atom-8 atom-13\" d=\"M 114.2,152.7 L 107.5,171.8\" style=\"fill:none;fill-rule:evenodd;stroke:#0000FF;stroke-width:2.0px;stroke-linecap:butt;stroke-linejoin:miter;stroke-opacity:1\"/>\n",
       "<path class=\"bond-12 atom-8 atom-13\" d=\"M 107.5,171.8 L 100.8,190.9\" style=\"fill:none;fill-rule:evenodd;stroke:#000000;stroke-width:2.0px;stroke-linecap:butt;stroke-linejoin:miter;stroke-opacity:1\"/>\n",
       "<path class=\"bond-13 atom-5 atom-1\" d=\"M 176.8,90.6 L 194.0,83.2\" style=\"fill:none;fill-rule:evenodd;stroke:#000000;stroke-width:2.0px;stroke-linecap:butt;stroke-linejoin:miter;stroke-opacity:1\"/>\n",
       "<path class=\"bond-13 atom-5 atom-1\" d=\"M 194.0,83.2 L 211.3,75.8\" style=\"fill:none;fill-rule:evenodd;stroke:#0000FF;stroke-width:2.0px;stroke-linecap:butt;stroke-linejoin:miter;stroke-opacity:1\"/>\n",
       "<path class=\"bond-14 atom-11 atom-4\" d=\"M 108.4,63.3 L 127.5,60.0\" style=\"fill:none;fill-rule:evenodd;stroke:#0000FF;stroke-width:2.0px;stroke-linecap:butt;stroke-linejoin:miter;stroke-opacity:1\"/>\n",
       "<path class=\"bond-14 atom-11 atom-4\" d=\"M 127.5,60.0 L 146.5,56.7\" style=\"fill:none;fill-rule:evenodd;stroke:#000000;stroke-width:2.0px;stroke-linecap:butt;stroke-linejoin:miter;stroke-opacity:1\"/>\n",
       "<path d=\"M 211.6,28.5 L 211.5,27.6 L 210.6,27.3\" style=\"fill:none;stroke:#000000;stroke-width:2.0px;stroke-linecap:butt;stroke-linejoin:miter;stroke-opacity:1;\"/>\n",
       "<path d=\"M 163.3,133.1 L 162.6,135.3 L 161.6,135.5\" style=\"fill:none;stroke:#000000;stroke-width:2.0px;stroke-linecap:butt;stroke-linejoin:miter;stroke-opacity:1;\"/>\n",
       "<path d=\"M 87.5,109.4 L 86.9,108.7 L 87.2,107.8\" style=\"fill:none;stroke:#000000;stroke-width:2.0px;stroke-linecap:butt;stroke-linejoin:miter;stroke-opacity:1;\"/>\n",
       "<path class=\"atom-1\" d=\"M 215.1 65.6 L 219.8 73.2 Q 220.3 73.9, 221.0 75.3 Q 221.8 76.7, 221.8 76.7 L 221.8 65.6 L 223.7 65.6 L 223.7 79.9 L 221.7 79.9 L 216.7 71.6 Q 216.1 70.7, 215.5 69.5 Q 214.9 68.4, 214.7 68.1 L 214.7 79.9 L 212.8 79.9 L 212.8 65.6 L 215.1 65.6 \" fill=\"#0000FF\"/>\n",
       "<path class=\"atom-3\" d=\"M 164.2 9.1 L 168.9 16.7 Q 169.4 17.4, 170.1 18.8 Q 170.9 20.2, 170.9 20.2 L 170.9 9.1 L 172.8 9.1 L 172.8 23.4 L 170.9 23.4 L 165.8 15.1 Q 165.2 14.2, 164.6 13.0 Q 164.0 11.9, 163.8 11.6 L 163.8 23.4 L 162.0 23.4 L 162.0 9.1 L 164.2 9.1 \" fill=\"#0000FF\"/>\n",
       "<path class=\"atom-7\" d=\"M 184.1 166.9 Q 184.1 163.5, 185.8 161.5 Q 187.5 159.6, 190.6 159.6 Q 193.8 159.6, 195.5 161.5 Q 197.2 163.5, 197.2 166.9 Q 197.2 170.4, 195.5 172.4 Q 193.8 174.3, 190.6 174.3 Q 187.5 174.3, 185.8 172.4 Q 184.1 170.4, 184.1 166.9 M 190.6 172.7 Q 192.8 172.7, 194.0 171.3 Q 195.2 169.8, 195.2 166.9 Q 195.2 164.1, 194.0 162.7 Q 192.8 161.2, 190.6 161.2 Q 188.5 161.2, 187.3 162.7 Q 186.1 164.1, 186.1 166.9 Q 186.1 169.8, 187.3 171.3 Q 188.5 172.7, 190.6 172.7 \" fill=\"#FF0000\"/>\n",
       "<path class=\"atom-8\" d=\"M 114.1 136.8 L 118.8 144.4 Q 119.3 145.2, 120.0 146.5 Q 120.8 147.9, 120.8 148.0 L 120.8 136.8 L 122.7 136.8 L 122.7 151.2 L 120.8 151.2 L 115.7 142.9 Q 115.1 141.9, 114.5 140.8 Q 113.9 139.7, 113.7 139.3 L 113.7 151.2 L 111.9 151.2 L 111.9 136.8 L 114.1 136.8 \" fill=\"#0000FF\"/>\n",
       "<path class=\"atom-10\" d=\"M 38.7 117.1 Q 38.7 113.6, 40.4 111.7 Q 42.1 109.8, 45.3 109.8 Q 48.5 109.8, 50.2 111.7 Q 51.9 113.6, 51.9 117.1 Q 51.9 120.5, 50.1 122.5 Q 48.4 124.5, 45.3 124.5 Q 42.1 124.5, 40.4 122.5 Q 38.7 120.6, 38.7 117.1 M 45.3 122.9 Q 47.5 122.9, 48.6 121.4 Q 49.8 119.9, 49.8 117.1 Q 49.8 114.2, 48.6 112.8 Q 47.5 111.4, 45.3 111.4 Q 43.1 111.4, 41.9 112.8 Q 40.7 114.2, 40.7 117.1 Q 40.7 119.9, 41.9 121.4 Q 43.1 122.9, 45.3 122.9 \" fill=\"#FF0000\"/>\n",
       "<path class=\"atom-11\" d=\"M 98.3 57.3 L 103.0 64.9 Q 103.5 65.7, 104.2 67.0 Q 105.0 68.4, 105.0 68.5 L 105.0 57.3 L 106.9 57.3 L 106.9 71.7 L 104.9 71.7 L 99.9 63.4 Q 99.3 62.4, 98.7 61.3 Q 98.1 60.2, 97.9 59.8 L 97.9 71.7 L 96.0 71.7 L 96.0 57.3 L 98.3 57.3 \" fill=\"#0000FF\"/>\n",
       "</svg>"
      ],
      "text/plain": [
       "<IPython.core.display.SVG object>"
      ]
     },
     "metadata": {},
     "output_type": "display_data"
    }
   ],
   "source": [
    "caffeine_xyz, caffeine_noH = smilestoxyz('CN1C=NC2=C1C(=O)N(C(=O)N2C)C', return_noH = True)\n",
    "\n",
    "drawer = Chem.Draw.rdMolDraw2D.MolDraw2DSVG(300,200)\n",
    "drawer.DrawMolecule(caffeine_noH)\n",
    "drawer.FinishDrawing()\n",
    "display(SVG(drawer.GetDrawingText()))"
   ]
  },
  {
   "cell_type": "markdown",
   "id": "4cd42682",
   "metadata": {},
   "source": [
    "Note that the image will look somewhat different each time, as the initial conformer and UFF optimized structure will have different orientations, which will affect the projection to 2D --- this is particularly the case for larger molecules extending in all three directions. Still, for many molecules this will work well, and you can save the .svg-figure with right-click save.\n",
    "\n",
    "\n",
    "## Bond type\n",
    "\n",
    "The basic principle of SMILES is to start at a suitable part of the molecule, and build the full molecule by sequentially describing the connections of each atom/functional group in turn. Hydrogens are typically added implicitly, and thus do not need to be specified. As such, the first four alkanes can simply be written with an increasing number of `C`:"
   ]
  },
  {
   "cell_type": "code",
   "execution_count": 8,
   "id": "b246d31d",
   "metadata": {
    "tags": []
   },
   "outputs": [
    {
     "data": {
      "application/3dmoljs_load.v0": "<div id=\"3dmolviewer_1678864940206889\"  style=\"position: relative; width: 500px; height: 300px\">\n        <p id=\"3dmolwarning_1678864940206889\" style=\"background-color:#ffcccc;color:black\">You appear to be running in JupyterLab (or JavaScript failed to load for some other reason).  You need to install the 3dmol extension: <br>\n        <tt>jupyter labextension install jupyterlab_3dmol</tt></p>\n        </div>\n<script>\n\nvar loadScriptAsync = function(uri){\n  return new Promise((resolve, reject) => {\n    //this is to ignore the existence of requirejs amd\n    var savedexports, savedmodule;\n    if (typeof exports !== 'undefined') savedexports = exports;\n    else exports = {}\n    if (typeof module !== 'undefined') savedmodule = module;\n    else module = {}\n\n    var tag = document.createElement('script');\n    tag.src = uri;\n    tag.async = true;\n    tag.onload = () => {\n        exports = savedexports;\n        module = savedmodule;\n        resolve();\n    };\n  var firstScriptTag = document.getElementsByTagName('script')[0];\n  firstScriptTag.parentNode.insertBefore(tag, firstScriptTag);\n});\n};\n\nif(typeof $3Dmolpromise === 'undefined') {\n$3Dmolpromise = null;\n  $3Dmolpromise = loadScriptAsync('https://cdnjs.cloudflare.com/ajax/libs/3Dmol/2.0.1/3Dmol-min.js');\n}\n\nvar viewer_1678864940206889 = null;\nvar warn = document.getElementById(\"3dmolwarning_1678864940206889\");\nif(warn) {\n    warn.parentNode.removeChild(warn);\n}\n$3Dmolpromise.then(function() {\nvar viewergrid_1678864940206889 = null;\nviewergrid_1678864940206889 = $3Dmol.createViewerGrid(document.getElementById(\"3dmolviewer_1678864940206889\"),{rows: 2, cols: 2, control_all: false},{backgroundColor:\"white\"});\nviewer_1678864940206889 = viewergrid_1678864940206889[0][0];\nviewergrid_1678864940206889[0][0].zoomTo();viewergrid_1678864940206889[0][1].zoomTo();viewergrid_1678864940206889[1][0].zoomTo();viewergrid_1678864940206889[1][1].zoomTo();\tviewergrid_1678864940206889[0][0].addModel(\"5\\n\\nC     -0.000000   -0.000000    0.000000\\nH     -0.577020   -0.597372   -0.735503\\nH     -0.295882    1.066491   -0.076282\\nH     -0.211449   -0.370082    1.024255\\nH      1.084351   -0.099037   -0.212469\\n\",\"xyz\");\n\tviewergrid_1678864940206889[0][1].addModel(\"8\\n\\nC     -0.758616   -0.037319    0.009239\\nC      0.758616    0.037320   -0.009240\\nH     -1.183556    0.977222    0.161195\\nH     -1.092867   -0.699282    0.835702\\nH     -1.127173   -0.445378   -0.955443\\nH      1.183557   -0.977222   -0.161193\\nH      1.092867    0.699281   -0.835703\\nH      1.127172    0.445378    0.955444\\n\",\"xyz\");\n\tviewergrid_1678864940206889[1][0].addModel(\"11\\n\\nC      1.095752   -0.470637   -0.470442\\nC      0.148103    0.601622    0.058509\\nC     -1.209236    0.009646    0.425609\\nH      1.264383   -1.251437    0.301607\\nH      2.072246   -0.009049   -0.727984\\nH      0.673744   -0.942154   -1.383528\\nH      0.596593    1.076152    0.957851\\nH      0.008990    1.383845   -0.718611\\nH     -1.092833   -0.760272    1.217961\\nH     -1.683477   -0.450987   -0.467172\\nH     -1.874266    0.813273    0.806202\\n\",\"xyz\");\n\tviewergrid_1678864940206889[1][1].addModel(\"14\\n\\nC      1.937836   -0.023699   -0.059733\\nC      0.537190   -0.032392    0.545519\\nC     -0.537191    0.032385   -0.545519\\nC     -1.937836    0.023704    0.059733\\nH      2.100623    0.907978   -0.642473\\nH      2.075922   -0.902113   -0.725637\\nH      2.693896   -0.071317    0.752113\\nH      0.409399   -0.961408    1.143035\\nH      0.433994    0.841075    1.225835\\nH     -0.409395    0.961396   -1.143041\\nH     -0.433999   -0.841087   -1.225831\\nH     -2.693895    0.071326   -0.752112\\nH     -2.100630   -0.907970    0.642475\\nH     -2.075914    0.902120    0.725635\\n\",\"xyz\");\n\tviewergrid_1678864940206889[0][0].setViewStyle({\"style\": \"outline\", \"width\": 0.05});\n\tviewergrid_1678864940206889[0][1].setViewStyle({\"style\": \"outline\", \"width\": 0.05});\n\tviewergrid_1678864940206889[1][0].setViewStyle({\"style\": \"outline\", \"width\": 0.05});\n\tviewergrid_1678864940206889[1][1].setViewStyle({\"style\": \"outline\", \"width\": 0.05});\n\tviewergrid_1678864940206889[0][0].setStyle({\"stick\": {}, \"sphere\": {\"scale\": 0.25}});\n\tviewergrid_1678864940206889[0][1].setStyle({\"stick\": {}, \"sphere\": {\"scale\": 0.25}});\n\tviewergrid_1678864940206889[1][0].setStyle({\"stick\": {}, \"sphere\": {\"scale\": 0.25}});\n\tviewergrid_1678864940206889[1][1].setStyle({\"stick\": {}, \"sphere\": {\"scale\": 0.25}});\nviewergrid_1678864940206889[1][1].render();\nviewergrid_1678864940206889[1][0].render();\nviewergrid_1678864940206889[0][1].render();\nviewergrid_1678864940206889[0][0].render();\n});\n</script>",
      "text/html": [
       "<div id=\"3dmolviewer_1678864940206889\"  style=\"position: relative; width: 500px; height: 300px\">\n",
       "        <p id=\"3dmolwarning_1678864940206889\" style=\"background-color:#ffcccc;color:black\">You appear to be running in JupyterLab (or JavaScript failed to load for some other reason).  You need to install the 3dmol extension: <br>\n",
       "        <tt>jupyter labextension install jupyterlab_3dmol</tt></p>\n",
       "        </div>\n",
       "<script>\n",
       "\n",
       "var loadScriptAsync = function(uri){\n",
       "  return new Promise((resolve, reject) => {\n",
       "    //this is to ignore the existence of requirejs amd\n",
       "    var savedexports, savedmodule;\n",
       "    if (typeof exports !== 'undefined') savedexports = exports;\n",
       "    else exports = {}\n",
       "    if (typeof module !== 'undefined') savedmodule = module;\n",
       "    else module = {}\n",
       "\n",
       "    var tag = document.createElement('script');\n",
       "    tag.src = uri;\n",
       "    tag.async = true;\n",
       "    tag.onload = () => {\n",
       "        exports = savedexports;\n",
       "        module = savedmodule;\n",
       "        resolve();\n",
       "    };\n",
       "  var firstScriptTag = document.getElementsByTagName('script')[0];\n",
       "  firstScriptTag.parentNode.insertBefore(tag, firstScriptTag);\n",
       "});\n",
       "};\n",
       "\n",
       "if(typeof $3Dmolpromise === 'undefined') {\n",
       "$3Dmolpromise = null;\n",
       "  $3Dmolpromise = loadScriptAsync('https://cdnjs.cloudflare.com/ajax/libs/3Dmol/2.0.1/3Dmol-min.js');\n",
       "}\n",
       "\n",
       "var viewer_1678864940206889 = null;\n",
       "var warn = document.getElementById(\"3dmolwarning_1678864940206889\");\n",
       "if(warn) {\n",
       "    warn.parentNode.removeChild(warn);\n",
       "}\n",
       "$3Dmolpromise.then(function() {\n",
       "var viewergrid_1678864940206889 = null;\n",
       "viewergrid_1678864940206889 = $3Dmol.createViewerGrid(document.getElementById(\"3dmolviewer_1678864940206889\"),{rows: 2, cols: 2, control_all: false},{backgroundColor:\"white\"});\n",
       "viewer_1678864940206889 = viewergrid_1678864940206889[0][0];\n",
       "viewergrid_1678864940206889[0][0].zoomTo();viewergrid_1678864940206889[0][1].zoomTo();viewergrid_1678864940206889[1][0].zoomTo();viewergrid_1678864940206889[1][1].zoomTo();\tviewergrid_1678864940206889[0][0].addModel(\"5\\n\\nC     -0.000000   -0.000000    0.000000\\nH     -0.577020   -0.597372   -0.735503\\nH     -0.295882    1.066491   -0.076282\\nH     -0.211449   -0.370082    1.024255\\nH      1.084351   -0.099037   -0.212469\\n\",\"xyz\");\n",
       "\tviewergrid_1678864940206889[0][1].addModel(\"8\\n\\nC     -0.758616   -0.037319    0.009239\\nC      0.758616    0.037320   -0.009240\\nH     -1.183556    0.977222    0.161195\\nH     -1.092867   -0.699282    0.835702\\nH     -1.127173   -0.445378   -0.955443\\nH      1.183557   -0.977222   -0.161193\\nH      1.092867    0.699281   -0.835703\\nH      1.127172    0.445378    0.955444\\n\",\"xyz\");\n",
       "\tviewergrid_1678864940206889[1][0].addModel(\"11\\n\\nC      1.095752   -0.470637   -0.470442\\nC      0.148103    0.601622    0.058509\\nC     -1.209236    0.009646    0.425609\\nH      1.264383   -1.251437    0.301607\\nH      2.072246   -0.009049   -0.727984\\nH      0.673744   -0.942154   -1.383528\\nH      0.596593    1.076152    0.957851\\nH      0.008990    1.383845   -0.718611\\nH     -1.092833   -0.760272    1.217961\\nH     -1.683477   -0.450987   -0.467172\\nH     -1.874266    0.813273    0.806202\\n\",\"xyz\");\n",
       "\tviewergrid_1678864940206889[1][1].addModel(\"14\\n\\nC      1.937836   -0.023699   -0.059733\\nC      0.537190   -0.032392    0.545519\\nC     -0.537191    0.032385   -0.545519\\nC     -1.937836    0.023704    0.059733\\nH      2.100623    0.907978   -0.642473\\nH      2.075922   -0.902113   -0.725637\\nH      2.693896   -0.071317    0.752113\\nH      0.409399   -0.961408    1.143035\\nH      0.433994    0.841075    1.225835\\nH     -0.409395    0.961396   -1.143041\\nH     -0.433999   -0.841087   -1.225831\\nH     -2.693895    0.071326   -0.752112\\nH     -2.100630   -0.907970    0.642475\\nH     -2.075914    0.902120    0.725635\\n\",\"xyz\");\n",
       "\tviewergrid_1678864940206889[0][0].setViewStyle({\"style\": \"outline\", \"width\": 0.05});\n",
       "\tviewergrid_1678864940206889[0][1].setViewStyle({\"style\": \"outline\", \"width\": 0.05});\n",
       "\tviewergrid_1678864940206889[1][0].setViewStyle({\"style\": \"outline\", \"width\": 0.05});\n",
       "\tviewergrid_1678864940206889[1][1].setViewStyle({\"style\": \"outline\", \"width\": 0.05});\n",
       "\tviewergrid_1678864940206889[0][0].setStyle({\"stick\": {}, \"sphere\": {\"scale\": 0.25}});\n",
       "\tviewergrid_1678864940206889[0][1].setStyle({\"stick\": {}, \"sphere\": {\"scale\": 0.25}});\n",
       "\tviewergrid_1678864940206889[1][0].setStyle({\"stick\": {}, \"sphere\": {\"scale\": 0.25}});\n",
       "\tviewergrid_1678864940206889[1][1].setStyle({\"stick\": {}, \"sphere\": {\"scale\": 0.25}});\n",
       "viewergrid_1678864940206889[1][1].render();\n",
       "viewergrid_1678864940206889[1][0].render();\n",
       "viewergrid_1678864940206889[0][1].render();\n",
       "viewergrid_1678864940206889[0][0].render();\n",
       "});\n",
       "</script>"
      ]
     },
     "metadata": {},
     "output_type": "display_data"
    }
   ],
   "source": [
    "methane_xyz = smilestoxyz('C')\n",
    "ethane_xyz = smilestoxyz('CC')\n",
    "propane_xyz = smilestoxyz('CCC')\n",
    "butane_xyz = smilestoxyz('CCCC')\n",
    "\n",
    "viewer = p3d.view(viewergrid=(2, 2), width=500, height=300, linked=False)\n",
    "viewer.addModel(methane_xyz, 'xyz', viewer=(0, 0))\n",
    "viewer.addModel(ethane_xyz, 'xyz', viewer=(0, 1))\n",
    "viewer.addModel(propane_xyz, 'xyz', viewer=(1, 0))\n",
    "viewer.addModel(butane_xyz, 'xyz', viewer=(1, 1))\n",
    "viewer.setViewStyle({\"style\": \"outline\", \"width\": 0.05})\n",
    "viewer.setStyle({\"stick\":{},\"sphere\": {\"scale\":0.25}})\n",
    "viewer.show()"
   ]
  },
  {
   "cell_type": "markdown",
   "id": "dfcdffbd",
   "metadata": {},
   "source": [
    "Bond types are specified with different symbols between two atoms, with `-`, `#`, and `#`, for single-, double-, and triple-bonds, respectively, and other bond types are possible (see, *e.g.*, [wikipedia](https://en.wikipedia.org/wiki/Simplified_molecular-input_line-entry_system)). Single bonds is assumed if no bond type is specified.\n",
    "\n",
    "For example, ethane, ethene, and ethyne are constructed as:"
   ]
  },
  {
   "cell_type": "code",
   "execution_count": 9,
   "id": "fc73aeeb",
   "metadata": {
    "tags": []
   },
   "outputs": [
    {
     "data": {
      "application/3dmoljs_load.v0": "<div id=\"3dmolviewer_16788649461089993\"  style=\"position: relative; width: 400px; height: 200px\">\n        <p id=\"3dmolwarning_16788649461089993\" style=\"background-color:#ffcccc;color:black\">You appear to be running in JupyterLab (or JavaScript failed to load for some other reason).  You need to install the 3dmol extension: <br>\n        <tt>jupyter labextension install jupyterlab_3dmol</tt></p>\n        </div>\n<script>\n\nvar loadScriptAsync = function(uri){\n  return new Promise((resolve, reject) => {\n    //this is to ignore the existence of requirejs amd\n    var savedexports, savedmodule;\n    if (typeof exports !== 'undefined') savedexports = exports;\n    else exports = {}\n    if (typeof module !== 'undefined') savedmodule = module;\n    else module = {}\n\n    var tag = document.createElement('script');\n    tag.src = uri;\n    tag.async = true;\n    tag.onload = () => {\n        exports = savedexports;\n        module = savedmodule;\n        resolve();\n    };\n  var firstScriptTag = document.getElementsByTagName('script')[0];\n  firstScriptTag.parentNode.insertBefore(tag, firstScriptTag);\n});\n};\n\nif(typeof $3Dmolpromise === 'undefined') {\n$3Dmolpromise = null;\n  $3Dmolpromise = loadScriptAsync('https://cdnjs.cloudflare.com/ajax/libs/3Dmol/2.0.1/3Dmol-min.js');\n}\n\nvar viewer_16788649461089993 = null;\nvar warn = document.getElementById(\"3dmolwarning_16788649461089993\");\nif(warn) {\n    warn.parentNode.removeChild(warn);\n}\n$3Dmolpromise.then(function() {\nvar viewergrid_16788649461089993 = null;\nviewergrid_16788649461089993 = $3Dmol.createViewerGrid(document.getElementById(\"3dmolviewer_16788649461089993\"),{rows: 1, cols: 3, control_all: false},{backgroundColor:\"white\"});\nviewer_16788649461089993 = viewergrid_16788649461089993[0][0];\nviewergrid_16788649461089993[0][0].zoomTo();viewergrid_16788649461089993[0][1].zoomTo();viewergrid_16788649461089993[0][2].zoomTo();\tviewergrid_16788649461089993[0][0].addModel(\"8\\n\\nC     -0.755703    0.013908   -0.075470\\nC      0.755703   -0.013908    0.075470\\nH     -1.215046    0.480000    0.821591\\nH     -1.142070   -1.021228   -0.185798\\nH     -1.033410    0.603626   -0.974396\\nH      1.033409   -0.603609    0.974408\\nH      1.215045   -0.480020   -0.821582\\nH      1.142071    1.021230    0.185777\\n\",\"xyz\");\n\tviewergrid_16788649461089993[0][1].addModel(\"6\\n\\nC      0.643928   -0.031314    0.165108\\nC     -0.643928    0.031314   -0.165108\\nH      1.245566    0.871391    0.192987\\nH      1.100024   -0.985456    0.408442\\nH     -1.100023    0.985455   -0.408447\\nH     -1.245568   -0.871390   -0.192981\\n\",\"xyz\");\n\tviewergrid_16788649461089993[0][2].addModel(\"4\\n\\nC      0.577369    0.398116   -0.083504\\nC     -0.577369    0.095545    0.083503\\nH      1.591313    0.663797   -0.230147\\nH     -1.591313   -0.170134    0.230148\\n\",\"xyz\");\n\tviewergrid_16788649461089993[0][0].setViewStyle({\"style\": \"outline\", \"width\": 0.05});\n\tviewergrid_16788649461089993[0][1].setViewStyle({\"style\": \"outline\", \"width\": 0.05});\n\tviewergrid_16788649461089993[0][2].setViewStyle({\"style\": \"outline\", \"width\": 0.05});\n\tviewergrid_16788649461089993[0][0].setStyle({\"stick\": {}, \"sphere\": {\"scale\": 0.25}});\n\tviewergrid_16788649461089993[0][1].setStyle({\"stick\": {}, \"sphere\": {\"scale\": 0.25}});\n\tviewergrid_16788649461089993[0][2].setStyle({\"stick\": {}, \"sphere\": {\"scale\": 0.25}});\nviewergrid_16788649461089993[0][2].render();\nviewergrid_16788649461089993[0][1].render();\nviewergrid_16788649461089993[0][0].render();\n});\n</script>",
      "text/html": [
       "<div id=\"3dmolviewer_16788649461089993\"  style=\"position: relative; width: 400px; height: 200px\">\n",
       "        <p id=\"3dmolwarning_16788649461089993\" style=\"background-color:#ffcccc;color:black\">You appear to be running in JupyterLab (or JavaScript failed to load for some other reason).  You need to install the 3dmol extension: <br>\n",
       "        <tt>jupyter labextension install jupyterlab_3dmol</tt></p>\n",
       "        </div>\n",
       "<script>\n",
       "\n",
       "var loadScriptAsync = function(uri){\n",
       "  return new Promise((resolve, reject) => {\n",
       "    //this is to ignore the existence of requirejs amd\n",
       "    var savedexports, savedmodule;\n",
       "    if (typeof exports !== 'undefined') savedexports = exports;\n",
       "    else exports = {}\n",
       "    if (typeof module !== 'undefined') savedmodule = module;\n",
       "    else module = {}\n",
       "\n",
       "    var tag = document.createElement('script');\n",
       "    tag.src = uri;\n",
       "    tag.async = true;\n",
       "    tag.onload = () => {\n",
       "        exports = savedexports;\n",
       "        module = savedmodule;\n",
       "        resolve();\n",
       "    };\n",
       "  var firstScriptTag = document.getElementsByTagName('script')[0];\n",
       "  firstScriptTag.parentNode.insertBefore(tag, firstScriptTag);\n",
       "});\n",
       "};\n",
       "\n",
       "if(typeof $3Dmolpromise === 'undefined') {\n",
       "$3Dmolpromise = null;\n",
       "  $3Dmolpromise = loadScriptAsync('https://cdnjs.cloudflare.com/ajax/libs/3Dmol/2.0.1/3Dmol-min.js');\n",
       "}\n",
       "\n",
       "var viewer_16788649461089993 = null;\n",
       "var warn = document.getElementById(\"3dmolwarning_16788649461089993\");\n",
       "if(warn) {\n",
       "    warn.parentNode.removeChild(warn);\n",
       "}\n",
       "$3Dmolpromise.then(function() {\n",
       "var viewergrid_16788649461089993 = null;\n",
       "viewergrid_16788649461089993 = $3Dmol.createViewerGrid(document.getElementById(\"3dmolviewer_16788649461089993\"),{rows: 1, cols: 3, control_all: false},{backgroundColor:\"white\"});\n",
       "viewer_16788649461089993 = viewergrid_16788649461089993[0][0];\n",
       "viewergrid_16788649461089993[0][0].zoomTo();viewergrid_16788649461089993[0][1].zoomTo();viewergrid_16788649461089993[0][2].zoomTo();\tviewergrid_16788649461089993[0][0].addModel(\"8\\n\\nC     -0.755703    0.013908   -0.075470\\nC      0.755703   -0.013908    0.075470\\nH     -1.215046    0.480000    0.821591\\nH     -1.142070   -1.021228   -0.185798\\nH     -1.033410    0.603626   -0.974396\\nH      1.033409   -0.603609    0.974408\\nH      1.215045   -0.480020   -0.821582\\nH      1.142071    1.021230    0.185777\\n\",\"xyz\");\n",
       "\tviewergrid_16788649461089993[0][1].addModel(\"6\\n\\nC      0.643928   -0.031314    0.165108\\nC     -0.643928    0.031314   -0.165108\\nH      1.245566    0.871391    0.192987\\nH      1.100024   -0.985456    0.408442\\nH     -1.100023    0.985455   -0.408447\\nH     -1.245568   -0.871390   -0.192981\\n\",\"xyz\");\n",
       "\tviewergrid_16788649461089993[0][2].addModel(\"4\\n\\nC      0.577369    0.398116   -0.083504\\nC     -0.577369    0.095545    0.083503\\nH      1.591313    0.663797   -0.230147\\nH     -1.591313   -0.170134    0.230148\\n\",\"xyz\");\n",
       "\tviewergrid_16788649461089993[0][0].setViewStyle({\"style\": \"outline\", \"width\": 0.05});\n",
       "\tviewergrid_16788649461089993[0][1].setViewStyle({\"style\": \"outline\", \"width\": 0.05});\n",
       "\tviewergrid_16788649461089993[0][2].setViewStyle({\"style\": \"outline\", \"width\": 0.05});\n",
       "\tviewergrid_16788649461089993[0][0].setStyle({\"stick\": {}, \"sphere\": {\"scale\": 0.25}});\n",
       "\tviewergrid_16788649461089993[0][1].setStyle({\"stick\": {}, \"sphere\": {\"scale\": 0.25}});\n",
       "\tviewergrid_16788649461089993[0][2].setStyle({\"stick\": {}, \"sphere\": {\"scale\": 0.25}});\n",
       "viewergrid_16788649461089993[0][2].render();\n",
       "viewergrid_16788649461089993[0][1].render();\n",
       "viewergrid_16788649461089993[0][0].render();\n",
       "});\n",
       "</script>"
      ]
     },
     "metadata": {},
     "output_type": "display_data"
    }
   ],
   "source": [
    "ethane_xyz = smilestoxyz('C-C') # or 'CC'\n",
    "ethene_xyz = smilestoxyz('C=C')\n",
    "ethyne_xyz = smilestoxyz('C#C')\n",
    "\n",
    "viewer = p3d.view(viewergrid=(1, 3), width=400, height=200, linked=False)\n",
    "viewer.addModel(ethane_xyz, 'xyz', viewer=(0, 0))\n",
    "viewer.addModel(ethene_xyz, 'xyz', viewer=(0, 1))\n",
    "viewer.addModel(ethyne_xyz, 'xyz', viewer=(0, 2))\n",
    "viewer.setViewStyle({\"style\": \"outline\", \"width\": 0.05})\n",
    "viewer.setStyle({\"stick\":{},\"sphere\": {\"scale\":0.25}})\n",
    "viewer.show()"
   ]
  },
  {
   "cell_type": "markdown",
   "id": "7f573fda",
   "metadata": {},
   "source": [
    "## Branching and substitutions\n",
    "\n",
    "Branches are given within paranthesis, as connected to the atom just before the paranthesis. These branches can be nested, for more complex molecules.\n",
    "\n",
    "```{note}\n",
    "Several valid SMILES strings can typically be written for the same molecule.\n",
    "```\n",
    "\n",
    "\n",
    "Hexane and 3-ethylheptane are then written as:"
   ]
  },
  {
   "cell_type": "code",
   "execution_count": 10,
   "id": "b8510007",
   "metadata": {
    "tags": []
   },
   "outputs": [
    {
     "data": {
      "application/3dmoljs_load.v0": "<div id=\"3dmolviewer_16788649504531999\"  style=\"position: relative; width: 500px; height: 200px\">\n        <p id=\"3dmolwarning_16788649504531999\" style=\"background-color:#ffcccc;color:black\">You appear to be running in JupyterLab (or JavaScript failed to load for some other reason).  You need to install the 3dmol extension: <br>\n        <tt>jupyter labextension install jupyterlab_3dmol</tt></p>\n        </div>\n<script>\n\nvar loadScriptAsync = function(uri){\n  return new Promise((resolve, reject) => {\n    //this is to ignore the existence of requirejs amd\n    var savedexports, savedmodule;\n    if (typeof exports !== 'undefined') savedexports = exports;\n    else exports = {}\n    if (typeof module !== 'undefined') savedmodule = module;\n    else module = {}\n\n    var tag = document.createElement('script');\n    tag.src = uri;\n    tag.async = true;\n    tag.onload = () => {\n        exports = savedexports;\n        module = savedmodule;\n        resolve();\n    };\n  var firstScriptTag = document.getElementsByTagName('script')[0];\n  firstScriptTag.parentNode.insertBefore(tag, firstScriptTag);\n});\n};\n\nif(typeof $3Dmolpromise === 'undefined') {\n$3Dmolpromise = null;\n  $3Dmolpromise = loadScriptAsync('https://cdnjs.cloudflare.com/ajax/libs/3Dmol/2.0.1/3Dmol-min.js');\n}\n\nvar viewer_16788649504531999 = null;\nvar warn = document.getElementById(\"3dmolwarning_16788649504531999\");\nif(warn) {\n    warn.parentNode.removeChild(warn);\n}\n$3Dmolpromise.then(function() {\nvar viewergrid_16788649504531999 = null;\nviewergrid_16788649504531999 = $3Dmol.createViewerGrid(document.getElementById(\"3dmolviewer_16788649504531999\"),{rows: 1, cols: 2, control_all: false},{backgroundColor:\"white\"});\nviewer_16788649504531999 = viewergrid_16788649504531999[0][0];\nviewergrid_16788649504531999[0][0].zoomTo();viewergrid_16788649504531999[0][1].zoomTo();\tviewergrid_16788649504531999[0][0].addModel(\"26\\n\\nC      4.195722   -0.033548    0.077887\\nC      2.757644    0.287350    0.475302\\nC      1.791457   -0.797200   -0.024070\\nC      0.351423   -0.581948    0.469126\\nC     -0.351422    0.581950   -0.251048\\nC     -1.791458    0.797199    0.242145\\nC     -2.757642   -0.287350   -0.257232\\nC     -4.195723    0.033548    0.140177\\nH      4.284957   -0.098126   -1.027564\\nH      4.870369    0.769595    0.442402\\nH      4.515711   -0.996978    0.528969\\nH      2.700899    0.362379    1.583051\\nH      2.487019    1.271981    0.039922\\nH      2.138220   -1.784472    0.353260\\nH      1.807930   -0.837898   -1.135463\\nH      0.351459   -0.406772    1.567314\\nH     -0.209442   -1.520722    0.278249\\nH      0.209440    1.520725   -0.060167\\nH     -0.351455    0.406775   -1.349236\\nH     -2.138221    1.784473   -0.135183\\nH     -1.807933    0.837895    1.353539\\nH     -2.487019   -1.271981    0.178149\\nH     -2.700893   -0.362379   -1.364981\\nH     -4.515710    0.996976   -0.310908\\nH     -4.870368   -0.769597   -0.224340\\nH     -4.284963    0.098127    1.245627\\n\",\"xyz\");\n\tviewergrid_16788649504531999[0][1].addModel(\"26\\n\\nC      3.036132   -1.112569   -0.276789\\nC      1.729614   -0.879818    0.477279\\nC      0.768400    0.002027   -0.335925\\nC     -0.488717    0.434611    0.464368\\nC     -1.386508    1.384664   -0.369285\\nC     -0.796234    2.788535   -0.517486\\nC     -1.313673   -0.761058    1.011669\\nC     -1.825472   -1.723539   -0.063701\\nH      3.556483   -0.147701   -0.456453\\nH      2.835932   -1.608789   -1.250364\\nH      3.701556   -1.766587    0.325300\\nH      1.958348   -0.391933    1.449638\\nH      1.265615   -1.868871    0.675420\\nH      1.325370    0.912099   -0.642648\\nH      0.471222   -0.527824   -1.266385\\nH     -0.139048    1.000445    1.357188\\nH     -1.564422    0.960445   -1.381138\\nH     -2.375825    1.494142    0.126607\\nH      0.117391    2.772652   -1.145798\\nH     -0.555250    3.218029    0.477991\\nH     -1.538783    3.449003   -1.013053\\nH     -2.187948   -0.370559    1.576936\\nH     -0.709936   -1.331921    1.748211\\nH     -0.982340   -2.229135   -0.577325\\nH     -2.450619   -1.190335   -0.809018\\nH     -2.451285   -2.506012    0.414762\\n\",\"xyz\");\n\tviewergrid_16788649504531999[0][0].setViewStyle({\"style\": \"outline\", \"width\": 0.05});\n\tviewergrid_16788649504531999[0][1].setViewStyle({\"style\": \"outline\", \"width\": 0.05});\n\tviewergrid_16788649504531999[0][0].setStyle({\"stick\": {}, \"sphere\": {\"scale\": 0.25}});\n\tviewergrid_16788649504531999[0][1].setStyle({\"stick\": {}, \"sphere\": {\"scale\": 0.25}});\nviewergrid_16788649504531999[0][1].render();\nviewergrid_16788649504531999[0][0].render();\n});\n</script>",
      "text/html": [
       "<div id=\"3dmolviewer_16788649504531999\"  style=\"position: relative; width: 500px; height: 200px\">\n",
       "        <p id=\"3dmolwarning_16788649504531999\" style=\"background-color:#ffcccc;color:black\">You appear to be running in JupyterLab (or JavaScript failed to load for some other reason).  You need to install the 3dmol extension: <br>\n",
       "        <tt>jupyter labextension install jupyterlab_3dmol</tt></p>\n",
       "        </div>\n",
       "<script>\n",
       "\n",
       "var loadScriptAsync = function(uri){\n",
       "  return new Promise((resolve, reject) => {\n",
       "    //this is to ignore the existence of requirejs amd\n",
       "    var savedexports, savedmodule;\n",
       "    if (typeof exports !== 'undefined') savedexports = exports;\n",
       "    else exports = {}\n",
       "    if (typeof module !== 'undefined') savedmodule = module;\n",
       "    else module = {}\n",
       "\n",
       "    var tag = document.createElement('script');\n",
       "    tag.src = uri;\n",
       "    tag.async = true;\n",
       "    tag.onload = () => {\n",
       "        exports = savedexports;\n",
       "        module = savedmodule;\n",
       "        resolve();\n",
       "    };\n",
       "  var firstScriptTag = document.getElementsByTagName('script')[0];\n",
       "  firstScriptTag.parentNode.insertBefore(tag, firstScriptTag);\n",
       "});\n",
       "};\n",
       "\n",
       "if(typeof $3Dmolpromise === 'undefined') {\n",
       "$3Dmolpromise = null;\n",
       "  $3Dmolpromise = loadScriptAsync('https://cdnjs.cloudflare.com/ajax/libs/3Dmol/2.0.1/3Dmol-min.js');\n",
       "}\n",
       "\n",
       "var viewer_16788649504531999 = null;\n",
       "var warn = document.getElementById(\"3dmolwarning_16788649504531999\");\n",
       "if(warn) {\n",
       "    warn.parentNode.removeChild(warn);\n",
       "}\n",
       "$3Dmolpromise.then(function() {\n",
       "var viewergrid_16788649504531999 = null;\n",
       "viewergrid_16788649504531999 = $3Dmol.createViewerGrid(document.getElementById(\"3dmolviewer_16788649504531999\"),{rows: 1, cols: 2, control_all: false},{backgroundColor:\"white\"});\n",
       "viewer_16788649504531999 = viewergrid_16788649504531999[0][0];\n",
       "viewergrid_16788649504531999[0][0].zoomTo();viewergrid_16788649504531999[0][1].zoomTo();\tviewergrid_16788649504531999[0][0].addModel(\"26\\n\\nC      4.195722   -0.033548    0.077887\\nC      2.757644    0.287350    0.475302\\nC      1.791457   -0.797200   -0.024070\\nC      0.351423   -0.581948    0.469126\\nC     -0.351422    0.581950   -0.251048\\nC     -1.791458    0.797199    0.242145\\nC     -2.757642   -0.287350   -0.257232\\nC     -4.195723    0.033548    0.140177\\nH      4.284957   -0.098126   -1.027564\\nH      4.870369    0.769595    0.442402\\nH      4.515711   -0.996978    0.528969\\nH      2.700899    0.362379    1.583051\\nH      2.487019    1.271981    0.039922\\nH      2.138220   -1.784472    0.353260\\nH      1.807930   -0.837898   -1.135463\\nH      0.351459   -0.406772    1.567314\\nH     -0.209442   -1.520722    0.278249\\nH      0.209440    1.520725   -0.060167\\nH     -0.351455    0.406775   -1.349236\\nH     -2.138221    1.784473   -0.135183\\nH     -1.807933    0.837895    1.353539\\nH     -2.487019   -1.271981    0.178149\\nH     -2.700893   -0.362379   -1.364981\\nH     -4.515710    0.996976   -0.310908\\nH     -4.870368   -0.769597   -0.224340\\nH     -4.284963    0.098127    1.245627\\n\",\"xyz\");\n",
       "\tviewergrid_16788649504531999[0][1].addModel(\"26\\n\\nC      3.036132   -1.112569   -0.276789\\nC      1.729614   -0.879818    0.477279\\nC      0.768400    0.002027   -0.335925\\nC     -0.488717    0.434611    0.464368\\nC     -1.386508    1.384664   -0.369285\\nC     -0.796234    2.788535   -0.517486\\nC     -1.313673   -0.761058    1.011669\\nC     -1.825472   -1.723539   -0.063701\\nH      3.556483   -0.147701   -0.456453\\nH      2.835932   -1.608789   -1.250364\\nH      3.701556   -1.766587    0.325300\\nH      1.958348   -0.391933    1.449638\\nH      1.265615   -1.868871    0.675420\\nH      1.325370    0.912099   -0.642648\\nH      0.471222   -0.527824   -1.266385\\nH     -0.139048    1.000445    1.357188\\nH     -1.564422    0.960445   -1.381138\\nH     -2.375825    1.494142    0.126607\\nH      0.117391    2.772652   -1.145798\\nH     -0.555250    3.218029    0.477991\\nH     -1.538783    3.449003   -1.013053\\nH     -2.187948   -0.370559    1.576936\\nH     -0.709936   -1.331921    1.748211\\nH     -0.982340   -2.229135   -0.577325\\nH     -2.450619   -1.190335   -0.809018\\nH     -2.451285   -2.506012    0.414762\\n\",\"xyz\");\n",
       "\tviewergrid_16788649504531999[0][0].setViewStyle({\"style\": \"outline\", \"width\": 0.05});\n",
       "\tviewergrid_16788649504531999[0][1].setViewStyle({\"style\": \"outline\", \"width\": 0.05});\n",
       "\tviewergrid_16788649504531999[0][0].setStyle({\"stick\": {}, \"sphere\": {\"scale\": 0.25}});\n",
       "\tviewergrid_16788649504531999[0][1].setStyle({\"stick\": {}, \"sphere\": {\"scale\": 0.25}});\n",
       "viewergrid_16788649504531999[0][1].render();\n",
       "viewergrid_16788649504531999[0][0].render();\n",
       "});\n",
       "</script>"
      ]
     },
     "metadata": {},
     "output_type": "display_data"
    }
   ],
   "source": [
    "hexane_xyz = smilestoxyz('CCCCCCCC')\n",
    "ethylheptane_xyz = smilestoxyz('CCCC(CC)CC')\n",
    "\n",
    "viewer = p3d.view(viewergrid=(1, 2), width=500, height=200, linked=False)\n",
    "viewer.addModel(hexane_xyz, 'xyz', viewer=(0, 0))\n",
    "viewer.addModel(ethylheptane_xyz, 'xyz', viewer=(0, 1))\n",
    "viewer.setViewStyle({\"style\": \"outline\", \"width\": 0.05})\n",
    "viewer.setStyle({\"stick\":{},\"sphere\": {\"scale\":0.25}})\n",
    "viewer.show()"
   ]
  },
  {
   "cell_type": "markdown",
   "id": "7176cee2",
   "metadata": {},
   "source": [
    "Substitutions are done by replacing the relevant atom, or adding it to replace an implicit hydrogen. For example, methanol, 1,1-difluoroethene, and 1,2-difluoroethene can be given as:"
   ]
  },
  {
   "cell_type": "code",
   "execution_count": 11,
   "id": "1513d76d",
   "metadata": {
    "tags": []
   },
   "outputs": [
    {
     "data": {
      "application/3dmoljs_load.v0": "<div id=\"3dmolviewer_16788649621268647\"  style=\"position: relative; width: 400px; height: 200px\">\n        <p id=\"3dmolwarning_16788649621268647\" style=\"background-color:#ffcccc;color:black\">You appear to be running in JupyterLab (or JavaScript failed to load for some other reason).  You need to install the 3dmol extension: <br>\n        <tt>jupyter labextension install jupyterlab_3dmol</tt></p>\n        </div>\n<script>\n\nvar loadScriptAsync = function(uri){\n  return new Promise((resolve, reject) => {\n    //this is to ignore the existence of requirejs amd\n    var savedexports, savedmodule;\n    if (typeof exports !== 'undefined') savedexports = exports;\n    else exports = {}\n    if (typeof module !== 'undefined') savedmodule = module;\n    else module = {}\n\n    var tag = document.createElement('script');\n    tag.src = uri;\n    tag.async = true;\n    tag.onload = () => {\n        exports = savedexports;\n        module = savedmodule;\n        resolve();\n    };\n  var firstScriptTag = document.getElementsByTagName('script')[0];\n  firstScriptTag.parentNode.insertBefore(tag, firstScriptTag);\n});\n};\n\nif(typeof $3Dmolpromise === 'undefined') {\n$3Dmolpromise = null;\n  $3Dmolpromise = loadScriptAsync('https://cdnjs.cloudflare.com/ajax/libs/3Dmol/2.0.1/3Dmol-min.js');\n}\n\nvar viewer_16788649621268647 = null;\nvar warn = document.getElementById(\"3dmolwarning_16788649621268647\");\nif(warn) {\n    warn.parentNode.removeChild(warn);\n}\n$3Dmolpromise.then(function() {\nvar viewergrid_16788649621268647 = null;\nviewergrid_16788649621268647 = $3Dmol.createViewerGrid(document.getElementById(\"3dmolviewer_16788649621268647\"),{rows: 1, cols: 3, control_all: false},{backgroundColor:\"white\"});\nviewer_16788649621268647 = viewergrid_16788649621268647[0][0];\nviewergrid_16788649621268647[0][0].zoomTo();viewergrid_16788649621268647[0][1].zoomTo();viewergrid_16788649621268647[0][2].zoomTo();\tviewergrid_16788649621268647[0][0].addModel(\"6\\n\\nC     -0.356302   -0.026484   -0.028569\\nO      0.958733   -0.471912   -0.195783\\nH     -0.578765    0.115643    1.051311\\nH     -0.509143    0.930824   -0.572658\\nH     -1.052828   -0.785886   -0.439627\\nH      1.538305    0.237815    0.185327\\n\",\"xyz\");\n\tviewergrid_16788649621268647[0][1].addModel(\"6\\n\\nC     -0.708047   -0.055906   -0.021679\\nC      0.618840    0.048863    0.018948\\nF      1.387502   -1.063564    0.148921\\nF      1.210037    1.268662   -0.069388\\nH     -1.183404   -1.028976    0.048648\\nH     -1.324928    0.830922   -0.125449\\n\",\"xyz\");\n\tviewergrid_16788649621268647[0][2].addModel(\"6\\n\\nF      1.608900   -0.778229    0.064942\\nC      0.642589    0.174344    0.001042\\nC     -0.642589   -0.174344   -0.001042\\nF     -1.608900    0.778229   -0.064942\\nH      0.925551    1.220899   -0.048262\\nH     -0.925551   -1.220899    0.048262\\n\",\"xyz\");\n\tviewergrid_16788649621268647[0][0].setViewStyle({\"style\": \"outline\", \"width\": 0.05});\n\tviewergrid_16788649621268647[0][1].setViewStyle({\"style\": \"outline\", \"width\": 0.05});\n\tviewergrid_16788649621268647[0][2].setViewStyle({\"style\": \"outline\", \"width\": 0.05});\n\tviewergrid_16788649621268647[0][0].setStyle({\"stick\": {}, \"sphere\": {\"scale\": 0.25}});\n\tviewergrid_16788649621268647[0][1].setStyle({\"stick\": {}, \"sphere\": {\"scale\": 0.25}});\n\tviewergrid_16788649621268647[0][2].setStyle({\"stick\": {}, \"sphere\": {\"scale\": 0.25}});\nviewergrid_16788649621268647[0][2].render();\nviewergrid_16788649621268647[0][1].render();\nviewergrid_16788649621268647[0][0].render();\n});\n</script>",
      "text/html": [
       "<div id=\"3dmolviewer_16788649621268647\"  style=\"position: relative; width: 400px; height: 200px\">\n",
       "        <p id=\"3dmolwarning_16788649621268647\" style=\"background-color:#ffcccc;color:black\">You appear to be running in JupyterLab (or JavaScript failed to load for some other reason).  You need to install the 3dmol extension: <br>\n",
       "        <tt>jupyter labextension install jupyterlab_3dmol</tt></p>\n",
       "        </div>\n",
       "<script>\n",
       "\n",
       "var loadScriptAsync = function(uri){\n",
       "  return new Promise((resolve, reject) => {\n",
       "    //this is to ignore the existence of requirejs amd\n",
       "    var savedexports, savedmodule;\n",
       "    if (typeof exports !== 'undefined') savedexports = exports;\n",
       "    else exports = {}\n",
       "    if (typeof module !== 'undefined') savedmodule = module;\n",
       "    else module = {}\n",
       "\n",
       "    var tag = document.createElement('script');\n",
       "    tag.src = uri;\n",
       "    tag.async = true;\n",
       "    tag.onload = () => {\n",
       "        exports = savedexports;\n",
       "        module = savedmodule;\n",
       "        resolve();\n",
       "    };\n",
       "  var firstScriptTag = document.getElementsByTagName('script')[0];\n",
       "  firstScriptTag.parentNode.insertBefore(tag, firstScriptTag);\n",
       "});\n",
       "};\n",
       "\n",
       "if(typeof $3Dmolpromise === 'undefined') {\n",
       "$3Dmolpromise = null;\n",
       "  $3Dmolpromise = loadScriptAsync('https://cdnjs.cloudflare.com/ajax/libs/3Dmol/2.0.1/3Dmol-min.js');\n",
       "}\n",
       "\n",
       "var viewer_16788649621268647 = null;\n",
       "var warn = document.getElementById(\"3dmolwarning_16788649621268647\");\n",
       "if(warn) {\n",
       "    warn.parentNode.removeChild(warn);\n",
       "}\n",
       "$3Dmolpromise.then(function() {\n",
       "var viewergrid_16788649621268647 = null;\n",
       "viewergrid_16788649621268647 = $3Dmol.createViewerGrid(document.getElementById(\"3dmolviewer_16788649621268647\"),{rows: 1, cols: 3, control_all: false},{backgroundColor:\"white\"});\n",
       "viewer_16788649621268647 = viewergrid_16788649621268647[0][0];\n",
       "viewergrid_16788649621268647[0][0].zoomTo();viewergrid_16788649621268647[0][1].zoomTo();viewergrid_16788649621268647[0][2].zoomTo();\tviewergrid_16788649621268647[0][0].addModel(\"6\\n\\nC     -0.356302   -0.026484   -0.028569\\nO      0.958733   -0.471912   -0.195783\\nH     -0.578765    0.115643    1.051311\\nH     -0.509143    0.930824   -0.572658\\nH     -1.052828   -0.785886   -0.439627\\nH      1.538305    0.237815    0.185327\\n\",\"xyz\");\n",
       "\tviewergrid_16788649621268647[0][1].addModel(\"6\\n\\nC     -0.708047   -0.055906   -0.021679\\nC      0.618840    0.048863    0.018948\\nF      1.387502   -1.063564    0.148921\\nF      1.210037    1.268662   -0.069388\\nH     -1.183404   -1.028976    0.048648\\nH     -1.324928    0.830922   -0.125449\\n\",\"xyz\");\n",
       "\tviewergrid_16788649621268647[0][2].addModel(\"6\\n\\nF      1.608900   -0.778229    0.064942\\nC      0.642589    0.174344    0.001042\\nC     -0.642589   -0.174344   -0.001042\\nF     -1.608900    0.778229   -0.064942\\nH      0.925551    1.220899   -0.048262\\nH     -0.925551   -1.220899    0.048262\\n\",\"xyz\");\n",
       "\tviewergrid_16788649621268647[0][0].setViewStyle({\"style\": \"outline\", \"width\": 0.05});\n",
       "\tviewergrid_16788649621268647[0][1].setViewStyle({\"style\": \"outline\", \"width\": 0.05});\n",
       "\tviewergrid_16788649621268647[0][2].setViewStyle({\"style\": \"outline\", \"width\": 0.05});\n",
       "\tviewergrid_16788649621268647[0][0].setStyle({\"stick\": {}, \"sphere\": {\"scale\": 0.25}});\n",
       "\tviewergrid_16788649621268647[0][1].setStyle({\"stick\": {}, \"sphere\": {\"scale\": 0.25}});\n",
       "\tviewergrid_16788649621268647[0][2].setStyle({\"stick\": {}, \"sphere\": {\"scale\": 0.25}});\n",
       "viewergrid_16788649621268647[0][2].render();\n",
       "viewergrid_16788649621268647[0][1].render();\n",
       "viewergrid_16788649621268647[0][0].render();\n",
       "});\n",
       "</script>"
      ]
     },
     "metadata": {},
     "output_type": "display_data"
    }
   ],
   "source": [
    "methanol_xyz = smilestoxyz('CO')\n",
    "difluoro11_xyz = smilestoxyz('C=C(F)F')\n",
    "difluoro12_xyz = smilestoxyz('FC=CF')\n",
    "\n",
    "viewer = p3d.view(viewergrid=(1, 3), width=400, height=200, linked=False)\n",
    "viewer.addModel(methanol_xyz, 'xyz', viewer=(0, 0))\n",
    "viewer.addModel(difluoro11_xyz, 'xyz', viewer=(0, 1))\n",
    "viewer.addModel(difluoro12_xyz, 'xyz', viewer=(0, 2))\n",
    "viewer.setViewStyle({\"style\": \"outline\", \"width\": 0.05})\n",
    "viewer.setStyle({\"stick\":{},\"sphere\": {\"scale\":0.25}})\n",
    "viewer.show()"
   ]
  },
  {
   "cell_type": "markdown",
   "id": "d63f5cd9",
   "metadata": {},
   "source": [
    "### UFF optimization\n",
    "\n",
    "Following the construction of a conformer in RDkit, it is generally advised to perform a short UFF (universal force field) optimization to obtain a structure close to a local minima.\n",
    "\n",
    "As an example, for ethanol the initial conformer will have the OH-group with any rotation to CH$_3$, and following a UFF optimization it takes on the staggered conformation:"
   ]
  },
  {
   "cell_type": "code",
   "execution_count": 12,
   "id": "d7828af2",
   "metadata": {
    "tags": []
   },
   "outputs": [
    {
     "data": {
      "application/3dmoljs_load.v0": "<div id=\"3dmolviewer_16788649691479926\"  style=\"position: relative; width: 400px; height: 200px\">\n        <p id=\"3dmolwarning_16788649691479926\" style=\"background-color:#ffcccc;color:black\">You appear to be running in JupyterLab (or JavaScript failed to load for some other reason).  You need to install the 3dmol extension: <br>\n        <tt>jupyter labextension install jupyterlab_3dmol</tt></p>\n        </div>\n<script>\n\nvar loadScriptAsync = function(uri){\n  return new Promise((resolve, reject) => {\n    //this is to ignore the existence of requirejs amd\n    var savedexports, savedmodule;\n    if (typeof exports !== 'undefined') savedexports = exports;\n    else exports = {}\n    if (typeof module !== 'undefined') savedmodule = module;\n    else module = {}\n\n    var tag = document.createElement('script');\n    tag.src = uri;\n    tag.async = true;\n    tag.onload = () => {\n        exports = savedexports;\n        module = savedmodule;\n        resolve();\n    };\n  var firstScriptTag = document.getElementsByTagName('script')[0];\n  firstScriptTag.parentNode.insertBefore(tag, firstScriptTag);\n});\n};\n\nif(typeof $3Dmolpromise === 'undefined') {\n$3Dmolpromise = null;\n  $3Dmolpromise = loadScriptAsync('https://cdnjs.cloudflare.com/ajax/libs/3Dmol/2.0.1/3Dmol-min.js');\n}\n\nvar viewer_16788649691479926 = null;\nvar warn = document.getElementById(\"3dmolwarning_16788649691479926\");\nif(warn) {\n    warn.parentNode.removeChild(warn);\n}\n$3Dmolpromise.then(function() {\nvar viewergrid_16788649691479926 = null;\nviewergrid_16788649691479926 = $3Dmol.createViewerGrid(document.getElementById(\"3dmolviewer_16788649691479926\"),{rows: 1, cols: 2, control_all: false},{backgroundColor:\"white\"});\nviewer_16788649691479926 = viewergrid_16788649691479926[0][0];\nviewergrid_16788649691479926[0][0].zoomTo();viewergrid_16788649691479926[0][1].zoomTo();\tviewergrid_16788649691479926[0][0].addModel(\"6\\n\\nC     -0.361394   -0.031782    0.004260\\nO      0.964793   -0.370511   -0.238039\\nH     -0.546279    1.034020   -0.199821\\nH     -0.970838   -0.641037   -0.712589\\nH     -0.700263   -0.250907    1.017800\\nH      1.613981    0.260218    0.128389\\n\",\"xyz\");\n\tviewergrid_16788649691479926[0][1].addModel(\"6\\n\\nC     -0.355185    0.025603    0.040703\\nO      0.936571   -0.335942    0.436093\\nH     -1.074484   -0.272250    0.831085\\nH     -0.418156    1.126018   -0.104044\\nH     -0.626584   -0.493596   -0.904075\\nH      1.537838   -0.049833   -0.299762\\n\",\"xyz\");\n\tviewergrid_16788649691479926[0][0].setViewStyle({\"style\": \"outline\", \"width\": 0.05});\n\tviewergrid_16788649691479926[0][1].setViewStyle({\"style\": \"outline\", \"width\": 0.05});\n\tviewergrid_16788649691479926[0][0].setStyle({\"stick\": {}, \"sphere\": {\"scale\": 0.25}});\n\tviewergrid_16788649691479926[0][1].setStyle({\"stick\": {}, \"sphere\": {\"scale\": 0.25}});\nviewergrid_16788649691479926[0][1].render();\nviewergrid_16788649691479926[0][0].render();\n});\n</script>",
      "text/html": [
       "<div id=\"3dmolviewer_16788649691479926\"  style=\"position: relative; width: 400px; height: 200px\">\n",
       "        <p id=\"3dmolwarning_16788649691479926\" style=\"background-color:#ffcccc;color:black\">You appear to be running in JupyterLab (or JavaScript failed to load for some other reason).  You need to install the 3dmol extension: <br>\n",
       "        <tt>jupyter labextension install jupyterlab_3dmol</tt></p>\n",
       "        </div>\n",
       "<script>\n",
       "\n",
       "var loadScriptAsync = function(uri){\n",
       "  return new Promise((resolve, reject) => {\n",
       "    //this is to ignore the existence of requirejs amd\n",
       "    var savedexports, savedmodule;\n",
       "    if (typeof exports !== 'undefined') savedexports = exports;\n",
       "    else exports = {}\n",
       "    if (typeof module !== 'undefined') savedmodule = module;\n",
       "    else module = {}\n",
       "\n",
       "    var tag = document.createElement('script');\n",
       "    tag.src = uri;\n",
       "    tag.async = true;\n",
       "    tag.onload = () => {\n",
       "        exports = savedexports;\n",
       "        module = savedmodule;\n",
       "        resolve();\n",
       "    };\n",
       "  var firstScriptTag = document.getElementsByTagName('script')[0];\n",
       "  firstScriptTag.parentNode.insertBefore(tag, firstScriptTag);\n",
       "});\n",
       "};\n",
       "\n",
       "if(typeof $3Dmolpromise === 'undefined') {\n",
       "$3Dmolpromise = null;\n",
       "  $3Dmolpromise = loadScriptAsync('https://cdnjs.cloudflare.com/ajax/libs/3Dmol/2.0.1/3Dmol-min.js');\n",
       "}\n",
       "\n",
       "var viewer_16788649691479926 = null;\n",
       "var warn = document.getElementById(\"3dmolwarning_16788649691479926\");\n",
       "if(warn) {\n",
       "    warn.parentNode.removeChild(warn);\n",
       "}\n",
       "$3Dmolpromise.then(function() {\n",
       "var viewergrid_16788649691479926 = null;\n",
       "viewergrid_16788649691479926 = $3Dmol.createViewerGrid(document.getElementById(\"3dmolviewer_16788649691479926\"),{rows: 1, cols: 2, control_all: false},{backgroundColor:\"white\"});\n",
       "viewer_16788649691479926 = viewergrid_16788649691479926[0][0];\n",
       "viewergrid_16788649691479926[0][0].zoomTo();viewergrid_16788649691479926[0][1].zoomTo();\tviewergrid_16788649691479926[0][0].addModel(\"6\\n\\nC     -0.361394   -0.031782    0.004260\\nO      0.964793   -0.370511   -0.238039\\nH     -0.546279    1.034020   -0.199821\\nH     -0.970838   -0.641037   -0.712589\\nH     -0.700263   -0.250907    1.017800\\nH      1.613981    0.260218    0.128389\\n\",\"xyz\");\n",
       "\tviewergrid_16788649691479926[0][1].addModel(\"6\\n\\nC     -0.355185    0.025603    0.040703\\nO      0.936571   -0.335942    0.436093\\nH     -1.074484   -0.272250    0.831085\\nH     -0.418156    1.126018   -0.104044\\nH     -0.626584   -0.493596   -0.904075\\nH      1.537838   -0.049833   -0.299762\\n\",\"xyz\");\n",
       "\tviewergrid_16788649691479926[0][0].setViewStyle({\"style\": \"outline\", \"width\": 0.05});\n",
       "\tviewergrid_16788649691479926[0][1].setViewStyle({\"style\": \"outline\", \"width\": 0.05});\n",
       "\tviewergrid_16788649691479926[0][0].setStyle({\"stick\": {}, \"sphere\": {\"scale\": 0.25}});\n",
       "\tviewergrid_16788649691479926[0][1].setStyle({\"stick\": {}, \"sphere\": {\"scale\": 0.25}});\n",
       "viewergrid_16788649691479926[0][1].render();\n",
       "viewergrid_16788649691479926[0][0].render();\n",
       "});\n",
       "</script>"
      ]
     },
     "metadata": {},
     "output_type": "display_data"
    }
   ],
   "source": [
    "ethanol_initial_xyz = smilestoxyz('CO', opt=False)\n",
    "ethanol_xyz = smilestoxyz('CO')\n",
    "\n",
    "viewer = p3d.view(viewergrid=(1, 2), width=400, height=200, linked=False)\n",
    "viewer.addModel(ethanol_initial_xyz, 'xyz', viewer=(0, 0))\n",
    "viewer.addModel(ethanol_xyz, 'xyz', viewer=(0, 1))\n",
    "viewer.setViewStyle({\"style\": \"outline\", \"width\": 0.05})\n",
    "viewer.setStyle({\"stick\":{},\"sphere\": {\"scale\":0.25}})\n",
    "viewer.show()"
   ]
  },
  {
   "cell_type": "markdown",
   "id": "349eccfa",
   "metadata": {},
   "source": [
    "## Ring systems\n",
    "\n",
    "Ring systems are constructed by labeling part(s) of the ring and then closing the ring by having the SMILES string go back to the labeled atom(s). This can be performed several time, so that, *e.g.* cyclohexane and norbornane are written as:"
   ]
  },
  {
   "cell_type": "code",
   "execution_count": 13,
   "id": "8ed2c3e1",
   "metadata": {
    "tags": []
   },
   "outputs": [
    {
     "data": {
      "application/3dmoljs_load.v0": "<div id=\"3dmolviewer_167886497330981\"  style=\"position: relative; width: 400px; height: 200px\">\n        <p id=\"3dmolwarning_167886497330981\" style=\"background-color:#ffcccc;color:black\">You appear to be running in JupyterLab (or JavaScript failed to load for some other reason).  You need to install the 3dmol extension: <br>\n        <tt>jupyter labextension install jupyterlab_3dmol</tt></p>\n        </div>\n<script>\n\nvar loadScriptAsync = function(uri){\n  return new Promise((resolve, reject) => {\n    //this is to ignore the existence of requirejs amd\n    var savedexports, savedmodule;\n    if (typeof exports !== 'undefined') savedexports = exports;\n    else exports = {}\n    if (typeof module !== 'undefined') savedmodule = module;\n    else module = {}\n\n    var tag = document.createElement('script');\n    tag.src = uri;\n    tag.async = true;\n    tag.onload = () => {\n        exports = savedexports;\n        module = savedmodule;\n        resolve();\n    };\n  var firstScriptTag = document.getElementsByTagName('script')[0];\n  firstScriptTag.parentNode.insertBefore(tag, firstScriptTag);\n});\n};\n\nif(typeof $3Dmolpromise === 'undefined') {\n$3Dmolpromise = null;\n  $3Dmolpromise = loadScriptAsync('https://cdnjs.cloudflare.com/ajax/libs/3Dmol/2.0.1/3Dmol-min.js');\n}\n\nvar viewer_167886497330981 = null;\nvar warn = document.getElementById(\"3dmolwarning_167886497330981\");\nif(warn) {\n    warn.parentNode.removeChild(warn);\n}\n$3Dmolpromise.then(function() {\nvar viewergrid_167886497330981 = null;\nviewergrid_167886497330981 = $3Dmol.createViewerGrid(document.getElementById(\"3dmolviewer_167886497330981\"),{rows: 1, cols: 2, control_all: false},{backgroundColor:\"white\"});\nviewer_167886497330981 = viewergrid_167886497330981[0][0];\nviewergrid_167886497330981[0][0].zoomTo();viewergrid_167886497330981[0][1].zoomTo();\tviewergrid_167886497330981[0][0].addModel(\"18\\n\\nC     -0.031665   -1.331884    0.641945\\nC     -1.301636   -0.699520    0.058546\\nC     -1.219254    0.831877    0.091716\\nC      0.031665    1.331884   -0.641944\\nC      1.301636    0.699519   -0.058546\\nC      1.219253   -0.831877   -0.091717\\nH     -0.095349   -2.437235    0.547239\\nH      0.045804   -1.084450    1.723623\\nH     -1.442393   -1.043383   -0.989881\\nH     -2.181997   -1.032502    0.649235\\nH     -1.198162    1.182021    1.147277\\nH     -2.123804    1.258577   -0.392580\\nH      0.095346    2.437235   -0.547237\\nH     -0.045802    1.084452   -1.723623\\nH      2.181998    1.032500   -0.649234\\nH      1.442393    1.043383    0.989881\\nH      1.198160   -1.182022   -1.147277\\nH      2.123805   -1.258575    0.392578\\n\",\"xyz\");\n\tviewergrid_167886497330981[0][1].addModel(\"19\\n\\nC      1.143876    1.020273    0.076561\\nC     -0.173105    0.962249   -0.718328\\nC     -1.329011    0.699059    0.263646\\nC     -1.108062   -0.769880    0.662104\\nC      0.145456   -1.155636   -0.143843\\nC     -0.053008   -0.370690   -1.419469\\nC      1.364826   -0.448667    0.475015\\nH      1.067470    1.682829    0.966340\\nH      1.971783    1.376543   -0.575378\\nH     -0.336812    1.829802   -1.392682\\nH     -2.307304    0.820731   -0.251631\\nH     -1.292671    1.376259    1.144892\\nH     -0.952988   -0.882110    1.757492\\nH     -1.974220   -1.393682    0.349029\\nH      0.276782   -2.249578   -0.286133\\nH     -0.978892   -0.659136   -1.969426\\nH      0.823857   -0.424971   -2.105823\\nH      2.304859   -0.837844    0.025279\\nH      1.407162   -0.575553    1.578928\\n\",\"xyz\");\n\tviewergrid_167886497330981[0][0].setViewStyle({\"style\": \"outline\", \"width\": 0.05});\n\tviewergrid_167886497330981[0][1].setViewStyle({\"style\": \"outline\", \"width\": 0.05});\n\tviewergrid_167886497330981[0][0].setStyle({\"stick\": {}, \"sphere\": {\"scale\": 0.25}});\n\tviewergrid_167886497330981[0][1].setStyle({\"stick\": {}, \"sphere\": {\"scale\": 0.25}});\nviewergrid_167886497330981[0][1].render();\nviewergrid_167886497330981[0][0].render();\n});\n</script>",
      "text/html": [
       "<div id=\"3dmolviewer_167886497330981\"  style=\"position: relative; width: 400px; height: 200px\">\n",
       "        <p id=\"3dmolwarning_167886497330981\" style=\"background-color:#ffcccc;color:black\">You appear to be running in JupyterLab (or JavaScript failed to load for some other reason).  You need to install the 3dmol extension: <br>\n",
       "        <tt>jupyter labextension install jupyterlab_3dmol</tt></p>\n",
       "        </div>\n",
       "<script>\n",
       "\n",
       "var loadScriptAsync = function(uri){\n",
       "  return new Promise((resolve, reject) => {\n",
       "    //this is to ignore the existence of requirejs amd\n",
       "    var savedexports, savedmodule;\n",
       "    if (typeof exports !== 'undefined') savedexports = exports;\n",
       "    else exports = {}\n",
       "    if (typeof module !== 'undefined') savedmodule = module;\n",
       "    else module = {}\n",
       "\n",
       "    var tag = document.createElement('script');\n",
       "    tag.src = uri;\n",
       "    tag.async = true;\n",
       "    tag.onload = () => {\n",
       "        exports = savedexports;\n",
       "        module = savedmodule;\n",
       "        resolve();\n",
       "    };\n",
       "  var firstScriptTag = document.getElementsByTagName('script')[0];\n",
       "  firstScriptTag.parentNode.insertBefore(tag, firstScriptTag);\n",
       "});\n",
       "};\n",
       "\n",
       "if(typeof $3Dmolpromise === 'undefined') {\n",
       "$3Dmolpromise = null;\n",
       "  $3Dmolpromise = loadScriptAsync('https://cdnjs.cloudflare.com/ajax/libs/3Dmol/2.0.1/3Dmol-min.js');\n",
       "}\n",
       "\n",
       "var viewer_167886497330981 = null;\n",
       "var warn = document.getElementById(\"3dmolwarning_167886497330981\");\n",
       "if(warn) {\n",
       "    warn.parentNode.removeChild(warn);\n",
       "}\n",
       "$3Dmolpromise.then(function() {\n",
       "var viewergrid_167886497330981 = null;\n",
       "viewergrid_167886497330981 = $3Dmol.createViewerGrid(document.getElementById(\"3dmolviewer_167886497330981\"),{rows: 1, cols: 2, control_all: false},{backgroundColor:\"white\"});\n",
       "viewer_167886497330981 = viewergrid_167886497330981[0][0];\n",
       "viewergrid_167886497330981[0][0].zoomTo();viewergrid_167886497330981[0][1].zoomTo();\tviewergrid_167886497330981[0][0].addModel(\"18\\n\\nC     -0.031665   -1.331884    0.641945\\nC     -1.301636   -0.699520    0.058546\\nC     -1.219254    0.831877    0.091716\\nC      0.031665    1.331884   -0.641944\\nC      1.301636    0.699519   -0.058546\\nC      1.219253   -0.831877   -0.091717\\nH     -0.095349   -2.437235    0.547239\\nH      0.045804   -1.084450    1.723623\\nH     -1.442393   -1.043383   -0.989881\\nH     -2.181997   -1.032502    0.649235\\nH     -1.198162    1.182021    1.147277\\nH     -2.123804    1.258577   -0.392580\\nH      0.095346    2.437235   -0.547237\\nH     -0.045802    1.084452   -1.723623\\nH      2.181998    1.032500   -0.649234\\nH      1.442393    1.043383    0.989881\\nH      1.198160   -1.182022   -1.147277\\nH      2.123805   -1.258575    0.392578\\n\",\"xyz\");\n",
       "\tviewergrid_167886497330981[0][1].addModel(\"19\\n\\nC      1.143876    1.020273    0.076561\\nC     -0.173105    0.962249   -0.718328\\nC     -1.329011    0.699059    0.263646\\nC     -1.108062   -0.769880    0.662104\\nC      0.145456   -1.155636   -0.143843\\nC     -0.053008   -0.370690   -1.419469\\nC      1.364826   -0.448667    0.475015\\nH      1.067470    1.682829    0.966340\\nH      1.971783    1.376543   -0.575378\\nH     -0.336812    1.829802   -1.392682\\nH     -2.307304    0.820731   -0.251631\\nH     -1.292671    1.376259    1.144892\\nH     -0.952988   -0.882110    1.757492\\nH     -1.974220   -1.393682    0.349029\\nH      0.276782   -2.249578   -0.286133\\nH     -0.978892   -0.659136   -1.969426\\nH      0.823857   -0.424971   -2.105823\\nH      2.304859   -0.837844    0.025279\\nH      1.407162   -0.575553    1.578928\\n\",\"xyz\");\n",
       "\tviewergrid_167886497330981[0][0].setViewStyle({\"style\": \"outline\", \"width\": 0.05});\n",
       "\tviewergrid_167886497330981[0][1].setViewStyle({\"style\": \"outline\", \"width\": 0.05});\n",
       "\tviewergrid_167886497330981[0][0].setStyle({\"stick\": {}, \"sphere\": {\"scale\": 0.25}});\n",
       "\tviewergrid_167886497330981[0][1].setStyle({\"stick\": {}, \"sphere\": {\"scale\": 0.25}});\n",
       "viewergrid_167886497330981[0][1].render();\n",
       "viewergrid_167886497330981[0][0].render();\n",
       "});\n",
       "</script>"
      ]
     },
     "metadata": {},
     "output_type": "display_data"
    }
   ],
   "source": [
    "cyclohexane_xyz = smilestoxyz('C1CCCCC1')\n",
    "norborane_xyz = smilestoxyz('C1C2CCC(C2)C1')\n",
    "\n",
    "viewer = p3d.view(viewergrid=(1, 2), width=400, height=200, linked=False)\n",
    "viewer.addModel(cyclohexane_xyz, 'xyz', viewer=(0, 0))\n",
    "viewer.addModel(norborane_xyz, 'xyz', viewer=(0, 1))\n",
    "viewer.setViewStyle({\"style\": \"outline\", \"width\": 0.05})\n",
    "viewer.setStyle({\"stick\":{},\"sphere\": {\"scale\":0.25}})\n",
    "viewer.show()"
   ]
  },
  {
   "cell_type": "markdown",
   "id": "1a1a1f74",
   "metadata": {},
   "source": [
    "Aromatic rings can be written by using the aromatic bond symbole (`:`) or using lower-case for for the contributing atoms. For example, p-cymene can be written as both:"
   ]
  },
  {
   "cell_type": "code",
   "execution_count": 14,
   "id": "3878a714",
   "metadata": {
    "tags": []
   },
   "outputs": [
    {
     "data": {
      "application/3dmoljs_load.v0": "<div id=\"3dmolviewer_16788649783148427\"  style=\"position: relative; width: 500px; height: 200px\">\n        <p id=\"3dmolwarning_16788649783148427\" style=\"background-color:#ffcccc;color:black\">You appear to be running in JupyterLab (or JavaScript failed to load for some other reason).  You need to install the 3dmol extension: <br>\n        <tt>jupyter labextension install jupyterlab_3dmol</tt></p>\n        </div>\n<script>\n\nvar loadScriptAsync = function(uri){\n  return new Promise((resolve, reject) => {\n    //this is to ignore the existence of requirejs amd\n    var savedexports, savedmodule;\n    if (typeof exports !== 'undefined') savedexports = exports;\n    else exports = {}\n    if (typeof module !== 'undefined') savedmodule = module;\n    else module = {}\n\n    var tag = document.createElement('script');\n    tag.src = uri;\n    tag.async = true;\n    tag.onload = () => {\n        exports = savedexports;\n        module = savedmodule;\n        resolve();\n    };\n  var firstScriptTag = document.getElementsByTagName('script')[0];\n  firstScriptTag.parentNode.insertBefore(tag, firstScriptTag);\n});\n};\n\nif(typeof $3Dmolpromise === 'undefined') {\n$3Dmolpromise = null;\n  $3Dmolpromise = loadScriptAsync('https://cdnjs.cloudflare.com/ajax/libs/3Dmol/2.0.1/3Dmol-min.js');\n}\n\nvar viewer_16788649783148427 = null;\nvar warn = document.getElementById(\"3dmolwarning_16788649783148427\");\nif(warn) {\n    warn.parentNode.removeChild(warn);\n}\n$3Dmolpromise.then(function() {\nvar viewergrid_16788649783148427 = null;\nviewergrid_16788649783148427 = $3Dmol.createViewerGrid(document.getElementById(\"3dmolviewer_16788649783148427\"),{rows: 1, cols: 2, control_all: false},{backgroundColor:\"white\"});\nviewer_16788649783148427 = viewergrid_16788649783148427[0][0];\nviewergrid_16788649783148427[0][0].zoomTo();viewergrid_16788649783148427[0][1].zoomTo();\tviewergrid_16788649783148427[0][0].addModel(\"22\\n\\nC      2.764246   -0.765168    1.161092\\nC      2.129305   -0.271218    0.091223\\nC      2.940542    0.220936   -1.076897\\nC      0.649180   -0.116332    0.088477\\nC     -0.181134   -1.097151    0.663639\\nC     -1.571007   -0.948201    0.650543\\nC     -2.156263    0.186889    0.072465\\nC     -3.648973    0.326429    0.024050\\nC     -1.336299    1.155606   -0.522872\\nC      0.053744    1.008084   -0.511661\\nH      2.223908   -1.073711    2.046784\\nH      3.844184   -0.846489    1.178270\\nH      3.854012   -0.396757   -1.215489\\nH      2.347536    0.158803   -2.013853\\nH      3.239405    1.276095   -0.904341\\nH      0.242200   -1.990932    1.104185\\nH     -2.190864   -1.720992    1.088417\\nH     -3.942853    1.397701    0.033113\\nH     -4.117179   -0.165073    0.903416\\nH     -4.034017   -0.146975   -0.903139\\nH     -1.772725    2.027689   -0.994207\\nH      0.663053    1.780765   -0.963213\\n\",\"xyz\");\n\tviewergrid_16788649783148427[0][1].addModel(\"22\\n\\nC      2.764246   -0.765168    1.161092\\nC      2.129305   -0.271218    0.091223\\nC      2.940542    0.220936   -1.076897\\nC      0.649180   -0.116332    0.088477\\nC     -0.181134   -1.097151    0.663639\\nC     -1.571007   -0.948201    0.650543\\nC     -2.156263    0.186889    0.072465\\nC     -3.648973    0.326429    0.024050\\nC     -1.336299    1.155606   -0.522872\\nC      0.053744    1.008084   -0.511661\\nH      2.223908   -1.073711    2.046784\\nH      3.844184   -0.846489    1.178270\\nH      3.854012   -0.396757   -1.215489\\nH      2.347536    0.158803   -2.013853\\nH      3.239405    1.276095   -0.904341\\nH      0.242200   -1.990932    1.104185\\nH     -2.190864   -1.720992    1.088417\\nH     -3.942853    1.397701    0.033113\\nH     -4.117179   -0.165073    0.903416\\nH     -4.034017   -0.146975   -0.903139\\nH     -1.772725    2.027689   -0.994207\\nH      0.663053    1.780765   -0.963213\\n\",\"xyz\");\n\tviewergrid_16788649783148427[0][0].setViewStyle({\"style\": \"outline\", \"width\": 0.05});\n\tviewergrid_16788649783148427[0][1].setViewStyle({\"style\": \"outline\", \"width\": 0.05});\n\tviewergrid_16788649783148427[0][0].setStyle({\"stick\": {}, \"sphere\": {\"scale\": 0.25}});\n\tviewergrid_16788649783148427[0][1].setStyle({\"stick\": {}, \"sphere\": {\"scale\": 0.25}});\nviewergrid_16788649783148427[0][1].render();\nviewergrid_16788649783148427[0][0].render();\n});\n</script>",
      "text/html": [
       "<div id=\"3dmolviewer_16788649783148427\"  style=\"position: relative; width: 500px; height: 200px\">\n",
       "        <p id=\"3dmolwarning_16788649783148427\" style=\"background-color:#ffcccc;color:black\">You appear to be running in JupyterLab (or JavaScript failed to load for some other reason).  You need to install the 3dmol extension: <br>\n",
       "        <tt>jupyter labextension install jupyterlab_3dmol</tt></p>\n",
       "        </div>\n",
       "<script>\n",
       "\n",
       "var loadScriptAsync = function(uri){\n",
       "  return new Promise((resolve, reject) => {\n",
       "    //this is to ignore the existence of requirejs amd\n",
       "    var savedexports, savedmodule;\n",
       "    if (typeof exports !== 'undefined') savedexports = exports;\n",
       "    else exports = {}\n",
       "    if (typeof module !== 'undefined') savedmodule = module;\n",
       "    else module = {}\n",
       "\n",
       "    var tag = document.createElement('script');\n",
       "    tag.src = uri;\n",
       "    tag.async = true;\n",
       "    tag.onload = () => {\n",
       "        exports = savedexports;\n",
       "        module = savedmodule;\n",
       "        resolve();\n",
       "    };\n",
       "  var firstScriptTag = document.getElementsByTagName('script')[0];\n",
       "  firstScriptTag.parentNode.insertBefore(tag, firstScriptTag);\n",
       "});\n",
       "};\n",
       "\n",
       "if(typeof $3Dmolpromise === 'undefined') {\n",
       "$3Dmolpromise = null;\n",
       "  $3Dmolpromise = loadScriptAsync('https://cdnjs.cloudflare.com/ajax/libs/3Dmol/2.0.1/3Dmol-min.js');\n",
       "}\n",
       "\n",
       "var viewer_16788649783148427 = null;\n",
       "var warn = document.getElementById(\"3dmolwarning_16788649783148427\");\n",
       "if(warn) {\n",
       "    warn.parentNode.removeChild(warn);\n",
       "}\n",
       "$3Dmolpromise.then(function() {\n",
       "var viewergrid_16788649783148427 = null;\n",
       "viewergrid_16788649783148427 = $3Dmol.createViewerGrid(document.getElementById(\"3dmolviewer_16788649783148427\"),{rows: 1, cols: 2, control_all: false},{backgroundColor:\"white\"});\n",
       "viewer_16788649783148427 = viewergrid_16788649783148427[0][0];\n",
       "viewergrid_16788649783148427[0][0].zoomTo();viewergrid_16788649783148427[0][1].zoomTo();\tviewergrid_16788649783148427[0][0].addModel(\"22\\n\\nC      2.764246   -0.765168    1.161092\\nC      2.129305   -0.271218    0.091223\\nC      2.940542    0.220936   -1.076897\\nC      0.649180   -0.116332    0.088477\\nC     -0.181134   -1.097151    0.663639\\nC     -1.571007   -0.948201    0.650543\\nC     -2.156263    0.186889    0.072465\\nC     -3.648973    0.326429    0.024050\\nC     -1.336299    1.155606   -0.522872\\nC      0.053744    1.008084   -0.511661\\nH      2.223908   -1.073711    2.046784\\nH      3.844184   -0.846489    1.178270\\nH      3.854012   -0.396757   -1.215489\\nH      2.347536    0.158803   -2.013853\\nH      3.239405    1.276095   -0.904341\\nH      0.242200   -1.990932    1.104185\\nH     -2.190864   -1.720992    1.088417\\nH     -3.942853    1.397701    0.033113\\nH     -4.117179   -0.165073    0.903416\\nH     -4.034017   -0.146975   -0.903139\\nH     -1.772725    2.027689   -0.994207\\nH      0.663053    1.780765   -0.963213\\n\",\"xyz\");\n",
       "\tviewergrid_16788649783148427[0][1].addModel(\"22\\n\\nC      2.764246   -0.765168    1.161092\\nC      2.129305   -0.271218    0.091223\\nC      2.940542    0.220936   -1.076897\\nC      0.649180   -0.116332    0.088477\\nC     -0.181134   -1.097151    0.663639\\nC     -1.571007   -0.948201    0.650543\\nC     -2.156263    0.186889    0.072465\\nC     -3.648973    0.326429    0.024050\\nC     -1.336299    1.155606   -0.522872\\nC      0.053744    1.008084   -0.511661\\nH      2.223908   -1.073711    2.046784\\nH      3.844184   -0.846489    1.178270\\nH      3.854012   -0.396757   -1.215489\\nH      2.347536    0.158803   -2.013853\\nH      3.239405    1.276095   -0.904341\\nH      0.242200   -1.990932    1.104185\\nH     -2.190864   -1.720992    1.088417\\nH     -3.942853    1.397701    0.033113\\nH     -4.117179   -0.165073    0.903416\\nH     -4.034017   -0.146975   -0.903139\\nH     -1.772725    2.027689   -0.994207\\nH      0.663053    1.780765   -0.963213\\n\",\"xyz\");\n",
       "\tviewergrid_16788649783148427[0][0].setViewStyle({\"style\": \"outline\", \"width\": 0.05});\n",
       "\tviewergrid_16788649783148427[0][1].setViewStyle({\"style\": \"outline\", \"width\": 0.05});\n",
       "\tviewergrid_16788649783148427[0][0].setStyle({\"stick\": {}, \"sphere\": {\"scale\": 0.25}});\n",
       "\tviewergrid_16788649783148427[0][1].setStyle({\"stick\": {}, \"sphere\": {\"scale\": 0.25}});\n",
       "viewergrid_16788649783148427[0][1].render();\n",
       "viewergrid_16788649783148427[0][0].render();\n",
       "});\n",
       "</script>"
      ]
     },
     "metadata": {},
     "output_type": "display_data"
    }
   ],
   "source": [
    "pcymene1_xyz = smilestoxyz('C=C(C)C1:C:C:C(C):C:C1')\n",
    "pcymene2_xyz = smilestoxyz('C=C(C)c1ccc(C)cc1')\n",
    "\n",
    "viewer = p3d.view(viewergrid=(1, 2), width=500, height=200, linked=False)\n",
    "viewer.addModel(pcymene1_xyz, 'xyz', viewer=(0, 0))\n",
    "viewer.addModel(pcymene1_xyz, 'xyz', viewer=(0, 1))\n",
    "viewer.setViewStyle({\"style\": \"outline\", \"width\": 0.05})\n",
    "viewer.setStyle({\"stick\":{},\"sphere\": {\"scale\":0.25}})\n",
    "viewer.show()"
   ]
  },
  {
   "cell_type": "markdown",
   "id": "b152e821",
   "metadata": {},
   "source": [
    "## More complex systems\n",
    "\n",
    "For more complex molecules, the easiest option is to check if wikipedia, [ChemSpider](http://www.chemspider.com/), or any other digital resources provide the SMILES string. This will work for many common molecules, and for the rest you can either consult more detailed guides on using SMILES and go from there, or use a graphical interface.\n",
    "\n",
    "```{note}\n",
    "No matter which option is chosen, we stress that you should always check that the structure you obtain is reasonably close to what is sought. For some systems you may need to sample many different conformers, and for PDB-files you might have to add hydrogens.\n",
    "```\n",
    "\n",
    "As an example, the structures NADH (left) and NAD$^+$ (right) are illustrated below, using the SMILES string from [wikipedia](https://en.wikipedia.org/wiki/Nicotinamide_adenine_dinucleotide). Nicotinamide adenine dinucleotide partake in metabolism through the redox reaction:\n",
    "\n",
    "$$\n",
    "\\mathrm{NADH} \\Longleftrightarrow \\mathrm{NAD}^+ +  \\mathrm{H}^+ + 2\\mathrm{e}^- \n",
    "$$\n",
    "\n",
    "The resulting conformers need to be corrected, but we see that the general structure and the location of the hydrogen at the nicotinamide ring is correct."
   ]
  },
  {
   "cell_type": "code",
   "execution_count": 16,
   "id": "3e331e6a",
   "metadata": {
    "tags": []
   },
   "outputs": [
    {
     "data": {
      "application/3dmoljs_load.v0": "<div id=\"3dmolviewer_16788649932553794\"  style=\"position: relative; width: 600px; height: 200px\">\n        <p id=\"3dmolwarning_16788649932553794\" style=\"background-color:#ffcccc;color:black\">You appear to be running in JupyterLab (or JavaScript failed to load for some other reason).  You need to install the 3dmol extension: <br>\n        <tt>jupyter labextension install jupyterlab_3dmol</tt></p>\n        </div>\n<script>\n\nvar loadScriptAsync = function(uri){\n  return new Promise((resolve, reject) => {\n    //this is to ignore the existence of requirejs amd\n    var savedexports, savedmodule;\n    if (typeof exports !== 'undefined') savedexports = exports;\n    else exports = {}\n    if (typeof module !== 'undefined') savedmodule = module;\n    else module = {}\n\n    var tag = document.createElement('script');\n    tag.src = uri;\n    tag.async = true;\n    tag.onload = () => {\n        exports = savedexports;\n        module = savedmodule;\n        resolve();\n    };\n  var firstScriptTag = document.getElementsByTagName('script')[0];\n  firstScriptTag.parentNode.insertBefore(tag, firstScriptTag);\n});\n};\n\nif(typeof $3Dmolpromise === 'undefined') {\n$3Dmolpromise = null;\n  $3Dmolpromise = loadScriptAsync('https://cdnjs.cloudflare.com/ajax/libs/3Dmol/2.0.1/3Dmol-min.js');\n}\n\nvar viewer_16788649932553794 = null;\nvar warn = document.getElementById(\"3dmolwarning_16788649932553794\");\nif(warn) {\n    warn.parentNode.removeChild(warn);\n}\n$3Dmolpromise.then(function() {\nvar viewergrid_16788649932553794 = null;\nviewergrid_16788649932553794 = $3Dmol.createViewerGrid(document.getElementById(\"3dmolviewer_16788649932553794\"),{rows: 1, cols: 2, control_all: false},{backgroundColor:\"white\"});\nviewer_16788649932553794 = viewergrid_16788649932553794[0][0];\nviewergrid_16788649932553794[0][0].zoomTo();viewergrid_16788649932553794[0][1].zoomTo();\tviewergrid_16788649932553794[0][0].addModel(\"71\\n\\nO    -10.657380   -0.385648    1.485717\\nC    -10.421533   -0.368789    0.247240\\nN    -11.519139   -0.515638   -0.658110\\nC     -9.025291   -0.202654   -0.243472\\nC     -8.742960   -0.262968   -1.733611\\nC     -7.283469   -0.248154   -2.095753\\nC     -6.333248   -0.019579   -1.192361\\nN     -6.669481    0.201924    0.185842\\nC     -8.028075    0.033062    0.628723\\nC     -5.614873    0.417430    1.185464\\nO     -4.579011    1.208064    0.641765\\nC     -3.370080    0.698380    1.149521\\nC     -3.548111   -0.799699    1.356124\\nO     -2.739163   -1.258368    2.411531\\nC     -5.031478   -0.924488    1.655276\\nO     -5.290511   -1.153044    3.020414\\nC     -2.215813    1.004890    0.192032\\nO     -2.131802    2.395922   -0.011693\\nP     -0.637011    2.746078   -0.757905\\nO     -0.182705    1.479524   -1.792719\\nO     -0.789098    4.012202   -1.571216\\nO      0.515156    3.009862    0.468901\\nP      2.056844    2.733600   -0.194257\\nO      3.085824    3.372557    0.712059\\nO      2.186606    3.422892   -1.737901\\nO      2.332718    1.051479   -0.255397\\nC      3.508970    0.811274   -0.992510\\nC      3.935382   -0.648502   -0.801710\\nO      5.069702   -0.922879   -1.591827\\nC      5.840261   -1.893792   -0.911775\\nN      7.242224   -1.470590   -0.870843\\nC      8.341748   -2.258162   -0.990114\\nN      9.512090   -1.580550   -0.826501\\nC      9.097194   -0.322949   -0.585926\\nC      9.843677    0.820343   -0.323574\\nN      9.161470    1.982703   -0.091883\\nC      7.790067    2.023445   -0.114161\\nN      7.067619    0.890921   -0.370181\\nC      7.746585   -0.258163   -0.604463\\nN     11.270581    0.796483   -0.291116\\nC      5.291162   -2.080890    0.510616\\nO      4.703413   -3.351953    0.670112\\nC      4.283125   -0.960045    0.648671\\nO      3.142085   -1.347981    1.370440\\nH    -11.397582   -0.479097   -1.692645\\nH    -12.484193   -0.654668   -0.283276\\nH     -9.232203    0.604358   -2.227082\\nH     -9.179032   -1.197038   -2.146122\\nH     -7.003809   -0.398880   -3.131526\\nH     -5.297980   -0.005659   -1.511946\\nH     -8.238097    0.091890    1.690862\\nH     -6.042943    0.978751    2.046396\\nH     -3.160617    1.194678    2.125649\\nH     -3.314750   -1.355646    0.415597\\nH     -2.776250   -2.249483    2.381382\\nH     -5.453856   -1.775121    1.075311\\nH     -4.912726   -0.393737    3.538829\\nH     -1.282078    0.597941    0.647923\\nH     -2.408987    0.499828   -0.781664\\nH      3.314010    0.982387   -2.074034\\nH      4.348437    1.469367   -0.668267\\nH      3.104637   -1.309346   -1.143172\\nH      5.774692   -2.848343   -1.481057\\nH      8.297268   -3.322535   -1.184220\\nH      7.277624    2.957012    0.074747\\nH     11.803003    1.673982   -0.096709\\nH     11.798570   -0.088414   -0.461669\\nH      6.088628   -1.966539    1.277989\\nH      3.987862   -3.450443   -0.011751\\nH      4.769929   -0.078936    1.130041\\nH      3.406174   -1.353860    2.327419\\n\",\"xyz\");\n\tviewergrid_16788649932553794[0][1].addModel(\"70\\n\\nO     10.596008   -1.556750   -0.132534\\nC      9.784808   -0.598581    0.020445\\nN     10.265200    0.740227   -0.129619\\nC      8.370323   -0.882719    0.373151\\nC      8.016243   -2.125421    0.920058\\nC      6.691928   -2.387397    1.263237\\nC      5.721638   -1.407793    1.059744\\nN      6.057215   -0.196460    0.518296\\nC      7.351485    0.065386    0.155571\\nC      5.025037    0.833951    0.312210\\nO      4.206900    0.945095    1.454937\\nC      2.895778    1.247678    1.019449\\nC      2.844596    1.194931   -0.519296\\nO      2.757058    2.490728   -1.069891\\nC      4.140533    0.505956   -0.883075\\nO      4.681812    1.005708   -2.080155\\nC      1.919753    0.261675    1.675023\\nO      0.596099    0.629376    1.360924\\nP     -0.473603   -0.376951    2.234666\\nO     -0.066116   -0.361673    3.878050\\nO     -1.879133    0.166083    2.101964\\nO     -0.421884   -1.988453    1.680003\\nP     -0.666777   -1.973875   -0.004993\\nO      0.633285   -1.635831   -0.697726\\nO     -1.145733   -3.523765   -0.486092\\nO     -1.885262   -0.858712   -0.434665\\nC     -1.912515   -0.736533   -1.836820\\nC     -3.134449    0.087498   -2.253843\\nO     -4.304044   -0.579937   -1.831477\\nC     -5.199332    0.409808   -1.388437\\nN     -6.088314   -0.146798   -0.366843\\nC     -5.745914   -0.859161    0.740007\\nN     -6.819528   -1.258836    1.478507\\nC     -7.860346   -0.762896    0.782177\\nC     -9.223687   -0.877255    1.028689\\nN    -10.079143   -0.302681    0.133152\\nC     -9.614265    0.369267   -0.970025\\nN     -8.271000    0.472209   -1.204677\\nC     -7.425608   -0.098100   -0.313236\\nN     -9.727655   -1.591980    2.157336\\nC     -4.380459    1.561256   -0.830730\\nO     -5.074905    2.775704   -0.966372\\nC     -3.116132    1.510199   -1.665712\\nO     -3.148088    2.453786   -2.708789\\nH      9.691250    1.571114    0.134538\\nH     11.252889    0.907406   -0.418852\\nH      8.766355   -2.888493    1.092908\\nH      6.417317   -3.342407    1.695185\\nH      4.696419   -1.622156    1.335209\\nH      7.589033    1.008402   -0.317502\\nH      5.502716    1.829404    0.152179\\nH      2.637049    2.270643    1.377827\\nH      1.981513    0.605288   -0.897994\\nH      3.521093    3.026418   -0.728537\\nH      3.960417   -0.594034   -0.958687\\nH      5.408130    0.381032   -2.336643\\nH      2.139502   -0.770503    1.317534\\nH      2.097011    0.303599    2.772879\\nH     -0.994412   -0.225813   -2.204434\\nH     -1.994112   -1.734299   -2.325069\\nH     -3.147181    0.134262   -3.366229\\nH     -5.797516    0.756612   -2.264335\\nH     -4.724207   -1.097396    1.004814\\nH    -10.316101    0.811853   -1.664631\\nH    -10.755090   -1.710459    2.285194\\nH     -9.078428   -2.057824    2.829807\\nH     -4.129050    1.370505    0.240686\\nH     -4.585387    3.437094   -0.413330\\nH     -2.223806    1.683980   -1.017913\\nH     -2.807212    3.307809   -2.334021\\n\",\"xyz\");\n\tviewergrid_16788649932553794[0][0].setViewStyle({\"style\": \"outline\", \"width\": 0.05});\n\tviewergrid_16788649932553794[0][1].setViewStyle({\"style\": \"outline\", \"width\": 0.05});\n\tviewergrid_16788649932553794[0][0].setStyle({\"stick\": {}, \"sphere\": {\"scale\": 0.25}});\n\tviewergrid_16788649932553794[0][1].setStyle({\"stick\": {}, \"sphere\": {\"scale\": 0.25}});\nviewergrid_16788649932553794[0][1].render();\nviewergrid_16788649932553794[0][0].render();\n});\n</script>",
      "text/html": [
       "<div id=\"3dmolviewer_16788649932553794\"  style=\"position: relative; width: 600px; height: 200px\">\n",
       "        <p id=\"3dmolwarning_16788649932553794\" style=\"background-color:#ffcccc;color:black\">You appear to be running in JupyterLab (or JavaScript failed to load for some other reason).  You need to install the 3dmol extension: <br>\n",
       "        <tt>jupyter labextension install jupyterlab_3dmol</tt></p>\n",
       "        </div>\n",
       "<script>\n",
       "\n",
       "var loadScriptAsync = function(uri){\n",
       "  return new Promise((resolve, reject) => {\n",
       "    //this is to ignore the existence of requirejs amd\n",
       "    var savedexports, savedmodule;\n",
       "    if (typeof exports !== 'undefined') savedexports = exports;\n",
       "    else exports = {}\n",
       "    if (typeof module !== 'undefined') savedmodule = module;\n",
       "    else module = {}\n",
       "\n",
       "    var tag = document.createElement('script');\n",
       "    tag.src = uri;\n",
       "    tag.async = true;\n",
       "    tag.onload = () => {\n",
       "        exports = savedexports;\n",
       "        module = savedmodule;\n",
       "        resolve();\n",
       "    };\n",
       "  var firstScriptTag = document.getElementsByTagName('script')[0];\n",
       "  firstScriptTag.parentNode.insertBefore(tag, firstScriptTag);\n",
       "});\n",
       "};\n",
       "\n",
       "if(typeof $3Dmolpromise === 'undefined') {\n",
       "$3Dmolpromise = null;\n",
       "  $3Dmolpromise = loadScriptAsync('https://cdnjs.cloudflare.com/ajax/libs/3Dmol/2.0.1/3Dmol-min.js');\n",
       "}\n",
       "\n",
       "var viewer_16788649932553794 = null;\n",
       "var warn = document.getElementById(\"3dmolwarning_16788649932553794\");\n",
       "if(warn) {\n",
       "    warn.parentNode.removeChild(warn);\n",
       "}\n",
       "$3Dmolpromise.then(function() {\n",
       "var viewergrid_16788649932553794 = null;\n",
       "viewergrid_16788649932553794 = $3Dmol.createViewerGrid(document.getElementById(\"3dmolviewer_16788649932553794\"),{rows: 1, cols: 2, control_all: false},{backgroundColor:\"white\"});\n",
       "viewer_16788649932553794 = viewergrid_16788649932553794[0][0];\n",
       "viewergrid_16788649932553794[0][0].zoomTo();viewergrid_16788649932553794[0][1].zoomTo();\tviewergrid_16788649932553794[0][0].addModel(\"71\\n\\nO    -10.657380   -0.385648    1.485717\\nC    -10.421533   -0.368789    0.247240\\nN    -11.519139   -0.515638   -0.658110\\nC     -9.025291   -0.202654   -0.243472\\nC     -8.742960   -0.262968   -1.733611\\nC     -7.283469   -0.248154   -2.095753\\nC     -6.333248   -0.019579   -1.192361\\nN     -6.669481    0.201924    0.185842\\nC     -8.028075    0.033062    0.628723\\nC     -5.614873    0.417430    1.185464\\nO     -4.579011    1.208064    0.641765\\nC     -3.370080    0.698380    1.149521\\nC     -3.548111   -0.799699    1.356124\\nO     -2.739163   -1.258368    2.411531\\nC     -5.031478   -0.924488    1.655276\\nO     -5.290511   -1.153044    3.020414\\nC     -2.215813    1.004890    0.192032\\nO     -2.131802    2.395922   -0.011693\\nP     -0.637011    2.746078   -0.757905\\nO     -0.182705    1.479524   -1.792719\\nO     -0.789098    4.012202   -1.571216\\nO      0.515156    3.009862    0.468901\\nP      2.056844    2.733600   -0.194257\\nO      3.085824    3.372557    0.712059\\nO      2.186606    3.422892   -1.737901\\nO      2.332718    1.051479   -0.255397\\nC      3.508970    0.811274   -0.992510\\nC      3.935382   -0.648502   -0.801710\\nO      5.069702   -0.922879   -1.591827\\nC      5.840261   -1.893792   -0.911775\\nN      7.242224   -1.470590   -0.870843\\nC      8.341748   -2.258162   -0.990114\\nN      9.512090   -1.580550   -0.826501\\nC      9.097194   -0.322949   -0.585926\\nC      9.843677    0.820343   -0.323574\\nN      9.161470    1.982703   -0.091883\\nC      7.790067    2.023445   -0.114161\\nN      7.067619    0.890921   -0.370181\\nC      7.746585   -0.258163   -0.604463\\nN     11.270581    0.796483   -0.291116\\nC      5.291162   -2.080890    0.510616\\nO      4.703413   -3.351953    0.670112\\nC      4.283125   -0.960045    0.648671\\nO      3.142085   -1.347981    1.370440\\nH    -11.397582   -0.479097   -1.692645\\nH    -12.484193   -0.654668   -0.283276\\nH     -9.232203    0.604358   -2.227082\\nH     -9.179032   -1.197038   -2.146122\\nH     -7.003809   -0.398880   -3.131526\\nH     -5.297980   -0.005659   -1.511946\\nH     -8.238097    0.091890    1.690862\\nH     -6.042943    0.978751    2.046396\\nH     -3.160617    1.194678    2.125649\\nH     -3.314750   -1.355646    0.415597\\nH     -2.776250   -2.249483    2.381382\\nH     -5.453856   -1.775121    1.075311\\nH     -4.912726   -0.393737    3.538829\\nH     -1.282078    0.597941    0.647923\\nH     -2.408987    0.499828   -0.781664\\nH      3.314010    0.982387   -2.074034\\nH      4.348437    1.469367   -0.668267\\nH      3.104637   -1.309346   -1.143172\\nH      5.774692   -2.848343   -1.481057\\nH      8.297268   -3.322535   -1.184220\\nH      7.277624    2.957012    0.074747\\nH     11.803003    1.673982   -0.096709\\nH     11.798570   -0.088414   -0.461669\\nH      6.088628   -1.966539    1.277989\\nH      3.987862   -3.450443   -0.011751\\nH      4.769929   -0.078936    1.130041\\nH      3.406174   -1.353860    2.327419\\n\",\"xyz\");\n",
       "\tviewergrid_16788649932553794[0][1].addModel(\"70\\n\\nO     10.596008   -1.556750   -0.132534\\nC      9.784808   -0.598581    0.020445\\nN     10.265200    0.740227   -0.129619\\nC      8.370323   -0.882719    0.373151\\nC      8.016243   -2.125421    0.920058\\nC      6.691928   -2.387397    1.263237\\nC      5.721638   -1.407793    1.059744\\nN      6.057215   -0.196460    0.518296\\nC      7.351485    0.065386    0.155571\\nC      5.025037    0.833951    0.312210\\nO      4.206900    0.945095    1.454937\\nC      2.895778    1.247678    1.019449\\nC      2.844596    1.194931   -0.519296\\nO      2.757058    2.490728   -1.069891\\nC      4.140533    0.505956   -0.883075\\nO      4.681812    1.005708   -2.080155\\nC      1.919753    0.261675    1.675023\\nO      0.596099    0.629376    1.360924\\nP     -0.473603   -0.376951    2.234666\\nO     -0.066116   -0.361673    3.878050\\nO     -1.879133    0.166083    2.101964\\nO     -0.421884   -1.988453    1.680003\\nP     -0.666777   -1.973875   -0.004993\\nO      0.633285   -1.635831   -0.697726\\nO     -1.145733   -3.523765   -0.486092\\nO     -1.885262   -0.858712   -0.434665\\nC     -1.912515   -0.736533   -1.836820\\nC     -3.134449    0.087498   -2.253843\\nO     -4.304044   -0.579937   -1.831477\\nC     -5.199332    0.409808   -1.388437\\nN     -6.088314   -0.146798   -0.366843\\nC     -5.745914   -0.859161    0.740007\\nN     -6.819528   -1.258836    1.478507\\nC     -7.860346   -0.762896    0.782177\\nC     -9.223687   -0.877255    1.028689\\nN    -10.079143   -0.302681    0.133152\\nC     -9.614265    0.369267   -0.970025\\nN     -8.271000    0.472209   -1.204677\\nC     -7.425608   -0.098100   -0.313236\\nN     -9.727655   -1.591980    2.157336\\nC     -4.380459    1.561256   -0.830730\\nO     -5.074905    2.775704   -0.966372\\nC     -3.116132    1.510199   -1.665712\\nO     -3.148088    2.453786   -2.708789\\nH      9.691250    1.571114    0.134538\\nH     11.252889    0.907406   -0.418852\\nH      8.766355   -2.888493    1.092908\\nH      6.417317   -3.342407    1.695185\\nH      4.696419   -1.622156    1.335209\\nH      7.589033    1.008402   -0.317502\\nH      5.502716    1.829404    0.152179\\nH      2.637049    2.270643    1.377827\\nH      1.981513    0.605288   -0.897994\\nH      3.521093    3.026418   -0.728537\\nH      3.960417   -0.594034   -0.958687\\nH      5.408130    0.381032   -2.336643\\nH      2.139502   -0.770503    1.317534\\nH      2.097011    0.303599    2.772879\\nH     -0.994412   -0.225813   -2.204434\\nH     -1.994112   -1.734299   -2.325069\\nH     -3.147181    0.134262   -3.366229\\nH     -5.797516    0.756612   -2.264335\\nH     -4.724207   -1.097396    1.004814\\nH    -10.316101    0.811853   -1.664631\\nH    -10.755090   -1.710459    2.285194\\nH     -9.078428   -2.057824    2.829807\\nH     -4.129050    1.370505    0.240686\\nH     -4.585387    3.437094   -0.413330\\nH     -2.223806    1.683980   -1.017913\\nH     -2.807212    3.307809   -2.334021\\n\",\"xyz\");\n",
       "\tviewergrid_16788649932553794[0][0].setViewStyle({\"style\": \"outline\", \"width\": 0.05});\n",
       "\tviewergrid_16788649932553794[0][1].setViewStyle({\"style\": \"outline\", \"width\": 0.05});\n",
       "\tviewergrid_16788649932553794[0][0].setStyle({\"stick\": {}, \"sphere\": {\"scale\": 0.25}});\n",
       "\tviewergrid_16788649932553794[0][1].setStyle({\"stick\": {}, \"sphere\": {\"scale\": 0.25}});\n",
       "viewergrid_16788649932553794[0][1].render();\n",
       "viewergrid_16788649932553794[0][0].render();\n",
       "});\n",
       "</script>"
      ]
     },
     "metadata": {},
     "output_type": "display_data"
    }
   ],
   "source": [
    "nadh_xyz = smilestoxyz('O=C(N)C1CC=C[N](C=1)[C@@H]2O[C@@H]([C@@H](O)[C@H]2O)COP([O-])(=O)OP(=O)([O-])OC[C@H]5O[C@@H](n4cnc3c(ncnc34)N)[C@H](O)[C@@H]5O')\n",
    "nadp_xyz = smilestoxyz('O=C(N)c1ccc[n+](c1)[C@@H]2O[C@@H]([C@@H](O)[C@H]2O)COP([O-])(=O)OP(=O)([O-])OC[C@H]5O[C@@H](n4cnc3c(ncnc34)N)[C@H](O)[C@@H]5O')\n",
    "\n",
    "viewer = p3d.view(viewergrid=(1, 2), width=600, height=200, linked=False)\n",
    "viewer.addModel(nadh_xyz, 'xyz', viewer=(0, 0))\n",
    "viewer.addModel(nadp_xyz, 'xyz', viewer=(0, 1))\n",
    "viewer.setViewStyle({\"style\": \"outline\", \"width\": 0.05})\n",
    "viewer.setStyle({\"stick\":{},\"sphere\": {\"scale\":0.25}})\n",
    "viewer.zoomTo()\n",
    "viewer.show()"
   ]
  },
  {
   "cell_type": "code",
   "execution_count": null,
   "id": "9211299e",
   "metadata": {},
   "outputs": [],
   "source": []
  }
 ],
 "metadata": {
  "celltoolbar": "Tags",
  "kernelspec": {
   "display_name": "Python 3 (ipykernel)",
   "language": "python",
   "name": "python3"
  },
  "language_info": {
   "codemirror_mode": {
    "name": "ipython",
    "version": 3
   },
   "file_extension": ".py",
   "mimetype": "text/x-python",
   "name": "python",
   "nbconvert_exporter": "python",
   "pygments_lexer": "ipython3",
   "version": "3.10.9"
  }
 },
 "nbformat": 4,
 "nbformat_minor": 5
}
