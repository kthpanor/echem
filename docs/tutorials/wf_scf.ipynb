{
 "cells": [
  {
   "cell_type": "markdown",
   "id": "ff8a63c1-317c-4890-a059-85f7e2c9f1e6",
   "metadata": {},
   "source": [
    "# Optimizing electronic structure\n",
    "\n",
    "Here we consider the optimization of the electronic structure using Hartree--Fock (HF) and Kohn-Sham density functional theory (KS-DFT), and how to plot the resulting molecular orbitals. Our example is methanol, using the xTB structure from the [previous](wf_struct) section."
   ]
  },
  {
   "cell_type": "code",
   "execution_count": 2,
   "id": "7b68326d",
   "metadata": {
    "tags": [
     "remove-output"
    ]
   },
   "outputs": [
    {
     "name": "stdout",
     "output_type": "stream",
     "text": [
      "* Warning * Environment variable OMP_NUM_THREADS not set.\n",
      "* Warning * Setting OMP_NUM_THREADS to 4.\n"
     ]
    }
   ],
   "source": [
    "import py3Dmol as p3d\n",
    "import veloxchem as vlx"
   ]
  },
  {
   "cell_type": "markdown",
   "id": "da847c54",
   "metadata": {},
   "source": [
    "## Specify structure\n",
    "\n",
    "The molecular geometry is written in xyz-coordinates, and visualized using py3Dmol."
   ]
  },
  {
   "cell_type": "code",
   "execution_count": 3,
   "id": "a1a0698f",
   "metadata": {},
   "outputs": [
    {
     "data": {
      "application/3dmoljs_load.v0": "<div id=\"3dmolviewer_16739515063737276\"  style=\"position: relative; width: 300px; height: 200px\">\n        <p id=\"3dmolwarning_16739515063737276\" style=\"background-color:#ffcccc;color:black\">You appear to be running in JupyterLab (or JavaScript failed to load for some other reason).  You need to install the 3dmol extension: <br>\n        <tt>jupyter labextension install jupyterlab_3dmol</tt></p>\n        </div>\n<script>\n\nvar loadScriptAsync = function(uri){\n  return new Promise((resolve, reject) => {\n    //this is to ignore the existence of requirejs amd\n    var savedexports, savedmodule;\n    if (typeof exports !== 'undefined') savedexports = exports;\n    else exports = {}\n    if (typeof module !== 'undefined') savedmodule = module;\n    else module = {}\n\n    var tag = document.createElement('script');\n    tag.src = uri;\n    tag.async = true;\n    tag.onload = () => {\n        exports = savedexports;\n        module = savedmodule;\n        resolve();\n    };\n  var firstScriptTag = document.getElementsByTagName('script')[0];\n  firstScriptTag.parentNode.insertBefore(tag, firstScriptTag);\n});\n};\n\nif(typeof $3Dmolpromise === 'undefined') {\n$3Dmolpromise = null;\n  $3Dmolpromise = loadScriptAsync('https://cdn.jsdelivr.net/npm/3dmol@latest/build/3Dmol-min.min.js');\n}\n\nvar viewer_16739515063737276 = null;\nvar warn = document.getElementById(\"3dmolwarning_16739515063737276\");\nif(warn) {\n    warn.parentNode.removeChild(warn);\n}\n$3Dmolpromise.then(function() {\nviewer_16739515063737276 = $3Dmol.createViewer(document.getElementById(\"3dmolviewer_16739515063737276\"),{backgroundColor:\"white\"});\nviewer_16739515063737276.zoomTo();\n\tviewer_16739515063737276.addModel(\"6\\n\\nC        -0.362051846542         0.008519935441         0.024906559609\\nO         0.933468973663         0.509856441784        -0.193822841148\\nH        -0.483698601596        -0.368885697455         1.046180408743\\nH        -0.612499226929        -0.790059463155        -0.682044832355\\nH        -1.045997965440         0.841433017766        -0.127103979461\\nH         1.570778666846        -0.200864234382        -0.068115315388\\n\",\"xyz\");\n\tviewer_16739515063737276.setViewStyle({\"style\": \"outline\", \"color\": \"black\", \"width\": 0.1});\n\tviewer_16739515063737276.setStyle({\"stick\": {}});\nviewer_16739515063737276.render();\n});\n</script>",
      "text/html": [
       "<div id=\"3dmolviewer_16739515063737276\"  style=\"position: relative; width: 300px; height: 200px\">\n",
       "        <p id=\"3dmolwarning_16739515063737276\" style=\"background-color:#ffcccc;color:black\">You appear to be running in JupyterLab (or JavaScript failed to load for some other reason).  You need to install the 3dmol extension: <br>\n",
       "        <tt>jupyter labextension install jupyterlab_3dmol</tt></p>\n",
       "        </div>\n",
       "<script>\n",
       "\n",
       "var loadScriptAsync = function(uri){\n",
       "  return new Promise((resolve, reject) => {\n",
       "    //this is to ignore the existence of requirejs amd\n",
       "    var savedexports, savedmodule;\n",
       "    if (typeof exports !== 'undefined') savedexports = exports;\n",
       "    else exports = {}\n",
       "    if (typeof module !== 'undefined') savedmodule = module;\n",
       "    else module = {}\n",
       "\n",
       "    var tag = document.createElement('script');\n",
       "    tag.src = uri;\n",
       "    tag.async = true;\n",
       "    tag.onload = () => {\n",
       "        exports = savedexports;\n",
       "        module = savedmodule;\n",
       "        resolve();\n",
       "    };\n",
       "  var firstScriptTag = document.getElementsByTagName('script')[0];\n",
       "  firstScriptTag.parentNode.insertBefore(tag, firstScriptTag);\n",
       "});\n",
       "};\n",
       "\n",
       "if(typeof $3Dmolpromise === 'undefined') {\n",
       "$3Dmolpromise = null;\n",
       "  $3Dmolpromise = loadScriptAsync('https://cdn.jsdelivr.net/npm/3dmol@latest/build/3Dmol-min.min.js');\n",
       "}\n",
       "\n",
       "var viewer_16739515063737276 = null;\n",
       "var warn = document.getElementById(\"3dmolwarning_16739515063737276\");\n",
       "if(warn) {\n",
       "    warn.parentNode.removeChild(warn);\n",
       "}\n",
       "$3Dmolpromise.then(function() {\n",
       "viewer_16739515063737276 = $3Dmol.createViewer(document.getElementById(\"3dmolviewer_16739515063737276\"),{backgroundColor:\"white\"});\n",
       "viewer_16739515063737276.zoomTo();\n",
       "\tviewer_16739515063737276.addModel(\"6\\n\\nC        -0.362051846542         0.008519935441         0.024906559609\\nO         0.933468973663         0.509856441784        -0.193822841148\\nH        -0.483698601596        -0.368885697455         1.046180408743\\nH        -0.612499226929        -0.790059463155        -0.682044832355\\nH        -1.045997965440         0.841433017766        -0.127103979461\\nH         1.570778666846        -0.200864234382        -0.068115315388\\n\",\"xyz\");\n",
       "\tviewer_16739515063737276.setViewStyle({\"style\": \"outline\", \"color\": \"black\", \"width\": 0.1});\n",
       "\tviewer_16739515063737276.setStyle({\"stick\": {}});\n",
       "viewer_16739515063737276.render();\n",
       "});\n",
       "</script>"
      ]
     },
     "metadata": {},
     "output_type": "display_data"
    }
   ],
   "source": [
    "methanol_xyz = \"\"\"6\n",
    "\n",
    "C        -0.362051846542         0.008519935441         0.024906559609\n",
    "O         0.933468973663         0.509856441784        -0.193822841148\n",
    "H        -0.483698601596        -0.368885697455         1.046180408743\n",
    "H        -0.612499226929        -0.790059463155        -0.682044832355\n",
    "H        -1.045997965440         0.841433017766        -0.127103979461\n",
    "H         1.570778666846        -0.200864234382        -0.068115315388\n",
    "\"\"\"\n",
    "\n",
    "viewer = p3d.view(width=300, height=200)\n",
    "viewer.addModel(methanol_xyz, 'xyz')\n",
    "viewer.setViewStyle({\"style\": \"outline\", \"width\": 0.05})\n",
    "viewer.setStyle({\"stick\":{},\"sphere\": {\"scale\":0.25}})\n",
    "viewer.show()"
   ]
  },
  {
   "cell_type": "markdown",
   "id": "2b54faf3",
   "metadata": {},
   "source": [
    "## SCF optimization\n",
    "\n",
    "At the HF/6-311G level of theory, the electronic structure is optimized by creating the `molecule` and `basis` objects, setting up an unrestricted SCF driver, and performing the SCF calculation:"
   ]
  },
  {
   "cell_type": "code",
   "execution_count": 5,
   "id": "5455dd76",
   "metadata": {
    "tags": [
     "remove-output"
    ]
   },
   "outputs": [
    {
     "name": "stdout",
     "output_type": "stream",
     "text": [
      "* Info * Reading basis set from file: /home/thomas/Notebook/anaconda/envs/echem_test/lib/python3.9/site-packages/veloxchem/basis/6-311G\n",
      "                                                                                                                          \n",
      "                                              Molecular Basis (Atomic Basis)                                              \n",
      "                                             ================================                                             \n",
      "                                                                                                                          \n",
      "                               Basis: 6-311G                                                                              \n",
      "                                                                                                                          \n",
      "                               Atom Contracted GTOs           Primitive GTOs                                              \n",
      "                                                                                                                          \n",
      "                                O   (4S,3P)                   (11S,5P)                                                    \n",
      "                                H   (3S)                      (5S)                                                        \n",
      "                                C   (4S,3P)                   (11S,5P)                                                    \n",
      "                                                                                                                          \n",
      "                               Contracted Basis Functions : 38                                                            \n",
      "                               Primitive Basis Functions  : 72                                                            \n",
      "                                                                                                                          \n",
      "                                                                                                                          \n",
      "                                            Self Consistent Field Driver Setup                                            \n",
      "                                           ====================================                                           \n",
      "                                                                                                                          \n",
      "                   Wave Function Model             : Spin-Restricted Hartree-Fock                                         \n",
      "                   Initial Guess Model             : Superposition of Atomic Densities                                    \n",
      "                   Convergence Accelerator         : Two Level Direct Inversion of Iterative Subspace                     \n",
      "                   Max. Number of Iterations       : 50                                                                   \n",
      "                   Max. Number of Error Vectors    : 10                                                                   \n",
      "                   Convergence Threshold           : 1.0e-06                                                              \n",
      "                   ERI Screening Scheme            : Cauchy Schwarz + Density                                             \n",
      "                   ERI Screening Mode              : Dynamic                                                              \n",
      "                   ERI Screening Threshold         : 1.0e-12                                                              \n",
      "                   Linear Dependence Threshold     : 1.0e-06                                                              \n",
      "                                                                                                                          \n",
      "* Info * Nuclear repulsion energy: 40.5183544886 a.u.                                                                     \n",
      "                                                                                                                          \n",
      "* Info * Overlap matrix computed in 0.00 sec.                                                                             \n",
      "                                                                                                                          \n",
      "* Info * Kinetic energy matrix computed in 0.00 sec.                                                                      \n",
      "                                                                                                                          \n",
      "* Info * Nuclear potential matrix computed in 0.00 sec.                                                                   \n",
      "                                                                                                                          \n",
      "* Info * Orthogonalization matrix computed in 0.00 sec.                                                                   \n",
      "                                                                                                                          \n",
      "* Info * SAD initial guess computed in 0.01 sec.                                                                          \n",
      "                                                                                                                          \n",
      "* Info * Starting Reduced Basis SCF calculation...                                                                        \n",
      "* Info * ...done. SCF energy in reduced basis set: -115.018935737583 a.u. Time: 0.32 sec.                                 \n",
      "                                                                                                                          \n",
      "* Info * Overlap matrix computed in 0.00 sec.                                                                             \n",
      "                                                                                                                          \n",
      "* Info * Kinetic energy matrix computed in 0.01 sec.                                                                      \n",
      "                                                                                                                          \n",
      "* Info * Nuclear potential matrix computed in 0.00 sec.                                                                   \n",
      "                                                                                                                          \n",
      "* Info * Orthogonalization matrix computed in 0.00 sec.                                                                   \n",
      "                                                                                                                          \n",
      "                                                                                                                          \n",
      "               Iter. | Hartree-Fock Energy | Energy Change | Gradient Norm | Max. Gradient | Density Change               \n",
      "               --------------------------------------------------------------------------------------------               \n",
      "                  1      -115.018937074608    0.0000000000      0.00024981      0.00003823      0.00000000                \n",
      "                  2      -115.018937092692   -0.0000000181      0.00011486      0.00001693      0.00014470                \n",
      "                  3      -115.018937095096   -0.0000000024      0.00001746      0.00000301      0.00004905                \n",
      "                  4      -115.018937095145   -0.0000000000      0.00000992      0.00000173      0.00000850                \n",
      "                  5      -115.018937095156   -0.0000000000      0.00000119      0.00000023      0.00000306                \n",
      "                  6      -115.018937095157   -0.0000000000      0.00000011      0.00000002      0.00000086                \n",
      "                                                                                                                          \n",
      "               *** SCF converged in 6 iterations. Time: 0.48 sec.                                                         \n",
      "                                                                                                                          \n",
      "               Spin-Restricted Hartree-Fock:                                                                              \n",
      "               -----------------------------                                                                              \n",
      "               Total Energy                       :     -115.0189370952 a.u.                                              \n",
      "               Electronic Energy                  :     -155.5372915838 a.u.                                              \n",
      "               Nuclear Repulsion Energy           :       40.5183544886 a.u.                                              \n",
      "               ------------------------------------                                                                       \n",
      "               Gradient Norm                      :        0.0000001070 a.u.                                              \n",
      "                                                                                                                          \n",
      "                                                                                                                          \n",
      "               Ground State Information                                                                                   \n",
      "               ------------------------                                                                                   \n",
      "               Charge of Molecule            :  0.0                                                                       \n",
      "               Multiplicity (2S+1)           :  1.0                                                                       \n",
      "               Magnetic Quantum Number (M_S) :  0.0                                                                       \n",
      "                                                                                                                          \n",
      "                                                                                                                          \n",
      "                                                 Spin Restricted Orbitals                                                 \n",
      "                                                 ------------------------                                                 \n",
      "                                                                                                                          \n",
      "               Molecular Orbital No.   5:                                                                                 \n",
      "               --------------------------                                                                                 \n",
      "               Occupation: 2.000 Energy:   -0.68898 a.u.                                                                  \n",
      "               (   1 C   2p-1:     0.20) (   2 O   4s  :     0.16) (   2 O   2p+1:    -0.24)                              \n",
      "               (   2 O   2p-1:     0.19) (   6 H   2s  :    -0.18)                                                        \n",
      "                                                                                                                          \n",
      "               Molecular Orbital No.   6:                                                                                 \n",
      "               --------------------------                                                                                 \n",
      "               Occupation: 2.000 Energy:   -0.62503 a.u.                                                                  \n",
      "               (   1 C   1p0 :     0.16) (   1 C   2p0 :     0.27) (   2 O   2p0 :     0.23)                              \n",
      "               (   2 O   3p0 :     0.21) (   3 H   2s  :     0.16) (   4 H   2s  :    -0.16)                              \n",
      "                                                                                                                          \n",
      "               Molecular Orbital No.   7:                                                                                 \n",
      "               --------------------------                                                                                 \n",
      "               Occupation: 2.000 Energy:   -0.59167 a.u.                                                                  \n",
      "               (   1 C   1p+1:    -0.15) (   1 C   2p+1:    -0.27) (   2 O   2p+1:     0.23)                              \n",
      "               (   2 O   2p-1:     0.15) (   2 O   3p+1:     0.20) (   5 H   2s  :     0.18)                              \n",
      "                                                                                                                          \n",
      "               Molecular Orbital No.   8:                                                                                 \n",
      "               --------------------------                                                                                 \n",
      "               Occupation: 2.000 Energy:   -0.49361 a.u.                                                                  \n",
      "               (   1 C   2p-1:    -0.22) (   2 O   4s  :     0.19) (   2 O   1p-1:     0.19)                              \n",
      "               (   2 O   2p-1:     0.29) (   2 O   3p-1:     0.31) (   5 H   2s  :    -0.21)                              \n",
      "                                                                                                                          \n",
      "               Molecular Orbital No.   9:                                                                                 \n",
      "               --------------------------                                                                                 \n",
      "               Occupation: 2.000 Energy:   -0.44631 a.u.                                                                  \n",
      "               (   1 C   2p0 :     0.17) (   2 O   1p0 :    -0.24) (   2 O   2p0 :    -0.36)                              \n",
      "               (   2 O   3p0 :    -0.42) (   3 H   2s  :     0.20) (   4 H   2s  :    -0.20)                              \n",
      "                                                                                                                          \n",
      "               Molecular Orbital No.  10:                                                                                 \n",
      "               --------------------------                                                                                 \n",
      "               Occupation: 0.000 Energy:    0.14968 a.u.                                                                  \n",
      "               (   1 C   4s  :    -1.58) (   1 C   3p+1:     0.19) (   1 C   3p-1:     0.23)                              \n",
      "               (   2 O   4s  :    -0.44) (   2 O   3p+1:    -0.24) (   3 H   3s  :     0.77)                              \n",
      "               (   4 H   3s  :     0.77) (   5 H   3s  :     0.38) (   6 H   3s  :     0.95)                              \n",
      "                                                                                                                          \n",
      "               Molecular Orbital No.  11:                                                                                 \n",
      "               --------------------------                                                                                 \n",
      "               Occupation: 0.000 Energy:    0.18437 a.u.                                                                  \n",
      "               (   1 C   4s  :    -1.41) (   1 C   3p+1:     0.20) (   1 C   3p-1:    -0.16)                              \n",
      "               (   2 O   4s  :     0.62) (   2 O   3p-1:    -0.20) (   3 H   3s  :     0.66)                              \n",
      "               (   4 H   3s  :     0.66) (   5 H   3s  :     1.03) (   6 H   3s  :    -1.14)                              \n",
      "                                                                                                                          \n",
      "               Molecular Orbital No.  12:                                                                                 \n",
      "               --------------------------                                                                                 \n",
      "               Occupation: 0.000 Energy:    0.22221 a.u.                                                                  \n",
      "               (   1 C   3p-1:    -0.27) (   1 C   3p0 :    -1.11) (   3 H   3s  :     1.90)                              \n",
      "               (   4 H   3s  :    -1.90)                                                                                  \n",
      "                                                                                                                          \n",
      "               Molecular Orbital No.  13:                                                                                 \n",
      "               --------------------------                                                                                 \n",
      "               Occupation: 0.000 Energy:    0.22927 a.u.                                                                  \n",
      "               (   1 C   3p+1:     0.55) (   1 C   3p-1:    -1.00) (   1 C   3p0 :     0.20)                              \n",
      "               (   2 O   4s  :    -0.25) (   3 H   3s  :    -1.07) (   4 H   3s  :    -1.07)                              \n",
      "               (   5 H   3s  :     2.14) (   6 H   3s  :     0.27)                                                        \n",
      "                                                                                                                          \n",
      "               Molecular Orbital No.  14:                                                                                 \n",
      "               --------------------------                                                                                 \n",
      "               Occupation: 0.000 Energy:    0.33706 a.u.                                                                  \n",
      "               (   1 C   4s  :     0.68) (   1 C   3p+1:     1.64) (   1 C   3p-1:     0.76)                              \n",
      "               (   1 C   3p0 :    -0.31) (   2 O   4s  :    -1.05) (   2 O   2p+1:     0.16)                              \n",
      "               (   2 O   3p+1:     0.81) (   3 H   2s  :     0.20) (   3 H   3s  :     0.34)                              \n",
      "               (   4 H   2s  :     0.20) (   4 H   3s  :     0.34) (   5 H   2s  :     0.19)                              \n",
      "               (   5 H   3s  :    -0.19) (   6 H   3s  :    -0.93)                                                        \n",
      "                                                                                                                          \n"
     ]
    }
   ],
   "source": [
    "molecule = vlx.Molecule.from_xyz_string(methanol_xyz)\n",
    "basis = vlx.MolecularBasis.read(molecule, \"6-311G\")\n",
    "scf_hf = vlx.ScfRestrictedDriver()\n",
    "hf_results = scf_hf.compute(molecule, basis)"
   ]
  },
  {
   "cell_type": "code",
   "execution_count": 8,
   "id": "95a65094",
   "metadata": {},
   "outputs": [
    {
     "name": "stdout",
     "output_type": "stream",
     "text": [
      "The total energy is -115.01894 Hartree\n"
     ]
    }
   ],
   "source": [
    "print(f'The total (HF) energy is {scf_hf.get_scf_energy(): .5f} Hartree')"
   ]
  },
  {
   "cell_type": "markdown",
   "id": "adc729f2",
   "metadata": {},
   "source": [
    "## Visualizing molecular orbitals\n",
    "\n",
    "The MOs can be visualized using the `OrbitalViewer` function:"
   ]
  },
  {
   "cell_type": "code",
   "execution_count": 10,
   "id": "e124b044",
   "metadata": {},
   "outputs": [
    {
     "data": {
      "application/vnd.jupyter.widget-view+json": {
       "model_id": "c253f5ec98f3428cbbf922441ac41a0a",
       "version_major": 2,
       "version_minor": 0
      },
      "text/plain": [
       "Output()"
      ]
     },
     "metadata": {},
     "output_type": "display_data"
    },
    {
     "data": {
      "application/vnd.jupyter.widget-view+json": {
       "model_id": "db88090db4464744b927ff17b03401ca",
       "version_major": 2,
       "version_minor": 0
      },
      "text/plain": [
       "Dropdown(description='Orbital:', index=8, options=(('  1 occ=2.000 ene=-20.550', 0), ('  2 occ=2.000 ene=-11.2…"
      ]
     },
     "metadata": {},
     "output_type": "display_data"
    }
   ],
   "source": [
    "viewer = vlx.OrbitalViewer()\n",
    "viewer.plot(molecule, basis, scf_hf.mol_orbs)"
   ]
  },
  {
   "cell_type": "markdown",
   "id": "ff93158a",
   "metadata": {},
   "source": [
    "Here you can only see the default MO selection (the HOMO), but if you run this in a notebook you can visualize any MO, change isovalues, and more.\n",
    "\n",
    "## KS-DFT optimization\n",
    "\n",
    "With the B3LYP exchange-correlation functional, the SCF is optimized using:"
   ]
  },
  {
   "cell_type": "code",
   "execution_count": 11,
   "id": "0d535079",
   "metadata": {
    "tags": [
     "remove-output"
    ]
   },
   "outputs": [
    {
     "name": "stdout",
     "output_type": "stream",
     "text": [
      "* Info * Reading basis set from file: /home/thomas/Notebook/anaconda/envs/echem_test/lib/python3.9/site-packages/veloxchem/basis/6-311G\n",
      "                                                                                                                          \n",
      "                                              Molecular Basis (Atomic Basis)                                              \n",
      "                                             ================================                                             \n",
      "                                                                                                                          \n",
      "                               Basis: 6-311G                                                                              \n",
      "                                                                                                                          \n",
      "                               Atom Contracted GTOs           Primitive GTOs                                              \n",
      "                                                                                                                          \n",
      "                                O   (4S,3P)                   (11S,5P)                                                    \n",
      "                                H   (3S)                      (5S)                                                        \n",
      "                                C   (4S,3P)                   (11S,5P)                                                    \n",
      "                                                                                                                          \n",
      "                               Contracted Basis Functions : 38                                                            \n",
      "                               Primitive Basis Functions  : 72                                                            \n",
      "                                                                                                                          \n",
      "                                                                                                                          \n",
      "                                            Self Consistent Field Driver Setup                                            \n",
      "                                           ====================================                                           \n",
      "                                                                                                                          \n",
      "                   Wave Function Model             : Spin-Restricted Kohn-Sham                                            \n",
      "                   Initial Guess Model             : Superposition of Atomic Densities                                    \n",
      "                   Convergence Accelerator         : Two Level Direct Inversion of Iterative Subspace                     \n",
      "                   Max. Number of Iterations       : 50                                                                   \n",
      "                   Max. Number of Error Vectors    : 10                                                                   \n",
      "                   Convergence Threshold           : 1.0e-06                                                              \n",
      "                   ERI Screening Scheme            : Cauchy Schwarz + Density                                             \n",
      "                   ERI Screening Mode              : Dynamic                                                              \n",
      "                   ERI Screening Threshold         : 1.0e-12                                                              \n",
      "                   Linear Dependence Threshold     : 1.0e-06                                                              \n",
      "                   Exchange-Correlation Functional : B3LYP                                                                \n",
      "                   Molecular Grid Level            : 4                                                                    \n",
      "                                                                                                                          \n",
      "* Info * Nuclear repulsion energy: 40.5183544886 a.u.                                                                     \n",
      "                                                                                                                          \n",
      "* Info * Molecular grid with 69288 points generated in 0.05 sec.                                                          \n",
      "                                                                                                                          \n",
      "* Info * Overlap matrix computed in 0.00 sec.                                                                             \n",
      "                                                                                                                          \n",
      "* Info * Kinetic energy matrix computed in 0.00 sec.                                                                      \n",
      "                                                                                                                          \n",
      "* Info * Nuclear potential matrix computed in 0.00 sec.                                                                   \n",
      "                                                                                                                          \n",
      "* Info * Orthogonalization matrix computed in 0.00 sec.                                                                   \n",
      "                                                                                                                          \n",
      "* Info * SAD initial guess computed in 0.01 sec.                                                                          \n",
      "                                                                                                                          \n",
      "* Info * Starting Reduced Basis SCF calculation...                                                                        \n",
      "* Info * ...done. SCF energy in reduced basis set: -115.018935737583 a.u. Time: 0.31 sec.                                 \n",
      "                                                                                                                          \n",
      "* Info * Overlap matrix computed in 0.00 sec.                                                                             \n",
      "                                                                                                                          \n",
      "* Info * Kinetic energy matrix computed in 0.01 sec.                                                                      \n",
      "                                                                                                                          \n",
      "* Info * Nuclear potential matrix computed in 0.00 sec.                                                                   \n",
      "                                                                                                                          \n",
      "* Info * Orthogonalization matrix computed in 0.00 sec.                                                                   \n",
      "                                                                                                                          \n",
      "                                                                                                                          \n",
      "               Iter. |    Kohn-Sham Energy | Energy Change | Gradient Norm | Max. Gradient | Density Change               \n",
      "               --------------------------------------------------------------------------------------------               \n",
      "                  1      -115.712794675662    0.0000000000      0.12055252      0.01852356      0.00000000                \n",
      "                  2      -115.712975154381   -0.0001804787      0.10625104      0.01806396      0.05103016                \n",
      "                  3      -115.714371477840   -0.0013963235      0.00476215      0.00081960      0.02632535                \n",
      "                  4      -115.714374322629   -0.0000028448      0.00049736      0.00007567      0.00147836                \n",
      "                  5      -115.714374328693   -0.0000000061      0.00046069      0.00007385      0.00021702                \n",
      "                  6      -115.714374346302   -0.0000000176      0.00003840      0.00000549      0.00009603                \n",
      "                  7      -115.714374346503   -0.0000000002      0.00000282      0.00000036      0.00001736                \n",
      "                  8      -115.714374346505   -0.0000000000      0.00000034      0.00000006      0.00000156                \n",
      "                                                                                                                          \n",
      "               *** SCF converged in 8 iterations. Time: 3.59 sec.                                                         \n",
      "                                                                                                                          \n",
      "               Spin-Restricted Kohn-Sham:                                                                                 \n",
      "               --------------------------                                                                                 \n",
      "               Total Energy                       :     -115.7143743465 a.u.                                              \n",
      "               Electronic Energy                  :     -156.2327288351 a.u.                                              \n",
      "               Nuclear Repulsion Energy           :       40.5183544886 a.u.                                              \n",
      "               ------------------------------------                                                                       \n",
      "               Gradient Norm                      :        0.0000003429 a.u.                                              \n",
      "                                                                                                                          \n",
      "                                                                                                                          \n",
      "               Ground State Information                                                                                   \n",
      "               ------------------------                                                                                   \n",
      "               Charge of Molecule            :  0.0                                                                       \n",
      "               Multiplicity (2S+1)           :  1.0                                                                       \n",
      "               Magnetic Quantum Number (M_S) :  0.0                                                                       \n",
      "                                                                                                                          \n",
      "                                                                                                                          \n",
      "                                                 Spin Restricted Orbitals                                                 \n",
      "                                                 ------------------------                                                 \n",
      "                                                                                                                          \n",
      "               Molecular Orbital No.   5:                                                                                 \n",
      "               --------------------------                                                                                 \n",
      "               Occupation: 2.000 Energy:   -0.51408 a.u.                                                                  \n",
      "               (   1 C   2p-1:    -0.19) (   2 O   1p+1:     0.17) (   2 O   2p+1:     0.26)                              \n",
      "               (   2 O   3p+1:     0.16) (   6 H   2s  :     0.17)                                                        \n",
      "                                                                                                                          \n",
      "               Molecular Orbital No.   6:                                                                                 \n",
      "               --------------------------                                                                                 \n",
      "               Occupation: 2.000 Energy:   -0.44822 a.u.                                                                  \n",
      "               (   1 C   1p0 :    -0.19) (   1 C   2p0 :    -0.29) (   1 C   3p0 :    -0.17)                              \n",
      "               (   2 O   2p0 :    -0.17) (   3 H   2s  :    -0.16) (   4 H   2s  :     0.16)                              \n",
      "                                                                                                                          \n",
      "               Molecular Orbital No.   7:                                                                                 \n",
      "               --------------------------                                                                                 \n",
      "               Occupation: 2.000 Energy:   -0.43049 a.u.                                                                  \n",
      "               (   1 C   1p+1:    -0.16) (   1 C   2p+1:    -0.24) (   1 C   2p-1:     0.17)                              \n",
      "               (   2 O   2p+1:     0.18) (   2 O   3p+1:     0.15) (   5 H   1s  :     0.16)                              \n",
      "               (   5 H   2s  :     0.19)                                                                                  \n",
      "                                                                                                                          \n",
      "               Molecular Orbital No.   8:                                                                                 \n",
      "               --------------------------                                                                                 \n",
      "               Occupation: 2.000 Energy:   -0.32584 a.u.                                                                  \n",
      "               (   1 C   2p-1:     0.18) (   2 O   3s  :    -0.19) (   2 O   4s  :    -0.26)                              \n",
      "               (   2 O   1p-1:    -0.22) (   2 O   2p-1:    -0.31) (   2 O   3p-1:    -0.32)                              \n",
      "               (   5 H   2s  :     0.18)                                                                                  \n",
      "                                                                                                                          \n",
      "               Molecular Orbital No.   9:                                                                                 \n",
      "               --------------------------                                                                                 \n",
      "               Occupation: 2.000 Energy:   -0.26939 a.u.                                                                  \n",
      "               (   2 O   1p0 :    -0.27) (   2 O   2p0 :    -0.38) (   2 O   3p0 :    -0.44)                              \n",
      "               (   3 H   2s  :     0.18) (   4 H   2s  :    -0.18)                                                        \n",
      "                                                                                                                          \n",
      "               Molecular Orbital No.  10:                                                                                 \n",
      "               --------------------------                                                                                 \n",
      "               Occupation: 0.000 Energy:    0.03187 a.u.                                                                  \n",
      "               (   1 C   4s  :    -1.07) (   1 C   3p+1:     0.28) (   1 C   3p-1:     0.20)                              \n",
      "               (   2 O   4s  :    -0.65) (   2 O   3p+1:    -0.19) (   2 O   3p-1:     0.19)                              \n",
      "               (   3 H   3s  :     0.53) (   4 H   3s  :     0.53) (   5 H   3s  :     0.25)                              \n",
      "               (   6 H   3s  :     0.99)                                                                                  \n",
      "                                                                                                                          \n",
      "               Molecular Orbital No.  11:                                                                                 \n",
      "               --------------------------                                                                                 \n",
      "               Occupation: 0.000 Energy:    0.06952 a.u.                                                                  \n",
      "               (   1 C   3s  :    -0.21) (   1 C   4s  :    -1.74) (   2 O   4s  :     0.60)                              \n",
      "               (   2 O   3p-1:    -0.22) (   3 H   3s  :     0.81) (   4 H   3s  :     0.81)                              \n",
      "               (   5 H   3s  :     0.89) (   6 H   3s  :    -0.76)                                                        \n",
      "                                                                                                                          \n",
      "               Molecular Orbital No.  12:                                                                                 \n",
      "               --------------------------                                                                                 \n",
      "               Occupation: 0.000 Energy:    0.11100 a.u.                                                                  \n",
      "               (   1 C   1p0 :    -0.17) (   1 C   2p0 :    -0.24) (   1 C   3p-1:    -0.26)                              \n",
      "               (   1 C   3p0 :    -1.06) (   3 H   3s  :     1.73) (   4 H   3s  :    -1.73)                              \n",
      "                                                                                                                          \n",
      "               Molecular Orbital No.  13:                                                                                 \n",
      "               --------------------------                                                                                 \n",
      "               Occupation: 0.000 Energy:    0.11463 a.u.                                                                  \n",
      "               (   1 C   2p-1:    -0.20) (   1 C   3p+1:     0.65) (   1 C   3p-1:    -0.93)                              \n",
      "               (   1 C   3p0 :     0.18) (   2 O   4s  :    -0.24) (   2 O   3p-1:     0.16)                              \n",
      "               (   3 H   3s  :    -0.92) (   4 H   3s  :    -0.92) (   5 H   3s  :     1.97)                              \n",
      "                                                                                                                          \n",
      "               Molecular Orbital No.  14:                                                                                 \n",
      "               --------------------------                                                                                 \n",
      "               Occupation: 0.000 Energy:    0.18035 a.u.                                                                  \n",
      "               (   1 C   4s  :     0.59) (   1 C   2p+1:     0.18) (   1 C   3p+1:     1.36)                              \n",
      "               (   1 C   3p-1:     0.79) (   1 C   3p0 :    -0.29) (   2 O   4s  :    -0.81)                              \n",
      "               (   2 O   1p+1:     0.18) (   2 O   2p+1:     0.23) (   2 O   3p+1:     0.81)                              \n",
      "               (   3 H   2s  :     0.20) (   3 H   3s  :     0.40) (   4 H   2s  :     0.20)                              \n",
      "               (   4 H   3s  :     0.40) (   5 H   3s  :    -0.33) (   6 H   3s  :    -0.91)                              \n",
      "                                                                                                                          \n"
     ]
    }
   ],
   "source": [
    "molecule = vlx.Molecule.from_xyz_string(methanol_xyz)\n",
    "basis = vlx.MolecularBasis.read(molecule, \"6-311G\")\n",
    "scf_b3lyp = vlx.ScfRestrictedDriver()\n",
    "scf_b3lyp.xcfun = 'b3lyp'\n",
    "b3lyp_results = scf_b3lyp.compute(molecule, basis)"
   ]
  },
  {
   "cell_type": "code",
   "execution_count": 12,
   "id": "7fcb13cd",
   "metadata": {},
   "outputs": [
    {
     "name": "stdout",
     "output_type": "stream",
     "text": [
      "The total (B3LYP) energy is -115.71437 Hartree\n"
     ]
    }
   ],
   "source": [
    "print(f'The total (B3LYP) energy is {scf_b3lyp.get_scf_energy(): .5f} Hartree')"
   ]
  },
  {
   "cell_type": "markdown",
   "id": "c0aa4755",
   "metadata": {},
   "source": [
    "And the MOs are visualized as:"
   ]
  },
  {
   "cell_type": "code",
   "execution_count": 13,
   "id": "08412f4c",
   "metadata": {},
   "outputs": [
    {
     "data": {
      "application/vnd.jupyter.widget-view+json": {
       "model_id": "2999d3d11aa749c38d353503c2a1b548",
       "version_major": 2,
       "version_minor": 0
      },
      "text/plain": [
       "Output()"
      ]
     },
     "metadata": {},
     "output_type": "display_data"
    },
    {
     "data": {
      "application/vnd.jupyter.widget-view+json": {
       "model_id": "fec42a55cf064125bd4c924c1fddf3bb",
       "version_major": 2,
       "version_minor": 0
      },
      "text/plain": [
       "Dropdown(description='Orbital:', index=8, options=(('  1 occ=2.000 ene=-19.111', 0), ('  2 occ=2.000 ene=-10.2…"
      ]
     },
     "metadata": {},
     "output_type": "display_data"
    }
   ],
   "source": [
    "viewer = vlx.OrbitalViewer()\n",
    "viewer.plot(molecule, basis, scf_b3lyp.mol_orbs)"
   ]
  },
  {
   "cell_type": "code",
   "execution_count": null,
   "id": "5e93b84a",
   "metadata": {},
   "outputs": [],
   "source": []
  }
 ],
 "metadata": {
  "celltoolbar": "Tags",
  "kernelspec": {
   "display_name": "Python 3 (ipykernel)",
   "language": "python",
   "name": "python3"
  },
  "language_info": {
   "codemirror_mode": {
    "name": "ipython",
    "version": 3
   },
   "file_extension": ".py",
   "mimetype": "text/x-python",
   "name": "python",
   "nbconvert_exporter": "python",
   "pygments_lexer": "ipython3",
   "version": "3.10.9"
  }
 },
 "nbformat": 4,
 "nbformat_minor": 5
}
