{
 "cells": [
  {
   "cell_type": "markdown",
   "id": "ff8a63c1-317c-4890-a059-85f7e2c9f1e6",
   "metadata": {},
   "source": [
    "# Optimizing electronic structure"
   ]
  },
  {
   "cell_type": "code",
   "execution_count": 2,
   "id": "7b68326d",
   "metadata": {},
   "outputs": [
    {
     "name": "stdout",
     "output_type": "stream",
     "text": [
      "* Warning * Environment variable OMP_NUM_THREADS not set.\n",
      "* Warning * Setting OMP_NUM_THREADS to 4.\n"
     ]
    }
   ],
   "source": [
    "import py3Dmol as p3d\n",
    "import veloxchem as vlx"
   ]
  },
  {
   "cell_type": "markdown",
   "id": "da847c54",
   "metadata": {},
   "source": [
    "## Specify structure\n",
    "\n",
    "Structure taken from MP2/cc-pVTZ."
   ]
  },
  {
   "cell_type": "code",
   "execution_count": 3,
   "id": "a1a0698f",
   "metadata": {},
   "outputs": [
    {
     "data": {
      "application/3dmoljs_load.v0": "<div id=\"3dmolviewer_1673537667957877\"  style=\"position: relative; width: 300px; height: 200px\">\n        <p id=\"3dmolwarning_1673537667957877\" style=\"background-color:#ffcccc;color:black\">You appear to be running in JupyterLab (or JavaScript failed to load for some other reason).  You need to install the 3dmol extension: <br>\n        <tt>jupyter labextension install jupyterlab_3dmol</tt></p>\n        </div>\n<script>\n\nvar loadScriptAsync = function(uri){\n  return new Promise((resolve, reject) => {\n    //this is to ignore the existence of requirejs amd\n    var savedexports, savedmodule;\n    if (typeof exports !== 'undefined') savedexports = exports;\n    else exports = {}\n    if (typeof module !== 'undefined') savedmodule = module;\n    else module = {}\n\n    var tag = document.createElement('script');\n    tag.src = uri;\n    tag.async = true;\n    tag.onload = () => {\n        exports = savedexports;\n        module = savedmodule;\n        resolve();\n    };\n  var firstScriptTag = document.getElementsByTagName('script')[0];\n  firstScriptTag.parentNode.insertBefore(tag, firstScriptTag);\n});\n};\n\nif(typeof $3Dmolpromise === 'undefined') {\n$3Dmolpromise = null;\n  $3Dmolpromise = loadScriptAsync('https://cdn.jsdelivr.net/npm/3dmol@latest/build/3Dmol-min.min.js');\n}\n\nvar viewer_1673537667957877 = null;\nvar warn = document.getElementById(\"3dmolwarning_1673537667957877\");\nif(warn) {\n    warn.parentNode.removeChild(warn);\n}\n$3Dmolpromise.then(function() {\nviewer_1673537667957877 = $3Dmol.createViewer(document.getElementById(\"3dmolviewer_1673537667957877\"),{backgroundColor:\"white\"});\nviewer_1673537667957877.zoomTo();\n\tviewer_1673537667957877.addModel(\"6\\n\\nC       0.6627602692    -0.0195253241    -0.0000000000\\nO      -0.7482324502     0.1217146925     0.0000000000\\nH       1.0282229693    -0.5397922417    -0.8872632580\\nH       1.0282229693    -0.5397922417     0.8872632580\\nH       1.0781531801     0.9835591659    -0.0000000000\\nH      -1.1253011321    -0.7605402778     0.0000000000\\n\",\"xyz\");\n\tviewer_1673537667957877.setViewStyle({\"style\": \"outline\", \"color\": \"black\", \"width\": 0.1});\n\tviewer_1673537667957877.setStyle({\"stick\": {}});\nviewer_1673537667957877.render();\n});\n</script>",
      "text/html": [
       "<div id=\"3dmolviewer_1673537667957877\"  style=\"position: relative; width: 300px; height: 200px\">\n",
       "        <p id=\"3dmolwarning_1673537667957877\" style=\"background-color:#ffcccc;color:black\">You appear to be running in JupyterLab (or JavaScript failed to load for some other reason).  You need to install the 3dmol extension: <br>\n",
       "        <tt>jupyter labextension install jupyterlab_3dmol</tt></p>\n",
       "        </div>\n",
       "<script>\n",
       "\n",
       "var loadScriptAsync = function(uri){\n",
       "  return new Promise((resolve, reject) => {\n",
       "    //this is to ignore the existence of requirejs amd\n",
       "    var savedexports, savedmodule;\n",
       "    if (typeof exports !== 'undefined') savedexports = exports;\n",
       "    else exports = {}\n",
       "    if (typeof module !== 'undefined') savedmodule = module;\n",
       "    else module = {}\n",
       "\n",
       "    var tag = document.createElement('script');\n",
       "    tag.src = uri;\n",
       "    tag.async = true;\n",
       "    tag.onload = () => {\n",
       "        exports = savedexports;\n",
       "        module = savedmodule;\n",
       "        resolve();\n",
       "    };\n",
       "  var firstScriptTag = document.getElementsByTagName('script')[0];\n",
       "  firstScriptTag.parentNode.insertBefore(tag, firstScriptTag);\n",
       "});\n",
       "};\n",
       "\n",
       "if(typeof $3Dmolpromise === 'undefined') {\n",
       "$3Dmolpromise = null;\n",
       "  $3Dmolpromise = loadScriptAsync('https://cdn.jsdelivr.net/npm/3dmol@latest/build/3Dmol-min.min.js');\n",
       "}\n",
       "\n",
       "var viewer_1673537667957877 = null;\n",
       "var warn = document.getElementById(\"3dmolwarning_1673537667957877\");\n",
       "if(warn) {\n",
       "    warn.parentNode.removeChild(warn);\n",
       "}\n",
       "$3Dmolpromise.then(function() {\n",
       "viewer_1673537667957877 = $3Dmol.createViewer(document.getElementById(\"3dmolviewer_1673537667957877\"),{backgroundColor:\"white\"});\n",
       "viewer_1673537667957877.zoomTo();\n",
       "\tviewer_1673537667957877.addModel(\"6\\n\\nC       0.6627602692    -0.0195253241    -0.0000000000\\nO      -0.7482324502     0.1217146925     0.0000000000\\nH       1.0282229693    -0.5397922417    -0.8872632580\\nH       1.0282229693    -0.5397922417     0.8872632580\\nH       1.0781531801     0.9835591659    -0.0000000000\\nH      -1.1253011321    -0.7605402778     0.0000000000\\n\",\"xyz\");\n",
       "\tviewer_1673537667957877.setViewStyle({\"style\": \"outline\", \"color\": \"black\", \"width\": 0.1});\n",
       "\tviewer_1673537667957877.setStyle({\"stick\": {}});\n",
       "viewer_1673537667957877.render();\n",
       "});\n",
       "</script>"
      ]
     },
     "metadata": {},
     "output_type": "display_data"
    }
   ],
   "source": [
    "methanol_xyz = \"\"\"6\n",
    "\n",
    "C       0.6627602692    -0.0195253241    -0.0000000000\n",
    "O      -0.7482324502     0.1217146925     0.0000000000\n",
    "H       1.0282229693    -0.5397922417    -0.8872632580\n",
    "H       1.0282229693    -0.5397922417     0.8872632580\n",
    "H       1.0781531801     0.9835591659    -0.0000000000\n",
    "H      -1.1253011321    -0.7605402778     0.0000000000\n",
    "\"\"\"\n",
    "\n",
    "viewer = p3d.view(width=300, height=200)\n",
    "viewer.addModel(methanol_xyz, 'xyz')\n",
    "viewer.setViewStyle({\"style\": \"outline\", \"color\": \"black\", \"width\": 0.1})\n",
    "viewer.setStyle({\"stick\": {}})\n",
    "viewer.show()"
   ]
  },
  {
   "cell_type": "markdown",
   "id": "2b54faf3",
   "metadata": {},
   "source": [
    "## SCF optimization\n",
    "\n",
    "Calculate the SCF at a HF/6-311G level of theory."
   ]
  },
  {
   "cell_type": "code",
   "execution_count": 11,
   "id": "5455dd76",
   "metadata": {
    "tags": [
     "remove-output"
    ]
   },
   "outputs": [
    {
     "name": "stdout",
     "output_type": "stream",
     "text": [
      "* Info * Reading basis set from file: /home/thomas/Notebook/anaconda/envs/echem_test/lib/python3.9/site-packages/veloxchem/basis/6-311G\n",
      "                                                                                                                          \n",
      "                                              Molecular Basis (Atomic Basis)                                              \n",
      "                                             ================================                                             \n",
      "                                                                                                                          \n",
      "                               Basis: 6-311G                                                                              \n",
      "                                                                                                                          \n",
      "                               Atom Contracted GTOs           Primitive GTOs                                              \n",
      "                                                                                                                          \n",
      "                                O   (4S,3P)                   (11S,5P)                                                    \n",
      "                                H   (3S)                      (5S)                                                        \n",
      "                                C   (4S,3P)                   (11S,5P)                                                    \n",
      "                                                                                                                          \n",
      "                               Contracted Basis Functions : 38                                                            \n",
      "                               Primitive Basis Functions  : 72                                                            \n",
      "                                                                                                                          \n",
      "                                                                                                                          \n",
      "                                            Self Consistent Field Driver Setup                                            \n",
      "                                           ====================================                                           \n",
      "                                                                                                                          \n",
      "                   Wave Function Model             : Spin-Restricted Hartree-Fock                                         \n",
      "                   Initial Guess Model             : Superposition of Atomic Densities                                    \n",
      "                   Convergence Accelerator         : Two Level Direct Inversion of Iterative Subspace                     \n",
      "                   Max. Number of Iterations       : 50                                                                   \n",
      "                   Max. Number of Error Vectors    : 10                                                                   \n",
      "                   Convergence Threshold           : 1.0e-06                                                              \n",
      "                   ERI Screening Scheme            : Cauchy Schwarz + Density                                             \n",
      "                   ERI Screening Mode              : Dynamic                                                              \n",
      "                   ERI Screening Threshold         : 1.0e-12                                                              \n",
      "                   Linear Dependence Threshold     : 1.0e-06                                                              \n",
      "                                                                                                                          \n",
      "* Info * Nuclear repulsion energy: 40.3876414915 a.u.                                                                     \n",
      "                                                                                                                          \n",
      "* Info * Overlap matrix computed in 0.00 sec.                                                                             \n",
      "                                                                                                                          \n",
      "* Info * Kinetic energy matrix computed in 0.00 sec.                                                                      \n",
      "                                                                                                                          \n",
      "* Info * Nuclear potential matrix computed in 0.00 sec.                                                                   \n",
      "                                                                                                                          \n",
      "* Info * Orthogonalization matrix computed in 0.00 sec.                                                                   \n",
      "                                                                                                                          \n",
      "* Info * SAD initial guess computed in 0.01 sec.                                                                          \n",
      "                                                                                                                          \n",
      "* Info * Starting Reduced Basis SCF calculation...                                                                        \n",
      "* Info * ...done. SCF energy in reduced basis set: -115.018998678690 a.u. Time: 0.41 sec.                                 \n",
      "                                                                                                                          \n",
      "* Info * Overlap matrix computed in 0.00 sec.                                                                             \n",
      "                                                                                                                          \n",
      "* Info * Kinetic energy matrix computed in 0.01 sec.                                                                      \n",
      "                                                                                                                          \n",
      "* Info * Nuclear potential matrix computed in 0.00 sec.                                                                   \n",
      "                                                                                                                          \n",
      "* Info * Orthogonalization matrix computed in 0.00 sec.                                                                   \n",
      "                                                                                                                          \n",
      "                                                                                                                          \n",
      "               Iter. | Hartree-Fock Energy | Energy Change | Gradient Norm | Max. Gradient | Density Change               \n",
      "               --------------------------------------------------------------------------------------------               \n",
      "                  1      -115.019000064618    0.0000000000      0.00024527      0.00003864      0.00000000                \n",
      "                  2      -115.019000081991   -0.0000000174      0.00011244      0.00001663      0.00014194                \n",
      "                  3      -115.019000084215   -0.0000000022      0.00001770      0.00000300      0.00004605                \n",
      "                  4      -115.019000084262   -0.0000000000      0.00000956      0.00000164      0.00000801                \n",
      "                  5      -115.019000084273   -0.0000000000      0.00000117      0.00000023      0.00000311                \n",
      "                  6      -115.019000084273   -0.0000000000      0.00000011      0.00000002      0.00000086                \n",
      "                                                                                                                          \n",
      "               *** SCF converged in 6 iterations. Time: 0.49 sec.                                                         \n",
      "                                                                                                                          \n",
      "               Spin-Restricted Hartree-Fock:                                                                              \n",
      "               -----------------------------                                                                              \n",
      "               Total Energy                       :     -115.0190000843 a.u.                                              \n",
      "               Electronic Energy                  :     -155.4066415757 a.u.                                              \n",
      "               Nuclear Repulsion Energy           :       40.3876414915 a.u.                                              \n",
      "               ------------------------------------                                                                       \n",
      "               Gradient Norm                      :        0.0000001100 a.u.                                              \n",
      "                                                                                                                          \n",
      "                                                                                                                          \n",
      "               Ground State Information                                                                                   \n",
      "               ------------------------                                                                                   \n",
      "               Charge of Molecule            :  0.0                                                                       \n",
      "               Multiplicity (2S+1)           :  1.0                                                                       \n",
      "               Magnetic Quantum Number (M_S) :  0.0                                                                       \n",
      "                                                                                                                          \n",
      "                                                                                                                          \n",
      "                                                 Spin Restricted Orbitals                                                 \n",
      "                                                 ------------------------                                                 \n",
      "                                                                                                                          \n",
      "               Molecular Orbital No.   5:                                                                                 \n",
      "               --------------------------                                                                                 \n",
      "               Occupation: 2.000 Energy:   -0.68780 a.u.                                                                  \n",
      "               (   1 C   2p-1:    -0.17) (   2 O   4s  :    -0.16) (   2 O   1p-1:    -0.16)                              \n",
      "               (   2 O   2p+1:    -0.17) (   2 O   2p-1:    -0.26) (   2 O   3p-1:    -0.18)                              \n",
      "               (   6 H   2s  :     0.18)                                                                                  \n",
      "                                                                                                                          \n",
      "               Molecular Orbital No.   6:                                                                                 \n",
      "               --------------------------                                                                                 \n",
      "               Occupation: 2.000 Energy:   -0.62404 a.u.                                                                  \n",
      "               (   1 C   1p0 :    -0.16) (   1 C   2p0 :    -0.28) (   2 O   1p0 :    -0.15)                              \n",
      "               (   2 O   2p0 :    -0.24) (   2 O   3p0 :    -0.21) (   3 H   2s  :     0.16)                              \n",
      "               (   4 H   2s  :    -0.16)                                                                                  \n",
      "                                                                                                                          \n",
      "               Molecular Orbital No.   7:                                                                                 \n",
      "               --------------------------                                                                                 \n",
      "               Occupation: 2.000 Energy:   -0.58893 a.u.                                                                  \n",
      "               (   1 C   2p+1:    -0.22) (   1 C   2p-1:    -0.19) (   2 O   1p+1:     0.17)                              \n",
      "               (   2 O   2p+1:     0.27) (   2 O   3p+1:     0.24) (   5 H   2s  :    -0.18)                              \n",
      "                                                                                                                          \n",
      "               Molecular Orbital No.   8:                                                                                 \n",
      "               --------------------------                                                                                 \n",
      "               Occupation: 2.000 Energy:   -0.49695 a.u.                                                                  \n",
      "               (   1 C   2p-1:    -0.22) (   2 O   4s  :     0.19) (   2 O   1p-1:     0.18)                              \n",
      "               (   2 O   2p-1:     0.27) (   2 O   3p+1:    -0.16) (   2 O   3p-1:     0.28)                              \n",
      "               (   5 H   2s  :    -0.21)                                                                                  \n",
      "                                                                                                                          \n",
      "               Molecular Orbital No.   9:                                                                                 \n",
      "               --------------------------                                                                                 \n",
      "               Occupation: 2.000 Energy:   -0.44892 a.u.                                                                  \n",
      "               (   1 C   2p0 :     0.17) (   2 O   1p0 :    -0.25) (   2 O   2p0 :    -0.38)                              \n",
      "               (   2 O   3p0 :    -0.44) (   3 H   2s  :    -0.20) (   4 H   2s  :     0.20)                              \n",
      "                                                                                                                          \n",
      "               Molecular Orbital No.  10:                                                                                 \n",
      "               --------------------------                                                                                 \n",
      "               Occupation: 0.000 Energy:    0.14983 a.u.                                                                  \n",
      "               (   1 C   4s  :     1.60) (   1 C   3p+1:     0.27) (   1 C   3p-1:    -0.16)                              \n",
      "               (   2 O   4s  :     0.43) (   2 O   3p+1:    -0.19) (   3 H   3s  :    -0.78)                              \n",
      "               (   4 H   3s  :    -0.78) (   5 H   3s  :    -0.40) (   6 H   3s  :    -0.93)                              \n",
      "                                                                                                                          \n",
      "               Molecular Orbital No.  11:                                                                                 \n",
      "               --------------------------                                                                                 \n",
      "               Occupation: 0.000 Energy:    0.18420 a.u.                                                                  \n",
      "               (   1 C   4s  :     1.38) (   1 C   3p-1:     0.21) (   2 O   4s  :    -0.63)                              \n",
      "               (   2 O   3p-1:     0.22) (   3 H   3s  :    -0.65) (   4 H   3s  :    -0.65)                              \n",
      "               (   5 H   3s  :    -1.00) (   6 H   3s  :     1.16)                                                        \n",
      "                                                                                                                          \n",
      "               Molecular Orbital No.  12:                                                                                 \n",
      "               --------------------------                                                                                 \n",
      "               Occupation: 0.000 Energy:    0.22217 a.u.                                                                  \n",
      "               (   1 C   3p0 :    -1.14) (   3 H   3s  :    -1.91) (   4 H   3s  :     1.91)                              \n",
      "                                                                                                                          \n",
      "               Molecular Orbital No.  13:                                                                                 \n",
      "               --------------------------                                                                                 \n",
      "               Occupation: 0.000 Energy:    0.22898 a.u.                                                                  \n",
      "               (   1 C   3p+1:     0.24) (   1 C   3p-1:     1.13) (   2 O   4s  :     0.24)                              \n",
      "               (   3 H   3s  :     1.07) (   4 H   3s  :     1.07) (   5 H   3s  :    -2.16)                              \n",
      "               (   6 H   3s  :    -0.24)                                                                                  \n",
      "                                                                                                                          \n",
      "               Molecular Orbital No.  14:                                                                                 \n",
      "               --------------------------                                                                                 \n",
      "               Occupation: 0.000 Energy:    0.33559 a.u.                                                                  \n",
      "               (   1 C   4s  :    -0.63) (   1 C   3p+1:     1.80) (   1 C   3p-1:    -0.30)                              \n",
      "               (   2 O   4s  :     1.02) (   2 O   2p+1:     0.17) (   2 O   3p+1:     0.83)                              \n",
      "               (   3 H   2s  :    -0.19) (   3 H   3s  :    -0.37) (   4 H   2s  :    -0.19)                              \n",
      "               (   4 H   3s  :    -0.37) (   5 H   2s  :    -0.19) (   5 H   3s  :     0.19)                              \n",
      "               (   6 H   3s  :     0.95)                                                                                  \n",
      "                                                                                                                          \n"
     ]
    }
   ],
   "source": [
    "molecule = vlx.Molecule.from_xyz_string(methanol_xyz)\n",
    "basis = vlx.MolecularBasis.read(molecule, \"6-311G\")\n",
    "scf_gs = vlx.ScfRestrictedDriver()\n",
    "scf_results = scf_gs.compute(molecule, basis)"
   ]
  },
  {
   "cell_type": "markdown",
   "id": "adc729f2",
   "metadata": {},
   "source": [
    "## Looking at MOs"
   ]
  },
  {
   "cell_type": "code",
   "execution_count": 13,
   "id": "e124b044",
   "metadata": {},
   "outputs": [
    {
     "data": {
      "application/vnd.jupyter.widget-view+json": {
       "model_id": "b6ab0e60c0134acc83ed996466f293b3",
       "version_major": 2,
       "version_minor": 0
      },
      "text/plain": [
       "Output()"
      ]
     },
     "metadata": {},
     "output_type": "display_data"
    },
    {
     "data": {
      "application/vnd.jupyter.widget-view+json": {
       "model_id": "7f38ef7817594644b947ac89960c91e2",
       "version_major": 2,
       "version_minor": 0
      },
      "text/plain": [
       "Dropdown(description='Orbital:', index=8, options=(('  1 occ=2.000 ene=-20.551', 0), ('  2 occ=2.000 ene=-11.2…"
      ]
     },
     "metadata": {},
     "output_type": "display_data"
    }
   ],
   "source": [
    "viewer = vlx.OrbitalViewer()\n",
    "viewer.plot(molecule, basis, scf_gs.mol_orbs)"
   ]
  },
  {
   "cell_type": "markdown",
   "id": "ff93158a",
   "metadata": {},
   "source": [
    "## With KS-DFT\n",
    "\n",
    "Using B3LYP/6-311G."
   ]
  },
  {
   "cell_type": "code",
   "execution_count": 14,
   "id": "0d535079",
   "metadata": {
    "tags": [
     "remove-output"
    ]
   },
   "outputs": [
    {
     "name": "stdout",
     "output_type": "stream",
     "text": [
      "* Info * Reading basis set from file: /home/thomas/Notebook/anaconda/envs/echem_test/lib/python3.9/site-packages/veloxchem/basis/6-311G\n",
      "                                                                                                                          \n",
      "                                              Molecular Basis (Atomic Basis)                                              \n",
      "                                             ================================                                             \n",
      "                                                                                                                          \n",
      "                               Basis: 6-311G                                                                              \n",
      "                                                                                                                          \n",
      "                               Atom Contracted GTOs           Primitive GTOs                                              \n",
      "                                                                                                                          \n",
      "                                O   (4S,3P)                   (11S,5P)                                                    \n",
      "                                H   (3S)                      (5S)                                                        \n",
      "                                C   (4S,3P)                   (11S,5P)                                                    \n",
      "                                                                                                                          \n",
      "                               Contracted Basis Functions : 38                                                            \n",
      "                               Primitive Basis Functions  : 72                                                            \n",
      "                                                                                                                          \n",
      "                                                                                                                          \n",
      "                                            Self Consistent Field Driver Setup                                            \n",
      "                                           ====================================                                           \n",
      "                                                                                                                          \n",
      "                   Wave Function Model             : Spin-Restricted Kohn-Sham                                            \n",
      "                   Initial Guess Model             : Superposition of Atomic Densities                                    \n",
      "                   Convergence Accelerator         : Two Level Direct Inversion of Iterative Subspace                     \n",
      "                   Max. Number of Iterations       : 50                                                                   \n",
      "                   Max. Number of Error Vectors    : 10                                                                   \n",
      "                   Convergence Threshold           : 1.0e-06                                                              \n",
      "                   ERI Screening Scheme            : Cauchy Schwarz + Density                                             \n",
      "                   ERI Screening Mode              : Dynamic                                                              \n",
      "                   ERI Screening Threshold         : 1.0e-12                                                              \n",
      "                   Linear Dependence Threshold     : 1.0e-06                                                              \n",
      "                   Exchange-Correlation Functional : B3LYP                                                                \n",
      "                   Molecular Grid Level            : 4                                                                    \n",
      "                                                                                                                          \n",
      "* Info * Nuclear repulsion energy: 40.3876414915 a.u.                                                                     \n",
      "                                                                                                                          \n",
      "* Info * Molecular grid with 69198 points generated in 0.06 sec.                                                          \n",
      "                                                                                                                          \n",
      "* Info * Overlap matrix computed in 0.00 sec.                                                                             \n",
      "                                                                                                                          \n",
      "* Info * Kinetic energy matrix computed in 0.00 sec.                                                                      \n",
      "                                                                                                                          \n",
      "* Info * Nuclear potential matrix computed in 0.00 sec.                                                                   \n",
      "                                                                                                                          \n",
      "* Info * Orthogonalization matrix computed in 0.00 sec.                                                                   \n",
      "                                                                                                                          \n",
      "* Info * SAD initial guess computed in 0.01 sec.                                                                          \n",
      "                                                                                                                          \n",
      "* Info * Starting Reduced Basis SCF calculation...                                                                        \n",
      "* Info * ...done. SCF energy in reduced basis set: -115.018998678691 a.u. Time: 0.43 sec.                                 \n",
      "                                                                                                                          \n",
      "* Info * Overlap matrix computed in 0.00 sec.                                                                             \n",
      "                                                                                                                          \n",
      "* Info * Kinetic energy matrix computed in 0.00 sec.                                                                      \n",
      "                                                                                                                          \n",
      "* Info * Nuclear potential matrix computed in 0.01 sec.                                                                   \n",
      "                                                                                                                          \n",
      "* Info * Orthogonalization matrix computed in 0.00 sec.                                                                   \n",
      "                                                                                                                          \n",
      "                                                                                                                          \n",
      "               Iter. |    Kohn-Sham Energy | Energy Change | Gradient Norm | Max. Gradient | Density Change               \n",
      "               --------------------------------------------------------------------------------------------               \n",
      "                  1      -115.713150732976    0.0000000000      0.12085020      0.01859742      0.00000000                \n",
      "                  2      -115.713342172530   -0.0001914396      0.10614251      0.01811133      0.05090422                \n",
      "                  3      -115.714737456396   -0.0013952839      0.00512887      0.00084606      0.02616924                \n",
      "                  4      -115.714740212452   -0.0000027561      0.00196975      0.00031940      0.00139658                \n",
      "                  5      -115.714740513368   -0.0000003009      0.00045330      0.00007842      0.00048595                \n",
      "                  6      -115.714740532640   -0.0000000193      0.00002704      0.00000285      0.00011334                \n"
     ]
    },
    {
     "name": "stdout",
     "output_type": "stream",
     "text": [
      "                  7      -115.714740532777   -0.0000000001      0.00000266      0.00000038      0.00001594                \n",
      "                  8      -115.714740532778   -0.0000000000      0.00000036      0.00000006      0.00000160                \n",
      "                                                                                                                          \n",
      "               *** SCF converged in 8 iterations. Time: 4.11 sec.                                                         \n",
      "                                                                                                                          \n",
      "               Spin-Restricted Kohn-Sham:                                                                                 \n",
      "               --------------------------                                                                                 \n",
      "               Total Energy                       :     -115.7147405328 a.u.                                              \n",
      "               Electronic Energy                  :     -156.1023820242 a.u.                                              \n",
      "               Nuclear Repulsion Energy           :       40.3876414915 a.u.                                              \n",
      "               ------------------------------------                                                                       \n",
      "               Gradient Norm                      :        0.0000003567 a.u.                                              \n",
      "                                                                                                                          \n",
      "                                                                                                                          \n",
      "               Ground State Information                                                                                   \n",
      "               ------------------------                                                                                   \n",
      "               Charge of Molecule            :  0.0                                                                       \n",
      "               Multiplicity (2S+1)           :  1.0                                                                       \n",
      "               Magnetic Quantum Number (M_S) :  0.0                                                                       \n",
      "                                                                                                                          \n",
      "                                                                                                                          \n",
      "                                                 Spin Restricted Orbitals                                                 \n",
      "                                                 ------------------------                                                 \n",
      "                                                                                                                          \n",
      "               Molecular Orbital No.   5:                                                                                 \n",
      "               --------------------------                                                                                 \n",
      "               Occupation: 2.000 Energy:   -0.51277 a.u.                                                                  \n",
      "               (   1 C   2p+1:    -0.18) (   1 C   2p-1:     0.16) (   2 O   2p+1:     0.21)                              \n",
      "               (   2 O   2p-1:     0.21) (   6 H   2s  :    -0.17)                                                        \n",
      "                                                                                                                          \n",
      "               Molecular Orbital No.   6:                                                                                 \n",
      "               --------------------------                                                                                 \n",
      "               Occupation: 2.000 Energy:   -0.44766 a.u.                                                                  \n",
      "               (   1 C   1p0 :    -0.19) (   1 C   2p0 :    -0.30) (   1 C   3p0 :    -0.18)                              \n",
      "               (   2 O   2p0 :    -0.17) (   3 H   2s  :     0.16) (   4 H   2s  :    -0.16)                              \n",
      "                                                                                                                          \n",
      "               Molecular Orbital No.   7:                                                                                 \n",
      "               --------------------------                                                                                 \n",
      "               Occupation: 2.000 Energy:   -0.42871 a.u.                                                                  \n",
      "               (   1 C   1p-1:     0.15) (   1 C   2p+1:     0.18) (   1 C   2p-1:     0.23)                              \n",
      "               (   1 C   3p-1:     0.18) (   2 O   2p+1:    -0.22) (   2 O   3p+1:    -0.18)                              \n",
      "               (   5 H   1s  :     0.16) (   5 H   2s  :     0.18)                                                        \n",
      "                                                                                                                          \n",
      "               Molecular Orbital No.   8:                                                                                 \n",
      "               --------------------------                                                                                 \n",
      "               Occupation: 2.000 Energy:   -0.32928 a.u.                                                                  \n",
      "               (   1 C   2p-1:    -0.17) (   2 O   3s  :     0.19) (   2 O   4s  :     0.26)                              \n",
      "               (   2 O   1p-1:     0.20) (   2 O   2p-1:     0.29) (   2 O   3p+1:    -0.18)                              \n",
      "               (   2 O   3p-1:     0.28) (   5 H   2s  :    -0.18)                                                        \n",
      "                                                                                                                          \n",
      "               Molecular Orbital No.   9:                                                                                 \n",
      "               --------------------------                                                                                 \n",
      "               Occupation: 2.000 Energy:   -0.27098 a.u.                                                                  \n",
      "               (   2 O   1p0 :     0.28) (   2 O   2p0 :     0.40) (   2 O   3p0 :     0.46)                              \n",
      "               (   3 H   2s  :     0.18) (   4 H   2s  :    -0.18)                                                        \n",
      "                                                                                                                          \n",
      "               Molecular Orbital No.  10:                                                                                 \n",
      "               --------------------------                                                                                 \n",
      "               Occupation: 0.000 Energy:    0.03243 a.u.                                                                  \n",
      "               (   1 C   4s  :     1.08) (   1 C   3p+1:     0.34) (   2 O   4s  :     0.65)                              \n",
      "               (   2 O   3p-1:    -0.24) (   3 H   3s  :    -0.53) (   4 H   3s  :    -0.53)                              \n",
      "               (   5 H   3s  :    -0.27) (   6 H   3s  :    -0.99)                                                        \n",
      "                                                                                                                          \n",
      "               Molecular Orbital No.  11:                                                                                 \n",
      "               --------------------------                                                                                 \n",
      "               Occupation: 0.000 Energy:    0.06892 a.u.                                                                  \n",
      "               (   1 C   3s  :     0.21) (   1 C   4s  :     1.74) (   2 O   4s  :    -0.61)                              \n",
      "               (   2 O   3p-1:     0.20) (   3 H   3s  :    -0.82) (   4 H   3s  :    -0.82)                              \n",
      "               (   5 H   3s  :    -0.85) (   6 H   3s  :     0.75)                                                        \n",
      "                                                                                                                          \n",
      "               Molecular Orbital No.  12:                                                                                 \n",
      "               --------------------------                                                                                 \n",
      "               Occupation: 0.000 Energy:    0.11136 a.u.                                                                  \n",
      "               (   1 C   1p0 :    -0.18) (   1 C   2p0 :    -0.24) (   1 C   3p0 :    -1.09)                              \n",
      "               (   3 H   3s  :    -1.74) (   4 H   3s  :     1.74)                                                        \n",
      "                                                                                                                          \n",
      "               Molecular Orbital No.  13:                                                                                 \n",
      "               --------------------------                                                                                 \n",
      "               Occupation: 0.000 Energy:    0.11440 a.u.                                                                  \n",
      "               (   1 C   1p-1:     0.17) (   1 C   2p-1:     0.23) (   1 C   3p+1:     0.36)                              \n",
      "               (   1 C   3p-1:     1.09) (   2 O   4s  :     0.22) (   3 H   3s  :     0.90)                              \n",
      "               (   4 H   3s  :     0.90) (   5 H   3s  :    -2.00)                                                        \n",
      "                                                                                                                          \n",
      "               Molecular Orbital No.  14:                                                                                 \n",
      "               --------------------------                                                                                 \n",
      "               Occupation: 0.000 Energy:    0.17758 a.u.                                                                  \n",
      "               (   1 C   4s  :    -0.53) (   1 C   2p+1:     0.21) (   1 C   3p+1:     1.53)                              \n",
      "               (   1 C   3p-1:    -0.41) (   2 O   4s  :     0.77) (   2 O   1p+1:     0.18)                              \n",
      "               (   2 O   2p+1:     0.23) (   2 O   3p+1:     0.79) (   2 O   3p-1:     0.18)                              \n",
      "               (   3 H   2s  :    -0.19) (   3 H   3s  :    -0.44) (   4 H   2s  :    -0.19)                              \n",
      "               (   4 H   3s  :    -0.44) (   5 H   3s  :     0.33) (   6 H   3s  :     0.93)                              \n",
      "                                                                                                                          \n"
     ]
    }
   ],
   "source": [
    "molecule = vlx.Molecule.from_xyz_string(methanol_xyz)\n",
    "basis = vlx.MolecularBasis.read(molecule, \"6-311G\")\n",
    "scf_gs = vlx.ScfRestrictedDriver()\n",
    "scf_gs.xcfun = 'b3lyp'\n",
    "scf_results = scf_gs.compute(molecule, basis)"
   ]
  },
  {
   "cell_type": "code",
   "execution_count": 15,
   "id": "08412f4c",
   "metadata": {},
   "outputs": [
    {
     "data": {
      "application/vnd.jupyter.widget-view+json": {
       "model_id": "578b561f2479481681fa369ee02fd70c",
       "version_major": 2,
       "version_minor": 0
      },
      "text/plain": [
       "Output()"
      ]
     },
     "metadata": {},
     "output_type": "display_data"
    },
    {
     "data": {
      "application/vnd.jupyter.widget-view+json": {
       "model_id": "298c96535d7d45e4b8bcc38d4ba810a7",
       "version_major": 2,
       "version_minor": 0
      },
      "text/plain": [
       "Dropdown(description='Orbital:', index=8, options=(('  1 occ=2.000 ene=-19.112', 0), ('  2 occ=2.000 ene=-10.2…"
      ]
     },
     "metadata": {},
     "output_type": "display_data"
    }
   ],
   "source": [
    "viewer = vlx.OrbitalViewer()\n",
    "viewer.plot(molecule, basis, scf_gs.mol_orbs)"
   ]
  },
  {
   "cell_type": "code",
   "execution_count": null,
   "id": "5e93b84a",
   "metadata": {},
   "outputs": [],
   "source": []
  }
 ],
 "metadata": {
  "celltoolbar": "Tags",
  "kernelspec": {
   "display_name": "Python 3 (ipykernel)",
   "language": "python",
   "name": "python3"
  },
  "language_info": {
   "codemirror_mode": {
    "name": "ipython",
    "version": 3
   },
   "file_extension": ".py",
   "mimetype": "text/x-python",
   "name": "python",
   "nbconvert_exporter": "python",
   "pygments_lexer": "ipython3",
   "version": "3.9.15"
  }
 },
 "nbformat": 4,
 "nbformat_minor": 5
}
