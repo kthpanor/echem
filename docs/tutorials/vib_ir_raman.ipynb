{
 "cells": [
  {
   "cell_type": "markdown",
   "id": "9755b725",
   "metadata": {
    "editable": true,
    "slideshow": {
     "slide_type": ""
    },
    "tags": []
   },
   "source": [
    "(sec:raman-tutorial)=\n",
    "# Raman spectroscopy\n",
    "\n",
    "The Raman scattering process involves the inelasic scattering of light in the visible range, leaving the molecule in a different vibrational state. The associated scattering amplitude is related to the transition polarizability tensor $\\boldsymbol{\\alpha}$, as discussed in more details [here](dipole_mom_gradient:label). In the case of normal Raman scattering described using the harmonic approximation for molecular vibrations, the transition polarizability associated to a normal mode $k$ depends on the derivative of the electronic polarizability with respect to the normal coordinate $Q_k$. As a consequence, only modes along which the polarizability changes will be Raman active."
   ]
  },
  {
   "cell_type": "markdown",
   "id": "c369c966-6da4-4e75-b8ea-326553f6eb12",
   "metadata": {
    "editable": true,
    "slideshow": {
     "slide_type": ""
    },
    "tags": []
   },
   "source": [
    "## Spectrum calculation\n",
    "\n",
    "Here, we will calculate the Raman spectra of H$_2$O, NH$_3$ and CH$_4$ and determine how going from O over N to C influences the vibrational frequencies of the Hydrogen stretching modes."
   ]
  },
  {
   "cell_type": "code",
   "execution_count": 1,
   "id": "1f7e0b3e-a51e-46c6-8b50-b2b78ec9f417",
   "metadata": {
    "editable": true,
    "slideshow": {
     "slide_type": ""
    },
    "tags": [
     "remove-output"
    ]
   },
   "outputs": [
    {
     "name": "stdout",
     "output_type": "stream",
     "text": [
      "* Warning * Environment variable OMP_NUM_THREADS not set.\n",
      "* Warning * Setting OMP_NUM_THREADS to 4.\n"
     ]
    }
   ],
   "source": [
    "import veloxchem as vlx\n",
    "import py3Dmol as p3d\n",
    "from veloxchem.veloxchemlib import bohr_in_angstroms\n",
    "\n",
    "from matplotlib import pyplot as plt\n",
    "import numpy as np"
   ]
  },
  {
   "cell_type": "code",
   "execution_count": 2,
   "id": "89a89d0e-035f-4625-bf0d-b5478c65e42c",
   "metadata": {
    "editable": true,
    "slideshow": {
     "slide_type": ""
    },
    "tags": [
     "remove-output"
    ]
   },
   "outputs": [],
   "source": [
    "basis_set_label = '6-31G'"
   ]
  },
  {
   "cell_type": "markdown",
   "id": "36bdaede-a46e-4639-baf8-9ebd184e2fcf",
   "metadata": {
    "editable": true,
    "slideshow": {
     "slide_type": ""
    },
    "tags": []
   },
   "source": [
    "To compute a meaningful Raman spectrum, the molecular geometries must be optimized at the same level of theory and using the same basis set. Let us assume that we have optimized the geometries at the HF/6-31G theory level and we have these geometries stored in xyz files. Otherwise, we would start by performing the necessary geometry optimizations."
   ]
  },
  {
   "cell_type": "code",
   "execution_count": 3,
   "id": "7ff201a0-0f1e-43e3-acde-8f2dfda5d6c5",
   "metadata": {
    "editable": true,
    "scrolled": true,
    "slideshow": {
     "slide_type": ""
    },
    "tags": [
     "remove-output"
    ]
   },
   "outputs": [],
   "source": [
    "# Prepare molecules and basis sets\n",
    "\n",
    "# Read optimized geometry from file\n",
    "h2o_xyz = open(\"../../data/ir_raman/opt_h2o.xyz\", \"r\").read()\n",
    "nh3_xyz = open(\"../../data/ir_raman/opt_nh3.xyz\", \"r\").read()\n",
    "ch4_xyz = open(\"../../data/ir_raman/opt_ch4.xyz\", \"r\").read()\n",
    "\n",
    "h2o = vlx.Molecule.read_xyz_string(h2o_xyz)\n",
    "h2o_basis = vlx.MolecularBasis.read(h2o, basis_set_label, ostream=None)\n",
    "\n",
    "nh3 = vlx.Molecule.read_xyz_string(nh3_xyz)\n",
    "nh3_basis = vlx.MolecularBasis.read(nh3, basis_set_label, ostream=None)\n",
    "\n",
    "ch4 = vlx.Molecule.read_xyz_string(ch4_xyz)\n",
    "ch4_basis = vlx.MolecularBasis.read(ch4, basis_set_label, ostream=None)"
   ]
  },
  {
   "cell_type": "code",
   "execution_count": 4,
   "id": "f39f6542-e09d-4717-b31d-75af6adc824e",
   "metadata": {
    "editable": true,
    "slideshow": {
     "slide_type": ""
    },
    "tags": [
     "remove-input"
    ]
   },
   "outputs": [
    {
     "name": "stdout",
     "output_type": "stream",
     "text": [
      "\n",
      "       (a) H2O                   (b) NH3                  (c) CH4\n"
     ]
    },
    {
     "data": {
      "application/3dmoljs_load.v0": "<div id=\"3dmolviewer_1709218549614485\"  style=\"position: relative; width: 600px; height: 250px;\">\n        <p id=\"3dmolwarning_1709218549614485\" style=\"background-color:#ffcccc;color:black\">You appear to be running in JupyterLab (or JavaScript failed to load for some other reason).  You need to install the 3dmol extension: <br>\n        <tt>jupyter labextension install jupyterlab_3dmol</tt></p>\n        </div>\n<script>\n\nvar loadScriptAsync = function(uri){\n  return new Promise((resolve, reject) => {\n    //this is to ignore the existence of requirejs amd\n    var savedexports, savedmodule;\n    if (typeof exports !== 'undefined') savedexports = exports;\n    else exports = {}\n    if (typeof module !== 'undefined') savedmodule = module;\n    else module = {}\n\n    var tag = document.createElement('script');\n    tag.src = uri;\n    tag.async = true;\n    tag.onload = () => {\n        exports = savedexports;\n        module = savedmodule;\n        resolve();\n    };\n  var firstScriptTag = document.getElementsByTagName('script')[0];\n  firstScriptTag.parentNode.insertBefore(tag, firstScriptTag);\n});\n};\n\nif(typeof $3Dmolpromise === 'undefined') {\n$3Dmolpromise = null;\n  $3Dmolpromise = loadScriptAsync('https://cdnjs.cloudflare.com/ajax/libs/3Dmol/2.0.4/3Dmol-min.js');\n}\n\nvar viewer_1709218549614485 = null;\nvar warn = document.getElementById(\"3dmolwarning_1709218549614485\");\nif(warn) {\n    warn.parentNode.removeChild(warn);\n}\n$3Dmolpromise.then(function() {\nvar viewergrid_1709218549614485 = null;\nviewergrid_1709218549614485 = $3Dmol.createViewerGrid(document.getElementById(\"3dmolviewer_1709218549614485\"),{rows: 1, cols: 3, control_all: true},{backgroundColor:\"white\"});\nviewer_1709218549614485 = viewergrid_1709218549614485[0][0];\nviewergrid_1709218549614485[0][0].zoomTo();viewergrid_1709218549614485[0][1].zoomTo();viewergrid_1709218549614485[0][2].zoomTo();\tviewergrid_1709218549614485[0][0].addModel(\"3\\nHF/6-31G\\nO       0.0308991       0.0228758      -0.0161623\\nH       0.2572697       0.8975361       0.2762831\\nH       0.5960312      -0.2658119      -0.7226208\\n\",\"xyz\");\n\tviewergrid_1709218549614485[0][1].addModel(\"4\\nHF/6-31G\\nN       0.0961758       0.0137254       0.1108604\\nH      -0.4973546       0.2946055       0.8535526\\nH       0.7093592       0.7070993      -0.2441077\\nH       0.4632196      -0.9053302       0.1689946\\n\",\"xyz\");\n\tviewergrid_1709218549614485[0][2].addModel(\"5\\nHF/6-31G\\nC      -0.0000199       0.0000199       0.0000000\\nH       0.5489997       0.7922034       0.4919110\\nH       0.6769972      -0.8058792      -0.2512524\\nH      -0.7710148      -0.3700500       0.6629997\\nH      -0.4550622       0.3838059      -0.9036583\\n\",\"xyz\");\n\tviewergrid_1709218549614485[0][0].setViewStyle({\"style\": \"outline\", \"width\": 0.05});\n\tviewergrid_1709218549614485[0][1].setViewStyle({\"style\": \"outline\", \"width\": 0.05});\n\tviewergrid_1709218549614485[0][2].setViewStyle({\"style\": \"outline\", \"width\": 0.05});\n\tviewergrid_1709218549614485[0][0].setStyle({\"stick\": {}, \"sphere\": {\"scale\": 0.25}});\n\tviewergrid_1709218549614485[0][1].setStyle({\"stick\": {}, \"sphere\": {\"scale\": 0.25}});\n\tviewergrid_1709218549614485[0][2].setStyle({\"stick\": {}, \"sphere\": {\"scale\": 0.25}});\nviewergrid_1709218549614485[0][2].render();\nviewergrid_1709218549614485[0][1].render();\nviewergrid_1709218549614485[0][0].render();\n});\n</script>",
      "text/html": [
       "<div id=\"3dmolviewer_1709218549614485\"  style=\"position: relative; width: 600px; height: 250px;\">\n",
       "        <p id=\"3dmolwarning_1709218549614485\" style=\"background-color:#ffcccc;color:black\">You appear to be running in JupyterLab (or JavaScript failed to load for some other reason).  You need to install the 3dmol extension: <br>\n",
       "        <tt>jupyter labextension install jupyterlab_3dmol</tt></p>\n",
       "        </div>\n",
       "<script>\n",
       "\n",
       "var loadScriptAsync = function(uri){\n",
       "  return new Promise((resolve, reject) => {\n",
       "    //this is to ignore the existence of requirejs amd\n",
       "    var savedexports, savedmodule;\n",
       "    if (typeof exports !== 'undefined') savedexports = exports;\n",
       "    else exports = {}\n",
       "    if (typeof module !== 'undefined') savedmodule = module;\n",
       "    else module = {}\n",
       "\n",
       "    var tag = document.createElement('script');\n",
       "    tag.src = uri;\n",
       "    tag.async = true;\n",
       "    tag.onload = () => {\n",
       "        exports = savedexports;\n",
       "        module = savedmodule;\n",
       "        resolve();\n",
       "    };\n",
       "  var firstScriptTag = document.getElementsByTagName('script')[0];\n",
       "  firstScriptTag.parentNode.insertBefore(tag, firstScriptTag);\n",
       "});\n",
       "};\n",
       "\n",
       "if(typeof $3Dmolpromise === 'undefined') {\n",
       "$3Dmolpromise = null;\n",
       "  $3Dmolpromise = loadScriptAsync('https://cdnjs.cloudflare.com/ajax/libs/3Dmol/2.0.4/3Dmol-min.js');\n",
       "}\n",
       "\n",
       "var viewer_1709218549614485 = null;\n",
       "var warn = document.getElementById(\"3dmolwarning_1709218549614485\");\n",
       "if(warn) {\n",
       "    warn.parentNode.removeChild(warn);\n",
       "}\n",
       "$3Dmolpromise.then(function() {\n",
       "var viewergrid_1709218549614485 = null;\n",
       "viewergrid_1709218549614485 = $3Dmol.createViewerGrid(document.getElementById(\"3dmolviewer_1709218549614485\"),{rows: 1, cols: 3, control_all: true},{backgroundColor:\"white\"});\n",
       "viewer_1709218549614485 = viewergrid_1709218549614485[0][0];\n",
       "viewergrid_1709218549614485[0][0].zoomTo();viewergrid_1709218549614485[0][1].zoomTo();viewergrid_1709218549614485[0][2].zoomTo();\tviewergrid_1709218549614485[0][0].addModel(\"3\\nHF/6-31G\\nO       0.0308991       0.0228758      -0.0161623\\nH       0.2572697       0.8975361       0.2762831\\nH       0.5960312      -0.2658119      -0.7226208\\n\",\"xyz\");\n",
       "\tviewergrid_1709218549614485[0][1].addModel(\"4\\nHF/6-31G\\nN       0.0961758       0.0137254       0.1108604\\nH      -0.4973546       0.2946055       0.8535526\\nH       0.7093592       0.7070993      -0.2441077\\nH       0.4632196      -0.9053302       0.1689946\\n\",\"xyz\");\n",
       "\tviewergrid_1709218549614485[0][2].addModel(\"5\\nHF/6-31G\\nC      -0.0000199       0.0000199       0.0000000\\nH       0.5489997       0.7922034       0.4919110\\nH       0.6769972      -0.8058792      -0.2512524\\nH      -0.7710148      -0.3700500       0.6629997\\nH      -0.4550622       0.3838059      -0.9036583\\n\",\"xyz\");\n",
       "\tviewergrid_1709218549614485[0][0].setViewStyle({\"style\": \"outline\", \"width\": 0.05});\n",
       "\tviewergrid_1709218549614485[0][1].setViewStyle({\"style\": \"outline\", \"width\": 0.05});\n",
       "\tviewergrid_1709218549614485[0][2].setViewStyle({\"style\": \"outline\", \"width\": 0.05});\n",
       "\tviewergrid_1709218549614485[0][0].setStyle({\"stick\": {}, \"sphere\": {\"scale\": 0.25}});\n",
       "\tviewergrid_1709218549614485[0][1].setStyle({\"stick\": {}, \"sphere\": {\"scale\": 0.25}});\n",
       "\tviewergrid_1709218549614485[0][2].setStyle({\"stick\": {}, \"sphere\": {\"scale\": 0.25}});\n",
       "viewergrid_1709218549614485[0][2].render();\n",
       "viewergrid_1709218549614485[0][1].render();\n",
       "viewergrid_1709218549614485[0][0].render();\n",
       "});\n",
       "</script>"
      ]
     },
     "metadata": {},
     "output_type": "display_data"
    }
   ],
   "source": [
    "print(\"\\n       (a) H2O                   (b) NH3                  (c) CH4\")\n",
    "viewer = p3d.view(viewergrid=(1,3),width=600,height=250, linked=True)\n",
    "viewer.addModel(h2o_xyz, 'xyz', viewer=(0,0))\n",
    "viewer.addModel(nh3_xyz, 'xyz', viewer=(0,1))\n",
    "viewer.addModel(ch4_xyz, 'xyz', viewer=(0,2))\n",
    "viewer.setViewStyle({\"style\": \"outline\", \"width\": 0.05})\n",
    "viewer.setStyle({\"stick\":{},\"sphere\": {\"scale\":0.25}})\n",
    "viewer.show()"
   ]
  },
  {
   "cell_type": "markdown",
   "id": "04cd0ea9-d262-457a-ab16-9697c1f0a214",
   "metadata": {
    "editable": true,
    "slideshow": {
     "slide_type": ""
    },
    "tags": []
   },
   "source": [
    "To compute the Raman spectrum, we need the vibrational frequencies and Raman activities. The frequencies are eigenvalues of the molecular Hessian, while the Raman activities are proportional to the gradient of the polarizability. The first step is to determine the Hessian matrix."
   ]
  },
  {
   "cell_type": "code",
   "execution_count": 6,
   "id": "39c3b8f3-6cf4-4b60-85d2-2a3dee8edcf6",
   "metadata": {
    "editable": true,
    "scrolled": true,
    "slideshow": {
     "slide_type": ""
    },
    "tags": [
     "remove-output"
    ]
   },
   "outputs": [],
   "source": [
    "# Settings:\n",
    "method_settings = {}\n",
    "\n",
    "# Numerical Hessian\n",
    "vib_settings = {'do_raman': 'yes', 'print_depolarization_ratio':'yes'}\n",
    "\n",
    "# We first need to run SCF calculations:\n",
    "h2o_scf_drv = vlx.ScfRestrictedDriver()\n",
    "h2o_scf_drv.ostream.mute()\n",
    "h2o_results = h2o_scf_drv.compute(h2o, h2o_basis)\n",
    "\n",
    "nh3_scf_drv = vlx.ScfRestrictedDriver()\n",
    "nh3_scf_drv.ostream.mute()\n",
    "nh3_results = nh3_scf_drv.compute(nh3, nh3_basis)\n",
    "\n",
    "ch4_scf_drv = vlx.ScfRestrictedDriver()\n",
    "ch4_scf_drv.ostream.mute()\n",
    "ch4_results = ch4_scf_drv.compute(ch4, ch4_basis)"
   ]
  },
  {
   "cell_type": "code",
   "execution_count": 7,
   "id": "485690dc-663a-4d28-8fce-7efdbe2fd165",
   "metadata": {
    "editable": true,
    "slideshow": {
     "slide_type": ""
    },
    "tags": []
   },
   "outputs": [],
   "source": [
    "# Create a Hessian driver object, update settings, and compute \n",
    "h2o_vibanalysis_drv = vlx.VibrationalAnalysis(h2o_scf_drv)\n",
    "h2o_vibanalysis_drv.update_settings(method_settings, vib_settings)\n",
    "\n",
    "nh3_vibanalysis_drv = vlx.VibrationalAnalysis(nh3_scf_drv)\n",
    "nh3_vibanalysis_drv.update_settings(method_settings, vib_settings)\n",
    "\n",
    "ch4_vibanalysis_drv = vlx.VibrationalAnalysis(ch4_scf_drv)\n",
    "ch4_vibanalysis_drv.update_settings(method_settings, vib_settings)"
   ]
  },
  {
   "cell_type": "code",
   "execution_count": null,
   "id": "f8187342-d242-435b-b6d0-19b9e99fc57e",
   "metadata": {
    "editable": true,
    "slideshow": {
     "slide_type": ""
    },
    "tags": []
   },
   "outputs": [],
   "source": [
    "# Calculate hessians from scratch\n",
    "h2o_results = h2o_vibanalysis_drv.compute(h2o, h2o_basis, h2o_scf_drv)\n",
    "nh3_results = nh3_vibanalysis_drv.compute(nh3, nh3_basis, nh3_scf_drv)\n",
    "ch4_results = ch4_vibanalysis_drv.compute(ch4, ch4_basis, ch4_scf_drv)"
   ]
  },
  {
   "cell_type": "code",
   "execution_count": 12,
   "id": "01084e99-5840-44d0-b9d7-9f83cc38142f",
   "metadata": {
    "editable": true,
    "slideshow": {
     "slide_type": ""
    },
    "tags": []
   },
   "outputs": [],
   "source": [
    "def add_broadening(list_ex_energy, list_osci_strength, line_profile='Lorentzian', line_param=10, step=10):\n",
    "        x_min = np.amin(list_ex_energy) - 50\n",
    "        x_max = np.amax(list_ex_energy) + 50\n",
    "        x = np.arange(x_min, x_max, step)\n",
    "        y = np.zeros((len(x)))\n",
    "\n",
    "        # go through the frames and calculate the spectrum for each frame\n",
    "        for xp in range(len(x)):\n",
    "            for e, f in zip(list_ex_energy, list_osci_strength):\n",
    "                if line_profile == 'Gaussian':\n",
    "                    y[xp] += f * np.exp(-(\n",
    "                        (e - x[xp]) / line_param)**2)\n",
    "                elif line_profile == 'Lorentzian':\n",
    "                    y[xp] += 0.5 * line_param * f / (np.pi * (\n",
    "                        (x[xp] - e)**2 + 0.25 * line_param**2))\n",
    "        return x, y"
   ]
  },
  {
   "cell_type": "code",
   "execution_count": 13,
   "id": "831b3511-02f4-4c6e-804a-3cfc9385e20d",
   "metadata": {
    "editable": true,
    "slideshow": {
     "slide_type": ""
    },
    "tags": []
   },
   "outputs": [
    {
     "data": {
      "image/png": "[encoded data removed]",
      "text/plain": [
       "<Figure size 600x400 with 1 Axes>"
      ]
     },
     "metadata": {},
     "output_type": "display_data"
    }
   ],
   "source": [
    "# plot the Raman spectra\n",
    "plt.figure(figsize=(6,4))\n",
    "\n",
    "freq = 0\n",
    "\n",
    "h2o_x,h2o_y = h2o_vibanalysis_drv.vib_frequencies, h2o_vibanalysis_drv.raman_activities[freq]\n",
    "nh3_x,nh3_y = nh3_vibanalysis_drv.vib_frequencies, nh3_vibanalysis_drv.raman_activities[freq]\n",
    "ch4_x,ch4_y = ch4_vibanalysis_drv.vib_frequencies, ch4_vibanalysis_drv.raman_activities[freq]\n",
    "\n",
    "h2o_xl, h2o_yl = add_broadening(h2o_x, h2o_y, line_profile='Lorentzian', line_param=10, step=10)\n",
    "nh3_xl, nh3_yl = add_broadening(nh3_x, nh3_y, line_profile='Lorentzian', line_param=10, step=10)\n",
    "ch4_xl, ch4_yl = add_broadening(ch4_x, ch4_y, line_profile='Lorentzian', line_param=10, step=10)\n",
    "\n",
    "plt.plot(h2o_xl, h2o_yl, label='H2O')\n",
    "plt.plot(nh3_xl, nh3_yl, label='NH3')\n",
    "plt.plot(ch4_xl, ch4_yl, label='CH4')\n",
    "\n",
    "plt.xlabel('Wavenumber (cm**-1)')\n",
    "plt.ylabel('Raman activity (A**4/amu)')\n",
    "plt.title(\"Calculated Raman sepctra of H2O, NH3, CH4\")\n",
    "plt.legend()\n",
    "plt.tight_layout(); plt.show()"
   ]
  },
  {
   "cell_type": "markdown",
   "id": "6eac9fad-a7ae-4247-b665-22ef5b212d04",
   "metadata": {
    "editable": true,
    "slideshow": {
     "slide_type": ""
    },
    "tags": []
   },
   "source": [
    "Let's compare the H-stretching modes:"
   ]
  },
  {
   "cell_type": "code",
   "execution_count": 14,
   "id": "84cff38c-2a29-493c-814b-2170a0667cd9",
   "metadata": {
    "editable": true,
    "slideshow": {
     "slide_type": ""
    },
    "tags": []
   },
   "outputs": [],
   "source": [
    "# To animate the normal mode we will need both the geometry and the displacements \n",
    "def get_normal_mode(molecule, normal_mode):\n",
    "    elements = molecule.get_labels()\n",
    "    coords = molecule.get_coordinates_in_angstrom()\n",
    "    natm = molecule.number_of_atoms()\n",
    "    vib_xyz = \"%d\\n\\n\" % natm\n",
    "    nm = normal_mode.reshape(natm, 3)\n",
    "    \n",
    "    for i in range(natm):\n",
    "        # add coordinates:\n",
    "        vib_xyz += elements[i] + \" %15.7f %15.7f %15.7f \" % (coords[i,0], coords[i,1], coords[i,2])\n",
    "        # add displacements:\n",
    "        vib_xyz += \"%15.7f %15.7f %15.7f\\n\" % (nm[i,0], nm[i,1], nm[i,2])\n",
    "    return vib_xyz"
   ]
  },
  {
   "cell_type": "code",
   "execution_count": 15,
   "id": "6d4d0fbf-ce1e-48eb-a96d-b3cfbbfd8feb",
   "metadata": {
    "editable": true,
    "slideshow": {
     "slide_type": ""
    },
    "tags": []
   },
   "outputs": [],
   "source": [
    "h2o_h1 = get_normal_mode(h2o, h2o_vibanalysis_drv.normal_modes[-2])\n",
    "h2o_h2 = get_normal_mode(h2o, h2o_vibanalysis_drv.normal_modes[-1])\n",
    "\n",
    "nh3_h1 = get_normal_mode(nh3, nh3_vibanalysis_drv.normal_modes[-3])\n",
    "nh3_h2 = get_normal_mode(nh3, nh3_vibanalysis_drv.normal_modes[-2])\n",
    "nh3_h3 = get_normal_mode(nh3, nh3_vibanalysis_drv.normal_modes[-1])\n",
    "\n",
    "ch4_h1 = get_normal_mode(ch4, ch4_vibanalysis_drv.normal_modes[-4])\n",
    "ch4_h2 = get_normal_mode(ch4, ch4_vibanalysis_drv.normal_modes[-3])\n",
    "ch4_h3 = get_normal_mode(ch4, ch4_vibanalysis_drv.normal_modes[-2])\n",
    "ch4_h4 = get_normal_mode(ch4, ch4_vibanalysis_drv.normal_modes[-1])"
   ]
  },
  {
   "cell_type": "code",
   "execution_count": 16,
   "id": "7f763995-8941-4d56-bf27-40c77742e4d2",
   "metadata": {
    "editable": true,
    "slideshow": {
     "slide_type": ""
    },
    "tags": []
   },
   "outputs": [
    {
     "name": "stdout",
     "output_type": "stream",
     "text": [
      "These are the two H stretching modes of H2O.\n"
     ]
    },
    {
     "data": {
      "application/3dmoljs_load.v0": "<div id=\"3dmolviewer_1709218771328832\"  style=\"position: relative; width: 300px; height: 200px;\">\n        <p id=\"3dmolwarning_1709218771328832\" style=\"background-color:#ffcccc;color:black\">You appear to be running in JupyterLab (or JavaScript failed to load for some other reason).  You need to install the 3dmol extension: <br>\n        <tt>jupyter labextension install jupyterlab_3dmol</tt></p>\n        </div>\n<script>\n\nvar loadScriptAsync = function(uri){\n  return new Promise((resolve, reject) => {\n    //this is to ignore the existence of requirejs amd\n    var savedexports, savedmodule;\n    if (typeof exports !== 'undefined') savedexports = exports;\n    else exports = {}\n    if (typeof module !== 'undefined') savedmodule = module;\n    else module = {}\n\n    var tag = document.createElement('script');\n    tag.src = uri;\n    tag.async = true;\n    tag.onload = () => {\n        exports = savedexports;\n        module = savedmodule;\n        resolve();\n    };\n  var firstScriptTag = document.getElementsByTagName('script')[0];\n  firstScriptTag.parentNode.insertBefore(tag, firstScriptTag);\n});\n};\n\nif(typeof $3Dmolpromise === 'undefined') {\n$3Dmolpromise = null;\n  $3Dmolpromise = loadScriptAsync('https://cdnjs.cloudflare.com/ajax/libs/3Dmol/2.0.4/3Dmol-min.js');\n}\n\nvar viewer_1709218771328832 = null;\nvar warn = document.getElementById(\"3dmolwarning_1709218771328832\");\nif(warn) {\n    warn.parentNode.removeChild(warn);\n}\n$3Dmolpromise.then(function() {\nvar viewergrid_1709218771328832 = null;\nviewergrid_1709218771328832 = $3Dmol.createViewerGrid(document.getElementById(\"3dmolviewer_1709218771328832\"),{rows: 1, cols: 2, control_all: true},{backgroundColor:\"white\"});\nviewer_1709218771328832 = viewergrid_1709218771328832[0][0];\nviewergrid_1709218771328832[0][0].zoomTo();viewergrid_1709218771328832[0][1].zoomTo();\tviewergrid_1709218771328832[0][0].addModel(\"3\\n\\nO       0.0308991       0.0228758      -0.0161623       0.0327104       0.0242160      -0.0171102\\nH       0.2572697       0.8975361       0.2762831      -0.1272754      -0.6466085      -0.2543954\\nH       0.5960312      -0.2658119      -0.7226208      -0.3919305       0.2622324       0.5259818\\n\",\"xyz\",{\"vibrate\": {\"frames\": 10, \"amplitude\": 0.75}});\n\tviewergrid_1709218771328832[0][1].addModel(\"3\\n\\nO       0.0308991       0.0228758      -0.0161623       0.0158485      -0.0544267      -0.0467330\\nH       0.2572697       0.8975361       0.2762831       0.1681040       0.6495275       0.2171716\\nH       0.5960312      -0.2658119      -0.7226208      -0.4196642       0.2143779       0.5246124\\n\",\"xyz\",{\"vibrate\": {\"frames\": 10, \"amplitude\": 0.75}});\n\tviewergrid_1709218771328832[0][0].setViewStyle({\"style\": \"outline\", \"width\": 0.05});\n\tviewergrid_1709218771328832[0][1].setViewStyle({\"style\": \"outline\", \"width\": 0.05});\n\tviewergrid_1709218771328832[0][0].setStyle({\"stick\": {}, \"sphere\": {\"scale\": 0.25}});\n\tviewergrid_1709218771328832[0][1].setStyle({\"stick\": {}, \"sphere\": {\"scale\": 0.25}});\n\tviewergrid_1709218771328832[0][0].animate({\"loop\": \"backAndForth\"});\n\tviewergrid_1709218771328832[0][1].animate({\"loop\": \"backAndForth\"});\n\tviewergrid_1709218771328832[0][0].rotate(120,\"x\");\n\tviewergrid_1709218771328832[0][1].rotate(120,\"x\");\n\tviewergrid_1709218771328832[0][0].zoomTo();\n\tviewergrid_1709218771328832[0][1].zoomTo();\nviewergrid_1709218771328832[0][1].render();\nviewergrid_1709218771328832[0][0].render();\n});\n</script>",
      "text/html": [
       "<div id=\"3dmolviewer_1709218771328832\"  style=\"position: relative; width: 300px; height: 200px;\">\n",
       "        <p id=\"3dmolwarning_1709218771328832\" style=\"background-color:#ffcccc;color:black\">You appear to be running in JupyterLab (or JavaScript failed to load for some other reason).  You need to install the 3dmol extension: <br>\n",
       "        <tt>jupyter labextension install jupyterlab_3dmol</tt></p>\n",
       "        </div>\n",
       "<script>\n",
       "\n",
       "var loadScriptAsync = function(uri){\n",
       "  return new Promise((resolve, reject) => {\n",
       "    //this is to ignore the existence of requirejs amd\n",
       "    var savedexports, savedmodule;\n",
       "    if (typeof exports !== 'undefined') savedexports = exports;\n",
       "    else exports = {}\n",
       "    if (typeof module !== 'undefined') savedmodule = module;\n",
       "    else module = {}\n",
       "\n",
       "    var tag = document.createElement('script');\n",
       "    tag.src = uri;\n",
       "    tag.async = true;\n",
       "    tag.onload = () => {\n",
       "        exports = savedexports;\n",
       "        module = savedmodule;\n",
       "        resolve();\n",
       "    };\n",
       "  var firstScriptTag = document.getElementsByTagName('script')[0];\n",
       "  firstScriptTag.parentNode.insertBefore(tag, firstScriptTag);\n",
       "});\n",
       "};\n",
       "\n",
       "if(typeof $3Dmolpromise === 'undefined') {\n",
       "$3Dmolpromise = null;\n",
       "  $3Dmolpromise = loadScriptAsync('https://cdnjs.cloudflare.com/ajax/libs/3Dmol/2.0.4/3Dmol-min.js');\n",
       "}\n",
       "\n",
       "var viewer_1709218771328832 = null;\n",
       "var warn = document.getElementById(\"3dmolwarning_1709218771328832\");\n",
       "if(warn) {\n",
       "    warn.parentNode.removeChild(warn);\n",
       "}\n",
       "$3Dmolpromise.then(function() {\n",
       "var viewergrid_1709218771328832 = null;\n",
       "viewergrid_1709218771328832 = $3Dmol.createViewerGrid(document.getElementById(\"3dmolviewer_1709218771328832\"),{rows: 1, cols: 2, control_all: true},{backgroundColor:\"white\"});\n",
       "viewer_1709218771328832 = viewergrid_1709218771328832[0][0];\n",
       "viewergrid_1709218771328832[0][0].zoomTo();viewergrid_1709218771328832[0][1].zoomTo();\tviewergrid_1709218771328832[0][0].addModel(\"3\\n\\nO       0.0308991       0.0228758      -0.0161623       0.0327104       0.0242160      -0.0171102\\nH       0.2572697       0.8975361       0.2762831      -0.1272754      -0.6466085      -0.2543954\\nH       0.5960312      -0.2658119      -0.7226208      -0.3919305       0.2622324       0.5259818\\n\",\"xyz\",{\"vibrate\": {\"frames\": 10, \"amplitude\": 0.75}});\n",
       "\tviewergrid_1709218771328832[0][1].addModel(\"3\\n\\nO       0.0308991       0.0228758      -0.0161623       0.0158485      -0.0544267      -0.0467330\\nH       0.2572697       0.8975361       0.2762831       0.1681040       0.6495275       0.2171716\\nH       0.5960312      -0.2658119      -0.7226208      -0.4196642       0.2143779       0.5246124\\n\",\"xyz\",{\"vibrate\": {\"frames\": 10, \"amplitude\": 0.75}});\n",
       "\tviewergrid_1709218771328832[0][0].setViewStyle({\"style\": \"outline\", \"width\": 0.05});\n",
       "\tviewergrid_1709218771328832[0][1].setViewStyle({\"style\": \"outline\", \"width\": 0.05});\n",
       "\tviewergrid_1709218771328832[0][0].setStyle({\"stick\": {}, \"sphere\": {\"scale\": 0.25}});\n",
       "\tviewergrid_1709218771328832[0][1].setStyle({\"stick\": {}, \"sphere\": {\"scale\": 0.25}});\n",
       "\tviewergrid_1709218771328832[0][0].animate({\"loop\": \"backAndForth\"});\n",
       "\tviewergrid_1709218771328832[0][1].animate({\"loop\": \"backAndForth\"});\n",
       "\tviewergrid_1709218771328832[0][0].rotate(120,\"x\");\n",
       "\tviewergrid_1709218771328832[0][1].rotate(120,\"x\");\n",
       "\tviewergrid_1709218771328832[0][0].zoomTo();\n",
       "\tviewergrid_1709218771328832[0][1].zoomTo();\n",
       "viewergrid_1709218771328832[0][1].render();\n",
       "viewergrid_1709218771328832[0][0].render();\n",
       "});\n",
       "</script>"
      ]
     },
     "metadata": {},
     "output_type": "display_data"
    }
   ],
   "source": [
    "print(\"These are the two H stretching modes of H2O.\")\n",
    "view = p3d.view(viewergrid=(1,2), width=300, height=200, linked=True)\n",
    "view.addModel(h2o_h1, \"xyz\", {'vibrate': {'frames':10,'amplitude':0.75}}, viewer=(0,0))\n",
    "view.addModel(h2o_h2, \"xyz\", {'vibrate': {'frames':10,'amplitude':0.75}}, viewer=(0,1))\n",
    "\n",
    "view.setViewStyle({\"style\": \"outline\", \"width\": 0.05})\n",
    "view.setStyle({\"stick\":{},\"sphere\": {\"scale\":0.25}})\n",
    "view.animate({'loop': 'backAndForth'})\n",
    "view.rotate(120, \"x\")\n",
    "view.zoomTo()\n",
    "view.show()"
   ]
  },
  {
   "cell_type": "code",
   "execution_count": 17,
   "id": "02a8093a-96cf-4e68-98a1-4e08b06accb8",
   "metadata": {
    "editable": true,
    "slideshow": {
     "slide_type": ""
    },
    "tags": []
   },
   "outputs": [
    {
     "name": "stdout",
     "output_type": "stream",
     "text": [
      "These are the three H stretching modes of NH3.\n"
     ]
    },
    {
     "data": {
      "application/3dmoljs_load.v0": "<div id=\"3dmolviewer_1709218776124009\"  style=\"position: relative; width: 600px; height: 200px;\">\n        <p id=\"3dmolwarning_1709218776124009\" style=\"background-color:#ffcccc;color:black\">You appear to be running in JupyterLab (or JavaScript failed to load for some other reason).  You need to install the 3dmol extension: <br>\n        <tt>jupyter labextension install jupyterlab_3dmol</tt></p>\n        </div>\n<script>\n\nvar loadScriptAsync = function(uri){\n  return new Promise((resolve, reject) => {\n    //this is to ignore the existence of requirejs amd\n    var savedexports, savedmodule;\n    if (typeof exports !== 'undefined') savedexports = exports;\n    else exports = {}\n    if (typeof module !== 'undefined') savedmodule = module;\n    else module = {}\n\n    var tag = document.createElement('script');\n    tag.src = uri;\n    tag.async = true;\n    tag.onload = () => {\n        exports = savedexports;\n        module = savedmodule;\n        resolve();\n    };\n  var firstScriptTag = document.getElementsByTagName('script')[0];\n  firstScriptTag.parentNode.insertBefore(tag, firstScriptTag);\n});\n};\n\nif(typeof $3Dmolpromise === 'undefined') {\n$3Dmolpromise = null;\n  $3Dmolpromise = loadScriptAsync('https://cdnjs.cloudflare.com/ajax/libs/3Dmol/2.0.4/3Dmol-min.js');\n}\n\nvar viewer_1709218776124009 = null;\nvar warn = document.getElementById(\"3dmolwarning_1709218776124009\");\nif(warn) {\n    warn.parentNode.removeChild(warn);\n}\n$3Dmolpromise.then(function() {\nvar viewergrid_1709218776124009 = null;\nviewergrid_1709218776124009 = $3Dmol.createViewerGrid(document.getElementById(\"3dmolviewer_1709218776124009\"),{rows: 1, cols: 3, control_all: true},{backgroundColor:\"white\"});\nviewer_1709218776124009 = viewergrid_1709218776124009[0][0];\nviewergrid_1709218776124009[0][0].zoomTo();viewergrid_1709218776124009[0][1].zoomTo();viewergrid_1709218776124009[0][2].zoomTo();\tviewergrid_1709218776124009[0][0].addModel(\"4\\n\\nN       0.0961758       0.0137254       0.1108604       0.0122338       0.0017465       0.0141058\\nH      -0.4973546       0.2946055       0.8535526       0.3677203      -0.1622822      -0.4143243\\nH       0.7093592       0.7070993      -0.2441077      -0.3411583      -0.4045994       0.2304919\\nH       0.4632196      -0.9053302       0.1689946      -0.1965639       0.5426122      -0.0121830\\n\",\"xyz\",{\"vibrate\": {\"frames\": 10, \"amplitude\": 0.75}});\n\tviewergrid_1709218776124009[0][1].addModel(\"4\\n\\nN       0.0961758       0.0137254       0.1108604      -0.0517684       0.0535694       0.0382671\\nH      -0.4973546       0.2946055       0.8535526       0.4485282      -0.2013363      -0.5554093\\nH       0.7093592       0.7070993      -0.2441077       0.0378593       0.0728610      -0.0207532\\nH       0.4632196      -0.9053302       0.1689946       0.2329879      -0.6159262       0.0444015\\n\",\"xyz\",{\"vibrate\": {\"frames\": 10, \"amplitude\": 0.75}});\n\tviewergrid_1709218776124009[0][2].addModel(\"4\\n\\nN       0.0961758       0.0137254       0.1108604       0.0367296       0.0639023      -0.0397672\\nH      -0.4973546       0.2946055       0.8535526      -0.1983012       0.1137341       0.2440004\\nH       0.7093592       0.7070993      -0.2441077      -0.4994233      -0.5645995       0.2943155\\nH       0.4632196      -0.9053302       0.1689946       0.1873284      -0.4371236       0.0142899\\n\",\"xyz\",{\"vibrate\": {\"frames\": 10, \"amplitude\": 0.75}});\n\tviewergrid_1709218776124009[0][0].setViewStyle({\"style\": \"outline\", \"width\": 0.05});\n\tviewergrid_1709218776124009[0][1].setViewStyle({\"style\": \"outline\", \"width\": 0.05});\n\tviewergrid_1709218776124009[0][2].setViewStyle({\"style\": \"outline\", \"width\": 0.05});\n\tviewergrid_1709218776124009[0][0].setStyle({\"stick\": {}, \"sphere\": {\"scale\": 0.25}});\n\tviewergrid_1709218776124009[0][1].setStyle({\"stick\": {}, \"sphere\": {\"scale\": 0.25}});\n\tviewergrid_1709218776124009[0][2].setStyle({\"stick\": {}, \"sphere\": {\"scale\": 0.25}});\n\tviewergrid_1709218776124009[0][0].animate({\"loop\": \"backAndForth\"});\n\tviewergrid_1709218776124009[0][1].animate({\"loop\": \"backAndForth\"});\n\tviewergrid_1709218776124009[0][2].animate({\"loop\": \"backAndForth\"});\n\tviewergrid_1709218776124009[0][0].rotate(90,\"x\");\n\tviewergrid_1709218776124009[0][1].rotate(90,\"x\");\n\tviewergrid_1709218776124009[0][2].rotate(90,\"x\");\n\tviewergrid_1709218776124009[0][0].zoomTo();\n\tviewergrid_1709218776124009[0][1].zoomTo();\n\tviewergrid_1709218776124009[0][2].zoomTo();\nviewergrid_1709218776124009[0][2].render();\nviewergrid_1709218776124009[0][1].render();\nviewergrid_1709218776124009[0][0].render();\n});\n</script>",
      "text/html": [
       "<div id=\"3dmolviewer_1709218776124009\"  style=\"position: relative; width: 600px; height: 200px;\">\n",
       "        <p id=\"3dmolwarning_1709218776124009\" style=\"background-color:#ffcccc;color:black\">You appear to be running in JupyterLab (or JavaScript failed to load for some other reason).  You need to install the 3dmol extension: <br>\n",
       "        <tt>jupyter labextension install jupyterlab_3dmol</tt></p>\n",
       "        </div>\n",
       "<script>\n",
       "\n",
       "var loadScriptAsync = function(uri){\n",
       "  return new Promise((resolve, reject) => {\n",
       "    //this is to ignore the existence of requirejs amd\n",
       "    var savedexports, savedmodule;\n",
       "    if (typeof exports !== 'undefined') savedexports = exports;\n",
       "    else exports = {}\n",
       "    if (typeof module !== 'undefined') savedmodule = module;\n",
       "    else module = {}\n",
       "\n",
       "    var tag = document.createElement('script');\n",
       "    tag.src = uri;\n",
       "    tag.async = true;\n",
       "    tag.onload = () => {\n",
       "        exports = savedexports;\n",
       "        module = savedmodule;\n",
       "        resolve();\n",
       "    };\n",
       "  var firstScriptTag = document.getElementsByTagName('script')[0];\n",
       "  firstScriptTag.parentNode.insertBefore(tag, firstScriptTag);\n",
       "});\n",
       "};\n",
       "\n",
       "if(typeof $3Dmolpromise === 'undefined') {\n",
       "$3Dmolpromise = null;\n",
       "  $3Dmolpromise = loadScriptAsync('https://cdnjs.cloudflare.com/ajax/libs/3Dmol/2.0.4/3Dmol-min.js');\n",
       "}\n",
       "\n",
       "var viewer_1709218776124009 = null;\n",
       "var warn = document.getElementById(\"3dmolwarning_1709218776124009\");\n",
       "if(warn) {\n",
       "    warn.parentNode.removeChild(warn);\n",
       "}\n",
       "$3Dmolpromise.then(function() {\n",
       "var viewergrid_1709218776124009 = null;\n",
       "viewergrid_1709218776124009 = $3Dmol.createViewerGrid(document.getElementById(\"3dmolviewer_1709218776124009\"),{rows: 1, cols: 3, control_all: true},{backgroundColor:\"white\"});\n",
       "viewer_1709218776124009 = viewergrid_1709218776124009[0][0];\n",
       "viewergrid_1709218776124009[0][0].zoomTo();viewergrid_1709218776124009[0][1].zoomTo();viewergrid_1709218776124009[0][2].zoomTo();\tviewergrid_1709218776124009[0][0].addModel(\"4\\n\\nN       0.0961758       0.0137254       0.1108604       0.0122338       0.0017465       0.0141058\\nH      -0.4973546       0.2946055       0.8535526       0.3677203      -0.1622822      -0.4143243\\nH       0.7093592       0.7070993      -0.2441077      -0.3411583      -0.4045994       0.2304919\\nH       0.4632196      -0.9053302       0.1689946      -0.1965639       0.5426122      -0.0121830\\n\",\"xyz\",{\"vibrate\": {\"frames\": 10, \"amplitude\": 0.75}});\n",
       "\tviewergrid_1709218776124009[0][1].addModel(\"4\\n\\nN       0.0961758       0.0137254       0.1108604      -0.0517684       0.0535694       0.0382671\\nH      -0.4973546       0.2946055       0.8535526       0.4485282      -0.2013363      -0.5554093\\nH       0.7093592       0.7070993      -0.2441077       0.0378593       0.0728610      -0.0207532\\nH       0.4632196      -0.9053302       0.1689946       0.2329879      -0.6159262       0.0444015\\n\",\"xyz\",{\"vibrate\": {\"frames\": 10, \"amplitude\": 0.75}});\n",
       "\tviewergrid_1709218776124009[0][2].addModel(\"4\\n\\nN       0.0961758       0.0137254       0.1108604       0.0367296       0.0639023      -0.0397672\\nH      -0.4973546       0.2946055       0.8535526      -0.1983012       0.1137341       0.2440004\\nH       0.7093592       0.7070993      -0.2441077      -0.4994233      -0.5645995       0.2943155\\nH       0.4632196      -0.9053302       0.1689946       0.1873284      -0.4371236       0.0142899\\n\",\"xyz\",{\"vibrate\": {\"frames\": 10, \"amplitude\": 0.75}});\n",
       "\tviewergrid_1709218776124009[0][0].setViewStyle({\"style\": \"outline\", \"width\": 0.05});\n",
       "\tviewergrid_1709218776124009[0][1].setViewStyle({\"style\": \"outline\", \"width\": 0.05});\n",
       "\tviewergrid_1709218776124009[0][2].setViewStyle({\"style\": \"outline\", \"width\": 0.05});\n",
       "\tviewergrid_1709218776124009[0][0].setStyle({\"stick\": {}, \"sphere\": {\"scale\": 0.25}});\n",
       "\tviewergrid_1709218776124009[0][1].setStyle({\"stick\": {}, \"sphere\": {\"scale\": 0.25}});\n",
       "\tviewergrid_1709218776124009[0][2].setStyle({\"stick\": {}, \"sphere\": {\"scale\": 0.25}});\n",
       "\tviewergrid_1709218776124009[0][0].animate({\"loop\": \"backAndForth\"});\n",
       "\tviewergrid_1709218776124009[0][1].animate({\"loop\": \"backAndForth\"});\n",
       "\tviewergrid_1709218776124009[0][2].animate({\"loop\": \"backAndForth\"});\n",
       "\tviewergrid_1709218776124009[0][0].rotate(90,\"x\");\n",
       "\tviewergrid_1709218776124009[0][1].rotate(90,\"x\");\n",
       "\tviewergrid_1709218776124009[0][2].rotate(90,\"x\");\n",
       "\tviewergrid_1709218776124009[0][0].zoomTo();\n",
       "\tviewergrid_1709218776124009[0][1].zoomTo();\n",
       "\tviewergrid_1709218776124009[0][2].zoomTo();\n",
       "viewergrid_1709218776124009[0][2].render();\n",
       "viewergrid_1709218776124009[0][1].render();\n",
       "viewergrid_1709218776124009[0][0].render();\n",
       "});\n",
       "</script>"
      ]
     },
     "metadata": {},
     "output_type": "display_data"
    }
   ],
   "source": [
    "print(\"These are the three H stretching modes of NH3.\")\n",
    "view = p3d.view(viewergrid=(1,3), width=600, height=200, linked=True)\n",
    "view.addModel(nh3_h1, \"xyz\", {'vibrate': {'frames':10,'amplitude':0.75}}, viewer=(0,0))\n",
    "view.addModel(nh3_h2, \"xyz\", {'vibrate': {'frames':10,'amplitude':0.75}}, viewer=(0,1))\n",
    "view.addModel(nh3_h3, \"xyz\", {'vibrate': {'frames':10,'amplitude':0.75}}, viewer=(0,2))\n",
    "\n",
    "view.setViewStyle({\"style\": \"outline\", \"width\": 0.05})\n",
    "view.setStyle({\"stick\":{},\"sphere\": {\"scale\":0.25}})\n",
    "view.animate({'loop': 'backAndForth'})\n",
    "view.rotate(90, \"x\")\n",
    "view.zoomTo()\n",
    "view.show()"
   ]
  },
  {
   "cell_type": "code",
   "execution_count": 18,
   "id": "1cd0822e-692d-4323-b1ca-81b6cf6af4ef",
   "metadata": {
    "editable": true,
    "slideshow": {
     "slide_type": ""
    },
    "tags": []
   },
   "outputs": [
    {
     "name": "stdout",
     "output_type": "stream",
     "text": [
      "These are the four H stretching modes of CH4.\n"
     ]
    },
    {
     "data": {
      "application/3dmoljs_load.v0": "<div id=\"3dmolviewer_17092187774902232\"  style=\"position: relative; width: 600px; height: 200px;\">\n        <p id=\"3dmolwarning_17092187774902232\" style=\"background-color:#ffcccc;color:black\">You appear to be running in JupyterLab (or JavaScript failed to load for some other reason).  You need to install the 3dmol extension: <br>\n        <tt>jupyter labextension install jupyterlab_3dmol</tt></p>\n        </div>\n<script>\n\nvar loadScriptAsync = function(uri){\n  return new Promise((resolve, reject) => {\n    //this is to ignore the existence of requirejs amd\n    var savedexports, savedmodule;\n    if (typeof exports !== 'undefined') savedexports = exports;\n    else exports = {}\n    if (typeof module !== 'undefined') savedmodule = module;\n    else module = {}\n\n    var tag = document.createElement('script');\n    tag.src = uri;\n    tag.async = true;\n    tag.onload = () => {\n        exports = savedexports;\n        module = savedmodule;\n        resolve();\n    };\n  var firstScriptTag = document.getElementsByTagName('script')[0];\n  firstScriptTag.parentNode.insertBefore(tag, firstScriptTag);\n});\n};\n\nif(typeof $3Dmolpromise === 'undefined') {\n$3Dmolpromise = null;\n  $3Dmolpromise = loadScriptAsync('https://cdnjs.cloudflare.com/ajax/libs/3Dmol/2.0.4/3Dmol-min.js');\n}\n\nvar viewer_17092187774902232 = null;\nvar warn = document.getElementById(\"3dmolwarning_17092187774902232\");\nif(warn) {\n    warn.parentNode.removeChild(warn);\n}\n$3Dmolpromise.then(function() {\nvar viewergrid_17092187774902232 = null;\nviewergrid_17092187774902232 = $3Dmol.createViewerGrid(document.getElementById(\"3dmolviewer_17092187774902232\"),{rows: 1, cols: 4, control_all: true},{backgroundColor:\"white\"});\nviewer_17092187774902232 = viewergrid_17092187774902232[0][0];\nviewergrid_17092187774902232[0][0].zoomTo();viewergrid_17092187774902232[0][1].zoomTo();viewergrid_17092187774902232[0][2].zoomTo();viewergrid_17092187774902232[0][3].zoomTo();\tviewergrid_17092187774902232[0][0].addModel(\"5\\n\\nC      -0.0000199       0.0000199       0.0000000      -0.0000001      -0.0000000      -0.0000002\\nH       0.5489997       0.7922034       0.4919110       0.2536819       0.3660389       0.2272940\\nH       0.6769972      -0.8058792      -0.2512524       0.3128238      -0.3723751      -0.1160942\\nH      -0.7710148      -0.3700500       0.6629997      -0.3562480      -0.1709954       0.3063473\\nH      -0.4550622       0.3838059      -0.9036583      -0.2102569       0.1773321      -0.4175443\\n\",\"xyz\",{\"vibrate\": {\"frames\": 10, \"amplitude\": 0.75}});\n\tviewergrid_17092187774902232[0][1].addModel(\"5\\n\\nC      -0.0000199       0.0000199       0.0000000      -0.0340235      -0.0610143       0.0584425\\nH       0.5489997       0.7922034       0.4919110       0.1655323       0.2357191       0.1716460\\nH       0.6769972      -0.8058792      -0.2512524      -0.0733168       0.0606392       0.0392300\\nH      -0.7710148      -0.3700500       0.6629997       0.5516666       0.2530706      -0.4667356\\nH      -0.4550622       0.3838059      -0.9036583      -0.2384727       0.1775919      -0.4405166\\n\",\"xyz\",{\"vibrate\": {\"frames\": 10, \"amplitude\": 0.75}});\n\tviewergrid_17092187774902232[0][2].addModel(\"5\\n\\nC      -0.0000199       0.0000199       0.0000000      -0.0033071      -0.0619934      -0.0666468\\nH       0.5489997       0.7922034       0.4919110       0.3807778       0.5344139       0.3244610\\nH       0.6769972      -0.8058792      -0.2512524      -0.3633034       0.4151665       0.1170204\\nH      -0.7710148      -0.3700500       0.6629997      -0.1205617      -0.0737171       0.0854424\\nH      -0.4550622       0.3838059      -0.9036583       0.1424929      -0.1371759       0.2672108\\n\",\"xyz\",{\"vibrate\": {\"frames\": 10, \"amplitude\": 0.75}});\n\tviewergrid_17092187774902232[0][3].addModel(\"5\\n\\nC      -0.0000199       0.0000199       0.0000000      -0.0844238       0.0270177      -0.0209421\\nH       0.5489997       0.7922034       0.4919110       0.1385547       0.2389705       0.1384935\\nH       0.6769972      -0.8058792      -0.2512524       0.3920163      -0.4859212      -0.1591988\\nH      -0.7710148      -0.3700500       0.6629997       0.2416776       0.1337234      -0.2323672\\nH      -0.4550622       0.3838059      -0.9036583       0.2337092      -0.2087045       0.5026100\\n\",\"xyz\",{\"vibrate\": {\"frames\": 10, \"amplitude\": 0.75}});\n\tviewergrid_17092187774902232[0][0].setViewStyle({\"style\": \"outline\", \"width\": 0.05});\n\tviewergrid_17092187774902232[0][1].setViewStyle({\"style\": \"outline\", \"width\": 0.05});\n\tviewergrid_17092187774902232[0][2].setViewStyle({\"style\": \"outline\", \"width\": 0.05});\n\tviewergrid_17092187774902232[0][3].setViewStyle({\"style\": \"outline\", \"width\": 0.05});\n\tviewergrid_17092187774902232[0][0].setStyle({\"stick\": {}, \"sphere\": {\"scale\": 0.25}});\n\tviewergrid_17092187774902232[0][1].setStyle({\"stick\": {}, \"sphere\": {\"scale\": 0.25}});\n\tviewergrid_17092187774902232[0][2].setStyle({\"stick\": {}, \"sphere\": {\"scale\": 0.25}});\n\tviewergrid_17092187774902232[0][3].setStyle({\"stick\": {}, \"sphere\": {\"scale\": 0.25}});\n\tviewergrid_17092187774902232[0][0].animate({\"loop\": \"backAndForth\"});\n\tviewergrid_17092187774902232[0][1].animate({\"loop\": \"backAndForth\"});\n\tviewergrid_17092187774902232[0][2].animate({\"loop\": \"backAndForth\"});\n\tviewergrid_17092187774902232[0][3].animate({\"loop\": \"backAndForth\"});\n\tviewergrid_17092187774902232[0][0].zoomTo();\n\tviewergrid_17092187774902232[0][1].zoomTo();\n\tviewergrid_17092187774902232[0][2].zoomTo();\n\tviewergrid_17092187774902232[0][3].zoomTo();\nviewergrid_17092187774902232[0][3].render();\nviewergrid_17092187774902232[0][2].render();\nviewergrid_17092187774902232[0][1].render();\nviewergrid_17092187774902232[0][0].render();\n});\n</script>",
      "text/html": [
       "<div id=\"3dmolviewer_17092187774902232\"  style=\"position: relative; width: 600px; height: 200px;\">\n",
       "        <p id=\"3dmolwarning_17092187774902232\" style=\"background-color:#ffcccc;color:black\">You appear to be running in JupyterLab (or JavaScript failed to load for some other reason).  You need to install the 3dmol extension: <br>\n",
       "        <tt>jupyter labextension install jupyterlab_3dmol</tt></p>\n",
       "        </div>\n",
       "<script>\n",
       "\n",
       "var loadScriptAsync = function(uri){\n",
       "  return new Promise((resolve, reject) => {\n",
       "    //this is to ignore the existence of requirejs amd\n",
       "    var savedexports, savedmodule;\n",
       "    if (typeof exports !== 'undefined') savedexports = exports;\n",
       "    else exports = {}\n",
       "    if (typeof module !== 'undefined') savedmodule = module;\n",
       "    else module = {}\n",
       "\n",
       "    var tag = document.createElement('script');\n",
       "    tag.src = uri;\n",
       "    tag.async = true;\n",
       "    tag.onload = () => {\n",
       "        exports = savedexports;\n",
       "        module = savedmodule;\n",
       "        resolve();\n",
       "    };\n",
       "  var firstScriptTag = document.getElementsByTagName('script')[0];\n",
       "  firstScriptTag.parentNode.insertBefore(tag, firstScriptTag);\n",
       "});\n",
       "};\n",
       "\n",
       "if(typeof $3Dmolpromise === 'undefined') {\n",
       "$3Dmolpromise = null;\n",
       "  $3Dmolpromise = loadScriptAsync('https://cdnjs.cloudflare.com/ajax/libs/3Dmol/2.0.4/3Dmol-min.js');\n",
       "}\n",
       "\n",
       "var viewer_17092187774902232 = null;\n",
       "var warn = document.getElementById(\"3dmolwarning_17092187774902232\");\n",
       "if(warn) {\n",
       "    warn.parentNode.removeChild(warn);\n",
       "}\n",
       "$3Dmolpromise.then(function() {\n",
       "var viewergrid_17092187774902232 = null;\n",
       "viewergrid_17092187774902232 = $3Dmol.createViewerGrid(document.getElementById(\"3dmolviewer_17092187774902232\"),{rows: 1, cols: 4, control_all: true},{backgroundColor:\"white\"});\n",
       "viewer_17092187774902232 = viewergrid_17092187774902232[0][0];\n",
       "viewergrid_17092187774902232[0][0].zoomTo();viewergrid_17092187774902232[0][1].zoomTo();viewergrid_17092187774902232[0][2].zoomTo();viewergrid_17092187774902232[0][3].zoomTo();\tviewergrid_17092187774902232[0][0].addModel(\"5\\n\\nC      -0.0000199       0.0000199       0.0000000      -0.0000001      -0.0000000      -0.0000002\\nH       0.5489997       0.7922034       0.4919110       0.2536819       0.3660389       0.2272940\\nH       0.6769972      -0.8058792      -0.2512524       0.3128238      -0.3723751      -0.1160942\\nH      -0.7710148      -0.3700500       0.6629997      -0.3562480      -0.1709954       0.3063473\\nH      -0.4550622       0.3838059      -0.9036583      -0.2102569       0.1773321      -0.4175443\\n\",\"xyz\",{\"vibrate\": {\"frames\": 10, \"amplitude\": 0.75}});\n",
       "\tviewergrid_17092187774902232[0][1].addModel(\"5\\n\\nC      -0.0000199       0.0000199       0.0000000      -0.0340235      -0.0610143       0.0584425\\nH       0.5489997       0.7922034       0.4919110       0.1655323       0.2357191       0.1716460\\nH       0.6769972      -0.8058792      -0.2512524      -0.0733168       0.0606392       0.0392300\\nH      -0.7710148      -0.3700500       0.6629997       0.5516666       0.2530706      -0.4667356\\nH      -0.4550622       0.3838059      -0.9036583      -0.2384727       0.1775919      -0.4405166\\n\",\"xyz\",{\"vibrate\": {\"frames\": 10, \"amplitude\": 0.75}});\n",
       "\tviewergrid_17092187774902232[0][2].addModel(\"5\\n\\nC      -0.0000199       0.0000199       0.0000000      -0.0033071      -0.0619934      -0.0666468\\nH       0.5489997       0.7922034       0.4919110       0.3807778       0.5344139       0.3244610\\nH       0.6769972      -0.8058792      -0.2512524      -0.3633034       0.4151665       0.1170204\\nH      -0.7710148      -0.3700500       0.6629997      -0.1205617      -0.0737171       0.0854424\\nH      -0.4550622       0.3838059      -0.9036583       0.1424929      -0.1371759       0.2672108\\n\",\"xyz\",{\"vibrate\": {\"frames\": 10, \"amplitude\": 0.75}});\n",
       "\tviewergrid_17092187774902232[0][3].addModel(\"5\\n\\nC      -0.0000199       0.0000199       0.0000000      -0.0844238       0.0270177      -0.0209421\\nH       0.5489997       0.7922034       0.4919110       0.1385547       0.2389705       0.1384935\\nH       0.6769972      -0.8058792      -0.2512524       0.3920163      -0.4859212      -0.1591988\\nH      -0.7710148      -0.3700500       0.6629997       0.2416776       0.1337234      -0.2323672\\nH      -0.4550622       0.3838059      -0.9036583       0.2337092      -0.2087045       0.5026100\\n\",\"xyz\",{\"vibrate\": {\"frames\": 10, \"amplitude\": 0.75}});\n",
       "\tviewergrid_17092187774902232[0][0].setViewStyle({\"style\": \"outline\", \"width\": 0.05});\n",
       "\tviewergrid_17092187774902232[0][1].setViewStyle({\"style\": \"outline\", \"width\": 0.05});\n",
       "\tviewergrid_17092187774902232[0][2].setViewStyle({\"style\": \"outline\", \"width\": 0.05});\n",
       "\tviewergrid_17092187774902232[0][3].setViewStyle({\"style\": \"outline\", \"width\": 0.05});\n",
       "\tviewergrid_17092187774902232[0][0].setStyle({\"stick\": {}, \"sphere\": {\"scale\": 0.25}});\n",
       "\tviewergrid_17092187774902232[0][1].setStyle({\"stick\": {}, \"sphere\": {\"scale\": 0.25}});\n",
       "\tviewergrid_17092187774902232[0][2].setStyle({\"stick\": {}, \"sphere\": {\"scale\": 0.25}});\n",
       "\tviewergrid_17092187774902232[0][3].setStyle({\"stick\": {}, \"sphere\": {\"scale\": 0.25}});\n",
       "\tviewergrid_17092187774902232[0][0].animate({\"loop\": \"backAndForth\"});\n",
       "\tviewergrid_17092187774902232[0][1].animate({\"loop\": \"backAndForth\"});\n",
       "\tviewergrid_17092187774902232[0][2].animate({\"loop\": \"backAndForth\"});\n",
       "\tviewergrid_17092187774902232[0][3].animate({\"loop\": \"backAndForth\"});\n",
       "\tviewergrid_17092187774902232[0][0].zoomTo();\n",
       "\tviewergrid_17092187774902232[0][1].zoomTo();\n",
       "\tviewergrid_17092187774902232[0][2].zoomTo();\n",
       "\tviewergrid_17092187774902232[0][3].zoomTo();\n",
       "viewergrid_17092187774902232[0][3].render();\n",
       "viewergrid_17092187774902232[0][2].render();\n",
       "viewergrid_17092187774902232[0][1].render();\n",
       "viewergrid_17092187774902232[0][0].render();\n",
       "});\n",
       "</script>"
      ]
     },
     "metadata": {},
     "output_type": "display_data"
    }
   ],
   "source": [
    "print(\"These are the four H stretching modes of CH4.\")\n",
    "view = p3d.view(viewergrid=(1,4), width=600, height=200, linked=True)\n",
    "view.addModel(ch4_h1, \"xyz\", {'vibrate': {'frames':10,'amplitude':0.75}}, viewer=(0,0))\n",
    "view.addModel(ch4_h2, \"xyz\", {'vibrate': {'frames':10,'amplitude':0.75}}, viewer=(0,1))\n",
    "view.addModel(ch4_h3, \"xyz\", {'vibrate': {'frames':10,'amplitude':0.75}}, viewer=(0,2))\n",
    "view.addModel(ch4_h4, \"xyz\", {'vibrate': {'frames':10,'amplitude':0.75}}, viewer=(0,3))\n",
    "\n",
    "view.setViewStyle({\"style\": \"outline\", \"width\": 0.05})\n",
    "view.setStyle({\"stick\":{},\"sphere\": {\"scale\":0.25}})\n",
    "view.animate({'loop': 'backAndForth'})\n",
    "view.zoomTo()\n",
    "view.show()"
   ]
  }
 ],
 "metadata": {
  "celltoolbar": "Tags",
  "kernelspec": {
   "display_name": "Python 3 (ipykernel)",
   "language": "python",
   "name": "python3"
  },
  "language_info": {
   "codemirror_mode": {
    "name": "ipython",
    "version": 3
   },
   "file_extension": ".py",
   "mimetype": "text/x-python",
   "name": "python",
   "nbconvert_exporter": "python",
   "pygments_lexer": "ipython3",
   "version": "3.12.7"
  }
 },
 "nbformat": 4,
 "nbformat_minor": 5
}
