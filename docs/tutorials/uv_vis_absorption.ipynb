{
 "cells": [
  {
   "cell_type": "markdown",
   "metadata": {},
   "source": [
    "# Absorption\n",
    "\n",
    "This section currently focus on the calculation of absorption spectra, with vibrational effects to be added."
   ]
  },
  {
   "cell_type": "code",
   "execution_count": null,
   "metadata": {
    "tags": [
     "remove-output"
    ]
   },
   "outputs": [],
   "source": [
    "import gator\n",
    "import matplotlib.pyplot as plt\n",
    "import multipsi as mtp\n",
    "import numpy as np\n",
    "import py3Dmol as p3d\n",
    "import veloxchem as vlx\n",
    "from matplotlib import gridspec\n",
    "from scipy.interpolate import interp1d\n",
    "\n",
    "# au to eV conversion factor\n",
    "au2ev = 27.211386"
   ]
  },
  {
   "cell_type": "markdown",
   "metadata": {},
   "source": [
    "We here consider the UV/vis spectrum of gaseous water, with molecular structure:"
   ]
  },
  {
   "cell_type": "code",
   "execution_count": null,
   "metadata": {},
   "outputs": [],
   "source": [
    "water_mol_str = \"\"\"\n",
    "O       0.0000000000     0.1178336003     0.0000000000\n",
    "H      -0.7595754146    -0.4713344012     0.0000000000\n",
    "H       0.7595754146    -0.4713344012     0.0000000000 \n",
    "\"\"\"\n",
    "\n",
    "viewer = p3d.view(width=400, height=300)\n",
    "viewer.setViewStyle({\"style\": \"outline\", \"color\": \"black\", \"width\": 0.1})\n",
    "viewer.addModel(\"3\\n\" + water_mol_str)\n",
    "viewer.setStyle({\"stick\": {}})\n",
    "viewer.show()"
   ]
  },
  {
   "cell_type": "markdown",
   "metadata": {},
   "source": [
    "## TDDFT\n",
    "\n",
    "Calculating the first six eigenstates using TDDFT:"
   ]
  },
  {
   "cell_type": "code",
   "execution_count": null,
   "metadata": {
    "scrolled": true,
    "tags": [
     "remove-output"
    ]
   },
   "outputs": [],
   "source": [
    "# Prepare molecule and basis objects\n",
    "molecule = vlx.Molecule.read_molecule_string(water_mol_str)\n",
    "basis = vlx.MolecularBasis.read(molecule, \"6-31G\")\n",
    "\n",
    "# SCF settings and calculation\n",
    "scf_drv = vlx.ScfRestrictedDriver()\n",
    "scf_settings = {\"conv_thresh\": 1.0e-6}\n",
    "method_settings = {\"xcfun\": \"b3lyp\"}\n",
    "scf_drv.update_settings(scf_settings, method_settings)\n",
    "scf_results = scf_drv.compute(molecule, basis)\n",
    "\n",
    "# resolve four eigenstates\n",
    "rpa_solver = vlx.lreigensolver.LinearResponseEigenSolver()\n",
    "rpa_solver.update_settings({\"nstates\": 6}, method_settings)\n",
    "rpa_results = rpa_solver.compute(molecule, basis, scf_results)"
   ]
  },
  {
   "cell_type": "markdown",
   "metadata": {},
   "source": [
    "There are currently no built-in functionalities for obtaining the broadened spectra, so we instead construct this from the eigenvalues and oscillator strengths, as well as printing a table with energies (here in atomic units), oscillator strengths, and transition dipole moments:\n",
    "\n",
    "```{note}\n",
    "Broadening and $\\sigma$ extraction routines are currently being implemented.\n",
    "```"
   ]
  },
  {
   "cell_type": "code",
   "execution_count": null,
   "metadata": {},
   "outputs": [],
   "source": [
    "def lorentzian(x, y, xmin, xmax, xstep, gamma):\n",
    "    xi = np.arange(xmin, xmax, xstep)\n",
    "    yi = np.zeros(len(xi))\n",
    "    for i in range(len(xi)):\n",
    "        for k in range(len(x)):\n",
    "            yi[i] = yi[i] + y[k] * (gamma / 2.0) / (\n",
    "                (xi[i] - x[k]) ** 2 + (gamma / 2.0) ** 2\n",
    "            )\n",
    "    return xi, yi\n",
    "\n",
    "\n",
    "# Print results as a table\n",
    "print(\"Energy [au]  Osc. str.   TM(x)     TM(y)     TM(z)\")\n",
    "for i in np.arange(len(rpa_results[\"eigenvalues\"])):\n",
    "    e, os, x, y, z = (\n",
    "        rpa_results[\"eigenvalues\"][i],\n",
    "        rpa_results[\"oscillator_strengths\"][i],\n",
    "        rpa_results[\"electric_transition_dipoles\"][i][0],\n",
    "        rpa_results[\"electric_transition_dipoles\"][i][1],\n",
    "        rpa_results[\"electric_transition_dipoles\"][i][2],\n",
    "    )\n",
    "    print(\"   {:.3f}     {:8.5f}  {:8.5f}  {:8.5f}  {:8.5f}\".format(e, os, x, y, z))\n",
    "\n",
    "plt.figure(figsize=(6, 4))\n",
    "x = au2ev * rpa_results[\"eigenvalues\"]\n",
    "y = rpa_results[\"oscillator_strengths\"]\n",
    "xi, yi = lorentzian(x, y, min(x) - 1.0, max(x) + 1.0, 0.01, 0.5)\n",
    "plt.plot(xi, yi)\n",
    "plt.tight_layout()\n",
    "plt.show()"
   ]
  },
  {
   "cell_type": "markdown",
   "metadata": {},
   "source": [
    "## CPP-DFT\n",
    "\n",
    "Using CPP-DFT, the linear absorption cross-section is resolved over a range of energies, which is here chosen as the 7-17 eV (with a resolution of 0.1 eV):\n",
    "\n",
    "```{note}\n",
    "The frequency specification is currently being rewritten.\n",
    "```"
   ]
  },
  {
   "cell_type": "code",
   "execution_count": null,
   "metadata": {
    "scrolled": true,
    "tags": [
     "remove-output"
    ]
   },
   "outputs": [],
   "source": [
    "# Define spectrum region to be resolved\n",
    "xmin, xmax = 7.0, 17.0\n",
    "freqs = np.arange(xmin, xmax, 0.1) / au2ev\n",
    "freqs_str = [str(x) for x in freqs]\n",
    "\n",
    "# Calculate the response\n",
    "cpp_drv = vlx.rsplinabscross.LinearAbsorptionCrossSection(\n",
    "    {\"frequencies\": \",\".join(freqs_str), \"damping\": 0.3 / au2ev}, method_settings\n",
    ")\n",
    "cpp_drv.init_driver()\n",
    "cpp_results = cpp_drv.compute(molecule, basis, scf_results)\n",
    "\n",
    "# Extract the imaginary part of the complex response function and convert to absorption cross section\n",
    "sigma = []\n",
    "for w in freqs:\n",
    "    axx = -cpp_drv.rsp_property[\"response_functions\"][(\"x\", \"x\", w)].imag\n",
    "    ayy = -cpp_drv.rsp_property[\"response_functions\"][(\"y\", \"y\", w)].imag\n",
    "    azz = -cpp_drv.rsp_property[\"response_functions\"][(\"z\", \"z\", w)].imag\n",
    "    alpha_bar = (axx + ayy + azz) / 3.0\n",
    "    sigma.append(4.0 * np.pi * w * alpha_bar / 137.035999)"
   ]
  },
  {
   "cell_type": "markdown",
   "metadata": {},
   "source": [
    "Plotting the raw output, the raw output with a splined function, and a comparison to the eigenstate results above (here plotted as bars):"
   ]
  },
  {
   "cell_type": "code",
   "execution_count": null,
   "metadata": {},
   "outputs": [],
   "source": [
    "# Make figure with panels of 3:1 width\n",
    "plt.figure(figsize=(9, 8))\n",
    "gs = gridspec.GridSpec(3, 2, width_ratios=[3, 1])\n",
    "\n",
    "# Raw results for the full region\n",
    "plt.subplot(gs[0])\n",
    "plt.plot(au2ev * freqs, sigma, \"bx-\")\n",
    "plt.legend((\"Raw\", \"\"), loc=\"upper left\")\n",
    "plt.xlim((xmin, xmax))\n",
    "\n",
    "# Raw results for a zoomed in region\n",
    "plt.subplot(gs[1])\n",
    "plt.plot(au2ev * freqs, sigma, \"bx-\")\n",
    "plt.xlim((9.4, 10.4))\n",
    "plt.ylim((0, 0.50))\n",
    "\n",
    "# Raw and splined spectra for the full region\n",
    "plt.subplot(gs[2])\n",
    "plt.plot(au2ev * freqs, sigma, \"bx\")\n",
    "x = np.arange(min(au2ev * freqs), max(au2ev * freqs), 0.01)\n",
    "y = interp1d(au2ev * freqs, sigma, kind=\"cubic\")\n",
    "plt.plot(x, y(x), \"r\")\n",
    "plt.legend((\"Raw\", \"Splined\"), loc=\"upper left\")\n",
    "plt.xlim((xmin, xmax))\n",
    "\n",
    "# Zoomed in raw and splined spectra\n",
    "plt.subplot(gs[3])\n",
    "plt.plot(au2ev * freqs, sigma, \"bx\")\n",
    "plt.plot(x, y(x), \"r\")\n",
    "plt.xlim((9.4, 10.4))\n",
    "plt.ylim((0, 0.50))\n",
    "\n",
    "# Zoomed in raw and splined spectra for the full region\n",
    "plt.subplot(gs[4])\n",
    "x = np.arange(min(au2ev * freqs), max(au2ev * freqs), 0.01)\n",
    "y = interp1d(au2ev * freqs, sigma, kind=\"cubic\")\n",
    "plt.plot(x, y(x), \"r\")\n",
    "xi = au2ev * rpa_results[\"eigenvalues\"]\n",
    "yi = rpa_results[\"oscillator_strengths\"]\n",
    "plt.bar(xi, 3.0 * yi, width=0.1, color=\"k\")\n",
    "plt.legend((\"Splined\", \"States\"), loc=\"upper left\")\n",
    "plt.xlim((xmin, xmax))\n",
    "\n",
    "# Zoomed in raw and splined spectra\n",
    "plt.subplot(gs[5])\n",
    "plt.plot(x, y(x), \"r\")\n",
    "plt.bar(xi, 3.0 * yi, width=0.025, color=\"k\")\n",
    "plt.xlim((9.4, 10.4))\n",
    "plt.ylim((0, 0.50))\n",
    "\n",
    "plt.show()"
   ]
  },
  {
   "cell_type": "markdown",
   "metadata": {},
   "source": [
    "(sec:adc-absorp)=\n",
    "## ADC\n",
    "\n",
    "The first six excited states of water is calculated as:"
   ]
  },
  {
   "cell_type": "code",
   "execution_count": null,
   "metadata": {
    "scrolled": true,
    "tags": [
     "remove-output"
    ]
   },
   "outputs": [],
   "source": [
    "# Construct structure and basis objects\n",
    "molecule = gator.get_molecule(water_mol_str)\n",
    "basis = gator.get_molecular_basis(molecule, \"6-31G\")\n",
    "\n",
    "# Perform SCF calculation\n",
    "scf_gs = gator.run_scf(molecule, basis)\n",
    "\n",
    "# Calculate the 6 lowest eigenstates\n",
    "adc_results = gator.run_adc(molecule, basis, scf_gs, method=\"adc3\", singlets=6)"
   ]
  },
  {
   "cell_type": "markdown",
   "metadata": {},
   "source": [
    "The resuls can be printed as a table, and convoluted and plotted using built-in functionalities (which can use several different energy-axis, as shown below).\n",
    "\n",
    "```{note}\n",
    "The `adc3 (adc2)` designation from `adc_results.describe()` means that *energies* are calculated at an ADC(3) level, while *properties* are given at an ADC(2) level. This is sometimes referred to as ADC(3/2), as well.\n",
    "```"
   ]
  },
  {
   "cell_type": "code",
   "execution_count": null,
   "metadata": {},
   "outputs": [],
   "source": [
    "# Print information on eigenstates\n",
    "print(adc_results.describe())\n",
    "\n",
    "# Plot using built-in functionalities\n",
    "plt.figure(figsize=(10, 6))\n",
    "plt.subplot(221)\n",
    "plt.title(\"In eV\")\n",
    "adc_results.plot_spectrum(xaxis=\"eV\")\n",
    "\n",
    "plt.subplot(222)\n",
    "plt.title(\"In atomic units\")\n",
    "adc_results.plot_spectrum(xaxis=\"au\")\n",
    "\n",
    "plt.subplot(223)\n",
    "plt.title(\"In nm\")\n",
    "adc_results.plot_spectrum(xaxis=\"nm\", broadening=None)\n",
    "\n",
    "plt.subplot(224)\n",
    "plt.title(r\"In cm$^{-1}$\")\n",
    "adc_results.plot_spectrum(xaxis=\"cm-1\")\n",
    "plt.tight_layout()\n",
    "plt.show()"
   ]
  },
  {
   "cell_type": "markdown",
   "metadata": {},
   "source": [
    "> Fix: broaden spectra expressed in wavelength.\n",
    "\n",
    "Note that some high-energy features can be the result of a discretized continuum region. A larger basis set will flatten out this region, but care should be taken for any analysis of that part of the spectrum.\n",
    "\n",
    "## CPP-ADC\n",
    "\n",
    "> To be added."
   ]
  },
  {
   "cell_type": "markdown",
   "metadata": {},
   "source": [
    "## MCSCF\n",
    "\n",
    "In some cases, it can be preferable to use a multiconfigurational wavefunction to compute excitation energies. This is necessary if, for instance, the molecule is suspected to have strong correlation effects, or if the user is interested in analyzing a conical intersection --- something that ADC and TDDFT often fail to properly describe.\n",
    "\n",
    "In principle, a MCSCF spectrum can be computed using response theory similarly to ADC and DFT. However, as configuration interaction (CI) can naturally provide not just the lowest but any state, it is possible to produce excited states by simply increasing the number of requested states or \"roots\" in the CI. However, in traditional MCSCF, the orbitals cannot be simultaneously optimized for each state, and instead we use a set of orbitals that is a compromise between all states: the state-averaged orbitals.\n",
    "\n",
    "For water in its equilibrium distance, there is no strong correlation, and thus the only orbitals we need to include in the active space are those that can be excited in the UV-visible spectrum. Here, we will use a CASSCF with an active space comprising the molecular orbitals formed by the oxygen 2p and hydrogen 1s, corresponding to the two $\\sigma$ and $\\sigma^*$ and one oxygen lone pair. We could in principle include the other lone pair, formed mostly by the 2s orbital of the oxygen, but its orbital energy is much lower and the orbital is thus not involved in the lowest UV-visible transitions.\n",
    "\n",
    "The orbitals are conveniently located around the HOMO-LUMO gap, so it is sufficient to request a CAS(6,5) (6 electrons in 5 orbitals) to get the desired active space. First, we calculate the SCF ground state:"
   ]
  },
  {
   "cell_type": "code",
   "execution_count": null,
   "metadata": {
    "scrolled": true,
    "tags": [
     "remove-output"
    ]
   },
   "outputs": [],
   "source": [
    "# Prepare molecule and basis objects\n",
    "molecule = vlx.Molecule.read_molecule_string(water_mol_str)\n",
    "basis = vlx.MolecularBasis.read(molecule, \"6-31G\")\n",
    "\n",
    "# SCF calculation\n",
    "scf_drv = vlx.ScfRestrictedDriver()\n",
    "scf_results = scf_drv.compute(molecule, basis)"
   ]
  },
  {
   "cell_type": "markdown",
   "metadata": {},
   "source": [
    "Then we resolve the six lowest excited states:"
   ]
  },
  {
   "cell_type": "code",
   "execution_count": null,
   "metadata": {
    "scrolled": true,
    "tags": [
     "hide-output"
    ]
   },
   "outputs": [],
   "source": [
    "# Active space settings\n",
    "space = mtp.OrbSpace(molecule, scf_drv.mol_orbs)\n",
    "space.cas(6, 5)  # 3 O_2p and 2 H_1s\n",
    "\n",
    "# CASSCF calculation\n",
    "mcscf_drv = mtp.McscfDriver()\n",
    "mcscf_results = mcscf_drv.compute(molecule, basis, space, 6)\n",
    "\n",
    "# Transition properties\n",
    "SI = mtp.StateInteraction()\n",
    "si_results = SI.compute(molecule, basis, mcscf_results)"
   ]
  },
  {
   "cell_type": "markdown",
   "metadata": {},
   "source": [
    "The resulting states are printed above, or can be printed or plotted:"
   ]
  },
  {
   "cell_type": "code",
   "execution_count": null,
   "metadata": {},
   "outputs": [],
   "source": [
    "# Print results as a table\n",
    "print(\"Energy [au]  Osc. str.\")\n",
    "for i in np.arange(len(si_results[\"energies\"])):\n",
    "    e, os = (\n",
    "        si_results[\"energies\"][i],\n",
    "        si_results[\"oscillator_strengths\"][i],\n",
    "    )\n",
    "    print(\"   {:.3f}     {:8.5f}\".format(e, os))\n",
    "\n",
    "plt.figure(figsize=(6, 4))\n",
    "x = au2ev * np.array(si_results[\"energies\"])\n",
    "y = si_results[\"oscillator_strengths\"]\n",
    "xi, yi = lorentzian(x, y, min(x) - 1.0, max(x) + 1.0, 0.01, 0.5)\n",
    "plt.plot(xi, yi)\n",
    "plt.tight_layout()\n",
    "plt.show()"
   ]
  },
  {
   "cell_type": "markdown",
   "metadata": {},
   "source": [
    "Comparing to ADC(3) we see a good agreement in relative features, but the absolute energies and intensities are a bit different:"
   ]
  },
  {
   "cell_type": "code",
   "execution_count": null,
   "metadata": {},
   "outputs": [],
   "source": [
    "plt.figure(figsize=(6, 4))\n",
    "\n",
    "# ADC(3)\n",
    "x, y = au2ev * adc_results.excitation_energy, adc_results.oscillator_strength\n",
    "xi, yi = lorentzian(x, y, xmin, xmax, 0.01, 0.5)\n",
    "plt.plot(xi, yi)\n",
    "\n",
    "# SA-MCSCF\n",
    "x = au2ev * np.array(si_results[\"energies\"])\n",
    "y = si_results[\"oscillator_strengths\"]\n",
    "xi, yi = lorentzian(x, y, xmin, xmax, 0.01, 0.5)\n",
    "plt.plot(xi, yi)\n",
    "plt.legend((\"ADC(3)\", \"SA-MCSCF\"))\n",
    "plt.xlim((xmin, xmax))\n",
    "plt.tight_layout()\n",
    "plt.show()"
   ]
  },
  {
   "cell_type": "markdown",
   "metadata": {},
   "source": [
    "As an alternative to using state-averaging, we can also use linear response CASSCF. One advantage in this case is that we do not need to add the oxygen lone pair in the active space, since the response includes also excitation outside of the active space. Let's try it:"
   ]
  },
  {
   "cell_type": "code",
   "execution_count": null,
   "metadata": {
    "scrolled": true,
    "tags": [
     "hide-output"
    ]
   },
   "outputs": [],
   "source": [
    "# Active space settings\n",
    "space = mtp.OrbSpace(molecule, scf_drv.mol_orbs)\n",
    "\n",
    "# The list of active orbitals, orbital 4 is not here since it is the lone pair\n",
    "space.cas_orbitals([2, 3, 5, 6])\n",
    "\n",
    "# CASSCF calculation\n",
    "mcscf_drv = mtp.McscfDriver()\n",
    "mcscf_results = mcscf_drv.compute(molecule, basis, space)  # Only ground state\n",
    "\n",
    "# Response calculation\n",
    "#mcrpa = mtp.Mclr_EigenSolver()\n",
    "#rspdict = mcrpa.compute(molecule, basis, mcscf_drv, 5)"
   ]
  },
  {
   "cell_type": "code",
   "execution_count": null,
   "metadata": {},
   "outputs": [],
   "source": [
    "#plt.figure(figsize=(6, 4))\n",
    "#xmin, xmax = 7, 17\n",
    "\n",
    "# SA-MCSCF\n",
    "#x = au2ev * DipOsc[\"energies\"]\n",
    "#y = DipOsc[\"oscillator_strengths\"]\n",
    "#xi, yi = lorentzian(x, y, xmin, xmax, 0.01, 0.5)\n",
    "#plt.plot(xi, yi)\n",
    "\n",
    "# MCSCF response\n",
    "#x = au2ev * rspdict[\"eigenvalues\"]\n",
    "#y = rspdict[\"oscillator_strengths\"]\n",
    "#xi, yi = lorentzian(x, y, xmin, xmax, 0.01, 0.5)\n",
    "\n",
    "#plt.plot(xi, yi)\n",
    "#plt.legend((\"SA-MCSCF\", \"MCSCF response\"))\n",
    "#plt.xlim((xmin, xmax))\n",
    "#plt.tight_layout()\n",
    "#plt.show()"
   ]
  },
  {
   "cell_type": "markdown",
   "metadata": {},
   "source": [
    "## Comparison of spectra\n",
    "\n",
    "The spectra from the four different approaches can be plotted as:"
   ]
  },
  {
   "cell_type": "code",
   "execution_count": null,
   "metadata": {},
   "outputs": [],
   "source": [
    "fig, (ax1, ax2) = plt.subplots(1, 2)\n",
    "fig.set_figheight(4)\n",
    "fig.set_figwidth(10)\n",
    "\n",
    "xmin, xmax = 7, 17\n",
    "\n",
    "# ADC(3)\n",
    "x, y = au2ev * adc_results.excitation_energy, adc_results.oscillator_strength\n",
    "xi, yi = lorentzian(x, y, xmin, xmax, 0.01, 0.5)\n",
    "ax1.plot(xi, yi)\n",
    "ax2.plot(xi, yi)\n",
    "\n",
    "# TDDFT\n",
    "x = au2ev * rpa_results[\"eigenvalues\"]\n",
    "y = rpa_results[\"oscillator_strengths\"]\n",
    "xi, yi = lorentzian(x, y, xmin, xmax, 0.01, 0.5)\n",
    "ax1.plot(xi, yi)\n",
    "ax2.plot(xi, yi + 1)\n",
    "\n",
    "# SA-MCSCF\n",
    "x = au2ev * np.array(si_results[\"energies\"])\n",
    "y = si_results[\"oscillator_strengths\"]\n",
    "xi, yi = lorentzian(x, y, xmin, xmax, 0.01, 0.5)\n",
    "ax1.plot(xi, yi)\n",
    "ax2.plot(xi, yi + 2)\n",
    "\n",
    "# MCSCF response\n",
    "#x = au2ev * rspdict[\"eigenvalues\"]\n",
    "#y = rspdict[\"oscillator_strengths\"]\n",
    "#xi, yi = lorentzian(x, y, xmin, xmax, 0.01, 0.5)\n",
    "#ax1.plot(xi, yi)\n",
    "#ax2.plot(xi, yi + 3)\n",
    "\n",
    "#ax1.legend((\"ADC(3)\", \"TDDFT\", \"SA-MCSCF\", \"MCSCF response\"))\n",
    "ax1.legend((\"ADC(3)\", \"TDDFT\", \"SA-MCSCF\"))\n",
    "ax1.set_xlim((xmin, xmax))\n",
    "ax2.set_xlim((xmin, xmax))\n",
    "plt.tight_layout()\n",
    "plt.show()"
   ]
  },
  {
   "cell_type": "markdown",
   "metadata": {},
   "source": [
    "Plotted either on top of each other, or with a vertical set-off. We note that the features are, in general, similar, with differences mainly taking the form of absolute energy shifts, as well as noticeably more intense features for SA-MCSCF."
   ]
  },
  {
   "cell_type": "code",
   "execution_count": null,
   "metadata": {},
   "outputs": [],
   "source": []
  }
 ],
 "metadata": {
  "celltoolbar": "Tags",
  "kernelspec": {
   "display_name": "Python 3 (ipykernel)",
   "language": "python",
   "name": "python3"
  },
  "language_info": {
   "codemirror_mode": {
    "name": "ipython",
    "version": 3
   },
   "file_extension": ".py",
   "mimetype": "text/x-python",
   "name": "python",
   "nbconvert_exporter": "python",
   "pygments_lexer": "ipython3",
   "version": "3.12.8"
  }
 },
 "nbformat": 4,
 "nbformat_minor": 4
}
