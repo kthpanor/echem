{
 "cells": [
  {
   "cell_type": "markdown",
   "id": "2af5e7be-8036-4a42-9b2c-4eff72ff70ed",
   "metadata": {},
   "source": [
    "# Constructing a workflow\n",
    "\n",
    "This chapter looks at an [example workflow](example_workflow) for illustrating how a Jupyter framework can be used for modeling chemical processes."
   ]
  }
 ],
 "metadata": {
  "kernelspec": {
   "display_name": "Python 3 (ipykernel)",
   "language": "python",
   "name": "python3"
  },
  "language_info": {
   "codemirror_mode": {
    "name": "ipython",
    "version": 3
   },
   "file_extension": ".py",
   "mimetype": "text/x-python",
   "name": "python",
   "nbconvert_exporter": "python",
   "pygments_lexer": "ipython3",
   "version": "3.9.15"
  }
 },
 "nbformat": 4,
 "nbformat_minor": 5
}
