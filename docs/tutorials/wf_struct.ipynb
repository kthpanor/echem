{
 "cells": [
  {
   "cell_type": "markdown",
   "id": "ff8a63c1-317c-4890-a059-85f7e2c9f1e6",
   "metadata": {},
   "source": [
    "# Optimizing molecular structure\n",
    "\n",
    "\n",
    "The initial structure can be provided manually, or as constructed using SMILES strings (see [previous](wf_build) section). Here we will do the latter to illustrate a full structure optimization workflow, with methanol as the example.\n",
    "\n",
    "To minimize computational cost, we perform the final quantum chemical structure optimization at a minimal level of theory (HF with the STO-3G basis set). For practical calculations, DFT or MP2 as well as a larger basis set should be used."
   ]
  },
  {
   "cell_type": "code",
   "execution_count": 11,
   "id": "cf677079",
   "metadata": {
    "tags": [
     "remove-output"
    ]
   },
   "outputs": [],
   "source": [
    "import py3Dmol as p3d\n",
    "import veloxchem as vlx\n",
    "import py3Dmol as p3d\n",
    "import numpy as np"
   ]
  },
  {
   "cell_type": "markdown",
   "id": "81416b7a",
   "metadata": {},
   "source": [
    "## Initial structure\n",
    "\n",
    "We obtain the initial (force field optimized) structure from Open Babel, using the SMILES string (`CO`)."
   ]
  },
  {
   "cell_type": "code",
   "execution_count": 5,
   "id": "23296c37",
   "metadata": {},
   "outputs": [],
   "source": [
    "methanol_ff = vlx.Molecule.read_smiles('CO')"
   ]
  },
  {
   "cell_type": "markdown",
   "id": "a06a5451",
   "metadata": {},
   "source": [
    "## xTB optimization\n",
    "\n",
    "Next, set up the xTB driver and perform the structure optimization."
   ]
  },
  {
   "cell_type": "code",
   "execution_count": 6,
   "id": "9b36f2c1",
   "metadata": {
    "scrolled": true,
    "tags": [
     "remove-output"
    ]
   },
   "outputs": [
    {
     "name": "stdout",
     "output_type": "stream",
     "text": [
      "                                                                                                                          \n",
      "                                                Optimization Driver Setup                                                 \n",
      "                                               ===========================                                                \n",
      "                                                                                                                          \n",
      "                                     Coordinate System       :    TRIC                                                    \n",
      "                                     Constraints             :    No                                                      \n",
      "                                     Max. Number of Steps    :    300                                                     \n",
      "                                     Transition State        :    No                                                      \n",
      "                                     Hessian                 :    never                                                   \n",
      "                                                                                                                          \n",
      "* Info * Computing energy and gradient...                                                                                 \n",
      "* Info *   Energy   : -8.2243159895 a.u.                                                                                  \n",
      "* Info *   Gradient : 1.615223e-02 a.u. (RMS)                                                                             \n",
      "* Info *              2.305841e-02 a.u. (Max)                                                                             \n",
      "* Info *   Time     : 0.09 sec                                                                                            \n",
      "                                                                                                                          \n",
      "* Info * Computing energy and gradient...                                                                                 \n",
      "* Info *   Energy   : -8.2260629389 a.u.                                                                                  \n",
      "* Info *   Gradient : 2.926190e-03 a.u. (RMS)                                                                             \n",
      "* Info *              4.698153e-03 a.u. (Max)                                                                             \n",
      "* Info *   Time     : 0.06 sec                                                                                            \n",
      "                                                                                                                          \n",
      "* Info * Computing energy and gradient...                                                                                 \n",
      "* Info *   Energy   : -8.2261161365 a.u.                                                                                  \n",
      "* Info *   Gradient : 6.198354e-04 a.u. (RMS)                                                                             \n",
      "* Info *              1.023418e-03 a.u. (Max)                                                                             \n",
      "* Info *   Time     : 0.04 sec                                                                                            \n",
      "                                                                                                                          \n",
      "* Info * Computing energy and gradient...                                                                                 \n",
      "* Info *   Energy   : -8.2261181065 a.u.                                                                                  \n",
      "* Info *   Gradient : 2.540870e-04 a.u. (RMS)                                                                             \n",
      "* Info *              4.859840e-04 a.u. (Max)                                                                             \n",
      "* Info *   Time     : 0.02 sec                                                                                            \n",
      "                                                                                                                          \n",
      "* Info * Computing energy and gradient...                                                                                 \n",
      "* Info *   Energy   : -8.2261184246 a.u.                                                                                  \n",
      "* Info *   Gradient : 4.347753e-05 a.u. (RMS)                                                                             \n",
      "* Info *              8.476701e-05 a.u. (Max)                                                                             \n",
      "* Info *   Time     : 0.03 sec                                                                                            \n",
      "                                                                                                                          \n",
      "* Info * Saving file: veloxchem_opt_2023-05-09T11.46.45_optim.xyz                                                         \n",
      "* Info * Saving file: veloxchem_opt_2023-05-09T11.46.45.log                                                               \n",
      "                                                                                                                          \n",
      "* Info * Geometry optimization completed.                                                                                 \n",
      "                                                                                                                          \n",
      "                                              Molecular Geometry (Angstroms)                                              \n",
      "                                             ================================                                             \n",
      "                                                                                                                          \n",
      "                          Atom         Coordinate X          Coordinate Y          Coordinate Z                           \n",
      "                                                                                                                          \n",
      "                           C          -0.360855476911       -0.036369166969       -0.015359143060                         \n",
      "                           O           0.985401965127       -0.362131965659       -0.258321976520                         \n",
      "                           H          -0.590370161507       -0.033514090969        1.055877669159                         \n",
      "                           H          -0.624771855116        0.939011210457       -0.438696693939                         \n",
      "                           H          -0.958033194266       -0.805289934459       -0.501953183066                         \n",
      "                           H           1.548628722672        0.298293947600        0.158454327425                         \n",
      "                                                                                                                          \n",
      "                                                                                                                          \n",
      "                                             Summary of Geometry Optimization                                             \n",
      "                                            ==================================                                            \n",
      "                                                                                                                          \n",
      "                  Opt.Step       Energy (a.u.)       Energy Change (a.u.)       Displacement (RMS, Max)                   \n",
      "                  -------------------------------------------------------------------------------------                   \n",
      "                      0          -8.224315989535        0.000000000000         0.000e+00      0.000e+00                   \n",
      "                      1          -8.226062938945       -0.001746949410         3.917e-02      5.466e-02                   \n",
      "                      2          -8.226116136451       -0.000053197506         5.332e-03      7.048e-03                   \n",
      "                      3          -8.226118106473       -0.000001970021         5.410e-04      6.374e-04                   \n",
      "                      4          -8.226118424564       -0.000000318091         2.648e-04      3.844e-04                   \n",
      "                                                                                                                          \n",
      "                                                                                                                          \n",
      "                                              Statistical Deviation between                                               \n",
      "                                         Optimized Geometry and Initial Geometry                                          \n",
      "                                        =========================================                                         \n",
      "                                                                                                                          \n",
      "                               Internal Coord.        RMS deviation         Max. deviation                                \n",
      "                               -----------------------------------------------------------                                \n",
      "                                  Bonds               0.019 Angstrom        0.030 Angstrom                                \n",
      "                                  Angles              1.757 degree          3.056 degree                                  \n",
      "                                  Dihedrals           0.460 degree          0.564 degree                                  \n",
      "                                                                                                                          \n",
      "                                     *** Time spent in Optimization Driver: 0.66 sec                                      \n",
      "                                                                                                                          \n"
     ]
    }
   ],
   "source": [
    "xtb_drv = vlx.XtbDriver()\n",
    "xtb_drv.set_method('gfn2')\n",
    "xtb_grad_drv = vlx.XtbGradientDriver()\n",
    "xtb_opt_drv = vlx.OptimizationDriver(xtb_grad_drv)\n",
    "methanol_xtb = xtb_opt_drv.compute(methanol_ff, xtb_drv)"
   ]
  },
  {
   "cell_type": "markdown",
   "id": "884dd0a0",
   "metadata": {},
   "source": [
    "## HF optimization\n",
    "\n",
    "Set up the SCF and optimization drivers and performing the final optimization, using the xTB results as the initial structure."
   ]
  },
  {
   "cell_type": "code",
   "execution_count": 8,
   "id": "1b7476df",
   "metadata": {
    "tags": [
     "remove-cell"
    ]
   },
   "outputs": [],
   "source": [
    "basis = vlx.MolecularBasis.read(methanol_xtb, 'STO-3G')\n",
    "scf_drv = vlx.ScfRestrictedDriver()\n",
    "scf_results = scf_drv.compute(methanol_xtb, basis)\n",
    "grad_drv = vlx.ScfGradientDriver()\n",
    "opt_drv = vlx.OptimizationDriver(grad_drv)\n",
    "methanol_hf = opt_drv.compute(methanol_xtb, basis, scf_drv)"
   ]
  },
  {
   "cell_type": "markdown",
   "id": "4c4ac105",
   "metadata": {},
   "source": [
    "## Comparison\n",
    "\n",
    "Visualize the results using py3Dmol:"
   ]
  },
  {
   "cell_type": "code",
   "execution_count": 9,
   "id": "43b47c2c",
   "metadata": {},
   "outputs": [
    {
     "data": {
      "application/3dmoljs_load.v0": "<div id=\"3dmolviewer_16836256109754143\"  style=\"position: relative; width: 500px; height: 200px\">\n        <p id=\"3dmolwarning_16836256109754143\" style=\"background-color:#ffcccc;color:black\">You appear to be running in JupyterLab (or JavaScript failed to load for some other reason).  You need to install the 3dmol extension: <br>\n        <tt>jupyter labextension install jupyterlab_3dmol</tt></p>\n        </div>\n<script>\n\nvar loadScriptAsync = function(uri){\n  return new Promise((resolve, reject) => {\n    //this is to ignore the existence of requirejs amd\n    var savedexports, savedmodule;\n    if (typeof exports !== 'undefined') savedexports = exports;\n    else exports = {}\n    if (typeof module !== 'undefined') savedmodule = module;\n    else module = {}\n\n    var tag = document.createElement('script');\n    tag.src = uri;\n    tag.async = true;\n    tag.onload = () => {\n        exports = savedexports;\n        module = savedmodule;\n        resolve();\n    };\n  var firstScriptTag = document.getElementsByTagName('script')[0];\n  firstScriptTag.parentNode.insertBefore(tag, firstScriptTag);\n});\n};\n\nif(typeof $3Dmolpromise === 'undefined') {\n$3Dmolpromise = null;\n  $3Dmolpromise = loadScriptAsync('https://cdnjs.cloudflare.com/ajax/libs/3Dmol/2.0.1/3Dmol-min.js');\n}\n\nvar viewer_16836256109754143 = null;\nvar warn = document.getElementById(\"3dmolwarning_16836256109754143\");\nif(warn) {\n    warn.parentNode.removeChild(warn);\n}\n$3Dmolpromise.then(function() {\nvar viewergrid_16836256109754143 = null;\nviewergrid_16836256109754143 = $3Dmol.createViewerGrid(document.getElementById(\"3dmolviewer_16836256109754143\"),{rows: 1, cols: 3, control_all: false},{backgroundColor:\"white\"});\nviewer_16836256109754143 = viewergrid_16836256109754143[0][0];\nviewergrid_16836256109754143[0][0].zoomTo();viewergrid_16836256109754143[0][1].zoomTo();viewergrid_16836256109754143[0][2].zoomTo();\tviewergrid_16836256109754143[0][0].addModel(\"6\\n\\nC     -0.353997   -0.050451   -0.024680\\nO      0.985448   -0.372568   -0.265113\\nH     -0.557056   -0.045319    1.068285\\nH     -0.592132    0.946267   -0.455582\\nH     -1.003137   -0.811298   -0.504825\\nH      1.520874    0.333369    0.181916\\n\",\"xyz\");\n\tviewergrid_16836256109754143[0][1].addModel(\"6\\n\\nC -0.360855 -0.036369 -0.015359\\nO 0.985402 -0.362132 -0.258322\\nH -0.590370 -0.033514 1.055878\\nH -0.624772 0.939011 -0.438697\\nH -0.958033 -0.805290 -0.501953\\nH 1.548629 0.298294 0.158454\\n\",\"xyz\");\n\tviewergrid_16836256109754143[0][2].addModel(\"6\\n\\n     C        -0.355338295061         0.015832253296         0.022623869829\\n     O         0.957130783496         0.544496756944        -0.204029530782\\n     H        -0.479565645795        -0.368664416163         1.040410925550\\n     H        -0.607609510888        -0.787365989746        -0.677656188432\\n     H        -1.069087493005         0.828785331979        -0.122302379295\\n     H         1.554469486523        -0.233087881063        -0.059049636847\\n\",\"xyz\");\n\tviewergrid_16836256109754143[0][0].setViewStyle({\"style\": \"outline\", \"width\": 0.05});\n\tviewergrid_16836256109754143[0][1].setViewStyle({\"style\": \"outline\", \"width\": 0.05});\n\tviewergrid_16836256109754143[0][2].setViewStyle({\"style\": \"outline\", \"width\": 0.05});\n\tviewergrid_16836256109754143[0][0].setStyle({\"stick\": {}, \"sphere\": {\"scale\": 0.25}});\n\tviewergrid_16836256109754143[0][1].setStyle({\"stick\": {}, \"sphere\": {\"scale\": 0.25}});\n\tviewergrid_16836256109754143[0][2].setStyle({\"stick\": {}, \"sphere\": {\"scale\": 0.25}});\nviewergrid_16836256109754143[0][2].render();\nviewergrid_16836256109754143[0][1].render();\nviewergrid_16836256109754143[0][0].render();\n});\n</script>",
      "text/html": [
       "<div id=\"3dmolviewer_16836256109754143\"  style=\"position: relative; width: 500px; height: 200px\">\n",
       "        <p id=\"3dmolwarning_16836256109754143\" style=\"background-color:#ffcccc;color:black\">You appear to be running in JupyterLab (or JavaScript failed to load for some other reason).  You need to install the 3dmol extension: <br>\n",
       "        <tt>jupyter labextension install jupyterlab_3dmol</tt></p>\n",
       "        </div>\n",
       "<script>\n",
       "\n",
       "var loadScriptAsync = function(uri){\n",
       "  return new Promise((resolve, reject) => {\n",
       "    //this is to ignore the existence of requirejs amd\n",
       "    var savedexports, savedmodule;\n",
       "    if (typeof exports !== 'undefined') savedexports = exports;\n",
       "    else exports = {}\n",
       "    if (typeof module !== 'undefined') savedmodule = module;\n",
       "    else module = {}\n",
       "\n",
       "    var tag = document.createElement('script');\n",
       "    tag.src = uri;\n",
       "    tag.async = true;\n",
       "    tag.onload = () => {\n",
       "        exports = savedexports;\n",
       "        module = savedmodule;\n",
       "        resolve();\n",
       "    };\n",
       "  var firstScriptTag = document.getElementsByTagName('script')[0];\n",
       "  firstScriptTag.parentNode.insertBefore(tag, firstScriptTag);\n",
       "});\n",
       "};\n",
       "\n",
       "if(typeof $3Dmolpromise === 'undefined') {\n",
       "$3Dmolpromise = null;\n",
       "  $3Dmolpromise = loadScriptAsync('https://cdnjs.cloudflare.com/ajax/libs/3Dmol/2.0.1/3Dmol-min.js');\n",
       "}\n",
       "\n",
       "var viewer_16836256109754143 = null;\n",
       "var warn = document.getElementById(\"3dmolwarning_16836256109754143\");\n",
       "if(warn) {\n",
       "    warn.parentNode.removeChild(warn);\n",
       "}\n",
       "$3Dmolpromise.then(function() {\n",
       "var viewergrid_16836256109754143 = null;\n",
       "viewergrid_16836256109754143 = $3Dmol.createViewerGrid(document.getElementById(\"3dmolviewer_16836256109754143\"),{rows: 1, cols: 3, control_all: false},{backgroundColor:\"white\"});\n",
       "viewer_16836256109754143 = viewergrid_16836256109754143[0][0];\n",
       "viewergrid_16836256109754143[0][0].zoomTo();viewergrid_16836256109754143[0][1].zoomTo();viewergrid_16836256109754143[0][2].zoomTo();\tviewergrid_16836256109754143[0][0].addModel(\"6\\n\\nC     -0.353997   -0.050451   -0.024680\\nO      0.985448   -0.372568   -0.265113\\nH     -0.557056   -0.045319    1.068285\\nH     -0.592132    0.946267   -0.455582\\nH     -1.003137   -0.811298   -0.504825\\nH      1.520874    0.333369    0.181916\\n\",\"xyz\");\n",
       "\tviewergrid_16836256109754143[0][1].addModel(\"6\\n\\nC -0.360855 -0.036369 -0.015359\\nO 0.985402 -0.362132 -0.258322\\nH -0.590370 -0.033514 1.055878\\nH -0.624772 0.939011 -0.438697\\nH -0.958033 -0.805290 -0.501953\\nH 1.548629 0.298294 0.158454\\n\",\"xyz\");\n",
       "\tviewergrid_16836256109754143[0][2].addModel(\"6\\n\\n     C        -0.355338295061         0.015832253296         0.022623869829\\n     O         0.957130783496         0.544496756944        -0.204029530782\\n     H        -0.479565645795        -0.368664416163         1.040410925550\\n     H        -0.607609510888        -0.787365989746        -0.677656188432\\n     H        -1.069087493005         0.828785331979        -0.122302379295\\n     H         1.554469486523        -0.233087881063        -0.059049636847\\n\",\"xyz\");\n",
       "\tviewergrid_16836256109754143[0][0].setViewStyle({\"style\": \"outline\", \"width\": 0.05});\n",
       "\tviewergrid_16836256109754143[0][1].setViewStyle({\"style\": \"outline\", \"width\": 0.05});\n",
       "\tviewergrid_16836256109754143[0][2].setViewStyle({\"style\": \"outline\", \"width\": 0.05});\n",
       "\tviewergrid_16836256109754143[0][0].setStyle({\"stick\": {}, \"sphere\": {\"scale\": 0.25}});\n",
       "\tviewergrid_16836256109754143[0][1].setStyle({\"stick\": {}, \"sphere\": {\"scale\": 0.25}});\n",
       "\tviewergrid_16836256109754143[0][2].setStyle({\"stick\": {}, \"sphere\": {\"scale\": 0.25}});\n",
       "viewergrid_16836256109754143[0][2].render();\n",
       "viewergrid_16836256109754143[0][1].render();\n",
       "viewergrid_16836256109754143[0][0].render();\n",
       "});\n",
       "</script>"
      ]
     },
     "metadata": {},
     "output_type": "display_data"
    }
   ],
   "source": [
    "viewer = p3d.view(viewergrid=(1, 3), width=500, height=200, linked=False)\n",
    "viewer.addModel(methanol_ff.get_xyz_string(), 'xyz', viewer=(0, 0))\n",
    "viewer.addModel(methanol_xtb.get_xyz_string(), 'xyz', viewer=(0, 1))\n",
    "viewer.addModel(methanol_hf.get_xyz_string(), 'xyz', viewer=(0, 2))\n",
    "viewer.setViewStyle({\"style\": \"outline\", \"width\": 0.05})\n",
    "viewer.setStyle({\"stick\":{},\"sphere\": {\"scale\":0.25}})\n",
    "viewer.show()"
   ]
  },
  {
   "cell_type": "markdown",
   "id": "3a864307",
   "metadata": {},
   "source": [
    "These structures are all very similar, featuring, *e.g*, the staggered H-O-C-H dihedral. To better see any differences in the structures, the distance matrices can be calculated using functionalities from the molecule object:"
   ]
  },
  {
   "cell_type": "code",
   "execution_count": 12,
   "id": "4d7510fc",
   "metadata": {},
   "outputs": [
    {
     "name": "stdout",
     "output_type": "stream",
     "text": [
      "From UFF:\n",
      "[[0.    1.398 1.112 1.112 1.109 1.925]\n",
      " [1.398 0.    2.065 2.065 2.05  0.992]\n",
      " [1.112 2.065 0.    1.818 1.806 2.291]\n",
      " [1.112 2.065 1.818 0.    1.806 2.291]\n",
      " [1.109 2.05  1.806 1.806 0.    2.855]\n",
      " [1.925 0.992 2.291 2.291 2.855 0.   ]]\n",
      "\n",
      "From xTB:\n",
      "[[0.    1.406 1.096 1.096 1.088 1.946]\n",
      " [1.406 0.    2.078 2.078 2.008 0.963]\n",
      " [1.096 2.078 0.    1.783 1.777 2.343]\n",
      " [1.096 2.078 1.783 0.    1.777 2.343]\n",
      " [1.088 2.008 1.777 1.777 0.    2.817]\n",
      " [1.946 0.963 2.343 2.343 2.817 0.   ]]\n",
      "\n",
      "From HF:\n",
      "[[0.    1.433 1.095 1.095 1.091 1.928]\n",
      " [1.433 0.    2.109 2.109 2.048 0.991]\n",
      " [1.095 2.109 0.    1.773 1.77  2.316]\n",
      " [1.095 2.109 1.773 0.    1.77  2.316]\n",
      " [1.091 2.048 1.77  1.77  0.    2.831]\n",
      " [1.928 0.991 2.316 2.316 2.831 0.   ]]\n"
     ]
    }
   ],
   "source": [
    "print('From force field (MMFF94):')\n",
    "dm_ff = methanol_ff.get_distance_matrix_in_angstrom()\n",
    "print(np.around(dm_ff,3))\n",
    "print()\n",
    "\n",
    "print('From xTB:')\n",
    "dm_xtb = methanol_xtb.get_distance_matrix_in_angstrom()\n",
    "print(np.around(dm_xtb,3))\n",
    "print()\n",
    "\n",
    "print('From HF:')\n",
    "dm_hf = methanol_hf.get_distance_matrix_in_angstrom()\n",
    "print(np.around(dm_hf,3))"
   ]
  },
  {
   "cell_type": "markdown",
   "id": "c765ce4c",
   "metadata": {},
   "source": [
    "This gives the the distances between all pairs of atoms, as expressed in Å.\n",
    "\n",
    "As long as the atom order is consistent (which it here is), we can print the differences in distance matrices, or maximal absolute difference:"
   ]
  },
  {
   "cell_type": "code",
   "execution_count": 13,
   "id": "22d97141",
   "metadata": {},
   "outputs": [
    {
     "name": "stdout",
     "output_type": "stream",
     "text": [
      "Difference between HF and xTB:\n",
      "[[ 0.     0.027 -0.    -0.     0.003 -0.019]\n",
      " [ 0.027  0.     0.031  0.031  0.04   0.028]\n",
      " [-0.     0.031  0.    -0.01  -0.007 -0.027]\n",
      " [-0.     0.031 -0.01   0.    -0.007 -0.027]\n",
      " [ 0.003  0.04  -0.007 -0.007  0.     0.014]\n",
      " [-0.019  0.028 -0.027 -0.027  0.014  0.   ]]\n",
      "\n",
      "Maximal absolute difference between HF and xTB:\n",
      "0.0395 Å\n"
     ]
    }
   ],
   "source": [
    "print('Difference between HF and xTB:')\n",
    "print(np.around(dm_hf - dm_xtb,3))\n",
    "print()\n",
    "print('Maximal absolute difference between HF and xTB:')\n",
    "print(f'{np.max(np.abs(dm_hf - dm_xtb)):.4f} Å')"
   ]
  },
  {
   "cell_type": "markdown",
   "id": "7afafe1e",
   "metadata": {},
   "source": [
    "The largest difference is thus seen to be 0.04 Å, between atoms 2 and 5. These atoms are the oxygen and one hydrogen from CH$_4$, which has a total distance of 2.05 Å. As any pair-wise differences will propagate along the molecule, it may be more relevant to look at *relative* differences:"
   ]
  },
  {
   "cell_type": "code",
   "execution_count": 9,
   "id": "3e69853a",
   "metadata": {},
   "outputs": [
    {
     "name": "stdout",
     "output_type": "stream",
     "text": [
      "Relative difference between HF and xTB:\n",
      "[[ 0.     0.019 -0.    -0.     0.003 -0.01 ]\n",
      " [ 0.019  0.     0.015  0.015  0.019  0.029]\n",
      " [-0.     0.015  0.    -0.006 -0.004 -0.012]\n",
      " [-0.     0.015 -0.006  0.    -0.004 -0.012]\n",
      " [ 0.003  0.019 -0.004 -0.004  0.     0.005]\n",
      " [-0.01   0.029 -0.012 -0.012  0.005  0.   ]]\n",
      "\n",
      "Maximal relative difference between HF and xTB:\n",
      "0.0286\n"
     ]
    }
   ],
   "source": [
    "# replace the diagonal elements (zeros) with a large number to avoid nan\n",
    "dm_tmp = dm_hf + 1e10*np.diag(np.ones(len(dm_hf)))\n",
    "\n",
    "print('Relative difference between HF and xTB:')\n",
    "print(np.around((dm_hf - dm_xtb)/dm_tmp,3))\n",
    "print()\n",
    "print('Maximal relative difference between HF and xTB:')\n",
    "print(f'{np.max(np.abs((dm_hf - dm_xtb)/dm_tmp)):.4f}')"
   ]
  },
  {
   "cell_type": "markdown",
   "id": "3827800f",
   "metadata": {},
   "source": [
    "Now we see that the largest *relative* difference in atom-pair distance is between atoms 2 and 6, which correspond to the oxygen and the hydrogen directly connected to the oxygen. With this, we have thus found the largest relative deviation in a bond length, which is in most cases more important than in distances between atoms at different sites."
   ]
  }
 ],
 "metadata": {
  "celltoolbar": "Tags",
  "kernelspec": {
   "display_name": "Python 3 (ipykernel)",
   "language": "python",
   "name": "python3"
  },
  "language_info": {
   "codemirror_mode": {
    "name": "ipython",
    "version": 3
   },
   "file_extension": ".py",
   "mimetype": "text/x-python",
   "name": "python",
   "nbconvert_exporter": "python",
   "pygments_lexer": "ipython3",
   "version": "3.11.7"
  }
 },
 "nbformat": 4,
 "nbformat_minor": 5
}
