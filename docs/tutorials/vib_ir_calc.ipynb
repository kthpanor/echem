{
 "cells": [
  {
   "cell_type": "markdown",
   "id": "1867bdea-420c-463e-9867-cf554c45bfbc",
   "metadata": {
    "tags": []
   },
   "source": [
    "(sec:ir-tutorial)=\n",
    "# IR spectroscopy\n",
    "\n",
    "The infrared (IR) absorption process involves the absorption of light with low photon energy (from approx. 800 nm to approx. 1000 $\\mu$m) which promotes the excitation of molecular vibrations. Of the entire IR photon energy range, the photons which excite fundamental vibrations of covalent bonds have energies in the range 2.5-25 $\\mu$m {cite}`Norman2018, Centrone2015`. The absorbed photon energies (i.e., IR absorption peak positions) correspond to the molecular vibrational frequencies, while the IR intensities are related to the IR linear absorption cross-section {cite}`Norman2018`\n",
    "\n",
    "$$\n",
    "\\sigma_k(\\omega)= \\frac{\\pi}{3\\epsilon_0c}\\left(\\frac{\\partial \\mu}{\\partial Q_k}\\right)^2\\frac{\\gamma_{k}}{(\\omega_{k0}-\\omega)^2+\\gamma_{k}^2}\\,\n",
    "$$\n",
    "\n",
    "Here, $\\mu$ is the molecular dipole moment of the electronic ground state, $Q_k$ is the normal coordinate corresponding to the vibrational mode $k$, $\\omega$ is the angular frequency of the absorbed electromagnetic radiation, $\\omega_{k0}$ is the angular frequency difference between the excited vibrational state $|k\\rangle$ and the ground state, and $\\gamma_{k}$ is the half-width broadening associated with the inverse lifetime of $|k\\rangle$. As can be seen from the equation, the IR absorption cross-section depends on the derivative of the dipole moment with respect to the normal coordinate $Q_k$. This means that the only modes which have non-zero IR absorption cross-sections are those associated with a change in the dipole moment {cite}`Siebert2007`.\n",
    "\n",
    "These molecular vibrations constitute fingerprints of different functional groups present in the system and thus are important for chemical characterization and molecular identification.\n",
    "\n",
    "The first step in an IR spectrum calculation is to determine the normal modes and frequencies. These are obtained from the eigenstates and eigenvalues of the Hessian matrix which collects all the second order derivatives of the energy $E$ with respect to the nuclear coordinates. For the ground state, the Hessian can be determined [analytically](sec:mol-hessian), or numerically based on the analytical gradient. The [dipole moment gradient](dipole_mom_gradient:label), required to compute IR absorption cross-sections, can also be determined analytically. "
   ]
  },
  {
   "cell_type": "code",
   "execution_count": 3,
   "id": "8ea1d5ea-44d1-4ae1-bd44-18e61b5b48f5",
   "metadata": {
    "tags": [
     "remove-output"
    ]
   },
   "outputs": [
    {
     "name": "stdout",
     "output_type": "stream",
     "text": [
      "* Warning * Environment variable OMP_NUM_THREADS not set.\n",
      "* Warning * Setting OMP_NUM_THREADS to 4.\n"
     ]
    }
   ],
   "source": [
    "import veloxchem as vlx\n",
    "import numpy as np\n",
    "import sys\n",
    "import py3Dmol as p3d\n",
    "from veloxchem.veloxchemlib import bohr_in_angstroms"
   ]
  },
  {
   "cell_type": "code",
   "execution_count": 4,
   "id": "818d345a-f981-40cc-8726-e469179eb8a2",
   "metadata": {
    "tags": [
     "remove-output"
    ]
   },
   "outputs": [
    {
     "name": "stdout",
     "output_type": "stream",
     "text": [
      "* Info * Reading basis set from file: /home/thomas/Notebook/anaconda/envs/echem/lib/python3.10/site-packages/veloxchem/basis/STO-3G\n",
      "                                                                                                                          \n",
      "                                              Molecular Basis (Atomic Basis)                                              \n",
      "                                             ================================                                             \n",
      "                                                                                                                          \n",
      "                               Basis: STO-3G                                                                              \n",
      "                                                                                                                          \n",
      "                               Atom Contracted GTOs           Primitive GTOs                                              \n",
      "                                                                                                                          \n",
      "                                O   (2S,1P)                   (6S,3P)                                                     \n",
      "                                H   (1S)                      (3S)                                                        \n",
      "                                                                                                                          \n",
      "                               Contracted Basis Functions : 7                                                             \n",
      "                               Primitive Basis Functions  : 21                                                            \n",
      "                                                                                                                          \n"
     ]
    }
   ],
   "source": [
    "# Define the molecule and basis set\n",
    "molecule_string = \"\"\"3\n",
    "\n",
    "  O 0.000 0.000  0.000\n",
    "  H 0.000 0.000  0.950\n",
    "  H 0.896 0.000 -0.317\"\"\"\n",
    "basis_set_label = 'sto-3g'\n",
    "\n",
    "molecule = vlx.Molecule.from_xyz_string(molecule_string)\n",
    "basis = vlx.MolecularBasis.read(molecule, basis_set_label)"
   ]
  },
  {
   "cell_type": "code",
   "execution_count": 7,
   "id": "126d7f3e-6036-47ae-b0fd-b9bdba4b0b11",
   "metadata": {
    "tags": [
     "remove-input"
    ]
   },
   "outputs": [
    {
     "data": {
      "application/3dmoljs_load.v0": "<div id=\"3dmolviewer_16794808686006744\"  style=\"position: relative; width: 300px; height: 200px\">\n        <p id=\"3dmolwarning_16794808686006744\" style=\"background-color:#ffcccc;color:black\">You appear to be running in JupyterLab (or JavaScript failed to load for some other reason).  You need to install the 3dmol extension: <br>\n        <tt>jupyter labextension install jupyterlab_3dmol</tt></p>\n        </div>\n<script>\n\nvar loadScriptAsync = function(uri){\n  return new Promise((resolve, reject) => {\n    //this is to ignore the existence of requirejs amd\n    var savedexports, savedmodule;\n    if (typeof exports !== 'undefined') savedexports = exports;\n    else exports = {}\n    if (typeof module !== 'undefined') savedmodule = module;\n    else module = {}\n\n    var tag = document.createElement('script');\n    tag.src = uri;\n    tag.async = true;\n    tag.onload = () => {\n        exports = savedexports;\n        module = savedmodule;\n        resolve();\n    };\n  var firstScriptTag = document.getElementsByTagName('script')[0];\n  firstScriptTag.parentNode.insertBefore(tag, firstScriptTag);\n});\n};\n\nif(typeof $3Dmolpromise === 'undefined') {\n$3Dmolpromise = null;\n  $3Dmolpromise = loadScriptAsync('https://cdnjs.cloudflare.com/ajax/libs/3Dmol/2.0.1/3Dmol-min.js');\n}\n\nvar viewer_16794808686006744 = null;\nvar warn = document.getElementById(\"3dmolwarning_16794808686006744\");\nif(warn) {\n    warn.parentNode.removeChild(warn);\n}\n$3Dmolpromise.then(function() {\nvar viewergrid_16794808686006744 = null;\nviewergrid_16794808686006744 = $3Dmol.createViewerGrid(document.getElementById(\"3dmolviewer_16794808686006744\"),{rows: 1, cols: 1, control_all: true},{backgroundColor:\"white\"});\nviewer_16794808686006744 = viewergrid_16794808686006744[0][0];\nviewergrid_16794808686006744[0][0].zoomTo();\tviewergrid_16794808686006744[0][0].addModel(\"3\\n\\n  O 0.000 0.000  0.000\\n  H 0.000 0.000  0.950\\n  H 0.896 0.000 -0.317\",\"xyz\");\n\tviewergrid_16794808686006744[0][0].setViewStyle({\"style\": \"outline\", \"width\": 0.05});\n\tviewergrid_16794808686006744[0][0].setStyle({\"stick\": {}, \"sphere\": {\"scale\": 0.25}});\n\tviewergrid_16794808686006744[0][0].rotate(-90,\"x\");\n\tviewergrid_16794808686006744[0][0].zoomTo();\nviewergrid_16794808686006744[0][0].render();\n});\n</script>",
      "text/html": [
       "<div id=\"3dmolviewer_16794808686006744\"  style=\"position: relative; width: 300px; height: 200px\">\n",
       "        <p id=\"3dmolwarning_16794808686006744\" style=\"background-color:#ffcccc;color:black\">You appear to be running in JupyterLab (or JavaScript failed to load for some other reason).  You need to install the 3dmol extension: <br>\n",
       "        <tt>jupyter labextension install jupyterlab_3dmol</tt></p>\n",
       "        </div>\n",
       "<script>\n",
       "\n",
       "var loadScriptAsync = function(uri){\n",
       "  return new Promise((resolve, reject) => {\n",
       "    //this is to ignore the existence of requirejs amd\n",
       "    var savedexports, savedmodule;\n",
       "    if (typeof exports !== 'undefined') savedexports = exports;\n",
       "    else exports = {}\n",
       "    if (typeof module !== 'undefined') savedmodule = module;\n",
       "    else module = {}\n",
       "\n",
       "    var tag = document.createElement('script');\n",
       "    tag.src = uri;\n",
       "    tag.async = true;\n",
       "    tag.onload = () => {\n",
       "        exports = savedexports;\n",
       "        module = savedmodule;\n",
       "        resolve();\n",
       "    };\n",
       "  var firstScriptTag = document.getElementsByTagName('script')[0];\n",
       "  firstScriptTag.parentNode.insertBefore(tag, firstScriptTag);\n",
       "});\n",
       "};\n",
       "\n",
       "if(typeof $3Dmolpromise === 'undefined') {\n",
       "$3Dmolpromise = null;\n",
       "  $3Dmolpromise = loadScriptAsync('https://cdnjs.cloudflare.com/ajax/libs/3Dmol/2.0.1/3Dmol-min.js');\n",
       "}\n",
       "\n",
       "var viewer_16794808686006744 = null;\n",
       "var warn = document.getElementById(\"3dmolwarning_16794808686006744\");\n",
       "if(warn) {\n",
       "    warn.parentNode.removeChild(warn);\n",
       "}\n",
       "$3Dmolpromise.then(function() {\n",
       "var viewergrid_16794808686006744 = null;\n",
       "viewergrid_16794808686006744 = $3Dmol.createViewerGrid(document.getElementById(\"3dmolviewer_16794808686006744\"),{rows: 1, cols: 1, control_all: true},{backgroundColor:\"white\"});\n",
       "viewer_16794808686006744 = viewergrid_16794808686006744[0][0];\n",
       "viewergrid_16794808686006744[0][0].zoomTo();\tviewergrid_16794808686006744[0][0].addModel(\"3\\n\\n  O 0.000 0.000  0.000\\n  H 0.000 0.000  0.950\\n  H 0.896 0.000 -0.317\",\"xyz\");\n",
       "\tviewergrid_16794808686006744[0][0].setViewStyle({\"style\": \"outline\", \"width\": 0.05});\n",
       "\tviewergrid_16794808686006744[0][0].setStyle({\"stick\": {}, \"sphere\": {\"scale\": 0.25}});\n",
       "\tviewergrid_16794808686006744[0][0].rotate(-90,\"x\");\n",
       "\tviewergrid_16794808686006744[0][0].zoomTo();\n",
       "viewergrid_16794808686006744[0][0].render();\n",
       "});\n",
       "</script>"
      ]
     },
     "metadata": {},
     "output_type": "display_data"
    }
   ],
   "source": [
    "view = p3d.view(linked=True, viewergrid=(1,1),width=300,height=200)\n",
    "view.addModel(molecule_string, 'xyz', viewer=(0,0))\n",
    "view.setViewStyle({\"style\": \"outline\", \"width\": 0.05})\n",
    "view.setStyle({\"stick\":{},\"sphere\": {\"scale\":0.25}})\n",
    "view.rotate(-90, \"x\")\n",
    "view.zoomTo()\n",
    "view.show()"
   ]
  },
  {
   "cell_type": "code",
   "execution_count": 25,
   "id": "6bfa1e42",
   "metadata": {
    "scrolled": true,
    "tags": [
     "remove-output"
    ]
   },
   "outputs": [
    {
     "name": "stdout",
     "output_type": "stream",
     "text": [
      "                                                                                                                          \n",
      "                                            Self Consistent Field Driver Setup                                            \n",
      "                                           ====================================                                           \n",
      "                                                                                                                          \n",
      "                   Wave Function Model             : Spin-Restricted Hartree-Fock                                         \n",
      "                   Initial Guess Model             : Superposition of Atomic Densities                                    \n",
      "                   Convergence Accelerator         : Two Level Direct Inversion of Iterative Subspace                     \n",
      "                   Max. Number of Iterations       : 50                                                                   \n",
      "                   Max. Number of Error Vectors    : 10                                                                   \n",
      "                   Convergence Threshold           : 1.0e-06                                                              \n",
      "                   ERI Screening Scheme            : Cauchy Schwarz + Density                                             \n",
      "                   ERI Screening Mode              : Dynamic                                                              \n",
      "                   ERI Screening Threshold         : 1.0e-12                                                              \n",
      "                   Linear Dependence Threshold     : 1.0e-06                                                              \n",
      "                                                                                                                          \n",
      "* Info * Nuclear repulsion energy: 9.2514793147 a.u.                                                                      \n",
      "                                                                                                                          \n",
      "* Info * Overlap matrix computed in 0.01 sec.                                                                             \n",
      "                                                                                                                          \n",
      "* Info * Kinetic energy matrix computed in 0.00 sec.                                                                      \n",
      "                                                                                                                          \n",
      "* Info * Nuclear potential matrix computed in 0.00 sec.                                                                   \n",
      "                                                                                                                          \n",
      "* Info * Orthogonalization matrix computed in 0.00 sec.                                                                   \n",
      "                                                                                                                          \n",
      "* Info * SAD initial guess computed in 0.01 sec.                                                                          \n",
      "                                                                                                                          \n",
      "* Info * Starting Reduced Basis SCF calculation...                                                                        \n",
      "* Info * ...done. SCF energy in reduced basis set: -74.959319307971 a.u. Time: 0.05 sec.                                  \n",
      "                                                                                                                          \n",
      "* Info * Overlap matrix computed in 0.00 sec.                                                                             \n",
      "                                                                                                                          \n",
      "* Info * Kinetic energy matrix computed in 0.00 sec.                                                                      \n",
      "                                                                                                                          \n",
      "* Info * Nuclear potential matrix computed in 0.00 sec.                                                                   \n",
      "                                                                                                                          \n",
      "* Info * Orthogonalization matrix computed in 0.00 sec.                                                                   \n",
      "                                                                                                                          \n",
      "                                                                                                                          \n",
      "               Iter. | Hartree-Fock Energy | Energy Change | Gradient Norm | Max. Gradient | Density Change               \n",
      "               --------------------------------------------------------------------------------------------               \n",
      "                  1       -74.959319310077    0.0000000000      0.00002657      0.00000643      0.00000000                \n",
      "                  2       -74.959319310295   -0.0000000002      0.00000889      0.00000203      0.00002226                \n",
      "                  3       -74.959319310327   -0.0000000000      0.00000049      0.00000011      0.00001225                \n",
      "                                                                                                                          \n",
      "               *** SCF converged in 3 iterations. Time: 0.03 sec.                                                         \n",
      "                                                                                                                          \n",
      "               Spin-Restricted Hartree-Fock:                                                                              \n",
      "               -----------------------------                                                                              \n",
      "               Total Energy                       :      -74.9593193103 a.u.                                              \n",
      "               Electronic Energy                  :      -84.2107986251 a.u.                                              \n",
      "               Nuclear Repulsion Energy           :        9.2514793147 a.u.                                              \n",
      "               ------------------------------------                                                                       \n",
      "               Gradient Norm                      :        0.0000004869 a.u.                                              \n",
      "                                                                                                                          \n",
      "                                                                                                                          \n",
      "               Ground State Information                                                                                   \n",
      "               ------------------------                                                                                   \n",
      "               Charge of Molecule            :  0.0                                                                       \n",
      "               Multiplicity (2S+1)           :  1.0                                                                       \n",
      "               Magnetic Quantum Number (M_S) :  0.0                                                                       \n",
      "                                                                                                                          \n",
      "                                                                                                                          \n",
      "                                                 Spin Restricted Orbitals                                                 \n",
      "                                                 ------------------------                                                 \n",
      "                                                                                                                          \n",
      "               Molecular Orbital No.   1:                                                                                 \n",
      "               --------------------------                                                                                 \n",
      "               Occupation: 2.000 Energy:  -20.23340 a.u.                                                                  \n",
      "               (   1 O   1s  :    -0.99)                                                                                  \n",
      "                                                                                                                          \n",
      "               Molecular Orbital No.   2:                                                                                 \n",
      "               --------------------------                                                                                 \n",
      "               Occupation: 2.000 Energy:   -1.26571 a.u.                                                                  \n",
      "               (   1 O   1s  :    -0.23) (   1 O   2s  :     0.83) (   2 H   1s  :     0.16)                              \n",
      "               (   3 H   1s  :     0.16)                                                                                  \n",
      "                                                                                                                          \n",
      "               Molecular Orbital No.   3:                                                                                 \n",
      "               --------------------------                                                                                 \n",
      "               Occupation: 2.000 Energy:   -0.62927 a.u.                                                                  \n",
      "               (   1 O   1p+1:    -0.35) (   1 O   1p0 :     0.49) (   2 H   1s  :     0.44)                              \n",
      "               (   3 H   1s  :    -0.44)                                                                                  \n",
      "                                                                                                                          \n",
      "               Molecular Orbital No.   4:                                                                                 \n",
      "               --------------------------                                                                                 \n",
      "               Occupation: 2.000 Energy:   -0.44167 a.u.                                                                  \n",
      "               (   1 O   2s  :    -0.52) (   1 O   1p+1:     0.65) (   1 O   1p0 :     0.46)                              \n",
      "               (   2 H   1s  :     0.27) (   3 H   1s  :     0.27)                                                        \n",
      "                                                                                                                          \n",
      "               Molecular Orbital No.   5:                                                                                 \n",
      "               --------------------------                                                                                 \n",
      "               Occupation: 2.000 Energy:   -0.38765 a.u.                                                                  \n",
      "               (   1 O   1p-1:     1.00)                                                                                  \n",
      "                                                                                                                          \n",
      "               Molecular Orbital No.   6:                                                                                 \n",
      "               --------------------------                                                                                 \n",
      "               Occupation: 0.000 Energy:    0.60284 a.u.                                                                  \n",
      "               (   1 O   2s  :     0.91) (   1 O   1p+1:     0.58) (   1 O   1p0 :     0.41)                              \n",
      "               (   2 H   1s  :    -0.81) (   3 H   1s  :    -0.81)                                                        \n",
      "                                                                                                                          \n",
      "               Molecular Orbital No.   7:                                                                                 \n",
      "               --------------------------                                                                                 \n",
      "               Occupation: 0.000 Energy:    0.76592 a.u.                                                                  \n",
      "               (   1 O   1p+1:    -0.58) (   1 O   1p0 :     0.82) (   2 H   1s  :    -0.84)                              \n",
      "               (   3 H   1s  :     0.84)                                                                                  \n",
      "                                                                                                                          \n"
     ]
    }
   ],
   "source": [
    "# Run the SCF calculation\n",
    "scf_settings = {}\n",
    "method_settings = {} #{'xcfun':'b3lyp'}\n",
    "scf_drv = vlx.ScfRestrictedDriver()\n",
    "scf_drv.update_settings(scf_settings, method_settings)\n",
    "scf_results = scf_drv.compute(molecule, basis)"
   ]
  },
  {
   "cell_type": "markdown",
   "id": "b6109b95-ef70-43ea-b8eb-16b5d63bd8d2",
   "metadata": {},
   "source": [
    "Now we can calculate the Hessian "
   ]
  },
  {
   "cell_type": "code",
   "execution_count": 29,
   "id": "77640f16",
   "metadata": {
    "tags": [
     "remove-output"
    ]
   },
   "outputs": [
    {
     "name": "stdout",
     "output_type": "stream",
     "text": [
      "                                                                                                                          \n",
      "                                                    SCF Hessian Driver                                                    \n",
      "                                                   ====================                                                   \n",
      "                                                                                                                          \n",
      "                                   *** Time spent in Hessian calculation: 22.63 sec ***                                   \n",
      "                                                                                                                          \n",
      "                                                                                                                          \n"
     ]
    }
   ],
   "source": [
    "# Create the Hessian Driver and use it to compute an analytical SCF Hessian\n",
    "hessian_settings = {}\n",
    "hessian_drv = vlx.scfhessiandriver.ScfHessianDriver(scf_drv)\n",
    "hessian_drv.update_settings(method_settings, hessian_settings)\n",
    "hessian_drv.compute(molecule, basis)"
   ]
  },
  {
   "cell_type": "code",
   "execution_count": 16,
   "id": "57dd6f24",
   "metadata": {},
   "outputs": [
    {
     "name": "stdout",
     "output_type": "stream",
     "text": [
      "                                           Numerical Hessian (Hartree/Bohr**2)                                            \n",
      "                                          -------------------------------------                                           \n",
      "                                                                                                                          \n",
      "  Coord.       1 O(x)          1 O(y)          1 O(z)          2 H(x)          2 H(y)          2 H(z)          \n",
      "                                                                                                                          \n",
      "  1 O(x)       0.77341782     -0.00000038     -0.22069612     -0.05793218      0.00000009      0.05915262\n",
      "  1 O(y)      -0.00000038     -0.08462376     -0.00000043      0.00000000      0.04250776     -0.00000043\n",
      "  1 O(z)      -0.22069612     -0.00000043      0.93182669     -0.07097807     -0.00000044     -0.79549528\n",
      "  2 H(x)      -0.05793218      0.00000000     -0.07097807      0.05352700     -0.00000011     -0.01075566\n",
      "  2 H(y)       0.00000009      0.04250776     -0.00000044     -0.00000011     -0.02940283     -0.00000043\n",
      "  2 H(z)       0.05915262     -0.00000043     -0.79549528     -0.01075566     -0.00000043      0.80288066\n",
      "  3 H(x)      -0.71548559     -0.00000044      0.29167301      0.00440523     -0.00000010     -0.04839772\n",
      "  3 H(y)      -0.00000048      0.04211608     -0.00000001     -0.00000011     -0.01310492     -0.00000006\n",
      "  3 H(z)       0.16154244      0.00000000     -0.13633145      0.08173282     -0.00000016     -0.00738541\n",
      "                                                                                                                          \n",
      "                                                                                                                          \n",
      "  Coord.       3 H(x)          3 H(y)          3 H(z)          \n",
      "                                                                                                                          \n",
      "  1 O(x)      -0.71548559     -0.00000048      0.16154244\n",
      "  1 O(y)      -0.00000044      0.04211608      0.00000000\n",
      "  1 O(z)       0.29167301     -0.00000001     -0.13633145\n",
      "  2 H(x)       0.00440523     -0.00000011      0.08173282\n",
      "  2 H(y)      -0.00000010     -0.01310492     -0.00000016\n",
      "  2 H(z)      -0.04839772     -0.00000006     -0.00738541\n",
      "  3 H(x)       0.71108039     -0.00000044     -0.24327532\n",
      "  3 H(y)      -0.00000044     -0.02901125     -0.00000004\n",
      "  3 H(z)      -0.24327532     -0.00000004      0.14371685\n",
      "                                                                                                                          \n",
      "                                                                                                                          \n"
     ]
    }
   ],
   "source": [
    "hessian_drv.print_hessian(molecule)"
   ]
  },
  {
   "cell_type": "markdown",
   "id": "f5229512",
   "metadata": {},
   "source": [
    "The normal modes and frequencies are then determined by diagonalizing the Hessian. First, the translation and rotational modes must be projected out, leaving $3N-6$ (or $3N-5$ for a linear molecule) vibrational modes for a system with $N$ atoms. This is done under the hood with the help of [geomeTRIC](sec:geometric). \n",
    "\n",
    "The IR intensities are determined as discussed in more detail [here](dipole_mom_gradient:label)."
   ]
  },
  {
   "cell_type": "code",
   "execution_count": 17,
   "id": "d858138e",
   "metadata": {},
   "outputs": [
    {
     "name": "stdout",
     "output_type": "stream",
     "text": [
      "                                                   Vibrational Analysis                                                   \n",
      "                                                  ======================                                                  \n",
      "                                                                                                                          \n",
      "                 Harmonic frequencies (in cm**-1), force constants (in mdyne/A), reduced masses (in amu),                 \n",
      "                                                IR intensities (in km/mol),                                               \n",
      "                                         and Cartesian normal mode displacements.                                         \n",
      "                                                                                                                          \n",
      "                                                                                                                          \n",
      "  Index:                        1                              2                              3               \n",
      "  Frequency:                 1927.08                        4545.78                        4896.44            \n",
      "  Force constant:            2.3750                         12.6969                        15.3533            \n",
      "  Reduced mass:              1.0855                         1.0429                         1.0869             \n",
      "  IR intensity:              15.0373                        30.3498                        12.8846            \n",
      "  Normal mode:       X         Y         Z     |    X         Y         Z     |    X         Y         Z     |\n",
      "  1 O              0.0587    0.0000    0.0415  | -0.0397    0.0000   -0.0274  |  0.0416    0.0000   -0.0595  |\n",
      "  2 H             -0.7054    0.0000    0.0092  | -0.0299    0.0000    0.7000  | -0.0002    0.0000    0.7111  |\n",
      "  3 H             -0.2266   -0.0000   -0.6677  |  0.6605   -0.0000   -0.2654  | -0.6594    0.0000    0.2331  |\n",
      "                                                                                                                          \n",
      "                                                                                                                          \n"
     ]
    }
   ],
   "source": [
    "hessian_drv.vibrational_analysis(molecule)"
   ]
  },
  {
   "cell_type": "code",
   "execution_count": 18,
   "id": "2dfe5c91",
   "metadata": {},
   "outputs": [],
   "source": [
    "def add_broadening(list_ex_energy, list_osci_strength, line_profile='Lorentzian', line_param=10, step=10):\n",
    "        x_min = np.amin(list_ex_energy) - 50\n",
    "        x_max = np.amax(list_ex_energy) + 50\n",
    "        x = np.arange(x_min, x_max, step)\n",
    "        y = np.zeros((len(x)))\n",
    "\n",
    "        # go through the frames and calculate the spectrum for each frame\n",
    "        for xp in range(len(x)):\n",
    "            for e, f in zip(list_ex_energy, list_osci_strength):\n",
    "                if line_profile == 'Gaussian':\n",
    "                    y[xp] += f * np.exp(-(\n",
    "                        (e - x[xp]) / line_param)**2)\n",
    "                elif line_profile == 'Lorentzian':\n",
    "                    y[xp] += 0.5 * line_param * f / (np.pi * (\n",
    "                        (x[xp] - e)**2 + 0.25 * line_param**2))\n",
    "        return x, y"
   ]
  },
  {
   "cell_type": "code",
   "execution_count": 19,
   "id": "2be8d188",
   "metadata": {},
   "outputs": [
    {
     "data": {
      "image/png": "[encoded data removed]",
      "text/plain": [
       "<Figure size 504x288 with 1 Axes>"
      ]
     },
     "metadata": {
      "needs_background": "light"
     },
     "output_type": "display_data"
    }
   ],
   "source": [
    "# plot the IR spectrum\n",
    "from matplotlib import pyplot as plt\n",
    "\n",
    "plt.figure(figsize=(7,4))\n",
    "x1,y1 = hessian_drv.frequencies, hessian_drv.ir_intensities\n",
    "x1i, y1i = add_broadening(x1,y1,line_profile='Gaussian',line_param=20,step=10)\n",
    "plt.plot(x1i,y1i)\n",
    "plt.xlabel('wavenumber (cm**-1)')\n",
    "plt.ylabel('IR intensity (km/mol)')\n",
    "plt.title(\"Calculated IR sepctrum of the water molecule\")\n",
    "plt.tight_layout(); plt.show()"
   ]
  },
  {
   "cell_type": "markdown",
   "id": "62837f4f",
   "metadata": {},
   "source": [
    "![Experimental spectrum](../../img/ir_raman/ir-exp-water.png)\n",
    "\n",
    "Let's now visualize the three vibrational normal modes. The two high frequency modes are OH stretching modes (one symmetryc and one asymmetric), while the lower energy mode is a bond angle bending."
   ]
  },
  {
   "cell_type": "code",
   "execution_count": 20,
   "id": "53826cd2",
   "metadata": {},
   "outputs": [],
   "source": [
    "# To animate the normal mode we will need both the geometry and the displacements \n",
    "def get_normal_mode(molecule, normal_mode):\n",
    "    elements = molecule.get_labels()\n",
    "    # Transform from au to A\n",
    "    coords = molecule.get_coordinates() * bohr_in_angstroms()\n",
    "    natm = molecule.number_of_atoms()\n",
    "    \n",
    "    vib_xyz = \"%d\\n\\n\" % natm\n",
    "    nm = normal_mode.reshape(natm, 3)\n",
    "    for i in range(natm):\n",
    "        # add coordinates:\n",
    "        vib_xyz += elements[i] + \" %15.7f %15.7f %15.7f \" % (coords[i,0], coords[i,1], coords[i,2])\n",
    "        # add displacements:\n",
    "        vib_xyz += \"%15.7f %15.7f %15.7f\\n\" % (nm[i,0], nm[i,1], nm[i,2])\n",
    "    return vib_xyz"
   ]
  },
  {
   "cell_type": "code",
   "execution_count": 21,
   "id": "3ca09d44",
   "metadata": {},
   "outputs": [],
   "source": [
    "vib_1 = get_normal_mode(molecule, hessian_drv.normal_modes[0])\n",
    "vib_2 = get_normal_mode(molecule, hessian_drv.normal_modes[1])\n",
    "vib_3 = get_normal_mode(molecule, hessian_drv.normal_modes[2])"
   ]
  },
  {
   "cell_type": "code",
   "execution_count": 22,
   "id": "3d21debc-01e2-4c68-acf2-8d409b984b65",
   "metadata": {},
   "outputs": [
    {
     "name": "stdout",
     "output_type": "stream",
     "text": [
      "This is the bending mode at 1927.09 cm-1.\n"
     ]
    },
    {
     "data": {
      "application/3dmoljs_load.v0": "<div id=\"3dmolviewer_16544366307638984\"  style=\"position: relative; width: 300px; height: 300px\">\n        <p id=\"3dmolwarning_16544366307638984\" style=\"background-color:#ffcccc;color:black\">You appear to be running in JupyterLab (or JavaScript failed to load for some other reason).  You need to install the 3dmol extension: <br>\n        <tt>jupyter labextension install jupyterlab_3dmol</tt></p>\n        </div>\n<script>\n\nvar loadScriptAsync = function(uri){\n  return new Promise((resolve, reject) => {\n    var tag = document.createElement('script');\n    tag.src = uri;\n    tag.async = true;\n    tag.onload = () => {\n      resolve();\n    };\n  var firstScriptTag = document.getElementsByTagName('script')[0];\n  firstScriptTag.parentNode.insertBefore(tag, firstScriptTag);\n});\n};\n\nif(typeof $3Dmolpromise === 'undefined') {\n$3Dmolpromise = null;\n  $3Dmolpromise = loadScriptAsync('https://3dmol.org/build/3Dmol.js');\n}\n\nvar viewer_16544366307638984 = null;\nvar warn = document.getElementById(\"3dmolwarning_16544366307638984\");\nif(warn) {\n    warn.parentNode.removeChild(warn);\n}\n$3Dmolpromise.then(function() {\nviewer_16544366307638984 = $3Dmol.createViewer($(\"#3dmolviewer_16544366307638984\"),{backgroundColor:\"white\"});\nviewer_16544366307638984.zoomTo();\n\tviewer_16544366307638984.addModel(\"3\\n\\nO       0.0000000       0.0000000       0.0000000       0.0587157       0.0000000       0.0414896\\nH       0.0000000       0.0000000       0.9500000      -0.7053752       0.0000000       0.0091563\\nH       0.8960000       0.0000000      -0.3170000      -0.2266089      -0.0000000      -0.6677136\\n\",\"xyz\",{\"vibrate\": {\"frames\": 10, \"amplitude\": 0.75}});\n\tviewer_16544366307638984.setStyle({\"stick\": {}});\n\tviewer_16544366307638984.animate({\"loop\": \"backAndForth\"});\n\tviewer_16544366307638984.rotate(-90,\"x\");\n\tviewer_16544366307638984.zoomTo();\nviewer_16544366307638984.render();\n});\n</script>",
      "text/html": [
       "<div id=\"3dmolviewer_16544366307638984\"  style=\"position: relative; width: 300px; height: 300px\">\n",
       "        <p id=\"3dmolwarning_16544366307638984\" style=\"background-color:#ffcccc;color:black\">You appear to be running in JupyterLab (or JavaScript failed to load for some other reason).  You need to install the 3dmol extension: <br>\n",
       "        <tt>jupyter labextension install jupyterlab_3dmol</tt></p>\n",
       "        </div>\n",
       "<script>\n",
       "\n",
       "var loadScriptAsync = function(uri){\n",
       "  return new Promise((resolve, reject) => {\n",
       "    var tag = document.createElement('script');\n",
       "    tag.src = uri;\n",
       "    tag.async = true;\n",
       "    tag.onload = () => {\n",
       "      resolve();\n",
       "    };\n",
       "  var firstScriptTag = document.getElementsByTagName('script')[0];\n",
       "  firstScriptTag.parentNode.insertBefore(tag, firstScriptTag);\n",
       "});\n",
       "};\n",
       "\n",
       "if(typeof $3Dmolpromise === 'undefined') {\n",
       "$3Dmolpromise = null;\n",
       "  $3Dmolpromise = loadScriptAsync('https://3dmol.org/build/3Dmol.js');\n",
       "}\n",
       "\n",
       "var viewer_16544366307638984 = null;\n",
       "var warn = document.getElementById(\"3dmolwarning_16544366307638984\");\n",
       "if(warn) {\n",
       "    warn.parentNode.removeChild(warn);\n",
       "}\n",
       "$3Dmolpromise.then(function() {\n",
       "viewer_16544366307638984 = $3Dmol.createViewer($(\"#3dmolviewer_16544366307638984\"),{backgroundColor:\"white\"});\n",
       "viewer_16544366307638984.zoomTo();\n",
       "\tviewer_16544366307638984.addModel(\"3\\n\\nO       0.0000000       0.0000000       0.0000000       0.0587157       0.0000000       0.0414896\\nH       0.0000000       0.0000000       0.9500000      -0.7053752       0.0000000       0.0091563\\nH       0.8960000       0.0000000      -0.3170000      -0.2266089      -0.0000000      -0.6677136\\n\",\"xyz\",{\"vibrate\": {\"frames\": 10, \"amplitude\": 0.75}});\n",
       "\tviewer_16544366307638984.setStyle({\"stick\": {}});\n",
       "\tviewer_16544366307638984.animate({\"loop\": \"backAndForth\"});\n",
       "\tviewer_16544366307638984.rotate(-90,\"x\");\n",
       "\tviewer_16544366307638984.zoomTo();\n",
       "viewer_16544366307638984.render();\n",
       "});\n",
       "</script>"
      ]
     },
     "metadata": {},
     "output_type": "display_data"
    }
   ],
   "source": [
    "print(\"This is the bending mode at 1927.09 cm-1.\")\n",
    "view = p3d.view(width=300, height=300)\n",
    "view.addModel(vib_1, \"xyz\", {'vibrate': {'frames':10,'amplitude':0.75}})\n",
    "view.setViewStyle({\"style\": \"outline\", \"width\": 0.05})\n",
    "view.setStyle({\"stick\":{},\"sphere\": {\"scale\":0.25}})\n",
    "view.animate({'loop': 'backAndForth'})\n",
    "view.rotate(-90, \"x\")\n",
    "view.zoomTo()\n",
    "view.show()"
   ]
  },
  {
   "cell_type": "code",
   "execution_count": 23,
   "id": "19e35714-8b3b-474a-8024-56a22fec1619",
   "metadata": {},
   "outputs": [
    {
     "name": "stdout",
     "output_type": "stream",
     "text": [
      "This is the symmetric stretching mode at 4545.78 cm-1.\n"
     ]
    },
    {
     "data": {
      "application/3dmoljs_load.v0": "<div id=\"3dmolviewer_16544366330705209\"  style=\"position: relative; width: 300px; height: 300px\">\n        <p id=\"3dmolwarning_16544366330705209\" style=\"background-color:#ffcccc;color:black\">You appear to be running in JupyterLab (or JavaScript failed to load for some other reason).  You need to install the 3dmol extension: <br>\n        <tt>jupyter labextension install jupyterlab_3dmol</tt></p>\n        </div>\n<script>\n\nvar loadScriptAsync = function(uri){\n  return new Promise((resolve, reject) => {\n    var tag = document.createElement('script');\n    tag.src = uri;\n    tag.async = true;\n    tag.onload = () => {\n      resolve();\n    };\n  var firstScriptTag = document.getElementsByTagName('script')[0];\n  firstScriptTag.parentNode.insertBefore(tag, firstScriptTag);\n});\n};\n\nif(typeof $3Dmolpromise === 'undefined') {\n$3Dmolpromise = null;\n  $3Dmolpromise = loadScriptAsync('https://3dmol.org/build/3Dmol.js');\n}\n\nvar viewer_16544366330705209 = null;\nvar warn = document.getElementById(\"3dmolwarning_16544366330705209\");\nif(warn) {\n    warn.parentNode.removeChild(warn);\n}\n$3Dmolpromise.then(function() {\nviewer_16544366330705209 = $3Dmol.createViewer($(\"#3dmolviewer_16544366330705209\"),{backgroundColor:\"white\"});\nviewer_16544366330705209.zoomTo();\n\tviewer_16544366330705209.addModel(\"3\\n\\nO       0.0000000       0.0000000       0.0000000      -0.0397284       0.0000000      -0.0273808\\nH       0.0000000       0.0000000       0.9500000      -0.0299231       0.0000000       0.7000269\\nH       0.8960000       0.0000000      -0.3170000       0.6605247      -0.0000000      -0.2654166\\n\",\"xyz\",{\"vibrate\": {\"frames\": 10, \"amplitude\": 0.75}});\n\tviewer_16544366330705209.setStyle({\"stick\": {}});\n\tviewer_16544366330705209.animate({\"loop\": \"backAndForth\"});\n\tviewer_16544366330705209.rotate(-90,\"x\");\n\tviewer_16544366330705209.zoomTo();\nviewer_16544366330705209.render();\n});\n</script>",
      "text/html": [
       "<div id=\"3dmolviewer_16544366330705209\"  style=\"position: relative; width: 300px; height: 300px\">\n",
       "        <p id=\"3dmolwarning_16544366330705209\" style=\"background-color:#ffcccc;color:black\">You appear to be running in JupyterLab (or JavaScript failed to load for some other reason).  You need to install the 3dmol extension: <br>\n",
       "        <tt>jupyter labextension install jupyterlab_3dmol</tt></p>\n",
       "        </div>\n",
       "<script>\n",
       "\n",
       "var loadScriptAsync = function(uri){\n",
       "  return new Promise((resolve, reject) => {\n",
       "    var tag = document.createElement('script');\n",
       "    tag.src = uri;\n",
       "    tag.async = true;\n",
       "    tag.onload = () => {\n",
       "      resolve();\n",
       "    };\n",
       "  var firstScriptTag = document.getElementsByTagName('script')[0];\n",
       "  firstScriptTag.parentNode.insertBefore(tag, firstScriptTag);\n",
       "});\n",
       "};\n",
       "\n",
       "if(typeof $3Dmolpromise === 'undefined') {\n",
       "$3Dmolpromise = null;\n",
       "  $3Dmolpromise = loadScriptAsync('https://3dmol.org/build/3Dmol.js');\n",
       "}\n",
       "\n",
       "var viewer_16544366330705209 = null;\n",
       "var warn = document.getElementById(\"3dmolwarning_16544366330705209\");\n",
       "if(warn) {\n",
       "    warn.parentNode.removeChild(warn);\n",
       "}\n",
       "$3Dmolpromise.then(function() {\n",
       "viewer_16544366330705209 = $3Dmol.createViewer($(\"#3dmolviewer_16544366330705209\"),{backgroundColor:\"white\"});\n",
       "viewer_16544366330705209.zoomTo();\n",
       "\tviewer_16544366330705209.addModel(\"3\\n\\nO       0.0000000       0.0000000       0.0000000      -0.0397284       0.0000000      -0.0273808\\nH       0.0000000       0.0000000       0.9500000      -0.0299231       0.0000000       0.7000269\\nH       0.8960000       0.0000000      -0.3170000       0.6605247      -0.0000000      -0.2654166\\n\",\"xyz\",{\"vibrate\": {\"frames\": 10, \"amplitude\": 0.75}});\n",
       "\tviewer_16544366330705209.setStyle({\"stick\": {}});\n",
       "\tviewer_16544366330705209.animate({\"loop\": \"backAndForth\"});\n",
       "\tviewer_16544366330705209.rotate(-90,\"x\");\n",
       "\tviewer_16544366330705209.zoomTo();\n",
       "viewer_16544366330705209.render();\n",
       "});\n",
       "</script>"
      ]
     },
     "metadata": {},
     "output_type": "display_data"
    }
   ],
   "source": [
    "print(\"This is the symmetric stretching mode at 4545.78 cm-1.\")\n",
    "view = p3d.view(width=300, height=300)\n",
    "view.addModel(vib_2, \"xyz\", {'vibrate': {'frames':10,'amplitude':0.75}})\n",
    "view.setViewStyle({\"style\": \"outline\", \"width\": 0.05})\n",
    "view.setStyle({\"stick\":{},\"sphere\": {\"scale\":0.25}})\n",
    "view.animate({'loop': 'backAndForth'})\n",
    "view.rotate(-90, \"x\")\n",
    "view.zoomTo()\n",
    "view.show()"
   ]
  },
  {
   "cell_type": "code",
   "execution_count": 24,
   "id": "e9f403ee-0334-496f-8165-815abc71213c",
   "metadata": {},
   "outputs": [
    {
     "name": "stdout",
     "output_type": "stream",
     "text": [
      "This is the asymmetric stretching mode at 4896.44 cm-1.\n"
     ]
    },
    {
     "data": {
      "application/3dmoljs_load.v0": "<div id=\"3dmolviewer_16544366349769137\"  style=\"position: relative; width: 300px; height: 300px\">\n        <p id=\"3dmolwarning_16544366349769137\" style=\"background-color:#ffcccc;color:black\">You appear to be running in JupyterLab (or JavaScript failed to load for some other reason).  You need to install the 3dmol extension: <br>\n        <tt>jupyter labextension install jupyterlab_3dmol</tt></p>\n        </div>\n<script>\n\nvar loadScriptAsync = function(uri){\n  return new Promise((resolve, reject) => {\n    var tag = document.createElement('script');\n    tag.src = uri;\n    tag.async = true;\n    tag.onload = () => {\n      resolve();\n    };\n  var firstScriptTag = document.getElementsByTagName('script')[0];\n  firstScriptTag.parentNode.insertBefore(tag, firstScriptTag);\n});\n};\n\nif(typeof $3Dmolpromise === 'undefined') {\n$3Dmolpromise = null;\n  $3Dmolpromise = loadScriptAsync('https://3dmol.org/build/3Dmol.js');\n}\n\nvar viewer_16544366349769137 = null;\nvar warn = document.getElementById(\"3dmolwarning_16544366349769137\");\nif(warn) {\n    warn.parentNode.removeChild(warn);\n}\n$3Dmolpromise.then(function() {\nviewer_16544366349769137 = $3Dmol.createViewer($(\"#3dmolviewer_16544366349769137\"),{backgroundColor:\"white\"});\nviewer_16544366349769137.zoomTo();\n\tviewer_16544366349769137.addModel(\"3\\n\\nO       0.0000000       0.0000000       0.0000000       0.0415550       0.0000000      -0.0594815\\nH       0.0000000       0.0000000       0.9500000      -0.0001975       0.0000000       0.7110577\\nH       0.8960000       0.0000000      -0.3170000      -0.6593974       0.0000000       0.2330818\\n\",\"xyz\",{\"vibrate\": {\"frames\": 10, \"amplitude\": 0.75}});\n\tviewer_16544366349769137.setStyle({\"stick\": {}});\n\tviewer_16544366349769137.animate({\"loop\": \"backAndForth\"});\n\tviewer_16544366349769137.rotate(-90,\"x\");\n\tviewer_16544366349769137.zoomTo();\nviewer_16544366349769137.render();\n});\n</script>",
      "text/html": [
       "<div id=\"3dmolviewer_16544366349769137\"  style=\"position: relative; width: 300px; height: 300px\">\n",
       "        <p id=\"3dmolwarning_16544366349769137\" style=\"background-color:#ffcccc;color:black\">You appear to be running in JupyterLab (or JavaScript failed to load for some other reason).  You need to install the 3dmol extension: <br>\n",
       "        <tt>jupyter labextension install jupyterlab_3dmol</tt></p>\n",
       "        </div>\n",
       "<script>\n",
       "\n",
       "var loadScriptAsync = function(uri){\n",
       "  return new Promise((resolve, reject) => {\n",
       "    var tag = document.createElement('script');\n",
       "    tag.src = uri;\n",
       "    tag.async = true;\n",
       "    tag.onload = () => {\n",
       "      resolve();\n",
       "    };\n",
       "  var firstScriptTag = document.getElementsByTagName('script')[0];\n",
       "  firstScriptTag.parentNode.insertBefore(tag, firstScriptTag);\n",
       "});\n",
       "};\n",
       "\n",
       "if(typeof $3Dmolpromise === 'undefined') {\n",
       "$3Dmolpromise = null;\n",
       "  $3Dmolpromise = loadScriptAsync('https://3dmol.org/build/3Dmol.js');\n",
       "}\n",
       "\n",
       "var viewer_16544366349769137 = null;\n",
       "var warn = document.getElementById(\"3dmolwarning_16544366349769137\");\n",
       "if(warn) {\n",
       "    warn.parentNode.removeChild(warn);\n",
       "}\n",
       "$3Dmolpromise.then(function() {\n",
       "viewer_16544366349769137 = $3Dmol.createViewer($(\"#3dmolviewer_16544366349769137\"),{backgroundColor:\"white\"});\n",
       "viewer_16544366349769137.zoomTo();\n",
       "\tviewer_16544366349769137.addModel(\"3\\n\\nO       0.0000000       0.0000000       0.0000000       0.0415550       0.0000000      -0.0594815\\nH       0.0000000       0.0000000       0.9500000      -0.0001975       0.0000000       0.7110577\\nH       0.8960000       0.0000000      -0.3170000      -0.6593974       0.0000000       0.2330818\\n\",\"xyz\",{\"vibrate\": {\"frames\": 10, \"amplitude\": 0.75}});\n",
       "\tviewer_16544366349769137.setStyle({\"stick\": {}});\n",
       "\tviewer_16544366349769137.animate({\"loop\": \"backAndForth\"});\n",
       "\tviewer_16544366349769137.rotate(-90,\"x\");\n",
       "\tviewer_16544366349769137.zoomTo();\n",
       "viewer_16544366349769137.render();\n",
       "});\n",
       "</script>"
      ]
     },
     "metadata": {},
     "output_type": "display_data"
    }
   ],
   "source": [
    "print(\"This is the asymmetric stretching mode at 4896.44 cm-1.\")\n",
    "view = p3d.view(width=300, height=300)\n",
    "view.addModel(vib_3, \"xyz\", {'vibrate': {'frames':10,'amplitude':0.75}})\n",
    "view.setViewStyle({\"style\": \"outline\", \"width\": 0.05})\n",
    "view.setStyle({\"stick\":{},\"sphere\": {\"scale\":0.25}})\n",
    "view.animate({'loop': 'backAndForth'})\n",
    "view.rotate(-90, \"x\")\n",
    "view.zoomTo()\n",
    "view.show()"
   ]
  },
  {
   "cell_type": "code",
   "execution_count": null,
   "id": "b36333be-f1c5-41b3-8307-90f78699629d",
   "metadata": {},
   "outputs": [],
   "source": []
  }
 ],
 "metadata": {
  "kernelspec": {
   "display_name": "Python 3 (ipykernel)",
   "language": "python",
   "name": "python3"
  },
  "language_info": {
   "codemirror_mode": {
    "name": "ipython",
    "version": 3
   },
   "file_extension": ".py",
   "mimetype": "text/x-python",
   "name": "python",
   "nbconvert_exporter": "python",
   "pygments_lexer": "ipython3",
   "version": "3.10.9"
  },
  "widgets": {
   "application/vnd.jupyter.widget-state+json": {
    "state": {},
    "version_major": 2,
    "version_minor": 0
   }
  }
 },
 "nbformat": 4,
 "nbformat_minor": 5
}
