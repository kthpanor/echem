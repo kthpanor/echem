{
 "cells": [
  {
   "cell_type": "markdown",
   "id": "ff8a63c1-317c-4890-a059-85f7e2c9f1e6",
   "metadata": {
    "editable": true,
    "slideshow": {
     "slide_type": ""
    },
    "tags": []
   },
   "source": [
    "# Methane combustion energy\n",
    "\n",
    "Consider methane combustion:\n",
    "\n",
    "$$\n",
    "\\textrm{CH}_4 + 2\\textrm{O}_2 \\rightarrow \\textrm{CO}_2 + 2\\textrm{H}_2\\textrm{O}\n",
    "$$\n",
    "\n",
    "We calculate this reaction energy by constructing equilibrium structures of each molecule, calculating the total energy of each molecule in turn, and taking the energy difference between the reactants and products. This example is inspired by [this paper](https://doi.org/10.1021/acs.jchemed.1c01243), in which the authors discuss the practical aspects of calculating the methane combustion energy, taking into account the competing concerns of computational cost and accuracy. More details on the impact of electron correlation, basis set selection, and extrapolation to the complete basis set (CBS) limit can be found therein."
   ]
  },
  {
   "cell_type": "code",
   "execution_count": 1,
   "id": "c8e6d72c",
   "metadata": {
    "editable": true,
    "slideshow": {
     "slide_type": ""
    },
    "tags": [
     "remove-output"
    ]
   },
   "outputs": [
    {
     "name": "stdout",
     "output_type": "stream",
     "text": [
      "* Warning * Environment variable OMP_NUM_THREADS not set.\n",
      "* Warning * Setting OMP_NUM_THREADS to 4.\n"
     ]
    }
   ],
   "source": [
    "import numpy as np\n",
    "import py3Dmol as p3d\n",
    "import veloxchem as vlx"
   ]
  },
  {
   "cell_type": "markdown",
   "id": "fecad8aa",
   "metadata": {
    "editable": true,
    "slideshow": {
     "slide_type": ""
    },
    "tags": []
   },
   "source": [
    "## Geometry optimization\n",
    "\n",
    "### Force field optimization\n",
    "\n",
    "Construct molecules using SMILES strings and perform a force field optimization."
   ]
  },
  {
   "cell_type": "code",
   "execution_count": 2,
   "id": "af5ae98e",
   "metadata": {
    "editable": true,
    "slideshow": {
     "slide_type": ""
    },
    "tags": []
   },
   "outputs": [],
   "source": [
    "ch4_ff = vlx.Molecule.smiles_to_xyz(\"C\")\n",
    "h2o_ff = vlx.Molecule.smiles_to_xyz(\"O\")\n",
    "co2_ff = vlx.Molecule.smiles_to_xyz(\"O=C=O\")\n",
    "o2_ff = vlx.Molecule.smiles_to_xyz(\"O=O\")"
   ]
  },
  {
   "cell_type": "markdown",
   "id": "d7b6971f",
   "metadata": {
    "editable": true,
    "slideshow": {
     "slide_type": ""
    },
    "tags": []
   },
   "source": [
    "### xTB optimization\n",
    "\n",
    "Set up xTB driver and perform xTB optimization."
   ]
  },
  {
   "cell_type": "code",
   "execution_count": 12,
   "id": "f95622e4",
   "metadata": {
    "editable": true,
    "scrolled": true,
    "slideshow": {
     "slide_type": ""
    },
    "tags": [
     "remove-output"
    ]
   },
   "outputs": [],
   "source": [
    "def xtb_optimization(xyz_ff):\n",
    "\n",
    "    molecule = vlx.Molecule.read_xyz_string(xyz_ff)\n",
    "    xtb_drv = vlx.XtbDriver()\n",
    "    \n",
    "    xtb_opt_drv = vlx.OptimizationDriver(xtb_drv)\n",
    "    xtb_opt_drv.ostream.mute()\n",
    "    \n",
    "    xtb_opt = xtb_opt_drv.compute(molecule)\n",
    "    \n",
    "    return xtb_opt[\"final_geometry\"]\n",
    "\n",
    "\n",
    "ch4_xtb = xtb_optimization(ch4_ff)\n",
    "h2o_xtb = xtb_optimization(h2o_ff)\n",
    "co2_xtb = xtb_optimization(co2_ff)\n",
    "o2_xtb = xtb_optimization(o2_ff)"
   ]
  },
  {
   "cell_type": "markdown",
   "id": "135e596a",
   "metadata": {
    "editable": true,
    "slideshow": {
     "slide_type": ""
    },
    "tags": []
   },
   "source": [
    "### Visualization\n",
    "\n",
    "Convert to format readable by py3Dmol and visualize structures."
   ]
  },
  {
   "cell_type": "code",
   "execution_count": 14,
   "id": "2054b1ed",
   "metadata": {
    "editable": true,
    "slideshow": {
     "slide_type": ""
    },
    "tags": []
   },
   "outputs": [
    {
     "data": {
      "application/3dmoljs_load.v0": "<div id=\"3dmolviewer_1709219423680567\"  style=\"position: relative; width: 400px; height: 300px;\">\n        <p id=\"3dmolwarning_1709219423680567\" style=\"background-color:#ffcccc;color:black\">You appear to be running in JupyterLab (or JavaScript failed to load for some other reason).  You need to install the 3dmol extension: <br>\n        <tt>jupyter labextension install jupyterlab_3dmol</tt></p>\n        </div>\n<script>\n\nvar loadScriptAsync = function(uri){\n  return new Promise((resolve, reject) => {\n    //this is to ignore the existence of requirejs amd\n    var savedexports, savedmodule;\n    if (typeof exports !== 'undefined') savedexports = exports;\n    else exports = {}\n    if (typeof module !== 'undefined') savedmodule = module;\n    else module = {}\n\n    var tag = document.createElement('script');\n    tag.src = uri;\n    tag.async = true;\n    tag.onload = () => {\n        exports = savedexports;\n        module = savedmodule;\n        resolve();\n    };\n  var firstScriptTag = document.getElementsByTagName('script')[0];\n  firstScriptTag.parentNode.insertBefore(tag, firstScriptTag);\n});\n};\n\nif(typeof $3Dmolpromise === 'undefined') {\n$3Dmolpromise = null;\n  $3Dmolpromise = loadScriptAsync('https://cdnjs.cloudflare.com/ajax/libs/3Dmol/2.0.4/3Dmol-min.js');\n}\n\nvar viewer_1709219423680567 = null;\nvar warn = document.getElementById(\"3dmolwarning_1709219423680567\");\nif(warn) {\n    warn.parentNode.removeChild(warn);\n}\n$3Dmolpromise.then(function() {\nvar viewergrid_1709219423680567 = null;\nviewergrid_1709219423680567 = $3Dmol.createViewerGrid(document.getElementById(\"3dmolviewer_1709219423680567\"),{rows: 2, cols: 2, control_all: false},{backgroundColor:\"white\"});\nviewer_1709219423680567 = viewergrid_1709219423680567[0][0];\nviewergrid_1709219423680567[0][0].zoomTo();viewergrid_1709219423680567[0][1].zoomTo();viewergrid_1709219423680567[1][0].zoomTo();viewergrid_1709219423680567[1][1].zoomTo();\tviewergrid_1709219423680567[0][0].addModel(\"5\\n\\nC              1.074898174961        -0.009911760462         0.065518202196\\nH              2.157069638657        -0.009909985794         0.065519607908\\nH              0.714174323592         0.526171823173        -0.802576348935\\nH              0.714171689643         0.473836134205         0.963827379977\\nH              0.714176173147        -1.029746211122         0.035301158854\\n\",\"xyz\");\n\tviewergrid_1709219423680567[0][1].addModel(\"2\\n\\nO              0.987383323395         0.026300002315         0.096470008492\\nO              2.197196676605         0.026299997685         0.096469991508\\n\",\"xyz\");\n\tviewergrid_1709219423680567[1][0].addModel(\"3\\n\\nO              1.191805661545         0.053219991184        -0.054759990927\\nC              2.335459999971         0.053220000098        -0.054760000101\\nO              3.479114338484         0.053220008718        -0.054760008972\\n\",\"xyz\");\n\tviewergrid_1709219423680567[1][1].addModel(\"3\\n\\nO              0.946473864001         0.071065585106         0.057501236355\\nH              1.905502677154         0.058367964392         0.043637439743\\nH              0.644523458845        -0.543863549498        -0.613898676098\\n\",\"xyz\");\n\tviewergrid_1709219423680567[0][0].setViewStyle({\"style\": \"outline\", \"width\": 0.05});\n\tviewergrid_1709219423680567[0][1].setViewStyle({\"style\": \"outline\", \"width\": 0.05});\n\tviewergrid_1709219423680567[1][0].setViewStyle({\"style\": \"outline\", \"width\": 0.05});\n\tviewergrid_1709219423680567[1][1].setViewStyle({\"style\": \"outline\", \"width\": 0.05});\n\tviewergrid_1709219423680567[0][0].setStyle({\"stick\": {}, \"sphere\": {\"scale\": 0.25}});\n\tviewergrid_1709219423680567[0][1].setStyle({\"stick\": {}, \"sphere\": {\"scale\": 0.25}});\n\tviewergrid_1709219423680567[1][0].setStyle({\"stick\": {}, \"sphere\": {\"scale\": 0.25}});\n\tviewergrid_1709219423680567[1][1].setStyle({\"stick\": {}, \"sphere\": {\"scale\": 0.25}});\nviewergrid_1709219423680567[1][1].render();\nviewergrid_1709219423680567[1][0].render();\nviewergrid_1709219423680567[0][1].render();\nviewergrid_1709219423680567[0][0].render();\n});\n</script>",
      "text/html": [
       "<div id=\"3dmolviewer_1709219423680567\"  style=\"position: relative; width: 400px; height: 300px;\">\n",
       "        <p id=\"3dmolwarning_1709219423680567\" style=\"background-color:#ffcccc;color:black\">You appear to be running in JupyterLab (or JavaScript failed to load for some other reason).  You need to install the 3dmol extension: <br>\n",
       "        <tt>jupyter labextension install jupyterlab_3dmol</tt></p>\n",
       "        </div>\n",
       "<script>\n",
       "\n",
       "var loadScriptAsync = function(uri){\n",
       "  return new Promise((resolve, reject) => {\n",
       "    //this is to ignore the existence of requirejs amd\n",
       "    var savedexports, savedmodule;\n",
       "    if (typeof exports !== 'undefined') savedexports = exports;\n",
       "    else exports = {}\n",
       "    if (typeof module !== 'undefined') savedmodule = module;\n",
       "    else module = {}\n",
       "\n",
       "    var tag = document.createElement('script');\n",
       "    tag.src = uri;\n",
       "    tag.async = true;\n",
       "    tag.onload = () => {\n",
       "        exports = savedexports;\n",
       "        module = savedmodule;\n",
       "        resolve();\n",
       "    };\n",
       "  var firstScriptTag = document.getElementsByTagName('script')[0];\n",
       "  firstScriptTag.parentNode.insertBefore(tag, firstScriptTag);\n",
       "});\n",
       "};\n",
       "\n",
       "if(typeof $3Dmolpromise === 'undefined') {\n",
       "$3Dmolpromise = null;\n",
       "  $3Dmolpromise = loadScriptAsync('https://cdnjs.cloudflare.com/ajax/libs/3Dmol/2.0.4/3Dmol-min.js');\n",
       "}\n",
       "\n",
       "var viewer_1709219423680567 = null;\n",
       "var warn = document.getElementById(\"3dmolwarning_1709219423680567\");\n",
       "if(warn) {\n",
       "    warn.parentNode.removeChild(warn);\n",
       "}\n",
       "$3Dmolpromise.then(function() {\n",
       "var viewergrid_1709219423680567 = null;\n",
       "viewergrid_1709219423680567 = $3Dmol.createViewerGrid(document.getElementById(\"3dmolviewer_1709219423680567\"),{rows: 2, cols: 2, control_all: false},{backgroundColor:\"white\"});\n",
       "viewer_1709219423680567 = viewergrid_1709219423680567[0][0];\n",
       "viewergrid_1709219423680567[0][0].zoomTo();viewergrid_1709219423680567[0][1].zoomTo();viewergrid_1709219423680567[1][0].zoomTo();viewergrid_1709219423680567[1][1].zoomTo();\tviewergrid_1709219423680567[0][0].addModel(\"5\\n\\nC              1.074898174961        -0.009911760462         0.065518202196\\nH              2.157069638657        -0.009909985794         0.065519607908\\nH              0.714174323592         0.526171823173        -0.802576348935\\nH              0.714171689643         0.473836134205         0.963827379977\\nH              0.714176173147        -1.029746211122         0.035301158854\\n\",\"xyz\");\n",
       "\tviewergrid_1709219423680567[0][1].addModel(\"2\\n\\nO              0.987383323395         0.026300002315         0.096470008492\\nO              2.197196676605         0.026299997685         0.096469991508\\n\",\"xyz\");\n",
       "\tviewergrid_1709219423680567[1][0].addModel(\"3\\n\\nO              1.191805661545         0.053219991184        -0.054759990927\\nC              2.335459999971         0.053220000098        -0.054760000101\\nO              3.479114338484         0.053220008718        -0.054760008972\\n\",\"xyz\");\n",
       "\tviewergrid_1709219423680567[1][1].addModel(\"3\\n\\nO              0.946473864001         0.071065585106         0.057501236355\\nH              1.905502677154         0.058367964392         0.043637439743\\nH              0.644523458845        -0.543863549498        -0.613898676098\\n\",\"xyz\");\n",
       "\tviewergrid_1709219423680567[0][0].setViewStyle({\"style\": \"outline\", \"width\": 0.05});\n",
       "\tviewergrid_1709219423680567[0][1].setViewStyle({\"style\": \"outline\", \"width\": 0.05});\n",
       "\tviewergrid_1709219423680567[1][0].setViewStyle({\"style\": \"outline\", \"width\": 0.05});\n",
       "\tviewergrid_1709219423680567[1][1].setViewStyle({\"style\": \"outline\", \"width\": 0.05});\n",
       "\tviewergrid_1709219423680567[0][0].setStyle({\"stick\": {}, \"sphere\": {\"scale\": 0.25}});\n",
       "\tviewergrid_1709219423680567[0][1].setStyle({\"stick\": {}, \"sphere\": {\"scale\": 0.25}});\n",
       "\tviewergrid_1709219423680567[1][0].setStyle({\"stick\": {}, \"sphere\": {\"scale\": 0.25}});\n",
       "\tviewergrid_1709219423680567[1][1].setStyle({\"stick\": {}, \"sphere\": {\"scale\": 0.25}});\n",
       "viewergrid_1709219423680567[1][1].render();\n",
       "viewergrid_1709219423680567[1][0].render();\n",
       "viewergrid_1709219423680567[0][1].render();\n",
       "viewergrid_1709219423680567[0][0].render();\n",
       "});\n",
       "</script>"
      ]
     },
     "metadata": {},
     "output_type": "display_data"
    }
   ],
   "source": [
    "viewer = p3d.view(viewergrid=(2, 2), width=400, height=300, linked=False)\n",
    "viewer.addModel(ch4_xtb, \"xyz\", viewer=(0, 0))\n",
    "viewer.addModel(o2_xtb, \"xyz\", viewer=(0, 1))\n",
    "viewer.addModel(co2_xtb, \"xyz\", viewer=(1, 0))\n",
    "viewer.addModel(h2o_xtb, \"xyz\", viewer=(1, 1))\n",
    "viewer.setViewStyle({\"style\": \"outline\", \"width\": 0.05})\n",
    "viewer.setStyle({\"stick\": {}, \"sphere\": {\"scale\": 0.25}})\n",
    "viewer.show()"
   ]
  },
  {
   "cell_type": "markdown",
   "id": "5ba0f04d",
   "metadata": {
    "editable": true,
    "slideshow": {
     "slide_type": ""
    },
    "tags": []
   },
   "source": [
    "## Energy calculation\n",
    "\n",
    "Calculate the total energy of each molecule using B3LYP and a 6-311G* basis set.\n",
    "\n",
    "```{note}\n",
    "Keep in mind that O$_2$ has a triplet ground state, which is here set by changing the multiplicity and using unrestricted SCF.\n",
    "```"
   ]
  },
  {
   "cell_type": "code",
   "execution_count": 21,
   "id": "47beb18e-d71e-4186-9463-50630a8bd5bd",
   "metadata": {
    "editable": true,
    "scrolled": true,
    "slideshow": {
     "slide_type": ""
    },
    "tags": [
     "remove-output"
    ]
   },
   "outputs": [],
   "source": [
    "def scf_calculation(molecule_xyz, basis_set, xc, multiplicity=None):\n",
    "\n",
    "    molecule = vlx.Molecule.read_xyz_string(molecule_xyz)\n",
    "    basis = vlx.MolecularBasis.read(molecule, basis_set, ostream=None)\n",
    "\n",
    "    if multiplicity is not None:\n",
    "        molecule.set_multiplicity(multiplicity)\n",
    "        molecule.check_multiplicity()\n",
    "        scf_gs = vlx.ScfUnrestrictedDriver()\n",
    "        scf_gs.ostream.mute()\n",
    "    else:\n",
    "        scf_gs = vlx.ScfRestrictedDriver()\n",
    "        scf_gs.ostream.mute()\n",
    "\n",
    "    scf_gs.xcfun = xc\n",
    "    scf_results = scf_gs.compute(molecule, basis)\n",
    "\n",
    "    return scf_results, scf_gs\n",
    "\n",
    "\n",
    "xc = \"b3lyp\"\n",
    "basis_set = \"6-311G*\""
   ]
  },
  {
   "cell_type": "code",
   "execution_count": 22,
   "id": "bad595a1-c7e8-4149-ba26-feae5230ecdd",
   "metadata": {
    "editable": true,
    "scrolled": true,
    "slideshow": {
     "slide_type": ""
    },
    "tags": [
     "remove-output"
    ]
   },
   "outputs": [],
   "source": [
    "ch4_results, ch4_scf = scf_calculation(ch4_xtb, basis_set, xc)\n",
    "o2_results, o2_scf = scf_calculation(o2_xtb, basis_set, xc, multiplicity=3)\n",
    "co2_results, co2_scf = scf_calculation(co2_xtb, basis_set, xc)\n",
    "h2o_results, h2o_scf = scf_calculation(h2o_xtb, basis_set, xc)"
   ]
  },
  {
   "cell_type": "markdown",
   "id": "0eb1b1c4",
   "metadata": {
    "editable": true,
    "slideshow": {
     "slide_type": ""
    },
    "tags": []
   },
   "source": [
    "## Reaction energy\n",
    "\n",
    "The reaction energy is now taken as the energy difference between the reactants and products:"
   ]
  },
  {
   "cell_type": "code",
   "execution_count": 23,
   "id": "dc93cb13",
   "metadata": {
    "editable": true,
    "slideshow": {
     "slide_type": ""
    },
    "tags": []
   },
   "outputs": [
    {
     "name": "stdout",
     "output_type": "stream",
     "text": [
      "The reaction energy is -157.1 kcal/mol\n"
     ]
    }
   ],
   "source": [
    "e_reactants = ch4_scf.get_scf_energy() + 2 * o2_scf.get_scf_energy()\n",
    "e_products = co2_scf.get_scf_energy() + 2 * h2o_scf.get_scf_energy()\n",
    "\n",
    "print(f\"The reaction energy is {627.5*(e_products - e_reactants):.1f} kcal/mol\")"
   ]
  },
  {
   "cell_type": "markdown",
   "id": "3baa6960",
   "metadata": {
    "editable": true,
    "slideshow": {
     "slide_type": ""
    },
    "tags": []
   },
   "source": [
    "This can be compared to the results presented [here](https://doi.org/10.1021/acs.jchemed.1c01243), with combustion energies ranging from approximately -157.3 kcal/mol (obtained with Hartree-Fock and a small basis set), to a high-quality estimate of -193.2 kcal/mol.\n",
    "\n",
    "\n",
    "In order to investigate the combustion energy of any other alkane, we merely need to change the corresponding SMILES string and calculating energy differences according to the general reaction equation:\n",
    "\n",
    "$$\n",
    "2\\textrm{C}_n\\textrm{H}_{2n+2} + (3n+1)\\textrm{O}_2 \\rightarrow 2n\\textrm{CO}_2 + 2(n+1)\\textrm{H}_2\\textrm{O}\n",
    "$$\n",
    "\n",
    "With this, we obtain reaction energies for the first five alkanes, considering both the total energy and the energy per carbon atom:\n",
    "\n",
    "\n",
    "| Hydrocarbon  | kcal/mol | kcal/mol per carbon |\n",
    "| -----------  | -------- | -------------- |\n",
    "|    methane   |  -157.1  |    -157.1      |\n",
    "|     ethane   |  -286.8  |    -143.4      |\n",
    "|    propane   |  -415.4  |    -138.8      |\n",
    "|    butane    |  -544.9  |    -136.2      |\n",
    "|    heptane   |  -673.7  |    -134.7      |\n",
    "\n"
   ]
  }
 ],
 "metadata": {
  "celltoolbar": "Tags",
  "kernelspec": {
   "display_name": "Python 3 (ipykernel)",
   "language": "python",
   "name": "python3"
  },
  "language_info": {
   "codemirror_mode": {
    "name": "ipython",
    "version": 3
   },
   "file_extension": ".py",
   "mimetype": "text/x-python",
   "name": "python",
   "nbconvert_exporter": "python",
   "pygments_lexer": "ipython3",
   "version": "3.10.13"
  }
 },
 "nbformat": 4,
 "nbformat_minor": 5
}
