{
 "cells": [
  {
   "cell_type": "markdown",
   "id": "e7ad0998",
   "metadata": {},
   "source": [
    "Optical activity and dichroism\n",
    "==============================\n",
    "\n",
    "The strength in the electronic circular dichroism spectrum associated with transition  $S_n \\leftarrow S_0$ is proportional to the rotatory strength\n",
    "\n",
    "$$\n",
    "R_{n0} = \n",
    "  \\sum_{\\alpha = x,y,z}\n",
    "  \\mathrm{Im}\n",
    "  \\langle 0 | \\hat{\\mu}_\\alpha | n \\rangle\n",
    "  \\langle n | \\hat{m}_\\alpha | 0 \\rangle ,\n",
    "$$\n",
    "\n",
    "where $\\hat{\\mu}$ and $\\hat{m}$ are the electric and magnetic dipole operators, respectively.\n",
    "\n",
    "\n",
    "Continue with the ethylene molecule placed in the $xy$-plane with $z$ as the inter-carbon axis. Perform your calculations at the level of B3LYP/def2-SVP.\n",
    "\n",
    "1. Stack a second ethylene in a co-facial configuration at a separation distance of 3.5 Å. Perform a standard time-dependent DFT calculation to determine the oscillator and rotatory strengths of Frenkel states $| \\sigma \\rangle$ and $| \\gamma \\rangle$. See Figure~1 in Ref.~\\cite{Norman2014} for state definitions and compare your excitation energies with those presented in Table~1 in the same reference.\n",
    "\n",
    "2. Twist the system by 10 degrees and repeat your calculation. Plot the circular dichroism spectrum. Identify the bisignate excitonic band and comment on the sign of the dichroism with respect to your twist orientation. Repeat your calcuation for a twist angle of $-10$ degrees.\n",
    "\n",
    "3. For the monomer and twisted dimer, trimer, and tetramer, calculate the circular dichroism spectra (1 excited state) using 1, 2, 4, and 8 nodes, respectively. Plot wall times versus number of ethylenes. How does your result compare to the formal scaling of the method?\n",
    "\n",
    "4. Repeat your calculations with 4 excited states per ethylene, i.e., 4, 8, 12, and 16 excited states for the monomer, dimer, trimer, and tetramer, respectively. How does an increased number of excited states affect wall times? Comment on your results in view of the Davidson numerical algorithm used for finding the lowest eigenvalues and associated eigenvectors.\n"
   ]
  }
 ],
 "metadata": {
  "kernelspec": {
   "display_name": "Python 3 (ipykernel)",
   "language": "python",
   "name": "python3"
  },
  "language_info": {
   "codemirror_mode": {
    "name": "ipython",
    "version": 3
   },
   "file_extension": ".py",
   "mimetype": "text/x-python",
   "name": "python",
   "nbconvert_exporter": "python",
   "pygments_lexer": "ipython3",
   "version": "3.11.5"
  }
 },
 "nbformat": 4,
 "nbformat_minor": 5
}
