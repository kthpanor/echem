{
 "cells": [
  {
   "cell_type": "markdown",
   "id": "a2dcd883",
   "metadata": {
    "editable": true,
    "slideshow": {
     "slide_type": ""
    },
    "tags": []
   },
   "source": [
    "# Exercises\n",
    "\n",
    "In this exercise we will look at how substitution affects the vibrational frequencies, IR, and Raman spectra."
   ]
  },
  {
   "cell_type": "code",
   "execution_count": 1,
   "id": "50d67d06-0b76-4fa4-af57-f4930deddf34",
   "metadata": {
    "editable": true,
    "slideshow": {
     "slide_type": ""
    },
    "tags": [
     "remove-output"
    ]
   },
   "outputs": [
    {
     "name": "stdout",
     "output_type": "stream",
     "text": [
      "* Warning * Environment variable OMP_NUM_THREADS not set.\n",
      "* Warning * Setting OMP_NUM_THREADS to 4.\n"
     ]
    }
   ],
   "source": [
    "# import section\n",
    "import numpy as np\n",
    "import py3Dmol as p3d\n",
    "import veloxchem as vlx\n",
    "from matplotlib import pyplot as plt\n",
    "\n",
    "basis_set_label = \"6-31G\""
   ]
  },
  {
   "cell_type": "code",
   "execution_count": 2,
   "id": "b57d9a98-7ea2-437c-896b-82b105add8cd",
   "metadata": {
    "editable": true,
    "scrolled": true,
    "slideshow": {
     "slide_type": ""
    },
    "tags": [
     "remove-output"
    ]
   },
   "outputs": [],
   "source": [
    "# define molecules and basis sets\n",
    "ethene_xyz = \"\"\"6\n",
    " ethene\n",
    " C          0.000000    -0.663984   0.000000\n",
    " C          0.000000     0.663984   0.000000\n",
    " H          0.919796    -1.223061   0.000000\n",
    " H         -0.919796    -1.223061   0.000000\n",
    " H          0.919796     1.223061   0.000000\n",
    " H         -0.919796     1.223061   0.000000\n",
    "\"\"\"\n",
    "ethene = vlx.Molecule.read_xyz_string(ethene_xyz)\n",
    "ethene_basis = vlx.MolecularBasis.read(ethene, basis_set_label, ostream=None)"
   ]
  },
  {
   "cell_type": "code",
   "execution_count": 3,
   "id": "4a03887a-dec0-4181-8028-ee4aa350af4e",
   "metadata": {
    "editable": true,
    "scrolled": true,
    "slideshow": {
     "slide_type": ""
    },
    "tags": [
     "remove-output"
    ]
   },
   "outputs": [],
   "source": [
    "fluoroethene_xyz = \"\"\"6\n",
    "fluoroethene\n",
    " C          0.000000    -0.663984   0.000000\n",
    " C          0.000000     0.663984   0.000000\n",
    " F          1.519796    -1.223061   0.000000\n",
    " H         -0.919796    -1.223061   0.000000\n",
    " H          0.919796     1.223061   0.000000\n",
    " H         -0.919796     1.223061   0.000000\n",
    " \"\"\"\n",
    "fluoroethene = vlx.Molecule.read_xyz_string(fluoroethene_xyz)\n",
    "fluoroethene_basis = vlx.MolecularBasis.read(fluoroethene, basis_set_label, ostream=None)"
   ]
  },
  {
   "cell_type": "code",
   "execution_count": 4,
   "id": "fc99ed95-c7ac-45d3-a2b0-5ac29a0e6e52",
   "metadata": {
    "editable": true,
    "scrolled": true,
    "slideshow": {
     "slide_type": ""
    },
    "tags": [
     "remove-output"
    ]
   },
   "outputs": [],
   "source": [
    "chloroethene_xyz = \"\"\"6\n",
    "chloroethene\n",
    " C          0.000000    -0.663984   0.000000\n",
    " C          0.000000     0.663984   0.000000\n",
    " Cl         1.519796    -1.223061   0.000000\n",
    " H         -0.919796    -1.223061   0.000000\n",
    " H          0.919796     1.223061   0.000000\n",
    " H         -0.919796     1.223061   0.000000\n",
    " \"\"\"\n",
    "chloroethene = vlx.Molecule.read_xyz_string(chloroethene_xyz)\n",
    "chloroethene_basis = vlx.MolecularBasis.read(chloroethene, basis_set_label, ostream=None)"
   ]
  },
  {
   "cell_type": "code",
   "execution_count": 5,
   "id": "51919f03-2853-45bb-89c7-f78f0dac5acf",
   "metadata": {
    "editable": true,
    "slideshow": {
     "slide_type": ""
    },
    "tags": []
   },
   "outputs": [
    {
     "data": {
      "application/3dmoljs_load.v0": "<div id=\"3dmolviewer_170919980700248\"  style=\"position: relative; width: 600px; height: 200px;\">\n        <p id=\"3dmolwarning_170919980700248\" style=\"background-color:#ffcccc;color:black\">You appear to be running in JupyterLab (or JavaScript failed to load for some other reason).  You need to install the 3dmol extension: <br>\n        <tt>jupyter labextension install jupyterlab_3dmol</tt></p>\n        </div>\n<script>\n\nvar loadScriptAsync = function(uri){\n  return new Promise((resolve, reject) => {\n    //this is to ignore the existence of requirejs amd\n    var savedexports, savedmodule;\n    if (typeof exports !== 'undefined') savedexports = exports;\n    else exports = {}\n    if (typeof module !== 'undefined') savedmodule = module;\n    else module = {}\n\n    var tag = document.createElement('script');\n    tag.src = uri;\n    tag.async = true;\n    tag.onload = () => {\n        exports = savedexports;\n        module = savedmodule;\n        resolve();\n    };\n  var firstScriptTag = document.getElementsByTagName('script')[0];\n  firstScriptTag.parentNode.insertBefore(tag, firstScriptTag);\n});\n};\n\nif(typeof $3Dmolpromise === 'undefined') {\n$3Dmolpromise = null;\n  $3Dmolpromise = loadScriptAsync('https://cdnjs.cloudflare.com/ajax/libs/3Dmol/2.0.4/3Dmol-min.js');\n}\n\nvar viewer_170919980700248 = null;\nvar warn = document.getElementById(\"3dmolwarning_170919980700248\");\nif(warn) {\n    warn.parentNode.removeChild(warn);\n}\n$3Dmolpromise.then(function() {\nvar viewergrid_170919980700248 = null;\nviewergrid_170919980700248 = $3Dmol.createViewerGrid(document.getElementById(\"3dmolviewer_170919980700248\"),{rows: 1, cols: 3, control_all: true},{backgroundColor:\"white\"});\nviewer_170919980700248 = viewergrid_170919980700248[0][0];\nviewergrid_170919980700248[0][0].zoomTo();viewergrid_170919980700248[0][1].zoomTo();viewergrid_170919980700248[0][2].zoomTo();\tviewergrid_170919980700248[0][0].addModel(\"6\\n ethene\\n C          0.000000    -0.663984   0.000000\\n C          0.000000     0.663984   0.000000\\n H          0.919796    -1.223061   0.000000\\n H         -0.919796    -1.223061   0.000000\\n H          0.919796     1.223061   0.000000\\n H         -0.919796     1.223061   0.000000\\n\",\"xyz\");\n\tviewergrid_170919980700248[0][1].addModel(\"6\\nfluoroethene\\n C          0.000000    -0.663984   0.000000\\n C          0.000000     0.663984   0.000000\\n F         1.519796    -1.223061   0.000000\\n H         -0.919796    -1.223061   0.000000\\n H          0.919796     1.223061   0.000000\\n H         -0.919796     1.223061   0.000000\\n \",\"xyz\");\n\tviewergrid_170919980700248[0][2].addModel(\"6\\nchloroethene\\n C          0.000000    -0.663984   0.000000\\n C          0.000000     0.663984   0.000000\\n Cl         1.519796    -1.223061   0.000000\\n H         -0.919796    -1.223061   0.000000\\n H          0.919796     1.223061   0.000000\\n H         -0.919796     1.223061   0.000000\\n \",\"xyz\");\n\tviewergrid_170919980700248[0][0].setViewStyle({\"style\": \"outline\", \"width\": 0.05});\n\tviewergrid_170919980700248[0][1].setViewStyle({\"style\": \"outline\", \"width\": 0.05});\n\tviewergrid_170919980700248[0][2].setViewStyle({\"style\": \"outline\", \"width\": 0.05});\n\tviewergrid_170919980700248[0][0].setStyle({\"stick\": {}, \"sphere\": {\"scale\": 0.25}});\n\tviewergrid_170919980700248[0][1].setStyle({\"stick\": {}, \"sphere\": {\"scale\": 0.25}});\n\tviewergrid_170919980700248[0][2].setStyle({\"stick\": {}, \"sphere\": {\"scale\": 0.25}});\n\tviewergrid_170919980700248[0][0].zoomTo();\n\tviewergrid_170919980700248[0][1].zoomTo();\n\tviewergrid_170919980700248[0][2].zoomTo();\nviewergrid_170919980700248[0][2].render();\nviewergrid_170919980700248[0][1].render();\nviewergrid_170919980700248[0][0].render();\n});\n</script>",
      "text/html": [
       "<div id=\"3dmolviewer_170919980700248\"  style=\"position: relative; width: 600px; height: 200px;\">\n",
       "        <p id=\"3dmolwarning_170919980700248\" style=\"background-color:#ffcccc;color:black\">You appear to be running in JupyterLab (or JavaScript failed to load for some other reason).  You need to install the 3dmol extension: <br>\n",
       "        <tt>jupyter labextension install jupyterlab_3dmol</tt></p>\n",
       "        </div>\n",
       "<script>\n",
       "\n",
       "var loadScriptAsync = function(uri){\n",
       "  return new Promise((resolve, reject) => {\n",
       "    //this is to ignore the existence of requirejs amd\n",
       "    var savedexports, savedmodule;\n",
       "    if (typeof exports !== 'undefined') savedexports = exports;\n",
       "    else exports = {}\n",
       "    if (typeof module !== 'undefined') savedmodule = module;\n",
       "    else module = {}\n",
       "\n",
       "    var tag = document.createElement('script');\n",
       "    tag.src = uri;\n",
       "    tag.async = true;\n",
       "    tag.onload = () => {\n",
       "        exports = savedexports;\n",
       "        module = savedmodule;\n",
       "        resolve();\n",
       "    };\n",
       "  var firstScriptTag = document.getElementsByTagName('script')[0];\n",
       "  firstScriptTag.parentNode.insertBefore(tag, firstScriptTag);\n",
       "});\n",
       "};\n",
       "\n",
       "if(typeof $3Dmolpromise === 'undefined') {\n",
       "$3Dmolpromise = null;\n",
       "  $3Dmolpromise = loadScriptAsync('https://cdnjs.cloudflare.com/ajax/libs/3Dmol/2.0.4/3Dmol-min.js');\n",
       "}\n",
       "\n",
       "var viewer_170919980700248 = null;\n",
       "var warn = document.getElementById(\"3dmolwarning_170919980700248\");\n",
       "if(warn) {\n",
       "    warn.parentNode.removeChild(warn);\n",
       "}\n",
       "$3Dmolpromise.then(function() {\n",
       "var viewergrid_170919980700248 = null;\n",
       "viewergrid_170919980700248 = $3Dmol.createViewerGrid(document.getElementById(\"3dmolviewer_170919980700248\"),{rows: 1, cols: 3, control_all: true},{backgroundColor:\"white\"});\n",
       "viewer_170919980700248 = viewergrid_170919980700248[0][0];\n",
       "viewergrid_170919980700248[0][0].zoomTo();viewergrid_170919980700248[0][1].zoomTo();viewergrid_170919980700248[0][2].zoomTo();\tviewergrid_170919980700248[0][0].addModel(\"6\\n ethene\\n C          0.000000    -0.663984   0.000000\\n C          0.000000     0.663984   0.000000\\n H          0.919796    -1.223061   0.000000\\n H         -0.919796    -1.223061   0.000000\\n H          0.919796     1.223061   0.000000\\n H         -0.919796     1.223061   0.000000\\n\",\"xyz\");\n",
       "\tviewergrid_170919980700248[0][1].addModel(\"6\\nfluoroethene\\n C          0.000000    -0.663984   0.000000\\n C          0.000000     0.663984   0.000000\\n F         1.519796    -1.223061   0.000000\\n H         -0.919796    -1.223061   0.000000\\n H          0.919796     1.223061   0.000000\\n H         -0.919796     1.223061   0.000000\\n \",\"xyz\");\n",
       "\tviewergrid_170919980700248[0][2].addModel(\"6\\nchloroethene\\n C          0.000000    -0.663984   0.000000\\n C          0.000000     0.663984   0.000000\\n Cl         1.519796    -1.223061   0.000000\\n H         -0.919796    -1.223061   0.000000\\n H          0.919796     1.223061   0.000000\\n H         -0.919796     1.223061   0.000000\\n \",\"xyz\");\n",
       "\tviewergrid_170919980700248[0][0].setViewStyle({\"style\": \"outline\", \"width\": 0.05});\n",
       "\tviewergrid_170919980700248[0][1].setViewStyle({\"style\": \"outline\", \"width\": 0.05});\n",
       "\tviewergrid_170919980700248[0][2].setViewStyle({\"style\": \"outline\", \"width\": 0.05});\n",
       "\tviewergrid_170919980700248[0][0].setStyle({\"stick\": {}, \"sphere\": {\"scale\": 0.25}});\n",
       "\tviewergrid_170919980700248[0][1].setStyle({\"stick\": {}, \"sphere\": {\"scale\": 0.25}});\n",
       "\tviewergrid_170919980700248[0][2].setStyle({\"stick\": {}, \"sphere\": {\"scale\": 0.25}});\n",
       "\tviewergrid_170919980700248[0][0].zoomTo();\n",
       "\tviewergrid_170919980700248[0][1].zoomTo();\n",
       "\tviewergrid_170919980700248[0][2].zoomTo();\n",
       "viewergrid_170919980700248[0][2].render();\n",
       "viewergrid_170919980700248[0][1].render();\n",
       "viewergrid_170919980700248[0][0].render();\n",
       "});\n",
       "</script>"
      ]
     },
     "metadata": {},
     "output_type": "display_data"
    }
   ],
   "source": [
    "view = p3d.view(linked=True, viewergrid=(1, 3), width=600, height=200)\n",
    "view.addModel(ethene_xyz, \"xyz\", viewer=(0, 0))\n",
    "view.addModel(fluoroethene_xyz, \"xyz\", viewer=(0, 1))\n",
    "view.addModel(chloroethene_xyz, \"xyz\", viewer=(0, 2))\n",
    "view.setViewStyle({\"style\": \"outline\", \"width\": 0.05})\n",
    "view.setStyle({\"stick\": {}, \"sphere\": {\"scale\": 0.25}})\n",
    "view.zoomTo()\n",
    "view.show()"
   ]
  },
  {
   "cell_type": "markdown",
   "id": "6b62bf80",
   "metadata": {
    "editable": true,
    "slideshow": {
     "slide_type": ""
    },
    "tags": []
   },
   "source": [
    "## SCF geometry optimization\n",
    "Before we can calculate the vibrational spectra, we first must optimize the geometries."
   ]
  },
  {
   "cell_type": "code",
   "execution_count": 6,
   "id": "951ebb2e-34b8-43c0-94a7-62e64bb9a9d3",
   "metadata": {
    "editable": true,
    "slideshow": {
     "slide_type": ""
    },
    "tags": []
   },
   "outputs": [],
   "source": [
    "# Settings for SCF and gradient drivers\n",
    "scf_settings = {\"conv_thresh\": 1e-6}\n",
    "method_settings = {}"
   ]
  },
  {
   "cell_type": "markdown",
   "id": "7e1872ea-2369-44b5-be79-2a740195cd3d",
   "metadata": {
    "editable": true,
    "slideshow": {
     "slide_type": ""
    },
    "tags": []
   },
   "source": [
    "```python\n",
    "# Run SCF for ethene\n",
    "ethene_scf_drv = ...\n",
    "...\n",
    "\n",
    "# Run SCF for fluoroethene\n",
    "fluoroethene_scf_drv = ...\n",
    "...\n",
    "\n",
    "# Run SCF for chloroethene\n",
    "chloroethene_scf_drv = ...\n",
    "...\n",
    "```"
   ]
  },
  {
   "cell_type": "code",
   "execution_count": 7,
   "id": "2419f2e8-ce53-4809-ba8a-bfba61c91a8e",
   "metadata": {
    "editable": true,
    "slideshow": {
     "slide_type": ""
    },
    "tags": [
     "hide-input",
     "remove-output"
    ]
   },
   "outputs": [],
   "source": [
    "# Run SCF for ethene\n",
    "ethene_scf_drv = vlx.ScfRestrictedDriver()\n",
    "ethene_scf_drv.update_settings(scf_settings, method_settings)\n",
    "ethene_scf_drv.ostream.mute()\n",
    "ethene_scf_results = ethene_scf_drv.compute(ethene, ethene_basis)\n",
    "\n",
    "# Run SCF for fluoroethene\n",
    "fluoroethene_scf_drv = vlx.ScfRestrictedDriver()\n",
    "fluoroethene_scf_drv.update_settings(scf_settings, method_settings)\n",
    "fluoroethene_scf_drv.ostream.mute()\n",
    "fluoroethene_scf_results = fluoroethene_scf_drv.compute(\n",
    "    fluoroethene, fluoroethene_basis\n",
    ")\n",
    "\n",
    "# Run SCF for chloroethene\n",
    "chloroethene_scf_drv = vlx.ScfRestrictedDriver()\n",
    "chloroethene_scf_drv.update_settings(scf_settings, method_settings)\n",
    "chloroethene_scf_drv.ostream.mute()\n",
    "chloroethene_scf_results = chloroethene_scf_drv.compute(\n",
    "    chloroethene, chloroethene_basis\n",
    ")"
   ]
  },
  {
   "cell_type": "markdown",
   "id": "8edf5055-053c-4d2e-b78d-b545da16e96b",
   "metadata": {
    "editable": true,
    "slideshow": {
     "slide_type": ""
    },
    "tags": []
   },
   "source": [
    "```python\n",
    "# Set up the gradient and optimization dirvers:\n",
    "ethene_grad_drv = ...\n",
    "\n",
    "fluoroethene_grad_drv = ...\n",
    "...\n",
    "\n",
    "chloroethene_grad_drv = ...\n",
    "...\n",
    "```"
   ]
  },
  {
   "cell_type": "code",
   "execution_count": 10,
   "id": "c55e45f0-4294-426c-a2f1-ed7bb83469db",
   "metadata": {
    "editable": true,
    "slideshow": {
     "slide_type": ""
    },
    "tags": [
     "hide-input",
     "remove-output"
    ]
   },
   "outputs": [],
   "source": [
    "# Set up the gradient and optimization dirvers:\n",
    "ethene_grad_drv = vlx.ScfGradientDriver(ethene_scf_drv)\n",
    "ethene_opt_drv = vlx.OptimizationDriver(ethene_grad_drv)\n",
    "\n",
    "fluoroethene_grad_drv = vlx.ScfGradientDriver(fluoroethene_scf_drv)\n",
    "fluoroethene_opt_drv = vlx.OptimizationDriver(fluoroethene_grad_drv)\n",
    "\n",
    "chloroethene_grad_drv = vlx.ScfGradientDriver(chloroethene_scf_drv)\n",
    "chloroethene_opt_drv = vlx.OptimizationDriver(chloroethene_grad_drv)"
   ]
  },
  {
   "cell_type": "markdown",
   "id": "6db489c4-cc79-4b16-ab9d-29c9ba042380",
   "metadata": {
    "editable": true,
    "slideshow": {
     "slide_type": ""
    },
    "tags": []
   },
   "source": [
    "```python\n",
    "# Optimize the geometries\n",
    "opt_ethene = ...\n",
    "opt_fluoroethene = ...\n",
    "opt_chloroethene = ...\n",
    "```"
   ]
  },
  {
   "cell_type": "code",
   "execution_count": 11,
   "id": "a1172846-687d-4b66-a238-b65ea787e4f1",
   "metadata": {
    "editable": true,
    "scrolled": true,
    "slideshow": {
     "slide_type": ""
    },
    "tags": [
     "hide-input",
     "remove-output"
    ]
   },
   "outputs": [],
   "source": [
    "# Either optimize the geometries\n",
    "# Uncomment below\n",
    "# ethene_opt_drv.ostream.unmute()\n",
    "# opt_ethene = ethene_opt_drv.compute(ethene, ethene_basis)\n",
    "# fluoroethene_opt_drv.ostream.unmute()\n",
    "# opt_fluoroethene = fluoroethene_opt_drv.compute(fluoroethene, fluoroethene_basis)\n",
    "# chloroethene_opt_drv.ostream.unmute()\n",
    "# opt_chloroethene = chloroethene_opt_drv.compute(chloroethene, chloroethene_basis)\n",
    "\n",
    "# Or read them from file if already calculated\n",
    "opt_ethene = vlx.Molecule.read_xyz_file(\"../../data/ir_raman/opt_ethene.xyz\")\n",
    "ethene_basis = vlx.MolecularBasis.read(opt_ethene, basis_set_label, ostream=None)\n",
    "\n",
    "opt_fluoroethene = vlx.Molecule.read_xyz_file(\n",
    "    \"../../data/ir_raman/opt_fluoroethene.xyz\"\n",
    ")\n",
    "fluoroethene_basis = vlx.MolecularBasis.read(opt_fluoroethene, basis_set_label, ostream=None)\n",
    "\n",
    "opt_chloroethene = vlx.Molecule.read_xyz_file(\n",
    "    \"../../data/ir_raman/opt_chloroethene.xyz\"\n",
    ")\n",
    "chloroethene_basis = vlx.MolecularBasis.read(opt_chloroethene, basis_set_label, ostream=None)"
   ]
  },
  {
   "cell_type": "markdown",
   "id": "f713f9f8-8f74-4eb9-ad91-4f540520bad8",
   "metadata": {
    "editable": true,
    "slideshow": {
     "slide_type": ""
    },
    "tags": []
   },
   "source": [
    "```python\n",
    "# Get optimized coordinates as xyz string\n",
    "def get_xyz(molecule):\n",
    "    natm = molecule.number_of_atoms()\n",
    "    elements = molecule.get_labels()\n",
    "    coords = molecule.get_coordinates_in_angstrom()\n",
    "    txt = \"%d\\n\\n\" % natm\n",
    "    for i in range(natm):\n",
    "        txt += elements[i] + \" %15.7f %15.7f %15.7f\\n\" % (coords[i,0], coords[i,1], coords[i,2])\n",
    "    return txt\n",
    "```"
   ]
  },
  {
   "cell_type": "markdown",
   "id": "df78ad0e-b078-4621-b5aa-366678cc2632",
   "metadata": {
    "editable": true,
    "slideshow": {
     "slide_type": ""
    },
    "tags": []
   },
   "source": [
    "```python\n",
    "# Visualize the optimized structures\n",
    "...\n",
    "```"
   ]
  },
  {
   "cell_type": "markdown",
   "id": "bfa550d9-48fe-4ebe-82d9-85a0f1feaae1",
   "metadata": {
    "editable": true,
    "slideshow": {
     "slide_type": ""
    },
    "tags": []
   },
   "source": [
    "```python\n",
    "# Compute SCF with the optimized geometries of all molecules\n",
    "...\n",
    "```"
   ]
  },
  {
   "cell_type": "code",
   "execution_count": 12,
   "id": "0effdbe0-3a2d-43c3-88b3-ac2170b3f83c",
   "metadata": {
    "editable": true,
    "slideshow": {
     "slide_type": ""
    },
    "tags": [
     "hide-input",
     "remove-output"
    ]
   },
   "outputs": [],
   "source": [
    "ethene_scf_results = ethene_scf_drv.compute(opt_ethene, ethene_basis)\n",
    "fluoroethene_scf_results = fluoroethene_scf_drv.compute(\n",
    "    opt_fluoroethene, fluoroethene_basis\n",
    ")\n",
    "chloroethene_scf_results = chloroethene_scf_drv.compute(\n",
    "    opt_chloroethene, chloroethene_basis\n",
    ")"
   ]
  },
  {
   "cell_type": "markdown",
   "id": "faf15a93-fb2a-4b55-a82c-04b4f22d22b9",
   "metadata": {
    "editable": true,
    "slideshow": {
     "slide_type": ""
    },
    "tags": []
   },
   "source": [
    "## Hessians\n",
    "\n",
    "Now, we can calculate the IR and Raman spectra for these optimized geometries."
   ]
  },
  {
   "cell_type": "code",
   "execution_count": 13,
   "id": "d157c446-65b7-43cd-85bd-c5adf08c327d",
   "metadata": {
    "editable": true,
    "slideshow": {
     "slide_type": ""
    },
    "tags": []
   },
   "outputs": [],
   "source": [
    "# Settings for Hessian calculation\n",
    "hessian_settings = {\"do_raman\": \"yes\", \"print_depolarization_ratio\": \"no\"}"
   ]
  },
  {
   "cell_type": "markdown",
   "id": "856be5c6-d77b-4889-ab05-6cb025dd8b11",
   "metadata": {
    "editable": true,
    "slideshow": {
     "slide_type": ""
    },
    "tags": []
   },
   "source": [
    "```python\n",
    "# Create Hessian driver and update settings\n",
    "ethene_vibanalysis_drv = ...\n",
    "...\n",
    "\n",
    "fluoroethene_vibanalysis_drv = ...\n",
    "...\n",
    "\n",
    "chloroethene_vibanalysis_drv = ...\n",
    "...\n",
    "```"
   ]
  },
  {
   "cell_type": "markdown",
   "id": "1e5f4736-3022-46ce-900c-7088911c15db",
   "metadata": {
    "editable": true,
    "slideshow": {
     "slide_type": ""
    },
    "tags": []
   },
   "source": [
    "```python\n",
    "# Compute the Hessians:\n",
    "...\n",
    "...\n",
    "...\n",
    "```"
   ]
  },
  {
   "cell_type": "code",
   "execution_count": 14,
   "id": "38fd66c0-6eb7-477e-8dfb-855de63f0b54",
   "metadata": {
    "editable": true,
    "slideshow": {
     "slide_type": ""
    },
    "tags": [
     "hide-input",
     "remove-output"
    ]
   },
   "outputs": [],
   "source": [
    "# Create Hessian driver and update settings\n",
    "ethene_vibanalysis_drv = vlx.VibrationalAnalysis(ethene_scf_drv)\n",
    "ethene_vibanalysis_drv.update_settings(method_settings, hessian_settings)\n",
    "\n",
    "fluoroethene_vibanalysis_drv = vlx.VibrationalAnalysis(fluoroethene_scf_drv)\n",
    "fluoroethene_vibanalysis_drv.update_settings(method_settings, hessian_settings)\n",
    "\n",
    "chloroethene_vibanalysis_drv = vlx.VibrationalAnalysis(chloroethene_scf_drv)\n",
    "chloroethene_vibanalysis_drv.update_settings(method_settings, hessian_settings)\n",
    "\n",
    "# Calculate\n",
    "# ethene_vibanalysis_drv.compute(ethene, ethene_basis)\n",
    "# fluoroethene_vibanalysis_drv.compute(fluoroethene, fluoroethene_basis)\n",
    "# chloroethene_vibanalysis_drv.compute(chloroethene, chloroethene_basis)\n",
    "\n",
    "# Or read from file:\n",
    "import h5py\n",
    "\n",
    "fname = \"../../data/ir_raman/ethenes.h5\"\n",
    "hf = h5py.File(fname, \"r\")\n",
    "\n",
    "labels = [\"ethene\", \"fluoroethene\", \"chloroethene\"]\n",
    "\n",
    "i = 0\n",
    "for driver in [ethene_vibanalysis_drv, fluoroethene_vibanalysis_drv, chloroethene_vibanalysis_drv]:\n",
    "    label = labels[i]\n",
    "\n",
    "    driver.hessian = np.array(hf.get(label + \"_hessian\"))\n",
    "    driver.dipole_gradient = np.array(hf.get(label + \"_dipolegrad\"))\n",
    "    driver.polarizability_gradient = np.array(hf.get(label + \"_polgrad\"))\n",
    "\n",
    "    i += 1\n",
    "\n",
    "hf.close()"
   ]
  },
  {
   "cell_type": "markdown",
   "id": "796569c7-f4a7-4311-8995-935acf64f043",
   "metadata": {
    "editable": true,
    "slideshow": {
     "slide_type": ""
    },
    "tags": []
   },
   "source": [
    "```python\n",
    "# Broadening function\n",
    "def add_broadening(list_ex_energy, list_osci_strength, line_profile='Lorentzian', line_param=10, step=10):\n",
    "\n",
    "    ...\n",
    "    \n",
    "    return x, y\n",
    "```"
   ]
  },
  {
   "cell_type": "code",
   "execution_count": 15,
   "id": "68fab836-3558-42e6-b6e1-66844d444bae",
   "metadata": {
    "editable": true,
    "slideshow": {
     "slide_type": ""
    },
    "tags": [
     "hide-input"
    ]
   },
   "outputs": [],
   "source": [
    "# Broadening function\n",
    "def add_broadening(\n",
    "    list_ex_energy,\n",
    "    list_osci_strength,\n",
    "    line_profile=\"Lorentzian\",\n",
    "    line_param=10,\n",
    "    step=10,\n",
    "):\n",
    "    x_min = np.amin(list_ex_energy) - 50\n",
    "    x_max = np.amax(list_ex_energy) + 50\n",
    "    x = np.arange(x_min, x_max, step)\n",
    "    y = np.zeros((len(x)))\n",
    "    # print(x)\n",
    "    # print(y)\n",
    "\n",
    "    # go through the frames and calculate the spectrum for each frame\n",
    "    for xp in range(len(x)):\n",
    "        for e, f in zip(list_ex_energy, list_osci_strength):\n",
    "            if line_profile == \"Gaussian\":\n",
    "                y[xp] += f * np.exp(-(((e - x[xp]) / line_param) ** 2))\n",
    "            elif line_profile == \"Lorentzian\":\n",
    "                y[xp] += (\n",
    "                    0.5\n",
    "                    * line_param\n",
    "                    * f\n",
    "                    / (np.pi * ((x[xp] - e) ** 2 + 0.25 * line_param**2))\n",
    "                )\n",
    "    return x, y"
   ]
  },
  {
   "cell_type": "markdown",
   "id": "f29dae00-853a-44f0-8460-bab7f5fe79c9",
   "metadata": {
    "editable": true,
    "slideshow": {
     "slide_type": ""
    },
    "tags": []
   },
   "source": [
    "```python\n",
    "# To animate the normal mode we will need both the geometry and the displacements \n",
    "def get_normal_mode(molecule, normal_mode):\n",
    "\n",
    "    ...\n",
    "    \n",
    "    return vib_xyz\n",
    "```"
   ]
  },
  {
   "cell_type": "code",
   "execution_count": 16,
   "id": "c2dd588e-fcbf-4fbc-8f48-d90abbdffffa",
   "metadata": {
    "editable": true,
    "slideshow": {
     "slide_type": ""
    },
    "tags": [
     "hide-input",
     "hide-output"
    ]
   },
   "outputs": [],
   "source": [
    "# To animate the normal mode we will need both the geometry and the displacements\n",
    "def get_normal_mode(molecule, normal_mode):\n",
    "    elements = molecule.get_labels()\n",
    "    coords = (\n",
    "        molecule.get_coordinates_in_angstrom()\n",
    "    )  # To transform from au to A\n",
    "    natm = molecule.number_of_atoms()\n",
    "\n",
    "    vib_xyz = \"%d\\n\\n\" % natm\n",
    "    nm = normal_mode.reshape(natm, 3)\n",
    "    for i in range(natm):\n",
    "        # add coordinates:\n",
    "        vib_xyz += elements[i] + \" %15.7f %15.7f %15.7f \" % (\n",
    "            coords[i, 0],\n",
    "            coords[i, 1],\n",
    "            coords[i, 2],\n",
    "        )\n",
    "\n",
    "        # add displacements:\n",
    "        vib_xyz += \"%15.7f %15.7f %15.7f\\n\" % (nm[i, 0], nm[i, 1], nm[i, 2])\n",
    "    return vib_xyz"
   ]
  },
  {
   "cell_type": "markdown",
   "id": "cc78ddde-10b9-408e-beca-967a7df5eae9",
   "metadata": {
    "editable": true,
    "slideshow": {
     "slide_type": ""
    },
    "tags": []
   },
   "source": [
    "## Vibrational analysis\n",
    "\n",
    "To get a summary of the vibrational analysis, one simply needs to run the following command:"
   ]
  },
  {
   "cell_type": "markdown",
   "id": "6788262e-3ed1-430a-ae82-6dd1aec4ea38",
   "metadata": {
    "editable": true,
    "slideshow": {
     "slide_type": ""
    },
    "tags": []
   },
   "source": [
    "```python\n",
    "# Run for all molecules\n",
    "ethene_vibanalysis_drv.vibrational_analysis(opt_ethene)\n",
    "...\n",
    "...\n",
    "```"
   ]
  },
  {
   "cell_type": "code",
   "execution_count": 17,
   "id": "727e4060-ecc6-495f-a0da-c36384bfa64b",
   "metadata": {
    "editable": true,
    "scrolled": true,
    "slideshow": {
     "slide_type": ""
    },
    "tags": [
     "hide-input",
     "remove-output"
    ]
   },
   "outputs": [],
   "source": [
    "# Run for all molecules\n",
    "ethene_vibanalysis_drv.compute(opt_ethene, ethene_basis)\n",
    "fluoroethene_vibanalysis_drv.compute(opt_fluoroethene, fluoroethene_basis)\n",
    "chloroethene_vibanalysis_drv.compute(opt_chloroethene, chloroethene_basis)"
   ]
  },
  {
   "cell_type": "markdown",
   "id": "c22e9026-7695-49ff-9135-75350dc8bdc8",
   "metadata": {
    "editable": true,
    "slideshow": {
     "slide_type": ""
    },
    "tags": []
   },
   "source": [
    "Think about the dipole moment of these molecules and consider the Hydrogen stretching modes. How do you expect the IR spectra to look like? Which molecule do you expect will have more intense IR-peaks?"
   ]
  },
  {
   "cell_type": "code",
   "execution_count": 18,
   "id": "a6cb5b70-6f02-4c5f-befc-3b396c15a0dd",
   "metadata": {
    "editable": true,
    "slideshow": {
     "slide_type": ""
    },
    "tags": []
   },
   "outputs": [
    {
     "data": {
      "image/png": "[encoded data removed]",
      "text/plain": [
       "<Figure size 600x400 with 1 Axes>"
      ]
     },
     "metadata": {},
     "output_type": "display_data"
    }
   ],
   "source": [
    "# Plot the IR spectra\n",
    "plt.figure(figsize=(6, 4))\n",
    "\n",
    "eth_x, eth_ir = ethene_vibanalysis_drv.vib_frequencies, ethene_vibanalysis_drv.ir_intensities\n",
    "flo_x, flo_ir = (\n",
    "    fluoroethene_vibanalysis_drv.vib_frequencies,\n",
    "    fluoroethene_vibanalysis_drv.ir_intensities,\n",
    ")\n",
    "chl_x, chl_ir = (\n",
    "    chloroethene_vibanalysis_drv.vib_frequencies,\n",
    "    chloroethene_vibanalysis_drv.ir_intensities,\n",
    ")\n",
    "\n",
    "eth_xl, eth_irl = add_broadening(\n",
    "    eth_x, eth_ir, line_profile=\"Lorentzian\", line_param=20, step=2\n",
    ")\n",
    "flo_xl, flo_irl = add_broadening(\n",
    "    flo_x, flo_ir, line_profile=\"Lorentzian\", line_param=20, step=2\n",
    ")\n",
    "chl_xl, chl_irl = add_broadening(\n",
    "    chl_x, chl_ir, line_profile=\"Lorentzian\", line_param=20, step=2\n",
    ")\n",
    "\n",
    "plt.plot(eth_xl, eth_irl, label=\"Ethene\")\n",
    "plt.plot(flo_xl, flo_irl, label=\"Fluoroethene\")\n",
    "plt.plot(chl_xl, chl_irl, label=\"Chloroethene\")\n",
    "\n",
    "plt.xlabel(\"Wavenumber (cm**-1)\")\n",
    "plt.axis(xmin=3200, xmax=3500)\n",
    "plt.axis(ymin=-0.2, ymax=1.5)\n",
    "plt.ylabel(\"IR intensity (km/mol)\")\n",
    "plt.title(\"Calculated IR sepctra, H-stretching region\")\n",
    "plt.legend()\n",
    "plt.tight_layout()\n",
    "plt.show()"
   ]
  },
  {
   "cell_type": "code",
   "execution_count": 19,
   "id": "32dc3b5c",
   "metadata": {
    "editable": true,
    "slideshow": {
     "slide_type": ""
    },
    "tags": []
   },
   "outputs": [
    {
     "data": {
      "image/png": "[encoded data removed]",
      "text/plain": [
       "<Figure size 600x400 with 1 Axes>"
      ]
     },
     "metadata": {},
     "output_type": "display_data"
    }
   ],
   "source": [
    "# Plot the Raman spectra\n",
    "plt.figure(figsize=(6, 4))\n",
    "\n",
    "eth_x, eth_raman = ethene_vibanalysis_drv.vib_frequencies, ethene_vibanalysis_drv.raman_intensities\n",
    "flo_x, flo_raman = (\n",
    "    fluoroethene_vibanalysis_drv.vib_frequencies,\n",
    "    fluoroethene_vibanalysis_drv.raman_intensities,\n",
    ")\n",
    "chl_x, chl_raman = (\n",
    "    chloroethene_vibanalysis_drv.vib_frequencies,\n",
    "    chloroethene_vibanalysis_drv.raman_intensities,\n",
    ")\n",
    "\n",
    "freq = 0\n",
    "eth_xl, eth_ramanl = add_broadening(\n",
    "    eth_x, eth_raman[freq], line_profile=\"Lorentzian\", line_param=20, step=2\n",
    ")\n",
    "flo_xl, flo_ramanl = add_broadening(\n",
    "    flo_x, flo_raman[freq], line_profile=\"Lorentzian\", line_param=20, step=2\n",
    ")\n",
    "chl_xl, chl_ramanl = add_broadening(\n",
    "    chl_x, chl_raman[freq], line_profile=\"Lorentzian\", line_param=20, step=2\n",
    ")\n",
    "\n",
    "plt.plot(eth_xl, eth_ramanl, label=\"Ethene\")\n",
    "plt.plot(flo_xl, flo_ramanl, label=\"Fluoroethene\")\n",
    "plt.plot(chl_xl, chl_ramanl, label=\"Chloroethene\")\n",
    "\n",
    "plt.xlabel(\"Wavenumber (cm**-1)\")\n",
    "plt.axis(xmin=3200, xmax=3500)\n",
    "plt.axis(ymin=-0.2, ymax=7)\n",
    "plt.ylabel(\"Raman activity (A**4/amu)\")\n",
    "plt.title(\"Calculated Raman sepctra, H-stretching region\")\n",
    "plt.legend()\n",
    "plt.tight_layout()\n",
    "plt.show()"
   ]
  },
  {
   "cell_type": "code",
   "execution_count": 20,
   "id": "e6306839-a4c5-42ac-a73c-424f4d6c6b7a",
   "metadata": {
    "editable": true,
    "slideshow": {
     "slide_type": ""
    },
    "tags": []
   },
   "outputs": [],
   "source": [
    "# Get the displacements of the normal mode\n",
    "ethene_h1 = get_normal_mode(ethene, ethene_vibanalysis_drv.normal_modes[-1])\n",
    "fluoroethene_h1 = get_normal_mode(\n",
    "    fluoroethene, fluoroethene_vibanalysis_drv.normal_modes[-1]\n",
    ")\n",
    "chloroethene_h1 = get_normal_mode(\n",
    "    chloroethene, chloroethene_vibanalysis_drv.normal_modes[-1]\n",
    ")"
   ]
  },
  {
   "cell_type": "code",
   "execution_count": 21,
   "id": "0928f5e6-2370-4c4f-b28a-6bd79d8a103b",
   "metadata": {
    "editable": true,
    "slideshow": {
     "slide_type": ""
    },
    "tags": []
   },
   "outputs": [
    {
     "data": {
      "application/3dmoljs_load.v0": "<div id=\"3dmolviewer_17092001007481\"  style=\"position: relative; width: 600px; height: 200px;\">\n        <p id=\"3dmolwarning_17092001007481\" style=\"background-color:#ffcccc;color:black\">You appear to be running in JupyterLab (or JavaScript failed to load for some other reason).  You need to install the 3dmol extension: <br>\n        <tt>jupyter labextension install jupyterlab_3dmol</tt></p>\n        </div>\n<script>\n\nvar loadScriptAsync = function(uri){\n  return new Promise((resolve, reject) => {\n    //this is to ignore the existence of requirejs amd\n    var savedexports, savedmodule;\n    if (typeof exports !== 'undefined') savedexports = exports;\n    else exports = {}\n    if (typeof module !== 'undefined') savedmodule = module;\n    else module = {}\n\n    var tag = document.createElement('script');\n    tag.src = uri;\n    tag.async = true;\n    tag.onload = () => {\n        exports = savedexports;\n        module = savedmodule;\n        resolve();\n    };\n  var firstScriptTag = document.getElementsByTagName('script')[0];\n  firstScriptTag.parentNode.insertBefore(tag, firstScriptTag);\n});\n};\n\nif(typeof $3Dmolpromise === 'undefined') {\n$3Dmolpromise = null;\n  $3Dmolpromise = loadScriptAsync('https://cdnjs.cloudflare.com/ajax/libs/3Dmol/2.0.4/3Dmol-min.js');\n}\n\nvar viewer_17092001007481 = null;\nvar warn = document.getElementById(\"3dmolwarning_17092001007481\");\nif(warn) {\n    warn.parentNode.removeChild(warn);\n}\n$3Dmolpromise.then(function() {\nvar viewergrid_17092001007481 = null;\nviewergrid_17092001007481 = $3Dmol.createViewerGrid(document.getElementById(\"3dmolviewer_17092001007481\"),{rows: 1, cols: 3, control_all: true},{backgroundColor:\"white\"});\nviewer_17092001007481 = viewergrid_17092001007481[0][0];\nviewergrid_17092001007481[0][0].zoomTo();viewergrid_17092001007481[0][1].zoomTo();viewergrid_17092001007481[0][2].zoomTo();\tviewergrid_17092001007481[0][0].addModel(\"6\\n\\nC       0.0000000      -0.6639840       0.0000000      -0.0703183      -0.0000143       0.0000006\\nC       0.0000000       0.6639840       0.0000000      -0.0703781       0.0000340      -0.0000024\\nH       0.9197960      -1.2230610       0.0000000       0.4187310      -0.2679059       0.0000017\\nH      -0.9197960      -1.2230610       0.0000000       0.4191585       0.2680309      -0.0000007\\nH       0.9197960       1.2230610       0.0000000       0.4189350       0.2680011       0.0000089\\nH      -0.9197960       1.2230610       0.0000000       0.4196538      -0.2683619       0.0000112\\n\",\"xyz\",{\"vibrate\": {\"frames\": 10, \"amplitude\": 0.75}});\n\tviewergrid_17092001007481[0][1].addModel(\"6\\n\\nC       0.0000000      -0.6639840       0.0000000       0.0412380       0.0436301      -0.0000000\\nC       0.0000000       0.6639840       0.0000000       0.0754202      -0.0041440       0.0000000\\nF       1.5197960      -1.2230610       0.0000000      -0.0006345       0.0001596       0.0000000\\nH      -0.9197960      -1.2230610       0.0000000      -0.4739430      -0.4411036       0.0000000\\nH       0.9197960       1.2230610       0.0000000      -0.3781468      -0.2912463      -0.0000001\\nH      -0.9197960       1.2230610       0.0000000      -0.5260013       0.2588416      -0.0000000\\n\",\"xyz\",{\"vibrate\": {\"frames\": 10, \"amplitude\": 0.75}});\n\tviewergrid_17092001007481[0][2].addModel(\"6\\n\\nC       0.0000000      -0.6639840       0.0000000      -0.0620847      -0.0573365      -0.0000000\\nC       0.0000000       0.6639840       0.0000000      -0.0351767       0.0100308       0.0000000\\nCl       1.5197960      -1.2230610       0.0000000       0.0002712      -0.0000132       0.0000000\\nH      -0.9197960      -1.2230610       0.0000000       0.7288853       0.5784352      -0.0000000\\nH       0.9197960       1.2230610       0.0000000       0.1725103       0.1238072      -0.0000000\\nH      -0.9197960       1.2230610       0.0000000       0.2479896      -0.1381017       0.0000000\\n\",\"xyz\",{\"vibrate\": {\"frames\": 10, \"amplitude\": 0.75}});\n\tviewergrid_17092001007481[0][0].setViewStyle({\"style\": \"outline\", \"width\": 0.05});\n\tviewergrid_17092001007481[0][1].setViewStyle({\"style\": \"outline\", \"width\": 0.05});\n\tviewergrid_17092001007481[0][2].setViewStyle({\"style\": \"outline\", \"width\": 0.05});\n\tviewergrid_17092001007481[0][0].setStyle({\"stick\": {}, \"sphere\": {\"scale\": 0.25}});\n\tviewergrid_17092001007481[0][1].setStyle({\"stick\": {}, \"sphere\": {\"scale\": 0.25}});\n\tviewergrid_17092001007481[0][2].setStyle({\"stick\": {}, \"sphere\": {\"scale\": 0.25}});\n\tviewergrid_17092001007481[0][0].animate({\"loop\": \"backAndForth\"});\n\tviewergrid_17092001007481[0][1].animate({\"loop\": \"backAndForth\"});\n\tviewergrid_17092001007481[0][2].animate({\"loop\": \"backAndForth\"});\n\tviewergrid_17092001007481[0][0].zoomTo();\n\tviewergrid_17092001007481[0][1].zoomTo();\n\tviewergrid_17092001007481[0][2].zoomTo();\nviewergrid_17092001007481[0][2].render();\nviewergrid_17092001007481[0][1].render();\nviewergrid_17092001007481[0][0].render();\n});\n</script>",
      "text/html": [
       "<div id=\"3dmolviewer_17092001007481\"  style=\"position: relative; width: 600px; height: 200px;\">\n",
       "        <p id=\"3dmolwarning_17092001007481\" style=\"background-color:#ffcccc;color:black\">You appear to be running in JupyterLab (or JavaScript failed to load for some other reason).  You need to install the 3dmol extension: <br>\n",
       "        <tt>jupyter labextension install jupyterlab_3dmol</tt></p>\n",
       "        </div>\n",
       "<script>\n",
       "\n",
       "var loadScriptAsync = function(uri){\n",
       "  return new Promise((resolve, reject) => {\n",
       "    //this is to ignore the existence of requirejs amd\n",
       "    var savedexports, savedmodule;\n",
       "    if (typeof exports !== 'undefined') savedexports = exports;\n",
       "    else exports = {}\n",
       "    if (typeof module !== 'undefined') savedmodule = module;\n",
       "    else module = {}\n",
       "\n",
       "    var tag = document.createElement('script');\n",
       "    tag.src = uri;\n",
       "    tag.async = true;\n",
       "    tag.onload = () => {\n",
       "        exports = savedexports;\n",
       "        module = savedmodule;\n",
       "        resolve();\n",
       "    };\n",
       "  var firstScriptTag = document.getElementsByTagName('script')[0];\n",
       "  firstScriptTag.parentNode.insertBefore(tag, firstScriptTag);\n",
       "});\n",
       "};\n",
       "\n",
       "if(typeof $3Dmolpromise === 'undefined') {\n",
       "$3Dmolpromise = null;\n",
       "  $3Dmolpromise = loadScriptAsync('https://cdnjs.cloudflare.com/ajax/libs/3Dmol/2.0.4/3Dmol-min.js');\n",
       "}\n",
       "\n",
       "var viewer_17092001007481 = null;\n",
       "var warn = document.getElementById(\"3dmolwarning_17092001007481\");\n",
       "if(warn) {\n",
       "    warn.parentNode.removeChild(warn);\n",
       "}\n",
       "$3Dmolpromise.then(function() {\n",
       "var viewergrid_17092001007481 = null;\n",
       "viewergrid_17092001007481 = $3Dmol.createViewerGrid(document.getElementById(\"3dmolviewer_17092001007481\"),{rows: 1, cols: 3, control_all: true},{backgroundColor:\"white\"});\n",
       "viewer_17092001007481 = viewergrid_17092001007481[0][0];\n",
       "viewergrid_17092001007481[0][0].zoomTo();viewergrid_17092001007481[0][1].zoomTo();viewergrid_17092001007481[0][2].zoomTo();\tviewergrid_17092001007481[0][0].addModel(\"6\\n\\nC       0.0000000      -0.6639840       0.0000000      -0.0703183      -0.0000143       0.0000006\\nC       0.0000000       0.6639840       0.0000000      -0.0703781       0.0000340      -0.0000024\\nH       0.9197960      -1.2230610       0.0000000       0.4187310      -0.2679059       0.0000017\\nH      -0.9197960      -1.2230610       0.0000000       0.4191585       0.2680309      -0.0000007\\nH       0.9197960       1.2230610       0.0000000       0.4189350       0.2680011       0.0000089\\nH      -0.9197960       1.2230610       0.0000000       0.4196538      -0.2683619       0.0000112\\n\",\"xyz\",{\"vibrate\": {\"frames\": 10, \"amplitude\": 0.75}});\n",
       "\tviewergrid_17092001007481[0][1].addModel(\"6\\n\\nC       0.0000000      -0.6639840       0.0000000       0.0412380       0.0436301      -0.0000000\\nC       0.0000000       0.6639840       0.0000000       0.0754202      -0.0041440       0.0000000\\nF       1.5197960      -1.2230610       0.0000000      -0.0006345       0.0001596       0.0000000\\nH      -0.9197960      -1.2230610       0.0000000      -0.4739430      -0.4411036       0.0000000\\nH       0.9197960       1.2230610       0.0000000      -0.3781468      -0.2912463      -0.0000001\\nH      -0.9197960       1.2230610       0.0000000      -0.5260013       0.2588416      -0.0000000\\n\",\"xyz\",{\"vibrate\": {\"frames\": 10, \"amplitude\": 0.75}});\n",
       "\tviewergrid_17092001007481[0][2].addModel(\"6\\n\\nC       0.0000000      -0.6639840       0.0000000      -0.0620847      -0.0573365      -0.0000000\\nC       0.0000000       0.6639840       0.0000000      -0.0351767       0.0100308       0.0000000\\nCl       1.5197960      -1.2230610       0.0000000       0.0002712      -0.0000132       0.0000000\\nH      -0.9197960      -1.2230610       0.0000000       0.7288853       0.5784352      -0.0000000\\nH       0.9197960       1.2230610       0.0000000       0.1725103       0.1238072      -0.0000000\\nH      -0.9197960       1.2230610       0.0000000       0.2479896      -0.1381017       0.0000000\\n\",\"xyz\",{\"vibrate\": {\"frames\": 10, \"amplitude\": 0.75}});\n",
       "\tviewergrid_17092001007481[0][0].setViewStyle({\"style\": \"outline\", \"width\": 0.05});\n",
       "\tviewergrid_17092001007481[0][1].setViewStyle({\"style\": \"outline\", \"width\": 0.05});\n",
       "\tviewergrid_17092001007481[0][2].setViewStyle({\"style\": \"outline\", \"width\": 0.05});\n",
       "\tviewergrid_17092001007481[0][0].setStyle({\"stick\": {}, \"sphere\": {\"scale\": 0.25}});\n",
       "\tviewergrid_17092001007481[0][1].setStyle({\"stick\": {}, \"sphere\": {\"scale\": 0.25}});\n",
       "\tviewergrid_17092001007481[0][2].setStyle({\"stick\": {}, \"sphere\": {\"scale\": 0.25}});\n",
       "\tviewergrid_17092001007481[0][0].animate({\"loop\": \"backAndForth\"});\n",
       "\tviewergrid_17092001007481[0][1].animate({\"loop\": \"backAndForth\"});\n",
       "\tviewergrid_17092001007481[0][2].animate({\"loop\": \"backAndForth\"});\n",
       "\tviewergrid_17092001007481[0][0].zoomTo();\n",
       "\tviewergrid_17092001007481[0][1].zoomTo();\n",
       "\tviewergrid_17092001007481[0][2].zoomTo();\n",
       "viewergrid_17092001007481[0][2].render();\n",
       "viewergrid_17092001007481[0][1].render();\n",
       "viewergrid_17092001007481[0][0].render();\n",
       "});\n",
       "</script>"
      ]
     },
     "metadata": {},
     "output_type": "display_data"
    }
   ],
   "source": [
    "# Animate the vibration\n",
    "view = p3d.view(viewergrid=(1, 3), width=600, height=200, linked=True)\n",
    "view.addModel(\n",
    "    ethene_h1, \"xyz\", {\"vibrate\": {\"frames\": 10, \"amplitude\": 0.75}}, viewer=(0, 0)\n",
    ")\n",
    "view.addModel(\n",
    "    fluoroethene_h1,\n",
    "    \"xyz\",\n",
    "    {\"vibrate\": {\"frames\": 10, \"amplitude\": 0.75}},\n",
    "    viewer=(0, 1),\n",
    ")\n",
    "view.addModel(\n",
    "    chloroethene_h1,\n",
    "    \"xyz\",\n",
    "    {\"vibrate\": {\"frames\": 10, \"amplitude\": 0.75}},\n",
    "    viewer=(0, 2),\n",
    ")\n",
    "\n",
    "view.setViewStyle({\"style\": \"outline\", \"width\": 0.05})\n",
    "view.setStyle({\"stick\": {}, \"sphere\": {\"scale\": 0.25}})\n",
    "view.animate({\"loop\": \"backAndForth\"})\n",
    "view.zoomTo()\n",
    "view.show()"
   ]
  },
  {
   "cell_type": "markdown",
   "id": "4330b398-12d7-4686-b3f0-c8556a3a28a8",
   "metadata": {
    "editable": true,
    "slideshow": {
     "slide_type": ""
    },
    "tags": []
   },
   "source": [
    "## IR intensities and Raman activities\n",
    "\n",
    "To rationalize why the IR and Raman spectra look as they do, calculate how the dipole moment and polarizability change during particular vibrational motions. Look at the Hydrogen stretching modes and select a mode which is IR-active in ethene, but is suppressed in fluoroethene or chloroethene. What is the dipole moment in the optimized molecule? How does the dipole moment change during the vibration? "
   ]
  },
  {
   "cell_type": "markdown",
   "id": "2e5505c8-e931-4e0c-86cc-b58895d0b2b5",
   "metadata": {
    "editable": true,
    "slideshow": {
     "slide_type": ""
    },
    "tags": []
   },
   "source": [
    "```python\n",
    "# Calculate the dipole moment of the optimized molecules\n",
    "# For this we will use the FirstOrderProperties class from veloxchem\n",
    "ethene_prop = vlx.firstorderprop.FirstOrderProperties()\n",
    "ethene_prop.compute_scf_prop(opt_ethene, ethene_basis, ethene_scf_results)\n",
    "ethene_dipole_moment = ethene_prop.get_property('dipole moment')\n",
    "...\n",
    "\n",
    "# Select normal mode and get the array of atomic displacements\n",
    "...\n",
    "\n",
    "# Use the atomic displacement array to construct several new molecular configurations\n",
    "# along the vibrational mode, e.g. -0.75, -0.5, -0.25, 0.25, 0.5, 0.75 displacement \n",
    "...\n",
    "\n",
    "# Calculate the dipole moment for the new configurations\n",
    "...\n",
    "\n",
    "# Plot as a function of displacement\n",
    "...\n",
    "```"
   ]
  },
  {
   "cell_type": "code",
   "execution_count": 22,
   "id": "5d18f59e-a011-4d56-9691-e21da2adcec6",
   "metadata": {
    "editable": true,
    "slideshow": {
     "slide_type": ""
    },
    "tags": [
     "hide-output",
     "hide-input"
    ]
   },
   "outputs": [
    {
     "name": "stdout",
     "output_type": "stream",
     "text": [
      "Ground state dipole moments:   x             y            z       \n",
      "\n",
      "Ethene                     : -0.00 a.u.     0.00 a.u.   -0.00 a.u.\n",
      "Fluoroethene               : -0.79 a.u.     0.39 a.u.    0.00 a.u.\n",
      "Chloroethene               : -0.77 a.u.     0.59 a.u.    0.00 a.u.\n",
      "\n"
     ]
    },
    {
     "data": {
      "image/png": "[encoded data removed]",
      "text/plain": [
       "<Figure size 1200x400 with 2 Axes>"
      ]
     },
     "metadata": {},
     "output_type": "display_data"
    }
   ],
   "source": [
    "ethene_prop = vlx.firstorderprop.FirstOrderProperties()\n",
    "ethene_prop.compute_scf_prop(opt_ethene, ethene_basis, ethene_scf_results)\n",
    "ethene_dipole_moment = ethene_prop.get_property(\"dipole moment\")\n",
    "\n",
    "fluoroethene_prop = vlx.firstorderprop.FirstOrderProperties()\n",
    "fluoroethene_prop.compute_scf_prop(\n",
    "    opt_fluoroethene, fluoroethene_basis, fluoroethene_scf_results\n",
    ")\n",
    "fluoroethene_dipole_moment = fluoroethene_prop.get_property(\"dipole moment\")\n",
    "\n",
    "chloroethene_prop = vlx.firstorderprop.FirstOrderProperties()\n",
    "chloroethene_prop.compute_scf_prop(\n",
    "    opt_chloroethene, chloroethene_basis, chloroethene_scf_results\n",
    ")\n",
    "chloroethene_dipole_moment = chloroethene_prop.get_property(\"dipole moment\")\n",
    "\n",
    "print(\"Ground state dipole moments:   x             y            z       \\n\")\n",
    "print(\n",
    "    \"Ethene                     : %5.2f a.u.    %5.2f a.u.   %5.2f a.u.\"\n",
    "    % (ethene_dipole_moment[0], ethene_dipole_moment[1], ethene_dipole_moment[2])\n",
    ")\n",
    "print(\n",
    "    \"Fluoroethene               : %5.2f a.u.    %5.2f a.u.   %5.2f a.u.\"\n",
    "    % (\n",
    "        fluoroethene_dipole_moment[0],\n",
    "        fluoroethene_dipole_moment[1],\n",
    "        fluoroethene_dipole_moment[2],\n",
    "    )\n",
    ")\n",
    "print(\n",
    "    \"Chloroethene               : %5.2f a.u.    %5.2f a.u.   %5.2f a.u.\"\n",
    "    % (\n",
    "        chloroethene_dipole_moment[0],\n",
    "        chloroethene_dipole_moment[1],\n",
    "        chloroethene_dipole_moment[2],\n",
    "    )\n",
    ")\n",
    "print()\n",
    "\n",
    "ethene_moments = []\n",
    "fluoroethene_moments = []\n",
    "\n",
    "natm = opt_ethene.number_of_atoms()\n",
    "\n",
    "new_ethene_scf_drv = vlx.scfrestdriver.ScfRestrictedDriver()\n",
    "new_ethene_scf_drv.ostream.state = False\n",
    "ethene_displacements = ethene_vibanalysis_drv.normal_modes[-1].reshape(natm, 3)\n",
    "ethene_labels = opt_ethene.get_labels()\n",
    "\n",
    "new_fluoroethene_scf_drv = vlx.scfrestdriver.ScfRestrictedDriver()\n",
    "new_fluoroethene_scf_drv.ostream.state = False\n",
    "fluoroethene_displacements = fluoroethene_vibanalysis_drv.normal_modes[-1].reshape(natm, 3)\n",
    "fluoroethene_labels = opt_fluoroethene.get_labels()\n",
    "\n",
    "x_list = np.arange(-0.8, 0.81, 0.2)\n",
    "\n",
    "# Calculate the dipole moment for different displacements\n",
    "for x in x_list:\n",
    "    ethene_coords = opt_ethene.get_coordinates_in_angstrom()\n",
    "    ethene_coords += x * ethene_displacements\n",
    "    new_ethene = vlx.molecule.Molecule(ethene_labels, ethene_coords, units=\"angstrom\")\n",
    "    new_ethene_scf_results = new_ethene_scf_drv.compute(new_ethene, ethene_basis)\n",
    "    ethene_prop.compute_scf_prop(new_ethene, ethene_basis, new_ethene_scf_results)\n",
    "    ethene_dipole_moment = ethene_prop.get_property(\"dipole moment\")\n",
    "    ethene_moments.append(ethene_dipole_moment)\n",
    "\n",
    "for x in x_list:\n",
    "    fluoro_coords = opt_fluoroethene.get_coordinates_in_angstrom()\n",
    "    fluoro_coords += x * fluoroethene_displacements\n",
    "    new_fluoroethene = vlx.molecule.Molecule(\n",
    "        fluoroethene_labels, fluoro_coords, units=\"angstrom\"\n",
    "    )\n",
    "    new_fluoroethene_scf_results = new_fluoroethene_scf_drv.compute(\n",
    "        new_fluoroethene, fluoroethene_basis\n",
    "    )\n",
    "    ethene_prop.compute_scf_prop(\n",
    "        new_fluoroethene, fluoroethene_basis, new_fluoroethene_scf_results\n",
    "    )\n",
    "    fluoroethene_dipole_moment = fluoroethene_prop.get_property(\"dipole moment\")\n",
    "    fluoroethene_moments.append(fluoroethene_dipole_moment)\n",
    "\n",
    "\n",
    "ethene_moments_array = np.array(ethene_moments)\n",
    "fluoroethene_moments_array = np.array(fluoroethene_moments)\n",
    "\n",
    "# Plot\n",
    "figure = plt.figure(figsize=(12, 4))\n",
    "\n",
    "plt1 = figure.add_subplot(1, 2, 1)\n",
    "plt.plot(x_list, ethene_moments_array[:, 0], \"-o\", label=\"x\")\n",
    "plt.plot(x_list, ethene_moments_array[:, 1], \"-o\", label=\"y\")\n",
    "plt.plot(x_list, ethene_moments_array[:, 2], \"--o\", label=\"z\")\n",
    "plt.axis(xmin=-0.85, xmax=0.85)\n",
    "plt.axis(ymin=-0.85, ymax=0.85)\n",
    "plt.xlabel(\"Displacement (%)\")\n",
    "plt.ylabel(\"Dipole moment (a.u.)\")\n",
    "plt.title(\n",
    "    \"Ethene Dipole Moment along the %.2f cm-1 mode\" % ethene_vibanalysis_drv.vib_frequencies[-1]\n",
    ")\n",
    "plt.legend()\n",
    "\n",
    "plt2 = figure.add_subplot(1, 2, 2)\n",
    "plt.plot(x_list, fluoroethene_moments_array[:, 0], \"-o\", label=\"x\")\n",
    "plt.plot(x_list, fluoroethene_moments_array[:, 1], \"-o\", label=\"y\")\n",
    "plt.plot(x_list, fluoroethene_moments_array[:, 2], \"--o\", label=\"z\")\n",
    "plt.axis(xmin=-0.85, xmax=0.85)\n",
    "plt.axis(ymin=-0.85, ymax=0.85)\n",
    "plt.xlabel(\"Displacement (%)\")\n",
    "plt.ylabel(\"Dipole moment (a.u.)\")\n",
    "plt.title(\n",
    "    \"Fluoroethene dipole moment along the %.2f cm-1 mode\"\n",
    "    % fluoroethene_vibanalysis_drv.vib_frequencies[-1]\n",
    ")\n",
    "plt.legend()\n",
    "\n",
    "plt.tight_layout()\n",
    "plt.show()"
   ]
  },
  {
   "cell_type": "markdown",
   "id": "d3d24781-13da-4ab2-a384-97c60f9a4ead",
   "metadata": {
    "editable": true,
    "slideshow": {
     "slide_type": ""
    },
    "tags": []
   },
   "source": [
    "Now select a mode which is Raman-active in ethene, but is suppressed in fluoroethene or chloroethene. Calculate the polarizability of the optimized molecule. How does the polarizability change during the vibration? "
   ]
  },
  {
   "cell_type": "markdown",
   "id": "9713c000-4ec7-4f26-a7ed-5e1a4e9a2302",
   "metadata": {
    "editable": true,
    "slideshow": {
     "slide_type": ""
    },
    "tags": []
   },
   "source": [
    "```python\n",
    "# Calculate the polarizability of the optimized molecules\n",
    "# For this, we need to run a linear response calculation\n",
    "ethene_lrdrv = vlx.lrsolver.LinearResponseSolver()\n",
    "ethene_pol_dict = ethene_lrdrv.compute(opt_ethene, ethene_basis, ethene_scf_results)\n",
    "ethene_polarizability = ethene_pol_dict['response_functions']\n",
    "...\n",
    "\n",
    "# Select normal mode and get the array of atomic displacements\n",
    "...\n",
    "\n",
    "# Use the atomic displacement array to construct several new molecular configurations\n",
    "# along the vibrational mode, e.g. -0.75, -0.5, -0.25, 0.25, 0.5, 0.75 displacement \n",
    "...\n",
    "\n",
    "# Calculate the polarizability for the new configurations\n",
    "...\n",
    "\n",
    "# Plot component or norm as a function of displacement\n",
    "...\n",
    "```"
   ]
  },
  {
   "cell_type": "code",
   "execution_count": 23,
   "id": "e1c308ba-c56b-4a82-aed4-47610ddfa9c7",
   "metadata": {
    "editable": true,
    "slideshow": {
     "slide_type": ""
    },
    "tags": [
     "hide-output",
     "hide-input"
    ]
   },
   "outputs": [
    {
     "name": "stdout",
     "output_type": "stream",
     "text": [
      "Ground state polarizabilities:    xx             yy           zz\n",
      "\n",
      "Ethene                       : -19.19 a.u.    -32.45 a.u.   -7.15 a.u.\n",
      "Fluoroethene                 : -18.86 a.u.    -30.62 a.u.   -7.81 a.u.\n",
      "Chloroethene                 : -31.94 a.u.    -41.05 a.u.   -10.12 a.u.\n",
      "\n"
     ]
    },
    {
     "data": {
      "image/png": "[encoded data removed]",
      "text/plain": [
       "<Figure size 1200x400 with 2 Axes>"
      ]
     },
     "metadata": {},
     "output_type": "display_data"
    }
   ],
   "source": [
    "# Calculate the polarizability of the optimized molecules\n",
    "# For this, we need to run a linear response calculation\n",
    "ethene_lrdrv = vlx.lrsolver.LinearResponseSolver()\n",
    "ethene_lrdrv.ostream.mute()\n",
    "ethene_pol_dict = ethene_lrdrv.compute(opt_ethene, ethene_basis, ethene_scf_results)\n",
    "ethene_polarizability = ethene_pol_dict[\"response_functions\"]\n",
    "\n",
    "fluoroethene_lrdrv = vlx.lrsolver.LinearResponseSolver()\n",
    "fluoroethene_lrdrv.ostream.mute()\n",
    "fluoroethene_pol_dict = fluoroethene_lrdrv.compute(\n",
    "    opt_fluoroethene, fluoroethene_basis, fluoroethene_scf_results\n",
    ")\n",
    "fluoroethene_polarizability = fluoroethene_pol_dict[\"response_functions\"]\n",
    "\n",
    "chloroethene_lrdrv = vlx.lrsolver.LinearResponseSolver()\n",
    "chloroethene_lrdrv.ostream.mute()\n",
    "chloroethene_pol_dict = chloroethene_lrdrv.compute(\n",
    "    opt_chloroethene, chloroethene_basis, chloroethene_scf_results\n",
    ")\n",
    "chloroethene_polarizability = chloroethene_pol_dict[\"response_functions\"]\n",
    "\n",
    "print(\"Ground state polarizabilities:    xx             yy           zz\\n\")\n",
    "print(\n",
    "    \"Ethene                       : %5.2f a.u.    %5.2f a.u.   %5.2f a.u.\"\n",
    "    % (\n",
    "        ethene_polarizability[(\"x\", \"x\", 0)],\n",
    "        ethene_polarizability[(\"y\", \"y\", 0)],\n",
    "        ethene_polarizability[(\"z\", \"z\", 0)],\n",
    "    )\n",
    ")\n",
    "print(\n",
    "    \"Fluoroethene                 : %5.2f a.u.    %5.2f a.u.   %5.2f a.u.\"\n",
    "    % (\n",
    "        fluoroethene_polarizability[(\"x\", \"x\", 0)],\n",
    "        fluoroethene_polarizability[(\"y\", \"y\", 0)],\n",
    "        fluoroethene_polarizability[(\"z\", \"z\", 0)],\n",
    "    )\n",
    ")\n",
    "print(\n",
    "    \"Chloroethene                 : %5.2f a.u.    %5.2f a.u.   %5.2f a.u.\"\n",
    "    % (\n",
    "        chloroethene_polarizability[(\"x\", \"x\", 0)],\n",
    "        chloroethene_polarizability[(\"y\", \"y\", 0)],\n",
    "        chloroethene_polarizability[(\"z\", \"z\", 0)],\n",
    "    )\n",
    ")\n",
    "print()\n",
    "\n",
    "# Save polarizability dictionary keys\n",
    "keys = ethene_pol_dict[\"response_functions\"].keys()\n",
    "\n",
    "ethene_pol = []\n",
    "fluoroethene_pol = []\n",
    "\n",
    "# Create new linear response solvers to re-calculate the polarizabilities\n",
    "new_ethene_lrdrv = vlx.lrsolver.LinearResponseSolver()\n",
    "new_ethene_lrdrv.ostream.mute()\n",
    "\n",
    "new_fluoroethene_lrdrv = vlx.lrsolver.LinearResponseSolver()\n",
    "new_fluoroethene_lrdrv.ostream.mute()\n",
    "\n",
    "# Calculate the polarizability for different displacements\n",
    "for x in x_list:\n",
    "    ethene_coords = opt_ethene.get_coordinates_in_angstrom()\n",
    "    ethene_coords += x * ethene_displacements\n",
    "    new_ethene = vlx.molecule.Molecule(ethene_labels, ethene_coords, units=\"angstrom\")\n",
    "    new_ethene_scf_results = new_ethene_scf_drv.compute(new_ethene, ethene_basis)\n",
    "\n",
    "    new_ethene_pol_dict = new_ethene_lrdrv.compute(\n",
    "        new_ethene, ethene_basis, new_ethene_scf_results\n",
    "    )\n",
    "\n",
    "    ethene_polarizability = np.zeros((9))\n",
    "    i = 0\n",
    "    for key in keys:\n",
    "        ethene_polarizability[i] = new_ethene_pol_dict[\"response_functions\"][key]\n",
    "        i += 1\n",
    "    ethene_pol.append(ethene_polarizability.reshape(3, 3))\n",
    "\n",
    "for x in x_list:\n",
    "    fluoro_coords = opt_fluoroethene.get_coordinates_in_angstrom()\n",
    "    fluoro_coords += x * fluoroethene_displacements\n",
    "    new_fluoroethene = vlx.molecule.Molecule(\n",
    "        fluoroethene_labels, fluoro_coords, units=\"angstrom\"\n",
    "    )\n",
    "    new_fluoroethene_scf_results = new_fluoroethene_scf_drv.compute(\n",
    "        new_fluoroethene, fluoroethene_basis\n",
    "    )\n",
    "\n",
    "    new_fluoroethene_pol_dict = new_fluoroethene_lrdrv.compute(\n",
    "        new_fluoroethene, fluoroethene_basis, new_fluoroethene_scf_results\n",
    "    )\n",
    "\n",
    "    fluoroethene_polarizability = np.zeros((9))\n",
    "    i = 0\n",
    "    for key in keys:\n",
    "        fluoroethene_polarizability[i] = new_fluoroethene_pol_dict[\n",
    "            \"response_functions\"\n",
    "        ][key]\n",
    "        i += 1\n",
    "    fluoroethene_pol.append(fluoroethene_polarizability.reshape(3, 3))\n",
    "\n",
    "ethene_polarizability_array = np.array(ethene_pol)\n",
    "fluoroethene_polarizability_array = np.array(fluoroethene_pol)\n",
    "\n",
    "figure = plt.figure(figsize=(12, 4))\n",
    "\n",
    "# Plot\n",
    "plt1 = figure.add_subplot(1, 2, 1)\n",
    "plt.plot(x_list, ethene_polarizability_array[:, 0, 0], \"-o\", label=\"xx\")\n",
    "plt.plot(x_list, ethene_polarizability_array[:, 1, 1], \"-o\", label=\"yy\")\n",
    "plt.plot(x_list, ethene_polarizability_array[:, 2, 2], \"--o\", label=\"zz\")\n",
    "plt.axis(xmin=-0.85, xmax=0.85)\n",
    "plt.axis(ymin=-32.0, ymax=2.0)\n",
    "plt.xlabel(\"Displacement (%)\")\n",
    "plt.ylabel(\"Polarizability (a.u.)\")\n",
    "plt.title(\n",
    "    \"Ethene polarizability along the %.2f cm-1 mode \"\n",
    "    % (ethene_vibanalysis_drv.vib_frequencies[-1])\n",
    ")\n",
    "plt.legend()\n",
    "\n",
    "plt2 = figure.add_subplot(1, 2, 2)\n",
    "plt.plot(x_list, fluoroethene_polarizability_array[:, 0, 0], \"-o\", label=\"xx\")\n",
    "plt.plot(x_list, fluoroethene_polarizability_array[:, 1, 1], \"-o\", label=\"yy\")\n",
    "plt.plot(x_list, fluoroethene_polarizability_array[:, 2, 2], \"--o\", label=\"zz\")\n",
    "plt.axis(xmin=-0.85, xmax=0.85)\n",
    "plt.axis(ymin=-32.0, ymax=2.0)\n",
    "plt.xlabel(\"Displacement (%)\")\n",
    "plt.ylabel(\"Polarizability (a.u.)\")\n",
    "plt.title(\n",
    "    \"Fluoroethene polarizability along the %.2f cm-1 mode \"\n",
    "    % (fluoroethene_vibanalysis_drv.vib_frequencies[-1])\n",
    ")\n",
    "plt.legend()\n",
    "\n",
    "plt.tight_layout()\n",
    "plt.show()"
   ]
  }
 ],
 "metadata": {
  "kernelspec": {
   "display_name": "Python 3 (ipykernel)",
   "language": "python",
   "name": "python3"
  },
  "language_info": {
   "codemirror_mode": {
    "name": "ipython",
    "version": 3
   },
   "file_extension": ".py",
   "mimetype": "text/x-python",
   "name": "python",
   "nbconvert_exporter": "python",
   "pygments_lexer": "ipython3",
   "version": "3.12.7"
  }
 },
 "nbformat": 4,
 "nbformat_minor": 5
}
