{
 "cells": [
  {
   "cell_type": "markdown",
   "id": "reserved-transmission",
   "metadata": {},
   "source": [
    "(sec:correlation)=\n",
    "# Electron correlation\n",
    "\n",
    "## Two-particle density\n",
    "\n",
    "The electron correlation describes instantaneous interaction between electrons in a molecular system. This interaction manifests itself as a relationship between one- and two-electron density matrices \n",
    "\n",
    "$$\n",
    "\\rho(\\mathbf{r}, \\mathbf{r}') \\neq \\rho(\\mathbf{r}) \\rho(\\mathbf{r}')\n",
    "$$\n",
    "\n",
    "where $\\rho(\\mathbf{r}, \\mathbf{r}')$ is the two-electron density. If the molecular system is described by the wave function model, which does not permit instantaneous electron interaction, the relationship between density matrices becomes \n",
    "\n",
    "$$\n",
    "\\rho(\\mathbf{r}, \\mathbf{r}') = \\rho(\\mathbf{r}) \\rho(\\mathbf{r}')\n",
    "$$\n",
    "\n",
    "indicating completely independent motion of electron in the molecular system.\n",
    "\n",
    "## Correlation energy\n",
    "\n",
    "The electron correlation arises from two primary sources namely the fermionic nature of electrons and the interaction between electrons. From the perspective of the Hartree–Fock method the first but not the second source is accounted for, and as a measure of this discrepancy the correlation energy is defined as\n",
    "\n",
    "$$\n",
    "E_{\\textrm{corr}} = E_{\\textrm{exact}} - E_{\\textrm{HF}} \n",
    "$$\n",
    "\n",
    "In work with approximate methods such as the plethora of wave function models, it is convenient to introduce a method specific correlation energy following Löwdin {cite:p}`Lowdin1980`\n",
    "\n",
    "$$\n",
    "E_{\\textrm{corr}} = E_{\\textrm{WF}} - E_{\\textrm{HF}}  \n",
    "$$\n",
    "\n",
    "where $E_{\\textrm{WF}}$ is the energy of the molecular system computed by the selected wave function model.\n",
    "\n",
    "To illustrate these concepts, we will use the configuration interaction (CI) method to study the H$_2$ molecule. The obtained results provide the exact correlation energy within the chosen basis set."
   ]
  },
  {
   "cell_type": "code",
   "execution_count": 1,
   "id": "handmade-patent",
   "metadata": {
    "scrolled": true,
    "tags": [
     "remove-output"
    ]
   },
   "outputs": [
    {
     "name": "stderr",
     "output_type": "stream",
     "text": [
      "Warning: importing 'simtk.openmm' is deprecated.  Import 'openmm' instead.\n"
     ]
    },
    {
     "name": "stdout",
     "output_type": "stream",
     "text": [
      "* Warning * Environment variable OMP_NUM_THREADS not set.\n",
      "* Warning * Setting OMP_NUM_THREADS to 8.\n",
      "                                                                                                                          \n",
      "                                            Self Consistent Field Driver Setup                                            \n",
      "                                           ====================================                                           \n",
      "                                                                                                                          \n",
      "                   Wave Function Model             : Spin-Restricted Hartree-Fock                                         \n",
      "                   Initial Guess Model             : Superposition of Atomic Densities                                    \n",
      "                   Convergence Accelerator         : Two Level Direct Inversion of Iterative Subspace                     \n",
      "                   Max. Number of Iterations       : 50                                                                   \n",
      "                   Max. Number of Error Vectors    : 10                                                                   \n",
      "                   Convergence Threshold           : 1.0e-06                                                              \n",
      "                   ERI Screening Scheme            : Cauchy Schwarz + Density                                             \n",
      "                   ERI Screening Mode              : Dynamic                                                              \n",
      "                   ERI Screening Threshold         : 1.0e-12                                                              \n",
      "                   Linear Dependence Threshold     : 1.0e-06                                                              \n",
      "                                                                                                                          \n",
      "* Info * Nuclear repulsion energy: 0.7141392860 a.u.                                                                      \n",
      "                                                                                                                          \n",
      "* Info * Overlap matrix computed in 0.00 sec.                                                                             \n",
      "                                                                                                                          \n",
      "* Info * Kinetic energy matrix computed in 0.00 sec.                                                                      \n",
      "                                                                                                                          \n",
      "* Info * Nuclear potential matrix computed in 0.00 sec.                                                                   \n",
      "                                                                                                                          \n",
      "* Info * Orthogonalization matrix computed in 0.00 sec.                                                                   \n",
      "                                                                                                                          \n",
      "* Info * SAD initial guess computed in 0.00 sec.                                                                          \n",
      "                                                                                                                          \n",
      "* Info * Starting Reduced Basis SCF calculation...                                                                        \n",
      "* Info * ...done. SCF energy in reduced basis set: -1.116706137348 a.u. Time: 0.01 sec.                                   \n",
      "                                                                                                                          \n",
      "* Info * Overlap matrix computed in 0.00 sec.                                                                             \n",
      "                                                                                                                          \n",
      "* Info * Kinetic energy matrix computed in 0.00 sec.                                                                      \n",
      "                                                                                                                          \n",
      "* Info * Nuclear potential matrix computed in 0.00 sec.                                                                   \n",
      "                                                                                                                          \n",
      "* Info * Orthogonalization matrix computed in 0.00 sec.                                                                   \n",
      "                                                                                                                          \n",
      "                                                                                                                          \n",
      "               Iter. | Hartree-Fock Energy | Energy Change | Gradient Norm | Max. Gradient | Density Change               \n",
      "               --------------------------------------------------------------------------------------------               \n",
      "                  1        -1.116706137348    0.0000000000      0.00000000      0.00000000      0.00000000                \n",
      "                                                                                                                          \n",
      "               *** SCF converged in 1 iterations. Time: 0.01 sec.                                                         \n",
      "                                                                                                                          \n",
      "               Spin-Restricted Hartree-Fock:                                                                              \n",
      "               -----------------------------                                                                              \n",
      "               Total Energy                       :       -1.1167061373 a.u.                                              \n",
      "               Electronic Energy                  :       -1.8308454233 a.u.                                              \n",
      "               Nuclear Repulsion Energy           :        0.7141392860 a.u.                                              \n",
      "               ------------------------------------                                                                       \n",
      "               Gradient Norm                      :        0.0000000000 a.u.                                              \n",
      "                                                                                                                          \n",
      "                                                                                                                          \n",
      "               Ground State Information                                                                                   \n",
      "               ------------------------                                                                                   \n",
      "               Charge of Molecule            :  0.0                                                                       \n",
      "               Multiplicity (2S+1)           :  1.0                                                                       \n",
      "               Magnetic Quantum Number (M_S) :  0.0                                                                       \n",
      "                                                                                                                          \n",
      "                                                                                                                          \n",
      "                                                 Spin Restricted Orbitals                                                 \n",
      "                                                 ------------------------                                                 \n",
      "                                                                                                                          \n",
      "               Molecular Orbital No.   1:                                                                                 \n",
      "               --------------------------                                                                                 \n",
      "               Occupation: 2.000 Energy:   -0.57814 a.u.                                                                  \n",
      "               (   1 H   1s  :    -0.55) (   2 H   1s  :    -0.55)                                                        \n",
      "                                                                                                                          \n",
      "               Molecular Orbital No.   2:                                                                                 \n",
      "               --------------------------                                                                                 \n",
      "               Occupation: 0.000 Energy:    0.67011 a.u.                                                                  \n",
      "               (   1 H   1s  :     1.21) (   2 H   1s  :    -1.21)                                                        \n",
      "                                                                                                                          \n"
     ]
    },
    {
     "ename": "TypeError",
     "evalue": "__init__() missing 3 required positional arguments: 'molecule', 'basis', and 'molspace'",
     "output_type": "error",
     "traceback": [
      "\u001b[0;31m---------------------------------------------------------------------------\u001b[0m",
      "\u001b[0;31mTypeError\u001b[0m                                 Traceback (most recent call last)",
      "\u001b[0;32m/var/folders/xp/xqxvp53d2831kfb6dsx_zg5w0000gp/T/ipykernel_89266/2288579329.py\u001b[0m in \u001b[0;36m<module>\u001b[0;34m\u001b[0m\n\u001b[1;32m     22\u001b[0m \u001b[0mspace\u001b[0m\u001b[0;34m=\u001b[0m\u001b[0mmtp\u001b[0m\u001b[0;34m.\u001b[0m\u001b[0mOrbSpace\u001b[0m\u001b[0;34m(\u001b[0m\u001b[0mmolecule\u001b[0m\u001b[0;34m,\u001b[0m\u001b[0mscf_drv\u001b[0m\u001b[0;34m.\u001b[0m\u001b[0mmol_orbs\u001b[0m\u001b[0;34m)\u001b[0m\u001b[0;34m\u001b[0m\u001b[0;34m\u001b[0m\u001b[0m\n\u001b[1;32m     23\u001b[0m \u001b[0mspace\u001b[0m\u001b[0;34m.\u001b[0m\u001b[0mFCI\u001b[0m\u001b[0;34m(\u001b[0m\u001b[0;34m)\u001b[0m\u001b[0;34m\u001b[0m\u001b[0;34m\u001b[0m\u001b[0m\n\u001b[0;32m---> 24\u001b[0;31m \u001b[0mCIdrv\u001b[0m\u001b[0;34m=\u001b[0m\u001b[0mmtp\u001b[0m\u001b[0;34m.\u001b[0m\u001b[0mCIDriver\u001b[0m\u001b[0;34m(\u001b[0m\u001b[0;34m)\u001b[0m\u001b[0;34m\u001b[0m\u001b[0;34m\u001b[0m\u001b[0m\n\u001b[0m\u001b[1;32m     25\u001b[0m \u001b[0mCIdrv\u001b[0m\u001b[0;34m.\u001b[0m\u001b[0mcompute\u001b[0m\u001b[0;34m(\u001b[0m\u001b[0mmolecule\u001b[0m\u001b[0;34m,\u001b[0m\u001b[0mbasis\u001b[0m\u001b[0;34m,\u001b[0m\u001b[0mspace\u001b[0m\u001b[0;34m)\u001b[0m\u001b[0;34m\u001b[0m\u001b[0;34m\u001b[0m\u001b[0m\n",
      "\u001b[0;31mTypeError\u001b[0m: __init__() missing 3 required positional arguments: 'molecule', 'basis', and 'molspace'"
     ]
    }
   ],
   "source": [
    "import veloxchem as vlx\n",
    "import multipsi as mtp\n",
    "import matplotlib.pyplot as plt\n",
    "import numpy as np\n",
    "from scipy import interpolate\n",
    "from scipy.integrate import simps\n",
    "\n",
    "mol_str = \"\"\"\n",
    "H     0.000000    0.000000   -0.370500\n",
    "H     0.000000    0.000000    0.370500\n",
    "\"\"\"\n",
    "\n",
    "au_to_nm = 0.0529177 # length conversion factor\n",
    "Hz = 0.370500 / 10 / au_to_nm #Position of the H in atomic units.\n",
    "\n",
    "molecule = vlx.Molecule.read_str(mol_str, units='angstrom')\n",
    "basis = vlx.MolecularBasis.read(molecule, 'sto-3g')\n",
    "\n",
    "scf_drv = vlx.ScfRestrictedDriver()\n",
    "scf_drv.compute(molecule, basis)\n",
    "\n",
    "space=mtp.OrbSpace(molecule,scf_drv.mol_orbs)\n",
    "space.FCI()\n",
    "CIdrv=mtp.CIDriver()\n",
    "CIdrv.compute(molecule,basis,space)"
   ]
  },
  {
   "cell_type": "markdown",
   "id": "random-consumer",
   "metadata": {},
   "source": [
    "If we print the HF and the CI energy, we can see that the CI energy is indeed lower, although the electron correlation is a relatively small correction compared to the absolute energy of the molecule. In other words, HF already captured by far most of the energy of the system."
   ]
  },
  {
   "cell_type": "code",
   "execution_count": null,
   "id": "adolescent-frontier",
   "metadata": {},
   "outputs": [],
   "source": [
    "print(\"Hartree-Fock energy:             \",scf_drv.get_scf_energy())\n",
    "print(\"Configuration interaction energy:\",CIdrv.getEnergy(0))\n",
    "print(\"Correlation energy:              \", CIdrv.getEnergy(0)-scf_drv.get_scf_energy())"
   ]
  },
  {
   "cell_type": "markdown",
   "id": "separated-combination",
   "metadata": {},
   "source": [
    "## Visualizing electron correlation\n",
    "\n",
    "### One- and two-particle densities\n",
    "\n",
    "Now that we have both the Hartree–Fock and a correlated wavefunction, we can visualize the densities using the `VisualizationDriver` class in Veloxchem. This module will give us the value of the orbitals of the system (here the $\\sigma_g$ and $\\sigma_u$) along the z-axis."
   ]
  },
  {
   "cell_type": "code",
   "execution_count": null,
   "id": "06b899ef",
   "metadata": {},
   "outputs": [],
   "source": [
    "def get_orbs(molecule, basis, mol_orbs, coords):\n",
    "    # visualization\n",
    "    vis_drv = vlx.VisualizationDriver()\n",
    "\n",
    "    # mo values at given coordinates\n",
    "    mol_orbs = scf_drv.mol_orbs\n",
    "\n",
    "    nMO=basis.get_dimensions_of_basis(molecule)\n",
    "\n",
    "    orbs=[]\n",
    "    for i in range(nMO):\n",
    "        orbs.append(np.array(vis_drv.get_mo(coords, molecule, basis, mol_orbs, i, 'alpha')))\n",
    "    return orbs"
   ]
  },
  {
   "cell_type": "markdown",
   "id": "beneficial-inspiration",
   "metadata": {},
   "source": [
    "We can now plot the densities of both HF and CI along this axis. The density is simply the product of the density matrix with the value of the density of the orbitals on the grid. For HF, the density matrix is simply \"2\" for the occupied orbitals and \"0\" for the unoccupied ones. For CI, it is a bit more complicated, but is provided by the CI driver."
   ]
  },
  {
   "cell_type": "code",
   "execution_count": null,
   "id": "tamil-portsmouth",
   "metadata": {},
   "outputs": [],
   "source": [
    "CIDM=CIdrv.get1den(0)\n",
    "print(\"CI density matrix\")\n",
    "print(CIDM)"
   ]
  },
  {
   "cell_type": "code",
   "execution_count": null,
   "id": "24d16649",
   "metadata": {},
   "outputs": [],
   "source": [
    "def get_n1(orbs, CIDM):\n",
    "    nMO = len(orbs)\n",
    "    \n",
    "    #HF density for a 2-electron system\n",
    "    n1_HF = 2 * orbs[0]**2\n",
    "    \n",
    "    #CI Density\n",
    "    n1_CI = np.zeros(n)\n",
    "    for i in range(nMO):\n",
    "        for j in range(nMO):\n",
    "            n1_CI += CIDM[i,j] * orbs[i] * orbs [j]\n",
    "\n",
    "    return n1_HF, n1_CI"
   ]
  },
  {
   "cell_type": "code",
   "execution_count": null,
   "id": "personalized-zealand",
   "metadata": {},
   "outputs": [],
   "source": [
    "n = 100\n",
    "coords = np.zeros((n,3))\n",
    "coords[:,2] = np.linspace(-3, 3, n, endpoint=True)\n",
    "\n",
    "orbs = get_orbs(molecule, basis, scf_drv.mol_orbs, coords)\n",
    "\n",
    "n1_HF, n1_CI = get_n1(orbs,CIDM)\n",
    "\n",
    "fig = plt.figure(1)\n",
    "plt.axes()\n",
    "plt.plot(coords[:,2], n1_HF, label='HF')\n",
    "plt.plot(coords[:,2], n1_CI, label='CI')\n",
    "plt.legend()\n",
    "plt.axvline(x=Hz, color='0.5', linewidth = 0.7, dashes = [3,1,3,1])\n",
    "plt.axvline(x=-Hz, color='0.5', linewidth = 0.7, dashes = [3,1,3,1])\n",
    "plt.setp(plt.gca(), xlim = (-3,3), ylim = (0,0.4))"
   ]
  },
  {
   "cell_type": "markdown",
   "id": "liable-faculty",
   "metadata": {},
   "source": [
    "As you can see, the difference in densities is very minor. Looking closely, it is possible to notice a little decreased density in the middle of the bond for CI, compensated by a minor increase around the nuclei. It fits the intuitive picture that correlation allows the electrons to stay away from each other, increasing the probability that each is around a different nucleus and reducing the probability that they both stand in the center of the bond. Still the effect is relatively minor.\n",
    "\n",
    "Let us now look instead at the two-body density:"
   ]
  },
  {
   "cell_type": "code",
   "execution_count": null,
   "id": "62ecac2a",
   "metadata": {},
   "outputs": [],
   "source": [
    "def get_n12(orbs, orbs2, CIDM2):\n",
    "    nMO = len(orbs)\n",
    "    \n",
    "    #HF 2-body density\n",
    "    n12_HF = 2 * orbs2[0]**2 * orbs[0]**2\n",
    "    \n",
    "    #CI 2-body density\n",
    "    n12_CI = np.zeros(n)\n",
    "    for i in range(nMO):\n",
    "        for j in range(nMO):\n",
    "            for k in range(nMO):\n",
    "                for l in range(nMO):\n",
    "                    n12_CI += CIDM2[i,j,k,l] * orbs[i] * orbs[j] * orbs2[k] * orbs2[l]\n",
    "\n",
    "    return n12_HF, n12_CI"
   ]
  },
  {
   "cell_type": "code",
   "execution_count": null,
   "id": "operating-spanish",
   "metadata": {},
   "outputs": [],
   "source": [
    "CIDM2=CIdrv.get2den(0)\n",
    "print(\"CI 2-body density matrix\")\n",
    "print(CIDM2)"
   ]
  },
  {
   "cell_type": "markdown",
   "id": "3efdafd1",
   "metadata": {},
   "source": [
    "For this example we are fixing the position of the first electron to be on the nucleus:"
   ]
  },
  {
   "cell_type": "code",
   "execution_count": null,
   "id": "bacterial-greece",
   "metadata": {},
   "outputs": [],
   "source": [
    "# electron 1 at the position of the hydrogen nucleus\n",
    "# electron 2 anywhere on the internuclear axis\n",
    "h1 = [[0, 0, Hz]]\n",
    "orbs2 = get_orbs(molecule, basis, scf_drv.mol_orbs, h1)\n",
    "n12_HF, n12_CI = get_n12(orbs,orbs2, CIDM2)\n",
    "\n",
    "fig = plt.figure(2)\n",
    "plt.axes()\n",
    "plt.plot(coords[:,2], n12_HF)\n",
    "plt.plot(coords[:,2], n12_CI)\n",
    "\n",
    "plt.axvline(x=Hz, color='0.5', linewidth = 0.7, dashes = [3,1,3,1])\n",
    "plt.axvline(x=-Hz, color='0.5', linewidth = 0.7, dashes = [3,1,3,1])\n",
    "plt.setp(plt.gca(), xlim = (-3,3), ylim = (0,0.1))"
   ]
  },
  {
   "cell_type": "markdown",
   "id": "guilty-samoa",
   "metadata": {},
   "source": [
    "This results shows very clearly how for the CI wavefunction, the density of electron 2 for electron 1 fixed at the hydrogen atom is very different than the total density, with the second electron preferentially sitting on the other hydrogen. This effect was not showing in the 1-body density because the 1-body density shows only the averaged result, taking into account all possible positions of the other electron. On the other hand, for the Hartree-Fock wavefunction, even the two-body density does not show any correlation: the wavefunction itself is uncorrelated."
   ]
  },
  {
   "cell_type": "markdown",
   "id": "78fdbe92",
   "metadata": {},
   "source": [
    "### Electron cusp and basis set convergence\n",
    "\n",
    "As we have seen, the point charge of the nucleus creates a cusp (*i.e.* a discontinuity in the derivative) in the electronic wavefunction near the nucleus, clearly seen in the Slater type orbitals. Similarly, the point charge of a fixed electron should create a cusp in the wavefunction of the other electrons. However, in standard quantum chemistry methods, the wavefunction does not contain any explicit term depending on the interelectronic distance. In other words, our n-electron basis (the Slater Determinants) is very ill-suited to describe this cusp and we need a lot of functions to accurately describe it.\n",
    "\n",
    "Let's illustrate this concept on Helium, using configuration interaction with an increasing basis set size (and thus also an increasing number of determinants). This time we are going to move the first electron in a circle around the atom."
   ]
  },
  {
   "cell_type": "code",
   "execution_count": null,
   "id": "3a416506",
   "metadata": {
    "tags": [
     "output_scroll"
    ]
   },
   "outputs": [],
   "source": [
    "He_str = \"\"\"\n",
    "He     0.000000    0.000000   0.000000\n",
    "\"\"\"\n",
    "Helium = vlx.Molecule.read_str(He_str, units='angstrom')\n",
    "\n",
    "#First electron in a circle around the atom\n",
    "theta = np.linspace(-np.pi, np.pi, n, endpoint=True)\n",
    "\n",
    "coords = np.zeros((n,3))\n",
    "coords[:,0] = Hz * np.cos(theta)\n",
    "coords[:,1] = Hz * np.sin(theta)\n",
    "\n",
    "#Second electron fixed\n",
    "coords2 = [[Hz, 0, 0]]\n",
    "\n",
    "#Save the 1 and 2-body densities for each basis\n",
    "n1_HFs=[]\n",
    "n12_HFs=[]\n",
    "n12_CIs=[]\n",
    "\n",
    "for basis_lbl in [\"sto-3g\", 'cc-pvdz', 'cc-pvtz']:\n",
    "    #Compute CI\n",
    "    basis = vlx.MolecularBasis.read(Helium, basis_lbl)\n",
    "    scf_drv.compute(Helium, basis)\n",
    "    space=mtp.OrbSpace(Helium,scf_drv.mol_orbs)\n",
    "    space.FCI()\n",
    "    CIdrv=mtp.CIDriver()\n",
    "    CIdrv.compute(Helium,basis,space)\n",
    "\n",
    "    #Get the orbitals\n",
    "    orbs = get_orbs(Helium, basis, scf_drv.mol_orbs, coords)\n",
    "    orbs2 = get_orbs(Helium, basis, scf_drv.mol_orbs, coords2)\n",
    "\n",
    "    #Get the densities\n",
    "    n1_HF, n1_CI = get_n1(orbs,CIdrv.get1den(0))\n",
    "    n1_HFs.append(n1_HF)\n",
    "    \n",
    "    n12_HF, n12_CI = get_n12(orbs,orbs2, CIdrv.get2den(0))\n",
    "    n12_HFs.append(n12_HF)\n",
    "    n12_CIs.append(n12_CI)"
   ]
  },
  {
   "cell_type": "code",
   "execution_count": null,
   "id": "ca12dc59",
   "metadata": {},
   "outputs": [],
   "source": [
    "fig = plt.figure(4)\n",
    "plt.axes()\n",
    "plt.plot(theta, n12_CIs[0], label='STO-3G')\n",
    "plt.plot(theta, n12_CIs[1], label='cc-pVDZ')\n",
    "plt.plot(theta, n12_CIs[2], label='cc-pVTZ')\n",
    "plt.legend()\n",
    "plt.axvline(x=Hz, color='0.5', linewidth = 0.7, dashes = [3,1,3,1])\n",
    "plt.axvline(x=-Hz, color='0.5', linewidth = 0.7, dashes = [3,1,3,1])\n",
    "plt.setp(plt.gca(), xlim = (-3,3), ylim = (0.02,0.05))"
   ]
  },
  {
   "cell_type": "markdown",
   "id": "d046aff6",
   "metadata": {},
   "source": [
    "The basis set difference here is quite significant. With STO-3G, a minimal basis, there is no virtual orbitals and thus no correlation. As we increase the basis set size, the correlation hole gets sharper, but even with a cc-pVTZ, the hole does not look like a cusp but is still very slow-varying. This illustrates the reason why correlation methods require larger basis to converge, as opposed to Hartree-Fock or Density Functional Theory where the basis set only needs to reproduce the 1-body density accurately, which converges much faster."
   ]
  },
  {
   "cell_type": "code",
   "execution_count": null,
   "id": "c86bb740",
   "metadata": {},
   "outputs": [],
   "source": []
  }
 ],
 "metadata": {
  "celltoolbar": "Tags",
  "kernelspec": {
   "display_name": "Python 3 (ipykernel)",
   "language": "python",
   "name": "python3"
  },
  "language_info": {
   "codemirror_mode": {
    "name": "ipython",
    "version": 3
   },
   "file_extension": ".py",
   "mimetype": "text/x-python",
   "name": "python",
   "nbconvert_exporter": "python",
   "pygments_lexer": "ipython3",
   "version": "3.7.12"
  }
 },
 "nbformat": 4,
 "nbformat_minor": 5
}
