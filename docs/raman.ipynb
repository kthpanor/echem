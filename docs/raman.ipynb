{
 "cells": [
  {
   "cell_type": "markdown",
   "id": "9755b725",
   "metadata": {},
   "source": [
    "# Raman spectroscopy\n",
    "\n",
    "(sec:raman-tutorial)=\n",
    "\n",
    "The Raman scattering process involves the inelasic scattering of light in the visible range, leaving the molecule in a different vibrational state. The associated scattering amplitude is related to the transition polarizability tensor $\\boldsymbol{\\alpha}$, as discussed in more details [here](dipole_mom_gradient:label). In the case of normal Raman scattering described using the harmonic approximation for molecular vibrations, the transition polarizability associated to a normal mode $k$ depends on the derivative of the electronic polarizability with respect to the normal coordinate $Q_k$. As a consequence, only modes along which the polarizability changes will be Raman active."
   ]
  },
  {
   "cell_type": "markdown",
   "id": "c369c966-6da4-4e75-b8ea-326553f6eb12",
   "metadata": {},
   "source": [
    "## Raman spectra of H<sub>2</sub>O, NH<sub>3</sub> and CH<sub>4</sub>\n",
    "Here, we will calculate the Raman spectra of H<sub>2</sub>O, NH<sub>3</sub> and CH<sub>4</sub> and determine how going from O over N to C influences the vibrational frequencies of the Hydrogen stretching modes."
   ]
  },
  {
   "cell_type": "code",
   "execution_count": 1,
   "id": "01c915b2-d1dd-498d-bc8a-d1cbe817957d",
   "metadata": {},
   "outputs": [
    {
     "name": "stdout",
     "output_type": "stream",
     "text": [
      "* Warning * Environment variable OMP_NUM_THREADS not set.\n",
      "* Warning * Setting OMP_NUM_THREADS to 8.\n"
     ]
    }
   ],
   "source": [
    "# Import section\n",
    "import veloxchem as vlx\n",
    "import py3Dmol as p3d\n",
    "import sys\n",
    "from veloxchem.veloxchemlib import bohr_in_angstroms\n",
    "\n",
    "from matplotlib import pyplot as plt\n",
    "import numpy as np\n",
    "\n",
    "basis_set_label = '6-31G'"
   ]
  },
  {
   "cell_type": "markdown",
   "id": "36bdaede-a46e-4639-baf8-9ebd184e2fcf",
   "metadata": {},
   "source": [
    "To computea meaningful Raman spectrum, the molecular geometries must be optimized at the same level of theory and using the same basis set. Let us assume that we have optimized the geometries at the HF/6-31G theory level and we have these geometries stored in xyz files. start by performing the necessary geometry optimizations."
   ]
  },
  {
   "cell_type": "code",
   "execution_count": 2,
   "id": "7ff201a0-0f1e-43e3-acde-8f2dfda5d6c5",
   "metadata": {},
   "outputs": [
    {
     "name": "stdout",
     "output_type": "stream",
     "text": [
      "\n",
      "        (a) H2O            (b) NH3               (c) CH4\n"
     ]
    },
    {
     "data": {
      "application/3dmoljs_load.v0": "<div id=\"3dmolviewer_16512367062230983\"  style=\"position: relative; width: 500px; height: 250px\">\n        <p id=\"3dmolwarning_16512367062230983\" style=\"background-color:#ffcccc;color:black\">You appear to be running in JupyterLab (or JavaScript failed to load for some other reason).  You need to install the 3dmol extension: <br>\n        <tt>jupyter labextension install jupyterlab_3dmol</tt></p>\n        </div>\n<script>\n\nvar loadScriptAsync = function(uri){\n  return new Promise((resolve, reject) => {\n    var tag = document.createElement('script');\n    tag.src = uri;\n    tag.async = true;\n    tag.onload = () => {\n      resolve();\n    };\n  var firstScriptTag = document.getElementsByTagName('script')[0];\n  firstScriptTag.parentNode.insertBefore(tag, firstScriptTag);\n});\n};\n\nif(typeof $3Dmolpromise === 'undefined') {\n$3Dmolpromise = null;\n  $3Dmolpromise = loadScriptAsync('https://3dmol.org/build/3Dmol.js');\n}\n\nvar viewer_16512367062230983 = null;\nvar warn = document.getElementById(\"3dmolwarning_16512367062230983\");\nif(warn) {\n    warn.parentNode.removeChild(warn);\n}\n$3Dmolpromise.then(function() {\nvar viewergrid_16512367062230983 = null;\nviewergrid_16512367062230983 = $3Dmol.createViewerGrid($(\"#3dmolviewer_16512367062230983\"),{rows: 1, cols: 3, control_all: true},{backgroundColor:\"white\"});\nviewer_16512367062230983 = viewergrid_16512367062230983[0][0];\nviewergrid_16512367062230983[0][0].zoomTo();viewergrid_16512367062230983[0][1].zoomTo();viewergrid_16512367062230983[0][2].zoomTo();\tviewergrid_16512367062230983[0][0].addModel(\"3\\nHF/6-31G\\nO       0.0308991       0.0228758      -0.0161623\\nH       0.2572697       0.8975361       0.2762831\\nH       0.5960312      -0.2658119      -0.7226208\\n\",\"xyz\");\n\tviewergrid_16512367062230983[0][1].addModel(\"4\\nHF/6-31G\\nN       0.0961758       0.0137254       0.1108604\\nH      -0.4973546       0.2946055       0.8535526\\nH       0.7093592       0.7070993      -0.2441077\\nH       0.4632196      -0.9053302       0.1689946\\n\",\"xyz\");\n\tviewergrid_16512367062230983[0][2].addModel(\"5\\nHF/6-31G\\nC      -0.0000199       0.0000199       0.0000000\\nH       0.5489997       0.7922034       0.4919110\\nH       0.6769972      -0.8058792      -0.2512524\\nH      -0.7710148      -0.3700500       0.6629997\\nH      -0.4550622       0.3838059      -0.9036583\\n\",\"xyz\");\n\tviewergrid_16512367062230983[0][0].setStyle({\"stick\": {}});\n\tviewergrid_16512367062230983[0][1].setStyle({\"stick\": {}});\n\tviewergrid_16512367062230983[0][2].setStyle({\"stick\": {}});\nviewergrid_16512367062230983[0][2].render();\nviewergrid_16512367062230983[0][1].render();\nviewergrid_16512367062230983[0][0].render();\n});\n</script>",
      "text/html": [
       "<div id=\"3dmolviewer_16512367062230983\"  style=\"position: relative; width: 500px; height: 250px\">\n",
       "        <p id=\"3dmolwarning_16512367062230983\" style=\"background-color:#ffcccc;color:black\">You appear to be running in JupyterLab (or JavaScript failed to load for some other reason).  You need to install the 3dmol extension: <br>\n",
       "        <tt>jupyter labextension install jupyterlab_3dmol</tt></p>\n",
       "        </div>\n",
       "<script>\n",
       "\n",
       "var loadScriptAsync = function(uri){\n",
       "  return new Promise((resolve, reject) => {\n",
       "    var tag = document.createElement('script');\n",
       "    tag.src = uri;\n",
       "    tag.async = true;\n",
       "    tag.onload = () => {\n",
       "      resolve();\n",
       "    };\n",
       "  var firstScriptTag = document.getElementsByTagName('script')[0];\n",
       "  firstScriptTag.parentNode.insertBefore(tag, firstScriptTag);\n",
       "});\n",
       "};\n",
       "\n",
       "if(typeof $3Dmolpromise === 'undefined') {\n",
       "$3Dmolpromise = null;\n",
       "  $3Dmolpromise = loadScriptAsync('https://3dmol.org/build/3Dmol.js');\n",
       "}\n",
       "\n",
       "var viewer_16512367062230983 = null;\n",
       "var warn = document.getElementById(\"3dmolwarning_16512367062230983\");\n",
       "if(warn) {\n",
       "    warn.parentNode.removeChild(warn);\n",
       "}\n",
       "$3Dmolpromise.then(function() {\n",
       "var viewergrid_16512367062230983 = null;\n",
       "viewergrid_16512367062230983 = $3Dmol.createViewerGrid($(\"#3dmolviewer_16512367062230983\"),{rows: 1, cols: 3, control_all: true},{backgroundColor:\"white\"});\n",
       "viewer_16512367062230983 = viewergrid_16512367062230983[0][0];\n",
       "viewergrid_16512367062230983[0][0].zoomTo();viewergrid_16512367062230983[0][1].zoomTo();viewergrid_16512367062230983[0][2].zoomTo();\tviewergrid_16512367062230983[0][0].addModel(\"3\\nHF/6-31G\\nO       0.0308991       0.0228758      -0.0161623\\nH       0.2572697       0.8975361       0.2762831\\nH       0.5960312      -0.2658119      -0.7226208\\n\",\"xyz\");\n",
       "\tviewergrid_16512367062230983[0][1].addModel(\"4\\nHF/6-31G\\nN       0.0961758       0.0137254       0.1108604\\nH      -0.4973546       0.2946055       0.8535526\\nH       0.7093592       0.7070993      -0.2441077\\nH       0.4632196      -0.9053302       0.1689946\\n\",\"xyz\");\n",
       "\tviewergrid_16512367062230983[0][2].addModel(\"5\\nHF/6-31G\\nC      -0.0000199       0.0000199       0.0000000\\nH       0.5489997       0.7922034       0.4919110\\nH       0.6769972      -0.8058792      -0.2512524\\nH      -0.7710148      -0.3700500       0.6629997\\nH      -0.4550622       0.3838059      -0.9036583\\n\",\"xyz\");\n",
       "\tviewergrid_16512367062230983[0][0].setStyle({\"stick\": {}});\n",
       "\tviewergrid_16512367062230983[0][1].setStyle({\"stick\": {}});\n",
       "\tviewergrid_16512367062230983[0][2].setStyle({\"stick\": {}});\n",
       "viewergrid_16512367062230983[0][2].render();\n",
       "viewergrid_16512367062230983[0][1].render();\n",
       "viewergrid_16512367062230983[0][0].render();\n",
       "});\n",
       "</script>"
      ]
     },
     "metadata": {},
     "output_type": "display_data"
    }
   ],
   "source": [
    "# Prepare molecules and basis sets:\n",
    "h2o_xyz = open(\"../xyz/ir_raman/opt_h2o.xyz\", \"r\").read() # read optimized geometry from file\n",
    "nh3_xyz = open(\"../xyz/ir_raman/opt_nh3.xyz\", \"r\").read() # read optimized geometry from file\n",
    "ch4_xyz = open(\"../xyz/ir_raman/opt_ch4.xyz\", \"r\").read() # read optimized geometry from file\n",
    "\n",
    "h2o = vlx.Molecule.from_xyz_string(h2o_xyz)\n",
    "h2o_basis = vlx.MolecularBasis.read(h2o, basis_set_label)\n",
    "\n",
    "nh3 = vlx.Molecule.from_xyz_string(nh3_xyz)\n",
    "nh3_basis = vlx.MolecularBasis.read(nh3, basis_set_label)\n",
    "\n",
    "ch4 = vlx.Molecule.from_xyz_string(ch4_xyz)\n",
    "ch4_basis = vlx.MolecularBasis.read(ch4, basis_set_label)\n",
    "\n",
    "print(\"\\n        (a) H2O            (b) NH3               (c) CH4\")\n",
    "viewer = p3d.view(viewergrid=(1,3),width=500,height=250, linked=True)\n",
    "viewer.addModel(h2o_xyz, 'xyz', viewer=(0,0))\n",
    "viewer.addModel(nh3_xyz, 'xyz', viewer=(0,1))\n",
    "viewer.addModel(ch4_xyz, 'xyz', viewer=(0,2))\n",
    "viewer.setStyle({'stick': {}})\n",
    "viewer.show()"
   ]
  },
  {
   "cell_type": "markdown",
   "id": "04cd0ea9-d262-457a-ab16-9697c1f0a214",
   "metadata": {},
   "source": [
    "To compute the Raman spectrum, we need the vibrational frequencies and Raman intensities. The frequencies are eigenvalues of the molecular Hessian, while the Raman intensities are proportional to the gradient of the polarizability. The first step is to determine the Hessian matrix."
   ]
  },
  {
   "cell_type": "code",
   "execution_count": 3,
   "id": "39c3b8f3-6cf4-4b60-85d2-2a3dee8edcf6",
   "metadata": {
    "scrolled": true,
    "tags": []
   },
   "outputs": [],
   "source": [
    "# Settings:\n",
    "scf_settings = {'conv_thresh': 1.0e-5}\n",
    "method_settings = {} # HF;  use 'xcfun': 'b3lyp', 'grid_level': 4, etc. for a DFT calculation \n",
    "# Numerical Hessian, based on the analytical gradient (or use numerical??)\n",
    "hessian_settings = {'numerical': 'yes', 'do_raman': 'yes', 'print_depolarization_ratio':'yes',\n",
    "                    'numerical_grad': 'no', 'do_print_hessian': 'no', 'do_four_point': 'no'}\n",
    "# We first need to run SCF calculations:\n",
    "h2o_scfdrv = vlx.ScfRestrictedDriver()\n",
    "h2o_scfdrv.update_settings(scf_settings, method_settings)\n",
    "h2o_scfdrv.ostream.state = False # To remove printout\n",
    "h2o_scfdrv.compute(h2o, h2o_basis)\n",
    "\n",
    "nh3_scfdrv = vlx.ScfRestrictedDriver()\n",
    "nh3_scfdrv.update_settings(scf_settings, method_settings)\n",
    "nh3_scfdrv.ostream.state = False\n",
    "nh3_scfdrv.compute(nh3, nh3_basis)\n",
    "\n",
    "ch4_scfdrv = vlx.ScfRestrictedDriver()\n",
    "ch4_scfdrv.update_settings(scf_settings, method_settings)\n",
    "ch4_scfdrv.ostream.state = False\n",
    "ch4_scfdrv.compute(ch4, ch4_basis)"
   ]
  },
  {
   "cell_type": "code",
   "execution_count": 4,
   "id": "485690dc-663a-4d28-8fce-7efdbe2fd165",
   "metadata": {},
   "outputs": [],
   "source": [
    "# Create a Hessian driver object, update settings, and compute \n",
    "h2o_hessian_drv = vlx.scfhessiandriver.ScfHessianDriver(h2o_scfdrv)\n",
    "h2o_hessian_drv.update_settings(method_settings, hessian_settings)\n",
    "\n",
    "nh3_hessian_drv = vlx.scfhessiandriver.ScfHessianDriver(nh3_scfdrv)\n",
    "nh3_hessian_drv.update_settings(method_settings, hessian_settings)\n",
    "\n",
    "ch4_hessian_drv = vlx.scfhessiandriver.ScfHessianDriver(ch4_scfdrv)\n",
    "ch4_hessian_drv.update_settings(method_settings, hessian_settings)"
   ]
  },
  {
   "cell_type": "markdown",
   "id": "65ae6f4e-cb90-44f6-a326-0486072ff66a",
   "metadata": {},
   "source": [
    "```python\n",
    "# Calculate hessians from scratch\n",
    "h2o_hessian_drv.compute(h2o, h2o_basis)\n",
    "nh3_hessian_drv.compute(nh3, nh3_basis)\n",
    "ch4_hessian_drv.compute(ch4, ch4_basis)\n",
    "```"
   ]
  },
  {
   "cell_type": "code",
   "execution_count": 5,
   "id": "10016c7e-4983-4f8d-b13f-bb8fcf2fb9de",
   "metadata": {},
   "outputs": [],
   "source": [
    "# Or read from checkpoint file:\n",
    "\n",
    "import h5py\n",
    "\n",
    "fname = '../h5files/ir_raman/raman.h5'\n",
    "hf = h5py.File(fname, \"r\")\n",
    "\n",
    "labels = ['h2o', 'nh3', 'ch4']\n",
    "i = 0\n",
    "    \n",
    "for driver in [h2o_hessian_drv, nh3_hessian_drv, ch4_hessian_drv]:\n",
    "    label = labels[i]\n",
    "    \n",
    "    driver.hessian = np.array(hf.get(label+'_hessian')) \n",
    "    driver.polarizability_gradient = np.array(hf.get(label+'_polgrad')) \n",
    "    driver.dipole_gradient = np.array( hf.get(label+'_dipolegrad'))\n",
    "    \n",
    "    i += 1\n",
    "\n",
    "hf.close()"
   ]
  },
  {
   "cell_type": "code",
   "execution_count": 6,
   "id": "1d7747f9-9d56-4774-a0eb-13082f5542ea",
   "metadata": {},
   "outputs": [
    {
     "name": "stdout",
     "output_type": "stream",
     "text": [
      "                                                   Vibrational Analysis                                                   \n",
      "                                                  ======================                                                  \n",
      "                                                                                                                          \n",
      "                 Harmonic frequencies (in cm**-1), force constants (in mdyne/A), reduced masses (in amu),                 \n",
      "                          IR intensities (in km/mol), Raman scattering activities (in A**4/amu),                          \n",
      "                      parallel and perpendicular Raman scattering activities, depolarization ratios,                      \n",
      "                                         and Cartesian normal mode displacements.                                         \n",
      "                                                                                                                          \n",
      "                                                                                                                          \n",
      "  Index:                        1                              2                              3               \n",
      "  Frequency:                 1736.87                        3988.20                        4145.10            \n",
      "  Force constant:            1.9404                         9.7200                         11.0231            \n",
      "  Reduced mass:              1.0917                         1.0372                         1.0889             \n",
      "  IR intensity:             123.0358                        2.9544                         54.2936            \n",
      "  Raman activ.:              10.6274                        90.1326                        40.0871            \n",
      "  Parallel Raman:            97.0716                       943.7931                       292.0906            \n",
      "  Perp. Raman:               38.4408                       205.5058                       219.0680            \n",
      "  Depol. ratio:              0.3960                         0.2177                         0.7500             \n",
      "  Normal mode:       X         Y         Z     |    X         Y         Z     |    X         Y         Z     |\n",
      "  1 O              0.0554    0.0410   -0.0290  |  0.0327    0.0242   -0.0171  | -0.0158    0.0544    0.0467  |\n",
      "  2 H             -0.5217   -0.0427    0.4725  | -0.1273   -0.6466   -0.2544  | -0.1681   -0.6495   -0.2172  |\n",
      "  3 H             -0.3571   -0.6079   -0.0128  | -0.3919    0.2622    0.5260  |  0.4197   -0.2144   -0.5246  |\n",
      "                                                                                                                          \n",
      "                                                                                                                          \n"
     ]
    }
   ],
   "source": [
    "h2o_hessian_drv.vibrational_analysis(h2o)"
   ]
  },
  {
   "cell_type": "code",
   "execution_count": 7,
   "id": "2eca86b2-e55d-4996-8b93-7e5c552244e3",
   "metadata": {},
   "outputs": [
    {
     "name": "stdout",
     "output_type": "stream",
     "text": [
      "                                                   Vibrational Analysis                                                   \n",
      "                                                  ======================                                                  \n",
      "                                                                                                                          \n",
      "                 Harmonic frequencies (in cm**-1), force constants (in mdyne/A), reduced masses (in amu),                 \n",
      "                          IR intensities (in km/mol), Raman scattering activities (in A**4/amu),                          \n",
      "                      parallel and perpendicular Raman scattering activities, depolarization ratios,                      \n",
      "                                         and Cartesian normal mode displacements.                                         \n",
      "                                                                                                                          \n",
      "                                                                                                                          \n",
      "  Index:                        1                              2                              3               \n",
      "  Frequency:                 597.47                         1814.46                        1814.46            \n",
      "  Force constant:            0.2525                         2.1054                         2.1054             \n",
      "  Reduced mass:              1.2003                         1.0854                         1.0854             \n",
      "  IR intensity:             644.8631                        46.9030                        46.9030            \n",
      "  Raman activ.:              4.6612                         6.2677                         6.2677             \n",
      "  Parallel Raman:            58.6275                        45.6690                        45.6689            \n",
      "  Perp. Raman:               0.8086                         34.2517                        34.2517            \n",
      "  Depol. ratio:              0.0138                         0.7500                         0.7500             \n",
      "  Normal mode:       X         Y         Z     |    X         Y         Z     |    X         Y         Z     |\n",
      "  1 N             -0.0794   -0.0113   -0.0915  |  0.0198    0.0700   -0.0258  |  0.0550   -0.0317   -0.0438  |\n",
      "  2 H              0.4452    0.0243    0.3601  | -0.0918   -0.7562    0.2023  |  0.1715    0.1063    0.0293  |\n",
      "  3 H              0.3156   -0.0200    0.4779  |  0.1153   -0.1666   -0.2594  | -0.4433    0.5450    0.2466  |\n",
      "  4 H              0.3420    0.1531    0.4336  | -0.2984   -0.0497    0.4160  | -0.4930   -0.2103    0.3329  |\n",
      "                                                                                                                          \n",
      "  Index:                        4                              5                              6               \n",
      "  Frequency:                 3779.47                        3983.60                        3983.60            \n",
      "  Force constant:            8.5217                         10.2768                        10.2768            \n",
      "  Reduced mass:              1.0125                         1.0991                         1.0991             \n",
      "  IR intensity:              0.5571                         16.1430                        16.1430            \n",
      "  Raman activ.:             109.6648                        39.5443                        39.5443            \n",
      "  Parallel Raman:           1223.8452                      288.1353                       288.1353            \n",
      "  Perp. Raman:              174.5125                       216.1014                       216.1015            \n",
      "  Depol. ratio:              0.1426                         0.7500                         0.7500             \n",
      "  Normal mode:       X         Y         Z     |    X         Y         Z     |    X         Y         Z     |\n",
      "  1 N              0.0122    0.0017    0.0141  | -0.0509    0.0550    0.0373  |  0.0379    0.0627   -0.0406  |\n",
      "  2 H              0.3677   -0.1623   -0.4143  |  0.4439   -0.1987   -0.5497  | -0.2085    0.1183    0.2567  |\n",
      "  3 H             -0.3412   -0.4046    0.2305  |  0.0264    0.0599   -0.0140  | -0.5002   -0.5661    0.2947  |\n",
      "  4 H             -0.1966    0.5426   -0.0122  |  0.2372   -0.6258    0.0447  |  0.1819   -0.4229    0.0133  |\n",
      "                                                                                                                          \n",
      "                                                                                                                          \n"
     ]
    }
   ],
   "source": [
    "nh3_hessian_drv.vibrational_analysis(nh3)"
   ]
  },
  {
   "cell_type": "code",
   "execution_count": 8,
   "id": "595ce59f-446b-4ca3-ac05-fc5c5e5b7b2b",
   "metadata": {},
   "outputs": [
    {
     "name": "stdout",
     "output_type": "stream",
     "text": [
      "                                                   Vibrational Analysis                                                   \n",
      "                                                  ======================                                                  \n",
      "                                                                                                                          \n",
      "                 Harmonic frequencies (in cm**-1), force constants (in mdyne/A), reduced masses (in amu),                 \n",
      "                          IR intensities (in km/mol), Raman scattering activities (in A**4/amu),                          \n",
      "                      parallel and perpendicular Raman scattering activities, depolarization ratios,                      \n",
      "                                         and Cartesian normal mode displacements.                                         \n",
      "                                                                                                                          \n",
      "                                                                                                                          \n",
      "  Index:                        1                              2                              3               \n",
      "  Frequency:                 1516.76                        1516.77                        1516.77            \n",
      "  Force constant:            1.6021                         1.6021                         1.6021             \n",
      "  Reduced mass:              1.1820                         1.1820                         1.1820             \n",
      "  IR intensity:              21.4494                        21.4495                        21.4495            \n",
      "  Raman activ.:              2.9988                         2.9988                         2.9988             \n",
      "  Parallel Raman:            21.8501                        21.8503                        21.8502            \n",
      "  Perp. Raman:               16.3876                        16.3877                        16.3877            \n",
      "  Depol. ratio:              0.7500                         0.7500                         0.7500             \n",
      "  Normal mode:       X         Y         Z     |    X         Y         Z     |    X         Y         Z     |\n",
      "  1 C              0.0166   -0.0993   -0.0754  | -0.0396    0.0679   -0.0981  |  0.1182    0.0367   -0.0224  |\n",
      "  2 H             -0.3539    0.0815    0.1167  |  0.1488   -0.3867    0.4343  | -0.3548    0.1315    0.2986  |\n",
      "  3 H              0.2697    0.0614    0.2328  |  0.0101   -0.1116    0.5387  | -0.3903   -0.3880    0.0415  |\n",
      "  4 H              0.0144    0.5223    0.2816  |  0.4059   -0.2231    0.2865  | -0.1365    0.0308   -0.2637  |\n",
      "  5 H             -0.1276    0.5177    0.2672  | -0.0924   -0.0878   -0.0903  | -0.5266   -0.2114    0.1900  |\n",
      "                                                                                                                          \n",
      "  Index:                        4                              5                              6               \n",
      "  Frequency:                 1708.70                        1708.70                        3181.65            \n",
      "  Force constant:            1.7339                         1.7339                         6.0118             \n",
      "  Reduced mass:              1.0080                         1.0080                         1.0080             \n",
      "  IR intensity:              0.0000                         0.0000                         0.0000             \n",
      "  Raman activ.:              39.5165                        39.5165                       145.7008            \n",
      "  Parallel Raman:           287.9329                       287.9329                       1857.8604           \n",
      "  Perp. Raman:              215.9497                       215.9497                        0.0000             \n",
      "  Depol. ratio:              0.7500                         0.7500                         0.0000             \n",
      "  Normal mode:       X         Y         Z     |    X         Y         Z     |    X         Y         Z     |\n",
      "  1 C             -0.0000    0.0000   -0.0000  |  0.0000   -0.0000    0.0000  | -0.0000    0.0000    0.0000  |\n",
      "  2 H              0.3630   -0.0394   -0.3416  |  0.2322   -0.3383    0.2857  | -0.2537   -0.3660   -0.2273  |\n",
      "  3 H              0.2077    0.0330    0.4536  |  0.3302    0.3320   -0.1753  | -0.3128    0.3724    0.1161  |\n",
      "  4 H             -0.2231   -0.2265   -0.3859  | -0.2707    0.4117   -0.0851  |  0.3562    0.1710   -0.3063  |\n",
      "  5 H             -0.3475    0.2329    0.2739  | -0.2916   -0.4054   -0.0253  |  0.2103   -0.1773    0.4175  |\n",
      "                                                                                                                          \n",
      "  Index:                        7                              8                              9               \n",
      "  Frequency:                 3296.17                        3296.17                        3296.18            \n",
      "  Force constant:            7.0367                         7.0367                         7.0367             \n",
      "  Reduced mass:              1.0993                         1.0993                         1.0993             \n",
      "  IR intensity:              37.8000                        37.8000                        37.8000            \n",
      "  Raman activ.:              66.7338                        66.7338                        66.7338            \n",
      "  Parallel Raman:           486.2494                       486.2492                       486.2494            \n",
      "  Perp. Raman:              364.6871                       364.6869                       364.6870            \n",
      "  Depol. ratio:              0.7500                         0.7500                         0.7500             \n",
      "  Normal mode:       X         Y         Z     |    X         Y         Z     |    X         Y         Z     |\n",
      "  1 C             -0.0845   -0.0337    0.0046  | -0.0340    0.0844   -0.0050  |  0.0024    0.0064    0.0908  |\n",
      "  2 H              0.3008    0.4571    0.2905  | -0.2173   -0.2785   -0.1880  | -0.2322   -0.3343   -0.1848  |\n",
      "  3 H              0.1531   -0.2174   -0.0638  |  0.4955   -0.5783   -0.1885  |  0.1488   -0.1746   -0.0311  |\n",
      "  4 H              0.4944    0.2391   -0.4430  | -0.0626   -0.0036    0.0448  |  0.3591    0.1737   -0.2844  |\n",
      "  5 H              0.0584   -0.0768    0.1612  |  0.1891   -0.1448    0.3918  | -0.3044    0.2589   -0.5819  |\n",
      "                                                                                                                          \n",
      "                                                                                                                          \n"
     ]
    }
   ],
   "source": [
    "ch4_hessian_drv.vibrational_analysis(ch4)"
   ]
  },
  {
   "cell_type": "code",
   "execution_count": 9,
   "id": "01084e99-5840-44d0-b9d7-9f83cc38142f",
   "metadata": {},
   "outputs": [],
   "source": [
    "def add_broadening(list_ex_energy, list_osci_strength, line_profile='Lorentzian', line_param=10, step=10):\n",
    "        x_min = np.amin(list_ex_energy) - 50\n",
    "        x_max = np.amax(list_ex_energy) + 50\n",
    "        x = np.arange(x_min, x_max, step)\n",
    "        y = np.zeros((len(x)))\n",
    "        #print(x)\n",
    "        #print(y)\n",
    "\n",
    "        # go through the frames and calculate the spectrum for each frame\n",
    "        for xp in range(len(x)):\n",
    "            for e, f in zip(list_ex_energy, list_osci_strength):\n",
    "                if line_profile == 'Gaussian':\n",
    "                    y[xp] += f * np.exp(-(\n",
    "                        (e - x[xp]) / line_param)**2)\n",
    "                elif line_profile == 'Lorentzian':\n",
    "                    y[xp] += 0.5 * line_param * f / (np.pi * (\n",
    "                        (x[xp] - e)**2 + 0.25 * line_param**2))\n",
    "        return x, y\n"
   ]
  },
  {
   "cell_type": "code",
   "execution_count": 10,
   "id": "831b3511-02f4-4c6e-804a-3cfc9385e20d",
   "metadata": {},
   "outputs": [
    {
     "data": {
      "image/png": "[encoded data removed]",
      "text/plain": [
       "<Figure size 504x288 with 1 Axes>"
      ]
     },
     "metadata": {
      "needs_background": "light"
     },
     "output_type": "display_data"
    }
   ],
   "source": [
    "# plot the Raman spectra\n",
    "plt.figure(figsize=(7,4))\n",
    "\n",
    "h2o_x,h2o_y = h2o_hessian_drv.frequencies, h2o_hessian_drv.raman_intensities\n",
    "nh3_x,nh3_y = nh3_hessian_drv.frequencies, nh3_hessian_drv.raman_intensities\n",
    "ch4_x,ch4_y = ch4_hessian_drv.frequencies, ch4_hessian_drv.raman_intensities\n",
    "\n",
    "h2o_xl, h2o_yl = add_broadening(h2o_x, h2o_y, line_profile='Lorentzian', line_param=10, step=10)\n",
    "nh3_xl, nh3_yl = add_broadening(nh3_x, nh3_y, line_profile='Lorentzian', line_param=10, step=10)\n",
    "ch4_xl, ch4_yl = add_broadening(ch4_x, ch4_y, line_profile='Lorentzian', line_param=10, step=10)\n",
    "\n",
    "plt.plot(h2o_xl, h2o_yl, label='H2O')\n",
    "plt.plot(nh3_xl, nh3_yl, label='NH3')\n",
    "plt.plot(ch4_xl, ch4_yl, label='CH4')\n",
    "\n",
    "plt.xlabel('Wavenumber [cm**-1]')\n",
    "plt.ylabel('Raman activity [A**4/amu]')\n",
    "plt.title(\"Calculated Raman sepctra of H2O, NH3, CH4\")\n",
    "plt.legend()\n",
    "plt.tight_layout(); plt.show()"
   ]
  },
  {
   "cell_type": "markdown",
   "id": "6eac9fad-a7ae-4247-b665-22ef5b212d04",
   "metadata": {},
   "source": [
    "Let's compare the H-stretching modes:"
   ]
  },
  {
   "cell_type": "code",
   "execution_count": 11,
   "id": "84cff38c-2a29-493c-814b-2170a0667cd9",
   "metadata": {},
   "outputs": [],
   "source": [
    "# To animate the normal mode we will need both the geometry and the displacements \n",
    "def get_normal_mode(molecule, normal_mode):\n",
    "    elements = molecule.get_labels()\n",
    "    coords = molecule.get_coordinates() * bohr_in_angstroms() # To transform from au to A\n",
    "    natm = molecule.number_of_atoms()\n",
    "    vib_xyz = \"%d\\n\\n\" % natm\n",
    "    nm = normal_mode.reshape(natm, 3)\n",
    "    for i in range(natm):\n",
    "        # add coordinates:\n",
    "        vib_xyz += elements[i] + \" %15.7f %15.7f %15.7f \" % (coords[i,0], coords[i,1], coords[i,2])\n",
    "        # add displacements:\n",
    "        vib_xyz += \"%15.7f %15.7f %15.7f\\n\" % (nm[i,0], nm[i,1], nm[i,2])\n",
    "    return vib_xyz"
   ]
  },
  {
   "cell_type": "code",
   "execution_count": 12,
   "id": "6d4d0fbf-ce1e-48eb-a96d-b3cfbbfd8feb",
   "metadata": {},
   "outputs": [],
   "source": [
    "h2o_h1 = get_normal_mode(h2o, h2o_hessian_drv.normal_modes[-2])\n",
    "h2o_h2 = get_normal_mode(h2o, h2o_hessian_drv.normal_modes[-1])\n",
    "\n",
    "nh3_h1 = get_normal_mode(nh3, nh3_hessian_drv.normal_modes[-3])\n",
    "nh3_h2 = get_normal_mode(nh3, nh3_hessian_drv.normal_modes[-2])\n",
    "nh3_h3 = get_normal_mode(nh3, nh3_hessian_drv.normal_modes[-1])\n",
    "\n",
    "ch4_h1 = get_normal_mode(ch4, ch4_hessian_drv.normal_modes[-4])\n",
    "ch4_h2 = get_normal_mode(ch4, ch4_hessian_drv.normal_modes[-3])\n",
    "ch4_h3 = get_normal_mode(ch4, ch4_hessian_drv.normal_modes[-2])\n",
    "ch4_h4 = get_normal_mode(ch4, ch4_hessian_drv.normal_modes[-1])"
   ]
  },
  {
   "cell_type": "code",
   "execution_count": 13,
   "id": "7f763995-8941-4d56-bf27-40c77742e4d2",
   "metadata": {},
   "outputs": [
    {
     "name": "stdout",
     "output_type": "stream",
     "text": [
      "These are the two H stretching modes of H2O.\n"
     ]
    },
    {
     "data": {
      "application/3dmoljs_load.v0": "<div id=\"3dmolviewer_16512367145053604\"  style=\"position: relative; width: 300px; height: 200px\">\n        <p id=\"3dmolwarning_16512367145053604\" style=\"background-color:#ffcccc;color:black\">You appear to be running in JupyterLab (or JavaScript failed to load for some other reason).  You need to install the 3dmol extension: <br>\n        <tt>jupyter labextension install jupyterlab_3dmol</tt></p>\n        </div>\n<script>\n\nvar loadScriptAsync = function(uri){\n  return new Promise((resolve, reject) => {\n    var tag = document.createElement('script');\n    tag.src = uri;\n    tag.async = true;\n    tag.onload = () => {\n      resolve();\n    };\n  var firstScriptTag = document.getElementsByTagName('script')[0];\n  firstScriptTag.parentNode.insertBefore(tag, firstScriptTag);\n});\n};\n\nif(typeof $3Dmolpromise === 'undefined') {\n$3Dmolpromise = null;\n  $3Dmolpromise = loadScriptAsync('https://3dmol.org/build/3Dmol.js');\n}\n\nvar viewer_16512367145053604 = null;\nvar warn = document.getElementById(\"3dmolwarning_16512367145053604\");\nif(warn) {\n    warn.parentNode.removeChild(warn);\n}\n$3Dmolpromise.then(function() {\nvar viewergrid_16512367145053604 = null;\nviewergrid_16512367145053604 = $3Dmol.createViewerGrid($(\"#3dmolviewer_16512367145053604\"),{rows: 1, cols: 2, control_all: true},{backgroundColor:\"white\"});\nviewer_16512367145053604 = viewergrid_16512367145053604[0][0];\nviewergrid_16512367145053604[0][0].zoomTo();viewergrid_16512367145053604[0][1].zoomTo();\tviewergrid_16512367145053604[0][0].addModel(\"3\\n\\nO       0.0308991       0.0228758      -0.0161623       0.0327103       0.0242162      -0.0171100\\nH       0.2572697       0.8975361       0.2762831      -0.1272761      -0.6466109      -0.2543961\\nH       0.5960312      -0.2658119      -0.7226208      -0.3919291       0.2622315       0.5259799\\n\",\"xyz\",{\"vibrate\": {\"frames\": 10, \"amplitude\": 0.75}});\n\tviewergrid_16512367145053604[0][1].addModel(\"3\\n\\nO       0.0308991       0.0228758      -0.0161623      -0.0158486       0.0544266       0.0467331\\nH       0.2572697       0.8975361       0.2762831      -0.1681033      -0.6495250      -0.2171709\\nH       0.5960312      -0.2658119      -0.7226208       0.4196659      -0.2143786      -0.5246144\\n\",\"xyz\",{\"vibrate\": {\"frames\": 10, \"amplitude\": 0.75}});\n\tviewergrid_16512367145053604[0][0].setStyle({\"stick\": {}});\n\tviewergrid_16512367145053604[0][1].setStyle({\"stick\": {}});\n\tviewergrid_16512367145053604[0][0].animate({\"loop\": \"backAndForth\"});\n\tviewergrid_16512367145053604[0][1].animate({\"loop\": \"backAndForth\"});\n\tviewergrid_16512367145053604[0][0].rotate(120,\"x\");\n\tviewergrid_16512367145053604[0][1].rotate(120,\"x\");\n\tviewergrid_16512367145053604[0][0].zoomTo();\n\tviewergrid_16512367145053604[0][1].zoomTo();\nviewergrid_16512367145053604[0][1].render();\nviewergrid_16512367145053604[0][0].render();\n});\n</script>",
      "text/html": [
       "<div id=\"3dmolviewer_16512367145053604\"  style=\"position: relative; width: 300px; height: 200px\">\n",
       "        <p id=\"3dmolwarning_16512367145053604\" style=\"background-color:#ffcccc;color:black\">You appear to be running in JupyterLab (or JavaScript failed to load for some other reason).  You need to install the 3dmol extension: <br>\n",
       "        <tt>jupyter labextension install jupyterlab_3dmol</tt></p>\n",
       "        </div>\n",
       "<script>\n",
       "\n",
       "var loadScriptAsync = function(uri){\n",
       "  return new Promise((resolve, reject) => {\n",
       "    var tag = document.createElement('script');\n",
       "    tag.src = uri;\n",
       "    tag.async = true;\n",
       "    tag.onload = () => {\n",
       "      resolve();\n",
       "    };\n",
       "  var firstScriptTag = document.getElementsByTagName('script')[0];\n",
       "  firstScriptTag.parentNode.insertBefore(tag, firstScriptTag);\n",
       "});\n",
       "};\n",
       "\n",
       "if(typeof $3Dmolpromise === 'undefined') {\n",
       "$3Dmolpromise = null;\n",
       "  $3Dmolpromise = loadScriptAsync('https://3dmol.org/build/3Dmol.js');\n",
       "}\n",
       "\n",
       "var viewer_16512367145053604 = null;\n",
       "var warn = document.getElementById(\"3dmolwarning_16512367145053604\");\n",
       "if(warn) {\n",
       "    warn.parentNode.removeChild(warn);\n",
       "}\n",
       "$3Dmolpromise.then(function() {\n",
       "var viewergrid_16512367145053604 = null;\n",
       "viewergrid_16512367145053604 = $3Dmol.createViewerGrid($(\"#3dmolviewer_16512367145053604\"),{rows: 1, cols: 2, control_all: true},{backgroundColor:\"white\"});\n",
       "viewer_16512367145053604 = viewergrid_16512367145053604[0][0];\n",
       "viewergrid_16512367145053604[0][0].zoomTo();viewergrid_16512367145053604[0][1].zoomTo();\tviewergrid_16512367145053604[0][0].addModel(\"3\\n\\nO       0.0308991       0.0228758      -0.0161623       0.0327103       0.0242162      -0.0171100\\nH       0.2572697       0.8975361       0.2762831      -0.1272761      -0.6466109      -0.2543961\\nH       0.5960312      -0.2658119      -0.7226208      -0.3919291       0.2622315       0.5259799\\n\",\"xyz\",{\"vibrate\": {\"frames\": 10, \"amplitude\": 0.75}});\n",
       "\tviewergrid_16512367145053604[0][1].addModel(\"3\\n\\nO       0.0308991       0.0228758      -0.0161623      -0.0158486       0.0544266       0.0467331\\nH       0.2572697       0.8975361       0.2762831      -0.1681033      -0.6495250      -0.2171709\\nH       0.5960312      -0.2658119      -0.7226208       0.4196659      -0.2143786      -0.5246144\\n\",\"xyz\",{\"vibrate\": {\"frames\": 10, \"amplitude\": 0.75}});\n",
       "\tviewergrid_16512367145053604[0][0].setStyle({\"stick\": {}});\n",
       "\tviewergrid_16512367145053604[0][1].setStyle({\"stick\": {}});\n",
       "\tviewergrid_16512367145053604[0][0].animate({\"loop\": \"backAndForth\"});\n",
       "\tviewergrid_16512367145053604[0][1].animate({\"loop\": \"backAndForth\"});\n",
       "\tviewergrid_16512367145053604[0][0].rotate(120,\"x\");\n",
       "\tviewergrid_16512367145053604[0][1].rotate(120,\"x\");\n",
       "\tviewergrid_16512367145053604[0][0].zoomTo();\n",
       "\tviewergrid_16512367145053604[0][1].zoomTo();\n",
       "viewergrid_16512367145053604[0][1].render();\n",
       "viewergrid_16512367145053604[0][0].render();\n",
       "});\n",
       "</script>"
      ]
     },
     "metadata": {},
     "output_type": "display_data"
    }
   ],
   "source": [
    "print(\"These are the two H stretching modes of H2O.\")\n",
    "view = p3d.view(viewergrid=(1,2), width=300, height=200, linked=True)\n",
    "view.addModel(h2o_h1, \"xyz\", {'vibrate': {'frames':10,'amplitude':0.75}}, viewer=(0,0))\n",
    "view.addModel(h2o_h2, \"xyz\", {'vibrate': {'frames':10,'amplitude':0.75}}, viewer=(0,1))\n",
    "view.setStyle({'stick':{}})\n",
    "view.animate({'loop': 'backAndForth'})\n",
    "view.rotate(120, \"x\")\n",
    "view.zoomTo()\n",
    "view.show()"
   ]
  },
  {
   "cell_type": "code",
   "execution_count": 14,
   "id": "02a8093a-96cf-4e68-98a1-4e08b06accb8",
   "metadata": {},
   "outputs": [
    {
     "name": "stdout",
     "output_type": "stream",
     "text": [
      "These are the three H stretching modes of NH3.\n"
     ]
    },
    {
     "data": {
      "application/3dmoljs_load.v0": "<div id=\"3dmolviewer_16512367148505309\"  style=\"position: relative; width: 500px; height: 200px\">\n        <p id=\"3dmolwarning_16512367148505309\" style=\"background-color:#ffcccc;color:black\">You appear to be running in JupyterLab (or JavaScript failed to load for some other reason).  You need to install the 3dmol extension: <br>\n        <tt>jupyter labextension install jupyterlab_3dmol</tt></p>\n        </div>\n<script>\n\nvar loadScriptAsync = function(uri){\n  return new Promise((resolve, reject) => {\n    var tag = document.createElement('script');\n    tag.src = uri;\n    tag.async = true;\n    tag.onload = () => {\n      resolve();\n    };\n  var firstScriptTag = document.getElementsByTagName('script')[0];\n  firstScriptTag.parentNode.insertBefore(tag, firstScriptTag);\n});\n};\n\nif(typeof $3Dmolpromise === 'undefined') {\n$3Dmolpromise = null;\n  $3Dmolpromise = loadScriptAsync('https://3dmol.org/build/3Dmol.js');\n}\n\nvar viewer_16512367148505309 = null;\nvar warn = document.getElementById(\"3dmolwarning_16512367148505309\");\nif(warn) {\n    warn.parentNode.removeChild(warn);\n}\n$3Dmolpromise.then(function() {\nvar viewergrid_16512367148505309 = null;\nviewergrid_16512367148505309 = $3Dmol.createViewerGrid($(\"#3dmolviewer_16512367148505309\"),{rows: 1, cols: 3, control_all: true},{backgroundColor:\"white\"});\nviewer_16512367148505309 = viewergrid_16512367148505309[0][0];\nviewergrid_16512367148505309[0][0].zoomTo();viewergrid_16512367148505309[0][1].zoomTo();viewergrid_16512367148505309[0][2].zoomTo();\tviewergrid_16512367148505309[0][0].addModel(\"4\\n\\nN       0.0961758       0.0137254       0.1108604       0.0122342       0.0017460       0.0141056\\nH      -0.4973546       0.2946055       0.8535526       0.3677169      -0.1622810      -0.4143200\\nH       0.7093592       0.7070993      -0.2441077      -0.3411581      -0.4045994       0.2304918\\nH       0.4632196      -0.9053302       0.1689946      -0.1965662       0.5426175      -0.0121831\\n\",\"xyz\",{\"vibrate\": {\"frames\": 10, \"amplitude\": 0.75}});\n\tviewergrid_16512367148505309[0][1].addModel(\"4\\n\\nN       0.0961758       0.0137254       0.1108604      -0.0509117       0.0550217       0.0373445\\nH      -0.4973546       0.2946055       0.8535526       0.4438629      -0.1986746      -0.5496670\\nH       0.7093592       0.7070993      -0.2441077       0.0263853       0.0598824      -0.0139913\\nH       0.4632196      -0.9053302       0.1689946       0.2372232      -0.6257906       0.0447182\\n\",\"xyz\",{\"vibrate\": {\"frames\": 10, \"amplitude\": 0.75}});\n\tviewergrid_16512367148505309[0][2].addModel(\"4\\n\\nN       0.0961758       0.0137254       0.1108604       0.0379080       0.0626562      -0.0406349\\nH      -0.4973546       0.2946055       0.8535526      -0.2085414       0.1183238       0.2566815\\nH       0.7093592       0.7070993      -0.2441077      -0.5001609      -0.5661232       0.2947145\\nH       0.4632196      -0.9053302       0.1689946       0.1819320      -0.4228738       0.0132676\\n\",\"xyz\",{\"vibrate\": {\"frames\": 10, \"amplitude\": 0.75}});\n\tviewergrid_16512367148505309[0][0].setStyle({\"stick\": {}});\n\tviewergrid_16512367148505309[0][1].setStyle({\"stick\": {}});\n\tviewergrid_16512367148505309[0][2].setStyle({\"stick\": {}});\n\tviewergrid_16512367148505309[0][0].animate({\"loop\": \"backAndForth\"});\n\tviewergrid_16512367148505309[0][1].animate({\"loop\": \"backAndForth\"});\n\tviewergrid_16512367148505309[0][2].animate({\"loop\": \"backAndForth\"});\n\tviewergrid_16512367148505309[0][0].rotate(90,\"x\");\n\tviewergrid_16512367148505309[0][1].rotate(90,\"x\");\n\tviewergrid_16512367148505309[0][2].rotate(90,\"x\");\n\tviewergrid_16512367148505309[0][0].zoomTo();\n\tviewergrid_16512367148505309[0][1].zoomTo();\n\tviewergrid_16512367148505309[0][2].zoomTo();\nviewergrid_16512367148505309[0][2].render();\nviewergrid_16512367148505309[0][1].render();\nviewergrid_16512367148505309[0][0].render();\n});\n</script>",
      "text/html": [
       "<div id=\"3dmolviewer_16512367148505309\"  style=\"position: relative; width: 500px; height: 200px\">\n",
       "        <p id=\"3dmolwarning_16512367148505309\" style=\"background-color:#ffcccc;color:black\">You appear to be running in JupyterLab (or JavaScript failed to load for some other reason).  You need to install the 3dmol extension: <br>\n",
       "        <tt>jupyter labextension install jupyterlab_3dmol</tt></p>\n",
       "        </div>\n",
       "<script>\n",
       "\n",
       "var loadScriptAsync = function(uri){\n",
       "  return new Promise((resolve, reject) => {\n",
       "    var tag = document.createElement('script');\n",
       "    tag.src = uri;\n",
       "    tag.async = true;\n",
       "    tag.onload = () => {\n",
       "      resolve();\n",
       "    };\n",
       "  var firstScriptTag = document.getElementsByTagName('script')[0];\n",
       "  firstScriptTag.parentNode.insertBefore(tag, firstScriptTag);\n",
       "});\n",
       "};\n",
       "\n",
       "if(typeof $3Dmolpromise === 'undefined') {\n",
       "$3Dmolpromise = null;\n",
       "  $3Dmolpromise = loadScriptAsync('https://3dmol.org/build/3Dmol.js');\n",
       "}\n",
       "\n",
       "var viewer_16512367148505309 = null;\n",
       "var warn = document.getElementById(\"3dmolwarning_16512367148505309\");\n",
       "if(warn) {\n",
       "    warn.parentNode.removeChild(warn);\n",
       "}\n",
       "$3Dmolpromise.then(function() {\n",
       "var viewergrid_16512367148505309 = null;\n",
       "viewergrid_16512367148505309 = $3Dmol.createViewerGrid($(\"#3dmolviewer_16512367148505309\"),{rows: 1, cols: 3, control_all: true},{backgroundColor:\"white\"});\n",
       "viewer_16512367148505309 = viewergrid_16512367148505309[0][0];\n",
       "viewergrid_16512367148505309[0][0].zoomTo();viewergrid_16512367148505309[0][1].zoomTo();viewergrid_16512367148505309[0][2].zoomTo();\tviewergrid_16512367148505309[0][0].addModel(\"4\\n\\nN       0.0961758       0.0137254       0.1108604       0.0122342       0.0017460       0.0141056\\nH      -0.4973546       0.2946055       0.8535526       0.3677169      -0.1622810      -0.4143200\\nH       0.7093592       0.7070993      -0.2441077      -0.3411581      -0.4045994       0.2304918\\nH       0.4632196      -0.9053302       0.1689946      -0.1965662       0.5426175      -0.0121831\\n\",\"xyz\",{\"vibrate\": {\"frames\": 10, \"amplitude\": 0.75}});\n",
       "\tviewergrid_16512367148505309[0][1].addModel(\"4\\n\\nN       0.0961758       0.0137254       0.1108604      -0.0509117       0.0550217       0.0373445\\nH      -0.4973546       0.2946055       0.8535526       0.4438629      -0.1986746      -0.5496670\\nH       0.7093592       0.7070993      -0.2441077       0.0263853       0.0598824      -0.0139913\\nH       0.4632196      -0.9053302       0.1689946       0.2372232      -0.6257906       0.0447182\\n\",\"xyz\",{\"vibrate\": {\"frames\": 10, \"amplitude\": 0.75}});\n",
       "\tviewergrid_16512367148505309[0][2].addModel(\"4\\n\\nN       0.0961758       0.0137254       0.1108604       0.0379080       0.0626562      -0.0406349\\nH      -0.4973546       0.2946055       0.8535526      -0.2085414       0.1183238       0.2566815\\nH       0.7093592       0.7070993      -0.2441077      -0.5001609      -0.5661232       0.2947145\\nH       0.4632196      -0.9053302       0.1689946       0.1819320      -0.4228738       0.0132676\\n\",\"xyz\",{\"vibrate\": {\"frames\": 10, \"amplitude\": 0.75}});\n",
       "\tviewergrid_16512367148505309[0][0].setStyle({\"stick\": {}});\n",
       "\tviewergrid_16512367148505309[0][1].setStyle({\"stick\": {}});\n",
       "\tviewergrid_16512367148505309[0][2].setStyle({\"stick\": {}});\n",
       "\tviewergrid_16512367148505309[0][0].animate({\"loop\": \"backAndForth\"});\n",
       "\tviewergrid_16512367148505309[0][1].animate({\"loop\": \"backAndForth\"});\n",
       "\tviewergrid_16512367148505309[0][2].animate({\"loop\": \"backAndForth\"});\n",
       "\tviewergrid_16512367148505309[0][0].rotate(90,\"x\");\n",
       "\tviewergrid_16512367148505309[0][1].rotate(90,\"x\");\n",
       "\tviewergrid_16512367148505309[0][2].rotate(90,\"x\");\n",
       "\tviewergrid_16512367148505309[0][0].zoomTo();\n",
       "\tviewergrid_16512367148505309[0][1].zoomTo();\n",
       "\tviewergrid_16512367148505309[0][2].zoomTo();\n",
       "viewergrid_16512367148505309[0][2].render();\n",
       "viewergrid_16512367148505309[0][1].render();\n",
       "viewergrid_16512367148505309[0][0].render();\n",
       "});\n",
       "</script>"
      ]
     },
     "metadata": {},
     "output_type": "display_data"
    }
   ],
   "source": [
    "print(\"These are the three H stretching modes of NH3.\")\n",
    "view = p3d.view(viewergrid=(1,3), width=500, height=200, linked=True)\n",
    "view.addModel(nh3_h1, \"xyz\", {'vibrate': {'frames':10,'amplitude':0.75}}, viewer=(0,0))\n",
    "view.addModel(nh3_h2, \"xyz\", {'vibrate': {'frames':10,'amplitude':0.75}}, viewer=(0,1))\n",
    "view.addModel(nh3_h3, \"xyz\", {'vibrate': {'frames':10,'amplitude':0.75}}, viewer=(0,2))\n",
    "view.setStyle({'stick':{}})\n",
    "view.animate({'loop': 'backAndForth'})\n",
    "view.rotate(90, \"x\")\n",
    "view.zoomTo()\n",
    "view.show()"
   ]
  },
  {
   "cell_type": "code",
   "execution_count": 15,
   "id": "1cd0822e-692d-4323-b1ca-81b6cf6af4ef",
   "metadata": {},
   "outputs": [
    {
     "name": "stdout",
     "output_type": "stream",
     "text": [
      "These are the four H stretching modes of CH4.\n"
     ]
    },
    {
     "data": {
      "application/3dmoljs_load.v0": "<div id=\"3dmolviewer_16512367161986818\"  style=\"position: relative; width: 500px; height: 200px\">\n        <p id=\"3dmolwarning_16512367161986818\" style=\"background-color:#ffcccc;color:black\">You appear to be running in JupyterLab (or JavaScript failed to load for some other reason).  You need to install the 3dmol extension: <br>\n        <tt>jupyter labextension install jupyterlab_3dmol</tt></p>\n        </div>\n<script>\n\nvar loadScriptAsync = function(uri){\n  return new Promise((resolve, reject) => {\n    var tag = document.createElement('script');\n    tag.src = uri;\n    tag.async = true;\n    tag.onload = () => {\n      resolve();\n    };\n  var firstScriptTag = document.getElementsByTagName('script')[0];\n  firstScriptTag.parentNode.insertBefore(tag, firstScriptTag);\n});\n};\n\nif(typeof $3Dmolpromise === 'undefined') {\n$3Dmolpromise = null;\n  $3Dmolpromise = loadScriptAsync('https://3dmol.org/build/3Dmol.js');\n}\n\nvar viewer_16512367161986818 = null;\nvar warn = document.getElementById(\"3dmolwarning_16512367161986818\");\nif(warn) {\n    warn.parentNode.removeChild(warn);\n}\n$3Dmolpromise.then(function() {\nvar viewergrid_16512367161986818 = null;\nviewergrid_16512367161986818 = $3Dmol.createViewerGrid($(\"#3dmolviewer_16512367161986818\"),{rows: 1, cols: 4, control_all: true},{backgroundColor:\"white\"});\nviewer_16512367161986818 = viewergrid_16512367161986818[0][0];\nviewergrid_16512367161986818[0][0].zoomTo();viewergrid_16512367161986818[0][1].zoomTo();viewergrid_16512367161986818[0][2].zoomTo();viewergrid_16512367161986818[0][3].zoomTo();\tviewergrid_16512367161986818[0][0].addModel(\"5\\n\\nC      -0.0000199       0.0000199       0.0000000      -0.0000000       0.0000002       0.0000004\\nH       0.5489997       0.7922034       0.4919110      -0.2536829      -0.3660408      -0.2272948\\nH       0.6769972      -0.8058792      -0.2512524      -0.3128223       0.3723738       0.1160940\\nH      -0.7710148      -0.3700500       0.6629997       0.3562490       0.1709959      -0.3063476\\nH      -0.4550622       0.3838059      -0.9036583       0.2102564      -0.1773315       0.4175432\\n\",\"xyz\",{\"vibrate\": {\"frames\": 10, \"amplitude\": 0.75}});\n\tviewergrid_16512367161986818[0][1].addModel(\"5\\n\\nC      -0.0000199       0.0000199       0.0000000      -0.0844783      -0.0337336       0.0046213\\nH       0.5489997       0.7922034       0.4919110       0.3007604       0.4570998       0.2905472\\nH       0.6769972      -0.8058792      -0.2512524       0.1530663      -0.2174398      -0.0638188\\nH      -0.7710148      -0.3700500       0.6629997       0.4943871       0.2390892      -0.4429846\\nH      -0.4550622       0.3838059      -0.9036583       0.0583935      -0.0767940       0.1611910\\n\",\"xyz\",{\"vibrate\": {\"frames\": 10, \"amplitude\": 0.75}});\n\tviewergrid_16512367161986818[0][2].addModel(\"5\\n\\nC      -0.0000199       0.0000199       0.0000000      -0.0339631       0.0843619      -0.0050448\\nH       0.5489997       0.7922034       0.4919110      -0.2172737      -0.2785133      -0.1880126\\nH       0.6769972      -0.8058792      -0.2512524       0.4954641      -0.5782571      -0.1885051\\nH      -0.7710148      -0.3700500       0.6629997      -0.0625588      -0.0036161       0.0448099\\nH      -0.4550622       0.3838059      -0.9036583       0.1890586      -0.1448342       0.3918201\\n\",\"xyz\",{\"vibrate\": {\"frames\": 10, \"amplitude\": 0.75}});\n\tviewergrid_16512367161986818[0][3].addModel(\"5\\n\\nC      -0.0000199       0.0000199       0.0000000       0.0024119       0.0064022       0.0908246\\nH       0.5489997       0.7922034       0.4919110      -0.2322175      -0.3343009      -0.1847998\\nH       0.6769972      -0.8058792      -0.2512524       0.1487566      -0.1746417      -0.0311423\\nH      -0.7710148      -0.3700500       0.6629997       0.3590904       0.1737363      -0.2844181\\nH      -0.4550622       0.3838059      -0.9036583      -0.3043687       0.2589204      -0.5818668\\n\",\"xyz\",{\"vibrate\": {\"frames\": 10, \"amplitude\": 0.75}});\n\tviewergrid_16512367161986818[0][0].setStyle({\"stick\": {}});\n\tviewergrid_16512367161986818[0][1].setStyle({\"stick\": {}});\n\tviewergrid_16512367161986818[0][2].setStyle({\"stick\": {}});\n\tviewergrid_16512367161986818[0][3].setStyle({\"stick\": {}});\n\tviewergrid_16512367161986818[0][0].animate({\"loop\": \"backAndForth\"});\n\tviewergrid_16512367161986818[0][1].animate({\"loop\": \"backAndForth\"});\n\tviewergrid_16512367161986818[0][2].animate({\"loop\": \"backAndForth\"});\n\tviewergrid_16512367161986818[0][3].animate({\"loop\": \"backAndForth\"});\n\tviewergrid_16512367161986818[0][0].zoomTo();\n\tviewergrid_16512367161986818[0][1].zoomTo();\n\tviewergrid_16512367161986818[0][2].zoomTo();\n\tviewergrid_16512367161986818[0][3].zoomTo();\nviewergrid_16512367161986818[0][3].render();\nviewergrid_16512367161986818[0][2].render();\nviewergrid_16512367161986818[0][1].render();\nviewergrid_16512367161986818[0][0].render();\n});\n</script>",
      "text/html": [
       "<div id=\"3dmolviewer_16512367161986818\"  style=\"position: relative; width: 500px; height: 200px\">\n",
       "        <p id=\"3dmolwarning_16512367161986818\" style=\"background-color:#ffcccc;color:black\">You appear to be running in JupyterLab (or JavaScript failed to load for some other reason).  You need to install the 3dmol extension: <br>\n",
       "        <tt>jupyter labextension install jupyterlab_3dmol</tt></p>\n",
       "        </div>\n",
       "<script>\n",
       "\n",
       "var loadScriptAsync = function(uri){\n",
       "  return new Promise((resolve, reject) => {\n",
       "    var tag = document.createElement('script');\n",
       "    tag.src = uri;\n",
       "    tag.async = true;\n",
       "    tag.onload = () => {\n",
       "      resolve();\n",
       "    };\n",
       "  var firstScriptTag = document.getElementsByTagName('script')[0];\n",
       "  firstScriptTag.parentNode.insertBefore(tag, firstScriptTag);\n",
       "});\n",
       "};\n",
       "\n",
       "if(typeof $3Dmolpromise === 'undefined') {\n",
       "$3Dmolpromise = null;\n",
       "  $3Dmolpromise = loadScriptAsync('https://3dmol.org/build/3Dmol.js');\n",
       "}\n",
       "\n",
       "var viewer_16512367161986818 = null;\n",
       "var warn = document.getElementById(\"3dmolwarning_16512367161986818\");\n",
       "if(warn) {\n",
       "    warn.parentNode.removeChild(warn);\n",
       "}\n",
       "$3Dmolpromise.then(function() {\n",
       "var viewergrid_16512367161986818 = null;\n",
       "viewergrid_16512367161986818 = $3Dmol.createViewerGrid($(\"#3dmolviewer_16512367161986818\"),{rows: 1, cols: 4, control_all: true},{backgroundColor:\"white\"});\n",
       "viewer_16512367161986818 = viewergrid_16512367161986818[0][0];\n",
       "viewergrid_16512367161986818[0][0].zoomTo();viewergrid_16512367161986818[0][1].zoomTo();viewergrid_16512367161986818[0][2].zoomTo();viewergrid_16512367161986818[0][3].zoomTo();\tviewergrid_16512367161986818[0][0].addModel(\"5\\n\\nC      -0.0000199       0.0000199       0.0000000      -0.0000000       0.0000002       0.0000004\\nH       0.5489997       0.7922034       0.4919110      -0.2536829      -0.3660408      -0.2272948\\nH       0.6769972      -0.8058792      -0.2512524      -0.3128223       0.3723738       0.1160940\\nH      -0.7710148      -0.3700500       0.6629997       0.3562490       0.1709959      -0.3063476\\nH      -0.4550622       0.3838059      -0.9036583       0.2102564      -0.1773315       0.4175432\\n\",\"xyz\",{\"vibrate\": {\"frames\": 10, \"amplitude\": 0.75}});\n",
       "\tviewergrid_16512367161986818[0][1].addModel(\"5\\n\\nC      -0.0000199       0.0000199       0.0000000      -0.0844783      -0.0337336       0.0046213\\nH       0.5489997       0.7922034       0.4919110       0.3007604       0.4570998       0.2905472\\nH       0.6769972      -0.8058792      -0.2512524       0.1530663      -0.2174398      -0.0638188\\nH      -0.7710148      -0.3700500       0.6629997       0.4943871       0.2390892      -0.4429846\\nH      -0.4550622       0.3838059      -0.9036583       0.0583935      -0.0767940       0.1611910\\n\",\"xyz\",{\"vibrate\": {\"frames\": 10, \"amplitude\": 0.75}});\n",
       "\tviewergrid_16512367161986818[0][2].addModel(\"5\\n\\nC      -0.0000199       0.0000199       0.0000000      -0.0339631       0.0843619      -0.0050448\\nH       0.5489997       0.7922034       0.4919110      -0.2172737      -0.2785133      -0.1880126\\nH       0.6769972      -0.8058792      -0.2512524       0.4954641      -0.5782571      -0.1885051\\nH      -0.7710148      -0.3700500       0.6629997      -0.0625588      -0.0036161       0.0448099\\nH      -0.4550622       0.3838059      -0.9036583       0.1890586      -0.1448342       0.3918201\\n\",\"xyz\",{\"vibrate\": {\"frames\": 10, \"amplitude\": 0.75}});\n",
       "\tviewergrid_16512367161986818[0][3].addModel(\"5\\n\\nC      -0.0000199       0.0000199       0.0000000       0.0024119       0.0064022       0.0908246\\nH       0.5489997       0.7922034       0.4919110      -0.2322175      -0.3343009      -0.1847998\\nH       0.6769972      -0.8058792      -0.2512524       0.1487566      -0.1746417      -0.0311423\\nH      -0.7710148      -0.3700500       0.6629997       0.3590904       0.1737363      -0.2844181\\nH      -0.4550622       0.3838059      -0.9036583      -0.3043687       0.2589204      -0.5818668\\n\",\"xyz\",{\"vibrate\": {\"frames\": 10, \"amplitude\": 0.75}});\n",
       "\tviewergrid_16512367161986818[0][0].setStyle({\"stick\": {}});\n",
       "\tviewergrid_16512367161986818[0][1].setStyle({\"stick\": {}});\n",
       "\tviewergrid_16512367161986818[0][2].setStyle({\"stick\": {}});\n",
       "\tviewergrid_16512367161986818[0][3].setStyle({\"stick\": {}});\n",
       "\tviewergrid_16512367161986818[0][0].animate({\"loop\": \"backAndForth\"});\n",
       "\tviewergrid_16512367161986818[0][1].animate({\"loop\": \"backAndForth\"});\n",
       "\tviewergrid_16512367161986818[0][2].animate({\"loop\": \"backAndForth\"});\n",
       "\tviewergrid_16512367161986818[0][3].animate({\"loop\": \"backAndForth\"});\n",
       "\tviewergrid_16512367161986818[0][0].zoomTo();\n",
       "\tviewergrid_16512367161986818[0][1].zoomTo();\n",
       "\tviewergrid_16512367161986818[0][2].zoomTo();\n",
       "\tviewergrid_16512367161986818[0][3].zoomTo();\n",
       "viewergrid_16512367161986818[0][3].render();\n",
       "viewergrid_16512367161986818[0][2].render();\n",
       "viewergrid_16512367161986818[0][1].render();\n",
       "viewergrid_16512367161986818[0][0].render();\n",
       "});\n",
       "</script>"
      ]
     },
     "metadata": {},
     "output_type": "display_data"
    }
   ],
   "source": [
    "print(\"These are the four H stretching modes of CH4.\")\n",
    "view = p3d.view(viewergrid=(1,4), width=500, height=200, linked=True)\n",
    "view.addModel(ch4_h1, \"xyz\", {'vibrate': {'frames':10,'amplitude':0.75}}, viewer=(0,0))\n",
    "view.addModel(ch4_h2, \"xyz\", {'vibrate': {'frames':10,'amplitude':0.75}}, viewer=(0,1))\n",
    "view.addModel(ch4_h3, \"xyz\", {'vibrate': {'frames':10,'amplitude':0.75}}, viewer=(0,2))\n",
    "view.addModel(ch4_h4, \"xyz\", {'vibrate': {'frames':10,'amplitude':0.75}}, viewer=(0,3))\n",
    "view.setStyle({'stick':{}})\n",
    "view.animate({'loop': 'backAndForth'})\n",
    "view.zoomTo()\n",
    "view.show()"
   ]
  },
  {
   "cell_type": "code",
   "execution_count": null,
   "id": "e673b118-de35-464b-97eb-3ac5a4589d3d",
   "metadata": {},
   "outputs": [],
   "source": []
  }
 ],
 "metadata": {
  "kernelspec": {
   "display_name": "Python 3",
   "language": "python",
   "name": "python3"
  },
  "language_info": {
   "codemirror_mode": {
    "name": "ipython",
    "version": 3
   },
   "file_extension": ".py",
   "mimetype": "text/x-python",
   "name": "python",
   "nbconvert_exporter": "python",
   "pygments_lexer": "ipython3",
   "version": "3.8.10"
  }
 },
 "nbformat": 4,
 "nbformat_minor": 5
}
