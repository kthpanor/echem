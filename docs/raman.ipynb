{
 "cells": [
  {
   "cell_type": "markdown",
   "id": "44c27c35",
   "metadata": {},
   "source": [
    "\n",
    "# Raman spectrum calculation\n",
    "\n",
    "(sec:raman-tutorial)="
   ]
  },
  {
   "cell_type": "code",
   "execution_count": null,
   "id": "274b5ea7",
   "metadata": {},
   "outputs": [],
   "source": []
  }
 ],
 "metadata": {
  "kernelspec": {
   "display_name": "Python 3",
   "language": "python",
   "name": "python3"
  },
  "language_info": {
   "codemirror_mode": {
    "name": "ipython",
    "version": 3
   },
   "file_extension": ".py",
   "mimetype": "text/x-python",
   "name": "python",
   "nbconvert_exporter": "python",
   "pygments_lexer": "ipython3",
   "version": "3.6.9"
  }
 },
 "nbformat": 4,
 "nbformat_minor": 5
}
