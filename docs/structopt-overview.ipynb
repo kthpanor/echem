{
 "cells": [
  {
   "cell_type": "markdown",
   "id": "c9052a57",
   "metadata": {},
   "source": [
    "(sec:struct-opt)=\n",
    "# Structure optimization\n",
    "\n",
    "In this section we will discuss how to use energy gradients and Hessians to determine where we are on the molecular potential energy surface (PES), as well as how to reach local minima. The process of finding a local minimum on the PES is called a molecular structure optimization, or relaxation and is discussed in details [next](sec:structopt-methods)."
   ]
  }
 ],
 "metadata": {
  "kernelspec": {
   "display_name": "Python 3",
   "language": "python",
   "name": "python3"
  },
  "language_info": {
   "codemirror_mode": {
    "name": "ipython",
    "version": 3
   },
   "file_extension": ".py",
   "mimetype": "text/x-python",
   "name": "python",
   "nbconvert_exporter": "python",
   "pygments_lexer": "ipython3",
   "version": "3.8.10"
  }
 },
 "nbformat": 4,
 "nbformat_minor": 5
}
