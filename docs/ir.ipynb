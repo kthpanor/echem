{
 "cells": [
  {
   "cell_type": "markdown",
   "id": "e02d9f6d",
   "metadata": {},
   "source": [
    "\n",
    "# IR spectroscopy\n",
    "\n",
    "(sec:ir-tutorial)=\n",
    "\n",
    "The infrared (IR) absorption process involves the absorption of light with low photon energy (from approx. 800 nm to approx. 1000 $\\mu$m) which promotes the excitation of molecular vibrations. Of the entire IR photon energy range, the photons which excite fundamental vibrations of covalent bonds have energies in the range 2.5-25 $\\mu$m {cite}`Norman2018, Centrone2015`. The absorbed photon energies (i.e. IR absorption peak positions) correspond to the molecular vibrational freqencies, while the IR intensities are related to the IR linear absorption cross-section (**link to response theory**) {cite}`Norman2018`:\n",
    "\\begin{equation}\n",
    "\\sigma_k(\\omega)= \\frac{\\pi}{3\\epsilon_0c}\\left(\\frac{\\partial \\mu}{\\partial Q_k}\\right)^2\\frac{\\gamma_{k}}{(\\omega_{k0}-\\omega)^2+\\gamma_{k}^2}\\,.\n",
    "\\end{equation}\n",
    "Here, $\\mu$ is the molecular dipole moment of the electronic ground state, $Q_k$ is the normal coordinate corresponding to the vibrational mode $k$, $\\omega$ is the angular frequency of the absorbed electromagnetic radiation, $\\omega_{k0}$ is the anugular frequency difference between the excited vibrational state $|k\\rangle$ and the ground state, and $\\gamma_{k}$ is the half-width broadening associated with the inverse lifetime of $|k\\rangle$. As can be seen from the equation, the IR absorption cross-section depends on the derivative of the dipole moment with respect to the normal coordinate $Q_k$. This means that the only modes which have non-zero IR absorption cross-sections are those associated with a change in the dipole moment {cite}`Siebert2007`.\n",
    "\n",
    "These molecular vibrations constitute fingerprints of different functional groups present in the system and thus are important for chemical characterization and molecular identification **to be refined, to add examples**.\n",
    "\n",
    "The first step in an IR spectrum calculation is to determine the normal modes and frequencies. These are obtained from the eigenstates and eigenvalues of the Hessian matrix which collects all the second order derivatives of the energy ($E$) with respect to the nuclear coordinates. For the ground state, the Hessian can be determined [analytically](hessians:label), or numerically based on the analytical gradient. The [dipole moment gradient](dipole_mom_gradient:label), required to compute IR absorption cross-sections, can also be determined analytically. \n",
    "\n",
    "**To Add: connection between absorption cross-section and the IR intensity calculated in practice.**.\n",
    "\n",
    "**To Add: anharmonic corrections**."
   ]
  },
  {
   "cell_type": "code",
   "execution_count": 1,
   "id": "b38bd8cb",
   "metadata": {},
   "outputs": [],
   "source": [
    "# Import section\n",
    "import veloxchem as vlx\n",
    "import numpy as np\n",
    "import sys"
   ]
  },
  {
   "cell_type": "code",
   "execution_count": 2,
   "id": "3b2e9993",
   "metadata": {},
   "outputs": [
    {
     "name": "stdout",
     "output_type": "stream",
     "text": [
      "                                              Molecular Geometry (Angstroms)                                              \n",
      "                                             ================================                                             \n",
      "                                                                                                                          \n",
      "                          Atom         Coordinate X          Coordinate Y          Coordinate Z                           \n",
      "                                                                                                                          \n",
      "                           O           0.000000000000        0.000000000000        0.000000000000                         \n",
      "                           H           0.000000000000        0.000000000000        0.950000004673                         \n",
      "                           H           0.896000004407        0.000000000000       -0.317000001559                         \n",
      "                                                                                                                          \n"
     ]
    }
   ],
   "source": [
    "# Define the molecule and basis set\n",
    "molecule_string = \"\"\"\n",
    "  O 0 0 0\n",
    "  H 0 0 1.795239827225189\n",
    "  H 1.693194615993441 0 -0.599043184453037\"\"\"\n",
    "unit = \"au\"\n",
    "basis_set_label = 'sto-3g'\n",
    "\n",
    "molecule = vlx.Molecule.read_str(molecule_string, units=unit)\n",
    "basis = vlx.MolecularBasis.read(molecule, basis_set_label)\n",
    "ostream = vlx.OutputStream(sys.stdout)\n",
    "ostream.print_block(molecule.get_string()) #TODO: show the molecular structure instead\n",
    "ostream.flush()"
   ]
  },
  {
   "cell_type": "code",
   "execution_count": 3,
   "id": "3553165e",
   "metadata": {},
   "outputs": [
    {
     "name": "stdout",
     "output_type": "stream",
     "text": [
      "                                                                                                                          \n",
      "                                            Self Consistent Field Driver Setup                                            \n",
      "                                           ====================================                                           \n",
      "                                                                                                                          \n",
      "                   Wave Function Model             : Spin-Restricted Hartree-Fock                                         \n",
      "                   Initial Guess Model             : Superposition of Atomic Densities                                    \n",
      "                   Convergence Accelerator         : Two Level Direct Inversion of Iterative Subspace                     \n",
      "                   Max. Number of Iterations       : 50                                                                   \n",
      "                   Max. Number of Error Vectors    : 10                                                                   \n",
      "                   Convergence Threshold           : 1.0e-06                                                              \n",
      "                   ERI Screening Scheme            : Cauchy Schwarz + Density                                             \n",
      "                   ERI Screening Mode              : Dynamic                                                              \n",
      "                   ERI Screening Threshold         : 1.0e-12                                                              \n",
      "                   Linear Dependence Threshold     : 1.0e-06                                                              \n",
      "                                                                                                                          \n",
      "* Info * Nuclear repulsion energy: 9.2514792692 a.u.                                                                      \n",
      "                                                                                                                          \n",
      "* Info * Overlap matrix computed in 0.00 sec.                                                                             \n",
      "                                                                                                                          \n",
      "* Info * Kinetic energy matrix computed in 0.00 sec.                                                                      \n",
      "                                                                                                                          \n",
      "* Info * Nuclear potential matrix computed in 0.00 sec.                                                                   \n",
      "                                                                                                                          \n",
      "* Info * Orthogonalization matrix computed in 0.04 sec.                                                                   \n",
      "                                                                                                                          \n",
      "* Info * SAD initial guess computed in 0.00 sec.                                                                          \n",
      "                                                                                                                          \n",
      "* Info * Starting Reduced Basis SCF calculation...                                                                        \n",
      "* Info * ...done. SCF energy in reduced basis set: -74.959319308759 a.u. Time: 0.11 sec.                                  \n",
      "                                                                                                                          \n",
      "* Info * Overlap matrix computed in 0.00 sec.                                                                             \n",
      "                                                                                                                          \n",
      "* Info * Kinetic energy matrix computed in 0.00 sec.                                                                      \n",
      "                                                                                                                          \n",
      "* Info * Nuclear potential matrix computed in 0.00 sec.                                                                   \n",
      "                                                                                                                          \n",
      "* Info * Orthogonalization matrix computed in 0.00 sec.                                                                   \n",
      "                                                                                                                          \n",
      "                                                                                                                          \n",
      "               Iter. | Hartree-Fock Energy | Energy Change | Gradient Norm | Max. Gradient | Density Change               \n",
      "               --------------------------------------------------------------------------------------------               \n",
      "                  1       -74.959319310865    0.0000000000      0.00002657      0.00000643      0.00000000                \n",
      "                  2       -74.959319311083   -0.0000000002      0.00000889      0.00000203      0.00002226                \n",
      "                  3       -74.959319311115   -0.0000000000      0.00000049      0.00000011      0.00001225                \n",
      "                                                                                                                          \n",
      "* Info * SCF tensors written to file: scf.tensors.h5                                                                      \n",
      "                                                                                                                          \n",
      "               *** SCF converged in 3 iterations. Time: 0.06 sec.                                                         \n",
      "                                                                                                                          \n",
      "               Spin-Restricted Hartree-Fock:                                                                              \n",
      "               -----------------------------                                                                              \n",
      "               Total Energy                       :      -74.9593193111 a.u.                                              \n",
      "               Electronic Energy                  :      -84.2107985804 a.u.                                              \n",
      "               Nuclear Repulsion Energy           :        9.2514792692 a.u.                                              \n",
      "               ------------------------------------                                                                       \n",
      "               Gradient Norm                      :        0.0000004869 a.u.                                              \n",
      "                                                                                                                          \n",
      "                                                                                                                          \n",
      "               Ground State Information                                                                                   \n",
      "               ------------------------                                                                                   \n",
      "               Charge of Molecule            :  0.0                                                                       \n",
      "               Multiplicity (2S+1)           :  1.0                                                                       \n",
      "               Magnetic Quantum Number (M_S) :  0.0                                                                       \n",
      "                                                                                                                          \n",
      "                                                                                                                          \n",
      "                                                 Spin Restricted Orbitals                                                 \n",
      "                                                 ------------------------                                                 \n",
      "                                                                                                                          \n",
      "               Molecular Orbital No.   1:                                                                                 \n",
      "               --------------------------                                                                                 \n",
      "               Occupation: 2.0 Energy:  -20.23340 a.u.                                                                    \n",
      "               (   1 O   1s  :    -0.99)                                                                                  \n",
      "                                                                                                                          \n",
      "               Molecular Orbital No.   2:                                                                                 \n",
      "               --------------------------                                                                                 \n",
      "               Occupation: 2.0 Energy:   -1.26571 a.u.                                                                    \n",
      "               (   1 O   1s  :    -0.23) (   1 O   2s  :     0.83) (   2 H   1s  :     0.16)                              \n",
      "               (   3 H   1s  :     0.16)                                                                                  \n",
      "                                                                                                                          \n",
      "               Molecular Orbital No.   3:                                                                                 \n",
      "               --------------------------                                                                                 \n",
      "               Occupation: 2.0 Energy:   -0.62927 a.u.                                                                    \n",
      "               (   1 O   1p+1:    -0.35) (   1 O   1p0 :     0.49) (   2 H   1s  :     0.44)                              \n",
      "               (   3 H   1s  :    -0.44)                                                                                  \n",
      "                                                                                                                          \n",
      "               Molecular Orbital No.   4:                                                                                 \n",
      "               --------------------------                                                                                 \n",
      "               Occupation: 2.0 Energy:   -0.44167 a.u.                                                                    \n",
      "               (   1 O   2s  :    -0.52) (   1 O   1p+1:     0.65) (   1 O   1p0 :     0.46)                              \n",
      "               (   2 H   1s  :     0.27) (   3 H   1s  :     0.27)                                                        \n",
      "                                                                                                                          \n",
      "               Molecular Orbital No.   5:                                                                                 \n",
      "               --------------------------                                                                                 \n",
      "               Occupation: 2.0 Energy:   -0.38765 a.u.                                                                    \n",
      "               (   1 O   1p-1:    -1.00)                                                                                  \n",
      "                                                                                                                          \n",
      "               Molecular Orbital No.   6:                                                                                 \n",
      "               --------------------------                                                                                 \n",
      "               Occupation: 0.0 Energy:    0.60284 a.u.                                                                    \n",
      "               (   1 O   2s  :     0.91) (   1 O   1p+1:     0.58) (   1 O   1p0 :     0.41)                              \n",
      "               (   2 H   1s  :    -0.81) (   3 H   1s  :    -0.81)                                                        \n",
      "                                                                                                                          \n",
      "               Molecular Orbital No.   7:                                                                                 \n",
      "               --------------------------                                                                                 \n",
      "               Occupation: 0.0 Energy:    0.76592 a.u.                                                                    \n",
      "               (   1 O   1p+1:    -0.58) (   1 O   1p0 :     0.82) (   2 H   1s  :    -0.84)                              \n",
      "               (   3 H   1s  :     0.84)                                                                                  \n",
      "                                                                                                                          \n"
     ]
    }
   ],
   "source": [
    "# Run the scf calculation\n",
    "method_settings = {} #{'xcfun':'b3lyp'}\n",
    "scfdrv = vlx.ScfRestrictedDriver()\n",
    "scfdrv.update_settings({},method_settings)\n",
    "scfdrv.compute(molecule, basis)"
   ]
  },
  {
   "cell_type": "code",
   "execution_count": null,
   "id": "ded6db99",
   "metadata": {},
   "outputs": [
    {
     "name": "stdout",
     "output_type": "stream",
     "text": [
      "                                                                                                                          \n",
      "                                                    SCF Hessian Driver                                                    \n",
      "                                                   ====================                                                   \n",
      "                                                                                                                          \n"
     ]
    }
   ],
   "source": [
    "# Create the Hessian Driver and use it to compute an analytical SCF Hessian\n",
    "hessian_settings = {'numerical': 'yes', 'do_four_point':'no'}\n",
    "cphf_settings = {'use_subspace_solver':'yes'}\n",
    "hessian_drv = vlx.scfhessiandriver.ScfHessianDriver(scfdrv, scfdrv.comm, ostream)\n",
    "hessian_drv.update_settings(method_settings, hessian_settings, cphf_settings)\n",
    "hessian_drv.compute(molecule, basis)"
   ]
  },
  {
   "cell_type": "code",
   "execution_count": null,
   "id": "773c7675",
   "metadata": {},
   "outputs": [],
   "source": [
    "hessian_drv.print_hessian(molecule)"
   ]
  },
  {
   "cell_type": "markdown",
   "id": "fdd9bfa3",
   "metadata": {},
   "source": [
    "The normal modes and frequencies are then determined by diagonalizing the Hessian. First, the transation and rotational modes mut be projected out, leaving 3N-6 (or 3N-5 for a linear molecule) vibrational modes. This is done under the hood with the help of geomeTRIC. **add comparison vib-rot removed vs. included?**\n",
    "\n",
    "The IR intensities are determined as discussed in more details in **add link**"
   ]
  },
  {
   "cell_type": "code",
   "execution_count": 6,
   "id": "598e7a77",
   "metadata": {},
   "outputs": [
    {
     "name": "stdout",
     "output_type": "stream",
     "text": [
      "                                                   Vibrational Analysis                                                   \n",
      "                                                  ======================                                                  \n",
      "                                                                                                                          \n",
      "                 Harmonic frequencies (in cm**-1), force constants (in mdyne/A), reduced masses (in amu),                 \n",
      "                                                IR intensities (in km/mol),                                               \n",
      "                                         and Cartesian normal mode displacements.                                         \n",
      "                                                                                                                          \n",
      "                                                                                                                          \n",
      "  Index:                        1                              2                              3               \n",
      "  Frequency:                 1927.08                        4545.78                        4896.44            \n",
      "  Force constant:            2.3750                         12.6969                        15.3533            \n",
      "  Reduced mass:              1.0855                         1.0429                         1.0869             \n",
      "  IR intensity:              15.0385                        30.3502                        12.8839            \n",
      "  Normal mode:       X         Y         Z     |    X         Y         Z     |    X         Y         Z     |\n",
      "  1 O             -0.0587    0.0000   -0.0415  |  0.0397    0.0000    0.0274  | -0.0416   -0.0000    0.0595  |\n",
      "  2 H              0.7054   -0.0000   -0.0092  |  0.0299    0.0000   -0.7000  |  0.0002    0.0000   -0.7111  |\n",
      "  3 H              0.2266   -0.0000    0.6677  | -0.6605   -0.0000    0.2654  |  0.6594    0.0000   -0.2331  |\n",
      "                                                                                                                          \n",
      "                                                                                                                          \n"
     ]
    }
   ],
   "source": [
    "hessian_drv.vibrational_analysis(molecule, basis)"
   ]
  },
  {
   "cell_type": "code",
   "execution_count": null,
   "id": "20f652c8",
   "metadata": {},
   "outputs": [],
   "source": [
    "def add_broadening(list_ex_energy, list_osci_strength, line_profile='Lorentzian', line_param=10, step=10):\n",
    "        x_min = np.amin(list_ex_energy) - 50\n",
    "        x_max = np.amax(list_ex_energy) + 50\n",
    "        x = np.arange(x_min, x_max, step)\n",
    "        y = np.zeros((len(x)))\n",
    "        #print(x)\n",
    "        #print(y)\n",
    "\n",
    "        # go through the frames and calculate the spectrum for each frame\n",
    "        for xp in range(len(x)):\n",
    "            for e, f in zip(list_ex_energy, list_osci_strength):\n",
    "                if line_profile == 'Gaussian':\n",
    "                    y[xp] += f * np.exp(-(\n",
    "                        (e - x[xp]) / line_param)**2)\n",
    "                elif line_profile == 'Lorentzian':\n",
    "                    y[xp] += 0.5 * line_param * f / (np.pi * (\n",
    "                        (x[xp] - e)**2 + 0.25 * line_param**2))\n",
    "        return x, y"
   ]
  },
  {
   "cell_type": "code",
   "execution_count": null,
   "id": "e566ca47",
   "metadata": {},
   "outputs": [],
   "source": [
    "# plot the IR spectrum\n",
    "from matplotlib import pyplot as plt\n",
    "\n",
    "plt.figure(figsize=(7,4))\n",
    "# Spectrum from -CHF \n",
    "x1,y1 = hessian_drv.frequencies, hessian_drv.ir_intensities\n",
    "x1i, y1i = add_broadening(x1,y1,line_profile='Gaussian',line_param=20,step=10)\n",
    "plt.plot(x1i,y1i)\n",
    "#plt.plot(x1,y1,'x')\n",
    "plt.xlabel('wavenumber (cm**-1)')\n",
    "plt.ylabel('IR intensity (km/mol)')\n",
    "plt.title(\"Calculated IR sepctrum of the water molecule\")\n",
    "plt.tight_layout(); plt.show()\n",
    "# TODO: add comparison to expriment"
   ]
  },
  {
   "cell_type": "markdown",
   "id": "08c0e4f3",
   "metadata": {},
   "source": [
    "**To add: visualization of the H2O molecular vibrations**"
   ]
  }
 ],
 "metadata": {
  "kernelspec": {
   "display_name": "Python 3",
   "language": "python",
   "name": "python3"
  },
  "language_info": {
   "codemirror_mode": {
    "name": "ipython",
    "version": 3
   },
   "file_extension": ".py",
   "mimetype": "text/x-python",
   "name": "python",
   "nbconvert_exporter": "python",
   "pygments_lexer": "ipython3",
   "version": "3.6.9"
  }
 },
 "nbformat": 4,
 "nbformat_minor": 5
}
