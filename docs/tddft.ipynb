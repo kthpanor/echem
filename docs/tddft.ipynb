{
 "cells": [
  {
   "cell_type": "markdown",
   "id": "d3ffb1fa",
   "metadata": {},
   "source": [
    "# TDDFT"
   ]
  },
  {
   "cell_type": "markdown",
   "id": "bdf47bd2",
   "metadata": {},
   "source": [
    "## Adiabatic approximation\n",
    "\n",
    "## Electronic Hessian, $E^{[2]}$\n",
    "\n",
    "## Tamm–Dancoff approximation\n",
    "\n",
    "## Casida equation\n",
    "\n",
    "## Self-interaction\n",
    "\n",
    "## Range separation\n",
    "\n",
    "As an example, let us study the charge transfer excitation in LiF."
   ]
  },
  {
   "cell_type": "markdown",
   "id": "0eb3a6b4",
   "metadata": {},
   "source": [
    "## Exercises"
   ]
  }
 ],
 "metadata": {
  "kernelspec": {
   "display_name": "Python 3 (ipykernel)",
   "language": "python",
   "name": "python3"
  },
  "language_info": {
   "codemirror_mode": {
    "name": "ipython",
    "version": 3
   },
   "file_extension": ".py",
   "mimetype": "text/x-python",
   "name": "python",
   "nbconvert_exporter": "python",
   "pygments_lexer": "ipython3",
   "version": "3.7.10"
  }
 },
 "nbformat": 4,
 "nbformat_minor": 5
}
