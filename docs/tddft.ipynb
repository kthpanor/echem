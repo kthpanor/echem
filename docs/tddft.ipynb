{
 "cells": [
  {
   "cell_type": "markdown",
   "id": "d3ffb1fa",
   "metadata": {},
   "source": [
    "# TDDFT\n",
    "\n",
    "Time-dependent density functional theory (TDDFT) shares many aspects with time-dependent Hartree-Fock (TDHF), and the discussion here will thus focus more on what need to be additionally considered for TDDFT. We thus recommend going over the TDHF material presented in the previous section, before studying the material presented here."
   ]
  },
  {
   "cell_type": "markdown",
   "id": "bdf47bd2",
   "metadata": {},
   "source": [
    "## Adiabatic approximation\n",
    "\n",
    "Formally, would like to consider full time-dependence. However, not really possible without already have solved the problem (link to AD+JS papers)... Thus: adiabatic approximation.\n",
    "\n",
    "## Electronic Hessian\n",
    "\n",
    "Changes when compared to TDHF, and note aspects of incorrect long-range behaviour.\n",
    "\n",
    "## Casida equation\n",
    "\n",
    "Compare what we have derived to the version used in the Casida equation.\n",
    "\n",
    "## Self-interaction\n",
    "\n",
    "Refer to DFT SIE example. Consider impact on excitations, and how this changes to the previous discussion.\n",
    "\n",
    "## Charge-transfer states\n",
    "\n",
    "As an example, let us consider the charge transfer excitation in LiF. Range-separated functionals.\n",
    "\n",
    "## Triplet instabilities\n",
    "\n",
    "Functional dependence.\n",
    "\n",
    "## Choice of xc-functional\n",
    "\n",
    "Maybe include some general recommendations?\n",
    "- CAM-B3LYP pretty decent\n",
    "- Maybe refer to some of the numerous benchmark papers...\n",
    "- Compare results using several functionals. Compare to higher-level theory, if possible (ADC(2), CC2, ...)."
   ]
  },
  {
   "cell_type": "markdown",
   "id": "0eb3a6b4",
   "metadata": {},
   "source": [
    "## Ideas for exercises\n",
    "\n",
    "- Depending on what is included in CT discussion: explicitly consider the incorrect long-range behaviour with some systems and functionals\n",
    "- Some example of TDA versus full\n",
    "- Can always compare xc-functionals..."
   ]
  }
 ],
 "metadata": {
  "kernelspec": {
   "display_name": "Python 3 (ipykernel)",
   "language": "python",
   "name": "python3"
  },
  "language_info": {
   "codemirror_mode": {
    "name": "ipython",
    "version": 3
   },
   "file_extension": ".py",
   "mimetype": "text/x-python",
   "name": "python",
   "nbconvert_exporter": "python",
   "pygments_lexer": "ipython3",
   "version": "3.9.7"
  }
 },
 "nbformat": 4,
 "nbformat_minor": 5
}
