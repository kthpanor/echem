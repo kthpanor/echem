{
 "cells": [
  {
   "cell_type": "markdown",
   "id": "ab90c1ba",
   "metadata": {},
   "source": [
    "# Recommendations\n",
    "\n",
    "What follows are some general suggestions for practical calculations, aimed to provide a helpful guide for non-experts. Note that the list is, naturally, incomplete, and unavoidably include some of the authors' biases.\n",
    "\n",
    "## Electronic structure model\n",
    "\n",
    "Single determinant wave function methods include relaxation by the use of (at least) doubly excited configurations. These methods tend to yield relatively consistent description of the processes, and are thus the recommended reference to be used for establishing the reliability of more approximate methods. As their high computational cost makes them hard to apply for large molecules of interest in many studies, they provide instead a good benchmark for the computationally less expensive methods.\n",
    "\n",
    "Families and recommendations include:\n",
    "\n",
    "- **Coupled cluster:**\n",
    "\n",
    "    - CC2, CCSD, and CC3 provide good results, with general reliability increasing along the series (alongside computational cost)\n",
    "    \n",
    "- **Algebraic-diagrammatic construction scheme:**\n",
    "\n",
    "    - ADC(2) works well, with a tendency to underestimate experiment\n",
    "    \n",
    "    - ADC(2)-x does not perform well, and is generally not recommended\n",
    "    \n",
    "    - ADC(3) works well\n",
    "\n",
    "With TDDFT (or CPP-DFT), the performance heavily depends on the xc-functional, as well as on the type of transition being probed. If any type of charge-transfer states are expected, a long-range corrected functional is generally advised, and we CAM-B3LYP tends to perform well. Best practice is to use a number of different functionals, and if the results are too varied one would either use  a different type of theory, or at then very least be careful.\n",
    "\n",
    "If strong correlations are expected, multireference methods are recommended (at the very least as controls). Spin-flip ADC and CC *might* improve the situation for certain few-reference systems, and TDDFT will be a bit more capable of addressing these cases compared to pure CC and ADC. However, systems with strong static correlation should be considered carefully, and multireference methods are likely the safest way forward.\n",
    "\n",
    "\n",
    "## Basis set selection\n",
    "\n",
    "As we are here probing excitations to unoccupied states, a reasonable description of the virtual space is required. This typically involves the addition of diffuse functions, such as *aug-* for the Dunning family of basis sets. The choice of basis set family is often a matter of familiarity, and we recommend trying at least a triple-$\\zeta$ level with diffuse and polarizing functions, if possible. If Rydberg-like states are probed, some additional diffuse functions of low angular momentum can be necessary."
   ]
  },
  {
   "cell_type": "markdown",
   "id": "05dc07d0-e0e7-43eb-b85a-2a3301bf7106",
   "metadata": {
    "tags": [
     "remove-cell"
    ]
   },
   "source": [
    "- ADC(2), ADC(3/2), ...\n",
    "- CC2, CCSD, CC3, ...\n",
    "- DFT: functional choice\n",
    "    - Valence-valence\n",
    "    - Valence-Rydberg\n",
    "    - CT transitions\n",
    "    - Triplet-instabilities\n",
    "- Basis sets"
   ]
  }
 ],
 "metadata": {
  "kernelspec": {
   "display_name": "Python 3 (ipykernel)",
   "language": "python",
   "name": "python3"
  },
  "language_info": {
   "codemirror_mode": {
    "name": "ipython",
    "version": 3
   },
   "file_extension": ".py",
   "mimetype": "text/x-python",
   "name": "python",
   "nbconvert_exporter": "python",
   "pygments_lexer": "ipython3",
   "version": "3.9.12"
  }
 },
 "nbformat": 4,
 "nbformat_minor": 5
}
