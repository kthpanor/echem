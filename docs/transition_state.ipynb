{
 "cells": [
  {
   "cell_type": "markdown",
   "metadata": {},
   "source": [
    "# Transition state geometry optimization\n",
    "\n",
    "Once we have a suitable candidate for transition state we can optimize the structure for a transition state. As explained before the transition state will be characterized by a vanishing gradient and one negative Hessian \n",
    "eigenvalue. Therefore, in essence, we are exploring the PES looking for a maximum.\n",
    "\n",
    "Let us try with a simple example:\n",
    "\n",
    "### Importing modules"
   ]
  },
  {
   "cell_type": "code",
   "execution_count": 8,
   "metadata": {},
   "outputs": [],
   "source": [
    "import veloxchem as vlx\n",
    "import py3Dmol as p3d "
   ]
  },
  {
   "cell_type": "markdown",
   "metadata": {},
   "source": [
    "### Visualization of the molecule\n",
    "First we create a simple function that takes as an input a xyz format coordinates and plot the molecule"
   ]
  },
  {
   "cell_type": "code",
   "execution_count": 18,
   "metadata": {},
   "outputs": [],
   "source": [
    "#Function to plot geometries\n",
    "def drawXYZGeom(geom):\n",
    "    view = p3d.view(width=400, height=400)\n",
    "    view.addModel(geom, \"xyz\")\n",
    "    view.setStyle({'stick':{}})\n",
    "    view.zoomTo()\n",
    "    return(view.show())\n",
    "## Function to compare geometries\n",
    "def compXYZGeom(init,final):\n",
    "    view = p3d.view(width=400, height=400)\n",
    "    view.addModel(init, \"xyz\")\n",
    "    view.addModel(final, \"xyz\")\n",
    "    view.setStyle({'stick':{}})\n",
    "    view.zoomTo()\n",
    "    return(view.show())"
   ]
  },
  {
   "cell_type": "markdown",
   "metadata": {},
   "source": [
    "Then we just introduce the xyz coordinates as a string and we can plot the structure"
   ]
  },
  {
   "cell_type": "code",
   "execution_count": 3,
   "metadata": {},
   "outputs": [
    {
     "data": {
      "application/3dmoljs_load.v0": "<div id=\"3dmolviewer_16496674950061069\"  style=\"position: relative; width: 400px; height: 400px\">\n        <p id=\"3dmolwarning_16496674950061069\" style=\"background-color:#ffcccc;color:black\">You appear to be running in JupyterLab (or JavaScript failed to load for some other reason).  You need to install the 3dmol extension: <br>\n        <tt>jupyter labextension install jupyterlab_3dmol</tt></p>\n        </div>\n<script>\n\nvar loadScriptAsync = function(uri){\n  return new Promise((resolve, reject) => {\n    var tag = document.createElement('script');\n    tag.src = uri;\n    tag.async = true;\n    tag.onload = () => {\n      resolve();\n    };\n  var firstScriptTag = document.getElementsByTagName('script')[0];\n  firstScriptTag.parentNode.insertBefore(tag, firstScriptTag);\n});\n};\n\nif(typeof $3Dmolpromise === 'undefined') {\n$3Dmolpromise = null;\n  $3Dmolpromise = loadScriptAsync('https://3dmol.org/build/3Dmol.js');\n}\n\nvar viewer_16496674950061069 = null;\nvar warn = document.getElementById(\"3dmolwarning_16496674950061069\");\nif(warn) {\n    warn.parentNode.removeChild(warn);\n}\n$3Dmolpromise.then(function() {\nviewer_16496674950061069 = $3Dmol.createViewer($(\"#3dmolviewer_16496674950061069\"),{backgroundColor:\"white\"});\nviewer_16496674950061069.zoomTo();\n\tviewer_16496674950061069.addModel(\"8\\nInitial geometry\\nC        1.4059000000    0.8128000000    0.0009000000\\nC        1.5654000000   -0.3926000000    0.0009000000\\nN       -1.0383000000    1.0196000000   -0.0052000000\\nH       -2.0386000000    1.4291000000    0.0210000000\\nH        1.3741000000    1.8940000000   -0.0007000000\\nH        1.9546000000   -1.4028000000    0.0003000000\\nN       -0.4958000000   -1.3375000000   -0.0011000000\\nN       -1.1970000000   -0.3166000000    0.0018000000\\n\",\"xyz\");\n\tviewer_16496674950061069.setStyle({\"stick\": {}});\n\tviewer_16496674950061069.zoomTo();\nviewer_16496674950061069.render();\n});\n</script>",
      "text/html": [
       "<div id=\"3dmolviewer_16496674950061069\"  style=\"position: relative; width: 400px; height: 400px\">\n",
       "        <p id=\"3dmolwarning_16496674950061069\" style=\"background-color:#ffcccc;color:black\">You appear to be running in JupyterLab (or JavaScript failed to load for some other reason).  You need to install the 3dmol extension: <br>\n",
       "        <tt>jupyter labextension install jupyterlab_3dmol</tt></p>\n",
       "        </div>\n",
       "<script>\n",
       "\n",
       "var loadScriptAsync = function(uri){\n",
       "  return new Promise((resolve, reject) => {\n",
       "    var tag = document.createElement('script');\n",
       "    tag.src = uri;\n",
       "    tag.async = true;\n",
       "    tag.onload = () => {\n",
       "      resolve();\n",
       "    };\n",
       "  var firstScriptTag = document.getElementsByTagName('script')[0];\n",
       "  firstScriptTag.parentNode.insertBefore(tag, firstScriptTag);\n",
       "});\n",
       "};\n",
       "\n",
       "if(typeof $3Dmolpromise === 'undefined') {\n",
       "$3Dmolpromise = null;\n",
       "  $3Dmolpromise = loadScriptAsync('https://3dmol.org/build/3Dmol.js');\n",
       "}\n",
       "\n",
       "var viewer_16496674950061069 = null;\n",
       "var warn = document.getElementById(\"3dmolwarning_16496674950061069\");\n",
       "if(warn) {\n",
       "    warn.parentNode.removeChild(warn);\n",
       "}\n",
       "$3Dmolpromise.then(function() {\n",
       "viewer_16496674950061069 = $3Dmol.createViewer($(\"#3dmolviewer_16496674950061069\"),{backgroundColor:\"white\"});\n",
       "viewer_16496674950061069.zoomTo();\n",
       "\tviewer_16496674950061069.addModel(\"8\\nInitial geometry\\nC        1.4059000000    0.8128000000    0.0009000000\\nC        1.5654000000   -0.3926000000    0.0009000000\\nN       -1.0383000000    1.0196000000   -0.0052000000\\nH       -2.0386000000    1.4291000000    0.0210000000\\nH        1.3741000000    1.8940000000   -0.0007000000\\nH        1.9546000000   -1.4028000000    0.0003000000\\nN       -0.4958000000   -1.3375000000   -0.0011000000\\nN       -1.1970000000   -0.3166000000    0.0018000000\\n\",\"xyz\");\n",
       "\tviewer_16496674950061069.setStyle({\"stick\": {}});\n",
       "\tviewer_16496674950061069.zoomTo();\n",
       "viewer_16496674950061069.render();\n",
       "});\n",
       "</script>"
      ]
     },
     "metadata": {},
     "output_type": "display_data"
    }
   ],
   "source": [
    "#Visualizing the structure\n",
    "geom_xyz = '''8\n",
    "Initial geometry\n",
    "C        1.4059000000    0.8128000000    0.0009000000\n",
    "C        1.5654000000   -0.3926000000    0.0009000000\n",
    "N       -1.0383000000    1.0196000000   -0.0052000000\n",
    "H       -2.0386000000    1.4291000000    0.0210000000\n",
    "H        1.3741000000    1.8940000000   -0.0007000000\n",
    "H        1.9546000000   -1.4028000000    0.0003000000\n",
    "N       -0.4958000000   -1.3375000000   -0.0011000000\n",
    "N       -1.1970000000   -0.3166000000    0.0018000000\n",
    "'''\n",
    "drawXYZGeom(geom_xyz)"
   ]
  },
  {
   "cell_type": "markdown",
   "metadata": {},
   "source": [
    "### Definition of the geometry and setting up the SCF driver"
   ]
  },
  {
   "cell_type": "code",
   "execution_count": null,
   "metadata": {},
   "outputs": [],
   "source": [
    "## Finding the TS\n",
    "geometry = vlx.Molecule.from_xyz_string(geom_xyz)\n",
    "basis = vlx.MolecularBasis.read(geometry,\"sto-3g\")\n",
    "scf_drv = vlx.ScfRestrictedDriver()\n",
    "scf_drv.compute(geometry,basis)"
   ]
  },
  {
   "cell_type": "markdown",
   "metadata": {},
   "source": [
    "### Setting up the gradient driver"
   ]
  },
  {
   "cell_type": "code",
   "execution_count": 5,
   "metadata": {},
   "outputs": [],
   "source": [
    "scf_grad_drv = vlx.ScfGradientDriver(scf_drv)\n",
    "gradient_settings = {'numerical:no'}\n",
    "scf_grad_drv.update_settings(gradient_settings,method_dict={'xcfun: b3lyp'})"
   ]
  },
  {
   "cell_type": "markdown",
   "metadata": {},
   "source": [
    "### Setting up the optimization driver"
   ]
  },
  {
   "cell_type": "code",
   "execution_count": null,
   "metadata": {},
   "outputs": [],
   "source": [
    "scf_opt_drv = vlx.OptimizationDriver(scf_grad_drv,flag='scf')\n",
    "scf_opt_drv.transition = True\n",
    "scf_opt_drv.hessian = 'first+last'\n",
    "scf_opt_drv.compute(geometry,basis)"
   ]
  },
  {
   "cell_type": "markdown",
   "metadata": {},
   "source": [
    "The output will give four files: <br />\n",
    "**Geometries during the optimization in xyz format (_optim.xyz)**\n",
    "```\n",
    "8    \n",
    "Iteration 0 Energy -237.48406869\n",
    "C        1.4059000000    0.8128000000    0.0009000000\n",
    "C        1.5654000000   -0.3926000000    0.0009000000\n",
    "N       -1.0383000000    1.0196000000   -0.0052000000\n",
    "H       -2.0386000000    1.4291000000    0.0210000000\n",
    "H        1.3741000000    1.8940000000   -0.0007000000\n",
    "H        1.9546000000   -1.4028000000    0.0003000000\n",
    "N       -0.4958000000   -1.3375000000   -0.0011000000\n",
    "N       -1.1970000000   -0.3166000000    0.0018000000\n",
    "8    \n",
    "Iteration 1 Energy -237.48588381\n",
    "C        1.3986767507    0.8076140878    0.0009002477\n",
    "C        1.5554932198   -0.3912703043    0.0008560542\n",
    "N       -1.0339417937    1.0131015966   -0.0050309571\n",
    "H       -2.0296875775    1.4272388306    0.0208045784\n",
    "H        1.3724942305    1.8878930527   -0.0007271680\n",
    "H        1.9523159399   -1.3970927549    0.0002038018\n",
    "N       -0.4855076024   -1.3246755992   -0.0010344286\n",
    "N       -1.1995439420   -0.3168060274    0.0019270504\n",
    "8    \n",
    "Iteration 2 Energy -237.48754838\n",
    "C        1.3881987993    0.8008460851    0.0008959673\n",
    "C        1.5414491982   -0.3899861931    0.0007853320\n",
    "N       -1.0276095642    1.0039979473   -0.0047832956\n",
    "H       -2.0164700299    1.4244073465    0.0205164352\n",
    "H        1.3697024299    1.8795054853   -0.0007658631\n",
    "H        1.9489162104   -1.3892473489    0.0000581691\n",
    "N       -0.4711152364   -1.3064025713   -0.0009230192\n",
    "N       -1.2027737500   -0.3171424570    0.0021141842\n",
    "8    \n",
    ".\n",
    ".\n",
    ".\n",
    "Iteration 8 Energy -237.48730935\n",
    "C        1.2694737152    0.8199118237    0.0020300631\n",
    "C        1.4650268055   -0.3557331487   -0.0014081365\n",
    "N       -0.9624886689    0.9369706825   -0.0070753368\n",
    "H       -1.9114607569    1.3882275308    0.0242133169\n",
    "H        1.2776270348    1.8879026382    0.0037766854\n",
    "H        1.9579288423   -1.3019609852   -0.0042985096\n",
    "N       -0.3994930133   -1.3005046839   -0.0013522025\n",
    "N       -1.1661868246   -0.3716732596    0.0018726559\n",
    "8    \n",
    "Iteration 9 Energy -237.48730981\n",
    "C        1.2687990140    0.8198482259    0.0024123532\n",
    "C        1.4652286829   -0.3556615967   -0.0016439073\n",
    "N       -0.9625706742    0.9373517016   -0.0080640143\n",
    "H       -1.9119100993    1.3873539839    0.0265832651\n",
    "H        1.2768799142    1.8879461569    0.0046771752\n",
    "H        1.9591653948   -1.3012461760   -0.0048335460\n",
    "N       -0.3997144523   -1.3008164821   -0.0025853684\n",
    "N       -1.1654403884   -0.3717101556    0.0012082555\n",
    "```\n",
    "**A log file with the output from Geometric** <br />\n",
    "<br />\n",
    "**The initial and final hessian with the Gibbs free energy** <br />\n",
    "The last will look like this:\n",
    "```\n",
    "# == Summary of harmonic free energy analysis ==\n",
    "# Note: Rotational symmetry is set to 1 regardless of true symmetry\n",
    "# Note: Free energy does not include contribution from 2 imaginary mode(s)\n",
    "# \n",
    "# Gibbs free energy contributions calculated at @ 300.00 K:\n",
    "# Zero-point vibrational energy:                                   35.1393 kcal/mol \n",
    "# H   (Trans + Rot + Vib = Tot):   1.4904 +   0.8942 +   0.9940 =   3.3787 kcal/mol \n",
    "# S   (Trans + Rot + Vib = Tot):  38.6717 +  24.9750 +   4.9343 =  68.5810 cal/mol/K\n",
    "# TS  (Trans + Rot + Vib = Tot):  11.6015 +   7.4925 +   1.4803 =  20.5743 kcal/mol \n",
    "# \n",
    "# Ground State Electronic Energy    : E0                        =  -237.48730981 au (   -149025.5369 kcal/mol)\n",
    "# Free Energy Correction (Harmonic) : ZPVE + [H-TS]_T,R,V       =     0.02859519 au (        17.9438 kcal/mol)\n",
    "# Gibbs Free Energy (Harmonic)      : E0 + ZPVE + [H-TS]_T,R,V  =  -237.45871462 au (   -149007.5931 kcal/mol)\n",
    "# \n",
    "\n",
    "8\n",
    "Iteration 9 Energy -237.48730981 (Optimized Structure)\n",
    " C    1.2687990140    0.8198482259    0.0024123532\n",
    " C    1.4652286829   -0.3556615967   -0.0016439073\n",
    " N   -0.9625706742    0.9373517016   -0.0080640143\n",
    " H   -1.9119100993    1.3873539839    0.0265832651\n",
    " H    1.2768799142    1.8879461569    0.0046771752\n",
    " H    1.9591653948   -1.3012461760   -0.0048335460\n",
    " N   -0.3997144523   -1.3008164821   -0.0025853684\n",
    " N   -1.1654403884   -0.3717101556    0.0012082555\n",
    "\n",
    "```\n"
   ]
  },
  {
   "cell_type": "code",
   "execution_count": 19,
   "metadata": {},
   "outputs": [
    {
     "data": {
      "application/3dmoljs_load.v0": "<div id=\"3dmolviewer_16496689046249838\"  style=\"position: relative; width: 400px; height: 400px\">\n        <p id=\"3dmolwarning_16496689046249838\" style=\"background-color:#ffcccc;color:black\">You appear to be running in JupyterLab (or JavaScript failed to load for some other reason).  You need to install the 3dmol extension: <br>\n        <tt>jupyter labextension install jupyterlab_3dmol</tt></p>\n        </div>\n<script>\n\nvar loadScriptAsync = function(uri){\n  return new Promise((resolve, reject) => {\n    var tag = document.createElement('script');\n    tag.src = uri;\n    tag.async = true;\n    tag.onload = () => {\n      resolve();\n    };\n  var firstScriptTag = document.getElementsByTagName('script')[0];\n  firstScriptTag.parentNode.insertBefore(tag, firstScriptTag);\n});\n};\n\nif(typeof $3Dmolpromise === 'undefined') {\n$3Dmolpromise = null;\n  $3Dmolpromise = loadScriptAsync('https://3dmol.org/build/3Dmol.js');\n}\n\nvar viewer_16496689046249838 = null;\nvar warn = document.getElementById(\"3dmolwarning_16496689046249838\");\nif(warn) {\n    warn.parentNode.removeChild(warn);\n}\n$3Dmolpromise.then(function() {\nviewer_16496689046249838 = $3Dmol.createViewer($(\"#3dmolviewer_16496689046249838\"),{backgroundColor:\"white\"});\nviewer_16496689046249838.zoomTo();\n\tviewer_16496689046249838.addModel(\"8\\nInitial geometry\\nC        1.4059000000    0.8128000000    0.0009000000\\nC        1.5654000000   -0.3926000000    0.0009000000\\nN       -1.0383000000    1.0196000000   -0.0052000000\\nH       -2.0386000000    1.4291000000    0.0210000000\\nH        1.3741000000    1.8940000000   -0.0007000000\\nH        1.9546000000   -1.4028000000    0.0003000000\\nN       -0.4958000000   -1.3375000000   -0.0011000000\\nN       -1.1970000000   -0.3166000000    0.0018000000\\n\",\"xyz\");\n\tviewer_16496689046249838.addModel(\"8\\nIteration 9 Energy -237.48730981\\nC        1.2687990140    0.8198482259    0.0024123532\\nC        1.4652286829   -0.3556615967   -0.0016439073\\nN       -0.9625706742    0.9373517016   -0.0080640143\\nH       -1.9119100993    1.3873539839    0.0265832651\\nH        1.2768799142    1.8879461569    0.0046771752\\nH        1.9591653948   -1.3012461760   -0.0048335460\\nN       -0.3997144523   -1.3008164821   -0.0025853684\\nN       -1.1654403884   -0.3717101556    0.0012082555\\n\",\"xyz\");\n\tviewer_16496689046249838.setStyle({\"stick\": {}});\n\tviewer_16496689046249838.zoomTo();\nviewer_16496689046249838.render();\n});\n</script>",
      "text/html": [
       "<div id=\"3dmolviewer_16496689046249838\"  style=\"position: relative; width: 400px; height: 400px\">\n",
       "        <p id=\"3dmolwarning_16496689046249838\" style=\"background-color:#ffcccc;color:black\">You appear to be running in JupyterLab (or JavaScript failed to load for some other reason).  You need to install the 3dmol extension: <br>\n",
       "        <tt>jupyter labextension install jupyterlab_3dmol</tt></p>\n",
       "        </div>\n",
       "<script>\n",
       "\n",
       "var loadScriptAsync = function(uri){\n",
       "  return new Promise((resolve, reject) => {\n",
       "    var tag = document.createElement('script');\n",
       "    tag.src = uri;\n",
       "    tag.async = true;\n",
       "    tag.onload = () => {\n",
       "      resolve();\n",
       "    };\n",
       "  var firstScriptTag = document.getElementsByTagName('script')[0];\n",
       "  firstScriptTag.parentNode.insertBefore(tag, firstScriptTag);\n",
       "});\n",
       "};\n",
       "\n",
       "if(typeof $3Dmolpromise === 'undefined') {\n",
       "$3Dmolpromise = null;\n",
       "  $3Dmolpromise = loadScriptAsync('https://3dmol.org/build/3Dmol.js');\n",
       "}\n",
       "\n",
       "var viewer_16496689046249838 = null;\n",
       "var warn = document.getElementById(\"3dmolwarning_16496689046249838\");\n",
       "if(warn) {\n",
       "    warn.parentNode.removeChild(warn);\n",
       "}\n",
       "$3Dmolpromise.then(function() {\n",
       "viewer_16496689046249838 = $3Dmol.createViewer($(\"#3dmolviewer_16496689046249838\"),{backgroundColor:\"white\"});\n",
       "viewer_16496689046249838.zoomTo();\n",
       "\tviewer_16496689046249838.addModel(\"8\\nInitial geometry\\nC        1.4059000000    0.8128000000    0.0009000000\\nC        1.5654000000   -0.3926000000    0.0009000000\\nN       -1.0383000000    1.0196000000   -0.0052000000\\nH       -2.0386000000    1.4291000000    0.0210000000\\nH        1.3741000000    1.8940000000   -0.0007000000\\nH        1.9546000000   -1.4028000000    0.0003000000\\nN       -0.4958000000   -1.3375000000   -0.0011000000\\nN       -1.1970000000   -0.3166000000    0.0018000000\\n\",\"xyz\");\n",
       "\tviewer_16496689046249838.addModel(\"8\\nIteration 9 Energy -237.48730981\\nC        1.2687990140    0.8198482259    0.0024123532\\nC        1.4652286829   -0.3556615967   -0.0016439073\\nN       -0.9625706742    0.9373517016   -0.0080640143\\nH       -1.9119100993    1.3873539839    0.0265832651\\nH        1.2768799142    1.8879461569    0.0046771752\\nH        1.9591653948   -1.3012461760   -0.0048335460\\nN       -0.3997144523   -1.3008164821   -0.0025853684\\nN       -1.1654403884   -0.3717101556    0.0012082555\\n\",\"xyz\");\n",
       "\tviewer_16496689046249838.setStyle({\"stick\": {}});\n",
       "\tviewer_16496689046249838.zoomTo();\n",
       "viewer_16496689046249838.render();\n",
       "});\n",
       "</script>"
      ]
     },
     "metadata": {},
     "output_type": "display_data"
    }
   ],
   "source": [
    "#Comparision initial and final structure\n",
    "final = '''8\n",
    "Iteration 9 Energy -237.48730981\n",
    "C        1.2687990140    0.8198482259    0.0024123532\n",
    "C        1.4652286829   -0.3556615967   -0.0016439073\n",
    "N       -0.9625706742    0.9373517016   -0.0080640143\n",
    "H       -1.9119100993    1.3873539839    0.0265832651\n",
    "H        1.2768799142    1.8879461569    0.0046771752\n",
    "H        1.9591653948   -1.3012461760   -0.0048335460\n",
    "N       -0.3997144523   -1.3008164821   -0.0025853684\n",
    "N       -1.1654403884   -0.3717101556    0.0012082555\n",
    "'''\n",
    "compXYZGeom(geom_xyz,final)"
   ]
  },
  {
   "cell_type": "markdown",
   "metadata": {},
   "source": [
    "## Calculation of the activation free energy \n",
    "By definition the activation free energy is $\\Delta G^{\\ddag} = G^{\\ddag} - G_{react}$. So we just need to get the free energy of the reactant. Since we have observed that the candidate to TS that we have optimized before is further away than the TS, minimizing that structure will lead to the reactant."
   ]
  },
  {
   "cell_type": "code",
   "execution_count": null,
   "metadata": {},
   "outputs": [],
   "source": [
    "## Going to reactant by minimizing the structure\n",
    "scf_opt_drv = vlx.OptimizationDriver(scf_grad_drv,flag='scf')\n",
    "scf_opt_drv.transition = False ## Will minimize the energy\n",
    "scf_opt_drv.hessian = 'last'\n",
    "scf_opt_drv.compute(geometry,basis)"
   ]
  },
  {
   "cell_type": "markdown",
   "metadata": {},
   "source": [
    "### Comparing reactant and product "
   ]
  },
  {
   "cell_type": "code",
   "execution_count": 21,
   "metadata": {},
   "outputs": [
    {
     "data": {
      "application/3dmoljs_load.v0": "<div id=\"3dmolviewer_16496702359549122\"  style=\"position: relative; width: 400px; height: 400px\">\n        <p id=\"3dmolwarning_16496702359549122\" style=\"background-color:#ffcccc;color:black\">You appear to be running in JupyterLab (or JavaScript failed to load for some other reason).  You need to install the 3dmol extension: <br>\n        <tt>jupyter labextension install jupyterlab_3dmol</tt></p>\n        </div>\n<script>\n\nvar loadScriptAsync = function(uri){\n  return new Promise((resolve, reject) => {\n    var tag = document.createElement('script');\n    tag.src = uri;\n    tag.async = true;\n    tag.onload = () => {\n      resolve();\n    };\n  var firstScriptTag = document.getElementsByTagName('script')[0];\n  firstScriptTag.parentNode.insertBefore(tag, firstScriptTag);\n});\n};\n\nif(typeof $3Dmolpromise === 'undefined') {\n$3Dmolpromise = null;\n  $3Dmolpromise = loadScriptAsync('https://3dmol.org/build/3Dmol.js');\n}\n\nvar viewer_16496702359549122 = null;\nvar warn = document.getElementById(\"3dmolwarning_16496702359549122\");\nif(warn) {\n    warn.parentNode.removeChild(warn);\n}\n$3Dmolpromise.then(function() {\nviewer_16496702359549122 = $3Dmol.createViewer($(\"#3dmolviewer_16496702359549122\"),{backgroundColor:\"white\"});\nviewer_16496702359549122.zoomTo();\n\tviewer_16496702359549122.addModel(\"8\\nIteration 9 Energy -237.48730981\\nC        1.2687990140    0.8198482259    0.0024123532\\nC        1.4652286829   -0.3556615967   -0.0016439073\\nN       -0.9625706742    0.9373517016   -0.0080640143\\nH       -1.9119100993    1.3873539839    0.0265832651\\nH        1.2768799142    1.8879461569    0.0046771752\\nH        1.9591653948   -1.3012461760   -0.0048335460\\nN       -0.3997144523   -1.3008164821   -0.0025853684\\nN       -1.1654403884   -0.3717101556    0.0012082555\\n\",\"xyz\");\n\tviewer_16496702359549122.addModel(\"8\\nIteration 42 Energy -237.52638154 (Optimized Structure)\\n C    1.9112351040    0.1624677572   -0.0006980640\\n C    3.0548281772   -0.0782577796    0.0004981290\\n N   -1.3015267488    0.8281271773    0.0008357891\\n H   -1.8259069457    1.7432222546    0.0231535592\\n H    0.8632242900    0.3826709271   -0.0017612332\\n H    4.0964503076   -0.2975291731    0.0015528206\\n N   -2.9848455585   -0.9798798745   -0.0056716903\\n N   -2.2831586608   -0.0548212877   -0.0000093104\\n\",\"xyz\");\n\tviewer_16496702359549122.setStyle({\"stick\": {}});\n\tviewer_16496702359549122.zoomTo();\nviewer_16496702359549122.render();\n});\n</script>",
      "text/html": [
       "<div id=\"3dmolviewer_16496702359549122\"  style=\"position: relative; width: 400px; height: 400px\">\n",
       "        <p id=\"3dmolwarning_16496702359549122\" style=\"background-color:#ffcccc;color:black\">You appear to be running in JupyterLab (or JavaScript failed to load for some other reason).  You need to install the 3dmol extension: <br>\n",
       "        <tt>jupyter labextension install jupyterlab_3dmol</tt></p>\n",
       "        </div>\n",
       "<script>\n",
       "\n",
       "var loadScriptAsync = function(uri){\n",
       "  return new Promise((resolve, reject) => {\n",
       "    var tag = document.createElement('script');\n",
       "    tag.src = uri;\n",
       "    tag.async = true;\n",
       "    tag.onload = () => {\n",
       "      resolve();\n",
       "    };\n",
       "  var firstScriptTag = document.getElementsByTagName('script')[0];\n",
       "  firstScriptTag.parentNode.insertBefore(tag, firstScriptTag);\n",
       "});\n",
       "};\n",
       "\n",
       "if(typeof $3Dmolpromise === 'undefined') {\n",
       "$3Dmolpromise = null;\n",
       "  $3Dmolpromise = loadScriptAsync('https://3dmol.org/build/3Dmol.js');\n",
       "}\n",
       "\n",
       "var viewer_16496702359549122 = null;\n",
       "var warn = document.getElementById(\"3dmolwarning_16496702359549122\");\n",
       "if(warn) {\n",
       "    warn.parentNode.removeChild(warn);\n",
       "}\n",
       "$3Dmolpromise.then(function() {\n",
       "viewer_16496702359549122 = $3Dmol.createViewer($(\"#3dmolviewer_16496702359549122\"),{backgroundColor:\"white\"});\n",
       "viewer_16496702359549122.zoomTo();\n",
       "\tviewer_16496702359549122.addModel(\"8\\nIteration 9 Energy -237.48730981\\nC        1.2687990140    0.8198482259    0.0024123532\\nC        1.4652286829   -0.3556615967   -0.0016439073\\nN       -0.9625706742    0.9373517016   -0.0080640143\\nH       -1.9119100993    1.3873539839    0.0265832651\\nH        1.2768799142    1.8879461569    0.0046771752\\nH        1.9591653948   -1.3012461760   -0.0048335460\\nN       -0.3997144523   -1.3008164821   -0.0025853684\\nN       -1.1654403884   -0.3717101556    0.0012082555\\n\",\"xyz\");\n",
       "\tviewer_16496702359549122.addModel(\"8\\nIteration 42 Energy -237.52638154 (Optimized Structure)\\n C    1.9112351040    0.1624677572   -0.0006980640\\n C    3.0548281772   -0.0782577796    0.0004981290\\n N   -1.3015267488    0.8281271773    0.0008357891\\n H   -1.8259069457    1.7432222546    0.0231535592\\n H    0.8632242900    0.3826709271   -0.0017612332\\n H    4.0964503076   -0.2975291731    0.0015528206\\n N   -2.9848455585   -0.9798798745   -0.0056716903\\n N   -2.2831586608   -0.0548212877   -0.0000093104\\n\",\"xyz\");\n",
       "\tviewer_16496702359549122.setStyle({\"stick\": {}});\n",
       "\tviewer_16496702359549122.zoomTo();\n",
       "viewer_16496702359549122.render();\n",
       "});\n",
       "</script>"
      ]
     },
     "metadata": {},
     "output_type": "display_data"
    }
   ],
   "source": [
    "reactant = '''8\n",
    "Iteration 42 Energy -237.52638154 (Optimized Structure)\n",
    " C    1.9112351040    0.1624677572   -0.0006980640\n",
    " C    3.0548281772   -0.0782577796    0.0004981290\n",
    " N   -1.3015267488    0.8281271773    0.0008357891\n",
    " H   -1.8259069457    1.7432222546    0.0231535592\n",
    " H    0.8632242900    0.3826709271   -0.0017612332\n",
    " H    4.0964503076   -0.2975291731    0.0015528206\n",
    " N   -2.9848455585   -0.9798798745   -0.0056716903\n",
    " N   -2.2831586608   -0.0548212877   -0.0000093104\n",
    "'''\n",
    "compXYZGeom(final,reactant)"
   ]
  },
  {
   "cell_type": "markdown",
   "metadata": {},
   "source": [
    "Indeed, we can see how see that in the reactant the molecules are further away. <br />\n",
    "From the outputs of the TS and reactant we can get the activation free energy $\\Delta G^{\\ddag}$ that we can relate with TST to estimate the rate of the reaction.<br />\n",
    "<br />\n",
    "From the **vdata_last** files we can get the free energy: <br />\n",
    "```\n",
    "Gibbs Free Energy TS (Harmonic)      : E0 + ZPVE + [H-TS]_T,R,V  =  -237.45871462 au (   -149007.5931 kcal/mol)\n",
    "Gibbs Free Energy Reactant (Harmonic)      : E0 + ZPVE + [H-TS]_T,R,V  =  -237.50434988 au (   -149036.2297 kcal/mol)\n",
    "```\n",
    "So, the activation free energy will be $\\Delta G^{\\ddag} = G^{\\ddag} - G_{react}$"
   ]
  },
  {
   "cell_type": "code",
   "execution_count": 25,
   "metadata": {},
   "outputs": [
    {
     "name": "stdout",
     "output_type": "stream",
     "text": [
      "Activation Free Energy in Kcal/mol is: 28.64\n"
     ]
    }
   ],
   "source": [
    "g_ts = -149007.5931\n",
    "g_reac = -149036.2297\n",
    "delta_g = g_ts-g_reac\n",
    "print('Activation Free Energy in kcal/mol is:',\"%.2f\" % delta_g)"
   ]
  },
  {
   "cell_type": "markdown",
   "metadata": {},
   "source": [
    "Applying Transition State Theory we can estimate the rate with the Eyring equation: <br />\n",
    "$$ k = \\frac{k_B T}{h}exp(\\frac{-\\Delta G^{\\ddag}}{RT}) $$\n",
    "R in kcal/mol K is 1.958e-3 <br />\n",
    "T is 300 K<br />\n",
    "kb in J/K is 1.3806e-23<br />\n",
    "h in J s is 6.6261e-34<br />"
   ]
  },
  {
   "cell_type": "code",
   "execution_count": 26,
   "metadata": {},
   "outputs": [],
   "source": [
    "import numpy as np\n",
    "def rate(delta_g):\n",
    "    k = (1.3806e-23*300/6.6261e-34)* np.exp(-delta_g/(1.958e-3*300))\n",
    "    return k"
   ]
  },
  {
   "cell_type": "code",
   "execution_count": 32,
   "metadata": {},
   "outputs": [
    {
     "name": "stdout",
     "output_type": "stream",
     "text": [
      "The reaction rate is  4.202e-09 s-1\n"
     ]
    }
   ],
   "source": [
    "print('The reaction rate is',\"%10.3e\" % rate(delta_g),'s-1')"
   ]
  },
  {
   "cell_type": "code",
   "execution_count": null,
   "metadata": {},
   "outputs": [],
   "source": []
  }
 ],
 "metadata": {
  "interpreter": {
   "hash": "9dbfa3ecbef10a9f07beb366797374baf8cb43a6dc228b4eca1264f08c27204b"
  },
  "kernelspec": {
   "display_name": "Python 3.8.13 ('tdhf')",
   "language": "python",
   "name": "python3"
  },
  "language_info": {
   "codemirror_mode": {
    "name": "ipython",
    "version": 3
   },
   "file_extension": ".py",
   "mimetype": "text/x-python",
   "name": "python",
   "nbconvert_exporter": "python",
   "pygments_lexer": "ipython3",
   "version": "3.8.13"
  },
  "orig_nbformat": 4
 },
 "nbformat": 4,
 "nbformat_minor": 2
}
