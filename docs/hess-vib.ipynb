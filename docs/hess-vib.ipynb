{
 "cells": [
  {
   "cell_type": "markdown",
   "id": "9d35a667",
   "metadata": {},
   "source": [
    "(hessians:label)=\n",
    "# Hessians and vibrations\n",
    "\n",
    "In order to check whether a stationary point, i.e., a point on the potential energy surface with a vanishing gradient,\n",
    "is a local minimum or not, the second derivatives of the energy with respect to nuclear displacement need to be calculated.\n",
    "This matrix of all possible second derivatives is usually referred to as the **Hessian matrix**.\n",
    "The Hessian can successively be diagonalized to obtain harmonic force constants, __vibrational frequencies__, and __normal modes__.\n",
    "Second derivatives of the energy can, of course, be calculated numerically (which has the same advantages\n",
    "and disadvantages as in the case of the gradient itself), or analytically.\n",
    "In the following, we will describe how the analytical Hessian is calculated at the level of Hartree--Fock (HF) theory,\n",
    "which leads to the _coupled-perturbed_ HF equations.\n",
    "Successively, it is explained how a vibrational analysis is carried out based on the Hessian matrix\n",
    "calculated at an arbitrary level of theory."
   ]
  },
  {
   "cell_type": "code",
   "execution_count": null,
   "id": "2ecce056-5edd-4dfe-8aff-06715f4300e6",
   "metadata": {},
   "outputs": [],
   "source": []
  }
 ],
 "metadata": {
  "kernelspec": {
   "display_name": "Python 3",
   "language": "python",
   "name": "python3"
  },
  "language_info": {
   "codemirror_mode": {
    "name": "ipython",
    "version": 3
   },
   "file_extension": ".py",
   "mimetype": "text/x-python",
   "name": "python",
   "nbconvert_exporter": "python",
   "pygments_lexer": "ipython3",
   "version": "3.8.10"
  }
 },
 "nbformat": 4,
 "nbformat_minor": 5
}
