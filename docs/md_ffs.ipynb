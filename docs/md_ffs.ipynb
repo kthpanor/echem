{
 "cells": [
  {
   "cell_type": "markdown",
   "id": "a7c75a4f",
   "metadata": {},
   "source": [
    "# Force field parameterization\n",
    "\n",
    "There exist several online tools enabling the generation of force-field parameters for a given molecule, e.g., the Automated Topology Builder (ATB) and Repository [cite ATB]. However, the quality of a generated force field must always be checked with respect to QM calculations. Another way to generate an initial force field is to start from a Gaussian calculation and follow the procedure describe in the Amber tutorial[cite amber] to obtain parameters for the General Amber Force Field (GAFF). You will then need to convert your Amber force field to a Gromacs force field using the ACPYPE Python module [cite actype]. For the present exercise, we will use the standard GAFF force field as well as a refined force field where parameters for bonds, angles, and dihedrals have been modified.\n",
    "\n",
    "More to be added.\n"
   ]
  }
 ],
 "metadata": {
  "kernelspec": {
   "display_name": "Python 3 (ipykernel)",
   "language": "python",
   "name": "python3"
  },
  "language_info": {
   "codemirror_mode": {
    "name": "ipython",
    "version": 3
   },
   "file_extension": ".py",
   "mimetype": "text/x-python",
   "name": "python",
   "nbconvert_exporter": "python",
   "pygments_lexer": "ipython3",
   "version": "3.9.12"
  }
 },
 "nbformat": 4,
 "nbformat_minor": 5
}
