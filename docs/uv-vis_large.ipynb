{
 "cells": [
  {
   "cell_type": "markdown",
   "id": "deb4672a",
   "metadata": {},
   "source": [
    "# Larger systems\n",
    "\n",
    "- Cost-saving measures\n",
    "    - Freeze virtuals (AD paper approach)\n"
   ]
  }
 ],
 "metadata": {
  "kernelspec": {
   "display_name": "Python 3 (ipykernel)",
   "language": "python",
   "name": "python3"
  },
  "language_info": {
   "codemirror_mode": {
    "name": "ipython",
    "version": 3
   },
   "file_extension": ".py",
   "mimetype": "text/x-python",
   "name": "python",
   "nbconvert_exporter": "python",
   "pygments_lexer": "ipython3",
   "version": "3.9.12"
  }
 },
 "nbformat": 4,
 "nbformat_minor": 5
}
