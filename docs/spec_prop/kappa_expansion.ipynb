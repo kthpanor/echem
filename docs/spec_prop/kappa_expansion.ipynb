{
 "cells": [
  {
   "cell_type": "markdown",
   "id": "9a152f90-2b36-4506-ae74-30fad08bda7f",
   "metadata": {
    "editable": true,
    "slideshow": {
     "slide_type": ""
    },
    "tags": []
   },
   "source": [
    "# Time-dependence of observables"
   ]
  },
  {
   "cell_type": "markdown",
   "id": "79eca809-e9af-456a-9f81-2dc785149dbf",
   "metadata": {
    "editable": true,
    "slideshow": {
     "slide_type": ""
    },
    "tags": []
   },
   "source": [
    "In time-dependent Hartree–Fock, we are determining the time-dependence of the [orbital rotation parameters](https://kthpanor.github.io/echem/docs/spec_prop/orb_rot.html) (or electron transfer parameters). In spectroscopic applications, this time-dependence arises due to the system being subjected to an external time-dependent electromagnetic field as described by the Hamiltonian\n",
    "\n",
    "$$\n",
    "\\hat{H}(t) = \\hat{H}_0 + \\hat{V}(t)\n",
    "$$\n",
    "\n",
    "where, in response theory, the coupling term, $\\hat{V}(t)$ is treated as a perturbation and expanded in the frequency domain according to\n",
    "\n",
    "$$\n",
    "\\hat{V}(t) = \\sum_\\omega \\hat{V}^\\omega_\\alpha F^\\omega_\\alpha e^{-i \\omega t}\n",
    "$$\n",
    "\n",
    "The sum over $\\omega$ included both positive and negative Fourier components of the field and we have\n",
    "\n",
    "$$\n",
    "\\hat{V}^{-\\omega} = \\Big[ \\hat{V}^{\\omega} \\Big]^\\dagger; \\qquad \n",
    "F^{-\\omega} =\\Big[ F^{\\omega} \\Big]^*\n",
    "$$ \n",
    "\n",
    "There is also an implied Einstein summation over the Cartesian molecular axes $\\alpha=\\{x,y,x\\}$.\n",
    "\n",
    "```{note}\n",
    "In the electric-dipole approximation, the coupling between the system and a monochromatic sinusoidal electric field is given by\n",
    "\n",
    "$$\n",
    "\\hat{V}(t) = -\\hat{\\mu}_\\alpha E^{\\omega_0}_\\alpha \\sin(\\omega_0 t)\n",
    "$$\n",
    "\n",
    "In this case, the summation over $\\omega$ includes two terms namely $\\omega = \\{\\pm\\omega_0\\}$; the coupling operator equals the electric diplole operator; and the field amplitudes are identified as equal to \n",
    "\n",
    "$$\n",
    "F^{\\omega_0} = \\frac{i}{2}\n",
    "E^{\\omega_0}\n",
    "$$\n",
    "```"
   ]
  },
  {
   "cell_type": "markdown",
   "id": "fd983a01-c993-406f-802e-a923f0249188",
   "metadata": {
    "editable": true,
    "slideshow": {
     "slide_type": ""
    },
    "tags": []
   },
   "source": [
    "## Perturbation expansions\n",
    "\n",
    "The time-dependent electron transfer amplitudes are expanded in orders of the perturbation\n",
    "\n",
    "$$\n",
    "    \\kappa_{ai}(t) =\n",
    "    \\kappa_{ai}^{(1)}(t) +\n",
    "    \\kappa_{ai}^{(2)}(t) + \\ldots\n",
    "$$\n",
    "\n",
    "where it has been used that the zeroth-order solution to the phase-isolated wave function is equal to the reference state, or, in other words, $\\kappa_{ai}^{(0)}(t) = 0$.\n",
    "\n",
    "With use of Fourier expansions, we have\n",
    "\n",
    "\\begin{align*}\n",
    "\\kappa_{ai}^{(1)}(t) & = \\sum_\\omega\n",
    "\\kappa_{ai}^{(1)}(\\omega) e^{-i\\omega t} \\\\\n",
    "\\kappa_{ai}^{(2)}(t) & = \\sum_{\\omega_1, \\omega_2}\n",
    "\\kappa_{ai}^{(2)}(\\omega_1, \\omega_2) e^{-i(\\omega_1 + \\omega_2) t} \\\\\n",
    "\\end{align*}\n",
    "\n",
    "*et cetera* for higher orders. The arguments are here used to separate the time-dependent functions from their Fourier amplitudes.\n",
    "\n",
    "The terms in the generator of orbital rotations that are linear in the perturbation can be written\n",
    "\n",
    "\\begin{align*}\n",
    "\\hat{\\kappa}^{(1)}(t) & =\n",
    "\\sum_{a}^\\mathrm{virt} \\sum_{i}^\\mathrm{occ}\n",
    "\\Big[\n",
    "\\kappa^{(1)}_{ai}(t) \\, \\hat{a}^{\\dagger}_a \\hat{a}_i +\n",
    "\\big[\\kappa^{(1)}_{ai}(t)\\big]^\\ast \\, \\hat{a}^{\\dagger}_i \\hat{a}_a\n",
    "\\Big] \\\\\n",
    "& =\n",
    "\\sum_\\omega\n",
    "\\sum_{a}^\\mathrm{virt} \\sum_{i}^\\mathrm{occ}\n",
    "\\Big[\n",
    "\\kappa^{(1)}_{ai}(\\omega) \\, \\hat{a}^{\\dagger}_a \\hat{a}_i +\n",
    "\\big[\\kappa^{(1)}_{ai}(-\\omega)\\big]^\\ast \\, \\hat{a}^{\\dagger}_i \\hat{a}_a\n",
    "\\Big] \n",
    "\\,  e^{-i\\omega t} \\\\\n",
    "& \\equiv\n",
    "\\sum_\\omega\n",
    "\\hat{\\kappa}^{(1)}(\\omega)\n",
    "\\,  e^{-i\\omega t}\n",
    "\\end{align*}\n",
    "\n",
    "where, in the second term, we have made use of the fact that we are free to change sign of the frequency summation variable in the Fourier expansion."
   ]
  },
  {
   "cell_type": "markdown",
   "id": "170fb1e4-b9cc-41de-9fef-3d15e136989f",
   "metadata": {
    "editable": true,
    "slideshow": {
     "slide_type": ""
    },
    "tags": []
   },
   "source": [
    "## Expectation values of observables\n",
    "\n",
    "In time-dependent Hartree–Fock, the expectation value of an observable becomes\n",
    "\n",
    "\\begin{align*}\n",
    "\\langle \\hat{\\Omega} \\rangle & =\n",
    "\\langle \\Psi(t) | \\hat{\\Omega} | \\Psi(t) \\rangle = \n",
    "\\langle \\bar{\\Psi}(t) | \\hat{\\Omega} | \\bar{\\Psi}(t) \\rangle =\n",
    "\\langle 0 | e^{i\\hat{\\kappa}} \\hat{\\Omega} e^{-i\\hat{\\kappa}} | 0 \\rangle \\\\\n",
    "& =\n",
    "\\langle 0 | \\hat{\\Omega} | 0 \\rangle +\n",
    "i \\langle 0 | \\Big[ \\hat{\\kappa}(t), \\hat{\\Omega} \\Big] | 0 \\rangle -\n",
    "\\frac{1}{2}\n",
    "\\langle 0 | \\Big[ \\hat{\\kappa}(t), \\Big[ \\hat{\\kappa}(t), \\hat{\\Omega} \\Big]\\Big] | 0 \\rangle \n",
    "+ \\cdots \n",
    "\\end{align*}\n",
    "\n",
    "where we have made use of the fact that the expectation can equally well be determined with respect to the phase isolated wave function.\n",
    "\n",
    "The contributions to the expectation value that are linear in the perturbation can be written\n",
    "\n",
    "\\begin{align*}\n",
    "\\langle \\hat{\\Omega} \\rangle^{(1)} & =\n",
    "i \\langle 0 | \\Big[ \\hat{\\kappa}^{(1)}(t), \\hat{\\Omega} \\Big] | 0 \\rangle =\n",
    "i \\sum_\\omega\n",
    "\\langle 0 | \n",
    "\\Big[ \\hat{\\kappa}^{(1)}(\\omega), \\, \\hat{\\Omega} \\Big] | 0 \\rangle \n",
    "\\, e^{-i\\omega t}\n",
    "\\end{align*}\n",
    "\n",
    "The MO-representation of the $\\hat{\\kappa}^{(1)}$-operator can be determined from linear response theory {cite}`Norman2018` and calculated with use of the VeloxChem program, and it is thereafter a trivial task to calculate the expectation value of its commutator with the observable $\\hat{\\Omega}$."
   ]
  },
  {
   "cell_type": "markdown",
   "id": "59e265e9-d5aa-4595-9442-4b998c678eaf",
   "metadata": {
    "editable": true,
    "slideshow": {
     "slide_type": ""
    },
    "tags": []
   },
   "source": [
    "## Response functions\n",
    "\n",
    "Response functions are defined from the order expansions of observables. The linear response functions are identified from the expression\n",
    "\n",
    "$$\n",
    "\\langle \\hat{\\Omega} \\rangle^{(1)} =\n",
    "\\sum_\\omega\n",
    "\\langle \\langle \\hat{\\Omega}; \\hat{V}^\\omega_\\alpha \\rangle \\rangle_\\omega\n",
    "\\, F^\\omega_\\alpha\n",
    "\\, e^{-i\\omega t}\n",
    "$$\n",
    "\n",
    "```{note}\n",
    "The tensor components of the electric-dipole polarizability can be determined from linear response functions\n",
    "\n",
    "$$\n",
    "\\alpha_{\\alpha\\beta}(-\\omega;\\omega) =\n",
    "- \\langle \\langle \\hat{\\mu}_\\alpha; \\hat{\\mu}_\\beta \\rangle \\rangle_\\omega\n",
    "$$\n",
    "```"
   ]
  },
  {
   "cell_type": "markdown",
   "id": "e2283fd2-38b7-432a-8db7-cefa29face4b",
   "metadata": {
    "editable": true,
    "slideshow": {
     "slide_type": ""
    },
    "tags": []
   },
   "source": [
    "## Illustration"
   ]
  },
  {
   "cell_type": "markdown",
   "id": "f5b1579a-6092-4a93-8f04-000db6ebd6c4",
   "metadata": {
    "editable": true,
    "slideshow": {
     "slide_type": ""
    },
    "tags": []
   },
   "source": []
  },
  {
   "cell_type": "code",
   "execution_count": 2,
   "id": "f49d40b2-890c-4814-b171-09b0e7d43701",
   "metadata": {
    "editable": true,
    "slideshow": {
     "slide_type": ""
    },
    "tags": [
     "remove-output"
    ]
   },
   "outputs": [
    {
     "name": "stdout",
     "output_type": "stream",
     "text": [
      "* Warning * Environment variable OMP_NUM_THREADS not set.\n",
      "* Warning * Setting OMP_NUM_THREADS to 6.\n"
     ]
    }
   ],
   "source": [
    "import veloxchem as vlx"
   ]
  },
  {
   "cell_type": "code",
   "execution_count": 3,
   "id": "07036e35-0ee0-4dce-affa-3563a5620f37",
   "metadata": {
    "editable": true,
    "slideshow": {
     "slide_type": ""
    },
    "tags": []
   },
   "outputs": [],
   "source": [
    "ethylene_xyz = \"\"\"\n",
    "6\n",
    "\n",
    "C        0.67759997    0.00000000   0.00000000\n",
    "C       -0.67759997    0.00000000   0.00000000\n",
    "H        1.21655197    0.92414474   0.00000000\n",
    "H        1.21655197   -0.92414474   0.00000000\n",
    "H       -1.21655197   -0.92414474   0.00000000\n",
    "H       -1.21655197    0.92414474   0.00000000\n",
    "\"\"\""
   ]
  },
  {
   "cell_type": "code",
   "execution_count": 37,
   "id": "ba5cd004-bbbc-432e-b265-6f8035fac5c3",
   "metadata": {
    "editable": true,
    "slideshow": {
     "slide_type": ""
    },
    "tags": []
   },
   "outputs": [
    {
     "name": "stdout",
     "output_type": "stream",
     "text": [
      "Number of occupied orbitals: 8\n",
      "Number of virtual orbitals : 40\n"
     ]
    }
   ],
   "source": [
    "molecule = vlx.Molecule.read_xyz_string(ethylene_xyz)\n",
    "basis = vlx.MolecularBasis.read(molecule, \"def2-svp\", ostream=None)\n",
    "\n",
    "nocc = molecule.number_of_alpha_electrons()\n",
    "nvirt = basis.get_dimension_of_basis(molecule) - nocc\n",
    "\n",
    "print(\"Number of occupied orbitals:\", nocc)\n",
    "print(\"Number of virtual orbitals :\", nvirt)"
   ]
  },
  {
   "cell_type": "code",
   "execution_count": 5,
   "id": "290e2eb4-0444-45e8-84d2-2e15139e4d1f",
   "metadata": {
    "editable": true,
    "slideshow": {
     "slide_type": ""
    },
    "tags": []
   },
   "outputs": [
    {
     "data": {
      "application/3dmoljs_load.v0": "<div id=\"3dmolviewer_1707075809083634\"  style=\"position: relative; width: 400px; height: 300px;\">\n        <p id=\"3dmolwarning_1707075809083634\" style=\"background-color:#ffcccc;color:black\">You appear to be running in JupyterLab (or JavaScript failed to load for some other reason).  You need to install the 3dmol extension: <br>\n        <tt>jupyter labextension install jupyterlab_3dmol</tt></p>\n        </div>\n<script>\n\nvar loadScriptAsync = function(uri){\n  return new Promise((resolve, reject) => {\n    //this is to ignore the existence of requirejs amd\n    var savedexports, savedmodule;\n    if (typeof exports !== 'undefined') savedexports = exports;\n    else exports = {}\n    if (typeof module !== 'undefined') savedmodule = module;\n    else module = {}\n\n    var tag = document.createElement('script');\n    tag.src = uri;\n    tag.async = true;\n    tag.onload = () => {\n        exports = savedexports;\n        module = savedmodule;\n        resolve();\n    };\n  var firstScriptTag = document.getElementsByTagName('script')[0];\n  firstScriptTag.parentNode.insertBefore(tag, firstScriptTag);\n});\n};\n\nif(typeof $3Dmolpromise === 'undefined') {\n$3Dmolpromise = null;\n  $3Dmolpromise = loadScriptAsync('https://cdnjs.cloudflare.com/ajax/libs/3Dmol/2.0.4/3Dmol-min.js');\n}\n\nvar viewer_1707075809083634 = null;\nvar warn = document.getElementById(\"3dmolwarning_1707075809083634\");\nif(warn) {\n    warn.parentNode.removeChild(warn);\n}\n$3Dmolpromise.then(function() {\nviewer_1707075809083634 = $3Dmol.createViewer(document.getElementById(\"3dmolviewer_1707075809083634\"),{backgroundColor:\"white\"});\nviewer_1707075809083634.zoomTo();\n\tviewer_1707075809083634.addModel(\"6\\n\\nC              0.677599970000         0.000000000000         0.000000000000\\nC             -0.677599970000         0.000000000000         0.000000000000\\nH              1.216551970000         0.924144740000         0.000000000000\\nH              1.216551970000        -0.924144740000         0.000000000000\\nH             -1.216551970000        -0.924144740000         0.000000000000\\nH             -1.216551970000         0.924144740000         0.000000000000\\n\");\n\tviewer_1707075809083634.setViewStyle({\"style\": \"outline\", \"width\": 0.05});\n\tviewer_1707075809083634.setStyle({\"stick\": {}, \"sphere\": {\"scale\": 0.25}});\n\tviewer_1707075809083634.zoomTo();\nviewer_1707075809083634.render();\n});\n</script>",
      "text/html": [
       "<div id=\"3dmolviewer_1707075809083634\"  style=\"position: relative; width: 400px; height: 300px;\">\n",
       "        <p id=\"3dmolwarning_1707075809083634\" style=\"background-color:#ffcccc;color:black\">You appear to be running in JupyterLab (or JavaScript failed to load for some other reason).  You need to install the 3dmol extension: <br>\n",
       "        <tt>jupyter labextension install jupyterlab_3dmol</tt></p>\n",
       "        </div>\n",
       "<script>\n",
       "\n",
       "var loadScriptAsync = function(uri){\n",
       "  return new Promise((resolve, reject) => {\n",
       "    //this is to ignore the existence of requirejs amd\n",
       "    var savedexports, savedmodule;\n",
       "    if (typeof exports !== 'undefined') savedexports = exports;\n",
       "    else exports = {}\n",
       "    if (typeof module !== 'undefined') savedmodule = module;\n",
       "    else module = {}\n",
       "\n",
       "    var tag = document.createElement('script');\n",
       "    tag.src = uri;\n",
       "    tag.async = true;\n",
       "    tag.onload = () => {\n",
       "        exports = savedexports;\n",
       "        module = savedmodule;\n",
       "        resolve();\n",
       "    };\n",
       "  var firstScriptTag = document.getElementsByTagName('script')[0];\n",
       "  firstScriptTag.parentNode.insertBefore(tag, firstScriptTag);\n",
       "});\n",
       "};\n",
       "\n",
       "if(typeof $3Dmolpromise === 'undefined') {\n",
       "$3Dmolpromise = null;\n",
       "  $3Dmolpromise = loadScriptAsync('https://cdnjs.cloudflare.com/ajax/libs/3Dmol/2.0.4/3Dmol-min.js');\n",
       "}\n",
       "\n",
       "var viewer_1707075809083634 = null;\n",
       "var warn = document.getElementById(\"3dmolwarning_1707075809083634\");\n",
       "if(warn) {\n",
       "    warn.parentNode.removeChild(warn);\n",
       "}\n",
       "$3Dmolpromise.then(function() {\n",
       "viewer_1707075809083634 = $3Dmol.createViewer(document.getElementById(\"3dmolviewer_1707075809083634\"),{backgroundColor:\"white\"});\n",
       "viewer_1707075809083634.zoomTo();\n",
       "\tviewer_1707075809083634.addModel(\"6\\n\\nC              0.677599970000         0.000000000000         0.000000000000\\nC             -0.677599970000         0.000000000000         0.000000000000\\nH              1.216551970000         0.924144740000         0.000000000000\\nH              1.216551970000        -0.924144740000         0.000000000000\\nH             -1.216551970000        -0.924144740000         0.000000000000\\nH             -1.216551970000         0.924144740000         0.000000000000\\n\");\n",
       "\tviewer_1707075809083634.setViewStyle({\"style\": \"outline\", \"width\": 0.05});\n",
       "\tviewer_1707075809083634.setStyle({\"stick\": {}, \"sphere\": {\"scale\": 0.25}});\n",
       "\tviewer_1707075809083634.zoomTo();\n",
       "viewer_1707075809083634.render();\n",
       "});\n",
       "</script>"
      ]
     },
     "metadata": {},
     "output_type": "display_data"
    }
   ],
   "source": [
    "molecule.show()"
   ]
  },
  {
   "cell_type": "code",
   "execution_count": 13,
   "id": "fc171688-4e31-473b-be9e-6111a6ff6ac1",
   "metadata": {
    "editable": true,
    "slideshow": {
     "slide_type": ""
    },
    "tags": []
   },
   "outputs": [],
   "source": [
    "scf_drv = vlx.ScfRestrictedDriver()\n",
    "scf_drv.ostream.mute()\n",
    "\n",
    "scf_results = scf_drv.compute(molecule, basis)"
   ]
  },
  {
   "cell_type": "code",
   "execution_count": 109,
   "id": "48578157-8887-4558-86b7-efd72be00001",
   "metadata": {
    "editable": true,
    "slideshow": {
     "slide_type": ""
    },
    "tags": []
   },
   "outputs": [],
   "source": [
    "lrf_drv = vlx.LinearResponseSolver()\n",
    "lrf_drv.ostream.mute()\n",
    "\n",
    "lrf_drv.a_operator = \"electric dipole\"\n",
    "lrf_drv.b_operator = \"electric dipole\"\n",
    "\n",
    "lrf_drv.a_components = [\"x\"]\n",
    "lrf_drv.b_components = [\"x\"]\n",
    "\n",
    "lrf_drv.frequencies = [0.0656]\n",
    "\n",
    "lrf_results = lrf_drv.compute(molecule, basis, scf_results)"
   ]
  },
  {
   "cell_type": "code",
   "execution_count": 110,
   "id": "b46eb773-7ba7-4c10-a7d6-eef5832277f5",
   "metadata": {
    "editable": true,
    "slideshow": {
     "slide_type": ""
    },
    "tags": []
   },
   "outputs": [
    {
     "data": {
      "text/plain": [
       "dict_keys(['a_operator', 'a_components', 'b_operator', 'b_components', 'response_functions', 'solutions'])"
      ]
     },
     "execution_count": 110,
     "metadata": {},
     "output_type": "execute_result"
    }
   ],
   "source": [
    "lrf_results.keys()"
   ]
  },
  {
   "cell_type": "code",
   "execution_count": 111,
   "id": "4e8f92d1-90aa-43ce-9139-b35144627b8f",
   "metadata": {
    "editable": true,
    "slideshow": {
     "slide_type": ""
    },
    "tags": []
   },
   "outputs": [
    {
     "name": "stdout",
     "output_type": "stream",
     "text": [
      "a_operator \n",
      " electric dipole\n",
      "a_components \n",
      " ['x']\n",
      "b_operator \n",
      " electric dipole\n",
      "b_components \n",
      " ['x']\n",
      "response_functions \n",
      " {('x', 'x', 0.0656): -34.84380178137772}\n",
      "solutions \n",
      " {('x', 0.0656): <veloxchem.distributedarray.DistributedArray object at 0x103c7bf90>}\n"
     ]
    }
   ],
   "source": [
    "for key in lrf_results.keys():\n",
    "    print(key, \"\\n\", lrf_results[key])"
   ]
  },
  {
   "cell_type": "code",
   "execution_count": 112,
   "id": "9a9ad75a-c235-4c4a-b9c3-a815c2275a62",
   "metadata": {
    "editable": true,
    "slideshow": {
     "slide_type": ""
    },
    "tags": []
   },
   "outputs": [],
   "source": [
    "Z = 0.5 * (\n",
    "    lrf_results[\"solutions\"][(\"x\", 0.0656)].get_full_vector(0)\n",
    "    + lrf_results[\"solutions\"][(\"x\", 0.0656)].get_full_vector(1)\n",
    ")\n",
    "\n",
    "Y = 0.5 * (\n",
    "    lrf_results[\"solutions\"][(\"x\", 0.0656)].get_full_vector(0)\n",
    "    - lrf_results[\"solutions\"][(\"x\", 0.0656)].get_full_vector(1)\n",
    ")"
   ]
  },
  {
   "cell_type": "code",
   "execution_count": 113,
   "id": "e281e520-81e0-4906-bd1b-b68dc9c9827f",
   "metadata": {
    "editable": true,
    "slideshow": {
     "slide_type": ""
    },
    "tags": []
   },
   "outputs": [
    {
     "data": {
      "text/plain": [
       "numpy.ndarray"
      ]
     },
     "execution_count": 113,
     "metadata": {},
     "output_type": "execute_result"
    }
   ],
   "source": [
    "type(Z)"
   ]
  },
  {
   "cell_type": "code",
   "execution_count": 114,
   "id": "956e81af-35ca-4fcf-b9f3-7adf6267c434",
   "metadata": {
    "editable": true,
    "slideshow": {
     "slide_type": ""
    },
    "tags": []
   },
   "outputs": [
    {
     "data": {
      "text/plain": [
       "(320,)"
      ]
     },
     "execution_count": 114,
     "metadata": {},
     "output_type": "execute_result"
    }
   ],
   "source": [
    "Z.shape"
   ]
  },
  {
   "cell_type": "code",
   "execution_count": 115,
   "id": "3cf056b2-0125-4d23-8c48-140853e2c046",
   "metadata": {
    "editable": true,
    "slideshow": {
     "slide_type": ""
    },
    "tags": []
   },
   "outputs": [],
   "source": [
    "V1 = lrf_drv.get_prop_grad(\"electric_dipole\", \"x\", molecule, basis, scf_drv.scf_tensors)"
   ]
  },
  {
   "cell_type": "code",
   "execution_count": 116,
   "id": "c135d7ba-8126-47e3-9d1f-0875cb131789",
   "metadata": {
    "editable": true,
    "slideshow": {
     "slide_type": ""
    },
    "tags": []
   },
   "outputs": [
    {
     "data": {
      "text/plain": [
       "(640,)"
      ]
     },
     "execution_count": 116,
     "metadata": {},
     "output_type": "execute_result"
    }
   ],
   "source": [
    "V1[0].shape"
   ]
  },
  {
   "cell_type": "code",
   "execution_count": 117,
   "id": "47e9f56f-3521-46d2-b53b-279ddaf60f27",
   "metadata": {
    "editable": true,
    "slideshow": {
     "slide_type": ""
    },
    "tags": []
   },
   "outputs": [],
   "source": [
    "import numpy as np"
   ]
  },
  {
   "cell_type": "code",
   "execution_count": 120,
   "id": "bfb1375e-2721-448d-b618-b5e34b757b30",
   "metadata": {
    "editable": true,
    "slideshow": {
     "slide_type": ""
    },
    "tags": []
   },
   "outputs": [
    {
     "name": "stdout",
     "output_type": "stream",
     "text": [
      "21.12691306882561\n",
      "13.716888712552114\n",
      "34.84380178137772\n"
     ]
    }
   ],
   "source": [
    "print(2 * np.dot(Z, V1[0][:320]))\n",
    "print(2 * np.dot(Y, V1[0][320:]))\n",
    "\n",
    "print(2 * (np.dot(Z, V1[0][:320]) + np.dot(Y, V1[0][320:])))"
   ]
  },
  {
   "cell_type": "code",
   "execution_count": 121,
   "id": "6b7d248e-3033-478d-bd8c-7cde347230c5",
   "metadata": {
    "editable": true,
    "slideshow": {
     "slide_type": ""
    },
    "tags": []
   },
   "outputs": [
    {
     "data": {
      "text/plain": [
       "array([ 1.18397455e-17, -6.56325905e-15,  7.81122477e-16,  1.20237559e-03,\n",
       "        2.18312403e-16, -6.21054181e-04, -7.02839724e-15,  3.17406005e-15,\n",
       "        9.70479649e-17, -5.61918356e-19])"
      ]
     },
     "execution_count": 121,
     "metadata": {},
     "output_type": "execute_result"
    }
   ],
   "source": [
    "Z[:10]"
   ]
  },
  {
   "cell_type": "code",
   "execution_count": 122,
   "id": "33fc6b7e-3f4e-4b62-865d-e637ed27d690",
   "metadata": {
    "editable": true,
    "slideshow": {
     "slide_type": ""
    },
    "tags": []
   },
   "outputs": [
    {
     "data": {
      "text/plain": [
       "array([-5.62653452e-18,  6.87950052e-15, -7.31342017e-16, -1.17610685e-03,\n",
       "       -2.34750329e-16,  7.03822972e-04,  7.69325704e-15, -4.07283284e-15,\n",
       "       -8.52039881e-17,  1.50206875e-18])"
      ]
     },
     "execution_count": 122,
     "metadata": {},
     "output_type": "execute_result"
    }
   ],
   "source": [
    "Y[:10]"
   ]
  },
  {
   "cell_type": "code",
   "execution_count": 123,
   "id": "825332b1-08e6-4037-8507-1e0ac2b38467",
   "metadata": {
    "editable": true,
    "slideshow": {
     "slide_type": ""
    },
    "tags": []
   },
   "outputs": [
    {
     "data": {
      "text/plain": [
       "array([-5.33623440e-17, -1.50770393e-13,  8.40345914e-15,  1.70985304e-02,\n",
       "        7.68593811e-15, -4.25976730e-02, -3.08010555e-13, -4.34593894e-14,\n",
       "        2.16870725e-16, -2.47822604e-16])"
      ]
     },
     "execution_count": 123,
     "metadata": {},
     "output_type": "execute_result"
    }
   ],
   "source": [
    "V1[0][:10]"
   ]
  },
  {
   "cell_type": "code",
   "execution_count": 124,
   "id": "a09b7039-56b3-4471-b977-ffd280f175ee",
   "metadata": {
    "editable": true,
    "slideshow": {
     "slide_type": ""
    },
    "tags": []
   },
   "outputs": [
    {
     "data": {
      "text/plain": [
       "array([ 5.33623440e-17,  1.50893168e-13, -8.45272991e-15, -1.70985304e-02,\n",
       "       -7.47915841e-15,  4.25976730e-02,  3.07953202e-13,  4.34937288e-14,\n",
       "       -2.17987292e-16,  2.47822604e-16])"
      ]
     },
     "execution_count": 124,
     "metadata": {},
     "output_type": "execute_result"
    }
   ],
   "source": [
    "V1[0][320:330]"
   ]
  },
  {
   "cell_type": "code",
   "execution_count": null,
   "id": "fe80befd-2e4e-40ea-ab18-fbe08a85b566",
   "metadata": {
    "editable": true,
    "slideshow": {
     "slide_type": ""
    },
    "tags": []
   },
   "outputs": [],
   "source": []
  }
 ],
 "metadata": {
  "kernelspec": {
   "display_name": "Python 3 (ipykernel)",
   "language": "python",
   "name": "python3"
  },
  "language_info": {
   "codemirror_mode": {
    "name": "ipython",
    "version": 3
   },
   "file_extension": ".py",
   "mimetype": "text/x-python",
   "name": "python",
   "nbconvert_exporter": "python",
   "pygments_lexer": "ipython3",
   "version": "3.11.7"
  }
 },
 "nbformat": 4,
 "nbformat_minor": 5
}
