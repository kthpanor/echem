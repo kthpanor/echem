{
 "cells": [
  {
   "cell_type": "markdown",
   "id": "9a152f90-2b36-4506-ae74-30fad08bda7f",
   "metadata": {
    "editable": true,
    "slideshow": {
     "slide_type": ""
    },
    "tags": []
   },
   "source": [
    "# Time-dependence of observables"
   ]
  },
  {
   "cell_type": "markdown",
   "id": "79eca809-e9af-456a-9f81-2dc785149dbf",
   "metadata": {
    "editable": true,
    "slideshow": {
     "slide_type": ""
    },
    "tags": []
   },
   "source": [
    "In time-dependent Hartree–Fock, we are determining the time-dependence of the [orbital rotation parameters](https://kthpanor.github.io/echem/docs/spec_prop/orb_rot.html) (or electron transfer parameters). In spectroscopic applications, this time-dependence arises due to the system being subjected to an external time-dependent electromagnetic field as described by the Hamiltonian\n",
    "\n",
    "$$\n",
    "\\hat{H}(t) = \\hat{H}_0 + \\hat{V}(t)\n",
    "$$\n",
    "\n",
    "where, in response theory, the coupling term, $\\hat{V}(t)$, is treated as a perturbation and expanded in the frequency domain according to\n",
    "\n",
    "$$\n",
    "\\hat{V}(t) = \\sum_\\omega \\hat{V}^\\omega_\\alpha F^\\omega_\\alpha e^{-i \\omega t}\n",
    "$$\n",
    "\n",
    "The sum over $\\omega$ includes both positive and negative Fourier components of the field and we have\n",
    "\n",
    "$$\n",
    "\\hat{V}^{-\\omega}_\\alpha = \\Big[ \\hat{V}^{\\omega}_\\alpha \\Big]^\\dagger; \\qquad \n",
    "F^{-\\omega}_\\alpha =\\Big[ F^{\\omega}_\\alpha \\Big]^*\n",
    "$$ \n",
    "\n",
    "There is also an implied Einstein summation over the Cartesian molecular axes $\\alpha=\\{x,y,z\\}$.\n",
    "\n",
    "```{admonition} Representing a monochromatic electric field\n",
    ":class: tip\n",
    "In the electric-dipole approximation, the coupling between the system and a monochromatic sinusoidal electric field is given by\n",
    "\n",
    "$$\n",
    "\\hat{V}(t) = -\\hat{\\mu}_\\alpha E^{\\omega_0}_\\alpha \\sin(\\omega_0 t)\n",
    "$$\n",
    "\n",
    "In this case, the summation over $\\omega$ includes two terms namely $\\omega = \\{\\pm\\omega_0\\}$, and we have\n",
    "\n",
    "$$\n",
    "\\hat{V}^{\\omega_0}_\\alpha = -\\hat{\\mu}_\\alpha; \\qquad F^{\\omega_0}_\\alpha = \\frac{1}{2i} E^{\\omega_0}_\\alpha\n",
    "$$\n",
    "```"
   ]
  },
  {
   "cell_type": "markdown",
   "id": "fd983a01-c993-406f-802e-a923f0249188",
   "metadata": {
    "editable": true,
    "slideshow": {
     "slide_type": ""
    },
    "tags": []
   },
   "source": [
    "## Perturbation expansions\n",
    "\n",
    "The time-dependent electron transfer amplitudes are expanded in orders of the perturbation\n",
    "\n",
    "$$\n",
    "    \\kappa_{ai}(t) =\n",
    "    \\kappa_{ai}^{(1)}(t) +\n",
    "    \\kappa_{ai}^{(2)}(t) + \\ldots\n",
    "$$\n",
    "\n",
    "where it has been used that the zeroth-order solution to the phase-isolated wave function is equal to the reference state, or, in other words, $\\kappa_{ai}^{(0)}(t) = 0$.\n",
    "\n",
    "With use of Fourier expansions, we have\n",
    "\n",
    "\\begin{align*}\n",
    "\\kappa_{ai}^{(1)}(t) & = \\sum_\\omega\n",
    "\\kappa_{ai}^{(1)}(\\omega) e^{-i\\omega t} \\\\\n",
    "\\kappa_{ai}^{(2)}(t) & = \\sum_{\\omega_1, \\omega_2}\n",
    "\\kappa_{ai}^{(2)}(\\omega_1, \\omega_2) e^{-i(\\omega_1 + \\omega_2) t} \\\\\n",
    "\\end{align*}\n",
    "\n",
    "*et cetera* for higher orders. The arguments are here used to separate the time-dependent functions from their Fourier amplitudes.\n",
    "\n",
    "The terms in the generator of orbital rotations that are linear in the perturbation can be written\n",
    "\n",
    "\\begin{align*}\n",
    "\\hat{\\kappa}^{(1)}(t) & =\n",
    "\\sum_{a}^\\mathrm{virt} \\sum_{i}^\\mathrm{occ}\n",
    "\\Big[\n",
    "\\kappa^{(1)}_{ai}(t) \\, \\hat{a}^{\\dagger}_a \\hat{a}_i +\n",
    "\\big[\\kappa^{(1)}_{ai}(t)\\big]^\\ast \\, \\hat{a}^{\\dagger}_i \\hat{a}_a\n",
    "\\Big] \\\\\n",
    "& =\n",
    "\\sum_\\omega\n",
    "\\sum_{a}^\\mathrm{virt} \\sum_{i}^\\mathrm{occ}\n",
    "\\Big[\n",
    "\\kappa^{(1)}_{ai}(\\omega) \\, \\hat{a}^{\\dagger}_a \\hat{a}_i +\n",
    "\\big[\\kappa^{(1)}_{ai}(-\\omega)\\big]^\\ast \\, \\hat{a}^{\\dagger}_i \\hat{a}_a\n",
    "\\Big] \n",
    "\\,  e^{-i\\omega t} \\\\\n",
    "& \\equiv\n",
    "\\sum_\\omega\n",
    "\\hat{\\kappa}^{(1)}(\\omega)\n",
    "\\,  e^{-i\\omega t}\n",
    "\\end{align*}\n",
    "\n",
    "where, in the second term, we have made use of the fact that we are free to change sign of the frequency summation variable in the Fourier expansion."
   ]
  },
  {
   "cell_type": "markdown",
   "id": "68596737-7227-4579-b3dc-0d1048e09846",
   "metadata": {
    "editable": true,
    "slideshow": {
     "slide_type": ""
    },
    "tags": []
   },
   "source": [
    "```{admonition} Spin-adapted electron transfer operators\n",
    "With use of spin-adapted electron transfer operators, we get\n",
    "\n",
    "\\begin{align*}\n",
    "\\hat{\\kappa}^{(1)}(\\omega) & =\n",
    "\\sum_{a}^\\mathrm{virt} \\sum_{i}^\\mathrm{occ}\n",
    "\\Big[\n",
    "\\kappa^{(1)}_{ai}(\\omega) \\, \\hat{E}^{\\dagger}_{ai} +\n",
    "\\big[\\kappa^{(1)}_{ai}(-\\omega)\\big]^\\ast \\, \\hat{E}^{\\dagger}_{ia}\n",
    "\\Big] \\\\\n",
    "\\hat{E}^{\\dagger}_{pq} & =\n",
    "\\hat{a}^{\\dagger}_{p\\alpha} \\hat{a}_{q\\alpha} + \\hat{a}^{\\dagger}_{p\\beta} \\hat{a}_{q\\beta}\n",
    "\\end{align*}\n",
    "\n",
    "where summations run over molecular orbitals.\n",
    "```"
   ]
  },
  {
   "cell_type": "markdown",
   "id": "170fb1e4-b9cc-41de-9fef-3d15e136989f",
   "metadata": {
    "editable": true,
    "slideshow": {
     "slide_type": ""
    },
    "tags": []
   },
   "source": [
    "## Expectation values of observables\n",
    "\n",
    "In time-dependent Hartree–Fock, the expectation value of an observable becomes\n",
    "\n",
    "\\begin{align*}\n",
    "\\langle \\hat{\\Omega} \\rangle(t) & =\n",
    "\\langle \\Psi(t) | \\hat{\\Omega} | \\Psi(t) \\rangle = \n",
    "\\langle \\bar{\\Psi}(t) | \\hat{\\Omega} | \\bar{\\Psi}(t) \\rangle =\n",
    "\\langle 0 | e^{i\\hat{\\kappa}} \\hat{\\Omega} e^{-i\\hat{\\kappa}} | 0 \\rangle \\\\\n",
    "& =\n",
    "\\langle 0 | \\hat{\\Omega} | 0 \\rangle +\n",
    "i \\langle 0 | \\Big[ \\hat{\\kappa}(t), \\hat{\\Omega} \\Big] | 0 \\rangle -\n",
    "\\frac{1}{2}\n",
    "\\langle 0 | \\Big[ \\hat{\\kappa}(t), \\Big[ \\hat{\\kappa}(t), \\hat{\\Omega} \\Big]\\Big] | 0 \\rangle \n",
    "+ \\cdots \n",
    "\\end{align*}\n",
    "\n",
    "where we have made use of the fact that the expectation value can equally well be determined with respect to the phase isolated wave function.\n",
    "\n",
    "The contributions to the expectation value that are linear in the perturbation can be written\n",
    "\n",
    "\\begin{align*}\n",
    "\\langle \\hat{\\Omega} \\rangle^{(1)}(t) & =\n",
    "i \\langle 0 | \\Big[ \\hat{\\kappa}^{(1)}(t), \\hat{\\Omega} \\Big] | 0 \\rangle =\n",
    "i \\sum_\\omega\n",
    "\\langle 0 | \n",
    "\\Big[ \\hat{\\kappa}^{(1)}(\\omega), \\, \\hat{\\Omega} \\Big] | 0 \\rangle \n",
    "\\, e^{-i\\omega t}\n",
    "\\equiv \n",
    "\\sum_\\omega\n",
    "\\langle \\hat{\\Omega} \\rangle^{(1)}(\\omega)\n",
    "\\, e^{-i\\omega t}\n",
    "\\end{align*}\n",
    "\n",
    "The MO-representation of the $\\hat{\\kappa}^{(1)}$-operator can be determined from linear response theory {cite}`Norman2018` and calculated with use of the VeloxChem program, and it is thereafter a trivial task to calculate the expectation value of its commutator with the observable $\\hat{\\Omega}$.\n",
    "\n",
    "The factor \"$i$\" multiplying the expectation value is typically suppressed in intermediate steps of the calculations as to return at a point of convenience."
   ]
  },
  {
   "cell_type": "markdown",
   "id": "59e265e9-d5aa-4595-9442-4b998c678eaf",
   "metadata": {
    "editable": true,
    "slideshow": {
     "slide_type": ""
    },
    "tags": []
   },
   "source": [
    "## Response functions\n",
    "\n",
    "Response functions are defined from the order expansions of observables. The linear response functions are identified from the expression\n",
    "\n",
    "$$\n",
    "\\langle \\hat{\\Omega} \\rangle^{(1)}(\\omega) =\n",
    "\\langle \\langle \\hat{\\Omega}; \\hat{V}^\\omega_\\alpha \\rangle \\rangle_\\omega\n",
    "\\, F^\\omega_\\alpha\n",
    "$$\n",
    "\n",
    "As an example, the tensor components of the electric-dipole polarizability can be determined as follows\n",
    "\n",
    "$$\n",
    "\\alpha_{\\alpha\\beta}(-\\omega;\\omega) =\n",
    "- \\langle \\langle \\hat{\\mu}_\\alpha; \\hat{\\mu}_\\beta \\rangle \\rangle_\\omega\n",
    "$$"
   ]
  },
  {
   "cell_type": "markdown",
   "id": "e2283fd2-38b7-432a-8db7-cefa29face4b",
   "metadata": {
    "editable": true,
    "slideshow": {
     "slide_type": ""
    },
    "tags": []
   },
   "source": [
    "## Illustration"
   ]
  },
  {
   "cell_type": "code",
   "execution_count": 1,
   "id": "f49d40b2-890c-4814-b171-09b0e7d43701",
   "metadata": {
    "editable": true,
    "slideshow": {
     "slide_type": ""
    },
    "tags": [
     "remove-output"
    ]
   },
   "outputs": [
    {
     "name": "stdout",
     "output_type": "stream",
     "text": [
      "* Warning * Environment variable OMP_NUM_THREADS not set.\n",
      "* Warning * Setting OMP_NUM_THREADS to 6.\n"
     ]
    }
   ],
   "source": [
    "import numpy as np\n",
    "import veloxchem as vlx"
   ]
  },
  {
   "cell_type": "code",
   "execution_count": 2,
   "id": "07036e35-0ee0-4dce-affa-3563a5620f37",
   "metadata": {
    "editable": true,
    "slideshow": {
     "slide_type": ""
    },
    "tags": []
   },
   "outputs": [],
   "source": [
    "ethylene_xyz = \"\"\"\n",
    "6\n",
    "\n",
    "C        0.67759997    0.00000000   0.00000000\n",
    "C       -0.67759997    0.00000000   0.00000000\n",
    "H        1.21655197    0.92414474   0.00000000\n",
    "H        1.21655197   -0.92414474   0.00000000\n",
    "H       -1.21655197   -0.92414474   0.00000000\n",
    "H       -1.21655197    0.92414474   0.00000000\n",
    "\"\"\""
   ]
  },
  {
   "cell_type": "code",
   "execution_count": 3,
   "id": "ba5cd004-bbbc-432e-b265-6f8035fac5c3",
   "metadata": {
    "editable": true,
    "slideshow": {
     "slide_type": ""
    },
    "tags": []
   },
   "outputs": [
    {
     "name": "stdout",
     "output_type": "stream",
     "text": [
      "Number of occupied orbitals : 8\n",
      "Number of virtual orbitals  : 40\n",
      "Number of molecular orbitals: 48\n"
     ]
    }
   ],
   "source": [
    "molecule = vlx.Molecule.read_xyz_string(ethylene_xyz)\n",
    "basis = vlx.MolecularBasis.read(molecule, \"def2-svp\", ostream=None)\n",
    "\n",
    "nocc = molecule.number_of_alpha_electrons()\n",
    "norb = basis.get_dimension_of_basis()\n",
    "nvirt = norb - nocc\n",
    "\n",
    "print(\"Number of occupied orbitals :\", nocc)\n",
    "print(\"Number of virtual orbitals  :\", nvirt)\n",
    "print(\"Number of molecular orbitals:\", norb)"
   ]
  },
  {
   "cell_type": "code",
   "execution_count": 4,
   "id": "290e2eb4-0444-45e8-84d2-2e15139e4d1f",
   "metadata": {
    "editable": true,
    "slideshow": {
     "slide_type": ""
    },
    "tags": []
   },
   "outputs": [
    {
     "data": {
      "application/3dmoljs_load.v0": "<div id=\"3dmolviewer_1707556830606132\"  style=\"position: relative; width: 400px; height: 300px;\">\n        <p id=\"3dmolwarning_1707556830606132\" style=\"background-color:#ffcccc;color:black\">You appear to be running in JupyterLab (or JavaScript failed to load for some other reason).  You need to install the 3dmol extension: <br>\n        <tt>jupyter labextension install jupyterlab_3dmol</tt></p>\n        </div>\n<script>\n\nvar loadScriptAsync = function(uri){\n  return new Promise((resolve, reject) => {\n    //this is to ignore the existence of requirejs amd\n    var savedexports, savedmodule;\n    if (typeof exports !== 'undefined') savedexports = exports;\n    else exports = {}\n    if (typeof module !== 'undefined') savedmodule = module;\n    else module = {}\n\n    var tag = document.createElement('script');\n    tag.src = uri;\n    tag.async = true;\n    tag.onload = () => {\n        exports = savedexports;\n        module = savedmodule;\n        resolve();\n    };\n  var firstScriptTag = document.getElementsByTagName('script')[0];\n  firstScriptTag.parentNode.insertBefore(tag, firstScriptTag);\n});\n};\n\nif(typeof $3Dmolpromise === 'undefined') {\n$3Dmolpromise = null;\n  $3Dmolpromise = loadScriptAsync('https://cdnjs.cloudflare.com/ajax/libs/3Dmol/2.0.4/3Dmol-min.js');\n}\n\nvar viewer_1707556830606132 = null;\nvar warn = document.getElementById(\"3dmolwarning_1707556830606132\");\nif(warn) {\n    warn.parentNode.removeChild(warn);\n}\n$3Dmolpromise.then(function() {\nviewer_1707556830606132 = $3Dmol.createViewer(document.getElementById(\"3dmolviewer_1707556830606132\"),{backgroundColor:\"white\"});\nviewer_1707556830606132.zoomTo();\n\tviewer_1707556830606132.addModel(\"6\\n\\nC              0.677599970000         0.000000000000         0.000000000000\\nC             -0.677599970000         0.000000000000         0.000000000000\\nH              1.216551970000         0.924144740000         0.000000000000\\nH              1.216551970000        -0.924144740000         0.000000000000\\nH             -1.216551970000        -0.924144740000         0.000000000000\\nH             -1.216551970000         0.924144740000         0.000000000000\\n\");\n\tviewer_1707556830606132.setViewStyle({\"style\": \"outline\", \"width\": 0.05});\n\tviewer_1707556830606132.setStyle({\"stick\": {}, \"sphere\": {\"scale\": 0.25}});\n\tviewer_1707556830606132.zoomTo();\nviewer_1707556830606132.render();\n});\n</script>",
      "text/html": [
       "<div id=\"3dmolviewer_1707556830606132\"  style=\"position: relative; width: 400px; height: 300px;\">\n",
       "        <p id=\"3dmolwarning_1707556830606132\" style=\"background-color:#ffcccc;color:black\">You appear to be running in JupyterLab (or JavaScript failed to load for some other reason).  You need to install the 3dmol extension: <br>\n",
       "        <tt>jupyter labextension install jupyterlab_3dmol</tt></p>\n",
       "        </div>\n",
       "<script>\n",
       "\n",
       "var loadScriptAsync = function(uri){\n",
       "  return new Promise((resolve, reject) => {\n",
       "    //this is to ignore the existence of requirejs amd\n",
       "    var savedexports, savedmodule;\n",
       "    if (typeof exports !== 'undefined') savedexports = exports;\n",
       "    else exports = {}\n",
       "    if (typeof module !== 'undefined') savedmodule = module;\n",
       "    else module = {}\n",
       "\n",
       "    var tag = document.createElement('script');\n",
       "    tag.src = uri;\n",
       "    tag.async = true;\n",
       "    tag.onload = () => {\n",
       "        exports = savedexports;\n",
       "        module = savedmodule;\n",
       "        resolve();\n",
       "    };\n",
       "  var firstScriptTag = document.getElementsByTagName('script')[0];\n",
       "  firstScriptTag.parentNode.insertBefore(tag, firstScriptTag);\n",
       "});\n",
       "};\n",
       "\n",
       "if(typeof $3Dmolpromise === 'undefined') {\n",
       "$3Dmolpromise = null;\n",
       "  $3Dmolpromise = loadScriptAsync('https://cdnjs.cloudflare.com/ajax/libs/3Dmol/2.0.4/3Dmol-min.js');\n",
       "}\n",
       "\n",
       "var viewer_1707556830606132 = null;\n",
       "var warn = document.getElementById(\"3dmolwarning_1707556830606132\");\n",
       "if(warn) {\n",
       "    warn.parentNode.removeChild(warn);\n",
       "}\n",
       "$3Dmolpromise.then(function() {\n",
       "viewer_1707556830606132 = $3Dmol.createViewer(document.getElementById(\"3dmolviewer_1707556830606132\"),{backgroundColor:\"white\"});\n",
       "viewer_1707556830606132.zoomTo();\n",
       "\tviewer_1707556830606132.addModel(\"6\\n\\nC              0.677599970000         0.000000000000         0.000000000000\\nC             -0.677599970000         0.000000000000         0.000000000000\\nH              1.216551970000         0.924144740000         0.000000000000\\nH              1.216551970000        -0.924144740000         0.000000000000\\nH             -1.216551970000        -0.924144740000         0.000000000000\\nH             -1.216551970000         0.924144740000         0.000000000000\\n\");\n",
       "\tviewer_1707556830606132.setViewStyle({\"style\": \"outline\", \"width\": 0.05});\n",
       "\tviewer_1707556830606132.setStyle({\"stick\": {}, \"sphere\": {\"scale\": 0.25}});\n",
       "\tviewer_1707556830606132.zoomTo();\n",
       "viewer_1707556830606132.render();\n",
       "});\n",
       "</script>"
      ]
     },
     "metadata": {},
     "output_type": "display_data"
    }
   ],
   "source": [
    "molecule.show()"
   ]
  },
  {
   "cell_type": "markdown",
   "id": "7cee2125-2daf-435b-af25-6f1a731e9551",
   "metadata": {},
   "source": [
    "This system is subjected to an electric field along the $x$-direction with a angular frequency of $\\omega = 0.0656$ a.u. and an amplitude $F^\\omega_x$. \n",
    "\n",
    "Within the electric-dipole approximation the perturbation operator is in this case given by\n",
    "\n",
    "$$\n",
    "\\hat{V}^\\omega = -\\hat{\\mu}_x F_x^\\omega\n",
    "$$\n",
    "\n",
    "and we will be concerned with the determination of the induced dipole moment along the C–C bond axis associated with the expectation value of the operator\n",
    "\n",
    "$$\n",
    "\\hat{\\Omega} = \\hat{\\mu}_x\n",
    "$$"
   ]
  },
  {
   "cell_type": "markdown",
   "id": "d5c770bd-4d57-4db7-ab8a-d33842c24e4e",
   "metadata": {},
   "source": [
    "First, we determine the Hartree–Fock reference state."
   ]
  },
  {
   "cell_type": "code",
   "execution_count": 5,
   "id": "fc171688-4e31-473b-be9e-6111a6ff6ac1",
   "metadata": {
    "editable": true,
    "slideshow": {
     "slide_type": ""
    },
    "tags": []
   },
   "outputs": [],
   "source": [
    "scf_drv = vlx.ScfRestrictedDriver()\n",
    "scf_drv.ostream.mute()\n",
    "\n",
    "scf_results = scf_drv.compute(molecule, basis)"
   ]
  },
  {
   "cell_type": "markdown",
   "id": "0781cada-72f4-4720-945f-a05f9a8ba1d4",
   "metadata": {},
   "source": [
    "Second, we get the MO representation of the operator $\\hat{\\Omega}$."
   ]
  },
  {
   "cell_type": "code",
   "execution_count": 6,
   "id": "837b9718-0e06-4d59-9cae-e784942359cf",
   "metadata": {
    "editable": true,
    "slideshow": {
     "slide_type": ""
    },
    "tags": []
   },
   "outputs": [],
   "source": [
    "dipole_drv = vlx.ElectricDipoleIntegralsDriver()\n",
    "dipole_mats = dipole_drv.compute(molecule, basis)\n",
    "\n",
    "mu_x_ao = -1.0 * dipole_mats.x_to_numpy()\n",
    "\n",
    "C = scf_results[\"C_alpha\"]\n",
    "\n",
    "mu_x = np.einsum(\"ap, ab, bq -> pq\", C, mu_x_ao, C)"
   ]
  },
  {
   "cell_type": "markdown",
   "id": "770513a1-85b6-4cd9-b40c-913ea442ed32",
   "metadata": {},
   "source": [
    "Third, we determine the linear response parameters."
   ]
  },
  {
   "cell_type": "code",
   "execution_count": 7,
   "id": "48578157-8887-4558-86b7-efd72be00001",
   "metadata": {
    "editable": true,
    "slideshow": {
     "slide_type": ""
    },
    "tags": []
   },
   "outputs": [],
   "source": [
    "lrf_drv = vlx.LinearResponseSolver()\n",
    "lrf_drv.ostream.mute()\n",
    "\n",
    "lrf_drv.a_operator = \"electric dipole\"\n",
    "lrf_drv.b_operator = \"electric dipole\"\n",
    "\n",
    "lrf_drv.a_components = [\"x\"]\n",
    "lrf_drv.b_components = [\"x\"]\n",
    "\n",
    "lrf_drv.frequencies = [0.0656]\n",
    "\n",
    "lrf_results = lrf_drv.compute(molecule, basis, scf_results)"
   ]
  },
  {
   "cell_type": "markdown",
   "id": "41a3a8e5-a9f4-4b86-82cf-8ea417e3fddd",
   "metadata": {
    "editable": true,
    "slideshow": {
     "slide_type": ""
    },
    "tags": []
   },
   "source": [
    "In VeloxChem, the resulting linear response parameters are structured into 1D-arrays known as *response vectors*\n",
    "\n",
    "$$\n",
    "\\mathbf{N}^\\alpha(\\omega) =\n",
    "\\begin{pmatrix}\n",
    "\\mathbf{Z}^{\\alpha; \\omega} \\\\ \\mathbf{Y}^{\\alpha; \\omega}\n",
    "\\end{pmatrix}\n",
    "$$\n",
    "\n",
    "The response vectors depend on the angular frequency, $\\omega$, and they associated with separate Cartesian axes, $\\alpha$. The elements of the response vector relate to the wave function parameters\n",
    "\n",
    "$$\n",
    "\\kappa_{ai}^{(1)}(\\omega) = i Z_{ai}^{\\alpha; \\omega} F^\\omega_\\alpha ; \\qquad \n",
    "\\kappa_{ia}^{(1)}(-\\omega) = i Y_{ia}^{\\alpha; \\omega} F^{-\\omega}_\\alpha \n",
    "$$\n",
    "\n",
    "where \"$ai$\" and \"$ia$\" are thought of as MO-matrix indices for the $\\kappa$-parameters but compound vector indices in the 1D-arrays. Here appears a factor of \"$i$\" that combined with the aforementioned one give an overall factor of -1 in the final result. \n",
    "\n",
    "(spin_adapted_excitation_operators)=\n",
    "\n",
    "```{admonition} Spin-adapted electron transfer operators in VeloxChem\n",
    ":class: important\n",
    "In VeloxChem, normalzed spin-adapted electron transfer operators are adopted\n",
    "\n",
    "$$\n",
    "\\hat{E}_{pq} =\n",
    "\\frac{1}{\\sqrt{2}}\n",
    "\\Big[\n",
    "\\hat{a}^{\\dagger}_{p\\alpha} \\hat{a}_{q\\alpha} + \\hat{a}^{\\dagger}_{p\\beta} \\hat{a}_{q\\beta}\n",
    "\\Big]\n",
    "$$\n",
    "\n",
    "Among other things, with this choice the diagonal elements in the electronic Hessian will be close to orbital energy differences and not two times these values. Whatever the choice, final results will be identical as long as it is implemented in a consistent manner.\n",
    "```\n",
    "\n",
    "Response vectors are obtained from VeloxChem with use of the `get_full_vector(index)` method, where indices of \"$0$\" and \"$1$\" will instruct the method to return vectors $(\\mathbf{Z} + \\mathbf{Y})$ and $(\\mathbf{Z} - \\mathbf{Y})$, respectively."
   ]
  },
  {
   "cell_type": "code",
   "execution_count": 24,
   "id": "9a9ad75a-c235-4c4a-b9c3-a815c2275a62",
   "metadata": {
    "editable": true,
    "slideshow": {
     "slide_type": ""
    },
    "tags": []
   },
   "outputs": [],
   "source": [
    "Z = -0.5 * (\n",
    "    lrf_results[\"solutions\"][(\"x\", 0.0656)].get_full_vector(0)\n",
    "    + lrf_results[\"solutions\"][(\"x\", 0.0656)].get_full_vector(1)\n",
    ") * np.sqrt(2)\n",
    "\n",
    "Y = -0.5 * (\n",
    "    lrf_results[\"solutions\"][(\"x\", 0.0656)].get_full_vector(0)\n",
    "    - lrf_results[\"solutions\"][(\"x\", 0.0656)].get_full_vector(1)\n",
    ") * np.sqrt(2)"
   ]
  },
  {
   "cell_type": "markdown",
   "id": "d6cb48ba-8605-4d05-98bd-c7320bc978c4",
   "metadata": {},
   "source": [
    "A factor of -1 has here been introduced in recognition of the fact that the perturbation operator is equal to *minus* the electric dipole operator and the factor of $\\sqrt{2}$ is associated with the aforementioned normalization of electron transfer operators.\n",
    "\n",
    "We scatter the response parameters into an MO-matrix."
   ]
  },
  {
   "cell_type": "code",
   "execution_count": 25,
   "id": "e281e520-81e0-4906-bd1b-b68dc9c9827f",
   "metadata": {
    "editable": true,
    "slideshow": {
     "slide_type": ""
    },
    "tags": []
   },
   "outputs": [],
   "source": [
    "def vector_to_matrix(Z, Y):\n",
    "\n",
    "    zymat = np.zeros((norb, norb), dtype=float)\n",
    "\n",
    "    idx = 0\n",
    "    for i in range(nocc):\n",
    "        for a in range(nocc, norb):\n",
    "            zymat[a, i] = Z[idx]\n",
    "            zymat[i, a] = Y[idx]\n",
    "            idx += 1\n",
    "\n",
    "    return zymat"
   ]
  },
  {
   "cell_type": "code",
   "execution_count": 26,
   "id": "956e81af-35ca-4fcf-b9f3-7adf6267c434",
   "metadata": {
    "editable": true,
    "slideshow": {
     "slide_type": ""
    },
    "tags": []
   },
   "outputs": [],
   "source": [
    "zymat = vector_to_matrix(Z, Y)"
   ]
  },
  {
   "cell_type": "markdown",
   "id": "f5c706ac-549a-4e35-af0c-df69ee54b086",
   "metadata": {},
   "source": [
    "Fourth, we determine the expectation value of the commutator between $\\hat{\\kappa}^{(1)}(\\omega)$ and $\\hat{\\Omega}$ to determine the electric-dipole polarizability\n",
    "\n",
    "$$\n",
    "\\alpha_{xx}(-\\omega;\\omega) = \\langle \\hat{\\Omega} \\rangle^{(1)}(\\omega) / F^\\omega_x\n",
    "$$"
   ]
  },
  {
   "cell_type": "code",
   "execution_count": 27,
   "id": "a7b3acc8-e465-4ad7-bd01-ebc6b38b54c8",
   "metadata": {},
   "outputs": [],
   "source": [
    "def commutator(A, B):\n",
    "\n",
    "    return np.matmul(A, B) - np.matmul(B, A)"
   ]
  },
  {
   "cell_type": "code",
   "execution_count": 28,
   "id": "55c9aea0-cfd5-4112-bf9e-40def01bee81",
   "metadata": {},
   "outputs": [],
   "source": [
    "def expectation_value(A):  # closed shell state\n",
    "\n",
    "    return 2 * np.einsum(\"ii ->\", A[:nocc, :nocc])"
   ]
  },
  {
   "cell_type": "code",
   "execution_count": 29,
   "id": "5244625d-1c78-4a3b-bfae-46af2526ab79",
   "metadata": {},
   "outputs": [],
   "source": [
    "alpha_xx = - expectation_value(commutator(zymat, mu_x))"
   ]
  },
  {
   "cell_type": "markdown",
   "id": "483d0771-8484-4443-9981-0e63e408800d",
   "metadata": {},
   "source": [
    "We note that the factor of -1 comes from the left out factor of $i^2$."
   ]
  },
  {
   "cell_type": "code",
   "execution_count": 30,
   "id": "891a174a-0b61-43e0-8135-45c8bb5fa551",
   "metadata": {},
   "outputs": [
    {
     "name": "stdout",
     "output_type": "stream",
     "text": [
      "Polarizability:  34.84380178\n"
     ]
    }
   ],
   "source": [
    "print(f\"Polarizability: {alpha_xx:12.8f}\")"
   ]
  },
  {
   "cell_type": "markdown",
   "id": "199b14ce-2cf3-4df9-9ce8-3677d16776a7",
   "metadata": {},
   "source": [
    "We compare our result with the reference value from VeloxChem."
   ]
  },
  {
   "cell_type": "code",
   "execution_count": 31,
   "id": "bc8cd58b-9d3a-4fce-915b-c10c40689481",
   "metadata": {},
   "outputs": [
    {
     "name": "stdout",
     "output_type": "stream",
     "text": [
      "Reference:  34.84380178\n"
     ]
    }
   ],
   "source": [
    "print(f\"Reference: {-lrf_results['response_functions'][('x', 'x', 0.0656)]:12.8f}\")"
   ]
  },
  {
   "cell_type": "markdown",
   "id": "b9d745bc-e93c-4250-a127-ca4f2a008469",
   "metadata": {},
   "source": [
    "We note that the two results are in perfect agreement."
   ]
  }
 ],
 "metadata": {
  "kernelspec": {
   "display_name": "Python 3 (ipykernel)",
   "language": "python",
   "name": "python3"
  },
  "language_info": {
   "codemirror_mode": {
    "name": "ipython",
    "version": 3
   },
   "file_extension": ".py",
   "mimetype": "text/x-python",
   "name": "python",
   "nbconvert_exporter": "python",
   "pygments_lexer": "ipython3",
   "version": "3.10.13"
  }
 },
 "nbformat": 4,
 "nbformat_minor": 5
}
