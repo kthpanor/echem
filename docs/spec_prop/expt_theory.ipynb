{
 "cells": [
  {
   "cell_type": "markdown",
   "id": "b9c58ec6-05b7-4cdf-9c86-09b6967b03ab",
   "metadata": {
    "editable": true,
    "slideshow": {
     "slide_type": ""
    },
    "tags": [
     "remove-output"
    ]
   },
   "source": [
    "# Experiment to theory"
   ]
  },
  {
   "cell_type": "markdown",
   "id": "1dc64e12-0628-4b02-8c1a-893f62ff2b33",
   "metadata": {
    "editable": true,
    "slideshow": {
     "slide_type": ""
    },
    "tags": []
   },
   "source": [
    "## Anisotropic and isotropic molecular orientation\n",
    "\n",
    "When studying physical processes involving light–matter interactions, experiments are predominantly performed in the liquid phase. To connect theory to such experiments, it becomes necessary to take into account the random molecular orientation."
   ]
  },
  {
   "cell_type": "markdown",
   "id": "09c057f2-eb9c-441d-bdf2-84220937e979",
   "metadata": {
    "editable": true,
    "slideshow": {
     "slide_type": ""
    },
    "tags": []
   },
   "source": [
    "### Laboratory and molecular frames\n",
    "\n",
    "Let us consider a laboratory frame that is space fixed with Cartesian axes $X$, $Y$, and $Z$ and an arbitrarily oriented molecular frame with Cartesian axes $x$, $y$, and $z$. It is a common practice to relate these two frames of reference by means of a non-unique set of three [Euler angles](https://en.wikipedia.org/wiki/Euler_angles). We choose the elementary rotations to be intrinsic and referring to the axes sequence ($z$-$x$-$z$). The associated proper Euler angles are denoted by $\\phi$, $\\theta$, and $\\psi$ and they are illustrated in the figure below.\n",
    "\n",
    "```{figure} ../../img/misc/euler_angles.svg\n",
    ":scale: 40%\n",
    ":align: center\n",
    "```\n",
    "\n",
    "The three unit vectors in the molecular frame relate to those in the laboratory frame according to\n",
    "\n",
    "$$\n",
    "(\\mathbf{e}_x, \\mathbf{e}_y, \\mathbf{e}_z) =\n",
    "(\\mathbf{e}_X, \\mathbf{e}_Y, \\mathbf{e}_Z) \n",
    "\\begin{pmatrix}\n",
    "c_\\phi c_\\psi - c_\\theta s_\\phi s_\\psi & - c_\\psi s_\\phi - c_\\phi c_\\theta s_\\psi & s_\\theta s_\\psi \\\\\n",
    "c_\\phi s_\\psi + c_\\theta c_\\psi s_\\phi & c_\\phi c_\\theta c_\\psi - s_\\phi s_\\psi & - c_\\psi s_\\theta \\\\\n",
    "s_\\phi s_\\theta & c_\\phi s_\\theta & c_\\theta\n",
    "\\end{pmatrix}\n",
    "$$\n",
    "\n",
    "where $c_\\phi$ is short for $\\cos \\phi$ and so on. The rotation matrix in the equation above is obtained from the three elemental rotation matrices \n",
    "\n",
    "$$\n",
    "R = R_z(\\psi) R_x(\\theta) R_z(\\phi)\n",
    "$$\n",
    "\n",
    "We note that the elements of this rotation matrix are equal to the cosine of the angles in between the unit vectors, or, in other words,\n",
    "\n",
    "$$\n",
    "l_{i\\lambda} = \\mathbf{e}_i \\cdot \\mathbf{e}_\\lambda\n",
    "$$\n",
    "\n",
    "with $i \\in \\{X,Y,Z\\}$ and $\\lambda \\in \\{x,y,z\\}$. These elements are known as directional cosines.\n",
    "\n",
    "A molecular property such as the dipole moment is a first-rank tensor for which we readily obtain the following transformation relation\n",
    "\n",
    "$$\n",
    "\\mu_i = l_{i\\lambda} \\mu_\\lambda\n",
    "$$\n",
    "\n",
    "where the Einstein summation convention has been adopted for the repeated index $\\lambda$. The expression for the transformation of higher-order property tensors follow suit\n",
    "\n",
    "$$\n",
    "P_{i_1 \\cdots i_n} = l_{i_1 \\lambda_1} \\cdots l_{i_n \\lambda_n} P_{\\lambda_1 \\cdots \\lambda_n}\n",
    "$$"
   ]
  },
  {
   "cell_type": "markdown",
   "id": "73710373-4718-491a-8e5e-6493b6fe2c43",
   "metadata": {
    "editable": true,
    "slideshow": {
     "slide_type": ""
    },
    "tags": []
   },
   "source": [
    "### Rotational averages\n",
    "\n",
    "The general expression of the observable $T$ has the form\n",
    "\n",
    "\\begin{equation*}\n",
    "T = A_{i_1 \\cdots i_n} P_{i_1 \\cdots i_n}\n",
    "\\end{equation*}\n",
    "\n",
    "where the tensor $P_{i_1 \\cdots i_n}$ contains the response of a molecule subject to the external conditions represented by the tensor $A_{i_1 \\cdots i_n}$. In one-photon absorption for instance, the transition rate (observable, out $T$ here) is connected with two second order tensors, say ${\\mathbf A}$ containing information on the polarization of the radiation and say $\\mathbf P$, relates to the square of the transition moment. The tensor components of $\\mathbf{A}$ and $\\mathbf{P}$ are usually given in a common frame, f.ex. and most commonly a space-fixed frame, chosen often in a way that the polarization information in $\\mathbf{A}$ might be expressed straighforwardly. For a randomly oriented system then the components of $\\mathbf{P}$ are re-xpressed with respect to the space-fixed frame by employing the director cosines of the angle betwen the spac-fixed and the molecule-fix angles $l_{i_p \\lambda_p}$\n",
    "\n",
    "\\begin{equation*}\n",
    "P_{i_1 \\cdots i_n} = l_{i_1 \\lambda_1} \\cdots l_{i_n \\lambda_n} P_{\\lambda_1 \\cdots \\lambda_n}\n",
    "\\end{equation*}\n",
    "\n",
    "and the task of obtaining rotationally-averaged results for the observable reduces to the calculation of rotationally averaged products of direction cosines $l_{i_1 \\lambda_1} \\cdots l_{i_n \\lambda_n}$. One resorts to Euler angle matrices, with $l_{i_1 \\lambda_1} \\cdots l_{i_n \\lambda_n}$ standing for the $(i_p,\\lambda_p)$ element of the matrix and to compute the rotationally averaged observable one needs to compute the integral $I^{(n)}_{i_1 \\cdots i_n ; \\lambda_1 \\cdots \\lambda_n}$\n",
    "\n",
    "\\begin{equation*}\n",
    "I^{(n)}_{i_1 \\cdots i_n ; \\lambda_1 \\cdots \\lambda_n} = \\frac{1}{8 \\pi^2} \\int_{0}^{2 \\pi} \\int_{0}^{\\pi} \\int_{0}^{2 \\pi} l_{i_1 \\lambda_1} \\cdots l_{i_n \\lambda_n} \\sin \\theta\n",
    " d \\phi d \\theta d \\psi\n",
    "\\end{equation*}\n",
    "\n",
    "Often we encounter processes where the general expression of the molecular contribution to the induced moments can be cast in to the form\n",
    "\n",
    "\\begin{equation*}\n",
    "\\sum_j \n",
    "\\sum_k \n",
    "\\cdots\n",
    "\\sum_l\n",
    "\\sum_m \n",
    "\\frac{\n",
    "(\\mathbf{A}_{f j}  \\cdot \\mathbf{R}_{-\\omega_\\sigma})\n",
    "(\\mathbf{B}_{j k}  \\cdot \\mathbf{S}_{\\omega_n})\n",
    "\\cdots \n",
    "(\\mathbf{L}_{l m} \\cdot \\mathbf{W}_{\\omega_2})\n",
    "(\\mathbf{M}_{m n} \\cdot \\mathbf{Z}_{\\omega_1})\n",
    "}{\n",
    "(E_{j f}+\\omega_\\sigma) \n",
    "(E_{k j}-\\omega_n) \n",
    "\\cdots \n",
    "(E_{m l}-\\omega_2)  \n",
    "(E_{n m}-\\omega_1)\n",
    "}\n",
    "\\end{equation*}\n",
    "\n",
    "where $\\mathbf{A}$,$\\mathbf{B} \\cdots \\mathbf{M}$ are vectors (rank one cartesian tensors) associated to the molecule-fixed transition moments\n",
    "$\\mathbf{\\mu}, \\mathbf{m}$ etc., whereas vectors $\\mathbf{R}$, $\\mathbf{S} \\cdots \\mathbf{W}, \\mathbf{Z}$ are vectors representing field quantities, aligned with laboratory fixed frames. The denominators are scalars mixing excitation (transition) energies and angular frequencies of the radiation. Sums run over all states of the molecule. Denominators are inessential for our discussion here, and the core of the discussion is the collection of numerators, where the vectors representing field quantities are usually reduced to the product of a scalar (connected in space to the intensity of the field) and a unit vector, member of the triad $\\mathbf{i}$, $\\mathbf{j}$ $\\mathbf{k}$. A possible element of this combination is f.ex.\n",
    "\n",
    "\\begin{equation*}\n",
    "(\\mathbf{A}  \\cdot \\mathbf{i})\n",
    "(\\mathbf{B}  \\cdot \\mathbf{i})\n",
    "\\cdots \n",
    "(\\mathbf{L} \\cdot \\mathbf{j})\n",
    "(\\mathbf{M} \\cdot \\mathbf{k}) = A_x B_x \\cdots L_y M_z\n",
    "\\end{equation*}\n",
    "\n",
    "Under rotation this product transforms as a tensor of rank equal to the number of dot products (left) or components (right). The problem of isotropically averaging quantities that transform like higher-rank Cartesian tensors has been treated often, in numerous papers by various approaches {cite}`Wagniere,Barron,AndrThirun,Freese`. Results for tensors from rank two up to rank five are ($\\mathbf{N} \\cdots \\mathbf{R} = \\mathbf{i}$, $\\mathbf{j}, \\mathbf{k}$)\n",
    "\n",
    "\\begin{equation*}\n",
    "\\langle(\\mathbf{A}  \\cdot \\mathbf{N})\n",
    "(\\mathbf{B}  \\cdot \\mathbf{O}) \\rangle\n",
    " = \\frac{1}{3} (\\mathbf{A}  \\cdot \\mathbf{B})\n",
    "(\\mathbf{N}  \\cdot \\mathbf{O})\n",
    "\\end{equation*}\n",
    "\n",
    "\\begin{equation*}\n",
    "\\langle(\\mathbf{A}  \\cdot \\mathbf{N})\n",
    "(\\mathbf{B}  \\cdot \\mathbf{O}) (\\mathbf{C}  \\cdot \\mathbf{P}) \\rangle\n",
    " = \\frac{1}{6} (\\mathbf{A}  \\cdot \\mathbf{B} \\times \\mathbf{C} )\n",
    "(\\mathbf{N}  \\cdot \\mathbf{O} \\times \\mathbf{P})\n",
    "\\end{equation*}\n",
    "\n",
    "\\begin{eqnarray*}\n",
    "\\langle(\\mathbf{A}  \\cdot \\mathbf{N})\n",
    "(\\mathbf{B}  \\cdot \\mathbf{O}) (\\mathbf{C}  \\cdot \\mathbf{P}) (\\mathbf{D}  \\cdot \\mathbf{Q}) \\rangle\n",
    "& = & \\Big [ \\frac{2}{15} (\\mathbf{A}  \\cdot \\mathbf{B}) (\\mathbf{C} \\cdot \\mathbf{D}) -\\frac{1}{30} (\\mathbf{A}  \\cdot \\mathbf{C}) (\\mathbf{B} \\cdot \\mathbf{D}) -\\frac{1}{30} (\\mathbf{A}  \\cdot \\mathbf{D}) (\\mathbf{B} \\cdot \\mathbf{C}) \\Big ] \n",
    "(\\mathbf{M}  \\cdot \\mathbf{N}) (\\mathbf{P} \\cdot \\mathbf{Q}) \\\\\n",
    "& & \\Big [ -\\frac{1}{30} (\\mathbf{A}  \\cdot \\mathbf{B}) (\\mathbf{C} \\cdot \\mathbf{D}) +\\frac{2}{15} (\\mathbf{A}  \\cdot \\mathbf{C}) (\\mathbf{B} \\cdot \\mathbf{D}) -\\frac{1}{30} (\\mathbf{A}  \\cdot \\mathbf{D}) (\\mathbf{B} \\cdot \\mathbf{C}) \\Big ] \n",
    "(\\mathbf{M}  \\cdot \\mathbf{P}) (\\mathbf{N} \\cdot \\mathbf{Q}) \\\\\n",
    "& & \\Big [ -\\frac{1}{30} (\\mathbf{A}  \\cdot \\mathbf{B}) (\\mathbf{C} \\cdot \\mathbf{D}) -\\frac{1}{30} (\\mathbf{A}  \\cdot \\mathbf{C}) (\\mathbf{B} \\cdot \\mathbf{D}) +\\frac{2}{15} (\\mathbf{A}  \\cdot \\mathbf{D}) (\\mathbf{B} \\cdot \\mathbf{C}) \\Big ] \n",
    "(\\mathbf{M}  \\cdot \\mathbf{Q}) (\\mathbf{N} \\cdot \\mathbf{P})\n",
    "\\end{eqnarray*}\n",
    "\n",
    "\n",
    "\\begin{eqnarray*}\n",
    "\\langle(\\mathbf{A}  \\cdot \\mathbf{N})\n",
    "(\\mathbf{B}  \\cdot \\mathbf{O}) (\\mathbf{C}  \\cdot \\mathbf{P}) (\\mathbf{D}  \\cdot \\mathbf{Q}) (\\mathbf{E}  \\cdot \\mathbf{R})\\rangle\n",
    "& = \\frac{1}{30} \\Big [ & \n",
    "+(\\mathbf{A}  \\cdot \\mathbf{B}) (\\mathbf{C} \\cdot \\mathbf{D} \\times \\mathbf{E} )\n",
    "(\\mathbf{M}  \\cdot \\mathbf{N}) (\\mathbf{P} \\cdot \\mathbf{Q} \\times \\mathbf{R} )\n",
    "+ (\\mathbf{A}  \\cdot \\mathbf{C}) (\\mathbf{B} \\cdot \\mathbf{D} \\times \\mathbf{E} )\n",
    "(\\mathbf{M}  \\cdot \\mathbf{P}) (\\mathbf{N} \\cdot \\mathbf{Q} \\times \\mathbf{R} ) \\\\\n",
    "& & +(\\mathbf{A}  \\cdot \\mathbf{D}) (\\mathbf{B} \\cdot \\mathbf{C} \\times \\mathbf{E} )\n",
    "(\\mathbf{M}  \\cdot \\mathbf{Q}) (\\mathbf{N} \\cdot \\mathbf{P} \\times \\mathbf{R} )\n",
    "+ (\\mathbf{A}  \\cdot \\mathbf{E}) (\\mathbf{B} \\cdot \\mathbf{C} \\times \\mathbf{D} )\n",
    "(\\mathbf{M}  \\cdot \\mathbf{R}) (\\mathbf{N} \\cdot \\mathbf{P} \\times \\mathbf{Q} ) \\\\\n",
    "& & +(\\mathbf{B}  \\cdot \\mathbf{C}) (\\mathbf{A} \\cdot \\mathbf{D} \\times \\mathbf{E} )\n",
    "(\\mathbf{N}  \\cdot \\mathbf{P}) (\\mathbf{M} \\cdot \\mathbf{Q} \\times \\mathbf{R} )\n",
    "+ (\\mathbf{B}  \\cdot \\mathbf{D}) (\\mathbf{A} \\cdot \\mathbf{C} \\times \\mathbf{E} )\n",
    "(\\mathbf{N}  \\cdot \\mathbf{Q}) (\\mathbf{M} \\cdot \\mathbf{P} \\times \\mathbf{R} ) \\\\\n",
    "& & +(\\mathbf{B}  \\cdot \\mathbf{E}) (\\mathbf{A} \\cdot \\mathbf{C} \\times \\mathbf{D})(\\mathbf{N}  \\cdot \\mathbf{R}) (\\mathbf{M} \\cdot \\mathbf{P} \\times \\mathbf{Q}) +(\\mathbf{C}  \\cdot \\mathbf{D}) (\\mathbf{A} \\cdot \\mathbf{B} \\times \\mathbf{E})(\\mathbf{P}  \\cdot \\mathbf{Q}) (\\mathbf{M} \\cdot \\mathbf{N} \\times \\mathbf{R}) \\\\\n",
    "& & +(\\mathbf{C}  \\cdot \\mathbf{E}) (\\mathbf{A} \\cdot \\mathbf{B} \\times \\mathbf{D})(\\mathbf{P}  \\cdot \\mathbf{R}) (\\mathbf{M} \\cdot \\mathbf{N} \\times \\mathbf{Q}) +(\\mathbf{D}  \\cdot \\mathbf{E}) (\\mathbf{A} \\cdot \\mathbf{B} \\times \\mathbf{C}) (\\mathbf{Q}  \\cdot \\mathbf{R}) (\\mathbf{M} \\cdot \\mathbf{N} \\times \\mathbf{P})  \\Big ]\n",
    "\\end{eqnarray*}\n",
    "\n",
    "Expressions for tensors of higher rank are available in the literature. Rotational averages of even rank up to ten are given in Ref. {cite}`Wagniere`, where simple relationships between averages of different ranks are given and it is shown that averages of odd rank are easily obtained from averages of even rank.   "
   ]
  }
 ],
 "metadata": {
  "kernelspec": {
   "display_name": "Python 3 (ipykernel)",
   "language": "python",
   "name": "python3"
  },
  "language_info": {
   "codemirror_mode": {
    "name": "ipython",
    "version": 3
   },
   "file_extension": ".py",
   "mimetype": "text/x-python",
   "name": "python",
   "nbconvert_exporter": "python",
   "pygments_lexer": "ipython3",
   "version": "3.11.6"
  }
 },
 "nbformat": 4,
 "nbformat_minor": 5
}
