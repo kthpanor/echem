{
 "cells": [
  {
   "cell_type": "markdown",
   "id": "b9c58ec6-05b7-4cdf-9c86-09b6967b03ab",
   "metadata": {
    "editable": true,
    "slideshow": {
     "slide_type": ""
    },
    "tags": [
     "remove-output"
    ]
   },
   "source": [
    "# Experiment to theory"
   ]
  },
  {
   "cell_type": "code",
   "execution_count": null,
   "id": "2eca7ce9-f6b4-45ae-8c89-831038e8902f",
   "metadata": {},
   "outputs": [],
   "source": []
  },
  {
   "cell_type": "markdown",
   "id": "c07661da-467f-42c0-8226-50d2b18a6a8b",
   "metadata": {
    "editable": true,
    "slideshow": {
     "slide_type": ""
    },
    "tags": []
   },
   "source": [
    "## Anisotropic and isotropic molecular orientation\n",
    "\n",
    "### Laboratory frame vs molecular frame\n",
    "\n",
    "When studying physical processes as the interaction of radiation with matter, in a vast majority of cases experiments are performed on fluids. To connect theory and the results of such experiments and to derive expression for the observables, it is necessary to take into account the random orientation of the molecules. This is usually done by deriving results for for a system with fixed orientation and then carry on ann orientartional average. The general expression of the observable $T$ has the form\n",
    "\n",
    "\\begin{equation*}\n",
    "T = A_{i_1 \\cdots i_n} P_{i_1 \\cdots i_n}\n",
    "\\end{equation*}\n",
    "\n",
    "where the tensor $P_{i_1 \\cdots i_n}$ contains the response of a molecule subject to the external conditions represented by the tensor $A_{i_1 \\cdots i_n}$. In one-photon absorption for instance, the transition rate (observable, out $T$ here) is connected with two second order tensors, say ${\\mathbf A}$ containing information on the polarization of the radiation and say $\\mathbf P$, relates to the square of the transition moment. The tensor components of $\\mathbf{A}$ and $\\mathbf{P}$ are usually given in a common frame, f.ex. and most commonly a space-fixed frame, chosen often in a way that the polarization information in $\\mathbf{A}$ might be expressed straighforwardly. For a randomly oriented system then the components of $\\mathbf{P}$ are re-xpressed with respect to the space-fixed frame by employing the director cosines of the angle betwen the spac-fixed and the molecule-fix angles $l_{i_p \\lambda_p}$\n",
    "\n",
    "\\begin{equation*}\n",
    "P_{i_1 \\cdots i_n} = l_{i_1 \\lambda_1} \\cdots l_{i_n \\lambda_n} P_{\\lambda_1 \\cdots \\lambda_n}\n",
    "\\end{equation*}\n",
    "\n",
    "and the task of obtaining rotationally-averaged results for the observable reduces to the calculation of rotationally averaged products of direction cosines $l_{i_1 \\lambda_1} \\cdots l_{i_n \\lambda_n}$. One resorts to Euler angle matrices, with $l_{i_1 \\lambda_1} \\cdots l_{i_n \\lambda_n}$ standing for the $(i_p,\\lambda_p)$ element of the matrix and to compute the rotationally averaged observable one needs to compute the integral $I^{(n)}_{i_1 \\cdots i_n ; \\lambda_1 \\cdots \\lambda_n}$\n",
    "\n",
    "\\begin{equation*}\n",
    "I^{(n)}_{i_1 \\cdots i_n ; \\lambda_1 \\cdots \\lambda_n} = \\frac{1}{8 \\pi^2} \\int_{0}^{2 \\pi} \\int_{0}^{\\pi} \\int_{0}^{2 \\pi} l_{i_1 \\lambda_1} \\cdots l_{i_n \\lambda_n} \\sin \\theta\n",
    " d \\phi d \\theta d \\psi\n",
    "\\end{equation*}\n",
    "\n",
    "Often we encounter processes where the general expression of the molecular contribution to the induced moments can be cast in to the form\n",
    "\n",
    "\\begin{equation*}\n",
    "\\sum_j \n",
    "\\sum_k \n",
    "\\cdots\n",
    "\\sum_l\n",
    "\\sum_m \n",
    "\\frac{\n",
    "(\\mathbf{A}_{f j}  \\cdot \\mathbf{R}_{-\\omega_\\sigma})\n",
    "(\\mathbf{B}_{j k}  \\cdot \\mathbf{S}_{\\omega_n})\n",
    "\\cdots \n",
    "(\\mathbf{L}_{l m} \\cdot \\mathbf{W}_{\\omega_2})\n",
    "(\\mathbf{M}_{m n} \\cdot \\mathbf{Z}_{\\omega_1})\n",
    "}{\n",
    "(E_{j f}+\\omega_\\sigma) \n",
    "(E_{k j}-\\omega_n) \n",
    "\\cdots \n",
    "(E_{m l}-\\omega_2)  \n",
    "(E_{n m}-\\omega_1)\n",
    "}\n",
    "\\end{equation*}\n",
    "\n",
    "where $\\mathbf{A}$,$\\mathbf{B} \\cdots \\mathbf{M}$ are vectors (rank one cartesian tensors) associated to the molecule-fixed transition moments\n",
    "$\\mathbf{\\mu}, \\mathbf{m}$ etc., whereas vectors $\\mathbf{R}$, $\\mathbf{S} \\cdots \\mathbf{W}, \\mathbf{Z}$ are vectors representing field quantities, aligned with laboratory fixed frames. The denominators are scalars mixing excitation (transition) energies and angular frequencies of the radiation. Sums run over all states of the molecule. Denominators are inessential for our discussion here, and the core of the discussion is the collection of numerators, where the vectors representing field quantities are usually reduced to the product of a scalar (connected in space to the intensity of the field) and a unit vector, member of the triad $\\mathbf{i}$, $\\mathbf{j}$ $\\mathbf{k}$. A possible element of this combination is f.ex.\n",
    "\n",
    "\\begin{equation*}\n",
    "(\\mathbf{A}  \\cdot \\mathbf{i})\n",
    "(\\mathbf{B}  \\cdot \\mathbf{i})\n",
    "\\cdots \n",
    "(\\mathbf{L} \\cdot \\mathbf{j})\n",
    "(\\mathbf{M} \\cdot \\mathbf{k}) = A_x B_x \\cdots L_y M_z\n",
    "\\end{equation*}\n",
    "\n",
    "Under rotation this product transforms as a tensor of rank equal to the number of dot products (left) or components (right). The problem of isotropically averaging quantities that transform like higher-rank Cartesian tensors has been treated often, in numerous papers by various approaches {cite}`Wagniere,Barron,AndrThirun,Freese`. Results for tensors from rank two up to rank five are ($\\mathbf{N} \\cdots \\mathbf{R} = \\mathbf{i}$, $\\mathbf{j}, \\mathbf{k}$)\n",
    "\n",
    "\\begin{equation*}\n",
    "\\langle(\\mathbf{A}  \\cdot \\mathbf{N})\n",
    "(\\mathbf{B}  \\cdot \\mathbf{O}) \\rangle\n",
    " = \\frac{1}{3} (\\mathbf{A}  \\cdot \\mathbf{B})\n",
    "(\\mathbf{N}  \\cdot \\mathbf{O})\n",
    "\\end{equation*}\n",
    "\n",
    "\\begin{equation*}\n",
    "\\langle(\\mathbf{A}  \\cdot \\mathbf{N})\n",
    "(\\mathbf{B}  \\cdot \\mathbf{O}) (\\mathbf{C}  \\cdot \\mathbf{P}) \\rangle\n",
    " = \\frac{1}{6} (\\mathbf{A}  \\cdot \\mathbf{B} \\times \\mathbf{C} )\n",
    "(\\mathbf{N}  \\cdot \\mathbf{O} \\times \\mathbf{P})\n",
    "\\end{equation*}\n",
    "\n",
    "\\begin{eqnarray*}\n",
    "\\langle(\\mathbf{A}  \\cdot \\mathbf{N})\n",
    "(\\mathbf{B}  \\cdot \\mathbf{O}) (\\mathbf{C}  \\cdot \\mathbf{P}) (\\mathbf{D}  \\cdot \\mathbf{Q}) \\rangle\n",
    "& = & \\Big [ \\frac{2}{15} (\\mathbf{A}  \\cdot \\mathbf{B}) (\\mathbf{C} \\cdot \\mathbf{D}) -\\frac{1}{30} (\\mathbf{A}  \\cdot \\mathbf{C}) (\\mathbf{B} \\cdot \\mathbf{D}) -\\frac{1}{30} (\\mathbf{A}  \\cdot \\mathbf{D}) (\\mathbf{B} \\cdot \\mathbf{C}) \\Big ] \n",
    "(\\mathbf{M}  \\cdot \\mathbf{N}) (\\mathbf{P} \\cdot \\mathbf{Q}) \\\\\n",
    "& & \\Big [ -\\frac{1}{30} (\\mathbf{A}  \\cdot \\mathbf{B}) (\\mathbf{C} \\cdot \\mathbf{D}) +\\frac{2}{15} (\\mathbf{A}  \\cdot \\mathbf{C}) (\\mathbf{B} \\cdot \\mathbf{D}) -\\frac{1}{30} (\\mathbf{A}  \\cdot \\mathbf{D}) (\\mathbf{B} \\cdot \\mathbf{C}) \\Big ] \n",
    "(\\mathbf{M}  \\cdot \\mathbf{P}) (\\mathbf{N} \\cdot \\mathbf{Q}) \\\\\n",
    "& & \\Big [ -\\frac{1}{30} (\\mathbf{A}  \\cdot \\mathbf{B}) (\\mathbf{C} \\cdot \\mathbf{D}) -\\frac{1}{30} (\\mathbf{A}  \\cdot \\mathbf{C}) (\\mathbf{B} \\cdot \\mathbf{D}) +\\frac{2}{15} (\\mathbf{A}  \\cdot \\mathbf{D}) (\\mathbf{B} \\cdot \\mathbf{C}) \\Big ] \n",
    "(\\mathbf{M}  \\cdot \\mathbf{Q}) (\\mathbf{N} \\cdot \\mathbf{P})\n",
    "\\end{eqnarray*}\n",
    "\n",
    "\n",
    "\\begin{eqnarray*}\n",
    "\\langle(\\mathbf{A}  \\cdot \\mathbf{N})\n",
    "(\\mathbf{B}  \\cdot \\mathbf{O}) (\\mathbf{C}  \\cdot \\mathbf{P}) (\\mathbf{D}  \\cdot \\mathbf{Q}) (\\mathbf{E}  \\cdot \\mathbf{R})\\rangle\n",
    "& = \\frac{1}{30} \\Big [ & \n",
    "+(\\mathbf{A}  \\cdot \\mathbf{B}) (\\mathbf{C} \\cdot \\mathbf{D} \\times \\mathbf{E} )\n",
    "(\\mathbf{M}  \\cdot \\mathbf{N}) (\\mathbf{P} \\cdot \\mathbf{Q} \\times \\mathbf{R} )\n",
    "+ (\\mathbf{A}  \\cdot \\mathbf{C}) (\\mathbf{B} \\cdot \\mathbf{D} \\times \\mathbf{E} )\n",
    "(\\mathbf{M}  \\cdot \\mathbf{P}) (\\mathbf{N} \\cdot \\mathbf{Q} \\times \\mathbf{R} ) \\\\\n",
    "& & +(\\mathbf{A}  \\cdot \\mathbf{D}) (\\mathbf{B} \\cdot \\mathbf{C} \\times \\mathbf{E} )\n",
    "(\\mathbf{M}  \\cdot \\mathbf{Q}) (\\mathbf{N} \\cdot \\mathbf{P} \\times \\mathbf{R} )\n",
    "+ (\\mathbf{A}  \\cdot \\mathbf{E}) (\\mathbf{B} \\cdot \\mathbf{C} \\times \\mathbf{D} )\n",
    "(\\mathbf{M}  \\cdot \\mathbf{R}) (\\mathbf{N} \\cdot \\mathbf{P} \\times \\mathbf{Q} ) \\\\\n",
    "& & +(\\mathbf{B}  \\cdot \\mathbf{C}) (\\mathbf{A} \\cdot \\mathbf{D} \\times \\mathbf{E} )\n",
    "(\\mathbf{N}  \\cdot \\mathbf{P}) (\\mathbf{M} \\cdot \\mathbf{Q} \\times \\mathbf{R} )\n",
    "+ (\\mathbf{B}  \\cdot \\mathbf{D}) (\\mathbf{A} \\cdot \\mathbf{C} \\times \\mathbf{E} )\n",
    "(\\mathbf{N}  \\cdot \\mathbf{Q}) (\\mathbf{M} \\cdot \\mathbf{P} \\times \\mathbf{R} ) \\\\\n",
    "& & +(\\mathbf{B}  \\cdot \\mathbf{E}) (\\mathbf{A} \\cdot \\mathbf{C} \\times \\mathbf{D})(\\mathbf{N}  \\cdot \\mathbf{R}) (\\mathbf{M} \\cdot \\mathbf{P} \\times \\mathbf{Q}) +(\\mathbf{C}  \\cdot \\mathbf{D}) (\\mathbf{A} \\cdot \\mathbf{B} \\times \\mathbf{E})(\\mathbf{P}  \\cdot \\mathbf{Q}) (\\mathbf{M} \\cdot \\mathbf{N} \\times \\mathbf{R}) \\\\\n",
    "& & +(\\mathbf{C}  \\cdot \\mathbf{E}) (\\mathbf{A} \\cdot \\mathbf{B} \\times \\mathbf{D})(\\mathbf{P}  \\cdot \\mathbf{R}) (\\mathbf{M} \\cdot \\mathbf{N} \\times \\mathbf{Q}) +(\\mathbf{D}  \\cdot \\mathbf{E}) (\\mathbf{A} \\cdot \\mathbf{B} \\times \\mathbf{C}) (\\mathbf{Q}  \\cdot \\mathbf{R}) (\\mathbf{M} \\cdot \\mathbf{N} \\times \\mathbf{P})  \\Big ]\n",
    "\\end{eqnarray*}\n",
    "\n",
    "Expressions for tensors of higher rank are available in the literature. Rotational averages of even rank up to ten are given in Ref. {cite}`Wagniere`, where simple relationships between averages of different ranks are given and it is shown that averages of odd rank are easily obtained from averages of even rank.   "
   ]
  },
  {
   "cell_type": "code",
   "execution_count": null,
   "id": "5b34c1d2-ef78-4ed6-833e-0b896b2a7498",
   "metadata": {},
   "outputs": [],
   "source": []
  },
  {
   "cell_type": "code",
   "execution_count": null,
   "id": "1edfd299-aa43-4bab-a3b4-4865273e40c6",
   "metadata": {},
   "outputs": [],
   "source": []
  }
 ],
 "metadata": {
  "kernelspec": {
   "display_name": "Python 3 (ipykernel)",
   "language": "python",
   "name": "python3"
  },
  "language_info": {
   "codemirror_mode": {
    "name": "ipython",
    "version": 3
   },
   "file_extension": ".py",
   "mimetype": "text/x-python",
   "name": "python",
   "nbconvert_exporter": "python",
   "pygments_lexer": "ipython3",
   "version": "3.10.12"
  }
 },
 "nbformat": 4,
 "nbformat_minor": 5
}
