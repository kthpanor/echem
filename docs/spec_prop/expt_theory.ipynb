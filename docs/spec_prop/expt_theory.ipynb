{
 "cells": [
  {
   "cell_type": "markdown",
   "id": "b9c58ec6-05b7-4cdf-9c86-09b6967b03ab",
   "metadata": {
    "editable": true,
    "slideshow": {
     "slide_type": ""
    },
    "tags": [
     "remove-output"
    ]
   },
   "source": [
    "# Experiment to theory"
   ]
  },
  {
   "cell_type": "markdown",
   "id": "1dc64e12-0628-4b02-8c1a-893f62ff2b33",
   "metadata": {
    "editable": true,
    "slideshow": {
     "slide_type": ""
    },
    "tags": []
   },
   "source": [
    "## Isotropic molecular orientation\n",
    "\n",
    "When studying physical processes involving light–matter interactions, experiments are predominantly performed in the liquid phase. To connect theory to such experiments, it becomes necessary to take into account the random molecular orientation."
   ]
  },
  {
   "cell_type": "markdown",
   "id": "09c057f2-eb9c-441d-bdf2-84220937e979",
   "metadata": {
    "editable": true,
    "slideshow": {
     "slide_type": ""
    },
    "tags": []
   },
   "source": [
    "### Laboratory and molecular frames\n",
    "\n",
    "Let us consider a laboratory frame that is space fixed with Cartesian axes $X$, $Y$, and $Z$ and an arbitrarily oriented molecular frame with Cartesian axes $x$, $y$, and $z$. It is a common practice to relate these two frames of reference by means of a non-unique set of three [Euler angles](https://en.wikipedia.org/wiki/Euler_angles). We choose the elementary rotations to be intrinsic and referring to the axes sequence ($z$-$x$-$z$). The associated proper Euler angles are denoted by $\\phi$, $\\theta$, and $\\psi$ and they are illustrated in the figure below.\n",
    "\n",
    "```{figure} ../../img/misc/euler_angles.svg\n",
    ":scale: 40%\n",
    ":align: center\n",
    "```\n",
    "\n",
    "The three unit vectors in the molecular frame relate to those in the laboratory frame according to\n",
    "\n",
    "$$\n",
    "(\\mathbf{e}_x, \\mathbf{e}_y, \\mathbf{e}_z) =\n",
    "(\\mathbf{e}_X, \\mathbf{e}_Y, \\mathbf{e}_Z) \n",
    "\\begin{pmatrix}\n",
    "c_\\phi c_\\psi - c_\\theta s_\\phi s_\\psi & - c_\\psi s_\\phi - c_\\phi c_\\theta s_\\psi & s_\\theta s_\\psi \\\\\n",
    "c_\\phi s_\\psi + c_\\theta c_\\psi s_\\phi & c_\\phi c_\\theta c_\\psi - s_\\phi s_\\psi & - c_\\psi s_\\theta \\\\\n",
    "s_\\phi s_\\theta & c_\\phi s_\\theta & c_\\theta\n",
    "\\end{pmatrix}\n",
    "$$\n",
    "\n",
    "where $c_\\phi$ is short for $\\cos \\phi$ and so on. The rotation matrix in the equation above is obtained from the three elemental rotation matrices \n",
    "\n",
    "$$\n",
    "R = R_z(\\psi) R_x(\\theta) R_z(\\phi)\n",
    "$$\n",
    "\n",
    "We note that the elements of this rotation matrix are equal to the cosine of the angles in between the unit vectors, or, in other words,\n",
    "\n",
    "$$\n",
    "l_{i\\lambda} = \\mathbf{e}_i \\cdot \\mathbf{e}_\\lambda\n",
    "$$\n",
    "\n",
    "with $i \\in \\{X,Y,Z\\}$ and $\\lambda \\in \\{x,y,z\\}$. These elements are known as directional cosines.\n",
    "\n",
    "A molecular property such as the dipole moment is a first-rank tensor for which we readily obtain the following transformation relation\n",
    "\n",
    "$$\n",
    "\\mu_i = l_{i\\lambda} \\mu_\\lambda\n",
    "$$\n",
    "\n",
    "where the Einstein summation convention has been adopted for the repeated index $\\lambda$. The expression for the transformation of higher-order property tensors follow suit\n",
    "\n",
    "$$\n",
    "P_{i_1 \\cdots i_n} = l_{i_1 \\lambda_1} \\cdots l_{i_n \\lambda_n} P_{\\lambda_1 \\cdots \\lambda_n}\n",
    "$$"
   ]
  },
  {
   "cell_type": "markdown",
   "id": "aba15e4c-5e35-494a-b19d-2448fcc7fd99",
   "metadata": {
    "editable": true,
    "slideshow": {
     "slide_type": ""
    },
    "tags": []
   },
   "source": [
    "### Rotational averages\n",
    "\n",
    "In general, an expression for an observable $T$ takes the form\n",
    "\n",
    "\\begin{equation*}\n",
    "T = A_{i_1 \\cdots i_n} P_{i_1 \\cdots i_n}\n",
    "\\end{equation*}\n",
    "\n",
    "where the tensor $P_{i_1 \\cdots i_n}$ contains the response of a molecule subject to external fields under conditions represented by the tensor $A_{i_1 \\cdots i_n}$. The tensor components are given in the space-fixed laboratory frame, typically with an orientation chosen such that the polarization information can be straightforwardly expressed in $A_{i_1 \\cdots i_n}$.\n",
    "\n",
    "For a randomly oriented molecular system, the a calculation of the observable requires the calculation of rotationally averaged products of the aforementioned direction cosines\n",
    "\n",
    "\\begin{equation*}\n",
    "I_{i_1 \\cdots i_n ; \\lambda_1 \\cdots \\lambda_n} = \\frac{1}{8 \\pi^2} \\int_{0}^{2 \\pi} \\int_{0}^{\\pi} \\int_{0}^{2 \\pi} l_{i_1 \\lambda_1} \\cdots l_{i_n \\lambda_n} \\sin \\theta\n",
    " \\, d\\phi d\\theta d\\psi\n",
    "\\end{equation*}\n",
    "\n",
    "Since integrals of first order $I_{i;\\lambda}$ are zero, the rotational averages of first-rank tensors (such as the dipole moment) vanish.\n",
    "\n",
    "Induced moments, on the other hand, involve higher-order tensors that do not necessarily vanish upon rotational averaging. As an example, to linear order, the induced dipole moment in an electric field equals the product of the polarizability and the electric field, here assumed to be applied along the $Z$-axis in the laboratory frame,\n",
    "\n",
    "$$\n",
    "\\mu_Z = \\alpha_{ZZ} E_Z \n",
    "$$\n",
    "\n",
    "where \n",
    "\n",
    "$$\n",
    "\\alpha_{ZZ} = I_{ZZ;\\lambda_1 \\lambda_2} \\alpha_{\\lambda_1 \\lambda_2}\n",
    "$$\n",
    "\n",
    "The only  nonzero integrals are those where $\\lambda_1 = \\lambda_2$ and one arrives at\n",
    "\n",
    "$$\n",
    "\\alpha_{ZZ} = \\frac{1}{3}\n",
    "\\big(\n",
    "\\alpha_{xx} + \\alpha_{yy} + \\alpha_{zz}\n",
    "\\big)\n",
    "$$"
   ]
  },
  {
   "cell_type": "markdown",
   "id": "7aa06cef-0148-4dab-bedf-c5eac59b3d79",
   "metadata": {
    "editable": true,
    "slideshow": {
     "slide_type": ""
    },
    "tags": []
   },
   "source": [
    "We often encounter situations where the general expression of the molecular contribution to the induced moments takes the form\n",
    "\n",
    "\\begin{equation*}\n",
    "\\sum_j \n",
    "\\sum_k \n",
    "\\cdots\n",
    "\\sum_l\n",
    "\\sum_m \n",
    "\\frac{\n",
    "(\\mathbf{A}_{f j}  \\cdot \\mathbf{R}_{-\\omega_\\sigma})\n",
    "(\\mathbf{B}_{j k}  \\cdot \\mathbf{S}_{\\omega_n})\n",
    "\\cdots \n",
    "(\\mathbf{L}_{l m} \\cdot \\mathbf{W}_{\\omega_2})\n",
    "(\\mathbf{M}_{m n} \\cdot \\mathbf{Z}_{\\omega_1})\n",
    "}{\n",
    "(\\omega_{j f}+\\omega_\\sigma) \n",
    "(\\omega_{k j}-\\omega_n) \n",
    "\\cdots \n",
    "(\\omega_{m l}-\\omega_2)  \n",
    "(\\omega_{n m}-\\omega_1)\n",
    "}\n",
    "\\end{equation*}\n",
    "\n",
    "where $\\mathbf{A}, \\mathbf{B}, \\cdots, \\mathbf{M}$ are transition moments in the molecular frame such as $\\boldsymbol{\\mu}$ and $\\mathbf{m}$; $\\mathbf{R}, \\mathbf{S}, \\cdots, \\mathbf{Z}$ represent field quantities aligned with the laboratory frame; $\\omega_{jf}$ is the transition frequency between states $i$ and $f$ and $\\omega_1$ is an angular frequency of the radiation; and the summations run over all states of the molecule. \n",
    "\n",
    "For our further discussion, only the numerators are essential. The vectors representing field quantities are usually reduced to the product of a scalar field strength and a unit vector. For example, an element of this combination can be\n",
    "\n",
    "\\begin{equation*}\n",
    "(\\mathbf{A}  \\cdot \\mathbf{e}_x)\n",
    "(\\mathbf{B}  \\cdot \\mathbf{e}_x)\n",
    "\\cdots \n",
    "(\\mathbf{L} \\cdot \\mathbf{e}_y)\n",
    "(\\mathbf{M} \\cdot \\mathbf{e}_z) = A_x B_x \\cdots L_y M_z\n",
    "\\end{equation*}\n",
    "\n",
    "Under rotation this product transforms as a tensor with a rank equal to the number of dot products (left) or components (right), and the rotational averaging of such higher-rank Cartesian tensors has been treated in the literature by several authors, see e.g. {cite}`Barron, Friese2014`. "
   ]
  },
  {
   "cell_type": "markdown",
   "id": "db7a7d45-f223-4b2a-aaab-ef38bc7b8281",
   "metadata": {
    "editable": true,
    "slideshow": {
     "slide_type": ""
    },
    "tags": []
   },
   "source": [
    "Rotational averages of tensors ranging from rank two to five can be compactly written as\n",
    "\n",
    "\\begin{equation*}\n",
    "\\langle(\\mathbf{A}  \\cdot \\mathbf{N})\n",
    "(\\mathbf{B}  \\cdot \\mathbf{O}) \\rangle\n",
    " = \\frac{1}{3} (\\mathbf{A}  \\cdot \\mathbf{B})\n",
    "(\\mathbf{N}  \\cdot \\mathbf{O})\n",
    "\\end{equation*}\n",
    "\n",
    "\\begin{equation*}\n",
    "\\langle(\\mathbf{A}  \\cdot \\mathbf{N})\n",
    "(\\mathbf{B}  \\cdot \\mathbf{O}) (\\mathbf{C}  \\cdot \\mathbf{P}) \\rangle\n",
    " = \\frac{1}{6} (\\mathbf{A}  \\cdot \\mathbf{B} \\times \\mathbf{C} )\n",
    "(\\mathbf{N}  \\cdot \\mathbf{O} \\times \\mathbf{P})\n",
    "\\end{equation*}\n",
    "\n",
    "\\begin{eqnarray*}\n",
    "\\langle(\\mathbf{A}  \\cdot \\mathbf{N})\n",
    "(\\mathbf{B}  \\cdot \\mathbf{O}) (\\mathbf{C}  \\cdot \\mathbf{P}) (\\mathbf{D}  \\cdot \\mathbf{Q}) \\rangle \n",
    "& = & \n",
    "\\Big [ \\frac{2}{15} (\\mathbf{A}  \\cdot \\mathbf{B}) (\\mathbf{C} \\cdot \\mathbf{D}) -\\frac{1}{30} (\\mathbf{A}  \\cdot \\mathbf{C}) (\\mathbf{B} \\cdot \\mathbf{D}) -\\frac{1}{30} (\\mathbf{A}  \\cdot \\mathbf{D}) (\\mathbf{B} \\cdot \\mathbf{C}) \\Big ] \n",
    "(\\mathbf{M}  \\cdot \\mathbf{N}) (\\mathbf{P} \\cdot \\mathbf{Q}) \\\\\n",
    "& & \\Big [ -\\frac{1}{30} (\\mathbf{A}  \\cdot \\mathbf{B}) (\\mathbf{C} \\cdot \\mathbf{D}) +\\frac{2}{15} (\\mathbf{A}  \\cdot \\mathbf{C}) (\\mathbf{B} \\cdot \\mathbf{D}) -\\frac{1}{30} (\\mathbf{A}  \\cdot \\mathbf{D}) (\\mathbf{B} \\cdot \\mathbf{C}) \\Big ] \n",
    "(\\mathbf{M}  \\cdot \\mathbf{P}) (\\mathbf{N} \\cdot \\mathbf{Q}) \\\\\n",
    "& & \\Big [ -\\frac{1}{30} (\\mathbf{A}  \\cdot \\mathbf{B}) (\\mathbf{C} \\cdot \\mathbf{D}) -\\frac{1}{30} (\\mathbf{A}  \\cdot \\mathbf{C}) (\\mathbf{B} \\cdot \\mathbf{D}) +\\frac{2}{15} (\\mathbf{A}  \\cdot \\mathbf{D}) (\\mathbf{B} \\cdot \\mathbf{C}) \\Big ] \n",
    "(\\mathbf{M}  \\cdot \\mathbf{Q}) (\\mathbf{N} \\cdot \\mathbf{P})\n",
    "\\end{eqnarray*}\n",
    "\n",
    "\\begin{eqnarray*}\n",
    "\\langle(\\mathbf{A}  \\cdot \\mathbf{N})\n",
    "(\\mathbf{B}  \\cdot \\mathbf{O}) (\\mathbf{C}  \\cdot \\mathbf{P}) (\\mathbf{D}  \\cdot \\mathbf{Q}) (\\mathbf{E}  \\cdot \\mathbf{R})\\rangle\n",
    "& = \\frac{1}{30} \\Big [ & \n",
    "+(\\mathbf{A}  \\cdot \\mathbf{B}) (\\mathbf{C} \\cdot \\mathbf{D} \\times \\mathbf{E} )\n",
    "(\\mathbf{M}  \\cdot \\mathbf{N}) (\\mathbf{P} \\cdot \\mathbf{Q} \\times \\mathbf{R} )\n",
    "+ (\\mathbf{A}  \\cdot \\mathbf{C}) (\\mathbf{B} \\cdot \\mathbf{D} \\times \\mathbf{E} )\n",
    "(\\mathbf{M}  \\cdot \\mathbf{P}) (\\mathbf{N} \\cdot \\mathbf{Q} \\times \\mathbf{R} ) \\\\\n",
    "& & +(\\mathbf{A}  \\cdot \\mathbf{D}) (\\mathbf{B} \\cdot \\mathbf{C} \\times \\mathbf{E} )\n",
    "(\\mathbf{M}  \\cdot \\mathbf{Q}) (\\mathbf{N} \\cdot \\mathbf{P} \\times \\mathbf{R} )\n",
    "+ (\\mathbf{A}  \\cdot \\mathbf{E}) (\\mathbf{B} \\cdot \\mathbf{C} \\times \\mathbf{D} )\n",
    "(\\mathbf{M}  \\cdot \\mathbf{R}) (\\mathbf{N} \\cdot \\mathbf{P} \\times \\mathbf{Q} ) \\\\\n",
    "& & +(\\mathbf{B}  \\cdot \\mathbf{C}) (\\mathbf{A} \\cdot \\mathbf{D} \\times \\mathbf{E} )\n",
    "(\\mathbf{N}  \\cdot \\mathbf{P}) (\\mathbf{M} \\cdot \\mathbf{Q} \\times \\mathbf{R} )\n",
    "+ (\\mathbf{B}  \\cdot \\mathbf{D}) (\\mathbf{A} \\cdot \\mathbf{C} \\times \\mathbf{E} )\n",
    "(\\mathbf{N}  \\cdot \\mathbf{Q}) (\\mathbf{M} \\cdot \\mathbf{P} \\times \\mathbf{R} ) \\\\\n",
    "& & +(\\mathbf{B}  \\cdot \\mathbf{E}) (\\mathbf{A} \\cdot \\mathbf{C} \\times \\mathbf{D})(\\mathbf{N}  \\cdot \\mathbf{R}) (\\mathbf{M} \\cdot \\mathbf{P} \\times \\mathbf{Q}) +(\\mathbf{C}  \\cdot \\mathbf{D}) (\\mathbf{A} \\cdot \\mathbf{B} \\times \\mathbf{E})(\\mathbf{P}  \\cdot \\mathbf{Q}) (\\mathbf{M} \\cdot \\mathbf{N} \\times \\mathbf{R}) \\\\\n",
    "& & +(\\mathbf{C}  \\cdot \\mathbf{E}) (\\mathbf{A} \\cdot \\mathbf{B} \\times \\mathbf{D})(\\mathbf{P}  \\cdot \\mathbf{R}) (\\mathbf{M} \\cdot \\mathbf{N} \\times \\mathbf{Q}) +(\\mathbf{D}  \\cdot \\mathbf{E}) (\\mathbf{A} \\cdot \\mathbf{B} \\times \\mathbf{C}) (\\mathbf{Q}  \\cdot \\mathbf{R}) (\\mathbf{M} \\cdot \\mathbf{N} \\times \\mathbf{P})  \\Big ]\n",
    "\\end{eqnarray*}"
   ]
  },
  {
   "cell_type": "markdown",
   "id": "1f259912-ba6e-4169-bd0f-e98f8834b289",
   "metadata": {},
   "source": [
    "## Fields and polarization\n",
    "\n",
    "Experimental setups frequently use electromagnetic fields produced by lasers with control over wavelength and polarization. Such fields are purely solenoidal and perpendicular to the direction of propagation. We will here consider the case of a monochromatic light source and two common states of polarization namely linear and circular.\n",
    "\n",
    "### Linear polarization\n",
    "\n",
    "In a state of linear polarization, the electric field takes the form\n",
    "\n",
    "$$\n",
    "  \\mathbf{E}_\\mathrm{lp} = E_0 \n",
    "  \\left(\n",
    "  \\cos\\theta \\, \\mathbf{e}_X + \\sin\\theta \\, \\mathbf{e}_Y\n",
    "  \\right) \\cos(k z - \\omega t + \\delta)\n",
    "$$\n",
    "\n",
    "where $\\mathbf{k} = k \\mathbf{e}_Z$ is the wave vector pointing along the direction of propagation. The associated magnetic field is perpendicular to the electric field and given by\n",
    "\n",
    "$$\n",
    "\\mathbf{B}_\\mathrm{lp} = \\frac{E_0}{c} \n",
    "  \\left(\n",
    "  -\\sin\\theta \\, \\mathbf{e}_X + \\cos\\theta \\, \\mathbf{e}_Y\n",
    "  \\right) \\cos(k z - \\omega t + \\delta)\n",
    "$$\n",
    "\n",
    "We note that the magnetic field strength is equal to that of that electric field divided by the speed of light. In atomic units with $c=137.036$ a.u., the magnetic field is thus two orders of magnitude smaller than the electric field and depending on the spectroscopy at hand, it can often be ignored in calculations of induced dipole moments.\n",
    "\n",
    "### Circular polarization\n",
    "\n",
    "In a state of [circular polarization](https://en.wikipedia.org/wiki/Circular_polarization), the electric field takes the form\n",
    "\n",
    "$$\n",
    "  \\mathbf{E}_\\mathrm{cp}(t) = E_0 \n",
    "  \\left(\n",
    "  \\cos\\left(k Z -\\omega t + \\delta\\right) \\, \\mathbf{e}_x\n",
    "   -(-1)^{m}\\sin\\left(k Z - \\omega t + \\delta\\right) \\, \\mathbf{e}_y\n",
    "   \\right)\n",
    "$$\n",
    "\n",
    "where $m$ is an integer. At a certain instant in time, say for simplicity $t_0 = \\delta / \\omega$, the electric field with $m$ being even equals\n",
    "\n",
    "$$\n",
    "  \\mathbf{E}_\\mathrm{cp}(t_0) = E_0 \n",
    "  \\left(\n",
    "  \\cos k Z \\, \\mathbf{e}_X - \\sin k Z \\, \\mathbf{e}_Y \n",
    "   \\right)\n",
    "$$\n",
    "\n",
    "This field is illustrated in the figure below.\n",
    "\n",
    "```{figure} ../../img/misc/elliptic_polarization.svg\n",
    ":scale: 5%\n",
    ":align: center\n",
    "```\n",
    "\n",
    "In this time frozen spatial view, this electric field forms a left-handed helix and we refer to this state of polarization as left circularly polarized light. If we instead time trace the electric field vector at a fixed point in space, say $Z =0$, it is seen to circle in an anti-clockwise direction when viewed in the direction of the source."
   ]
  },
  {
   "cell_type": "markdown",
   "id": "61101e7a-8f34-4c6d-a8da-a9e04833509f",
   "metadata": {
    "jp-MarkdownHeadingCollapsed": true
   },
   "source": [
    "### Field strengths and intensities\n",
    "\n",
    "For a monochromatic electromagnetic wave, the intensity relates to the electric field strength according to\n",
    "\n",
    "$$\n",
    "I = \\frac{1}{2} \\varepsilon_0 c E_0^2\n",
    "$$\n",
    "\n",
    "The intensity depends not only on the laser at hand but also on the experimental setup. In a test bed for optical power limiting materials that depend critically on nonlinear absorption, a laser that delivered 1 mJ pulses of 10 ns duration was used. These pulses were focused to a spot size (or circle radius) of 100 $\\mu$m. The associated intensity becomes\n",
    "\n",
    "$$\n",
    "I = \\frac{E_\\mathsf{pulse}}{t_\\mathsf{pulse} \\cdot A_\\mathsf{spot}} \\approx\n",
    "0.3\\; \\mathsf{GW/cm}^2.\n",
    "$$\n",
    "\n",
    "Combining these two equation, we are able to determine the electric field strength for this experimental setup that is designed for the characterization of molecular materials without causing (too frequent) damage. Still, on the atomic scale, this electric field is weak and in the order of $10^{-5}$ a.u., which very much is the foundation for our approach of identifying molecular properties from perturbational field expansions of induced moments."
   ]
  }
 ],
 "metadata": {
  "kernelspec": {
   "display_name": "Python 3 (ipykernel)",
   "language": "python",
   "name": "python3"
  },
  "language_info": {
   "codemirror_mode": {
    "name": "ipython",
    "version": 3
   },
   "file_extension": ".py",
   "mimetype": "text/x-python",
   "name": "python",
   "nbconvert_exporter": "python",
   "pygments_lexer": "ipython3",
   "version": "3.11.6"
  }
 },
 "nbformat": 4,
 "nbformat_minor": 5
}
