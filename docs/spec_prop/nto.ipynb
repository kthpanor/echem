{
 "cells": [
  {
   "cell_type": "markdown",
   "id": "3f38b22c-c2b0-4f7c-b4e8-2c88be094626",
   "metadata": {
    "editable": true,
    "slideshow": {
     "slide_type": "slide"
    },
    "tags": []
   },
   "source": [
    "(sec:nto)=\n",
    "# Natural transition orbitals"
   ]
  },
  {
   "cell_type": "markdown",
   "id": "f199c513-a18b-4985-aa62-b865cc779f48",
   "metadata": {
    "editable": true,
    "slideshow": {
     "slide_type": "slide"
    },
    "tags": []
   },
   "source": [
    "Natural transitions orbitals (NTOs) are designed to provide a compact representation of the transition density matrix {cite}`Martin2003`.\n",
    "\n",
    "If we collect occupied and unoccupied (real) MOs as row  and column vectors, repsectively,\n",
    "\n",
    "$$\n",
    "\\bar{\\phi}_\\mathrm{occ}(\\mathbf{r})  = (\\ldots, \\phi_i(\\mathbf{r}),  \\ldots); \\quad\n",
    "\\bar{\\phi}_\\mathrm{unocc}(\\mathbf{r}) = (\\ldots, \\phi_a(\\mathbf{r}),  \\ldots)^T\n",
    "$$\n",
    "\n",
    "and scatter the (real) RPA eigenvector into a rectangular transition matrix $T$ of dimension $n_\\mathrm{occ} \\times n_\\mathrm{unocc}$\n",
    "\n",
    "$$\n",
    "T_{f, ia} = Z_{f, ia} - Y_{f, ia}\n",
    "$$\n",
    "\n",
    "then we can write the transition moment as\n",
    "\n",
    "\\begin{equation*}\n",
    "    \\langle \\Psi_f | \\hat{\\Omega} | \\Psi_0 \\rangle =\n",
    "    X^T_f \\Omega^{[1]} = \n",
    "    \\big(\n",
    "    Z_f^T, Y_f^T\n",
    "    \\big)\n",
    "    \\begin{pmatrix}\n",
    "    g\\\\-g\n",
    "    \\end{pmatrix}\n",
    "    =\n",
    "    \\big(\n",
    "    Z_f - Y_f\n",
    "    \\big)^T\n",
    "    g\n",
    "    = \n",
    "    \\int\n",
    "    \\omega(\\mathbf{r}) \\,\n",
    "    \\bar{\\phi}_\\mathrm{occ}(\\mathbf{r}) \\,\n",
    "    T \\,\n",
    "    \\bar{\\phi}_\\mathrm{unocc}(\\mathbf{r}) \\,\n",
    "    d^3\\mathbf{r}\n",
    "\\end{equation*}\n",
    "\n",
    "where we have assumed the operator to be a scalar operator that can be moved in front of both orbitals in the integrand\n",
    "\n",
    "$$\n",
    "\\hat{\\Omega} = \\sum_{i=1}^N \\omega(\\mathbf{r}_i)\n",
    "$$"
   ]
  },
  {
   "cell_type": "markdown",
   "id": "d23486dc-cb8a-4945-95b9-8f48b58f9aea",
   "metadata": {
    "editable": true,
    "slideshow": {
     "slide_type": ""
    },
    "tags": []
   },
   "source": [
    "```{note}\n",
    "In the Tamm–Dancoff approximation (TDA), the lower part of the excitation vector is left out from the calculation and we have $T_{f, ia} = Z_{f, ia}$.\n",
    "```"
   ]
  },
  {
   "attachments": {},
   "cell_type": "markdown",
   "id": "fdb933e7-4c2c-4bd7-b776-503289b7c460",
   "metadata": {
    "editable": true,
    "slideshow": {
     "slide_type": ""
    },
    "tags": []
   },
   "source": [
    "By means of a singular value decomposition (SVD), we can factorize the transition matrix\n",
    "\n",
    "$$\n",
    "T = U \\Lambda V\n",
    "$$\n",
    "\n",
    "where matrices $U$ and $V$ are unitary and $\\Lambda$ is rectangular diagonal\n",
    "\n",
    "$$\n",
    "\\Lambda =\n",
    "\\begin{bmatrix}\n",
    "\\sqrt{\\lambda_1} & 0 & \\cdots & 0 & 0 & \\cdots & 0 \\\\\n",
    "0 & \\sqrt{\\lambda_2} & \\cdots & 0 & 0 & \\cdots & 0 \\\\\n",
    "\\vdots & \\vdots & \\ddots & \\vdots & \\vdots & \\ddots & \\vdots \\\\\n",
    "0 & 0 & \\cdots & \\sqrt{\\lambda_\\mathrm{nocc}} & 0 & \\cdots & 0 \\\\\n",
    "\\end{bmatrix}\n",
    "$$\n",
    "\n",
    "Defining the diagonal elements as $\\sqrt{\\lambda_i}$ with a square root follows the original reference {cite}`Martin2003`.\n",
    "\n",
    "The SVD transformation matrices define the pairs of hole and electron (or particle) NTOs\n",
    "\n",
    "$$\n",
    "\\bar{\\phi}_\\mathrm{h}(\\mathbf{r}) = \\bar{\\phi}_\\mathrm{occ}(\\mathbf{r}) \\, U; \\quad\n",
    "\\bar{\\phi}_\\mathrm{e}(\\mathbf{r}) = V \\, \\bar{\\phi}_\\mathrm{unocc}(\\mathbf{r})\n",
    "$$\n",
    "\n",
    "such that\n",
    "\n",
    "\\begin{equation*}\n",
    "    \\langle \\Psi_f | \\hat{\\Omega} | \\Psi_0 \\rangle =\n",
    "    \\int\n",
    "    \\omega(\\mathbf{r}) \\,\n",
    "    \\bar{\\phi}_\\mathrm{h}(\\mathbf{r}) \\,\n",
    "    \\Lambda \\,\n",
    "    \\bar{\\phi}_\\mathrm{e}(\\mathbf{r}) \\,\n",
    "    d^3\\mathbf{r}\n",
    "\\end{equation*}\n",
    "\n",
    "Compared to the canonical MOs, the NTOs can provide an improved understanding of the nature of a given transition in cases when it involves multiple occupied and/or unoccupied MOs."
   ]
  },
  {
   "cell_type": "markdown",
   "id": "0ad7f972-cfc9-41ed-bfed-e314dfc956e0",
   "metadata": {
    "editable": true,
    "slideshow": {
     "slide_type": ""
    },
    "tags": []
   },
   "source": [
    "## Reference calculation\n",
    "\n",
    "Let us illustrate the concept of NTOs with a study of the bright Frenkel excitonic state of the ethylene dimer. This is the $S_2$ state of the system as discussed in the section on [selection rules](sec:selection_rules) where also MO-plots are provided."
   ]
  },
  {
   "cell_type": "code",
   "execution_count": 1,
   "id": "7ac6352b-10a7-4c53-a8f0-9f404b802218",
   "metadata": {
    "editable": true,
    "slideshow": {
     "slide_type": ""
    },
    "tags": [
     "remove-output"
    ]
   },
   "outputs": [
    {
     "name": "stdout",
     "output_type": "stream",
     "text": [
      "* Warning * Environment variable OMP_NUM_THREADS not set.\n",
      "* Warning * Setting OMP_NUM_THREADS to 6.\n"
     ]
    }
   ],
   "source": [
    "import numpy as np\n",
    "import veloxchem as vlx"
   ]
  },
  {
   "cell_type": "code",
   "execution_count": 2,
   "id": "1ec24fda-5ce6-4147-bbcf-b565d3d967e5",
   "metadata": {
    "editable": true,
    "scrolled": true,
    "slideshow": {
     "slide_type": ""
    },
    "tags": [
     "hide-input"
    ]
   },
   "outputs": [],
   "source": [
    "dimer_xyz = \"\"\"12\n",
    "\n",
    "C        0.67759997    0.00000000    -10.0\n",
    "C       -0.67759997    0.00000000    -10.0\n",
    "H        1.21655197    0.92414474    -10.0\n",
    "H        1.21655197   -0.92414474    -10.0\n",
    "H       -1.21655197   -0.92414474    -10.0\n",
    "H       -1.21655197    0.92414474    -10.0\n",
    "C        0.67759997    0.00000000     10.0\n",
    "C       -0.67759997    0.00000000     10.0\n",
    "H        1.21655197    0.92414474     10.0\n",
    "H        1.21655197   -0.92414474     10.0\n",
    "H       -1.21655197   -0.92414474     10.0\n",
    "H       -1.21655197    0.92414474     10.0\"\"\""
   ]
  },
  {
   "cell_type": "code",
   "execution_count": 3,
   "id": "c501e6a1-20dd-4ed9-a201-3937901a5faa",
   "metadata": {
    "editable": true,
    "slideshow": {
     "slide_type": ""
    },
    "tags": []
   },
   "outputs": [],
   "source": [
    "molecule = vlx.Molecule.read_xyz_string(dimer_xyz)\n",
    "basis = vlx.MolecularBasis.read(molecule, \"6-31g\", ostream=None)"
   ]
  },
  {
   "cell_type": "markdown",
   "id": "0a23109f-13cb-4759-9e50-c2f54a5c92c2",
   "metadata": {
    "editable": true,
    "slideshow": {
     "slide_type": ""
    },
    "tags": []
   },
   "source": [
    "We employ the BHANDHLYP functional to get a physically reasonable description of the $\\pi\\pi^*$-excited states."
   ]
  },
  {
   "cell_type": "code",
   "execution_count": 4,
   "id": "20efbcff-fd3f-495b-b0ef-7ece7ea22936",
   "metadata": {
    "editable": true,
    "slideshow": {
     "slide_type": ""
    },
    "tags": []
   },
   "outputs": [],
   "source": [
    "scf_drv = vlx.ScfRestrictedDriver()\n",
    "scf_drv.ostream.mute()\n",
    "\n",
    "scf_drv.xcfun = \"bhandhlyp\"\n",
    "\n",
    "scf_results = scf_drv.compute(molecule, basis)"
   ]
  },
  {
   "cell_type": "markdown",
   "id": "a86d1e34-127a-4422-875d-df4b11f6959f",
   "metadata": {
    "editable": true,
    "slideshow": {
     "slide_type": ""
    },
    "tags": []
   },
   "source": [
    "We request NTOs to be calculated."
   ]
  },
  {
   "cell_type": "code",
   "execution_count": 5,
   "id": "d6389a1e-0eec-4e93-8eed-f2043f480640",
   "metadata": {
    "editable": true,
    "slideshow": {
     "slide_type": ""
    },
    "tags": []
   },
   "outputs": [],
   "source": [
    "lreig_drv = vlx.LinearResponseEigenSolver()\n",
    "lreig_drv.ostream.mute()\n",
    "\n",
    "lreig_drv.nstates = 2\n",
    "lreig_drv.nto = True\n",
    "lreig_drv.nto_cubes = False\n",
    "\n",
    "lreig_results = lreig_drv.compute(molecule, basis, scf_results)"
   ]
  },
  {
   "cell_type": "markdown",
   "id": "36269183-ea47-4124-a1db-f878f6031729",
   "metadata": {
    "editable": true,
    "slideshow": {
     "slide_type": ""
    },
    "tags": []
   },
   "source": [
    "The lambda values associated with the NTOs are returned from the `compute()` method. We print those for state $S_2$. "
   ]
  },
  {
   "cell_type": "code",
   "execution_count": 39,
   "id": "97d4a5d3-f1a2-43f4-911f-10c04aebccf4",
   "metadata": {
    "editable": true,
    "slideshow": {
     "slide_type": ""
    },
    "tags": []
   },
   "outputs": [],
   "source": [
    "state = 1 # Python indexing of excited states [0, 1, ...]"
   ]
  },
  {
   "cell_type": "code",
   "execution_count": 37,
   "id": "ce948df1-1c5e-485e-9b9a-1e9ccf8a8607",
   "metadata": {
    "editable": true,
    "slideshow": {
     "slide_type": ""
    },
    "tags": []
   },
   "outputs": [
    {
     "name": "stdout",
     "output_type": "stream",
     "text": [
      "[4.94582065e-01 4.94551408e-01 1.02208591e-02 1.02198930e-02\n",
      " 3.22403391e-03 3.22274858e-03 2.46371242e-03 2.46336316e-03\n",
      " 1.75911027e-03 1.75888592e-03 8.95327254e-04 8.94745051e-04\n",
      " 1.26847719e-07 1.26578358e-07 9.39753079e-08 9.36320624e-08]\n"
     ]
    }
   ],
   "source": [
    "print(lreig_results[\"nto_lambdas\"][state])"
   ]
  },
  {
   "cell_type": "markdown",
   "id": "b65cfd38-8902-48d1-b3bf-d1430067321c",
   "metadata": {
    "editable": true,
    "slideshow": {
     "slide_type": ""
    },
    "tags": []
   },
   "source": [
    "## Visualization\n",
    "\n",
    "The NTOs can be viewed with the `OrbitalViewer` class by supplying the name of the file in which the orbitals are stored. There is one file per transition and the filenames are returned from the `compute()` method. "
   ]
  },
  {
   "cell_type": "markdown",
   "id": "46fb0df9-628f-47d2-9e88-059a37726c75",
   "metadata": {
    "editable": true,
    "slideshow": {
     "slide_type": ""
    },
    "tags": []
   },
   "source": [
    "```{note}\n",
    "The order of the hole orbitals is reversed such that hole orbital with the largest $\\lambda$-value is found as number $n_\\mathrm{occ}$ in the orbital viewer. The associated electron orbital is found as number $n_\\mathrm{occ} + 1$. And so forth.\n",
    "```"
   ]
  },
  {
   "cell_type": "code",
   "execution_count": 16,
   "id": "c35ba5a8-8322-4ec6-8aed-f136107cf528",
   "metadata": {
    "editable": true,
    "slideshow": {
     "slide_type": ""
    },
    "tags": []
   },
   "outputs": [
    {
     "data": {
      "application/vnd.jupyter.widget-view+json": {
       "model_id": "9abc8801f65b4b11a74881563693e79f",
       "version_major": 2,
       "version_minor": 0
      },
      "text/plain": [
       "Output()"
      ]
     },
     "metadata": {},
     "output_type": "display_data"
    },
    {
     "data": {
      "application/vnd.jupyter.widget-view+json": {
       "model_id": "66ce842b97c84b24bf84ffa1de2c982e",
       "version_major": 2,
       "version_minor": 0
      },
      "text/plain": [
       "Dropdown(description='Orbital:', index=15, options=(('  1 occ=-0.000 ene=0.000', 0), ('  2 occ=-0.000 ene=0.00…"
      ]
     },
     "metadata": {},
     "output_type": "display_data"
    }
   ],
   "source": [
    "viewer = vlx.OrbitalViewer()\n",
    "viewer.plot(molecule, basis, lreig_results[\"nto_h5_files\"][state])"
   ]
  },
  {
   "cell_type": "markdown",
   "id": "1865c5f6-ef08-481e-9c6a-63843d51b19d",
   "metadata": {
    "editable": true,
    "slideshow": {
     "slide_type": ""
    },
    "tags": []
   },
   "source": [
    "## Implementation\n",
    "\n",
    "Below follows an implementation of the NTO concept. First, we find the dimensions of the involved vectors and matrices."
   ]
  },
  {
   "cell_type": "code",
   "execution_count": 17,
   "id": "2d5631cf-d3b3-41f8-aff2-062d2e4a7144",
   "metadata": {
    "editable": true,
    "slideshow": {
     "slide_type": ""
    },
    "tags": []
   },
   "outputs": [
    {
     "name": "stdout",
     "output_type": "stream",
     "text": [
      "Number of orbitals: 52\n",
      "Number of occupied orbitals: 16\n",
      "Number of unoccupied orbitals: 36\n",
      "Number of excitations: 576\n"
     ]
    }
   ],
   "source": [
    "norb = basis.get_dimension_of_basis()\n",
    "nocc = molecule.number_of_alpha_electrons()\n",
    "nvirt = norb - nocc\n",
    "nexc = nocc * nvirt\n",
    "\n",
    "print(\"Number of orbitals:\", norb)\n",
    "print(\"Number of occupied orbitals:\", nocc)\n",
    "print(\"Number of unoccupied orbitals:\", nvirt)\n",
    "print(\"Number of excitations:\", nexc)"
   ]
  },
  {
   "cell_type": "markdown",
   "id": "9c258690-603f-41d6-95ed-6de6e3809e7c",
   "metadata": {
    "editable": true,
    "slideshow": {
     "slide_type": ""
    },
    "tags": []
   },
   "source": [
    "The RPA eigenvector is obtained with use of the `get_full_solution_vector()` method and thereafter scattered into the transition matrix that becomes SVD factorized. "
   ]
  },
  {
   "cell_type": "code",
   "execution_count": 41,
   "id": "dee651d5-57a1-44ef-8d24-55ce632c24f0",
   "metadata": {
    "editable": true,
    "slideshow": {
     "slide_type": "subslide"
    },
    "tags": []
   },
   "outputs": [
    {
     "name": "stdout",
     "output_type": "stream",
     "text": [
      "Square of diagonal elements:\n",
      " [3.72499014e-01 3.72475472e-01 2.29239846e-02 2.29211293e-02\n",
      " 6.24552563e-03 6.24323135e-03 4.88180538e-03 4.88178175e-03\n",
      " 3.99380771e-03 3.99361417e-03 2.04378291e-03 2.04255914e-03\n",
      " 4.28944806e-07 4.28167413e-07 3.18819613e-07 3.17971237e-07]\n"
     ]
    }
   ],
   "source": [
    "Xf = lreig_drv.get_full_solution_vector(\n",
    "    lreig_results[\"eigenvectors_distributed\"][state]\n",
    ")\n",
    "\n",
    "Zf = Xf[:nexc]\n",
    "Yf = Xf[nexc:]\n",
    "T = np.reshape(Zf - Yf, (nocc, nvirt))\n",
    "U, L, V = np.linalg.svd(T)\n",
    "\n",
    "print(\"Square of diagonal elements:\\n\", L**2)"
   ]
  },
  {
   "cell_type": "markdown",
   "id": "4e98f7de-6626-4056-814b-6eb4190f4ca8",
   "metadata": {
    "editable": true,
    "slideshow": {
     "slide_type": ""
    },
    "tags": []
   },
   "source": [
    "We note that these $\\lambda$-values are in perfect agreement with those obtained in the reference calculation."
   ]
  }
 ],
 "metadata": {
  "kernelspec": {
   "display_name": "Python 3 (ipykernel)",
   "language": "python",
   "name": "python3"
  },
  "language_info": {
   "codemirror_mode": {
    "name": "ipython",
    "version": 3
   },
   "file_extension": ".py",
   "mimetype": "text/x-python",
   "name": "python",
   "nbconvert_exporter": "python",
   "pygments_lexer": "ipython3",
   "version": "3.11.6"
  }
 },
 "nbformat": 4,
 "nbformat_minor": 5
}
