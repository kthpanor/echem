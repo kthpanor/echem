{
 "cells": [
  {
   "cell_type": "markdown",
   "metadata": {},
   "source": [
    "# Implementation of the exciton coupling model\n",
    "\n",
    "## Example\n",
    "\n",
    "### Import modules"
   ]
  },
  {
   "cell_type": "code",
   "execution_count": null,
   "metadata": {},
   "outputs": [],
   "source": [
    "import veloxchem as vlx\n",
    "import numpy as np\n",
    "import py3Dmol as p3d"
   ]
  },
  {
   "cell_type": "markdown",
   "metadata": {},
   "source": [
    "### Set up molecule and basis set"
   ]
  },
  {
   "cell_type": "code",
   "execution_count": null,
   "metadata": {},
   "outputs": [],
   "source": [
    "# molecule and basis\n",
    "\n",
    "mol_xyz = \"\"\"12\n",
    "c2h4-dimer\n",
    "C         -1.37731        1.01769       -0.71611\n",
    "C         -0.04211        1.07142       -0.72602\n",
    "H         -1.96225        1.74636       -0.16458\n",
    "H         -1.90859        0.23094       -1.24174\n",
    "H          0.49049        1.84498       -0.18262\n",
    "H          0.54315        0.32947       -1.25941\n",
    "C         -1.17537       -1.48468        2.37427\n",
    "C          0.06813       -1.06658        2.62697\n",
    "H         -1.35657       -2.40378        1.82687\n",
    "H          0.92893       -1.63558        2.29127\n",
    "H         -2.03527       -0.90348        2.69157\n",
    "H          0.24803       -0.13578        3.15527\n",
    "\"\"\"\n",
    "molecule = vlx.Molecule.from_xyz_string(mol_xyz)\n",
    "basis = vlx.MolecularBasis.read(molecule, 'def2-svp')"
   ]
  },
  {
   "cell_type": "code",
   "execution_count": null,
   "metadata": {},
   "outputs": [],
   "source": [
    "viewer = p3d.view(viewergrid=(1,1),width=300,height=200)\n",
    "viewer.addModel(mol_xyz, 'xyz', viewer=(0,0))\n",
    "viewer.setStyle({'stick': {}})\n",
    "viewer.rotate(90,'x')\n",
    "viewer.show()"
   ]
  },
  {
   "cell_type": "markdown",
   "metadata": {},
   "source": [
    "### Set up the exciton model driver"
   ]
  },
  {
   "cell_type": "code",
   "execution_count": null,
   "metadata": {},
   "outputs": [],
   "source": [
    "# exciton model setup\n",
    "\n",
    "exmod_settings = {\n",
    "    'fragments': '2',\n",
    "    'atoms_per_fragment': '6',\n",
    "    'charges': '0',\n",
    "    'nstates': '5',\n",
    "    'ct_nocc': '1',\n",
    "    'ct_nvir': '1',\n",
    "}\n",
    "\n",
    "method_settings = {'dft': 'no'}\n",
    "\n",
    "exmod_drv = vlx.ExcitonModelDriver()\n",
    "exmod_drv.update_settings(exmod_settings, method_settings)"
   ]
  },
  {
   "cell_type": "markdown",
   "metadata": {},
   "source": [
    "### Initializes exciton model Hamiltonian and transition dipoles"
   ]
  },
  {
   "cell_type": "code",
   "execution_count": null,
   "metadata": {},
   "outputs": [],
   "source": [
    "monomer_natoms = list(exmod_drv.natoms)\n",
    "n_monomers = len(monomer_natoms)\n",
    "monomer_start_indices = [sum(exmod_drv.natoms[:i]) for i in range(n_monomers)]\n",
    "\n",
    "npairs = n_monomers * (n_monomers - 1) // 2\n",
    "total_LE_states = n_monomers * exmod_drv.nstates\n",
    "total_CT_states = npairs * exmod_drv.ct_nocc * exmod_drv.ct_nvir * 2\n",
    "total_num_states = total_LE_states + total_CT_states\n",
    "\n",
    "exmod_drv.H = np.zeros((total_num_states, total_num_states))\n",
    "exmod_drv.elec_trans_dipoles = np.zeros((total_num_states, 3))\n",
    "exmod_drv.velo_trans_dipoles = np.zeros((total_num_states, 3))\n",
    "exmod_drv.magn_trans_dipoles = np.zeros((total_num_states, 3))\n",
    "exmod_drv.center_of_mass = molecule.center_of_mass()\n",
    "\n",
    "state_strings = ['' for s in range(total_num_states)]\n",
    "\n",
    "dimer_pairs = [(indA, indB)\n",
    "               for indA in range(n_monomers)\n",
    "               for indB in range(indA + 1, n_monomers)]\n",
    "excitation_ids = exmod_drv.get_excitation_ids(dimer_pairs)"
   ]
  },
  {
   "cell_type": "markdown",
   "metadata": {},
   "source": [
    "### Run monomer calculations"
   ]
  },
  {
   "cell_type": "code",
   "execution_count": null,
   "metadata": {
    "tags": [
     "output_scroll"
    ]
   },
   "outputs": [],
   "source": [
    "# monomer calculations\n",
    "\n",
    "monomers_info = [{} for ind in range(n_monomers)]\n",
    "\n",
    "for ind in range(n_monomers):\n",
    "    monomer = molecule.get_sub_molecule(monomer_start_indices[ind],\n",
    "                                        monomer_natoms[ind])\n",
    "    monomer.set_charge(exmod_drv.charges[ind])\n",
    "    monomer.check_multiplicity()\n",
    "\n",
    "    scf_tensors = exmod_drv.monomer_scf(method_settings, ind, monomer, basis)\n",
    "    tda_results = exmod_drv.monomer_tda(method_settings, ind, monomer, basis,\n",
    "                                        scf_tensors)\n",
    "\n",
    "    monomers_info[ind]['mo'] = scf_tensors['C_alpha']\n",
    "    monomers_info[ind]['exc_energies'] = tda_results['exc_energies']\n",
    "    monomers_info[ind]['exc_vectors'] = tda_results['exc_vectors']\n",
    "\n",
    "    one_elec_ints = exmod_drv.get_one_elec_integrals(monomer, basis)\n",
    "    trans_dipoles = exmod_drv.get_LE_trans_dipoles(monomer, basis,\n",
    "                                                   one_elec_ints, scf_tensors,\n",
    "                                                   tda_results)\n",
    "\n",
    "    # LE states\n",
    "    for s in range(exmod_drv.nstates):\n",
    "        h = excitation_ids[ind, ind] + s\n",
    "        # LE energies\n",
    "        exmod_drv.H[h, h] = monomers_info[ind]['exc_energies'][s]\n",
    "        # LE transition dipoles\n",
    "        exmod_drv.elec_trans_dipoles[h, :] = trans_dipoles['electric'][s]\n",
    "        exmod_drv.velo_trans_dipoles[h, :] = trans_dipoles['velocity'][s]\n",
    "        exmod_drv.magn_trans_dipoles[h, :] = trans_dipoles['magnetic'][s]"
   ]
  },
  {
   "cell_type": "markdown",
   "metadata": {},
   "source": [
    "### Run dimer calculations"
   ]
  },
  {
   "cell_type": "code",
   "execution_count": null,
   "metadata": {
    "tags": [
     "output_scroll"
    ]
   },
   "outputs": [],
   "source": [
    "# dimer calculations\n",
    "\n",
    "for ind_A in range(n_monomers):\n",
    "    monomer_A = molecule.get_sub_molecule(monomer_start_indices[ind_A],\n",
    "                                          monomer_natoms[ind_A])\n",
    "    monomer_A.set_charge(exmod_drv.charges[ind_A])\n",
    "    monomer_A.check_multiplicity()\n",
    "\n",
    "    for ind_B in range(ind_A + 1, n_monomers):\n",
    "        monomer_B = molecule.get_sub_molecule(monomer_start_indices[ind_B],\n",
    "                                              monomer_natoms[ind_B])\n",
    "        monomer_B.set_charge(exmod_drv.charges[ind_B])\n",
    "        monomer_B.check_multiplicity()\n",
    "\n",
    "        dimer = vlx.Molecule(monomer_A, monomer_B)\n",
    "        dimer.check_multiplicity()\n",
    "\n",
    "        mo_A = monomers_info[ind_A]['mo']\n",
    "        mo_B = monomers_info[ind_B]['mo']\n",
    "\n",
    "        nocc_A = monomer_A.number_of_alpha_electrons()\n",
    "        nocc_B = monomer_B.number_of_alpha_electrons()\n",
    "        nvir_A = mo_A.shape[1] - nocc_A\n",
    "        nvir_B = mo_B.shape[1] - nocc_B\n",
    "\n",
    "        nocc = nocc_A + nocc_B\n",
    "        nvir = nvir_A + nvir_B\n",
    "\n",
    "        mo = exmod_drv.dimer_mo_coefficients(monomer_A, monomer_B, basis, mo_A,\n",
    "                                             mo_B)\n",
    "\n",
    "        dimer_prop = exmod_drv.dimer_properties(dimer, basis, mo)\n",
    "\n",
    "        dimer_energy = dimer_prop['energy']\n",
    "\n",
    "        exc_vectors_A = monomers_info[ind_A]['exc_vectors']\n",
    "        exc_vectors_B = monomers_info[ind_B]['exc_vectors']\n",
    "\n",
    "        exc_vectors = []\n",
    "\n",
    "        exc_vectors += exmod_drv.dimer_excitation_vectors_LE_A(\n",
    "            exc_vectors_A, ind_A, nocc_A, nvir_A, nocc, nvir, excitation_ids)\n",
    "\n",
    "        exc_vectors += exmod_drv.dimer_excitation_vectors_LE_B(\n",
    "            exc_vectors_B, ind_B, nocc_A, nvir_A, nocc, nvir, excitation_ids)\n",
    "\n",
    "        exc_vectors += exmod_drv.dimer_excitation_vectors_CT_AB(\n",
    "            ind_A, ind_B, nocc_A, nvir_A, nocc, nvir, excitation_ids)\n",
    "\n",
    "        exc_vectors += exmod_drv.dimer_excitation_vectors_CT_BA(\n",
    "            ind_A, ind_B, nocc_A, nvir_A, nocc, nvir, excitation_ids)\n",
    "        \n",
    "        for c_vec in exc_vectors:\n",
    "            state_strings[c_vec['index']] = c_vec['type'] + '(' + c_vec['frag'] + ')'\n",
    "            state_strings[c_vec['index']] += '   ' + c_vec['name']\n",
    "\n",
    "        sigma_vectors = exmod_drv.dimer_sigma_vectors(dimer, basis, dimer_prop,\n",
    "                                                      mo, exc_vectors)\n",
    "\n",
    "        one_elec_ints = exmod_drv.get_one_elec_integrals(dimer, basis)\n",
    "        trans_dipoles = exmod_drv.get_CT_trans_dipoles(\n",
    "            dimer, basis, one_elec_ints, mo,\n",
    "            exc_vectors[exmod_drv.nstates * 2:])\n",
    "\n",
    "        # CT states\n",
    "        for i_vec, (c_vec, s_vec) in enumerate(\n",
    "                zip(exc_vectors[exmod_drv.nstates * 2:],\n",
    "                    sigma_vectors[exmod_drv.nstates * 2:])):\n",
    "            # CT energies\n",
    "            energy = np.vdot(c_vec['vec'], s_vec['vec'])\n",
    "            exmod_drv.H[c_vec['index'], c_vec['index']] = energy\n",
    "            # CT transition dipoles\n",
    "            exmod_drv.elec_trans_dipoles[\n",
    "                c_vec['index'], :] = trans_dipoles['electric'][i_vec]\n",
    "            exmod_drv.velo_trans_dipoles[\n",
    "                c_vec['index'], :] = trans_dipoles['velocity'][i_vec]\n",
    "            exmod_drv.magn_trans_dipoles[\n",
    "                c_vec['index'], :] = trans_dipoles['magnetic'][i_vec]\n",
    "\n",
    "        # LE(A)-LE(B) couplings\n",
    "        for c_vec in exc_vectors[:exmod_drv.nstates]:\n",
    "            for s_vec in sigma_vectors[exmod_drv.nstates:exmod_drv.nstates * 2]:\n",
    "                coupling = np.vdot(c_vec['vec'], s_vec['vec'])\n",
    "                exmod_drv.H[c_vec['index'], s_vec['index']] = coupling\n",
    "                exmod_drv.H[s_vec['index'], c_vec['index']] = coupling\n",
    "\n",
    "        # LE-CT couplings\n",
    "        for c_vec in exc_vectors[:exmod_drv.nstates * 2]:\n",
    "            for s_vec in sigma_vectors[exmod_drv.nstates * 2:]:\n",
    "                coupling = np.vdot(c_vec['vec'], s_vec['vec'])\n",
    "                exmod_drv.H[c_vec['index'], s_vec['index']] = coupling\n",
    "                exmod_drv.H[s_vec['index'], c_vec['index']] = coupling\n",
    "\n",
    "        # CT-CT couplings\n",
    "        for c_vec in exc_vectors[exmod_drv.nstates * 2:]:\n",
    "            for s_vec in sigma_vectors[exmod_drv.nstates * 2:]:\n",
    "                if c_vec['index'] >= s_vec['index']:\n",
    "                    continue\n",
    "                coupling = np.vdot(c_vec['vec'], s_vec['vec'])\n",
    "                exmod_drv.H[c_vec['index'], s_vec['index']] = coupling\n",
    "                exmod_drv.H[s_vec['index'], c_vec['index']] = coupling"
   ]
  },
  {
   "cell_type": "markdown",
   "metadata": {},
   "source": [
    "### Print the exciton model Hamiltonian"
   ]
  },
  {
   "cell_type": "code",
   "execution_count": null,
   "metadata": {
    "tags": [
     "output_scroll"
    ]
   },
   "outputs": [],
   "source": [
    "np.set_printoptions(precision=6, suppress=True)\n",
    "\n",
    "n = exmod_drv.nstates\n",
    "H = exmod_drv.H\n",
    "\n",
    "print('The LE(A)-LE(A) block:\\n')\n",
    "print(H[:n, :n], '\\n')\n",
    "\n",
    "print('The LE(A)-LE(B) block:\\n')\n",
    "print(H[:n, n:n*2], '\\n')\n",
    "\n",
    "print('The LE(A)-CT block:\\n')\n",
    "print(H[:n, n*2:], '\\n')\n",
    "\n",
    "print('The LE(B)-LE(B) block:\\n')\n",
    "print(H[n:n*2, n:n*2], '\\n')\n",
    "\n",
    "print('The LE(B)-CT block:\\n')\n",
    "print(H[n:n*2, n*2:], '\\n')\n",
    "\n",
    "print('The CT-CT block:\\n')\n",
    "print(H[n*2:, n*2:], '\\n')"
   ]
  },
  {
   "cell_type": "code",
   "execution_count": null,
   "metadata": {},
   "outputs": [],
   "source": [
    "for s, state_str in enumerate(state_strings):\n",
    "    print(f'diabatic state {s+1:<5d}', state_str)"
   ]
  },
  {
   "cell_type": "markdown",
   "metadata": {},
   "source": [
    "### Get excitation energies and transition dipoles"
   ]
  },
  {
   "cell_type": "code",
   "execution_count": null,
   "metadata": {
    "scrolled": false
   },
   "outputs": [],
   "source": [
    "# Exciton model energies\n",
    "\n",
    "eigvals, eigvecs = np.linalg.eigh(exmod_drv.H)\n",
    "\n",
    "elec_trans_dipoles = np.matmul(eigvecs.T, exmod_drv.elec_trans_dipoles)\n",
    "velo_trans_dipoles = np.matmul(eigvecs.T, exmod_drv.velo_trans_dipoles)\n",
    "magn_trans_dipoles = np.matmul(eigvecs.T, exmod_drv.magn_trans_dipoles)\n",
    "\n",
    "excitation_energies = []\n",
    "oscillator_strengths = []\n",
    "rotatory_strengths = []\n",
    "\n",
    "for s in range(total_num_states):\n",
    "    ene = eigvals[s]\n",
    "    dip_strength = np.sum(elec_trans_dipoles[s, :]**2)\n",
    "    f = (2.0 / 3.0) * dip_strength * ene\n",
    "\n",
    "    velo_trans_dipoles[s, :] /= ene\n",
    "    R = np.vdot(velo_trans_dipoles[s, :], magn_trans_dipoles[s, :])\n",
    "    \n",
    "    excitation_energies.append(ene)\n",
    "    oscillator_strengths.append(f)\n",
    "    rotatory_strengths.append(R)\n",
    "\n",
    "    print(f'S{s+1:<2d}  {ene*vlx.hartree_in_ev():10.5f} eV  f={f:<.4f}  R={R:<.4f}')"
   ]
  },
  {
   "cell_type": "code",
   "execution_count": null,
   "metadata": {
    "tags": [
     "output_scroll"
    ]
   },
   "outputs": [],
   "source": [
    "for s in range(total_num_states):\n",
    "    print(f'S{s+1}:')\n",
    "    c_squared = eigvecs[:, s]**2\n",
    "    components = []\n",
    "    for c2, state_str in zip(c_squared, state_strings):\n",
    "        if c2 > 0.04:\n",
    "            components.append((c2, state_str))\n",
    "    for c2, state_str in sorted(components, reverse=True):\n",
    "        print(f'    {c2*100:5.1f}%  {state_str}')"
   ]
  },
  {
   "cell_type": "markdown",
   "metadata": {},
   "source": [
    "### Plot absorption and ECD spectra"
   ]
  },
  {
   "cell_type": "code",
   "execution_count": null,
   "metadata": {},
   "outputs": [],
   "source": [
    "import matplotlib.pyplot as plt\n",
    "\n",
    "def lorentzian(x, y, xmin, xmax, xstep, gamma):\n",
    "    '''\n",
    "    Lorentzian broadening function\n",
    "    \n",
    "    Call: xi,yi = lorentzian(energies, intensities, start energy, end energy, energy step, gamma)\n",
    "    '''\n",
    "    xi = np.arange(xmin,xmax,xstep); yi=np.zeros(len(xi))\n",
    "    for i in range(len(xi)):\n",
    "        for k in range(len(x)): yi[i] = yi[i] + y[k] * (gamma/2.) / ( (xi[i]-x[k])**2 + (gamma/2.)**2 )\n",
    "    return xi,yi\n",
    "\n",
    "plt.figure(figsize=(6,4))\n",
    "\n",
    "x = np.array(excitation_energies) * 27.211385\n",
    "y_abs = np.array(oscillator_strengths)\n",
    "y_ecd = np.array(rotatory_strengths)\n",
    "\n",
    "x0,y0 = lorentzian(x, y_abs, min(x)-1.0, max(x)+1.0, 0.01, 0.2)\n",
    "plt.plot(x0,y0)\n",
    "plt.show()\n",
    "\n",
    "x1,y1 = lorentzian(x, y_ecd, min(x)-1.0, max(x)+1.0, 0.01, 0.2)\n",
    "plt.plot(x1,y1)\n",
    "plt.show()"
   ]
  },
  {
   "cell_type": "code",
   "execution_count": null,
   "metadata": {},
   "outputs": [],
   "source": [
    "x_ref = 27.211385 * np.array([\n",
    "    0.29347889, 0.31661749, 0.33498928, 0.33948716, 0.34142481, 0.34378921,\n",
    "    0.35317567, 0.35467501, 0.37317654, 0.37523192, 0.38737236, 0.38809457,\n",
    "    0.40824740, 0.41131899, 0.44405319, 0.44836638, 0.45442440, 0.45618961,\n",
    "    0.45869117, 0.46343516, 0.46961985, 0.47008569, 0.48617428, 0.48913889,\n",
    "    0.49490201, 0.49583015, 0.49623637, 0.50093006, 0.50196948, 0.50276614,\n",
    "    0.54606024, 0.54653988, 0.54825489, 0.54984647, 0.55276288, 0.55355450,\n",
    "    0.56052689, 0.56204114, 0.56307883, 0.56521540, 0.57830505, 0.57987938,\n",
    "    0.58276149, 0.59040369, 0.59608911, 0.59657872, 0.60755394, 0.61502897,\n",
    "    0.62056515, 0.62125169\n",
    "])\n",
    "\n",
    "y_abs_ref = np.array([\n",
    "    0.0293, 1.1700, 0.0189, 0.0000, 0.0008, 0.0000, 0.0001, 0.0000, 0.0003,\n",
    "    0.0004, 0.0004, 0.0036, 0.0011, 0.0024, 0.0000, 0.0000, 0.0000, 0.0000,\n",
    "    0.0003, 0.0076, 0.0000, 0.0000, 0.0042, 0.0170, 0.0268, 0.0055, 0.2073,\n",
    "    0.7341, 0.7807, 0.8590, 0.0543, 0.0794, 0.0043, 0.0003, 0.0024, 0.1701,\n",
    "    0.0002, 0.0001, 0.0005, 0.0000, 0.0190, 0.4825, 0.0609, 0.0002, 0.0031,\n",
    "    0.0004, 0.2050, 0.0002, 0.0191, 0.0152\n",
    "])\n",
    "\n",
    "y_ecd_ref = np.array([\n",
    "    0.144750, -0.164027, -0.000035, 0.000009, 0.014472, 0.001995, 0.004958,\n",
    "    0.000899, -0.019302, 0.000786, 0.013440, -0.007686, 0.000918, 0.001135,\n",
    "    -0.000005, -0.000019, 0.000222, 0.003878, 0.000392, -0.000790, -0.000002,\n",
    "    0.000000, 0.006479, 0.047084, 0.458896, -0.154583, -0.063050, -0.217650,\n",
    "    -0.459211, 0.383874, 0.041366, -0.032507, 0.000123, 0.000373, 0.025144,\n",
    "    -0.050821, 0.000443, 0.003195, -0.001069, 0.000036, 0.285024, -0.269169,\n",
    "    -0.004591, 0.000050, 0.005488, 0.001347, -0.000665, 0.000083, -0.023592,\n",
    "    -0.011323\n",
    "])\n",
    "\n",
    "x0_ref,y0_ref = lorentzian(x_ref, y_abs_ref, min(x)-1.0, max(x)+1.0, 0.01, 0.2)\n",
    "plt.plot(x0,y0,label='Exciton model')\n",
    "plt.plot(x0_ref,y0_ref,label='TDDFT-TDA')\n",
    "plt.legend()\n",
    "plt.show()\n",
    "\n",
    "x1_ref,y1_ref = lorentzian(x_ref, y_ecd_ref, min(x)-1.0, max(x)+1.0, 0.01, 0.2)\n",
    "plt.plot(x1,y1,label='Exciton model')\n",
    "plt.plot(x1_ref,y1_ref,label='TDDFT-TDA')\n",
    "plt.legend()\n",
    "plt.show()"
   ]
  },
  {
   "cell_type": "code",
   "execution_count": null,
   "metadata": {},
   "outputs": [],
   "source": []
  }
 ],
 "metadata": {
  "celltoolbar": "Tags",
  "kernelspec": {
   "display_name": "Python 3 (ipykernel)",
   "language": "python",
   "name": "python3"
  },
  "language_info": {
   "codemirror_mode": {
    "name": "ipython",
    "version": 3
   },
   "file_extension": ".py",
   "mimetype": "text/x-python",
   "name": "python",
   "nbconvert_exporter": "python",
   "pygments_lexer": "ipython3",
   "version": "3.9.15"
  }
 },
 "nbformat": 4,
 "nbformat_minor": 4
}
