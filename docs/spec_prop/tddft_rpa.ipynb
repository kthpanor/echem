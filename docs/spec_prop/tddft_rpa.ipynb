{
 "cells": [
  {
   "cell_type": "markdown",
   "id": "82a99743-db37-4e5e-bc1d-be3c9e5ea9d1",
   "metadata": {
    "editable": true,
    "slideshow": {
     "slide_type": ""
    },
    "tags": []
   },
   "source": [
    "# RPA equation\n",
    "\n",
    "\n",
    "The linear response TDDFT equations involves the solution of a non-Hermitian eigenvalue equation which can be written as\n",
    "\n",
    "$$\n",
    "\\left(\n",
    "\\begin{array}{cc}\n",
    "\\mathbf{A} & \\mathbf{B} \\\\\n",
    "\\mathbf{B}^* & \\mathbf{A}^*\n",
    "\\end{array}\n",
    "\\right) \n",
    "\\left(\n",
    "\\begin{array}{c}\n",
    "\\mathbf{X} \\\\\n",
    "\\mathbf{Y}\n",
    "\\end{array}\n",
    "\\right) \n",
    "= \\omega\n",
    "\\left(\n",
    "\\begin{array}{cc}\n",
    "\\mathbf{1} & \\mathbf{0} \\\\\n",
    "\\mathbf{0} & \\mathbf{-1}\n",
    "\\end{array}\n",
    "\\right) \n",
    "\\left(\n",
    "\\begin{array}{c}\n",
    "\\mathbf{X} \\\\\n",
    "\\mathbf{Y}\n",
    "\\end{array}\n",
    "\\right) \n",
    "$$\n",
    "\n",
    "From this, excitation energies and transition amplitudes are obtained from the eigenvalues and corresponding eigenvectors, respectively. For historical reasons, this is referred to as the random-phase approximation (RPA) within TDHF theory, and we adopt this naming convention also for TDDFT.\n",
    "\n",
    "As an example, consider the ethylene molecule:"
   ]
  },
  {
   "cell_type": "code",
   "execution_count": 2,
   "id": "534fd1fa-37dd-48bd-b4ba-1a68f36a0796",
   "metadata": {
    "editable": true,
    "slideshow": {
     "slide_type": ""
    },
    "tags": [
     "hide-input",
     "remove-output"
    ]
   },
   "outputs": [
    {
     "name": "stdout",
     "output_type": "stream",
     "text": [
      "* Warning * Environment variable OMP_NUM_THREADS not set.\n",
      "* Warning * Setting OMP_NUM_THREADS to 4.\n"
     ]
    }
   ],
   "source": [
    "import py3Dmol as p3d\n",
    "import veloxchem as vlx\n",
    "import matplotlib.pyplot as plt\n",
    "import numpy as np\n",
    "from valet import transition_analysis_utils as tau"
   ]
  },
  {
   "cell_type": "code",
   "execution_count": 3,
   "id": "9066ce9b-cd27-4232-ab9a-39db273e8bb5",
   "metadata": {
    "editable": true,
    "slideshow": {
     "slide_type": ""
    },
    "tags": []
   },
   "outputs": [],
   "source": [
    "ethene_xyz = \"\"\"6\n",
    "\n",
    "C        0.67759997    0.00000000    0.00000000\n",
    "C       -0.67759997    0.00000000    0.00000000\n",
    "H        1.21655197    0.92414474    0.00000000\n",
    "H        1.21655197   -0.92414474    0.00000000\n",
    "H       -1.21655197   -0.92414474    0.00000000\n",
    "H       -1.21655197    0.92414474    0.00000000\n",
    "\"\"\""
   ]
  },
  {
   "cell_type": "code",
   "execution_count": 4,
   "id": "4d7de92f-e435-464a-a906-95e73624cc6e",
   "metadata": {
    "editable": true,
    "slideshow": {
     "slide_type": ""
    },
    "tags": [
     "remove-input"
    ]
   },
   "outputs": [
    {
     "data": {
      "application/3dmoljs_load.v0": "<div id=\"3dmolviewer_17030724513427076\"  style=\"position: relative; width: 400px; height: 300px;\">\n        <p id=\"3dmolwarning_17030724513427076\" style=\"background-color:#ffcccc;color:black\">You appear to be running in JupyterLab (or JavaScript failed to load for some other reason).  You need to install the 3dmol extension: <br>\n        <tt>jupyter labextension install jupyterlab_3dmol</tt></p>\n        </div>\n<script>\n\nvar loadScriptAsync = function(uri){\n  return new Promise((resolve, reject) => {\n    //this is to ignore the existence of requirejs amd\n    var savedexports, savedmodule;\n    if (typeof exports !== 'undefined') savedexports = exports;\n    else exports = {}\n    if (typeof module !== 'undefined') savedmodule = module;\n    else module = {}\n\n    var tag = document.createElement('script');\n    tag.src = uri;\n    tag.async = true;\n    tag.onload = () => {\n        exports = savedexports;\n        module = savedmodule;\n        resolve();\n    };\n  var firstScriptTag = document.getElementsByTagName('script')[0];\n  firstScriptTag.parentNode.insertBefore(tag, firstScriptTag);\n});\n};\n\nif(typeof $3Dmolpromise === 'undefined') {\n$3Dmolpromise = null;\n  $3Dmolpromise = loadScriptAsync('https://cdnjs.cloudflare.com/ajax/libs/3Dmol/2.0.4/3Dmol-min.js');\n}\n\nvar viewer_17030724513427076 = null;\nvar warn = document.getElementById(\"3dmolwarning_17030724513427076\");\nif(warn) {\n    warn.parentNode.removeChild(warn);\n}\n$3Dmolpromise.then(function() {\nviewer_17030724513427076 = $3Dmol.createViewer(document.getElementById(\"3dmolviewer_17030724513427076\"),{backgroundColor:\"white\"});\nviewer_17030724513427076.zoomTo();\n\tviewer_17030724513427076.addModel(\"6\\n\\nC        0.67759997    0.00000000    0.00000000\\nC       -0.67759997    0.00000000    0.00000000\\nH        1.21655197    0.92414474    0.00000000\\nH        1.21655197   -0.92414474    0.00000000\\nH       -1.21655197   -0.92414474    0.00000000\\nH       -1.21655197    0.92414474    0.00000000\\n\");\n\tviewer_17030724513427076.setViewStyle({\"style\": \"outline\", \"width\": 0.05});\n\tviewer_17030724513427076.setStyle({\"stick\": {}, \"sphere\": {\"scale\": 0.25}});\nviewer_17030724513427076.render();\n});\n</script>",
      "text/html": [
       "<div id=\"3dmolviewer_17030724513427076\"  style=\"position: relative; width: 400px; height: 300px;\">\n",
       "        <p id=\"3dmolwarning_17030724513427076\" style=\"background-color:#ffcccc;color:black\">You appear to be running in JupyterLab (or JavaScript failed to load for some other reason).  You need to install the 3dmol extension: <br>\n",
       "        <tt>jupyter labextension install jupyterlab_3dmol</tt></p>\n",
       "        </div>\n",
       "<script>\n",
       "\n",
       "var loadScriptAsync = function(uri){\n",
       "  return new Promise((resolve, reject) => {\n",
       "    //this is to ignore the existence of requirejs amd\n",
       "    var savedexports, savedmodule;\n",
       "    if (typeof exports !== 'undefined') savedexports = exports;\n",
       "    else exports = {}\n",
       "    if (typeof module !== 'undefined') savedmodule = module;\n",
       "    else module = {}\n",
       "\n",
       "    var tag = document.createElement('script');\n",
       "    tag.src = uri;\n",
       "    tag.async = true;\n",
       "    tag.onload = () => {\n",
       "        exports = savedexports;\n",
       "        module = savedmodule;\n",
       "        resolve();\n",
       "    };\n",
       "  var firstScriptTag = document.getElementsByTagName('script')[0];\n",
       "  firstScriptTag.parentNode.insertBefore(tag, firstScriptTag);\n",
       "});\n",
       "};\n",
       "\n",
       "if(typeof $3Dmolpromise === 'undefined') {\n",
       "$3Dmolpromise = null;\n",
       "  $3Dmolpromise = loadScriptAsync('https://cdnjs.cloudflare.com/ajax/libs/3Dmol/2.0.4/3Dmol-min.js');\n",
       "}\n",
       "\n",
       "var viewer_17030724513427076 = null;\n",
       "var warn = document.getElementById(\"3dmolwarning_17030724513427076\");\n",
       "if(warn) {\n",
       "    warn.parentNode.removeChild(warn);\n",
       "}\n",
       "$3Dmolpromise.then(function() {\n",
       "viewer_17030724513427076 = $3Dmol.createViewer(document.getElementById(\"3dmolviewer_17030724513427076\"),{backgroundColor:\"white\"});\n",
       "viewer_17030724513427076.zoomTo();\n",
       "\tviewer_17030724513427076.addModel(\"6\\n\\nC        0.67759997    0.00000000    0.00000000\\nC       -0.67759997    0.00000000    0.00000000\\nH        1.21655197    0.92414474    0.00000000\\nH        1.21655197   -0.92414474    0.00000000\\nH       -1.21655197   -0.92414474    0.00000000\\nH       -1.21655197    0.92414474    0.00000000\\n\");\n",
       "\tviewer_17030724513427076.setViewStyle({\"style\": \"outline\", \"width\": 0.05});\n",
       "\tviewer_17030724513427076.setStyle({\"stick\": {}, \"sphere\": {\"scale\": 0.25}});\n",
       "viewer_17030724513427076.render();\n",
       "});\n",
       "</script>"
      ]
     },
     "metadata": {},
     "output_type": "display_data"
    }
   ],
   "source": [
    "viewer = p3d.view(width=400, height=300)\n",
    "viewer.addModel(ethene_xyz)\n",
    "viewer.setViewStyle({\"style\": \"outline\", \"width\": 0.05})\n",
    "viewer.setStyle({\"stick\": {}, \"sphere\": {\"scale\": 0.25}})\n",
    "viewer.show()"
   ]
  },
  {
   "cell_type": "code",
   "execution_count": 5,
   "id": "d3109c83-530c-4f9f-8d4c-bb9dee1e9024",
   "metadata": {
    "editable": true,
    "scrolled": true,
    "slideshow": {
     "slide_type": ""
    },
    "tags": [
     "remove-output"
    ]
   },
   "outputs": [
    {
     "name": "stdout",
     "output_type": "stream",
     "text": [
      "* Info * Reading basis set from file: /home/thomas/miniconda3/envs/echem/lib/python3.11/site-packages/veloxchem/basis/6-31G\n",
      "                                                                                                                          \n",
      "                                              Molecular Basis (Atomic Basis)                                              \n",
      "                                             ================================                                             \n",
      "                                                                                                                          \n",
      "                               Basis: 6-31G                                                                               \n",
      "                                                                                                                          \n",
      "                               Atom Contracted GTOs           Primitive GTOs                                              \n",
      "                                                                                                                          \n",
      "                                H   (2S)                      (4S)                                                        \n",
      "                                C   (3S,2P)                   (10S,4P)                                                    \n",
      "                                                                                                                          \n",
      "                               Contracted Basis Functions : 26                                                            \n",
      "                               Primitive Basis Functions  : 60                                                            \n",
      "                                                                                                                          \n",
      "                                                                                                                          \n",
      "                                            Self Consistent Field Driver Setup                                            \n",
      "                                           ====================================                                           \n",
      "                                                                                                                          \n",
      "                   Wave Function Model             : Spin-Restricted Hartree-Fock                                         \n",
      "                   Initial Guess Model             : Superposition of Atomic Densities                                    \n",
      "                   Convergence Accelerator         : Two Level Direct Inversion of Iterative Subspace                     \n",
      "                   Max. Number of Iterations       : 50                                                                   \n",
      "                   Max. Number of Error Vectors    : 10                                                                   \n",
      "                   Convergence Threshold           : 1.0e-06                                                              \n",
      "                   ERI Screening Scheme            : Cauchy Schwarz + Density                                             \n",
      "                   ERI Screening Mode              : Dynamic                                                              \n",
      "                   ERI Screening Threshold         : 1.0e-12                                                              \n",
      "                   Linear Dependence Threshold     : 1.0e-06                                                              \n",
      "                                                                                                                          \n",
      "* Info * Nuclear repulsion energy: 33.3086336060 a.u.                                                                     \n",
      "                                                                                                                          \n",
      "* Info * Overlap matrix computed in 0.00 sec.                                                                             \n",
      "                                                                                                                          \n",
      "* Info * Kinetic energy matrix computed in 0.00 sec.                                                                      \n",
      "                                                                                                                          \n",
      "* Info * Nuclear potential matrix computed in 0.00 sec.                                                                   \n",
      "                                                                                                                          \n",
      "* Info * Orthogonalization matrix computed in 0.00 sec.                                                                   \n",
      "                                                                                                                          \n",
      "* Info * SAD initial guess computed in 0.00 sec.                                                                          \n",
      "                                                                                                                          \n",
      "* Info * Starting Reduced Basis SCF calculation...                                                                        \n",
      "* Info * ...done. SCF energy in reduced basis set: -78.002642751764 a.u. Time: 0.19 sec.                                  \n",
      "                                                                                                                          \n",
      "* Info * Overlap matrix computed in 0.00 sec.                                                                             \n",
      "                                                                                                                          \n",
      "* Info * Kinetic energy matrix computed in 0.00 sec.                                                                      \n",
      "                                                                                                                          \n",
      "* Info * Nuclear potential matrix computed in 0.01 sec.                                                                   \n",
      "                                                                                                                          \n",
      "* Info * Orthogonalization matrix computed in 0.00 sec.                                                                   \n",
      "                                                                                                                          \n",
      "                                                                                                                          \n",
      "               Iter. | Hartree-Fock Energy | Energy Change | Gradient Norm | Max. Gradient | Density Change               \n",
      "               --------------------------------------------------------------------------------------------               \n",
      "                  1       -78.002642754877    0.0000000000      0.00003567      0.00000803      0.00000000                \n",
      "                  2       -78.002642755176   -0.0000000003      0.00001162      0.00000253      0.00002363                \n",
      "                  3       -78.002642755198   -0.0000000000      0.00000124      0.00000031      0.00000434                \n",
      "                  4       -78.002642755199   -0.0000000000      0.00000009      0.00000002      0.00000144                \n",
      "                                                                                                                          \n",
      "               *** SCF converged in 4 iterations. Time: 0.15 sec.                                                         \n",
      "                                                                                                                          \n",
      "               Spin-Restricted Hartree-Fock:                                                                              \n",
      "               -----------------------------                                                                              \n",
      "               Total Energy                       :      -78.0026427552 a.u.                                              \n",
      "               Electronic Energy                  :     -111.3112763612 a.u.                                              \n",
      "               Nuclear Repulsion Energy           :       33.3086336060 a.u.                                              \n",
      "               ------------------------------------                                                                       \n",
      "               Gradient Norm                      :        0.0000000897 a.u.                                              \n",
      "                                                                                                                          \n",
      "                                                                                                                          \n",
      "               Ground State Information                                                                                   \n",
      "               ------------------------                                                                                   \n",
      "               Charge of Molecule            :  0.0                                                                       \n",
      "               Multiplicity (2S+1)           :  1.0                                                                       \n",
      "               Magnetic Quantum Number (M_S) :  0.0                                                                       \n",
      "                                                                                                                          \n",
      "                                                                                                                          \n",
      "                                                 Spin Restricted Orbitals                                                 \n",
      "                                                 ------------------------                                                 \n",
      "                                                                                                                          \n",
      "               Molecular Orbital No.   4:                                                                                 \n",
      "               --------------------------                                                                                 \n",
      "               Occupation: 2.000 Energy:   -0.79297 a.u.                                                                  \n",
      "               (   1 C   2s  :     0.25) (   1 C   3s  :     0.24) (   1 C   1p+1:     0.16)                              \n",
      "               (   2 C   2s  :    -0.25) (   2 C   3s  :    -0.24) (   2 C   1p+1:     0.16)                              \n",
      "               (   3 H   1s  :     0.15) (   4 H   1s  :     0.15) (   5 H   1s  :    -0.15)                              \n",
      "               (   6 H   1s  :    -0.15)                                                                                  \n",
      "                                                                                                                          \n",
      "               Molecular Orbital No.   5:                                                                                 \n",
      "               --------------------------                                                                                 \n",
      "               Occupation: 2.000 Energy:   -0.64755 a.u.                                                                  \n",
      "               (   1 C   1p-1:     0.32) (   2 C   1p-1:     0.32) (   3 H   1s  :     0.16)                              \n",
      "               (   4 H   1s  :    -0.16) (   5 H   1s  :    -0.16) (   6 H   1s  :     0.16)                              \n",
      "                                                                                                                          \n",
      "               Molecular Orbital No.   6:                                                                                 \n",
      "               --------------------------                                                                                 \n",
      "               Occupation: 2.000 Energy:   -0.57528 a.u.                                                                  \n",
      "               (   1 C   1p+1:    -0.41) (   1 C   2p+1:    -0.15) (   2 C   1p+1:     0.41)                              \n",
      "               (   2 C   2p+1:     0.15)                                                                                  \n",
      "                                                                                                                          \n",
      "               Molecular Orbital No.   7:                                                                                 \n",
      "               --------------------------                                                                                 \n",
      "               Occupation: 2.000 Energy:   -0.51028 a.u.                                                                  \n",
      "               (   1 C   1p-1:     0.31) (   1 C   2p-1:     0.20) (   2 C   1p-1:    -0.31)                              \n",
      "               (   2 C   2p-1:    -0.20) (   3 H   1s  :     0.20) (   4 H   1s  :    -0.20)                              \n",
      "               (   5 H   1s  :     0.20) (   6 H   1s  :    -0.20)                                                        \n",
      "                                                                                                                          \n",
      "               Molecular Orbital No.   8:                                                                                 \n",
      "               --------------------------                                                                                 \n",
      "               Occupation: 2.000 Energy:   -0.36646 a.u.                                                                  \n",
      "               (   1 C   1p0 :    -0.37) (   1 C   2p0 :    -0.31) (   2 C   1p0 :    -0.37)                              \n",
      "               (   2 C   2p0 :    -0.31)                                                                                  \n",
      "                                                                                                                          \n",
      "               Molecular Orbital No.   9:                                                                                 \n",
      "               --------------------------                                                                                 \n",
      "               Occupation: 0.000 Energy:    0.17011 a.u.                                                                  \n",
      "               (   1 C   1p0 :     0.35) (   1 C   2p0 :     0.73) (   2 C   1p0 :    -0.35)                              \n",
      "               (   2 C   2p0 :    -0.73)                                                                                  \n",
      "                                                                                                                          \n",
      "               Molecular Orbital No.  10:                                                                                 \n",
      "               --------------------------                                                                                 \n",
      "               Occupation: 0.000 Energy:    0.26253 a.u.                                                                  \n",
      "               (   1 C   3s  :    -1.49) (   1 C   2p+1:    -0.62) (   2 C   3s  :    -1.49)                              \n",
      "               (   2 C   2p+1:     0.62) (   3 H   2s  :     1.03) (   4 H   2s  :     1.03)                              \n",
      "               (   5 H   2s  :     1.03) (   6 H   2s  :     1.03)                                                        \n",
      "                                                                                                                          \n",
      "               Molecular Orbital No.  11:                                                                                 \n",
      "               --------------------------                                                                                 \n",
      "               Occupation: 0.000 Energy:    0.29521 a.u.                                                                  \n",
      "               (   1 C   1p-1:     0.25) (   1 C   2p-1:     0.85) (   2 C   1p-1:     0.25)                              \n",
      "               (   2 C   2p-1:     0.85) (   3 H   2s  :    -1.14) (   4 H   2s  :     1.14)                              \n",
      "               (   5 H   2s  :     1.14) (   6 H   2s  :    -1.14)                                                        \n",
      "                                                                                                                          \n",
      "               Molecular Orbital No.  12:                                                                                 \n",
      "               --------------------------                                                                                 \n",
      "               Occupation: 0.000 Energy:    0.31110 a.u.                                                                  \n",
      "               (   1 C   3s  :     1.96) (   2 C   3s  :    -1.96) (   3 H   2s  :    -1.08)                              \n",
      "               (   4 H   2s  :    -1.08) (   5 H   2s  :     1.08) (   6 H   2s  :     1.08)                              \n",
      "                                                                                                                          \n",
      "               Molecular Orbital No.  13:                                                                                 \n",
      "               --------------------------                                                                                 \n",
      "               Occupation: 0.000 Energy:    0.38858 a.u.                                                                  \n",
      "               (   1 C   1p-1:     0.25) (   1 C   2p-1:     1.90) (   2 C   1p-1:    -0.25)                              \n",
      "               (   2 C   2p-1:    -1.90) (   3 H   2s  :    -1.66) (   4 H   2s  :     1.66)                              \n",
      "               (   5 H   2s  :    -1.66) (   6 H   2s  :     1.66)                                                        \n",
      "                                                                                                                          \n"
     ]
    }
   ],
   "source": [
    "molecule = vlx.Molecule.from_xyz_string(ethene_xyz)\n",
    "basis = vlx.MolecularBasis.read(molecule, \"6-31G\")\n",
    "\n",
    "scf_drv = vlx.ScfRestrictedDriver()\n",
    "scf_results = scf_drv.compute(molecule, basis)"
   ]
  },
  {
   "cell_type": "markdown",
   "id": "545d13b6-91ba-431d-839f-da8d22339ce1",
   "metadata": {
    "editable": true,
    "slideshow": {
     "slide_type": ""
    },
    "tags": []
   },
   "source": [
    "We can extract the MO energies, number of occupied and unoccupied MOs, and the HOMO-LUMO gap:"
   ]
  },
  {
   "cell_type": "code",
   "execution_count": 6,
   "id": "54e494d4-34d1-4fad-a818-b4b05719ecb3",
   "metadata": {
    "editable": true,
    "slideshow": {
     "slide_type": ""
    },
    "tags": []
   },
   "outputs": [
    {
     "name": "stdout",
     "output_type": "stream",
     "text": [
      "Number of orbitals: 26\n",
      "Number of occupied orbitals: 8\n",
      "Number of virtual orbitals: 18\n",
      "\n",
      "MO energies (au):\n",
      " [-11.2318428  -11.23036306  -1.03031426  -0.79297209  -0.64755459\n",
      "  -0.57527959  -0.51027799  -0.3664635    0.17010963   0.26253257\n",
      "   0.29520837   0.31109777   0.38857996   0.47929591   0.68491581\n",
      "   0.78814557   0.78870971   0.8870793    0.89030532   0.97978752\n",
      "   1.15705815   1.20987525   1.2392286    1.2517033    1.36026403\n",
      "   1.54571226]\n",
      "\n",
      "HOMO-LUMO gap (eV): 14.601\n"
     ]
    }
   ],
   "source": [
    "mo_energy = scf_results[\"E_alpha\"]\n",
    "nocc = molecule.number_of_alpha_electrons()\n",
    "norb = mo_energy.shape[0]\n",
    "nvirt = norb - nocc\n",
    "\n",
    "print(\"Number of orbitals:\", len(mo_energy))\n",
    "print(\"Number of occupied orbitals:\", nocc)\n",
    "print(\"Number of virtual orbitals:\", nvirt)\n",
    "print(\"\\nMO energies (au):\\n\", mo_energy)\n",
    "\n",
    "print(f\"\\nHOMO-LUMO gap (eV): {27.2114*(mo_energy[nocc] - mo_energy[nocc-1]):.3f}\")"
   ]
  },
  {
   "cell_type": "markdown",
   "id": "be5ec232-c162-49e5-abd7-dc05bd29b860",
   "metadata": {
    "editable": true,
    "slideshow": {
     "slide_type": ""
    },
    "tags": []
   },
   "source": [
    "Looking at the MOs:"
   ]
  },
  {
   "cell_type": "code",
   "execution_count": 7,
   "id": "ffd74563-d606-4f53-acf9-59b89b751787",
   "metadata": {
    "editable": true,
    "slideshow": {
     "slide_type": ""
    },
    "tags": []
   },
   "outputs": [
    {
     "data": {
      "application/vnd.jupyter.widget-view+json": {
       "model_id": "90c7590fc9c24c7887233a5e829c1b33",
       "version_major": 2,
       "version_minor": 0
      },
      "text/plain": [
       "Output()"
      ]
     },
     "metadata": {},
     "output_type": "display_data"
    },
    {
     "data": {
      "application/vnd.jupyter.widget-view+json": {
       "model_id": "c926fd22547c415a9e81315af56b8472",
       "version_major": 2,
       "version_minor": 0
      },
      "text/plain": [
       "Dropdown(description='Orbital:', index=7, options=(('  1 occ=2.000 ene=-11.232', 0), ('  2 occ=2.000 ene=-11.2…"
      ]
     },
     "metadata": {},
     "output_type": "display_data"
    }
   ],
   "source": [
    "viewer = vlx.OrbitalViewer()\n",
    "viewer.plot(molecule, basis, scf_drv.mol_orbs)"
   ]
  },
  {
   "cell_type": "markdown",
   "id": "ed6da192-6b4f-414a-ba23-51b54b8dfc16",
   "metadata": {
    "editable": true,
    "slideshow": {
     "slide_type": ""
    },
    "tags": []
   },
   "source": [
    "## Eigenstates\n",
    "\n",
    "We first perform a reference calculation using `LinearResponseEigenSolver`, where we calculate the first 12 excited states using a reduced-space Davidson algorithm which can resolve the N lowest eigenvalues (bottom-up).:"
   ]
  },
  {
   "cell_type": "code",
   "execution_count": 8,
   "id": "e8aa2579-86b2-4f78-bbb6-cd6d53ec0533",
   "metadata": {
    "editable": true,
    "scrolled": true,
    "slideshow": {
     "slide_type": ""
    },
    "tags": [
     "remove-output"
    ]
   },
   "outputs": [
    {
     "name": "stdout",
     "output_type": "stream",
     "text": [
      "                                                                                                                          \n",
      "                                            Linear Response EigenSolver Setup                                             \n",
      "                                           ===================================                                            \n",
      "                                                                                                                          \n",
      "                               Number of States                : 12                                                       \n",
      "                               Max. Number of Iterations       : 150                                                      \n",
      "                               Convergence Threshold           : 1.0e-04                                                  \n",
      "                               ERI Screening Scheme            : Cauchy Schwarz + Density                                 \n",
      "                               ERI Screening Threshold         : 1.0e-12                                                  \n",
      "                                                                                                                          \n",
      "* Info * Processing Fock builds... (batch size: 24)                                                                       \n",
      "* Info *   batch 1/1                                                                                                      \n",
      "                                                                                                                          \n",
      "* Info * 12 gerade trial vectors in reduced space                                                                         \n",
      "* Info * 12 ungerade trial vectors in reduced space                                                                       \n",
      "                                                                                                                          \n",
      "* Info * 84.49 kB of memory used for subspace procedure on the master node                                                \n",
      "* Info * 5.55 GB of memory available for the solver on the master node                                                    \n",
      "                                                                                                                          \n",
      "               *** Iteration:   1 * Residuals (Max,Min): 5.34e-01 and 1.30e-01                                            \n",
      "                                                                                                                          \n",
      "               Excitation 1   :      0.34304454 Residual Norm: 0.53397587                                                 \n",
      "               Excitation 2   :      0.36030898 Residual Norm: 0.15661818                                                 \n",
      "               Excitation 3   :      0.37345097 Residual Norm: 0.12980635                                                 \n",
      "               Excitation 4   :      0.38783248 Residual Norm: 0.25630442                                                 \n",
      "               Excitation 5   :      0.39071716 Residual Norm: 0.14901010                                                 \n",
      "               Excitation 6   :      0.43303962 Residual Norm: 0.15037204                                                 \n",
      "               Excitation 7   :      0.48237324 Residual Norm: 0.15932058                                                 \n",
      "               Excitation 8   :      0.50603456 Residual Norm: 0.15559002                                                 \n",
      "               Excitation 9   :      0.51980622 Residual Norm: 0.16798199                                                 \n",
      "               Excitation 10  :      0.56578212 Residual Norm: 0.21517138                                                 \n",
      "               Excitation 11  :      0.58302179 Residual Norm: 0.17432031                                                 \n",
      "               Excitation 12  :      0.59139598 Residual Norm: 0.23745164                                                 \n",
      "                                                                                                                          \n",
      "* Info * Processing Fock builds... (batch size: 24)                                                                       \n",
      "* Info *   batch 1/1                                                                                                      \n",
      "                                                                                                                          \n",
      "* Info * 24 gerade trial vectors in reduced space                                                                         \n",
      "* Info * 24 ungerade trial vectors in reduced space                                                                       \n",
      "                                                                                                                          \n",
      "* Info * 139.78 kB of memory used for subspace procedure on the master node                                               \n",
      "* Info * 5.55 GB of memory available for the solver on the master node                                                    \n",
      "                                                                                                                          \n",
      "               *** Iteration:   2 * Residuals (Max,Min): 9.81e-02 and 7.00e-03                                            \n",
      "                                                                                                                          \n",
      "               Excitation 1   :      0.29390311 Residual Norm: 0.08741179                                                 \n",
      "               Excitation 2   :      0.35207314 Residual Norm: 0.01690401                                                 \n",
      "               Excitation 3   :      0.36406929 Residual Norm: 0.04037264                                                 \n",
      "               Excitation 4   :      0.36871133 Residual Norm: 0.02061184                                                 \n",
      "               Excitation 5   :      0.38445272 Residual Norm: 0.00718807                                                 \n",
      "               Excitation 6   :      0.42749628 Residual Norm: 0.02215545                                                 \n",
      "               Excitation 7   :      0.47271100 Residual Norm: 0.02255869                                                 \n",
      "               Excitation 8   :      0.49753431 Residual Norm: 0.00700247                                                 \n",
      "               Excitation 9   :      0.50056753 Residual Norm: 0.05778846                                                 \n",
      "               Excitation 10  :      0.55001207 Residual Norm: 0.06680777                                                 \n",
      "               Excitation 11  :      0.55779931 Residual Norm: 0.09807270                                                 \n",
      "               Excitation 12  :      0.57823150 Residual Norm: 0.08240547                                                 \n",
      "                                                                                                                          \n",
      "* Info * Processing Fock builds... (batch size: 24)                                                                       \n",
      "* Info *   batch 1/1                                                                                                      \n",
      "                                                                                                                          \n",
      "* Info * 36 gerade trial vectors in reduced space                                                                         \n",
      "* Info * 36 ungerade trial vectors in reduced space                                                                       \n",
      "                                                                                                                          \n",
      "* Info * 194.96 kB of memory used for subspace procedure on the master node                                               \n",
      "* Info * 5.54 GB of memory available for the solver on the master node                                                    \n",
      "                                                                                                                          \n",
      "               *** Iteration:   3 * Residuals (Max,Min): 3.10e-02 and 3.26e-15                                            \n",
      "                                                                                                                          \n",
      "               Excitation 1   :      0.29157063 Residual Norm: 0.01435200                                                 \n",
      "               Excitation 2   :      0.35199506 Residual Norm: 0.00000000   converged                                     \n",
      "               Excitation 3   :      0.36380963 Residual Norm: 0.00684131                                                 \n",
      "               Excitation 4   :      0.36861512 Residual Norm: 0.00732488                                                 \n",
      "               Excitation 5   :      0.38443182 Residual Norm: 0.00000000   converged                                     \n",
      "               Excitation 6   :      0.42736553 Residual Norm: 0.01647064                                                 \n",
      "               Excitation 7   :      0.47252353 Residual Norm: 0.00000000   converged                                     \n",
      "               Excitation 8   :      0.49752266 Residual Norm: 0.00000000   converged                                     \n",
      "               Excitation 9   :      0.49947034 Residual Norm: 0.01407306                                                 \n",
      "               Excitation 10  :      0.54867837 Residual Norm: 0.02176536                                                 \n",
      "               Excitation 11  :      0.55375398 Residual Norm: 0.03103373                                                 \n",
      "               Excitation 12  :      0.57643725 Residual Norm: 0.01569297                                                 \n",
      "                                                                                                                          \n",
      "* Info * Processing Fock builds... (batch size: 16)                                                                       \n",
      "* Info *   batch 1/1                                                                                                      \n",
      "                                                                                                                          \n",
      "* Info * 44 gerade trial vectors in reduced space                                                                         \n",
      "* Info * 44 ungerade trial vectors in reduced space                                                                       \n",
      "                                                                                                                          \n",
      "* Info * 231.82 kB of memory used for subspace procedure on the master node                                               \n",
      "* Info * 5.53 GB of memory available for the solver on the master node                                                    \n",
      "                                                                                                                          \n",
      "               *** Iteration:   4 * Residuals (Max,Min): 2.04e-01 and 3.63e-15                                            \n",
      "                                                                                                                          \n",
      "               Excitation 1   :      0.29153405 Residual Norm: 0.00184122                                                 \n",
      "               Excitation 2   :      0.35199506 Residual Norm: 0.00000000   converged                                     \n",
      "               Excitation 3   :      0.36380665 Residual Norm: 0.00035041                                                 \n",
      "               Excitation 4   :      0.36861005 Residual Norm: 0.00062508                                                 \n",
      "               Excitation 5   :      0.38443182 Residual Norm: 0.00000000   converged                                     \n",
      "               Excitation 6   :      0.42735124 Residual Norm: 0.00162511                                                 \n",
      "               Excitation 7   :      0.47252353 Residual Norm: 0.00000000   converged                                     \n",
      "               Excitation 8   :      0.49752266 Residual Norm: 0.00000000   converged                                     \n",
      "               Excitation 9   :      0.49938138 Residual Norm: 0.00434543                                                 \n",
      "               Excitation 10  :      0.54738916 Residual Norm: 0.20374733                                                 \n",
      "               Excitation 11  :      0.54831720 Residual Norm: 0.01862594                                                 \n",
      "               Excitation 12  :      0.55342363 Residual Norm: 0.01318635                                                 \n",
      "                                                                                                                          \n",
      "* Info * Processing Fock builds... (batch size: 16)                                                                       \n",
      "* Info *   batch 1/1                                                                                                      \n",
      "                                                                                                                          \n",
      "* Info * 52 gerade trial vectors in reduced space                                                                         \n",
      "* Info * 52 ungerade trial vectors in reduced space                                                                       \n",
      "                                                                                                                          \n",
      "* Info * 268.82 kB of memory used for subspace procedure on the master node                                               \n",
      "* Info * 5.53 GB of memory available for the solver on the master node                                                    \n",
      "                                                                                                                          \n",
      "               *** Iteration:   5 * Residuals (Max,Min): 1.19e-02 and 2.40e-15                                            \n",
      "                                                                                                                          \n",
      "               Excitation 1   :      0.29153357 Residual Norm: 0.00026015                                                 \n",
      "               Excitation 2   :      0.35199506 Residual Norm: 0.00000000   converged                                     \n",
      "               Excitation 3   :      0.36380664 Residual Norm: 0.00003843   converged                                     \n",
      "               Excitation 4   :      0.36860999 Residual Norm: 0.00010242                                                 \n",
      "               Excitation 5   :      0.38443182 Residual Norm: 0.00000000   converged                                     \n",
      "               Excitation 6   :      0.42735114 Residual Norm: 0.00003948   converged                                     \n",
      "               Excitation 7   :      0.47252353 Residual Norm: 0.00000000   converged                                     \n",
      "               Excitation 8   :      0.49752266 Residual Norm: 0.00000000   converged                                     \n",
      "               Excitation 9   :      0.49937592 Residual Norm: 0.00105909                                                 \n",
      "               Excitation 10  :      0.54459399 Residual Norm: 0.00980644                                                 \n",
      "               Excitation 11  :      0.54825618 Residual Norm: 0.00411939                                                 \n",
      "               Excitation 12  :      0.55325578 Residual Norm: 0.01185663                                                 \n",
      "                                                                                                                          \n",
      "* Info * Processing Fock builds... (batch size: 12)                                                                       \n",
      "* Info *   batch 1/1                                                                                                      \n",
      "                                                                                                                          \n",
      "* Info * 58 gerade trial vectors in reduced space                                                                         \n",
      "* Info * 58 ungerade trial vectors in reduced space                                                                       \n",
      "                                                                                                                          \n",
      "* Info * 296.34 kB of memory used for subspace procedure on the master node                                               \n",
      "* Info * 5.52 GB of memory available for the solver on the master node                                                    \n",
      "                                                                                                                          \n",
      "               *** Iteration:   6 * Residuals (Max,Min): 8.77e-03 and 2.46e-15                                            \n",
      "                                                                                                                          \n",
      "               Excitation 1   :      0.29153356 Residual Norm: 0.00001938   converged                                     \n",
      "               Excitation 2   :      0.35199506 Residual Norm: 0.00000000   converged                                     \n",
      "               Excitation 3   :      0.36380664 Residual Norm: 0.00001390   converged                                     \n",
      "               Excitation 4   :      0.36860999 Residual Norm: 0.00002432   converged                                     \n",
      "               Excitation 5   :      0.38443182 Residual Norm: 0.00000000   converged                                     \n",
      "               Excitation 6   :      0.42735114 Residual Norm: 0.00000271   converged                                     \n",
      "               Excitation 7   :      0.47252353 Residual Norm: 0.00000000   converged                                     \n",
      "               Excitation 8   :      0.49752266 Residual Norm: 0.00000000   converged                                     \n",
      "               Excitation 9   :      0.49937552 Residual Norm: 0.00031512                                                 \n",
      "               Excitation 10  :      0.54458490 Residual Norm: 0.00080308                                                 \n",
      "               Excitation 11  :      0.54825343 Residual Norm: 0.00093480                                                 \n",
      "               Excitation 12  :      0.55316614 Residual Norm: 0.00876712                                                 \n",
      "                                                                                                                          \n",
      "* Info * Processing Fock builds... (batch size: 7)                                                                        \n",
      "* Info *   batch 1/1                                                                                                      \n",
      "                                                                                                                          \n",
      "* Info * 61 gerade trial vectors in reduced space                                                                         \n",
      "* Info * 62 ungerade trial vectors in reduced space                                                                       \n",
      "                                                                                                                          \n",
      "* Info * 312.46 kB of memory used for subspace procedure on the master node                                               \n",
      "* Info * 5.52 GB of memory available for the solver on the master node                                                    \n",
      "                                                                                                                          \n",
      "               *** Iteration:   7 * Residuals (Max,Min): 3.57e-03 and 3.52e-15                                            \n",
      "                                                                                                                          \n",
      "               Excitation 1   :      0.29153356 Residual Norm: 0.00001903   converged                                     \n",
      "               Excitation 2   :      0.35199506 Residual Norm: 0.00000000   converged                                     \n",
      "               Excitation 3   :      0.36380664 Residual Norm: 0.00000505   converged                                     \n",
      "               Excitation 4   :      0.36860999 Residual Norm: 0.00002432   converged                                     \n",
      "               Excitation 5   :      0.38443182 Residual Norm: 0.00000000   converged                                     \n",
      "               Excitation 6   :      0.42735114 Residual Norm: 0.00000071   converged                                     \n",
      "               Excitation 7   :      0.47252353 Residual Norm: 0.00000000   converged                                     \n",
      "               Excitation 8   :      0.49752266 Residual Norm: 0.00000000   converged                                     \n",
      "               Excitation 9   :      0.49937550 Residual Norm: 0.00007094   converged                                     \n",
      "               Excitation 10  :      0.54458488 Residual Norm: 0.00001838   converged                                     \n",
      "               Excitation 11  :      0.54825333 Residual Norm: 0.00013864                                                 \n",
      "               Excitation 12  :      0.55314489 Residual Norm: 0.00356765                                                 \n",
      "                                                                                                                          \n",
      "* Info * Processing Fock builds... (batch size: 4)                                                                        \n",
      "* Info *   batch 1/1                                                                                                      \n",
      "                                                                                                                          \n",
      "* Info * 63 gerade trial vectors in reduced space                                                                         \n",
      "* Info * 64 ungerade trial vectors in reduced space                                                                       \n",
      "                                                                                                                          \n",
      "* Info * 321.96 kB of memory used for subspace procedure on the master node                                               \n",
      "* Info * 5.52 GB of memory available for the solver on the master node                                                    \n",
      "                                                                                                                          \n",
      "               *** Iteration:   8 * Residuals (Max,Min): 6.62e-04 and 3.37e-15                                            \n",
      "                                                                                                                          \n",
      "               Excitation 1   :      0.29153356 Residual Norm: 0.00001879   converged                                     \n",
      "               Excitation 2   :      0.35199506 Residual Norm: 0.00000000   converged                                     \n",
      "               Excitation 3   :      0.36380664 Residual Norm: 0.00000505   converged                                     \n",
      "               Excitation 4   :      0.36860999 Residual Norm: 0.00002432   converged                                     \n",
      "               Excitation 5   :      0.38443182 Residual Norm: 0.00000000   converged                                     \n",
      "               Excitation 6   :      0.42735114 Residual Norm: 0.00000071   converged                                     \n",
      "               Excitation 7   :      0.47252353 Residual Norm: 0.00000000   converged                                     \n",
      "               Excitation 8   :      0.49752266 Residual Norm: 0.00000000   converged                                     \n",
      "               Excitation 9   :      0.49937550 Residual Norm: 0.00007094   converged                                     \n",
      "               Excitation 10  :      0.54458488 Residual Norm: 0.00001838   converged                                     \n",
      "               Excitation 11  :      0.54825333 Residual Norm: 0.00001827   converged                                     \n",
      "               Excitation 12  :      0.55314324 Residual Norm: 0.00066210                                                 \n",
      "                                                                                                                          \n",
      "* Info * Processing Fock builds... (batch size: 2)                                                                        \n",
      "* Info *   batch 1/1                                                                                                      \n",
      "                                                                                                                          \n",
      "* Info * 64 gerade trial vectors in reduced space                                                                         \n",
      "* Info * 65 ungerade trial vectors in reduced space                                                                       \n",
      "                                                                                                                          \n",
      "* Info * 326.41 kB of memory used for subspace procedure on the master node                                               \n",
      "* Info * 5.52 GB of memory available for the solver on the master node                                                    \n",
      "                                                                                                                          \n",
      "               *** Iteration:   9 * Residuals (Max,Min): 9.91e-05 and 3.11e-15                                            \n",
      "                                                                                                                          \n",
      "               Excitation 1   :      0.29153356 Residual Norm: 0.00001879   converged                                     \n",
      "               Excitation 2   :      0.35199506 Residual Norm: 0.00000000   converged                                     \n",
      "               Excitation 3   :      0.36380664 Residual Norm: 0.00000505   converged                                     \n",
      "               Excitation 4   :      0.36860999 Residual Norm: 0.00002432   converged                                     \n",
      "               Excitation 5   :      0.38443182 Residual Norm: 0.00000000   converged                                     \n",
      "               Excitation 6   :      0.42735114 Residual Norm: 0.00000071   converged                                     \n",
      "               Excitation 7   :      0.47252353 Residual Norm: 0.00000000   converged                                     \n",
      "               Excitation 8   :      0.49752266 Residual Norm: 0.00000000   converged                                     \n",
      "               Excitation 9   :      0.49937550 Residual Norm: 0.00007094   converged                                     \n",
      "               Excitation 10  :      0.54458488 Residual Norm: 0.00001838   converged                                     \n",
      "               Excitation 11  :      0.54825333 Residual Norm: 0.00001827   converged                                     \n",
      "               Excitation 12  :      0.55314321 Residual Norm: 0.00009907   converged                                     \n",
      "                                                                                                                          \n",
      "               *** Linear response converged in 9 iterations. Time: 0.81 sec                                              \n",
      "                                                                                                                          \n",
      "                                                                                                                          \n",
      "               Electric Transition Dipole Moments (dipole length, a.u.)                                                   \n",
      "               --------------------------------------------------------                                                   \n",
      "                                                X            Y            Z                                               \n",
      "               Excited State    S1:      1.531507     0.000000    -0.000000                                               \n",
      "               Excited State    S2:      0.000000     0.000000     0.000000                                               \n",
      "               Excited State    S3:     -0.000000    -0.000000     0.000000                                               \n",
      "               Excited State    S4:     -0.000000     0.000000    -0.021744                                               \n",
      "               Excited State    S5:      0.000000    -0.000000    -0.000000                                               \n",
      "               Excited State    S6:     -0.000000    -0.000000    -0.000000                                               \n",
      "               Excited State    S7:      0.000000     0.000000    -0.000000                                               \n",
      "               Excited State    S8:      0.000000    -0.000000     0.000000                                               \n",
      "               Excited State    S9:      0.000000    -0.000000    -0.000000                                               \n",
      "               Excited State   S10:      0.000000    -0.000000     0.000000                                               \n",
      "               Excited State   S11:     -1.409164    -0.000000    -0.000000                                               \n",
      "               Excited State   S12:     -0.000000     1.741329    -0.000000                                               \n",
      "                                                                                                                          \n",
      "               Electric Transition Dipole Moments (dipole velocity, a.u.)                                                 \n",
      "               ----------------------------------------------------------                                                 \n",
      "                                                X            Y            Z                                               \n",
      "               Excited State    S1:      1.297594     0.000000    -0.000000                                               \n",
      "               Excited State    S2:      0.000000     0.000000    -0.000000                                               \n",
      "               Excited State    S3:     -0.000000    -0.000000     0.000000                                               \n",
      "               Excited State    S4:     -0.000000     0.000000    -0.146990                                               \n",
      "               Excited State    S5:      0.000000    -0.000000    -0.000000                                               \n",
      "               Excited State    S6:     -0.000000    -0.000000    -0.000000                                               \n",
      "               Excited State    S7:      0.000000     0.000000     0.000000                                               \n",
      "               Excited State    S8:      0.000000    -0.000000     0.000000                                               \n",
      "               Excited State    S9:      0.000000    -0.000000    -0.000000                                               \n",
      "               Excited State   S10:      0.000000    -0.000000     0.000000                                               \n",
      "               Excited State   S11:     -1.330482    -0.000000     0.000000                                               \n",
      "               Excited State   S12:     -0.000000     1.710656    -0.000000                                               \n",
      "                                                                                                                          \n",
      "               Magnetic Transition Dipole Moments (a.u.)                                                                  \n",
      "               -----------------------------------------                                                                  \n",
      "                                                X            Y            Z                                               \n",
      "               Excited State    S1:     -0.000000     0.000000     0.000000                                               \n",
      "               Excited State    S2:      0.698660    -0.000000    -0.000000                                               \n",
      "               Excited State    S3:     -0.000000    -0.891977    -0.000000                                               \n",
      "               Excited State    S4:     -0.000000    -0.000000     0.000000                                               \n",
      "               Excited State    S5:      0.008988    -0.000000    -0.000000                                               \n",
      "               Excited State    S6:     -0.000000     0.105727    -0.000000                                               \n",
      "               Excited State    S7:     -0.000000    -0.000000     0.000000                                               \n",
      "               Excited State    S8:      0.000000     0.000000    -0.000000                                               \n",
      "               Excited State    S9:     -0.000000    -0.000000    -0.997681                                               \n",
      "               Excited State   S10:     -0.000000    -0.283027     0.000000                                               \n",
      "               Excited State   S11:     -0.000000    -0.000000    -0.000000                                               \n",
      "               Excited State   S12:     -0.000000    -0.000000    -0.000000                                               \n",
      "                                                                                                                          \n",
      "               One-Photon Absorption                                                                                      \n",
      "               ---------------------                                                                                      \n",
      "               Excited State    S1:      0.29153356 a.u.      7.93303 eV    Osc.Str.    0.4559                            \n",
      "               Excited State    S2:      0.35199506 a.u.      9.57827 eV    Osc.Str.    0.0000                            \n",
      "               Excited State    S3:      0.36380664 a.u.      9.89968 eV    Osc.Str.    0.0000                            \n",
      "               Excited State    S4:      0.36860999 a.u.     10.03039 eV    Osc.Str.    0.0001                            \n",
      "               Excited State    S5:      0.38443182 a.u.     10.46092 eV    Osc.Str.    0.0000                            \n",
      "               Excited State    S6:      0.42735114 a.u.     11.62882 eV    Osc.Str.    0.0000                            \n",
      "               Excited State    S7:      0.47252353 a.u.     12.85802 eV    Osc.Str.    0.0000                            \n",
      "               Excited State    S8:      0.49752266 a.u.     13.53828 eV    Osc.Str.    0.0000                            \n",
      "               Excited State    S9:      0.49937550 a.u.     13.58870 eV    Osc.Str.    0.0000                            \n",
      "               Excited State   S10:      0.54458488 a.u.     14.81891 eV    Osc.Str.    0.0000                            \n",
      "               Excited State   S11:      0.54825333 a.u.     14.91873 eV    Osc.Str.    0.7258                            \n",
      "               Excited State   S12:      0.55314321 a.u.     15.05179 eV    Osc.Str.    1.1182                            \n",
      "                                                                                                                          \n",
      "               Electronic Circular Dichroism                                                                              \n",
      "               -----------------------------                                                                              \n",
      "               Excited State    S1:     Rot.Str.     -0.000000 a.u.    -0.0000 [10**(-40) cgs]                            \n",
      "               Excited State    S2:     Rot.Str.      0.000000 a.u.     0.0000 [10**(-40) cgs]                            \n",
      "               Excited State    S3:     Rot.Str.      0.000000 a.u.     0.0000 [10**(-40) cgs]                            \n",
      "               Excited State    S4:     Rot.Str.     -0.000000 a.u.    -0.0000 [10**(-40) cgs]                            \n",
      "               Excited State    S5:     Rot.Str.      0.000000 a.u.     0.0000 [10**(-40) cgs]                            \n",
      "               Excited State    S6:     Rot.Str.     -0.000000 a.u.    -0.0000 [10**(-40) cgs]                            \n",
      "               Excited State    S7:     Rot.Str.     -0.000000 a.u.    -0.0000 [10**(-40) cgs]                            \n",
      "               Excited State    S8:     Rot.Str.     -0.000000 a.u.    -0.0000 [10**(-40) cgs]                            \n",
      "               Excited State    S9:     Rot.Str.      0.000000 a.u.     0.0000 [10**(-40) cgs]                            \n",
      "               Excited State   S10:     Rot.Str.      0.000000 a.u.     0.0000 [10**(-40) cgs]                            \n",
      "               Excited State   S11:     Rot.Str.      0.000000 a.u.     0.0000 [10**(-40) cgs]                            \n",
      "               Excited State   S12:     Rot.Str.     -0.000000 a.u.    -0.0000 [10**(-40) cgs]                            \n",
      "                                                                                                                          \n",
      "               Character of excitations:                                                                                  \n",
      "                                                                                                                          \n",
      "               Excited state 1                                                                                            \n",
      "               ---------------                                                                                            \n",
      "               HOMO     -> LUMO         0.9893                                                                            \n",
      "                                                                                                                          \n",
      "               Excited state 2                                                                                            \n",
      "               ---------------                                                                                            \n",
      "               HOMO-1   -> LUMO        -0.9753                                                                            \n",
      "                                                                                                                          \n",
      "               Excited state 3                                                                                            \n",
      "               ---------------                                                                                            \n",
      "               HOMO-2   -> LUMO         0.9782                                                                            \n",
      "                                                                                                                          \n",
      "               Excited state 4                                                                                            \n",
      "               ---------------                                                                                            \n",
      "               HOMO     -> LUMO+1      -0.9966                                                                            \n",
      "                                                                                                                          \n",
      "               Excited state 5                                                                                            \n",
      "               ---------------                                                                                            \n",
      "               HOMO     -> LUMO+2       0.9766                                                                            \n",
      "                                                                                                                          \n",
      "               Excited state 6                                                                                            \n",
      "               ---------------                                                                                            \n",
      "               HOMO     -> LUMO+3      -0.9895                                                                            \n",
      "                                                                                                                          \n",
      "               Excited state 7                                                                                            \n",
      "               ---------------                                                                                            \n",
      "               HOMO-3   -> LUMO        -0.9691                                                                            \n",
      "               HOMO     -> LUMO+4      -0.2149                                                                            \n",
      "                                                                                                                          \n",
      "               Excited state 8                                                                                            \n",
      "               ---------------                                                                                            \n",
      "               HOMO     -> LUMO+4       0.9710                                                                            \n",
      "               HOMO-3   -> LUMO        -0.2150                                                                            \n",
      "                                                                                                                          \n",
      "               Excited state 9                                                                                            \n",
      "               ---------------                                                                                            \n",
      "               HOMO-1   -> LUMO+1       0.9591                                                                            \n",
      "               HOMO-3   -> LUMO+3      -0.2531                                                                            \n",
      "                                                                                                                          \n",
      "               Excited state 10                                                                                           \n",
      "               ----------------                                                                                           \n",
      "               HOMO     -> LUMO+5      -0.9904                                                                            \n",
      "                                                                                                                          \n",
      "               Excited state 11                                                                                           \n",
      "               ----------------                                                                                           \n",
      "               HOMO-1   -> LUMO+2      -0.9684                                                                            \n",
      "                                                                                                                          \n",
      "               Excited state 12                                                                                           \n",
      "               ----------------                                                                                           \n",
      "               HOMO-1   -> LUMO+3       0.8945                                                                            \n",
      "               HOMO-3   -> LUMO+1      -0.3767                                                                            \n",
      "                                                                                                                          \n"
     ]
    }
   ],
   "source": [
    "lres_drv = vlx.LinearResponseEigenSolver()\n",
    "rsp_settings = {\"nstates\": 12}\n",
    "lres_drv.update_settings(rsp_settings)\n",
    "lres_out = lres_drv.compute(molecule, basis, scf_results)"
   ]
  },
  {
   "cell_type": "markdown",
   "id": "f772cd2b-0ad6-47bb-b462-4f29a4558f7b",
   "metadata": {
    "editable": true,
    "slideshow": {
     "slide_type": ""
    },
    "tags": []
   },
   "source": [
    "The output contains"
   ]
  },
  {
   "cell_type": "code",
   "execution_count": 9,
   "id": "84eae92a-6fda-4498-bf84-75b02d671148",
   "metadata": {
    "editable": true,
    "slideshow": {
     "slide_type": ""
    },
    "tags": []
   },
   "outputs": [
    {
     "data": {
      "text/plain": [
       "dict_keys(['eigenvalues', 'eigenvectors_distributed', 'electric_transition_dipoles', 'velocity_transition_dipoles', 'magnetic_transition_dipoles', 'oscillator_strengths', 'rotatory_strengths', 'excitation_details'])"
      ]
     },
     "execution_count": 9,
     "metadata": {},
     "output_type": "execute_result"
    }
   ],
   "source": [
    "lres_out.keys()"
   ]
  },
  {
   "cell_type": "markdown",
   "id": "a2038421-b7c1-4a66-8001-9eb301a09a0c",
   "metadata": {
    "editable": true,
    "slideshow": {
     "slide_type": ""
    },
    "tags": []
   },
   "source": [
    "We create a function for printing the results (energy, oscillator strength, transition moment) in a table:"
   ]
  },
  {
   "cell_type": "code",
   "execution_count": 10,
   "id": "a8d548b2-11d3-4b3a-9991-a1c174baaa67",
   "metadata": {
    "editable": true,
    "slideshow": {
     "slide_type": ""
    },
    "tags": []
   },
   "outputs": [
    {
     "name": "stdout",
     "output_type": "stream",
     "text": [
      "State Energy [eV]  Osc. str.   TM(x)     TM(y)     TM(z)\n",
      "  0     7.933      0.45586   1.53151   0.00000  -0.00000\n",
      "  1     9.578      0.00000   0.00000   0.00000   0.00000\n",
      "  2     9.900      0.00000  -0.00000  -0.00000   0.00000\n",
      "  3     10.030      0.00012  -0.00000   0.00000  -0.02174\n",
      "  4     10.461      0.00000   0.00000  -0.00000  -0.00000\n",
      "  5     11.629      0.00000  -0.00000  -0.00000  -0.00000\n",
      "  6     12.858      0.00000   0.00000   0.00000  -0.00000\n",
      "  7     13.538      0.00000   0.00000  -0.00000   0.00000\n",
      "  8     13.589      0.00000   0.00000  -0.00000  -0.00000\n",
      "  9     14.819      0.00000   0.00000  -0.00000   0.00000\n",
      " 10     14.919      0.72579  -1.40916  -0.00000  -0.00000\n",
      " 11     15.052      1.11817  -0.00000   1.74133  -0.00000\n"
     ]
    }
   ],
   "source": [
    "def print_table(lres):\n",
    "    print(\"State Energy [eV]  Osc. str.   TM(x)     TM(y)     TM(z)\")\n",
    "    for i in np.arange(len(lres[\"eigenvalues\"])):\n",
    "        e, os, x, y, z = (\n",
    "            27.2114 * lres[\"eigenvalues\"][i],\n",
    "            lres[\"oscillator_strengths\"][i],\n",
    "            lres[\"electric_transition_dipoles\"][i][0],\n",
    "            lres[\"electric_transition_dipoles\"][i][1],\n",
    "            lres[\"electric_transition_dipoles\"][i][2],\n",
    "        )\n",
    "        print(f\" {i:2}     {e:.3f}     {os:8.5f}  {x:8.5f}  {y:8.5f}  {z:8.5f}\")\n",
    "\n",
    "print_table(lres_out)"
   ]
  },
  {
   "cell_type": "markdown",
   "id": "36e1a888-edec-4a99-9da0-681f593116f8",
   "metadata": {
    "editable": true,
    "slideshow": {
     "slide_type": ""
    },
    "tags": []
   },
   "source": [
    "These results were obtained using the solver in VeloxChem, and we will now calculate this explicitly by using the Hessian, overlap matrix, and property gradients.\n",
    "\n",
    "### Electronic Hessian\n",
    "\n",
    "The electronic Hessian, $\\mathbf{E}^{[2]}$ reads\n",
    "\n",
    "\\begin{equation*}\n",
    "\\mathbf{E}^{[2]} =\n",
    "\t\\begin{pmatrix}\n",
    "    \\rule[-5pt]{0pt}{20pt}\n",
    "\t\\rule{5pt}{0pt}\n",
    "\t\\mathbf{A} & \\mathbf{B} \\rule{5pt}{0pt}\n",
    "\t\\\\\n",
    "    \\rule[-10pt]{0pt}{25pt}\n",
    "    \\rule{5pt}{0pt}    \n",
    "\t\\mathbf{B}^* & \\mathbf{A}^* \\\\\n",
    "\t\\end{pmatrix}\n",
    "\\end{equation*}\n",
    "\n",
    "For a general hybrid functional, the blocks are constructed as:\n",
    "\n",
    "\\begin{align*}\n",
    "A_{ia,jb}  &= \\delta_{ij} \\delta_{ab} (\\epsilon_a - \\epsilon_i) + (ia|jb) - c_{\\textrm{HF}}(ij|ab) + (1-c_{\\textrm{HF}})(ia|f_{\\textrm{xc}}|jb)\n",
    "\\\\\n",
    "B_{ia,jb}  &= (ia|bj) - c_{\\textrm{HF}}(ib|aj) + (1-c_{\\textrm{HF}})(ia|f_{\\textrm{xc}}|bj)\n",
    "\\end{align*}\n",
    "\n",
    "For a closed-shell system, the dimension of the $\\mathbf{A}$- and $\\mathbf{B}$-blocks of the $\\mathbf{E}^{[2]}$-matrix equals the number of occupied (spatial) orbitals times the number of virtual orbitals or, in other words\n",
    "\n",
    "$$\\mathrm{dim}\\left(\\mathbf{E}^{[2]}\\right) = 2 \\times n_\\mathrm{occ} \\times n_\\mathrm{virt}$$\n",
    "\n",
    "In the limits we retrieve the TDHF blocks ($c_{\\textrm{HF}} = 1$) and pure TDDFT ($c_{\\textrm{HF}} = 0$). It can be noted that:\n",
    "\n",
    "- The matrix is Hermitian and has an internal structure in terms of the matrix blocks $\\mathbf{A}$ and $\\mathbf{B}$, but not in the full form\n",
    "- The diagonal elements correspond to differences in energy between the single-excited determinants $|0_i^a\\rangle$ and the reference state $|0\\rangle$\n",
    "\n",
    "We get the $\\mathbf{E}^{[2]}$-matrix from the `LinearResponseEigenSolver` class object."
   ]
  },
  {
   "cell_type": "code",
   "execution_count": 11,
   "id": "089125a8-0d03-4ca3-820e-5b4444717789",
   "metadata": {
    "editable": true,
    "slideshow": {
     "slide_type": "slide"
    },
    "tags": [
     "remove-output"
    ]
   },
   "outputs": [
    {
     "name": "stdout",
     "output_type": "stream",
     "text": [
      "* Info * Processing Fock builds... (batch size: 576)                                                                      \n",
      "* Info *   batch 1/1                                                                                                      \n"
     ]
    }
   ],
   "source": [
    "lres_drv = vlx.LinearResponseEigenSolver()\n",
    "E2 = lres_drv.get_e2(molecule, basis, scf_results)"
   ]
  },
  {
   "cell_type": "markdown",
   "id": "c299532c-a9cd-4044-a1f6-71e4d32b96c9",
   "metadata": {
    "editable": true,
    "slideshow": {
     "slide_type": ""
    },
    "tags": []
   },
   "source": [
    "The dimension of the Hessian should be"
   ]
  },
  {
   "cell_type": "code",
   "execution_count": 12,
   "id": "69a04dbb-f1d6-40f2-a0ae-69e0b7bdaff7",
   "metadata": {
    "editable": true,
    "slideshow": {
     "slide_type": ""
    },
    "tags": []
   },
   "outputs": [
    {
     "name": "stdout",
     "output_type": "stream",
     "text": [
      "Dimension of full Hessian: 288\n"
     ]
    }
   ],
   "source": [
    "n = nocc * nvirt\n",
    "print(\"Dimension of full Hessian:\", 2 * n)"
   ]
  },
  {
   "cell_type": "markdown",
   "id": "ba4aea40-d9f8-41f4-af49-7b3c10a6d4ed",
   "metadata": {
    "editable": true,
    "slideshow": {
     "slide_type": ""
    },
    "tags": []
   },
   "source": [
    "Which is verified using `.shape`"
   ]
  },
  {
   "cell_type": "code",
   "execution_count": 13,
   "id": "69d5936d-a535-495b-8263-f30f7df4f475",
   "metadata": {
    "editable": true,
    "slideshow": {
     "slide_type": ""
    },
    "tags": []
   },
   "outputs": [
    {
     "name": "stdout",
     "output_type": "stream",
     "text": [
      "(288, 288)\n"
     ]
    }
   ],
   "source": [
    "print(E2.shape)"
   ]
  },
  {
   "cell_type": "markdown",
   "id": "98ea175c-b64f-46cb-910d-7f7a42181122",
   "metadata": {
    "editable": true,
    "slideshow": {
     "slide_type": ""
    },
    "tags": []
   },
   "source": [
    "This is a bit too large to print, but we can visualize the matrix using `imshow`:"
   ]
  },
  {
   "cell_type": "code",
   "execution_count": 14,
   "id": "03457f85-b880-4f10-95fc-d7e4ddc16b5b",
   "metadata": {
    "editable": true,
    "slideshow": {
     "slide_type": ""
    },
    "tags": []
   },
   "outputs": [
    {
     "data": {
      "image/png": "[encoded data removed]",
      "text/plain": [
       "<Figure size 500x400 with 2 Axes>"
      ]
     },
     "metadata": {},
     "output_type": "display_data"
    }
   ],
   "source": [
    "plt.figure(figsize=(5, 4))\n",
    "plt.imshow(E2)\n",
    "plt.colorbar()\n",
    "plt.show()"
   ]
  },
  {
   "cell_type": "markdown",
   "id": "3a55205c-a505-4bc5-9bef-c02f750127e6",
   "metadata": {},
   "source": [
    "In order to see the off-diagonal elements better, we subtract the diagonal elements"
   ]
  },
  {
   "cell_type": "code",
   "execution_count": 17,
   "id": "b523ad23-2ce0-4caf-a5f0-4fa757da4a25",
   "metadata": {
    "editable": true,
    "slideshow": {
     "slide_type": ""
    },
    "tags": []
   },
   "outputs": [
    {
     "data": {
      "image/png": "[encoded data removed]",
      "text/plain": [
       "<Figure size 500x400 with 2 Axes>"
      ]
     },
     "metadata": {},
     "output_type": "display_data"
    }
   ],
   "source": [
    "plt.figure(figsize=(5, 4))\n",
    "plt.imshow(np.array(E2) - np.array(E2)*np.identity(2 * n))\n",
    "plt.colorbar()\n",
    "plt.show()"
   ]
  },
  {
   "cell_type": "markdown",
   "id": "988ab2b1-c1bc-475b-9260-5039c8794017",
   "metadata": {
    "editable": true,
    "slideshow": {
     "slide_type": ""
    },
    "tags": []
   },
   "source": [
    "Matrix elements can be directly accessed, such as that of the $\\pi \\rightarrow \\pi^{\\ast}$ transition"
   ]
  },
  {
   "cell_type": "code",
   "execution_count": 18,
   "id": "65b924a3-ee1c-4e22-84f6-94f3fb4fc6a7",
   "metadata": {
    "editable": true,
    "slideshow": {
     "slide_type": ""
    },
    "tags": []
   },
   "outputs": [
    {
     "name": "stdout",
     "output_type": "stream",
     "text": [
      "Diagonal element for the (pi,pi*)-excitation:  0.361149 a.u.\n"
     ]
    }
   ],
   "source": [
    "idx = (nocc - 1) * nvirt # index position for (pi,pi*) excitation\n",
    "print(f'Diagonal element for the (pi,pi*)-excitation: {E2[idx,idx] : .6f} a.u.')"
   ]
  },
  {
   "cell_type": "markdown",
   "id": "935dc31b-5a85-4d71-bddd-f98428976956",
   "metadata": {
    "editable": true,
    "slideshow": {
     "slide_type": ""
    },
    "tags": []
   },
   "source": [
    "Alternatively, we can in principle determine the elements of the $\\mathbf{E}^{[2]}$-matrix from explicit calculations using orbital energies and two-electron integrals in the MO-basis."
   ]
  },
  {
   "cell_type": "code",
   "execution_count": 19,
   "id": "d7652c0e-8685-4f3f-9dec-bb3a53744190",
   "metadata": {
    "editable": true,
    "slideshow": {
     "slide_type": ""
    },
    "tags": []
   },
   "outputs": [
    {
     "name": "stdout",
     "output_type": "stream",
     "text": [
      "Diagonal element (explicit calculation):  0.361149  a.u.\n"
     ]
    }
   ],
   "source": [
    "# Orbital energies\n",
    "orbital_energies = scf_results['E_alpha']\n",
    "\n",
    "# ERI integrals in physicist's notation\n",
    "moints_drv = vlx.MOIntegralsDriver()\n",
    "isis = moints_drv.compute_in_memory(molecule, basis, scf_drv.mol_orbs, \"phys_OVOV\")\n",
    "iiss = moints_drv.compute_in_memory(molecule, basis, scf_drv.mol_orbs, \"phys_OOVV\")\n",
    "\n",
    "# Determine the specific diagonal matrix element of E[2] explicitly \n",
    "diag_element = orbital_energies[nocc] - orbital_energies[nocc - 1] +(- isis[nocc - 1,0,nocc - 1,0] + 2 * iiss[nocc - 1,nocc - 1,0,0])\n",
    "print(f'Diagonal element (explicit calculation): {diag_element : .6f}  a.u.')"
   ]
  },
  {
   "cell_type": "markdown",
   "id": "6eb52e16-40e6-4e06-b33b-223452a29b33",
   "metadata": {
    "editable": true,
    "slideshow": {
     "slide_type": ""
    },
    "tags": []
   },
   "source": [
    "## Overlap matrix\n",
    "\n",
    "\n",
    "The overlap matrix, $\\mathbf{S}^{[2]}$, in the SCF approximation is trivial and equal to\n",
    "\n",
    "$$\n",
    "\\mathbf{S}^{[2]}  =\n",
    "\t\\begin{pmatrix}\n",
    "    \\rule[-5pt]{0pt}{20pt}\n",
    "\t\\rule{5pt}{0pt}\n",
    "\t\\mathbf{1} & \\mathbf{0} \\rule{5pt}{0pt}\n",
    "\t\\\\\n",
    "    \\rule[-10pt]{0pt}{25pt}\n",
    "    \\rule{5pt}{0pt}    \n",
    "\t\\mathbf{0} & -\\mathbf{1} \\\\\n",
    "\t\\end{pmatrix}\n",
    "$$\n",
    "\n",
    "where $\\mathbf{1}$ and the $\\mathbf{1}$ are understood to be the identity and zero matrices, respectively, of the same rank as sub-blocks $\\mathbf{A}$ and $\\mathbf{B}$ in the electronic Hessian. We construct this as"
   ]
  },
  {
   "cell_type": "code",
   "execution_count": 20,
   "id": "6633ba42-3e6a-4b91-a344-035b7fe498b5",
   "metadata": {
    "editable": true,
    "slideshow": {
     "slide_type": ""
    },
    "tags": []
   },
   "outputs": [],
   "source": [
    "S2 = np.identity(2 * n)\n",
    "S2[n:, n:] *= -1"
   ]
  },
  {
   "cell_type": "markdown",
   "id": "a4a8b47e-4335-4eb5-9cc0-b839b578fa5e",
   "metadata": {
    "editable": true,
    "slideshow": {
     "slide_type": ""
    },
    "tags": []
   },
   "source": [
    "## Property gradient\n",
    "\n",
    "\n",
    "In the SCF approximation, the property gradient, $\\mathbf{V}^{[1]}$, takes the form\n",
    "\n",
    "\\begin{equation*}\n",
    "  \\mathbf{V}^{[1]} =\n",
    "      \\begin{pmatrix}\n",
    "    \\rule[-5pt]{0pt}{15pt}\n",
    "    \\mathbf{g}\n",
    "       \\\\\n",
    "    \\rule[-5pt]{0pt}{0pt}\n",
    "     -\\mathbf{g}^*\n",
    "\\\\\n",
    "  \\end{pmatrix}\n",
    "\\end{equation*}\n",
    "\n",
    "We get the $\\mathbf{V}^{\\omega,[1]}$-vector from the `LinearResponseSolver` class object. We assume the perturbation operator to equal minus the electric dipole moment operator along the $x$-axis, i.e., the molecular C$-$C axis."
   ]
  },
  {
   "cell_type": "code",
   "execution_count": 21,
   "id": "a7c58195-cad7-441b-a1ba-ac494074250c",
   "metadata": {
    "editable": true,
    "slideshow": {
     "slide_type": ""
    },
    "tags": []
   },
   "outputs": [
    {
     "name": "stdout",
     "output_type": "stream",
     "text": [
      "Dimension of V[1] vectors: 288\n"
     ]
    }
   ],
   "source": [
    "lrs_drv = vlx.LinearResponseSolver()\n",
    "\n",
    "mu_x = lrs_drv.get_prop_grad(\"electric dipole\", \"x\", molecule, basis, scf_results)[0]\n",
    "mu_y = lrs_drv.get_prop_grad(\"electric dipole\", \"y\", molecule, basis, scf_results)[0]\n",
    "mu_z = lrs_drv.get_prop_grad(\"electric dipole\", \"z\", molecule, basis, scf_results)[0]\n",
    "\n",
    "V1x = -mu_x\n",
    "V1y = -mu_y\n",
    "V1z = -mu_z\n",
    "\n",
    "print(\"Dimension of V[1] vectors:\", V1x.shape[0])"
   ]
  },
  {
   "cell_type": "markdown",
   "id": "7db26c93-5e90-49c9-9eff-bd3636e82350",
   "metadata": {
    "editable": true,
    "slideshow": {
     "slide_type": ""
    },
    "tags": []
   },
   "source": [
    "We can illustrate these vectors as"
   ]
  },
  {
   "cell_type": "code",
   "execution_count": 22,
   "id": "15fd8ffe-3c50-4ce9-936d-2dc48505cbfb",
   "metadata": {
    "editable": true,
    "slideshow": {
     "slide_type": ""
    },
    "tags": []
   },
   "outputs": [
    {
     "data": {
      "image/png": "[encoded data removed]",
      "text/plain": [
       "<Figure size 300x400 with 4 Axes>"
      ]
     },
     "metadata": {},
     "output_type": "display_data"
    }
   ],
   "source": [
    "plt.figure(figsize=(3, 4))\n",
    "Vmtrx = np.zeros((2 * n, 100))\n",
    "plt.subplot(131)\n",
    "plt.title(\"Vx\")\n",
    "for i in np.arange(100):\n",
    "    Vmtrx[:, i] = V1x\n",
    "plt.imshow(\n",
    "    Vmtrx, vmin=np.min([V1x, V1y, V1z]), vmax=np.max([V1x, V1y, V1z]), aspect=\"auto\"\n",
    ")\n",
    "plt.xticks([])\n",
    "plt.yticks([])\n",
    "\n",
    "plt.subplot(132)\n",
    "plt.title(\"Vy\")\n",
    "for i in np.arange(100):\n",
    "    Vmtrx[:, i] = V1y\n",
    "plt.imshow(\n",
    "    Vmtrx, vmin=np.min([V1x, V1y, V1z]), vmax=np.max([V1x, V1y, V1z]), aspect=\"auto\"\n",
    ")\n",
    "plt.xticks([])\n",
    "plt.yticks([])\n",
    "\n",
    "plt.subplot(133)\n",
    "plt.title(\"Vz\")\n",
    "for i in np.arange(100):\n",
    "    Vmtrx[:, i] = V1z\n",
    "plt.imshow(\n",
    "    Vmtrx, vmin=np.min([V1x, V1y, V1z]), vmax=np.max([V1x, V1y, V1z]), aspect=\"auto\"\n",
    ")\n",
    "plt.xticks([])\n",
    "plt.yticks([])\n",
    "plt.colorbar()\n",
    "plt.show()"
   ]
  },
  {
   "cell_type": "markdown",
   "id": "2076cb2d-1a8e-46b3-affe-bab37259a926",
   "metadata": {
    "editable": true,
    "slideshow": {
     "slide_type": ""
    },
    "tags": []
   },
   "source": [
    "For the (pi,pi*) excitation we assume the perturbation operator to equal minus the electric dipole moment operator along the $x$-axis, i.e., the molecular C$-$C axis."
   ]
  },
  {
   "cell_type": "code",
   "execution_count": 23,
   "id": "22711b8f-8a01-4149-96e5-5b344b312716",
   "metadata": {
    "editable": true,
    "slideshow": {
     "slide_type": ""
    },
    "tags": []
   },
   "outputs": [
    {
     "name": "stdout",
     "output_type": "stream",
     "text": [
      "Elements for (pi,pi*)-excitation:\n",
      "(upper)   g:  2.005214\n",
      "(lower) -g*: -2.005214\n"
     ]
    }
   ],
   "source": [
    "lrs_drv = vlx.LinearResponseSolver()\n",
    "\n",
    "print('Elements for (pi,pi*)-excitation:')\n",
    "print(f'(upper)   g: {V1x[idx] : .6f}')\n",
    "print(f'(lower) -g*: {V1x[n + idx] : .6f}')"
   ]
  },
  {
   "cell_type": "markdown",
   "id": "3d888b41-5eaf-43cf-9669-8de8874aba20",
   "metadata": {
    "editable": true,
    "slideshow": {
     "slide_type": ""
    },
    "tags": []
   },
   "source": [
    "Alternatively, we can in principle determine the elements of the $\\mathbf{V}^{\\omega,[1]}$-vector from explicit calculations using one-electron integrals of the perturbation operator in the MO-basis. The property integrals are available in AO-basis from the `ElectricDipoleIntegralsDriver` class object and we transfer them to the MO-basis with use of the MO-coefficients."
   ]
  },
  {
   "cell_type": "code",
   "execution_count": 24,
   "id": "a824734f-3a3a-485a-8dda-0fdd774e421a",
   "metadata": {
    "editable": true,
    "slideshow": {
     "slide_type": ""
    },
    "tags": []
   },
   "outputs": [
    {
     "name": "stdout",
     "output_type": "stream",
     "text": [
      " 2.005214\n"
     ]
    }
   ],
   "source": [
    "dipole_drv = vlx.ElectricDipoleIntegralsDriver()\n",
    "C = scf_results['C_alpha']\n",
    "\n",
    "dipole_matrices = dipole_drv.compute(molecule, basis)\n",
    "x_ao = -dipole_matrices.x_to_numpy()\n",
    "x_mo = np.matmul(C.T, np.matmul(x_ao, C))\n",
    "\n",
    "# sqrt(2) for consistent normalization\n",
    "print(f'{x_mo[nocc - 1,nocc]*np.sqrt(2.0) : .6f}')"
   ]
  },
  {
   "cell_type": "markdown",
   "id": "f1512e34-0283-4484-b2e5-c58d192599ff",
   "metadata": {
    "editable": true,
    "slideshow": {
     "slide_type": ""
    },
    "tags": []
   },
   "source": [
    "## Excitation energies\n",
    "\n",
    "Denote the eigenvectors of the generalized eigenvalue equation as $\\mathbf{X}_e$\n",
    "\n",
    "$$\n",
    "  \\mathbf{E}^{[2]} \\mathbf{X}_e = \\lambda_e \\mathbf{S}^{[2]} \\mathbf{X}_e, \\quad e = -n,\\ldots,-1,1,\\ldots,n ,\n",
    "$$\n",
    " \n",
    "where the matrix dimension is $2n$. We find the set of eigenvalues and eigenvectors by diagonalizing the non-Hermitian matrix $\\left(\\mathbf{S}^{[2]}\\right)^{-1} \\mathbf{E}^{[2]}$\n",
    "\n",
    "$$\n",
    "  \\mathbf{X}^{-1} \\left[ \\left(\\mathbf{S}^{[2]}\\right)^{-1} \\mathbf{E}^{[2]} \\right] \\mathbf{X} = \n",
    "  \\begin{bmatrix}\n",
    "    \\rule[-5pt]{0pt}{15pt}\n",
    "    \\rule{9pt}{0pt}\n",
    "    \\boldsymbol{\\lambda} & \\rule{3pt}{0pt} \\mathbf{0} \\rule{3pt}{0pt} \\\\\n",
    "    \\rule{3pt}{0pt}\n",
    "    \\mathbf{0} & -\\boldsymbol{\\lambda} \\rule{3pt}{0pt} \\\\\n",
    "  \\end{bmatrix}\n",
    "$$\n",
    "\n",
    "where $\\boldsymbol{\\lambda}$ is a diagonal matrix of dimension $n$ collecting the eigenvalues with positive index and the columns of $\\mathbf{X}$ store the eigenvectors ($\\mathbf{X}$ is assumed to be nonsingular). This pairing of eigenvalues has its correspondence in the eigenvectors through\n",
    "\n",
    "\\begin{align*}\n",
    "  \\mathbf{X}_e &=\n",
    "  \\begin{pmatrix}\n",
    "    \\rule[-5pt]{0pt}{15pt}\n",
    "    \\mathbf{Z}_e \\\\\n",
    "    \\rule[-5pt]{0pt}{0pt}\n",
    "    \\mathbf{Y}_e^* \\\\\n",
    "  \\end{pmatrix}\n",
    "\\; \\mbox{with eigenvalue}\\; \\lambda_e \\\\\n",
    "  \\mathbf{X}_{-e} &=\n",
    "  \\begin{pmatrix}\n",
    "    \\rule[-5pt]{0pt}{15pt}\n",
    "    \\mathbf{Y}_{e} \\\\\n",
    "    \\rule[-5pt]{0pt}{0pt}\n",
    "    \\mathbf{Z}_{e}^* \\\\\n",
    "  \\end{pmatrix} \n",
    "\\; \\mbox{with eigenvalue}\\; -\\!\\lambda_e \n",
    "\\end{align*}\n",
    "\n",
    "The matrix $\\mathbf{X}$ will therefore have the structure\n",
    "\n",
    "\\begin{equation*}\n",
    "  \\mathbf{X} = \n",
    "  \\begin{bmatrix}\n",
    "    \\rule[-5pt]{0pt}{15pt}\n",
    "    \\rule{3pt}{0pt}\n",
    "    \\mathbf{Z} & \\rule{3pt}{0pt} \\mathbf{Y} \\rule{3pt}{0pt} \\\\\n",
    "    \\rule{8pt}{0pt}\n",
    "    \\mathbf{Y}^* & \\rule{3pt}{0pt} \\mathbf{Z}^* \\rule{3pt}{0pt} \\\\\n",
    "  \\end{bmatrix}\n",
    "\\end{equation*}\n",
    "\n",
    "With an appropriate scaling of the eigenvectors $\\mathbf{X}_e$, the non-unitary matrix $\\mathbf{X}$ achieves a simultaneous diagonalization of the two non-commuting matrices $\\mathbf{E}^{[2]}$ and $\\mathbf{S}^{[2]}$ as\n",
    "\n",
    "$$\n",
    "  \\mathbf{X}^\\dagger \\mathbf{E}^{[2]} \\mathbf{X} = \n",
    "  \\begin{bmatrix}\n",
    "    \\rule[-5pt]{0pt}{15pt}\n",
    "    \\rule{9pt}{0pt}\n",
    "    \\boldsymbol{\\lambda} & \\rule{3pt}{0pt} \\mathbf{0} \\rule{3pt}{0pt} \\\\\n",
    "    \\rule{3pt}{0pt}\n",
    "    \\mathbf{0} & \\boldsymbol{\\lambda} \\rule{3pt}{0pt} \\\\\n",
    "  \\end{bmatrix} ; \\qquad\n",
    "  \\mathbf{X}^\\dagger \\mathbf{S}^{[2]} \\mathbf{X} =\n",
    "  \\begin{bmatrix}\n",
    "    \\rule[-5pt]{0pt}{15pt}\n",
    "    \\rule{8pt}{0pt}\n",
    "    \\mathbf{1} & \\rule{5pt}{0pt} \\mathbf{0} \\rule{3pt}{0pt} \\\\\n",
    "    \\rule{5pt}{0pt}\n",
    "    \\mathbf{0} & -\\mathbf{1} \\rule{3pt}{0pt} \\\\\n",
    "  \\end{bmatrix} \n",
    "$$\n",
    "\n",
    "For each pair of eigenvectors, the second equation involving the metric of the generalized eigenvalue equation defines which of the two that should be indexed with a positive index. We also emphasize that $\\mathbf{X}^\\dagger \\neq \\mathbf{X}^{-1}$ and for this reason the $\\mathbf{X}_e$'s are eigenvectors neither of $\\mathbf{E}^{[2]}$ nor of $\\mathbf{S}^{[2]}$, just as the $\\lambda_e$'s are not the eigenvalues of $\\mathbf{E}^{[2]}$.\n",
    "\n",
    "The eigenvalues, or excitation energies, can then be calculated by use of `np.linalg.eig` on $\\left(\\mathbf{S}^{[2]}\\right)^{-1} \\mathbf{E}^{[2]}$. This will return the eigenvalues and eigenvectors, which can then be reordered:"
   ]
  },
  {
   "cell_type": "code",
   "execution_count": 25,
   "id": "f2ffdeb2-05e7-4070-ac39-79d5b9d93c9f",
   "metadata": {
    "editable": true,
    "slideshow": {
     "slide_type": ""
    },
    "tags": []
   },
   "outputs": [
    {
     "name": "stdout",
     "output_type": "stream",
     "text": [
      "[0.29153356 0.35199506 0.36380664 0.36860999 0.38443182 0.42735114\n",
      " 0.47252353 0.49752266 0.4993755  0.54458488 0.54825333 0.55314321]\n",
      "Reference:\n",
      " [0.29153356 0.35199506 0.36380664 0.36860999 0.38443182 0.42735114\n",
      " 0.47252353 0.49752266 0.4993755  0.54458488 0.54825333 0.55314321]\n"
     ]
    }
   ],
   "source": [
    "eigs, X = np.linalg.eig(np.matmul(np.linalg.inv(S2), E2))\n",
    "\n",
    "# Reorder results\n",
    "idx = np.argsort(eigs)\n",
    "eigs = np.array(eigs)[idx]\n",
    "X = np.array(X)[:, idx]\n",
    "# print first 12 positive eigenvalues:\n",
    "print(eigs[n : n + 12])\n",
    "\n",
    "# print(f'Excitation energy (au): {eigs[idx] : .6f}')\n",
    "print(\"Reference:\\n\", lres_out[\"eigenvalues\"])"
   ]
  },
  {
   "cell_type": "markdown",
   "id": "7f346326-9e90-4c59-957b-366dad6d32a0",
   "metadata": {
    "editable": true,
    "slideshow": {
     "slide_type": ""
    },
    "tags": []
   },
   "source": [
    "## Intensities\n",
    "\n",
    "Transition moments in the SCF approximation take the form\n",
    "\n",
    "$$\n",
    "    \\langle n | \\hat{V} | 0 \\rangle =\n",
    "    \\mathbf{X}^\\dagger_f \\mathbf{V}^{\\omega,[1]}\n",
    "$$\n",
    "\n",
    "The oscillator strength is then calculated as"
   ]
  },
  {
   "cell_type": "code",
   "execution_count": 26,
   "id": "1da98e06-095c-4a94-a619-7f7a7cbbb756",
   "metadata": {
    "editable": true,
    "slideshow": {
     "slide_type": ""
    },
    "tags": []
   },
   "outputs": [],
   "source": [
    "def compute_fosc(eigs, X, V1x, V1y, V1z, S2):\n",
    "    fosc = []\n",
    "    for i in range(len(eigs)):\n",
    "        if eigs[i] > 0.0:  # only for positive eigenvalues\n",
    "            Xf = X[:, i]\n",
    "            Xf = Xf / np.sqrt(np.matmul(Xf.T, np.matmul(S2, Xf)))\n",
    "            tm = np.dot(Xf, V1x) ** 2 + np.dot(Xf, V1y) ** 2 + np.dot(Xf, V1z) ** 2\n",
    "            fosc.append(tm * 2.0 / 3.0 * eigs[i])\n",
    "    return fosc\n",
    "\n",
    "\n",
    "fosc = compute_fosc(eigs, X, V1x, V1y, V1z, S2)"
   ]
  },
  {
   "cell_type": "code",
   "execution_count": 27,
   "id": "1aaf17d1-90da-427e-b71c-61c2b32e608e",
   "metadata": {
    "editable": true,
    "slideshow": {
     "slide_type": ""
    },
    "tags": []
   },
   "outputs": [
    {
     "name": "stdout",
     "output_type": "stream",
     "text": [
      "Oscillator strengths:\n",
      " [4.558630e-01 0.000000e+00 0.000000e+00 1.160000e-04 0.000000e+00\n",
      " 0.000000e+00 0.000000e+00 0.000000e+00 0.000000e+00 0.000000e+00\n",
      " 7.257950e-01 1.118172e+00]\n",
      "\n",
      "Reference:\n",
      " [4.55864e-01 0.00000e+00 0.00000e+00 1.16000e-04 0.00000e+00 0.00000e+00\n",
      " 0.00000e+00 0.00000e+00 0.00000e+00 0.00000e+00 7.25793e-01 1.11817e+00]\n"
     ]
    }
   ],
   "source": [
    "print(\"Oscillator strengths:\\n\", np.around(fosc[:12], 6))\n",
    "print(\"\\nReference:\\n\", np.around(lres_out[\"oscillator_strengths\"], 6))"
   ]
  },
  {
   "cell_type": "markdown",
   "id": "9b6be111-4942-4602-8631-d9870151c99b",
   "metadata": {
    "editable": true,
    "slideshow": {
     "slide_type": ""
    },
    "tags": []
   },
   "source": [
    "## Analysis\n",
    "\n",
    "We can now compare our excitation energies to experiment, with obtained excitation energies and intensities:"
   ]
  },
  {
   "cell_type": "code",
   "execution_count": 28,
   "id": "2c60fdfa-e231-4b54-a585-632dd1016120",
   "metadata": {
    "editable": true,
    "slideshow": {
     "slide_type": ""
    },
    "tags": []
   },
   "outputs": [
    {
     "name": "stdout",
     "output_type": "stream",
     "text": [
      "State Energy [eV]  Osc. str.   TM(x)     TM(y)     TM(z)\n",
      "  0     7.933      0.45586   1.53151   0.00000  -0.00000\n",
      "  1     9.578      0.00000   0.00000   0.00000   0.00000\n",
      "  2     9.900      0.00000  -0.00000  -0.00000   0.00000\n",
      "  3     10.030      0.00012  -0.00000   0.00000  -0.02174\n",
      "  4     10.461      0.00000   0.00000  -0.00000  -0.00000\n",
      "  5     11.629      0.00000  -0.00000  -0.00000  -0.00000\n",
      "  6     12.858      0.00000   0.00000   0.00000  -0.00000\n",
      "  7     13.538      0.00000   0.00000  -0.00000   0.00000\n",
      "  8     13.589      0.00000   0.00000  -0.00000  -0.00000\n",
      "  9     14.819      0.00000   0.00000  -0.00000   0.00000\n",
      " 10     14.919      0.72579  -1.40916  -0.00000  -0.00000\n",
      " 11     15.052      1.11817  -0.00000   1.74133  -0.00000\n"
     ]
    }
   ],
   "source": [
    "print_table(lres_out)"
   ]
  },
  {
   "cell_type": "markdown",
   "id": "89d4e53b-900e-4ec6-8945-2962fd89a426",
   "metadata": {
    "editable": true,
    "slideshow": {
     "slide_type": ""
    },
    "tags": []
   },
   "source": [
    "Assigning transitions can be done by considering, *e.g.*:\n",
    "- The polarization of the transition\n",
    "- Contributing MOs\n",
    "- ...\n",
    "\n",
    "For now we consider the MO amplitudes dominating each transition:"
   ]
  },
  {
   "cell_type": "code",
   "execution_count": 29,
   "id": "2d7a3eb3-0d7f-473f-8260-ccdd3ef2636e",
   "metadata": {
    "editable": true,
    "slideshow": {
     "slide_type": ""
    },
    "tags": []
   },
   "outputs": [
    {
     "name": "stdout",
     "output_type": "stream",
     "text": [
      "State  0: ['HOMO     -> LUMO         0.9893']\n",
      "State  1: ['HOMO-1   -> LUMO        -0.9753']\n",
      "State  2: ['HOMO-2   -> LUMO         0.9782']\n",
      "State  3: ['HOMO     -> LUMO+1      -0.9966']\n",
      "State  4: ['HOMO     -> LUMO+2       0.9766']\n",
      "State  5: ['HOMO     -> LUMO+3      -0.9895']\n",
      "State  6: ['HOMO-3   -> LUMO        -0.9691', 'HOMO     -> LUMO+4      -0.2149']\n",
      "State  7: ['HOMO     -> LUMO+4       0.9710', 'HOMO-3   -> LUMO        -0.2150']\n",
      "State  8: ['HOMO-1   -> LUMO+1       0.9591', 'HOMO-3   -> LUMO+3      -0.2531']\n",
      "State  9: ['HOMO     -> LUMO+5      -0.9904']\n",
      "State 10: ['HOMO-1   -> LUMO+2      -0.9684']\n",
      "State 11: ['HOMO-1   -> LUMO+3       0.8945', 'HOMO-3   -> LUMO+1      -0.3767']\n"
     ]
    }
   ],
   "source": [
    "for i in np.arange(len(lres_out[\"excitation_details\"])):\n",
    "    print(f\"State {i:2}:\", lres_out[\"excitation_details\"][i])"
   ]
  },
  {
   "cell_type": "markdown",
   "id": "68804e41-7409-4a42-9a86-f1dc826e7fae",
   "metadata": {
    "editable": true,
    "slideshow": {
     "slide_type": ""
    },
    "tags": []
   },
   "source": [
    "We see that the first transition, which has the polarization of the sought state, is strongly dominated by a HOMO-LUMO transition. Looking at the MOs (above), we can see that this is an intense $\\pi \\rightarrow \\pi^*$ transition. The excitation energy is seen to be just above 10 eV, so quite a bit above experiment ($\\sim$7.7 eV). This is due to the use of TDHF and the very limited basis set."
   ]
  },
  {
   "cell_type": "markdown",
   "id": "f94092ce-bcc2-4a03-b77c-82d016051baf",
   "metadata": {
    "editable": true,
    "slideshow": {
     "slide_type": ""
    },
    "tags": []
   },
   "source": [
    "## Electric-dipole polarizability\n",
    "\n",
    "The polarizability is determined from the linear response function according to\n",
    "\n",
    "$$\n",
    "\\alpha_{\\alpha\\beta}(\\omega) = -\n",
    "\\langle \\! \\langle \\hat{\\mu}_\\alpha ; \\hat{\\mu}_\\beta \\rangle \\! \\rangle_\\omega\n",
    "$$\n",
    "\n",
    "Here, $\\hat{\\Omega} = \\hat{\\mu}_\\alpha$ and $\\hat{V}^\\omega = - \\hat{\\mu}_\\beta$ are associated with the observable and perturbation, respectively.\n",
    "\n",
    "This linear response function is determined from the RPA matrix\n",
    "\n",
    "$$\n",
    "\\langle\\!\\langle \\hat{\\mu}; \\hat{V}^\\omega \\rangle\\!\\rangle =\n",
    "-{\\boldsymbol{\\mu}^{[1]}}^\\dagger\n",
    "\\Big(\n",
    "\\mathbf{E}^{[2]} - \\omega \\mathbf{S}^{[2]}\n",
    "\\Big)^{-1}\n",
    "\\mathbf{V}^{\\omega, [1]}\n",
    "$$\n",
    "\n",
    "In typical applications, the matrix dimension is large and instead of explicitly constructing the Hessian matrix, we solve the linear response equation with iterative techniques\n",
    "\n",
    "$$\n",
    "\\mathbf{N}(\\omega) =\n",
    "\\Big(\n",
    "\\mathbf{E}^{[2]} - \\omega \\mathbf{S}^{[2]}\n",
    "\\Big)^{-1}\n",
    "\\mathbf{V}^{\\omega,[1]}\n",
    "$$\n",
    "\n",
    "such that\n",
    "\n",
    "$$\n",
    "\\langle\\!\\langle \\hat{\\mu}; \\hat{V}^\\omega \\rangle\\!\\rangle =\n",
    "-{\\boldsymbol{\\mu}^{[1]}}^\\dagger \\mathbf{N}(\\omega)\n",
    "$$\n",
    "\n",
    "A reduced-space iterative algorithm for solving the linear response funciton is available from the `LinearResponseSolver` class object."
   ]
  },
  {
   "cell_type": "code",
   "execution_count": 30,
   "id": "f97ad4f3-af90-4da7-ba0b-15e59856e24e",
   "metadata": {
    "editable": true,
    "scrolled": true,
    "slideshow": {
     "slide_type": ""
    },
    "tags": [
     "remove-output"
    ]
   },
   "outputs": [
    {
     "name": "stdout",
     "output_type": "stream",
     "text": [
      "                                                                                                                          \n",
      "                                               Linear Response Solver Setup                                               \n",
      "                                              ==============================                                              \n",
      "                                                                                                                          \n",
      "                               Number of Frequencies           : 1                                                        \n",
      "                               Max. Number of Iterations       : 150                                                      \n",
      "                               Convergence Threshold           : 1.0e-04                                                  \n",
      "                               ERI Screening Scheme            : Cauchy Schwarz + Density                                 \n",
      "                               ERI Screening Threshold         : 1.0e-12                                                  \n",
      "                                                                                                                          \n",
      "* Info * Processing Fock builds... (batch size: 3)                                                                        \n",
      "* Info *   batch 1/1                                                                                                      \n",
      "                                                                                                                          \n",
      "* Info * 0 gerade trial vectors in reduced space                                                                          \n",
      "* Info * 3 ungerade trial vectors in reduced space                                                                        \n",
      "                                                                                                                          \n",
      "* Info * 17.27 kB of memory used for subspace procedure on the master node                                                \n",
      "* Info * 5.47 GB of memory available for the solver on the master node                                                    \n",
      "                                                                                                                          \n",
      "               *** Iteration:   1 * Residuals (Max,Min): 7.44e-01 and 1.61e-01                                            \n",
      "                                                                                                                          \n",
      "               <<x;x>>_0.0000 :    -28.27903164 Residual Norm: 0.74411735                                                 \n",
      "               <<y;y>>_0.0000 :    -18.70087893 Residual Norm: 0.30874960                                                 \n",
      "               <<z;z>>_0.0000 :     -7.17596423 Residual Norm: 0.16123892                                                 \n",
      "                                                                                                                          \n",
      "* Info * Processing Fock builds... (batch size: 3)                                                                        \n",
      "* Info *   batch 1/1                                                                                                      \n",
      "                                                                                                                          \n",
      "* Info * 0 gerade trial vectors in reduced space                                                                          \n",
      "* Info * 6 ungerade trial vectors in reduced space                                                                        \n",
      "                                                                                                                          \n",
      "* Info * 24.18 kB of memory used for subspace procedure on the master node                                                \n",
      "* Info * 5.48 GB of memory available for the solver on the master node                                                    \n",
      "                                                                                                                          \n",
      "               *** Iteration:   2 * Residuals (Max,Min): 1.70e-01 and 3.31e-02                                            \n",
      "                                                                                                                          \n",
      "               <<x;x>>_0.0000 :    -32.41967693 Residual Norm: 0.16986354                                                 \n",
      "               <<y;y>>_0.0000 :    -19.26310900 Residual Norm: 0.03593920                                                 \n",
      "               <<z;z>>_0.0000 :     -7.20082535 Residual Norm: 0.03313239                                                 \n",
      "                                                                                                                          \n",
      "* Info * Processing Fock builds... (batch size: 3)                                                                        \n",
      "* Info *   batch 1/1                                                                                                      \n",
      "                                                                                                                          \n",
      "* Info * 0 gerade trial vectors in reduced space                                                                          \n",
      "* Info * 9 ungerade trial vectors in reduced space                                                                        \n",
      "                                                                                                                          \n",
      "* Info * 31.09 kB of memory used for subspace procedure on the master node                                                \n",
      "* Info * 5.48 GB of memory available for the solver on the master node                                                    \n",
      "                                                                                                                          \n",
      "               *** Iteration:   3 * Residuals (Max,Min): 4.31e-02 and 5.33e-03                                            \n",
      "                                                                                                                          \n",
      "               <<x;x>>_0.0000 :    -32.95690850 Residual Norm: 0.04312012                                                 \n",
      "               <<y;y>>_0.0000 :    -19.26807042 Residual Norm: 0.00582253                                                 \n",
      "               <<z;z>>_0.0000 :     -7.20135309 Residual Norm: 0.00532886                                                 \n",
      "                                                                                                                          \n",
      "* Info * Processing Fock builds... (batch size: 3)                                                                        \n",
      "* Info *   batch 1/1                                                                                                      \n",
      "                                                                                                                          \n",
      "* Info * 0 gerade trial vectors in reduced space                                                                          \n",
      "* Info * 12 ungerade trial vectors in reduced space                                                                       \n",
      "                                                                                                                          \n",
      "* Info * 38.01 kB of memory used for subspace procedure on the master node                                                \n",
      "* Info * 5.48 GB of memory available for the solver on the master node                                                    \n",
      "                                                                                                                          \n",
      "               *** Iteration:   4 * Residuals (Max,Min): 8.34e-03 and 3.73e-04                                            \n",
      "                                                                                                                          \n",
      "               <<x;x>>_0.0000 :    -32.98535583 Residual Norm: 0.00834114                                                 \n",
      "               <<y;y>>_0.0000 :    -19.26812111 Residual Norm: 0.00072656                                                 \n",
      "               <<z;z>>_0.0000 :     -7.20136535 Residual Norm: 0.00037298                                                 \n",
      "                                                                                                                          \n",
      "* Info * Processing Fock builds... (batch size: 3)                                                                        \n",
      "* Info *   batch 1/1                                                                                                      \n",
      "                                                                                                                          \n",
      "* Info * 0 gerade trial vectors in reduced space                                                                          \n",
      "* Info * 15 ungerade trial vectors in reduced space                                                                       \n",
      "                                                                                                                          \n",
      "* Info * 45.11 kB of memory used for subspace procedure on the master node                                                \n",
      "* Info * 5.48 GB of memory available for the solver on the master node                                                    \n",
      "                                                                                                                          \n",
      "               *** Iteration:   5 * Residuals (Max,Min): 1.30e-03 and 4.86e-05                                            \n",
      "                                                                                                                          \n",
      "               <<x;x>>_0.0000 :    -32.98592441 Residual Norm: 0.00129893                                                 \n",
      "               <<y;y>>_0.0000 :    -19.26812213 Residual Norm: 0.00005077                                                 \n",
      "               <<z;z>>_0.0000 :     -7.20136549 Residual Norm: 0.00004855                                                 \n",
      "                                                                                                                          \n",
      "* Info * Processing Fock builds... (batch size: 1)                                                                        \n",
      "* Info *   batch 1/1                                                                                                      \n",
      "                                                                                                                          \n",
      "* Info * 0 gerade trial vectors in reduced space                                                                          \n",
      "* Info * 16 ungerade trial vectors in reduced space                                                                       \n",
      "                                                                                                                          \n",
      "* Info * 47.22 kB of memory used for subspace procedure on the master node                                                \n",
      "* Info * 5.48 GB of memory available for the solver on the master node                                                    \n",
      "                                                                                                                          \n",
      "               *** Iteration:   6 * Residuals (Max,Min): 9.86e-05 and 4.86e-05                                            \n",
      "                                                                                                                          \n",
      "               <<x;x>>_0.0000 :    -32.98592861 Residual Norm: 0.00009855                                                 \n",
      "                                                                                                                          \n",
      "               *** Linear response converged in 6 iterations. Time: 0.33 sec                                              \n",
      "                                                                                                                          \n",
      "                                                                                                                          \n",
      "               Polarizability (w=0.0000)                                                                                  \n",
      "               -------------------------                                                                                  \n",
      "                                  X              Y              Z                                                         \n",
      "               X        32.98592861     0.00000000    -0.00000000                                                         \n",
      "               Y         0.00000000    19.26812213    -0.00000000                                                         \n",
      "               Z        -0.00000000    -0.00000000     7.20136549                                                         \n",
      "                                                                                                                          \n"
     ]
    }
   ],
   "source": [
    "lrs_drv = vlx.LinearResponseSolver()\n",
    "lrs_out = lrs_drv.compute(molecule, basis, scf_results)"
   ]
  },
  {
   "cell_type": "markdown",
   "id": "5acc6404-7ba4-435a-9170-6d6e44b4014a",
   "metadata": {
    "editable": true,
    "slideshow": {
     "slide_type": ""
    },
    "tags": []
   },
   "source": [
    "The return result `lrs_out` is a dictonary with the values of the response functions provided from the key `response_functions`."
   ]
  },
  {
   "cell_type": "code",
   "execution_count": 31,
   "id": "caf16bb2-20d7-43d4-acee-fdb7a074882b",
   "metadata": {
    "editable": true,
    "slideshow": {
     "slide_type": ""
    },
    "tags": []
   },
   "outputs": [
    {
     "data": {
      "text/plain": [
       "dict_keys(['response_functions', 'solutions'])"
      ]
     },
     "execution_count": 31,
     "metadata": {},
     "output_type": "execute_result"
    }
   ],
   "source": [
    "lrs_out.keys()"
   ]
  },
  {
   "cell_type": "code",
   "execution_count": 32,
   "id": "fa801053-76ca-4793-9eac-ddad2c60a03f",
   "metadata": {
    "editable": true,
    "slideshow": {
     "slide_type": ""
    },
    "tags": []
   },
   "outputs": [
    {
     "name": "stdout",
     "output_type": "stream",
     "text": [
      "alpha_xx(0):  32.985929\n",
      "alpha_yy(0):  19.268122\n",
      "alpha_zz(0):  7.201365\n"
     ]
    }
   ],
   "source": [
    "alpha_xx = -lrs_out['response_functions'][('x', 'x', 0)]\n",
    "alpha_yy = -lrs_out['response_functions'][('y', 'y', 0)] \n",
    "alpha_zz = -lrs_out['response_functions'][('z', 'z', 0)]\n",
    "\n",
    "print(f\"alpha_xx(0): {alpha_xx : .6f}\")\n",
    "print(f\"alpha_yy(0): {alpha_yy : .6f}\")\n",
    "print(f\"alpha_zz(0): {alpha_zz : .6f}\")"
   ]
  },
  {
   "cell_type": "markdown",
   "id": "9c50b28f-9431-4d33-bbd2-d3e2fd5a35fc",
   "metadata": {
    "editable": true,
    "slideshow": {
     "slide_type": ""
    },
    "tags": []
   },
   "source": [
    "The solution vectors (or *response vectors*) are available from the key `solutions`, so that we can also determine the the linear response function values from the multiplication of response vectors with property gradients."
   ]
  },
  {
   "cell_type": "code",
   "execution_count": 33,
   "id": "bcd6568b-2cf5-403e-a5d2-dfdd4276e1cd",
   "metadata": {
    "editable": true,
    "slideshow": {
     "slide_type": ""
    },
    "tags": []
   },
   "outputs": [
    {
     "name": "stdout",
     "output_type": "stream",
     "text": [
      "alpha_xx(0):  32.985929\n",
      "alpha_yy(0):  19.268122\n",
      "alpha_zz(0):  7.201365\n"
     ]
    }
   ],
   "source": [
    "Nx = lrs_drv.get_full_solution_vector(lrs_out['solutions'][('x', 0)])\n",
    "Ny = lrs_drv.get_full_solution_vector(lrs_out['solutions'][('y', 0)])\n",
    "Nz = lrs_drv.get_full_solution_vector(lrs_out['solutions'][('z', 0)])\n",
    "\n",
    "print(f\"alpha_xx(0): {np.dot(mu_x, Nx) : .6f}\")\n",
    "print(f\"alpha_yy(0): {np.dot(mu_y, Ny) : .6f}\")\n",
    "print(f\"alpha_zz(0): {np.dot(mu_z, Nz) : .6f}\")"
   ]
  },
  {
   "cell_type": "markdown",
   "id": "65cea452-ba8c-4c93-9391-21ab733de448",
   "metadata": {
    "editable": true,
    "slideshow": {
     "slide_type": ""
    },
    "tags": []
   },
   "source": [
    "In this example, the `LinearResponseSolver` was using its default settings for operators and frequencies, both of which can be changed. We change the value of the optical frequency from the default zero to 0.0656 a.u. with use of the dictionary `rsp_settings`."
   ]
  },
  {
   "cell_type": "code",
   "execution_count": 34,
   "id": "c19508a7-b76a-402a-9bbe-a4c054ba2f34",
   "metadata": {
    "editable": true,
    "scrolled": true,
    "slideshow": {
     "slide_type": ""
    },
    "tags": [
     "remove-output"
    ]
   },
   "outputs": [
    {
     "name": "stdout",
     "output_type": "stream",
     "text": [
      "                                                                                                                          \n",
      "                                               Linear Response Solver Setup                                               \n",
      "                                              ==============================                                              \n",
      "                                                                                                                          \n",
      "                               Number of Frequencies           : 1                                                        \n",
      "                               Max. Number of Iterations       : 150                                                      \n",
      "                               Convergence Threshold           : 1.0e-04                                                  \n",
      "                               ERI Screening Scheme            : Cauchy Schwarz + Density                                 \n",
      "                               ERI Screening Threshold         : 1.0e-12                                                  \n",
      "                                                                                                                          \n",
      "* Info * Processing Fock builds... (batch size: 6)                                                                        \n",
      "* Info *   batch 1/1                                                                                                      \n",
      "                                                                                                                          \n",
      "* Info * 3 gerade trial vectors in reduced space                                                                          \n",
      "* Info * 3 ungerade trial vectors in reduced space                                                                        \n",
      "                                                                                                                          \n",
      "* Info * 24.22 kB of memory used for subspace procedure on the master node                                                \n",
      "* Info * 5.48 GB of memory available for the solver on the master node                                                    \n",
      "                                                                                                                          \n",
      "               *** Iteration:   1 * Residuals (Max,Min): 7.29e-01 and 1.61e-01                                            \n",
      "                                                                                                                          \n",
      "               <<x;x>>_0.0656 :    -28.90809010 Residual Norm: 0.72909378                                                 \n",
      "               <<y;y>>_0.0656 :    -18.90028206 Residual Norm: 0.30812663                                                 \n",
      "               <<z;z>>_0.0656 :     -7.21864514 Residual Norm: 0.16109611                                                 \n",
      "                                                                                                                          \n",
      "* Info * Processing Fock builds... (batch size: 6)                                                                        \n",
      "* Info *   batch 1/1                                                                                                      \n",
      "                                                                                                                          \n",
      "* Info * 6 gerade trial vectors in reduced space                                                                          \n",
      "* Info * 6 ungerade trial vectors in reduced space                                                                        \n",
      "                                                                                                                          \n",
      "* Info * 38.05 kB of memory used for subspace procedure on the master node                                                \n",
      "* Info * 5.47 GB of memory available for the solver on the master node                                                    \n",
      "                                                                                                                          \n",
      "               *** Iteration:   2 * Residuals (Max,Min): 1.72e-01 and 3.38e-02                                            \n",
      "                                                                                                                          \n",
      "               <<x;x>>_0.0656 :    -33.34208303 Residual Norm: 0.17151693                                                 \n",
      "               <<y;y>>_0.0656 :    -19.48584735 Residual Norm: 0.03653566                                                 \n",
      "               <<z;z>>_0.0656 :     -7.24416983 Residual Norm: 0.03380469                                                 \n",
      "                                                                                                                          \n",
      "* Info * Processing Fock builds... (batch size: 6)                                                                        \n",
      "* Info *   batch 1/1                                                                                                      \n",
      "                                                                                                                          \n",
      "* Info * 9 gerade trial vectors in reduced space                                                                          \n",
      "* Info * 9 ungerade trial vectors in reduced space                                                                        \n",
      "                                                                                                                          \n",
      "* Info * 51.87 kB of memory used for subspace procedure on the master node                                                \n",
      "* Info * 5.47 GB of memory available for the solver on the master node                                                    \n",
      "                                                                                                                          \n",
      "               *** Iteration:   3 * Residuals (Max,Min): 4.56e-02 and 5.91e-03                                            \n",
      "                                                                                                                          \n",
      "               <<x;x>>_0.0656 :    -33.98163212 Residual Norm: 0.04558834                                                 \n",
      "               <<y;y>>_0.0656 :    -19.49128672 Residual Norm: 0.00590678                                                 \n",
      "               <<z;z>>_0.0656 :     -7.24480022 Residual Norm: 0.00607952                                                 \n",
      "                                                                                                                          \n",
      "* Info * Processing Fock builds... (batch size: 6)                                                                        \n",
      "* Info *   batch 1/1                                                                                                      \n",
      "                                                                                                                          \n",
      "* Info * 12 gerade trial vectors in reduced space                                                                         \n",
      "* Info * 12 ungerade trial vectors in reduced space                                                                       \n",
      "                                                                                                                          \n",
      "* Info * 65.69 kB of memory used for subspace procedure on the master node                                                \n",
      "* Info * 5.47 GB of memory available for the solver on the master node                                                    \n",
      "                                                                                                                          \n",
      "               *** Iteration:   4 * Residuals (Max,Min): 8.78e-03 and 4.89e-04                                            \n",
      "                                                                                                                          \n",
      "               <<x;x>>_0.0656 :    -34.01824630 Residual Norm: 0.00877993                                                 \n",
      "               <<y;y>>_0.0656 :    -19.49134363 Residual Norm: 0.00076089                                                 \n",
      "               <<z;z>>_0.0656 :     -7.24481702 Residual Norm: 0.00048936                                                 \n",
      "                                                                                                                          \n",
      "* Info * Processing Fock builds... (batch size: 6)                                                                        \n",
      "* Info *   batch 1/1                                                                                                      \n",
      "                                                                                                                          \n",
      "* Info * 15 gerade trial vectors in reduced space                                                                         \n",
      "* Info * 15 ungerade trial vectors in reduced space                                                                       \n",
      "                                                                                                                          \n",
      "* Info * 79.68 kB of memory used for subspace procedure on the master node                                                \n",
      "* Info * 5.47 GB of memory available for the solver on the master node                                                    \n",
      "                                                                                                                          \n",
      "               *** Iteration:   5 * Residuals (Max,Min): 1.35e-03 and 5.72e-05                                            \n",
      "                                                                                                                          \n",
      "               <<x;x>>_0.0656 :    -34.01898105 Residual Norm: 0.00134990                                                 \n",
      "               <<y;y>>_0.0656 :    -19.49134482 Residual Norm: 0.00006027                                                 \n",
      "               <<z;z>>_0.0656 :     -7.24481725 Residual Norm: 0.00005715                                                 \n",
      "                                                                                                                          \n",
      "* Info * Processing Fock builds... (batch size: 2)                                                                        \n",
      "* Info *   batch 1/1                                                                                                      \n",
      "                                                                                                                          \n",
      "* Info * 16 gerade trial vectors in reduced space                                                                         \n",
      "* Info * 16 ungerade trial vectors in reduced space                                                                       \n",
      "                                                                                                                          \n",
      "* Info * 84.29 kB of memory used for subspace procedure on the master node                                                \n",
      "* Info * 5.47 GB of memory available for the solver on the master node                                                    \n",
      "                                                                                                                          \n",
      "               *** Iteration:   6 * Residuals (Max,Min): 1.06e-04 and 5.72e-05                                            \n",
      "                                                                                                                          \n",
      "               <<x;x>>_0.0656 :    -34.01898635 Residual Norm: 0.00010574                                                 \n",
      "                                                                                                                          \n",
      "* Info * Processing Fock builds... (batch size: 2)                                                                        \n",
      "* Info *   batch 1/1                                                                                                      \n",
      "                                                                                                                          \n",
      "* Info * 17 gerade trial vectors in reduced space                                                                         \n",
      "* Info * 17 ungerade trial vectors in reduced space                                                                       \n",
      "                                                                                                                          \n",
      "* Info * 88.73 kB of memory used for subspace procedure on the master node                                                \n",
      "* Info * 5.47 GB of memory available for the solver on the master node                                                    \n",
      "                                                                                                                          \n",
      "               *** Iteration:   7 * Residuals (Max,Min): 6.03e-05 and 8.72e-06                                            \n",
      "                                                                                                                          \n",
      "               <<x;x>>_0.0656 :    -34.01898643 Residual Norm: 0.00000872                                                 \n",
      "                                                                                                                          \n",
      "               *** Linear response converged in 7 iterations. Time: 0.41 sec                                              \n",
      "                                                                                                                          \n",
      "                                                                                                                          \n",
      "               Polarizability (w=0.0656)                                                                                  \n",
      "               -------------------------                                                                                  \n",
      "                                  X              Y              Z                                                         \n",
      "               X        34.01898643     0.00000000    -0.00000000                                                         \n",
      "               Y         0.00000000    19.49134482    -0.00000000                                                         \n",
      "               Z        -0.00000000    -0.00000000     7.24481725                                                         \n",
      "                                                                                                                          \n",
      "alpha_xx(w=0.0656):  34.018986\n",
      "alpha_yy(w=0.0656):  19.491345\n",
      "alpha_zz(w=0.0656):  7.244817\n"
     ]
    }
   ],
   "source": [
    "lrs_drv = vlx.LinearResponseSolver()\n",
    "rsp_settings = {'frequencies': [0.0656]}\n",
    "method_settings = {} # Hartree-Fock is default\n",
    "lrs_drv.update_settings(rsp_settings, method_settings)\n",
    "\n",
    "lrs_out = lrs_drv.compute(molecule, basis, scf_results)\n",
    "\n",
    "alpha_xx = -lrs_out['response_functions'][('x', 'x', 0.0656)]\n",
    "alpha_yy = -lrs_out['response_functions'][('y', 'y', 0.0656)] \n",
    "alpha_zz = -lrs_out['response_functions'][('z', 'z', 0.0656)]\n",
    "\n",
    "print(f\"alpha_xx(w=0.0656): {alpha_xx : .6f}\")\n",
    "print(f\"alpha_yy(w=0.0656): {alpha_yy : .6f}\")\n",
    "print(f\"alpha_zz(w=0.0656): {alpha_zz : .6f}\")"
   ]
  },
  {
   "cell_type": "markdown",
   "id": "4e5aef75-5a32-4895-8c35-d2c976ebe752",
   "metadata": {
    "editable": true,
    "slideshow": {
     "slide_type": ""
    },
    "tags": []
   },
   "source": [
    "Alternatively, in our small example the matrices in the RPA equation ($\\mathbf{E}^{[2]}$ and $\\mathbf{S}^{[2]}$) have been formed explicitly and we can thus determine values of linear response functions by straightforward matrix inverse and multiplication."
   ]
  },
  {
   "cell_type": "code",
   "execution_count": 35,
   "id": "40399d4f-d1c0-4a57-a77a-1bdd0c56d55f",
   "metadata": {
    "editable": true,
    "slideshow": {
     "slide_type": ""
    },
    "tags": []
   },
   "outputs": [
    {
     "name": "stdout",
     "output_type": "stream",
     "text": [
      "alpha_xx(w=0.0656):  34.018986\n",
      "alpha_yy(w=0.0656):  19.491345\n",
      "alpha_zz(w=0.0656):  7.244817\n"
     ]
    }
   ],
   "source": [
    "omega = 0.0656\n",
    "alpha_xx = np.dot(mu_x, np.matmul(np.linalg.inv(E2 - omega * S2), mu_x))\n",
    "alpha_yy = np.dot(mu_y, np.matmul(np.linalg.inv(E2 - omega * S2), mu_y))\n",
    "alpha_zz = np.dot(mu_z, np.matmul(np.linalg.inv(E2 - omega * S2), mu_z))\n",
    "\n",
    "print(f\"alpha_xx(w=0.0656): {alpha_xx : .6f}\")\n",
    "print(f\"alpha_yy(w=0.0656): {alpha_yy : .6f}\")\n",
    "print(f\"alpha_zz(w=0.0656): {alpha_zz : .6f}\")"
   ]
  },
  {
   "cell_type": "markdown",
   "id": "3b3cfee5-fd79-4ea0-ac28-8f7149f4c342",
   "metadata": {
    "editable": true,
    "slideshow": {
     "slide_type": ""
    },
    "tags": []
   },
   "source": [
    "## Complex polarizability\n",
    "\n",
    "As an alternative to calculating the eigenstates, the complex polarizability is determined from the linear response function according to {cite}`Norman2018`\n",
    "\n",
    "$$\n",
    "\\alpha_{\\alpha\\beta}(\\omega) = -\n",
    "\\langle \\! \\langle \\hat{\\mu}_\\alpha ; \\hat{\\mu}_\\beta \\rangle  \\! \\rangle_\\omega^\\gamma\n",
    "$$\n",
    "\n",
    "Here, the linear response equation takes the form\n",
    "\n",
    "$$\n",
    "\\langle\\!\\langle \\hat{\\mu}; \\hat{\\mu} \\rangle\\!\\rangle =\n",
    "-{\\boldsymbol{\\mu}^{[1]}}^\\dagger\n",
    "\\Big(\n",
    "\\mathbf{E}^{[2]} - (\\omega + i\\gamma) \\mathbf{S}^{[2]}\n",
    "\\Big)^{-1}\n",
    "\\boldsymbol{\\mu}^{[1]}\n",
    "$$\n",
    "\n",
    "where the phenomenological damping parameter $\\gamma$ is associated with the inverse of the finite lifetime of the excited states in the molecular system. A polarizability calculated in this manner is physically sound for all optical frequencies, be it in the nonresonance or resonence regions of the spectrum. The real and imaginary parts of such complex response functions are related by the Kramers--Kronig relations and typically associated with separate spectroscopies and/or physical phenomena. In the case of the electric-dipole polarizability, the real and imaginary parts are associated with light scattering and absorption, respectively.\n",
    "\n",
    "We can determine complex response functions by means of the `ComplexResponse` class object. We consider 50 frequencies within 0.05 a.u. from the $\\pi \\rightarrow \\pi^{\\ast}$ transition:"
   ]
  },
  {
   "cell_type": "code",
   "execution_count": 36,
   "id": "c0c186de-7dc3-4a0a-80a0-33b0795e06d9",
   "metadata": {
    "editable": true,
    "scrolled": true,
    "slideshow": {
     "slide_type": ""
    },
    "tags": [
     "remove-output"
    ]
   },
   "outputs": [
    {
     "name": "stdout",
     "output_type": "stream",
     "text": [
      "                                                                                                                          \n",
      "                                              Complex Response Solver Setup                                               \n",
      "                                             ===============================                                              \n",
      "                                                                                                                          \n",
      "                               Number of Frequencies           : 50                                                       \n",
      "                               Max. Number of Iterations       : 150                                                      \n",
      "                               Convergence Threshold           : 1.0e-04                                                  \n",
      "                               ERI Screening Scheme            : Cauchy Schwarz + Density                                 \n",
      "                               ERI Screening Threshold         : 1.0e-12                                                  \n",
      "                                                                                                                          \n",
      "* Info * Processing Fock builds... (batch size: 17)                                                                       \n",
      "* Info *   batch 1/1                                                                                                      \n",
      "                                                                                                                          \n",
      "* Info * 8 gerade trial vectors in reduced space                                                                          \n",
      "* Info * 9 ungerade trial vectors in reduced space                                                                        \n",
      "                                                                                                                          \n",
      "* Info * 986.06 kB of memory used for subspace procedure on the master node                                               \n",
      "* Info * 5.49 GB of memory available for the solver on the master node                                                    \n",
      "                                                                                                                          \n",
      "               *** Iteration:   1 * Residuals (Max,Min): 5.22e-01 and 1.48e-01                                            \n",
      "                                                                                                                          \n",
      "               Operator:  electric dipole (xyz)                                                                           \n",
      "                                                                                                                          \n",
      "               <<x;x>>_0.2415 :    -46.25950452     -1.30580881j   Residual Norm: 0.52194346                              \n",
      "               <<x;x>>_0.2436 :    -46.85471960     -1.36666605j   Residual Norm: 0.52062151                              \n",
      "               <<x;x>>_0.2456 :    -47.47785022     -1.43193103j   Residual Norm: 0.51929486                              \n",
      "               <<x;x>>_0.2477 :    -48.13092812     -1.50205001j   Residual Norm: 0.51796341                              \n",
      "               <<x;x>>_0.2497 :    -48.81619119     -1.57752728j   Residual Norm: 0.51662706                              \n",
      "               <<x;x>>_0.2517 :    -49.53611027     -1.65893448j   Residual Norm: 0.51528568                              \n",
      "               <<x;x>>_0.2538 :    -50.29342021     -1.74692168j   Residual Norm: 0.51393914                              \n",
      "               <<x;x>>_0.2558 :    -51.09115611     -1.84223065j   Residual Norm: 0.51258729                              \n",
      "               <<x;x>>_0.2579 :    -51.93269554     -1.94571083j   Residual Norm: 0.51122998                              \n",
      "               <<x;x>>_0.2599 :    -52.82180817     -2.05833862j   Residual Norm: 0.50986703                              \n",
      "               <<x;x>>_0.2619 :    -53.76271416     -2.18124082j   Residual Norm: 0.50849828                              \n",
      "               <<x;x>>_0.2640 :    -54.76015335     -2.31572330j   Residual Norm: 0.50712351                              \n",
      "               <<x;x>>_0.2660 :    -55.81946742     -2.46330618j   Residual Norm: 0.50574254                              \n",
      "               <<x;x>>_0.2681 :    -56.94669815     -2.62576744j   Residual Norm: 0.50435513                              \n",
      "               <<x;x>>_0.2701 :    -58.14870534     -2.80519709j   Residual Norm: 0.50296107                              \n",
      "               <<x;x>>_0.2721 :    -59.43330935     -3.00406515j   Residual Norm: 0.50156010                              \n",
      "               <<x;x>>_0.2742 :    -60.80946409     -3.22530755j   Residual Norm: 0.50015197                              \n",
      "               <<x;x>>_0.2762 :    -62.28746865     -3.47243536j   Residual Norm: 0.49873640                              \n",
      "               <<x;x>>_0.2783 :    -63.87922747     -3.74967518j   Residual Norm: 0.49731311                              \n",
      "               <<x;x>>_0.2803 :    -65.59857281     -4.06215097j   Residual Norm: 0.49588180                              \n",
      "               <<x;x>>_0.2823 :    -67.46166706     -4.41612200j   Residual Norm: 0.49444216                              \n",
      "               <<x;x>>_0.2844 :    -69.48750879     -4.81929749j   Residual Norm: 0.49299386                              \n",
      "               <<x;x>>_0.2864 :    -71.69857445     -5.28125742j   Residual Norm: 0.49153656                              \n",
      "               <<x;x>>_0.2885 :    -74.12163924     -5.81402240j   Residual Norm: 0.49006991                              \n",
      "               <<x;x>>_0.2905 :    -76.78883690     -6.43283560j   Residual Norm: 0.48859352                              \n",
      "               <<x;x>>_0.2926 :    -79.73904138     -7.15725162j   Residual Norm: 0.48710703                              \n",
      "               <<x;x>>_0.2946 :    -83.01968619     -8.01267685j   Residual Norm: 0.48561003                              \n",
      "               <<x;x>>_0.2966 :    -86.68918551     -9.03258717j   Residual Norm: 0.48410211                              \n",
      "               <<x;x>>_0.2987 :    -90.82018987    -10.26178231j   Residual Norm: 0.48258284                              \n",
      "               <<x;x>>_0.3007 :    -95.50400900    -11.76126394j   Residual Norm: 0.48105178                              \n",
      "               <<x;x>>_0.3028 :   -100.85667470    -13.61572084j   Residual Norm: 0.47950848                              \n",
      "               <<x;x>>_0.3048 :   -107.02730540    -15.94531699j   Residual Norm: 0.47795247                              \n",
      "               <<x;x>>_0.3068 :   -114.20965389    -18.92480139j   Residual Norm: 0.47638328                              \n",
      "               <<x;x>>_0.3089 :   -122.65786319    -22.81549815j   Residual Norm: 0.47480041                              \n",
      "               <<x;x>>_0.3109 :   -132.70709678    -28.02079590j   Residual Norm: 0.47320335                              \n",
      "               <<x;x>>_0.3130 :   -144.79735257    -35.18619723j   Residual Norm: 0.47159160                              \n",
      "               <<x;x>>_0.3150 :   -159.48925454    -45.38719459j   Residual Norm: 0.46996463                              \n",
      "               <<x;x>>_0.3170 :   -177.42579799    -60.49590142j   Residual Norm: 0.46832189                              \n",
      "               <<x;x>>_0.3191 :   -199.06807020    -83.91372117j   Residual Norm: 0.46666286                              \n",
      "               <<x;x>>_0.3211 :   -223.57391220   -121.98770248j   Residual Norm: 0.46498697                              \n",
      "               <<x;x>>_0.3232 :   -244.59651720   -186.04319926j   Residual Norm: 0.46329367                              \n",
      "               <<x;x>>_0.3252 :   -237.14306040   -289.65692677j   Residual Norm: 0.46158239                              \n",
      "               <<x;x>>_0.3272 :   -141.97495353   -411.30824895j   Residual Norm: 0.45985257                              \n",
      "               <<x;x>>_0.3293 :     45.54384926   -432.36468447j   Residual Norm: 0.45810363                              \n",
      "               <<x;x>>_0.3313 :    171.87448432   -322.87013362j   Residual Norm: 0.45633500                              \n",
      "               <<x;x>>_0.3334 :    195.53240046   -209.05886180j   Residual Norm: 0.45454611                              \n",
      "               <<x;x>>_0.3354 :    178.27531086   -135.70264747j   Residual Norm: 0.45273639                              \n",
      "               <<x;x>>_0.3375 :    153.63607840    -92.15823751j   Residual Norm: 0.45090528                              \n",
      "               <<x;x>>_0.3395 :    131.03638428    -65.68553859j   Residual Norm: 0.44905222                              \n",
      "               <<x;x>>_0.3415 :    112.13019393    -48.82295491j   Residual Norm: 0.44717665                              \n",
      "               <<y;y>>_0.2415 :    -22.14110752     -0.14928604j   Residual Norm: 0.24007306                              \n",
      "               <<y;y>>_0.2436 :    -22.20845304     -0.15154975j   Residual Norm: 0.23974244                              \n",
      "               <<y;y>>_0.2456 :    -22.27681986     -0.15384942j   Residual Norm: 0.23941036                              \n",
      "               <<y;y>>_0.2477 :    -22.34622425     -0.15618595j   Residual Norm: 0.23907683                              \n",
      "               <<y;y>>_0.2497 :    -22.41668292     -0.15856027j   Residual Norm: 0.23874188                              \n",
      "               <<y;y>>_0.2517 :    -22.48821298     -0.16097336j   Residual Norm: 0.23840554                              \n",
      "               <<y;y>>_0.2538 :    -22.56083200     -0.16342618j   Residual Norm: 0.23806783                              \n",
      "               <<y;y>>_0.2558 :    -22.63455797     -0.16591977j   Residual Norm: 0.23772877                              \n",
      "               <<y;y>>_0.2579 :    -22.70940937     -0.16845518j   Residual Norm: 0.23738839                              \n",
      "               <<y;y>>_0.2599 :    -22.78540514     -0.17103348j   Residual Norm: 0.23704671                              \n",
      "               <<y;y>>_0.2619 :    -22.86256473     -0.17365581j   Residual Norm: 0.23670376                              \n",
      "               <<y;y>>_0.2640 :    -22.94090807     -0.17632330j   Residual Norm: 0.23635955                              \n",
      "               <<y;y>>_0.2660 :    -23.02045565     -0.17903716j   Residual Norm: 0.23601412                              \n",
      "               <<y;y>>_0.2681 :    -23.10122846     -0.18179862j   Residual Norm: 0.23566748                              \n",
      "               <<y;y>>_0.2701 :    -23.18324809     -0.18460893j   Residual Norm: 0.23531965                              \n",
      "               <<y;y>>_0.2721 :    -23.26653667     -0.18746942j   Residual Norm: 0.23497067                              \n",
      "               <<y;y>>_0.2742 :    -23.35111695     -0.19038143j   Residual Norm: 0.23462055                              \n",
      "               <<y;y>>_0.2762 :    -23.43701228     -0.19334637j   Residual Norm: 0.23426932                              \n",
      "               <<y;y>>_0.2783 :    -23.52424665     -0.19636567j   Residual Norm: 0.23391700                              \n",
      "               <<y;y>>_0.2803 :    -23.61284472     -0.19944084j   Residual Norm: 0.23356361                              \n",
      "               <<y;y>>_0.2823 :    -23.70283181     -0.20257341j   Residual Norm: 0.23320918                              \n",
      "               <<y;y>>_0.2844 :    -23.79423394     -0.20576499j   Residual Norm: 0.23285372                              \n",
      "               <<y;y>>_0.2864 :    -23.88707787     -0.20901721j   Residual Norm: 0.23249727                              \n",
      "               <<y;y>>_0.2885 :    -23.98139111     -0.21233181j   Residual Norm: 0.23213983                              \n",
      "               <<y;y>>_0.2905 :    -24.07720193     -0.21571053j   Residual Norm: 0.23178144                              \n",
      "               <<y;y>>_0.2926 :    -24.17453943     -0.21915521j   Residual Norm: 0.23142212                              \n",
      "               <<y;y>>_0.2946 :    -24.27343351     -0.22266775j   Residual Norm: 0.23106188                              \n",
      "               <<y;y>>_0.2966 :    -24.37391496     -0.22625012j   Residual Norm: 0.23070075                              \n",
      "               <<y;y>>_0.2987 :    -24.47601545     -0.22990434j   Residual Norm: 0.23033876                              \n",
      "               <<y;y>>_0.3007 :    -24.57976758     -0.23363252j   Residual Norm: 0.22997592                              \n",
      "               <<y;y>>_0.3028 :    -24.68520490     -0.23743684j   Residual Norm: 0.22961225                              \n",
      "               <<y;y>>_0.3048 :    -24.79236197     -0.24131958j   Residual Norm: 0.22924779                              \n",
      "               <<y;y>>_0.3068 :    -24.90127436     -0.24528309j   Residual Norm: 0.22888254                              \n",
      "               <<y;y>>_0.3089 :    -25.01197872     -0.24932980j   Residual Norm: 0.22851652                              \n",
      "               <<y;y>>_0.3109 :    -25.12451282     -0.25346223j   Residual Norm: 0.22814977                              \n",
      "               <<y;y>>_0.3130 :    -25.23891557     -0.25768303j   Residual Norm: 0.22778231                              \n",
      "               <<y;y>>_0.3150 :    -25.35522706     -0.26199491j   Residual Norm: 0.22741414                              \n",
      "               <<y;y>>_0.3170 :    -25.47348865     -0.26640070j   Residual Norm: 0.22704530                              \n",
      "               <<y;y>>_0.3191 :    -25.59374298     -0.27090336j   Residual Norm: 0.22667580                              \n",
      "               <<y;y>>_0.3211 :    -25.71603402     -0.27550594j   Residual Norm: 0.22630567                              \n",
      "               <<y;y>>_0.3232 :    -25.84040714     -0.28021163j   Residual Norm: 0.22593492                              \n",
      "               <<y;y>>_0.3252 :    -25.96690917     -0.28502372j   Residual Norm: 0.22556359                              \n",
      "               <<y;y>>_0.3272 :    -26.09558842     -0.28994567j   Residual Norm: 0.22519168                              \n",
      "               <<y;y>>_0.3293 :    -26.22649480     -0.29498105j   Residual Norm: 0.22481921                              \n",
      "               <<y;y>>_0.3313 :    -26.35967983     -0.30013360j   Residual Norm: 0.22444622                              \n",
      "               <<y;y>>_0.3334 :    -26.49519673     -0.30540721j   Residual Norm: 0.22407272                              \n",
      "               <<y;y>>_0.3354 :    -26.63310050     -0.31080591j   Residual Norm: 0.22369872                              \n",
      "               <<y;y>>_0.3375 :    -26.77344799     -0.31633392j   Residual Norm: 0.22332426                              \n",
      "               <<y;y>>_0.3395 :    -26.91629794     -0.32199566j   Residual Norm: 0.22294935                              \n",
      "               <<y;y>>_0.3415 :    -27.06171114     -0.32779569j   Residual Norm: 0.22257401                              \n",
      "               <<z;z>>_0.2415 :     -7.81050307     -0.02611923j   Residual Norm: 0.15279033                              \n",
      "               <<z;z>>_0.2436 :     -7.82226977     -0.02643182j   Residual Norm: 0.15277568                              \n",
      "               <<z;z>>_0.2456 :     -7.83417711     -0.02674739j   Residual Norm: 0.15275949                              \n",
      "               <<z;z>>_0.2477 :     -7.84622642     -0.02706599j   Residual Norm: 0.15274169                              \n",
      "               <<z;z>>_0.2497 :     -7.85841908     -0.02738768j   Residual Norm: 0.15272218                              \n",
      "               <<z;z>>_0.2517 :     -7.87075648     -0.02771253j   Residual Norm: 0.15270087                              \n",
      "               <<z;z>>_0.2538 :     -7.88324005     -0.02804061j   Residual Norm: 0.15267767                              \n",
      "               <<z;z>>_0.2558 :     -7.89587125     -0.02837198j   Residual Norm: 0.15265248                              \n",
      "               <<z;z>>_0.2579 :     -7.90865158     -0.02870672j   Residual Norm: 0.15262520                              \n",
      "               <<z;z>>_0.2599 :     -7.92158255     -0.02904491j   Residual Norm: 0.15259572                              \n",
      "               <<z;z>>_0.2619 :     -7.93466572     -0.02938661j   Residual Norm: 0.15256394                              \n",
      "               <<z;z>>_0.2640 :     -7.94790269     -0.02973191j   Residual Norm: 0.15252974                              \n",
      "               <<z;z>>_0.2660 :     -7.96129509     -0.03008089j   Residual Norm: 0.15249299                              \n",
      "               <<z;z>>_0.2681 :     -7.97484456     -0.03043364j   Residual Norm: 0.15245358                              \n",
      "               <<z;z>>_0.2701 :     -7.98855283     -0.03079023j   Residual Norm: 0.15241139                              \n",
      "               <<z;z>>_0.2721 :     -8.00242163     -0.03115076j   Residual Norm: 0.15236627                              \n",
      "               <<z;z>>_0.2742 :     -8.01645274     -0.03151532j   Residual Norm: 0.15231809                              \n",
      "               <<z;z>>_0.2762 :     -8.03064799     -0.03188401j   Residual Norm: 0.15226671                              \n",
      "               <<z;z>>_0.2783 :     -8.04500924     -0.03225692j   Residual Norm: 0.15221197                              \n",
      "               <<z;z>>_0.2803 :     -8.05953842     -0.03263417j   Residual Norm: 0.15215374                              \n",
      "               <<z;z>>_0.2823 :     -8.07423747     -0.03301586j   Residual Norm: 0.15209184                              \n",
      "               <<z;z>>_0.2844 :     -8.08910841     -0.03340209j   Residual Norm: 0.15202611                              \n",
      "               <<z;z>>_0.2864 :     -8.10415331     -0.03379300j   Residual Norm: 0.15195640                              \n",
      "               <<z;z>>_0.2885 :     -8.11937427     -0.03418869j   Residual Norm: 0.15188251                              \n",
      "               <<z;z>>_0.2905 :     -8.13477346     -0.03458929j   Residual Norm: 0.15180426                              \n",
      "               <<z;z>>_0.2926 :     -8.15035311     -0.03499493j   Residual Norm: 0.15172148                              \n",
      "               <<z;z>>_0.2946 :     -8.16611550     -0.03540576j   Residual Norm: 0.15163397                              \n",
      "               <<z;z>>_0.2966 :     -8.18206299     -0.03582191j   Residual Norm: 0.15154153                              \n",
      "               <<z;z>>_0.2987 :     -8.19819797     -0.03624352j   Residual Norm: 0.15144394                              \n",
      "               <<z;z>>_0.3007 :     -8.21452293     -0.03667077j   Residual Norm: 0.15134101                              \n",
      "               <<z;z>>_0.3028 :     -8.23104043     -0.03710380j   Residual Norm: 0.15123251                              \n",
      "               <<z;z>>_0.3048 :     -8.24775308     -0.03754279j   Residual Norm: 0.15111823                              \n",
      "               <<z;z>>_0.3068 :     -8.26466359     -0.03798792j   Residual Norm: 0.15099792                              \n",
      "               <<z;z>>_0.3089 :     -8.28177474     -0.03843937j   Residual Norm: 0.15087136                              \n",
      "               <<z;z>>_0.3109 :     -8.29908941     -0.03889734j   Residual Norm: 0.15073830                              \n",
      "               <<z;z>>_0.3130 :     -8.31661054     -0.03936205j   Residual Norm: 0.15059850                              \n",
      "               <<z;z>>_0.3150 :     -8.33434120     -0.03983370j   Residual Norm: 0.15045171                              \n",
      "               <<z;z>>_0.3170 :     -8.35228454     -0.04031252j   Residual Norm: 0.15029767                              \n",
      "               <<z;z>>_0.3191 :     -8.37044381     -0.04079876j   Residual Norm: 0.15013613                              \n",
      "               <<z;z>>_0.3211 :     -8.38882239     -0.04129268j   Residual Norm: 0.14996682                              \n",
      "               <<z;z>>_0.3232 :     -8.40742376     -0.04179454j   Residual Norm: 0.14978948                              \n",
      "               <<z;z>>_0.3252 :     -8.42625153     -0.04230463j   Residual Norm: 0.14960384                              \n",
      "               <<z;z>>_0.3272 :     -8.44530944     -0.04282326j   Residual Norm: 0.14940964                              \n",
      "               <<z;z>>_0.3293 :     -8.46460137     -0.04335074j   Residual Norm: 0.14920661                              \n",
      "               <<z;z>>_0.3313 :     -8.48413134     -0.04388742j   Residual Norm: 0.14899451                              \n",
      "               <<z;z>>_0.3334 :     -8.50390355     -0.04443367j   Residual Norm: 0.14877306                              \n",
      "               <<z;z>>_0.3354 :     -8.52392234     -0.04498987j   Residual Norm: 0.14854203                              \n",
      "               <<z;z>>_0.3375 :     -8.54419224     -0.04555643j   Residual Norm: 0.14830118                              \n",
      "               <<z;z>>_0.3395 :     -8.56471797     -0.04613381j   Residual Norm: 0.14805029                              \n",
      "               <<z;z>>_0.3415 :     -8.58550445     -0.04672248j   Residual Norm: 0.14778915                              \n",
      "                                                                                                                          \n",
      "* Info * Processing Fock builds... (batch size: 21)                                                                       \n",
      "* Info *   batch 1/1                                                                                                      \n",
      "                                                                                                                          \n",
      "* Info * 17 gerade trial vectors in reduced space                                                                         \n",
      "* Info * 21 ungerade trial vectors in reduced space                                                                       \n",
      "                                                                                                                          \n",
      "* Info * 1.03 MB of memory used for subspace procedure on the master node                                                 \n",
      "* Info * 5.48 GB of memory available for the solver on the master node                                                    \n",
      "                                                                                                                          \n",
      "               *** Iteration:   2 * Residuals (Max,Min): 6.37e-02 and 1.15e-02                                            \n",
      "                                                                                                                          \n",
      "               Operator:  electric dipole (xyz)                                                                           \n",
      "                                                                                                                          \n",
      "               <<x;x>>_0.2415 :    -69.74428638     -4.17465713j   Residual Norm: 0.06365844                              \n",
      "               <<x;x>>_0.2436 :    -71.65883811     -4.52204106j   Residual Norm: 0.06359431                              \n",
      "               <<x;x>>_0.2456 :    -73.73322510     -4.91496341j   Residual Norm: 0.06352966                              \n",
      "               <<x;x>>_0.2477 :    -75.98831074     -5.36176195j   Residual Norm: 0.06346446                              \n",
      "               <<x;x>>_0.2497 :    -78.44872567     -5.87276674j   Residual Norm: 0.06339865                              \n",
      "               <<x;x>>_0.2517 :    -81.14374457     -6.46089718j   Residual Norm: 0.06333220                              \n",
      "               <<x;x>>_0.2538 :    -84.10841471     -7.14247784j   Residual Norm: 0.06326506                              \n",
      "               <<x;x>>_0.2558 :    -87.38502239     -7.93836865j   Residual Norm: 0.06319719                              \n",
      "               <<x;x>>_0.2579 :    -91.02501762     -8.87555537j   Residual Norm: 0.06312854                              \n",
      "               <<x;x>>_0.2599 :    -95.09156640     -9.98942571j   Residual Norm: 0.06305905                              \n",
      "               <<x;x>>_0.2619 :    -99.66297112    -11.32708789j   Residual Norm: 0.06298868                              \n",
      "               <<x;x>>_0.2640 :   -104.83730185    -12.95230923j   Residual Norm: 0.06291738                              \n",
      "               <<x;x>>_0.2660 :   -110.73872754    -14.95303383j   Residual Norm: 0.06284508                              \n",
      "               <<x;x>>_0.2681 :   -117.52623605    -17.45311773j   Residual Norm: 0.06277172                              \n",
      "               <<x;x>>_0.2701 :   -125.40568124    -20.63116601j   Residual Norm: 0.06269725                              \n",
      "               <<x;x>>_0.2721 :   -134.64631806    -24.75172360j   Residual Norm: 0.06262160                              \n",
      "               <<x;x>>_0.2742 :   -145.60286286    -30.21872940j   Residual Norm: 0.06254471                              \n",
      "               <<x;x>>_0.2762 :   -158.74249251    -37.67064755j   Residual Norm: 0.06246650                              \n",
      "               <<x;x>>_0.2783 :   -174.66909473    -48.15672613j   Residual Norm: 0.06238691                              \n",
      "               <<x;x>>_0.2803 :   -194.11063806    -63.47688136j   Residual Norm: 0.06230588                              \n",
      "               <<x;x>>_0.2823 :   -217.73995101    -86.85774341j   Residual Norm: 0.06222331                              \n",
      "               <<x;x>>_0.2844 :   -245.35124860   -124.28978560j   Residual Norm: 0.06213914                              \n",
      "               <<x;x>>_0.2864 :   -272.66971872   -186.78955546j   Residual Norm: 0.06205329                              \n",
      "               <<x;x>>_0.2885 :   -280.47677341   -290.83403451j   Residual Norm: 0.06196567                              \n",
      "               <<x;x>>_0.2905 :   -212.14417525   -434.55397958j   Residual Norm: 0.06187621                              \n",
      "               <<x;x>>_0.2926 :    -16.20714853   -514.71570137j   Residual Norm: 0.06178482                              \n",
      "               <<x;x>>_0.2946 :    171.52621842   -423.11281230j   Residual Norm: 0.06169141                              \n",
      "               <<x;x>>_0.2966 :    230.75698658   -280.68572641j   Residual Norm: 0.06159590                              \n",
      "               <<x;x>>_0.2987 :    219.93518044   -180.51731388j   Residual Norm: 0.06149819                              \n",
      "               <<x;x>>_0.3007 :    192.19417032   -120.59024057j   Residual Norm: 0.06139819                              \n",
      "               <<x;x>>_0.3028 :    164.82233423    -84.60962445j   Residual Norm: 0.06129581                              \n",
      "               <<x;x>>_0.3048 :    141.52560136    -62.05136354j   Residual Norm: 0.06119095                              \n",
      "               <<x;x>>_0.3068 :    122.37360482    -47.21780203j   Residual Norm: 0.06108352                              \n",
      "               <<x;x>>_0.3089 :    106.67299647    -37.03408189j   Residual Norm: 0.06097341                              \n",
      "               <<x;x>>_0.3109 :     93.70286651    -29.77910168j   Residual Norm: 0.06086054                              \n",
      "               <<x;x>>_0.3130 :     82.87067748    -24.44600795j   Residual Norm: 0.06074479                              \n",
      "               <<x;x>>_0.3150 :     73.71925559    -20.42012630j   Residual Norm: 0.06062606                              \n",
      "               <<x;x>>_0.3170 :     65.90164125    -17.31143230j   Residual Norm: 0.06050427                              \n",
      "               <<x;x>>_0.3191 :     59.15435990    -14.86383621j   Residual Norm: 0.06037930                              \n",
      "               <<x;x>>_0.3211 :     53.27582126    -12.90405047j   Residual Norm: 0.06025105                              \n",
      "               <<x;x>>_0.3232 :     48.11018730    -11.31166764j   Residual Norm: 0.06011942                              \n",
      "               <<x;x>>_0.3252 :     43.53563158    -10.00104243j   Residual Norm: 0.05998430                              \n",
      "               <<x;x>>_0.3272 :     39.45584112     -8.90997812j   Residual Norm: 0.05984561                              \n",
      "               <<x;x>>_0.3293 :     35.79384336     -7.99246362j   Residual Norm: 0.05970324                              \n",
      "               <<x;x>>_0.3313 :     32.48748727     -7.21389320j   Residual Norm: 0.05955709                              \n",
      "               <<x;x>>_0.3334 :     29.48610334     -6.54784877j   Residual Norm: 0.05940706                              \n",
      "               <<x;x>>_0.3354 :     26.74800905     -5.97388956j   Residual Norm: 0.05925307                              \n",
      "               <<x;x>>_0.3375 :     24.23862629     -5.47600541j   Residual Norm: 0.05909501                              \n",
      "               <<x;x>>_0.3395 :     21.92904566     -5.04151625j   Residual Norm: 0.05893281                              \n",
      "               <<x;x>>_0.3415 :     19.79492083     -4.66027685j   Residual Norm: 0.05876637                              \n",
      "               <<y;y>>_0.2415 :    -22.87156300     -0.16452456j   Residual Norm: 0.01515910                              \n",
      "               <<y;y>>_0.2436 :    -22.94579969     -0.16710923j   Residual Norm: 0.01521472                              \n",
      "               <<y;y>>_0.2456 :    -23.02120303     -0.16973787j   Residual Norm: 0.01527091                              \n",
      "               <<y;y>>_0.2477 :    -23.09779293     -0.17241163j   Residual Norm: 0.01532768                              \n",
      "               <<y;y>>_0.2497 :    -23.17558985     -0.17513174j   Residual Norm: 0.01538503                              \n",
      "               <<y;y>>_0.2517 :    -23.25461479     -0.17789943j   Residual Norm: 0.01544295                              \n",
      "               <<y;y>>_0.2538 :    -23.33488932     -0.18071598j   Residual Norm: 0.01550146                              \n",
      "               <<y;y>>_0.2558 :    -23.41643560     -0.18358274j   Residual Norm: 0.01556055                              \n",
      "               <<y;y>>_0.2579 :    -23.49927637     -0.18650106j   Residual Norm: 0.01562022                              \n",
      "               <<y;y>>_0.2599 :    -23.58343503     -0.18947237j   Residual Norm: 0.01568049                              \n",
      "               <<y;y>>_0.2619 :    -23.66893559     -0.19249814j   Residual Norm: 0.01574135                              \n",
      "               <<y;y>>_0.2640 :    -23.75580274     -0.19557987j   Residual Norm: 0.01580281                              \n",
      "               <<y;y>>_0.2660 :    -23.84406186     -0.19871914j   Residual Norm: 0.01586486                              \n",
      "               <<y;y>>_0.2681 :    -23.93373904     -0.20191757j   Residual Norm: 0.01592751                              \n",
      "               <<y;y>>_0.2701 :    -24.02486111     -0.20517682j   Residual Norm: 0.01599077                              \n",
      "               <<y;y>>_0.2721 :    -24.11745565     -0.20849865j   Residual Norm: 0.01605463                              \n",
      "               <<y;y>>_0.2742 :    -24.21155106     -0.21188485j   Residual Norm: 0.01611910                              \n",
      "               <<y;y>>_0.2762 :    -24.30717651     -0.21533727j   Residual Norm: 0.01618418                              \n",
      "               <<y;y>>_0.2783 :    -24.40436206     -0.21885784j   Residual Norm: 0.01624988                              \n",
      "               <<y;y>>_0.2803 :    -24.50313863     -0.22244857j   Residual Norm: 0.01631620                              \n",
      "               <<y;y>>_0.2823 :    -24.60353803     -0.22611152j   Residual Norm: 0.01638313                              \n",
      "               <<y;y>>_0.2844 :    -24.70559305     -0.22984884j   Residual Norm: 0.01645069                              \n",
      "               <<y;y>>_0.2864 :    -24.80933741     -0.23366275j   Residual Norm: 0.01651888                              \n",
      "               <<y;y>>_0.2885 :    -24.91480589     -0.23755556j   Residual Norm: 0.01658769                              \n",
      "               <<y;y>>_0.2905 :    -25.02203429     -0.24152966j   Residual Norm: 0.01665714                              \n",
      "               <<y;y>>_0.2926 :    -25.13105949     -0.24558754j   Residual Norm: 0.01672722                              \n",
      "               <<y;y>>_0.2946 :    -25.24191954     -0.24973178j   Residual Norm: 0.01679794                              \n",
      "               <<y;y>>_0.2966 :    -25.35465363     -0.25396507j   Residual Norm: 0.01686930                              \n",
      "               <<y;y>>_0.2987 :    -25.46930218     -0.25829017j   Residual Norm: 0.01694130                              \n",
      "               <<y;y>>_0.3007 :    -25.58590689     -0.26270999j   Residual Norm: 0.01701395                              \n",
      "               <<y;y>>_0.3028 :    -25.70451075     -0.26722753j   Residual Norm: 0.01708725                              \n",
      "               <<y;y>>_0.3048 :    -25.82515814     -0.27184592j   Residual Norm: 0.01716121                              \n",
      "               <<y;y>>_0.3068 :    -25.94789487     -0.27656841j   Residual Norm: 0.01723582                              \n",
      "               <<y;y>>_0.3089 :    -26.07276820     -0.28139838j   Residual Norm: 0.01731109                              \n",
      "               <<y;y>>_0.3109 :    -26.19982697     -0.28633937j   Residual Norm: 0.01738703                              \n",
      "               <<y;y>>_0.3130 :    -26.32912159     -0.29139503j   Residual Norm: 0.01746362                              \n",
      "               <<y;y>>_0.3150 :    -26.46070417     -0.29656918j   Residual Norm: 0.01754089                              \n",
      "               <<y;y>>_0.3170 :    -26.59462855     -0.30186581j   Residual Norm: 0.01761883                              \n",
      "               <<y;y>>_0.3191 :    -26.73095037     -0.30728907j   Residual Norm: 0.01769745                              \n",
      "               <<y;y>>_0.3211 :    -26.86972718     -0.31284329j   Residual Norm: 0.01777674                              \n",
      "               <<y;y>>_0.3232 :    -27.01101849     -0.31853297j   Residual Norm: 0.01785671                              \n",
      "               <<y;y>>_0.3252 :    -27.15488589     -0.32436284j   Residual Norm: 0.01793737                              \n",
      "               <<y;y>>_0.3272 :    -27.30139309     -0.33033779j   Residual Norm: 0.01801872                              \n",
      "               <<y;y>>_0.3293 :    -27.45060606     -0.33646299j   Residual Norm: 0.01810076                              \n",
      "               <<y;y>>_0.3313 :    -27.60259311     -0.34274378j   Residual Norm: 0.01818349                              \n",
      "               <<y;y>>_0.3334 :    -27.75742499     -0.34918578j   Residual Norm: 0.01826692                              \n",
      "               <<y;y>>_0.3354 :    -27.91517501     -0.35579485j   Residual Norm: 0.01835105                              \n",
      "               <<y;y>>_0.3375 :    -28.07591916     -0.36257712j   Residual Norm: 0.01843588                              \n",
      "               <<y;y>>_0.3395 :    -28.23973624     -0.36953903j   Residual Norm: 0.01852142                              \n",
      "               <<y;y>>_0.3415 :    -28.40670796     -0.37668729j   Residual Norm: 0.01860767                              \n",
      "               <<z;z>>_0.2415 :     -7.84749424     -0.02701750j   Residual Norm: 0.01153063                              \n",
      "               <<z;z>>_0.2436 :     -7.85966701     -0.02734800j   Residual Norm: 0.01160097                              \n",
      "               <<z;z>>_0.2456 :     -7.87198851     -0.02768183j   Residual Norm: 0.01167266                              \n",
      "               <<z;z>>_0.2477 :     -7.88446024     -0.02801907j   Residual Norm: 0.01174576                              \n",
      "               <<z;z>>_0.2497 :     -7.89708374     -0.02835981j   Residual Norm: 0.01182031                              \n",
      "               <<z;z>>_0.2517 :     -7.90986060     -0.02870410j   Residual Norm: 0.01189636                              \n",
      "               <<z;z>>_0.2538 :     -7.92279242     -0.02905204j   Residual Norm: 0.01197397                              \n",
      "               <<z;z>>_0.2558 :     -7.93588085     -0.02940371j   Residual Norm: 0.01205320                              \n",
      "               <<z;z>>_0.2579 :     -7.94912758     -0.02975919j   Residual Norm: 0.01213411                              \n",
      "               <<z;z>>_0.2599 :     -7.96253434     -0.03011858j   Residual Norm: 0.01221678                              \n",
      "               <<z;z>>_0.2619 :     -7.97610290     -0.03048196j   Residual Norm: 0.01230126                              \n",
      "               <<z;z>>_0.2640 :     -7.98983505     -0.03084944j   Residual Norm: 0.01238765                              \n",
      "               <<z;z>>_0.2660 :     -8.00373266     -0.03122111j   Residual Norm: 0.01247602                              \n",
      "               <<z;z>>_0.2681 :     -8.01779762     -0.03159708j   Residual Norm: 0.01256647                              \n",
      "               <<z;z>>_0.2701 :     -8.03203188     -0.03197747j   Residual Norm: 0.01265910                              \n",
      "               <<z;z>>_0.2721 :     -8.04643744     -0.03236239j   Residual Norm: 0.01275400                              \n",
      "               <<z;z>>_0.2742 :     -8.06101635     -0.03275197j   Residual Norm: 0.01285130                              \n",
      "               <<z;z>>_0.2762 :     -8.07577073     -0.03314633j   Residual Norm: 0.01295112                              \n",
      "               <<z;z>>_0.2783 :     -8.09070273     -0.03354560j   Residual Norm: 0.01305359                              \n",
      "               <<z;z>>_0.2803 :     -8.10581459     -0.03394995j   Residual Norm: 0.01315886                              \n",
      "               <<z;z>>_0.2823 :     -8.12110860     -0.03435951j   Residual Norm: 0.01326709                              \n",
      "               <<z;z>>_0.2844 :     -8.13658713     -0.03477446j   Residual Norm: 0.01337846                              \n",
      "               <<z;z>>_0.2864 :     -8.15225262     -0.03519498j   Residual Norm: 0.01349316                              \n",
      "               <<z;z>>_0.2885 :     -8.16810760     -0.03562124j   Residual Norm: 0.01361140                              \n",
      "               <<z;z>>_0.2905 :     -8.18415467     -0.03605347j   Residual Norm: 0.01373341                              \n",
      "               <<z;z>>_0.2926 :     -8.20039654     -0.03649187j   Residual Norm: 0.01385945                              \n",
      "               <<z;z>>_0.2946 :     -8.21683602     -0.03693669j   Residual Norm: 0.01398981                              \n",
      "               <<z;z>>_0.2966 :     -8.23347601     -0.03738820j   Residual Norm: 0.01412480                              \n",
      "               <<z;z>>_0.2987 :     -8.25031956     -0.03784668j   Residual Norm: 0.01426477                              \n",
      "               <<z;z>>_0.3007 :     -8.26736984     -0.03831246j   Residual Norm: 0.01441012                              \n",
      "               <<z;z>>_0.3028 :     -8.28463016     -0.03878589j   Residual Norm: 0.01456128                              \n",
      "               <<z;z>>_0.3048 :     -8.30210400     -0.03926737j   Residual Norm: 0.01471875                              \n",
      "               <<z;z>>_0.3068 :     -8.31979503     -0.03975734j   Residual Norm: 0.01488310                              \n",
      "               <<z;z>>_0.3089 :     -8.33770712     -0.04025631j   Residual Norm: 0.01505494                              \n",
      "               <<z;z>>_0.3109 :     -8.35584435     -0.04076487j   Residual Norm: 0.01523501                              \n",
      "               <<z;z>>_0.3130 :     -8.37421110     -0.04128367j   Residual Norm: 0.01542411                              \n",
      "               <<z;z>>_0.3150 :     -8.39281204     -0.04181348j   Residual Norm: 0.01562320                              \n",
      "               <<z;z>>_0.3170 :     -8.41165219     -0.04235519j   Residual Norm: 0.01583334                              \n",
      "               <<z;z>>_0.3191 :     -8.43073697     -0.04290988j   Residual Norm: 0.01605580                              \n",
      "               <<z;z>>_0.3211 :     -8.45007229     -0.04347877j   Residual Norm: 0.01629203                              \n",
      "               <<z;z>>_0.3232 :     -8.46966464     -0.04406339j   Residual Norm: 0.01654374                              \n",
      "               <<z;z>>_0.3252 :     -8.48952118     -0.04466555j   Residual Norm: 0.01681292                              \n",
      "               <<z;z>>_0.3272 :     -8.50964989     -0.04528749j   Residual Norm: 0.01710195                              \n",
      "               <<z;z>>_0.3293 :     -8.53005976     -0.04593195j   Residual Norm: 0.01741366                              \n",
      "               <<z;z>>_0.3313 :     -8.55076100     -0.04660241j   Residual Norm: 0.01775142                              \n",
      "               <<z;z>>_0.3334 :     -8.57176538     -0.04730325j   Residual Norm: 0.01811934                              \n",
      "               <<z;z>>_0.3354 :     -8.59308657     -0.04804012j   Residual Norm: 0.01852239                              \n",
      "               <<z;z>>_0.3375 :     -8.61474069     -0.04882042j   Residual Norm: 0.01896671                              \n",
      "               <<z;z>>_0.3395 :     -8.63674704     -0.04965395j   Residual Norm: 0.01945987                              \n",
      "               <<z;z>>_0.3415 :     -8.65912900     -0.05055399j   Residual Norm: 0.02001135                              \n",
      "                                                                                                                          \n",
      "* Info * Processing Fock builds... (batch size: 18)                                                                       \n",
      "* Info *   batch 1/1                                                                                                      \n",
      "                                                                                                                          \n",
      "* Info * 26 gerade trial vectors in reduced space                                                                         \n",
      "* Info * 30 ungerade trial vectors in reduced space                                                                       \n",
      "                                                                                                                          \n",
      "* Info * 1.08 MB of memory used for subspace procedure on the master node                                                 \n",
      "* Info * 5.48 GB of memory available for the solver on the master node                                                    \n",
      "                                                                                                                          \n",
      "               *** Iteration:   3 * Residuals (Max,Min): 5.52e-03 and 1.20e-03                                            \n",
      "                                                                                                                          \n",
      "               Operator:  electric dipole (xyz)                                                                           \n",
      "                                                                                                                          \n",
      "               <<x;x>>_0.2415 :    -70.61752535     -4.32845505j   Residual Norm: 0.00501505                              \n",
      "               <<x;x>>_0.2436 :    -72.60285844     -4.69584543j   Residual Norm: 0.00502166                              \n",
      "               <<x;x>>_0.2456 :    -74.75719769     -5.11238986j   Residual Norm: 0.00502841                              \n",
      "               <<x;x>>_0.2477 :    -77.10304227     -5.58727838j   Residual Norm: 0.00503532                              \n",
      "               <<x;x>>_0.2497 :    -79.66703460     -6.13194510j   Residual Norm: 0.00504238                              \n",
      "               <<x;x>>_0.2517 :    -82.48094387     -6.76075620j   Residual Norm: 0.00504959                              \n",
      "               <<x;x>>_0.2538 :    -85.58293727     -7.49195572j   Residual Norm: 0.00505696                              \n",
      "               <<x;x>>_0.2558 :    -89.01923948     -8.34898510j   Residual Norm: 0.00506448                              \n",
      "               <<x;x>>_0.2579 :    -92.84632085     -9.36235416j   Residual Norm: 0.00507216                              \n",
      "               <<x;x>>_0.2599 :    -97.13381328    -10.57234096j   Residual Norm: 0.00508000                              \n",
      "               <<x;x>>_0.2619 :   -101.96843649    -12.03296440j   Residual Norm: 0.00508800                              \n",
      "               <<x;x>>_0.2640 :   -107.45933868    -13.81795615j   Residual Norm: 0.00509615                              \n",
      "               <<x;x>>_0.2660 :   -113.74542502    -16.02995381j   Residual Norm: 0.00510446                              \n",
      "               <<x;x>>_0.2681 :   -121.00547345    -18.81503121j   Residual Norm: 0.00511294                              \n",
      "               <<x;x>>_0.2701 :   -129.47209143    -22.38634730j   Residual Norm: 0.00512157                              \n",
      "               <<x;x>>_0.2721 :   -139.45069973    -27.06391085j   Residual Norm: 0.00513037                              \n",
      "               <<x;x>>_0.2742 :   -151.34415491    -33.34389145j   Residual Norm: 0.00513933                              \n",
      "               <<x;x>>_0.2762 :   -165.68030606    -42.02424424j   Residual Norm: 0.00514845                              \n",
      "               <<x;x>>_0.2783 :   -183.12668501    -54.44185748j   Residual Norm: 0.00515773                              \n",
      "               <<x;x>>_0.2803 :   -204.42882478    -72.93735859j   Residual Norm: 0.00516717                              \n",
      "               <<x;x>>_0.2823 :   -230.03594987   -101.78444011j   Residual Norm: 0.00517678                              \n",
      "               <<x;x>>_0.2844 :   -258.54864278   -148.96060025j   Residual Norm: 0.00518654                              \n",
      "               <<x;x>>_0.2864 :   -280.98367533   -228.43198345j   Residual Norm: 0.00519647                              \n",
      "               <<x;x>>_0.2885 :   -263.67337195   -354.66700279j   Residual Norm: 0.00520655                              \n",
      "               <<x;x>>_0.2905 :   -135.38153041   -490.24651741j   Residual Norm: 0.00521680                              \n",
      "               <<x;x>>_0.2926 :     84.11243116   -490.45998283j   Residual Norm: 0.00522720                              \n",
      "               <<x;x>>_0.2946 :    212.71231649   -355.00693727j   Residual Norm: 0.00523776                              \n",
      "               <<x;x>>_0.2966 :    230.17741553   -228.67649459j   Residual Norm: 0.00524847                              \n",
      "               <<x;x>>_0.2987 :    207.77083716   -149.11923504j   Residual Norm: 0.00525934                              \n",
      "               <<x;x>>_0.3007 :    179.24516935   -101.89531230j   Residual Norm: 0.00527036                              \n",
      "               <<x;x>>_0.3028 :    153.61404217    -73.02444537j   Residual Norm: 0.00528153                              \n",
      "               <<x;x>>_0.3048 :    132.28487984    -54.51807830j   Residual Norm: 0.00529285                              \n",
      "               <<x;x>>_0.3068 :    114.81011023    -42.09657862j   Residual Norm: 0.00530431                              \n",
      "               <<x;x>>_0.3089 :    100.44423255    -33.41626196j   Residual Norm: 0.00531592                              \n",
      "               <<x;x>>_0.3109 :     88.51940514    -27.13862938j   Residual Norm: 0.00532766                              \n",
      "               <<x;x>>_0.3130 :     78.50745491    -22.46484295j   Residual Norm: 0.00533954                              \n",
      "               <<x;x>>_0.3150 :     70.00525735    -18.89822909j   Residual Norm: 0.00535155                              \n",
      "               <<x;x>>_0.3170 :     62.70718273    -16.11848027j   Residual Norm: 0.00536370                              \n",
      "               <<x;x>>_0.3191 :     56.38046159    -13.91225451j   Residual Norm: 0.00537596                              \n",
      "               <<x;x>>_0.3211 :     50.84618862    -12.13336284j   Residual Norm: 0.00538835                              \n",
      "               <<x;x>>_0.3232 :     45.96535579    -10.67909358j   Residual Norm: 0.00540085                              \n",
      "               <<x;x>>_0.3252 :     41.62872921     -9.47566672j   Residual Norm: 0.00541347                              \n",
      "               <<x;x>>_0.3272 :     37.74951527     -8.46903159j   Residual Norm: 0.00542618                              \n",
      "               <<x;x>>_0.3293 :     34.25801626     -7.61888928j   Residual Norm: 0.00543900                              \n",
      "               <<x;x>>_0.3313 :     31.09770126     -6.89471661j   Residual Norm: 0.00545191                              \n",
      "               <<x;x>>_0.3334 :     28.22228840     -6.27306388j   Residual Norm: 0.00546491                              \n",
      "               <<x;x>>_0.3354 :     25.59355511     -5.73568247j   Residual Norm: 0.00547799                              \n",
      "               <<x;x>>_0.3375 :     23.17967764     -5.26820432j   Residual Norm: 0.00549114                              \n",
      "               <<x;x>>_0.3395 :     20.95395892     -4.85919538j   Residual Norm: 0.00550436                              \n",
      "               <<x;x>>_0.3415 :     18.89384446     -4.49946723j   Residual Norm: 0.00551764                              \n",
      "               <<y;y>>_0.2415 :    -22.87347115     -0.16460868j   Residual Norm: 0.00120321                              \n",
      "               <<y;y>>_0.2436 :    -22.94774602     -0.16719585j   Residual Norm: 0.00120862                              \n",
      "               <<y;y>>_0.2456 :    -23.02318866     -0.16982706j   Residual Norm: 0.00121413                              \n",
      "               <<y;y>>_0.2477 :    -23.09981903     -0.17250349j   Residual Norm: 0.00121975                              \n",
      "               <<y;y>>_0.2497 :    -23.17765764     -0.17522636j   Residual Norm: 0.00122547                              \n",
      "               <<y;y>>_0.2517 :    -23.25672553     -0.17799691j   Residual Norm: 0.00123130                              \n",
      "               <<y;y>>_0.2538 :    -23.33704430     -0.18081643j   Residual Norm: 0.00123723                              \n",
      "               <<y;y>>_0.2558 :    -23.41863618     -0.18368626j   Residual Norm: 0.00124326                              \n",
      "               <<y;y>>_0.2579 :    -23.50152394     -0.18660777j   Residual Norm: 0.00124941                              \n",
      "               <<y;y>>_0.2599 :    -23.58573104     -0.18958238j   Residual Norm: 0.00125565                              \n",
      "               <<y;y>>_0.2619 :    -23.67128154     -0.19261157j   Residual Norm: 0.00126201                              \n",
      "               <<y;y>>_0.2640 :    -23.75820019     -0.19569685j   Residual Norm: 0.00126847                              \n",
      "               <<y;y>>_0.2660 :    -23.84651242     -0.19883980j   Residual Norm: 0.00127503                              \n",
      "               <<y;y>>_0.2681 :    -23.93624439     -0.20204205j   Residual Norm: 0.00128170                              \n",
      "               <<y;y>>_0.2701 :    -24.02742299     -0.20530527j   Residual Norm: 0.00128848                              \n",
      "               <<y;y>>_0.2721 :    -24.12007587     -0.20863121j   Residual Norm: 0.00129537                              \n",
      "               <<y;y>>_0.2742 :    -24.21423148     -0.21202168j   Residual Norm: 0.00130236                              \n",
      "               <<y;y>>_0.2762 :    -24.30991909     -0.21547854j   Residual Norm: 0.00130946                              \n",
      "               <<y;y>>_0.2783 :    -24.40716881     -0.21900373j   Residual Norm: 0.00131667                              \n",
      "               <<y;y>>_0.2803 :    -24.50601165     -0.22259925j   Residual Norm: 0.00132398                              \n",
      "               <<y;y>>_0.2823 :    -24.60647951     -0.22626719j   Residual Norm: 0.00133140                              \n",
      "               <<y;y>>_0.2844 :    -24.70860525     -0.23000968j   Residual Norm: 0.00133893                              \n",
      "               <<y;y>>_0.2864 :    -24.81242270     -0.23382898j   Residual Norm: 0.00134657                              \n",
      "               <<y;y>>_0.2885 :    -24.91796671     -0.23772739j   Residual Norm: 0.00135431                              \n",
      "               <<y;y>>_0.2905 :    -25.02527319     -0.24170732j   Residual Norm: 0.00136215                              \n",
      "               <<y;y>>_0.2926 :    -25.13437914     -0.24577127j   Residual Norm: 0.00137010                              \n",
      "               <<y;y>>_0.2946 :    -25.24532270     -0.24992182j   Residual Norm: 0.00137816                              \n",
      "               <<y;y>>_0.2966 :    -25.35814317     -0.25416168j   Residual Norm: 0.00138632                              \n",
      "               <<y;y>>_0.2987 :    -25.47288110     -0.25849363j   Residual Norm: 0.00139459                              \n",
      "               <<y;y>>_0.3007 :    -25.58957830     -0.26292058j   Residual Norm: 0.00140296                              \n",
      "               <<y;y>>_0.3028 :    -25.70827792     -0.26744556j   Residual Norm: 0.00141143                              \n",
      "               <<y;y>>_0.3048 :    -25.82902445     -0.27207170j   Residual Norm: 0.00142000                              \n",
      "               <<y;y>>_0.3068 :    -25.95186385     -0.27680228j   Residual Norm: 0.00142868                              \n",
      "               <<y;y>>_0.3089 :    -26.07684355     -0.28164068j   Residual Norm: 0.00143746                              \n",
      "               <<y;y>>_0.3109 :    -26.20401252     -0.28659046j   Residual Norm: 0.00144634                              \n",
      "               <<y;y>>_0.3130 :    -26.33342136     -0.29165531j   Residual Norm: 0.00145532                              \n",
      "               <<y;y>>_0.3150 :    -26.46512235     -0.29683905j   Residual Norm: 0.00146440                              \n",
      "               <<y;y>>_0.3170 :    -26.59916950     -0.30214569j   Residual Norm: 0.00147358                              \n",
      "               <<y;y>>_0.3191 :    -26.73561866     -0.30757941j   Residual Norm: 0.00148285                              \n",
      "               <<y;y>>_0.3211 :    -26.87452758     -0.31314455j   Residual Norm: 0.00149223                              \n",
      "               <<y;y>>_0.3232 :    -27.01595600     -0.31884566j   Residual Norm: 0.00150170                              \n",
      "               <<y;y>>_0.3252 :    -27.15996571     -0.32468747j   Residual Norm: 0.00151126                              \n",
      "               <<y;y>>_0.3272 :    -27.30662067     -0.33067493j   Residual Norm: 0.00152093                              \n",
      "               <<y;y>>_0.3293 :    -27.45598711     -0.33681319j   Residual Norm: 0.00153068                              \n",
      "               <<y;y>>_0.3313 :    -27.60813359     -0.34310767j   Residual Norm: 0.00154053                              \n",
      "               <<y;y>>_0.3334 :    -27.76313115     -0.34956400j   Residual Norm: 0.00155048                              \n",
      "               <<y;y>>_0.3354 :    -27.92105339     -0.35618808j   Residual Norm: 0.00156052                              \n",
      "               <<y;y>>_0.3375 :    -28.08197663     -0.36298609j   Residual Norm: 0.00157065                              \n",
      "               <<y;y>>_0.3395 :    -28.24597997     -0.36996449j   Residual Norm: 0.00158087                              \n",
      "               <<y;y>>_0.3415 :    -28.41314548     -0.37713004j   Residual Norm: 0.00159119                              \n",
      "               <<z;z>>_0.2415 :     -7.84775898     -0.02703007j   Residual Norm: 0.00163461                              \n",
      "               <<z;z>>_0.2436 :     -7.85993746     -0.02736099j   Residual Norm: 0.00165886                              \n",
      "               <<z;z>>_0.2456 :     -7.87226486     -0.02769528j   Residual Norm: 0.00168360                              \n",
      "               <<z;z>>_0.2477 :     -7.88474270     -0.02803300j   Residual Norm: 0.00170884                              \n",
      "               <<z;z>>_0.2497 :     -7.89737253     -0.02837423j   Residual Norm: 0.00173460                              \n",
      "               <<z;z>>_0.2517 :     -7.91015595     -0.02871905j   Residual Norm: 0.00176090                              \n",
      "               <<z;z>>_0.2538 :     -7.92309457     -0.02906755j   Residual Norm: 0.00178777                              \n",
      "               <<z;z>>_0.2558 :     -7.93619005     -0.02941979j   Residual Norm: 0.00181522                              \n",
      "               <<z;z>>_0.2579 :     -7.94944411     -0.02977589j   Residual Norm: 0.00184328                              \n",
      "               <<z;z>>_0.2599 :     -7.96285846     -0.03013592j   Residual Norm: 0.00187198                              \n",
      "               <<z;z>>_0.2619 :     -7.97643491     -0.03049998j   Residual Norm: 0.00190134                              \n",
      "               <<z;z>>_0.2640 :     -7.99017526     -0.03086818j   Residual Norm: 0.00193140                              \n",
      "               <<z;z>>_0.2660 :     -8.00408140     -0.03124062j   Residual Norm: 0.00196218                              \n",
      "               <<z;z>>_0.2681 :     -8.01815525     -0.03161740j   Residual Norm: 0.00199371                              \n",
      "               <<z;z>>_0.2701 :     -8.03239876     -0.03199865j   Residual Norm: 0.00202604                              \n",
      "               <<z;z>>_0.2721 :     -8.04681397     -0.03238449j   Residual Norm: 0.00205920                              \n",
      "               <<z;z>>_0.2742 :     -8.06140295     -0.03277503j   Residual Norm: 0.00209323                              \n",
      "               <<z;z>>_0.2762 :     -8.07616783     -0.03317042j   Residual Norm: 0.00212818                              \n",
      "               <<z;z>>_0.2783 :     -8.09111082     -0.03357081j   Residual Norm: 0.00216409                              \n",
      "               <<z;z>>_0.2803 :     -8.10623416     -0.03397633j   Residual Norm: 0.00220101                              \n",
      "               <<z;z>>_0.2823 :     -8.12154021     -0.03438716j   Residual Norm: 0.00223900                              \n",
      "               <<z;z>>_0.2844 :     -8.13703135     -0.03480347j   Residual Norm: 0.00227811                              \n",
      "               <<z;z>>_0.2864 :     -8.15271008     -0.03522545j   Residual Norm: 0.00231842                              \n",
      "               <<z;z>>_0.2885 :     -8.16857896     -0.03565329j   Residual Norm: 0.00235999                              \n",
      "               <<z;z>>_0.2905 :     -8.18464066     -0.03608722j   Residual Norm: 0.00240289                              \n",
      "               <<z;z>>_0.2926 :     -8.20089795     -0.03652747j   Residual Norm: 0.00244722                              \n",
      "               <<z;z>>_0.2946 :     -8.21735368     -0.03697429j   Residual Norm: 0.00249307                              \n",
      "               <<z;z>>_0.2966 :     -8.23401086     -0.03742798j   Residual Norm: 0.00254052                              \n",
      "               <<z;z>>_0.2987 :     -8.25087260     -0.03788885j   Residual Norm: 0.00258970                              \n",
      "               <<z;z>>_0.3007 :     -8.26794215     -0.03835723j   Residual Norm: 0.00264073                              \n",
      "               <<z;z>>_0.3028 :     -8.28522295     -0.03883353j   Residual Norm: 0.00269375                              \n",
      "               <<z;z>>_0.3048 :     -8.30271860     -0.03931817j   Residual Norm: 0.00274890                              \n",
      "               <<z;z>>_0.3068 :     -8.32043288     -0.03981164j   Residual Norm: 0.00280636                              \n",
      "               <<z;z>>_0.3089 :     -8.33836983     -0.04031450j   Residual Norm: 0.00286631                              \n",
      "               <<z;z>>_0.3109 :     -8.35653371     -0.04082740j   Residual Norm: 0.00292898                              \n",
      "               <<z;z>>_0.3130 :     -8.37492912     -0.04135107j   Residual Norm: 0.00299460                              \n",
      "               <<z;z>>_0.3150 :     -8.39356095     -0.04188636j   Residual Norm: 0.00306345                              \n",
      "               <<z;z>>_0.3170 :     -8.41243450     -0.04243429j   Residual Norm: 0.00313585                              \n",
      "               <<z;z>>_0.3191 :     -8.43155555     -0.04299605j   Residual Norm: 0.00321215                              \n",
      "               <<z;z>>_0.3211 :     -8.45093039     -0.04357306j   Residual Norm: 0.00329278                              \n",
      "               <<z;z>>_0.3232 :     -8.47056598     -0.04416704j   Residual Norm: 0.00337823                              \n",
      "               <<z;z>>_0.3252 :     -8.49047004     -0.04478009j   Residual Norm: 0.00346905                              \n",
      "               <<z;z>>_0.3272 :     -8.51065125     -0.04541477j   Residual Norm: 0.00356591                              \n",
      "               <<z;z>>_0.3293 :     -8.53111944     -0.04607431j   Residual Norm: 0.00366960                              \n",
      "               <<z;z>>_0.3313 :     -8.55188586     -0.04676275j   Residual Norm: 0.00378107                              \n",
      "               <<z;z>>_0.3334 :     -8.57296356     -0.04748527j   Residual Norm: 0.00390143                              \n",
      "               <<z;z>>_0.3354 :     -8.59436784     -0.04824859j   Residual Norm: 0.00403206                              \n",
      "               <<z;z>>_0.3375 :     -8.61611688     -0.04906156j   Residual Norm: 0.00417462                              \n",
      "               <<z;z>>_0.3395 :     -8.63823264     -0.04993604j   Residual Norm: 0.00433116                              \n",
      "               <<z;z>>_0.3415 :     -8.66074196     -0.05088823j   Residual Norm: 0.00450423                              \n",
      "                                                                                                                          \n",
      "* Info * Processing Fock builds... (batch size: 21)                                                                       \n",
      "* Info *   batch 1/1                                                                                                      \n",
      "                                                                                                                          \n",
      "* Info * 36 gerade trial vectors in reduced space                                                                         \n",
      "* Info * 41 ungerade trial vectors in reduced space                                                                       \n",
      "                                                                                                                          \n",
      "* Info * 1.13 MB of memory used for subspace procedure on the master node                                                 \n",
      "* Info * 5.49 GB of memory available for the solver on the master node                                                    \n",
      "                                                                                                                          \n",
      "               *** Iteration:   4 * Residuals (Max,Min): 4.70e-04 and 1.52e-06                                            \n",
      "                                                                                                                          \n",
      "               Operator:  electric dipole (xyz)                                                                           \n",
      "                                                                                                                          \n",
      "               <<x;x>>_0.2415 :    -70.61938197     -4.32880666j   Residual Norm: 0.00036872                              \n",
      "               <<x;x>>_0.2436 :    -72.60487690     -4.69624455j   Residual Norm: 0.00037038                              \n",
      "               <<x;x>>_0.2456 :    -74.75939975     -5.11284530j   Residual Norm: 0.00037205                              \n",
      "               <<x;x>>_0.2477 :    -77.10545366     -5.58780107j   Residual Norm: 0.00037375                              \n",
      "               <<x;x>>_0.2497 :    -79.66968599     -6.13254873j   Residual Norm: 0.00037546                              \n",
      "               <<x;x>>_0.2517 :    -82.48387202     -6.76145810j   Residual Norm: 0.00037719                              \n",
      "               <<x;x>>_0.2538 :    -85.58618664     -7.49277803j   Residual Norm: 0.00037895                              \n",
      "               <<x;x>>_0.2558 :    -89.02286424     -8.34995651j   Residual Norm: 0.00038072                              \n",
      "               <<x;x>>_0.2579 :    -92.85038764     -9.36351233j   Residual Norm: 0.00038251                              \n",
      "               <<x;x>>_0.2599 :    -97.13840482    -10.57373604j   Residual Norm: 0.00038432                              \n",
      "               <<x;x>>_0.2619 :   -101.97365657    -12.03466433j   Residual Norm: 0.00038616                              \n",
      "               <<x;x>>_0.2640 :   -107.46531889    -13.82005466j   Residual Norm: 0.00038801                              \n",
      "               <<x;x>>_0.2660 :   -113.75233411    -16.03258293j   Residual Norm: 0.00038988                              \n",
      "               <<x;x>>_0.2681 :   -121.01353018    -18.81838130j   Residual Norm: 0.00039176                              \n",
      "               <<x;x>>_0.2701 :   -129.48158236    -22.39070019j   Residual Norm: 0.00039367                              \n",
      "               <<x;x>>_0.2721 :   -139.46200297    -27.06969649j   Residual Norm: 0.00039560                              \n",
      "               <<x;x>>_0.2742 :   -151.35776959    -33.35178849j   Residual Norm: 0.00039754                              \n",
      "               <<x;x>>_0.2762 :   -165.69688019    -42.03536588j   Residual Norm: 0.00039950                              \n",
      "               <<x;x>>_0.2783 :   -183.14700820    -54.45810898j   Residual Norm: 0.00040149                              \n",
      "               <<x;x>>_0.2803 :   -204.45365861    -72.96214817j   Residual Norm: 0.00040348                              \n",
      "               <<x;x>>_0.2823 :   -230.06522597   -101.82409665j   Residual Norm: 0.00040550                              \n",
      "               <<x;x>>_0.2844 :   -258.57832052   -149.02688815j   Residual Norm: 0.00040754                              \n",
      "               <<x;x>>_0.2864 :   -280.99467249   -228.54358857j   Residual Norm: 0.00040959                              \n",
      "               <<x;x>>_0.2885 :   -263.60465892   -354.82831679j   Residual Norm: 0.00041166                              \n",
      "               <<x;x>>_0.2905 :   -135.15919076   -490.34718886j   Residual Norm: 0.00041374                              \n",
      "               <<x;x>>_0.2926 :     84.33313429   -490.35155294j   Residual Norm: 0.00041584                              \n",
      "               <<x;x>>_0.2946 :    212.77729889   -354.83984434j   Residual Norm: 0.00041796                              \n",
      "               <<x;x>>_0.2966 :    230.16229838   -228.56112846j   Residual Norm: 0.00042009                              \n",
      "               <<x;x>>_0.2987 :    207.73735862   -149.05049992j   Residual Norm: 0.00042224                              \n",
      "               <<x;x>>_0.3007 :    179.21254009   -101.85399268j   Residual Norm: 0.00042440                              \n",
      "               <<x;x>>_0.3028 :    153.58626408    -72.99847111j   Residual Norm: 0.00042657                              \n",
      "               <<x;x>>_0.3048 :    132.26195335    -54.50094780j   Residual Norm: 0.00042876                              \n",
      "               <<x;x>>_0.3068 :    114.79121142    -42.08478258j   Residual Norm: 0.00043096                              \n",
      "               <<x;x>>_0.3089 :    100.42852115    -33.40783319j   Residual Norm: 0.00043317                              \n",
      "               <<x;x>>_0.3109 :     88.50619327    -27.13241504j   Residual Norm: 0.00043540                              \n",
      "               <<x;x>>_0.3130 :     78.49621216    -22.46013800j   Residual Norm: 0.00043764                              \n",
      "               <<x;x>>_0.3150 :     69.99558091    -18.89458540j   Residual Norm: 0.00043988                              \n",
      "               <<x;x>>_0.3170 :     62.69876631    -16.11560312j   Residual Norm: 0.00044214                              \n",
      "               <<x;x>>_0.3191 :     56.37307051    -13.90994417j   Residual Norm: 0.00044440                              \n",
      "               <<x;x>>_0.3211 :     50.83964114    -12.13148030j   Residual Norm: 0.00044667                              \n",
      "               <<x;x>>_0.3232 :     45.95950957    -10.67753981j   Residual Norm: 0.00044895                              \n",
      "               <<x;x>>_0.3252 :     41.62347150     -9.47436971j   Residual Norm: 0.00045124                              \n",
      "               <<x;x>>_0.3272 :     37.74475579     -8.46793797j   Residual Norm: 0.00045353                              \n",
      "               <<x;x>>_0.3293 :     34.25368194     -7.61795887j   Residual Norm: 0.00045583                              \n",
      "               <<x;x>>_0.3313 :     31.09373242     -6.89391868j   Residual Norm: 0.00045812                              \n",
      "               <<x;x>>_0.3334 :     28.21863582     -6.27237462j   Residual Norm: 0.00046043                              \n",
      "               <<x;x>>_0.3354 :     25.59017788     -5.73508321j   Residual Norm: 0.00046273                              \n",
      "               <<x;x>>_0.3375 :     23.17654146     -5.26768024j   Residual Norm: 0.00046504                              \n",
      "               <<x;x>>_0.3395 :     20.95103484     -4.85873462j   Residual Norm: 0.00046734                              \n",
      "               <<x;x>>_0.3415 :     18.89110787     -4.49906019j   Residual Norm: 0.00046964                              \n",
      "               <<y;y>>_0.2415 :    -22.87348583     -0.16460931j   Residual Norm: 0.00016146                              \n",
      "               <<y;y>>_0.2436 :    -22.94776098     -0.16719649j   Residual Norm: 0.00016347                              \n",
      "               <<y;y>>_0.2456 :    -23.02320391     -0.16982772j   Residual Norm: 0.00016550                              \n",
      "               <<y;y>>_0.2477 :    -23.09983459     -0.17250418j   Residual Norm: 0.00016756                              \n",
      "               <<y;y>>_0.2497 :    -23.17767351     -0.17522707j   Residual Norm: 0.00016963                              \n",
      "               <<y;y>>_0.2517 :    -23.25674172     -0.17799764j   Residual Norm: 0.00017172                              \n",
      "               <<y;y>>_0.2538 :    -23.33706083     -0.18081718j   Residual Norm: 0.00017384                              \n",
      "               <<y;y>>_0.2558 :    -23.41865304     -0.18368704j   Residual Norm: 0.00017598                              \n",
      "               <<y;y>>_0.2579 :    -23.50154116     -0.18660857j   Residual Norm: 0.00017814                              \n",
      "               <<y;y>>_0.2599 :    -23.58574862     -0.18958321j   Residual Norm: 0.00018033                              \n",
      "               <<y;y>>_0.2619 :    -23.67129949     -0.19261242j   Residual Norm: 0.00018253                              \n",
      "               <<y;y>>_0.2640 :    -23.75821853     -0.19569773j   Residual Norm: 0.00018476                              \n",
      "               <<y;y>>_0.2660 :    -23.84653116     -0.19884071j   Residual Norm: 0.00018701                              \n",
      "               <<y;y>>_0.2681 :    -23.93626355     -0.20204298j   Residual Norm: 0.00018928                              \n",
      "               <<y;y>>_0.2701 :    -24.02744257     -0.20530624j   Residual Norm: 0.00019158                              \n",
      "               <<y;y>>_0.2721 :    -24.12009589     -0.20863221j   Residual Norm: 0.00019390                              \n",
      "               <<y;y>>_0.2742 :    -24.21425195     -0.21202271j   Residual Norm: 0.00019624                              \n",
      "               <<y;y>>_0.2762 :    -24.30994003     -0.21547961j   Residual Norm: 0.00019860                              \n",
      "               <<y;y>>_0.2783 :    -24.40719024     -0.21900483j   Residual Norm: 0.00020099                              \n",
      "               <<y;y>>_0.2803 :    -24.50603357     -0.22260039j   Residual Norm: 0.00020339                              \n",
      "               <<y;y>>_0.2823 :    -24.60650195     -0.22626836j   Residual Norm: 0.00020582                              \n",
      "               <<y;y>>_0.2844 :    -24.70862822     -0.23001089j   Residual Norm: 0.00020827                              \n",
      "               <<y;y>>_0.2864 :    -24.81244622     -0.23383022j   Residual Norm: 0.00021075                              \n",
      "               <<y;y>>_0.2885 :    -24.91799080     -0.23772867j   Residual Norm: 0.00021324                              \n",
      "               <<y;y>>_0.2905 :    -25.02529787     -0.24170865j   Residual Norm: 0.00021575                              \n",
      "               <<y;y>>_0.2926 :    -25.13440442     -0.24577264j   Residual Norm: 0.00021829                              \n",
      "               <<y;y>>_0.2946 :    -25.24534859     -0.24992324j   Residual Norm: 0.00022085                              \n",
      "               <<y;y>>_0.2966 :    -25.35816971     -0.25416314j   Residual Norm: 0.00022342                              \n",
      "               <<y;y>>_0.2987 :    -25.47290830     -0.25849514j   Residual Norm: 0.00022602                              \n",
      "               <<y;y>>_0.3007 :    -25.58960619     -0.26292214j   Residual Norm: 0.00022863                              \n",
      "               <<y;y>>_0.3028 :    -25.70830651     -0.26744717j   Residual Norm: 0.00023126                              \n",
      "               <<y;y>>_0.3048 :    -25.82905378     -0.27207336j   Residual Norm: 0.00023391                              \n",
      "               <<y;y>>_0.3068 :    -25.95189393     -0.27680398j   Residual Norm: 0.00023658                              \n",
      "               <<y;y>>_0.3089 :    -26.07687440     -0.28164245j   Residual Norm: 0.00023926                              \n",
      "               <<y;y>>_0.3109 :    -26.20404417     -0.28659228j   Residual Norm: 0.00024195                              \n",
      "               <<y;y>>_0.3130 :    -26.33345384     -0.29165718j   Residual Norm: 0.00024466                              \n",
      "               <<y;y>>_0.3150 :    -26.46515568     -0.29684098j   Residual Norm: 0.00024738                              \n",
      "               <<y;y>>_0.3170 :    -26.59920370     -0.30214769j   Residual Norm: 0.00025011                              \n",
      "               <<y;y>>_0.3191 :    -26.73565377     -0.30758147j   Residual Norm: 0.00025285                              \n",
      "               <<y;y>>_0.3211 :    -26.87456363     -0.31314667j   Residual Norm: 0.00025560                              \n",
      "               <<y;y>>_0.3232 :    -27.01599301     -0.31884785j   Residual Norm: 0.00025835                              \n",
      "               <<y;y>>_0.3252 :    -27.16000371     -0.32468972j   Residual Norm: 0.00026111                              \n",
      "               <<y;y>>_0.3272 :    -27.30665970     -0.33067725j   Residual Norm: 0.00026386                              \n",
      "               <<y;y>>_0.3293 :    -27.45602719     -0.33681559j   Residual Norm: 0.00026662                              \n",
      "               <<y;y>>_0.3313 :    -27.60817476     -0.34311014j   Residual Norm: 0.00026937                              \n",
      "               <<y;y>>_0.3334 :    -27.76317344     -0.34956654j   Residual Norm: 0.00027212                              \n",
      "               <<y;y>>_0.3354 :    -27.92109684     -0.35619071j   Residual Norm: 0.00027486                              \n",
      "               <<y;y>>_0.3375 :    -28.08202127     -0.36298880j   Residual Norm: 0.00027759                              \n",
      "               <<y;y>>_0.3395 :    -28.24602583     -0.36996728j   Residual Norm: 0.00028030                              \n",
      "               <<y;y>>_0.3415 :    -28.41319261     -0.37713291j   Residual Norm: 0.00028300                              \n",
      "               <<z;z>>_0.2415 :     -7.84775984     -0.02703013j   Residual Norm: 0.00000152                              \n",
      "               <<z;z>>_0.2436 :     -7.85993835     -0.02736106j   Residual Norm: 0.00000155                              \n",
      "               <<z;z>>_0.2456 :     -7.87226578     -0.02769535j   Residual Norm: 0.00000158                              \n",
      "               <<z;z>>_0.2477 :     -7.88474365     -0.02803307j   Residual Norm: 0.00000162                              \n",
      "               <<z;z>>_0.2497 :     -7.89737352     -0.02837431j   Residual Norm: 0.00000165                              \n",
      "               <<z;z>>_0.2517 :     -7.91015697     -0.02871913j   Residual Norm: 0.00000169                              \n",
      "               <<z;z>>_0.2538 :     -7.92309562     -0.02906763j   Residual Norm: 0.00000174                              \n",
      "               <<z;z>>_0.2558 :     -7.93619115     -0.02941988j   Residual Norm: 0.00000178                              \n",
      "               <<z;z>>_0.2579 :     -7.94944524     -0.02977598j   Residual Norm: 0.00000183                              \n",
      "               <<z;z>>_0.2599 :     -7.96285964     -0.03013602j   Residual Norm: 0.00000187                              \n",
      "               <<z;z>>_0.2619 :     -7.97643613     -0.03050009j   Residual Norm: 0.00000193                              \n",
      "               <<z;z>>_0.2640 :     -7.99017653     -0.03086829j   Residual Norm: 0.00000198                              \n",
      "               <<z;z>>_0.2660 :     -8.00408272     -0.03124073j   Residual Norm: 0.00000204                              \n",
      "               <<z;z>>_0.2681 :     -8.01815662     -0.03161752j   Residual Norm: 0.00000209                              \n",
      "               <<z;z>>_0.2701 :     -8.03240019     -0.03199878j   Residual Norm: 0.00000216                              \n",
      "               <<z;z>>_0.2721 :     -8.04681545     -0.03238462j   Residual Norm: 0.00000222                              \n",
      "               <<z;z>>_0.2742 :     -8.06140449     -0.03277517j   Residual Norm: 0.00000229                              \n",
      "               <<z;z>>_0.2762 :     -8.07616944     -0.03317057j   Residual Norm: 0.00000236                              \n",
      "               <<z;z>>_0.2783 :     -8.09111249     -0.03357096j   Residual Norm: 0.00000243                              \n",
      "               <<z;z>>_0.2803 :     -8.10623591     -0.03397650j   Residual Norm: 0.00000251                              \n",
      "               <<z;z>>_0.2823 :     -8.12154203     -0.03438734j   Residual Norm: 0.00000259                              \n",
      "               <<z;z>>_0.2844 :     -8.13703325     -0.03480366j   Residual Norm: 0.00000267                              \n",
      "               <<z;z>>_0.2864 :     -8.15271206     -0.03522565j   Residual Norm: 0.00000275                              \n",
      "               <<z;z>>_0.2885 :     -8.16858104     -0.03565350j   Residual Norm: 0.00000284                              \n",
      "               <<z;z>>_0.2905 :     -8.18464283     -0.03608744j   Residual Norm: 0.00000293                              \n",
      "               <<z;z>>_0.2926 :     -8.20090022     -0.03652770j   Residual Norm: 0.00000303                              \n",
      "               <<z;z>>_0.2946 :     -8.21735606     -0.03697454j   Residual Norm: 0.00000312                              \n",
      "               <<z;z>>_0.2966 :     -8.23401336     -0.03742825j   Residual Norm: 0.00000322                              \n",
      "               <<z;z>>_0.2987 :     -8.25087521     -0.03788913j   Residual Norm: 0.00000332                              \n",
      "               <<z;z>>_0.3007 :     -8.26794490     -0.03835754j   Residual Norm: 0.00000342                              \n",
      "               <<z;z>>_0.3028 :     -8.28522584     -0.03883386j   Residual Norm: 0.00000352                              \n",
      "               <<z;z>>_0.3048 :     -8.30272164     -0.03931852j   Residual Norm: 0.00000363                              \n",
      "               <<z;z>>_0.3068 :     -8.32043608     -0.03981202j   Residual Norm: 0.00000373                              \n",
      "               <<z;z>>_0.3089 :     -8.33837320     -0.04031491j   Residual Norm: 0.00000384                              \n",
      "               <<z;z>>_0.3109 :     -8.35653728     -0.04082784j   Residual Norm: 0.00000394                              \n",
      "               <<z;z>>_0.3130 :     -8.37493289     -0.04135154j   Residual Norm: 0.00000405                              \n",
      "               <<z;z>>_0.3150 :     -8.39356494     -0.04188688j   Residual Norm: 0.00000415                              \n",
      "               <<z;z>>_0.3170 :     -8.41243873     -0.04243485j   Residual Norm: 0.00000425                              \n",
      "               <<z;z>>_0.3191 :     -8.43156003     -0.04299666j   Residual Norm: 0.00000435                              \n",
      "               <<z;z>>_0.3211 :     -8.45093516     -0.04357373j   Residual Norm: 0.00000444                              \n",
      "               <<z;z>>_0.3232 :     -8.47057105     -0.04416778j   Residual Norm: 0.00000453                              \n",
      "               <<z;z>>_0.3252 :     -8.49047546     -0.04478090j   Residual Norm: 0.00000460                              \n",
      "               <<z;z>>_0.3272 :     -8.51065705     -0.04541567j   Residual Norm: 0.00000467                              \n",
      "               <<z;z>>_0.3293 :     -8.53112565     -0.04607531j   Residual Norm: 0.00000472                              \n",
      "               <<z;z>>_0.3313 :     -8.55189253     -0.04676386j   Residual Norm: 0.00000475                              \n",
      "               <<z;z>>_0.3334 :     -8.57297074     -0.04748652j   Residual Norm: 0.00000476                              \n",
      "               <<z;z>>_0.3354 :     -8.59437559     -0.04825001j   Residual Norm: 0.00000474                              \n",
      "               <<z;z>>_0.3375 :     -8.61612529     -0.04906318j   Residual Norm: 0.00000470                              \n",
      "               <<z;z>>_0.3395 :     -8.63824179     -0.04993791j   Residual Norm: 0.00000461                              \n",
      "               <<z;z>>_0.3415 :     -8.66075195     -0.05089042j   Residual Norm: 0.00000448                              \n",
      "                                                                                                                          \n",
      "* Info * Processing Fock builds... (batch size: 12)                                                                       \n",
      "* Info *   batch 1/1                                                                                                      \n",
      "                                                                                                                          \n",
      "* Info * 42 gerade trial vectors in reduced space                                                                         \n",
      "* Info * 47 ungerade trial vectors in reduced space                                                                       \n",
      "                                                                                                                          \n",
      "* Info * 1.15 MB of memory used for subspace procedure on the master node                                                 \n",
      "* Info * 5.48 GB of memory available for the solver on the master node                                                    \n",
      "                                                                                                                          \n",
      "               *** Iteration:   5 * Residuals (Max,Min): 3.48e-05 and 1.52e-06                                            \n",
      "                                                                                                                          \n",
      "               Operator:  electric dipole (xyz)                                                                           \n",
      "                                                                                                                          \n",
      "               <<x;x>>_0.2415 :    -70.61939016     -4.32880835j   Residual Norm: 0.00002191                              \n",
      "               <<x;x>>_0.2436 :    -72.60488586     -4.69624647j   Residual Norm: 0.00002213                              \n",
      "               <<x;x>>_0.2456 :    -74.75940960     -5.11284750j   Residual Norm: 0.00002235                              \n",
      "               <<x;x>>_0.2477 :    -77.10546452     -5.58780361j   Residual Norm: 0.00002258                              \n",
      "               <<x;x>>_0.2497 :    -79.66969802     -6.13255167j   Residual Norm: 0.00002280                              \n",
      "               <<x;x>>_0.2517 :    -82.48388540     -6.76146153j   Residual Norm: 0.00002303                              \n",
      "               <<x;x>>_0.2538 :    -85.58620159     -7.49278206j   Residual Norm: 0.00002326                              \n",
      "               <<x;x>>_0.2558 :    -89.02288103     -8.34996130j   Residual Norm: 0.00002349                              \n",
      "               <<x;x>>_0.2579 :    -92.85040661     -9.36351805j   Residual Norm: 0.00002372                              \n",
      "               <<x;x>>_0.2599 :    -97.13842638    -10.57374296j   Residual Norm: 0.00002395                              \n",
      "               <<x;x>>_0.2619 :   -101.97368125    -12.03467279j   Residual Norm: 0.00002419                              \n",
      "               <<x;x>>_0.2640 :   -107.46534735    -13.82006514j   Residual Norm: 0.00002442                              \n",
      "               <<x;x>>_0.2660 :   -113.75236720    -16.03259612j   Residual Norm: 0.00002466                              \n",
      "               <<x;x>>_0.2681 :   -121.01356901    -18.81839815j   Residual Norm: 0.00002490                              \n",
      "               <<x;x>>_0.2701 :   -129.48162840    -22.39072216j   Residual Norm: 0.00002514                              \n",
      "               <<x;x>>_0.2721 :   -139.46205813    -27.06972579j   Residual Norm: 0.00002538                              \n",
      "               <<x;x>>_0.2742 :   -151.35783642    -33.35182861j   Residual Norm: 0.00002563                              \n",
      "               <<x;x>>_0.2762 :   -165.69696198    -42.03542256j   Residual Norm: 0.00002587                              \n",
      "               <<x;x>>_0.2783 :   -183.14710899    -54.45819205j   Residual Norm: 0.00002612                              \n",
      "               <<x;x>>_0.2803 :   -204.45378223    -72.96227524j   Residual Norm: 0.00002636                              \n",
      "               <<x;x>>_0.2823 :   -230.06537190   -101.82430047j   Residual Norm: 0.00002661                              \n",
      "               <<x;x>>_0.2844 :   -258.57846751   -149.02722962j   Residual Norm: 0.00002686                              \n",
      "               <<x;x>>_0.2864 :   -280.99472087   -228.54416426j   Residual Norm: 0.00002712                              \n",
      "               <<x;x>>_0.2885 :   -263.60429077   -354.82914785j   Residual Norm: 0.00002737                              \n",
      "               <<x;x>>_0.2905 :   -135.15802372   -490.34769732j   Residual Norm: 0.00002763                              \n",
      "               <<x;x>>_0.2926 :     84.33428413   -490.35096777j   Residual Norm: 0.00002789                              \n",
      "               <<x;x>>_0.2946 :    212.77762969   -354.83895779j   Residual Norm: 0.00002815                              \n",
      "               <<x;x>>_0.2966 :    230.16220989   -228.56051706j   Residual Norm: 0.00002841                              \n",
      "               <<x;x>>_0.2987 :    207.73717500   -149.05013519j   Residual Norm: 0.00002867                              \n",
      "               <<x;x>>_0.3007 :    179.21236196   -101.85377299j   Residual Norm: 0.00002894                              \n",
      "               <<x;x>>_0.3028 :    153.58611224    -72.99833269j   Residual Norm: 0.00002921                              \n",
      "               <<x;x>>_0.3048 :    132.26182765    -54.50085628j   Residual Norm: 0.00002948                              \n",
      "               <<x;x>>_0.3068 :    114.79110740    -42.08471939j   Residual Norm: 0.00002975                              \n",
      "               <<x;x>>_0.3089 :    100.42843431    -33.40778792j   Residual Norm: 0.00003003                              \n",
      "               <<x;x>>_0.3109 :     88.50611993    -27.13238158j   Residual Norm: 0.00003031                              \n",
      "               <<x;x>>_0.3130 :     78.49614948    -22.46011259j   Residual Norm: 0.00003059                              \n",
      "               <<x;x>>_0.3150 :     69.99552672    -18.89456568j   Residual Norm: 0.00003088                              \n",
      "               <<x;x>>_0.3170 :     62.69871897    -16.11558750j   Residual Norm: 0.00003116                              \n",
      "               <<x;x>>_0.3191 :     56.37302876    -13.90993159j   Residual Norm: 0.00003145                              \n",
      "               <<x;x>>_0.3211 :     50.83960400    -12.13147002j   Residual Norm: 0.00003174                              \n",
      "               <<x;x>>_0.3232 :     45.95947626    -10.67753131j   Residual Norm: 0.00003204                              \n",
      "               <<x;x>>_0.3252 :     41.62344142     -9.47436259j   Residual Norm: 0.00003234                              \n",
      "               <<x;x>>_0.3272 :     37.74472845     -8.46793195j   Residual Norm: 0.00003264                              \n",
      "               <<x;x>>_0.3293 :     34.25365695     -7.61795374j   Residual Norm: 0.00003294                              \n",
      "               <<x;x>>_0.3313 :     31.09370946     -6.89391426j   Residual Norm: 0.00003324                              \n",
      "               <<x;x>>_0.3334 :     28.21861462     -6.27237079j   Residual Norm: 0.00003355                              \n",
      "               <<x;x>>_0.3354 :     25.59015821     -5.73507987j   Residual Norm: 0.00003386                              \n",
      "               <<x;x>>_0.3375 :     23.17652314     -5.26767731j   Residual Norm: 0.00003417                              \n",
      "               <<x;x>>_0.3395 :     20.95101770     -4.85873204j   Residual Norm: 0.00003448                              \n",
      "               <<x;x>>_0.3415 :     18.89109179     -4.49905790j   Residual Norm: 0.00003480                              \n",
      "               <<y;y>>_0.2415 :    -22.87348594     -0.16460931j   Residual Norm: 0.00001853                              \n",
      "               <<y;y>>_0.2436 :    -22.94776109     -0.16719650j   Residual Norm: 0.00001877                              \n",
      "               <<y;y>>_0.2456 :    -23.02320403     -0.16982773j   Residual Norm: 0.00001902                              \n",
      "               <<y;y>>_0.2477 :    -23.09983471     -0.17250419j   Residual Norm: 0.00001927                              \n",
      "               <<y;y>>_0.2497 :    -23.17767363     -0.17522708j   Residual Norm: 0.00001954                              \n",
      "               <<y;y>>_0.2517 :    -23.25674184     -0.17799765j   Residual Norm: 0.00001981                              \n",
      "               <<y;y>>_0.2538 :    -23.33706096     -0.18081720j   Residual Norm: 0.00002009                              \n",
      "               <<y;y>>_0.2558 :    -23.41865317     -0.18368705j   Residual Norm: 0.00002038                              \n",
      "               <<y;y>>_0.2579 :    -23.50154130     -0.18660858j   Residual Norm: 0.00002068                              \n",
      "               <<y;y>>_0.2599 :    -23.58574876     -0.18958322j   Residual Norm: 0.00002099                              \n",
      "               <<y;y>>_0.2619 :    -23.67129964     -0.19261243j   Residual Norm: 0.00002131                              \n",
      "               <<y;y>>_0.2640 :    -23.75821868     -0.19569774j   Residual Norm: 0.00002163                              \n",
      "               <<y;y>>_0.2660 :    -23.84653132     -0.19884072j   Residual Norm: 0.00002197                              \n",
      "               <<y;y>>_0.2681 :    -23.93626371     -0.20204300j   Residual Norm: 0.00002231                              \n",
      "               <<y;y>>_0.2701 :    -24.02744274     -0.20530625j   Residual Norm: 0.00002266                              \n",
      "               <<y;y>>_0.2721 :    -24.12009607     -0.20863223j   Residual Norm: 0.00002302                              \n",
      "               <<y;y>>_0.2742 :    -24.21425214     -0.21202273j   Residual Norm: 0.00002338                              \n",
      "               <<y;y>>_0.2762 :    -24.30994022     -0.21547962j   Residual Norm: 0.00002376                              \n",
      "               <<y;y>>_0.2783 :    -24.40719044     -0.21900485j   Residual Norm: 0.00002414                              \n",
      "               <<y;y>>_0.2803 :    -24.50603378     -0.22260041j   Residual Norm: 0.00002452                              \n",
      "               <<y;y>>_0.2823 :    -24.60650217     -0.22626837j   Residual Norm: 0.00002491                              \n",
      "               <<y;y>>_0.2844 :    -24.70862844     -0.23001091j   Residual Norm: 0.00002531                              \n",
      "               <<y;y>>_0.2864 :    -24.81244645     -0.23383024j   Residual Norm: 0.00002571                              \n",
      "               <<y;y>>_0.2885 :    -24.91799104     -0.23772869j   Residual Norm: 0.00002612                              \n",
      "               <<y;y>>_0.2905 :    -25.02529811     -0.24170867j   Residual Norm: 0.00002653                              \n",
      "               <<y;y>>_0.2926 :    -25.13440468     -0.24577266j   Residual Norm: 0.00002695                              \n",
      "               <<y;y>>_0.2946 :    -25.24534886     -0.24992326j   Residual Norm: 0.00002736                              \n",
      "               <<y;y>>_0.2966 :    -25.35816999     -0.25416316j   Residual Norm: 0.00002778                              \n",
      "               <<y;y>>_0.2987 :    -25.47290859     -0.25849516j   Residual Norm: 0.00002820                              \n",
      "               <<y;y>>_0.3007 :    -25.58960649     -0.26292216j   Residual Norm: 0.00002862                              \n",
      "               <<y;y>>_0.3028 :    -25.70830682     -0.26744719j   Residual Norm: 0.00002903                              \n",
      "               <<y;y>>_0.3048 :    -25.82905410     -0.27207338j   Residual Norm: 0.00002945                              \n",
      "               <<y;y>>_0.3068 :    -25.95189426     -0.27680401j   Residual Norm: 0.00002986                              \n",
      "               <<y;y>>_0.3089 :    -26.07687475     -0.28164247j   Residual Norm: 0.00003026                              \n",
      "               <<y;y>>_0.3109 :    -26.20404453     -0.28659231j   Residual Norm: 0.00003066                              \n",
      "               <<y;y>>_0.3130 :    -26.33345421     -0.29165721j   Residual Norm: 0.00003105                              \n",
      "               <<y;y>>_0.3150 :    -26.46515606     -0.29684101j   Residual Norm: 0.00003143                              \n",
      "               <<y;y>>_0.3170 :    -26.59920411     -0.30214772j   Residual Norm: 0.00003180                              \n",
      "               <<y;y>>_0.3191 :    -26.73565419     -0.30758150j   Residual Norm: 0.00003215                              \n",
      "               <<y;y>>_0.3211 :    -26.87456406     -0.31314671j   Residual Norm: 0.00003249                              \n",
      "               <<y;y>>_0.3232 :    -27.01599346     -0.31884788j   Residual Norm: 0.00003281                              \n",
      "               <<y;y>>_0.3252 :    -27.16000418     -0.32468976j   Residual Norm: 0.00003311                              \n",
      "               <<y;y>>_0.3272 :    -27.30666018     -0.33067729j   Residual Norm: 0.00003339                              \n",
      "               <<y;y>>_0.3293 :    -27.45602769     -0.33681563j   Residual Norm: 0.00003365                              \n",
      "               <<y;y>>_0.3313 :    -27.60817528     -0.34311018j   Residual Norm: 0.00003387                              \n",
      "               <<y;y>>_0.3334 :    -27.76317398     -0.34956659j   Residual Norm: 0.00003407                              \n",
      "               <<y;y>>_0.3354 :    -27.92109740     -0.35619075j   Residual Norm: 0.00003424                              \n",
      "               <<y;y>>_0.3375 :    -28.08202184     -0.36298884j   Residual Norm: 0.00003437                              \n",
      "               <<y;y>>_0.3395 :    -28.24602643     -0.36996732j   Residual Norm: 0.00003447                              \n",
      "               <<y;y>>_0.3415 :    -28.41319323     -0.37713296j   Residual Norm: 0.00003453                              \n",
      "                                                                                                                          \n",
      "               *** Complex response converged in 5 iterations. Time: 2.03 sec                                             \n",
      "                                                                                                                          \n",
      "                                                                                                                          \n"
     ]
    }
   ],
   "source": [
    "cpp_drv = vlx.ComplexResponse()\n",
    "\n",
    "exc = lres_out['eigenvalues'][0]\n",
    "freqs = np.linspace(exc - 0.05, exc + 0.05, 50)\n",
    "rsp_settings = {'frequencies': freqs}\n",
    "cpp_drv.update_settings(rsp_settings, method_settings)\n",
    "cpp_out = cpp_drv.compute(molecule, basis, scf_results)\n",
    "\n",
    "alpha_xx = []\n",
    "for freq in freqs:\n",
    "    alpha_xx.append(-cpp_out['response_functions'][('x', 'x', freq)])\n",
    "\n",
    "alpha_xx = np.array(alpha_xx)"
   ]
  },
  {
   "cell_type": "code",
   "execution_count": 37,
   "id": "4415b8e6-6029-485a-a35f-2dcf9fbb0dd6",
   "metadata": {
    "editable": true,
    "slideshow": {
     "slide_type": ""
    },
    "tags": []
   },
   "outputs": [
    {
     "data": {
      "image/png": "[encoded data removed]",
      "text/plain": [
       "<Figure size 800x400 with 1 Axes>"
      ]
     },
     "metadata": {},
     "output_type": "display_data"
    }
   ],
   "source": [
    "import matplotlib.pyplot as plt\n",
    "from scipy.interpolate import interp1d\n",
    "\n",
    "fig = plt.figure(1,figsize=(8,4))\n",
    "\n",
    "x = np.arange(exc - 0.05, exc + 0.05, 0.001)\n",
    "yR = interp1d(freqs, alpha_xx.real, kind = 'cubic')\n",
    "yI = interp1d(freqs, alpha_xx.imag, kind = 'cubic')\n",
    "\n",
    "plt.plot(x, yI(x), 'b-', x, yR(x), 'r-')\n",
    "plt.plot(freqs, alpha_xx.real, 'ko', freqs, alpha_xx.imag, 'ko')\n",
    "\n",
    "plt.legend(['Imag', 'Real'])\n",
    "\n",
    "plt.axhline(y = 0, color = '0.5', linewidth = 0.7, dashes = [3,1,3,1])\n",
    "\n",
    "plt.ylabel('Polarizability (a.u.)')\n",
    "plt.xlabel('Frequency (a.u.)')\n",
    "\n",
    "plt.show()"
   ]
  },
  {
   "cell_type": "code",
   "execution_count": null,
   "id": "77cc34d6-386c-4a82-8943-45c3c1437804",
   "metadata": {
    "editable": true,
    "slideshow": {
     "slide_type": ""
    },
    "tags": []
   },
   "outputs": [],
   "source": []
  }
 ],
 "metadata": {
  "kernelspec": {
   "display_name": "Python 3 (ipykernel)",
   "language": "python",
   "name": "python3"
  },
  "language_info": {
   "codemirror_mode": {
    "name": "ipython",
    "version": 3
   },
   "file_extension": ".py",
   "mimetype": "text/x-python",
   "name": "python",
   "nbconvert_exporter": "python",
   "pygments_lexer": "ipython3",
   "version": "3.11.7"
  }
 },
 "nbformat": 4,
 "nbformat_minor": 5
}
