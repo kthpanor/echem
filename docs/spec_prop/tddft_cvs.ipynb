{
 "cells": [
  {
   "cell_type": "markdown",
   "id": "82a99743-db37-4e5e-bc1d-be3c9e5ea9d1",
   "metadata": {
    "editable": true,
    "slideshow": {
     "slide_type": ""
    },
    "tags": []
   },
   "source": [
    "# Core-valence separation\n",
    "\n",
    "\n",
    "The influence of channel-restriction/CVS schemes for TDDFT can be considered for smaller systems by diagonalizing the full-space and CVS-space matrices, thus constructing the total global spectrum. This will not be possible for larger systems/basis sets, or for correlated method, where other [CVS relaxation schemes](https://doi.org/10.1063/5.0013538) have been used instead.\n",
    "\n",
    "For a discussion of the underlying theory, see related sections, and here we primarily note that we will construct and resolve the RPA, obtaining transition energies as poles by solving the eigenvalue problem:\n",
    "$$\n",
    "E^{[2]}X = {\\lambda} S^{[2]}X \n",
    "$$\n",
    "\n",
    "where\n",
    "\n",
    "$$\n",
    "{\\lambda} =\\begin{pmatrix}\n",
    "\\lambda & 0\\\\\n",
    "0 & -\\lambda\n",
    "\\end{pmatrix}\n",
    "$$\n",
    "\n",
    "By rewriting the linear response equation, we obtain the oscillator strength as:\n",
    "\n",
    "$$\n",
    "(T^{\\mu})^{2} = \\sum_{\\beta=x,y,z}{\\mu_{\\beta}^{[1]}}^\\dagger X_n X_n^{\\dagger}\\mu_{\\beta}^{[1]}\\\\\n",
    "f_{osc}^{if} = \\frac{2}{3}\\cdot \\omega_{if}\\cdot(T^{\\mu})^2\n",
    "$$\n",
    "\n",
    "This will now be done for water, where the ground state is calculated as:"
   ]
  },
  {
   "cell_type": "code",
   "execution_count": 3,
   "id": "c3b31de0-264e-4358-a833-f9670edc03e3",
   "metadata": {
    "editable": true,
    "slideshow": {
     "slide_type": ""
    },
    "tags": [
     "hide-input"
    ]
   },
   "outputs": [],
   "source": [
    "import copy\n",
    "import adcc\n",
    "import matplotlib.pyplot as plt\n",
    "import numpy as np\n",
    "import veloxchem as vlx\n",
    "\n",
    "def lorentzian(x, y, xmin, xmax, xstep, gamma):\n",
    "    xi = np.arange(xmin, xmax, xstep)\n",
    "    yi = np.zeros(len(xi))\n",
    "    for i in range(len(xi)):\n",
    "        for k in range(len(x)):\n",
    "            yi[i] = yi[i] + y[k] * (gamma / 2.0) / (\n",
    "                (xi[i] - x[k]) ** 2 + (gamma / 2.0) ** 2\n",
    "            )\n",
    "    return xi, yi\n",
    "\n",
    "au2ev = 27.211386"
   ]
  },
  {
   "cell_type": "code",
   "execution_count": 4,
   "id": "bec675fb-3644-427e-b0e2-fd1097ae9443",
   "metadata": {
    "editable": true,
    "scrolled": true,
    "slideshow": {
     "slide_type": ""
    },
    "tags": [
     "remove-output"
    ]
   },
   "outputs": [
    {
     "name": "stdout",
     "output_type": "stream",
     "text": [
      "* Info * Reading basis set from file: /home/thomas/miniconda3/envs/echem/lib/python3.10/site-packages/veloxchem/basis/6-31G\n",
      "                                                                                                                          \n",
      "                                              Molecular Basis (Atomic Basis)                                              \n",
      "                                             ================================                                             \n",
      "                                                                                                                          \n",
      "                               Basis: 6-31G                                                                               \n",
      "                                                                                                                          \n",
      "                               Atom Contracted GTOs           Primitive GTOs                                              \n",
      "                                                                                                                          \n",
      "                                O   (3S,2P)                   (10S,4P)                                                    \n",
      "                                H   (2S)                      (4S)                                                        \n",
      "                                                                                                                          \n",
      "                               Contracted Basis Functions : 13                                                            \n",
      "                               Primitive Basis Functions  : 30                                                            \n",
      "                                                                                                                          \n",
      "                                                                                                                          \n",
      "                                            Self Consistent Field Driver Setup                                            \n",
      "                                           ====================================                                           \n",
      "                                                                                                                          \n",
      "                   Wave Function Model             : Spin-Restricted Kohn-Sham                                            \n",
      "                   Initial Guess Model             : Superposition of Atomic Densities                                    \n",
      "                   Convergence Accelerator         : Two Level Direct Inversion of Iterative Subspace                     \n",
      "                   Max. Number of Iterations       : 50                                                                   \n",
      "                   Max. Number of Error Vectors    : 10                                                                   \n",
      "                   Convergence Threshold           : 1.0e-06                                                              \n",
      "                   ERI Screening Scheme            : Cauchy Schwarz + Density                                             \n",
      "                   ERI Screening Mode              : Dynamic                                                              \n",
      "                   ERI Screening Threshold         : 1.0e-12                                                              \n",
      "                   Linear Dependence Threshold     : 1.0e-06                                                              \n",
      "                   Exchange-Correlation Functional : B3LYP                                                                \n",
      "                   Molecular Grid Level            : 4                                                                    \n",
      "                                                                                                                          \n",
      "* Info * Nuclear repulsion energy: 9.1561447194 a.u.                                                                      \n",
      "                                                                                                                          \n",
      "* Info * Molecular grid with 40792 points generated in 0.03 sec.                                                          \n",
      "                                                                                                                          \n",
      "* Info * Overlap matrix computed in 0.00 sec.                                                                             \n",
      "                                                                                                                          \n",
      "* Info * Kinetic energy matrix computed in 0.01 sec.                                                                      \n",
      "                                                                                                                          \n",
      "* Info * Nuclear potential matrix computed in 0.00 sec.                                                                   \n",
      "                                                                                                                          \n",
      "* Info * Orthogonalization matrix computed in 0.01 sec.                                                                   \n",
      "                                                                                                                          \n",
      "* Info * SAD initial guess computed in 0.00 sec.                                                                          \n",
      "                                                                                                                          \n",
      "* Info * Starting Reduced Basis SCF calculation...                                                                        \n",
      "* Info * ...done. SCF energy in reduced basis set: -75.983870205311 a.u. Time: 0.10 sec.                                  \n",
      "                                                                                                                          \n",
      "* Info * Overlap matrix computed in 0.01 sec.                                                                             \n",
      "                                                                                                                          \n",
      "* Info * Kinetic energy matrix computed in 0.00 sec.                                                                      \n",
      "                                                                                                                          \n",
      "* Info * Nuclear potential matrix computed in 0.00 sec.                                                                   \n",
      "                                                                                                                          \n",
      "* Info * Orthogonalization matrix computed in 0.00 sec.                                                                   \n",
      "                                                                                                                          \n",
      "                                                                                                                          \n",
      "               Iter. |    Kohn-Sham Energy | Energy Change | Gradient Norm | Max. Gradient | Density Change               \n",
      "               --------------------------------------------------------------------------------------------               \n",
      "                  1       -76.384872592259    0.0000000000      0.05814060      0.01079184      0.00000000                \n",
      "                  2       -76.384686594376    0.0001859979      0.07420221      0.01375784      0.03127402                \n",
      "                  3       -76.385180742153   -0.0004941478      0.00038519      0.00008834      0.01650959                \n",
      "                  4       -76.385180774173   -0.0000000320      0.00007657      0.00002027      0.00029092                \n",
      "                  5       -76.385180774932   -0.0000000008      0.00000194      0.00000051      0.00002929                \n",
      "                  6       -76.385180774934   -0.0000000000      0.00000014      0.00000003      0.00000214                \n",
      "                                                                                                                          \n",
      "               *** SCF converged in 6 iterations. Time: 1.42 sec.                                                         \n",
      "                                                                                                                          \n",
      "               Spin-Restricted Kohn-Sham:                                                                                 \n",
      "               --------------------------                                                                                 \n",
      "               Total Energy                       :      -76.3851807749 a.u.                                              \n",
      "               Electronic Energy                  :      -85.5413254944 a.u.                                              \n",
      "               Nuclear Repulsion Energy           :        9.1561447194 a.u.                                              \n",
      "               ------------------------------------                                                                       \n",
      "               Gradient Norm                      :        0.0000001389 a.u.                                              \n",
      "                                                                                                                          \n",
      "                                                                                                                          \n",
      "               Ground State Information                                                                                   \n",
      "               ------------------------                                                                                   \n",
      "               Charge of Molecule            :  0.0                                                                       \n",
      "               Multiplicity (2S+1)           :  1.0                                                                       \n",
      "               Magnetic Quantum Number (M_S) :  0.0                                                                       \n",
      "                                                                                                                          \n",
      "                                                                                                                          \n",
      "                                                 Spin Restricted Orbitals                                                 \n",
      "                                                 ------------------------                                                 \n",
      "                                                                                                                          \n",
      "               Molecular Orbital No.   1:                                                                                 \n",
      "               --------------------------                                                                                 \n",
      "               Occupation: 2.000 Energy:  -19.13379 a.u.                                                                  \n",
      "               (   1 O   1s  :    -1.00)                                                                                  \n",
      "                                                                                                                          \n",
      "               Molecular Orbital No.   2:                                                                                 \n",
      "               --------------------------                                                                                 \n",
      "               Occupation: 2.000 Energy:   -1.01751 a.u.                                                                  \n",
      "               (   1 O   1s  :     0.21) (   1 O   2s  :    -0.46) (   1 O   3s  :    -0.45)                              \n",
      "               (   1 O   1p0 :     0.15) (   2 H   1s  :    -0.15) (   3 H   1s  :    -0.15)                              \n",
      "                                                                                                                          \n",
      "               Molecular Orbital No.   3:                                                                                 \n",
      "               --------------------------                                                                                 \n",
      "               Occupation: 2.000 Energy:   -0.52917 a.u.                                                                  \n",
      "               (   1 O   1p+1:     0.52) (   1 O   2p+1:     0.23) (   2 H   1s  :    -0.27)                              \n",
      "               (   2 H   2s  :    -0.15) (   3 H   1s  :     0.27) (   3 H   2s  :     0.15)                              \n",
      "                                                                                                                          \n",
      "               Molecular Orbital No.   4:                                                                                 \n",
      "               --------------------------                                                                                 \n",
      "               Occupation: 2.000 Energy:   -0.35661 a.u.                                                                  \n",
      "               (   1 O   2s  :     0.20) (   1 O   3s  :     0.37) (   1 O   1p0 :     0.54)                              \n",
      "               (   1 O   2p0 :     0.38)                                                                                  \n",
      "                                                                                                                          \n",
      "               Molecular Orbital No.   5:                                                                                 \n",
      "               --------------------------                                                                                 \n",
      "               Occupation: 2.000 Energy:   -0.29214 a.u.                                                                  \n",
      "               (   1 O   1p-1:     0.65) (   1 O   2p-1:     0.50)                                                        \n",
      "                                                                                                                          \n",
      "               Molecular Orbital No.   6:                                                                                 \n",
      "               --------------------------                                                                                 \n",
      "               Occupation: 0.000 Energy:    0.05639 a.u.                                                                  \n",
      "               (   1 O   2s  :     0.15) (   1 O   3s  :     1.09) (   1 O   1p0 :    -0.29)                              \n",
      "               (   1 O   2p0 :    -0.44) (   2 H   2s  :    -0.94) (   3 H   2s  :    -0.94)                              \n",
      "                                                                                                                          \n",
      "               Molecular Orbital No.   7:                                                                                 \n",
      "               --------------------------                                                                                 \n",
      "               Occupation: 0.000 Energy:    0.14625 a.u.                                                                  \n",
      "               (   1 O   1p+1:     0.42) (   1 O   2p+1:     0.75) (   2 H   2s  :     1.28)                              \n",
      "               (   3 H   2s  :    -1.28)                                                                                  \n",
      "                                                                                                                          \n",
      "               Molecular Orbital No.   8:                                                                                 \n",
      "               --------------------------                                                                                 \n",
      "               Occupation: 0.000 Energy:    0.80982 a.u.                                                                  \n",
      "               (   1 O   1p+1:     0.20) (   1 O   2p+1:     0.53) (   2 H   1s  :     0.97)                              \n",
      "               (   2 H   2s  :    -0.67) (   3 H   1s  :    -0.97) (   3 H   2s  :     0.67)                              \n",
      "                                                                                                                          \n",
      "               Molecular Orbital No.   9:                                                                                 \n",
      "               --------------------------                                                                                 \n",
      "               Occupation: 0.000 Energy:    0.87513 a.u.                                                                  \n",
      "               (   1 O   2s  :    -0.18) (   1 O   3s  :     0.28) (   1 O   1p0 :     0.78)                              \n",
      "               (   1 O   2p0 :    -0.50) (   2 H   1s  :     0.71) (   2 H   2s  :    -0.59)                              \n",
      "               (   3 H   1s  :     0.71) (   3 H   2s  :    -0.59)                                                        \n",
      "                                                                                                                          \n",
      "               Molecular Orbital No.  10:                                                                                 \n",
      "               --------------------------                                                                                 \n",
      "               Occupation: 0.000 Energy:    0.88918 a.u.                                                                  \n",
      "               (   1 O   1p-1:    -0.96) (   1 O   2p-1:     1.04)                                                        \n",
      "                                                                                                                          \n"
     ]
    }
   ],
   "source": [
    "water_mol_str = \"\"\"\n",
    "O       0.0000000000     0.0000000000     0.1178336003\n",
    "H      -0.7595754146    -0.0000000000    -0.4713344012\n",
    "H       0.7595754146     0.0000000000    -0.4713344012\n",
    "\"\"\"\n",
    "\n",
    "basis = \"6-31G\"\n",
    "vlx_mol = vlx.Molecule.read_molecule_string(water_mol_str)\n",
    "vlx_bas = vlx.MolecularBasis.read(vlx_mol, basis)\n",
    "\n",
    "scf_drv = vlx.ScfRestrictedDriver()\n",
    "scf_settings = {\"conv_thresh\": 1.0e-6}\n",
    "method_settings = {\"xcfun\": \"b3lyp\"}\n",
    "scf_drv.update_settings(scf_settings, method_settings)\n",
    "scf_results = scf_drv.compute(vlx_mol, vlx_bas)"
   ]
  },
  {
   "cell_type": "markdown",
   "id": "00bdebb7-de53-4af2-8780-f7e889fefaf2",
   "metadata": {
    "editable": true,
    "slideshow": {
     "slide_type": ""
    },
    "tags": []
   },
   "source": [
    "## Full-space results\n",
    "\n",
    "For the full-space results, we construct the Hessian and property gradients:"
   ]
  },
  {
   "cell_type": "code",
   "execution_count": 5,
   "id": "fe85a4f2-75c2-43f5-9186-b107d29d5c58",
   "metadata": {
    "editable": true,
    "slideshow": {
     "slide_type": ""
    },
    "tags": [
     "remove-output"
    ]
   },
   "outputs": [
    {
     "name": "stdout",
     "output_type": "stream",
     "text": [
      "* Info * Molecular grid with 40792 points generated in 0.04 sec.                                                          \n",
      "                                                                                                                          \n",
      "* Info * Processing Fock builds... (batch size: 160)                                                                      \n",
      "* Info *   batch 1/1                                                                                                      \n"
     ]
    }
   ],
   "source": [
    "lr_eig_solver = vlx.LinearResponseEigenSolver()\n",
    "lr_eig_solver.update_settings(scf_settings, method_settings)\n",
    "\n",
    "lr_solver = vlx.LinearResponseSolver()\n",
    "lr_solver.update_settings(scf_settings, method_settings)\n",
    "\n",
    "# Electronic Hessian\n",
    "E2 = lr_eig_solver.get_e2(vlx_mol, vlx_bas, scf_results)\n",
    "\n",
    "# Property gradients for dipole operator\n",
    "V1_x, V1_y, V1_z = lr_solver.get_prop_grad(\"electric dipole\", \"xyz\", vlx_mol, vlx_bas, scf_results)\n",
    "\n",
    "# Dimension\n",
    "c = int(len(E2) / 2)\n",
    "\n",
    "# Overlap matrix\n",
    "S2 = np.identity(2 * c)\n",
    "S2[c : 2 * c, c : 2 * c] *= -1"
   ]
  },
  {
   "cell_type": "markdown",
   "id": "e24ea294-f5c8-428e-b127-085e91c45562",
   "metadata": {
    "editable": true,
    "slideshow": {
     "slide_type": ""
    },
    "tags": []
   },
   "source": [
    "Calculating the excitation energies and oscillator strengths:"
   ]
  },
  {
   "cell_type": "code",
   "execution_count": 6,
   "id": "cff8c5d4-95d9-4eba-85b4-0110aed30c4c",
   "metadata": {},
   "outputs": [],
   "source": [
    "# Set up and solve eigenvalue problem\n",
    "Sinv = np.linalg.inv(S2)  # for clarity - is identical\n",
    "M = np.matmul(Sinv, E2)\n",
    "eigs, X = np.linalg.eig(M)\n",
    "\n",
    "# Reorder results\n",
    "idx = np.argsort(eigs)\n",
    "eigs = np.array(eigs)[idx]\n",
    "X = np.array(X)[:, idx]\n",
    "\n",
    "# Compute oscillator strengths\n",
    "fosc = []\n",
    "for i in range(int(len(eigs) / 2)):\n",
    "    j = i + int(len(eigs) / 2)  # focus on excitations\n",
    "    Xf = X[:, j]\n",
    "    Xf = Xf / np.sqrt(np.matmul(Xf.T, np.matmul(S2, Xf)))\n",
    "    tm = np.dot(Xf, V1_x) ** 2 + np.dot(Xf, V1_y) ** 2 + np.dot(Xf, V1_z) ** 2\n",
    "    fosc.append(tm * 2.0 / 3.0 * eigs[j])"
   ]
  },
  {
   "cell_type": "markdown",
   "id": "36d9deff-ca5d-4f60-9a53-2fbd6ab47617",
   "metadata": {
    "editable": true,
    "slideshow": {
     "slide_type": ""
    },
    "tags": []
   },
   "source": [
    "## CVS-space results\n",
    "\n",
    "The dimensions of the CVS-space:"
   ]
  },
  {
   "cell_type": "code",
   "execution_count": 7,
   "id": "04fdb43c-e769-4bb1-8c0b-0e1faf53d7cd",
   "metadata": {
    "editable": true,
    "slideshow": {
     "slide_type": ""
    },
    "tags": []
   },
   "outputs": [],
   "source": [
    "# Number of virtuals\n",
    "nocc = vlx_mol.number_of_alpha_electrons()\n",
    "nvirt = vlx.MolecularBasis.get_dimensions_of_basis(vlx_bas, vlx_mol) - nocc\n",
    "n = nocc * nvirt\n",
    "\n",
    "# CVS space\n",
    "res_mo = 1\n",
    "res_indx = 0\n",
    "c = res_mo * nvirt"
   ]
  },
  {
   "cell_type": "markdown",
   "id": "d8107b42-74ee-41b2-b496-3ed77b2dfcdb",
   "metadata": {
    "editable": true,
    "slideshow": {
     "slide_type": ""
    },
    "tags": []
   },
   "source": [
    "Hessian and property gradients:"
   ]
  },
  {
   "cell_type": "code",
   "execution_count": null,
   "id": "78ae7c21-a1dc-4e75-a7fd-3f0be09d8f8a",
   "metadata": {},
   "outputs": [],
   "source": []
  },
  {
   "cell_type": "code",
   "execution_count": 8,
   "id": "164452b6-340a-42a1-97ae-a3c6fd02da9e",
   "metadata": {},
   "outputs": [],
   "source": [
    "## Construct CVS objects\n",
    "\n",
    "# Define starting index for deexcitation\n",
    "c_int_deex = n + res_indx\n",
    "\n",
    "# CVS Hessian\n",
    "E2_cvs = np.zeros((2 * c, 2 * c))\n",
    "E2_cvs[0:c, 0:c] = E2[res_indx:c, res_indx:c]\n",
    "E2_cvs[0:c, c : 2 * c] = E2[res_indx:c, c_int_deex : c_int_deex + c]\n",
    "E2_cvs[c : 2 * c, 0:c] = E2[c_int_deex : c_int_deex + c, res_indx:c]\n",
    "E2_cvs[c : 2 * c, c : 2 * c] = E2[\n",
    "    c_int_deex : c_int_deex + c, c_int_deex : c_int_deex + c\n",
    "]\n",
    "\n",
    "# CVS overlap matrix\n",
    "S2_cvs = np.identity(2 * c)\n",
    "S2_cvs[c : 2 * c, c : 2 * c] *= -1\n",
    "\n",
    "# CVS property gradients\n",
    "V1_cvs_x = np.zeros(2 * c)\n",
    "V1_cvs_x[0:c] = V1_x[res_indx:c]\n",
    "V1_cvs_x[c : 2 * c] = V1_x[c_int_deex : c_int_deex + c]\n",
    "V1_cvs_y = np.zeros(2 * c)\n",
    "V1_cvs_y[0:c] = V1_y[res_indx:c]\n",
    "V1_cvs_y[c : 2 * c] = V1_y[c_int_deex : c_int_deex + c]\n",
    "V1_cvs_z = np.zeros(2 * c)\n",
    "V1_cvs_z[0:c] = V1_z[res_indx:c]\n",
    "V1_cvs_z[c : 2 * c] = V1_z[c_int_deex : c_int_deex + c]"
   ]
  },
  {
   "cell_type": "markdown",
   "id": "9f8b8005-7797-41de-b177-e26f5534ed16",
   "metadata": {},
   "source": [
    "Calculating energies and intensities:"
   ]
  },
  {
   "cell_type": "code",
   "execution_count": 9,
   "id": "b98a3f34-4980-4339-8c5d-4421325a8f9b",
   "metadata": {
    "editable": true,
    "slideshow": {
     "slide_type": ""
    },
    "tags": []
   },
   "outputs": [],
   "source": [
    "# Set up and solve eigenvalue problem\n",
    "Sinv = np.linalg.inv(S2_cvs)  # for clarity - is identical\n",
    "M = np.matmul(Sinv, E2_cvs)\n",
    "eigs_cvs, X_cvs = np.linalg.eig(M)\n",
    "\n",
    "# Reorder results\n",
    "idx = np.argsort(eigs_cvs)\n",
    "eigs_cvs = np.array(eigs_cvs)[idx]\n",
    "X_cvs = np.array(X_cvs)[:, idx]\n",
    "\n",
    "# Compute oscillator strengths\n",
    "fosc_cvs = []\n",
    "for i in range(int(len(eigs_cvs) / 2)):\n",
    "    j = i + int(len(eigs_cvs) / 2)  # focus on excitations\n",
    "    Xf_cvs = X_cvs[:, j]\n",
    "    Xf_cvs = Xf_cvs / np.sqrt(np.matmul(Xf_cvs.T, np.matmul(S2_cvs, Xf_cvs)))\n",
    "    tm_cvs = (\n",
    "        np.dot(Xf_cvs, V1_cvs_x) ** 2\n",
    "        + np.dot(Xf_cvs, V1_cvs_y) ** 2\n",
    "        + np.dot(Xf_cvs, V1_cvs_z) ** 2\n",
    "    )\n",
    "    fosc_cvs.append(tm_cvs * 2.0 / 3.0 * eigs_cvs[j])"
   ]
  },
  {
   "cell_type": "markdown",
   "id": "aa8c66e1-f80b-4957-b4c3-d61a09889feb",
   "metadata": {
    "editable": true,
    "slideshow": {
     "slide_type": ""
    },
    "tags": []
   },
   "source": [
    "### CVS-space results from VeloxChem\n",
    "\n",
    "The CVS-space approach is implemented in VeloxChem and can be done by the ``LinearResponseEigenSolver`` class. To run CVS calculation, set ``core_excitation`` to True and ``num_core_orbitals`` to the number of core orbitals to be included.\n",
    "\n",
    "In this example we only need to include one core orbital (O1s in water molecule)."
   ]
  },
  {
   "cell_type": "code",
   "execution_count": 10,
   "id": "9a5d2e84-ebde-4298-9b39-892a1eff7619",
   "metadata": {
    "editable": true,
    "slideshow": {
     "slide_type": ""
    },
    "tags": [
     "output_scroll",
     "remove-output"
    ]
   },
   "outputs": [
    {
     "name": "stdout",
     "output_type": "stream",
     "text": [
      "                                                                                                                          \n",
      "                                                                                                                          \n",
      "                                            Linear Response EigenSolver Setup                                             \n",
      "                                           ===================================                                            \n",
      "                                                                                                                          \n",
      "                               Number of States                : 3                                                        \n",
      "                               Max. Number of Iterations       : 150                                                      \n",
      "                               Convergence Threshold           : 1.0e-06                                                  \n",
      "                               ERI Screening Scheme            : Cauchy Schwarz + Density                                 \n",
      "                               ERI Screening Threshold         : 1.0e-12                                                  \n",
      "                               Exchange-Correlation Functional : B3LYP                                                    \n",
      "                               Molecular Grid Level            : 4                                                        \n",
      "                                                                                                                          \n",
      "* Info * Molecular grid with 40792 points generated in 0.04 sec.                                                          \n",
      "                                                                                                                          \n",
      "* Info * Processing Fock builds... (batch size: 6)                                                                        \n",
      "* Info *   batch 1/1                                                                                                      \n",
      "                                                                                                                          \n",
      "* Info * 3 gerade trial vectors in reduced space                                                                          \n",
      "* Info * 3 ungerade trial vectors in reduced space                                                                        \n",
      "                                                                                                                          \n",
      "* Info * 1.64 kB of memory used for subspace procedure on the master node                                                 \n",
      "* Info * 6.09 GB of memory available for the solver on the master node                                                    \n",
      "                                                                                                                          \n",
      "               *** Iteration:   1 * Residuals (Max,Min): 9.82e-02 and 2.73e-02                                            \n",
      "                                                                                                                          \n",
      "               Excitation 1   :     19.11351025 Residual Norm: 0.09818089                                                 \n",
      "               Excitation 2   :     19.18647630 Residual Norm: 0.09204895                                                 \n",
      "               Excitation 3   :     19.84616908 Residual Norm: 0.02730824                                                 \n",
      "                                                                                                                          \n",
      "* Info * Processing Fock builds... (batch size: 4)                                                                        \n",
      "* Info *   batch 1/1                                                                                                      \n",
      "                                                                                                                          \n",
      "* Info * 5 gerade trial vectors in reduced space                                                                          \n",
      "* Info * 5 ungerade trial vectors in reduced space                                                                        \n",
      "                                                                                                                          \n",
      "* Info * 2.32 kB of memory used for subspace procedure on the master node                                                 \n",
      "* Info * 6.09 GB of memory available for the solver on the master node                                                    \n",
      "                                                                                                                          \n",
      "               *** Iteration:   2 * Residuals (Max,Min): 1.01e-02 and 5.42e-14                                            \n",
      "                                                                                                                          \n",
      "               Excitation 1   :     19.11231928 Residual Norm: 0.01012702                                                 \n",
      "               Excitation 2   :     19.18487023 Residual Norm: 0.00000000   converged                                     \n",
      "               Excitation 3   :     19.84589976 Residual Norm: 0.00000000   converged                                     \n",
      "                                                                                                                          \n",
      "* Info * Processing Fock builds... (batch size: 2)                                                                        \n",
      "* Info *   batch 1/1                                                                                                      \n",
      "                                                                                                                          \n",
      "* Info * 6 gerade trial vectors in reduced space                                                                          \n",
      "* Info * 6 ungerade trial vectors in reduced space                                                                        \n",
      "                                                                                                                          \n",
      "* Info * 2.58 kB of memory used for subspace procedure on the master node                                                 \n",
      "* Info * 6.09 GB of memory available for the solver on the master node                                                    \n",
      "                                                                                                                          \n",
      "               *** Iteration:   3 * Residuals (Max,Min): 2.51e-04 and 2.98e-14                                            \n",
      "                                                                                                                          \n",
      "               Excitation 1   :     19.11231840 Residual Norm: 0.00025135                                                 \n",
      "               Excitation 2   :     19.18487023 Residual Norm: 0.00000000   converged                                     \n",
      "               Excitation 3   :     19.84589976 Residual Norm: 0.00000000   converged                                     \n",
      "                                                                                                                          \n",
      "* Info * Processing Fock builds... (batch size: 2)                                                                        \n",
      "* Info *   batch 1/1                                                                                                      \n",
      "                                                                                                                          \n",
      "* Info * 7 gerade trial vectors in reduced space                                                                          \n",
      "* Info * 7 ungerade trial vectors in reduced space                                                                        \n",
      "                                                                                                                          \n",
      "* Info * 2.66 kB of memory used for subspace procedure on the master node                                                 \n",
      "* Info * 6.09 GB of memory available for the solver on the master node                                                    \n",
      "                                                                                                                          \n",
      "               *** Iteration:   4 * Residuals (Max,Min): 6.14e-14 and 5.19e-15                                            \n",
      "                                                                                                                          \n",
      "               Excitation 1   :     19.11231840 Residual Norm: 0.00000000   converged                                     \n",
      "               Excitation 2   :     19.18487023 Residual Norm: 0.00000000   converged                                     \n",
      "               Excitation 3   :     19.84589976 Residual Norm: 0.00000000   converged                                     \n",
      "                                                                                                                          \n",
      "               *** Linear response converged in 4 iterations. Time: 1.54 sec                                              \n",
      "                                                                                                                          \n",
      "                                                                                                                          \n",
      "               Electric Transition Dipole Moments (dipole length, a.u.)                                                   \n",
      "               --------------------------------------------------------                                                   \n",
      "                                                X            Y            Z                                               \n",
      "               Excited State    S1:     -0.000000    -0.000000     0.036994                                               \n",
      "               Excited State    S2:      0.053332    -0.000000     0.000000                                               \n",
      "               Excited State    S3:      0.026326    -0.000000     0.000000                                               \n",
      "                                                                                                                          \n",
      "               Electric Transition Dipole Moments (dipole velocity, a.u.)                                                 \n",
      "               ----------------------------------------------------------                                                 \n",
      "                                                X            Y            Z                                               \n",
      "               Excited State    S1:     -0.000000    -0.000000     0.037908                                               \n",
      "               Excited State    S2:      0.054574    -0.000000     0.000000                                               \n",
      "               Excited State    S3:      0.023365    -0.000000     0.000000                                               \n",
      "                                                                                                                          \n",
      "               Magnetic Transition Dipole Moments (a.u.)                                                                  \n",
      "               -----------------------------------------                                                                  \n",
      "                                                X            Y            Z                                               \n",
      "               Excited State    S1:      0.000000    -0.000000    -0.000000                                               \n",
      "               Excited State    S2:      0.000000     0.116020     0.000000                                               \n",
      "               Excited State    S3:      0.000000     0.051026     0.000000                                               \n",
      "                                                                                                                          \n",
      "               One-Photon Absorption                                                                                      \n",
      "               ---------------------                                                                                      \n",
      "               Excited State    S1:     19.11231840 a.u.    520.07268 eV    Osc.Str.    0.0174                            \n",
      "               Excited State    S2:     19.18487023 a.u.    522.04691 eV    Osc.Str.    0.0364                            \n",
      "               Excited State    S3:     19.84589976 a.u.    540.03444 eV    Osc.Str.    0.0092                            \n",
      "                                                                                                                          \n",
      "               Electronic Circular Dichroism                                                                              \n",
      "               -----------------------------                                                                              \n",
      "               Excited State    S1:     Rot.Str.     -0.000000 a.u.    -0.0000 [10**(-40) cgs]                            \n",
      "               Excited State    S2:     Rot.Str.      0.000000 a.u.     0.0000 [10**(-40) cgs]                            \n",
      "               Excited State    S3:     Rot.Str.      0.000000 a.u.     0.0000 [10**(-40) cgs]                            \n",
      "                                                                                                                          \n",
      "               Character of excitations:                                                                                  \n",
      "                                                                                                                          \n",
      "               Excited state 1                                                                                            \n",
      "               ---------------                                                                                            \n",
      "               core_1   -> LUMO        -0.9993                                                                            \n",
      "                                                                                                                          \n",
      "               Excited state 2                                                                                            \n",
      "               ---------------                                                                                            \n",
      "               core_1   -> LUMO+1       0.9984                                                                            \n",
      "                                                                                                                          \n",
      "               Excited state 3                                                                                            \n",
      "               ---------------                                                                                            \n",
      "               core_1   -> LUMO+2       0.9986                                                                            \n",
      "                                                                                                                          \n"
     ]
    }
   ],
   "source": [
    "lr_eig_solver.core_excitation = True\n",
    "lr_eig_solver.num_core_orbitals = 1\n",
    "lr_eig_solver.nstates = 3\n",
    "vlx_cvs_results = lr_eig_solver.compute(vlx_mol, vlx_bas, scf_results)"
   ]
  },
  {
   "cell_type": "markdown",
   "id": "f435a65d-9043-4196-8a68-8f08bc97ee7f",
   "metadata": {},
   "source": [
    "## Comparison\n",
    "\n",
    "Comparing the obtained spectra:"
   ]
  },
  {
   "cell_type": "code",
   "execution_count": 11,
   "id": "dd483ed6-8c9d-46a5-844c-84187fe3ce90",
   "metadata": {
    "editable": true,
    "slideshow": {
     "slide_type": ""
    },
    "tags": []
   },
   "outputs": [
    {
     "data": {
      "image/png": "[encoded data removed]",
      "text/plain": [
       "<Figure size 600x300 with 1 Axes>"
      ]
     },
     "metadata": {},
     "output_type": "display_data"
    }
   ],
   "source": [
    "plt.figure(figsize=(6,3))\n",
    "\n",
    "x, y = eigs[int(len(eigs) / 2) :], fosc\n",
    "x1, y1 = lorentzian(x, y, 518 / au2ev, 525 / au2ev, 0.001, 0.3 / au2ev)\n",
    "plt.plot(x1 * au2ev, y1)\n",
    "\n",
    "x, y = eigs_cvs[int(len(eigs_cvs) / 2) :], fosc_cvs\n",
    "x2, y2 = lorentzian(x, y, 518 / au2ev, 525 / au2ev, 0.001, 0.3 / au2ev)\n",
    "plt.plot(x2 * au2ev, y2, linestyle='--')\n",
    "\n",
    "x, y = vlx_cvs_results['eigenvalues'], vlx_cvs_results['oscillator_strengths']\n",
    "x3, y3 = lorentzian(x, y, 518 / au2ev, 525 / au2ev, 0.001, 0.3 / au2ev)\n",
    "plt.plot(x3 * au2ev, y3, linestyle=':')\n",
    "\n",
    "plt.plot(x1 * au2ev, 10*(y1 - y2), linestyle='--')\n",
    "plt.plot(x1 * au2ev, 10*(y1 - y3), linestyle=':')\n",
    "\n",
    "plt.legend((\"Full-space\", \"CVS-space\", \"CVS-space (VLX)\", \"Difference x10\", \"Difference x10 (VLX)\"))\n",
    "plt.tight_layout()\n",
    "plt.show()"
   ]
  },
  {
   "cell_type": "code",
   "execution_count": null,
   "id": "2cd240cc-96f6-4983-8af0-3b77577979de",
   "metadata": {
    "editable": true,
    "slideshow": {
     "slide_type": ""
    },
    "tags": []
   },
   "outputs": [],
   "source": []
  },
  {
   "cell_type": "code",
   "execution_count": null,
   "id": "4093fcb1-fb75-428d-ab1a-1e8c8d27f62b",
   "metadata": {},
   "outputs": [],
   "source": []
  },
  {
   "cell_type": "code",
   "execution_count": null,
   "id": "7415e1bc-3794-4d6f-9886-9e249da8e45c",
   "metadata": {
    "editable": true,
    "slideshow": {
     "slide_type": ""
    },
    "tags": []
   },
   "outputs": [],
   "source": []
  },
  {
   "cell_type": "code",
   "execution_count": null,
   "id": "fb65f873-bbf5-455e-8ed1-2f3d419368aa",
   "metadata": {
    "editable": true,
    "slideshow": {
     "slide_type": ""
    },
    "tags": []
   },
   "outputs": [],
   "source": []
  }
 ],
 "metadata": {
  "kernelspec": {
   "display_name": "Python 3 (ipykernel)",
   "language": "python",
   "name": "python3"
  },
  "language_info": {
   "codemirror_mode": {
    "name": "ipython",
    "version": 3
   },
   "file_extension": ".py",
   "mimetype": "text/x-python",
   "name": "python",
   "nbconvert_exporter": "python",
   "pygments_lexer": "ipython3",
   "version": "3.10.12"
  }
 },
 "nbformat": 4,
 "nbformat_minor": 5
}
