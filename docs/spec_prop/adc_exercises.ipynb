{
 "cells": [
  {
   "cell_type": "markdown",
   "id": "eb597949-bc6b-4c99-9ad9-2daf55eeffc6",
   "metadata": {},
   "source": [
    "# Exercises\n",
    "\n",
    "In this exercise, we will implement the closed-shell restricted ADC(1) matrix yourself and diagonalize it to obtain excitation energies. We will use [Gator](sec:gator) to compare the results and obtain both singlet and triplet excitation energies. Furthermore, we will consider the core-valence separation (CVS) approximation for the calculation of core-excited states.\n",
    "\n",
    "First, we define a small molecule (lithium hydride) and minimal basis set (STO-3G)."
   ]
  },
  {
   "cell_type": "code",
   "execution_count": 1,
   "id": "3e17e857-fc09-4630-a7b4-54628c81e06c",
   "metadata": {
    "tags": [
     "hide-output"
    ]
   },
   "outputs": [
    {
     "name": "stdout",
     "output_type": "stream",
     "text": [
      "* Warning * Environment variable OMP_NUM_THREADS not set.\n",
      "* Warning * Setting OMP_NUM_THREADS to 4.\n",
      "* Warning * Setting MKL_THREADING_LAYER to \"INTEL\".\n",
      "27.211386245988\n"
     ]
    }
   ],
   "source": [
    "import veloxchem as vlx\n",
    "import gator\n",
    "import py3Dmol as p3d\n",
    "import numpy as np\n",
    "from veloxchem.mointsdriver import MOIntegralsDriver\n",
    "\n",
    "np.set_printoptions(precision=5, suppress=True)\n",
    "# Conversion from Hartree to eV for later use\n",
    "au2ev = vlx.veloxchemlib.hartree_in_ev()\n",
    "print(au2ev)\n",
    "\n",
    "lih_xyz=\"\"\"2\n",
    "\n",
    "Li  0.000000   0.000000   0.000000\n",
    "H   0.000000   0.000000   1.000000\n",
    "\"\"\"\n",
    "lih = vlx.Molecule.from_xyz_string(lih_xyz)\n",
    "\n",
    "# Method and basis set\n",
    "method = 'adc1'\n",
    "basis_set_label = \"sto-3g\"\n",
    "basis = vlx.MolecularBasis.read(lih, basis_set_label)"
   ]
  },
  {
   "cell_type": "markdown",
   "id": "d867cfaf-4d48-46a2-b4d5-6f58bcb739dc",
   "metadata": {},
   "source": [
    "## Calculate reference state"
   ]
  },
  {
   "cell_type": "code",
   "execution_count": 2,
   "id": "d1c85708-98cc-405c-8297-bb15000204f2",
   "metadata": {
    "scrolled": true,
    "tags": [
     "hide-output"
    ]
   },
   "outputs": [
    {
     "name": "stdout",
     "output_type": "stream",
     "text": [
      "                                                                                                                          \n",
      "                                            Self Consistent Field Driver Setup                                            \n",
      "                                           ====================================                                           \n",
      "                                                                                                                          \n",
      "                   Wave Function Model             : Spin-Restricted Hartree-Fock                                         \n",
      "                   Initial Guess Model             : Superposition of Atomic Densities                                    \n",
      "                   Convergence Accelerator         : Two Level Direct Inversion of Iterative Subspace                     \n",
      "                   Max. Number of Iterations       : 50                                                                   \n",
      "                   Max. Number of Error Vectors    : 10                                                                   \n",
      "                   Convergence Threshold           : 1.0e-10                                                              \n",
      "                   ERI Screening Scheme            : Cauchy Schwarz + Density                                             \n",
      "                   ERI Screening Mode              : Dynamic                                                              \n",
      "                   ERI Screening Threshold         : 1.0e-12                                                              \n",
      "                   Linear Dependence Threshold     : 1.0e-06                                                              \n",
      "                                                                                                                          \n",
      "* Info * Nuclear repulsion energy: 1.5875316327 a.u.                                                                      \n",
      "                                                                                                                          \n",
      "* Info * Overlap matrix computed in 0.00 sec.                                                                             \n",
      "                                                                                                                          \n",
      "* Info * Kinetic energy matrix computed in 0.00 sec.                                                                      \n",
      "                                                                                                                          \n",
      "* Info * Nuclear potential matrix computed in 0.00 sec.                                                                   \n",
      "                                                                                                                          \n",
      "* Info * Orthogonalization matrix computed in 0.00 sec.                                                                   \n",
      "                                                                                                                          \n",
      "* Info * SAD initial guess computed in 0.00 sec.                                                                          \n",
      "                                                                                                                          \n",
      "* Info * Starting Reduced Basis SCF calculation...                                                                        \n",
      "* Info * ...done. SCF energy in reduced basis set: -7.700339131917 a.u. Time: 0.02 sec.                                   \n",
      "                                                                                                                          \n",
      "* Info * Overlap matrix computed in 0.00 sec.                                                                             \n",
      "                                                                                                                          \n",
      "* Info * Kinetic energy matrix computed in 0.00 sec.                                                                      \n",
      "                                                                                                                          \n",
      "* Info * Nuclear potential matrix computed in 0.00 sec.                                                                   \n",
      "                                                                                                                          \n",
      "* Info * Orthogonalization matrix computed in 0.00 sec.                                                                   \n",
      "                                                                                                                          \n",
      "                                                                                                                          \n",
      "               Iter. | Hartree-Fock Energy | Energy Change | Gradient Norm | Max. Gradient | Density Change               \n",
      "               --------------------------------------------------------------------------------------------               \n",
      "                  1        -7.754598884992    0.0000000000      0.11640130      0.02003396      0.00000000                \n",
      "                  2        -7.766253797554   -0.0116549126      0.02865771      0.00623056      0.16614678                \n",
      "                  3        -7.767359946315   -0.0011061488      0.00245225      0.00058050      0.06952428                \n",
      "                  4        -7.767362132932   -0.0000021866      0.00013369      0.00003556      0.00290197                \n",
      "                  5        -7.767362137063   -0.0000000041      0.00002228      0.00000633      0.00013144                \n",
      "                  6        -7.767362137239   -0.0000000002      0.00000168      0.00000050      0.00002351                \n",
      "                  7        -7.767362137240   -0.0000000000      0.00000000      0.00000000      0.00000192                \n",
      "                  8        -7.767362137240    0.0000000000      0.00000000      0.00000000      0.00000000                \n",
      "                  9        -7.767362137240    0.0000000000      0.00000000      0.00000000      0.00000000                \n",
      "                 10        -7.767362137240   -0.0000000000      0.00000000      0.00000000      0.00000001                \n",
      "                 11        -7.767362137240    0.0000000000      0.00000000      0.00000000      0.00000000                \n",
      "                                                                                                                          \n",
      "               *** SCF converged in 11 iterations. Time: 0.05 sec.                                                        \n",
      "                                                                                                                          \n",
      "               Spin-Restricted Hartree-Fock:                                                                              \n",
      "               -----------------------------                                                                              \n",
      "               Total Energy                       :       -7.7673621372 a.u.                                              \n",
      "               Electronic Energy                  :       -9.3548937699 a.u.                                              \n",
      "               Nuclear Repulsion Energy           :        1.5875316327 a.u.                                              \n",
      "               ------------------------------------                                                                       \n",
      "               Gradient Norm                      :        0.0000000000 a.u.                                              \n",
      "                                                                                                                          \n",
      "                                                                                                                          \n",
      "               Ground State Information                                                                                   \n",
      "               ------------------------                                                                                   \n",
      "               Charge of Molecule            :  0.0                                                                       \n",
      "               Multiplicity (2S+1)           :  1.0                                                                       \n",
      "               Magnetic Quantum Number (M_S) :  0.0                                                                       \n",
      "                                                                                                                          \n",
      "                                                                                                                          \n",
      "                                                 Spin Restricted Orbitals                                                 \n",
      "                                                 ------------------------                                                 \n",
      "                                                                                                                          \n",
      "               Molecular Orbital No.   1:                                                                                 \n",
      "               --------------------------                                                                                 \n",
      "               Occupation: 2.000 Energy:   -2.37090 a.u.                                                                  \n",
      "               (   1 Li  1s  :     0.99)                                                                                  \n",
      "                                                                                                                          \n",
      "               Molecular Orbital No.   2:                                                                                 \n",
      "               --------------------------                                                                                 \n",
      "               Occupation: 2.000 Energy:   -0.31666 a.u.                                                                  \n",
      "               (   1 Li  1s  :     0.26) (   1 Li  2s  :    -0.39) (   1 Li  1p0 :    -0.38)                              \n",
      "               (   2 H   1s  :    -0.55)                                                                                  \n",
      "                                                                                                                          \n",
      "               Molecular Orbital No.   3:                                                                                 \n",
      "               --------------------------                                                                                 \n",
      "               Occupation: 0.000 Energy:    0.07685 a.u.                                                                  \n",
      "               (   1 Li  1s  :     0.19) (   1 Li  2s  :    -0.84) (   1 Li  1p0 :     0.59)                              \n",
      "                                                                                                                          \n",
      "               Molecular Orbital No.   4:                                                                                 \n",
      "               --------------------------                                                                                 \n",
      "               Occupation: 0.000 Energy:    0.15794 a.u.                                                                  \n",
      "               (   1 Li  1p+1:    -0.99) (   1 Li  1p-1:    -0.17)                                                        \n",
      "                                                                                                                          \n",
      "               Molecular Orbital No.   5:                                                                                 \n",
      "               --------------------------                                                                                 \n",
      "               Occupation: 0.000 Energy:    0.15794 a.u.                                                                  \n",
      "               (   1 Li  1p+1:     0.17) (   1 Li  1p-1:    -0.99)                                                        \n",
      "                                                                                                                          \n",
      "               Molecular Orbital No.   6:                                                                                 \n",
      "               --------------------------                                                                                 \n",
      "               Occupation: 0.000 Energy:    0.61300 a.u.                                                                  \n",
      "               (   1 Li  2s  :     0.93) (   1 Li  1p0 :     1.12) (   2 H   1s  :    -1.47)                              \n",
      "                                                                                                                          \n"
     ]
    }
   ],
   "source": [
    "# SCF will be run by VeloxChem through Gator\n",
    "scf = gator.run_scf(lih, basis, conv_thresh=1e-10, verbose=True)"
   ]
  },
  {
   "cell_type": "markdown",
   "id": "eedb1153-f081-4b8a-9762-f966cf7832de",
   "metadata": {},
   "source": [
    "**Look at the molecular orbitals**\n",
    "\n",
    "- Can you assign symmetry labels to the orbitals?\n",
    "  - $\\sigma$ orbitals are rotationally symmetric around the molecular axis (projection of the electron's angular momentum onto the molecular axis $\\lambda = 0$)\n",
    "  - $\\pi$ orbitals have one nodal plane along the axis ($\\lambda = \\pm 1$)"
   ]
  },
  {
   "cell_type": "markdown",
   "id": "82fcfcbe-2789-4d52-8438-64511c68b06b",
   "metadata": {},
   "source": [
    "```python\n",
    "orb_viewer = vlx.OrbitalViewer()\n",
    "orb_viewer.plot(lih, basis, scf.mol_orbs)\n",
    "```"
   ]
  },
  {
   "cell_type": "markdown",
   "id": "a4767936-e1da-408f-b177-8ddb7d1fab90",
   "metadata": {
    "tags": []
   },
   "source": [
    "```{toggle}\n",
    "Assuming that blue = positive, red = negative\n",
    "- Orbital 1: $1\\sigma$ (Li 1s)\n",
    "- Orbital 2: $2\\sigma$ (Li 2s + Li 2p$_z$ - H 1s)\n",
    "- Orbital 3: $3\\sigma$ (-Li 2s + Li 2p$_z$ + H 1s)\n",
    "- Orbital 4: $1\\pi^*$ (Li 2p$_x$)\n",
    "- Orbital 5: $2\\pi^*$ (Li 2p$_y$)\n",
    "- Orbital 6: $4\\sigma^*$ (-Li 2s + Li 2p$_z$ - H 1s)\n",
    "```"
   ]
  },
  {
   "cell_type": "markdown",
   "id": "762f9e7f-f256-4d62-bd4c-32d63ba33aa7",
   "metadata": {},
   "source": [
    "## Construct the ADC(1) matrix\n",
    "\n",
    "The ADC(1) matrix $\\mathbf{M} = \\mathbf{M}^{(0)} + \\mathbf{M}^{(1)}$ in a *spin-orbital basis* is given by\n",
    "\n",
    "$$\n",
    "  M_{ia,jb} = (\\varepsilon_a - \\varepsilon_i) \\delta_{ij} \\delta_{ab} - \\langle ja || ib \\rangle \\, ,\n",
    "$$\n",
    "\n",
    "which for a closed-shell restricted HF reference can be written in terms of _spatial_ orbitals as\n",
    "\n",
    "$$\n",
    "   M_{ia,jb} = (\\varepsilon_a - \\varepsilon_i) \\delta_{ij} \\delta_{ab} + 2 \\langle i j | a b \\rangle  - \\langle j a | i b \\rangle \\, ,\n",
    "$$\n",
    "\n",
    "where $\\varepsilon_p$ are HF orbital energies and $\\langle p q | r s \\rangle$ are two-electron repulsion integrals in physicists' (\"1212\") notation.\n",
    "\n",
    "- We look at a very simple example of the LiH molecule in a minimal basis (STO-3G), having two occupied and four virtual orbitals\n",
    "- The first task is to construct the closed-shell ADC(1) matrix \"by hand.\" For this, we need the HF orbital energies (collected in a diagonal matrix) and the two-electron integrals\n",
    "- You can also construct the ADC(0) matrix ($\\mathbf{M} = \\mathbf{M}^{(0)}$), which consists only of the orbital-energy differences on the diagonal\n",
    "\n",
    "Extract MO energies and two-electron integrals:"
   ]
  },
  {
   "cell_type": "code",
   "execution_count": 3,
   "id": "ab7d3dc4-4c02-49e7-ad85-f17a3ac46b24",
   "metadata": {
    "tags": [
     "hide-output"
    ]
   },
   "outputs": [],
   "source": [
    "# MO energies in diagonal matrix\n",
    "mo_energies = np.diag(scf.scf_tensors['E'])\n",
    "\n",
    "# Two-electron integrals from vlx\n",
    "moints_drv = MOIntegralsDriver()\n",
    "oovv = moints_drv.compute_in_memory(lih, basis, scf.mol_orbs, \"chem_OOVV\")\n",
    "ovov = moints_drv.compute_in_memory(lih, basis, scf.mol_orbs, \"chem_OVOV\")"
   ]
  },
  {
   "cell_type": "markdown",
   "id": "0b064e4c-c116-4cf4-9a58-ffd11673537f",
   "metadata": {},
   "source": [
    "Construct matrix:\n",
    "\n",
    "```python\n",
    "# Number of occupied and virtual orbitals\n",
    "nocc = lih.number_of_alpha_electrons()\n",
    "norb = mo_energies.shape[0]\n",
    "nvir = norb - nocc\n",
    "nexc = nocc * nvir # number of excited (singlet or triplet) states in ADC(1)\n",
    "print(\"nocc: \", nocc)\n",
    "print(\"nvir: \", nvir)\n",
    "\n",
    "# ADC matrices with zeroes\n",
    "adc0_mat4d = np.zeros((nocc, nvir, nocc, nvir))\n",
    "adc1_mat4d = np.zeros((nocc, nvir, nocc, nvir))\n",
    "\n",
    "# Loop over all indices and fill matrix with corresponding elements\n",
    "for i in range(nocc):\n",
    "    for a in range(nvir):\n",
    "        # Fill the diagonal (orbital-energy differences)\n",
    "        adc0_mat4d[i,a,i,a] = ...\n",
    "        adc1_mat4d[i,a,i,a] = ...\n",
    "        for j in range(nocc):\n",
    "            for b in range(nvir):\n",
    "                # Fill the rest (two-electron integrals)\n",
    "                ...\n",
    "```"
   ]
  },
  {
   "cell_type": "code",
   "execution_count": 4,
   "id": "f8d61e35-521b-4440-b6d6-6e94d7254655",
   "metadata": {
    "tags": [
     "hide-output",
     "hide-input"
    ]
   },
   "outputs": [
    {
     "name": "stdout",
     "output_type": "stream",
     "text": [
      "nocc:  2\n",
      "nvir:  4\n"
     ]
    }
   ],
   "source": [
    "# Number of occupied and virtual orbitals\n",
    "nocc = lih.number_of_alpha_electrons()\n",
    "norb = mo_energies.shape[0]\n",
    "nvir = norb - nocc\n",
    "nexc = nocc * nvir # number of excited (singlet or triplet) states in ADC(1)\n",
    "print(\"nocc: \", nocc)\n",
    "print(\"nvir: \", nvir)\n",
    "\n",
    "# ADC matrices with zeroes\n",
    "adc0_mat4d = np.zeros((nocc, nvir, nocc, nvir))\n",
    "adc1_mat4d = np.zeros((nocc, nvir, nocc, nvir))\n",
    "\n",
    "# Loop over all indices and fill matrix with corresponding elements\n",
    "for i in range(nocc):\n",
    "    for a in range(nvir):\n",
    "        # Fill the diagonal (orbital-energy differences)\n",
    "        adc0_mat4d[i,a,i,a] = mo_energies[nocc+a,nocc+a] - mo_energies[i,i]\n",
    "        adc1_mat4d[i,a,i,a] = mo_energies[nocc+a,nocc+a] - mo_energies[i,i]\n",
    "        for j in range(nocc):\n",
    "            for b in range(nvir):\n",
    "                # Fill the rest (two-electron integrals)\n",
    "                adc1_mat4d[i,a,j,b] -= ovov[j,a,i,b]\n",
    "                adc1_mat4d[i,a,j,b] += 2*oovv[i,j,a,b]"
   ]
  },
  {
   "cell_type": "markdown",
   "id": "bad7f69d-67bd-45a7-b9fe-6e1b38711535",
   "metadata": {},
   "source": [
    "Reshape:\n",
    "\n",
    "```python\n",
    "# Reshape the 4D into 2D matrices (and print them if you like)\n",
    "adc0_mat2d = ...\n",
    "#print(\"ADC(0) matrix:\\n\", adc0_mat2d.shape, \"\\n\", adc0_mat2d)\n",
    "\n",
    "adc1_mat2d = ...\n",
    "#print(\"\\nclosed-shell ADC(1) matrix:\\n\", adc1_mat2d.shape, \"\\n\", adc1_mat2d)\n",
    "```"
   ]
  },
  {
   "cell_type": "code",
   "execution_count": 5,
   "id": "7c125d9c-0580-4437-a4f2-d64ce28e4d86",
   "metadata": {
    "tags": [
     "hide-output",
     "hide-input"
    ]
   },
   "outputs": [
    {
     "name": "stdout",
     "output_type": "stream",
     "text": [
      "ADC(0) matrix:\n",
      " (8, 8) \n",
      " [[2.44775 0.      0.      0.      0.      0.      0.      0.     ]\n",
      " [0.      2.52884 0.      0.      0.      0.      0.      0.     ]\n",
      " [0.      0.      2.52884 0.      0.      0.      0.      0.     ]\n",
      " [0.      0.      0.      2.9839  0.      0.      0.      0.     ]\n",
      " [0.      0.      0.      0.      0.39351 0.      0.      0.     ]\n",
      " [0.      0.      0.      0.      0.      0.4746  0.      0.     ]\n",
      " [0.      0.      0.      0.      0.      0.      0.4746  0.     ]\n",
      " [0.      0.      0.      0.      0.      0.      0.      0.92966]]\n",
      "\n",
      "closed-shell ADC(1) matrix:\n",
      " (8, 8) \n",
      " [[ 2.09257 -0.      -0.      -0.0027  -0.01754  0.       0.       0.01495]\n",
      " [-0.       2.15253 -0.      -0.      -0.      -0.02263 -0.       0.     ]\n",
      " [-0.      -0.       2.15253 -0.      -0.      -0.      -0.02263  0.     ]\n",
      " [-0.0027  -0.      -0.       2.61432 -0.00275 -0.      -0.      -0.00196]\n",
      " [-0.01754 -0.      -0.      -0.00275  0.16579 -0.      -0.      -0.00932]\n",
      " [ 0.      -0.02263  0.      -0.      -0.       0.22846 -0.       0.     ]\n",
      " [ 0.      -0.      -0.02263 -0.      -0.      -0.       0.22846 -0.     ]\n",
      " [ 0.01495  0.       0.      -0.00196 -0.00932  0.      -0.       0.7151 ]]\n"
     ]
    }
   ],
   "source": [
    "# Reshape the 4D into 2D matrices\n",
    "adc0_mat2d = adc0_mat4d.reshape((nocc*nvir, nocc*nvir))\n",
    "print(\"ADC(0) matrix:\\n\", adc0_mat2d.shape, \"\\n\", adc0_mat2d)\n",
    "adc1_mat2d = adc1_mat4d.reshape((nocc*nvir, nocc*nvir))\n",
    "print(\"\\nclosed-shell ADC(1) matrix:\\n\", adc1_mat2d.shape, \"\\n\", adc1_mat2d)"
   ]
  },
  {
   "cell_type": "markdown",
   "id": "82fb4ec3-fdc9-4ab2-b26e-6a650f836489",
   "metadata": {},
   "source": [
    "And diagonalize the ADC(1) matrix:\n",
    "\n",
    "```python\n",
    "adc1_eigvals = np.linalg.eigvalsh(...)\n",
    "print(\"Closed-shell ADC(1)/STO-3G eigenvalues:\\n\", adc1_eigvals)\n",
    "```"
   ]
  },
  {
   "cell_type": "code",
   "execution_count": 6,
   "id": "71ad3172-2163-4dd3-b674-b7138d218fe0",
   "metadata": {
    "tags": [
     "hide-output",
     "hide-input"
    ]
   },
   "outputs": [
    {
     "name": "stdout",
     "output_type": "stream",
     "text": [
      "Closed-shell ADC(1) eigenvalues:\n",
      " [0.16547 0.22819 0.22819 0.71508 2.09288 2.1528  2.1528  2.61434]\n"
     ]
    }
   ],
   "source": [
    "# Diagonalize the ADC(1) matrix using numpy\n",
    "adc1_eigvals = np.linalg.eigvalsh(adc1_mat2d)\n",
    "print(\"Closed-shell ADC(1) eigenvalues:\\n\", adc1_eigvals)"
   ]
  },
  {
   "cell_type": "markdown",
   "id": "bd88df9e-4109-4e9a-8ddd-3ef35266e7da",
   "metadata": {},
   "source": [
    "- Now we want to compare the obtained eigenvalues with the results from Gator"
   ]
  },
  {
   "cell_type": "markdown",
   "id": "754c1c4d-6bc4-4d33-b6bb-9d4eefb187a7",
   "metadata": {},
   "source": [
    "## ADC calculation in Gator"
   ]
  },
  {
   "cell_type": "code",
   "execution_count": 7,
   "id": "8b7a3a96-3ba6-4529-8391-e909bc9ee469",
   "metadata": {
    "tags": [
     "hide-output"
    ]
   },
   "outputs": [
    {
     "name": "stderr",
     "output_type": "stream",
     "text": [
      "Numpy 1.16 has memory leak bug  https://github.com/numpy/numpy/issues/13808\n",
      "It is recommended to downgrade to numpy 1.15 or older\n"
     ]
    },
    {
     "ename": "OSError",
     "evalue": "dlopen(/opt/miniconda3/envs/echem/lib/python3.7/site-packages/pyscf/lib/libcgto.dylib, 0x0006): Library not loaded: '@rpath/libcint.3.0.13.dylib'\n  Referenced from: '/opt/miniconda3/envs/echem/lib/python3.7/site-packages/pyscf/lib/libcgto.dylib'\n  Reason: tried: '/opt/miniconda3/envs/echem/lib/python3.7/site-packages/pyscf/lib/../../../../libcint.3.0.13.dylib' (no such file), '/opt/miniconda3/envs/echem/lib/python3.7/site-packages/pyscf/lib/../../../../libcint.3.0.13.dylib' (no such file), '/opt/miniconda3/envs/echem/lib/libcint.3.0.13.dylib' (no such file), '/opt/miniconda3/envs/echem/lib/libcint.3.0.13.dylib' (no such file), '/opt/miniconda3/envs/echem/lib/python3.7/lib-dynload/../../libcint.3.0.13.dylib' (no such file), '/opt/miniconda3/envs/echem/lib/libcint.3.0.13.dylib' (no such file), '/opt/miniconda3/envs/echem/bin/../lib/libcint.3.0.13.dylib' (no such file), '/usr/local/lib/libcint.3.0.13.dylib' (no such file), '/usr/lib/libcint.3.0.13.dylib' (no such file)",
     "output_type": "error",
     "traceback": [
      "\u001b[0;31m---------------------------------------------------------------------------\u001b[0m",
      "\u001b[0;31mOSError\u001b[0m                                   Traceback (most recent call last)",
      "\u001b[0;32m/var/folders/ky/5h8mb6gs32nbvf3w8cyqwrhm0000gn/T/ipykernel_54034/660788326.py\u001b[0m in \u001b[0;36m<module>\u001b[0;34m\u001b[0m\n\u001b[1;32m      1\u001b[0m adc_results = gator.run_adc(lih, basis, scf, verbose=False, method='adc1',\n\u001b[0;32m----> 2\u001b[0;31m                             singlets=nexc, tol=1e-5)\n\u001b[0m",
      "\u001b[0;32m/opt/miniconda3/envs/echem/lib/python3.7/site-packages/gator/gatorutils.py\u001b[0m in \u001b[0;36mrun_adc\u001b[0;34m(mol, basis, scf_drv, **kwargs)\u001b[0m\n\u001b[1;32m    155\u001b[0m \u001b[0;34m\u001b[0m\u001b[0m\n\u001b[1;32m    156\u001b[0m     \u001b[0mtask\u001b[0m \u001b[0;34m=\u001b[0m \u001b[0mMockTask\u001b[0m\u001b[0;34m(\u001b[0m\u001b[0mmol\u001b[0m\u001b[0;34m,\u001b[0m \u001b[0mbasis\u001b[0m\u001b[0;34m,\u001b[0m \u001b[0mcomm\u001b[0m\u001b[0;34m,\u001b[0m \u001b[0mostream\u001b[0m\u001b[0;34m)\u001b[0m\u001b[0;34m\u001b[0m\u001b[0;34m\u001b[0m\u001b[0m\n\u001b[0;32m--> 157\u001b[0;31m     \u001b[0;32mreturn\u001b[0m \u001b[0madc_drv\u001b[0m\u001b[0;34m.\u001b[0m\u001b[0mcompute\u001b[0m\u001b[0;34m(\u001b[0m\u001b[0mtask\u001b[0m\u001b[0;34m,\u001b[0m \u001b[0mscf_drv\u001b[0m\u001b[0;34m,\u001b[0m \u001b[0mverbose\u001b[0m\u001b[0;34m)\u001b[0m\u001b[0;34m\u001b[0m\u001b[0;34m\u001b[0m\u001b[0m\n\u001b[0m",
      "\u001b[0;32m/opt/miniconda3/envs/echem/lib/python3.7/site-packages/gator/adcdriver.py\u001b[0m in \u001b[0;36mcompute\u001b[0;34m(self, task, scf_drv, verbose)\u001b[0m\n\u001b[1;32m    301\u001b[0m                                        \u001b[0mfrozen_core\u001b[0m\u001b[0;34m=\u001b[0m\u001b[0mself\u001b[0m\u001b[0;34m.\u001b[0m\u001b[0madc_frozen_core\u001b[0m\u001b[0;34m,\u001b[0m\u001b[0;34m\u001b[0m\u001b[0;34m\u001b[0m\u001b[0m\n\u001b[1;32m    302\u001b[0m                                        \u001b[0mfrozen_virtual\u001b[0m\u001b[0;34m=\u001b[0m\u001b[0mself\u001b[0m\u001b[0;34m.\u001b[0m\u001b[0madc_frozen_virtual\u001b[0m\u001b[0;34m,\u001b[0m\u001b[0;34m\u001b[0m\u001b[0;34m\u001b[0m\u001b[0m\n\u001b[0;32m--> 303\u001b[0;31m                                        conv_tol=self.adc_tol)\n\u001b[0m\u001b[1;32m    304\u001b[0m \u001b[0;34m\u001b[0m\u001b[0m\n\u001b[1;32m    305\u001b[0m                 \u001b[0;32mif\u001b[0m \u001b[0mverbose\u001b[0m\u001b[0;34m:\u001b[0m\u001b[0;34m\u001b[0m\u001b[0;34m\u001b[0m\u001b[0m\n",
      "\u001b[0;32m/opt/miniconda3/envs/echem/lib/python3.7/site-packages/adcc/workflow.py\u001b[0m in \u001b[0;36mrun_adc\u001b[0;34m(data_or_matrix, n_states, kind, conv_tol, eigensolver, guesses, n_guesses, n_guesses_doubles, output, core_orbitals, frozen_core, frozen_virtual, method, n_singlets, n_triplets, n_spin_flip, environment, **solverargs)\u001b[0m\n\u001b[1;32m    179\u001b[0m     matrix = construct_adcmatrix(\n\u001b[1;32m    180\u001b[0m         \u001b[0mdata_or_matrix\u001b[0m\u001b[0;34m,\u001b[0m \u001b[0mcore_orbitals\u001b[0m\u001b[0;34m=\u001b[0m\u001b[0mcore_orbitals\u001b[0m\u001b[0;34m,\u001b[0m \u001b[0mfrozen_core\u001b[0m\u001b[0;34m=\u001b[0m\u001b[0mfrozen_core\u001b[0m\u001b[0;34m,\u001b[0m\u001b[0;34m\u001b[0m\u001b[0;34m\u001b[0m\u001b[0m\n\u001b[0;32m--> 181\u001b[0;31m         frozen_virtual=frozen_virtual, method=method)\n\u001b[0m\u001b[1;32m    182\u001b[0m \u001b[0;34m\u001b[0m\u001b[0m\n\u001b[1;32m    183\u001b[0m     n_states, kind = validate_state_parameters(\n",
      "\u001b[0;32m/opt/miniconda3/envs/echem/lib/python3.7/site-packages/adcc/workflow.py\u001b[0m in \u001b[0;36mconstruct_adcmatrix\u001b[0;34m(data_or_matrix, core_orbitals, frozen_core, frozen_virtual, method)\u001b[0m\n\u001b[1;32m    246\u001b[0m                                            \u001b[0mcore_orbitals\u001b[0m\u001b[0;34m=\u001b[0m\u001b[0mcore_orbitals\u001b[0m\u001b[0;34m,\u001b[0m\u001b[0;34m\u001b[0m\u001b[0;34m\u001b[0m\u001b[0m\n\u001b[1;32m    247\u001b[0m                                            \u001b[0mfrozen_core\u001b[0m\u001b[0;34m=\u001b[0m\u001b[0mfrozen_core\u001b[0m\u001b[0;34m,\u001b[0m\u001b[0;34m\u001b[0m\u001b[0;34m\u001b[0m\u001b[0m\n\u001b[0;32m--> 248\u001b[0;31m                                            frozen_virtual=frozen_virtual)\n\u001b[0m\u001b[1;32m    249\u001b[0m         \u001b[0;32mexcept\u001b[0m \u001b[0mValueError\u001b[0m \u001b[0;32mas\u001b[0m \u001b[0me\u001b[0m\u001b[0;34m:\u001b[0m\u001b[0;34m\u001b[0m\u001b[0;34m\u001b[0m\u001b[0m\n\u001b[1;32m    250\u001b[0m             \u001b[0;32mraise\u001b[0m \u001b[0mInputError\u001b[0m\u001b[0;34m(\u001b[0m\u001b[0mstr\u001b[0m\u001b[0;34m(\u001b[0m\u001b[0me\u001b[0m\u001b[0;34m)\u001b[0m\u001b[0;34m)\u001b[0m  \u001b[0;31m# In case of an issue with the spaces\u001b[0m\u001b[0;34m\u001b[0m\u001b[0;34m\u001b[0m\u001b[0m\n",
      "\u001b[0;32m/opt/miniconda3/envs/echem/lib/python3.7/site-packages/adcc/ReferenceState.py\u001b[0m in \u001b[0;36m__init__\u001b[0;34m(self, hfdata, core_orbitals, frozen_core, frozen_virtual, symmetry_check_on_import, import_all_below_n_orbs)\u001b[0m\n\u001b[1;32m    140\u001b[0m         \"\"\"\n\u001b[1;32m    141\u001b[0m         \u001b[0;32mif\u001b[0m \u001b[0;32mnot\u001b[0m \u001b[0misinstance\u001b[0m\u001b[0;34m(\u001b[0m\u001b[0mhfdata\u001b[0m\u001b[0;34m,\u001b[0m \u001b[0mlibadcc\u001b[0m\u001b[0;34m.\u001b[0m\u001b[0mHartreeFockSolution_i\u001b[0m\u001b[0;34m)\u001b[0m\u001b[0;34m:\u001b[0m\u001b[0;34m\u001b[0m\u001b[0;34m\u001b[0m\u001b[0m\n\u001b[0;32m--> 142\u001b[0;31m             \u001b[0mhfdata\u001b[0m \u001b[0;34m=\u001b[0m \u001b[0mimport_scf_results\u001b[0m\u001b[0;34m(\u001b[0m\u001b[0mhfdata\u001b[0m\u001b[0;34m)\u001b[0m\u001b[0;34m\u001b[0m\u001b[0;34m\u001b[0m\u001b[0m\n\u001b[0m\u001b[1;32m    143\u001b[0m \u001b[0;34m\u001b[0m\u001b[0m\n\u001b[1;32m    144\u001b[0m         self._mospaces = MoSpaces(hfdata, frozen_core=frozen_core,\n",
      "\u001b[0;32m/opt/miniconda3/envs/echem/lib/python3.7/site-packages/adcc/backends/__init__.py\u001b[0m in \u001b[0;36mimport_scf_results\u001b[0;34m(res)\u001b[0m\n\u001b[1;32m     58\u001b[0m     \u001b[0;32mand\u001b[0m \u001b[0mguess\u001b[0m \u001b[0mwhat\u001b[0m \u001b[0mthe\u001b[0m \u001b[0mhost\u001b[0m \u001b[0mprogram\u001b[0m \u001b[0mwas\u001b[0m \u001b[0;32mand\u001b[0m \u001b[0mhow\u001b[0m \u001b[0mto\u001b[0m \u001b[0;32mimport\u001b[0m \u001b[0mit\u001b[0m\u001b[0;34m.\u001b[0m\u001b[0;34m\u001b[0m\u001b[0;34m\u001b[0m\u001b[0m\n\u001b[1;32m     59\u001b[0m     \"\"\"\n\u001b[0;32m---> 60\u001b[0;31m     \u001b[0;32mif\u001b[0m \u001b[0mhave_backend\u001b[0m\u001b[0;34m(\u001b[0m\u001b[0;34m\"pyscf\"\u001b[0m\u001b[0;34m)\u001b[0m\u001b[0;34m:\u001b[0m\u001b[0;34m\u001b[0m\u001b[0;34m\u001b[0m\u001b[0m\n\u001b[0m\u001b[1;32m     61\u001b[0m         \u001b[0;32mfrom\u001b[0m \u001b[0;34m.\u001b[0m \u001b[0;32mimport\u001b[0m \u001b[0mpyscf\u001b[0m \u001b[0;32mas\u001b[0m \u001b[0mbackend_pyscf\u001b[0m\u001b[0;34m\u001b[0m\u001b[0;34m\u001b[0m\u001b[0m\n\u001b[1;32m     62\u001b[0m         \u001b[0;32mfrom\u001b[0m \u001b[0mpyscf\u001b[0m \u001b[0;32mimport\u001b[0m \u001b[0mscf\u001b[0m\u001b[0;34m\u001b[0m\u001b[0;34m\u001b[0m\u001b[0m\n",
      "\u001b[0;32m/opt/miniconda3/envs/echem/lib/python3.7/site-packages/adcc/backends/__init__.py\u001b[0m in \u001b[0;36mhave_backend\u001b[0;34m(backend)\u001b[0m\n\u001b[1;32m     50\u001b[0m \u001b[0;32mdef\u001b[0m \u001b[0mhave_backend\u001b[0m\u001b[0;34m(\u001b[0m\u001b[0mbackend\u001b[0m\u001b[0;34m)\u001b[0m\u001b[0;34m:\u001b[0m\u001b[0;34m\u001b[0m\u001b[0;34m\u001b[0m\u001b[0m\n\u001b[1;32m     51\u001b[0m     \u001b[0;34m\"\"\"Is a particular backend available?\"\"\"\u001b[0m\u001b[0;34m\u001b[0m\u001b[0;34m\u001b[0m\u001b[0m\n\u001b[0;32m---> 52\u001b[0;31m     \u001b[0;32mreturn\u001b[0m \u001b[0mbackend\u001b[0m \u001b[0;32min\u001b[0m \u001b[0mavailable\u001b[0m\u001b[0;34m(\u001b[0m\u001b[0;34m)\u001b[0m\u001b[0;34m\u001b[0m\u001b[0;34m\u001b[0m\u001b[0m\n\u001b[0m\u001b[1;32m     53\u001b[0m \u001b[0;34m\u001b[0m\u001b[0m\n\u001b[1;32m     54\u001b[0m \u001b[0;34m\u001b[0m\u001b[0m\n",
      "\u001b[0;32m/opt/miniconda3/envs/echem/lib/python3.7/site-packages/adcc/backends/__init__.py\u001b[0m in \u001b[0;36mavailable\u001b[0;34m()\u001b[0m\n\u001b[1;32m     39\u001b[0m     \u001b[0;32mif\u001b[0m \u001b[0;32mnot\u001b[0m \u001b[0m__status\u001b[0m\u001b[0;34m:\u001b[0m\u001b[0;34m\u001b[0m\u001b[0;34m\u001b[0m\u001b[0m\n\u001b[1;32m     40\u001b[0m         status = {\n\u001b[0;32m---> 41\u001b[0;31m             \u001b[0;34m\"pyscf\"\u001b[0m\u001b[0;34m:\u001b[0m \u001b[0mis_module_available\u001b[0m\u001b[0;34m(\u001b[0m\u001b[0;34m\"pyscf\"\u001b[0m\u001b[0;34m,\u001b[0m \u001b[0;34m\"1.5.0\"\u001b[0m\u001b[0;34m)\u001b[0m\u001b[0;34m,\u001b[0m\u001b[0;34m\u001b[0m\u001b[0;34m\u001b[0m\u001b[0m\n\u001b[0m\u001b[1;32m     42\u001b[0m             \"psi4\": (is_module_available(\"psi4\", \"1.3.0\")\n\u001b[1;32m     43\u001b[0m                      and is_module_available(\"psi4.core\")),\n",
      "\u001b[0;32m/opt/miniconda3/envs/echem/lib/python3.7/site-packages/adcc/misc.py\u001b[0m in \u001b[0;36mis_module_available\u001b[0;34m(module, min_version)\u001b[0m\n\u001b[1;32m    123\u001b[0m \u001b[0;34m\u001b[0m\u001b[0m\n\u001b[1;32m    124\u001b[0m     \u001b[0;32mtry\u001b[0m\u001b[0;34m:\u001b[0m\u001b[0;34m\u001b[0m\u001b[0;34m\u001b[0m\u001b[0m\n\u001b[0;32m--> 125\u001b[0;31m         \u001b[0mmod\u001b[0m \u001b[0;34m=\u001b[0m \u001b[0mimportlib\u001b[0m\u001b[0;34m.\u001b[0m\u001b[0mimport_module\u001b[0m\u001b[0;34m(\u001b[0m\u001b[0mmodule\u001b[0m\u001b[0;34m)\u001b[0m\u001b[0;34m\u001b[0m\u001b[0;34m\u001b[0m\u001b[0m\n\u001b[0m\u001b[1;32m    126\u001b[0m     \u001b[0;32mexcept\u001b[0m \u001b[0mImportError\u001b[0m\u001b[0;34m:\u001b[0m\u001b[0;34m\u001b[0m\u001b[0;34m\u001b[0m\u001b[0m\n\u001b[1;32m    127\u001b[0m         \u001b[0;32mreturn\u001b[0m \u001b[0;32mFalse\u001b[0m\u001b[0;34m\u001b[0m\u001b[0;34m\u001b[0m\u001b[0m\n",
      "\u001b[0;32m/opt/miniconda3/envs/echem/lib/python3.7/importlib/__init__.py\u001b[0m in \u001b[0;36mimport_module\u001b[0;34m(name, package)\u001b[0m\n\u001b[1;32m    125\u001b[0m                 \u001b[0;32mbreak\u001b[0m\u001b[0;34m\u001b[0m\u001b[0;34m\u001b[0m\u001b[0m\n\u001b[1;32m    126\u001b[0m             \u001b[0mlevel\u001b[0m \u001b[0;34m+=\u001b[0m \u001b[0;36m1\u001b[0m\u001b[0;34m\u001b[0m\u001b[0;34m\u001b[0m\u001b[0m\n\u001b[0;32m--> 127\u001b[0;31m     \u001b[0;32mreturn\u001b[0m \u001b[0m_bootstrap\u001b[0m\u001b[0;34m.\u001b[0m\u001b[0m_gcd_import\u001b[0m\u001b[0;34m(\u001b[0m\u001b[0mname\u001b[0m\u001b[0;34m[\u001b[0m\u001b[0mlevel\u001b[0m\u001b[0;34m:\u001b[0m\u001b[0;34m]\u001b[0m\u001b[0;34m,\u001b[0m \u001b[0mpackage\u001b[0m\u001b[0;34m,\u001b[0m \u001b[0mlevel\u001b[0m\u001b[0;34m)\u001b[0m\u001b[0;34m\u001b[0m\u001b[0;34m\u001b[0m\u001b[0m\n\u001b[0m\u001b[1;32m    128\u001b[0m \u001b[0;34m\u001b[0m\u001b[0m\n\u001b[1;32m    129\u001b[0m \u001b[0;34m\u001b[0m\u001b[0m\n",
      "\u001b[0;32m/opt/miniconda3/envs/echem/lib/python3.7/importlib/_bootstrap.py\u001b[0m in \u001b[0;36m_gcd_import\u001b[0;34m(name, package, level)\u001b[0m\n",
      "\u001b[0;32m/opt/miniconda3/envs/echem/lib/python3.7/importlib/_bootstrap.py\u001b[0m in \u001b[0;36m_find_and_load\u001b[0;34m(name, import_)\u001b[0m\n",
      "\u001b[0;32m/opt/miniconda3/envs/echem/lib/python3.7/importlib/_bootstrap.py\u001b[0m in \u001b[0;36m_find_and_load_unlocked\u001b[0;34m(name, import_)\u001b[0m\n",
      "\u001b[0;32m/opt/miniconda3/envs/echem/lib/python3.7/importlib/_bootstrap.py\u001b[0m in \u001b[0;36m_load_unlocked\u001b[0;34m(spec)\u001b[0m\n",
      "\u001b[0;32m/opt/miniconda3/envs/echem/lib/python3.7/importlib/_bootstrap_external.py\u001b[0m in \u001b[0;36mexec_module\u001b[0;34m(self, module)\u001b[0m\n",
      "\u001b[0;32m/opt/miniconda3/envs/echem/lib/python3.7/importlib/_bootstrap.py\u001b[0m in \u001b[0;36m_call_with_frames_removed\u001b[0;34m(f, *args, **kwds)\u001b[0m\n",
      "\u001b[0;32m/opt/miniconda3/envs/echem/lib/python3.7/site-packages/pyscf/__init__.py\u001b[0m in \u001b[0;36m<module>\u001b[0;34m\u001b[0m\n\u001b[1;32m     60\u001b[0m \u001b[0;32mfrom\u001b[0m \u001b[0mpyscf\u001b[0m \u001b[0;32mimport\u001b[0m \u001b[0m__config__\u001b[0m\u001b[0;34m\u001b[0m\u001b[0;34m\u001b[0m\u001b[0m\n\u001b[1;32m     61\u001b[0m \u001b[0;32mfrom\u001b[0m \u001b[0mpyscf\u001b[0m \u001b[0;32mimport\u001b[0m \u001b[0mlib\u001b[0m\u001b[0;34m\u001b[0m\u001b[0;34m\u001b[0m\u001b[0m\n\u001b[0;32m---> 62\u001b[0;31m \u001b[0;32mfrom\u001b[0m \u001b[0mpyscf\u001b[0m \u001b[0;32mimport\u001b[0m \u001b[0mgto\u001b[0m\u001b[0;34m\u001b[0m\u001b[0;34m\u001b[0m\u001b[0m\n\u001b[0m\u001b[1;32m     63\u001b[0m \u001b[0;32mfrom\u001b[0m \u001b[0mpyscf\u001b[0m \u001b[0;32mimport\u001b[0m \u001b[0mscf\u001b[0m\u001b[0;34m\u001b[0m\u001b[0;34m\u001b[0m\u001b[0m\n\u001b[1;32m     64\u001b[0m \u001b[0;32mfrom\u001b[0m \u001b[0mpyscf\u001b[0m \u001b[0;32mimport\u001b[0m \u001b[0mao2mo\u001b[0m\u001b[0;34m\u001b[0m\u001b[0;34m\u001b[0m\u001b[0m\n",
      "\u001b[0;32m/opt/miniconda3/envs/echem/lib/python3.7/site-packages/pyscf/gto/__init__.py\u001b[0m in \u001b[0;36m<module>\u001b[0;34m\u001b[0m\n\u001b[1;32m     17\u001b[0m \u001b[0;31m#\u001b[0m\u001b[0;34m\u001b[0m\u001b[0;34m\u001b[0m\u001b[0;34m\u001b[0m\u001b[0m\n\u001b[1;32m     18\u001b[0m \u001b[0;34m\u001b[0m\u001b[0m\n\u001b[0;32m---> 19\u001b[0;31m \u001b[0;32mfrom\u001b[0m \u001b[0mpyscf\u001b[0m\u001b[0;34m.\u001b[0m\u001b[0mgto\u001b[0m \u001b[0;32mimport\u001b[0m \u001b[0mmole\u001b[0m\u001b[0;34m\u001b[0m\u001b[0;34m\u001b[0m\u001b[0m\n\u001b[0m\u001b[1;32m     20\u001b[0m \u001b[0;32mfrom\u001b[0m \u001b[0mpyscf\u001b[0m\u001b[0;34m.\u001b[0m\u001b[0mgto\u001b[0m \u001b[0;32mimport\u001b[0m \u001b[0mbasis\u001b[0m\u001b[0;34m\u001b[0m\u001b[0;34m\u001b[0m\u001b[0m\n\u001b[1;32m     21\u001b[0m \u001b[0;32mfrom\u001b[0m \u001b[0mpyscf\u001b[0m\u001b[0;34m.\u001b[0m\u001b[0mgto\u001b[0m\u001b[0;34m.\u001b[0m\u001b[0mbasis\u001b[0m \u001b[0;32mimport\u001b[0m \u001b[0mparse\u001b[0m\u001b[0;34m,\u001b[0m \u001b[0mload\u001b[0m\u001b[0;34m,\u001b[0m \u001b[0mparse_ecp\u001b[0m\u001b[0;34m,\u001b[0m \u001b[0mload_ecp\u001b[0m\u001b[0;34m\u001b[0m\u001b[0;34m\u001b[0m\u001b[0m\n",
      "\u001b[0;32m/opt/miniconda3/envs/echem/lib/python3.7/site-packages/pyscf/gto/mole.py\u001b[0m in \u001b[0;36m<module>\u001b[0;34m\u001b[0m\n\u001b[1;32m     35\u001b[0m \u001b[0;32mfrom\u001b[0m \u001b[0mpyscf\u001b[0m\u001b[0;34m.\u001b[0m\u001b[0mgto\u001b[0m \u001b[0;32mimport\u001b[0m \u001b[0mcmd_args\u001b[0m\u001b[0;34m\u001b[0m\u001b[0;34m\u001b[0m\u001b[0m\n\u001b[1;32m     36\u001b[0m \u001b[0;32mfrom\u001b[0m \u001b[0mpyscf\u001b[0m\u001b[0;34m.\u001b[0m\u001b[0mgto\u001b[0m \u001b[0;32mimport\u001b[0m \u001b[0mbasis\u001b[0m\u001b[0;34m\u001b[0m\u001b[0;34m\u001b[0m\u001b[0m\n\u001b[0;32m---> 37\u001b[0;31m \u001b[0;32mfrom\u001b[0m \u001b[0mpyscf\u001b[0m\u001b[0;34m.\u001b[0m\u001b[0mgto\u001b[0m \u001b[0;32mimport\u001b[0m \u001b[0mmoleintor\u001b[0m\u001b[0;34m\u001b[0m\u001b[0;34m\u001b[0m\u001b[0m\n\u001b[0m\u001b[1;32m     38\u001b[0m \u001b[0;32mfrom\u001b[0m \u001b[0mpyscf\u001b[0m\u001b[0;34m.\u001b[0m\u001b[0mgto\u001b[0m\u001b[0;34m.\u001b[0m\u001b[0meval_gto\u001b[0m \u001b[0;32mimport\u001b[0m \u001b[0meval_gto\u001b[0m\u001b[0;34m\u001b[0m\u001b[0;34m\u001b[0m\u001b[0m\n\u001b[1;32m     39\u001b[0m \u001b[0;32mfrom\u001b[0m \u001b[0mpyscf\u001b[0m\u001b[0;34m.\u001b[0m\u001b[0mgto\u001b[0m \u001b[0;32mimport\u001b[0m \u001b[0mecp\u001b[0m\u001b[0;34m\u001b[0m\u001b[0;34m\u001b[0m\u001b[0m\n",
      "\u001b[0;32m/opt/miniconda3/envs/echem/lib/python3.7/site-packages/pyscf/gto/moleintor.py\u001b[0m in \u001b[0;36m<module>\u001b[0;34m\u001b[0m\n\u001b[1;32m     27\u001b[0m \u001b[0;32mfrom\u001b[0m \u001b[0mpyscf\u001b[0m \u001b[0;32mimport\u001b[0m \u001b[0mlib\u001b[0m\u001b[0;34m\u001b[0m\u001b[0;34m\u001b[0m\u001b[0m\n\u001b[1;32m     28\u001b[0m \u001b[0;34m\u001b[0m\u001b[0m\n\u001b[0;32m---> 29\u001b[0;31m \u001b[0mlibcgto\u001b[0m \u001b[0;34m=\u001b[0m \u001b[0mlib\u001b[0m\u001b[0;34m.\u001b[0m\u001b[0mload_library\u001b[0m\u001b[0;34m(\u001b[0m\u001b[0;34m'libcgto'\u001b[0m\u001b[0;34m)\u001b[0m\u001b[0;34m\u001b[0m\u001b[0;34m\u001b[0m\u001b[0m\n\u001b[0m\u001b[1;32m     30\u001b[0m \u001b[0;34m\u001b[0m\u001b[0m\n\u001b[1;32m     31\u001b[0m \u001b[0mANG_OF\u001b[0m     \u001b[0;34m=\u001b[0m \u001b[0;36m1\u001b[0m\u001b[0;34m\u001b[0m\u001b[0;34m\u001b[0m\u001b[0m\n",
      "\u001b[0;32m/opt/miniconda3/envs/echem/lib/python3.7/site-packages/pyscf/lib/misc.py\u001b[0m in \u001b[0;36mload_library\u001b[0;34m(libname)\u001b[0m\n\u001b[1;32m     58\u001b[0m             \u001b[0;32mraise\u001b[0m \u001b[0mOSError\u001b[0m\u001b[0;34m(\u001b[0m\u001b[0;34m'Unknown platform'\u001b[0m\u001b[0;34m)\u001b[0m\u001b[0;34m\u001b[0m\u001b[0;34m\u001b[0m\u001b[0m\n\u001b[1;32m     59\u001b[0m         \u001b[0mlibname_so\u001b[0m \u001b[0;34m=\u001b[0m \u001b[0mlibname\u001b[0m \u001b[0;34m+\u001b[0m \u001b[0mso_ext\u001b[0m\u001b[0;34m\u001b[0m\u001b[0;34m\u001b[0m\u001b[0m\n\u001b[0;32m---> 60\u001b[0;31m         \u001b[0;32mreturn\u001b[0m \u001b[0mctypes\u001b[0m\u001b[0;34m.\u001b[0m\u001b[0mCDLL\u001b[0m\u001b[0;34m(\u001b[0m\u001b[0mos\u001b[0m\u001b[0;34m.\u001b[0m\u001b[0mpath\u001b[0m\u001b[0;34m.\u001b[0m\u001b[0mjoin\u001b[0m\u001b[0;34m(\u001b[0m\u001b[0mos\u001b[0m\u001b[0;34m.\u001b[0m\u001b[0mpath\u001b[0m\u001b[0;34m.\u001b[0m\u001b[0mdirname\u001b[0m\u001b[0;34m(\u001b[0m\u001b[0m__file__\u001b[0m\u001b[0;34m)\u001b[0m\u001b[0;34m,\u001b[0m \u001b[0mlibname_so\u001b[0m\u001b[0;34m)\u001b[0m\u001b[0;34m)\u001b[0m\u001b[0;34m\u001b[0m\u001b[0;34m\u001b[0m\u001b[0m\n\u001b[0m\u001b[1;32m     61\u001b[0m     \u001b[0;32melse\u001b[0m\u001b[0;34m:\u001b[0m\u001b[0;34m\u001b[0m\u001b[0;34m\u001b[0m\u001b[0m\n\u001b[1;32m     62\u001b[0m         \u001b[0m_loaderpath\u001b[0m \u001b[0;34m=\u001b[0m \u001b[0mos\u001b[0m\u001b[0;34m.\u001b[0m\u001b[0mpath\u001b[0m\u001b[0;34m.\u001b[0m\u001b[0mdirname\u001b[0m\u001b[0;34m(\u001b[0m\u001b[0m__file__\u001b[0m\u001b[0;34m)\u001b[0m\u001b[0;34m\u001b[0m\u001b[0;34m\u001b[0m\u001b[0m\n",
      "\u001b[0;32m/opt/miniconda3/envs/echem/lib/python3.7/ctypes/__init__.py\u001b[0m in \u001b[0;36m__init__\u001b[0;34m(self, name, mode, handle, use_errno, use_last_error)\u001b[0m\n\u001b[1;32m    362\u001b[0m \u001b[0;34m\u001b[0m\u001b[0m\n\u001b[1;32m    363\u001b[0m         \u001b[0;32mif\u001b[0m \u001b[0mhandle\u001b[0m \u001b[0;32mis\u001b[0m \u001b[0;32mNone\u001b[0m\u001b[0;34m:\u001b[0m\u001b[0;34m\u001b[0m\u001b[0;34m\u001b[0m\u001b[0m\n\u001b[0;32m--> 364\u001b[0;31m             \u001b[0mself\u001b[0m\u001b[0;34m.\u001b[0m\u001b[0m_handle\u001b[0m \u001b[0;34m=\u001b[0m \u001b[0m_dlopen\u001b[0m\u001b[0;34m(\u001b[0m\u001b[0mself\u001b[0m\u001b[0;34m.\u001b[0m\u001b[0m_name\u001b[0m\u001b[0;34m,\u001b[0m \u001b[0mmode\u001b[0m\u001b[0;34m)\u001b[0m\u001b[0;34m\u001b[0m\u001b[0;34m\u001b[0m\u001b[0m\n\u001b[0m\u001b[1;32m    365\u001b[0m         \u001b[0;32melse\u001b[0m\u001b[0;34m:\u001b[0m\u001b[0;34m\u001b[0m\u001b[0;34m\u001b[0m\u001b[0m\n\u001b[1;32m    366\u001b[0m             \u001b[0mself\u001b[0m\u001b[0;34m.\u001b[0m\u001b[0m_handle\u001b[0m \u001b[0;34m=\u001b[0m \u001b[0mhandle\u001b[0m\u001b[0;34m\u001b[0m\u001b[0;34m\u001b[0m\u001b[0m\n",
      "\u001b[0;31mOSError\u001b[0m: dlopen(/opt/miniconda3/envs/echem/lib/python3.7/site-packages/pyscf/lib/libcgto.dylib, 0x0006): Library not loaded: '@rpath/libcint.3.0.13.dylib'\n  Referenced from: '/opt/miniconda3/envs/echem/lib/python3.7/site-packages/pyscf/lib/libcgto.dylib'\n  Reason: tried: '/opt/miniconda3/envs/echem/lib/python3.7/site-packages/pyscf/lib/../../../../libcint.3.0.13.dylib' (no such file), '/opt/miniconda3/envs/echem/lib/python3.7/site-packages/pyscf/lib/../../../../libcint.3.0.13.dylib' (no such file), '/opt/miniconda3/envs/echem/lib/libcint.3.0.13.dylib' (no such file), '/opt/miniconda3/envs/echem/lib/libcint.3.0.13.dylib' (no such file), '/opt/miniconda3/envs/echem/lib/python3.7/lib-dynload/../../libcint.3.0.13.dylib' (no such file), '/opt/miniconda3/envs/echem/lib/libcint.3.0.13.dylib' (no such file), '/opt/miniconda3/envs/echem/bin/../lib/libcint.3.0.13.dylib' (no such file), '/usr/local/lib/libcint.3.0.13.dylib' (no such file), '/usr/lib/libcint.3.0.13.dylib' (no such file)"
     ]
    }
   ],
   "source": [
    "adc_results = gator.run_adc(lih, basis, scf, verbose=False, method='adc1',\n",
    "                            singlets=nexc, tol=1e-5)"
   ]
  },
  {
   "cell_type": "code",
   "execution_count": 112,
   "id": "d60041b8-477e-40cd-aa0b-7c2f00858c4b",
   "metadata": {
    "tags": [
     "hide-output"
    ]
   },
   "outputs": [
    {
     "name": "stdout",
     "output_type": "stream",
     "text": [
      "+----------------------------------------------------+\n",
      "| adc1                          singlet ,  converged |\n",
      "+----------------------------------------------------+\n",
      "|  #        excitation energy     osc str    |v1|^2  |\n",
      "|          (au)           (eV)                       |\n",
      "|  0     0.1654741      4.502781   0.0027         1  |\n",
      "|  1     0.2281949        6.2095   0.2522         1  |\n",
      "|  2     0.2281949        6.2095   0.2522         1  |\n",
      "|  3      0.715084      19.45843   0.0042         1  |\n",
      "|  4      2.092884      56.95026   0.0689         1  |\n",
      "|  5      2.152797      58.58059   0.1225         1  |\n",
      "|  6      2.152797      58.58059   0.1225         1  |\n",
      "|  7      2.614337      71.13974   0.0000         1  |\n",
      "+----------------------------------------------------+\n",
      "\n"
     ]
    },
    {
     "data": {
      "text/plain": [
       "[<matplotlib.lines.Line2D at 0x7f17f9596bb0>,\n",
       " <matplotlib.lines.Line2D at 0x7f17f958ab20>]"
      ]
     },
     "execution_count": 112,
     "metadata": {},
     "output_type": "execute_result"
    },
    {
     "data": {
      "image/png": "[encoded data removed]",
      "text/plain": [
       "<Figure size 432x288 with 1 Axes>"
      ]
     },
     "metadata": {
      "needs_background": "light"
     },
     "output_type": "display_data"
    }
   ],
   "source": [
    "# We can print a summary of the results\n",
    "print(adc_results.describe())\n",
    "\n",
    "# Or plot the absorbtion spectrum\n",
    "adc_results.plot_spectrum(label='adc(1)')"
   ]
  },
  {
   "cell_type": "markdown",
   "id": "62569d41-59ee-45a4-9d0e-180b749ff6e7",
   "metadata": {},
   "source": [
    "```python\n",
    "# Compare the two results for the excitation energies\n",
    "# Gator saves them in the member variable \"excitation_energy\"\n",
    "print(\"Closed-shell ADC(1)/STO-3G eigenvalues:\\n\", ...)\n",
    "print(\"\\nADC(1)/STO-3G singlet excitation energies:\\n\", ...)\n",
    "```"
   ]
  },
  {
   "cell_type": "code",
   "execution_count": 15,
   "id": "60b89820-a36a-4ce9-878f-340a70b63e84",
   "metadata": {
    "tags": [
     "hide-output",
     "hide-input"
    ]
   },
   "outputs": [
    {
     "name": "stdout",
     "output_type": "stream",
     "text": [
      "Closed-shell ADC(1)/STO-3G eigenvalues:\n",
      " [0.16547 0.22819 0.22819 0.71508 2.09288 2.1528  2.1528  2.61434]\n",
      "\n",
      "ADC(1)/STO-3G singlet excitation energies:\n",
      " [0.16547 0.22819 0.22819 0.71508 2.09288 2.1528  2.1528  2.61434]\n"
     ]
    }
   ],
   "source": [
    "# Compare the two results for the excitation energies\n",
    "print(\"Closed-shell ADC(1)/STO-3G eigenvalues:\\n\", adc1_eigvals)\n",
    "print(\"\\nADC(1)/STO-3G singlet excitation energies:\\n\", adc_results.excitation_energy)"
   ]
  },
  {
   "cell_type": "markdown",
   "id": "a5f48d06-366f-46f7-be2e-7a6d709b2641",
   "metadata": {},
   "source": [
    "- You should see that the two results are identical\n",
    "\n",
    "## Obtain and diagonalize the full ADC(1) matrix\n",
    "\n",
    "- One can get the full ADC(1) matrix in spin-orbital basis from Gator\n",
    "- Confirm that it is four times as large as the closed-shell restricted one (having $\\alpha\\alpha, \\alpha\\beta, \\beta\\alpha$, and $\\beta\\beta$ blocks)\n",
    "- The next task is to diagonalize it and have a look at the excitation energies and their degeneracies\n",
    "- Can you assign term symbols (singlet or triplet, $\\Sigma$ or $\\Pi$ state) to the respective excited states?\n",
    "    - Hint: the symmetry labels of the orbitals and degeneracies should be able to help you"
   ]
  },
  {
   "cell_type": "markdown",
   "id": "ef5e8e49-1184-4d29-97d2-c07c90842dd2",
   "metadata": {},
   "source": [
    "```python\n",
    "# This is the full matrix\n",
    "gator_adc_matrix = adc_results.matrix.to_ndarray()\n",
    "# Print the matrix and its shape\n",
    "...\n",
    "```"
   ]
  },
  {
   "cell_type": "code",
   "execution_count": 9,
   "id": "9e0692f4-1cac-4eb9-a427-3b3e80453674",
   "metadata": {
    "tags": [
     "hide-output",
     "hide-input"
    ]
   },
   "outputs": [
    {
     "name": "stdout",
     "output_type": "stream",
     "text": [
      "(32, 32)\n",
      "[[ 2.07311 -0.      -0.      ...  0.       0.      -0.01296]\n",
      " [-0.       2.14264  0.      ... -0.00831  0.       0.     ]\n",
      " [-0.       0.       2.14264 ...  0.      -0.00831 -0.     ]\n",
      " ...\n",
      " [ 0.      -0.00831  0.      ...  0.20128  0.       0.     ]\n",
      " [ 0.       0.      -0.00831 ...  0.       0.20128 -0.     ]\n",
      " [-0.01296  0.      -0.      ...  0.      -0.       0.59268]]\n"
     ]
    }
   ],
   "source": [
    "gator_adc_matrix = adc_results.matrix.to_ndarray()\n",
    "print(gator_adc_matrix.shape)\n",
    "print(gator_adc_matrix)"
   ]
  },
  {
   "cell_type": "markdown",
   "id": "be2911af-f15b-46b1-bad5-2b2bb2748c04",
   "metadata": {},
   "source": [
    "```python\n",
    "# Diagonalize the ADC(1) matrix from Gator to obtain excitation energies and vectors\n",
    "gator_adc1_eigvals, gator_adc1_eigvecs = np.linalg.eigh(...)\n",
    "\n",
    "print(\"Excitation energies from spin-orbital ADC(1)/STO-3G matrix:\\n\", ...)\n",
    "```"
   ]
  },
  {
   "cell_type": "code",
   "execution_count": 10,
   "id": "b1024d31-373c-460d-9b8c-fd4cad6e2bfe",
   "metadata": {
    "tags": [
     "hide-output",
     "hide-input"
    ]
   },
   "outputs": [
    {
     "name": "stdout",
     "output_type": "stream",
     "text": [
      "Excitation energies from spin-orbital ADC(1)/STO-3G matrix:\n",
      " [0.13954 0.13954 0.13954 0.16547 0.17408 0.17408 0.17408 0.17408 0.17408\n",
      " 0.17408 0.22819 0.22819 0.47721 0.47721 0.47721 0.71508 2.05306 2.05306\n",
      " 2.05306 2.09288 2.13277 2.13277 2.13277 2.13277 2.13277 2.13277 2.1528\n",
      " 2.1528  2.60108 2.60108 2.60108 2.61434]\n"
     ]
    }
   ],
   "source": [
    "# Diagonalize the ADC(1) matrix from Gator to obtain excitation energies and vectors\n",
    "gator_adc1_eigvals, gator_adc1_eigvecs = np.linalg.eigh(gator_adc_matrix)\n",
    "print(\"Excitation energies from spin-orbital ADC(1)/STO-3G matrix:\\n\", gator_adc1_eigvals)"
   ]
  },
  {
   "cell_type": "markdown",
   "id": "6385e067-08e5-467e-829f-5329f1f1246f",
   "metadata": {},
   "source": [
    "```{toggle}\n",
    "- The first excited state is triply (spin) degenerate: $^3\\Sigma$\n",
    "- The second one is singly degenerate: $^1\\Sigma$\n",
    "- The third one is six (two spatial and three spin) times degenerate: $^3\\Pi$\n",
    "- The fourth one is doubly (spatial) degenerate: $^1\\Pi$\n",
    "- The fifth one is again triply degenerate: $^3\\Sigma$\n",
    "- The sixth one is again singly degenerate: $^1\\Sigma$\n",
    "- This pattern then repeats for the following (core-excited) states\n",
    "- $\\Sigma$ states ($\\Lambda = 0$) arise from $\\sigma \\to \\sigma^*$ transitions, $\\Pi$ states ($\\Lambda = \\pm 1$) from $\\sigma \\to \\pi^*$ transitions\n",
    "```"
   ]
  },
  {
   "cell_type": "markdown",
   "id": "b894136a-1e37-46cd-b0ee-7c9b4fe99f1d",
   "metadata": {},
   "source": [
    "```python\n",
    "# With gator, one can also look at the excitation vectors ...\n",
    "print(\"ph vector shape:\", adc_results.excitation_vector[0].ph.shape)\n",
    "\n",
    "# ... and have it print out the most important vector amplitudes\n",
    "print(adc_results.describe_amplitudes())\n",
    "```"
   ]
  },
  {
   "cell_type": "code",
   "execution_count": 11,
   "id": "ab19a2d6-9711-4483-a927-afced81d31fc",
   "metadata": {
    "scrolled": true,
    "tags": [
     "hide-output",
     "hide-input"
    ]
   },
   "outputs": [
    {
     "name": "stdout",
     "output_type": "stream",
     "text": [
      "ph vector shape: (4, 8)\n",
      "+-----------------------------------+\n",
      "| State   0 ,     0.1654741 au      |\n",
      "+-----------------------------------+\n",
      "| HOMO   -> LUMO    a->a     +0.707 |\n",
      "| HOMO   -> LUMO+3  a->a    -0.0118 |\n",
      "\n",
      "+-----------------------------------+\n",
      "| State   1 ,     0.2281949 au      |\n",
      "+-----------------------------------+\n",
      "| HOMO   -> LUMO+2  a->a     +0.596 |\n",
      "| HOMO   -> LUMO+1  a->a      -0.38 |\n",
      "\n",
      "+-----------------------------------+\n",
      "| State   2 ,     0.2281949 au      |\n",
      "+-----------------------------------+\n",
      "| HOMO   -> LUMO+1  a->a     +0.596 |\n",
      "| HOMO   -> LUMO+2  a->a      +0.38 |\n",
      "\n",
      "+-----------------------------------+\n",
      "| State   3 ,      0.715084 au      |\n",
      "+-----------------------------------+\n",
      "| HOMO   -> LUMO+3  a->a     +0.707 |\n",
      "| HOMO   -> LUMO    a->a    +0.0117 |\n",
      "\n",
      "+-----------------------------------+\n",
      "| State   4 ,      2.092884 au      |\n",
      "+-----------------------------------+\n",
      "| HOMO-1 -> LUMO    a->a     -0.707 |\n",
      "\n",
      "+-----------------------------------+\n",
      "| State   5 ,      2.152797 au      |\n",
      "+-----------------------------------+\n",
      "| HOMO-1 -> LUMO+2  a->a     -0.585 |\n",
      "| HOMO-1 -> LUMO+1  a->a     +0.397 |\n",
      "\n",
      "+-----------------------------------+\n",
      "| State   6 ,      2.152797 au      |\n",
      "+-----------------------------------+\n",
      "| HOMO-1 -> LUMO+1  a->a     +0.585 |\n",
      "| HOMO-1 -> LUMO+2  a->a     +0.397 |\n",
      "\n",
      "+-----------------------------------+\n",
      "| State   7 ,      2.614337 au      |\n",
      "+-----------------------------------+\n",
      "| HOMO-1 -> LUMO+3  a->a     -0.707 |\n"
     ]
    }
   ],
   "source": [
    "# With gator, one can also look at the excitation vectors ...\n",
    "print(\"ph vector shape:\", adc_results.excitation_vector[0].ph.shape)\n",
    "# ... and have it print out the most important vector amplitudes\n",
    "print(adc_results.describe_amplitudes())"
   ]
  },
  {
   "cell_type": "markdown",
   "id": "725c7ac7-cab5-4dff-a8db-e7afe41b6fff",
   "metadata": {},
   "source": [
    "- You can also calculate the triplet states to confirm that your assignments were correct\n",
    "- Info: setting `states=...` calculates both singlet and triplet states"
   ]
  },
  {
   "cell_type": "markdown",
   "id": "c35e9a6a-d6ef-4973-bb67-7aa08a3d588f",
   "metadata": {},
   "source": [
    "```python\n",
    "# Calculate triplet excited states\n",
    "adc_triplet_results = gator.run_adc(lih, basis, scf, verbose=False, method='adc1',\n",
    "                            triplets=nexc, tol=1e-5)\n",
    "\n",
    "# Print the triplet excitation energies and compare \n",
    "...\n",
    "```"
   ]
  },
  {
   "cell_type": "code",
   "execution_count": 16,
   "id": "a897551e-2007-44a7-8d21-f1607e4b3030",
   "metadata": {
    "scrolled": true,
    "tags": [
     "hide-output",
     "hide-input"
    ]
   },
   "outputs": [
    {
     "name": "stdout",
     "output_type": "stream",
     "text": [
      "Starting adc1 triplet Jacobi-Davidson ...\n",
      "Niter n_ss  max_residual  time  Ritz values\n",
      "  1     8    3.2231e-30   55ms  [0.13954 0.17408 0.17408 0.47721 2.05306 2.13277 2.13277]\n",
      "=== Converged ===\n",
      "    Number of matrix applies:    8\n",
      "    Total solver time:           60.217ms\n",
      "+----------------------------------------------------+\n",
      "| adc1                          triplet ,  converged |\n",
      "+----------------------------------------------------+\n",
      "|  #        excitation energy     osc str    |v1|^2  |\n",
      "|          (au)           (eV)                       |\n",
      "|  0     0.1395385      3.797035   0.0000         1  |\n",
      "|  1     0.1740783      4.736913   0.0000         1  |\n",
      "|  2     0.1740783      4.736913   0.0000         1  |\n",
      "|  3     0.4772148      12.98568   0.0000         1  |\n",
      "|  4      2.053065      55.86674   0.0000         1  |\n",
      "|  5      2.132768      58.03556   0.0000         1  |\n",
      "|  6      2.132768      58.03556   0.0000         1  |\n",
      "|  7      2.601084       70.7791   0.0000         1  |\n",
      "+----------------------------------------------------+\n",
      "\n",
      "[0.16547 0.22819 0.22819 0.71508 2.09288 2.1528  2.1528  2.61434]\n",
      "[0.16547 0.22819 0.22819 0.71508 2.09288 2.1528  2.1528  2.61434]\n",
      "[0.13954 0.17408 0.17408 0.47721 2.05306 2.13277 2.13277 2.60108]\n"
     ]
    }
   ],
   "source": [
    "adc_triplet_results = gator.run_adc(lih, basis, scf, verbose=False, method='adc1',\n",
    "                            triplets=nexc, tol=1e-5, frozen_core=None, frozen_virtual=None)\n",
    "\n",
    "print(adc_triplet_results.describe())\n",
    "\n",
    "print(adc1_eigvals)\n",
    "print(adc_results.excitation_energy)\n",
    "print(adc_triplet_results.excitation_energy)"
   ]
  },
  {
   "cell_type": "markdown",
   "id": "42a1ffce-3c72-4e04-9da4-d014974e404d",
   "metadata": {},
   "source": [
    "- Note that you can calculate 8 triplet states (at most), but they are all triply degenerate, so in total this corresponds to 24 states\n",
    "- Together with the 8 singlets this gives 32 states, the dimension of the full ADC(1)/STO-3G matrix for LiH"
   ]
  },
  {
   "cell_type": "markdown",
   "id": "19ae2c22-8167-45f7-861b-9e5cfbeefd8e",
   "metadata": {},
   "source": [
    "## Core-excited states and core-valence separation (CVS) approximation\n",
    "\n",
    "- From the above results for the (singlet or triplet) excitation energies, you see that they can be divided into two groups (consisting of 4 excited states each):\n",
    "  - Those with an excitation energy $<$0.75 Hartree (singlets) or $<$0.5 Hartree (triplets)\n",
    "  - Those with an excitation energy $>$2 Hartree\n",
    "- The first group can be considered __valence excitations__ (from the filled bonding orbital), the second group are __core excitations__ (from the Li 1s orbital)\n",
    "- __Core-excited states__ can also be targeted directly by employing the CVS approximation\n",
    "- Perform a CVS-ADC(1) calculation with Gator by setting the corresponding method, adjusting the number of states, and setting `core_orbitals=1`\n",
    "- Compare the excitation energies with the corresponding ones from the previous calculation"
   ]
  },
  {
   "cell_type": "markdown",
   "id": "044e7e4d-2565-4b9e-a720-cf17e704083c",
   "metadata": {},
   "source": [
    "```python\n",
    "# Run CVS-ADC(1) calculation with Gator\n",
    "...\n",
    "\n",
    "# Compare the CVS-ADC(1) results with the core-excitation energies from the full (singlet) diagonalization (convert to eV)\n",
    "...\n",
    "```"
   ]
  },
  {
   "cell_type": "code",
   "execution_count": 17,
   "id": "39439a94-f9d4-4a2a-8910-65aa64286cca",
   "metadata": {
    "scrolled": true,
    "tags": [
     "hide-input",
     "hide-output"
    ]
   },
   "outputs": [
    {
     "name": "stdout",
     "output_type": "stream",
     "text": [
      "Starting cvs-adc1 singlet Jacobi-Davidson ...\n",
      "Niter n_ss  max_residual  time  Ritz values\n",
      "  1     4    3.1083e-31   15ms  [2.09256 2.15253 2.15253 2.61433]\n",
      "=== Converged ===\n",
      "    Number of matrix applies:    4\n",
      "    Total solver time:           17.265ms\n",
      "+----------------------------------------------------+\n",
      "| cvs-adc1                      singlet ,  converged |\n",
      "+----------------------------------------------------+\n",
      "|  #        excitation energy     osc str    |v1|^2  |\n",
      "|          (au)           (eV)                       |\n",
      "|  0       2.09256      56.94145   0.0683         1  |\n",
      "|  1      2.152531      58.57335   0.1135         1  |\n",
      "|  2      2.152531      58.57335   0.1135         1  |\n",
      "|  3      2.614332       71.1396   0.0000         1  |\n",
      "+----------------------------------------------------+\n",
      "\n",
      "CVS-ADC(1)/STO-3G excitation energies:\t [56.94145 58.57335 58.57335 71.1396 ]\n",
      "ADC(1)/STO-3G core excitation energies:\t [56.95026 58.58059 58.58059 71.13974]\n"
     ]
    }
   ],
   "source": [
    "cvsadc_results = gator.run_adc(lih, basis, scf, verbose=False,\n",
    "                            method='cvs-adc1', core_orbitals=1, singlets=nvir, tol=1e-5)\n",
    "\n",
    "print(cvsadc_results.describe())\n",
    "\n",
    "print(\"CVS-ADC(1)/STO-3G excitation energies:\\t\", cvsadc_results.excitation_energy * au2ev)\n",
    "print(\"ADC(1)/STO-3G core excitation energies:\\t\", adc_results.excitation_energy[-nvir:] * au2ev)"
   ]
  },
  {
   "cell_type": "markdown",
   "id": "1fe415c6-58dc-48df-9bc5-461525759fc7",
   "metadata": {},
   "source": [
    "- Repeat the SCF calculation with the NaH molecule (just replace Li by Na in the molecule string)\n",
    "- Diagonalize the ADC(1) matrix for all singlets (with Gator or your own implementation)\n",
    "- Compare the core-excitation energies to the results from a corresponding CVS-ADC(1) calculation"
   ]
  },
  {
   "cell_type": "markdown",
   "id": "7abc6bb5-3a6c-4940-b617-6c72e83595fc",
   "metadata": {
    "tags": []
   },
   "source": [
    "```python\n",
    "# Sodium hydride xyz string and molecule object\n",
    "...\n",
    "\n",
    "# Basis set\n",
    "...\n",
    "\n",
    "# Run SCF through Gator\n",
    "...\n",
    "```"
   ]
  },
  {
   "cell_type": "code",
   "execution_count": 18,
   "id": "005f5b6c-b5d8-408e-9b16-608a1538c32a",
   "metadata": {
    "scrolled": true,
    "tags": [
     "hide-output",
     "hide-input"
    ]
   },
   "outputs": [
    {
     "name": "stdout",
     "output_type": "stream",
     "text": [
      "                                                                                                                          \n",
      "                                            Self Consistent Field Driver Setup                                            \n",
      "                                           ====================================                                           \n",
      "                                                                                                                          \n",
      "                   Wave Function Model             : Spin-Restricted Hartree-Fock                                         \n",
      "                   Initial Guess Model             : Superposition of Atomic Densities                                    \n",
      "                   Convergence Accelerator         : Two Level Direct Inversion of Iterative Subspace                     \n",
      "                   Max. Number of Iterations       : 50                                                                   \n",
      "                   Max. Number of Error Vectors    : 10                                                                   \n",
      "                   Convergence Threshold           : 1.0e-10                                                              \n",
      "                   ERI Screening Scheme            : Cauchy Schwarz + Density                                             \n",
      "                   ERI Screening Mode              : Dynamic                                                              \n",
      "                   ERI Screening Threshold         : 1.0e-12                                                              \n",
      "                   Linear Dependence Threshold     : 1.0e-06                                                              \n",
      "                                                                                                                          \n",
      "* Info * Nuclear repulsion energy: 5.8209493199 a.u.                                                                      \n",
      "                                                                                                                          \n",
      "* Info * Overlap matrix computed in 0.00 sec.                                                                             \n",
      "                                                                                                                          \n",
      "* Info * Kinetic energy matrix computed in 0.03 sec.                                                                      \n",
      "                                                                                                                          \n",
      "* Info * Nuclear potential matrix computed in 0.04 sec.                                                                   \n",
      "                                                                                                                          \n",
      "* Info * Orthogonalization matrix computed in 0.00 sec.                                                                   \n",
      "                                                                                                                          \n",
      "* Info * SAD initial guess computed in 0.08 sec.                                                                          \n",
      "                                                                                                                          \n",
      "* Info * Starting Reduced Basis SCF calculation...                                                                        \n",
      "* Info * ...done. SCF energy in reduced basis set: -160.043202498295 a.u. Time: 0.29 sec.                                 \n",
      "                                                                                                                          \n",
      "* Info * Overlap matrix computed in 0.02 sec.                                                                             \n",
      "                                                                                                                          \n",
      "* Info * Kinetic energy matrix computed in 0.00 sec.                                                                      \n",
      "                                                                                                                          \n",
      "* Info * Nuclear potential matrix computed in 0.00 sec.                                                                   \n",
      "                                                                                                                          \n",
      "* Info * Orthogonalization matrix computed in 0.00 sec.                                                                   \n",
      "                                                                                                                          \n",
      "                                                                                                                          \n",
      "               Iter. | Hartree-Fock Energy | Energy Change | Gradient Norm | Max. Gradient | Density Change               \n",
      "               --------------------------------------------------------------------------------------------               \n",
      "                  1      -160.043202851425    0.0000000000      0.00035040      0.00007941      0.00000000                \n",
      "                  2      -160.043202902323   -0.0000000509      0.00002701      0.00000449      0.00045186                \n",
      "                  3      -160.043202902395   -0.0000000001      0.00000490      0.00000079      0.00000902                \n",
      "                  4      -160.043202902399   -0.0000000000      0.00000053      0.00000010      0.00000234                \n",
      "                  5      -160.043202902399   -0.0000000000      0.00000002      0.00000000      0.00000040                \n",
      "                  6      -160.043202902399   -0.0000000000      0.00000000      0.00000000      0.00000001                \n",
      "                  7      -160.043202902399    0.0000000000      0.00000000      0.00000000      0.00000000                \n",
      "                                                                                                                          \n",
      "               *** SCF converged in 7 iterations. Time: 0.19 sec.                                                         \n",
      "                                                                                                                          \n",
      "               Spin-Restricted Hartree-Fock:                                                                              \n",
      "               -----------------------------                                                                              \n",
      "               Total Energy                       :     -160.0432029024 a.u.                                              \n",
      "               Electronic Energy                  :     -165.8641522223 a.u.                                              \n",
      "               Nuclear Repulsion Energy           :        5.8209493199 a.u.                                              \n",
      "               ------------------------------------                                                                       \n",
      "               Gradient Norm                      :        0.0000000001 a.u.                                              \n",
      "                                                                                                                          \n",
      "                                                                                                                          \n",
      "               Ground State Information                                                                                   \n",
      "               ------------------------                                                                                   \n",
      "               Charge of Molecule            :  0.0                                                                       \n",
      "               Multiplicity (2S+1)           :  1.0                                                                       \n",
      "               Magnetic Quantum Number (M_S) :  0.0                                                                       \n",
      "                                                                                                                          \n",
      "                                                                                                                          \n",
      "                                                 Spin Restricted Orbitals                                                 \n",
      "                                                 ------------------------                                                 \n",
      "                                                                                                                          \n",
      "               Molecular Orbital No.   2:                                                                                 \n",
      "               --------------------------                                                                                 \n",
      "               Occupation: 2.000 Energy:   -2.68087 a.u.                                                                  \n",
      "               (   1 Na  1s  :    -0.30) (   1 Na  2s  :     1.00)                                                        \n",
      "                                                                                                                          \n",
      "               Molecular Orbital No.   3:                                                                                 \n",
      "               --------------------------                                                                                 \n",
      "               Occupation: 2.000 Energy:   -1.35112 a.u.                                                                  \n",
      "               (   1 Na  1p0 :     0.88) (   1 Na  2p0 :     0.18)                                                        \n",
      "                                                                                                                          \n",
      "               Molecular Orbital No.   4:                                                                                 \n",
      "               --------------------------                                                                                 \n",
      "               Occupation: 2.000 Energy:   -1.30986 a.u.                                                                  \n",
      "               (   1 Na  1p+1:    -0.15) (   1 Na  1p-1:     0.88) (   1 Na  2p-1:     0.19)                              \n",
      "                                                                                                                          \n",
      "               Molecular Orbital No.   5:                                                                                 \n",
      "               --------------------------                                                                                 \n",
      "               Occupation: 2.000 Energy:   -1.30986 a.u.                                                                  \n",
      "               (   1 Na  1p+1:     0.88) (   1 Na  1p-1:     0.15) (   1 Na  2p+1:     0.19)                              \n",
      "                                                                                                                          \n",
      "               Molecular Orbital No.   6:                                                                                 \n",
      "               --------------------------                                                                                 \n",
      "               Occupation: 2.000 Energy:   -0.08826 a.u.                                                                  \n",
      "               (   1 Na  2s  :     0.46) (   1 Na  3s  :    -0.36) (   1 Na  1p0 :     0.29)                              \n",
      "               (   2 H   1s  :    -0.81)                                                                                  \n",
      "                                                                                                                          \n",
      "               Molecular Orbital No.   7:                                                                                 \n",
      "               --------------------------                                                                                 \n",
      "               Occupation: 0.000 Energy:    0.57076 a.u.                                                                  \n",
      "               (   1 Na  2s  :    -0.38) (   1 Na  3s  :     0.99) (   1 Na  1p0 :     0.48)                              \n",
      "               (   1 Na  2p0 :    -0.51) (   2 H   1s  :    -0.48)                                                        \n",
      "                                                                                                                          \n",
      "               Molecular Orbital No.   8:                                                                                 \n",
      "               --------------------------                                                                                 \n",
      "               Occupation: 0.000 Energy:    0.77169 a.u.                                                                  \n",
      "               (   1 Na  1p-1:     0.68) (   1 Na  2p+1:     0.19) (   1 Na  2p-1:    -1.09)                              \n",
      "                                                                                                                          \n",
      "               Molecular Orbital No.   9:                                                                                 \n",
      "               --------------------------                                                                                 \n",
      "               Occupation: 0.000 Energy:    0.77169 a.u.                                                                  \n",
      "               (   1 Na  1p+1:    -0.68) (   1 Na  2p+1:     1.09) (   1 Na  2p-1:     0.19)                              \n",
      "                                                                                                                          \n",
      "               Molecular Orbital No.  10:                                                                                 \n",
      "               --------------------------                                                                                 \n",
      "               Occupation: 0.000 Energy:    1.28603 a.u.                                                                  \n",
      "               (   1 Na  3s  :     1.20) (   1 Na  1p0 :    -0.47) (   1 Na  2p0 :     1.56)                              \n",
      "               (   2 H   1s  :    -1.64)                                                                                  \n",
      "                                                                                                                          \n"
     ]
    }
   ],
   "source": [
    "# Sodium hydride molecule\n",
    "nah_xyz=\"\"\"2\n",
    "\n",
    "Na  0.000000   0.000000   0.000000\n",
    "H   0.000000   0.000000   1.000000\n",
    "\"\"\"\n",
    "nah = vlx.Molecule.from_xyz_string(nah_xyz)\n",
    "\n",
    "# Basis set\n",
    "basis_nah = vlx.MolecularBasis.read(nah, basis_set_label)\n",
    "\n",
    "# Run SCF through Gator\n",
    "scf_nah = gator.run_scf(nah, basis_nah, conv_thresh=1e-10, verbose=True)"
   ]
  },
  {
   "cell_type": "markdown",
   "id": "5b0a7e10-8836-484a-a473-c9d788281a2c",
   "metadata": {},
   "source": [
    "```python\n",
    "# Number of MOs, occupied and virtual orbitals, and excited states for NaH\n",
    "# How many excited states are there?\n",
    "...\n",
    "```"
   ]
  },
  {
   "cell_type": "code",
   "execution_count": 19,
   "id": "043b83fc-8423-4733-8db8-78fb4a96277d",
   "metadata": {
    "tags": [
     "hide-output",
     "hide-input"
    ]
   },
   "outputs": [],
   "source": [
    "# Number of orbitals and excited states\n",
    "nocc_nah = nah.number_of_alpha_electrons()\n",
    "norb_nah = scf_nah.scf_tensors['C_alpha'].shape[1]\n",
    "nvir_nah = norb_nah - nocc_nah\n",
    "nexc_nah = nocc_nah * nvir_nah # number of excited (singlet or triplet) states in ADC(1)"
   ]
  },
  {
   "cell_type": "markdown",
   "id": "a73945e5-1ce1-49e5-8149-2263d4bf521c",
   "metadata": {},
   "source": [
    "```python\n",
    "# Calculate all possible singlet excited states with ADC(1)\n",
    "...\n",
    "\n",
    "# Print the excitation energies\n",
    "...\n",
    "```"
   ]
  },
  {
   "cell_type": "code",
   "execution_count": 20,
   "id": "79aea1ca-76aa-4c04-a2b3-338839868fad",
   "metadata": {
    "tags": [
     "hide-output",
     "hide-input"
    ]
   },
   "outputs": [
    {
     "name": "stdout",
     "output_type": "stream",
     "text": [
      "Starting adc1 singlet Jacobi-Davidson ...\n",
      "Niter n_ss  max_residual  time  Ritz values\n",
      "  1    24    3.9973e-27  159ms  [0.39324 0.52704 0.52704 1.02922 1.33518 1.33518 1.40744]\n",
      "=== Converged ===\n",
      "    Number of matrix applies:    24\n",
      "    Total solver time:           182.452ms\n",
      "\n",
      "ADC(1)/cc-pVDZ singlet excitation energies:\n",
      " [ 0.39324  0.52704  0.52704  1.02922  1.33518  1.33518  1.40744  1.50255\n",
      "  1.50876  1.50876  1.5536   1.5536   1.86846  2.08246  2.08246  2.21844\n",
      "  2.75043  2.89832  2.89832  3.45754 39.9343  40.08268 40.08268 40.74604]\n"
     ]
    }
   ],
   "source": [
    "adc_results_nah = gator.run_adc(nah, basis_nah, scf_nah, verbose=False, method='adc1',\n",
    "                            singlets=nexc_nah, tol=1e-5)\n",
    "print(\"\\nADC(1)/cc-pVDZ singlet excitation energies:\\n\", adc_results_nah.excitation_energy)"
   ]
  },
  {
   "cell_type": "markdown",
   "id": "5b63c9ba-c93e-4d6f-91d4-fe069446d01d",
   "metadata": {},
   "source": [
    "```python\n",
    "# Calculate all possible core-excited states with CVS-ADC(1)\n",
    "# How many are there?\n",
    "...\n",
    "\n",
    "# Compare the results of the core-excitation energies\n",
    "...\n",
    "```"
   ]
  },
  {
   "cell_type": "code",
   "execution_count": 21,
   "id": "d2180b2f-75d2-4b6c-a765-59ae16c1dc9b",
   "metadata": {
    "tags": [
     "hide-output",
     "hide-input"
    ]
   },
   "outputs": [
    {
     "name": "stdout",
     "output_type": "stream",
     "text": [
      "Starting cvs-adc1 singlet Jacobi-Davidson ...\n",
      "Niter n_ss  max_residual  time  Ritz values\n",
      "  1     4    4.9437e-28   13ms  [39.93425 40.08263 40.08263 40.74602]\n",
      "=== Converged ===\n",
      "    Number of matrix applies:    4\n",
      "    Total solver time:           14.804ms\n",
      "CVS-ADC(1)/STO-3G excitation energies:\t [1086.66624 1090.70401 1090.70401 1108.75557]\n",
      "ADC(1)/STO-3G core excitation energies:\t [1086.6677  1090.70529 1090.70529 1108.75617]\n"
     ]
    }
   ],
   "source": [
    "# Since there is only one core orbital to excite from, the number of core-excited states\n",
    "# corresponds to the number of virtual orbitals in NaH\n",
    "cvsadc_results_nah = gator.run_adc(nah, basis_nah, scf_nah, verbose=False,\n",
    "                            method='cvs-adc1', core_orbitals=1, singlets=nvir_nah, tol=1e-5)\n",
    "\n",
    "print(\"CVS-ADC(1)/STO-3G excitation energies:\\t\", cvsadc_results_nah.excitation_energy * au2ev)\n",
    "print(\"ADC(1)/STO-3G core excitation energies:\\t\", adc_results_nah.excitation_energy[-nvir_nah:] * au2ev)"
   ]
  },
  {
   "cell_type": "markdown",
   "id": "8642d191-d86c-49af-9d55-7fc26e173ae0",
   "metadata": {},
   "source": [
    "- You should see that the CVS approximation is even better for NaH than for LiH, which is due to the larger energy separation of the core and valence orbitals"
   ]
  },
  {
   "cell_type": "markdown",
   "id": "f3be49e5-5837-4056-8bc3-26227a63b7c3",
   "metadata": {},
   "source": [
    "## Transition moments and oscillator strengths\n",
    "\n",
    "In order to simulate a UV/vis or X-ray spectrum, apart from the excitation energies\n",
    "also the spectral intensity is required. This is done by means of so-called _oscillator strengths_,\n",
    "which are available from the excitation energies and the _transition dipole moments_.\n",
    "In order to obtain the latter, the ground- to excited-state transition density matrices\n",
    "$\\mathbf{x} = \\mathbf{Y}^\\dagger \\mathbf{f}$ are needed.\n",
    "Through first order in perturbation theory, the non-vanishing part is given by\n",
    "\n",
    "$$\n",
    "x_{ia} = Y_{ia} - \\sum_{jb} Y_{jb} \\, t_{ijab} \\, ,\n",
    "$$\n",
    "\n",
    "where $Y_{ia}$ denotes an element of the excitation vector,\n",
    "and the [$t$-amplitudes](sec:calc-mp-t-amplitudes) are $t_{ijab} = \\frac{\\langle ab || ij \\rangle}{\\varepsilon_{a} + \\varepsilon_{b} - \\varepsilon_{i} - \\varepsilon_{j}}$.\n",
    "\n",
    "The transition dipole moment $T_{m}$ for the component $m \\in \\{ x,y,z \\}$ is obtained\n",
    "by contracting the transition density matrix with the corresponding dipole integrals $\\mu_{ia}^{m}$,\n",
    "\n",
    "$$\n",
    "T_{m} = \\sum_{ia} x_{ia} \\, \\mu_{ia}^{m} \\, ,\n",
    "$$\n",
    "\n",
    "and the dimensionless oscillator strength $f$, commonly used for relative intensities in the simulation\n",
    "of electronic spectra, is obtained from quantities in atomic units as\n",
    "\n",
    "$$\n",
    "f = \\frac23 \\omega \\, \\sum_{m} T_{m}^2 \\, ,\n",
    "$$\n",
    "\n",
    "where $\\omega$ is the excitation energy of the corresponding excited state.\n",
    "\n",
    "```{note}\n",
    "- The transition density matrices $\\mathbf{x}$ are not symmetric, meaning that $x_{ia} \\neq x_{ai}$. However, due to the symmetry of the dipole integrals, we could put $x_{ai}$ into $x_{ia}$.\n",
    "- In the CIS scheme, $x_{ia} = Y_{ia}$ is correct through zeroth order only. As a matter of fact, this is the only place where the ADC(1) and CIS methods differ.\n",
    "```"
   ]
  },
  {
   "cell_type": "code",
   "execution_count": 22,
   "id": "66c5fa31-eeb4-4b2d-a463-a365bb7ca2f2",
   "metadata": {},
   "outputs": [],
   "source": [
    "try:\n",
    "    import adcc\n",
    "except:\n",
    "    raise ImportError(\"Could not import adcc. Please install.\")"
   ]
  },
  {
   "cell_type": "markdown",
   "id": "2758b162-7891-420b-9229-15e07deb7009",
   "metadata": {},
   "source": [
    "- Get the desired eigenvector and the $t$-amplitudes:"
   ]
  },
  {
   "cell_type": "code",
   "execution_count": 166,
   "id": "e15190cb-094b-432a-9aef-bf102b81ab67",
   "metadata": {
    "scrolled": true,
    "tags": [
     "hide-output"
    ]
   },
   "outputs": [],
   "source": [
    "# Choose excited state\n",
    "n_excstate = 0\n",
    "\n",
    "# Eigenvector from Gator results\n",
    "adc_eigenvector = adc_results.excitation_vector[n_excstate]['ph'].to_ndarray()\n",
    "\n",
    "# t-amplitudes from adcc reference state\n",
    "t2 = adcc.LazyMp(adc_results.reference_state).t2(\"o1o1v1v1\").to_ndarray()"
   ]
  },
  {
   "cell_type": "markdown",
   "id": "6ba85099-5988-4ed0-aff7-1147e12dcf4f",
   "metadata": {
    "tags": []
   },
   "source": [
    "- Calculate transition moment (transition density matrix) by adding zeroth- and first-order terms:\n",
    "\n",
    "```python\n",
    "transmom = adc_eigenvector - ...\n",
    "```"
   ]
  },
  {
   "cell_type": "code",
   "execution_count": 161,
   "id": "062be74a-6227-40b9-b314-7776f8d0da28",
   "metadata": {
    "tags": [
     "hide-input",
     "hide-output"
    ]
   },
   "outputs": [
    {
     "name": "stdout",
     "output_type": "stream",
     "text": [
      "transmom:\n",
      " (4, 8) \n",
      " [[ 0.0064   0.       0.      -0.00181  0.       0.       0.       0.     ]\n",
      " [ 0.69874  0.       0.      -0.02647  0.       0.       0.       0.     ]\n",
      " [ 0.       0.       0.       0.       0.0064   0.       0.      -0.00181]\n",
      " [ 0.       0.       0.       0.       0.69874  0.       0.      -0.02647]]\n"
     ]
    }
   ],
   "source": [
    "transmom = adc_eigenvector - np.einsum('jb,ijab->ia', adc_eigenvector, t2)\n",
    "print(\"transmom:\\n\", transmom.shape, \"\\n\", transmom)"
   ]
  },
  {
   "cell_type": "markdown",
   "id": "fd7c77a3-0404-4ef6-be62-8cbab57b513a",
   "metadata": {},
   "source": [
    "- Get the dipole integrals and transform them to MO basis"
   ]
  },
  {
   "cell_type": "code",
   "execution_count": 163,
   "id": "1d797cf6-1cda-46e2-9d8f-388665353768",
   "metadata": {},
   "outputs": [],
   "source": [
    "# Dipole integrals in AO basis\n",
    "dipole_drv = vlx.veloxchemlib.ElectricDipoleIntegralsDriver()\n",
    "dipole_mats = dipole_drv.compute(lih, basis)\n",
    "dipole_ints_ao = np.array((dipole_mats.x_to_numpy(), dipole_mats.y_to_numpy(),\n",
    "               dipole_mats.z_to_numpy()))\n",
    "\n",
    "# Transform them to MO basis\n",
    "mo = scf.scf_tensors['C'] # MO coefficients\n",
    "dipole_ints_mo = np.array([np.linalg.multi_dot([mo.T, dipole_ints_ao[x], mo]) for x in range(3)])\n",
    "dipole_ints_ov = dipole_ints_mo[:, :nocc, nocc:]"
   ]
  },
  {
   "cell_type": "markdown",
   "id": "c743a71f-0af5-437e-ba2d-2a6d5b30954a",
   "metadata": {},
   "source": [
    "- Calculate the transition dipole moments $T_{m}$\n",
    "  - One problem arises since the ADC eigenvectors and $t$-amplitudes (and thus the transition moments $\\mathbf{x}$) are given in a spin-orbital basis, but the dipole integrals in a basis of spatial orbitals\n",
    "  - However, same-spin blocks blocks of $\\mathbf{x}$ are equal in a closed-shell system, while opposite-spin blocks vanish\n",
    "  - This means we can contract the $\\alpha$-only block of the transition moments with the dipole integrals and multiply the result by 2 to account for the $\\beta$-only block\n",
    "\n",
    "```python\n",
    "trans_dip_mom = ...\n",
    "```"
   ]
  },
  {
   "cell_type": "code",
   "execution_count": 164,
   "id": "8d91b58c-a6a6-415c-827b-484775d600a2",
   "metadata": {
    "tags": [
     "hide-input",
     "hide-output"
    ]
   },
   "outputs": [
    {
     "name": "stdout",
     "output_type": "stream",
     "text": [
      "trans_dip_mom:\n",
      " [ 0.      -0.       0.15736]\n"
     ]
    }
   ],
   "source": [
    "trans_dip_mom = 2 * np.einsum('ia,xia->x', transmom[:nocc, :nvir], dipole_ints_ov)\n",
    "print(\"trans_dip_mom:\\n\", trans_dip_mom)"
   ]
  },
  {
   "cell_type": "markdown",
   "id": "6bc15ee2-0db2-4405-b099-419772ed646c",
   "metadata": {},
   "source": [
    "- Get the corresponding excitation energy and calculate the oscillator strength $f$\n",
    "\n",
    "```python\n",
    "# Excitation energy\n",
    "excitation_energy = adc_results.excitation_energy[n_excstate]\n",
    "\n",
    "# Oscillator strength\n",
    "osc = ...\n",
    "\n",
    "# Compare to the result from Gator\n",
    "print(\"\\nOsc. str. from Gator:\\n\", adc_results.oscillator_strength[n_excstate])\n",
    "```"
   ]
  },
  {
   "cell_type": "code",
   "execution_count": 169,
   "id": "21a8eccb-cbce-4c8f-83dd-ad253d6c3a71",
   "metadata": {
    "tags": [
     "hide-input",
     "hide-output"
    ]
   },
   "outputs": [
    {
     "name": "stdout",
     "output_type": "stream",
     "text": [
      "\n",
      "Oscillator strength:\n",
      " 0.0027315991535243533\n",
      "\n",
      "Osc str from Gator:\n",
      " 0.0027315991535243507\n"
     ]
    }
   ],
   "source": [
    "excitation_energy = adc_results.excitation_energy[n_excstate]\n",
    "\n",
    "osc = 2./3. * excitation_energy * np.dot(trans_dip_mom.T, trans_dip_mom)\n",
    "\n",
    "print(\"Oscillator strength:\\n\", osc)\n",
    "print(\"\\nOsc. str. from Gator:\\n\", adc_results.oscillator_strength[n_excstate])"
   ]
  },
  {
   "cell_type": "code",
   "execution_count": null,
   "id": "821f26c6-6053-405e-bd76-ea8cb753874b",
   "metadata": {},
   "outputs": [],
   "source": []
  }
 ],
 "metadata": {
  "kernelspec": {
   "display_name": "Python 3 (ipykernel)",
   "language": "python",
   "name": "python3"
  },
  "language_info": {
   "codemirror_mode": {
    "name": "ipython",
    "version": 3
   },
   "file_extension": ".py",
   "mimetype": "text/x-python",
   "name": "python",
   "nbconvert_exporter": "python",
   "pygments_lexer": "ipython3",
   "version": "3.9.12"
  }
 },
 "nbformat": 4,
 "nbformat_minor": 5
}
