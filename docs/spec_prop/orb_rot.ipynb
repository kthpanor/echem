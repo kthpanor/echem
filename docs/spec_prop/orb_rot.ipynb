{
 "cells": [
  {
   "cell_type": "markdown",
   "id": "9a152f90-2b36-4506-ae74-30fad08bda7f",
   "metadata": {
    "editable": true,
    "slideshow": {
     "slide_type": ""
    },
    "tags": []
   },
   "source": [
    "# Orbital rotations"
   ]
  },
  {
   "cell_type": "markdown",
   "id": "fd983a01-c993-406f-802e-a923f0249188",
   "metadata": {
    "editable": true,
    "slideshow": {
     "slide_type": ""
    },
    "tags": []
   },
   "source": [
    "## Reference state parameterization\n",
    "\n",
    "In time-dependent Hartree–Fock, the variations of orbitals in the time-independent reference state, $| 0 \\rangle = | \\Psi_\\mathrm{HF} \\rangle$, can be introduced by means of an exponential parameterization\n",
    "\n",
    "$$\n",
    "| \\bar{\\Psi}(t) \\rangle =\n",
    "    e^{-i\\hat{\\kappa}(t)} | 0 \\rangle \n",
    "$$\n",
    "\n",
    "where \n",
    "\n",
    "$$\n",
    "    \\hat{\\kappa}(t) = \\sum_{a}^\\mathrm{virt} \\sum_{i}^\\mathrm{occ}\n",
    "    \\Big[\n",
    "    \\kappa_{ai}(t) \\, \\hat{a}^{\\dagger}_a \\hat{a}_i +\n",
    "    \\kappa_{ai}^*(t) \\, \\hat{a}^{\\dagger}_i \\hat{a}_a\n",
    "    \\Big]\n",
    "$$\n",
    "\n",
    "It is convenient to organize the electron transfer amplitudes into the virtual–occupied (vo) and occupied–virtual (ov) blocks of a molecular orbital (MO) matrix. In the vo- and ov-blocks, we put amplitudes $\\kappa_{ai}$ and $\\kappa_{ia} = \\kappa_{ai}^\\ast$, respectively.\n",
    "\n",
    "$$\n",
    "\\kappa = \n",
    "\\begin{bmatrix}\n",
    "0 & \\kappa_{ia} \\\\\n",
    "\\kappa_{ai} & 0 \\\\\n",
    "\\end{bmatrix}\n",
    "$$\n",
    "\n",
    "The $\\kappa$-matrix is Hermitian and so is the $\\hat{\\kappa}$-operator."
   ]
  },
  {
   "cell_type": "markdown",
   "id": "170fb1e4-b9cc-41de-9fef-3d15e136989f",
   "metadata": {
    "editable": true,
    "slideshow": {
     "slide_type": ""
    },
    "tags": []
   },
   "source": [
    "## Generator of orbital rotations\n",
    "\n",
    "For an $N$-electron system, we have\n",
    "\n",
    "$$\n",
    "| 0 \\rangle = \\prod_{i=1}^N \n",
    "\\hat{a}^{\\dagger}_i | \\mathrm{vac} \\rangle\n",
    "$$\n",
    "\n",
    "Since\n",
    "\n",
    "$$\n",
    "e^{i\\hat{\\kappa}}|\\mathrm{vac}\\rangle = \\left(1+i\\hat{\\kappa}-\\frac{1}{2}\\hat{\\kappa}^2+\\ldots\\right)|\\mathrm{vac}\\rangle = |\\mathrm{vac}\\rangle \n",
    "$$\n",
    "\n",
    "we have\n",
    "\n",
    "\\begin{align*}\n",
    "  | \\bar{\\Psi}(t) \\rangle & =  e^{-i\\hat{\\kappa}}\\hat{a}^{\\dagger}_1e^{i\\hat{\\kappa}}e^{-i\\hat{\\kappa}}\\hat{a}^{\\dagger}_2e^{i\\hat{\\kappa}}\\ldots e^{-i\\hat{\\kappa}}\\hat{a}^{\\dagger}_Ne^{i\\hat{\\kappa}}|\\mathrm{vac}\\rangle \n",
    "  \\\\ & = \n",
    "  \\hat{\\tilde{a}}^{\\dagger}_1\\hat{\\tilde{a}}^{\\dagger}_2 \\ldots\n",
    "  \\hat{\\tilde{a}}^{\\dagger}_N |\\mathrm{vac}\\rangle ,\n",
    "\\end{align*}\n",
    "\n",
    "where we have introduced time-transformed creation operators\n",
    "\n",
    "$$\n",
    "  \\hat{\\tilde{a}}^{\\dagger}_p =\n",
    "  e^{-i\\hat{\\kappa}}\\hat{a}^{\\dagger}_pe^{i\\hat{\\kappa}} =\n",
    "  \\hat{a}^{\\dagger}_p -i\\left[\\hat{\\kappa},\\hat{a}^{\\dagger}_p\\right]\n",
    "  -\\frac{1}{2}\\left[\\hat{\\kappa},\\left[\\hat{\\kappa},\\hat{a}^{\\dagger}_p\\right]\\right]+\\ldots\n",
    "$$\n",
    "\n",
    "From the [algebra of creation and annihilation operators](https://kthpanor.github.io/echem/docs/elec_struct/second_quant.html#creation-and-annihilation-operators), we find that\n",
    "\n",
    "$$\n",
    "  \\left[\\hat{\\kappa},\\hat{a}^{\\dagger}_p\\right]=\\hat{a}^{\\dagger}_r\\kappa_{rp} \n",
    "$$\n",
    "\n",
    "and therefore\n",
    "\n",
    "$$\n",
    "\\hat{\\tilde{a}}^{\\dagger}_p =\n",
    "\\hat{a}^{\\dagger}_{r}\\left(\\delta_{rp}-i\\kappa_{rp}-\\frac{1}{2}\\kappa^2_{rp}+\\ldots\\right) =\n",
    "\\hat{a}^{\\dagger}_{r} \\, U_{rp}\n",
    "$$\n",
    "\n",
    "where we have introduced the unitary matrix\n",
    "\n",
    "$$\n",
    "U = e^{-i\\kappa}\n",
    "$$\n",
    "\n",
    "Following the determinant property of linearity, this transformation of creation operators translates directly into a transformation of orbitals in the wave function\n",
    "\n",
    "$$\n",
    "| \\bar{\\Psi}(t) \\rangle = | \\tilde{\\psi}_1, \\tilde{\\psi}_2, \\ldots, \\tilde{\\psi}_N \\rangle\n",
    "$$\n",
    "\n",
    "where \n",
    "\n",
    "$$\n",
    "\\tilde{\\psi}_p(\\mathbf{r}) = \\psi_r(\\mathbf{r}) \\, U_{rp}\n",
    "$$\n",
    "\n",
    "This transformation preserves orthonormality among the orbitals and the $\\hat{\\kappa}$-operator can be thought of as a generator of rotations in the space of molecular orbitals."
   ]
  },
  {
   "cell_type": "markdown",
   "id": "d1ab9866-5e3c-4342-aa47-5bfd40238b26",
   "metadata": {
    "editable": true,
    "slideshow": {
     "slide_type": ""
    },
    "tags": []
   },
   "source": [
    "## Phase isolation\n",
    "\n",
    "The phase is preserved in the orbital transformation in the sense that the overall phase of the reference state does not change, or in terms of orbitals\n",
    "\n",
    "$$\n",
    "\\langle \\psi_p | \\tilde{\\psi}_p \\rangle \\in {\\cal R}\n",
    "$$\n",
    "\n",
    "It can therefore be used for the parameterization of phase-isolated wave functions as indicated with the overbar in $| \\bar{\\Psi}(t) \\rangle$."
   ]
  },
  {
   "cell_type": "markdown",
   "id": "a2b3e48a-4479-430a-9386-3de9972bafaf",
   "metadata": {
    "editable": true,
    "slideshow": {
     "slide_type": ""
    },
    "tags": []
   },
   "source": [
    "## Spin symmetry\n",
    "\n",
    "If we wish to preserve the singlet spin symmetry of a closed-shell reference state, we use spin-adapted electron-transfer operators\n",
    "\n",
    "$$\n",
    "    \\hat{\\kappa}(t) = \\sum_{a}^\\mathrm{virt} \\sum_{i}^\\mathrm{occ}\n",
    "    \\Big[\n",
    "    \\kappa_{ai}(t) \\, \\hat{E}^{\\dagger}_{ai} +\n",
    "    \\kappa_{ai}^*(t) \\, \\hat{E}^{\\dagger}_{ia}\n",
    "    \\Big]\n",
    "$$\n",
    "\n",
    "where\n",
    "\n",
    "$$\n",
    "\\hat{E}_{pq}^\\dagger = \n",
    "\\hat{a}^\\dagger_{p\\alpha} \\hat{a}_{q\\alpha} +\n",
    "\\hat{a}^\\dagger_{p\\beta} \\hat{a}_{q\\beta}\n",
    "$$\n",
    "\n",
    "Summations here run over molecular orbitals (MOs) instead of spin orbitals, and consequently, the number of parameters is reduced by a factor of four.\n",
    "\n",
    "We get\n",
    "\n",
    "$$\n",
    "| \\bar{\\Psi}(t) \\rangle = | \\tilde{\\psi}_1, \\tilde{\\psi}_\\bar{1}, \\ldots, \\tilde{\\psi}_{N/2}, \\tilde{\\psi}_\\overline{N/2} \\rangle\n",
    "$$\n",
    "\n",
    "where \n",
    "\n",
    "$$\n",
    "\\tilde{\\psi}_p(\\mathbf{r}) = \n",
    "\\tilde{\\phi}_p(\\mathbf{r}) \n",
    "\\begin{pmatrix}\n",
    "1 \\\\ 0\n",
    "\\end{pmatrix} ; \\qquad\n",
    "\\tilde{\\psi}_\\bar{p}(\\mathbf{r}) = \n",
    "\\tilde{\\phi}_p(\\mathbf{r}) \n",
    "\\begin{pmatrix}\n",
    "0 \\\\ 1\n",
    "\\end{pmatrix}\n",
    "$$\n",
    "\n",
    "with\n",
    "\n",
    "$$\n",
    "\\tilde{\\phi}_p(\\mathbf{r}) =\n",
    "\\phi_r(\\mathbf{r}) \\, \\big[e^{-i \\kappa}\\big]_{rp} \n",
    "$$"
   ]
  },
  {
   "cell_type": "markdown",
   "id": "7040a933-698d-4d87-bf5a-ef8c7fe9728f",
   "metadata": {
    "editable": true,
    "slideshow": {
     "slide_type": ""
    },
    "tags": []
   },
   "source": [
    "## Illustrations"
   ]
  },
  {
   "cell_type": "code",
   "execution_count": 50,
   "id": "01b0c8a7-d679-4c6d-a9d0-14f7581438d1",
   "metadata": {
    "editable": true,
    "slideshow": {
     "slide_type": ""
    },
    "tags": []
   },
   "outputs": [],
   "source": [
    "import numpy as np\n",
    "from scipy.linalg import expm"
   ]
  },
  {
   "cell_type": "markdown",
   "id": "467bc390-d909-42e6-b9b4-7026518750a2",
   "metadata": {
    "editable": true,
    "slideshow": {
     "slide_type": ""
    },
    "tags": []
   },
   "source": [
    "Let us consider a system of two-electrons in two MOs (or four spin orbitals)."
   ]
  },
  {
   "cell_type": "markdown",
   "id": "f22435f9-f7c7-4751-8dd0-8b482a6fa0d5",
   "metadata": {
    "editable": true,
    "slideshow": {
     "slide_type": ""
    },
    "tags": []
   },
   "source": [
    "```{figure} ../../img/spec_prop/determinant-wide.svg\n",
    ":scale: 60%\n",
    ":align: center\n",
    "```"
   ]
  },
  {
   "cell_type": "markdown",
   "id": "653d1a89-f011-427f-b129-f16d3e8f3e9c",
   "metadata": {
    "editable": true,
    "slideshow": {
     "slide_type": ""
    },
    "tags": []
   },
   "source": [
    "### Multi-electron excited determinants\n",
    "\n",
    "The generator of rotations includes only single electron excitation operators but the range of the transformation includes all determinants, also multi-electron excited determinants. \n",
    "\n",
    "We reach the doubly excited determinant with\n",
    "\n",
    "$$\n",
    "\\kappa = \n",
    "\\begin{bmatrix}\n",
    "0 & 0 & -i\\pi/2 & 0 \\\\\n",
    "0 & 0 & 0 & -i\\pi/2 \\\\\n",
    "i\\pi/2 & 0 & 0 & 0 \\\\\n",
    "0 & i\\pi/2 & 0 & 0 \\\\\n",
    "\\end{bmatrix}\n",
    "$$"
   ]
  },
  {
   "cell_type": "code",
   "execution_count": 43,
   "id": "64b0c053-a731-4f62-af32-6a8f9d44b633",
   "metadata": {
    "editable": true,
    "slideshow": {
     "slide_type": ""
    },
    "tags": []
   },
   "outputs": [
    {
     "name": "stdout",
     "output_type": "stream",
     "text": [
      "Occupied orbitals:\n",
      " [[0. 0.]\n",
      " [0. 0.]\n",
      " [1. 0.]\n",
      " [0. 1.]]\n"
     ]
    }
   ],
   "source": [
    "k31, k32, k41, k42 = (np.pi * 0.5j, 0, 0, np.pi * 0.5j)\n",
    "k13, k23, k14, k24 = np.conjugate((k31, k32, k41, k42))\n",
    "\n",
    "kappa = np.array(\n",
    "    [[0, 0, k13, k14], [0, 0, k23, k24], [k31, k32, 0, 0], [k41, k42, 0, 0]]\n",
    ")\n",
    "\n",
    "U = expm(-1j * kappa)\n",
    "print(\"Occupied orbitals:\\n\", U.real[:, :2])"
   ]
  },
  {
   "cell_type": "markdown",
   "id": "4e39371c-5149-448c-bbb9-f8b3e523256a",
   "metadata": {},
   "source": [
    "### Phase isolation\n",
    "\n",
    "Let us create a random generator of orbital rotations on the form\n",
    "\n",
    "$$\n",
    "\\kappa = \n",
    "\\begin{bmatrix}\n",
    "0 & \\kappa_{ia} \\\\\n",
    "\\kappa_{ai} & 0 \\\\\n",
    "\\end{bmatrix}\n",
    "$$"
   ]
  },
  {
   "cell_type": "code",
   "execution_count": 46,
   "id": "05dc1886-7bc2-49d7-b110-23ac14e0e269",
   "metadata": {},
   "outputs": [],
   "source": [
    "np.set_printoptions(precision=6, suppress=True, linewidth=170)\n",
    "np.random.seed(20240208)"
   ]
  },
  {
   "cell_type": "code",
   "execution_count": 47,
   "id": "57ab9a7e-e27f-4d6b-b042-3696617e3909",
   "metadata": {},
   "outputs": [],
   "source": [
    "kappa = np.zeros((4, 4), dtype=complex)\n",
    "kappa[2:, :2] = np.random.rand(2, 2) + 1j * np.random.rand(2, 2)\n",
    "kappa = kappa + np.conjugate(kappa).T"
   ]
  },
  {
   "cell_type": "markdown",
   "id": "fbe462d3-783a-4e35-beb3-69bc9d6a9df1",
   "metadata": {},
   "source": [
    "The transformed orbitals become"
   ]
  },
  {
   "cell_type": "code",
   "execution_count": 49,
   "id": "8ea5ff35-09be-4cd5-9221-a089a1a40ee2",
   "metadata": {},
   "outputs": [
    {
     "name": "stdout",
     "output_type": "stream",
     "text": [
      "Transformed orbitals:\n",
      " [[ 0.414314-0.j       -0.272098-0.000049j -0.063249-0.357053j -0.609038-0.501889j]\n",
      " [-0.272098+0.000049j  0.784682+0.j       -0.400653-0.136519j -0.138307-0.334586j]\n",
      " [ 0.063249-0.357053j  0.400653-0.136519j  0.78434 +0.j       -0.265899+0.058835j]\n",
      " [ 0.609038-0.501889j  0.138307-0.334586j -0.265899-0.058835j  0.414656-0.j      ]]\n"
     ]
    }
   ],
   "source": [
    "U = expm(-1j * kappa)\n",
    "print(\"Transformed orbitals:\\n\", U)"
   ]
  },
  {
   "cell_type": "markdown",
   "id": "9334083e-926c-4e83-866e-8a6ca17e7e1a",
   "metadata": {},
   "source": [
    "We note that the diagonal elements are real, i.e.\n",
    "\n",
    "$$\n",
    "\\langle \\psi_p | \\tilde{\\psi}_p \\rangle \\in {\\cal R}\n",
    "$$"
   ]
  },
  {
   "cell_type": "markdown",
   "id": "cb1952cb-e2e4-44f4-93b1-259fa384dbdf",
   "metadata": {
    "editable": true,
    "slideshow": {
     "slide_type": ""
    },
    "tags": []
   },
   "source": [
    "### Spin symmetry\n",
    "\n",
    "The singlet spin symmetry of the closed-shell reference state, $|\\psi_1, \\psi_2 \\rangle$, is preserved by requiring that $\\kappa_{42} = \\kappa_{31}$ and $\\kappa_{41} = \\kappa_{32} = 0$.\n",
    "\n",
    "As an example, let us consider\n",
    "\n",
    "$$\n",
    "\\kappa = \n",
    "\\begin{bmatrix}\n",
    "0 & 0 & -i\\pi/4 & 0 \\\\\n",
    "0 & 0 & 0 & -i\\pi/4 \\\\\n",
    "i\\pi/4 & 0 & 0 & 0 \\\\\n",
    "0 & i\\pi/4 & 0 & 0 \\\\\n",
    "\\end{bmatrix}\n",
    "$$"
   ]
  },
  {
   "cell_type": "code",
   "execution_count": 51,
   "id": "a9a4695d-da68-446d-8ddf-8fa5bcc8ff38",
   "metadata": {
    "editable": true,
    "slideshow": {
     "slide_type": ""
    },
    "tags": []
   },
   "outputs": [
    {
     "name": "stdout",
     "output_type": "stream",
     "text": [
      "Occupied orbitals:\n",
      " [[0.707107 0.      ]\n",
      " [0.       0.707107]\n",
      " [0.707107 0.      ]\n",
      " [0.       0.707107]]\n"
     ]
    }
   ],
   "source": [
    "k31, k32, k41, k42 = (np.pi * 0.25j, 0, 0, np.pi * 0.25j)\n",
    "k13, k23, k14, k24 = np.conjugate((k31, 0, 0, k42))\n",
    "\n",
    "kappa = np.array(\n",
    "    [[0, 0, k13, k14], [0, 0, k23, k24], [k31, k32, 0, 0], [k41, k42, 0, 0]]\n",
    ")\n",
    "\n",
    "U = expm(-1j * kappa)\n",
    "print(\"Occupied orbitals:\\n\", U.real[:, :2])"
   ]
  },
  {
   "cell_type": "markdown",
   "id": "38fca90f-8290-48f0-92a8-dafef42f349b",
   "metadata": {},
   "source": [
    "The resulting state can be written\n",
    "\n",
    "\\begin{align*}\n",
    "| \\bar{\\Psi} \\rangle & =\n",
    "| \\tilde{\\psi_1}, \\tilde{\\psi_2} \\rangle =\n",
    "| (\\psi_1 + \\psi_3)/\\sqrt{2}, (\\psi_2 + \\psi_4)/\\sqrt{2} \\rangle \\\\\n",
    "& =\n",
    "\\frac{1}{2}\n",
    "\\Big[\n",
    "| \\psi_1, \\psi_2 \\rangle +\n",
    "| \\psi_1, \\psi_4 \\rangle +\n",
    "| \\psi_3, \\psi_2 \\rangle +\n",
    "| \\psi_3, \\psi_4 \\rangle \n",
    "\\Big]\n",
    "\\end{align*}\n",
    "\n",
    "where we identify the reference state and the doubly excited determinant alongside the symmetry-adapted configuration of singlet spin symmetry."
   ]
  },
  {
   "cell_type": "markdown",
   "id": "630455a9-5c7e-43e5-bbb6-2ebd8564f73b",
   "metadata": {},
   "source": [
    "Finally, let us consider a somewhat larger system with four electrons in six MOs (or 12 spin orbitals). In the spin-orbital basis, it is convenient to organize parameters in spin blocks.\n",
    "\n",
    "$$\n",
    "\\kappa =\n",
    "\\begin{bmatrix}\n",
    "0 & 0 & \\kappa_{ia} & \\kappa_{i\\bar{a}} \\\\\n",
    "0 & 0 & \\kappa_{\\bar{i}a} & \\kappa_{\\bar{i}\\bar{a}} \\\\\n",
    "\\kappa_{ai} & \\kappa_{a\\bar{i}} & 0 & 0\\\\\n",
    "\\kappa_{\\bar{a}i} & \\kappa_{\\bar{a}\\bar{i}} & 0 & 0\\\\\n",
    "\\end{bmatrix}\n",
    "$$\n",
    "\n",
    "Let us perform a random transformation of the spin orbitals and print out $\\tilde{\\psi}_1$ and $\\tilde{\\psi}_\\bar{1}$ as examples."
   ]
  },
  {
   "cell_type": "code",
   "execution_count": 68,
   "id": "4b0868f3-6778-48b4-a93e-6ff53324915f",
   "metadata": {
    "editable": true,
    "slideshow": {
     "slide_type": ""
    },
    "tags": []
   },
   "outputs": [],
   "source": [
    "k31, k41, k51, k61, k32, k42, k52, k62 = np.random.rand(8) + 1j * np.random.rand(8)\n",
    "k13, k14, k15, k16, k23, k24, k25, k26 = np.conjugate(\n",
    "    (k31, k41, k51, k61, k32, k42, k52, k62)\n",
    ")"
   ]
  },
  {
   "cell_type": "code",
   "execution_count": 71,
   "id": "55020e06-08d0-4eb6-b038-3eda484b6843",
   "metadata": {
    "editable": true,
    "slideshow": {
     "slide_type": ""
    },
    "tags": []
   },
   "outputs": [
    {
     "name": "stdout",
     "output_type": "stream",
     "text": [
      "Lowest occupied alpha-spin orbital:\n",
      " [ 0.442665+0.j       -0.492096+0.092102j  0.      +0.j        0.      +0.j        0.135312-0.503585j  0.054476-0.054285j  0.151692-0.16963j   0.073307-0.467361j\n",
      "  0.      +0.j        0.      +0.j        0.      +0.j        0.      +0.j      ]\n",
      "Lowest occupied beta-spin orbital:\n",
      " [ 0.      +0.j        0.      +0.j        0.442665+0.j       -0.492096+0.092102j  0.      +0.j        0.      +0.j        0.      +0.j        0.      +0.j\n",
      "  0.135312-0.503585j  0.054476-0.054285j  0.151692-0.16963j   0.073307-0.467361j]\n"
     ]
    }
   ],
   "source": [
    "kappa = np.array(\n",
    "    [\n",
    "        [0, 0, 0, 0, k13, k14, k15, k16, 0, 0, 0, 0],\n",
    "        [0, 0, 0, 0, k23, k24, k25, k26, 0, 0, 0, 0],\n",
    "        [0, 0, 0, 0, 0, 0, 0, 0, k13, k14, k15, k16],\n",
    "        [0, 0, 0, 0, 0, 0, 0, 0, k23, k24, k25, k26],\n",
    "        [k31, k32, 0, 0, 0, 0, 0, 0, 0, 0, 0, 0],\n",
    "        [k41, k42, 0, 0, 0, 0, 0, 0, 0, 0, 0, 0],\n",
    "        [k51, k52, 0, 0, 0, 0, 0, 0, 0, 0, 0, 0],\n",
    "        [k61, k62, 0, 0, 0, 0, 0, 0, 0, 0, 0, 0],\n",
    "        [0, 0, k31, k32, 0, 0, 0, 0, 0, 0, 0, 0],\n",
    "        [0, 0, k41, k42, 0, 0, 0, 0, 0, 0, 0, 0],\n",
    "        [0, 0, k51, k52, 0, 0, 0, 0, 0, 0, 0, 0],\n",
    "        [0, 0, k61, k62, 0, 0, 0, 0, 0, 0, 0, 0],\n",
    "    ]\n",
    ")\n",
    "\n",
    "U = expm(-1j * kappa)\n",
    "print(\"Lowest occupied alpha-spin orbital:\\n\", U[:,0])\n",
    "print(\"Lowest occupied beta-spin orbital:\\n\", U[:,2])"
   ]
  },
  {
   "cell_type": "markdown",
   "id": "61ac1ba3-411b-48e9-8ef3-796be8d0d698",
   "metadata": {},
   "source": [
    "We note that the spatial parts of the two spin orbitals are identical.\n",
    "\n",
    "If we instead implement the transformation in the MO-basis, the dimension of the $\\kappa$-matrix becomes reduced by a factor of two."
   ]
  },
  {
   "cell_type": "code",
   "execution_count": 72,
   "id": "3e192ef7-51c9-4ed4-b6f1-d927aa486375",
   "metadata": {},
   "outputs": [
    {
     "name": "stdout",
     "output_type": "stream",
     "text": [
      "Lowest occupied molecular orbital:\n",
      " [ 0.442665+0.j       -0.492096+0.092102j  0.135312-0.503585j  0.054476-0.054285j  0.151692-0.16963j   0.073307-0.467361j]\n"
     ]
    }
   ],
   "source": [
    "kappa = np.array(\n",
    "    [\n",
    "        [0, 0, k13, k14, k15, k16],\n",
    "        [0, 0, k23, k24, k25, k26],\n",
    "        [k31, k32, 0, 0, 0, 0],\n",
    "        [k41, k42, 0, 0, 0, 0],\n",
    "        [k51, k52, 0, 0, 0, 0],\n",
    "        [k61, k62, 0, 0, 0, 0],\n",
    "    ]\n",
    ")\n",
    "\n",
    "U = expm(-1j * kappa)\n",
    "print(\"Lowest occupied molecular orbital:\\n\", U[:,0])"
   ]
  },
  {
   "cell_type": "markdown",
   "id": "660ceaf9-e3d4-4c09-8554-981f8bff5275",
   "metadata": {},
   "source": [
    "We note that this molecular orbital is identical to the spatial parts of the spin orbitals in the previous example."
   ]
  }
 ],
 "metadata": {
  "kernelspec": {
   "display_name": "Python 3 (ipykernel)",
   "language": "python",
   "name": "python3"
  },
  "language_info": {
   "codemirror_mode": {
    "name": "ipython",
    "version": 3
   },
   "file_extension": ".py",
   "mimetype": "text/x-python",
   "name": "python",
   "nbconvert_exporter": "python",
   "pygments_lexer": "ipython3",
   "version": "3.11.7"
  }
 },
 "nbformat": 4,
 "nbformat_minor": 5
}
