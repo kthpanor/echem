{
 "cells": [
  {
   "cell_type": "markdown",
   "id": "9a152f90-2b36-4506-ae74-30fad08bda7f",
   "metadata": {},
   "source": [
    "# Orbital rotations"
   ]
  },
  {
   "cell_type": "markdown",
   "id": "f22435f9-f7c7-4751-8dd0-8b482a6fa0d5",
   "metadata": {},
   "source": []
  }
 ],
 "metadata": {
  "kernelspec": {
   "display_name": "Python 3 (ipykernel)",
   "language": "python",
   "name": "python3"
  },
  "language_info": {
   "codemirror_mode": {
    "name": "ipython",
    "version": 3
   },
   "file_extension": ".py",
   "mimetype": "text/x-python",
   "name": "python",
   "nbconvert_exporter": "python",
   "pygments_lexer": "ipython3",
   "version": "3.11.7"
  }
 },
 "nbformat": 4,
 "nbformat_minor": 5
}
