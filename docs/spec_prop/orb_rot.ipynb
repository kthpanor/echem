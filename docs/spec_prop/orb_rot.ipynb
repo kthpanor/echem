{
 "cells": [
  {
   "cell_type": "markdown",
   "id": "9a152f90-2b36-4506-ae74-30fad08bda7f",
   "metadata": {
    "editable": true,
    "slideshow": {
     "slide_type": ""
    },
    "tags": []
   },
   "source": [
    "# Orbital rotations"
   ]
  },
  {
   "cell_type": "markdown",
   "id": "fd983a01-c993-406f-802e-a923f0249188",
   "metadata": {
    "editable": true,
    "slideshow": {
     "slide_type": ""
    },
    "tags": []
   },
   "source": [
    "## Reference state parameterization\n",
    "\n",
    "In time-dependent Hartree–Fock, the variations of orbitals in the time-independent reference state, $| 0 \\rangle = | \\Psi_\\mathrm{HF} \\rangle$, can be introduced by means of an exponential parameterization\n",
    "\n",
    "$$\n",
    "| \\bar{\\Psi}(t) \\rangle =\n",
    "    e^{-i\\hat{\\kappa}(t)} | 0 \\rangle \n",
    "$$\n",
    "\n",
    "where \n",
    "\n",
    "$$\n",
    "    \\hat{\\kappa}(t) = \\sum_{a}^\\mathrm{virt} \\sum_{i}^\\mathrm{occ}\n",
    "    \\Big[\n",
    "    \\kappa_{ai}(t) \\, \\hat{a}^{\\dagger}_a \\hat{a}_i +\n",
    "    \\kappa_{ai}^*(t) \\, \\hat{a}^{\\dagger}_i \\hat{a}_a\n",
    "    \\Big]\n",
    "$$\n",
    "\n",
    "It is convenient to organize the electron transfer amplitudes into the virtual–occupied (vo) and occupied–virtual (ov) blocks of a molecular orbital (MO) matrix. In the vo- and ov-blocks, we put amplitudes $\\kappa_{ai}$ and $\\kappa_{ia} = \\kappa_{ai}^\\ast$, respectively.\n",
    "\n",
    "$$\n",
    "\\kappa = \n",
    "\\begin{bmatrix}\n",
    "0 & \\kappa_{ia} \\\\\n",
    "\\kappa_{ai} & 0 \\\\\n",
    "\\end{bmatrix}\n",
    "$$\n",
    "\n",
    "The $\\kappa$-matrix is Hermitian and so is the $\\hat{\\kappa}$-operator."
   ]
  },
  {
   "cell_type": "markdown",
   "id": "170fb1e4-b9cc-41de-9fef-3d15e136989f",
   "metadata": {
    "editable": true,
    "slideshow": {
     "slide_type": ""
    },
    "tags": []
   },
   "source": [
    "## Generator of orbital rotations\n",
    "\n",
    "For an $N$-electron system, we have\n",
    "\n",
    "$$\n",
    "| 0 \\rangle = \\prod_{i=1}^N \n",
    "\\hat{a}^{\\dagger}_i | \\mathrm{vac} \\rangle\n",
    "$$\n",
    "\n",
    "Since\n",
    "\n",
    "$$\n",
    "e^{i\\hat{\\kappa}}|\\mathrm{vac}\\rangle = \\left(1+i\\hat{\\kappa}-\\frac{1}{2}\\hat{\\kappa}^2+\\ldots\\right)|\\mathrm{vac}\\rangle = |\\mathrm{vac}\\rangle \n",
    "$$\n",
    "\n",
    "we have\n",
    "\n",
    "\\begin{align*}\n",
    "  | \\bar{\\Psi}(t) \\rangle & =  e^{-i\\hat{\\kappa}}\\hat{a}^{\\dagger}_1e^{i\\hat{\\kappa}}e^{-i\\hat{\\kappa}}\\hat{a}^{\\dagger}_2e^{i\\hat{\\kappa}}\\ldots e^{-i\\hat{\\kappa}}\\hat{a}^{\\dagger}_Ne^{i\\hat{\\kappa}}|\\mathrm{vac}\\rangle \n",
    "  \\\\ & = \n",
    "  \\hat{\\tilde{a}}^{\\dagger}_1\\hat{\\tilde{a}}^{\\dagger}_2 \\ldots\n",
    "  \\hat{\\tilde{a}}^{\\dagger}_N |\\mathrm{vac}\\rangle ,\n",
    "\\end{align*}\n",
    "\n",
    "where we have introduced time-transformed creation operators\n",
    "\n",
    "$$\n",
    "  \\hat{\\tilde{a}}^{\\dagger}_p =\n",
    "  e^{-i\\hat{\\kappa}}\\hat{a}^{\\dagger}_pe^{i\\hat{\\kappa}} =\n",
    "  \\hat{a}^{\\dagger}_p -i\\left[\\hat{\\kappa},\\hat{a}^{\\dagger}_p\\right]\n",
    "  -\\frac{1}{2}\\left[\\hat{\\kappa},\\left[\\hat{\\kappa},\\hat{a}^{\\dagger}_p\\right]\\right]+\\ldots\n",
    "$$\n",
    "\n",
    "From the [algebra of creation and annihilation operators](https://kthpanor.github.io/echem/docs/elec_struct/second_quant.html#creation-and-annihilation-operators), we find that\n",
    "\n",
    "$$\n",
    "  \\left[\\hat{\\kappa},\\hat{a}^{\\dagger}_p\\right]=\\hat{a}^{\\dagger}_r\\kappa_{rp} \n",
    "$$\n",
    "\n",
    "and therefore\n",
    "\n",
    "$$\n",
    "\\hat{\\tilde{a}}^{\\dagger}_p =\n",
    "\\hat{a}^{\\dagger}_{r}\\left(\\delta_{rp}-i\\kappa_{rp}-\\frac{1}{2}\\kappa^2_{rp}+\\ldots\\right) =\n",
    "\\hat{a}^{\\dagger}_{r} \\, U_{rp}\n",
    "$$\n",
    "\n",
    "where we have introduced the unitary matrix\n",
    "\n",
    "$$\n",
    "U = e^{-i\\kappa}\n",
    "$$\n",
    "\n",
    "Following the determinant property of linearity, this transformation of creation operators translates directly into a transformation of orbitals in the wave function\n",
    "\n",
    "$$\n",
    "| \\bar{\\Psi}(t) \\rangle = | \\tilde{\\psi}_1, \\tilde{\\psi}_2, \\ldots, \\tilde{\\psi}_N \\rangle\n",
    "$$\n",
    "\n",
    "where \n",
    "\n",
    "$$\n",
    "\\tilde{\\psi}_p(\\mathbf{r}) = \\psi_r(\\mathbf{r}) \\, U_{rp}\n",
    "$$\n",
    "\n",
    "This transformation preserves orthonormality among the orbitals and the $\\hat{\\kappa}$-operator can be thought of as a generator of rotations in the space of molecular orbitals."
   ]
  },
  {
   "cell_type": "markdown",
   "id": "d1ab9866-5e3c-4342-aa47-5bfd40238b26",
   "metadata": {
    "editable": true,
    "slideshow": {
     "slide_type": ""
    },
    "tags": []
   },
   "source": [
    "## Phase isolation\n",
    "\n",
    "The phase is preserved in the orbital transformation\n",
    "\n",
    "$$\n",
    "\\langle \\psi_p | \\tilde{\\psi}_p \\rangle \\in {\\cal R}\n",
    "$$\n",
    "\n",
    "It can therefore be used for the parameterization of phase-isolated wave functions as indicated with the overbar in $| \\bar{\\Psi}(t) \\rangle$."
   ]
  },
  {
   "cell_type": "markdown",
   "id": "7040a933-698d-4d87-bf5a-ef8c7fe9728f",
   "metadata": {
    "editable": true,
    "slideshow": {
     "slide_type": ""
    },
    "tags": []
   },
   "source": [
    "## Illustrations"
   ]
  },
  {
   "cell_type": "code",
   "execution_count": 1,
   "id": "01b0c8a7-d679-4c6d-a9d0-14f7581438d1",
   "metadata": {
    "editable": true,
    "slideshow": {
     "slide_type": ""
    },
    "tags": []
   },
   "outputs": [],
   "source": [
    "import numpy as np\n",
    "from scipy.linalg import expm"
   ]
  },
  {
   "cell_type": "markdown",
   "id": "467bc390-d909-42e6-b9b4-7026518750a2",
   "metadata": {
    "editable": true,
    "slideshow": {
     "slide_type": ""
    },
    "tags": []
   },
   "source": [
    "Let us consider a system of two-electrons in two MOs (or four spin orbitals)."
   ]
  },
  {
   "cell_type": "markdown",
   "id": "f22435f9-f7c7-4751-8dd0-8b482a6fa0d5",
   "metadata": {
    "editable": true,
    "slideshow": {
     "slide_type": ""
    },
    "tags": []
   },
   "source": [
    "```{figure} ../../img/spec_prop/determinant-wide.svg\n",
    ":scale: 60%\n",
    ":align: center\n",
    "```"
   ]
  },
  {
   "cell_type": "markdown",
   "id": "653d1a89-f011-427f-b129-f16d3e8f3e9c",
   "metadata": {
    "editable": true,
    "slideshow": {
     "slide_type": ""
    },
    "tags": []
   },
   "source": [
    "### Multi-electron excited determinants\n",
    "\n",
    "The generator of rotations includes only single electron excitation operators but the range of the transformation includes all determinants, also multi-electron excited determinants. \n",
    "\n",
    "We reach the doubly excited determinant with\n",
    "\n",
    "$$\n",
    "\\kappa = \n",
    "\\begin{bmatrix}\n",
    "0 & 0 & -i\\pi/2 & 0 \\\\\n",
    "0 & 0 & 0 & -i\\pi/2 \\\\\n",
    "i\\pi/2 & 0 & 0 & 0 \\\\\n",
    "0 & i\\pi/2 & 0 & 0 \\\\\n",
    "\\end{bmatrix}\n",
    "$$"
   ]
  },
  {
   "cell_type": "code",
   "execution_count": 11,
   "id": "f1dc2777-cb48-44f3-bd2e-81ca7175932f",
   "metadata": {
    "editable": true,
    "slideshow": {
     "slide_type": ""
    },
    "tags": []
   },
   "outputs": [
    {
     "name": "stdout",
     "output_type": "stream",
     "text": [
      "Occupied orbitals:\n",
      " [[0. 0.]\n",
      " [0. 0.]\n",
      " [1. 0.]\n",
      " [0. 1.]]\n"
     ]
    }
   ],
   "source": [
    "k31, k32, k41, k42 = (np.pi * 0.5j, 0, 0, np.pi * 0.5j)\n",
    "k13, k23, k14, k24 = np.conjugate((k31, k32, k41, k42))\n",
    "\n",
    "kappa = np.array(\n",
    "    [[0, 0, k13, k14], [0, 0, k23, k24], [k31, k32, 0, 0], [k41, k42, 0, 0]]\n",
    ")\n",
    "\n",
    "U = expm(-1j * kappa)\n",
    "print(\"Occupied orbitals:\\n\", U.real[:,:2])"
   ]
  },
  {
   "cell_type": "markdown",
   "id": "cb1952cb-e2e4-44f4-93b1-259fa384dbdf",
   "metadata": {
    "editable": true,
    "slideshow": {
     "slide_type": ""
    },
    "tags": []
   },
   "source": [
    "### Spin symmetry\n",
    "\n",
    "If we wish to preserve the singlet spin symmetry, we use spin-adapted (normalized) creation operators\n",
    "\n",
    "$$\n",
    "\\hat{E}_{ai}^\\dagger = \n",
    "\\frac{1}{\\sqrt{2}}\n",
    "\\big(\n",
    "\\hat{a}^\\dagger_{a\\alpha} \\hat{a}_{i\\alpha} +\n",
    "\\hat{a}^\\dagger_{a\\beta} \\hat{a}_{i\\beta}\n",
    "\\big)\n",
    "$$\n",
    "\n",
    "or, in other words, $\\kappa_{42} = \\kappa_{31}$ and $\\kappa_{41} = \\kappa_{32} = 0$."
   ]
  },
  {
   "cell_type": "code",
   "execution_count": 14,
   "id": "a9a4695d-da68-446d-8ddf-8fa5bcc8ff38",
   "metadata": {
    "editable": true,
    "slideshow": {
     "slide_type": ""
    },
    "tags": []
   },
   "outputs": [
    {
     "name": "stdout",
     "output_type": "stream",
     "text": [
      "Occupied orbitals:\n",
      " [[0.70710678 0.        ]\n",
      " [0.         0.70710678]\n",
      " [0.70710678 0.        ]\n",
      " [0.         0.70710678]]\n"
     ]
    }
   ],
   "source": [
    "k31, k32, k41, k42 = (np.pi * 0.25j, 0, 0, np.pi * 0.25j)\n",
    "k13, k23, k14, k24 = np.conjugate((k31, 0, 0, k42))\n",
    "\n",
    "kappa = np.array(\n",
    "    [[0, 0, k13, k14], [0, 0, k23, k24], [k31, k32, 0, 0], [k41, k42, 0, 0]]\n",
    ")\n",
    "\n",
    "U = expm(-1j * kappa)\n",
    "print(\"Occupied orbitals:\\n\", U.real[:,:2])"
   ]
  }
 ],
 "metadata": {
  "kernelspec": {
   "display_name": "Python 3 (ipykernel)",
   "language": "python",
   "name": "python3"
  },
  "language_info": {
   "codemirror_mode": {
    "name": "ipython",
    "version": 3
   },
   "file_extension": ".py",
   "mimetype": "text/x-python",
   "name": "python",
   "nbconvert_exporter": "python",
   "pygments_lexer": "ipython3",
   "version": "3.11.7"
  }
 },
 "nbformat": 4,
 "nbformat_minor": 5
}
