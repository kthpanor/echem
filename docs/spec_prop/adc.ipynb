{
 "cells": [
  {
   "cell_type": "markdown",
   "id": "09ad338f",
   "metadata": {},
   "source": [
    "# Algebraic-diagrammatic construction\n",
    "\n",
    "The algebraic-diagrammatic construction (ADC) scheme for the polarization propagator provides a series of _ab initio_ methods to describe excited electronic states and related properties based on the Møller--Plesset perturbation theory partition of the Hamiltonian {cite}`Dreuw2015`. Due to their size consistency, ADC methods are suited for the calculation of large molecules and their Hermitian structure and the availability of the intermediate state representation (ISR) allow for straightforward computation of excited-state and state-to-state properties.\n",
    "\n",
    "ADC is a general procedure and not restricted to the polarization propagator, but to all propagators such as the electron propagator for the calculation of ionization potentials and electron affinities or the two-particle propagator for the calculation of double ionization potentials {cite}`Dreuw2015`. On the following pages, an outline of the underlying theory for ADC is given, including\n",
    "\n",
    "- The classical approach based on the [polarization propagator](sec:adc-pp)\n",
    "\n",
    "- A derivation via the [ISR](isr:label), including explicit ADC(2) equations, a comparison to related methods, and the calculation of excited-state properties\n",
    "\n",
    "- The [core-valence separation](cvs:label) (CVS) for the calculation of core-excited states\n",
    "\n",
    "- Some aspects for the implementation of ADC on [HPC clusters](adc-hpc:label)\n",
    "\n",
    "Examples on how to perform ADC calculations and simulate electronic spectra can be found [here](sec:adc-absorp)."
   ]
  },
  {
   "cell_type": "code",
   "execution_count": null,
   "id": "0fbad758-9989-43b6-b4be-a81fa2646dcd",
   "metadata": {},
   "outputs": [],
   "source": []
  }
 ],
 "metadata": {
  "kernelspec": {
   "display_name": "Python 3 (ipykernel)",
   "language": "python",
   "name": "python3"
  },
  "language_info": {
   "codemirror_mode": {
    "name": "ipython",
    "version": 3
   },
   "file_extension": ".py",
   "mimetype": "text/x-python",
   "name": "python",
   "nbconvert_exporter": "python",
   "pygments_lexer": "ipython3",
   "version": "3.11.7"
  }
 },
 "nbformat": 4,
 "nbformat_minor": 5
}
