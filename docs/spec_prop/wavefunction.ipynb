{
 "cells": [
  {
   "cell_type": "markdown",
   "id": "56bc386f-2f3c-48eb-a7ec-6eb6552bb007",
   "metadata": {},
   "source": [
    "# Wave function methods\n",
    "\n",
    "\n",
    "- [Configuration interaction (CI) response](ci) <br>\n",
    "A direct application of exact state response to full and truncated CI.\n",
    "\n",
    "\n",
    "- [The algebraic diagrammatic construction (ADC) method](adc) <br>\n",
    "Using the ADC scheme for the polarization propagator to obtain excited states and excited state properties."
   ]
  }
 ],
 "metadata": {
  "kernelspec": {
   "display_name": "Python 3 (ipykernel)",
   "language": "python",
   "name": "python3"
  },
  "language_info": {
   "codemirror_mode": {
    "name": "ipython",
    "version": 3
   },
   "file_extension": ".py",
   "mimetype": "text/x-python",
   "name": "python",
   "nbconvert_exporter": "python",
   "pygments_lexer": "ipython3",
   "version": "3.11.7"
  }
 },
 "nbformat": 4,
 "nbformat_minor": 5
}
