{
 "cells": [
  {
   "cell_type": "markdown",
   "id": "f6ce7391-df29-4142-8e33-dab81e3cea42",
   "metadata": {
    "editable": true,
    "slideshow": {
     "slide_type": ""
    },
    "tags": []
   },
   "source": [
    "# Finite field method"
   ]
  },
  {
   "cell_type": "code",
   "execution_count": 6,
   "id": "de1dc2e4-74e7-4864-9004-e9dba027c064",
   "metadata": {
    "editable": true,
    "scrolled": true,
    "slideshow": {
     "slide_type": ""
    },
    "tags": [
     "remove-output"
    ]
   },
   "outputs": [],
   "source": [
    "import numpy as np\n",
    "import veloxchem as vlx"
   ]
  },
  {
   "cell_type": "code",
   "execution_count": 3,
   "id": "4e60ab21-e77c-4d70-9865-3d3289baf824",
   "metadata": {
    "editable": true,
    "scrolled": true,
    "slideshow": {
     "slide_type": ""
    },
    "tags": [
     "remove_output"
    ]
   },
   "outputs": [],
   "source": [
    "h2o_xyz = \"\"\"3\n",
    "\n",
    "O    0.000000000000        0.000000000000        0.000000000000\n",
    "H    0.000000000000        0.740848095288        0.582094932012\n",
    "H    0.000000000000       -0.740848095288        0.582094932012\n",
    "\"\"\"\n",
    "\n",
    "molecule = vlx.Molecule.read_xyz_string(h2o_xyz)\n",
    "basis = vlx.MolecularBasis.read(molecule, \"def2-svpd\", ostream=None)\n",
    "\n",
    "scf_drv = vlx.ScfRestrictedDriver()\n",
    "scf_drv.ostream.mute()\n",
    "\n",
    "scf_drv.xcfun = \"b3lyp\""
   ]
  },
  {
   "cell_type": "code",
   "execution_count": 13,
   "id": "db20b247-3fd5-4a39-bbb4-8cb96a9204eb",
   "metadata": {
    "editable": true,
    "scrolled": true,
    "slideshow": {
     "slide_type": ""
    },
    "tags": [
     "remove_output"
    ]
   },
   "outputs": [],
   "source": [
    "E = {}\n",
    "\n",
    "for field_strength in np.arange(-0.002, 0.003, 0.001):\n",
    "    scf_drv.electric_field = [0.0, 0.0, field_strength]\n",
    "    scf_results = scf_drv.compute(molecule, basis)\n",
    "    E[str(field_strength)] = scf_results[\"scf_energy\"]"
   ]
  },
  {
   "cell_type": "code",
   "execution_count": 14,
   "id": "8c6d9462-e99b-4b88-9da4-13f7f9197087",
   "metadata": {
    "editable": true,
    "slideshow": {
     "slide_type": ""
    },
    "tags": []
   },
   "outputs": [
    {
     "name": "stdout",
     "output_type": "stream",
     "text": [
      "{'-0.002': -76.37782462224118, '-0.001': -76.3785553546291, '0.0': -76.37929544212912, '0.001': -76.38004487750558, '0.002': -76.3808036545698}\n"
     ]
    }
   ],
   "source": [
    "print(E)"
   ]
  },
  {
   "cell_type": "code",
   "execution_count": null,
   "id": "3fed3c14-d992-4c92-ae78-a6c5bf7f0dc0",
   "metadata": {
    "editable": true,
    "slideshow": {
     "slide_type": ""
    },
    "tags": []
   },
   "outputs": [],
   "source": []
  }
 ],
 "metadata": {
  "kernelspec": {
   "display_name": "Python 3 (ipykernel)",
   "language": "python",
   "name": "python3"
  },
  "language_info": {
   "codemirror_mode": {
    "name": "ipython",
    "version": 3
   },
   "file_extension": ".py",
   "mimetype": "text/x-python",
   "name": "python",
   "nbconvert_exporter": "python",
   "pygments_lexer": "ipython3",
   "version": "3.11.6"
  }
 },
 "nbformat": 4,
 "nbformat_minor": 5
}
