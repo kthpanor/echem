{
 "cells": [
  {
   "cell_type": "markdown",
   "id": "20fb2dab-c6f5-4e68-a79e-113381e903b0",
   "metadata": {},
   "source": [
    "# Energy determination of parameters"
   ]
  },
  {
   "cell_type": "code",
   "execution_count": null,
   "id": "dfaf8341-01c1-4b78-9d93-26ffd0477c19",
   "metadata": {},
   "outputs": [],
   "source": []
  }
 ],
 "metadata": {
  "kernelspec": {
   "display_name": "Python 3 (ipykernel)",
   "language": "python",
   "name": "python3"
  },
  "language_info": {
   "codemirror_mode": {
    "name": "ipython",
    "version": 3
   },
   "file_extension": ".py",
   "mimetype": "text/x-python",
   "name": "python",
   "nbconvert_exporter": "python",
   "pygments_lexer": "ipython3",
   "version": "3.11.7"
  }
 },
 "nbformat": 4,
 "nbformat_minor": 5
}
