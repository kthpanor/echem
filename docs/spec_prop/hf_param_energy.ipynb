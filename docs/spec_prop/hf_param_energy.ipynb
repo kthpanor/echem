{
 "cells": [
  {
   "cell_type": "markdown",
   "id": "20fb2dab-c6f5-4e68-a79e-113381e903b0",
   "metadata": {
    "editable": true,
    "slideshow": {
     "slide_type": ""
    },
    "tags": []
   },
   "source": [
    "# Energy determination of parameters"
   ]
  },
  {
   "cell_type": "code",
   "execution_count": 2,
   "id": "8b5e4a6a-fc77-4d58-8738-4f0fb001692f",
   "metadata": {
    "editable": true,
    "slideshow": {
     "slide_type": ""
    },
    "tags": [
     "remove-output"
    ]
   },
   "outputs": [
    {
     "name": "stdout",
     "output_type": "stream",
     "text": [
      "* Warning * Environment variable OMP_NUM_THREADS not set.\n",
      "* Warning * Setting OMP_NUM_THREADS to 4.\n"
     ]
    }
   ],
   "source": [
    "import numpy as np\n",
    "import veloxchem as vlx"
   ]
  },
  {
   "cell_type": "markdown",
   "id": "98ee8884-c394-47ca-b98e-426170920e1e",
   "metadata": {
    "editable": true,
    "slideshow": {
     "slide_type": ""
    },
    "tags": []
   },
   "source": [
    "## Order expansion of parameters\n",
    "\n",
    "The wave function parameters are expanded in orders of the external field\n",
    "\n",
    "$$\n",
    "\\kappa_{ai}(F) =\n",
    "\\kappa_{ai}^{(1)} +\n",
    "\\kappa_{ai}^{(2)} + \\ldots\n",
    "$$\n",
    "\n",
    "such that $\\kappa_{ai}= 0$ in the limit of $F = 0$.\n",
    "\n",
    "Conversely, \n",
    "\n",
    "$$\n",
    "\\kappa_{ai}^{(1)} =\n",
    "\\left.\n",
    "\\frac{\n",
    "d \\kappa_{ai}\n",
    "}{\n",
    "d F_{\\alpha}\n",
    "}\n",
    "\\right|_{F=0} F_{\\alpha} \n",
    "$$"
   ]
  },
  {
   "cell_type": "markdown",
   "id": "1226f6d4-5fc8-45cd-b6a4-b31381ce50d5",
   "metadata": {
    "editable": true,
    "slideshow": {
     "slide_type": ""
    },
    "tags": []
   },
   "source": [
    "## Linear response equation\n",
    "\n",
    "The first-order response can be determined from the field-derivative of the variational condition\n",
    "\n",
    "\\begin{align*}\n",
    "0 & =\n",
    "\\Big[\n",
    "\\frac{\n",
    "d\n",
    "}{\n",
    "d F_{\\alpha}\n",
    "} \n",
    "\\frac{\\partial E(\\kappa, F)}{\\partial \\kappa_{bj}^*}\n",
    "\\Big]_{F=0} \n",
    "\\\\ & = \n",
    "\\Big[\n",
    "\\frac{\\partial^2 E(\\kappa, F)}{\\partial \\kappa_{bj}^* \\partial F_\\alpha}\n",
    "+\n",
    "\\sum_{ai} \n",
    "\\Big(\n",
    "\\frac{\n",
    "\\partial^2 E(\\kappa, F)\n",
    "}{\n",
    "\\partial \\kappa_{bj}^* \\partial \\kappa_{ai}\n",
    "}\n",
    "\\frac{\\partial \\kappa_{ai}}{\\partial F_\\alpha} \n",
    "+\n",
    "\\frac{\n",
    "\\partial^2 E(\\kappa, F)\n",
    "}{\n",
    "\\partial \\kappa_{bj}^* \\partial \\kappa_{ai}^*\n",
    "}\n",
    "\\frac{\\partial \\kappa_{ai}^*}{\\partial F_\\alpha} \n",
    "\\Big)\n",
    "\\Big]_{F=0} \n",
    "\\end{align*}"
   ]
  },
  {
   "cell_type": "markdown",
   "id": "07011a7e-b28d-4fe6-99c5-53264dcfd181",
   "metadata": {
    "editable": true,
    "slideshow": {
     "slide_type": ""
    },
    "tags": []
   },
   "source": [
    "We here view the $ai$-pair of unoccupied/occupied orbital indices as a compound index $n$ (and similarly for $bj$ and $m$), inviting us to introduce a compact matrix notation to arrive at the linear response equation."
   ]
  },
  {
   "cell_type": "markdown",
   "id": "f9b0273d-9bbd-4470-af87-5550ff2a5278",
   "metadata": {
    "editable": true,
    "slideshow": {
     "slide_type": ""
    },
    "tags": []
   },
   "source": [
    "$$\n",
    "\\mathbf{E}^{[2]} \\mathbf{N} = - \\mathbf{B}^{[1]}\n",
    "$$"
   ]
  },
  {
   "cell_type": "markdown",
   "id": "54992eda-4f4a-4af5-b405-fde45b55bb27",
   "metadata": {
    "editable": true,
    "slideshow": {
     "slide_type": ""
    },
    "tags": []
   },
   "source": [
    "In order, we have introduced:\n",
    "\n",
    "1. The Hermitian electronic Hessian\n",
    "$$\n",
    "\\mathbf{E}^{[2]} = \n",
    "\\begin{pmatrix}\n",
    "\\mathbf{A} & \\mathbf{B} \\\\\n",
    "\\mathbf{B}^* & \\mathbf{A}^* \\\\\n",
    "\\end{pmatrix}\n",
    "$$\n",
    "with blocks\n",
    "$$\n",
    "A_{mn} =\n",
    "\\left.\n",
    "\\frac{\n",
    "\\partial^2 E(\\kappa, F)\n",
    "}{\n",
    "\\partial \\kappa_{m}^* \\partial \\kappa_{n}\n",
    "}\n",
    "\\right|_{F = 0} ; \\qquad\n",
    "B_{mn} =\n",
    "\\left.\n",
    "\\frac{\n",
    "\\partial^2 E(\\kappa, F)\n",
    "}{\n",
    "\\partial \\kappa_{m}^* \\partial \\kappa_{n}^*\n",
    "}\n",
    "\\right|_{F = 0} \n",
    "$$"
   ]
  },
  {
   "cell_type": "markdown",
   "id": "16721195-6d2f-4a7e-bcd8-f0761228cbbf",
   "metadata": {
    "editable": true,
    "slideshow": {
     "slide_type": ""
    },
    "tags": []
   },
   "source": [
    "2. The (unknown) response vector\n",
    "$$\n",
    "\\mathbf{N} =\n",
    "\\begin{pmatrix}\n",
    "\\mathbf{Z} \\\\\n",
    "\\mathbf{Z}^*\n",
    "\\end{pmatrix}\n",
    "$$\n",
    "with \n",
    "$$\n",
    "Z_n = \n",
    "\\left.\n",
    "\\frac{\\partial \\kappa_n}{\\partial F_\\alpha}\n",
    "\\right|_{F=0}\n",
    "$$"
   ]
  },
  {
   "cell_type": "markdown",
   "id": "06977fcc-43f5-40cc-9b27-824b51824872",
   "metadata": {
    "editable": true,
    "slideshow": {
     "slide_type": ""
    },
    "tags": []
   },
   "source": [
    "3. And the property gradient\n",
    "$$\n",
    "\\mathbf{B}^{[1]} =\n",
    "\\begin{pmatrix}\n",
    "\\mathbf{g} \\\\\n",
    "\\mathbf{g}^* \\\\\n",
    "\\end{pmatrix}\n",
    "$$\n",
    "with\n",
    "$$\n",
    "g_m = \n",
    "\\left.\n",
    "\\frac{\\partial^2 E(\\kappa, F)}{\\partial \\kappa_{m}^* \\partial F_\\alpha}\n",
    "\\right|_{F=0}\n",
    "$$"
   ]
  },
  {
   "attachments": {},
   "cell_type": "markdown",
   "id": "37f3068a-e3c6-46ce-9869-990cf0433c5a",
   "metadata": {
    "editable": true,
    "slideshow": {
     "slide_type": ""
    },
    "tags": []
   },
   "source": [
    "## Baker–Campbell–Hausdorff expansion\n",
    "\n",
    "We have\n",
    "\n",
    "\\begin{align*}\n",
    "E(\\kappa,F) & =\n",
    "\\langle 0 | e^{i\\hat{\\kappa}} \\hat{H} e^{-i\\hat{\\kappa}} | 0 \\rangle\n",
    "\\\\ & =\n",
    "\\langle 0 | \\hat{H} | 0 \\rangle +\n",
    "i \\langle 0 | [\\hat{\\kappa}, \\hat{H}] | 0 \\rangle -\n",
    "\\frac{1}{2}\n",
    "\\langle 0 | [\\hat{\\kappa}, [\\hat{\\kappa}, \\hat{H}]] | 0 \\rangle +\n",
    "\\cdots\n",
    "\\end{align*}\n",
    "\n",
    "and let us adopt the electric-dipole approximation\n",
    "\n",
    "$$\n",
    "\\hat{H} = \\hat{H}_0 - \\hat{\\mu}_\\alpha F_\\alpha\n",
    "$$\n",
    "\n",
    "It is then straightforward to evaluate that electronic Hessian and the property gradient. We get\n",
    "\n",
    "\\begin{align*}\n",
    "A_{mn} & = -\n",
    "\\langle 0 | [\\hat{a}^\\dagger_j \\hat{a}_b, \n",
    "[\\hat{a}^\\dagger_a \\hat{a}_i, \\hat{H}_0]] | 0 \\rangle\n",
    "\\\\ & =\n",
    "\\langle 0_j^b | \\hat{H}_0 | 0_i^a \\rangle -\n",
    "\\langle 0 | \\hat{H}_0 | 0 \\rangle \\delta_{ab} \\delta_{ij}\n",
    "\\\\\n",
    "B_{mn} & = -\n",
    "\\langle 0 | [\\hat{a}^\\dagger_j \\hat{a}_b, \n",
    "[\\hat{a}^\\dagger_i \\hat{a}_a, \\hat{H}_0]] | 0 \\rangle\n",
    "\\\\ & =\n",
    "- \\langle 0_{ij}^{ab} | \\hat{H}_0 | 0 \\rangle \n",
    "( 1 - \\delta_{ab} ) ( 1 - \\delta_{ij} )\n",
    "\\end{align*}\n",
    "\n",
    "and\n",
    "\n",
    "\\begin{align*}\n",
    "g_m & = i\n",
    "\\langle 0 | [\\hat{a}^\\dagger_j \\hat{a}_b, -\\hat{\\mu}_\\alpha ] | 0 \\rangle \n",
    "\\\\ & =\n",
    "- i \\langle 0_j^b | \\hat{\\mu}_\\alpha | 0 \\rangle\n",
    "\\\\ & =\n",
    "-i \\langle \\psi_j | \\hat{\\mu}_\\alpha | \\psi_b \\rangle \n",
    "\\end{align*}"
   ]
  },
  {
   "cell_type": "markdown",
   "id": "98d81955-60a3-48b5-be17-e5bd5bbff976",
   "metadata": {
    "editable": true,
    "slideshow": {
     "slide_type": ""
    },
    "tags": []
   },
   "source": [
    "## Spin-adapted excitation operators\n",
    "\n",
    "For closed-shell reference states in VeloxChem, we are using [normalized spin-adapted excitation operators](spin_adapted_excitation_operators) that will result in \n",
    "\n",
    "\\begin{align*}\n",
    "A_{mn}  &= (\\varepsilon_a - \\varepsilon_i) \\delta_{ab} \\delta_{ij} + 2 (jb|ia) - (ji|ba)\n",
    "\\\\\n",
    "B_{mn}  &= (jb|ai) - (ja|bi)\n",
    "\\end{align*}\n",
    "\n",
    "and \n",
    "\n",
    "\\begin{align*}\n",
    "g_m & = -i \\sqrt{2} ( \\phi_j | \\hat{\\mu}_\\alpha | \\phi_b ) \n",
    "\\end{align*}\n",
    "\n",
    "and, in this case, the block dimension equals \n",
    "\n",
    "$$\n",
    "n_\\mathrm{dim} = n_\\mathrm{occ} \\times n_\\mathrm{virt}\n",
    "$$"
   ]
  },
  {
   "cell_type": "markdown",
   "id": "8815c041-5e6e-466f-a81c-7165a01e8cb7",
   "metadata": {
    "editable": true,
    "slideshow": {
     "slide_type": ""
    },
    "tags": []
   },
   "source": [
    "## Illustration\n",
    "\n",
    "### Setup"
   ]
  },
  {
   "cell_type": "code",
   "execution_count": 3,
   "id": "68a31e6f-8a61-4dba-b99c-12fbeeb7614f",
   "metadata": {
    "editable": true,
    "slideshow": {
     "slide_type": ""
    },
    "tags": []
   },
   "outputs": [],
   "source": [
    "h2o_xyz = \"\"\"3\n",
    "\n",
    "O    0.000000000000        0.000000000000        0.000000000000\n",
    "H    0.000000000000        0.740848095288        0.582094932012\n",
    "H    0.000000000000       -0.740848095288        0.582094932012\n",
    "\"\"\""
   ]
  },
  {
   "cell_type": "code",
   "execution_count": 47,
   "id": "7c7fe769-d5ab-409a-b5c2-527bbf9d78b9",
   "metadata": {
    "editable": true,
    "slideshow": {
     "slide_type": ""
    },
    "tags": []
   },
   "outputs": [],
   "source": [
    "scf_drv = vlx.ScfRestrictedDriver()\n",
    "scf_drv.ostream.mute()\n",
    "\n",
    "molecule = vlx.Molecule.read_xyz_string(h2o_xyz)\n",
    "basis = vlx.MolecularBasis.read(molecule, \"6-31g\", ostream=None)\n",
    "\n",
    "scf_results = scf_drv.compute(molecule, basis)"
   ]
  },
  {
   "cell_type": "code",
   "execution_count": 62,
   "id": "be3f4d46-c5d5-4cbd-b275-9ce3602c1bc1",
   "metadata": {
    "editable": true,
    "slideshow": {
     "slide_type": ""
    },
    "tags": []
   },
   "outputs": [],
   "source": [
    "epsilon = scf_results[\"E_alpha\"]  # orbital energies"
   ]
  },
  {
   "cell_type": "code",
   "execution_count": 63,
   "id": "044010c4-f8d0-44c7-a37b-9635136cb717",
   "metadata": {
    "editable": true,
    "slideshow": {
     "slide_type": ""
    },
    "tags": []
   },
   "outputs": [
    {
     "name": "stdout",
     "output_type": "stream",
     "text": [
      "(ov|ov): (5, 8, 5, 8)\n",
      "(oo|vv): (5, 5, 8, 8)\n"
     ]
    }
   ],
   "source": [
    "erimo_drv = vlx.MOIntegralsDriver()  # ERI blocks in the MO basis\n",
    "\n",
    "ovov = erimo_drv.compute_in_memory(molecule, basis, scf_drv.mol_orbs, \"chem_ovov\")\n",
    "oovv = erimo_drv.compute_in_memory(molecule, basis, scf_drv.mol_orbs, \"chem_oovv\")\n",
    "\n",
    "print(\"(ov|ov):\", ovov.shape)\n",
    "print(\"(oo|vv):\", oovv.shape)"
   ]
  },
  {
   "cell_type": "code",
   "execution_count": 108,
   "id": "4f226fed-a78c-4c85-a26a-e892f59d4b86",
   "metadata": {
    "editable": true,
    "slideshow": {
     "slide_type": ""
    },
    "tags": []
   },
   "outputs": [
    {
     "name": "stdout",
     "output_type": "stream",
     "text": [
      "Number of occupied orbitals: 5\n",
      "Number of virtual orbitals : 8\n",
      "Block dimension            : 40\n"
     ]
    }
   ],
   "source": [
    "nocc = molecule.number_of_alpha_electrons()\n",
    "norb = basis.get_dimension_of_basis(molecule)\n",
    "nvirt = norb - nocc\n",
    "ndim = nocc * nvirt\n",
    "\n",
    "print(\"Number of occupied orbitals:\", nocc)\n",
    "print(\"Number of virtual orbitals :\", nvirt)\n",
    "print(\"Block dimension            :\", ndim)"
   ]
  },
  {
   "cell_type": "markdown",
   "id": "d605cf29-c947-40c7-aae4-14936b91b4a7",
   "metadata": {
    "editable": true,
    "slideshow": {
     "slide_type": ""
    },
    "tags": []
   },
   "source": [
    "### Electronic Hessian"
   ]
  },
  {
   "attachments": {},
   "cell_type": "markdown",
   "id": "2ff7ec6a-d882-436a-8618-af907d3f637b",
   "metadata": {
    "editable": true,
    "slideshow": {
     "slide_type": ""
    },
    "tags": []
   },
   "source": [
    "We determine the electronic Hessian\n",
    "\n",
    "$$\n",
    "\\mathbf{E}^{[2]} = \n",
    "\\begin{pmatrix}\n",
    "\\mathbf{A} & \\mathbf{B} \\\\\n",
    "\\mathbf{B}^* & \\mathbf{A}^* \\\\\n",
    "\\end{pmatrix}\n",
    "$$"
   ]
  },
  {
   "cell_type": "code",
   "execution_count": 104,
   "id": "91db810e-53cb-44cc-acb5-31c38b28386d",
   "metadata": {
    "editable": true,
    "slideshow": {
     "slide_type": ""
    },
    "tags": []
   },
   "outputs": [],
   "source": [
    "def delta(i, j):\n",
    "\n",
    "    if i == j:\n",
    "        delta = 1\n",
    "    else:\n",
    "        delta = 0\n",
    "        \n",
    "    return delta"
   ]
  },
  {
   "cell_type": "code",
   "execution_count": 109,
   "id": "043761e6-72dc-44e8-94c8-653434482643",
   "metadata": {
    "editable": true,
    "slideshow": {
     "slide_type": ""
    },
    "tags": []
   },
   "outputs": [],
   "source": [
    "A = np.zeros((ndim, ndim))\n",
    "B = np.zeros((ndim, ndim))\n",
    "\n",
    "m = 0\n",
    "for j in range(nocc):\n",
    "    for b in range(nvirt):\n",
    "        n = 0\n",
    "        for i in range(nocc):\n",
    "            for a in range(nvirt):\n",
    "                A[m, n] = (\n",
    "                    (epsilon[a + nocc] - epsilon[i]) * delta(a, b) * delta(i, j)\n",
    "                    + 2 * ovov[j, b, i, a]\n",
    "                    - oovv[j, i, b, a]\n",
    "                )\n",
    "                #B[m,n] = ...\n",
    "                n += 1\n",
    "        m += 1"
   ]
  },
  {
   "cell_type": "markdown",
   "id": "e5373321-9738-47a8-b87e-8e2eed5693ac",
   "metadata": {
    "editable": true,
    "slideshow": {
     "slide_type": ""
    },
    "tags": []
   },
   "source": [
    "We ensure that our result equals the electronic Hessian obtained with the `get_e2()` method of the `LinearResponseEigenSolver` class."
   ]
  },
  {
   "cell_type": "code",
   "execution_count": 106,
   "id": "b3fdefc8-beea-4a88-a5c4-50fbe74a5b19",
   "metadata": {
    "editable": true,
    "slideshow": {
     "slide_type": ""
    },
    "tags": []
   },
   "outputs": [],
   "source": [
    "lres_drv = vlx.LinearResponseEigenSolver()\n",
    "lres_drv.ostream.mute()\n",
    "\n",
    "E2_ref = lres_drv.get_e2(molecule, basis, scf_results)"
   ]
  },
  {
   "cell_type": "code",
   "execution_count": 107,
   "id": "6dd18dbb-a1d5-4a77-be13-8b3b58e39e82",
   "metadata": {
    "editable": true,
    "slideshow": {
     "slide_type": ""
    },
    "tags": []
   },
   "outputs": [],
   "source": [
    "np.testing.assert_allclose(A, E2_ref[:ndim, :ndim], atol=1.0e-6)"
   ]
  },
  {
   "cell_type": "markdown",
   "id": "f9e0d263-6b6a-4a35-a9c1-c326c2c093fd",
   "metadata": {
    "editable": true,
    "slideshow": {
     "slide_type": ""
    },
    "tags": []
   },
   "source": [
    "### Property gradient"
   ]
  },
  {
   "cell_type": "markdown",
   "id": "f5b6c838-275f-4375-9c15-42f3d3432e77",
   "metadata": {
    "editable": true,
    "slideshow": {
     "slide_type": ""
    },
    "tags": []
   },
   "source": [
    "We determine the property gradient\n",
    "\n",
    "$$\n",
    "\\mathbf{B}^{[1]} =\n",
    "\\begin{pmatrix}\n",
    "\\mathbf{g} \\\\\n",
    "\\mathbf{g}^* \\\\\n",
    "\\end{pmatrix}\n",
    "$$\n",
    "\n",
    "for the operator $\\hat{\\mu}_z$."
   ]
  },
  {
   "cell_type": "code",
   "execution_count": 49,
   "id": "f104bc63-7c8c-46cf-82b5-f5455d9ef453",
   "metadata": {
    "editable": true,
    "slideshow": {
     "slide_type": ""
    },
    "tags": []
   },
   "outputs": [],
   "source": [
    "dipole_drv = vlx.ElectricDipoleIntegralsDriver()\n",
    "dipole_mats = dipole_drv.compute(molecule, basis)\n",
    "\n",
    "mu_z_ao = -1.0 * dipole_mats.z_to_numpy()\n",
    "\n",
    "C = scf_results[\"C_alpha\"]\n",
    "\n",
    "mu_z = np.einsum(\"ap, ab, bq -> pq\", C, mu_z_ao, C)"
   ]
  },
  {
   "cell_type": "code",
   "execution_count": 50,
   "id": "79acbb7a-6ff4-45eb-96b5-3827f0d5cdcc",
   "metadata": {
    "editable": true,
    "slideshow": {
     "slide_type": ""
    },
    "tags": []
   },
   "outputs": [],
   "source": [
    "B1 = np.zeros(2 * ndim, dtype=complex)\n",
    "\n",
    "g = []\n",
    "for j in range(nocc):\n",
    "    for b in range(nocc, norb):\n",
    "        g.append(-1j * np.sqrt(2) * mu_z[j, b])\n",
    "g = np.array(g)\n",
    "\n",
    "B1[:ndim] = g\n",
    "B1[ndim:] = g.conj()"
   ]
  },
  {
   "cell_type": "markdown",
   "id": "9cc1cbfd-21b7-45c9-8e49-06439ac01d4f",
   "metadata": {
    "editable": true,
    "slideshow": {
     "slide_type": ""
    },
    "tags": []
   },
   "source": [
    "We ensure that our result equals the reference property gradient obtained with the `get_prop_grad()` method of the `LinearResponseSolver` class."
   ]
  },
  {
   "cell_type": "code",
   "execution_count": 95,
   "id": "c1e64c76-21e9-46bc-883a-3e504077a58c",
   "metadata": {
    "editable": true,
    "slideshow": {
     "slide_type": ""
    },
    "tags": []
   },
   "outputs": [],
   "source": [
    "lres_drv = vlx.LinearResponseSolver()\n",
    "\n",
    "B1_ref = lrs_drv.get_prop_grad(\n",
    "    \"electric_dipole\", \"z\", molecule, basis, scf_drv.scf_tensors\n",
    ")[0]"
   ]
  },
  {
   "cell_type": "code",
   "execution_count": 96,
   "id": "e8902cdb-e44d-4f3f-87f4-a87532e24563",
   "metadata": {
    "editable": true,
    "slideshow": {
     "slide_type": ""
    },
    "tags": []
   },
   "outputs": [],
   "source": [
    "np.testing.assert_allclose(B1.imag, B1_ref, atol=1.0e-12)"
   ]
  },
  {
   "cell_type": "markdown",
   "id": "35be3e06-b037-40c8-8f44-4ff91bbdeff3",
   "metadata": {
    "editable": true,
    "slideshow": {
     "slide_type": ""
    },
    "tags": []
   },
   "source": [
    "### Response vector\n",
    "\n",
    "We determine the response vector\n",
    "\n",
    "$$\n",
    "\\mathbf{N} = - \\Big[ \\mathbf{E}^{[2]}  \\Big]^{-1}\\mathbf{B}^{[1]}\n",
    "$$"
   ]
  },
  {
   "cell_type": "code",
   "execution_count": 10,
   "id": "1867d0c5-7e60-4968-99d8-6d6faf029284",
   "metadata": {
    "editable": true,
    "slideshow": {
     "slide_type": ""
    },
    "tags": []
   },
   "outputs": [],
   "source": [
    "Z = (\n",
    "    -0.5\n",
    "    * (\n",
    "        lrf_results[\"solutions\"][(\"z\", 0.0)].get_full_vector(0)\n",
    "        + lrf_results[\"solutions\"][(\"z\", 0.0)].get_full_vector(1)\n",
    "    )\n",
    "    * np.sqrt(2)\n",
    ")\n",
    "\n",
    "Y = (\n",
    "    -0.5\n",
    "    * (\n",
    "        lrf_results[\"solutions\"][(\"z\", 0.0)].get_full_vector(0)\n",
    "        - lrf_results[\"solutions\"][(\"z\", 0.0)].get_full_vector(1)\n",
    "    )\n",
    "    * np.sqrt(2)\n",
    ")"
   ]
  },
  {
   "cell_type": "code",
   "execution_count": 11,
   "id": "84461671-8ed4-45dc-95d8-67cbca481f4b",
   "metadata": {
    "editable": true,
    "slideshow": {
     "slide_type": ""
    },
    "tags": []
   },
   "outputs": [
    {
     "data": {
      "text/plain": [
       "array([-8.48351857e-04,  1.61661005e-17, -6.03746199e-17,  2.15254468e-19,\n",
       "       -4.18679500e-03, -6.98494415e-04, -2.28651384e-17, -1.21381762e-04,\n",
       "        4.06014225e-02, -4.68699343e-16])"
      ]
     },
     "execution_count": 11,
     "metadata": {},
     "output_type": "execute_result"
    }
   ],
   "source": [
    "Z[:10]"
   ]
  },
  {
   "cell_type": "code",
   "execution_count": 12,
   "id": "15e70fee-dbe7-4333-8997-bf83dea9e38e",
   "metadata": {
    "editable": true,
    "slideshow": {
     "slide_type": ""
    },
    "tags": []
   },
   "outputs": [
    {
     "data": {
      "text/plain": [
       "array([ 8.48351857e-04, -1.61661005e-17,  6.03746199e-17, -2.15254468e-19,\n",
       "        4.18679500e-03,  6.98494415e-04,  2.28651384e-17,  1.21381762e-04,\n",
       "       -4.06014225e-02,  4.68699343e-16])"
      ]
     },
     "execution_count": 12,
     "metadata": {},
     "output_type": "execute_result"
    }
   ],
   "source": [
    "Y[:10]"
   ]
  },
  {
   "cell_type": "code",
   "execution_count": null,
   "id": "88b1d355-52b5-4389-a8c4-9c0bb7b0a047",
   "metadata": {
    "editable": true,
    "slideshow": {
     "slide_type": ""
    },
    "tags": []
   },
   "outputs": [],
   "source": []
  }
 ],
 "metadata": {
  "kernelspec": {
   "display_name": "Python 3 (ipykernel)",
   "language": "python",
   "name": "python3"
  },
  "language_info": {
   "codemirror_mode": {
    "name": "ipython",
    "version": 3
   },
   "file_extension": ".py",
   "mimetype": "text/x-python",
   "name": "python",
   "nbconvert_exporter": "python",
   "pygments_lexer": "ipython3",
   "version": "3.10.13"
  }
 },
 "nbformat": 4,
 "nbformat_minor": 5
}
