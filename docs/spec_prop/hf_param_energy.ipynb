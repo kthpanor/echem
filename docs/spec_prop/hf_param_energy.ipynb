{
 "cells": [
  {
   "cell_type": "markdown",
   "id": "20fb2dab-c6f5-4e68-a79e-113381e903b0",
   "metadata": {
    "editable": true,
    "slideshow": {
     "slide_type": ""
    },
    "tags": []
   },
   "source": [
    "# Energy determination of parameters"
   ]
  },
  {
   "cell_type": "markdown",
   "id": "98ee8884-c394-47ca-b98e-426170920e1e",
   "metadata": {
    "editable": true,
    "slideshow": {
     "slide_type": ""
    },
    "tags": []
   },
   "source": [
    "## Order expansion of parameters\n",
    "\n",
    "The wave function parameters are expanded in orders of the external field\n",
    "\n",
    "$$\n",
    "\\kappa_{ai}(F) =\n",
    "\\kappa_{ai}^{(1)} +\n",
    "\\kappa_{ai}^{(2)} + \\ldots\n",
    "$$\n",
    "\n",
    "such that $\\kappa_{ai}= 0$ in the limit of $F = 0$.\n",
    "\n",
    "Conversely, \n",
    "\n",
    "$$\n",
    "\\kappa_{ai}^{(1)} =\n",
    "\\left.\n",
    "\\frac{\n",
    "d \\kappa_{ai}\n",
    "}{\n",
    "d F_{\\alpha}\n",
    "}\n",
    "\\right|_{F=0} F_{\\alpha} \n",
    "$$"
   ]
  },
  {
   "cell_type": "markdown",
   "id": "1226f6d4-5fc8-45cd-b6a4-b31381ce50d5",
   "metadata": {
    "editable": true,
    "slideshow": {
     "slide_type": ""
    },
    "tags": []
   },
   "source": [
    "## Linear response equation\n",
    "\n",
    "The first-order response can be determined from the field-derivative of the variational condition\n",
    "\n",
    "\\begin{align*}\n",
    "0 & =\n",
    "\\Big[\n",
    "\\frac{\n",
    "d\n",
    "}{\n",
    "d F_{\\alpha}\n",
    "} \n",
    "\\frac{\\partial E(\\kappa, F)}{\\partial \\kappa_{bj}^*}\n",
    "\\Big]_{F=0} \n",
    "\\\\ & = \n",
    "\\Big[\n",
    "\\frac{\\partial^2 E(\\kappa, F)}{\\partial \\kappa_{bj}^* \\partial F_\\alpha}\n",
    "+\n",
    "\\sum_{ai} \n",
    "\\Big(\n",
    "\\frac{\n",
    "\\partial^2 E(\\kappa, F)\n",
    "}{\n",
    "\\partial \\kappa_{bj}^* \\partial \\kappa_{ai}\n",
    "}\n",
    "\\frac{\\partial \\kappa_{ai}}{\\partial F_\\alpha} \n",
    "+\n",
    "\\frac{\n",
    "\\partial^2 E(\\kappa, F)\n",
    "}{\n",
    "\\partial \\kappa_{bj}^* \\partial \\kappa_{ai}^*\n",
    "}\n",
    "\\frac{\\partial \\kappa_{ai}^*}{\\partial F_\\alpha} \n",
    "\\Big)\n",
    "\\Big]_{F=0} \n",
    "\\end{align*}"
   ]
  },
  {
   "cell_type": "markdown",
   "id": "07011a7e-b28d-4fe6-99c5-53264dcfd181",
   "metadata": {
    "editable": true,
    "slideshow": {
     "slide_type": ""
    },
    "tags": []
   },
   "source": [
    "We here view the $ai$-pair of unoccupied/occupied orbital indices as a compound index $n$ (and similarly for $bj$ and $m$), inviting us to introduce a compact matrix notation to arrive at the linear response equation."
   ]
  },
  {
   "cell_type": "markdown",
   "id": "f9b0273d-9bbd-4470-af87-5550ff2a5278",
   "metadata": {
    "editable": true,
    "slideshow": {
     "slide_type": ""
    },
    "tags": []
   },
   "source": [
    "$$\n",
    "\\mathbf{E}^{[2]} \\mathbf{N} = - \\mathbf{B}^{[1]}\n",
    "$$"
   ]
  },
  {
   "cell_type": "markdown",
   "id": "54992eda-4f4a-4af5-b405-fde45b55bb27",
   "metadata": {
    "editable": true,
    "slideshow": {
     "slide_type": ""
    },
    "tags": []
   },
   "source": [
    "In order, we have introduced:\n",
    "\n",
    "1. The Hermitian electronic Hessian\n",
    "$$\n",
    "\\mathbf{E}^{[2]} = \n",
    "\\begin{pmatrix}\n",
    "\\mathbf{A} & \\mathbf{B} \\\\\n",
    "\\mathbf{B}^* & \\mathbf{A}^* \\\\\n",
    "\\end{pmatrix}\n",
    "$$\n",
    "with blocks\n",
    "$$\n",
    "A_{mn} =\n",
    "\\left.\n",
    "\\frac{\n",
    "\\partial^2 E(\\kappa, F)\n",
    "}{\n",
    "\\partial \\kappa_{m}^* \\partial \\kappa_{n}\n",
    "}\n",
    "\\right|_{F = 0} ; \\qquad\n",
    "B_{mn} =\n",
    "\\left.\n",
    "\\frac{\n",
    "\\partial^2 E(\\kappa, F)\n",
    "}{\n",
    "\\partial \\kappa_{m}^* \\partial \\kappa_{n}^*\n",
    "}\n",
    "\\right|_{F = 0} \n",
    "$$"
   ]
  },
  {
   "cell_type": "markdown",
   "id": "16721195-6d2f-4a7e-bcd8-f0761228cbbf",
   "metadata": {
    "editable": true,
    "slideshow": {
     "slide_type": ""
    },
    "tags": []
   },
   "source": [
    "2. The (unknown) response vector\n",
    "$$\n",
    "\\mathbf{N} =\n",
    "\\begin{pmatrix}\n",
    "\\mathbf{Z} \\\\\n",
    "\\mathbf{Z}^*\n",
    "\\end{pmatrix}\n",
    "$$\n",
    "with \n",
    "$$\n",
    "Z_n = \n",
    "\\left.\n",
    "\\frac{\\partial \\kappa_n}{\\partial F_\\alpha}\n",
    "\\right|_{F=0}\n",
    "$$"
   ]
  },
  {
   "cell_type": "markdown",
   "id": "06977fcc-43f5-40cc-9b27-824b51824872",
   "metadata": {
    "editable": true,
    "slideshow": {
     "slide_type": ""
    },
    "tags": []
   },
   "source": [
    "3. And the property gradient\n",
    "$$\n",
    "\\mathbf{B}^{[1]} =\n",
    "\\begin{pmatrix}\n",
    "\\mathbf{g} \\\\\n",
    "\\mathbf{g}^* \\\\\n",
    "\\end{pmatrix}\n",
    "$$\n",
    "with\n",
    "$$\n",
    "g_m = \n",
    "\\left.\n",
    "\\frac{\\partial^2 E(\\kappa, F)}{\\partial \\kappa_{m}^* \\partial F_\\alpha}\n",
    "\\right|_{F=0}\n",
    "$$"
   ]
  },
  {
   "cell_type": "markdown",
   "id": "3f7f3632-fd7b-46b7-b46b-ad7cebbd5eb2",
   "metadata": {
    "editable": true,
    "slideshow": {
     "slide_type": ""
    },
    "tags": []
   },
   "source": [
    "## Baker–Campbell–Hausdorff expansion\n",
    "\n",
    "We have\n",
    "\n",
    "\\begin{align*}\n",
    "E(\\kappa,F) & =\n",
    "\\langle 0 | e^{i\\hat{\\kappa}} \\hat{H} e^{-i\\hat{\\kappa}} | 0 \\rangle\n",
    "\\\\ & =\n",
    "\\langle 0 | \\hat{H} | 0 \\rangle +\n",
    "i \\langle 0 | [\\hat{\\kappa}, \\hat{H}] | 0 \\rangle -\n",
    "\\frac{1}{2}\n",
    "\\langle 0 | [\\hat{\\kappa}, [\\hat{\\kappa}, \\hat{H}]] | 0 \\rangle +\n",
    "\\cdots\n",
    "\\end{align*}\n",
    "\n",
    "and let us adopt the electric-dipole approximation\n",
    "\n",
    "$$\n",
    "\\hat{H} = \\hat{H}_0 - \\hat{\\mu}_\\alpha F_\\alpha\n",
    "$$"
   ]
  },
  {
   "cell_type": "markdown",
   "id": "078586ff-208b-4574-a95f-13d9f25a7030",
   "metadata": {
    "editable": true,
    "slideshow": {
     "slide_type": ""
    },
    "tags": []
   },
   "source": [
    "It is then straightforward to evaluate that electronic Hessian and the property gradient. We get\n",
    "\n",
    "\\begin{align*}\n",
    "A_{mn} & = -\n",
    "\\langle 0 | [\\hat{a}^\\dagger_j \\hat{a}_b, \n",
    "[\\hat{a}^\\dagger_a \\hat{a}_i, \\hat{H}_0]] | 0 \\rangle\n",
    "\\\\ & =\n",
    "\\langle 0_j^b | \\hat{H}_0 | 0_i^a \\rangle -\n",
    "\\langle 0 | \\hat{H}_0 | 0 \\rangle \\delta_{ab} \\delta_{ij}\n",
    "\\\\\n",
    "B_{mn} & = -\n",
    "\\langle 0 | [\\hat{a}^\\dagger_j \\hat{a}_b, \n",
    "[\\hat{a}^\\dagger_i \\hat{a}_a, \\hat{H}_0]] | 0 \\rangle\n",
    "\\\\ & =\n",
    "- \\langle 0_{ij}^{ab} | \\hat{H}_0 | 0 \\rangle \n",
    "( 1 - \\delta_{ab} ) ( 1 - \\delta_{ij} )\n",
    "\\end{align*}\n",
    "\n",
    "and\n",
    "\n",
    "\\begin{align*}\n",
    "g_m & = i\n",
    "\\langle 0 | [\\hat{a}^\\dagger_j \\hat{a}_b, -\\hat{\\mu}_\\alpha ] | 0 \\rangle \n",
    "\\\\ & =\n",
    "- i \\langle 0_j^b | \\hat{\\mu}_\\alpha | 0 \\rangle\n",
    "\\end{align*}"
   ]
  },
  {
   "cell_type": "code",
   "execution_count": 2,
   "id": "8b5e4a6a-fc77-4d58-8738-4f0fb001692f",
   "metadata": {
    "editable": true,
    "slideshow": {
     "slide_type": ""
    },
    "tags": [
     "remove-output"
    ]
   },
   "outputs": [
    {
     "name": "stdout",
     "output_type": "stream",
     "text": [
      "* Warning * Environment variable OMP_NUM_THREADS not set.\n",
      "* Warning * Setting OMP_NUM_THREADS to 10.\n"
     ]
    }
   ],
   "source": [
    "import numpy as np\n",
    "import veloxchem as vlx"
   ]
  },
  {
   "cell_type": "code",
   "execution_count": 3,
   "id": "68a31e6f-8a61-4dba-b99c-12fbeeb7614f",
   "metadata": {
    "editable": true,
    "slideshow": {
     "slide_type": ""
    },
    "tags": []
   },
   "outputs": [],
   "source": [
    "ethylene_xyz = \"\"\"\n",
    "6\n",
    "\n",
    "C        0.67759997    0.00000000   0.00000000\n",
    "C       -0.67759997    0.00000000   0.00000000\n",
    "H        1.21655197    0.92414474   0.00000000\n",
    "H        1.21655197   -0.92414474   0.00000000\n",
    "H       -1.21655197   -0.92414474   0.00000000\n",
    "H       -1.21655197    0.92414474   0.00000000\n",
    "\"\"\""
   ]
  },
  {
   "cell_type": "code",
   "execution_count": 4,
   "id": "57c9c948-0d86-44ea-b481-73c8685ee333",
   "metadata": {
    "editable": true,
    "slideshow": {
     "slide_type": ""
    },
    "tags": []
   },
   "outputs": [
    {
     "name": "stdout",
     "output_type": "stream",
     "text": [
      "Number of occupied orbitals : 8\n",
      "Number of virtual orbitals  : 40\n",
      "Number of molecular orbitals: 48\n"
     ]
    }
   ],
   "source": [
    "molecule = vlx.Molecule.read_xyz_string(ethylene_xyz)\n",
    "basis = vlx.MolecularBasis.read(molecule, \"def2-svp\", ostream=None)\n",
    "\n",
    "nocc = molecule.number_of_alpha_electrons()\n",
    "norb = basis.get_dimension_of_basis(molecule)\n",
    "nvirt = norb - nocc\n",
    "\n",
    "print(\"Number of occupied orbitals :\", nocc)\n",
    "print(\"Number of virtual orbitals  :\", nvirt)\n",
    "print(\"Number of molecular orbitals:\", norb)"
   ]
  },
  {
   "cell_type": "markdown",
   "id": "0390148a-bb98-49ac-80b0-0739ea9656ac",
   "metadata": {
    "editable": true,
    "slideshow": {
     "slide_type": ""
    },
    "tags": []
   },
   "source": [
    "First, we determine the Hartree–Fock reference state."
   ]
  },
  {
   "cell_type": "code",
   "execution_count": 5,
   "id": "4235b9b3-012b-4fb2-90d9-6d0f7ffe5292",
   "metadata": {
    "editable": true,
    "slideshow": {
     "slide_type": ""
    },
    "tags": []
   },
   "outputs": [],
   "source": [
    "scf_drv = vlx.ScfRestrictedDriver()\n",
    "scf_drv.ostream.mute()\n",
    "\n",
    "scf_results = scf_drv.compute(molecule, basis)"
   ]
  },
  {
   "cell_type": "markdown",
   "id": "6e53eb82-ef69-44eb-95a7-b095875b60c3",
   "metadata": {
    "editable": true,
    "slideshow": {
     "slide_type": ""
    },
    "tags": []
   },
   "source": [
    "Second, we get the MO representation of the operator $\\hat{\\Omega}$."
   ]
  },
  {
   "cell_type": "code",
   "execution_count": 6,
   "id": "f104bc63-7c8c-46cf-82b5-f5455d9ef453",
   "metadata": {
    "editable": true,
    "slideshow": {
     "slide_type": ""
    },
    "tags": []
   },
   "outputs": [],
   "source": [
    "dipole_drv = vlx.ElectricDipoleIntegralsDriver()\n",
    "dipole_mats = dipole_drv.compute(molecule, basis)\n",
    "\n",
    "mu_x_ao = -1.0 * dipole_mats.x_to_numpy()\n",
    "\n",
    "C = scf_results[\"C_alpha\"]\n",
    "\n",
    "mu_x = np.einsum(\"ap, ab, bq -> pq\", C, mu_x_ao, C)"
   ]
  },
  {
   "cell_type": "markdown",
   "id": "f5b6c838-275f-4375-9c15-42f3d3432e77",
   "metadata": {
    "editable": true,
    "slideshow": {
     "slide_type": ""
    },
    "tags": []
   },
   "source": [
    "Third, we determine the linear response parameters."
   ]
  },
  {
   "cell_type": "code",
   "execution_count": 7,
   "id": "60a0f610-8296-4b56-bce0-5629093a2273",
   "metadata": {
    "editable": true,
    "slideshow": {
     "slide_type": ""
    },
    "tags": []
   },
   "outputs": [],
   "source": [
    "lrf_drv = vlx.LinearResponseSolver()\n",
    "lrf_drv.ostream.mute()\n",
    "\n",
    "lrf_drv.a_operator = \"electric dipole\"\n",
    "lrf_drv.b_operator = \"electric dipole\"\n",
    "\n",
    "lrf_drv.a_components = [\"x\"]\n",
    "lrf_drv.b_components = [\"x\"]\n",
    "\n",
    "lrf_drv.frequencies = [0.0]\n",
    "\n",
    "lrf_results = lrf_drv.compute(molecule, basis, scf_results)"
   ]
  },
  {
   "cell_type": "code",
   "execution_count": 9,
   "id": "1867d0c5-7e60-4968-99d8-6d6faf029284",
   "metadata": {
    "editable": true,
    "slideshow": {
     "slide_type": ""
    },
    "tags": []
   },
   "outputs": [],
   "source": [
    "Z = -0.5 * (\n",
    "    lrf_results[\"solutions\"][(\"x\", 0.0)].get_full_vector(0)\n",
    "    + lrf_results[\"solutions\"][(\"x\", 0.0)].get_full_vector(1)\n",
    ") * np.sqrt(2)\n",
    "\n",
    "Y = -0.5 * (\n",
    "    lrf_results[\"solutions\"][(\"x\", 0.0)].get_full_vector(0)\n",
    "    - lrf_results[\"solutions\"][(\"x\", 0.0)].get_full_vector(1)\n",
    ") * np.sqrt(2)"
   ]
  },
  {
   "cell_type": "code",
   "execution_count": 11,
   "id": "84461671-8ed4-45dc-95d8-67cbca481f4b",
   "metadata": {
    "editable": true,
    "slideshow": {
     "slide_type": ""
    },
    "tags": []
   },
   "outputs": [
    {
     "data": {
      "text/plain": [
       "array([-3.42302502e-18,  3.85784639e-14, -1.57883552e-15, -1.64234609e-03,\n",
       "       -4.72544736e-16,  1.06669079e-03, -4.46803957e-14,  2.44743348e-14,\n",
       "       -4.21356645e-17,  9.77629284e-18])"
      ]
     },
     "execution_count": 11,
     "metadata": {},
     "output_type": "execute_result"
    }
   ],
   "source": [
    "Z[:10]"
   ]
  },
  {
   "cell_type": "code",
   "execution_count": 12,
   "id": "15e70fee-dbe7-4333-8997-bf83dea9e38e",
   "metadata": {
    "editable": true,
    "slideshow": {
     "slide_type": ""
    },
    "tags": []
   },
   "outputs": [
    {
     "data": {
      "text/plain": [
       "array([ 3.42302502e-18, -3.85784639e-14,  1.57883552e-15,  1.64234609e-03,\n",
       "        4.72544736e-16, -1.06669079e-03,  4.46803957e-14, -2.44743348e-14,\n",
       "        4.21356645e-17, -9.77629284e-18])"
      ]
     },
     "execution_count": 12,
     "metadata": {},
     "output_type": "execute_result"
    }
   ],
   "source": [
    "Y[:10]"
   ]
  },
  {
   "cell_type": "code",
   "execution_count": null,
   "id": "88b1d355-52b5-4389-a8c4-9c0bb7b0a047",
   "metadata": {
    "editable": true,
    "slideshow": {
     "slide_type": ""
    },
    "tags": []
   },
   "outputs": [],
   "source": []
  }
 ],
 "metadata": {
  "kernelspec": {
   "display_name": "Python 3 (ipykernel)",
   "language": "python",
   "name": "python3"
  },
  "language_info": {
   "codemirror_mode": {
    "name": "ipython",
    "version": 3
   },
   "file_extension": ".py",
   "mimetype": "text/x-python",
   "name": "python",
   "nbconvert_exporter": "python",
   "pygments_lexer": "ipython3",
   "version": "3.11.7"
  }
 },
 "nbformat": 4,
 "nbformat_minor": 5
}
