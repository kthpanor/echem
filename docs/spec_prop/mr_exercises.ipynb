{
 "cells": [
  {
   "cell_type": "markdown",
   "id": "2b1881af",
   "metadata": {},
   "source": [
    "# Exercises\n",
    "\n",
    "## Dioxetane chemiluminescence\n",
    "\n",
    "1,2-Dioxetane is a small molecule that when heated emits a weak light and produces formaldehyde. It is also a model compound for the study of chemi-and bio-luminescence as many such compounds have a similar moiety. \n",
    "\n",
    "Here we will study the dissociation from dioxetane to 2 molecules of formaldehyde on both ground and excited states at the SA-CASSCF level. 21 snapshots along the reaction path have been computed, so we will only perform a scan along this reaction path. You can download those files {Download}`here<../../data/dioxetane/dioxetane.zip>`."
   ]
  },
  {
   "cell_type": "code",
   "execution_count": 1,
   "id": "459438bc",
   "metadata": {
    "tags": [
     "hide-output"
    ]
   },
   "outputs": [
    {
     "name": "stdout",
     "output_type": "stream",
     "text": [
      "* Warning * Environment variable OMP_NUM_THREADS not set.\n",
      "* Warning * Setting OMP_NUM_THREADS to 4.\n",
      "* Warning * Setting MKL_THREADING_LAYER to \"INTEL\".\n"
     ]
    }
   ],
   "source": [
    "import matplotlib.pyplot as plt\n",
    "import multipsi as mtp\n",
    "import numpy as np\n",
    "import py3Dmol\n",
    "import veloxchem as vlx"
   ]
  },
  {
   "cell_type": "code",
   "execution_count": 2,
   "id": "7dfc4de9",
   "metadata": {},
   "outputs": [
    {
     "data": {
      "application/3dmoljs_load.v0": "<div id=\"3dmolviewer_16571010271667898\"  style=\"position: relative; width: 400px; height: 300px\">\n        <p id=\"3dmolwarning_16571010271667898\" style=\"background-color:#ffcccc;color:black\">You appear to be running in JupyterLab (or JavaScript failed to load for some other reason).  You need to install the 3dmol extension: <br>\n        <tt>jupyter labextension install jupyterlab_3dmol</tt></p>\n        </div>\n<script>\n\nvar loadScriptAsync = function(uri){\n  return new Promise((resolve, reject) => {\n    var tag = document.createElement('script');\n    tag.src = uri;\n    tag.async = true;\n    tag.onload = () => {\n      resolve();\n    };\n  var firstScriptTag = document.getElementsByTagName('script')[0];\n  firstScriptTag.parentNode.insertBefore(tag, firstScriptTag);\n});\n};\n\nif(typeof $3Dmolpromise === 'undefined') {\n$3Dmolpromise = null;\n  $3Dmolpromise = loadScriptAsync('https://3dmol.org/build/3Dmol.js');\n}\n\nvar viewer_16571010271667898 = null;\nvar warn = document.getElementById(\"3dmolwarning_16571010271667898\");\nif(warn) {\n    warn.parentNode.removeChild(warn);\n}\n$3Dmolpromise.then(function() {\nviewer_16571010271667898 = $3Dmol.createViewer($(\"#3dmolviewer_16571010271667898\"),{backgroundColor:\"white\"});\nviewer_16571010271667898.zoomTo();\n\tviewer_16571010271667898.addModelsAsFrames(\"   8\\n  -227.70857494000001     \\n O     -0.1459933      0.5545818      1.0790152\\n C     -0.0975049      0.4980954     -0.3701251\\n H      0.7404724     -0.1171502     -0.7203514\\n H     -1.0381680      0.1314356     -0.7934307\\n C      0.1517819      1.9972566     -0.3927401\\n O      0.3581763      1.9576267      1.0433447\\n H      1.0404684      2.3582479     -0.9204093\\n H     -0.7197737      2.6090197     -0.6565144\\n   8\\n  -227.68076531763137     \\n O     -0.1742143      0.5193914      1.0682722\\n C     -0.0875855      0.5007073     -0.3564216\\n H      0.7600615     -0.0902112     -0.6869745\\n H     -1.0010746      0.1286379     -0.8019009\\n C      0.1434302      1.9947874     -0.3778986\\n O      0.3850281      1.9926935      1.0291227\\n H      1.0026565      2.3609945     -0.9246811\\n H     -0.7355808      2.5823933     -0.6208180\\n   8\\n  -227.67702633156762     \\n O     -0.2535552      0.4701201      1.0608788\\n C     -0.0464051      0.5001474     -0.3446791\\n H      0.8592217     -0.0313212     -0.6096519\\n H     -0.8963262      0.0778690     -0.8661508\\n C      0.1038039      1.9955147     -0.3616421\\n O      0.4630362      2.0418206      1.0124530\\n H      0.8914852      2.4111399     -0.9776256\\n H     -0.8256700      2.5244220     -0.5324263\\n   8\\n  -227.67176845338398     \\n O     -0.3135847      0.3991688      1.0535381\\n C     -0.0287933      0.4992706     -0.3316562\\n H      0.9096979      0.0073091     -0.5596111\\n H     -0.8309521      0.0607660     -0.9138102\\n C      0.0877211      1.9965611     -0.3467754\\n O      0.5218575      2.1126372      0.9977577\\n H      0.8212969      2.4277527     -1.0180382\\n H     -0.8703610      2.4864008     -0.4767437\\n   8\\n  -227.67014023199800     \\n O     -0.3386900      0.3511858      1.0496439\\n C     -0.0267275      0.4976609     -0.3239023\\n H      0.9121857      0.0101297     -0.5571537\\n H     -0.8239206      0.0735956     -0.9224221\\n C      0.0865019      1.9982557     -0.3388943\\n O      0.5463665      2.1605614      0.9906200\\n H      0.8133663      2.4147972     -1.0257225\\n H     -0.8725671      2.4836282     -0.4739849\\n   8\\n  -227.66969377527616     \\n O     -0.3636662      0.3129307      1.0435641\\n C     -0.0215411      0.4965883     -0.3144422\\n H      0.9243011      0.0187357     -0.5402021\\n H     -0.8045224      0.0771353     -0.9354047\\n C      0.0823783      1.9994408     -0.3289316\\n O      0.5705057      2.1987284      0.9814041\\n H      0.7926690      2.4111094     -1.0364705\\n H     -0.8827534      2.4752290     -0.4557162\\n   8\\n  -227.67013335095288     \\n O     -0.3856073      0.2694908      1.0367044\\n C     -0.0210489      0.4951588     -0.3036138\\n H      0.9252569      0.0190382     -0.5317847\\n H     -0.7979711      0.0883802     -0.9415190\\n C      0.0830704      2.0009949     -0.3181309\\n O      0.5915399      2.2420735      0.9716867\\n H      0.7854921      2.3998043     -1.0417010\\n H     -0.8827910      2.4750072     -0.4472312\\n   8\\n  -227.67092102623099     \\n O     -0.3982929      0.2308551      1.0311055\\n C     -0.0257760      0.4936157     -0.2942359\\n H      0.9114450      0.0124671     -0.5519818\\n H     -0.8198390      0.1048133     -0.9253076\\n C      0.0887711      2.0025759     -0.3092689\\n O      0.6035358      2.2806991      0.9643376\\n H      0.8089722      2.3833238     -1.0277823\\n H     -0.8712401      2.4813357     -0.4688498\\n   8\\n  -227.67314619129149     \\n O     -0.4212002      0.1848081      1.0197957\\n C     -0.0265765      0.4931795     -0.2787081\\n H      0.9131969      0.0009296     -0.5193739\\n H     -0.8028509      0.1034776     -0.9374596\\n C      0.0912957      2.0033729     -0.2941211\\n O      0.6249967      2.3264288      0.9499550\\n H      0.7908731      2.3849167     -1.0380589\\n H     -0.8694538      2.4933557     -0.4365210\\n   8\\n  -227.67746318270741     \\n O     -0.4715037      0.1145863      1.0007604\\n C     -0.0137226      0.4919938     -0.2537936\\n H      0.9474444      0.0250394     -0.4416954\\n H     -0.7266898      0.1019466     -0.9744195\\n C      0.0812296      2.0048084     -0.2679189\\n O      0.6728885      2.3964363      0.9247457\\n H      0.7110979      2.3859797     -1.0664891\\n H     -0.8950035      2.4701397     -0.3552532\\n   8\\n  -227.68027214072885     \\n O     -0.5229562      0.0497907      0.9785129\\n C      0.0021065      0.4911973     -0.2262175\\n H      0.9896821      0.0555307     -0.3408805\\n H     -0.6288479      0.0967005     -1.0187115\\n C      0.0684928      2.0058521     -0.2387021\\n O      0.7215820      2.4610122      0.8962957\\n H      0.6089446      2.3906283     -1.0998707\\n H     -0.9259655      2.4407899     -0.2500122\\n   8\\n  -227.68151495883555     \\n O     -0.5757119     -0.0057182      0.9504277\\n C      0.0272232      0.4903144     -0.1934179\\n H      1.0374918      0.0908540     -0.2285922\\n H     -0.5131927      0.0912548     -1.0499586\\n C      0.0471384      2.0071578     -0.2034229\\n O      0.7709025      2.5161345      0.8619750\\n H      0.4904341      2.3958713     -1.1184932\\n H     -0.9611968      2.4067708     -0.1326057\\n   8\\n  -227.68168023000001     \\n O     -0.6035725     -0.0365142      0.9343304\\n C      0.0402888      0.4899176     -0.1746986\\n H      1.0581744      0.1100773     -0.1761605\\n H     -0.4592165      0.0917130     -1.0553643\\n C      0.0362197      2.0077831     -0.1834239\\n O      0.7968065      2.5467221      0.8425830\\n H      0.4360468      2.3953942     -1.1180523\\n H     -0.9759779      2.3881537     -0.0778461\\n   8\\n  -227.69879856799415     \\n O     -0.4937119     -0.1216529      0.9737653\\n C      0.1275083      0.3900977     -0.0437839\\n H      1.2062681      0.3159776     -0.0205588\\n H     -0.2968560      0.1412669     -1.0105626\\n C     -0.1274175      2.1099234     -0.0440281\\n O      0.4936133      2.6217090      0.9736262\\n H      0.2971543      2.3586839     -1.0107440\\n H     -1.2061832      2.1838613     -0.0210719\\n   8\\n  -227.71072399733609     \\n O     -0.4877160     -0.1180631      0.9661254\\n C      0.1227614      0.3475666     -0.0339999\\n H      1.2039218      0.3485873     -0.0162719\\n H     -0.3127755      0.1710465     -1.0104234\\n C     -0.1226186      2.1521112     -0.0341097\\n O      0.4876035      2.6182141      0.9659586\\n H      0.3125701      2.3301152     -1.0105746\\n H     -1.2037292      2.1526218     -0.0173219\\n   8\\n  -227.73341614990733     \\n O     -0.4861411     -0.1247446      0.9621209\\n C      0.1230821      0.2829117     -0.0289080\\n H      1.2002421      0.3671988     -0.0083717\\n H     -0.3210494      0.1759246     -1.0107549\\n C     -0.1230225      2.2171887     -0.0295790\\n O      0.4860658      2.6243764      0.9618128\\n H      0.3216354      2.3264576     -1.0111476\\n H     -1.2004413      2.1359985     -0.0095396\\n   8\\n  -227.75332660474896     \\n O     -0.4880945     -0.1313020      0.9593888\\n C      0.1318067      0.2173431     -0.0263764\\n H      1.2072393      0.3433310      0.0000867\\n H     -0.3191411      0.1686057     -1.0130055\\n C     -0.1317005      2.2823155     -0.0263155\\n O      0.4879767      2.6317398      0.9593292\\n H      0.3193957      2.3305662     -1.0130548\\n H     -1.2069878      2.1555463     -0.0000642\\n   8\\n  -227.77561393937629     \\n O     -0.4943053     -0.1603594      0.9605463\\n C      0.1436086      0.1054353     -0.0282944\\n H      1.2162449      0.2671825      0.0105239\\n H     -0.3134860      0.1024654     -1.0166582\\n C     -0.1435135      2.3945893     -0.0285045\\n O      0.4942074      2.6604779      0.9604193\\n H      0.3136107      2.3968617     -1.0166306\\n H     -1.2160479      2.2322502      0.0099583\\n   8\\n  -227.78743703005136     \\n O     -0.5002178     -0.2037878      0.9623275\\n C      0.1498470      0.0020290     -0.0304562\\n H      1.2266039      0.1394953      0.0079096\\n H     -0.3107618      0.0270304     -1.0177380\\n C     -0.1497546      2.4979060     -0.0305936\\n O      0.5001332      2.7041049      0.9623026\\n H      0.3105204      2.4718320     -1.0178897\\n H     -1.2262192      2.3583144      0.0073676\\n   8\\n  -227.79177269961608     \\n O     -0.4977610     -0.2360893      0.9671310\\n C      0.1439117     -0.0579980     -0.0347436\\n H      1.2242678      0.0623231     -0.0101064\\n H     -0.3311832     -0.0264791     -1.0162452\\n C     -0.1438030      2.5595770     -0.0356539\\n O      0.4977062      2.7348531      0.9667263\\n H      0.3311481      2.5234973     -1.0168488\\n H     -1.2247555      2.4424086     -0.0122914\\n   8\\n  -227.79564941687497     \\n O     -0.4628968     -0.2840443      0.9925341\\n C      0.1031440     -0.1510895     -0.0605224\\n H      1.1876703     -0.1274663     -0.1319380\\n H     -0.4481121     -0.0539114     -0.9969773\\n C     -0.1030675      2.6509803     -0.0607990\\n O      0.4628058      2.7841161      0.9923348\\n H      0.4484251      2.5545901     -0.9972667\\n H     -1.1875491      2.6278808     -0.1325587\\n\");\n\tviewer_16571010271667898.animate({\"loop\": \"forward\"});\n\tviewer_16571010271667898.setStyle({\"stick\": {}});\n\tviewer_16571010271667898.rotate(-90,\"y\");\n\tviewer_16571010271667898.rotate(-90,\"x\");\nviewer_16571010271667898.render();\n});\n</script>",
      "text/html": [
       "<div id=\"3dmolviewer_16571010271667898\"  style=\"position: relative; width: 400px; height: 300px\">\n",
       "        <p id=\"3dmolwarning_16571010271667898\" style=\"background-color:#ffcccc;color:black\">You appear to be running in JupyterLab (or JavaScript failed to load for some other reason).  You need to install the 3dmol extension: <br>\n",
       "        <tt>jupyter labextension install jupyterlab_3dmol</tt></p>\n",
       "        </div>\n",
       "<script>\n",
       "\n",
       "var loadScriptAsync = function(uri){\n",
       "  return new Promise((resolve, reject) => {\n",
       "    var tag = document.createElement('script');\n",
       "    tag.src = uri;\n",
       "    tag.async = true;\n",
       "    tag.onload = () => {\n",
       "      resolve();\n",
       "    };\n",
       "  var firstScriptTag = document.getElementsByTagName('script')[0];\n",
       "  firstScriptTag.parentNode.insertBefore(tag, firstScriptTag);\n",
       "});\n",
       "};\n",
       "\n",
       "if(typeof $3Dmolpromise === 'undefined') {\n",
       "$3Dmolpromise = null;\n",
       "  $3Dmolpromise = loadScriptAsync('https://3dmol.org/build/3Dmol.js');\n",
       "}\n",
       "\n",
       "var viewer_16571010271667898 = null;\n",
       "var warn = document.getElementById(\"3dmolwarning_16571010271667898\");\n",
       "if(warn) {\n",
       "    warn.parentNode.removeChild(warn);\n",
       "}\n",
       "$3Dmolpromise.then(function() {\n",
       "viewer_16571010271667898 = $3Dmol.createViewer($(\"#3dmolviewer_16571010271667898\"),{backgroundColor:\"white\"});\n",
       "viewer_16571010271667898.zoomTo();\n",
       "\tviewer_16571010271667898.addModelsAsFrames(\"   8\\n  -227.70857494000001     \\n O     -0.1459933      0.5545818      1.0790152\\n C     -0.0975049      0.4980954     -0.3701251\\n H      0.7404724     -0.1171502     -0.7203514\\n H     -1.0381680      0.1314356     -0.7934307\\n C      0.1517819      1.9972566     -0.3927401\\n O      0.3581763      1.9576267      1.0433447\\n H      1.0404684      2.3582479     -0.9204093\\n H     -0.7197737      2.6090197     -0.6565144\\n   8\\n  -227.68076531763137     \\n O     -0.1742143      0.5193914      1.0682722\\n C     -0.0875855      0.5007073     -0.3564216\\n H      0.7600615     -0.0902112     -0.6869745\\n H     -1.0010746      0.1286379     -0.8019009\\n C      0.1434302      1.9947874     -0.3778986\\n O      0.3850281      1.9926935      1.0291227\\n H      1.0026565      2.3609945     -0.9246811\\n H     -0.7355808      2.5823933     -0.6208180\\n   8\\n  -227.67702633156762     \\n O     -0.2535552      0.4701201      1.0608788\\n C     -0.0464051      0.5001474     -0.3446791\\n H      0.8592217     -0.0313212     -0.6096519\\n H     -0.8963262      0.0778690     -0.8661508\\n C      0.1038039      1.9955147     -0.3616421\\n O      0.4630362      2.0418206      1.0124530\\n H      0.8914852      2.4111399     -0.9776256\\n H     -0.8256700      2.5244220     -0.5324263\\n   8\\n  -227.67176845338398     \\n O     -0.3135847      0.3991688      1.0535381\\n C     -0.0287933      0.4992706     -0.3316562\\n H      0.9096979      0.0073091     -0.5596111\\n H     -0.8309521      0.0607660     -0.9138102\\n C      0.0877211      1.9965611     -0.3467754\\n O      0.5218575      2.1126372      0.9977577\\n H      0.8212969      2.4277527     -1.0180382\\n H     -0.8703610      2.4864008     -0.4767437\\n   8\\n  -227.67014023199800     \\n O     -0.3386900      0.3511858      1.0496439\\n C     -0.0267275      0.4976609     -0.3239023\\n H      0.9121857      0.0101297     -0.5571537\\n H     -0.8239206      0.0735956     -0.9224221\\n C      0.0865019      1.9982557     -0.3388943\\n O      0.5463665      2.1605614      0.9906200\\n H      0.8133663      2.4147972     -1.0257225\\n H     -0.8725671      2.4836282     -0.4739849\\n   8\\n  -227.66969377527616     \\n O     -0.3636662      0.3129307      1.0435641\\n C     -0.0215411      0.4965883     -0.3144422\\n H      0.9243011      0.0187357     -0.5402021\\n H     -0.8045224      0.0771353     -0.9354047\\n C      0.0823783      1.9994408     -0.3289316\\n O      0.5705057      2.1987284      0.9814041\\n H      0.7926690      2.4111094     -1.0364705\\n H     -0.8827534      2.4752290     -0.4557162\\n   8\\n  -227.67013335095288     \\n O     -0.3856073      0.2694908      1.0367044\\n C     -0.0210489      0.4951588     -0.3036138\\n H      0.9252569      0.0190382     -0.5317847\\n H     -0.7979711      0.0883802     -0.9415190\\n C      0.0830704      2.0009949     -0.3181309\\n O      0.5915399      2.2420735      0.9716867\\n H      0.7854921      2.3998043     -1.0417010\\n H     -0.8827910      2.4750072     -0.4472312\\n   8\\n  -227.67092102623099     \\n O     -0.3982929      0.2308551      1.0311055\\n C     -0.0257760      0.4936157     -0.2942359\\n H      0.9114450      0.0124671     -0.5519818\\n H     -0.8198390      0.1048133     -0.9253076\\n C      0.0887711      2.0025759     -0.3092689\\n O      0.6035358      2.2806991      0.9643376\\n H      0.8089722      2.3833238     -1.0277823\\n H     -0.8712401      2.4813357     -0.4688498\\n   8\\n  -227.67314619129149     \\n O     -0.4212002      0.1848081      1.0197957\\n C     -0.0265765      0.4931795     -0.2787081\\n H      0.9131969      0.0009296     -0.5193739\\n H     -0.8028509      0.1034776     -0.9374596\\n C      0.0912957      2.0033729     -0.2941211\\n O      0.6249967      2.3264288      0.9499550\\n H      0.7908731      2.3849167     -1.0380589\\n H     -0.8694538      2.4933557     -0.4365210\\n   8\\n  -227.67746318270741     \\n O     -0.4715037      0.1145863      1.0007604\\n C     -0.0137226      0.4919938     -0.2537936\\n H      0.9474444      0.0250394     -0.4416954\\n H     -0.7266898      0.1019466     -0.9744195\\n C      0.0812296      2.0048084     -0.2679189\\n O      0.6728885      2.3964363      0.9247457\\n H      0.7110979      2.3859797     -1.0664891\\n H     -0.8950035      2.4701397     -0.3552532\\n   8\\n  -227.68027214072885     \\n O     -0.5229562      0.0497907      0.9785129\\n C      0.0021065      0.4911973     -0.2262175\\n H      0.9896821      0.0555307     -0.3408805\\n H     -0.6288479      0.0967005     -1.0187115\\n C      0.0684928      2.0058521     -0.2387021\\n O      0.7215820      2.4610122      0.8962957\\n H      0.6089446      2.3906283     -1.0998707\\n H     -0.9259655      2.4407899     -0.2500122\\n   8\\n  -227.68151495883555     \\n O     -0.5757119     -0.0057182      0.9504277\\n C      0.0272232      0.4903144     -0.1934179\\n H      1.0374918      0.0908540     -0.2285922\\n H     -0.5131927      0.0912548     -1.0499586\\n C      0.0471384      2.0071578     -0.2034229\\n O      0.7709025      2.5161345      0.8619750\\n H      0.4904341      2.3958713     -1.1184932\\n H     -0.9611968      2.4067708     -0.1326057\\n   8\\n  -227.68168023000001     \\n O     -0.6035725     -0.0365142      0.9343304\\n C      0.0402888      0.4899176     -0.1746986\\n H      1.0581744      0.1100773     -0.1761605\\n H     -0.4592165      0.0917130     -1.0553643\\n C      0.0362197      2.0077831     -0.1834239\\n O      0.7968065      2.5467221      0.8425830\\n H      0.4360468      2.3953942     -1.1180523\\n H     -0.9759779      2.3881537     -0.0778461\\n   8\\n  -227.69879856799415     \\n O     -0.4937119     -0.1216529      0.9737653\\n C      0.1275083      0.3900977     -0.0437839\\n H      1.2062681      0.3159776     -0.0205588\\n H     -0.2968560      0.1412669     -1.0105626\\n C     -0.1274175      2.1099234     -0.0440281\\n O      0.4936133      2.6217090      0.9736262\\n H      0.2971543      2.3586839     -1.0107440\\n H     -1.2061832      2.1838613     -0.0210719\\n   8\\n  -227.71072399733609     \\n O     -0.4877160     -0.1180631      0.9661254\\n C      0.1227614      0.3475666     -0.0339999\\n H      1.2039218      0.3485873     -0.0162719\\n H     -0.3127755      0.1710465     -1.0104234\\n C     -0.1226186      2.1521112     -0.0341097\\n O      0.4876035      2.6182141      0.9659586\\n H      0.3125701      2.3301152     -1.0105746\\n H     -1.2037292      2.1526218     -0.0173219\\n   8\\n  -227.73341614990733     \\n O     -0.4861411     -0.1247446      0.9621209\\n C      0.1230821      0.2829117     -0.0289080\\n H      1.2002421      0.3671988     -0.0083717\\n H     -0.3210494      0.1759246     -1.0107549\\n C     -0.1230225      2.2171887     -0.0295790\\n O      0.4860658      2.6243764      0.9618128\\n H      0.3216354      2.3264576     -1.0111476\\n H     -1.2004413      2.1359985     -0.0095396\\n   8\\n  -227.75332660474896     \\n O     -0.4880945     -0.1313020      0.9593888\\n C      0.1318067      0.2173431     -0.0263764\\n H      1.2072393      0.3433310      0.0000867\\n H     -0.3191411      0.1686057     -1.0130055\\n C     -0.1317005      2.2823155     -0.0263155\\n O      0.4879767      2.6317398      0.9593292\\n H      0.3193957      2.3305662     -1.0130548\\n H     -1.2069878      2.1555463     -0.0000642\\n   8\\n  -227.77561393937629     \\n O     -0.4943053     -0.1603594      0.9605463\\n C      0.1436086      0.1054353     -0.0282944\\n H      1.2162449      0.2671825      0.0105239\\n H     -0.3134860      0.1024654     -1.0166582\\n C     -0.1435135      2.3945893     -0.0285045\\n O      0.4942074      2.6604779      0.9604193\\n H      0.3136107      2.3968617     -1.0166306\\n H     -1.2160479      2.2322502      0.0099583\\n   8\\n  -227.78743703005136     \\n O     -0.5002178     -0.2037878      0.9623275\\n C      0.1498470      0.0020290     -0.0304562\\n H      1.2266039      0.1394953      0.0079096\\n H     -0.3107618      0.0270304     -1.0177380\\n C     -0.1497546      2.4979060     -0.0305936\\n O      0.5001332      2.7041049      0.9623026\\n H      0.3105204      2.4718320     -1.0178897\\n H     -1.2262192      2.3583144      0.0073676\\n   8\\n  -227.79177269961608     \\n O     -0.4977610     -0.2360893      0.9671310\\n C      0.1439117     -0.0579980     -0.0347436\\n H      1.2242678      0.0623231     -0.0101064\\n H     -0.3311832     -0.0264791     -1.0162452\\n C     -0.1438030      2.5595770     -0.0356539\\n O      0.4977062      2.7348531      0.9667263\\n H      0.3311481      2.5234973     -1.0168488\\n H     -1.2247555      2.4424086     -0.0122914\\n   8\\n  -227.79564941687497     \\n O     -0.4628968     -0.2840443      0.9925341\\n C      0.1031440     -0.1510895     -0.0605224\\n H      1.1876703     -0.1274663     -0.1319380\\n H     -0.4481121     -0.0539114     -0.9969773\\n C     -0.1030675      2.6509803     -0.0607990\\n O      0.4628058      2.7841161      0.9923348\\n H      0.4484251      2.5545901     -0.9972667\\n H     -1.1875491      2.6278808     -0.1325587\\n\");\n",
       "\tviewer_16571010271667898.animate({\"loop\": \"forward\"});\n",
       "\tviewer_16571010271667898.setStyle({\"stick\": {}});\n",
       "\tviewer_16571010271667898.rotate(-90,\"y\");\n",
       "\tviewer_16571010271667898.rotate(-90,\"x\");\n",
       "viewer_16571010271667898.render();\n",
       "});\n",
       "</script>"
      ]
     },
     "metadata": {},
     "output_type": "display_data"
    }
   ],
   "source": [
    "# Visualize the reaction path\n",
    "dioxetane_xyz = \"\"\n",
    "for i in range(1, 22):\n",
    "    f = open(\"../../data/dioxetane/dioxetane.\" + str(i) + \".xyz\", \"r\")\n",
    "    dioxetane_xyz += f.read()\n",
    "\n",
    "viewer = py3Dmol.view(width=400, height=300)\n",
    "viewer.addModelsAsFrames(dioxetane_xyz)\n",
    "viewer.animate({\"loop\": \"forward\"})\n",
    "viewer.setStyle({\"stick\": {}})\n",
    "# rotate for a better initial view\n",
    "viewer.rotate(-90, \"y\")\n",
    "viewer.rotate(-90, \"x\")\n",
    "viewer.show()"
   ]
  },
  {
   "cell_type": "markdown",
   "id": "777691dd",
   "metadata": {},
   "source": [
    "As seen above, the reaction is breaking 2 bonds, the O-O and C-C. Knowing this, what is the minimum active space needed to describe the ground state of the reaction?\n",
    "\n",
    "<details>\n",
    "    <summary>Answer</summary>\n",
    "4 orbitals, corresponding to the $\\sigma$ and $\\sigma^*$ of the C-C and O-O bond. Those then become the $\\pi$ and $\\pi^*$ of the 2 formaldehyde products.\n",
    "</details>\n",
    "\n",
    "Here we will also compute the first 2 excited states. Can you guess what is the lowest excitation the formaldehyde molecule (for example)? What does that imply about our minimum active space to describe both ground and excited states?\n",
    "\n",
    "<details>\n",
    "    <summary>Answer</summary>\n",
    "The lowest excitation is likely $n \\rightarrow \\pi^*$ with $n$ the oxygen lone pair. We thus need to add 2 extra orbitals to describe that excitation, otherwise our active space may not be stable due to competition between strong correlation and excitations.\n",
    "</details>\n",
    "\n",
    "Try our initial minimal active space and our extended active space on the formaldehyde molecule with 3 states in the state-averaging. Use the orbital viewer before and after the calculation to check the orbitals. Compare the excitation energies.\n",
    "\n",
    "```python\n",
    "formaldehyde_str=\"\"\"\n",
    " O     0.00000000     0.00000000     1.08516846\n",
    " C     0.00000000     0.00000000    -0.12131123\n",
    " H     0.93777476     0.00000000    -0.71598634\n",
    " H    -0.93777476     0.00000000    -0.71598634\n",
    " \"\"\"\n",
    "formaldehyde = vlx.Molecule.read_str(formaldehyde_str, units='angstrom')\n",
    "basis = vlx.MolecularBasis.read(formaldehyde,\"cc-pvdz\")\n",
    "\n",
    "#Hartree-Fock guess\n",
    "scf_drv = vlx.ScfRestrictedDriver()\n",
    "scf_results = scf_drv.compute(formaldehyde,basis)\n",
    "\n",
    "...\n",
    "```"
   ]
  },
  {
   "cell_type": "markdown",
   "id": "00cf5d60",
   "metadata": {},
   "source": [
    "Now that we have settle for our active space, let's perform the scan over the entire reaction path, still with 3 states.\n",
    "\n",
    "```python\n",
    "# 1) Find the orbitals for the product\n",
    "\n",
    "molecule=vlx.Molecule.read_xyz(\"../../data/dioxetane/dioxetane.21.xyz\")\n",
    "basis = vlx.MolecularBasis.read(molecule,\"cc-pvdz\")\n",
    "scf_drv = vlx.ScfRestrictedDriver()\n",
    "scf_results = scf_drv.compute(molecule,basis)\n",
    "\n",
    "# Visualize and select the active space\n",
    "viewer=mtp.OrbitalViewer()\n",
    "viewer.plot(molecule,basis,scf_drv.mol_orbs)\n",
    "\n",
    "```\n",
    "\n",
    "```python\n",
    "# Compute a SA-CASSCF with 3 states\n",
    "...\n",
    "\n",
    "```\n",
    "\n",
    "```python\n",
    "# 2) Compute the states over the entire reaction path in reverse\n",
    "Energies=[]\n",
    "for i in range(21,0,-1):\n",
    "    molecule=vlx.Molecule.read_xyz(\"../../data/dioxetane/dioxetane.\"+str(i)+\".xyz\")\n",
    "\n",
    "    ...\n",
    "    \n",
    "    Energies.append(mcscf_drv.getEnergies())\n",
    "```\n",
    "\n",
    "```python\n",
    "# 4) Verify the final active space (if it has changed, there is probably a warning message in the output of MultiPsi telling you so, you may fix the active space and restart from there)\n",
    "\n",
    "viewer=mtp.OrbitalViewer()\n",
    "viewer.plot(molecule,basis,space)\n",
    "\n",
    "```\n",
    "\n",
    "```python\n",
    "# 5) Plot the results\n",
    "\n",
    "plt.figure(figsize=(6,4))\n",
    "plt.title('State energies during dioxetane dissociation')\n",
    "x = np.array(range(21,0,-1))\n",
    "Ene = (np.array(Energies)-Energies[-1][0])*627.5\n",
    "plt.plot(x, Ene[:,0], label='Ground state')\n",
    "for i in range(2):\n",
    "    plt.plot(x, Ene[:,i+1], label='State'+str(i+1))\n",
    "plt.ylim(-80, 60) \n",
    "plt.legend()\n",
    "plt.tight_layout(); plt.show()\n",
    "```\n",
    "\n",
    "From this result, can you guess why this reaction may produce light?\n",
    "\n",
    "<details>\n",
    "    <summary>Answer</summary>\n",
    "There is a long region where ground and excited state surfaces cross, allowing population of the excited state of formaldehyde which may then emits light.\n",
    "</details>\n",
    "\n",
    "If you want, you can compare the curve to a Hartree-Fock ground state calculation. The reaction barrier predicted by restricted Hartree-Fock is significantly higher, since the molecule becomes open-shell during a significant portion of the reaction. Also, attempts to compute excitation energies at the TD-HF level have trouble converging."
   ]
  },
  {
   "cell_type": "code",
   "execution_count": null,
   "id": "dba75002",
   "metadata": {},
   "outputs": [],
   "source": []
  }
 ],
 "metadata": {
  "celltoolbar": "Tags",
  "kernelspec": {
   "display_name": "Python 3 (ipykernel)",
   "language": "python",
   "name": "python3"
  },
  "language_info": {
   "codemirror_mode": {
    "name": "ipython",
    "version": 3
   },
   "file_extension": ".py",
   "mimetype": "text/x-python",
   "name": "python",
   "nbconvert_exporter": "python",
   "pygments_lexer": "ipython3",
   "version": "3.9.15"
  }
 },
 "nbformat": 4,
 "nbformat_minor": 5
}
