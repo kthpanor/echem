{
 "cells": [
  {
   "cell_type": "code",
   "execution_count": 1,
   "id": "4d87ca18-bac9-4878-8ebb-875d75e62626",
   "metadata": {},
   "outputs": [
    {
     "name": "stdout",
     "output_type": "stream",
     "text": [
      "* Warning * Environment variable OMP_NUM_THREADS not set.\n",
      "* Warning * Setting OMP_NUM_THREADS to 4.\n"
     ]
    }
   ],
   "source": [
    "import numpy as np\n",
    "import veloxchem as vlx"
   ]
  },
  {
   "cell_type": "code",
   "execution_count": 2,
   "id": "d6ba77f9-39f6-45da-afd6-962ef0ee0448",
   "metadata": {},
   "outputs": [],
   "source": [
    "molecule = vlx.Molecule.read_str(\"Ne  0.000 0.000 0.000\")"
   ]
  },
  {
   "cell_type": "code",
   "execution_count": 3,
   "id": "038f9b63-4cbc-4c81-9cf6-a683279f6a2a",
   "metadata": {
    "scrolled": true
   },
   "outputs": [],
   "source": [
    "scf_drv = vlx.ScfRestrictedDriver()\n",
    "scf_drv.ostream.mute()\n",
    "\n",
    "lrf_drv = vlx.LinearResponseSolver()\n",
    "lrf_drv.ostream.mute()\n",
    "\n",
    "lrf_drv.b_operator = \"electric dipole\"\n",
    "\n",
    "lrf_drv.a_components = [\"z\"]\n",
    "lrf_drv.b_components = [\"z\"]\n",
    "\n",
    "w = 0.0656\n",
    "lrf_drv.frequencies = [w]"
   ]
  },
  {
   "cell_type": "code",
   "execution_count": 16,
   "id": "d455a439-e1cb-4d23-9569-7d3d92536829",
   "metadata": {
    "scrolled": true
   },
   "outputs": [
    {
     "name": "stdout",
     "output_type": "stream",
     "text": [
      "--------------------------------------------\n",
      "Basis set           -<<z;z>>  -i/w*<<p_z;z>>\n",
      "--------------------------------------------\n",
      " aug-cc-pVDZ        1.837316        1.720512\n",
      "daug-cc-pVDZ        2.362190        2.377629\n",
      "--------------------------------------------\n"
     ]
    }
   ],
   "source": [
    "print(\"-\" * 44)\n",
    "print(f\"{'Basis set':12s}{'-<<z;z>>':>16s}{'-i/w*<<p_z;z>>':>16s}\")\n",
    "print(\"-\" * 44)\n",
    "\n",
    "for basis_set in [\"aug-cc-pVDZ\", \"daug-cc-pVDZ\"]:\n",
    "    basis = vlx.MolecularBasis.read(molecule, basis_set, ostream=None)\n",
    "\n",
    "    scf_results = scf_drv.compute(molecule, basis)\n",
    "\n",
    "    lrf_drv.a_operator = \"electric dipole\"\n",
    "    lrf_results = lrf_drv.compute(molecule, basis, scf_results)\n",
    "    lrf_length = lrf_results[\"response_functions\"][(\"z\", \"z\", w)]\n",
    "\n",
    "    lrf_drv.a_operator = \"linear momentum\"\n",
    "    lrf_results = lrf_drv.compute(molecule, basis, scf_results)\n",
    "    lrf_velocity = lrf_results[\"response_functions\"][(\"z\", \"z\", w)]\n",
    "\n",
    "    print(f\"{basis_set :>12s}{-lrf_length :16.6f}{lrf_velocity / w :16.6f}\")\n",
    "\n",
    "print(\"-\" * 44)"
   ]
  }
 ],
 "metadata": {
  "kernelspec": {
   "display_name": "Python 3 (ipykernel)",
   "language": "python",
   "name": "python3"
  },
  "language_info": {
   "codemirror_mode": {
    "name": "ipython",
    "version": 3
   },
   "file_extension": ".py",
   "mimetype": "text/x-python",
   "name": "python",
   "nbconvert_exporter": "python",
   "pygments_lexer": "ipython3",
   "version": "3.11.6"
  }
 },
 "nbformat": 4,
 "nbformat_minor": 5
}
