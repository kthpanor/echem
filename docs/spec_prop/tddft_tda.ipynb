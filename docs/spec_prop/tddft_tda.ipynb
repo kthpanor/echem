{
 "cells": [
  {
   "cell_type": "markdown",
   "id": "900f467f-8aee-4e35-8b5a-bb049c489bdd",
   "metadata": {
    "editable": true,
    "slideshow": {
     "slide_type": ""
    },
    "tags": []
   },
   "source": [
    "# Tamm–Dancoff approximation\n",
    "\n",
    "The Tamm–Dancoff approximation (TDA) corresponds to setting the off-diagonal ${B}$-block in the electronic Hessian ${E}^{[2]}$ to zero and diagonalizing the ${A}$-block. This leads to computational savings and gives a concrete configuration interaction singles  (CIS) representation of the excited states. Moreover, it has typically a small impact on spectra and is therefore justifiable.\n",
    "\n",
    "We will illustrate this approximation with a study of the lowest excited states in ethylene."
   ]
  },
  {
   "cell_type": "code",
   "execution_count": 16,
   "id": "534fd1fa-37dd-48bd-b4ba-1a68f36a0796",
   "metadata": {
    "editable": true,
    "slideshow": {
     "slide_type": ""
    },
    "tags": [
     "remove-output",
     "hide-input"
    ]
   },
   "outputs": [],
   "source": [
    "import numpy as np\n",
    "import py3Dmol as p3d\n",
    "import veloxchem as vlx"
   ]
  },
  {
   "cell_type": "code",
   "execution_count": 4,
   "id": "ebdb5e8b-22c0-4f8a-97db-c4019c1279eb",
   "metadata": {
    "editable": true,
    "slideshow": {
     "slide_type": ""
    },
    "tags": [
     "hide-input"
    ]
   },
   "outputs": [],
   "source": [
    "ethene_xyz = \"\"\"6\n",
    "\n",
    "C        0.67759997    0.00000000    0.00000000\n",
    "C       -0.67759997    0.00000000    0.00000000\n",
    "H        1.21655197    0.92414474    0.00000000\n",
    "H        1.21655197   -0.92414474    0.00000000\n",
    "H       -1.21655197   -0.92414474    0.00000000\n",
    "H       -1.21655197    0.92414474    0.00000000\n",
    "\"\"\""
   ]
  },
  {
   "cell_type": "code",
   "execution_count": 3,
   "id": "85bfc427-0443-41e6-b59b-c39d784363fd",
   "metadata": {
    "editable": true,
    "slideshow": {
     "slide_type": ""
    },
    "tags": [
     "remove-input"
    ]
   },
   "outputs": [
    {
     "data": {
      "application/3dmoljs_load.v0": "<div id=\"3dmolviewer_1702834236561111\"  style=\"position: relative; width: 400px; height: 300px;\">\n        <p id=\"3dmolwarning_1702834236561111\" style=\"background-color:#ffcccc;color:black\">You appear to be running in JupyterLab (or JavaScript failed to load for some other reason).  You need to install the 3dmol extension: <br>\n        <tt>jupyter labextension install jupyterlab_3dmol</tt></p>\n        </div>\n<script>\n\nvar loadScriptAsync = function(uri){\n  return new Promise((resolve, reject) => {\n    //this is to ignore the existence of requirejs amd\n    var savedexports, savedmodule;\n    if (typeof exports !== 'undefined') savedexports = exports;\n    else exports = {}\n    if (typeof module !== 'undefined') savedmodule = module;\n    else module = {}\n\n    var tag = document.createElement('script');\n    tag.src = uri;\n    tag.async = true;\n    tag.onload = () => {\n        exports = savedexports;\n        module = savedmodule;\n        resolve();\n    };\n  var firstScriptTag = document.getElementsByTagName('script')[0];\n  firstScriptTag.parentNode.insertBefore(tag, firstScriptTag);\n});\n};\n\nif(typeof $3Dmolpromise === 'undefined') {\n$3Dmolpromise = null;\n  $3Dmolpromise = loadScriptAsync('https://cdnjs.cloudflare.com/ajax/libs/3Dmol/2.0.4/3Dmol-min.js');\n}\n\nvar viewer_1702834236561111 = null;\nvar warn = document.getElementById(\"3dmolwarning_1702834236561111\");\nif(warn) {\n    warn.parentNode.removeChild(warn);\n}\n$3Dmolpromise.then(function() {\nviewer_1702834236561111 = $3Dmol.createViewer(document.getElementById(\"3dmolviewer_1702834236561111\"),{backgroundColor:\"white\"});\nviewer_1702834236561111.zoomTo();\n\tviewer_1702834236561111.addModel(\"6\\n\\nC        0.67759997    0.00000000    0.00000000\\nC       -0.67759997    0.00000000    0.00000000\\nH        1.21655197    0.92414474    0.00000000\\nH        1.21655197   -0.92414474    0.00000000\\nH       -1.21655197   -0.92414474    0.00000000\\nH       -1.21655197    0.92414474    0.00000000\\n\");\n\tviewer_1702834236561111.setViewStyle({\"style\": \"outline\", \"width\": 0.05});\n\tviewer_1702834236561111.setStyle({\"stick\": {}, \"sphere\": {\"scale\": 0.25}});\nviewer_1702834236561111.render();\n});\n</script>",
      "text/html": [
       "<div id=\"3dmolviewer_1702834236561111\"  style=\"position: relative; width: 400px; height: 300px;\">\n",
       "        <p id=\"3dmolwarning_1702834236561111\" style=\"background-color:#ffcccc;color:black\">You appear to be running in JupyterLab (or JavaScript failed to load for some other reason).  You need to install the 3dmol extension: <br>\n",
       "        <tt>jupyter labextension install jupyterlab_3dmol</tt></p>\n",
       "        </div>\n",
       "<script>\n",
       "\n",
       "var loadScriptAsync = function(uri){\n",
       "  return new Promise((resolve, reject) => {\n",
       "    //this is to ignore the existence of requirejs amd\n",
       "    var savedexports, savedmodule;\n",
       "    if (typeof exports !== 'undefined') savedexports = exports;\n",
       "    else exports = {}\n",
       "    if (typeof module !== 'undefined') savedmodule = module;\n",
       "    else module = {}\n",
       "\n",
       "    var tag = document.createElement('script');\n",
       "    tag.src = uri;\n",
       "    tag.async = true;\n",
       "    tag.onload = () => {\n",
       "        exports = savedexports;\n",
       "        module = savedmodule;\n",
       "        resolve();\n",
       "    };\n",
       "  var firstScriptTag = document.getElementsByTagName('script')[0];\n",
       "  firstScriptTag.parentNode.insertBefore(tag, firstScriptTag);\n",
       "});\n",
       "};\n",
       "\n",
       "if(typeof $3Dmolpromise === 'undefined') {\n",
       "$3Dmolpromise = null;\n",
       "  $3Dmolpromise = loadScriptAsync('https://cdnjs.cloudflare.com/ajax/libs/3Dmol/2.0.4/3Dmol-min.js');\n",
       "}\n",
       "\n",
       "var viewer_1702834236561111 = null;\n",
       "var warn = document.getElementById(\"3dmolwarning_1702834236561111\");\n",
       "if(warn) {\n",
       "    warn.parentNode.removeChild(warn);\n",
       "}\n",
       "$3Dmolpromise.then(function() {\n",
       "viewer_1702834236561111 = $3Dmol.createViewer(document.getElementById(\"3dmolviewer_1702834236561111\"),{backgroundColor:\"white\"});\n",
       "viewer_1702834236561111.zoomTo();\n",
       "\tviewer_1702834236561111.addModel(\"6\\n\\nC        0.67759997    0.00000000    0.00000000\\nC       -0.67759997    0.00000000    0.00000000\\nH        1.21655197    0.92414474    0.00000000\\nH        1.21655197   -0.92414474    0.00000000\\nH       -1.21655197   -0.92414474    0.00000000\\nH       -1.21655197    0.92414474    0.00000000\\n\");\n",
       "\tviewer_1702834236561111.setViewStyle({\"style\": \"outline\", \"width\": 0.05});\n",
       "\tviewer_1702834236561111.setStyle({\"stick\": {}, \"sphere\": {\"scale\": 0.25}});\n",
       "viewer_1702834236561111.render();\n",
       "});\n",
       "</script>"
      ]
     },
     "metadata": {},
     "output_type": "display_data"
    }
   ],
   "source": [
    "viewer = p3d.view(width=400, height=300)\n",
    "viewer.addModel(ethene_xyz)\n",
    "viewer.setViewStyle({\"style\": \"outline\", \"width\": 0.05})\n",
    "viewer.setStyle({\"stick\": {}, \"sphere\": {\"scale\": 0.25}})\n",
    "viewer.show()"
   ]
  },
  {
   "cell_type": "markdown",
   "id": "f697cecb-7988-421a-8e4e-3940897720de",
   "metadata": {
    "editable": true,
    "slideshow": {
     "slide_type": ""
    },
    "tags": []
   },
   "source": [
    "First, we optimize the SCF reference state."
   ]
  },
  {
   "cell_type": "code",
   "execution_count": 22,
   "id": "8abef912-a6bf-441b-b4e3-c964f8265d1c",
   "metadata": {
    "editable": true,
    "scrolled": true,
    "slideshow": {
     "slide_type": ""
    },
    "tags": []
   },
   "outputs": [],
   "source": [
    "molecule = vlx.Molecule.from_xyz_string(ethene_xyz)\n",
    "basis = vlx.MolecularBasis.read(molecule, \"6-31g\", ostream=None)"
   ]
  },
  {
   "cell_type": "code",
   "execution_count": 59,
   "id": "48187a5b-8193-44fc-9118-a273243a650d",
   "metadata": {
    "editable": true,
    "scrolled": true,
    "slideshow": {
     "slide_type": ""
    },
    "tags": []
   },
   "outputs": [],
   "source": [
    "scf_drv = vlx.ScfRestrictedDriver()\n",
    "scf_drv.ostream.mute()\n",
    "\n",
    "scf_drv.xcfun = \"b3lyp\"\n",
    "\n",
    "scf_results = scf_drv.compute(molecule, basis)"
   ]
  },
  {
   "cell_type": "markdown",
   "id": "c4a25195-319b-4ed6-807c-f1ad8b6447df",
   "metadata": {
    "editable": true,
    "slideshow": {
     "slide_type": ""
    },
    "tags": []
   },
   "source": [
    "The matrix size in the TDA eigenvalue equation is given by the number of one-electron excitations. "
   ]
  },
  {
   "cell_type": "code",
   "execution_count": 48,
   "id": "c0e6116e-81ea-47c4-8a8d-576408680652",
   "metadata": {
    "editable": true,
    "slideshow": {
     "slide_type": ""
    },
    "tags": []
   },
   "outputs": [
    {
     "name": "stdout",
     "output_type": "stream",
     "text": [
      "Number of occupied orbitals: 8\n",
      "Number of unoccupied orbitals: 18\n",
      "Number of excitations: 144\n"
     ]
    }
   ],
   "source": [
    "norb = basis.get_dimension_of_basis()\n",
    "nocc = molecule.number_of_alpha_electrons()\n",
    "nvirt = norb - nocc\n",
    "\n",
    "n = nocc * nvirt\n",
    "\n",
    "print(\"Number of occupied orbitals:\", nocc)\n",
    "print(\"Number of unoccupied orbitals:\", nvirt)\n",
    "print(\"Number of excitations:\", n)"
   ]
  },
  {
   "cell_type": "markdown",
   "id": "4bc723bf-4d66-41d8-a482-28a82abfaf7b",
   "metadata": {
    "editable": true,
    "slideshow": {
     "slide_type": ""
    },
    "tags": []
   },
   "source": [
    "Second, we retrieve the $A$-block of the $E^{[2]}$-matrix."
   ]
  },
  {
   "cell_type": "code",
   "execution_count": 71,
   "id": "8e7fa1d2-e18c-41ae-ab09-9ed5f98f29b7",
   "metadata": {
    "editable": true,
    "slideshow": {
     "slide_type": ""
    },
    "tags": []
   },
   "outputs": [
    {
     "name": "stdout",
     "output_type": "stream",
     "text": [
      "                                                                                                                          \n"
     ]
    }
   ],
   "source": [
    "lres_drv = vlx.LinearResponseEigenSolver()\n",
    "lres_drv.ostream.mute()\n",
    "\n",
    "_ = lres_drv.compute(molecule, basis, scf_results)\n",
    "E2 = lres_drv.get_e2(molecule, basis, scf_results)\n",
    "\n",
    "A = E2[:n, :n]"
   ]
  },
  {
   "cell_type": "markdown",
   "id": "dcdb52df-5a8e-45af-99b8-084cb0c36a70",
   "metadata": {
    "editable": true,
    "slideshow": {
     "slide_type": ""
    },
    "tags": []
   },
   "source": [
    "Third, we perform a diagonalization of matrix $A$ to obtain the excitation energies. The excitation energies of the five lowest states are printed out."
   ]
  },
  {
   "cell_type": "code",
   "execution_count": 85,
   "id": "50b16e22-3cf4-4367-a6d6-03138187572a",
   "metadata": {
    "editable": true,
    "slideshow": {
     "slide_type": ""
    },
    "tags": []
   },
   "outputs": [
    {
     "name": "stdout",
     "output_type": "stream",
     "text": [
      "Excitation energies (eV):\n",
      " [8.57868869 9.00818369 9.22485575 9.60189688 9.76762482]\n"
     ]
    }
   ],
   "source": [
    "eigs, X = np.linalg.eigh(A)\n",
    "\n",
    "print(\"Excitation energies (eV):\\n\", eigs[:5] * 27.2114)"
   ]
  },
  {
   "cell_type": "markdown",
   "id": "ee64125d-7842-41c4-b19b-9bb47d2daef4",
   "metadata": {
    "editable": true,
    "slideshow": {
     "slide_type": ""
    },
    "tags": []
   },
   "source": [
    "## Reference calculation"
   ]
  },
  {
   "cell_type": "markdown",
   "id": "6248b5cf-0f2f-4533-8946-6507f27a0dd7",
   "metadata": {
    "editable": true,
    "slideshow": {
     "slide_type": ""
    },
    "tags": []
   },
   "source": [
    "Spectra based on the TDA approach can also be obtained with the `TDAExciDriver` class. We perform a reference calculation to confirm our results."
   ]
  },
  {
   "cell_type": "code",
   "execution_count": 86,
   "id": "2fa37e70-331b-40a8-bf7a-4dc12d9faba6",
   "metadata": {
    "editable": true,
    "scrolled": true,
    "slideshow": {
     "slide_type": ""
    },
    "tags": [
     "remove-output"
    ]
   },
   "outputs": [],
   "source": [
    "tda_drv = vlx.TDAExciDriver()\n",
    "tda_drv.ostream.mute()\n",
    "\n",
    "tda_drv.nstates = 5\n",
    "\n",
    "tda_results = tda_drv.compute(molecule, basis, scf_results)"
   ]
  },
  {
   "cell_type": "code",
   "execution_count": 87,
   "id": "21dba11c-b1e0-48f8-8a17-ece24094ddb7",
   "metadata": {
    "editable": true,
    "slideshow": {
     "slide_type": ""
    },
    "tags": []
   },
   "outputs": [
    {
     "name": "stdout",
     "output_type": "stream",
     "text": [
      "Excitation energies (eV):\n",
      " [8.57868811 9.00818379 9.22485652 9.60189672 9.76762549]\n"
     ]
    }
   ],
   "source": [
    "print(\"Excitation energies (eV):\\n\", tda_results[\"eigenvalues\"] * 27.2114)"
   ]
  },
  {
   "cell_type": "markdown",
   "id": "259357b8-2dd2-4898-bcd9-804f0466d4cc",
   "metadata": {
    "editable": true,
    "slideshow": {
     "slide_type": ""
    },
    "tags": []
   },
   "source": [
    "We note that these results are in perfect agreement with those obtained above."
   ]
  }
 ],
 "metadata": {
  "kernelspec": {
   "display_name": "Python 3 (ipykernel)",
   "language": "python",
   "name": "python3"
  },
  "language_info": {
   "codemirror_mode": {
    "name": "ipython",
    "version": 3
   },
   "file_extension": ".py",
   "mimetype": "text/x-python",
   "name": "python",
   "nbconvert_exporter": "python",
   "pygments_lexer": "ipython3",
   "version": "3.11.7"
  }
 },
 "nbformat": 4,
 "nbformat_minor": 5
}
