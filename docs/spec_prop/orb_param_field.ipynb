{
 "cells": [
  {
   "cell_type": "markdown",
   "id": "a807385c-67b1-460e-bbaf-3bbe05a2cb94",
   "metadata": {},
   "source": [
    "# Field-dependence of parameters"
   ]
  },
  {
   "cell_type": "markdown",
   "id": "6edad4bb-722e-4416-900a-8a0ddc6ca4db",
   "metadata": {},
   "source": [
    "The parameters in the exponential parameterization of the Hartree–Fock state depend of the amplitudes of the externally applied field\n",
    "\n",
    "$$\n",
    "\\kappa =\n",
    "    \\kappa(F)\n",
    "$$\n",
    "\n",
    "where we, collectively, refer to all parameters gathered in the form of a matrix and also all Cartesian field amplitudes at varying angular frequencies. The reference state, $| 0 \\rangle$, is that of $F=0$ for which also $\\kappa = 0$.\n",
    "\n",
    "We will here consider the case of a static, uniform, electric field. \n",
    "\n",
    "In calculations of the electronic energy of such a system, the external field enters explicitly in the molecular Hamiltonian but also implicitly through the wave function parameters\n",
    "\n",
    "$$\n",
    "E(\\kappa, F) = \n",
    "\\langle \\Psi(\\kappa) | \\hat{H}(F) | \\Psi(\\kappa) \\rangle\n",
    "$$\n",
    "\n",
    "At all points in the space of field amplitudes, the wave function has reached a complete orbital relaxation such that \n",
    "\n",
    "$$\n",
    "\\frac{\\partial E(\\kappa, F)}{\\partial\\kappa} = 0\n",
    "$$\n",
    "\n",
    "Based on this equation, response theory offers an analytic means to determine the wave function parameters in a region around the reference state. To first order, it is assumed that these parameters depend linearly on the field amplitudes.\n",
    "\n",
    "We shall here investigate the accuracy of linear response (LR) theory."
   ]
  },
  {
   "cell_type": "code",
   "execution_count": 1,
   "id": "750890b1-dcd2-4173-b235-43e0a56a652c",
   "metadata": {
    "editable": true,
    "slideshow": {
     "slide_type": ""
    },
    "tags": [
     "remove-output"
    ]
   },
   "outputs": [
    {
     "name": "stdout",
     "output_type": "stream",
     "text": [
      "* Warning * Environment variable OMP_NUM_THREADS not set.\n",
      "* Warning * Setting OMP_NUM_THREADS to 6.\n"
     ]
    }
   ],
   "source": [
    "import numpy as np\n",
    "import veloxchem as vlx"
   ]
  },
  {
   "cell_type": "markdown",
   "id": "4a4889fc-4db7-44c8-9fea-4c620bedf4a4",
   "metadata": {},
   "source": [
    "As an example, let us study the ethylene molecule.  We will assume that the electric field is aligned with one of the Cartesian molecular axes (chosen to be the $x$-axis) such that the only nonzero component of the field is $F_x^0$. This axis is further chosen as the C–C bond axis.\n",
    "\n",
    "We expect that the largest effect of the electric field will be on the mobile $\\pi$-electrons, and the $\\pi$- and $\\pi^*$-orbitals will therefore be of our main concern."
   ]
  },
  {
   "cell_type": "code",
   "execution_count": 2,
   "id": "7f6ddd36-dcb6-4bcf-a7dc-8f39c55f9f74",
   "metadata": {
    "editable": true,
    "slideshow": {
     "slide_type": ""
    },
    "tags": []
   },
   "outputs": [],
   "source": [
    "ethylene_xyz = \"\"\"\n",
    "6\n",
    "\n",
    "C        0.67759997    0.00000000   0.00000000\n",
    "C       -0.67759997    0.00000000   0.00000000\n",
    "H        1.21655197    0.92414474   0.00000000\n",
    "H        1.21655197   -0.92414474   0.00000000\n",
    "H       -1.21655197   -0.92414474   0.00000000\n",
    "H       -1.21655197    0.92414474   0.00000000\n",
    "\"\"\""
   ]
  },
  {
   "cell_type": "code",
   "execution_count": 3,
   "id": "b50b475f-16c5-4809-b4d3-a59632a30fc1",
   "metadata": {
    "editable": true,
    "slideshow": {
     "slide_type": ""
    },
    "tags": []
   },
   "outputs": [],
   "source": [
    "molecule = vlx.Molecule.read_xyz_string(ethylene_xyz)\n",
    "basis = vlx.MolecularBasis.read(molecule, \"def2-svp\", ostream=None)\n",
    "\n",
    "nocc = molecule.number_of_alpha_electrons()\n",
    "norb = basis.get_dimension_of_basis()\n",
    "nvirt = norb - nocc\n",
    "\n",
    "homo = nocc - 1  # Python indexing of orbitals"
   ]
  },
  {
   "cell_type": "markdown",
   "id": "40e06ced-ac87-43a0-853f-424dcd075a93",
   "metadata": {},
   "source": [
    "For the purpose of visual illustration, let us apply an *extremely* strong electric field with a field strength of 0.1 a.u., noting that this is [several orders of magnitude larger](https://kthpanor.github.io/echem/docs/spec_prop/expt_theory.html#field-strengths-and-intensities) than what is seen for intense lasers used in conventional spectroscopy.\n",
    "\n",
    "We optimize the wave function in the presence of the field and plot the highest occupied molecular orbital (HOMO). As expected, it is seen how the electron density redistributes itself in a direction opposite of the electric field."
   ]
  },
  {
   "cell_type": "markdown",
   "id": "aacaf944-3143-495b-a2e6-fff705efaca2",
   "metadata": {},
   "source": [
    "![Ethylene in field](../../img/spec_prop/ethylene_in_field.png)"
   ]
  },
  {
   "cell_type": "markdown",
   "id": "546bd30b-8634-4cd6-8ea8-74e6dc72f94c",
   "metadata": {},
   "source": [
    "For our continued analysis, we save the overlap matrix and the MO coefficients of the reference state."
   ]
  },
  {
   "cell_type": "code",
   "execution_count": 4,
   "id": "880c5eba-f42d-4321-a0a2-4d365468e90d",
   "metadata": {
    "editable": true,
    "slideshow": {
     "slide_type": ""
    },
    "tags": []
   },
   "outputs": [],
   "source": [
    "scf_drv = vlx.ScfRestrictedDriver()\n",
    "scf_drv.ostream.mute()\n",
    "\n",
    "scf_results = scf_drv.compute(molecule, basis)"
   ]
  },
  {
   "cell_type": "code",
   "execution_count": 5,
   "id": "06f4b610-95b5-4895-9c17-251c7fe0815e",
   "metadata": {},
   "outputs": [],
   "source": [
    "S = scf_results[\"S\"]\n",
    "C = scf_results[\"C_alpha\"]"
   ]
  },
  {
   "cell_type": "markdown",
   "id": "7e8a62f0-131d-4f6b-a550-1a25fb1049d9",
   "metadata": {},
   "source": [
    "Next, we determine the $\\kappa$-parameters with use of linear response theory, and we get a LR correction to the $\\pi$-orbital that reads\n",
    "\n",
    "$$\n",
    "| \\tilde{\\phi}_\\pi^{(1)} \\rangle = \n",
    "\\sum_{a}^\\mathrm{virt} \n",
    "Z_{a\\pi}^{x;0} | \\phi_a \\rangle F^0_x\n",
    "$$\n",
    "\n",
    "This follows completely analogously to the [time-dependent situation](https://kthpanor.github.io/echem/docs/spec_prop/kappa_expansion.html#illustration). As mentioned, our focus will be on the contribution to the HOMO from the $\\pi^*$-orbital (or HOMO+1) in the summation."
   ]
  },
  {
   "cell_type": "code",
   "execution_count": 6,
   "id": "b606311d-5a3e-411f-aea9-c63563f9af00",
   "metadata": {},
   "outputs": [],
   "source": [
    "lrf_drv = vlx.LinearResponseSolver()\n",
    "lrf_drv.ostream.mute()\n",
    "\n",
    "lrf_drv.frequencies = [0.0]\n",
    "lrf_drv.b_components = [\"x\"]\n",
    "lrf_results = lrf_drv.compute(molecule, basis, scf_results)"
   ]
  },
  {
   "cell_type": "code",
   "execution_count": 10,
   "id": "7626c58b-18e2-4a87-a707-83a1b4418076",
   "metadata": {},
   "outputs": [],
   "source": [
    "Z = (\n",
    "    -0.5\n",
    "    * (\n",
    "        lrf_results[\"solutions\"][(\"x\", 0.0)].get_full_vector(0)\n",
    "        + lrf_results[\"solutions\"][(\"x\", 0.0)].get_full_vector(1)\n",
    "    )\n",
    "    * np.sqrt(2)\n",
    ")\n",
    "\n",
    "# parameter for the pi-pi* excitation\n",
    "# sign is arbitrary and is therefore here set\n",
    "z = abs(Z[(nocc - 1) * nvirt]) "
   ]
  },
  {
   "cell_type": "markdown",
   "id": "01cb9065-8afd-49c2-8933-52c87d6eed43",
   "metadata": {},
   "source": [
    "To assess LR theory, we compare against the field-dependent HOMO of the fully relaxed Hartree–Fock state. This orbital can be expanded in terms of the reference state orbitals\n",
    "\n",
    "$$\n",
    "| \\phi_\\pi^F \\rangle = \\sum_p | \\phi_p \\rangle S_{p\\pi}^F \n",
    "$$\n",
    "\n",
    "where\n",
    "\n",
    "$$\n",
    "S_{p\\pi}^F =\n",
    "\\langle \\phi_{p} | \\phi_\\pi^F \\rangle =\n",
    "\\sum_{\\alpha,\\beta}\n",
    "c_{\\alpha p}^* c_{\\beta\\pi}^F S_{\\alpha\\beta}\n",
    "$$\n",
    "\n",
    "Also here, we expect the most important contribution to the field-dependent $\\pi$-orbital (or HOMO) to come from the unoccupied $\\pi^*$-orbital (or HOMO+1) in the summation. Let us therefore determine $S_{{\\pi^*}\\pi}^F$."
   ]
  },
  {
   "cell_type": "code",
   "execution_count": 13,
   "id": "8abdc31b-46ea-47d4-a210-8381224720e1",
   "metadata": {},
   "outputs": [],
   "source": [
    "field_strengths = np.linspace(-0.1, 0.1, 5)\n",
    "\n",
    "S_field = []\n",
    "\n",
    "for F in field_strengths:\n",
    "    scf_drv.electric_field = [F, 0.0, 0.0]  # apply an electric field in the x-direction\n",
    "    scf_results = scf_drv.compute(molecule, basis)\n",
    "    C_field = scf_results[\"C_alpha\"]\n",
    "\n",
    "    S_field.append(\n",
    "        np.sign(F) * abs(np.einsum(\"a, b, ab ->\", C[:, homo + 1], C_field[:, homo], S))\n",
    "    )  # the arbitrary sign is set"
   ]
  },
  {
   "cell_type": "markdown",
   "id": "9de7c437-f9ba-4e09-b8fd-1bbe823e28f8",
   "metadata": {},
   "source": [
    "The comparison is made visual in a plot."
   ]
  },
  {
   "cell_type": "code",
   "execution_count": 14,
   "id": "b9728bcc-3586-4eff-a960-ac1542d5f0d3",
   "metadata": {},
   "outputs": [
    {
     "data": {
      "image/png": "[encoded data removed]",
      "text/plain": [
       "<Figure size 600x300 with 1 Axes>"
      ]
     },
     "metadata": {},
     "output_type": "display_data"
    }
   ],
   "source": [
    "import matplotlib.pylab as plt\n",
    "\n",
    "fig = plt.figure(figsize=(6, 3))\n",
    "\n",
    "plt.plot(field_strengths, z * field_strengths, label=\"LR\")\n",
    "plt.plot(field_strengths, S_field, \"o\", label=r\"$S_{{\\pi^*}\\pi}^F$\")\n",
    "\n",
    "plt.setp(plt.gca(), xticks=field_strengths)\n",
    "\n",
    "plt.legend(frameon=True)\n",
    "plt.ylabel(r\"Contribution of $\\pi^*$-orbital\")\n",
    "plt.xlabel(\"Electric field strength (a.u.)\")\n",
    "\n",
    "plt.grid(True)\n",
    "\n",
    "plt.show()"
   ]
  },
  {
   "cell_type": "markdown",
   "id": "0f9253c9-56f4-483b-8906-cc2c37899329",
   "metadata": {},
   "source": [
    "The LR expansion of the Hartree–Fock wave function is seen to be accurate up to a field strength of about 0.05 a.u. whereas a significant discrepancy with respect to the field-optimized state is observed at 0.10 a.u."
   ]
  }
 ],
 "metadata": {
  "kernelspec": {
   "display_name": "Python 3 (ipykernel)",
   "language": "python",
   "name": "python3"
  },
  "language_info": {
   "codemirror_mode": {
    "name": "ipython",
    "version": 3
   },
   "file_extension": ".py",
   "mimetype": "text/x-python",
   "name": "python",
   "nbconvert_exporter": "python",
   "pygments_lexer": "ipython3",
   "version": "3.11.8"
  }
 },
 "nbformat": 4,
 "nbformat_minor": 5
}
