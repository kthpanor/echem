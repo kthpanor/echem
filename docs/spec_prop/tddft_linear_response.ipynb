{
 "cells": [
  {
   "cell_type": "markdown",
   "id": "82a99743-db37-4e5e-bc1d-be3c9e5ea9d1",
   "metadata": {},
   "source": [
    "# Linear response\n",
    "\n",
    "While it is possible to calculate the response of a molecular system by propagating the system is time, this is seldom the most practical approach. Instead, most calculation of spectra and properties use response theory, which yield tractable expressions for a wide variety of processes. "
   ]
  },
  {
   "cell_type": "markdown",
   "id": "d53761c2-50c6-4de4-b9be-fd95a74e5aa6",
   "metadata": {},
   "source": []
  },
  {
   "cell_type": "markdown",
   "id": "c2a40c32-7851-4778-9736-06448a2bf90f",
   "metadata": {},
   "source": []
  },
  {
   "cell_type": "code",
   "execution_count": null,
   "id": "fad25b96-c5d2-4181-802c-9fe4be570ece",
   "metadata": {},
   "outputs": [],
   "source": []
  }
 ],
 "metadata": {
  "kernelspec": {
   "display_name": "Python 3 (ipykernel)",
   "language": "python",
   "name": "python3"
  },
  "language_info": {
   "codemirror_mode": {
    "name": "ipython",
    "version": 3
   },
   "file_extension": ".py",
   "mimetype": "text/x-python",
   "name": "python",
   "nbconvert_exporter": "python",
   "pygments_lexer": "ipython3",
   "version": "3.10.12"
  }
 },
 "nbformat": 4,
 "nbformat_minor": 5
}
