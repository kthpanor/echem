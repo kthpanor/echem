{
 "cells": [
  {
   "cell_type": "markdown",
   "id": "fe48531a-f639-44f2-b8c7-41d79f5dd0fa",
   "metadata": {},
   "source": [
    "# Quasi-energy determination of parameters"
   ]
  },
  {
   "cell_type": "markdown",
   "id": "387907c2-7682-4114-b0d1-cc7fb5c8cd63",
   "metadata": {},
   "source": []
  }
 ],
 "metadata": {
  "kernelspec": {
   "display_name": "Python 3 (ipykernel)",
   "language": "python",
   "name": "python3"
  },
  "language_info": {
   "codemirror_mode": {
    "name": "ipython",
    "version": 3
   },
   "file_extension": ".py",
   "mimetype": "text/x-python",
   "name": "python",
   "nbconvert_exporter": "python",
   "pygments_lexer": "ipython3",
   "version": "3.11.7"
  }
 },
 "nbformat": 4,
 "nbformat_minor": 5
}
