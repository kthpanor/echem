{
 "cells": [
  {
   "cell_type": "markdown",
   "id": "839d32e7-4243-4766-b989-a4629a6e0565",
   "metadata": {
    "editable": true,
    "slideshow": {
     "slide_type": ""
    },
    "tags": []
   },
   "source": [
    "# Quadratic response"
   ]
  },
  {
   "cell_type": "markdown",
   "id": "84ff143f-8b3f-4804-8dbe-45b7c0b120fa",
   "metadata": {
    "editable": true,
    "slideshow": {
     "slide_type": ""
    },
    "tags": []
   },
   "source": [
    "## First-order electric-dipole hyperpolarizability\n",
    "\n",
    "Tensor components of the first-order electric-dipole hyperpolarizability relate to quadratic response functions according to\n",
    "\n",
    "$$\n",
    "\\beta_{\\alpha \\beta \\gamma}(-\\omega_\\sigma; \\omega_1, \\omega_2) =\n",
    "\\langle\\langle \\hat{\\mu}_\\alpha ;\\hat{\\mu}_\\beta ,\\hat{\\mu}_\\gamma\n",
    "\\rangle\\rangle_{\\omega_1,\\omega_2}\n",
    "$$\n",
    "\n",
    "where $\\omega_\\sigma = \\omega_1 + \\omega_2$. In the limit of static fields, $\\beta(0;0,0)$ can also be determined from the third-order derivative of the energy with respect to electric field strengths."
   ]
  },
  {
   "cell_type": "markdown",
   "id": "8624477c-3d1a-4123-98cd-e211e4da72dd",
   "metadata": {
    "editable": true,
    "slideshow": {
     "slide_type": ""
    },
    "tags": []
   },
   "source": [
    "### Pertinent optical processes\n",
    "\n",
    "For dynamic fields, nonlinear optical processes of interest relating to this molecular property include:\n",
    "\n",
    " |  Optical process | Response function |\n",
    " | :--- | :--- | \n",
    "| Second Harmonic Generation | $\\beta^{\\rm SHG}_{\\mu\\nu\\eta}(-2\\omega;\\omega,\\omega) =\\langle\\langle \\hat{\\mu}_{\\mu};\\hat{\\mu}_{\\nu},\\hat{\\mu}_{\\eta} \\rangle\\rangle_{\\omega,\\omega}$ |\n",
    "| Electro-Optic Pockels Effect | $\\beta^{\\rm EOPE}_{\\mu\\nu\\eta}(-\\omega;\\omega,0) = \\langle\\langle\\hat{\\mu}_{\\mu};\\hat{\\mu}_{\\nu},\\hat{\\mu}_{\\eta}\\rangle\\rangle_{\\omega,0}$ |\n",
    "| Optical Rectification | $\\beta^{\\rm OR}_{\\mu\\nu\\eta}(0;\\omega,-\\omega) = \\langle\\langle\\hat{\\mu}_{\\mu};\\hat{\\mu}_{\\nu},\\hat{\\mu}_{\\eta}\\rangle\\rangle_{\\omega,-\\omega}$|\n",
    "\n",
    "We note that the EOPE is also known under the name of the dc-Pockels effect."
   ]
  },
  {
   "cell_type": "markdown",
   "id": "b800c0fd-2b11-4d6f-b970-bcabf63094de",
   "metadata": {
    "editable": true,
    "slideshow": {
     "slide_type": ""
    },
    "tags": []
   },
   "source": [
    "### Symmetry aspects\n",
    "\n",
    "The general definition  of the quadratic response function, indicates its symmetry with respect\n",
    "to permutation of operators. Thus, for \n",
    "all the dipole\n",
    "hyperpolarizabilities we have \n",
    "\n",
    "$$\n",
    "\\beta_{\\mu\\nu\\eta} (-\\omega_\\sigma; \\omega_1, \\omega_2)  =\n",
    "\\beta_{\\mu\\eta\\nu} (-\\omega_\\sigma; \\omega_2, \\omega_1).\n",
    "$$\n",
    "\n",
    "Also the relation\n",
    "\n",
    "$$\n",
    "\\beta_{\\mu\\nu\\eta} (-\\omega_\\sigma; \\omega_1, \\omega_2)  =\n",
    "\\beta_{\\nu\\mu\\eta} (\\omega_1; -\\omega_\\sigma, \\omega_2)\n",
    "$$\n",
    "\n",
    "holds,\n",
    "and we have, for instance,\n",
    "$\\beta^{\\rm OR}_{\\mu\\nu\\eta}(0;\\omega,-\\omega)$ =\n",
    "$\\beta^{\\rm EOPE}_{\\eta\\nu\\mu}(-\\omega;\\omega,0)$. We note that this relation does not hold for macroscopic samples due to the differences in the local fields experienced by the molecule in these two different experimental set-ups.\n",
    "\n",
    "In the case of the first\n",
    "hyperpolarizability, the measured \n",
    "quantity is the vector component of $\\beta$ in the direction of\n",
    "the permanent dipole moment $\\mu$, defining the molecular $z$ axis.\n",
    "The relevant averages are given by\n",
    "\n",
    "\\begin{eqnarray*}\n",
    "\\beta_{\\parallel} & = & \\frac{1}{5}\n",
    "(\\beta_{z\\eta\\eta}+\n",
    "\\beta_{\\eta z\\eta}+\\beta_{\\eta\\eta z}),\n",
    "\\\\\n",
    "\\beta_{\\perp} & = & \\frac{1}{5}\n",
    "(2\\beta_{z\\eta\\eta}\n",
    "-3\\beta_{\\eta z\\eta}+2\\beta_{\\eta\\eta z}),\n",
    "\\end{eqnarray*}\n",
    "\n",
    "where the same sequence of optical frequencies (not given\n",
    "explicitly) is used for the laboratory axes and the molecular \n",
    "axes. \n",
    "\n",
    "The number of independent non-zero tensor elements depends on the \n",
    "non-linear optical process and on the symmetry of the\n",
    "molecule.  For example,\n",
    "$\\beta^{\\rm SHG}$ is symmetric with respect to the \n",
    "permutation of the second and third indices and this \n",
    "can be used to simplify the equations for the parallel and \n",
    "perpendicular components.  For non-zero frequencies, the number of \n",
    "independent tensor components to be computed\n",
    "decreases when Kleinman's symmetry is\n",
    "assumed, that is, we assume that we can permute the indices of \n",
    "the incoming light without changing the corresponding frequencies,\n",
    "\n",
    "$$\n",
    "\\beta_{\\mu\\nu\\eta} (-\\omega_\\sigma; \\omega_1, \\omega_2)  \\approx\n",
    "\\beta_{\\mu\\eta\\nu} (-\\omega_\\sigma; \\omega_1, \\omega_2).\n",
    "$$\n",
    "\n",
    "Although for  $\\omega_1 \\neq \\omega_2$ this is only an approximation \n",
    "and these two tensor components are not equal,\n",
    "Kleinman's symmetry is often applied for low frequencies, where it\n",
    "it is usually found to be a reasonable approximation.\n",
    "\n",
    "The basis set requirements for the calculation of first\n",
    "hyperpolarizabilities\n",
    "are much the same as for the linear \n",
    "polarizability. However, as the first hyperpolarizability probes \n",
    "even higher-order electric-field-perturbed densities of the\n",
    "molecule, care should be exercised to ensure that the basis set is\n",
    "sufficiently saturated with respect to diffuse polarizing\n",
    "functions. Special basis sets have been developed for the \n",
    "calculation of hyperpolarizabilities by Pluta and \n",
    "Sadlej, though the same basis sets that can be \n",
    "used for polarizabilities in most cases give reliable estimates \n",
    "also for first hyperpolarizabilities.\n",
    "\n",
    "Due to the fact that the first hyperpolarizability involves multiple\n",
    "virtual excited states, the property has proven to be more sensitive\n",
    "to electron correlation effects than the\n",
    "polarizability. \n",
    "Molecules with push-pull conjugated structures\n",
    "are often characterized by large first hyperpolarizabilities. Due to the \n",
    "problems facing many commonly used local exchange-correlation \n",
    "functionals, DFT has been shown to have difficulties describing \n",
    "correctly nonlinear optical properties such as the first\n",
    "hyperpolarizability for extended \n",
    "systems}. The Coulomb-attenuated B3LYP\n",
    "functional\n",
    "(CAM-B3LYP) has, in contrast, shown quite good performance \n",
    "also for rather extended\n",
    "systems.\n",
    "\n",
    "The atomic units of $\\beta$ are e$^3$ a$_0^3$ E$_h^{-2}$. 1 au of $\\beta$ corresponds to 3.20636 $\\times 10^{-53}$ C$^3$ m$^3$ J$^{-2}$ (SI) or to \n",
    "8.6392 $\\times 10^{-33}$ statvolt$^{-1}$ cm$^4$ (esu)."
   ]
  },
  {
   "cell_type": "markdown",
   "id": "bcc65656-3a2b-443b-86c5-a1a6873c70bd",
   "metadata": {},
   "source": [
    "### Dispersion\n",
    "\n",
    "Similar to Cauchy expansions, expansions may be applied to describe the dispersions\n",
    "of hyperpolarizabilities\n",
    "\n",
    "$$\n",
    "\\beta_{\\parallel}(-\\omega_\\sigma;\\omega_1,\\omega_2) =\n",
    "\\beta_\\parallel (0;0,0)\n",
    "\\Big[\n",
    "1 + {\\cal A}^{\\beta}(\\omega_\\sigma^2+\\omega_1^2+\\omega_2^2) + \n",
    "{\\cal{O}}(\\omega_i^4)\n",
    "\\Big]\n",
    "$$\n",
    "\n",
    "Since the expansion coefficient, ${\\cal A}^{\\beta}$, is frequency independent in itself, dispersions are transferable in between different nonlinear optical processes."
   ]
  },
  {
   "cell_type": "markdown",
   "id": "479f30ed-1c24-4b52-b555-0c8ac585ed56",
   "metadata": {
    "editable": true,
    "slideshow": {
     "slide_type": ""
    },
    "tags": []
   },
   "source": [
    "## In VeloxChem"
   ]
  },
  {
   "cell_type": "markdown",
   "id": "9f5e05de-9c63-4123-9207-a4158b850c93",
   "metadata": {
    "editable": true,
    "slideshow": {
     "slide_type": ""
    },
    "tags": []
   },
   "source": [
    "As an illustration, let us calculate $\\beta_{zzz}(-2\\omega; \\omega, \\omega)$ using damped response theory."
   ]
  },
  {
   "cell_type": "code",
   "execution_count": 1,
   "id": "dd04b703-c358-4e9c-b4ea-8c0ade9b92b5",
   "metadata": {
    "editable": true,
    "slideshow": {
     "slide_type": ""
    },
    "tags": [
     "remove_output"
    ]
   },
   "outputs": [
    {
     "name": "stdout",
     "output_type": "stream",
     "text": [
      "* Warning * Environment variable OMP_NUM_THREADS not set.\n",
      "* Warning * Setting OMP_NUM_THREADS to 4.\n"
     ]
    }
   ],
   "source": [
    "import veloxchem as vlx"
   ]
  },
  {
   "cell_type": "markdown",
   "id": "8f8c0850-a9ed-4548-b543-efe9d4cfd727",
   "metadata": {
    "editable": true,
    "slideshow": {
     "slide_type": ""
    },
    "tags": []
   },
   "source": [
    "First, we determine the reference state of the system."
   ]
  },
  {
   "cell_type": "code",
   "execution_count": 2,
   "id": "7ff03b6c-8717-45a7-869a-59fb5fffb32b",
   "metadata": {
    "editable": true,
    "scrolled": true,
    "slideshow": {
     "slide_type": ""
    },
    "tags": [
     "remove_output"
    ]
   },
   "outputs": [],
   "source": [
    "mol_str = \"\"\"3\n",
    "\n",
    "O    0.000000000000        0.000000000000        0.000000000000\n",
    "H    0.000000000000        0.740848095288        0.582094932012\n",
    "H    0.000000000000       -0.740848095288        0.582094932012\n",
    "\"\"\"\n",
    "\n",
    "molecule = vlx.Molecule.read_xyz_string(mol_str)\n",
    "basis = vlx.MolecularBasis.read(molecule, \"6-31G\", ostream=None)\n",
    "\n",
    "scf_drv = vlx.ScfRestrictedDriver()\n",
    "scf_drv.ostream.mute()\n",
    "\n",
    "scf_drv.xcfun = \"b3lyp\"\n",
    "scf_results = scf_drv.compute(molecule, basis)"
   ]
  },
  {
   "cell_type": "markdown",
   "id": "f5b51eec-180a-4ad0-998b-1ee842264d5e",
   "metadata": {
    "editable": true,
    "slideshow": {
     "slide_type": ""
    },
    "tags": []
   },
   "source": [
    "Second, we calculate the needed quadratic response functions with use of the `QuadraticResponseDriver` class."
   ]
  },
  {
   "cell_type": "code",
   "execution_count": 3,
   "id": "c77acbbf-ac97-44cc-b17c-0f61bdfc2820",
   "metadata": {
    "editable": true,
    "scrolled": true,
    "slideshow": {
     "slide_type": ""
    },
    "tags": [
     "hide-output"
    ]
   },
   "outputs": [
    {
     "name": "stdout",
     "output_type": "stream",
     "text": [
      "                                                                                                                          \n",
      "                                             Quadratic Response Driver Setup                                              \n",
      "                                            =================================                                             \n",
      "                                                                                                                          \n",
      "                               ERI Screening Threshold         : 1.0e-12                                                  \n",
      "                               Convergance Threshold           : 1.0e-04                                                  \n",
      "                               Max. Number of Iterations       : 150                                                      \n",
      "                               Damping Parameter               : 4.556000e-03                                             \n",
      "                               Exchange-Correlation Functional : B3LYP                                                    \n",
      "                               Molecular Grid Level            : 4                                                        \n",
      "                                                                                                                          \n",
      "                                                                                                                          \n",
      "                                              Complex Response Solver Setup                                               \n",
      "                                             ===============================                                              \n",
      "                                                                                                                          \n",
      "                               Number of Frequencies           : 1                                                        \n",
      "                               Max. Number of Iterations       : 150                                                      \n",
      "                               Convergence Threshold           : 1.0e-04                                                  \n",
      "                               ERI Screening Scheme            : Cauchy Schwarz + Density                                 \n",
      "                               ERI Screening Threshold         : 1.0e-12                                                  \n",
      "                               Exchange-Correlation Functional : B3LYP                                                    \n",
      "                               Molecular Grid Level            : 4                                                        \n",
      "                                                                                                                          \n",
      "* Info * Molecular grid with 40720 points generated in 0.03 sec.                                                          \n",
      "                                                                                                                          \n",
      "* Info * Processing Fock builds... (batch size: 8)                                                                        \n",
      "* Info *   batch 1/1                                                                                                      \n",
      "                                                                                                                          \n",
      "* Info * 4 gerade trial vectors in reduced space                                                                          \n",
      "* Info * 4 ungerade trial vectors in reduced space                                                                        \n",
      "                                                                                                                          \n",
      "* Info * 23.91 kB of memory used for subspace procedure on the master node                                                \n",
      "* Info * 2.38 GB of memory available for the solver on the master node                                                    \n",
      "                                                                                                                          \n",
      "               *** Iteration:   1 * Residuals (Max,Min): 8.30e-01 and 1.18e-01                                            \n",
      "                                                                                                                          \n",
      "* Info * Processing Fock builds... (batch size: 8)                                                                        \n",
      "* Info *   batch 1/1                                                                                                      \n",
      "                                                                                                                          \n",
      "* Info * 8 gerade trial vectors in reduced space                                                                          \n",
      "* Info * 8 ungerade trial vectors in reduced space                                                                        \n",
      "                                                                                                                          \n",
      "* Info * 29.03 kB of memory used for subspace procedure on the master node                                                \n",
      "* Info * 2.38 GB of memory available for the solver on the master node                                                    \n",
      "                                                                                                                          \n",
      "               *** Iteration:   2 * Residuals (Max,Min): 2.83e-02 and 4.09e-03                                            \n",
      "                                                                                                                          \n",
      "* Info * Processing Fock builds... (batch size: 7)                                                                        \n",
      "* Info *   batch 1/1                                                                                                      \n",
      "                                                                                                                          \n",
      "* Info * 11 gerade trial vectors in reduced space                                                                         \n",
      "* Info * 12 ungerade trial vectors in reduced space                                                                       \n",
      "                                                                                                                          \n",
      "* Info * 33.51 kB of memory used for subspace procedure on the master node                                                \n",
      "* Info * 2.38 GB of memory available for the solver on the master node                                                    \n",
      "                                                                                                                          \n",
      "               *** Iteration:   3 * Residuals (Max,Min): 4.17e-04 and 1.83e-04                                            \n",
      "                                                                                                                          \n",
      "* Info * Processing Fock builds... (batch size: 6)                                                                        \n",
      "* Info *   batch 1/1                                                                                                      \n",
      "                                                                                                                          \n",
      "* Info * 14 gerade trial vectors in reduced space                                                                         \n",
      "* Info * 15 ungerade trial vectors in reduced space                                                                       \n",
      "                                                                                                                          \n",
      "* Info * 37.35 kB of memory used for subspace procedure on the master node                                                \n",
      "* Info * 2.38 GB of memory available for the solver on the master node                                                    \n",
      "                                                                                                                          \n",
      "               *** Iteration:   4 * Residuals (Max,Min): 7.59e-07 and 2.31e-07                                            \n",
      "                                                                                                                          \n",
      "               *** Complex response converged in 4 iterations. Time: 0.65 sec                                             \n",
      "                                                                                                                          \n",
      "                                                                                                                          \n",
      "* Info * Molecular grid with 40720 points generated in 0.02 sec.                                                          \n",
      "                                                                                                                          \n",
      "                                                 Fock Matrix Computation                                                  \n",
      "                                                =========================                                                 \n",
      "                                                                                                                          \n",
      "* Info * Processing Fock builds... (batch size: 6)                                                                        \n",
      "* Info *   batch 1/1                                                                                                      \n",
      "                                                                                                                          \n",
      "* Info * Time spent in Fock matrices: 0.34 sec                                                                            \n",
      "                                                                                                                          \n",
      "                                                                                                                          \n",
      "                                   Quadratic response function: << z;z,z >>  (0.0,0.0)                                    \n",
      "                                  =====================================================                                   \n",
      "                                                                                                                          \n",
      "                                   Component                 Real             Imaginary                                   \n",
      "                                   ----------------------------------------------------                                   \n",
      "                                   X2                 17.29445010           0.00000000j                                   \n",
      "                                   A2                  8.65035645          -0.00000000j                                   \n",
      "                                   E3                 -6.80541048          -0.00000000j                                   \n",
      "                                   beta               19.13939606           0.00000000j                                   \n",
      "                                                                                                                          \n",
      "                                                                                                                          \n",
      "                                   Quadratic response function: << z;z,z >>  (0.1,0.1)                                    \n",
      "                                  =====================================================                                   \n",
      "                                                                                                                          \n",
      "                                   Component                 Real             Imaginary                                   \n",
      "                                   ----------------------------------------------------                                   \n",
      "                                   X2                 30.68364995           1.09402324j                                   \n",
      "                                   A2                  9.17088893           0.05050128j                                   \n",
      "                                   E3                -10.85148087          -0.33819609j                                   \n",
      "                                   beta               29.00305800           0.80632843j                                   \n",
      "                                                                                                                          \n",
      "                                                                                                                          \n",
      "                                   Quadratic response function: << z;z,z >>  (0.2,0.2)                                    \n",
      "                                  =====================================================                                   \n",
      "                                                                                                                          \n",
      "                                   Component                 Real             Imaginary                                   \n",
      "                                   ----------------------------------------------------                                   \n",
      "                                   X2               -223.58686299          27.96836966j                                   \n",
      "                                   A2                 11.22864673           0.15490203j                                   \n",
      "                                   E3                 63.64238558          -8.05882341j                                   \n",
      "                                   beta             -148.71583068          20.06444829j                                   \n",
      "                                                                                                                          \n",
      "                              *** Time spent in quadratic response calculation: 1.04 sec ***                              \n",
      "                                                                                                                          \n"
     ]
    }
   ],
   "source": [
    "qrf_drv = vlx.QuadraticResponseDriver()\n",
    "\n",
    "#qrf_drv.a_operator = \"electric dipole\"\n",
    "#qrf_drv.b_operator = \"electric dipole\"\n",
    "#qrf_drv.c_operator = \"electric dipole\"\n",
    "\n",
    "qrf_drv.a_component = \"z\"\n",
    "qrf_drv.b_component = \"z\"\n",
    "qrf_drv.c_component = \"z\"\n",
    "\n",
    "qrf_drv.b_frequencies = [0.0, 0.1, 0.2]\n",
    "qrf_drv.c_frequencies = [0.0, 0.1, 0.2]\n",
    "\n",
    "qrf_drv.damping = 0.004556  # 1000 cm-1\n",
    "\n",
    "qrf_results = qrf_drv.compute(molecule, basis, scf_results)"
   ]
  },
  {
   "cell_type": "markdown",
   "id": "8e9d68cc-ee0c-4096-96a2-b8ca8db462fe",
   "metadata": {
    "editable": true,
    "slideshow": {
     "slide_type": ""
    },
    "tags": []
   },
   "source": [
    "Third, we print the requested molecular properties. "
   ]
  },
  {
   "cell_type": "code",
   "execution_count": 19,
   "id": "6823af9f-c9f4-40a7-8683-aff25d4d4b00",
   "metadata": {
    "editable": true,
    "slideshow": {
     "slide_type": ""
    },
    "tags": []
   },
   "outputs": [
    {
     "name": "stdout",
     "output_type": "stream",
     "text": [
      "      Frequencies        beta_zzz\n",
      "-----------------------------------------\n",
      "('qrf', 0.0, 0.0)    -19.139396+0.000000j\n",
      "('qrf', 0.1, 0.1)    -29.003058-0.806328j\n",
      "('qrf', 0.2, 0.2)   148.715831-20.064448j\n"
     ]
    }
   ],
   "source": [
    "print(\"      Frequencies        beta_zzz\")\n",
    "print(\"-\"*41)\n",
    "for key in qrf_results.keys():\n",
    "    print(f\"{key}{-qrf_results[key]:24.6f}\")"
   ]
  },
  {
   "cell_type": "code",
   "execution_count": null,
   "id": "b1b9fe2b-6473-40c6-8c7c-e5eb9d63e47a",
   "metadata": {},
   "outputs": [],
   "source": []
  },
  {
   "cell_type": "markdown",
   "id": "4c33b169-d44f-4a78-a40d-c41dcf83ab22",
   "metadata": {},
   "source": [
    "```{note}\n",
    "The response functions in return from VeloxChem are determined for position operators, $\\hat{r}_\\alpha$ and since we have $\\hat{\\mu}_\\alpha = - e \\hat{r}_\\alpha$, we need to change the sign of the response function values to get results for the first-order hyperpolarizability.\n",
    "```"
   ]
  }
 ],
 "metadata": {
  "kernelspec": {
   "display_name": "Python 3 (ipykernel)",
   "language": "python",
   "name": "python3"
  },
  "language_info": {
   "codemirror_mode": {
    "name": "ipython",
    "version": 3
   },
   "file_extension": ".py",
   "mimetype": "text/x-python",
   "name": "python",
   "nbconvert_exporter": "python",
   "pygments_lexer": "ipython3",
   "version": "3.11.6"
  }
 },
 "nbformat": 4,
 "nbformat_minor": 5
}
