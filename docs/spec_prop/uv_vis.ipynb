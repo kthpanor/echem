{
 "cells": [
  {
   "cell_type": "markdown",
   "id": "04c0a70d-f428-4696-a635-df3ee4b90aac",
   "metadata": {
    "editable": true,
    "slideshow": {
     "slide_type": ""
    },
    "tags": [
     "remove-output"
    ]
   },
   "source": [
    "# UV/vis absorption"
   ]
  },
  {
   "cell_type": "markdown",
   "id": "a48f1b57-f5e0-4d33-98f4-170bf692956d",
   "metadata": {},
   "source": [
    "UV/vis spectroscopy is used to measure the amount of wavelengths of UV or visible light that is absorbed by or transmitted through a sample in comparison to a reference or blank sample. It is a  property feeling the effect of the composition of the sample composition, and possibly able to provide information on the content and concentration of the sample.\n",
    "\n",
    "Humans are able to see a spectrum of visible light, from approximately 380 nm, violet, to 780 nm,  red. UV light corresponds to wavelengths shorter than that of visible light, and goes to approximately 100 nm. Therefore, light can be described by its wavelength, which can be useful In UV-Vis spectroscopy one analyzes or identify substances by locating the specific wavelengths corresponding to maximum absorbance.\n",
    "\n",
    "A spectrophotometer is made with a light source, which passes first though a monochromator and/or through various types of filters, used to separate light keeping only photons within a narrow selection of wavelengths. Then the light beam passes through to the sample, where it is partly absorbed. Often after the monocromator the original beam is split (using appropriate setups) so that part of the light might go through the sample of interest, and the other through the reference sample. The beam(s) then hit a detector (a photomultiplyer tube, or a photodiode) which converts light into readable electronic signals."
   ]
  },
  {
   "cell_type": "markdown",
   "id": "96a6cf4f-0a61-4889-b0d1-bacd1d713d21",
   "metadata": {},
   "source": [
    "\n",
    "![myfigure](../../img/spec_prop/spectrometer.png)\n",
    "\n",
    "```{figure} ../../img/spec_prop/spectrometer.png\n",
    "---\n",
    "name: spectrometer\n",
    "width: 600px\n",
    "align: center\n",
    "---\n",
    "```"
   ]
  },
  {
   "cell_type": "markdown",
   "id": "0d435155-87f9-4c03-a2fd-a817b96c4e91",
   "metadata": {},
   "source": [
    "From the point of view of the theoretical scientist trying to interprete and rationalize then effect, the most common used approximation is the Beer-Lambert law, stating that the intensity of light passing through an absorbing medium decreases exponentially. The transmitted intensity $I$ is related to the incident intensity $I_0$ via the relationship\n",
    "\n",
    "$$\n",
    "\\log (\\frac{I_0}{I}) = A = \\epsilon_0 c L\n",
    "$$\n",
    "\n",
    "where the absorbance $A$ is shown to be connected to the concentration of the absorber ($c$), to the length of the optical path within the sample ($L$) and to the extinction coefficient, or molar absorptivity $\\epsilon$, a fundamental property of the absorbing species in the specific environment, depending on the wavelength of the radiation and on the experimental parameters (pressure, temperature).\n",
    "The intensity of light being proportional to the square of the amplitude of the electromagnetic field, in turn related to the refraction index $n$, the link between $\\epsilon$ and $n$ is immediate. Both quantities, governing the behavior of light in refractive and absorptive regions of the eletromagnetic spectra, can be expanded in powers of the light intensity, since they also depend on it. We distinguish *linear* absorbance (that described by the first, intensity-independent, term of these power expansions) from the *nonlinear* absorbance, which is intensity-dependent, becoming more and more relevant as laser sources of stronger intensities are brought into play. In the following we will therefore distinguish *linear*, or one-photon, absorption (OPA) - or more genarally optical processes - from the *nonlinear*, multi-photon absorption (MPA). "
   ]
  },
  {
   "cell_type": "code",
   "execution_count": null,
   "id": "d4d37dce-0862-4c8e-b8ed-760564c9052d",
   "metadata": {},
   "outputs": [],
   "source": []
  }
 ],
 "metadata": {
  "kernelspec": {
   "display_name": "Python 3 (ipykernel)",
   "language": "python",
   "name": "python3"
  },
  "language_info": {
   "codemirror_mode": {
    "name": "ipython",
    "version": 3
   },
   "file_extension": ".py",
   "mimetype": "text/x-python",
   "name": "python",
   "nbconvert_exporter": "python",
   "pygments_lexer": "ipython3",
   "version": "3.11.5"
  }
 },
 "nbformat": 4,
 "nbformat_minor": 5
}
