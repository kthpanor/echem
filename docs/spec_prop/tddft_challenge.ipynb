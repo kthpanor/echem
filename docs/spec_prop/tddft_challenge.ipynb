{
 "cells": [
  {
   "cell_type": "markdown",
   "id": "44f6bf20-72ea-4db2-9727-3edeb0d4b438",
   "metadata": {},
   "source": [
    "# Challenges\n",
    "\n",
    "## Choice of xc-functional\n",
    "\n",
    "```{note}\n",
    "To add:\n",
    "- HOMO-LUMO gap (BxLYP)\n",
    "- Point to exercise\n",
    "```\n",
    "\n",
    "## Self-interaction\n",
    "\n",
    "```{note}\n",
    "To add:\n",
    "- 1/R\n",
    "- Refer to DFT SIE example\n",
    "- Mention inpact on core transitions\n",
    "- Mention [Devli's triangle](https://aip.scitation.org/doi/10.1063/5.0035446)\n",
    "```\n",
    "\n",
    "## Transitions to Rydberg states\n",
    "\n",
    "## Charge-transfer states\n",
    "\n",
    "\n",
    "```{note}\n",
    "To add:\n",
    "- 1/r\n",
    "- Refer to DFT SIE example\n",
    "- Mention inpact on core transitions\n",
    "- Mention [Devli's triangle](https://aip.scitation.org/doi/10.1063/5.0035446)\n",
    "- Calculate $\\Lambda$\n",
    "- Mention [CAM-B3LYP](https://www.sciencedirect.com/science/article/pii/S0009261404008620) functional. This features 19% HF in the short and 65% in the long limit. Constructed with good results for polarizabilities of long chains, excitations to Rydberg states, and charge-transfer states in mind.\n",
    "```\n",
    "\n",
    "\n",
    "## Triplet instabilities\n",
    "\n",
    "Technically more of a TDHF issue, but have it here so we can see what happens when tweaking HF exchange.\n",
    "\n",
    "- Example from response book (beryllium atom)\n",
    "    - Can look at elements in Hessian"
   ]
  },
  {
   "cell_type": "markdown",
   "id": "56c32a01-41f8-47b1-b165-5c5856b3458a",
   "metadata": {},
   "source": [
    "## Recommendations\n",
    "\n",
    "- Loads of studies out there\n",
    "- Depends on property under consideration\n",
    "    - Can be challenging to make work for several properties at the same time\n",
    "- Avoid functional fishing\n",
    "- Benchmark with higher theory"
   ]
  },
  {
   "cell_type": "code",
   "execution_count": null,
   "id": "2058b4af-ebb5-4aa0-948e-89bd758069f9",
   "metadata": {},
   "outputs": [],
   "source": []
  }
 ],
 "metadata": {
  "kernelspec": {
   "display_name": "Python 3 (ipykernel)",
   "language": "python",
   "name": "python3"
  },
  "language_info": {
   "codemirror_mode": {
    "name": "ipython",
    "version": 3
   },
   "file_extension": ".py",
   "mimetype": "text/x-python",
   "name": "python",
   "nbconvert_exporter": "python",
   "pygments_lexer": "ipython3",
   "version": "3.9.15"
  }
 },
 "nbformat": 4,
 "nbformat_minor": 5
}
