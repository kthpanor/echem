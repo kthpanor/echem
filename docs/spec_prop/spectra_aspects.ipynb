{
 "cells": [
  {
   "cell_type": "markdown",
   "id": "ddfc642a",
   "metadata": {
    "editable": true,
    "slideshow": {
     "slide_type": ""
    },
    "tags": [
     "remove-output"
    ]
   },
   "source": [
    "# General aspects\n",
    "\n",
    "Spectroscopy refers to the study of the absorption, emission, or scattering of light by matter. When exposed to electromagnetic radiation, the molecular system under study is no longer found in a stationary state and it becomes necessary to consider one or more of its excited states. Broadly speaking, the microwave, infrared, and visible parts of the spectrum relate to transitions between rotational, vibrational, and electronic levels of the system, respectively, and computational methods are specifically designed for the different cases.\n",
    "\n",
    "Several methods have been developed in theoretical spectroscopy and in this part of the book, we will present some of these. Before doing so, however, this chapter will discuss some general aspects and set the stage.\n",
    "\n",
    "First, we discuss how the [responses to external fields](sec:response_external_fields) give rise to time-dependent wave functions from which *response functions* can be defined. These response functions serve as meeting points between theory and experiment and computational methods are designed for their efficient evaluation, as is discussed in the [molecular properties](mol_prop) and subsequent sections of this chapter. The [electronic and nuclear](elec_nuc) contributions to properties are then discussed, with explicit example given for [rovibronic](rovib) states for a diatomic system. [Selection rules](selection_rules) and their connection to molecular properties are then discussed, followed by a presentation of the [exciton coupling model](excoupl)."
   ]
  }
 ],
 "metadata": {
  "kernelspec": {
   "display_name": "Python 3 (ipykernel)",
   "language": "python",
   "name": "python3"
  },
  "language_info": {
   "codemirror_mode": {
    "name": "ipython",
    "version": 3
   },
   "file_extension": ".py",
   "mimetype": "text/x-python",
   "name": "python",
   "nbconvert_exporter": "python",
   "pygments_lexer": "ipython3",
   "version": "3.10.12"
  }
 },
 "nbformat": 4,
 "nbformat_minor": 5
}
