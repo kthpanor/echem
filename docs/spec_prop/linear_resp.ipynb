{
 "cells": [
  {
   "cell_type": "markdown",
   "id": "63c082e0-3208-484c-b232-f6f832b47595",
   "metadata": {},
   "source": [
    "# Linear Response"
   ]
  },
  {
   "cell_type": "code",
   "execution_count": null,
   "id": "f7163ee4-f59d-4ab2-8e96-4a2a36cf87f6",
   "metadata": {},
   "outputs": [],
   "source": []
  }
 ],
 "metadata": {
  "kernelspec": {
   "display_name": "Python 3 (ipykernel)",
   "language": "python",
   "name": "python3"
  },
  "language_info": {
   "codemirror_mode": {
    "name": "ipython",
    "version": 3
   },
   "file_extension": ".py",
   "mimetype": "text/x-python",
   "name": "python",
   "nbconvert_exporter": "python",
   "pygments_lexer": "ipython3",
   "version": "3.11.6"
  }
 },
 "nbformat": 4,
 "nbformat_minor": 5
}
