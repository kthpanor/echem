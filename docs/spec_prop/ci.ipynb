{
 "cells": [
  {
   "cell_type": "markdown",
   "id": "cf40bab4",
   "metadata": {},
   "source": [
    "# Configuration interaction\n",
    "\n",
    "## Full-CI response\n",
    "\n",
    "As we saw in the previous section, for an exact state, we have the formula\n",
    "\n",
    "$$\n",
    "  \\langle \\! \\langle \\hat{\\Omega}; \\hat{V}^{\\omega} \\rangle \\!\n",
    "  \\rangle  = -\n",
    "  \\frac{1}{\\hbar} \\sum_{n>0} \\left[\n",
    "  \\frac{\\langle 0 | \\hat{\\Omega}  | n \\rangle \n",
    "\\langle n | \\hat{V}^{\\omega} | 0 \\rangle }\n",
    "       {\\omega_{n0}-\\omega}\n",
    "+\n",
    "  \\frac{\\langle 0 | \\hat{V}^{\\omega}  | n \\rangle \n",
    "\\langle n | \\hat{\\Omega} | 0 \\rangle }\n",
    "       {\\omega_{n0}+\\omega} \\right] \n",
    "$$\n",
    "\n",
    "For example, in the case of a molecule irradiated by light, we are interested in computing the polarizability $\\alpha_{\\alpha\\beta}(-\\omega; \\omega)$, corresponding to the response with $\\hat{\\Omega} = \\hat{\\mu}_\\alpha$ and $\\hat{V}^\\omega = - \\hat{\\mu}_\\beta$, where $\\alpha, \\beta \\in \\{x,y,z\\}$. Looking more precisely at the isotropic component, $\\bar\\alpha (-\\omega; \\omega) = \\frac{1}{3} \\sum_\\alpha \\alpha_{\\alpha\\alpha} (-\\omega; \\omega)$, we obtain\n",
    "\n",
    "$$\n",
    "  \\bar\\alpha (-\\omega; \\omega) = \\frac{2}{3} \\sum_{n>0} \\sum_\\alpha \\frac{ \\omega_{n0} | \\langle 0 | \\hat{\\mu}_\\alpha  | n \\rangle |^2 }{ \\omega_{n0}^2 - \\omega^2 }\n",
    "$$\n",
    "\n",
    "We now define the oscillator strength $f_n$ for a transition $0 \\rightarrow n$ as\n",
    "\n",
    "$$\n",
    "  f_n =  \\frac{2}{3} \\sum_\\alpha \\omega_{n0} | \\langle 0 | \\hat{\\mu}_\\alpha  | n \\rangle |^2\n",
    "$$\n",
    "\n",
    "such that\n",
    "\n",
    "$$\n",
    "  \\bar\\alpha (-\\omega; \\omega) =  \\sum_{n>0}  \\frac{ f_n }{ \\omega_{n0}^2 - \\omega^2 }\n",
    "$$\n",
    "\n",
    "Those formulas can be applied directly for a configuration interaction wave function, where it is easy to get the excited state energies simply by obtaining additional roots in the diagonalization of the Hamiltonian. We then only need to compute the matrix element $\\langle 0 | \\hat{\\mu}_\\alpha  | n \\rangle$. In second quantization, the $\\alpha$ component of the dipole operator can be written as\n",
    "\n",
    "$$\n",
    "\\hat{\\mu}_{\\alpha} = \\sum_{pq} \\mu_{\\alpha, pq} \\hat{a}_p^\\dagger \\hat{a}_q \n",
    "$$\n",
    "\n",
    "We thus need to compute the matrix $\\boldsymbol{\\gamma}$, with elements $ \\gamma_{pq} =\\langle 0 |\\hat{a}_p^\\dagger \\hat{a}_q | n \\rangle$, which is called the _transition density matrix_, and contract it with the dipole moment integrals.\n",
    "\n",
    "\n",
    "Let's apply these for full CI (FCI) of a water molecule."
   ]
  },
  {
   "cell_type": "code",
   "execution_count": null,
   "id": "8a958c18",
   "metadata": {
    "tags": [
     "hide-output",
     "remove-output"
    ]
   },
   "outputs": [],
   "source": [
    "import veloxchem as vlx\n",
    "import multipsi as mtp\n",
    "import numpy as np"
   ]
  },
  {
   "cell_type": "code",
   "execution_count": null,
   "id": "43e2f5e5",
   "metadata": {
    "scrolled": true,
    "tags": [
     "remove-output"
    ]
   },
   "outputs": [],
   "source": [
    "mol_str = \"\"\"3\n",
    "\n",
    "O       0.0000000000     0.0000000000     0.1178336003\n",
    "H      -0.7595754146    -0.0000000000    -0.4713344012\n",
    "H       0.7595754146     0.0000000000    -0.4713344012\n",
    "\"\"\"\n",
    "\n",
    "molecule = vlx.Molecule.read_xyz_string(mol_str)\n",
    "basis = vlx.MolecularBasis.read(molecule, \"6-31g\")\n",
    "scf_drv = vlx.ScfRestrictedDriver()\n",
    "scf_results = scf_drv.compute(molecule, basis)"
   ]
  },
  {
   "cell_type": "code",
   "execution_count": null,
   "id": "879f2bef-881a-4d50-9a9c-73b8d6d25e26",
   "metadata": {
    "tags": [
     "remove-input"
    ]
   },
   "outputs": [],
   "source": [
    "molecule.show()"
   ]
  },
  {
   "cell_type": "code",
   "execution_count": null,
   "id": "23458258-c65c-40ed-9657-a19f42585ec3",
   "metadata": {
    "scrolled": true,
    "tags": [
     "hide-output"
    ]
   },
   "outputs": [],
   "source": [
    "# Compute the 5 lowest states of water using full CI\n",
    "\n",
    "space=mtp.OrbSpace(molecule,scf_drv.mol_orbs)\n",
    "# Full CI with frozen 1s orbital\n",
    "space.fci(n_frozen=1)\n",
    "\n",
    "nstates=5\n",
    "cidrv=mtp.CIDriver()\n",
    "ci_results = cidrv.compute(molecule,basis,space,nstates)"
   ]
  },
  {
   "cell_type": "code",
   "execution_count": null,
   "id": "b2cdb66c",
   "metadata": {
    "tags": []
   },
   "outputs": [],
   "source": [
    "au2ev = 27.211386\n",
    "\n",
    "# Get the molecular orbitals within the active space\n",
    "C=space._get_active_mos()\n",
    "\n",
    "# Compute dipole integrals in AO basis\n",
    "dipole_drv = vlx.ElectricDipoleIntegralsDriver()\n",
    "dipole_mats = dipole_drv.compute(molecule, basis)\n",
    "dipole=[dipole_mats.x_to_numpy(),dipole_mats.y_to_numpy(),dipole_mats.z_to_numpy()]\n",
    "\n",
    "# Transform to MO basis\n",
    "dipole_mo=[]\n",
    "for icomp in range(0,3):\n",
    "    dipole_mo.append(np.einsum('pq,pt,qu->tu', dipole[icomp], C, C))\n",
    "    \n",
    "\n",
    "# Initialize the CIOperator class to compute the transition densities.\n",
    "expansion=mtp.CIExpansion(space)\n",
    "DenDriver=mtp.CIOperator(expansion, cidrv.comm)\n",
    "energies = ci_results[\"energies\"]\n",
    "ci_vectors = ci_results[\"ci_vectors\"]\n",
    "        \n",
    "# Compute all 0->n transitions\n",
    "for n in range(1,nstates):\n",
    "    dE=energies[n]-energies[0]\n",
    "    tden=DenDriver.get_1dm(ci_vectors, 0, ci_vectors, n) #Transition density matrix\n",
    "    dx=np.tensordot(tden, dipole_mo[0]) #<0|x|n>\n",
    "    dy=np.tensordot(tden, dipole_mo[1]) #<0|y|n>\n",
    "    dz=np.tensordot(tden, dipole_mo[2]) #<0|z|n>\n",
    "    F=2/3*dE*(dx*dx+dy*dy+dz*dz)\n",
    "    print(f\"Excitation 0->{n} energy: {dE*au2ev:5.3f} eV oscillator strength: {F:.5f}\")"
   ]
  },
  {
   "cell_type": "markdown",
   "id": "01e0b383",
   "metadata": {},
   "source": [
    "We thus obtain 3 visible transitions and one dark state (near-zero dipole oscillator strength). We obtain the exact same result by using the built-in class of multipsi:"
   ]
  },
  {
   "cell_type": "code",
   "execution_count": null,
   "id": "2530b81a",
   "metadata": {
    "tags": [
     "output_scroll"
    ]
   },
   "outputs": [],
   "source": [
    "SI = mtp.StateInteraction()\n",
    "si_results = SI.compute(molecule, basis, ci_results)"
   ]
  },
  {
   "cell_type": "markdown",
   "id": "5ff076df",
   "metadata": {},
   "source": [
    "## Truncated CI\n",
    "\n",
    "In truncated CI, the energy does not just depend on the CI coefficients but also on the molecular orbitals, which makes the truncated CI response more complicated. However, it is interesting to look at the results we obtain by simply applying the above equations. This gives a hierarchy of method from CIS to full CI. However, the excitation energies do not necessarily improve from order to order. Let us demonstrate this on the water example."
   ]
  },
  {
   "cell_type": "code",
   "execution_count": null,
   "id": "668a06a2",
   "metadata": {
    "scrolled": true,
    "tags": [
     "hide-output"
    ]
   },
   "outputs": [
    {
     "name": "stdout",
     "output_type": "stream",
     "text": [
      "                                                                                                                          \n",
      "List of oscillator strengths greather than 1e-10\n",
      "                                                                                                                          \n",
      "  From     to       Energy (eV)    Oscillator strength (length and velocity)\n",
      "     1       2       10.29159         1.548866e-02    3.658376e-02\n",
      "     1       4       12.78501         1.247451e-01    1.355482e-01\n",
      "     1       5       15.12866         1.136810e-01    9.274229e-02\n",
      "                                                                                                                          \n",
      "List of rotatory strengths greater than 1e-10\n",
      "                                                                                                                          \n",
      "  From     to       Energy (eV)    Rot. strength (a.u. and 10^-40 cgs)\n",
      "                          Configuration Interaction Driver\n",
      "                         ==================================\n",
      "                                                                                                                          \n",
      "\n",
      "          Active space definition:\n",
      "          ------------------------\n",
      "Number of inactive (occupied) orbitals: 1\n",
      "Number of active orbitals:              12\n",
      "Number of virtual orbitals:             0\n",
      "\n",
      "    This is a GASSCF wavefunction\n",
      "\n",
      "         Cumulated   Min cumulated    Max cumulated \n",
      " Space    orbitals      occupation       occupation\n",
      "     1           4               5                8\n",
      "     2          12               8                8\n",
      "\n",
      "\n",
      "          CI expansion:\n",
      "          -------------\n",
      "Number of determinants:      6329\n",
      "\n",
      "\n",
      "        ╭────────────────────────────────────╮\n",
      "        │          Driver settings           │\n",
      "        ╰────────────────────────────────────╯\n",
      "          Max. iterations         : 40\n",
      "          Initial diagonalization : 200\n",
      "          Max subspace size       : 50\n",
      "          Convergence thresholds:\n",
      "            - Energy change       : 1e-08\n",
      "            - Residual square norm: 1e-08\n",
      "          Olsen step\n",
      "                                                                                                                          \n",
      "                                                                                                                          \n",
      "        CI Iterations\n",
      "        -------------\n",
      "                                                                                                                          \n",
      "     Iter. | Average Energy | E. Change | Grad. Norm |   Time\n",
      "     ----------------------------------------------------------\n",
      "        1     -75.708185001     0.0e+00      3.5e-01   0:00:04\n",
      "        2     -75.787071882    -9.3e-02      1.4e-02   0:00:04\n",
      "        3     -75.791912542    -5.3e-03      1.2e-03   0:00:04\n",
      "        4     -75.792184181    -3.9e-04      8.9e-05   0:00:04\n",
      "        5     -75.792206026    -4.2e-05      1.1e-05   0:00:04\n",
      "        6     -75.792207797    -4.0e-06      8.3e-07   0:00:04\n",
      "        7     -75.792207936    -3.5e-07      7.9e-08   0:00:04\n",
      "        8     -75.792207948    -2.7e-08      7.6e-09   0:00:05\n",
      "        9     -75.792207950    -7.4e-09      6.3e-09   0:00:04\n",
      "                                                                                                                          \n",
      "** Convergence reached in 9 iterations\n",
      "                                                                                                                          \n",
      "        Final results\n",
      "        -------------\n",
      "                                                                                                                          \n",
      "                                                                                                                          \n",
      "* State 1\n",
      "- Energy: -76.11438963659869\n",
      "- S^2   : 0.00  (multiplicity = 1.0 )\n",
      "- Natural orbitals\n",
      "1.98960 1.97168 1.97493 1.98327 0.00047 0.02478 0.00289 0.01562 0.02338 0.01071 0.00060 0.00208\n",
      "                                                                                                                          \n",
      "* State 2\n",
      "- Energy: -75.80003060665913\n",
      "- S^2   : -0.00  (multiplicity = 1.0 )\n",
      "- Natural orbitals\n",
      "1.99159 1.97002 1.98187 0.99537 0.99592 0.03029 0.00318 0.00554 0.01330 0.00820 0.00318 0.00237\n",
      "                                                                                                                          \n",
      "* State 3\n",
      "- Energy: -75.71893849552846\n",
      "- S^2   : 0.00  (multiplicity = 1.0 )\n",
      "- Natural orbitals\n",
      "1.99111 1.97998 1.97319 0.99537 0.03033 0.99427 0.00339 0.00552 0.03033 0.00953 0.01223 0.00311\n",
      "                                                                                                                          \n",
      "* State 4\n",
      "- Energy: -75.70731804012323\n",
      "- S^2   : 0.00  (multiplicity = 1.0 )\n",
      "- Natural orbitals\n",
      "1.98804 1.96044 1.12926 1.98430 0.86217 0.03726 0.00263 0.01467 0.01016 0.00542 0.00348 0.00217\n",
      "                                                                                                                          \n",
      "* State 5\n",
      "- Energy: -75.62036297238913\n",
      "- S^2   : -0.00  (multiplicity = 1.0 )\n",
      "- Natural orbitals\n",
      "1.98665 1.95751 1.01386 1.98540 0.04016 0.97604 0.00341 0.01331 0.00418 0.00547 0.01214 0.00418\n",
      "                                                                                                                          \n",
      "List of oscillator strengths greather than 1e-10\n",
      "                                                                                                                          \n",
      "  From     to       Energy (eV)    Oscillator strength (length and velocity)\n",
      "     1       2        8.55414         1.328951e-02    4.580239e-02\n",
      "     1       4       11.07698         1.154300e-01    1.705756e-01\n",
      "     1       5       13.44315         1.119484e-01    1.180816e-01\n",
      "                                                                                                                          \n",
      "List of rotatory strengths greater than 1e-10\n",
      "                                                                                                                          \n",
      "  From     to       Energy (eV)    Rot. strength (a.u. and 10^-40 cgs)\n",
      "                          Configuration Interaction Driver\n",
      "                         ==================================\n",
      "                                                                                                                          \n",
      "\n",
      "          Active space definition:\n",
      "          ------------------------\n",
      "Number of inactive (occupied) orbitals: 1\n",
      "Number of active orbitals:              12\n",
      "Number of virtual orbitals:             0\n",
      "\n",
      "    This is a GASSCF wavefunction\n",
      "\n",
      "         Cumulated   Min cumulated    Max cumulated \n",
      " Space    orbitals      occupation       occupation\n",
      "     1           4               4                8\n",
      "     2          12               8                8\n",
      "\n",
      "\n",
      "          CI expansion:\n",
      "          -------------\n",
      "Number of determinants:      27763\n",
      "\n",
      "\n",
      "        ╭────────────────────────────────────╮\n",
      "        │          Driver settings           │\n",
      "        ╰────────────────────────────────────╯\n",
      "          Max. iterations         : 40\n",
      "          Initial diagonalization : 200\n",
      "          Max subspace size       : 50\n",
      "          Convergence thresholds:\n",
      "            - Energy change       : 1e-08\n",
      "            - Residual square norm: 1e-08\n",
      "          Olsen step\n",
      "                                                                                                                          \n",
      "                                                                                                                          \n",
      "        CI Iterations\n",
      "        -------------\n",
      "                                                                                                                          \n",
      "     Iter. | Average Energy | E. Change | Grad. Norm |   Time\n",
      "     ----------------------------------------------------------\n",
      "        1     -75.708185001     0.0e+00      3.6e-01   0:00:07\n",
      "        2     -75.793118310    -9.5e-02      3.6e-02   0:00:07\n",
      "        3     -75.798908867    -7.2e-03      2.0e-03   0:00:08\n",
      "        4     -75.799401560    -5.8e-04      2.2e-04   0:00:24\n",
      "        5     -75.799440899    -6.4e-05      2.9e-05   0:00:24\n"
     ]
    },
    {
     "name": "stdout",
     "output_type": "stream",
     "text": [
      "        6     -75.799446125    -9.5e-06      3.3e-06   0:00:08\n",
      "        7     -75.799446623    -9.0e-07      5.5e-07   0:00:08\n",
      "        8     -75.799446711    -2.5e-07      2.1e-07   0:00:08\n",
      "        9     -75.799446734    -9.2e-08      6.1e-08   0:00:07\n",
      "       10     -75.799446738    -2.0e-08      7.4e-09   0:00:07\n",
      "       11     -75.799446739    -2.1e-09      8.5e-10   0:00:10\n",
      "                                                                                                                          \n",
      "** Convergence reached in 11 iterations\n",
      "                                                                                                                          \n",
      "        Final results\n",
      "        -------------\n",
      "                                                                                                                          \n",
      "                                                                                                                          \n",
      "* State 1\n",
      "- Energy: -76.12003281964515\n",
      "- S^2   : -0.02  (multiplicity = 1.0 )\n",
      "- Natural orbitals\n",
      "1.98832 1.96820 1.97163 1.98078 0.00049 0.02805 0.00308 0.01801 0.02650 0.01210 0.00062 0.00221\n",
      "                                                                                                                          \n",
      "* State 2\n",
      "- Energy: -75.80828932732831\n",
      "- S^2   : -0.03  (multiplicity = 0.9 )\n",
      "- Natural orbitals\n",
      "1.99041 1.96630 1.97922 0.99448 0.99598 0.03407 0.00351 0.00646 0.01523 0.00935 0.00243 0.00257\n",
      "                                                                                                                          \n",
      "* State 3\n",
      "- Energy: -75.72622990160053\n",
      "- S^2   : -0.03  (multiplicity = 0.9 )\n",
      "- Natural orbitals\n",
      "1.98982 1.97785 1.96971 0.99453 0.03391 0.99421 0.00372 0.00639 0.00215 0.01098 0.01350 0.00324\n",
      "                                                                                                                          \n",
      "* State 4\n",
      "- Energy: -75.71537749268845\n",
      "- S^2   : -0.03  (multiplicity = 0.9 )\n",
      "- Natural orbitals\n",
      "1.98672 1.95763 1.14165 1.98172 0.84888 0.04031 0.00280 0.01710 0.01128 0.00608 0.00347 0.00235\n",
      "                                                                                                                          \n",
      "* State 5\n",
      "- Energy: -75.6273041535162\n",
      "- S^2   : -0.03  (multiplicity = 0.9 )\n",
      "- Natural orbitals\n",
      "1.98504 1.95735 1.01140 1.98291 0.04058 0.97774 0.00364 0.01556 0.00427 0.00615 0.01336 0.00427\n",
      "                                                                                                                          \n",
      "List of oscillator strengths greather than 1e-10\n",
      "                                                                                                                          \n",
      "  From     to       Energy (eV)    Oscillator strength (length and velocity)\n",
      "     1       2        8.48297         1.323123e-02    4.607713e-02\n",
      "     1       4       11.01123         1.154562e-01    1.737591e-01\n",
      "     1       5       13.40783         1.150580e-01    1.218071e-01\n",
      "                                                                                                                          \n",
      "List of rotatory strengths greater than 1e-10\n",
      "                                                                                                                          \n",
      "  From     to       Energy (eV)    Rot. strength (a.u. and 10^-40 cgs)\n"
     ]
    }
   ],
   "source": [
    "nstates=5\n",
    "# nstates-1 transitions for CIS, CISD, CISDT and CISDTQ and FCI\n",
    "Energies=np.empty((5,nstates-1))\n",
    "Energies[4,:]=au2ev*np.array(si_results['energies']) # Save the FCI result\n",
    "\n",
    "#CIS to CISDTQ\n",
    "space=mtp.OrbSpace(molecule,scf_drv.mol_orbs)\n",
    "cidrv=mtp.CIDriver()\n",
    "SI=mtp.StateInteraction()\n",
    "\n",
    "for exc in range(1,5):\n",
    "    space.ci(exc,n_frozen=1)\n",
    "    ci_results = cidrv.compute(molecule,basis,space, nstates)\n",
    "    si_results = SI.compute(molecule,basis,ci_results)\n",
    "    Energies[exc-1,:]=au2ev*np.array(si_results['energies'])"
   ]
  },
  {
   "cell_type": "code",
   "execution_count": null,
   "id": "d14e53ac",
   "metadata": {
    "tags": []
   },
   "outputs": [],
   "source": [
    "import matplotlib.pyplot as plt\n",
    "\n",
    "plt.figure(figsize=(6,4))\n",
    "x = np.array(range(1,6))\n",
    "plt.plot(x,Energies[:,0], label='0->1')\n",
    "plt.plot(x,Energies[:,1], label='0->2')\n",
    "plt.plot(x,Energies[:,2], label='0->3')\n",
    "plt.plot(x,Energies[:,3], label='0->4')\n",
    "\n",
    "plt.title('Convergence of excitation energies')\n",
    "plt.xticks([1, 2, 3, 4, 5], ['CIS', 'CISD', 'CISDT', 'CISDTQ', 'FCI'])\n",
    "plt.ylabel(\"Energies (eV)\")\n",
    "plt.legend()\n",
    "plt.tight_layout(); plt.show()"
   ]
  },
  {
   "cell_type": "code",
   "execution_count": null,
   "id": "2afe96f4",
   "metadata": {
    "tags": []
   },
   "outputs": [],
   "source": [
    "Energies[0,:]"
   ]
  },
  {
   "cell_type": "markdown",
   "id": "8e7bad92",
   "metadata": {},
   "source": [
    "As we can see, we do not have a monotonous convergence towards the full CI result. In particular, CISD is actually worse than CIS. The reason for this is that CIS has a more even-handed treatment of the ground and excited states than CISD. In CIS, due to the Brillouin theorem, the ground state does not improve with the inclusion of single excitations, but the single excitations are needed to generate the dominant configuration for the (singly) excited states. Both ground and excited states are thus treated at a mean-field (HF-like) level.\n",
    "\n",
    "However, in CISD, the ground state contains double excitation, and thus dynamical correlation, while the excited states would need up to triple excitations to both generate the singly-excited dominant configuration and correlating double excitations on top. There is an unbalance, the ground state being described more accurately than the excited states, leading to too high excitation energies. Adding the triple excitations bring correlation also for excited states, which brings the result closer to the final FCI result, and in this simple case is essentially converged.\n",
    "\n",
    "For this reason, while CIS is sometimes used to compute excitation energies (and as we can see in the next section, is actually related to HF response), the other truncated CIs are not."
   ]
  },
  {
   "cell_type": "code",
   "execution_count": null,
   "id": "bc269f39",
   "metadata": {},
   "outputs": [],
   "source": []
  }
 ],
 "metadata": {
  "celltoolbar": "Tags",
  "kernelspec": {
   "display_name": "Python 3 (ipykernel)",
   "language": "python",
   "name": "python3"
  },
  "language_info": {
   "codemirror_mode": {
    "name": "ipython",
    "version": 3
   },
   "file_extension": ".py",
   "mimetype": "text/x-python",
   "name": "python",
   "nbconvert_exporter": "python",
   "pygments_lexer": "ipython3",
   "version": "3.12.8"
  }
 },
 "nbformat": 4,
 "nbformat_minor": 5
}
