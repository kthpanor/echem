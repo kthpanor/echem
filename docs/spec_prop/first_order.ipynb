{
 "cells": [
  {
   "cell_type": "markdown",
   "id": "1d8baba1-5120-4d6f-940a-818fb46c0a80",
   "metadata": {},
   "source": [
    "# First-order properties"
   ]
  },
  {
   "cell_type": "code",
   "execution_count": null,
   "id": "a2780535-146a-4d9c-bc68-d00beda6b065",
   "metadata": {},
   "outputs": [],
   "source": []
  }
 ],
 "metadata": {
  "kernelspec": {
   "display_name": "Python 3 (ipykernel)",
   "language": "python",
   "name": "python3"
  },
  "language_info": {
   "codemirror_mode": {
    "name": "ipython",
    "version": 3
   },
   "file_extension": ".py",
   "mimetype": "text/x-python",
   "name": "python",
   "nbconvert_exporter": "python",
   "pygments_lexer": "ipython3",
   "version": "3.11.5"
  }
 },
 "nbformat": 4,
 "nbformat_minor": 5
}
