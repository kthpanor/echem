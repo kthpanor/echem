{
 "cells": [
  {
   "cell_type": "markdown",
   "id": "1d8baba1-5120-4d6f-940a-818fb46c0a80",
   "metadata": {},
   "source": [
    "# First-order properties"
   ]
  },
  {
   "cell_type": "markdown",
   "id": "d9460a8f-e00b-4443-9c7e-9be2c1fb907b",
   "metadata": {},
   "source": [
    "## Electric multipole moments\n",
    "\n",
    "The permanent multipole moments characterize the charge distribution in a molecule. The zeroth--order (monopole) moment corresponds to the total charge, the first moment to the dipole, the second to the quadrupole,\n",
    "and so on. The multipole moments can be computed as expectation values of the multipole moment\n",
    "operators discussed elsewhere. As for the operators, we can use the primitive or traceless forms for the\n",
    "quadrupole and higher-order moments. The traceless multipole  moments describe the deviation from an isotropic charge distribution.  For instance, the traceless quadrupole moment vanishes for a spherical charge distribution when the center of the sphere coincides with the origin, since the transformation from the primitive (traced) quadrupole moment $q_{\\alpha\\beta}$ to the traceless quadrupole moment $\\Theta_{\\alpha\\beta}$ eliminates \n",
    "the isotropic contribution.  The traceless multipole moment of order $n$ is defined by $2n+1$ components, whereas the traced tensor involves $(n+2)(n+1)/2$ independent quantities. A tabulation of non-zero symmetry-independent elements of multipole moments ($\\mu$ = dipole, $\\Theta$ = quadrupole, $\\Omega$ = octupole and $\\Phi$ = hexadecapole) for different point groups is given elsewhere {cite}`kielichrev` . \n",
    "\n",
    "In general, when the multipole expansion of the potential is used to describe the influence of a static electric field, only the first non-zero moment is unambiguously defined. The next,higher-order multipole moments depend on the choice of origin, and when computed with respect to the origin of the coordinate system, they depend on the position of the molecule in space.  This can be seen from the form of the the electric dipole operator\n",
    "\n",
    "\\begin{equation*}\n",
    "\\hat{\\mu}_\\alpha = -e \\sum_{i} {\\hat{r}}_{i\\alpha} +e \\sum_{K}Z_K R_{K\n",
    "\\alpha}\\ ,\n",
    "\\end{equation*}\n",
    "\n",
    "where a shift of the chosen common origin for the expansion of the potential by a vector ${\\bf D}$ for a molecule with the total charge $Q$ leads to a change of $Q{\\bf D}$ in the dipole moment; similarly, for a neutral molecule \n",
    "with a non-zero dipole moment, the quadrupole moment will change."
   ]
  },
  {
   "cell_type": "markdown",
   "id": "1565765b-1489-4dec-9c82-57799f618535",
   "metadata": {},
   "source": [
    "\n",
    "## Dipole and quadrupole moments\n",
    "\n",
    "From the multipole expansion of the energy in the presence of a static electric field given previously we find that the $\\alpha-$component of the static permanent dipole moment is defined as the electric field derivative of $E(\\mathbf{F})$\n",
    "\n",
    "\\begin{equation}\n",
    "\\mu_\\alpha = -\\left. \\frac{\\partial E\\left({\\mathbf{F}} \\right)}{\\partial F_\\alpha} \\right|_{{\\mathbf{F}} = {\\bf 0}}. \\;\\;\n",
    "\\end{equation}\n",
    "\n",
    "For wave functions that fulfill the Hellmann-Feynman theorem we can compute the dipole moment as the expectation value\n",
    "\n",
    "\\begin{equation*}\n",
    "\\mu_\\alpha = \\langle 0 \\mid \\hat{\\mu}_\\alpha \\mid 0 \\rangle, \\;\\; \n",
    "\\end{equation*}\n",
    "\n",
    "where $\\hat\\mu_\\alpha$ is the $\\alpha-$component of the dipole moment operator defined just above. Obviously, the expectation value expression is correct for the exact wave function. Furthermore, for most approximate wave functions it is much easier to compute the expectation value than to calculate the energy \n",
    "derivative. However, the results differ when the  method used does not fulfill the Hellmann-Feynman theorem.  \n",
    "In this case, one can either derive the analytic expressions which reproduce the correct definition of the electric field derivative of $E(\\mathbf{F})$ or use the finite field method and numerical differentiation.\n",
    "\n",
    "The expectation value of  ${\\hat{\\Theta}}$ - the electric quadrupole operator in its traceless form \n",
    "\n",
    "\\begin{equation*}\n",
    "{\\hat{\\Theta}}_{\\alpha\\beta} = -\\frac{e}{2} \\sum_{i}\n",
    "(3{\\hat{r}}_{i\\alpha}{\\hat{r}}_{i\\beta}-{\\hat{r}}_{i}^{2}\\delta_{\\alpha\n",
    "\\beta}) + \\frac{e}{2} \\sum_{K} Z_{K} { ( 3 R_{K \\alpha}\n",
    "            R_{K \\beta}\n",
    "- {R}_{K}^{2} \\delta_{\\alpha \\beta} ) }.\n",
    "\\end{equation*}\n",
    "\n",
    "as defined following Buckingham {cite}`adbacp12` ,\n",
    "\n",
    "\\begin{equation*}\n",
    "\\Theta_{\\alpha\\beta} = \\langle 0 \\mid {\\hat{\\Theta}}_{\\alpha \\beta} \\mid 0 \\rangle  = \n",
    "-3 \n",
    "\\frac{\\partial E \\left(\\nabla {\\mathbf{F}} \\right)} {\\partial F_{\\alpha\\beta}} \\,\n",
    "\\end{equation*}\n",
    "\n",
    "can be related to the expectation values of second moments,\n",
    "$q_{\\alpha\\beta} $ = $\\langle 0| \\hat{q}_{\\alpha\\beta} |0 \\rangle $, where the latter are defined\n",
    "as\n",
    "\n",
    "\\begin{equation*}\n",
    "\\hat{q}_{\\alpha\\beta} = -e \\sum_i {\\hat{r}}_{i\\alpha}{\\hat{r}}_{i\\beta}\n",
    "+ {e} \\sum_{K} Z_{K}   R_{K \\alpha} R_{K \\beta}.\n",
    "\\end{equation*}\n",
    "\n",
    "by a simple linear transformation.  \n",
    "\n",
    "Both $\\mathbf{\\Theta}$ and $\\mathbf{q}$ are rank two, symmetric tensors. \n",
    "\n",
    "For molecules with an $n$-fold rotation axis with $n \\ge 3$ :\n",
    "\n",
    "\\begin{equation}\n",
    "\\Theta \\equiv \\Theta_{zz} = -2 \\Theta_{yy} = -2 \\Theta_{xx},\n",
    "\\end{equation}\n",
    "\n",
    "where $z$ coincides with the rotation axis. In experiment, two diagonal components of \n",
    "$\\mathbf{\\Theta}$ are measured.\n",
    "\n",
    "Units conversion factors for the electric dipole and quadrupole moments are, respectively\n",
    "\n",
    "1 au of $\\mu$ = ea$_0$ = 8.47835 $\\times 10^{-30}$ C m (SI) = 2.5417 $\\times 10^{-18}$ statvolt cm$^2$ (esu)\n",
    "\n",
    "1 au of $\\Theta$ = ea$_0^2$ = 4.48655 $\\times 10^{-40}$ C m$^2$ (SI) = 1.3450 $\\times 10^{-26}$ statvolt cm$^3$ (esu).\n",
    "\n",
    "The unit of Debye = 10$^{-18}$ stavolt cm$^2$ is often used for the electric dipole moment."
   ]
  },
  {
   "cell_type": "code",
   "execution_count": null,
   "id": "9a3b5c7b-336f-4ecd-8aa5-2cd4793a545b",
   "metadata": {},
   "outputs": [],
   "source": []
  },
  {
   "cell_type": "code",
   "execution_count": null,
   "id": "db869fe7-20bf-41af-a1f5-768f4ebf60c8",
   "metadata": {},
   "outputs": [],
   "source": []
  }
 ],
 "metadata": {
  "kernelspec": {
   "display_name": "Python 3 (ipykernel)",
   "language": "python",
   "name": "python3"
  },
  "language_info": {
   "codemirror_mode": {
    "name": "ipython",
    "version": 3
   },
   "file_extension": ".py",
   "mimetype": "text/x-python",
   "name": "python",
   "nbconvert_exporter": "python",
   "pygments_lexer": "ipython3",
   "version": "3.11.5"
  }
 },
 "nbformat": 4,
 "nbformat_minor": 5
}
