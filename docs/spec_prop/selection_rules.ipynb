{
 "cells": [
  {
   "cell_type": "markdown",
   "id": "a9c7bac6-7321-4004-9278-761aa254e73c",
   "metadata": {
    "editable": true,
    "slideshow": {
     "slide_type": ""
    },
    "tags": []
   },
   "source": [
    "# Selection rules\n",
    "\n",
    "When considering the interaction of light and matter and determining the excitations an electron can undergo by absorption of one photon, the following selection rules are introduced for atoms\n",
    "\n",
    "\\begin{align*}\n",
    "%&\\Delta n  =\\textrm{integer} \\\\ \n",
    "&\\Delta l  = \\pm1\\\\ \n",
    "&\\Delta L  =0,\\pm1 \\\\ \n",
    "&\\Delta S  =0 \\\\ \n",
    "&\\Delta J  =0,\\pm 1 \\quad (J=0 \\Rightarrow \\Delta J=0)\n",
    "\\end{align*}\n",
    "\n",
    "for transitions involving changing the electronic state of an atom. Pure electronic excitations can be found in wave lengths of visible light and below. The selection rules can be understood by group theoretical considerations. If the atom (or, more generally, a molecule, for which selection rules can be found in similar manners) interacts with an electric field of incoming photons, electric dipole transitions to higher states are made possible. The probability of a transition from an initial state $\\psi_i$ to a final state $\\psi_f$ can be calculated as\n",
    "\n",
    "$$\n",
    "p_{fi}=\\hat{\\mu}_{fi}^2= \\left| \\langle \\psi_f | \\hat{\\mu} | \\psi_i \\rangle \\right|^2\n",
    "$$\n",
    "\n",
    "where $\\hat{\\mu}$ is the electric dipole moment. Again, this integral is by necessity zero if the integrand does not contain the totally symmetric irrep of the point group. In other words, we need to determine the symmetry of the function $\\psi_f^{\\ast} \\hat{\\mu} \\psi_i$, by taking the direct product of the symmetry species of each function and see if this contains the totally symmetric irrep.\n",
    "\n",
    "First we must then learn how to determine the symmetry of an electronic state. This is done by identifying all unpaired electrons in the molecule and take the direct product of the corresponding irreps of the molecular orbitals. Note here that the ground state of a closed-shell molecule always belong to the totally symmetric irrep (as all electrons are paired). Remembering that for two functions the symmetry species of the functions much match to acquire the totally symmetric irrep, so this transition is only achievable if\n",
    "\n",
    "$$\n",
    "D_{\\mu i}(g)=D_{\\mu}(g) \\otimes D_i(g) \\qquad \\textrm{has the same symmetry as} \\qquad D_f(g)\n",
    "$$\n",
    "\n",
    "Consider water with the basis set $(s_H,s_H',s_O,p_x,p_y,p_z)$. Using this it is possible to construct molecular orbitals by use of SALCs such that we obtain three orbitals of $A_1$ symmetry (the totally symmetrical symmetry), two of $B_1$ symmetry and one of $B_2$ symmetry. The ground state is then found to be $(1A_1)^2(1B_1)^2(2A_1)^4(1B_2)^2$ and is, as stated above, of $A_2$ symmetry. The closest antibonding orbital is $(3A_1)$. Further, it can be shown that x-polarized light is of $B_1$ symmetry, y-polarized of $B_2$ symmetry and z-polarized of $A_1$ symmetry.\n",
    "\n",
    "We are thus prepared to conclude which transitions that can be achieved with which polarizations of incoming light. The first excited state yields the unpaired electrons in $(B_2)(A_1)$, for which the direct product of the two symmetries yields $B_2 \\otimes A_1=B_2$. This symmetry matches that of y-polarized light, so this excitation is possible by use of y-polarized light. The second excited state is $(B_2)(B_1)$, with $B_2 \\otimes B_1=A_2$. This symmetry does not match that of any polarization of light, and is thus inaccessible. This procedure can be carried out for all possible excitations."
   ]
  },
  {
   "cell_type": "markdown",
   "id": "4990425f-c31c-4edc-88db-cfca2f841f8f",
   "metadata": {
    "editable": true,
    "slideshow": {
     "slide_type": ""
    },
    "tags": []
   },
   "source": [
    "![H-aggregate](../../img/h-aggregate.png) "
   ]
  },
  {
   "cell_type": "code",
   "execution_count": 1,
   "id": "349f5f46-7b10-4687-989e-e49656fb9783",
   "metadata": {
    "editable": true,
    "slideshow": {
     "slide_type": ""
    },
    "tags": [
     "remove-output"
    ]
   },
   "outputs": [
    {
     "name": "stdout",
     "output_type": "stream",
     "text": [
      "* Warning * Environment variable OMP_NUM_THREADS not set.\n",
      "* Warning * Setting OMP_NUM_THREADS to 6.\n"
     ]
    }
   ],
   "source": [
    "import veloxchem as vlx"
   ]
  },
  {
   "cell_type": "code",
   "execution_count": 2,
   "id": "c72ea380-4585-4a28-beca-7dd06b5da804",
   "metadata": {
    "editable": true,
    "scrolled": true,
    "slideshow": {
     "slide_type": ""
    },
    "tags": [
     "hide-input"
    ]
   },
   "outputs": [],
   "source": [
    "dimer_xyz = \"\"\"12\n",
    "\n",
    "C        0.67759997    0.00000000    0.00000000\n",
    "C       -0.67759997    0.00000000    0.00000000\n",
    "H        1.21655197    0.92414474    0.00000000\n",
    "H        1.21655197   -0.92414474    0.00000000\n",
    "H       -1.21655197   -0.92414474    0.00000000\n",
    "H       -1.21655197    0.92414474    0.00000000\n",
    "C        0.67759997    0.00000000    5.00000000\n",
    "C       -0.67759997    0.00000000    5.00000000\n",
    "H        1.21655197    0.92414474    5.00000000\n",
    "H        1.21655197   -0.92414474    5.00000000\n",
    "H       -1.21655197   -0.92414474    5.00000000\n",
    "H       -1.21655197    0.92414474    5.00000000\"\"\"\n",
    "\n",
    "molecule = vlx.Molecule.read_xyz_string(dimer_xyz)\n",
    "basis = vlx.MolecularBasis.read(molecule, \"6-31g\", ostream=None)"
   ]
  },
  {
   "cell_type": "code",
   "execution_count": 3,
   "id": "364da8ba-28d1-4bb1-ba18-d68b277d5003",
   "metadata": {
    "editable": true,
    "slideshow": {
     "slide_type": ""
    },
    "tags": [
     "hide-input"
    ]
   },
   "outputs": [
    {
     "data": {
      "application/3dmoljs_load.v0": "<div id=\"3dmolviewer_1699215986274752\"  style=\"position: relative; width: 400px; height: 300px;\">\n        <p id=\"3dmolwarning_1699215986274752\" style=\"background-color:#ffcccc;color:black\">You appear to be running in JupyterLab (or JavaScript failed to load for some other reason).  You need to install the 3dmol extension: <br>\n        <tt>jupyter labextension install jupyterlab_3dmol</tt></p>\n        </div>\n<script>\n\nvar loadScriptAsync = function(uri){\n  return new Promise((resolve, reject) => {\n    //this is to ignore the existence of requirejs amd\n    var savedexports, savedmodule;\n    if (typeof exports !== 'undefined') savedexports = exports;\n    else exports = {}\n    if (typeof module !== 'undefined') savedmodule = module;\n    else module = {}\n\n    var tag = document.createElement('script');\n    tag.src = uri;\n    tag.async = true;\n    tag.onload = () => {\n        exports = savedexports;\n        module = savedmodule;\n        resolve();\n    };\n  var firstScriptTag = document.getElementsByTagName('script')[0];\n  firstScriptTag.parentNode.insertBefore(tag, firstScriptTag);\n});\n};\n\nif(typeof $3Dmolpromise === 'undefined') {\n$3Dmolpromise = null;\n  $3Dmolpromise = loadScriptAsync('https://cdnjs.cloudflare.com/ajax/libs/3Dmol/2.0.4/3Dmol-min.js');\n}\n\nvar viewer_1699215986274752 = null;\nvar warn = document.getElementById(\"3dmolwarning_1699215986274752\");\nif(warn) {\n    warn.parentNode.removeChild(warn);\n}\n$3Dmolpromise.then(function() {\nviewer_1699215986274752 = $3Dmol.createViewer(document.getElementById(\"3dmolviewer_1699215986274752\"),{backgroundColor:\"white\"});\nviewer_1699215986274752.zoomTo();\n\tviewer_1699215986274752.addModel(\"12\\n\\nC        0.67759997    0.00000000    0.00000000\\nC       -0.67759997    0.00000000    0.00000000\\nH        1.21655197    0.92414474    0.00000000\\nH        1.21655197   -0.92414474    0.00000000\\nH       -1.21655197   -0.92414474    0.00000000\\nH       -1.21655197    0.92414474    0.00000000\\nC        0.67759997    0.00000000    5.00000000\\nC       -0.67759997    0.00000000    5.00000000\\nH        1.21655197    0.92414474    5.00000000\\nH        1.21655197   -0.92414474    5.00000000\\nH       -1.21655197   -0.92414474    5.00000000\\nH       -1.21655197    0.92414474    5.00000000\");\n\tviewer_1699215986274752.setStyle({\"stick\": {}, \"sphere\": {\"scale\": 0.25}});\n\tviewer_1699215986274752.rotate(-90,\"x\");\n\tviewer_1699215986274752.zoomTo();\nviewer_1699215986274752.render();\n});\n</script>",
      "text/html": [
       "<div id=\"3dmolviewer_1699215986274752\"  style=\"position: relative; width: 400px; height: 300px;\">\n",
       "        <p id=\"3dmolwarning_1699215986274752\" style=\"background-color:#ffcccc;color:black\">You appear to be running in JupyterLab (or JavaScript failed to load for some other reason).  You need to install the 3dmol extension: <br>\n",
       "        <tt>jupyter labextension install jupyterlab_3dmol</tt></p>\n",
       "        </div>\n",
       "<script>\n",
       "\n",
       "var loadScriptAsync = function(uri){\n",
       "  return new Promise((resolve, reject) => {\n",
       "    //this is to ignore the existence of requirejs amd\n",
       "    var savedexports, savedmodule;\n",
       "    if (typeof exports !== 'undefined') savedexports = exports;\n",
       "    else exports = {}\n",
       "    if (typeof module !== 'undefined') savedmodule = module;\n",
       "    else module = {}\n",
       "\n",
       "    var tag = document.createElement('script');\n",
       "    tag.src = uri;\n",
       "    tag.async = true;\n",
       "    tag.onload = () => {\n",
       "        exports = savedexports;\n",
       "        module = savedmodule;\n",
       "        resolve();\n",
       "    };\n",
       "  var firstScriptTag = document.getElementsByTagName('script')[0];\n",
       "  firstScriptTag.parentNode.insertBefore(tag, firstScriptTag);\n",
       "});\n",
       "};\n",
       "\n",
       "if(typeof $3Dmolpromise === 'undefined') {\n",
       "$3Dmolpromise = null;\n",
       "  $3Dmolpromise = loadScriptAsync('https://cdnjs.cloudflare.com/ajax/libs/3Dmol/2.0.4/3Dmol-min.js');\n",
       "}\n",
       "\n",
       "var viewer_1699215986274752 = null;\n",
       "var warn = document.getElementById(\"3dmolwarning_1699215986274752\");\n",
       "if(warn) {\n",
       "    warn.parentNode.removeChild(warn);\n",
       "}\n",
       "$3Dmolpromise.then(function() {\n",
       "viewer_1699215986274752 = $3Dmol.createViewer(document.getElementById(\"3dmolviewer_1699215986274752\"),{backgroundColor:\"white\"});\n",
       "viewer_1699215986274752.zoomTo();\n",
       "\tviewer_1699215986274752.addModel(\"12\\n\\nC        0.67759997    0.00000000    0.00000000\\nC       -0.67759997    0.00000000    0.00000000\\nH        1.21655197    0.92414474    0.00000000\\nH        1.21655197   -0.92414474    0.00000000\\nH       -1.21655197   -0.92414474    0.00000000\\nH       -1.21655197    0.92414474    0.00000000\\nC        0.67759997    0.00000000    5.00000000\\nC       -0.67759997    0.00000000    5.00000000\\nH        1.21655197    0.92414474    5.00000000\\nH        1.21655197   -0.92414474    5.00000000\\nH       -1.21655197   -0.92414474    5.00000000\\nH       -1.21655197    0.92414474    5.00000000\");\n",
       "\tviewer_1699215986274752.setStyle({\"stick\": {}, \"sphere\": {\"scale\": 0.25}});\n",
       "\tviewer_1699215986274752.rotate(-90,\"x\");\n",
       "\tviewer_1699215986274752.zoomTo();\n",
       "viewer_1699215986274752.render();\n",
       "});\n",
       "</script>"
      ]
     },
     "metadata": {},
     "output_type": "display_data"
    }
   ],
   "source": [
    "import py3Dmol\n",
    "\n",
    "viewer = py3Dmol.view(width=400, height=300)\n",
    "\n",
    "viewer.addModel(dimer_xyz)\n",
    "viewer.setStyle({\"stick\": {}, \"sphere\": {\"scale\": 0.25}})\n",
    "\n",
    "# rotate and centralize for a better initial view\n",
    "viewer.rotate(-90, \"x\")\n",
    "viewer.zoomTo()\n",
    "\n",
    "viewer.show()"
   ]
  },
  {
   "cell_type": "code",
   "execution_count": 4,
   "id": "335fcf6c-bd5d-4501-acb8-1e6e79715970",
   "metadata": {
    "editable": true,
    "scrolled": true,
    "slideshow": {
     "slide_type": ""
    },
    "tags": [
     "hide-output"
    ]
   },
   "outputs": [
    {
     "name": "stdout",
     "output_type": "stream",
     "text": [
      "                                                                                                                          \n",
      "                                            Self Consistent Field Driver Setup                                            \n",
      "                                           ====================================                                           \n",
      "                                                                                                                          \n",
      "                   Wave Function Model             : Spin-Restricted Kohn-Sham                                            \n",
      "                   Initial Guess Model             : Superposition of Atomic Densities                                    \n",
      "                   Convergence Accelerator         : Two Level Direct Inversion of Iterative Subspace                     \n",
      "                   Max. Number of Iterations       : 50                                                                   \n",
      "                   Max. Number of Error Vectors    : 10                                                                   \n",
      "                   Convergence Threshold           : 1.0e-06                                                              \n",
      "                   ERI Screening Scheme            : Cauchy Schwarz + Density                                             \n",
      "                   ERI Screening Mode              : Dynamic                                                              \n",
      "                   ERI Screening Threshold         : 1.0e-12                                                              \n",
      "                   Linear Dependence Threshold     : 1.0e-06                                                              \n",
      "                   Exchange-Correlation Functional : BHANDHLYP                                                            \n",
      "                   Molecular Grid Level            : 4                                                                    \n",
      "                                                                                                                          \n",
      "* Info * Nuclear repulsion energy: 92.8034143225 a.u.                                                                     \n",
      "                                                                                                                          \n",
      "* Info * Molecular grid with 156144 points generated in 0.14 sec.                                                         \n",
      "                                                                                                                          \n",
      "* Info * Overlap matrix computed in 0.09 sec.                                                                             \n",
      "                                                                                                                          \n",
      "* Info * Kinetic energy matrix computed in 0.01 sec.                                                                      \n",
      "                                                                                                                          \n",
      "* Info * Nuclear potential matrix computed in 0.02 sec.                                                                   \n",
      "                                                                                                                          \n",
      "* Info * Orthogonalization matrix computed in 0.32 sec.                                                                   \n",
      "                                                                                                                          \n",
      "* Info * SAD initial guess computed in 0.05 sec.                                                                          \n",
      "                                                                                                                          \n",
      "* Info * Starting Reduced Basis SCF calculation...                                                                        \n",
      "* Info * ...done. SCF energy in reduced basis set: -156.004952601663 a.u. Time: 0.88 sec.                                 \n",
      "                                                                                                                          \n",
      "* Info * Overlap matrix computed in 0.00 sec.                                                                             \n",
      "                                                                                                                          \n",
      "* Info * Kinetic energy matrix computed in 0.00 sec.                                                                      \n",
      "                                                                                                                          \n",
      "* Info * Nuclear potential matrix computed in 0.00 sec.                                                                   \n",
      "                                                                                                                          \n",
      "* Info * Orthogonalization matrix computed in 0.00 sec.                                                                   \n",
      "                                                                                                                          \n",
      "                                                                                                                          \n",
      "               Iter. |    Kohn-Sham Energy | Energy Change | Gradient Norm | Max. Gradient | Density Change               \n",
      "               --------------------------------------------------------------------------------------------               \n",
      "                  1      -157.016934500533    0.0000000000      0.08330633      0.00965351      0.00000000                \n",
      "                  2      -157.017706111588   -0.0007716111      0.03961909      0.00471251      0.04461019                \n",
      "                  3      -157.017927512391   -0.0002214008      0.00090029      0.00019163      0.01199666                \n",
      "                  4      -157.017927785977   -0.0000002736      0.00004066      0.00000540      0.00084527                \n",
      "                  5      -157.017927786322   -0.0000000003      0.00000252      0.00000038      0.00004593                \n",
      "                  6      -157.017927786323   -0.0000000000      0.00000025      0.00000003      0.00000250                \n",
      "                                                                                                                          \n",
      "               *** SCF converged in 6 iterations. Time: 1.45 sec.                                                         \n",
      "                                                                                                                          \n",
      "               Spin-Restricted Kohn-Sham:                                                                                 \n",
      "               --------------------------                                                                                 \n",
      "               Total Energy                       :     -157.0179277863 a.u.                                              \n",
      "               Electronic Energy                  :     -249.8213421088 a.u.                                              \n",
      "               Nuclear Repulsion Energy           :       92.8034143225 a.u.                                              \n",
      "               ------------------------------------                                                                       \n",
      "               Gradient Norm                      :        0.0000002480 a.u.                                              \n",
      "                                                                                                                          \n",
      "                                                                                                                          \n",
      "               Ground State Information                                                                                   \n",
      "               ------------------------                                                                                   \n",
      "               Charge of Molecule            :  0.0                                                                       \n",
      "               Multiplicity (2S+1)           :  1.0                                                                       \n",
      "               Magnetic Quantum Number (M_S) :  0.0                                                                       \n",
      "                                                                                                                          \n",
      "                                                                                                                          \n",
      "                                                 Spin Restricted Orbitals                                                 \n",
      "                                                 ------------------------                                                 \n",
      "                                                                                                                          \n",
      "               Molecular Orbital No.  12:                                                                                 \n",
      "               --------------------------                                                                                 \n",
      "               Occupation: 2.000 Energy:   -0.47932 a.u.                                                                  \n",
      "               (   1 C   1p+1:    -0.30) (   2 C   1p+1:     0.30) (   7 C   1p+1:     0.30)                              \n",
      "               (   8 C   1p+1:    -0.30)                                                                                  \n",
      "                                                                                                                          \n",
      "               Molecular Orbital No.  13:                                                                                 \n",
      "               --------------------------                                                                                 \n",
      "               Occupation: 2.000 Energy:   -0.42337 a.u.                                                                  \n",
      "               (   1 C   1p-1:     0.22) (   2 C   1p-1:    -0.22) (   7 C   1p-1:     0.22)                              \n",
      "               (   8 C   1p-1:    -0.22)                                                                                  \n",
      "                                                                                                                          \n",
      "               Molecular Orbital No.  14:                                                                                 \n",
      "               --------------------------                                                                                 \n",
      "               Occupation: 2.000 Energy:   -0.42326 a.u.                                                                  \n",
      "               (   1 C   1p-1:     0.22) (   2 C   1p-1:    -0.22) (   7 C   1p-1:    -0.22)                              \n",
      "               (   8 C   1p-1:     0.22)                                                                                  \n",
      "                                                                                                                          \n",
      "               Molecular Orbital No.  15:                                                                                 \n",
      "               --------------------------                                                                                 \n",
      "               Occupation: 2.000 Energy:   -0.30982 a.u.                                                                  \n",
      "               (   1 C   1p0 :    -0.28) (   1 C   2p0 :    -0.21) (   2 C   1p0 :    -0.28)                              \n",
      "               (   2 C   2p0 :    -0.21) (   7 C   1p0 :     0.28) (   7 C   2p0 :     0.21)                              \n",
      "               (   8 C   1p0 :     0.28) (   8 C   2p0 :     0.21)                                                        \n",
      "                                                                                                                          \n",
      "               Molecular Orbital No.  16:                                                                                 \n",
      "               --------------------------                                                                                 \n",
      "               Occupation: 2.000 Energy:   -0.30690 a.u.                                                                  \n",
      "               (   1 C   1p0 :     0.28) (   1 C   2p0 :     0.21) (   2 C   1p0 :     0.28)                              \n",
      "               (   2 C   2p0 :     0.21) (   7 C   1p0 :     0.28) (   7 C   2p0 :     0.21)                              \n",
      "               (   8 C   1p0 :     0.28) (   8 C   2p0 :     0.21)                                                        \n",
      "                                                                                                                          \n",
      "               Molecular Orbital No.  17:                                                                                 \n",
      "               --------------------------                                                                                 \n",
      "               Occupation: 0.000 Energy:    0.06580 a.u.                                                                  \n",
      "               (   1 C   1p0 :     0.28) (   1 C   2p0 :     0.47) (   2 C   1p0 :    -0.28)                              \n",
      "               (   2 C   2p0 :    -0.47) (   7 C   1p0 :    -0.28) (   7 C   2p0 :    -0.47)                              \n",
      "               (   8 C   1p0 :     0.28) (   8 C   2p0 :     0.47)                                                        \n",
      "                                                                                                                          \n",
      "               Molecular Orbital No.  18:                                                                                 \n",
      "               --------------------------                                                                                 \n",
      "               Occupation: 0.000 Energy:    0.06994 a.u.                                                                  \n",
      "               (   1 C   1p0 :     0.28) (   1 C   2p0 :     0.47) (   2 C   1p0 :    -0.28)                              \n",
      "               (   2 C   2p0 :    -0.47) (   7 C   1p0 :     0.28) (   7 C   2p0 :     0.47)                              \n",
      "               (   8 C   1p0 :    -0.28) (   8 C   2p0 :    -0.47)                                                        \n",
      "                                                                                                                          \n",
      "               Molecular Orbital No.  19:                                                                                 \n",
      "               --------------------------                                                                                 \n",
      "               Occupation: 0.000 Energy:    0.16872 a.u.                                                                  \n",
      "               (   1 C   3s  :    -1.01) (   1 C   2p+1:    -0.42) (   2 C   3s  :    -1.01)                              \n",
      "               (   2 C   2p+1:     0.42) (   3 H   2s  :     0.71) (   4 H   2s  :     0.71)                              \n",
      "               (   5 H   2s  :     0.71) (   6 H   2s  :     0.71) (   7 C   3s  :    -1.01)                              \n",
      "               (   7 C   2p+1:    -0.42) (   8 C   3s  :    -1.01) (   8 C   2p+1:     0.42)                              \n",
      "               (   9 H   2s  :     0.71) (  10 H   2s  :     0.71) (  11 H   2s  :     0.71)                              \n",
      "               (  12 H   2s  :     0.71)                                                                                  \n",
      "                                                                                                                          \n",
      "               Molecular Orbital No.  20:                                                                                 \n",
      "               --------------------------                                                                                 \n",
      "               Occupation: 0.000 Energy:    0.17019 a.u.                                                                  \n",
      "               (   1 C   3s  :    -1.01) (   1 C   2p+1:    -0.42) (   2 C   3s  :    -1.01)                              \n",
      "               (   2 C   2p+1:     0.42) (   3 H   2s  :     0.71) (   4 H   2s  :     0.71)                              \n",
      "               (   5 H   2s  :     0.71) (   6 H   2s  :     0.71) (   7 C   3s  :     1.01)                              \n",
      "               (   7 C   2p+1:     0.42) (   8 C   3s  :     1.01) (   8 C   2p+1:    -0.42)                              \n",
      "               (   9 H   2s  :    -0.71) (  10 H   2s  :    -0.71) (  11 H   2s  :    -0.71)                              \n",
      "               (  12 H   2s  :    -0.71)                                                                                  \n",
      "                                                                                                                          \n",
      "               Molecular Orbital No.  21:                                                                                 \n",
      "               --------------------------                                                                                 \n",
      "               Occupation: 0.000 Energy:    0.19862 a.u.                                                                  \n",
      "               (   1 C   1p-1:    -0.20) (   1 C   2p-1:    -0.57) (   2 C   1p-1:    -0.20)                              \n",
      "               (   2 C   2p-1:    -0.57) (   3 H   2s  :     0.78) (   4 H   2s  :    -0.78)                              \n",
      "               (   5 H   2s  :    -0.78) (   6 H   2s  :     0.78) (   7 C   1p-1:    -0.20)                              \n",
      "               (   7 C   2p-1:    -0.57) (   8 C   1p-1:    -0.20) (   8 C   2p-1:    -0.57)                              \n",
      "               (   9 H   2s  :     0.78) (  10 H   2s  :    -0.78) (  11 H   2s  :    -0.78)                              \n",
      "               (  12 H   2s  :     0.78)                                                                                  \n",
      "                                                                                                                          \n"
     ]
    }
   ],
   "source": [
    "scf_drv = vlx.ScfRestrictedDriver()\n",
    "\n",
    "scf_drv.xcfun = \"bhandhlyp\"\n",
    "scf_results = scf_drv.compute(molecule, basis)"
   ]
  },
  {
   "cell_type": "code",
   "execution_count": 5,
   "id": "d8c0cf35-b677-49ee-a9e5-56d651392a21",
   "metadata": {
    "editable": true,
    "slideshow": {
     "slide_type": ""
    },
    "tags": []
   },
   "outputs": [
    {
     "data": {
      "application/vnd.jupyter.widget-view+json": {
       "model_id": "149bd0874184412cb8ec7a5eb1511589",
       "version_major": 2,
       "version_minor": 0
      },
      "text/plain": [
       "Output()"
      ]
     },
     "metadata": {},
     "output_type": "display_data"
    },
    {
     "data": {
      "application/vnd.jupyter.widget-view+json": {
       "model_id": "d01b46bd5e934977b921d01682950239",
       "version_major": 2,
       "version_minor": 0
      },
      "text/plain": [
       "Dropdown(description='Orbital:', index=15, options=(('  1 occ=2.000 ene=-10.586', 0), ('  2 occ=2.000 ene=-10.…"
      ]
     },
     "metadata": {},
     "output_type": "display_data"
    }
   ],
   "source": [
    "viewer = vlx.OrbitalViewer()\n",
    "viewer.plot(molecule, basis, scf_drv.mol_orbs)"
   ]
  },
  {
   "cell_type": "code",
   "execution_count": 6,
   "id": "2eaccc85-57cb-464e-8486-2160f5446cf4",
   "metadata": {
    "editable": true,
    "scrolled": true,
    "slideshow": {
     "slide_type": ""
    },
    "tags": [
     "remove-output"
    ]
   },
   "outputs": [
    {
     "name": "stdout",
     "output_type": "stream",
     "text": [
      "                                                                                                                          \n",
      "                                            Linear Response EigenSolver Setup                                             \n",
      "                                           ===================================                                            \n",
      "                                                                                                                          \n",
      "                               Number of States                : 4                                                        \n",
      "                               Max. Number of Iterations       : 150                                                      \n",
      "                               Convergence Threshold           : 1.0e-04                                                  \n",
      "                               ERI Screening Scheme            : Cauchy Schwarz + Density                                 \n",
      "                               ERI Screening Threshold         : 1.0e-12                                                  \n",
      "                               Exchange-Correlation Functional : BHANDHLYP                                                \n",
      "                               Molecular Grid Level            : 4                                                        \n",
      "                                                                                                                          \n",
      "* Info * Molecular grid with 156144 points generated in 0.16 sec.                                                         \n",
      "                                                                                                                          \n",
      "* Info * Processing Fock builds... (batch size: 8)                                                                        \n",
      "* Info *   batch 1/1                                                                                                      \n",
      "                                                                                                                          \n",
      "* Info * 4 gerade trial vectors in reduced space                                                                          \n",
      "* Info * 4 ungerade trial vectors in reduced space                                                                        \n",
      "                                                                                                                          \n",
      "* Info * 111.25 kB of memory used for subspace procedure on the master node                                               \n",
      "* Info * 2.08 GB of memory available for the solver on the master node                                                    \n",
      "                                                                                                                          \n",
      "               *** Iteration:   1 * Residuals (Max,Min): 5.42e-01 and 2.22e-02                                            \n",
      "                                                                                                                          \n",
      "               Excitation 1   :      0.32213163 Residual Norm: 0.08188994                                                 \n",
      "               Excitation 2   :      0.32264110 Residual Norm: 0.02224438                                                 \n",
      "               Excitation 3   :      0.34812046 Residual Norm: 0.53703012                                                 \n",
      "               Excitation 4   :      0.35481530 Residual Norm: 0.54206394                                                 \n",
      "                                                                                                                          \n",
      "* Info * Processing Fock builds... (batch size: 8)                                                                        \n",
      "* Info *   batch 1/1                                                                                                      \n",
      "                                                                                                                          \n",
      "* Info * 8 gerade trial vectors in reduced space                                                                          \n",
      "* Info * 8 ungerade trial vectors in reduced space                                                                        \n",
      "                                                                                                                          \n",
      "* Info * 184.98 kB of memory used for subspace procedure on the master node                                               \n",
      "* Info * 2.10 GB of memory available for the solver on the master node                                                    \n",
      "                                                                                                                          \n",
      "               *** Iteration:   2 * Residuals (Max,Min): 8.16e-02 and 4.15e-03                                            \n",
      "                                                                                                                          \n",
      "               Excitation 1   :      0.29734657 Residual Norm: 0.07579804                                                 \n",
      "               Excitation 2   :      0.30388658 Residual Norm: 0.08155717                                                 \n",
      "               Excitation 3   :      0.32260155 Residual Norm: 0.00415324                                                 \n",
      "               Excitation 4   :      0.32307510 Residual Norm: 0.01135237                                                 \n",
      "                                                                                                                          \n",
      "* Info * Processing Fock builds... (batch size: 8)                                                                        \n",
      "* Info *   batch 1/1                                                                                                      \n",
      "                                                                                                                          \n",
      "* Info * 12 gerade trial vectors in reduced space                                                                         \n",
      "* Info * 12 ungerade trial vectors in reduced space                                                                       \n",
      "                                                                                                                          \n",
      "* Info * 258.70 kB of memory used for subspace procedure on the master node                                               \n",
      "* Info * 2.13 GB of memory available for the solver on the master node                                                    \n",
      "                                                                                                                          \n",
      "               *** Iteration:   3 * Residuals (Max,Min): 1.42e-02 and 7.21e-04                                            \n",
      "                                                                                                                          \n",
      "               Excitation 1   :      0.29569404 Residual Norm: 0.01273976                                                 \n",
      "               Excitation 2   :      0.30194188 Residual Norm: 0.01423589                                                 \n",
      "               Excitation 3   :      0.32259676 Residual Norm: 0.00072058                                                 \n",
      "               Excitation 4   :      0.32303983 Residual Norm: 0.00174823                                                 \n",
      "                                                                                                                          \n",
      "* Info * Processing Fock builds... (batch size: 8)                                                                        \n",
      "* Info *   batch 1/1                                                                                                      \n",
      "                                                                                                                          \n",
      "* Info * 16 gerade trial vectors in reduced space                                                                         \n",
      "* Info * 16 ungerade trial vectors in reduced space                                                                       \n",
      "                                                                                                                          \n",
      "* Info * 332.43 kB of memory used for subspace procedure on the master node                                               \n",
      "* Info * 2.13 GB of memory available for the solver on the master node                                                    \n",
      "                                                                                                                          \n",
      "               *** Iteration:   4 * Residuals (Max,Min): 1.14e-03 and 1.34e-04                                            \n",
      "                                                                                                                          \n",
      "               Excitation 1   :      0.29565556 Residual Norm: 0.00095643                                                 \n",
      "               Excitation 2   :      0.30189421 Residual Norm: 0.00113956                                                 \n",
      "               Excitation 3   :      0.32259657 Residual Norm: 0.00013440                                                 \n",
      "               Excitation 4   :      0.32303903 Residual Norm: 0.00018227                                                 \n",
      "                                                                                                                          \n",
      "* Info * Processing Fock builds... (batch size: 8)                                                                        \n",
      "* Info *   batch 1/1                                                                                                      \n",
      "                                                                                                                          \n",
      "* Info * 20 gerade trial vectors in reduced space                                                                         \n",
      "* Info * 20 ungerade trial vectors in reduced space                                                                       \n",
      "                                                                                                                          \n",
      "* Info * 406.32 kB of memory used for subspace procedure on the master node                                               \n",
      "* Info * 2.13 GB of memory available for the solver on the master node                                                    \n",
      "                                                                                                                          \n",
      "               *** Iteration:   5 * Residuals (Max,Min): 5.37e-04 and 7.50e-05                                            \n",
      "                                                                                                                          \n",
      "               Excitation 1   :      0.29565514 Residual Norm: 0.00031245                                                 \n",
      "               Excitation 2   :      0.30189342 Residual Norm: 0.00053686                                                 \n",
      "               Excitation 3   :      0.32259656 Residual Norm: 0.00007497   converged                                     \n",
      "               Excitation 4   :      0.32303901 Residual Norm: 0.00009494   converged                                     \n",
      "                                                                                                                          \n",
      "* Info * Processing Fock builds... (batch size: 4)                                                                        \n",
      "* Info *   batch 1/1                                                                                                      \n",
      "                                                                                                                          \n",
      "* Info * 22 gerade trial vectors in reduced space                                                                         \n",
      "* Info * 22 ungerade trial vectors in reduced space                                                                       \n",
      "                                                                                                                          \n",
      "* Info * 443.18 kB of memory used for subspace procedure on the master node                                               \n",
      "* Info * 2.13 GB of memory available for the solver on the master node                                                    \n",
      "                                                                                                                          \n",
      "               *** Iteration:   6 * Residuals (Max,Min): 1.27e-04 and 4.23e-05                                            \n",
      "                                                                                                                          \n",
      "               Excitation 1   :      0.29565509 Residual Norm: 0.00005700   converged                                     \n",
      "               Excitation 2   :      0.30189323 Residual Norm: 0.00012735                                                 \n",
      "               Excitation 3   :      0.32259655 Residual Norm: 0.00004233   converged                                     \n",
      "               Excitation 4   :      0.32303900 Residual Norm: 0.00006943   converged                                     \n",
      "                                                                                                                          \n",
      "* Info * Processing Fock builds... (batch size: 2)                                                                        \n",
      "* Info *   batch 1/1                                                                                                      \n",
      "                                                                                                                          \n",
      "* Info * 23 gerade trial vectors in reduced space                                                                         \n",
      "* Info * 23 ungerade trial vectors in reduced space                                                                       \n",
      "                                                                                                                          \n",
      "* Info * 461.46 kB of memory used for subspace procedure on the master node                                               \n",
      "* Info * 2.13 GB of memory available for the solver on the master node                                                    \n",
      "                                                                                                                          \n",
      "               *** Iteration:   7 * Residuals (Max,Min): 6.94e-05 and 1.70e-05                                            \n",
      "                                                                                                                          \n",
      "               Excitation 1   :      0.29565509 Residual Norm: 0.00005700   converged                                     \n",
      "               Excitation 2   :      0.30189322 Residual Norm: 0.00002386   converged                                     \n",
      "               Excitation 3   :      0.32259655 Residual Norm: 0.00001703   converged                                     \n",
      "               Excitation 4   :      0.32303900 Residual Norm: 0.00006943   converged                                     \n",
      "                                                                                                                          \n",
      "               *** Linear response converged in 7 iterations. Time: 5.02 sec                                              \n",
      "                                                                                                                          \n",
      "                                                                                                                          \n",
      "               Electric Transition Dipole Moments (dipole length, a.u.)                                                   \n",
      "               --------------------------------------------------------                                                   \n",
      "                                                X            Y            Z                                               \n",
      "               Excited State    S1:     -0.000000    -0.000000     0.000000                                               \n",
      "               Excited State    S2:      1.950230     0.000000    -0.000000                                               \n",
      "               Excited State    S3:     -0.061321     0.000000     0.000000                                               \n",
      "               Excited State    S4:     -0.000000    -0.000000    -0.000000                                               \n",
      "                                                                                                                          \n",
      "               Electric Transition Dipole Moments (dipole velocity, a.u.)                                                 \n",
      "               ----------------------------------------------------------                                                 \n",
      "                                                X            Y            Z                                               \n",
      "               Excited State    S1:     -0.000000     0.000000     0.000000                                               \n",
      "               Excited State    S2:      1.701053     0.000000    -0.000000                                               \n",
      "               Excited State    S3:     -0.048232     0.000000    -0.000000                                               \n",
      "               Excited State    S4:     -0.000000    -0.000000    -0.000000                                               \n",
      "                                                                                                                          \n",
      "               Magnetic Transition Dipole Moments (a.u.)                                                                  \n",
      "               -----------------------------------------                                                                  \n",
      "                                                X            Y            Z                                               \n",
      "               Excited State    S1:     -0.000000    -1.267105     0.000000                                               \n",
      "               Excited State    S2:      0.000000     1.213054    -0.000000                                               \n",
      "               Excited State    S3:      0.000000    -0.036754     0.000000                                               \n",
      "               Excited State    S4:      0.000000    -0.143786    -0.000000                                               \n",
      "                                                                                                                          \n",
      "               One-Photon Absorption                                                                                      \n",
      "               ---------------------                                                                                      \n",
      "               Excited State    S1:      0.29565509 a.u.      8.04518 eV    Osc.Str.    0.0000                            \n",
      "               Excited State    S2:      0.30189322 a.u.      8.21493 eV    Osc.Str.    0.7655                            \n",
      "               Excited State    S3:      0.32259655 a.u.      8.77830 eV    Osc.Str.    0.0008                            \n",
      "               Excited State    S4:      0.32303900 a.u.      8.79034 eV    Osc.Str.    0.0000                            \n",
      "                                                                                                                          \n",
      "               Electronic Circular Dichroism                                                                              \n",
      "               -----------------------------                                                                              \n",
      "               Excited State    S1:     Rot.Str.     -0.000000 a.u.    -0.0000 [10**(-40) cgs]                            \n",
      "               Excited State    S2:     Rot.Str.      0.000000 a.u.     0.0000 [10**(-40) cgs]                            \n",
      "               Excited State    S3:     Rot.Str.     -0.000000 a.u.    -0.0000 [10**(-40) cgs]                            \n",
      "               Excited State    S4:     Rot.Str.      0.000000 a.u.     0.0000 [10**(-40) cgs]                            \n",
      "                                                                                                                          \n",
      "               Character of excitations:                                                                                  \n",
      "                                                                                                                          \n",
      "               Excited state 1                                                                                            \n",
      "               ---------------                                                                                            \n",
      "               HOMO     -> LUMO        -0.7891                                                                            \n",
      "               HOMO-1   -> LUMO+1       0.6052                                                                            \n",
      "                                                                                                                          \n",
      "               Excited state 2                                                                                            \n",
      "               ---------------                                                                                            \n",
      "               HOMO-1   -> LUMO         0.7262                                                                            \n",
      "               HOMO     -> LUMO+1      -0.6796                                                                            \n",
      "                                                                                                                          \n",
      "               Excited state 3                                                                                            \n",
      "               ---------------                                                                                            \n",
      "               HOMO     -> LUMO+1       0.7297                                                                            \n",
      "               HOMO-1   -> LUMO         0.6836                                                                            \n",
      "                                                                                                                          \n",
      "               Excited state 4                                                                                            \n",
      "               ---------------                                                                                            \n",
      "               HOMO-1   -> LUMO+1       0.7922                                                                            \n",
      "               HOMO     -> LUMO         0.6099                                                                            \n",
      "                                                                                                                          \n"
     ]
    }
   ],
   "source": [
    "lreig_drv = vlx.LinearResponseEigenSolver()\n",
    "lreig_drv.nstates = 4\n",
    "\n",
    "lreig_results = lreig_drv.compute(molecule, basis, scf_results)"
   ]
  },
  {
   "cell_type": "code",
   "execution_count": 7,
   "id": "09624e0a-6794-46a4-b410-87962416d473",
   "metadata": {
    "editable": true,
    "slideshow": {
     "slide_type": ""
    },
    "tags": []
   },
   "outputs": [
    {
     "name": "stdout",
     "output_type": "stream",
     "text": [
      "    E       mu_x    mu_y    mu_z    m_x     m_y     m_z     f       R       \n",
      "------------------------------------------------------------------------\n",
      "  0.2957 -0.0000 -0.0000  0.0000 -0.0000 -1.2671  0.0000  0.0000 -0.0000\n",
      "  0.3019  1.9502  0.0000 -0.0000  0.0000  1.2131 -0.0000  0.7655  0.0000\n",
      "  0.3226 -0.0613  0.0000  0.0000  0.0000 -0.0368  0.0000  0.0008 -0.0000\n",
      "  0.3230 -0.0000 -0.0000 -0.0000  0.0000 -0.1438 -0.0000  0.0000  0.0000\n"
     ]
    }
   ],
   "source": [
    "print(f\"    {'E':8s}{'mu_x':8s}{'mu_y':8s}{'mu_z':8s}{'m_x':8s}{'m_y':8s}{'m_z':8s}{'f':8s}{'R':8s}\")\n",
    "print(72 * \"-\")\n",
    "\n",
    "for E, e, m, f, R in zip(\n",
    "    lreig_results[\"eigenvalues\"],\n",
    "    lreig_results[\"electric_transition_dipoles\"],\n",
    "    lreig_results[\"magnetic_transition_dipoles\"],\n",
    "    lreig_results[\"oscillator_strengths\"],\n",
    "    lreig_results[\"rotatory_strengths\"],\n",
    "):\n",
    "    print(\n",
    "        f\"{E:8.4f}{e[0]:8.4f}{e[1]:8.4f}{e[2]:8.4f}{m[0]:8.4f}{m[1]:8.4f}{m[2]:8.4f}{f:8.4f}{R:8.4f}\"\n",
    "    )"
   ]
  },
  {
   "cell_type": "code",
   "execution_count": 8,
   "id": "2f16df58-7b33-46b9-9fd9-daedd2e57610",
   "metadata": {
    "editable": true,
    "slideshow": {
     "slide_type": ""
    },
    "tags": []
   },
   "outputs": [
    {
     "name": "stdout",
     "output_type": "stream",
     "text": [
      "[['HOMO     -> LUMO        -0.7891', 'HOMO-1   -> LUMO+1       0.6052'], ['HOMO-1   -> LUMO         0.7262', 'HOMO     -> LUMO+1      -0.6796'], ['HOMO     -> LUMO+1       0.7297', 'HOMO-1   -> LUMO         0.6836'], ['HOMO-1   -> LUMO+1       0.7922', 'HOMO     -> LUMO         0.6099']]\n"
     ]
    }
   ],
   "source": [
    "print(lreig_results[\"excitation_details\"])"
   ]
  },
  {
   "cell_type": "code",
   "execution_count": null,
   "id": "31951442-5387-4f8c-a611-851a8a69acd6",
   "metadata": {
    "editable": true,
    "slideshow": {
     "slide_type": ""
    },
    "tags": []
   },
   "outputs": [],
   "source": []
  }
 ],
 "metadata": {
  "kernelspec": {
   "display_name": "Python 3 (ipykernel)",
   "language": "python",
   "name": "python3"
  },
  "language_info": {
   "codemirror_mode": {
    "name": "ipython",
    "version": 3
   },
   "file_extension": ".py",
   "mimetype": "text/x-python",
   "name": "python",
   "nbconvert_exporter": "python",
   "pygments_lexer": "ipython3",
   "version": "3.11.6"
  }
 },
 "nbformat": 4,
 "nbformat_minor": 5
}
