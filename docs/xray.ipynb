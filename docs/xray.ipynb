{
 "cells": [
  {
   "cell_type": "markdown",
   "metadata": {},
   "source": [
    "# X-ray spectroscopies\n",
    "\n",
    "Tuning the photon energy to the X-ray regime, processes involving the transition of core electrons can be probed, providing measurements which are very sensitive to elements and local environment [norman18, bergmann17, bookhaven]. Here we will discuss the modeling of four such spectroscopies, as illustrated in {numref}`xray-processes`:\n",
    "\n",
    "\n",
    "```{figure} ../img/xray/processes.svg\n",
    "---\n",
    "name: xray-processes\n",
    "---\n",
    "Electronic processes involved in the X-ray sectroscopies discussed in this tutorial.\n",
    "```\n",
    "\n",
    "- In [X-ray photoemission spectroscopy (XPS)](#x-ray-photoemission-spectroscopy) the photoionization of the molecular system is probed, yielding insight into *occupied states*.\n",
    "\n",
    "- In [X-ray absorption spectroscopy (XAS)](#x-ray-absorption-spectroscopy) the transition of core electrons to occupied or continuum states is probed, providing information on *unoccupied states* or the *local chemical environment*.\n",
    "\n",
    "- In [X-ray emission spectroscopy (XES)](#x-ray-emission-spectroscopy) the fluorescent decay of higher-lying electrons into a previously prepared core-hole is measured, yielding information on *occupied states*.\n",
    "\n",
    "- In [resonant inelastic X-ray scattering (RIXS)](#resonant-inelastic-x-ray-scattering) (also termed resonant X-ray emission spectroscopy, or resonant X-ray Raman spectroscopy), the core-excitation and subsequent fluorescent decay is measured, yielding information on both *occupied and unoccupied states*, including the ability of probing *(local) vibrational modes*.\n",
    "\n",
    "The element-specificity of these techniques arise from the significant differences in the energy of core orbital energies (and thus in excitation/fluorescence energies), as illustrated in {numref}`edges_elements`:\n",
    "\n",
    "```{figure} ../img/xray/edges_elements.svg\n",
    "---\n",
    "name: edges_elements\n",
    "---\n",
    "Linear attenuation coefficient for the noble gases and carbon to neon. Data extracted from [NIST](https://www.nist.gov/pml/x-ray-form-factor-attenuation-and-scattering-tables).\n",
    "```\n",
    "\n",
    "Here the linear attenuation coefficient for four noble gases (left), and carbon to neon (right) are shown, with the former including labels for the origin of each set of edge/set of features (using the Siegbahn notation with $n=1,2,3,...$ labeled $K, L, M, ...$). We see that there are significant energy differences between the various absorption features, which then enables us to focus on particular elements and edges by tuning photon energies.\n",
    "\n",
    "Modeling these processes are complicated by a number of factors, such as:\n",
    "\n",
    "- Strong [relaxation effects](#relaxation), arising from the significant change in shielding of the nuclear charge arising from the creation/annihilation of a core-hole.\n",
    "\n",
    "- Potentially significant impact from [relativity](#relativity), with the strong potential experienced by the core electrons yielding large shifts due to (scalar) relativistic effects. In addition, spin-orbit coupling split degeneracies in, e.g., $2p$ (the $L_{2,3}$-edge), necessitating at least an approximate inclusion of such effects for these edges.\n",
    "\n",
    "- Core-excitation and -ionization processes are [embedded in a continumm of valence-ionized states](#decoupling-from-valence-continuum), making the application of, e.g., a standard Davidson approach for resolving eigenstates unsuitable.\n",
    "\n",
    "- For higher photon energies the contribution of *multipole-allowed* states enables transitions which are electric-dipole forbidden.\n",
    "\n",
    "- Computational chemistry more often is concerned with valence properties, meaning that standard [basis sets](#basis-set-considerations) (among others) are tailored for core-transition processes.\n",
    "\n",
    "- For DFT method there are substantial influences due to the [self-interaction error](#self-interaction-error-in-dft), which are strong due to the compact nature of core orbitals.\n",
    "\n",
    "This tutorial will now discuss the calculation of these X-ray spectra, focusing on how this is achieved using TDDFT and ADC. Following illustrations of how the processes can be modeled, basic analysis schemes and some the issues raised above will be considered in some detail.\n",
    "\n",
    "```{note}\n",
    "*Could* split the notebook into several smaller notebooks (*e.g.* 'calculate', 'analysis', 'special topics', 'large systems', 'recommendations')\n",
    "```"
   ]
  },
  {
   "cell_type": "code",
   "execution_count": 4,
   "metadata": {
    "tags": [
     "remove-output",
     "hide-input"
    ]
   },
   "outputs": [],
   "source": [
    "# loading modules and defining broadening functions\n",
    "\n",
    "# standard Python modules and functions\n",
    "from scipy.interpolate import interp1d\n",
    "from matplotlib import gridspec\n",
    "import matplotlib.pyplot as plt\n",
    "import numpy as np\n",
    "import copy\n",
    "\n",
    "# QC software suites and functionalities\n",
    "from pyscf import gto, scf, mp, cc\n",
    "import veloxchem as vlx\n",
    "import gator\n",
    "import adcc\n",
    "from veloxchem.rsplinabscross import LinearAbsorptionCrossSection\n",
    "\n",
    "# for vlx\n",
    "silent_ostream = vlx.OutputStream(None)\n",
    "from mpi4py import MPI\n",
    "comm = MPI.COMM_WORLD\n",
    "\n",
    "# au to eV conversion factor\n",
    "au2ev = 27.211386\n",
    "\n",
    "# broadening functions, called with\n",
    "#         (energies, intensities, start energy, end energy, energy step, broadening)\n",
    "def lorentzian(x, y, xmin, xmax, xstep, gamma):\n",
    "    xi = np.arange(xmin,xmax,xstep); yi=np.zeros(len(xi))\n",
    "    for i in range(len(xi)):\n",
    "        for k in range(len(x)): yi[i] = yi[i] + y[k] * (gamma/2.) / ( (xi[i]-x[k])**2 + (gamma/2.)**2 )\n",
    "    return xi,yi\n",
    "\n",
    "def gaussian(x, y, xmin, xmax, xstep, sigma):\n",
    "    xi = np.arange(xmin,xmax,xstep); yi=np.zeros(len(xi))\n",
    "    for i in range(len(xi)):\n",
    "        for k in range(len(y)):\n",
    "            yi[i] = yi[i] + y[k]*np.e**(-((xi[i]-x[k])**2)/(2*sigma**2))\n",
    "    return xi,yi"
   ]
  },
  {
   "cell_type": "markdown",
   "metadata": {},
   "source": [
    "## X-ray photoemission spectroscopy\n",
    "\n",
    "In XPS the photoemission of electrons is measured, yielding information on core-electron binding energies. Here we focus on the calculation of ionization potentials (IP:s), from which the isotropic photoemission spectrum is formed by giving each IP the same intensity and then broadening with a function. Can go beyond that using Dyson orbitals, but it typically doesn't make much of a difference [refs: Dyson, difference]. For more details on the modeling of these processes with ADC and TDDFT, good starting points include [XPS with ADC/TDDFT].\n",
    "\n",
    "### IP:s from Koopmans' theorem\n",
    "\n",
    "A simple model for estimating ionization potentials and electron affinities is from Koopmans' theorem, where it is calculated from the MO energies. For water, we obtain a 1s IP estimate of:"
   ]
  },
  {
   "cell_type": "code",
   "execution_count": 5,
   "metadata": {},
   "outputs": [
    {
     "name": "stdout",
     "output_type": "stream",
     "text": [
      "1s IP from the Koopmans theorem: -559.5\n"
     ]
    }
   ],
   "source": [
    "water = \"\"\"\n",
    "O       0.0000000000     0.0000000000     0.1178336003\n",
    "H      -0.7595754146    -0.0000000000    -0.4713344012\n",
    "H       0.7595754146     0.0000000000    -0.4713344012\n",
    "\"\"\"\n",
    "\n",
    "# SCF calculation\n",
    "molecule = vlx.Molecule.read_str(water, units='angstrom')\n",
    "basis    = vlx.MolecularBasis.read(molecule, \"6-31G\")\n",
    "scf_drv  = vlx.ScfRestrictedDriver(comm,ostream=silent_ostream)\n",
    "scf_drv.compute(molecule, basis)\n",
    "\n",
    "# Extract orbital energies\n",
    "orbital_energies = scf_drv.scf_tensors['E']\n",
    "print('1s IP from the Koopmans theorem:',np.around(au2ev*orbital_energies[0],2))"
   ]
  },
  {
   "cell_type": "markdown",
   "metadata": {},
   "source": [
    "This can be compared to the experimental value, which is 539.9 eV. The overestimation of almost 20 eV is due to lack of [relaxation](relaxation), which results from the reorganization of the valence electrons in response to a reduction in screening of the nuclei. By comparison, in valence spectroscopies the change in shielding is significantly smaller, yielding a far smaller error due to the lack of relaxation for, e.g., calculation of HOMO IP:s or LUMO EA:s.\n",
    "\n",
    "An approach for including relaxation effects IP calculations is to instead use the $\\Delta\\textrm{SCF}$ approach, in which the difference in total energy between the neutral and a core-hole system yields estimates of core-electron binding energies.\n",
    "\n",
    "### The maximum overlap method (MOM)\n",
    "\n",
    "```{note}\n",
    "Improve this section.\n",
    "```\n",
    "\n",
    "In order to do this, a core-hole state need to be converged, as can be done using a number of methods including...[refs] We will here focus on the use of the maximum overlap method (MOM) [refs], using which a wave function optimization is restricted to contain the maximum overlap to the previous electronic structure. This is done by considering the  eigenvalue equation\n",
    "\n",
    "\\begin{equation}\n",
    "\\textbf{FC}^{\\textrm{new}} = \n",
    "\\textbf{SC}^{\\textrm{new}} \\epsilon\n",
    "\\end{equation}\n",
    "\n",
    "We then chose to overlap the most with the span\n",
    "\n",
    "\\begin{equation}\n",
    "\\textbf{O} = \n",
    "\\left( \\textbf{C} \\right)^{\\dagger} \\textbf{SC}^{\\textrm{new}}\n",
    "\\end{equation}\n",
    "\n",
    "A core-hole wave function can then be converged by:\n",
    "\n",
    "1. Calculating the wave function of the system lacking a core-hole.\n",
    "\n",
    "2. Use above wave function as a starting guess for a new wave function optimization, removing an electron from desired core orbital.\n",
    "\n",
    "3. Optimizing this state using the MOM restriction.\n",
    "\n",
    "This can then converge many unstable states, including core-ionized states and some core-excited states. Some care should observed, though:\n",
    "\n",
    "- If excited states are considered, check that the final state is reasonable.\n",
    "\n",
    "- Systems with delocalized core orbitals need to be localized, for example by employing ECP:s [refs].\n",
    "\n",
    "- If post-HF methods are used, the ground state calculation can attempt to (partially) fill the core-hole, leading to a corrupt wave function which represents some intermediate between a core-hole/valence-hole state [refs].\n",
    "\n",
    "```{note}\n",
    "We currently use `pyscf` for the calculations involving explicit core-holes, as VeloxChem lacks MOM (for now).\n",
    "```\n",
    "\n",
    "### IP:s from $\\Delta\\textrm{SCF}$\n",
    "\n",
    "The IP of water using $\\Delta\\textrm{SCF}$ is calculated ass:"
   ]
  },
  {
   "cell_type": "code",
   "execution_count": 6,
   "metadata": {},
   "outputs": [
    {
     "name": "stdout",
     "output_type": "stream",
     "text": [
      "converged SCF energy = -75.9838703827192  <S^2> = 6.3389294e-12  2S+1 = 1\n"
     ]
    },
    {
     "name": "stderr",
     "output_type": "stream",
     "text": [
      "Overwritten attributes  get_occ  of <class 'pyscf.scf.uhf.UHF'>\n"
     ]
    },
    {
     "name": "stdout",
     "output_type": "stream",
     "text": [
      "converged SCF energy = -56.0754789470864  <S^2> = 0.76257805  2S+1 = 2.0125387\n",
      "Ionization potential: 541.73 eV\n"
     ]
    }
   ],
   "source": [
    "# Build mol-object and perform ground state SCF with pyscf\n",
    "mol       = gto.Mole()\n",
    "mol.atom  = water\n",
    "mol.basis = '6-31G'\n",
    "mol.build()\n",
    "\n",
    "scf_res = scf.UHF(mol)\n",
    "scf_res.kernel()\n",
    "\n",
    "# Copy wave function information and change occupancy of alpha1 to 0 (i.e. prepare the core-hole)\n",
    "mo0  = copy.deepcopy(scf_res.mo_coeff)\n",
    "occ0 = copy.deepcopy(scf_res.mo_occ)\n",
    "occ0[0][0] = 0.0\n",
    "\n",
    "# Perform wave function calculation with the MOM restriction\n",
    "scf_ion = scf.UHF(mol)\n",
    "scf.addons.mom_occ(scf_ion, mo0, occ0)\n",
    "scf_ion.kernel()\n",
    "\n",
    "# Resulting IP from energy difference\n",
    "print('Ionization potential:',np.around(au2ev*(scf_ion.energy_tot() - scf_res.energy_tot()),2),'eV')"
   ]
  },
  {
   "cell_type": "markdown",
   "metadata": {},
   "source": [
    "This estimate is within 2 eV from experiment, and we can include electron correlation using MP2:"
   ]
  },
  {
   "cell_type": "code",
   "execution_count": 5,
   "metadata": {},
   "outputs": [
    {
     "name": "stdout",
     "output_type": "stream",
     "text": [
      "E(UMP2) = -76.1130483955489  E_corr = -0.129178012829713\n",
      "E(UMP2) = -56.1523709631034  E_corr = -0.0768920160169649\n",
      "Ionization potential: 543.16 eV\n"
     ]
    }
   ],
   "source": [
    "# Run MP2 on neutral and core-hole wave functions\n",
    "mp_res = mp.MP2(scf_res).run()\n",
    "mp_ion = mp.MP2(scf_ion).run()\n",
    "\n",
    "# IP from energy difference\n",
    "print('Ionization potential:',np.around(au2ev*(mp_ion.e_tot - mp_res.e_tot),2),'eV')"
   ]
  },
  {
   "cell_type": "markdown",
   "metadata": {},
   "source": [
    "And we can also use KS-DFT:"
   ]
  },
  {
   "cell_type": "code",
   "execution_count": 255,
   "metadata": {},
   "outputs": [
    {
     "name": "stdout",
     "output_type": "stream",
     "text": [
      "converged SCF energy = -76.3649949864645  <S^2> = 3.0730973e-13  2S+1 = 1\n",
      "converged SCF energy = -56.5317122508954  <S^2> = 0.75629843  2S+1 = 2.0062885\n",
      "Ionization potential: 539.69 eV\n"
     ]
    }
   ],
   "source": [
    "# SCF calculation with unrestricted KS-DFT\n",
    "dft_res    = scf.UKS(mol)\n",
    "dft_res.xc = 'b3lyp'\n",
    "dft_res.kernel()\n",
    "\n",
    "# Prepare core-hole\n",
    "mo0  = copy.deepcopy(dft_res.mo_coeff)\n",
    "occ0 = copy.deepcopy(dft_res.mo_occ)\n",
    "occ0[0][0] = 0.0\n",
    "\n",
    "# SCF with core-hole\n",
    "dft_ion = scf.UKS(mol); dft_ion.xc = 'b3lyp'\n",
    "scf.addons.mom_occ(dft_ion, mo0, occ0)\n",
    "dft_ion.kernel()\n",
    "\n",
    "# IP from energy difference\n",
    "print('Ionization potential:',np.around(au2ev*(dft_ion.energy_tot() - dft_res.energy_tot()),2),'eV')"
   ]
  },
  {
   "cell_type": "markdown",
   "metadata": {},
   "source": [
    "MP2 and DFT currently brings us **away** from experiment, but we note that the basis set is small and ill suited for core properties. Using a cc-pCVTZ basis we obtain:\n",
    "- HF: 538.93 eV\n",
    "- MP2: 540.26 eV\n",
    "- B3LYP: 539.19 eV\n",
    "\n",
    "*i.e.* closer to experiment for the correlated methods (note that scalar-relativistic effects will shift these results upwards by $\\sim$0.37 eV).\n",
    "\n",
    "### Spectra from $\\Delta\\textrm{SCF}$\n",
    "\n",
    "The X-ray photoemission spectrum can be formed by calculating all relavant core-electron binding energies (IP:s), give each unique ionization equal intensity, and broaden over the result with a lorentzian or gaussian convolution formula. The choice of broadening depends on the dominant broadening effect (lifetime of excited/ionized state, experimental resolution, *etc*), but we will here focus on pure lorentzian broadening.\n",
    "\n",
    "We here consider ethyl trifluoroacetate( (CF$_3$-CO-O-CH$_2$-CH$_3$), also known as the ['ESCA' molecule](https://doi.org/10.1016/j.elspec.2012.05.009), which possess very illustrative shifts in XPS features (IP:s) of the carbon $K$-edge due to interactions with the very electronegative oxygen and fluorine atoms. We calculate the four carbon 1s IP:s with $\\Delta\\textrm{SCF}$:"
   ]
  },
  {
   "cell_type": "code",
   "execution_count": 7,
   "metadata": {
    "tags": [
     "hide-output"
    ]
   },
   "outputs": [
    {
     "name": "stdout",
     "output_type": "stream",
     "text": [
      "converged SCF energy = -594.320690263589  <S^2> = 1.6621939e-08  2S+1 = 1\n",
      "converged SCF energy = -583.365537674046  <S^2> = 0.76705671  2S+1 = 2.0169846\n",
      "SCF not converged.\n",
      "SCF energy = -583.447978368628 after 50 cycles  <S^2> = 0.76807021  2S+1 = 2.0179893\n",
      "converged SCF energy = -583.561134582533  <S^2> = 0.76454928  2S+1 = 2.0144967\n",
      "converged SCF energy = -583.615548638303  <S^2> = 0.75826809  2S+1 = 2.0082511\n"
     ]
    }
   ],
   "source": [
    "esca   = '''\n",
    "C         1.1183780041   -0.3449927563    0.0140172822\n",
    "C         0.2599020293    0.9430366372   -0.0248385056\n",
    "F         2.4019839124   -0.0408200726   -0.0368443870\n",
    "F         0.8399255955   -1.1560630574   -1.0169777359\n",
    "F         0.8945563482   -1.0267696528    1.1485539196\n",
    "O         0.7954196415    2.0187110930    0.0011424145\n",
    "O        -1.0675509573    0.8144007049   -0.0614767265\n",
    "C        -1.7486063992   -0.4602333713   -0.1739210991\n",
    "C        -3.1986940727   -0.1850294900    0.1302033614\n",
    "H        -1.3268717284   -1.1720377773    0.5289059043\n",
    "H        -1.6185520565   -0.8344576449   -1.1859838788\n",
    "H        -3.3116641442    0.1959612359    1.1419001202\n",
    "H        -3.7716619472   -1.1057672384    0.0380096706\n",
    "H        -3.6012985602    0.5468300237   -0.5651778685            \n",
    "'''\n",
    "\n",
    "# Create mol object and perform neutral SCF calculation\n",
    "mol_esca = gto.Mole()\n",
    "mol_esca.atom  = esca; mol_esca.basis = 'STO-3G'\n",
    "mol_esca.build()\n",
    "scf_esca = scf.UHF(mol_esca)\n",
    "scf_esca.kernel()\n",
    "\n",
    "# Perform core-hole calculation for each carbon atom (MOs 5-8) and append SCF IPs to a list\n",
    "esca_ips = []\n",
    "for i_mo in [5,6,7,8]:\n",
    "    mo0 = copy.deepcopy(scf_esca.mo_coeff)\n",
    "    occ0 = copy.deepcopy(scf_esca.mo_occ)\n",
    "    occ0[0][i_mo] = 0.0\n",
    "    ion_tmp = scf.UHF(mol_esca)\n",
    "    scf.addons.mom_occ(ion_tmp, mo0, occ0)\n",
    "    ion_tmp.kernel()\n",
    "    esca_ips.append(au2ev*(ion_tmp.energy_tot() - scf_esca.energy_tot()))"
   ]
  },
  {
   "cell_type": "markdown",
   "metadata": {},
   "source": [
    "```{note}\n",
    "There are some convergence issues for the above calculation, largely relating to the minimal basis set used. These issues disappear for more flexible basis set.\n",
    "```\n",
    "\n",
    "The spectrum is formed by giving each IP equal weight and broadening with a lorentzian and a gaussian, for which FWHM $= \\gamma $ and FWHM $ 2\\sqrt{2\\ln{2}} \\sigma$, respectively."
   ]
  },
  {
   "cell_type": "code",
   "execution_count": 7,
   "metadata": {},
   "outputs": [
    {
     "ename": "NameError",
     "evalue": "name 'esca_ips' is not defined",
     "output_type": "error",
     "traceback": [
      "\u001b[0;31m---------------------------------------------------------------------------\u001b[0m",
      "\u001b[0;31mNameError\u001b[0m                                 Traceback (most recent call last)",
      "\u001b[0;32m<ipython-input-7-8254ecccbde1>\u001b[0m in \u001b[0;36m<module>\u001b[0;34m\u001b[0m\n\u001b[1;32m      2\u001b[0m \u001b[0;31m# Broadening with a lorentzian, with FWHM = 0.4 eV\u001b[0m\u001b[0;34m\u001b[0m\u001b[0;34m\u001b[0m\u001b[0;34m\u001b[0m\u001b[0m\n\u001b[1;32m      3\u001b[0m \u001b[0mplt\u001b[0m\u001b[0;34m.\u001b[0m\u001b[0msubplot\u001b[0m\u001b[0;34m(\u001b[0m\u001b[0;36m211\u001b[0m\u001b[0;34m)\u001b[0m\u001b[0;34m;\u001b[0m \u001b[0mplt\u001b[0m\u001b[0;34m.\u001b[0m\u001b[0mtitle\u001b[0m\u001b[0;34m(\u001b[0m\u001b[0;34m'Lorentzian broadening'\u001b[0m\u001b[0;34m)\u001b[0m\u001b[0;34m\u001b[0m\u001b[0;34m\u001b[0m\u001b[0m\n\u001b[0;32m----> 4\u001b[0;31m \u001b[0mx\u001b[0m\u001b[0;34m,\u001b[0m\u001b[0my\u001b[0m \u001b[0;34m=\u001b[0m \u001b[0mesca_ips\u001b[0m\u001b[0;34m,\u001b[0m\u001b[0mnp\u001b[0m\u001b[0;34m.\u001b[0m\u001b[0mones\u001b[0m\u001b[0;34m(\u001b[0m\u001b[0;34m(\u001b[0m\u001b[0mlen\u001b[0m\u001b[0;34m(\u001b[0m\u001b[0mesca_ips\u001b[0m\u001b[0;34m)\u001b[0m\u001b[0;34m)\u001b[0m\u001b[0;34m)\u001b[0m\u001b[0;34m\u001b[0m\u001b[0;34m\u001b[0m\u001b[0m\n\u001b[0m\u001b[1;32m      5\u001b[0m \u001b[0mxi\u001b[0m\u001b[0;34m,\u001b[0m\u001b[0myi\u001b[0m \u001b[0;34m=\u001b[0m \u001b[0mlorentzian\u001b[0m\u001b[0;34m(\u001b[0m\u001b[0mx\u001b[0m\u001b[0;34m,\u001b[0m\u001b[0my\u001b[0m\u001b[0;34m,\u001b[0m\u001b[0mmin\u001b[0m\u001b[0;34m(\u001b[0m\u001b[0mx\u001b[0m\u001b[0;34m)\u001b[0m\u001b[0;34m-\u001b[0m\u001b[0;36m2\u001b[0m\u001b[0;34m,\u001b[0m\u001b[0mmax\u001b[0m\u001b[0;34m(\u001b[0m\u001b[0mx\u001b[0m\u001b[0;34m)\u001b[0m\u001b[0;34m+\u001b[0m\u001b[0;36m2\u001b[0m\u001b[0;34m,\u001b[0m\u001b[0;36m0.01\u001b[0m\u001b[0;34m,\u001b[0m\u001b[0;36m0.4\u001b[0m\u001b[0;34m)\u001b[0m\u001b[0;34m;\u001b[0m \u001b[0mplt\u001b[0m\u001b[0;34m.\u001b[0m\u001b[0mplot\u001b[0m\u001b[0;34m(\u001b[0m\u001b[0mxi\u001b[0m\u001b[0;34m,\u001b[0m\u001b[0myi\u001b[0m\u001b[0;34m*\u001b[0m\u001b[0;36m0.4\u001b[0m\u001b[0;34m)\u001b[0m\u001b[0;34m\u001b[0m\u001b[0;34m\u001b[0m\u001b[0m\n\u001b[1;32m      6\u001b[0m \u001b[0;31m# Broadening with a gaussian, with FWHM = 0.4 eV\u001b[0m\u001b[0;34m\u001b[0m\u001b[0;34m\u001b[0m\u001b[0;34m\u001b[0m\u001b[0m\n",
      "\u001b[0;31mNameError\u001b[0m: name 'esca_ips' is not defined"
     ]
    },
    {
     "data": {
      "image/png": "[encoded data removed]",
      "text/plain": [
       "<Figure size 432x360 with 1 Axes>"
      ]
     },
     "metadata": {
      "needs_background": "light"
     },
     "output_type": "display_data"
    }
   ],
   "source": [
    "plt.figure(figsize=(6,5))\n",
    "# Broadening with a lorentzian, with FWHM = 0.4 eV\n",
    "plt.subplot(211); plt.title('Lorentzian broadening')\n",
    "x,y = esca_ips,np.ones((len(esca_ips)))\n",
    "xi,yi = lorentzian(x,y,min(x)-2,max(x)+2,0.01,0.4); plt.plot(xi,yi*0.4)\n",
    "# Broadening with a gaussian, with FWHM = 0.4 eV\n",
    "plt.subplot(212); plt.title('Gaussian broadening')\n",
    "xi,yi = gaussian(x,y,min(x)-2,max(x)+2,0.01,0.4/(2*np.sqrt(2*np.log(2)))); plt.plot(xi,yi)\n",
    "plt.tight_layout(); plt.show()"
   ]
  },
  {
   "cell_type": "markdown",
   "metadata": {},
   "source": [
    "For the comparison to [experiment](https://doi.org/10.1016/j.elspec.2012.05.009) a cc-pVTZ basis set is selected, augmented with additional core-polarizing functions for the carbon atoms (i.e. cc-pCVTZ):\n",
    "\n",
    "\n",
    "```{figure} ../img/xray/esca_xps.svg\n",
    "---\n",
    "name: esca_xps\n",
    "---\n",
    "Carbon 1s XPS of ESCA, comparing $\\Delta\\textrm{SCF}$ results to experiment. Theoretical spectrum shifted by 0.11 eV (to account for relativistic effects) and broadened by 0.3 eV.\n",
    "```\n",
    "\n",
    "The features originate in, from low to high energy: -CH$_3$, -CH$_2$-, -CO-, and CF$_3$. We note a good agreement for the first two features, but the comparison deteriorates for higher energies. This is largely an effect of the more significant change in electronic structure imposed by the very electronegative fluorine and oxygen atoms, which the current level of theory is not capable of describing as well as the other features.\n",
    "\n",
    "### Other approaches\n",
    "\n",
    "Brief discussion - IP-ADC, IP-CCSD, ...\n",
    "\n",
    "\n",
    "## X-ray absorption spectroscopy\n",
    "\n",
    "In XAS the energy-dependent photoabsorption of the sample is measured, probing excitation of core electrons to bound or continuum states. These two different final states then provide information on unoccupied states and local chemical environment, espectively, with a prototypical spectrum of a conjugated system: \n",
    "\n",
    "\n",
    "```{figure} ../img/xray/xafs.svg\n",
    "---\n",
    "name: xafs\n",
    "---\n",
    "Prototypical X-ray absorption spectrum of a conjugated system.\n",
    "```\n",
    "\n",
    "Above the spectrum we see the distinction of the various spectrum regions, consisting of:\n",
    "\n",
    "- **NEXAFS (near-edge X-ray absorption fine structure:** the region in which transitions to bound states is probed (this region is also known as XANES, X-ray absorption near-edge structure).\n",
    "\n",
    "- **EXAFS (extended X-ray absorption fine structure):** which consists of transitions to continuum states, which is modulated by constructive or destructive interference between the emitted electron and the environment. This thus provide information on local chemical bonds.\n",
    "\n",
    "- **XAFS (X-ray absorption fine structure):** spanning both regions.\n",
    "\n",
    "For the remainder of this tutorial we will focus on NEXAFS, with more details for modeling this process found in [wenzel, besley, fransson]. Discussions on modeling EXAFS can be found, e.g., in [exafs].\n",
    "\n",
    "Included in {numref}`xafs` is also the position of the IP, above which the oscillatory pattern due to interference with the environment is initiated, and assignment of typical features ($\\pi^*$, Rydberg, and $\\sigma^*$). Transitions to $\\pi^*$ states are typically low in energy and very intense, and thus easy to identify. Rydberg states are typically weak and converge to the ionization potential. Finally, transitions to $\\sigma^*$ states can be found above the ionization potential.\n",
    "\n",
    "### Decoupling transitions from the valence continuum\n",
    "\n",
    "A complication that arise when considering core excitations is the embedding of the core-excited states into the continuum of valence-ionized states. A number of approaches have been developed to remove this issue, including:\n",
    "\n",
    "- The core-valence separation (CVS) approximation [schirmer, wenzel, coriani]\n",
    "\n",
    "- Restricted energy window, which share some common ideas with CVS [rew-tddft]\n",
    "\n",
    "- Using the complex polarization propagator (CPP), where the response at arbitrary frequencies is directly probed [norman]\n",
    "\n",
    "- Real-time propagation of the electronic structure [rt-methods]\n",
    "\n",
    "- Methods which construct explicit excited states [refs]\n",
    "\n",
    "The focus in this tutorial is the use of the CVS approximation and the CPP approach, with which interior eigenstates/response at arbitrary frequencies can be directly address:\n",
    "\n",
    "\n",
    "```{figure} ../img/xray/cvs_adc.svg\n",
    "---\n",
    "name: cvs_adc\n",
    "---\n",
    "Global spectrum of water, using the 6-311G basis set. Results obtained with ADC(1), CVS-ADC(1), ADC(2), CVS-ADC(2), and CPP-DFT. CPP-DFT results obtained using the B3LYP exchange-correlation functional and a large $\\gamma$ of 1 eV.\n",
    "```\n",
    "\n",
    "Here we see the global spectrum of water, using a rather limited basis set. Even so, ADC(1) requires more than 50 states to resolved the core-excitation region (situated at about 535 eV for water), and for ADC(2) 50 states brings us only to about 50 eV. With the CVS approximation we directly target the core-excitation region, but it should be noted that this also introduces a small error. However, this error has been shown to be relatively small (provided a reasonable basis set) and stable for [ADC](https://doi.org/10.1063/5.0013538), and for TDHF and TDDFT it is all but negligible. Using CPP-DFT, the error is avoided all together.\n",
    "\n",
    "\n",
    "### Spectra from CVS-ADC eigenstates\n",
    "\n",
    "With CVS-ADC, the core-excitation spectra are calculate by specifying the index of the probed core orbitals(s):"
   ]
  },
  {
   "cell_type": "code",
   "execution_count": 8,
   "metadata": {
    "scrolled": true,
    "tags": [
     "hide-output"
    ]
   },
   "outputs": [
    {
     "name": "stdout",
     "output_type": "stream",
     "text": [
      "SCF converged in 5 iterations.\n",
      "Total Energy: -75.9838703758 au\n",
      "                                                                                                                          \n",
      "                                        Algebraic Diagrammatic Construction (ADC)                                         \n",
      "                                       ===========================================                                        \n",
      "                                                                                                                          \n",
      "                               ADC method                   : cvs-adc2x                                                   \n",
      "                               Number of Singlet States     : 6                                                           \n",
      "                               CVS-ADC, Core Orbital Space  : 1                                                           \n",
      "                               Convergence threshold        : 1.0e-06                                                     \n",
      "                                                                                                                          \n"
     ]
    },
    {
     "name": "stderr",
     "output_type": "stream",
     "text": [
      "/home/thomas/pkg/adcc/adcc/backends/__init__.py:48: UserWarning: Could not check host program psi4 minimal version, since __version__ tag not found. Proceeding anyway.\n",
      "  \"\".format(module)\n"
     ]
    },
    {
     "name": "stdout",
     "output_type": "stream",
     "text": [
      "Starting cvs-adc2x singlet Jacobi-Davidson ...\n",
      "Niter n_ss  max_residual  time  Ritz values\n",
      "  1     8        1.4139  139ms  [20.27035892 20.30081816 20.86977772 20.91121522 21.10647259 21.17210946]\n",
      "  2    16       0.05362  416ms  [19.72495578 19.80691954 20.50880994 20.51569977 20.52445847 20.72564031]\n",
      "  3    24      0.014469  335ms  [19.71673636 19.7970775  20.49577427 20.50503424 20.5080414  20.63850295]\n",
      "  4    32      0.001267  338ms  [19.71639053 19.79671148 20.49373711 20.5048401  20.50629308 20.62964455]\n",
      "  5    40    0.00011958  422ms  [19.71637564 19.7966997  20.49353395 20.50482654 20.50617672 20.62883047]\n",
      "=== Restart ===\n",
      "  6    16    2.2907e-05  336ms  [19.71637513 19.79669899 20.4935131  20.5048246  20.50616999 20.6287565 ]\n",
      "  7    24    8.2765e-06  281ms  [19.7163751  19.7966989  20.49350792 20.50482377 20.50616868 20.62873489]\n",
      "  8    32    3.7389e-06  409ms  [19.7163751  19.7966989  20.49350748 20.50482367 20.5061685  20.62872983]\n",
      "  9    40     5.189e-07  403ms  [19.7163751  19.7966989  20.49350726 20.50482366 20.50616845 20.62872813]\n",
      "=== Converged ===\n",
      "    Number of matrix applies:    72\n",
      "    Total solver time:             3s 125ms\n",
      "                                                                                                                          \n",
      "                                                  ADC Summary of Results                                                  \n",
      "                                                 ------------------------                                                 \n",
      "                                                                                                                          \n",
      "                             +--------------------------------------------------------------+                             \n",
      "                             | cvs-adc2x                               singlet ,  converged |                             \n",
      "                             +--------------------------------------------------------------+                             \n",
      "                             |  #        excitation energy     osc str    |v1|^2    |v2|^2  |                             \n",
      "                             |          (au)           (eV)                                 |                             \n",
      "                             |  0      19.71638      536.5099   0.0175    0.8001    0.1999  |                             \n",
      "                             |  1       19.7967      538.6956   0.0368    0.8087    0.1913  |                             \n",
      "                             |  2      20.49351      557.6567   0.0098    0.7858    0.2142  |                             \n",
      "                             |  3      20.50482      557.9647   0.1007    0.8441    0.1559  |                             \n",
      "                             |  4      20.50617      558.0013   0.0881     0.835     0.165  |                             \n",
      "                             |  5      20.62873      561.3363   0.0104    0.7926    0.2074  |                             \n",
      "                             +--------------------------------------------------------------+                             \n",
      "                                                                                                                          \n",
      "                                          End of ADC calculation. All went well!                                          \n",
      "                                                                                                                          \n"
     ]
    }
   ],
   "source": [
    "# Construct molecule reference object and perform SCF calculation \n",
    "struct  = gator.get_molecule(water)\n",
    "basis   = gator.get_molecular_basis(struct,'6-31G')\n",
    "scf_res = gator.run_scf(struct,basis)\n",
    "\n",
    "# Calculate the 6 lowest eigenstates with CVS restriction to MO #1 (oxygen 1s)\n",
    "adc_res = gator.run_adc(struct,basis,scf_res,method='cvs-adc2x',singlets=6,core_orbitals=1)"
   ]
  },
  {
   "cell_type": "markdown",
   "metadata": {},
   "source": [
    "The resuls can be printed as a table, or convoluted and plotted using built-in functionalities or a custom broadening:"
   ]
  },
  {
   "cell_type": "code",
   "execution_count": 9,
   "metadata": {},
   "outputs": [
    {
     "name": "stdout",
     "output_type": "stream",
     "text": [
      "+--------------------------------------------------------------+\n",
      "| cvs-adc2x                               singlet ,  converged |\n",
      "+--------------------------------------------------------------+\n",
      "|  #        excitation energy     osc str    |v1|^2    |v2|^2  |\n",
      "|          (au)           (eV)                                 |\n",
      "|  0      19.71638      536.5099   0.0175    0.8001    0.1999  |\n",
      "|  1       19.7967      538.6956   0.0368    0.8087    0.1913  |\n",
      "|  2      20.49351      557.6567   0.0098    0.7858    0.2142  |\n",
      "|  3      20.50482      557.9647   0.1007    0.8441    0.1559  |\n",
      "|  4      20.50617      558.0013   0.0881     0.835     0.165  |\n",
      "|  5      20.62873      561.3363   0.0104    0.7926    0.2074  |\n",
      "+--------------------------------------------------------------+\n",
      "\n"
     ]
    },
    {
     "data": {
      "image/png": "[encoded data removed]",
      "text/plain": [
       "<Figure size 432x360 with 2 Axes>"
      ]
     },
     "metadata": {
      "needs_background": "light"
     },
     "output_type": "display_data"
    }
   ],
   "source": [
    "# Print information on eigenstates\n",
    "print(adc_res.describe())\n",
    "\n",
    "plt.figure(figsize=(6,5))\n",
    "# Convolute using functionalities available in gator and adcc\n",
    "plt.subplot(211); plt.title('Built-in broadening')\n",
    "adc_res.plot_spectrum()\n",
    "# Convoluted using information on excitation energies and oscillator strengths\n",
    "plt.subplot(212); plt.title('Custom broadening')\n",
    "x,y = au2ev*adc_res.excitation_energy, adc_res.oscillator_strength\n",
    "xi,yi = lorentzian(x,y,533,543,0.01,0.5); plt.plot(xi,yi)\n",
    "plt.tight_layout(); plt.show()"
   ]
  },
  {
   "cell_type": "markdown",
   "metadata": {},
   "source": [
    "The built-in functionality uses a small default broadening (which can be changed) and plots the full region which is resolved, while we might want to focus on lower-energy and larger broadenings (as done in the lower panel). We note that high-energy features can often be a result of a discretized continuum region, as seen by the unphysically intense feature at 558 eV. A larger basis set will flatten out this region, but care should be taken for any analysis of it [refs].\n",
    "\n",
    "Increasing the basis set to aug-cc-pCVTZ/cc-pVTZ (for oxygen and hydrogen, respectively), we obtain results in good agreement to experiment:\n",
    "\n",
    "\n",
    "```{figure} ../img/xray/adc_water_xas.svg\n",
    "---\n",
    "name: adc_water_xas\n",
    "---\n",
    "CVS-ADC(2)-x calculation of the oxygen X-ray absorption spectrum of gaseous water, as compared to experiment. Theoretical spectra has been shifted by 0.37 eV (to account for relativistic effects) and broadened by 0.4 eV.\n",
    "```\n"
   ]
  },
  {
   "cell_type": "markdown",
   "metadata": {},
   "source": [
    "### Spectra from TDDFT eigenstates\n",
    "\n",
    "\n",
    "```{note} \n",
    "To be added.\n",
    "```\n",
    "\n",
    "\n",
    "### Spectra from CPP-DFT\n",
    "\n",
    "With the complex polarization propagator (CPP), also called the damped linear response function, the absorption and dispersion spectrum can be evaluated at arbitrary energies. With this, the X-ray absorption spectrum using KS-DFT can then be directly calculated.\n",
    "\n",
    "For this, we just need to decide on which energy/frequency region to use, which can be estimated by, e.g.\n",
    "\n",
    "- Screen more extended energy regions with low step length. This could potentially be done using a smaller basis set.\n",
    "\n",
    "- With a method lacking relaxation: start the region a few eV below the IP from Koopmans' theorem. This will not work for methods capable of including relaxation, where IP:s from $\\Delta$SCF could instead be considered as a first rough estimate (noting that it will work better or worse for different levels of, e.g., ADC theory).\n",
    "\n",
    "Choosing an energy region of 514-525 eV, using a step length of 0.1 eV and a damping factor of 0.3 eV, we calculate the CPP-DFT (B3LYP) water spectrum as:"
   ]
  },
  {
   "cell_type": "code",
   "execution_count": 10,
   "metadata": {
    "tags": [
     "hide-output"
    ]
   },
   "outputs": [],
   "source": [
    "# Prepare molecule object\n",
    "molecule = vlx.Molecule.read_str(water, units='angstrom')\n",
    "basis    = vlx.MolecularBasis.read(molecule, \"6-31G\")\n",
    "\n",
    "# SCF  settings and calculation\n",
    "scf_drv         = vlx.ScfRestrictedDriver(comm,ostream=silent_ostream)\n",
    "scf_settings    = {'conv_thresh': 1.0e-6}\n",
    "method_settings = {'xcfun': 'b3lyp', 'grid_level': 4}\n",
    "scf_drv.update_settings(scf_settings,method_settings)\n",
    "scf_drv.compute(molecule, basis)\n",
    "\n",
    "# Calculate the response at desired frequencies\n",
    "freqs = np.arange(515.0,525.0,0.1)/au2ev; freqs_str = [str(x) for x in freqs]\n",
    "cpp_prop = LinearAbsorptionCrossSection({'frequencies': ','.join(freqs_str), 'damping': 0.3/au2ev},\n",
    "                                        method_settings)\n",
    "cpp_prop.init_driver(comm, ostream=silent_ostream)\n",
    "cpp_prop.compute(molecule, basis, scf_drv.scf_tensors)\n",
    "\n",
    "# Extract the imaginary part of the complex response function and convert to absorption cross section\n",
    "sigma = []\n",
    "for w in freqs:\n",
    "    axx = -cpp_prop.rsp_property['response_functions'][('x', 'x', w)].imag\n",
    "    ayy = -cpp_prop.rsp_property['response_functions'][('y', 'y', w)].imag\n",
    "    azz = -cpp_prop.rsp_property['response_functions'][('z', 'z', w)].imag\n",
    "    alpha_bar = (axx + ayy + azz) / 3.0; sigma.append(4.0 * np.pi * w * alpha_bar / 137.035999)"
   ]
  },
  {
   "cell_type": "markdown",
   "metadata": {},
   "source": [
    "Resulting spectra can be plotted as raw or splined, for smoother figures:"
   ]
  },
  {
   "cell_type": "code",
   "execution_count": 11,
   "metadata": {},
   "outputs": [
    {
     "data": {
      "image/png": "[encoded data removed]",
      "text/plain": [
       "<Figure size 576x288 with 4 Axes>"
      ]
     },
     "metadata": {
      "needs_background": "light"
     },
     "output_type": "display_data"
    }
   ],
   "source": [
    "# Make figure with panels of 3:1 width\n",
    "plt.figure(figsize=(8,4))\n",
    "gs = gridspec.GridSpec(2, 2, width_ratios=[3, 1]) \n",
    "\n",
    "# Raw results for full region\n",
    "plt.subplot(gs[0])\n",
    "plt.plot(au2ev*freqs,sigma,'bx-')\n",
    "\n",
    "# Raw results for zoomed in\n",
    "plt.subplot(gs[1])\n",
    "plt.plot(au2ev*freqs,sigma,'bx-')\n",
    "plt.xlim((519.5,520.5)); plt.ylim((0,0.10))\n",
    "\n",
    "# Raw and splined spectra\n",
    "plt.subplot(gs[2])\n",
    "plt.plot(au2ev*freqs,sigma,'bx')\n",
    "x = np.arange(min(au2ev*freqs),max(au2ev*freqs),0.01)\n",
    "y = interp1d(au2ev*freqs, sigma, kind='cubic')\n",
    "plt.plot(x,y(x),'r')\n",
    "plt.legend(('Raw','Splined'))\n",
    "\n",
    "# Zoomed in\n",
    "plt.subplot(gs[3])\n",
    "plt.plot(au2ev*freqs,sigma,'bx')\n",
    "plt.plot(x,y(x),'r')\n",
    "plt.xlim((519.5,520.5)); plt.ylim((0,0.10))\n",
    "plt.show()"
   ]
  },
  {
   "cell_type": "markdown",
   "metadata": {},
   "source": [
    "Increasing the basis set size and comparing to [experiment] we get:\n",
    "\n",
    "\n",
    "```{figure} ../img/xray/dft_water_xas.svg\n",
    "---\n",
    "name: dft_water_xas\n",
    "---\n",
    "CPP-DFT (B3LYP) X-ray absorption spectrum of water, as compared to experiment. Theoretical spectra shifted by 14.5 eV and broadened by 0.4 eV. Currently aug-cc-pVDZ..\n",
    "```\n",
    "\n",
    "```{note} \n",
    "Change above to aug-cc-pCVTZ/cc-pVTZ.\n",
    "```\n",
    "\n",
    "As can be seen, the absolute excitation energies are significantly of, with a shift of 14.5 eV required to yield an approximate alignment to experiment. Part of this shift is due to lack of relativistic effects (~0.37 eV), and a small discrepancy can be expected due to the use of a limited basis set, but the main part of the error is due to two different effects:\n",
    "\n",
    "1. Lack of [relaxation](#relaxation), which yield a final state too high in energy and thus shift theoretical spectra upwards in energy.\n",
    "\n",
    "2. The [self-interaction error](#self-interaction-error-in-dft), which yield an erroneous self-repulsion of the dense core orbitals, and results in too low core-excitation energies.\n",
    "\n",
    "For B3LYP the total effect of these two errors leads to too low transition energies, meaning that the SIE dominates. By changing the amount of HF exchange this balance will shift and the error eventually becomes positive.\n",
    "\n",
    "Nevertheless, the obtained CPP-DFT spectrum is in reasonable agreement with experiment once it has been shifted.\n",
    "\n",
    "\n",
    "### Other approaches\n",
    "\n",
    "Brief discussion - state-specific, CC, MR, ..."
   ]
  },
  {
   "cell_type": "markdown",
   "metadata": {},
   "source": [
    "## X-ray emission spectroscopy\n",
    "\n",
    "Following the creatying of a core-hole, the system will rapidly ($\\sim$fs) decay to a valence-hole or valence-excited satte, depending on whether the system is core-ionized or core-excited. These two different intermediate states  are probed when the X-ray pulse is in non-resonant (ionized) or resonant (excited regime), yieldig non-resonant/resonant X-ray emission spectroscopy. This section will focus on the former, with the latter following in the next section.\n",
    "\n",
    "In the decay process the system gain large amounts of energy which need to be discarded, which can occur by emission of high-energy photon (fluorescence) or higher-lying electron (Auger), with relative probability depending on edge and element. For the *K*-edge the relative probabilities follow:\n",
    "\n",
    "```{figure} ../img/xray/auger_vs_fluorescent.png\n",
    "---\n",
    "name: auger_vs_fluorescent\n",
    "---\n",
    "Fluorescence and Auger electron yields as a function of atomic number for *K*-edge core-holes. [Published](https://commons.wikimedia.org/wiki/File:Auger_xray_wiki_in_png_format.png) under CC BY-SA 4.0.\n",
    "```\n",
    "\n",
    "As can be seen, Auger decay dominates for light elements, which has impact on both our ability of obtaining well-resolved spectra for these elements, as well as the impact of X-ray damage on biological matter.\n",
    "\n",
    "In non-resonant XES we then probe the radiative decay of core-ionized states, through which we can probe the (element-specific) nature of the local chemical environment. For light elements the valence space is probed directly, but for heavier elements we obtain a number of different decay channels from the valence region and the outer core region. These lines vary considerably in energy, intensity, and information content [refs]:\n",
    "\n",
    "1. The $2p \\rightarrow 1s$ ($K\\alpha_1$ and $K\\alpha_2$) is the most intense (due to the large overlap) and of lowest energy, and is relatively insensitive to the valence region.\n",
    "\n",
    "2. The $3p \\rightarrow 1s$ ($K\\beta ' $ and $K\\beta_{1,3}$) is about an order of magnitude weaker and of higher energy, but more sensitive to the environment.\n",
    "\n",
    "3. Transitions from the ligand MO:s ($K\\beta '' $ and $K\\beta_{2,5}$), or valence-to-core (VtC), is the weakest, high-energy features which is most sensitive to the local environment.\n",
    "\n",
    "The discussion in this tutorial will focus on spectra of lighter elements, as can be modelled with DFT and ADC theory. A good starting point for such calculations include [XPS with ADC/TDDFT].\n",
    "\n",
    "\n",
    "### Spectra from ADC\n",
    "\n",
    "One approach for considering X-ray emission spectra is to converge the core-hole state (as above for $\\Delta\\textrm{SCF}$) and use this core-ionized system as the reference state. The core-decay transition then are the first negative eigenstates of the systemn, such that a standard Davidson calculation can be run on top.\n",
    "\n",
    "Considering water with ADC(2), the oxygen X-ray emission spectrum is calculated as:"
   ]
  },
  {
   "cell_type": "code",
   "execution_count": 12,
   "metadata": {
    "tags": [
     "hide-output"
    ]
   },
   "outputs": [
    {
     "name": "stdout",
     "output_type": "stream",
     "text": [
      "converged SCF energy = -75.9838703827193  <S^2> = 6.337153e-12  2S+1 = 1\n",
      "converged SCF energy = -56.0754789470864  <S^2> = 0.76257805  2S+1 = 2.0125387\n"
     ]
    },
    {
     "name": "stderr",
     "output_type": "stream",
     "text": [
      "/home/thomas/pkg/adcc/adcc/backends/__init__.py:48: UserWarning: Could not check host program psi4 minimal version, since __version__ tag not found. Proceeding anyway.\n",
      "  \"\".format(module)\n"
     ]
    },
    {
     "name": "stdout",
     "output_type": "stream",
     "text": [
      "Starting adc2  Jacobi-Davidson ...\n",
      "Niter n_ss  max_residual  time  Ritz values\n",
      "  1     8       0.77768   1.2s  [-19.29082067 -19.19940205 -18.96181907 -18.3637012 ]\n",
      "  2    16     0.0010764  162ms  [-19.44427093 -19.36689642 -19.16826546 -18.57947501]\n",
      "  3    24    4.4301e-07  274ms  [-19.44429764 -19.3669284  -19.16831914 -18.57954987]\n",
      "=== Converged ===\n",
      "    Number of matrix applies:    24\n",
      "    Total solver time:             1s 642ms\n"
     ]
    }
   ],
   "source": [
    "# Construct molecule object\n",
    "mol       = gto.Mole()\n",
    "mol.atom  = water\n",
    "mol.basis = '6-31G'\n",
    "mol.build()\n",
    "\n",
    "# Perform neutral SCF calculation\n",
    "scf_res = scf.UHF(mol)\n",
    "scf_res.kernel()\n",
    "\n",
    "# Use above SCF as starting guess, removing core electron and converging with MOM constraint\n",
    "mo0        = copy.deepcopy(scf_res.mo_coeff)\n",
    "occ0       = copy.deepcopy(scf_res.mo_occ)\n",
    "occ0[0][0] = 0.0\n",
    "scf_ion = scf.UHF(mol)\n",
    "scf.addons.mom_occ(scf_ion, mo0, occ0)\n",
    "scf_ion.kernel()\n",
    "\n",
    "# Perform ADC calculation\n",
    "adc_xes = adcc.adc2(scf_ion, n_states=4)"
   ]
  },
  {
   "cell_type": "markdown",
   "metadata": {},
   "source": [
    "```{note}\n",
    "There will be some convergence issues if including transitions from very different types, *e.g.* resolving transitions into the core and out to the unoccupied valence region simultaneously. As such, the number of resolved states should remain somewhat limited.\n",
    "```\n",
    "\n",
    "The resuls can be printed as a table, or convoluted and plotted using built-in functionalities or a custom broadening. Note that the eigenvalues are negative, and a sing change is appropriate when constructing the spectra."
   ]
  },
  {
   "cell_type": "code",
   "execution_count": 13,
   "metadata": {},
   "outputs": [
    {
     "name": "stdout",
     "output_type": "stream",
     "text": [
      "+--------------------------------------------------------------+\n",
      "| adc2                                        any ,  converged |\n",
      "+--------------------------------------------------------------+\n",
      "|  #        excitation energy     osc str    |v1|^2    |v2|^2  |\n",
      "|          (au)           (eV)                                 |\n",
      "|  0      -19.4443     -529.1063   0.0568    0.9548    0.0452  |\n",
      "|  1     -19.36693      -527.001   0.0458    0.9503   0.04966  |\n",
      "|  2     -19.16832     -521.5965   0.0419    0.9376   0.06245  |\n",
      "|  3     -18.57955     -505.5753   0.0031    0.9335   0.06655  |\n",
      "+--------------------------------------------------------------+\n",
      "\n"
     ]
    },
    {
     "data": {
      "image/png": "[encoded data removed]",
      "text/plain": [
       "<Figure size 432x360 with 2 Axes>"
      ]
     },
     "metadata": {
      "needs_background": "light"
     },
     "output_type": "display_data"
    }
   ],
   "source": [
    "# Print information on eigenstates\n",
    "print(adc_xes.describe())\n",
    "\n",
    "plt.figure(figsize=(6,5))\n",
    "# Convolute using functionalities available in gator and adcc\n",
    "plt.subplot(211); plt.title('Built-in broadening [note negative energies]')\n",
    "adc_xes.plot_spectrum()\n",
    "# Convoluted using information on excitation energies and oscillator strengths\n",
    "plt.subplot(212); plt.title('Custom broadening')\n",
    "x,y = -au2ev*adc_xes.excitation_energy, adc_xes.oscillator_strength\n",
    "xi,yi = lorentzian(x,y,519,531,0.01,0.5); plt.plot(xi,yi)\n",
    "plt.tight_layout(); plt.show()"
   ]
  },
  {
   "cell_type": "markdown",
   "metadata": {},
   "source": [
    "Using cc-pCVTZ/cc-pVTZ and comparing to experiment:\n",
    "\n",
    "```{figure} ../img/xray/overlap_water_xes.svg\n",
    "---\n",
    "name: overlap_water_xes\n",
    "---\n",
    "ADC(2) water X-ray emission spectrum, as compared to experiment. Theoretical spectra shifted by 0.37 eV (to account for relativistic effects) and broadened by 0.3 eV.\n",
    "```\n",
    "\n",
    "While the broadening between the different lines is noticably different, it is clear that the energy spacing and integrated intensities of the features are in good agreement with experiment. Note that the theoretical spectrum is obtained at the ADC(2) level of theory, which has been [shown](https://doi.org/10.1021/acs.jctc.8b01046) to be in better agreement than ADC(2)-x and ADC(3/2) for XES.\n",
    "\n",
    "\n",
    "### Spectra from TDDFT\n",
    "\n",
    "```{note}\n",
    "To be added.\n",
    "```"
   ]
  },
  {
   "cell_type": "markdown",
   "metadata": {},
   "source": [
    "### Spectra from ground state MO:s\n",
    "\n",
    "While we have previously seen that Koopmans' theorem is in significant disagreement with experimental ionization potentials (due to lack of relaxation), it has been noted that the **relative** position of the (valence) MO energies can still be quite reasonable. As such, a computationally very simple approach for modeling X-ray emission spectra has been utilized [refs], in which transition energies are estimated from\n",
    "\n",
    "\\begin{equation}\n",
    "\\Delta E = \\epsilon_v - \\epsilon_c\n",
    "\\end{equation}\n",
    "\n",
    "*i.e.* the difference in ground state MO energies. The intensities are taken to be proportional to the dipole moment:\n",
    "\n",
    "\\begin{equation}\n",
    "f \\propto \\left| \\langle \\phi_i \\left| \\hat{\\mu} \\right| \\phi_c \\rangle \\right| ^2\n",
    "\\end{equation}\n",
    "\n",
    "This method is very attractive in its simplicity, requiring only a single ground state calculation and the construction of some dipole moments for a full spectrum calculation. However, the absolute energies will be significantly off, and any differences in relaxation between the different channels will not be included.\n",
    "\n",
    "Nevertheless, this approach has been noted to yield good (relative) agreement to experimental measurements, and it is very capable of considering even massive molecular systems [refs]. The calculation of it then requires two steps:\n",
    "\n",
    "- The calculation of ground state wave function and constructing transition energies from MO energy differences:"
   ]
  },
  {
   "cell_type": "code",
   "execution_count": 14,
   "metadata": {},
   "outputs": [
    {
     "name": "stdout",
     "output_type": "stream",
     "text": [
      "Occupied MO energies: [-520.65709504  -27.68789281  -14.39952883   -9.70377533   -7.94952959]\n"
     ]
    }
   ],
   "source": [
    "# SCF calculation\n",
    "scf_drv          = vlx.ScfRestrictedDriver(comm,ostream=silent_ostream)\n",
    "scf_settings     = {'conv_thresh': 1.0e-6}\n",
    "method_settings  = {'xcfun': 'b3lyp', 'grid_level': 4}\n",
    "scf_drv.update_settings(scf_settings,method_settings)\n",
    "scf_drv.compute(molecule, basis)\n",
    "\n",
    "# Extract orbital energies and number of occupied MOs\n",
    "orbital_energies = scf_drv.scf_tensors['E']\n",
    "nocc = molecule.number_of_alpha_electrons()\n",
    "print('Occupied MO energies:',au2ev*orbital_energies[:nocc])\n",
    "\n",
    "# Define probed core MO(s) and calculate energy differences\n",
    "n_core = 0\n",
    "overlap_energy = []\n",
    "for n_mo in np.arange(nocc):\n",
    "    if n_mo != n_core:\n",
    "        overlap_energy.append(au2ev*(orbital_energies[n_mo]-orbital_energies[n_core]))"
   ]
  },
  {
   "cell_type": "markdown",
   "metadata": {},
   "source": [
    "- The calculation of dipole moments between the occupied states:"
   ]
  },
  {
   "cell_type": "code",
   "execution_count": 15,
   "metadata": {},
   "outputs": [],
   "source": [
    "# Load required functionalities\n",
    "dipole_drv      = vlx.ElectricDipoleIntegralsDriver(comm)\n",
    "dipole_matrices = dipole_drv.compute(molecule, basis)\n",
    "C = scf_drv.scf_tensors['C'] # MO coefficients\n",
    "\n",
    "# Calculated dipole moments and convert to MO basis\n",
    "x_ao = dipole_matrices.x_to_numpy(); x_mo = np.matmul(C.T, np.matmul(x_ao, C))\n",
    "y_ao = dipole_matrices.y_to_numpy(); y_mo = np.matmul(C.T, np.matmul(y_ao, C))\n",
    "z_ao = dipole_matrices.z_to_numpy(); z_mo = np.matmul(C.T, np.matmul(z_ao, C))\n",
    "\n",
    "# Calculate transition dipole moments and square modulus\n",
    "xx,yy,zz,osc_str = [],[],[],[]\n",
    "for n_mo in np.arange(nocc):\n",
    "    if n_mo != n_core:\n",
    "        x_tmp,y_tmp,z_tmp = x_mo[n_core,n_mo],y_mo[n_core,n_mo],z_mo[n_core,n_mo]\n",
    "        xx.append(x_tmp); yy.append(y_tmp); zz.append(z_tmp)\n",
    "        osc_str.append(x_tmp**2+y_tmp**2+z_tmp**2)"
   ]
  },
  {
   "cell_type": "markdown",
   "metadata": {},
   "source": [
    "From this we get the stick spectrum, which is printed with its decomposition. Further, it can be convoluted with a lorentzian, here focusing on the high-energy features."
   ]
  },
  {
   "cell_type": "code",
   "execution_count": 16,
   "metadata": {},
   "outputs": [
    {
     "name": "stdout",
     "output_type": "stream",
     "text": [
      "Energy   Osc. str.   x-component   y-component   z-component\n",
      "492.969   0.00022      0.00000      -0.00000      -0.01478\n",
      "506.258   0.00238     -0.04878       0.00000       0.00000\n",
      "510.953   0.00255     -0.00000      -0.00000       0.05050\n",
      "512.708   0.00342     -0.00000       0.05848       0.00000\n"
     ]
    },
    {
     "data": {
      "image/png": "[encoded data removed]",
      "text/plain": [
       "<Figure size 432x216 with 1 Axes>"
      ]
     },
     "metadata": {
      "needs_background": "light"
     },
     "output_type": "display_data"
    }
   ],
   "source": [
    "print('Energy   Osc. str.   x-component   y-component   z-component')\n",
    "for i in np.arange(len(overlap_energy)):\n",
    "    e,os,x,y,z = overlap_energy[i],osc_str[i],xx[i],yy[i],zz[i]\n",
    "    print('{:.3f}  {:8.5f}     {:8.5f}      {:8.5f}      {:8.5f}'.format(e,os,x,y,z))\n",
    "\n",
    "plt.figure(figsize=(6,3))\n",
    "x,y = overlap_energy,osc_str\n",
    "xi,yi = lorentzian(x,y,min(x)-5,max(x)+5,0.01,0.4)\n",
    "plt.plot(xi,yi)\n",
    "plt.xlim((504,514))\n",
    "plt.show()"
   ]
  },
  {
   "cell_type": "markdown",
   "metadata": {},
   "source": [
    "Using cc-pCVTZ/cc-pVTZ and comparing to experiment\n",
    "\n",
    "\n",
    "```{figure} ../img/xray//overlap_water_xes.svg\n",
    "---\n",
    "name: /overlap_water_xes\n",
    "---\n",
    "DFT (B3LYP) overlap X-ray emission spectrum of water, as compared to experiment. Theoretical spectra shifted to approximately align the high-energy feature, and broadened by 0.3 eV.\n",
    "```\n",
    "\n",
    "The resulting spectrum is quite off in energy, but the relative agreement to experiment is quite impressive.\n",
    "\n",
    "\n",
    "### Other approaches\n",
    "\n",
    "Brief discussion - CC, ..."
   ]
  },
  {
   "cell_type": "markdown",
   "metadata": {},
   "source": [
    "## Resonant inelastic X-ray scattering\n",
    "\n",
    "```{note}\n",
    "- To be added.\n",
    "\n",
    "- One-step versus two-step.\n",
    "```\n",
    "\n",
    "Here focus on the electronic part of he RIXS plane.\n",
    "\n",
    "\n",
    "### Two-step approach with ADC"
   ]
  },
  {
   "cell_type": "code",
   "execution_count": 115,
   "metadata": {
    "scrolled": true,
    "tags": [
     "hide-output"
    ]
   },
   "outputs": [
    {
     "name": "stdout",
     "output_type": "stream",
     "text": [
      "converged SCF energy = -75.9838703827191  <S^2> = 6.3398176e-12  2S+1 = 1\n",
      "Starting cvs-adc2  Jacobi-Davidson ...\n",
      "Niter n_ss  max_residual  time  Ritz values\n",
      "  1     8        1.6222  841ms  [20.26123431 20.31992537 20.32302691 20.3464984  20.77599022]\n",
      "  2    16      0.059729  165ms  [19.77470975 19.80230856 19.84312303 19.87818817 20.5373859 ]\n",
      "  3    24     0.0025223  286ms  [19.75718509 19.78334186 19.84056229 19.86585919 20.53732181]\n",
      "  4    32    0.00064877  237ms  [19.75656768 19.78236576 19.84024749 19.86584883 20.53732181]\n",
      "  5    38    2.0368e-05  272ms  [19.756435   19.78211629 19.84024749 19.86584882 20.53732181]\n",
      "=== Converged ===\n",
      "    Number of matrix applies:    38\n",
      "    Total solver time:             1s 823ms\n"
     ]
    }
   ],
   "source": [
    "# Construct molecule object\n",
    "mol       = gto.Mole()\n",
    "mol.atom  = water\n",
    "mol.basis = '6-31G'\n",
    "mol.build()\n",
    "# Perform neutral SCF calculation\n",
    "scf_res = scf.UHF(mol)\n",
    "scf_res.kernel()\n",
    "# XAS\n",
    "adc_xas = adcc.cvs_adc2(scf_res, n_states=5,core_orbitals=1)\n",
    "\n",
    "adc_rixs = []\n",
    "for n in [5,6]:\n",
    "    mo0        = copy.deepcopy(scf_res.mo_coeff)\n",
    "    occ0       = copy.deepcopy(scf_res.mo_occ)\n",
    "    occ0[0][0] = 0.0; occ0[0][n] = 1.0\n",
    "    scf_ion = scf.UHF(mol); scf.addons.mom_occ(scf_ion, mo0, occ0)\n",
    "    scf_ion.kernel()\n",
    "    adc_rixs.append(adcc.adc2(scf_ion, n_states=4))"
   ]
  },
  {
   "cell_type": "code",
   "execution_count": 120,
   "metadata": {},
   "outputs": [
    {
     "name": "stdout",
     "output_type": "stream",
     "text": [
      "XAS\n",
      "+--------------------------------------------------------------+\n",
      "| cvs-adc2                                    any ,  converged |\n",
      "+--------------------------------------------------------------+\n",
      "|  #        excitation energy     osc str    |v1|^2    |v2|^2  |\n",
      "|          (au)           (eV)                                 |\n",
      "|  0      19.75644         537.6   0.0000    0.8488    0.1512  |\n",
      "|  1      19.78212      538.2988   0.0166    0.8393    0.1607  |\n",
      "|  2      19.84025      539.8806   0.0000    0.8617    0.1383  |\n",
      "|  3      19.86585      540.5773   0.0356    0.8518    0.1482  |\n",
      "|  4      20.53732       558.849   0.0000    0.9255   0.07451  |\n",
      "+--------------------------------------------------------------+\n",
      "\n",
      "\n",
      "LUMO\n",
      "+--------------------------------------------------------------+\n",
      "| adc2                                        any ,  converged |\n",
      "+--------------------------------------------------------------+\n",
      "|  #        excitation energy     osc str    |v1|^2    |v2|^2  |\n",
      "|          (au)           (eV)                                 |\n",
      "|  0     -19.68757      -535.726   0.0114    0.8589    0.1411  |\n",
      "|  1     -19.40573     -528.0569   0.0557    0.9523   0.04766  |\n",
      "|  2     -19.31551     -525.6018   0.0414    0.9357   0.06431  |\n",
      "|  3     -19.13752     -520.7586   0.0393    0.9311   0.06889  |\n",
      "+--------------------------------------------------------------+\n",
      "\n",
      "\n",
      "LUMO+1\n",
      "+--------------------------------------------------------------+\n",
      "| adc2                                        any ,  converged |\n",
      "+--------------------------------------------------------------+\n",
      "|  #        excitation energy     osc str    |v1|^2    |v2|^2  |\n",
      "|          (au)           (eV)                                 |\n",
      "|  0     -19.76496     -537.8318   0.0227    0.8732    0.1268  |\n",
      "|  1     -19.39657     -527.8077   0.0547    0.9519   0.04808  |\n",
      "|  2     -19.30101     -525.2072   0.0429    0.9443   0.05568  |\n",
      "|  3     -19.13354       -520.65   0.0347    0.9039   0.09609  |\n",
      "+--------------------------------------------------------------+\n",
      "\n"
     ]
    }
   ],
   "source": [
    "print(adc_xas.describe())\n",
    "print(adc_rixs[0].describe())\n",
    "print(adc_rixs[1].describe())"
   ]
  },
  {
   "cell_type": "code",
   "execution_count": 123,
   "metadata": {
    "scrolled": false
   },
   "outputs": [
    {
     "data": {
      "image/png": "[encoded data removed]",
      "text/plain": [
       "<Figure size 432x288 with 3 Axes>"
      ]
     },
     "metadata": {
      "needs_background": "light"
     },
     "output_type": "display_data"
    }
   ],
   "source": [
    "plt.figure()\n",
    "plt.subplot(222)\n",
    "x,y = au2ev*adc_xas.excitation_energy, adc_xas.oscillator_strength\n",
    "xi,yi = lorentzian(x,y,min(x)-2,min(x)+5,0.01,0.3)\n",
    "plt.plot(yi,xi)\n",
    "plt.subplot(223)\n",
    "x,y = -au2ev*adc_rixs[0].excitation_energy, adc_rixs[0].oscillator_strength\n",
    "xi,yi = lorentzian(x,y,x[1]-9,x[1]+2,0.01,0.3)\n",
    "plt.plot(xi,yi+au2ev*adc_xas.excitation_energy[0])\n",
    "x,y = -au2ev*adc_rixs[1].excitation_energy, adc_rixs[1].oscillator_strength\n",
    "xi,yi = lorentzian(x,y,x[1]-9,x[1]+2,0.01,0.3)\n",
    "plt.plot(xi,yi+au2ev*adc_xas.excitation_energy[1])\n",
    "\n",
    "plt.subplot(221)\n",
    "# LUMO\n",
    "indx = 1\n",
    "f1xas = au2ev*adc_xas.excitation_energy[indx]\n",
    "f1xes = -au2ev*adc_rixs[0].excitation_energy[1]\n",
    "f1int = adc_xas.oscillator_strength[indx]*adc_rixs[0].oscillator_strength[1]\n",
    "f2xas = f1xas\n",
    "f2xes = -au2ev*adc_rixs[0].excitation_energy[2]\n",
    "f2int = adc_xas.oscillator_strength[indx]*adc_rixs[0].oscillator_strength[2]\n",
    "plt.plot(f1xes,f1xas,'o',markersize=10000*f1int)\n",
    "plt.plot(f2xes,f2xas,'o',markersize=10000*f2int)\n",
    "# LUMO+1\n",
    "indx = 3\n",
    "f1xas = au2ev*adc_xas.excitation_energy[indx]\n",
    "f1xes = -au2ev*adc_rixs[1].excitation_energy[1]\n",
    "f1int = adc_xas.oscillator_strength[indx]*adc_rixs[1].oscillator_strength[1]\n",
    "f2xas = f1xas\n",
    "f2xes = -au2ev*adc_rixs[1].excitation_energy[2]\n",
    "f2int = adc_xas.oscillator_strength[indx]*adc_rixs[1].oscillator_strength[2]\n",
    "plt.plot(f1xes,f1xas,'o',markersize=10000*f1int)\n",
    "plt.plot(f2xes,f2xas,'o',markersize=10000*f2int)\n",
    "plt.ylim((535,543)); plt.xlim((519,530))\n",
    "plt.xlabel('Emission'); plt.ylabel('Absorption')\n",
    "plt.show()"
   ]
  },
  {
   "cell_type": "markdown",
   "metadata": {},
   "source": [
    "### Two-step approach with TDDFT\n",
    "\n",
    "```{note}\n",
    "To be added.\n",
    "```\n",
    "\n",
    "\n",
    "### Dirac-Kramer-Heisenberg with ADC\n",
    "\n",
    "```{note}\n",
    "To be added.\n",
    "```\n",
    "\n",
    "\n",
    "### Other approaches\n",
    "\n",
    "Overlap approach...?\n",
    "\n",
    "\n",
    "## Analysis\n",
    "\n",
    "For the analysis of obtained spectra we will focus on the carbon X-ray absorption spectrum of vinylfluoride. Some analysis on the water X-ray emission spectrum will also be included, but as XES is generally easier to analyse (fewer states, unoccupied state of relatively different energies, etc), focus will be on XAS.\n",
    "\n",
    "Vinulfluride (C$_2$H$_3$F) is a singly-substituted ethene derivate, which possess large shifts in features for the -CHF site, due to interaction with the very electronegative fluorine. This *chemical shift* is significant and a strong indicator of the local chemical environment. This can be seen in the [experimental spectra] of ethene, vinylfluoride, and 1,1-difluoroethene:\n",
    "\n",
    "\n",
    "```{figure} ../img/xray/expt_ethene.svg\n",
    "---\n",
    "name: /expt_ethene\n",
    "---\n",
    "Carbon X-ray absorption spectra of ethene and two substituted derivates. Marking position (and number of contributing carbon sites) of two $1s \\rightarrow \\pi^{\\ast}$ transitions.\n",
    "```\n",
    "\n",
    "The position (and number of) $\\pi^{\\ast}$-resonances are labelled, and we see that a single substitution yield a shift of about 2 eV, and double susbtitution (at the same site) of about 4 eV.\n",
    "\n",
    "Calculating the vinylfluoride spectrum using CVS-ADC(2)-x:"
   ]
  },
  {
   "cell_type": "code",
   "execution_count": 17,
   "metadata": {
    "scrolled": true,
    "tags": [
     "hide-output"
    ]
   },
   "outputs": [
    {
     "name": "stdout",
     "output_type": "stream",
     "text": [
      "SCF converged in 7 iterations.\n",
      "Total Energy: -176.8261179602 au\n",
      "                                                                                                                          \n",
      "                                        Algebraic Diagrammatic Construction (ADC)                                         \n",
      "                                       ===========================================                                        \n",
      "                                                                                                                          \n",
      "                               ADC method                   : cvs-adc2x                                                   \n",
      "                               Number of Singlet States     : 10                                                          \n",
      "                               CVS-ADC, Core Orbital Space  : 1 2 3                                                       \n",
      "                               Convergence threshold        : 1.0e-06                                                     \n",
      "                                                                                                                          \n"
     ]
    },
    {
     "name": "stderr",
     "output_type": "stream",
     "text": [
      "/home/thomas/pkg/adcc/adcc/backends/__init__.py:48: UserWarning: Could not check host program psi4 minimal version, since __version__ tag not found. Proceeding anyway.\n",
      "  \"\".format(module)\n"
     ]
    },
    {
     "name": "stdout",
     "output_type": "stream",
     "text": [
      "Starting cvs-adc2x singlet Jacobi-Davidson ...\n",
      "Niter n_ss  max_residual  time  Ritz values\n",
      "  1    20        0.8829  648ms  [10.90469033 11.01274771 11.12186863 11.13574568 11.15427194 11.22366087\n",
      " 11.2857491 ]\n",
      "  2    40       0.10942   1.3s  [10.57182274 10.67941657 10.72935934 10.75067853 10.81315143 10.81361485\n",
      " 10.84327123]\n",
      "  3    60     0.0061127   1.8s  [10.55781863 10.63999235 10.70185702 10.72113055 10.76319341 10.78079701\n",
      " 10.81308683]\n",
      "  4    80    0.00093309   2.3s  [10.55663466 10.63712206 10.69959324 10.71942116 10.76026737 10.77786443\n",
      " 10.81039384]\n",
      "  5   100     0.0001655   2.5s  [10.55654765 10.63677648 10.69916368 10.71927018 10.75988036 10.77734383\n",
      " 10.81003668]\n",
      "=== Restart ===\n",
      "  6    40     2.647e-05   2.3s  [10.55654333 10.63675296 10.69912625 10.71925908 10.75984683 10.77729435\n",
      " 10.81000543]\n",
      "  7    60    7.3013e-06   2.0s  [10.55654286 10.63674998 10.69911822 10.71925747 10.75983942 10.77728362\n",
      " 10.80999969]\n",
      "  8    80    1.4836e-06   2.5s  [10.55654283 10.63674965 10.69911692 10.71925727 10.75983821 10.777282\n",
      " 10.80999877]\n",
      "  9   100    2.7388e-07   2.5s  [10.55654282 10.63674959 10.69911676 10.71925725 10.75983805 10.77728178\n",
      " 10.80999856]\n",
      "=== Converged ===\n",
      "    Number of matrix applies:    180\n",
      "    Total solver time:            18s   6ms\n",
      "                                                                                                                          \n",
      "                                                  ADC Summary of Results                                                  \n",
      "                                                 ------------------------                                                 \n",
      "                                                                                                                          \n",
      "                             +--------------------------------------------------------------+                             \n",
      "                             | cvs-adc2x                               singlet ,  converged |                             \n",
      "                             +--------------------------------------------------------------+                             \n",
      "                             |  #        excitation energy     osc str    |v1|^2    |v2|^2  |                             \n",
      "                             |          (au)           (eV)                                 |                             \n",
      "                             |  0      10.55654      287.2582   0.0387    0.7614    0.2386  |                             \n",
      "                             |  1      10.63675      289.4407   0.0489    0.7515    0.2485  |                             \n",
      "                             |  2      10.69912      291.1378   0.0165    0.7614    0.2386  |                             \n",
      "                             |  3      10.71926      291.6858   0.0136    0.7777    0.2223  |                             \n",
      "                             |  4      10.75984      292.7901   0.0005    0.7255    0.2745  |                             \n",
      "                             |  5      10.77728      293.2648   0.0427    0.7806    0.2194  |                             \n",
      "                             |  6         10.81       294.155   0.0161    0.7733    0.2267  |                             \n",
      "                             |  7      10.82719      294.6228   0.0266    0.7567    0.2433  |                             \n",
      "                             |  8      10.84538      295.1178   0.0002    0.7126    0.2874  |                             \n",
      "                             |  9      10.92551      297.2984   0.0038    0.7612    0.2388  |                             \n",
      "                             +--------------------------------------------------------------+                             \n",
      "                                                                                                                          \n",
      "                                          End of ADC calculation. All went well!                                          \n",
      "                                                                                                                          \n"
     ]
    }
   ],
   "source": [
    "vinyl   = \"\"\"\n",
    " C     0.000000    -0.246412    -1.271068\n",
    " C     0.000000     0.457081    -0.154735\n",
    " F     0.000000    -0.119195     1.052878\n",
    " H     0.000000     0.272328    -2.210194\n",
    " H     0.000000    -1.319906    -1.249847\n",
    " H     0.000000     1.530323    -0.095954\n",
    "\"\"\"\n",
    "\n",
    "# SCF calculation\n",
    "struct  = gator.get_molecule(vinyl)\n",
    "basis   = gator.get_molecular_basis(struct,'6-31G')\n",
    "scf_res = gator.run_scf(struct,basis)\n",
    "\n",
    "# CVS space with three lowest MOs\n",
    "adc_xas = gator.run_adc(struct,basis,scf_res,method='cvs-adc2x',singlets=10,core_orbitals=[1,2,3])"
   ]
  },
  {
   "cell_type": "markdown",
   "metadata": {},
   "source": [
    "And with CPP-DFT (B3LYP):"
   ]
  },
  {
   "cell_type": "code",
   "execution_count": 18,
   "metadata": {
    "tags": [
     "hide-output"
    ]
   },
   "outputs": [],
   "source": [
    "molecule = vlx.Molecule.read_str(vinyl, units='angstrom')\n",
    "basis    = vlx.MolecularBasis.read(molecule, \"6-31G\")\n",
    "scf_drv = vlx.ScfRestrictedDriver(comm,ostream=silent_ostream)\n",
    "scf_settings  = {'conv_thresh': 1.0e-6}\n",
    "method_settings = {'xcfun': 'b3lyp', 'grid_level': 4}\n",
    "scf_drv.update_settings(scf_settings,method_settings); scf_drv.compute(molecule, basis)\n",
    "freqs = np.arange(272.0,285.0,0.25)/au2ev; freqs_str = [str(x) for x in freqs]\n",
    "cpp_prop = LinearAbsorptionCrossSection({'frequencies': ','.join(freqs_str), 'damping': 0.4/au2ev}\n",
    "                                         ,method_settings)\n",
    "cpp_prop.init_driver(comm, ostream=silent_ostream)\n",
    "cpp_prop.compute(molecule, basis, scf_drv.scf_tensors)\n",
    "sigma = []\n",
    "for w in freqs:\n",
    "    axx = -cpp_prop.rsp_property['response_functions'][('x', 'x', w)].imag\n",
    "    ayy = -cpp_prop.rsp_property['response_functions'][('y', 'y', w)].imag\n",
    "    azz = -cpp_prop.rsp_property['response_functions'][('z', 'z', w)].imag\n",
    "    alpha_bar = (axx + ayy + azz) / 3.0; sigma.append(4.0 * np.pi * w * alpha_bar / 137.035999)"
   ]
  },
  {
   "cell_type": "markdown",
   "metadata": {},
   "source": [
    "The resulting spectra are shown below, and look quite similar (although with a large difference in absolute energy):"
   ]
  },
  {
   "cell_type": "code",
   "execution_count": 19,
   "metadata": {},
   "outputs": [
    {
     "data": {
      "image/png": "[encoded data removed]",
      "text/plain": [
       "<Figure size 432x288 with 2 Axes>"
      ]
     },
     "metadata": {
      "needs_background": "light"
     },
     "output_type": "display_data"
    }
   ],
   "source": [
    "plt.figure(figsize=(6,4))\n",
    "plt.subplot(211); plt.title('CPP-DFT (B3LYP)')\n",
    "x = np.arange(min(au2ev*freqs),max(au2ev*freqs),0.01)\n",
    "y = interp1d(au2ev*freqs, sigma, kind='cubic')\n",
    "plt.plot(x,y(x),'b')\n",
    "plt.xlim(272,284)\n",
    "\n",
    "plt.subplot(212); plt.title('CVS-ADC(2)-x')\n",
    "x,y = au2ev*adc_xas.excitation_energy, adc_xas.oscillator_strength\n",
    "xi,yi = lorentzian(x,y,280,300,0.01,0.8); plt.plot(xi,yi,'b')\n",
    "plt.xlim(284,296)\n",
    "plt.tight_layout(); plt.show()"
   ]
  },
  {
   "cell_type": "markdown",
   "metadata": {},
   "source": [
    "### Amplitudes\n",
    "\n",
    "For eigenstates we can study the amplitudes of the eigenvectors to see the contributions in the different excited states. For CPP, a similar analysis on response vectors can be conducted, but this might be made more difficult if th density of states is high and the mixing of cointributions to the response at investigated frequencies is thus significant.\n",
    "\n",
    "Fro the ADC calculations there is a function `state.describe_amplitudes`, which print the amplitudes using one of three formats, controlled by `index_format`. The amplitudes are printed when above a `tolerance` threshold, and splitting the returning string according to `state` and printing the first two states, we get:"
   ]
  },
  {
   "cell_type": "code",
   "execution_count": 21,
   "metadata": {},
   "outputs": [
    {
     "name": "stdout",
     "output_type": "stream",
     "text": [
      "From 'hf' format, which yield MO number:\n",
      "+---------------------------------------+\n",
      "| State   1 ,      10.63675 au          |\n",
      "+---------------------------------------+\n",
      "|   1     ->  12      a ->a      +0.601 |\n",
      "|   1     ->  22      a ->a      -0.105 |\n",
      "|  11   1 ->  12  12  ab->ab     -0.149 |\n",
      "+---------------------------------------+\n",
      "| State   2 ,      10.69912 au          |\n",
      "+---------------------------------------+\n",
      "|   2     ->  13      a ->a        -0.5 |\n",
      "|   2     ->  15      a ->a      +0.273 |\n",
      "|   2     ->  14      a ->a       -0.22 |\n",
      "\n",
      "\n",
      "First transition from 'adcc' format, with indexing as used in adcc:\n",
      "+-------------------------------------------------------+\n",
      "| State   1 ,      10.63675 au,      289.4407 eV        |\n",
      "+-------------------------------------------------------+\n",
      "| (o2  1)         -> (v1  0)          a ->a      +0.601 |\n",
      "| (o2  1)         -> (v1 10)          a ->a      -0.105 |\n",
      "| (o1  8) (o2  1) -> (v1  0) (v1  0)  ab->ab     -0.149 |\n",
      "\n",
      "\n",
      "First transition from 'homolumo' format, which using HOMO/LUMO/HOCO format:\n",
      "+-------------------------------------------------------+\n",
      "| State   1 ,      10.63675 au,      289.4407 eV        |\n",
      "+-------------------------------------------------------+\n",
      "| HOCO -1         -> LUMO             a ->a      +0.601 |\n",
      "| HOCO -1         -> LUMO+10          a ->a      -0.105 |\n",
      "| HOMO    HOCO -1 -> LUMO    LUMO     ab->ab     -0.149 |\n"
     ]
    }
   ],
   "source": [
    "print('From \\'hf\\' format, which yield MO number:')\n",
    "des_amp    = adc_xas.describe_amplitudes(tolerance=0.1,index_format='hf')\n",
    "split_line = '\\n\\n'\n",
    "tmp_amp    = des_amp.split(split_line)\n",
    "print(tmp_amp[1])\n",
    "print(tmp_amp[2])\n",
    "print()\n",
    "\n",
    "print('\\nFirst transition from \\'adcc\\' format, with indexing as used in adcc:')\n",
    "des_amp    = adc_xas.describe_amplitudes(tolerance=0.1,index_format='adcc')\n",
    "split_line = '\\n\\n'\n",
    "tmp_amp    = des_amp.split(split_line)\n",
    "print(tmp_amp[1])\n",
    "print()\n",
    "\n",
    "\n",
    "print('\\nFirst transition from \\'homolumo\\' format, which using HOMO/LUMO/HOCO format:')\n",
    "des_amp    = adc_xas.describe_amplitudes(tolerance=0.1,index_format='homolumo')\n",
    "split_line = '\\n\\n'\n",
    "tmp_amp    = des_amp.split(split_line)\n",
    "print(tmp_amp[1])"
   ]
  },
  {
   "cell_type": "markdown",
   "metadata": {},
   "source": [
    "From this, it is clear that the two first transitions originates in two different MOs, which corresponds to the -CH$_2$ and -CHF atoms, respectively. The transitions are dominated by single-excitations to the LUMO and LUMO+1, with largest relaxation contributions coming from the HOMO.\n",
    "\n",
    "\n",
    "### Decomposition of spectra\n",
    "\n",
    "For a more visual illustration, we can plot the spectra as decomposed according to atomic contributions and polarization of incoming radiation. \n",
    "\n",
    "#### Atomic contributions\n",
    "\n",
    "Decomposing according to atomic contributions provides information on which core orbitals that contribute to which features. For vinylfluoride, this can be done by performing CVS calculations with tailored CVS spaces for each carbon site:"
   ]
  },
  {
   "cell_type": "code",
   "execution_count": 22,
   "metadata": {
    "scrolled": true,
    "tags": [
     "hide-output"
    ]
   },
   "outputs": [
    {
     "name": "stdout",
     "output_type": "stream",
     "text": [
      "SCF converged in 7 iterations.\n",
      "Total Energy: -176.8261179602 au\n",
      "                                                                                                                          \n",
      "                                        Algebraic Diagrammatic Construction (ADC)                                         \n",
      "                                       ===========================================                                        \n",
      "                                                                                                                          \n",
      "                               ADC method                   : cvs-adc2x                                                   \n",
      "                               Number of Singlet States     : 6                                                           \n",
      "                               CVS-ADC, Core Orbital Space  : 2                                                           \n",
      "                               Convergence threshold        : 1.0e-06                                                     \n",
      "                                                                                                                          \n"
     ]
    },
    {
     "name": "stderr",
     "output_type": "stream",
     "text": [
      "/home/thomas/pkg/adcc/adcc/backends/__init__.py:48: UserWarning: Could not check host program psi4 minimal version, since __version__ tag not found. Proceeding anyway.\n",
      "  \"\".format(module)\n"
     ]
    },
    {
     "name": "stdout",
     "output_type": "stream",
     "text": [
      "Starting cvs-adc2x singlet Jacobi-Davidson ...\n",
      "Niter n_ss  max_residual  time  Ritz values\n",
      "  1    12       0.83779  363ms  [10.95566726 11.09723173 11.22363262 11.38716475 11.45152996 11.46601874]\n",
      "  2    24        0.2046  654ms  [10.65380288 10.80467648 10.83594988 10.92569049 11.03253872 11.14745754]\n",
      "  3    36      0.010306  769ms  [10.63808994 10.78045883 10.81247902 10.84957006 10.93904758 11.01133284]\n",
      "  4    48     0.0013397  989ms  [10.63691445 10.77791559 10.81035773 10.84602802 10.93142281 11.00480161]\n",
      "  5    60     0.0001776   1.1s  [10.63683717 10.77744923 10.81011882 10.8455034  10.93044828 11.00389063]\n",
      "=== Restart ===\n",
      "  6    24    5.7686e-05  920ms  [10.63683012 10.7774054  10.81009624 10.84544999 10.93033759 11.00374539]\n",
      "  7    36    3.3654e-05  782ms  [10.63682842 10.7773967  10.81009167 10.84543763 10.93029998 11.00366411]\n",
      "  8    48    1.3715e-05   1.0s  [10.63682822 10.7773952  10.81009101 10.84543576 10.9302912  11.00363115]\n",
      "  9    60    3.1896e-06   1.2s  [10.6368282  10.77739496 10.8100909  10.84543533 10.93028896 11.00361892]\n",
      "=== Restart ===\n",
      " 10    24     1.101e-06  965ms  [10.6368282  10.77739494 10.81009089 10.84543527 10.93028857 11.0036166 ]\n",
      " 11    36    3.4414e-07  952ms  [10.6368282  10.77739493 10.81009089 10.84543525 10.93028841 11.00361564]\n",
      "=== Converged ===\n",
      "    Number of matrix applies:    132\n",
      "    Total solver time:             9s 735ms\n",
      "                                                                                                                          \n",
      "                                                  ADC Summary of Results                                                  \n",
      "                                                 ------------------------                                                 \n",
      "                                                                                                                          \n",
      "                             +--------------------------------------------------------------+                             \n",
      "                             | cvs-adc2x                               singlet ,  converged |                             \n",
      "                             +--------------------------------------------------------------+                             \n",
      "                             |  #        excitation energy     osc str    |v1|^2    |v2|^2  |                             \n",
      "                             |          (au)           (eV)                                 |                             \n",
      "                             |  0      10.63683      289.4428   0.0487    0.7516    0.2484  |                             \n",
      "                             |  1      10.77739      293.2679   0.0424    0.7806    0.2194  |                             \n",
      "                             |  2      10.81009      294.1576   0.0161    0.7733    0.2267  |                             \n",
      "                             |  3      10.84544      295.1193   0.0002    0.7127    0.2873  |                             \n",
      "                             |  4      10.93029      297.4283   0.0123    0.7286    0.2714  |                             \n",
      "                             |  5      11.00362      299.4236   0.0266    0.7326    0.2674  |                             \n",
      "                             +--------------------------------------------------------------+                             \n",
      "                                                                                                                          \n",
      "                                          End of ADC calculation. All went well!                                          \n",
      "                                                                                                                          \n",
      "                                                                                                                          \n",
      "                                        Algebraic Diagrammatic Construction (ADC)                                         \n",
      "                                       ===========================================                                        \n",
      "                                                                                                                          \n",
      "                               ADC method                   : cvs-adc2x                                                   \n",
      "                               Number of Singlet States     : 6                                                           \n",
      "                               CVS-ADC, Core Orbital Space  : 3                                                           \n",
      "                               Convergence threshold        : 1.0e-06                                                     \n",
      "                                                                                                                          \n",
      "Starting cvs-adc2x singlet Jacobi-Davidson ...\n",
      "Niter n_ss  max_residual  time  Ritz values\n",
      "  1    12        0.8629  361ms  [10.90478791 11.13511328 11.15327844 11.28450985 11.33440607 11.38128693]\n",
      "  2    24      0.077857  661ms  [10.57187957 10.7280176  10.7500245  10.81481915 10.87551659 10.9573124 ]\n",
      "  3    36     0.0044438  803ms  [10.55787715 10.70107989 10.72117402 10.76300132 10.83029624 10.92823133]\n",
      "  4    48    0.00056429   1.0s  [10.55669808 10.69941992 10.71948514 10.7602098  10.82771657 10.92598866]\n",
      "  5    60    7.2353e-05   1.1s  [10.5566053  10.6992194  10.71934404 10.75990483 10.82730706 10.92563592]\n",
      "=== Restart ===\n",
      "  6    24    1.1689e-05  924ms  [10.5566006  10.69920579 10.71933511 10.75988552 10.82726614 10.92560287]\n",
      "  7    36    2.4098e-06  822ms  [10.5566001  10.69920363 10.71933397 10.75988254 10.82725725 10.92559496]\n",
      "  8    48    5.8518e-07  987ms  [10.55660007 10.69920335 10.71933387 10.75988224 10.82725581 10.92559339]\n",
      "=== Converged ===\n",
      "    Number of matrix applies:    96\n",
      "    Total solver time:             6s 718ms\n",
      "                                                                                                                          \n",
      "                                                  ADC Summary of Results                                                  \n",
      "                                                 ------------------------                                                 \n",
      "                                                                                                                          \n",
      "                             +--------------------------------------------------------------+                             \n",
      "                             | cvs-adc2x                               singlet ,  converged |                             \n",
      "                             +--------------------------------------------------------------+                             \n",
      "                             |  #        excitation energy     osc str    |v1|^2    |v2|^2  |                             \n",
      "                             |          (au)           (eV)                                 |                             \n",
      "                             |  0       10.5566      287.2597   0.0391    0.7614    0.2386  |                             \n",
      "                             |  1       10.6992      291.1402   0.0170    0.7614    0.2386  |                             \n",
      "                             |  2      10.71933      291.6879   0.0133    0.7777    0.2223  |                             \n",
      "                             |  3      10.75988      292.7913   0.0004    0.7255    0.2745  |                             \n",
      "                             |  4      10.82726      294.6246   0.0268    0.7568    0.2432  |                             \n",
      "                             |  5      10.92559      297.3005   0.0038    0.7614    0.2386  |                             \n",
      "                             +--------------------------------------------------------------+                             \n",
      "                                                                                                                          \n",
      "                                          End of ADC calculation. All went well!                                          \n",
      "                                                                                                                          \n"
     ]
    }
   ],
   "source": [
    "struct  = gator.get_molecule(vinyl)\n",
    "basis   = gator.get_molecular_basis(struct,'6-31G')\n",
    "scf_res = gator.run_scf(struct,basis)\n",
    "adc_chf = gator.run_adc(struct,basis,scf_res,method='cvs-adc2x',singlets=6,core_orbitals=[2])\n",
    "adc_ch2 = gator.run_adc(struct,basis,scf_res,method='cvs-adc2x',singlets=6,core_orbitals=[3])"
   ]
  },
  {
   "cell_type": "markdown",
   "metadata": {},
   "source": [
    "From which the spectra can be decomposed:"
   ]
  },
  {
   "cell_type": "code",
   "execution_count": 23,
   "metadata": {},
   "outputs": [
    {
     "data": {
      "image/png": "[encoded data removed]",
      "text/plain": [
       "<Figure size 432x216 with 1 Axes>"
      ]
     },
     "metadata": {
      "needs_background": "light"
     },
     "output_type": "display_data"
    }
   ],
   "source": [
    "plt.figure(figsize=(6,3))\n",
    "\n",
    "# Spectrum from -CHF \n",
    "x1,y1 = au2ev*adc_chf.excitation_energy, adc_chf.oscillator_strength\n",
    "x1i,y1i = lorentzian(x1,y1,280,300,0.01,0.8)\n",
    "\n",
    "# Spectrum from -CH2\n",
    "x2,y2 = au2ev*adc_ch2.excitation_energy, adc_ch2.oscillator_strength\n",
    "x2i,y2i = lorentzian(x2,y2,280,300,0.01,0.8)\n",
    "\n",
    "# Plotting line spectra for full, area spectra for contributions\n",
    "plt.plot(x2i,y1i+y2i,'k-',linewidth=2.0)\n",
    "plt.fill_between(x2i, 0, y1i,alpha=0.6)\n",
    "plt.fill_between(x2i, y1i, y1i+y2i,alpha=0.6)\n",
    "\n",
    "plt.legend(('Full','-CHF','-CH2'),loc='upper left')\n",
    "plt.xlim(284,296)\n",
    "plt.show()"
   ]
  },
  {
   "cell_type": "markdown",
   "metadata": {},
   "source": [
    "This manner of decomposing the atomic contributions should be taken with some care, as it involves explicit calculation of all atomic sites, which:\n",
    "\n",
    "1. Requires a larger number of calculations, and care should be taken so that a region in which some states (e.g. for -CHF) are converged into, but not other (e.g. -CH$_2$).\n",
    "\n",
    "2. Does not strictly fit with the CVS philosophy, which uses the large separation in energy and spatial extend as a basis for separation. Energy separation can now be rather small, and for some systems degeneracies and near-degeneracies may lead to delocalized core orbitals. If so, all delocalized sites must be included in the same CVS space.\n",
    "\n",
    "Nevertheless, the lower computational cost per calculation of doing this decomposition may make it worth it.\n",
    "\n",
    "Alternatively, using the full space eigenvectors, we can perform a decomposition as...\n",
    "\n",
    "```{note}\n",
    "Do full space eigenvector decomposition and compare to above.\n",
    "\n",
    "- Either learn how eigenstates are constructed, or just split and divide describe_amplitude results.\n",
    "```\n",
    "\n",
    "Performing the same analysis with CPP-DFT, we decompose the solution vectors:"
   ]
  },
  {
   "cell_type": "code",
   "execution_count": 24,
   "metadata": {},
   "outputs": [
    {
     "data": {
      "image/png": "[encoded data removed]",
      "text/plain": [
       "<Figure size 432x216 with 1 Axes>"
      ]
     },
     "metadata": {
      "needs_background": "light"
     },
     "output_type": "display_data"
    }
   ],
   "source": [
    "# Number of occupied and unoccupied (alpha) MOs\n",
    "nocc  = molecule.number_of_alpha_electrons()\n",
    "nvirt = scf_drv.mol_orbs.number_mos() - nocc\n",
    "\n",
    "# Extract solution vectors\n",
    "solution_vecs = cpp_prop.get_property('solutions')\n",
    "x_solution,y_solution,z_solution = [],[],[]\n",
    "for w in freqs:\n",
    "    x_solution.append(solution_vecs[('x',w)])\n",
    "    y_solution.append(solution_vecs[('y',w)])\n",
    "    z_solution.append(solution_vecs[('z',w)])\n",
    "x_solution,y_solution,z_solution = np.array(x_solution),np.array(y_solution),np.array(z_solution)\n",
    "\n",
    "# Extract polarization-resolved response\n",
    "sX,sY,sZ = [],[],[]\n",
    "for w in freqs:\n",
    "    axx = -cpp_prop.rsp_property['response_functions'][('x', 'x', w)].imag\n",
    "    ayy = -cpp_prop.rsp_property['response_functions'][('y', 'y', w)].imag\n",
    "    azz = -cpp_prop.rsp_property['response_functions'][('z', 'z', w)].imag\n",
    "    sX.append(4.0/3.0 * np.pi * w * axx / 137.035999)\n",
    "    sY.append(4.0/3.0 * np.pi * w * ayy / 137.035999)\n",
    "    sZ.append(4.0/3.0 * np.pi * w * azz / 137.035999)\n",
    "\n",
    "# Create empty object of dimension nocc (to add spectrum for each occupied)\n",
    "spec_comp = []\n",
    "for occ in np.arange(0,nocc): spec_comp.append([])\n",
    "    \n",
    "# Appending spec_comp object with decomposed response\n",
    "for i in np.arange(len(freqs)):\n",
    "    x_tmp = x_solution[i]; y_tmp = y_solution[i]; z_tmp = z_solution[i]\n",
    "    for occ in np.arange(nocc):\n",
    "        comp_X = np.sum(np.abs(np.imag(x_tmp[occ*nvirt : (occ+1)*nvirt]))) / np.sum(np.abs(np.imag(x_tmp[:])))\n",
    "        comp_Y = np.sum(np.abs(np.imag(y_tmp[occ*nvirt : (occ+1)*nvirt]))) / np.sum(np.abs(np.imag(y_tmp[:])))\n",
    "        comp_Z = np.sum(np.abs(np.imag(z_tmp[occ*nvirt : (occ+1)*nvirt]))) / np.sum(np.abs(np.imag(z_tmp[:])))\n",
    "        spec_comp[occ].append((comp_X*sX[i]+comp_Y*sY[i]+comp_Z*sZ[i]))\n",
    "\n",
    "# Extract contribution of two carbon atoms\n",
    "cont_chf  = np.array(spec_comp[1])\n",
    "cont_ch2  = np.array(spec_comp[2])\n",
    "cont_full = sigma\n",
    "\n",
    "plt.figure(figsize=(6,3))\n",
    "# Create splines spectra for each component\n",
    "x     = np.arange(min(au2ev*freqs),max(au2ev*freqs),0.01)\n",
    "ychf  = interp1d(au2ev*freqs, cont_chf,  kind='cubic')\n",
    "ych2  = interp1d(au2ev*freqs, cont_ch2,  kind='cubic')\n",
    "yfull = interp1d(au2ev*freqs, cont_full, kind='cubic')\n",
    "# Spectrum from the non-carbon atoms\n",
    "yrest = yfull(x) - ychf(x) - ych2(x)\n",
    "# Plot full spectrum\n",
    "plt.plot(x,yfull(x),'k-',linewidth=2)\n",
    "# Plot components\n",
    "plt.fill_between(x, yrest, yrest+ychf(x), alpha=0.6)\n",
    "plt.fill_between(x, yrest+ychf(x), yrest+ych2(x)+ychf(x), alpha=0.6)\n",
    "plt.fill_between(x, 0, yrest, alpha=0.6)\n",
    "\n",
    "plt.legend(('Total','-CHF',r'-CH$_2$','Rest'))\n",
    "plt.xlim((272,284))\n",
    "plt.tight_layout()"
   ]
  },
  {
   "cell_type": "markdown",
   "metadata": {},
   "source": [
    "We see that the first two features corresponds to transitions from two different MOs, which here are to -CH$_2$ and -CHF.\n",
    "\n",
    "\n",
    "#### Polarization dependence\n",
    "\n",
    "- Discuss the possibilities of using polarization-sensitive measurements for investigating local structure.\n",
    "\n",
    "Resolving the Cartesian components of the response vectors is quite straightforward, with ADC:"
   ]
  },
  {
   "cell_type": "code",
   "execution_count": 28,
   "metadata": {},
   "outputs": [
    {
     "data": {
      "image/png": "[encoded data removed]",
      "text/plain": [
       "<Figure size 432x216 with 1 Axes>"
      ]
     },
     "metadata": {
      "needs_background": "light"
     },
     "output_type": "display_data"
    }
   ],
   "source": [
    "# Extract Cartesian components from ADC state (here skipping the prefactors)\n",
    "adc_sX,adc_sY,adc_sZ = [],[],[]\n",
    "adc_freq = adc_xas.excitation_energy\n",
    "indx = 0\n",
    "for w in adc_freq:\n",
    "    tmp_tms = adc_xas.transition_dipole_moment[indx]\n",
    "    adc_sX.append(w*tmp_tms[0]**2)\n",
    "    adc_sY.append(w*tmp_tms[1]**2)\n",
    "    adc_sZ.append(w*tmp_tms[2]**2)\n",
    "    indx += 1\n",
    "\n",
    "plt.figure(figsize=(6,3))\n",
    "# Broadened spectra for each component\n",
    "xmin,xmax = 284,296\n",
    "x,y   = au2ev*adc_freq, adc_sX\n",
    "xX,yX = lorentzian(x,y,xmin,xmax,0.01,0.8)\n",
    "x,y   = au2ev*adc_freq, adc_sY\n",
    "xY,yY = lorentzian(x,y,xmin,xmax,0.01,0.8)\n",
    "x,y   = au2ev*adc_freq, adc_sZ\n",
    "xZ,yZ = lorentzian(x,y,xmin,xmax,0.01,0.8)\n",
    "# Plot it\n",
    "plt.plot(xX,yX+yY+yZ,'k-',linewidth=2)\n",
    "plt.fill_between(xX, 0, yX,alpha=0.6)\n",
    "plt.fill_between(xX, yX, yX+yY,alpha=0.6)\n",
    "plt.fill_between(xX, yX+yY, yX+yY+yZ,alpha=0.6)\n",
    "\n",
    "plt.legend(('Isotropic','x-pol.','y-pol.','z-pol.'),fontsize=9)\n",
    "plt.xlim((xmin,xmax))\n",
    "plt.show()"
   ]
  },
  {
   "cell_type": "markdown",
   "metadata": {},
   "source": [
    "And for CPP-DFT:"
   ]
  },
  {
   "cell_type": "code",
   "execution_count": 29,
   "metadata": {},
   "outputs": [
    {
     "data": {
      "image/png": "[encoded data removed]",
      "text/plain": [
       "<Figure size 432x216 with 1 Axes>"
      ]
     },
     "metadata": {
      "needs_background": "light"
     },
     "output_type": "display_data"
    }
   ],
   "source": [
    "plt.figure(figsize=(6,3))\n",
    "x = np.arange(min(au2ev*freqs),max(au2ev*freqs),0.01)\n",
    "yX = interp1d(au2ev*freqs, sX, kind='cubic')\n",
    "yY = interp1d(au2ev*freqs, sY, kind='cubic')\n",
    "yZ = interp1d(au2ev*freqs, sZ, kind='cubic')\n",
    "plt.plot(x,yX(x)+yY(x)+yZ(x),'k-',linewidth=2)\n",
    "plt.fill_between(x, 0, yX(x), alpha=0.6)\n",
    "plt.fill_between(x, yX(x), yX(x)+yY(x), alpha=0.6)\n",
    "plt.fill_between(x, yX(x)+yY(x), yX(x)+yY(x)+yZ(x), alpha=0.6)\n",
    "plt.legend(('Isotropic','x-pol.','y-pol.','z-pol.'),fontsize=9)\n",
    "plt.xlim((272,284))\n",
    "plt.show()"
   ]
  },
  {
   "cell_type": "markdown",
   "metadata": {},
   "source": [
    "We see that the first two transitions are out-of-plane, being $\\pi^{\\ast}$.\n",
    "\n",
    "Using a larger basis set of aug-cc-pCVT/cc-pVTZ and comparing to experiment, we obtain:\n",
    "\n",
    "\n",
    "```{figure} ../img/xray/vinyl_decomp.svg\n",
    "---\n",
    "name: vinyl_decomp\n",
    "---\n",
    "ADC and TDDFT, atomic and polarization\n",
    "```\n",
    "\n",
    "```{note}\n",
    "Fix this.\n",
    "```\n",
    "\n",
    "Looks pretty good - compares well. Maybe improves with CAM-B3LYP (or evem CAM100%-B3LYP), so could potentially change that further down the line."
   ]
  },
  {
   "cell_type": "markdown",
   "metadata": {},
   "source": [
    "### Visualization\n",
    "\n",
    "```{note}\n",
    "Could add, e.g.,\n",
    "\n",
    "- Electron/hole densities\n",
    "\n",
    "- Attachment/detachment densities\n",
    "\n",
    "    - Compare to electron/hole - relaxation\n",
    "\n",
    "- NTO:s?\n",
    "\n",
    "- MOs?\n",
    "```\n",
    "\n",
    "### Descriptors\n",
    "\n",
    "```{note}\n",
    "Could add, e.g.,\n",
    "\n",
    "- Electron/hole sizes etc\n",
    "\n",
    "- Attachment/detachment sizes etc\n",
    "\n",
    "- v2, R, ...\n",
    "```"
   ]
  },
  {
   "cell_type": "markdown",
   "metadata": {},
   "source": [
    "## Larger systems\n",
    "\n",
    "### Valence-to-core XES\n",
    "\n",
    "Suitable TM-complex with minimal static correlation\n",
    "\n",
    "1. Overlap\n",
    "\n",
    "2. TDDFT(?)\n",
    "\n",
    "3. ADC?\n",
    "\n",
    "\n",
    "### XAS of uracil\n",
    "\n",
    "Maybe uracil or similar:\n",
    "\n",
    "1. Tailor CVS space for ADC ('cost-saving measures')\n",
    "\n",
    "2. Gas phase spectra\n",
    "\n",
    "3. Spectra with PE\n",
    "\n",
    "Might include massive system with DFT as well.\n",
    "\n",
    "\n",
    "### XES of uracil\n",
    "\n",
    "Maybe uracil again.\n",
    "\n",
    "1. Gas phase\n",
    "\n",
    "2. Environment with PE\n",
    "\n",
    "Could potentially consider some massive system - TDDFT versus overlap.\n",
    "\n",
    "\n",
    "### Coupling to molecular dynamics\n",
    "\n",
    "Some system...\n",
    "\n",
    "1. Dynamics + XAS\n",
    "\n",
    "2. Dynamics + XES\n",
    "\n",
    "3. Inclusion of environment?\n",
    "\n",
    "4. Core-hole dynamics with some model?\n",
    "\n",
    "## Transient X-ray spectroscopy\n",
    "\n",
    "```{note}\n",
    "Longer-term goal.\n",
    "\n",
    "- Two-step approach\n",
    "\n",
    "- Coupling\n",
    "```"
   ]
  },
  {
   "cell_type": "markdown",
   "metadata": {},
   "source": [
    "## Self-interaction error in DFT\n",
    "\n",
    "For a single-electron systems the following equality should hold for the two-electron terms:\n",
    "\n",
    "$$\n",
    "J[\\rho] + E_{xc} [\\rho] = 0.0\n",
    "$$\n",
    "\n",
    "This cancellation is achieved for, e.g. Hartree–Fock theory, but for any approximate functionals in DFT it will instead result in an erronous contribution to the energy. DFT-based methods generally suffer from self-interaction error (SIE), which corresponds to the sum of Coulomb and exchange self-interactions that remain because of the use of approximate exchange functionals. In more detail, the Coulomb self-repulsion of each electron included in the Coulomb operator is exactly canceled by the nonlocal exchange self-attraction in Hartree--Fock theory, but this is no longer the case when the exchange operator is replaced by an approximate exchange functional.\n",
    "\n",
    "Consider the ionization potential of water, as calculated with MO energy and $\\Delta\\textrm{SCF}$. Former a reasonable representative of IP from TDDFT XAS calculation."
   ]
  },
  {
   "cell_type": "code",
   "execution_count": 304,
   "metadata": {
    "tags": [
     "hide-output"
    ]
   },
   "outputs": [
    {
     "name": "stdout",
     "output_type": "stream",
     "text": [
      "converged SCF energy = -76.3570352138422  <S^2> = 9.876544e-13  2S+1 = 1\n",
      "converged SCF energy = -56.4125421194361  <S^2> = 0.75441021  2S+1 = 2.0044054\n",
      "converged SCF energy = -76.2984404502067  <S^2> = 6.9277917e-13  2S+1 = 1\n",
      "converged SCF energy = -56.3921764305246  <S^2> = 0.75419443  2S+1 = 2.00419\n",
      "converged SCF energy = -76.3458605029087  <S^2> = 1.9799273e-11  2S+1 = 1\n",
      "converged SCF energy = -56.4125421194361  <S^2> = 0.75441021  2S+1 = 2.0044054\n",
      "converged SCF energy = -76.3012084721052  <S^2> = 3.3217873e-12  2S+1 = 1\n",
      "converged SCF energy = -56.3896010586894  <S^2> = 0.7552122  2S+1 = 2.0052054\n",
      "converged SCF energy = -76.3352647255066  <S^2> = 1.375966e-11  2S+1 = 1\n",
      "converged SCF energy = -56.4125421194361  <S^2> = 0.75441021  2S+1 = 2.0044054\n",
      "converged SCF energy = -76.304577252447  <S^2> = 2.9345415e-11  2S+1 = 1\n",
      "converged SCF energy = -56.3873473076527  <S^2> = 0.75643162  2S+1 = 2.0064213\n",
      "converged SCF energy = -76.325199834941  <S^2> = 1.0948575e-11  2S+1 = 1\n",
      "converged SCF energy = -56.4125421194361  <S^2> = 0.75441021  2S+1 = 2.0044054\n",
      "converged SCF energy = -76.3084953868845  <S^2> = 7.4606987e-12  2S+1 = 1\n",
      "converged SCF energy = -56.3853783589998  <S^2> = 0.75788093  2S+1 = 2.0078655\n",
      "converged SCF energy = -76.3853635207931  <S^2> = 1.0879209e-10  2S+1 = 1\n",
      "converged SCF energy = -56.4125421194361  <S^2> = 0.75441021  2S+1 = 2.0044054\n",
      "converged SCF energy = -76.3129197258739  <S^2> = 2.0952129e-12  2S+1 = 1\n",
      "converged SCF energy = -56.3836609608719  <S^2> = 0.75959312  2S+1 = 2.0095702\n"
     ]
    }
   ],
   "source": [
    "# Prepare molecule object\n",
    "mol       = gto.Mole(); mol.atom  = water; mol.basis = '6-31G'; mol.build()\n",
    "\n",
    "# HF exchange and creating result containers\n",
    "hf_exc  = [0.0,0.25,0.50,0.75,1.0]\n",
    "hf_blyp,hf_pbe = [[],[]], [[],[]]\n",
    "\n",
    "for h_x in hf_exc:\n",
    "    ###### BxLYP (Slater exchange 0.08, except when HF i 1.00)\n",
    "    if h_x == 1.0: s_x = 0.00\n",
    "    else:          s_x = 0.08 \n",
    "    b_x      = 1.00 - h_x - s_x\n",
    "    v_e, v_l = 0.19, 0.81\n",
    "    # Neutral calculation\n",
    "    dft_res    = scf.UKS(mol)\n",
    "    dft_res.xc = f'{h_x:} * HF + {s_x:} * Slater + {b_x:} * B88, {v_l:} * LYP + {v_e:} * VWN'\n",
    "    dft_res.kernel()\n",
    "    # Core-hole calculation\n",
    "    mo0  = copy.deepcopy(dft_res.mo_coeff); occ0 = copy.deepcopy(dft_res.mo_occ); occ0[0][0] = 0.0; dft_ion = scf.UKS(mol)\n",
    "    dft_ion.xc = f'{HF_X:} * HF + {LDA_X:} * LDA + {B88_X:} * B88, {LYP_C:} * LYP + {VWN_C:} * VWN'\n",
    "    scf.addons.mom_occ(dft_ion, mo0, occ0); dft_ion.kernel()\n",
    "    # Extract results\n",
    "    hf_blyp[0].append(au2ev*(dft_ion.energy_tot() - dft_res.energy_tot()))\n",
    "    hf_blyp[1].append(-au2ev*dft_res.mo_energy[0][0])\n",
    "    ###### PBEx\n",
    "    p_x = 1.0 - h_x\n",
    "    # Neutral calculation\n",
    "    dft_res    = scf.UKS(mol)\n",
    "    dft_res.xc = f'{h_x:} * HF + {p_x:} * PBE, PBE'\n",
    "    dft_res.kernel()\n",
    "    # Core-hole calculation\n",
    "    mo0  = copy.deepcopy(dft_res.mo_coeff); occ0 = copy.deepcopy(dft_res.mo_occ);  occ0[0][0] = 0.0; dft_ion = scf.UKS(mol)\n",
    "    dft_ion.xc = f'{h_x:} * HF + {p_x:} * PBE, PBE'\n",
    "    scf.addons.mom_occ(dft_ion, mo0, occ0); dft_ion.kernel()\n",
    "    # Extract results\n",
    "    hf_pbe[0].append(au2ev*(dft_ion.energy_tot() - dft_res.energy_tot()))\n",
    "    hf_pbe[1].append(-au2ev*dft_res.mo_energy[0][0])"
   ]
  },
  {
   "cell_type": "markdown",
   "metadata": {},
   "source": [
    "With results:"
   ]
  },
  {
   "cell_type": "code",
   "execution_count": 315,
   "metadata": {},
   "outputs": [
    {
     "data": {
      "image/png": "[encoded data removed]",
      "text/plain": [
       "<Figure size 432x288 with 1 Axes>"
      ]
     },
     "metadata": {
      "needs_background": "light"
     },
     "output_type": "display_data"
    }
   ],
   "source": [
    "plt.figure(figsize=(6,4))\n",
    "plt.plot(hf_exc,hf_blyp[0],'bs--')\n",
    "plt.plot(hf_exc,hf_blyp[1],'ro--')\n",
    "plt.plot(hf_exc,hf_pbe[0],'d--',color='orange')\n",
    "plt.plot(hf_exc,hf_pbe[1],'g^--')\n",
    "plt.plot([-0.1,1.1],[539.9,539.9],'k-')\n",
    "plt.legend((r'BxLYP ($\\Delta$SCF)','BxLYP (Koopmans\\')',r'PBEx ($\\Delta$SCF)','PBEx (Koopmans\\')','Expt'))\n",
    "plt.xlim((-0.025,1.025)); plt.ylim((508,562.))\n",
    "plt.xlabel('HF exchange [%]')\n",
    "plt.ylabel('Ionization potential [eV]')\n",
    "plt.show()"
   ]
  },
  {
   "cell_type": "markdown",
   "metadata": {},
   "source": [
    "As can be seen, the IP error from MO energies (which scales as the XAS error) does not appreciably depend on the functional, save for HF exchange.\n",
    "\n",
    "- Radial distribution for functionals?\n",
    "\n",
    "- Calculate SIE?\n",
    "\n",
    "## Relativity\n",
    "\n",
    "Total relativistic and correlation corrections as a function of Z\n",
    "\n",
    "not additive with correlation\n",
    "\n",
    "### Scalar relativistic effects\n",
    "\n",
    "#### For ionization potentials"
   ]
  },
  {
   "cell_type": "code",
   "execution_count": 34,
   "metadata": {
    "tags": [
     "hide-output"
    ]
   },
   "outputs": [
    {
     "name": "stdout",
     "output_type": "stream",
     "text": [
      "converged SCF energy = -2.85516047724517  <S^2> = 1.3322676e-15  2S+1 = 1\n",
      "converged SCF energy = -2.85525304501235  <S^2> = 1.110223e-15  2S+1 = 1\n",
      "converged SCF energy = -1.99426858617921  <S^2> = 0.75  2S+1 = 2\n",
      "converged SCF energy = -1.99436880481848  <S^2> = 0.75  2S+1 = 2\n",
      "converged SCF energy = -14.5723376313364  <S^2> = 0  2S+1 = 1\n",
      "converged SCF energy = -14.5748455751041  <S^2> = -1.3322676e-15  2S+1 = 1\n",
      "converged SCF energy = -10.0357274640245  <S^2> = 0.75629212  2S+1 = 2.0062823\n",
      "converged SCF energy = -10.0378218682322  <S^2> = 0.75630468  2S+1 = 2.0062948\n",
      "converged SCF energy = -37.596291563267  <S^2> = 8.8817842e-16  2S+1 = 1\n",
      "converged SCF energy = -37.6112425609782  <S^2> = -3.5527137e-15  2S+1 = 1\n",
      "converged SCF energy = -26.6586016324333  <S^2> = 0.75725116  2S+1 = 2.0072381\n",
      "SCF not converged.\n",
      "SCF energy = -26.6699783724615 after 50 cycles  <S^2> = 0.75726851  2S+1 = 2.0072553\n",
      "converged SCF energy = -74.665428938125  <S^2> = -5.3290705e-15  2S+1 = 1\n",
      "converged SCF energy = -74.7175020694568  <S^2> = 5.3290705e-15  2S+1 = 1\n",
      "converged SCF energy = -54.5945032394038  <S^2> = 0.75658425  2S+1 = 2.0065734\n",
      "converged SCF energy = -54.632827234573  <S^2> = 0.75660276  2S+1 = 2.0065919\n",
      "converged SCF energy = -128.488775570938  <S^2> = -2.6645353e-15  2S+1 = 1\n",
      "converged SCF energy = -128.625415373727  <S^2> = -3.5527137e-15  2S+1 = 1\n",
      "converged SCF energy = -96.5516222970474  <S^2> = 0.75578137  2S+1 = 2.005773\n",
      "converged SCF energy = -96.6510283847277  <S^2> = 0.75580087  2S+1 = 2.0057925\n",
      "converged SCF energy = -199.608297084141  <S^2> = -3.5527137e-15  2S+1 = 1\n",
      "converged SCF energy = -199.914940213925  <S^2> = 5.3290705e-15  2S+1 = 1\n",
      "converged SCF energy = -151.491503261379  <S^2> = 0.75303231  2S+1 = 2.00303\n",
      "converged SCF energy = -151.717159175497  <S^2> = 0.75305441  2S+1 = 2.0030521\n",
      "converged SCF energy = -288.787205052154  <S^2> = 1.7763568e-15  2S+1 = 1\n",
      "converged SCF energy = -289.390917359485  <S^2> = -4.4408921e-15  2S+1 = 1\n",
      "converged SCF energy = -220.963046126516  <S^2> = 0.75243322  2S+1 = 2.0024317\n",
      "converged SCF energy = -221.408449536373  <S^2> = 0.75245636  2S+1 = 2.0024549\n",
      "converged SCF energy = -397.413437578762  <S^2> = -3.5527137e-15  2S+1 = 1\n",
      "converged SCF energy = -398.496590616317  <S^2> = -7.1054274e-15  2S+1 = 1\n",
      "converged SCF energy = -306.488275279816  <S^2> = 0.75212654  2S+1 = 2.0021254\n",
      "converged SCF energy = -307.289416362766  <S^2> = 0.75215123  2S+1 = 2.0021501\n",
      "converged SCF energy = -526.799865309822  <S^2> = 0  2S+1 = 1\n",
      "converged SCF energy = -528.611698214493  <S^2> = -3.5527137e-15  2S+1 = 1\n",
      "converged SCF energy = -409.378251604582  <S^2> = 0.75188904  2S+1 = 2.0018881\n",
      "converged SCF energy = -410.72209109867  <S^2> = 0.75191517  2S+1 = 2.0019143\n"
     ]
    }
   ],
   "source": [
    "z, rel_mo, rel_delta, rel_e = [],[],[],[]\n",
    "for i in np.arange(2,20,2):\n",
    "    struct = str(i)+'   0.0  0.0  0.0'\n",
    "    mol = gto.Mole(); mol.atom  = struct; mol.basis = 'unc-ccpvdz'; mol.build()\n",
    "    scf_nr  = scf.UHF(mol); scf_nr.kernel()\n",
    "    scf_rel = scf.UHF(mol).x2c1e(); scf_rel.kernel()\n",
    "    z.append(i)\n",
    "    rel_mo.append(27.2114*(scf_nr.mo_energy[0][0]-scf_rel.mo_energy[0][0]))\n",
    "    mo0 = copy.deepcopy(scf_nr.mo_coeff); occ0 = copy.deepcopy(scf_nr.mo_occ); occ0[0][0] = 0.0\n",
    "    ion_nr  = scf.UHF(mol); scf.addons.mom_occ(ion_nr, mo0, occ0);  ion_nr.kernel()\n",
    "    ion_rel = scf.UHF(mol).x2c1e();     scf.addons.mom_occ(ion_rel, mo0, occ0);     ion_rel.kernel()\n",
    "    rel_delta.append(27.2114*((ion_rel.e_tot-scf_rel.e_tot)-(ion_nr.e_tot-scf_nr.e_tot)))\n",
    "    rel_e.append(27.2114*(ion_rel.e_tot-scf_rel.e_tot))"
   ]
  },
  {
   "cell_type": "markdown",
   "metadata": {},
   "source": [
    "yielding"
   ]
  },
  {
   "cell_type": "code",
   "execution_count": 38,
   "metadata": {},
   "outputs": [
    {
     "data": {
      "image/png": "[encoded data removed]",
      "text/plain": [
       "<Figure size 720x288 with 2 Axes>"
      ]
     },
     "metadata": {
      "needs_background": "light"
     },
     "output_type": "display_data"
    }
   ],
   "source": [
    "plt.figure(figsize=(10,4))\n",
    "plt.subplot(121)\n",
    "plt.plot(z,rel_mo)\n",
    "plt.plot(z,rel_delta)\n",
    "plt.legend(('From MO energies',r'From $\\Delta$SCF'))\n",
    "plt.xlabel('Atomic number')\n",
    "plt.ylabel('Relativistic effects [eV]')\n",
    "plt.subplot(122)\n",
    "plt.plot(z,100*np.array(rel_mo)/np.array(rel_e))\n",
    "plt.plot(z,100*np.array(rel_delta)/np.array(rel_e))\n",
    "plt.xlabel('Atomic number')\n",
    "plt.ylabel('Relativistic effects [% of total energy]')\n",
    "plt.show()"
   ]
  },
  {
   "cell_type": "markdown",
   "metadata": {},
   "source": [
    "#### For spectra (XAS)"
   ]
  },
  {
   "cell_type": "code",
   "execution_count": 147,
   "metadata": {
    "tags": [
     "hide-output"
    ]
   },
   "outputs": [
    {
     "name": "stdout",
     "output_type": "stream",
     "text": [
      "converged SCF energy = -75.9890271783229\n"
     ]
    },
    {
     "name": "stderr",
     "output_type": "stream",
     "text": [
      "/home/thomas/pkg/adcc/adcc/backends/__init__.py:48: UserWarning: Could not check host program psi4 minimal version, since __version__ tag not found. Proceeding anyway.\n",
      "  \"\".format(module)\n"
     ]
    },
    {
     "name": "stdout",
     "output_type": "stream",
     "text": [
      "Starting cvs-adc2 singlet Jacobi-Davidson ...\n",
      "Niter n_ss  max_residual  time  Ritz values\n",
      "  1    10        2.7777  716ms  [20.27588296 20.31155183 20.86140432 20.92171887 20.92996834]\n",
      "  2    20      0.035824  780ms  [19.72872545 19.81092766 20.31040554 20.40470691 20.49837544]\n",
      "  3    30    4.1402e-05   1.1s  [19.72388013 19.80673445 20.3057139  20.39997868 20.49772007]\n",
      "=== Converged ===\n",
      "    Number of matrix applies:    30\n",
      "    Total solver time:             2s 702ms\n",
      "converged SCF energy = -76.0403950942123\n",
      "Starting cvs-adc2 singlet Jacobi-Davidson ...\n",
      "Niter n_ss  max_residual  time  Ritz values\n",
      "  1    10        2.7842  483ms  [20.29049204 20.32651304 20.87612706 20.93658562 20.9451677 ]\n",
      "  2    20      0.036027  388ms  [19.74278629 19.82524258 20.32473443 20.41889866 20.51251234]\n",
      "  3    30    4.1677e-05  555ms  [19.73792472 19.82102908 20.32001931 20.41414446 20.51185242]\n",
      "=== Converged ===\n",
      "    Number of matrix applies:    30\n",
      "    Total solver time:             1s 458ms\n"
     ]
    }
   ],
   "source": [
    "mol = gto.Mole()\n",
    "mol.atom  = water; mol.basis = 'unc-6-31G'\n",
    "mol.build()\n",
    "\n",
    "# non-relativistic\n",
    "scf_nr  = scf.RHF(mol); scf_nr.kernel()\n",
    "adc_nr  = adcc.cvs_adc2(scf_nr,n_singlets=5,core_orbitals=1)\n",
    "\n",
    "# relativistic\n",
    "scf_rel = scf.RHF(mol).x2c1e(); scf_rel.kernel()\n",
    "adc_rel = adcc.cvs_adc2(scf_rel,n_singlets=5,core_orbitals=1)"
   ]
  },
  {
   "cell_type": "markdown",
   "metadata": {},
   "source": [
    "with results:"
   ]
  },
  {
   "cell_type": "code",
   "execution_count": 148,
   "metadata": {},
   "outputs": [
    {
     "data": {
      "image/png": "[encoded data removed]",
      "text/plain": [
       "<Figure size 432x288 with 1 Axes>"
      ]
     },
     "metadata": {
      "needs_background": "light"
     },
     "output_type": "display_data"
    },
    {
     "name": "stdout",
     "output_type": "stream",
     "text": [
      "Energy shift of the first feature: 0.38 eV\n"
     ]
    }
   ],
   "source": [
    "plt.figure()\n",
    "adc_nr.plot_spectrum(label='Non-relativistic')\n",
    "adc_rel.plot_spectrum(label='Relativistic')\n",
    "plt.legend(); plt.show()\n",
    "print('Energy shift of the first feature:',\n",
    "      np.around(au2ev*(adc_rel.excitation_energy[0]-adc_nr.excitation_energy[0]),2),'eV')"
   ]
  },
  {
   "cell_type": "markdown",
   "metadata": {},
   "source": [
    "### Spin-orbit coupling\n",
    "\n",
    "```{note}\n",
    "Will not be able to illustrate for a while, but maybe insert short discussion.\n",
    "```"
   ]
  },
  {
   "cell_type": "markdown",
   "metadata": {},
   "source": [
    "## Relaxation\n",
    "\n",
    "1. Radial distribution: Z, Z with hole, Z+1\n",
    "\n",
    "2. Total density: formaldehyde\n",
    "\n",
    "3. Maybe: visualization of effects for XAS and XES\n",
    "\n",
    "\n",
    "```{figure} ../img/xray/relax_form.svg\n",
    "---\n",
    "name: relax_form\n",
    "---\n",
    "foo\n",
    "```\n",
    "\n",
    "```{figure} ../img/xray/relax_processes.svg\n",
    "---\n",
    "name: relax_processes\n",
    "---\n",
    "foo\n",
    "```\n",
    "\n",
    "\n",
    "### Including with $\\Delta\\textrm{SCF}$ methods\n",
    "\n",
    "```{note}\n",
    "Illustrative calculations.\n",
    "```\n",
    "\n",
    "### Including for wave function methods\n",
    "\n",
    "```{note}\n",
    "Maybe relaxation versus v2, or so.\n",
    "```\n",
    "\n",
    "\n",
    "### Including for DFT-based methods\n",
    "\n",
    "```{note}\n",
    "Not sure anything can really be said.\n",
    "```\n"
   ]
  },
  {
   "cell_type": "markdown",
   "metadata": {},
   "source": [
    "## Basis set considerations\n",
    "\n",
    "The basis set requirements of X-ray spectrum calculations will depend strongly on which spectroscopy\n",
    "\n",
    "- XPS and XES probes occupied states, and thus need a good description of those\n",
    "\n",
    "- XAS and RIXS probes excited states, and thus need an improved description also of this region\n",
    "\n",
    "However, in both cases the relaxation due to the creation of a core-hole need to be enabled, which yield requirements of reasonable flexibility of the core and inner valence region. This is not typically the case, as most studies deals with valence electron and thus have a minimal or close to minimal description of the core region.\n",
    "\n",
    "A number of approaches for improving the basis sets have been developed:\n",
    "\n",
    "1. Augment the Dunning basis sets with core-polarizing functions, e.g. cc-pV*n*Z $\\rightarrow$ cc-pCV*n*Z\n",
    "\n",
    "2. Adding extra flexibility by performing full or partial decontraction, e.g.\n",
    "    1. u6-311++G** is 6-311++G** with decontracted 1s function of the probed element\n",
    "    2. un-6-311++G** is a fully decontracted 6-311++G** basis set\n",
    "\n",
    "3. Use basis functions from the next element, is inspired by the equvalent core/Z+1 approximation\n",
    "\n",
    "Here we focus on the basis set effects for calculations of the IP of water, and we encourage the interested reader to do the same excercise for XES, as well as for XAS (where the augmentation of diffuse functions also need to be considered)."
   ]
  },
  {
   "cell_type": "code",
   "execution_count": null,
   "metadata": {
    "tags": [
     "hide-input"
    ]
   },
   "outputs": [],
   "source": [
    "u6311gss  = {'O': gto.basis.parse('''\n",
    "O    S\n",
    "   8588.500                  1.000000 \n",
    "O    S\n",
    "   1297.230                  1.000000 \n",
    "O    S\n",
    "    299.2960                 1.000000 \n",
    "O    S\n",
    "     87.37710                1.000000 \n",
    "O    S\n",
    "     25.67890                1.000000 \n",
    "O    S\n",
    "      3.740040               1.000000 \n",
    "O    SP\n",
    "     42.11750                0.113889               0.0365114\n",
    "      9.628370               0.920811               0.237153\n",
    "      2.853320              -0.00327447             0.819702\n",
    "O    SP\n",
    "      0.905661               1.000000               1.000000\n",
    "O    SP\n",
    "      0.255611               1.000000               1.000000\n",
    "O    D\n",
    "      1.292                  1.000000\n",
    "'''), 'H': '6-311G**'}\n",
    "un6311gss = {'O': gto.basis.parse('''\n",
    "O    S\n",
    "   8588.500                  1.000000 \n",
    "O    S\n",
    "   1297.230                  1.000000 \n",
    "O    S\n",
    "    299.2960                 1.000000 \n",
    "O    S\n",
    "     87.37710                1.000000 \n",
    "O    S\n",
    "     25.67890                1.000000 \n",
    "O    S\n",
    "      3.740040               1.000000 \n",
    "O    SP\n",
    "     42.11750                1.000000               1.000000\n",
    "O    SP\n",
    "      9.628370               1.000000               1.000000\n",
    "O    SP\n",
    "      2.853320               1.000000               1.000000\n",
    "O    SP\n",
    "      0.905661               1.000000               1.000000\n",
    "O    SP\n",
    "      0.255611               1.000000               1.000000\n",
    "O    D\n",
    "      1.292                  1.000000\n",
    "'''), 'H': '6-311G**'}\n",
    "z6311gss  = {'O': gto.basis.parse('''\n",
    "O    S\n",
    "   8588.500                  0.00189515\n",
    "   1297.230                  0.0143859\n",
    "    299.2960                 0.0707320\n",
    "     87.37710                0.2400010\n",
    "     25.67890                0.5947970\n",
    "      3.740040               0.2808020\n",
    "O    SP\n",
    "     42.11750                0.113889               0.0365114\n",
    "      9.628370               0.920811               0.237153\n",
    "      2.853320              -0.00327447             0.819702\n",
    "O    SP\n",
    "      0.905661               1.000000               1.000000\n",
    "O    SP\n",
    "      0.255611               1.000000               1.000000\n",
    "O    D\n",
    "      1.292                  1.000000\n",
    "O    S\n",
    "  11427.10                   0.00180093\n",
    "   1722.350                  0.0137419\n",
    "    395.7460                 0.0681334\n",
    "    115.1390                 0.2333250\n",
    "     33.60260                0.5890860\n",
    "      4.919010               0.2995050\n",
    "O    SP\n",
    "     55.44410                0.114536               0.0354609\n",
    "     12.63230                0.920512               0.237451\n",
    "      3.717560              -0.00337804             0.820458\n",
    "O    SP\n",
    "      1.165450               1.000000               1.000000\n",
    "O    SP\n",
    "      0.321892               1.000000               1.000000\n",
    "O    D\n",
    "      1.750                  1.000000\n",
    "'''), 'H': '6-311G**'}"
   ]
  },
  {
   "cell_type": "markdown",
   "metadata": {
    "tags": [
     "hide-input"
    ]
   },
   "source": [
    "Exotic version of basis sets found above\n",
    "\n",
    "```python\n",
    "basis_sets = ['6-311G**',u6311gss,un6311gss,z6311gss, 'cc-pVDZ', 'cc-pCVDZ', 'cc-pVTZ', 'cc-pCVTZ','cc-pVQZ', 'cc-pCVQZ']\n",
    "ip_hf, ip_mp2, ip_ccsd, ip_b3lyp, n_bas = [],[],[],[],[]\n",
    "for basis in basis_sets:\n",
    "    mol = gto.Mole(); mol.atom  = water; mol.basis = basis\n",
    "    mol.build()\n",
    "    scfres = scf.UHF(mol); scfres.kernel()\n",
    "    mo0 = copy.deepcopy(scfres.mo_coeff); occ0 = copy.deepcopy(scfres.mo_occ); occ0[0][0] = 0.0\n",
    "    scfion = scf.UHF(mol); scf.addons.mom_occ(scfion, mo0, occ0); scfion.kernel()\n",
    "    ip_hf.append(au2ev*(scfion.energy_tot() - scfres.energy_tot()))\n",
    "    ccsd_res = cc.UCCSD(scfres).run(); ccsd_ion = cc.UCCSD(scfion).run(max_cycle=500)\n",
    "    ip_ccsd.append(au2ev*(ccsd_ion.e_tot - ccsd_res.e_tot))\n",
    "    ip_mp2.append(au2ev*(ccsd_ion.e_hf+ccsd_ion.emp2-(ccsd_res.e_hf+ccsd_res.emp2)))\n",
    "    scfres = scf.UKS(mol); scfres.xc = 'b3lyp'; scfres.kernel()\n",
    "    mo0 = copy.deepcopy(scfres.mo_coeff); occ0 = copy.deepcopy(scfres.mo_occ); occ0[0][0] = 0.0\n",
    "    scfion = scf.UKS(mol); scf.addons.mom_occ(scfion, mo0, occ0); scfion.xc = 'b3lyp'; scfion.kernel()\n",
    "    ip_b3lyp.append(au2ev*(scfion.energy_tot() - scfres.energy_tot()))\n",
    "    n_bas.append(len(scfres.mo_occ[0]))\n",
    "    \n",
    "plt.figure(figsize=(10,5))\n",
    "basis_set_labels = ['6-311G**','u6-311G**','un6-311G**','6-311G** (Z+1)', 'cc-pVDZ', 'cc-pCVDZ', 'cc-pVTZ', 'cc-pCVTZ','cc-pVQZ', 'cc-pCVQZ']\n",
    "plt.plot(n_bas,ip_hf,'r*'); plt.plot(n_bas,ip_mp2,'bv')\n",
    "plt.plot(n_bas,ip_ccsd,'d',color='orange'); plt.plot(n_bas,ip_b3lyp,'go')\n",
    "plt.plot([min(n_bas)-5,max(n_bas)+5],[539.9,539.9],'k:')\n",
    "plt.plot([min(n_bas)-5,max(n_bas)+5],[539.9-0.3,539.9-0.3],'k--')\n",
    "plt.xlim((min(n_bas)-5,max(n_bas)+5))\n",
    "plt.ylabel('Ionization potential [eV]')\n",
    "plt.legend(('HF','MP2','CCSD','B3LYP','Expt','Expt - 0.3 eV'))\n",
    "plt.xticks(n_bas,basis_set_labels,rotation=70,fontsize=10)\n",
    "plt.tight_layout(); plt.savefig('basis_xps.svg')\n",
    "plt.show()\n",
    "```\n",
    "\n",
    "The execution of which yields\n",
    "\n",
    "\n",
    "\n",
    "```{figure} ../img/xray/basis_xps.svg\n",
    "---\n",
    "name: basis_xps\n",
    "---\n",
    "foo\n",
    "```\n",
    "\n",
    "On the y-axis we see the basis set labels, with order and position determined by the number of basis functions.\n",
    "\n",
    "We see that..."
   ]
  },
  {
   "cell_type": "markdown",
   "metadata": {},
   "source": [
    "## General recommendations\n",
    "\n",
    "What follows are some general suggestions for practical calculations, which is naturally an  incomplete list with some of the Authors biases unavoidably being included. Consider this as a hopefully helpful guide,but not more than that.\n",
    "\n",
    "### *Precision* versus *accuracy*\n",
    "\n",
    "Because of the many difficulties in modeling X-ray spectra (relativity, relaxation, self-interaction, high energies...), even very sophisticated (and expensive!) methods often struggles in getting good *absolute* energies. These cannot be expected to be as good as for valence excitations. I argue that the focus should be more on properly reproducing *relative* rather than *absolute* trends, which can be formulated as focusing on  precision over accuracy, where\n",
    "\n",
    "- Accuracy correspond to the deviation from the absolute energies and intensities, or the systematic error.\n",
    "\n",
    "- Precision focus on the reproducability of relative energies and intensities, or (relative) error distribution.\n",
    "\n",
    "We have [shown] that good accuracy does not nedessarily correspond to as good precision, and our philosophy is that obtaining good trends and relative errors is sufficient for prectical studies (provided we have some idea of the source of the absolute error, and good reasons to think that it will noit differ between the systems). Absolute errors can then be corrected by a mere absolute shift in energy.\n",
    "\n",
    "\n",
    "### Electronic stucture method\n",
    "\n",
    "Single determinant wave function methods can include relaxation by the use of (at least) doubly excited configurations. These methods tend to yield relatively consistent description of the processes, and are thus recommended to be used for (at least) controls. Due to the cost, however, they are often unviable for larger systems. Families and recommendations include:\n",
    "\n",
    "- Coupled cluster\n",
    "\n",
    "    - CCSD has been noted to yield consistent results for XAS and XES, and \n",
    "    \n",
    "    - CC3 has been seen to improve the XAS results, and can be used in a multilayer manner\n",
    "    \n",
    "    - If computational cost is a concern, CC2 has been seen to work quite well\n",
    "    \n",
    "- Algebraic-diagrammatic construction scheme\n",
    "\n",
    "    - ADC(2) yields superiour results for XES, and works quite well for the valence states in XAS (the shift to higher-lying features are likely to be compressed, however). \n",
    "    \n",
    "    - ADC(2)-x has been noted to yield best results for XAS, despite being quite unsuitable for valence excitations. This has been identified as a result of balancing effects for capturing the strong relaxation effects in XAS.\n",
    "    \n",
    "    - ADC(3/2) has been noted to yield a poorer description of both XAS and XES, despite its higher level of theory and higher computational cost. *However*, for X-ray emission spectra of systems in an environment, double-excitations may interfer with the emission states for ADC(2) and ADC(2)-x. ADC(3/2) will then be most suitable.\n",
    "\n",
    "With TDDFT (or CPP-DFT), the exchange-correlation functional depends on the edge and the element, as the exact balance of relaxation and self-interaction varies significantly. Good absolute energies are often obtained by balancing the error of the lack of relaxation versus the self-interaction, which is achieved by changing the amount of HF exchange. Focusing on the second row we have seen that:\n",
    "\n",
    "- CAM-B3LYP (potentially using 100% asymptotic HF) has been seen to yield good relative energies (precision), but poor absolute energies (accuracy). Intensitites are also quite good, so a mere absolute shift often yield good agreement with experiment.\n",
    "\n",
    "- SRC2-R1 is from a family of short-range correlated functionals, formulated for good absolute XAS energies. \n",
    "\n",
    "If static correlation becomes substantial, methods based on a single Slater determinant reference will become unsuitable. ADC will be worst off, on account of the MP reference, with CC being slightly more successful for these cases. Spin-flip ADC and CC can improve the situation for certain few-reference systems. TDDFT will be a bit more capable of considering these cases. However, systems with strong static correlation should be studied carefully, and multi-reference methods are likely the safest way forward. Need to know which active space to choose, etc.\n",
    "\n",
    "Transition-metal complexes can have strong static correlation, which would aim to multi-reference methods. For some cases ADC or CC works quite well - just check it. Furthermore, TM complexes can need (spin-orbit) relativistic effects, and quadruple-allowed transition can become substantial.\n",
    "\n",
    "Other methods, such as... can also be used.\n",
    "\n",
    "\n",
    "### Basis set selection\n",
    "\n",
    "\n",
    "As previously [discussed], standard basis set often include a minimal, or close to minimal, basis set for the core region, as computational chemistry commonly focus on the valence electrons. For core spectroscopies this region thus often need to be augmented by some method, which may include decontracting core basis functions, including core-polarizing functions, augmenting the basis set with basis functions for $Z++1$ or $Z+1/2$, or some other method. It can be noted, however, that this augmentation is not necissary for high precision, provided that the lacking description of the core region yield similar errors for different states and/or atomic sites.\n",
    "\n",
    "Nevertheless, my general recommendation would be to use cc-pCVTZ for the atoms probed, and cc-pVTZ for the remaining atoms. Dunning basis set 6-311G** has also been seen to perform quite well, and the core basis functions can here be decontracted for u6-311G**. Hydrogen atoms and atoms away from the probed core orbitals can likely be dropped to a double-$\\zeta$ desciption. A double-$\\zeta$ (*e.g.* cc-pVDZ/cc-pCVDZ or 6-31G*/u6-31G*) can be used with some care for larger systems and more approximate methods.\n",
    "\n",
    "- **XPS:** If some $\\Delta\\textrm{SCF}$ method is used, a flexible description of the core and valence region \n",
    "\n",
    "- **XAS:** Probes unoccupied states, and thus need to be augmented to describe this region. For the valence-type final states it is likely to be sufficient to add more diffuse functions, *i.e.* aug-cc-pCVTZ or 6-311++G**. Adding the Dunning diffuse functions are likely not necessary for hydrogen. Furthermore, if Rydberg/mixed-Rydberg states are to be studied, augmentation with additional diffuse function can be necessary.\n",
    "\n",
    "- **XES:** Shares requirements with XPS.\n",
    "\n",
    "- **RIXS:** Probes both the occupied and unoccupied states, and thus need a good (and balanced) description of both. The recommendations for XAS and XES can thus be considered to transfer over to this spectroscopy.\n",
    "\n",
    "Note that for heavier atoms the core region contains several shells. As the core-polarizing functions are formulated to capture core-valence correlation, it will then more efficiently augment the outer, rather than the inner, core region. AS such, additional (inner) core basis functions would be needed for approaching the BSL of these atoms. Still, with the discussion of precision above, the weak interaction between the inner core and valence region means that core-polarization may anyway just yield an absolute error correction.\n",
    "\n",
    "\n",
    "### Relativistic effects\n",
    "\n",
    "If the *K*-edge is considered, scalar relativistic effects are only needed, as can be done with X2C or Douglas-Kroll-Hess. Alternatively, it is often sufficient to just add an absolute scalar shift in energy for a non-relativistic calculation (such a shift is likely needed anyway, as absolute energies are notoriously hard to reproduce). This absolute shift can be estimated by simple MO energy calculations, as shown [above].\n",
    "\n",
    "If *l>0* is to be considered, spin-orbit splitting effects will potentially be substantial. Including this can be done with..."
   ]
  },
  {
   "cell_type": "markdown",
   "metadata": {},
   "source": [
    "## Notes\n",
    "\n",
    "```{margin} Margin\n",
    "This is how it would look.\n",
    "```\n",
    "\n",
    "```{note}\n",
    "**Not included (yet)**\n",
    "- SO-coupling\n",
    "- beyond electrinc-dipole approximation\n",
    "- multireference methods\n",
    "```"
   ]
  },
  {
   "cell_type": "code",
   "execution_count": null,
   "metadata": {},
   "outputs": [],
   "source": []
  }
 ],
 "metadata": {
  "celltoolbar": "Tags",
  "kernelspec": {
   "display_name": "Python 3",
   "language": "python",
   "name": "python3"
  },
  "language_info": {
   "codemirror_mode": {
    "name": "ipython",
    "version": 3
   },
   "file_extension": ".py",
   "mimetype": "text/x-python",
   "name": "python",
   "nbconvert_exporter": "python",
   "pygments_lexer": "ipython3",
   "version": "3.7.9"
  }
 },
 "nbformat": 4,
 "nbformat_minor": 4
}
