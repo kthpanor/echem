{
 "cells": [
  {
   "cell_type": "markdown",
   "metadata": {},
   "source": [
    "# X-ray spectroscopies\n",
    "\n",
    "\n",
    "Tuning the photon energy to the X-ray regime, processes involving the transition of core electrons can be probed, providing measurements which are very sensitive to elements and local environment {cite}`xasxesbook2016, xrayrev2018, xfelbook2017`. Here we will discuss the modeling of four such spectroscopies, as illustrated in {numref}`xray-processes` \n",
    "\n",
    "\n",
    "```{figure} ../img/xray/processes.svg\n",
    "---\n",
    "name: xray-processes\n",
    "---\n",
    "Electronic processes involved in the X-ray sectroscopies discussed in this tutorial.\n",
    "```\n",
    "\n",
    "- In [X-ray photoemission spectroscopy (XPS)](sec:xray_calc_xps) the photoionization of the molecular system is probed, yielding insight into *occupied states*.\n",
    "\n",
    "- In [X-ray absorption spectroscopy (XAS)](sec:xray_calc_xas) the transition of core electrons to occupied or continuum states is probed, providing information on *unoccupied states* or the *local chemical environment*.\n",
    "\n",
    "- In [X-ray emission spectroscopy (XES)](sec:xray_calc_xes) the fluorescent decay of higher-lying electrons into a previously prepared core-hole is measured, yielding information on *occupied states*.\n",
    "\n",
    "- In [resonant inelastic X-ray scattering (RIXS)](sec:xray_calc_rixs) (also termed resonant X-ray emission spectroscopy, or resonant X-ray Raman spectroscopy), the core-excitation and subsequent fluorescent decay is measured, yielding information on both *occupied and unoccupied states*, including the ability of probing *(local) vibrational modes*.\n",
    "\n",
    "The element-specificity of these techniques arise from the significant differences in the energy of core orbital energies (and thus in excitation/fluorescence energies), as illustrated in {numref}`edges_elements`:\n",
    "\n",
    "```{figure} ../img/xray/edges_elements.svg\n",
    "---\n",
    "name: edges_elements\n",
    "---\n",
    "Linear attenuation coefficient for the noble gases and for carbon to neon. Data extracted from [NIST](https://www.nist.gov/pml/x-ray-form-factor-attenuation-and-scattering-tables).\n",
    "```\n",
    "\n",
    "Here the linear attenuation coefficient for four noble gases (left), and carbon to neon (right) are shown, with the former including labels for the origin of each set of edge/set of features (using the Siegbahn notation with $n=1,2,3,...$ labeled $K, L, M, ...$). We see that there are significant energy differences between the various absorption features, which then enables us to focus on particular elements and edges by tuning the photon energies.\n",
    "\n",
    "Modeling these processes are complicated by a number of factors, such as:\n",
    "\n",
    "- Strong [relaxation effects](sec:xray_topics_relax), originating in the significant change in shielding of the nuclear charge arising from the creation/annihilation of a core-hole.\n",
    "\n",
    "- Potentially significant impact from [relativity](sec:xray_topics_rel), with the strong potential experienced by the core electrons yielding large shifts due to (scalar) relativistic effects. In addition, spin-orbit coupling split degeneracies in, e.g., $2p$ (the $L_{2,3}$-edge), necessitating at least an approximate inclusion of such effects for these edges.\n",
    "\n",
    "- Computational chemistry more often is concerned with valence properties, meaning that standard [basis sets](sec:xray_topics_basis) are not tailored for core-transition processes.\n",
    "\n",
    "- For DFT method there are substantial influences due to the [self-interaction error](sec:xray_topics_sie), which are strong due to the compact nature of core orbitals.\n",
    "\n",
    "- Core-excitation and -ionization processes are [embedded in a continumm of valence-ionized states](sec:xray_calc_cvs), making the application of, e.g., a standard Davidson approach for resolving eigenstates unsuitable.\n",
    "\n",
    "- The [localization/delocalization of core-holes](sec:xray_topics_chloc) for systems with symmetrically equivalent atoms, and impact on practical calculations.\n",
    "\n",
    "- For higher photon energies the contribution of *multipole-allowed* states enables transitions which are electric-dipole forbidden.\n",
    "\n",
    "This tutorial will now discuss the calculation of these X-ray spectra, focusing on how this is achieved using TDDFT and ADC. Following [illustrations](xray_calc.ipynb) of how the processes can be modeled, basic [analysis](xray_analysis.ipynb) schemes and [aspects](xray_aspects.ipynb) raised above will be considered in some detail. The tutorial closes with a discussion on considering [larger systems](xray_large.ipynb) as well as some general [recommendations](xray_rec.ipynb) for practical calculations."
   ]
  }
 ],
 "metadata": {
  "celltoolbar": "Tags",
  "kernelspec": {
   "display_name": "Python 3",
   "language": "python",
   "name": "python3"
  },
  "language_info": {
   "codemirror_mode": {
    "name": "ipython",
    "version": 3
   },
   "file_extension": ".py",
   "mimetype": "text/x-python",
   "name": "python",
   "nbconvert_exporter": "python",
   "pygments_lexer": "ipython3",
   "version": "3.7.9"
  }
 },
 "nbformat": 4,
 "nbformat_minor": 4
}
