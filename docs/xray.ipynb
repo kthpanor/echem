{
 "cells": [
  {
   "cell_type": "markdown",
   "metadata": {},
   "source": [
    "X-ray spectroscopies\n",
    "=================\n",
    "\n",
    "General aspects.\n",
    "\n",
    "Figures:\n",
    "- spectroscopies\n",
    "- IP of elements?\n",
    "\n",
    "Compare and contrast to UV/vis\n",
    "\n",
    "In X-ray absorption spectroscopy the photon energy is tuned such that core electrons are targeted and excited to either bound or continuum states, and X-ray emission spectroscopy measures the subsequent decay from such an excited state. These core excitations/de-excitations exhibit strong relaxation effects, making theoretical considerations of the processes particularly challenging. While the removal of a valence electron leaves the remaining electrons relatively unaffected, removing core electrons has a substantial effect on the other electrons due to the significant change in the screening of the nucleus.\n",
    "\n",
    "### Maybe first focus on ADC, and then move to TDDFT... Hm."
   ]
  },
  {
   "cell_type": "markdown",
   "metadata": {},
   "source": [
    "X-ray photoemission spectroscopy\n",
    "--------------------------------------------------\n",
    "\n",
    "ESCA molecule"
   ]
  },
  {
   "cell_type": "code",
   "execution_count": 30,
   "metadata": {},
   "outputs": [
    {
     "name": "stdout",
     "output_type": "stream",
     "text": [
      "converged SCF energy = -75.9838703827192  <S^2> = 6.3380412e-12  2S+1 = 1\n",
      "\n"
     ]
    }
   ],
   "source": [
    "from pyscf import gto, scf\n",
    "import copy\n",
    "import numpy as np\n",
    "import matplotlib.pyplot as plt\n",
    "molecule = 'O       0.0000000000     0.0000000000     0.1178336003;\\\n",
    "            H      -0.7595754146    -0.0000000000    -0.4713344012;\\\n",
    "            H       0.7595754146     0.0000000000    -0.4713344012'\n",
    "mol = gto.Mole()\n",
    "mol.atom  = molecule; mol.basis = '6-31G'\n",
    "mol.build(); scfres = scf.UHF(mol); scfres.kernel(); print()"
   ]
  },
  {
   "cell_type": "code",
   "execution_count": 22,
   "metadata": {},
   "outputs": [
    {
     "name": "stdout",
     "output_type": "stream",
     "text": [
      "converged SCF energy = -56.0754789470865  <S^2> = 0.76257807  2S+1 = 2.0125388\n",
      "\n"
     ]
    }
   ],
   "source": [
    "mo0 = copy.deepcopy(scfres.mo_coeff); occ0 = copy.deepcopy(scfres.mo_occ)\n",
    "occ0[0][0] = 0.0  # beta core hole\n",
    "scfion = scf.UHF(mol); scfion.conv_tol = 1e-12; scfion.conv_tol_grad = 1e-9\n",
    "scf.addons.mom_occ(scfion, mo0, occ0)\n",
    "scfion.kernel(); print()"
   ]
  },
  {
   "cell_type": "code",
   "execution_count": 44,
   "metadata": {
    "scrolled": true
   },
   "outputs": [
    {
     "name": "stdout",
     "output_type": "stream",
     "text": [
      "Ionization potential: 541.735 eV\n"
     ]
    }
   ],
   "source": [
    "print('Ionization potential:',np.around(27.2114*(scfion.energy_tot() - scfres.energy_tot()),3),'eV')"
   ]
  },
  {
   "cell_type": "code",
   "execution_count": 57,
   "metadata": {},
   "outputs": [
    {
     "name": "stdout",
     "output_type": "stream",
     "text": [
      "converged SCF energy = -412.27920254005  <S^2> = 2.7561033e-08  2S+1 = 1.0000001\n",
      "SCF not converged.\n",
      "SCF energy = -401.292344334552 after 50 cycles  <S^2> = 0.87006777  2S+1 = 2.1166651\n",
      "converged SCF energy = -401.341585452585  <S^2> = 0.80717734  2S+1 = 2.0563826\n",
      "SCF not converged.\n",
      "SCF energy = -401.418242514604 after 50 cycles  <S^2> = 1.2389495  2S+1 = 2.4404504\n",
      "converged SCF energy = -401.511489489204  <S^2> = 0.79315028  2S+1 = 2.0426946\n"
     ]
    },
    {
     "data": {
      "image/png": "[encoded data removed]",
      "text/plain": [
       "<Figure size 576x288 with 1 Axes>"
      ]
     },
     "metadata": {
      "needs_background": "light"
     },
     "output_type": "display_data"
    }
   ],
   "source": [
    "uracil   = ' C     0.000000     0.313341     1.284889;\\\n",
    "             C     0.000000    -1.129946     1.193271;\\\n",
    "             C     0.000000    -1.722413    -0.011510;\\\n",
    "             N     0.000000    -1.002386    -1.171240;\\\n",
    "             C     0.000000     0.377102    -1.212137;\\\n",
    "             N     0.000000     0.946281     0.038980;\\\n",
    "             O     0.000000     0.966706     2.309430;\\\n",
    "             O     0.000000     1.007669    -2.246643;\\\n",
    "             H     0.000000    -2.791379    -0.129000;\\\n",
    "             H     0.000000     1.954858     0.054525;\\\n",
    "             H     0.000000    -1.456186    -2.067038;\\\n",
    "             H     0.000000    -1.702677     2.098114'\n",
    "mol_ura = gto.Mole()\n",
    "mol_ura.atom  = uracil; mol_ura.basis = '6-31G'\n",
    "mol_ura.build(); scf_ura = scf.UHF(mol_ura); scf_ura.kernel()\n",
    "ionization_energies = []\n",
    "for i in [4,5,6,7]:\n",
    "    mo0 = copy.deepcopy(scf_ura.mo_coeff); occ0 = copy.deepcopy(scf_ura.mo_occ); occ0[0][i] = 0.0\n",
    "    ion_tmp = scf.UHF(mol_ura); scf.addons.mom_occ(ion_tmp, mo0, occ0); ion_tmp.kernel()\n",
    "    ionization_energies.append(27.2114*(ion_tmp.energy_tot() - scf_ura.energy_tot()))\n",
    "\n",
    "def lorentzian(x, y, xmin, xmax, xstep, gamma):\n",
    "    xi = np.arange(xmin,xmax,xstep); yi=np.zeros(len(xi))\n",
    "    for i in range(len(xi)):\n",
    "        for k in range(len(x)): yi[i] = yi[i] + y[k] * (gamma/2.) / ( (xi[i]-x[k])**2 + (gamma/2.)**2 )\n",
    "    return xi,yi\n",
    "\n",
    "plt.figure(figsize=(8,4))\n",
    "xi,yi = lorentzian(ionization_energies,np.ones((len(ionization_energies))),290,302,0.01,0.4)\n",
    "plt.plot(xi,yi); plt.xlim((290,302)); plt.show()"
   ]
  },
  {
   "cell_type": "markdown",
   "metadata": {},
   "source": [
    "X-ray absorption spectroscopy\n",
    "--------------------------------------------\n",
    "\n",
    "XAS: focus on NEXAFS (prototypical spectrum, maybe)\n",
    "\n",
    "Additionally, the core-excited states are embedded in a manifold of valence-excited states that needs to be considered by some computationally feasible method.\n"
   ]
  },
  {
   "cell_type": "code",
   "execution_count": 5,
   "metadata": {
    "scrolled": true
   },
   "outputs": [
    {
     "name": "stdout",
     "output_type": "stream",
     "text": [
      "                                                                                                                          \n",
      "                                        Algebraic Diagrammatic Construction (ADC)                                         \n",
      "                                       ===========================================                                        \n",
      "                                                                                                                          \n",
      "                               ADC method                   : cvs-adc2x                                                   \n",
      "                               Number of Singlet States     : 4                                                           \n",
      "                               CVS-ADC, Core Orbital Space  : 1                                                           \n",
      "                               Convergence threshold        : 1.0e-06                                                     \n",
      "                                                                                                                          \n",
      "Starting cvs-adc2x singlet Jacobi-Davidson ...\n",
      "Niter n_ss  max_residual  time  Ritz values\n",
      "  1     8        1.2622  296ms  [20.27095808 20.30194987 20.86973126 20.91162963]\n",
      "  2    16      0.036992  328ms  [19.72495218 19.8073679  20.50869353 20.51185933]\n",
      "  3    24     0.0034033  357ms  [19.71743636 19.79804125 20.49294316 20.50515463]\n",
      "  4    32    0.00026052  465ms  [19.71715415 19.79771387 20.49099765 20.50498331]\n",
      "  5    40    2.2702e-05  483ms  [19.71714329 19.79770363 20.49082001 20.50497023]\n",
      "=== Restart ===\n",
      "  6    16    3.9318e-06   1.2s  [19.71714288 19.79770302 20.49080531 20.5049683 ]\n",
      "  7    24     7.467e-07   1.2s  [19.71714285 19.79770295 20.4908021  20.50496755]\n",
      "=== Converged ===\n",
      "    Number of matrix applies:    56\n",
      "    Total solver time:             4s 385ms\n",
      "                                                                                                                          \n",
      "                                                  ADC Summary of Results                                                  \n",
      "                                                 ------------------------                                                 \n",
      "                                                                                                                          \n",
      "                             +--------------------------------------------------------------+                             \n",
      "                             | cvs-adc2x                               singlet ,  converged |                             \n",
      "                             +--------------------------------------------------------------+                             \n",
      "                             |  #        excitation energy     osc str    |v1|^2    |v2|^2  |                             \n",
      "                             |          (au)           (eV)                                 |                             \n",
      "                             |  0      19.71714      536.5308   0.0176    0.8002    0.1998  |                             \n",
      "                             |  1       19.7977      538.7229   0.0367    0.8089    0.1911  |                             \n",
      "                             |  2       20.4908      557.5831   0.0089     0.786     0.214  |                             \n",
      "                             |  3      20.50497      557.9686   0.1007    0.8443    0.1557  |                             \n",
      "                             +--------------------------------------------------------------+                             \n",
      "                                                                                                                          \n",
      "                                          End of ADC calculation. All went well!                                          \n",
      "                                                                                                                          \n"
     ]
    }
   ],
   "source": [
    "import gator\n",
    "struct = gator.get_molecule(\"\"\"\n",
    "O       0.0000000000     0.0000000000     0.1187290000\n",
    "H      -0.7532010000    -0.0000000000    -0.4749160000\n",
    "H       0.7532010000     0.0000000000    -0.4749160000\n",
    "\"\"\")\n",
    "basis  = gator.get_molecular_basis(struct,'6-31G')\n",
    "scfres = gator.run_scf(struct,basis)\n",
    "adcres = gator.run_adc(struct,basis,scfres,method='cvs-adc2x',singlets=4,core_orbitals=1)"
   ]
  },
  {
   "cell_type": "markdown",
   "metadata": {},
   "source": [
    "Global spectrum?\n",
    "\n",
    "### XAS: In continuum\n",
    "\n",
    "CVS and CPP.\n",
    "\n",
    "- illustration: water spectrum for 0-1000 eV\n",
    "\n",
    "\n",
    "### Relaxation effects\n",
    "\n",
    "Inclusion through electron correlation, Maybe Z+1. Maybe $\\Delta$SCF.\n",
    "\n",
    "- Illustration: ADC(n) hierarchy (1, 2, 2x, 3 for water)\n",
    "\n",
    "\n",
    "1. Polarization dependence - illustrate\n",
    "\n",
    "2. Atom assignment - illustrate\n",
    "\n",
    "3. Visualization and descriptors - illustrate/tabulate\n",
    "\n",
    "4. CVS versus CPP? Example\n",
    "\n",
    "\n",
    "Maybe: moving to heavier elements: splitting of 2p lines and quadrupole-allowed transitions\n",
    "\n",
    "Relativistic effects\n",
    "\n",
    "Maybe RIXS\n",
    "\n",
    "Consider ethylene, vinylfluoride, difluoroethylene, and trifluoroethylene:\n",
    "\n",
    "\n"
   ]
  },
  {
   "cell_type": "markdown",
   "metadata": {},
   "source": [
    "X-ray emission spectroscopy\n",
    "--------------------------------------------\n",
    "\n",
    "- maybe illustration: Augen/fluorescent yield\n",
    "\n",
    "Discuss difference XAS/XES\n",
    "\n",
    "### XES: delta or overlap model\n",
    "\n",
    "MOM etc"
   ]
  },
  {
   "cell_type": "markdown",
   "metadata": {},
   "source": [
    "Resonant inelastic X-ray scattering\n",
    "--------------------------------------------------\n"
   ]
  },
  {
   "cell_type": "markdown",
   "metadata": {},
   "source": [
    "TDDFT\n",
    "----------\n",
    "\n",
    "### Self-interaction error\n",
    "\n",
    "While there is no principal differences in considering either the valence or core densities in DFT, the use of approximate functionals introduce an error that is more important to account for when core electrons are addressed: the self-interaction error (SIE). This error is a result of spurious self-interactions for all electrons, but the larger density of the core orbitals makes it more influential for such a considerations — localized densities have larger self-repulsion than delocalized densities. For a single-electron systems the following equality should hold for the two-electron terms:\n",
    "\n",
    "\\begin{equation}\n",
    "J[\\rho] + E_{xc} [\\rho] = 0.0\n",
    "\\end{equation}\n",
    "\n",
    "This cancellation is achieved for, e.g. Hartree–Fock theory, but for any approximate functionals in DFT it will instead result in an erronous contribution to the energy. As the erronous self-interaction occurs in terms of self-repulsion, this will lead to an increase in the energy of the orbital in question (i.e. the absolute value will decrease). The simplest correction to this error was proposed by Perdew and Zunger, by correcting the total exchange-correlation energy by a term\n",
    "\n",
    "\\begin{equation}\n",
    "XE PZ = E DFT -\n",
    "(J[\\rho_i] + E_{xc}[\\rho_i]),\n",
    "\\end{equation}\n",
    "\n",
    "\n",
    "summed over all singly occupied orbitals. This correction improves the potential energy surfaces, but gives minor improvements for orbital energies. Several schemes of correcting the SIE also exists for correcting orbital energies, 111–113 but none have been utilized in this thesis — we argue instead that the relative energies are most important and thus, in most cases, treat the SIE as a scalar element-dependent error to be accounted for. The SIE will be more thoroughly discussed in Section 5.2, but we here want to reiterate that the self-interaction depends strongly on the density of the orbital, and is thus most significant for core electrons of heavy elements.\n",
    "\n",
    "DFT-based methods generally suffer from self-interaction error (SIE), which corresponds to the sum of Coulomb and exchange self-interactions that remain because of the use of approximate exchange functionals. In more detail, the Coulomb self-repulsion of each electron included in the Coulomb operator is exactly canceled by the nonlocal exchange self-attraction in Hartree--Fock theory, but this is no longer the case when the exchange operator is replaced by an approximate exchange functional. 128 For occupied orbitals, the SIE is defined as\n",
    "\n",
    "Imamura and Nakai have determined the ground-state SIE of the C(1s) orbital of CO and shown that it amounts to 0.76, 1.30, and 0.40 eV at the BLYP, 141,142 B3LYP, 143,144 and BHHLYP 145 levels of theory, respectively. 146 The source origin of this SIE in the SCF approximation is the Coulomb operator with its sum over occupied orbitals, and, without a cancellation from the full exact Hartree--Fock exchange operator, it will lead to the SIE given in eq 36. Virtual orbitals will consequently not see an SIE in accordance with that for occupied orbitals. Instead, Imamura and Nakai defined an SIE for virtual orbitals in the context of electronic transitions and which depends on the occupied core orbital from which an excitation takes place.\n",
    "\n",
    "- Spectrum as function of exact exchange\n",
    "\n",
    "- maybe table with RPA/TDA\n",
    "\n",
    "- maybe something with B3LYP versus CAM or something? (Functional dependence)"
   ]
  },
  {
   "cell_type": "markdown",
   "metadata": {},
   "source": [
    "Exercises\n",
    "--------------\n",
    "\n",
    "1. Compute the X-ray absorption spectrum of water using ADC(2) and B3LYP, with variations of Dunning basis sets. How does it look...\n",
    "\n",
    "2. Compute the C K-edge X-ray absorption spectra of the ethylene molecule using CVS-ADC(0), CVS-ADC(1), and CVS-ADC(2) in combination with the def2-SVP basis set. Choose an appropriate core space. What are the differences between the spectra computed at the different CVS-ADC levels? Are the differences between levels of theory larger in the case of core excitations or valence excitations? \n",
    "\n",
    "3. Compute the C K-edge XAS of vinylfluoride at the CVS-ADC(2) level of theory and using the def2-SVP basis set. Choose an appropriate core space and an appropriate number of excitation vectors. How does your result compare to the calculated spectrum from Ref. \\cite{fransson2013}? \n",
    "\n",
    "4. Plot your CVS-ADC(2) spectrum in comparison to the experimental spectrum from Ref. \\cite{fransson2013} (provided in the file {vinylfluoride.dat}). Identify the contribution of each of the two chemically inequivalent carbon atoms to the experimental peaks.\n",
    "\n",
    "5. Compute also the C K-edge XAS spectra of difluoroethylene, and trifluoroethylene at the CVS-ADC(2) level of theory. Compare the spectra of ethylene, vinylfluoride, difluoroethylene, and trifluoroethylene to each other. What are the effects of fluorine substitution on the C K-edge spectrum? How large are the chemical shifts?\n"
   ]
  }
 ],
 "metadata": {
  "kernelspec": {
   "display_name": "Python 3",
   "language": "python",
   "name": "python3"
  },
  "language_info": {
   "codemirror_mode": {
    "name": "ipython",
    "version": 3
   },
   "file_extension": ".py",
   "mimetype": "text/x-python",
   "name": "python",
   "nbconvert_exporter": "python",
   "pygments_lexer": "ipython3",
   "version": "3.7.9"
  }
 },
 "nbformat": 4,
 "nbformat_minor": 4
}
