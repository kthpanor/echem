{
 "cells": [
  {
   "cell_type": "markdown",
   "metadata": {},
   "source": [
    "# X-ray spectroscopies\n",
    "\n",
    "Tuning the photon energy to the X-ray regime, processes involving the transition of core electrons can be probed, providing measurements which are very sensitive to elements and local environment [refs: norman18, bergmann17]. Here we will discuss the modeling of four such spectroscopies, as illustrated in {numref}`xray-processes`:\n",
    "\n",
    "- In [X-ray photoemission spectroscopy (XPS)](#x-ray-photoemission-spectroscopy) the photoionization of the molecular system is probed, yielding insight into *occupied* states.\n",
    "\n",
    "- In [X-ray absorption spectroscopy (XAS)](#x-ray-absorption-spectroscopy) the transition of core electrons to occupied or continuum states is probed, providing information on *unoccupied* states or the *local environment*.\n",
    "\n",
    "- In [X-ray emission spectroscopy (XES)](#x-ray-emission-spectroscopy) the fluorescent decay of higher-lying electrons into a previously prepared core-hole is measured, yielding information on *occupied* states.\n",
    "\n",
    "- In [resonant inelastic X-ray scattering (RIXS)](#resonant-inelastic-x-ray-scattering) (also termed resonant X-ray emission spectroscopy, or resonant (X-ray) Raman spectroscopy), the core-excitation and subsequent fluorescent decay is measured, yielding information on both *occupied* and *unoccupied* states, including the ability of probing (local) *vibrational modes*.\n",
    "\n",
    "\n",
    "```{figure} ../img/xray/processes.svg\n",
    "---\n",
    "name: xray-processes\n",
    "---\n",
    "Involved processes.\n",
    "```\n",
    "\n",
    "The element-specificity of these techniques arise from the significant differences in excitation energies, as illustrated in {numref}`edges_elements`. Here the linear attenuation coefficient for four noble gases (left), and carbon to neon (right) are shown, with the former including labels for the origin of each set of features. We see that there are typically significant energy differences between the various absorption features, which then enables us to focus on particular elements and edges by tuning the probe to specific photon energies.\n",
    "\n",
    "\n",
    "```{figure} ../img/xray/edges_elements.svg\n",
    "---\n",
    "name: edges_elements\n",
    "---\n",
    "Linear attenuation coefficient for the noble gases and carbon to neon, in order to show element specificity. Noble gas panel also labeling features. Data extracted from [NIST](https://www.nist.gov/pml/x-ray-form-factor-attenuation-and-scattering-tables).\n",
    "```\n",
    "\n",
    "Modeling these processes are complicated by a number of factors, such as\n",
    "\n",
    "- Strong [relaxation effects](#relaxation), arising from the significant change in shielding of the nuclear charge arising from the creation/annihilation of a core-hole.\n",
    "\n",
    "- Potentially significant impact from [relativistic effects](#relativity), with the strong potential experienced by the core electrons yielding large shifts when going from a non-relativistic framework. In addition, spin-orbit coupling split degeneracies in, e.g., $2p$ (the $L_{2,3}$-edge), necessitating at least an approximate inclusion of such couplings.\n",
    "\n",
    "- Core-excitation and -ionization processes are [embedded in a continumm of valence-ionized states](#decoupling-from-valence-continuum), making the application of, e.g., a standard Davidson approach for resolving eigenstates unsuitable.\n",
    "\n",
    "- For higher photon energies the contribution of *quadruple-allowed* states enables transitions which are electric-dipole forbidden.\n",
    "\n",
    "- Computational chemistry commonly considers valence properties, and meaning that, e.g., standard [basis sets](#basis-set-considerations) are not as suitable for core processes.\n",
    "\n",
    "\n",
    "This tutorial will discuss the modeling of XPS, XAS, XES, and RIXS, following which analysis methods and some of the issued mentioned above will be considered in some detail."
   ]
  },
  {
   "cell_type": "code",
   "execution_count": 54,
   "metadata": {
    "tags": [
     "remove-output",
     "hide-input"
    ]
   },
   "outputs": [],
   "source": [
    "# loading modules and defining broadening functions\n",
    "\n",
    "# standard Python modules and functions\n",
    "import matplotlib.pyplot as plt\n",
    "import numpy as np\n",
    "import copy\n",
    "from scipy.interpolate import interp1d\n",
    "\n",
    "# QC software suites and functionalities\n",
    "import veloxchem as vlx\n",
    "from pyscf import gto, scf, mp, cc\n",
    "import gator\n",
    "import adcc\n",
    "from veloxchem.rsplinabscross import LinearAbsorptionCrossSection\n",
    "\n",
    "# for vlx\n",
    "from mpi4py import MPI\n",
    "comm = MPI.COMM_WORLD\n",
    "silent_ostream = vlx.OutputStream(None)\n",
    "\n",
    "# conversion factor\n",
    "au2ev = 27.211386\n",
    "\n",
    "# broadening functions\n",
    "def lorentzian(x, y, xmin, xmax, xstep, gamma):\n",
    "    xi = np.arange(xmin,xmax,xstep); yi=np.zeros(len(xi))\n",
    "    for i in range(len(xi)):\n",
    "        for k in range(len(x)): yi[i] = yi[i] + y[k] * (gamma/2.) / ( (xi[i]-x[k])**2 + (gamma/2.)**2 )\n",
    "    return xi,yi\n",
    "\n",
    "def gaussian(x, y, xmin, xmax, xstep, sigma):\n",
    "    xi = np.arange(xmin,xmax,xstep); yi=np.zeros(len(xi))\n",
    "    for i in range(len(xi)):\n",
    "        for k in range(len(y)):\n",
    "            yi[i] = yi[i] + y[k]*np.e**(-((xi[i]-x[k])**2)/(2*sigma**2))\n",
    "    return xi,yi"
   ]
  },
  {
   "cell_type": "markdown",
   "metadata": {},
   "source": [
    "## X-ray photoemission spectroscopy\n",
    "\n",
    "In XPS the photoemission of electrons is measured, yielding information on binding energies of core orbitals. Here we focus on the calculation of ionization potentials (IP:s), from which the isotropic photoemission spectrum is formed by giving each IP the same intensity and then broadening with a function. Can go beyond that using Dyson orbitals, but it doesn't make much of a difference [ref].\n",
    "\n",
    "### From Koopmans' theorem\n",
    "\n",
    "A simple model for estimating ionization potentials and electron affinities is from Koopmans' theorem, where it is calculated from the MO energies:"
   ]
  },
  {
   "cell_type": "code",
   "execution_count": 55,
   "metadata": {},
   "outputs": [
    {
     "name": "stdout",
     "output_type": "stream",
     "text": [
      "1s IP from the Koopmans theorem: -559.501\n"
     ]
    }
   ],
   "source": [
    "# water structure from MP2/cc-pVTZ\n",
    "water = \"\"\"\n",
    "O       0.0000000000     0.0000000000     0.1178336003\n",
    "H      -0.7595754146    -0.0000000000    -0.4713344012\n",
    "H       0.7595754146     0.0000000000    -0.4713344012\n",
    "\"\"\"\n",
    "\n",
    "# SCF calculation\n",
    "molecule = vlx.Molecule.read_str(water, units='angstrom')\n",
    "basis    = vlx.MolecularBasis.read(molecule, \"6-31G\")\n",
    "scf_drv  = vlx.ScfRestrictedDriver(comm,ostream=silent_ostream)\n",
    "scf_drv.compute(molecule, basis)\n",
    "\n",
    "# Extract orbital energies\n",
    "orbital_energies = scf_drv.scf_tensors['E']\n",
    "print('1s IP from the Koopmans theorem:',np.around(au2ev*orbital_energies[0],3))"
   ]
  },
  {
   "cell_type": "markdown",
   "metadata": {},
   "source": [
    "This is to be compared to the experimental value, which is 539.9 eV. The overestimation of almost 20 eV is due to lack of [relaxation](relaxation), which results from the reorganization of the valence electrons in response to a reduction of screening of the nuclei. By comparison, little influence due to the removal of a HOMO electron is expected, yielding far better agreement to experiment for these processes. An approach for including the relaxation effects in the calculation of IP:s is to use the $\\Delta$SCF approach, in which the difference in total energy between the neutral and a core-hole system estimated.\n",
    "\n",
    "### Maximum overlap method (MOM)\n",
    "\n",
    "In order to do this, a core-hole state need to be converged, as can be done using, e.g. the maximum overlap approach [refs:]. Other alternatives, such as... [refs]\n",
    "\n",
    "With the MOM approach, the eigenvalue equation\n",
    "\n",
    "\\begin{equation}\n",
    "\\textbf{FC}^{\\textrm{new}} = \n",
    "\\textbf{SC}^{\\textrm{new}} \\epsilon\n",
    "\\end{equation}\n",
    "\n",
    "is considered. Chosing to overlap the most with the span\n",
    "\n",
    "\\begin{equation}\n",
    "\\textbf{O} = \n",
    "\\left( \\textbf{C} \\right)^{\\dagger} \\textbf{SC}^{\\textrm{new}}\n",
    "\\end{equation}\n",
    "\n",
    "Can converge unstable situations, such as core-hole states.\n",
    "\n",
    "Note potential instabilities for post-HF on core-hole (and excited states as well).\n",
    "\n",
    "```{note}\n",
    "We currently use `pyscf` for the illustrations involving core-holes, as VeloxChem lacks MOM (for now).\n",
    "```\n",
    "\n",
    "### From total energy differences"
   ]
  },
  {
   "cell_type": "code",
   "execution_count": 56,
   "metadata": {},
   "outputs": [
    {
     "name": "stdout",
     "output_type": "stream",
     "text": [
      "converged SCF energy = -75.9838703827192  <S^2> = 6.3344885e-12  2S+1 = 1\n",
      "converged SCF energy = -56.0754789470864  <S^2> = 0.76257805  2S+1 = 2.0125387\n",
      "Ionization potential: 541.735 eV\n"
     ]
    }
   ],
   "source": [
    "# Build mol-object and perform ground state SCF\n",
    "mol = gto.Mole()\n",
    "mol.atom  = water\n",
    "mol.basis = '6-31G'\n",
    "mol.build()\n",
    "\n",
    "scf_res = scf.UHF(mol)\n",
    "scf_res.kernel()\n",
    "\n",
    "# Copy wave function information and change occupancy of alpha1 to 0 (core-hole)\n",
    "mo0  = copy.deepcopy(scf_res.mo_coeff)\n",
    "occ0 = copy.deepcopy(scf_res.mo_occ)\n",
    "occ0[0][0] = 0.0\n",
    "\n",
    "# Perform wave function calculation with the MOM restriction\n",
    "scf_ion = scf.UHF(mol)\n",
    "scf.addons.mom_occ(scf_ion, mo0, occ0)\n",
    "scf_ion.kernel()\n",
    "\n",
    "# IP from energy difference\n",
    "print('Ionization potential:',np.around(au2ev*(scf_ion.energy_tot() - scf_res.energy_tot()),3),'eV')"
   ]
  },
  {
   "cell_type": "markdown",
   "metadata": {},
   "source": [
    "This estimate is now within 2 eV from experiment, and we can include correlation using MP2 on top of this SCF wave function:"
   ]
  },
  {
   "cell_type": "code",
   "execution_count": 21,
   "metadata": {},
   "outputs": [
    {
     "name": "stdout",
     "output_type": "stream",
     "text": [
      "E(UMP2) = -76.1130483955489  E_corr = -0.129178012829712\n",
      "E(UMP2) = -56.1523709631034  E_corr = -0.0768920160169651\n",
      "Ionization potential: 543.158 eV\n"
     ]
    }
   ],
   "source": [
    "# Run MP2 on neutral and core-hole wave functions\n",
    "mp_res = mp.MP2(scf_res).run()\n",
    "mp_ion = mp.MP2(scf_ion).run()\n",
    "\n",
    "# IP from energy difference\n",
    "print('Ionization potential:',np.around(au2ev*(mp_ion.e_tot - mp_res.e_tot),3),'eV')"
   ]
  },
  {
   "cell_type": "markdown",
   "metadata": {},
   "source": [
    "As well as use KS-DFT:"
   ]
  },
  {
   "cell_type": "code",
   "execution_count": 22,
   "metadata": {},
   "outputs": [
    {
     "name": "stdout",
     "output_type": "stream",
     "text": [
      "converged SCF energy = -76.3480474320838  <S^2> = 2.5507596e-11  2S+1 = 1\n"
     ]
    },
    {
     "name": "stderr",
     "output_type": "stream",
     "text": [
      "Overwritten attributes  get_occ  of <class 'pyscf.dft.uks.UKS'>\n"
     ]
    },
    {
     "name": "stdout",
     "output_type": "stream",
     "text": [
      "converged SCF energy = -56.4125421194361  <S^2> = 0.75441021  2S+1 = 2.0044054\n",
      "Ionization potential: 542.473 eV\n"
     ]
    }
   ],
   "source": [
    "# SCF calculation with unrestricted KS-DFT\n",
    "dft_res    = scf.UKS(mol)\n",
    "dft_res.xc = 'b3lyp'\n",
    "dft_res.kernel()\n",
    "\n",
    "# Create core-hole in alpha1\n",
    "mo0  = copy.deepcopy(dft_res.mo_coeff)\n",
    "occ0 = copy.deepcopy(dft_res.mo_occ)\n",
    "occ0[0][0] = 0.0\n",
    "\n",
    "# SCF with core-hole\n",
    "dft_ion = scf.UKS(mol); dft_ion.xc = 'b3lyp'\n",
    "scf.addons.mom_occ(dft_ion, mo0, occ0)\n",
    "dft_ion.kernel()\n",
    "\n",
    "# IP from difference\n",
    "print('Ionization potential:',np.around(au2ev*(dft_ion.energy_tot() - dft_res.energy_tot()),3),'eV')"
   ]
  },
  {
   "cell_type": "markdown",
   "metadata": {},
   "source": [
    "MP2 and DFT currently brings us **away** from experiment, but we note that the basis set is small and ill suited for core properties. Using a cc-pCVTZ basis we instead obtain:\n",
    "- HF: 538.929 eV\n",
    "- MP2: 540.257 eV\n",
    "- B3LYP: 539.192 eV\n",
    "\n",
    "*i.e.* closer to experiment for the correlated methods (note that scalar-relativistic effects will shift these results upwards by $\\sim$0.37 eV).\n",
    "\n",
    "### XPS of the 'ESCA' molecule\n",
    "\n",
    "The X-ray photoemission spectrum can now be formed by calculating all relavant core-electron binding energies (IP:s), give each unique ionization equal intensity, and broaden over the result with a lorentzian or gaussian convolution formula. The choice of broadening depends on the dominant broadening effect (lifetime of excited/ionized state, experimental resolution, etc), but we will here focus on pure lorentzian broadening.\n",
    "\n",
    "We here consider ethyl trifluoroacetate( (CF$_3$-CO-O-CH$_2$-CH$_3$), also known as the ['ESCA' molecule](https://doi.org/10.1016/j.elspec.2012.05.009), which possess very illustrative shifts in XPS features (IP:s) of the carbon $K$-edge due to interactions with the very electronegative oxygen and fluorine atoms. \n",
    "\n",
    "Calculating the four carbon 1s IP:s is done with $\\Delta$SCF:"
   ]
  },
  {
   "cell_type": "code",
   "execution_count": 57,
   "metadata": {},
   "outputs": [
    {
     "name": "stdout",
     "output_type": "stream",
     "text": [
      "converged SCF energy = -594.320690263589  <S^2> = 1.6621939e-08  2S+1 = 1\n",
      "converged SCF energy = -583.365537674045  <S^2> = 0.76705671  2S+1 = 2.0169846\n",
      "SCF not converged.\n",
      "SCF energy = -583.447978393583 after 50 cycles  <S^2> = 0.76804157  2S+1 = 2.0179609\n",
      "converged SCF energy = -583.561134582533  <S^2> = 0.76454928  2S+1 = 2.0144967\n",
      "converged SCF energy = -583.615548638302  <S^2> = 0.75826809  2S+1 = 2.0082511\n"
     ]
    },
    {
     "data": {
      "image/png": "[encoded data removed]",
      "text/plain": [
       "<Figure size 432x216 with 1 Axes>"
      ]
     },
     "metadata": {
      "needs_background": "light"
     },
     "output_type": "display_data"
    }
   ],
   "source": [
    "esca   = '''\n",
    "C         1.1183780041   -0.3449927563    0.0140172822\n",
    "C         0.2599020293    0.9430366372   -0.0248385056\n",
    "F         2.4019839124   -0.0408200726   -0.0368443870\n",
    "F         0.8399255955   -1.1560630574   -1.0169777359\n",
    "F         0.8945563482   -1.0267696528    1.1485539196\n",
    "O         0.7954196415    2.0187110930    0.0011424145\n",
    "O        -1.0675509573    0.8144007049   -0.0614767265\n",
    "C        -1.7486063992   -0.4602333713   -0.1739210991\n",
    "C        -3.1986940727   -0.1850294900    0.1302033614\n",
    "H        -1.3268717284   -1.1720377773    0.5289059043\n",
    "H        -1.6185520565   -0.8344576449   -1.1859838788\n",
    "H        -3.3116641442    0.1959612359    1.1419001202\n",
    "H        -3.7716619472   -1.1057672384    0.0380096706\n",
    "H        -3.6012985602    0.5468300237   -0.5651778685            \n",
    "'''\n",
    "\n",
    "# Create mol object and perform neutral SCF calculation\n",
    "mol_esca = gto.Mole()\n",
    "mol_esca.atom  = esca; mol_esca.basis = 'STO-3G'\n",
    "mol_esca.build()\n",
    "scf_esca = scf.UHF(mol_esca)\n",
    "scf_esca.kernel()\n",
    "\n",
    "# Perform core-hole calculation for each carbon atom (MOs 5-8) and append SCF IPs to a list\n",
    "esca_ips = []\n",
    "for i_mo in [5,6,7,8]:\n",
    "    mo0 = copy.deepcopy(scf_esca.mo_coeff)\n",
    "    occ0 = copy.deepcopy(scf_esca.mo_occ)\n",
    "    occ0[0][i_mo] = 0.0\n",
    "    ion_tmp = scf.UHF(mol_esca)\n",
    "    scf.addons.mom_occ(ion_tmp, mo0, occ0)\n",
    "    ion_tmp.kernel()\n",
    "    esca_ips.append(au2ev*(ion_tmp.energy_tot() - scf_esca.energy_tot()))\n",
    "    \n",
    "# Broaden with a Lorentzian and plot\n",
    "plt.figure(figsize=(6,3))\n",
    "x,y = esca_ips,np.ones((len(esca_ips)))\n",
    "# Call Lorentzian broadening with x-data, y-data, lower x-lim, upper x-lim, xstep, and broadening gamma\n",
    "xi,yi = lorentzian(x,y,min(x)-2,max(x)+2,0.01,0.4)\n",
    "plt.plot(xi,yi); plt.show()"
   ]
  },
  {
   "cell_type": "markdown",
   "metadata": {},
   "source": [
    "```{note}\n",
    "There are some convergence issues, largely relating to the minimal basis set used. These issues disappear for more suitable basis set selections.\n",
    "```\n",
    "\n",
    "For illustration purposes, we also broaden with a gaussian (note that FWHM $= \\gamma = 2\\sqrt{2\\ln{2}} \\sigma$):"
   ]
  },
  {
   "cell_type": "code",
   "execution_count": 58,
   "metadata": {},
   "outputs": [
    {
     "data": {
      "image/png": "[encoded data removed]",
      "text/plain": [
       "<Figure size 432x216 with 1 Axes>"
      ]
     },
     "metadata": {
      "needs_background": "light"
     },
     "output_type": "display_data"
    }
   ],
   "source": [
    "plt.figure(figsize=(6,3))\n",
    "xi,yi = gaussian(x,y,min(x)-2,max(x)+2,0.01,0.5/(2*np.sqrt(2*np.log(2))))\n",
    "plt.plot(xi,yi); plt.show()"
   ]
  },
  {
   "cell_type": "markdown",
   "metadata": {},
   "source": [
    "For the comparison to [experiment](https://doi.org/10.1016/j.elspec.2012.05.009) a cc-pVTZ basis set is selected, augmented with additional core-polarizing functions for the carbon atoms (i.e. cc-pCVTZ):\n",
    "\n",
    "\n",
    "```{figure} ../img/xray/esca_xps.svg\n",
    "---\n",
    "name: esca_xps\n",
    "---\n",
    "X-ray photoemission of ESCA. Shifted by 0.11 eV and broadened by 0.3 eV.\n",
    "```\n",
    "\n",
    "The features originate in, from low to high energy: -CH$_3$, -CH$_2$-, -CO-, and CF$_3$. We note a good agreement for the first two features, but the comparison deteriorates for higher energies. This is largely an effect of the more significant change in electronic structure imposed by the very electronegative fluorine and oxygen atoms, which HF is not capable of describing as well."
   ]
  },
  {
   "cell_type": "markdown",
   "metadata": {},
   "source": [
    "## X-ray absorption spectroscopy\n",
    "\n",
    "In XAS the energy-dependent photoabsorption of the sample is measured, probing excitation of core electrons to bound or continuum states. These two different final states then provide information on unoccupied states and local chemical environment,r espectively, with a prototypical spectrum of a conjugated system as below: \n",
    "\n",
    "\n",
    "```{figure} ../img/xray/xafs.svg\n",
    "---\n",
    "name: xafs\n",
    "---\n",
    "Prototypical X-ray absorption spectrum of a conjugated system.\n",
    "```\n",
    "\n",
    "Above the spectrum we see the distinction of the various spectrum region, consisting of\n",
    "\n",
    "- **XAFS (X-ray absorption fine structure):** consisting of excitations to both types of final states.\n",
    "\n",
    "- **NEXAFS (near-edge X-ray absorption fine structure:** the region in which transitions to bound states is probed (this region is also known as XANES, X-ray absorption near-edge structure)\n",
    "\n",
    "- **EXAFS (extended X-ray absorption fine structure):** which consists of transitions to continuum states, which is modulated by constructive or destructive interference between the emitted electron and the environment. This thus provide information on local chemical bonds.\n",
    "\n",
    "Included in the illustraction is also the ionization potential, above which the oscillatory pattern due to interference with the environment is initiated, and assignment of typical features ($\\pi^*$, Rydberg, and $\\sigma^*$). Transitions to $\\pi^*$ states are typically low in energy and very intense, and thus easy to identify. Rydberg states are typically weak and converge to the ionization potential. Transitions to $\\sigma^*$ final states can be abive the ionization potential.\n",
    "\n",
    "\n",
    "### Decoupling from valence continuum\n",
    "\n",
    "A complication that arise when considering core excitations is the embedding of the core-excited states into the continuum of valence-ionized states. A number of approaches have been developed to remove this issue, including:\n",
    "\n",
    "- The core-valence separation (CVS) approximation\n",
    "\n",
    "- Restricted energy window, which share some with CVS\n",
    "\n",
    "- CPP\n",
    "\n",
    "- Real-time propagation\n",
    "\n",
    "- \n",
    "\n",
    "Furthermore, approaches for constructing explicit excited states are available, \n",
    "\n",
    "In order to calculate \n",
    "\n",
    "\n",
    "```{figure} ../img/xray/cvs_adc.svg\n",
    "---\n",
    "name: cvs_adc\n",
    "---\n",
    "Global spectrum of water, using the 6-311G basis set. ADC(1) results resolving all 70 states in this basis.\n",
    "```\n",
    "\n",
    "Error of the CVS approach\n",
    "\n",
    "### ADC eigenstates\n",
    "\n",
    "References to CVS approach and CVS error."
   ]
  },
  {
   "cell_type": "code",
   "execution_count": 34,
   "metadata": {
    "scrolled": true,
    "tags": [
     "hide-output"
    ]
   },
   "outputs": [
    {
     "name": "stdout",
     "output_type": "stream",
     "text": [
      "SCF converged in 5 iterations.\n",
      "Total Energy: -75.9838703827 au\n",
      "                                                                                                                          \n",
      "                                        Algebraic Diagrammatic Construction (ADC)                                         \n",
      "                                       ===========================================                                        \n",
      "                                                                                                                          \n",
      "                               ADC method                   : cvs-adc2x                                                   \n",
      "                               Number of Singlet States     : 6                                                           \n",
      "                               CVS-ADC, Core Orbital Space  : 1                                                           \n",
      "                               Convergence threshold        : 1.0e-06                                                     \n",
      "                                                                                                                          \n"
     ]
    },
    {
     "name": "stderr",
     "output_type": "stream",
     "text": [
      "/home/thomas/pkg/adcc/adcc/backends/__init__.py:48: UserWarning: Could not check host program psi4 minimal version, since __version__ tag not found. Proceeding anyway.\n",
      "  \"\".format(module)\n"
     ]
    },
    {
     "name": "stdout",
     "output_type": "stream",
     "text": [
      "Starting cvs-adc2x singlet Jacobi-Davidson ...\n",
      "Niter n_ss  max_residual  time  Ritz values\n",
      "  1     8        1.4139  291ms  [20.2703591  20.30081833 20.86977783 20.91121538 21.10647287 21.17210948]\n",
      "  2    16       0.05362  600ms  [19.72495595 19.80691971 20.50881003 20.51569995 20.52445863 20.72564039]\n",
      "  3    24      0.014469  700ms  [19.71673653 19.79707767 20.49577445 20.50503434 20.50804158 20.63850304]\n",
      "  4    32      0.001267  833ms  [19.7163907  19.79671165 20.49373728 20.5048402  20.50629326 20.62964464]\n",
      "  5    40    0.00011958   1.1s  [19.71637581 19.79669987 20.49353413 20.50482663 20.5061769  20.62883056]\n",
      "=== Restart ===\n",
      "  6    16    2.2907e-05  835ms  [19.7163753  19.79669916 20.49351327 20.5048247  20.50617017 20.62875659]\n",
      "  7    24    8.2765e-06  842ms  [19.71637527 19.79669907 20.49350809 20.50482387 20.50616886 20.62873498]\n",
      "  8    32    3.7389e-06   1.0s  [19.71637527 19.79669907 20.49350766 20.50482376 20.50616868 20.62872992]\n",
      "  9    40     5.189e-07  959ms  [19.71637527 19.79669907 20.49350744 20.50482375 20.50616863 20.62872822]\n",
      "=== Converged ===\n",
      "    Number of matrix applies:    72\n",
      "    Total solver time:             7s 271ms\n",
      "                                                                                                                          \n",
      "                                                  ADC Summary of Results                                                  \n",
      "                                                 ------------------------                                                 \n",
      "                                                                                                                          \n",
      "                             +--------------------------------------------------------------+                             \n",
      "                             | cvs-adc2x                               singlet ,  converged |                             \n",
      "                             +--------------------------------------------------------------+                             \n",
      "                             |  #        excitation energy     osc str    |v1|^2    |v2|^2  |                             \n",
      "                             |          (au)           (eV)                                 |                             \n",
      "                             |  0      19.71638      536.5099   0.0175    0.8001    0.1999  |                             \n",
      "                             |  1       19.7967      538.6956   0.0368    0.8087    0.1913  |                             \n",
      "                             |  2      20.49351      557.6567   0.0098    0.7858    0.2142  |                             \n",
      "                             |  3      20.50482      557.9647   0.1007    0.8441    0.1559  |                             \n",
      "                             |  4      20.50617      558.0013   0.0881     0.835     0.165  |                             \n",
      "                             |  5      20.62873      561.3363   0.0104    0.7926    0.2074  |                             \n",
      "                             +--------------------------------------------------------------+                             \n",
      "                                                                                                                          \n",
      "                                          End of ADC calculation. All went well!                                          \n",
      "                                                                                                                          \n"
     ]
    }
   ],
   "source": [
    "struct  = gator.get_molecule(water)\n",
    "basis   = gator.get_molecular_basis(struct,'6-31G')\n",
    "scf_res = gator.run_scf(struct,basis)\n",
    "adc_res = gator.run_adc(struct,basis,scf_res,method='cvs-adc2x',singlets=6,core_orbitals=1)"
   ]
  },
  {
   "cell_type": "code",
   "execution_count": 131,
   "metadata": {},
   "outputs": [
    {
     "name": "stdout",
     "output_type": "stream",
     "text": [
      "+--------------------------------------------------------------+\n",
      "| cvs-adc2x                               singlet ,  converged |\n",
      "+--------------------------------------------------------------+\n",
      "|  #        excitation energy     osc str    |v1|^2    |v2|^2  |\n",
      "|          (au)           (eV)                                 |\n",
      "|  0      19.71638      536.5099   0.0175    0.8001    0.1999  |\n",
      "|  1       19.7967      538.6956   0.0368    0.8087    0.1913  |\n",
      "|  2      20.49351      557.6567   0.0098    0.7858    0.2142  |\n",
      "|  3      20.50482      557.9647   0.1007    0.8441    0.1559  |\n",
      "|  4      20.50617      558.0013   0.0881     0.835     0.165  |\n",
      "|  5      20.62873      561.3363   0.0104    0.7926    0.2074  |\n",
      "+--------------------------------------------------------------+\n",
      "\n",
      "Using inbuilt routines:\n"
     ]
    },
    {
     "data": {
      "image/png": "[encoded data removed]",
      "text/plain": [
       "<Figure size 360x216 with 1 Axes>"
      ]
     },
     "metadata": {
      "needs_background": "light"
     },
     "output_type": "display_data"
    },
    {
     "name": "stdout",
     "output_type": "stream",
     "text": [
      "Or, constructing the spectra explicitly for the low-energy region:\n"
     ]
    },
    {
     "data": {
      "image/png": "[encoded data removed]",
      "text/plain": [
       "<Figure size 360x216 with 1 Axes>"
      ]
     },
     "metadata": {
      "needs_background": "light"
     },
     "output_type": "display_data"
    }
   ],
   "source": [
    "print(adc_res.describe())\n",
    "\n",
    "print('Using inbuilt routines:')\n",
    "plt.figure(figsize=(5,3))\n",
    "adc_res.plot_spectrum()\n",
    "plt.show()\n",
    "\n",
    "print('Or, constructing the spectra explicitly for the low-energy region:')\n",
    "plt.figure(figsize=(5,3))\n",
    "x,y = au2ev*adc_res.excitation_energy, adc_res.oscillator_strength\n",
    "xi,yi = lorentzian(x,y,533,543,0.01,0.5); plt.plot(xi,yi)\n",
    "plt.show()"
   ]
  },
  {
   "cell_type": "markdown",
   "metadata": {},
   "source": [
    "Compared to experiment with aug-cc-pCVTZ/cc-pVTZ (oxygen and hydrogen, respectively):\n",
    "\n",
    "\n",
    "```{figure} ../img/xray/adc_water_xas.svg\n",
    "---\n",
    "name: adc_water_xas\n",
    "---\n",
    "CVS-ADC(2)-x versus experiment. Shifted by 0.37 and broadened by 0.4eV.\n",
    "```\n"
   ]
  },
  {
   "cell_type": "markdown",
   "metadata": {},
   "source": [
    "### TDDFT eigenstates\n",
    "\n",
    "For discussion of self-interaction error - see [below](#self-interaction-error-in-dft).\n",
    "\n",
    "### TDDFT damped response function"
   ]
  },
  {
   "cell_type": "code",
   "execution_count": 28,
   "metadata": {},
   "outputs": [],
   "source": [
    "molecule = vlx.Molecule.read_str(water, units='angstrom')\n",
    "basis    = vlx.MolecularBasis.read(molecule, \"6-31G\")\n",
    "scf_drv = vlx.ScfRestrictedDriver(comm,ostream=silent_ostream)\n",
    "scf_settings  = {'conv_thresh': 1.0e-6}\n",
    "method_settings = {'xcfun': 'b3lyp', 'grid_level': 4}\n",
    "scf_drv.update_settings(scf_settings,method_settings); scf_drv.compute(molecule, basis)\n",
    "freqs = np.arange(514.0,525.0,0.1)/au2ev; freqs_str = [str(x) for x in freqs]\n",
    "cpp_prop = LinearAbsorptionCrossSection({'frequencies': ','.join(freqs_str), 'damping': 0.3/au2ev}\n",
    "                                         ,method_settings)\n",
    "cpp_prop.init_driver(comm, ostream=silent_ostream)\n",
    "cpp_prop.compute(molecule, basis, scf_drv.scf_tensors)\n",
    "sigma = []\n",
    "for w in freqs:\n",
    "    axx = -cpp_prop.rsp_property['response_functions'][('x', 'x', w)].imag\n",
    "    ayy = -cpp_prop.rsp_property['response_functions'][('y', 'y', w)].imag\n",
    "    azz = -cpp_prop.rsp_property['response_functions'][('z', 'z', w)].imag\n",
    "    alpha_bar = (axx + ayy + azz) / 3.0; sigma.append(4.0 * np.pi * w * alpha_bar / 137.035999)"
   ]
  },
  {
   "cell_type": "code",
   "execution_count": 29,
   "metadata": {},
   "outputs": [
    {
     "data": {
      "image/png": "[encoded data removed]",
      "text/plain": [
       "<Figure size 360x216 with 1 Axes>"
      ]
     },
     "metadata": {
      "needs_background": "light"
     },
     "output_type": "display_data"
    }
   ],
   "source": [
    "plt.figure(figsize=(5,3))\n",
    "x = np.arange(min(au2ev*freqs),max(au2ev*freqs),0.01)\n",
    "y = interp1d(au2ev*freqs, sigma, kind='cubic')\n",
    "plt.plot(x,y(x));plt.plot(au2ev*freqs,sigma,'x')\n",
    "plt.yticks([]); plt.legend(('Splined','CPP-DFT'))\n",
    "plt.show()"
   ]
  },
  {
   "cell_type": "markdown",
   "metadata": {},
   "source": [
    "Using aug-cc-pCVTZ and compared to experiment\n",
    "\n",
    "\n",
    "```{figure} ../img/xray/dft_water_xas.svg\n",
    "---\n",
    "name: dft_water_xas\n",
    "---\n",
    "CPP-DFT (B3LYP) versus experiment. DFT results shifted. FWHM 0.4 eV. Currently aug-cc-pVDZ - **change to aug-cc-pCVTZ/cc-pVTZ**.\n",
    "```\n",
    "\n",
    "\n",
    "```{note} \n",
    "this is a todo\n",
    "```\n",
    "\n",
    "plt.figure(figsize=(5,4)); plt.subplot(211)\n",
    "x = np.arange(min(au2ev*freqs),max(au2ev*freqs),0.01)\n",
    "y = interp1d(au2ev*freqs, sigma, kind='cubic')\n",
    "plt.plot(x,y(x));plt.plot(au2ev*freqs,sigma,'x')\n",
    "plt.xlim((516,524)); plt.yticks([]); plt.legend(('Splined','CPP-DFT'))\n",
    "plt.subplot(212)\n",
    "data = np.loadtxt('../img/xray/water_xas.dat'); x,y = [],[]\n",
    "for data_tmp in data: x.append(data_tmp[0]), y.append(data_tmp[1])\n",
    "plt.plot(x,y); plt.xlim((531,539)); plt.yticks([]); plt.legend(('Experiment',''))\n",
    "plt.show()"
   ]
  },
  {
   "cell_type": "markdown",
   "metadata": {},
   "source": [
    "### Uracil in solution\n",
    "\n",
    "CVS-ADC and CPP-DFT\n",
    "\n",
    "1. Tailored CVS spaces\n",
    "\n",
    "2. Gas phase\n",
    "\n",
    "3. Polarizable embedding\n",
    "\n",
    "### Maybe: massive system with DFT"
   ]
  },
  {
   "cell_type": "markdown",
   "metadata": {},
   "source": [
    "## X-ray emission spectroscopy\n",
    "\n",
    "\n",
    "- maybe illustration: Augen/fluorescent yield\n",
    "\n",
    "### Decay from core-hole reference\n",
    "\n",
    "Water (vs expt)\n",
    "\n",
    "1. ADC(2)\n",
    "\n",
    "2. TDDFT\n"
   ]
  },
  {
   "cell_type": "code",
   "execution_count": 47,
   "metadata": {},
   "outputs": [
    {
     "name": "stdout",
     "output_type": "stream",
     "text": [
      "converged SCF energy = -75.9838703827193  <S^2> = 6.3389294e-12  2S+1 = 1\n",
      "converged SCF energy = -56.0754789470864  <S^2> = 0.76257805  2S+1 = 2.0125387\n"
     ]
    },
    {
     "name": "stderr",
     "output_type": "stream",
     "text": [
      "/home/thomas/pkg/adcc/adcc/backends/__init__.py:48: UserWarning: Could not check host program psi4 minimal version, since __version__ tag not found. Proceeding anyway.\n",
      "  \"\".format(module)\n"
     ]
    },
    {
     "name": "stdout",
     "output_type": "stream",
     "text": [
      "Starting adc2  Jacobi-Davidson ...\n",
      "Niter n_ss  max_residual  time  Ritz values\n",
      "  1     8       0.77768   2.6s  [-19.29082067 -19.19940205 -18.96181907 -18.3637012 ]\n",
      "  2    16     0.0010764  445ms  [-19.44427093 -19.36689642 -19.16826546 -18.57947501]\n",
      "  3    24    4.4301e-07  450ms  [-19.44429764 -19.3669284  -19.16831914 -18.57954987]\n",
      "=== Converged ===\n",
      "    Number of matrix applies:    24\n",
      "    Total solver time:             3s 527ms\n"
     ]
    }
   ],
   "source": [
    "mol = gto.Mole(); mol.atom  = water; mol.basis = '6-31G'; mol.build()\n",
    "scfres = scf.UHF(mol); scfres.kernel()\n",
    "mo0 = copy.deepcopy(scfres.mo_coeff); occ0 = copy.deepcopy(scfres.mo_occ); occ0[0][0] = 0.0\n",
    "scfion = scf.UHF(mol); scf.addons.mom_occ(scfion, mo0, occ0); scfion.kernel()\n",
    "adc_xes = adcc.adc2(scfion, n_states=4)"
   ]
  },
  {
   "cell_type": "code",
   "execution_count": 55,
   "metadata": {},
   "outputs": [
    {
     "name": "stdout",
     "output_type": "stream",
     "text": [
      "Using inbuilt functionalities, noticing the negative energies\n"
     ]
    },
    {
     "data": {
      "image/png": "[encoded data removed]",
      "text/plain": [
       "<Figure size 360x216 with 1 Axes>"
      ]
     },
     "metadata": {
      "needs_background": "light"
     },
     "output_type": "display_data"
    },
    {
     "name": "stdout",
     "output_type": "stream",
     "text": [
      "Flipping the x-axis and focusing on the high-energy features:\n"
     ]
    },
    {
     "data": {
      "image/png": "[encoded data removed]",
      "text/plain": [
       "<Figure size 360x216 with 1 Axes>"
      ]
     },
     "metadata": {
      "needs_background": "light"
     },
     "output_type": "display_data"
    }
   ],
   "source": [
    "print('Using inbuilt functionalities, noticing the negative energies')\n",
    "\n",
    "plt.figure(figsize=(5,3))\n",
    "adc_xes.plot_spectrum()\n",
    "plt.show()\n",
    "\n",
    "print('Flipping the x-axis and focusing on the high-energy features:')\n",
    "\n",
    "plt.figure(figsize=(5,3))\n",
    "x,y = -au2ev*adc_xes.excitation_energy,adc_xes.oscillator_strength\n",
    "xi,yi = lorentzian(x,y,min(x)-5,max(x)+5,0.01,0.5); plt.plot(xi,yi)\n",
    "plt.xlim((518,532))\n",
    "plt.show()"
   ]
  },
  {
   "cell_type": "markdown",
   "metadata": {},
   "source": [
    "Using cc-pCVTZ/cc-pVTZ and compared to experiment\n",
    "\n",
    "```{figure} ../img/xray/adc_water_xes.svg\n",
    "---\n",
    "name: adc_water_xes\n",
    "---\n",
    "ADC(2) versus experiment. Shifted by 0.37 and broadened by 0.3 eV.\n",
    "```"
   ]
  },
  {
   "cell_type": "markdown",
   "metadata": {},
   "source": [
    "And for TDDFT"
   ]
  },
  {
   "cell_type": "markdown",
   "metadata": {},
   "source": [
    "### Overlap model\n",
    "\n",
    "Water (vs expt)\n",
    "\n",
    "1. DFT\n",
    "\n",
    "Energy from\n",
    "\n",
    "\\begin{equation}\n",
    "\\Delta E = \\epsilon_v - \\epsilon_c\n",
    "\\end{equation}\n",
    "\n",
    "\n",
    "and intensities from\n",
    "\n",
    "\\begin{equation}\n",
    "f \\propto \\left| \\langle \\phi_i \\left| \\hat{\\mu} \\right| \\phi_c \\rangle \\right| ^2\n",
    "\\end{equation}"
   ]
  },
  {
   "cell_type": "code",
   "execution_count": 8,
   "metadata": {},
   "outputs": [
    {
     "name": "stdout",
     "output_type": "stream",
     "text": [
      "Occupied orbital energies: [-515.85  -272.492  -25.629  -12.769   -7.202   -7.202   -6.822]\n"
     ]
    }
   ],
   "source": [
    "scf_drv = vlx.ScfRestrictedDriver(comm,ostream=silent_ostream)\n",
    "scf_settings  = {'conv_thresh': 1.0e-6}\n",
    "method_settings = {'xcfun': 'b3lyp', 'grid_level': 4}\n",
    "scf_drv.update_settings(scf_settings,method_settings); scf_drv.compute(molecule, basis)\n",
    "orbital_energies = scf_drv.scf_tensors['E']\n",
    "nocc = molecule.number_of_alpha_electrons()\n",
    "print('Occupied orbital energies:',au2ev*orbital_energies[:nocc])\n",
    "\n",
    "core = 0\n",
    "overlap_energy = []\n",
    "for virt in np.arange(nocc):\n",
    "    if virt != core:\n",
    "        overlap_energy.append(au2ev*(orbital_energies[virt]-orbital_energies[core]))"
   ]
  },
  {
   "cell_type": "code",
   "execution_count": 9,
   "metadata": {},
   "outputs": [
    {
     "name": "stdout",
     "output_type": "stream",
     "text": [
      "Focusing on high-energy features\n"
     ]
    },
    {
     "data": {
      "image/png": "[encoded data removed]",
      "text/plain": [
       "<Figure size 360x216 with 1 Axes>"
      ]
     },
     "metadata": {
      "needs_background": "light"
     },
     "output_type": "display_data"
    }
   ],
   "source": [
    "print('Focusing on high-energy features')\n",
    "\n",
    "plt.figure(figsize=(5,3))\n",
    "x,y = overlap_energy, np.ones((len(overlap_energy)))\n",
    "xi,yi = lorentzian(x,y,min(x)-5,max(x)+5,0.01,0.5); plt.plot(xi,yi)\n",
    "plt.xlim((max(overlap_energy)-9,max(overlap_energy)+2))\n",
    "plt.show()"
   ]
  },
  {
   "cell_type": "markdown",
   "metadata": {},
   "source": [
    "using cc-pCVTZ and compared to experiment\n",
    "\n",
    "\n",
    "```{figure} ../img/xray//overlap_water_xes.svg\n",
    "---\n",
    "name: /overlap_water_xes\n",
    "---\n",
    "foo\n",
    "```\n",
    "\n",
    "plt.figure(figsize=(5,4)); plt.subplot(211)\n",
    "x,y = overlap_energy, np.ones((len(overlap_energy)))\n",
    "xi,yi = lorentzian(x,y,min(x)-5,max(x)+5,0.01,0.5); plt.plot(xi,yi)\n",
    "plt.xlim((max(overlap_energy)-9,max(overlap_energy)+2)); plt.yticks([]); plt.legend(('DFT overlap',''))\n",
    "plt.subplot(212)\n",
    "data = np.loadtxt('../img/xray/water_xes.dat'); x,y = [],[]\n",
    "for data_tmp in data: x.append(data_tmp[0]), y.append(data_tmp[1])\n",
    "plt.plot(x,y); plt.xlim((518,529)); plt.yticks([]); plt.legend(('Experiment',''))\n",
    "plt.show()"
   ]
  },
  {
   "cell_type": "markdown",
   "metadata": {},
   "source": [
    "### Maybe: uracil in solution\n",
    "\n",
    "1. Gas phase\n",
    "\n",
    "2. Environment with PE\n",
    "\n",
    "### Maybe valence-to-core XES\n",
    "\n",
    "Suitable TM-complex with minimal static correlation\n",
    "\n",
    "1. Overlap\n",
    "\n",
    "2. TDDFT?\n",
    "\n",
    "### Maybe: massive system with DFT"
   ]
  },
  {
   "cell_type": "markdown",
   "metadata": {},
   "source": [
    "## Resonant inelastic X-ray scattering\n",
    "\n",
    "\n",
    "Water.\n",
    "\n",
    "1. 2-step model\n",
    "\n",
    "2. DKH"
   ]
  },
  {
   "cell_type": "markdown",
   "metadata": {},
   "source": [
    "## Coupling to molecular dynamics\n",
    "\n",
    "\n",
    "Some system...\n",
    "\n",
    "1. Dynamics + XAS\n",
    "\n",
    "2. Dynamics + XES\n",
    "\n",
    "3. Inclusion of environment?\n",
    "\n",
    "4. Core-hole dynamics with some model?"
   ]
  },
  {
   "cell_type": "markdown",
   "metadata": {},
   "source": [
    "## Analysis\n",
    "\n",
    "\n",
    "### XAS\n",
    "\n",
    "Vinylfluoride. CVS-ADC and CPP-DFT.\n",
    "\n",
    "**First:** Calculate with CVS-ADC and CPP-DFT"
   ]
  },
  {
   "cell_type": "code",
   "execution_count": 32,
   "metadata": {
    "scrolled": true,
    "tags": [
     "hide-output"
    ]
   },
   "outputs": [
    {
     "name": "stdout",
     "output_type": "stream",
     "text": [
      "SCF converged in 5 iterations.\n",
      "Total Energy: -174.5316847142 au\n",
      "                                                                                                                          \n",
      "                                        Algebraic Diagrammatic Construction (ADC)                                         \n",
      "                                       ===========================================                                        \n",
      "                                                                                                                          \n",
      "                               ADC method                   : cvs-adc2x                                                   \n",
      "                               Number of Singlet States     : 10                                                          \n",
      "                               CVS-ADC, Core Orbital Space  : 1 2 3                                                       \n",
      "                               Convergence threshold        : 1.0e-06                                                     \n",
      "                                                                                                                          \n",
      "Starting cvs-adc2x singlet Jacobi-Davidson ...\n"
     ]
    },
    {
     "name": "stderr",
     "output_type": "stream",
     "text": [
      "/home/thomas/pkg/adcc/adcc/backends/__init__.py:48: UserWarning: Could not check host program psi4 minimal version, since __version__ tag not found. Proceeding anyway.\n",
      "  \"\".format(module)\n"
     ]
    },
    {
     "name": "stdout",
     "output_type": "stream",
     "text": [
      "Niter n_ss  max_residual  time  Ritz values\n",
      "  1    18       0.66368  690ms  [10.796 10.861 11.058 11.07  11.103 11.175 11.256]\n",
      "  2    36       0.20768  982ms  [10.536 10.617 10.818 10.858 10.923 10.99  11.008]\n",
      "  3    54      0.063995   1.5s  [10.527 10.604 10.795 10.835 10.897 10.913 10.956]\n",
      "  4    72      0.013737   2.3s  [10.526 10.603 10.794 10.834 10.896 10.906 10.95 ]\n",
      "  5    90      0.045045   1.6s  [10.526 10.603 10.794 10.834 10.896 10.905 10.949]\n",
      "=== Restart ===\n",
      "  6    36     0.0079751   1.4s  [10.526 10.603 10.794 10.834 10.896 10.905 10.949]\n",
      "  7    54     0.0013228   1.1s  [10.526 10.603 10.794 10.834 10.896 10.905 10.949]\n",
      "  8    72    0.00019889   1.3s  [10.526 10.603 10.794 10.834 10.896 10.905 10.949]\n",
      "  9    90    2.0341e-05   1.9s  [10.526 10.603 10.794 10.834 10.896 10.905 10.949]\n",
      "=== Restart ===\n",
      " 10    36    2.6617e-06   1.3s  [10.526 10.603 10.794 10.834 10.896 10.905 10.949]\n",
      " 11    54    5.4338e-07   1.3s  [10.526 10.603 10.794 10.834 10.896 10.905 10.949]\n",
      "=== Converged ===\n",
      "    Number of matrix applies:    198\n",
      "    Total solver time:            15s 478ms\n",
      "                                                                                                                          \n",
      "                                                  ADC Summary of Results                                                  \n",
      "                                                 ------------------------                                                 \n",
      "                                                                                                                          \n",
      "                             +--------------------------------------------------------------+                             \n",
      "                             | cvs-adc2x                               singlet ,  converged |                             \n",
      "                             +--------------------------------------------------------------+                             \n",
      "                             |  #        excitation energy     osc str    |v1|^2    |v2|^2  |                             \n",
      "                             |          (au)           (eV)                                 |                             \n",
      "                             |  0      10.52634      286.4362   0.0549    0.7824    0.2176  |                             \n",
      "                             |  1      10.60328      288.5301   0.0577    0.7637    0.2363  |                             \n",
      "                             |  2      10.79376      293.7132   0.0273    0.7758    0.2242  |                             \n",
      "                             |  3      10.83372      294.8007   0.0609    0.8144    0.1856  |                             \n",
      "                             |  4      10.89562       296.485   0.0323    0.8391    0.1609  |                             \n",
      "                             |  5      10.90522      296.7463   0.0209    0.7334    0.2666  |                             \n",
      "                             |  6      10.94919      297.9426   0.0228    0.7931    0.2069  |                             \n",
      "                             |  7      10.99523      299.1954   0.0015   0.02016    0.9798  |                             \n",
      "                             |  8      11.03133      300.1778   0.0010   0.02074    0.9793  |                             \n",
      "                             |  9      11.04421      300.5282   0.0131     0.689     0.311  |                             \n",
      "                             +--------------------------------------------------------------+                             \n",
      "                                                                                                                          \n",
      "                                          End of ADC calculation. All went well!                                          \n",
      "                                                                                                                          \n"
     ]
    }
   ],
   "source": [
    "vinyl   = \"\"\"\n",
    " C     0.000000    -0.246412    -1.271068\n",
    " C     0.000000     0.457081    -0.154735\n",
    " F     0.000000    -0.119195     1.052878\n",
    " H     0.000000     0.272328    -2.210194\n",
    " H     0.000000    -1.319906    -1.249847\n",
    " H     0.000000     1.530323    -0.095954\n",
    "\"\"\"\n",
    "\n",
    "# SCF\n",
    "struct  = gator.get_molecule(vinyl)\n",
    "basis   = gator.get_molecular_basis(struct,'STO-3G')\n",
    "scf_res = gator.run_scf(struct,basis)\n",
    "\n",
    "# CVS space with three lowest\n",
    "adc_full = gator.run_adc(struct,basis,scf_res,method='cvs-adc2x',singlets=10,core_orbitals=[1,2,3])"
   ]
  },
  {
   "cell_type": "code",
   "execution_count": null,
   "metadata": {},
   "outputs": [],
   "source": [
    "# CPP-DFT calculation. Note different energy. Comparison to expt below."
   ]
  },
  {
   "cell_type": "markdown",
   "metadata": {},
   "source": [
    "\n",
    "Discuss chemical shifts.\n",
    "\n",
    "Now, lets look at various analysis tools.\n",
    "\n",
    "Can study the amplitudes involved in adc calculations using the `state.describe_amplitudes` function, which takes as input `tolerance` which controls minimum amplitude to be printed, and the format using `index_format`, which takes three different forms. Splitting the resulting returning string according to `state` and printing the results for the first two states, we obtain:"
   ]
  },
  {
   "cell_type": "markdown",
   "metadata": {},
   "source": [
    "#### Amplitudes"
   ]
  },
  {
   "cell_type": "code",
   "execution_count": 14,
   "metadata": {},
   "outputs": [
    {
     "name": "stdout",
     "output_type": "stream",
     "text": [
      "From 'hf' format, which yield MO number:\n",
      "+-----------------------------------+\n",
      "| State   1 ,      10.60328 au      |\n",
      "+-----------------------------------+\n",
      "|  1    -> 12     a ->a      -0.618 |\n",
      "| 11  1 -> 12 12  ab->ab     +0.193 |\n",
      "+-----------------------------------+\n",
      "| State   2 ,      10.79376 au      |\n",
      "+-----------------------------------+\n",
      "|  2    -> 13     a ->a      -0.616 |\n",
      "| 11  2 -> 12 13  ab->ab     -0.133 |\n",
      "| 11  2 -> 12 13  aa->aa     -0.116 |\n",
      "\n",
      "From 'adcc' format, which indexing as used in adcc:\n",
      "+-------------------------------------------------------+\n",
      "| State   1 ,      10.60328 au,      288.5301 eV        |\n",
      "+-------------------------------------------------------+\n",
      "| (o2  1)         -> (v1  0)          a ->a      -0.618 |\n",
      "| (o1  8) (o2  1) -> (v1  0) (v1  0)  ab->ab     +0.193 |\n",
      "+-------------------------------------------------------+\n",
      "| State   2 ,      10.79376 au,      293.7132 eV        |\n",
      "+-------------------------------------------------------+\n",
      "| (o2  2)         -> (v1  1)          a ->a      -0.616 |\n",
      "| (o1  8) (o2  2) -> (v1  0) (v1  1)  ab->ab     -0.133 |\n",
      "| (o1  8) (o2  2) -> (v1  0) (v1  1)  aa->aa     -0.116 |\n",
      "\n",
      "From 'homolumo' format, which using HOMO/LUMO/HOCO format:\n",
      "+---------------------------------------------------+\n",
      "| State   1 ,      10.60328 au,      288.5301 eV    |\n",
      "+---------------------------------------------------+\n",
      "| HOCO-1        -> LUMO           a ->a      -0.618 |\n",
      "| HOMO   HOCO-1 -> LUMO   LUMO    ab->ab     +0.193 |\n",
      "+---------------------------------------------------+\n",
      "| State   2 ,      10.79376 au,      293.7132 eV    |\n",
      "+---------------------------------------------------+\n",
      "| HOCO          -> LUMO+1         a ->a      -0.616 |\n",
      "| HOMO   HOCO   -> LUMO   LUMO+1  ab->ab     -0.133 |\n",
      "| HOMO   HOCO   -> LUMO   LUMO+1  aa->aa     -0.116 |\n"
     ]
    }
   ],
   "source": [
    "print('From \\'hf\\' format, which yield MO number:')\n",
    "des_amp    = adc_full.describe_amplitudes(tolerance=0.1,index_format='hf')\n",
    "split_line = '\\n\\n'\n",
    "tmp_amp    = des_amp.split(split_line)\n",
    "print(tmp_amp[1])\n",
    "print(tmp_amp[2])\n",
    "print()\n",
    "\n",
    "print('From \\'adcc\\' format, which indexing as used in adcc:')\n",
    "des_amp    = adc_full.describe_amplitudes(tolerance=0.1,index_format='adcc')\n",
    "split_line = '\\n\\n'\n",
    "tmp_amp    = des_amp.split(split_line)\n",
    "print(tmp_amp[1])\n",
    "print(tmp_amp[2])\n",
    "print()\n",
    "\n",
    "\n",
    "print('From \\'homolumo\\' format, which using HOMO/LUMO/HOCO format:')\n",
    "des_amp    = adc_full.describe_amplitudes(tolerance=0.1,index_format='homolumo')\n",
    "split_line = '\\n\\n'\n",
    "tmp_amp    = des_amp.split(split_line)\n",
    "print(tmp_amp[1])\n",
    "print(tmp_amp[2])"
   ]
  },
  {
   "cell_type": "markdown",
   "metadata": {},
   "source": [
    "#### Atomic contributions"
   ]
  },
  {
   "cell_type": "code",
   "execution_count": 230,
   "metadata": {},
   "outputs": [
    {
     "data": {
      "image/png": "[encoded data removed]",
      "text/plain": [
       "<Figure size 432x288 with 1 Axes>"
      ]
     },
     "metadata": {
      "needs_background": "light"
     },
     "output_type": "display_data"
    }
   ],
   "source": [
    "# ADC space discussion elsewhere\n",
    "'''\n",
    "plt.figure(figsize=(6,4))\n",
    "x,y = au2ev*adc_full.excitation_energy, adc_full.oscillator_strength\n",
    "xi,yi = lorentzian(x,y,285,300,0.01,0.5); plt.plot(xi,yi)\n",
    "x,y = au2ev*adc_chf.excitation_energy, adc_chf.oscillator_strength\n",
    "xi,yi = lorentzian(x,y,285,300,0.01,0.5); plt.plot(xi,yi)\n",
    "x,y = au2ev*adc_ch2.excitation_energy, adc_ch2.oscillator_strength\n",
    "xi,yi = lorentzian(x,y,285,300,0.01,0.5); plt.plot(xi,yi)\n",
    "plt.legend(('Fluorine and carbons','-CHF','-CH2'),loc='upper left',fontsize=8)\n",
    "plt.xlim((285,297))\n",
    "plt.show()\n",
    "'''"
   ]
  },
  {
   "cell_type": "code",
   "execution_count": 35,
   "metadata": {
    "scrolled": true
   },
   "outputs": [
    {
     "name": "stdout",
     "output_type": "stream",
     "text": [
      "                                                                                                                          \n",
      "                                        Algebraic Diagrammatic Construction (ADC)                                         \n",
      "                                       ===========================================                                        \n",
      "                                                                                                                          \n",
      "                               ADC method                   : cvs-adc2x                                                   \n",
      "                               Number of Singlet States     : 4                                                           \n",
      "                               CVS-ADC, Core Orbital Space  : 2                                                           \n",
      "                               Convergence threshold        : 1.0e-06                                                     \n",
      "                                                                                                                          \n",
      "Starting cvs-adc2x singlet Jacobi-Davidson ...\n",
      "Niter n_ss  max_residual  time  Ritz values"
     ]
    },
    {
     "name": "stderr",
     "output_type": "stream",
     "text": [
      "/home/thomas/pkg/adcc/adcc/backends/__init__.py:48: UserWarning: Could not check host program psi4 minimal version, since __version__ tag not found. Proceeding anyway.\n",
      "  \"\".format(module)\n"
     ]
    },
    {
     "name": "stdout",
     "output_type": "stream",
     "text": [
      "\n",
      "  1     6       0.32663  136ms  [10.861 11.059 11.176 11.381]\n",
      "  2    12       0.10666  205ms  [10.617 10.858 11.008 11.235]\n",
      "  3    18      0.051857  200ms  [10.604 10.835 10.957 11.14 ]\n",
      "  4    24     0.0097457  293ms  [10.603 10.834 10.95  11.065]\n",
      "  5    30      0.003439  318ms  [10.603 10.834 10.949 11.05 ]\n",
      "=== Restart ===\n",
      "  6    12     0.0032205  270ms  [10.603 10.834 10.949 11.044]\n",
      "  7    18     0.0029367  190ms  [10.603 10.834 10.949 11.037]\n",
      "  8    24    0.00095608  258ms  [10.603 10.834 10.949 11.034]\n",
      "  9    30    0.00029649  248ms  [10.603 10.834 10.949 11.032]\n",
      "=== Restart ===\n",
      " 10    12    8.6485e-05  305ms  [10.603 10.834 10.949 11.032]\n",
      " 11    18    0.00010066  235ms  [10.603 10.834 10.949 11.031]\n",
      " 12    24    2.9719e-05  319ms  [10.603 10.834 10.949 11.031]\n",
      " 13    30    6.9235e-06  303ms  [10.603 10.834 10.949 11.031]\n",
      "=== Restart ===\n",
      " 14    12    1.4935e-06  249ms  [10.603 10.834 10.949 11.031]\n",
      " 15    18    4.4223e-07  215ms  [10.603 10.834 10.949 11.031]\n",
      "=== Converged ===\n",
      "    Number of matrix applies:    90\n",
      "    Total solver time:             3s 771ms\n",
      "                                                                                                                          \n",
      "                                                  ADC Summary of Results                                                  \n",
      "                                                 ------------------------                                                 \n",
      "                                                                                                                          \n",
      "                             +--------------------------------------------------------------+                             \n",
      "                             | cvs-adc2x                               singlet ,  converged |                             \n",
      "                             +--------------------------------------------------------------+                             \n",
      "                             |  #        excitation energy     osc str    |v1|^2    |v2|^2  |                             \n",
      "                             |          (au)           (eV)                                 |                             \n",
      "                             |  0      10.60331      288.5307   0.0568    0.7637    0.2363  |                             \n",
      "                             |  1      10.83375      294.8015   0.0595    0.8145    0.1855  |                             \n",
      "                             |  2       10.9492       297.943   0.0230    0.7931    0.2069  |                             \n",
      "                             |  3      11.03134       300.178   0.0009    0.0207    0.9793  |                             \n",
      "                             +--------------------------------------------------------------+                             \n",
      "                                                                                                                          \n",
      "                                          End of ADC calculation. All went well!                                          \n",
      "                                                                                                                          \n",
      "                                                                                                                          \n",
      "                                        Algebraic Diagrammatic Construction (ADC)                                         \n",
      "                                       ===========================================                                        \n",
      "                                                                                                                          \n",
      "                               ADC method                   : cvs-adc2x                                                   \n",
      "                               Number of Singlet States     : 4                                                           \n",
      "                               CVS-ADC, Core Orbital Space  : 3                                                           \n",
      "                               Convergence threshold        : 1.0e-06                                                     \n",
      "                                                                                                                          \n",
      "Starting cvs-adc2x singlet Jacobi-Davidson ...\n",
      "Niter n_ss  max_residual  time  Ritz values\n",
      "  1     6       0.36949  146ms  [10.796 11.07  11.103 11.256]\n",
      "  2    12      0.054972  233ms  [10.536 10.818 10.923 10.99 ]\n",
      "  3    18     0.0045679  389ms  [10.527 10.795 10.897 10.913]\n",
      "  4    24    0.00071312  455ms  [10.526 10.794 10.896 10.906]\n",
      "  5    30    0.00014048  259ms  [10.526 10.794 10.896 10.905]\n",
      "=== Restart ===\n",
      "  6    12    2.1954e-05  290ms  [10.526 10.794 10.896 10.905]\n",
      "  7    18    4.7578e-06  228ms  [10.526 10.794 10.896 10.905]\n",
      "  8    24    9.7131e-07  433ms  [10.526 10.794 10.896 10.905]\n",
      "=== Converged ===\n",
      "    Number of matrix applies:    48\n",
      "    Total solver time:             2s 464ms\n",
      "                                                                                                                          \n",
      "                                                  ADC Summary of Results                                                  \n",
      "                                                 ------------------------                                                 \n",
      "                                                                                                                          \n",
      "                             +--------------------------------------------------------------+                             \n",
      "                             | cvs-adc2x                               singlet ,  converged |                             \n",
      "                             +--------------------------------------------------------------+                             \n",
      "                             |  #        excitation energy     osc str    |v1|^2    |v2|^2  |                             \n",
      "                             |          (au)           (eV)                                 |                             \n",
      "                             |  0      10.52636       286.437   0.0558    0.7824    0.2176  |                             \n",
      "                             |  1       10.7938      293.7142   0.0286    0.7758    0.2242  |                             \n",
      "                             |  2      10.89564      296.4856   0.0318    0.8391    0.1609  |                             \n",
      "                             |  3      10.90525      296.7471   0.0207    0.7334    0.2666  |                             \n",
      "                             +--------------------------------------------------------------+                             \n",
      "                                                                                                                          \n",
      "                                          End of ADC calculation. All went well!                                          \n",
      "                                                                                                                          \n"
     ]
    }
   ],
   "source": [
    "adc_chf = gator.run_adc(struct,basis,scf_res,method='cvs-adc2x',singlets=4,core_orbitals=[2])\n",
    "adc_ch2 = gator.run_adc(struct,basis,scf_res,method='cvs-adc2x',singlets=4,core_orbitals=[3])"
   ]
  },
  {
   "cell_type": "code",
   "execution_count": 38,
   "metadata": {},
   "outputs": [
    {
     "name": "stdout",
     "output_type": "stream",
     "text": [
      "Resolving core contributions using different eigenstates\n"
     ]
    },
    {
     "data": {
      "image/png": "[encoded data removed]",
      "text/plain": [
       "<Figure size 432x288 with 1 Axes>"
      ]
     },
     "metadata": {
      "needs_background": "light"
     },
     "output_type": "display_data"
    }
   ],
   "source": [
    "print('Resolving core contributions using different eigenstates')\n",
    "plt.figure(figsize=(6,4))\n",
    "x1,y1 = au2ev*adc_chf.excitation_energy, adc_chf.oscillator_strength\n",
    "x1i,y1i = lorentzian(x1,y1,280,300,0.01,0.5)\n",
    "x2,y2 = au2ev*adc_ch2.excitation_energy, adc_ch2.oscillator_strength\n",
    "x2i,y2i = lorentzian(x2,y2,280,300,0.01,0.5)\n",
    "plt.plot(x2i,y1i+y2i,'k-',linewidth=2.0)\n",
    "plt.fill_between(x2i, 0, y1i,alpha=0.6)\n",
    "plt.fill_between(x2i, y1i, y1i+y2i,alpha=0.6)\n",
    "plt.legend(('Full','-CHF','-CH2'))\n",
    "plt.xlim((282,297))\n",
    "plt.show()"
   ]
  },
  {
   "cell_type": "code",
   "execution_count": 15,
   "metadata": {},
   "outputs": [
    {
     "name": "stdout",
     "output_type": "stream",
     "text": [
      "MAYBE: the same using the full-space eigenvectors\n",
      "Compare these two approaches!\n",
      "Could come from looking more into the eigenstates, or by just splitting the describe_amplitude results...\n"
     ]
    }
   ],
   "source": [
    "\n",
    "\n",
    "\n",
    "print('MAYBE: the same using the full-space eigenvectors')\n",
    "print('Compare these two approaches!')\n",
    "\n",
    "print('Could come from looking more into the eigenstates, or by just splitting the describe_amplitude results...')"
   ]
  },
  {
   "cell_type": "code",
   "execution_count": 52,
   "metadata": {},
   "outputs": [],
   "source": [
    "molecule = vlx.Molecule.read_str(vinyl, units='angstrom')\n",
    "basis    = vlx.MolecularBasis.read(molecule, \"STO-3G\")\n",
    "scf_drv = vlx.ScfRestrictedDriver(comm,ostream=silent_ostream)\n",
    "scf_settings  = {'conv_thresh': 1.0e-6}\n",
    "method_settings = {'xcfun': 'b3lyp', 'grid_level': 4}\n",
    "scf_drv.update_settings(scf_settings,method_settings); scf_drv.compute(molecule, basis)\n",
    "freqs = np.arange(270.0,282.0,0.25)/au2ev; freqs_str = [str(x) for x in freqs]\n",
    "cpp_prop = LinearAbsorptionCrossSection({'frequencies': ','.join(freqs_str), 'damping': 0.3/au2ev}\n",
    "                                         ,method_settings)\n",
    "cpp_prop.init_driver(comm, ostream=silent_ostream)\n",
    "cpp_prop.compute(molecule, basis, scf_drv.scf_tensors)\n",
    "sigma = []\n",
    "for w in freqs:\n",
    "    axx = -cpp_prop.rsp_property['response_functions'][('x', 'x', w)].imag\n",
    "    ayy = -cpp_prop.rsp_property['response_functions'][('y', 'y', w)].imag\n",
    "    azz = -cpp_prop.rsp_property['response_functions'][('z', 'z', w)].imag\n",
    "    alpha_bar = (axx + ayy + azz) / 3.0; sigma.append(4.0 * np.pi * w * alpha_bar / 137.035999)\n"
   ]
  },
  {
   "cell_type": "code",
   "execution_count": 53,
   "metadata": {},
   "outputs": [
    {
     "data": {
      "image/png": "[encoded data removed]",
      "text/plain": [
       "<Figure size 360x216 with 1 Axes>"
      ]
     },
     "metadata": {
      "needs_background": "light"
     },
     "output_type": "display_data"
    }
   ],
   "source": [
    "plt.figure(figsize=(5,3))\n",
    "x = np.arange(min(au2ev*freqs),max(au2ev*freqs),0.01)\n",
    "y = interp1d(au2ev*freqs, sigma, kind='cubic')\n",
    "plt.plot(x,y(x));plt.plot(au2ev*freqs,sigma,'x')\n",
    "plt.yticks([]); plt.legend(('Splined','CPP-DFT'))\n",
    "plt.show()"
   ]
  },
  {
   "cell_type": "code",
   "execution_count": 49,
   "metadata": {},
   "outputs": [
    {
     "ename": "IndexError",
     "evalue": "list index out of range",
     "output_type": "error",
     "traceback": [
      "\u001b[0;31m---------------------------------------------------------------------------\u001b[0m",
      "\u001b[0;31mIndexError\u001b[0m                                Traceback (most recent call last)",
      "\u001b[0;32m<ipython-input-49-fb0b2e308921>\u001b[0m in \u001b[0;36m<module>\u001b[0;34m\u001b[0m\n\u001b[1;32m     22\u001b[0m         \u001b[0mcomp_Y\u001b[0m \u001b[0;34m=\u001b[0m \u001b[0mnp\u001b[0m\u001b[0;34m.\u001b[0m\u001b[0msum\u001b[0m\u001b[0;34m(\u001b[0m\u001b[0mnp\u001b[0m\u001b[0;34m.\u001b[0m\u001b[0mabs\u001b[0m\u001b[0;34m(\u001b[0m\u001b[0mnp\u001b[0m\u001b[0;34m.\u001b[0m\u001b[0mimag\u001b[0m\u001b[0;34m(\u001b[0m\u001b[0my_tmp\u001b[0m\u001b[0;34m[\u001b[0m\u001b[0mocc\u001b[0m\u001b[0;34m*\u001b[0m\u001b[0mnvirt\u001b[0m \u001b[0;34m:\u001b[0m \u001b[0;34m(\u001b[0m\u001b[0mocc\u001b[0m\u001b[0;34m+\u001b[0m\u001b[0;36m1\u001b[0m\u001b[0;34m)\u001b[0m\u001b[0;34m*\u001b[0m\u001b[0mnvirt\u001b[0m\u001b[0;34m]\u001b[0m\u001b[0;34m)\u001b[0m\u001b[0;34m)\u001b[0m\u001b[0;34m)\u001b[0m \u001b[0;34m/\u001b[0m \u001b[0mnp\u001b[0m\u001b[0;34m.\u001b[0m\u001b[0msum\u001b[0m\u001b[0;34m(\u001b[0m\u001b[0mnp\u001b[0m\u001b[0;34m.\u001b[0m\u001b[0mabs\u001b[0m\u001b[0;34m(\u001b[0m\u001b[0mnp\u001b[0m\u001b[0;34m.\u001b[0m\u001b[0mimag\u001b[0m\u001b[0;34m(\u001b[0m\u001b[0my_tmp\u001b[0m\u001b[0;34m[\u001b[0m\u001b[0;34m:\u001b[0m\u001b[0;34m]\u001b[0m\u001b[0;34m)\u001b[0m\u001b[0;34m)\u001b[0m\u001b[0;34m)\u001b[0m\u001b[0;34m\u001b[0m\u001b[0;34m\u001b[0m\u001b[0m\n\u001b[1;32m     23\u001b[0m         \u001b[0mcomp_Z\u001b[0m \u001b[0;34m=\u001b[0m \u001b[0mnp\u001b[0m\u001b[0;34m.\u001b[0m\u001b[0msum\u001b[0m\u001b[0;34m(\u001b[0m\u001b[0mnp\u001b[0m\u001b[0;34m.\u001b[0m\u001b[0mabs\u001b[0m\u001b[0;34m(\u001b[0m\u001b[0mnp\u001b[0m\u001b[0;34m.\u001b[0m\u001b[0mimag\u001b[0m\u001b[0;34m(\u001b[0m\u001b[0mz_tmp\u001b[0m\u001b[0;34m[\u001b[0m\u001b[0mocc\u001b[0m\u001b[0;34m*\u001b[0m\u001b[0mnvirt\u001b[0m \u001b[0;34m:\u001b[0m \u001b[0;34m(\u001b[0m\u001b[0mocc\u001b[0m\u001b[0;34m+\u001b[0m\u001b[0;36m1\u001b[0m\u001b[0;34m)\u001b[0m\u001b[0;34m*\u001b[0m\u001b[0mnvirt\u001b[0m\u001b[0;34m]\u001b[0m\u001b[0;34m)\u001b[0m\u001b[0;34m)\u001b[0m\u001b[0;34m)\u001b[0m \u001b[0;34m/\u001b[0m \u001b[0mnp\u001b[0m\u001b[0;34m.\u001b[0m\u001b[0msum\u001b[0m\u001b[0;34m(\u001b[0m\u001b[0mnp\u001b[0m\u001b[0;34m.\u001b[0m\u001b[0mabs\u001b[0m\u001b[0;34m(\u001b[0m\u001b[0mnp\u001b[0m\u001b[0;34m.\u001b[0m\u001b[0mimag\u001b[0m\u001b[0;34m(\u001b[0m\u001b[0mz_tmp\u001b[0m\u001b[0;34m[\u001b[0m\u001b[0;34m:\u001b[0m\u001b[0;34m]\u001b[0m\u001b[0;34m)\u001b[0m\u001b[0;34m)\u001b[0m\u001b[0;34m)\u001b[0m\u001b[0;34m\u001b[0m\u001b[0;34m\u001b[0m\u001b[0m\n\u001b[0;32m---> 24\u001b[0;31m         \u001b[0mspec_comp\u001b[0m\u001b[0;34m[\u001b[0m\u001b[0mocc\u001b[0m\u001b[0;34m]\u001b[0m\u001b[0;34m.\u001b[0m\u001b[0mappend\u001b[0m\u001b[0;34m(\u001b[0m\u001b[0;34m(\u001b[0m\u001b[0mcomp_X\u001b[0m\u001b[0;34m*\u001b[0m\u001b[0msX\u001b[0m\u001b[0;34m[\u001b[0m\u001b[0mi\u001b[0m\u001b[0;34m]\u001b[0m\u001b[0;34m+\u001b[0m\u001b[0mcomp_Y\u001b[0m\u001b[0;34m*\u001b[0m\u001b[0msY\u001b[0m\u001b[0;34m[\u001b[0m\u001b[0mi\u001b[0m\u001b[0;34m]\u001b[0m\u001b[0;34m+\u001b[0m\u001b[0mcomp_Z\u001b[0m\u001b[0;34m*\u001b[0m\u001b[0msZ\u001b[0m\u001b[0;34m[\u001b[0m\u001b[0mi\u001b[0m\u001b[0;34m]\u001b[0m\u001b[0;34m)\u001b[0m\u001b[0;34m)\u001b[0m\u001b[0;34m\u001b[0m\u001b[0;34m\u001b[0m\u001b[0m\n\u001b[0m\u001b[1;32m     25\u001b[0m \u001b[0mplt\u001b[0m\u001b[0;34m.\u001b[0m\u001b[0mfigure\u001b[0m\u001b[0;34m(\u001b[0m\u001b[0mfigsize\u001b[0m\u001b[0;34m=\u001b[0m\u001b[0;34m(\u001b[0m\u001b[0;36m8\u001b[0m\u001b[0;34m,\u001b[0m\u001b[0;36m3\u001b[0m\u001b[0;34m)\u001b[0m\u001b[0;34m)\u001b[0m\u001b[0;34m\u001b[0m\u001b[0;34m\u001b[0m\u001b[0m\n\u001b[1;32m     26\u001b[0m \u001b[0mmo1\u001b[0m     \u001b[0;34m=\u001b[0m \u001b[0mnp\u001b[0m\u001b[0;34m.\u001b[0m\u001b[0marray\u001b[0m\u001b[0;34m(\u001b[0m\u001b[0mspec_comp\u001b[0m\u001b[0;34m[\u001b[0m\u001b[0;36m0\u001b[0m\u001b[0;34m]\u001b[0m\u001b[0;34m)\u001b[0m\u001b[0;34m\u001b[0m\u001b[0;34m\u001b[0m\u001b[0m\n",
      "\u001b[0;31mIndexError\u001b[0m: list index out of range"
     ]
    }
   ],
   "source": [
    "nocc = molecule.number_of_alpha_electrons()\n",
    "nvirt = scf_drv.mol_orbs.number_mos() - nocc\n",
    "spec_comp = []\n",
    "solution_vecs = cpp_prop.get_property('solutions')\n",
    "x_solution,y_solution,z_solution = [],[],[]\n",
    "for w in freqs:\n",
    "    x_solution.append(solution_vecs[('x',w)]); y_solution.append(solution_vecs[('y',w)]); z_solution.append(solution_vecs[('z',w)])\n",
    "x_solution,x_solution,x_solution = np.array(x_solution),np.array(y_solution),np.array(z_solution)\n",
    "for occ in np.arange(0,nocc): spec_comp.append([])\n",
    "for i in np.arange(len(freqs)):\n",
    "    x_tmp = x_solution[i]; y_tmp = y_solution[i]; z_tmp = z_solution[i]\n",
    "    for occ in np.arange(0,nocc):\n",
    "        comp_X = np.sum(np.abs(np.imag(x_tmp[occ*nvirt : (occ+1)*nvirt]))) / np.sum(np.abs(np.imag(x_tmp[:])))\n",
    "        comp_Y = np.sum(np.abs(np.imag(y_tmp[occ*nvirt : (occ+1)*nvirt]))) / np.sum(np.abs(np.imag(y_tmp[:])))\n",
    "        comp_Z = np.sum(np.abs(np.imag(z_tmp[occ*nvirt : (occ+1)*nvirt]))) / np.sum(np.abs(np.imag(z_tmp[:])))\n",
    "        spec_comp[occ].append((comp_X*sX[i]+comp_Y*sY[i]+comp_Z*sZ[i]))\n",
    "plt.figure(figsize=(8,3))\n",
    "mo1     = np.array(spec_comp[0])\n",
    "mo2     = np.array(spec_comp[1])\n",
    "mo_rest = spec_comp[2]\n",
    "for i in np.arange(2,len(spec_comp)):\n",
    "    for j in np.arange(len(spec_comp[0])):\n",
    "        mo_rest[j] += spec_comp[i][j]\n",
    "\n",
    "        \n",
    "x = np.arange(min(au2ev*freqs),max(au2ev*freqs),0.01)\n",
    "y1    = interp1d(au2ev*freqs, mo1, kind='cubic')\n",
    "yrest = interp1d(au2ev*freqs, mo_rest, kind='cubic')\n",
    "plt.plot(x,y1(x)+yrest(x),'k-',linewidth=2)\n",
    "plt.fill_between(x, yrest(x), y1(x)+yrest(x), alpha=0.6)\n",
    "plt.fill_between(x, 0, yrest(x), alpha=0.6)\n",
    "plt.legend(('Total','MO #1','Rest'))\n",
    "plt.tight_layout()"
   ]
  },
  {
   "cell_type": "markdown",
   "metadata": {},
   "source": [
    "We see that\n",
    "\n",
    "- The first two states corresponds to transitions from two different MOs, which here corresponds to CHF and CH2\n",
    "\n",
    "- The transitions are dominated to two different virtuals\n",
    "\n",
    "#### Polarization"
   ]
  },
  {
   "cell_type": "code",
   "execution_count": 51,
   "metadata": {},
   "outputs": [
    {
     "name": "stdout",
     "output_type": "stream",
     "text": [
      "Polarization\n"
     ]
    },
    {
     "data": {
      "image/png": "[encoded data removed]",
      "text/plain": [
       "<Figure size 432x288 with 1 Axes>"
      ]
     },
     "metadata": {
      "needs_background": "light"
     },
     "output_type": "display_data"
    }
   ],
   "source": [
    "print('Polarization')\n",
    "prefactor = 1.\n",
    "sX,sY,sZ = [],[],[]\n",
    "freq = adc_full.excitation_energy\n",
    "for i in np.arange(len(freq)):\n",
    "    tmp_tms = adc_full.transition_dipole_moment[i]\n",
    "    sX.append(freqs[i]*tmp_tms[0]**2)\n",
    "    sY.append(freqs[i]*tmp_tms[1]**2)\n",
    "    sZ.append(freqs[i]*tmp_tms[2]**2)\n",
    "    \n",
    "plt.figure()\n",
    "x,y = au2ev*freq, sX\n",
    "xX,yX = lorentzian(x,y,285,300,0.01,0.5)\n",
    "x,y = au2ev*freq, sY\n",
    "xY,yY = lorentzian(x,y,285,300,0.01,0.5)\n",
    "x,y = au2ev*freq, sZ\n",
    "xZ,yZ = lorentzian(x,y,285,300,0.01,0.5)\n",
    "plt.plot(xX,yX+yY+yZ,'k-',linewidth=2)\n",
    "plt.fill_between(xX, 0, yX,alpha=0.6)\n",
    "plt.fill_between(xX, yX, yX+yY,alpha=0.6)\n",
    "plt.fill_between(xX, yX+yY, yX+yY+yZ,alpha=0.6)\n",
    "plt.legend(('Isotropic','x-pol.','y-pol.','z-pol.'))\n",
    "plt.xlim((285,297))\n",
    "plt.show()"
   ]
  },
  {
   "cell_type": "markdown",
   "metadata": {},
   "source": [
    "This can be done for CPP-DFT, taking the water calculation from above as an example.\n",
    "\n",
    "Polarization:"
   ]
  },
  {
   "cell_type": "code",
   "execution_count": 50,
   "metadata": {},
   "outputs": [
    {
     "data": {
      "image/png": "[encoded data removed]",
      "text/plain": [
       "<Figure size 432x288 with 1 Axes>"
      ]
     },
     "metadata": {
      "needs_background": "light"
     },
     "output_type": "display_data"
    }
   ],
   "source": [
    "sX,sY,sZ = [],[],[]\n",
    "for w in freqs:\n",
    "    axx = -cpp_prop.rsp_property['response_functions'][('x', 'x', w)].imag\n",
    "    ayy = -cpp_prop.rsp_property['response_functions'][('y', 'y', w)].imag\n",
    "    azz = -cpp_prop.rsp_property['response_functions'][('z', 'z', w)].imag\n",
    "    sX.append(4.0 * np.pi * w * axx / 137.035999 / 3.0)\n",
    "    sY.append(4.0 * np.pi * w * ayy / 137.035999 / 3.0)\n",
    "    sZ.append(4.0 * np.pi * w * azz / 137.035999 / 3.0)\n",
    "\n",
    "x = np.arange(min(au2ev*freqs),max(au2ev*freqs),0.01)\n",
    "yX = interp1d(au2ev*freqs, sX, kind='cubic')\n",
    "yY = interp1d(au2ev*freqs, sY, kind='cubic')\n",
    "yZ = interp1d(au2ev*freqs, sZ, kind='cubic')\n",
    "plt.plot(x,yX(x)+yY(x)+yZ(x),'k-',linewidth=2)\n",
    "plt.fill_between(x, 0, yX(x), alpha=0.6)\n",
    "plt.fill_between(x, yX(x), yX(x)+yY(x), alpha=0.6)\n",
    "plt.fill_between(x, yX(x)+yY(x), yX(x)+yY(x)+yZ(x), alpha=0.6)\n",
    "plt.legend(('Isotropic','x-pol.','y-pol.','z-pol.'))\n",
    "plt.show()"
   ]
  },
  {
   "cell_type": "markdown",
   "metadata": {},
   "source": [
    "And atomic:"
   ]
  },
  {
   "cell_type": "markdown",
   "metadata": {},
   "source": [
    "...which is of course only one atom...\n",
    "\n",
    "The decomposition for vinylfluoride yields\n",
    "\n",
    "#### Comparison between ADC and DFT\n",
    "\n",
    "One figure - ADC and TDDFT, atomic and polarization\n",
    "\n",
    "\n",
    "```{figure} ../img/xray/vinyl_decomp.svg\n",
    "---\n",
    "name: vinyl_decomp\n",
    "---\n",
    "foo\n",
    "```\n",
    "\n",
    "Visualization and descriptors (?)"
   ]
  },
  {
   "cell_type": "markdown",
   "metadata": {},
   "source": [
    "## Self-interaction error in DFT\n",
    "\n",
    "For a single-electron systems the following equality should hold for the two-electron terms:\n",
    "\n",
    "$$\n",
    "J[\\rho] + E_{xc} [\\rho] = 0.0\n",
    "$$\n",
    "\n",
    "This cancellation is achieved for, e.g. Hartree–Fock theory, but for any approximate functionals in DFT it will instead result in an erronous contribution to the energy. DFT-based methods generally suffer from self-interaction error (SIE), which corresponds to the sum of Coulomb and exchange self-interactions that remain because of the use of approximate exchange functionals. In more detail, the Coulomb self-repulsion of each electron included in the Coulomb operator is exactly canceled by the nonlocal exchange self-attraction in Hartree--Fock theory, but this is no longer the case when the exchange operator is replaced by an approximate exchange functional.\n",
    "\n",
    "- Radial distribution or something for functionals? Calculate error?"
   ]
  },
  {
   "cell_type": "markdown",
   "metadata": {},
   "source": [
    "## Relativity\n",
    "\n",
    "Total relativistic and correlation corrections as a function of Z\n",
    "\n",
    "### Scalar relativistic effects\n",
    "\n",
    "#### Shift in IP"
   ]
  },
  {
   "cell_type": "code",
   "execution_count": 69,
   "metadata": {
    "tags": [
     "hide-output"
    ]
   },
   "outputs": [
    {
     "name": "stdout",
     "output_type": "stream",
     "text": [
      "converged SCF energy = -2.85516047724517  <S^2> = 8.8817842e-16  2S+1 = 1\n",
      "converged SCF energy = -2.85525304501806  <S^2> = -8.8817842e-16  2S+1 = 1\n",
      "converged SCF energy = -1.99426858617921  <S^2> = 0.75  2S+1 = 2\n",
      "converged SCF energy = -1.99436880481929  <S^2> = 0.75  2S+1 = 2\n",
      "converged SCF energy = -14.5723376313364  <S^2> = -1.3322676e-15  2S+1 = 1\n",
      "converged SCF energy = -14.5748455751004  <S^2> = -1.7763568e-15  2S+1 = 1\n",
      "converged SCF energy = -10.0357274640245  <S^2> = 0.75629212  2S+1 = 2.0062823\n",
      "converged SCF energy = -10.0378218682236  <S^2> = 0.75630468  2S+1 = 2.0062948\n",
      "converged SCF energy = -37.596291563267  <S^2> = 0  2S+1 = 1\n",
      "converged SCF energy = -37.6112425609769  <S^2> = 1.7763568e-15  2S+1 = 1\n",
      "converged SCF energy = -26.6586016324337  <S^2> = 0.75725115  2S+1 = 2.0072381\n",
      "converged SCF energy = -26.6699783724446  <S^2> = 0.75726738  2S+1 = 2.0072542\n",
      "converged SCF energy = -74.665428938125  <S^2> = 4.4408921e-16  2S+1 = 1\n",
      "converged SCF energy = -74.717502069482  <S^2> = 8.8817842e-16  2S+1 = 1\n",
      "converged SCF energy = -54.5945032394038  <S^2> = 0.75658425  2S+1 = 2.0065734\n",
      "converged SCF energy = -54.632827234564  <S^2> = 0.75660276  2S+1 = 2.0065919\n",
      "converged SCF energy = -128.488775570938  <S^2> = 7.1054274e-15  2S+1 = 1\n",
      "converged SCF energy = -128.62541537372  <S^2> = -4.4408921e-15  2S+1 = 1\n",
      "converged SCF energy = -96.5516222970474  <S^2> = 0.75578137  2S+1 = 2.005773\n",
      "converged SCF energy = -96.6510283847189  <S^2> = 0.75580087  2S+1 = 2.0057925\n",
      "converged SCF energy = -199.608297084141  <S^2> = -8.8817842e-15  2S+1 = 1\n",
      "converged SCF energy = -199.914940213906  <S^2> = -1.7763568e-15  2S+1 = 1\n",
      "converged SCF energy = -151.491503261379  <S^2> = 0.75303231  2S+1 = 2.00303\n",
      "converged SCF energy = -151.717159175501  <S^2> = 0.75305441  2S+1 = 2.0030521\n",
      "converged SCF energy = -288.787205052154  <S^2> = -5.3290705e-15  2S+1 = 1\n",
      "converged SCF energy = -289.390917359355  <S^2> = 3.5527137e-15  2S+1 = 1\n",
      "converged SCF energy = -220.963046126516  <S^2> = 0.75243322  2S+1 = 2.0024317\n",
      "converged SCF energy = -221.408449536242  <S^2> = 0.75245636  2S+1 = 2.0024549\n",
      "converged SCF energy = -397.413437578762  <S^2> = -1.7763568e-15  2S+1 = 1\n",
      "converged SCF energy = -398.496590616452  <S^2> = -5.3290705e-15  2S+1 = 1\n",
      "converged SCF energy = -306.488275279816  <S^2> = 0.75212654  2S+1 = 2.0021254\n",
      "converged SCF energy = -307.289416362877  <S^2> = 0.75215123  2S+1 = 2.0021501\n",
      "converged SCF energy = -526.799865309821  <S^2> = -3.5527137e-15  2S+1 = 1\n",
      "converged SCF energy = -528.611698214501  <S^2> = 1.7763568e-15  2S+1 = 1\n",
      "converged SCF energy = -409.378251604582  <S^2> = 0.75188904  2S+1 = 2.0018881\n",
      "converged SCF energy = -410.722091098659  <S^2> = 0.75191517  2S+1 = 2.0019143\n"
     ]
    }
   ],
   "source": [
    "z, rel_mo, rel_delta = [],[],[]\n",
    "for i in np.arange(2,20,2):\n",
    "    struct = str(i)+'   0.0  0.0  0.0'\n",
    "    mol = gto.Mole(); mol.atom  = struct; mol.basis = 'unc-ccpvdz'; mol.build()\n",
    "    scf_nr  = scf.UHF(mol); scf_nr.kernel()\n",
    "    scf_rel = scf.UHF(mol).x2c1e(); scf_rel.kernel()\n",
    "    z.append(i)\n",
    "    rel_mo.append(27.2114*(scf_nr.mo_energy[0][0]-scf_rel.mo_energy[0][0]))\n",
    "    mo0 = copy.deepcopy(scf_nr.mo_coeff); occ0 = copy.deepcopy(scf_nr.mo_occ); occ0[0][0] = 0.0\n",
    "    ion_nr  = scf.UHF(mol); scf.addons.mom_occ(ion_nr, mo0, occ0);  ion_nr.kernel()\n",
    "    ion_rel = scf.UHF(mol).x2c1e();     scf.addons.mom_occ(ion_rel, mo0, occ0);     ion_rel.kernel()\n",
    "    rel_delta.append(27.2114*((ion_rel.e_tot-scf_rel.e_tot)-(ion_nr.e_tot-scf_nr.e_tot)))"
   ]
  },
  {
   "cell_type": "markdown",
   "metadata": {},
   "source": [
    "yielding"
   ]
  },
  {
   "cell_type": "code",
   "execution_count": 71,
   "metadata": {},
   "outputs": [
    {
     "data": {
      "image/png": "[encoded data removed]",
      "text/plain": [
       "<Figure size 432x288 with 1 Axes>"
      ]
     },
     "metadata": {
      "needs_background": "light"
     },
     "output_type": "display_data"
    }
   ],
   "source": [
    "plt.figure(figsize=(6,4))\n",
    "plt.plot(z,rel_mo)\n",
    "plt.plot(z,rel_delta)\n",
    "plt.legend(('From MO energies',r'From $\\Delta$SCF'))\n",
    "plt.xlabel('Atomic number')\n",
    "plt.ylabel('Relativistic effects [eV]')\n",
    "plt.show()"
   ]
  },
  {
   "cell_type": "markdown",
   "metadata": {},
   "source": [
    "#### Shift in XAS"
   ]
  },
  {
   "cell_type": "code",
   "execution_count": 87,
   "metadata": {},
   "outputs": [
    {
     "name": "stdout",
     "output_type": "stream",
     "text": [
      "converged SCF energy = -75.9890271783229\n"
     ]
    },
    {
     "name": "stderr",
     "output_type": "stream",
     "text": [
      "/home/thomas/pkg/adcc/adcc/backends/__init__.py:48: UserWarning: Could not check host program psi4 minimal version, since __version__ tag not found. Proceeding anyway.\n",
      "  \"\".format(module)\n"
     ]
    },
    {
     "name": "stdout",
     "output_type": "stream",
     "text": [
      "Starting cvs-adc2 singlet Jacobi-Davidson ...\n",
      "Niter n_ss  max_residual  time  Ritz values\n",
      "  1    10        2.7777  640ms  [20.276 20.312 20.861 20.922 20.93 ]\n",
      "  2    20      0.035824  561ms  [19.729 19.811 20.31  20.405 20.498]\n",
      "  3    30    4.1402e-05  581ms  [19.724 19.807 20.306 20.4   20.498]\n",
      "=== Converged ===\n",
      "    Number of matrix applies:    30\n",
      "    Total solver time:             1s 818ms\n",
      "converged SCF energy = -76.0403950942686\n",
      "Starting cvs-adc2 singlet Jacobi-Davidson ...\n",
      "Niter n_ss  max_residual  time  Ritz values\n",
      "  1    10        2.7842  505ms  [20.29  20.327 20.876 20.937 20.945]\n",
      "  2    20      0.036027  537ms  [19.743 19.825 20.325 20.419 20.513]\n",
      "  3    30    4.1677e-05  648ms  [19.738 19.821 20.32  20.414 20.512]\n",
      "=== Converged ===\n",
      "    Number of matrix applies:    30\n",
      "    Total solver time:             1s 746ms\n"
     ]
    }
   ],
   "source": [
    "mol = gto.Mole()\n",
    "mol.atom  = water; mol.basis = 'unc-6-31G'\n",
    "mol.build()\n",
    "\n",
    "# non-relativistic\n",
    "scf_nr  = scf.RHF(mol); scf_nr.kernel()\n",
    "adc_nr  = adcc.cvs_adc2(scf_nr,n_singlets=5,core_orbitals=1)\n",
    "\n",
    "# relativistic\n",
    "scf_rel = scf.RHF(mol).x2c1e(); scf_rel.kernel()\n",
    "adc_rel = adcc.cvs_adc2(scf_rel,n_singlets=5,core_orbitals=1)"
   ]
  },
  {
   "cell_type": "code",
   "execution_count": 91,
   "metadata": {},
   "outputs": [
    {
     "data": {
      "image/png": "[encoded data removed]",
      "text/plain": [
       "<Figure size 432x288 with 1 Axes>"
      ]
     },
     "metadata": {
      "needs_background": "light"
     },
     "output_type": "display_data"
    },
    {
     "name": "stdout",
     "output_type": "stream",
     "text": [
      "Energy shift of the first feature: 0.38 eV\n"
     ]
    }
   ],
   "source": [
    "plt.figure()\n",
    "adc_nr.plot_spectrum(label='Non-relativistic')\n",
    "adc_rel.plot_spectrum(label='Relativistic')\n",
    "plt.legend(); plt.show()\n",
    "print('Energy shift of the first feature:',\n",
    "      np.around(au2ev*(adc_rel.excitation_energy[0]-adc_nr.excitation_energy[0]),2),'eV')"
   ]
  },
  {
   "cell_type": "markdown",
   "metadata": {},
   "source": [
    "#### Shift in XES"
   ]
  },
  {
   "cell_type": "code",
   "execution_count": 98,
   "metadata": {},
   "outputs": [
    {
     "name": "stdout",
     "output_type": "stream",
     "text": [
      "converged SCF energy = -75.9890271783204  <S^2> = 8.9066532e-12  2S+1 = 1\n",
      "converged SCF energy = -56.1707263747173  <S^2> = 0.76785148  2S+1 = 2.0177725\n"
     ]
    },
    {
     "name": "stderr",
     "output_type": "stream",
     "text": [
      "/home/thomas/pkg/adcc/adcc/backends/__init__.py:48: UserWarning: Could not check host program psi4 minimal version, since __version__ tag not found. Proceeding anyway.\n",
      "  \"\".format(module)\n"
     ]
    },
    {
     "name": "stdout",
     "output_type": "stream",
     "text": [
      "Starting adc2  Jacobi-Davidson ...\n",
      "Niter n_ss  max_residual  time  Ritz values\n",
      "  1     8        7.5126   2.1s  [-19.076 -18.983 -18.741 -18.153]\n",
      "  2    16      0.045812  386ms  [-19.393 -19.319 -19.131 -18.544]\n",
      "  3    24    2.6332e-05  366ms  [-19.394 -19.32  -19.133 -18.546]\n",
      "=== Converged ===\n",
      "    Number of matrix applies:    24\n",
      "    Total solver time:             2s 861ms\n",
      "converged SCF energy = -56.2081331115692  <S^2> = 0.76789584  2S+1 = 2.0178165\n",
      "Starting adc2  Jacobi-Davidson ...\n",
      "Niter n_ss  max_residual  time  Ritz values\n",
      "  1     8        7.5482   2.1s  [-19.09  -18.996 -18.754 -18.165]\n",
      "  2    16      0.046112  601ms  [-19.407 -19.333 -19.146 -18.557]\n",
      "  3    24    2.6698e-05  425ms  [-19.408 -19.334 -19.147 -18.558]\n",
      "=== Converged ===\n",
      "    Number of matrix applies:    24\n",
      "    Total solver time:             3s 177ms\n"
     ]
    }
   ],
   "source": [
    "mol = gto.Mole()\n",
    "mol.atom  = water; mol.basis = 'unc-6-31G'\n",
    "mol.build()\n",
    "\n",
    "# non-relativistic\n",
    "scf_nr  = scf.UHF(mol); scf_nr.kernel()\n",
    "mo0 = copy.deepcopy(scf_nr.mo_coeff)\n",
    "occ0 = copy.deepcopy(scf_nr.mo_occ)\n",
    "occ0[0][0] = 0.0\n",
    "ion_nr = scf.UHF(mol); scf.addons.mom_occ(ion_nr, mo0, occ0); ion_nr.kernel()\n",
    "adc_nr  = adcc.adc2(ion_nr,n_states=4)\n",
    "\n",
    "# relativistic (can reuse the non-relativistic SCF start)\n",
    "ion_rel = scf.UHF(mol).x2c1e(); scf.addons.mom_occ(ion_rel, mo0, occ0); ion_rel.kernel()\n",
    "adc_rel = adcc.adc2(ion_rel,n_states=4)"
   ]
  },
  {
   "cell_type": "code",
   "execution_count": 100,
   "metadata": {},
   "outputs": [
    {
     "data": {
      "image/png": "[encoded data removed]",
      "text/plain": [
       "<Figure size 432x288 with 1 Axes>"
      ]
     },
     "metadata": {
      "needs_background": "light"
     },
     "output_type": "display_data"
    },
    {
     "name": "stdout",
     "output_type": "stream",
     "text": [
      "Energy shift of the first feature: 0.39 eV\n"
     ]
    }
   ],
   "source": [
    "plt.figure()\n",
    "adc_nr.plot_spectrum(label='Non-relativistic')\n",
    "adc_rel.plot_spectrum(label='Relativistic')\n",
    "plt.legend(); plt.show()\n",
    "print('Energy shift of the first feature:',\n",
    "      np.around(np.abs(au2ev*(adc_rel.excitation_energy[0]-adc_nr.excitation_energy[0])),2),'eV')"
   ]
  },
  {
   "cell_type": "markdown",
   "metadata": {},
   "source": [
    "### Spin-orbit coupling"
   ]
  },
  {
   "cell_type": "markdown",
   "metadata": {},
   "source": [
    "## Relaxation\n",
    "\n",
    "### In ADC\n",
    "\n",
    "\n",
    "### In TDDFT\n",
    "\n",
    "\n",
    "1. Radial distribution: Z, Z with hole, Z+1\n",
    "\n",
    "2. Total density: formaldehyde\n",
    "\n",
    "3. Maybe: visualization of effects for XAS and XES\n",
    "\n",
    "\n",
    "```{figure} ../img/xray/relax_form.svg\n",
    "---\n",
    "name: relax_form\n",
    "---\n",
    "foo\n",
    "```"
   ]
  },
  {
   "cell_type": "markdown",
   "metadata": {},
   "source": [
    "## Basis set considerations\n",
    "\n",
    "The basis set requirements of X-ray spectrum calculations will depend strongly on which spectroscopy\n",
    "\n",
    "- XPS and XES probes occupied states, and thus need a good description of those\n",
    "\n",
    "- XAS and RIXS probes excited states, and thus need an improved description also of this region\n",
    "\n",
    "However, in both cases the relaxation due to the creation of a core-hole need to be enabled, which yield requirements of reasonable flexibility of the core and inner valence region. This is not typically the case, as most studies deals with valence electron and thus have a minimal or close to minimal description of the core region.\n",
    "\n",
    "A number of approaches for improving the basis sets have been developed:\n",
    "\n",
    "1. Augment the Dunning basis sets with core-polarizing functions, e.g. cc-pV*n*Z $\\rightarrow$ cc-pCV*n*Z\n",
    "\n",
    "2. Adding extra flexibility by performing full or partial decontraction, e.g.\n",
    "    1. u6-311++G** is 6-311++G** with decontracted 1s function of the probed element\n",
    "    2. un-6-311++G** is a fully decontracted 6-311++G** basis set\n",
    "\n",
    "3. Use basis functions from the next element, is inspired by the equvalent core/Z+1 approximation\n",
    "\n",
    "Here we focus on the basis set effects for calculations of the IP of water, and we encourage the interested reader to do the same excercise for XES, as well as for XAS (where the augmentation of diffuse functions also need to be considered)."
   ]
  },
  {
   "cell_type": "code",
   "execution_count": 79,
   "metadata": {
    "tags": [
     "hide-input"
    ]
   },
   "outputs": [],
   "source": [
    "u6311gss  = {'O': gto.basis.parse('''\n",
    "O    S\n",
    "   8588.500                  1.000000 \n",
    "O    S\n",
    "   1297.230                  1.000000 \n",
    "O    S\n",
    "    299.2960                 1.000000 \n",
    "O    S\n",
    "     87.37710                1.000000 \n",
    "O    S\n",
    "     25.67890                1.000000 \n",
    "O    S\n",
    "      3.740040               1.000000 \n",
    "O    SP\n",
    "     42.11750                0.113889               0.0365114\n",
    "      9.628370               0.920811               0.237153\n",
    "      2.853320              -0.00327447             0.819702\n",
    "O    SP\n",
    "      0.905661               1.000000               1.000000\n",
    "O    SP\n",
    "      0.255611               1.000000               1.000000\n",
    "O    D\n",
    "      1.292                  1.000000\n",
    "'''), 'H': '6-311G**'}\n",
    "un6311gss = {'O': gto.basis.parse('''\n",
    "O    S\n",
    "   8588.500                  1.000000 \n",
    "O    S\n",
    "   1297.230                  1.000000 \n",
    "O    S\n",
    "    299.2960                 1.000000 \n",
    "O    S\n",
    "     87.37710                1.000000 \n",
    "O    S\n",
    "     25.67890                1.000000 \n",
    "O    S\n",
    "      3.740040               1.000000 \n",
    "O    SP\n",
    "     42.11750                1.000000               1.000000\n",
    "O    SP\n",
    "      9.628370               1.000000               1.000000\n",
    "O    SP\n",
    "      2.853320               1.000000               1.000000\n",
    "O    SP\n",
    "      0.905661               1.000000               1.000000\n",
    "O    SP\n",
    "      0.255611               1.000000               1.000000\n",
    "O    D\n",
    "      1.292                  1.000000\n",
    "'''), 'H': '6-311G**'}\n",
    "z6311gss  = {'O': gto.basis.parse('''\n",
    "O    S\n",
    "   8588.500                  0.00189515\n",
    "   1297.230                  0.0143859\n",
    "    299.2960                 0.0707320\n",
    "     87.37710                0.2400010\n",
    "     25.67890                0.5947970\n",
    "      3.740040               0.2808020\n",
    "O    SP\n",
    "     42.11750                0.113889               0.0365114\n",
    "      9.628370               0.920811               0.237153\n",
    "      2.853320              -0.00327447             0.819702\n",
    "O    SP\n",
    "      0.905661               1.000000               1.000000\n",
    "O    SP\n",
    "      0.255611               1.000000               1.000000\n",
    "O    D\n",
    "      1.292                  1.000000\n",
    "O    S\n",
    "  11427.10                   0.00180093\n",
    "   1722.350                  0.0137419\n",
    "    395.7460                 0.0681334\n",
    "    115.1390                 0.2333250\n",
    "     33.60260                0.5890860\n",
    "      4.919010               0.2995050\n",
    "O    SP\n",
    "     55.44410                0.114536               0.0354609\n",
    "     12.63230                0.920512               0.237451\n",
    "      3.717560              -0.00337804             0.820458\n",
    "O    SP\n",
    "      1.165450               1.000000               1.000000\n",
    "O    SP\n",
    "      0.321892               1.000000               1.000000\n",
    "O    D\n",
    "      1.750                  1.000000\n",
    "'''), 'H': '6-311G**'}"
   ]
  },
  {
   "cell_type": "markdown",
   "metadata": {
    "tags": [
     "hide-input"
    ]
   },
   "source": [
    "Exotic version of basis sets found above\n",
    "\n",
    "```python\n",
    "basis_sets = ['6-311G**',u6311gss,un6311gss,z6311gss, 'cc-pVDZ', 'cc-pCVDZ', 'cc-pVTZ', 'cc-pCVTZ','cc-pVQZ', 'cc-pCVQZ']\n",
    "ip_hf, ip_mp2, ip_ccsd, ip_b3lyp, n_bas = [],[],[],[],[]\n",
    "for basis in basis_sets:\n",
    "    mol = gto.Mole(); mol.atom  = water; mol.basis = basis\n",
    "    mol.build()\n",
    "    scfres = scf.UHF(mol); scfres.kernel()\n",
    "    mo0 = copy.deepcopy(scfres.mo_coeff); occ0 = copy.deepcopy(scfres.mo_occ); occ0[0][0] = 0.0\n",
    "    scfion = scf.UHF(mol); scf.addons.mom_occ(scfion, mo0, occ0); scfion.kernel()\n",
    "    ip_hf.append(au2ev*(scfion.energy_tot() - scfres.energy_tot()))\n",
    "    ccsd_res = cc.UCCSD(scfres).run(); ccsd_ion = cc.UCCSD(scfion).run(max_cycle=500)\n",
    "    ip_ccsd.append(au2ev*(ccsd_ion.e_tot - ccsd_res.e_tot))\n",
    "    ip_mp2.append(au2ev*(ccsd_ion.e_hf+ccsd_ion.emp2-(ccsd_res.e_hf+ccsd_res.emp2)))\n",
    "    scfres = scf.UKS(mol); scfres.xc = 'b3lyp'; scfres.kernel()\n",
    "    mo0 = copy.deepcopy(scfres.mo_coeff); occ0 = copy.deepcopy(scfres.mo_occ); occ0[0][0] = 0.0\n",
    "    scfion = scf.UKS(mol); scf.addons.mom_occ(scfion, mo0, occ0); scfion.xc = 'b3lyp'; scfion.kernel()\n",
    "    ip_b3lyp.append(au2ev*(scfion.energy_tot() - scfres.energy_tot()))\n",
    "    n_bas.append(len(scfres.mo_occ[0]))\n",
    "    \n",
    "plt.figure(figsize=(10,5))\n",
    "basis_set_labels = ['6-311G**','u6-311G**','un6-311G**','6-311G** (Z+1)', 'cc-pVDZ', 'cc-pCVDZ', 'cc-pVTZ', 'cc-pCVTZ','cc-pVQZ', 'cc-pCVQZ']\n",
    "plt.plot(n_bas,ip_hf,'r*'); plt.plot(n_bas,ip_mp2,'bv')\n",
    "plt.plot(n_bas,ip_ccsd,'d',color='orange'); plt.plot(n_bas,ip_b3lyp,'go')\n",
    "plt.plot([min(n_bas)-5,max(n_bas)+5],[539.9,539.9],'k:')\n",
    "plt.plot([min(n_bas)-5,max(n_bas)+5],[539.9-0.3,539.9-0.3],'k--')\n",
    "plt.xlim((min(n_bas)-5,max(n_bas)+5))\n",
    "plt.ylabel('Ionization potential [eV]')\n",
    "plt.legend(('HF','MP2','CCSD','B3LYP','Expt','Expt - 0.3 eV'))\n",
    "plt.xticks(n_bas,basis_set_labels,rotation=70,fontsize=10)\n",
    "plt.tight_layout(); plt.savefig('basis_xps.svg')\n",
    "plt.show()\n",
    "```\n",
    "\n",
    "The execution of which yields\n",
    "\n",
    "\n",
    "\n",
    "```{figure} ../img/xray/basis_xps.svg\n",
    "---\n",
    "name: basis_xps\n",
    "---\n",
    "foo\n",
    "```\n",
    "\n",
    "On the y-axis we see the basis set labels, with order and position determined by the number of basis functions.\n",
    "\n",
    "We see that..."
   ]
  },
  {
   "cell_type": "markdown",
   "metadata": {},
   "source": [
    "## Notes\n",
    "```{margin} An optional title\n",
    "My margin content\n",
    "```\n",
    "\n",
    "```{note}\n",
    "**Not included (yet)**\n",
    "- SO-coupling\n",
    "- beyond electrinc-dipole approximation\n",
    "- multireference methods\n",
    "```"
   ]
  },
  {
   "cell_type": "code",
   "execution_count": 7,
   "metadata": {},
   "outputs": [
    {
     "ename": "TypeError",
     "evalue": "__init__(): incompatible constructor arguments. The following argument types are supported:\n    1. veloxchem.veloxchemlib.KineticEnergyIntegralsDriver(arg0: object)\n\nInvoked with: ",
     "output_type": "error",
     "traceback": [
      "\u001b[0;31m---------------------------------------------------------------------------\u001b[0m",
      "\u001b[0;31mTypeError\u001b[0m                                 Traceback (most recent call last)",
      "\u001b[0;32m<ipython-input-7-25fdf50abce5>\u001b[0m in \u001b[0;36m<module>\u001b[0;34m\u001b[0m\n\u001b[0;32m----> 1\u001b[0;31m \u001b[0mkin_drv\u001b[0m \u001b[0;34m=\u001b[0m \u001b[0mvlx\u001b[0m\u001b[0;34m.\u001b[0m\u001b[0mKineticEnergyIntegralsDriver\u001b[0m\u001b[0;34m(\u001b[0m\u001b[0;34m)\u001b[0m\u001b[0;34m\u001b[0m\u001b[0;34m\u001b[0m\u001b[0m\n\u001b[0m\u001b[1;32m      2\u001b[0m \u001b[0mT_ao\u001b[0m \u001b[0;34m=\u001b[0m \u001b[0mkin_drv\u001b[0m\u001b[0;34m.\u001b[0m\u001b[0mcompute\u001b[0m\u001b[0;34m(\u001b[0m\u001b[0mmolecule\u001b[0m\u001b[0;34m,\u001b[0m \u001b[0mbasis\u001b[0m\u001b[0;34m)\u001b[0m\u001b[0;34m.\u001b[0m\u001b[0mto_numpy\u001b[0m\u001b[0;34m(\u001b[0m\u001b[0;34m)\u001b[0m\u001b[0;34m\u001b[0m\u001b[0;34m\u001b[0m\u001b[0m\n\u001b[1;32m      3\u001b[0m \u001b[0mT\u001b[0m \u001b[0;34m=\u001b[0m \u001b[0mnp\u001b[0m\u001b[0;34m.\u001b[0m\u001b[0meinsum\u001b[0m\u001b[0;34m(\u001b[0m\u001b[0;34m'ai, ab, bj -> ij'\u001b[0m\u001b[0;34m,\u001b[0m \u001b[0mC\u001b[0m\u001b[0;34m,\u001b[0m \u001b[0mT_ao\u001b[0m\u001b[0;34m,\u001b[0m \u001b[0mC\u001b[0m\u001b[0;34m)\u001b[0m\u001b[0;34m\u001b[0m\u001b[0;34m\u001b[0m\u001b[0m\n\u001b[1;32m      4\u001b[0m \u001b[0;34m\u001b[0m\u001b[0m\n\u001b[1;32m      5\u001b[0m \u001b[0mnpot_drv\u001b[0m \u001b[0;34m=\u001b[0m \u001b[0mvlx\u001b[0m\u001b[0;34m.\u001b[0m\u001b[0mNuclearPotentialIntegralsDriver\u001b[0m\u001b[0;34m(\u001b[0m\u001b[0;34m)\u001b[0m\u001b[0;34m\u001b[0m\u001b[0;34m\u001b[0m\u001b[0m\n",
      "\u001b[0;31mTypeError\u001b[0m: __init__(): incompatible constructor arguments. The following argument types are supported:\n    1. veloxchem.veloxchemlib.KineticEnergyIntegralsDriver(arg0: object)\n\nInvoked with: "
     ]
    }
   ],
   "source": [
    "import veloxchem as vlx\n",
    "\n",
    "mol_str = \"\"\"\n",
    "C        0.00000000    0.00000000    0.00000000\n",
    "O        0.00000000    0.00000000    1.43\n",
    "\"\"\"\n",
    "molecule = vlx.Molecule.read_str(mol_str, units='angstrom')\n",
    "basis = vlx.MolecularBasis.read(molecule, \"sto-3g\")\n",
    "\n",
    "scf_drv = vlx.ScfRestrictedDriver(comm,ostream=silent_ostream)\n",
    "scf_drv.compute(molecule, basis)\n",
    "\n",
    "C = scf_drv.scf_tensors['C']\n",
    "\n",
    "S = scf_drv.scf_tensors['S']\n",
    "print('Overlap matrix:\\n', S)\n",
    "\n",
    "# not available\n",
    "#print('Available basis sets for carbon:\\n', vlx.MolecularBasis.get_avail_basis('C'))\n",
    "\n",
    "kin_drv = vlx.KineticEnergyIntegralsDriver()\n",
    "T_ao = kin_drv.compute(molecule, basis).to_numpy()\n",
    "T = np.einsum('ai, ab, bj -> ij', C, T_ao, C)\n",
    "\n",
    "npot_drv = vlx.NuclearPotentialIntegralsDriver()\n",
    "V_ao = -npot_drv.compute(molecule, basis).to_numpy()\n",
    "V = np.einsum('ai, ab, bj -> ij', C, V_ao, C)\n",
    "\n",
    "# core Hamiltonian\n",
    "h = T + V\n",
    "\n",
    "h_aver = 2 * np.einsum('ii', h[:nocc,:nocc])\n",
    "print('Expectation value of one-electron Hamiltonian:', h_aver)"
   ]
  }
 ],
 "metadata": {
  "kernelspec": {
   "display_name": "Python 3",
   "language": "python",
   "name": "python3"
  },
  "language_info": {
   "codemirror_mode": {
    "name": "ipython",
    "version": 3
   },
   "file_extension": ".py",
   "mimetype": "text/x-python",
   "name": "python",
   "nbconvert_exporter": "python",
   "pygments_lexer": "ipython3",
   "version": "3.7.9"
  }
 },
 "nbformat": 4,
 "nbformat_minor": 4
}
