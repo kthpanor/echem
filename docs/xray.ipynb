{
 "cells": [
  {
   "cell_type": "markdown",
   "metadata": {},
   "source": [
    "# X-ray spectroscopies\n",
    "\n",
    "*General aspects. In X-ray absorption spectroscopy the photon energy is tuned such that core electrons are targeted and excited to either bound or continuum states, and X-ray emission spectroscopy measures the subsequent decay from such an excited state. These core excitations/de-excitations exhibit strong relaxation effects, making theoretical considerations of the processes particularly challenging. While the removal of a valence electron leaves the remaining electrons relatively unaffected, removing core electrons has a substantial effect on the other electrons due to the significant change in the screening of the nucleus. Compare and contrast to UV/vis*\n",
    "\n",
    "![X-ray processes considered](../img/xray/processes.svg)\n",
    "\n",
    "\n",
    "- Figure: IP of elements (1s, 2s)?\n",
    "\n",
    "\n",
    "**Not included (yet)**\n",
    "- SO-coupling\n",
    "- beyond electrinc-dipole approximation\n",
    "- multireference methods\n",
    "\n",
    "Loading modules, parameters, and broadening functions:"
   ]
  },
  {
   "cell_type": "code",
   "execution_count": 2,
   "metadata": {
    "tags": [
     "remove-output",
     "hide-input"
    ]
   },
   "outputs": [
    {
     "name": "stdout",
     "output_type": "stream",
     "text": [
      "* Warning * Environment variable OMP_NUM_THREADS not set.\n",
      "* Warning * Setting OMP_NUM_THREADS to 4.\n"
     ]
    }
   ],
   "source": [
    "# loading QC software suites and functionalities\n",
    "import veloxchem as vlx\n",
    "from pyscf import gto, scf, mp, cc\n",
    "import gator\n",
    "import adcc\n",
    "from veloxchem.rsplinabscross import LinearAbsorptionCrossSection\n",
    "\n",
    "# loading python \n",
    "import matplotlib.pyplot as plt\n",
    "import numpy as np\n",
    "import copy\n",
    "import time\n",
    "from scipy.interpolate import interp1d\n",
    "\n",
    "# for vlx\n",
    "from mpi4py import MPI\n",
    "comm = MPI.COMM_WORLD\n",
    "silent_ostream = vlx.OutputStream(None)\n",
    "\n",
    "# conversion factors\n",
    "au2ev = 27.211386\n",
    "\n",
    "# broadening functions\n",
    "def lorentzian(x, y, xmin, xmax, xstep, gamma):\n",
    "    xi = np.arange(xmin,xmax,xstep); yi=np.zeros(len(xi))\n",
    "    for i in range(len(xi)):\n",
    "        for k in range(len(x)): yi[i] = yi[i] + y[k] * (gamma/2.) / ( (xi[i]-x[k])**2 + (gamma/2.)**2 )\n",
    "    return xi,yi\n",
    "\n",
    "def gaussian(x, y, xmin, xmax, xstep, sigma):\n",
    "    xi = np.arange(xmin,xmax,xstep); yi=np.zeros(len(xi))\n",
    "    for i in range(len(xi)):\n",
    "        for k in range(len(y)):\n",
    "            yi[i] = yi[i] + y[k]*np.e**(-((xi[i]-x[k])**2)/(2*sigma**2))\n",
    "    return xi,yi"
   ]
  },
  {
   "cell_type": "markdown",
   "metadata": {},
   "source": [
    "## X-ray photoemission spectroscopy\n",
    "\n",
    "*We will here focus on calculating ionization potentials (IP:s), from which the isotropic photoemission spectrum is formed by giving each IP the same intensity and then broadening with a function. Can go beyond that using Dyson orbitals, but it doesn't make much of a difference...*\n",
    "\n",
    "### From Koopmans' theorem\n",
    "\n",
    "IP of gas phase water, using HF MO energies:"
   ]
  },
  {
   "cell_type": "code",
   "execution_count": 3,
   "metadata": {},
   "outputs": [
    {
     "name": "stdout",
     "output_type": "stream",
     "text": [
      "1s IP from the Koopmans theorem: -559.501\n"
     ]
    }
   ],
   "source": [
    "water = \"\"\"\n",
    "O       0.0000000000     0.0000000000     0.1178336003\n",
    "H      -0.7595754146    -0.0000000000    -0.4713344012\n",
    "H       0.7595754146     0.0000000000    -0.4713344012\n",
    "\"\"\"\n",
    "\n",
    "# SCF calculation\n",
    "molecule = vlx.Molecule.read_str(water, units='angstrom')\n",
    "basis    = vlx.MolecularBasis.read(molecule, \"6-31G\")\n",
    "scf_drv  = vlx.ScfRestrictedDriver(comm,ostream=silent_ostream)\n",
    "scf_drv.compute(molecule, basis)\n",
    "\n",
    "# Extract orbital energies\n",
    "orbital_energies = scf_drv.scf_tensors['E']\n",
    "print('1s IP from the Koopmans theorem:',np.around(au2ev*orbital_energies[0],3))"
   ]
  },
  {
   "cell_type": "markdown",
   "metadata": {},
   "source": [
    "This is to be compared to the experimental value, which is 539.9 eV. The overestimation of almost 20 eV is due to lack of **relaxation**, which results from the reorganization of the valence electrons in response to a reduction of screening of the nuclei. An approach for including these effects in IP calculation is to use the $\\Delta$SCF approach, in which the difference in total energy between the neutral and a core-hole system is considered as the IP.\n",
    "\n",
    "### Maximum overlap method (MOM)\n",
    "\n",
    "Eigenvalue equation\n",
    "\n",
    "\\begin{equation}\n",
    "\\textbf{FC}^{\\textrm{new}} = \n",
    "\\textbf{SC}^{\\textrm{new}} \\epsilon\n",
    "\\end{equation}\n",
    "\n",
    "Chose to overlap the most with the span\n",
    "\n",
    "\\begin{equation}\n",
    "\\textbf{O} = \n",
    "\\left( \\textbf{C} \\right)^{\\dagger} \\textbf{SC}^{\\textrm{new}}\n",
    "\\end{equation}\n",
    "\n",
    "\n",
    "Note potential instabilities for post-HF on core-hole (and excited states as well).\n",
    "\n",
    "```{note}\n",
    "We currently use `pyscf` for the illustrations involving core-holes, as VeloxChem lacks MOM (for now).\n",
    "```\n",
    "\n",
    "### From total energy differences"
   ]
  },
  {
   "cell_type": "code",
   "execution_count": 5,
   "metadata": {},
   "outputs": [
    {
     "name": "stdout",
     "output_type": "stream",
     "text": [
      "converged SCF energy = -75.9838703827193  <S^2> = 6.3353767e-12  2S+1 = 1\n",
      "converged SCF energy = -56.0754789470864  <S^2> = 0.76257805  2S+1 = 2.0125387\n",
      "Ionization potential: 541.735 eV\n"
     ]
    },
    {
     "name": "stderr",
     "output_type": "stream",
     "text": [
      "Overwritten attributes  get_occ  of <class 'pyscf.scf.uhf.UHF'>\n"
     ]
    }
   ],
   "source": [
    "# Build mol-object and perform ground state SCF\n",
    "mol = gto.Mole()\n",
    "mol.atom  = water; mol.basis = '6-31G'\n",
    "mol.build()\n",
    "scf_res = scf.UHF(mol)\n",
    "scf_res.kernel()\n",
    "\n",
    "# Copy wave function information and change occupancy of alpha1 to 0\n",
    "mo0  = copy.deepcopy(scf_res.mo_coeff)\n",
    "occ0 = copy.deepcopy(scf_res.mo_occ)\n",
    "occ0[0][0] = 0.0\n",
    "\n",
    "# Perform wave function calculation with MOM restriction\n",
    "scf_ion = scf.UHF(mol)\n",
    "scf.addons.mom_occ(scf_ion, mo0, occ0)\n",
    "scf_ion.kernel()\n",
    "\n",
    "# IP from energy difference\n",
    "print('Ionization potential:',np.around(au2ev*(scf_ion.energy_tot() - scf_res.energy_tot()),3),'eV')"
   ]
  },
  {
   "cell_type": "markdown",
   "metadata": {},
   "source": [
    "This estimate is now within 2 eV from experiment, and we can include correlation through MP2:"
   ]
  },
  {
   "cell_type": "code",
   "execution_count": 113,
   "metadata": {},
   "outputs": [
    {
     "name": "stdout",
     "output_type": "stream",
     "text": [
      "E(UMP2) = -76.1130483955489  E_corr = -0.129178012829717\n",
      "E(UMP2) = -56.1523709631034  E_corr = -0.0768920160169649\n",
      "Ionization potential: 543.158 eV\n"
     ]
    }
   ],
   "source": [
    "# Run MP2 on neutral and core-hole wave functions\n",
    "mp_res = mp.MP2(scf_res).run()\n",
    "mp_ion = mp.MP2(scf_ion).run()\n",
    "\n",
    "# IP from energy difference\n",
    "print('Ionization potential:',np.around(au2ev*(mp_ion.e_tot - mp_res.e_tot),3),'eV')"
   ]
  },
  {
   "cell_type": "markdown",
   "metadata": {},
   "source": [
    "As well as use KS-DFT:"
   ]
  },
  {
   "cell_type": "code",
   "execution_count": 114,
   "metadata": {},
   "outputs": [
    {
     "name": "stdout",
     "output_type": "stream",
     "text": [
      "converged SCF energy = -76.3480474320839  <S^2> = 2.5509372e-11  2S+1 = 1\n",
      "converged SCF energy = -56.412542119436  <S^2> = 0.75441021  2S+1 = 2.0044054\n",
      "Ionization potential: 542.473 eV\n"
     ]
    }
   ],
   "source": [
    "# SCF calculation with unrestricted KS-DFT\n",
    "dft_res    = scf.UKS(mol)\n",
    "dft_res.xc = 'b3lyp'\n",
    "dft_res.kernel()\n",
    "\n",
    "# Create core-hole in alpha1\n",
    "mo0  = copy.deepcopy(dft_res.mo_coeff)\n",
    "occ0 = copy.deepcopy(dft_res.mo_occ)\n",
    "occ0[0][0] = 0.0\n",
    "\n",
    "# SCF with core-hole\n",
    "dft_ion = scf.UKS(mol); dft_ion.xc = 'b3lyp'\n",
    "scf.addons.mom_occ(dft_ion, mo0, occ0)\n",
    "dft_ion.kernel()\n",
    "\n",
    "# IP from difference\n",
    "print('Ionization potential:',np.around(au2ev*(dft_ion.energy_tot() - dft_res.energy_tot()),3),'eV')"
   ]
  },
  {
   "cell_type": "markdown",
   "metadata": {},
   "source": [
    "MP2 and DFT currently brings us **away** from experiment, but we note that the basis set is small and ill suited for core properties, and relativistic effects are not included either (more on this below). Using a cc-pCVTZ basis we instead obtain:\n",
    "- HF: 538.929 eV\n",
    "- MP2: 540.257 eV\n",
    "- B3LYP: 539.192 eV\n",
    "\n",
    "*i.e.* closer to experiment for the correlated methods (note that scalar-relativistic effects will shift these results upwards by $\\sim$0.3 eV).\n",
    "\n",
    "### XPS of the ESCA molecule"
   ]
  },
  {
   "cell_type": "code",
   "execution_count": 4,
   "metadata": {},
   "outputs": [
    {
     "name": "stdout",
     "output_type": "stream",
     "text": [
      "converged SCF energy = -407.075332882537  <S^2> = 1.2292076e-06  2S+1 = 1.0000025\n"
     ]
    },
    {
     "name": "stderr",
     "output_type": "stream",
     "text": [
      "Overwritten attributes  get_occ  of <class 'pyscf.scf.uhf.UHF'>\n"
     ]
    },
    {
     "name": "stdout",
     "output_type": "stream",
     "text": [
      "converged SCF energy = -396.183354220842  <S^2> = 0.84555897  2S+1 = 2.0933791\n",
      "converged SCF energy = -396.245415504633  <S^2> = 0.76427602  2S+1 = 2.0142254\n",
      "SCF not converged.\n",
      "SCF energy = -396.32893797037 after 50 cycles  <S^2> = 0.99583161  2S+1 = 2.2323365\n",
      "converged SCF energy = -396.439776971732  <S^2> = 0.76032128  2S+1 = 2.0102948\n"
     ]
    },
    {
     "data": {
      "image/png": "[encoded data removed]",
      "text/plain": [
       "<Figure size 432x216 with 1 Axes>"
      ]
     },
     "metadata": {
      "needs_background": "light"
     },
     "output_type": "display_data"
    }
   ],
   "source": [
    "uracil   = ' C     0.000000     0.313341     1.284889;\\\n",
    "             C     0.000000    -1.129946     1.193271;\\\n",
    "             C     0.000000    -1.722413    -0.011510;\\\n",
    "             N     0.000000    -1.002386    -1.171240;\\\n",
    "             C     0.000000     0.377102    -1.212137;\\\n",
    "             N     0.000000     0.946281     0.038980;\\\n",
    "             O     0.000000     0.966706     2.309430;\\\n",
    "             O     0.000000     1.007669    -2.246643;\\\n",
    "             H     0.000000    -2.791379    -0.129000;\\\n",
    "             H     0.000000     1.954858     0.054525;\\\n",
    "             H     0.000000    -1.456186    -2.067038;\\\n",
    "             H     0.000000    -1.702677     2.098114'\n",
    "\n",
    "# Create mol-object and perform neutral SCF calculation\n",
    "mol_ura = gto.Mole()\n",
    "mol_ura.atom  = uracil; mol_ura.basis = 'STO-3G'\n",
    "mol_ura.build()\n",
    "scf_ura = scf.UHF(mol_ura)\n",
    "scf_ura.kernel()\n",
    "\n",
    "# Perform core-hole calculation for each carbon atom (MOs 4-7) and append SCF IPs to a list\n",
    "esca_ips = []\n",
    "for i_mo in [4,5,6,7]:\n",
    "    mo0 = copy.deepcopy(scf_ura.mo_coeff)\n",
    "    occ0 = copy.deepcopy(scf_ura.mo_occ)\n",
    "    occ0[0][i_mo] = 0.0\n",
    "    ion_tmp = scf.UHF(mol_ura)\n",
    "    scf.addons.mom_occ(ion_tmp, mo0, occ0)\n",
    "    ion_tmp.kernel()\n",
    "    esca_ips.append(au2ev*(ion_tmp.energy_tot() - scf_ura.energy_tot()))\n",
    "    \n",
    "# Broaden with a Lorentzian and plot\n",
    "plt.figure(figsize=(6,3))\n",
    "x,y = esca_ips,np.ones((len(esca_ips)))\n",
    "# Call Lorentzian broadening with x-data, y-data, lower x-lim, upper x-lim, xstep, and broadening gamma\n",
    "xi,yi = lorentzian(x,y,min(x)-2,max(x)+2,0.01,0.4)\n",
    "plt.plot(xi,yi); plt.show()"
   ]
  },
  {
   "cell_type": "markdown",
   "metadata": {},
   "source": [
    "*Note some convergence issues, largely relating to the small basis set.*\n",
    "\n",
    "We can also broaden with a Gaussian (note that FWHM$= \\gamma = 2\\sqrt{2\\ln{2}} \\sigma$):"
   ]
  },
  {
   "cell_type": "code",
   "execution_count": 130,
   "metadata": {},
   "outputs": [
    {
     "data": {
      "image/png": "[encoded data removed]",
      "text/plain": [
       "<Figure size 432x216 with 1 Axes>"
      ]
     },
     "metadata": {
      "needs_background": "light"
     },
     "output_type": "display_data"
    }
   ],
   "source": [
    "plt.figure(figsize=(6,3))\n",
    "xi,yi = gaussian(x,y,min(x)-2,max(x)+2,0.01,0.5/(2*np.sqrt(2*np.log(2))))\n",
    "plt.plot(xi,yi); plt.show()"
   ]
  },
  {
   "cell_type": "markdown",
   "metadata": {},
   "source": [
    "Comparison to experiment using a cc-pCVTZ basis set:\n",
    "\n",
    "![X-ray processes considered](../img/xray/esca_xps.svg)\n",
    "\n",
    "Expt: O. Travnikovaa *et al., J. Elec. Spec. Rel. Phenom.* **185**, 191 (2012)\n",
    "\n",
    "The features originate in, from low to high energy: -CH$_3$, -CH$_2$-, -CO-, and CF$_3$. We note a reasonable good agreement for the first two features, but the comparison is noticably worse for higher energies. This is likely an effect of the more significant change in electronic structure imposed by the very electronegative fluorine and oxygen atoms, which HF/cc-pCVTZ is not capable of describing properly."
   ]
  },
  {
   "cell_type": "markdown",
   "metadata": {},
   "source": [
    "## X-ray absorption spectroscopy\n",
    "\n",
    "*Focus on NEXAFS, Core-excited states are embedded in a manifold of valence-excited states that needs to be considered by some computationally feasible method.*\n",
    "\n",
    "![X-ray processes considered](../img/xray/nexafs.svg)\n",
    "\n",
    "- Global spectrum\n",
    "\n",
    "### CVS-ADC eigenstates\n",
    "\n",
    "References to CVS approach and CVS error."
   ]
  },
  {
   "cell_type": "code",
   "execution_count": 34,
   "metadata": {
    "scrolled": true,
    "tags": [
     "hide-output"
    ]
   },
   "outputs": [
    {
     "name": "stdout",
     "output_type": "stream",
     "text": [
      "SCF converged in 5 iterations.\n",
      "Total Energy: -75.9838703827 au\n",
      "                                                                                                                          \n",
      "                                        Algebraic Diagrammatic Construction (ADC)                                         \n",
      "                                       ===========================================                                        \n",
      "                                                                                                                          \n",
      "                               ADC method                   : cvs-adc2x                                                   \n",
      "                               Number of Singlet States     : 6                                                           \n",
      "                               CVS-ADC, Core Orbital Space  : 1                                                           \n",
      "                               Convergence threshold        : 1.0e-06                                                     \n",
      "                                                                                                                          \n"
     ]
    },
    {
     "name": "stderr",
     "output_type": "stream",
     "text": [
      "/home/thomas/pkg/adcc/adcc/backends/__init__.py:48: UserWarning: Could not check host program psi4 minimal version, since __version__ tag not found. Proceeding anyway.\n",
      "  \"\".format(module)\n"
     ]
    },
    {
     "name": "stdout",
     "output_type": "stream",
     "text": [
      "Starting cvs-adc2x singlet Jacobi-Davidson ...\n",
      "Niter n_ss  max_residual  time  Ritz values\n",
      "  1     8        1.4139  291ms  [20.2703591  20.30081833 20.86977783 20.91121538 21.10647287 21.17210948]\n",
      "  2    16       0.05362  600ms  [19.72495595 19.80691971 20.50881003 20.51569995 20.52445863 20.72564039]\n",
      "  3    24      0.014469  700ms  [19.71673653 19.79707767 20.49577445 20.50503434 20.50804158 20.63850304]\n",
      "  4    32      0.001267  833ms  [19.7163907  19.79671165 20.49373728 20.5048402  20.50629326 20.62964464]\n",
      "  5    40    0.00011958   1.1s  [19.71637581 19.79669987 20.49353413 20.50482663 20.5061769  20.62883056]\n",
      "=== Restart ===\n",
      "  6    16    2.2907e-05  835ms  [19.7163753  19.79669916 20.49351327 20.5048247  20.50617017 20.62875659]\n",
      "  7    24    8.2765e-06  842ms  [19.71637527 19.79669907 20.49350809 20.50482387 20.50616886 20.62873498]\n",
      "  8    32    3.7389e-06   1.0s  [19.71637527 19.79669907 20.49350766 20.50482376 20.50616868 20.62872992]\n",
      "  9    40     5.189e-07  959ms  [19.71637527 19.79669907 20.49350744 20.50482375 20.50616863 20.62872822]\n",
      "=== Converged ===\n",
      "    Number of matrix applies:    72\n",
      "    Total solver time:             7s 271ms\n",
      "                                                                                                                          \n",
      "                                                  ADC Summary of Results                                                  \n",
      "                                                 ------------------------                                                 \n",
      "                                                                                                                          \n",
      "                             +--------------------------------------------------------------+                             \n",
      "                             | cvs-adc2x                               singlet ,  converged |                             \n",
      "                             +--------------------------------------------------------------+                             \n",
      "                             |  #        excitation energy     osc str    |v1|^2    |v2|^2  |                             \n",
      "                             |          (au)           (eV)                                 |                             \n",
      "                             |  0      19.71638      536.5099   0.0175    0.8001    0.1999  |                             \n",
      "                             |  1       19.7967      538.6956   0.0368    0.8087    0.1913  |                             \n",
      "                             |  2      20.49351      557.6567   0.0098    0.7858    0.2142  |                             \n",
      "                             |  3      20.50482      557.9647   0.1007    0.8441    0.1559  |                             \n",
      "                             |  4      20.50617      558.0013   0.0881     0.835     0.165  |                             \n",
      "                             |  5      20.62873      561.3363   0.0104    0.7926    0.2074  |                             \n",
      "                             +--------------------------------------------------------------+                             \n",
      "                                                                                                                          \n",
      "                                          End of ADC calculation. All went well!                                          \n",
      "                                                                                                                          \n"
     ]
    }
   ],
   "source": [
    "struct  = gator.get_molecule(water)\n",
    "basis   = gator.get_molecular_basis(struct,'6-31G')\n",
    "scf_res = gator.run_scf(struct,basis)\n",
    "adc_res = gator.run_adc(struct,basis,scf_res,method='cvs-adc2x',singlets=6,core_orbitals=1)"
   ]
  },
  {
   "cell_type": "code",
   "execution_count": 131,
   "metadata": {},
   "outputs": [
    {
     "name": "stdout",
     "output_type": "stream",
     "text": [
      "+--------------------------------------------------------------+\n",
      "| cvs-adc2x                               singlet ,  converged |\n",
      "+--------------------------------------------------------------+\n",
      "|  #        excitation energy     osc str    |v1|^2    |v2|^2  |\n",
      "|          (au)           (eV)                                 |\n",
      "|  0      19.71638      536.5099   0.0175    0.8001    0.1999  |\n",
      "|  1       19.7967      538.6956   0.0368    0.8087    0.1913  |\n",
      "|  2      20.49351      557.6567   0.0098    0.7858    0.2142  |\n",
      "|  3      20.50482      557.9647   0.1007    0.8441    0.1559  |\n",
      "|  4      20.50617      558.0013   0.0881     0.835     0.165  |\n",
      "|  5      20.62873      561.3363   0.0104    0.7926    0.2074  |\n",
      "+--------------------------------------------------------------+\n",
      "\n",
      "Using inbuilt routines:\n"
     ]
    },
    {
     "data": {
      "image/png": "[encoded data removed]",
      "text/plain": [
       "<Figure size 360x216 with 1 Axes>"
      ]
     },
     "metadata": {
      "needs_background": "light"
     },
     "output_type": "display_data"
    },
    {
     "name": "stdout",
     "output_type": "stream",
     "text": [
      "Or, constructing the spectra explicitly for the low-energy region:\n"
     ]
    },
    {
     "data": {
      "image/png": "[encoded data removed]",
      "text/plain": [
       "<Figure size 360x216 with 1 Axes>"
      ]
     },
     "metadata": {
      "needs_background": "light"
     },
     "output_type": "display_data"
    }
   ],
   "source": [
    "print(adc_res.describe())\n",
    "\n",
    "print('Using inbuilt routines:')\n",
    "plt.figure(figsize=(5,3))\n",
    "adc_res.plot_spectrum()\n",
    "plt.show()\n",
    "\n",
    "print('Or, constructing the spectra explicitly for the low-energy region:')\n",
    "plt.figure(figsize=(5,3))\n",
    "x,y = au2ev*adc_res.excitation_energy, adc_res.oscillator_strength\n",
    "xi,yi = lorentzian(x,y,533,543,0.01,0.5); plt.plot(xi,yi)\n",
    "plt.show()"
   ]
  },
  {
   "cell_type": "markdown",
   "metadata": {},
   "source": [
    "Compared to experiment with aug-cc-pCVTZ/cc-pVTZ (oxygen and hydrogen, respectively):\n",
    "\n",
    "![X-ray processes considered](../img/xray/adc_water_xas.svg)\n",
    "\n",
    "plt.figure(figsize=(5,4)); plt.subplot(211)\n",
    "x,y = lorentzian(au2ev*adc_res.excitation_energy,adc_res.oscillator_strength,530,545,0.01,0.6)\n",
    "plt.plot(x,y); plt.xlim((531,539)); plt.yticks([]); plt.legend(('CVS-ADC(2)-x',''))\n",
    "plt.subplot(212)\n",
    "data = np.loadtxt('../img/xray/water_xas.dat'); x,y = [],[]\n",
    "for data_tmp in data: x.append(data_tmp[0]), y.append(data_tmp[1])\n",
    "plt.plot(x,y); plt.xlim((531,539)); plt.yticks([]); plt.legend(('Experiment',''))\n",
    "plt.show()"
   ]
  },
  {
   "cell_type": "code",
   "execution_count": null,
   "metadata": {},
   "outputs": [],
   "source": []
  },
  {
   "cell_type": "markdown",
   "metadata": {},
   "source": [
    "### TDDFT eigenstates\n",
    "\n",
    "SIE discussion below\n",
    "\n",
    "### TDDFT damped response function"
   ]
  },
  {
   "cell_type": "code",
   "execution_count": 51,
   "metadata": {},
   "outputs": [],
   "source": [
    "\n",
    "molecule = vlx.Molecule.read_str(water, units='angstrom')\n",
    "basis    = vlx.MolecularBasis.read(molecule, \"6-31G\")\n",
    "scf_drv = vlx.ScfRestrictedDriver(comm,ostream=silent_ostream)\n",
    "scf_settings  = {'conv_thresh': 1.0e-6}\n",
    "method_settings = {'xcfun': 'b3lyp', 'grid_level': 4}\n",
    "scf_drv.update_settings(scf_settings,method_settings); scf_drv.compute(molecule, basis)\n",
    "freqs = np.arange(514.0,525.0,0.1)/au2ev; freqs_str = [str(x) for x in freqs]\n",
    "cpp_prop = LinearAbsorptionCrossSection({'frequencies': ','.join(freqs_str), 'damping': 0.3/au2ev}\n",
    "                                         ,method_settings)\n",
    "cpp_prop.init_driver(comm, ostream=silent_ostream)\n",
    "cpp_prop.compute(molecule, basis, scf_drv.scf_tensors)\n",
    "sigma = []\n",
    "for w in freqs:\n",
    "    axx = -cpp_prop.rsp_property['response_functions'][('x', 'x', w)].imag\n",
    "    ayy = -cpp_prop.rsp_property['response_functions'][('y', 'y', w)].imag\n",
    "    azz = -cpp_prop.rsp_property['response_functions'][('z', 'z', w)].imag\n",
    "    alpha_bar = (axx + ayy + azz) / 3.0; sigma.append(4.0 * np.pi * w * alpha_bar / 137.035999)"
   ]
  },
  {
   "cell_type": "code",
   "execution_count": 52,
   "metadata": {},
   "outputs": [
    {
     "data": {
      "image/png": "[encoded data removed]",
      "text/plain": [
       "<Figure size 360x216 with 1 Axes>"
      ]
     },
     "metadata": {
      "needs_background": "light"
     },
     "output_type": "display_data"
    }
   ],
   "source": [
    "plt.figure(figsize=(5,3))\n",
    "x = np.arange(min(au2ev*freqs),max(au2ev*freqs),0.01)\n",
    "y = interp1d(au2ev*freqs, sigma, kind='cubic')\n",
    "plt.plot(x,y(x));plt.plot(au2ev*freqs,sigma,'x')\n",
    "plt.yticks([]); plt.legend(('Splined','CPP-DFT'))\n",
    "plt.show()"
   ]
  },
  {
   "cell_type": "markdown",
   "metadata": {},
   "source": [
    "Using aug-cc-pCVTZ and compared to experiment\n",
    "\n",
    "![X-ray processes considered](../img/xray/tddft_water_xas.svg)\n",
    "\n",
    "plt.figure(figsize=(5,4)); plt.subplot(211)\n",
    "x = np.arange(min(au2ev*freqs),max(au2ev*freqs),0.01)\n",
    "y = interp1d(au2ev*freqs, sigma, kind='cubic')\n",
    "plt.plot(x,y(x));plt.plot(au2ev*freqs,sigma,'x')\n",
    "plt.xlim((516,524)); plt.yticks([]); plt.legend(('Splined','CPP-DFT'))\n",
    "plt.subplot(212)\n",
    "data = np.loadtxt('../img/xray/water_xas.dat'); x,y = [],[]\n",
    "for data_tmp in data: x.append(data_tmp[0]), y.append(data_tmp[1])\n",
    "plt.plot(x,y); plt.xlim((531,539)); plt.yticks([]); plt.legend(('Experiment',''))\n",
    "plt.show()"
   ]
  },
  {
   "cell_type": "markdown",
   "metadata": {},
   "source": [
    "### Analysis\n",
    "\n",
    "Vinylfluoride. CVS-ADC and CPP-DFT."
   ]
  },
  {
   "cell_type": "code",
   "execution_count": 5,
   "metadata": {
    "scrolled": true,
    "tags": [
     "hide-output"
    ]
   },
   "outputs": [
    {
     "name": "stdout",
     "output_type": "stream",
     "text": [
      "SCF converged in 7 iterations.\n",
      "Total Energy: -176.8261179747 au\n",
      "                                                                                                                          \n",
      "                                        Algebraic Diagrammatic Construction (ADC)                                         \n",
      "                                       ===========================================                                        \n",
      "                                                                                                                          \n",
      "                               ADC method                   : cvs-adc2x                                                   \n",
      "                               Number of Singlet States     : 10                                                          \n",
      "                               CVS-ADC, Core Orbital Space  : 1 2 3                                                       \n",
      "                               Convergence threshold        : 1.0e-06                                                     \n",
      "                                                                                                                          \n"
     ]
    },
    {
     "name": "stderr",
     "output_type": "stream",
     "text": [
      "/home/thomas/pkg/adcc/adcc/backends/__init__.py:48: UserWarning: Could not check host program psi4 minimal version, since __version__ tag not found. Proceeding anyway.\n",
      "  \"\".format(module)\n"
     ]
    },
    {
     "name": "stdout",
     "output_type": "stream",
     "text": [
      "Starting cvs-adc2x singlet Jacobi-Davidson ...\n",
      "Niter n_ss  max_residual  time  Ritz values\n",
      "  1    20        0.8829  653ms  [10.90469041 11.0127478  11.12186879 11.13574581 11.15427206 11.22366101\n",
      " 11.28574919]\n",
      "  2    40       0.10942   1.6s  [10.57182281 10.67941692 10.72935948 10.75067863 10.81315185 10.81361514\n",
      " 10.84327132]\n",
      "  3    60     0.0061126   1.7s  [10.5578186  10.63999606 10.70185717 10.72113068 10.76319355 10.78079685\n",
      " 10.81308698]\n",
      "  4    80    0.00093309   2.2s  [10.55663393 10.63712372 10.69959336 10.71942129 10.76026749 10.77786459\n",
      " 10.81039397]\n",
      "  5   100    0.00016546   2.7s  [10.55654762 10.63677678 10.69916376 10.71927028 10.7598804  10.77734398\n",
      " 10.81003679]\n",
      "=== Restart ===\n",
      "  6    40    2.6486e-05   2.3s  [10.55654338 10.63675306 10.69912635 10.7192592  10.75984691 10.77729448\n",
      " 10.81000554]\n",
      "  7    60     7.338e-06   2.0s  [10.55654292 10.63675005 10.69911833 10.7192576  10.75983953 10.77728372\n",
      " 10.8099998 ]\n",
      "  8    80    1.5555e-06   2.2s  [10.55654289 10.63674972 10.69911703 10.7192574  10.75983832 10.7772821\n",
      " 10.80999888]\n",
      "  9   100    2.7242e-07   2.8s  [10.55654289 10.63674966 10.69911688 10.71925738 10.75983816 10.77728188\n",
      " 10.80999868]\n",
      "=== Converged ===\n",
      "    Number of matrix applies:    180\n",
      "    Total solver time:            18s 390ms\n",
      "                                                                                                                          \n",
      "                                                  ADC Summary of Results                                                  \n",
      "                                                 ------------------------                                                 \n",
      "                                                                                                                          \n",
      "                             +--------------------------------------------------------------+                             \n",
      "                             | cvs-adc2x                               singlet ,  converged |                             \n",
      "                             +--------------------------------------------------------------+                             \n",
      "                             |  #        excitation energy     osc str    |v1|^2    |v2|^2  |                             \n",
      "                             |          (au)           (eV)                                 |                             \n",
      "                             |  0      10.55654      287.2582   0.0387    0.7614    0.2386  |                             \n",
      "                             |  1      10.63675      289.4407   0.0489    0.7515    0.2485  |                             \n",
      "                             |  2      10.69912      291.1378   0.0165    0.7614    0.2386  |                             \n",
      "                             |  3      10.71926      291.6859   0.0136    0.7777    0.2223  |                             \n",
      "                             |  4      10.75984      292.7901   0.0005    0.7255    0.2745  |                             \n",
      "                             |  5      10.77728      293.2648   0.0427    0.7806    0.2194  |                             \n",
      "                             |  6         10.81       294.155   0.0161    0.7733    0.2267  |                             \n",
      "                             |  7      10.82719      294.6228   0.0266    0.7567    0.2433  |                             \n",
      "                             |  8      10.84538      295.1178   0.0002    0.7126    0.2874  |                             \n",
      "                             |  9      10.92551      297.2984   0.0038    0.7612    0.2388  |                             \n",
      "                             +--------------------------------------------------------------+                             \n",
      "                                                                                                                          \n",
      "                                          End of ADC calculation. All went well!                                          \n",
      "                                                                                                                          \n",
      "                                                                                                                          \n",
      "                                        Algebraic Diagrammatic Construction (ADC)                                         \n",
      "                                       ===========================================                                        \n",
      "                                                                                                                          \n",
      "                               ADC method                   : cvs-adc2x                                                   \n",
      "                               Number of Singlet States     : 5                                                           \n",
      "                               CVS-ADC, Core Orbital Space  : 2                                                           \n",
      "                               Convergence threshold        : 1.0e-06                                                     \n",
      "                                                                                                                          \n",
      "Starting cvs-adc2x singlet Jacobi-Davidson ...\n",
      "Niter n_ss  max_residual  time  Ritz values\n",
      "  1    10       0.85256  335ms  [11.01280909 11.12205933 11.22371389 11.390249   11.45654092]\n",
      "  2    20       0.11087  578ms  [10.67938384 10.81323341 10.84332883 10.92877016 11.03783534]\n",
      "  3    30      0.011742  612ms  [10.6400098  10.78094283 10.81315652 10.84981427 10.93968759]\n",
      "  4    40     0.0014955  791ms  [10.63717455 10.77801325 10.81047808 10.84612961 10.93179114]\n",
      "  5    50    0.00024862  901ms  [10.63684975 10.77746061 10.81012794 10.84552473 10.9305372 ]\n",
      "=== Restart ===\n",
      "  6    20    5.7616e-05  809ms  [10.63683124 10.77740797 10.81009763 10.84546    10.93037   ]\n",
      "  7    30    1.7775e-05  647ms  [10.63682864 10.77739695 10.81009209 10.84543964 10.93030657]\n",
      "  8    40    4.0649e-06  886ms  [10.63682832 10.77739529 10.81009121 10.84543596 10.93029214]\n",
      "  9    50    8.7476e-07  908ms  [10.63682828 10.77739506 10.81009104 10.84543546 10.93028932]\n",
      "=== Converged ===\n",
      "    Number of matrix applies:    90\n",
      "    Total solver time:             6s 523ms\n",
      "                                                                                                                          \n",
      "                                                  ADC Summary of Results                                                  \n",
      "                                                 ------------------------                                                 \n",
      "                                                                                                                          \n",
      "                             +--------------------------------------------------------------+                             \n",
      "                             | cvs-adc2x                               singlet ,  converged |                             \n",
      "                             +--------------------------------------------------------------+                             \n",
      "                             |  #        excitation energy     osc str    |v1|^2    |v2|^2  |                             \n",
      "                             |          (au)           (eV)                                 |                             \n",
      "                             |  0      10.63683      289.4428   0.0487    0.7516    0.2484  |                             \n",
      "                             |  1       10.7774      293.2679   0.0424    0.7806    0.2194  |                             \n",
      "                             |  2      10.81009      294.1576   0.0161    0.7733    0.2267  |                             \n",
      "                             |  3      10.84544      295.1193   0.0002    0.7127    0.2873  |                             \n",
      "                             |  4      10.93029      297.4283   0.0123    0.7287    0.2713  |                             \n",
      "                             +--------------------------------------------------------------+                             \n",
      "                                                                                                                          \n",
      "                                          End of ADC calculation. All went well!                                          \n",
      "                                                                                                                          \n"
     ]
    },
    {
     "name": "stdout",
     "output_type": "stream",
     "text": [
      "                                                                                                                          \n",
      "                                        Algebraic Diagrammatic Construction (ADC)                                         \n",
      "                                       ===========================================                                        \n",
      "                                                                                                                          \n",
      "                               ADC method                   : cvs-adc2x                                                   \n",
      "                               Number of Singlet States     : 5                                                           \n",
      "                               CVS-ADC, Core Orbital Space  : 3                                                           \n",
      "                               Convergence threshold        : 1.0e-06                                                     \n",
      "                                                                                                                          \n",
      "Starting cvs-adc2x singlet Jacobi-Davidson ...\n",
      "Niter n_ss  max_residual  time  Ritz values\n",
      "  1    10       0.88541  414ms  [10.90478799 11.13576069 11.15428282 11.28586213 11.34396398]\n",
      "  2    20      0.087366  605ms  [10.57187965 10.72948628 10.75088347 10.81369634 10.8923098 ]\n",
      "  3    30     0.0061993  693ms  [10.55787721 10.70194423 10.72121155 10.76324522 10.8325374 ]\n",
      "  4    40    0.00093723  835ms  [10.55669814 10.69967972 10.71949949 10.76031106 10.82822081]\n",
      "  5    50    0.00016692  865ms  [10.55660536 10.69925106 10.71934748 10.75992469 10.82738351]\n",
      "=== Restart ===\n",
      "  6    20    2.6302e-05  749ms  [10.55660066 10.69921311 10.71933589 10.75989102 10.82728657]\n",
      "  7    30    7.4781e-06  762ms  [10.55660016 10.69920491 10.71933421 10.75988368 10.82726206]\n",
      "  8    40    1.2468e-06  881ms  [10.55660013 10.6992036  10.71933401 10.75988248 10.82725672]\n",
      "  9    50    1.6311e-07  912ms  [10.55660013 10.69920344 10.71933399 10.75988232 10.8272558 ]\n",
      "=== Converged ===\n",
      "    Number of matrix applies:    90\n",
      "    Total solver time:             6s 764ms\n",
      "                                                                                                                          \n",
      "                                                  ADC Summary of Results                                                  \n",
      "                                                 ------------------------                                                 \n",
      "                                                                                                                          \n",
      "                             +--------------------------------------------------------------+                             \n",
      "                             | cvs-adc2x                               singlet ,  converged |                             \n",
      "                             +--------------------------------------------------------------+                             \n",
      "                             |  #        excitation energy     osc str    |v1|^2    |v2|^2  |                             \n",
      "                             |          (au)           (eV)                                 |                             \n",
      "                             |  0       10.5566      287.2597   0.0391    0.7614    0.2386  |                             \n",
      "                             |  1       10.6992      291.1402   0.0170    0.7614    0.2386  |                             \n",
      "                             |  2      10.71933      291.6879   0.0133    0.7777    0.2223  |                             \n",
      "                             |  3      10.75988      292.7913   0.0004    0.7255    0.2745  |                             \n",
      "                             |  4      10.82726      294.6246   0.0268    0.7568    0.2432  |                             \n",
      "                             +--------------------------------------------------------------+                             \n",
      "                                                                                                                          \n",
      "                                          End of ADC calculation. All went well!                                          \n",
      "                                                                                                                          \n"
     ]
    }
   ],
   "source": [
    "vinyl   = \"\"\"\n",
    " C     0.000000    -0.246412    -1.271068\n",
    " C     0.000000     0.457081    -0.154735\n",
    " F     0.000000    -0.119195     1.052878\n",
    " H     0.000000     0.272328    -2.210194\n",
    " H     0.000000    -1.319906    -1.249847\n",
    " H     0.000000     1.530323    -0.095954\n",
    "\"\"\"\n",
    "\n",
    "# SCF\n",
    "struct  = gator.get_molecule(vinyl)\n",
    "basis   = gator.get_molecular_basis(struct,'6-31G')\n",
    "scf_res = gator.run_scf(struct,basis)\n",
    "\n",
    "# CVS space with three lowest\n",
    "adc_full = gator.run_adc(struct,basis,scf_res,method='cvs-adc2x',singlets=10,core_orbitals=[1,2,3])\n",
    "\n",
    "# CVS space with CHF carbon\n",
    "adc_chf  = gator.run_adc(struct,basis,scf_res,method='cvs-adc2x',singlets=5,core_orbitals=[2])\n",
    "\n",
    "# CVS space with CH2_carbon\n",
    "adc_ch2  = gator.run_adc(struct,basis,scf_res,method='cvs-adc2x',singlets=5,core_orbitals=[3])"
   ]
  },
  {
   "cell_type": "code",
   "execution_count": 230,
   "metadata": {},
   "outputs": [
    {
     "data": {
      "image/png": "[encoded data removed]",
      "text/plain": [
       "<Figure size 432x288 with 1 Axes>"
      ]
     },
     "metadata": {
      "needs_background": "light"
     },
     "output_type": "display_data"
    }
   ],
   "source": [
    "plt.figure(figsize=(6,4))\n",
    "x,y = au2ev*adc_full.excitation_energy, adc_full.oscillator_strength\n",
    "xi,yi = lorentzian(x,y,285,300,0.01,0.5); plt.plot(xi,yi)\n",
    "x,y = au2ev*adc_chf.excitation_energy, adc_chf.oscillator_strength\n",
    "xi,yi = lorentzian(x,y,285,300,0.01,0.5); plt.plot(xi,yi)\n",
    "x,y = au2ev*adc_ch2.excitation_energy, adc_ch2.oscillator_strength\n",
    "xi,yi = lorentzian(x,y,285,300,0.01,0.5); plt.plot(xi,yi)\n",
    "plt.legend(('Fluorine and carbons','-CHF','-CH2'),loc='upper left',fontsize=8)\n",
    "plt.xlim((285,297))\n",
    "plt.show()"
   ]
  },
  {
   "cell_type": "markdown",
   "metadata": {},
   "source": [
    "See that the results are identical between the CVS spaces.\n",
    "\n",
    "Comparison to experiment using aug-cc-pCVTZ/cc-pVTZ:\n",
    "\n",
    "![X-ray processes considered](../img/xray/adc_vinyl_xas.svg)\n",
    "\n",
    "\n",
    "Discuss chemical shifts.\n",
    "\n",
    "Now, lets look at various analysis tools.\n",
    "\n",
    "Can study the amplitudes involved in adc calculations using the `state.describe_amplitudes` function, which takes as input `tolerance` which controls minimum amplitude to be printed, and the format using `index_format`, which takes three different forms. Splitting the resulting returning string according to `state` and printing the results for the first two states, we obtain:"
   ]
  },
  {
   "cell_type": "code",
   "execution_count": 48,
   "metadata": {},
   "outputs": [
    {
     "name": "stdout",
     "output_type": "stream",
     "text": [
      "From 'hf' format, which yield MO number:\n",
      "+---------------------------------------+\n",
      "| State   1 ,      10.63675 au          |\n",
      "+---------------------------------------+\n",
      "|   1     ->  12      a ->a      -0.601 |\n",
      "|   1     ->  22      a ->a      +0.105 |\n",
      "|  11   1 ->  12  12  ab->ab     +0.149 |\n",
      "+---------------------------------------+\n",
      "| State   2 ,      10.69912 au          |\n",
      "+---------------------------------------+\n",
      "|   2     ->  13      a ->a        -0.5 |\n",
      "|   2     ->  15      a ->a      +0.273 |\n",
      "|   2     ->  14      a ->a       -0.22 |\n",
      "\n",
      "From 'adcc' format, which indexing as used in adcc:\n",
      "+-------------------------------------------------------+\n",
      "| State   1 ,      10.63675 au,      289.4407 eV        |\n",
      "+-------------------------------------------------------+\n",
      "| (o2  1)         -> (v1  0)          a ->a      -0.601 |\n",
      "| (o2  1)         -> (v1 10)          a ->a      +0.105 |\n",
      "| (o1  8) (o2  1) -> (v1  0) (v1  0)  ab->ab     +0.149 |\n",
      "+-------------------------------------------------------+\n",
      "| State   2 ,      10.69912 au,      291.1378 eV        |\n",
      "+-------------------------------------------------------+\n",
      "| (o2  2)         -> (v1  1)          a ->a        -0.5 |\n",
      "| (o2  2)         -> (v1  3)          a ->a      +0.273 |\n",
      "| (o2  2)         -> (v1  2)          a ->a       -0.22 |\n",
      "\n",
      "From 'homolumo' format, which using HOMO/LUMO/HOCO format:\n",
      "+-------------------------------------------------------+\n",
      "| State   1 ,      10.63675 au,      289.4407 eV        |\n",
      "+-------------------------------------------------------+\n",
      "| HOCO -1         -> LUMO             a ->a      -0.601 |\n",
      "| HOCO -1         -> LUMO+10          a ->a      +0.105 |\n",
      "| HOMO    HOCO -1 -> LUMO    LUMO     ab->ab     +0.149 |\n",
      "+-------------------------------------------------------+\n",
      "| State   2 ,      10.69912 au,      291.1378 eV        |\n",
      "+-------------------------------------------------------+\n",
      "| HOCO            -> LUMO +1          a ->a        -0.5 |\n",
      "| HOCO            -> LUMO +3          a ->a      +0.273 |\n",
      "| HOCO            -> LUMO +2          a ->a       -0.22 |\n"
     ]
    }
   ],
   "source": [
    "print('From \\'hf\\' format, which yield MO number:')\n",
    "des_amp    = adc_full.describe_amplitudes(tolerance=0.1,index_format='hf')\n",
    "split_line = '\\n\\n'\n",
    "tmp_amp    = des_amp.split(split_line)\n",
    "print(tmp_amp[1])\n",
    "print(tmp_amp[2])\n",
    "print()\n",
    "\n",
    "print('From \\'adcc\\' format, which indexing as used in adcc:')\n",
    "des_amp    = adc_full.describe_amplitudes(tolerance=0.1,index_format='adcc')\n",
    "split_line = '\\n\\n'\n",
    "tmp_amp    = des_amp.split(split_line)\n",
    "print(tmp_amp[1])\n",
    "print(tmp_amp[2])\n",
    "print()\n",
    "\n",
    "\n",
    "print('From \\'homolumo\\' format, which using HOMO/LUMO/HOCO format:')\n",
    "des_amp    = adc_full.describe_amplitudes(tolerance=0.1,index_format='homolumo')\n",
    "split_line = '\\n\\n'\n",
    "tmp_amp    = des_amp.split(split_line)\n",
    "print(tmp_amp[1])\n",
    "print(tmp_amp[2])"
   ]
  },
  {
   "cell_type": "markdown",
   "metadata": {},
   "source": [
    "We see that\n",
    "\n",
    "- The first two states corresponds to transitions from two different MOs, which here corresponds to CHF and CH2\n",
    "\n",
    "- The transitions are dominated to two different virtuals"
   ]
  },
  {
   "cell_type": "code",
   "execution_count": 234,
   "metadata": {},
   "outputs": [
    {
     "name": "stdout",
     "output_type": "stream",
     "text": [
      "Resolving core contributions using different eigenstates\n"
     ]
    },
    {
     "data": {
      "image/png": "[encoded data removed]",
      "text/plain": [
       "<Figure size 432x288 with 1 Axes>"
      ]
     },
     "metadata": {
      "needs_background": "light"
     },
     "output_type": "display_data"
    }
   ],
   "source": [
    "print('Resolving core contributions using different eigenstates')\n",
    "plt.figure(figsize=(6,4))\n",
    "x1,y1 = au2ev*adc_chf.excitation_energy, adc_chf.oscillator_strength\n",
    "x1i,y1i = lorentzian(x1,y1,285,300,0.01,0.5)\n",
    "x2,y2 = au2ev*adc_ch2.excitation_energy, adc_ch2.oscillator_strength\n",
    "x2i,y2i = lorentzian(x2,y2,285,300,0.01,0.5)\n",
    "plt.plot(x2i,y1i+y2i,'k-',linewidth=2.0)\n",
    "plt.fill_between(x2i, 0, y1i,alpha=0.6)\n",
    "plt.fill_between(x2i, y1i, y1i+y2i,alpha=0.6)\n",
    "plt.legend(('Full','-CHF','-CH2'))\n",
    "plt.xlim((285,297))\n",
    "plt.show()"
   ]
  },
  {
   "cell_type": "code",
   "execution_count": 50,
   "metadata": {},
   "outputs": [
    {
     "name": "stdout",
     "output_type": "stream",
     "text": [
      "MAYBE: the same using the full-space eigenvectors\n",
      "Could come from looking more into the eigenstates, or by just splitting the describe_amplitude results...\n"
     ]
    }
   ],
   "source": [
    "\n",
    "\n",
    "\n",
    "print('MAYBE: the same using the full-space eigenvectors')\n",
    "\n",
    "\n",
    "print('Could come from looking more into the eigenstates, or by just splitting the describe_amplitude results...')"
   ]
  },
  {
   "cell_type": "code",
   "execution_count": 36,
   "metadata": {},
   "outputs": [
    {
     "name": "stdout",
     "output_type": "stream",
     "text": [
      "Polarization\n"
     ]
    },
    {
     "data": {
      "image/png": "[encoded data removed]",
      "text/plain": [
       "<Figure size 432x288 with 1 Axes>"
      ]
     },
     "metadata": {
      "needs_background": "light"
     },
     "output_type": "display_data"
    }
   ],
   "source": [
    "print('Polarization')\n",
    "prefactor = 1.\n",
    "sX,sY,sZ = [],[],[]\n",
    "freq = adc_full.excitation_energy\n",
    "for i in np.arange(len(freq)):\n",
    "    tmp_tms = adc_full.transition_dipole_moment[i]\n",
    "    sX.append(freqs[i]*tmp_tms[0]**2)\n",
    "    sY.append(freqs[i]*tmp_tms[1]**2)\n",
    "    sZ.append(freqs[i]*tmp_tms[2]**2)\n",
    "    \n",
    "plt.figure()\n",
    "x,y = au2ev*freq, sX\n",
    "xX,yX = lorentzian(x,y,285,300,0.01,0.5)\n",
    "x,y = au2ev*freq, sY\n",
    "xY,yY = lorentzian(x,y,285,300,0.01,0.5)\n",
    "x,y = au2ev*freq, sZ\n",
    "xZ,yZ = lorentzian(x,y,285,300,0.01,0.5)\n",
    "plt.plot(xX,yX+yY+yZ,'k-',linewidth=2)\n",
    "plt.fill_between(xX, 0, yX,alpha=0.6)\n",
    "plt.fill_between(xX, yX, yX+yY,alpha=0.6)\n",
    "plt.fill_between(xX, yX+yY, yX+yY+yZ,alpha=0.6)\n",
    "plt.legend(('Isotropic','x-pol.','y-pol.','z-pol.'))\n",
    "plt.xlim((285,297))\n",
    "plt.show()"
   ]
  },
  {
   "cell_type": "markdown",
   "metadata": {},
   "source": [
    "This can be done for CPP-DFT, taking the water calculation from above as an example.\n",
    "\n",
    "Polarization:"
   ]
  },
  {
   "cell_type": "code",
   "execution_count": 54,
   "metadata": {},
   "outputs": [
    {
     "data": {
      "image/png": "[encoded data removed]",
      "text/plain": [
       "<Figure size 432x288 with 1 Axes>"
      ]
     },
     "metadata": {
      "needs_background": "light"
     },
     "output_type": "display_data"
    }
   ],
   "source": [
    "sX,sY,sZ = [],[],[]\n",
    "for w in freqs:\n",
    "    axx = -cpp_prop.rsp_property['response_functions'][('x', 'x', w)].imag\n",
    "    ayy = -cpp_prop.rsp_property['response_functions'][('y', 'y', w)].imag\n",
    "    azz = -cpp_prop.rsp_property['response_functions'][('z', 'z', w)].imag\n",
    "    sX.append(4.0 * np.pi * w * axx / 137.035999 / 3.0)\n",
    "    sY.append(4.0 * np.pi * w * ayy / 137.035999 / 3.0)\n",
    "    sZ.append(4.0 * np.pi * w * azz / 137.035999 / 3.0)\n",
    "\n",
    "x = np.arange(min(au2ev*freqs),max(au2ev*freqs),0.01)\n",
    "yX = interp1d(au2ev*freqs, sX, kind='cubic')\n",
    "yY = interp1d(au2ev*freqs, sY, kind='cubic')\n",
    "yZ = interp1d(au2ev*freqs, sZ, kind='cubic')\n",
    "plt.plot(x,yX(x)+yY(x)+yZ(x),'k-',linewidth=2)\n",
    "plt.fill_between(x, 0, yX(x), alpha=0.6)\n",
    "plt.fill_between(x, yX(x), yX(x)+yY(x), alpha=0.6)\n",
    "plt.fill_between(x, yX(x)+yY(x), yX(x)+yY(x)+yZ(x), alpha=0.6)\n",
    "plt.legend(('Isotropic','x-pol.','y-pol.','z-pol.'))\n",
    "plt.show()"
   ]
  },
  {
   "cell_type": "markdown",
   "metadata": {},
   "source": [
    "And atomic:"
   ]
  },
  {
   "cell_type": "code",
   "execution_count": 80,
   "metadata": {},
   "outputs": [
    {
     "data": {
      "image/png": "[encoded data removed]",
      "text/plain": [
       "<Figure size 576x216 with 1 Axes>"
      ]
     },
     "metadata": {
      "needs_background": "light"
     },
     "output_type": "display_data"
    }
   ],
   "source": [
    "nocc = molecule.number_of_alpha_electrons()\n",
    "nvirt = scf_drv.mol_orbs.number_mos() - nocc\n",
    "spec_comp = []\n",
    "solution_vecs = cpp_prop.get_property('solutions')\n",
    "x_solution,y_solution,z_solution = [],[],[]\n",
    "for w in freqs:\n",
    "    x_solution.append(solution_vecs[('x',w)]); y_solution.append(solution_vecs[('y',w)]); z_solution.append(solution_vecs[('z',w)])\n",
    "x_solution,x_solution,x_solution = np.array(x_solution),np.array(y_solution),np.array(z_solution)\n",
    "for occ in np.arange(0,nocc): spec_comp.append([])\n",
    "for i in np.arange(len(freqs)):\n",
    "    x_tmp = x_solution[i]; y_tmp = y_solution[i]; z_tmp = z_solution[i]\n",
    "    for occ in np.arange(0,nocc):\n",
    "        comp_X = np.sum(np.abs(np.imag(x_tmp[occ*nvirt : (occ+1)*nvirt]))) / np.sum(np.abs(np.imag(x_tmp[:])))\n",
    "        comp_Y = np.sum(np.abs(np.imag(y_tmp[occ*nvirt : (occ+1)*nvirt]))) / np.sum(np.abs(np.imag(y_tmp[:])))\n",
    "        comp_Z = np.sum(np.abs(np.imag(z_tmp[occ*nvirt : (occ+1)*nvirt]))) / np.sum(np.abs(np.imag(z_tmp[:])))\n",
    "        spec_comp[occ].append((comp_X*sX[i]+comp_Y*sY[i]+comp_Z*sZ[i]))\n",
    "plt.figure(figsize=(8,3))\n",
    "mo1     = np.array(spec_comp[0])\n",
    "mo_rest = spec_comp[1]\n",
    "for i in np.arange(2,len(spec_comp)):\n",
    "    for j in np.arange(len(spec_comp[0])):\n",
    "        mo_rest[j] += spec_comp[i][j]\n",
    "\n",
    "        \n",
    "x = np.arange(min(au2ev*freqs),max(au2ev*freqs),0.01)\n",
    "y1    = interp1d(au2ev*freqs, mo1, kind='cubic')\n",
    "yrest = interp1d(au2ev*freqs, mo_rest, kind='cubic')\n",
    "plt.plot(x,y1(x)+yrest(x),'k-',linewidth=2)\n",
    "plt.fill_between(x, yrest(x), y1(x)+yrest(x), alpha=0.6)\n",
    "plt.fill_between(x, 0, yrest(x), alpha=0.6)\n",
    "plt.legend(('Total','MO #1','Rest'))\n",
    "plt.tight_layout()"
   ]
  },
  {
   "cell_type": "markdown",
   "metadata": {},
   "source": [
    "...which is of course only one atom...\n",
    "\n",
    "The decomposition for vinylfluoride yields\n",
    "\n",
    "One figure - ADC and TDDFT, atomic and polarization\n",
    "\n",
    "![X-ray processes considered](../img/xray/vinyl_decomp.svg)\n",
    "\n",
    "Visualization and descriptors (?)"
   ]
  },
  {
   "cell_type": "markdown",
   "metadata": {},
   "source": [
    "### Uracil in solution\n",
    "\n",
    "CVS-ADC and CPP-DFT\n",
    "\n",
    "1. Tailored CVS spaces\n",
    "\n",
    "2. Gas phase\n",
    "\n",
    "3. Polarizable embedding\n",
    "\n",
    "### Maybe: massive system with DFT"
   ]
  },
  {
   "cell_type": "markdown",
   "metadata": {},
   "source": [
    "## X-ray emission spectroscopy\n",
    "\n",
    "\n",
    "- maybe illustration: Augen/fluorescent yield\n",
    "\n",
    "### Decay from core-hole reference\n",
    "\n",
    "Water (vs expt)\n",
    "\n",
    "1. ADC(2)\n",
    "\n",
    "2. TDDFT\n"
   ]
  },
  {
   "cell_type": "code",
   "execution_count": 47,
   "metadata": {},
   "outputs": [
    {
     "name": "stdout",
     "output_type": "stream",
     "text": [
      "converged SCF energy = -75.9838703827193  <S^2> = 6.3389294e-12  2S+1 = 1\n",
      "converged SCF energy = -56.0754789470864  <S^2> = 0.76257805  2S+1 = 2.0125387\n"
     ]
    },
    {
     "name": "stderr",
     "output_type": "stream",
     "text": [
      "/home/thomas/pkg/adcc/adcc/backends/__init__.py:48: UserWarning: Could not check host program psi4 minimal version, since __version__ tag not found. Proceeding anyway.\n",
      "  \"\".format(module)\n"
     ]
    },
    {
     "name": "stdout",
     "output_type": "stream",
     "text": [
      "Starting adc2  Jacobi-Davidson ...\n",
      "Niter n_ss  max_residual  time  Ritz values\n",
      "  1     8       0.77768   2.6s  [-19.29082067 -19.19940205 -18.96181907 -18.3637012 ]\n",
      "  2    16     0.0010764  445ms  [-19.44427093 -19.36689642 -19.16826546 -18.57947501]\n",
      "  3    24    4.4301e-07  450ms  [-19.44429764 -19.3669284  -19.16831914 -18.57954987]\n",
      "=== Converged ===\n",
      "    Number of matrix applies:    24\n",
      "    Total solver time:             3s 527ms\n"
     ]
    }
   ],
   "source": [
    "mol = gto.Mole(); mol.atom  = water; mol.basis = '6-31G'; mol.build()\n",
    "scfres = scf.UHF(mol); scfres.kernel()\n",
    "mo0 = copy.deepcopy(scfres.mo_coeff); occ0 = copy.deepcopy(scfres.mo_occ); occ0[0][0] = 0.0\n",
    "scfion = scf.UHF(mol); scf.addons.mom_occ(scfion, mo0, occ0); scfion.kernel()\n",
    "adc_xes = adcc.adc2(scfion, n_states=4)"
   ]
  },
  {
   "cell_type": "code",
   "execution_count": 55,
   "metadata": {},
   "outputs": [
    {
     "name": "stdout",
     "output_type": "stream",
     "text": [
      "Using inbuilt functionalities, noticing the negative energies\n"
     ]
    },
    {
     "data": {
      "image/png": "[encoded data removed]",
      "text/plain": [
       "<Figure size 360x216 with 1 Axes>"
      ]
     },
     "metadata": {
      "needs_background": "light"
     },
     "output_type": "display_data"
    },
    {
     "name": "stdout",
     "output_type": "stream",
     "text": [
      "Flipping the x-axis and focusing on the high-energy features:\n"
     ]
    },
    {
     "data": {
      "image/png": "[encoded data removed]",
      "text/plain": [
       "<Figure size 360x216 with 1 Axes>"
      ]
     },
     "metadata": {
      "needs_background": "light"
     },
     "output_type": "display_data"
    }
   ],
   "source": [
    "print('Using inbuilt functionalities, noticing the negative energies')\n",
    "\n",
    "plt.figure(figsize=(5,3))\n",
    "adc_xes.plot_spectrum()\n",
    "plt.show()\n",
    "\n",
    "print('Flipping the x-axis and focusing on the high-energy features:')\n",
    "\n",
    "plt.figure(figsize=(5,3))\n",
    "x,y = -au2ev*adc_xes.excitation_energy,adc_xes.oscillator_strength\n",
    "xi,yi = lorentzian(x,y,min(x)-5,max(x)+5,0.01,0.5); plt.plot(xi,yi)\n",
    "plt.xlim((518,532))\n",
    "plt.show()"
   ]
  },
  {
   "cell_type": "markdown",
   "metadata": {},
   "source": [
    "Using cc-pCVTZ and compared to experiment\n",
    "\n",
    "![X-ray processes considered](../img/xray/adc_water_xes.svg)\n",
    "\n",
    "plt.figure(figsize=(5,4)); plt.subplot(211)\n",
    "x,y = -au2ev*adc_xes.excitation_energy,adc_xes.oscillator_strength\n",
    "xi,yi = lorentzian(x,y,min(x)-5,max(x)+5,0.01,0.5); plt.plot(xi,yi)\n",
    "plt.xlim((518,529)); plt.yticks([]); plt.legend(('ADC(2)',''))\n",
    "plt.subplot(212)\n",
    "data = np.loadtxt('../img/xray/water_xes.dat'); x,y = [],[]\n",
    "for data_tmp in data: x.append(data_tmp[0]), y.append(data_tmp[1])\n",
    "plt.plot(x,y); plt.xlim((518,529)); plt.yticks([]); plt.legend(('Experiment',''))\n",
    "plt.show()"
   ]
  },
  {
   "cell_type": "markdown",
   "metadata": {},
   "source": [
    "And for TDDFT"
   ]
  },
  {
   "cell_type": "markdown",
   "metadata": {},
   "source": [
    "### Overlap model\n",
    "\n",
    "Water (vs expt)\n",
    "\n",
    "1. DFT\n",
    "\n",
    "Energy from\n",
    "\n",
    "\\begin{equation}\n",
    "\\Delta E = \\epsilon_v - \\epsilon_c\n",
    "\\end{equation}\n",
    "\n",
    "\n",
    "and intensities from\n",
    "\n",
    "\\begin{equation}\n",
    "f \\propto \\left| \\langle \\phi_i \\left| \\hat{\\mu} \\right| \\phi_c \\rangle \\right| ^2\n",
    "\\end{equation}"
   ]
  },
  {
   "cell_type": "code",
   "execution_count": 61,
   "metadata": {},
   "outputs": [
    {
     "name": "stdout",
     "output_type": "stream",
     "text": [
      "Occupied orbital energies: [-520.65736958  -27.68790742  -14.39953656   -9.70378086   -7.94953419]\n"
     ]
    }
   ],
   "source": [
    "scf_drv = vlx.ScfRestrictedDriver(comm,ostream=silent_ostream)\n",
    "scf_settings  = {'conv_thresh': 1.0e-6}\n",
    "method_settings = {'xcfun': 'b3lyp', 'grid_level': 4}\n",
    "scf_drv.update_settings(scf_settings,method_settings); scf_drv.compute(molecule, basis)\n",
    "orbital_energies = scf_drv.scf_tensors['E']\n",
    "nocc = molecule.number_of_alpha_electrons()\n",
    "print('Occupied orbital energies:',au2ev*orbital_energies[:nocc])\n",
    "\n",
    "core = 0\n",
    "overlap_energy = []\n",
    "for virt in np.arange(nocc):\n",
    "    if virt != core:\n",
    "        overlap_energy.append(au2ev*(orbital_energies[virt]-orbital_energies[core]))"
   ]
  },
  {
   "cell_type": "code",
   "execution_count": 59,
   "metadata": {},
   "outputs": [
    {
     "name": "stdout",
     "output_type": "stream",
     "text": [
      "Focusing on high-energy features\n"
     ]
    },
    {
     "data": {
      "image/png": "[encoded data removed]",
      "text/plain": [
       "<Figure size 360x216 with 1 Axes>"
      ]
     },
     "metadata": {
      "needs_background": "light"
     },
     "output_type": "display_data"
    }
   ],
   "source": [
    "print('Focusing on high-energy features')\n",
    "\n",
    "plt.figure(figsize=(5,3))\n",
    "x,y = overlap_energy, np.ones((len(overlap_energy)))\n",
    "xi,yi = lorentzian(x,y,min(x)-5,max(x)+5,0.01,0.5); plt.plot(xi,yi)\n",
    "plt.xlim((max(overlap_energy)-9,max(overlap_energy)+2))\n",
    "plt.show()"
   ]
  },
  {
   "cell_type": "markdown",
   "metadata": {},
   "source": [
    "using cc-pCVTZ and compared to experiment\n",
    "\n",
    "![X-ray processes considered](../img/xray/overlap_water_xes.svg)\n",
    "\n",
    "plt.figure(figsize=(5,4)); plt.subplot(211)\n",
    "x,y = overlap_energy, np.ones((len(overlap_energy)))\n",
    "xi,yi = lorentzian(x,y,min(x)-5,max(x)+5,0.01,0.5); plt.plot(xi,yi)\n",
    "plt.xlim((max(overlap_energy)-9,max(overlap_energy)+2)); plt.yticks([]); plt.legend(('DFT overlap',''))\n",
    "plt.subplot(212)\n",
    "data = np.loadtxt('../img/xray/water_xes.dat'); x,y = [],[]\n",
    "for data_tmp in data: x.append(data_tmp[0]), y.append(data_tmp[1])\n",
    "plt.plot(x,y); plt.xlim((518,529)); plt.yticks([]); plt.legend(('Experiment',''))\n",
    "plt.show()"
   ]
  },
  {
   "cell_type": "markdown",
   "metadata": {},
   "source": [
    "### Maybe: uracil in solution\n",
    "\n",
    "1. Gas phase\n",
    "\n",
    "2. Environment with PE\n",
    "\n",
    "### Maybe valence-to-core XES\n",
    "\n",
    "Suitable TM-complex with minimal static correlation\n",
    "\n",
    "1. Overlap\n",
    "\n",
    "2. TDDFT?\n",
    "\n",
    "### Maybe: massive system with DFT"
   ]
  },
  {
   "cell_type": "markdown",
   "metadata": {},
   "source": [
    "## Resonant inelastic X-ray scattering\n",
    "\n",
    "\n",
    "Water.\n",
    "\n",
    "1. 2-step model\n",
    "\n",
    "2. DKH"
   ]
  },
  {
   "cell_type": "markdown",
   "metadata": {},
   "source": [
    "## Coupling to molecular dynamics\n",
    "\n",
    "\n",
    "Some system...\n",
    "\n",
    "1. Dynamics + XAS\n",
    "\n",
    "2. Dynamics + XES\n",
    "\n",
    "3. Inclusion of environment?\n",
    "\n",
    "4. Core-hole dynamics with some model?"
   ]
  },
  {
   "cell_type": "markdown",
   "metadata": {},
   "source": [
    "## Self-interaction error in DFT\n",
    "\n",
    "For a single-electron systems the following equality should hold for the two-electron terms:\n",
    "\n",
    "$$\n",
    "J[\\rho] + E_{xc} [\\rho] = 0.0\n",
    "$$\n",
    "\n",
    "This cancellation is achieved for, e.g. Hartree–Fock theory, but for any approximate functionals in DFT it will instead result in an erronous contribution to the energy. DFT-based methods generally suffer from self-interaction error (SIE), which corresponds to the sum of Coulomb and exchange self-interactions that remain because of the use of approximate exchange functionals. In more detail, the Coulomb self-repulsion of each electron included in the Coulomb operator is exactly canceled by the nonlocal exchange self-attraction in Hartree--Fock theory, but this is no longer the case when the exchange operator is replaced by an approximate exchange functional.\n",
    "\n",
    "- Radial distribution or something for functionals? Calculate error?"
   ]
  },
  {
   "cell_type": "markdown",
   "metadata": {},
   "source": [
    "## Relativity\n",
    "\n",
    "1. Water IP without relativity or with X2C\n",
    "\n",
    "2. Total relativistic and correlation corrections as a function of Z"
   ]
  },
  {
   "cell_type": "markdown",
   "metadata": {},
   "source": [
    "## Relaxation\n",
    "\n",
    "### In ADC\n",
    "\n",
    "\n",
    "### In TDDFT\n",
    "\n",
    "\n",
    "1. Radial distribution: Z, Z with hole, Z+1\n",
    "\n",
    "2. Total density: formaldehyde\n",
    "\n",
    "3. Maybe: visualization of effects for XAS and XES\n",
    "\n",
    "![X-ray processes considered](../img/xray/relax_form.svg)"
   ]
  },
  {
   "cell_type": "markdown",
   "metadata": {},
   "source": [
    "## Basis set considerations\n",
    "\n",
    "The basis set requirements of X-ray spectrum calculations will depend strongly on which spectroscopy\n",
    "\n",
    "- XPS and XES probes occupied states, and thus need a good description of those\n",
    "\n",
    "- XAS and RIXS probes excited states, and thus need an improved description also of this region\n",
    "\n",
    "However, in both cases the relaxation due to the creation of a core-hole need to be enabled, which yield requirements of reasonable flexibility of the core and inner valence region. This is not typically the case, as most studies deals with valence electron and thus have a minimal or close to minimal description of the core region.\n",
    "\n",
    "A number of approaches for improving the basis sets have been developed:\n",
    "\n",
    "1. Augment the Dunning basis sets with core-polarizing functions, e.g. cc-pV*n*Z $\\rightarrow$ cc-pCV*n*Z\n",
    "\n",
    "2. Adding extra flexibility by performing full or partial decontraction, e.g.\n",
    "    1. u6-311++G** is 6-311++G** with decontracted 1s function of the probed element\n",
    "    2. un-6-311++G** is a fully decontracted 6-311++G** basis set\n",
    "\n",
    "3. Use basis functions from the next element, is inspired by the equvalent core/Z+1 approximation\n",
    "\n",
    "Here we focus on the basis set effects for calculations of the IP of water, and we encourage the interested reader to do the same excercise for XES, as well as for XAS (where the augmentation of diffuse functions also need to be considered)."
   ]
  },
  {
   "cell_type": "code",
   "execution_count": 79,
   "metadata": {
    "tags": [
     "hide-input"
    ]
   },
   "outputs": [],
   "source": [
    "u6311gss  = {'O': gto.basis.parse('''\n",
    "O    S\n",
    "   8588.500                  1.000000 \n",
    "O    S\n",
    "   1297.230                  1.000000 \n",
    "O    S\n",
    "    299.2960                 1.000000 \n",
    "O    S\n",
    "     87.37710                1.000000 \n",
    "O    S\n",
    "     25.67890                1.000000 \n",
    "O    S\n",
    "      3.740040               1.000000 \n",
    "O    SP\n",
    "     42.11750                0.113889               0.0365114\n",
    "      9.628370               0.920811               0.237153\n",
    "      2.853320              -0.00327447             0.819702\n",
    "O    SP\n",
    "      0.905661               1.000000               1.000000\n",
    "O    SP\n",
    "      0.255611               1.000000               1.000000\n",
    "O    D\n",
    "      1.292                  1.000000\n",
    "'''), 'H': '6-311G**'}\n",
    "un6311gss = {'O': gto.basis.parse('''\n",
    "O    S\n",
    "   8588.500                  1.000000 \n",
    "O    S\n",
    "   1297.230                  1.000000 \n",
    "O    S\n",
    "    299.2960                 1.000000 \n",
    "O    S\n",
    "     87.37710                1.000000 \n",
    "O    S\n",
    "     25.67890                1.000000 \n",
    "O    S\n",
    "      3.740040               1.000000 \n",
    "O    SP\n",
    "     42.11750                1.000000               1.000000\n",
    "O    SP\n",
    "      9.628370               1.000000               1.000000\n",
    "O    SP\n",
    "      2.853320               1.000000               1.000000\n",
    "O    SP\n",
    "      0.905661               1.000000               1.000000\n",
    "O    SP\n",
    "      0.255611               1.000000               1.000000\n",
    "O    D\n",
    "      1.292                  1.000000\n",
    "'''), 'H': '6-311G**'}\n",
    "z6311gss  = {'O': gto.basis.parse('''\n",
    "O    S\n",
    "   8588.500                  0.00189515\n",
    "   1297.230                  0.0143859\n",
    "    299.2960                 0.0707320\n",
    "     87.37710                0.2400010\n",
    "     25.67890                0.5947970\n",
    "      3.740040               0.2808020\n",
    "O    SP\n",
    "     42.11750                0.113889               0.0365114\n",
    "      9.628370               0.920811               0.237153\n",
    "      2.853320              -0.00327447             0.819702\n",
    "O    SP\n",
    "      0.905661               1.000000               1.000000\n",
    "O    SP\n",
    "      0.255611               1.000000               1.000000\n",
    "O    D\n",
    "      1.292                  1.000000\n",
    "O    S\n",
    "  11427.10                   0.00180093\n",
    "   1722.350                  0.0137419\n",
    "    395.7460                 0.0681334\n",
    "    115.1390                 0.2333250\n",
    "     33.60260                0.5890860\n",
    "      4.919010               0.2995050\n",
    "O    SP\n",
    "     55.44410                0.114536               0.0354609\n",
    "     12.63230                0.920512               0.237451\n",
    "      3.717560              -0.00337804             0.820458\n",
    "O    SP\n",
    "      1.165450               1.000000               1.000000\n",
    "O    SP\n",
    "      0.321892               1.000000               1.000000\n",
    "O    D\n",
    "      1.750                  1.000000\n",
    "'''), 'H': '6-311G**'}"
   ]
  },
  {
   "cell_type": "markdown",
   "metadata": {
    "tags": [
     "hide-input"
    ]
   },
   "source": [
    "Exotic version of basis sets found above\n",
    "\n",
    "```python\n",
    "basis_sets = ['6-311G**',u6311gss,un6311gss,z6311gss, 'cc-pVDZ', 'cc-pCVDZ', 'cc-pVTZ', 'cc-pCVTZ','cc-pVQZ', 'cc-pCVQZ']\n",
    "ip_hf, ip_mp2, ip_ccsd, ip_b3lyp, n_bas = [],[],[],[],[]\n",
    "for basis in basis_sets:\n",
    "    mol = gto.Mole(); mol.atom  = water; mol.basis = basis\n",
    "    mol.build()\n",
    "    scfres = scf.UHF(mol); scfres.kernel()\n",
    "    mo0 = copy.deepcopy(scfres.mo_coeff); occ0 = copy.deepcopy(scfres.mo_occ); occ0[0][0] = 0.0\n",
    "    scfion = scf.UHF(mol); scf.addons.mom_occ(scfion, mo0, occ0); scfion.kernel()\n",
    "    ip_hf.append(au2ev*(scfion.energy_tot() - scfres.energy_tot()))\n",
    "    ccsd_res = cc.UCCSD(scfres).run(); ccsd_ion = cc.UCCSD(scfion).run(max_cycle=500)\n",
    "    ip_ccsd.append(au2ev*(ccsd_ion.e_tot - ccsd_res.e_tot))\n",
    "    ip_mp2.append(au2ev*(ccsd_ion.e_hf+ccsd_ion.emp2-(ccsd_res.e_hf+ccsd_res.emp2)))\n",
    "    scfres = scf.UKS(mol); scfres.xc = 'b3lyp'; scfres.kernel()\n",
    "    mo0 = copy.deepcopy(scfres.mo_coeff); occ0 = copy.deepcopy(scfres.mo_occ); occ0[0][0] = 0.0\n",
    "    scfion = scf.UKS(mol); scf.addons.mom_occ(scfion, mo0, occ0); scfion.xc = 'b3lyp'; scfion.kernel()\n",
    "    ip_b3lyp.append(au2ev*(scfion.energy_tot() - scfres.energy_tot()))\n",
    "    n_bas.append(len(scfres.mo_occ[0]))\n",
    "    \n",
    "plt.figure(figsize=(10,5))\n",
    "basis_set_labels = ['6-311G**','u6-311G**','un6-311G**','6-311G** (Z+1)', 'cc-pVDZ', 'cc-pCVDZ', 'cc-pVTZ', 'cc-pCVTZ','cc-pVQZ', 'cc-pCVQZ']\n",
    "plt.plot(n_bas,ip_hf,'r*'); plt.plot(n_bas,ip_mp2,'bv')\n",
    "plt.plot(n_bas,ip_ccsd,'d',color='orange'); plt.plot(n_bas,ip_b3lyp,'go')\n",
    "plt.plot([min(n_bas)-5,max(n_bas)+5],[539.9,539.9],'k:')\n",
    "plt.plot([min(n_bas)-5,max(n_bas)+5],[539.9-0.3,539.9-0.3],'k--')\n",
    "plt.xlim((min(n_bas)-5,max(n_bas)+5))\n",
    "plt.ylabel('Ionization potential [eV]')\n",
    "plt.legend(('HF','MP2','CCSD','B3LYP','Expt','Expt - 0.3 eV'))\n",
    "plt.xticks(n_bas,basis_set_labels,rotation=70,fontsize=10)\n",
    "plt.tight_layout(); plt.savefig('basis_xps.svg')\n",
    "plt.show()\n",
    "```\n",
    "\n",
    "The execution of which yields\n",
    "\n",
    "\n",
    "![X-ray processes considered](../img/xray/basis_xps.svg)\n",
    "\n",
    "On the y-axis we see the basis set labels, with order and position determined by the number of basis functions.\n",
    "\n",
    "We see that..."
   ]
  }
 ],
 "metadata": {
  "kernelspec": {
   "display_name": "Python 3",
   "language": "python",
   "name": "python3"
  },
  "language_info": {
   "codemirror_mode": {
    "name": "ipython",
    "version": 3
   },
   "file_extension": ".py",
   "mimetype": "text/x-python",
   "name": "python",
   "nbconvert_exporter": "python",
   "pygments_lexer": "ipython3",
   "version": "3.7.9"
  }
 },
 "nbformat": 4,
 "nbformat_minor": 4
}
