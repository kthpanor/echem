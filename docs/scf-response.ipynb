{
 "cells": [
  {
   "cell_type": "markdown",
   "id": "right-reaction",
   "metadata": {
    "slideshow": {
     "slide_type": "slide"
    }
   },
   "source": [
    "# Approximate states\n",
    "Compared to exact-state theory, the first and foremost difference is that, in approximate-state methods, state vectors are in general not eigenstates of the unperturbed Hamiltonian but are rather formed in terms of Slater determinants. Apart from this, the steps to be taken in the derivation of response functions are very similar in the two situations.\n",
    "\n",
    "## SCF approximation\n",
    "In Hartree--Fock and Kohn--Sham density functional theory, the reference state is described by a single Slater determinant, also referred to as the self-consistent field (SCF) approximation. The detailed derivation of response functions in this approximation can be found in {cite}`Norman2018` but the key steps are indicated below.\n",
    "\n",
    "### Parameterization\n",
    "Parameterization of SCF states:\n",
    "\n",
    "\\begin{equation*}\n",
    "\\label{psi-kappa-param}\n",
    "  | \\bar{\\psi}(t) \\rangle =\n",
    "    e^{-i\\hat{\\kappa}(t)} |0\\rangle ; \\quad\n",
    "  \\hat{\\kappa}(t) =\n",
    "  \\sum_s^\\mathrm{unocc} \\sum_i^\\mathrm{occ} \\left[\n",
    "    \\kappa_{si}(t) \\hat{a}^\\dagger_s \\hat{a}_i + \\kappa_{si}^*(t) \\hat{a}^\\dagger_i \\hat{a}_s\n",
    "    \\right] ,\n",
    "\\end{equation*}\n",
    "\n",
    "where the creation, $\\hat{a}^\\dagger$, and annihilation, $\\hat{a}$, operators act on unoccupied, secondary, $s$ and occupied, inactive, $i$ molecular orbitals.\n",
    "\n",
    "### Equation of motion\n",
    "The time evolution of the SCF state is determined from the Ehrenfest theorem:\n",
    "\n",
    "\\begin{equation*}\n",
    "\\label{ehren-equiv}\n",
    "  \\frac{\\partial}{\\partial t} \n",
    "  \\langle \\bar{\\psi}(t) | \\hat{\\Omega}_{pq}^\\dagger | \\bar{\\psi}(t) \\rangle \n",
    "  -\n",
    "  \\langle \\bar{\\psi}(t) | \n",
    "  \\frac{\\partial \\hat{\\Omega}_{pq}^\\dagger}{\\partial t} \n",
    "  | \\bar{\\psi}(t) \\rangle = \n",
    "  \\frac{1}{i\\hbar}\n",
    "    \\langle \\bar{\\psi}(t) | [\\hat{\\Omega}_{pq}^\\dagger, \\hat{H}] \n",
    "    | \\bar{\\psi}(t) \\rangle \n",
    "\\end{equation*}\n",
    "\n",
    "We require that this equation is fulfilled for the set of time-transformed electron-transfer operators\n",
    "\n",
    "\\begin{equation*}\n",
    "    \\hat{\\Omega}_{si}^\\dagger = \n",
    "  e^{-i\\hat{\\kappa}} \\, \\hat{a}^\\dagger_s \\hat{a}_i \\, e^{i\\hat{\\kappa}}\n",
    "\\end{equation*}\n",
    "\n",
    "as well as the corresponding Hermitian conjugate. There will be two equations associated with each single-electron excited determinant, so there are twice as  many equations as there are unknown *complex* parameters, $\\kappa_{si}(t)$, with independent real and imaginary parts in the time-dependent phase-isolated wave function, $| \\bar{\\psi}(t) \\rangle$.\n",
    "\n",
    "At this point, we adopt perturbation theory:\n",
    "\n",
    "\\begin{equation*}\n",
    "  \\kappa_{si}(t) = \\kappa_{si}^{(1)} + \\kappa_{si}^{(2)} + \\kappa_{si}^{(3)} + \\cdots ,\n",
    "\\end{equation*}\n",
    "\n",
    "which, after finding a first-order solution in the frequency domain, will eventually results in\n",
    "\n",
    "\\begin{equation*}\n",
    "  \\kappa^{(1)}(\\omega) = - i\n",
    "  \\left(E^{[2]} - \\hbar \\omega S^{[2]}\\right)^{-1} \n",
    "  V^{\\omega, [1]} .\n",
    "\\end{equation*}\n",
    "\n",
    "The vector $\\kappa^{(1)}$ collects the set of parameters and their complex conjugate and matrices $E^{[2]}$ and $S^{[2]}$ are known as the electronic Hessian and overlap matrices, respectively, and $V^{\\omega, [1]}$ is known as the property gradient of the perturbation operator.\n",
    "\n",
    "### Response functions\n",
    " The response functions of an observable $\\hat{\\Omega}$ are defined by:\n",
    "\n",
    "\\begin{equation*}\n",
    "  \\langle \\bar{\\psi}(t) | \\hat{\\Omega} | \\bar{\\psi}(t) \\rangle =\n",
    "  \\langle 0 | \\hat{\\Omega} | 0 \\rangle + \n",
    "  \\sum_{\\omega}\n",
    "  \\langle \\langle \\hat{\\Omega}; \\hat{V}^{\\omega} \\rangle \\rangle \n",
    "  F^{\\omega}\n",
    "  e^{-i\\omega t} + \\cdots \n",
    "\\end{equation*}\n",
    "\n",
    "and we are able to identify the following expression for the linear response function\n",
    "\n",
    "\\begin{equation*}\n",
    "  \\langle \\langle \\hat{\\Omega}; \\hat{V}^{\\omega} \\rangle\n",
    "  \\rangle  = -\n",
    "\\left[\\Omega^{[1]}\\right]^\\dagger\n",
    "   \\left(E^{[2]} - \\hbar \\omega S^{[2]}\\right)^{-1} V^{\\omega, [1]} ,\n",
    "\\end{equation*}\n",
    "\n",
    "where $\\Omega^{[1]}$ (analogously to  $V^{\\omega, [1]}$) is known as the property gradients associated with the observable. This expression for the linear response functions is also known as the random phase approximation (RPA) equation in the case a Hartree--Fock reference state. It is the principal equation to be solved in time-dependent Hartree--Fock (TDHF) and time-dependent density functional theory (TDDFT) theories. Explicit expressions for the vector matrix elements in the TDHF approximaiton are given below."
   ]
  },
  {
   "cell_type": "markdown",
   "id": "distinguished-vietnamese",
   "metadata": {
    "slideshow": {
     "slide_type": "slide"
    }
   },
   "source": [
    "### Matrix elements\n",
    "#### Electronic Hessian\n",
    "The electronic Hessian reads\n",
    "\n",
    "\\begin{eqnarray*}\n",
    "E^{[2]} & = &\n",
    "\t\\begin{pmatrix}\n",
    "    \\rule[-5pt]{0pt}{20pt}\n",
    "\t\\rule{5pt}{0pt}\n",
    "\tA & B \\rule{5pt}{0pt}\n",
    "\t\\\\\n",
    "    \\rule[-10pt]{0pt}{25pt}\n",
    "    \\rule{5pt}{0pt}    \n",
    "\tB^* & A^* \\\\\n",
    "\t\\end{pmatrix} = -\n",
    "  \\begin{pmatrix}\n",
    "    \\rule[-10pt]{0pt}{20pt}\n",
    "     \\langle 0 | [\\hat{q}_{n},\n",
    "       [\\hat{q}_{m}^\\dagger, \\hat{H}_0]] | 0 \\rangle\n",
    "     &\n",
    "     \\langle 0 | [\\hat{q}_{n},\n",
    "       [\\hat{q}_{m}, \\hat{H}_0]] | 0 \\rangle \\\\\n",
    "    \\rule[-5pt]{0pt}{20pt}\n",
    "     \\langle 0 | [\\hat{q}_{n}^\\dagger,\n",
    "       [\\hat{q}_{m}^\\dagger, \\hat{H}_0]] | 0 \\rangle\n",
    "     &\n",
    "     \\langle 0 | [\\hat{q}_{n}^\\dagger,\n",
    "       [\\hat{q}_{m}, \\hat{H}_0]] | 0 \\rangle \\\\\n",
    "  \\end{pmatrix}\n",
    "  \\\\\n",
    "&\t= &\n",
    "    \\begin{pmatrix}\n",
    "    \\rule[-10pt]{0pt}{30pt}\n",
    "    \\langle 0_i^s | \\hat{H}_0 | 0_j^t \\rangle - \n",
    "    \\langle 0 | \\hat{H}_0 | 0 \\rangle \\delta_{st}\\delta_{ij} \n",
    "    & \n",
    "     -\\langle 0_{ij}^{st} | \\hat{H}_0 | 0 \\rangle \n",
    "    (1 - \\delta_{ij})(1-\\delta_{st}) \n",
    "    \\\\\n",
    "    \\rule[-10pt]{0pt}{30pt}\n",
    "    -\\langle 0 | \\hat{H}_0 | 0_{ij}^{st} \\rangle \n",
    "    (1 - \\delta_{ij})(1-\\delta_{st}) \n",
    "     & \n",
    "    \\langle 0_j^t | \\hat{H}_0 | 0_i^s \\rangle - \n",
    "    \\langle 0 | \\hat{H}_0 | 0 \\rangle \\delta_{st}\\delta_{ij} \n",
    "    \\\\\n",
    "  \\end{pmatrix} \n",
    "\\end{eqnarray*}\n",
    "\n",
    "- The Hessian matrix is Hermitian and has an internal structure in terms of the matrix blocks $A$ and $B$\n",
    "- The diagonal elements correspond to differences in energy between the single-excited determinants $|0_i^s\\rangle$ and the reference state $|0\\rangle$\n",
    "- The $A$-block corresponds to the CIS approximation\n",
    "\n",
    "In the Hartree–Fock approximation, the Hessian can be expressed as the differences in orbital energies corrected by an anti-symmetrized two-electron integral\n",
    "\n",
    "$$\n",
    "E^{[2]} = \n",
    "\\begin{pmatrix}\n",
    "    \\rule[-10pt]{0pt}{30pt}\n",
    "    F_{st} \\delta_{ij} \\!-\\! F_{ji}\\delta_{st} \\!-\\! \\langle sj || ti\n",
    "    \\rangle \n",
    "    & \n",
    "    -\\langle st||ij \\rangle \n",
    "    \\\\\n",
    "    \\rule[-10pt]{0pt}{30pt}\n",
    "    -\\langle ij||st \\rangle \n",
    "    & \n",
    "    F_{ts} \\delta_{ij}\\! -\\! F_{ij} \\delta_{st} \n",
    "    \\! - \\! \\langle ti || sj \\rangle \n",
    "    \\\\\n",
    "\\end{pmatrix}\n",
    "$$\n",
    "\n",
    "- The anti-symmetrized ERI gives the correct asymptotic behavior for charge-transfer excitations\n",
    "- At the level of DFT, the exchange–correlation functional is introduced and the asymptotic behavior becomes incorrect\n",
    "\n",
    "#### Overlap matrix\n",
    "\n",
    "The overlap matrix in the SCF approximation is trivial and equal to\n",
    "\n",
    "\\begin{eqnarray*}\n",
    "\\label{S2}\n",
    "S^{[2]} & = &\n",
    "  \\begin{pmatrix}\n",
    "    \\rule[-10pt]{0pt}{20pt}\n",
    "     \\langle 0 | [\\hat{q}_{n}, \\hat{q}_{m}^\\dagger] | 0 \\rangle\n",
    "     &\n",
    "     \\langle 0 | [\\hat{q}_{n}, \\hat{q}_{m}] | 0 \\rangle \\\\\n",
    "    \\rule[-5pt]{0pt}{20pt}\n",
    "     \\langle 0 | [\\hat{q}_{n}^\\dagger, \\hat{q}_{m}^\\dagger] | 0 \\rangle\n",
    "     &\n",
    "     \\langle 0 | [\\hat{q}_{n}^\\dagger, \\hat{q}_{m}] | 0 \\rangle \\\\\n",
    "  \\end{pmatrix} =\n",
    "\t\\begin{pmatrix}\n",
    "    \\rule[-5pt]{0pt}{20pt}\n",
    "\t\\rule{5pt}{0pt}\n",
    "\t1 & 0 \\rule{5pt}{0pt}\n",
    "\t\\\\\n",
    "    \\rule[-10pt]{0pt}{25pt}\n",
    "    \\rule{5pt}{0pt}    \n",
    "\t0 & -1 \\\\\n",
    "\t\\end{pmatrix} ,\n",
    "\\end{eqnarray*}\n",
    "\n",
    "where the \"1\" and the \"0\" are here understood to be the identity and zero matrices, respectively, of the same rank as sub-blocks A and B in the electronic Hessian.\n",
    "\n",
    "#### Property gradient\n",
    "\n",
    "In the SCF approximation, the property gradient takes the form\n",
    "\n",
    "\\begin{equation*}\n",
    "  V^{[1]} =\n",
    "  \\begin{pmatrix}\n",
    "    \\rule[-10pt]{0pt}{20pt}\n",
    "     \\langle 0 | [\\hat{a}_{i}^\\dagger\\hat{a}_{s}, \\hat{V}] | 0 \\rangle\n",
    "       \\\\\n",
    "    \\rule[-5pt]{0pt}{20pt}\n",
    "     \\langle 0 | [\\hat{a}_{s}^\\dagger\\hat{a}_{i}, \\hat{V}] | 0 \\rangle\n",
    "  \\\\\n",
    "  \\end{pmatrix} =\n",
    "  \\begin{pmatrix}\n",
    "    \\rule[-5pt]{0pt}{15pt}\n",
    "     \\langle 0_i^s | \\hat{V} | 0 \\rangle\n",
    "       \\\\\n",
    "    \\rule[-5pt]{0pt}{0pt}\n",
    "     -\\langle 0 | \\hat{V} | 0_i^s \\rangle\n",
    "    \\\\\n",
    "  \\end{pmatrix} =\n",
    "      \\begin{pmatrix}\n",
    "    \\rule[-5pt]{0pt}{15pt}\n",
    "    g\n",
    "       \\\\\n",
    "    \\rule[-5pt]{0pt}{0pt}\n",
    "     -g^*\n",
    "\\\\\n",
    "  \\end{pmatrix}\n",
    "\\end{equation*}\n",
    "\n",
    "```{note}\n",
    "It is a common practice to adopt the use of spin-adapted electron excitation vectors as a means to reduce the dimension of matrices and vectors. The expressions for the matrix elements then become modified accordingly.\n",
    "```"
   ]
  },
  {
   "cell_type": "markdown",
   "id": "regular-williams",
   "metadata": {
    "slideshow": {
     "slide_type": "slide"
    }
   },
   "source": [
    "#### Numerical example\n",
    "Let us consider ethylene in a minimal basis set. We perform an SCF optimization of the Hartree--Fock reference state with use of the VeloxChem program. The dictonary `scf_tensors` contains information of the SCF calculation and we retrieve the orbital energies."
   ]
  },
  {
   "cell_type": "code",
   "execution_count": 77,
   "id": "entertaining-veteran",
   "metadata": {
    "slideshow": {
     "slide_type": "fragment"
    }
   },
   "outputs": [],
   "source": [
    "from mpi4py import MPI\n",
    "comm = MPI.COMM_WORLD\n",
    "\n",
    "import veloxchem as vlx\n",
    "ostream = vlx.OutputStream('/dev/null') # we will suppress program output\n",
    "\n",
    "import numpy as np"
   ]
  },
  {
   "cell_type": "code",
   "execution_count": 119,
   "id": "senior-husband",
   "metadata": {
    "slideshow": {
     "slide_type": "fragment"
    }
   },
   "outputs": [],
   "source": [
    "mol_str = \"\"\"\n",
    "C        0.67759997    0.00000000    0.00000000\n",
    "C       -0.67759997    0.00000000    0.00000000\n",
    "H        1.21655197    0.92414474    0.00000000\n",
    "H        1.21655197   -0.92414474    0.00000000\n",
    "H       -1.21655197   -0.92414474    0.00000000\n",
    "H       -1.21655197    0.92414474    0.00000000\n",
    "\"\"\"\n",
    "molecule = vlx.Molecule.read_str(mol_str, units='angstrom')\n",
    "basis = vlx.MolecularBasis.read(molecule, \"sto-3g\")\n",
    "\n",
    "scf_drv = vlx.ScfRestrictedDriver(comm, ostream)\n",
    "scf_drv.compute(molecule, basis)\n",
    "\n",
    "orbital_energies = scf_drv.scf_tensors['E']\n",
    "C = scf_drv.scf_tensors['C'] # MO coefficients"
   ]
  },
  {
   "cell_type": "markdown",
   "id": "6a3b84bb",
   "metadata": {},
   "source": [
    "##### E[2] matrix\n",
    "For a closed-shell system, the dimension of the $A$- and $B$-blocks of the $E^{[2]}$-matrix equals the number of occupied (spatial) orbitals times the number of virtual orbitals or, in other words\n",
    "\n",
    "$$\\mathrm{dim}\\left(E^{[2]}\\right) = 2 \\times n_\\mathrm{occ} \\times n_\\mathrm{virt}$$"
   ]
  },
  {
   "cell_type": "code",
   "execution_count": 85,
   "id": "b922eb83",
   "metadata": {},
   "outputs": [
    {
     "name": "stdout",
     "output_type": "stream",
     "text": [
      "Number of occupied orbitals: 8\n",
      "Number of virtual orbitals: 6\n",
      "Dimension of A-block in E2: 48\n"
     ]
    }
   ],
   "source": [
    "nocc = molecule.number_of_alpha_electrons()\n",
    "norb = orbital_energies.shape[0]\n",
    "nvirt = norb - nocc\n",
    "n = nocc * nvirt\n",
    "\n",
    "print('Number of occupied orbitals:', nocc)\n",
    "print('Number of virtual orbitals:', nvirt)\n",
    "print('Dimension of A-block in E2:', n)"
   ]
  },
  {
   "cell_type": "markdown",
   "id": "b2f33de0",
   "metadata": {},
   "source": [
    "We get the $E^{[2]}$-matrix from the `LinearResponseEigenSolver` class object."
   ]
  },
  {
   "cell_type": "code",
   "execution_count": 142,
   "id": "equal-aurora",
   "metadata": {
    "slideshow": {
     "slide_type": "slide"
    }
   },
   "outputs": [
    {
     "name": "stdout",
     "output_type": "stream",
     "text": [
      "Dimension of E[2] matrix: (96, 96)\n",
      "Diagonal element for the (pi,pi*)-excitation:  0.935688 a.u.\n"
     ]
    }
   ],
   "source": [
    "lres_drv = vlx.LinearResponseEigenSolver(comm, ostream)\n",
    "E2 = lres_drv.get_e2(molecule, basis, scf_drv.scf_tensors)\n",
    "\n",
    "# index position for (pi,pi*) excitation\n",
    "idx = (nocc -1) * nvirt\n",
    "\n",
    "print('Dimension of E[2] matrix:', E2.shape)\n",
    "print(f'Diagonal element for the (pi,pi*)-excitation: {E2[idx,idx] : .6f} a.u.')"
   ]
  },
  {
   "cell_type": "markdown",
   "id": "d9415c4d",
   "metadata": {},
   "source": [
    "Alternatively, we can in principle determine the elements of the $E^{[2]}$-matrix from explicit calculations using orbital energies and two-electron integrals in the MO-basis."
   ]
  },
  {
   "cell_type": "code",
   "execution_count": 87,
   "id": "834274e2",
   "metadata": {},
   "outputs": [
    {
     "name": "stdout",
     "output_type": "stream",
     "text": [
      "Diagonal element (explicit calculation):  0.935688 a.u.\n"
     ]
    }
   ],
   "source": [
    "# ERI integrals in physicist's notation\n",
    "moints_drv = vlx.MOIntegralsDriver()\n",
    "isis = moints_drv.compute_in_mem(molecule, basis, scf_drv.mol_orbs, \"OVOV\")\n",
    "iiss = moints_drv.compute_in_mem(molecule, basis, scf_drv.mol_orbs, \"OOVV\")\n",
    "# Determine the specific diagonal matrix element of E[2] explicitly with\n",
    "# account made for use of spin-adapted excitation operators\n",
    "print(f'Diagonal element (explicit calculation): {2*(orbital_energies[8] - orbital_energies[7]- isis[7,0,7,0] + 2 * iiss[7,7,0,0]) : .6f} a.u.')"
   ]
  },
  {
   "cell_type": "markdown",
   "id": "d11b3a97",
   "metadata": {},
   "source": [
    "##### S[2] matrix\n",
    "We construct the trivial $S^{[2]}$-matrix."
   ]
  },
  {
   "cell_type": "code",
   "execution_count": 88,
   "id": "sexual-jesus",
   "metadata": {
    "slideshow": {
     "slide_type": "fragment"
    }
   },
   "outputs": [
    {
     "name": "stdout",
     "output_type": "stream",
     "text": [
      "Dimension of S[2] matrix: (96, 96)\n"
     ]
    }
   ],
   "source": [
    "# factor of 2 due to spin-adaptation\n",
    "S2 = 2 * np.identity(2 * n)\n",
    "S2[n:,n:] *= -1\n",
    "\n",
    "print('Dimension of S[2] matrix:', S2.shape)"
   ]
  },
  {
   "cell_type": "markdown",
   "id": "13c8d5e5",
   "metadata": {},
   "source": [
    "##### V[1] gradient\n",
    "We get the $V^{\\omega,[1]}$-vector from the `LinearResponseSolver` class object. We assume the perturbation operator to equal minus the electric dipole moment operator along the $x$-axis, i.e., the molecular C--C axis."
   ]
  },
  {
   "cell_type": "code",
   "execution_count": 144,
   "id": "alpha-relations",
   "metadata": {
    "scrolled": true,
    "slideshow": {
     "slide_type": "fragment"
    }
   },
   "outputs": [
    {
     "name": "stdout",
     "output_type": "stream",
     "text": [
      "Dimension of V[1] vector: 96\n",
      "Elements for (pi,pi*)-excitation:\n",
      "(upper)   g: -2.632098\n",
      "(lower) -g*:  2.632098\n"
     ]
    }
   ],
   "source": [
    "lrs_drv = vlx.LinearResponseSolver(comm, ostream)\n",
    "\n",
    "mu_x = lrs_drv.get_prop_grad('electric dipole', 'x', molecule, basis, scf_drv.scf_tensors)[0]\n",
    "mu_y = lrs_drv.get_prop_grad('electric dipole', 'y', molecule, basis, scf_drv.scf_tensors)[0]\n",
    "mu_z = lrs_drv.get_prop_grad('electric dipole', 'z', molecule, basis, scf_drv.scf_tensors)[0]\n",
    "\n",
    "V1 = -mu_x\n",
    "\n",
    "print('Dimension of V[1] vector:', V1.shape[0])\n",
    "print('Elements for (pi,pi*)-excitation:')\n",
    "print(f'(upper)   g: {V1[idx] : .6f}')\n",
    "print(f'(lower) -g*: {V1[n + idx] : .6f}')"
   ]
  },
  {
   "cell_type": "markdown",
   "id": "181a1f63",
   "metadata": {},
   "source": [
    "Alternatively, we can in principle determine the elements of the $V^{\\omega,[1]}$-vector from explicit calculations using one-electron integrals of the perturbation operator in the MO-basis. The property integrals are available in AO-basis from the `ElectricDipoleIntegralsDriver` class object and we transfer them to the MO-basis with use of the MO-coefficients."
   ]
  },
  {
   "cell_type": "code",
   "execution_count": 133,
   "id": "0e3c38bf",
   "metadata": {},
   "outputs": [
    {
     "name": "stdout",
     "output_type": "stream",
     "text": [
      "MO integral 2 * < pi | x | pi* >:  2.632098\n"
     ]
    }
   ],
   "source": [
    "dipole_drv = vlx.ElectricDipoleIntegralsDriver()\n",
    "\n",
    "dipole_matrices = dipole_drv.compute(molecule, basis)\n",
    "x_ao = dipole_matrices.x_to_numpy()\n",
    "x_mo = np.matmul(C.T, np.matmul(x_ao, C))\n",
    "\n",
    "# factor of 2 due to spin-adaptation\n",
    "print(f'MO integral 2 * < pi | x | pi* >: {2 * x_mo[7,8] : .6f}')"
   ]
  },
  {
   "cell_type": "markdown",
   "id": "153c2859",
   "metadata": {},
   "source": [
    "### Electric-dipole polarizability\n",
    "The polarizability is determined from the linear response function according to\n",
    "\n",
    "$$\n",
    "\\alpha_{\\alpha\\beta}(\\omega) = -\n",
    "\\langle \\langle \\hat{\\mu}_\\alpha ; \\hat{\\mu}_\\beta \\rangle \\rangle_\\omega\n",
    "$$\n",
    "\n",
    "Here, $\\hat{\\Omega} = \\hat{\\mu}_\\alpha$ and $\\hat{V}^\\omega = - \\hat{\\mu}_\\beta$ are associated with the observable and perturbation, respectively.\n",
    "\n",
    "This linear response function is determined from the RPA matrix\n",
    "\n",
    "$$\n",
    "\\langle\\langle \\hat{\\mu}; \\hat{V}^\\omega \\rangle\\rangle =\n",
    "-{\\mu^{[1]}}^\\dagger\n",
    "\\Big(\n",
    "E^{[2]} - \\omega S^{[2]}\n",
    "\\Big)^{-1}\n",
    "V^{\\omega, [1]}\n",
    "$$\n",
    "\n",
    "In typical applications, the matrix dimension is large and instead of explicitly constructing the Hessian matrix, we solve the linear response equation with iterative techniques\n",
    "\n",
    "$$\n",
    "N(\\omega) =\n",
    "\\Big(\n",
    "E^{[2]} - \\omega S^{[2]}\n",
    "\\Big)^{-1}\n",
    "V^{\\omega,[1]}\n",
    "$$\n",
    "\n",
    "such that\n",
    "\n",
    "$$\n",
    "\\langle\\langle \\hat{\\mu}; \\hat{V}^\\omega \\rangle\\rangle =\n",
    "-{\\mu^{[1]}}^\\dagger N(\\omega)\n",
    "$$\n",
    "\n",
    "A reduced-space iterative algorithm for solving the linear response funciton is available from the `LinearResponseSolver` class object."
   ]
  },
  {
   "cell_type": "code",
   "execution_count": 148,
   "id": "64ab5a74",
   "metadata": {},
   "outputs": [],
   "source": [
    "lrs_drv = vlx.LinearResponseSolver(comm, ostream)\n",
    "lrs_out = lrs_drv.compute(molecule, basis, scf_drv.scf_tensors)"
   ]
  },
  {
   "cell_type": "markdown",
   "id": "e61ce9c4",
   "metadata": {},
   "source": [
    "The return result `lrs_out` is a dictonary with the values of the response functions provided from the key `response_functions`."
   ]
  },
  {
   "cell_type": "code",
   "execution_count": 149,
   "id": "f6fc90dc",
   "metadata": {},
   "outputs": [
    {
     "data": {
      "text/plain": [
       "dict_keys(['response_functions', 'solutions'])"
      ]
     },
     "execution_count": 149,
     "metadata": {},
     "output_type": "execute_result"
    }
   ],
   "source": [
    "lrs_out.keys()"
   ]
  },
  {
   "cell_type": "code",
   "execution_count": 150,
   "id": "b0887d2b",
   "metadata": {},
   "outputs": [
    {
     "name": "stdout",
     "output_type": "stream",
     "text": [
      "alpha_xx(0):  19.356860\n",
      "alpha_yy(0):  10.842377\n",
      "alpha_zz(0):  2.557959\n"
     ]
    }
   ],
   "source": [
    "alpha_xx = -lrs_out['response_functions'][('x', 'x', 0)]\n",
    "alpha_yy = -lrs_out['response_functions'][('y', 'y', 0)] \n",
    "alpha_zz = -lrs_out['response_functions'][('z', 'z', 0)]\n",
    "\n",
    "print(f\"alpha_xx(0): {alpha_xx : .6f}\")\n",
    "print(f\"alpha_yy(0): {alpha_yy : .6f}\")\n",
    "print(f\"alpha_zz(0): {alpha_zz : .6f}\")"
   ]
  },
  {
   "cell_type": "markdown",
   "id": "5cef28e3",
   "metadata": {},
   "source": [
    "The solution vectors (or *response vectors*) are available from the key solutions, so that we can also determine the the linear response function values from the multiplication of response vectors with property gradients."
   ]
  },
  {
   "cell_type": "code",
   "execution_count": 151,
   "id": "2c44f12a",
   "metadata": {},
   "outputs": [
    {
     "name": "stdout",
     "output_type": "stream",
     "text": [
      "alpha_xx(0):  19.356860\n",
      "alpha_yy(0):  10.842377\n",
      "alpha_zz(0):  2.557959\n"
     ]
    }
   ],
   "source": [
    "Nx = lrs_out['solutions'][('x', 0)]\n",
    "Ny = lrs_out['solutions'][('y', 0)]\n",
    "Nz = lrs_out['solutions'][('z', 0)]\n",
    "\n",
    "print(f\"alpha_xx(0): {np.dot(mu_x, Nx) : .6f}\")\n",
    "print(f\"alpha_yy(0): {np.dot(mu_y, Ny) : .6f}\")\n",
    "print(f\"alpha_zz(0): {np.dot(mu_z, Nz) : .6f}\")"
   ]
  },
  {
   "cell_type": "markdown",
   "id": "a2405d34",
   "metadata": {},
   "source": [
    "In this example, the `LinearResponseSolver` was using its default settings for operators and frequencies, both of which can be changed. We change the value of the optical frequency from the default zero to 0.0656 a.u. with use of the dictionary `rsp_settings`."
   ]
  },
  {
   "cell_type": "code",
   "execution_count": 152,
   "id": "ff8f9c93",
   "metadata": {},
   "outputs": [
    {
     "name": "stdout",
     "output_type": "stream",
     "text": [
      "alpha_xx(w=0.0656):  19.757304\n",
      "alpha_yy(w=0.0656):  10.900129\n",
      "alpha_zz(w=0.0656):  2.577366\n"
     ]
    }
   ],
   "source": [
    "lrs_drv = vlx.LinearResponseSolver(comm, ostream)\n",
    "rsp_settings = {'frequencies': [0.0656]}\n",
    "method_settings = {} # Hartree-Fock is default\n",
    "lrs_drv.update_settings(rsp_settings, method_settings)\n",
    "\n",
    "lrs_out = lrs_drv.compute(molecule, basis, scf_drv.scf_tensors)\n",
    "\n",
    "alpha_xx = -lrs_out['response_functions'][('x', 'x', 0.0656)]\n",
    "alpha_yy = -lrs_out['response_functions'][('y', 'y', 0.0656)] \n",
    "alpha_zz = -lrs_out['response_functions'][('z', 'z', 0.0656)]\n",
    "\n",
    "print(f\"alpha_xx(w=0.0656): {alpha_xx : .6f}\")\n",
    "print(f\"alpha_yy(w=0.0656): {alpha_yy : .6f}\")\n",
    "print(f\"alpha_zz(w=0.0656): {alpha_zz : .6f}\")"
   ]
  },
  {
   "cell_type": "markdown",
   "id": "b5626976",
   "metadata": {},
   "source": [
    "Alternatively, in our small example the matrices in the RPA equation ($E^{[2]}$ and $S^{[2]}$) have been formed explicitly and we can thus determine values of linear response functions by straightforward matrix inverse and multiplication."
   ]
  },
  {
   "cell_type": "code",
   "execution_count": 156,
   "id": "1fc74c23",
   "metadata": {},
   "outputs": [
    {
     "name": "stdout",
     "output_type": "stream",
     "text": [
      "alpha_xx(w=0.0656):  19.757304\n",
      "alpha_yy(w=0.0656):  10.900129\n",
      "alpha_zz(w=0.0656):  2.577366\n"
     ]
    }
   ],
   "source": [
    "omega = 0.0656\n",
    "alpha_xx = np.dot(mu_x, np.matmul(np.linalg.inv(E2 - omega * S2), mu_x))\n",
    "alpha_yy = np.dot(mu_y, np.matmul(np.linalg.inv(E2 - omega * S2), mu_y))\n",
    "alpha_zz = np.dot(mu_z, np.matmul(np.linalg.inv(E2 - omega * S2), mu_z))\n",
    "\n",
    "print(f\"alpha_xx(w=0.0656): {alpha_xx : .6f}\")\n",
    "print(f\"alpha_yy(w=0.0656): {alpha_yy : .6f}\")\n",
    "print(f\"alpha_zz(w=0.0656): {alpha_zz : .6f}\")"
   ]
  },
  {
   "cell_type": "markdown",
   "id": "supreme-symposium",
   "metadata": {
    "slideshow": {
     "slide_type": "slide"
    }
   },
   "source": [
    "### Transition energies\n",
    "We denote by $X_e$ the eigenvectors of the generalized eigenvalue equation\n",
    "\n",
    "\\begin{equation}\n",
    "  E^{[2]} X_e = \\lambda_e S^{[2]} X_e, \\quad e = -n,\\ldots,-1,1,\\ldots,n ,\n",
    "\\end{equation}\n",
    " \n",
    "where the matrix dimension is $2n$. We find the set of eigenvalues and eigenvectors by diagonalizing the non-Hermitian matrix $\\left(S^{[2]}\\right)^{-1} E^{[2]}$ according to\n",
    "\n",
    "\\begin{equation}\n",
    "\\label{gen-eig}\n",
    "  X^{-1} \\left[ \\left(S^{[2]}\\right)^{-1} E^{[2]} \\right] X = \n",
    "  \\begin{bmatrix}\n",
    "    \\rule[-5pt]{0pt}{15pt}\n",
    "    \\rule{9pt}{0pt}\n",
    "    \\lambda & \\rule{3pt}{0pt} 0 \\rule{3pt}{0pt} \\\\\n",
    "    \\rule{3pt}{0pt}\n",
    "    0 & -\\lambda \\rule{3pt}{0pt} \\\\\n",
    "  \\end{bmatrix} ,\n",
    "\\end{equation}\n",
    "\n",
    "where $\\lambda$ is a diagonal matrix of dimension $n$ collecting the eigenvalues with positive index and the columns of $X$ store the eigenvectors ($X$ is assumed to be nonsingular). This pairing of eigenvalues has its correspondence in the eigenvectors through\n",
    "\n",
    "\\begin{equation*}\n",
    "  X_e =\n",
    "  \\begin{pmatrix}\n",
    "    \\rule[-5pt]{0pt}{15pt}\n",
    "    Z_e \\\\\n",
    "    \\rule[-5pt]{0pt}{0pt}\n",
    "    Y_e^* \\\\\n",
    "  \\end{pmatrix}\n",
    "\\; \\mbox{with eigenvalue}\\; \\lambda_e\n",
    "; \\qquad\n",
    "  X_{-e} =\n",
    "  \\begin{pmatrix}\n",
    "    \\rule[-5pt]{0pt}{15pt}\n",
    "    Y_{e} \\\\\n",
    "    \\rule[-5pt]{0pt}{0pt}\n",
    "    Z_{e}^* \\\\\n",
    "  \\end{pmatrix} \n",
    "\\; \\mbox{with eigenvalue}\\; -\\!\\lambda_e .\n",
    "\\end{equation*}"
   ]
  },
  {
   "cell_type": "markdown",
   "id": "physical-feature",
   "metadata": {
    "slideshow": {
     "slide_type": "subslide"
    }
   },
   "source": [
    "The matrix $X$ will therefore have the structure\n",
    "\n",
    "\\begin{equation}\n",
    "\\label{X-struct}\n",
    "  X = \n",
    "  \\begin{bmatrix}\n",
    "    \\rule[-5pt]{0pt}{15pt}\n",
    "    \\rule{3pt}{0pt}\n",
    "    Z & \\rule{3pt}{0pt} Y \\rule{3pt}{0pt} \\\\\n",
    "    \\rule{8pt}{0pt}\n",
    "    Y^* & \\rule{3pt}{0pt} Z^* \\rule{3pt}{0pt} \\\\\n",
    "  \\end{bmatrix} .\n",
    "\\end{equation}\n",
    "\n",
    "With an appropriate scaling of the eigenvectors $X_e$, the non-unitary matrix $X$ achieves a simultaneous diagonalization of the two non-commuting matrices $E^{[2]}$ and $S^{[2]}$ as\n",
    "\n",
    "\\begin{equation}\n",
    "\\label{sim-diag}\n",
    "  X^\\dagger E^{[2]} X = \n",
    "  \\begin{bmatrix}\n",
    "    \\rule[-5pt]{0pt}{15pt}\n",
    "    \\rule{9pt}{0pt}\n",
    "    \\lambda & \\rule{3pt}{0pt} 0 \\rule{3pt}{0pt} \\\\\n",
    "    \\rule{3pt}{0pt}\n",
    "    0 & \\lambda \\rule{3pt}{0pt} \\\\\n",
    "  \\end{bmatrix} ; \\qquad\n",
    "  X^\\dagger S^{[2]} X =\n",
    "  \\begin{bmatrix}\n",
    "    \\rule[-5pt]{0pt}{15pt}\n",
    "    \\rule{8pt}{0pt}\n",
    "    I & \\rule{5pt}{0pt} 0 \\rule{3pt}{0pt} \\\\\n",
    "    \\rule{5pt}{0pt}\n",
    "    0 & -I \\rule{3pt}{0pt} \\\\\n",
    "  \\end{bmatrix} .\n",
    "\\end{equation}\n",
    "\n",
    "For each pair of eigenvectors, the second equation involving the metric of the generalized eigenvalue equation defines which of the two that should be indexed with a positive index. We also emphasize that $X^\\dagger \\neq X^{-1}$ and for this reason the $X_e$'s are eigenvectors neither of $E^{[2]}$ nor of $S^{[2]}$, just as the $\\lambda_e$'s are not the eigenvalues of $E^{[2]}$."
   ]
  },
  {
   "cell_type": "code",
   "execution_count": 9,
   "id": "prescribed-dominant",
   "metadata": {
    "slideshow": {
     "slide_type": "subslide"
    }
   },
   "outputs": [
    {
     "name": "stdout",
     "output_type": "stream",
     "text": [
      "[ 10.7286  10.7291 -10.7286 -10.7291  11.5355  11.5355  11.0765 -11.5355 -11.5355 -11.478   11.2445  11.0949  11.0784  11.478\n",
      " -11.2445 -11.0784 -11.2449 -11.478  -11.0765 -11.0949  11.0965  11.2449  11.478  -11.0965  -1.5626   1.5626  -1.5137   1.5137\n",
      "   0.3958  -0.3958  -1.4065  -1.3792   1.4065   1.3792   1.3791  -1.3791   0.3685  -0.3685  -0.6943   1.2962   0.4191   0.6943\n",
      "   1.3142  -1.3142  -1.2962  -0.4191  -0.5365   0.5365   1.2609  -1.2609   0.598   -0.598   -0.7917  -0.6656   0.6656   0.7917\n",
      "   1.1817  -0.9081   0.9081  -0.7555  -1.1817   1.1624  -1.166   -1.1624   1.166    0.7555  -1.1062  -1.1474  -1.1382   1.1062\n",
      "   1.1474   1.1382  -1.0773   1.0773  -1.0282   1.0282  -1.0198   1.0198   1.0059   1.0023  -1.0059   0.8365   0.8396  -0.8245\n",
      "  -0.8365  -1.0023   0.8245  -0.8396  -0.8772  -0.8717   0.8717   0.8871   0.8772   0.8731  -0.8871  -0.8731]\n",
      "Eigenvector position: 1\n",
      "sigma_u - pi* transition energy:  10.7291 a.u. (or  292.0 eV)\n",
      "Xf norm under metric S[2] =  1.0000\n"
     ]
    }
   ],
   "source": [
    "eigs, X = np.linalg.eig(np.matmul(np.linalg.inv(S2), E2))\n",
    "print(eigs)\n",
    "\n",
    "# the second smallest positive eigenvalue is the sigma-pi* transition\n",
    "eigs[np.argmin(np.where(eigs>10, eigs, 999))] = 999\n",
    "pos = np.argmin(np.where(eigs>10, eigs, 999))\n",
    "\n",
    "Xf = X[:,pos]\n",
    "Xf =  Xf / np.sqrt(np.matmul(Xf.T,np.matmul(S2,Xf)))\n",
    "\n",
    "print('Eigenvector position:', pos)\n",
    "print(f'sigma_u - pi* transition energy: {eigs[pos] : .4f} a.u. (or {eigs[pos] * au_to_ev : .1f} eV)')\n",
    "print(f'Xf norm under metric S[2] = {np.matmul(Xf.T,np.matmul(S2,Xf)) : .4f}')"
   ]
  },
  {
   "cell_type": "markdown",
   "id": "integral-biotechnology",
   "metadata": {
    "slideshow": {
     "slide_type": "slide"
    }
   },
   "source": [
    "### Transition moments\n",
    "Since $(\\Omega \\Lambda)^{-1} = \\Lambda^{-1} \\Omega^{-1}$, we can form the inverse of the RPA matrix as\n",
    "\n",
    "\\begin{equation}\n",
    "  \\left( E^{[2]} - \\omega S^{[2]} \\right)^{-1} =\n",
    "  X \\left[ X^\\dagger \\left( E^{[2]} - \\omega S^{[2]} \\right) X \\right]^{-1} X^\\dagger\n",
    "\\end{equation}\n",
    "\n",
    "which yields an expression for the linear response function that reads\n",
    "\n",
    "\\begin{eqnarray}\n",
    "\\label{lrf-resolved}\n",
    "  \\langle\n",
    "  \\langle\n",
    "  \\hat{\\Omega}; \\hat{V}\n",
    "  \\rangle\n",
    "  \\rangle & = &\n",
    "  -\n",
    "  \\left[\\Omega^{[1]}\\right]^\\dagger \n",
    "  \\sum_{e=1}^n\n",
    "  \\left(\n",
    "  \\frac{\n",
    "    X_e\n",
    "    X^\\dagger_e\n",
    "    }{\n",
    "    \\lambda_e - \\hbar \\omega\n",
    "    }\n",
    "  +\n",
    "  \\frac{\n",
    "    X_e\n",
    "    X^\\dagger_e \n",
    "    }{\n",
    "    \\lambda_e + \\hbar \\omega\n",
    "    }\n",
    "  \\right) V^{[1]} \n",
    "\\end{eqnarray}\n",
    "\n",
    "This equation suggests that we identify the $\\lambda$-eigenvalues as excitation energies of the system and transition moments in the SCF approximation are identified as\n",
    "\n",
    "\\begin{equation}\n",
    "\\label{tranmom}\n",
    "    \\langle f | \\hat{V} | 0 \\rangle =\n",
    "    X^\\dagger_f V^{[1]}\n",
    "\\end{equation}"
   ]
  },
  {
   "cell_type": "code",
   "execution_count": 10,
   "id": "middle-cowboy",
   "metadata": {
    "slideshow": {
     "slide_type": "fragment"
    }
   },
   "outputs": [
    {
     "name": "stdout",
     "output_type": "stream",
     "text": [
      "Transition moment (a.u.):  0.141356\n"
     ]
    }
   ],
   "source": [
    "tmom = np.dot(Xf, V1)\n",
    "print(f'Transition moment (a.u.): {tmom : .6f}')"
   ]
  },
  {
   "cell_type": "markdown",
   "id": "fabulous-youth",
   "metadata": {
    "slideshow": {
     "slide_type": "slide"
    }
   },
   "source": [
    "### Core–valence separation (CVS) approximation\n",
    "\n",
    "Due to the large energy separation of core and valence electronic states there will be negigiible contribution from the valence-excitaiton channels. "
   ]
  },
  {
   "cell_type": "code",
   "execution_count": 11,
   "id": "dietary-english",
   "metadata": {
    "slideshow": {
     "slide_type": "subslide"
    }
   },
   "outputs": [
    {
     "name": "stdout",
     "output_type": "stream",
     "text": [
      "[ 10.7286  10.7291  11.0764  11.0783  11.0948  11.0964  11.2444  11.2448  11.5355  11.5354  11.478   11.478  -10.7286 -10.7291\n",
      " -11.0764 -11.0783 -11.0948 -11.0964 -11.2444 -11.2448 -11.5355 -11.5354 -11.478  -11.478 ]\n",
      "Eigenvector position: 1\n",
      "sigma_u - pi* transition energy in CVS:  10.7291 a.u. (or  292.0 eV)\n",
      "Xf norm under metric S[2] =  1.0000\n",
      "Transition moment in CVS (a.u.): -0.139695\n"
     ]
    }
   ],
   "source": [
    "n = nocc * nvirt\n",
    "c = ncore * nvirt\n",
    "\n",
    "E2_CVS = np.zeros((2 * c, 2 * c))\n",
    "\n",
    "E2_CVS[0:c, 0:c] = E2[0:c, 0:c]\n",
    "E2_CVS[0:c, c:2*c] = E2[0:c, n:n+c]\n",
    "E2_CVS[c:2*c, 0:c] = E2[n:n+c, 0:c]\n",
    "E2_CVS[c:2*c, c:2*c] = E2[n:n+c, n:n+c]\n",
    "\n",
    "S2_CVS = 2 * np.identity(2*c)\n",
    "S2_CVS[c:2*c,c:2*c] *= -1\n",
    "\n",
    "V1_CVS = np.zeros(2*c)\n",
    "V1_CVS[0:c] = V1[0:c]\n",
    "V1_CVS[c:2*c] = V1[n:n+c]\n",
    "\n",
    "eigs_CVS, X_CVS = np.linalg.eig(np.matmul(np.linalg.inv(S2_CVS), E2_CVS))\n",
    "print(eigs_CVS)\n",
    "\n",
    "# the second smallest positive eigenvalue is the sigma-pi* transition\n",
    "eigs_CVS[np.argmin(np.where(eigs_CVS>10, eigs_CVS, 999))] = 999\n",
    "pos = np.argmin(np.where(eigs_CVS>10, eigs_CVS, 999))\n",
    "\n",
    "print('Eigenvector position:', pos)\n",
    "print(f'sigma_u - pi* transition energy in CVS: {eigs_CVS[pos] : .4f} a.u. (or {eigs_CVS[pos] * au_to_ev : .1f} eV)')\n",
    "Xf_CVS = X_CVS[:,pos]\n",
    "Xf_CVS =  Xf_CVS / np.sqrt(np.matmul(Xf_CVS.T, np.matmul(S2_CVS, Xf_CVS)))\n",
    "\n",
    "print(f'Xf norm under metric S[2] = {np.matmul(Xf_CVS.T, np.matmul(S2_CVS, Xf_CVS)) : .4f}')\n",
    "\n",
    "tmom_CVS = np.dot(Xf_CVS, V1_CVS)\n",
    "print(f'Transition moment in CVS (a.u.): {tmom_CVS : .6f}')"
   ]
  },
  {
   "cell_type": "markdown",
   "id": "mediterranean-trinidad",
   "metadata": {
    "slideshow": {
     "slide_type": "slide"
    }
   },
   "source": [
    "### Tamm-Dancoff approximation (TDA)\n",
    "\n",
    "The TDA corresponds to setting $B=0$ in the electronic Hessian and diagonalize matrix block $A$:\n",
    "\n",
    "\\begin{eqnarray}\n",
    "E^{[2]} & = &\n",
    "\t\\begin{pmatrix}\n",
    "    \\rule[-5pt]{0pt}{20pt}\n",
    "\t\\rule{5pt}{0pt}\n",
    "\tA & B \\rule{5pt}{0pt}\n",
    "\t\\\\\n",
    "    \\rule[-10pt]{0pt}{25pt}\n",
    "    \\rule{5pt}{0pt}    \n",
    "\tB^* & A^* \\\\\n",
    "\t\\end{pmatrix}\n",
    "\\end{eqnarray}"
   ]
  },
  {
   "cell_type": "code",
   "execution_count": 12,
   "id": "difficult-trouble",
   "metadata": {
    "slideshow": {
     "slide_type": "fragment"
    }
   },
   "outputs": [
    {
     "name": "stdout",
     "output_type": "stream",
     "text": [
      "[10.7286 10.7291 11.0764 11.0783 11.0948 11.0965 11.2445 11.2449 11.478  11.478  11.5354 11.5355]\n",
      "sigma_u - pi* transition energy with CVS and TDA (eV):  291.9529\n",
      "Transition moment with CVS and TDA (a.u.):  0.139783\n"
     ]
    }
   ],
   "source": [
    "# divide by factors of 2 and sqrt(2) to account for normalization of spin-adapted excitation operators\n",
    "E2_CVS_TDA = E2_CVS[0:c, 0:c] / 2\n",
    "V1_CVS_TDA = V1_CVS[0:c] / np.sqrt(2)\n",
    "\n",
    "eigs_CVS_TDA, X_CVS_TDA = np.linalg.eigh(E2_CVS_TDA)\n",
    "print(eigs_CVS_TDA)\n",
    "\n",
    "pos=1\n",
    "print(f'sigma_u - pi* transition energy with CVS and TDA (eV): {eigs_CVS_TDA[pos] * au_to_ev : .4f}')\n",
    "Xf_CVS_TDA = X_CVS_TDA[:,pos]\n",
    "\n",
    "tmom_CVS_TDA = np.dot(Xf_CVS_TDA, V1_CVS_TDA)\n",
    "print(f'Transition moment with CVS and TDA (a.u.): {tmom_CVS_TDA : .6f}')"
   ]
  },
  {
   "cell_type": "markdown",
   "id": "alive-transcription",
   "metadata": {
    "slideshow": {
     "slide_type": "slide"
    }
   },
   "source": [
    "### Natural transition orbitals (NTOs)\n",
    "\n",
    "Collecting occupied and unoccupied (real) MOs as vectors\n",
    "\n",
    "$$\n",
    "\\bar{\\phi}_\\mathrm{occ} = (\\ldots, \\phi_i(\\mathbf{r}),  \\ldots)^T; \\quad\n",
    "\\bar{\\phi}_\\mathrm{unocc} = (\\ldots, \\phi_s(\\mathbf{r}),  \\ldots)^T\n",
    "$$\n",
    "\n",
    "and scattering the (real) RPA eigenvector into a rectangular transition matrix $T$ of dimension $n_\\mathrm{occ} \\times n_\\mathrm{unocc}$\n",
    "\n",
    "$$\n",
    "T_{f, is} = Z_{f, is} - Y_{f, is}\n",
    "$$\n",
    "\n",
    "we can write the transition moment as\n",
    "\n",
    "\\begin{equation}\n",
    "    \\langle f | \\hat{V} | 0 \\rangle =\n",
    "    X^T_f V^{[1]} = \n",
    "    \\big(\n",
    "    Z_f^T, Y_f^T\n",
    "    \\big)\n",
    "    \\begin{pmatrix}\n",
    "    g\\\\-g\n",
    "    \\end{pmatrix}\n",
    "    =\n",
    "    \\big(\n",
    "    Z_f - Y_f\n",
    "    \\big)^T\n",
    "    g\n",
    "    =\n",
    "    \\int\n",
    "    \\hat{\\mu}_\\alpha\n",
    "    \\bar{\\phi}_\\mathrm{occ}^T\n",
    "    T\n",
    "    \\bar{\\phi}_\\mathrm{unocc} \\;\n",
    "    d^3\\mathbf{r}\n",
    "\\end{equation}\n",
    "\n",
    "By means of a singular value decomposition (SVD), we can factorize the transition matrix\n",
    "\n",
    "$$\n",
    "T = U \\Lambda V^T\n",
    "$$\n",
    "\n",
    "where matrices $U$ and $V$ are unitary and $\\Lambda$ is rectangular diagonal."
   ]
  },
  {
   "cell_type": "markdown",
   "id": "conceptual-truck",
   "metadata": {
    "slideshow": {
     "slide_type": "subslide"
    }
   },
   "source": [
    "The SVD transformation matrices define the pairs of hole and electron NTOs\n",
    "\n",
    "$$\n",
    "\\bar{\\phi}_\\mathrm{h}^T = \\bar{\\phi}_\\mathrm{occ}^T U; \\quad\n",
    "\\bar{\\phi}_\\mathrm{e} = V^T \\bar{\\phi}_\\mathrm{unocc}\n",
    "$$\n",
    "\n",
    "such that\n",
    "\n",
    "\\begin{equation}\n",
    "    \\langle f | \\hat{\\mu}_\\alpha | 0 \\rangle =\n",
    "    \\int\n",
    "    \\hat{\\mu}_\\alpha\n",
    "    \\bar{\\phi}_\\mathrm{h}^T\n",
    "    \\Lambda\n",
    "    \\bar{\\phi}_\\mathrm{e} \\;\n",
    "    d^3\\mathbf{r}\n",
    "\\end{equation}\n",
    "\n",
    "In our CVS example, we get \n",
    "\n",
    "$$\n",
    "\\bar{\\phi}_\\mathrm{occ}^T = (\\sigma_g, \\sigma_u) ; \\quad\n",
    "\\Lambda =\n",
    "\\begin{bmatrix}\n",
    " \\lambda_1 & 0 & 0 & 0 & 0 & 0 \\\\\n",
    " 0 & \\lambda_2 & 0 & 0 & 0 & 0 \\\\\n",
    "\\end{bmatrix}; \\quad\n",
    "\\bar{\\phi}_\\mathrm{unocc}^T = (\\pi^*, 2b_{2u}, 4a_{g}, 3b_{3u}, 4b_{3u}, 2b_{1g})\n",
    "$$\n",
    "\n",
    "and the associated contributing electron orbital becomes\n",
    "\n",
    "$$\n",
    "\\phi_\\mathrm{e} = \\sum_s T_{f,is} \\phi_s; \\quad i=2\n",
    "$$"
   ]
  },
  {
   "cell_type": "code",
   "execution_count": 13,
   "id": "standing-afghanistan",
   "metadata": {
    "slideshow": {
     "slide_type": "subslide"
    }
   },
   "outputs": [
    {
     "name": "stdout",
     "output_type": "stream",
     "text": [
      "Unitary matrix for occupied MOs:\n",
      " [[ 0. -1.]\n",
      " [ 1.  0.]]\n",
      "Lambda diagonal elements:\n",
      " [0.7067 0.    ]\n",
      "Unitary matrix for unoccupied MOs:\n",
      " [[-1.     -0.      0.     -0.      0.     -0.    ]\n",
      " [-0.      0.0124 -0.9686  0.1776 -0.1157  0.1292]\n",
      " [-0.      0.9686  0.0732  0.1699 -0.1107  0.1236]\n",
      " [-0.     -0.1776  0.1699  0.9688  0.0203 -0.0227]\n",
      " [ 0.      0.1157 -0.1107  0.0203  0.9868  0.0148]\n",
      " [-0.     -0.1292  0.1236 -0.0227  0.0148  0.9835]]\n"
     ]
    }
   ],
   "source": [
    "Zf = Xf_CVS[:ncore*nvirt]\n",
    "Yf = Xf_CVS[ncore*nvirt:]\n",
    "T = np.reshape(Zf - Yf, (ncore,nvirt))\n",
    "U, L, VT = np.linalg.svd(T)\n",
    "\n",
    "print('Unitary matrix for occupied MOs:\\n', U)\n",
    "print('Lambda diagonal elements:\\n', L)\n",
    "print('Unitary matrix for unoccupied MOs:\\n', VT)"
   ]
  },
  {
   "cell_type": "code",
   "execution_count": null,
   "id": "formal-testing",
   "metadata": {
    "slideshow": {
     "slide_type": "skip"
    }
   },
   "outputs": [],
   "source": []
  }
 ],
 "metadata": {
  "celltoolbar": "Slideshow",
  "kernelspec": {
   "display_name": "Python 3",
   "language": "python",
   "name": "python3"
  },
  "language_info": {
   "codemirror_mode": {
    "name": "ipython",
    "version": 3
   },
   "file_extension": ".py",
   "mimetype": "text/x-python",
   "name": "python",
   "nbconvert_exporter": "python",
   "pygments_lexer": "ipython3",
   "version": "3.9.5"
  }
 },
 "nbformat": 4,
 "nbformat_minor": 5
}
