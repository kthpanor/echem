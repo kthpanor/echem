{
 "cells": [
  {
   "cell_type": "markdown",
   "id": "right-reaction",
   "metadata": {
    "slideshow": {
     "slide_type": "slide"
    }
   },
   "source": [
    "# X-ray absorption spectroscopy with TDDFT\n",
    "## Full excitation space\n",
    "## Core-valence separation (CVS) \n",
    "## Tamm–Dancoff approximation (TDA)"
   ]
  },
  {
   "cell_type": "markdown",
   "id": "regular-williams",
   "metadata": {
    "slideshow": {
     "slide_type": "slide"
    }
   },
   "source": [
    "### VeloxChem in Juputer notebook"
   ]
  },
  {
   "cell_type": "code",
   "execution_count": 2,
   "id": "entertaining-veteran",
   "metadata": {
    "slideshow": {
     "slide_type": "fragment"
    }
   },
   "outputs": [
    {
     "name": "stdout",
     "output_type": "stream",
     "text": [
      "* Warning * Environment variable OMP_NUM_THREADS not set.\n",
      "* Warning * Setting OMP_NUM_THREADS to 8.\n"
     ]
    }
   ],
   "source": [
    "import veloxchem as vlx\n",
    "import numpy as np\n",
    "\n",
    "np.set_printoptions(precision=4, suppress=True, linewidth=132) # printout format of NumPy arrays\n",
    "\n",
    "au_to_ang = 0.529177 # length conversion factor\n",
    "au_to_ev = 27.2114 # energy conversion factor"
   ]
  },
  {
   "cell_type": "markdown",
   "id": "civilian-guinea",
   "metadata": {
    "slideshow": {
     "slide_type": "fragment"
    }
   },
   "source": [
    "### System specification"
   ]
  },
  {
   "cell_type": "code",
   "execution_count": 3,
   "id": "senior-husband",
   "metadata": {
    "slideshow": {
     "slide_type": "fragment"
    }
   },
   "outputs": [],
   "source": [
    "mol_str = \"\"\"\n",
    "C        0.67759997    0.00000000    0.00000000\n",
    "C       -0.67759997    0.00000000    0.00000000\n",
    "H        1.21655197    0.92414474    0.00000000\n",
    "H        1.21655197   -0.92414474    0.00000000\n",
    "H       -1.21655197   -0.92414474    0.00000000\n",
    "H       -1.21655197    0.92414474    0.00000000\n",
    "\"\"\"\n",
    "molecule = vlx.Molecule.read_str(mol_str, units='angstrom')\n",
    "basis = vlx.MolecularBasis.read(molecule, \"sto-3g\")"
   ]
  },
  {
   "cell_type": "markdown",
   "id": "silver-childhood",
   "metadata": {
    "slideshow": {
     "slide_type": "skip"
    }
   },
   "source": [
    "### Ordering of atomic orbitals\n",
    "\n",
    "$\\chi_{1s}^{H1}$, $\\chi_{1s}^{H2}$, $\\chi_{1s}^{H3}$, $\\chi_{1s}^{H4}$\n",
    "$\\chi_{1s}^{C1}$, $\\chi_{2s}^{C1}$, $\\chi_{1s}^{C2}$, $\\chi_{2s}^{C2}$\n",
    "$\\chi_{2py}^{C1}$, $\\chi_{2py}^{C2}$, $\\chi_{2pz}^{C1}$, $\\chi_{2pz}^{C2}$, $\\chi_{2px}^{C1}$, $\\chi_{2px}^{C2}$"
   ]
  },
  {
   "cell_type": "markdown",
   "id": "joint-lease",
   "metadata": {
    "slideshow": {
     "slide_type": "slide"
    }
   },
   "source": [
    "### SCF optimization"
   ]
  },
  {
   "cell_type": "code",
   "execution_count": 4,
   "id": "streaming-accident",
   "metadata": {
    "slideshow": {
     "slide_type": "fragment"
    }
   },
   "outputs": [
    {
     "name": "stdout",
     "output_type": "stream",
     "text": [
      "                                                                                                                          \n",
      "                                            Self Consistent Field Driver Setup                                            \n",
      "                                           ====================================                                           \n",
      "                                                                                                                          \n",
      "                   Wave Function Model             : Spin-Restricted Hartree-Fock                                         \n",
      "                   Initial Guess Model             : Superposition of Atomic Densities                                    \n",
      "                   Convergence Accelerator         : Two Level Direct Inversion of Iterative Subspace                     \n",
      "                   Max. Number of Iterations       : 50                                                                   \n",
      "                   Max. Number of Error Vectors    : 10                                                                   \n",
      "                   Convergence Threshold           : 1.0e-06                                                              \n",
      "                   ERI Screening Scheme            : Cauchy Schwarz + Density                                             \n",
      "                   ERI Screening Mode              : Dynamic                                                              \n",
      "                   ERI Screening Threshold         : 1.0e-12                                                              \n",
      "                   Linear Dependence Threshold     : 1.0e-06                                                              \n",
      "                                                                                                                          \n",
      "* Info * Nuclear repulsion energy: 33.3086336071 au                                                                       \n",
      "                                                                                                                          \n",
      "* Info * Overlap matrix computed in 0.00 sec.                                                                             \n",
      "                                                                                                                          \n",
      "* Info * Kinetic energy matrix computed in 0.00 sec.                                                                      \n",
      "                                                                                                                          \n",
      "* Info * Nuclear potential matrix computed in 0.00 sec.                                                                   \n",
      "                                                                                                                          \n",
      "* Info * Orthogonalization matrix computed in 0.00 sec.                                                                   \n",
      "                                                                                                                          \n",
      "* Info * SAD initial guess computed in 0.00 sec.                                                                          \n",
      "                                                                                                                          \n",
      "* Info * Starting Reduced Basis SCF calculation...                                                                        \n",
      "* Info * ...done. SCF energy in reduced basis set: -77.069246351663 au. Time: 0.05 sec.                                   \n",
      "                                                                                                                          \n",
      "* Info * Overlap matrix computed in 0.00 sec.                                                                             \n",
      "                                                                                                                          \n",
      "* Info * Kinetic energy matrix computed in 0.00 sec.                                                                      \n",
      "                                                                                                                          \n",
      "* Info * Nuclear potential matrix computed in 0.00 sec.                                                                   \n",
      "                                                                                                                          \n",
      "* Info * Orthogonalization matrix computed in 0.00 sec.                                                                   \n",
      "                                                                                                                          \n",
      "                                                                                                                          \n",
      "               Iter. | Hartree-Fock Energy | Energy Change | Gradient Norm | Max. Gradient | Density Change               \n",
      "               --------------------------------------------------------------------------------------------               \n",
      "                  1       -77.069246358896    0.0000000000      0.00003966      0.00000963      0.00000000                \n",
      "                  2       -77.069246359247   -0.0000000004      0.00000279      0.00000073      0.00003065                \n",
      "                  3       -77.069246359249   -0.0000000000      0.00000012      0.00000003      0.00000184                \n",
      "                                                                                                                          \n",
      "               *** SCF converged in 3 iterations. Time: 0.04 sec.                                                         \n",
      "                                                                                                                          \n",
      "               Spin-Restricted Hartree-Fock:                                                                              \n",
      "               -----------------------------                                                                              \n",
      "               Total Energy                       :      -77.0692463592 au                                                \n",
      "               Electronic Energy                  :     -110.3778799663 au                                                \n",
      "               Nuclear Repulsion Energy           :       33.3086336071 au                                                \n",
      "               ------------------------------------                                                                       \n",
      "               Gradient Norm                      :        0.0000001189 au                                                \n",
      "                                                                                                                          \n",
      "               Ground State Information                                                                                   \n",
      "               ------------------------                                                                                   \n",
      "               Charge of Molecule            :  0.0                                                                       \n",
      "               Multiplicity (2S+1)           :  1.0                                                                       \n",
      "               Magnetic Quantum Number (M_S) :  0.0                                                                       \n",
      "                                                                                                                          \n",
      "                                                                                                                          \n",
      "                                                 Spin Restricted Orbitals                                                 \n",
      "                                                 ------------------------                                                 \n",
      "                                                                                                                          \n",
      "               Molecular Orbital No.   4:                                                                                 \n",
      "               --------------------------                                                                                 \n",
      "               Occupation: 2.0 Energy:   -0.74975 au                                                                      \n",
      "               (   1 C   2s  :    -0.42) (   1 C   1p+1:    -0.20) (   2 C   2s  :     0.42)                              \n",
      "               (   2 C   1p+1:    -0.20) (   3 H   1s  :    -0.22) (   4 H   1s  :    -0.22)                              \n",
      "               (   5 H   1s  :     0.22) (   6 H   1s  :     0.22)                                                        \n",
      "                                                                                                                          \n",
      "               Molecular Orbital No.   5:                                                                                 \n",
      "               --------------------------                                                                                 \n",
      "               Occupation: 2.0 Energy:   -0.60874 au                                                                      \n",
      "               (   1 C   1p-1:    -0.39) (   2 C   1p-1:    -0.39) (   3 H   1s  :    -0.26)                              \n",
      "               (   4 H   1s  :     0.26) (   5 H   1s  :     0.26) (   6 H   1s  :    -0.26)                              \n",
      "                                                                                                                          \n",
      "               Molecular Orbital No.   6:                                                                                 \n",
      "               --------------------------                                                                                 \n",
      "               Occupation: 2.0 Energy:   -0.52384 au                                                                      \n",
      "               (   1 C   1p+1:     0.51) (   2 C   1p+1:    -0.51) (   3 H   1s  :     0.21)                              \n",
      "               (   4 H   1s  :     0.21) (   5 H   1s  :     0.21) (   6 H   1s  :     0.21)                              \n",
      "                                                                                                                          \n",
      "               Molecular Orbital No.   7:                                                                                 \n",
      "               --------------------------                                                                                 \n",
      "               Occupation: 2.0 Energy:   -0.47291 au                                                                      \n",
      "               (   1 C   1p-1:     0.39) (   2 C   1p-1:    -0.39) (   3 H   1s  :     0.34)                              \n",
      "               (   4 H   1s  :    -0.34) (   5 H   1s  :     0.34) (   6 H   1s  :    -0.34)                              \n",
      "                                                                                                                          \n",
      "               Molecular Orbital No.   8:                                                                                 \n",
      "               --------------------------                                                                                 \n",
      "               Occupation: 2.0 Energy:   -0.31834 au                                                                      \n",
      "               (   1 C   1p0 :     0.64) (   2 C   1p0 :     0.64)                                                        \n",
      "                                                                                                                          \n",
      "               Molecular Orbital No.   9:                                                                                 \n",
      "               --------------------------                                                                                 \n",
      "               Occupation: 0.0 Energy:    0.31057 au                                                                      \n",
      "               (   1 C   1p0 :     0.81) (   2 C   1p0 :    -0.81)                                                        \n",
      "                                                                                                                          \n",
      "               Molecular Orbital No.  10:                                                                                 \n",
      "               --------------------------                                                                                 \n",
      "               Occupation: 0.0 Energy:    0.65780 au                                                                      \n",
      "               (   1 C   1p-1:    -0.73) (   2 C   1p-1:    -0.73) (   3 H   1s  :     0.64)                              \n",
      "               (   4 H   1s  :    -0.64) (   5 H   1s  :    -0.64) (   6 H   1s  :     0.64)                              \n",
      "                                                                                                                          \n",
      "               Molecular Orbital No.  11:                                                                                 \n",
      "               --------------------------                                                                                 \n",
      "               Occupation: 0.0 Energy:    0.69522 au                                                                      \n",
      "               (   1 C   2s  :    -0.84) (   1 C   1p+1:    -0.51) (   2 C   2s  :    -0.84)                              \n",
      "               (   2 C   1p+1:     0.51) (   3 H   1s  :     0.63) (   4 H   1s  :     0.63)                              \n",
      "               (   5 H   1s  :     0.63) (   6 H   1s  :     0.63)                                                        \n",
      "                                                                                                                          \n",
      "               Molecular Orbital No.  12:                                                                                 \n",
      "               --------------------------                                                                                 \n",
      "               Occupation: 0.0 Energy:    0.70654 au                                                                      \n",
      "               (   1 C   1s  :    -0.17) (   1 C   2s  :     1.07) (   1 C   1p+1:     0.21)                              \n",
      "               (   2 C   1s  :     0.17) (   2 C   2s  :    -1.07) (   2 C   1p+1:     0.21)                              \n",
      "               (   3 H   1s  :    -0.65) (   4 H   1s  :    -0.65) (   5 H   1s  :     0.65)                              \n",
      "               (   6 H   1s  :     0.65)                                                                                  \n",
      "                                                                                                                          \n",
      "               Molecular Orbital No.  13:                                                                                 \n",
      "               --------------------------                                                                                 \n",
      "               Occupation: 0.0 Energy:    0.95189 au                                                                      \n",
      "               (   1 C   2s  :     0.82) (   1 C   1p+1:    -1.13) (   2 C   2s  :    -0.82)                              \n",
      "               (   2 C   1p+1:    -1.13)                                                                                  \n",
      "                                                                                                                          \n"
     ]
    }
   ],
   "source": [
    "scf_drv = vlx.ScfRestrictedDriver()\n",
    "scf_drv.compute(molecule, basis)"
   ]
  },
  {
   "cell_type": "markdown",
   "id": "upset-precipitation",
   "metadata": {
    "slideshow": {
     "slide_type": "slide"
    }
   },
   "source": [
    "### Molecular orbitals and energies"
   ]
  },
  {
   "cell_type": "code",
   "execution_count": 4,
   "id": "certain-atlanta",
   "metadata": {
    "scrolled": true,
    "slideshow": {
     "slide_type": "fragment"
    }
   },
   "outputs": [
    {
     "name": "stdout",
     "output_type": "stream",
     "text": [
      "Orbital energies:\n",
      " [-11.0184 -11.0177  -0.975   -0.7497  -0.6087  -0.5238  -0.4729  -0.3183   0.3106   0.6578   0.6952   0.7065   0.9519   0.9593]\n",
      "Coefficients MO 2:\n",
      " [ 0.7014  0.0308 -0.7014 -0.0308 -0.005  -0.005   0.005   0.005   0.      0.      0.      0.     -0.0041 -0.0041]\n",
      "Coefficients MO 9:\n",
      " [ 0.      0.      0.     -0.      0.     -0.     -0.      0.     -0.     -0.      0.8063 -0.8063 -0.      0.    ]\n"
     ]
    }
   ],
   "source": [
    "F = scf_drv.scf_tensors['E']\n",
    "C = scf_drv.scf_tensors['C']\n",
    "\n",
    "print('Orbital energies:\\n', F)\n",
    "print('Coefficients MO 2:\\n', C[:,1])\n",
    "print('Coefficients MO 9:\\n', C[:,8])"
   ]
  },
  {
   "cell_type": "markdown",
   "id": "later-disposal",
   "metadata": {
    "slideshow": {
     "slide_type": "fragment"
    }
   },
   "source": [
    "### Ordering of molecular orbitals\n",
    "\n",
    "Occupied: $1a_{g}$, $1b_{3u}$, $2a_{g}$, $2b_{3u}$, $1b_{2u}$, $3a_{g}$, $1b_{1g}$, $1b_{1u}$\n",
    "\n",
    "Unoccupied: $1b_{2g}$, $2b_{2u}$, $4a_{g}$, $3b_{3u}$, $4b_{3u}$, $2b_{1g}$"
   ]
  },
  {
   "cell_type": "markdown",
   "id": "classical-retrieval",
   "metadata": {
    "slideshow": {
     "slide_type": "slide"
    }
   },
   "source": [
    "### Core excitation and symmetry\n",
    "Symmetry of core excited state: $^1 B_{1u}$\n",
    "\n",
    "Excitation operator: $\\hat{\\mu}_z$\n",
    "\n",
    "Electronic excitation channels:\n",
    "\n",
    "$1b_{3u} \\rightarrow 1b_{2g}$\n",
    "\n",
    "$2b_{3u} \\rightarrow 1b_{2g}$\n",
    "\n",
    "$2b_{3u} \\rightarrow 1b_{2g}$\n",
    "\n",
    "$1b_{1u} \\rightarrow 4a_{g}$\n",
    "\n",
    "Core-excitation channel: \n",
    "\n",
    "$1b_{3u} \\rightarrow 1b_{2g}$\n",
    "\n",
    "or with another notation\n",
    "\n",
    "$\\sigma_{u} \\rightarrow \\pi^{*}$"
   ]
  },
  {
   "cell_type": "markdown",
   "id": "divine-mileage",
   "metadata": {
    "slideshow": {
     "slide_type": "slide"
    }
   },
   "source": [
    "### Ground to core-excited state transition in a frozen orbital picture\n",
    "With a single electronic excitation channel:\n",
    "\n",
    "$\\langle X ^1A_g | \\hat{\\mu}_z | ^1B_{1u} \\rangle = \\sqrt{2} \\langle \\sigma_u | \\hat{\\mu}_z |\\pi^* \\rangle$\n",
    "\n",
    "Note: The factor of $\\sqrt{2}$ is due to spin-adaptation."
   ]
  },
  {
   "cell_type": "code",
   "execution_count": 5,
   "id": "exact-record",
   "metadata": {
    "slideshow": {
     "slide_type": "fragment"
    }
   },
   "outputs": [
    {
     "name": "stdout",
     "output_type": "stream",
     "text": [
      "Transition moment (a.u.):  0.139783\n",
      "Orbital energy difference:  11.328276 a.u. (or  308.3 eV)\n"
     ]
    }
   ],
   "source": [
    "dipole_drv = vlx.ElectricDipoleIntegralsDriver()\n",
    "\n",
    "dipole_mats = dipole_drv.compute(molecule, basis)\n",
    "z_ao = dipole_mats.z_to_numpy()\n",
    "z_mo = np.matmul(C.T, np.matmul(z_ao, C))\n",
    "\n",
    "tmom = np.sqrt(2) * z_mo[1,8]\n",
    "print(f'Transition moment (a.u.): {tmom : .6f}')\n",
    "print(f'Orbital energy difference: {F[8]-F[1] : .6f} a.u. (or {(F[8]-F[1]) * au_to_ev : .1f} eV)')"
   ]
  },
  {
   "cell_type": "markdown",
   "id": "removed-shame",
   "metadata": {
    "slideshow": {
     "slide_type": "slide"
    }
   },
   "source": [
    "## TDDFT framework"
   ]
  },
  {
   "cell_type": "markdown",
   "id": "cheap-intention",
   "metadata": {
    "slideshow": {
     "slide_type": "fragment"
    }
   },
   "source": [
    "Parameterization of SCF states:\n",
    "\n",
    "\\begin{equation}\n",
    "\\label{psi-kappa-param}\n",
    "  | \\bar{\\psi}(t) \\rangle =\n",
    "    e^{-i\\hat{\\kappa}(t)} |0\\rangle ; \\quad\n",
    "  \\hat{\\kappa}(t) =\n",
    "  \\sum_s^\\mathrm{unocc} \\sum_i^\\mathrm{occ} \\left[\n",
    "    \\kappa_{si}(t) \\hat{a}^\\dagger_s \\hat{a}_i + \\kappa_{si}^*(t) \\hat{a}^\\dagger_i \\hat{a}_s\n",
    "    \\right] ,\n",
    "\\end{equation}\n",
    "\n",
    "where the creation, $\\hat{a}^\\dagger$, and annihilation, $\\hat{a}$, operators act on unoccupied, secondary, $s$ and occupied, inactive, $i$ molecular orbitals.\n",
    "\n",
    "The linear response function introduces the RPA matrix\n",
    "\n",
    "$$\n",
    "\\langle\\langle \\hat{\\mu}_\\alpha; \\hat{V} \\rangle\\rangle_\\omega =\n",
    "-{\\mu^{[1]}}^\\dagger\n",
    "\\Big(\n",
    "E^{[2]} - \\omega S^{[2]}\n",
    "\\Big)^{-1}\n",
    "V^{[1]}\n",
    "$$"
   ]
  },
  {
   "cell_type": "markdown",
   "id": "distinguished-vietnamese",
   "metadata": {
    "slideshow": {
     "slide_type": "slide"
    }
   },
   "source": [
    "### Electronic Hessian\n",
    "In terms of these elementary electronic excitation operators, the electronic Hessian reads\n",
    "\n",
    "\\begin{eqnarray}\n",
    "E^{[2]} & = &\n",
    "\t\\begin{pmatrix}\n",
    "    \\rule[-5pt]{0pt}{20pt}\n",
    "\t\\rule{5pt}{0pt}\n",
    "\tA & B \\rule{5pt}{0pt}\n",
    "\t\\\\\n",
    "    \\rule[-10pt]{0pt}{25pt}\n",
    "    \\rule{5pt}{0pt}    \n",
    "\tB^* & A^* \\\\\n",
    "\t\\end{pmatrix}\n",
    "&\t= &\n",
    "    \\begin{pmatrix}\n",
    "    \\rule[-10pt]{0pt}{30pt}\n",
    "    \\langle 0_i^s | \\hat{H}_0 | 0_j^t \\rangle - \n",
    "    \\langle 0 | \\hat{H}_0 | 0 \\rangle \\delta_{st}\\delta_{ij} \n",
    "    & \n",
    "     -\\langle 0_{ij}^{st} | \\hat{H}_0 | 0 \\rangle \n",
    "    (1 - \\delta_{ij})(1-\\delta_{st}) \n",
    "    \\\\\n",
    "    \\rule[-10pt]{0pt}{30pt}\n",
    "    -\\langle 0 | \\hat{H}_0 | 0_{ij}^{st} \\rangle \n",
    "    (1 - \\delta_{ij})(1-\\delta_{st}) \n",
    "     & \n",
    "    \\langle 0_j^t | \\hat{H}_0 | 0_i^s \\rangle - \n",
    "    \\langle 0 | \\hat{H}_0 | 0 \\rangle \\delta_{st}\\delta_{ij} \n",
    "    \\\\\n",
    "  \\end{pmatrix} \n",
    "\\end{eqnarray}\n",
    "\n",
    "* The Hessian matrix is Hermitian and has an internal structure in terms of the matrix blocks $A$ and $B$\n",
    "* The diagonal elements correspond to differences in energy between the single-excited determinants $|0_i^s\\rangle$ and the reference state\n",
    "$|0\\rangle$\n",
    "* The $A$-block corresponds to the CIS approximation"
   ]
  },
  {
   "cell_type": "markdown",
   "id": "sustainable-vermont",
   "metadata": {
    "slideshow": {
     "slide_type": "subslide"
    }
   },
   "source": [
    "In the Hartree–Fock approximation, the Hessian can be expressed as the differences in orbital energies corrected by an anti-symmetrized two-electron integral\n",
    "\n",
    "$$\n",
    "E^{[2]} = \n",
    "\\begin{pmatrix}\n",
    "    \\rule[-10pt]{0pt}{30pt}\n",
    "    F_{st} \\delta_{ij} \\!-\\! F_{ji}\\delta_{st} \\!-\\! \\langle sj || ti\n",
    "    \\rangle \n",
    "    & \n",
    "    -\\langle st||ij \\rangle \n",
    "    \\\\\n",
    "    \\rule[-10pt]{0pt}{30pt}\n",
    "    -\\langle ij||st \\rangle \n",
    "    & \n",
    "    F_{ts} \\delta_{ij}\\! -\\! F_{ij} \\delta_{st} \n",
    "    \\! - \\! \\langle ti || sj \\rangle \n",
    "    \\\\\n",
    "\\end{pmatrix}\n",
    "$$\n",
    "\n",
    "* The anti-symmetrized ERI gives the correct asymptotic behavior for charge-transfer excitations\n",
    "* At the level of DFT, the exchange–correlation functional is introduced and the asymptotic behavior becomes incorrect"
   ]
  },
  {
   "cell_type": "markdown",
   "id": "large-sculpture",
   "metadata": {
    "slideshow": {
     "slide_type": "subslide"
    }
   },
   "source": [
    "#### Spin-adapted excitation operators\n",
    "In practice, we employ spin-adapted excitation operators\n",
    "\n",
    "\\begin{equation}\n",
    "  \\hat{\\kappa} =\n",
    "  \\sum_{s,i} \\left[\n",
    "    \\kappa_{si} \\hat{E}_{si}^\\dagger +\n",
    "    \\kappa_{si}^* \\hat{E}_{si}\n",
    "    \\right]\n",
    "\\end{equation}\n",
    "\n",
    "where the summations run over spatial unoccupied and occupied MOs and the singlet excitation operator reads\n",
    "\n",
    "$$\n",
    "\\hat{E}_{si}^\\dagger = \\hat{a}^\\dagger_s \\hat{a}_i + \\hat{a}^\\dagger_\\bar{s} \\hat{a}_\\bar{i}\n",
    "$$\n",
    "\n",
    "The diagonal elements of the Hessian becomes\n",
    "\n",
    "$$\n",
    "E^{[2]}_{si,si} = 2 \\times \n",
    "\\big[\n",
    "(F_{ss} - F_{ii}) - (ss|ii) + 2(si|is)\n",
    "\\big]\n",
    "$$\n",
    "\n",
    "* The factor of 2 stems from the adoption of non-normalized excitation operators\n",
    "* With triplet excitation operators the exchange integrals vanish"
   ]
  },
  {
   "cell_type": "code",
   "execution_count": 6,
   "id": "equal-aurora",
   "metadata": {
    "slideshow": {
     "slide_type": "slide"
    }
   },
   "outputs": [
    {
     "name": "stdout",
     "output_type": "stream",
     "text": [
      "* Info * Processing Fock builds... (batch size: 192)                                                                      \n",
      "* Info *   batch 1/1                                                                                                      \n",
      "n = 48\n",
      "Dimension of E[2] matrix: (96, 96)\n",
      "Diagonal element for (sigma_u, pi*)-core excitation:  292.0 eV\n",
      "Diagonal element:  292.0 eV\n",
      "Diagonal element without exchange:  291.2 eV\n"
     ]
    }
   ],
   "source": [
    "lrs = vlx.LinearResponseEigenSolver()\n",
    "E2 = lrs.get_e2(molecule, basis, scf_drv.scf_tensors)\n",
    "\n",
    "nocc = 8\n",
    "ncore = 2\n",
    "nvirt = 6\n",
    "norb = nocc + nvirt\n",
    "\n",
    "n = nocc * nvirt\n",
    "\n",
    "print('n =', n)\n",
    "print('Dimension of E[2] matrix:', E2.shape)\n",
    "print(f'Diagonal element for (sigma_u, pi*)-core excitation: {E2[6,6] / 2 * au_to_ev : .1f} eV')\n",
    "\n",
    "# ERI integrals in physicist's notation\n",
    "moints_drv = vlx.MOIntegralsDriver()\n",
    "isis = moints_drv.compute_in_mem(molecule, basis, scf_drv.mol_orbs, \"OVOV\")\n",
    "iiss = moints_drv.compute_in_mem(molecule, basis, scf_drv.mol_orbs, \"OOVV\")\n",
    "print(f'Diagonal element: {(F[8] - F[1] - isis[1,0,1,0] + 2 * iiss[1,1,0,0]) * au_to_ev : .1f} eV')\n",
    "print(f'Diagonal element without exchange: {(F[8] - F[1] - isis[1,0,1,0]) * au_to_ev : .1f} eV')"
   ]
  },
  {
   "cell_type": "markdown",
   "id": "greek-nursery",
   "metadata": {
    "slideshow": {
     "slide_type": "slide"
    }
   },
   "source": [
    "### Overlap matrix"
   ]
  },
  {
   "cell_type": "markdown",
   "id": "infinite-hampton",
   "metadata": {
    "slideshow": {
     "slide_type": "fragment"
    }
   },
   "source": [
    "The overlap matrix in the SCF approximation is trivial and equal to\n",
    "\n",
    "\\begin{eqnarray}\n",
    "\\label{S2}\n",
    "S^{[2]} & = &\n",
    "\t\\begin{pmatrix}\n",
    "    \\rule[-5pt]{0pt}{20pt}\n",
    "\t\\rule{5pt}{0pt}\n",
    "\t1 & 0 \\rule{5pt}{0pt}\n",
    "\t\\\\\n",
    "    \\rule[-10pt]{0pt}{25pt}\n",
    "    \\rule{5pt}{0pt}    \n",
    "\t0 & -1 \\\\\n",
    "\t\\end{pmatrix} ,\n",
    "\\end{eqnarray}\n",
    "\n",
    "where the \"1\" and the \"0\" are here understood to be the identity and zero matrices, respectively, of the same rank as sub-blocks A and B in the electronic Hessian."
   ]
  },
  {
   "cell_type": "code",
   "execution_count": 7,
   "id": "sexual-jesus",
   "metadata": {
    "slideshow": {
     "slide_type": "fragment"
    }
   },
   "outputs": [
    {
     "name": "stdout",
     "output_type": "stream",
     "text": [
      "Dimension of S[2] matrix: (96, 96)\n"
     ]
    }
   ],
   "source": [
    "# factor of 2 due to spin-adaptation\n",
    "S2 = 2 * np.identity(2*n)\n",
    "S2[n:,n:] *= -1\n",
    "\n",
    "print('Dimension of S[2] matrix:', S2.shape)"
   ]
  },
  {
   "cell_type": "markdown",
   "id": "comparative-arthritis",
   "metadata": {
    "slideshow": {
     "slide_type": "slide"
    }
   },
   "source": [
    "### Property gradient\n",
    "\n",
    "In the SCF approximation, the property gradient takes the form\n",
    "\n",
    "\\begin{equation}\n",
    "  V^{[1]} =\n",
    "  \\begin{pmatrix}\n",
    "    \\rule[-10pt]{0pt}{20pt}\n",
    "     \\langle 0 | [\\hat{a}_{i}^\\dagger\\hat{a}_{s}, \\hat{V}] | 0 \\rangle\n",
    "       \\\\\n",
    "    \\rule[-5pt]{0pt}{20pt}\n",
    "     \\langle 0 | [\\hat{a}_{s}^\\dagger\\hat{a}_{i}, \\hat{V}] | 0 \\rangle\n",
    "\\\\\n",
    "  \\end{pmatrix} \n",
    "  =\n",
    "  \\begin{pmatrix}\n",
    "    \\rule[-5pt]{0pt}{15pt}\n",
    "     \\langle 0_i^s | \\hat{V} | 0 \\rangle\n",
    "       \\\\\n",
    "    \\rule[-5pt]{0pt}{0pt}\n",
    "     -\\langle 0 | \\hat{V} | 0_i^s \\rangle\n",
    "    \\\\\n",
    "  \\end{pmatrix}\n",
    "  =\n",
    "      \\begin{pmatrix}\n",
    "    \\rule[-5pt]{0pt}{15pt}\n",
    "    g\n",
    "       \\\\\n",
    "    \\rule[-5pt]{0pt}{0pt}\n",
    "     -g^*\n",
    "\\\\\n",
    "  \\end{pmatrix}\n",
    "\\end{equation}"
   ]
  },
  {
   "cell_type": "code",
   "execution_count": 8,
   "id": "alpha-relations",
   "metadata": {
    "slideshow": {
     "slide_type": "fragment"
    }
   },
   "outputs": [
    {
     "name": "stdout",
     "output_type": "stream",
     "text": [
      "Dimension of V[1] vector: (96,)\n",
      "  g:  0.197684\n",
      "-g*: -0.197684\n",
      "MO integral 2 * < sigma_u | z | pi* >:  0.197684\n"
     ]
    }
   ],
   "source": [
    "rsp_drv = vlx.LinearResponseSolver()\n",
    "V1 = rsp_drv.get_prop_grad('electric dipole', 'z', molecule, basis, scf_drv.scf_tensors)[0]\n",
    "print('Dimension of V[1] vector:', V1.shape)\n",
    "print(f'  g: {V1[nvirt] : .6f}')\n",
    "print(f'-g*: {V1[n + nvirt] : .6f}')\n",
    "print(f'MO integral 2 * < sigma_u | z | pi* >: {2 * z_mo[1,8] : .6f}')"
   ]
  },
  {
   "cell_type": "markdown",
   "id": "supreme-symposium",
   "metadata": {
    "slideshow": {
     "slide_type": "slide"
    }
   },
   "source": [
    "### Transition energies\n",
    "We denote by $X_e$ the eigenvectors of the generalized eigenvalue equation\n",
    "\n",
    "\\begin{equation}\n",
    "  E^{[2]} X_e = \\lambda_e S^{[2]} X_e, \\quad e = -n,\\ldots,-1,1,\\ldots,n ,\n",
    "\\end{equation}\n",
    " \n",
    "where the matrix dimension is $2n$. We find the set of eigenvalues and eigenvectors by diagonalizing the non-Hermitian matrix $\\left(S^{[2]}\\right)^{-1} E^{[2]}$ according to\n",
    "\n",
    "\\begin{equation}\n",
    "\\label{gen-eig}\n",
    "  X^{-1} \\left[ \\left(S^{[2]}\\right)^{-1} E^{[2]} \\right] X = \n",
    "  \\begin{bmatrix}\n",
    "    \\rule[-5pt]{0pt}{15pt}\n",
    "    \\rule{9pt}{0pt}\n",
    "    \\lambda & \\rule{3pt}{0pt} 0 \\rule{3pt}{0pt} \\\\\n",
    "    \\rule{3pt}{0pt}\n",
    "    0 & -\\lambda \\rule{3pt}{0pt} \\\\\n",
    "  \\end{bmatrix} ,\n",
    "\\end{equation}\n",
    "\n",
    "where $\\lambda$ is a diagonal matrix of dimension $n$ collecting the eigenvalues with positive index and the columns of $X$ store the eigenvectors ($X$ is assumed to be nonsingular). This pairing of eigenvalues has its correspondence in the eigenvectors through\n",
    "\n",
    "\\begin{equation*}\n",
    "  X_e =\n",
    "  \\begin{pmatrix}\n",
    "    \\rule[-5pt]{0pt}{15pt}\n",
    "    Z_e \\\\\n",
    "    \\rule[-5pt]{0pt}{0pt}\n",
    "    Y_e^* \\\\\n",
    "  \\end{pmatrix}\n",
    "\\; \\mbox{with eigenvalue}\\; \\lambda_e\n",
    "; \\qquad\n",
    "  X_{-e} =\n",
    "  \\begin{pmatrix}\n",
    "    \\rule[-5pt]{0pt}{15pt}\n",
    "    Y_{e} \\\\\n",
    "    \\rule[-5pt]{0pt}{0pt}\n",
    "    Z_{e}^* \\\\\n",
    "  \\end{pmatrix} \n",
    "\\; \\mbox{with eigenvalue}\\; -\\!\\lambda_e .\n",
    "\\end{equation*}"
   ]
  },
  {
   "cell_type": "markdown",
   "id": "physical-feature",
   "metadata": {
    "slideshow": {
     "slide_type": "subslide"
    }
   },
   "source": [
    "The matrix $X$ will therefore have the structure\n",
    "\n",
    "\\begin{equation}\n",
    "\\label{X-struct}\n",
    "  X = \n",
    "  \\begin{bmatrix}\n",
    "    \\rule[-5pt]{0pt}{15pt}\n",
    "    \\rule{3pt}{0pt}\n",
    "    Z & \\rule{3pt}{0pt} Y \\rule{3pt}{0pt} \\\\\n",
    "    \\rule{8pt}{0pt}\n",
    "    Y^* & \\rule{3pt}{0pt} Z^* \\rule{3pt}{0pt} \\\\\n",
    "  \\end{bmatrix} .\n",
    "\\end{equation}\n",
    "\n",
    "With an appropriate scaling of the eigenvectors $X_e$, the non-unitary matrix $X$ achieves a simultaneous diagonalization of the two non-commuting matrices $E^{[2]}$ and $S^{[2]}$ as\n",
    "\n",
    "\\begin{equation}\n",
    "\\label{sim-diag}\n",
    "  X^\\dagger E^{[2]} X = \n",
    "  \\begin{bmatrix}\n",
    "    \\rule[-5pt]{0pt}{15pt}\n",
    "    \\rule{9pt}{0pt}\n",
    "    \\lambda & \\rule{3pt}{0pt} 0 \\rule{3pt}{0pt} \\\\\n",
    "    \\rule{3pt}{0pt}\n",
    "    0 & \\lambda \\rule{3pt}{0pt} \\\\\n",
    "  \\end{bmatrix} ; \\qquad\n",
    "  X^\\dagger S^{[2]} X =\n",
    "  \\begin{bmatrix}\n",
    "    \\rule[-5pt]{0pt}{15pt}\n",
    "    \\rule{8pt}{0pt}\n",
    "    I & \\rule{5pt}{0pt} 0 \\rule{3pt}{0pt} \\\\\n",
    "    \\rule{5pt}{0pt}\n",
    "    0 & -I \\rule{3pt}{0pt} \\\\\n",
    "  \\end{bmatrix} .\n",
    "\\end{equation}\n",
    "\n",
    "For each pair of eigenvectors, the second equation involving the metric of the generalized eigenvalue equation defines which of the two that should be indexed with a positive index. We also emphasize that $X^\\dagger \\neq X^{-1}$ and for this reason the $X_e$'s are eigenvectors neither of $E^{[2]}$ nor of $S^{[2]}$, just as the $\\lambda_e$'s are not the eigenvalues of $E^{[2]}$."
   ]
  },
  {
   "cell_type": "code",
   "execution_count": 9,
   "id": "prescribed-dominant",
   "metadata": {
    "slideshow": {
     "slide_type": "subslide"
    }
   },
   "outputs": [
    {
     "name": "stdout",
     "output_type": "stream",
     "text": [
      "[ 10.7286  10.7291 -10.7286 -10.7291  11.5355  11.5355  11.0765 -11.5355 -11.5355 -11.478   11.2445  11.0949  11.0784  11.478\n",
      " -11.2445 -11.0784 -11.2449 -11.478  -11.0765 -11.0949  11.0965  11.2449  11.478  -11.0965  -1.5626   1.5626  -1.5137   1.5137\n",
      "   0.3958  -0.3958  -1.4065  -1.3792   1.4065   1.3792   1.3791  -1.3791   0.3685  -0.3685  -0.6943   1.2962   0.4191   0.6943\n",
      "   1.3142  -1.3142  -1.2962  -0.4191  -0.5365   0.5365   1.2609  -1.2609   0.598   -0.598   -0.7917  -0.6656   0.6656   0.7917\n",
      "   1.1817  -0.9081   0.9081  -0.7555  -1.1817   1.1624  -1.166   -1.1624   1.166    0.7555  -1.1062  -1.1474  -1.1382   1.1062\n",
      "   1.1474   1.1382  -1.0773   1.0773  -1.0282   1.0282  -1.0198   1.0198   1.0059   1.0023  -1.0059   0.8365   0.8396  -0.8245\n",
      "  -0.8365  -1.0023   0.8245  -0.8396  -0.8772  -0.8717   0.8717   0.8871   0.8772   0.8731  -0.8871  -0.8731]\n",
      "Eigenvector position: 1\n",
      "sigma_u - pi* transition energy:  10.7291 a.u. (or  292.0 eV)\n",
      "Xf norm under metric S[2] =  1.0000\n"
     ]
    }
   ],
   "source": [
    "eigs, X = np.linalg.eig(np.matmul(np.linalg.inv(S2), E2))\n",
    "print(eigs)\n",
    "\n",
    "# the second smallest positive eigenvalue is the sigma-pi* transition\n",
    "eigs[np.argmin(np.where(eigs>10, eigs, 999))] = 999\n",
    "pos = np.argmin(np.where(eigs>10, eigs, 999))\n",
    "\n",
    "Xf = X[:,pos]\n",
    "Xf =  Xf / np.sqrt(np.matmul(Xf.T,np.matmul(S2,Xf)))\n",
    "\n",
    "print('Eigenvector position:', pos)\n",
    "print(f'sigma_u - pi* transition energy: {eigs[pos] : .4f} a.u. (or {eigs[pos] * au_to_ev : .1f} eV)')\n",
    "print(f'Xf norm under metric S[2] = {np.matmul(Xf.T,np.matmul(S2,Xf)) : .4f}')"
   ]
  },
  {
   "cell_type": "markdown",
   "id": "integral-biotechnology",
   "metadata": {
    "slideshow": {
     "slide_type": "slide"
    }
   },
   "source": [
    "### Transition moments\n",
    "Since $(\\Omega \\Lambda)^{-1} = \\Lambda^{-1} \\Omega^{-1}$, we can form the inverse of the RPA matrix as\n",
    "\n",
    "\\begin{equation}\n",
    "  \\left( E^{[2]} - \\omega S^{[2]} \\right)^{-1} =\n",
    "  X \\left[ X^\\dagger \\left( E^{[2]} - \\omega S^{[2]} \\right) X \\right]^{-1} X^\\dagger\n",
    "\\end{equation}\n",
    "\n",
    "which yields an expression for the linear response function that reads\n",
    "\n",
    "\\begin{eqnarray}\n",
    "\\label{lrf-resolved}\n",
    "  \\langle\n",
    "  \\langle\n",
    "  \\hat{\\Omega}; \\hat{V}\n",
    "  \\rangle\n",
    "  \\rangle & = &\n",
    "  -\n",
    "  \\left[\\Omega^{[1]}\\right]^\\dagger \n",
    "  \\sum_{e=1}^n\n",
    "  \\left(\n",
    "  \\frac{\n",
    "    X_e\n",
    "    X^\\dagger_e\n",
    "    }{\n",
    "    \\lambda_e - \\hbar \\omega\n",
    "    }\n",
    "  +\n",
    "  \\frac{\n",
    "    X_e\n",
    "    X^\\dagger_e \n",
    "    }{\n",
    "    \\lambda_e + \\hbar \\omega\n",
    "    }\n",
    "  \\right) V^{[1]} \n",
    "\\end{eqnarray}\n",
    "\n",
    "This equation suggests that we identify the $\\lambda$-eigenvalues as excitation energies of the system and transition moments in the SCF approximation are identified as\n",
    "\n",
    "\\begin{equation}\n",
    "\\label{tranmom}\n",
    "    \\langle f | \\hat{V} | 0 \\rangle =\n",
    "    X^\\dagger_f V^{[1]}\n",
    "\\end{equation}"
   ]
  },
  {
   "cell_type": "code",
   "execution_count": 10,
   "id": "middle-cowboy",
   "metadata": {
    "slideshow": {
     "slide_type": "fragment"
    }
   },
   "outputs": [
    {
     "name": "stdout",
     "output_type": "stream",
     "text": [
      "Transition moment (a.u.):  0.141356\n"
     ]
    }
   ],
   "source": [
    "tmom = np.dot(Xf, V1)\n",
    "print(f'Transition moment (a.u.): {tmom : .6f}')"
   ]
  },
  {
   "cell_type": "markdown",
   "id": "fabulous-youth",
   "metadata": {
    "slideshow": {
     "slide_type": "slide"
    }
   },
   "source": [
    "### Core–valence separation (CVS) approximation\n",
    "\n",
    "Due to the large energy separation of core and valence electronic states there will be negigiible contribution from the valence-excitaiton channels. "
   ]
  },
  {
   "cell_type": "code",
   "execution_count": 11,
   "id": "dietary-english",
   "metadata": {
    "slideshow": {
     "slide_type": "subslide"
    }
   },
   "outputs": [
    {
     "name": "stdout",
     "output_type": "stream",
     "text": [
      "[ 10.7286  10.7291  11.0764  11.0783  11.0948  11.0964  11.2444  11.2448  11.5355  11.5354  11.478   11.478  -10.7286 -10.7291\n",
      " -11.0764 -11.0783 -11.0948 -11.0964 -11.2444 -11.2448 -11.5355 -11.5354 -11.478  -11.478 ]\n",
      "Eigenvector position: 1\n",
      "sigma_u - pi* transition energy in CVS:  10.7291 a.u. (or  292.0 eV)\n",
      "Xf norm under metric S[2] =  1.0000\n",
      "Transition moment in CVS (a.u.): -0.139695\n"
     ]
    }
   ],
   "source": [
    "n = nocc * nvirt\n",
    "c = ncore * nvirt\n",
    "\n",
    "E2_CVS = np.zeros((2 * c, 2 * c))\n",
    "\n",
    "E2_CVS[0:c, 0:c] = E2[0:c, 0:c]\n",
    "E2_CVS[0:c, c:2*c] = E2[0:c, n:n+c]\n",
    "E2_CVS[c:2*c, 0:c] = E2[n:n+c, 0:c]\n",
    "E2_CVS[c:2*c, c:2*c] = E2[n:n+c, n:n+c]\n",
    "\n",
    "S2_CVS = 2 * np.identity(2*c)\n",
    "S2_CVS[c:2*c,c:2*c] *= -1\n",
    "\n",
    "V1_CVS = np.zeros(2*c)\n",
    "V1_CVS[0:c] = V1[0:c]\n",
    "V1_CVS[c:2*c] = V1[n:n+c]\n",
    "\n",
    "eigs_CVS, X_CVS = np.linalg.eig(np.matmul(np.linalg.inv(S2_CVS), E2_CVS))\n",
    "print(eigs_CVS)\n",
    "\n",
    "# the second smallest positive eigenvalue is the sigma-pi* transition\n",
    "eigs_CVS[np.argmin(np.where(eigs_CVS>10, eigs_CVS, 999))] = 999\n",
    "pos = np.argmin(np.where(eigs_CVS>10, eigs_CVS, 999))\n",
    "\n",
    "print('Eigenvector position:', pos)\n",
    "print(f'sigma_u - pi* transition energy in CVS: {eigs_CVS[pos] : .4f} a.u. (or {eigs_CVS[pos] * au_to_ev : .1f} eV)')\n",
    "Xf_CVS = X_CVS[:,pos]\n",
    "Xf_CVS =  Xf_CVS / np.sqrt(np.matmul(Xf_CVS.T, np.matmul(S2_CVS, Xf_CVS)))\n",
    "\n",
    "print(f'Xf norm under metric S[2] = {np.matmul(Xf_CVS.T, np.matmul(S2_CVS, Xf_CVS)) : .4f}')\n",
    "\n",
    "tmom_CVS = np.dot(Xf_CVS, V1_CVS)\n",
    "print(f'Transition moment in CVS (a.u.): {tmom_CVS : .6f}')"
   ]
  },
  {
   "cell_type": "markdown",
   "id": "mediterranean-trinidad",
   "metadata": {
    "slideshow": {
     "slide_type": "slide"
    }
   },
   "source": [
    "### Tamm-Dancoff approximation (TDA)\n",
    "\n",
    "The TDA corresponds to setting $B=0$ in the electronic Hessian and diagonalize matrix block $A$:\n",
    "\n",
    "\\begin{eqnarray}\n",
    "E^{[2]} & = &\n",
    "\t\\begin{pmatrix}\n",
    "    \\rule[-5pt]{0pt}{20pt}\n",
    "\t\\rule{5pt}{0pt}\n",
    "\tA & B \\rule{5pt}{0pt}\n",
    "\t\\\\\n",
    "    \\rule[-10pt]{0pt}{25pt}\n",
    "    \\rule{5pt}{0pt}    \n",
    "\tB^* & A^* \\\\\n",
    "\t\\end{pmatrix}\n",
    "\\end{eqnarray}"
   ]
  },
  {
   "cell_type": "code",
   "execution_count": 12,
   "id": "difficult-trouble",
   "metadata": {
    "slideshow": {
     "slide_type": "fragment"
    }
   },
   "outputs": [
    {
     "name": "stdout",
     "output_type": "stream",
     "text": [
      "[10.7286 10.7291 11.0764 11.0783 11.0948 11.0965 11.2445 11.2449 11.478  11.478  11.5354 11.5355]\n",
      "sigma_u - pi* transition energy with CVS and TDA (eV):  291.9529\n",
      "Transition moment with CVS and TDA (a.u.):  0.139783\n"
     ]
    }
   ],
   "source": [
    "# divide by factors of 2 and sqrt(2) to account for normalization of spin-adapted excitation operators\n",
    "E2_CVS_TDA = E2_CVS[0:c, 0:c] / 2\n",
    "V1_CVS_TDA = V1_CVS[0:c] / np.sqrt(2)\n",
    "\n",
    "eigs_CVS_TDA, X_CVS_TDA = np.linalg.eigh(E2_CVS_TDA)\n",
    "print(eigs_CVS_TDA)\n",
    "\n",
    "pos=1\n",
    "print(f'sigma_u - pi* transition energy with CVS and TDA (eV): {eigs_CVS_TDA[pos] * au_to_ev : .4f}')\n",
    "Xf_CVS_TDA = X_CVS_TDA[:,pos]\n",
    "\n",
    "tmom_CVS_TDA = np.dot(Xf_CVS_TDA, V1_CVS_TDA)\n",
    "print(f'Transition moment with CVS and TDA (a.u.): {tmom_CVS_TDA : .6f}')"
   ]
  },
  {
   "cell_type": "markdown",
   "id": "alive-transcription",
   "metadata": {
    "slideshow": {
     "slide_type": "slide"
    }
   },
   "source": [
    "### Natural transition orbitals (NTOs)\n",
    "\n",
    "Collecting occupied and unoccupied (real) MOs as vectors\n",
    "\n",
    "$$\n",
    "\\bar{\\phi}_\\mathrm{occ} = (\\ldots, \\phi_i(\\mathbf{r}),  \\ldots)^T; \\quad\n",
    "\\bar{\\phi}_\\mathrm{unocc} = (\\ldots, \\phi_s(\\mathbf{r}),  \\ldots)^T\n",
    "$$\n",
    "\n",
    "and scattering the (real) RPA eigenvector into a rectangular transition matrix $T$ of dimension $n_\\mathrm{occ} \\times n_\\mathrm{unocc}$\n",
    "\n",
    "$$\n",
    "T_{f, is} = Z_{f, is} - Y_{f, is}\n",
    "$$\n",
    "\n",
    "we can write the transition moment as\n",
    "\n",
    "\\begin{equation}\n",
    "    \\langle f | \\hat{V} | 0 \\rangle =\n",
    "    X^T_f V^{[1]} = \n",
    "    \\big(\n",
    "    Z_f^T, Y_f^T\n",
    "    \\big)\n",
    "    \\begin{pmatrix}\n",
    "    g\\\\-g\n",
    "    \\end{pmatrix}\n",
    "    =\n",
    "    \\big(\n",
    "    Z_f - Y_f\n",
    "    \\big)^T\n",
    "    g\n",
    "    =\n",
    "    \\int\n",
    "    \\hat{\\mu}_\\alpha\n",
    "    \\bar{\\phi}_\\mathrm{occ}^T\n",
    "    T\n",
    "    \\bar{\\phi}_\\mathrm{unocc} \\;\n",
    "    d^3\\mathbf{r}\n",
    "\\end{equation}\n",
    "\n",
    "By means of a singular value decomposition (SVD), we can factorize the transition matrix\n",
    "\n",
    "$$\n",
    "T = U \\Lambda V^T\n",
    "$$\n",
    "\n",
    "where matrices $U$ and $V$ are unitary and $\\Lambda$ is rectangular diagonal."
   ]
  },
  {
   "cell_type": "markdown",
   "id": "conceptual-truck",
   "metadata": {
    "slideshow": {
     "slide_type": "subslide"
    }
   },
   "source": [
    "The SVD transformation matrices define the pairs of hole and electron NTOs\n",
    "\n",
    "$$\n",
    "\\bar{\\phi}_\\mathrm{h}^T = \\bar{\\phi}_\\mathrm{occ}^T U; \\quad\n",
    "\\bar{\\phi}_\\mathrm{e} = V^T \\bar{\\phi}_\\mathrm{unocc}\n",
    "$$\n",
    "\n",
    "such that\n",
    "\n",
    "\\begin{equation}\n",
    "    \\langle f | \\hat{\\mu}_\\alpha | 0 \\rangle =\n",
    "    \\int\n",
    "    \\hat{\\mu}_\\alpha\n",
    "    \\bar{\\phi}_\\mathrm{h}^T\n",
    "    \\Lambda\n",
    "    \\bar{\\phi}_\\mathrm{e} \\;\n",
    "    d^3\\mathbf{r}\n",
    "\\end{equation}\n",
    "\n",
    "In our CVS example, we get \n",
    "\n",
    "$$\n",
    "\\bar{\\phi}_\\mathrm{occ}^T = (\\sigma_g, \\sigma_u) ; \\quad\n",
    "\\Lambda =\n",
    "\\begin{bmatrix}\n",
    " \\lambda_1 & 0 & 0 & 0 & 0 & 0 \\\\\n",
    " 0 & \\lambda_2 & 0 & 0 & 0 & 0 \\\\\n",
    "\\end{bmatrix}; \\quad\n",
    "\\bar{\\phi}_\\mathrm{unocc}^T = (\\pi^*, 2b_{2u}, 4a_{g}, 3b_{3u}, 4b_{3u}, 2b_{1g})\n",
    "$$\n",
    "\n",
    "and the associated contributing electron orbital becomes\n",
    "\n",
    "$$\n",
    "\\phi_\\mathrm{e} = \\sum_s T_{f,is} \\phi_s; \\quad i=2\n",
    "$$"
   ]
  },
  {
   "cell_type": "code",
   "execution_count": 13,
   "id": "standing-afghanistan",
   "metadata": {
    "slideshow": {
     "slide_type": "subslide"
    }
   },
   "outputs": [
    {
     "name": "stdout",
     "output_type": "stream",
     "text": [
      "Unitary matrix for occupied MOs:\n",
      " [[ 0. -1.]\n",
      " [ 1.  0.]]\n",
      "Lambda diagonal elements:\n",
      " [0.7067 0.    ]\n",
      "Unitary matrix for unoccupied MOs:\n",
      " [[-1.     -0.      0.     -0.      0.     -0.    ]\n",
      " [-0.      0.0124 -0.9686  0.1776 -0.1157  0.1292]\n",
      " [-0.      0.9686  0.0732  0.1699 -0.1107  0.1236]\n",
      " [-0.     -0.1776  0.1699  0.9688  0.0203 -0.0227]\n",
      " [ 0.      0.1157 -0.1107  0.0203  0.9868  0.0148]\n",
      " [-0.     -0.1292  0.1236 -0.0227  0.0148  0.9835]]\n"
     ]
    }
   ],
   "source": [
    "Zf = Xf_CVS[:ncore*nvirt]\n",
    "Yf = Xf_CVS[ncore*nvirt:]\n",
    "T = np.reshape(Zf - Yf, (ncore,nvirt))\n",
    "U, L, VT = np.linalg.svd(T)\n",
    "\n",
    "print('Unitary matrix for occupied MOs:\\n', U)\n",
    "print('Lambda diagonal elements:\\n', L)\n",
    "print('Unitary matrix for unoccupied MOs:\\n', VT)"
   ]
  },
  {
   "cell_type": "code",
   "execution_count": null,
   "id": "formal-testing",
   "metadata": {
    "slideshow": {
     "slide_type": "skip"
    }
   },
   "outputs": [],
   "source": []
  }
 ],
 "metadata": {
  "celltoolbar": "Slideshow",
  "kernelspec": {
   "display_name": "Python 3",
   "language": "python",
   "name": "python3"
  },
  "language_info": {
   "codemirror_mode": {
    "name": "ipython",
    "version": 3
   },
   "file_extension": ".py",
   "mimetype": "text/x-python",
   "name": "python",
   "nbconvert_exporter": "python",
   "pygments_lexer": "ipython3",
   "version": "3.8.6"
  }
 },
 "nbformat": 4,
 "nbformat_minor": 5
}
