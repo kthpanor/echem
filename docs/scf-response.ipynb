{
 "cells": [
  {
   "cell_type": "markdown",
   "id": "right-reaction",
   "metadata": {
    "slideshow": {
     "slide_type": "slide"
    }
   },
   "source": [
    "# Approximate states\n",
    "Compared to exact-state theory, the first and foremost difference is that, in approximate-state methods, state vectors are in general not eigenstates of the unperturbed Hamiltonian but are rather formed in terms of Slater determinants. Apart from this, the steps to be taken in the derivation of response functions are very similar in the two situations.\n",
    "\n",
    "## SCF approximation\n",
    "In Hartree--Fock and Kohn--Sham density functional theory, the reference state is described by a single Slater determinant, also referred to as the self-consistent field (SCF) approximation. The detailed derivation of response functions in this approximation can be found in {cite}`Norman2018` but the key steps are indicated below.\n",
    "\n",
    "### Parameterization\n",
    "Parameterization of SCF states:\n",
    "\n",
    "\\begin{equation*}\n",
    "\\label{psi-kappa-param}\n",
    "  | \\bar{\\psi}(t) \\rangle =\n",
    "    e^{-i\\hat{\\kappa}(t)} |0\\rangle ; \\quad\n",
    "  \\hat{\\kappa}(t) =\n",
    "  \\sum_s^\\mathrm{unocc} \\sum_i^\\mathrm{occ} \\left[\n",
    "    \\kappa_{si}(t) \\hat{a}^\\dagger_s \\hat{a}_i + \\kappa_{si}^*(t) \\hat{a}^\\dagger_i \\hat{a}_s\n",
    "    \\right] ,\n",
    "\\end{equation*}\n",
    "\n",
    "where the creation, $\\hat{a}^\\dagger$, and annihilation, $\\hat{a}$, operators act on unoccupied, secondary, $s$ and occupied, inactive, $i$ molecular orbitals.\n",
    "\n",
    "### Equation of motion\n",
    "The time evolution of the SCF state is determined from the Ehrenfest theorem:\n",
    "\n",
    "\\begin{equation*}\n",
    "\\label{ehren-equiv}\n",
    "  \\frac{\\partial}{\\partial t} \n",
    "  \\langle \\bar{\\psi}(t) | \\hat{\\Omega}_{pq}^\\dagger | \\bar{\\psi}(t) \\rangle \n",
    "  -\n",
    "  \\langle \\bar{\\psi}(t) | \n",
    "  \\frac{\\partial \\hat{\\Omega}_{pq}^\\dagger}{\\partial t} \n",
    "  | \\bar{\\psi}(t) \\rangle = \n",
    "  \\frac{1}{i\\hbar}\n",
    "    \\langle \\bar{\\psi}(t) | [\\hat{\\Omega}_{pq}^\\dagger, \\hat{H}] \n",
    "    | \\bar{\\psi}(t) \\rangle \n",
    "\\end{equation*}\n",
    "\n",
    "We require that this equation is fulfilled for the set of time-transformed electron-transfer operators\n",
    "\n",
    "\\begin{equation*}\n",
    "    \\hat{\\Omega}_{si}^\\dagger = \n",
    "  e^{-i\\hat{\\kappa}} \\, \\hat{a}^\\dagger_s \\hat{a}_i \\, e^{i\\hat{\\kappa}}\n",
    "\\end{equation*}\n",
    "\n",
    "as well as the corresponding Hermitian conjugate. There will be two equations associated with each single-electron excited determinant, so there are twice as  many equations as there are unknown *complex* parameters, $\\kappa_{si}(t)$, with independent real and imaginary parts in the time-dependent phase-isolated wave function, $| \\bar{\\psi}(t) \\rangle$.\n",
    "\n",
    "At this point, we adopt perturbation theory:\n",
    "\n",
    "\\begin{equation*}\n",
    "  \\kappa_{si}(t) = \\kappa_{si}^{(1)} + \\kappa_{si}^{(2)} + \\kappa_{si}^{(3)} + \\cdots ,\n",
    "\\end{equation*}\n",
    "\n",
    "which, after finding a first-order solution in the frequency domain, will eventually results in\n",
    "\n",
    "\\begin{equation*}\n",
    "  \\kappa^{(1)}(\\omega) = - i\n",
    "  \\left(E^{[2]} - \\hbar \\omega S^{[2]}\\right)^{-1} \n",
    "  V^{\\omega, [1]} .\n",
    "\\end{equation*}\n",
    "\n",
    "The vector $\\kappa^{(1)}$ collects the set of parameters and their complex conjugate and matrices $E^{[2]}$ and $S^{[2]}$ are known as the electronic Hessian and overlap matrices, respectively, and $V^{\\omega, [1]}$ is known as the property gradient of the perturbation operator.\n",
    "\n",
    "### Response functions\n",
    " The response functions of an observable $\\hat{\\Omega}$ are defined by:\n",
    "\n",
    "\\begin{equation*}\n",
    "  \\langle \\bar{\\psi}(t) | \\hat{\\Omega} | \\bar{\\psi}(t) \\rangle =\n",
    "  \\langle 0 | \\hat{\\Omega} | 0 \\rangle + \n",
    "  \\sum_{\\omega}\n",
    "  \\langle \\langle \\hat{\\Omega}; \\hat{V}^{\\omega} \\rangle \\rangle \n",
    "  F^{\\omega}\n",
    "  e^{-i\\omega t} + \\cdots \n",
    "\\end{equation*}\n",
    "\n",
    "and we are able to identify the following expression for the linear response function\n",
    "\n",
    "\\begin{equation*}\n",
    "  \\langle \\langle \\hat{\\Omega}; \\hat{V}^{\\omega} \\rangle\n",
    "  \\rangle  = -\n",
    "\\left[\\Omega^{[1]}\\right]^\\dagger\n",
    "   \\left(E^{[2]} - \\hbar \\omega S^{[2]}\\right)^{-1} V^{\\omega, [1]} ,\n",
    "\\end{equation*}\n",
    "\n",
    "where $\\Omega^{[1]}$ (analogously to  $V^{\\omega, [1]}$) is known as the property gradients associated with the observable. This expression for the linear response functions is also known as the random phase approximation (RPA) equation in the case a Hartree--Fock reference state. It is the principal equation to be solved in time-dependent Hartree--Fock (TDHF) and time-dependent density functional theory (TDDFT) theories. Explicit expressions for the vector matrix elements in the TDHF approximaiton are given below."
   ]
  },
  {
   "cell_type": "markdown",
   "id": "distinguished-vietnamese",
   "metadata": {
    "slideshow": {
     "slide_type": "slide"
    }
   },
   "source": [
    "### Matrix elements\n",
    "#### Electronic Hessian\n",
    "The electronic Hessian reads\n",
    "\n",
    "\\begin{eqnarray*}\n",
    "E^{[2]} & = &\n",
    "\t\\begin{pmatrix}\n",
    "    \\rule[-5pt]{0pt}{20pt}\n",
    "\t\\rule{5pt}{0pt}\n",
    "\tA & B \\rule{5pt}{0pt}\n",
    "\t\\\\\n",
    "    \\rule[-10pt]{0pt}{25pt}\n",
    "    \\rule{5pt}{0pt}    \n",
    "\tB^* & A^* \\\\\n",
    "\t\\end{pmatrix} = -\n",
    "  \\begin{pmatrix}\n",
    "    \\rule[-10pt]{0pt}{20pt}\n",
    "     \\langle 0 | [\\hat{q}_{n},\n",
    "       [\\hat{q}_{m}^\\dagger, \\hat{H}_0]] | 0 \\rangle\n",
    "     &\n",
    "     \\langle 0 | [\\hat{q}_{n},\n",
    "       [\\hat{q}_{m}, \\hat{H}_0]] | 0 \\rangle \\\\\n",
    "    \\rule[-5pt]{0pt}{20pt}\n",
    "     \\langle 0 | [\\hat{q}_{n}^\\dagger,\n",
    "       [\\hat{q}_{m}^\\dagger, \\hat{H}_0]] | 0 \\rangle\n",
    "     &\n",
    "     \\langle 0 | [\\hat{q}_{n}^\\dagger,\n",
    "       [\\hat{q}_{m}, \\hat{H}_0]] | 0 \\rangle \\\\\n",
    "  \\end{pmatrix}\n",
    "  \\\\\n",
    "&\t= &\n",
    "    \\begin{pmatrix}\n",
    "    \\rule[-10pt]{0pt}{30pt}\n",
    "    \\langle 0_i^s | \\hat{H}_0 | 0_j^t \\rangle - \n",
    "    \\langle 0 | \\hat{H}_0 | 0 \\rangle \\delta_{st}\\delta_{ij} \n",
    "    & \n",
    "     -\\langle 0_{ij}^{st} | \\hat{H}_0 | 0 \\rangle \n",
    "    (1 - \\delta_{ij})(1-\\delta_{st}) \n",
    "    \\\\\n",
    "    \\rule[-10pt]{0pt}{30pt}\n",
    "    -\\langle 0 | \\hat{H}_0 | 0_{ij}^{st} \\rangle \n",
    "    (1 - \\delta_{ij})(1-\\delta_{st}) \n",
    "     & \n",
    "    \\langle 0_j^t | \\hat{H}_0 | 0_i^s \\rangle - \n",
    "    \\langle 0 | \\hat{H}_0 | 0 \\rangle \\delta_{st}\\delta_{ij} \n",
    "    \\\\\n",
    "  \\end{pmatrix} \n",
    "\\end{eqnarray*}\n",
    "\n",
    "- The Hessian matrix is Hermitian and has an internal structure in terms of the matrix blocks $A$ and $B$\n",
    "- The diagonal elements correspond to differences in energy between the single-excited determinants $|0_i^s\\rangle$ and the reference state $|0\\rangle$\n",
    "- The $A$-block corresponds to the CIS approximation\n",
    "\n",
    "In the Hartree–Fock approximation, the Hessian can be expressed as the differences in orbital energies corrected by an anti-symmetrized two-electron integral\n",
    "\n",
    "$$\n",
    "E^{[2]} = \n",
    "\\begin{pmatrix}\n",
    "    \\rule[-10pt]{0pt}{30pt}\n",
    "    F_{st} \\delta_{ij} \\!-\\! F_{ji}\\delta_{st} \\!-\\! \\langle sj || ti\n",
    "    \\rangle \n",
    "    & \n",
    "    -\\langle st||ij \\rangle \n",
    "    \\\\\n",
    "    \\rule[-10pt]{0pt}{30pt}\n",
    "    -\\langle ij||st \\rangle \n",
    "    & \n",
    "    F_{ts} \\delta_{ij}\\! -\\! F_{ij} \\delta_{st} \n",
    "    \\! - \\! \\langle ti || sj \\rangle \n",
    "    \\\\\n",
    "\\end{pmatrix}\n",
    "$$\n",
    "\n",
    "- The anti-symmetrized ERI gives the correct asymptotic behavior for charge-transfer excitations\n",
    "- At the level of DFT, the exchange–correlation functional is introduced and the asymptotic behavior becomes incorrect\n",
    "\n",
    "#### Overlap matrix\n",
    "\n",
    "The overlap matrix in the SCF approximation is trivial and equal to\n",
    "\n",
    "\\begin{eqnarray*}\n",
    "\\label{S2}\n",
    "S^{[2]} & = &\n",
    "  \\begin{pmatrix}\n",
    "    \\rule[-10pt]{0pt}{20pt}\n",
    "     \\langle 0 | [\\hat{q}_{n}, \\hat{q}_{m}^\\dagger] | 0 \\rangle\n",
    "     &\n",
    "     \\langle 0 | [\\hat{q}_{n}, \\hat{q}_{m}] | 0 \\rangle \\\\\n",
    "    \\rule[-5pt]{0pt}{20pt}\n",
    "     \\langle 0 | [\\hat{q}_{n}^\\dagger, \\hat{q}_{m}^\\dagger] | 0 \\rangle\n",
    "     &\n",
    "     \\langle 0 | [\\hat{q}_{n}^\\dagger, \\hat{q}_{m}] | 0 \\rangle \\\\\n",
    "  \\end{pmatrix} =\n",
    "\t\\begin{pmatrix}\n",
    "    \\rule[-5pt]{0pt}{20pt}\n",
    "\t\\rule{5pt}{0pt}\n",
    "\t1 & 0 \\rule{5pt}{0pt}\n",
    "\t\\\\\n",
    "    \\rule[-10pt]{0pt}{25pt}\n",
    "    \\rule{5pt}{0pt}    \n",
    "\t0 & -1 \\\\\n",
    "\t\\end{pmatrix} ,\n",
    "\\end{eqnarray*}\n",
    "\n",
    "where the \"1\" and the \"0\" are here understood to be the identity and zero matrices, respectively, of the same rank as sub-blocks A and B in the electronic Hessian.\n",
    "\n",
    "#### Property gradient\n",
    "\n",
    "In the SCF approximation, the property gradient takes the form\n",
    "\n",
    "\\begin{equation*}\n",
    "  V^{[1]} =\n",
    "  \\begin{pmatrix}\n",
    "    \\rule[-10pt]{0pt}{20pt}\n",
    "     \\langle 0 | [\\hat{a}_{i}^\\dagger\\hat{a}_{s}, \\hat{V}] | 0 \\rangle\n",
    "       \\\\\n",
    "    \\rule[-5pt]{0pt}{20pt}\n",
    "     \\langle 0 | [\\hat{a}_{s}^\\dagger\\hat{a}_{i}, \\hat{V}] | 0 \\rangle\n",
    "  \\\\\n",
    "  \\end{pmatrix} =\n",
    "  \\begin{pmatrix}\n",
    "    \\rule[-5pt]{0pt}{15pt}\n",
    "     \\langle 0_i^s | \\hat{V} | 0 \\rangle\n",
    "       \\\\\n",
    "    \\rule[-5pt]{0pt}{0pt}\n",
    "     -\\langle 0 | \\hat{V} | 0_i^s \\rangle\n",
    "    \\\\\n",
    "  \\end{pmatrix} =\n",
    "      \\begin{pmatrix}\n",
    "    \\rule[-5pt]{0pt}{15pt}\n",
    "    g\n",
    "       \\\\\n",
    "    \\rule[-5pt]{0pt}{0pt}\n",
    "     -g^*\n",
    "\\\\\n",
    "  \\end{pmatrix}\n",
    "\\end{equation*}\n",
    "\n",
    "```{note}\n",
    "It is a common practice to adopt the use of spin-adapted electron excitation vectors as a means to reduce the dimension of matrices and vectors. The expressions for the matrix elements then become modified accordingly.\n",
    "```"
   ]
  },
  {
   "cell_type": "markdown",
   "id": "regular-williams",
   "metadata": {
    "slideshow": {
     "slide_type": "slide"
    }
   },
   "source": [
    "#### Numerical example\n",
    "Let us consider ethylene in a minimal basis set. We perform an SCF optimization of the Hartree--Fock reference state with use of the VeloxChem program. The dictonary `scf_tensors` contains information of the SCF calculation and we retrieve the orbital energies."
   ]
  },
  {
   "cell_type": "code",
   "execution_count": 157,
   "id": "entertaining-veteran",
   "metadata": {
    "slideshow": {
     "slide_type": "fragment"
    }
   },
   "outputs": [],
   "source": [
    "from mpi4py import MPI\n",
    "comm = MPI.COMM_WORLD\n",
    "\n",
    "import veloxchem as vlx\n",
    "ostream = vlx.OutputStream('/dev/null') # we will suppress program output\n",
    "\n",
    "import numpy as np"
   ]
  },
  {
   "cell_type": "code",
   "execution_count": 160,
   "id": "senior-husband",
   "metadata": {
    "slideshow": {
     "slide_type": "fragment"
    }
   },
   "outputs": [
    {
     "name": "stdout",
     "output_type": "stream",
     "text": [
      "                                                                                                                          \n",
      "                                            Self Consistent Field Driver Setup                                            \n",
      "                                           ====================================                                           \n",
      "                                                                                                                          \n",
      "                   Wave Function Model             : Spin-Restricted Hartree-Fock                                         \n",
      "                   Initial Guess Model             : Superposition of Atomic Densities                                    \n",
      "                   Convergence Accelerator         : Two Level Direct Inversion of Iterative Subspace                     \n",
      "                   Max. Number of Iterations       : 50                                                                   \n",
      "                   Max. Number of Error Vectors    : 10                                                                   \n",
      "                   Convergence Threshold           : 1.0e-06                                                              \n",
      "                   ERI Screening Scheme            : Cauchy Schwarz + Density                                             \n",
      "                   ERI Screening Mode              : Dynamic                                                              \n",
      "                   ERI Screening Threshold         : 1.0e-12                                                              \n",
      "                   Linear Dependence Threshold     : 1.0e-06                                                              \n",
      "                                                                                                                          \n",
      "* Info * Nuclear repulsion energy: 33.3086336071 au                                                                       \n",
      "                                                                                                                          \n",
      "* Info * Overlap matrix computed in 0.00 sec.                                                                             \n",
      "                                                                                                                          \n",
      "* Info * Kinetic energy matrix computed in 0.00 sec.                                                                      \n",
      "                                                                                                                          \n",
      "* Info * Nuclear potential matrix computed in 0.00 sec.                                                                   \n",
      "                                                                                                                          \n",
      "* Info * Orthogonalization matrix computed in 0.00 sec.                                                                   \n",
      "                                                                                                                          \n",
      "* Info * SAD initial guess computed in 0.00 sec.                                                                          \n",
      "                                                                                                                          \n",
      "* Info * Starting Reduced Basis SCF calculation...                                                                        \n",
      "* Info * ...done. SCF energy in reduced basis set: -77.069246351663 au. Time: 0.11 sec.                                   \n",
      "                                                                                                                          \n",
      "* Info * Overlap matrix computed in 0.00 sec.                                                                             \n",
      "                                                                                                                          \n",
      "* Info * Kinetic energy matrix computed in 0.00 sec.                                                                      \n",
      "                                                                                                                          \n",
      "* Info * Nuclear potential matrix computed in 0.00 sec.                                                                   \n",
      "                                                                                                                          \n",
      "* Info * Orthogonalization matrix computed in 0.00 sec.                                                                   \n",
      "                                                                                                                          \n",
      "                                                                                                                          \n",
      "               Iter. | Hartree-Fock Energy | Energy Change | Gradient Norm | Max. Gradient | Density Change               \n",
      "               --------------------------------------------------------------------------------------------               \n",
      "                  1       -77.069246358896    0.0000000000      0.00003966      0.00000963      0.00000000                \n",
      "                  2       -77.069246359247   -0.0000000004      0.00000279      0.00000073      0.00003065                \n",
      "                  3       -77.069246359249   -0.0000000000      0.00000012      0.00000003      0.00000184                \n",
      "                                                                                                                          \n",
      "               *** SCF converged in 3 iterations. Time: 0.07 sec.                                                         \n",
      "                                                                                                                          \n",
      "               Spin-Restricted Hartree-Fock:                                                                              \n",
      "               -----------------------------                                                                              \n",
      "               Total Energy                       :      -77.0692463592 au                                                \n",
      "               Electronic Energy                  :     -110.3778799663 au                                                \n",
      "               Nuclear Repulsion Energy           :       33.3086336071 au                                                \n",
      "               ------------------------------------                                                                       \n",
      "               Gradient Norm                      :        0.0000001189 au                                                \n",
      "                                                                                                                          \n",
      "               Ground State Information                                                                                   \n",
      "               ------------------------                                                                                   \n",
      "               Charge of Molecule            :  0.0                                                                       \n",
      "               Multiplicity (2S+1)           :  1.0                                                                       \n",
      "               Magnetic Quantum Number (M_S) :  0.0                                                                       \n",
      "                                                                                                                          \n",
      "                                                                                                                          \n",
      "                                                 Spin Restricted Orbitals                                                 \n",
      "                                                 ------------------------                                                 \n",
      "                                                                                                                          \n",
      "               Molecular Orbital No.   4:                                                                                 \n",
      "               --------------------------                                                                                 \n",
      "               Occupation: 2.0 Energy:   -0.74975 au                                                                      \n",
      "               (   1 C   2s  :     0.42) (   1 C   1p+1:     0.20) (   2 C   2s  :    -0.42)                              \n",
      "               (   2 C   1p+1:     0.20) (   3 H   1s  :     0.22) (   4 H   1s  :     0.22)                              \n",
      "               (   5 H   1s  :    -0.22) (   6 H   1s  :    -0.22)                                                        \n",
      "                                                                                                                          \n",
      "               Molecular Orbital No.   5:                                                                                 \n",
      "               --------------------------                                                                                 \n",
      "               Occupation: 2.0 Energy:   -0.60874 au                                                                      \n",
      "               (   1 C   1p-1:     0.39) (   2 C   1p-1:     0.39) (   3 H   1s  :     0.26)                              \n",
      "               (   4 H   1s  :    -0.26) (   5 H   1s  :    -0.26) (   6 H   1s  :     0.26)                              \n",
      "                                                                                                                          \n",
      "               Molecular Orbital No.   6:                                                                                 \n",
      "               --------------------------                                                                                 \n",
      "               Occupation: 2.0 Energy:   -0.52384 au                                                                      \n",
      "               (   1 C   1p+1:     0.51) (   2 C   1p+1:    -0.51) (   3 H   1s  :     0.21)                              \n",
      "               (   4 H   1s  :     0.21) (   5 H   1s  :     0.21) (   6 H   1s  :     0.21)                              \n",
      "                                                                                                                          \n",
      "               Molecular Orbital No.   7:                                                                                 \n",
      "               --------------------------                                                                                 \n",
      "               Occupation: 2.0 Energy:   -0.47291 au                                                                      \n",
      "               (   1 C   1p-1:     0.39) (   2 C   1p-1:    -0.39) (   3 H   1s  :     0.34)                              \n",
      "               (   4 H   1s  :    -0.34) (   5 H   1s  :     0.34) (   6 H   1s  :    -0.34)                              \n",
      "                                                                                                                          \n",
      "               Molecular Orbital No.   8:                                                                                 \n",
      "               --------------------------                                                                                 \n",
      "               Occupation: 2.0 Energy:   -0.31834 au                                                                      \n",
      "               (   1 C   1p0 :    -0.64) (   2 C   1p0 :    -0.64)                                                        \n",
      "                                                                                                                          \n",
      "               Molecular Orbital No.   9:                                                                                 \n",
      "               --------------------------                                                                                 \n",
      "               Occupation: 0.0 Energy:    0.31057 au                                                                      \n",
      "               (   1 C   1p0 :    -0.81) (   2 C   1p0 :     0.81)                                                        \n",
      "                                                                                                                          \n",
      "               Molecular Orbital No.  10:                                                                                 \n",
      "               --------------------------                                                                                 \n",
      "               Occupation: 0.0 Energy:    0.65780 au                                                                      \n",
      "               (   1 C   1p-1:    -0.73) (   2 C   1p-1:    -0.73) (   3 H   1s  :     0.64)                              \n",
      "               (   4 H   1s  :    -0.64) (   5 H   1s  :    -0.64) (   6 H   1s  :     0.64)                              \n",
      "                                                                                                                          \n",
      "               Molecular Orbital No.  11:                                                                                 \n",
      "               --------------------------                                                                                 \n",
      "               Occupation: 0.0 Energy:    0.69522 au                                                                      \n",
      "               (   1 C   2s  :     0.84) (   1 C   1p+1:     0.51) (   2 C   2s  :     0.84)                              \n",
      "               (   2 C   1p+1:    -0.51) (   3 H   1s  :    -0.63) (   4 H   1s  :    -0.63)                              \n",
      "               (   5 H   1s  :    -0.63) (   6 H   1s  :    -0.63)                                                        \n",
      "                                                                                                                          \n",
      "               Molecular Orbital No.  12:                                                                                 \n",
      "               --------------------------                                                                                 \n",
      "               Occupation: 0.0 Energy:    0.70654 au                                                                      \n",
      "               (   1 C   1s  :     0.17) (   1 C   2s  :    -1.07) (   1 C   1p+1:    -0.21)                              \n",
      "               (   2 C   1s  :    -0.17) (   2 C   2s  :     1.07) (   2 C   1p+1:    -0.21)                              \n",
      "               (   3 H   1s  :     0.65) (   4 H   1s  :     0.65) (   5 H   1s  :    -0.65)                              \n",
      "               (   6 H   1s  :    -0.65)                                                                                  \n",
      "                                                                                                                          \n",
      "               Molecular Orbital No.  13:                                                                                 \n",
      "               --------------------------                                                                                 \n",
      "               Occupation: 0.0 Energy:    0.95189 au                                                                      \n",
      "               (   1 C   2s  :     0.82) (   1 C   1p+1:    -1.13) (   2 C   2s  :    -0.82)                              \n",
      "               (   2 C   1p+1:    -1.13)                                                                                  \n",
      "                                                                                                                          \n"
     ]
    }
   ],
   "source": [
    "mol_str = \"\"\"\n",
    "C        0.67759997    0.00000000    0.00000000\n",
    "C       -0.67759997    0.00000000    0.00000000\n",
    "H        1.21655197    0.92414474    0.00000000\n",
    "H        1.21655197   -0.92414474    0.00000000\n",
    "H       -1.21655197   -0.92414474    0.00000000\n",
    "H       -1.21655197    0.92414474    0.00000000\n",
    "\"\"\"\n",
    "molecule = vlx.Molecule.read_str(mol_str, units='angstrom')\n",
    "basis = vlx.MolecularBasis.read(molecule, \"sto-3g\")\n",
    "\n",
    "scf_drv = vlx.ScfRestrictedDriver()\n",
    "scf_drv.compute(molecule, basis)\n",
    "\n",
    "orbital_energies = scf_drv.scf_tensors['E']\n",
    "C = scf_drv.scf_tensors['C'] # MO coefficients"
   ]
  },
  {
   "cell_type": "markdown",
   "id": "bc3affd2",
   "metadata": {},
   "source": [
    "##### E[2] matrix\n",
    "For a closed-shell system, the dimension of the $A$- and $B$-blocks of the $E^{[2]}$-matrix equals the number of occupied (spatial) orbitals times the number of virtual orbitals or, in other words\n",
    "\n",
    "$$\\mathrm{dim}\\left(E^{[2]}\\right) = 2 \\times n_\\mathrm{occ} \\times n_\\mathrm{virt}$$"
   ]
  },
  {
   "cell_type": "code",
   "execution_count": null,
   "id": "27f8cbe9",
   "metadata": {},
   "outputs": [],
   "source": [
    "nocc = molecule.number_of_alpha_electrons()\n",
    "norb = orbital_energies.shape[0]\n",
    "nvirt = norb - nocc\n",
    "n = nocc * nvirt\n",
    "\n",
    "print('Number of occupied orbitals:', nocc)\n",
    "print('Number of virtual orbitals:', nvirt)\n",
    "print('Dimension of A-block in E2:', n)"
   ]
  },
  {
   "cell_type": "markdown",
   "id": "e7a1fc78",
   "metadata": {},
   "source": [
    "We get the $E^{[2]}$-matrix from the `LinearResponseEigenSolver` class object."
   ]
  },
  {
   "cell_type": "code",
   "execution_count": null,
   "id": "equal-aurora",
   "metadata": {
    "slideshow": {
     "slide_type": "slide"
    }
   },
   "outputs": [],
   "source": [
    "lres_drv = vlx.LinearResponseEigenSolver(comm, ostream)\n",
    "E2 = lres_drv.get_e2(molecule, basis, scf_drv.scf_tensors)\n",
    "\n",
    "# index position for (pi,pi*) excitation\n",
    "idx = (nocc -1) * nvirt\n",
    "\n",
    "print('Dimension of E[2] matrix:', E2.shape)\n",
    "print(f'Diagonal element for the (pi,pi*)-excitation: {E2[idx,idx] : .6f} a.u.')"
   ]
  },
  {
   "cell_type": "markdown",
   "id": "c2fd5182",
   "metadata": {},
   "source": [
    "Alternatively, we can in principle determine the elements of the $E^{[2]}$-matrix from explicit calculations using orbital energies and two-electron integrals in the MO-basis."
   ]
  },
  {
   "cell_type": "code",
   "execution_count": null,
   "id": "c2c3ace6",
   "metadata": {},
   "outputs": [],
   "source": [
    "# ERI integrals in physicist's notation\n",
    "moints_drv = vlx.MOIntegralsDriver()\n",
    "isis = moints_drv.compute_in_mem(molecule, basis, scf_drv.mol_orbs, \"OVOV\")\n",
    "iiss = moints_drv.compute_in_mem(molecule, basis, scf_drv.mol_orbs, \"OOVV\")\n",
    "# Determine the specific diagonal matrix element of E[2] explicitly with\n",
    "# account made for use of spin-adapted excitation operators\n",
    "print(f'Diagonal element (explicit calculation): {2*(orbital_energies[8] - orbital_energies[7]- isis[7,0,7,0] + 2 * iiss[7,7,0,0]) : .6f} a.u.')"
   ]
  },
  {
   "cell_type": "markdown",
   "id": "88cabc30",
   "metadata": {},
   "source": [
    "##### S[2] matrix\n",
    "We construct the trivial $S^{[2]}$-matrix."
   ]
  },
  {
   "cell_type": "code",
   "execution_count": null,
   "id": "sexual-jesus",
   "metadata": {
    "slideshow": {
     "slide_type": "fragment"
    }
   },
   "outputs": [],
   "source": [
    "# factor of 2 due to spin-adaptation\n",
    "S2 = 2 * np.identity(2 * n)\n",
    "S2[n:,n:] *= -1\n",
    "\n",
    "print('Dimension of S[2] matrix:', S2.shape)"
   ]
  },
  {
   "cell_type": "markdown",
   "id": "8efdd3d2",
   "metadata": {},
   "source": [
    "##### V[1] gradient\n",
    "We get the $V^{\\omega,[1]}$-vector from the `LinearResponseSolver` class object. We assume the perturbation operator to equal minus the electric dipole moment operator along the $x$-axis, i.e., the molecular C--C axis."
   ]
  },
  {
   "cell_type": "code",
   "execution_count": null,
   "id": "alpha-relations",
   "metadata": {
    "scrolled": true,
    "slideshow": {
     "slide_type": "fragment"
    }
   },
   "outputs": [],
   "source": [
    "lrs_drv = vlx.LinearResponseSolver(comm, ostream)\n",
    "\n",
    "mu_x = lrs_drv.get_prop_grad('electric dipole', 'x', molecule, basis, scf_drv.scf_tensors)[0]\n",
    "mu_y = lrs_drv.get_prop_grad('electric dipole', 'y', molecule, basis, scf_drv.scf_tensors)[0]\n",
    "mu_z = lrs_drv.get_prop_grad('electric dipole', 'z', molecule, basis, scf_drv.scf_tensors)[0]\n",
    "\n",
    "V1 = -mu_x\n",
    "\n",
    "print('Dimension of V[1] vector:', V1.shape[0])\n",
    "print('Elements for (pi,pi*)-excitation:')\n",
    "print(f'(upper)   g: {V1[idx] : .6f}')\n",
    "print(f'(lower) -g*: {V1[n + idx] : .6f}')"
   ]
  },
  {
   "cell_type": "markdown",
   "id": "997dea1b",
   "metadata": {},
   "source": [
    "Alternatively, we can in principle determine the elements of the $V^{\\omega,[1]}$-vector from explicit calculations using one-electron integrals of the perturbation operator in the MO-basis. The property integrals are available in AO-basis from the `ElectricDipoleIntegralsDriver` class object and we transfer them to the MO-basis with use of the MO-coefficients."
   ]
  },
  {
   "cell_type": "code",
   "execution_count": null,
   "id": "6f96904b",
   "metadata": {},
   "outputs": [],
   "source": [
    "dipole_drv = vlx.ElectricDipoleIntegralsDriver()\n",
    "\n",
    "dipole_matrices = dipole_drv.compute(molecule, basis)\n",
    "x_ao = dipole_matrices.x_to_numpy()\n",
    "x_mo = np.matmul(C.T, np.matmul(x_ao, C))\n",
    "\n",
    "# factor of 2 due to spin-adaptation\n",
    "print(f'MO integral 2 * < pi | x | pi* >: {2 * x_mo[7,8] : .6f}')"
   ]
  },
  {
   "cell_type": "markdown",
   "id": "b409fd9b",
   "metadata": {},
   "source": [
    "### Electric-dipole polarizability\n",
    "The polarizability is determined from the linear response function according to\n",
    "\n",
    "$$\n",
    "\\alpha_{\\alpha\\beta}(\\omega) = -\n",
    "\\langle \\langle \\hat{\\mu}_\\alpha ; \\hat{\\mu}_\\beta \\rangle \\rangle_\\omega\n",
    "$$\n",
    "\n",
    "Here, $\\hat{\\Omega} = \\hat{\\mu}_\\alpha$ and $\\hat{V}^\\omega = - \\hat{\\mu}_\\beta$ are associated with the observable and perturbation, respectively.\n",
    "\n",
    "This linear response function is determined from the RPA matrix\n",
    "\n",
    "$$\n",
    "\\langle\\langle \\hat{\\mu}; \\hat{V}^\\omega \\rangle\\rangle =\n",
    "-{\\mu^{[1]}}^\\dagger\n",
    "\\Big(\n",
    "E^{[2]} - \\omega S^{[2]}\n",
    "\\Big)^{-1}\n",
    "V^{\\omega, [1]}\n",
    "$$\n",
    "\n",
    "In typical applications, the matrix dimension is large and instead of explicitly constructing the Hessian matrix, we solve the linear response equation with iterative techniques\n",
    "\n",
    "$$\n",
    "N(\\omega) =\n",
    "\\Big(\n",
    "E^{[2]} - \\omega S^{[2]}\n",
    "\\Big)^{-1}\n",
    "V^{\\omega,[1]}\n",
    "$$\n",
    "\n",
    "such that\n",
    "\n",
    "$$\n",
    "\\langle\\langle \\hat{\\mu}; \\hat{V}^\\omega \\rangle\\rangle =\n",
    "-{\\mu^{[1]}}^\\dagger N(\\omega)\n",
    "$$\n",
    "\n",
    "A reduced-space iterative algorithm for solving the linear response funciton is available from the `LinearResponseSolver` class object."
   ]
  },
  {
   "cell_type": "code",
   "execution_count": null,
   "id": "f88f3c5e",
   "metadata": {},
   "outputs": [],
   "source": [
    "lrs_drv = vlx.LinearResponseSolver(comm, ostream)\n",
    "lrs_out = lrs_drv.compute(molecule, basis, scf_drv.scf_tensors)"
   ]
  },
  {
   "cell_type": "markdown",
   "id": "c0ea263f",
   "metadata": {},
   "source": [
    "The return result `lrs_out` is a dictonary with the values of the response functions provided from the key `response_functions`."
   ]
  },
  {
   "cell_type": "code",
   "execution_count": null,
   "id": "b035a35f",
   "metadata": {},
   "outputs": [],
   "source": [
    "lrs_out.keys()"
   ]
  },
  {
   "cell_type": "code",
   "execution_count": null,
   "id": "b1623641",
   "metadata": {},
   "outputs": [],
   "source": [
    "alpha_xx = -lrs_out['response_functions'][('x', 'x', 0)]\n",
    "alpha_yy = -lrs_out['response_functions'][('y', 'y', 0)] \n",
    "alpha_zz = -lrs_out['response_functions'][('z', 'z', 0)]\n",
    "\n",
    "print(f\"alpha_xx(0): {alpha_xx : .6f}\")\n",
    "print(f\"alpha_yy(0): {alpha_yy : .6f}\")\n",
    "print(f\"alpha_zz(0): {alpha_zz : .6f}\")"
   ]
  },
  {
   "cell_type": "markdown",
   "id": "7001f844",
   "metadata": {},
   "source": [
    "The solution vectors (or *response vectors*) are available from the key solutions, so that we can also determine the the linear response function values from the multiplication of response vectors with property gradients."
   ]
  },
  {
   "cell_type": "code",
   "execution_count": null,
   "id": "d48be80a",
   "metadata": {},
   "outputs": [],
   "source": [
    "Nx = lrs_out['solutions'][('x', 0)]\n",
    "Ny = lrs_out['solutions'][('y', 0)]\n",
    "Nz = lrs_out['solutions'][('z', 0)]\n",
    "\n",
    "print(f\"alpha_xx(0): {np.dot(mu_x, Nx) : .6f}\")\n",
    "print(f\"alpha_yy(0): {np.dot(mu_y, Ny) : .6f}\")\n",
    "print(f\"alpha_zz(0): {np.dot(mu_z, Nz) : .6f}\")"
   ]
  },
  {
   "cell_type": "markdown",
   "id": "91352b54",
   "metadata": {},
   "source": [
    "In this example, the `LinearResponseSolver` was using its default settings for operators and frequencies, both of which can be changed. We change the value of the optical frequency from the default zero to 0.0656 a.u. with use of the dictionary `rsp_settings`."
   ]
  },
  {
   "cell_type": "code",
   "execution_count": null,
   "id": "4c0b0d8d",
   "metadata": {},
   "outputs": [],
   "source": [
    "lrs_drv = vlx.LinearResponseSolver(comm, ostream)\n",
    "rsp_settings = {'frequencies': [0.0656]}\n",
    "method_settings = {} # Hartree-Fock is default\n",
    "lrs_drv.update_settings(rsp_settings, method_settings)\n",
    "\n",
    "lrs_out = lrs_drv.compute(molecule, basis, scf_drv.scf_tensors)\n",
    "\n",
    "alpha_xx = -lrs_out['response_functions'][('x', 'x', 0.0656)]\n",
    "alpha_yy = -lrs_out['response_functions'][('y', 'y', 0.0656)] \n",
    "alpha_zz = -lrs_out['response_functions'][('z', 'z', 0.0656)]\n",
    "\n",
    "print(f\"alpha_xx(w=0.0656): {alpha_xx : .6f}\")\n",
    "print(f\"alpha_yy(w=0.0656): {alpha_yy : .6f}\")\n",
    "print(f\"alpha_zz(w=0.0656): {alpha_zz : .6f}\")"
   ]
  },
  {
   "cell_type": "markdown",
   "id": "ecdd63ea",
   "metadata": {},
   "source": [
    "Alternatively, in our small example the matrices in the RPA equation ($E^{[2]}$ and $S^{[2]}$) have been formed explicitly and we can thus determine values of linear response functions by straightforward matrix inverse and multiplication."
   ]
  },
  {
   "cell_type": "code",
   "execution_count": null,
   "id": "9c8df626",
   "metadata": {},
   "outputs": [],
   "source": [
    "omega = 0.0656\n",
    "alpha_xx = np.dot(mu_x, np.matmul(np.linalg.inv(E2 - omega * S2), mu_x))\n",
    "alpha_yy = np.dot(mu_y, np.matmul(np.linalg.inv(E2 - omega * S2), mu_y))\n",
    "alpha_zz = np.dot(mu_z, np.matmul(np.linalg.inv(E2 - omega * S2), mu_z))\n",
    "\n",
    "print(f\"alpha_xx(w=0.0656): {alpha_xx : .6f}\")\n",
    "print(f\"alpha_yy(w=0.0656): {alpha_yy : .6f}\")\n",
    "print(f\"alpha_zz(w=0.0656): {alpha_zz : .6f}\")"
   ]
  },
  {
   "cell_type": "markdown",
   "id": "supreme-symposium",
   "metadata": {
    "slideshow": {
     "slide_type": "slide"
    }
   },
   "source": [
    "### Transition energies\n",
    "We denote by $X_e$ the eigenvectors of the generalized eigenvalue equation\n",
    "\n",
    "\\begin{equation}\n",
    "  E^{[2]} X_e = \\lambda_e S^{[2]} X_e, \\quad e = -n,\\ldots,-1,1,\\ldots,n ,\n",
    "\\end{equation}\n",
    " \n",
    "where the matrix dimension is $2n$. We find the set of eigenvalues and eigenvectors by diagonalizing the non-Hermitian matrix $\\left(S^{[2]}\\right)^{-1} E^{[2]}$ according to\n",
    "\n",
    "\\begin{equation}\n",
    "\\label{gen-eig}\n",
    "  X^{-1} \\left[ \\left(S^{[2]}\\right)^{-1} E^{[2]} \\right] X = \n",
    "  \\begin{bmatrix}\n",
    "    \\rule[-5pt]{0pt}{15pt}\n",
    "    \\rule{9pt}{0pt}\n",
    "    \\lambda & \\rule{3pt}{0pt} 0 \\rule{3pt}{0pt} \\\\\n",
    "    \\rule{3pt}{0pt}\n",
    "    0 & -\\lambda \\rule{3pt}{0pt} \\\\\n",
    "  \\end{bmatrix} ,\n",
    "\\end{equation}\n",
    "\n",
    "where $\\lambda$ is a diagonal matrix of dimension $n$ collecting the eigenvalues with positive index and the columns of $X$ store the eigenvectors ($X$ is assumed to be nonsingular). This pairing of eigenvalues has its correspondence in the eigenvectors through\n",
    "\n",
    "\\begin{equation*}\n",
    "  X_e =\n",
    "  \\begin{pmatrix}\n",
    "    \\rule[-5pt]{0pt}{15pt}\n",
    "    Z_e \\\\\n",
    "    \\rule[-5pt]{0pt}{0pt}\n",
    "    Y_e^* \\\\\n",
    "  \\end{pmatrix}\n",
    "\\; \\mbox{with eigenvalue}\\; \\lambda_e\n",
    "; \\qquad\n",
    "  X_{-e} =\n",
    "  \\begin{pmatrix}\n",
    "    \\rule[-5pt]{0pt}{15pt}\n",
    "    Y_{e} \\\\\n",
    "    \\rule[-5pt]{0pt}{0pt}\n",
    "    Z_{e}^* \\\\\n",
    "  \\end{pmatrix} \n",
    "\\; \\mbox{with eigenvalue}\\; -\\!\\lambda_e .\n",
    "\\end{equation*}"
   ]
  },
  {
   "cell_type": "markdown",
   "id": "physical-feature",
   "metadata": {
    "slideshow": {
     "slide_type": "subslide"
    }
   },
   "source": [
    "The matrix $X$ will therefore have the structure\n",
    "\n",
    "\\begin{equation}\n",
    "\\label{X-struct}\n",
    "  X = \n",
    "  \\begin{bmatrix}\n",
    "    \\rule[-5pt]{0pt}{15pt}\n",
    "    \\rule{3pt}{0pt}\n",
    "    Z & \\rule{3pt}{0pt} Y \\rule{3pt}{0pt} \\\\\n",
    "    \\rule{8pt}{0pt}\n",
    "    Y^* & \\rule{3pt}{0pt} Z^* \\rule{3pt}{0pt} \\\\\n",
    "  \\end{bmatrix} .\n",
    "\\end{equation}\n",
    "\n",
    "With an appropriate scaling of the eigenvectors $X_e$, the non-unitary matrix $X$ achieves a simultaneous diagonalization of the two non-commuting matrices $E^{[2]}$ and $S^{[2]}$ as\n",
    "\n",
    "\\begin{equation}\n",
    "\\label{sim-diag}\n",
    "  X^\\dagger E^{[2]} X = \n",
    "  \\begin{bmatrix}\n",
    "    \\rule[-5pt]{0pt}{15pt}\n",
    "    \\rule{9pt}{0pt}\n",
    "    \\lambda & \\rule{3pt}{0pt} 0 \\rule{3pt}{0pt} \\\\\n",
    "    \\rule{3pt}{0pt}\n",
    "    0 & \\lambda \\rule{3pt}{0pt} \\\\\n",
    "  \\end{bmatrix} ; \\qquad\n",
    "  X^\\dagger S^{[2]} X =\n",
    "  \\begin{bmatrix}\n",
    "    \\rule[-5pt]{0pt}{15pt}\n",
    "    \\rule{8pt}{0pt}\n",
    "    I & \\rule{5pt}{0pt} 0 \\rule{3pt}{0pt} \\\\\n",
    "    \\rule{5pt}{0pt}\n",
    "    0 & -I \\rule{3pt}{0pt} \\\\\n",
    "  \\end{bmatrix} .\n",
    "\\end{equation}\n",
    "\n",
    "For each pair of eigenvectors, the second equation involving the metric of the generalized eigenvalue equation defines which of the two that should be indexed with a positive index. We also emphasize that $X^\\dagger \\neq X^{-1}$ and for this reason the $X_e$'s are eigenvectors neither of $E^{[2]}$ nor of $S^{[2]}$, just as the $\\lambda_e$'s are not the eigenvalues of $E^{[2]}$."
   ]
  },
  {
   "cell_type": "code",
   "execution_count": null,
   "id": "prescribed-dominant",
   "metadata": {
    "slideshow": {
     "slide_type": "subslide"
    }
   },
   "outputs": [],
   "source": [
    "eigs, X = np.linalg.eig(np.matmul(np.linalg.inv(S2), E2))\n",
    "print(eigs)\n",
    "\n",
    "# the second smallest positive eigenvalue is the sigma-pi* transition\n",
    "eigs[np.argmin(np.where(eigs>10, eigs, 999))] = 999\n",
    "pos = np.argmin(np.where(eigs>10, eigs, 999))\n",
    "\n",
    "Xf = X[:,pos]\n",
    "Xf =  Xf / np.sqrt(np.matmul(Xf.T,np.matmul(S2,Xf)))\n",
    "\n",
    "print('Eigenvector position:', pos)\n",
    "print(f'sigma_u - pi* transition energy: {eigs[pos] : .4f} a.u. (or {eigs[pos] * au_to_ev : .1f} eV)')\n",
    "print(f'Xf norm under metric S[2] = {np.matmul(Xf.T,np.matmul(S2,Xf)) : .4f}')"
   ]
  },
  {
   "cell_type": "markdown",
   "id": "integral-biotechnology",
   "metadata": {
    "slideshow": {
     "slide_type": "slide"
    }
   },
   "source": [
    "### Transition moments\n",
    "Since $(\\Omega \\Lambda)^{-1} = \\Lambda^{-1} \\Omega^{-1}$, we can form the inverse of the RPA matrix as\n",
    "\n",
    "\\begin{equation}\n",
    "  \\left( E^{[2]} - \\omega S^{[2]} \\right)^{-1} =\n",
    "  X \\left[ X^\\dagger \\left( E^{[2]} - \\omega S^{[2]} \\right) X \\right]^{-1} X^\\dagger\n",
    "\\end{equation}\n",
    "\n",
    "which yields an expression for the linear response function that reads\n",
    "\n",
    "\\begin{eqnarray}\n",
    "\\label{lrf-resolved}\n",
    "  \\langle\n",
    "  \\langle\n",
    "  \\hat{\\Omega}; \\hat{V}\n",
    "  \\rangle\n",
    "  \\rangle & = &\n",
    "  -\n",
    "  \\left[\\Omega^{[1]}\\right]^\\dagger \n",
    "  \\sum_{e=1}^n\n",
    "  \\left(\n",
    "  \\frac{\n",
    "    X_e\n",
    "    X^\\dagger_e\n",
    "    }{\n",
    "    \\lambda_e - \\hbar \\omega\n",
    "    }\n",
    "  +\n",
    "  \\frac{\n",
    "    X_e\n",
    "    X^\\dagger_e \n",
    "    }{\n",
    "    \\lambda_e + \\hbar \\omega\n",
    "    }\n",
    "  \\right) V^{[1]} \n",
    "\\end{eqnarray}\n",
    "\n",
    "This equation suggests that we identify the $\\lambda$-eigenvalues as excitation energies of the system and transition moments in the SCF approximation are identified as\n",
    "\n",
    "\\begin{equation}\n",
    "\\label{tranmom}\n",
    "    \\langle f | \\hat{V} | 0 \\rangle =\n",
    "    X^\\dagger_f V^{[1]}\n",
    "\\end{equation}"
   ]
  },
  {
   "cell_type": "code",
   "execution_count": null,
   "id": "middle-cowboy",
   "metadata": {
    "slideshow": {
     "slide_type": "fragment"
    }
   },
   "outputs": [],
   "source": [
    "tmom = np.dot(Xf, V1)\n",
    "print(f'Transition moment (a.u.): {tmom : .6f}')"
   ]
  },
  {
   "cell_type": "markdown",
   "id": "fabulous-youth",
   "metadata": {
    "slideshow": {
     "slide_type": "slide"
    }
   },
   "source": [
    "### Core–valence separation (CVS) approximation\n",
    "\n",
    "Due to the large energy separation of core and valence electronic states there will be negigiible contribution from the valence-excitaiton channels. "
   ]
  },
  {
   "cell_type": "code",
   "execution_count": null,
   "id": "dietary-english",
   "metadata": {
    "slideshow": {
     "slide_type": "subslide"
    }
   },
   "outputs": [],
   "source": [
    "n = nocc * nvirt\n",
    "c = ncore * nvirt\n",
    "\n",
    "E2_CVS = np.zeros((2 * c, 2 * c))\n",
    "\n",
    "E2_CVS[0:c, 0:c] = E2[0:c, 0:c]\n",
    "E2_CVS[0:c, c:2*c] = E2[0:c, n:n+c]\n",
    "E2_CVS[c:2*c, 0:c] = E2[n:n+c, 0:c]\n",
    "E2_CVS[c:2*c, c:2*c] = E2[n:n+c, n:n+c]\n",
    "\n",
    "S2_CVS = 2 * np.identity(2*c)\n",
    "S2_CVS[c:2*c,c:2*c] *= -1\n",
    "\n",
    "V1_CVS = np.zeros(2*c)\n",
    "V1_CVS[0:c] = V1[0:c]\n",
    "V1_CVS[c:2*c] = V1[n:n+c]\n",
    "\n",
    "eigs_CVS, X_CVS = np.linalg.eig(np.matmul(np.linalg.inv(S2_CVS), E2_CVS))\n",
    "print(eigs_CVS)\n",
    "\n",
    "# the second smallest positive eigenvalue is the sigma-pi* transition\n",
    "eigs_CVS[np.argmin(np.where(eigs_CVS>10, eigs_CVS, 999))] = 999\n",
    "pos = np.argmin(np.where(eigs_CVS>10, eigs_CVS, 999))\n",
    "\n",
    "print('Eigenvector position:', pos)\n",
    "print(f'sigma_u - pi* transition energy in CVS: {eigs_CVS[pos] : .4f} a.u. (or {eigs_CVS[pos] * au_to_ev : .1f} eV)')\n",
    "Xf_CVS = X_CVS[:,pos]\n",
    "Xf_CVS =  Xf_CVS / np.sqrt(np.matmul(Xf_CVS.T, np.matmul(S2_CVS, Xf_CVS)))\n",
    "\n",
    "print(f'Xf norm under metric S[2] = {np.matmul(Xf_CVS.T, np.matmul(S2_CVS, Xf_CVS)) : .4f}')\n",
    "\n",
    "tmom_CVS = np.dot(Xf_CVS, V1_CVS)\n",
    "print(f'Transition moment in CVS (a.u.): {tmom_CVS : .6f}')"
   ]
  },
  {
   "cell_type": "markdown",
   "id": "mediterranean-trinidad",
   "metadata": {
    "slideshow": {
     "slide_type": "slide"
    }
   },
   "source": [
    "### Tamm-Dancoff approximation (TDA)\n",
    "\n",
    "The TDA corresponds to setting $B=0$ in the electronic Hessian and diagonalize matrix block $A$:\n",
    "\n",
    "\\begin{eqnarray}\n",
    "E^{[2]} & = &\n",
    "\t\\begin{pmatrix}\n",
    "    \\rule[-5pt]{0pt}{20pt}\n",
    "\t\\rule{5pt}{0pt}\n",
    "\tA & B \\rule{5pt}{0pt}\n",
    "\t\\\\\n",
    "    \\rule[-10pt]{0pt}{25pt}\n",
    "    \\rule{5pt}{0pt}    \n",
    "\tB^* & A^* \\\\\n",
    "\t\\end{pmatrix}\n",
    "\\end{eqnarray}"
   ]
  },
  {
   "cell_type": "code",
   "execution_count": null,
   "id": "difficult-trouble",
   "metadata": {
    "slideshow": {
     "slide_type": "fragment"
    }
   },
   "outputs": [],
   "source": [
    "# divide by factors of 2 and sqrt(2) to account for normalization of spin-adapted excitation operators\n",
    "E2_CVS_TDA = E2_CVS[0:c, 0:c] / 2\n",
    "V1_CVS_TDA = V1_CVS[0:c] / np.sqrt(2)\n",
    "\n",
    "eigs_CVS_TDA, X_CVS_TDA = np.linalg.eigh(E2_CVS_TDA)\n",
    "print(eigs_CVS_TDA)\n",
    "\n",
    "pos=1\n",
    "print(f'sigma_u - pi* transition energy with CVS and TDA (eV): {eigs_CVS_TDA[pos] * au_to_ev : .4f}')\n",
    "Xf_CVS_TDA = X_CVS_TDA[:,pos]\n",
    "\n",
    "tmom_CVS_TDA = np.dot(Xf_CVS_TDA, V1_CVS_TDA)\n",
    "print(f'Transition moment with CVS and TDA (a.u.): {tmom_CVS_TDA : .6f}')"
   ]
  },
  {
   "cell_type": "markdown",
   "id": "alive-transcription",
   "metadata": {
    "slideshow": {
     "slide_type": "slide"
    }
   },
   "source": [
    "### Natural transition orbitals (NTOs)\n",
    "\n",
    "Collecting occupied and unoccupied (real) MOs as vectors\n",
    "\n",
    "$$\n",
    "\\bar{\\phi}_\\mathrm{occ} = (\\ldots, \\phi_i(\\mathbf{r}),  \\ldots)^T; \\quad\n",
    "\\bar{\\phi}_\\mathrm{unocc} = (\\ldots, \\phi_s(\\mathbf{r}),  \\ldots)^T\n",
    "$$\n",
    "\n",
    "and scattering the (real) RPA eigenvector into a rectangular transition matrix $T$ of dimension $n_\\mathrm{occ} \\times n_\\mathrm{unocc}$\n",
    "\n",
    "$$\n",
    "T_{f, is} = Z_{f, is} - Y_{f, is}\n",
    "$$\n",
    "\n",
    "we can write the transition moment as\n",
    "\n",
    "\\begin{equation}\n",
    "    \\langle f | \\hat{V} | 0 \\rangle =\n",
    "    X^T_f V^{[1]} = \n",
    "    \\big(\n",
    "    Z_f^T, Y_f^T\n",
    "    \\big)\n",
    "    \\begin{pmatrix}\n",
    "    g\\\\-g\n",
    "    \\end{pmatrix}\n",
    "    =\n",
    "    \\big(\n",
    "    Z_f - Y_f\n",
    "    \\big)^T\n",
    "    g\n",
    "    =\n",
    "    \\int\n",
    "    \\hat{\\mu}_\\alpha\n",
    "    \\bar{\\phi}_\\mathrm{occ}^T\n",
    "    T\n",
    "    \\bar{\\phi}_\\mathrm{unocc} \\;\n",
    "    d^3\\mathbf{r}\n",
    "\\end{equation}\n",
    "\n",
    "By means of a singular value decomposition (SVD), we can factorize the transition matrix\n",
    "\n",
    "$$\n",
    "T = U \\Lambda V^T\n",
    "$$\n",
    "\n",
    "where matrices $U$ and $V$ are unitary and $\\Lambda$ is rectangular diagonal."
   ]
  },
  {
   "cell_type": "markdown",
   "id": "conceptual-truck",
   "metadata": {
    "slideshow": {
     "slide_type": "subslide"
    }
   },
   "source": [
    "The SVD transformation matrices define the pairs of hole and electron NTOs\n",
    "\n",
    "$$\n",
    "\\bar{\\phi}_\\mathrm{h}^T = \\bar{\\phi}_\\mathrm{occ}^T U; \\quad\n",
    "\\bar{\\phi}_\\mathrm{e} = V^T \\bar{\\phi}_\\mathrm{unocc}\n",
    "$$\n",
    "\n",
    "such that\n",
    "\n",
    "\\begin{equation}\n",
    "    \\langle f | \\hat{\\mu}_\\alpha | 0 \\rangle =\n",
    "    \\int\n",
    "    \\hat{\\mu}_\\alpha\n",
    "    \\bar{\\phi}_\\mathrm{h}^T\n",
    "    \\Lambda\n",
    "    \\bar{\\phi}_\\mathrm{e} \\;\n",
    "    d^3\\mathbf{r}\n",
    "\\end{equation}\n",
    "\n",
    "In our CVS example, we get \n",
    "\n",
    "$$\n",
    "\\bar{\\phi}_\\mathrm{occ}^T = (\\sigma_g, \\sigma_u) ; \\quad\n",
    "\\Lambda =\n",
    "\\begin{bmatrix}\n",
    " \\lambda_1 & 0 & 0 & 0 & 0 & 0 \\\\\n",
    " 0 & \\lambda_2 & 0 & 0 & 0 & 0 \\\\\n",
    "\\end{bmatrix}; \\quad\n",
    "\\bar{\\phi}_\\mathrm{unocc}^T = (\\pi^*, 2b_{2u}, 4a_{g}, 3b_{3u}, 4b_{3u}, 2b_{1g})\n",
    "$$\n",
    "\n",
    "and the associated contributing electron orbital becomes\n",
    "\n",
    "$$\n",
    "\\phi_\\mathrm{e} = \\sum_s T_{f,is} \\phi_s; \\quad i=2\n",
    "$$"
   ]
  },
  {
   "cell_type": "code",
   "execution_count": null,
   "id": "standing-afghanistan",
   "metadata": {
    "slideshow": {
     "slide_type": "subslide"
    }
   },
   "outputs": [],
   "source": [
    "Zf = Xf_CVS[:ncore*nvirt]\n",
    "Yf = Xf_CVS[ncore*nvirt:]\n",
    "T = np.reshape(Zf - Yf, (ncore,nvirt))\n",
    "U, L, VT = np.linalg.svd(T)\n",
    "\n",
    "print('Unitary matrix for occupied MOs:\\n', U)\n",
    "print('Lambda diagonal elements:\\n', L)\n",
    "print('Unitary matrix for unoccupied MOs:\\n', VT)"
   ]
  },
  {
   "cell_type": "code",
   "execution_count": null,
   "id": "formal-testing",
   "metadata": {
    "slideshow": {
     "slide_type": "skip"
    }
   },
   "outputs": [],
   "source": []
  }
 ],
 "metadata": {
  "celltoolbar": "Slideshow",
  "kernelspec": {
   "display_name": "Python 3",
   "language": "python",
   "name": "python3"
  },
  "language_info": {
   "codemirror_mode": {
    "name": "ipython",
    "version": 3
   },
   "file_extension": ".py",
   "mimetype": "text/x-python",
   "name": "python",
   "nbconvert_exporter": "python",
   "pygments_lexer": "ipython3",
   "version": "3.9.5"
  }
 },
 "nbformat": 4,
 "nbformat_minor": 5
}
