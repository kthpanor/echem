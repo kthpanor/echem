{
 "cells": [
  {
   "cell_type": "markdown",
   "id": "baada2eb",
   "metadata": {},
   "source": [
    "# Hartree--Fock theory\n",
    "\n",
    "## Hartree--Fock equation\n",
    "\n",
    "### Lagrangian\n",
    "\n",
    "### Canonical orbitals\n",
    "\n",
    "## SCF procedure\n",
    "\n",
    "### Start guess\n",
    "\n",
    "### Rothaan--Hall\n",
    "\n",
    "### Convergence acceleration\n"
   ]
  },
  {
   "cell_type": "code",
   "execution_count": null,
   "id": "fe22212a",
   "metadata": {},
   "outputs": [],
   "source": []
  }
 ],
 "metadata": {
  "kernelspec": {
   "display_name": "Python 3",
   "language": "python",
   "name": "python3"
  },
  "language_info": {
   "codemirror_mode": {
    "name": "ipython",
    "version": 3
   },
   "file_extension": ".py",
   "mimetype": "text/x-python",
   "name": "python",
   "nbconvert_exporter": "python",
   "pygments_lexer": "ipython3",
   "version": "3.9.5"
  }
 },
 "nbformat": 4,
 "nbformat_minor": 5
}
