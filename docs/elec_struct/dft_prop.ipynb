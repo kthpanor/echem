{
 "cells": [
  {
   "cell_type": "markdown",
   "id": "75c9992a-8f78-4e17-b8a7-9c64835dea2a",
   "metadata": {
    "tags": []
   },
   "source": [
    "# First-order properties\n",
    "\n",
    "In Kohn–Sham DFT the accessible quantity is the [one-particle density](https://kthpanor.github.io/echem/docs/elec_struct/reduced_density.html#one-particle-density) that here is expressed in terms of the atomic orbitals and their associated density matrix\n",
    "\n",
    "$$\n",
    "n(\\mathbf{r}) =\n",
    "\\sum_{\\alpha, \\beta} D_{\\alpha\\beta} \\chi_\\alpha^\\ast(\\mathbf{r}) \\chi_\\beta(\\mathbf{r})\n",
    "$$\n",
    "\n",
    "Let us determine this density matrix for water at the level of B3LYP/cc-pVDZ."
   ]
  },
  {
   "cell_type": "code",
   "execution_count": 1,
   "id": "d2e9ee83-89b9-4a26-9615-fb1fdcb8dd94",
   "metadata": {
    "tags": [
     "remove-output"
    ]
   },
   "outputs": [
    {
     "name": "stdout",
     "output_type": "stream",
     "text": [
      "* Warning * Environment variable OMP_NUM_THREADS not set.\n",
      "* Warning * Setting OMP_NUM_THREADS to 4.\n"
     ]
    }
   ],
   "source": [
    "import numpy as np\n",
    "import veloxchem as vlx"
   ]
  },
  {
   "cell_type": "code",
   "execution_count": 2,
   "id": "4892c68b-3bfb-405d-a5ae-decb2d2cc1f6",
   "metadata": {
    "scrolled": true,
    "tags": [
     "remove-output"
    ]
   },
   "outputs": [
    {
     "name": "stdout",
     "output_type": "stream",
     "text": [
      "* Info * Reading basis set from file: /Users/panor/opt/miniconda3/envs/echem/lib/python3.9/site-packages/veloxchem/basis/CC-PVDZ\n",
      "                                                                                                                          \n",
      "                                              Molecular Basis (Atomic Basis)                                              \n",
      "                                             ================================                                             \n",
      "                                                                                                                          \n",
      "                                  Basis: CC-PVDZ                                                                          \n",
      "                                                                                                                          \n",
      "                                  Atom Contracted GTOs          Primitive GTOs                                            \n",
      "                                                                                                                          \n",
      "                                   O   (3S,2P,1D)               (17S,4P,1D)                                               \n",
      "                                   H   (2S,1P)                  (4S,1P)                                                   \n",
      "                                                                                                                          \n",
      "                                  Contracted Basis Functions : 24                                                         \n",
      "                                  Primitive Basis Functions  : 48                                                         \n",
      "                                                                                                                          \n",
      "                                                                                                                          \n",
      "                                            Self Consistent Field Driver Setup                                            \n",
      "                                           ====================================                                           \n",
      "                                                                                                                          \n",
      "                   Wave Function Model             : Spin-Restricted Kohn-Sham                                            \n",
      "                   Initial Guess Model             : Superposition of Atomic Densities                                    \n",
      "                   Convergence Accelerator         : Two Level Direct Inversion of Iterative Subspace                     \n",
      "                   Max. Number of Iterations       : 50                                                                   \n",
      "                   Max. Number of Error Vectors    : 10                                                                   \n",
      "                   Convergence Threshold           : 1.0e-06                                                              \n",
      "                   ERI Screening Scheme            : Cauchy Schwarz + Density                                             \n",
      "                   ERI Screening Mode              : Dynamic                                                              \n",
      "                   ERI Screening Threshold         : 1.0e-12                                                              \n",
      "                   Linear Dependence Threshold     : 1.0e-06                                                              \n",
      "                   Exchange-Correlation Functional : B3LYP                                                                \n",
      "                   Molecular Grid Level            : 4                                                                    \n",
      "                                                                                                                          \n",
      "* Info * Nuclear repulsion energy: 9.3436381577 a.u.                                                                      \n",
      "                                                                                                                          \n",
      "* Info * Molecular grid with 35884 points generated in 0.00 sec.                                                          \n",
      "                                                                                                                          \n",
      "* Info * Overlap matrix computed in 0.00 sec.                                                                             \n",
      "                                                                                                                          \n",
      "* Info * Kinetic energy matrix computed in 0.00 sec.                                                                      \n",
      "                                                                                                                          \n",
      "* Info * Nuclear potential matrix computed in 0.00 sec.                                                                   \n",
      "                                                                                                                          \n",
      "* Info * Orthogonalization matrix computed in 0.00 sec.                                                                   \n",
      "                                                                                                                          \n",
      "* Info * SAD initial guess computed in 0.00 sec.                                                                          \n",
      "                                                                                                                          \n",
      "* Info * Starting Reduced Basis SCF calculation...                                                                        \n",
      "* Info * ...done. SCF energy in reduced basis set: -75.979046359571 a.u. Time: 0.09 sec.                                  \n",
      "                                                                                                                          \n",
      "* Info * Overlap matrix computed in 0.00 sec.                                                                             \n",
      "                                                                                                                          \n",
      "* Info * Kinetic energy matrix computed in 0.01 sec.                                                                      \n",
      "                                                                                                                          \n",
      "* Info * Nuclear potential matrix computed in 0.01 sec.                                                                   \n",
      "                                                                                                                          \n",
      "* Info * Orthogonalization matrix computed in 0.00 sec.                                                                   \n",
      "                                                                                                                          \n",
      "                                                                                                                          \n",
      "               Iter. |    Kohn-Sham Energy | Energy Change | Gradient Norm | Max. Gradient | Density Change               \n",
      "               --------------------------------------------------------------------------------------------               \n",
      "                  1       -76.416326165601    0.0000000000      0.18582537      0.02793058      0.00000000                \n",
      "                  2       -76.418982261982   -0.0026560964      0.06122990      0.00848128      0.04508762                \n",
      "                  3       -76.419156814640   -0.0001745527      0.04076078      0.00526273      0.01816255                \n",
      "                  4       -76.419300602738   -0.0001437881      0.00036024      0.00006192      0.00798462                \n",
      "                  5       -76.419300615957   -0.0000000132      0.00001559      0.00000168      0.00008503                \n",
      "                  6       -76.419300615976   -0.0000000000      0.00000146      0.00000018      0.00000342                \n",
      "                  7       -76.419300615977   -0.0000000000      0.00000003      0.00000000      0.00000028                \n",
      "                                                                                                                          \n",
      "               *** SCF converged in 7 iterations. Time: 1.91 sec.                                                         \n",
      "                                                                                                                          \n",
      "               Spin-Restricted Kohn-Sham:                                                                                 \n",
      "               --------------------------                                                                                 \n",
      "               Total Energy                       :      -76.4193006160 a.u.                                              \n",
      "               Electronic Energy                  :      -85.7629387736 a.u.                                              \n",
      "               Nuclear Repulsion Energy           :        9.3436381577 a.u.                                              \n",
      "               ------------------------------------                                                                       \n",
      "               Gradient Norm                      :        0.0000000336 a.u.                                              \n",
      "                                                                                                                          \n",
      "                                                                                                                          \n",
      "               Ground State Information                                                                                   \n",
      "               ------------------------                                                                                   \n",
      "               Charge of Molecule            :  0.0                                                                       \n",
      "               Multiplicity (2S+1)           :  1.0                                                                       \n",
      "               Magnetic Quantum Number (M_S) :  0.0                                                                       \n",
      "                                                                                                                          \n",
      "                                                                                                                          \n",
      "                                                 Spin Restricted Orbitals                                                 \n",
      "                                                 ------------------------                                                 \n",
      "                                                                                                                          \n",
      "               Molecular Orbital No.   1:                                                                                 \n",
      "               --------------------------                                                                                 \n",
      "               Occupation: 2.000 Energy:  -19.12003 a.u.                                                                  \n",
      "               (   1 O   1s  :    -1.00)                                                                                  \n",
      "                                                                                                                          \n",
      "               Molecular Orbital No.   2:                                                                                 \n",
      "               --------------------------                                                                                 \n",
      "               Occupation: 2.000 Energy:   -1.00267 a.u.                                                                  \n",
      "               (   1 O   2s  :     0.44) (   1 O   3s  :     0.33) (   2 H   1s  :     0.21)                              \n",
      "               (   3 H   1s  :     0.21)                                                                                  \n",
      "                                                                                                                          \n",
      "               Molecular Orbital No.   3:                                                                                 \n",
      "               --------------------------                                                                                 \n",
      "               Occupation: 2.000 Energy:   -0.51835 a.u.                                                                  \n",
      "               (   1 O   1p-1:    -0.51) (   1 O   2p-1:    -0.19) (   2 H   1s  :    -0.33)                              \n",
      "               (   3 H   1s  :     0.33)                                                                                  \n",
      "                                                                                                                          \n",
      "               Molecular Orbital No.   4:                                                                                 \n",
      "               --------------------------                                                                                 \n",
      "               Occupation: 2.000 Energy:   -0.36745 a.u.                                                                  \n",
      "               (   1 O   2s  :     0.17) (   1 O   3s  :     0.38) (   1 O   1p0 :    -0.55)                              \n",
      "               (   1 O   2p0 :    -0.35) (   2 H   1s  :    -0.20) (   3 H   1s  :    -0.20)                              \n",
      "                                                                                                                          \n",
      "               Molecular Orbital No.   5:                                                                                 \n",
      "               --------------------------                                                                                 \n",
      "               Occupation: 2.000 Energy:   -0.28945 a.u.                                                                  \n",
      "               (   1 O   1p+1:     0.64) (   1 O   2p+1:     0.49)                                                        \n",
      "                                                                                                                          \n",
      "               Molecular Orbital No.   6:                                                                                 \n",
      "               --------------------------                                                                                 \n",
      "               Occupation: 0.000 Energy:    0.05539 a.u.                                                                  \n",
      "               (   1 O   3s  :    -0.92) (   1 O   1p0 :    -0.24) (   1 O   2p0 :    -0.30)                              \n",
      "               (   2 H   2s  :     0.78) (   3 H   2s  :     0.78)                                                        \n",
      "                                                                                                                          \n",
      "               Molecular Orbital No.   7:                                                                                 \n",
      "               --------------------------                                                                                 \n",
      "               Occupation: 0.000 Energy:    0.13179 a.u.                                                                  \n",
      "               (   1 O   1p-1:     0.36) (   1 O   2p-1:     0.61) (   2 H   2s  :    -1.36)                              \n",
      "               (   3 H   2s  :     1.36)                                                                                  \n",
      "                                                                                                                          \n",
      "               Molecular Orbital No.   8:                                                                                 \n",
      "               --------------------------                                                                                 \n",
      "               Occupation: 0.000 Energy:    0.56904 a.u.                                                                  \n",
      "               (   1 O   1p-1:     0.29) (   1 O   2p-1:     0.37) (   2 H   1s  :    -0.95)                              \n",
      "               (   2 H   2s  :     0.82) (   3 H   1s  :     0.95) (   3 H   2s  :    -0.82)                              \n",
      "                                                                                                                          \n",
      "               Molecular Orbital No.   9:                                                                                 \n",
      "               --------------------------                                                                                 \n",
      "               Occupation: 0.000 Energy:    0.63112 a.u.                                                                  \n",
      "               (   1 O   2s  :     0.24) (   1 O   3s  :    -0.34) (   1 O   1p0 :     0.39)                              \n",
      "               (   2 H   1s  :    -0.79) (   2 H   2s  :     0.59) (   2 H   1p-1:    -0.27)                              \n",
      "               (   3 H   1s  :    -0.79) (   3 H   2s  :     0.59) (   3 H   1p-1:     0.27)                              \n",
      "                                                                                                                          \n",
      "               Molecular Orbital No.  10:                                                                                 \n",
      "               --------------------------                                                                                 \n",
      "               Occupation: 0.000 Energy:    0.90232 a.u.                                                                  \n",
      "               (   1 O   2s  :     0.15) (   1 O   3s  :     0.68) (   1 O   1p0 :    -0.74)                              \n",
      "               (   1 O   2p0 :     1.28) (   2 H   1s  :    -0.58) (   2 H   1p0 :     0.22)                              \n",
      "               (   3 H   1s  :    -0.58) (   3 H   1p0 :     0.22)                                                        \n",
      "                                                                                                                          \n"
     ]
    }
   ],
   "source": [
    "# define a molecular system\n",
    "h2o_xyz = \"\"\"3\n",
    "water\n",
    "O    0.000000000000        0.000000000000        0.000000000000\n",
    "H    0.000000000000        0.740848095288        0.582094932012\n",
    "H    0.000000000000       -0.740848095288        0.582094932012\n",
    "\"\"\"\n",
    "molecule = vlx.Molecule.from_xyz_string(h2o_xyz)\n",
    "basis = vlx.MolecularBasis.read(molecule, \"cc-pvdz\")\n",
    "\n",
    "scf_drv = vlx.ScfRestrictedDriver()\n",
    "scf_drv.xcfun = \"b3lyp\"\n",
    "\n",
    "scf_results = scf_drv.compute(molecule, basis)"
   ]
  },
  {
   "cell_type": "code",
   "execution_count": 3,
   "id": "1750d837-516f-4769-a386-3d1fd2e8292d",
   "metadata": {},
   "outputs": [],
   "source": [
    "D = scf_results[\"D_alpha\"] + scf_results[\"D_beta\"]"
   ]
  },
  {
   "cell_type": "markdown",
   "id": "99c67afa-66d1-4b2c-99d5-6d65385bcc64",
   "metadata": {
    "tags": []
   },
   "source": [
    "An observable associated with a scalar [one-electron operator](https://kthpanor.github.io/echem/docs/elec_struct/operators.html#one-electron-operators) in the coordinate basis \n",
    "\n",
    "$$\n",
    "\\hat{\\Omega} = \\sum_{i=1}^N \\omega(\\mathbf{r}_i)\n",
    "$$\n",
    "\n",
    "takes the form of an expectation value\n",
    "\n",
    "\\begin{align*}\n",
    "\\langle \\hat{\\Omega} \\rangle & =\n",
    "\\int \\omega(\\mathbf{r}) \\, n(\\mathbf{r}) \\,\n",
    "\\mathrm{d}^3 \\mathbf{r} \n",
    "\\end{align*}\n",
    "\n",
    "We will determine the permanent dipole moment along the $z$-axis such that \n",
    "\n",
    "$$\n",
    "\\hat{\\Omega} = \\hat{\\mu}_z ; \\qquad\n",
    "\\omega(\\mathbf{r}) = - e z\n",
    "$$"
   ]
  },
  {
   "cell_type": "markdown",
   "id": "af56cefe-cbf2-4052-a79d-a03d7a5828e7",
   "metadata": {},
   "source": [
    "## Numerical integration\n",
    "\n",
    "In DFT, integrals involving the exchange–correlation kernel are evaluated [numerically](https://kthpanor.github.io/echem/docs/elec_struct/kernel_int.html). The same technique can, however, be used to evaluate first-order properties \n",
    "\n",
    "$$\n",
    "\\langle \\hat{\\Omega} \\rangle\n",
    "\\approx\n",
    "\\sum_{g=1}^P\n",
    "w_g \\, \\omega(\\mathbf{r}_g) \\,\n",
    "n(\\mathbf{r}_g)\n",
    "$$"
   ]
  },
  {
   "cell_type": "code",
   "execution_count": 4,
   "id": "c69310f6-5f8f-417a-9ba5-b879b1915a73",
   "metadata": {},
   "outputs": [],
   "source": [
    "grid_drv = vlx.veloxchemlib.GridDriver()\n",
    "\n",
    "grid_drv.set_level(scf_drv.grid_level)\n",
    "molgrid = grid_drv.generate(molecule)\n",
    "molgrid.partition_grid_points()\n",
    "\n",
    "# grid point weights\n",
    "w_g = molgrid.w_to_numpy()\n",
    "\n",
    "# grid point z-coordinates\n",
    "z_g = molgrid.z_to_numpy()"
   ]
  },
  {
   "cell_type": "code",
   "execution_count": 5,
   "id": "48aa1c9f-7bf1-4767-a272-4d73f53e8ee5",
   "metadata": {},
   "outputs": [
    {
     "name": "stdout",
     "output_type": "stream",
     "text": [
      "Dipole moment:  -1.44687852\n"
     ]
    }
   ],
   "source": [
    "xc_drv = vlx.XCNewIntegrator()\n",
    "\n",
    "# generate AOs on the grid points\n",
    "chi_g = xc_drv.compute_gto_values(molecule, basis, molgrid)\n",
    "\n",
    "# determine the density on the grid points\n",
    "G = np.einsum(\"ab,bg->ag\", D, chi_g)\n",
    "n_g = np.einsum(\"ag,ag->g\", chi_g, G)\n",
    "\n",
    "print(f\"Dipole moment: {-1.0 * np.dot(w_g, z_g * n_g) : 12.8f}\")"
   ]
  },
  {
   "cell_type": "markdown",
   "id": "5fa4d927-c87b-459c-85ea-e2337f5db716",
   "metadata": {},
   "source": [
    "The numerical accuracy in this integration is limited and determined by the quality of the grid. We here adopted the default grid level in VeloxChem."
   ]
  },
  {
   "cell_type": "markdown",
   "id": "7e52a8e0-a861-4a7c-9140-a4e6eeba08b6",
   "metadata": {},
   "source": [
    "## Analytic integration\n",
    "\n",
    "If we combine the expressions for the density and the expectation value, we get\n",
    "\n",
    "\\begin{align*}\n",
    "\\langle \\hat{\\Omega} \\rangle  &=\n",
    "\\sum_{\\alpha,\\beta} D_{\\alpha\\beta}\n",
    "\\langle \\chi_\\alpha | \\hat{\\omega} | \\chi_\\beta \\rangle\n",
    "\\end{align*}\n",
    "\n",
    "In form, this Kohn–Sham DFT expression is identical to the result obtained when considering the expectation value of the operator $\\hat{\\Omega}$ with respect to the many-electron Hatree–Fock wave function. It would be incorrect, however, to think of the Kohn–Sham reference state as the wave function of the system.\n",
    "\n",
    "In practice, this expression is used for the evaluation of first-order properties at the DFT level. The scheme is referred to as *analytic* since the property integrals are determined to double precision on the computer and the only numerical integrations are those performed in the [SCF iterations](https://kthpanor.github.io/echem/docs/elec_struct/dft_scf.html)."
   ]
  },
  {
   "cell_type": "code",
   "execution_count": 6,
   "id": "67a8df28-97de-4c48-8b5a-cc3d07d5d8ba",
   "metadata": {},
   "outputs": [],
   "source": [
    "dipole_drv = vlx.ElectricDipoleIntegralsDriver()\n",
    "\n",
    "dipole_mats = dipole_drv.compute(molecule, basis)\n",
    "\n",
    "mu_z = -1.0 * dipole_mats.z_to_numpy()"
   ]
  },
  {
   "cell_type": "code",
   "execution_count": 7,
   "id": "54abf90f-edbc-440d-8583-33e6fd098cc4",
   "metadata": {},
   "outputs": [
    {
     "name": "stdout",
     "output_type": "stream",
     "text": [
      "Dipole moment:  -1.44687622\n"
     ]
    }
   ],
   "source": [
    "print(f\"Dipole moment: {np.einsum('ab,ab->', D, mu_z) : 12.8f}\")"
   ]
  },
  {
   "cell_type": "markdown",
   "id": "b4577713-4eda-4952-9e0f-8b58beede8a5",
   "metadata": {},
   "source": [
    "The dipole moment obtained from numerical and analytic integrations are seen to be in very close agreement. The error in the numerical integration is in the order of $10^{-6}$ a.u."
   ]
  }
 ],
 "metadata": {
  "kernelspec": {
   "display_name": "Python 3 (ipykernel)",
   "language": "python",
   "name": "python3"
  },
  "language_info": {
   "codemirror_mode": {
    "name": "ipython",
    "version": 3
   },
   "file_extension": ".py",
   "mimetype": "text/x-python",
   "name": "python",
   "nbconvert_exporter": "python",
   "pygments_lexer": "ipython3",
   "version": "3.9.15"
  }
 },
 "nbformat": 4,
 "nbformat_minor": 5
}
