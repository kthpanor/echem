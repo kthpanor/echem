{
 "cells": [
  {
   "cell_type": "markdown",
   "id": "96c75296",
   "metadata": {},
   "source": [
    "# SCF optimization\n",
    "\n",
    "The derivation of the [Kohn–Sham equation](kohn-sham-equation) follows closely the Hartree–Fock counterpart and the orbitals that minimize the DFT energy under the contraint of being orthogonal are eigenfuctions to the Kohn–Sham operator that closely resembles the [Fock operator](lagrangian) from Hartree–Fock theory. The Kohn–Sham operator takes the form\n",
    "\n",
    "$$\n",
    "\\hat{f} = \\hat{h} + \\hat{v}_\\mathrm{xc} + \\sum_{j=1}^N \\big( \\hat{J}_j + c_{\\text{x}} \\hat{K}_j \\big)\n",
    "$$\n",
    "\n",
    "where we note that the exchange term in the Fock operator has been at least partially replaced by the exchange–correlation potential\n",
    "\n",
    "$$\n",
    "v_\\mathrm{xc}(\\mathbf{r}) = \\frac{\\delta E_\\mathrm{xc}}{\\delta n(\\mathbf{r})}\n",
    "$$\n",
    "\n",
    "For *pure* functionals, $c_{\\text{x}} = 0$ whereas for *hybrid* functionals, we have $0 < c_{\\text{x}} < 1$.\n",
    "\n",
    "So an existing module for the [SCF optimization of a Hartree–Fock](scf-procedure) state is made capable to optimize a Kohn–Sham state by modifying the Fock operator accordingly. Let us do just that under the assumption that the exchange–correlation functional merely includes [Slater exchange](https://en.wikipedia.org/wiki/Local-density_approximation#Exchange_functional)\n",
    "\n",
    "$$\n",
    "\\varepsilon_\\mathrm{xc}(n(\\mathbf{r})) =\n",
    "-\\frac{3}{4} \\Big(\\frac{3}{\\pi}\\Big)^{1/3} \\big[n(\\mathbf{r})\\big]^{1/3}\n",
    "$$\n",
    "\n",
    "In the LDA, we have\n",
    "\n",
    "$$\n",
    "v_\\mathrm{xc}(\\mathbf{r}) =\n",
    "\\varepsilon_\\mathrm{xc}(n(\\mathbf{r})) + n(\\mathbf{r})\n",
    "\\frac{\\partial \\varepsilon_\\mathrm{xc}}{\\partial n}\n",
    "$$\n",
    "\n",
    "and, in our particular case, we get\n",
    "\n",
    "$$\n",
    "v_\\mathrm{xc}(\\mathbf{r}) = \\frac{4}{3} \\varepsilon_\\mathrm{xc}(n(\\mathbf{r}))\n",
    "$$\n",
    "\n",
    "where\n",
    "\n",
    "$$\n",
    "n(\\mathbf{r}) = 2 \\times \\sum_{i=1}^{N/2} \\left|\\phi_i(\\mathbf{r})\\right|^2\n",
    "$$"
   ]
  },
  {
   "cell_type": "code",
   "execution_count": 1,
   "id": "2d9879b7",
   "metadata": {
    "tags": [
     "remove-output"
    ]
   },
   "outputs": [
    {
     "name": "stdout",
     "output_type": "stream",
     "text": [
      "* Warning * Environment variable OMP_NUM_THREADS not set.\n",
      "* Warning * Setting OMP_NUM_THREADS to 4.\n"
     ]
    }
   ],
   "source": [
    "import matplotlib.pyplot as plt\n",
    "import numpy as np\n",
    "import veloxchem as vlx"
   ]
  },
  {
   "cell_type": "markdown",
   "id": "670cf53f",
   "metadata": {},
   "source": [
    "## Setting up the system"
   ]
  },
  {
   "cell_type": "code",
   "execution_count": 2,
   "id": "9e1835a7-b640-439b-9637-64d61f3f33db",
   "metadata": {
    "tags": [
     "remove-output"
    ]
   },
   "outputs": [
    {
     "name": "stdout",
     "output_type": "stream",
     "text": [
      "* Info * Reading basis set from file: /home/thomas/Notebook/anaconda/envs/echem/lib/python3.10/site-packages/veloxchem/basis/CC-PVDZ\n",
      "                                                                                                                          \n",
      "                                              Molecular Basis (Atomic Basis)                                              \n",
      "                                             ================================                                             \n",
      "                                                                                                                          \n",
      "                               Basis: CC-PVDZ                                                                             \n",
      "                                                                                                                          \n",
      "                               Atom Contracted GTOs           Primitive GTOs                                              \n",
      "                                                                                                                          \n",
      "                                O   (3S,2P,1D)                (17S,4P,1D)                                                 \n",
      "                                H   (2S,1P)                   (4S,1P)                                                     \n",
      "                                                                                                                          \n",
      "                               Contracted Basis Functions : 24                                                            \n",
      "                               Primitive Basis Functions  : 48                                                            \n",
      "                                                                                                                          \n"
     ]
    }
   ],
   "source": [
    "mol_str = \"\"\"3\n",
    "\n",
    "O    0.000000000000        0.000000000000        0.000000000000\n",
    "H    0.000000000000        0.740848095288        0.582094932012\n",
    "H    0.000000000000       -0.740848095288        0.582094932012\n",
    "\"\"\"\n",
    "\n",
    "molecule = vlx.Molecule.from_xyz_string(mol_str)\n",
    "basis = vlx.MolecularBasis.read(molecule, \"cc-pVDZ\")"
   ]
  },
  {
   "cell_type": "code",
   "execution_count": 3,
   "id": "49cad060-7b5b-4c02-8ab2-3a67a99ab4b7",
   "metadata": {
    "tags": [
     "remove-output"
    ]
   },
   "outputs": [
    {
     "data": {
      "application/3dmoljs_load.v0": "<div id=\"3dmolviewer_167947473114467\"  style=\"position: relative; width: 300px; height: 200px\">\n        <p id=\"3dmolwarning_167947473114467\" style=\"background-color:#ffcccc;color:black\">You appear to be running in JupyterLab (or JavaScript failed to load for some other reason).  You need to install the 3dmol extension: <br>\n        <tt>jupyter labextension install jupyterlab_3dmol</tt></p>\n        </div>\n<script>\n\nvar loadScriptAsync = function(uri){\n  return new Promise((resolve, reject) => {\n    //this is to ignore the existence of requirejs amd\n    var savedexports, savedmodule;\n    if (typeof exports !== 'undefined') savedexports = exports;\n    else exports = {}\n    if (typeof module !== 'undefined') savedmodule = module;\n    else module = {}\n\n    var tag = document.createElement('script');\n    tag.src = uri;\n    tag.async = true;\n    tag.onload = () => {\n        exports = savedexports;\n        module = savedmodule;\n        resolve();\n    };\n  var firstScriptTag = document.getElementsByTagName('script')[0];\n  firstScriptTag.parentNode.insertBefore(tag, firstScriptTag);\n});\n};\n\nif(typeof $3Dmolpromise === 'undefined') {\n$3Dmolpromise = null;\n  $3Dmolpromise = loadScriptAsync('https://cdnjs.cloudflare.com/ajax/libs/3Dmol/2.0.1/3Dmol-min.js');\n}\n\nvar viewer_167947473114467 = null;\nvar warn = document.getElementById(\"3dmolwarning_167947473114467\");\nif(warn) {\n    warn.parentNode.removeChild(warn);\n}\n$3Dmolpromise.then(function() {\nviewer_167947473114467 = $3Dmol.createViewer(document.getElementById(\"3dmolviewer_167947473114467\"),{backgroundColor:\"white\"});\nviewer_167947473114467.zoomTo();\n\tviewer_167947473114467.addModel(\"3\\n\\nO    0.000000000000        0.000000000000        0.000000000000\\nH    0.000000000000        0.740848095288        0.582094932012\\nH    0.000000000000       -0.740848095288        0.582094932012\\n\",\"xyz\");\n\tviewer_167947473114467.setViewStyle({\"style\": \"outline\", \"width\": 0.05});\n\tviewer_167947473114467.setStyle({\"stick\": {}, \"sphere\": {\"scale\": 0.25}});\n\tviewer_167947473114467.rotate(90,\"y\");\n\tviewer_167947473114467.rotate(-90,\"x\");\nviewer_167947473114467.render();\n});\n</script>",
      "text/html": [
       "<div id=\"3dmolviewer_167947473114467\"  style=\"position: relative; width: 300px; height: 200px\">\n",
       "        <p id=\"3dmolwarning_167947473114467\" style=\"background-color:#ffcccc;color:black\">You appear to be running in JupyterLab (or JavaScript failed to load for some other reason).  You need to install the 3dmol extension: <br>\n",
       "        <tt>jupyter labextension install jupyterlab_3dmol</tt></p>\n",
       "        </div>\n",
       "<script>\n",
       "\n",
       "var loadScriptAsync = function(uri){\n",
       "  return new Promise((resolve, reject) => {\n",
       "    //this is to ignore the existence of requirejs amd\n",
       "    var savedexports, savedmodule;\n",
       "    if (typeof exports !== 'undefined') savedexports = exports;\n",
       "    else exports = {}\n",
       "    if (typeof module !== 'undefined') savedmodule = module;\n",
       "    else module = {}\n",
       "\n",
       "    var tag = document.createElement('script');\n",
       "    tag.src = uri;\n",
       "    tag.async = true;\n",
       "    tag.onload = () => {\n",
       "        exports = savedexports;\n",
       "        module = savedmodule;\n",
       "        resolve();\n",
       "    };\n",
       "  var firstScriptTag = document.getElementsByTagName('script')[0];\n",
       "  firstScriptTag.parentNode.insertBefore(tag, firstScriptTag);\n",
       "});\n",
       "};\n",
       "\n",
       "if(typeof $3Dmolpromise === 'undefined') {\n",
       "$3Dmolpromise = null;\n",
       "  $3Dmolpromise = loadScriptAsync('https://cdnjs.cloudflare.com/ajax/libs/3Dmol/2.0.1/3Dmol-min.js');\n",
       "}\n",
       "\n",
       "var viewer_167947473114467 = null;\n",
       "var warn = document.getElementById(\"3dmolwarning_167947473114467\");\n",
       "if(warn) {\n",
       "    warn.parentNode.removeChild(warn);\n",
       "}\n",
       "$3Dmolpromise.then(function() {\n",
       "viewer_167947473114467 = $3Dmol.createViewer(document.getElementById(\"3dmolviewer_167947473114467\"),{backgroundColor:\"white\"});\n",
       "viewer_167947473114467.zoomTo();\n",
       "\tviewer_167947473114467.addModel(\"3\\n\\nO    0.000000000000        0.000000000000        0.000000000000\\nH    0.000000000000        0.740848095288        0.582094932012\\nH    0.000000000000       -0.740848095288        0.582094932012\\n\",\"xyz\");\n",
       "\tviewer_167947473114467.setViewStyle({\"style\": \"outline\", \"width\": 0.05});\n",
       "\tviewer_167947473114467.setStyle({\"stick\": {}, \"sphere\": {\"scale\": 0.25}});\n",
       "\tviewer_167947473114467.rotate(90,\"y\");\n",
       "\tviewer_167947473114467.rotate(-90,\"x\");\n",
       "viewer_167947473114467.render();\n",
       "});\n",
       "</script>"
      ]
     },
     "metadata": {},
     "output_type": "display_data"
    }
   ],
   "source": [
    "import py3Dmol as p3d\n",
    "viewer = p3d.view(width=300, height=200)\n",
    "viewer.addModel(mol_str, 'xyz')\n",
    "viewer.setViewStyle({\"style\": \"outline\", \"width\": 0.05})\n",
    "viewer.setStyle({\"stick\":{},\"sphere\": {\"scale\":0.25}})\n",
    "viewer.rotate(90,'y')\n",
    "viewer.rotate(-90,'x')\n",
    "viewer.show()"
   ]
  },
  {
   "cell_type": "code",
   "execution_count": 4,
   "id": "56ac8090-b919-427d-8b70-d0bd88f458c5",
   "metadata": {
    "tags": []
   },
   "outputs": [
    {
     "name": "stdout",
     "output_type": "stream",
     "text": [
      "Number of orbitals: 24\n",
      "Number of doubly occupied molecular orbitals: 5\n",
      "Nuclear repulsion energy (in a.u.):  9.34363816\n"
     ]
    }
   ],
   "source": [
    "norb = basis.get_dimensions_of_basis(molecule)\n",
    "nocc = molecule.number_of_electrons() // 2\n",
    "V_nuc = molecule.nuclear_repulsion_energy()\n",
    "\n",
    "print(\"Number of orbitals:\", norb)\n",
    "print(\"Number of doubly occupied molecular orbitals:\", nocc)\n",
    "print(f\"Nuclear repulsion energy (in a.u.): {V_nuc : 10.8f}\")"
   ]
  },
  {
   "cell_type": "markdown",
   "id": "ff9035ff",
   "metadata": {},
   "source": [
    "## Reference calculation\n",
    "\n",
    "Let us first perform an reference calculation using the restricted closed-shell SCF driver in VeloxChem."
   ]
  },
  {
   "cell_type": "code",
   "execution_count": 5,
   "id": "43273cce",
   "metadata": {
    "scrolled": true,
    "tags": [
     "remove-output"
    ]
   },
   "outputs": [
    {
     "name": "stdout",
     "output_type": "stream",
     "text": [
      "                                                                                                                          \n",
      "                                            Self Consistent Field Driver Setup                                            \n",
      "                                           ====================================                                           \n",
      "                                                                                                                          \n",
      "                   Wave Function Model             : Spin-Restricted Kohn-Sham                                            \n",
      "                   Initial Guess Model             : Superposition of Atomic Densities                                    \n",
      "                   Convergence Accelerator         : Two Level Direct Inversion of Iterative Subspace                     \n",
      "                   Max. Number of Iterations       : 50                                                                   \n",
      "                   Max. Number of Error Vectors    : 10                                                                   \n",
      "                   Convergence Threshold           : 1.0e-06                                                              \n",
      "                   ERI Screening Scheme            : Cauchy Schwarz + Density                                             \n",
      "                   ERI Screening Mode              : Dynamic                                                              \n",
      "                   ERI Screening Threshold         : 1.0e-12                                                              \n",
      "                   Linear Dependence Threshold     : 1.0e-06                                                              \n",
      "                   Exchange-Correlation Functional : SLATER                                                               \n",
      "                   Molecular Grid Level            : 4                                                                    \n",
      "                                                                                                                          \n",
      "* Info * Nuclear repulsion energy: 9.3436381577 a.u.                                                                      \n",
      "                                                                                                                          \n",
      "* Info * Molecular grid with 35884 points generated in 0.03 sec.                                                          \n",
      "                                                                                                                          \n",
      "* Info * Overlap matrix computed in 0.00 sec.                                                                             \n",
      "                                                                                                                          \n",
      "* Info * Kinetic energy matrix computed in 0.00 sec.                                                                      \n",
      "                                                                                                                          \n",
      "* Info * Nuclear potential matrix computed in 0.00 sec.                                                                   \n",
      "                                                                                                                          \n",
      "* Info * Orthogonalization matrix computed in 0.04 sec.                                                                   \n",
      "                                                                                                                          \n",
      "* Info * SAD initial guess computed in 0.01 sec.                                                                          \n",
      "                                                                                                                          \n",
      "* Info * Starting Reduced Basis SCF calculation...                                                                        \n",
      "* Info * ...done. SCF energy in reduced basis set: -75.979046359571 a.u. Time: 0.18 sec.                                  \n",
      "                                                                                                                          \n",
      "* Info * Overlap matrix computed in 0.01 sec.                                                                             \n",
      "                                                                                                                          \n",
      "* Info * Kinetic energy matrix computed in 0.00 sec.                                                                      \n",
      "                                                                                                                          \n",
      "* Info * Nuclear potential matrix computed in 0.00 sec.                                                                   \n",
      "                                                                                                                          \n",
      "* Info * Orthogonalization matrix computed in 0.00 sec.                                                                   \n",
      "                                                                                                                          \n",
      "                                                                                                                          \n",
      "               Iter. |    Kohn-Sham Energy | Energy Change | Gradient Norm | Max. Gradient | Density Change               \n",
      "               --------------------------------------------------------------------------------------------               \n",
      "                  1       -75.183196085571    0.0000000000      0.22544391      0.03997554      0.00000000                \n",
      "                  2       -75.186586282322   -0.0033901968      0.09835957      0.01167624      0.05532495                \n",
      "                  3       -75.187006467989   -0.0004201857      0.07046475      0.00996280      0.03252522                \n",
      "                  4       -75.187439166552   -0.0004326986      0.00052041      0.00008821      0.01367107                \n",
      "                  5       -75.187439201191   -0.0000000346      0.00004769      0.00000760      0.00016198                \n",
      "                  6       -75.187439201503   -0.0000000003      0.00000397      0.00000049      0.00001878                \n",
      "                  7       -75.187439201506   -0.0000000000      0.00000016      0.00000002      0.00000152                \n",
      "                                                                                                                          \n",
      "               *** SCF converged in 7 iterations. Time: 2.61 sec.                                                         \n",
      "                                                                                                                          \n",
      "               Spin-Restricted Kohn-Sham:                                                                                 \n",
      "               --------------------------                                                                                 \n",
      "               Total Energy                       :      -75.1874392015 a.u.                                              \n",
      "               Electronic Energy                  :      -84.5310773592 a.u.                                              \n",
      "               Nuclear Repulsion Energy           :        9.3436381577 a.u.                                              \n",
      "               ------------------------------------                                                                       \n",
      "               Gradient Norm                      :        0.0000001606 a.u.                                              \n",
      "                                                                                                                          \n",
      "                                                                                                                          \n",
      "               Ground State Information                                                                                   \n",
      "               ------------------------                                                                                   \n",
      "               Charge of Molecule            :  0.0                                                                       \n",
      "               Multiplicity (2S+1)           :  1.0                                                                       \n",
      "               Magnetic Quantum Number (M_S) :  0.0                                                                       \n",
      "                                                                                                                          \n",
      "                                                                                                                          \n",
      "                                                 Spin Restricted Orbitals                                                 \n",
      "                                                 ------------------------                                                 \n",
      "                                                                                                                          \n",
      "               Molecular Orbital No.   1:                                                                                 \n",
      "               --------------------------                                                                                 \n",
      "               Occupation: 2.000 Energy:  -18.50462 a.u.                                                                  \n",
      "               (   1 O   1s  :    -1.01)                                                                                  \n",
      "                                                                                                                          \n",
      "               Molecular Orbital No.   2:                                                                                 \n",
      "               --------------------------                                                                                 \n",
      "               Occupation: 2.000 Energy:   -0.84833 a.u.                                                                  \n",
      "               (   1 O   2s  :    -0.43) (   1 O   3s  :    -0.34) (   2 H   1s  :    -0.21)                              \n",
      "               (   3 H   1s  :    -0.21)                                                                                  \n",
      "                                                                                                                          \n",
      "               Molecular Orbital No.   3:                                                                                 \n",
      "               --------------------------                                                                                 \n",
      "               Occupation: 2.000 Energy:   -0.40931 a.u.                                                                  \n",
      "               (   1 O   1p-1:    -0.51) (   1 O   2p-1:    -0.20) (   2 H   1s  :    -0.32)                              \n",
      "               (   3 H   1s  :     0.32)                                                                                  \n",
      "                                                                                                                          \n",
      "               Molecular Orbital No.   4:                                                                                 \n",
      "               --------------------------                                                                                 \n",
      "               Occupation: 2.000 Energy:   -0.25318 a.u.                                                                  \n",
      "               (   1 O   2s  :     0.17) (   1 O   3s  :     0.39) (   1 O   1p0 :    -0.54)                              \n",
      "               (   1 O   2p0 :    -0.36) (   2 H   1s  :    -0.19) (   3 H   1s  :    -0.19)                              \n",
      "                                                                                                                          \n",
      "               Molecular Orbital No.   5:                                                                                 \n",
      "               --------------------------                                                                                 \n",
      "               Occupation: 2.000 Energy:   -0.17661 a.u.                                                                  \n",
      "               (   1 O   1p+1:    -0.63) (   1 O   2p+1:    -0.50)                                                        \n",
      "                                                                                                                          \n",
      "               Molecular Orbital No.   6:                                                                                 \n",
      "               --------------------------                                                                                 \n",
      "               Occupation: 0.000 Energy:    0.07107 a.u.                                                                  \n",
      "               (   1 O   3s  :     0.90) (   1 O   1p0 :     0.25) (   1 O   2p0 :     0.29)                              \n",
      "               (   2 H   2s  :    -0.77) (   3 H   2s  :    -0.77)                                                        \n",
      "                                                                                                                          \n",
      "               Molecular Orbital No.   7:                                                                                 \n",
      "               --------------------------                                                                                 \n",
      "               Occupation: 0.000 Energy:    0.14719 a.u.                                                                  \n",
      "               (   1 O   1p-1:    -0.38) (   1 O   2p-1:    -0.60) (   2 H   2s  :     1.33)                              \n",
      "               (   3 H   2s  :    -1.33)                                                                                  \n",
      "                                                                                                                          \n",
      "               Molecular Orbital No.   8:                                                                                 \n",
      "               --------------------------                                                                                 \n",
      "               Occupation: 0.000 Energy:    0.57956 a.u.                                                                  \n",
      "               (   1 O   1p-1:     0.29) (   1 O   2p-1:     0.35) (   2 H   1s  :    -0.94)                              \n",
      "               (   2 H   2s  :     0.85) (   3 H   1s  :     0.94) (   3 H   2s  :    -0.85)                              \n",
      "                                                                                                                          \n",
      "               Molecular Orbital No.   9:                                                                                 \n",
      "               --------------------------                                                                                 \n",
      "               Occupation: 0.000 Energy:    0.63728 a.u.                                                                  \n",
      "               (   1 O   2s  :     0.23) (   1 O   3s  :    -0.36) (   1 O   1p0 :     0.41)                              \n",
      "               (   2 H   1s  :    -0.77) (   2 H   2s  :     0.60) (   2 H   1p-1:    -0.27)                              \n",
      "               (   3 H   1s  :    -0.77) (   3 H   2s  :     0.60) (   3 H   1p-1:     0.27)                              \n",
      "                                                                                                                          \n",
      "               Molecular Orbital No.  10:                                                                                 \n",
      "               --------------------------                                                                                 \n",
      "               Occupation: 0.000 Energy:    0.89062 a.u.                                                                  \n",
      "               (   1 O   2s  :     0.16) (   1 O   3s  :     0.67) (   1 O   1p0 :    -0.74)                              \n",
      "               (   1 O   2p0 :     1.26) (   2 H   1s  :    -0.59) (   2 H   1p0 :     0.22)                              \n",
      "               (   3 H   1s  :    -0.59) (   3 H   1p0 :     0.22)                                                        \n",
      "                                                                                                                          \n"
     ]
    }
   ],
   "source": [
    "scf_drv = vlx.ScfRestrictedDriver()\n",
    "scf_drv.xcfun = \"slater\"\n",
    "scf_drv.grid_level = 4\n",
    "scf_drv.conv_thresh = 1.0e-6\n",
    "scf_results = scf_drv.compute(molecule, basis)"
   ]
  },
  {
   "cell_type": "code",
   "execution_count": 7,
   "id": "b7a9c77c",
   "metadata": {
    "tags": []
   },
   "outputs": [
    {
     "name": "stdout",
     "output_type": "stream",
     "text": [
      "Final DFT energy: -75.1874392 Hartree\n"
     ]
    }
   ],
   "source": [
    "print(f\"Final DFT energy: {scf_drv.get_scf_energy() : 10.7f} Hartree\")"
   ]
  },
  {
   "cell_type": "code",
   "execution_count": 8,
   "id": "bbfb1f49",
   "metadata": {
    "tags": [
     "remove-cell"
    ]
   },
   "outputs": [],
   "source": [
    "# =============================================================\n",
    "# integrals in AO basis\n",
    "# =============================================================\n",
    "\n",
    "# overlap matrix\n",
    "overlap_drv = vlx.OverlapIntegralsDriver()\n",
    "S = overlap_drv.compute(molecule, basis).to_numpy()\n",
    "\n",
    "# one-electron Hamiltonian\n",
    "kinetic_drv = vlx.KineticEnergyIntegralsDriver()\n",
    "T = kinetic_drv.compute(molecule, basis).to_numpy()\n",
    "\n",
    "nucpot_drv = vlx.NuclearPotentialIntegralsDriver()\n",
    "V = -nucpot_drv.compute(molecule, basis).to_numpy()\n",
    "\n",
    "h = T + V\n",
    "\n",
    "# two-electron Hamiltonian\n",
    "eri_drv = vlx.ElectronRepulsionIntegralsDriver()\n",
    "g = np.zeros((norb, norb, norb, norb))\n",
    "eri_drv.compute_in_memory(molecule, basis, g)\n",
    "\n",
    "# =============================================================\n",
    "# Fock matrix diagonalization\n",
    "# =============================================================\n",
    "\n",
    "# symmetric transformation\n",
    "sigma, U = np.linalg.eigh(S)\n",
    "X = np.einsum(\"ik,k,jk->ij\", U, 1 / np.sqrt(sigma), U)\n",
    "\n",
    "def get_MO_coeff(F):\n",
    "\n",
    "    F_OAO = np.einsum(\"ki,kl,lj->ij\", X, F, X)\n",
    "    epsilon, C_OAO = np.linalg.eigh(F_OAO)\n",
    "    C = np.einsum(\"ik,kj->ij\", X, C_OAO)\n",
    "\n",
    "    return C\n",
    "\n",
    "# =============================================================\n",
    "# DIIS convergence acceleration\n",
    "# =============================================================\n",
    "\n",
    "def c1diis(F_mats, e_vecs):\n",
    "    n = len(e_vecs)\n",
    "\n",
    "    # build DIIS matrix\n",
    "    B = -np.ones((n + 1, n + 1))\n",
    "    B[n, n] = 0\n",
    "\n",
    "    for i in range(n):\n",
    "        for j in range(n):\n",
    "            B[i, j] = np.dot(e_vecs[i], e_vecs[j])\n",
    "\n",
    "    b = np.zeros(n + 1)\n",
    "    b[n] = -1\n",
    "    w = np.matmul(np.linalg.inv(B), b)\n",
    "\n",
    "    F_diis = np.zeros((norb, norb))\n",
    "    for i in range(n):\n",
    "        F_diis += w[i] * F_mats[i]\n",
    "\n",
    "    return F_diis"
   ]
  },
  {
   "cell_type": "markdown",
   "id": "8ed85472",
   "metadata": {},
   "source": [
    "## XC contribution to Fock matrix\n",
    "\n",
    "The contrbutions from $\\hat{v}_\\mathrm{xc}$ to the Fock operator in the AO matrix representation will be obtained by means of numerical integration. \n",
    "\n",
    "$$\n",
    "F^\\mathrm{xc}_{\\alpha\\beta} = \n",
    "( \\chi_\\alpha | \\hat{v}_\\mathrm{xc} | \\chi_\\beta ) \\approx\n",
    "\\sum_{g=1}^P\n",
    "w_g \\,\n",
    "\\chi_\\alpha^\\ast(\\mathbf{r}_g)\n",
    "v_\\mathrm{xc}(\\mathbf{r}_g)\n",
    "\\chi_\\beta(\\mathbf{r}_g)\n",
    "$$\n",
    "\n",
    "We start by defining a molecular grid with grid points and weights. The number of grid points, $P$, will depend on the chosen grid level accuracy. The default level in VeloxChem is equal to 4."
   ]
  },
  {
   "cell_type": "code",
   "execution_count": 9,
   "id": "a4410295",
   "metadata": {
    "tags": []
   },
   "outputs": [],
   "source": [
    "grid_drv = vlx.veloxchemlib.GridDriver()\n",
    "\n",
    "grid_drv.set_level(4)  # default level in VeloxChem\n",
    "\n",
    "molgrid = grid_drv.generate(molecule)\n",
    "molgrid.partition_grid_points()\n",
    "\n",
    "weights = molgrid.w_to_numpy()"
   ]
  },
  {
   "cell_type": "markdown",
   "id": "108b7fa8",
   "metadata": {},
   "source": [
    "In order to carry out the numerical integration, we need the values of the atomic orbitals, $\\chi_\\alpha(\\mathbf{r}_g)$, on the grid points. "
   ]
  },
  {
   "cell_type": "code",
   "execution_count": 10,
   "id": "c2ab50a7-6113-4b8a-8b57-715849748e3e",
   "metadata": {
    "tags": []
   },
   "outputs": [],
   "source": [
    "xc_drv = vlx.XCIntegrator()\n",
    "\n",
    "# generate AOs on the grid points\n",
    "chi_g = xc_drv.compute_gto_values(molecule, basis, molgrid)"
   ]
  },
  {
   "cell_type": "code",
   "execution_count": 11,
   "id": "ace2a1ab",
   "metadata": {
    "tags": []
   },
   "outputs": [],
   "source": [
    "def LDA_exchange(D):\n",
    "\n",
    "    # determine the total density on the grid points\n",
    "    G = np.einsum(\"ab,bg->ag\", D, chi_g)\n",
    "    n = 2 * np.einsum(\"ag,ag->g\", chi_g, G)\n",
    "\n",
    "    e_xc = -0.75 * (3 / np.pi) ** (1 / 3) * n ** (1 / 3)\n",
    "    E_xc = np.dot(weights, n * e_xc)\n",
    "\n",
    "    v_xc = -((3 / np.pi) ** (1 / 3)) * n ** (1 / 3)\n",
    "\n",
    "    F_xc = np.zeros((norb, norb))\n",
    "\n",
    "    for alpha in range(norb):\n",
    "        for beta in range(alpha, norb):\n",
    "\n",
    "            F_xc[alpha, beta] = np.dot(weights, chi_g[alpha, :] * v_xc * chi_g[beta, :])\n",
    "            F_xc[beta, alpha] = F_xc[alpha, beta]\n",
    "\n",
    "    return F_xc, E_xc"
   ]
  },
  {
   "cell_type": "markdown",
   "id": "41980805",
   "metadata": {},
   "source": [
    "## SCF procedure\n",
    "\n",
    "Let us merely modify the Fock matrix in the existing module for the [SCF optimization of a Hartree–Fock](scf-procedure) state and instead converge the Kohn–Sham state. "
   ]
  },
  {
   "cell_type": "code",
   "execution_count": 12,
   "id": "8b9f0dc9",
   "metadata": {
    "scrolled": true,
    "tags": [
     "output_scroll"
    ]
   },
   "outputs": [
    {
     "name": "stdout",
     "output_type": "stream",
     "text": [
      "iter       SCF energy   LDA exchange   Exact exchange   Error norm\n",
      " 0       -67.80509278   -10.89381754     -11.93847705     3.14e+00\n",
      " 1       -66.26807742    -6.28063753      -7.13518284     4.19e+00\n",
      " 2       -74.99296483    -7.76552286      -8.60625993     8.14e-01\n",
      " 3       -75.12088066    -7.90515425      -8.73354906     5.66e-01\n",
      " 4       -75.13698000    -7.92257481      -8.75067054     4.94e-01\n",
      " 5       -75.16586396    -7.99149463      -8.82024803     3.22e-01\n",
      " 6       -75.18740498    -8.11600957      -8.94846238     1.23e-02\n",
      " 7       -75.18743095    -8.11620713      -8.94863576     6.34e-03\n",
      " 8       -75.18743909    -8.11849686      -8.95102110     7.59e-04\n",
      " 9       -75.18743920    -8.11880005      -8.95133794     1.62e-06\n",
      "10       -75.18743920    -8.11879988      -8.95133779     7.93e-08\n",
      "SCF iterations converged!\n"
     ]
    }
   ],
   "source": [
    "max_iter = 50\n",
    "conv_thresh = 1e-6\n",
    "\n",
    "e_vecs = []\n",
    "F_mats = []\n",
    "\n",
    "# initial guess from core Hamiltonian\n",
    "C = get_MO_coeff(h)\n",
    "\n",
    "print(\"iter       SCF energy   LDA exchange   Exact exchange   Error norm\")\n",
    "\n",
    "for iter in range(max_iter):\n",
    "    D = np.einsum(\"ik,jk->ij\", C[:, :nocc], C[:, :nocc])\n",
    "    \n",
    "    J = np.einsum(\"ijkl,kl->ij\", g, D)\n",
    "    F = h + 2 * J  # no exact exchange in the Fock matrix\n",
    "    F_xc, E_xc = LDA_exchange(D)\n",
    "    F += F_xc  # add LDA exchange\n",
    "    F_mats.append(F)\n",
    "\n",
    "    E = np.einsum(\"ij,ij->\", 2 * h + 2 * J, D) + V_nuc\n",
    "    E += E_xc\n",
    "\n",
    "    # determine exact exchange for comparison\n",
    "    K = np.einsum(\"ilkj,kl->ij\", g, D)\n",
    "    E_exact_exchange = np.einsum(\"ij,ij->\", -K, D)\n",
    "\n",
    "    # compute convergence metric\n",
    "    e_mat = np.linalg.multi_dot([F, D, S]) - np.linalg.multi_dot([S, D, F])\n",
    "    e_vecs.append(e_mat.reshape(-1))\n",
    "    error = np.linalg.norm(e_vecs[-1])\n",
    "    print(f\"{iter:>2d} {E:18.8f} {E_xc:14.8f} {E_exact_exchange:16.8f} {error:12.2e}\")\n",
    "\n",
    "    if error < conv_thresh:\n",
    "        print(\"SCF iterations converged!\")\n",
    "        break\n",
    "\n",
    "    F = c1diis(F_mats, e_vecs)\n",
    "    C = get_MO_coeff(F)"
   ]
  },
  {
   "cell_type": "markdown",
   "id": "6b14fe45",
   "metadata": {},
   "source": [
    "We note that the final SCF energy equals the one above as obtained in the reference calculation. It is also seen that the LDA exchange energy is some 0.83 Hartree higher than the corresponding exact Hartree–Fock exchange energy."
   ]
  },
  {
   "cell_type": "markdown",
   "id": "1a12baea",
   "metadata": {},
   "source": [
    "## Self-interaction error\n",
    "\n",
    "In Hartee–Fock, the exchange energy equals\n",
    "\n",
    "$$\n",
    "E_{\\mathrm{x}}^\\mathrm{HF} = - \\sum_{i=1}^{N/2} K_{ii}\n",
    "; \\qquad\n",
    "K_{ii} = \\sum_{j=1}^{N/2}\n",
    "( \\phi_i \\phi_j | \\phi_j \\phi_i )\n",
    "$$\n",
    "\n",
    "The term in $K_{ii}$ with $j = i$ cancels the self-interaction in the classical Coulomb electron repulsion energy. In DFT, with an approximate form of the exchange–correlation energy functional, this cancelation is no longer guaranteed.\n",
    "\n",
    "In our case, the DFT exchange energy equals\n",
    "\n",
    "$$\n",
    "E_{\\mathrm{x}}^\\mathrm{LDA} = 2\n",
    "\\sum_{i=1}^{N/2} ( \\phi_i | \\hat{\\varepsilon}_\\mathrm{xc} | \\phi_i ) = \n",
    "\\frac{3}{2} \\sum_{i=1}^{N/2} ( \\phi_i | \\hat{v}_\\mathrm{xc} | \\phi_i ) =\n",
    "\\frac{3}{2} \\sum_{i=1}^{N/2} F^\\mathrm{xc}_{ii}\n",
    "$$\n",
    "\n",
    "where the factor of 2 stems from the double occupancy of orbitals."
   ]
  },
  {
   "cell_type": "code",
   "execution_count": 15,
   "id": "9ef63c26",
   "metadata": {
    "tags": []
   },
   "outputs": [
    {
     "data": {
      "image/png": "[encoded data removed]",
      "text/plain": [
       "<Figure size 600x400 with 1 Axes>"
      ]
     },
     "metadata": {},
     "output_type": "display_data"
    }
   ],
   "source": [
    "import matplotlib.pyplot as plt\n",
    "\n",
    "F_xc_ii = []\n",
    "K_ii = []\n",
    "g_iiii = []\n",
    "\n",
    "for i in range(nocc):\n",
    "    F_xc_ii.append(np.einsum(\"a,b,ab->\", C[:, i], C[:, i], F_xc))\n",
    "    K_ii.append(np.einsum(\"a,b,ab->\", C[:, i], C[:, i], K))\n",
    "    g_iiii.append(np.einsum(\"a,b,c,d,abcd->\", C[:, i], C[:, i], C[:, i], C[:, i], g))\n",
    "\n",
    "LDA_x_ii = 1.5 * np.array(F_xc_ii)\n",
    "HF_x_ii = -np.array(K_ii)\n",
    "g_iiii = np.array(g_iiii)\n",
    "\n",
    "fig = plt.figure(figsize=(6, 4))\n",
    "ax = plt.axes(xticks=range(5))\n",
    "\n",
    "ax.scatter(range(nocc), HF_x_ii, label=\"Exact exchange\")\n",
    "ax.scatter(range(nocc), LDA_x_ii, label=\"LDA exchange\")\n",
    "ax.scatter(range(nocc), -g_iiii, label=r\"$-(\\phi_i\\phi_i | \\phi_i\\phi_i)$\")\n",
    "\n",
    "ax.legend(fontsize=10)\n",
    "ax.grid(True)\n",
    "\n",
    "plt.xlabel(\"Molecular orbital\", fontsize=10)\n",
    "plt.ylabel(\"Energy (Hartree)\", fontsize=10)\n",
    "plt.show()"
   ]
  },
  {
   "cell_type": "markdown",
   "id": "81d2cc5b",
   "metadata": {},
   "source": [
    "First, we note that the self-interaction energy (SIE) in terms of the integral $(\\phi_i\\phi_i|\\phi_i\\phi_i)$ represents a dominant part of the exchange energy. The percentage contributions exceed 60% for all orbitals and it reaches 97% for the core 1s-orbital."
   ]
  },
  {
   "cell_type": "code",
   "execution_count": 22,
   "id": "59fc1c20",
   "metadata": {},
   "outputs": [
    {
     "name": "stdout",
     "output_type": "stream",
     "text": [
      "SIE percentage part of exchange energy\n",
      "0   97.0%\n",
      "1   62.8%\n",
      "2   73.1%\n",
      "3   76.5%\n",
      "4   76.7%\n"
     ]
    }
   ],
   "source": [
    "print(\"SIE percentage part of exchange energy\")\n",
    "for i in range(5):\n",
    "    print(f\"{i} {-g_iiii[i] / HF_x_ii[i] * 100 : 6.1f}%\")"
   ]
  },
  {
   "cell_type": "markdown",
   "id": "2ba3fd1c",
   "metadata": {},
   "source": [
    "Second, we note that the LDA exchange energy is closely equal to the exact Hartree–Fock exchange energy for the outer valence orbitals but substantially less so for the core and inner valence orbitals. For the core 1s-orbital, the two results differ by some 0.66 Hartree."
   ]
  },
  {
   "cell_type": "code",
   "execution_count": 23,
   "id": "c021584f",
   "metadata": {},
   "outputs": [
    {
     "name": "stdout",
     "output_type": "stream",
     "text": [
      "Comparison of LDA and HF exchange energies\n",
      "0   86.4%   0.66 a.u.\n",
      "1   87.5%   0.15 a.u.\n",
      "2   99.4%   0.01 a.u.\n",
      "3   98.9%   0.01 a.u.\n",
      "4   99.7%   0.00 a.u.\n"
     ]
    }
   ],
   "source": [
    "print(\"Comparison of LDA and HF exchange energies\")\n",
    "for i in range(5):\n",
    "    print(\n",
    "        f\"{i} {LDA_x_ii[i] / HF_x_ii[i] * 100 : 6.1f}% {LDA_x_ii[i] - HF_x_ii[i] : 6.2f} a.u.\"\n",
    "    )"
   ]
  }
 ],
 "metadata": {
  "celltoolbar": "Tags",
  "kernelspec": {
   "display_name": "Python 3 (ipykernel)",
   "language": "python",
   "name": "python3"
  },
  "language_info": {
   "codemirror_mode": {
    "name": "ipython",
    "version": 3
   },
   "file_extension": ".py",
   "mimetype": "text/x-python",
   "name": "python",
   "nbconvert_exporter": "python",
   "pygments_lexer": "ipython3",
   "version": "3.10.9"
  }
 },
 "nbformat": 4,
 "nbformat_minor": 5
}
