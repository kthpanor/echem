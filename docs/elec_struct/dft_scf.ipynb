{
 "cells": [
  {
   "cell_type": "markdown",
   "id": "96c75296",
   "metadata": {
    "editable": true,
    "slideshow": {
     "slide_type": ""
    },
    "tags": []
   },
   "source": [
    "# SCF optimization\n",
    "\n",
    "The derivation of the [Kohn–Sham equation](kohn-sham-equation) follows closely the Hartree–Fock counterpart and the orbitals that minimize the DFT energy under the contraint of being orthogonal are eigenfuctions to the Kohn–Sham operator that closely resembles the [Fock operator](lagrangian) from Hartree–Fock theory. The Kohn–Sham operator takes the form\n",
    "\n",
    "$$\n",
    "\\hat{f} = \\hat{h} + \\hat{v}_\\mathrm{xc} + \\sum_{j=1}^N \\big( \\hat{J}_j + c_{\\text{x}} \\hat{K}_j \\big)\n",
    "$$\n",
    "\n",
    "where we note that the exchange term in the Fock operator has been at least partially replaced by the exchange–correlation potential\n",
    "\n",
    "$$\n",
    "v_\\mathrm{xc}(\\mathbf{r}) = \\frac{\\delta E_\\mathrm{xc}}{\\delta n(\\mathbf{r})}\n",
    "$$\n",
    "\n",
    "For *pure* functionals, $c_{\\text{x}} = 0$ whereas for *hybrid* functionals, we have $0 < c_{\\text{x}} < 1$.\n",
    "\n",
    "So an existing module for the [SCF optimization of a Hartree–Fock](scf-procedure) state is made capable to optimize a Kohn–Sham state by modifying the Fock operator accordingly. Let us do just that under the assumption that the exchange–correlation functional merely includes [Slater exchange](https://en.wikipedia.org/wiki/Local-density_approximation#Exchange_functional)\n",
    "\n",
    "$$\n",
    "\\varepsilon_\\mathrm{xc}(n(\\mathbf{r})) =\n",
    "-\\frac{3}{4} \\Big(\\frac{3}{\\pi}\\Big)^{1/3} \\big[n(\\mathbf{r})\\big]^{1/3}\n",
    "$$\n",
    "\n",
    "In the LDA, we have\n",
    "\n",
    "$$\n",
    "v_\\mathrm{xc}(\\mathbf{r}) =\n",
    "\\varepsilon_\\mathrm{xc}(n(\\mathbf{r})) + n(\\mathbf{r})\n",
    "\\frac{\\partial \\varepsilon_\\mathrm{xc}}{\\partial n}\n",
    "$$\n",
    "\n",
    "and, in our particular case, we get\n",
    "\n",
    "$$\n",
    "v_\\mathrm{xc}(\\mathbf{r}) = \\frac{4}{3} \\varepsilon_\\mathrm{xc}(n(\\mathbf{r}))\n",
    "$$\n",
    "\n",
    "where\n",
    "\n",
    "$$\n",
    "n(\\mathbf{r}) = 2 \\times \\sum_{i=1}^{N/2} \\left|\\phi_i(\\mathbf{r})\\right|^2\n",
    "$$"
   ]
  },
  {
   "cell_type": "code",
   "execution_count": 1,
   "id": "2d9879b7",
   "metadata": {
    "editable": true,
    "slideshow": {
     "slide_type": ""
    },
    "tags": [
     "remove-output"
    ]
   },
   "outputs": [
    {
     "name": "stdout",
     "output_type": "stream",
     "text": [
      "* Warning * Environment variable OMP_NUM_THREADS not set.\n",
      "* Warning * Setting OMP_NUM_THREADS to 6.\n"
     ]
    }
   ],
   "source": [
    "import numpy as np\n",
    "import scipy\n",
    "import veloxchem as vlx"
   ]
  },
  {
   "cell_type": "markdown",
   "id": "670cf53f",
   "metadata": {
    "editable": true,
    "slideshow": {
     "slide_type": ""
    },
    "tags": []
   },
   "source": [
    "## Setting up the system"
   ]
  },
  {
   "cell_type": "code",
   "execution_count": 2,
   "id": "9e1835a7-b640-439b-9637-64d61f3f33db",
   "metadata": {
    "editable": true,
    "slideshow": {
     "slide_type": ""
    },
    "tags": []
   },
   "outputs": [],
   "source": [
    "mol_str = \"\"\"3\n",
    "\n",
    "O    0.000000000000        0.000000000000        0.000000000000\n",
    "H    0.000000000000        0.740848095288        0.582094932012\n",
    "H    0.000000000000       -0.740848095288        0.582094932012\n",
    "\"\"\"\n",
    "\n",
    "molecule = vlx.Molecule.read_xyz_string(mol_str)\n",
    "basis = vlx.MolecularBasis.read(molecule, \"cc-pVDZ\", ostream=None)"
   ]
  },
  {
   "cell_type": "code",
   "execution_count": 3,
   "id": "825e2c9e-8696-4d41-8b3d-1616b387c3f1",
   "metadata": {
    "editable": true,
    "slideshow": {
     "slide_type": ""
    },
    "tags": []
   },
   "outputs": [
    {
     "data": {
      "application/3dmoljs_load.v0": "<div id=\"3dmolviewer_1707849009677869\"  style=\"position: relative; width: 400px; height: 300px;\">\n        <p id=\"3dmolwarning_1707849009677869\" style=\"background-color:#ffcccc;color:black\">You appear to be running in JupyterLab (or JavaScript failed to load for some other reason).  You need to install the 3dmol extension: <br>\n        <tt>jupyter labextension install jupyterlab_3dmol</tt></p>\n        </div>\n<script>\n\nvar loadScriptAsync = function(uri){\n  return new Promise((resolve, reject) => {\n    //this is to ignore the existence of requirejs amd\n    var savedexports, savedmodule;\n    if (typeof exports !== 'undefined') savedexports = exports;\n    else exports = {}\n    if (typeof module !== 'undefined') savedmodule = module;\n    else module = {}\n\n    var tag = document.createElement('script');\n    tag.src = uri;\n    tag.async = true;\n    tag.onload = () => {\n        exports = savedexports;\n        module = savedmodule;\n        resolve();\n    };\n  var firstScriptTag = document.getElementsByTagName('script')[0];\n  firstScriptTag.parentNode.insertBefore(tag, firstScriptTag);\n});\n};\n\nif(typeof $3Dmolpromise === 'undefined') {\n$3Dmolpromise = null;\n  $3Dmolpromise = loadScriptAsync('https://cdnjs.cloudflare.com/ajax/libs/3Dmol/2.0.4/3Dmol-min.js');\n}\n\nvar viewer_1707849009677869 = null;\nvar warn = document.getElementById(\"3dmolwarning_1707849009677869\");\nif(warn) {\n    warn.parentNode.removeChild(warn);\n}\n$3Dmolpromise.then(function() {\nviewer_1707849009677869 = $3Dmol.createViewer(document.getElementById(\"3dmolviewer_1707849009677869\"),{backgroundColor:\"white\"});\nviewer_1707849009677869.zoomTo();\n\tviewer_1707849009677869.addModel(\"3\\n\\nO              0.000000000000         0.000000000000         0.000000000000\\nH              0.000000000000         0.740848095288         0.582094932012\\nH              0.000000000000        -0.740848095288         0.582094932012\\n\");\n\tviewer_1707849009677869.setViewStyle({\"style\": \"outline\", \"width\": 0.05});\n\tviewer_1707849009677869.setStyle({\"stick\": {}, \"sphere\": {\"scale\": 0.25}});\n\tviewer_1707849009677869.zoomTo();\nviewer_1707849009677869.render();\n});\n</script>",
      "text/html": [
       "<div id=\"3dmolviewer_1707849009677869\"  style=\"position: relative; width: 400px; height: 300px;\">\n",
       "        <p id=\"3dmolwarning_1707849009677869\" style=\"background-color:#ffcccc;color:black\">You appear to be running in JupyterLab (or JavaScript failed to load for some other reason).  You need to install the 3dmol extension: <br>\n",
       "        <tt>jupyter labextension install jupyterlab_3dmol</tt></p>\n",
       "        </div>\n",
       "<script>\n",
       "\n",
       "var loadScriptAsync = function(uri){\n",
       "  return new Promise((resolve, reject) => {\n",
       "    //this is to ignore the existence of requirejs amd\n",
       "    var savedexports, savedmodule;\n",
       "    if (typeof exports !== 'undefined') savedexports = exports;\n",
       "    else exports = {}\n",
       "    if (typeof module !== 'undefined') savedmodule = module;\n",
       "    else module = {}\n",
       "\n",
       "    var tag = document.createElement('script');\n",
       "    tag.src = uri;\n",
       "    tag.async = true;\n",
       "    tag.onload = () => {\n",
       "        exports = savedexports;\n",
       "        module = savedmodule;\n",
       "        resolve();\n",
       "    };\n",
       "  var firstScriptTag = document.getElementsByTagName('script')[0];\n",
       "  firstScriptTag.parentNode.insertBefore(tag, firstScriptTag);\n",
       "});\n",
       "};\n",
       "\n",
       "if(typeof $3Dmolpromise === 'undefined') {\n",
       "$3Dmolpromise = null;\n",
       "  $3Dmolpromise = loadScriptAsync('https://cdnjs.cloudflare.com/ajax/libs/3Dmol/2.0.4/3Dmol-min.js');\n",
       "}\n",
       "\n",
       "var viewer_1707849009677869 = null;\n",
       "var warn = document.getElementById(\"3dmolwarning_1707849009677869\");\n",
       "if(warn) {\n",
       "    warn.parentNode.removeChild(warn);\n",
       "}\n",
       "$3Dmolpromise.then(function() {\n",
       "viewer_1707849009677869 = $3Dmol.createViewer(document.getElementById(\"3dmolviewer_1707849009677869\"),{backgroundColor:\"white\"});\n",
       "viewer_1707849009677869.zoomTo();\n",
       "\tviewer_1707849009677869.addModel(\"3\\n\\nO              0.000000000000         0.000000000000         0.000000000000\\nH              0.000000000000         0.740848095288         0.582094932012\\nH              0.000000000000        -0.740848095288         0.582094932012\\n\");\n",
       "\tviewer_1707849009677869.setViewStyle({\"style\": \"outline\", \"width\": 0.05});\n",
       "\tviewer_1707849009677869.setStyle({\"stick\": {}, \"sphere\": {\"scale\": 0.25}});\n",
       "\tviewer_1707849009677869.zoomTo();\n",
       "viewer_1707849009677869.render();\n",
       "});\n",
       "</script>"
      ]
     },
     "metadata": {},
     "output_type": "display_data"
    }
   ],
   "source": [
    "molecule.show()"
   ]
  },
  {
   "cell_type": "code",
   "execution_count": 4,
   "id": "56ac8090-b919-427d-8b70-d0bd88f458c5",
   "metadata": {
    "editable": true,
    "slideshow": {
     "slide_type": ""
    },
    "tags": []
   },
   "outputs": [
    {
     "name": "stdout",
     "output_type": "stream",
     "text": [
      "Number of orbitals: 24\n",
      "Number of doubly occupied molecular orbitals: 5\n",
      "Nuclear repulsion energy (in a.u.):  9.34363816\n"
     ]
    }
   ],
   "source": [
    "norb = basis.get_dimensions_of_basis()\n",
    "nocc = molecule.number_of_electrons() // 2\n",
    "V_nuc = molecule.nuclear_repulsion_energy()\n",
    "\n",
    "print(\"Number of orbitals:\", norb)\n",
    "print(\"Number of doubly occupied molecular orbitals:\", nocc)\n",
    "print(f\"Nuclear repulsion energy (in a.u.): {V_nuc : 10.8f}\")"
   ]
  },
  {
   "cell_type": "markdown",
   "id": "ff9035ff",
   "metadata": {
    "editable": true,
    "slideshow": {
     "slide_type": ""
    },
    "tags": []
   },
   "source": [
    "## Reference calculation\n",
    "\n",
    "Let us first perform an reference calculation using the restricted closed-shell SCF driver in VeloxChem."
   ]
  },
  {
   "cell_type": "code",
   "execution_count": 5,
   "id": "43273cce",
   "metadata": {
    "editable": true,
    "scrolled": true,
    "slideshow": {
     "slide_type": ""
    },
    "tags": []
   },
   "outputs": [],
   "source": [
    "scf_drv = vlx.ScfRestrictedDriver()\n",
    "scf_drv.ostream.mute()\n",
    "\n",
    "scf_drv.xcfun = \"slater\"\n",
    "\n",
    "scf_drv.grid_level = 4\n",
    "scf_drv.conv_thresh = 1.0e-6\n",
    "\n",
    "scf_results = scf_drv.compute(molecule, basis)"
   ]
  },
  {
   "cell_type": "code",
   "execution_count": 6,
   "id": "b7a9c77c",
   "metadata": {
    "editable": true,
    "slideshow": {
     "slide_type": ""
    },
    "tags": []
   },
   "outputs": [
    {
     "name": "stdout",
     "output_type": "stream",
     "text": [
      "Final DFT energy: -75.1874344 Hartree\n"
     ]
    }
   ],
   "source": [
    "print(f\"Final DFT energy: {scf_drv.get_scf_energy() : 10.7f} Hartree\")"
   ]
  },
  {
   "cell_type": "code",
   "execution_count": 7,
   "id": "bbfb1f49",
   "metadata": {
    "editable": true,
    "slideshow": {
     "slide_type": ""
    },
    "tags": [
     "hide-cell"
    ]
   },
   "outputs": [],
   "source": [
    "# =============================================================\n",
    "# integrals in AO basis\n",
    "# =============================================================\n",
    "\n",
    "# overlap matrix\n",
    "S = vlx.compute_overlap_integrals(molecule, basis)\n",
    "\n",
    "# one-electron Hamiltonian\n",
    "T = vlx.compute_kinetic_energy_integrals(molecule, basis)\n",
    "\n",
    "V = vlx.compute_nuclear_potential_integrals(molecule, basis)\n",
    "\n",
    "h = T + V\n",
    "\n",
    "# two-electron Hamiltonian\n",
    "fock_drv = vlx.FockDriver()\n",
    "g = fock_drv.compute_eri(molecule, basis)\n",
    "\n",
    "# =============================================================\n",
    "# DIIS convergence acceleration\n",
    "# =============================================================\n",
    "\n",
    "\n",
    "def c1diis(F_mats, e_vecs):\n",
    "    n = len(e_vecs)\n",
    "\n",
    "    # build DIIS matrix\n",
    "    B = -np.ones((n + 1, n + 1))\n",
    "    B[n, n] = 0\n",
    "\n",
    "    for i in range(n):\n",
    "        for j in range(n):\n",
    "            B[i, j] = np.dot(e_vecs[i], e_vecs[j])\n",
    "\n",
    "    b = np.zeros(n + 1)\n",
    "    b[n] = -1\n",
    "    w = np.matmul(np.linalg.inv(B), b)\n",
    "\n",
    "    F_diis = np.zeros((norb, norb))\n",
    "    for i in range(n):\n",
    "        F_diis += w[i] * F_mats[i]\n",
    "\n",
    "    return F_diis"
   ]
  },
  {
   "cell_type": "markdown",
   "id": "8ed85472",
   "metadata": {
    "editable": true,
    "slideshow": {
     "slide_type": ""
    },
    "tags": []
   },
   "source": [
    "## XC contribution to Fock matrix\n",
    "\n",
    "The contrbutions from $\\hat{v}_\\mathrm{xc}$ to the Fock operator in the AO matrix representation will be obtained by means of numerical integration. \n",
    "\n",
    "$$\n",
    "F^\\mathrm{xc}_{\\alpha\\beta} = \n",
    "( \\chi_\\alpha | \\hat{v}_\\mathrm{xc} | \\chi_\\beta ) \\approx\n",
    "\\sum_{g=1}^P\n",
    "w_g \\,\n",
    "\\chi_\\alpha^\\ast(\\mathbf{r}_g)\n",
    "v_\\mathrm{xc}(\\mathbf{r}_g)\n",
    "\\chi_\\beta(\\mathbf{r}_g)\n",
    "$$\n",
    "\n",
    "We start by defining a molecular grid with grid points and weights. The number of grid points, $P$, will depend on the chosen grid level accuracy. The default level in VeloxChem is equal to 4."
   ]
  },
  {
   "cell_type": "code",
   "execution_count": 8,
   "id": "a4410295",
   "metadata": {
    "editable": true,
    "slideshow": {
     "slide_type": ""
    },
    "tags": []
   },
   "outputs": [],
   "source": [
    "grid_drv = vlx.GridDriver()\n",
    "\n",
    "grid_drv.set_level(4)  # default level in VeloxChem\n",
    "\n",
    "molgrid = grid_drv.generate(molecule)\n",
    "\n",
    "weights = molgrid.w_to_numpy()"
   ]
  },
  {
   "cell_type": "markdown",
   "id": "108b7fa8",
   "metadata": {
    "editable": true,
    "slideshow": {
     "slide_type": ""
    },
    "tags": []
   },
   "source": [
    "In order to carry out the numerical integration, we need the values of the atomic orbitals, $\\chi_\\alpha(\\mathbf{r}_g)$, on the grid points. "
   ]
  },
  {
   "cell_type": "code",
   "execution_count": 9,
   "id": "c2ab50a7-6113-4b8a-8b57-715849748e3e",
   "metadata": {
    "editable": true,
    "slideshow": {
     "slide_type": ""
    },
    "tags": []
   },
   "outputs": [],
   "source": [
    "xc_drv = vlx.XCIntegrator()\n",
    "\n",
    "# generate AOs on the grid points\n",
    "chi_g = xc_drv.compute_gto_values(molecule, basis, molgrid)"
   ]
  },
  {
   "cell_type": "code",
   "execution_count": 10,
   "id": "ace2a1ab",
   "metadata": {
    "editable": true,
    "slideshow": {
     "slide_type": ""
    },
    "tags": []
   },
   "outputs": [],
   "source": [
    "def LDA_exchange(D):\n",
    "    # determine the total density on the grid points\n",
    "    G = np.einsum(\"ab,bg->ag\", D, chi_g)\n",
    "    n = 2 * np.einsum(\"ag,ag->g\", chi_g, G)\n",
    "\n",
    "    e_xc = -0.75 * (3 / np.pi) ** (1 / 3) * n ** (1 / 3)\n",
    "    E_xc = np.dot(weights, n * e_xc)\n",
    "\n",
    "    v_xc = -((3 / np.pi) ** (1 / 3)) * n ** (1 / 3)\n",
    "\n",
    "    F_xc = np.zeros((norb, norb))\n",
    "\n",
    "    for alpha in range(norb):\n",
    "        for beta in range(alpha, norb):\n",
    "            F_xc[alpha, beta] = np.dot(weights, chi_g[alpha, :] * v_xc * chi_g[beta, :])\n",
    "            F_xc[beta, alpha] = F_xc[alpha, beta]\n",
    "\n",
    "    return F_xc, E_xc"
   ]
  },
  {
   "cell_type": "markdown",
   "id": "41980805",
   "metadata": {
    "editable": true,
    "slideshow": {
     "slide_type": ""
    },
    "tags": []
   },
   "source": [
    "## SCF procedure\n",
    "\n",
    "Let us merely modify the Fock matrix in the existing module for the [SCF optimization of a Hartree–Fock](scf-procedure) state and instead converge the Kohn–Sham state. "
   ]
  },
  {
   "cell_type": "code",
   "execution_count": 11,
   "id": "8b9f0dc9",
   "metadata": {
    "editable": true,
    "scrolled": true,
    "slideshow": {
     "slide_type": ""
    },
    "tags": [
     "output_scroll"
    ]
   },
   "outputs": [
    {
     "name": "stdout",
     "output_type": "stream",
     "text": [
      "iter       SCF energy   LDA exchange   Exact exchange   Error norm\n",
      " 0       -67.80508830   -10.89381306     -11.93847705     3.14e+00\n",
      " 1       -66.26792219    -6.28078058      -7.13537283     4.19e+00\n",
      " 2       -74.99359878    -7.76615742      -8.60690061     8.13e-01\n",
      " 3       -75.12110246    -7.90554682      -8.73394901     5.65e-01\n",
      " 4       -75.13715465    -7.92293008      -8.75103380     4.94e-01\n",
      " 5       -75.16585462    -7.99147909      -8.82023741     3.22e-01\n",
      " 6       -75.18739992    -8.11598421      -8.94844153     1.24e-02\n",
      " 7       -75.18742612    -8.11619778      -8.94863105     6.35e-03\n",
      " 8       -75.18743428    -8.11849075      -8.95101979     7.61e-04\n",
      " 9       -75.18743440    -8.11879444      -8.95133716     1.63e-06\n",
      "10       -75.18743440    -8.11879427      -8.95133701     7.68e-08\n",
      "SCF iterations converged!\n"
     ]
    }
   ],
   "source": [
    "max_iter = 50\n",
    "conv_thresh = 1e-6\n",
    "\n",
    "e_vecs = []\n",
    "F_mats = []\n",
    "\n",
    "# initial guess from core Hamiltonian\n",
    "epsilon, C = scipy.linalg.eigh(h, S)\n",
    "\n",
    "print(\"iter       SCF energy   LDA exchange   Exact exchange   Error norm\")\n",
    "\n",
    "for iter in range(max_iter):\n",
    "    D = np.einsum(\"ik,jk->ij\", C[:, :nocc], C[:, :nocc])\n",
    "\n",
    "    J = np.einsum(\"ijkl,kl->ij\", g, D)\n",
    "    F = h + 2 * J  # no exact exchange in the Fock matrix\n",
    "    F_xc, E_xc = LDA_exchange(D)\n",
    "    F += F_xc  # add LDA exchange\n",
    "    F_mats.append(F)\n",
    "\n",
    "    E = np.einsum(\"ij,ij->\", 2 * h + 2 * J, D) + V_nuc\n",
    "    E += E_xc\n",
    "\n",
    "    # determine exact exchange for comparison\n",
    "    K = np.einsum(\"ilkj,kl->ij\", g, D)\n",
    "    E_exact_exchange = np.einsum(\"ij,ij->\", -K, D)\n",
    "\n",
    "    # compute convergence metric\n",
    "    e_mat = np.linalg.multi_dot([F, D, S]) - np.linalg.multi_dot([S, D, F])\n",
    "    e_vecs.append(e_mat.reshape(-1))\n",
    "    error = np.linalg.norm(e_vecs[-1])\n",
    "    print(f\"{iter:>2d} {E:18.8f} {E_xc:14.8f} {E_exact_exchange:16.8f} {error:12.2e}\")\n",
    "\n",
    "    if error < conv_thresh:\n",
    "        print(\"SCF iterations converged!\")\n",
    "        break\n",
    "\n",
    "    F = c1diis(F_mats, e_vecs)\n",
    "    epsilon, C = scipy.linalg.eigh(F, S)"
   ]
  },
  {
   "cell_type": "markdown",
   "id": "6b14fe45",
   "metadata": {
    "editable": true,
    "slideshow": {
     "slide_type": ""
    },
    "tags": []
   },
   "source": [
    "We note that the final SCF energy equals the one above as obtained in the reference calculation. It is also seen that the LDA exchange energy is some 0.83 Hartree higher than the corresponding exact Hartree–Fock exchange energy."
   ]
  },
  {
   "cell_type": "markdown",
   "id": "1a12baea",
   "metadata": {
    "editable": true,
    "slideshow": {
     "slide_type": ""
    },
    "tags": []
   },
   "source": [
    "## Self-interaction error\n",
    "\n",
    "In Hartee–Fock, the exchange energy equals\n",
    "\n",
    "$$\n",
    "E_{\\mathrm{x}}^\\mathrm{HF} = - \\sum_{i=1}^{N/2} K_{ii}\n",
    "; \\qquad\n",
    "K_{ii} = \\sum_{j=1}^{N/2}\n",
    "( \\phi_i \\phi_j | \\phi_j \\phi_i )\n",
    "$$\n",
    "\n",
    "The term in $K_{ii}$ with $j = i$ cancels the self-interaction in the classical Coulomb electron repulsion energy. In DFT, with an approximate form of the exchange–correlation energy functional, this cancelation is no longer guaranteed.\n",
    "\n",
    "In our case, the DFT exchange energy equals\n",
    "\n",
    "$$\n",
    "E_{\\mathrm{x}}^\\mathrm{LDA} = 2\n",
    "\\sum_{i=1}^{N/2} ( \\phi_i | \\hat{\\varepsilon}_\\mathrm{xc} | \\phi_i ) = \n",
    "\\frac{3}{2} \\sum_{i=1}^{N/2} ( \\phi_i | \\hat{v}_\\mathrm{xc} | \\phi_i ) =\n",
    "\\frac{3}{2} \\sum_{i=1}^{N/2} F^\\mathrm{xc}_{ii}\n",
    "$$\n",
    "\n",
    "where the factor of 2 stems from the double occupancy of orbitals."
   ]
  },
  {
   "cell_type": "code",
   "execution_count": 12,
   "id": "9ef63c26",
   "metadata": {
    "editable": true,
    "slideshow": {
     "slide_type": ""
    },
    "tags": []
   },
   "outputs": [
    {
     "data": {
      "image/png": "[encoded data removed]",
      "text/plain": [
       "<Figure size 600x400 with 1 Axes>"
      ]
     },
     "metadata": {},
     "output_type": "display_data"
    }
   ],
   "source": [
    "import matplotlib.pyplot as plt\n",
    "\n",
    "F_xc_ii = []\n",
    "K_ii = []\n",
    "g_iiii = []\n",
    "\n",
    "for i in range(nocc):\n",
    "    F_xc_ii.append(np.einsum(\"a,b,ab->\", C[:, i], C[:, i], F_xc))\n",
    "    K_ii.append(np.einsum(\"a,b,ab->\", C[:, i], C[:, i], K))\n",
    "    g_iiii.append(np.einsum(\"a,b,c,d,abcd->\", C[:, i], C[:, i], C[:, i], C[:, i], g))\n",
    "\n",
    "LDA_x_ii = 1.5 * np.array(F_xc_ii)\n",
    "HF_x_ii = -np.array(K_ii)\n",
    "g_iiii = np.array(g_iiii)\n",
    "\n",
    "fig = plt.figure(figsize=(6, 4))\n",
    "ax = plt.axes(xticks=range(5))\n",
    "\n",
    "ax.scatter(range(nocc), HF_x_ii, label=\"Exact exchange\")\n",
    "ax.scatter(range(nocc), LDA_x_ii, label=\"LDA exchange\")\n",
    "ax.scatter(range(nocc), -g_iiii, label=r\"$-(\\phi_i\\phi_i | \\phi_i\\phi_i)$\")\n",
    "\n",
    "ax.legend(fontsize=10)\n",
    "ax.grid(True)\n",
    "\n",
    "plt.xlabel(\"Molecular orbital\", fontsize=10)\n",
    "plt.ylabel(\"Energy (Hartree)\", fontsize=10)\n",
    "plt.show()"
   ]
  },
  {
   "cell_type": "markdown",
   "id": "81d2cc5b",
   "metadata": {},
   "source": [
    "First, we note that the self-interaction energy (SIE) in terms of the integral $(\\phi_i\\phi_i|\\phi_i\\phi_i)$ represents a dominant part of the exchange energy. The percentage contributions exceed 60% for all orbitals and it reaches 97% for the core 1s-orbital."
   ]
  },
  {
   "cell_type": "code",
   "execution_count": 13,
   "id": "59fc1c20",
   "metadata": {},
   "outputs": [
    {
     "name": "stdout",
     "output_type": "stream",
     "text": [
      "SIE percentage part of exchange energy\n",
      "0   97.0%\n",
      "1   62.8%\n",
      "2   73.1%\n",
      "3   76.5%\n",
      "4   76.7%\n"
     ]
    }
   ],
   "source": [
    "print(\"SIE percentage part of exchange energy\")\n",
    "for i in range(5):\n",
    "    print(f\"{i} {-g_iiii[i] / HF_x_ii[i] * 100 : 6.1f}%\")"
   ]
  },
  {
   "cell_type": "markdown",
   "id": "2ba3fd1c",
   "metadata": {},
   "source": [
    "Second, we note that the LDA exchange energy is closely equal to the exact Hartree–Fock exchange energy for the outer valence orbitals but substantially less so for the core and inner valence orbitals. For the core 1s-orbital, the two results differ by some 0.66 Hartree."
   ]
  },
  {
   "cell_type": "code",
   "execution_count": 14,
   "id": "c021584f",
   "metadata": {
    "editable": true,
    "slideshow": {
     "slide_type": ""
    },
    "tags": []
   },
   "outputs": [
    {
     "name": "stdout",
     "output_type": "stream",
     "text": [
      "Comparison of LDA and HF exchange energies\n",
      "0   86.4%   0.66 a.u.\n",
      "1   87.5%   0.15 a.u.\n",
      "2   99.4%   0.01 a.u.\n",
      "3   98.9%   0.01 a.u.\n",
      "4   99.7%   0.00 a.u.\n"
     ]
    }
   ],
   "source": [
    "print(\"Comparison of LDA and HF exchange energies\")\n",
    "for i in range(5):\n",
    "    print(\n",
    "        f\"{i} {LDA_x_ii[i] / HF_x_ii[i] * 100 : 6.1f}% {LDA_x_ii[i] - HF_x_ii[i] : 6.2f} a.u.\"\n",
    "    )"
   ]
  }
 ],
 "metadata": {
  "celltoolbar": "Tags",
  "kernelspec": {
   "display_name": "Python 3 (ipykernel)",
   "language": "python",
   "name": "python3"
  },
  "language_info": {
   "codemirror_mode": {
    "name": "ipython",
    "version": 3
   },
   "file_extension": ".py",
   "mimetype": "text/x-python",
   "name": "python",
   "nbconvert_exporter": "python",
   "pygments_lexer": "ipython3",
   "version": "3.11.7"
  }
 },
 "nbformat": 4,
 "nbformat_minor": 5
}
