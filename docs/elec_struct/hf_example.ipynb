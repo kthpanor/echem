{
 "cells": [
  {
   "cell_type": "markdown",
   "id": "63bbc6ee-558c-484b-ae11-fd77d0c43bcd",
   "metadata": {},
   "source": [
    "# HF in VeloxChem\n",
    "\n",
    "## Define the molecule\n",
    "\n",
    "We first define the structure of a water molecule and choose a basis set"
   ]
  },
  {
   "cell_type": "code",
   "execution_count": 1,
   "id": "1afbd5ab-229c-4526-a7f7-28a94f8cb2ce",
   "metadata": {
    "tags": [
     "remove-output"
    ]
   },
   "outputs": [
    {
     "name": "stdout",
     "output_type": "stream",
     "text": [
      "* Warning * Environment variable OMP_NUM_THREADS not set.\n",
      "* Warning * Setting OMP_NUM_THREADS to 4.\n",
      "* Info * Reading basis set from file: /home/thomas/Notebook/anaconda/envs/echem/lib/python3.10/site-packages/veloxchem/basis/CC-PVDZ\n",
      "                                                                                                                          \n",
      "                                              Molecular Basis (Atomic Basis)                                              \n",
      "                                             ================================                                             \n",
      "                                                                                                                          \n",
      "                               Basis: CC-PVDZ                                                                             \n",
      "                                                                                                                          \n",
      "                               Atom Contracted GTOs           Primitive GTOs                                              \n",
      "                                                                                                                          \n",
      "                                O   (3S,2P,1D)                (17S,4P,1D)                                                 \n",
      "                                H   (2S,1P)                   (4S,1P)                                                     \n",
      "                                                                                                                          \n",
      "                               Contracted Basis Functions : 24                                                            \n",
      "                               Primitive Basis Functions  : 48                                                            \n",
      "                                                                                                                          \n"
     ]
    }
   ],
   "source": [
    "import veloxchem as vlx\n",
    "\n",
    "# Atomic coordinates in units of Angstrom\n",
    "mol_xyz = \"\"\"3 \n",
    "\n",
    "O       0.0000000000     0.1178336003     0.0000000000\n",
    "H      -0.7595754146    -0.4713344012    -0.0000000000\n",
    "H       0.7595754146    -0.4713344012     0.0000000000\n",
    "\"\"\"\n",
    "\n",
    "molecule = vlx.Molecule.from_xyz_string(mol_xyz)\n",
    "basis = vlx.MolecularBasis.read(molecule, \"cc-pVDZ\")"
   ]
  },
  {
   "cell_type": "code",
   "execution_count": 4,
   "id": "c7767fdf-05b9-46ad-af4c-7ed37e27f779",
   "metadata": {
    "tags": [
     "remove-input"
    ]
   },
   "outputs": [
    {
     "data": {
      "application/3dmoljs_load.v0": "<div id=\"3dmolviewer_16788903746977696\"  style=\"position: relative; width: 300px; height: 200px\">\n        <p id=\"3dmolwarning_16788903746977696\" style=\"background-color:#ffcccc;color:black\">You appear to be running in JupyterLab (or JavaScript failed to load for some other reason).  You need to install the 3dmol extension: <br>\n        <tt>jupyter labextension install jupyterlab_3dmol</tt></p>\n        </div>\n<script>\n\nvar loadScriptAsync = function(uri){\n  return new Promise((resolve, reject) => {\n    //this is to ignore the existence of requirejs amd\n    var savedexports, savedmodule;\n    if (typeof exports !== 'undefined') savedexports = exports;\n    else exports = {}\n    if (typeof module !== 'undefined') savedmodule = module;\n    else module = {}\n\n    var tag = document.createElement('script');\n    tag.src = uri;\n    tag.async = true;\n    tag.onload = () => {\n        exports = savedexports;\n        module = savedmodule;\n        resolve();\n    };\n  var firstScriptTag = document.getElementsByTagName('script')[0];\n  firstScriptTag.parentNode.insertBefore(tag, firstScriptTag);\n});\n};\n\nif(typeof $3Dmolpromise === 'undefined') {\n$3Dmolpromise = null;\n  $3Dmolpromise = loadScriptAsync('https://cdnjs.cloudflare.com/ajax/libs/3Dmol/2.0.1/3Dmol-min.js');\n}\n\nvar viewer_16788903746977696 = null;\nvar warn = document.getElementById(\"3dmolwarning_16788903746977696\");\nif(warn) {\n    warn.parentNode.removeChild(warn);\n}\n$3Dmolpromise.then(function() {\nviewer_16788903746977696 = $3Dmol.createViewer(document.getElementById(\"3dmolviewer_16788903746977696\"),{backgroundColor:\"white\"});\nviewer_16788903746977696.zoomTo();\n\tviewer_16788903746977696.addModel(\"3 \\n\\nO       0.0000000000     0.1178336003     0.0000000000\\nH      -0.7595754146    -0.4713344012    -0.0000000000\\nH       0.7595754146    -0.4713344012     0.0000000000\\n\",\"xyz\");\n\tviewer_16788903746977696.setViewStyle({\"style\": \"outline\", \"width\": 0.05});\n\tviewer_16788903746977696.setStyle({\"stick\": {}, \"sphere\": {\"scale\": 0.25}});\nviewer_16788903746977696.render();\n});\n</script>",
      "text/html": [
       "<div id=\"3dmolviewer_16788903746977696\"  style=\"position: relative; width: 300px; height: 200px\">\n",
       "        <p id=\"3dmolwarning_16788903746977696\" style=\"background-color:#ffcccc;color:black\">You appear to be running in JupyterLab (or JavaScript failed to load for some other reason).  You need to install the 3dmol extension: <br>\n",
       "        <tt>jupyter labextension install jupyterlab_3dmol</tt></p>\n",
       "        </div>\n",
       "<script>\n",
       "\n",
       "var loadScriptAsync = function(uri){\n",
       "  return new Promise((resolve, reject) => {\n",
       "    //this is to ignore the existence of requirejs amd\n",
       "    var savedexports, savedmodule;\n",
       "    if (typeof exports !== 'undefined') savedexports = exports;\n",
       "    else exports = {}\n",
       "    if (typeof module !== 'undefined') savedmodule = module;\n",
       "    else module = {}\n",
       "\n",
       "    var tag = document.createElement('script');\n",
       "    tag.src = uri;\n",
       "    tag.async = true;\n",
       "    tag.onload = () => {\n",
       "        exports = savedexports;\n",
       "        module = savedmodule;\n",
       "        resolve();\n",
       "    };\n",
       "  var firstScriptTag = document.getElementsByTagName('script')[0];\n",
       "  firstScriptTag.parentNode.insertBefore(tag, firstScriptTag);\n",
       "});\n",
       "};\n",
       "\n",
       "if(typeof $3Dmolpromise === 'undefined') {\n",
       "$3Dmolpromise = null;\n",
       "  $3Dmolpromise = loadScriptAsync('https://cdnjs.cloudflare.com/ajax/libs/3Dmol/2.0.1/3Dmol-min.js');\n",
       "}\n",
       "\n",
       "var viewer_16788903746977696 = null;\n",
       "var warn = document.getElementById(\"3dmolwarning_16788903746977696\");\n",
       "if(warn) {\n",
       "    warn.parentNode.removeChild(warn);\n",
       "}\n",
       "$3Dmolpromise.then(function() {\n",
       "viewer_16788903746977696 = $3Dmol.createViewer(document.getElementById(\"3dmolviewer_16788903746977696\"),{backgroundColor:\"white\"});\n",
       "viewer_16788903746977696.zoomTo();\n",
       "\tviewer_16788903746977696.addModel(\"3 \\n\\nO       0.0000000000     0.1178336003     0.0000000000\\nH      -0.7595754146    -0.4713344012    -0.0000000000\\nH       0.7595754146    -0.4713344012     0.0000000000\\n\",\"xyz\");\n",
       "\tviewer_16788903746977696.setViewStyle({\"style\": \"outline\", \"width\": 0.05});\n",
       "\tviewer_16788903746977696.setStyle({\"stick\": {}, \"sphere\": {\"scale\": 0.25}});\n",
       "viewer_16788903746977696.render();\n",
       "});\n",
       "</script>"
      ]
     },
     "metadata": {},
     "output_type": "display_data"
    }
   ],
   "source": [
    "import py3Dmol as p3d\n",
    "viewer = p3d.view(width=300, height=200)\n",
    "viewer.addModel(mol_xyz, 'xyz')\n",
    "viewer.setViewStyle({\"style\": \"outline\", \"width\": 0.05})\n",
    "viewer.setStyle({\"stick\":{},\"sphere\": {\"scale\":0.25}})\n",
    "viewer.show()"
   ]
  },
  {
   "cell_type": "code",
   "execution_count": 5,
   "id": "fded87e3-2b0c-43cd-ab97-23ac87354b77",
   "metadata": {
    "tags": []
   },
   "outputs": [
    {
     "name": "stdout",
     "output_type": "stream",
     "text": [
      "Number of atoms: 3\n",
      "Number of electrons: 10\n",
      "Number of contracted basis functions: 24\n"
     ]
    }
   ],
   "source": [
    "print('Number of atoms:', molecule.number_of_atoms())\n",
    "print('Number of electrons:', molecule.number_of_electrons())\n",
    "print('Number of contracted basis functions:', basis.get_dimensions_of_basis(molecule))"
   ]
  },
  {
   "cell_type": "markdown",
   "id": "4f3156f7-f286-4b7c-82b2-4b3826b6f4c6",
   "metadata": {},
   "source": [
    "## SCF optimization\n",
    "\n",
    "Perform a self-consistent field (SCF) optimization to obtain the Hartree--Fock wave function and the associated ground-state energy."
   ]
  },
  {
   "cell_type": "code",
   "execution_count": 6,
   "id": "7ffdf71c-b0f4-4003-84d4-50451f5b089d",
   "metadata": {
    "scrolled": true,
    "tags": [
     "output_scroll"
    ]
   },
   "outputs": [
    {
     "name": "stdout",
     "output_type": "stream",
     "text": [
      "                                                                                                                          \n",
      "                                            Self Consistent Field Driver Setup                                            \n",
      "                                           ====================================                                           \n",
      "                                                                                                                          \n",
      "                   Wave Function Model             : Spin-Restricted Hartree-Fock                                         \n",
      "                   Initial Guess Model             : Superposition of Atomic Densities                                    \n",
      "                   Convergence Accelerator         : Two Level Direct Inversion of Iterative Subspace                     \n",
      "                   Max. Number of Iterations       : 50                                                                   \n",
      "                   Max. Number of Error Vectors    : 10                                                                   \n",
      "                   Convergence Threshold           : 1.0e-06                                                              \n",
      "                   ERI Screening Scheme            : Cauchy Schwarz + Density                                             \n",
      "                   ERI Screening Mode              : Dynamic                                                              \n",
      "                   ERI Screening Threshold         : 1.0e-12                                                              \n",
      "                   Linear Dependence Threshold     : 1.0e-06                                                              \n",
      "                                                                                                                          \n",
      "* Info * Nuclear repulsion energy: 9.1561447194 a.u.                                                                      \n",
      "                                                                                                                          \n",
      "* Info * Overlap matrix computed in 0.01 sec.                                                                             \n",
      "                                                                                                                          \n",
      "* Info * Kinetic energy matrix computed in 0.00 sec.                                                                      \n",
      "                                                                                                                          \n",
      "* Info * Nuclear potential matrix computed in 0.00 sec.                                                                   \n",
      "                                                                                                                          \n",
      "* Info * Orthogonalization matrix computed in 0.02 sec.                                                                   \n",
      "                                                                                                                          \n",
      "* Info * SAD initial guess computed in 0.00 sec.                                                                          \n",
      "                                                                                                                          \n",
      "* Info * Starting Reduced Basis SCF calculation...                                                                        \n",
      "* Info * ...done. SCF energy in reduced basis set: -75.980526010891 a.u. Time: 0.14 sec.                                  \n",
      "                                                                                                                          \n",
      "* Info * Overlap matrix computed in 0.00 sec.                                                                             \n",
      "                                                                                                                          \n",
      "* Info * Kinetic energy matrix computed in 0.00 sec.                                                                      \n",
      "                                                                                                                          \n",
      "* Info * Nuclear potential matrix computed in 0.00 sec.                                                                   \n",
      "                                                                                                                          \n",
      "* Info * Orthogonalization matrix computed in 0.00 sec.                                                                   \n",
      "                                                                                                                          \n",
      "                                                                                                                          \n",
      "               Iter. | Hartree-Fock Energy | Energy Change | Gradient Norm | Max. Gradient | Density Change               \n",
      "               --------------------------------------------------------------------------------------------               \n",
      "                  1       -76.025514170400    0.0000000000      0.09661894      0.01034981      0.00000000                \n",
      "                  2       -76.026530063454   -0.0010158931      0.01856585      0.00282747      0.02538073                \n",
      "                  3       -76.026575250863   -0.0000451874      0.00393964      0.00064892      0.00485806                \n",
      "                  4       -76.026577667709   -0.0000024168      0.00240246      0.00040859      0.00161571                \n",
      "                  5       -76.026578208026   -0.0000005403      0.00021790      0.00003292      0.00050560                \n",
      "                  6       -76.026578219600   -0.0000000116      0.00003172      0.00000533      0.00012152                \n",
      "                  7       -76.026578219828   -0.0000000002      0.00000210      0.00000030      0.00001639                \n",
      "                  8       -76.026578219829   -0.0000000000      0.00000055      0.00000009      0.00000089                \n",
      "                                                                                                                          \n",
      "               *** SCF converged in 8 iterations. Time: 0.95 sec.                                                         \n",
      "                                                                                                                          \n",
      "               Spin-Restricted Hartree-Fock:                                                                              \n",
      "               -----------------------------                                                                              \n",
      "               Total Energy                       :      -76.0265782198 a.u.                                              \n",
      "               Electronic Energy                  :      -85.1827229393 a.u.                                              \n",
      "               Nuclear Repulsion Energy           :        9.1561447194 a.u.                                              \n",
      "               ------------------------------------                                                                       \n",
      "               Gradient Norm                      :        0.0000005463 a.u.                                              \n",
      "                                                                                                                          \n",
      "                                                                                                                          \n",
      "               Ground State Information                                                                                   \n",
      "               ------------------------                                                                                   \n",
      "               Charge of Molecule            :  0.0                                                                       \n",
      "               Multiplicity (2S+1)           :  1.0                                                                       \n",
      "               Magnetic Quantum Number (M_S) :  0.0                                                                       \n",
      "                                                                                                                          \n",
      "                                                                                                                          \n",
      "                                                 Spin Restricted Orbitals                                                 \n",
      "                                                 ------------------------                                                 \n",
      "                                                                                                                          \n",
      "               Molecular Orbital No.   1:                                                                                 \n",
      "               --------------------------                                                                                 \n",
      "               Occupation: 2.000 Energy:  -20.55120 a.u.                                                                  \n",
      "               (   1 O   1s  :     1.00)                                                                                  \n",
      "                                                                                                                          \n",
      "               Molecular Orbital No.   2:                                                                                 \n",
      "               --------------------------                                                                                 \n",
      "               Occupation: 2.000 Energy:   -1.33473 a.u.                                                                  \n",
      "               (   1 O   2s  :     0.44) (   1 O   3s  :     0.38) (   2 H   1s  :     0.19)                              \n",
      "               (   3 H   1s  :     0.19)                                                                                  \n",
      "                                                                                                                          \n",
      "               Molecular Orbital No.   3:                                                                                 \n",
      "               --------------------------                                                                                 \n",
      "               Occupation: 2.000 Energy:   -0.69693 a.u.                                                                  \n",
      "               (   1 O   1p+1:     0.49) (   1 O   2p+1:     0.22) (   2 H   1s  :    -0.33)                              \n",
      "               (   3 H   1s  :     0.33)                                                                                  \n",
      "                                                                                                                          \n",
      "               Molecular Orbital No.   4:                                                                                 \n",
      "               --------------------------                                                                                 \n",
      "               Occupation: 2.000 Energy:   -0.56605 a.u.                                                                  \n",
      "               (   1 O   2s  :    -0.15) (   1 O   3s  :    -0.35) (   1 O   1p-1:    -0.54)                              \n",
      "               (   1 O   2p-1:    -0.37) (   2 H   1s  :     0.21) (   3 H   1s  :     0.21)                              \n",
      "                                                                                                                          \n",
      "               Molecular Orbital No.   5:                                                                                 \n",
      "               --------------------------                                                                                 \n",
      "               Occupation: 2.000 Energy:   -0.49290 a.u.                                                                  \n",
      "               (   1 O   1p0 :    -0.63) (   1 O   2p0 :    -0.50)                                                        \n",
      "                                                                                                                          \n",
      "               Molecular Orbital No.   6:                                                                                 \n",
      "               --------------------------                                                                                 \n",
      "               Occupation: 0.000 Energy:    0.18486 a.u.                                                                  \n",
      "               (   1 O   3s  :    -1.00) (   1 O   1p-1:     0.19) (   1 O   2p-1:     0.34)                              \n",
      "               (   2 H   2s  :     0.83) (   3 H   2s  :     0.83)                                                        \n",
      "                                                                                                                          \n",
      "               Molecular Orbital No.   7:                                                                                 \n",
      "               --------------------------                                                                                 \n",
      "               Occupation: 0.000 Energy:    0.25567 a.u.                                                                  \n",
      "               (   1 O   1p+1:     0.28) (   1 O   2p+1:     0.67) (   2 H   2s  :     1.44)                              \n",
      "               (   3 H   2s  :    -1.44)                                                                                  \n",
      "                                                                                                                          \n",
      "               Molecular Orbital No.   8:                                                                                 \n",
      "               --------------------------                                                                                 \n",
      "               Occupation: 0.000 Energy:    0.78605 a.u.                                                                  \n",
      "               (   1 O   1p+1:    -0.27) (   1 O   2p+1:    -0.45) (   2 H   1s  :    -0.94)                              \n",
      "               (   2 H   2s  :     0.69) (   2 H   1p-1:     0.15) (   3 H   1s  :     0.94)                              \n",
      "               (   3 H   2s  :    -0.69) (   3 H   1p-1:    -0.15)                                                        \n",
      "                                                                                                                          \n",
      "               Molecular Orbital No.   9:                                                                                 \n",
      "               --------------------------                                                                                 \n",
      "               Occupation: 0.000 Energy:    0.85103 a.u.                                                                  \n",
      "               (   1 O   2s  :    -0.26) (   1 O   3s  :     0.32) (   1 O   1p-1:     0.33)                              \n",
      "               (   2 H   1s  :     0.79) (   2 H   2s  :    -0.55) (   2 H   1p+1:    -0.29)                              \n",
      "               (   3 H   1s  :     0.79) (   3 H   2s  :    -0.55) (   3 H   1p+1:     0.29)                              \n",
      "                                                                                                                          \n",
      "               Molecular Orbital No.  10:                                                                                 \n",
      "               --------------------------                                                                                 \n",
      "               Occupation: 0.000 Energy:    1.16387 a.u.                                                                  \n",
      "               (   1 O   3s  :    -0.74) (   1 O   1p-1:    -0.76) (   1 O   2p-1:     1.27)                              \n",
      "               (   2 H   1s  :     0.54) (   2 H   1p-1:     0.25) (   3 H   1s  :     0.54)                              \n",
      "               (   3 H   1p-1:     0.25)                                                                                  \n",
      "                                                                                                                          \n"
     ]
    }
   ],
   "source": [
    "scf_drv = vlx.ScfRestrictedDriver()\n",
    "scf_results = scf_drv.compute(molecule, basis)"
   ]
  },
  {
   "cell_type": "markdown",
   "id": "f497aae3-36ee-4961-a6d2-b76362d3d1c9",
   "metadata": {},
   "source": [
    "## SCF information\n",
    "\n",
    "The SCF driver object has a method named `get_scf_energy()` for retrieving the final energy."
   ]
  },
  {
   "cell_type": "code",
   "execution_count": null,
   "id": "99f3f957-b815-49be-af0b-bb889289239c",
   "metadata": {},
   "outputs": [],
   "source": [
    "print(f'Hartree–Fock energy: {scf_drv.get_scf_energy():14.10f} a.u.')"
   ]
  },
  {
   "cell_type": "markdown",
   "id": "e802a0a3-bbb7-4f14-a781-92598079834f",
   "metadata": {},
   "source": [
    "The return object from the `compute()` method is a Python dictionary containing several tensors:\n",
    "\n",
    "- `C`: molecular orbital coefficients as a NumPy array\n",
    "- `E`: orbital energies as a NumPy array\n",
    "- `D`: $\\alpha$- and $\\beta$-spin density matrices as a tuple of NumPy arrays\n",
    "- `F`: $\\alpha$- and $\\beta$-spin Fock matrices as a tuple of NumPy arrays\n",
    "- `S`: overlap integrals as a NumPy array"
   ]
  },
  {
   "cell_type": "code",
   "execution_count": null,
   "id": "eeb5d272-eb1c-4189-a0e7-722f2fc1a506",
   "metadata": {},
   "outputs": [],
   "source": [
    "print('Dictionary keys:\\n', scf_results.keys())\n",
    "print()\n",
    "print('Orbital energies:\\n', scf_results['E_alpha'])"
   ]
  },
  {
   "cell_type": "markdown",
   "id": "01b5627d-a563-4776-b456-2570c57d2ca6",
   "metadata": {},
   "source": [
    "## Visualizing molecular orbitals\n",
    "\n",
    "The resulting molecular orbitals (MOs) can be visualized using `OrbitalViewer`"
   ]
  },
  {
   "cell_type": "code",
   "execution_count": 7,
   "id": "f5d6f365-b9d7-4a07-b21b-571454b0cd44",
   "metadata": {
    "tags": []
   },
   "outputs": [
    {
     "data": {
      "application/vnd.jupyter.widget-view+json": {
       "model_id": "b6725f172ca541cd85af34d6309dd69c",
       "version_major": 2,
       "version_minor": 0
      },
      "text/plain": [
       "Output()"
      ]
     },
     "metadata": {},
     "output_type": "display_data"
    },
    {
     "data": {
      "application/vnd.jupyter.widget-view+json": {
       "model_id": "0e448d16e60a4a3cae8b4d567e85b58b",
       "version_major": 2,
       "version_minor": 0
      },
      "text/plain": [
       "Dropdown(description='Orbital:', index=4, options=(('  1 occ=2.000 ene=-20.551', 0), ('  2 occ=2.000 ene=-1.33…"
      ]
     },
     "metadata": {},
     "output_type": "display_data"
    }
   ],
   "source": [
    "viewer = vlx.OrbitalViewer()\n",
    "viewer.plot(molecule, basis, scf_drv.mol_orbs)"
   ]
  },
  {
   "cell_type": "code",
   "execution_count": null,
   "id": "f0f06e65-d606-4a24-b062-88c3d4d075a0",
   "metadata": {},
   "outputs": [],
   "source": []
  }
 ],
 "metadata": {
  "kernelspec": {
   "display_name": "Python 3 (ipykernel)",
   "language": "python",
   "name": "python3"
  },
  "language_info": {
   "codemirror_mode": {
    "name": "ipython",
    "version": 3
   },
   "file_extension": ".py",
   "mimetype": "text/x-python",
   "name": "python",
   "nbconvert_exporter": "python",
   "pygments_lexer": "ipython3",
   "version": "3.11.4"
  }
 },
 "nbformat": 4,
 "nbformat_minor": 5
}
