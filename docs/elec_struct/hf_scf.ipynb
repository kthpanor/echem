{
 "cells": [
  {
   "cell_type": "markdown",
   "id": "913a78c4-8954-44cb-a124-7b338fee0937",
   "metadata": {
    "editable": true,
    "slideshow": {
     "slide_type": ""
    },
    "tags": []
   },
   "source": [
    "# SCF optimization"
   ]
  },
  {
   "cell_type": "markdown",
   "id": "8172e9e4-257f-4a3b-adad-802bdc76ed89",
   "metadata": {
    "editable": true,
    "slideshow": {
     "slide_type": ""
    },
    "tags": []
   },
   "source": [
    "Let us implement the presented Hartree–Fock SCF procedure. We will use the water molecule as an illustration."
   ]
  },
  {
   "cell_type": "code",
   "execution_count": 1,
   "id": "ef8a8e06-3669-4ba9-9878-07bc96b51957",
   "metadata": {
    "editable": true,
    "scrolled": true,
    "slideshow": {
     "slide_type": ""
    },
    "tags": [
     "remove-output"
    ]
   },
   "outputs": [
    {
     "name": "stdout",
     "output_type": "stream",
     "text": [
      "* Warning * Environment variable OMP_NUM_THREADS not set.\n",
      "* Warning * Setting OMP_NUM_THREADS to 6.\n"
     ]
    }
   ],
   "source": [
    "import numpy as np\n",
    "import scipy\n",
    "import veloxchem as vlx"
   ]
  },
  {
   "cell_type": "markdown",
   "id": "0c441fd8-c64b-47ac-ad8b-288b075a1996",
   "metadata": {
    "editable": true,
    "slideshow": {
     "slide_type": ""
    },
    "tags": []
   },
   "source": [
    "## Reference calculation\n",
    "\n",
    "### SCF energy\n",
    "\n",
    "Let us first perform an reference calculation using the restricted closed-shell SCF driver in VeloxChem named `ScfRestrictedDriver`."
   ]
  },
  {
   "cell_type": "code",
   "execution_count": 2,
   "id": "ab9bb581-180d-4239-a525-f989f9fbf619",
   "metadata": {
    "editable": true,
    "scrolled": true,
    "slideshow": {
     "slide_type": ""
    },
    "tags": []
   },
   "outputs": [],
   "source": [
    "h2o_xyz = \"\"\"3\n",
    "\n",
    "O    0.000000000000        0.000000000000        0.000000000000\n",
    "H    0.000000000000        0.740848095288        0.582094932012\n",
    "H    0.000000000000       -0.740848095288        0.582094932012\n",
    "\"\"\"\n",
    "\n",
    "molecule = vlx.Molecule.read_xyz_string(h2o_xyz)\n",
    "basis = vlx.MolecularBasis.read(molecule, \"cc-pVDZ\", ostream=None)"
   ]
  },
  {
   "cell_type": "code",
   "execution_count": null,
   "id": "a7861b3f-193f-41ee-925c-fcc2e36cd657",
   "metadata": {},
   "outputs": [],
   "source": [
    "molecule.show()"
   ]
  },
  {
   "cell_type": "code",
   "execution_count": null,
   "id": "8e969794-6a7b-4e6d-a1b3-1968d4b42bfc",
   "metadata": {
    "editable": true,
    "slideshow": {
     "slide_type": ""
    },
    "tags": [
     "remove-output"
    ]
   },
   "outputs": [],
   "source": [
    "scf_drv = vlx.ScfRestrictedDriver()\n",
    "scf_drv.ostream.mute()\n",
    "scf_results = scf_drv.compute(molecule, basis)"
   ]
  },
  {
   "cell_type": "code",
   "execution_count": 4,
   "id": "20db98f7-717a-4aa1-a10b-66abf6f79c0f",
   "metadata": {
    "editable": true,
    "slideshow": {
     "slide_type": ""
    },
    "tags": []
   },
   "outputs": [
    {
     "name": "stdout",
     "output_type": "stream",
     "text": [
      "Final HF energy: -76.02698419 Hartree\n"
     ]
    }
   ],
   "source": [
    "print(f\"Final HF energy: {scf_drv.get_scf_energy() : 12.8f} Hartree\")"
   ]
  },
  {
   "cell_type": "markdown",
   "id": "d022f4f9-726e-401b-b663-779fd4068c4a",
   "metadata": {
    "editable": true,
    "slideshow": {
     "slide_type": ""
    },
    "tags": []
   },
   "source": [
    "### Some system parameters"
   ]
  },
  {
   "cell_type": "code",
   "execution_count": 5,
   "id": "94b6df5d-a627-4d71-9018-8ae45a579506",
   "metadata": {
    "editable": true,
    "slideshow": {
     "slide_type": ""
    },
    "tags": []
   },
   "outputs": [
    {
     "name": "stdout",
     "output_type": "stream",
     "text": [
      "Number of contracted basis functions: 24\n",
      "Number of doubly occupied molecular orbitals: 5\n",
      "Nuclear repulsion energy (in a.u.):  9.343638157670\n"
     ]
    }
   ],
   "source": [
    "norb = basis.get_dimensions_of_basis()\n",
    "nocc = molecule.number_of_alpha_electrons()\n",
    "V_nuc = molecule.nuclear_repulsion_energy()\n",
    "\n",
    "print(\"Number of contracted basis functions:\", norb)\n",
    "print(\"Number of doubly occupied molecular orbitals:\", nocc)\n",
    "print(f\"Nuclear repulsion energy (in a.u.): {V_nuc : 14.12f}\")"
   ]
  },
  {
   "cell_type": "markdown",
   "id": "7353979f-12bf-438e-bdb9-55b90ad8024a",
   "metadata": {
    "editable": true,
    "slideshow": {
     "slide_type": ""
    },
    "tags": []
   },
   "source": [
    "## Getting integrals in AO basis"
   ]
  },
  {
   "cell_type": "code",
   "execution_count": 6,
   "id": "f1c715c1-5731-4357-9f91-34fb55aa3f7f",
   "metadata": {
    "tags": []
   },
   "outputs": [],
   "source": [
    "# overlap matrix\n",
    "overlap_drv = vlx.OverlapIntegralsDriver()\n",
    "S = overlap_drv.compute(molecule, basis).to_numpy()\n",
    "\n",
    "# one-electron Hamiltonian\n",
    "kinetic_drv = vlx.KineticEnergyIntegralsDriver()\n",
    "T = kinetic_drv.compute(molecule, basis).to_numpy()\n",
    "\n",
    "nucpot_drv = vlx.NuclearPotentialIntegralsDriver()\n",
    "V = -nucpot_drv.compute(molecule, basis).to_numpy()\n",
    "\n",
    "h = T + V\n",
    "\n",
    "# two-electron Hamiltonian\n",
    "eri_drv = vlx.ElectronRepulsionIntegralsDriver()\n",
    "g = eri_drv.compute_in_memory(molecule, basis)"
   ]
  },
  {
   "cell_type": "markdown",
   "id": "7b22574b-0994-4c02-a5f0-552bea9d8420",
   "metadata": {
    "editable": true,
    "slideshow": {
     "slide_type": ""
    },
    "tags": []
   },
   "source": [
    "## Convergence measure\n",
    "\n",
    "As a measure of convergence, we adopt the norm of the following matrix in AO basis\n",
    "\n",
    "$$\n",
    "\\mathbf{e} = \n",
    "\\mathbf{F D S} -\n",
    "\\mathbf{S D F}\n",
    "$$\n",
    "\n",
    "It is convenient to scatter the elements of this matrix into the format of a vector and which we refer to as the *error vector*. During the course of the SCF iterations, we form a sequence of error vectors, $\\mathbf{e}_i$.\n",
    "\n",
    "The choice of convergence metric may at first appear unintuitive but becomes less so in the MO basis\n",
    "\n",
    "$$\n",
    "\\mathbf{e}^\\mathrm{MO} = \n",
    "\\mathbf{C}^\\dagger \\mathbf{e} \\, \\mathbf{C} =\n",
    "\\begin{bmatrix}\n",
    "0 & -F_\\mathrm{ov} \\\\\n",
    "F_\\mathrm{vo} & 0 \\\\\n",
    "\\end{bmatrix}\n",
    "$$\n",
    "\n",
    "where it is seen to correspond to vanishing occupied—virtual blocks in the Fock matrix."
   ]
  },
  {
   "cell_type": "markdown",
   "id": "df7606d4-0ca4-4162-906f-7298cbbca5f9",
   "metadata": {
    "editable": true,
    "slideshow": {
     "slide_type": ""
    },
    "tags": []
   },
   "source": [
    "## SCF iterations\n",
    "\n",
    "We form an initial guess for the density based on the core Hamiltonian. "
   ]
  },
  {
   "cell_type": "code",
   "execution_count": 7,
   "id": "ca92213c-04b4-4759-ad53-cfdcba48eca2",
   "metadata": {
    "editable": true,
    "slideshow": {
     "slide_type": ""
    },
    "tags": []
   },
   "outputs": [],
   "source": [
    "# initial guess from core Hamiltonian\n",
    "epsilon, C = scipy.linalg.eigh(h, S)"
   ]
  },
  {
   "cell_type": "markdown",
   "id": "98776146-3f02-448a-ba57-c14e8f014adf",
   "metadata": {
    "editable": true,
    "slideshow": {
     "slide_type": ""
    },
    "tags": []
   },
   "source": [
    " Next, we perform SCF iterations until convergence (or the maximum number of iterations) is reached."
   ]
  },
  {
   "cell_type": "code",
   "execution_count": 8,
   "id": "65f23ff6-0fcb-4a44-aeec-32dc7beda28a",
   "metadata": {
    "editable": true,
    "slideshow": {
     "slide_type": ""
    },
    "tags": []
   },
   "outputs": [],
   "source": [
    "max_iter = 50\n",
    "conv_thresh = 1e-6\n",
    "\n",
    "error_RH = []"
   ]
  },
  {
   "cell_type": "code",
   "execution_count": 9,
   "id": "85767ff5-3ca2-4a68-b901-a156c82f49cc",
   "metadata": {
    "editable": true,
    "slideshow": {
     "slide_type": ""
    },
    "tags": []
   },
   "outputs": [
    {
     "name": "stdout",
     "output_type": "stream",
     "text": [
      "iter      SCF energy    Error norm\n",
      " 0      -68.84975229    3.09e+00\n",
      " 1      -69.95937641    2.88e+00\n",
      " 2      -73.34743276    2.83e+00\n",
      " 3      -73.46688910    2.23e+00\n",
      " 4      -74.74058933    2.18e+00\n",
      " 5      -75.55859127    1.41e+00\n",
      " 6      -75.86908635    8.26e-01\n",
      " 7      -75.97444165    4.82e-01\n",
      " 8      -76.00992921    2.74e-01\n",
      " 9      -76.02143957    1.57e-01\n",
      "10      -76.02519173    8.89e-02\n",
      "11      -76.02640379    5.06e-02\n",
      "12      -76.02679653    2.88e-02\n",
      "13      -76.02692347    1.64e-02\n",
      "14      -76.02696455    9.31e-03\n",
      "15      -76.02697784    5.30e-03\n",
      "16      -76.02698213    3.01e-03\n",
      "17      -76.02698352    1.71e-03\n",
      "18      -76.02698397    9.74e-04\n",
      "19      -76.02698412    5.54e-04\n",
      "20      -76.02698416    3.15e-04\n",
      "21      -76.02698418    1.79e-04\n",
      "22      -76.02698418    1.02e-04\n",
      "23      -76.02698419    5.80e-05\n",
      "24      -76.02698419    3.30e-05\n",
      "25      -76.02698419    1.88e-05\n",
      "26      -76.02698419    1.07e-05\n",
      "27      -76.02698419    6.07e-06\n",
      "28      -76.02698419    3.45e-06\n",
      "29      -76.02698419    1.96e-06\n",
      "30      -76.02698419    1.12e-06\n",
      "31      -76.02698419    6.35e-07\n",
      "SCF iterations converged!\n"
     ]
    }
   ],
   "source": [
    "print(\"iter      SCF energy    Error norm\")\n",
    "\n",
    "for iter in range(max_iter):\n",
    "\n",
    "    D = np.einsum(\"ik,jk->ij\", C[:, :nocc], C[:, :nocc])\n",
    "\n",
    "    J = np.einsum(\"ijkl,kl->ij\", g, D)\n",
    "    K = np.einsum(\"ilkj,kl->ij\", g, D)\n",
    "    F = h + 2 * J - K\n",
    "\n",
    "    E = np.einsum(\"ij,ij->\", h + F, D) + V_nuc\n",
    "\n",
    "    # compute convergence metric\n",
    "    e_mat = np.linalg.multi_dot([F, D, S]) - np.linalg.multi_dot([S, D, F])\n",
    "    e_vec = e_mat.reshape(-1)\n",
    "    error = np.linalg.norm(e_vec)\n",
    "\n",
    "    print(f\"{iter:>2d}  {E:16.8f}  {error:10.2e}\")\n",
    "    error_RH.append(error)\n",
    "\n",
    "    if error < conv_thresh:\n",
    "        print(\"SCF iterations converged!\")\n",
    "        break\n",
    "\n",
    "    epsilon, C = scipy.linalg.eigh(F, S)"
   ]
  },
  {
   "cell_type": "markdown",
   "id": "d15ac06f-1091-4811-94d7-d49cb97046e6",
   "metadata": {
    "editable": true,
    "slideshow": {
     "slide_type": ""
    },
    "tags": []
   },
   "source": [
    "We note the final energy is in perfect agreement with that of the reference calculation."
   ]
  },
  {
   "cell_type": "markdown",
   "id": "96a058d6-fafa-4c48-bce0-d2b108c88e37",
   "metadata": {
    "editable": true,
    "slideshow": {
     "slide_type": ""
    },
    "tags": []
   },
   "source": [
    "# Convergence acceleration\n",
    "\n",
    "## Direct inversion iterative subspace\n",
    "\n",
    "The Rothaan–Hall scheme suffer from poor numerical convergence and in practice some version of convergence acceleration is adopted. In the method of direct inversion of the iterative subspace (DIIS) {cite}`Pulay1980, Pulay1982, Sellers1993` information is used from not only the present but also previous iterations to form an *averaged* effective one-electron Hamiltonian, or Fock matrix, according to\n",
    "\n",
    "$$\n",
    "\\mathbf{F}_n^\\mathrm{DIIS} = \\sum_{i=1}^n w_i \\mathbf{F}_i\n",
    "$$\n",
    "\n",
    "where $\\mathbf{F}_i$ is the Fock matrix generated in SCF iteration $i$, $n$ is present iteration, and the weights, $w_i$, are to be determined. To guarantee that the one-electron Hamiltonian is preserved in the effective Fock operator,  we impose the condition\n",
    "\n",
    "$$\n",
    "\\sum_{i=1}^n w_i = 1\n",
    "$$\n",
    "\n",
    "Under the assumption of a strict linearity between Fock matrices and error vectors, the error vector of the averaged Fock matrix would equal\n",
    "\n",
    "$$\n",
    "\\mathbf{e}_n^\\mathrm{DIIS} = \\sum_{i=1}^n w_i \\mathbf{e}_i\n",
    "$$\n",
    "\n",
    "As the molecular orbitals change from one iteration to the next, this is not strictly the case but it is a good approximation. We can then determine the weights by minimizing the squared norm of this error vector under the imposed constraint. The squared norm becomes equal to\n",
    "\n",
    "$$\n",
    "\\| \\mathbf{e}_n^\\mathrm{DIIS} \\|^2 =\n",
    "\\sum_{i,j=1}^n w_i B_{ij} w_j ; \\quad\n",
    "B_{ij} = \\langle \\mathbf{e}_i | \\mathbf{e}_j \\rangle\n",
    "$$\n",
    "\n",
    "and the constrained minimization is achieved by introducing a Lagrangian\n",
    "\n",
    "$$\n",
    "L =\n",
    "\\| \\mathbf{e}_n^\\mathrm{DIIS} \\|^2 - 2\\lambda\n",
    "\\Big(\n",
    "\\sum_{i=1}^n w_i - 1\n",
    "\\Big)\n",
    "$$\n",
    "\n",
    "where the factor of $-2$ multiplying the Lagrange multiplier $\\lambda$ is a mere convention as to arrive at an explicit matrix equation of the form\n",
    "\n",
    "$$\n",
    "\\begin{pmatrix}\n",
    "B_{11} & \\cdots & B_{1n} & -1 \\\\\n",
    "\\vdots & \\ddots & \\vdots & \\vdots \\\\\n",
    "B_{n1} & \\cdots & B_{nn} & -1 \\\\\n",
    "-1 & \\cdots & -1 & 0\n",
    "\\end{pmatrix}\n",
    "\\begin{pmatrix}\n",
    "w_1 \\\\ \\vdots \\\\ w_n \\\\ \\lambda\n",
    "\\end{pmatrix}\n",
    "=\n",
    "\\begin{pmatrix}\n",
    "0 \\\\ \\vdots \\\\ 0 \\\\ -1\n",
    "\\end{pmatrix}\n",
    "$$\n",
    "\n",
    "We solve this equation for the weights, $w_i$, and then determine the averaged Fock matrix, $\\mathbf{F}_n^\\mathrm{DIIS}$."
   ]
  },
  {
   "cell_type": "code",
   "execution_count": 10,
   "id": "7404e1be-e5a8-4391-9885-874058274cef",
   "metadata": {
    "editable": true,
    "slideshow": {
     "slide_type": ""
    },
    "tags": []
   },
   "outputs": [],
   "source": [
    "def c1diis(F_mats, e_vecs):\n",
    "\n",
    "    n = len(e_vecs)\n",
    "\n",
    "    # build DIIS matrix\n",
    "    B = -np.ones((n + 1, n + 1))\n",
    "    B[n, n] = 0\n",
    "\n",
    "    for i in range(n):\n",
    "        for j in range(n):\n",
    "            B[i, j] = np.dot(e_vecs[i], e_vecs[j])\n",
    "\n",
    "    b = np.zeros(n + 1)\n",
    "    b[n] = -1\n",
    "\n",
    "    w = np.matmul(np.linalg.inv(B), b)\n",
    "\n",
    "    F_diis = np.zeros((norb, norb))\n",
    "    for i in range(n):\n",
    "        F_diis += w[i] * F_mats[i]\n",
    "\n",
    "    return F_diis"
   ]
  },
  {
   "cell_type": "markdown",
   "id": "daafcf52-8d39-4991-83bf-367ebc916635",
   "metadata": {
    "editable": true,
    "slideshow": {
     "slide_type": ""
    },
    "tags": []
   },
   "source": [
    "## SCF iterations\n",
    "In principle, the only needed modification in the SCF module to implement the DIIS scheme is to replace the original Fock matrix with the weighted averaged counterpart before the determination of the new MO coefficients. But it is also required to save Fock matrices and error vectors from previous SCF iterations. In practice, this extra storage requirement does not severely hamper applications, and in particular so as an optimum stabilitity in the DIIS scheme is experienced with the use of information from a limited number (about 10) of the previous iterations."
   ]
  },
  {
   "cell_type": "code",
   "execution_count": 11,
   "id": "f08a0fab-7d80-4af6-a926-5867c2973622",
   "metadata": {
    "editable": true,
    "slideshow": {
     "slide_type": ""
    },
    "tags": []
   },
   "outputs": [
    {
     "name": "stdout",
     "output_type": "stream",
     "text": [
      "iter      SCF energy    Error norm\n",
      " 0      -68.84975229    3.09e+00\n",
      " 1      -69.95937641    2.88e+00\n",
      " 2      -75.88501761    8.37e-01\n",
      " 3      -75.97016719    5.18e-01\n",
      " 4      -76.01483442    2.34e-01\n",
      " 5      -76.02676704    3.29e-02\n",
      " 6      -76.02698021    3.32e-03\n",
      " 7      -76.02698392    8.01e-04\n",
      " 8      -76.02698418    2.04e-04\n",
      " 9      -76.02698419    6.97e-05\n",
      "10      -76.02698419    2.06e-06\n",
      "11      -76.02698419    5.43e-07\n",
      "SCF iterations converged!\n"
     ]
    }
   ],
   "source": [
    "e_vecs = []\n",
    "F_mats = []\n",
    "error_DIIS = []\n",
    "\n",
    "# initial guess from core Hamiltonian\n",
    "epsilon, C = scipy.linalg.eigh(h, S)\n",
    "\n",
    "print(\"iter      SCF energy    Error norm\")\n",
    "\n",
    "for iter in range(max_iter):\n",
    "\n",
    "    D = np.einsum(\"ik,jk->ij\", C[:, :nocc], C[:, :nocc])\n",
    "\n",
    "    J = np.einsum(\"ijkl,kl->ij\", g, D)\n",
    "    K = np.einsum(\"ilkj,kl->ij\", g, D)\n",
    "    F = h + 2 * J - K\n",
    "    F_mats.append(F)\n",
    "\n",
    "    E = np.einsum(\"ij,ij->\", h + F, D) + V_nuc\n",
    "\n",
    "    # compute convergence metric\n",
    "    e_mat = np.linalg.multi_dot([F, D, S]) - np.linalg.multi_dot([S, D, F])\n",
    "    e_vecs.append(e_mat.reshape(-1))\n",
    "    error = np.linalg.norm(e_vecs[-1])\n",
    "\n",
    "    print(f\"{iter:>2d}  {E:16.8f}  {error:10.2e}\")\n",
    "    error_DIIS.append(error)\n",
    "\n",
    "    if error < conv_thresh:\n",
    "        print(\"SCF iterations converged!\")\n",
    "        break\n",
    "\n",
    "    F = c1diis(F_mats, e_vecs)\n",
    "    epsilon, C = scipy.linalg.eigh(F, S)"
   ]
  },
  {
   "cell_type": "code",
   "execution_count": 12,
   "id": "d01d96da-e5c0-4efc-969b-33c297fa656a",
   "metadata": {
    "editable": true,
    "slideshow": {
     "slide_type": ""
    },
    "tags": []
   },
   "outputs": [
    {
     "data": {
      "image/png": "[encoded data removed]",
      "text/plain": [
       "<Figure size 600x300 with 1 Axes>"
      ]
     },
     "metadata": {},
     "output_type": "display_data"
    }
   ],
   "source": [
    "import matplotlib.pyplot as plt\n",
    "\n",
    "plt.figure(figsize=(6, 3))\n",
    "\n",
    "plt.plot(error_RH, label=\"Roothaan–Hall\")\n",
    "plt.plot(error_DIIS, label=\"DIIS\")\n",
    "\n",
    "plt.yscale(\"log\")\n",
    "\n",
    "plt.axhline(y=conv_thresh, linestyle=\"--\", color=\"grey\")\n",
    "plt.legend(frameon=False)\n",
    "plt.xlabel(\"Iteration\")\n",
    "plt.ylabel(r\"Error norm\")\n",
    "\n",
    "plt.show()"
   ]
  }
 ],
 "metadata": {
  "kernelspec": {
   "display_name": "Python 3 (ipykernel)",
   "language": "python",
   "name": "python3"
  },
  "language_info": {
   "codemirror_mode": {
    "name": "ipython",
    "version": 3
   },
   "file_extension": ".py",
   "mimetype": "text/x-python",
   "name": "python",
   "nbconvert_exporter": "python",
   "pygments_lexer": "ipython3",
   "version": "3.11.7"
  }
 },
 "nbformat": 4,
 "nbformat_minor": 5
}
