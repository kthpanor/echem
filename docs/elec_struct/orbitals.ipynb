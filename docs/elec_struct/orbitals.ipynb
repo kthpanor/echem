{
 "cells": [
  {
   "cell_type": "markdown",
   "id": "abd8da60",
   "metadata": {},
   "source": [
    "(sec:orbitals)=\n",
    "# Orbitals and basis sets\n",
    "\n",
    "## Electronic wave functions and molecular orbitals\n",
    "\n",
    "State vectors representing single-electron systems reside in a Hilbert space formed as a direct product\n",
    "\n",
    "$$\n",
    "\\mathcal{V} = \n",
    "\\mathcal{V}^\\mathrm{o} \\otimes \n",
    "\\mathcal{V}^\\mathrm{c} \\otimes \n",
    "\\mathcal{V}^\\mathrm{s}\n",
    "$$\n",
    "\n",
    "The underlying vector spaces are associated with orbital, charge, and spin degrees of freedom. The elements of $\\mathcal{V}$ can be expressed in terms of\n",
    "\n",
    "$$\n",
    "\\psi^{\\mathrm{L}\\alpha}(\\mathbf{r},t) \n",
    "\\otimes\n",
    "\\begin{pmatrix}\n",
    "1\\\\0\n",
    "\\end{pmatrix}\n",
    "\\otimes\n",
    "\\begin{pmatrix}\n",
    "1\\\\0\n",
    "\\end{pmatrix}; \\quad\n",
    "\\psi^{\\mathrm{L}\\beta}(\\mathbf{r},t) \n",
    "\\otimes\n",
    "\\begin{pmatrix}\n",
    "1\\\\0\n",
    "\\end{pmatrix}\n",
    "\\otimes\n",
    "\\begin{pmatrix}\n",
    "0\\\\1\n",
    "\\end{pmatrix} \n",
    "$$\n",
    "\n",
    "$$\n",
    "\\psi^{\\mathrm{S}\\alpha}(\\mathbf{r},t) \n",
    "\\otimes\n",
    "\\begin{pmatrix}\n",
    "0\\\\1\n",
    "\\end{pmatrix}\n",
    "\\otimes\n",
    "\\begin{pmatrix}\n",
    "1\\\\0\n",
    "\\end{pmatrix} ; \\quad\n",
    "\\psi^{\\mathrm{S}\\beta}(\\mathbf{r},t) \n",
    "\\otimes\n",
    "\\begin{pmatrix}\n",
    "0\\\\1\n",
    "\\end{pmatrix}\n",
    "\\otimes\n",
    "\\begin{pmatrix}\n",
    "0\\\\1\n",
    "\\end{pmatrix} \n",
    "$$\n",
    "\n",
    "with a sum that equals a general wave function for a single-electron system, also known as a spinor,\n",
    "\n",
    "$$\n",
    "\\psi(\\mathbf{r},t) =\n",
    "\\begin{pmatrix}\n",
    "\\psi^{\\mathrm{L}\\alpha} \\\\\n",
    "\\psi^{\\mathrm{L}\\beta} \\\\\n",
    "\\psi^{\\mathrm{S}\\alpha} \\\\\n",
    "\\psi^{\\mathrm{S}\\beta} \n",
    "\\end{pmatrix}\n",
    "$$\n",
    "\n",
    "In this general case, the particle density becomes\n",
    "\n",
    "$$\n",
    "n(\\mathbf{r},t) = \n",
    "\\psi^\\dagger \\psi =\n",
    "\\sum_\\mathrm{c}^{\\mathrm{L,S}}\n",
    "\\sum_\\sigma^{\\alpha,\\beta}\n",
    "\\left|\n",
    "\\psi^{\\mathrm{c}\\sigma}(\\mathbf{r},t) \n",
    "\\right|^2\n",
    "$$\n",
    "\n",
    "Spinor components $\\psi^{\\mathrm{S}\\alpha}$ and $\\psi^{\\mathrm{S}\\beta}$ are small and sometimes ignored, reducing the electronic wave function to two-component form\n",
    "\n",
    "$$\n",
    "\\psi(\\mathbf{r},t) =\n",
    "\\begin{pmatrix}\n",
    "\\psi^{\\mathrm{L}\\alpha} \\\\\n",
    "\\psi^{\\mathrm{L}\\beta}\n",
    "\\end{pmatrix}\n",
    "$$\n",
    "\n",
    "For a system described by a spin-independent Hamiltonian, the spatial and spin degrees of freedom are separable and we arrive at (suppressing the time variable) single-electron wave functions, or spin orbitals, of the form\n",
    "\n",
    "$$\n",
    "\\psi(\\mathbf{r}) =\n",
    "\\phi(\\mathbf{r}) \\sigma ; \\quad\n",
    "\\sigma = c_\\alpha\n",
    "\\begin{pmatrix}\n",
    "1 \\\\\n",
    "0\n",
    "\\end{pmatrix}\n",
    "+\n",
    "c_\\beta\n",
    "\\begin{pmatrix}\n",
    "0 \\\\\n",
    "1\n",
    "\\end{pmatrix}\n",
    "$$\n",
    "\n",
    "In the collinear approximation, all spin orbitals are eigenfunctions of the spin operator $\\hat{s}_z$ such that every spatial function (or molecular orbital), $\\phi(\\mathrm{r})$, gives rise to two spin orbitals\n",
    "\n",
    "$$\n",
    "\\psi_{a}(\\mathbf{r}) = \\phi_a(\\mathbf{r})\n",
    "\\begin{pmatrix}\n",
    "1 \\\\\n",
    "0\n",
    "\\end{pmatrix} ; \\quad\n",
    "\\psi_{\\bar{a}}(\\mathbf{r}) = \\phi_a(\\mathbf{r})\n",
    "\\begin{pmatrix}\n",
    "0 \\\\\n",
    "1\n",
    "\\end{pmatrix}\n",
    "$$\n",
    "\n",
    "referred to as $\\alpha$- and $\\beta$-spin orbitals, respectively."
   ]
  },
  {
   "cell_type": "markdown",
   "id": "42d83138",
   "metadata": {},
   "source": [
    "(sec:lcao)=\n",
    "### Linear combination of atomic orbitals\n",
    "In quantum chemistry, molecular orbitals (MOs) are normally expanded in a set of atom-centered basis functions, or localized atomic orbitals (AOs)\n",
    "\n",
    "$$\n",
    "\\phi_a(\\mathbf{r}) =\n",
    "\\sum_\\alpha\n",
    "c_{\\alpha a} \\chi_\\alpha(\\mathbf{r} - \\mathbf{R}_\\alpha)\n",
    "$$\n",
    "\n",
    "where $\\mathbf{R}_\\alpha$ denotes the atomic position center of basis function $\\chi_\\alpha$, and the expansion coefficients $c_{\\alpha a}$ are known as molecular orbital (MO) coefficients. Using the Dirac notation, this linear combination of atomic orbitals (LCAO) expansion takes the form\n",
    "\n",
    "$$\n",
    "| \\phi_a \\rangle =\n",
    "\\sum_\\alpha\n",
    "| \\chi_\\alpha \\rangle c_{\\alpha a}\n",
    "$$\n",
    "\n",
    "It can be convenient to collect the set of MOs (and AOs) as a row vector and introduce a notation\n",
    "\n",
    "$$\n",
    "| \\overline{\\phi} \\rangle = (\\ldots, | \\phi_a \\rangle, \\ldots)\n",
    "$$\n",
    "\n",
    "The LCAO expansion for the entire set of MOs can then be compactly written as\n",
    "\n",
    "$$\n",
    "| \\overline{\\phi} \\rangle = | \\overline{\\chi} \\rangle C\n",
    "$$\n",
    "\n",
    "where $C$ is the MO coefficient matrix."
   ]
  },
  {
   "cell_type": "code",
   "execution_count": 1,
   "id": "62b4251e",
   "metadata": {
    "tags": [
     "remove-output"
    ]
   },
   "outputs": [
    {
     "name": "stderr",
     "output_type": "stream",
     "text": [
      "Warning: importing 'simtk.openmm' is deprecated.  Import 'openmm' instead.\n"
     ]
    },
    {
     "name": "stdout",
     "output_type": "stream",
     "text": [
      "* Warning * Environment variable OMP_NUM_THREADS not set.\n",
      "* Warning * Setting OMP_NUM_THREADS to 8.\n",
      "                                                                                                                          \n",
      "                                            Self Consistent Field Driver Setup                                            \n",
      "                                           ====================================                                           \n",
      "                                                                                                                          \n",
      "                   Wave Function Model             : Spin-Restricted Hartree-Fock                                         \n",
      "                   Initial Guess Model             : Superposition of Atomic Densities                                    \n",
      "                   Convergence Accelerator         : Two Level Direct Inversion of Iterative Subspace                     \n",
      "                   Max. Number of Iterations       : 50                                                                   \n",
      "                   Max. Number of Error Vectors    : 10                                                                   \n",
      "                   Convergence Threshold           : 1.0e-06                                                              \n",
      "                   ERI Screening Scheme            : Cauchy Schwarz + Density                                             \n",
      "                   ERI Screening Mode              : Dynamic                                                              \n",
      "                   ERI Screening Threshold         : 1.0e-12                                                              \n",
      "                   Linear Dependence Threshold     : 1.0e-06                                                              \n",
      "                                                                                                                          \n",
      "* Info * Nuclear repulsion energy: 17.7625916946 a.u.                                                                     \n",
      "                                                                                                                          \n",
      "* Info * Overlap matrix computed in 0.00 sec.                                                                             \n",
      "                                                                                                                          \n",
      "* Info * Kinetic energy matrix computed in 0.00 sec.                                                                      \n",
      "                                                                                                                          \n",
      "* Info * Nuclear potential matrix computed in 0.00 sec.                                                                   \n",
      "                                                                                                                          \n",
      "* Info * Orthogonalization matrix computed in 0.00 sec.                                                                   \n",
      "                                                                                                                          \n",
      "* Info * SAD initial guess computed in 0.00 sec.                                                                          \n",
      "                                                                                                                          \n",
      "* Info * Starting Reduced Basis SCF calculation...                                                                        \n",
      "* Info * ...done. SCF energy in reduced basis set: -111.093515650240 a.u. Time: 0.03 sec.                                 \n",
      "                                                                                                                          \n",
      "* Info * Overlap matrix computed in 0.00 sec.                                                                             \n",
      "                                                                                                                          \n",
      "* Info * Kinetic energy matrix computed in 0.00 sec.                                                                      \n",
      "                                                                                                                          \n",
      "* Info * Nuclear potential matrix computed in 0.00 sec.                                                                   \n",
      "                                                                                                                          \n",
      "* Info * Orthogonalization matrix computed in 0.00 sec.                                                                   \n",
      "                                                                                                                          \n",
      "                                                                                                                          \n",
      "               Iter. | Hartree-Fock Energy | Energy Change | Gradient Norm | Max. Gradient | Density Change               \n",
      "               --------------------------------------------------------------------------------------------               \n",
      "                  1      -111.093592605230    0.0000000000      0.00096613      0.00022146      0.00000000                \n",
      "                  2      -111.093592763320   -0.0000001581      0.00034770      0.00008170      0.00038874                \n",
      "                  3      -111.093592813536   -0.0000000502      0.00003409      0.00000793      0.00047216                \n",
      "                  4      -111.093592813733   -0.0000000002      0.00000082      0.00000019      0.00001785                \n",
      "                                                                                                                          \n",
      "               *** SCF converged in 4 iterations. Time: 0.03 sec.                                                         \n",
      "                                                                                                                          \n",
      "               Spin-Restricted Hartree-Fock:                                                                              \n",
      "               -----------------------------                                                                              \n",
      "               Total Energy                       :     -111.0935928137 a.u.                                              \n",
      "               Electronic Energy                  :     -128.8561845084 a.u.                                              \n",
      "               Nuclear Repulsion Energy           :       17.7625916946 a.u.                                              \n",
      "               ------------------------------------                                                                       \n",
      "               Gradient Norm                      :        0.0000008155 a.u.                                              \n",
      "                                                                                                                          \n",
      "                                                                                                                          \n",
      "               Ground State Information                                                                                   \n",
      "               ------------------------                                                                                   \n",
      "               Charge of Molecule            :  0.0                                                                       \n",
      "               Multiplicity (2S+1)           :  1.0                                                                       \n",
      "               Magnetic Quantum Number (M_S) :  0.0                                                                       \n",
      "                                                                                                                          \n",
      "                                                                                                                          \n",
      "                                                 Spin Restricted Orbitals                                                 \n",
      "                                                 ------------------------                                                 \n",
      "                                                                                                                          \n",
      "               Molecular Orbital No.   3:                                                                                 \n",
      "               --------------------------                                                                                 \n",
      "               Occupation: 2.000 Energy:   -1.24352 a.u.                                                                  \n",
      "               (   1 C   2s  :    -0.26) (   2 O   1s  :     0.23) (   2 O   2s  :    -0.86)                              \n",
      "                                                                                                                          \n",
      "               Molecular Orbital No.   4:                                                                                 \n",
      "               --------------------------                                                                                 \n",
      "               Occupation: 2.000 Energy:   -0.67271 a.u.                                                                  \n",
      "               (   1 C   1s  :     0.23) (   1 C   2s  :    -0.84) (   2 O   2s  :     0.53)                              \n",
      "               (   2 O   1p0 :     0.38)                                                                                  \n",
      "                                                                                                                          \n",
      "               Molecular Orbital No.   5:                                                                                 \n",
      "               --------------------------                                                                                 \n",
      "               Occupation: 2.000 Energy:   -0.40554 a.u.                                                                  \n",
      "               (   1 C   2s  :    -0.47) (   1 C   1p0 :     0.62) (   2 O   2s  :    -0.20)                              \n",
      "               (   2 O   1p0 :    -0.58)                                                                                  \n",
      "                                                                                                                          \n",
      "               Molecular Orbital No.   6:                                                                                 \n",
      "               --------------------------                                                                                 \n",
      "               Occupation: 2.000 Energy:   -0.39039 a.u.                                                                  \n",
      "               (   1 C   1p+1:    -0.42) (   2 O   1p+1:    -0.83) (   2 O   1p-1:    -0.19)                              \n",
      "                                                                                                                          \n",
      "               Molecular Orbital No.   7:                                                                                 \n",
      "               --------------------------                                                                                 \n",
      "               Occupation: 2.000 Energy:   -0.39039 a.u.                                                                  \n",
      "               (   1 C   1p-1:    -0.42) (   2 O   1p+1:     0.19) (   2 O   1p-1:    -0.83)                              \n",
      "                                                                                                                          \n",
      "               Molecular Orbital No.   8:                                                                                 \n",
      "               --------------------------                                                                                 \n",
      "               Occupation: 0.000 Energy:    0.21340 a.u.                                                                  \n",
      "               (   1 C   1p+1:    -0.91) (   2 O   1p+1:     0.55)                                                        \n",
      "                                                                                                                          \n",
      "               Molecular Orbital No.   9:                                                                                 \n",
      "               --------------------------                                                                                 \n",
      "               Occupation: 0.000 Energy:    0.21340 a.u.                                                                  \n",
      "               (   1 C   1p-1:     0.91) (   2 O   1p-1:    -0.55)                                                        \n",
      "                                                                                                                          \n",
      "               Molecular Orbital No.  10:                                                                                 \n",
      "               --------------------------                                                                                 \n",
      "               Occupation: 0.000 Energy:    0.62001 a.u.                                                                  \n",
      "               (   1 C   2s  :    -0.54) (   1 C   1p0 :    -0.94) (   2 O   2s  :     0.55)                              \n",
      "               (   2 O   1p0 :    -0.85)                                                                                  \n",
      "                                                                                                                          \n"
     ]
    }
   ],
   "source": [
    "import veloxchem as vlx\n",
    "\n",
    "mol_str = \"\"\"\n",
    "C        0.00000000    0.00000000    0.00000000\n",
    "O        0.00000000    0.00000000    1.43\n",
    "\"\"\"\n",
    "molecule = vlx.Molecule.read_str(mol_str, units='angstrom')\n",
    "basis = vlx.MolecularBasis.read(molecule, \"sto-3g\")\n",
    "\n",
    "scf_drv = vlx.ScfRestrictedDriver()\n",
    "scf_drv.compute(molecule, basis)"
   ]
  },
  {
   "cell_type": "markdown",
   "id": "0af4f4a6",
   "metadata": {},
   "source": [
    "### Ordering of atomic orbitals\n",
    "\n",
    "The VeloxChem program orders AO basis functions based on\n",
    "\n",
    "1. Angular momentum quantum number, $l$\n",
    "2. Angular momentum quantum number, $m_l$\n",
    "3. User-defined order of atoms\n",
    "\n",
    "In our present example of carbon monoxide using a mimal basis set, the order of basis functions become\n",
    "\n",
    "$\\chi_{1s}^{C}$, $\\chi_{2s}^{C}$, $\\chi_{1s}^{O}$, $\\chi_{2s}^{O}$\n",
    "$\\chi_{2py}^{C}$, $\\chi_{2py}^{O}$, $\\chi_{2pz}^{C}$, $\\chi_{2pz}^{O}$, $\\chi_{2px}^{C}$, $\\chi_{2px}^{O}$"
   ]
  },
  {
   "cell_type": "code",
   "execution_count": 5,
   "id": "5ded6613",
   "metadata": {},
   "outputs": [
    {
     "name": "stdout",
     "output_type": "stream",
     "text": [
      "MO coefficient matrix:\n",
      " [[ 0.001  0.994  0.091  0.228  0.109  0.     0.     0.     0.     0.105]\n",
      " [-0.004  0.024 -0.26  -0.836 -0.47  -0.    -0.    -0.    -0.    -0.536]\n",
      " [ 0.995  0.     0.231 -0.114  0.036 -0.    -0.     0.    -0.    -0.089]\n",
      " [ 0.023 -0.005 -0.856  0.526 -0.196  0.     0.    -0.     0.     0.547]\n",
      " [ 0.     0.     0.    -0.     0.    -0.095 -0.42  -0.034  0.912 -0.   ]\n",
      " [-0.    -0.    -0.     0.     0.    -0.187 -0.826  0.02  -0.548  0.   ]\n",
      " [-0.004  0.004 -0.141  0.003  0.621  0.     0.     0.    -0.    -0.942]\n",
      " [-0.003  0.002  0.112  0.38  -0.578 -0.    -0.     0.    -0.    -0.852]\n",
      " [-0.     0.    -0.    -0.     0.    -0.42   0.095 -0.912 -0.034 -0.   ]\n",
      " [-0.    -0.    -0.    -0.     0.    -0.826  0.187  0.548  0.02   0.   ]]\n"
     ]
    }
   ],
   "source": [
    "import numpy as np\n",
    "np.set_printoptions(precision = 3, suppress = True, linewidth = 170)\n",
    "\n",
    "C = scf_drv.scf_tensors['C']\n",
    "print('MO coefficient matrix:\\n', C)"
   ]
  },
  {
   "cell_type": "markdown",
   "id": "852f78a6",
   "metadata": {},
   "source": [
    "(sec:overlap)=\n",
    "### Overlap matrix\n",
    "The overlap between two basis functions is\n",
    "\n",
    "$$\n",
    "S_{\\alpha\\beta} = \\langle \\chi_\\alpha | \\chi_\\beta \\rangle\n",
    "$$\n",
    "\n",
    "and the overlap matrix can be written as\n",
    "\n",
    "$$\n",
    "S = \\langle \\overline{\\chi} | \\overline{\\chi} \\rangle\n",
    "$$\n",
    "\n",
    "where \n",
    "\n",
    "$$\n",
    "\\langle \\overline{\\chi} | = \n",
    "(\\ldots, \\langle \\chi_\\alpha |, \\ldots)^T\n",
    "$$"
   ]
  },
  {
   "cell_type": "code",
   "execution_count": 6,
   "id": "9fbbc380",
   "metadata": {
    "scrolled": true
   },
   "outputs": [
    {
     "name": "stdout",
     "output_type": "stream",
     "text": [
      "Overlap matrix:\n",
      " [[ 1.     0.248  0.     0.017  0.     0.     0.    -0.031  0.     0.   ]\n",
      " [ 0.248  1.     0.022  0.255  0.     0.     0.    -0.251  0.     0.   ]\n",
      " [ 0.     0.022  1.     0.237  0.     0.     0.036  0.     0.     0.   ]\n",
      " [ 0.017  0.255  0.237  1.     0.     0.     0.337  0.     0.     0.   ]\n",
      " [ 0.     0.     0.     0.     1.     0.132  0.     0.     0.     0.   ]\n",
      " [ 0.     0.     0.     0.     0.132  1.     0.     0.     0.     0.   ]\n",
      " [ 0.     0.     0.036  0.337  0.     0.     1.    -0.285  0.     0.   ]\n",
      " [-0.031 -0.251  0.     0.     0.     0.    -0.285  1.     0.     0.   ]\n",
      " [ 0.     0.     0.     0.     0.     0.     0.     0.     1.     0.132]\n",
      " [ 0.     0.     0.     0.     0.     0.     0.     0.     0.132  1.   ]]\n"
     ]
    }
   ],
   "source": [
    "S = scf_drv.scf_tensors['S']\n",
    "print('Overlap matrix:\\n', S)"
   ]
  },
  {
   "cell_type": "markdown",
   "id": "559963f4",
   "metadata": {},
   "source": [
    "(sec:basis)=\n",
    "## Basis sets\n",
    "\n",
    "Our software comes distibuted with several of the standard basis sets and families of basis sets. For a given element, the available basis sets in the VeloxChem library can be provided from the `MolecularBasis` class object. Should a basis set not be included in the software distribution, it can be readily supplied by the user in a separate file in the working directory."
   ]
  },
  {
   "cell_type": "code",
   "execution_count": 4,
   "id": "f28304d5",
   "metadata": {},
   "outputs": [
    {
     "name": "stdout",
     "output_type": "stream",
     "text": [
      "Available basis sets for carbon:\n",
      " ['6-31++G', '6-31+G', '6-31+G**', '6-311++G', '6-311++G(2D,2P)', '6-311++G**', '6-311+G', '6-311+G(2D,P)', '6-311G', '6-311G(2DF,2PD)', '6-31G', '6-31G(2DF,P)', 'AUG-CC-PCVDZ', 'AUG-CC-PCVQZ', 'AUG-CC-PCVTZ', 'AUG-CC-PVDZ', 'AUG-CC-PVTZ', 'CC-PCVDZ', 'CC-PVDZ', 'CC-PVDZ-RI', 'CC-PVTZ', 'CC-PVTZ-RI', 'D-AUG-CC-PVDZ', 'D-AUG-CC-PVQZ', 'D-AUG-CC-PVTZ', 'DEF2-QZVP', 'DEF2-QZVPD', 'DEF2-QZVPP', 'DEF2-QZVPPD', 'DEF2-RI-J', 'DEF2-SV(P)', 'DEF2-SVP', 'DEF2-SVPD', 'DEF2-TZVP', 'DEF2-TZVPP', 'DEF2-TZVPPD', 'MIN-CC-PVDZ', 'SADLEJ-PVTZ', 'STO-3G', 'STO-6G']\n"
     ]
    }
   ],
   "source": [
    "print('Available basis sets for carbon:\\n', vlx.MolecularBasis.get_avail_basis('C'))"
   ]
  },
  {
   "cell_type": "markdown",
   "id": "b20cb741",
   "metadata": {},
   "source": [
    "### Basis set assignment\n",
    "A basis set can be assigned to a molecule with the `read` method."
   ]
  },
  {
   "cell_type": "code",
   "execution_count": 8,
   "id": "f9269007",
   "metadata": {},
   "outputs": [
    {
     "name": "stdout",
     "output_type": "stream",
     "text": [
      "Molecular Basis (cc-pVDZ)\n",
      "===========================\n",
      "\n",
      "Basis: CC-PVDZ                                        \n",
      "\n",
      "  Atom Contracted GTOs          Primitive GTOs           \n",
      "\n",
      "  O   (3S,2P,1D)               (17S,4P,1D)              \n",
      "  C   (3S,2P,1D)               (17S,4P,1D)              \n",
      "\n",
      "Contracted Basis Functions : 28                       \n",
      "Primitive Basis Functions  : 68                       \n",
      "\n",
      "\n"
     ]
    }
   ],
   "source": [
    "basis = vlx.MolecularBasis.read(molecule, 'cc-pVDZ')\n",
    "print(basis.get_string('cc-pVDZ', molecule))"
   ]
  },
  {
   "cell_type": "markdown",
   "id": "a2bb9415",
   "metadata": {},
   "source": [
    "The moleular basis set label is available with use of the `get_label` method."
   ]
  },
  {
   "cell_type": "code",
   "execution_count": 9,
   "id": "8761dd89",
   "metadata": {},
   "outputs": [
    {
     "data": {
      "text/plain": [
       "'CC-PVDZ'"
      ]
     },
     "execution_count": 9,
     "metadata": {},
     "output_type": "execute_result"
    }
   ],
   "source": [
    "vlx.MolecularBasis.get_label(basis)"
   ]
  },
  {
   "cell_type": "markdown",
   "id": "8d8d9403",
   "metadata": {},
   "source": [
    "### Number of basis functions\n",
    "The number of contracted and primitive basis functions are available from the `get_dimensions_of_basis` and `get_dimensions_of_primitive_basis` methods, respectively."
   ]
  },
  {
   "cell_type": "code",
   "execution_count": 10,
   "id": "50b39d01",
   "metadata": {},
   "outputs": [
    {
     "name": "stdout",
     "output_type": "stream",
     "text": [
      "Number of contracted basis functions: 28\n",
      "Number of primitive basis functions: 68\n"
     ]
    }
   ],
   "source": [
    "nbas = vlx.MolecularBasis.get_dimensions_of_basis(basis, molecule)\n",
    "nprim = vlx.MolecularBasis.get_dimensions_of_primitive_basis(basis, molecule)\n",
    "\n",
    "print('Number of contracted basis functions:', nbas)\n",
    "print('Number of primitive basis functions:', nprim)"
   ]
  }
 ],
 "metadata": {
  "celltoolbar": "Tags",
  "kernelspec": {
   "display_name": "Python 3 (ipykernel)",
   "language": "python",
   "name": "python3"
  },
  "language_info": {
   "codemirror_mode": {
    "name": "ipython",
    "version": 3
   },
   "file_extension": ".py",
   "mimetype": "text/x-python",
   "name": "python",
   "nbconvert_exporter": "python",
   "pygments_lexer": "ipython3",
   "version": "3.9.12"
  }
 },
 "nbformat": 4,
 "nbformat_minor": 5
}
