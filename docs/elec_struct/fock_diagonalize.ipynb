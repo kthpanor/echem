{
 "cells": [
  {
   "cell_type": "markdown",
   "id": "5b662e07-645f-4815-ba16-658679fb24b6",
   "metadata": {
    "editable": true,
    "slideshow": {
     "slide_type": ""
    },
    "tags": []
   },
   "source": [
    "# Fock matrix diagonalization"
   ]
  },
  {
   "cell_type": "code",
   "execution_count": 26,
   "id": "334365af-3ccb-4dc2-9898-e45b0e98850b",
   "metadata": {
    "editable": true,
    "slideshow": {
     "slide_type": ""
    },
    "tags": []
   },
   "outputs": [],
   "source": [
    "import numpy as np\n",
    "import scipy\n",
    "\n",
    "np.set_printoptions(precision=4, suppress=True, linewidth=260)"
   ]
  },
  {
   "cell_type": "code",
   "execution_count": 2,
   "id": "fb6dd5b8-fb06-473e-998e-f8fb96021adb",
   "metadata": {
    "editable": true,
    "scrolled": true,
    "slideshow": {
     "slide_type": ""
    },
    "tags": [
     "remove-output"
    ]
   },
   "outputs": [
    {
     "name": "stdout",
     "output_type": "stream",
     "text": [
      "* Warning * Environment variable OMP_NUM_THREADS not set.\n",
      "* Warning * Setting OMP_NUM_THREADS to 6.\n"
     ]
    }
   ],
   "source": [
    "import veloxchem as vlx"
   ]
  },
  {
   "cell_type": "markdown",
   "id": "01347161-70c4-4cfb-89ed-9c586bf55d8e",
   "metadata": {
    "editable": true,
    "slideshow": {
     "slide_type": ""
    },
    "tags": []
   },
   "source": [
    "## Hartree–Fock equation\n",
    "\n",
    "The canonical Hartree–Fock equation reads\n",
    "\n",
    "$$\n",
    "\\mathbf{F C} = \\mathbf{S C} \\boldsymbol{\\varepsilon} \n",
    "$$\n",
    "\n",
    "It represents a generalized eigenvalue equation."
   ]
  },
  {
   "cell_type": "markdown",
   "id": "ac656255-d258-455a-a3a1-76dfb4284374",
   "metadata": {
    "editable": true,
    "slideshow": {
     "slide_type": ""
    },
    "tags": []
   },
   "source": [
    "### Reference calculation\n",
    "\n",
    "Let us adopt the water molecule and perform an SCF optimization of the ground state."
   ]
  },
  {
   "cell_type": "code",
   "execution_count": 3,
   "id": "31b09883-8ed1-49ea-80ef-36802d473c92",
   "metadata": {
    "editable": true,
    "scrolled": true,
    "slideshow": {
     "slide_type": ""
    },
    "tags": []
   },
   "outputs": [],
   "source": [
    "h2o_xyz = \"\"\"3\n",
    "\n",
    "O    0.000000000000        0.000000000000        0.000000000000\n",
    "H    0.000000000000        0.740848095288        0.582094932012\n",
    "H    0.000000000000       -0.740848095288        0.582094932012\n",
    "\"\"\"\n",
    "\n",
    "molecule = vlx.Molecule.read_xyz_string(h2o_xyz)\n",
    "basis = vlx.MolecularBasis.read(molecule, \"cc-pVDZ\", ostream=None)"
   ]
  },
  {
   "cell_type": "code",
   "execution_count": 27,
   "id": "9c486953-e217-449d-8a9f-5ca608e42f24",
   "metadata": {
    "editable": true,
    "slideshow": {
     "slide_type": ""
    },
    "tags": []
   },
   "outputs": [
    {
     "name": "stdout",
     "output_type": "stream",
     "text": [
      "Number of contracted basis functions: 24\n",
      "Number of doubly occupied molecular orbitals: 5\n"
     ]
    }
   ],
   "source": [
    "norb = basis.get_dimensions_of_basis(molecule)\n",
    "nocc = molecule.number_of_alpha_electrons()\n",
    "\n",
    "print(\"Number of contracted basis functions:\", norb)\n",
    "print(\"Number of doubly occupied molecular orbitals:\", nocc)"
   ]
  },
  {
   "cell_type": "code",
   "execution_count": 5,
   "id": "af8ac7a5-71d9-45fa-97ba-b52f5bf49379",
   "metadata": {
    "editable": true,
    "scrolled": true,
    "slideshow": {
     "slide_type": ""
    },
    "tags": [
     "remove-output"
    ]
   },
   "outputs": [],
   "source": [
    "scf_drv = vlx.ScfRestrictedDriver()\n",
    "scf_drv.ostream.mute()\n",
    "\n",
    "scf_results = scf_drv.compute(molecule, basis)"
   ]
  },
  {
   "cell_type": "markdown",
   "id": "de6fd7b1-1f45-4977-8ee9-08c75ea3c970",
   "metadata": {
    "editable": true,
    "slideshow": {
     "slide_type": ""
    },
    "tags": []
   },
   "source": [
    "We get the Fock and overlap matrices."
   ]
  },
  {
   "cell_type": "code",
   "execution_count": 6,
   "id": "ca801fae-6ea9-4d6f-a4eb-2506cba08bcd",
   "metadata": {
    "editable": true,
    "slideshow": {
     "slide_type": ""
    },
    "tags": []
   },
   "outputs": [],
   "source": [
    "F = scf_results[\"F_alpha\"]\n",
    "S = scf_results[\"S\"]"
   ]
  },
  {
   "cell_type": "markdown",
   "id": "2c11ca7a-0a8c-4e97-8495-2583d5141cf6",
   "metadata": {
    "editable": true,
    "slideshow": {
     "slide_type": ""
    },
    "tags": []
   },
   "source": [
    "And we obtain the orbital energies for later comparisons against those obtained from our own Fock matrix diagonalization."
   ]
  },
  {
   "cell_type": "code",
   "execution_count": 7,
   "id": "ec15f1cb-5c7a-4c32-b00b-40dfb3009f38",
   "metadata": {
    "editable": true,
    "slideshow": {
     "slide_type": ""
    },
    "tags": []
   },
   "outputs": [
    {
     "name": "stdout",
     "output_type": "stream",
     "text": [
      "Orbital energies of occupied orbitals: [-20.54818972  -1.345205    -0.70584505  -0.57108597  -0.49456798]\n"
     ]
    }
   ],
   "source": [
    "print(f\"Orbital energies of occupied orbitals: {scf_results['E'][:nocc]}\")"
   ]
  },
  {
   "cell_type": "markdown",
   "id": "807bc9bd-9738-4be5-8abe-4a1cce49f284",
   "metadata": {
    "editable": true,
    "slideshow": {
     "slide_type": ""
    },
    "tags": []
   },
   "source": [
    "## Solving a generalized eigenvalue problem"
   ]
  },
  {
   "cell_type": "markdown",
   "id": "330b754f-2df7-4ef8-b5cf-0619a9c5c7a1",
   "metadata": {
    "editable": true,
    "slideshow": {
     "slide_type": ""
    },
    "tags": []
   },
   "source": [
    "### Standard case\n",
    "\n",
    "The Hartree–Fock equation can be solved with a standard SciPy library routine."
   ]
  },
  {
   "cell_type": "code",
   "execution_count": 8,
   "id": "2c2cd275-7f13-4af8-8c9f-73c4856e7a2a",
   "metadata": {
    "editable": true,
    "slideshow": {
     "slide_type": ""
    },
    "tags": []
   },
   "outputs": [],
   "source": [
    "epsilon, C = scipy.linalg.eigh(F, S)"
   ]
  },
  {
   "cell_type": "code",
   "execution_count": 25,
   "id": "a7895602-1a5f-4640-92e9-458470db5ac3",
   "metadata": {
    "editable": true,
    "slideshow": {
     "slide_type": ""
    },
    "tags": []
   },
   "outputs": [
    {
     "name": "stdout",
     "output_type": "stream",
     "text": [
      "Orbital energies of occupied orbitals: [-20.5481899   -1.34520506  -0.7058451   -0.57108599  -0.49456809]\n"
     ]
    }
   ],
   "source": [
    "print(f\"Orbital energies of occupied orbitals: {epsilon[:nocc]}\")"
   ]
  },
  {
   "cell_type": "markdown",
   "id": "0b3795fc-9b0e-4aa3-8791-cf86fb9e9669",
   "metadata": {
    "editable": true,
    "slideshow": {
     "slide_type": ""
    },
    "tags": []
   },
   "source": [
    "We note that the orbital energies are in perfect agreement with the reference values."
   ]
  },
  {
   "cell_type": "markdown",
   "id": "201bfaa4-0b1d-4d48-9c47-256faa55ea8b",
   "metadata": {
    "editable": true,
    "slideshow": {
     "slide_type": ""
    },
    "tags": []
   },
   "source": [
    "### Non-standard case\n",
    "\n",
    "#### Linear dependence in basis set\n",
    "\n",
    "Let us introduce a linear dependence in the atomic orbital (AO) basis by duplicating the oxygen 1s-function. In this extended basis set, we determine the overlap and Fock matrices by duplication of the first row and column."
   ]
  },
  {
   "cell_type": "code",
   "execution_count": 10,
   "id": "eae513b6-496e-46e8-aafb-a6d6a5f550c6",
   "metadata": {
    "editable": true,
    "slideshow": {
     "slide_type": ""
    },
    "tags": []
   },
   "outputs": [],
   "source": [
    "S_ext = np.zeros((norb + 1, norb + 1))\n",
    "\n",
    "S_ext[1 : norb + 1, 1 : norb + 1] = S\n",
    "\n",
    "S_ext[0, 1 : norb + 1] = S[0, :]\n",
    "S_ext[1 : norb + 1, 0] = S[:, 0]\n",
    "\n",
    "S_ext[0, 0] = S[0, 0]"
   ]
  },
  {
   "cell_type": "code",
   "execution_count": 11,
   "id": "eaf30fcb-8aab-4f43-8453-3b78f00837d4",
   "metadata": {
    "editable": true,
    "slideshow": {
     "slide_type": ""
    },
    "tags": []
   },
   "outputs": [],
   "source": [
    "F_ext = np.zeros((norb + 1, norb + 1))\n",
    "\n",
    "F_ext[1 : norb + 1, 1 : norb + 1] = F\n",
    "\n",
    "F_ext[0, 1 : norb + 1] = F[0, :]\n",
    "F_ext[1 : norb + 1, 0] = F[:, 0]\n",
    "\n",
    "F_ext[0, 0] = F[0, 0]"
   ]
  },
  {
   "cell_type": "markdown",
   "id": "9bc27892-62d0-456e-a103-f3f9ae8f5f53",
   "metadata": {
    "editable": true,
    "slideshow": {
     "slide_type": ""
    },
    "tags": []
   },
   "source": [
    "If we now try to diagonalize the Fock matrix in the extended basis set using a standard library routine we will encounter an error due to linear dependence. "
   ]
  },
  {
   "cell_type": "code",
   "execution_count": 12,
   "id": "4db9b566-e813-468f-890a-c4ed8f30a16c",
   "metadata": {
    "editable": true,
    "slideshow": {
     "slide_type": ""
    },
    "tags": []
   },
   "outputs": [
    {
     "name": "stdout",
     "output_type": "stream",
     "text": [
      "Error: Linear dependence in the atomic orbital basis!\n"
     ]
    }
   ],
   "source": [
    "try:\n",
    "    epsilon, C = scipy.linalg.eigh(F_ext, S_ext)\n",
    "except:\n",
    "    print(\"Error: Linear dependence in the atomic orbital basis!\")"
   ]
  },
  {
   "cell_type": "markdown",
   "id": "ec42edde-4497-4835-939a-f9187ce0b686",
   "metadata": {
    "editable": true,
    "slideshow": {
     "slide_type": ""
    },
    "tags": []
   },
   "source": [
    "#### Diagonalizing the overlap matrix\n",
    "\n",
    "To address the issue of linear dependence in the AO basis, we first diagonalize the symmetric overlap matrix by means of a unitary transformation\n",
    "\n",
    "$$\n",
    "\\mathbf{U}^{\\dagger} \\mathbf{S U} = \\boldsymbol{\\sigma}\n",
    "$$\n",
    "\n",
    "where $\\boldsymbol{\\sigma}$ is a diagonal matrix collecting the eigenvalues."
   ]
  },
  {
   "cell_type": "code",
   "execution_count": 13,
   "id": "da0766d2-f57b-4560-83d3-96285cd733a0",
   "metadata": {
    "editable": true,
    "slideshow": {
     "slide_type": ""
    },
    "tags": []
   },
   "outputs": [],
   "source": [
    "sigma_ext, U_ext = np.linalg.eigh(S_ext)"
   ]
  },
  {
   "cell_type": "markdown",
   "id": "5efacc27-9f73-40e2-bb0a-4795143949f9",
   "metadata": {
    "editable": true,
    "slideshow": {
     "slide_type": ""
    },
    "tags": []
   },
   "source": [
    "We expect one of the eigenvalues to be equal to zero due the linear dependence that we have introduced in the AO-basis."
   ]
  },
  {
   "cell_type": "code",
   "execution_count": 14,
   "id": "574ec3bb-29f0-4ff3-8624-6f31ec880782",
   "metadata": {
    "editable": true,
    "slideshow": {
     "slide_type": ""
    },
    "tags": []
   },
   "outputs": [
    {
     "data": {
      "text/plain": [
       "array([ True, False, False, False, False, False, False, False, False,\n",
       "       False, False, False, False, False, False, False, False, False,\n",
       "       False, False, False, False, False, False, False])"
      ]
     },
     "execution_count": 14,
     "metadata": {},
     "output_type": "execute_result"
    }
   ],
   "source": [
    "np.isclose(0.0, sigma_ext)"
   ]
  },
  {
   "cell_type": "markdown",
   "id": "84d33e7b-47f0-4628-a3c1-ee8d8ca2cd83",
   "metadata": {
    "editable": true,
    "slideshow": {
     "slide_type": ""
    },
    "tags": []
   },
   "source": [
    "Thereafter, we remove eigenvectors in $\\mathbf{U}$ associated with zero eigenvalues. In real program implementations a threshold is used to detect cases of near degeneracy."
   ]
  },
  {
   "cell_type": "code",
   "execution_count": 15,
   "id": "9d4546ba-333c-47b6-b753-ae0413542b70",
   "metadata": {
    "editable": true,
    "slideshow": {
     "slide_type": ""
    },
    "tags": []
   },
   "outputs": [],
   "source": [
    "U = U_ext[:, 1:]\n",
    "sigma = sigma_ext[1:]"
   ]
  },
  {
   "cell_type": "markdown",
   "id": "356c1fc7-471b-428b-b409-3ef75d1fc655",
   "metadata": {
    "editable": true,
    "slideshow": {
     "slide_type": ""
    },
    "tags": []
   },
   "source": [
    "After this operation, the shape of $\\mathbf{U}$ becomes rectangular."
   ]
  },
  {
   "cell_type": "code",
   "execution_count": 16,
   "id": "b3c0d628-dc37-4c95-bfa3-b8733fccf68b",
   "metadata": {
    "editable": true,
    "slideshow": {
     "slide_type": ""
    },
    "tags": []
   },
   "outputs": [
    {
     "data": {
      "text/plain": [
       "(25, 24)"
      ]
     },
     "execution_count": 16,
     "metadata": {},
     "output_type": "execute_result"
    }
   ],
   "source": [
    "U.shape"
   ]
  },
  {
   "cell_type": "markdown",
   "id": "ec6e693b-c8e6-4715-bcf7-d2deec0a856b",
   "metadata": {
    "editable": true,
    "slideshow": {
     "slide_type": ""
    },
    "tags": []
   },
   "source": [
    "#### Orthogonalizing the AO basis\n",
    "\n",
    "We retrieve an *orthonormal* AO (OAO) basis by means of a non-unitary transformation matrix $\\mathbf{X}$ such that\n",
    "\n",
    "$$\n",
    "| \\overline{\\chi^\\mathrm{OAO}} \\rangle = | \\overline{\\chi} \\rangle \\mathbf{X}\n",
    "$$\n",
    "\n",
    "and \n",
    "\n",
    "$$\n",
    "\\mathbf{S}^\\mathrm{OAO} = \\mathbf{X}^\\dagger \\mathbf{S X} = \\mathbf{I}\n",
    "$$\n",
    "\n",
    "With use of $\\mathbf{U}$, it is straightforward to construct explicit forms of $\\mathbf{X}$ and there exist two common choices:\n",
    "\n",
    "| symmetric form  | canonical form |\n",
    "| :-------------: | :------------: |\n",
    "| $\\mathbf{X} = \\mathbf{U} \\boldsymbol{\\sigma}^{-\\frac{1}{2}} \\mathbf{U}^\\dagger$ | $\\mathbf{X} = \\mathbf{U} \\boldsymbol{\\sigma}^{-\\frac{1}{2}}$ | \n",
    "\n",
    "We can readily verify that both expressions satisfy $\\mathbf{X}^\\dagger \\mathbf{S X} = \\mathbf{I}$."
   ]
  },
  {
   "cell_type": "code",
   "execution_count": 17,
   "id": "6adcd603-005d-4911-9da0-a449d31a4fee",
   "metadata": {
    "editable": true,
    "slideshow": {
     "slide_type": ""
    },
    "tags": []
   },
   "outputs": [],
   "source": [
    "# canonical transformation\n",
    "X = np.einsum(\"ik,k->ik\", U, 1 / np.sqrt(sigma))"
   ]
  },
  {
   "cell_type": "markdown",
   "id": "52d79e86-fc78-4858-b58f-471e02cff119",
   "metadata": {
    "editable": true,
    "slideshow": {
     "slide_type": ""
    },
    "tags": []
   },
   "source": [
    "In the OAO basis, the Hartree–Fock equation takes the form\n",
    "\n",
    "$$\n",
    "\\mathbf{F}^\\mathrm{OAO} \\mathbf{C}^\\mathrm{OAO}  = \\mathbf{C}^\\mathrm{OAO}  \\boldsymbol{\\varepsilon} \n",
    "$$\n",
    "\n",
    "where \n",
    "\n",
    "$$\n",
    "\\mathbf{F}^\\mathrm{OAO} = \\mathbf{X}^\\dagger \\mathbf{F X} \n",
    "$$"
   ]
  },
  {
   "cell_type": "code",
   "execution_count": 18,
   "id": "229c758c-4b35-4b61-aa69-b32b64372285",
   "metadata": {
    "editable": true,
    "slideshow": {
     "slide_type": ""
    },
    "tags": []
   },
   "outputs": [],
   "source": [
    "F_OAO = np.einsum(\"ki,kl,lj->ij\", X, F_ext, X)\n",
    "epsilon, C_OAO = np.linalg.eigh(F_OAO)"
   ]
  },
  {
   "cell_type": "markdown",
   "id": "c206260d-d6d1-4945-b806-77ecb30c292b",
   "metadata": {
    "editable": true,
    "slideshow": {
     "slide_type": ""
    },
    "tags": []
   },
   "source": [
    "The expression for the associated transformation of MO coefficients is determined from the relation\n",
    "\n",
    "$$\n",
    "| \\overline{\\phi} \\rangle = | \\overline{\\chi} \\rangle \\mathbf{C} =\n",
    "| \\overline{\\chi^\\mathrm{OAO}} \\rangle \\mathbf{X}^{-1} \\mathbf{C}\n",
    "$$\n",
    "\n",
    "We identify\n",
    "\n",
    "$$\n",
    "\\mathbf{C}^\\mathrm{OAO} = \\mathbf{X}^{-1} \\mathbf{C}\n",
    "$$\n",
    "\n",
    "or\n",
    "\n",
    "$$\n",
    "\\mathbf{C} = \\mathbf{X C}^\\mathrm{OAO}\n",
    "$$"
   ]
  },
  {
   "cell_type": "code",
   "execution_count": 19,
   "id": "fbf5bdc8-a7d6-40bc-a9d7-780fe8689d15",
   "metadata": {
    "editable": true,
    "slideshow": {
     "slide_type": ""
    },
    "tags": []
   },
   "outputs": [],
   "source": [
    "C = np.einsum(\"ik,kj->ij\", X, C_OAO)"
   ]
  },
  {
   "cell_type": "code",
   "execution_count": 20,
   "id": "a958e4e0-b3fe-4142-b918-32bf1964a230",
   "metadata": {
    "editable": true,
    "slideshow": {
     "slide_type": ""
    },
    "tags": []
   },
   "outputs": [
    {
     "name": "stdout",
     "output_type": "stream",
     "text": [
      "Orbital energies of occupied orbitals: [-20.5481899   -1.34520506  -0.7058451   -0.57108599  -0.49456809]\n"
     ]
    }
   ],
   "source": [
    "print(f\"Orbital energies of occupied orbitals: {epsilon[:nocc]}\")"
   ]
  },
  {
   "cell_type": "markdown",
   "id": "5ccd7878-bc8a-4414-99b8-c2b980bd7aaf",
   "metadata": {
    "editable": true,
    "slideshow": {
     "slide_type": ""
    },
    "tags": []
   },
   "source": [
    "We note that the orbital energies are in perfect agreement with the reference values."
   ]
  }
 ],
 "metadata": {
  "kernelspec": {
   "display_name": "Python 3 (ipykernel)",
   "language": "python",
   "name": "python3"
  },
  "language_info": {
   "codemirror_mode": {
    "name": "ipython",
    "version": 3
   },
   "file_extension": ".py",
   "mimetype": "text/x-python",
   "name": "python",
   "nbconvert_exporter": "python",
   "pygments_lexer": "ipython3",
   "version": "3.11.7"
  }
 },
 "nbformat": 4,
 "nbformat_minor": 5
}
