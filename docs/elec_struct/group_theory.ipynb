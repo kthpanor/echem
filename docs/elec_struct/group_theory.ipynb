{
 "cells": [
  {
   "cell_type": "markdown",
   "id": "c33b1dbe-e3e6-4d2b-a969-b57c21f18e95",
   "metadata": {
    "editable": true,
    "slideshow": {
     "slide_type": ""
    },
    "tags": []
   },
   "source": [
    "# Symmetry\n",
    "\n",
    "In everyday life, symmetry operations are given by rotations, reflections, and inversions of a physical object that leaves the object unchanged, i.e., the properties of the object are invariant under these transformations.\n",
    "\n",
    "In quantum mechanics, symmetry operations are applied to wave functions, operators, and equations, and we are concerned with the invariance of observables."
   ]
  },
  {
   "cell_type": "markdown",
   "id": "65b01554-3dfd-4904-aee5-5114164b1c9c",
   "metadata": {
    "editable": true,
    "slideshow": {
     "slide_type": ""
    },
    "tags": []
   },
   "source": [
    "## Active or passive point of view\n",
    "\n",
    "When discussing the effect of symmetry operations, it becomes important to distinguish the active and passive points of view. In the former, symmetry operations move the system whereas, in the latter, the frame of reference is changed. An illustration of a step-by-step sequence of operations are illustrated from these two points of view in the figure below.\n",
    "\n",
    "![Passive and active transformations](../../img/misc/symmetry_transformations.svg)\n",
    "\n",
    "We will adopt the active view in which the transformation of a function takes the form\n",
    "\n",
    "$$\n",
    "\\hat{G} f(\\boldsymbol{r}) = f(\\hat{G}^{-1}\\boldsymbol{r})\n",
    "$$\n",
    "\n",
    "i.e., we map function values of $f$ from one point in space $\\boldsymbol{r}' = \\hat{G}^{-1}\\boldsymbol{r}$ to another $\\hat{G}\\boldsymbol{r}' = \\boldsymbol{r}$."
   ]
  },
  {
   "cell_type": "markdown",
   "id": "84af46ec-a0e2-43d5-8c69-edefdb2d847d",
   "metadata": {
    "editable": true,
    "jp-MarkdownHeadingCollapsed": true,
    "slideshow": {
     "slide_type": ""
    },
    "tags": []
   },
   "source": [
    "## Invariance of observables\n",
    "\n",
    "Spectrum intensities are observables given by\n",
    "\n",
    "$$\n",
    "\\sigma_{f\\leftarrow i} \\propto\n",
    "\\left| \n",
    "\\langle \\Psi_f | \\hat{\\Omega} | \\Psi_i \\rangle \n",
    "\\right|^2 = \n",
    "\\left| \n",
    "\\langle \\Psi_f | \\Psi_{\\Omega,i} \\rangle \n",
    "\\right|^2\n",
    "$$\n",
    "\n",
    "For these to be invariant, we must have\n",
    "\n",
    "$$\n",
    "\\hat{G} \\langle \\Psi_f | \\Psi_{\\Omega,i} \\rangle = \n",
    "\\langle \\hat{G} \\Psi_f | \\hat{G} \\Psi_{\\Omega,i} \\rangle = \n",
    "\\langle \\Psi_f | \\hat{G}^\\dagger \\hat{G} | \\Psi_{\\Omega,i} \\rangle =\n",
    "\\left\\{\n",
    "\\begin{split}\n",
    "  & \\langle \\Psi_f | \\Psi_{\\Omega,i} \\rangle  & \\quad (1) \\\\\n",
    "\\rule{0pt}{14pt} & \\langle \\Psi_f | \\Psi_{\\Omega,i} \\rangle^* & \\quad (2) \n",
    "\\end{split}\n",
    "\\right.\n",
    "$$\n",
    "\n",
    "1. $\\hat{G}$ is unitary with $\\hat{G}^\\dagger \\hat{G} = \\hat{I}$\n",
    "2. $\\hat{G}$ is anti-unitary\n",
    "\n",
    "The spatial transformations of concern are unitary transformations , whereas an example of an anti-unitary operation is time-reversal.\n",
    "\n",
    "We can separate the action of the symmetry operator on the operator and the wave function according to\n",
    "\n",
    "$$\n",
    "\\hat{G} | \\Psi_{\\Omega,i} \\rangle =\n",
    "\\hat{G} \\hat{\\Omega} | \\Psi_i \\rangle =\n",
    "\\left( \\hat{G} \\hat{\\Omega} \\hat{G}^{-1} \\right) \\hat{G} | \\Psi_i \\rangle\n",
    "$$\n",
    "\n",
    "We are concerned with spatial symmetry operations that leave the Hamiltonian invariant\n",
    "\n",
    "$$\n",
    "\\hat{G} \\hat{H} \\hat{G}^{-1} = \\hat{H} \n",
    "$$\n",
    "\n",
    "or\n",
    "\n",
    "$$\n",
    "\\left[ \\hat{G}, \\hat{H} \\right] = 0\n",
    "$$"
   ]
  },
  {
   "attachments": {},
   "cell_type": "markdown",
   "id": "08cf5e64-a8de-46c7-bcdc-257dd43ab24c",
   "metadata": {
    "editable": true,
    "slideshow": {
     "slide_type": ""
    },
    "tags": []
   },
   "source": [
    "## Symmetry operations\n",
    "\n",
    "The set of symmetry operations that commute with the Hamiltonian form a group and thereby fulfill:\n",
    "\n",
    "1. If operations $\\hat{P}$ and $\\hat{Q}$ are members if the group, so is $\\hat{R} = \\hat{P} \\hat{Q}$. The rule for the combined operation is that first is the operation of $\\hat{Q}$ completed and then is the action of $\\hat{P}$ performed.\n",
    "2. The set of operations contains $\\hat{I}$.\n",
    "3. The associate law applies, i.e., $\\hat{P}(\\hat{Q}\\hat{R}) = (\\hat{P}\\hat{Q})\\hat{R}$ for all operations.\n",
    "4. The inverse for all operations belongs to the group.\n",
    "\n",
    "By limiting ourselves to spatial symmetry, symmetry operations are restricted to geometric actions that leave the nuclear framework invariant.\n",
    "\n",
    "A symmetry element is a geometrical entity, e.g., a point, line, or plane, about which an action takes place. For every operation there is an associated element. At least one point in space is left unchanged for all symmetry operations and we refer to such groups as point groups to distinguish them from crystal groups that also possess translational symmetry.\n",
    "\n",
    "There are five different kinds of symmetry operations:\n",
    "\n",
    "1. The identity operation, $\\hat{I}$, does nothing.\n",
    "2. The rotation operation, $\\hat{C}_n$, rotates the system an angle $2\\pi/n$ about an axis. If the molecules possesses several rotation axes, the one with the largest $n$ is referred to as the principal axis.\n",
    "3. The reflection operation, $\\hat{\\sigma}$, reflects the system in a plane. If a plane is perpendicular to the principal axis, the operation is denoted $\\hat{\\sigma}_h$. If, on the other hand, it contains the principal axis, it is denoted $\\hat{\\sigma}_v$. Finally, if the plane bisects the angle between two $C_2$-axes, it is denoted $\\hat{\\sigma}_d$.\n",
    "4. The inversion operation, $\\hat{i}$, inverts space through the origin. \n",
    "5. The improper rotation (or rotoreflection) operation, $\\hat{S}_n = \\hat{\\sigma}_h \\hat{C}_n$, performs a combination of a rotation and a reflection in a plane perpendicular to the rotation axis. \n",
    "  \n",
    "It is noted that some symmetry operations are equivalent, e.g., $\\hat{S}_2 = \\hat{i}$."
   ]
  },
  {
   "cell_type": "markdown",
   "id": "e2c26cf9-4704-4d2d-befe-56b5d43916ae",
   "metadata": {
    "editable": true,
    "slideshow": {
     "slide_type": ""
    },
    "tags": []
   },
   "source": [
    "## Point groups\n",
    "\n",
    "Identifying the point group for a molecule can be achieved with use of the following flowchart.\n",
    "\n",
    "![]( ../../img/misc/flowchart.svg)\n",
    "\n",
    "Knowledge of the point group of a molecule can immediately give information regarding its properties: \n",
    "\n",
    "- As a permanent dipole moment is the result of an asymmetric charge distribution, it is not possible to have a dipole moment along any other axis than a $C_n$-axis that, moreover, has no reflection perpendicular to it. As a result, only molecules belonging to the point groups $C_n$, $C_{nv}$, and $C_s$ can have a permanent dipole moment.\n",
    "\n",
    "- A molecule that cannot be superimposed on its mirror image is said to be chiral. This is exemplified by the inability of the left hand to be superimposed on the right hand, and it has the physical effect of rotating the plane of polarized light in opposite directions for the two different enantiomers. For a molecule to be chiral, it cannot contain a $S_n$-axis, an axis often implied by the presence of other symmetry elements (e.g. $\\sigma$ is equivalent to $S_1$)."
   ]
  },
  {
   "cell_type": "markdown",
   "id": "614b81ba-581f-46da-9bd0-e36659a95df9",
   "metadata": {
    "editable": true,
    "slideshow": {
     "slide_type": ""
    },
    "tags": []
   },
   "source": [
    "## Character tables"
   ]
  },
  {
   "cell_type": "code",
   "execution_count": 6,
   "id": "e173223d-50db-4fd4-962e-10dd3d248808",
   "metadata": {
    "editable": true,
    "slideshow": {
     "slide_type": ""
    },
    "tags": [
     "remove-input",
     "remove-output"
    ]
   },
   "outputs": [],
   "source": [
    "import py3Dmol as p3d\n",
    "import veloxchem as vlx"
   ]
  },
  {
   "cell_type": "markdown",
   "id": "5fe7a1f6-25d8-4248-b907-f71b7a10406d",
   "metadata": {
    "editable": true,
    "slideshow": {
     "slide_type": ""
    },
    "tags": []
   },
   "source": [
    "A character table lists all the symmetry operations of a point group as columns and the irreducible representations (irreps) as rows. For Abelian groups there are as many irreps as there are operations."
   ]
  },
  {
   "cell_type": "markdown",
   "id": "00cee392-766d-415c-9aeb-4e7ceca69045",
   "metadata": {
    "editable": true,
    "slideshow": {
     "slide_type": ""
    },
    "tags": []
   },
   "source": [
    "(character_table_c2v)=\n",
    "### C$_\\mathsf{2v}$\n",
    "\n",
    "| Irrep | $\\hat{I}$ | $\\hat{C}_2^z$ | $\\hat{\\sigma}_v^{xz}$ | $\\hat{\\sigma}_v^{yz}$ | Operation |\n",
    "| :--- | :---: | :---: | :---: | :---: | ---: |\n",
    "| $A_1$ | 1 | 1 | 1 | 1 | $z$ |\n",
    "| $A_{2}$ | 1 | 1 | -1 | -1 | $R_z$ |\n",
    "| $B_{1}$ | 1 | -1 | 1 | -1 | $R_y$, $x$  |\n",
    "| $B_{2}$ | 1 | -1 | -1 | 1 | $R_x$, $y$ |"
   ]
  },
  {
   "cell_type": "code",
   "execution_count": 8,
   "id": "7a5e629f-585e-4345-9692-677f49a1e83a",
   "metadata": {
    "editable": true,
    "slideshow": {
     "slide_type": ""
    },
    "tags": [
     "remove-input"
    ]
   },
   "outputs": [
    {
     "data": {
      "application/3dmoljs_load.v0": "<div id=\"3dmolviewer_1699458116166042\"  style=\"position: relative; width: 400px; height: 300px;\">\n        <p id=\"3dmolwarning_1699458116166042\" style=\"background-color:#ffcccc;color:black\">You appear to be running in JupyterLab (or JavaScript failed to load for some other reason).  You need to install the 3dmol extension: <br>\n        <tt>jupyter labextension install jupyterlab_3dmol</tt></p>\n        </div>\n<script>\n\nvar loadScriptAsync = function(uri){\n  return new Promise((resolve, reject) => {\n    //this is to ignore the existence of requirejs amd\n    var savedexports, savedmodule;\n    if (typeof exports !== 'undefined') savedexports = exports;\n    else exports = {}\n    if (typeof module !== 'undefined') savedmodule = module;\n    else module = {}\n\n    var tag = document.createElement('script');\n    tag.src = uri;\n    tag.async = true;\n    tag.onload = () => {\n        exports = savedexports;\n        module = savedmodule;\n        resolve();\n    };\n  var firstScriptTag = document.getElementsByTagName('script')[0];\n  firstScriptTag.parentNode.insertBefore(tag, firstScriptTag);\n});\n};\n\nif(typeof $3Dmolpromise === 'undefined') {\n$3Dmolpromise = null;\n  $3Dmolpromise = loadScriptAsync('https://cdnjs.cloudflare.com/ajax/libs/3Dmol/2.0.4/3Dmol-min.js');\n}\n\nvar viewer_1699458116166042 = null;\nvar warn = document.getElementById(\"3dmolwarning_1699458116166042\");\nif(warn) {\n    warn.parentNode.removeChild(warn);\n}\n$3Dmolpromise.then(function() {\nviewer_1699458116166042 = $3Dmol.createViewer(document.getElementById(\"3dmolviewer_1699458116166042\"),{backgroundColor:\"white\"});\nviewer_1699458116166042.zoomTo();\n\tviewer_1699458116166042.addModel(\"3\\n\\nO      0.009042    0.404020    0.000000\\nH      0.778319   -0.219531    0.000000\\nH     -0.787362   -0.184489    0.000000\\n\",\"xyz\");\n\tviewer_1699458116166042.setViewStyle({\"style\": \"outline\", \"width\": 0.05});\n\tviewer_1699458116166042.setStyle({\"stick\": {}, \"sphere\": {\"scale\": 0.25}});\nviewer_1699458116166042.render();\n});\n</script>",
      "text/html": [
       "<div id=\"3dmolviewer_1699458116166042\"  style=\"position: relative; width: 400px; height: 300px;\">\n",
       "        <p id=\"3dmolwarning_1699458116166042\" style=\"background-color:#ffcccc;color:black\">You appear to be running in JupyterLab (or JavaScript failed to load for some other reason).  You need to install the 3dmol extension: <br>\n",
       "        <tt>jupyter labextension install jupyterlab_3dmol</tt></p>\n",
       "        </div>\n",
       "<script>\n",
       "\n",
       "var loadScriptAsync = function(uri){\n",
       "  return new Promise((resolve, reject) => {\n",
       "    //this is to ignore the existence of requirejs amd\n",
       "    var savedexports, savedmodule;\n",
       "    if (typeof exports !== 'undefined') savedexports = exports;\n",
       "    else exports = {}\n",
       "    if (typeof module !== 'undefined') savedmodule = module;\n",
       "    else module = {}\n",
       "\n",
       "    var tag = document.createElement('script');\n",
       "    tag.src = uri;\n",
       "    tag.async = true;\n",
       "    tag.onload = () => {\n",
       "        exports = savedexports;\n",
       "        module = savedmodule;\n",
       "        resolve();\n",
       "    };\n",
       "  var firstScriptTag = document.getElementsByTagName('script')[0];\n",
       "  firstScriptTag.parentNode.insertBefore(tag, firstScriptTag);\n",
       "});\n",
       "};\n",
       "\n",
       "if(typeof $3Dmolpromise === 'undefined') {\n",
       "$3Dmolpromise = null;\n",
       "  $3Dmolpromise = loadScriptAsync('https://cdnjs.cloudflare.com/ajax/libs/3Dmol/2.0.4/3Dmol-min.js');\n",
       "}\n",
       "\n",
       "var viewer_1699458116166042 = null;\n",
       "var warn = document.getElementById(\"3dmolwarning_1699458116166042\");\n",
       "if(warn) {\n",
       "    warn.parentNode.removeChild(warn);\n",
       "}\n",
       "$3Dmolpromise.then(function() {\n",
       "viewer_1699458116166042 = $3Dmol.createViewer(document.getElementById(\"3dmolviewer_1699458116166042\"),{backgroundColor:\"white\"});\n",
       "viewer_1699458116166042.zoomTo();\n",
       "\tviewer_1699458116166042.addModel(\"3\\n\\nO      0.009042    0.404020    0.000000\\nH      0.778319   -0.219531    0.000000\\nH     -0.787362   -0.184489    0.000000\\n\",\"xyz\");\n",
       "\tviewer_1699458116166042.setViewStyle({\"style\": \"outline\", \"width\": 0.05});\n",
       "\tviewer_1699458116166042.setStyle({\"stick\": {}, \"sphere\": {\"scale\": 0.25}});\n",
       "viewer_1699458116166042.render();\n",
       "});\n",
       "</script>"
      ]
     },
     "metadata": {},
     "output_type": "display_data"
    }
   ],
   "source": [
    "smiles_str = \"O\"\n",
    "molecule_xyz = vlx.Molecule.smiles_to_xyz(smiles_str)\n",
    "\n",
    "viewer = p3d.view(width=400, height=300)\n",
    "viewer.addModel(molecule_xyz, \"xyz\")\n",
    "viewer.setViewStyle({\"style\": \"outline\", \"width\": 0.05})\n",
    "viewer.setStyle({\"stick\": {}, \"sphere\": {\"scale\": 0.25}})\n",
    "viewer.show()"
   ]
  },
  {
   "cell_type": "markdown",
   "id": "4dddd2af-9675-4a96-8f65-86710c441bb1",
   "metadata": {
    "editable": true,
    "slideshow": {
     "slide_type": ""
    },
    "tags": []
   },
   "source": [
    "(character_table_c2h)=\n",
    "### C$_\\mathsf{2h}$\n",
    "\n",
    "| Irrep | $\\hat{I}$ | $\\hat{C}_2^z$ | $\\hat{i}$ | $\\hat{\\sigma}_h$ | Operation |\n",
    "| :--- | :---: | :---: | :---: | :---: | ---: |\n",
    "| $A_g$ | 1 | 1 | 1 | 1 | $R_z$ |\n",
    "| $B_{g}$ | 1 | -1 | 1 | -1 | $R_x$, $R_y$ |\n",
    "| $A_{u}$ | 1 | 1 | -1 | -1 | $z$  |\n",
    "| $B_{u}$ | 1 | -1 | -1 | 1 | $x$, $y$ |"
   ]
  },
  {
   "cell_type": "code",
   "execution_count": 5,
   "id": "170203ad-a050-4a1e-8565-f5453d4daad9",
   "metadata": {
    "editable": true,
    "slideshow": {
     "slide_type": ""
    },
    "tags": [
     "remove-input"
    ]
   },
   "outputs": [
    {
     "data": {
      "application/3dmoljs_load.v0": "<div id=\"3dmolviewer_1699457242853899\"  style=\"position: relative; width: 400px; height: 300px;\">\n        <p id=\"3dmolwarning_1699457242853899\" style=\"background-color:#ffcccc;color:black\">You appear to be running in JupyterLab (or JavaScript failed to load for some other reason).  You need to install the 3dmol extension: <br>\n        <tt>jupyter labextension install jupyterlab_3dmol</tt></p>\n        </div>\n<script>\n\nvar loadScriptAsync = function(uri){\n  return new Promise((resolve, reject) => {\n    //this is to ignore the existence of requirejs amd\n    var savedexports, savedmodule;\n    if (typeof exports !== 'undefined') savedexports = exports;\n    else exports = {}\n    if (typeof module !== 'undefined') savedmodule = module;\n    else module = {}\n\n    var tag = document.createElement('script');\n    tag.src = uri;\n    tag.async = true;\n    tag.onload = () => {\n        exports = savedexports;\n        module = savedmodule;\n        resolve();\n    };\n  var firstScriptTag = document.getElementsByTagName('script')[0];\n  firstScriptTag.parentNode.insertBefore(tag, firstScriptTag);\n});\n};\n\nif(typeof $3Dmolpromise === 'undefined') {\n$3Dmolpromise = null;\n  $3Dmolpromise = loadScriptAsync('https://cdnjs.cloudflare.com/ajax/libs/3Dmol/2.0.4/3Dmol-min.js');\n}\n\nvar viewer_1699457242853899 = null;\nvar warn = document.getElementById(\"3dmolwarning_1699457242853899\");\nif(warn) {\n    warn.parentNode.removeChild(warn);\n}\n$3Dmolpromise.then(function() {\nviewer_1699457242853899 = $3Dmol.createViewer(document.getElementById(\"3dmolviewer_1699457242853899\"),{backgroundColor:\"white\"});\nviewer_1699457242853899.zoomTo();\n\tviewer_1699457242853899.addModel(\"10\\n\\nC      0.504459    0.406386    1.703417\\nC      0.272293    0.552490    0.402254\\nC     -0.272295   -0.552491   -0.402254\\nC     -0.504459   -0.406386   -1.703417\\nH      0.299513   -0.529697    2.208353\\nH      0.905393    1.231796    2.277231\\nH      0.490736    1.505240   -0.066099\\nH     -0.490737   -1.505241    0.066099\\nH     -0.905390   -1.231796   -2.277233\\nH     -0.299514    0.529698   -2.208352\\n\",\"xyz\");\n\tviewer_1699457242853899.setViewStyle({\"style\": \"outline\", \"width\": 0.05});\n\tviewer_1699457242853899.setStyle({\"stick\": {}, \"sphere\": {\"scale\": 0.25}});\nviewer_1699457242853899.render();\n});\n</script>",
      "text/html": [
       "<div id=\"3dmolviewer_1699457242853899\"  style=\"position: relative; width: 400px; height: 300px;\">\n",
       "        <p id=\"3dmolwarning_1699457242853899\" style=\"background-color:#ffcccc;color:black\">You appear to be running in JupyterLab (or JavaScript failed to load for some other reason).  You need to install the 3dmol extension: <br>\n",
       "        <tt>jupyter labextension install jupyterlab_3dmol</tt></p>\n",
       "        </div>\n",
       "<script>\n",
       "\n",
       "var loadScriptAsync = function(uri){\n",
       "  return new Promise((resolve, reject) => {\n",
       "    //this is to ignore the existence of requirejs amd\n",
       "    var savedexports, savedmodule;\n",
       "    if (typeof exports !== 'undefined') savedexports = exports;\n",
       "    else exports = {}\n",
       "    if (typeof module !== 'undefined') savedmodule = module;\n",
       "    else module = {}\n",
       "\n",
       "    var tag = document.createElement('script');\n",
       "    tag.src = uri;\n",
       "    tag.async = true;\n",
       "    tag.onload = () => {\n",
       "        exports = savedexports;\n",
       "        module = savedmodule;\n",
       "        resolve();\n",
       "    };\n",
       "  var firstScriptTag = document.getElementsByTagName('script')[0];\n",
       "  firstScriptTag.parentNode.insertBefore(tag, firstScriptTag);\n",
       "});\n",
       "};\n",
       "\n",
       "if(typeof $3Dmolpromise === 'undefined') {\n",
       "$3Dmolpromise = null;\n",
       "  $3Dmolpromise = loadScriptAsync('https://cdnjs.cloudflare.com/ajax/libs/3Dmol/2.0.4/3Dmol-min.js');\n",
       "}\n",
       "\n",
       "var viewer_1699457242853899 = null;\n",
       "var warn = document.getElementById(\"3dmolwarning_1699457242853899\");\n",
       "if(warn) {\n",
       "    warn.parentNode.removeChild(warn);\n",
       "}\n",
       "$3Dmolpromise.then(function() {\n",
       "viewer_1699457242853899 = $3Dmol.createViewer(document.getElementById(\"3dmolviewer_1699457242853899\"),{backgroundColor:\"white\"});\n",
       "viewer_1699457242853899.zoomTo();\n",
       "\tviewer_1699457242853899.addModel(\"10\\n\\nC      0.504459    0.406386    1.703417\\nC      0.272293    0.552490    0.402254\\nC     -0.272295   -0.552491   -0.402254\\nC     -0.504459   -0.406386   -1.703417\\nH      0.299513   -0.529697    2.208353\\nH      0.905393    1.231796    2.277231\\nH      0.490736    1.505240   -0.066099\\nH     -0.490737   -1.505241    0.066099\\nH     -0.905390   -1.231796   -2.277233\\nH     -0.299514    0.529698   -2.208352\\n\",\"xyz\");\n",
       "\tviewer_1699457242853899.setViewStyle({\"style\": \"outline\", \"width\": 0.05});\n",
       "\tviewer_1699457242853899.setStyle({\"stick\": {}, \"sphere\": {\"scale\": 0.25}});\n",
       "viewer_1699457242853899.render();\n",
       "});\n",
       "</script>"
      ]
     },
     "metadata": {},
     "output_type": "display_data"
    }
   ],
   "source": [
    "smiles_str = \"C=CC=C\"\n",
    "molecule_xyz = vlx.Molecule.smiles_to_xyz(smiles_str)\n",
    "\n",
    "viewer = p3d.view(width=400, height=300)\n",
    "viewer.addModel(molecule_xyz, \"xyz\")\n",
    "viewer.setViewStyle({\"style\": \"outline\", \"width\": 0.05})\n",
    "viewer.setStyle({\"stick\": {}, \"sphere\": {\"scale\": 0.25}})\n",
    "viewer.show()"
   ]
  },
  {
   "cell_type": "markdown",
   "id": "5018a4de-0000-409c-ba52-d7b5bbdfef77",
   "metadata": {
    "editable": true,
    "slideshow": {
     "slide_type": ""
    },
    "tags": []
   },
   "source": [
    "(character_table_d2h)=\n",
    "### D$_\\mathsf{2h}$\n",
    "\n",
    "| Irrep  | $\\hat{I}$ | $\\hat{C}_2^z$ | $\\hat{C}_2^y$ | $\\hat{C}_2^x$ | $\\hat{i}$ | $\\hat{\\sigma}^{xy}$| $\\hat{\\sigma}^{xz}$ | $\\hat{\\sigma}^{yz}$ | Operation |\n",
    "| :--- | :---: | :---: | :---: | :---: | :---: | :---: | :---: | :---: | ---: |\n",
    "| $A_g$ | 1 | 1 | 1 | 1 | 1 | 1 | 1 | 1 | |\n",
    "| $B_{1g}$ | 1 | 1 | -1 | -1 | 1 | 1 | -1 | -1 | $R_z$ |\n",
    "| $B_{2g}$ | 1 | -1 | 1 | -1 | 1 | -1 | 1 | -1 | $R_y$ |\n",
    "| $B_{3g}$ | 1 | -1 | -1 | 1 | 1 | -1 | -1 | 1 | $R_x$ |\n",
    "| $A_{u}$ | 1 | 1 | 1 | 1 | -1 | -1 | -1 | -1 |  |\n",
    "| $B_{1u}$ | 1 | 1 | -1 | -1 | -1 | -1 | 1 | 1 | $z$ |\n",
    "| $B_{2u}$ | 1 | -1 | 1 | -1 | -1 | 1 | -1 | 1 | $y$ |\n",
    "| $B_{3u}$ | 1 | -1 | -1 | 1 | -1 | 1 | 1 | -1 | $x$ |"
   ]
  },
  {
   "cell_type": "code",
   "execution_count": 7,
   "id": "1e59b789-b36b-4952-9fc8-5eb6e1af6da4",
   "metadata": {
    "editable": true,
    "slideshow": {
     "slide_type": ""
    },
    "tags": [
     "remove-input"
    ]
   },
   "outputs": [
    {
     "data": {
      "application/3dmoljs_load.v0": "<div id=\"3dmolviewer_1699457418004697\"  style=\"position: relative; width: 400px; height: 300px;\">\n        <p id=\"3dmolwarning_1699457418004697\" style=\"background-color:#ffcccc;color:black\">You appear to be running in JupyterLab (or JavaScript failed to load for some other reason).  You need to install the 3dmol extension: <br>\n        <tt>jupyter labextension install jupyterlab_3dmol</tt></p>\n        </div>\n<script>\n\nvar loadScriptAsync = function(uri){\n  return new Promise((resolve, reject) => {\n    //this is to ignore the existence of requirejs amd\n    var savedexports, savedmodule;\n    if (typeof exports !== 'undefined') savedexports = exports;\n    else exports = {}\n    if (typeof module !== 'undefined') savedmodule = module;\n    else module = {}\n\n    var tag = document.createElement('script');\n    tag.src = uri;\n    tag.async = true;\n    tag.onload = () => {\n        exports = savedexports;\n        module = savedmodule;\n        resolve();\n    };\n  var firstScriptTag = document.getElementsByTagName('script')[0];\n  firstScriptTag.parentNode.insertBefore(tag, firstScriptTag);\n});\n};\n\nif(typeof $3Dmolpromise === 'undefined') {\n$3Dmolpromise = null;\n  $3Dmolpromise = loadScriptAsync('https://cdnjs.cloudflare.com/ajax/libs/3Dmol/2.0.4/3Dmol-min.js');\n}\n\nvar viewer_1699457418004697 = null;\nvar warn = document.getElementById(\"3dmolwarning_1699457418004697\");\nif(warn) {\n    warn.parentNode.removeChild(warn);\n}\n$3Dmolpromise.then(function() {\nviewer_1699457418004697 = $3Dmol.createViewer(document.getElementById(\"3dmolviewer_1699457418004697\"),{backgroundColor:\"white\"});\nviewer_1699457418004697.zoomTo();\n\tviewer_1699457418004697.addModel(\"6\\n\\nC      0.655650   -0.075458    0.085522\\nC     -0.655650    0.075458   -0.085522\\nH      1.317318   -0.120303   -0.773434\\nH      1.070971   -0.154562    1.084958\\nH     -1.317318    0.120304    0.773434\\nH     -1.070971    0.154561   -1.084958\\n\",\"xyz\");\n\tviewer_1699457418004697.setViewStyle({\"style\": \"outline\", \"width\": 0.05});\n\tviewer_1699457418004697.setStyle({\"stick\": {}, \"sphere\": {\"scale\": 0.25}});\nviewer_1699457418004697.render();\n});\n</script>",
      "text/html": [
       "<div id=\"3dmolviewer_1699457418004697\"  style=\"position: relative; width: 400px; height: 300px;\">\n",
       "        <p id=\"3dmolwarning_1699457418004697\" style=\"background-color:#ffcccc;color:black\">You appear to be running in JupyterLab (or JavaScript failed to load for some other reason).  You need to install the 3dmol extension: <br>\n",
       "        <tt>jupyter labextension install jupyterlab_3dmol</tt></p>\n",
       "        </div>\n",
       "<script>\n",
       "\n",
       "var loadScriptAsync = function(uri){\n",
       "  return new Promise((resolve, reject) => {\n",
       "    //this is to ignore the existence of requirejs amd\n",
       "    var savedexports, savedmodule;\n",
       "    if (typeof exports !== 'undefined') savedexports = exports;\n",
       "    else exports = {}\n",
       "    if (typeof module !== 'undefined') savedmodule = module;\n",
       "    else module = {}\n",
       "\n",
       "    var tag = document.createElement('script');\n",
       "    tag.src = uri;\n",
       "    tag.async = true;\n",
       "    tag.onload = () => {\n",
       "        exports = savedexports;\n",
       "        module = savedmodule;\n",
       "        resolve();\n",
       "    };\n",
       "  var firstScriptTag = document.getElementsByTagName('script')[0];\n",
       "  firstScriptTag.parentNode.insertBefore(tag, firstScriptTag);\n",
       "});\n",
       "};\n",
       "\n",
       "if(typeof $3Dmolpromise === 'undefined') {\n",
       "$3Dmolpromise = null;\n",
       "  $3Dmolpromise = loadScriptAsync('https://cdnjs.cloudflare.com/ajax/libs/3Dmol/2.0.4/3Dmol-min.js');\n",
       "}\n",
       "\n",
       "var viewer_1699457418004697 = null;\n",
       "var warn = document.getElementById(\"3dmolwarning_1699457418004697\");\n",
       "if(warn) {\n",
       "    warn.parentNode.removeChild(warn);\n",
       "}\n",
       "$3Dmolpromise.then(function() {\n",
       "viewer_1699457418004697 = $3Dmol.createViewer(document.getElementById(\"3dmolviewer_1699457418004697\"),{backgroundColor:\"white\"});\n",
       "viewer_1699457418004697.zoomTo();\n",
       "\tviewer_1699457418004697.addModel(\"6\\n\\nC      0.655650   -0.075458    0.085522\\nC     -0.655650    0.075458   -0.085522\\nH      1.317318   -0.120303   -0.773434\\nH      1.070971   -0.154562    1.084958\\nH     -1.317318    0.120304    0.773434\\nH     -1.070971    0.154561   -1.084958\\n\",\"xyz\");\n",
       "\tviewer_1699457418004697.setViewStyle({\"style\": \"outline\", \"width\": 0.05});\n",
       "\tviewer_1699457418004697.setStyle({\"stick\": {}, \"sphere\": {\"scale\": 0.25}});\n",
       "viewer_1699457418004697.render();\n",
       "});\n",
       "</script>"
      ]
     },
     "metadata": {},
     "output_type": "display_data"
    }
   ],
   "source": [
    "smiles_str = \"C=C\"\n",
    "molecule_xyz = vlx.Molecule.smiles_to_xyz(smiles_str)\n",
    "\n",
    "viewer = p3d.view(width=400, height=300)\n",
    "viewer.addModel(molecule_xyz, \"xyz\")\n",
    "viewer.setViewStyle({\"style\": \"outline\", \"width\": 0.05})\n",
    "viewer.setStyle({\"stick\": {}, \"sphere\": {\"scale\": 0.25}})\n",
    "viewer.show()"
   ]
  },
  {
   "cell_type": "markdown",
   "id": "0f2056c6-9a94-4ac2-86d6-7ee919f9ad8c",
   "metadata": {
    "editable": true,
    "slideshow": {
     "slide_type": ""
    },
    "tags": []
   },
   "source": [
    "## Wave function symmetry\n",
    "\n",
    "In view of the characters listed in the table, it is straightforward to identify to which irrep molecular orbitals (MOs) belong, $\\Gamma(\\phi_i)$. Since we are here concerned with spatial operations the symmetry of spin orbitals, $\\Gamma(\\psi_i)$, is equal to the symmetry of the associated MOs.\n",
    "\n",
    "The symmetry of many-electron functions composed of Slater determinants is equal to the direct product of the irreps of the spin orbitals\n",
    "\n",
    "$$\n",
    "\\Gamma(\\Psi) = \\Gamma(\\psi_1) \\otimes \\Gamma(\\psi_2) \\otimes \\cdots \\otimes \\Gamma(\\psi_N)\n",
    "$$\n",
    "\n",
    "For double electron occupied MOs, we get\n",
    "\n",
    "$$\n",
    "\\Gamma(\\psi_i) \\otimes \\Gamma(\\psi_\\bar{i}) = \n",
    "\\Gamma(\\phi_i) \\otimes \\Gamma(\\phi_i) = \\Gamma(\\hat{I})\n",
    "$$\n",
    "\n",
    "This gives us the result that closed-shell determinants belong to the all-symmetric irrep, $\\Gamma(\\hat{I})$, and the symmetry of open-shell determinants equals the direct product of the irreps of the single electron occupied MOs."
   ]
  }
 ],
 "metadata": {
  "kernelspec": {
   "display_name": "Python 3 (ipykernel)",
   "language": "python",
   "name": "python3"
  },
  "language_info": {
   "codemirror_mode": {
    "name": "ipython",
    "version": 3
   },
   "file_extension": ".py",
   "mimetype": "text/x-python",
   "name": "python",
   "nbconvert_exporter": "python",
   "pygments_lexer": "ipython3",
   "version": "3.11.6"
  }
 },
 "nbformat": 4,
 "nbformat_minor": 5
}
