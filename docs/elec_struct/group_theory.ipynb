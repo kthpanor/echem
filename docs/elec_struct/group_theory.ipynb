{
 "cells": [
  {
   "cell_type": "markdown",
   "id": "c33b1dbe-e3e6-4d2b-a969-b57c21f18e95",
   "metadata": {
    "editable": true,
    "slideshow": {
     "slide_type": ""
    },
    "tags": []
   },
   "source": [
    "# Symmetry\n",
    "\n",
    "In everyday life, symmetry operations are given by rotations, reflections, and inversions of a physical object that leaves the object unchanged, i.e., the properties of the object are invariant under these transformations.\n",
    "\n",
    "In quantum mechanics, symmetry operations are applied to wave functions, operators, and equations, and we are concerned with the invariance of observables."
   ]
  },
  {
   "cell_type": "markdown",
   "id": "65b01554-3dfd-4904-aee5-5114164b1c9c",
   "metadata": {
    "editable": true,
    "slideshow": {
     "slide_type": ""
    },
    "tags": []
   },
   "source": [
    "## Active or passive point of view\n",
    "\n",
    "When discussing the effect of symmetry operations, it becomes important to distinguish the active and passive points of view. In the former, symmetry operations move the system whereas, in the latter, the frame of reference is changed. An illustration of a step-by-step sequence of operations are illustrated from these two points of view in the figure below.\n",
    "\n",
    "![Passive and active transformations](../../img/misc/symmetry_transformations.svg)\n",
    "\n",
    "We will adopt the active view in which the transformation of a function takes the form\n",
    "\n",
    "$$\n",
    "\\hat{G} f(\\boldsymbol{r}) = f(\\hat{G}^{-1}\\boldsymbol{r})\n",
    "$$\n",
    "\n",
    "i.e., we map function values of $f$ from one point in space $\\boldsymbol{r}' = \\hat{G}^{-1}\\boldsymbol{r}$ to another $\\hat{G}\\boldsymbol{r}' = \\boldsymbol{r}$."
   ]
  },
  {
   "cell_type": "markdown",
   "id": "84af46ec-a0e2-43d5-8c69-edefdb2d847d",
   "metadata": {
    "editable": true,
    "slideshow": {
     "slide_type": ""
    },
    "tags": []
   },
   "source": [
    "## Invariance of observables\n",
    "\n",
    "Spectrum intensities are observables given by\n",
    "\n",
    "$$\n",
    "\\sigma_{f\\leftarrow i} \\propto\n",
    "\\left| \n",
    "\\langle \\Psi_f | \\hat{\\Omega} | \\Psi_i \\rangle \n",
    "\\right|^2 = \n",
    "\\left| \n",
    "\\langle \\Psi_f | \\Psi_{\\Omega,i} \\rangle \n",
    "\\right|^2\n",
    "$$\n",
    "\n",
    "For these to be invariant, we must have\n",
    "\n",
    "$$\n",
    "\\hat{G} \\langle \\Psi_f | \\Psi_{\\Omega,i} \\rangle = \n",
    "\\langle \\hat{G} \\Psi_f | \\hat{G} \\Psi_{\\Omega,i} \\rangle = \n",
    "\\langle \\Psi_f | \\hat{G}^\\dagger \\hat{G} | \\Psi_{\\Omega,i} \\rangle =\n",
    "\\left\\{\n",
    "\\begin{split}\n",
    "  & \\langle \\Psi_f | \\Psi_{\\Omega,i} \\rangle  & \\quad (1) \\\\\n",
    "\\rule{0pt}{14pt} & \\langle \\Psi_f | \\Psi_{\\Omega,i} \\rangle^* & \\quad (2) \n",
    "\\end{split}\n",
    "\\right.\n",
    "$$\n",
    "\n",
    "1. $\\hat{G}$ is unitary with $\\hat{G}^\\dagger \\hat{G} = \\hat{I}$\n",
    "2. $\\hat{G}$ is anti-unitary\n",
    "\n",
    "The spatial transformations of concern are unitary transformations , whereas an example of anti-unitary operation is time-reversal.\n",
    "\n",
    "We can separate the action of the symmetry operator on the operator and the wave function according to\n",
    "\n",
    "$$\n",
    "\\hat{G} | \\Psi_{\\Omega,i} \\rangle =\n",
    "\\hat{G} \\hat{\\Omega} | \\Psi_i \\rangle =\n",
    "\\left( \\hat{G} \\hat{\\Omega} \\hat{G}^{-1} \\right) \\hat{G} | \\Psi_i \\rangle\n",
    "$$\n",
    "\n",
    "We are concerned with spatial symmetry operations that leave the Hamiltonian invariant\n",
    "\n",
    "$$\n",
    "\\hat{G} \\hat{H} \\hat{G}^{-1} = \\hat{H} \n",
    "$$\n",
    "\n",
    "or\n",
    "\n",
    "$$\n",
    "\\left[ \\hat{G}, \\hat{H} \\right] = 0\n",
    "$$"
   ]
  },
  {
   "attachments": {},
   "cell_type": "markdown",
   "id": "08cf5e64-a8de-46c7-bcdc-257dd43ab24c",
   "metadata": {
    "editable": true,
    "slideshow": {
     "slide_type": ""
    },
    "tags": []
   },
   "source": [
    "## Symmetry operations\n",
    "\n",
    "The set of symmetry operations that commute with the Hamiltonian form a group and thereby fulfill:\n",
    "\n",
    "1. If operations $\\hat{P}$ and $\\hat{Q}$ are members if the group, so is $\\hat{R} = \\hat{P} \\hat{Q}$. The rule for the combined operation is that first is the operation of $\\hat{Q}$ completed and then is the action of $\\hat{P}$ performed.\n",
    "2. The set of operations contains $\\hat{I}$.\n",
    "3. The associate law applies, i.e., $\\hat{P}(\\hat{Q}\\hat{R}) = (\\hat{P}\\hat{Q})\\hat{R}$ for all operations.\n",
    "4. The inverse for all operations belongs to the group.\n",
    "\n",
    "By limiting ourselves to spatial symmetry, symmetry operations are restricted to geometric actions that leave the nuclear framework invariant.\n",
    "\n",
    "A symmetry element is a geometrical entity, e.g., a point, line, or plane, about which an action takes place. For every operation there is an associated element. At least one point in space is left unchanged for all symmetry operations and we refer to such groups as point groups to distinguish them from crystal groups that also possess translational symmetry.\n",
    "\n",
    "There are five different kinds of symmetry operations:\n",
    "\n",
    "1. The identity operation, $\\hat{I}$, does nothing.\n",
    "2. The rotation operation, $\\hat{C}_n$, rotates the system an angle $2\\pi/n$ about an axis. If the molecules possesses several rotation axes, the one with the largest $n$ is referred to as the principal axis.\n",
    "3. The reflection operation, $\\hat{\\sigma}$, reflects the system in a plane. If a plane is perpendicular to the principal axis, the operation is denoted $\\hat{\\sigma}_h$. If, on the other hand, it contains the principal axis, it is denoted $\\hat{\\sigma}_v$. Finally, if the plane bisects the angle between two $C_2$-axes, it is denoted $\\hat{\\sigma}_d$.\n",
    "4. The inversion operation, $\\hat{i}$, inverts space through the origin. \n",
    "5. The improper rotation (or rotoreflection) operation, $\\hat{S}_n = \\hat{\\sigma}_h \\hat{C}_n$, performs a combination of a rotation and a reflection in a plane perpendicular to the rotation axis. \n",
    "  \n",
    "It is noted that some symmetry operations are equivalent, e.g., $\\hat{S}_2 = \\hat{i}$."
   ]
  },
  {
   "cell_type": "markdown",
   "id": "e2c26cf9-4704-4d2d-befe-56b5d43916ae",
   "metadata": {
    "editable": true,
    "slideshow": {
     "slide_type": ""
    },
    "tags": []
   },
   "source": [
    "## Point groups\n",
    "\n",
    "Identifying the point group for a molecule can be achieved with use of the following flowchart.\n",
    "\n",
    "![]( ../../img/misc/flowchart.svg)\n",
    "\n",
    "As an example, water:\n",
    "- is nonlinear\n",
    "- contains no $C_{n}$ with $n \\ge 3$\n",
    "- contains $C_{2}$\n",
    "- does not have Two $C_{2}$ perpendicular to principal axis\n",
    "- has no $\\sigma_h$\n",
    "- has two $\\sigma_v$\n",
    "\n",
    "...and thus belongs to the group $C_{2v}$.\n",
    "\n",
    "These point groups can immediately give information regarding a molecules dipole moment and possible chiral features, *e.g.*:\n",
    "- As a (static) *dipole moment* is a result of an asymmetric charge distribution, it is not possible to have a dipole moment along any other axis than a $C_n$-axis. Further, this $C_n$-axis cannot be affected by any operations such as reflection perpendicular to the axis, as this would interchange the ends. As a result, only molecules belonging to the point groups $C_n$, $C_{nv}$ and $C_s$ can have a dipole moment.\n",
    "\n",
    "- A molecule that cannot be superimposed on its mirror image is said to be *chiral*. This is exemplified by the inability of the left hand to be superimposed on the right hand, and it has the physical effect of rotating the plane of polarized light in opposite directions for the two different specimen. For a molecule to be chiral, it cannot contain a $S_n$-axis, an axis often implied by the presence of other symmetry elements (e.g. $\\sigma$ is equivalent to $S_1$)."
   ]
  },
  {
   "cell_type": "markdown",
   "id": "0e311668-85f5-4000-831a-e26e828fe191",
   "metadata": {
    "editable": true,
    "slideshow": {
     "slide_type": ""
    },
    "tags": []
   },
   "source": [
    "## Character tables\n",
    "\n",
    "\n",
    "### $C_{2h}$\n",
    "\n",
    "| Irrep | $\\hat{I}$ | $\\hat{C}_2(z)$ | $\\hat{i}$ | $\\hat{\\sigma}_h$ | Operation |\n",
    "| --- | --- | --- | --- | --- | --- |\n",
    "| $A_g$ | 1 | 1 | 1 | 1 | $R_z$, $x^2$, $y^2$, $z^2$ |\n",
    "| $B_{g}$ | 1 | -1 | 1 | -1 | $R_x$, $R_y$ |\n",
    "| $A_{u}$ | 1 | 1 | -1 | -1 | $z$  |\n",
    "| $B_{u}$ | 1 | -1 | -1 | 1 | $x$, $y$ |\n",
    "\n",
    "(character_table_d2h)=\n",
    "### $D_{2h}$\n",
    "\n",
    "| Irrep  | $\\hat{I}$ | $\\hat{C}_2(z)$ | $\\hat{C}_2(y)$ | $\\hat{C}_2(x)$ | $\\hat{i}$ | $\\hat{\\sigma}(xy)$| $\\hat{\\sigma}(xz)$ | $\\hat{\\sigma}(yz)$ | Operation |\n",
    "| --- | --- | --- | --- | --- | --- | --- | --- | --- | --- |\n",
    "| $A_g$ | 1 | 1 | 1 | 1 | 1 | 1 | 1 | 1 |$x^2$, $y^2$, $z^2$ |\n",
    "| $B_{1g}$ | 1 | 1 | -1 | -1 | 1 | 1 | -1 | -1 | $R_z$, $xy$ |\n",
    "| $B_{2g}$ | 1 | -1 | 1 | -1 | 1 | -1 | 1 | -1 | $R_y$, $xz$ |\n",
    "| $B_{3g}$ | 1 | -1 | -1 | 1 | 1 | -1 | -1 | 1 | $R_x$, $yz$ |\n",
    "| $A_{u}$ | 1 | 1 | 1 | 1 | -1 | -1 | -1 | -1 |  |\n",
    "| $B_{1u}$ | 1 | 1 | -1 | -1 | -1 | -1 | 1 | 1 | $z$ |\n",
    "| $B_{2u}$ | 1 | -1 | 1 | -1 | -1 | 1 | -1 | 1 | $y$ |\n",
    "| $B_{3u}$ | 1 | -1 | -1 | 1 | -1 | 1 | 1 | -1 | $x$ |"
   ]
  }
 ],
 "metadata": {
  "kernelspec": {
   "display_name": "Python 3 (ipykernel)",
   "language": "python",
   "name": "python3"
  },
  "language_info": {
   "codemirror_mode": {
    "name": "ipython",
    "version": 3
   },
   "file_extension": ".py",
   "mimetype": "text/x-python",
   "name": "python",
   "nbconvert_exporter": "python",
   "pygments_lexer": "ipython3",
   "version": "3.11.6"
  }
 },
 "nbformat": 4,
 "nbformat_minor": 5
}
