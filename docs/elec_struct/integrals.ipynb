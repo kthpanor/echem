{
 "cells": [
  {
   "cell_type": "markdown",
   "id": "8a5cf5c3-a0f6-4d4c-a19b-9d7c6df86b22",
   "metadata": {
    "editable": true,
    "slideshow": {
     "slide_type": ""
    },
    "tags": []
   },
   "source": [
    "(sec:integrals)=\n",
    "# Integrals"
   ]
  },
  {
   "cell_type": "code",
   "execution_count": 4,
   "id": "d9340b31-456a-41e2-af70-58370029cabb",
   "metadata": {
    "editable": true,
    "slideshow": {
     "slide_type": ""
    },
    "tags": [
     "remove-output"
    ]
   },
   "outputs": [],
   "source": [
    "import numpy as np\n",
    "import veloxchem as vlx"
   ]
  },
  {
   "cell_type": "markdown",
   "id": "c1077121-bf36-4afb-9758-721d8042d070",
   "metadata": {
    "editable": true,
    "slideshow": {
     "slide_type": ""
    },
    "tags": []
   },
   "source": [
    "(sec:integral_order)=\n",
    "## Ordering\n",
    "\n",
    "In VeloxChem, the atomic orbitals are ordered according to\n",
    "\n",
    "1. Orbital angular momentum, $l$\n",
    "2. Projection of orbital angular momentum, $m_l$\n",
    "3. The order of atoms in the user input\n",
    "\n",
    "As an illustration, let us consider a water molecule with an atom ordering and coordinates as follows:"
   ]
  },
  {
   "cell_type": "code",
   "execution_count": 5,
   "id": "04324370-f96f-4c52-b294-1c992a76ae2b",
   "metadata": {
    "editable": true,
    "slideshow": {
     "slide_type": ""
    },
    "tags": []
   },
   "outputs": [],
   "source": [
    "h2o_xyz = \"\"\"3\n",
    "\n",
    "O    0.000000000000        0.000000000000        0.000000000000\n",
    "H    0.000000000000        0.740848095288        0.582094932012\n",
    "H    0.000000000000       -0.740848095288        0.582094932012\n",
    "\"\"\""
   ]
  },
  {
   "cell_type": "markdown",
   "id": "cd559d46-a78b-4fb4-b220-fc0a32108aa1",
   "metadata": {
    "editable": true,
    "slideshow": {
     "slide_type": ""
    },
    "tags": []
   },
   "source": [
    "We employ the `cc-pVDZ` basis set."
   ]
  },
  {
   "cell_type": "code",
   "execution_count": 6,
   "id": "a22f0f63-a344-4ea1-b39f-6f0414c1b24f",
   "metadata": {
    "editable": true,
    "slideshow": {
     "slide_type": ""
    },
    "tags": [
     "remove-output"
    ]
   },
   "outputs": [],
   "source": [
    "molecule = vlx.Molecule.read_xyz_string(h2o_xyz)\n",
    "basis = vlx.MolecularBasis.read(molecule, \"cc-pVDZ\", ostream=None)"
   ]
  },
  {
   "cell_type": "code",
   "execution_count": 7,
   "id": "e8dfc499-94cb-4995-9d1b-7db39519104e",
   "metadata": {
    "editable": true,
    "slideshow": {
     "slide_type": ""
    },
    "tags": []
   },
   "outputs": [
    {
     "name": "stdout",
     "output_type": "stream",
     "text": [
      "Number of basis functions: 24\n"
     ]
    }
   ],
   "source": [
    "print(f\"Number of basis functions: {basis.get_dimension_of_basis()}\")"
   ]
  },
  {
   "cell_type": "markdown",
   "id": "567f8e05-da51-4ddf-9772-cd415a23b2ef",
   "metadata": {
    "editable": true,
    "slideshow": {
     "slide_type": ""
    },
    "tags": []
   },
   "source": [
    "The basis functions have the following order:"
   ]
  },
  {
   "cell_type": "markdown",
   "id": "4621c049-29d3-4d32-b19c-cba8a0d95da3",
   "metadata": {
    "editable": true,
    "slideshow": {
     "slide_type": ""
    },
    "tags": []
   },
   "source": [
    "- $l=0$, $m_l=0$: <br>\n",
    "$\\chi_{1s}^\\mathrm{O}$, $\\chi_{2s}^\\mathrm{O}$, $\\chi_{3s}^\\mathrm{O}$, $\\chi_{1s}^\\mathrm{H_1}$, $\\chi_{2s}^\\mathrm{H_1}$, $\\chi_{1s}^\\mathrm{H_2}$, $\\chi_{2s}^\\mathrm{H_2}$\n",
    "\n",
    "- $l=1$, $m_l=-1$: <br>\n",
    "$\\chi_{2p_y}^\\mathrm{O}$, $\\chi_{3p_y}^\\mathrm{O}$, $\\chi_{2p_y}^\\mathrm{H_1}$, $\\chi_{2p_y}^\\mathrm{H_2}$\n",
    "\n",
    "- $l=1$, $m_l=0$: <br>\n",
    "$\\chi_{2p_z}^\\mathrm{O}$, $\\chi_{3p_z}^\\mathrm{O}$, $\\chi_{2p_z}^\\mathrm{H_1}$, $\\chi_{2p_z}^\\mathrm{H_2}$\n",
    "\n",
    "- $l=1$, $m_l=+1$: <br>\n",
    "$\\chi_{2p_x}^\\mathrm{O}$, $\\chi_{3p_x}^\\mathrm{O}$, $\\chi_{2p_x}^\\mathrm{H_1}$, $\\chi_{2p_x}^\\mathrm{H_2}$\n",
    "\n",
    "- $l=2$, $m_l=\\{-2, -1, 0, +1, +2\\}$: <br>\n",
    "$\\chi_{3d_{xy}}^\\mathrm{O}$, $\\chi_{3d_{yz}}^\\mathrm{O}$, $\\chi_{3d_{z^2}}^\\mathrm{O}$, $\\chi_{3d_{xz}}^\\mathrm{O}$, $\\chi_{3d_{x^2 - y^2}}^\\mathrm{O}$\n"
   ]
  },
  {
   "cell_type": "markdown",
   "id": "3ed05555-dbde-46b4-b622-66fce40eb268",
   "metadata": {
    "editable": true,
    "slideshow": {
     "slide_type": ""
    },
    "tags": []
   },
   "source": [
    "## Exposure to Python layer\n",
    "\n",
    "Several integrals are exposed to the Python layer in VeloxChem."
   ]
  },
  {
   "cell_type": "markdown",
   "id": "cecaa921-115a-4dea-b4b5-55c5a8218bba",
   "metadata": {
    "editable": true,
    "slideshow": {
     "slide_type": ""
    },
    "tags": []
   },
   "source": [
    "### Overlap"
   ]
  },
  {
   "cell_type": "code",
   "execution_count": 5,
   "id": "5f81e466-4b79-448a-a5d9-6502f0322404",
   "metadata": {
    "editable": true,
    "slideshow": {
     "slide_type": ""
    },
    "tags": []
   },
   "outputs": [],
   "source": [
    "overlap_drv = vlx.OverlapIntegralsDriver()\n",
    "S = overlap_drv.compute(molecule, basis).to_numpy()"
   ]
  },
  {
   "cell_type": "markdown",
   "id": "863c0682-d319-48ca-8c63-879d233616e4",
   "metadata": {
    "editable": true,
    "slideshow": {
     "slide_type": ""
    },
    "tags": [
     "remove-output"
    ]
   },
   "source": [
    "### Kinetic energy"
   ]
  },
  {
   "cell_type": "code",
   "execution_count": 6,
   "id": "ba01be16-fb12-4de2-ac93-4a964185baa1",
   "metadata": {
    "editable": true,
    "slideshow": {
     "slide_type": ""
    },
    "tags": []
   },
   "outputs": [],
   "source": [
    "kinetic_drv = vlx.KineticEnergyIntegralsDriver()\n",
    "T = kinetic_drv.compute(molecule, basis).to_numpy()"
   ]
  },
  {
   "cell_type": "markdown",
   "id": "38784c15-1c9d-4dc6-92b6-f6a95c5bebf5",
   "metadata": {
    "editable": true,
    "slideshow": {
     "slide_type": ""
    },
    "tags": []
   },
   "source": [
    "### Nuclear potential"
   ]
  },
  {
   "cell_type": "code",
   "execution_count": 7,
   "id": "6d67fd27-206b-4db4-b089-3a73f457ab4f",
   "metadata": {
    "editable": true,
    "slideshow": {
     "slide_type": ""
    },
    "tags": []
   },
   "outputs": [],
   "source": [
    "nucpot_drv = vlx.NuclearPotentialIntegralsDriver()\n",
    "V = -1.0 * nucpot_drv.compute(molecule, basis).to_numpy()"
   ]
  },
  {
   "cell_type": "markdown",
   "id": "2a5337f9-d94b-4dac-ac66-e22ed9cb4fca",
   "metadata": {
    "editable": true,
    "slideshow": {
     "slide_type": ""
    },
    "tags": []
   },
   "source": [
    "### One-electron Hamiltonian"
   ]
  },
  {
   "cell_type": "code",
   "execution_count": 8,
   "id": "e7dc8ef7-5943-40e1-9117-c44aebfb0bdb",
   "metadata": {
    "editable": true,
    "slideshow": {
     "slide_type": ""
    },
    "tags": []
   },
   "outputs": [],
   "source": [
    "h = T + V"
   ]
  },
  {
   "cell_type": "markdown",
   "id": "2842d48c-9638-49f2-a83b-0615e720aa04",
   "metadata": {
    "editable": true,
    "slideshow": {
     "slide_type": ""
    },
    "tags": []
   },
   "source": [
    "### Linear momentum"
   ]
  },
  {
   "cell_type": "code",
   "execution_count": 9,
   "id": "bcaa4241-564d-4f77-ac09-ff20f11deb41",
   "metadata": {
    "editable": true,
    "slideshow": {
     "slide_type": ""
    },
    "tags": []
   },
   "outputs": [],
   "source": [
    "linmom_drv = vlx.LinearMomentumIntegralsDriver()\n",
    "linmom_mats = linmom_drv.compute(molecule, basis)\n",
    "\n",
    "p_x = linmom_mats.x_to_numpy()\n",
    "p_y = linmom_mats.y_to_numpy()\n",
    "p_z = linmom_mats.z_to_numpy()"
   ]
  },
  {
   "cell_type": "markdown",
   "id": "5ef22b76-8f5f-42fd-aec7-bf75e9b89806",
   "metadata": {
    "editable": true,
    "slideshow": {
     "slide_type": ""
    },
    "tags": []
   },
   "source": [
    "### Electric dipole moment"
   ]
  },
  {
   "cell_type": "code",
   "execution_count": 10,
   "id": "a116fc63-3c72-4fec-bd8b-b9ed011482f0",
   "metadata": {
    "editable": true,
    "slideshow": {
     "slide_type": ""
    },
    "tags": []
   },
   "outputs": [],
   "source": [
    "dipole_drv = vlx.ElectricDipoleIntegralsDriver()\n",
    "dipole_mats = dipole_drv.compute(molecule, basis)\n",
    "\n",
    "mu_x = -1.0 * dipole_mats.x_to_numpy()\n",
    "mu_y = -1.0 * dipole_mats.y_to_numpy()\n",
    "mu_z = -1.0 * dipole_mats.z_to_numpy()"
   ]
  },
  {
   "cell_type": "markdown",
   "id": "82f455db-5aad-4a30-acec-a395f8defc4c",
   "metadata": {
    "editable": true,
    "slideshow": {
     "slide_type": ""
    },
    "tags": []
   },
   "source": [
    "### Magnetic dipole moment"
   ]
  },
  {
   "cell_type": "code",
   "execution_count": 11,
   "id": "2d84f100-4d30-47d3-a9e3-474e95ed991e",
   "metadata": {
    "editable": true,
    "slideshow": {
     "slide_type": ""
    },
    "tags": []
   },
   "outputs": [],
   "source": [
    "angmom_drv = vlx.AngularMomentumIntegralsDriver()\n",
    "angmom_mats = angmom_drv.compute(molecule, basis)\n",
    "\n",
    "m_x = -0.5 * angmom_mats.x_to_numpy()\n",
    "m_y = -0.5 * angmom_mats.y_to_numpy()\n",
    "m_z = -0.5 * angmom_mats.z_to_numpy()"
   ]
  },
  {
   "cell_type": "markdown",
   "id": "0dfe06bb-aff6-40d3-baef-d5274416a90d",
   "metadata": {
    "editable": true,
    "slideshow": {
     "slide_type": ""
    },
    "tags": []
   },
   "source": [
    "### Electron repulsion integrals"
   ]
  },
  {
   "cell_type": "code",
   "execution_count": 12,
   "id": "930ab4ba-9fea-49e8-b105-04eeb54e7953",
   "metadata": {
    "editable": true,
    "slideshow": {
     "slide_type": ""
    },
    "tags": []
   },
   "outputs": [
    {
     "name": "stdout",
     "output_type": "stream",
     "text": [
      "(24, 24, 24, 24)\n"
     ]
    }
   ],
   "source": [
    "eri_drv = vlx.ElectronRepulsionIntegralsDriver()\n",
    "g = eri_drv.compute_in_memory(molecule, basis)\n",
    "\n",
    "print(g.shape)"
   ]
  },
  {
   "cell_type": "markdown",
   "id": "39c7c3ea-27b5-47a0-b1e7-f63306fa685a",
   "metadata": {
    "editable": true,
    "slideshow": {
     "slide_type": ""
    },
    "tags": []
   },
   "source": [
    "## Integral transformations"
   ]
  },
  {
   "cell_type": "code",
   "execution_count": 18,
   "id": "58c13de1-f386-46cc-b35b-7e4a9888d4f6",
   "metadata": {
    "editable": true,
    "scrolled": true,
    "slideshow": {
     "slide_type": ""
    },
    "tags": [
     "remove-output"
    ]
   },
   "outputs": [],
   "source": [
    "# number of occupied orbitals\n",
    "nocc = molecule.number_of_alpha_electrons()\n",
    "\n",
    "# get the MO coefficients\n",
    "scf_drv = vlx.ScfRestrictedDriver()\n",
    "scf_drv.ostream.mute()\n",
    "\n",
    "scf_results = scf_drv.compute(molecule, basis)\n",
    "\n",
    "C = scf_results[\"C_alpha\"]"
   ]
  },
  {
   "cell_type": "markdown",
   "id": "6ddd3bc4-d45f-457f-a808-e0fb4a8497b9",
   "metadata": {
    "editable": true,
    "slideshow": {
     "slide_type": ""
    },
    "tags": []
   },
   "source": [
    "### One-electron integrals\n",
    "\n",
    "#### AO to MO transformation\n",
    "\n",
    "The transformation of one-electron integrals from the AO to the MO basis takes the form\n",
    "\n",
    "$$\n",
    " \\Omega_{pq}^\\mathrm{MO} = \\sum_{\\alpha, \\beta} \n",
    " c^*_{\\alpha p} \\Omega_{\\alpha\\beta}^\\mathrm{AO} c_{\\beta q}\n",
    "$$\n",
    "\n",
    "or, equivalently,\n",
    "\n",
    "$$\n",
    "\\boldsymbol{\\Omega}^\\mathrm{MO} = \n",
    "\\mathbf{C}^\\dagger \\boldsymbol{\\Omega}^\\mathrm{AO} \\mathbf{C}\n",
    "$$"
   ]
  },
  {
   "cell_type": "code",
   "execution_count": 14,
   "id": "cc5117ff-f62f-419e-8a0b-9d67755b3a12",
   "metadata": {
    "editable": true,
    "slideshow": {
     "slide_type": ""
    },
    "tags": []
   },
   "outputs": [],
   "source": [
    "mu_z_mo = np.einsum(\"ap, ab, bq -> pq\", C, mu_z, C)"
   ]
  },
  {
   "cell_type": "markdown",
   "id": "eb7269a7-0344-4c06-8ca7-bf316edd6be4",
   "metadata": {
    "editable": true,
    "slideshow": {
     "slide_type": ""
    },
    "tags": []
   },
   "source": [
    "#### MO to AO transformation\n",
    "\n",
    "To do the reversed operation, we make use of the relation\n",
    "\n",
    "$$\n",
    "\\mathbf{C}^\\dagger \\mathbf{S} \\mathbf{C} = \\mathbf{I}\n",
    "$$\n",
    "\n",
    "from which we deduce\n",
    "\n",
    "\\begin{align*}\n",
    "\\mathbf{C}^{-1} & = \\mathbf{C}^\\dagger \\mathbf{S} \\\\\n",
    "\\Big[ \\mathbf{C}^\\dagger\\Big]^{-1} & = \\mathbf{S} \\mathbf{C} \n",
    "\\end{align*}\n",
    "\n",
    "and we get\n",
    "\n",
    "$$\n",
    "\\boldsymbol{\\Omega}^\\mathrm{AO} = \n",
    "\\mathbf{S} \\mathbf{C} \\, \\boldsymbol{\\Omega}^\\mathrm{MO} \\mathbf{C}^\\dagger \\mathbf{S}\n",
    "$$"
   ]
  },
  {
   "cell_type": "code",
   "execution_count": 15,
   "id": "d41b13fa-f5e1-41f8-afc9-836cdfbbce2a",
   "metadata": {
    "editable": true,
    "slideshow": {
     "slide_type": ""
    },
    "tags": []
   },
   "outputs": [],
   "source": [
    "mu_z_ao = np.einsum(\"ab, bp, pq, cq, cd -> ad\", S, C, mu_z_mo, C, S)"
   ]
  },
  {
   "cell_type": "markdown",
   "id": "e952deb3-82cf-4ce9-a3a3-72970c3a6813",
   "metadata": {
    "editable": true,
    "slideshow": {
     "slide_type": ""
    },
    "tags": []
   },
   "source": [
    "Test the forth-and-back transformations against the original AO matrix."
   ]
  },
  {
   "cell_type": "code",
   "execution_count": 17,
   "id": "1b3c0b6f-63d7-4e08-9e86-6a1b1bc7e138",
   "metadata": {
    "editable": true,
    "slideshow": {
     "slide_type": ""
    },
    "tags": []
   },
   "outputs": [],
   "source": [
    "np.testing.assert_allclose(mu_z_ao, mu_z, atol=1e-12)"
   ]
  },
  {
   "cell_type": "markdown",
   "id": "b19ecad6-0dfa-476e-a777-47e9aa40aeb1",
   "metadata": {
    "editable": true,
    "slideshow": {
     "slide_type": ""
    },
    "tags": []
   },
   "source": [
    "### Two-electron integrals\n",
    "\n",
    "Most correlated wave function methods rely on integrals in the molecular orbital basis. For some methods, like Møller–Plesset second order perturbation theory, the step of transforming integrals from the AO to the MO basis can the most time-consuming step of the calculation.\n",
    "\n",
    "#### Conventional\n",
    "\n",
    "The transformation of the AO integrals to the MO basis can be done as follows\n",
    "\n",
    "\\begin{eqnarray*}\n",
    "( \\alpha \\beta | \\gamma s ) &= \\sum_{\\delta} c_{\\delta s} ( \\alpha \\beta | \\gamma \\delta ) \\\\\n",
    "%\n",
    "( \\alpha \\beta | r s ) &= \\sum_{\\gamma} c^*_{\\gamma r} ( \\alpha \\beta | \\gamma s ) \\\\\n",
    "%\n",
    "( \\alpha q | r s ) &= \\sum_{\\beta} c_{\\beta q} ( \\alpha \\beta | r s ) \\\\\n",
    "%\n",
    "( p q | r s ) &= \\sum_{\\alpha} c^*_{\\alpha p} ( \\alpha q | r s ) \\\\\n",
    "\\end{eqnarray*}\n",
    "\n",
    "The computational cost of this procedure is $O(N^5)$, since each summation involves five indices. Note that the intermediate result of the transformation needs to be explicitly stored in memory. This can be demanding as the required memory increases as $O(N^4)$, where $N$ is the number of contracted basis functions."
   ]
  },
  {
   "cell_type": "code",
   "execution_count": null,
   "id": "b0617e4c-9ba8-481c-900c-0aa89a6e4c6c",
   "metadata": {
    "editable": true,
    "slideshow": {
     "slide_type": ""
    },
    "tags": []
   },
   "outputs": [],
   "source": [
    "g_1 = np.einsum(\"ds, abcd -> abcs\", C, g)\n",
    "g_2 = np.einsum(\"cr, abcs -> abrs\", C, g_1)\n",
    "g_3 = np.einsum(\"bq, abrs -> aqrs\", C, g_2)\n",
    "\n",
    "g_mo = np.einsum(\"ap, aqrs -> pqrs\", C, g_3)\n",
    "\n",
    "print(g_mo.shape)"
   ]
  },
  {
   "cell_type": "markdown",
   "id": "d3afae0b-2947-415c-ac65-8a4cb7541464",
   "metadata": {
    "editable": true,
    "slideshow": {
     "slide_type": ""
    },
    "tags": []
   },
   "source": [
    "Specific blocks a ERIs are made available directly in the MO basis, both in the physicist's and the chemist's notation."
   ]
  },
  {
   "cell_type": "code",
   "execution_count": null,
   "id": "3d542821-7076-4dd7-b56f-816259a361db",
   "metadata": {
    "editable": true,
    "slideshow": {
     "slide_type": ""
    },
    "tags": []
   },
   "outputs": [],
   "source": [
    "erimo_drv = vlx.MOIntegralsDriver()\n",
    "\n",
    "phys_oovv = erimo_drv.compute_in_memory(molecule, basis, scf_drv.mol_orbs, \"phys_oovv\")\n",
    "print(\"[oo|vv]:\", phys_oovv.shape)\n",
    "\n",
    "chem_ovov = erimo_drv.compute_in_memory(molecule, basis, scf_drv.mol_orbs, \"chem_ovov\")\n",
    "print(\"(ov|ov):\", chem_ovov.shape)\n",
    "\n",
    "np.testing.assert_allclose(phys_oovv, chem_ovov.swapaxes(1, 2), atol=1e-15)"
   ]
  },
  {
   "cell_type": "markdown",
   "id": "895770d1-0592-4690-83ce-2dc843cba4ba",
   "metadata": {
    "editable": true,
    "slideshow": {
     "slide_type": ""
    },
    "tags": []
   },
   "source": [
    "#### Fock-matrix driven\n",
    "\n",
    "An alternative way of getting the molecular orbital integrals is through the direct formation of many Fock matrices. Taking the ovov-block of MO integrals as an example, we can in practice build $N_{occ} \\times N_{occ}$ density matrices using the coefficients of the occupied orbitals, and form the corresponding Fock matrices that can then be transformed into molecular basis by the coefficients of the virtual orbitals. \n",
    "\n",
    "\\begin{eqnarray*}\n",
    "D^{ij}_{\\alpha \\beta} &=& c^*_{\\alpha i} c^*_{\\beta j} \\\\\n",
    "%\n",
    "K^{ij}_{\\gamma \\delta} &=& \n",
    "\\sum_{\\alpha, \\beta} D^{ij}_{\\alpha\\beta} (\\alpha \\gamma| \\beta \\delta ) \\\\\n",
    "%\n",
    "(i a|j b ) &=& \\sum_{\\gamma, \\delta} c_{\\gamma a} K^{ij}_{\\gamma \\delta} c_{\\delta b}\n",
    "\\end{eqnarray*}\n",
    "\n",
    "The computational cost of this approach is formally $O(N^6)$; however, in practice the cost scales between $O(N^4)$ and $O(N^5)$ due to screening of integrals in the formation of Fock matrices. An advantage of this approach is that the Fock matrices can be computed and stored on individual compute nodes, making it suitable for large-scale parallelization on HPC systems.\n",
    "\n",
    "VeloxChem uses this approach to serve electron repulsion integrals (ERIs) for the correlated wave function programs Gator and MultiPsi."
   ]
  },
  {
   "cell_type": "code",
   "execution_count": null,
   "id": "5e9319e0-9c0f-4e3d-a73d-32c6741c543f",
   "metadata": {
    "editable": true,
    "slideshow": {
     "slide_type": ""
    },
    "tags": []
   },
   "outputs": [],
   "source": [
    "i, j = 0, 3\n",
    "D_ij = np.einsum(\"a, b -> ab\", C[:, i], C[:, j])\n",
    "K_ij = np.einsum(\"acbd, ab -> cd\", g, D_ij)\n",
    "g_ivjv = np.einsum(\"ca, cd, db -> ab\", C[:, nocc:], K_ij, C[:, nocc:])\n",
    "\n",
    "print(g_ivjv.shape)\n",
    "np.testing.assert_allclose(g_ivjv, chem_ovov[i, :, j, :], atol=1e-15)"
   ]
  }
 ],
 "metadata": {
  "kernelspec": {
   "display_name": "Python 3 (ipykernel)",
   "language": "python",
   "name": "python3"
  },
  "language_info": {
   "codemirror_mode": {
    "name": "ipython",
    "version": 3
   },
   "file_extension": ".py",
   "mimetype": "text/x-python",
   "name": "python",
   "nbconvert_exporter": "python",
   "pygments_lexer": "ipython3",
   "version": "3.11.7"
  }
 },
 "nbformat": 4,
 "nbformat_minor": 5
}
