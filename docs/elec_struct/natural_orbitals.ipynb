{
 "cells": [
  {
   "cell_type": "markdown",
   "id": "19e6df77-29fd-4447-ae7a-3060210fbb10",
   "metadata": {
    "tags": []
   },
   "source": [
    "# Natural orbitals\n",
    "\n",
    "The [one-particle density](https://kthpanor.github.io/echem/docs/elec_struct/reduced_density.html#one-particle-density) and the associated spin-orbital density matrix, $D^\\mathrm{SO}$, are related as follows\n",
    "\n",
    "$$\n",
    "n(\\mathbf{r}) \\equiv\n",
    "\\sum_{p,q} \\psi^\\dagger_p(\\mathbf{r}) D_{pq}^\\mathrm{SO} \\psi_q(\\mathbf{r})\n",
    "$$\n",
    "\n",
    "A nonzero contribution to the density requires the spin of both orbitals to be identical and the summation can therefore be separated by introducing the $\\alpha$- and $\\beta$-spin densities and instead run over molecular orbitals\n",
    "\n",
    "\\begin{align*}\n",
    "n(\\mathbf{r}) & =\n",
    "\\sum_{p,q} \n",
    "\\Big(\n",
    "\\big[\n",
    "\\phi^\\alpha_p(\\mathbf{r})\n",
    "\\big]^\\ast\n",
    "D_{pq}^\\alpha\n",
    "\\phi_q^\\alpha(\\mathbf{r})\n",
    "+\n",
    "\\big[\n",
    "\\phi^\\beta_p(\\mathbf{r})\n",
    "\\big]^\\ast\n",
    "D_{pq}^\\beta\n",
    "\\phi_q^\\beta(\\mathbf{r})\n",
    "\\Big)\n",
    "\\end{align*}\n",
    "\n",
    "Natural orbitals is a single set of spatial orbitals in which the one-particle density is expanded\n",
    "\n",
    "$$\n",
    "n(\\mathbf{r}) =\n",
    "\\sum_{p}\n",
    "\\big[\n",
    "\\phi_p^\\mathrm{NO}(\\mathbf{r})\n",
    "\\big]^\\ast\n",
    "D_{pp}^\\mathrm{NO}\n",
    "\\phi_p^\\mathrm{NO}(\\mathbf{r})\n",
    "$$\n",
    "\n",
    "and the elements of the diagonal density matrix, $D_{pp}^\\mathrm{NO}$, in this basis are referred to as occupation numbers."
   ]
  },
  {
   "cell_type": "markdown",
   "id": "dd5cdb1b-4c8d-448d-b5e9-bec66edeeee6",
   "metadata": {},
   "source": [
    "## Restricted orbitals\n",
    "\n",
    "In restricted calculations, we have a common set of MOs for the $\\alpha$- and $\\beta$-spin orbitals and can write\n",
    "\n",
    "\\begin{align*}\n",
    "n(\\mathbf{r}) & =\n",
    "\\sum_{p,q} \n",
    "\\phi_p^\\ast(\\mathbf{r})\n",
    "D_{pq}\n",
    "\\phi_q(\\mathbf{r})\n",
    "\\\\\n",
    "D_{pq} & =\n",
    "D_{pq}^\\alpha + D_{pq}^\\beta\n",
    "\\end{align*}\n",
    "\n",
    "The density matrix is Hermitian and can be diagonalized by a unitary transformation. We get\n",
    "\n",
    "\\begin{align*}\n",
    "\\mathbf{D}^\\mathrm{NO} & = \n",
    "\\mathbf{U}^\\dagger\n",
    "\\mathbf{D}\n",
    "\\mathbf{U} \\\\\n",
    "\\phi_p^\\mathrm{NO}(\\mathbf{r}) & =\n",
    "\\sum_q\n",
    "\\phi_q(\\mathbf{r})\n",
    "U_{qp}\n",
    "\\end{align*}\n",
    "\n",
    "In restricted closed (RHF) and open-shell Hartree–Fock (ROHF), the natural orbitals equal the HF orbitals and the occupation numbers equal to 0, 1, and 2 for unoccuppied, singly occupied, and doubly occupied MOs, respectively.\n",
    "\n",
    "For the case of a multi-configurational wave function, we study the oxygen molecule as an example."
   ]
  },
  {
   "cell_type": "code",
   "execution_count": 3,
   "id": "a4f945ed-1986-4dee-8bfc-526058b8ae74",
   "metadata": {
    "scrolled": true,
    "tags": [
     "output_scroll",
     "remove-output"
    ]
   },
   "outputs": [],
   "source": [
    "import multipsi as mtp\n",
    "import numpy as np\n",
    "import veloxchem as vlx\n",
    "\n",
    "mol_str = \"\"\"2\n",
    "\n",
    "O   -0.6   0.0  0.0\n",
    "O    0.6   0.0  0.0\n",
    "\"\"\"\n",
    "molecule = vlx.Molecule.read_xyz_string(mol_str)\n",
    "basis = vlx.MolecularBasis.read(molecule, \"cc-pvdz\", ostream=None)\n",
    "molecule.set_multiplicity(3)\n",
    "\n",
    "rohf_drv = vlx.ScfRestrictedOpenDriver()\n",
    "rohf_drv.ostream.mute()\n",
    "rohf_results = rohf_drv.compute(molecule, basis)"
   ]
  },
  {
   "cell_type": "code",
   "execution_count": 4,
   "id": "09d62d1c-91a8-4f4c-82c1-de83b944cb87",
   "metadata": {
    "tags": [
     "remove-input"
    ]
   },
   "outputs": [
    {
     "data": {
      "application/3dmoljs_load.v0": "<div id=\"3dmolviewer_17079205159309018\"  style=\"position: relative; width: 400px; height: 300px;\">\n        <p id=\"3dmolwarning_17079205159309018\" style=\"background-color:#ffcccc;color:black\">You appear to be running in JupyterLab (or JavaScript failed to load for some other reason).  You need to install the 3dmol extension: <br>\n        <tt>jupyter labextension install jupyterlab_3dmol</tt></p>\n        </div>\n<script>\n\nvar loadScriptAsync = function(uri){\n  return new Promise((resolve, reject) => {\n    //this is to ignore the existence of requirejs amd\n    var savedexports, savedmodule;\n    if (typeof exports !== 'undefined') savedexports = exports;\n    else exports = {}\n    if (typeof module !== 'undefined') savedmodule = module;\n    else module = {}\n\n    var tag = document.createElement('script');\n    tag.src = uri;\n    tag.async = true;\n    tag.onload = () => {\n        exports = savedexports;\n        module = savedmodule;\n        resolve();\n    };\n  var firstScriptTag = document.getElementsByTagName('script')[0];\n  firstScriptTag.parentNode.insertBefore(tag, firstScriptTag);\n});\n};\n\nif(typeof $3Dmolpromise === 'undefined') {\n$3Dmolpromise = null;\n  $3Dmolpromise = loadScriptAsync('https://cdnjs.cloudflare.com/ajax/libs/3Dmol/2.0.4/3Dmol-min.js');\n}\n\nvar viewer_17079205159309018 = null;\nvar warn = document.getElementById(\"3dmolwarning_17079205159309018\");\nif(warn) {\n    warn.parentNode.removeChild(warn);\n}\n$3Dmolpromise.then(function() {\nviewer_17079205159309018 = $3Dmol.createViewer(document.getElementById(\"3dmolviewer_17079205159309018\"),{backgroundColor:\"white\"});\nviewer_17079205159309018.zoomTo();\n\tviewer_17079205159309018.addModel(\"2\\n\\nO             -0.600000000000         0.000000000000         0.000000000000\\nO              0.600000000000         0.000000000000         0.000000000000\\n\");\n\tviewer_17079205159309018.setViewStyle({\"style\": \"outline\", \"width\": 0.05});\n\tviewer_17079205159309018.setStyle({\"stick\": {}, \"sphere\": {\"scale\": 0.25}});\n\tviewer_17079205159309018.zoomTo();\nviewer_17079205159309018.render();\n});\n</script>",
      "text/html": [
       "<div id=\"3dmolviewer_17079205159309018\"  style=\"position: relative; width: 400px; height: 300px;\">\n",
       "        <p id=\"3dmolwarning_17079205159309018\" style=\"background-color:#ffcccc;color:black\">You appear to be running in JupyterLab (or JavaScript failed to load for some other reason).  You need to install the 3dmol extension: <br>\n",
       "        <tt>jupyter labextension install jupyterlab_3dmol</tt></p>\n",
       "        </div>\n",
       "<script>\n",
       "\n",
       "var loadScriptAsync = function(uri){\n",
       "  return new Promise((resolve, reject) => {\n",
       "    //this is to ignore the existence of requirejs amd\n",
       "    var savedexports, savedmodule;\n",
       "    if (typeof exports !== 'undefined') savedexports = exports;\n",
       "    else exports = {}\n",
       "    if (typeof module !== 'undefined') savedmodule = module;\n",
       "    else module = {}\n",
       "\n",
       "    var tag = document.createElement('script');\n",
       "    tag.src = uri;\n",
       "    tag.async = true;\n",
       "    tag.onload = () => {\n",
       "        exports = savedexports;\n",
       "        module = savedmodule;\n",
       "        resolve();\n",
       "    };\n",
       "  var firstScriptTag = document.getElementsByTagName('script')[0];\n",
       "  firstScriptTag.parentNode.insertBefore(tag, firstScriptTag);\n",
       "});\n",
       "};\n",
       "\n",
       "if(typeof $3Dmolpromise === 'undefined') {\n",
       "$3Dmolpromise = null;\n",
       "  $3Dmolpromise = loadScriptAsync('https://cdnjs.cloudflare.com/ajax/libs/3Dmol/2.0.4/3Dmol-min.js');\n",
       "}\n",
       "\n",
       "var viewer_17079205159309018 = null;\n",
       "var warn = document.getElementById(\"3dmolwarning_17079205159309018\");\n",
       "if(warn) {\n",
       "    warn.parentNode.removeChild(warn);\n",
       "}\n",
       "$3Dmolpromise.then(function() {\n",
       "viewer_17079205159309018 = $3Dmol.createViewer(document.getElementById(\"3dmolviewer_17079205159309018\"),{backgroundColor:\"white\"});\n",
       "viewer_17079205159309018.zoomTo();\n",
       "\tviewer_17079205159309018.addModel(\"2\\n\\nO             -0.600000000000         0.000000000000         0.000000000000\\nO              0.600000000000         0.000000000000         0.000000000000\\n\");\n",
       "\tviewer_17079205159309018.setViewStyle({\"style\": \"outline\", \"width\": 0.05});\n",
       "\tviewer_17079205159309018.setStyle({\"stick\": {}, \"sphere\": {\"scale\": 0.25}});\n",
       "\tviewer_17079205159309018.zoomTo();\n",
       "viewer_17079205159309018.render();\n",
       "});\n",
       "</script>"
      ]
     },
     "metadata": {},
     "output_type": "display_data"
    }
   ],
   "source": [
    "molecule.show()"
   ]
  },
  {
   "cell_type": "code",
   "execution_count": 5,
   "id": "9e070f79-dc95-48ab-9e1b-cf5f98665556",
   "metadata": {
    "tags": [
     "output_scroll"
    ]
   },
   "outputs": [
    {
     "name": "stdout",
     "output_type": "stream",
     "text": [
      " RHF energy:  -149.60946112\n"
     ]
    }
   ],
   "source": [
    "print(f\" RHF energy: {rohf_drv.get_scf_energy() : 14.8f}\")"
   ]
  },
  {
   "cell_type": "markdown",
   "id": "28834c56-1e6d-410b-bb14-0f457c7a937b",
   "metadata": {},
   "source": [
    "The MOs are occupied by nine $\\alpha$- and seven $\\beta$-spin electrons."
   ]
  },
  {
   "cell_type": "code",
   "execution_count": 6,
   "id": "84138c46-9af9-4438-bbd3-3cc7a36a9528",
   "metadata": {
    "scrolled": true,
    "tags": [
     "output_scroll"
    ]
   },
   "outputs": [
    {
     "name": "stdout",
     "output_type": "stream",
     "text": [
      "                                                                                                                          \n",
      "                                                 Spin Restricted Orbitals                                                 \n",
      "                                                 ------------------------                                                 \n",
      "                                                                                                                          \n",
      "               Molecular Orbital No.   4:                                                                                 \n",
      "               --------------------------                                                                                 \n",
      "               Occupation: 2.000 Energy:   -1.09511 a.u.                                                                  \n",
      "               (   1 O   2s  :     0.36) (   1 O   3s  :     0.45) (   2 O   2s  :    -0.36)                              \n",
      "               (   2 O   3s  :    -0.45)                                                                                  \n",
      "                                                                                                                          \n",
      "               Molecular Orbital No.   5:                                                                                 \n",
      "               --------------------------                                                                                 \n",
      "               Occupation: 2.000 Energy:   -0.73155 a.u.                                                                  \n",
      "               (   1 O   3s  :    -0.27) (   1 O   1p+1:     0.46) (   1 O   2p+1:     0.24)                              \n",
      "               (   2 O   3s  :    -0.27) (   2 O   1p+1:    -0.46) (   2 O   2p+1:    -0.24)                              \n",
      "                                                                                                                          \n",
      "               Molecular Orbital No.   6:                                                                                 \n",
      "               --------------------------                                                                                 \n",
      "               Occupation: 2.000 Energy:   -0.70486 a.u.                                                                  \n",
      "               (   1 O   1p-1:    -0.15) (   1 O   1p0 :    -0.42) (   1 O   2p0 :    -0.27)                              \n",
      "               (   2 O   1p-1:    -0.15) (   2 O   1p0 :    -0.42) (   2 O   2p0 :    -0.27)                              \n",
      "                                                                                                                          \n",
      "               Molecular Orbital No.   7:                                                                                 \n",
      "               --------------------------                                                                                 \n",
      "               Occupation: 2.000 Energy:   -0.70486 a.u.                                                                  \n",
      "               (   1 O   1p-1:    -0.42) (   1 O   1p0 :     0.15) (   1 O   2p-1:    -0.27)                              \n",
      "               (   2 O   1p-1:    -0.42) (   2 O   1p0 :     0.15) (   2 O   2p-1:    -0.27)                              \n",
      "                                                                                                                          \n",
      "               Molecular Orbital No.   8:                                                                                 \n",
      "               --------------------------                                                                                 \n",
      "               Occupation: 1.000 Energy:   -0.20397 a.u.                                                                  \n",
      "               (   1 O   1p-1:    -0.47) (   1 O   1p0 :     0.25) (   1 O   2p-1:    -0.35)                              \n",
      "               (   1 O   2p0 :     0.19) (   2 O   1p-1:     0.47) (   2 O   1p0 :    -0.25)                              \n",
      "               (   2 O   2p-1:     0.35) (   2 O   2p0 :    -0.19)                                                        \n",
      "                                                                                                                          \n",
      "               Molecular Orbital No.   9:                                                                                 \n",
      "               --------------------------                                                                                 \n",
      "               Occupation: 1.000 Energy:   -0.20397 a.u.                                                                  \n",
      "               (   1 O   1p-1:     0.25) (   1 O   1p0 :     0.47) (   1 O   2p-1:     0.19)                              \n",
      "               (   1 O   2p0 :     0.35) (   2 O   1p-1:    -0.25) (   2 O   1p0 :    -0.47)                              \n",
      "               (   2 O   2p-1:    -0.19) (   2 O   2p0 :    -0.35)                                                        \n",
      "                                                                                                                          \n",
      "               Molecular Orbital No.  10:                                                                                 \n",
      "               --------------------------                                                                                 \n",
      "               Occupation: 0.000 Energy:    0.47356 a.u.                                                                  \n",
      "               (   1 O   2s  :    -0.19) (   1 O   3s  :    -1.28) (   1 O   1p+1:    -0.40)                              \n",
      "               (   1 O   2p+1:    -1.23) (   2 O   2s  :     0.19) (   2 O   3s  :     1.28)                              \n",
      "               (   2 O   1p+1:    -0.40) (   2 O   2p+1:    -1.23)                                                        \n",
      "                                                                                                                          \n",
      "               Molecular Orbital No.  11:                                                                                 \n",
      "               --------------------------                                                                                 \n",
      "               Occupation: 0.000 Energy:    1.08237 a.u.                                                                  \n",
      "               (   1 O   3s  :    -0.99) (   1 O   1p+1:     0.71) (   1 O   2p+1:    -1.33)                              \n",
      "               (   2 O   3s  :     0.99) (   2 O   1p+1:     0.71) (   2 O   2p+1:    -1.33)                              \n",
      "                                                                                                                          \n",
      "               Molecular Orbital No.  12:                                                                                 \n",
      "               --------------------------                                                                                 \n",
      "               Occupation: 0.000 Energy:    1.10988 a.u.                                                                  \n",
      "               (   1 O   1p-1:    -0.33) (   1 O   1p0 :    -0.59) (   1 O   2p-1:     0.30)                              \n",
      "               (   1 O   2p0 :     0.54) (   2 O   1p-1:    -0.33) (   2 O   1p0 :    -0.59)                              \n",
      "               (   2 O   2p-1:     0.30) (   2 O   2p0 :     0.54)                                                        \n",
      "                                                                                                                          \n",
      "               Molecular Orbital No.  13:                                                                                 \n",
      "               --------------------------                                                                                 \n",
      "               Occupation: 0.000 Energy:    1.10988 a.u.                                                                  \n",
      "               (   1 O   1p-1:     0.59) (   1 O   1p0 :    -0.33) (   1 O   2p-1:    -0.54)                              \n",
      "               (   1 O   2p0 :     0.30) (   2 O   1p-1:     0.59) (   2 O   1p0 :    -0.33)                              \n",
      "               (   2 O   2p-1:    -0.54) (   2 O   2p0 :     0.30)                                                        \n",
      "                                                                                                                          \n"
     ]
    }
   ],
   "source": [
    "rohf_drv.molecular_orbitals.print_orbitals(molecule, basis)"
   ]
  },
  {
   "cell_type": "markdown",
   "id": "ab90c8ef-6739-453a-a1c0-8dc91f7b403b",
   "metadata": {},
   "source": [
    "**Main AO character of MOs**\n",
    "\n",
    "---\n",
    "Active orbitals (8 electrons)\n",
    "\n",
    "- $3\\sigma_u = p_z^1 + p_z^2$\n",
    "\n",
    "- $1\\pi_g = p_{x,y}^1 - p_{x,y}^2$\n",
    "\n",
    "- $1\\pi_u = p_{x,y}^1 + p_{x,y}^2$\n",
    "\n",
    "- $3\\sigma_g = p_z^1 - p_z^2$\n",
    "\n",
    "---\n",
    "Inactive orbitals (8 electrons)\n",
    "\n",
    "- $2\\sigma_u = 2s^1 - 2s^2$\n",
    "\n",
    "- $2\\sigma_g = 2s^1 + 2s^2$\n",
    "\n",
    "- $1\\sigma_u = 1s^1 - 1s^2$\n",
    "\n",
    "- $1\\sigma_g = 1s^1 + 1s^2$\n",
    "\n",
    "---"
   ]
  },
  {
   "cell_type": "code",
   "execution_count": 7,
   "id": "09cc922e-2a96-46b6-8fb8-191bef268019",
   "metadata": {
    "scrolled": true,
    "tags": [
     "remove-output",
     "output_scroll"
    ]
   },
   "outputs": [
    {
     "name": "stdout",
     "output_type": "stream",
     "text": [
      "                                                                                                                          \n",
      "                          Multi-Configurational Self-Consistent Field Driver\n",
      "                         ====================================================\n",
      "                                                                                                                          \n",
      "        ╭────────────────────────────────────╮\n",
      "        │          Driver settings           │\n",
      "        ╰────────────────────────────────────╯\n",
      "          State-specific calculation\n",
      "          Max. iterations         : 50\n",
      "          BFGS window             : 5\n",
      "          Convergence thresholds:\n",
      "            - Energy change       : 1e-08\n",
      "            - Gradient norm       : 0.0001\n",
      "                                                                                                                          \n",
      "          Integrals in memory\n",
      "                                                                                                                          \n",
      "\n",
      "          Active space definition:\n",
      "          ------------------------\n",
      "Number of inactive (occupied) orbitals: 4\n",
      "Number of active orbitals:              6\n",
      "Number of virtual orbitals:             18\n",
      "\n",
      "    This is a CASSCF wavefunction: CAS(8,6)\n",
      "\n",
      "          CI expansion:\n",
      "          -------------\n",
      "Number of determinants:      120\n",
      "\n",
      "\n",
      "                                                                                                                          \n",
      "                   MCSCF Iterations\n",
      "     ---------------------------------------------------------------------\n",
      "                                                                                                                          \n",
      "     Iter. | Average Energy | E. Change | Grad. Norm | CI Iter. |   Time\n",
      "     ---------------------------------------------------------------------\n",
      "        1     -149.670911029     0.0e+00      9.4e-02          1   0:00:00\n",
      "        2     -149.698155754    -2.7e-02      7.0e-02          1   0:00:00\n",
      "        3     -149.702771549    -4.6e-03      6.4e-02          1   0:00:00\n",
      "        4     -149.708302705    -5.5e-03      2.0e-02          1   0:00:00\n",
      "        5     -149.708359855    -5.7e-05      5.9e-03          1   0:00:00\n",
      "        6     -149.708366686    -6.8e-06      1.7e-03          1   0:00:00\n",
      "        7     -149.708367125    -4.4e-07      5.9e-04          1   0:00:00\n",
      "        8     -149.708367177    -5.2e-08      1.4e-04          1   0:00:00\n",
      "        9     -149.708367181    -4.1e-09      5.1e-05          1   0:00:00\n",
      "** Convergence reached in 9 iterations\n",
      "       10     -149.708367181    -3.9e-10      1.1e-05          1   0:00:00\n",
      "                                                                                                                          \n",
      "        Final results\n",
      "        -------------\n",
      "                                                                                                                          \n",
      "                                                                                                                          \n",
      "* State 1\n",
      "- Energy: -149.70836718142866\n",
      "- S^2   : 2.00  (multiplicity = 3.0 )\n",
      "- Natural orbitals\n",
      "1.96300 1.96300 1.96098 1.03638 1.03638 0.04027\n",
      "                                                                                                                          \n",
      "                                                 Spin Restricted Orbitals                                                 \n",
      "                                                 ------------------------                                                 \n",
      "                                                                                                                          \n",
      "               Molecular Orbital No.   3:                                                                                 \n",
      "               --------------------------                                                                                 \n",
      "               Occupation: 2.000 Energy:   -1.47279 a.u.                                                                  \n",
      "               (   1 O   2s  :    -0.34) (   1 O   3s  :    -0.36) (   2 O   2s  :    -0.34)                              \n",
      "               (   2 O   3s  :    -0.36)                                                                                  \n",
      "                                                                                                                          \n",
      "               Molecular Orbital No.   4:                                                                                 \n",
      "               --------------------------                                                                                 \n",
      "               Occupation: 2.000 Energy:   -1.08415 a.u.                                                                  \n",
      "               (   1 O   2s  :     0.36) (   1 O   3s  :     0.46) (   2 O   2s  :    -0.36)                              \n",
      "               (   2 O   3s  :    -0.46)                                                                                  \n",
      "                                                                                                                          \n",
      "               Molecular Orbital No.   5:                                                                                 \n",
      "               --------------------------                                                                                 \n",
      "               Occupation: 1.963 Energy:   -0.68821 a.u.                                                                  \n",
      "               (   1 O   1p-1:     0.24) (   1 O   1p0 :    -0.38) (   1 O   2p0 :    -0.24)                              \n",
      "               (   2 O   1p-1:     0.24) (   2 O   1p0 :    -0.38) (   2 O   2p0 :    -0.24)                              \n",
      "                                                                                                                          \n",
      "               Molecular Orbital No.   6:                                                                                 \n",
      "               --------------------------                                                                                 \n",
      "               Occupation: 1.963 Energy:   -0.68821 a.u.                                                                  \n",
      "               (   1 O   1p-1:     0.38) (   1 O   1p0 :     0.24) (   1 O   2p-1:     0.24)                              \n",
      "               (   2 O   1p-1:     0.38) (   2 O   1p0 :     0.24) (   2 O   2p-1:     0.24)                              \n",
      "                                                                                                                          \n",
      "               Molecular Orbital No.   7:                                                                                 \n",
      "               --------------------------                                                                                 \n",
      "               Occupation: 1.961 Energy:   -0.88323 a.u.                                                                  \n",
      "               (   1 O   1p+1:     0.49) (   1 O   2p+1:     0.23) (   2 O   1p+1:    -0.49)                              \n",
      "               (   2 O   2p+1:    -0.23)                                                                                  \n",
      "                                                                                                                          \n",
      "               Molecular Orbital No.   8:                                                                                 \n",
      "               --------------------------                                                                                 \n",
      "               Occupation: 1.036 Energy:   -0.20043 a.u.                                                                  \n",
      "               (   1 O   1p-1:     0.29) (   1 O   1p0 :     0.45) (   1 O   2p-1:     0.21)                              \n",
      "               (   1 O   2p0 :     0.33) (   2 O   1p-1:    -0.29) (   2 O   1p0 :    -0.45)                              \n",
      "               (   2 O   2p-1:    -0.21) (   2 O   2p0 :    -0.33)                                                        \n",
      "                                                                                                                          \n",
      "               Molecular Orbital No.   9:                                                                                 \n",
      "               --------------------------                                                                                 \n",
      "               Occupation: 1.036 Energy:   -0.20043 a.u.                                                                  \n",
      "               (   1 O   1p-1:     0.45) (   1 O   1p0 :    -0.29) (   1 O   2p-1:     0.33)                              \n",
      "               (   1 O   2p0 :    -0.21) (   2 O   1p-1:    -0.45) (   2 O   1p0 :     0.29)                              \n",
      "               (   2 O   2p-1:    -0.33) (   2 O   2p0 :     0.21)                                                        \n",
      "                                                                                                                          \n",
      "               Molecular Orbital No.  10:                                                                                 \n",
      "               --------------------------                                                                                 \n",
      "               Occupation: 0.040 Energy:    0.67653 a.u.                                                                  \n",
      "               (   1 O   2s  :    -0.24) (   1 O   3s  :    -0.39) (   1 O   1p+1:    -0.74)                              \n",
      "               (   1 O   2p+1:    -0.26) (   2 O   2s  :     0.24) (   2 O   3s  :     0.39)                              \n",
      "               (   2 O   1p+1:    -0.74) (   2 O   2p+1:    -0.26)                                                        \n",
      "                                                                                                                          \n",
      "               Molecular Orbital No.  11:                                                                                 \n",
      "               --------------------------                                                                                 \n",
      "               Occupation: 0.000 Energy:    0.91053 a.u.                                                                  \n",
      "               (   1 O   3s  :    -1.60) (   1 O   1p+1:     0.38) (   1 O   2p+1:    -1.81)                              \n",
      "               (   2 O   3s  :     1.60) (   2 O   1p+1:     0.38) (   2 O   2p+1:    -1.81)                              \n",
      "                                                                                                                          \n",
      "               Molecular Orbital No.  12:                                                                                 \n",
      "               --------------------------                                                                                 \n",
      "               Occupation: 0.000 Energy:    1.11712 a.u.                                                                  \n",
      "               (   1 O   1p0 :     0.66) (   1 O   2p0 :    -0.61) (   2 O   1p0 :     0.66)                              \n",
      "               (   2 O   2p0 :    -0.61)                                                                                  \n",
      "                                                                                                                          \n",
      "                                                                                                                          \n",
      "                                                Dipole moment for state 1                                                 \n",
      "                                               ---------------------------                                                \n",
      "                                                                                                                          \n",
      "                                   X   :         0.000000 a.u.         0.000000 Debye                                     \n",
      "                                   Y   :         0.000000 a.u.         0.000000 Debye                                     \n",
      "                                   Z   :        -0.000000 a.u.        -0.000000 Debye                                     \n",
      "                                 Total :         0.000000 a.u.         0.000000 Debye                                     \n",
      "                                                                                                                          \n",
      "                                                                                                                          \n",
      "Total MCSCF time: 00:00:00\n"
     ]
    }
   ],
   "source": [
    "casscf_drv = mtp.McscfDriver()\n",
    "orbital_space = mtp.OrbSpace(molecule, rohf_drv.mol_orbs)\n",
    "orbital_space.cas(8, 6)\n",
    "\n",
    "casscf_results = casscf_drv.compute(molecule, basis, orbital_space)"
   ]
  },
  {
   "cell_type": "code",
   "execution_count": 8,
   "id": "054fe918-c2a8-4828-9583-511c502bb693",
   "metadata": {},
   "outputs": [
    {
     "name": "stdout",
     "output_type": "stream",
     "text": [
      "CAS(8,6) energy: -149.70836718\n"
     ]
    }
   ],
   "source": [
    "print(f\"CAS(8,6) energy: {casscf_drv.get_energy() : 12.8f}\")"
   ]
  },
  {
   "cell_type": "markdown",
   "id": "c4a04daf-4a09-4ee9-a278-9a2aa6bde18c",
   "metadata": {},
   "source": [
    "The wave function is predominantly a sum of two determinants with $\\alpha$-spin occupation of the $\\pi_u$ and $\\pi_g$ molecular orbitals, respectively."
   ]
  },
  {
   "cell_type": "code",
   "execution_count": 9,
   "id": "5c692c7e-7382-4fc9-a1cc-622f5d846e47",
   "metadata": {},
   "outputs": [
    {
     "name": "stdout",
     "output_type": "stream",
     "text": [
      "Determinant     coef.    weight \n",
      "222aa0         -0.972    0.945 \n",
      "aa2220         -0.155    0.024 \n",
      "\n"
     ]
    }
   ],
   "source": [
    "print(casscf_drv.CIVecs[0])"
   ]
  },
  {
   "cell_type": "markdown",
   "id": "47620702-53a1-4b4a-b6c7-f5605c6f2e90",
   "metadata": {},
   "source": [
    "The occupation numbers are (i) equal to 2 for the four inactive orbitals, (ii) close to 2 for $3\\sigma_g$ and $1\\pi_u$, (iii) close to 1 for $1\\pi_g$, and (iv) close to 0 for $3\\sigma_u$."
   ]
  },
  {
   "cell_type": "code",
   "execution_count": 10,
   "id": "bfe4f99f-3383-4764-8fff-d8816eb14ac5",
   "metadata": {},
   "outputs": [
    {
     "data": {
      "text/plain": [
       "array([1.96299851, 1.96299851, 1.96098176, 1.03637598, 1.03637598,\n",
       "       0.04026925])"
      ]
     },
     "execution_count": 10,
     "metadata": {},
     "output_type": "execute_result"
    }
   ],
   "source": [
    "casscf_drv.get_natural_occupations()"
   ]
  },
  {
   "cell_type": "markdown",
   "id": "1a4f3145-c3eb-4bd7-bf26-42369346649b",
   "metadata": {},
   "source": [
    "## Unrestricted orbitals\n",
    "\n",
    "In unrestricted calculations, we have separate sets of MOs for the $\\alpha$- and $\\beta$-spin orbitals. However, one set can be expressed in terms of the other according to\n",
    "\n",
    "$$\n",
    "\\phi^\\beta_q(\\mathbf{r})\n",
    "=\n",
    "\\sum_p \\phi^\\alpha_p(\\mathbf{r}) S_{pq}^{\\alpha\\beta}\n",
    "$$\n",
    "\n",
    "where $S^{\\alpha\\beta}$ is the overlap between the two sets of orbitals that, in turn, can be expressed in terms of the overlap matrix in the AO basis\n",
    "\n",
    "$$\n",
    "S_{pq}^{\\alpha\\beta} =\n",
    "\\sum_{\\delta,\\gamma}\n",
    "\\big[c_{\\delta p}^\\alpha\\big]^\\ast c^\\beta_{\\gamma q}\n",
    "S_{\\delta \\gamma}\n",
    "$$\n",
    "\n",
    "The one-particle density becomes\n",
    "\n",
    "\\begin{align*}\n",
    "n(\\mathbf{r}) & =\n",
    "\\sum_{p,q} \n",
    "\\big[\n",
    "\\phi^\\alpha_p(\\mathbf{r})\n",
    "\\big]^\\ast\n",
    "D_{pq}\n",
    "\\phi_q^\\alpha(\\mathbf{r})\n",
    "\\\\\n",
    "D_{pq} & = D_{pq}^\\alpha +\n",
    "\\sum_{r,s} \n",
    "\\big[\n",
    "S^{\\alpha\\beta}_{pr}\n",
    "\\big]^\\ast\n",
    "D_{rs}^\\beta\n",
    "S^{\\alpha\\beta}_{qs}\n",
    "\\end{align*}\n",
    "\n",
    "and the natural orbitals and occupation numbers are obtained from a diagonalization of this total density matrix.\n",
    "\n",
    "Let us consider the unrestricted Hartree–Fock state of the oxygen molecule."
   ]
  },
  {
   "cell_type": "code",
   "execution_count": 12,
   "id": "6e9ce935-92a7-422d-8ee3-37d4be3ae162",
   "metadata": {
    "scrolled": true,
    "tags": [
     "remove-output",
     "output_scroll"
    ]
   },
   "outputs": [],
   "source": [
    "uhf_drv = vlx.ScfUnrestrictedDriver()\n",
    "uhf_drv.ostream.mute()\n",
    "uhf_results = uhf_drv.compute(molecule, basis)"
   ]
  },
  {
   "cell_type": "code",
   "execution_count": 13,
   "id": "98cac4f2-61a3-4c31-9a97-9d644f7520bc",
   "metadata": {},
   "outputs": [
    {
     "name": "stdout",
     "output_type": "stream",
     "text": [
      "UDFT energy:  -149.62899231\n"
     ]
    }
   ],
   "source": [
    "print(f\"UDFT energy: {uhf_drv.get_scf_energy() : 14.8f}\")"
   ]
  },
  {
   "cell_type": "code",
   "execution_count": 14,
   "id": "bba31f65-ce75-46b2-8196-62d281454e48",
   "metadata": {
    "tags": []
   },
   "outputs": [],
   "source": [
    "norb = basis.get_dimensions_of_basis()\n",
    "n_alpha_electrons = 9\n",
    "n_beta_electrons = 7\n",
    "\n",
    "S = uhf_results[\"S\"]\n",
    "C_alpha = uhf_results[\"C_alpha\"]\n",
    "C_beta = uhf_results[\"C_beta\"]\n",
    "\n",
    "D_alpha = np.zeros((norb, norb))\n",
    "for i in range(n_alpha_electrons):\n",
    "    D_alpha[i, i] = 1\n",
    "\n",
    "D_beta = np.zeros((norb, norb))\n",
    "for i in range(n_beta_electrons):\n",
    "    D_beta[i, i] = 1"
   ]
  },
  {
   "cell_type": "code",
   "execution_count": 15,
   "id": "410ae670-2864-4849-b4a2-ead9c8dba020",
   "metadata": {},
   "outputs": [],
   "source": [
    "S_ab = np.einsum(\"ap, bq, ab -> pq\", C_alpha, C_beta, S)\n",
    "D = D_alpha + np.einsum(\"pr, qs, rs -> pq\", S_ab, S_ab, D_beta)\n",
    "\n",
    "occ_numbers, U = np.linalg.eigh(D)"
   ]
  },
  {
   "cell_type": "code",
   "execution_count": 16,
   "id": "430cc612-3294-439c-9401-af57ada43666",
   "metadata": {},
   "outputs": [
    {
     "name": "stdout",
     "output_type": "stream",
     "text": [
      "Orbital  Occ. number\n",
      " 1        2.000\n",
      " 2        2.000\n",
      " 3        2.000\n",
      " 4        1.999\n",
      " 5        1.997\n",
      " 6        1.994\n",
      " 7        1.994\n",
      " 8        1.000\n",
      " 9        1.000\n",
      "10        0.006\n",
      "11        0.006\n",
      "12        0.003\n"
     ]
    }
   ],
   "source": [
    "print(\"Orbital  Occ. number\")\n",
    "for orb, occ in enumerate(list(occ_numbers)[::-1]):\n",
    "    if occ > 1e-3:\n",
    "        print(f\"{orb + 1 : >2} {occ : 12.3f}\")"
   ]
  },
  {
   "cell_type": "markdown",
   "id": "aa9ab284-bc2b-44cf-ae08-0924bf226c4e",
   "metadata": {},
   "source": [
    "We can also get the natural orbitals and occupation numbers from the `natural_orbitals` method in VeloxChem."
   ]
  },
  {
   "cell_type": "code",
   "execution_count": 14,
   "id": "d73796af-3670-4a2b-8a36-143d0f473b20",
   "metadata": {
    "scrolled": true,
    "tags": [
     "output_scroll"
    ]
   },
   "outputs": [
    {
     "name": "stdout",
     "output_type": "stream",
     "text": [
      "                                                                                                                          \n",
      "                                                 Spin Restricted Orbitals                                                 \n",
      "                                                 ------------------------                                                 \n",
      "                                                                                                                          \n",
      "               Molecular Orbital No.   4:                                                                                 \n",
      "               --------------------------                                                                                 \n",
      "               Occupation: 1.999 Energy:   -1.34641 a.u.                                                                  \n",
      "               (   1 O   2s  :     0.33) (   1 O   3s  :     0.37) (   1 O   1p0 :    -0.16)                              \n",
      "               (   2 O   2s  :     0.33) (   2 O   3s  :     0.37) (   2 O   1p0 :     0.16)                              \n",
      "                                                                                                                          \n",
      "               Molecular Orbital No.   5:                                                                                 \n",
      "               --------------------------                                                                                 \n",
      "               Occupation: 1.997 Energy:   -1.09919 a.u.                                                                  \n",
      "               (   1 O   2s  :     0.36) (   1 O   3s  :     0.45) (   2 O   2s  :    -0.36)                              \n",
      "               (   2 O   3s  :    -0.45)                                                                                  \n",
      "                                                                                                                          \n",
      "               Molecular Orbital No.   6:                                                                                 \n",
      "               --------------------------                                                                                 \n",
      "               Occupation: 1.994 Energy:   -0.70203 a.u.                                                                  \n",
      "               (   1 O   1p-1:     0.43) (   1 O   2p-1:     0.28) (   2 O   1p-1:     0.43)                              \n",
      "               (   2 O   2p-1:     0.28)                                                                                  \n",
      "                                                                                                                          \n",
      "               Molecular Orbital No.   7:                                                                                 \n",
      "               --------------------------                                                                                 \n",
      "               Occupation: 1.994 Energy:   -0.70203 a.u.                                                                  \n",
      "               (   1 O   1p+1:     0.43) (   1 O   2p+1:     0.28) (   2 O   1p+1:     0.43)                              \n",
      "               (   2 O   2p+1:     0.28)                                                                                  \n",
      "                                                                                                                          \n",
      "               Molecular Orbital No.   8:                                                                                 \n",
      "               --------------------------                                                                                 \n",
      "               Occupation: 1.000 Energy:   -0.20095 a.u.                                                                  \n",
      "               (   1 O   1p+1:    -0.43) (   1 O   1p-1:    -0.33) (   1 O   2p+1:    -0.31)                              \n",
      "               (   1 O   2p-1:    -0.23) (   2 O   1p+1:     0.43) (   2 O   1p-1:     0.33)                              \n",
      "               (   2 O   2p+1:     0.31) (   2 O   2p-1:     0.23)                                                        \n",
      "                                                                                                                          \n",
      "               Molecular Orbital No.   9:                                                                                 \n",
      "               --------------------------                                                                                 \n",
      "               Occupation: 1.000 Energy:   -0.20095 a.u.                                                                  \n",
      "               (   1 O   1p+1:    -0.33) (   1 O   1p-1:     0.43) (   1 O   2p+1:    -0.23)                              \n",
      "               (   1 O   2p-1:     0.31) (   2 O   1p+1:     0.33) (   2 O   1p-1:    -0.43)                              \n",
      "               (   2 O   2p+1:     0.23) (   2 O   2p-1:    -0.31)                                                        \n",
      "                                                                                                                          \n",
      "               Molecular Orbital No.  10:                                                                                 \n",
      "               --------------------------                                                                                 \n",
      "               Occupation: 0.006 Energy:    1.21925 a.u.                                                                  \n",
      "               (   1 O   1p-1:    -0.66) (   1 O   2p-1:     0.58) (   2 O   1p-1:    -0.66)                              \n",
      "               (   2 O   2p-1:     0.58)                                                                                  \n",
      "                                                                                                                          \n",
      "               Molecular Orbital No.  11:                                                                                 \n",
      "               --------------------------                                                                                 \n",
      "               Occupation: 0.006 Energy:    1.21925 a.u.                                                                  \n",
      "               (   1 O   1p+1:     0.66) (   1 O   2p+1:    -0.58) (   2 O   1p+1:     0.66)                              \n",
      "               (   2 O   2p+1:    -0.58)                                                                                  \n",
      "                                                                                                                          \n",
      "               Molecular Orbital No.  12:                                                                                 \n",
      "               --------------------------                                                                                 \n",
      "               Occupation: 0.003 Energy:    0.65627 a.u.                                                                  \n",
      "               (   1 O   2s  :     0.41) (   1 O   3s  :     0.41) (   1 O   1p0 :     0.32)                              \n",
      "               (   1 O   2p0 :     0.74) (   1 O   1d0 :    -0.23) (   2 O   2s  :    -0.41)                              \n",
      "               (   2 O   3s  :    -0.41) (   2 O   1p0 :     0.32) (   2 O   2p0 :     0.74)                              \n",
      "               (   2 O   1d0 :     0.23)                                                                                  \n",
      "                                                                                                                          \n",
      "               Molecular Orbital No.  13:                                                                                 \n",
      "               --------------------------                                                                                 \n",
      "               Occupation: 0.001 Energy:    2.07548 a.u.                                                                  \n",
      "               (   1 O   1s  :    -0.38) (   1 O   2s  :    -0.94) (   1 O   3s  :     0.80)                              \n",
      "               (   1 O   2p0 :    -0.18) (   1 O   1d0 :     0.40) (   2 O   1s  :    -0.38)                              \n",
      "               (   2 O   2s  :    -0.94) (   2 O   3s  :     0.80) (   2 O   2p0 :     0.18)                              \n",
      "               (   2 O   1d0 :     0.40)                                                                                  \n",
      "                                                                                                                          \n"
     ]
    }
   ],
   "source": [
    "natural_orbs = uhf_drv.natural_orbitals(uhf_results)\n",
    "natural_orbs.print_orbitals(molecule, basis)"
   ]
  },
  {
   "cell_type": "code",
   "execution_count": null,
   "id": "65ab3550",
   "metadata": {},
   "outputs": [],
   "source": []
  }
 ],
 "metadata": {
  "kernelspec": {
   "display_name": "Python 3 (ipykernel)",
   "language": "python",
   "name": "python3"
  },
  "language_info": {
   "codemirror_mode": {
    "name": "ipython",
    "version": 3
   },
   "file_extension": ".py",
   "mimetype": "text/x-python",
   "name": "python",
   "nbconvert_exporter": "python",
   "pygments_lexer": "ipython3",
   "version": "3.11.7"
  }
 },
 "nbformat": 4,
 "nbformat_minor": 5
}
