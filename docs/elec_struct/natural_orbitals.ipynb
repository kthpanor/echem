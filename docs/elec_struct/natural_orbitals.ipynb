{
 "cells": [
  {
   "cell_type": "markdown",
   "id": "19e6df77-29fd-4447-ae7a-3060210fbb10",
   "metadata": {
    "tags": []
   },
   "source": [
    "# Natural orbitals\n",
    "\n",
    "The [one-particle density](https://kthpanor.github.io/echem/docs/elec_struct/reduced_density.html#one-particle-density) and the associated spin-orbital density matrix, $D^\\mathrm{SO}$, are related as follows\n",
    "\n",
    "$$\n",
    "n(\\mathbf{r}) \\equiv\n",
    "\\sum_{p,q} \\psi^\\dagger_p(\\mathbf{r}) D_{pq}^\\mathrm{SO} \\psi_q(\\mathbf{r})\n",
    "$$\n",
    "\n",
    "A nonzero contribution to the density requires the spin of both orbitals to be identical and the summation can therefore be separated by introducing the $\\alpha$- and $\\beta$-spin densities and instead run over molecular orbitals\n",
    "\n",
    "\\begin{align*}\n",
    "n(\\mathbf{r}) & =\n",
    "\\sum_{p,q} \n",
    "\\Big(\n",
    "\\big[\n",
    "\\phi^\\alpha_p(\\mathbf{r})\n",
    "\\big]^\\ast\n",
    "D_{pq}^\\alpha\n",
    "\\phi_q^\\alpha(\\mathbf{r})\n",
    "+\n",
    "\\big[\n",
    "\\phi^\\beta_p(\\mathbf{r})\n",
    "\\big]^\\ast\n",
    "D_{pq}^\\beta\n",
    "\\phi_q^\\beta(\\mathbf{r})\n",
    "\\Big)\n",
    "\\end{align*}\n",
    "\n",
    "Natural orbitals is a single set of spatial orbitals in which the one-particle density is expanded\n",
    "\n",
    "$$\n",
    "n(\\mathbf{r}) =\n",
    "\\sum_{p}\n",
    "\\big[\n",
    "\\phi_p^\\mathrm{NO}(\\mathbf{r})\n",
    "\\big]^\\ast\n",
    "D_{pp}^\\mathrm{NO}\n",
    "\\phi_p^\\mathrm{NO}(\\mathbf{r})\n",
    "$$\n",
    "\n",
    "and the elements of the diagonal density matrix, $D_{pp}^\\mathrm{NO}$, in this basis are referred to as occupation numbers."
   ]
  },
  {
   "cell_type": "markdown",
   "id": "dd5cdb1b-4c8d-448d-b5e9-bec66edeeee6",
   "metadata": {},
   "source": [
    "## Restricted orbitals\n",
    "\n",
    "In restricted calculations, we have a common set of MOs for the $\\alpha$- and $\\beta$-spin orbitals and can write\n",
    "\n",
    "\\begin{align*}\n",
    "n(\\mathbf{r}) & =\n",
    "\\sum_{p,q} \n",
    "\\phi_p^\\ast(\\mathbf{r})\n",
    "D_{pq}\n",
    "\\phi_q(\\mathbf{r})\n",
    "\\\\\n",
    "D_{pq} & =\n",
    "D_{pq}^\\alpha + D_{pq}^\\beta\n",
    "\\end{align*}\n",
    "\n",
    "The density matrix is Hermitian and can be diagonalized by a unitary transformation. We get\n",
    "\n",
    "\\begin{align*}\n",
    "\\mathbf{D}^\\mathrm{NO} & = \n",
    "\\mathbf{U}^\\dagger\n",
    "\\mathbf{D}\n",
    "\\mathbf{U} \\\\\n",
    "\\phi_p^\\mathrm{NO}(\\mathbf{r}) & =\n",
    "\\sum_q\n",
    "\\phi_q(\\mathbf{r})\n",
    "U_{qp}\n",
    "\\end{align*}\n",
    "\n",
    "In restricted closed (RHF) and open-shell Hartree–Fock (ROHF), the natural orbitals equal the HF orbitals and the occupation numbers equal to 0, 1, and 2 for unoccuppied, singly occupied, and doubly occupied MOs, respectively.\n",
    "\n",
    "For the case of a multi-configurational wave function, we study the oxygen molecule as an example."
   ]
  },
  {
   "cell_type": "code",
   "execution_count": null,
   "id": "a4f945ed-1986-4dee-8bfc-526058b8ae74",
   "metadata": {
    "scrolled": true,
    "tags": [
     "output_scroll",
     "remove-output"
    ]
   },
   "outputs": [],
   "source": [
    "import multipsi as mtp\n",
    "import numpy as np\n",
    "import veloxchem as vlx\n",
    "\n",
    "mol_str = \"\"\"2\n",
    "\n",
    "O   -0.6   0.0  0.0\n",
    "O    0.6   0.0  0.0\n",
    "\"\"\"\n",
    "molecule = vlx.Molecule.read_xyz_string(mol_str)\n",
    "basis = vlx.MolecularBasis.read(molecule, \"cc-pvdz\", ostream=None)\n",
    "molecule.set_multiplicity(3)\n",
    "\n",
    "rohf_drv = vlx.ScfRestrictedOpenDriver()\n",
    "rohf_drv.ostream.mute()\n",
    "rohf_results = rohf_drv.compute(molecule, basis)"
   ]
  },
  {
   "cell_type": "code",
   "execution_count": null,
   "id": "09d62d1c-91a8-4f4c-82c1-de83b944cb87",
   "metadata": {
    "tags": [
     "remove-input"
    ]
   },
   "outputs": [],
   "source": [
    "molecule.show()"
   ]
  },
  {
   "cell_type": "code",
   "execution_count": null,
   "id": "9e070f79-dc95-48ab-9e1b-cf5f98665556",
   "metadata": {
    "tags": [
     "output_scroll"
    ]
   },
   "outputs": [],
   "source": [
    "print(f\" RHF energy: {rohf_drv.get_scf_energy() : 14.8f}\")"
   ]
  },
  {
   "cell_type": "markdown",
   "id": "28834c56-1e6d-410b-bb14-0f457c7a937b",
   "metadata": {},
   "source": [
    "The MOs are occupied by nine $\\alpha$- and seven $\\beta$-spin electrons."
   ]
  },
  {
   "cell_type": "code",
   "execution_count": null,
   "id": "84138c46-9af9-4438-bbd3-3cc7a36a9528",
   "metadata": {
    "scrolled": true,
    "tags": [
     "output_scroll"
    ]
   },
   "outputs": [],
   "source": [
    "rohf_drv.molecular_orbitals.print_orbitals(molecule, basis)"
   ]
  },
  {
   "cell_type": "markdown",
   "id": "ab90c8ef-6739-453a-a1c0-8dc91f7b403b",
   "metadata": {},
   "source": [
    "**Main AO character of MOs**\n",
    "\n",
    "---\n",
    "Active orbitals (8 electrons)\n",
    "\n",
    "- $3\\sigma_u = p_z^1 + p_z^2$\n",
    "\n",
    "- $1\\pi_g = p_{x,y}^1 - p_{x,y}^2$\n",
    "\n",
    "- $1\\pi_u = p_{x,y}^1 + p_{x,y}^2$\n",
    "\n",
    "- $3\\sigma_g = p_z^1 - p_z^2$\n",
    "\n",
    "---\n",
    "Inactive orbitals (8 electrons)\n",
    "\n",
    "- $2\\sigma_u = 2s^1 - 2s^2$\n",
    "\n",
    "- $2\\sigma_g = 2s^1 + 2s^2$\n",
    "\n",
    "- $1\\sigma_u = 1s^1 - 1s^2$\n",
    "\n",
    "- $1\\sigma_g = 1s^1 + 1s^2$\n",
    "\n",
    "---"
   ]
  },
  {
   "cell_type": "code",
   "execution_count": null,
   "id": "09cc922e-2a96-46b6-8fb8-191bef268019",
   "metadata": {
    "scrolled": true,
    "tags": [
     "remove-output",
     "output_scroll"
    ]
   },
   "outputs": [],
   "source": [
    "casscf_drv = mtp.McscfDriver()\n",
    "orbital_space = mtp.OrbSpace(molecule, rohf_drv.mol_orbs)\n",
    "orbital_space.cas(8, 6)\n",
    "\n",
    "casscf_results = casscf_drv.compute(molecule, basis, orbital_space)"
   ]
  },
  {
   "cell_type": "code",
   "execution_count": null,
   "id": "054fe918-c2a8-4828-9583-511c502bb693",
   "metadata": {},
   "outputs": [],
   "source": [
    "print(f\"CAS(8,6) energy: {casscf_results[\"energies\"][0] : 12.8f}\")"
   ]
  },
  {
   "cell_type": "markdown",
   "id": "c4a04daf-4a09-4ee9-a278-9a2aa6bde18c",
   "metadata": {},
   "source": [
    "The wave function is predominantly a sum of two determinants with $\\alpha$-spin occupation of the $\\pi_u$ and $\\pi_g$ molecular orbitals, respectively."
   ]
  },
  {
   "cell_type": "code",
   "execution_count": null,
   "id": "5c692c7e-7382-4fc9-a1cc-622f5d846e47",
   "metadata": {},
   "outputs": [],
   "source": [
    "print(casscf_results[\"ci_vectors\"])"
   ]
  },
  {
   "cell_type": "markdown",
   "id": "47620702-53a1-4b4a-b6c7-f5605c6f2e90",
   "metadata": {},
   "source": [
    "The occupation numbers are (i) equal to 2 for the four inactive orbitals, (ii) close to 2 for $3\\sigma_g$ and $1\\pi_u$, (iii) close to 1 for $1\\pi_g$, and (iv) close to 0 for $3\\sigma_u$."
   ]
  },
  {
   "cell_type": "code",
   "execution_count": null,
   "id": "bfe4f99f-3383-4764-8fff-d8816eb14ac5",
   "metadata": {},
   "outputs": [],
   "source": [
    "print(casscf_results[\"natural_occupations\"][0])"
   ]
  },
  {
   "cell_type": "markdown",
   "id": "1a4f3145-c3eb-4bd7-bf26-42369346649b",
   "metadata": {},
   "source": [
    "## Unrestricted orbitals\n",
    "\n",
    "In unrestricted calculations, we have separate sets of MOs for the $\\alpha$- and $\\beta$-spin orbitals. However, one set can be expressed in terms of the other according to\n",
    "\n",
    "$$\n",
    "\\phi^\\beta_q(\\mathbf{r})\n",
    "=\n",
    "\\sum_p \\phi^\\alpha_p(\\mathbf{r}) S_{pq}^{\\alpha\\beta}\n",
    "$$\n",
    "\n",
    "where $S^{\\alpha\\beta}$ is the overlap between the two sets of orbitals that, in turn, can be expressed in terms of the overlap matrix in the AO basis\n",
    "\n",
    "$$\n",
    "S_{pq}^{\\alpha\\beta} =\n",
    "\\sum_{\\delta,\\gamma}\n",
    "\\big[c_{\\delta p}^\\alpha\\big]^\\ast c^\\beta_{\\gamma q}\n",
    "S_{\\delta \\gamma}\n",
    "$$\n",
    "\n",
    "The one-particle density becomes\n",
    "\n",
    "\\begin{align*}\n",
    "n(\\mathbf{r}) & =\n",
    "\\sum_{p,q} \n",
    "\\big[\n",
    "\\phi^\\alpha_p(\\mathbf{r})\n",
    "\\big]^\\ast\n",
    "D_{pq}\n",
    "\\phi_q^\\alpha(\\mathbf{r})\n",
    "\\\\\n",
    "D_{pq} & = D_{pq}^\\alpha +\n",
    "\\sum_{r,s} \n",
    "\\big[\n",
    "S^{\\alpha\\beta}_{pr}\n",
    "\\big]^\\ast\n",
    "D_{rs}^\\beta\n",
    "S^{\\alpha\\beta}_{qs}\n",
    "\\end{align*}\n",
    "\n",
    "and the natural orbitals and occupation numbers are obtained from a diagonalization of this total density matrix.\n",
    "\n",
    "Let us consider the unrestricted Hartree–Fock state of the oxygen molecule."
   ]
  },
  {
   "cell_type": "code",
   "execution_count": null,
   "id": "6e9ce935-92a7-422d-8ee3-37d4be3ae162",
   "metadata": {
    "scrolled": true,
    "tags": [
     "remove-output",
     "output_scroll"
    ]
   },
   "outputs": [],
   "source": [
    "uhf_drv = vlx.ScfUnrestrictedDriver()\n",
    "uhf_drv.ostream.mute()\n",
    "uhf_results = uhf_drv.compute(molecule, basis)"
   ]
  },
  {
   "cell_type": "code",
   "execution_count": null,
   "id": "98cac4f2-61a3-4c31-9a97-9d644f7520bc",
   "metadata": {},
   "outputs": [],
   "source": [
    "print(f\"UDFT energy: {uhf_drv.get_scf_energy() : 14.8f}\")"
   ]
  },
  {
   "cell_type": "code",
   "execution_count": null,
   "id": "bba31f65-ce75-46b2-8196-62d281454e48",
   "metadata": {
    "tags": []
   },
   "outputs": [],
   "source": [
    "norb = basis.get_dimensions_of_basis()\n",
    "n_alpha_electrons = 9\n",
    "n_beta_electrons = 7\n",
    "\n",
    "S = uhf_results[\"S\"]\n",
    "C_alpha = uhf_results[\"C_alpha\"]\n",
    "C_beta = uhf_results[\"C_beta\"]\n",
    "\n",
    "D_alpha = np.zeros((norb, norb))\n",
    "for i in range(n_alpha_electrons):\n",
    "    D_alpha[i, i] = 1\n",
    "\n",
    "D_beta = np.zeros((norb, norb))\n",
    "for i in range(n_beta_electrons):\n",
    "    D_beta[i, i] = 1"
   ]
  },
  {
   "cell_type": "code",
   "execution_count": null,
   "id": "410ae670-2864-4849-b4a2-ead9c8dba020",
   "metadata": {},
   "outputs": [],
   "source": [
    "S_ab = np.einsum(\"ap, bq, ab -> pq\", C_alpha, C_beta, S)\n",
    "D = D_alpha + np.einsum(\"pr, qs, rs -> pq\", S_ab, S_ab, D_beta)\n",
    "\n",
    "occ_numbers, U = np.linalg.eigh(D)"
   ]
  },
  {
   "cell_type": "code",
   "execution_count": null,
   "id": "430cc612-3294-439c-9401-af57ada43666",
   "metadata": {},
   "outputs": [],
   "source": [
    "print(\"Orbital  Occ. number\")\n",
    "for orb, occ in enumerate(list(occ_numbers)[::-1]):\n",
    "    if occ > 1e-3:\n",
    "        print(f\"{orb + 1 : >2} {occ : 12.3f}\")"
   ]
  },
  {
   "cell_type": "markdown",
   "id": "aa9ab284-bc2b-44cf-ae08-0924bf226c4e",
   "metadata": {},
   "source": [
    "We can also get the natural orbitals and occupation numbers from the `natural_orbitals` method in VeloxChem."
   ]
  },
  {
   "cell_type": "code",
   "execution_count": null,
   "id": "d73796af-3670-4a2b-8a36-143d0f473b20",
   "metadata": {
    "scrolled": true,
    "tags": [
     "output_scroll"
    ]
   },
   "outputs": [],
   "source": [
    "natural_orbs = uhf_drv.natural_orbitals(uhf_results)\n",
    "natural_orbs.print_orbitals(molecule, basis)"
   ]
  },
  {
   "cell_type": "code",
   "execution_count": null,
   "id": "65ab3550",
   "metadata": {},
   "outputs": [],
   "source": []
  }
 ],
 "metadata": {
  "kernelspec": {
   "display_name": "Python 3 (ipykernel)",
   "language": "python",
   "name": "python3"
  },
  "language_info": {
   "codemirror_mode": {
    "name": "ipython",
    "version": 3
   },
   "file_extension": ".py",
   "mimetype": "text/x-python",
   "name": "python",
   "nbconvert_exporter": "python",
   "pygments_lexer": "ipython3",
   "version": "3.12.8"
  }
 },
 "nbformat": 4,
 "nbformat_minor": 5
}
