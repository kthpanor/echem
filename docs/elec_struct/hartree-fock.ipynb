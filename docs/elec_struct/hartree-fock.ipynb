{
 "cells": [
  {
   "cell_type": "markdown",
   "id": "89699d9b-91b7-4f94-9531-752e5e519db3",
   "metadata": {},
   "source": [
    "# Hartree--Fock\n",
    "\n",
    "With the state of the system being described by a single Slater determinant, the Hartree--Fock (HF) wave function is given as that which minimizes the electronic energy in a variational sense with respect to variations in the spin orbitals. It represents a cornerstone in quantum chemistry and provides total electronic energies that are within 1% of the exact results and a wide range of molecular properties that are within 5–10% accuracy. Moreover, the Hartree--Fock method serves as starting points for the formulation of many other, more accurate, wave function methods as well as the [Kohn–Sham](kohn-sham) formulation of density functional theory.\n",
    "\n",
    "In this section, we will discuss:\n",
    "- The [theory](hf_theory) underlying the Hartree--Fock method, as well as many other methods in quantum chemistry\n",
    "- The implementation of a [self-consistent field](hf_scf) procedure\n",
    "- Examples on how to [diagonalize the Fock matrix](fock_diagonalize), and removing linear dependencies in the basis set\n",
    "- An [example](hf_example) of how to use the HF implementation in VeloxChem, as well as visualizing molecular orbitals"
   ]
  }
 ],
 "metadata": {
  "celltoolbar": "Tags",
  "kernelspec": {
   "display_name": "Python 3 (ipykernel)",
   "language": "python",
   "name": "python3"
  },
  "language_info": {
   "codemirror_mode": {
    "name": "ipython",
    "version": 3
   },
   "file_extension": ".py",
   "mimetype": "text/x-python",
   "name": "python",
   "nbconvert_exporter": "python",
   "pygments_lexer": "ipython3",
   "version": "3.11.7"
  }
 },
 "nbformat": 4,
 "nbformat_minor": 5
}
