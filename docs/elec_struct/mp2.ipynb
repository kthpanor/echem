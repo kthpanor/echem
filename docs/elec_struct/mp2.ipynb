{
 "cells": [
  {
   "cell_type": "markdown",
   "id": "c90fe308-2fe2-4109-9993-0279960de994",
   "metadata": {
    "editable": true,
    "slideshow": {
     "slide_type": ""
    },
    "tags": []
   },
   "source": [
    "(sec:mp2)=\n",
    "# Møller–Plesset"
   ]
  },
  {
   "cell_type": "markdown",
   "id": "6a3e83b7-befe-4b37-9849-6b22fb5aeec0",
   "metadata": {
    "editable": true,
    "slideshow": {
     "slide_type": ""
    },
    "tags": []
   },
   "source": [
    "## Møller–Plesset partitioning\n",
    "\n",
    "Using Rayleigh–Schrödinger perturbation theory ([RSPT](pt)), the Hamiltonian can be partitioned according to the Møller–Plesset (MP) scheme {cite}`Szabo2012,Helgaker2014,mbpt2009`\n",
    "\n",
    "\\begin{equation*}\n",
    "\\hat{H} = \\hat{F} + \\hat{\\Phi}\n",
    "\\end{equation*}\n",
    "\n",
    "where the zeroth-order Hamiltonian, $\\hat{F}$, is the Fock operator and the perturbation, $\\hat{\\Phi}$, is known as the fluctuation potential.\n",
    "\n",
    "The exact solutions to the zeroth-order Hamiltonian are found from the time-independent Schrödinger equation\n",
    "\n",
    "\\begin{align*}\n",
    "\\hat{F} | \\Phi_n \\rangle  &= {\\cal E}_n | \\Phi_n \\rangle \n",
    "\\end{align*}\n",
    "\n",
    "The exact state solutions to this equation are given by the Hartree–Fock state and its excited determinants\n",
    "\n",
    "\\begin{align*}\n",
    "| \\Phi_0 \\rangle & = | \\Psi_\\mathrm{HF} \\rangle \\\\\n",
    "| \\Phi_n \\rangle & = | \\Psi_{ij\\ldots}^{ab\\ldots} \\rangle; \\quad n > 0\n",
    "\\end{align*}\n",
    "\n",
    "and, in terms of orbital energies, the associated exact energies are equal to\n",
    "\n",
    "\\begin{align*}\n",
    "{\\cal E}_0 & = \\sum_{i}^\\mathrm{occ} \\varepsilon_{i} \\\\ \n",
    "{\\cal E}^{ab\\cdots}_{ij\\cdots} &= \\varepsilon_{a} + \\varepsilon_{b} + \\ldots - \\varepsilon_{i} - \\varepsilon_{j} - \\ldots \\\\\n",
    "\\end{align*}"
   ]
  },
  {
   "cell_type": "markdown",
   "id": "fa4e5d7e-ef7c-449d-9405-dcdeb28d45eb",
   "metadata": {
    "editable": true,
    "slideshow": {
     "slide_type": ""
    },
    "tags": []
   },
   "source": [
    "## Perturbation expansion in the fluctuation potential\n",
    "\n",
    "The exact ground state is a solution to\n",
    "\n",
    "$$\n",
    "\\hat{H} | \\Psi \\rangle = E | \\Psi \\rangle\n",
    "$$\n",
    "\n",
    "where $| \\Psi \\rangle$ and $E$ are expanded in orders of the perturbation\n",
    "\n",
    "$$\n",
    "| \\Psi \\rangle = \\sum_{k=0}^\\infty | \\Psi^{(k)} \\rangle; \\qquad E = \\sum_{k=0}^\\infty E^{(k)}\n",
    "$$\n",
    "\n",
    "From RSPT, we get \n",
    "\n",
    "\\begin{align*}\n",
    "E^{(0)} & = {\\cal E}_0 \\\\\n",
    "E^{(1)} & = \\langle \\Psi_\\mathrm{HF} | \\hat{\\Phi} | \\Psi_\\mathrm{HF}  \\rangle = -\\frac{1}{2} \\sum_{i,j}^\\mathrm{occ} \\langle ij \\| ij \\rangle\n",
    "\\end{align*}\n",
    "\n",
    "so that \n",
    "\n",
    "$$\n",
    "E_{\\mathrm{HF}} = E^{(0)} + E^{(1)}\n",
    "$$\n",
    "\n",
    "The first-order correction to the wave function is obtained from the [RSPT master equation](pt)\n",
    "\n",
    "$$\n",
    "| \\Psi^{(1)} \\rangle = -\\frac{1}{4} \\sum_{i,j}^\\mathrm{occ} \\sum_{a,b}^\\mathrm{virt} t_{ij}^{ab} | \\Psi_{ij}^{ab} \\rangle ; \\qquad\n",
    "t_{ij}^{ab} = \\frac{\\langle ab \\| ij \\rangle}{{\\cal E}_{ij}^{ab}}\n",
    "$$\n",
    "\n",
    "and, in terms of the introduced $t$-amplitudes, we thereby get a second-order energy correction equal to\n",
    "\n",
    "$$\n",
    "E^{(2)}  = - \\frac{1}{4} \\sum_{i,j}^\\mathrm{occ} \\sum_{a,b}^\\mathrm{virt} t_{ij}^{ab} \\langle ij || ab \\rangle\n",
    "$$\n",
    "\n",
    "such that\n",
    "\n",
    "$$\n",
    "E_{\\mathrm{MP2}} = E_{\\mathrm{HF}} + E^{(2)}\n",
    "$$"
   ]
  },
  {
   "cell_type": "markdown",
   "id": "c901cc1d-d6ff-461f-b62f-856607fc2eb8",
   "metadata": {
    "editable": true,
    "jp-MarkdownHeadingCollapsed": true,
    "slideshow": {
     "slide_type": ""
    },
    "tags": []
   },
   "source": [
    "### Closed-shell reference state\n",
    "\n",
    "For a closed-shell Hartree–Fock state, the MP2 energy correction can be written in terms of sums referring to molecular orbitals (MOs)\n",
    "\n",
    "$$\n",
    "E^{(2)} = E_{\\mathrm{os}}^{(2)} + E_{\\mathrm{ss}}^{(2)}\n",
    "$$\n",
    "\n",
    "where \n",
    "\n",
    "\\begin{align*}\n",
    "E_{\\mathrm{os}}^{(2)} & = -\n",
    "\\sum_{i,j}^\\mathrm{occ} \\sum_{a,b}^\\mathrm{virt}\n",
    "\\frac{(ia|jb)(ia|jb)}{{\\cal E}_{ij}^{ab}} \\\\\n",
    "E_{\\mathrm{ss}}^{(2)} & = -\n",
    "\\sum_{i,j}^\\mathrm{occ} \\sum_{a,b}^\\mathrm{virt}\n",
    "\\frac{(ia|jb)}{{\\cal E}_{ij}^{ab}}\n",
    "\\big[ (ia|jb) - (ib|ja) \\big] \\\\\n",
    "\\end{align*}\n",
    "\n",
    "The [chemist's notation](https://kthpanor.github.io/echem/docs/units_notation.html#two-electron-integrals) has here been used for the integrals."
   ]
  },
  {
   "cell_type": "markdown",
   "id": "dfb0ab74-d661-4bd1-aff1-f7f027cd8147",
   "metadata": {
    "editable": true,
    "slideshow": {
     "slide_type": ""
    },
    "tags": []
   },
   "source": [
    "## Illustration\n",
    "\n",
    "Let us illustrate the theory with a calculation of the MP2 energy of water."
   ]
  },
  {
   "cell_type": "code",
   "execution_count": 1,
   "id": "d78cd800-cae8-4ac9-8ecb-f39ea463aaa6",
   "metadata": {
    "editable": true,
    "scrolled": true,
    "slideshow": {
     "slide_type": ""
    },
    "tags": [
     "remove-output"
    ]
   },
   "outputs": [
    {
     "name": "stdout",
     "output_type": "stream",
     "text": [
      "* Warning * Environment variable OMP_NUM_THREADS not set.\n",
      "* Warning * Setting OMP_NUM_THREADS to 4.\n"
     ]
    }
   ],
   "source": [
    "import veloxchem as vlx"
   ]
  },
  {
   "cell_type": "code",
   "execution_count": 2,
   "id": "7b9cf10f-20ff-4f8d-ad28-83bc49215f34",
   "metadata": {
    "editable": true,
    "scrolled": true,
    "slideshow": {
     "slide_type": ""
    },
    "tags": []
   },
   "outputs": [
    {
     "name": "stdout",
     "output_type": "stream",
     "text": [
      "Number of occupied orbitals: 5\n",
      "Number of unoccupied orbitals: 19\n"
     ]
    }
   ],
   "source": [
    "h2o_xyz = \"\"\"3\n",
    "water                                                                                                                          \n",
    "O    0.000000000000        0.000000000000        0.000000000000                         \n",
    "H    0.000000000000        0.740848095288        0.582094932012                         \n",
    "H    0.000000000000       -0.740848095288        0.582094932012\n",
    "\"\"\"\n",
    "\n",
    "molecule = vlx.Molecule.read_xyz_string(h2o_xyz)\n",
    "basis = vlx.MolecularBasis.read(molecule, \"cc-pvdz\", ostream=None)\n",
    "\n",
    "nocc = molecule.number_of_alpha_electrons()\n",
    "nvirt = basis.get_dimension_of_basis() - nocc\n",
    "\n",
    "print(\"Number of occupied orbitals:\", nocc)\n",
    "print(\"Number of unoccupied orbitals:\", nvirt)"
   ]
  },
  {
   "cell_type": "code",
   "execution_count": 3,
   "id": "3f0feae0-de8a-49d2-8ba4-d38d6ea641e2",
   "metadata": {
    "editable": true,
    "scrolled": true,
    "slideshow": {
     "slide_type": ""
    },
    "tags": []
   },
   "outputs": [
    {
     "data": {
      "application/3dmoljs_load.v0": "<div id=\"3dmolviewer_1706881855265034\"  style=\"position: relative; width: 400px; height: 300px;\">\n        <p id=\"3dmolwarning_1706881855265034\" style=\"background-color:#ffcccc;color:black\">You appear to be running in JupyterLab (or JavaScript failed to load for some other reason).  You need to install the 3dmol extension: <br>\n        <tt>jupyter labextension install jupyterlab_3dmol</tt></p>\n        </div>\n<script>\n\nvar loadScriptAsync = function(uri){\n  return new Promise((resolve, reject) => {\n    //this is to ignore the existence of requirejs amd\n    var savedexports, savedmodule;\n    if (typeof exports !== 'undefined') savedexports = exports;\n    else exports = {}\n    if (typeof module !== 'undefined') savedmodule = module;\n    else module = {}\n\n    var tag = document.createElement('script');\n    tag.src = uri;\n    tag.async = true;\n    tag.onload = () => {\n        exports = savedexports;\n        module = savedmodule;\n        resolve();\n    };\n  var firstScriptTag = document.getElementsByTagName('script')[0];\n  firstScriptTag.parentNode.insertBefore(tag, firstScriptTag);\n});\n};\n\nif(typeof $3Dmolpromise === 'undefined') {\n$3Dmolpromise = null;\n  $3Dmolpromise = loadScriptAsync('https://cdnjs.cloudflare.com/ajax/libs/3Dmol/2.0.4/3Dmol-min.js');\n}\n\nvar viewer_1706881855265034 = null;\nvar warn = document.getElementById(\"3dmolwarning_1706881855265034\");\nif(warn) {\n    warn.parentNode.removeChild(warn);\n}\n$3Dmolpromise.then(function() {\nviewer_1706881855265034 = $3Dmol.createViewer(document.getElementById(\"3dmolviewer_1706881855265034\"),{backgroundColor:\"white\"});\nviewer_1706881855265034.zoomTo();\n\tviewer_1706881855265034.addModel(\"3\\n\\nO              0.000000000000         0.000000000000         0.000000000000\\nH              0.000000000000         0.740848095288         0.582094932012\\nH              0.000000000000        -0.740848095288         0.582094932012\\n\");\n\tviewer_1706881855265034.setViewStyle({\"style\": \"outline\", \"width\": 0.05});\n\tviewer_1706881855265034.setStyle({\"stick\": {}, \"sphere\": {\"scale\": 0.25}});\n\tviewer_1706881855265034.zoomTo();\nviewer_1706881855265034.render();\n});\n</script>",
      "text/html": [
       "<div id=\"3dmolviewer_1706881855265034\"  style=\"position: relative; width: 400px; height: 300px;\">\n",
       "        <p id=\"3dmolwarning_1706881855265034\" style=\"background-color:#ffcccc;color:black\">You appear to be running in JupyterLab (or JavaScript failed to load for some other reason).  You need to install the 3dmol extension: <br>\n",
       "        <tt>jupyter labextension install jupyterlab_3dmol</tt></p>\n",
       "        </div>\n",
       "<script>\n",
       "\n",
       "var loadScriptAsync = function(uri){\n",
       "  return new Promise((resolve, reject) => {\n",
       "    //this is to ignore the existence of requirejs amd\n",
       "    var savedexports, savedmodule;\n",
       "    if (typeof exports !== 'undefined') savedexports = exports;\n",
       "    else exports = {}\n",
       "    if (typeof module !== 'undefined') savedmodule = module;\n",
       "    else module = {}\n",
       "\n",
       "    var tag = document.createElement('script');\n",
       "    tag.src = uri;\n",
       "    tag.async = true;\n",
       "    tag.onload = () => {\n",
       "        exports = savedexports;\n",
       "        module = savedmodule;\n",
       "        resolve();\n",
       "    };\n",
       "  var firstScriptTag = document.getElementsByTagName('script')[0];\n",
       "  firstScriptTag.parentNode.insertBefore(tag, firstScriptTag);\n",
       "});\n",
       "};\n",
       "\n",
       "if(typeof $3Dmolpromise === 'undefined') {\n",
       "$3Dmolpromise = null;\n",
       "  $3Dmolpromise = loadScriptAsync('https://cdnjs.cloudflare.com/ajax/libs/3Dmol/2.0.4/3Dmol-min.js');\n",
       "}\n",
       "\n",
       "var viewer_1706881855265034 = null;\n",
       "var warn = document.getElementById(\"3dmolwarning_1706881855265034\");\n",
       "if(warn) {\n",
       "    warn.parentNode.removeChild(warn);\n",
       "}\n",
       "$3Dmolpromise.then(function() {\n",
       "viewer_1706881855265034 = $3Dmol.createViewer(document.getElementById(\"3dmolviewer_1706881855265034\"),{backgroundColor:\"white\"});\n",
       "viewer_1706881855265034.zoomTo();\n",
       "\tviewer_1706881855265034.addModel(\"3\\n\\nO              0.000000000000         0.000000000000         0.000000000000\\nH              0.000000000000         0.740848095288         0.582094932012\\nH              0.000000000000        -0.740848095288         0.582094932012\\n\");\n",
       "\tviewer_1706881855265034.setViewStyle({\"style\": \"outline\", \"width\": 0.05});\n",
       "\tviewer_1706881855265034.setStyle({\"stick\": {}, \"sphere\": {\"scale\": 0.25}});\n",
       "\tviewer_1706881855265034.zoomTo();\n",
       "viewer_1706881855265034.render();\n",
       "});\n",
       "</script>"
      ]
     },
     "metadata": {},
     "output_type": "display_data"
    }
   ],
   "source": [
    "molecule.show()"
   ]
  },
  {
   "cell_type": "markdown",
   "id": "46014f3e-fa28-4a62-91e1-1e39f82f1fbc",
   "metadata": {
    "editable": true,
    "slideshow": {
     "slide_type": ""
    },
    "tags": []
   },
   "source": [
    "### Hartree–Fock reference state"
   ]
  },
  {
   "cell_type": "code",
   "execution_count": 4,
   "id": "d260f75b-cfa8-445b-8e8b-89f586545aa8",
   "metadata": {
    "editable": true,
    "scrolled": true,
    "slideshow": {
     "slide_type": ""
    },
    "tags": []
   },
   "outputs": [],
   "source": [
    "scf_drv = vlx.ScfRestrictedDriver()\n",
    "scf_drv.ostream.mute()\n",
    "scf_results = scf_drv.compute(molecule, basis)"
   ]
  },
  {
   "cell_type": "markdown",
   "id": "3e3db8e6-df40-4ad7-b905-d8de66f73e29",
   "metadata": {
    "editable": true,
    "slideshow": {
     "slide_type": ""
    },
    "tags": []
   },
   "source": [
    "We obtain the orbital energies."
   ]
  },
  {
   "cell_type": "code",
   "execution_count": 5,
   "id": "d18ec509-fb5c-426c-95bf-aeb30670d376",
   "metadata": {
    "editable": true,
    "slideshow": {
     "slide_type": ""
    },
    "tags": []
   },
   "outputs": [],
   "source": [
    "E = scf_results[\"E_alpha\"]"
   ]
  },
  {
   "cell_type": "markdown",
   "id": "f88b2137-9a62-4f45-a89c-c2cee2d53d16",
   "metadata": {
    "editable": true,
    "slideshow": {
     "slide_type": ""
    },
    "tags": []
   },
   "source": [
    "### Integrals in the MO basis\n",
    "\n",
    "We create an instance of the `MOIntegralsDriver` class to get the electron repulsion integrals in the MO basis and in the chemist's notation."
   ]
  },
  {
   "cell_type": "code",
   "execution_count": 6,
   "id": "b55192bb-c723-4f3c-a6ea-3dc688e78571",
   "metadata": {
    "editable": true,
    "slideshow": {
     "slide_type": ""
    },
    "tags": []
   },
   "outputs": [
    {
     "name": "stdout",
     "output_type": "stream",
     "text": [
      "(ov|ov): (5, 19, 5, 19)\n"
     ]
    }
   ],
   "source": [
    "erimo_drv = vlx.MOIntegralsDriver()\n",
    "\n",
    "ovov = erimo_drv.compute_in_memory(molecule, basis, scf_drv.mol_orbs, \"chem_ovov\")\n",
    "print(\"(ov|ov):\", ovov.shape)"
   ]
  },
  {
   "cell_type": "markdown",
   "id": "d8733e57-8f72-478c-ad7d-cdf7b7a47171",
   "metadata": {
    "editable": true,
    "slideshow": {
     "slide_type": ""
    },
    "tags": []
   },
   "source": [
    "### The MP2 energy correction\n",
    "\n",
    "We now have all the ingredients to compute the opposite-spin and same-spin components of the MP2 energy correction."
   ]
  },
  {
   "cell_type": "code",
   "execution_count": 7,
   "id": "362d922d-7acd-4089-bb89-9b7290a302c8",
   "metadata": {
    "editable": true,
    "slideshow": {
     "slide_type": ""
    },
    "tags": []
   },
   "outputs": [],
   "source": [
    "e_mp2_ss = 0.0\n",
    "e_mp2_os = 0.0\n",
    "\n",
    "# extract the occupied subset of the orbital energies\n",
    "e_o = E[:nocc]\n",
    "# extract the virtual subset of the orbital energies\n",
    "e_v = E[nocc:]\n",
    "\n",
    "for i in range(nocc):\n",
    "    for j in range(nocc):\n",
    "        for a in range(nvirt):\n",
    "            for b in range(nvirt):\n",
    "                # enegy denominators\n",
    "                e_ijab = e_v[a] + e_v[b] - e_o[i] - e_o[j]\n",
    "\n",
    "                # update opposite-spin component of the energy\n",
    "                e_mp2_os -= (ovov[i, a, j, b] * ovov[i, a, j, b]) / e_ijab\n",
    "\n",
    "                # update same-spin component of the energy\n",
    "                e_mp2_ss -= (\n",
    "                    ovov[i, a, j, b] * (ovov[i, a, j, b] - ovov[i, b, j, a]) / e_ijab\n",
    "                )"
   ]
  },
  {
   "cell_type": "code",
   "execution_count": 8,
   "id": "a218e0b2-0bbc-488f-8f65-89f44b987875",
   "metadata": {
    "editable": true,
    "slideshow": {
     "slide_type": ""
    },
    "tags": []
   },
   "outputs": [
    {
     "name": "stdout",
     "output_type": "stream",
     "text": [
      "Opposite-spin MP2 energy:  -0.15163083\n",
      "Same-spin MP2 energy    :  -0.05138187\n",
      "MP2 energy              :  -0.20301270\n"
     ]
    }
   ],
   "source": [
    "print(f\"Opposite-spin MP2 energy: {e_mp2_os:12.8f}\")\n",
    "print(f\"Same-spin MP2 energy    : {e_mp2_ss:12.8f}\")\n",
    "print(f\"MP2 energy              : {e_mp2_os + e_mp2_ss:12.8f}\")"
   ]
  },
  {
   "cell_type": "markdown",
   "id": "c20477a7-036c-4acd-9201-f60786d94242",
   "metadata": {
    "editable": true,
    "slideshow": {
     "slide_type": ""
    },
    "tags": []
   },
   "source": [
    "Let us compare this result with the MP2 energy obtained with VeloxChem."
   ]
  },
  {
   "cell_type": "code",
   "execution_count": 9,
   "id": "882e1c4d-b4e0-4e06-a359-c8f338d05bf6",
   "metadata": {
    "editable": true,
    "slideshow": {
     "slide_type": ""
    },
    "tags": []
   },
   "outputs": [],
   "source": [
    "mp2_drv = vlx.Mp2Driver()\n",
    "mp2_drv.ostream.mute()\n",
    "\n",
    "mp2_results = mp2_drv.compute_conventional(molecule, basis, scf_drv.mol_orbs)"
   ]
  },
  {
   "cell_type": "code",
   "execution_count": 10,
   "id": "18284b93-f4a1-4125-bd1b-d9a386338624",
   "metadata": {
    "editable": true,
    "slideshow": {
     "slide_type": ""
    },
    "tags": []
   },
   "outputs": [
    {
     "name": "stdout",
     "output_type": "stream",
     "text": [
      "Energy difference:  -0.20301270\n"
     ]
    }
   ],
   "source": [
    "print(f\"Energy difference: {mp2_results['mp2_energy']:12.8f}\")"
   ]
  },
  {
   "cell_type": "markdown",
   "id": "37164b50-5d96-4d33-93bd-d4689fe43399",
   "metadata": {
    "editable": true,
    "slideshow": {
     "slide_type": ""
    },
    "tags": []
   },
   "source": [
    "We note that the two results are in perfect agreement."
   ]
  },
  {
   "cell_type": "markdown",
   "id": "e63fce48-190a-4731-a523-6f9c4bbddb25",
   "metadata": {
    "editable": true,
    "slideshow": {
     "slide_type": ""
    },
    "tags": []
   },
   "source": [
    "(sec:mp2-size-consistency)=\n",
    "## Size consistency\n",
    "\n",
    "We see that to second order, Møller-Plesset perturbation theory only involves up to double excitations from the HF reference. It would thus be natural to consider it an approximation to CISD, and expect it to suffer from the same issue, namely a lack of size consistency. Yet this is not the case as discussed in the [RSPT section on this topic](https://kthpanor.github.io/echem/docs/elec_struct/pt.html#size-extensivity-in-rspt)."
   ]
  },
  {
   "cell_type": "code",
   "execution_count": 11,
   "id": "8ec95944-aeea-40ff-bede-486931ca371d",
   "metadata": {
    "editable": true,
    "scrolled": true,
    "slideshow": {
     "slide_type": ""
    },
    "tags": []
   },
   "outputs": [],
   "source": [
    "dimer_xyz = \"\"\"6\n",
    "2 water 100 Å apart                                                                                                            \n",
    "O    0.000000000000        0.000000000000        0.000000000000                         \n",
    "H    0.000000000000        0.740848095288        0.582094932012                         \n",
    "H    0.000000000000       -0.740848095288        0.582094932012\n",
    "O  100.000000000000        0.000000000000        0.000000000000                         \n",
    "H  100.000000000000        0.740848095288        0.582094932012                         \n",
    "H  100.000000000000       -0.740848095288        0.582094932012\n",
    "\"\"\"\n",
    "\n",
    "molecule = vlx.Molecule.read_xyz_string(dimer_xyz)\n",
    "basis = vlx.MolecularBasis.read(molecule, \"cc-pvdz\", ostream=None)"
   ]
  },
  {
   "cell_type": "code",
   "execution_count": 12,
   "id": "003fcfa9-eae7-4069-953c-e139e0c2c8f3",
   "metadata": {
    "editable": true,
    "slideshow": {
     "slide_type": ""
    },
    "tags": []
   },
   "outputs": [
    {
     "data": {
      "application/3dmoljs_load.v0": "<div id=\"3dmolviewer_1706881856196501\"  style=\"position: relative; width: 400px; height: 300px;\">\n        <p id=\"3dmolwarning_1706881856196501\" style=\"background-color:#ffcccc;color:black\">You appear to be running in JupyterLab (or JavaScript failed to load for some other reason).  You need to install the 3dmol extension: <br>\n        <tt>jupyter labextension install jupyterlab_3dmol</tt></p>\n        </div>\n<script>\n\nvar loadScriptAsync = function(uri){\n  return new Promise((resolve, reject) => {\n    //this is to ignore the existence of requirejs amd\n    var savedexports, savedmodule;\n    if (typeof exports !== 'undefined') savedexports = exports;\n    else exports = {}\n    if (typeof module !== 'undefined') savedmodule = module;\n    else module = {}\n\n    var tag = document.createElement('script');\n    tag.src = uri;\n    tag.async = true;\n    tag.onload = () => {\n        exports = savedexports;\n        module = savedmodule;\n        resolve();\n    };\n  var firstScriptTag = document.getElementsByTagName('script')[0];\n  firstScriptTag.parentNode.insertBefore(tag, firstScriptTag);\n});\n};\n\nif(typeof $3Dmolpromise === 'undefined') {\n$3Dmolpromise = null;\n  $3Dmolpromise = loadScriptAsync('https://cdnjs.cloudflare.com/ajax/libs/3Dmol/2.0.4/3Dmol-min.js');\n}\n\nvar viewer_1706881856196501 = null;\nvar warn = document.getElementById(\"3dmolwarning_1706881856196501\");\nif(warn) {\n    warn.parentNode.removeChild(warn);\n}\n$3Dmolpromise.then(function() {\nviewer_1706881856196501 = $3Dmol.createViewer(document.getElementById(\"3dmolviewer_1706881856196501\"),{backgroundColor:\"white\"});\nviewer_1706881856196501.zoomTo();\n\tviewer_1706881856196501.addModel(\"6\\n\\nO              0.000000000000         0.000000000000         0.000000000000\\nH              0.000000000000         0.740848095288         0.582094932012\\nH              0.000000000000        -0.740848095288         0.582094932012\\nO            100.000000000000         0.000000000000         0.000000000000\\nH            100.000000000000         0.740848095288         0.582094932012\\nH            100.000000000000        -0.740848095288         0.582094932012\\n\");\n\tviewer_1706881856196501.setViewStyle({\"style\": \"outline\", \"width\": 0.05});\n\tviewer_1706881856196501.setStyle({\"stick\": {}, \"sphere\": {\"scale\": 0.25}});\n\tviewer_1706881856196501.zoomTo();\nviewer_1706881856196501.render();\n});\n</script>",
      "text/html": [
       "<div id=\"3dmolviewer_1706881856196501\"  style=\"position: relative; width: 400px; height: 300px;\">\n",
       "        <p id=\"3dmolwarning_1706881856196501\" style=\"background-color:#ffcccc;color:black\">You appear to be running in JupyterLab (or JavaScript failed to load for some other reason).  You need to install the 3dmol extension: <br>\n",
       "        <tt>jupyter labextension install jupyterlab_3dmol</tt></p>\n",
       "        </div>\n",
       "<script>\n",
       "\n",
       "var loadScriptAsync = function(uri){\n",
       "  return new Promise((resolve, reject) => {\n",
       "    //this is to ignore the existence of requirejs amd\n",
       "    var savedexports, savedmodule;\n",
       "    if (typeof exports !== 'undefined') savedexports = exports;\n",
       "    else exports = {}\n",
       "    if (typeof module !== 'undefined') savedmodule = module;\n",
       "    else module = {}\n",
       "\n",
       "    var tag = document.createElement('script');\n",
       "    tag.src = uri;\n",
       "    tag.async = true;\n",
       "    tag.onload = () => {\n",
       "        exports = savedexports;\n",
       "        module = savedmodule;\n",
       "        resolve();\n",
       "    };\n",
       "  var firstScriptTag = document.getElementsByTagName('script')[0];\n",
       "  firstScriptTag.parentNode.insertBefore(tag, firstScriptTag);\n",
       "});\n",
       "};\n",
       "\n",
       "if(typeof $3Dmolpromise === 'undefined') {\n",
       "$3Dmolpromise = null;\n",
       "  $3Dmolpromise = loadScriptAsync('https://cdnjs.cloudflare.com/ajax/libs/3Dmol/2.0.4/3Dmol-min.js');\n",
       "}\n",
       "\n",
       "var viewer_1706881856196501 = null;\n",
       "var warn = document.getElementById(\"3dmolwarning_1706881856196501\");\n",
       "if(warn) {\n",
       "    warn.parentNode.removeChild(warn);\n",
       "}\n",
       "$3Dmolpromise.then(function() {\n",
       "viewer_1706881856196501 = $3Dmol.createViewer(document.getElementById(\"3dmolviewer_1706881856196501\"),{backgroundColor:\"white\"});\n",
       "viewer_1706881856196501.zoomTo();\n",
       "\tviewer_1706881856196501.addModel(\"6\\n\\nO              0.000000000000         0.000000000000         0.000000000000\\nH              0.000000000000         0.740848095288         0.582094932012\\nH              0.000000000000        -0.740848095288         0.582094932012\\nO            100.000000000000         0.000000000000         0.000000000000\\nH            100.000000000000         0.740848095288         0.582094932012\\nH            100.000000000000        -0.740848095288         0.582094932012\\n\");\n",
       "\tviewer_1706881856196501.setViewStyle({\"style\": \"outline\", \"width\": 0.05});\n",
       "\tviewer_1706881856196501.setStyle({\"stick\": {}, \"sphere\": {\"scale\": 0.25}});\n",
       "\tviewer_1706881856196501.zoomTo();\n",
       "viewer_1706881856196501.render();\n",
       "});\n",
       "</script>"
      ]
     },
     "metadata": {},
     "output_type": "display_data"
    }
   ],
   "source": [
    "molecule.show()"
   ]
  },
  {
   "cell_type": "code",
   "execution_count": 13,
   "id": "7787218b-9ed0-404b-88b3-1fa6a7772370",
   "metadata": {
    "editable": true,
    "scrolled": true,
    "slideshow": {
     "slide_type": ""
    },
    "tags": [
     "remove-output"
    ]
   },
   "outputs": [],
   "source": [
    "scf_results = scf_drv.compute(molecule, basis)\n",
    "\n",
    "mp2_dimer_results = mp2_drv.compute_conventional(molecule, basis, scf_drv.mol_orbs)"
   ]
  },
  {
   "cell_type": "code",
   "execution_count": 14,
   "id": "9fc69f17-a9ad-42cc-a73f-b9441b638a5f",
   "metadata": {
    "editable": true,
    "slideshow": {
     "slide_type": ""
    },
    "tags": []
   },
   "outputs": [
    {
     "name": "stdout",
     "output_type": "stream",
     "text": [
      "==============================\n",
      "MP2 energies\n",
      "------------------------------\n",
      "Dimer       :    -0.4060254140\n",
      "Two monomers:    -0.4060254051\n",
      "==============================\n"
     ]
    }
   ],
   "source": [
    "print(\"=\" * 30)\n",
    "print(\"MP2 energies\")\n",
    "print(\"-\" * 30)\n",
    "print(f\"Dimer       : {mp2_dimer_results['mp2_energy']:16.10f}\")\n",
    "print(f\"Two monomers: {2 * mp2_results['mp2_energy']:16.10f}\")\n",
    "print(\"=\" * 30)"
   ]
  },
  {
   "cell_type": "markdown",
   "id": "ecea7964-1460-4173-9a36-917c69543e48",
   "metadata": {
    "editable": true,
    "slideshow": {
     "slide_type": ""
    },
    "tags": []
   },
   "source": [
    "We can see that the two energies match. MP2 is size consistent! So why is it behaving better than CISD in this aspect?\n",
    "\n",
    "The key is that in MP2, the coefficients of the excited determinants are independent of the system size. Thus a molecule would have the same MP2 energy correction regardless of the presence or not of another, non-interacting, molecule. By contrast, in CISD, the coefficients depend on the system size through normalization, lowering the weight of these determinants as the size of the system increases."
   ]
  },
  {
   "cell_type": "markdown",
   "id": "29213b17",
   "metadata": {
    "editable": true,
    "slideshow": {
     "slide_type": ""
    },
    "tags": []
   },
   "source": [
    "(sec:mp2-taylor)=\n",
    "## Taylor expansion of the energy\n",
    "\n",
    "Using [RSPT](pt), it is a common practice to use an order parameter $\\lambda$ for the perturbation \n",
    "\n",
    "$$\n",
    "\\hat{H}(\\lambda) = \\hat{H_0} + \\lambda \\hat{V}\n",
    "$$\n",
    "\n",
    "Each order of the perturbation then corresponds to a power of $\\lambda$\n",
    "\n",
    "$$\n",
    "E(\\lambda) = E^{(0)} + \\lambda E^{(1)} + \\lambda^2 E^{(2)} + \\ldots\n",
    "$$\n",
    "\n",
    "The RSPT equations are found by collecting terms in powers of $\\lambda$ and, at the end, set $\\lambda$ equal to 1 to recover the correct Hamiltonian. Taking this approach, it is seen that RSPT relates to Taylor expansions. We will here demonstrate that\n",
    "\n",
    "$$\n",
    "E_\\mathrm{FCI}(\\lambda) = \\sum_{i=0}^\\infty \\lambda^i E_{\\mathrm{MP}}^{(i)}\n",
    "$$\n",
    "\n",
    "or, in other words, the $n$th-order MP energy correction is given by\n",
    "\n",
    "$$\n",
    "E_{\\mathrm{MP}}^{(n)} = \n",
    "\\frac{1}{n!}\n",
    "\\left.\n",
    "\\frac{d^n E_\\mathrm{FCI}(\\lambda)}{d \\lambda^n} \n",
    "\\right|_{\\lambda=0}\n",
    "$$\n",
    "\n",
    "The total MP energy to order $n$ is a sum of the corrections\n",
    "\n",
    "$$\n",
    "E_{\\mathrm{MPn}} = \n",
    "\\sum_{i=0}^n E_{\\mathrm{MP}}^{(i)}\n",
    "$$\n",
    "\n",
    "We will explicitly create $\\hat{H}(\\lambda)$ and determine the FCI energy. This allows us to determine the MP2 energy by means of numerical differentiation to second order with respect to $\\lambda$.\n",
    "\n",
    "First, we determine the Hartree–Fock state of water in the 6-31G basis set."
   ]
  },
  {
   "cell_type": "code",
   "execution_count": 15,
   "id": "7adc5630-cefd-4b3e-9479-2fe2d257e488",
   "metadata": {
    "editable": true,
    "scrolled": true,
    "slideshow": {
     "slide_type": ""
    },
    "tags": []
   },
   "outputs": [],
   "source": [
    "molecule = vlx.Molecule.read_xyz_string(h2o_xyz)\n",
    "basis = vlx.MolecularBasis.read(molecule, \"6-31G\", ostream=None)\n",
    "\n",
    "scf_drv = vlx.ScfRestrictedDriver()\n",
    "scf_drv.ostream.mute()\n",
    "scf_results = scf_drv.compute(molecule, basis)"
   ]
  },
  {
   "cell_type": "code",
   "execution_count": 16,
   "id": "9b7d527e-5c71-4a8f-9e19-836e90aa1b00",
   "metadata": {
    "editable": true,
    "scrolled": true,
    "slideshow": {
     "slide_type": ""
    },
    "tags": []
   },
   "outputs": [],
   "source": [
    "# MO coefficients\n",
    "C = scf_results[\"C_alpha\"]\n",
    "\n",
    "# orbital energies\n",
    "E = scf_results[\"E_alpha\"]"
   ]
  },
  {
   "cell_type": "markdown",
   "id": "e2695fb1",
   "metadata": {
    "editable": true,
    "slideshow": {
     "slide_type": ""
    },
    "tags": []
   },
   "source": [
    "Second, we create $\\hat{H_0} = \\hat{F}$ and $\\hat{V} = (\\hat{H} - \\hat{F})_{\\lambda=1}$ in the MO basis. The perturbation has a one-electron as well as a two-electron part that we will keep separate\n",
    "\n",
    "$$\n",
    "\\hat{V} = \\hat{V}_1 + \\hat{V}_2\n",
    "$$"
   ]
  },
  {
   "cell_type": "code",
   "execution_count": 17,
   "id": "fdae6470-bb2d-499e-9343-bc198ff5c57e",
   "metadata": {
    "editable": true,
    "slideshow": {
     "slide_type": ""
    },
    "tags": []
   },
   "outputs": [],
   "source": [
    "import numpy as np\n",
    "\n",
    "F = np.diag(E)\n",
    "\n",
    "# Get the core Hamiltonian in MO basis\n",
    "T_ao = vlx.compute_kinetic_energy_integrals(molecule, basis)\n",
    "\n",
    "V_nucpot_ao = vlx.compute_nuclear_potential_integrals(molecule, basis)\n",
    "\n",
    "h = np.einsum(\"ai, ab, bj -> ij\", C, T_ao + V_nucpot_ao, C)\n",
    "\n",
    "# Compute the 2-electron integrals\n",
    "fock_drv = vlx.FockDriver()\n",
    "g_ao = fock_drv.compute_eri(molecule, basis)\n",
    "\n",
    "g_1 = np.einsum(\"ds, abcd -> abcs\", C, g_ao)\n",
    "g_2 = np.einsum(\"cr, abcs -> abrs\", C, g_1)\n",
    "g_3 = np.einsum(\"bq, abrs -> aqrs\", C, g_2)\n",
    "\n",
    "g = np.einsum(\"ap, aqrs -> pqrs\", C, g_3)"
   ]
  },
  {
   "cell_type": "code",
   "execution_count": 18,
   "id": "f55cf258-9696-4f4a-8b05-dc3c0fcfd9a3",
   "metadata": {
    "editable": true,
    "slideshow": {
     "slide_type": ""
    },
    "tags": []
   },
   "outputs": [],
   "source": [
    "H0 = F\n",
    "\n",
    "V_1 = h - F\n",
    "V_2 = g"
   ]
  },
  {
   "cell_type": "markdown",
   "id": "e429ff6c",
   "metadata": {
    "editable": true,
    "slideshow": {
     "slide_type": ""
    },
    "tags": []
   },
   "source": [
    "Third, we use MultiPsi to determine the FCI energies."
   ]
  },
  {
   "cell_type": "code",
   "execution_count": 19,
   "id": "f5d21092-341c-4e33-b8f1-a21087b5e1c3",
   "metadata": {
    "editable": true,
    "scrolled": true,
    "slideshow": {
     "slide_type": ""
    },
    "tags": []
   },
   "outputs": [],
   "source": [
    "import multipsi as mtp\n",
    "\n",
    "ci_drv = mtp.CIDriver()\n",
    "ci_drv.ostream.mute()\n",
    "\n",
    "space = mtp.OrbSpace(molecule, scf_drv.mol_orbs)\n",
    "space.fci()"
   ]
  },
  {
   "cell_type": "markdown",
   "id": "51c68088-6034-46b4-aca5-3f75a5a0c35d",
   "metadata": {
    "editable": true,
    "slideshow": {
     "slide_type": ""
    },
    "tags": []
   },
   "source": [
    "Determine $E_\\mathrm{FCI}(\\lambda)$ and calculate the second derivative with use of a 3-point stencil."
   ]
  },
  {
   "cell_type": "code",
   "execution_count": 20,
   "id": "38df568d-bdc9-4e51-ab00-6fdc87461013",
   "metadata": {
    "editable": true,
    "scrolled": true,
    "slideshow": {
     "slide_type": ""
    },
    "tags": []
   },
   "outputs": [],
   "source": [
    "E_FCI = []\n",
    "\n",
    "for lambda_val in [-0.01, 0, 0.01]:\n",
    "\n",
    "    ci_drv._update_integrals(\n",
    "        molecule.nuclear_repulsion_energy(), H0 + lambda_val * V_1, lambda_val * V_2\n",
    "    )\n",
    "\n",
    "    ci_results = ci_drv.compute(molecule, basis, space, 1)\n",
    "\n",
    "    E_FCI.append(ci_drv.get_energy())"
   ]
  },
  {
   "cell_type": "code",
   "execution_count": 21,
   "id": "b5375e64-6c02-4013-b890-788359fa0d6d",
   "metadata": {
    "editable": true,
    "slideshow": {
     "slide_type": ""
    },
    "tags": []
   },
   "outputs": [],
   "source": [
    "E_MP2 = 0.5 * (E_FCI[0] + E_FCI[2] - 2 * E_FCI[1]) / 0.01**2"
   ]
  },
  {
   "cell_type": "code",
   "execution_count": 49,
   "id": "37f8dcf3-dd1a-47d4-ad35-a1f8b6cf982d",
   "metadata": {
    "editable": true,
    "slideshow": {
     "slide_type": ""
    },
    "tags": []
   },
   "outputs": [
    {
     "name": "stdout",
     "output_type": "stream",
     "text": [
      "MP2 energy correction:  -0.12747116\n"
     ]
    }
   ],
   "source": [
    "print(f\"MP2 energy correction:{E_MP2:12.8f}\")"
   ]
  },
  {
   "cell_type": "markdown",
   "id": "92e2ad7b-25ba-41cf-8570-b7f6e680037d",
   "metadata": {
    "editable": true,
    "slideshow": {
     "slide_type": ""
    },
    "tags": []
   },
   "source": [
    "Perform a reference calculation using the MP2 module in VeloxChem."
   ]
  },
  {
   "cell_type": "code",
   "execution_count": 23,
   "id": "61b8eb43",
   "metadata": {
    "editable": true,
    "slideshow": {
     "slide_type": ""
    },
    "tags": [
     "remove-output"
    ]
   },
   "outputs": [],
   "source": [
    "mp2_results = mp2_drv.compute(molecule, basis, scf_drv.mol_orbs)"
   ]
  },
  {
   "cell_type": "code",
   "execution_count": 50,
   "id": "b3e9af64-01fb-4485-aedd-0403395d3ab6",
   "metadata": {
    "editable": true,
    "slideshow": {
     "slide_type": ""
    },
    "tags": []
   },
   "outputs": [
    {
     "name": "stdout",
     "output_type": "stream",
     "text": [
      "MP2 energy correction: -0.12747066\n"
     ]
    }
   ],
   "source": [
    "print(f\"MP2 energy correction:{mp2_results['mp2_energy']:12.8f}\")"
   ]
  },
  {
   "cell_type": "markdown",
   "id": "f879e602",
   "metadata": {
    "editable": true,
    "slideshow": {
     "slide_type": ""
    },
    "tags": []
   },
   "source": [
    "We note the the two results are in perfect agreement. The small discrepancy is due to the use of numerical differentiation in the former case."
   ]
  }
 ],
 "metadata": {
  "celltoolbar": "Tags",
  "kernelspec": {
   "display_name": "Python 3 (ipykernel)",
   "language": "python",
   "name": "python3"
  },
  "language_info": {
   "codemirror_mode": {
    "name": "ipython",
    "version": 3
   },
   "file_extension": ".py",
   "mimetype": "text/x-python",
   "name": "python",
   "nbconvert_exporter": "python",
   "pygments_lexer": "ipython3",
   "version": "3.11.7"
  }
 },
 "nbformat": 4,
 "nbformat_minor": 5
}
