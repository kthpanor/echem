{
 "cells": [
  {
   "cell_type": "markdown",
   "id": "reserved-transmission",
   "metadata": {},
   "source": [
    "(sec:correlation)=\n",
    "# Electron correlation\n",
    "\n",
    "Electron correlation stem from the instantaneous interactions between electrons. It manifests itself as a relationship between [one- and two-electron densities](sec:reduced_densities) \n",
    "\n",
    "$$\n",
    "n(\\mathbf{r}, \\mathbf{r}') \\neq n(\\mathbf{r}) n(\\mathbf{r}')\n",
    "$$\n",
    "\n",
    "where $n(\\mathbf{r}, \\mathbf{r}')$ is the two-electron density. If the molecular system is described by an approximate wave function that does not capture this instantaneous electron interaction, then the relationship between densities (incorrectly) becomes \n",
    "\n",
    "$$\n",
    "n(\\mathbf{r}, \\mathbf{r}') = n(\\mathbf{r}) n(\\mathbf{r}')\n",
    "$$\n",
    "\n",
    "indicating completely independent motions of electrons.\n",
    "\n",
    "## Correlation energy\n",
    "\n",
    "Electron correlation arises from two primary sources namely the fermionic nature of electrons and the Coulomb repulsion between electrons. From the perspective of the Hartree–Fock method, the first but not the second source is accounted for, and as a measure of this discrepancy the correlation energy is defined as\n",
    "\n",
    "$$\n",
    "E_{\\textrm{corr}} = E_{\\textrm{exact}} - E_{\\textrm{HF}} \n",
    "$$\n",
    "\n",
    "In work with approximate methods such as the plethora of wave function models, it is convenient to introduce a method specific correlation energy following Löwdin {cite:p}`Lowdin1980`\n",
    "\n",
    "$$\n",
    "E_{\\textrm{corr}} = E_{\\textrm{WF}} - E_{\\textrm{HF}}  \n",
    "$$\n",
    "\n",
    "where $E_{\\textrm{WF}}$ is the energy of the molecular system computed by the selected wave function model.\n",
    "\n",
    "To illustrate these concepts, we will use the full configuration interaction (FCI) method to study the H$_2$ molecule. The obtained results provide the exact correlation energy for the given basis set."
   ]
  },
  {
   "cell_type": "code",
   "execution_count": null,
   "id": "handmade-patent",
   "metadata": {
    "scrolled": true,
    "tags": [
     "remove-output"
    ]
   },
   "outputs": [],
   "source": [
    "import matplotlib.pyplot as plt\n",
    "import multipsi as mtp\n",
    "import numpy as np\n",
    "import veloxchem as vlx\n",
    "\n",
    "np.set_printoptions(precision=6, suppress=True, linewidth=170)\n",
    "\n",
    "mol_str = \"\"\"\n",
    "H     0.000000    0.000000   -0.70\n",
    "H     0.000000    0.000000    0.70\n",
    "\"\"\"\n",
    "molecule = vlx.Molecule.read_molecule_string(mol_str, units=\"au\")\n",
    "basis = vlx.MolecularBasis.read(molecule, \"cc-pvdz\",ostream=None)\n",
    "\n",
    "norb = basis.get_dimensions_of_basis()\n",
    "\n",
    "scf_drv = vlx.ScfRestrictedDriver()\n",
    "scf_drv.ostream.mute()\n",
    "scf_results = scf_drv.compute(molecule, basis)\n",
    "hf_energy = scf_drv.get_scf_energy()"
   ]
  },
  {
   "cell_type": "code",
   "execution_count": null,
   "id": "29eb542a-c3d0-45e5-b5a1-8b1beefe76b6",
   "metadata": {},
   "outputs": [],
   "source": [
    "molecule.show()"
   ]
  },
  {
   "cell_type": "code",
   "execution_count": null,
   "id": "2a7fdde4-a19c-4b2a-8b6c-ef124169a995",
   "metadata": {
    "scrolled": true,
    "tags": [
     "remove-output"
    ]
   },
   "outputs": [],
   "source": [
    "space = mtp.OrbSpace(molecule, scf_drv.mol_orbs)\n",
    "space.fci()\n",
    "\n",
    "ci_drv = mtp.CIDriver()\n",
    "ci_drv.ostream.mute()\n",
    "ci_results = ci_drv.compute(molecule, basis, space)\n",
    "ci_energy = ci_results[\"energies\"][0]"
   ]
  },
  {
   "cell_type": "markdown",
   "id": "random-consumer",
   "metadata": {},
   "source": [
    "The correlation energy is small compared to the absolute energy."
   ]
  },
  {
   "cell_type": "code",
   "execution_count": null,
   "id": "adolescent-frontier",
   "metadata": {
    "tags": []
   },
   "outputs": [],
   "source": [
    "print(f\"HF energy: {hf_energy : .8f}\")\n",
    "print(f\"CI energy: {ci_energy : .8f}\")\n",
    "print(f\"Correlation energy: {ci_energy - hf_energy : .8f}\")"
   ]
  },
  {
   "cell_type": "markdown",
   "id": "separated-combination",
   "metadata": {},
   "source": [
    "## Visualizing electron correlation\n",
    "\n",
    "### One-particle density\n",
    "\n",
    "With access to both the Hartree–Fock and FCI wave functions, we can investigate the densities using the `VisualizationDriver` class in Veloxchem.\n",
    "\n",
    "This module gives us access to the orbital values at specified coordinates."
   ]
  },
  {
   "cell_type": "code",
   "execution_count": null,
   "id": "095e70a2",
   "metadata": {
    "tags": []
   },
   "outputs": [],
   "source": [
    "vis_drv = vlx.VisualizationDriver()"
   ]
  },
  {
   "cell_type": "code",
   "execution_count": null,
   "id": "06b899ef",
   "metadata": {
    "tags": []
   },
   "outputs": [],
   "source": [
    "def get_orbital_values(coords, molecule, basis, mol_orbs):\n",
    "    orbital_values = []\n",
    "\n",
    "    for i in range(norb):\n",
    "        values = np.array(vis_drv.get_mo(coords, molecule, basis, mol_orbs.alpha_to_numpy(), i))\n",
    "        orbital_values.append(values)\n",
    "\n",
    "    return orbital_values"
   ]
  },
  {
   "cell_type": "markdown",
   "id": "beneficial-inspiration",
   "metadata": {},
   "source": [
    "The one-particle density equals the product of the density matrix and orbital densities.\n",
    "\n",
    "In the MO basis, the HF density matrix is diagonal with elements 2 and 0 for occupied and unoccupied orbitals, respectively. For CI, it is a bit more complicated, but the density matrix is provided by the CI driver."
   ]
  },
  {
   "cell_type": "code",
   "execution_count": null,
   "id": "24d16649",
   "metadata": {
    "tags": []
   },
   "outputs": [],
   "source": [
    "def get_n1(orbital_values):\n",
    "\n",
    "    hf_onepart_denmat = np.zeros((norb, norb))\n",
    "    hf_onepart_denmat[0, 0] = 2.0  # first MO is doubly occupied\n",
    "    fci_onepart_denmat = ci_drv.get_active_density(0)\n",
    "\n",
    "    # One-particle densities for HF and FCI\n",
    "    n1_hf = np.zeros(n)\n",
    "    n1_fci = np.zeros(n)\n",
    "    \n",
    "    for i in range(norb):\n",
    "        for j in range(norb):\n",
    "            n1_hf += hf_onepart_denmat[i, j] * orbital_values[i] * orbital_values[j]\n",
    "            n1_fci += fci_onepart_denmat[i, j] * orbital_values[i] * orbital_values[j]\n",
    "\n",
    "    return n1_hf, n1_fci"
   ]
  },
  {
   "cell_type": "code",
   "execution_count": null,
   "id": "personalized-zealand",
   "metadata": {
    "tags": []
   },
   "outputs": [],
   "source": [
    "n = 100\n",
    "coords = np.zeros((n, 3))\n",
    "coords[:, 2] = np.linspace(-3, 3, n, endpoint=True)\n",
    "\n",
    "orbital_values = get_orbital_values(coords, molecule, basis, scf_drv.mol_orbs)\n",
    "n1_hf, n1_fci = get_n1(orbital_values)\n",
    "\n",
    "plt.figure(figsize=(6,4))\n",
    "plt.plot(coords[:, 2], n1_hf, label=\"HF\")\n",
    "plt.plot(coords[:, 2], n1_fci, label=\"FCI\")\n",
    "plt.legend()\n",
    "\n",
    "plt.axvline(x=0.70, color=\"0.5\", linewidth=0.7, dashes=[3, 1, 3, 1])\n",
    "plt.axvline(x=-0.70, color=\"0.5\", linewidth=0.7, dashes=[3, 1, 3, 1])\n",
    "plt.setp(plt.gca(), xlim=(-3, 3), ylim=(0, 0.40))\n",
    "\n",
    "plt.ylabel(\"One-particle density (a.u.)\")\n",
    "plt.xlabel(\"Internuclear axis (a.u.)\")\n",
    "\n",
    "plt.show()"
   ]
  },
  {
   "cell_type": "markdown",
   "id": "liable-faculty",
   "metadata": {},
   "source": [
    "The differences one-particle densities at the HF and FCI levels of theory are very minor. Upon close inspection of the FCI density, it is possible to discern a small decrease in the middle of the bond, compensated for by a minor increase around the nuclei. \n",
    "\n",
    "### Two-particle density\n",
    "\n",
    "Given the nature of electron correlation, it is in the two-particle density that approximate method shortcomings are expected to more clearly reveal themselves. "
   ]
  },
  {
   "cell_type": "code",
   "execution_count": null,
   "id": "62ecac2a",
   "metadata": {},
   "outputs": [],
   "source": [
    "def get_n12(orbital_values_1, orbital_values_2):\n",
    "\n",
    "    hf_twopart_denmat = np.zeros((norb,norb,norb,norb))\n",
    "    hf_twopart_denmat[0,0,0,0] = 2.0 # first MO is doubly occupied\n",
    "    ci_twopart_denmat = ci_drv.get_active_2body_density(0)\n",
    "    \n",
    "    # Two-particle densities for HF and FCI\n",
    "    n12_hf = np.zeros(n)\n",
    "    n12_fci = np.zeros(n)\n",
    "\n",
    "    for i in range(norb):\n",
    "        for j in range(norb):\n",
    "            for k in range(norb):\n",
    "                for l in range(norb):\n",
    "\n",
    "                    n12_hf += (\n",
    "                        hf_twopart_denmat[i, j, k, l]\n",
    "                        * orbital_values_1[i]\n",
    "                        * orbital_values_1[j]\n",
    "                        * orbital_values_2[k]\n",
    "                        * orbital_values_2[l]\n",
    "                    )\n",
    "\n",
    "                    n12_fci += (\n",
    "                        ci_twopart_denmat[i, j, k, l]\n",
    "                        * orbital_values_1[i]\n",
    "                        * orbital_values_1[j]\n",
    "                        * orbital_values_2[k]\n",
    "                        * orbital_values_2[l]\n",
    "                    )\n",
    "\n",
    "    return n12_hf, n12_fci"
   ]
  },
  {
   "cell_type": "markdown",
   "id": "3efdafd1",
   "metadata": {},
   "source": [
    "Let us determine the probability density for finding one electron at the position of the hydrogen nucleus and the other at any point on the internuclear axis."
   ]
  },
  {
   "cell_type": "code",
   "execution_count": null,
   "id": "bacterial-greece",
   "metadata": {},
   "outputs": [],
   "source": [
    "# electron 1 at the position of the hydrogen nucleus\n",
    "orbital_values_at_H1 = get_orbital_values([[0, 0, 0.70]], molecule, basis, scf_drv.mol_orbs)\n",
    "n12_hf, n12_fci = get_n12(orbital_values_at_H1, orbital_values)\n",
    "\n",
    "plt.figure(figsize=(6,4))\n",
    "plt.plot(coords[:, 2], n12_hf, label=\"HF\")\n",
    "plt.plot(coords[:, 2], n12_fci, label=\"FCI\")\n",
    "plt.legend()\n",
    "\n",
    "plt.axvline(x=0.70, color=\"0.5\", linewidth=0.7, dashes=[3, 1, 3, 1])\n",
    "plt.axvline(x=-0.70, color=\"0.5\", linewidth=0.7, dashes=[3, 1, 3, 1])\n",
    "plt.setp(plt.gca(), xlim=(-3, 3), ylim=(0, 0.10))\n",
    "\n",
    "plt.ylabel(\"Two-particle density (a.u.)\")\n",
    "plt.xlabel(\"Internuclear axis (a.u.)\")\n",
    "plt.show()"
   ]
  },
  {
   "cell_type": "markdown",
   "id": "guilty-samoa",
   "metadata": {},
   "source": [
    "It is here clearly shown how the HF wave functions fails to describe the asymmetry in the two-particle density.\n",
    "\n",
    "As correctly captured by the FCI wave function, the probability for finding both electrons positioned at the same (right-most) hydrogen nucleus should be smaller than to find the electrons positioned at different nuclei."
   ]
  },
  {
   "cell_type": "markdown",
   "id": "78fdbe92",
   "metadata": {},
   "source": [
    "### Electron cusp and basis set convergence\n",
    "\n",
    "The point charge model of atomic nuclei creates cusp in the MOs, *i.e.*, a discontinuity in their derivatives at the positions of the nuclei. Likewise, the point charge of a given electron creates a cusp in the wave function relating to any of the other electrons. \n",
    "\n",
    "As standard quantum chemistry methods does not introduce any explicit dependence on the inter-electronic distances, it is expected that this electron–electron cusp displays a slow convergence. \n",
    "\n",
    "As an illustration of this fact, let us study the helium atom with one electron fixed in space and the other one positioned on a circle such that their positions coincide at one point."
   ]
  },
  {
   "cell_type": "code",
   "execution_count": null,
   "id": "3a416506",
   "metadata": {
    "scrolled": true,
    "tags": [
     "remove-output"
    ]
   },
   "outputs": [],
   "source": [
    "molecule = vlx.Molecule.read_molecule_string(\"He  0.0 0.0 0.0\")\n",
    "\n",
    "theta = np.linspace(-np.pi, np.pi, n, endpoint=True)\n",
    "coords = np.zeros((n, 3))\n",
    "coords[:, 0] = 0.70 * np.cos(theta)\n",
    "coords[:, 1] = 0.70 * np.sin(theta)\n",
    "\n",
    "# one- and two-particle densities for each basis set in lists\n",
    "n12_fci_l = []\n",
    "\n",
    "for basis_set in [\"sto-3g\", \"cc-pvdz\", \"cc-pvtz\", \"cc-pvqz\"]:\n",
    "\n",
    "    basis = vlx.MolecularBasis.read(molecule, basis_set)\n",
    "    norb = basis.get_dimensions_of_basis()\n",
    "    scf_results = scf_drv.compute(molecule, basis)\n",
    "\n",
    "    space = mtp.OrbSpace(molecule, scf_drv.mol_orbs)\n",
    "    space.fci()\n",
    "\n",
    "    ci_drv = mtp.CIDriver()\n",
    "    ci_results = ci_drv.compute(molecule, basis, space)\n",
    "\n",
    "    orbital_values_1 = get_orbital_values([[0.70, 0, 0]], molecule, basis, scf_drv.mol_orbs)\n",
    "    orbital_values_2 = get_orbital_values(coords, molecule, basis, scf_drv.mol_orbs)\n",
    "\n",
    "    _, n12_fci = get_n12(orbital_values_1, orbital_values_2)\n",
    "\n",
    "    n12_fci_l.append(n12_fci)"
   ]
  },
  {
   "cell_type": "code",
   "execution_count": null,
   "id": "ca12dc59",
   "metadata": {},
   "outputs": [],
   "source": [
    "plt.plot(theta * 180 / np.pi, n12_fci_l[0], label=\"STO-3G\")\n",
    "plt.plot(theta * 180 / np.pi, n12_fci_l[1], label=\"cc-pVDZ\")\n",
    "plt.plot(theta * 180 / np.pi, n12_fci_l[2], label=\"cc-pVTZ\")\n",
    "plt.plot(theta * 180 / np.pi, n12_fci_l[3], label=\"cc-pVQZ\")\n",
    "plt.legend()\n",
    "\n",
    "plt.axvline(x=0, color=\"0.5\", linewidth=0.7, dashes=[3, 1, 3, 1])\n",
    "plt.setp(plt.gca(), xlim=(-180, 180), ylim=(0.02, 0.05), xticks=range(-180, 190, 60))\n",
    "\n",
    "plt.ylabel(\"Two-particle density (a.u.)\")\n",
    "plt.xlabel(\"Angle between electron position vectors (degrees)\")\n",
    "\n",
    "plt.show()"
   ]
  },
  {
   "cell_type": "markdown",
   "id": "d046aff6",
   "metadata": {},
   "source": [
    "The basis set effect is seen to be large -- with the minimal STO-3G basis set there are no virtual orbitals and therefore the electron correlation is not captured. With increased basis set quality, the cusp gets sharper but convergence is slow. This illustrates why correlated wave function methods require large and flexible basis sets to converge. \n",
    "\n",
    "For HF and DFT, in contrast, the basis set only needs to accommodate an accurate description of the one-particle density and convergence is therefore much faster."
   ]
  },
  {
   "cell_type": "code",
   "execution_count": null,
   "id": "95bded08-6f6e-4840-a654-fa2e0bb01e9e",
   "metadata": {},
   "outputs": [],
   "source": []
  }
 ],
 "metadata": {
  "celltoolbar": "Tags",
  "kernelspec": {
   "display_name": "Python 3 (ipykernel)",
   "language": "python",
   "name": "python3"
  },
  "language_info": {
   "codemirror_mode": {
    "name": "ipython",
    "version": 3
   },
   "file_extension": ".py",
   "mimetype": "text/x-python",
   "name": "python",
   "nbconvert_exporter": "python",
   "pygments_lexer": "ipython3",
   "version": "3.12.8"
  }
 },
 "nbformat": 4,
 "nbformat_minor": 5
}
