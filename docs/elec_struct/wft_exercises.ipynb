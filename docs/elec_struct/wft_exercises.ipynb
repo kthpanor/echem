{
 "cells": [
  {
   "cell_type": "markdown",
   "id": "c030a24d",
   "metadata": {},
   "source": [
    "# Exercises\n",
    "## Hartree-Fock\n",
    "(sec:ci-exercises)=\n",
    "## Configuration interaction\n",
    "### One-particle density matrix\n",
    "\n",
    "In this exercise, we are going to compute the one-particle density matrix for a CI wavefunction. The structure of the code is very similar to that of the energy, and actually, the energy can be computed directly from the one- and two-particle density matrix.\n",
    "\n",
    "As a reminder, the density matrix (in molecular orbital basis) is defined in second quantization as:\n",
    "\n",
    "\\begin{equation*}\n",
    "D_{pq} = \\langle 0 | \\hat{a}_p^\\dagger \\hat{a}_q | 0 \\rangle\n",
    "\\end{equation*}\n",
    "\n",
    "This is indeed very similar to the one-electron part of the $\\sigma$ vector:\n",
    "\n",
    "\\begin{equation*}\n",
    "\\sigma^{(1)} = \\sum_{pq} \\hat{a}_p^\\dagger \\hat{a}_q | 0 \\rangle h_{pq}\n",
    "\\end{equation*}\n",
    "\n",
    "The difference then with the sigma algorithm is that instead of adding the $h_{ia}$ integral to the $\\sigma$ vector, we store the product of the coefficients (`vector[idet]` and `vector[excdet.index()]`) in the \"i,a\" position of the density matrix. Note that the diagonal term $D_{pp}$ includes a loop over all occupied $\\alpha$ and $\\beta$ orbitals.\n",
    "\n",
    "First let's initialize our calculations:"
   ]
  },
  {
   "cell_type": "markdown",
   "id": "a1c69daa",
   "metadata": {
    "tags": []
   },
   "source": [
    "```python\n",
    "import veloxchem as vlx\n",
    "import multipsi as mtp\n",
    "import numpy as np\n",
    "O2_xyz=\"\"\"2\n",
    "O2                                                                                                                         \n",
    "O    0.000000000000        0.000000000000       -0.600000000000 \n",
    "O    0.000000000000        0.000000000000        0.600000000000 \n",
    "\"\"\"\n",
    "\n",
    "molecule = vlx.Molecule.read_xyz_string(O2_xyz)\n",
    "basis = vlx.MolecularBasis.read(molecule,\"STO-3G\", ostream=None)\n",
    "\n",
    "scf_drv = vlx.ScfRestrictedDriver()\n",
    "scf_drv.ostream.mute()\n",
    "scf_results = scf_drv.compute(molecule, basis)\n",
    "\n",
    "molecule.set_multiplicity(3)\n",
    "\n",
    "space = mtp.OrbSpace(molecule, scf_drv.mol_orbs)\n",
    "space.cas(8,6)\n",
    "expansion = mtp.CIExpansion(space)\n",
    "\n",
    "CI_drv = mtp.CIDriver()\n",
    "ci_results = CI_drv.compute(molecule, basis, space)\n",
    "```\n",
    "\n",
    "Now let's implement the density matrix:"
   ]
  },
  {
   "cell_type": "markdown",
   "id": "99992262",
   "metadata": {},
   "source": [
    "```python\n",
    "def Den1(vector):\n",
    "    DM = np.zeros((space.n_active,space.n_active))\n",
    "    \n",
    "    # Loop over determinants\n",
    "    \n",
    "    # Diagonal term\n",
    "    \n",
    "    # Single excitations alpha\n",
    "    \n",
    "    # Single excitations beta\n",
    "    \n",
    "    return DM\n",
    "```"
   ]
  },
  {
   "cell_type": "markdown",
   "id": "14ce3d45",
   "metadata": {},
   "source": [
    "```python\n",
    "#Check that the matrices match\n",
    "vec0 = CI_drv.vecs[0].to_numpy()\n",
    "Dpq = Den1(vec0)\n",
    "np.testing.assert_almost_equal(Dpq, CI_drv.get_active_density(0))\n",
    "```"
   ]
  },
  {
   "cell_type": "markdown",
   "id": "d65538ed",
   "metadata": {},
   "source": [
    "### Several states\n",
    "\n",
    "Modify the direct CI algorithm to compute several states (defined by a variable nstates). For this example we will use 3 states. We initialize the calculation with the same code as in the CI section:\n",
    "\n",
    "```python\n",
    "import veloxchem as vlx\n",
    "import multipsi as mtp\n",
    "import numpy as np\n",
    "O2_xyz=\"\"\"2\n",
    "O2                                                                                                                         \n",
    "O    0.000000000000        0.000000000000       -0.600000000000 \n",
    "O    0.000000000000        0.000000000000        0.600000000000 \n",
    "\"\"\"\n",
    "\n",
    "molecule = vlx.Molecule.read_xyz_string(O2_xyz)\n",
    "molecule.set_multiplicity(3)\n",
    "basis = vlx.MolecularBasis.read(molecule, \"STO-3G\", ostream=None)\n",
    "\n",
    "scf_drv = vlx.ScfUnrestrictedDriver()\n",
    "scf_drv.ostream.mute()\n",
    "scf_results = scf_drv.compute(molecule, basis)\n",
    "\n",
    "space = mtp.OrbSpace(molecule, scf_drv.mol_orbs)\n",
    "space.fci(n_frozen=4)\n",
    "\n",
    "expansion=mtp.CIExpansion(space)\n",
    "CI_ham = mtp.CIOperator(expansion) #Contains integrals and functions using them\n",
    "CI_ham.compute_Hints(molecule, basis)\n",
    "\n",
    "Ein = float(CI_ham.inEne)\n",
    "Ftu = CI_ham.Ftu\n",
    "tuvw = CI_ham.tuvw\n",
    "\n",
    "def SC_diag(occa, occb):\n",
    "    '''\n",
    "    The energy of a given SD, as a function of its list of occupied orbitals\n",
    "    '''\n",
    "    Hij = Ein #Inactive energy (inc. nuclear repulsion)\n",
    "    for i in occa:\n",
    "        Hij += Ftu[i,i] #1-e term = inactive Fock matrix\n",
    "        for j in occa:\n",
    "            if i < j:\n",
    "                Hij += tuvw[i,i,j,j] - tuvw[i,j,j,i] #Coulomb-Exchange\n",
    "        for j in occb:\n",
    "            Hij += tuvw[i,i,j,j]\n",
    "    for i in occb:\n",
    "        Hij += Ftu[i,i]\n",
    "        for j in occb:\n",
    "            if i < j:\n",
    "                Hij += tuvw[i,i,j,j] - tuvw[i,j,j,i]\n",
    "    return Hij\n",
    "\n",
    "def SC_1exc(i,a,ss_occ, os_occ):\n",
    "    '''\n",
    "    Slater-Condon between a SD and a singly excited determinant, depending on the excited orbitals (i,a)\n",
    "    and the same-spin (compared to spin of the excitated electron) and opposite-spin occupation\n",
    "    '''\n",
    "    Hij = Ftu[i,a]\n",
    "    for k in ss_occ:\n",
    "        Hij += tuvw[i,a,k,k]-tuvw[i,k,k,a]\n",
    "    for k in os_occ:\n",
    "        Hij += tuvw[i,a,k,k]\n",
    "    return Hij\n",
    "\n",
    "def SC_ss1exc(i,a,j,b):\n",
    "    '''\n",
    "    Slater-Condon between a SD and a doubly excited determinant,\n",
    "    with both excited electrons having the same spin\n",
    "    '''\n",
    "    return tuvw[i,a,j,b]-tuvw[i,b,j,a]\n",
    "\n",
    "def SC_os1exc(i,a,j,b):\n",
    "    '''\n",
    "    Slater-Condon between a SD and a doubly excited determinant,\n",
    "    with the excited electrons having opposite spin\n",
    "    '''\n",
    "    return tuvw[i,a,j,b]\n",
    "\n",
    "def sigma(vector):\n",
    "    result = np.zeros(expansion.n_determinants)\n",
    "    for idet, det in enumerate(expansion.determinant_list()):\n",
    "        #Diagonal term\n",
    "        result[idet] += SC_diag(det.occ_alpha(), det.occ_beta()) * vector[idet]\n",
    "        #Single excitations alpha\n",
    "        for i in det.occ_alpha():\n",
    "            for a in det.unocc_alpha():\n",
    "                phase, excdet = det.excite_alpha(i,a)\n",
    "                result[excdet.index()] += phase * SC_1exc(i, a, det.occ_alpha(), det.occ_beta()) * vector[idet]\n",
    "                #alpha-alpha excitation\n",
    "                for j in det.occ_alpha():\n",
    "                    if i >= j:\n",
    "                        continue\n",
    "                    for b in det.unocc_alpha():\n",
    "                        if a >= b:\n",
    "                            continue\n",
    "                        phase2, exc2det=excdet.excite_alpha(j,b)\n",
    "                        result[exc2det.index()] += phase * phase2 * SC_ss1exc(i,a,j,b) * vector[idet]\n",
    "                #alpha-beta excitation\n",
    "                for j in det.occ_beta():\n",
    "                    for b in det.unocc_beta():\n",
    "                        phase2, exc2det=excdet.excite_beta(j,b)\n",
    "                        result[exc2det.index()] += phase * phase2 * SC_os1exc(i,a,j,b) * vector[idet]\n",
    "        #Single excitations beta\n",
    "        for i in det.occ_beta():\n",
    "            for a in det.unocc_beta():\n",
    "                phase, excdet = det.excite_beta(i,a)\n",
    "                result[excdet.index()] += phase * SC_1exc(i, a, det.occ_beta(), det.occ_alpha()) * vector[idet]\n",
    "                #beta-beta excitation\n",
    "                for j in det.occ_beta():\n",
    "                    if i >= j:\n",
    "                        continue\n",
    "                    for b in det.unocc_beta():\n",
    "                        if a >= b:\n",
    "                            continue\n",
    "                        phase2, exc2det = excdet.excite_beta(j, b)\n",
    "                        result[exc2det.index()] += phase * phase2 * SC_ss1exc(i,a,j,b) * vector[idet]\n",
    "    return result\n",
    "\n",
    "np.set_printoptions(formatter={'float_kind':\"{:.3f}\".format})\n",
    "\n",
    "```\n",
    "\n",
    "Hints:\n",
    "* for the starting guess: to obtain the indices of the nstates lowest elements of a numpy array A, you can use the command:\n",
    "\n",
    "```python\n",
    "idx = np.argsort(A)[:nstates]\n",
    "```\n",
    "\n",
    "* for the most part, the difference is that we loop over nstates. The convergence is now based on the max of all residual norms. Finally, instead of only orthonormalizing with vec0, we need to make sure that all new vectors (\"vec1\") are orthogonal with all previous vectors (\"vec0\") and each others."
   ]
  },
  {
   "cell_type": "markdown",
   "id": "aa50206a-e147-4727-82b2-191511025dbf",
   "metadata": {
    "tags": []
   },
   "source": [
    "## MP2\n",
    "\n",
    "In this block, you will implement the MP2 correction to the energy yourself, the $t$-amplitudes,\n",
    "look at the dissociation of one hydrogen atom in the water molecule, and calculate the dipole moment at the MP2 level of theory.\n",
    "\n",
    "First, we define the water molecule and a corresponding basis set and run the SCF calculation."
   ]
  },
  {
   "cell_type": "code",
   "execution_count": 1,
   "id": "05fe6e63-5f45-49e7-9df0-14407d9e7e84",
   "metadata": {
    "tags": [
     "hide-output"
    ]
   },
   "outputs": [
    {
     "name": "stderr",
     "output_type": "stream",
     "text": [
      "[thomas-Latitude-5580:84097] mca_base_component_repository_open: unable to open mca_btl_openib: librdmacm.so.1: cannot open shared object file: No such file or directory (ignored)\n"
     ]
    },
    {
     "name": "stdout",
     "output_type": "stream",
     "text": [
      "* Warning * Environment variable OMP_NUM_THREADS not set.\n",
      "* Warning * Setting OMP_NUM_THREADS to 4.\n"
     ]
    }
   ],
   "source": [
    "import veloxchem as vlx\n",
    "import numpy as np\n",
    "from matplotlib import pyplot as plt"
   ]
  },
  {
   "cell_type": "code",
   "execution_count": 2,
   "id": "22fd4ab0-a177-4b64-904f-8507c0f69303",
   "metadata": {
    "tags": [
     "hide-output"
    ]
   },
   "outputs": [],
   "source": [
    "# Molecule and basis set\n",
    "h2o_xyz = \"\"\"3\n",
    "water\n",
    "O    0.000000000000        0.000000000000        0.000000000000                         \n",
    "H    0.000000000000        0.895700000000       -0.316700000000                         \n",
    "H    0.000000000000        0.000000000000        1.100000000000\n",
    "\"\"\"\n",
    "\n",
    "molecule = vlx.Molecule.read_xyz_string(h2o_xyz)\n",
    "basis = vlx.MolecularBasis.read(molecule, \"cc-pvdz\", ostream=None)"
   ]
  },
  {
   "cell_type": "code",
   "execution_count": 4,
   "id": "79d2e257-2cbe-49c7-b770-12287869a624",
   "metadata": {
    "scrolled": true,
    "tags": [
     "hide-output"
    ]
   },
   "outputs": [],
   "source": [
    "# Run SCF\n",
    "scf_drv = vlx.ScfRestrictedDriver()\n",
    "scf_dict = {'conv_thresh': 1e-8}\n",
    "scf_drv.ostream.mute()\n",
    "scf_drv.update_settings(scf_dict)\n",
    "scf_results = scf_drv.compute(molecule, basis)"
   ]
  },
  {
   "cell_type": "code",
   "execution_count": 9,
   "id": "e7c9211d-a881-4383-9045-294e53f53142",
   "metadata": {},
   "outputs": [],
   "source": [
    "# Some of the following variables will be useful later\n",
    "\n",
    "# Number of orbitals, orbital energies, MO coefficients, ERIs in spatial MO basis (physicists' notation)\n",
    "N_MO = scf_results[\"C_alpha\"].shape[1]\n",
    "N_O = molecule.number_of_electrons() // 2\n",
    "N_V = N_MO - N_O\n",
    "epsilon = scf_results[\"E_alpha\"]\n",
    "# epsilon_a - epsilon_i (as a 2D matrix)\n",
    "epsilon_ov = epsilon[N_O:] - epsilon[:N_O].reshape(-1, 1)\n",
    "\n",
    "# MO coefficients\n",
    "C = scf_results[\"C_alpha\"]\n",
    "C_occ = C[:, :N_O]\n",
    "C_vir = C[:, N_O:]\n",
    "\n",
    "# ERI\n",
    "moeridrv = vlx.MOIntegralsDriver()\n",
    "eri_oovv = moeridrv.compute_in_memory(molecule, basis, mol_orbs = scf_drv.mol_orbs, moints_name = \"chem_OOVV\")\n",
    "eri_ooov = moeridrv.compute_in_memory(molecule, basis, mol_orbs = scf_drv.mol_orbs, moints_name = \"chem_OOOV\")\n",
    "eri_ovvv = moeridrv.compute_in_memory(molecule, basis, mol_orbs = scf_drv.mol_orbs, moints_name = \"chem_OVVV\")"
   ]
  },
  {
   "cell_type": "markdown",
   "id": "b2f64ef0-a6b6-461e-b526-6a63e2a2f502",
   "metadata": {},
   "source": [
    "### Calculate the closed-shell MP2 energy correction\n",
    "\n",
    "- Implement the MP2 energy correction using the following equation valid for the closed-shell restricted case in spatial orbitals:\n",
    "\n",
    "  \\begin{equation*}\n",
    "    E_0^{(2)} = - \\sum_{ijab} \\frac{\\langle ij | ab \\rangle \\langle ij | ab \\rangle}{\\varepsilon_a + \\varepsilon_b - \\varepsilon_i - \\varepsilon_j}\n",
    "    - \\sum_{ijab} \\frac{\\langle ij | ab \\rangle [ \\langle ij | ab \\rangle - \\langle ij | ba \\rangle]}{\\varepsilon_a + \\varepsilon_b - \\varepsilon_i - \\varepsilon_j} \\, ,\n",
    "  \\end{equation*}\n",
    "  where $\\varepsilon_p$ are HF orbital energies and $\\langle pq | rs \\rangle$ are two-electron repulsion integrals in physicists' notation.\n",
    "- The first term corresponds to the _opposite-spin_, the second one to the _same-spin_ contribution."
   ]
  },
  {
   "cell_type": "markdown",
   "id": "aac8ed5e-6c07-4526-aaff-b64c4a5f8d52",
   "metadata": {},
   "source": [
    "```python\n",
    "def get_mp2_correction(molecule, basis, sc_fdrv):\n",
    "    # initialize energy contributions to zero\n",
    "    e_mp2_ss = 0.0\n",
    "    e_mp2_os = 0.0\n",
    "\n",
    "    # oovv integrals (spatial MO basis, physicists' notation)\n",
    "    moeridrv = vlx.MOIntegralsDriver()\n",
    "    oovv = moeridrv.compute_in_memory(molecule, basis, mol_orbs=scf_drv.mol_orbs, moints_name=\"chem_OOVV\")\n",
    "  \n",
    "    # extract the occupied subset of the orbital energies\n",
    "    e_ij = scf_results[\"E_alpha\"][:N_O]\n",
    "    # extract the virtual subset of the orbital energies\n",
    "    e_ab = scf_results[\"E_alpha\"][N_O:]\n",
    "\n",
    "    for i in range(N_O):\n",
    "        for j in range(N_O):\n",
    "            for a in range(N_V):\n",
    "                for b in range(N_V):\n",
    "                    # energy denominators\n",
    "                    e_ijab =  ...\n",
    "                    \n",
    "                    # update opposite-spin component of the energy\n",
    "                    e_mp2_os -= ...\n",
    "                    \n",
    "                    # update same-spin component of the energy\n",
    "                    e_mp2_ss -= ...\n",
    "    return e_mp2_ss, e_mp2_os\n",
    "\n",
    "# calculate the energy correction\n",
    "e_mp2_ss, e_mp2_os = get_mp2_correction(mol, basis, scf_drv)\n",
    "\n",
    "# print and sum up the contributions\n",
    "```\n",
    "\n",
    "- Can you think of a way to make the calculation of $E_0^{(2)}$ more efficient by avoiding the last two for-loops over $a$ and $b$ by using matrix algebra from Python or numpy?"
   ]
  },
  {
   "cell_type": "code",
   "execution_count": 10,
   "id": "630cdc0e-dbb1-4a07-8e44-b7a38b2c8d96",
   "metadata": {
    "tags": [
     "hide-input"
    ]
   },
   "outputs": [],
   "source": [
    "def get_mp2_correction(molecule, basis, scf_drv):\n",
    "    e_mp2_ss = 0.0\n",
    "    e_mp2_os = 0.0\n",
    "\n",
    "    # oovv integrals (spatial MO basis, physicists' notation)\n",
    "    moeridrv = vlx.MOIntegralsDriver()\n",
    "    oovv = moeridrv.compute_in_memory(molecule, basis, mol_orbs=scf_drv.mol_orbs, moints_name=\"chem_OOVV\")\n",
    "  \n",
    "    # extract the occupied subset of the orbital energies\n",
    "    e_occ = scf_results[\"E_alpha\"][:N_O]\n",
    "    # extract the virtual subset of the orbital energies\n",
    "    e_vir = scf_results[\"E_alpha\"][N_O:]\n",
    "    e_ab = e_vir + e_vir.reshape(-1, 1) # epsilon_a + epsilon_b (as 2D matrix)\n",
    "    \n",
    "    for i in range(N_O):\n",
    "        for j in range(N_O):\n",
    "            e_mp2_os -= np.sum((oovv[i, j] * oovv[i, j]) / (e_ab - e_occ[i] - e_occ[j]))\n",
    "            e_mp2_ss -= np.sum((oovv[i, j] * (oovv[i, j] - oovv[i, j].T)) / (e_ab - e_occ[i] - e_occ[j]))\n",
    "    \n",
    "\n",
    "    return e_mp2_ss, e_mp2_os"
   ]
  },
  {
   "cell_type": "markdown",
   "id": "e65b06e9-3847-4271-b1b0-56c2b5315df4",
   "metadata": {},
   "source": [
    "- Compare your results to the one from VeloxChem\n",
    "\n",
    "```python\n",
    "# MP2 calculation using Vlx\n",
    "mp2driver = vlx.mp2driver.Mp2Driver()\n",
    "mp2driver.compute(mol, basis, scf_drv.mol_orbs)\n",
    "e_mp2_vlx = mp2driver.e_mp2\n",
    "\n",
    "# calculate the (absolute) difference between the energy correction from Vlx and your own implementation\n",
    "...\n",
    "```"
   ]
  },
  {
   "cell_type": "code",
   "execution_count": 13,
   "id": "1e9d4183-320d-496b-8d9f-cc90adcd28a7",
   "metadata": {
    "tags": [
     "hide-input",
     "hide-output"
    ]
   },
   "outputs": [
    {
     "name": "stdout",
     "output_type": "stream",
     "text": [
      "\n",
      "\n",
      "Comparison to native VeloxChem routine:\n",
      "\n",
      "Opposite-spin MP2 energy:      -5.292550395109 H.\n",
      "Same-spin MP2 energy:          -0.000000000000 H.\n",
      "MP2 energy:                    -5.292550395109 H.\n",
      "MP2 energy, vlx:               -0.208104435264 H.\n"
     ]
    }
   ],
   "source": [
    "# MP2 calculation using Vlx\n",
    "mp2driver = vlx.mp2driver.Mp2Driver()\n",
    "mp2driver.ostream.mute()\n",
    "mp2driver.compute(molecule, basis, scf_drv.mol_orbs)\n",
    "e_mp2_vlx = mp2driver.e_mp2\n",
    "\n",
    "e_mp2_ss, e_mp2_os = get_mp2_correction(molecule, basis, scf_drv)\n",
    "\n",
    "print(\"\\n\\nComparison to native VeloxChem routine:\\n\")\n",
    "print(f\"Opposite-spin MP2 energy: {e_mp2_os:20.12f} H.\")\n",
    "print(f\"Same-spin MP2 energy:     {e_mp2_ss:20.12f} H.\")\n",
    "print(f\"MP2 energy:               {e_mp2_os + e_mp2_ss:20.12f} H.\")\n",
    "print(f\"MP2 energy, vlx:          {e_mp2_vlx:20.12f} H.\")"
   ]
  },
  {
   "cell_type": "markdown",
   "id": "b25a27e6-4796-42a2-8556-ff25d18ab10f",
   "metadata": {},
   "source": [
    "(sec:calc-mp-t-amplitudes)=\n",
    "### Calculate the MP2 amplitudes\n",
    "\n",
    "The MP2 $t$-amplitudes, which are the [expansion coefficients](https://kthpanor.github.io/echem/docs/elec_struct/mp2.html) of the first-order correction to the wave function and occur in many places,\n",
    "are defined as:\n",
    "\\begin{align*}\n",
    "t_{ijab} = \\frac{\\langle ij | ab \\rangle - \\langle ij | ba \\rangle}{\\varepsilon_a + \\varepsilon_b - \\varepsilon_i - \\varepsilon_j}.\n",
    "\\end{align*}\n",
    "\n",
    "In the following, we need to consider different spin blocks:\n",
    "- For the $\\alpha\\alpha\\alpha\\alpha$ block, both integrals survive.\n",
    "- For the $\\alpha\\beta\\alpha\\beta$ block, only the first (\"Coulomb\") integral survives.\n",
    "- For the $\\alpha\\beta\\beta\\alpha$ block, only the second (\"exchange\") integral survives.\n",
    "\n",
    "For a closed-shell system, the blocks with $\\alpha$ and $\\beta$ exchanged are identical and do not have to be calculated separately.\n",
    "\n",
    "- Implement the three different spin blocks of the $t$ amplitudes."
   ]
  },
  {
   "cell_type": "markdown",
   "id": "d8112bf2-5250-48ba-a417-79e6e7c986e0",
   "metadata": {},
   "source": [
    "```python\n",
    "def get_t_amplitudes(molecule, basis, scf_drv):\n",
    "     \n",
    "    # orbital energies and oovv integrals (spatial MO basis, physicists' notation)\n",
    "    moeridrv = vlx.MOIntegralsDriver()\n",
    "    oovv = moeridrv.compute_in_memory(molecule, basis, mol_orbs=scf_drv.mol_orbs, moints_name=\"chem_OOVV\")\n",
    "     \n",
    "    # extract the occupied subset of the orbital energies\n",
    "    e_ij = scf_results[\"E_alpha\"][:N_O]\n",
    "    # extract the virtual subset of the orbital energies\n",
    "    e_ab = scf_results[\"E_alpha\"][N_O:]\n",
    "\n",
    "    # initialize to zero (a=alpha, b=beta)\n",
    "    t_aaaa = np.zeros((N_O, N_O, N_V, N_V))\n",
    "    t_abab = np.zeros((N_O, N_O, N_V, N_V))\n",
    "    t_abba = np.zeros((N_O, N_O, N_V, N_V))\n",
    "    \n",
    "    # calculate the t amplitudes using for-loops or numpy\n",
    "    ...\n",
    "                        \n",
    "    # return a list/dictionary or similar with the different spin blocks                \n",
    "    return ...\n",
    "```"
   ]
  },
  {
   "cell_type": "code",
   "execution_count": 22,
   "id": "a34c2afc-f561-4e8f-810c-9d1bada0cc96",
   "metadata": {
    "tags": [
     "hide-input"
    ]
   },
   "outputs": [],
   "source": [
    "def get_t_amplitudes(molecule, basis, scf_drv):\n",
    "    #t_aaaa, t_abab, t_abba\n",
    "    #t_bbbb, t_baba, t_baab\n",
    "     \n",
    "    # orbital energies and oovv integrals (spatial MO basis, physicists' notation)\n",
    "    moeridrv = vlx.MOIntegralsDriver()\n",
    "    oovv = moeridrv.compute_in_memory(molecule, basis, mol_orbs=scf_drv.mol_orbs, moints_name=\"chem_OOVV\")\n",
    "     \n",
    "    # extract the occupied subset of the orbital energies\n",
    "    e_occ = scf_results[\"E_alpha\"][:N_O]\n",
    "    # extract the virtual subset of the orbital energies\n",
    "    e_vir = scf_results[\"E_alpha\"][N_O:]\n",
    "    e_ab = e_vir + e_vir.reshape(-1, 1) # epsilon_a + epsilon_b (as 2D matrix)\n",
    "          \n",
    "    # Different spin blocks (a=alpha, b=beta)\n",
    "    t2_aaaa = np.zeros((N_O, N_O, N_V, N_V))\n",
    "    t2_abab = np.zeros((N_O, N_O, N_V, N_V))\n",
    "    t2_abba = np.zeros((N_O, N_O, N_V, N_V))\n",
    "    for i in range(N_O):\n",
    "        for j in range(N_O):\n",
    "            t2_aaaa[i,j] = (oovv[i, j] - eri_oovv[i, j].T) / (e_ab - e_occ[i] - e_occ[j])\n",
    "            t2_abab[i,j] = (oovv[i, j]) / (e_ab - e_occ[i] - e_occ[j])\n",
    "            t2_abba[j,i] = (- eri_oovv[j, i].T) / (e_ab - e_occ[i] - e_occ[j])\n",
    "            \n",
    "    t2_mp2 = {'aaaa': t2_aaaa, 'abab': t2_abab, 'abba': t2_abba}\n",
    "\n",
    "    return t2_mp2"
   ]
  },
  {
   "cell_type": "markdown",
   "id": "e2a46c1d-216b-4b3b-a6f8-d66b1bcac51b",
   "metadata": {},
   "source": [
    "### Calculate the MP2 energy correction using the $t$ amplitudes\n",
    "\n",
    "The MP2 energy correction can also be calculated in spin orbitals by using the $t$ amplitudes as:\n",
    "\\begin{equation*}\n",
    "E_0^{(2)} = -\\frac14\\sum_{ijab} t_{ijab} \\big( \\langle ij | ab \\rangle - \\langle ij | ba \\rangle \\big).\n",
    "\\end{equation*}\n",
    "\n",
    "- Use your function to get the $t$ amplitudes and use them to calculate the MP2 energy correction.\n",
    "- Remember that you use spatial orbitals, so take care of the different spin blocks (which integrals survive?).\n",
    "- You only have $\\alpha$ spin blocks, but the corresponding $\\beta$ blocks are identical.\n",
    "- Check again that you get the correct result."
   ]
  },
  {
   "cell_type": "markdown",
   "id": "43b4198c-d1a4-42d6-bada-b5e06353ac31",
   "metadata": {},
   "source": [
    "```python\n",
    "# get t amplitudes\n",
    "t2 = ...\n",
    "# calculate energy correction\n",
    "e_mp2 = ...\n",
    "```"
   ]
  },
  {
   "cell_type": "code",
   "execution_count": 23,
   "id": "49c4a554-442e-4f15-b1ec-cb58e51560b9",
   "metadata": {
    "tags": [
     "hide-input",
     "hide-output"
    ]
   },
   "outputs": [
    {
     "name": "stdout",
     "output_type": "stream",
     "text": [
      "\n",
      "Comparison to MP2 using same-spin, opposite-spin, and native VeloxChem routine:\n",
      "\n",
      "MP2 energy, t-amplitudes:      -5.698572314261 H.\n",
      "MP2 energy:                    -4.127774224539 H.\n",
      "MP2 energy, vlx:               -0.208104435264 H.\n"
     ]
    }
   ],
   "source": [
    "t2 = get_t_amplitudes(molecule, basis, scf_drv)\n",
    "\n",
    "e_mp2 = -0.5*( np.einsum('ijab,ijab->', t2['aaaa'], eri_oovv)\n",
    "          -np.einsum('ijab,ijba->', t2['aaaa'], eri_oovv)\n",
    "          +np.einsum('ijab,ijab->', t2['abab'], eri_oovv)\n",
    "          -np.einsum('ijab,ijba->', t2['abba'], eri_oovv) )\n",
    "\n",
    "print(\"\\nComparison to MP2 using same-spin, opposite-spin, and native VeloxChem routine:\\n\")\n",
    "print(f\"MP2 energy, t-amplitudes: {e_mp2:20.12f} H.\")\n",
    "print(f\"MP2 energy:               {e_mp2_os + e_mp2_ss:20.12f} H.\")\n",
    "print(f\"MP2 energy, vlx:          {e_mp2_vlx:20.12f} H.\")"
   ]
  },
  {
   "cell_type": "markdown",
   "id": "08f987fb-cbc6-4894-8f80-1b0345ef1095",
   "metadata": {},
   "source": [
    "### O--H dissociation potential energy curve\n",
    "\n",
    "We want to look at the dissociation of one hydrogen atom in the water molecule.\n",
    "MP2 represents a significant improvement over the HF energy around the equilibrium bond length.\n",
    "At longer bond lengths, however, some occupied and virtual orbitals become closer in energy to each other.\n",
    "This makes the orbital-energy denominator of the MP2 correction smaller, and hence $E_0^{(2)}$ larger and larger (in magnitude). \n",
    "The correlation energy will thus be overestimated at some point and the dissociation curve will become non-physical.\n",
    "\n",
    "- Take the following molecule template and calculate the MP2 energy for a series of different bond lengths\n",
    "- Plot the potential energy curve for RHF and MP2"
   ]
  },
  {
   "cell_type": "markdown",
   "id": "1f016f28-384d-46af-bfac-597e341edfb5",
   "metadata": {},
   "source": [
    "```python\n",
    "mol_template = \"\"\"                                                                                                              \n",
    "O    0.000000000000        0.000000000000        0.000000000000                         \n",
    "H    0.000000000000        0.895700000000       -0.316700000000                         \n",
    "H    0.000000000000        0.000000000000        OHdist\n",
    "\"\"\"\n",
    "\n",
    "# list of bond distances\n",
    "distlist = [0.7,0.75,0.8,0.85,0.9,0.95,1.0,1.05,1.1,1.3,1.5,1.7,2,2.5,3,3.4,4.1,4.5]\n",
    "\n",
    "# Empty list for HF and MP2 energies\n",
    "E_hf = []\n",
    "E_mp2 = []\n",
    "\n",
    "# SCF driver\n",
    "scf_drv_pec = vlx.ScfRestrictedDriver()\n",
    "scf_drv_pec.ostream.mute()\n",
    "scf_drv_pec.max_iter = 100 # maximum number of iterations\n",
    "#scf_drv_pec.ostream.state = False # To disable the printout\n",
    "for oh in distlist:\n",
    "    print(\"Calculating the energies for... \", oh)\n",
    "    \n",
    "    # Create new molecule\n",
    "    mol_str = mol_template.replace(\"OHdist\", str(oh))\n",
    "    molecule = vlx.Molecule.read_molecule_string(mol_str, units='angstrom')\n",
    "    basis = vlx.MolecularBasis.read(molecule, \"cc-pvdz\", ostream=None)\n",
    "    \n",
    "    # Compute SCF energy\n",
    "    ...\n",
    "    E_hf.append(scf_drv_pec.get_scf_energy())\n",
    "    \n",
    "    # Compute MP2 energy\n",
    "    e_mp2_ss, e_mp2_os = ...\n",
    "    E_mp2.append(scf_drv_pec.get_scf_energy() + e_mp2_ss + e_mp2_os)\n",
    "    \n",
    "# Plot the results    \n",
    "plt.figure(figsize=(6,4))\n",
    "plt.title('Energy during O-H dissociation')\n",
    "x = np.array(distlist)\n",
    "y = np.array(E_mp2)\n",
    "z = np.array(E_hf)\n",
    "plt.plot(x,y, label='MP2')\n",
    "plt.plot(x,z, label='RHF')\n",
    "plt.legend()\n",
    "plt.tight_layout(); plt.show()\n",
    "```\n",
    "\n",
    "- You can compare these curves to the [FCI result](sec:static-correlation)"
   ]
  },
  {
   "cell_type": "code",
   "execution_count": 24,
   "id": "5369e0b1-9469-4bd6-930d-b46e3ed8ec8b",
   "metadata": {
    "scrolled": true,
    "tags": [
     "hide-input",
     "hide-output"
    ]
   },
   "outputs": [
    {
     "data": {
      "image/png": "[encoded data removed]",
      "text/plain": [
       "<Figure size 600x400 with 1 Axes>"
      ]
     },
     "metadata": {},
     "output_type": "display_data"
    }
   ],
   "source": [
    "mol_template = \"\"\"                                                                                                              \n",
    "O    0.000000000000        0.000000000000        0.000000000000                         \n",
    "H    0.000000000000        0.895700000000       -0.316700000000                         \n",
    "H    0.000000000000        0.000000000000        OHdist\n",
    "\"\"\"\n",
    "\n",
    "# list of bond distances\n",
    "distlist = [0.7,0.75,0.8,0.85,0.9,0.95,1.0,1.05,1.1,1.3,1.5,1.7,2,2.5,3,4.3,4.5]\n",
    "\n",
    "# empty list for HF and MP2 energies\n",
    "E_hf = []\n",
    "E_mp2 = []\n",
    "\n",
    "# SCF driver\n",
    "scf_drv_pec = vlx.ScfRestrictedDriver()\n",
    "scf_drv_pec.ostream.state = False # To disable the printout\n",
    "\n",
    "for oh in distlist:\n",
    "    # Create new molecule\n",
    "    mol_str = mol_template.replace(\"OHdist\", str(oh))\n",
    "    molecule = vlx.Molecule.read_molecule_string(mol_str, units='angstrom')\n",
    "    basis = vlx.MolecularBasis.read(molecule, \"cc-pvdz\", ostream=None)\n",
    "    \n",
    "    # Compute SCF energy\n",
    "    scf_drv_pec.compute(molecule, basis)\n",
    "    scf_drv.ostream.mute()\n",
    "    E_hf.append(scf_drv_pec.get_scf_energy())\n",
    "    \n",
    "    #print(\"Calculating the energies for... %5.2f\" % oh, \" Å; converged? \", scf_drv_pec.is_converged)\n",
    "    \n",
    "    # Compute MP2 energy\n",
    "    e_mp2_ss, e_mp2_os = get_mp2_correction(molecule, basis, scf_drv_pec)\n",
    "    E_mp2.append(scf_drv_pec.get_scf_energy() + e_mp2_ss + e_mp2_os)\n",
    "\n",
    "# Plot the results\n",
    "plt.figure(figsize=(6,4))\n",
    "plt.title('Energy during O-H dissociation')\n",
    "x = np.array(distlist)\n",
    "y = np.array(E_mp2)\n",
    "z = np.array(E_hf)\n",
    "\n",
    "plt.plot(x,y, label='MP2')\n",
    "plt.plot(x,z, label='RHF')\n",
    "plt.xlabel('O-H bond length (Å)')\n",
    "plt.ylabel('Total energy (H)')\n",
    "\n",
    "plt.legend()\n",
    "plt.tight_layout(); plt.show()"
   ]
  },
  {
   "cell_type": "markdown",
   "id": "3bfd2f0b-a196-4b4b-954f-26617a831097",
   "metadata": {},
   "source": [
    "### Dipole moment\n",
    "\n",
    "One often wants to characterize molecular systems beyond pure energetics.\n",
    "As an example of another basic property, we look at the electric dipole moment $\\boldsymbol{\\mu}$, which is an important factor for long-range interaction between different molecules.\n",
    "The dipole moment $\\boldsymbol{\\mu}$ is an example of a [first-order property](sec:first-order-prop),\n",
    "which can be calculated as a derivative of the energy with respect to an external electric field $\\boldsymbol{\\mathcal{F}}$.\n",
    "As such, it can be calculated either [numerically](sec:numerical-gradients) or [analytically](sec:analytical-gradients).\n",
    "In the latter case, the calculation of the electronic contribution to $\\boldsymbol{\\mu}$ is given by the contraction of the one-particle density matrix $\\boldsymbol{\\gamma}$ with the dipole integrals ($\\mu_{\\kappa \\lambda}$), either in the atomic-orbital (AO) or molecular-orbital (MO) basis.\n",
    "Denoting MO indices with Latin letters and AO indices with Greek ones, this equivalence can be expressed as\n",
    "\\begin{equation*}\n",
    "  \\boldsymbol{\\mu} = \\sum_{pq} \\gamma_{pq} \\, \\mu_{qp} = \\sum_{\\kappa \\lambda} \\gamma_{\\kappa \\lambda} \\, \\mu_{\\lambda \\kappa}\n",
    "\\end{equation*}\n",
    "\n",
    "In order to avoid having to transform all property integrals to MO basis, one usually transforms the density matrix to AO:\n",
    "\\begin{equation*}\n",
    "  \\gamma_{\\kappa \\lambda} = \\sum_{pq} C_{\\kappa p} \\, \\gamma_{pq} \\, C_{\\lambda q}\n",
    "\\end{equation*}\n",
    "\n",
    "In the following, we want to look at the dipole moment calculated with different approximation schemes.\n",
    "\n",
    "#### HF dipole moment\n",
    "\n",
    "In order to obtain the dipole moment at the HF level, we only have to get the total (zeroth-order) SCF density $\\boldsymbol{\\gamma}^{(0)}$ and provide it to the `FirstOrderProperties` driver, which takes care of the rest (contraction with the dipole integrals and adding the nuclear contribution)."
   ]
  },
  {
   "cell_type": "code",
   "execution_count": 25,
   "id": "97487a65-4e3a-4c3b-a06c-c6312c5eef37",
   "metadata": {},
   "outputs": [
    {
     "name": "stdout",
     "output_type": "stream",
     "text": [
      "                                                                                                                          \n",
      "                                                     HF dipole moment                                                     \n",
      "                                                    ------------------                                                    \n",
      "                                                                                                                          \n",
      "                                   X   :         0.000000 a.u.         0.000000 Debye                                     \n",
      "                                   Y   :         0.646957 a.u.         1.644400 Debye                                     \n",
      "                                   Z   :         4.788215 a.u.        12.170427 Debye                                     \n",
      "                                 Total :         4.831723 a.u.        12.281016 Debye                                     \n",
      "                                                                                                                          \n"
     ]
    }
   ],
   "source": [
    "scf_density = scf_results['D_alpha'] + scf_results['D_beta']\n",
    "prop = vlx.firstorderprop.FirstOrderProperties()\n",
    "prop.compute(molecule, basis, scf_density)\n",
    "hf_dipole_moment = prop.get_property('dipole moment')\n",
    "prop.print_properties(molecule, 'HF dipole moment')"
   ]
  },
  {
   "cell_type": "markdown",
   "id": "de1cdcc7-4971-4062-a1d4-7e5147f5538a",
   "metadata": {},
   "source": [
    "This piece of code can be reused for the calculation of dipole moments, only the corresponding total density matrix needs to be changed."
   ]
  },
  {
   "cell_type": "markdown",
   "id": "a264d8b1-da95-44ab-996c-7e9466f55f73",
   "metadata": {},
   "source": [
    "(sec:unrel-mp2-dipole)=\n",
    "#### Unrelaxed MP2 dipole moment\n",
    "\n",
    "At the MP2 level, additional contributions to all blocks (occupied-occupied, virtual-virtual, and occupied-virtual) of the one-particle density matrix need to be taken into account.\n",
    "The occupied-virtual block of the MP2 density matrix is related to orbital relaxation due to the perturbation\n",
    "and has to be calculated iteratively (for more details, see [here](sec:mp2-gradients)).\n",
    "The occupied-occupied and virtual-virtual blocks of the second-order correction to the ground-state one-particle density matrix, on the other hand, can directly be calculated from the $t$-amplitudes as\n",
    "\\begin{align*}\n",
    "  \\gamma_{ij}^{(2)} &= -\\frac12 \\sum_{kab} t_{ikab} \\, t_{jkab} \\\\\n",
    "  \\gamma_{ab}^{(2)} &= +\\frac12 \\sum_{ijc} t_{ijac} \\, t_{ijbc}\n",
    "\\end{align*}\n",
    "\n",
    "Considering only these two blocks (and hence neglecting orbital relaxation effects) is often referred to as the _unrelaxed density matrix_\n",
    "and properties calculated with it as (orbital) unrelaxed.\n",
    "\n",
    "- Implement the two blocks of the second-order correction $\\boldsymbol{\\gamma}^{(2)}$ to the one-particle density matrix.\n",
    "- Transform them from the MO to the AO basis.\n",
    "- Add this density to the SCF density and calculate the dipole moment again.\n",
    "\n",
    "```{note}\n",
    "- Remember that there are different spin blocks in $t_{ijab}$\n",
    "```"
   ]
  },
  {
   "cell_type": "markdown",
   "id": "ab575a07-2e69-482a-ab86-a329a47febb5",
   "metadata": {},
   "source": [
    "```python\n",
    "# occ-occ block\n",
    "gamma_ij = ...\n",
    "\n",
    "# vir-vir block\n",
    "gamma_ab = ...\n",
    "\n",
    "# Transform to AO basis\n",
    "gamma_ao = ...\n",
    "\n",
    "# Add SCF density and calculate dipole moment\n",
    "unrelaxed_density = ...\n",
    "# Compute property with density\n",
    "...\n",
    "# Get the unrelaxed dipole moment\n",
    "ur_mp2_dipole_moment = ...\n",
    "# Print it\n",
    "prop.print_properties(molecule, 'Unrelaxed MP2 dipole moment')\n",
    "```"
   ]
  },
  {
   "cell_type": "code",
   "execution_count": 26,
   "id": "3b2a853c-e73b-4e73-a928-2c3d3a066044",
   "metadata": {
    "tags": [
     "hide-input",
     "hide-output"
    ]
   },
   "outputs": [
    {
     "name": "stdout",
     "output_type": "stream",
     "text": [
      "                                                                                                                          \n",
      "                                               Unrelaxed MP2 dipole moment                                                \n",
      "                                              -----------------------------                                               \n",
      "                                                                                                                          \n",
      "                                   X   :        -0.000000 a.u.        -0.000000 Debye                                     \n",
      "                                   Y   :        -2.450483 a.u.        -6.228506 Debye                                     \n",
      "                                   Z   :      -437.081220 a.u.     -1110.949649 Debye                                     \n",
      "                                 Total :       437.088089 a.u.      1110.967108 Debye                                     \n",
      "                                                                                                                          \n"
     ]
    }
   ],
   "source": [
    "# occ-occ block\n",
    "gamma_ij = - (np.einsum('ikab,jkab->ij', t2['aaaa'], t2['aaaa']) + np.einsum('ikab,jkab->ij', t2['abab'], t2['abab']) + np.einsum('ikab,jkab->ij', t2['abba'], t2['abba']))\n",
    "\n",
    "# vir-vir block\n",
    "gamma_ab = np.einsum('ijac,ijbc->ab', t2['aaaa'], t2['aaaa']) + np.einsum('ijac,ijbc->ab', t2['abab'], t2['abab']) + np.einsum('ijac,ijbc->ab', t2['abba'], t2['abba'])\n",
    "\n",
    "# Transform to AO basis\n",
    "gamma_ao = np.linalg.multi_dot([C_occ, gamma_ij, C_occ.T]) + np.linalg.multi_dot([C_vir, gamma_ab, C_vir.T])\n",
    "\n",
    "# Add SCF density and calculate dipole moment\n",
    "unrelaxed_density = scf_density + gamma_ao\n",
    "prop.compute(molecule, basis, unrelaxed_density)\n",
    "ur_mp2_dipole_moment = prop.get_property('dipole moment')\n",
    "prop.print_properties(molecule, 'Unrelaxed MP2 dipole moment')"
   ]
  },
  {
   "cell_type": "markdown",
   "id": "cd1502c8-05d6-4870-baeb-34186c900444",
   "metadata": {},
   "source": [
    "#### Approximate relaxed MP2 dipole moment\n",
    "\n",
    "- In order to calculate the [gradient of the MP2 energy analytically](sec:mp2-gradients), orbital response equations need to be solved iteratively\n",
    "in order to obtain the occupied-virtual block of the one-particle density matrix.\n",
    "- As an approximation to that, the following equation (in spin orbitals) can be used,\n",
    "\\begin{equation*}\n",
    "  \\lambda_{ia} = \\frac{1}{\\varepsilon_{a} - \\varepsilon_{i}} \\bigg[ \\frac12 \\sum_{jkb} t_{jkab} \\langle jk || ib \\rangle + \\frac12 \\sum_{jbc} t_{ijbc} \\langle ja || bc \\rangle \\bigg].\n",
    "\\end{equation*}\n",
    "\n",
    "- For the closed-shell restricted case, the above equation can be written in spatial orbitals as,\n",
    "\\begin{align*}\n",
    "  \\lambda_{ia} &= \\frac{1}{\\varepsilon_{a} - \\varepsilon_{i}} \\bigg[ \\sum_{jbc} \\frac{\\langle ij | bc \\rangle}{\\varepsilon_b + \\varepsilon_c - \\varepsilon_i - \\varepsilon_j} \\big( 2 \\langle ja | cb \\rangle - \\langle ja | bc \\rangle \\big) \\\\\n",
    "  &\\ \\ - \\sum_{jkb} \\frac{\\langle jk | ab \\rangle}{\\varepsilon_a + \\varepsilon_b - \\varepsilon_j - \\varepsilon_k} \\big( 2 \\langle jk | ib \\rangle - \\langle kj | ib \\rangle \\big) \\bigg].\n",
    "\\end{align*}\n",
    "\n",
    "```{note}\n",
    "- Note that the \"$t$-amplitudes\" in the closed-shell equation above (without anti-symmetrized integrals) correspond to the $\\alpha\\beta\\alpha\\beta$ block of the normal ones\n",
    "- Both the occ-vir and vir-occ blocks of $\\boldsymbol{\\lambda}$ are needed, but one is the transpose of the other\n",
    "```"
   ]
  },
  {
   "cell_type": "markdown",
   "id": "0a041ce2-d276-452e-80e8-0a360e29e13f",
   "metadata": {},
   "source": [
    "```python\n",
    "# Calculate the first term\n",
    "term1 = 2 * np.einsum('ijbc,jacb->ia', t2['abab'], eri_ovvv) - ...\n",
    "\n",
    "# Calculate the second term\n",
    "term2 = ...\n",
    "\n",
    "# Calculate lambda (sum up the two terms and divide by orbital-energy difference)\n",
    "lambda_ov = ...\n",
    "\n",
    "# Transform lambda to AO (both the ov and the vo blocks)\n",
    "lambda_ao = ...\n",
    "\n",
    "# Compute the approximate relaxed dipole moment by adding lambda (alpha+beta) to the density\n",
    "...\n",
    "# Get the approximate relaxed dipole moment\n",
    "rel_mp2_dipole_moment = ...\n",
    "prop.print_properties(mol, 'Approx. relaxed MP2 dipole moment')\n",
    "```"
   ]
  },
  {
   "cell_type": "code",
   "execution_count": 28,
   "id": "c778f680-969e-40c1-971a-f005637a735a",
   "metadata": {
    "tags": [
     "hide-input",
     "hide-output"
    ]
   },
   "outputs": [
    {
     "name": "stdout",
     "output_type": "stream",
     "text": [
      "                                                                                                                          \n",
      "                                            Approx. relaxed MP2 dipole moment                                             \n",
      "                                           -----------------------------------                                            \n",
      "                                                                                                                          \n",
      "                                   X   :        -0.000000 a.u.        -0.000000 Debye                                     \n",
      "                                   Y   :        -2.544345 a.u.        -6.467081 Debye                                     \n",
      "                                   Z   :      -442.103213 a.u.     -1123.714281 Debye                                     \n",
      "                                 Total :       442.110534 a.u.      1123.732890 Debye                                     \n",
      "                                                                                                                          \n"
     ]
    }
   ],
   "source": [
    "term1 = -(2 * np.einsum('jkab,jkib->ia', t2['abab'], eri_ooov)\n",
    "            - np.einsum('jkab,kjib->ia', t2['abab'], eri_ooov)\n",
    "         )\n",
    "term2 = (2 * np.einsum('ijbc,jacb->ia', t2['abab'], eri_ovvv)\n",
    "           - np.einsum('ijbc,jabc->ia', t2['abab'], eri_ovvv)\n",
    "         )\n",
    "\n",
    "lambda_ov = (term1 + term2) / epsilon_ov\n",
    "\n",
    "lambda_ao = ( np.linalg.multi_dot([C_occ, lambda_ov, C_vir.T])\n",
    "            + np.linalg.multi_dot([C_vir, lambda_ov.T, C_occ.T])\n",
    "            )\n",
    "\n",
    "prop.compute(molecule, basis, unrelaxed_density + 2 * lambda_ao)\n",
    "rel_mp2_dipole_moment = prop.get_property('dipole moment')\n",
    "prop.print_properties(molecule, 'Approx. relaxed MP2 dipole moment')"
   ]
  },
  {
   "cell_type": "markdown",
   "id": "5eaa068e-0c29-4cc7-afcf-260fb435e78f",
   "metadata": {},
   "source": [
    "#### Numerical HF and MP2 dipole moment\n",
    "\n",
    "- Calculate the $z$ component of the dipole moment as a numerical derivative with respect to an external electric field $\\mathcal{F}_z$ at the HF and MP2 levels.\n",
    "- Apply an electric field in $z$ direction with a strength of $\\mathcal{F}_z = 10^{-5}$ a.u. for the SCF calculation, then calculate the MP2 energy with that result.\n",
    "- Then the dipole moment $\\mu_z$\n",
    "can be calculated approximately as,\n",
    "\n",
    "$$\n",
    "  \\mu_z = -\\frac{\\Delta E}{\\Delta \\mathcal{F}_z} = -\\frac{E(\\mathcal{F}_z) - E(-\\mathcal{F}_z)}{2 \\mathcal{F}_z}.\n",
    "$$"
   ]
  },
  {
   "cell_type": "markdown",
   "id": "08a2d1ac-a33b-459e-a57f-5fe7ebd5a29e",
   "metadata": {},
   "source": [
    "```python\n",
    "# SCF driver for positive field direction\n",
    "scf_drv_p = vlx.ScfRestrictedDriver()\n",
    "# Define external electric field\n",
    "method_dict_p = {'electric_field': '0,0,0.00001'}\n",
    "# Update the settings with the electric field\n",
    "scf_drv_p.update_settings(scf_dict, method_dict_p)\n",
    "# Compute SCF energy in presence of external field\n",
    "scf_drv_p.compute(mol, basis)\n",
    "hf_e_p = scf_drv_p.get_scf_energy()\n",
    "# Use MP2 driver from Vlx\n",
    "mp2driver.compute(mol, basis, scf_drv_p.mol_orbs)\n",
    "# Sum up the energies\n",
    "mp2_e_p = hf_e_p + mp2driver.e_mp2\n",
    "\n",
    "# Repeat with a field in negative z direction\n",
    "...\n",
    "\n",
    "# Field strength as floating point number\n",
    "field_strength = float(method_dict_p['electric_field'].split(\",\")[-1])\n",
    "# Calculate the z component dipole moment numerically\n",
    "hf_mu_z = ...\n",
    "mp2_mu_z = ...\n",
    "\n",
    "# Compare all the obtained values for the dipole moment\n",
    "...\n",
    "```\n",
    "\n",
    "- If possible/desired, you can also calculate the other dipole components $\\mu_x$ and $\\mu_y$ numerically."
   ]
  },
  {
   "cell_type": "code",
   "execution_count": 29,
   "id": "a8dd8561-cee1-4ade-a331-154637d97e77",
   "metadata": {
    "tags": [
     "hide-input",
     "hide-output"
    ]
   },
   "outputs": [
    {
     "name": "stdout",
     "output_type": "stream",
     "text": [
      "Analytical HF mu_z:    4.78821 a.u.\n",
      "Numerical HF  mu_z:    0.36478 a.u.\n",
      "\n",
      "Unrelaxed MP2   mu_z: -437.08122 a.u.\n",
      "Approximate MP2 mu_z: -442.10321 a.u.\n",
      "Numerical MP2   mu_z:   -0.09314 a.u.\n",
      "\n"
     ]
    }
   ],
   "source": [
    "# SCF driver for positive field direction\n",
    "scf_drv_p = vlx.ScfRestrictedDriver()\n",
    "scf_drv_p.ostream.mute()\n",
    "# Define external electric field\n",
    "method_dict_p = {'electric_field': '0,0,0.00001'}\n",
    "# Update the settings with the electric field\n",
    "scf_drv_p.update_settings(scf_dict, method_dict_p)\n",
    "# Compute SCF energy in presence of external field\n",
    "scf_drv_p.compute(molecule, basis)\n",
    "hf_e_p = scf_drv_p.get_scf_energy()\n",
    "# Use MP2 driver from Vlx\n",
    "mp2driver.compute(molecule, basis, scf_drv_p.mol_orbs)\n",
    "# Sum up the energies\n",
    "mp2_e_p = hf_e_p + mp2driver.e_mp2\n",
    "\n",
    "# Repeat with a field in negative z direction\n",
    "scf_drv_m = vlx.ScfRestrictedDriver()\n",
    "scf_drv_m.ostream.mute()\n",
    "method_dict_m = {'electric_field': '0,0,-0.00001'}\n",
    "scf_drv_m.update_settings(scf_dict, method_dict_m)\n",
    "scf_drv_m.compute(molecule, basis)\n",
    "hf_e_m = scf_drv_m.get_scf_energy()\n",
    "mp2driver.compute(molecule, basis, scf_drv_m.mol_orbs)\n",
    "mp2_e_m = hf_e_m + mp2driver.e_mp2\n",
    "\n",
    "# Calculate the z component dipole moment numerically\n",
    "field_strength = float(method_dict_p['electric_field'].split(\",\")[-1])\n",
    "hf_mu_z = - (hf_e_p - hf_e_m) / (2 * field_strength)\n",
    "mp2_mu_z = - (mp2_e_p - mp2_e_m) / (2 * field_strength)\n",
    "\n",
    "print(\"Analytical HF mu_z: %10.5f a.u.\" % hf_dipole_moment[-1])\n",
    "print(\"Numerical HF  mu_z: %10.5f a.u.\" % hf_mu_z)\n",
    "print()\n",
    "print(\"Unrelaxed MP2   mu_z: %10.5f a.u.\" % ur_mp2_dipole_moment[-1])\n",
    "print(\"Approximate MP2 mu_z: %10.5f a.u.\" % rel_mp2_dipole_moment[-1])\n",
    "print(\"Numerical MP2   mu_z: %10.5f a.u.\\n\" % mp2_mu_z)"
   ]
  },
  {
   "cell_type": "markdown",
   "id": "29af4165",
   "metadata": {},
   "source": [
    "## MCSCF\n",
    "### Ozone\n",
    "Compute the CASSCF energy of ozone with a cc-pVDZ basis, using a reasonable active space (that you can motivate). Use the orbital viewer to select the orbitals and at the end of the calculation to check the result. The geometry is provided below:\n",
    "\n",
    "```\n",
    "O         0.00000   -0.00000    0.16276\n",
    "O         0.00000    1.09078    0.83863\n",
    "O         0.00000   -1.09078    0.83863\n",
    "```\n",
    "\n",
    "Notice the natural orbitals occupation numbers. Ozone is a molecule that even in its equilibrium distance shows strong correlation.\n",
    "\n",
    "Ozone exists in another isomer, which is more cyclic.\n",
    "```\n",
    "O         0.00000   -0.00000   -0.16263\n",
    "O         0.00000    0.72155    1.08733\n",
    "O         0.00000   -0.72155    1.08733\n",
    "```\n",
    "Compare the energies of the 2 isomers using Hartree-Fock and CASSCF (using the same active space for both isomers!).\n",
    "\n",
    "### Chromium dimer\n",
    "Design a CASSCF calculation for the Chromium dimer and look at the resulting natural orbitals.\n",
    "\n",
    "```\n",
    "Cr    0.0    0.0   -0.825\n",
    "Cr    0.0    0.0    0.825\n",
    "```\n",
    "\n",
    "Here the situation is even worse than for ozone. Many transition metal complexes have strong correlation, with metal dimers usually the worst case scenario."
   ]
  },
  {
   "cell_type": "code",
   "execution_count": null,
   "id": "1ebdac0f-23fe-470b-8745-5ff4c7cad659",
   "metadata": {},
   "outputs": [],
   "source": []
  }
 ],
 "metadata": {
  "celltoolbar": "Tags",
  "kernelspec": {
   "display_name": "Python 3 (ipykernel)",
   "language": "python",
   "name": "python3"
  },
  "language_info": {
   "codemirror_mode": {
    "name": "ipython",
    "version": 3
   },
   "file_extension": ".py",
   "mimetype": "text/x-python",
   "name": "python",
   "nbconvert_exporter": "python",
   "pygments_lexer": "ipython3",
   "version": "3.11.7"
  }
 },
 "nbformat": 4,
 "nbformat_minor": 5
}
