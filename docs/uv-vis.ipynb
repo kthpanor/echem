{
 "cells": [
  {
   "cell_type": "markdown",
   "id": "79828c2f",
   "metadata": {},
   "source": [
    "(sec:uv-vis)=\n",
    "# UV/vis spectroscopies\n",
    "\n",
    "Here we will discuss:\n",
    "\n",
    "- [Spectrum calculations](uv-vis_calc) shows how to calculate spectra with MCSCF, TDSCF, ADC.\n",
    "- In [spectrum analysis](uv-vis_analysis) the analysis of obtained spectra is discussed, with focus on visualization and assignments.\n",
    "- The section closes with example [exercises](uv-vis_exercises), illustrating some of the aspects.\n",
    "\n",
    "```{note}\n",
    "- Add on this page\n",
    "    - Jablonski diagram\n",
    "    - Different excitation energies (vertical, adiabatic, 0-0)\n",
    "- Add sections\n",
    "    - Special aspects\n",
    "    - Large molecules\n",
    "    - Photochemistry example\n",
    "    - ORJuP?\n",
    "```\n",
    "\n",
    "```{figure} /img/vis/jablonski_diagram.png\n",
    "---\n",
    "scale: 100%\n",
    "name: fig-jablonski\n",
    "align: center\n",
    "---\n",
    "Jablonski diagram illustrating possible radiative and non-radiative transitions between singlet (S) and triplet (T) valence excited states. These transitions operate on very different timescales: $10^{-15}$s (absorption), $10^{-14}$ - $10^{-11}$s (vibrational relaxation and internal conversion), $10^{-9}$ - $10^{-7}$s (fluorescence), $10^{-8}$ - $10^{-3}$s (intersystem crossing), and $10^{-4}$ - $10^{-1}$s (phosphorescence).\n",
    "```"
   ]
  },
  {
   "cell_type": "code",
   "execution_count": null,
   "id": "2518a5db-b914-4be5-988e-b1c2d80c2c4e",
   "metadata": {},
   "outputs": [],
   "source": []
  }
 ],
 "metadata": {
  "kernelspec": {
   "display_name": "Python 3 (ipykernel)",
   "language": "python",
   "name": "python3"
  },
  "language_info": {
   "codemirror_mode": {
    "name": "ipython",
    "version": 3
   },
   "file_extension": ".py",
   "mimetype": "text/x-python",
   "name": "python",
   "nbconvert_exporter": "python",
   "pygments_lexer": "ipython3",
   "version": "3.9.13"
  }
 },
 "nbformat": 4,
 "nbformat_minor": 5
}
