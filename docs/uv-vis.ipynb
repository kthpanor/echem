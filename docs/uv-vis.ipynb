{
 "cells": [
  {
   "cell_type": "markdown",
   "id": "79828c2f",
   "metadata": {},
   "source": [
    "(sec:uv-vis)=\n",
    "# UV/vis spectroscopies\n",
    "\n",
    "In this chapter, we will address transitions between the ground state and valence excited states as a result of UV or visible light absorption. The photon energies of UV and visible light are on the same scale as the energy differences between valence electronic states. As illustrated in the Jablonski diagram ({numref}`Fig. {number} <fig-jablonski>`), transitions between different valence state can take place in different ways and on very different time-scales. The diagram illustrates the ground state (in this case a singlet state, S$_0$), three singlet excited states (S$_1$, S$_2$, and S$_3$), as well as one triplet excited state (T$_1$). Each electronic state has a vibrational fine structure as schematically represented in the figure. \n",
    "\n",
    "```{figure} /img/vis/jablonski_diagram.png\n",
    "---\n",
    "scale: 100%\n",
    "name: fig-jablonski\n",
    "align: center\n",
    "---\n",
    "Jablonski diagram illustrating possible radiative and non-radiative transitions between singlet (S) and triplet (T) valence excited states. These transitions operate on very different timescales: $10^{-15}$s (absorption), $10^{-14}$ - $10^{-11}$s (vibrational relaxation and internal conversion), $10^{-9}$ - $10^{-7}$s (fluorescence), $10^{-8}$ - $10^{-3}$s (intersystem crossing), and $10^{-4}$ - $10^{-1}$s (phosphorescence).\n",
    "```\n",
    "\n",
    "The absorption of a UV or visible photon results in an electronic excitation from the ground state, to one of the singlet excited states. Photon absorption is an ultrafast process which takes place on the femtosecond (fs) timescale ($10^{-15}$ s. Usually, the system is brought onto a vibrationally excited state of the electronically excited state. Full relaxation back to the ground state involves different processes which work on different timescales. Relaxation from a vibrationaly excited state to the vibrational ground state is a non-radiative process which occurs on the $10^{-14}$ - $10^{-11}$s timescale. Another non-radiative process which operates o the same timescale is internal conversion. This is a non-radiative transition from one singlet excited state to another through a crossing point where two excited state potential energy surfaces intersect. The non-radiative transition from a singlet excited state to a triplet excited state takes place similarly through an intersection point and is called intersystem crossing. This process is much slower, operating on the $10^{-8}$ - $10^{-3}$s timescale. The radiative transition from a singlet excited state back to the singlet is called fluorescence and operates on the $10^{-9}$ - $10^{-7}$s timescale, while the transition between a triplet excited state and the ground state gives rise to phosphorescence ($10^{-4}$ - $10^{-1}$s).\n",
    "\n",
    "\n",
    "In the following sections we will see how to:\n",
    "\n",
    "- perform UV/vis absorption [spectrum calculations](uv-vis_calc) using different theoretical approaches like MCSCF, TDSCF, and ADC;\n",
    "- [analyze the calculated spectra](uv-vis_analysis) and visualize the results;\n",
    "\n",
    "The chapter closes with example [exercises](uv-vis_exercises), illustrating in more details some of the aspects discussed in the other two sections.\n",
    "\n",
    "```{note}\n",
    "- Add on this page\n",
    "    - Jablonski diagram\n",
    "    - Different excitation energies (vertical, adiabatic, 0-0)\n",
    "- Add sections\n",
    "    - Special aspects\n",
    "    - Large molecules\n",
    "    - Photochemistry example\n",
    "    - ORJuP?\n",
    "```"
   ]
  },
  {
   "cell_type": "code",
   "execution_count": null,
   "id": "2518a5db-b914-4be5-988e-b1c2d80c2c4e",
   "metadata": {},
   "outputs": [],
   "source": []
  }
 ],
 "metadata": {
  "kernelspec": {
   "display_name": "Python 3 (ipykernel)",
   "language": "python",
   "name": "python3"
  },
  "language_info": {
   "codemirror_mode": {
    "name": "ipython",
    "version": 3
   },
   "file_extension": ".py",
   "mimetype": "text/x-python",
   "name": "python",
   "nbconvert_exporter": "python",
   "pygments_lexer": "ipython3",
   "version": "3.9.13"
  }
 },
 "nbformat": 4,
 "nbformat_minor": 5
}
