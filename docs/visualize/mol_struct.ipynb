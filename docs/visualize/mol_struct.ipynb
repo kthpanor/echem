{
 "cells": [
  {
   "cell_type": "markdown",
   "id": "a7c75a4f",
   "metadata": {},
   "source": [
    "# Molecular structure and dynamics\n",
    "\n",
    "This section discuss visualization tools and analysis for\n",
    "\n",
    "- [Molecular structures](struct_vis), focusing on static (typically equilibrium) structures\n",
    "- For [MD trajectories](md_vis), where we illustrate how movies of the dynamics can be visualized\n",
    "- Visualization of [geometry optimizations and vibrational modes](opt_vib_vis)"
   ]
  }
 ],
 "metadata": {
  "kernelspec": {
   "display_name": "Python 3 (ipykernel)",
   "language": "python",
   "name": "python3"
  },
  "language_info": {
   "codemirror_mode": {
    "name": "ipython",
    "version": 3
   },
   "file_extension": ".py",
   "mimetype": "text/x-python",
   "name": "python",
   "nbconvert_exporter": "python",
   "pygments_lexer": "ipython3",
   "version": "3.11.7"
  }
 },
 "nbformat": 4,
 "nbformat_minor": 5
}
