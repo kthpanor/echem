{
 "cells": [
  {
   "cell_type": "markdown",
   "id": "bbbbf48f-60eb-4644-bbcf-21872a62a611",
   "metadata": {},
   "source": [
    "# Spectrum broadening\n",
    "\n",
    "The line shape of an experimental spectrum is affected by a number of factors, including:\n",
    "\n",
    "- [Life-time broadening](https://en.wikipedia.org/wiki/Spectral_line#Natural_broadening)\n",
    "\n",
    "- Resolution of the spectrometer\n",
    "\n",
    "- Vibrational effects\n",
    "\n",
    "- [Doppler broadening](https://en.wikipedia.org/wiki/Doppler_broadening)\n",
    "\n",
    "This effects leads to a number of different broadening types, such as\n",
    "\n",
    "- [Lorentzian](https://en.wikipedia.org/wiki/Spectral_line_shape#Lorentzian) <br>\n",
    "  From life-time broadening, and included phenomenologically in damped response theory\n",
    "  \n",
    "- [Gaussian](https://en.wikipedia.org/wiki/Spectral_line_shape#Gaussian) <br>\n",
    "  From Doppler broadening and resolution of the spectrometer\n",
    "    \n",
    "- [Voigt](https://en.wikipedia.org/wiki/Spectral_line_shape#Voigt) <br>\n",
    "  A convolution of a Gaussian and a Lorentzian\n",
    "  \n",
    "- Asymmetric <br>\n",
    "  From vibrational effects\n"
   ]
  }
 ],
 "metadata": {
  "kernelspec": {
   "display_name": "Python 3 (ipykernel)",
   "language": "python",
   "name": "python3"
  },
  "language_info": {
   "codemirror_mode": {
    "name": "ipython",
    "version": 3
   },
   "file_extension": ".py",
   "mimetype": "text/x-python",
   "name": "python",
   "nbconvert_exporter": "python",
   "pygments_lexer": "ipython3",
   "version": "3.9.15"
  }
 },
 "nbformat": 4,
 "nbformat_minor": 5
}
