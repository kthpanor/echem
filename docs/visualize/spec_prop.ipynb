{
 "cells": [
  {
   "cell_type": "markdown",
   "id": "80ac8f21-86da-4f9f-9a31-9cae3c52b5c3",
   "metadata": {
    "editable": true,
    "slideshow": {
     "slide_type": ""
    },
    "tags": []
   },
   "source": [
    "# Spectra and properties\n",
    "\n",
    "This chapter will discuss the visualization of spectra and properties, including:\n",
    "\n",
    "- The visualization of [excited states](exc_vis), with focus on natural transition orbitals (NTOs) and densities derived from one-particle difference densities\n",
    "\n",
    "- The [broadening](broadening) of spectrum features"
   ]
  }
 ],
 "metadata": {
  "kernelspec": {
   "display_name": "Python 3 (ipykernel)",
   "language": "python",
   "name": "python3"
  },
  "language_info": {
   "codemirror_mode": {
    "name": "ipython",
    "version": 3
   },
   "file_extension": ".py",
   "mimetype": "text/x-python",
   "name": "python",
   "nbconvert_exporter": "python",
   "pygments_lexer": "ipython3",
   "version": "3.11.7"
  }
 },
 "nbformat": 4,
 "nbformat_minor": 5
}
