{
 "cells": [
  {
   "cell_type": "markdown",
   "id": "3825e5b4-ead1-43e4-8834-587ef355bbf2",
   "metadata": {},
   "source": [
    "# Orbitals and densities\n",
    "\n",
    "We here focus on the visualization of molecular orbitals and radial densities."
   ]
  },
  {
   "cell_type": "code",
   "execution_count": 1,
   "id": "f75afd60-0610-4d1d-967e-7c391b4e23af",
   "metadata": {
    "tags": [
     "hide-input",
     "remove-output"
    ]
   },
   "outputs": [
    {
     "name": "stdout",
     "output_type": "stream",
     "text": [
      "* Warning * Environment variable OMP_NUM_THREADS not set.\n",
      "* Warning * Setting OMP_NUM_THREADS to 4.\n",
      "* Warning * Setting MKL_THREADING_LAYER to \"GNU\".\n"
     ]
    }
   ],
   "source": [
    "import matplotlib.pyplot as plt\n",
    "import numpy as np\n",
    "import py3Dmol\n",
    "import veloxchem as vlx\n",
    "import multipsi as mtp\n",
    "from pyscf import gto, scf, tools"
   ]
  },
  {
   "cell_type": "markdown",
   "id": "10b81891-34b5-4d9f-8601-4678b7e350c7",
   "metadata": {},
   "source": [
    "## Molecular orbitals\n",
    "\n",
    "(sec:orbview)=\n",
    "### Using OrbitalViewer\n",
    "\n",
    "Considering thymine with a minimal basis set, the SCF is optimized in order to provide the canonical orbitals."
   ]
  },
  {
   "cell_type": "code",
   "execution_count": 2,
   "id": "895b83bf-3ef1-4842-aa4c-05da30929b81",
   "metadata": {
    "tags": [
     "remove-output"
    ]
   },
   "outputs": [
    {
     "name": "stdout",
     "output_type": "stream",
     "text": [
      "                                                                                                                          \n",
      "                                            Self Consistent Field Driver Setup                                            \n",
      "                                           ====================================                                           \n",
      "                                                                                                                          \n",
      "                   Wave Function Model             : Spin-Restricted Hartree-Fock                                         \n",
      "                   Initial Guess Model             : Superposition of Atomic Densities                                    \n",
      "                   Convergence Accelerator         : Two Level Direct Inversion of Iterative Subspace                     \n",
      "                   Max. Number of Iterations       : 50                                                                   \n",
      "                   Max. Number of Error Vectors    : 10                                                                   \n",
      "                   Convergence Threshold           : 1.0e-06                                                              \n",
      "                   ERI Screening Scheme            : Cauchy Schwarz + Density                                             \n",
      "                   ERI Screening Mode              : Dynamic                                                              \n",
      "                   ERI Screening Threshold         : 1.0e-12                                                              \n",
      "                   Linear Dependence Threshold     : 1.0e-06                                                              \n",
      "                                                                                                                          \n",
      "* Info * Nuclear repulsion energy: 441.8135462140 a.u.                                                                    \n",
      "                                                                                                                          \n",
      "* Info * Overlap matrix computed in 0.00 sec.                                                                             \n",
      "                                                                                                                          \n",
      "* Info * Kinetic energy matrix computed in 0.00 sec.                                                                      \n",
      "                                                                                                                          \n",
      "* Info * Nuclear potential matrix computed in 0.02 sec.                                                                   \n",
      "                                                                                                                          \n",
      "* Info * Orthogonalization matrix computed in 0.01 sec.                                                                   \n",
      "                                                                                                                          \n",
      "* Info * SAD initial guess computed in 0.01 sec.                                                                          \n",
      "                                                                                                                          \n",
      "* Info * Starting Reduced Basis SCF calculation...                                                                        \n",
      "* Info * ...done. SCF energy in reduced basis set: -445.659156321753 a.u. Time: 2.73 sec.                                 \n",
      "                                                                                                                          \n",
      "* Info * Overlap matrix computed in 0.01 sec.                                                                             \n",
      "                                                                                                                          \n",
      "* Info * Kinetic energy matrix computed in 0.00 sec.                                                                      \n",
      "                                                                                                                          \n",
      "* Info * Nuclear potential matrix computed in 0.03 sec.                                                                   \n",
      "                                                                                                                          \n",
      "* Info * Orthogonalization matrix computed in 0.00 sec.                                                                   \n",
      "                                                                                                                          \n",
      "                                                                                                                          \n",
      "               Iter. | Hartree-Fock Energy | Energy Change | Gradient Norm | Max. Gradient | Density Change               \n",
      "               --------------------------------------------------------------------------------------------               \n",
      "                  1      -445.659226844240    0.0000000000      0.00306075      0.00030697      0.00000000                \n",
      "                  2      -445.659228562515   -0.0000017183      0.00132715      0.00015016      0.00162975                \n",
      "                  3      -445.659229163332   -0.0000006008      0.00030529      0.00003600      0.00174958                \n",
      "                  4      -445.659229178236   -0.0000000149      0.00010865      0.00000671      0.00016862                \n",
      "                  5      -445.659229180907   -0.0000000027      0.00004484      0.00000362      0.00011440                \n",
      "                  6      -445.659229181210   -0.0000000003      0.00000455      0.00000041      0.00002533                \n",
      "                  7      -445.659229181217   -0.0000000000      0.00000209      0.00000015      0.00000409                \n",
      "                  8      -445.659229181218   -0.0000000000      0.00000053      0.00000006      0.00000198                \n",
      "                                                                                                                          \n",
      "               *** SCF converged in 8 iterations. Time: 4.28 sec.                                                         \n",
      "                                                                                                                          \n",
      "               Spin-Restricted Hartree-Fock:                                                                              \n",
      "               -----------------------------                                                                              \n",
      "               Total Energy                       :     -445.6592291812 a.u.                                              \n",
      "               Electronic Energy                  :     -887.4727753952 a.u.                                              \n",
      "               Nuclear Repulsion Energy           :      441.8135462140 a.u.                                              \n",
      "               ------------------------------------                                                                       \n",
      "               Gradient Norm                      :        0.0000005311 a.u.                                              \n",
      "                                                                                                                          \n",
      "                                                                                                                          \n",
      "               Ground State Information                                                                                   \n",
      "               ------------------------                                                                                   \n",
      "               Charge of Molecule            :  0.0                                                                       \n",
      "               Multiplicity (2S+1)           :  1.0                                                                       \n",
      "               Magnetic Quantum Number (M_S) :  0.0                                                                       \n",
      "                                                                                                                          \n",
      "                                                                                                                          \n",
      "                                                 Spin Restricted Orbitals                                                 \n",
      "                                                 ------------------------                                                 \n",
      "                                                                                                                          \n",
      "               Molecular Orbital No.  29:                                                                                 \n",
      "               --------------------------                                                                                 \n",
      "               Occupation: 2.000 Energy:   -0.43226 a.u.                                                                  \n",
      "               (   1 C   1p+1:    -0.16) (   2 C   1p+1:    -0.27) (   3 C   1p+1:    -0.40)                              \n",
      "               (   4 N   1p+1:    -0.39) (   5 C   1p+1:     0.32) (   6 N   1p+1:     0.27)                              \n",
      "               (   7 O   1p+1:    -0.17) (   8 C   1p+1:     0.17) (   9 H   1s  :     0.15)                              \n",
      "               (  11 H   1s  :    -0.15) (  12 O   1p+1:     0.38)                                                        \n",
      "                                                                                                                          \n",
      "               Molecular Orbital No.  30:                                                                                 \n",
      "               --------------------------                                                                                 \n",
      "               Occupation: 2.000 Energy:   -0.35647 a.u.                                                                  \n",
      "               (   2 C   1p-1:    -0.18) (   4 N   1p-1:    -0.25) (   6 N   2s  :    -0.27)                              \n",
      "               (   6 N   1p-1:    -0.17) (   7 O   1p-1:    -0.39) (  12 O   1p-1:    -0.70)                              \n",
      "               (  12 O   1p0 :    -0.31)                                                                                  \n",
      "                                                                                                                          \n",
      "               Molecular Orbital No.  31:                                                                                 \n",
      "               --------------------------                                                                                 \n",
      "               Occupation: 2.000 Energy:   -0.32540 a.u.                                                                  \n",
      "               (   2 C   1p-1:     0.23) (   6 N   1p0 :    -0.31) (   7 O   1p-1:     0.63)                              \n",
      "               (   7 O   1p0 :    -0.47) (  12 O   1p-1:    -0.37) (  12 O   1p0 :    -0.28)                              \n",
      "                                                                                                                          \n",
      "               Molecular Orbital No.  32:                                                                                 \n",
      "               --------------------------                                                                                 \n",
      "               Occupation: 2.000 Energy:   -0.30204 a.u.                                                                  \n",
      "               (   1 C   1p+1:     0.18) (   6 N   1p+1:    -0.68) (   7 O   1p+1:     0.47)                              \n",
      "               (  12 O   1p+1:     0.51)                                                                                  \n",
      "                                                                                                                          \n",
      "               Molecular Orbital No.  33:                                                                                 \n",
      "               --------------------------                                                                                 \n",
      "               Occupation: 2.000 Energy:   -0.25350 a.u.                                                                  \n",
      "               (   2 C   1p+1:     0.56) (   3 C   1p+1:     0.37) (   4 N   1p+1:    -0.55)                              \n",
      "               (   7 O   1p+1:    -0.33) (  12 O   1p+1:     0.31)                                                        \n",
      "                                                                                                                          \n",
      "               Molecular Orbital No.  34:                                                                                 \n",
      "               --------------------------                                                                                 \n",
      "               Occupation: 0.000 Energy:    0.23813 a.u.                                                                  \n",
      "               (   1 C   1p+1:     0.44) (   2 C   1p+1:     0.46) (   3 C   1p+1:    -0.70)                              \n",
      "               (   4 N   1p+1:     0.27) (   6 N   1p+1:    -0.26) (   7 O   1p+1:    -0.46)                              \n",
      "                                                                                                                          \n",
      "               Molecular Orbital No.  35:                                                                                 \n",
      "               --------------------------                                                                                 \n",
      "               Occupation: 0.000 Energy:    0.31239 a.u.                                                                  \n",
      "               (   1 C   1p+1:    -0.40) (   2 C   1p+1:     0.32) (   4 N   1p+1:    -0.25)                              \n",
      "               (   5 C   1p+1:     0.74) (   6 N   1p+1:    -0.15) (   7 O   1p+1:     0.33)                              \n",
      "               (  12 O   1p+1:    -0.59)                                                                                  \n",
      "                                                                                                                          \n",
      "               Molecular Orbital No.  36:                                                                                 \n",
      "               --------------------------                                                                                 \n",
      "               Occupation: 0.000 Energy:    0.44343 a.u.                                                                  \n",
      "               (   1 C   1p+1:    -0.62) (   2 C   1p+1:     0.52) (   3 C   1p+1:    -0.43)                              \n",
      "               (   4 N   1p+1:     0.30) (   5 C   1p+1:    -0.46) (   6 N   1p+1:     0.37)                              \n",
      "               (   7 O   1p+1:     0.40) (   9 H   1s  :    -0.19) (  11 H   1s  :     0.19)                              \n",
      "               (  12 O   1p+1:     0.29)                                                                                  \n",
      "                                                                                                                          \n",
      "               Molecular Orbital No.  37:                                                                                 \n",
      "               --------------------------                                                                                 \n",
      "               Occupation: 0.000 Energy:    0.53852 a.u.                                                                  \n",
      "               (   1 C   2s  :     0.25) (   1 C   1p-1:     0.20) (   2 C   2s  :     0.18)                              \n",
      "               (   2 C   1p-1:     0.33) (   3 C   1p-1:     0.54) (   3 C   1p0 :    -0.22)                              \n",
      "               (   4 N   2s  :     0.94) (   4 N   1p-1:     0.26) (   4 N   1p0 :     0.18)                              \n",
      "               (   5 C   2s  :    -0.23) (   6 N   2s  :     0.29) (   8 C   2s  :    -0.24)                              \n",
      "               (   8 C   1p-1:     0.27) (   8 C   1p0 :    -0.24) (  13 H   1s  :    -0.47)                              \n",
      "               (  14 H   1s  :    -0.24) (  15 H   1s  :    -0.84)                                                        \n",
      "                                                                                                                          \n",
      "               Molecular Orbital No.  38:                                                                                 \n",
      "               --------------------------                                                                                 \n",
      "               Occupation: 0.000 Energy:    0.57875 a.u.                                                                  \n",
      "               (   1 C   2s  :     0.70) (   1 C   1p0 :     0.37) (   2 C   2s  :    -0.22)                              \n",
      "               (   2 C   1p-1:     0.36) (   3 C   2s  :    -0.17) (   3 C   1p-1:     0.26)                              \n",
      "               (   4 N   1p-1:     0.21) (   4 N   1p0 :    -0.17) (   5 C   2s  :     0.49)                              \n",
      "               (   5 C   1p0 :    -0.31) (   6 N   1s  :     0.17) (   6 N   2s  :    -1.15)                              \n",
      "               (   8 C   1p-1:     0.22) (   8 C   1p0 :     0.19) (  10 H   1s  :    -0.33)                              \n",
      "               (  13 H   1s  :    -0.17) (  14 H   1s  :     0.75)                                                        \n",
      "                                                                                                                          \n"
     ]
    }
   ],
   "source": [
    "thymine_xyz = \"\"\"15\n",
    "*\n",
    " C     0.095722    -0.037785    -1.093615\n",
    " C    -0.011848     1.408694    -1.113404\n",
    " C    -0.204706     2.048475     0.052807\n",
    " N    -0.302595     1.390520     1.249226\n",
    " C    -0.214596     0.023933     1.378238\n",
    " N    -0.017387    -0.607231     0.171757\n",
    " O     0.270287    -0.735594    -2.076393\n",
    " C     0.098029     2.096194    -2.424990\n",
    " H     1.052976     1.874860    -2.891573\n",
    " H     0.002157     3.170639    -2.310554\n",
    " H    -0.671531     1.743694    -3.104794\n",
    " O    -0.301905    -0.554734     2.440234\n",
    " H    -0.292790     3.119685     0.106201\n",
    " H     0.053626    -1.612452     0.215637\n",
    " H    -0.446827     1.892203     2.107092\n",
    "\"\"\"\n",
    "\n",
    "# Create veloxchem mol and basis objects\n",
    "mol_vlx = vlx.Molecule.from_xyz_string(thymine_xyz)\n",
    "bas_vlx = vlx.MolecularBasis.read(mol_vlx, \"sto-3g\")\n",
    "\n",
    "# Perform SCF calculation\n",
    "scf_gs = vlx.ScfRestrictedDriver()\n",
    "scf_gs.compute(mol_vlx, bas_vlx)"
   ]
  },
  {
   "cell_type": "markdown",
   "id": "2b9ab363-987f-4ef0-9969-cdb9359bfe5c",
   "metadata": {},
   "source": [
    "The resulting MOs can then be illustrated interactively with `OrbitalViewer`, which is available through the `VeloxChem` package:\n"
   ]
  },
  {
   "cell_type": "code",
   "execution_count": 3,
   "id": "851276a4-1784-4e60-b2b7-dfa5cf9ad1db",
   "metadata": {},
   "outputs": [
    {
     "data": {
      "application/vnd.jupyter.widget-view+json": {
       "model_id": "d2e3551b96cc49868c2f70a0095c21f2",
       "version_major": 2,
       "version_minor": 0
      },
      "text/plain": [
       "Output()"
      ]
     },
     "metadata": {},
     "output_type": "display_data"
    },
    {
     "data": {
      "application/vnd.jupyter.widget-view+json": {
       "model_id": "2ea5842f6b024ede84a514b4cf6c5ca0",
       "version_major": 2,
       "version_minor": 0
      },
      "text/plain": [
       "Dropdown(description='Orbital:', index=32, options=(('  1 occ=2.000 ene=-20.231', 0), ('  2 occ=2.000 ene=-20.…"
      ]
     },
     "metadata": {},
     "output_type": "display_data"
    }
   ],
   "source": [
    "viewer = vlx.OrbitalViewer()\n",
    "viewer.plot(mol_vlx, bas_vlx, scf_gs.mol_orbs)"
   ]
  },
  {
   "cell_type": "markdown",
   "id": "fd289549-d139-4b28-8965-dffa102565b6",
   "metadata": {},
   "source": [
    "```{note}\n",
    "As this is an interactive viewer, it will not be able to change the MO to visualize in the compiled html-book. It will work in a notebook, though.\n",
    "```\n",
    "\n",
    "These routines are also available in the `MultiPsi` package, where additional functionalities for selecting and saving an active space are available:"
   ]
  },
  {
   "cell_type": "code",
   "execution_count": 4,
   "id": "50522edd-de76-4deb-a24a-5df61d50bb62",
   "metadata": {},
   "outputs": [
    {
     "data": {
      "application/vnd.jupyter.widget-view+json": {
       "model_id": "581465a0a14e407d80bae74ab5c7ef7b",
       "version_major": 2,
       "version_minor": 0
      },
      "text/plain": [
       "Output()"
      ]
     },
     "metadata": {},
     "output_type": "display_data"
    },
    {
     "data": {
      "application/vnd.jupyter.widget-view+json": {
       "model_id": "bea8bcb2d02047248f08bf94c1c37d2a",
       "version_major": 2,
       "version_minor": 0
      },
      "text/plain": [
       "Dropdown(description='Orbital:', index=32, options=(('  1 occ=2.000 ene=-20.231', 0), ('  2 occ=2.000 ene=-20.…"
      ]
     },
     "metadata": {},
     "output_type": "display_data"
    },
    {
     "data": {
      "application/vnd.jupyter.widget-view+json": {
       "model_id": "560583b094bc4eabaabb87e9c22de459",
       "version_major": 2,
       "version_minor": 0
      },
      "text/plain": [
       "Checkbox(value=False, description='Active')"
      ]
     },
     "metadata": {},
     "output_type": "display_data"
    },
    {
     "data": {
      "application/vnd.jupyter.widget-view+json": {
       "model_id": "343a3190ac1d4358afa8523a220029f6",
       "version_major": 2,
       "version_minor": 0
      },
      "text/plain": [
       "Output()"
      ]
     },
     "metadata": {},
     "output_type": "display_data"
    },
    {
     "data": {
      "application/vnd.jupyter.widget-view+json": {
       "model_id": "44a98f40854c4c1d9cbb8598fc626e3e",
       "version_major": 2,
       "version_minor": 0
      },
      "text/plain": [
       "HBox(children=(Text(value='input-cas.h5', description='Filename'), Button(description='Save h5 file', style=Bu…"
      ]
     },
     "metadata": {},
     "output_type": "display_data"
    }
   ],
   "source": [
    "viewer = mtp.OrbitalViewer()\n",
    "viewer.plot(mol_vlx, bas_vlx, scf_gs.mol_orbs)"
   ]
  },
  {
   "cell_type": "markdown",
   "id": "5ff0dfdc-5a77-4635-b92f-1dfa0603316b",
   "metadata": {},
   "source": [
    "### Using cube-files\n",
    "\n",
    "Volumetric data can be constructed and saved using the `VisualizationDriver`, which can then be illustrated with `py3Dmol`. The file sizes can be quite substantial, and we thus recommend using more light-weight modules whenever possible.\n",
    "\n",
    "The HOMO, LUMO, and $\\alpha$ densities of water are constructed and saved as cube-files using:\n",
    "\n",
    "```python\n",
    "water_xyz = \"\"\"\n",
    "O       0.0000000000     0.0000000000     0.1178336003\n",
    "H      -0.7595754146    -0.0000000000    -0.4713344012\n",
    "H       0.7595754146     0.0000000000    -0.4713344012\n",
    "\"\"\"\n",
    "\n",
    "mol_vlx = vlx.Molecule.read_str(water_xyz)\n",
    "bas_vlx = vlx.MolecularBasis.read(mol_vlx, \"6-31G\")\n",
    "vis_drv = vlx.VisualizationDriver()\n",
    "scf_gs = vlx.ScfRestrictedDriver()\n",
    "\n",
    "vis_drv.gen_cubes(\n",
    "    cube_dict={\n",
    "        \"cubes\": \"mo(homo),mo(lumo),density(alpha)\",\n",
    "        \"files\": \"../../img/visualize/water_HOMO.cube,../../img/visualize/water_LUMO.cube,../../img/visualize/water_a_density.cube\",\n",
    "    },\n",
    "    molecule=mol_vlx,\n",
    "    basis=bas_vlx,\n",
    "    mol_orbs=scf_gs.mol_orbs,\n",
    "    density=scf_gs.density,\n",
    ")\n",
    "```\n",
    "\n",
    "Overlaying the densities on stick structures, we obtain below results.\n",
    "\n",
    "```{note}\n",
    "Below figure is a static snapshot (in order to save server space and compilation time), and can thus not be manipulated interactively.\n",
    "```\n",
    "\n",
    "```python\n",
    "viewer = py3Dmol.view(linked=False, viewergrid=(1, 3), width=800, height=300)\n",
    "\n",
    "# HOMO\n",
    "with open(\"../../img/vis/water_HOMO.cube\", \"r\") as f:\n",
    "    cube = f.read()\n",
    "# Plot strick structures\n",
    "viewer.addModel(cube, \"cube\", viewer=(0, 0))\n",
    "viewer.setStyle({\"stick\": {}}, viewer=(0, 0))\n",
    "# Negative and positive nodes\n",
    "viewer.addVolumetricData(\n",
    "    cube, \"cube\", {\"isoval\": -0.02, \"color\": \"blue\", \"opacity\": 0.75}, viewer=(0, 0)\n",
    ")\n",
    "viewer.addVolumetricData(\n",
    "    cube, \"cube\", {\"isoval\": 0.02, \"color\": \"red\", \"opacity\": 0.75}, viewer=(0, 0)\n",
    ")\n",
    "viewer.rotate(-45, \"x\", viewer=(0, 0))\n",
    "\n",
    "# LUMO\n",
    "with open(\"../../img/vis/water_LUMO.cube\", \"r\") as f:\n",
    "    cube = f.read()\n",
    "viewer.addModel(cube, \"cube\", viewer=(0, 1))\n",
    "viewer.setStyle({\"stick\": {}}, viewer=(0, 1))\n",
    "viewer.addVolumetricData(\n",
    "    cube, \"cube\", {\"isoval\": -0.02, \"color\": \"blue\", \"opacity\": 0.75}, viewer=(0, 1)\n",
    ")\n",
    "viewer.addVolumetricData(\n",
    "    cube, \"cube\", {\"isoval\": 0.02, \"color\": \"red\", \"opacity\": 0.75}, viewer=(0, 1)\n",
    ")\n",
    "viewer.rotate(-45, \"x\", viewer=(0, 1))\n",
    "\n",
    "# Alpha density\n",
    "with open(\"../../img/vis/water_a_density.cube\", \"r\") as f:\n",
    "    cube = f.read()\n",
    "viewer.addModel(cube, \"cube\", viewer=(0, 2))\n",
    "viewer.setStyle({\"stick\": {}}, viewer=(0, 2))\n",
    "viewer.addVolumetricData(\n",
    "    cube, \"cube\", {\"isoval\": 0.02, \"color\": \"red\", \"opacity\": 0.75}, viewer=(0, 2)\n",
    ")\n",
    "viewer.rotate(-45, \"x\", viewer=(0, 2))\n",
    "\n",
    "viewer.show()\n",
    "```"
   ]
  },
  {
   "cell_type": "markdown",
   "id": "e886ec3e-5cf4-4bb3-a536-cad7fc7244f3",
   "metadata": {},
   "source": [
    "![HOMO, LUMO and density of water](../../img/visualize/water-homo-lumo-dens.png)"
   ]
  },
  {
   "cell_type": "markdown",
   "id": "70629acb-e308-4997-8c57-d6e44f19d2e4",
   "metadata": {},
   "source": [
    "## Radial distribution\n",
    "\n",
    "In order to illustrate radial distributions, we consider the neon atom with a double-zeta basis set:"
   ]
  },
  {
   "cell_type": "code",
   "execution_count": 5,
   "id": "04dbf0ed-a8d0-443b-be55-c7266d7d6601",
   "metadata": {
    "tags": [
     "remove-output"
    ]
   },
   "outputs": [
    {
     "name": "stdout",
     "output_type": "stream",
     "text": [
      "                                                                                                                          \n",
      "                                            Self Consistent Field Driver Setup                                            \n",
      "                                           ====================================                                           \n",
      "                                                                                                                          \n",
      "                   Wave Function Model             : Spin-Restricted Hartree-Fock                                         \n",
      "                   Initial Guess Model             : Superposition of Atomic Densities                                    \n",
      "                   Convergence Accelerator         : Two Level Direct Inversion of Iterative Subspace                     \n",
      "                   Max. Number of Iterations       : 50                                                                   \n",
      "                   Max. Number of Error Vectors    : 10                                                                   \n",
      "                   Convergence Threshold           : 1.0e-06                                                              \n",
      "                   ERI Screening Scheme            : Cauchy Schwarz + Density                                             \n",
      "                   ERI Screening Mode              : Dynamic                                                              \n",
      "                   ERI Screening Threshold         : 1.0e-12                                                              \n",
      "                   Linear Dependence Threshold     : 1.0e-06                                                              \n",
      "                                                                                                                          \n",
      "* Info * Nuclear repulsion energy: 0.0000000000 a.u.                                                                      \n",
      "                                                                                                                          \n",
      "* Info * Overlap matrix computed in 0.00 sec.                                                                             \n",
      "                                                                                                                          \n",
      "* Info * Kinetic energy matrix computed in 0.00 sec.                                                                      \n",
      "                                                                                                                          \n",
      "* Info * Nuclear potential matrix computed in 0.00 sec.                                                                   \n",
      "                                                                                                                          \n",
      "* Info * Orthogonalization matrix computed in 0.00 sec.                                                                   \n",
      "                                                                                                                          \n",
      "* Info * SAD initial guess computed in 0.00 sec.                                                                          \n",
      "                                                                                                                          \n",
      "* Info * Starting Reduced Basis SCF calculation...                                                                        \n",
      "* Info * ...done. SCF energy in reduced basis set: -128.488775551740 a.u. Time: 0.02 sec.                                 \n",
      "                                                                                                                          \n",
      "* Info * Overlap matrix computed in 0.00 sec.                                                                             \n",
      "                                                                                                                          \n",
      "* Info * Kinetic energy matrix computed in 0.00 sec.                                                                      \n",
      "                                                                                                                          \n",
      "* Info * Nuclear potential matrix computed in 0.00 sec.                                                                   \n",
      "                                                                                                                          \n",
      "* Info * Orthogonalization matrix computed in 0.00 sec.                                                                   \n",
      "                                                                                                                          \n",
      "                                                                                                                          \n",
      "               Iter. | Hartree-Fock Energy | Energy Change | Gradient Norm | Max. Gradient | Density Change               \n",
      "               --------------------------------------------------------------------------------------------               \n",
      "                  1      -128.488775551741    0.0000000000      0.00000128      0.00000024      0.00000000                \n",
      "                  2      -128.488775551741   -0.0000000000      0.00000011      0.00000004      0.00000021                \n",
      "                                                                                                                          \n",
      "               *** SCF converged in 2 iterations. Time: 0.42 sec.                                                         \n",
      "                                                                                                                          \n",
      "               Spin-Restricted Hartree-Fock:                                                                              \n",
      "               -----------------------------                                                                              \n",
      "               Total Energy                       :     -128.4887755517 a.u.                                              \n",
      "               Electronic Energy                  :     -128.4887755517 a.u.                                              \n",
      "               Nuclear Repulsion Energy           :        0.0000000000 a.u.                                              \n",
      "               ------------------------------------                                                                       \n",
      "               Gradient Norm                      :        0.0000001120 a.u.                                              \n",
      "                                                                                                                          \n",
      "                                                                                                                          \n",
      "               Ground State Information                                                                                   \n",
      "               ------------------------                                                                                   \n",
      "               Charge of Molecule            :  0.0                                                                       \n",
      "               Multiplicity (2S+1)           :  1.0                                                                       \n",
      "               Magnetic Quantum Number (M_S) :  0.0                                                                       \n",
      "                                                                                                                          \n",
      "                                                                                                                          \n",
      "                                                 Spin Restricted Orbitals                                                 \n",
      "                                                 ------------------------                                                 \n",
      "                                                                                                                          \n",
      "               Molecular Orbital No.   1:                                                                                 \n",
      "               --------------------------                                                                                 \n",
      "               Occupation: 2.000 Energy:  -32.76564 a.u.                                                                  \n",
      "               (   1 Ne  1s  :    -1.00)                                                                                  \n",
      "                                                                                                                          \n",
      "               Molecular Orbital No.   2:                                                                                 \n",
      "               --------------------------                                                                                 \n",
      "               Occupation: 2.000 Energy:   -1.91880 a.u.                                                                  \n",
      "               (   1 Ne  2s  :     0.52) (   1 Ne  3s  :     0.57)                                                        \n",
      "                                                                                                                          \n",
      "               Molecular Orbital No.   3:                                                                                 \n",
      "               --------------------------                                                                                 \n",
      "               Occupation: 2.000 Energy:   -0.83210 a.u.                                                                  \n",
      "               (   1 Ne  1p-1:    -0.68) (   1 Ne  2p-1:    -0.45)                                                        \n",
      "                                                                                                                          \n",
      "               Molecular Orbital No.   4:                                                                                 \n",
      "               --------------------------                                                                                 \n",
      "               Occupation: 2.000 Energy:   -0.83210 a.u.                                                                  \n",
      "               (   1 Ne  1p+1:     0.67) (   1 Ne  1p0 :    -0.15) (   1 Ne  2p+1:     0.44)                              \n",
      "                                                                                                                          \n",
      "               Molecular Orbital No.   5:                                                                                 \n",
      "               --------------------------                                                                                 \n",
      "               Occupation: 2.000 Energy:   -0.83210 a.u.                                                                  \n",
      "               (   1 Ne  1p+1:     0.17) (   1 Ne  1p0 :     0.66) (   1 Ne  2p0 :     0.43)                              \n",
      "                                                                                                                          \n",
      "               Molecular Orbital No.   6:                                                                                 \n",
      "               --------------------------                                                                                 \n",
      "               Occupation: 0.000 Energy:    1.69456 a.u.                                                                  \n",
      "               (   1 Ne  1p+1:     0.79) (   1 Ne  1p-1:     0.19) (   1 Ne  1p0 :     0.41)                              \n",
      "               (   1 Ne  2p+1:    -0.91) (   1 Ne  2p-1:    -0.22) (   1 Ne  2p0 :    -0.47)                              \n",
      "                                                                                                                          \n",
      "               Molecular Orbital No.   7:                                                                                 \n",
      "               --------------------------                                                                                 \n",
      "               Occupation: 0.000 Energy:    1.69456 a.u.                                                                  \n",
      "               (   1 Ne  1p+1:     0.40) (   1 Ne  1p0 :    -0.81) (   1 Ne  2p+1:    -0.46)                              \n",
      "               (   1 Ne  2p0 :     0.93)                                                                                  \n",
      "                                                                                                                          \n",
      "               Molecular Orbital No.   8:                                                                                 \n",
      "               --------------------------                                                                                 \n",
      "               Occupation: 0.000 Energy:    1.69456 a.u.                                                                  \n",
      "               (   1 Ne  1p+1:    -0.21) (   1 Ne  1p-1:     0.88) (   1 Ne  2p+1:     0.24)                              \n",
      "               (   1 Ne  2p-1:    -1.02)                                                                                  \n",
      "                                                                                                                          \n",
      "               Molecular Orbital No.   9:                                                                                 \n",
      "               --------------------------                                                                                 \n",
      "               Occupation: 0.000 Energy:    2.15942 a.u.                                                                  \n",
      "               (   1 Ne  1s  :    -0.62) (   1 Ne  2s  :    -1.54) (   1 Ne  3s  :     1.52)                              \n",
      "                                                                                                                          \n",
      "               Molecular Orbital No.  10:                                                                                 \n",
      "               --------------------------                                                                                 \n",
      "               Occupation: 0.000 Energy:    5.19671 a.u.                                                                  \n",
      "               (   1 Ne  1d+1:     0.47) (   1 Ne  1d-1:    -0.37) (   1 Ne  1d-2:     0.80)                              \n",
      "                                                                                                                          \n"
     ]
    }
   ],
   "source": [
    "mol_str = \"\"\"\n",
    "Ne        0.00000000    0.00000000    0.00000000\n",
    "\"\"\"\n",
    "molecule = vlx.Molecule.read_str(mol_str)\n",
    "basis = vlx.MolecularBasis.read(molecule, \"cc-pVDZ\")\n",
    "\n",
    "scf_drv = vlx.ScfRestrictedDriver()\n",
    "scf_drv.compute(molecule, basis)"
   ]
  },
  {
   "cell_type": "markdown",
   "id": "7bc467a8-1fc5-4a7f-834e-a5ffe80517c1",
   "metadata": {},
   "source": [
    "### Valence orbitals\n",
    "\n",
    "Considering the occupied MOs along the z-axis:"
   ]
  },
  {
   "cell_type": "code",
   "execution_count": 6,
   "id": "b398ed50-1f53-424f-b72b-40be92273b14",
   "metadata": {},
   "outputs": [],
   "source": [
    "vis_drv = vlx.VisualizationDriver()\n",
    "\n",
    "mol_orbs = scf_drv.mol_orbs\n",
    "# define the coordinates (in Bohr) for which you wish values of orbitals\n",
    "n = 100\n",
    "coords = np.zeros((n, 3))\n",
    "r = np.linspace(0, 2, n)\n",
    "coords[:, 2] = r  # radial points along the z-axis\n",
    "\n",
    "# get the values of orbitals\n",
    "mo_1s = np.array(vis_drv.get_mo(coords, molecule, basis, mol_orbs, 0, \"alpha\"))\n",
    "mo_2s = np.array(vis_drv.get_mo(coords, molecule, basis, mol_orbs, 1, \"alpha\"))\n",
    "mo_2p_1 = np.array(vis_drv.get_mo(coords, molecule, basis, mol_orbs, 2, \"alpha\"))\n",
    "mo_2p_2 = np.array(vis_drv.get_mo(coords, molecule, basis, mol_orbs, 3, \"alpha\"))\n",
    "mo_2p_3 = np.array(vis_drv.get_mo(coords, molecule, basis, mol_orbs, 4, \"alpha\"))\n",
    "\n",
    "# adjust signs\n",
    "mo_1s = np.sign(mo_1s[10]) * mo_1s\n",
    "mo_2s = np.sign(mo_2s[10]) * mo_2s\n",
    "mo_2p_1 = np.sign(mo_2p_1[10]) * mo_2p_1\n",
    "mo_2p_2 = np.sign(mo_2p_2[10]) * mo_2p_2\n",
    "mo_2p_3 = np.sign(mo_2p_3[10]) * mo_2p_3"
   ]
  },
  {
   "cell_type": "code",
   "execution_count": 7,
   "id": "c0c6c57a-269e-4dfc-ad29-e6f1f42c23f2",
   "metadata": {},
   "outputs": [
    {
     "data": {
      "image/png": "[encoded data removed]",
      "text/plain": [
       "<Figure size 576x432 with 1 Axes>"
      ]
     },
     "metadata": {
      "needs_background": "light"
     },
     "output_type": "display_data"
    }
   ],
   "source": [
    "fig = plt.figure(1, figsize=(8, 6))\n",
    "\n",
    "plt.plot(r, mo_1s, r, mo_2s, r, mo_2p_1, r, mo_2p_2, r, mo_2p_3)\n",
    "\n",
    "plt.axhline(y=0.0, color=\"0.5\", linewidth=0.7, dashes=[3, 1, 3, 1])\n",
    "plt.setp(plt.gca(), xlim=(0, 2), ylim=(-1, 6))\n",
    "plt.legend(\n",
    "    [r\"$1s$\", r\"$2s$\", r\"$2p_1$\", r\"$2p_2$\", r\"$2p_3$\"],\n",
    "    loc=\"upper right\",\n",
    "    frameon=False,\n",
    ")\n",
    "\n",
    "plt.title(r\"Valence orbitals of Neon\")\n",
    "plt.xlabel(r\"Distance to nucleus (Bohr)\")\n",
    "plt.ylabel(r\"Orbital value (a.u.)\")\n",
    "\n",
    "plt.show()"
   ]
  },
  {
   "cell_type": "markdown",
   "id": "b52eae86-600c-4cb8-b922-2a1dfb1041cc",
   "metadata": {},
   "source": [
    "### Atomic sub-shell densities\n",
    "\n",
    "Looking at the densities of different sub-shells, we obtain:"
   ]
  },
  {
   "cell_type": "code",
   "execution_count": 8,
   "id": "a28da767-4eec-42ee-bb06-cc05db8b833e",
   "metadata": {},
   "outputs": [
    {
     "data": {
      "image/png": "[encoded data removed]",
      "text/plain": [
       "<Figure size 576x432 with 1 Axes>"
      ]
     },
     "metadata": {
      "needs_background": "light"
     },
     "output_type": "display_data"
    }
   ],
   "source": [
    "fig = plt.figure(2, figsize=(8, 6))\n",
    "\n",
    "# additional factor of 2 from alpha and beta spin orbitals\n",
    "rad_den_1s = 4 * np.pi * r ** 2 * 2 * mo_1s ** 2\n",
    "rad_den_2s = 4 * np.pi * r ** 2 * 2 * mo_2s ** 2\n",
    "rad_den_2p = 4 * np.pi * r ** 2 * 2 * (mo_2p_1 ** 2 + mo_2p_2 ** 2 + mo_2p_3 ** 2)\n",
    "\n",
    "plt.plot(r, rad_den_1s, r, rad_den_2s, r, rad_den_2p)\n",
    "\n",
    "plt.axhline(y=0.0, color=\"0.5\", linewidth=0.7, dashes=[3, 1, 3, 1])\n",
    "plt.setp(plt.gca(), xlim=(0, 2), ylim=(0.0, 10.5))\n",
    "plt.legend([r\"$1s$\", r\"$2s$\", r\"$2p$\"], loc=\"upper right\", frameon=False)\n",
    "\n",
    "plt.title(r\"Subshell radial densities in neon\")\n",
    "plt.xlabel(r\"Distance to nucleus (Bohr)\")\n",
    "plt.ylabel(r\"Radial densities (a.u.)\")\n",
    "\n",
    "plt.show()"
   ]
  }
 ],
 "metadata": {
  "kernelspec": {
   "display_name": "Python 3 (ipykernel)",
   "language": "python",
   "name": "python3"
  },
  "language_info": {
   "codemirror_mode": {
    "name": "ipython",
    "version": 3
   },
   "file_extension": ".py",
   "mimetype": "text/x-python",
   "name": "python",
   "nbconvert_exporter": "python",
   "pygments_lexer": "ipython3",
   "version": "3.9.12"
  }
 },
 "nbformat": 4,
 "nbformat_minor": 5
}
