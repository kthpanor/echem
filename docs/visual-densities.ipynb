{
 "cells": [
  {
   "cell_type": "markdown",
   "id": "furnished-sleeve",
   "metadata": {},
   "source": [
    "#  Reduced particle densities\n",
    "\n",
    "## One-particle density\n",
    "The one-particle density can be written as an expectation of a one-electron operator according to\n",
    "\n",
    "$$\n",
    "n(\\mathbf{r}) =\n",
    "\\langle \\Psi | \\hat{n}(\\mathbf{r}) | \\Psi \\rangle\n",
    "$$\n",
    "\n",
    "with\n",
    "\n",
    "$$\n",
    "\\hat{n}(\\mathbf{r}) = \n",
    "\\sum_{i=1}^N\n",
    "\\delta(\\mathbf{r} - \\mathbf{r}_i)\n",
    "$$\n",
    "\n",
    "For an $N$-electron system in a state described by a Slater determinant, the one-electron density becomes\n",
    "\n",
    "$$\n",
    "n(\\mathbf{r}) = \\sum_{i=1}^N |\\psi_i(\\mathbf{r})|^2\n",
    "$$\n",
    "\n",
    "where the summation run over the $N$ occupied spin orbitals."
   ]
  },
  {
   "cell_type": "code",
   "execution_count": 1,
   "id": "confidential-psychiatry",
   "metadata": {
    "tags": [
     "remove-output"
    ]
   },
   "outputs": [
    {
     "name": "stdout",
     "output_type": "stream",
     "text": [
      "* Warning * Environment variable OMP_NUM_THREADS not set.\n",
      "* Warning * Setting OMP_NUM_THREADS to 8.\n"
     ]
    }
   ],
   "source": [
    "import veloxchem as vlx\n",
    "import matplotlib.pyplot as plt\n",
    "import numpy as np"
   ]
  },
  {
   "cell_type": "code",
   "execution_count": 2,
   "id": "97993553",
   "metadata": {
    "tags": [
     "remove-output"
    ]
   },
   "outputs": [
    {
     "name": "stdout",
     "output_type": "stream",
     "text": [
      "                                                                                                                          \n",
      "                                            Self Consistent Field Driver Setup                                            \n",
      "                                           ====================================                                           \n",
      "                                                                                                                          \n",
      "                   Wave Function Model             : Spin-Restricted Hartree-Fock                                         \n",
      "                   Initial Guess Model             : Superposition of Atomic Densities                                    \n",
      "                   Convergence Accelerator         : Two Level Direct Inversion of Iterative Subspace                     \n",
      "                   Max. Number of Iterations       : 50                                                                   \n",
      "                   Max. Number of Error Vectors    : 10                                                                   \n",
      "                   Convergence Threshold           : 1.0e-06                                                              \n",
      "                   ERI Screening Scheme            : Cauchy Schwarz + Density                                             \n",
      "                   ERI Screening Mode              : Dynamic                                                              \n",
      "                   ERI Screening Threshold         : 1.0e-12                                                              \n",
      "                   Linear Dependence Threshold     : 1.0e-06                                                              \n",
      "                                                                                                                          \n",
      "* Info * Nuclear repulsion energy: 17.7625916952 au                                                                       \n",
      "                                                                                                                          \n",
      "* Info * Overlap matrix computed in 0.00 sec.                                                                             \n",
      "                                                                                                                          \n",
      "* Info * Kinetic energy matrix computed in 0.00 sec.                                                                      \n",
      "                                                                                                                          \n",
      "* Info * Nuclear potential matrix computed in 0.00 sec.                                                                   \n",
      "                                                                                                                          \n",
      "* Info * Orthogonalization matrix computed in 0.00 sec.                                                                   \n",
      "                                                                                                                          \n",
      "* Info * SAD initial guess computed in 0.00 sec.                                                                          \n",
      "                                                                                                                          \n",
      "* Info * Starting Reduced Basis SCF calculation...                                                                        \n",
      "* Info * ...done. SCF energy in reduced basis set: -112.550254501421 au. Time: 0.05 sec.                                  \n",
      "                                                                                                                          \n",
      "* Info * Overlap matrix computed in 0.00 sec.                                                                             \n",
      "                                                                                                                          \n",
      "* Info * Kinetic energy matrix computed in 0.00 sec.                                                                      \n",
      "                                                                                                                          \n",
      "* Info * Nuclear potential matrix computed in 0.00 sec.                                                                   \n",
      "                                                                                                                          \n",
      "* Info * Orthogonalization matrix computed in 0.00 sec.                                                                   \n",
      "                                                                                                                          \n",
      "                                                                                                                          \n",
      "               Iter. | Hartree-Fock Energy | Energy Change | Gradient Norm | Max. Gradient | Density Change               \n",
      "               --------------------------------------------------------------------------------------------               \n",
      "                  1      -112.550282715027    0.0000000000      0.00045670      0.00008188      0.00000000                \n",
      "                  2      -112.550282695773    0.0000000193      0.00069758      0.00011229      0.00027595                \n",
      "                  3      -112.550282748293   -0.0000000525      0.00006156      0.00001587      0.00014510                \n",
      "                  4      -112.550282750205   -0.0000000019      0.00001261      0.00000233      0.00006962                \n",
      "                  5      -112.550282750287   -0.0000000001      0.00000444      0.00000073      0.00001311                \n",
      "                  6      -112.550282750290   -0.0000000000      0.00000029      0.00000005      0.00000225                \n",
      "                                                                                                                          \n",
      "               *** SCF converged in 6 iterations. Time: 0.06 sec.                                                         \n",
      "                                                                                                                          \n",
      "               Spin-Restricted Hartree-Fock:                                                                              \n",
      "               -----------------------------                                                                              \n",
      "               Total Energy                       :     -112.5502827503 au                                                \n",
      "               Electronic Energy                  :     -130.3128744455 au                                                \n",
      "               Nuclear Repulsion Energy           :       17.7625916952 au                                                \n",
      "               ------------------------------------                                                                       \n",
      "               Gradient Norm                      :        0.0000002898 au                                                \n",
      "                                                                                                                          \n",
      "               Ground State Information                                                                                   \n",
      "               ------------------------                                                                                   \n",
      "               Charge of Molecule            :  0.0                                                                       \n",
      "               Multiplicity (2S+1)           :  1.0                                                                       \n",
      "               Magnetic Quantum Number (M_S) :  0.0                                                                       \n",
      "                                                                                                                          \n",
      "                                                                                                                          \n",
      "                                                 Spin Restricted Orbitals                                                 \n",
      "                                                 ------------------------                                                 \n",
      "                                                                                                                          \n",
      "               Molecular Orbital No.   3:                                                                                 \n",
      "               --------------------------                                                                                 \n",
      "               Occupation: 2.0 Energy:   -1.36474 au                                                                      \n",
      "               (   1 C   2s  :    -0.18) (   2 O   1s  :     0.21) (   2 O   2s  :    -0.46)                              \n",
      "               (   2 O   3s  :    -0.50)                                                                                  \n",
      "                                                                                                                          \n",
      "               Molecular Orbital No.   4:                                                                                 \n",
      "               --------------------------                                                                                 \n",
      "               Occupation: 2.0 Energy:   -0.79224 au                                                                      \n",
      "               (   1 C   1s  :     0.18) (   1 C   2s  :    -0.44) (   1 C   3s  :    -0.39)                              \n",
      "               (   2 O   2s  :     0.24) (   2 O   3s  :     0.32) (   2 O   1p0 :     0.30)                              \n",
      "               (   2 O   2p0 :     0.16)                                                                                  \n",
      "                                                                                                                          \n",
      "               Molecular Orbital No.   5:                                                                                 \n",
      "               --------------------------                                                                                 \n",
      "               Occupation: 2.0 Energy:   -0.54597 au                                                                      \n",
      "               (   1 C   2s  :     0.17) (   1 C   3s  :     0.44) (   1 C   1p0 :    -0.46)                              \n",
      "               (   2 O   1p0 :     0.41) (   2 O   2p0 :     0.30)                                                        \n",
      "                                                                                                                          \n",
      "               Molecular Orbital No.   6:                                                                                 \n",
      "               --------------------------                                                                                 \n",
      "               Occupation: 2.0 Energy:   -0.53538 au                                                                      \n",
      "               (   1 C   1p-1:    -0.24) (   1 C   2p-1:    -0.17) (   2 O   1p-1:    -0.56)                              \n",
      "               (   2 O   2p-1:    -0.42)                                                                                  \n",
      "                                                                                                                          \n",
      "               Molecular Orbital No.   7:                                                                                 \n",
      "               --------------------------                                                                                 \n",
      "               Occupation: 2.0 Energy:   -0.53538 au                                                                      \n",
      "               (   1 C   1p+1:    -0.24) (   1 C   2p+1:    -0.17) (   2 O   1p+1:    -0.56)                              \n",
      "               (   2 O   2p+1:    -0.42)                                                                                  \n",
      "                                                                                                                          \n",
      "               Molecular Orbital No.   8:                                                                                 \n",
      "               --------------------------                                                                                 \n",
      "               Occupation: 0.0 Energy:    0.04024 au                                                                      \n",
      "               (   1 C   1p+1:     0.37) (   1 C   1p-1:     0.35) (   1 C   2p+1:     0.44)                              \n",
      "               (   1 C   2p-1:     0.41) (   2 O   1p+1:    -0.24) (   2 O   1p-1:    -0.22)                              \n",
      "               (   2 O   2p+1:    -0.26) (   2 O   2p-1:    -0.24)                                                        \n",
      "                                                                                                                          \n",
      "               Molecular Orbital No.   9:                                                                                 \n",
      "               --------------------------                                                                                 \n",
      "               Occupation: 0.0 Energy:    0.04024 au                                                                      \n",
      "               (   1 C   1p+1:    -0.35) (   1 C   1p-1:     0.37) (   1 C   2p+1:    -0.41)                              \n",
      "               (   1 C   2p-1:     0.44) (   2 O   1p+1:     0.22) (   2 O   1p-1:    -0.24)                              \n",
      "               (   2 O   2p+1:     0.24) (   2 O   2p-1:    -0.26)                                                        \n",
      "                                                                                                                          \n",
      "               Molecular Orbital No.  10:                                                                                 \n",
      "               --------------------------                                                                                 \n",
      "               Occupation: 0.0 Energy:    0.31529 au                                                                      \n",
      "               (   1 C   3s  :    -1.06) (   1 C   1p0 :    -0.35) (   1 C   2p0 :    -1.30)                              \n",
      "               (   2 O   2s  :     0.16) (   2 O   3s  :     1.15) (   2 O   1p0 :    -0.36)                              \n",
      "               (   2 O   2p0 :    -0.83)                                                                                  \n",
      "                                                                                                                          \n",
      "               Molecular Orbital No.  11:                                                                                 \n",
      "               --------------------------                                                                                 \n",
      "               Occupation: 0.0 Energy:    0.71024 au                                                                      \n",
      "               (   1 C   2s  :    -0.37) (   1 C   3s  :     0.59) (   1 C   1p0 :    -1.06)                              \n",
      "               (   1 C   2p0 :     1.34) (   2 O   3s  :    -0.70) (   2 O   1p0 :    -0.31)                              \n",
      "                                                                                                                          \n",
      "               Molecular Orbital No.  12:                                                                                 \n",
      "               --------------------------                                                                                 \n",
      "               Occupation: 0.0 Energy:    0.71876 au                                                                      \n",
      "               (   1 C   1p+1:     1.08) (   1 C   2p+1:    -1.13)                                                        \n",
      "                                                                                                                          \n"
     ]
    }
   ],
   "source": [
    "mol_str = \"\"\"\n",
    "C        0.00000000    0.00000000    0.00000000\n",
    "O        0.00000000    0.00000000    1.43\n",
    "\"\"\"\n",
    "molecule = vlx.Molecule.read_str(mol_str, units='angstrom')\n",
    "basis = vlx.MolecularBasis.read(molecule, '6-31g')\n",
    "\n",
    "scf_drv = vlx.ScfRestrictedDriver()\n",
    "scf_drv.compute(molecule, basis)\n",
    "\n",
    "density = scf_drv.density"
   ]
  },
  {
   "cell_type": "code",
   "execution_count": 12,
   "id": "e2c89f71",
   "metadata": {},
   "outputs": [],
   "source": [
    "vis_drv = vlx.VisualizationDriver()\n",
    "\n",
    "# list of coordinates in units of Bohr\n",
    "n = 100\n",
    "coords = np.zeros((n,3))\n",
    "z = np.linspace(-1,4,n)\n",
    "coords[:,2] = z\n",
    "\n",
    "mo = 0\n",
    "one_part_den = vis_drv.get_density(coords, molecule, basis, density, mo, 'alpha')"
   ]
  },
  {
   "cell_type": "code",
   "execution_count": 13,
   "id": "bc5575a9",
   "metadata": {},
   "outputs": [
    {
     "data": {
      "image/png": "[encoded data removed]",
      "text/plain": [
       "<Figure size 576x432 with 1 Axes>"
      ]
     },
     "metadata": {
      "needs_background": "light"
     },
     "output_type": "display_data"
    }
   ],
   "source": [
    "fig = plt.figure(1, figsize=(8,6))\n",
    "\n",
    "plt.plot(z, one_part_den)\n",
    "\n",
    "plt.axhline(y=0.0, color='0.5', linewidth = 0.7, dashes = [3,1,3,1])\n",
    "plt.setp(plt.gca(), xlim = (-1,4), ylim = (0,140))\n",
    "plt.legend([r'$n(z)$'], loc = 'upper right', frameon = False)\n",
    "\n",
    "plt.title(r'Carbon monoxide')\n",
    "plt.xlabel(r'Internuclear axis coordinate (Bohr)')\n",
    "plt.ylabel(r'One-particle density (a.u.)')\n",
    "\n",
    "plt.show()"
   ]
  },
  {
   "cell_type": "markdown",
   "id": "0aec6a83",
   "metadata": {},
   "source": [
    "## Two-particle density\n",
    "The one-particle density can be written as an expectation of a two-electron operator according to\n",
    "\n",
    "$$\n",
    "n(\\mathbf{r}, \\mathbf{r}') =\n",
    "\\langle \\Psi | \\hat{n}(\\mathbf{r}, \\mathbf{r}') | \\Psi \\rangle\n",
    "$$\n",
    "\n",
    "with\n",
    "\n",
    "$$\n",
    "\\hat{n}(\\mathbf{r}, \\mathbf{r}') = \n",
    "\\sum_{j>i}^N \\left[\n",
    "\\delta(\\mathbf{r} - \\mathbf{r}_i) \\delta(\\mathbf{r}' - \\mathbf{r}_j)\n",
    "+\n",
    "\\delta(\\mathbf{r} - \\mathbf{r}_j) \\delta(\\mathbf{r}' - \\mathbf{r}_i)\n",
    "\\right]\n",
    "$$\n",
    "\n",
    "For an $N$-electron system in a state described by a Slater determinant, the two-electron density becomes\n",
    "\n",
    "$$\n",
    "n(\\mathbf{r}_1, \\mathbf{r}_2)\n",
    "= \\sum_{i=1}^N\n",
    "\\sum_{j=1}^N \n",
    "\\left[\\rule{0pt}{12pt}\n",
    "|\\psi_i(\\mathbf{r}_1)|^2\n",
    "|\\psi_j(\\mathbf{r}_2)|^2\n",
    "-\n",
    "\\psi_i^\\dagger(\\mathbf{r}_1)\n",
    "\\psi_j^\\dagger(\\mathbf{r}_2)\n",
    "\\psi_j(\\mathbf{r}_1)\n",
    "\\psi_i(\\mathbf{r}_2)\n",
    "\\right]\n",
    "$$\n",
    "\n",
    "where the summations run over the $N$ occupied spin orbitals.\n"
   ]
  },
  {
   "cell_type": "markdown",
   "id": "9e1d81b8",
   "metadata": {},
   "source": [
    "## Illustration of electron correlation"
   ]
  },
  {
   "cell_type": "markdown",
   "id": "9caff74f",
   "metadata": {},
   "source": [
    "### Hartree--Fock state for hydrogen molecule"
   ]
  },
  {
   "cell_type": "code",
   "execution_count": 3,
   "id": "creative-drove",
   "metadata": {
    "tags": [
     "remove-output"
    ]
   },
   "outputs": [
    {
     "name": "stdout",
     "output_type": "stream",
     "text": [
      "                                                                                                                          \n",
      "                                            Self Consistent Field Driver Setup                                            \n",
      "                                           ====================================                                           \n",
      "                                                                                                                          \n",
      "                   Wave Function Model             : Spin-Restricted Hartree-Fock                                         \n",
      "                   Initial Guess Model             : Superposition of Atomic Densities                                    \n",
      "                   Convergence Accelerator         : Two Level Direct Inversion of Iterative Subspace                     \n",
      "                   Max. Number of Iterations       : 50                                                                   \n",
      "                   Max. Number of Error Vectors    : 10                                                                   \n",
      "                   Convergence Threshold           : 1.0e-06                                                              \n",
      "                   ERI Screening Scheme            : Cauchy Schwarz + Density                                             \n",
      "                   ERI Screening Mode              : Dynamic                                                              \n",
      "                   ERI Screening Threshold         : 1.0e-12                                                              \n",
      "                   Linear Dependence Threshold     : 1.0e-06                                                              \n",
      "                                                                                                                          \n",
      "* Info * Nuclear repulsion energy: 0.7142857143 au                                                                        \n",
      "                                                                                                                          \n",
      "* Info * Overlap matrix computed in 0.00 sec.                                                                             \n",
      "                                                                                                                          \n",
      "* Info * Kinetic energy matrix computed in 0.00 sec.                                                                      \n",
      "                                                                                                                          \n",
      "* Info * Nuclear potential matrix computed in 0.00 sec.                                                                   \n",
      "                                                                                                                          \n",
      "* Info * Orthogonalization matrix computed in 0.01 sec.                                                                   \n",
      "                                                                                                                          \n",
      "* Info * SAD initial guess computed in 0.01 sec.                                                                          \n",
      "                                                                                                                          \n",
      "* Info * Starting Reduced Basis SCF calculation...                                                                        \n",
      "* Info * ...done. SCF energy in reduced basis set: -1.116714325063 au. Time: 0.03 sec.                                    \n",
      "                                                                                                                          \n",
      "* Info * Overlap matrix computed in 0.00 sec.                                                                             \n",
      "                                                                                                                          \n",
      "* Info * Kinetic energy matrix computed in 0.00 sec.                                                                      \n",
      "                                                                                                                          \n",
      "* Info * Nuclear potential matrix computed in 0.00 sec.                                                                   \n",
      "                                                                                                                          \n",
      "* Info * Orthogonalization matrix computed in 0.00 sec.                                                                   \n",
      "                                                                                                                          \n",
      "                                                                                                                          \n",
      "               Iter. | Hartree-Fock Energy | Energy Change | Gradient Norm | Max. Gradient | Density Change               \n",
      "               --------------------------------------------------------------------------------------------               \n",
      "                  1        -1.116714325063    0.0000000000      0.00000000      0.00000000      0.00000000                \n",
      "                                                                                                                          \n",
      "               *** SCF converged in 1 iterations. Time: 0.01 sec.                                                         \n",
      "                                                                                                                          \n",
      "               Spin-Restricted Hartree-Fock:                                                                              \n",
      "               -----------------------------                                                                              \n",
      "               Total Energy                       :       -1.1167143251 au                                                \n",
      "               Electronic Energy                  :       -1.8310000393 au                                                \n",
      "               Nuclear Repulsion Energy           :        0.7142857143 au                                                \n",
      "               ------------------------------------                                                                       \n",
      "               Gradient Norm                      :        0.0000000000 au                                                \n",
      "                                                                                                                          \n",
      "               Ground State Information                                                                                   \n",
      "               ------------------------                                                                                   \n",
      "               Charge of Molecule            :  0.0                                                                       \n",
      "               Multiplicity (2S+1)           :  1.0                                                                       \n",
      "               Magnetic Quantum Number (M_S) :  0.0                                                                       \n",
      "                                                                                                                          \n",
      "                                                                                                                          \n",
      "                                                 Spin Restricted Orbitals                                                 \n",
      "                                                 ------------------------                                                 \n",
      "                                                                                                                          \n",
      "               Molecular Orbital No.   1:                                                                                 \n",
      "               --------------------------                                                                                 \n",
      "               Occupation: 2.0 Energy:   -0.57820 au                                                                      \n",
      "               (   1 H   1s  :     0.55) (   2 H   1s  :     0.55)                                                        \n",
      "                                                                                                                          \n",
      "               Molecular Orbital No.   2:                                                                                 \n",
      "               --------------------------                                                                                 \n",
      "               Occupation: 0.0 Energy:    0.67027 au                                                                      \n",
      "               (   1 H   1s  :    -1.21) (   2 H   1s  :     1.21)                                                        \n",
      "                                                                                                                          \n"
     ]
    }
   ],
   "source": [
    "mol_str = \"\"\"\n",
    "H     0.000000    0.000000   -0.7\n",
    "H     0.000000    0.000000    0.7\n",
    "\"\"\"\n",
    "molecule = vlx.Molecule.read_str(mol_str, units='au')\n",
    "basis = vlx.MolecularBasis.read(molecule, 'sto-3g')\n",
    "\n",
    "scf_drv = vlx.ScfRestrictedDriver()\n",
    "scf_drv.compute(molecule, basis)"
   ]
  },
  {
   "cell_type": "code",
   "execution_count": 3,
   "id": "crazy-shanghai",
   "metadata": {},
   "outputs": [
    {
     "name": "stdout",
     "output_type": "stream",
     "text": [
      "Number of orbitals: 2\n"
     ]
    }
   ],
   "source": [
    "V_nrep = molecule.nuclear_repulsion_energy()\n",
    "C = scf_drv.scf_tensors['C']\n",
    "\n",
    "norb = C.shape[0]\n",
    "print('Number of orbitals:', norb)"
   ]
  },
  {
   "cell_type": "markdown",
   "id": "moderate-winning",
   "metadata": {},
   "source": [
    "### One- and two-electron integrals"
   ]
  },
  {
   "cell_type": "code",
   "execution_count": 4,
   "id": "searching-enough",
   "metadata": {},
   "outputs": [
    {
     "name": "stdout",
     "output_type": "stream",
     "text": [
      "T =\n",
      " [[0.60053975 0.        ]\n",
      " [0.         1.53685121]]\n",
      "V =\n",
      " [[-1.85333681e+00  0.00000000e+00]\n",
      " [ 2.22044605e-16 -2.01245351e+00]]\n",
      "h =\n",
      " [[-1.25279706e+00  0.00000000e+00]\n",
      " [ 2.22044605e-16 -4.75602299e-01]]\n",
      "(11|11) = 0.6746\n",
      "(22|22) = 0.6975\n",
      "(11|22) = 0.6636\n",
      "(12|12) = 0.1813\n",
      "\n",
      "Kinetic energy (a.u.):  1.201079\n",
      "Electronic-nuclear potential energy (a.u.): -3.706674\n",
      "Electron-electron repulsion energy (a.u.):  0.674594\n",
      "Nuclear repulsion energy (a.u.):  0.714286\n",
      "HF energy (a.u.): -1.116714\n"
     ]
    }
   ],
   "source": [
    "kin_drv = vlx.KineticEnergyIntegralsDriver()\n",
    "T_ao = kin_drv.compute(molecule, basis).to_numpy()\n",
    "T = np.einsum('ai, ab, bj', C, T_ao, C)\n",
    "\n",
    "npot_drv = vlx.NuclearPotentialIntegralsDriver()\n",
    "V_ao = -npot_drv.compute(molecule, basis).to_numpy()\n",
    "V = np.einsum('ai, ab, bj', C, V_ao, C)\n",
    "\n",
    "# core Hamiltonian\n",
    "h = T + V\n",
    "\n",
    "eri_drv = vlx.ElectronRepulsionIntegralsDriver()\n",
    "eri_ao = np.zeros((norb, norb, norb, norb))\n",
    "eri_drv.compute_in_mem(molecule, basis, eri_ao)\n",
    "g = np.zeros((norb, norb, norb, norb))\n",
    "g = np.einsum('abcd,ai,bj,ck,dl', eri_ao, C, C, C, C)\n",
    "\n",
    "print('T =\\n', T)\n",
    "print('V =\\n', V)\n",
    "print('h =\\n', h)\n",
    "\n",
    "print('(11|11) = %6.4f' % g[0,0,0,0])\n",
    "print('(22|22) = %6.4f' % g[1,1,1,1])\n",
    "print('(11|22) = %6.4f' % g[0,0,1,1])\n",
    "print('(12|12) = %6.4f\\n' % g[0,1,0,1])\n",
    "\n",
    "print(f'Kinetic energy (a.u.): {2 * T[0,0]: .6f}')\n",
    "print(f'Electronic-nuclear potential energy (a.u.): {2 * V[0,0]: .6f}')\n",
    "print(f'Electron-electron repulsion energy (a.u.): {g[0,0,0,0]: .6f}')\n",
    "print(f'Nuclear repulsion energy (a.u.): {V_nrep: .6f}')\n",
    "print(f'HF energy (a.u.): {2 * h[0,0] + g[0,0,0,0] + V_nrep: .6f}')"
   ]
  },
  {
   "cell_type": "markdown",
   "id": "incoming-lebanon",
   "metadata": {},
   "source": [
    "### CI doubles state"
   ]
  },
  {
   "cell_type": "code",
   "execution_count": 5,
   "id": "alpine-infrastructure",
   "metadata": {},
   "outputs": [
    {
     "name": "stdout",
     "output_type": "stream",
     "text": [
      "Hartree–Fock energy = -1.116714 (a.u.)\n",
      "Correlation energy = -0.020562 (a.u.)\n",
      "Total CID energy = -1.137276 (a.u.)\n",
      "Weights (percent):  98.73  1.27\n"
     ]
    }
   ],
   "source": [
    "H_CID = np.zeros((2,2))\n",
    "\n",
    "H_CID[0,0] = 2*h[0,0] + g[0,0,0,0]\n",
    "H_CID[1,1] = 2*h[1,1] + g[1,1,1,1]\n",
    "H_CID[0,1] = g[0,1,0,1]\n",
    "H_CID[1,0] = H_CID[0,1]\n",
    "\n",
    "# diagonalize the CID Hamiltonian\n",
    "E_CID, V_CID = np.linalg.eigh(H_CID)\n",
    "#print('CID energies = \\n', E_CID)\n",
    "#print('CID vectors =\\n', V_CID)\n",
    "\n",
    "c_HF = V_CID[0,0]\n",
    "c_uu = V_CID[1,0]\n",
    "\n",
    "print(f'Hartree–Fock energy = {H_CID[0,0] + V_nrep : .6f} (a.u.)')\n",
    "print(f'Correlation energy = {E_CID[0] - H_CID[0,0] : .6f} (a.u.)')\n",
    "print(f'Total CID energy = {E_CID[0] + V_nrep : .6f} (a.u.)')\n",
    "print(f'Weights (percent): {c_HF**2*100 : .2f} {c_uu**2*100 : .2f}')"
   ]
  },
  {
   "cell_type": "markdown",
   "id": "failing-chain",
   "metadata": {},
   "source": [
    "### Visiualization of densities"
   ]
  },
  {
   "cell_type": "code",
   "execution_count": 6,
   "id": "another-measurement",
   "metadata": {},
   "outputs": [],
   "source": [
    "# visualization\n",
    "vis_drv = vlx.VisualizationDriver()"
   ]
  },
  {
   "cell_type": "markdown",
   "id": "theoretical-facing",
   "metadata": {},
   "source": [
    "#### One-electron density\n",
    "The CID state equals\n",
    "$$\n",
    "| \\Psi \\rangle =  c_0 | \\Psi_\\mathrm{HF} \\rangle + c_1 | \\Psi_{u\\bar{u}} \\rangle\n",
    "$$\n",
    "\n",
    "For a real-valued wave function, we get\n",
    "$$\n",
    "n(\\mathbf{r}, \\mathbf{r}') = \n",
    "c_0^2 \\langle \\Psi_\\mathrm{HF} | \\hat{n} | \\Psi_\\mathrm{HF} \\rangle\n",
    "+\n",
    "c_1^2 \\langle \\Psi_{u\\bar{u}} | \\hat{n} | \\Psi_{u\\bar{u}} \\rangle\n",
    "+\n",
    "2 c_0 c_1 \\langle \\Psi_\\mathrm{HF} | \\hat{n} | \\Psi_{u\\bar{u}} \\rangle\n",
    "$$\n",
    "\n",
    "The general relations for matrix elements of a one-electron operator can now be used\n",
    "\\begin{align*}\n",
    "    \\langle \\Psi | \\hat{\\Omega} | \\Psi \\rangle &=\n",
    "   \\sum_{i=1}^N\n",
    "    \\langle i| \\hat{\\omega} |i \\rangle\n",
    "    \\\\\n",
    "    \\langle \\Psi | \\hat{\\Omega} | \\Psi_{ij}^{st} \\rangle &= 0\n",
    "\\end{align*}\n",
    "\n",
    "In our case, we get\n",
    "$$\n",
    "\\langle \\Psi_\\mathrm{HF} | \\hat{\\Omega} | \\Psi_\\mathrm{HF} \\rangle =\n",
    "2 (g| \\hat{\\omega} |g)\n",
    "$$\n",
    "$$\n",
    "\\langle \\Psi_{u\\bar{u}} | \\hat{\\Omega}| \\Psi_{u\\bar{u}} \\rangle =\n",
    "2 (u| \\hat{\\omega} |u)\n",
    "$$\n",
    "$$\n",
    "\\langle \\Psi_\\mathrm{HF} | \\hat{\\Omega} | \\Psi_{u\\bar{u}} \\rangle = 0\n",
    "$$"
   ]
  },
  {
   "cell_type": "code",
   "execution_count": 7,
   "id": "dangerous-scope",
   "metadata": {},
   "outputs": [],
   "source": [
    "# mo values at given coordinates\n",
    "mol_orbs = scf_drv.mol_orbs\n",
    "\n",
    "n = 100\n",
    "coords = np.zeros((n,3))\n",
    "coords[:,2] = np.linspace(-3, 3, n, endpoint=True)\n",
    "\n",
    "sigma_g = np.array(vis_drv.get_mo(coords, molecule, basis, mol_orbs, 0, 'alpha'))\n",
    "sigma_u = np.array(vis_drv.get_mo(coords, molecule, basis, mol_orbs, 1, 'alpha'))\n",
    "\n",
    "n1_HF = 2 * sigma_g**2\n",
    "n1_CID = 2 * (c_HF**2 * sigma_g**2 + c_uu**2 * sigma_u**2)"
   ]
  },
  {
   "cell_type": "code",
   "execution_count": 11,
   "id": "three-provider",
   "metadata": {},
   "outputs": [
    {
     "data": {
      "image/png": "[encoded data removed]",
      "text/plain": [
       "<Figure size 432x288 with 1 Axes>"
      ]
     },
     "metadata": {
      "needs_background": "light"
     },
     "output_type": "display_data"
    }
   ],
   "source": [
    "fig = plt.figure(1)\n",
    "plt.axes()\n",
    "plt.plot(coords[:,2], n1_HF)\n",
    "plt.plot(coords[:,2], n1_CID)\n",
    "\n",
    "Hz = vlx.Molecule.get_coordinates(molecule)[1,2] # z-coord of atom 2\n",
    "\n",
    "plt.axvline(x=Hz, color='0.5', linewidth = 0.7, dashes = [3,1,3,1])\n",
    "plt.axvline(x=-Hz, color='0.5', linewidth = 0.7, dashes = [3,1,3,1])\n",
    "plt.setp(plt.gca(), xlim = (-3,3), ylim = (0,0.4))\n",
    "\n",
    "plt.show()"
   ]
  },
  {
   "cell_type": "markdown",
   "id": "formed-albert",
   "metadata": {},
   "source": [
    "#### Two-particle density\n",
    "The CID state equals\n",
    "$$\n",
    "| \\Psi \\rangle =  c_0 | \\Psi_\\mathrm{HF} \\rangle + c_1 | \\Psi_{u\\bar{u}} \\rangle\n",
    "$$\n",
    "\n",
    "For a real-valued wave function, we get\n",
    "$$\n",
    "n(\\mathbf{r}, \\mathbf{r}') = \n",
    "c_0^2 \\langle \\Psi_\\mathrm{HF} | \\hat{n} | \\Psi_\\mathrm{HF} \\rangle\n",
    "+\n",
    "c_1^2 \\langle \\Psi_{u\\bar{u}} | \\hat{n} | \\Psi_{u\\bar{u}} \\rangle\n",
    "+\n",
    "2 c_0 c_1 \\langle \\Psi_\\mathrm{HF} | \\hat{n} | \\Psi_{u\\bar{u}} \\rangle\n",
    "$$\n",
    "\n",
    "The general relations for matrix elements of a two-electron operator can now be used\n",
    "\\begin{align*}\n",
    "    \\langle \\Psi | \\hat{\\Omega} | \\Psi \\rangle &=\n",
    "    \\frac{1}{2} \\sum_{i,j}^N\n",
    "    \\Big[\n",
    "    \\langle ij| \\hat{\\omega} |ij \\rangle - \\langle ij | \\hat{\\omega} | ji \\rangle\n",
    "    \\Big]\n",
    "    \\\\\n",
    "    \\langle \\Psi | \\hat{\\Omega} | \\Psi_{ij}^{st} \\rangle &=\n",
    "     \\langle ij| \\hat{\\omega} |st \\rangle - \\langle ij| \\hat{\\omega} |ts \\rangle\n",
    "\\end{align*}\n",
    "\n",
    "In our case, we get\n",
    "$$\n",
    "\\langle \\Psi_\\mathrm{HF} | \\hat{\\Omega} | \\Psi_\\mathrm{HF} \\rangle =\n",
    "(gg| \\hat{\\omega} |gg)\n",
    "$$\n",
    "$$\n",
    "\\langle \\Psi_{u\\bar{u}} | \\hat{\\Omega}| \\Psi_{u\\bar{u}} \\rangle =\n",
    "(uu| \\hat{\\omega} |uu)\n",
    "$$\n",
    "$$\n",
    "\\langle \\Psi_\\mathrm{HF} | \\hat{\\Omega} | \\Psi_{u\\bar{u}} \\rangle =\n",
    "(gu| \\hat{\\omega} |gu)\n",
    "$$"
   ]
  },
  {
   "cell_type": "code",
   "execution_count": 9,
   "id": "graphic-passing",
   "metadata": {},
   "outputs": [],
   "source": [
    "# electron 1 at the position of the hydrogen nucleus\n",
    "# electron 2 anywhere on the internuclear axis\n",
    "h1 = [[0, 0, Hz]]\n",
    "sigma_g_at_h1 = vis_drv.get_mo(h1, molecule, basis, mol_orbs, 0, 'alpha')[0]\n",
    "sigma_u_at_h1 = vis_drv.get_mo(h1, molecule, basis, mol_orbs, 1, 'alpha')[0]\n",
    "\n",
    "n12_HF = 2 * sigma_g_at_h1**2 * sigma_g**2\n",
    "n12_CID = 2 * (c_HF**2 * sigma_g_at_h1**2 * sigma_g**2 + \n",
    "               c_uu**2 * sigma_u_at_h1**2 * sigma_u**2 +\n",
    "              2 * c_HF * c_uu * sigma_g_at_h1 * sigma_u_at_h1 *\n",
    "              sigma_g * sigma_u)"
   ]
  },
  {
   "cell_type": "code",
   "execution_count": 12,
   "id": "proud-collector",
   "metadata": {},
   "outputs": [
    {
     "data": {
      "image/png": "[encoded data removed]",
      "text/plain": [
       "<Figure size 432x288 with 1 Axes>"
      ]
     },
     "metadata": {
      "needs_background": "light"
     },
     "output_type": "display_data"
    }
   ],
   "source": [
    "fig = plt.figure(2)\n",
    "plt.axes()\n",
    "plt.plot(coords[:,2], n12_HF)\n",
    "plt.plot(coords[:,2], n12_CID)\n",
    "\n",
    "plt.axvline(x=Hz, color='0.5', linewidth = 0.7, dashes = [3,1,3,1])\n",
    "plt.axvline(x=-Hz, color='0.5', linewidth = 0.7, dashes = [3,1,3,1])\n",
    "plt.setp(plt.gca(), xlim = (-3,3), ylim = (0,0.1))\n",
    "\n",
    "plt.show()"
   ]
  },
  {
   "cell_type": "code",
   "execution_count": null,
   "id": "cloudy-rehabilitation",
   "metadata": {},
   "outputs": [],
   "source": []
  }
 ],
 "metadata": {
  "celltoolbar": "Tags",
  "kernelspec": {
   "display_name": "Python 3",
   "language": "python",
   "name": "python3"
  },
  "language_info": {
   "codemirror_mode": {
    "name": "ipython",
    "version": 3
   },
   "file_extension": ".py",
   "mimetype": "text/x-python",
   "name": "python",
   "nbconvert_exporter": "python",
   "pygments_lexer": "ipython3",
   "version": "3.9.5"
  }
 },
 "nbformat": 4,
 "nbformat_minor": 5
}
