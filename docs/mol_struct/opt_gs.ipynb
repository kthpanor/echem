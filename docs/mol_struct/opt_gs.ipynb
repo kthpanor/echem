{
 "cells": [
  {
   "cell_type": "markdown",
   "id": "a2dcd883",
   "metadata": {
    "editable": true,
    "slideshow": {
     "slide_type": ""
    },
    "tags": []
   },
   "source": [
    "# Ground state"
   ]
  },
  {
   "cell_type": "code",
   "execution_count": 1,
   "id": "863ce03b",
   "metadata": {
    "editable": true,
    "slideshow": {
     "slide_type": ""
    },
    "tags": [
     "remove-output"
    ]
   },
   "outputs": [
    {
     "name": "stdout",
     "output_type": "stream",
     "text": [
      "* Warning * Environment variable OMP_NUM_THREADS not set.\n",
      "* Warning * Setting OMP_NUM_THREADS to 4.\n"
     ]
    }
   ],
   "source": [
    "import veloxchem as vlx"
   ]
  },
  {
   "cell_type": "markdown",
   "id": "27b6f714-1c59-4756-a1c3-c17673697ae4",
   "metadata": {
    "editable": true,
    "slideshow": {
     "slide_type": ""
    },
    "tags": []
   },
   "source": [
    "The initial structure can e.g. be defined in terms of a SMILES string."
   ]
  },
  {
   "cell_type": "code",
   "execution_count": 2,
   "id": "a267c86c-53ca-4d9e-aa96-efa1ec329c9a",
   "metadata": {
    "editable": true,
    "slideshow": {
     "slide_type": ""
    },
    "tags": []
   },
   "outputs": [
    {
     "data": {
      "application/3dmoljs_load.v0": "<div id=\"3dmolviewer_17097971735110688\"  style=\"position: relative; width: 400px; height: 300px;\">\n        <p id=\"3dmolwarning_17097971735110688\" style=\"background-color:#ffcccc;color:black\">You appear to be running in JupyterLab (or JavaScript failed to load for some other reason).  You need to install the 3dmol extension: <br>\n        <tt>jupyter labextension install jupyterlab_3dmol</tt></p>\n        </div>\n<script>\n\nvar loadScriptAsync = function(uri){\n  return new Promise((resolve, reject) => {\n    //this is to ignore the existence of requirejs amd\n    var savedexports, savedmodule;\n    if (typeof exports !== 'undefined') savedexports = exports;\n    else exports = {}\n    if (typeof module !== 'undefined') savedmodule = module;\n    else module = {}\n\n    var tag = document.createElement('script');\n    tag.src = uri;\n    tag.async = true;\n    tag.onload = () => {\n        exports = savedexports;\n        module = savedmodule;\n        resolve();\n    };\n  var firstScriptTag = document.getElementsByTagName('script')[0];\n  firstScriptTag.parentNode.insertBefore(tag, firstScriptTag);\n});\n};\n\nif(typeof $3Dmolpromise === 'undefined') {\n$3Dmolpromise = null;\n  $3Dmolpromise = loadScriptAsync('https://cdnjs.cloudflare.com/ajax/libs/3Dmol/2.0.4/3Dmol-min.js');\n}\n\nvar viewer_17097971735110688 = null;\nvar warn = document.getElementById(\"3dmolwarning_17097971735110688\");\nif(warn) {\n    warn.parentNode.removeChild(warn);\n}\n$3Dmolpromise.then(function() {\nviewer_17097971735110688 = $3Dmol.createViewer(document.getElementById(\"3dmolviewer_17097971735110688\"),{backgroundColor:\"white\"});\nviewer_17097971735110688.zoomTo();\n\tviewer_17097971735110688.addModel(\"9\\n\\nO              0.971730000000        -0.027470000000        -0.014000000000\\nC              2.340080000000        -0.008160000000        -0.005430000000\\nC              3.021430000000         1.039530000000         0.459760000000\\nC              4.494210000000         1.026130000000         0.453810000000\\nO              5.145820000000         1.973580000000         0.874490000000\\nH              0.671350000000        -0.874600000000        -0.390140000000\\nH              2.787050000000        -0.909730000000        -0.405740000000\\nH              2.535010000000         1.923530000000         0.852270000000\\nH              4.974440000000         0.118980000000         0.051020000000\\n\");\n\tviewer_17097971735110688.setViewStyle({\"style\": \"outline\", \"width\": 0.05});\n\tviewer_17097971735110688.setStyle({\"stick\": {}, \"sphere\": {\"scale\": 0.25}});\n\tviewer_17097971735110688.zoomTo();\nviewer_17097971735110688.render();\n});\n</script>",
      "text/html": [
       "<div id=\"3dmolviewer_17097971735110688\"  style=\"position: relative; width: 400px; height: 300px;\">\n",
       "        <p id=\"3dmolwarning_17097971735110688\" style=\"background-color:#ffcccc;color:black\">You appear to be running in JupyterLab (or JavaScript failed to load for some other reason).  You need to install the 3dmol extension: <br>\n",
       "        <tt>jupyter labextension install jupyterlab_3dmol</tt></p>\n",
       "        </div>\n",
       "<script>\n",
       "\n",
       "var loadScriptAsync = function(uri){\n",
       "  return new Promise((resolve, reject) => {\n",
       "    //this is to ignore the existence of requirejs amd\n",
       "    var savedexports, savedmodule;\n",
       "    if (typeof exports !== 'undefined') savedexports = exports;\n",
       "    else exports = {}\n",
       "    if (typeof module !== 'undefined') savedmodule = module;\n",
       "    else module = {}\n",
       "\n",
       "    var tag = document.createElement('script');\n",
       "    tag.src = uri;\n",
       "    tag.async = true;\n",
       "    tag.onload = () => {\n",
       "        exports = savedexports;\n",
       "        module = savedmodule;\n",
       "        resolve();\n",
       "    };\n",
       "  var firstScriptTag = document.getElementsByTagName('script')[0];\n",
       "  firstScriptTag.parentNode.insertBefore(tag, firstScriptTag);\n",
       "});\n",
       "};\n",
       "\n",
       "if(typeof $3Dmolpromise === 'undefined') {\n",
       "$3Dmolpromise = null;\n",
       "  $3Dmolpromise = loadScriptAsync('https://cdnjs.cloudflare.com/ajax/libs/3Dmol/2.0.4/3Dmol-min.js');\n",
       "}\n",
       "\n",
       "var viewer_17097971735110688 = null;\n",
       "var warn = document.getElementById(\"3dmolwarning_17097971735110688\");\n",
       "if(warn) {\n",
       "    warn.parentNode.removeChild(warn);\n",
       "}\n",
       "$3Dmolpromise.then(function() {\n",
       "viewer_17097971735110688 = $3Dmol.createViewer(document.getElementById(\"3dmolviewer_17097971735110688\"),{backgroundColor:\"white\"});\n",
       "viewer_17097971735110688.zoomTo();\n",
       "\tviewer_17097971735110688.addModel(\"9\\n\\nO              0.971730000000        -0.027470000000        -0.014000000000\\nC              2.340080000000        -0.008160000000        -0.005430000000\\nC              3.021430000000         1.039530000000         0.459760000000\\nC              4.494210000000         1.026130000000         0.453810000000\\nO              5.145820000000         1.973580000000         0.874490000000\\nH              0.671350000000        -0.874600000000        -0.390140000000\\nH              2.787050000000        -0.909730000000        -0.405740000000\\nH              2.535010000000         1.923530000000         0.852270000000\\nH              4.974440000000         0.118980000000         0.051020000000\\n\");\n",
       "\tviewer_17097971735110688.setViewStyle({\"style\": \"outline\", \"width\": 0.05});\n",
       "\tviewer_17097971735110688.setStyle({\"stick\": {}, \"sphere\": {\"scale\": 0.25}});\n",
       "\tviewer_17097971735110688.zoomTo();\n",
       "viewer_17097971735110688.render();\n",
       "});\n",
       "</script>"
      ]
     },
     "metadata": {},
     "output_type": "display_data"
    }
   ],
   "source": [
    "molecule = vlx.Molecule.read_smiles(\"OC=CC=O\")\n",
    "molecule.show()"
   ]
  },
  {
   "cell_type": "markdown",
   "id": "30bd0d81-d69b-41b2-bfdb-bec3d4b37d7c",
   "metadata": {
    "editable": true,
    "slideshow": {
     "slide_type": ""
    },
    "tags": []
   },
   "source": [
    "Define the electronic structure theory method."
   ]
  },
  {
   "cell_type": "code",
   "execution_count": 3,
   "id": "7b7274c7-b300-44ef-8e24-e462e54e425a",
   "metadata": {
    "editable": true,
    "scrolled": true,
    "slideshow": {
     "slide_type": ""
    },
    "tags": []
   },
   "outputs": [],
   "source": [
    "scf_drv = vlx.XtbDriver()"
   ]
  },
  {
   "cell_type": "markdown",
   "id": "f1ada37c-f7fe-4cd8-8c0d-b68c7e53bd79",
   "metadata": {
    "editable": true,
    "slideshow": {
     "slide_type": ""
    },
    "tags": []
   },
   "source": [
    "Optimize the molecule structure with the `OptimizationDriver` class in VeloxChem."
   ]
  },
  {
   "cell_type": "code",
   "execution_count": 6,
   "id": "d9cc7622-bd4d-4983-887c-124c76ac89ee",
   "metadata": {
    "editable": true,
    "slideshow": {
     "slide_type": ""
    },
    "tags": [
     "hide-output"
    ]
   },
   "outputs": [],
   "source": [
    "opt_drv = vlx.OptimizationDriver(scf_drv)\n",
    "opt_drv.ostream.mute()\n",
    "\n",
    "opt_results = opt_drv.compute(molecule)"
   ]
  },
  {
   "cell_type": "markdown",
   "id": "40716e45-b7f3-46db-8081-01a51c29b00c",
   "metadata": {
    "editable": true,
    "slideshow": {
     "slide_type": ""
    },
    "tags": []
   },
   "source": [
    "The SCF energies calculated in the optimization process are available in the resulting object."
   ]
  },
  {
   "cell_type": "code",
   "execution_count": 7,
   "id": "d21f8f52-e0b6-4fac-b595-3454ca30f13f",
   "metadata": {
    "editable": true,
    "slideshow": {
     "slide_type": ""
    },
    "tags": []
   },
   "outputs": [
    {
     "data": {
      "image/png": "[encoded data removed]",
      "text/plain": [
       "<Figure size 600x300 with 1 Axes>"
      ]
     },
     "metadata": {},
     "output_type": "display_data"
    }
   ],
   "source": [
    "from matplotlib import pyplot as plt\n",
    "\n",
    "e_min_in_au = min(opt_results[\"opt_energies\"])\n",
    "\n",
    "energies_in_kcalpermol = [\n",
    "    (e - e_min_in_au) * vlx.hartree_in_kcalpermol() for e in opt_results[\"opt_energies\"]\n",
    "]\n",
    "\n",
    "fig, ax = plt.subplots(figsize=(6, 3))\n",
    "\n",
    "ax.plot(energies_in_kcalpermol, \"o--\")\n",
    "\n",
    "ax.set_xlabel(\"Iteration\")\n",
    "ax.set_ylabel(r\"Energy relaxation (kcal/mol)\")\n",
    "\n",
    "plt.show()"
   ]
  },
  {
   "cell_type": "markdown",
   "id": "3f35b722-0d4b-4fdd-9df3-2101e40a5249",
   "metadata": {
    "editable": true,
    "slideshow": {
     "slide_type": ""
    },
    "tags": []
   },
   "source": [
    "The molecular structure relaxation can be visualized."
   ]
  },
  {
   "cell_type": "code",
   "execution_count": 8,
   "id": "fc3cddad-d2da-467e-9105-a47111490c3c",
   "metadata": {
    "editable": true,
    "slideshow": {
     "slide_type": ""
    },
    "tags": []
   },
   "outputs": [
    {
     "data": {
      "application/3dmoljs_load.v0": "<div id=\"3dmolviewer_1709797300247851\"  style=\"position: relative; width: 400px; height: 300px;\">\n        <p id=\"3dmolwarning_1709797300247851\" style=\"background-color:#ffcccc;color:black\">You appear to be running in JupyterLab (or JavaScript failed to load for some other reason).  You need to install the 3dmol extension: <br>\n        <tt>jupyter labextension install jupyterlab_3dmol</tt></p>\n        </div>\n<script>\n\nvar loadScriptAsync = function(uri){\n  return new Promise((resolve, reject) => {\n    //this is to ignore the existence of requirejs amd\n    var savedexports, savedmodule;\n    if (typeof exports !== 'undefined') savedexports = exports;\n    else exports = {}\n    if (typeof module !== 'undefined') savedmodule = module;\n    else module = {}\n\n    var tag = document.createElement('script');\n    tag.src = uri;\n    tag.async = true;\n    tag.onload = () => {\n        exports = savedexports;\n        module = savedmodule;\n        resolve();\n    };\n  var firstScriptTag = document.getElementsByTagName('script')[0];\n  firstScriptTag.parentNode.insertBefore(tag, firstScriptTag);\n});\n};\n\nif(typeof $3Dmolpromise === 'undefined') {\n$3Dmolpromise = null;\n  $3Dmolpromise = loadScriptAsync('https://cdnjs.cloudflare.com/ajax/libs/3Dmol/2.0.4/3Dmol-min.js');\n}\n\nvar viewer_1709797300247851 = null;\nvar warn = document.getElementById(\"3dmolwarning_1709797300247851\");\nif(warn) {\n    warn.parentNode.removeChild(warn);\n}\n$3Dmolpromise.then(function() {\nviewer_1709797300247851 = $3Dmol.createViewer(document.getElementById(\"3dmolviewer_1709797300247851\"),{backgroundColor:\"white\"});\nviewer_1709797300247851.zoomTo();\n\tviewer_1709797300247851.addModelsAsFrames(\"9\\n\\nO              0.971730000000        -0.027470000000        -0.014000000000\\nC              2.340080000000        -0.008160000000        -0.005430000000\\nC              3.021430000000         1.039530000000         0.459760000000\\nC              4.494210000000         1.026130000000         0.453810000000\\nO              5.145820000000         1.973580000000         0.874490000000\\nH              0.671350000000        -0.874600000000        -0.390140000000\\nH              2.787050000000        -0.909730000000        -0.405740000000\\nH              2.535010000000         1.923530000000         0.852270000000\\nH              4.974440000000         0.118980000000         0.051020000000\\n9\\n\\nO              0.972033709271        -0.040286831941        -0.019691081477\\nC              2.328445024268        -0.022240843952        -0.011680244370\\nC              3.027722063665         1.016820846895         0.449677321573\\nC              4.478994312419         1.089696657600         0.482032279967\\nO              5.250945042293         1.941280669537         0.860148893185\\nH              0.632420920010        -0.865824928914        -0.386245532786\\nH              2.815038317861        -0.907013535306        -0.404533460516\\nH              2.512531284938         1.880598876575         0.833208583428\\nH              4.922989325275         0.168759089505         0.073123240994\\n9\\n\\nO              0.987298733938        -0.032866638411        -0.016396450943\\nC              2.337173027634        -0.017394525212        -0.009528442123\\nC              3.028104022664         1.026066249455         0.453782362924\\nC              4.474502545329         1.059632147438         0.468683188049\\nO              5.187904586713         1.947014348407         0.862695022294\\nH              0.643143252064        -0.854701016519        -0.381306354935\\nH              2.834107811538        -0.898347743753        -0.400685751780\\nH              2.518120931626         1.893815310021         0.839076776678\\nH              4.930765088494         0.138571868572         0.059719649837\\n9\\n\\nO              0.981741090089        -0.045155191570        -0.021852564674\\nC              2.324752008911        -0.000414561713        -0.001989935496\\nC              3.030552875072         1.038970297630         0.459511863922\\nC              4.479822075626         1.041312383155         0.460551016300\\nO              5.166194344770         1.947161373359         0.862759807812\\nH              0.654600526950        -0.873307743866        -0.389567012659\\nH              2.839263344406        -0.874176070388        -0.389953707317\\nH              2.528348668173         1.911973288291         0.847138651561\\nH              4.935845066001         0.115426225101         0.049441880550\\n9\\n\\nO              1.001256333036        -0.026942056571        -0.013765761018\\nC              2.341044886804        -0.017459979858        -0.009558344260\\nC              3.023010399657         1.035923006255         0.458158672063\\nC              4.472042782741         1.041932311600         0.460825816772\\nO              5.160849556540         1.946679122860         0.862546035336\\nH              0.647124353240        -0.845707882430        -0.377312185171\\nH              2.862260839325        -0.889763508869        -0.396874759528\\nH              2.506673634691         1.902583071776         0.842969364209\\nH              4.926857213966         0.114545915237         0.049051161597\\n9\\n\\nO              0.991254086706        -0.035255146994        -0.017456983632\\nC              2.332626197843        -0.010797034467        -0.006599454956\\nC              3.027638726528         1.034808955756         0.457664047594\\nC              4.475606444597         1.045450700283         0.462387109942\\nO              5.169250095977         1.946955638862         0.862669346960\\nH              0.647865092173        -0.857990964053        -0.382766735565\\nH              2.850385299315        -0.883825516715        -0.394237999702\\nH              2.516410517872         1.903182495905         0.843235754941\\nH              4.930083538990         0.119260871423         0.051144914418\\n9\\n\\nO              0.991549363247        -0.036027304301        -0.017799844688\\nC              2.332437272820        -0.009787038799        -0.006151322680\\nC              3.026974294622         1.036379083175         0.458361270654\\nC              4.475135895511         1.044508646043         0.461969824515\\nO              5.169729305374         1.945643339408         0.862086908999\\nH              0.649520330510        -0.859436257724        -0.383408567264\\nH              2.851364066551        -0.882339273536        -0.393578334389\\nH              2.515843991088         1.904981912028         0.844034576973\\nH              4.928565480276         0.117866893706         0.050525487881\\n9\\n\\nO              0.991570209707        -0.035222247117        -0.017442461710\\nC              2.332338478441        -0.010562432921        -0.006495583891\\nC              3.027552854305         1.035312674260         0.457887786651\\nC              4.475644996701         1.044678440805         0.462045030948\\nO              5.168625379496         1.946911576649         0.862650558361\\nH              0.648207470365        -0.858212514813        -0.382865588898\\nH              2.850692592154        -0.883440959453        -0.394067563876\\nH              2.516048064979         1.903696487855         0.843464001575\\nH              4.930439953852         0.118628974735         0.050863820841\\n9\\n\\nO              0.991624306439        -0.035485382410        -0.017559368004\\nC              2.332427462230        -0.010343497667        -0.006398389122\\nC              3.027376151137         1.035638074321         0.458032293468\\nC              4.475378293889         1.044703750497         0.462056216155\\nO              5.169175181541         1.946399510492         0.862423510956\\nH              0.648540743055        -0.858554344035        -0.383017599849\\nH              2.851073749839        -0.883060907294        -0.393898896094\\nH              2.515894222984         1.904018417440         0.843607069198\\nH              4.929629888886         0.118474378656         0.050795163292\\n\");\n\tviewer_1709797300247851.animate({\"loop\": \"forward\"});\n\tviewer_1709797300247851.setViewStyle({\"style\": \"outline\", \"width\": 0.05});\n\tviewer_1709797300247851.setStyle({\"stick\": {}, \"sphere\": {\"scale\": 0.25}});\n\tviewer_1709797300247851.zoomTo();\nviewer_1709797300247851.render();\n});\n</script>",
      "text/html": [
       "<div id=\"3dmolviewer_1709797300247851\"  style=\"position: relative; width: 400px; height: 300px;\">\n",
       "        <p id=\"3dmolwarning_1709797300247851\" style=\"background-color:#ffcccc;color:black\">You appear to be running in JupyterLab (or JavaScript failed to load for some other reason).  You need to install the 3dmol extension: <br>\n",
       "        <tt>jupyter labextension install jupyterlab_3dmol</tt></p>\n",
       "        </div>\n",
       "<script>\n",
       "\n",
       "var loadScriptAsync = function(uri){\n",
       "  return new Promise((resolve, reject) => {\n",
       "    //this is to ignore the existence of requirejs amd\n",
       "    var savedexports, savedmodule;\n",
       "    if (typeof exports !== 'undefined') savedexports = exports;\n",
       "    else exports = {}\n",
       "    if (typeof module !== 'undefined') savedmodule = module;\n",
       "    else module = {}\n",
       "\n",
       "    var tag = document.createElement('script');\n",
       "    tag.src = uri;\n",
       "    tag.async = true;\n",
       "    tag.onload = () => {\n",
       "        exports = savedexports;\n",
       "        module = savedmodule;\n",
       "        resolve();\n",
       "    };\n",
       "  var firstScriptTag = document.getElementsByTagName('script')[0];\n",
       "  firstScriptTag.parentNode.insertBefore(tag, firstScriptTag);\n",
       "});\n",
       "};\n",
       "\n",
       "if(typeof $3Dmolpromise === 'undefined') {\n",
       "$3Dmolpromise = null;\n",
       "  $3Dmolpromise = loadScriptAsync('https://cdnjs.cloudflare.com/ajax/libs/3Dmol/2.0.4/3Dmol-min.js');\n",
       "}\n",
       "\n",
       "var viewer_1709797300247851 = null;\n",
       "var warn = document.getElementById(\"3dmolwarning_1709797300247851\");\n",
       "if(warn) {\n",
       "    warn.parentNode.removeChild(warn);\n",
       "}\n",
       "$3Dmolpromise.then(function() {\n",
       "viewer_1709797300247851 = $3Dmol.createViewer(document.getElementById(\"3dmolviewer_1709797300247851\"),{backgroundColor:\"white\"});\n",
       "viewer_1709797300247851.zoomTo();\n",
       "\tviewer_1709797300247851.addModelsAsFrames(\"9\\n\\nO              0.971730000000        -0.027470000000        -0.014000000000\\nC              2.340080000000        -0.008160000000        -0.005430000000\\nC              3.021430000000         1.039530000000         0.459760000000\\nC              4.494210000000         1.026130000000         0.453810000000\\nO              5.145820000000         1.973580000000         0.874490000000\\nH              0.671350000000        -0.874600000000        -0.390140000000\\nH              2.787050000000        -0.909730000000        -0.405740000000\\nH              2.535010000000         1.923530000000         0.852270000000\\nH              4.974440000000         0.118980000000         0.051020000000\\n9\\n\\nO              0.972033709271        -0.040286831941        -0.019691081477\\nC              2.328445024268        -0.022240843952        -0.011680244370\\nC              3.027722063665         1.016820846895         0.449677321573\\nC              4.478994312419         1.089696657600         0.482032279967\\nO              5.250945042293         1.941280669537         0.860148893185\\nH              0.632420920010        -0.865824928914        -0.386245532786\\nH              2.815038317861        -0.907013535306        -0.404533460516\\nH              2.512531284938         1.880598876575         0.833208583428\\nH              4.922989325275         0.168759089505         0.073123240994\\n9\\n\\nO              0.987298733938        -0.032866638411        -0.016396450943\\nC              2.337173027634        -0.017394525212        -0.009528442123\\nC              3.028104022664         1.026066249455         0.453782362924\\nC              4.474502545329         1.059632147438         0.468683188049\\nO              5.187904586713         1.947014348407         0.862695022294\\nH              0.643143252064        -0.854701016519        -0.381306354935\\nH              2.834107811538        -0.898347743753        -0.400685751780\\nH              2.518120931626         1.893815310021         0.839076776678\\nH              4.930765088494         0.138571868572         0.059719649837\\n9\\n\\nO              0.981741090089        -0.045155191570        -0.021852564674\\nC              2.324752008911        -0.000414561713        -0.001989935496\\nC              3.030552875072         1.038970297630         0.459511863922\\nC              4.479822075626         1.041312383155         0.460551016300\\nO              5.166194344770         1.947161373359         0.862759807812\\nH              0.654600526950        -0.873307743866        -0.389567012659\\nH              2.839263344406        -0.874176070388        -0.389953707317\\nH              2.528348668173         1.911973288291         0.847138651561\\nH              4.935845066001         0.115426225101         0.049441880550\\n9\\n\\nO              1.001256333036        -0.026942056571        -0.013765761018\\nC              2.341044886804        -0.017459979858        -0.009558344260\\nC              3.023010399657         1.035923006255         0.458158672063\\nC              4.472042782741         1.041932311600         0.460825816772\\nO              5.160849556540         1.946679122860         0.862546035336\\nH              0.647124353240        -0.845707882430        -0.377312185171\\nH              2.862260839325        -0.889763508869        -0.396874759528\\nH              2.506673634691         1.902583071776         0.842969364209\\nH              4.926857213966         0.114545915237         0.049051161597\\n9\\n\\nO              0.991254086706        -0.035255146994        -0.017456983632\\nC              2.332626197843        -0.010797034467        -0.006599454956\\nC              3.027638726528         1.034808955756         0.457664047594\\nC              4.475606444597         1.045450700283         0.462387109942\\nO              5.169250095977         1.946955638862         0.862669346960\\nH              0.647865092173        -0.857990964053        -0.382766735565\\nH              2.850385299315        -0.883825516715        -0.394237999702\\nH              2.516410517872         1.903182495905         0.843235754941\\nH              4.930083538990         0.119260871423         0.051144914418\\n9\\n\\nO              0.991549363247        -0.036027304301        -0.017799844688\\nC              2.332437272820        -0.009787038799        -0.006151322680\\nC              3.026974294622         1.036379083175         0.458361270654\\nC              4.475135895511         1.044508646043         0.461969824515\\nO              5.169729305374         1.945643339408         0.862086908999\\nH              0.649520330510        -0.859436257724        -0.383408567264\\nH              2.851364066551        -0.882339273536        -0.393578334389\\nH              2.515843991088         1.904981912028         0.844034576973\\nH              4.928565480276         0.117866893706         0.050525487881\\n9\\n\\nO              0.991570209707        -0.035222247117        -0.017442461710\\nC              2.332338478441        -0.010562432921        -0.006495583891\\nC              3.027552854305         1.035312674260         0.457887786651\\nC              4.475644996701         1.044678440805         0.462045030948\\nO              5.168625379496         1.946911576649         0.862650558361\\nH              0.648207470365        -0.858212514813        -0.382865588898\\nH              2.850692592154        -0.883440959453        -0.394067563876\\nH              2.516048064979         1.903696487855         0.843464001575\\nH              4.930439953852         0.118628974735         0.050863820841\\n9\\n\\nO              0.991624306439        -0.035485382410        -0.017559368004\\nC              2.332427462230        -0.010343497667        -0.006398389122\\nC              3.027376151137         1.035638074321         0.458032293468\\nC              4.475378293889         1.044703750497         0.462056216155\\nO              5.169175181541         1.946399510492         0.862423510956\\nH              0.648540743055        -0.858554344035        -0.383017599849\\nH              2.851073749839        -0.883060907294        -0.393898896094\\nH              2.515894222984         1.904018417440         0.843607069198\\nH              4.929629888886         0.118474378656         0.050795163292\\n\");\n",
       "\tviewer_1709797300247851.animate({\"loop\": \"forward\"});\n",
       "\tviewer_1709797300247851.setViewStyle({\"style\": \"outline\", \"width\": 0.05});\n",
       "\tviewer_1709797300247851.setStyle({\"stick\": {}, \"sphere\": {\"scale\": 0.25}});\n",
       "\tviewer_1709797300247851.zoomTo();\n",
       "viewer_1709797300247851.render();\n",
       "});\n",
       "</script>"
      ]
     },
     "metadata": {},
     "output_type": "display_data"
    }
   ],
   "source": [
    "import py3Dmol as p3d\n",
    "\n",
    "viewer = p3d.view(width=400, height=300)\n",
    "\n",
    "viewer.addModelsAsFrames(\"\".join(opt_results[\"opt_geometries\"]))\n",
    "viewer.animate({\"loop\": \"forward\"})\n",
    "viewer.setViewStyle({\"style\": \"outline\", \"width\": 0.05})\n",
    "viewer.setStyle({\"stick\": {}, \"sphere\": {\"scale\": 0.25}})\n",
    "\n",
    "viewer.zoomTo()\n",
    "\n",
    "viewer.show()"
   ]
  },
  {
   "cell_type": "markdown",
   "id": "a2034f90-5b03-4eb2-b2a2-cc38fa210711",
   "metadata": {
    "editable": true,
    "slideshow": {
     "slide_type": ""
    },
    "tags": []
   },
   "source": [
    "## Larger molecules\n",
    "\n",
    "[Cafestol](https://en.wikipedia.org/wiki/Cafestol) and [kahweol](https://en.wikipedia.org/wiki/Kahweol) are molecules present in Robusta and Arabica coffee beans, respectively.\n",
    "\n",
    "We here use the semi-empirical tight binding method named xTB and a [code implementation](https://xtb-docs.readthedocs.io/en/latest/) that has been interfaced to VeloxChem."
   ]
  },
  {
   "cell_type": "code",
   "execution_count": 35,
   "id": "2570a30b",
   "metadata": {
    "editable": true,
    "slideshow": {
     "slide_type": ""
    },
    "tags": [
     "hide-input"
    ]
   },
   "outputs": [],
   "source": [
    "cafestol_xyz = \"\"\"51\n",
    "cafestol initial structure\n",
    "O  -4.5215   -1.3455    0.4926\n",
    "O  -5.2905    0.0812   -1.7033\n",
    "O   5.1630    0.4345   -0.1101\n",
    "C  -1.2807   -0.7511   -0.0465\n",
    "C  -0.5244    0.5810   -0.4102\n",
    "C   0.9909    0.6610    0.0407\n",
    "C  -2.9440    0.2916    1.2866\n",
    "C  -1.8143   -0.7311    1.3945\n",
    "C  -2.6188   -0.8159   -0.8642\n",
    "C  -3.7116   -0.2387    0.0606\n",
    "C  -0.4332   -2.0024   -0.3283\n",
    "C  -1.3742    1.8303   -0.0654\n",
    "C   1.6844   -0.6873   -0.4019\n",
    "C  -2.3206    1.6833    1.1309\n",
    "C   0.9997   -1.9155    0.1913\n",
    "C   1.7285    1.8344   -0.7277\n",
    "C   1.1437    0.9261    1.5588\n",
    "C   3.1644   -0.6155   -0.2085\n",
    "C  -4.6490    0.7442   -0.6282\n",
    "C   3.2525    1.9378   -0.4590\n",
    "C   3.8298    0.5879   -0.2856\n",
    "C   4.1654   -1.5888    0.0140\n",
    "C   5.3604   -0.9015    0.0689\n",
    "H  -0.4604    0.5817   -1.5108\n",
    "H  -3.5646    0.2626    2.1897\n",
    "H  -1.0861   -0.4449    2.1498\n",
    "H  -2.1902   -1.7145    1.7003\n",
    "H  -2.5286   -0.2495   -1.7981\n",
    "H  -2.8534   -1.8505   -1.1460\n",
    "H  -0.3943   -2.1694   -1.4136\n",
    "H  -0.9135   -2.8938    0.0946\n",
    "H  -1.9810    2.0650   -0.9487\n",
    "H  -0.7587    2.7222    0.0818\n",
    "H   1.5605   -0.7646   -1.4951\n",
    "H  -1.7642    1.9154    2.0477\n",
    "H  -3.1082    2.4431    1.0635\n",
    "H   1.0176   -1.9046    1.2859\n",
    "H   1.5276   -2.8282   -0.1118\n",
    "H   1.2808    2.8061   -0.4944\n",
    "H   1.5851    1.6842   -1.8068\n",
    "H   0.5898    1.8173    1.8670\n",
    "H   0.8147    0.0892    2.1727\n",
    "H   2.1832    1.0992    1.8532\n",
    "H  -4.1337    1.6158   -1.0351\n",
    "H  -5.4265    1.0934    0.0595\n",
    "H   3.4273    2.5264    0.4487\n",
    "H   3.7385    2.4646   -1.2871\n",
    "H  -3.9519   -2.0832    0.7635\n",
    "H   4.0442   -2.6573    0.1180\n",
    "H  -5.7603   -0.6874   -1.3370\n",
    "H   6.3869   -1.2031    0.2186\n",
    "\"\"\"\n",
    "cafestol = vlx.Molecule.read_xyz_string(cafestol_xyz)"
   ]
  },
  {
   "cell_type": "code",
   "execution_count": 36,
   "id": "733ab0df",
   "metadata": {
    "editable": true,
    "slideshow": {
     "slide_type": ""
    },
    "tags": [
     "hide-input"
    ]
   },
   "outputs": [],
   "source": [
    "kahweol_xyz = \"\"\"49\n",
    "kahweol initial structure\n",
    "O  -4.4710   -1.5361    0.0905\n",
    "O  -5.6188    0.9753   -0.0811\n",
    "O   5.1625    0.5695   -0.0997\n",
    "C  -1.2209   -0.8317   -0.2017\n",
    "C  -0.4821    0.5357   -0.4703\n",
    "C  -3.0038    0.1167    1.0462\n",
    "C  -1.8514   -0.8737    1.1997\n",
    "C  -2.4967   -0.9058   -1.1119\n",
    "C   0.9884    0.6333    0.0944\n",
    "C  -3.6676   -0.3924   -0.2474\n",
    "C  -0.3220   -2.0551   -0.4569\n",
    "C  -1.3919    1.7479   -0.1363\n",
    "C  -2.4167    1.5304    0.9816\n",
    "C   1.7435   -0.6786   -0.3542\n",
    "C   1.0741   -1.9483    0.1552\n",
    "C   1.0367    0.8330    1.6293\n",
    "C  -4.5845    0.5870   -0.9677\n",
    "C   1.7610    1.8511   -0.4907\n",
    "C   3.2146   -0.5444   -0.1101\n",
    "C   3.1013    1.8722   -0.6493\n",
    "C   3.8167    0.6946   -0.3059\n",
    "C   4.2309   -1.4546    0.2464\n",
    "C   5.3980   -0.7259    0.2399\n",
    "H  -0.3415    0.5842   -1.5631\n",
    "H  -3.6779    0.0397    1.9072\n",
    "H  -1.1861   -0.6021    2.0159\n",
    "H  -2.2356   -1.8757    1.4322\n",
    "H  -2.3648   -0.3090   -2.0216\n",
    "H  -2.6844   -1.9384   -1.4328\n",
    "H  -0.2098   -2.1924   -1.5413\n",
    "H  -0.8043   -2.9694   -0.0890\n",
    "H  -1.9406    2.0033   -1.0514\n",
    "H  -0.8134    2.6482    0.0921\n",
    "H  -1.9341    1.7452    1.9434\n",
    "H  -3.2193    2.2709    0.8849\n",
    "H   1.6699   -0.7251   -1.4553\n",
    "H   1.0259   -1.9792    1.2481\n",
    "H   1.6508   -2.8307   -0.1490\n",
    "H   2.0514    1.0518    1.9842\n",
    "H   0.4166    1.6762    1.9486\n",
    "H   0.7233   -0.0489    2.1864\n",
    "H  -5.0524    0.1195   -1.8415\n",
    "H  -4.0679    1.4861   -1.3088\n",
    "H   1.2088    2.7568   -0.7218\n",
    "H  -5.0925   -1.2746    0.7905\n",
    "H   3.6240    2.7536   -0.9997\n",
    "H   4.1386   -2.5085    0.4650\n",
    "H  -6.2132    0.2149    0.0339\n",
    "H   6.4308   -0.9731    0.4374\n",
    "\"\"\"\n",
    "kahweol = vlx.Molecule.read_xyz_string(kahweol_xyz)"
   ]
  },
  {
   "cell_type": "markdown",
   "id": "2a66084a",
   "metadata": {
    "editable": true,
    "slideshow": {
     "slide_type": ""
    },
    "tags": []
   },
   "source": [
    "The difference between cafestol and kahweol is very subtle, essentially only one double bond and two H atoms."
   ]
  },
  {
   "cell_type": "markdown",
   "id": "88904dcd-20fc-4017-8a2b-f05801490263",
   "metadata": {
    "editable": true,
    "slideshow": {
     "slide_type": ""
    },
    "tags": []
   },
   "source": [
    "We optimize structures and compare the initial and final geometries."
   ]
  },
  {
   "cell_type": "code",
   "execution_count": 40,
   "id": "01e0233a",
   "metadata": {
    "editable": true,
    "scrolled": true,
    "slideshow": {
     "slide_type": ""
    },
    "tags": [
     "output_scroll",
     "hide-output"
    ]
   },
   "outputs": [],
   "source": [
    "scf_drv = vlx.XtbDriver()\n",
    "scf_drv.ostream.mute()"
   ]
  },
  {
   "cell_type": "code",
   "execution_count": 50,
   "id": "8f89aa08",
   "metadata": {
    "editable": true,
    "slideshow": {
     "slide_type": ""
    },
    "tags": [
     "output_scroll",
     "hide-output"
    ]
   },
   "outputs": [],
   "source": [
    "opt_drv = vlx.OptimizationDriver(scf_drv)\n",
    "opt_drv.ostream.mute()\n",
    "\n",
    "opt_cafestol_results = opt_drv.compute(cafestol)\n",
    "opt_kahweol_results = opt_drv.compute(kahweol)"
   ]
  },
  {
   "cell_type": "code",
   "execution_count": 67,
   "id": "5e2186b6-39c7-4f17-bece-28069f6b9a59",
   "metadata": {
    "editable": true,
    "slideshow": {
     "slide_type": ""
    },
    "tags": []
   },
   "outputs": [
    {
     "data": {
      "application/3dmoljs_load.v0": "<div id=\"3dmolviewer_1709143079626244\"  style=\"position: relative; width: 600px; height: 250px;\">\n        <p id=\"3dmolwarning_1709143079626244\" style=\"background-color:#ffcccc;color:black\">You appear to be running in JupyterLab (or JavaScript failed to load for some other reason).  You need to install the 3dmol extension: <br>\n        <tt>jupyter labextension install jupyterlab_3dmol</tt></p>\n        </div>\n<script>\n\nvar loadScriptAsync = function(uri){\n  return new Promise((resolve, reject) => {\n    //this is to ignore the existence of requirejs amd\n    var savedexports, savedmodule;\n    if (typeof exports !== 'undefined') savedexports = exports;\n    else exports = {}\n    if (typeof module !== 'undefined') savedmodule = module;\n    else module = {}\n\n    var tag = document.createElement('script');\n    tag.src = uri;\n    tag.async = true;\n    tag.onload = () => {\n        exports = savedexports;\n        module = savedmodule;\n        resolve();\n    };\n  var firstScriptTag = document.getElementsByTagName('script')[0];\n  firstScriptTag.parentNode.insertBefore(tag, firstScriptTag);\n});\n};\n\nif(typeof $3Dmolpromise === 'undefined') {\n$3Dmolpromise = null;\n  $3Dmolpromise = loadScriptAsync('https://cdnjs.cloudflare.com/ajax/libs/3Dmol/2.0.4/3Dmol-min.js');\n}\n\nvar viewer_1709143079626244 = null;\nvar warn = document.getElementById(\"3dmolwarning_1709143079626244\");\nif(warn) {\n    warn.parentNode.removeChild(warn);\n}\n$3Dmolpromise.then(function() {\nvar viewergrid_1709143079626244 = null;\nviewergrid_1709143079626244 = $3Dmol.createViewerGrid(document.getElementById(\"3dmolviewer_1709143079626244\"),{rows: 1, cols: 2, control_all: true},{backgroundColor:\"white\"});\nviewer_1709143079626244 = viewergrid_1709143079626244[0][0];\nviewergrid_1709143079626244[0][0].zoomTo();viewergrid_1709143079626244[0][1].zoomTo();\tviewergrid_1709143079626244[0][0].addModel(\"51\\ncafestol initial structure\\nO  -4.5215   -1.3455    0.4926\\nO  -5.2905    0.0812   -1.7033\\nO   5.1630    0.4345   -0.1101\\nC  -1.2807   -0.7511   -0.0465\\nC  -0.5244    0.5810   -0.4102\\nC   0.9909    0.6610    0.0407\\nC  -2.9440    0.2916    1.2866\\nC  -1.8143   -0.7311    1.3945\\nC  -2.6188   -0.8159   -0.8642\\nC  -3.7116   -0.2387    0.0606\\nC  -0.4332   -2.0024   -0.3283\\nC  -1.3742    1.8303   -0.0654\\nC   1.6844   -0.6873   -0.4019\\nC  -2.3206    1.6833    1.1309\\nC   0.9997   -1.9155    0.1913\\nC   1.7285    1.8344   -0.7277\\nC   1.1437    0.9261    1.5588\\nC   3.1644   -0.6155   -0.2085\\nC  -4.6490    0.7442   -0.6282\\nC   3.2525    1.9378   -0.4590\\nC   3.8298    0.5879   -0.2856\\nC   4.1654   -1.5888    0.0140\\nC   5.3604   -0.9015    0.0689\\nH  -0.4604    0.5817   -1.5108\\nH  -3.5646    0.2626    2.1897\\nH  -1.0861   -0.4449    2.1498\\nH  -2.1902   -1.7145    1.7003\\nH  -2.5286   -0.2495   -1.7981\\nH  -2.8534   -1.8505   -1.1460\\nH  -0.3943   -2.1694   -1.4136\\nH  -0.9135   -2.8938    0.0946\\nH  -1.9810    2.0650   -0.9487\\nH  -0.7587    2.7222    0.0818\\nH   1.5605   -0.7646   -1.4951\\nH  -1.7642    1.9154    2.0477\\nH  -3.1082    2.4431    1.0635\\nH   1.0176   -1.9046    1.2859\\nH   1.5276   -2.8282   -0.1118\\nH   1.2808    2.8061   -0.4944\\nH   1.5851    1.6842   -1.8068\\nH   0.5898    1.8173    1.8670\\nH   0.8147    0.0892    2.1727\\nH   2.1832    1.0992    1.8532\\nH  -4.1337    1.6158   -1.0351\\nH  -5.4265    1.0934    0.0595\\nH   3.4273    2.5264    0.4487\\nH   3.7385    2.4646   -1.2871\\nH  -3.9519   -2.0832    0.7635\\nH   4.0442   -2.6573    0.1180\\nH  -5.7603   -0.6874   -1.3370\\nH   6.3869   -1.2031    0.2186\\n\",\"xyz\");\n\tviewergrid_1709143079626244[0][0].addModel(\"51\\n\\nO             -4.586928055941        -1.279900278502         0.480283042814\\nO             -5.319303004455         0.246562721248        -1.629048566171\\nO              5.096373000017         0.479142111658         0.047371365474\\nC             -1.255190334737        -0.766697044087        -0.090694738124\\nC             -0.509228101659         0.539152757653        -0.458496895577\\nC              0.978372094285         0.632243277896        -0.011989929990\\nC             -2.880159927638         0.238836939125         1.312497343929\\nC             -1.740437201477        -0.771913882537         1.364288255345\\nC             -2.598892863846        -0.799815950367        -0.863852362904\\nC             -3.682490919094        -0.248170423919         0.088636260523\\nC             -0.416164591043        -1.999830190452        -0.434968427891\\nC             -1.378410241272         1.760376106345        -0.090411235630\\nC              1.674856522712        -0.681263618994        -0.445474585585\\nC             -2.250016767851         1.621564709421         1.161318489591\\nC              0.997769903768        -1.919051070800         0.128039578525\\nC              1.666376992022         1.766537676189        -0.811767828755\\nC              1.168837385400         0.910140771436         1.479849355767\\nC              3.135520451518        -0.569549754156        -0.157646254128\\nC             -4.609456907915         0.795536758444        -0.551571031788\\nC              3.155683645915         1.954159220843        -0.478173249627\\nC              3.782187074264         0.630199613871        -0.219298373721\\nC              4.130802025624        -1.530150719302         0.161772911800\\nC              5.294632854527        -0.835297818412         0.274042331184\\nH             -0.446341978951         0.529018015691        -1.555044784524\\nH             -3.512302270161         0.221149607542         2.205104723604\\nH             -0.987805533686        -0.489646801741         2.090189079032\\nH             -2.099466440651        -1.770583397118         1.629844363777\\nH             -2.561113671771        -0.227435281566        -1.788326722991\\nH             -2.854655254780        -1.827144641595        -1.131680642678\\nH             -0.352920299911        -2.090381410811        -1.522830098502\\nH             -0.917392428938        -2.895613109147        -0.058907394191\\nH             -2.030547015410         1.964782549050        -0.939715194246\\nH             -0.751053821960         2.643276351670         0.031134002897\\nH              1.568214060756        -0.751868253404        -1.538315094055\\nH             -1.648526706159         1.799632325828         2.055430382536\\nH             -3.024936822431         2.390210754928         1.135414380640\\nH              0.980001150621        -1.887152910631         1.216951626743\\nH              1.555474781208        -2.809091091523        -0.168723159677\\nH              1.159647789788         2.715758590120        -0.638991228141\\nH              1.574182906066         1.537824461159        -1.875605350137\\nH              0.649837268400         1.820869162749         1.764760037562\\nH              0.808398863068         0.095443809520         2.096526999233\\nH              2.222626377259         1.033899812344         1.709265514236\\nH             -4.054650037994         1.641880471683        -0.952435296680\\nH             -5.302113627907         1.156095986337         0.223473081069\\nH              3.278594657096         2.596762358200         0.399148346206\\nH              3.657824867869         2.457385695898        -1.308818055792\\nH             -4.087274176937        -1.977207704933         0.916415481386\\nH              4.002114357313        -2.584672994820         0.293398769454\\nH             -5.695005274196        -0.585384436230        -1.313404326444\\nH              6.294955249276        -1.145419831800         0.501035104623\\n\",\"xyz\");\n\tviewergrid_1709143079626244[0][1].addModel(\"49\\nkahweol initial structure\\nO  -4.4710   -1.5361    0.0905\\nO  -5.6188    0.9753   -0.0811\\nO   5.1625    0.5695   -0.0997\\nC  -1.2209   -0.8317   -0.2017\\nC  -0.4821    0.5357   -0.4703\\nC  -3.0038    0.1167    1.0462\\nC  -1.8514   -0.8737    1.1997\\nC  -2.4967   -0.9058   -1.1119\\nC   0.9884    0.6333    0.0944\\nC  -3.6676   -0.3924   -0.2474\\nC  -0.3220   -2.0551   -0.4569\\nC  -1.3919    1.7479   -0.1363\\nC  -2.4167    1.5304    0.9816\\nC   1.7435   -0.6786   -0.3542\\nC   1.0741   -1.9483    0.1552\\nC   1.0367    0.8330    1.6293\\nC  -4.5845    0.5870   -0.9677\\nC   1.7610    1.8511   -0.4907\\nC   3.2146   -0.5444   -0.1101\\nC   3.1013    1.8722   -0.6493\\nC   3.8167    0.6946   -0.3059\\nC   4.2309   -1.4546    0.2464\\nC   5.3980   -0.7259    0.2399\\nH  -0.3415    0.5842   -1.5631\\nH  -3.6779    0.0397    1.9072\\nH  -1.1861   -0.6021    2.0159\\nH  -2.2356   -1.8757    1.4322\\nH  -2.3648   -0.3090   -2.0216\\nH  -2.6844   -1.9384   -1.4328\\nH  -0.2098   -2.1924   -1.5413\\nH  -0.8043   -2.9694   -0.0890\\nH  -1.9406    2.0033   -1.0514\\nH  -0.8134    2.6482    0.0921\\nH  -1.9341    1.7452    1.9434\\nH  -3.2193    2.2709    0.8849\\nH   1.6699   -0.7251   -1.4553\\nH   1.0259   -1.9792    1.2481\\nH   1.6508   -2.8307   -0.1490\\nH   2.0514    1.0518    1.9842\\nH   0.4166    1.6762    1.9486\\nH   0.7233   -0.0489    2.1864\\nH  -5.0524    0.1195   -1.8415\\nH  -4.0679    1.4861   -1.3088\\nH   1.2088    2.7568   -0.7218\\nH  -5.0925   -1.2746    0.7905\\nH   3.6240    2.7536   -0.9997\\nH   4.1386   -2.5085    0.4650\\nH  -6.2132    0.2149    0.0339\\nH   6.4308   -0.9731    0.4374\\n\",\"xyz\");\n\tviewergrid_1709143079626244[0][1].addModel(\"49\\n\\nO             -4.444246972056        -1.519499655762         0.133687582938\\nO             -5.717823243151         0.941920933384        -0.067035436722\\nO              5.074906553356         0.622192921009         0.095473621605\\nC             -1.218602177470        -0.830635590945        -0.247269687260\\nC             -0.477652283103         0.497206847178        -0.529645892873\\nC             -2.930032979065         0.109194166414         1.091620367651\\nC             -1.787380353587        -0.895060190455         1.174536855964\\nC             -2.515633794301        -0.856029877582        -1.095108400655\\nC              0.968427480369         0.594486642195         0.023105328494\\nC             -3.654876662443        -0.372392188582        -0.180458465671\\nC             -0.338761433634        -2.036945462281        -0.583487562130\\nC             -1.380922756356         1.698249167877        -0.180015938988\\nC             -2.322218386173         1.506830153427         1.012213348971\\nC              1.723651047068        -0.686675607523        -0.399653646682\\nC              1.033745881074        -1.956638220964         0.075497552046\\nC              1.068775622580         0.833466615061         1.537760213368\\nC             -4.585076215915         0.655632054126        -0.853891466021\\nC              1.691792708393         1.770178251901        -0.620456437149\\nC              3.162384607317        -0.539525392485        -0.024308810638\\nC              3.026453656566         1.832992701947        -0.661213519679\\nC              3.761356207783         0.686849555981        -0.200988478905\\nC              4.186105592643        -1.411078117838         0.402955970561\\nC              5.318401976260        -0.648905275222         0.464791122791\\nH             -0.335044211188         0.523188165423        -1.619121956026\\nH             -3.599210152909         0.065664719644         1.957648962266\\nH             -1.080845076642        -0.645952581367         1.956895697023\\nH             -2.177197201485        -1.898085491798         1.358665370301\\nH             -2.433748231438        -0.246586156537        -1.993187401806\\nH             -2.750556225758        -1.876641147086        -1.397583085374\\nH             -0.202961075603        -2.084227504514        -1.667524109178\\nH             -0.851690180632        -2.949995067512        -0.273727540503\\nH             -1.983528910513         1.923955669245        -1.061256484936\\nH             -0.768118239790         2.580194198490         0.010452636569\\nH             -1.779681098561         1.670317147132         1.945888043310\\nH             -3.112543884243         2.258628012966         0.965687290245\\nH              1.702617496784        -0.706788379224        -1.502641943600\\nH              0.941020117192        -1.968973038307         1.160844634481\\nH              1.629998494623        -2.823282820498        -0.216933602425\\nH              2.103647103697         1.037195204176         1.803383329903\\nH              0.473057031775         1.693597021371         1.827356123243\\nH              0.749260114613        -0.028531470610         2.112178950817\\nH             -4.890278805139         0.251727947253        -1.829217880237\\nH             -4.081465474350         1.606980463315        -1.012092866944\\nH              1.101025360284         2.598128683152        -0.978016699399\\nH             -4.939041649527        -1.335806083015         0.940565694331\\nH              3.560855008572         2.688859956381        -1.042623896918\\nH              4.105797303707        -2.451938925592         0.640845686369\\nH             -6.244852455390         0.135938218946        -0.009556375902\\nH              6.323310765766        -0.889981172294         0.749463203372\\n\",\"xyz\");\n\tviewergrid_1709143079626244[0][0].setViewStyle({\"style\": \"outline\", \"width\": 0.05});\n\tviewergrid_1709143079626244[0][1].setViewStyle({\"style\": \"outline\", \"width\": 0.05});\n\tviewergrid_1709143079626244[0][0].setStyle({\"stick\": {}, \"sphere\": {\"scale\": 0.25}});\n\tviewergrid_1709143079626244[0][1].setStyle({\"stick\": {}, \"sphere\": {\"scale\": 0.25}});\n\tviewergrid_1709143079626244[0][0].zoomTo();\n\tviewergrid_1709143079626244[0][1].zoomTo();\nviewergrid_1709143079626244[0][1].render();\nviewergrid_1709143079626244[0][0].render();\n});\n</script>",
      "text/html": [
       "<div id=\"3dmolviewer_1709143079626244\"  style=\"position: relative; width: 600px; height: 250px;\">\n",
       "        <p id=\"3dmolwarning_1709143079626244\" style=\"background-color:#ffcccc;color:black\">You appear to be running in JupyterLab (or JavaScript failed to load for some other reason).  You need to install the 3dmol extension: <br>\n",
       "        <tt>jupyter labextension install jupyterlab_3dmol</tt></p>\n",
       "        </div>\n",
       "<script>\n",
       "\n",
       "var loadScriptAsync = function(uri){\n",
       "  return new Promise((resolve, reject) => {\n",
       "    //this is to ignore the existence of requirejs amd\n",
       "    var savedexports, savedmodule;\n",
       "    if (typeof exports !== 'undefined') savedexports = exports;\n",
       "    else exports = {}\n",
       "    if (typeof module !== 'undefined') savedmodule = module;\n",
       "    else module = {}\n",
       "\n",
       "    var tag = document.createElement('script');\n",
       "    tag.src = uri;\n",
       "    tag.async = true;\n",
       "    tag.onload = () => {\n",
       "        exports = savedexports;\n",
       "        module = savedmodule;\n",
       "        resolve();\n",
       "    };\n",
       "  var firstScriptTag = document.getElementsByTagName('script')[0];\n",
       "  firstScriptTag.parentNode.insertBefore(tag, firstScriptTag);\n",
       "});\n",
       "};\n",
       "\n",
       "if(typeof $3Dmolpromise === 'undefined') {\n",
       "$3Dmolpromise = null;\n",
       "  $3Dmolpromise = loadScriptAsync('https://cdnjs.cloudflare.com/ajax/libs/3Dmol/2.0.4/3Dmol-min.js');\n",
       "}\n",
       "\n",
       "var viewer_1709143079626244 = null;\n",
       "var warn = document.getElementById(\"3dmolwarning_1709143079626244\");\n",
       "if(warn) {\n",
       "    warn.parentNode.removeChild(warn);\n",
       "}\n",
       "$3Dmolpromise.then(function() {\n",
       "var viewergrid_1709143079626244 = null;\n",
       "viewergrid_1709143079626244 = $3Dmol.createViewerGrid(document.getElementById(\"3dmolviewer_1709143079626244\"),{rows: 1, cols: 2, control_all: true},{backgroundColor:\"white\"});\n",
       "viewer_1709143079626244 = viewergrid_1709143079626244[0][0];\n",
       "viewergrid_1709143079626244[0][0].zoomTo();viewergrid_1709143079626244[0][1].zoomTo();\tviewergrid_1709143079626244[0][0].addModel(\"51\\ncafestol initial structure\\nO  -4.5215   -1.3455    0.4926\\nO  -5.2905    0.0812   -1.7033\\nO   5.1630    0.4345   -0.1101\\nC  -1.2807   -0.7511   -0.0465\\nC  -0.5244    0.5810   -0.4102\\nC   0.9909    0.6610    0.0407\\nC  -2.9440    0.2916    1.2866\\nC  -1.8143   -0.7311    1.3945\\nC  -2.6188   -0.8159   -0.8642\\nC  -3.7116   -0.2387    0.0606\\nC  -0.4332   -2.0024   -0.3283\\nC  -1.3742    1.8303   -0.0654\\nC   1.6844   -0.6873   -0.4019\\nC  -2.3206    1.6833    1.1309\\nC   0.9997   -1.9155    0.1913\\nC   1.7285    1.8344   -0.7277\\nC   1.1437    0.9261    1.5588\\nC   3.1644   -0.6155   -0.2085\\nC  -4.6490    0.7442   -0.6282\\nC   3.2525    1.9378   -0.4590\\nC   3.8298    0.5879   -0.2856\\nC   4.1654   -1.5888    0.0140\\nC   5.3604   -0.9015    0.0689\\nH  -0.4604    0.5817   -1.5108\\nH  -3.5646    0.2626    2.1897\\nH  -1.0861   -0.4449    2.1498\\nH  -2.1902   -1.7145    1.7003\\nH  -2.5286   -0.2495   -1.7981\\nH  -2.8534   -1.8505   -1.1460\\nH  -0.3943   -2.1694   -1.4136\\nH  -0.9135   -2.8938    0.0946\\nH  -1.9810    2.0650   -0.9487\\nH  -0.7587    2.7222    0.0818\\nH   1.5605   -0.7646   -1.4951\\nH  -1.7642    1.9154    2.0477\\nH  -3.1082    2.4431    1.0635\\nH   1.0176   -1.9046    1.2859\\nH   1.5276   -2.8282   -0.1118\\nH   1.2808    2.8061   -0.4944\\nH   1.5851    1.6842   -1.8068\\nH   0.5898    1.8173    1.8670\\nH   0.8147    0.0892    2.1727\\nH   2.1832    1.0992    1.8532\\nH  -4.1337    1.6158   -1.0351\\nH  -5.4265    1.0934    0.0595\\nH   3.4273    2.5264    0.4487\\nH   3.7385    2.4646   -1.2871\\nH  -3.9519   -2.0832    0.7635\\nH   4.0442   -2.6573    0.1180\\nH  -5.7603   -0.6874   -1.3370\\nH   6.3869   -1.2031    0.2186\\n\",\"xyz\");\n",
       "\tviewergrid_1709143079626244[0][0].addModel(\"51\\n\\nO             -4.586928055941        -1.279900278502         0.480283042814\\nO             -5.319303004455         0.246562721248        -1.629048566171\\nO              5.096373000017         0.479142111658         0.047371365474\\nC             -1.255190334737        -0.766697044087        -0.090694738124\\nC             -0.509228101659         0.539152757653        -0.458496895577\\nC              0.978372094285         0.632243277896        -0.011989929990\\nC             -2.880159927638         0.238836939125         1.312497343929\\nC             -1.740437201477        -0.771913882537         1.364288255345\\nC             -2.598892863846        -0.799815950367        -0.863852362904\\nC             -3.682490919094        -0.248170423919         0.088636260523\\nC             -0.416164591043        -1.999830190452        -0.434968427891\\nC             -1.378410241272         1.760376106345        -0.090411235630\\nC              1.674856522712        -0.681263618994        -0.445474585585\\nC             -2.250016767851         1.621564709421         1.161318489591\\nC              0.997769903768        -1.919051070800         0.128039578525\\nC              1.666376992022         1.766537676189        -0.811767828755\\nC              1.168837385400         0.910140771436         1.479849355767\\nC              3.135520451518        -0.569549754156        -0.157646254128\\nC             -4.609456907915         0.795536758444        -0.551571031788\\nC              3.155683645915         1.954159220843        -0.478173249627\\nC              3.782187074264         0.630199613871        -0.219298373721\\nC              4.130802025624        -1.530150719302         0.161772911800\\nC              5.294632854527        -0.835297818412         0.274042331184\\nH             -0.446341978951         0.529018015691        -1.555044784524\\nH             -3.512302270161         0.221149607542         2.205104723604\\nH             -0.987805533686        -0.489646801741         2.090189079032\\nH             -2.099466440651        -1.770583397118         1.629844363777\\nH             -2.561113671771        -0.227435281566        -1.788326722991\\nH             -2.854655254780        -1.827144641595        -1.131680642678\\nH             -0.352920299911        -2.090381410811        -1.522830098502\\nH             -0.917392428938        -2.895613109147        -0.058907394191\\nH             -2.030547015410         1.964782549050        -0.939715194246\\nH             -0.751053821960         2.643276351670         0.031134002897\\nH              1.568214060756        -0.751868253404        -1.538315094055\\nH             -1.648526706159         1.799632325828         2.055430382536\\nH             -3.024936822431         2.390210754928         1.135414380640\\nH              0.980001150621        -1.887152910631         1.216951626743\\nH              1.555474781208        -2.809091091523        -0.168723159677\\nH              1.159647789788         2.715758590120        -0.638991228141\\nH              1.574182906066         1.537824461159        -1.875605350137\\nH              0.649837268400         1.820869162749         1.764760037562\\nH              0.808398863068         0.095443809520         2.096526999233\\nH              2.222626377259         1.033899812344         1.709265514236\\nH             -4.054650037994         1.641880471683        -0.952435296680\\nH             -5.302113627907         1.156095986337         0.223473081069\\nH              3.278594657096         2.596762358200         0.399148346206\\nH              3.657824867869         2.457385695898        -1.308818055792\\nH             -4.087274176937        -1.977207704933         0.916415481386\\nH              4.002114357313        -2.584672994820         0.293398769454\\nH             -5.695005274196        -0.585384436230        -1.313404326444\\nH              6.294955249276        -1.145419831800         0.501035104623\\n\",\"xyz\");\n",
       "\tviewergrid_1709143079626244[0][1].addModel(\"49\\nkahweol initial structure\\nO  -4.4710   -1.5361    0.0905\\nO  -5.6188    0.9753   -0.0811\\nO   5.1625    0.5695   -0.0997\\nC  -1.2209   -0.8317   -0.2017\\nC  -0.4821    0.5357   -0.4703\\nC  -3.0038    0.1167    1.0462\\nC  -1.8514   -0.8737    1.1997\\nC  -2.4967   -0.9058   -1.1119\\nC   0.9884    0.6333    0.0944\\nC  -3.6676   -0.3924   -0.2474\\nC  -0.3220   -2.0551   -0.4569\\nC  -1.3919    1.7479   -0.1363\\nC  -2.4167    1.5304    0.9816\\nC   1.7435   -0.6786   -0.3542\\nC   1.0741   -1.9483    0.1552\\nC   1.0367    0.8330    1.6293\\nC  -4.5845    0.5870   -0.9677\\nC   1.7610    1.8511   -0.4907\\nC   3.2146   -0.5444   -0.1101\\nC   3.1013    1.8722   -0.6493\\nC   3.8167    0.6946   -0.3059\\nC   4.2309   -1.4546    0.2464\\nC   5.3980   -0.7259    0.2399\\nH  -0.3415    0.5842   -1.5631\\nH  -3.6779    0.0397    1.9072\\nH  -1.1861   -0.6021    2.0159\\nH  -2.2356   -1.8757    1.4322\\nH  -2.3648   -0.3090   -2.0216\\nH  -2.6844   -1.9384   -1.4328\\nH  -0.2098   -2.1924   -1.5413\\nH  -0.8043   -2.9694   -0.0890\\nH  -1.9406    2.0033   -1.0514\\nH  -0.8134    2.6482    0.0921\\nH  -1.9341    1.7452    1.9434\\nH  -3.2193    2.2709    0.8849\\nH   1.6699   -0.7251   -1.4553\\nH   1.0259   -1.9792    1.2481\\nH   1.6508   -2.8307   -0.1490\\nH   2.0514    1.0518    1.9842\\nH   0.4166    1.6762    1.9486\\nH   0.7233   -0.0489    2.1864\\nH  -5.0524    0.1195   -1.8415\\nH  -4.0679    1.4861   -1.3088\\nH   1.2088    2.7568   -0.7218\\nH  -5.0925   -1.2746    0.7905\\nH   3.6240    2.7536   -0.9997\\nH   4.1386   -2.5085    0.4650\\nH  -6.2132    0.2149    0.0339\\nH   6.4308   -0.9731    0.4374\\n\",\"xyz\");\n",
       "\tviewergrid_1709143079626244[0][1].addModel(\"49\\n\\nO             -4.444246972056        -1.519499655762         0.133687582938\\nO             -5.717823243151         0.941920933384        -0.067035436722\\nO              5.074906553356         0.622192921009         0.095473621605\\nC             -1.218602177470        -0.830635590945        -0.247269687260\\nC             -0.477652283103         0.497206847178        -0.529645892873\\nC             -2.930032979065         0.109194166414         1.091620367651\\nC             -1.787380353587        -0.895060190455         1.174536855964\\nC             -2.515633794301        -0.856029877582        -1.095108400655\\nC              0.968427480369         0.594486642195         0.023105328494\\nC             -3.654876662443        -0.372392188582        -0.180458465671\\nC             -0.338761433634        -2.036945462281        -0.583487562130\\nC             -1.380922756356         1.698249167877        -0.180015938988\\nC             -2.322218386173         1.506830153427         1.012213348971\\nC              1.723651047068        -0.686675607523        -0.399653646682\\nC              1.033745881074        -1.956638220964         0.075497552046\\nC              1.068775622580         0.833466615061         1.537760213368\\nC             -4.585076215915         0.655632054126        -0.853891466021\\nC              1.691792708393         1.770178251901        -0.620456437149\\nC              3.162384607317        -0.539525392485        -0.024308810638\\nC              3.026453656566         1.832992701947        -0.661213519679\\nC              3.761356207783         0.686849555981        -0.200988478905\\nC              4.186105592643        -1.411078117838         0.402955970561\\nC              5.318401976260        -0.648905275222         0.464791122791\\nH             -0.335044211188         0.523188165423        -1.619121956026\\nH             -3.599210152909         0.065664719644         1.957648962266\\nH             -1.080845076642        -0.645952581367         1.956895697023\\nH             -2.177197201485        -1.898085491798         1.358665370301\\nH             -2.433748231438        -0.246586156537        -1.993187401806\\nH             -2.750556225758        -1.876641147086        -1.397583085374\\nH             -0.202961075603        -2.084227504514        -1.667524109178\\nH             -0.851690180632        -2.949995067512        -0.273727540503\\nH             -1.983528910513         1.923955669245        -1.061256484936\\nH             -0.768118239790         2.580194198490         0.010452636569\\nH             -1.779681098561         1.670317147132         1.945888043310\\nH             -3.112543884243         2.258628012966         0.965687290245\\nH              1.702617496784        -0.706788379224        -1.502641943600\\nH              0.941020117192        -1.968973038307         1.160844634481\\nH              1.629998494623        -2.823282820498        -0.216933602425\\nH              2.103647103697         1.037195204176         1.803383329903\\nH              0.473057031775         1.693597021371         1.827356123243\\nH              0.749260114613        -0.028531470610         2.112178950817\\nH             -4.890278805139         0.251727947253        -1.829217880237\\nH             -4.081465474350         1.606980463315        -1.012092866944\\nH              1.101025360284         2.598128683152        -0.978016699399\\nH             -4.939041649527        -1.335806083015         0.940565694331\\nH              3.560855008572         2.688859956381        -1.042623896918\\nH              4.105797303707        -2.451938925592         0.640845686369\\nH             -6.244852455390         0.135938218946        -0.009556375902\\nH              6.323310765766        -0.889981172294         0.749463203372\\n\",\"xyz\");\n",
       "\tviewergrid_1709143079626244[0][0].setViewStyle({\"style\": \"outline\", \"width\": 0.05});\n",
       "\tviewergrid_1709143079626244[0][1].setViewStyle({\"style\": \"outline\", \"width\": 0.05});\n",
       "\tviewergrid_1709143079626244[0][0].setStyle({\"stick\": {}, \"sphere\": {\"scale\": 0.25}});\n",
       "\tviewergrid_1709143079626244[0][1].setStyle({\"stick\": {}, \"sphere\": {\"scale\": 0.25}});\n",
       "\tviewergrid_1709143079626244[0][0].zoomTo();\n",
       "\tviewergrid_1709143079626244[0][1].zoomTo();\n",
       "viewergrid_1709143079626244[0][1].render();\n",
       "viewergrid_1709143079626244[0][0].render();\n",
       "});\n",
       "</script>"
      ]
     },
     "metadata": {},
     "output_type": "display_data"
    }
   ],
   "source": [
    "viewer = p3d.view(viewergrid=(1, 2), width=600, height=250, linked=True)\n",
    "\n",
    "viewer.addModel(cafestol_xyz, \"xyz\", viewer=(0, 0))\n",
    "viewer.addModel(opt_cafestol_results[\"final_geometry\"], \"xyz\", viewer=(0, 0))\n",
    "\n",
    "viewer.addModel(kahweol_xyz, \"xyz\", viewer=(0, 1))\n",
    "viewer.addModel(opt_kahweol_results[\"final_geometry\"], \"xyz\", viewer=(0, 1))\n",
    "\n",
    "viewer.setViewStyle({\"style\": \"outline\", \"width\": 0.05})\n",
    "viewer.setStyle({\"stick\": {}, \"sphere\": {\"scale\": 0.25}})\n",
    "\n",
    "viewer.zoomTo()\n",
    "\n",
    "viewer.show()"
   ]
  },
  {
   "cell_type": "markdown",
   "id": "2a3a8f10-ad76-461a-a72e-d68eff085004",
   "metadata": {
    "editable": true,
    "slideshow": {
     "slide_type": ""
    },
    "tags": []
   },
   "source": [
    "The initial and final structures are close so you may need to zoom in to see the subtle differences."
   ]
  }
 ],
 "metadata": {
  "celltoolbar": "Tags",
  "kernelspec": {
   "display_name": "Python 3 (ipykernel)",
   "language": "python",
   "name": "python3"
  },
  "language_info": {
   "codemirror_mode": {
    "name": "ipython",
    "version": 3
   },
   "file_extension": ".py",
   "mimetype": "text/x-python",
   "name": "python",
   "nbconvert_exporter": "python",
   "pygments_lexer": "ipython3",
   "version": "3.10.13"
  }
 },
 "nbformat": 4,
 "nbformat_minor": 5
}
