{
 "cells": [
  {
   "cell_type": "markdown",
   "id": "a2dcd883",
   "metadata": {
    "editable": true,
    "slideshow": {
     "slide_type": ""
    },
    "tags": []
   },
   "source": [
    "# Ground state"
   ]
  },
  {
   "cell_type": "code",
   "execution_count": 1,
   "id": "863ce03b",
   "metadata": {
    "editable": true,
    "slideshow": {
     "slide_type": ""
    },
    "tags": [
     "remove-output"
    ]
   },
   "outputs": [
    {
     "name": "stdout",
     "output_type": "stream",
     "text": [
      "* Warning * Environment variable OMP_NUM_THREADS not set.\n",
      "* Warning * Setting OMP_NUM_THREADS to 4.\n"
     ]
    }
   ],
   "source": [
    "import veloxchem as vlx"
   ]
  },
  {
   "cell_type": "markdown",
   "id": "27b6f714-1c59-4756-a1c3-c17673697ae4",
   "metadata": {
    "editable": true,
    "slideshow": {
     "slide_type": ""
    },
    "tags": []
   },
   "source": [
    "The initial structure can e.g. be defined in terms of a SMILES string."
   ]
  },
  {
   "cell_type": "code",
   "execution_count": 2,
   "id": "a267c86c-53ca-4d9e-aa96-efa1ec329c9a",
   "metadata": {
    "editable": true,
    "slideshow": {
     "slide_type": ""
    },
    "tags": []
   },
   "outputs": [
    {
     "data": {
      "application/3dmoljs_load.v0": "<div id=\"3dmolviewer_17098006135114539\"  style=\"position: relative; width: 400px; height: 300px;\">\n        <p id=\"3dmolwarning_17098006135114539\" style=\"background-color:#ffcccc;color:black\">You appear to be running in JupyterLab (or JavaScript failed to load for some other reason).  You need to install the 3dmol extension: <br>\n        <tt>jupyter labextension install jupyterlab_3dmol</tt></p>\n        </div>\n<script>\n\nvar loadScriptAsync = function(uri){\n  return new Promise((resolve, reject) => {\n    //this is to ignore the existence of requirejs amd\n    var savedexports, savedmodule;\n    if (typeof exports !== 'undefined') savedexports = exports;\n    else exports = {}\n    if (typeof module !== 'undefined') savedmodule = module;\n    else module = {}\n\n    var tag = document.createElement('script');\n    tag.src = uri;\n    tag.async = true;\n    tag.onload = () => {\n        exports = savedexports;\n        module = savedmodule;\n        resolve();\n    };\n  var firstScriptTag = document.getElementsByTagName('script')[0];\n  firstScriptTag.parentNode.insertBefore(tag, firstScriptTag);\n});\n};\n\nif(typeof $3Dmolpromise === 'undefined') {\n$3Dmolpromise = null;\n  $3Dmolpromise = loadScriptAsync('https://cdnjs.cloudflare.com/ajax/libs/3Dmol/2.0.4/3Dmol-min.js');\n}\n\nvar viewer_17098006135114539 = null;\nvar warn = document.getElementById(\"3dmolwarning_17098006135114539\");\nif(warn) {\n    warn.parentNode.removeChild(warn);\n}\n$3Dmolpromise.then(function() {\nviewer_17098006135114539 = $3Dmol.createViewer(document.getElementById(\"3dmolviewer_17098006135114539\"),{backgroundColor:\"white\"});\nviewer_17098006135114539.zoomTo();\n\tviewer_17098006135114539.addModel(\"9\\n\\nO              0.961150000000        -0.058000000000        -0.075950000000\\nC              2.329500000000        -0.073340000000        -0.090480000000\\nC              3.010850000000        -0.905560000000        -0.878800000000\\nC              4.483630000000        -0.894920000000        -0.868720000000\\nO              5.135240000000        -1.647520000000        -1.581620000000\\nH              0.660770000000         0.614910000000         0.561460000000\\nH              2.776470000000         0.642820000000         0.587900000000\\nH              2.524430000000        -1.607770000000        -1.543960000000\\nH              4.963860000000        -0.174330000000        -0.186150000000\\n\");\n\tviewer_17098006135114539.setViewStyle({\"style\": \"outline\", \"width\": 0.05});\n\tviewer_17098006135114539.setStyle({\"stick\": {}, \"sphere\": {\"scale\": 0.25}});\n\tviewer_17098006135114539.zoomTo();\nviewer_17098006135114539.render();\n});\n</script>",
      "text/html": [
       "<div id=\"3dmolviewer_17098006135114539\"  style=\"position: relative; width: 400px; height: 300px;\">\n",
       "        <p id=\"3dmolwarning_17098006135114539\" style=\"background-color:#ffcccc;color:black\">You appear to be running in JupyterLab (or JavaScript failed to load for some other reason).  You need to install the 3dmol extension: <br>\n",
       "        <tt>jupyter labextension install jupyterlab_3dmol</tt></p>\n",
       "        </div>\n",
       "<script>\n",
       "\n",
       "var loadScriptAsync = function(uri){\n",
       "  return new Promise((resolve, reject) => {\n",
       "    //this is to ignore the existence of requirejs amd\n",
       "    var savedexports, savedmodule;\n",
       "    if (typeof exports !== 'undefined') savedexports = exports;\n",
       "    else exports = {}\n",
       "    if (typeof module !== 'undefined') savedmodule = module;\n",
       "    else module = {}\n",
       "\n",
       "    var tag = document.createElement('script');\n",
       "    tag.src = uri;\n",
       "    tag.async = true;\n",
       "    tag.onload = () => {\n",
       "        exports = savedexports;\n",
       "        module = savedmodule;\n",
       "        resolve();\n",
       "    };\n",
       "  var firstScriptTag = document.getElementsByTagName('script')[0];\n",
       "  firstScriptTag.parentNode.insertBefore(tag, firstScriptTag);\n",
       "});\n",
       "};\n",
       "\n",
       "if(typeof $3Dmolpromise === 'undefined') {\n",
       "$3Dmolpromise = null;\n",
       "  $3Dmolpromise = loadScriptAsync('https://cdnjs.cloudflare.com/ajax/libs/3Dmol/2.0.4/3Dmol-min.js');\n",
       "}\n",
       "\n",
       "var viewer_17098006135114539 = null;\n",
       "var warn = document.getElementById(\"3dmolwarning_17098006135114539\");\n",
       "if(warn) {\n",
       "    warn.parentNode.removeChild(warn);\n",
       "}\n",
       "$3Dmolpromise.then(function() {\n",
       "viewer_17098006135114539 = $3Dmol.createViewer(document.getElementById(\"3dmolviewer_17098006135114539\"),{backgroundColor:\"white\"});\n",
       "viewer_17098006135114539.zoomTo();\n",
       "\tviewer_17098006135114539.addModel(\"9\\n\\nO              0.961150000000        -0.058000000000        -0.075950000000\\nC              2.329500000000        -0.073340000000        -0.090480000000\\nC              3.010850000000        -0.905560000000        -0.878800000000\\nC              4.483630000000        -0.894920000000        -0.868720000000\\nO              5.135240000000        -1.647520000000        -1.581620000000\\nH              0.660770000000         0.614910000000         0.561460000000\\nH              2.776470000000         0.642820000000         0.587900000000\\nH              2.524430000000        -1.607770000000        -1.543960000000\\nH              4.963860000000        -0.174330000000        -0.186150000000\\n\");\n",
       "\tviewer_17098006135114539.setViewStyle({\"style\": \"outline\", \"width\": 0.05});\n",
       "\tviewer_17098006135114539.setStyle({\"stick\": {}, \"sphere\": {\"scale\": 0.25}});\n",
       "\tviewer_17098006135114539.zoomTo();\n",
       "viewer_17098006135114539.render();\n",
       "});\n",
       "</script>"
      ]
     },
     "metadata": {},
     "output_type": "display_data"
    }
   ],
   "source": [
    "molecule = vlx.Molecule.read_smiles(\"OC=CC=O\")\n",
    "molecule.show()"
   ]
  },
  {
   "cell_type": "markdown",
   "id": "30bd0d81-d69b-41b2-bfdb-bec3d4b37d7c",
   "metadata": {
    "editable": true,
    "slideshow": {
     "slide_type": ""
    },
    "tags": []
   },
   "source": [
    "Define the electronic structure theory method."
   ]
  },
  {
   "cell_type": "code",
   "execution_count": 3,
   "id": "7b7274c7-b300-44ef-8e24-e462e54e425a",
   "metadata": {
    "editable": true,
    "scrolled": true,
    "slideshow": {
     "slide_type": ""
    },
    "tags": []
   },
   "outputs": [],
   "source": [
    "scf_drv = vlx.XtbDriver()"
   ]
  },
  {
   "cell_type": "markdown",
   "id": "f1ada37c-f7fe-4cd8-8c0d-b68c7e53bd79",
   "metadata": {
    "editable": true,
    "slideshow": {
     "slide_type": ""
    },
    "tags": []
   },
   "source": [
    "Optimize the molecule structure with the `OptimizationDriver` class in VeloxChem."
   ]
  },
  {
   "cell_type": "code",
   "execution_count": 4,
   "id": "d9cc7622-bd4d-4983-887c-124c76ac89ee",
   "metadata": {
    "editable": true,
    "slideshow": {
     "slide_type": ""
    },
    "tags": []
   },
   "outputs": [],
   "source": [
    "opt_drv = vlx.OptimizationDriver(scf_drv)\n",
    "opt_drv.ostream.mute()\n",
    "\n",
    "opt_results = opt_drv.compute(molecule)"
   ]
  },
  {
   "cell_type": "markdown",
   "id": "40716e45-b7f3-46db-8081-01a51c29b00c",
   "metadata": {
    "editable": true,
    "slideshow": {
     "slide_type": ""
    },
    "tags": []
   },
   "source": [
    "The SCF energies calculated in the optimization process are available in the resulting object."
   ]
  },
  {
   "cell_type": "code",
   "execution_count": 5,
   "id": "d21f8f52-e0b6-4fac-b595-3454ca30f13f",
   "metadata": {
    "editable": true,
    "slideshow": {
     "slide_type": ""
    },
    "tags": []
   },
   "outputs": [
    {
     "data": {
      "image/png": "[encoded data removed]",
      "text/plain": [
       "<Figure size 600x300 with 1 Axes>"
      ]
     },
     "metadata": {},
     "output_type": "display_data"
    }
   ],
   "source": [
    "from matplotlib import pyplot as plt\n",
    "\n",
    "e_min_in_au = min(opt_results[\"opt_energies\"])\n",
    "\n",
    "energies_in_kcalpermol = [\n",
    "    (e - e_min_in_au) * vlx.hartree_in_kcalpermol() for e in opt_results[\"opt_energies\"]\n",
    "]\n",
    "\n",
    "fig, ax = plt.subplots(figsize=(6, 3))\n",
    "\n",
    "ax.plot(energies_in_kcalpermol, \"o--\")\n",
    "\n",
    "ax.set_xlabel(\"Iteration\")\n",
    "ax.set_ylabel(r\"Energy relaxation (kcal/mol)\")\n",
    "\n",
    "plt.show()"
   ]
  },
  {
   "cell_type": "markdown",
   "id": "3f35b722-0d4b-4fdd-9df3-2101e40a5249",
   "metadata": {
    "editable": true,
    "slideshow": {
     "slide_type": ""
    },
    "tags": []
   },
   "source": [
    "The molecular structure relaxation can be visualized."
   ]
  },
  {
   "cell_type": "code",
   "execution_count": 6,
   "id": "fc3cddad-d2da-467e-9105-a47111490c3c",
   "metadata": {
    "editable": true,
    "slideshow": {
     "slide_type": ""
    },
    "tags": []
   },
   "outputs": [
    {
     "data": {
      "application/3dmoljs_load.v0": "<div id=\"3dmolviewer_1709800617415002\"  style=\"position: relative; width: 400px; height: 300px;\">\n        <p id=\"3dmolwarning_1709800617415002\" style=\"background-color:#ffcccc;color:black\">You appear to be running in JupyterLab (or JavaScript failed to load for some other reason).  You need to install the 3dmol extension: <br>\n        <tt>jupyter labextension install jupyterlab_3dmol</tt></p>\n        </div>\n<script>\n\nvar loadScriptAsync = function(uri){\n  return new Promise((resolve, reject) => {\n    //this is to ignore the existence of requirejs amd\n    var savedexports, savedmodule;\n    if (typeof exports !== 'undefined') savedexports = exports;\n    else exports = {}\n    if (typeof module !== 'undefined') savedmodule = module;\n    else module = {}\n\n    var tag = document.createElement('script');\n    tag.src = uri;\n    tag.async = true;\n    tag.onload = () => {\n        exports = savedexports;\n        module = savedmodule;\n        resolve();\n    };\n  var firstScriptTag = document.getElementsByTagName('script')[0];\n  firstScriptTag.parentNode.insertBefore(tag, firstScriptTag);\n});\n};\n\nif(typeof $3Dmolpromise === 'undefined') {\n$3Dmolpromise = null;\n  $3Dmolpromise = loadScriptAsync('https://cdnjs.cloudflare.com/ajax/libs/3Dmol/2.0.4/3Dmol-min.js');\n}\n\nvar viewer_1709800617415002 = null;\nvar warn = document.getElementById(\"3dmolwarning_1709800617415002\");\nif(warn) {\n    warn.parentNode.removeChild(warn);\n}\n$3Dmolpromise.then(function() {\nviewer_1709800617415002 = $3Dmol.createViewer(document.getElementById(\"3dmolviewer_1709800617415002\"),{backgroundColor:\"white\"});\nviewer_1709800617415002.zoomTo();\n\tviewer_1709800617415002.addModelsAsFrames(\"9\\n\\nO              0.961150000000        -0.058000000000        -0.075950000000\\nC              2.329500000000        -0.073340000000        -0.090480000000\\nC              3.010850000000        -0.905560000000        -0.878800000000\\nC              4.483630000000        -0.894920000000        -0.868720000000\\nO              5.135240000000        -1.647520000000        -1.581620000000\\nH              0.660770000000         0.614910000000         0.561460000000\\nH              2.776470000000         0.642820000000         0.587900000000\\nH              2.524430000000        -1.607770000000        -1.543960000000\\nH              4.963860000000        -0.174330000000        -0.186150000000\\n9\\n\\nO              0.961454457113        -0.047821794547        -0.066306140291\\nC              2.317866060949        -0.062154042328        -0.079885547720\\nC              3.017141521991        -0.887526267258        -0.861717608838\\nC              4.468414467963        -0.945408457248        -0.916548742254\\nO              5.240356862279        -1.621866754731        -1.557317449449\\nH              0.621841968686         0.607940971189         0.554860959214\\nH              2.804459049852         0.640662833063         0.585852318001\\nH              2.501954004741        -1.573667803821        -1.511658917666\\nH              4.912411606424        -0.213868684318        -0.223598870996\\n9\\n\\nO              0.976718865828        -0.053715448721        -0.071888825118\\nC              2.326593124943        -0.066003473568        -0.083531983319\\nC              3.017524010122        -0.894870547422        -0.868674486884\\nC              4.463922655077        -0.921528613045        -0.893928722899\\nO              5.177319703435        -1.626420614968        -1.561630715203\\nH              0.632563312402         0.599105804713         0.546492031346\\nH              2.823528178712         0.633778702808         0.579331232783\\nH              2.507543946823        -1.584165123342        -1.521602635695\\nH              4.920186202657        -0.189890686455        -0.200885895012\\n9\\n\\nO              0.971161970923        -0.043954286399        -0.062643468405\\nC              2.314172699698        -0.079490476535        -0.096307703635\\nC              3.019972155248        -0.905120650085        -0.878382550949\\nC              4.469241333030        -0.906980850679        -0.880144833676\\nO              5.155615724668        -1.626534987074        -1.561740830122\\nH              0.644020325475         0.613885121198         0.560491378054\\nH              2.828684802155         0.614578071223         0.561144202562\\nH              2.517767816586        -1.598586820321        -1.535263873108\\nH              4.925263172217        -0.171505121328        -0.183472320722\\n9\\n\\nO              0.990675116741        -0.058420299728        -0.076346736350\\nC              2.330463354678        -0.065952118672        -0.083483310217\\nC              3.012430955524        -0.902700266303        -0.876089390386\\nC              4.461463404492        -0.907472567323        -0.880611284523\\nO              5.150270999365        -1.626152509863        -1.561378592970\\nH              0.636544368866         0.591963496823         0.539725959662\\nH              2.851679947352         0.626958170027         0.572871597988\\nH              2.496094572440        -1.591128191324        -1.528198519780\\nH              4.916277280541        -0.170805713638        -0.182809723423\\n9\\n\\nO              0.980674008975        -0.051817911415        -0.070092449285\\nC              2.322046012765        -0.071243982782        -0.088495823723\\nC              3.017058911830        -0.901815058057        -0.875251226006\\nC              4.465026630030        -0.910266128856        -0.883259102661\\nO              5.158670051194        -1.626372892587        -1.561586686151\\nH              0.637284559039         0.601719148410         0.548966975332\\nH              2.839805072035         0.622242807414         0.568404832677\\nH              2.505831031823        -1.591604316112        -1.528649270670\\nH              4.919503722308        -0.174551666015        -0.186357249513\\n9\\n\\nO              0.980969289094        -0.051204184376        -0.069511295927\\nC              2.321857145621        -0.072046350049        -0.089256127898\\nC              3.016394215708        -0.903062757678        -0.876432833515\\nC              4.464555831257        -0.909518783632        -0.882549770923\\nO              5.159150095296        -1.625329705541        -1.560599142037\\nH              0.638940434106         0.602867567886         0.550054950118\\nH              2.840784103812         0.621061914297         0.567286228057\\nH              2.505264199420        -1.593033962642        -1.530003667844\\nH              4.917984685686        -0.173443738266        -0.185308340031\\n9\\n\\nO              0.980990157031        -0.051843766170        -0.070117218124\\nC              2.321758270683        -0.071430411348        -0.088672542795\\nC              3.016972899400        -0.902215542811        -0.875630274558\\nC              4.465065083056        -0.909653311566        -0.882677685708\\nO              5.158045897965        -1.626337497770        -1.561553722281\\nH              0.637627387594         0.601895449448         0.549134012799\\nH              2.840112362384         0.621937185393         0.568115406845\\nH              2.505468357373        -1.592012882202        -1.529036292919\\nH              4.919859584513        -0.174049222974        -0.185881683260\\n9\\n\\nO              0.981044180766        -0.051634785738        -0.069919258235\\nC              2.321847302578        -0.071604261158        -0.088837198369\\nC              3.016796268066        -0.902473916835        -0.875875038579\\nC              4.464798421351        -0.909673356198        -0.882696894524\\nO              5.158595681215        -1.625930926196        -1.561168541242\\nH              0.637960435635         0.602166936445         0.549391181485\\nH              2.840493454793         0.621635431973         0.567829541753\\nH              2.505314614866        -1.592268541685        -1.529278413774\\nH              4.919049640731        -0.173926580607        -0.185765378516\\n\");\n\tviewer_1709800617415002.animate({\"loop\": \"forward\"});\n\tviewer_1709800617415002.setViewStyle({\"style\": \"outline\", \"width\": 0.05});\n\tviewer_1709800617415002.setStyle({\"stick\": {}, \"sphere\": {\"scale\": 0.25}});\n\tviewer_1709800617415002.zoomTo();\nviewer_1709800617415002.render();\n});\n</script>",
      "text/html": [
       "<div id=\"3dmolviewer_1709800617415002\"  style=\"position: relative; width: 400px; height: 300px;\">\n",
       "        <p id=\"3dmolwarning_1709800617415002\" style=\"background-color:#ffcccc;color:black\">You appear to be running in JupyterLab (or JavaScript failed to load for some other reason).  You need to install the 3dmol extension: <br>\n",
       "        <tt>jupyter labextension install jupyterlab_3dmol</tt></p>\n",
       "        </div>\n",
       "<script>\n",
       "\n",
       "var loadScriptAsync = function(uri){\n",
       "  return new Promise((resolve, reject) => {\n",
       "    //this is to ignore the existence of requirejs amd\n",
       "    var savedexports, savedmodule;\n",
       "    if (typeof exports !== 'undefined') savedexports = exports;\n",
       "    else exports = {}\n",
       "    if (typeof module !== 'undefined') savedmodule = module;\n",
       "    else module = {}\n",
       "\n",
       "    var tag = document.createElement('script');\n",
       "    tag.src = uri;\n",
       "    tag.async = true;\n",
       "    tag.onload = () => {\n",
       "        exports = savedexports;\n",
       "        module = savedmodule;\n",
       "        resolve();\n",
       "    };\n",
       "  var firstScriptTag = document.getElementsByTagName('script')[0];\n",
       "  firstScriptTag.parentNode.insertBefore(tag, firstScriptTag);\n",
       "});\n",
       "};\n",
       "\n",
       "if(typeof $3Dmolpromise === 'undefined') {\n",
       "$3Dmolpromise = null;\n",
       "  $3Dmolpromise = loadScriptAsync('https://cdnjs.cloudflare.com/ajax/libs/3Dmol/2.0.4/3Dmol-min.js');\n",
       "}\n",
       "\n",
       "var viewer_1709800617415002 = null;\n",
       "var warn = document.getElementById(\"3dmolwarning_1709800617415002\");\n",
       "if(warn) {\n",
       "    warn.parentNode.removeChild(warn);\n",
       "}\n",
       "$3Dmolpromise.then(function() {\n",
       "viewer_1709800617415002 = $3Dmol.createViewer(document.getElementById(\"3dmolviewer_1709800617415002\"),{backgroundColor:\"white\"});\n",
       "viewer_1709800617415002.zoomTo();\n",
       "\tviewer_1709800617415002.addModelsAsFrames(\"9\\n\\nO              0.961150000000        -0.058000000000        -0.075950000000\\nC              2.329500000000        -0.073340000000        -0.090480000000\\nC              3.010850000000        -0.905560000000        -0.878800000000\\nC              4.483630000000        -0.894920000000        -0.868720000000\\nO              5.135240000000        -1.647520000000        -1.581620000000\\nH              0.660770000000         0.614910000000         0.561460000000\\nH              2.776470000000         0.642820000000         0.587900000000\\nH              2.524430000000        -1.607770000000        -1.543960000000\\nH              4.963860000000        -0.174330000000        -0.186150000000\\n9\\n\\nO              0.961454457113        -0.047821794547        -0.066306140291\\nC              2.317866060949        -0.062154042328        -0.079885547720\\nC              3.017141521991        -0.887526267258        -0.861717608838\\nC              4.468414467963        -0.945408457248        -0.916548742254\\nO              5.240356862279        -1.621866754731        -1.557317449449\\nH              0.621841968686         0.607940971189         0.554860959214\\nH              2.804459049852         0.640662833063         0.585852318001\\nH              2.501954004741        -1.573667803821        -1.511658917666\\nH              4.912411606424        -0.213868684318        -0.223598870996\\n9\\n\\nO              0.976718865828        -0.053715448721        -0.071888825118\\nC              2.326593124943        -0.066003473568        -0.083531983319\\nC              3.017524010122        -0.894870547422        -0.868674486884\\nC              4.463922655077        -0.921528613045        -0.893928722899\\nO              5.177319703435        -1.626420614968        -1.561630715203\\nH              0.632563312402         0.599105804713         0.546492031346\\nH              2.823528178712         0.633778702808         0.579331232783\\nH              2.507543946823        -1.584165123342        -1.521602635695\\nH              4.920186202657        -0.189890686455        -0.200885895012\\n9\\n\\nO              0.971161970923        -0.043954286399        -0.062643468405\\nC              2.314172699698        -0.079490476535        -0.096307703635\\nC              3.019972155248        -0.905120650085        -0.878382550949\\nC              4.469241333030        -0.906980850679        -0.880144833676\\nO              5.155615724668        -1.626534987074        -1.561740830122\\nH              0.644020325475         0.613885121198         0.560491378054\\nH              2.828684802155         0.614578071223         0.561144202562\\nH              2.517767816586        -1.598586820321        -1.535263873108\\nH              4.925263172217        -0.171505121328        -0.183472320722\\n9\\n\\nO              0.990675116741        -0.058420299728        -0.076346736350\\nC              2.330463354678        -0.065952118672        -0.083483310217\\nC              3.012430955524        -0.902700266303        -0.876089390386\\nC              4.461463404492        -0.907472567323        -0.880611284523\\nO              5.150270999365        -1.626152509863        -1.561378592970\\nH              0.636544368866         0.591963496823         0.539725959662\\nH              2.851679947352         0.626958170027         0.572871597988\\nH              2.496094572440        -1.591128191324        -1.528198519780\\nH              4.916277280541        -0.170805713638        -0.182809723423\\n9\\n\\nO              0.980674008975        -0.051817911415        -0.070092449285\\nC              2.322046012765        -0.071243982782        -0.088495823723\\nC              3.017058911830        -0.901815058057        -0.875251226006\\nC              4.465026630030        -0.910266128856        -0.883259102661\\nO              5.158670051194        -1.626372892587        -1.561586686151\\nH              0.637284559039         0.601719148410         0.548966975332\\nH              2.839805072035         0.622242807414         0.568404832677\\nH              2.505831031823        -1.591604316112        -1.528649270670\\nH              4.919503722308        -0.174551666015        -0.186357249513\\n9\\n\\nO              0.980969289094        -0.051204184376        -0.069511295927\\nC              2.321857145621        -0.072046350049        -0.089256127898\\nC              3.016394215708        -0.903062757678        -0.876432833515\\nC              4.464555831257        -0.909518783632        -0.882549770923\\nO              5.159150095296        -1.625329705541        -1.560599142037\\nH              0.638940434106         0.602867567886         0.550054950118\\nH              2.840784103812         0.621061914297         0.567286228057\\nH              2.505264199420        -1.593033962642        -1.530003667844\\nH              4.917984685686        -0.173443738266        -0.185308340031\\n9\\n\\nO              0.980990157031        -0.051843766170        -0.070117218124\\nC              2.321758270683        -0.071430411348        -0.088672542795\\nC              3.016972899400        -0.902215542811        -0.875630274558\\nC              4.465065083056        -0.909653311566        -0.882677685708\\nO              5.158045897965        -1.626337497770        -1.561553722281\\nH              0.637627387594         0.601895449448         0.549134012799\\nH              2.840112362384         0.621937185393         0.568115406845\\nH              2.505468357373        -1.592012882202        -1.529036292919\\nH              4.919859584513        -0.174049222974        -0.185881683260\\n9\\n\\nO              0.981044180766        -0.051634785738        -0.069919258235\\nC              2.321847302578        -0.071604261158        -0.088837198369\\nC              3.016796268066        -0.902473916835        -0.875875038579\\nC              4.464798421351        -0.909673356198        -0.882696894524\\nO              5.158595681215        -1.625930926196        -1.561168541242\\nH              0.637960435635         0.602166936445         0.549391181485\\nH              2.840493454793         0.621635431973         0.567829541753\\nH              2.505314614866        -1.592268541685        -1.529278413774\\nH              4.919049640731        -0.173926580607        -0.185765378516\\n\");\n",
       "\tviewer_1709800617415002.animate({\"loop\": \"forward\"});\n",
       "\tviewer_1709800617415002.setViewStyle({\"style\": \"outline\", \"width\": 0.05});\n",
       "\tviewer_1709800617415002.setStyle({\"stick\": {}, \"sphere\": {\"scale\": 0.25}});\n",
       "\tviewer_1709800617415002.zoomTo();\n",
       "viewer_1709800617415002.render();\n",
       "});\n",
       "</script>"
      ]
     },
     "metadata": {},
     "output_type": "display_data"
    }
   ],
   "source": [
    "import py3Dmol as p3d\n",
    "\n",
    "viewer = p3d.view(width=400, height=300)\n",
    "\n",
    "viewer.addModelsAsFrames(\"\".join(opt_results[\"opt_geometries\"]))\n",
    "viewer.animate({\"loop\": \"forward\"})\n",
    "viewer.setViewStyle({\"style\": \"outline\", \"width\": 0.05})\n",
    "viewer.setStyle({\"stick\": {}, \"sphere\": {\"scale\": 0.25}})\n",
    "\n",
    "viewer.zoomTo()\n",
    "\n",
    "viewer.show()"
   ]
  },
  {
   "cell_type": "markdown",
   "id": "a2034f90-5b03-4eb2-b2a2-cc38fa210711",
   "metadata": {
    "editable": true,
    "slideshow": {
     "slide_type": ""
    },
    "tags": []
   },
   "source": [
    "## Larger molecules\n",
    "\n",
    "[Cafestol](https://en.wikipedia.org/wiki/Cafestol) and [kahweol](https://en.wikipedia.org/wiki/Kahweol) are molecules present in Robusta and Arabica coffee beans, respectively.\n",
    "\n",
    "We here use the semi-empirical tight binding method named xTB and a [code implementation](https://xtb-docs.readthedocs.io/en/latest/) that has been interfaced to VeloxChem."
   ]
  },
  {
   "cell_type": "code",
   "execution_count": 7,
   "id": "2570a30b",
   "metadata": {
    "editable": true,
    "slideshow": {
     "slide_type": ""
    },
    "tags": [
     "hide-input"
    ]
   },
   "outputs": [],
   "source": [
    "cafestol_xyz = \"\"\"51\n",
    "cafestol initial structure\n",
    "O  -4.5215   -1.3455    0.4926\n",
    "O  -5.2905    0.0812   -1.7033\n",
    "O   5.1630    0.4345   -0.1101\n",
    "C  -1.2807   -0.7511   -0.0465\n",
    "C  -0.5244    0.5810   -0.4102\n",
    "C   0.9909    0.6610    0.0407\n",
    "C  -2.9440    0.2916    1.2866\n",
    "C  -1.8143   -0.7311    1.3945\n",
    "C  -2.6188   -0.8159   -0.8642\n",
    "C  -3.7116   -0.2387    0.0606\n",
    "C  -0.4332   -2.0024   -0.3283\n",
    "C  -1.3742    1.8303   -0.0654\n",
    "C   1.6844   -0.6873   -0.4019\n",
    "C  -2.3206    1.6833    1.1309\n",
    "C   0.9997   -1.9155    0.1913\n",
    "C   1.7285    1.8344   -0.7277\n",
    "C   1.1437    0.9261    1.5588\n",
    "C   3.1644   -0.6155   -0.2085\n",
    "C  -4.6490    0.7442   -0.6282\n",
    "C   3.2525    1.9378   -0.4590\n",
    "C   3.8298    0.5879   -0.2856\n",
    "C   4.1654   -1.5888    0.0140\n",
    "C   5.3604   -0.9015    0.0689\n",
    "H  -0.4604    0.5817   -1.5108\n",
    "H  -3.5646    0.2626    2.1897\n",
    "H  -1.0861   -0.4449    2.1498\n",
    "H  -2.1902   -1.7145    1.7003\n",
    "H  -2.5286   -0.2495   -1.7981\n",
    "H  -2.8534   -1.8505   -1.1460\n",
    "H  -0.3943   -2.1694   -1.4136\n",
    "H  -0.9135   -2.8938    0.0946\n",
    "H  -1.9810    2.0650   -0.9487\n",
    "H  -0.7587    2.7222    0.0818\n",
    "H   1.5605   -0.7646   -1.4951\n",
    "H  -1.7642    1.9154    2.0477\n",
    "H  -3.1082    2.4431    1.0635\n",
    "H   1.0176   -1.9046    1.2859\n",
    "H   1.5276   -2.8282   -0.1118\n",
    "H   1.2808    2.8061   -0.4944\n",
    "H   1.5851    1.6842   -1.8068\n",
    "H   0.5898    1.8173    1.8670\n",
    "H   0.8147    0.0892    2.1727\n",
    "H   2.1832    1.0992    1.8532\n",
    "H  -4.1337    1.6158   -1.0351\n",
    "H  -5.4265    1.0934    0.0595\n",
    "H   3.4273    2.5264    0.4487\n",
    "H   3.7385    2.4646   -1.2871\n",
    "H  -3.9519   -2.0832    0.7635\n",
    "H   4.0442   -2.6573    0.1180\n",
    "H  -5.7603   -0.6874   -1.3370\n",
    "H   6.3869   -1.2031    0.2186\n",
    "\"\"\"\n",
    "cafestol = vlx.Molecule.read_xyz_string(cafestol_xyz)"
   ]
  },
  {
   "cell_type": "code",
   "execution_count": 8,
   "id": "733ab0df",
   "metadata": {
    "editable": true,
    "slideshow": {
     "slide_type": ""
    },
    "tags": [
     "hide-input"
    ]
   },
   "outputs": [],
   "source": [
    "kahweol_xyz = \"\"\"49\n",
    "kahweol initial structure\n",
    "O  -4.4710   -1.5361    0.0905\n",
    "O  -5.6188    0.9753   -0.0811\n",
    "O   5.1625    0.5695   -0.0997\n",
    "C  -1.2209   -0.8317   -0.2017\n",
    "C  -0.4821    0.5357   -0.4703\n",
    "C  -3.0038    0.1167    1.0462\n",
    "C  -1.8514   -0.8737    1.1997\n",
    "C  -2.4967   -0.9058   -1.1119\n",
    "C   0.9884    0.6333    0.0944\n",
    "C  -3.6676   -0.3924   -0.2474\n",
    "C  -0.3220   -2.0551   -0.4569\n",
    "C  -1.3919    1.7479   -0.1363\n",
    "C  -2.4167    1.5304    0.9816\n",
    "C   1.7435   -0.6786   -0.3542\n",
    "C   1.0741   -1.9483    0.1552\n",
    "C   1.0367    0.8330    1.6293\n",
    "C  -4.5845    0.5870   -0.9677\n",
    "C   1.7610    1.8511   -0.4907\n",
    "C   3.2146   -0.5444   -0.1101\n",
    "C   3.1013    1.8722   -0.6493\n",
    "C   3.8167    0.6946   -0.3059\n",
    "C   4.2309   -1.4546    0.2464\n",
    "C   5.3980   -0.7259    0.2399\n",
    "H  -0.3415    0.5842   -1.5631\n",
    "H  -3.6779    0.0397    1.9072\n",
    "H  -1.1861   -0.6021    2.0159\n",
    "H  -2.2356   -1.8757    1.4322\n",
    "H  -2.3648   -0.3090   -2.0216\n",
    "H  -2.6844   -1.9384   -1.4328\n",
    "H  -0.2098   -2.1924   -1.5413\n",
    "H  -0.8043   -2.9694   -0.0890\n",
    "H  -1.9406    2.0033   -1.0514\n",
    "H  -0.8134    2.6482    0.0921\n",
    "H  -1.9341    1.7452    1.9434\n",
    "H  -3.2193    2.2709    0.8849\n",
    "H   1.6699   -0.7251   -1.4553\n",
    "H   1.0259   -1.9792    1.2481\n",
    "H   1.6508   -2.8307   -0.1490\n",
    "H   2.0514    1.0518    1.9842\n",
    "H   0.4166    1.6762    1.9486\n",
    "H   0.7233   -0.0489    2.1864\n",
    "H  -5.0524    0.1195   -1.8415\n",
    "H  -4.0679    1.4861   -1.3088\n",
    "H   1.2088    2.7568   -0.7218\n",
    "H  -5.0925   -1.2746    0.7905\n",
    "H   3.6240    2.7536   -0.9997\n",
    "H   4.1386   -2.5085    0.4650\n",
    "H  -6.2132    0.2149    0.0339\n",
    "H   6.4308   -0.9731    0.4374\n",
    "\"\"\"\n",
    "kahweol = vlx.Molecule.read_xyz_string(kahweol_xyz)"
   ]
  },
  {
   "cell_type": "markdown",
   "id": "2a66084a",
   "metadata": {
    "editable": true,
    "slideshow": {
     "slide_type": ""
    },
    "tags": []
   },
   "source": [
    "The difference between cafestol and kahweol is very subtle, essentially only one double bond and two H atoms."
   ]
  },
  {
   "cell_type": "markdown",
   "id": "88904dcd-20fc-4017-8a2b-f05801490263",
   "metadata": {
    "editable": true,
    "slideshow": {
     "slide_type": ""
    },
    "tags": []
   },
   "source": [
    "We optimize structures and compare the initial and final geometries."
   ]
  },
  {
   "cell_type": "code",
   "execution_count": 9,
   "id": "01e0233a",
   "metadata": {
    "editable": true,
    "scrolled": true,
    "slideshow": {
     "slide_type": ""
    },
    "tags": []
   },
   "outputs": [],
   "source": [
    "scf_drv = vlx.XtbDriver()"
   ]
  },
  {
   "cell_type": "code",
   "execution_count": 10,
   "id": "8f89aa08",
   "metadata": {
    "editable": true,
    "slideshow": {
     "slide_type": ""
    },
    "tags": []
   },
   "outputs": [],
   "source": [
    "opt_drv = vlx.OptimizationDriver(scf_drv)\n",
    "opt_drv.ostream.mute()\n",
    "\n",
    "opt_cafestol_results = opt_drv.compute(cafestol)\n",
    "opt_kahweol_results = opt_drv.compute(kahweol)"
   ]
  },
  {
   "cell_type": "code",
   "execution_count": 11,
   "id": "5e2186b6-39c7-4f17-bece-28069f6b9a59",
   "metadata": {
    "editable": true,
    "slideshow": {
     "slide_type": ""
    },
    "tags": []
   },
   "outputs": [
    {
     "data": {
      "application/3dmoljs_load.v0": "<div id=\"3dmolviewer_1709800697631737\"  style=\"position: relative; width: 600px; height: 250px;\">\n        <p id=\"3dmolwarning_1709800697631737\" style=\"background-color:#ffcccc;color:black\">You appear to be running in JupyterLab (or JavaScript failed to load for some other reason).  You need to install the 3dmol extension: <br>\n        <tt>jupyter labextension install jupyterlab_3dmol</tt></p>\n        </div>\n<script>\n\nvar loadScriptAsync = function(uri){\n  return new Promise((resolve, reject) => {\n    //this is to ignore the existence of requirejs amd\n    var savedexports, savedmodule;\n    if (typeof exports !== 'undefined') savedexports = exports;\n    else exports = {}\n    if (typeof module !== 'undefined') savedmodule = module;\n    else module = {}\n\n    var tag = document.createElement('script');\n    tag.src = uri;\n    tag.async = true;\n    tag.onload = () => {\n        exports = savedexports;\n        module = savedmodule;\n        resolve();\n    };\n  var firstScriptTag = document.getElementsByTagName('script')[0];\n  firstScriptTag.parentNode.insertBefore(tag, firstScriptTag);\n});\n};\n\nif(typeof $3Dmolpromise === 'undefined') {\n$3Dmolpromise = null;\n  $3Dmolpromise = loadScriptAsync('https://cdnjs.cloudflare.com/ajax/libs/3Dmol/2.0.4/3Dmol-min.js');\n}\n\nvar viewer_1709800697631737 = null;\nvar warn = document.getElementById(\"3dmolwarning_1709800697631737\");\nif(warn) {\n    warn.parentNode.removeChild(warn);\n}\n$3Dmolpromise.then(function() {\nvar viewergrid_1709800697631737 = null;\nviewergrid_1709800697631737 = $3Dmol.createViewerGrid(document.getElementById(\"3dmolviewer_1709800697631737\"),{rows: 1, cols: 2, control_all: true},{backgroundColor:\"white\"});\nviewer_1709800697631737 = viewergrid_1709800697631737[0][0];\nviewergrid_1709800697631737[0][0].zoomTo();viewergrid_1709800697631737[0][1].zoomTo();\tviewergrid_1709800697631737[0][0].addModel(\"51\\ncafestol initial structure\\nO  -4.5215   -1.3455    0.4926\\nO  -5.2905    0.0812   -1.7033\\nO   5.1630    0.4345   -0.1101\\nC  -1.2807   -0.7511   -0.0465\\nC  -0.5244    0.5810   -0.4102\\nC   0.9909    0.6610    0.0407\\nC  -2.9440    0.2916    1.2866\\nC  -1.8143   -0.7311    1.3945\\nC  -2.6188   -0.8159   -0.8642\\nC  -3.7116   -0.2387    0.0606\\nC  -0.4332   -2.0024   -0.3283\\nC  -1.3742    1.8303   -0.0654\\nC   1.6844   -0.6873   -0.4019\\nC  -2.3206    1.6833    1.1309\\nC   0.9997   -1.9155    0.1913\\nC   1.7285    1.8344   -0.7277\\nC   1.1437    0.9261    1.5588\\nC   3.1644   -0.6155   -0.2085\\nC  -4.6490    0.7442   -0.6282\\nC   3.2525    1.9378   -0.4590\\nC   3.8298    0.5879   -0.2856\\nC   4.1654   -1.5888    0.0140\\nC   5.3604   -0.9015    0.0689\\nH  -0.4604    0.5817   -1.5108\\nH  -3.5646    0.2626    2.1897\\nH  -1.0861   -0.4449    2.1498\\nH  -2.1902   -1.7145    1.7003\\nH  -2.5286   -0.2495   -1.7981\\nH  -2.8534   -1.8505   -1.1460\\nH  -0.3943   -2.1694   -1.4136\\nH  -0.9135   -2.8938    0.0946\\nH  -1.9810    2.0650   -0.9487\\nH  -0.7587    2.7222    0.0818\\nH   1.5605   -0.7646   -1.4951\\nH  -1.7642    1.9154    2.0477\\nH  -3.1082    2.4431    1.0635\\nH   1.0176   -1.9046    1.2859\\nH   1.5276   -2.8282   -0.1118\\nH   1.2808    2.8061   -0.4944\\nH   1.5851    1.6842   -1.8068\\nH   0.5898    1.8173    1.8670\\nH   0.8147    0.0892    2.1727\\nH   2.1832    1.0992    1.8532\\nH  -4.1337    1.6158   -1.0351\\nH  -5.4265    1.0934    0.0595\\nH   3.4273    2.5264    0.4487\\nH   3.7385    2.4646   -1.2871\\nH  -3.9519   -2.0832    0.7635\\nH   4.0442   -2.6573    0.1180\\nH  -5.7603   -0.6874   -1.3370\\nH   6.3869   -1.2031    0.2186\\n\",\"xyz\");\n\tviewergrid_1709800697631737[0][0].addModel(\"51\\n\\nO             -4.586927675631        -1.279901250488         0.480283889258\\nO             -5.319303371255         0.246561612289        -1.629047564005\\nO              5.096372904630         0.479143307852         0.047370301769\\nC             -1.255190179924        -0.766697267314        -0.090694547052\\nC             -0.509228312370         0.539152706201        -0.458496836191\\nC              0.978371952216         0.632243554007        -0.011990165044\\nC             -2.880159718238         0.238836333771         1.312497871362\\nC             -1.740436757000        -0.771914234544         1.364288542388\\nC             -2.598892855778        -0.799816466308        -0.863851903742\\nC             -3.682490844886        -0.248171190685         0.088636940271\\nC             -0.416164228079        -1.999830220376        -0.434968420673\\nC             -1.378410652929         1.760375855154        -0.090410988593\\nC              1.674856588085        -0.681263180524        -0.445474978554\\nC             -2.250016896904         1.621564246844         1.161318909497\\nC              0.997770361121        -1.919050791475         0.128039304629\\nC              1.666376436762         1.766538119277        -0.811768182882\\nC              1.168837478066         0.910141068665         1.479849087007\\nC              3.135520549951        -0.569548993796        -0.157646940332\\nC             -4.609457191685         0.795535793245        -0.551570155702\\nC              3.155683115184         1.954159992057        -0.478173896318\\nC              3.782186890575         0.630200520507        -0.219299168356\\nC              4.130802404397        -1.530149741677         0.161772006416\\nC              5.294633100003        -0.835296581832         0.274041203395\\nH             -0.446342404264         0.529017991206        -1.555044737731\\nH             -3.512301879252         0.221148850319         2.205105376553\\nH             -0.987805008967        -0.489646995919         2.090189221666\\nH             -2.099465720065        -1.770583833084         1.629844708153\\nH             -2.561113977219        -0.227435782944        -1.788326267800\\nH             -2.854655070348        -1.827145213022        -1.131680139618\\nH             -0.352920133524        -2.090381412082        -1.522830105099\\nH             -0.917391789648        -2.895613256952        -0.058907299323\\nH             -2.030547643810         1.964782158890        -0.939714814238\\nH             -0.751054408952         2.643276240790         0.031134133602\\nH              1.568213922182        -0.751867824788        -1.538315466715\\nH             -1.648526696271         1.799631986070         2.055430684632\\nH             -3.024937128787         2.390210119467         1.135414966991\\nH              0.980001818604        -1.887152650003         1.216951356776\\nH              1.555475378307        -2.809090683413        -0.168723557103\\nH              1.159647056566         2.715758916996        -0.638991466197\\nH              1.574182190852         1.537824901222        -1.875605689841\\nH              0.649837230575         1.820869350748         1.764759880739\\nH              0.808399242564         0.095444026866         2.096526792297\\nH              2.222626489621         1.033900322009         1.709265040597\\nH             -4.054650591888         1.641879638800        -0.952434514741\\nH             -5.302113845668         1.156094850357         0.223474094920\\nH              3.278594155654         2.596763141462         0.399147686533\\nH              3.657824059341         2.457386593992        -1.308818793397\\nH             -4.087273556062        -1.977208568639         0.916416225433\\nH              4.002114999005        -2.584672048446         0.293397870783\\nH             -5.695005394570        -0.585385633621        -1.313403264667\\nH              6.294955609707        -1.145418377129         0.501033768248\\n\",\"xyz\");\n\tviewergrid_1709800697631737[0][1].addModel(\"49\\nkahweol initial structure\\nO  -4.4710   -1.5361    0.0905\\nO  -5.6188    0.9753   -0.0811\\nO   5.1625    0.5695   -0.0997\\nC  -1.2209   -0.8317   -0.2017\\nC  -0.4821    0.5357   -0.4703\\nC  -3.0038    0.1167    1.0462\\nC  -1.8514   -0.8737    1.1997\\nC  -2.4967   -0.9058   -1.1119\\nC   0.9884    0.6333    0.0944\\nC  -3.6676   -0.3924   -0.2474\\nC  -0.3220   -2.0551   -0.4569\\nC  -1.3919    1.7479   -0.1363\\nC  -2.4167    1.5304    0.9816\\nC   1.7435   -0.6786   -0.3542\\nC   1.0741   -1.9483    0.1552\\nC   1.0367    0.8330    1.6293\\nC  -4.5845    0.5870   -0.9677\\nC   1.7610    1.8511   -0.4907\\nC   3.2146   -0.5444   -0.1101\\nC   3.1013    1.8722   -0.6493\\nC   3.8167    0.6946   -0.3059\\nC   4.2309   -1.4546    0.2464\\nC   5.3980   -0.7259    0.2399\\nH  -0.3415    0.5842   -1.5631\\nH  -3.6779    0.0397    1.9072\\nH  -1.1861   -0.6021    2.0159\\nH  -2.2356   -1.8757    1.4322\\nH  -2.3648   -0.3090   -2.0216\\nH  -2.6844   -1.9384   -1.4328\\nH  -0.2098   -2.1924   -1.5413\\nH  -0.8043   -2.9694   -0.0890\\nH  -1.9406    2.0033   -1.0514\\nH  -0.8134    2.6482    0.0921\\nH  -1.9341    1.7452    1.9434\\nH  -3.2193    2.2709    0.8849\\nH   1.6699   -0.7251   -1.4553\\nH   1.0259   -1.9792    1.2481\\nH   1.6508   -2.8307   -0.1490\\nH   2.0514    1.0518    1.9842\\nH   0.4166    1.6762    1.9486\\nH   0.7233   -0.0489    2.1864\\nH  -5.0524    0.1195   -1.8415\\nH  -4.0679    1.4861   -1.3088\\nH   1.2088    2.7568   -0.7218\\nH  -5.0925   -1.2746    0.7905\\nH   3.6240    2.7536   -0.9997\\nH   4.1386   -2.5085    0.4650\\nH  -6.2132    0.2149    0.0339\\nH   6.4308   -0.9731    0.4374\\n\",\"xyz\");\n\tviewergrid_1709800697631737[0][1].addModel(\"49\\n\\nO             -4.444246972056        -1.519499655762         0.133687582938\\nO             -5.717823243151         0.941920933384        -0.067035436722\\nO              5.074906553356         0.622192921009         0.095473621605\\nC             -1.218602177470        -0.830635590945        -0.247269687260\\nC             -0.477652283103         0.497206847178        -0.529645892873\\nC             -2.930032979065         0.109194166414         1.091620367651\\nC             -1.787380353587        -0.895060190455         1.174536855964\\nC             -2.515633794301        -0.856029877582        -1.095108400655\\nC              0.968427480369         0.594486642195         0.023105328494\\nC             -3.654876662443        -0.372392188582        -0.180458465671\\nC             -0.338761433634        -2.036945462281        -0.583487562130\\nC             -1.380922756356         1.698249167877        -0.180015938988\\nC             -2.322218386173         1.506830153427         1.012213348971\\nC              1.723651047068        -0.686675607523        -0.399653646682\\nC              1.033745881074        -1.956638220964         0.075497552046\\nC              1.068775622580         0.833466615061         1.537760213368\\nC             -4.585076215915         0.655632054126        -0.853891466021\\nC              1.691792708393         1.770178251901        -0.620456437149\\nC              3.162384607317        -0.539525392485        -0.024308810638\\nC              3.026453656566         1.832992701947        -0.661213519679\\nC              3.761356207783         0.686849555981        -0.200988478905\\nC              4.186105592643        -1.411078117838         0.402955970561\\nC              5.318401976260        -0.648905275222         0.464791122791\\nH             -0.335044211188         0.523188165423        -1.619121956026\\nH             -3.599210152909         0.065664719644         1.957648962266\\nH             -1.080845076642        -0.645952581367         1.956895697023\\nH             -2.177197201485        -1.898085491798         1.358665370301\\nH             -2.433748231438        -0.246586156537        -1.993187401806\\nH             -2.750556225757        -1.876641147086        -1.397583085374\\nH             -0.202961075603        -2.084227504514        -1.667524109178\\nH             -0.851690180632        -2.949995067512        -0.273727540503\\nH             -1.983528910513         1.923955669245        -1.061256484936\\nH             -0.768118239790         2.580194198490         0.010452636569\\nH             -1.779681098561         1.670317147132         1.945888043310\\nH             -3.112543884243         2.258628012965         0.965687290245\\nH              1.702617496784        -0.706788379224        -1.502641943600\\nH              0.941020117192        -1.968973038307         1.160844634481\\nH              1.629998494623        -2.823282820498        -0.216933602425\\nH              2.103647103697         1.037195204176         1.803383329904\\nH              0.473057031775         1.693597021371         1.827356123243\\nH              0.749260114613        -0.028531470610         2.112178950817\\nH             -4.890278805139         0.251727947253        -1.829217880237\\nH             -4.081465474350         1.606980463314        -1.012092866944\\nH              1.101025360284         2.598128683152        -0.978016699399\\nH             -4.939041649527        -1.335806083015         0.940565694331\\nH              3.560855008572         2.688859956382        -1.042623896918\\nH              4.105797303707        -2.451938925592         0.640845686369\\nH             -6.244852455390         0.135938218946        -0.009556375902\\nH              6.323310765766        -0.889981172294         0.749463203373\\n\",\"xyz\");\n\tviewergrid_1709800697631737[0][0].setViewStyle({\"style\": \"outline\", \"width\": 0.05});\n\tviewergrid_1709800697631737[0][1].setViewStyle({\"style\": \"outline\", \"width\": 0.05});\n\tviewergrid_1709800697631737[0][0].setStyle({\"stick\": {}, \"sphere\": {\"scale\": 0.25}});\n\tviewergrid_1709800697631737[0][1].setStyle({\"stick\": {}, \"sphere\": {\"scale\": 0.25}});\n\tviewergrid_1709800697631737[0][0].zoomTo();\n\tviewergrid_1709800697631737[0][1].zoomTo();\nviewergrid_1709800697631737[0][1].render();\nviewergrid_1709800697631737[0][0].render();\n});\n</script>",
      "text/html": [
       "<div id=\"3dmolviewer_1709800697631737\"  style=\"position: relative; width: 600px; height: 250px;\">\n",
       "        <p id=\"3dmolwarning_1709800697631737\" style=\"background-color:#ffcccc;color:black\">You appear to be running in JupyterLab (or JavaScript failed to load for some other reason).  You need to install the 3dmol extension: <br>\n",
       "        <tt>jupyter labextension install jupyterlab_3dmol</tt></p>\n",
       "        </div>\n",
       "<script>\n",
       "\n",
       "var loadScriptAsync = function(uri){\n",
       "  return new Promise((resolve, reject) => {\n",
       "    //this is to ignore the existence of requirejs amd\n",
       "    var savedexports, savedmodule;\n",
       "    if (typeof exports !== 'undefined') savedexports = exports;\n",
       "    else exports = {}\n",
       "    if (typeof module !== 'undefined') savedmodule = module;\n",
       "    else module = {}\n",
       "\n",
       "    var tag = document.createElement('script');\n",
       "    tag.src = uri;\n",
       "    tag.async = true;\n",
       "    tag.onload = () => {\n",
       "        exports = savedexports;\n",
       "        module = savedmodule;\n",
       "        resolve();\n",
       "    };\n",
       "  var firstScriptTag = document.getElementsByTagName('script')[0];\n",
       "  firstScriptTag.parentNode.insertBefore(tag, firstScriptTag);\n",
       "});\n",
       "};\n",
       "\n",
       "if(typeof $3Dmolpromise === 'undefined') {\n",
       "$3Dmolpromise = null;\n",
       "  $3Dmolpromise = loadScriptAsync('https://cdnjs.cloudflare.com/ajax/libs/3Dmol/2.0.4/3Dmol-min.js');\n",
       "}\n",
       "\n",
       "var viewer_1709800697631737 = null;\n",
       "var warn = document.getElementById(\"3dmolwarning_1709800697631737\");\n",
       "if(warn) {\n",
       "    warn.parentNode.removeChild(warn);\n",
       "}\n",
       "$3Dmolpromise.then(function() {\n",
       "var viewergrid_1709800697631737 = null;\n",
       "viewergrid_1709800697631737 = $3Dmol.createViewerGrid(document.getElementById(\"3dmolviewer_1709800697631737\"),{rows: 1, cols: 2, control_all: true},{backgroundColor:\"white\"});\n",
       "viewer_1709800697631737 = viewergrid_1709800697631737[0][0];\n",
       "viewergrid_1709800697631737[0][0].zoomTo();viewergrid_1709800697631737[0][1].zoomTo();\tviewergrid_1709800697631737[0][0].addModel(\"51\\ncafestol initial structure\\nO  -4.5215   -1.3455    0.4926\\nO  -5.2905    0.0812   -1.7033\\nO   5.1630    0.4345   -0.1101\\nC  -1.2807   -0.7511   -0.0465\\nC  -0.5244    0.5810   -0.4102\\nC   0.9909    0.6610    0.0407\\nC  -2.9440    0.2916    1.2866\\nC  -1.8143   -0.7311    1.3945\\nC  -2.6188   -0.8159   -0.8642\\nC  -3.7116   -0.2387    0.0606\\nC  -0.4332   -2.0024   -0.3283\\nC  -1.3742    1.8303   -0.0654\\nC   1.6844   -0.6873   -0.4019\\nC  -2.3206    1.6833    1.1309\\nC   0.9997   -1.9155    0.1913\\nC   1.7285    1.8344   -0.7277\\nC   1.1437    0.9261    1.5588\\nC   3.1644   -0.6155   -0.2085\\nC  -4.6490    0.7442   -0.6282\\nC   3.2525    1.9378   -0.4590\\nC   3.8298    0.5879   -0.2856\\nC   4.1654   -1.5888    0.0140\\nC   5.3604   -0.9015    0.0689\\nH  -0.4604    0.5817   -1.5108\\nH  -3.5646    0.2626    2.1897\\nH  -1.0861   -0.4449    2.1498\\nH  -2.1902   -1.7145    1.7003\\nH  -2.5286   -0.2495   -1.7981\\nH  -2.8534   -1.8505   -1.1460\\nH  -0.3943   -2.1694   -1.4136\\nH  -0.9135   -2.8938    0.0946\\nH  -1.9810    2.0650   -0.9487\\nH  -0.7587    2.7222    0.0818\\nH   1.5605   -0.7646   -1.4951\\nH  -1.7642    1.9154    2.0477\\nH  -3.1082    2.4431    1.0635\\nH   1.0176   -1.9046    1.2859\\nH   1.5276   -2.8282   -0.1118\\nH   1.2808    2.8061   -0.4944\\nH   1.5851    1.6842   -1.8068\\nH   0.5898    1.8173    1.8670\\nH   0.8147    0.0892    2.1727\\nH   2.1832    1.0992    1.8532\\nH  -4.1337    1.6158   -1.0351\\nH  -5.4265    1.0934    0.0595\\nH   3.4273    2.5264    0.4487\\nH   3.7385    2.4646   -1.2871\\nH  -3.9519   -2.0832    0.7635\\nH   4.0442   -2.6573    0.1180\\nH  -5.7603   -0.6874   -1.3370\\nH   6.3869   -1.2031    0.2186\\n\",\"xyz\");\n",
       "\tviewergrid_1709800697631737[0][0].addModel(\"51\\n\\nO             -4.586927675631        -1.279901250488         0.480283889258\\nO             -5.319303371255         0.246561612289        -1.629047564005\\nO              5.096372904630         0.479143307852         0.047370301769\\nC             -1.255190179924        -0.766697267314        -0.090694547052\\nC             -0.509228312370         0.539152706201        -0.458496836191\\nC              0.978371952216         0.632243554007        -0.011990165044\\nC             -2.880159718238         0.238836333771         1.312497871362\\nC             -1.740436757000        -0.771914234544         1.364288542388\\nC             -2.598892855778        -0.799816466308        -0.863851903742\\nC             -3.682490844886        -0.248171190685         0.088636940271\\nC             -0.416164228079        -1.999830220376        -0.434968420673\\nC             -1.378410652929         1.760375855154        -0.090410988593\\nC              1.674856588085        -0.681263180524        -0.445474978554\\nC             -2.250016896904         1.621564246844         1.161318909497\\nC              0.997770361121        -1.919050791475         0.128039304629\\nC              1.666376436762         1.766538119277        -0.811768182882\\nC              1.168837478066         0.910141068665         1.479849087007\\nC              3.135520549951        -0.569548993796        -0.157646940332\\nC             -4.609457191685         0.795535793245        -0.551570155702\\nC              3.155683115184         1.954159992057        -0.478173896318\\nC              3.782186890575         0.630200520507        -0.219299168356\\nC              4.130802404397        -1.530149741677         0.161772006416\\nC              5.294633100003        -0.835296581832         0.274041203395\\nH             -0.446342404264         0.529017991206        -1.555044737731\\nH             -3.512301879252         0.221148850319         2.205105376553\\nH             -0.987805008967        -0.489646995919         2.090189221666\\nH             -2.099465720065        -1.770583833084         1.629844708153\\nH             -2.561113977219        -0.227435782944        -1.788326267800\\nH             -2.854655070348        -1.827145213022        -1.131680139618\\nH             -0.352920133524        -2.090381412082        -1.522830105099\\nH             -0.917391789648        -2.895613256952        -0.058907299323\\nH             -2.030547643810         1.964782158890        -0.939714814238\\nH             -0.751054408952         2.643276240790         0.031134133602\\nH              1.568213922182        -0.751867824788        -1.538315466715\\nH             -1.648526696271         1.799631986070         2.055430684632\\nH             -3.024937128787         2.390210119467         1.135414966991\\nH              0.980001818604        -1.887152650003         1.216951356776\\nH              1.555475378307        -2.809090683413        -0.168723557103\\nH              1.159647056566         2.715758916996        -0.638991466197\\nH              1.574182190852         1.537824901222        -1.875605689841\\nH              0.649837230575         1.820869350748         1.764759880739\\nH              0.808399242564         0.095444026866         2.096526792297\\nH              2.222626489621         1.033900322009         1.709265040597\\nH             -4.054650591888         1.641879638800        -0.952434514741\\nH             -5.302113845668         1.156094850357         0.223474094920\\nH              3.278594155654         2.596763141462         0.399147686533\\nH              3.657824059341         2.457386593992        -1.308818793397\\nH             -4.087273556062        -1.977208568639         0.916416225433\\nH              4.002114999005        -2.584672048446         0.293397870783\\nH             -5.695005394570        -0.585385633621        -1.313403264667\\nH              6.294955609707        -1.145418377129         0.501033768248\\n\",\"xyz\");\n",
       "\tviewergrid_1709800697631737[0][1].addModel(\"49\\nkahweol initial structure\\nO  -4.4710   -1.5361    0.0905\\nO  -5.6188    0.9753   -0.0811\\nO   5.1625    0.5695   -0.0997\\nC  -1.2209   -0.8317   -0.2017\\nC  -0.4821    0.5357   -0.4703\\nC  -3.0038    0.1167    1.0462\\nC  -1.8514   -0.8737    1.1997\\nC  -2.4967   -0.9058   -1.1119\\nC   0.9884    0.6333    0.0944\\nC  -3.6676   -0.3924   -0.2474\\nC  -0.3220   -2.0551   -0.4569\\nC  -1.3919    1.7479   -0.1363\\nC  -2.4167    1.5304    0.9816\\nC   1.7435   -0.6786   -0.3542\\nC   1.0741   -1.9483    0.1552\\nC   1.0367    0.8330    1.6293\\nC  -4.5845    0.5870   -0.9677\\nC   1.7610    1.8511   -0.4907\\nC   3.2146   -0.5444   -0.1101\\nC   3.1013    1.8722   -0.6493\\nC   3.8167    0.6946   -0.3059\\nC   4.2309   -1.4546    0.2464\\nC   5.3980   -0.7259    0.2399\\nH  -0.3415    0.5842   -1.5631\\nH  -3.6779    0.0397    1.9072\\nH  -1.1861   -0.6021    2.0159\\nH  -2.2356   -1.8757    1.4322\\nH  -2.3648   -0.3090   -2.0216\\nH  -2.6844   -1.9384   -1.4328\\nH  -0.2098   -2.1924   -1.5413\\nH  -0.8043   -2.9694   -0.0890\\nH  -1.9406    2.0033   -1.0514\\nH  -0.8134    2.6482    0.0921\\nH  -1.9341    1.7452    1.9434\\nH  -3.2193    2.2709    0.8849\\nH   1.6699   -0.7251   -1.4553\\nH   1.0259   -1.9792    1.2481\\nH   1.6508   -2.8307   -0.1490\\nH   2.0514    1.0518    1.9842\\nH   0.4166    1.6762    1.9486\\nH   0.7233   -0.0489    2.1864\\nH  -5.0524    0.1195   -1.8415\\nH  -4.0679    1.4861   -1.3088\\nH   1.2088    2.7568   -0.7218\\nH  -5.0925   -1.2746    0.7905\\nH   3.6240    2.7536   -0.9997\\nH   4.1386   -2.5085    0.4650\\nH  -6.2132    0.2149    0.0339\\nH   6.4308   -0.9731    0.4374\\n\",\"xyz\");\n",
       "\tviewergrid_1709800697631737[0][1].addModel(\"49\\n\\nO             -4.444246972056        -1.519499655762         0.133687582938\\nO             -5.717823243151         0.941920933384        -0.067035436722\\nO              5.074906553356         0.622192921009         0.095473621605\\nC             -1.218602177470        -0.830635590945        -0.247269687260\\nC             -0.477652283103         0.497206847178        -0.529645892873\\nC             -2.930032979065         0.109194166414         1.091620367651\\nC             -1.787380353587        -0.895060190455         1.174536855964\\nC             -2.515633794301        -0.856029877582        -1.095108400655\\nC              0.968427480369         0.594486642195         0.023105328494\\nC             -3.654876662443        -0.372392188582        -0.180458465671\\nC             -0.338761433634        -2.036945462281        -0.583487562130\\nC             -1.380922756356         1.698249167877        -0.180015938988\\nC             -2.322218386173         1.506830153427         1.012213348971\\nC              1.723651047068        -0.686675607523        -0.399653646682\\nC              1.033745881074        -1.956638220964         0.075497552046\\nC              1.068775622580         0.833466615061         1.537760213368\\nC             -4.585076215915         0.655632054126        -0.853891466021\\nC              1.691792708393         1.770178251901        -0.620456437149\\nC              3.162384607317        -0.539525392485        -0.024308810638\\nC              3.026453656566         1.832992701947        -0.661213519679\\nC              3.761356207783         0.686849555981        -0.200988478905\\nC              4.186105592643        -1.411078117838         0.402955970561\\nC              5.318401976260        -0.648905275222         0.464791122791\\nH             -0.335044211188         0.523188165423        -1.619121956026\\nH             -3.599210152909         0.065664719644         1.957648962266\\nH             -1.080845076642        -0.645952581367         1.956895697023\\nH             -2.177197201485        -1.898085491798         1.358665370301\\nH             -2.433748231438        -0.246586156537        -1.993187401806\\nH             -2.750556225757        -1.876641147086        -1.397583085374\\nH             -0.202961075603        -2.084227504514        -1.667524109178\\nH             -0.851690180632        -2.949995067512        -0.273727540503\\nH             -1.983528910513         1.923955669245        -1.061256484936\\nH             -0.768118239790         2.580194198490         0.010452636569\\nH             -1.779681098561         1.670317147132         1.945888043310\\nH             -3.112543884243         2.258628012965         0.965687290245\\nH              1.702617496784        -0.706788379224        -1.502641943600\\nH              0.941020117192        -1.968973038307         1.160844634481\\nH              1.629998494623        -2.823282820498        -0.216933602425\\nH              2.103647103697         1.037195204176         1.803383329904\\nH              0.473057031775         1.693597021371         1.827356123243\\nH              0.749260114613        -0.028531470610         2.112178950817\\nH             -4.890278805139         0.251727947253        -1.829217880237\\nH             -4.081465474350         1.606980463314        -1.012092866944\\nH              1.101025360284         2.598128683152        -0.978016699399\\nH             -4.939041649527        -1.335806083015         0.940565694331\\nH              3.560855008572         2.688859956382        -1.042623896918\\nH              4.105797303707        -2.451938925592         0.640845686369\\nH             -6.244852455390         0.135938218946        -0.009556375902\\nH              6.323310765766        -0.889981172294         0.749463203373\\n\",\"xyz\");\n",
       "\tviewergrid_1709800697631737[0][0].setViewStyle({\"style\": \"outline\", \"width\": 0.05});\n",
       "\tviewergrid_1709800697631737[0][1].setViewStyle({\"style\": \"outline\", \"width\": 0.05});\n",
       "\tviewergrid_1709800697631737[0][0].setStyle({\"stick\": {}, \"sphere\": {\"scale\": 0.25}});\n",
       "\tviewergrid_1709800697631737[0][1].setStyle({\"stick\": {}, \"sphere\": {\"scale\": 0.25}});\n",
       "\tviewergrid_1709800697631737[0][0].zoomTo();\n",
       "\tviewergrid_1709800697631737[0][1].zoomTo();\n",
       "viewergrid_1709800697631737[0][1].render();\n",
       "viewergrid_1709800697631737[0][0].render();\n",
       "});\n",
       "</script>"
      ]
     },
     "metadata": {},
     "output_type": "display_data"
    }
   ],
   "source": [
    "viewer = p3d.view(viewergrid=(1, 2), width=600, height=250, linked=True)\n",
    "\n",
    "viewer.addModel(cafestol_xyz, \"xyz\", viewer=(0, 0))\n",
    "viewer.addModel(opt_cafestol_results[\"final_geometry\"], \"xyz\", viewer=(0, 0))\n",
    "\n",
    "viewer.addModel(kahweol_xyz, \"xyz\", viewer=(0, 1))\n",
    "viewer.addModel(opt_kahweol_results[\"final_geometry\"], \"xyz\", viewer=(0, 1))\n",
    "\n",
    "viewer.setViewStyle({\"style\": \"outline\", \"width\": 0.05})\n",
    "viewer.setStyle({\"stick\": {}, \"sphere\": {\"scale\": 0.25}})\n",
    "\n",
    "viewer.zoomTo()\n",
    "\n",
    "viewer.show()"
   ]
  },
  {
   "cell_type": "markdown",
   "id": "2a3a8f10-ad76-461a-a72e-d68eff085004",
   "metadata": {
    "editable": true,
    "slideshow": {
     "slide_type": ""
    },
    "tags": []
   },
   "source": [
    "The initial and final structures are close so you may need to zoom in to see the subtle differences."
   ]
  }
 ],
 "metadata": {
  "celltoolbar": "Tags",
  "kernelspec": {
   "display_name": "Python 3 (ipykernel)",
   "language": "python",
   "name": "python3"
  },
  "language_info": {
   "codemirror_mode": {
    "name": "ipython",
    "version": 3
   },
   "file_extension": ".py",
   "mimetype": "text/x-python",
   "name": "python",
   "nbconvert_exporter": "python",
   "pygments_lexer": "ipython3",
   "version": "3.10.13"
  }
 },
 "nbformat": 4,
 "nbformat_minor": 5
}
