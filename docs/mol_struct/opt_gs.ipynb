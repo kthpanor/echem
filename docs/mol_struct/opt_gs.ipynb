{
 "cells": [
  {
   "cell_type": "markdown",
   "id": "a2dcd883",
   "metadata": {
    "editable": true,
    "slideshow": {
     "slide_type": ""
    },
    "tags": []
   },
   "source": [
    "# Ground state"
   ]
  },
  {
   "cell_type": "code",
   "execution_count": 24,
   "id": "863ce03b",
   "metadata": {
    "editable": true,
    "slideshow": {
     "slide_type": ""
    },
    "tags": [
     "remove-output"
    ]
   },
   "outputs": [],
   "source": [
    "import veloxchem as vlx"
   ]
  },
  {
   "cell_type": "markdown",
   "id": "27b6f714-1c59-4756-a1c3-c17673697ae4",
   "metadata": {
    "editable": true,
    "slideshow": {
     "slide_type": ""
    },
    "tags": []
   },
   "source": [
    "The initial structure can e.g. be defined in terms of a SMILES string."
   ]
  },
  {
   "cell_type": "code",
   "execution_count": 63,
   "id": "a267c86c-53ca-4d9e-aa96-efa1ec329c9a",
   "metadata": {
    "editable": true,
    "jupyter": {
     "source_hidden": true
    },
    "slideshow": {
     "slide_type": ""
    },
    "tags": [
     "remove-output"
    ]
   },
   "outputs": [
    {
     "data": {
      "application/3dmoljs_load.v0": "<div id=\"3dmolviewer_1709142586781636\"  style=\"position: relative; width: 400px; height: 300px;\">\n        <p id=\"3dmolwarning_1709142586781636\" style=\"background-color:#ffcccc;color:black\">You appear to be running in JupyterLab (or JavaScript failed to load for some other reason).  You need to install the 3dmol extension: <br>\n        <tt>jupyter labextension install jupyterlab_3dmol</tt></p>\n        </div>\n<script>\n\nvar loadScriptAsync = function(uri){\n  return new Promise((resolve, reject) => {\n    //this is to ignore the existence of requirejs amd\n    var savedexports, savedmodule;\n    if (typeof exports !== 'undefined') savedexports = exports;\n    else exports = {}\n    if (typeof module !== 'undefined') savedmodule = module;\n    else module = {}\n\n    var tag = document.createElement('script');\n    tag.src = uri;\n    tag.async = true;\n    tag.onload = () => {\n        exports = savedexports;\n        module = savedmodule;\n        resolve();\n    };\n  var firstScriptTag = document.getElementsByTagName('script')[0];\n  firstScriptTag.parentNode.insertBefore(tag, firstScriptTag);\n});\n};\n\nif(typeof $3Dmolpromise === 'undefined') {\n$3Dmolpromise = null;\n  $3Dmolpromise = loadScriptAsync('https://cdnjs.cloudflare.com/ajax/libs/3Dmol/2.0.4/3Dmol-min.js');\n}\n\nvar viewer_1709142586781636 = null;\nvar warn = document.getElementById(\"3dmolwarning_1709142586781636\");\nif(warn) {\n    warn.parentNode.removeChild(warn);\n}\n$3Dmolpromise.then(function() {\nviewer_1709142586781636 = $3Dmol.createViewer(document.getElementById(\"3dmolviewer_1709142586781636\"),{backgroundColor:\"white\"});\nviewer_1709142586781636.zoomTo();\n\tviewer_1709142586781636.addModel(\"9\\n\\nO              0.979980000000        -0.069270000000        -0.003220000000\\nC              2.348320000000        -0.069590000000        -0.024350000000\\nC              3.029680000000        -0.087130000000        -1.170530000000\\nC              4.502460000000        -0.086910000000        -1.155880000000\\nO              5.154070000000        -0.102770000000        -2.192400000000\\nH              0.679600000000        -0.055090000000         0.923550000000\\nH              2.795300000000        -0.054500000000         0.961980000000\\nH              2.543260000000        -0.101930000000        -2.137650000000\\nH              4.982690000000        -0.071720000000        -0.163440000000\\n\");\n\tviewer_1709142586781636.setViewStyle({\"style\": \"outline\", \"width\": 0.05});\n\tviewer_1709142586781636.setStyle({\"stick\": {}, \"sphere\": {\"scale\": 0.25}});\n\tviewer_1709142586781636.addLabel(\"1\",{\"position\": {\"x\": 0.97998, \"y\": -0.06927, \"z\": -0.0032199999999999998}, \"alignment\": \"center\", \"fontColor\": 0, \"backgroundColor\": 16777215, \"backgroundOpacity\": 0.0});\n\tviewer_1709142586781636.addLabel(\"2\",{\"position\": {\"x\": 2.3483199999999997, \"y\": -0.06959, \"z\": -0.024349999999999997}, \"alignment\": \"center\", \"fontColor\": 0, \"backgroundColor\": 16777215, \"backgroundOpacity\": 0.0});\n\tviewer_1709142586781636.addLabel(\"3\",{\"position\": {\"x\": 3.0296799999999995, \"y\": -0.08713, \"z\": -1.1705299999999998}, \"alignment\": \"center\", \"fontColor\": 0, \"backgroundColor\": 16777215, \"backgroundOpacity\": 0.0});\n\tviewer_1709142586781636.addLabel(\"4\",{\"position\": {\"x\": 4.50246, \"y\": -0.08691, \"z\": -1.15588}, \"alignment\": \"center\", \"fontColor\": 0, \"backgroundColor\": 16777215, \"backgroundOpacity\": 0.0});\n\tviewer_1709142586781636.addLabel(\"5\",{\"position\": {\"x\": 5.15407, \"y\": -0.10277, \"z\": -2.1924}, \"alignment\": \"center\", \"fontColor\": 0, \"backgroundColor\": 16777215, \"backgroundOpacity\": 0.0});\n\tviewer_1709142586781636.addLabel(\"6\",{\"position\": {\"x\": 0.6796, \"y\": -0.05508999999999999, \"z\": 0.92355}, \"alignment\": \"center\", \"fontColor\": 0, \"backgroundColor\": 16777215, \"backgroundOpacity\": 0.0});\n\tviewer_1709142586781636.addLabel(\"7\",{\"position\": {\"x\": 2.7952999999999997, \"y\": -0.05449999999999999, \"z\": 0.96198}, \"alignment\": \"center\", \"fontColor\": 0, \"backgroundColor\": 16777215, \"backgroundOpacity\": 0.0});\n\tviewer_1709142586781636.addLabel(\"8\",{\"position\": {\"x\": 2.54326, \"y\": -0.10193, \"z\": -2.13765}, \"alignment\": \"center\", \"fontColor\": 0, \"backgroundColor\": 16777215, \"backgroundOpacity\": 0.0});\n\tviewer_1709142586781636.addLabel(\"9\",{\"position\": {\"x\": 4.98269, \"y\": -0.07171999999999999, \"z\": -0.16344}, \"alignment\": \"center\", \"fontColor\": 0, \"backgroundColor\": 16777215, \"backgroundOpacity\": 0.0});\n\tviewer_1709142586781636.zoomTo();\nviewer_1709142586781636.render();\n});\n</script>",
      "text/html": [
       "<div id=\"3dmolviewer_1709142586781636\"  style=\"position: relative; width: 400px; height: 300px;\">\n",
       "        <p id=\"3dmolwarning_1709142586781636\" style=\"background-color:#ffcccc;color:black\">You appear to be running in JupyterLab (or JavaScript failed to load for some other reason).  You need to install the 3dmol extension: <br>\n",
       "        <tt>jupyter labextension install jupyterlab_3dmol</tt></p>\n",
       "        </div>\n",
       "<script>\n",
       "\n",
       "var loadScriptAsync = function(uri){\n",
       "  return new Promise((resolve, reject) => {\n",
       "    //this is to ignore the existence of requirejs amd\n",
       "    var savedexports, savedmodule;\n",
       "    if (typeof exports !== 'undefined') savedexports = exports;\n",
       "    else exports = {}\n",
       "    if (typeof module !== 'undefined') savedmodule = module;\n",
       "    else module = {}\n",
       "\n",
       "    var tag = document.createElement('script');\n",
       "    tag.src = uri;\n",
       "    tag.async = true;\n",
       "    tag.onload = () => {\n",
       "        exports = savedexports;\n",
       "        module = savedmodule;\n",
       "        resolve();\n",
       "    };\n",
       "  var firstScriptTag = document.getElementsByTagName('script')[0];\n",
       "  firstScriptTag.parentNode.insertBefore(tag, firstScriptTag);\n",
       "});\n",
       "};\n",
       "\n",
       "if(typeof $3Dmolpromise === 'undefined') {\n",
       "$3Dmolpromise = null;\n",
       "  $3Dmolpromise = loadScriptAsync('https://cdnjs.cloudflare.com/ajax/libs/3Dmol/2.0.4/3Dmol-min.js');\n",
       "}\n",
       "\n",
       "var viewer_1709142586781636 = null;\n",
       "var warn = document.getElementById(\"3dmolwarning_1709142586781636\");\n",
       "if(warn) {\n",
       "    warn.parentNode.removeChild(warn);\n",
       "}\n",
       "$3Dmolpromise.then(function() {\n",
       "viewer_1709142586781636 = $3Dmol.createViewer(document.getElementById(\"3dmolviewer_1709142586781636\"),{backgroundColor:\"white\"});\n",
       "viewer_1709142586781636.zoomTo();\n",
       "\tviewer_1709142586781636.addModel(\"9\\n\\nO              0.979980000000        -0.069270000000        -0.003220000000\\nC              2.348320000000        -0.069590000000        -0.024350000000\\nC              3.029680000000        -0.087130000000        -1.170530000000\\nC              4.502460000000        -0.086910000000        -1.155880000000\\nO              5.154070000000        -0.102770000000        -2.192400000000\\nH              0.679600000000        -0.055090000000         0.923550000000\\nH              2.795300000000        -0.054500000000         0.961980000000\\nH              2.543260000000        -0.101930000000        -2.137650000000\\nH              4.982690000000        -0.071720000000        -0.163440000000\\n\");\n",
       "\tviewer_1709142586781636.setViewStyle({\"style\": \"outline\", \"width\": 0.05});\n",
       "\tviewer_1709142586781636.setStyle({\"stick\": {}, \"sphere\": {\"scale\": 0.25}});\n",
       "\tviewer_1709142586781636.addLabel(\"1\",{\"position\": {\"x\": 0.97998, \"y\": -0.06927, \"z\": -0.0032199999999999998}, \"alignment\": \"center\", \"fontColor\": 0, \"backgroundColor\": 16777215, \"backgroundOpacity\": 0.0});\n",
       "\tviewer_1709142586781636.addLabel(\"2\",{\"position\": {\"x\": 2.3483199999999997, \"y\": -0.06959, \"z\": -0.024349999999999997}, \"alignment\": \"center\", \"fontColor\": 0, \"backgroundColor\": 16777215, \"backgroundOpacity\": 0.0});\n",
       "\tviewer_1709142586781636.addLabel(\"3\",{\"position\": {\"x\": 3.0296799999999995, \"y\": -0.08713, \"z\": -1.1705299999999998}, \"alignment\": \"center\", \"fontColor\": 0, \"backgroundColor\": 16777215, \"backgroundOpacity\": 0.0});\n",
       "\tviewer_1709142586781636.addLabel(\"4\",{\"position\": {\"x\": 4.50246, \"y\": -0.08691, \"z\": -1.15588}, \"alignment\": \"center\", \"fontColor\": 0, \"backgroundColor\": 16777215, \"backgroundOpacity\": 0.0});\n",
       "\tviewer_1709142586781636.addLabel(\"5\",{\"position\": {\"x\": 5.15407, \"y\": -0.10277, \"z\": -2.1924}, \"alignment\": \"center\", \"fontColor\": 0, \"backgroundColor\": 16777215, \"backgroundOpacity\": 0.0});\n",
       "\tviewer_1709142586781636.addLabel(\"6\",{\"position\": {\"x\": 0.6796, \"y\": -0.05508999999999999, \"z\": 0.92355}, \"alignment\": \"center\", \"fontColor\": 0, \"backgroundColor\": 16777215, \"backgroundOpacity\": 0.0});\n",
       "\tviewer_1709142586781636.addLabel(\"7\",{\"position\": {\"x\": 2.7952999999999997, \"y\": -0.05449999999999999, \"z\": 0.96198}, \"alignment\": \"center\", \"fontColor\": 0, \"backgroundColor\": 16777215, \"backgroundOpacity\": 0.0});\n",
       "\tviewer_1709142586781636.addLabel(\"8\",{\"position\": {\"x\": 2.54326, \"y\": -0.10193, \"z\": -2.13765}, \"alignment\": \"center\", \"fontColor\": 0, \"backgroundColor\": 16777215, \"backgroundOpacity\": 0.0});\n",
       "\tviewer_1709142586781636.addLabel(\"9\",{\"position\": {\"x\": 4.98269, \"y\": -0.07171999999999999, \"z\": -0.16344}, \"alignment\": \"center\", \"fontColor\": 0, \"backgroundColor\": 16777215, \"backgroundOpacity\": 0.0});\n",
       "\tviewer_1709142586781636.zoomTo();\n",
       "viewer_1709142586781636.render();\n",
       "});\n",
       "</script>"
      ]
     },
     "metadata": {},
     "output_type": "display_data"
    }
   ],
   "source": [
    "molecule = vlx.Molecule.read_smiles(\"OC=CC=O\")\n",
    "molecule.show(atom_indices=True)"
   ]
  },
  {
   "cell_type": "markdown",
   "id": "30bd0d81-d69b-41b2-bfdb-bec3d4b37d7c",
   "metadata": {
    "editable": true,
    "slideshow": {
     "slide_type": ""
    },
    "tags": []
   },
   "source": [
    "Define the electronic structure theory method."
   ]
  },
  {
   "cell_type": "code",
   "execution_count": 26,
   "id": "7b7274c7-b300-44ef-8e24-e462e54e425a",
   "metadata": {
    "editable": true,
    "scrolled": true,
    "slideshow": {
     "slide_type": ""
    },
    "tags": []
   },
   "outputs": [],
   "source": [
    "scf_drv = vlx.XtbDriver()\n",
    "scf_drv.ostream.mute()"
   ]
  },
  {
   "cell_type": "markdown",
   "id": "f1ada37c-f7fe-4cd8-8c0d-b68c7e53bd79",
   "metadata": {
    "editable": true,
    "slideshow": {
     "slide_type": ""
    },
    "tags": []
   },
   "source": [
    "Optimize the molecule structure with the `OptimizationDriver` class in VeloxChem."
   ]
  },
  {
   "cell_type": "code",
   "execution_count": 28,
   "id": "d9cc7622-bd4d-4983-887c-124c76ac89ee",
   "metadata": {
    "editable": true,
    "slideshow": {
     "slide_type": ""
    },
    "tags": [
     "hide-output"
    ]
   },
   "outputs": [],
   "source": [
    "opt_drv = vlx.OptimizationDriver(scf_drv)\n",
    "opt_drv.ostream.mute()\n",
    "\n",
    "opt_results = opt_drv.compute(molecule)"
   ]
  },
  {
   "cell_type": "markdown",
   "id": "40716e45-b7f3-46db-8081-01a51c29b00c",
   "metadata": {
    "editable": true,
    "slideshow": {
     "slide_type": ""
    },
    "tags": []
   },
   "source": [
    "The SCF energies calculated in the optimization process are available in the resulting object."
   ]
  },
  {
   "cell_type": "code",
   "execution_count": 65,
   "id": "d21f8f52-e0b6-4fac-b595-3454ca30f13f",
   "metadata": {
    "editable": true,
    "slideshow": {
     "slide_type": ""
    },
    "tags": []
   },
   "outputs": [
    {
     "data": {
      "image/png": "[encoded data removed]",
      "text/plain": [
       "<Figure size 600x300 with 1 Axes>"
      ]
     },
     "metadata": {},
     "output_type": "display_data"
    }
   ],
   "source": [
    "from matplotlib import pyplot as plt\n",
    "\n",
    "e_min_in_au = min(opt_results[\"opt_energies\"])\n",
    "\n",
    "energies_in_kcalpermol = [\n",
    "    (e - e_min_in_au) * vlx.hartree_in_kcalpermol() for e in opt_results[\"opt_energies\"]\n",
    "]\n",
    "\n",
    "fig, ax = plt.subplots(figsize=(6, 3))\n",
    "\n",
    "ax.plot(energies_in_kcalpermol, \"o--\")\n",
    "\n",
    "ax.set_xlabel(\"Iteration\")\n",
    "ax.set_ylabel(r\"Energy relaxation (kcal/mol)\")\n",
    "\n",
    "plt.show()"
   ]
  },
  {
   "cell_type": "markdown",
   "id": "3f35b722-0d4b-4fdd-9df3-2101e40a5249",
   "metadata": {
    "editable": true,
    "slideshow": {
     "slide_type": ""
    },
    "tags": []
   },
   "source": [
    "The molecular structure relaxation can be visualized."
   ]
  },
  {
   "cell_type": "code",
   "execution_count": 68,
   "id": "fc3cddad-d2da-467e-9105-a47111490c3c",
   "metadata": {
    "editable": true,
    "slideshow": {
     "slide_type": ""
    },
    "tags": []
   },
   "outputs": [
    {
     "data": {
      "application/3dmoljs_load.v0": "<div id=\"3dmolviewer_1709143091483117\"  style=\"position: relative; width: 400px; height: 300px;\">\n        <p id=\"3dmolwarning_1709143091483117\" style=\"background-color:#ffcccc;color:black\">You appear to be running in JupyterLab (or JavaScript failed to load for some other reason).  You need to install the 3dmol extension: <br>\n        <tt>jupyter labextension install jupyterlab_3dmol</tt></p>\n        </div>\n<script>\n\nvar loadScriptAsync = function(uri){\n  return new Promise((resolve, reject) => {\n    //this is to ignore the existence of requirejs amd\n    var savedexports, savedmodule;\n    if (typeof exports !== 'undefined') savedexports = exports;\n    else exports = {}\n    if (typeof module !== 'undefined') savedmodule = module;\n    else module = {}\n\n    var tag = document.createElement('script');\n    tag.src = uri;\n    tag.async = true;\n    tag.onload = () => {\n        exports = savedexports;\n        module = savedmodule;\n        resolve();\n    };\n  var firstScriptTag = document.getElementsByTagName('script')[0];\n  firstScriptTag.parentNode.insertBefore(tag, firstScriptTag);\n});\n};\n\nif(typeof $3Dmolpromise === 'undefined') {\n$3Dmolpromise = null;\n  $3Dmolpromise = loadScriptAsync('https://cdnjs.cloudflare.com/ajax/libs/3Dmol/2.0.4/3Dmol-min.js');\n}\n\nvar viewer_1709143091483117 = null;\nvar warn = document.getElementById(\"3dmolwarning_1709143091483117\");\nif(warn) {\n    warn.parentNode.removeChild(warn);\n}\n$3Dmolpromise.then(function() {\nviewer_1709143091483117 = $3Dmol.createViewer(document.getElementById(\"3dmolviewer_1709143091483117\"),{backgroundColor:\"white\"});\nviewer_1709143091483117.zoomTo();\n\tviewer_1709143091483117.addModelsAsFrames(\"9\\n\\nO              0.986530000000        -0.026490000000        -0.034460000000\\nC              2.354880000000        -0.011310000000        -0.019770000000\\nC              3.036240000000         0.812570000000         0.777270000000\\nC              4.509020000000         0.802030000000         0.767080000000\\nO              5.160620000000         1.547080000000         1.487870000000\\nH              0.686150000000        -0.692650000000        -0.678930000000\\nH              2.801850000000        -0.720280000000        -0.705660000000\\nH              2.549820000000         1.507730000000         1.449790000000\\nH              4.989240000000         0.088670000000         0.076950000000\\n9\\n\\nO              0.986842178960        -0.036567209715        -0.044210487714\\nC              2.343252887286        -0.022379114854        -0.030485887687\\nC              3.042520260546         0.794717565732         0.759998151833\\nC              4.493793673471         0.852019807188         0.815440634747\\nO              5.265764161442         1.521667751106         1.463288640912\\nH              0.647227478019        -0.685750720116        -0.672250852388\\nH              2.829850804916        -0.718141499336        -0.703588801621\\nH              2.527324939027         1.473969378275         1.417129780600\\nH              4.937773616331         0.127814041721         0.114818821319\\n9\\n\\nO              1.002104986274        -0.030732990768        -0.038566224162\\nC              2.351978817188        -0.018566085590        -0.026797152379\\nC              3.042904228177         0.801987856803         0.767031626845\\nC              4.489303715287         0.828374154866         0.792564947452\\nO              5.202714760421         1.526180716370         1.467654696040\\nH              0.657949431278        -0.677004586119        -0.663789376211\\nH              2.848917369161        -0.711324744748        -0.696994021650\\nH              2.532919801613         1.484362976617         1.427184882726\\nH              4.945556890601         0.104072702568         0.091850621341\\n9\\n\\nO              0.996540010766        -0.040395288706        -0.047915298304\\nC              2.339551079073        -0.005215743899        -0.013879952370\\nC              3.045360980000         0.812127257128         0.776843523992\\nC              4.494630232720         0.813969673296         0.778630106766\\nO              5.180996390630         1.526306570132         1.467773284756\\nH              0.669397359560        -0.691634024728        -0.677944972015\\nH              2.854057955571        -0.692322264008        -0.678608529484\\nH              2.543158651184         1.498635866324         1.440994101882\\nH              4.950657340494         0.085877954461         0.074247734777\\n9\\n\\nO              1.016057761265        -0.026074266770        -0.034061403929\\nC              2.355846269965        -0.018617855155        -0.026845262391\\nC              3.037814949582         0.809735069908         0.774530639298\\nC              4.486847209338         0.814454412707         0.779098964720\\nO              5.175652469844         1.525923366897         1.467400884874\\nH              0.661927516990        -0.669932319719        -0.656951113266\\nH              2.877061592135        -0.704576750258        -0.690463153265\\nH              2.521481278807         1.491257036108         1.433856398283\\nH              4.941660952073         0.085181306283         0.073574045676\\n9\\n\\nO              1.006057007245        -0.032611289804        -0.040385084594\\nC              2.347429234360        -0.013378485172        -0.021777252021\\nC              3.042441515203         0.808859520690         0.773683023465\\nC              4.490409299015         0.817222639212         0.781776811498\\nO              5.184058688280         1.526138911352         1.467609932351\\nH              0.662669030439        -0.679591397859        -0.666294794550\\nH              2.865188355841        -0.699907068709        -0.685946390966\\nH              2.531214725125         1.491727873845         1.434311780070\\nH              4.944882144493         0.088889296444         0.077161974747\\n9\\n\\nO              1.006351619472        -0.033215802615        -0.040970062428\\nC              2.347239595316        -0.012587003749        -0.021011334268\\nC              3.041779963060         0.810090048691         0.774874021185\\nC              4.489941591372         0.816482544850         0.781061055419\\nO              5.184531819916         1.525112427500         1.466615898018\\nH              0.664318513397        -0.680723678950        -0.667390661408\\nH              2.866163171819        -0.698742307527        -0.684819605108\\nH              2.530650401925         1.493138441628         1.435676732827\\nH              4.943373323723         0.087795330173         0.076103955762\\n9\\n\\nO              1.006372829833        -0.032583914131        -0.040358815834\\nC              2.347141191332        -0.013195655555        -0.021600143468\\nC              3.042357388619         0.809252967621         0.774064457450\\nC              4.490449250635         0.816615930736         0.781190031767\\nO              5.183430714473         1.526107819968         1.467578330710\\nH              0.663007934082        -0.679763023089        -0.666461495689\\nH              2.865493782683        -0.699606800110        -0.685656040379\\nH              2.530853704796         1.492129285035         1.434700739364\\nH              4.945243203547         0.088393389525         0.076682936079\\n9\\n\\nO              1.006426961990        -0.032791189833        -0.040559342572\\nC              2.347230041971        -0.013022983366        -0.021433143723\\nC              3.042180210634         0.809509582873         0.774312762010\\nC              4.490182407770         0.816635378778         0.781208812989\\nO              5.183980823405         1.525704787981         1.467188233256\\nH              0.663342302408        -0.680032614811        -0.666722331314\\nH              2.865875236598        -0.699307301663        -0.685366376310\\nH              2.530699559319         1.492383331342         1.434946636398\\nH              4.944432455906         0.088271008699         0.076564749267\\n\");\n\tviewer_1709143091483117.animate({\"loop\": \"forward\"});\n\tviewer_1709143091483117.setViewStyle({\"style\": \"outline\", \"width\": 0.05});\n\tviewer_1709143091483117.setStyle({\"stick\": {}, \"sphere\": {\"scale\": 0.25}});\n\tviewer_1709143091483117.zoomTo();\nviewer_1709143091483117.render();\n});\n</script>",
      "text/html": [
       "<div id=\"3dmolviewer_1709143091483117\"  style=\"position: relative; width: 400px; height: 300px;\">\n",
       "        <p id=\"3dmolwarning_1709143091483117\" style=\"background-color:#ffcccc;color:black\">You appear to be running in JupyterLab (or JavaScript failed to load for some other reason).  You need to install the 3dmol extension: <br>\n",
       "        <tt>jupyter labextension install jupyterlab_3dmol</tt></p>\n",
       "        </div>\n",
       "<script>\n",
       "\n",
       "var loadScriptAsync = function(uri){\n",
       "  return new Promise((resolve, reject) => {\n",
       "    //this is to ignore the existence of requirejs amd\n",
       "    var savedexports, savedmodule;\n",
       "    if (typeof exports !== 'undefined') savedexports = exports;\n",
       "    else exports = {}\n",
       "    if (typeof module !== 'undefined') savedmodule = module;\n",
       "    else module = {}\n",
       "\n",
       "    var tag = document.createElement('script');\n",
       "    tag.src = uri;\n",
       "    tag.async = true;\n",
       "    tag.onload = () => {\n",
       "        exports = savedexports;\n",
       "        module = savedmodule;\n",
       "        resolve();\n",
       "    };\n",
       "  var firstScriptTag = document.getElementsByTagName('script')[0];\n",
       "  firstScriptTag.parentNode.insertBefore(tag, firstScriptTag);\n",
       "});\n",
       "};\n",
       "\n",
       "if(typeof $3Dmolpromise === 'undefined') {\n",
       "$3Dmolpromise = null;\n",
       "  $3Dmolpromise = loadScriptAsync('https://cdnjs.cloudflare.com/ajax/libs/3Dmol/2.0.4/3Dmol-min.js');\n",
       "}\n",
       "\n",
       "var viewer_1709143091483117 = null;\n",
       "var warn = document.getElementById(\"3dmolwarning_1709143091483117\");\n",
       "if(warn) {\n",
       "    warn.parentNode.removeChild(warn);\n",
       "}\n",
       "$3Dmolpromise.then(function() {\n",
       "viewer_1709143091483117 = $3Dmol.createViewer(document.getElementById(\"3dmolviewer_1709143091483117\"),{backgroundColor:\"white\"});\n",
       "viewer_1709143091483117.zoomTo();\n",
       "\tviewer_1709143091483117.addModelsAsFrames(\"9\\n\\nO              0.986530000000        -0.026490000000        -0.034460000000\\nC              2.354880000000        -0.011310000000        -0.019770000000\\nC              3.036240000000         0.812570000000         0.777270000000\\nC              4.509020000000         0.802030000000         0.767080000000\\nO              5.160620000000         1.547080000000         1.487870000000\\nH              0.686150000000        -0.692650000000        -0.678930000000\\nH              2.801850000000        -0.720280000000        -0.705660000000\\nH              2.549820000000         1.507730000000         1.449790000000\\nH              4.989240000000         0.088670000000         0.076950000000\\n9\\n\\nO              0.986842178960        -0.036567209715        -0.044210487714\\nC              2.343252887286        -0.022379114854        -0.030485887687\\nC              3.042520260546         0.794717565732         0.759998151833\\nC              4.493793673471         0.852019807188         0.815440634747\\nO              5.265764161442         1.521667751106         1.463288640912\\nH              0.647227478019        -0.685750720116        -0.672250852388\\nH              2.829850804916        -0.718141499336        -0.703588801621\\nH              2.527324939027         1.473969378275         1.417129780600\\nH              4.937773616331         0.127814041721         0.114818821319\\n9\\n\\nO              1.002104986274        -0.030732990768        -0.038566224162\\nC              2.351978817188        -0.018566085590        -0.026797152379\\nC              3.042904228177         0.801987856803         0.767031626845\\nC              4.489303715287         0.828374154866         0.792564947452\\nO              5.202714760421         1.526180716370         1.467654696040\\nH              0.657949431278        -0.677004586119        -0.663789376211\\nH              2.848917369161        -0.711324744748        -0.696994021650\\nH              2.532919801613         1.484362976617         1.427184882726\\nH              4.945556890601         0.104072702568         0.091850621341\\n9\\n\\nO              0.996540010766        -0.040395288706        -0.047915298304\\nC              2.339551079073        -0.005215743899        -0.013879952370\\nC              3.045360980000         0.812127257128         0.776843523992\\nC              4.494630232720         0.813969673296         0.778630106766\\nO              5.180996390630         1.526306570132         1.467773284756\\nH              0.669397359560        -0.691634024728        -0.677944972015\\nH              2.854057955571        -0.692322264008        -0.678608529484\\nH              2.543158651184         1.498635866324         1.440994101882\\nH              4.950657340494         0.085877954461         0.074247734777\\n9\\n\\nO              1.016057761265        -0.026074266770        -0.034061403929\\nC              2.355846269965        -0.018617855155        -0.026845262391\\nC              3.037814949582         0.809735069908         0.774530639298\\nC              4.486847209338         0.814454412707         0.779098964720\\nO              5.175652469844         1.525923366897         1.467400884874\\nH              0.661927516990        -0.669932319719        -0.656951113266\\nH              2.877061592135        -0.704576750258        -0.690463153265\\nH              2.521481278807         1.491257036108         1.433856398283\\nH              4.941660952073         0.085181306283         0.073574045676\\n9\\n\\nO              1.006057007245        -0.032611289804        -0.040385084594\\nC              2.347429234360        -0.013378485172        -0.021777252021\\nC              3.042441515203         0.808859520690         0.773683023465\\nC              4.490409299015         0.817222639212         0.781776811498\\nO              5.184058688280         1.526138911352         1.467609932351\\nH              0.662669030439        -0.679591397859        -0.666294794550\\nH              2.865188355841        -0.699907068709        -0.685946390966\\nH              2.531214725125         1.491727873845         1.434311780070\\nH              4.944882144493         0.088889296444         0.077161974747\\n9\\n\\nO              1.006351619472        -0.033215802615        -0.040970062428\\nC              2.347239595316        -0.012587003749        -0.021011334268\\nC              3.041779963060         0.810090048691         0.774874021185\\nC              4.489941591372         0.816482544850         0.781061055419\\nO              5.184531819916         1.525112427500         1.466615898018\\nH              0.664318513397        -0.680723678950        -0.667390661408\\nH              2.866163171819        -0.698742307527        -0.684819605108\\nH              2.530650401925         1.493138441628         1.435676732827\\nH              4.943373323723         0.087795330173         0.076103955762\\n9\\n\\nO              1.006372829833        -0.032583914131        -0.040358815834\\nC              2.347141191332        -0.013195655555        -0.021600143468\\nC              3.042357388619         0.809252967621         0.774064457450\\nC              4.490449250635         0.816615930736         0.781190031767\\nO              5.183430714473         1.526107819968         1.467578330710\\nH              0.663007934082        -0.679763023089        -0.666461495689\\nH              2.865493782683        -0.699606800110        -0.685656040379\\nH              2.530853704796         1.492129285035         1.434700739364\\nH              4.945243203547         0.088393389525         0.076682936079\\n9\\n\\nO              1.006426961990        -0.032791189833        -0.040559342572\\nC              2.347230041971        -0.013022983366        -0.021433143723\\nC              3.042180210634         0.809509582873         0.774312762010\\nC              4.490182407770         0.816635378778         0.781208812989\\nO              5.183980823405         1.525704787981         1.467188233256\\nH              0.663342302408        -0.680032614811        -0.666722331314\\nH              2.865875236598        -0.699307301663        -0.685366376310\\nH              2.530699559319         1.492383331342         1.434946636398\\nH              4.944432455906         0.088271008699         0.076564749267\\n\");\n",
       "\tviewer_1709143091483117.animate({\"loop\": \"forward\"});\n",
       "\tviewer_1709143091483117.setViewStyle({\"style\": \"outline\", \"width\": 0.05});\n",
       "\tviewer_1709143091483117.setStyle({\"stick\": {}, \"sphere\": {\"scale\": 0.25}});\n",
       "\tviewer_1709143091483117.zoomTo();\n",
       "viewer_1709143091483117.render();\n",
       "});\n",
       "</script>"
      ]
     },
     "metadata": {},
     "output_type": "display_data"
    }
   ],
   "source": [
    "import py3Dmol as p3d\n",
    "\n",
    "viewer = p3d.view(width=400, height=300)\n",
    "\n",
    "viewer.addModelsAsFrames(\"\".join(opt_results[\"opt_geometries\"]))\n",
    "viewer.animate({\"loop\": \"forward\"})\n",
    "viewer.setViewStyle({\"style\": \"outline\", \"width\": 0.05})\n",
    "viewer.setStyle({\"stick\": {}, \"sphere\": {\"scale\": 0.25}})\n",
    "\n",
    "viewer.zoomTo()\n",
    "\n",
    "viewer.show()"
   ]
  },
  {
   "cell_type": "markdown",
   "id": "a2034f90-5b03-4eb2-b2a2-cc38fa210711",
   "metadata": {
    "editable": true,
    "slideshow": {
     "slide_type": ""
    },
    "tags": []
   },
   "source": [
    "## Larger molecules\n",
    "\n",
    "[Cafestol](https://en.wikipedia.org/wiki/Cafestol) and [kahweol](https://en.wikipedia.org/wiki/Kahweol) are molecules present in Robusta and Arabica coffee beans, respectively.\n",
    "\n",
    "We here use the semi-empirical tight binding method named xTB and a [code implementation](https://xtb-docs.readthedocs.io/en/latest/) that has been interfaced to VeloxChem."
   ]
  },
  {
   "cell_type": "code",
   "execution_count": 35,
   "id": "2570a30b",
   "metadata": {
    "editable": true,
    "slideshow": {
     "slide_type": ""
    },
    "tags": [
     "hide-input"
    ]
   },
   "outputs": [],
   "source": [
    "cafestol_xyz = \"\"\"51\n",
    "cafestol initial structure\n",
    "O  -4.5215   -1.3455    0.4926\n",
    "O  -5.2905    0.0812   -1.7033\n",
    "O   5.1630    0.4345   -0.1101\n",
    "C  -1.2807   -0.7511   -0.0465\n",
    "C  -0.5244    0.5810   -0.4102\n",
    "C   0.9909    0.6610    0.0407\n",
    "C  -2.9440    0.2916    1.2866\n",
    "C  -1.8143   -0.7311    1.3945\n",
    "C  -2.6188   -0.8159   -0.8642\n",
    "C  -3.7116   -0.2387    0.0606\n",
    "C  -0.4332   -2.0024   -0.3283\n",
    "C  -1.3742    1.8303   -0.0654\n",
    "C   1.6844   -0.6873   -0.4019\n",
    "C  -2.3206    1.6833    1.1309\n",
    "C   0.9997   -1.9155    0.1913\n",
    "C   1.7285    1.8344   -0.7277\n",
    "C   1.1437    0.9261    1.5588\n",
    "C   3.1644   -0.6155   -0.2085\n",
    "C  -4.6490    0.7442   -0.6282\n",
    "C   3.2525    1.9378   -0.4590\n",
    "C   3.8298    0.5879   -0.2856\n",
    "C   4.1654   -1.5888    0.0140\n",
    "C   5.3604   -0.9015    0.0689\n",
    "H  -0.4604    0.5817   -1.5108\n",
    "H  -3.5646    0.2626    2.1897\n",
    "H  -1.0861   -0.4449    2.1498\n",
    "H  -2.1902   -1.7145    1.7003\n",
    "H  -2.5286   -0.2495   -1.7981\n",
    "H  -2.8534   -1.8505   -1.1460\n",
    "H  -0.3943   -2.1694   -1.4136\n",
    "H  -0.9135   -2.8938    0.0946\n",
    "H  -1.9810    2.0650   -0.9487\n",
    "H  -0.7587    2.7222    0.0818\n",
    "H   1.5605   -0.7646   -1.4951\n",
    "H  -1.7642    1.9154    2.0477\n",
    "H  -3.1082    2.4431    1.0635\n",
    "H   1.0176   -1.9046    1.2859\n",
    "H   1.5276   -2.8282   -0.1118\n",
    "H   1.2808    2.8061   -0.4944\n",
    "H   1.5851    1.6842   -1.8068\n",
    "H   0.5898    1.8173    1.8670\n",
    "H   0.8147    0.0892    2.1727\n",
    "H   2.1832    1.0992    1.8532\n",
    "H  -4.1337    1.6158   -1.0351\n",
    "H  -5.4265    1.0934    0.0595\n",
    "H   3.4273    2.5264    0.4487\n",
    "H   3.7385    2.4646   -1.2871\n",
    "H  -3.9519   -2.0832    0.7635\n",
    "H   4.0442   -2.6573    0.1180\n",
    "H  -5.7603   -0.6874   -1.3370\n",
    "H   6.3869   -1.2031    0.2186\n",
    "\"\"\"\n",
    "cafestol = vlx.Molecule.read_xyz_string(cafestol_xyz)"
   ]
  },
  {
   "cell_type": "code",
   "execution_count": 36,
   "id": "733ab0df",
   "metadata": {
    "editable": true,
    "slideshow": {
     "slide_type": ""
    },
    "tags": [
     "hide-input"
    ]
   },
   "outputs": [],
   "source": [
    "kahweol_xyz = \"\"\"49\n",
    "kahweol initial structure\n",
    "O  -4.4710   -1.5361    0.0905\n",
    "O  -5.6188    0.9753   -0.0811\n",
    "O   5.1625    0.5695   -0.0997\n",
    "C  -1.2209   -0.8317   -0.2017\n",
    "C  -0.4821    0.5357   -0.4703\n",
    "C  -3.0038    0.1167    1.0462\n",
    "C  -1.8514   -0.8737    1.1997\n",
    "C  -2.4967   -0.9058   -1.1119\n",
    "C   0.9884    0.6333    0.0944\n",
    "C  -3.6676   -0.3924   -0.2474\n",
    "C  -0.3220   -2.0551   -0.4569\n",
    "C  -1.3919    1.7479   -0.1363\n",
    "C  -2.4167    1.5304    0.9816\n",
    "C   1.7435   -0.6786   -0.3542\n",
    "C   1.0741   -1.9483    0.1552\n",
    "C   1.0367    0.8330    1.6293\n",
    "C  -4.5845    0.5870   -0.9677\n",
    "C   1.7610    1.8511   -0.4907\n",
    "C   3.2146   -0.5444   -0.1101\n",
    "C   3.1013    1.8722   -0.6493\n",
    "C   3.8167    0.6946   -0.3059\n",
    "C   4.2309   -1.4546    0.2464\n",
    "C   5.3980   -0.7259    0.2399\n",
    "H  -0.3415    0.5842   -1.5631\n",
    "H  -3.6779    0.0397    1.9072\n",
    "H  -1.1861   -0.6021    2.0159\n",
    "H  -2.2356   -1.8757    1.4322\n",
    "H  -2.3648   -0.3090   -2.0216\n",
    "H  -2.6844   -1.9384   -1.4328\n",
    "H  -0.2098   -2.1924   -1.5413\n",
    "H  -0.8043   -2.9694   -0.0890\n",
    "H  -1.9406    2.0033   -1.0514\n",
    "H  -0.8134    2.6482    0.0921\n",
    "H  -1.9341    1.7452    1.9434\n",
    "H  -3.2193    2.2709    0.8849\n",
    "H   1.6699   -0.7251   -1.4553\n",
    "H   1.0259   -1.9792    1.2481\n",
    "H   1.6508   -2.8307   -0.1490\n",
    "H   2.0514    1.0518    1.9842\n",
    "H   0.4166    1.6762    1.9486\n",
    "H   0.7233   -0.0489    2.1864\n",
    "H  -5.0524    0.1195   -1.8415\n",
    "H  -4.0679    1.4861   -1.3088\n",
    "H   1.2088    2.7568   -0.7218\n",
    "H  -5.0925   -1.2746    0.7905\n",
    "H   3.6240    2.7536   -0.9997\n",
    "H   4.1386   -2.5085    0.4650\n",
    "H  -6.2132    0.2149    0.0339\n",
    "H   6.4308   -0.9731    0.4374\n",
    "\"\"\"\n",
    "kahweol = vlx.Molecule.read_xyz_string(kahweol_xyz)"
   ]
  },
  {
   "cell_type": "markdown",
   "id": "2a66084a",
   "metadata": {
    "editable": true,
    "slideshow": {
     "slide_type": ""
    },
    "tags": []
   },
   "source": [
    "The difference between cafestol and kahweol is very subtle, essentially only one double bond and two H atoms."
   ]
  },
  {
   "cell_type": "markdown",
   "id": "88904dcd-20fc-4017-8a2b-f05801490263",
   "metadata": {
    "editable": true,
    "slideshow": {
     "slide_type": ""
    },
    "tags": []
   },
   "source": [
    "We optimize structures and compare the initial and final geometries."
   ]
  },
  {
   "cell_type": "code",
   "execution_count": 40,
   "id": "01e0233a",
   "metadata": {
    "editable": true,
    "scrolled": true,
    "slideshow": {
     "slide_type": ""
    },
    "tags": [
     "output_scroll",
     "hide-output"
    ]
   },
   "outputs": [],
   "source": [
    "scf_drv = vlx.XtbDriver()\n",
    "scf_drv.ostream.mute()"
   ]
  },
  {
   "cell_type": "code",
   "execution_count": 50,
   "id": "8f89aa08",
   "metadata": {
    "editable": true,
    "slideshow": {
     "slide_type": ""
    },
    "tags": [
     "output_scroll",
     "hide-output"
    ]
   },
   "outputs": [],
   "source": [
    "opt_drv = vlx.OptimizationDriver(scf_drv)\n",
    "opt_drv.ostream.mute()\n",
    "\n",
    "opt_cafestol_results = opt_drv.compute(cafestol)\n",
    "opt_kahweol_results = opt_drv.compute(kahweol)"
   ]
  },
  {
   "cell_type": "code",
   "execution_count": 67,
   "id": "5e2186b6-39c7-4f17-bece-28069f6b9a59",
   "metadata": {
    "editable": true,
    "slideshow": {
     "slide_type": ""
    },
    "tags": []
   },
   "outputs": [
    {
     "data": {
      "application/3dmoljs_load.v0": "<div id=\"3dmolviewer_1709143079626244\"  style=\"position: relative; width: 600px; height: 250px;\">\n        <p id=\"3dmolwarning_1709143079626244\" style=\"background-color:#ffcccc;color:black\">You appear to be running in JupyterLab (or JavaScript failed to load for some other reason).  You need to install the 3dmol extension: <br>\n        <tt>jupyter labextension install jupyterlab_3dmol</tt></p>\n        </div>\n<script>\n\nvar loadScriptAsync = function(uri){\n  return new Promise((resolve, reject) => {\n    //this is to ignore the existence of requirejs amd\n    var savedexports, savedmodule;\n    if (typeof exports !== 'undefined') savedexports = exports;\n    else exports = {}\n    if (typeof module !== 'undefined') savedmodule = module;\n    else module = {}\n\n    var tag = document.createElement('script');\n    tag.src = uri;\n    tag.async = true;\n    tag.onload = () => {\n        exports = savedexports;\n        module = savedmodule;\n        resolve();\n    };\n  var firstScriptTag = document.getElementsByTagName('script')[0];\n  firstScriptTag.parentNode.insertBefore(tag, firstScriptTag);\n});\n};\n\nif(typeof $3Dmolpromise === 'undefined') {\n$3Dmolpromise = null;\n  $3Dmolpromise = loadScriptAsync('https://cdnjs.cloudflare.com/ajax/libs/3Dmol/2.0.4/3Dmol-min.js');\n}\n\nvar viewer_1709143079626244 = null;\nvar warn = document.getElementById(\"3dmolwarning_1709143079626244\");\nif(warn) {\n    warn.parentNode.removeChild(warn);\n}\n$3Dmolpromise.then(function() {\nvar viewergrid_1709143079626244 = null;\nviewergrid_1709143079626244 = $3Dmol.createViewerGrid(document.getElementById(\"3dmolviewer_1709143079626244\"),{rows: 1, cols: 2, control_all: true},{backgroundColor:\"white\"});\nviewer_1709143079626244 = viewergrid_1709143079626244[0][0];\nviewergrid_1709143079626244[0][0].zoomTo();viewergrid_1709143079626244[0][1].zoomTo();\tviewergrid_1709143079626244[0][0].addModel(\"51\\ncafestol initial structure\\nO  -4.5215   -1.3455    0.4926\\nO  -5.2905    0.0812   -1.7033\\nO   5.1630    0.4345   -0.1101\\nC  -1.2807   -0.7511   -0.0465\\nC  -0.5244    0.5810   -0.4102\\nC   0.9909    0.6610    0.0407\\nC  -2.9440    0.2916    1.2866\\nC  -1.8143   -0.7311    1.3945\\nC  -2.6188   -0.8159   -0.8642\\nC  -3.7116   -0.2387    0.0606\\nC  -0.4332   -2.0024   -0.3283\\nC  -1.3742    1.8303   -0.0654\\nC   1.6844   -0.6873   -0.4019\\nC  -2.3206    1.6833    1.1309\\nC   0.9997   -1.9155    0.1913\\nC   1.7285    1.8344   -0.7277\\nC   1.1437    0.9261    1.5588\\nC   3.1644   -0.6155   -0.2085\\nC  -4.6490    0.7442   -0.6282\\nC   3.2525    1.9378   -0.4590\\nC   3.8298    0.5879   -0.2856\\nC   4.1654   -1.5888    0.0140\\nC   5.3604   -0.9015    0.0689\\nH  -0.4604    0.5817   -1.5108\\nH  -3.5646    0.2626    2.1897\\nH  -1.0861   -0.4449    2.1498\\nH  -2.1902   -1.7145    1.7003\\nH  -2.5286   -0.2495   -1.7981\\nH  -2.8534   -1.8505   -1.1460\\nH  -0.3943   -2.1694   -1.4136\\nH  -0.9135   -2.8938    0.0946\\nH  -1.9810    2.0650   -0.9487\\nH  -0.7587    2.7222    0.0818\\nH   1.5605   -0.7646   -1.4951\\nH  -1.7642    1.9154    2.0477\\nH  -3.1082    2.4431    1.0635\\nH   1.0176   -1.9046    1.2859\\nH   1.5276   -2.8282   -0.1118\\nH   1.2808    2.8061   -0.4944\\nH   1.5851    1.6842   -1.8068\\nH   0.5898    1.8173    1.8670\\nH   0.8147    0.0892    2.1727\\nH   2.1832    1.0992    1.8532\\nH  -4.1337    1.6158   -1.0351\\nH  -5.4265    1.0934    0.0595\\nH   3.4273    2.5264    0.4487\\nH   3.7385    2.4646   -1.2871\\nH  -3.9519   -2.0832    0.7635\\nH   4.0442   -2.6573    0.1180\\nH  -5.7603   -0.6874   -1.3370\\nH   6.3869   -1.2031    0.2186\\n\",\"xyz\");\n\tviewergrid_1709143079626244[0][0].addModel(\"51\\n\\nO             -4.586928055941        -1.279900278502         0.480283042814\\nO             -5.319303004455         0.246562721248        -1.629048566171\\nO              5.096373000017         0.479142111658         0.047371365474\\nC             -1.255190334737        -0.766697044087        -0.090694738124\\nC             -0.509228101659         0.539152757653        -0.458496895577\\nC              0.978372094285         0.632243277896        -0.011989929990\\nC             -2.880159927638         0.238836939125         1.312497343929\\nC             -1.740437201477        -0.771913882537         1.364288255345\\nC             -2.598892863846        -0.799815950367        -0.863852362904\\nC             -3.682490919094        -0.248170423919         0.088636260523\\nC             -0.416164591043        -1.999830190452        -0.434968427891\\nC             -1.378410241272         1.760376106345        -0.090411235630\\nC              1.674856522712        -0.681263618994        -0.445474585585\\nC             -2.250016767851         1.621564709421         1.161318489591\\nC              0.997769903768        -1.919051070800         0.128039578525\\nC              1.666376992022         1.766537676189        -0.811767828755\\nC              1.168837385400         0.910140771436         1.479849355767\\nC              3.135520451518        -0.569549754156        -0.157646254128\\nC             -4.609456907915         0.795536758444        -0.551571031788\\nC              3.155683645915         1.954159220843        -0.478173249627\\nC              3.782187074264         0.630199613871        -0.219298373721\\nC              4.130802025624        -1.530150719302         0.161772911800\\nC              5.294632854527        -0.835297818412         0.274042331184\\nH             -0.446341978951         0.529018015691        -1.555044784524\\nH             -3.512302270161         0.221149607542         2.205104723604\\nH             -0.987805533686        -0.489646801741         2.090189079032\\nH             -2.099466440651        -1.770583397118         1.629844363777\\nH             -2.561113671771        -0.227435281566        -1.788326722991\\nH             -2.854655254780        -1.827144641595        -1.131680642678\\nH             -0.352920299911        -2.090381410811        -1.522830098502\\nH             -0.917392428938        -2.895613109147        -0.058907394191\\nH             -2.030547015410         1.964782549050        -0.939715194246\\nH             -0.751053821960         2.643276351670         0.031134002897\\nH              1.568214060756        -0.751868253404        -1.538315094055\\nH             -1.648526706159         1.799632325828         2.055430382536\\nH             -3.024936822431         2.390210754928         1.135414380640\\nH              0.980001150621        -1.887152910631         1.216951626743\\nH              1.555474781208        -2.809091091523        -0.168723159677\\nH              1.159647789788         2.715758590120        -0.638991228141\\nH              1.574182906066         1.537824461159        -1.875605350137\\nH              0.649837268400         1.820869162749         1.764760037562\\nH              0.808398863068         0.095443809520         2.096526999233\\nH              2.222626377259         1.033899812344         1.709265514236\\nH             -4.054650037994         1.641880471683        -0.952435296680\\nH             -5.302113627907         1.156095986337         0.223473081069\\nH              3.278594657096         2.596762358200         0.399148346206\\nH              3.657824867869         2.457385695898        -1.308818055792\\nH             -4.087274176937        -1.977207704933         0.916415481386\\nH              4.002114357313        -2.584672994820         0.293398769454\\nH             -5.695005274196        -0.585384436230        -1.313404326444\\nH              6.294955249276        -1.145419831800         0.501035104623\\n\",\"xyz\");\n\tviewergrid_1709143079626244[0][1].addModel(\"49\\nkahweol initial structure\\nO  -4.4710   -1.5361    0.0905\\nO  -5.6188    0.9753   -0.0811\\nO   5.1625    0.5695   -0.0997\\nC  -1.2209   -0.8317   -0.2017\\nC  -0.4821    0.5357   -0.4703\\nC  -3.0038    0.1167    1.0462\\nC  -1.8514   -0.8737    1.1997\\nC  -2.4967   -0.9058   -1.1119\\nC   0.9884    0.6333    0.0944\\nC  -3.6676   -0.3924   -0.2474\\nC  -0.3220   -2.0551   -0.4569\\nC  -1.3919    1.7479   -0.1363\\nC  -2.4167    1.5304    0.9816\\nC   1.7435   -0.6786   -0.3542\\nC   1.0741   -1.9483    0.1552\\nC   1.0367    0.8330    1.6293\\nC  -4.5845    0.5870   -0.9677\\nC   1.7610    1.8511   -0.4907\\nC   3.2146   -0.5444   -0.1101\\nC   3.1013    1.8722   -0.6493\\nC   3.8167    0.6946   -0.3059\\nC   4.2309   -1.4546    0.2464\\nC   5.3980   -0.7259    0.2399\\nH  -0.3415    0.5842   -1.5631\\nH  -3.6779    0.0397    1.9072\\nH  -1.1861   -0.6021    2.0159\\nH  -2.2356   -1.8757    1.4322\\nH  -2.3648   -0.3090   -2.0216\\nH  -2.6844   -1.9384   -1.4328\\nH  -0.2098   -2.1924   -1.5413\\nH  -0.8043   -2.9694   -0.0890\\nH  -1.9406    2.0033   -1.0514\\nH  -0.8134    2.6482    0.0921\\nH  -1.9341    1.7452    1.9434\\nH  -3.2193    2.2709    0.8849\\nH   1.6699   -0.7251   -1.4553\\nH   1.0259   -1.9792    1.2481\\nH   1.6508   -2.8307   -0.1490\\nH   2.0514    1.0518    1.9842\\nH   0.4166    1.6762    1.9486\\nH   0.7233   -0.0489    2.1864\\nH  -5.0524    0.1195   -1.8415\\nH  -4.0679    1.4861   -1.3088\\nH   1.2088    2.7568   -0.7218\\nH  -5.0925   -1.2746    0.7905\\nH   3.6240    2.7536   -0.9997\\nH   4.1386   -2.5085    0.4650\\nH  -6.2132    0.2149    0.0339\\nH   6.4308   -0.9731    0.4374\\n\",\"xyz\");\n\tviewergrid_1709143079626244[0][1].addModel(\"49\\n\\nO             -4.444246972056        -1.519499655762         0.133687582938\\nO             -5.717823243151         0.941920933384        -0.067035436722\\nO              5.074906553356         0.622192921009         0.095473621605\\nC             -1.218602177470        -0.830635590945        -0.247269687260\\nC             -0.477652283103         0.497206847178        -0.529645892873\\nC             -2.930032979065         0.109194166414         1.091620367651\\nC             -1.787380353587        -0.895060190455         1.174536855964\\nC             -2.515633794301        -0.856029877582        -1.095108400655\\nC              0.968427480369         0.594486642195         0.023105328494\\nC             -3.654876662443        -0.372392188582        -0.180458465671\\nC             -0.338761433634        -2.036945462281        -0.583487562130\\nC             -1.380922756356         1.698249167877        -0.180015938988\\nC             -2.322218386173         1.506830153427         1.012213348971\\nC              1.723651047068        -0.686675607523        -0.399653646682\\nC              1.033745881074        -1.956638220964         0.075497552046\\nC              1.068775622580         0.833466615061         1.537760213368\\nC             -4.585076215915         0.655632054126        -0.853891466021\\nC              1.691792708393         1.770178251901        -0.620456437149\\nC              3.162384607317        -0.539525392485        -0.024308810638\\nC              3.026453656566         1.832992701947        -0.661213519679\\nC              3.761356207783         0.686849555981        -0.200988478905\\nC              4.186105592643        -1.411078117838         0.402955970561\\nC              5.318401976260        -0.648905275222         0.464791122791\\nH             -0.335044211188         0.523188165423        -1.619121956026\\nH             -3.599210152909         0.065664719644         1.957648962266\\nH             -1.080845076642        -0.645952581367         1.956895697023\\nH             -2.177197201485        -1.898085491798         1.358665370301\\nH             -2.433748231438        -0.246586156537        -1.993187401806\\nH             -2.750556225758        -1.876641147086        -1.397583085374\\nH             -0.202961075603        -2.084227504514        -1.667524109178\\nH             -0.851690180632        -2.949995067512        -0.273727540503\\nH             -1.983528910513         1.923955669245        -1.061256484936\\nH             -0.768118239790         2.580194198490         0.010452636569\\nH             -1.779681098561         1.670317147132         1.945888043310\\nH             -3.112543884243         2.258628012966         0.965687290245\\nH              1.702617496784        -0.706788379224        -1.502641943600\\nH              0.941020117192        -1.968973038307         1.160844634481\\nH              1.629998494623        -2.823282820498        -0.216933602425\\nH              2.103647103697         1.037195204176         1.803383329903\\nH              0.473057031775         1.693597021371         1.827356123243\\nH              0.749260114613        -0.028531470610         2.112178950817\\nH             -4.890278805139         0.251727947253        -1.829217880237\\nH             -4.081465474350         1.606980463315        -1.012092866944\\nH              1.101025360284         2.598128683152        -0.978016699399\\nH             -4.939041649527        -1.335806083015         0.940565694331\\nH              3.560855008572         2.688859956381        -1.042623896918\\nH              4.105797303707        -2.451938925592         0.640845686369\\nH             -6.244852455390         0.135938218946        -0.009556375902\\nH              6.323310765766        -0.889981172294         0.749463203372\\n\",\"xyz\");\n\tviewergrid_1709143079626244[0][0].setViewStyle({\"style\": \"outline\", \"width\": 0.05});\n\tviewergrid_1709143079626244[0][1].setViewStyle({\"style\": \"outline\", \"width\": 0.05});\n\tviewergrid_1709143079626244[0][0].setStyle({\"stick\": {}, \"sphere\": {\"scale\": 0.25}});\n\tviewergrid_1709143079626244[0][1].setStyle({\"stick\": {}, \"sphere\": {\"scale\": 0.25}});\n\tviewergrid_1709143079626244[0][0].zoomTo();\n\tviewergrid_1709143079626244[0][1].zoomTo();\nviewergrid_1709143079626244[0][1].render();\nviewergrid_1709143079626244[0][0].render();\n});\n</script>",
      "text/html": [
       "<div id=\"3dmolviewer_1709143079626244\"  style=\"position: relative; width: 600px; height: 250px;\">\n",
       "        <p id=\"3dmolwarning_1709143079626244\" style=\"background-color:#ffcccc;color:black\">You appear to be running in JupyterLab (or JavaScript failed to load for some other reason).  You need to install the 3dmol extension: <br>\n",
       "        <tt>jupyter labextension install jupyterlab_3dmol</tt></p>\n",
       "        </div>\n",
       "<script>\n",
       "\n",
       "var loadScriptAsync = function(uri){\n",
       "  return new Promise((resolve, reject) => {\n",
       "    //this is to ignore the existence of requirejs amd\n",
       "    var savedexports, savedmodule;\n",
       "    if (typeof exports !== 'undefined') savedexports = exports;\n",
       "    else exports = {}\n",
       "    if (typeof module !== 'undefined') savedmodule = module;\n",
       "    else module = {}\n",
       "\n",
       "    var tag = document.createElement('script');\n",
       "    tag.src = uri;\n",
       "    tag.async = true;\n",
       "    tag.onload = () => {\n",
       "        exports = savedexports;\n",
       "        module = savedmodule;\n",
       "        resolve();\n",
       "    };\n",
       "  var firstScriptTag = document.getElementsByTagName('script')[0];\n",
       "  firstScriptTag.parentNode.insertBefore(tag, firstScriptTag);\n",
       "});\n",
       "};\n",
       "\n",
       "if(typeof $3Dmolpromise === 'undefined') {\n",
       "$3Dmolpromise = null;\n",
       "  $3Dmolpromise = loadScriptAsync('https://cdnjs.cloudflare.com/ajax/libs/3Dmol/2.0.4/3Dmol-min.js');\n",
       "}\n",
       "\n",
       "var viewer_1709143079626244 = null;\n",
       "var warn = document.getElementById(\"3dmolwarning_1709143079626244\");\n",
       "if(warn) {\n",
       "    warn.parentNode.removeChild(warn);\n",
       "}\n",
       "$3Dmolpromise.then(function() {\n",
       "var viewergrid_1709143079626244 = null;\n",
       "viewergrid_1709143079626244 = $3Dmol.createViewerGrid(document.getElementById(\"3dmolviewer_1709143079626244\"),{rows: 1, cols: 2, control_all: true},{backgroundColor:\"white\"});\n",
       "viewer_1709143079626244 = viewergrid_1709143079626244[0][0];\n",
       "viewergrid_1709143079626244[0][0].zoomTo();viewergrid_1709143079626244[0][1].zoomTo();\tviewergrid_1709143079626244[0][0].addModel(\"51\\ncafestol initial structure\\nO  -4.5215   -1.3455    0.4926\\nO  -5.2905    0.0812   -1.7033\\nO   5.1630    0.4345   -0.1101\\nC  -1.2807   -0.7511   -0.0465\\nC  -0.5244    0.5810   -0.4102\\nC   0.9909    0.6610    0.0407\\nC  -2.9440    0.2916    1.2866\\nC  -1.8143   -0.7311    1.3945\\nC  -2.6188   -0.8159   -0.8642\\nC  -3.7116   -0.2387    0.0606\\nC  -0.4332   -2.0024   -0.3283\\nC  -1.3742    1.8303   -0.0654\\nC   1.6844   -0.6873   -0.4019\\nC  -2.3206    1.6833    1.1309\\nC   0.9997   -1.9155    0.1913\\nC   1.7285    1.8344   -0.7277\\nC   1.1437    0.9261    1.5588\\nC   3.1644   -0.6155   -0.2085\\nC  -4.6490    0.7442   -0.6282\\nC   3.2525    1.9378   -0.4590\\nC   3.8298    0.5879   -0.2856\\nC   4.1654   -1.5888    0.0140\\nC   5.3604   -0.9015    0.0689\\nH  -0.4604    0.5817   -1.5108\\nH  -3.5646    0.2626    2.1897\\nH  -1.0861   -0.4449    2.1498\\nH  -2.1902   -1.7145    1.7003\\nH  -2.5286   -0.2495   -1.7981\\nH  -2.8534   -1.8505   -1.1460\\nH  -0.3943   -2.1694   -1.4136\\nH  -0.9135   -2.8938    0.0946\\nH  -1.9810    2.0650   -0.9487\\nH  -0.7587    2.7222    0.0818\\nH   1.5605   -0.7646   -1.4951\\nH  -1.7642    1.9154    2.0477\\nH  -3.1082    2.4431    1.0635\\nH   1.0176   -1.9046    1.2859\\nH   1.5276   -2.8282   -0.1118\\nH   1.2808    2.8061   -0.4944\\nH   1.5851    1.6842   -1.8068\\nH   0.5898    1.8173    1.8670\\nH   0.8147    0.0892    2.1727\\nH   2.1832    1.0992    1.8532\\nH  -4.1337    1.6158   -1.0351\\nH  -5.4265    1.0934    0.0595\\nH   3.4273    2.5264    0.4487\\nH   3.7385    2.4646   -1.2871\\nH  -3.9519   -2.0832    0.7635\\nH   4.0442   -2.6573    0.1180\\nH  -5.7603   -0.6874   -1.3370\\nH   6.3869   -1.2031    0.2186\\n\",\"xyz\");\n",
       "\tviewergrid_1709143079626244[0][0].addModel(\"51\\n\\nO             -4.586928055941        -1.279900278502         0.480283042814\\nO             -5.319303004455         0.246562721248        -1.629048566171\\nO              5.096373000017         0.479142111658         0.047371365474\\nC             -1.255190334737        -0.766697044087        -0.090694738124\\nC             -0.509228101659         0.539152757653        -0.458496895577\\nC              0.978372094285         0.632243277896        -0.011989929990\\nC             -2.880159927638         0.238836939125         1.312497343929\\nC             -1.740437201477        -0.771913882537         1.364288255345\\nC             -2.598892863846        -0.799815950367        -0.863852362904\\nC             -3.682490919094        -0.248170423919         0.088636260523\\nC             -0.416164591043        -1.999830190452        -0.434968427891\\nC             -1.378410241272         1.760376106345        -0.090411235630\\nC              1.674856522712        -0.681263618994        -0.445474585585\\nC             -2.250016767851         1.621564709421         1.161318489591\\nC              0.997769903768        -1.919051070800         0.128039578525\\nC              1.666376992022         1.766537676189        -0.811767828755\\nC              1.168837385400         0.910140771436         1.479849355767\\nC              3.135520451518        -0.569549754156        -0.157646254128\\nC             -4.609456907915         0.795536758444        -0.551571031788\\nC              3.155683645915         1.954159220843        -0.478173249627\\nC              3.782187074264         0.630199613871        -0.219298373721\\nC              4.130802025624        -1.530150719302         0.161772911800\\nC              5.294632854527        -0.835297818412         0.274042331184\\nH             -0.446341978951         0.529018015691        -1.555044784524\\nH             -3.512302270161         0.221149607542         2.205104723604\\nH             -0.987805533686        -0.489646801741         2.090189079032\\nH             -2.099466440651        -1.770583397118         1.629844363777\\nH             -2.561113671771        -0.227435281566        -1.788326722991\\nH             -2.854655254780        -1.827144641595        -1.131680642678\\nH             -0.352920299911        -2.090381410811        -1.522830098502\\nH             -0.917392428938        -2.895613109147        -0.058907394191\\nH             -2.030547015410         1.964782549050        -0.939715194246\\nH             -0.751053821960         2.643276351670         0.031134002897\\nH              1.568214060756        -0.751868253404        -1.538315094055\\nH             -1.648526706159         1.799632325828         2.055430382536\\nH             -3.024936822431         2.390210754928         1.135414380640\\nH              0.980001150621        -1.887152910631         1.216951626743\\nH              1.555474781208        -2.809091091523        -0.168723159677\\nH              1.159647789788         2.715758590120        -0.638991228141\\nH              1.574182906066         1.537824461159        -1.875605350137\\nH              0.649837268400         1.820869162749         1.764760037562\\nH              0.808398863068         0.095443809520         2.096526999233\\nH              2.222626377259         1.033899812344         1.709265514236\\nH             -4.054650037994         1.641880471683        -0.952435296680\\nH             -5.302113627907         1.156095986337         0.223473081069\\nH              3.278594657096         2.596762358200         0.399148346206\\nH              3.657824867869         2.457385695898        -1.308818055792\\nH             -4.087274176937        -1.977207704933         0.916415481386\\nH              4.002114357313        -2.584672994820         0.293398769454\\nH             -5.695005274196        -0.585384436230        -1.313404326444\\nH              6.294955249276        -1.145419831800         0.501035104623\\n\",\"xyz\");\n",
       "\tviewergrid_1709143079626244[0][1].addModel(\"49\\nkahweol initial structure\\nO  -4.4710   -1.5361    0.0905\\nO  -5.6188    0.9753   -0.0811\\nO   5.1625    0.5695   -0.0997\\nC  -1.2209   -0.8317   -0.2017\\nC  -0.4821    0.5357   -0.4703\\nC  -3.0038    0.1167    1.0462\\nC  -1.8514   -0.8737    1.1997\\nC  -2.4967   -0.9058   -1.1119\\nC   0.9884    0.6333    0.0944\\nC  -3.6676   -0.3924   -0.2474\\nC  -0.3220   -2.0551   -0.4569\\nC  -1.3919    1.7479   -0.1363\\nC  -2.4167    1.5304    0.9816\\nC   1.7435   -0.6786   -0.3542\\nC   1.0741   -1.9483    0.1552\\nC   1.0367    0.8330    1.6293\\nC  -4.5845    0.5870   -0.9677\\nC   1.7610    1.8511   -0.4907\\nC   3.2146   -0.5444   -0.1101\\nC   3.1013    1.8722   -0.6493\\nC   3.8167    0.6946   -0.3059\\nC   4.2309   -1.4546    0.2464\\nC   5.3980   -0.7259    0.2399\\nH  -0.3415    0.5842   -1.5631\\nH  -3.6779    0.0397    1.9072\\nH  -1.1861   -0.6021    2.0159\\nH  -2.2356   -1.8757    1.4322\\nH  -2.3648   -0.3090   -2.0216\\nH  -2.6844   -1.9384   -1.4328\\nH  -0.2098   -2.1924   -1.5413\\nH  -0.8043   -2.9694   -0.0890\\nH  -1.9406    2.0033   -1.0514\\nH  -0.8134    2.6482    0.0921\\nH  -1.9341    1.7452    1.9434\\nH  -3.2193    2.2709    0.8849\\nH   1.6699   -0.7251   -1.4553\\nH   1.0259   -1.9792    1.2481\\nH   1.6508   -2.8307   -0.1490\\nH   2.0514    1.0518    1.9842\\nH   0.4166    1.6762    1.9486\\nH   0.7233   -0.0489    2.1864\\nH  -5.0524    0.1195   -1.8415\\nH  -4.0679    1.4861   -1.3088\\nH   1.2088    2.7568   -0.7218\\nH  -5.0925   -1.2746    0.7905\\nH   3.6240    2.7536   -0.9997\\nH   4.1386   -2.5085    0.4650\\nH  -6.2132    0.2149    0.0339\\nH   6.4308   -0.9731    0.4374\\n\",\"xyz\");\n",
       "\tviewergrid_1709143079626244[0][1].addModel(\"49\\n\\nO             -4.444246972056        -1.519499655762         0.133687582938\\nO             -5.717823243151         0.941920933384        -0.067035436722\\nO              5.074906553356         0.622192921009         0.095473621605\\nC             -1.218602177470        -0.830635590945        -0.247269687260\\nC             -0.477652283103         0.497206847178        -0.529645892873\\nC             -2.930032979065         0.109194166414         1.091620367651\\nC             -1.787380353587        -0.895060190455         1.174536855964\\nC             -2.515633794301        -0.856029877582        -1.095108400655\\nC              0.968427480369         0.594486642195         0.023105328494\\nC             -3.654876662443        -0.372392188582        -0.180458465671\\nC             -0.338761433634        -2.036945462281        -0.583487562130\\nC             -1.380922756356         1.698249167877        -0.180015938988\\nC             -2.322218386173         1.506830153427         1.012213348971\\nC              1.723651047068        -0.686675607523        -0.399653646682\\nC              1.033745881074        -1.956638220964         0.075497552046\\nC              1.068775622580         0.833466615061         1.537760213368\\nC             -4.585076215915         0.655632054126        -0.853891466021\\nC              1.691792708393         1.770178251901        -0.620456437149\\nC              3.162384607317        -0.539525392485        -0.024308810638\\nC              3.026453656566         1.832992701947        -0.661213519679\\nC              3.761356207783         0.686849555981        -0.200988478905\\nC              4.186105592643        -1.411078117838         0.402955970561\\nC              5.318401976260        -0.648905275222         0.464791122791\\nH             -0.335044211188         0.523188165423        -1.619121956026\\nH             -3.599210152909         0.065664719644         1.957648962266\\nH             -1.080845076642        -0.645952581367         1.956895697023\\nH             -2.177197201485        -1.898085491798         1.358665370301\\nH             -2.433748231438        -0.246586156537        -1.993187401806\\nH             -2.750556225758        -1.876641147086        -1.397583085374\\nH             -0.202961075603        -2.084227504514        -1.667524109178\\nH             -0.851690180632        -2.949995067512        -0.273727540503\\nH             -1.983528910513         1.923955669245        -1.061256484936\\nH             -0.768118239790         2.580194198490         0.010452636569\\nH             -1.779681098561         1.670317147132         1.945888043310\\nH             -3.112543884243         2.258628012966         0.965687290245\\nH              1.702617496784        -0.706788379224        -1.502641943600\\nH              0.941020117192        -1.968973038307         1.160844634481\\nH              1.629998494623        -2.823282820498        -0.216933602425\\nH              2.103647103697         1.037195204176         1.803383329903\\nH              0.473057031775         1.693597021371         1.827356123243\\nH              0.749260114613        -0.028531470610         2.112178950817\\nH             -4.890278805139         0.251727947253        -1.829217880237\\nH             -4.081465474350         1.606980463315        -1.012092866944\\nH              1.101025360284         2.598128683152        -0.978016699399\\nH             -4.939041649527        -1.335806083015         0.940565694331\\nH              3.560855008572         2.688859956381        -1.042623896918\\nH              4.105797303707        -2.451938925592         0.640845686369\\nH             -6.244852455390         0.135938218946        -0.009556375902\\nH              6.323310765766        -0.889981172294         0.749463203372\\n\",\"xyz\");\n",
       "\tviewergrid_1709143079626244[0][0].setViewStyle({\"style\": \"outline\", \"width\": 0.05});\n",
       "\tviewergrid_1709143079626244[0][1].setViewStyle({\"style\": \"outline\", \"width\": 0.05});\n",
       "\tviewergrid_1709143079626244[0][0].setStyle({\"stick\": {}, \"sphere\": {\"scale\": 0.25}});\n",
       "\tviewergrid_1709143079626244[0][1].setStyle({\"stick\": {}, \"sphere\": {\"scale\": 0.25}});\n",
       "\tviewergrid_1709143079626244[0][0].zoomTo();\n",
       "\tviewergrid_1709143079626244[0][1].zoomTo();\n",
       "viewergrid_1709143079626244[0][1].render();\n",
       "viewergrid_1709143079626244[0][0].render();\n",
       "});\n",
       "</script>"
      ]
     },
     "metadata": {},
     "output_type": "display_data"
    }
   ],
   "source": [
    "viewer = p3d.view(viewergrid=(1, 2), width=600, height=250, linked=True)\n",
    "\n",
    "viewer.addModel(cafestol_xyz, \"xyz\", viewer=(0, 0))\n",
    "viewer.addModel(opt_cafestol_results[\"final_geometry\"], \"xyz\", viewer=(0, 0))\n",
    "\n",
    "viewer.addModel(kahweol_xyz, \"xyz\", viewer=(0, 1))\n",
    "viewer.addModel(opt_kahweol_results[\"final_geometry\"], \"xyz\", viewer=(0, 1))\n",
    "\n",
    "viewer.setViewStyle({\"style\": \"outline\", \"width\": 0.05})\n",
    "viewer.setStyle({\"stick\": {}, \"sphere\": {\"scale\": 0.25}})\n",
    "\n",
    "viewer.zoomTo()\n",
    "\n",
    "viewer.show()"
   ]
  },
  {
   "cell_type": "markdown",
   "id": "2a3a8f10-ad76-461a-a72e-d68eff085004",
   "metadata": {
    "editable": true,
    "slideshow": {
     "slide_type": ""
    },
    "tags": []
   },
   "source": [
    "The initial and final structures are close so you may need to zoom in to see the subtle differences."
   ]
  }
 ],
 "metadata": {
  "celltoolbar": "Tags",
  "kernelspec": {
   "display_name": "Python 3 (ipykernel)",
   "language": "python",
   "name": "python3"
  },
  "language_info": {
   "codemirror_mode": {
    "name": "ipython",
    "version": 3
   },
   "file_extension": ".py",
   "mimetype": "text/x-python",
   "name": "python",
   "nbconvert_exporter": "python",
   "pygments_lexer": "ipython3",
   "version": "3.10.13"
  }
 },
 "nbformat": 4,
 "nbformat_minor": 5
}
