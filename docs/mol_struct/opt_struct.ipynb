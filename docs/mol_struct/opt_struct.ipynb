{
 "cells": [
  {
   "cell_type": "markdown",
   "id": "c9052a57",
   "metadata": {},
   "source": [
    "(sec:structopt-methods)=\n",
    "# Optimization methods\n",
    "\n",
    "The first class of special points on the PES that we will discuss are local energy minima. These correspond to equilibrium molecular structures and are characterized by a vanishing first order energy derivative combined with a Hessian matrix which has only positive eigenvalues. The procedure to determine a local minimum (i.e. finding the coordinates that minimize the energy) is called a structure optimization.  \n",
    "\n",
    "```{figure} ../../img/pes/PES.png\n",
    ":scale: 100%\n",
    "```\n",
    "In practical terms, the ingredients to perform a geometry optimization include: (1) the initial molecular coordinates, (2) a choice of coordinate system, (3) the energy at a specific geometry $E(\\mathbf{x})$, (4) the gradient $\\mathbf{g}(\\mathbf{x})=\\nabla E(\\mathbf{x})$, (5) the Hessian, and (6) a procedure to update the coordinates and Hessian and move on the potential energy surface towards lower energy. \n",
    "\n",
    "Having addressed [the issue of coordinate system](coord), the remaining question is what procedure to use to move along the potential energy surface and arrive at a local energy minimum. There are several iterative methods to do this, some of which need only information on the energy gradient (e.g. gradient-descent, conjugate gradient), while others take into account also the Hessian (Newton--Raphson, quasi-Newton). For a detailed review of minimization techniques, see {cite}`Snyman2005`.\n",
    "\n",
    "## Gradient descent\n",
    "\n",
    "The simplest optimization procedure is to repeatedly take a step in the direction opposite to the local gradient\n",
    "%\n",
    "\\begin{equation}\n",
    "\\mathbf{x}_{i+1} = \\mathbf{x}_i - k_i\\mathbf{g}(\\mathbf{x}_i) \\nonumber \n",
    "\\end{equation}\n",
    "where by $\\mathbf{x}_{i+1}$ we denote the new coordinates (in a generic coordinate system -- either Cartesian or internal coordinates), $\\mathbf{x}_i$ are the coordinates at the previous step $i$, $\\nabla E$ is the energy gradient and $k_i$ is the step size. The step size can either be kept constant, or adjusted at each iteration, e.g. by the line search procedure.\n",
    "\n",
    "The gradient-descent method is simple to implement and is guaranteed to converge, but has the disadvantage that it requires many steps and becomes slow when close to the minimum where the gradient is small. It always converges to a local minimum, given enough steps.\n"
   ]
  },
  {
   "cell_type": "markdown",
   "id": "82f1ebcb-912e-4cac-b10f-cbaf18d2709d",
   "metadata": {},
   "source": [
    "### Implementation\n",
    "Let's implement the gradient descent method. We will need to set up a molecule, an SCF driver and a gradient driver."
   ]
  },
  {
   "cell_type": "code",
   "execution_count": 1,
   "id": "b7935db4-cfb0-4316-bca1-b34489233fbb",
   "metadata": {
    "tags": [
     "hide-output"
    ]
   },
   "outputs": [
    {
     "name": "stdout",
     "output_type": "stream",
     "text": [
      "* Warning * Environment variable OMP_NUM_THREADS not set.\n",
      "* Warning * Setting OMP_NUM_THREADS to 8.\n"
     ]
    }
   ],
   "source": [
    "# Import section\n",
    "import veloxchem as vlx\n",
    "import py3Dmol as p3d\n",
    "from veloxchem.veloxchemlib import bohr_in_angstroms\n",
    "import numpy as np\n",
    "from matplotlib import pyplot as plt"
   ]
  },
  {
   "cell_type": "code",
   "execution_count": 2,
   "id": "e787e053-105d-4a09-9b70-b5bf9d3ef9d7",
   "metadata": {
    "tags": [
     "hide-output"
    ]
   },
   "outputs": [
    {
     "name": "stdout",
     "output_type": "stream",
     "text": [
      "* Info * Reading basis set from file: /home/emi/miniconda3/envs/echem/lib/python3.10/site-packages/veloxchem/basis/STO-3G \n",
      "                                                                                                                          \n",
      "                                              Molecular Basis (Atomic Basis)                                              \n",
      "                                             ================================                                             \n",
      "                                                                                                                          \n",
      "                               Basis: STO-3G                                                                              \n",
      "                                                                                                                          \n",
      "                               Atom Contracted GTOs           Primitive GTOs                                              \n",
      "                                                                                                                          \n",
      "                                O   (2S,1P)                   (6S,3P)                                                     \n",
      "                                H   (1S)                      (3S)                                                        \n",
      "                                                                                                                          \n",
      "                               Contracted Basis Functions : 7                                                             \n",
      "                               Primitive Basis Functions  : 21                                                            \n",
      "                                                                                                                          \n"
     ]
    }
   ],
   "source": [
    "# Define the molecule\n",
    "molecule_xyz = \"\"\"3\n",
    "water\n",
    "  O 0.000 0.000  0.000\n",
    "  H 0.000 0.000  0.950\n",
    "  H 0.896 0.000 -0.317\n",
    "\"\"\"\n",
    "molecule = vlx.Molecule.from_xyz_string(molecule_xyz)\n",
    "\n",
    "# and basis set\n",
    "basis_set_label = 'sto-3g'\n",
    "basis = vlx.MolecularBasis.read(molecule, basis_set_label)"
   ]
  },
  {
   "cell_type": "code",
   "execution_count": 3,
   "id": "d1bc02d6-47d4-43d3-b8fb-0e99cb513641",
   "metadata": {
    "tags": [
     "hide-input"
    ]
   },
   "outputs": [
    {
     "data": {
      "application/3dmoljs_load.v0": "<div id=\"3dmolviewer_16789003768703487\"  style=\"position: relative; width: 400px; height: 300px\">\n        <p id=\"3dmolwarning_16789003768703487\" style=\"background-color:#ffcccc;color:black\">You appear to be running in JupyterLab (or JavaScript failed to load for some other reason).  You need to install the 3dmol extension: <br>\n        <tt>jupyter labextension install jupyterlab_3dmol</tt></p>\n        </div>\n<script>\n\nvar loadScriptAsync = function(uri){\n  return new Promise((resolve, reject) => {\n    //this is to ignore the existence of requirejs amd\n    var savedexports, savedmodule;\n    if (typeof exports !== 'undefined') savedexports = exports;\n    else exports = {}\n    if (typeof module !== 'undefined') savedmodule = module;\n    else module = {}\n\n    var tag = document.createElement('script');\n    tag.src = uri;\n    tag.async = true;\n    tag.onload = () => {\n        exports = savedexports;\n        module = savedmodule;\n        resolve();\n    };\n  var firstScriptTag = document.getElementsByTagName('script')[0];\n  firstScriptTag.parentNode.insertBefore(tag, firstScriptTag);\n});\n};\n\nif(typeof $3Dmolpromise === 'undefined') {\n$3Dmolpromise = null;\n  $3Dmolpromise = loadScriptAsync('https://cdnjs.cloudflare.com/ajax/libs/3Dmol/2.0.1/3Dmol-min.js');\n}\n\nvar viewer_16789003768703487 = null;\nvar warn = document.getElementById(\"3dmolwarning_16789003768703487\");\nif(warn) {\n    warn.parentNode.removeChild(warn);\n}\n$3Dmolpromise.then(function() {\nvar viewergrid_16789003768703487 = null;\nviewergrid_16789003768703487 = $3Dmol.createViewerGrid(document.getElementById(\"3dmolviewer_16789003768703487\"),{rows: 1, cols: 1, control_all: true},{backgroundColor:\"white\"});\nviewer_16789003768703487 = viewergrid_16789003768703487[0][0];\nviewergrid_16789003768703487[0][0].zoomTo();\tviewergrid_16789003768703487[0][0].addModel(\"3\\nwater\\n  O 0.000 0.000  0.000\\n  H 0.000 0.000  0.950\\n  H 0.896 0.000 -0.317\\n\",\"xyz\");\n\tviewergrid_16789003768703487[0][0].setViewStyle({\"style\": \"outline\", \"width\": 0.05});\n\tviewergrid_16789003768703487[0][0].setStyle({\"stick\": {}, \"sphere\": {\"scale\": 0.25}});\n\tviewergrid_16789003768703487[0][0].rotate(-90,\"x\");\n\tviewergrid_16789003768703487[0][0].zoomTo();\nviewergrid_16789003768703487[0][0].render();\n});\n</script>",
      "text/html": [
       "<div id=\"3dmolviewer_16789003768703487\"  style=\"position: relative; width: 400px; height: 300px\">\n",
       "        <p id=\"3dmolwarning_16789003768703487\" style=\"background-color:#ffcccc;color:black\">You appear to be running in JupyterLab (or JavaScript failed to load for some other reason).  You need to install the 3dmol extension: <br>\n",
       "        <tt>jupyter labextension install jupyterlab_3dmol</tt></p>\n",
       "        </div>\n",
       "<script>\n",
       "\n",
       "var loadScriptAsync = function(uri){\n",
       "  return new Promise((resolve, reject) => {\n",
       "    //this is to ignore the existence of requirejs amd\n",
       "    var savedexports, savedmodule;\n",
       "    if (typeof exports !== 'undefined') savedexports = exports;\n",
       "    else exports = {}\n",
       "    if (typeof module !== 'undefined') savedmodule = module;\n",
       "    else module = {}\n",
       "\n",
       "    var tag = document.createElement('script');\n",
       "    tag.src = uri;\n",
       "    tag.async = true;\n",
       "    tag.onload = () => {\n",
       "        exports = savedexports;\n",
       "        module = savedmodule;\n",
       "        resolve();\n",
       "    };\n",
       "  var firstScriptTag = document.getElementsByTagName('script')[0];\n",
       "  firstScriptTag.parentNode.insertBefore(tag, firstScriptTag);\n",
       "});\n",
       "};\n",
       "\n",
       "if(typeof $3Dmolpromise === 'undefined') {\n",
       "$3Dmolpromise = null;\n",
       "  $3Dmolpromise = loadScriptAsync('https://cdnjs.cloudflare.com/ajax/libs/3Dmol/2.0.1/3Dmol-min.js');\n",
       "}\n",
       "\n",
       "var viewer_16789003768703487 = null;\n",
       "var warn = document.getElementById(\"3dmolwarning_16789003768703487\");\n",
       "if(warn) {\n",
       "    warn.parentNode.removeChild(warn);\n",
       "}\n",
       "$3Dmolpromise.then(function() {\n",
       "var viewergrid_16789003768703487 = null;\n",
       "viewergrid_16789003768703487 = $3Dmol.createViewerGrid(document.getElementById(\"3dmolviewer_16789003768703487\"),{rows: 1, cols: 1, control_all: true},{backgroundColor:\"white\"});\n",
       "viewer_16789003768703487 = viewergrid_16789003768703487[0][0];\n",
       "viewergrid_16789003768703487[0][0].zoomTo();\tviewergrid_16789003768703487[0][0].addModel(\"3\\nwater\\n  O 0.000 0.000  0.000\\n  H 0.000 0.000  0.950\\n  H 0.896 0.000 -0.317\\n\",\"xyz\");\n",
       "\tviewergrid_16789003768703487[0][0].setViewStyle({\"style\": \"outline\", \"width\": 0.05});\n",
       "\tviewergrid_16789003768703487[0][0].setStyle({\"stick\": {}, \"sphere\": {\"scale\": 0.25}});\n",
       "\tviewergrid_16789003768703487[0][0].rotate(-90,\"x\");\n",
       "\tviewergrid_16789003768703487[0][0].zoomTo();\n",
       "viewergrid_16789003768703487[0][0].render();\n",
       "});\n",
       "</script>"
      ]
     },
     "metadata": {},
     "output_type": "display_data"
    }
   ],
   "source": [
    "view = p3d.view(linked=True, viewergrid=(1,1),width=400,height=300)\n",
    "view.addModel(molecule_xyz, 'xyz', viewer=(0,0))\n",
    "view.setViewStyle({\"style\": \"outline\", \"width\": 0.05})\n",
    "view.setStyle({'stick': {}, 'sphere': {'scale':0.25}})\n",
    "view.rotate(-90, \"x\")\n",
    "view.zoomTo()\n",
    "view.show()"
   ]
  },
  {
   "cell_type": "code",
   "execution_count": 4,
   "id": "e1c6b726-dc45-438a-a421-280bcd183e39",
   "metadata": {
    "scrolled": true,
    "tags": [
     "hide-output",
     "hide-input"
    ]
   },
   "outputs": [],
   "source": [
    "# SCF Energy\n",
    "scf_drv = vlx.ScfRestrictedDriver()\n",
    "scf_drv.conv_thresh = 1.0e-6\n",
    "# for DFT\n",
    "# scf_drv.xcfun = \"b3lyp\"\n",
    "# scf_drv.grid_level = 4\n",
    "\n",
    "# Gradient\n",
    "grad_driver = vlx.ScfGradientDriver(scf_drv=scf_drv)"
   ]
  },
  {
   "cell_type": "markdown",
   "id": "b074d5e4-dc08-4f32-8479-3f7e5c8a224e",
   "metadata": {},
   "source": [
    "Now, write your own routine to run one gradient descent iteration:\n",
    "```python\n",
    "def gradient_descent_iteration(coordinates, gradient, step):\n",
    "    ...\n",
    "    return new_coordinates\n",
    "```"
   ]
  },
  {
   "cell_type": "code",
   "execution_count": 5,
   "id": "155ee8e5-541d-4c14-8219-2747f01d236c",
   "metadata": {
    "tags": [
     "hide-output",
     "hide-input"
    ]
   },
   "outputs": [],
   "source": [
    "def gradient_descent_iteration(coordinates, gradient, step):\n",
    "    new_coordinates = coordinates - step * gradient\n",
    "    return new_coordinates"
   ]
  },
  {
   "cell_type": "markdown",
   "id": "953ea3fb-d73a-4068-9402-9f6fd45f9cd2",
   "metadata": {},
   "source": [
    "And the routine that runs the optimization:\n",
    "```python\n",
    "def gradient_descent(molecule, basis, scf_driver, gradient_driver,\n",
    "                     step=0.1, threshold=1e-3, max_iter=10):\n",
    "\n",
    "    # set ostream state to False, to avoid printout from every new scf calculation\n",
    "    ostream_state = scf_driver.ostream.state\n",
    "    scf_driver.ostream.state = False\n",
    "    gradient_driver.ostream.state = False\n",
    "    \n",
    "    iteration = 0\n",
    "    grad_norm = 100\n",
    "    \n",
    "    # atom labels (symbols)\n",
    "    labels = molecule.get_labels()\n",
    "    \n",
    "    # initial atomc coordinates\n",
    "    old_coords = molecule.get_coordinates()\n",
    "    scf_results = scf_driver.compute(molecule, basis, None)\n",
    "    old_energy = scf_driver.get_scf_energy()\n",
    "    gradient_driver.compute(molecule, basis)\n",
    "    old_gradient = gradient_driver.gradient\n",
    "    \n",
    "    print(\"Starting gradient descent:\\n\")\n",
    "    text = \"Iteration     Energy (H)      \"\n",
    "    text += \"Max. displacement (bohr)    Gradient norm (H/bohr)\"\n",
    "    print(text)\n",
    "\n",
    "    energies = [old_energy]\n",
    "    iterations = [0]\n",
    "\n",
    "    while (grad_norm >= threshold) and (iteration <= max_iter):\n",
    "        ...\n",
    "        ...\n",
    "        ...\n",
    "\n",
    "        \n",
    "    if iteration <= max_iter:\n",
    "        text = \"\\n   *** Gradient Descent converged in \"\n",
    "        text += \"%d iteration(s). *** \" % iteration\n",
    "        print(text)\n",
    "        return new_molecule, iterations, energies\n",
    "    else:\n",
    "        print(\"\\n   !!! Gradient Descent did not converge  !!! \")\n",
    "        return None, None, None\n",
    "\n",
    "    # Set the ostream state to initial value\n",
    "    scf_driver.ostream.state = ostream_state\n",
    "    gradient_driver.ostream.state = ostream_state\n",
    "```"
   ]
  },
  {
   "cell_type": "code",
   "execution_count": 6,
   "id": "cfbfd88e-e479-4894-b8e0-71b15af6b406",
   "metadata": {
    "tags": [
     "hide-output",
     "hide-input"
    ]
   },
   "outputs": [],
   "source": [
    "def gradient_descent(molecule, basis, scf_driver, gradient_driver,\n",
    "                     step=0.1, threshold=1e-3, max_iter=10):\n",
    "    # set ostream state to False, to avoid printout from every new scf calculation\n",
    "    ostream_state = scf_driver.ostream.state\n",
    "    scf_driver.ostream.state = False\n",
    "    gradient_driver.ostream.state = False\n",
    "    \n",
    "    iteration = 0\n",
    "    grad_norm = 100\n",
    "    # atom labels (symbols)\n",
    "    labels = molecule.get_labels()\n",
    "    \n",
    "    # initial atomic coordinates\n",
    "    old_coords = molecule.get_coordinates()\n",
    "    \n",
    "    scf_results = scf_driver.compute(molecule, basis, None)\n",
    "    old_energy = scf_driver.get_scf_energy()\n",
    "    \n",
    "    gradient_driver.compute(molecule, basis)\n",
    "    old_gradient = gradient_driver.gradient\n",
    "    \n",
    "    print(\"Starting gradient descent:\\n\")\n",
    "    text = \"Iteration     Energy (H)      \"\n",
    "    text += \"Max. displacement (bohr)    Gradient norm (H/bohr)\"\n",
    "    print(text)\n",
    "    energies = [old_energy]\n",
    "    iterations = [0]\n",
    "    while (grad_norm >= threshold) and (iteration <= max_iter):\n",
    "        coords = gradient_descent_iteration(old_coords, old_gradient, step)\n",
    "        \n",
    "        # calculate the energy and gradient corresponding to the new coordinates\n",
    "        new_molecule = vlx.molecule.Molecule(labels, coords, units='au')\n",
    "        \n",
    "        scf_results = scf_driver.compute(new_molecule, basis, None)\n",
    "        energy = scf_driver.get_scf_energy()\n",
    "        energies.append(energy)\n",
    "        \n",
    "        gradient_driver.compute(new_molecule, basis)\n",
    "        gradient = gradient_driver.gradient\n",
    "        grad_norm = np.linalg.norm(gradient)\n",
    "        \n",
    "        displacement = old_coords - coords\n",
    "        max_disp = np.amax(abs(displacement))\n",
    "        \n",
    "        # calculate energy difference\n",
    "        delta_e = abs(energy - old_energy)\n",
    "        text = \"   %3d.  %15.7f      \" % (iteration, energy, )\n",
    "        text += \"%15.7f          %15.7f\" % (max_disp, grad_norm)\n",
    "        print(text)\n",
    "        \n",
    "        # save \n",
    "        old_energy = energy\n",
    "        old_gradient = gradient\n",
    "        old_coords = coords\n",
    "        iteration += 1\n",
    "        iterations.append(iteration)\n",
    "        \n",
    "    if iteration <= max_iter:\n",
    "        text = \"\\n   *** Gradient Descent converged in \"\n",
    "        text += \"%d iteration(s). *** \" % iteration\n",
    "        print(text)\n",
    "        return new_molecule, iterations, energies\n",
    "    else:\n",
    "        print(\"\\n   !!! Gradient Descent did not converge  !!! \")\n",
    "        return None, None, None\n",
    "    scf_driver.ostream.state = ostream_state\n",
    "    gradient_driver.ostream.state = ostream_state"
   ]
  },
  {
   "cell_type": "code",
   "execution_count": 7,
   "id": "4ed5ee3c-1d71-4a28-a8ff-b773d63352cd",
   "metadata": {
    "scrolled": true,
    "tags": [
     "hide-output"
    ]
   },
   "outputs": [
    {
     "name": "stdout",
     "output_type": "stream",
     "text": [
      "Starting gradient descent:\n",
      "\n",
      "Iteration     Energy (H)      Max. displacement (bohr)    Gradient norm (H/bohr)\n",
      "     0.      -74.9605109            0.0071311                0.0994035\n",
      "     1.      -74.9614427            0.0063668                0.0881487\n",
      "     2.      -74.9621766            0.0056990                0.0784445\n",
      "     3.      -74.9627589            0.0051136                0.0700529\n",
      "     4.      -74.9632239            0.0045989                0.0627797\n",
      "     5.      -74.9635981            0.0041452                0.0564644\n",
      "     6.      -74.9639013            0.0037442                0.0509731\n",
      "     7.      -74.9641488            0.0033892                0.0461931\n",
      "     8.      -74.9643524            0.0030741                0.0420288\n",
      "     9.      -74.9645214            0.0027940                0.0383981\n",
      "    10.      -74.9646627            0.0025445                0.0352305\n",
      "    11.      -74.9647818            0.0023220                0.0324649\n",
      "    12.      -74.9648833            0.0021232                0.0300478\n",
      "    13.      -74.9649703            0.0019453                0.0279327\n",
      "    14.      -74.9650457            0.0017860                0.0260789\n",
      "    15.      -74.9651116            0.0016430                0.0244504\n",
      "    16.      -74.9651696            0.0015146                0.0230160\n",
      "    17.      -74.9652211            0.0013991                0.0217483\n",
      "    18.      -74.9652671            0.0012950                0.0206236\n",
      "    19.      -74.9653086            0.0012012                0.0196211\n",
      "    20.      -74.9653462            0.0011164                0.0187230\n",
      "    21.      -74.9653805            0.0010397                0.0179140\n",
      "    22.      -74.9654119            0.0009703                0.0171810\n",
      "    23.      -74.9654409            0.0009260                0.0165129\n",
      "    24.      -74.9654676            0.0009062                0.0159001\n",
      "    25.      -74.9654924            0.0008862                0.0153348\n",
      "    26.      -74.9655155            0.0008664                0.0148103\n",
      "    27.      -74.9655371            0.0008466                0.0143208\n",
      "    28.      -74.9655573            0.0008270                0.0138617\n",
      "    29.      -74.9655762            0.0008075                0.0134291\n",
      "    30.      -74.9655940            0.0007883                0.0130196\n",
      "    31.      -74.9656107            0.0007693                0.0126305\n",
      "    32.      -74.9656264            0.0007506                0.0122596\n",
      "    33.      -74.9656412            0.0007322                0.0119049\n",
      "    34.      -74.9656552            0.0007141                0.0115647\n",
      "    35.      -74.9656683            0.0006963                0.0112378\n",
      "    36.      -74.9656808            0.0006788                0.0109230\n",
      "    37.      -74.9656926            0.0006617                0.0106194\n",
      "    38.      -74.9657037            0.0006449                0.0103261\n",
      "    39.      -74.9657142            0.0006284                0.0100423\n",
      "    40.      -74.9657241            0.0006123                0.0097677\n",
      "\n",
      "   *** Gradient Descent converged in 41 iteration(s). *** \n"
     ]
    }
   ],
   "source": [
    "opt_mol, gd_iterations, gd_energies = gradient_descent(molecule, basis,\n",
    "                                                       scf_drv, grad_driver,\n",
    "                                                       threshold=1e-2,\n",
    "                                                       max_iter=100)"
   ]
  },
  {
   "cell_type": "code",
   "execution_count": 8,
   "id": "839d1fbb-1f56-4beb-aa79-b4adef7ef391",
   "metadata": {
    "tags": [
     "hide-input"
    ]
   },
   "outputs": [
    {
     "data": {
      "image/png": "[encoded data removed]",
      "text/plain": [
       "<Figure size 600x400 with 1 Axes>"
      ]
     },
     "metadata": {},
     "output_type": "display_data"
    }
   ],
   "source": [
    "plt.figure(figsize=(6,4))\n",
    "\n",
    "plt.plot(gd_iterations, gd_energies,'o-', label='Gradient descent')\n",
    "\n",
    "plt.axis(xmin=-2, xmax=43)\n",
    "\n",
    "plt.xlabel('Iteration')\n",
    "plt.ylabel('Energy (H)')\n",
    "plt.title(\"Gradient descent convergence\")\n",
    "plt.legend()\n",
    "plt.tight_layout(); plt.show()"
   ]
  },
  {
   "cell_type": "markdown",
   "id": "d01260a3-51bb-42f0-a5d1-039519bc9dc6",
   "metadata": {},
   "source": [
    "## Conjugate gradient\n",
    "An improved method over the gradient-descent approach is to use the \"gradient history\" (steps $i$ and $i-1$) to determine the coordinates at step $i+1$\n",
    "%\n",
    "\\begin{equation}\n",
    "    \\mathbf{x}_{i+1} = \\mathbf{x}_i - k_i \\mathbf{h}_i \\nonumber\n",
    "\\end{equation}\n",
    "with $\\mathbf{h}_i = \\mathbf{g}(\\mathbf{x}_i)+\\gamma_i\\mathbf{h}_{i-1}$. The function $\\gamma_i$ contains gradient information from steps $i$ and $i-1$ and can be defined in different ways. For example, in the Fletcher-Reeves conjugate gradient method\n",
    "%\n",
    "\\begin{equation}\n",
    "    \\gamma_i = \\frac{|\\mathbf{g}(\\mathbf{x}_i)|^2}{|\\mathbf{g}(\\mathbf{x}_{i-1})|^2} \\nonumber\n",
    "\\end{equation}\n"
   ]
  },
  {
   "cell_type": "markdown",
   "id": "20eb96a2-cb7b-41d7-a37d-79c0ff53a9ff",
   "metadata": {},
   "source": [
    "### Implementation\n",
    "Implement the conjugate gradient optimization algorithm and compare its performance to the gradient descent method.\n",
    "```python\n",
    "def conjugate_gradient_iteration(coordinates, h, step):\n",
    "    ...\n",
    "    return new_coordinates\n",
    "```"
   ]
  },
  {
   "cell_type": "code",
   "execution_count": 13,
   "id": "e0be3529-d710-4c7a-a752-ae6441854cdb",
   "metadata": {
    "tags": [
     "hide-output",
     "hide-input"
    ]
   },
   "outputs": [],
   "source": [
    "def conjugate_gradient_iteration(coordinates, h, step):\n",
    "    new_coordinates = coordinates - step * h\n",
    "    return new_coordinates"
   ]
  },
  {
   "cell_type": "markdown",
   "id": "88990486-4444-42ff-892b-cb2d39001430",
   "metadata": {},
   "source": [
    "```python\n",
    "def conjugate_gradient(molecule, basis, scf_driver, gradient_driver,\n",
    "                       step=0.1, threshold=1e-3, max_iter=10):\n",
    "    # set ostream state to False, to avoid printout from every new scf calculation\n",
    "    ostream_state = scf_driver.ostream.state\n",
    "    scf_driver.ostream.state = False\n",
    "    gradient_driver.ostream.state = False\n",
    "    \n",
    "    iteration = 0\n",
    "    grad_norm = 100\n",
    "    \n",
    "    # atom labels (symbols)\n",
    "    labels = molecule.get_labels()\n",
    "    \n",
    "    # initial atomc coordinates\n",
    "    old_coords = molecule.get_coordinates()\n",
    "    \n",
    "    scf_results = scf_driver.compute(molecule, basis, None)\n",
    "    old_energy = scf_driver.get_scf_energy()\n",
    "    \n",
    "    gradient_driver.compute(molecule, basis)\n",
    "    old_gradient = gradient_driver.gradient\n",
    "    old_h = old_gradient\n",
    "    \n",
    "    print(\"Starting gradient descent:\\n\")\n",
    "    text = \"Iteration     Energy (H)      Max. displacement (bohr)\"\n",
    "    text += \"Gradient norm (H/bohr)      gamma\"\n",
    "    print(text)\n",
    "    energies = [old_energy]\n",
    "    iterations = [0]\n",
    "    while (grad_norm >= threshold) and (iteration <= max_iter):\n",
    "        \n",
    "        ...\n",
    "        ...\n",
    "        ...\n",
    "        \n",
    "        gamma = grad_norm**2 / old_grad_norm**2\n",
    "        \n",
    "        text = \"   %3d.  %15.7f      \" % (iteration, energy)\n",
    "        text += \"%15.7f          %15.7f\" % (max_disp, grad_norm)\n",
    "        text += \"         %15.7f\" % (gamma)\n",
    "\n",
    "        h = gradient + gamma * old_h\n",
    "        \n",
    "        # save \n",
    "        old_energy = energy\n",
    "        old_gradient = gradient\n",
    "        old_coords = coords\n",
    "        old_h = h\n",
    "        iteration += 1\n",
    "        iterations.append(iteration)\n",
    "        \n",
    "    if iteration <= max_iter:\n",
    "        text = \"\\n   *** Conjugate Gradient converged in \"\n",
    "        text += \"%d iteration(s). *** \" % iteration\n",
    "        print(text)\n",
    "        return new_molecule, iterations, energies\n",
    "    else:\n",
    "        print(\"\\n   !!! Conjugate Gradient did not converge  !!! \")\n",
    "        return None, None, None\n",
    "\n",
    "    # restore ostream state to its original value\n",
    "    scf_driver.ostream.state = ostream_state\n",
    "    gradient_driver.ostream.state = ostream_state\n",
    "```"
   ]
  },
  {
   "cell_type": "code",
   "execution_count": 14,
   "id": "8d1571a9-3605-4fc9-a9ea-62cc931d8c65",
   "metadata": {
    "tags": [
     "hide-output",
     "hide-input"
    ]
   },
   "outputs": [],
   "source": [
    "def conjugate_gradient(molecule, basis, scf_driver, gradient_driver,\n",
    "                       step=0.1, threshold=1e-3, max_iter=10):\n",
    "    # set ostream state to False, to avoid printout from every new scf calculation\n",
    "    ostream_state = scf_driver.ostream.state\n",
    "    scf_driver.ostream.state = False\n",
    "    gradient_driver.ostream.state = False\n",
    "    \n",
    "    iteration = 0\n",
    "    grad_norm = 100\n",
    "    \n",
    "    # atom labels (symbols)\n",
    "    labels = molecule.get_labels()\n",
    "    \n",
    "    # initial atomc coordinates\n",
    "    old_coords = molecule.get_coordinates()\n",
    "    \n",
    "    scf_results = scf_driver.compute(molecule, basis, None)\n",
    "    old_energy = scf_driver.get_scf_energy()\n",
    "    \n",
    "    gradient_driver.compute(molecule, basis)\n",
    "    old_gradient = gradient_driver.gradient\n",
    "    old_h = old_gradient\n",
    "    \n",
    "    print(\"Starting gradient descent:\\n\")\n",
    "    text = \"Iteration     Energy (H)      Max. displacement (bohr)\"\n",
    "    text += \"     Gradient norm (H/bohr)      gamma\"\n",
    "    print(text)\n",
    "    energies = [old_energy]\n",
    "    iterations = [0]\n",
    "    while (grad_norm >= threshold) and (iteration <= max_iter):        \n",
    "        coords = conjugate_gradient_iteration(old_coords, old_h, step)\n",
    "        \n",
    "        # calculate the energy and gradient corresponding to the new coordinates\n",
    "        new_molecule = vlx.molecule.Molecule(labels, coords, units='au')\n",
    "\n",
    "        scf_results = scf_driver.compute(new_molecule, basis, None)\n",
    "        energy = scf_driver.get_scf_energy()\n",
    "\n",
    "        gradient_driver.compute(new_molecule, basis)\n",
    "        gradient = gradient_driver.gradient\n",
    "        grad_norm = np.linalg.norm(gradient)\n",
    "        old_grad_norm = np.linalg.norm(old_gradient)\n",
    "        \n",
    "        displacement = old_coords - coords\n",
    "        max_disp = np.amax(abs(displacement))\n",
    "        \n",
    "        energies.append(energy)\n",
    "        \n",
    "        gamma = grad_norm**2 / old_grad_norm**2\n",
    "        \n",
    "        text = \"   %3d.  %15.7f      \" % (iteration, energy)\n",
    "        text += \"%15.7f          %15.7f\" % (max_disp, grad_norm)\n",
    "        text += \"         %15.7f\" % (gamma)\n",
    "        print(text)\n",
    "\n",
    "        h = gradient + gamma * old_h\n",
    "        \n",
    "        # save \n",
    "        old_energy = energy\n",
    "        old_gradient = gradient\n",
    "        old_coords = coords\n",
    "        old_h = h\n",
    "        iteration += 1\n",
    "        iterations.append(iteration)\n",
    "        \n",
    "    if iteration <= max_iter:\n",
    "        text = \"\\n   *** Conjugate Gradient converged in \"\n",
    "        text += \"%d iteration(s). *** \" % iteration\n",
    "        print(text)\n",
    "        return new_molecule, iterations, energies\n",
    "    else:\n",
    "        print(\"\\n   !!! Conjugate Gradient did not converge  !!! \")\n",
    "        return None, None, None\n",
    "    scf_driver.ostream.state = ostream_state\n",
    "    gradient_driver.ostream.state = ostream_state"
   ]
  },
  {
   "cell_type": "code",
   "execution_count": 15,
   "id": "cc1b808a-c7d7-4c29-a1db-8506e0b8c60b",
   "metadata": {
    "tags": [
     "hide-output"
    ]
   },
   "outputs": [
    {
     "name": "stdout",
     "output_type": "stream",
     "text": [
      "Starting gradient descent:\n",
      "\n",
      "Iteration     Energy (H)      Max. displacement (bohr)     Gradient norm (H/bohr)      gamma\n",
      "     0.      -74.9605109            0.0071311                0.0994035               0.7806759\n",
      "     1.      -74.9621708            0.0119338                0.0783209               0.6208010\n",
      "     2.      -74.9634822            0.0125176                0.0576486               0.5417781\n",
      "     3.      -74.9642742            0.0106076                0.0418381               0.5267046\n",
      "     4.      -74.9647155            0.0083648                0.0311623               0.5547716\n",
      "     5.      -74.9649702            0.0066283                0.0244842               0.6173223\n",
      "     6.      -74.9651335            0.0054866                0.0206065               0.7083367\n",
      "     7.      -74.9652543            0.0048212                0.0185662               0.8117767\n",
      "     8.      -74.9653573            0.0044747                0.0176220               0.9008706\n",
      "     9.      -74.9654549            0.0044303                0.0171710               0.9494769\n",
      "    10.      -74.9655522            0.0051889                0.0166759               0.9431610\n",
      "    11.      -74.9656477            0.0057511                0.0156704               0.8830442\n",
      "    12.      -74.9657341            0.0057875                0.0138841               0.7850060\n",
      "    13.      -74.9658021            0.0050952                0.0114119               0.6755822\n",
      "    14.      -74.9658474            0.0038490                0.0087073               0.5821731\n",
      "\n",
      "   *** Conjugate Gradient converged in 15 iteration(s). *** \n"
     ]
    }
   ],
   "source": [
    "cg_opt_mol, cg_iterations, cg_energies = conjugate_gradient(molecule, basis,\n",
    "                                                            scf_drv, grad_driver,\n",
    "                                                            threshold=1e-2,\n",
    "                                                            max_iter=50)"
   ]
  },
  {
   "cell_type": "code",
   "execution_count": 16,
   "id": "16b05bf6-f9f0-48be-9ff5-7353dddd9834",
   "metadata": {
    "tags": [
     "hide-input"
    ]
   },
   "outputs": [
    {
     "data": {
      "image/png": "[encoded data removed]",
      "text/plain": [
       "<Figure size 600x400 with 1 Axes>"
      ]
     },
     "metadata": {},
     "output_type": "display_data"
    }
   ],
   "source": [
    "plt.figure(figsize=(6,4))\n",
    "\n",
    "plt.plot(gd_iterations, gd_energies,'o-', label='Gradient descent')\n",
    "plt.plot(cg_iterations, cg_energies,'o-', label='Conjugate gradient')\n",
    "\n",
    "# darw a line which shows the energy obtained using gradient descent \n",
    "plt.plot([-2,43], [gd_energies[-1], gd_energies[-1]], '--', color='gray')\n",
    "plt.axis(xmin=-2, xmax=43)\n",
    "\n",
    "plt.xlabel('Iteration')\n",
    "plt.ylabel('Energy (H)')\n",
    "plt.title(\"Conjugate gradient vs. gradient descent\")\n",
    "plt.legend()\n",
    "plt.tight_layout(); plt.show()"
   ]
  },
  {
   "cell_type": "markdown",
   "id": "036c09ad-2bc1-4694-8e58-82a0fa4f78a9",
   "metadata": {},
   "source": [
    "## Newton--Raphson and quasi-Newton\n",
    "The next step in the hierarchy of minimization methods is to use both the first and second order energy derivatives (i.e. gradient $\\mathbf{g}$ and Hessian $\\mathbf{H}$) in determining the next step in conformation space. This is based on a quadratic approximation for the local shape of the PES\n",
    "\\begin{equation}\n",
    "    E(\\mathbf{x}+\\Delta\\mathbf{x}) \\approx E(\\mathbf{x}) + \\mathbf{g}(\\mathbf{x})\\Delta\\mathbf{x} + \\frac{1}{2}\\Delta\\mathbf{x}^\\mathrm{T}\\mathbf{H}\\Delta\\mathbf{x} \\label{eq:quadratic_approx_PES} \\nonumber\n",
    "\\end{equation}\n",
    "\n",
    "Here, $\\Delta \\mathbf{x}$ is the Newton step used to update the coordinates\n",
    "\n",
    "\\begin{align}\n",
    "    \\Delta \\mathbf{x} &= -\\mathbf{H}^{-1}\\mathbf{g}(\\mathbf{x})\\label{eq:Newton_step} \\nonumber \\\\\n",
    "    \\mathbf{x}_\\mathrm{i+1} &= \\mathbf{x}_\\mathrm{i}+\\Delta \\mathbf{x} \\nonumber\n",
    "\\end{align}\n",
    "\n",
    "When redundant internal coordinates are used, it is important to ensure that the displacements are only performed in the non-redundant region of the internal coordinate space. This is achieved by applying a projector $\\mathbf{P}=\\mathbf{G}^{-}\\mathbf{G}$ to the gradient and Hessian before constructing the Newton step {cite}`orcamanual`:\n",
    " \n",
    " \\begin{align}\n",
    " \\tilde{\\mathbf{g}}_q &= \\mathbf{P}\\mathbf{g}(\\mathbf{q}) \\, , \\nonumber \\\\\n",
    " \\tilde{\\mathbf{H}}_q &= \\mathbf{P}\\mathbf{H}_q\\mathbf{P}+\\alpha(1-\\mathbf{P}) \\nonumber \\,,\n",
    " \\end{align}\n",
    "\n",
    "where $\\alpha$ is an arbitrary large value (e.g. 1000).\n",
    "%\\textcolor{red}{I haven't perfectly understood what $\\alpha$ does yet. The exact quote from the ORCA manual is \"The second term for H sets the matrix elements of the redundant part of the internal coordinate space to very large values ($\\alpha$ = 1000)\"}\n",
    "\n",
    "As evident from the equations above, the second order derivatives of the energy with respect to nuclear displacements are required to generate the Newton step. The direct computation of these derivatives (which compose the Hessian matrix) is quite expensive, but good _approximations_ for the Hessian can be constructed using the gradient history. For example, the Broyden-Fletcher-Goldfarb-Shanno (BFGS, used by [geomeTRIC](https://github.com/leeping/geomeTRIC)) approach uses the relation:\n",
    "%\n",
    "\\begin{align}\n",
    "\\mathbf{H}_{i+1} &= \\mathbf{H}_i + \\frac{\\mathbf{h}^{}_i\\mathbf{h}_i^\\mathrm{T}}{\\mathbf{h}_i^\\mathrm{T}\\mathbf{s}^{}_i} - \\frac{\\mathbf{H}_i\\mathbf{s}_i\\left(\\mathbf{H}_i\\mathbf{s}_i\\right)_{}^\\mathrm{T}}{\\mathbf{s}_i^\\mathrm{T}\\mathbf{H}_i^{}\\mathbf{s}_i^{}} \\, ,\\nonumber\n",
    "\\end{align}\n",
    "with,\n",
    "\\begin{align}\n",
    "\\mathbf{h}_i &= \\mathbf{g}(\\mathbf{x}_{i+1}) - \\mathbf{g}(\\mathbf{x}_i) \\, \\nonumber \\\\\n",
    "\\mathbf{s}_i &= \\mathbf{x}_{i+1} - \\mathbf{x}_{i} \\nonumber \\,,\n",
    "\\end{align}\n",
    "to update the Hessian at step $i+1$ using the Hessian at step $i$ and information about the gradient at the current and previous step.\n",
    "\n",
    "Quasi-Newton methods, i.e., methods that use approximate Hessians, achieve a very quick convergence at the same computational cost as the gradient-descent method.\n",
    "\n",
    "```{figure} ../../img/pes/geom_opt_flowchart.png\n",
    ":scale: 100%\n",
    "```"
   ]
  },
  {
   "cell_type": "markdown",
   "id": "119776c1-55c6-433f-9c54-a7e0cadfecd7",
   "metadata": {},
   "source": [
    "### Comparison to gradient descent and conjugate gradient\n",
    "To compare the gradient descent and conjugate gradient algorithms with the quasi-Newton method, we will use the quasi-Newton implementation from [geomeTRIC](https://github.com/leeping/geomeTRIC)."
   ]
  },
  {
   "cell_type": "code",
   "execution_count": 17,
   "id": "5ae677fd-1ce2-4256-b5d0-8b85c9e94e45",
   "metadata": {
    "tags": []
   },
   "outputs": [],
   "source": [
    "# Let's run the SCF and gradient again, to make sure we start from the same point:\n",
    "scf_drv.ostream.state = False\n",
    "grad_driver.ostream.state = False\n",
    "\n",
    "scf_drv.compute(molecule, basis)\n",
    "grad_driver.compute(molecule, basis)\n",
    "\n",
    "scf_drv.ostream.state = True\n",
    "grad_driver.ostream.state = True"
   ]
  },
  {
   "cell_type": "code",
   "execution_count": 18,
   "id": "bf74471c-ce4e-4e58-ba13-28ec411a62d7",
   "metadata": {
    "tags": [
     "hide-output"
    ]
   },
   "outputs": [
    {
     "name": "stdout",
     "output_type": "stream",
     "text": [
      "                                                                                                                          \n",
      "                                                Optimization Driver Setup                                                 \n",
      "                                               ===========================                                                \n",
      "                                                                                                                          \n",
      "                                     Coordinate System       :    TRIC                                                    \n",
      "                                     Constraints             :    No                                                      \n",
      "                                     Max. Number of Steps    :    300                                                     \n",
      "                                     Transition State        :    No                                                      \n",
      "                                     Hessian                 :    never                                                   \n",
      "                                                                                                                          \n",
      "* Info * Computing energy and gradient...                                                                                 \n",
      "* Info *   Energy   : -74.9593193103 a.u.                                                                                 \n",
      "* Info *   Gradient : 6.495395e-02 a.u. (RMS)                                                                             \n",
      "* Info *              8.771955e-02 a.u. (Max)                                                                             \n",
      "* Info *   Time     : 1.38 sec                                                                                            \n",
      "                                                                                                                          \n",
      "* Info * Computing energy and gradient...                                                                                 \n",
      "* Info *   Energy   : -74.9648452542 a.u.                                                                                 \n",
      "* Info *   Gradient : 1.544611e-02 a.u. (RMS)                                                                             \n",
      "* Info *              1.844116e-02 a.u. (Max)                                                                             \n",
      "* Info *   Time     : 1.38 sec                                                                                            \n",
      "                                                                                                                          \n",
      "* Info * Computing energy and gradient...                                                                                 \n",
      "* Info *   Energy   : -74.9657830293 a.u.                                                                                 \n",
      "* Info *   Gradient : 6.194312e-03 a.u. (RMS)                                                                             \n",
      "* Info *              7.272241e-03 a.u. (Max)                                                                             \n",
      "* Info *   Time     : 1.38 sec                                                                                            \n",
      "                                                                                                                          \n",
      "* Info * Computing energy and gradient...                                                                                 \n",
      "* Info *   Energy   : -74.9659001353 a.u.                                                                                 \n",
      "* Info *   Gradient : 9.009561e-04 a.u. (RMS)                                                                             \n",
      "* Info *              1.171116e-03 a.u. (Max)                                                                             \n",
      "* Info *   Time     : 1.42 sec                                                                                            \n",
      "                                                                                                                          \n",
      "* Info * Computing energy and gradient...                                                                                 \n",
      "* Info *   Energy   : -74.9659012109 a.u.                                                                                 \n",
      "* Info *   Gradient : 6.320209e-05 a.u. (RMS)                                                                             \n",
      "* Info *              8.691340e-05 a.u. (Max)                                                                             \n",
      "* Info *   Time     : 1.55 sec                                                                                            \n",
      "                                                                                                                          \n",
      "* Info * Computing energy and gradient...                                                                                 \n",
      "* Info *   Energy   : -74.9659012173 a.u.                                                                                 \n",
      "* Info *   Gradient : 3.104812e-07 a.u. (RMS)                                                                             \n",
      "* Info *              4.011237e-07 a.u. (Max)                                                                             \n",
      "* Info *   Time     : 1.48 sec                                                                                            \n",
      "                                                                                                                          \n",
      "* Info * Saving file: veloxchem_opt_2023-03-15T18.26.31_optim.xyz                                                         \n",
      "* Info * Saving file: veloxchem_opt_2023-03-15T18.26.31.log                                                               \n",
      "                                                                                                                          \n",
      "* Info * Geometry optimization completed.                                                                                 \n",
      "                                                                                                                          \n",
      "                                              Molecular Geometry (Angstroms)                                              \n",
      "                                             ================================                                             \n",
      "                                                                                                                          \n",
      "                          Atom         Coordinate X          Coordinate Y          Coordinate Z                           \n",
      "                                                                                                                          \n",
      "                           O          -0.047424120272        0.000000000263       -0.033716004130                         \n",
      "                           H           0.034041959251        0.000000001698        0.952334284559                         \n",
      "                           H           0.909380964293       -0.000000001160       -0.285619983487                         \n",
      "                                                                                                                          \n",
      "                                                                                                                          \n",
      "                                             Summary of Geometry Optimization                                             \n",
      "                                            ==================================                                            \n",
      "                                                                                                                          \n",
      "                  Opt.Step       Energy (a.u.)       Energy Change (a.u.)       Displacement (RMS, Max)                   \n",
      "                  -------------------------------------------------------------------------------------                   \n",
      "                      0         -74.959319310327        0.000000000000         0.000e+00      0.000e+00                   \n",
      "                      1         -74.964845254235       -0.005525943909         6.683e-02      7.980e-02                   \n",
      "                      2         -74.965783029342       -0.000937775106         3.382e-02      3.774e-02                   \n",
      "                      3         -74.965900135283       -0.000117105941         8.081e-03      9.810e-03                   \n",
      "                      4         -74.965901210888       -0.000001075605         4.828e-04      6.814e-04                   \n",
      "                      5         -74.965901217298       -0.000000006410         4.323e-05      5.698e-05                   \n",
      "                                                                                                                          \n",
      "                                                                                                                          \n",
      "                                              Statistical Deviation between                                               \n",
      "                                         Optimized Geometry and Initial Geometry                                          \n",
      "                                        =========================================                                         \n",
      "                                                                                                                          \n",
      "                               Internal Coord.        RMS deviation         Max. deviation                                \n",
      "                               -----------------------------------------------------------                                \n",
      "                                  Bonds               0.039 Angstrom        0.039 Angstrom                                \n",
      "                                  Angles              9.457 degree          9.457 degree                                  \n",
      "                                                                                                                          \n",
      "                                     *** Time spent in Optimization Driver: 8.68 sec                                      \n",
      "                                                                                                                          \n"
     ]
    }
   ],
   "source": [
    "# Optimization settings and driver:\n",
    "optimization_settings = {'coordsys' : 'tric'}\n",
    "# 'tric': TRIC, default\n",
    "# 'cart': Cartesian\n",
    "# 'prim': Primitive Internal Coordinates\n",
    "# 'dlc': Delocalized Internal Coordinates\n",
    "# 'hdlc': Hybrid Delocalized Internal Coordinates\n",
    "\n",
    "opt_drv = vlx.OptimizationDriver(grad_driver)\n",
    "opt_drv.update_settings(opt_dict=optimization_settings)\n",
    "\n",
    "opt_mol = opt_drv.compute(molecule, basis)"
   ]
  },
  {
   "cell_type": "code",
   "execution_count": 19,
   "id": "aadb9593-1b9a-4e7a-9979-bbb6a2af6844",
   "metadata": {
    "tags": [
     "hide-output",
     "hide-input"
    ]
   },
   "outputs": [],
   "source": [
    "tric_energies = [-74.959319310327, -74.964845254243, -74.965783029341, -74.965900135283]\n",
    "tric_iterations = [0, 1, 2, 3]"
   ]
  },
  {
   "cell_type": "code",
   "execution_count": 21,
   "id": "75ac252c-7162-4988-bb98-b8b75c0aa423",
   "metadata": {
    "tags": [
     "hide-input"
    ]
   },
   "outputs": [
    {
     "data": {
      "image/png": "[encoded data removed]",
      "text/plain": [
       "<Figure size 600x400 with 1 Axes>"
      ]
     },
     "metadata": {},
     "output_type": "display_data"
    }
   ],
   "source": [
    "plt.figure(figsize=(6,4))\n",
    "\n",
    "plt.plot(gd_iterations, gd_energies,'o-', label='Gradient descent')\n",
    "plt.plot(cg_iterations, cg_energies,'o-', label='Conjugate gradient')\n",
    "plt.plot(tric_iterations, tric_energies,'o-', label='TRIC quasi-Newton')\n",
    "\n",
    "# darw a line which shows the energy obtained using gradient descent \n",
    "plt.plot([-2,43], [gd_energies[-1], gd_energies[-1]], '--', color='gray')\n",
    "plt.axis(xmin=-2, xmax=43)\n",
    "\n",
    "plt.xlabel('Iteration')\n",
    "plt.ylabel('Energy (H)')\n",
    "plt.title(\"Gradient descent vs. conjugate gradient vs. quasi-Newton\")\n",
    "plt.legend()\n",
    "plt.tight_layout(); plt.show()"
   ]
  },
  {
   "cell_type": "markdown",
   "id": "8e3ef77c-a6d3-4865-979c-7356773641d7",
   "metadata": {},
   "source": [
    "```{note}\n",
    "[GeomeTRIC](https://github.com/leeping/geomeTRIC) offers different options for the type of coordinates used in the optimization: Cartesian, delocalized internal coordinates (DLC), hybrid delocalized internal coordinates (HDLC), as well as translation-rotation internal coordinates (TRIC). How does the choice of coordinates influence the optimization process?\n",
    "```"
   ]
  },
  {
   "cell_type": "code",
   "execution_count": null,
   "id": "1573ae32-2ea7-49e2-b2ea-ce670022fa22",
   "metadata": {},
   "outputs": [],
   "source": []
  }
 ],
 "metadata": {
  "kernelspec": {
   "display_name": "Python 3 (ipykernel)",
   "language": "python",
   "name": "python3"
  },
  "language_info": {
   "codemirror_mode": {
    "name": "ipython",
    "version": 3
   },
   "file_extension": ".py",
   "mimetype": "text/x-python",
   "name": "python",
   "nbconvert_exporter": "python",
   "pygments_lexer": "ipython3",
   "version": "3.10.9"
  }
 },
 "nbformat": 4,
 "nbformat_minor": 5
}
