{
 "cells": [
  {
   "cell_type": "markdown",
   "id": "c33b1dbe-e3e6-4d2b-a969-b57c21f18e95",
   "metadata": {
    "editable": true,
    "slideshow": {
     "slide_type": ""
    },
    "tags": []
   },
   "source": [
    "# Molecular symmetry\n",
    "\n",
    "Molecular symmetry operations are given by rotations, reflections, and inversions of the molecule which leaves the molecule unchanged. For further details about symmetry see [this section](https://kthpanor.github.io/echem/docs/elec_struct/group_theory.html)."
   ]
  },
  {
   "cell_type": "code",
   "execution_count": null,
   "id": "9037456b-a84f-480c-bedf-6446c5e54758",
   "metadata": {},
   "outputs": [],
   "source": []
  }
 ],
 "metadata": {
  "kernelspec": {
   "display_name": "Python 3 (ipykernel)",
   "language": "python",
   "name": "python3"
  },
  "language_info": {
   "codemirror_mode": {
    "name": "ipython",
    "version": 3
   },
   "file_extension": ".py",
   "mimetype": "text/x-python",
   "name": "python",
   "nbconvert_exporter": "python",
   "pygments_lexer": "ipython3",
   "version": "3.11.7"
  }
 },
 "nbformat": 4,
 "nbformat_minor": 5
}
