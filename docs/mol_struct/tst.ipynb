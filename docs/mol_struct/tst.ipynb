{
 "cells": [
  {
   "cell_type": "markdown",
   "id": "3c40fd7f-ab0b-4660-83cb-b6e97e508009",
   "metadata": {},
   "source": [
    "(sec:tst)=\n",
    "# Transition-state theory\n",
    "\n",
    "The second class of special points on the PES that we discuss here are transition states. These are important in explaining the mechanisms of chemical and photo-chemical reactions. Transitions states are first-order saddle points on the potential energy surface and are characterized by a vanishing gradient combined with a Hessian that has one and only one negative eigenvalue. Transition state optimizations use, therefore, quadratic approaches, such as the Newton-Raphson and quasi-Newton methods. The idea behind a transition state optimization is to take a Newton-Raphson step in the opposite direction to the gradient for each positive Hessian eigenvalue and a Newton-Raphson step along the gradient for the negative eigenvalue of the Hessian {cite}`Baker1986`. This means that in one coordinate the energy is maximized, while in all the other coordinates it is minimized. It also means that the initial geometry must be similar to the transition state and contain a negative value of the Hessian. Common practice is therefore to perform constrained optimization, e.g by performing a relaxed coordinate scan of a coordinate involved in the reaction. The highest energy structure can then be assumed to be a reasonable initial guess geometry for a transition state search."
   ]
  }
 ],
 "metadata": {
  "kernelspec": {
   "display_name": "Python 3 (ipykernel)",
   "language": "python",
   "name": "python3"
  },
  "language_info": {
   "codemirror_mode": {
    "name": "ipython",
    "version": 3
   },
   "file_extension": ".py",
   "mimetype": "text/x-python",
   "name": "python",
   "nbconvert_exporter": "python",
   "pygments_lexer": "ipython3",
   "version": "3.9.12"
  }
 },
 "nbformat": 4,
 "nbformat_minor": 5
}
