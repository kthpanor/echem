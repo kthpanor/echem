{
 "cells": [
  {
   "cell_type": "markdown",
   "id": "6040956e",
   "metadata": {},
   "source": [
    "# Running a simulation\n",
    "\n",
    "This section is to be written, but in the meantime we refer to several good tutorials ([MD Tutorials](http://www.mdtutorials.com/), [Gromacs tutorials](https://tutorials.gromacs.org/), [OpenMM tutorials](https://openmm.org/tutorials)) discussing the simulation of molecular dynamics, different software packages for analysis ([MDAnalysis](https://www.mdanalysis.org/), [MDTraj](https://www.mdtraj.org/1.9.8.dev0/index.html#)), and the [wealth of software packages](https://en.wikipedia.org/wiki/Comparison_of_software_for_molecular_mechanics_modeling) developed for the purpose. We will here primarily make use of the functionalities available in [OpenMM](https://openmm.org/), as well as some recent work on [Gromacs](https://www.gromacs.org/), and we note that force-field free dynamics can be run with [xTB](https://xtb-docs.readthedocs.io/en/latest/md.html).\n"
   ]
  },
  {
   "cell_type": "markdown",
   "id": "8060fd5e-0c06-4ae1-b9b2-141dfd828a16",
   "metadata": {
    "tags": [
     "remove-cell"
    ]
   },
   "source": [
    "\n",
    "\n",
    "Workflow with example in openMM.\n",
    "\n",
    "## AIMD example with XTB\n",
    "\n",
    "See https://xtb-docs.readthedocs.io/en/latest/md.html for more details.\n",
    "\n",
    "- Want to run from notebook\n",
    "    - Run without creating all files\n",
    "\n",
    "- Visualize trajectory\n",
    "\n",
    "```python\n",
    "import matplotlib.pyplot as plt\n",
    "import numpy as np\n",
    "\n",
    "\n",
    "def write_xyz(mol_str, fname):\n",
    "    input_str = \"$coord\\n\"\n",
    "    for i in np.arange(len(mol_str.split(\"\\n\"))):\n",
    "        if mol_str.split(\"\\n\")[i]:\n",
    "            data = mol_str.split(\"\\n\")[i].split(\" \")\n",
    "            tmp_str = \"\"\n",
    "            for i in np.arange(len(data)):\n",
    "                if data[i]:\n",
    "                    if data[i].isalpha():\n",
    "                        save_el = data[i].lower()\n",
    "                    else:\n",
    "                        tmp_str += data[i] + \"   \"\n",
    "            tmp_str += save_el\n",
    "            input_str += tmp_str + \"\\n\"\n",
    "    input_str += \"$end\"\n",
    "    f = open(fname, \"w\")\n",
    "    f.write(input_str)\n",
    "    f.close()\n",
    "    return False\n",
    "```\n",
    "\n",
    "```python\n",
    "md_str = \"\"\"$md\n",
    "   temp=300\n",
    "   time= 25.0\n",
    "   dump=100.0\n",
    "   step=  2.5\n",
    "$end\n",
    "\"\"\"\n",
    "\n",
    "mol_str = \"\"\"\n",
    "O       0.0000000000     0.0000000000     0.1178336003\n",
    "H      -0.7595754146    -0.0000000000    -0.4713344012\n",
    "H       0.7595754146     0.0000000000    -0.4713344012\n",
    "\"\"\"\n",
    "\n",
    "\n",
    "mol_name = \"molecule\"\n",
    "md_name = \"md.inp\"\n",
    "save_xyz(mol_str, mol_name)\n",
    "f = open(\"md.inp\", \"w\")\n",
    "f.write(md_str)\n",
    "f.close()\n",
    "```\n",
    "\n",
    "```python\n",
    "# !xtb $mol_name --input $md_name --omd\n",
    "```\n",
    "\n",
    "```python\n",
    "traj = open(\"xtb.trj\", \"r\").read()\n",
    "energies = []\n",
    "xyzs = []\n",
    "\n",
    "snapshots = traj.split(\"energy:\")[1:]\n",
    "n_atoms = traj.split(\"\\n\")[0]\n",
    "for i in np.arange(len(snapshots)):\n",
    "    energies.append(np.float((snapshots[i].split(\" \")[1])))\n",
    "    tmp_snapshot = snapshots[i].split(\")\\n\")[1]\n",
    "    xyzs.append(tmp_snapshot.split(\"\\n{}\\n\".format(n_atoms))[0])\n",
    "\n",
    "plt.figure()\n",
    "plt.plot(energies)\n",
    "plt.show()\n",
    "```\n"
   ]
  },
  {
   "cell_type": "code",
   "execution_count": null,
   "id": "b79fa6cc-e017-4c18-ba2e-1b83b0cf1fe3",
   "metadata": {},
   "outputs": [],
   "source": []
  }
 ],
 "metadata": {
  "kernelspec": {
   "display_name": "Python 3 (ipykernel)",
   "language": "python",
   "name": "python3"
  },
  "language_info": {
   "codemirror_mode": {
    "name": "ipython",
    "version": 3
   },
   "file_extension": ".py",
   "mimetype": "text/x-python",
   "name": "python",
   "nbconvert_exporter": "python",
   "pygments_lexer": "ipython3",
   "version": "3.9.12"
  }
 },
 "nbformat": 4,
 "nbformat_minor": 5
}
