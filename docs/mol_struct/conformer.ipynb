{
 "cells": [
  {
   "cell_type": "markdown",
   "id": "2f19c1c5-546c-43a9-adec-2cde9bf66c74",
   "metadata": {
    "editable": true,
    "slideshow": {
     "slide_type": ""
    },
    "tags": []
   },
   "source": [
    "# Conformer search"
   ]
  },
  {
   "cell_type": "code",
   "execution_count": 1,
   "id": "cda628e6-f623-447c-b837-7721d713bb60",
   "metadata": {
    "editable": true,
    "slideshow": {
     "slide_type": ""
    },
    "tags": [
     "remove-output"
    ]
   },
   "outputs": [
    {
     "name": "stdout",
     "output_type": "stream",
     "text": [
      "* Warning * Environment variable OMP_NUM_THREADS not set.\n",
      "* Warning * Setting OMP_NUM_THREADS to 6.\n"
     ]
    }
   ],
   "source": [
    "import veloxchem as vlx"
   ]
  },
  {
   "cell_type": "markdown",
   "id": "38a537af-c01e-4d2d-99fd-966266c7bc77",
   "metadata": {
    "editable": true,
    "slideshow": {
     "slide_type": ""
    },
    "tags": []
   },
   "source": [
    "We define a structure in terms of a SMILES string."
   ]
  },
  {
   "cell_type": "code",
   "execution_count": 2,
   "id": "5b8d9b6d-7168-4aa9-b93a-c13a9c60d4f4",
   "metadata": {
    "editable": true,
    "slideshow": {
     "slide_type": ""
    },
    "tags": []
   },
   "outputs": [
    {
     "data": {
      "application/3dmoljs_load.v0": "<div id=\"3dmolviewer_17091534264144819\"  style=\"position: relative; width: 400px; height: 300px;\">\n        <p id=\"3dmolwarning_17091534264144819\" style=\"background-color:#ffcccc;color:black\">You appear to be running in JupyterLab (or JavaScript failed to load for some other reason).  You need to install the 3dmol extension: <br>\n        <tt>jupyter labextension install jupyterlab_3dmol</tt></p>\n        </div>\n<script>\n\nvar loadScriptAsync = function(uri){\n  return new Promise((resolve, reject) => {\n    //this is to ignore the existence of requirejs amd\n    var savedexports, savedmodule;\n    if (typeof exports !== 'undefined') savedexports = exports;\n    else exports = {}\n    if (typeof module !== 'undefined') savedmodule = module;\n    else module = {}\n\n    var tag = document.createElement('script');\n    tag.src = uri;\n    tag.async = true;\n    tag.onload = () => {\n        exports = savedexports;\n        module = savedmodule;\n        resolve();\n    };\n  var firstScriptTag = document.getElementsByTagName('script')[0];\n  firstScriptTag.parentNode.insertBefore(tag, firstScriptTag);\n});\n};\n\nif(typeof $3Dmolpromise === 'undefined') {\n$3Dmolpromise = null;\n  $3Dmolpromise = loadScriptAsync('https://cdnjs.cloudflare.com/ajax/libs/3Dmol/2.0.4/3Dmol-min.js');\n}\n\nvar viewer_17091534264144819 = null;\nvar warn = document.getElementById(\"3dmolwarning_17091534264144819\");\nif(warn) {\n    warn.parentNode.removeChild(warn);\n}\n$3Dmolpromise.then(function() {\nviewer_17091534264144819 = $3Dmol.createViewer(document.getElementById(\"3dmolviewer_17091534264144819\"),{backgroundColor:\"white\"});\nviewer_17091534264144819.zoomTo();\n\tviewer_17091534264144819.addModel(\"9\\n\\nO              1.107370000000         0.055760000000        -0.001050000000\\nC              2.475720000000         0.050200000000         0.019330000000\\nC              3.157070000000        -0.251800000000         1.125160000000\\nC              4.629860000000        -0.247940000000         1.111020000000\\nO              5.281460000000        -0.521040000000         2.111040000000\\nH              0.806990000000         0.299950000000        -0.895190000000\\nH              2.922690000000         0.310070000000        -0.932270000000\\nH              2.670660000000        -0.506610000000         2.058220000000\\nH              5.110080000000         0.013550000000         0.153530000000\\n\");\n\tviewer_17091534264144819.setViewStyle({\"style\": \"outline\", \"width\": 0.05});\n\tviewer_17091534264144819.setStyle({\"stick\": {}, \"sphere\": {\"scale\": 0.25}});\n\tviewer_17091534264144819.addLabel(\"1\",{\"position\": {\"x\": 1.1073699999999997, \"y\": 0.05576, \"z\": -0.00105}, \"alignment\": \"center\", \"fontColor\": 0, \"backgroundColor\": 16777215, \"backgroundOpacity\": 0.0});\n\tviewer_17091534264144819.addLabel(\"2\",{\"position\": {\"x\": 2.4757199999999995, \"y\": 0.050199999999999995, \"z\": 0.01933}, \"alignment\": \"center\", \"fontColor\": 0, \"backgroundColor\": 16777215, \"backgroundOpacity\": 0.0});\n\tviewer_17091534264144819.addLabel(\"3\",{\"position\": {\"x\": 3.15707, \"y\": -0.2518, \"z\": 1.1251599999999997}, \"alignment\": \"center\", \"fontColor\": 0, \"backgroundColor\": 16777215, \"backgroundOpacity\": 0.0});\n\tviewer_17091534264144819.addLabel(\"4\",{\"position\": {\"x\": 4.629859999999999, \"y\": -0.24793999999999997, \"z\": 1.11102}, \"alignment\": \"center\", \"fontColor\": 0, \"backgroundColor\": 16777215, \"backgroundOpacity\": 0.0});\n\tviewer_17091534264144819.addLabel(\"5\",{\"position\": {\"x\": 5.28146, \"y\": -0.52104, \"z\": 2.11104}, \"alignment\": \"center\", \"fontColor\": 0, \"backgroundColor\": 16777215, \"backgroundOpacity\": 0.0});\n\tviewer_17091534264144819.addLabel(\"6\",{\"position\": {\"x\": 0.8069899999999999, \"y\": 0.29995, \"z\": -0.89519}, \"alignment\": \"center\", \"fontColor\": 0, \"backgroundColor\": 16777215, \"backgroundOpacity\": 0.0});\n\tviewer_17091534264144819.addLabel(\"7\",{\"position\": {\"x\": 2.92269, \"y\": 0.31007, \"z\": -0.93227}, \"alignment\": \"center\", \"fontColor\": 0, \"backgroundColor\": 16777215, \"backgroundOpacity\": 0.0});\n\tviewer_17091534264144819.addLabel(\"8\",{\"position\": {\"x\": 2.67066, \"y\": -0.50661, \"z\": 2.05822}, \"alignment\": \"center\", \"fontColor\": 0, \"backgroundColor\": 16777215, \"backgroundOpacity\": 0.0});\n\tviewer_17091534264144819.addLabel(\"9\",{\"position\": {\"x\": 5.11008, \"y\": 0.01355, \"z\": 0.15352999999999997}, \"alignment\": \"center\", \"fontColor\": 0, \"backgroundColor\": 16777215, \"backgroundOpacity\": 0.0});\n\tviewer_17091534264144819.zoomTo();\nviewer_17091534264144819.render();\n});\n</script>",
      "text/html": [
       "<div id=\"3dmolviewer_17091534264144819\"  style=\"position: relative; width: 400px; height: 300px;\">\n",
       "        <p id=\"3dmolwarning_17091534264144819\" style=\"background-color:#ffcccc;color:black\">You appear to be running in JupyterLab (or JavaScript failed to load for some other reason).  You need to install the 3dmol extension: <br>\n",
       "        <tt>jupyter labextension install jupyterlab_3dmol</tt></p>\n",
       "        </div>\n",
       "<script>\n",
       "\n",
       "var loadScriptAsync = function(uri){\n",
       "  return new Promise((resolve, reject) => {\n",
       "    //this is to ignore the existence of requirejs amd\n",
       "    var savedexports, savedmodule;\n",
       "    if (typeof exports !== 'undefined') savedexports = exports;\n",
       "    else exports = {}\n",
       "    if (typeof module !== 'undefined') savedmodule = module;\n",
       "    else module = {}\n",
       "\n",
       "    var tag = document.createElement('script');\n",
       "    tag.src = uri;\n",
       "    tag.async = true;\n",
       "    tag.onload = () => {\n",
       "        exports = savedexports;\n",
       "        module = savedmodule;\n",
       "        resolve();\n",
       "    };\n",
       "  var firstScriptTag = document.getElementsByTagName('script')[0];\n",
       "  firstScriptTag.parentNode.insertBefore(tag, firstScriptTag);\n",
       "});\n",
       "};\n",
       "\n",
       "if(typeof $3Dmolpromise === 'undefined') {\n",
       "$3Dmolpromise = null;\n",
       "  $3Dmolpromise = loadScriptAsync('https://cdnjs.cloudflare.com/ajax/libs/3Dmol/2.0.4/3Dmol-min.js');\n",
       "}\n",
       "\n",
       "var viewer_17091534264144819 = null;\n",
       "var warn = document.getElementById(\"3dmolwarning_17091534264144819\");\n",
       "if(warn) {\n",
       "    warn.parentNode.removeChild(warn);\n",
       "}\n",
       "$3Dmolpromise.then(function() {\n",
       "viewer_17091534264144819 = $3Dmol.createViewer(document.getElementById(\"3dmolviewer_17091534264144819\"),{backgroundColor:\"white\"});\n",
       "viewer_17091534264144819.zoomTo();\n",
       "\tviewer_17091534264144819.addModel(\"9\\n\\nO              1.107370000000         0.055760000000        -0.001050000000\\nC              2.475720000000         0.050200000000         0.019330000000\\nC              3.157070000000        -0.251800000000         1.125160000000\\nC              4.629860000000        -0.247940000000         1.111020000000\\nO              5.281460000000        -0.521040000000         2.111040000000\\nH              0.806990000000         0.299950000000        -0.895190000000\\nH              2.922690000000         0.310070000000        -0.932270000000\\nH              2.670660000000        -0.506610000000         2.058220000000\\nH              5.110080000000         0.013550000000         0.153530000000\\n\");\n",
       "\tviewer_17091534264144819.setViewStyle({\"style\": \"outline\", \"width\": 0.05});\n",
       "\tviewer_17091534264144819.setStyle({\"stick\": {}, \"sphere\": {\"scale\": 0.25}});\n",
       "\tviewer_17091534264144819.addLabel(\"1\",{\"position\": {\"x\": 1.1073699999999997, \"y\": 0.05576, \"z\": -0.00105}, \"alignment\": \"center\", \"fontColor\": 0, \"backgroundColor\": 16777215, \"backgroundOpacity\": 0.0});\n",
       "\tviewer_17091534264144819.addLabel(\"2\",{\"position\": {\"x\": 2.4757199999999995, \"y\": 0.050199999999999995, \"z\": 0.01933}, \"alignment\": \"center\", \"fontColor\": 0, \"backgroundColor\": 16777215, \"backgroundOpacity\": 0.0});\n",
       "\tviewer_17091534264144819.addLabel(\"3\",{\"position\": {\"x\": 3.15707, \"y\": -0.2518, \"z\": 1.1251599999999997}, \"alignment\": \"center\", \"fontColor\": 0, \"backgroundColor\": 16777215, \"backgroundOpacity\": 0.0});\n",
       "\tviewer_17091534264144819.addLabel(\"4\",{\"position\": {\"x\": 4.629859999999999, \"y\": -0.24793999999999997, \"z\": 1.11102}, \"alignment\": \"center\", \"fontColor\": 0, \"backgroundColor\": 16777215, \"backgroundOpacity\": 0.0});\n",
       "\tviewer_17091534264144819.addLabel(\"5\",{\"position\": {\"x\": 5.28146, \"y\": -0.52104, \"z\": 2.11104}, \"alignment\": \"center\", \"fontColor\": 0, \"backgroundColor\": 16777215, \"backgroundOpacity\": 0.0});\n",
       "\tviewer_17091534264144819.addLabel(\"6\",{\"position\": {\"x\": 0.8069899999999999, \"y\": 0.29995, \"z\": -0.89519}, \"alignment\": \"center\", \"fontColor\": 0, \"backgroundColor\": 16777215, \"backgroundOpacity\": 0.0});\n",
       "\tviewer_17091534264144819.addLabel(\"7\",{\"position\": {\"x\": 2.92269, \"y\": 0.31007, \"z\": -0.93227}, \"alignment\": \"center\", \"fontColor\": 0, \"backgroundColor\": 16777215, \"backgroundOpacity\": 0.0});\n",
       "\tviewer_17091534264144819.addLabel(\"8\",{\"position\": {\"x\": 2.67066, \"y\": -0.50661, \"z\": 2.05822}, \"alignment\": \"center\", \"fontColor\": 0, \"backgroundColor\": 16777215, \"backgroundOpacity\": 0.0});\n",
       "\tviewer_17091534264144819.addLabel(\"9\",{\"position\": {\"x\": 5.11008, \"y\": 0.01355, \"z\": 0.15352999999999997}, \"alignment\": \"center\", \"fontColor\": 0, \"backgroundColor\": 16777215, \"backgroundOpacity\": 0.0});\n",
       "\tviewer_17091534264144819.zoomTo();\n",
       "viewer_17091534264144819.render();\n",
       "});\n",
       "</script>"
      ]
     },
     "metadata": {},
     "output_type": "display_data"
    }
   ],
   "source": [
    "molecule = vlx.Molecule.read_smiles(\"OC=CC=O\")\n",
    "molecule.show(atom_indices=True)"
   ]
  },
  {
   "cell_type": "markdown",
   "id": "2533dc2c-ec12-40a2-8b15-1d5b52b9d770",
   "metadata": {
    "editable": true,
    "slideshow": {
     "slide_type": ""
    },
    "tags": []
   },
   "source": [
    "We also define the electronic structure theory method to be used as well as an VeloxChem optimization driver."
   ]
  },
  {
   "cell_type": "code",
   "execution_count": 3,
   "id": "2a978804-5b44-44a5-b59e-e977d52b3f89",
   "metadata": {
    "editable": true,
    "scrolled": true,
    "slideshow": {
     "slide_type": ""
    },
    "tags": []
   },
   "outputs": [],
   "source": [
    "scf_drv = vlx.XtbDriver()\n",
    "scf_drv.ostream.mute()\n",
    "\n",
    "opt_drv = vlx.OptimizationDriver(scf_drv)\n",
    "opt_drv.ostream.mute()"
   ]
  },
  {
   "cell_type": "markdown",
   "id": "be0b451e-445e-4e60-a8cf-24dc8b9e930c",
   "metadata": {
    "editable": true,
    "slideshow": {
     "slide_type": ""
    },
    "tags": []
   },
   "source": [
    "## Conformer optimization\n",
    "\n",
    "Optimize the structures of all conformers."
   ]
  },
  {
   "cell_type": "code",
   "execution_count": 5,
   "id": "d2bef618-df59-44c9-bc62-68bf462768ac",
   "metadata": {
    "editable": true,
    "slideshow": {
     "slide_type": ""
    },
    "tags": []
   },
   "outputs": [],
   "source": [
    "conformer_energies = []\n",
    "conformer_structures = []\n",
    "\n",
    "cis, trans = 0.0, 180.0\n",
    "\n",
    "hocc, occc, ccco = (6,1,2,3), (1,2,3,4), (2,3,4,5)\n",
    "\n",
    "for i in (cis, trans):\n",
    "    for j in (cis, trans):\n",
    "        for k in (cis, trans):\n",
    "        \n",
    "            molecule = vlx.Molecule.read_smiles(\"OC=CC=O\")\n",
    "\n",
    "            molecule.set_dihedral_in_degrees(hocc, i)\n",
    "            molecule.set_dihedral_in_degrees(occc, j)\n",
    "            molecule.set_dihedral_in_degrees(ccco, k)\n",
    "\n",
    "            opt_results = opt_drv.compute(molecule)\n",
    "            conformer_energies.append(opt_results[\"opt_energies\"][-1])\n",
    "            conformer_structures.append(opt_results[\"final_geometry\"])"
   ]
  },
  {
   "cell_type": "markdown",
   "id": "bacd53fa-8515-4fd8-ba6f-cf6f28adea08",
   "metadata": {
    "editable": true,
    "slideshow": {
     "slide_type": ""
    },
    "tags": []
   },
   "source": [
    "Find the conformer with the lowest energy."
   ]
  },
  {
   "cell_type": "code",
   "execution_count": 6,
   "id": "6846e065-323f-4edb-938c-a262908151ac",
   "metadata": {
    "editable": true,
    "slideshow": {
     "slide_type": ""
    },
    "tags": []
   },
   "outputs": [],
   "source": [
    "import numpy as np\n",
    "\n",
    "idx_lowest_conformer = np.argmin(np.array(conformer_energies))"
   ]
  },
  {
   "cell_type": "code",
   "execution_count": 7,
   "id": "0d16cb3c-9de5-46a8-b273-38ccc8acf5b7",
   "metadata": {
    "editable": true,
    "slideshow": {
     "slide_type": ""
    },
    "tags": []
   },
   "outputs": [
    {
     "data": {
      "application/3dmoljs_load.v0": "<div id=\"3dmolviewer_1709153461101831\"  style=\"position: relative; width: 400px; height: 300px;\">\n        <p id=\"3dmolwarning_1709153461101831\" style=\"background-color:#ffcccc;color:black\">You appear to be running in JupyterLab (or JavaScript failed to load for some other reason).  You need to install the 3dmol extension: <br>\n        <tt>jupyter labextension install jupyterlab_3dmol</tt></p>\n        </div>\n<script>\n\nvar loadScriptAsync = function(uri){\n  return new Promise((resolve, reject) => {\n    //this is to ignore the existence of requirejs amd\n    var savedexports, savedmodule;\n    if (typeof exports !== 'undefined') savedexports = exports;\n    else exports = {}\n    if (typeof module !== 'undefined') savedmodule = module;\n    else module = {}\n\n    var tag = document.createElement('script');\n    tag.src = uri;\n    tag.async = true;\n    tag.onload = () => {\n        exports = savedexports;\n        module = savedmodule;\n        resolve();\n    };\n  var firstScriptTag = document.getElementsByTagName('script')[0];\n  firstScriptTag.parentNode.insertBefore(tag, firstScriptTag);\n});\n};\n\nif(typeof $3Dmolpromise === 'undefined') {\n$3Dmolpromise = null;\n  $3Dmolpromise = loadScriptAsync('https://cdnjs.cloudflare.com/ajax/libs/3Dmol/2.0.4/3Dmol-min.js');\n}\n\nvar viewer_1709153461101831 = null;\nvar warn = document.getElementById(\"3dmolwarning_1709153461101831\");\nif(warn) {\n    warn.parentNode.removeChild(warn);\n}\n$3Dmolpromise.then(function() {\nviewer_1709153461101831 = $3Dmol.createViewer(document.getElementById(\"3dmolviewer_1709153461101831\"),{backgroundColor:\"white\"});\nviewer_1709153461101831.zoomTo();\n\tviewer_1709153461101831.addModel(\"9\\n\\nO              1.088488580630         0.059698150683        -0.013915966506\\nC              2.398833830740         0.063764200642         0.018715388308\\nC              3.136241724276         0.204559665305         1.149144409729\\nC              2.477120212232         0.362062428595         2.413722779553\\nO              1.260642383437         0.380231680702         2.559604982944\\nH              0.766482091105         0.176591985421         0.924625986016\\nH              2.860881180329        -0.057604398671        -0.955748111103\\nH              4.210478392888         0.199601671432         1.109330173139\\nH              3.137375849361         0.471124361133         3.289367928148\\n\");\n\tviewer_1709153461101831.setViewStyle({\"style\": \"outline\", \"width\": 0.05});\n\tviewer_1709153461101831.setStyle({\"stick\": {}, \"sphere\": {\"scale\": 0.25}});\n\tviewer_1709153461101831.zoomTo();\nviewer_1709153461101831.render();\n});\n</script>",
      "text/html": [
       "<div id=\"3dmolviewer_1709153461101831\"  style=\"position: relative; width: 400px; height: 300px;\">\n",
       "        <p id=\"3dmolwarning_1709153461101831\" style=\"background-color:#ffcccc;color:black\">You appear to be running in JupyterLab (or JavaScript failed to load for some other reason).  You need to install the 3dmol extension: <br>\n",
       "        <tt>jupyter labextension install jupyterlab_3dmol</tt></p>\n",
       "        </div>\n",
       "<script>\n",
       "\n",
       "var loadScriptAsync = function(uri){\n",
       "  return new Promise((resolve, reject) => {\n",
       "    //this is to ignore the existence of requirejs amd\n",
       "    var savedexports, savedmodule;\n",
       "    if (typeof exports !== 'undefined') savedexports = exports;\n",
       "    else exports = {}\n",
       "    if (typeof module !== 'undefined') savedmodule = module;\n",
       "    else module = {}\n",
       "\n",
       "    var tag = document.createElement('script');\n",
       "    tag.src = uri;\n",
       "    tag.async = true;\n",
       "    tag.onload = () => {\n",
       "        exports = savedexports;\n",
       "        module = savedmodule;\n",
       "        resolve();\n",
       "    };\n",
       "  var firstScriptTag = document.getElementsByTagName('script')[0];\n",
       "  firstScriptTag.parentNode.insertBefore(tag, firstScriptTag);\n",
       "});\n",
       "};\n",
       "\n",
       "if(typeof $3Dmolpromise === 'undefined') {\n",
       "$3Dmolpromise = null;\n",
       "  $3Dmolpromise = loadScriptAsync('https://cdnjs.cloudflare.com/ajax/libs/3Dmol/2.0.4/3Dmol-min.js');\n",
       "}\n",
       "\n",
       "var viewer_1709153461101831 = null;\n",
       "var warn = document.getElementById(\"3dmolwarning_1709153461101831\");\n",
       "if(warn) {\n",
       "    warn.parentNode.removeChild(warn);\n",
       "}\n",
       "$3Dmolpromise.then(function() {\n",
       "viewer_1709153461101831 = $3Dmol.createViewer(document.getElementById(\"3dmolviewer_1709153461101831\"),{backgroundColor:\"white\"});\n",
       "viewer_1709153461101831.zoomTo();\n",
       "\tviewer_1709153461101831.addModel(\"9\\n\\nO              1.088488580630         0.059698150683        -0.013915966506\\nC              2.398833830740         0.063764200642         0.018715388308\\nC              3.136241724276         0.204559665305         1.149144409729\\nC              2.477120212232         0.362062428595         2.413722779553\\nO              1.260642383437         0.380231680702         2.559604982944\\nH              0.766482091105         0.176591985421         0.924625986016\\nH              2.860881180329        -0.057604398671        -0.955748111103\\nH              4.210478392888         0.199601671432         1.109330173139\\nH              3.137375849361         0.471124361133         3.289367928148\\n\");\n",
       "\tviewer_1709153461101831.setViewStyle({\"style\": \"outline\", \"width\": 0.05});\n",
       "\tviewer_1709153461101831.setStyle({\"stick\": {}, \"sphere\": {\"scale\": 0.25}});\n",
       "\tviewer_1709153461101831.zoomTo();\n",
       "viewer_1709153461101831.render();\n",
       "});\n",
       "</script>"
      ]
     },
     "metadata": {},
     "output_type": "display_data"
    }
   ],
   "source": [
    "lowest_conformer = vlx.Molecule.read_xyz_string(conformer_structures[idx_lowest_conformer])\n",
    "lowest_conformer.show()"
   ]
  },
  {
   "cell_type": "markdown",
   "id": "99bf9b31-ab5e-4c8a-a839-2acd4bfb6058",
   "metadata": {
    "editable": true,
    "slideshow": {
     "slide_type": ""
    },
    "tags": []
   },
   "source": [
    "We find the most stable conformer to be the cis–cis–cis conformer."
   ]
  }
 ],
 "metadata": {
  "kernelspec": {
   "display_name": "Python 3 (ipykernel)",
   "language": "python",
   "name": "python3"
  },
  "language_info": {
   "codemirror_mode": {
    "name": "ipython",
    "version": 3
   },
   "file_extension": ".py",
   "mimetype": "text/x-python",
   "name": "python",
   "nbconvert_exporter": "python",
   "pygments_lexer": "ipython3",
   "version": "3.10.13"
  }
 },
 "nbformat": 4,
 "nbformat_minor": 5
}
