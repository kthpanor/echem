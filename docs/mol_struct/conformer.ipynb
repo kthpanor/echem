{
 "cells": [
  {
   "cell_type": "markdown",
   "id": "2f19c1c5-546c-43a9-adec-2cde9bf66c74",
   "metadata": {
    "editable": true,
    "slideshow": {
     "slide_type": ""
    },
    "tags": []
   },
   "source": [
    "# Conformer search"
   ]
  },
  {
   "cell_type": "code",
   "execution_count": 1,
   "id": "cda628e6-f623-447c-b837-7721d713bb60",
   "metadata": {
    "editable": true,
    "slideshow": {
     "slide_type": ""
    },
    "tags": [
     "remove-output"
    ]
   },
   "outputs": [
    {
     "name": "stdout",
     "output_type": "stream",
     "text": [
      "* Warning * Environment variable OMP_NUM_THREADS not set.\n",
      "* Warning * Setting OMP_NUM_THREADS to 4.\n"
     ]
    }
   ],
   "source": [
    "import veloxchem as vlx"
   ]
  },
  {
   "cell_type": "markdown",
   "id": "38a537af-c01e-4d2d-99fd-966266c7bc77",
   "metadata": {
    "editable": true,
    "slideshow": {
     "slide_type": ""
    },
    "tags": []
   },
   "source": [
    "We define a structure in terms of a SMILES string."
   ]
  },
  {
   "cell_type": "code",
   "execution_count": 2,
   "id": "5b8d9b6d-7168-4aa9-b93a-c13a9c60d4f4",
   "metadata": {
    "editable": true,
    "slideshow": {
     "slide_type": ""
    },
    "tags": []
   },
   "outputs": [
    {
     "data": {
      "application/3dmoljs_load.v0": "<div id=\"3dmolviewer_17092090871345038\"  style=\"position: relative; width: 400px; height: 300px;\">\n        <p id=\"3dmolwarning_17092090871345038\" style=\"background-color:#ffcccc;color:black\">You appear to be running in JupyterLab (or JavaScript failed to load for some other reason).  You need to install the 3dmol extension: <br>\n        <tt>jupyter labextension install jupyterlab_3dmol</tt></p>\n        </div>\n<script>\n\nvar loadScriptAsync = function(uri){\n  return new Promise((resolve, reject) => {\n    //this is to ignore the existence of requirejs amd\n    var savedexports, savedmodule;\n    if (typeof exports !== 'undefined') savedexports = exports;\n    else exports = {}\n    if (typeof module !== 'undefined') savedmodule = module;\n    else module = {}\n\n    var tag = document.createElement('script');\n    tag.src = uri;\n    tag.async = true;\n    tag.onload = () => {\n        exports = savedexports;\n        module = savedmodule;\n        resolve();\n    };\n  var firstScriptTag = document.getElementsByTagName('script')[0];\n  firstScriptTag.parentNode.insertBefore(tag, firstScriptTag);\n});\n};\n\nif(typeof $3Dmolpromise === 'undefined') {\n$3Dmolpromise = null;\n  $3Dmolpromise = loadScriptAsync('https://cdnjs.cloudflare.com/ajax/libs/3Dmol/2.0.4/3Dmol-min.js');\n}\n\nvar viewer_17092090871345038 = null;\nvar warn = document.getElementById(\"3dmolwarning_17092090871345038\");\nif(warn) {\n    warn.parentNode.removeChild(warn);\n}\n$3Dmolpromise.then(function() {\nviewer_17092090871345038 = $3Dmol.createViewer(document.getElementById(\"3dmolviewer_17092090871345038\"),{backgroundColor:\"white\"});\nviewer_17092090871345038.zoomTo();\n\tviewer_17092090871345038.addModel(\"9\\n\\nO              0.996130000000         0.072550000000         0.102380000000\\nC              2.364470000000         0.079840000000         0.122200000000\\nC              3.045830000000         0.475260000000         1.198170000000\\nC              4.518610000000         0.470200000000         1.184410000000\\nO              5.170220000000         0.827800000000         2.157430000000\\nH              0.695750000000        -0.247180000000        -0.767610000000\\nH              2.811450000000        -0.260440000000        -0.803690000000\\nH              2.559410000000         0.808910000000         2.106030000000\\nH              4.998840000000         0.127820000000         0.252780000000\\n\");\n\tviewer_17092090871345038.setViewStyle({\"style\": \"outline\", \"width\": 0.05});\n\tviewer_17092090871345038.setStyle({\"stick\": {}, \"sphere\": {\"scale\": 0.25}});\n\tviewer_17092090871345038.addLabel(\"1\",{\"position\": {\"x\": 0.99613, \"y\": 0.07255, \"z\": 0.10238}, \"alignment\": \"center\", \"fontColor\": 0, \"backgroundColor\": 16777215, \"backgroundOpacity\": 0.0});\n\tviewer_17092090871345038.addLabel(\"2\",{\"position\": {\"x\": 2.3644699999999994, \"y\": 0.07984, \"z\": 0.12219999999999999}, \"alignment\": \"center\", \"fontColor\": 0, \"backgroundColor\": 16777215, \"backgroundOpacity\": 0.0});\n\tviewer_17092090871345038.addLabel(\"3\",{\"position\": {\"x\": 3.0458299999999996, \"y\": 0.47526, \"z\": 1.19817}, \"alignment\": \"center\", \"fontColor\": 0, \"backgroundColor\": 16777215, \"backgroundOpacity\": 0.0});\n\tviewer_17092090871345038.addLabel(\"4\",{\"position\": {\"x\": 4.518609999999999, \"y\": 0.47019999999999995, \"z\": 1.1844099999999997}, \"alignment\": \"center\", \"fontColor\": 0, \"backgroundColor\": 16777215, \"backgroundOpacity\": 0.0});\n\tviewer_17092090871345038.addLabel(\"5\",{\"position\": {\"x\": 5.17022, \"y\": 0.8278, \"z\": 2.15743}, \"alignment\": \"center\", \"fontColor\": 0, \"backgroundColor\": 16777215, \"backgroundOpacity\": 0.0});\n\tviewer_17092090871345038.addLabel(\"6\",{\"position\": {\"x\": 0.69575, \"y\": -0.24717999999999998, \"z\": -0.76761}, \"alignment\": \"center\", \"fontColor\": 0, \"backgroundColor\": 16777215, \"backgroundOpacity\": 0.0});\n\tviewer_17092090871345038.addLabel(\"7\",{\"position\": {\"x\": 2.8114499999999993, \"y\": -0.26044, \"z\": -0.80369}, \"alignment\": \"center\", \"fontColor\": 0, \"backgroundColor\": 16777215, \"backgroundOpacity\": 0.0});\n\tviewer_17092090871345038.addLabel(\"8\",{\"position\": {\"x\": 2.55941, \"y\": 0.80891, \"z\": 2.10603}, \"alignment\": \"center\", \"fontColor\": 0, \"backgroundColor\": 16777215, \"backgroundOpacity\": 0.0});\n\tviewer_17092090871345038.addLabel(\"9\",{\"position\": {\"x\": 4.99884, \"y\": 0.12782, \"z\": 0.25278}, \"alignment\": \"center\", \"fontColor\": 0, \"backgroundColor\": 16777215, \"backgroundOpacity\": 0.0});\n\tviewer_17092090871345038.zoomTo();\nviewer_17092090871345038.render();\n});\n</script>",
      "text/html": [
       "<div id=\"3dmolviewer_17092090871345038\"  style=\"position: relative; width: 400px; height: 300px;\">\n",
       "        <p id=\"3dmolwarning_17092090871345038\" style=\"background-color:#ffcccc;color:black\">You appear to be running in JupyterLab (or JavaScript failed to load for some other reason).  You need to install the 3dmol extension: <br>\n",
       "        <tt>jupyter labextension install jupyterlab_3dmol</tt></p>\n",
       "        </div>\n",
       "<script>\n",
       "\n",
       "var loadScriptAsync = function(uri){\n",
       "  return new Promise((resolve, reject) => {\n",
       "    //this is to ignore the existence of requirejs amd\n",
       "    var savedexports, savedmodule;\n",
       "    if (typeof exports !== 'undefined') savedexports = exports;\n",
       "    else exports = {}\n",
       "    if (typeof module !== 'undefined') savedmodule = module;\n",
       "    else module = {}\n",
       "\n",
       "    var tag = document.createElement('script');\n",
       "    tag.src = uri;\n",
       "    tag.async = true;\n",
       "    tag.onload = () => {\n",
       "        exports = savedexports;\n",
       "        module = savedmodule;\n",
       "        resolve();\n",
       "    };\n",
       "  var firstScriptTag = document.getElementsByTagName('script')[0];\n",
       "  firstScriptTag.parentNode.insertBefore(tag, firstScriptTag);\n",
       "});\n",
       "};\n",
       "\n",
       "if(typeof $3Dmolpromise === 'undefined') {\n",
       "$3Dmolpromise = null;\n",
       "  $3Dmolpromise = loadScriptAsync('https://cdnjs.cloudflare.com/ajax/libs/3Dmol/2.0.4/3Dmol-min.js');\n",
       "}\n",
       "\n",
       "var viewer_17092090871345038 = null;\n",
       "var warn = document.getElementById(\"3dmolwarning_17092090871345038\");\n",
       "if(warn) {\n",
       "    warn.parentNode.removeChild(warn);\n",
       "}\n",
       "$3Dmolpromise.then(function() {\n",
       "viewer_17092090871345038 = $3Dmol.createViewer(document.getElementById(\"3dmolviewer_17092090871345038\"),{backgroundColor:\"white\"});\n",
       "viewer_17092090871345038.zoomTo();\n",
       "\tviewer_17092090871345038.addModel(\"9\\n\\nO              0.996130000000         0.072550000000         0.102380000000\\nC              2.364470000000         0.079840000000         0.122200000000\\nC              3.045830000000         0.475260000000         1.198170000000\\nC              4.518610000000         0.470200000000         1.184410000000\\nO              5.170220000000         0.827800000000         2.157430000000\\nH              0.695750000000        -0.247180000000        -0.767610000000\\nH              2.811450000000        -0.260440000000        -0.803690000000\\nH              2.559410000000         0.808910000000         2.106030000000\\nH              4.998840000000         0.127820000000         0.252780000000\\n\");\n",
       "\tviewer_17092090871345038.setViewStyle({\"style\": \"outline\", \"width\": 0.05});\n",
       "\tviewer_17092090871345038.setStyle({\"stick\": {}, \"sphere\": {\"scale\": 0.25}});\n",
       "\tviewer_17092090871345038.addLabel(\"1\",{\"position\": {\"x\": 0.99613, \"y\": 0.07255, \"z\": 0.10238}, \"alignment\": \"center\", \"fontColor\": 0, \"backgroundColor\": 16777215, \"backgroundOpacity\": 0.0});\n",
       "\tviewer_17092090871345038.addLabel(\"2\",{\"position\": {\"x\": 2.3644699999999994, \"y\": 0.07984, \"z\": 0.12219999999999999}, \"alignment\": \"center\", \"fontColor\": 0, \"backgroundColor\": 16777215, \"backgroundOpacity\": 0.0});\n",
       "\tviewer_17092090871345038.addLabel(\"3\",{\"position\": {\"x\": 3.0458299999999996, \"y\": 0.47526, \"z\": 1.19817}, \"alignment\": \"center\", \"fontColor\": 0, \"backgroundColor\": 16777215, \"backgroundOpacity\": 0.0});\n",
       "\tviewer_17092090871345038.addLabel(\"4\",{\"position\": {\"x\": 4.518609999999999, \"y\": 0.47019999999999995, \"z\": 1.1844099999999997}, \"alignment\": \"center\", \"fontColor\": 0, \"backgroundColor\": 16777215, \"backgroundOpacity\": 0.0});\n",
       "\tviewer_17092090871345038.addLabel(\"5\",{\"position\": {\"x\": 5.17022, \"y\": 0.8278, \"z\": 2.15743}, \"alignment\": \"center\", \"fontColor\": 0, \"backgroundColor\": 16777215, \"backgroundOpacity\": 0.0});\n",
       "\tviewer_17092090871345038.addLabel(\"6\",{\"position\": {\"x\": 0.69575, \"y\": -0.24717999999999998, \"z\": -0.76761}, \"alignment\": \"center\", \"fontColor\": 0, \"backgroundColor\": 16777215, \"backgroundOpacity\": 0.0});\n",
       "\tviewer_17092090871345038.addLabel(\"7\",{\"position\": {\"x\": 2.8114499999999993, \"y\": -0.26044, \"z\": -0.80369}, \"alignment\": \"center\", \"fontColor\": 0, \"backgroundColor\": 16777215, \"backgroundOpacity\": 0.0});\n",
       "\tviewer_17092090871345038.addLabel(\"8\",{\"position\": {\"x\": 2.55941, \"y\": 0.80891, \"z\": 2.10603}, \"alignment\": \"center\", \"fontColor\": 0, \"backgroundColor\": 16777215, \"backgroundOpacity\": 0.0});\n",
       "\tviewer_17092090871345038.addLabel(\"9\",{\"position\": {\"x\": 4.99884, \"y\": 0.12782, \"z\": 0.25278}, \"alignment\": \"center\", \"fontColor\": 0, \"backgroundColor\": 16777215, \"backgroundOpacity\": 0.0});\n",
       "\tviewer_17092090871345038.zoomTo();\n",
       "viewer_17092090871345038.render();\n",
       "});\n",
       "</script>"
      ]
     },
     "metadata": {},
     "output_type": "display_data"
    }
   ],
   "source": [
    "molecule = vlx.Molecule.read_smiles(\"OC=CC=O\")\n",
    "molecule.show(atom_indices=True)"
   ]
  },
  {
   "cell_type": "markdown",
   "id": "2533dc2c-ec12-40a2-8b15-1d5b52b9d770",
   "metadata": {
    "editable": true,
    "slideshow": {
     "slide_type": ""
    },
    "tags": []
   },
   "source": [
    "We also define the electronic structure theory method to be used as well as an VeloxChem optimization driver."
   ]
  },
  {
   "cell_type": "code",
   "execution_count": 3,
   "id": "2a978804-5b44-44a5-b59e-e977d52b3f89",
   "metadata": {
    "editable": true,
    "scrolled": true,
    "slideshow": {
     "slide_type": ""
    },
    "tags": []
   },
   "outputs": [],
   "source": [
    "scf_drv = vlx.XtbDriver()\n",
    "scf_drv.ostream.mute()\n",
    "\n",
    "opt_drv = vlx.OptimizationDriver(scf_drv)\n",
    "opt_drv.ostream.mute()"
   ]
  },
  {
   "cell_type": "markdown",
   "id": "be0b451e-445e-4e60-a8cf-24dc8b9e930c",
   "metadata": {
    "editable": true,
    "slideshow": {
     "slide_type": ""
    },
    "tags": []
   },
   "source": [
    "## Conformer optimization\n",
    "\n",
    "Optimize the structures of all conformers."
   ]
  },
  {
   "cell_type": "code",
   "execution_count": 4,
   "id": "d2bef618-df59-44c9-bc62-68bf462768ac",
   "metadata": {
    "editable": true,
    "slideshow": {
     "slide_type": ""
    },
    "tags": []
   },
   "outputs": [],
   "source": [
    "conformer_energies = []\n",
    "conformer_structures = []\n",
    "\n",
    "cis, trans = 0.0, 180.0\n",
    "\n",
    "hocc, occc, ccco = (6, 1, 2, 3), (1, 2, 3, 4), (2, 3, 4, 5)\n",
    "\n",
    "for i in (cis, trans):\n",
    "    for j in (cis, trans):\n",
    "        for k in (cis, trans):\n",
    "\n",
    "            molecule = vlx.Molecule.read_smiles(\"OC=CC=O\")\n",
    "\n",
    "            molecule.set_dihedral_in_degrees(hocc, i)\n",
    "            molecule.set_dihedral_in_degrees(occc, j)\n",
    "            molecule.set_dihedral_in_degrees(ccco, k)\n",
    "\n",
    "            opt_results = opt_drv.compute(molecule)\n",
    "            conformer_energies.append(opt_results[\"opt_energies\"][-1])\n",
    "            conformer_structures.append(opt_results[\"final_geometry\"])"
   ]
  },
  {
   "cell_type": "markdown",
   "id": "bacd53fa-8515-4fd8-ba6f-cf6f28adea08",
   "metadata": {
    "editable": true,
    "slideshow": {
     "slide_type": ""
    },
    "tags": []
   },
   "source": [
    "Find the conformer with the lowest energy."
   ]
  },
  {
   "cell_type": "code",
   "execution_count": 5,
   "id": "6846e065-323f-4edb-938c-a262908151ac",
   "metadata": {
    "editable": true,
    "slideshow": {
     "slide_type": ""
    },
    "tags": []
   },
   "outputs": [],
   "source": [
    "import numpy as np\n",
    "\n",
    "conformer_energies = np.array(conformer_energies)\n",
    "\n",
    "idx_lowest_conformer = np.argmin(conformer_energies)"
   ]
  },
  {
   "cell_type": "code",
   "execution_count": 6,
   "id": "0d16cb3c-9de5-46a8-b273-38ccc8acf5b7",
   "metadata": {
    "editable": true,
    "slideshow": {
     "slide_type": ""
    },
    "tags": []
   },
   "outputs": [
    {
     "data": {
      "application/3dmoljs_load.v0": "<div id=\"3dmolviewer_1709209203428854\"  style=\"position: relative; width: 400px; height: 300px;\">\n        <p id=\"3dmolwarning_1709209203428854\" style=\"background-color:#ffcccc;color:black\">You appear to be running in JupyterLab (or JavaScript failed to load for some other reason).  You need to install the 3dmol extension: <br>\n        <tt>jupyter labextension install jupyterlab_3dmol</tt></p>\n        </div>\n<script>\n\nvar loadScriptAsync = function(uri){\n  return new Promise((resolve, reject) => {\n    //this is to ignore the existence of requirejs amd\n    var savedexports, savedmodule;\n    if (typeof exports !== 'undefined') savedexports = exports;\n    else exports = {}\n    if (typeof module !== 'undefined') savedmodule = module;\n    else module = {}\n\n    var tag = document.createElement('script');\n    tag.src = uri;\n    tag.async = true;\n    tag.onload = () => {\n        exports = savedexports;\n        module = savedmodule;\n        resolve();\n    };\n  var firstScriptTag = document.getElementsByTagName('script')[0];\n  firstScriptTag.parentNode.insertBefore(tag, firstScriptTag);\n});\n};\n\nif(typeof $3Dmolpromise === 'undefined') {\n$3Dmolpromise = null;\n  $3Dmolpromise = loadScriptAsync('https://cdnjs.cloudflare.com/ajax/libs/3Dmol/2.0.4/3Dmol-min.js');\n}\n\nvar viewer_1709209203428854 = null;\nvar warn = document.getElementById(\"3dmolwarning_1709209203428854\");\nif(warn) {\n    warn.parentNode.removeChild(warn);\n}\n$3Dmolpromise.then(function() {\nviewer_1709209203428854 = $3Dmol.createViewer(document.getElementById(\"3dmolviewer_1709209203428854\"),{backgroundColor:\"white\"});\nviewer_1709209203428854.zoomTo();\n\tviewer_1709209203428854.addModel(\"9\\n\\nO              0.995978888119        -0.107256784816        -0.065096510897\\nC              2.306324620664        -0.092176286127        -0.035867947817\\nC              3.043726695960         0.430141079929         0.976498348506\\nC              2.384598793804         1.014436054856         2.108998675145\\nO              1.168120256801         1.081834285232         2.239641322750\\nH              0.673968535410         0.326398624254         0.775418811319\\nH              2.768376445652        -0.542426130422        -0.908553639980\\nH              4.117963505847         0.411749316218         0.940846172697\\nH              3.044849951826         1.419030545053         2.893191334451\\n\");\n\tviewer_1709209203428854.setViewStyle({\"style\": \"outline\", \"width\": 0.05});\n\tviewer_1709209203428854.setStyle({\"stick\": {}, \"sphere\": {\"scale\": 0.25}});\n\tviewer_1709209203428854.zoomTo();\nviewer_1709209203428854.render();\n});\n</script>",
      "text/html": [
       "<div id=\"3dmolviewer_1709209203428854\"  style=\"position: relative; width: 400px; height: 300px;\">\n",
       "        <p id=\"3dmolwarning_1709209203428854\" style=\"background-color:#ffcccc;color:black\">You appear to be running in JupyterLab (or JavaScript failed to load for some other reason).  You need to install the 3dmol extension: <br>\n",
       "        <tt>jupyter labextension install jupyterlab_3dmol</tt></p>\n",
       "        </div>\n",
       "<script>\n",
       "\n",
       "var loadScriptAsync = function(uri){\n",
       "  return new Promise((resolve, reject) => {\n",
       "    //this is to ignore the existence of requirejs amd\n",
       "    var savedexports, savedmodule;\n",
       "    if (typeof exports !== 'undefined') savedexports = exports;\n",
       "    else exports = {}\n",
       "    if (typeof module !== 'undefined') savedmodule = module;\n",
       "    else module = {}\n",
       "\n",
       "    var tag = document.createElement('script');\n",
       "    tag.src = uri;\n",
       "    tag.async = true;\n",
       "    tag.onload = () => {\n",
       "        exports = savedexports;\n",
       "        module = savedmodule;\n",
       "        resolve();\n",
       "    };\n",
       "  var firstScriptTag = document.getElementsByTagName('script')[0];\n",
       "  firstScriptTag.parentNode.insertBefore(tag, firstScriptTag);\n",
       "});\n",
       "};\n",
       "\n",
       "if(typeof $3Dmolpromise === 'undefined') {\n",
       "$3Dmolpromise = null;\n",
       "  $3Dmolpromise = loadScriptAsync('https://cdnjs.cloudflare.com/ajax/libs/3Dmol/2.0.4/3Dmol-min.js');\n",
       "}\n",
       "\n",
       "var viewer_1709209203428854 = null;\n",
       "var warn = document.getElementById(\"3dmolwarning_1709209203428854\");\n",
       "if(warn) {\n",
       "    warn.parentNode.removeChild(warn);\n",
       "}\n",
       "$3Dmolpromise.then(function() {\n",
       "viewer_1709209203428854 = $3Dmol.createViewer(document.getElementById(\"3dmolviewer_1709209203428854\"),{backgroundColor:\"white\"});\n",
       "viewer_1709209203428854.zoomTo();\n",
       "\tviewer_1709209203428854.addModel(\"9\\n\\nO              0.995978888119        -0.107256784816        -0.065096510897\\nC              2.306324620664        -0.092176286127        -0.035867947817\\nC              3.043726695960         0.430141079929         0.976498348506\\nC              2.384598793804         1.014436054856         2.108998675145\\nO              1.168120256801         1.081834285232         2.239641322750\\nH              0.673968535410         0.326398624254         0.775418811319\\nH              2.768376445652        -0.542426130422        -0.908553639980\\nH              4.117963505847         0.411749316218         0.940846172697\\nH              3.044849951826         1.419030545053         2.893191334451\\n\");\n",
       "\tviewer_1709209203428854.setViewStyle({\"style\": \"outline\", \"width\": 0.05});\n",
       "\tviewer_1709209203428854.setStyle({\"stick\": {}, \"sphere\": {\"scale\": 0.25}});\n",
       "\tviewer_1709209203428854.zoomTo();\n",
       "viewer_1709209203428854.render();\n",
       "});\n",
       "</script>"
      ]
     },
     "metadata": {},
     "output_type": "display_data"
    }
   ],
   "source": [
    "lowest_conformer = vlx.Molecule.read_xyz_string(\n",
    "    conformer_structures[idx_lowest_conformer]\n",
    ")\n",
    "lowest_conformer.show()"
   ]
  },
  {
   "cell_type": "markdown",
   "id": "99bf9b31-ab5e-4c8a-a839-2acd4bfb6058",
   "metadata": {
    "editable": true,
    "slideshow": {
     "slide_type": ""
    },
    "tags": []
   },
   "source": [
    "We find the most stable conformer to be the cis–cis–cis conformer."
   ]
  },
  {
   "cell_type": "code",
   "execution_count": 9,
   "id": "63c28b58-de99-4861-8276-674e329cac39",
   "metadata": {
    "editable": true,
    "slideshow": {
     "slide_type": ""
    },
    "tags": []
   },
   "outputs": [
    {
     "name": "stdout",
     "output_type": "stream",
     "text": [
      "Conformer  Energy (kcal/mol)\n",
      "---------------------------\n",
      " 1           0.00\n",
      " 2           7.43\n",
      " 3           5.81\n",
      " 4           5.78\n",
      " 5          12.97\n",
      " 6          10.24\n",
      " 7           8.44\n",
      " 8           9.34\n"
     ]
    }
   ],
   "source": [
    "print(\"Conformer  Energy (kcal/mol)\\n\" + 27 * \"-\")\n",
    "for i, conformer_energy in enumerate(\n",
    "    (conformer_energies - np.min(conformer_energies)) * vlx.hartree_in_kcalpermol()\n",
    "):\n",
    "    print(f\"{i+1:>2d} {conformer_energy:14.2f}\")"
   ]
  }
 ],
 "metadata": {
  "kernelspec": {
   "display_name": "Python 3 (ipykernel)",
   "language": "python",
   "name": "python3"
  },
  "language_info": {
   "codemirror_mode": {
    "name": "ipython",
    "version": 3
   },
   "file_extension": ".py",
   "mimetype": "text/x-python",
   "name": "python",
   "nbconvert_exporter": "python",
   "pygments_lexer": "ipython3",
   "version": "3.10.13"
  }
 },
 "nbformat": 4,
 "nbformat_minor": 5
}
