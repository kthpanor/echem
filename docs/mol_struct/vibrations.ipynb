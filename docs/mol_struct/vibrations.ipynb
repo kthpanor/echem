{
 "cells": [
  {
   "cell_type": "markdown",
   "metadata": {
    "editable": true,
    "slideshow": {
     "slide_type": ""
    },
    "tags": []
   },
   "source": [
    "%## Vibrational frequencies and normal modes\n",
    "(sec:vib-analysis)=\n",
    "# Vibrational analysis\n",
    "\n",
    "The following steps are carried out mostly by the geomeTRIC module {cite}`Wang2016`,\n",
    "hence they are described in less detail.\n",
    "For more details on the topic, the reader is referred to _Molecular Vibrations_\n",
    "by Wilson, Decius and Cross {cite}`Wilson1980`.\n",
    "\n",
    "\n",
    "## Cartesian and mass-weighted Hessian\n",
    "\n",
    "The starting point for the vibrational analysis of molecules\n",
    "is the Hessian matrix in Cartesian coordinates, $\\mathbf{H}^{\\text{Cart}}$,\n",
    "calculated either numerically or analytically as described in the [previous section](sec:mol-hessian).\n",
    "Generally, the elements of $\\mathbf{H}^{\\text{Cart}}$ are given by second derivatives of the energy $E$\n",
    "with respect to nuclear displacement\n",
    "\n",
    "(eq:Hessian_matrix_elements)=\n",
    "```{math}\n",
    "%:label: eq:Hessian_matrix_elements\n",
    "  H_{ij}^{\\text{Cart}} = \\bigg( \\frac{\\mathrm{d}^2 E}{\\mathrm{d} x_i \\mathrm{d} x_j} \\bigg)_0 \n",
    "```\n",
    "Hence, $\\mathbf{H}^{\\text{Cart}}$ is a $3N \\times 3N$ matrix (where $N$ is the number of atoms),\n",
    "and $x_1, x_2, \\ldots, x_{3N}$ denote displacements of the Cartesian coordiates. The '$0$' subscript indicates that the second deriatives are taken at the equilibrium geometry, where the first derivatives (or gradient) vanish.\n",
    "\n",
    "As a first step, the Hessian is converted to _mass-weighted_ Cartesian coordinates (MWC),\n",
    "$\\bar{x}_1 = \\sqrt{m_1} x_1$, $\\bar{x}_2 = \\sqrt{m_1} x_2 $, $\\ldots$, $\\bar{x}_{3N} = \\sqrt{m_N} x_{3N}$, where $m_i$ is the mass of atom $i$, such that $\\mathbf{H}^{\\text{MWC}}$ is given by\n",
    "(eq:Hessian_mwc)=\n",
    "```{math}\n",
    "%:label: eq:Hessian_mwc\n",
    "  H_{ij}^{\\text{MWC}} = \\frac{H_{ij}^{\\text{Cart}}}{\\sqrt{m_i m_j}} = \\bigg( \\frac{\\mathrm{d}^2 E}{\\mathrm{d} \\bar{x}_i \\mathrm{d} \\bar{x}_j} \\bigg)_0 \n",
    "```\n",
    "Diagonalizing this Hessian gives $3N$ eigenvalues which represent the fundamental frequencies of the molecule,\n",
    "but include translation and rotational modes.\n",
    "\n",
    "\n",
    "## Translating and rotating frame\n",
    "\n",
    "In order to remove translational and rotational degrees of freedom,\n",
    "one first determines the center of mass (COM) $\\mathbf{R}^{\\text{COM}}$ in the usual way\n",
    "```{math}\n",
    "%:label: eq:center_of_mass\n",
    "  \\mathbf{R}^{\\text{COM}} = \\frac{\\sum_{K} m_{K} \\mathbf{R}_K}{\\sum_{K} \\mathbf{R}_K} \n",
    "```\n",
    "where the sum runs over all atoms $K$, and the origin is then shifted to the COM, $\\mathbf{R}_{K}^{\\text{COM}} = \\mathbf{R}_K - \\mathbf{R}^{\\text{COM}}$. Subsequently, one determines the inertia tensor and diagonalizes it\n",
    "to obtain principal moments and axes of inertia. Next, one needs to find the transformation from mass-weighted Cartesian coordinates to a set of $3N$ coordinates, where the molecule's translation and rotation are separated out,\n",
    "leaving $3N - 6$ (or $3N-5$ for linear molecules) vibrational modes.\n",
    "\n",
    "This is achieved by applying the so-called Eckart conditions {cite}`Eckart1934`. While the three vectors of length $3N$ corresponding to translation are simply given by $\\sqrt{m_i}$ times the coordinate axis, the vectors corresponding to rotational motion of the atoms are obtained from the coordinates of the atoms with respect to the COM and the corresponding row of the matrix used to diagonalize the moment of inertia tensor. In the next step, these vectors are normalized and a Gram--Schmidt orthogonalization is carried out to create $N_\\text{vib} = 3N-6$ (or $3N-5$) remaining vectors, which are orthogonal to the five or six translational and rotational vectors. Thus, one obtains a transformation matrix $\\mathbf{B}$ which allows for the transformation of the mass-weighted Cartesian coordinates $\\mathbf{\\bar{x}}$ to internal coordinates $\\mathbf{\\bar{q}} = \\mathbf{B\\bar{x}}$, where translation and rotation have been projected out.\n",
    "%Thus, one obtains a basis in which translation and rotation\n",
    "%is projected out of the (mass-weighted) Cartesian coordinates.\n",
    "\n",
    "\n",
    "## Hessian in internal coordinates and harmonic frequencies\n",
    "\n",
    "Now the Hessian $\\mathbf{H}^\\text{MWC}$, which is still given in mass-weighted Cartesian coordinates,\n",
    "is transformed the the internal coordinate system,\n",
    "(eq:Hessian_to_internal)=\n",
    "```{math}\n",
    "%:label: eq:Hessian_to_internal\n",
    "  \\mathbf{H}^{\\text{Int}} = \\mathbf{B}^\\dagger \\mathbf{H}^\\text{MWC} \\mathbf{B} \\, ,\n",
    "```\n",
    "yielding a representation in $N_\\text{vib}$ internal coordinates from the full $3N$ Cartesian coordinates.\n",
    "The Hessian in internal coordinates $\\mathbf{H}^{\\text{Int}}$ is successively diagonalized,\n",
    "(eq:Hessian_internal_diagonalized)=\n",
    "```{math}\n",
    "%:label: eq:Hessian_internal_diagonalized\n",
    "  \\mathbf{L}^\\dagger \\mathbf{H}^{\\text{Int}} \\mathbf{L} = \\mathbf{\\Lambda} \\, ,\n",
    "```\n",
    "where $\\mathbf{\\Lambda}$ is the diagonal matrix of $N_{\\text{vib}}$ eigenvalues $\\lambda_i$\n",
    "which are related to the harmonic vibrational frequencies $\\nu_i$ and $\\mathbf{L}$ is the transformation matrix composed of the eigenvectors.\n",
    "\n",
    "Finally, the eigenvalues $\\lambda_i = 4 \\pi^2 \\nu_i^2$ can be converted from frequencies $\\nu_i$ to wavenumbers $\\tilde{\\nu}_i$ in reciprocal centimeters by using the relationship $\\nu_i = c \\tilde{\\nu}_i$, where $c$ is the speed of light.The wavenumbers are thus obtained from\n",
    "```{math}\n",
    "%:label: eq:vibrations_wavenumbers\n",
    "  \\tilde{\\nu}_i = \\sqrt{\\frac{\\lambda_i}{4\\pi^2 c^2}} \n",
    "```\n",
    "and successively appropriate conversion factors are applied to obtain the wavenumbers in inverse centimeters (cm$^{-\\text{1}}$).\n",
    "\n",
    "\n",
    "(sec:cartesian_displacements_red_mass)=\n",
    "## Cartesian displacements, reduced masses, and force constants\n",
    "\n",
    "The Cartesian normal modes $\\mathbf{l}^{\\text{Cart}}$ are obtained by combining [this](eq:Hessian_to_internal)\n",
    "and [this](eq:Hessian_internal_diagonalized) equation together with a diagonal matrix $\\mathbf{M}$\n",
    "defined by $M_{ii} = \\frac{1}{\\sqrt{m_i}}$ to undo the mass-weighting,\n",
    "$\\mathbf{l}^{\\text{Cart}} = \\mathbf{M D L}$, with the individual elements of this matrix being given by\n",
    "```{math}\n",
    "  l_{ij}^{\\text{Cart}} = \\sum_{k=1}^{3N} \\frac{B_{ik} L_{kj}}{\\sqrt{m_i}} \\, .\n",
    "```\n",
    "The (normalized) column vectors of $\\mathbf{l}^{\\text{Cart}}$ correspond to the normal-mode displacements in Cartesian coordinates, which are used together with property gradients for the calculation of spectral intensities as described [here](sec:property-gradients).\n",
    "\n",
    "From the Cartesian normal modes $\\mathbf{l}^{\\text{Cart}}$, the reduced mass $\\mu_i$ of vibration $i$\n",
    "can be calculated as\n",
    "```{math}\n",
    "%:label: eq:reduced_masses\n",
    "  \\mu_i = \\frac{1}{\\sum_{k=1}^{3N} \\big( l_{ki}^{\\text{Cart}} \\big)^2} \\, ,\n",
    "```\n",
    "Using the reduced masses, the corresponding force constants $k_i$ are calculated as\n",
    "```{math}\n",
    "%:label: eq:force_constants\n",
    "  k_i = 4 \\pi^2 \\tilde{\\nu}_i^2 \\mu_i \\, ,\n",
    "```\n",
    "since $\\tilde{\\nu}_i = \\frac{1}{2 \\pi} \\sqrt{\\frac{k_i}{\\mu_i}}$.\n",
    "%The force constants are then converted from atomic units to milli-dyne per ångström.\n",
    "\n",
    "The spectral intensities are calculated from the [dipole moment gradient](dipole_mom_gradient:label) (IR spectroscopy), or the [polarizability gradient](polarizability_gradient:label) (Raman spectroscopy)."
   ]
  },
  {
   "cell_type": "markdown",
   "metadata": {
    "editable": true,
    "slideshow": {
     "slide_type": ""
    },
    "tags": []
   },
   "source": [
    "## Practical example"
   ]
  },
  {
   "cell_type": "markdown",
   "metadata": {
    "editable": true,
    "slideshow": {
     "slide_type": ""
    },
    "tags": []
   },
   "source": [
    "We can perform a vibrational analysis using the `VibrationalAnalysis` class of VeloxChem. Let us create a molecule, optimize the geometry, and run the vibrational analysis on the optimized geometry."
   ]
  },
  {
   "cell_type": "code",
   "execution_count": 26,
   "metadata": {
    "editable": true,
    "slideshow": {
     "slide_type": ""
    },
    "tags": []
   },
   "outputs": [],
   "source": [
    "import veloxchem as vlx"
   ]
  },
  {
   "cell_type": "code",
   "execution_count": 2,
   "metadata": {
    "editable": true,
    "slideshow": {
     "slide_type": ""
    },
    "tags": [
     "hide-output"
    ]
   },
   "outputs": [],
   "source": [
    "molecule = vlx.Molecule.read_smiles(\"C=C\")\n",
    "basis = vlx.MolecularBasis.read(molecule, \"def2-svp\")\n",
    "\n",
    "scf_drv = vlx.ScfRestrictedDriver()\n",
    "scf_drv.xcfun = \"b3lyp\"\n",
    "scf_results = scf_drv.compute(molecule, basis)"
   ]
  },
  {
   "cell_type": "code",
   "execution_count": 6,
   "metadata": {
    "editable": true,
    "scrolled": true,
    "slideshow": {
     "slide_type": ""
    },
    "tags": [
     "hide-output"
    ]
   },
   "outputs": [],
   "source": [
    "opt_drv = vlx.OptimizationDriver(scf_drv)\n",
    "opt_results = opt_drv.compute(molecule, basis, scf_results)"
   ]
  },
  {
   "cell_type": "code",
   "execution_count": 20,
   "metadata": {
    "editable": true,
    "slideshow": {
     "slide_type": ""
    },
    "tags": []
   },
   "outputs": [],
   "source": [
    "opt_molecule = vlx.Molecule.read_xyz_string(opt_results['final_geometry'])\n",
    "opt_molecule.show()"
   ]
  },
  {
   "cell_type": "code",
   "execution_count": 22,
   "metadata": {
    "editable": true,
    "slideshow": {
     "slide_type": ""
    },
    "tags": [
     "hide-output"
    ]
   },
   "outputs": [],
   "source": [
    "vib_analysis = vlx.VibrationalAnalysis(scf_drv)\n",
    "vib_analysis_results = vib_analysis.compute(opt_molecule, basis)"
   ]
  },
  {
   "cell_type": "markdown",
   "metadata": {
    "editable": true,
    "slideshow": {
     "slide_type": ""
    },
    "tags": []
   },
   "source": [
    "Once the vibrational analysis has been performed, we can animate the vibrational normal modes, or plot the IR spectrum."
   ]
  },
  {
   "cell_type": "code",
   "execution_count": 24,
   "metadata": {
    "editable": true,
    "slideshow": {
     "slide_type": ""
    },
    "tags": []
   },
   "outputs": [
    {
     "data": {
      "application/3dmoljs_load.v0": "<div id=\"3dmolviewer_17411794824502304\"  style=\"position: relative; width: 400px; height: 300px;\">\n        <p id=\"3dmolwarning_17411794824502304\" style=\"background-color:#ffcccc;color:black\">3Dmol.js failed to load for some reason.  Please check your browser console for error messages.<br></p>\n        </div>\n<script>\n\nvar loadScriptAsync = function(uri){\n  return new Promise((resolve, reject) => {\n    //this is to ignore the existence of requirejs amd\n    var savedexports, savedmodule;\n    if (typeof exports !== 'undefined') savedexports = exports;\n    else exports = {}\n    if (typeof module !== 'undefined') savedmodule = module;\n    else module = {}\n\n    var tag = document.createElement('script');\n    tag.src = uri;\n    tag.async = true;\n    tag.onload = () => {\n        exports = savedexports;\n        module = savedmodule;\n        resolve();\n    };\n  var firstScriptTag = document.getElementsByTagName('script')[0];\n  firstScriptTag.parentNode.insertBefore(tag, firstScriptTag);\n});\n};\n\nif(typeof $3Dmolpromise === 'undefined') {\n$3Dmolpromise = null;\n  $3Dmolpromise = loadScriptAsync('https://cdnjs.cloudflare.com/ajax/libs/3Dmol/2.4.2/3Dmol-min.js');\n}\n\nvar viewer_17411794824502304 = null;\nvar warn = document.getElementById(\"3dmolwarning_17411794824502304\");\nif(warn) {\n    warn.parentNode.removeChild(warn);\n}\n$3Dmolpromise.then(function() {\nviewer_17411794824502304 = $3Dmol.createViewer(document.getElementById(\"3dmolviewer_17411794824502304\"),{backgroundColor:\"white\"});\nviewer_17411794824502304.zoomTo();\n\tviewer_17411794824502304.addModel(\"6\\n\\nC -0.705525047028 0.192726158541 1.590354431231 0.013449 -0.012198 -0.035188\\nC -1.135438509564 1.325078492149 1.033596241223 0.013449 -0.012198 -0.035188\\nH -0.835974846872 -0.009770979830 2.658249573996 -0.222027 0.446407 0.025929\\nH -0.203598081855 -0.583193854565 1.003434066636 0.061776 -0.301063 0.393357\\nH -1.004988709560 1.527575335661 -0.034298902878 -0.222028 0.446407 0.025929\\nH -1.637364843179 2.100998852486 1.620516595393 0.061776 -0.301063 0.393357\",\"xyz\",{\"vibrate\": {\"frames\": 15, \"amplitude\": 0.5}});\n\tviewer_17411794824502304.setViewStyle({\"style\": \"outline\", \"width\": 0.05});\n\tviewer_17411794824502304.setStyle({\"stick\": {}, \"sphere\": {\"scale\": 0.25}});\n\tviewer_17411794824502304.animate({\"loop\": \"backAndForth\"});\n\tviewer_17411794824502304.rotate(-90,\"x\");\n\tviewer_17411794824502304.zoomTo();\nviewer_17411794824502304.render();\n});\n</script>",
      "text/html": [
       "<div id=\"3dmolviewer_17411794824502304\"  style=\"position: relative; width: 400px; height: 300px;\">\n",
       "        <p id=\"3dmolwarning_17411794824502304\" style=\"background-color:#ffcccc;color:black\">3Dmol.js failed to load for some reason.  Please check your browser console for error messages.<br></p>\n",
       "        </div>\n",
       "<script>\n",
       "\n",
       "var loadScriptAsync = function(uri){\n",
       "  return new Promise((resolve, reject) => {\n",
       "    //this is to ignore the existence of requirejs amd\n",
       "    var savedexports, savedmodule;\n",
       "    if (typeof exports !== 'undefined') savedexports = exports;\n",
       "    else exports = {}\n",
       "    if (typeof module !== 'undefined') savedmodule = module;\n",
       "    else module = {}\n",
       "\n",
       "    var tag = document.createElement('script');\n",
       "    tag.src = uri;\n",
       "    tag.async = true;\n",
       "    tag.onload = () => {\n",
       "        exports = savedexports;\n",
       "        module = savedmodule;\n",
       "        resolve();\n",
       "    };\n",
       "  var firstScriptTag = document.getElementsByTagName('script')[0];\n",
       "  firstScriptTag.parentNode.insertBefore(tag, firstScriptTag);\n",
       "});\n",
       "};\n",
       "\n",
       "if(typeof $3Dmolpromise === 'undefined') {\n",
       "$3Dmolpromise = null;\n",
       "  $3Dmolpromise = loadScriptAsync('https://cdnjs.cloudflare.com/ajax/libs/3Dmol/2.4.2/3Dmol-min.js');\n",
       "}\n",
       "\n",
       "var viewer_17411794824502304 = null;\n",
       "var warn = document.getElementById(\"3dmolwarning_17411794824502304\");\n",
       "if(warn) {\n",
       "    warn.parentNode.removeChild(warn);\n",
       "}\n",
       "$3Dmolpromise.then(function() {\n",
       "viewer_17411794824502304 = $3Dmol.createViewer(document.getElementById(\"3dmolviewer_17411794824502304\"),{backgroundColor:\"white\"});\n",
       "viewer_17411794824502304.zoomTo();\n",
       "\tviewer_17411794824502304.addModel(\"6\\n\\nC -0.705525047028 0.192726158541 1.590354431231 0.013449 -0.012198 -0.035188\\nC -1.135438509564 1.325078492149 1.033596241223 0.013449 -0.012198 -0.035188\\nH -0.835974846872 -0.009770979830 2.658249573996 -0.222027 0.446407 0.025929\\nH -0.203598081855 -0.583193854565 1.003434066636 0.061776 -0.301063 0.393357\\nH -1.004988709560 1.527575335661 -0.034298902878 -0.222028 0.446407 0.025929\\nH -1.637364843179 2.100998852486 1.620516595393 0.061776 -0.301063 0.393357\",\"xyz\",{\"vibrate\": {\"frames\": 15, \"amplitude\": 0.5}});\n",
       "\tviewer_17411794824502304.setViewStyle({\"style\": \"outline\", \"width\": 0.05});\n",
       "\tviewer_17411794824502304.setStyle({\"stick\": {}, \"sphere\": {\"scale\": 0.25}});\n",
       "\tviewer_17411794824502304.animate({\"loop\": \"backAndForth\"});\n",
       "\tviewer_17411794824502304.rotate(-90,\"x\");\n",
       "\tviewer_17411794824502304.zoomTo();\n",
       "viewer_17411794824502304.render();\n",
       "});\n",
       "</script>"
      ]
     },
     "metadata": {},
     "output_type": "display_data"
    }
   ],
   "source": [
    "vib_analysis.animate(vib_analysis_results, mode=1)"
   ]
  },
  {
   "cell_type": "code",
   "execution_count": 25,
   "metadata": {
    "editable": true,
    "slideshow": {
     "slide_type": ""
    },
    "tags": []
   },
   "outputs": [
    {
     "data": {
      "image/png": "[encoded data removed]",
      "text/plain": [
       "<Figure size 800x500 with 2 Axes>"
      ]
     },
     "metadata": {},
     "output_type": "display_data"
    }
   ],
   "source": [
    "vib_analysis.plot(vib_results=vib_analysis_results)"
   ]
  },
  {
   "cell_type": "code",
   "execution_count": null,
   "metadata": {},
   "outputs": [],
   "source": []
  }
 ],
 "metadata": {
  "kernelspec": {
   "display_name": "Python 3 (ipykernel)",
   "language": "python",
   "name": "python3"
  },
  "language_info": {
   "codemirror_mode": {
    "name": "ipython",
    "version": 3
   },
   "file_extension": ".py",
   "mimetype": "text/x-python",
   "name": "python",
   "nbconvert_exporter": "python",
   "pygments_lexer": "ipython3",
   "version": "3.12.9"
  }
 },
 "nbformat": 4,
 "nbformat_minor": 4
}
