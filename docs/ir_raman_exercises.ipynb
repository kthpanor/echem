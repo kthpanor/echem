{
 "cells": [
  {
   "cell_type": "markdown",
   "id": "a2dcd883",
   "metadata": {},
   "source": [
    "# Exercises\n",
    "\n",
    "In this exercise we will look at how substitution affects the vibrational frequencies, IR, and Raman spectra."
   ]
  },
  {
   "cell_type": "markdown",
   "id": "723f7310-e6dd-48b2-b435-b3d47c5db5f8",
   "metadata": {},
   "source": [
    "```python\n",
    "# import section\n",
    "import veloxchem as vlx\n",
    "import py3Dmol as p3d\n",
    "from veloxchem.veloxchemlib import bohr_in_angstroms\n",
    "from matplotlib import pyplot as plt\n",
    "import numpy as np\n",
    "\n",
    "basis_set_label = \"6-31G\"\n",
    "```"
   ]
  },
  {
   "cell_type": "markdown",
   "id": "07c3d16e-a106-4af7-a617-b41dc76c7fd8",
   "metadata": {},
   "source": [
    "```python\n",
    "# define molecules and basis sets\n",
    "ethene_xyz = \"\"\"6\n",
    " ethene\n",
    " C          0.000000    -0.663984   0.000000\n",
    " C          0.000000     0.663984   0.000000\n",
    " H          0.919796    -1.223061   0.000000\n",
    " H         -0.919796    -1.223061   0.000000\n",
    " H          0.919796     1.223061   0.000000\n",
    " H         -0.919796     1.223061   0.000000\n",
    "\"\"\"\n",
    "ethene = vlx.Molecule.from_xyz_string(ethene_xyz)\n",
    "ethene_basis = vlx.MolecularBasis.read(ethene, basis_set_label)\n",
    "```"
   ]
  },
  {
   "cell_type": "markdown",
   "id": "d3ffc7fc-fc24-4320-a468-ae50fa0fc71f",
   "metadata": {},
   "source": [
    "```python\n",
    "fluoroethene_xyz = \"\"\"6\n",
    "fluoroethene\n",
    " C          0.000000    -0.663984   0.000000\n",
    " C          0.000000     0.663984   0.000000\n",
    " F         1.519796    -1.223061   0.000000\n",
    " H         -0.919796    -1.223061   0.000000\n",
    " H          0.919796     1.223061   0.000000\n",
    " H         -0.919796     1.223061   0.000000\n",
    " \"\"\"\n",
    "fluoroethene = vlx.Molecule.from_xyz_string(fluoroethene_xyz)\n",
    "fluoroethene_basis = vlx.MolecularBasis.read(fluoroethene, basis_set_label)\n",
    "```"
   ]
  },
  {
   "cell_type": "markdown",
   "id": "fe9e729e-94d6-4333-8a88-8d9da9707898",
   "metadata": {},
   "source": [
    "```python\n",
    "chloroethene_xyz = \"\"\"6\n",
    "chloroethene\n",
    " C          0.000000    -0.663984   0.000000\n",
    " C          0.000000     0.663984   0.000000\n",
    " Cl         1.519796    -1.223061   0.000000\n",
    " H         -0.919796    -1.223061   0.000000\n",
    " H          0.919796     1.223061   0.000000\n",
    " H         -0.919796     1.223061   0.000000\n",
    " \"\"\"\n",
    "chloroethene = vlx.Molecule.from_xyz_string(chloroethene_xyz)\n",
    "chloroethene_basis = vlx.MolecularBasis.read(chloroethene, basis_set_label)\n",
    "```"
   ]
  },
  {
   "cell_type": "markdown",
   "id": "7acc638e-6144-4288-9e90-40cf459fc6a6",
   "metadata": {},
   "source": [
    "```python\n",
    "# to view the molecules\n",
    "view = p3d.view(linked=True, viewergrid=(1,3),width=500,height=300)\n",
    "view.addModel(ethene_xyz, 'xyz', viewer=(0,0))\n",
    "view.addModel(fluoroethene_xyz, 'xyz', viewer=(0,1))\n",
    "view.addModel(chloroethene_xyz, 'xyz', viewer=(0,2))\n",
    "view.setStyle({'stick': {}})\n",
    "view.zoomTo()\n",
    "view.show()\n",
    "```"
   ]
  },
  {
   "cell_type": "markdown",
   "id": "6b62bf80",
   "metadata": {},
   "source": [
    "## SCF geometry optimization\n",
    "Before we can calculate the vibrational spectra, we first must optimize the geometries."
   ]
  },
  {
   "cell_type": "markdown",
   "id": "29a45ef0-c657-401f-af0a-d84211871bc7",
   "metadata": {},
   "source": [
    "```python\n",
    "# Settings for SCF and gradient drivers\n",
    "scf_settings = {'conv_thresh':1e-6}\n",
    "method_settings = {}\n",
    "grad_settings = {'numerical': 'no'}\n",
    "```"
   ]
  },
  {
   "cell_type": "markdown",
   "id": "7e1872ea-2369-44b5-be79-2a740195cd3d",
   "metadata": {},
   "source": [
    "```python\n",
    "# Run SCF for ethene\n",
    "ethene_scfdrv = vlx.ScfRestrictedDriver()\n",
    "ethene_scfdrv.update_settings(scf_settings, method_settings)\n",
    "ethene_scfdrv.ostream.state = False \n",
    "ethene_scfdrv.compute(ethene, ethene_basis)\n",
    "\n",
    "# Run SCF for fluoroethene\n",
    "fluoroethene_scfdrv = ...\n",
    "...\n",
    "\n",
    "# Run SCF for chloroethene\n",
    "chloroethene_scfdrv = ...\n",
    "...\n",
    "```"
   ]
  },
  {
   "cell_type": "markdown",
   "id": "8edf5055-053c-4d2e-b78d-b545da16e96b",
   "metadata": {},
   "source": [
    "```python\n",
    "# Set up the gradient and optimization dirvers:\n",
    "ethene_grad_drv = vlx.ScfGradientDriver(ethene_scfdrv)\n",
    "ethene_grad_drv.update_settings(grad_settings, method_settings)\n",
    "ethene_opt_drv = vlx.OptimizationDriver(ethene_grad_drv)\n",
    "\n",
    "fluoroethene_grad_drv = ...\n",
    "...\n",
    "\n",
    "chloroethene_grad_drv = ...\n",
    "...\n",
    "```"
   ]
  },
  {
   "cell_type": "markdown",
   "id": "6db489c4-cc79-4b16-ab9d-29c9ba042380",
   "metadata": {
    "tags": []
   },
   "source": [
    "```python\n",
    "# Either optimize the geometries\n",
    "opt_ethene = ethene_opt_drv.compute(ethene, ethene_basis)\n",
    "opt_fluoroethene = ...\n",
    "opt_chloroethene = ...\n",
    "```"
   ]
  },
  {
   "cell_type": "markdown",
   "id": "f713f9f8-8f74-4eb9-ad91-4f540520bad8",
   "metadata": {},
   "source": [
    "```python\n",
    "# Get optimized coordinates and write xyz\n",
    "def get_xyz(molecule):\n",
    "    natm = molecule.number_of_atoms()\n",
    "    elements = molecule.get_labels()\n",
    "    coords = molecule.get_coordinates() * bohr_in_angstroms()\n",
    "    txt = \"%d\\n\\n\" % natm\n",
    "    for i in range(natm):\n",
    "        txt += elements[i] + \" %15.7f %15.7f %15.7f\\n\" % (coords[i,0], coords[i,1], coords[i,2])\n",
    "    return txt\n",
    "```"
   ]
  },
  {
   "cell_type": "markdown",
   "id": "018414d1-c408-49eb-b057-fcf4348caf22",
   "metadata": {},
   "source": [
    "```python\n",
    "# Or read optimized geometries from file:\n",
    "opt_ethene_xyz = open(\"../xyz/ir_raman/opt_ethene.xyz\", \"r\").read() # read optimized geometry from file\n",
    "opt_fluoroethene_xyz = open(\"../xyz/ir_raman/opt_fluoroethene.xyz\", \"r\").read() # read optimized geometry from file\n",
    "opt_chloroethene_xyz = open(\"../xyz/ir_raman/opt_chloroethene.xyz\", \"r\").read() # read optimized geometry from file\n",
    "\n",
    "opt_ethene = vlx.Molecule.from_xyz_string(opt_ethene_xyz)\n",
    "ethene_basis = vlx.MolecularBasis.read(opt_ethene, basis_set_label)\n",
    "\n",
    "opt_fluoroethene = ...\n",
    "fluoroethene_basis = ...\n",
    "\n",
    "opt_chloroethene = ...\n",
    "chloroethene_basis = ...\n",
    "```"
   ]
  },
  {
   "cell_type": "markdown",
   "id": "df78ad0e-b078-4621-b5aa-366678cc2632",
   "metadata": {},
   "source": [
    "```python\n",
    "# Visualize the molecules\n",
    "view = p3d.view(linked=True, viewergrid=(1,3),width=500,height=300)\n",
    "view.addModel(opt_ethene_xyz, 'xyz', viewer=(0,0))\n",
    "view.addModel(opt_fluoroethene_xyz, 'xyz', viewer=(0,1))\n",
    "view.addModel(opt_chloroethene_xyz, 'xyz', viewer=(0,2))\n",
    "view.setStyle({'stick': {}})\n",
    "view.zoomTo()\n",
    "view.show()\n",
    "```"
   ]
  },
  {
   "cell_type": "markdown",
   "id": "bfa550d9-48fe-4ebe-82d9-85a0f1feaae1",
   "metadata": {},
   "source": [
    "```python\n",
    "# Compute SCF with the optimized geometries of all molecules\n",
    "ethene_scfdrv.compute(opt_ethene, ethene_basis)\n",
    "...\n",
    "```"
   ]
  },
  {
   "cell_type": "markdown",
   "id": "faf15a93-fb2a-4b55-a82c-04b4f22d22b9",
   "metadata": {},
   "source": [
    "## Hessians\n",
    "\n",
    "Now, let's calculate the IR and Raman spectra for these optimized geometries"
   ]
  },
  {
   "cell_type": "markdown",
   "id": "5106fb02-3ec5-48d5-a401-171cbe81878c",
   "metadata": {},
   "source": [
    "```python\n",
    "# Settings for Hessian calculation\n",
    "hessian_settings = {'numerical': 'yes', 'do_raman': 'yes', 'print_depolarization_ratio':'no',\n",
    "                    'numerical_grad': 'no', 'do_print_hessian': 'no', 'do_four_point': 'no'}\n",
    "```"
   ]
  },
  {
   "cell_type": "markdown",
   "id": "856be5c6-d77b-4889-ab05-6cb025dd8b11",
   "metadata": {},
   "source": [
    "```python\n",
    "# Create Hessian driver and update settings\n",
    "ethene_hessian_drv = vlx.scfhessiandriver.ScfHessianDriver(ethene_scfdrv)\n",
    "ethene_hessian_drv.update_settings(method_settings, hessian_settings)\n",
    "\n",
    "fluoroethene_hessian_drv = ...\n",
    "...\n",
    "\n",
    "chloroethene_hessian_drv = ...\n",
    "...\n",
    "```"
   ]
  },
  {
   "cell_type": "markdown",
   "id": "1e5f4736-3022-46ce-900c-7088911c15db",
   "metadata": {},
   "source": [
    "```python\n",
    "# Compute the Hessians:\n",
    "ethene_hessian_drv.compute(ethene, ethene_basis)\n",
    "...\n",
    "...\n",
    "```"
   ]
  },
  {
   "cell_type": "markdown",
   "id": "c4b85143-b45b-4dc7-a1f5-02b5893f2688",
   "metadata": {},
   "source": [
    "```python\n",
    "# Or read them from file:\n",
    "import h5py\n",
    "\n",
    "fname = '../h5files/ir_raman/ethenes.h5'\n",
    "hf = h5py.File(fname, \"r\")\n",
    "\n",
    "labels = ['ethene', 'fluoroethene', 'chloroethene']\n",
    "\n",
    "i = 0   \n",
    "for driver in [ethene_hessian_drv, fluoroethene_hessian_drv, chloroethene_hessian_drv]:\n",
    "    label = labels[i]\n",
    "    \n",
    "    driver.hessian = np.array(hf.get(label + '_hessian')) \n",
    "    driver.dipole_gradient = np.array( hf.get(label + '_dipolegrad'))\n",
    "    driver.polarizability_gradient = np.array(hf.get(label + '_polgrad')) \n",
    "    \n",
    "    i += 1\n",
    "\n",
    "hf.close()\n",
    "```"
   ]
  },
  {
   "cell_type": "markdown",
   "id": "796569c7-f4a7-4311-8995-935acf64f043",
   "metadata": {},
   "source": [
    "```python\n",
    "# Broadening function\n",
    "def add_broadening(list_ex_energy, list_osci_strength, line_profile='Lorentzian', line_param=10, step=10):\n",
    "        x_min = np.amin(list_ex_energy) - 50\n",
    "        x_max = np.amax(list_ex_energy) + 50\n",
    "        x = np.arange(x_min, x_max, step)\n",
    "        y = np.zeros((len(x)))\n",
    "        #print(x)\n",
    "        #print(y)\n",
    "\n",
    "        # go through the frames and calculate the spectrum for each frame\n",
    "        for xp in range(len(x)):\n",
    "            for e, f in zip(list_ex_energy, list_osci_strength):\n",
    "                if line_profile == 'Gaussian':\n",
    "                    y[xp] += f * np.exp(-(\n",
    "                        (e - x[xp]) / line_param)**2)\n",
    "                elif line_profile == 'Lorentzian':\n",
    "                    y[xp] += 0.5 * line_param * f / (np.pi * (\n",
    "                        (x[xp] - e)**2 + 0.25 * line_param**2))\n",
    "        return x, y\n",
    "\n",
    "        \n",
    "# To animate the normal mode we will need both the geometry and the displacements \n",
    "def get_normal_mode(molecule, normal_mode):\n",
    "    elements = molecule.get_labels()\n",
    "    coords = molecule.get_coordinates() * bohr_in_angstroms() # To transform from au to A\n",
    "    natm = molecule.number_of_atoms()\n",
    "    vib_xyz = \"%d\\n\\n\" % natm\n",
    "    nm = normal_mode.reshape(natm, 3)\n",
    "    for i in range(natm):\n",
    "        # add coordinates:\n",
    "        vib_xyz += elements[i] + \" %15.7f %15.7f %15.7f \" % (coords[i,0], coords[i,1], coords[i,2])\n",
    "        # add displacements:\n",
    "        vib_xyz += \"%15.7f %15.7f %15.7f\\n\" % (nm[i,0], nm[i,1], nm[i,2])\n",
    "    return vib_xyz\n",
    "```"
   ]
  },
  {
   "cell_type": "markdown",
   "id": "cc78ddde-10b9-408e-beca-967a7df5eae9",
   "metadata": {},
   "source": [
    "## Vibrational analysis\n",
    "\n",
    "To get a summary of the vibrational analysis, one simply needs to run the following command:"
   ]
  },
  {
   "cell_type": "markdown",
   "id": "6788262e-3ed1-430a-ae82-6dd1aec4ea38",
   "metadata": {},
   "source": [
    "```python\n",
    "# Run for all molecules\n",
    "ethene_hessian_drv.vibrational_analysis(opt_ethene)\n",
    "...\n",
    "...\n",
    "```"
   ]
  },
  {
   "cell_type": "markdown",
   "id": "0693da26-492e-420b-b4f3-2b5fa2eb989d",
   "metadata": {},
   "source": [
    "```python\n",
    "# Plot the IR spectra\n",
    "plt.figure(figsize=(7,4))\n",
    "\n",
    "eth_x, eth_ir = ethene_hessian_drv.frequencies, ethene_hessian_drv.ir_intensities\n",
    "flo_x, flo_ir = fluoroethene_hessian_drv.frequencies, fluoroethene_hessian_drv.ir_intensities\n",
    "chl_x, chl_ir = chloroethene_hessian_drv.frequencies, chloroethene_hessian_drv.ir_intensities\n",
    "\n",
    "eth_xl, eth_irl = add_broadening(eth_x, eth_ir, line_profile='Lorentzian', line_param=20, step=2)\n",
    "flo_xl, flo_irl = add_broadening(flo_x, flo_ir, line_profile='Lorentzian', line_param=20, step=2)\n",
    "chl_xl, chl_irl = add_broadening(chl_x, chl_ir, line_profile='Lorentzian', line_param=20, step=2)\n",
    "\n",
    "plt.plot(eth_xl, eth_irl, label='Ethene')\n",
    "plt.plot(flo_xl, flo_irl, label='Fluoroethene')\n",
    "plt.plot(chl_xl, chl_irl, label='Chloroethene')\n",
    "\n",
    "plt.xlabel('Wavenumber (cm**-1)')\n",
    "plt.axis(xmin=3200, xmax=3500)\n",
    "plt.axis(ymin=-0.2, ymax=1.5)\n",
    "plt.ylabel('IR intensity (km/mol)')\n",
    "plt.title(\"Calculated IR sepctra of substituted ethenes\")\n",
    "plt.legend()\n",
    "plt.tight_layout(); plt.show()\n",
    "```"
   ]
  },
  {
   "cell_type": "markdown",
   "id": "3428b67d-c818-4ac2-bf10-a8a1bccc6352",
   "metadata": {},
   "source": [
    "```python\n",
    "# Get the displacements of the normal mode\n",
    "ethene_h1 = get_normal_mode(ethene, ethene_hessian_drv.normal_modes[-1])\n",
    "fluoroethene_h1 = get_normal_mode(fluoroethene, fluoroethene_hessian_drv.normal_modes[-1])\n",
    "chloroethene_h1 = get_normal_mode(chloroethene, chloroethene_hessian_drv.normal_modes[-1])\n",
    "```"
   ]
  },
  {
   "cell_type": "markdown",
   "id": "b5eb1c8d-ee92-4a2b-b762-7c0c63ce971a",
   "metadata": {},
   "source": [
    "```python\n",
    "# Plot the vibration\n",
    "view = p3d.view(viewergrid=(1,1), width=300, height=200, linked=True)\n",
    "view.addModel(ethene_h1, \"xyz\", {'vibrate': {'frames':10,'amplitude':0.75}}, viewer=(0,0))\n",
    "view.setStyle({'stick':{}})\n",
    "view.animate({'loop': 'backAndForth'})\n",
    "view.zoomTo()\n",
    "view.show()\n",
    "```"
   ]
  },
  {
   "cell_type": "markdown",
   "id": "4330b398-12d7-4686-b3f0-c8556a3a28a8",
   "metadata": {},
   "source": [
    "## IR intensities and Raman activities\n",
    "\n",
    "To rationalize why the IR and Raman spectra look as they do, let's calculate how the dipole moment and polarizability change during particular vibrational motions."
   ]
  },
  {
   "cell_type": "code",
   "execution_count": null,
   "id": "941983b3-1165-4a72-9846-f9ab43973e9e",
   "metadata": {},
   "outputs": [],
   "source": []
  }
 ],
 "metadata": {
  "kernelspec": {
   "display_name": "Python 3",
   "language": "python",
   "name": "python3"
  },
  "language_info": {
   "codemirror_mode": {
    "name": "ipython",
    "version": 3
   },
   "file_extension": ".py",
   "mimetype": "text/x-python",
   "name": "python",
   "nbconvert_exporter": "python",
   "pygments_lexer": "ipython3",
   "version": "3.8.10"
  }
 },
 "nbformat": 4,
 "nbformat_minor": 5
}
