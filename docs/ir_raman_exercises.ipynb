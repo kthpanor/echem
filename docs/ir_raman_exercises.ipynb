{
 "cells": [
  {
   "cell_type": "markdown",
   "id": "a2dcd883",
   "metadata": {},
   "source": [
    "# Exercises\n",
    "\n",
    "In this exercise we will look at how substitution affects the vibrational frequencies, IR, and Raman spectra."
   ]
  },
  {
   "cell_type": "code",
   "execution_count": 2,
   "id": "50d67d06-0b76-4fa4-af57-f4930deddf34",
   "metadata": {
    "tags": [
     "hide-output"
    ]
   },
   "outputs": [
    {
     "name": "stdout",
     "output_type": "stream",
     "text": [
      "* Warning * Environment variable OMP_NUM_THREADS not set.\n",
      "* Warning * Setting OMP_NUM_THREADS to 8.\n",
      "* Warning * Setting MKL_THREADING_LAYER to \"GNU\".\n"
     ]
    }
   ],
   "source": [
    "# import section\n",
    "import veloxchem as vlx\n",
    "import py3Dmol as p3d\n",
    "from veloxchem.veloxchemlib import bohr_in_angstroms\n",
    "from matplotlib import pyplot as plt\n",
    "import numpy as np\n",
    "\n",
    "basis_set_label = \"6-31G\""
   ]
  },
  {
   "cell_type": "code",
   "execution_count": 3,
   "id": "b57d9a98-7ea2-437c-896b-82b105add8cd",
   "metadata": {},
   "outputs": [],
   "source": [
    "# define molecules and basis sets\n",
    "ethene_xyz = \"\"\"6\n",
    " ethene\n",
    " C          0.000000    -0.663984   0.000000\n",
    " C          0.000000     0.663984   0.000000\n",
    " H          0.919796    -1.223061   0.000000\n",
    " H         -0.919796    -1.223061   0.000000\n",
    " H          0.919796     1.223061   0.000000\n",
    " H         -0.919796     1.223061   0.000000\n",
    "\"\"\"\n",
    "ethene = vlx.Molecule.from_xyz_string(ethene_xyz)\n",
    "ethene_basis = vlx.MolecularBasis.read(ethene, basis_set_label)"
   ]
  },
  {
   "cell_type": "code",
   "execution_count": 4,
   "id": "4a03887a-dec0-4181-8028-ee4aa350af4e",
   "metadata": {},
   "outputs": [],
   "source": [
    "fluoroethene_xyz = \"\"\"6\n",
    "fluoroethene\n",
    " C          0.000000    -0.663984   0.000000\n",
    " C          0.000000     0.663984   0.000000\n",
    " F         1.519796    -1.223061   0.000000\n",
    " H         -0.919796    -1.223061   0.000000\n",
    " H          0.919796     1.223061   0.000000\n",
    " H         -0.919796     1.223061   0.000000\n",
    " \"\"\"\n",
    "fluoroethene = vlx.Molecule.from_xyz_string(fluoroethene_xyz)\n",
    "fluoroethene_basis = vlx.MolecularBasis.read(fluoroethene, basis_set_label)"
   ]
  },
  {
   "cell_type": "code",
   "execution_count": 5,
   "id": "fc99ed95-c7ac-45d3-a2b0-5ac29a0e6e52",
   "metadata": {},
   "outputs": [],
   "source": [
    "chloroethene_xyz = \"\"\"6\n",
    "chloroethene\n",
    " C          0.000000    -0.663984   0.000000\n",
    " C          0.000000     0.663984   0.000000\n",
    " Cl         1.519796    -1.223061   0.000000\n",
    " H         -0.919796    -1.223061   0.000000\n",
    " H          0.919796     1.223061   0.000000\n",
    " H         -0.919796     1.223061   0.000000\n",
    " \"\"\"\n",
    "chloroethene = vlx.Molecule.from_xyz_string(chloroethene_xyz)\n",
    "chloroethene_basis = vlx.MolecularBasis.read(chloroethene, basis_set_label)"
   ]
  },
  {
   "cell_type": "code",
   "execution_count": 6,
   "id": "51919f03-2853-45bb-89c7-f78f0dac5acf",
   "metadata": {},
   "outputs": [
    {
     "data": {
      "application/3dmoljs_load.v0": "<div id=\"3dmolviewer_1656217008280376\"  style=\"position: relative; width: 600px; height: 200px\">\n        <p id=\"3dmolwarning_1656217008280376\" style=\"background-color:#ffcccc;color:black\">You appear to be running in JupyterLab (or JavaScript failed to load for some other reason).  You need to install the 3dmol extension: <br>\n        <tt>jupyter labextension install jupyterlab_3dmol</tt></p>\n        </div>\n<script>\n\nvar loadScriptAsync = function(uri){\n  return new Promise((resolve, reject) => {\n    var tag = document.createElement('script');\n    tag.src = uri;\n    tag.async = true;\n    tag.onload = () => {\n      resolve();\n    };\n  var firstScriptTag = document.getElementsByTagName('script')[0];\n  firstScriptTag.parentNode.insertBefore(tag, firstScriptTag);\n});\n};\n\nif(typeof $3Dmolpromise === 'undefined') {\n$3Dmolpromise = null;\n  $3Dmolpromise = loadScriptAsync('https://3dmol.org/build/3Dmol.js');\n}\n\nvar viewer_1656217008280376 = null;\nvar warn = document.getElementById(\"3dmolwarning_1656217008280376\");\nif(warn) {\n    warn.parentNode.removeChild(warn);\n}\n$3Dmolpromise.then(function() {\nvar viewergrid_1656217008280376 = null;\nviewergrid_1656217008280376 = $3Dmol.createViewerGrid($(\"#3dmolviewer_1656217008280376\"),{rows: 1, cols: 3, control_all: true},{backgroundColor:\"white\"});\nviewer_1656217008280376 = viewergrid_1656217008280376[0][0];\nviewergrid_1656217008280376[0][0].zoomTo();viewergrid_1656217008280376[0][1].zoomTo();viewergrid_1656217008280376[0][2].zoomTo();\tviewergrid_1656217008280376[0][0].addModel(\"6\\n ethene\\n C          0.000000    -0.663984   0.000000\\n C          0.000000     0.663984   0.000000\\n H          0.919796    -1.223061   0.000000\\n H         -0.919796    -1.223061   0.000000\\n H          0.919796     1.223061   0.000000\\n H         -0.919796     1.223061   0.000000\\n\",\"xyz\");\n\tviewergrid_1656217008280376[0][1].addModel(\"6\\nfluoroethene\\n C          0.000000    -0.663984   0.000000\\n C          0.000000     0.663984   0.000000\\n F         1.519796    -1.223061   0.000000\\n H         -0.919796    -1.223061   0.000000\\n H          0.919796     1.223061   0.000000\\n H         -0.919796     1.223061   0.000000\\n \",\"xyz\");\n\tviewergrid_1656217008280376[0][2].addModel(\"6\\nchloroethene\\n C          0.000000    -0.663984   0.000000\\n C          0.000000     0.663984   0.000000\\n Cl         1.519796    -1.223061   0.000000\\n H         -0.919796    -1.223061   0.000000\\n H          0.919796     1.223061   0.000000\\n H         -0.919796     1.223061   0.000000\\n \",\"xyz\");\n\tviewergrid_1656217008280376[0][0].setStyle({\"stick\": {}});\n\tviewergrid_1656217008280376[0][1].setStyle({\"stick\": {}});\n\tviewergrid_1656217008280376[0][2].setStyle({\"stick\": {}});\n\tviewergrid_1656217008280376[0][0].zoomTo();\n\tviewergrid_1656217008280376[0][1].zoomTo();\n\tviewergrid_1656217008280376[0][2].zoomTo();\nviewergrid_1656217008280376[0][2].render();\nviewergrid_1656217008280376[0][1].render();\nviewergrid_1656217008280376[0][0].render();\n});\n</script>",
      "text/html": [
       "<div id=\"3dmolviewer_1656217008280376\"  style=\"position: relative; width: 600px; height: 200px\">\n",
       "        <p id=\"3dmolwarning_1656217008280376\" style=\"background-color:#ffcccc;color:black\">You appear to be running in JupyterLab (or JavaScript failed to load for some other reason).  You need to install the 3dmol extension: <br>\n",
       "        <tt>jupyter labextension install jupyterlab_3dmol</tt></p>\n",
       "        </div>\n",
       "<script>\n",
       "\n",
       "var loadScriptAsync = function(uri){\n",
       "  return new Promise((resolve, reject) => {\n",
       "    var tag = document.createElement('script');\n",
       "    tag.src = uri;\n",
       "    tag.async = true;\n",
       "    tag.onload = () => {\n",
       "      resolve();\n",
       "    };\n",
       "  var firstScriptTag = document.getElementsByTagName('script')[0];\n",
       "  firstScriptTag.parentNode.insertBefore(tag, firstScriptTag);\n",
       "});\n",
       "};\n",
       "\n",
       "if(typeof $3Dmolpromise === 'undefined') {\n",
       "$3Dmolpromise = null;\n",
       "  $3Dmolpromise = loadScriptAsync('https://3dmol.org/build/3Dmol.js');\n",
       "}\n",
       "\n",
       "var viewer_1656217008280376 = null;\n",
       "var warn = document.getElementById(\"3dmolwarning_1656217008280376\");\n",
       "if(warn) {\n",
       "    warn.parentNode.removeChild(warn);\n",
       "}\n",
       "$3Dmolpromise.then(function() {\n",
       "var viewergrid_1656217008280376 = null;\n",
       "viewergrid_1656217008280376 = $3Dmol.createViewerGrid($(\"#3dmolviewer_1656217008280376\"),{rows: 1, cols: 3, control_all: true},{backgroundColor:\"white\"});\n",
       "viewer_1656217008280376 = viewergrid_1656217008280376[0][0];\n",
       "viewergrid_1656217008280376[0][0].zoomTo();viewergrid_1656217008280376[0][1].zoomTo();viewergrid_1656217008280376[0][2].zoomTo();\tviewergrid_1656217008280376[0][0].addModel(\"6\\n ethene\\n C          0.000000    -0.663984   0.000000\\n C          0.000000     0.663984   0.000000\\n H          0.919796    -1.223061   0.000000\\n H         -0.919796    -1.223061   0.000000\\n H          0.919796     1.223061   0.000000\\n H         -0.919796     1.223061   0.000000\\n\",\"xyz\");\n",
       "\tviewergrid_1656217008280376[0][1].addModel(\"6\\nfluoroethene\\n C          0.000000    -0.663984   0.000000\\n C          0.000000     0.663984   0.000000\\n F         1.519796    -1.223061   0.000000\\n H         -0.919796    -1.223061   0.000000\\n H          0.919796     1.223061   0.000000\\n H         -0.919796     1.223061   0.000000\\n \",\"xyz\");\n",
       "\tviewergrid_1656217008280376[0][2].addModel(\"6\\nchloroethene\\n C          0.000000    -0.663984   0.000000\\n C          0.000000     0.663984   0.000000\\n Cl         1.519796    -1.223061   0.000000\\n H         -0.919796    -1.223061   0.000000\\n H          0.919796     1.223061   0.000000\\n H         -0.919796     1.223061   0.000000\\n \",\"xyz\");\n",
       "\tviewergrid_1656217008280376[0][0].setStyle({\"stick\": {}});\n",
       "\tviewergrid_1656217008280376[0][1].setStyle({\"stick\": {}});\n",
       "\tviewergrid_1656217008280376[0][2].setStyle({\"stick\": {}});\n",
       "\tviewergrid_1656217008280376[0][0].zoomTo();\n",
       "\tviewergrid_1656217008280376[0][1].zoomTo();\n",
       "\tviewergrid_1656217008280376[0][2].zoomTo();\n",
       "viewergrid_1656217008280376[0][2].render();\n",
       "viewergrid_1656217008280376[0][1].render();\n",
       "viewergrid_1656217008280376[0][0].render();\n",
       "});\n",
       "</script>"
      ]
     },
     "metadata": {},
     "output_type": "display_data"
    }
   ],
   "source": [
    "# to view the molecules\n",
    "view = p3d.view(linked=True, viewergrid=(1,3),width=600,height=200)\n",
    "view.addModel(ethene_xyz, 'xyz', viewer=(0,0))\n",
    "view.addModel(fluoroethene_xyz, 'xyz', viewer=(0,1))\n",
    "view.addModel(chloroethene_xyz, 'xyz', viewer=(0,2))\n",
    "view.setStyle({'stick': {}})\n",
    "view.zoomTo()\n",
    "view.show()"
   ]
  },
  {
   "cell_type": "markdown",
   "id": "6b62bf80",
   "metadata": {},
   "source": [
    "## SCF geometry optimization\n",
    "Before we can calculate the vibrational spectra, we first must optimize the geometries."
   ]
  },
  {
   "cell_type": "code",
   "execution_count": 7,
   "id": "951ebb2e-34b8-43c0-94a7-62e64bb9a9d3",
   "metadata": {},
   "outputs": [],
   "source": [
    "# Settings for SCF and gradient drivers\n",
    "scf_settings = {'conv_thresh':1e-6}\n",
    "method_settings = {}"
   ]
  },
  {
   "cell_type": "markdown",
   "id": "7e1872ea-2369-44b5-be79-2a740195cd3d",
   "metadata": {},
   "source": [
    "```python\n",
    "# Run SCF for ethene\n",
    "ethene_scfdrv = ...\n",
    "...\n",
    "\n",
    "# Run SCF for fluoroethene\n",
    "fluoroethene_scfdrv = ...\n",
    "...\n",
    "\n",
    "# Run SCF for chloroethene\n",
    "chloroethene_scfdrv = ...\n",
    "...\n",
    "```"
   ]
  },
  {
   "cell_type": "code",
   "execution_count": 8,
   "id": "2419f2e8-ce53-4809-ba8a-bfba61c91a8e",
   "metadata": {
    "tags": [
     "hide-input",
     "hide-output"
    ]
   },
   "outputs": [],
   "source": [
    "# Run SCF for ethene\n",
    "ethene_scfdrv = vlx.ScfRestrictedDriver()\n",
    "ethene_scfdrv.update_settings(scf_settings, method_settings)\n",
    "ethene_scfdrv.ostream.state = False \n",
    "ethene_scfdrv.compute(ethene, ethene_basis)\n",
    "\n",
    "# Run SCF for fluoroethene\n",
    "fluoroethene_scfdrv = vlx.ScfRestrictedDriver()\n",
    "fluoroethene_scfdrv.update_settings(scf_settings, method_settings)\n",
    "fluoroethene_scfdrv.ostream.state = False \n",
    "fluoroethene_scfdrv.compute(fluoroethene, fluoroethene_basis)\n",
    "\n",
    "# Run SCF for chloroethene\n",
    "chloroethene_scfdrv = vlx.ScfRestrictedDriver()\n",
    "chloroethene_scfdrv.update_settings(scf_settings, method_settings)\n",
    "chloroethene_scfdrv.ostream.state = False \n",
    "chloroethene_scfdrv.compute(chloroethene, chloroethene_basis)"
   ]
  },
  {
   "cell_type": "markdown",
   "id": "8edf5055-053c-4d2e-b78d-b545da16e96b",
   "metadata": {},
   "source": [
    "```python\n",
    "# Set up the gradient and optimization dirvers:\n",
    "ethene_grad_drv = ...\n",
    "\n",
    "fluoroethene_grad_drv = ...\n",
    "...\n",
    "\n",
    "chloroethene_grad_drv = ...\n",
    "...\n",
    "```"
   ]
  },
  {
   "cell_type": "code",
   "execution_count": 9,
   "id": "c55e45f0-4294-426c-a2f1-ed7bb83469db",
   "metadata": {
    "tags": [
     "hide-output",
     "hide-input"
    ]
   },
   "outputs": [],
   "source": [
    "# Set up the gradient and optimization dirvers:\n",
    "ethene_grad_drv = vlx.ScfGradientDriver(ethene_scfdrv)\n",
    "ethene_opt_drv = vlx.OptimizationDriver(ethene_grad_drv)\n",
    "\n",
    "fluoroethene_grad_drv = vlx.ScfGradientDriver(fluoroethene_scfdrv)\n",
    "fluoroethene_opt_drv = vlx.OptimizationDriver(fluoroethene_grad_drv)\n",
    "\n",
    "chloroethene_grad_drv = vlx.ScfGradientDriver(chloroethene_scfdrv)\n",
    "chloroethene_opt_drv = vlx.OptimizationDriver(chloroethene_grad_drv)"
   ]
  },
  {
   "cell_type": "markdown",
   "id": "6db489c4-cc79-4b16-ab9d-29c9ba042380",
   "metadata": {
    "tags": []
   },
   "source": [
    "```python\n",
    "# Optimize the geometries\n",
    "opt_ethene = ...\n",
    "opt_fluoroethene = ...\n",
    "opt_chloroethene = ...\n",
    "```"
   ]
  },
  {
   "cell_type": "code",
   "execution_count": 10,
   "id": "a1172846-687d-4b66-a238-b65ea787e4f1",
   "metadata": {
    "tags": [
     "hide-output",
     "hide-input"
    ]
   },
   "outputs": [],
   "source": [
    "# Either optimize the geometries\n",
    "# Uncomment below\n",
    "#ethene_opt_drv.ostream.state = True # to enable printout\n",
    "#opt_ethene = ethene_opt_drv.compute(ethene, ethene_basis)\n",
    "#fluoroethene_opt_drv.ostream.state = True # to enable printout\n",
    "#opt_fluoroethene = fluoroethene_opt_drv.compute(fluoroethene, fluoroethene_basis)\n",
    "#chloroethene_opt_drv.ostream.state = True\n",
    "#opt_chloroethene = chloroethene_opt_drv.compute(chloroethene, chloroethene_basis)\n",
    "\n",
    "# Or read them from file if already calculated\n",
    "opt_ethene_xyz = open(\"../xyz/ir_raman/opt_ethene.xyz\", \"r\").read() # read optimized geometry from file\n",
    "opt_fluoroethene_xyz = open(\"../xyz/ir_raman/opt_fluoroethene.xyz\", \"r\").read() # read optimized geometry from file\n",
    "opt_chloroethene_xyz = open(\"../xyz/ir_raman/opt_chloroethene.xyz\", \"r\").read() # read optimized geometry from file\n",
    "\n",
    "opt_ethene = vlx.Molecule.from_xyz_string(opt_ethene_xyz)\n",
    "ethene_basis = vlx.MolecularBasis.read(opt_ethene, basis_set_label)\n",
    "\n",
    "opt_fluoroethene = vlx.Molecule.from_xyz_string(opt_fluoroethene_xyz)\n",
    "fluoroethene_basis = vlx.MolecularBasis.read(opt_fluoroethene, basis_set_label)\n",
    "\n",
    "opt_chloroethene = vlx.Molecule.from_xyz_string(opt_chloroethene_xyz)\n",
    "chloroethene_basis = vlx.MolecularBasis.read(opt_chloroethene, basis_set_label)"
   ]
  },
  {
   "cell_type": "markdown",
   "id": "f713f9f8-8f74-4eb9-ad91-4f540520bad8",
   "metadata": {},
   "source": [
    "```python\n",
    "# Get optimized coordinates as xyz string\n",
    "def get_xyz(molecule):\n",
    "    natm = molecule.number_of_atoms()\n",
    "    elements = molecule.get_labels()\n",
    "    coords = molecule.get_coordinates() * bohr_in_angstroms()\n",
    "    txt = \"%d\\n\\n\" % natm\n",
    "    for i in range(natm):\n",
    "        txt += elements[i] + \" %15.7f %15.7f %15.7f\\n\" % (coords[i,0], coords[i,1], coords[i,2])\n",
    "    return txt\n",
    "```"
   ]
  },
  {
   "cell_type": "markdown",
   "id": "df78ad0e-b078-4621-b5aa-366678cc2632",
   "metadata": {},
   "source": [
    "```python\n",
    "# Visualize the optimized structures\n",
    "...\n",
    "```"
   ]
  },
  {
   "cell_type": "markdown",
   "id": "bfa550d9-48fe-4ebe-82d9-85a0f1feaae1",
   "metadata": {},
   "source": [
    "```python\n",
    "# Compute SCF with the optimized geometries of all molecules\n",
    "...\n",
    "```"
   ]
  },
  {
   "cell_type": "code",
   "execution_count": 11,
   "id": "0effdbe0-3a2d-43c3-88b3-ac2170b3f83c",
   "metadata": {
    "tags": [
     "hide-output",
     "hide-input"
    ]
   },
   "outputs": [],
   "source": [
    "ethene_scfdrv.compute(opt_ethene, ethene_basis)\n",
    "fluoroethene_scfdrv.compute(opt_fluoroethene, fluoroethene_basis)\n",
    "chloroethene_scfdrv.compute(opt_chloroethene, chloroethene_basis)"
   ]
  },
  {
   "cell_type": "markdown",
   "id": "faf15a93-fb2a-4b55-a82c-04b4f22d22b9",
   "metadata": {},
   "source": [
    "## Hessians\n",
    "\n",
    "Now, we can calculate the IR and Raman spectra for these optimized geometries."
   ]
  },
  {
   "cell_type": "code",
   "execution_count": 12,
   "id": "d157c446-65b7-43cd-85bd-c5adf08c327d",
   "metadata": {},
   "outputs": [],
   "source": [
    "# Settings for Hessian calculation\n",
    "hessian_settings = {'do_raman': 'yes', 'print_depolarization_ratio':'no'}"
   ]
  },
  {
   "cell_type": "markdown",
   "id": "856be5c6-d77b-4889-ab05-6cb025dd8b11",
   "metadata": {},
   "source": [
    "```python\n",
    "# Create Hessian driver and update settings\n",
    "ethene_hessian_drv = ...\n",
    "...\n",
    "\n",
    "fluoroethene_hessian_drv = ...\n",
    "...\n",
    "\n",
    "chloroethene_hessian_drv = ...\n",
    "...\n",
    "```"
   ]
  },
  {
   "cell_type": "markdown",
   "id": "1e5f4736-3022-46ce-900c-7088911c15db",
   "metadata": {},
   "source": [
    "```python\n",
    "# Compute the Hessians:\n",
    "...\n",
    "...\n",
    "...\n",
    "```"
   ]
  },
  {
   "cell_type": "code",
   "execution_count": 13,
   "id": "38fd66c0-6eb7-477e-8dfb-855de63f0b54",
   "metadata": {
    "tags": [
     "hide-output",
     "hide-input"
    ]
   },
   "outputs": [],
   "source": [
    "# Create Hessian driver and update settings\n",
    "ethene_hessian_drv = vlx.scfhessiandriver.ScfHessianDriver(ethene_scfdrv)\n",
    "ethene_hessian_drv.update_settings(method_settings, hessian_settings)\n",
    "\n",
    "fluoroethene_hessian_drv = vlx.scfhessiandriver.ScfHessianDriver(fluoroethene_scfdrv)\n",
    "fluoroethene_hessian_drv.update_settings(method_settings, hessian_settings)\n",
    "\n",
    "chloroethene_hessian_drv = vlx.scfhessiandriver.ScfHessianDriver(chloroethene_scfdrv)\n",
    "chloroethene_hessian_drv.update_settings(method_settings, hessian_settings)\n",
    "\n",
    "# Calculate\n",
    "#ethene_hessian_drv.compute(ethene, ethene_basis)\n",
    "#fluoroethene_hessian_drv.compute(fluoroethene, fluoroethene_basis)\n",
    "#chloroethene_hessian_drv.compute(chloroethene, chloroethene_basis)\n",
    "\n",
    "# Or read from file:\n",
    "import h5py\n",
    "\n",
    "fname = '../h5files/ir_raman/ethenes.h5'\n",
    "hf = h5py.File(fname, \"r\")\n",
    "\n",
    "labels = ['ethene', 'fluoroethene', 'chloroethene']\n",
    "\n",
    "i = 0   \n",
    "for driver in [ethene_hessian_drv, fluoroethene_hessian_drv, chloroethene_hessian_drv]:\n",
    "    label = labels[i]\n",
    "\n",
    "    driver.hessian = np.array(hf.get(label + '_hessian')) \n",
    "    driver.dipole_gradient = np.array( hf.get(label + '_dipolegrad'))\n",
    "    driver.polarizability_gradient = np.array(hf.get(label + '_polgrad')) \n",
    "    \n",
    "    i += 1\n",
    "\n",
    "hf.close()"
   ]
  },
  {
   "cell_type": "markdown",
   "id": "796569c7-f4a7-4311-8995-935acf64f043",
   "metadata": {},
   "source": [
    "```python\n",
    "# Broadening function\n",
    "def add_broadening(list_ex_energy, list_osci_strength, line_profile='Lorentzian', line_param=10, step=10):\n",
    "\n",
    "    ...\n",
    "    \n",
    "    return x, y\n",
    "```"
   ]
  },
  {
   "cell_type": "code",
   "execution_count": 14,
   "id": "68fab836-3558-42e6-b6e1-66844d444bae",
   "metadata": {
    "tags": [
     "hide-input",
     "hide-output"
    ]
   },
   "outputs": [],
   "source": [
    "# Broadening function\n",
    "def add_broadening(list_ex_energy, list_osci_strength, line_profile='Lorentzian', line_param=10, step=10):\n",
    "        x_min = np.amin(list_ex_energy) - 50\n",
    "        x_max = np.amax(list_ex_energy) + 50\n",
    "        x = np.arange(x_min, x_max, step)\n",
    "        y = np.zeros((len(x)))\n",
    "        #print(x)\n",
    "        #print(y)\n",
    "\n",
    "        # go through the frames and calculate the spectrum for each frame\n",
    "        for xp in range(len(x)):\n",
    "            for e, f in zip(list_ex_energy, list_osci_strength):\n",
    "                if line_profile == 'Gaussian':\n",
    "                    y[xp] += f * np.exp(-(\n",
    "                        (e - x[xp]) / line_param)**2)\n",
    "                elif line_profile == 'Lorentzian':\n",
    "                    y[xp] += 0.5 * line_param * f / (np.pi * (\n",
    "                        (x[xp] - e)**2 + 0.25 * line_param**2))\n",
    "        return x, y\n"
   ]
  },
  {
   "cell_type": "markdown",
   "id": "f29dae00-853a-44f0-8460-bab7f5fe79c9",
   "metadata": {},
   "source": [
    "```python\n",
    "# To animate the normal mode we will need both the geometry and the displacements \n",
    "def get_normal_mode(molecule, normal_mode):\n",
    "\n",
    "    ...\n",
    "    \n",
    "    return vib_xyz\n",
    "```"
   ]
  },
  {
   "cell_type": "code",
   "execution_count": 15,
   "id": "c2dd588e-fcbf-4fbc-8f48-d90abbdffffa",
   "metadata": {
    "tags": [
     "hide-input",
     "hide-output"
    ]
   },
   "outputs": [],
   "source": [
    "# To animate the normal mode we will need both the geometry and the displacements \n",
    "def get_normal_mode(molecule, normal_mode):\n",
    "    elements = molecule.get_labels()\n",
    "    coords = molecule.get_coordinates() * bohr_in_angstroms() # To transform from au to A\n",
    "    natm = molecule.number_of_atoms()\n",
    "    vib_xyz = \"%d\\n\\n\" % natm\n",
    "    nm = normal_mode.reshape(natm, 3)\n",
    "    for i in range(natm):\n",
    "        # add coordinates:\n",
    "        vib_xyz += elements[i] + \" %15.7f %15.7f %15.7f \" % (coords[i,0], coords[i,1], coords[i,2])\n",
    "        # add displacements:\n",
    "        vib_xyz += \"%15.7f %15.7f %15.7f\\n\" % (nm[i,0], nm[i,1], nm[i,2])\n",
    "    return vib_xyz"
   ]
  },
  {
   "cell_type": "markdown",
   "id": "cc78ddde-10b9-408e-beca-967a7df5eae9",
   "metadata": {},
   "source": [
    "## Vibrational analysis\n",
    "\n",
    "To get a summary of the vibrational analysis, one simply needs to run the following command:"
   ]
  },
  {
   "cell_type": "markdown",
   "id": "6788262e-3ed1-430a-ae82-6dd1aec4ea38",
   "metadata": {},
   "source": [
    "```python\n",
    "# Run for all molecules\n",
    "ethene_hessian_drv.vibrational_analysis(opt_ethene)\n",
    "...\n",
    "...\n",
    "```"
   ]
  },
  {
   "cell_type": "code",
   "execution_count": 16,
   "id": "727e4060-ecc6-495f-a0da-c36384bfa64b",
   "metadata": {
    "tags": [
     "hide-output",
     "hide-input"
    ]
   },
   "outputs": [
    {
     "name": "stdout",
     "output_type": "stream",
     "text": [
      "                                                   Vibrational Analysis                                                   \n",
      "                                                  ======================                                                  \n",
      "                                                                                                                          \n",
      "                 Harmonic frequencies (in cm**-1), force constants (in mdyne/A), reduced masses (in amu),                 \n",
      "                          IR intensities (in km/mol), Raman scattering activities (in A**4/amu),                          \n",
      "                                         and Cartesian normal mode displacements.                                         \n",
      "                                                                                                                          \n",
      "                                                                                                                          \n",
      "  Index:                        1                              2                              3               \n",
      "  Frequency:                 927.96                         1120.00                        1154.18            \n",
      "  Force constant:            0.5295                         0.8579                         1.1920             \n",
      "  Reduced mass:              1.0436                         1.1608                         1.5188             \n",
      "  IR intensity:              1.1152                        140.0931                        0.0003             \n",
      "  Raman activ.:              0.0000                         0.0000                         5.6658             \n",
      "  Normal mode:       X         Y         Z     |    X         Y         Z     |    X         Y         Z     |\n",
      "  1 C             -0.0403    0.0000   -0.0000  | -0.0000   -0.0000   -0.0832  | -0.0000   -0.0000   -0.1525  |\n",
      "  2 C             -0.0402    0.0000    0.0000  |  0.0000   -0.0000   -0.0835  |  0.0000    0.0000    0.1522  |\n",
      "  3 H              0.2398    0.4378   -0.0001  |  0.0000    0.0001    0.4958  | -0.0000   -0.0000    0.4803  |\n",
      "  4 H              0.2398   -0.4379    0.0002  | -0.0000    0.0001    0.4961  |  0.0000   -0.0001    0.4976  |\n",
      "  5 H              0.2399   -0.4379    0.0001  | -0.0000   -0.0000    0.4973  | -0.0000    0.0001   -0.4788  |\n",
      "  6 H              0.2397    0.4378   -0.0002  |  0.0000    0.0000    0.4969  | -0.0001   -0.0002   -0.4960  |\n",
      "                                                                                                                          \n",
      "  Index:                        4                              5                              6               \n",
      "  Frequency:                 1157.33                        1378.66                        1512.66            \n",
      "  Force constant:            0.7955                         1.7072                         1.7014             \n",
      "  Reduced mass:              1.0080                         1.5245                         1.2620             \n",
      "  IR intensity:              0.0000                         0.0000                         0.0000             \n",
      "  Raman activ.:              0.0011                         1.2235                         50.5279            \n",
      "  Normal mode:       X         Y         Z     |    X         Y         Z     |    X         Y         Z     |\n",
      "  1 C              0.0000    0.0000    0.0018  |  0.1532    0.0000   -0.0000  |  0.0000   -0.1074   -0.0000  |\n",
      "  2 C              0.0000   -0.0000   -0.0017  | -0.1532    0.0000    0.0000  | -0.0000    0.1075   -0.0000  |\n",
      "  3 H             -0.0001   -0.0001   -0.5057  | -0.1454   -0.4660    0.0001  | -0.1897   -0.4570   -0.0000  |\n",
      "  4 H             -0.0001    0.0001    0.4942  | -0.1452    0.4659    0.0001  |  0.1897   -0.4570    0.0001  |\n",
      "  5 H             -0.0001    0.0001    0.5054  |  0.1455   -0.4662   -0.0001  | -0.1890    0.4559    0.0001  |\n",
      "  6 H             -0.0000   -0.0001   -0.4945  |  0.1452    0.4658   -0.0001  |  0.1890    0.4561    0.0000  |\n",
      "                                                                                                                          \n",
      "  Index:                        7                              8                              9               \n",
      "  Frequency:                 1631.37                        1846.11                        3312.91            \n",
      "  Force constant:            1.7426                         5.7467                         6.7803             \n",
      "  Reduced mass:              1.1113                         2.8619                         1.0485             \n",
      "  IR intensity:              8.4043                         0.0000                         20.9734            \n",
      "  Raman activ.:              0.0001                         16.3748                        0.0000             \n",
      "  Normal mode:       X         Y         Z     |    X         Y         Z     |    X         Y         Z     |\n",
      "  1 C             -0.0000    0.0687    0.0000  | -0.0000   -0.2902    0.0000  | -0.0000   -0.0429    0.0000  |\n",
      "  2 C              0.0000    0.0683   -0.0000  |  0.0000    0.2903   -0.0000  | -0.0000   -0.0429   -0.0000  |\n",
      "  3 H             -0.2845   -0.4077    0.0000  |  0.3822    0.2482   -0.0001  | -0.4284    0.2557   -0.0000  |\n",
      "  4 H              0.2844   -0.4079   -0.0000  | -0.3821    0.2482   -0.0000  |  0.4284    0.2556    0.0000  |\n",
      "  5 H              0.2846   -0.4085    0.0001  |  0.3825   -0.2486    0.0000  |  0.4289    0.2560    0.0000  |\n",
      "  6 H             -0.2846   -0.4089    0.0001  | -0.3824   -0.2488   -0.0000  | -0.4286    0.2557    0.0000  |\n",
      "                                                                                                                          \n",
      "  Index:                       10                             11                             12               \n",
      "  Frequency:                 3337.47                        3389.59                        3419.12            \n",
      "  Force constant:            7.0900                         7.5393                         7.6928             \n",
      "  Reduced mass:              1.0803                         1.1138                         1.1169             \n",
      "  IR intensity:              0.0000                         0.0000                         43.0914            \n",
      "  Raman activ.:             188.7189                       129.4466                        0.0001             \n",
      "  Normal mode:       X         Y         Z     |    X         Y         Z     |    X         Y         Z     |\n",
      "  1 C             -0.0001    0.0574   -0.0000  |  0.0694    0.0000    0.0000  | -0.0703   -0.0000    0.0000  |\n",
      "  2 C             -0.0000   -0.0573   -0.0000  | -0.0693   -0.0000    0.0000  | -0.0704    0.0000   -0.0000  |\n",
      "  3 H              0.4273   -0.2579   -0.0000  | -0.4198    0.2668    0.0000  |  0.4187   -0.2679    0.0000  |\n",
      "  4 H             -0.4264   -0.2573    0.0000  | -0.4206   -0.2671   -0.0000  |  0.4192    0.2680   -0.0000  |\n",
      "  5 H              0.4266    0.2574    0.0000  |  0.4199    0.2668   -0.0000  |  0.4189    0.2680    0.0000  |\n",
      "  6 H             -0.4266    0.2573   -0.0000  |  0.4197   -0.2666    0.0000  |  0.4197   -0.2684    0.0000  |\n",
      "                                                                                                                          \n",
      "                                                                                                                          \n",
      "                                                   Vibrational Analysis                                                   \n",
      "                                                  ======================                                                  \n",
      "                                                                                                                          \n",
      "                 Harmonic frequencies (in cm**-1), force constants (in mdyne/A), reduced masses (in amu),                 \n",
      "                          IR intensities (in km/mol), Raman scattering activities (in A**4/amu),                          \n",
      "                                         and Cartesian normal mode displacements.                                         \n",
      "                                                                                                                          \n",
      "                                                                                                                          \n",
      "  Index:                        1                              2                              3               \n",
      "  Frequency:                 512.97                         784.04                         1005.42            \n",
      "  Force constant:            0.4032                         0.5229                         1.5365             \n",
      "  Reduced mass:              2.6004                         1.4438                         2.5798             \n",
      "  IR intensity:              6.3843                         0.1889                         57.3584            \n",
      "  Raman activ.:              2.5116                         10.6177                        7.0448             \n",
      "  Normal mode:       X         Y         Z     |    X         Y         Z     |    X         Y         Z     |\n",
      "  1 C              0.1705    0.1375    0.0000  | -0.0000   -0.0000    0.1791  | -0.1539    0.0459    0.0000  |\n",
      "  2 C             -0.1372    0.1298   -0.0000  |  0.0000    0.0000   -0.0295  | -0.1648    0.1215   -0.0000  |\n",
      "  3 F              0.0184   -0.1924   -0.0000  | -0.0000    0.0000   -0.0639  |  0.1793   -0.1175   -0.0000  |\n",
      "  4 H              0.1047    0.2063   -0.0000  |  0.0000   -0.0000   -0.2629  |  0.0300   -0.1591   -0.0000  |\n",
      "  5 H             -0.4757    0.5827    0.0000  |  0.0000   -0.0000    0.4926  |  0.2408   -0.4046    0.0000  |\n",
      "  6 H             -0.3722   -0.3480   -0.0000  | -0.0000   -0.0000   -0.8070  |  0.1476    0.7853    0.0000  |\n",
      "                                                                                                                          \n",
      "  Index:                        4                              5                              6               \n",
      "  Frequency:                 1090.60                        1109.86                        1252.17            \n",
      "  Force constant:            0.7784                         1.0061                         2.0623             \n",
      "  Reduced mass:              1.1107                         1.3863                         2.2324             \n",
      "  IR intensity:             114.0030                        11.9584                        76.4288            \n",
      "  Raman activ.:              0.0109                         7.4209                         3.1899             \n",
      "  Normal mode:       X         Y         Z     |    X         Y         Z     |    X         Y         Z     |\n",
      "  1 C             -0.0000    0.0000    0.0452  | -0.0000    0.0000   -0.1187  | -0.2563   -0.0283   -0.0000  |\n",
      "  2 C             -0.0000    0.0000    0.0854  | -0.0000    0.0000    0.1424  |  0.1309    0.0303    0.0000  |\n",
      "  3 F              0.0000   -0.0000   -0.0001  |  0.0000   -0.0000    0.0031  |  0.1267   -0.0175   -0.0000  |\n",
      "  4 H              0.0000   -0.0000   -0.6233  | -0.0000    0.0000    0.6197  | -0.5223    0.2431    0.0000  |\n",
      "  5 H              0.0000   -0.0000   -0.7558  |  0.0000   -0.0000   -0.2348  | -0.2515    0.5254    0.0000  |\n",
      "  6 H              0.0000    0.0000   -0.1760  |  0.0000    0.0000   -0.7256  | -0.1202   -0.4621   -0.0000  |\n",
      "                                                                                                                          \n",
      "  Index:                        7                              8                              9               \n",
      "  Frequency:                 1458.95                        1569.48                        1879.33            \n",
      "  Force constant:            1.4750                         1.7011                         9.4714             \n",
      "  Reduced mass:              1.1762                         1.1721                         4.5515             \n",
      "  IR intensity:              0.3677                         3.5929                         79.5500            \n",
      "  Raman activ.:              18.4529                        9.4538                         26.5674            \n",
      "  Normal mode:       X         Y         Z     |    X         Y         Z     |    X         Y         Z     |\n",
      "  1 C             -0.0576   -0.0450   -0.0000  | -0.0537    0.1020   -0.0000  |  0.1088   -0.3973   -0.0000  |\n",
      "  2 C              0.0593    0.0739    0.0000  |  0.0139    0.0320    0.0000  | -0.0399    0.3857    0.0000  |\n",
      "  3 F             -0.0238   -0.0043    0.0000  |  0.0081   -0.0137    0.0000  | -0.0239    0.0261    0.0000  |\n",
      "  4 H              0.5432   -0.7157    0.0000  |  0.2438   -0.2107    0.0000  | -0.4357    0.0594    0.0000  |\n",
      "  5 H             -0.1594    0.3814   -0.0000  |  0.3754   -0.4771   -0.0000  |  0.4774   -0.1785   -0.0000  |\n",
      "  6 H              0.0452    0.0702   -0.0000  | -0.2980   -0.6512    0.0000  | -0.4123   -0.2358   -0.0000  |\n",
      "                                                                                                                          \n",
      "  Index:                       10                             11                             12               \n",
      "  Frequency:                 3363.62                        3448.47                        3466.15            \n",
      "  Force constant:            7.0856                         7.7686                         7.8601             \n",
      "  Reduced mass:              1.0629                         1.1088                         1.1104             \n",
      "  IR intensity:              0.1141                         1.2178                         8.5554             \n",
      "  Raman activ.:              71.3931                       104.7873                        30.4417            \n",
      "  Normal mode:       X         Y         Z     |    X         Y         Z     |    X         Y         Z     |\n",
      "  1 C             -0.0099    0.0024   -0.0000  |  0.0450    0.0515   -0.0000  |  0.0412    0.0436   -0.0000  |\n",
      "  2 C              0.0079   -0.0695    0.0000  | -0.0637   -0.0207    0.0000  |  0.0754   -0.0041    0.0000  |\n",
      "  3 F              0.0001    0.0000    0.0000  |  0.0002   -0.0005   -0.0000  | -0.0006    0.0002    0.0000  |\n",
      "  4 H              0.1018    0.0905    0.0000  | -0.5519   -0.5081    0.0000  | -0.4739   -0.4411    0.0000  |\n",
      "  5 H              0.5590    0.4109   -0.0000  |  0.4220    0.3176    0.0000  | -0.3781   -0.2912   -0.0000  |\n",
      "  6 H             -0.6377    0.2974   -0.0000  |  0.3480   -0.1671   -0.0000  | -0.5260    0.2588   -0.0000  |\n",
      "                                                                                                                          \n",
      "                                                                                                                          \n",
      "                                                   Vibrational Analysis                                                   \n",
      "                                                  ======================                                                  \n",
      "                                                                                                                          \n",
      "                 Harmonic frequencies (in cm**-1), force constants (in mdyne/A), reduced masses (in amu),                 \n",
      "                          IR intensities (in km/mol), Raman scattering activities (in A**4/amu),                          \n",
      "                                         and Cartesian normal mode displacements.                                         \n",
      "                                                                                                                          \n",
      "                                                                                                                          \n",
      "  Index:                        1                              2                              3               \n",
      "  Frequency:                 421.74                         691.77                         700.54             \n",
      "  Force constant:            0.3291                         1.3261                         0.3966             \n",
      "  Reduced mass:              3.1400                         4.7034                         1.3715             \n",
      "  IR intensity:              0.7508                         55.9808                        16.1679            \n",
      "  Raman activ.:              8.4334                         17.1578                        7.8631             \n",
      "  Normal mode:       X         Y         Z     |    X         Y         Z     |    X         Y         Z     |\n",
      "  1 C             -0.1491   -0.1752   -0.0000  |  0.4327   -0.0957   -0.0000  |  0.0000   -0.0000    0.1717  |\n",
      "  2 C              0.2191   -0.1774    0.0000  |  0.0775   -0.1359    0.0000  |  0.0000   -0.0000   -0.0353  |\n",
      "  3 Cl            -0.0448    0.1326    0.0000  | -0.1706    0.0873    0.0000  | -0.0000    0.0000   -0.0272  |\n",
      "  4 H             -0.1848   -0.1269    0.0000  |  0.3495    0.0163    0.0000  |  0.0000    0.0000   -0.3394  |\n",
      "  5 H              0.4837   -0.5633   -0.0000  | -0.2375    0.3227   -0.0000  | -0.0000    0.0000    0.4668  |\n",
      "  6 H              0.4411    0.2278    0.0000  | -0.1926   -0.6499    0.0000  | -0.0000   -0.0000   -0.7971  |\n",
      "                                                                                                                          \n",
      "  Index:                        4                              5                              6               \n",
      "  Frequency:                 1100.39                        1143.81                        1154.49            \n",
      "  Force constant:            0.7758                         1.0717                         1.0512             \n",
      "  Reduced mass:              1.0875                         1.3903                         1.3386             \n",
      "  IR intensity:              67.9295                        45.1802                        15.9610            \n",
      "  Raman activ.:              1.6158                         4.9232                         5.5759             \n",
      "  Normal mode:       X         Y         Z     |    X         Y         Z     |    X         Y         Z     |\n",
      "  1 C              0.0000    0.0000   -0.0847  | -0.0000   -0.0000   -0.0728  | -0.1105   -0.0089    0.0000  |\n",
      "  2 C             -0.0000    0.0000   -0.0079  |  0.0000   -0.0000    0.1716  |  0.1277   -0.0212   -0.0000  |\n",
      "  3 Cl            -0.0000   -0.0000   -0.0004  |  0.0000    0.0000    0.0008  |  0.0176    0.0032   -0.0000  |\n",
      "  4 H              0.0000   -0.0000    0.7988  | -0.0000    0.0000    0.1611  | -0.3999    0.3532    0.0000  |\n",
      "  5 H              0.0000   -0.0000    0.5488  | -0.0000    0.0000   -0.6441  | -0.2366    0.4901    0.0000  |\n",
      "  6 H              0.0000    0.0000   -0.2313  | -0.0000   -0.0000   -0.7242  | -0.1888   -0.5951    0.0000  |\n",
      "                                                                                                                          \n",
      "  Index:                        7                              8                              9               \n",
      "  Frequency:                 1419.98                        1558.93                        1836.24            \n",
      "  Force constant:            1.4193                         1.7025                         8.2324             \n",
      "  Reduced mass:              1.1947                         1.1890                         4.1440             \n",
      "  IR intensity:              33.9957                        9.0960                         43.5328            \n",
      "  Raman activ.:              12.1840                        23.4378                        21.4675            \n",
      "  Normal mode:       X         Y         Z     |    X         Y         Z     |    X         Y         Z     |\n",
      "  1 C              0.0841    0.0038   -0.0000  | -0.0198    0.1260    0.0000  | -0.0467    0.3587    0.0000  |\n",
      "  2 C             -0.0804   -0.0558    0.0000  |  0.0005   -0.0132   -0.0000  |  0.0161   -0.3922    0.0000  |\n",
      "  3 Cl             0.0098    0.0004    0.0000  |  0.0009   -0.0024   -0.0000  |  0.0026   -0.0049   -0.0000  |\n",
      "  4 H             -0.5137    0.7707    0.0000  |  0.1379   -0.0498    0.0000  |  0.3274    0.0208   -0.0000  |\n",
      "  5 H              0.0910   -0.3090    0.0000  |  0.3675   -0.5855    0.0000  | -0.5031    0.2471   -0.0000  |\n",
      "  6 H              0.0343    0.1427   -0.0000  | -0.3054   -0.6252   -0.0000  |  0.4493    0.3022   -0.0000  |\n",
      "                                                                                                                          \n",
      "  Index:                       10                             11                             12               \n",
      "  Frequency:                 3346.74                        3439.19                        3460.90            \n",
      "  Force constant:            7.0153                         7.7706                         7.7719             \n",
      "  Reduced mass:              1.0631                         1.1150                         1.1013             \n",
      "  IR intensity:              0.4596                         0.6629                         7.5225             \n",
      "  Raman activ.:             101.1155                        91.7141                        71.1723            \n",
      "  Normal mode:       X         Y         Z     |    X         Y         Z     |    X         Y         Z     |\n",
      "  1 C              0.0076   -0.0037   -0.0000  |  0.0211    0.0237   -0.0000  | -0.0621   -0.0573   -0.0000  |\n",
      "  2 C             -0.0156    0.0685   -0.0000  | -0.0913   -0.0197    0.0000  | -0.0352    0.0100    0.0000  |\n",
      "  3 Cl             0.0000   -0.0001    0.0000  |  0.0002   -0.0002    0.0000  |  0.0003   -0.0000    0.0000  |\n",
      "  4 H             -0.0877   -0.0679    0.0000  | -0.2703   -0.2121    0.0000  |  0.7289    0.5784   -0.0000  |\n",
      "  5 H             -0.5091   -0.3390    0.0000  |  0.6232    0.4334   -0.0000  |  0.1725    0.1238   -0.0000  |\n",
      "  6 H              0.6908   -0.3624    0.0000  |  0.4768   -0.2621    0.0000  |  0.2480   -0.1381    0.0000  |\n",
      "                                                                                                                          \n",
      "                                                                                                                          \n"
     ]
    }
   ],
   "source": [
    "# Run for all molecules\n",
    "ethene_hessian_drv.vibrational_analysis(opt_ethene)\n",
    "fluoroethene_hessian_drv.vibrational_analysis(opt_fluoroethene)\n",
    "chloroethene_hessian_drv.vibrational_analysis(opt_chloroethene)"
   ]
  },
  {
   "cell_type": "markdown",
   "id": "c22e9026-7695-49ff-9135-75350dc8bdc8",
   "metadata": {},
   "source": [
    "Think about the dipole moment of these molecules and consider the Hydrogen stretching modes. How do you expect the IR spectra to look like? Which molecule do you expect will have more intense IR-peaks?"
   ]
  },
  {
   "cell_type": "code",
   "execution_count": 17,
   "id": "a6cb5b70-6f02-4c5f-befc-3b396c15a0dd",
   "metadata": {},
   "outputs": [
    {
     "data": {
      "image/png": "[encoded data removed]",
      "text/plain": [
       "<Figure size 504x288 with 1 Axes>"
      ]
     },
     "metadata": {
      "needs_background": "light"
     },
     "output_type": "display_data"
    }
   ],
   "source": [
    "# Plot the IR spectra\n",
    "plt.figure(figsize=(7,4))\n",
    "\n",
    "eth_x, eth_ir = ethene_hessian_drv.frequencies, ethene_hessian_drv.ir_intensities\n",
    "flo_x, flo_ir = fluoroethene_hessian_drv.frequencies, fluoroethene_hessian_drv.ir_intensities\n",
    "chl_x, chl_ir = chloroethene_hessian_drv.frequencies, chloroethene_hessian_drv.ir_intensities\n",
    "\n",
    "eth_xl, eth_irl = add_broadening(eth_x, eth_ir, line_profile='Lorentzian', line_param=20, step=2)\n",
    "flo_xl, flo_irl = add_broadening(flo_x, flo_ir, line_profile='Lorentzian', line_param=20, step=2)\n",
    "chl_xl, chl_irl = add_broadening(chl_x, chl_ir, line_profile='Lorentzian', line_param=20, step=2)\n",
    "\n",
    "plt.plot(eth_xl, eth_irl, label='Ethene')\n",
    "plt.plot(flo_xl, flo_irl, label='Fluoroethene')\n",
    "plt.plot(chl_xl, chl_irl, label='Chloroethene')\n",
    "\n",
    "plt.xlabel('Wavenumber (cm**-1)')\n",
    "plt.axis(xmin=3200, xmax=3500)\n",
    "plt.axis(ymin=-0.2, ymax=1.5)\n",
    "plt.ylabel('IR intensity (km/mol)')\n",
    "plt.title(\"Calculated IR sepctra, H-stretching region\")\n",
    "plt.legend()\n",
    "plt.tight_layout(); plt.show()"
   ]
  },
  {
   "cell_type": "code",
   "execution_count": 18,
   "id": "32dc3b5c",
   "metadata": {},
   "outputs": [
    {
     "data": {
      "image/png": "[encoded data removed]",
      "text/plain": [
       "<Figure size 504x288 with 1 Axes>"
      ]
     },
     "metadata": {
      "needs_background": "light"
     },
     "output_type": "display_data"
    }
   ],
   "source": [
    "# Plot the Raman spectra\n",
    "plt.figure(figsize=(7,4))\n",
    "\n",
    "eth_x, eth_raman = ethene_hessian_drv.frequencies, ethene_hessian_drv.raman_intensities\n",
    "flo_x, flo_raman = fluoroethene_hessian_drv.frequencies, fluoroethene_hessian_drv.raman_intensities\n",
    "chl_x, chl_raman = chloroethene_hessian_drv.frequencies, chloroethene_hessian_drv.raman_intensities\n",
    "\n",
    "eth_xl, eth_ramanl = add_broadening(eth_x, eth_raman, line_profile='Lorentzian', line_param=20, step=2)\n",
    "flo_xl, flo_ramanl = add_broadening(flo_x, flo_raman, line_profile='Lorentzian', line_param=20, step=2)\n",
    "chl_xl, chl_ramanl = add_broadening(chl_x, chl_raman, line_profile='Lorentzian', line_param=20, step=2)\n",
    "\n",
    "plt.plot(eth_xl, eth_ramanl, label='Ethene')\n",
    "plt.plot(flo_xl, flo_ramanl, label='Fluoroethene')\n",
    "plt.plot(chl_xl, chl_ramanl, label='Chloroethene')\n",
    "\n",
    "plt.xlabel('Wavenumber (cm**-1)')\n",
    "plt.axis(xmin=3200, xmax=3500)\n",
    "plt.axis(ymin=-0.2, ymax=7)\n",
    "plt.ylabel('Raman activity (A**4/amu)')\n",
    "plt.title(\"Calculated Raman sepctra, H-stretching region\")\n",
    "plt.legend()\n",
    "plt.tight_layout(); plt.show()"
   ]
  },
  {
   "cell_type": "code",
   "execution_count": 19,
   "id": "e6306839-a4c5-42ac-a73c-424f4d6c6b7a",
   "metadata": {},
   "outputs": [],
   "source": [
    "# Get the displacements of the normal mode\n",
    "ethene_h1 = get_normal_mode(ethene, ethene_hessian_drv.normal_modes[-1])\n",
    "fluoroethene_h1 = get_normal_mode(fluoroethene, fluoroethene_hessian_drv.normal_modes[-1])\n",
    "chloroethene_h1 = get_normal_mode(chloroethene, chloroethene_hessian_drv.normal_modes[-1])"
   ]
  },
  {
   "cell_type": "code",
   "execution_count": 20,
   "id": "0928f5e6-2370-4c4f-b28a-6bd79d8a103b",
   "metadata": {},
   "outputs": [
    {
     "data": {
      "application/3dmoljs_load.v0": "<div id=\"3dmolviewer_16562170126107595\"  style=\"position: relative; width: 600px; height: 200px\">\n        <p id=\"3dmolwarning_16562170126107595\" style=\"background-color:#ffcccc;color:black\">You appear to be running in JupyterLab (or JavaScript failed to load for some other reason).  You need to install the 3dmol extension: <br>\n        <tt>jupyter labextension install jupyterlab_3dmol</tt></p>\n        </div>\n<script>\n\nvar loadScriptAsync = function(uri){\n  return new Promise((resolve, reject) => {\n    var tag = document.createElement('script');\n    tag.src = uri;\n    tag.async = true;\n    tag.onload = () => {\n      resolve();\n    };\n  var firstScriptTag = document.getElementsByTagName('script')[0];\n  firstScriptTag.parentNode.insertBefore(tag, firstScriptTag);\n});\n};\n\nif(typeof $3Dmolpromise === 'undefined') {\n$3Dmolpromise = null;\n  $3Dmolpromise = loadScriptAsync('https://3dmol.org/build/3Dmol.js');\n}\n\nvar viewer_16562170126107595 = null;\nvar warn = document.getElementById(\"3dmolwarning_16562170126107595\");\nif(warn) {\n    warn.parentNode.removeChild(warn);\n}\n$3Dmolpromise.then(function() {\nvar viewergrid_16562170126107595 = null;\nviewergrid_16562170126107595 = $3Dmol.createViewerGrid($(\"#3dmolviewer_16562170126107595\"),{rows: 1, cols: 3, control_all: true},{backgroundColor:\"white\"});\nviewer_16562170126107595 = viewergrid_16562170126107595[0][0];\nviewergrid_16562170126107595[0][0].zoomTo();viewergrid_16562170126107595[0][1].zoomTo();viewergrid_16562170126107595[0][2].zoomTo();\tviewergrid_16562170126107595[0][0].addModel(\"6\\n\\nC       0.0000000      -0.6639840       0.0000000      -0.0703183      -0.0000143       0.0000006\\nC       0.0000000       0.6639840       0.0000000      -0.0703781       0.0000340      -0.0000024\\nH       0.9197960      -1.2230610       0.0000000       0.4187310      -0.2679059       0.0000017\\nH      -0.9197960      -1.2230610       0.0000000       0.4191585       0.2680309      -0.0000007\\nH       0.9197960       1.2230610       0.0000000       0.4189350       0.2680011       0.0000089\\nH      -0.9197960       1.2230610       0.0000000       0.4196538      -0.2683619       0.0000112\\n\",\"xyz\",{\"vibrate\": {\"frames\": 10, \"amplitude\": 0.75}});\n\tviewergrid_16562170126107595[0][1].addModel(\"6\\n\\nC       0.0000000      -0.6639840       0.0000000       0.0412380       0.0436301      -0.0000000\\nC       0.0000000       0.6639840       0.0000000       0.0754202      -0.0041440       0.0000000\\nF       1.5197960      -1.2230610       0.0000000      -0.0006345       0.0001596       0.0000000\\nH      -0.9197960      -1.2230610       0.0000000      -0.4739430      -0.4411036       0.0000000\\nH       0.9197960       1.2230610       0.0000000      -0.3781468      -0.2912463      -0.0000001\\nH      -0.9197960       1.2230610       0.0000000      -0.5260013       0.2588416      -0.0000000\\n\",\"xyz\",{\"vibrate\": {\"frames\": 10, \"amplitude\": 0.75}});\n\tviewergrid_16562170126107595[0][2].addModel(\"6\\n\\nC       0.0000000      -0.6639840       0.0000000      -0.0620847      -0.0573365      -0.0000000\\nC       0.0000000       0.6639840       0.0000000      -0.0351767       0.0100308       0.0000000\\nCl       1.5197960      -1.2230610       0.0000000       0.0002712      -0.0000132       0.0000000\\nH      -0.9197960      -1.2230610       0.0000000       0.7288853       0.5784352      -0.0000000\\nH       0.9197960       1.2230610       0.0000000       0.1725103       0.1238072      -0.0000000\\nH      -0.9197960       1.2230610       0.0000000       0.2479896      -0.1381017       0.0000000\\n\",\"xyz\",{\"vibrate\": {\"frames\": 10, \"amplitude\": 0.75}});\n\tviewergrid_16562170126107595[0][0].setStyle({\"stick\": {}});\n\tviewergrid_16562170126107595[0][1].setStyle({\"stick\": {}});\n\tviewergrid_16562170126107595[0][2].setStyle({\"stick\": {}});\n\tviewergrid_16562170126107595[0][0].animate({\"loop\": \"backAndForth\"});\n\tviewergrid_16562170126107595[0][1].animate({\"loop\": \"backAndForth\"});\n\tviewergrid_16562170126107595[0][2].animate({\"loop\": \"backAndForth\"});\n\tviewergrid_16562170126107595[0][0].zoomTo();\n\tviewergrid_16562170126107595[0][1].zoomTo();\n\tviewergrid_16562170126107595[0][2].zoomTo();\nviewergrid_16562170126107595[0][2].render();\nviewergrid_16562170126107595[0][1].render();\nviewergrid_16562170126107595[0][0].render();\n});\n</script>",
      "text/html": [
       "<div id=\"3dmolviewer_16562170126107595\"  style=\"position: relative; width: 600px; height: 200px\">\n",
       "        <p id=\"3dmolwarning_16562170126107595\" style=\"background-color:#ffcccc;color:black\">You appear to be running in JupyterLab (or JavaScript failed to load for some other reason).  You need to install the 3dmol extension: <br>\n",
       "        <tt>jupyter labextension install jupyterlab_3dmol</tt></p>\n",
       "        </div>\n",
       "<script>\n",
       "\n",
       "var loadScriptAsync = function(uri){\n",
       "  return new Promise((resolve, reject) => {\n",
       "    var tag = document.createElement('script');\n",
       "    tag.src = uri;\n",
       "    tag.async = true;\n",
       "    tag.onload = () => {\n",
       "      resolve();\n",
       "    };\n",
       "  var firstScriptTag = document.getElementsByTagName('script')[0];\n",
       "  firstScriptTag.parentNode.insertBefore(tag, firstScriptTag);\n",
       "});\n",
       "};\n",
       "\n",
       "if(typeof $3Dmolpromise === 'undefined') {\n",
       "$3Dmolpromise = null;\n",
       "  $3Dmolpromise = loadScriptAsync('https://3dmol.org/build/3Dmol.js');\n",
       "}\n",
       "\n",
       "var viewer_16562170126107595 = null;\n",
       "var warn = document.getElementById(\"3dmolwarning_16562170126107595\");\n",
       "if(warn) {\n",
       "    warn.parentNode.removeChild(warn);\n",
       "}\n",
       "$3Dmolpromise.then(function() {\n",
       "var viewergrid_16562170126107595 = null;\n",
       "viewergrid_16562170126107595 = $3Dmol.createViewerGrid($(\"#3dmolviewer_16562170126107595\"),{rows: 1, cols: 3, control_all: true},{backgroundColor:\"white\"});\n",
       "viewer_16562170126107595 = viewergrid_16562170126107595[0][0];\n",
       "viewergrid_16562170126107595[0][0].zoomTo();viewergrid_16562170126107595[0][1].zoomTo();viewergrid_16562170126107595[0][2].zoomTo();\tviewergrid_16562170126107595[0][0].addModel(\"6\\n\\nC       0.0000000      -0.6639840       0.0000000      -0.0703183      -0.0000143       0.0000006\\nC       0.0000000       0.6639840       0.0000000      -0.0703781       0.0000340      -0.0000024\\nH       0.9197960      -1.2230610       0.0000000       0.4187310      -0.2679059       0.0000017\\nH      -0.9197960      -1.2230610       0.0000000       0.4191585       0.2680309      -0.0000007\\nH       0.9197960       1.2230610       0.0000000       0.4189350       0.2680011       0.0000089\\nH      -0.9197960       1.2230610       0.0000000       0.4196538      -0.2683619       0.0000112\\n\",\"xyz\",{\"vibrate\": {\"frames\": 10, \"amplitude\": 0.75}});\n",
       "\tviewergrid_16562170126107595[0][1].addModel(\"6\\n\\nC       0.0000000      -0.6639840       0.0000000       0.0412380       0.0436301      -0.0000000\\nC       0.0000000       0.6639840       0.0000000       0.0754202      -0.0041440       0.0000000\\nF       1.5197960      -1.2230610       0.0000000      -0.0006345       0.0001596       0.0000000\\nH      -0.9197960      -1.2230610       0.0000000      -0.4739430      -0.4411036       0.0000000\\nH       0.9197960       1.2230610       0.0000000      -0.3781468      -0.2912463      -0.0000001\\nH      -0.9197960       1.2230610       0.0000000      -0.5260013       0.2588416      -0.0000000\\n\",\"xyz\",{\"vibrate\": {\"frames\": 10, \"amplitude\": 0.75}});\n",
       "\tviewergrid_16562170126107595[0][2].addModel(\"6\\n\\nC       0.0000000      -0.6639840       0.0000000      -0.0620847      -0.0573365      -0.0000000\\nC       0.0000000       0.6639840       0.0000000      -0.0351767       0.0100308       0.0000000\\nCl       1.5197960      -1.2230610       0.0000000       0.0002712      -0.0000132       0.0000000\\nH      -0.9197960      -1.2230610       0.0000000       0.7288853       0.5784352      -0.0000000\\nH       0.9197960       1.2230610       0.0000000       0.1725103       0.1238072      -0.0000000\\nH      -0.9197960       1.2230610       0.0000000       0.2479896      -0.1381017       0.0000000\\n\",\"xyz\",{\"vibrate\": {\"frames\": 10, \"amplitude\": 0.75}});\n",
       "\tviewergrid_16562170126107595[0][0].setStyle({\"stick\": {}});\n",
       "\tviewergrid_16562170126107595[0][1].setStyle({\"stick\": {}});\n",
       "\tviewergrid_16562170126107595[0][2].setStyle({\"stick\": {}});\n",
       "\tviewergrid_16562170126107595[0][0].animate({\"loop\": \"backAndForth\"});\n",
       "\tviewergrid_16562170126107595[0][1].animate({\"loop\": \"backAndForth\"});\n",
       "\tviewergrid_16562170126107595[0][2].animate({\"loop\": \"backAndForth\"});\n",
       "\tviewergrid_16562170126107595[0][0].zoomTo();\n",
       "\tviewergrid_16562170126107595[0][1].zoomTo();\n",
       "\tviewergrid_16562170126107595[0][2].zoomTo();\n",
       "viewergrid_16562170126107595[0][2].render();\n",
       "viewergrid_16562170126107595[0][1].render();\n",
       "viewergrid_16562170126107595[0][0].render();\n",
       "});\n",
       "</script>"
      ]
     },
     "metadata": {},
     "output_type": "display_data"
    }
   ],
   "source": [
    "# Animate the vibration\n",
    "view = p3d.view(viewergrid=(1,3), width=600, height=200, linked=True)\n",
    "view.addModel(ethene_h1, \"xyz\", {'vibrate': {'frames':10,'amplitude':0.75}}, viewer=(0,0))\n",
    "view.addModel(fluoroethene_h1, \"xyz\", {'vibrate': {'frames':10,'amplitude':0.75}}, viewer=(0,1))\n",
    "view.addModel(chloroethene_h1, \"xyz\", {'vibrate': {'frames':10,'amplitude':0.75}}, viewer=(0,2))\n",
    "view.setStyle({'stick':{}})\n",
    "view.animate({'loop': 'backAndForth'})\n",
    "view.zoomTo()\n",
    "view.show()"
   ]
  },
  {
   "cell_type": "markdown",
   "id": "4330b398-12d7-4686-b3f0-c8556a3a28a8",
   "metadata": {},
   "source": [
    "## IR intensities and Raman activities\n",
    "\n",
    "To rationalize why the IR and Raman spectra look as they do, calculate how the dipole moment and polarizability change during particular vibrational motions. Look at the Hydrogen stretching modes and select a mode which is IR-active in ethene, but is suppressed in fluoroethene or chloroethene. What is the dipole moment in the optimized molecule? How does the dipole moment change during the vibration? "
   ]
  },
  {
   "cell_type": "markdown",
   "id": "2e5505c8-e931-4e0c-86cc-b58895d0b2b5",
   "metadata": {},
   "source": [
    "```python\n",
    "# Calculate the dipole moment of the optimized molecules\n",
    "# For this we will use the FirstOrderProperties class from veloxchem\n",
    "ethene_prop = vlx.firstorderprop.FirstOrderProperties()\n",
    "ethene_prop.compute_scf_prop(opt_ethene, ethene_basis, ethene_scfdrv.scf_tensors)\n",
    "ethene_dipole_moment = ethene_prop.get_property('dipole moment')\n",
    "...\n",
    "\n",
    "# Select normal mode and get the array of atomic displacements\n",
    "...\n",
    "\n",
    "# Use the atomic displacement array to construct several new molecular configurations\n",
    "# along the vibrational mode, e.g. -0.75, -0.5, -0.25, 0.25, 0.5, 0.75 displacement \n",
    "...\n",
    "\n",
    "# Calculate the dipole moment for the new configurations\n",
    "...\n",
    "\n",
    "# Plot as a function of displacement\n",
    "...\n",
    "```"
   ]
  },
  {
   "cell_type": "code",
   "execution_count": 21,
   "id": "5d18f59e-a011-4d56-9691-e21da2adcec6",
   "metadata": {
    "tags": [
     "hide-output",
     "hide-input"
    ]
   },
   "outputs": [
    {
     "name": "stdout",
     "output_type": "stream",
     "text": [
      "Ground state dipole moments:   x             y            z       \n",
      "\n",
      "Ethene                     : -0.00 a.u.     0.00 a.u.   -0.00 a.u.\n",
      "Fluoroethene               : -0.79 a.u.     0.39 a.u.    0.00 a.u.\n",
      "Chloroethene               : -0.77 a.u.     0.59 a.u.    0.00 a.u.\n",
      "\n"
     ]
    },
    {
     "data": {
      "image/png": "[encoded data removed]",
      "text/plain": [
       "<Figure size 864x288 with 2 Axes>"
      ]
     },
     "metadata": {
      "needs_background": "light"
     },
     "output_type": "display_data"
    }
   ],
   "source": [
    "ethene_prop = vlx.firstorderprop.FirstOrderProperties()\n",
    "ethene_prop.compute_scf_prop(opt_ethene, ethene_basis, ethene_scfdrv.scf_tensors)\n",
    "ethene_dipole_moment = ethene_prop.get_property('dipole moment')\n",
    "\n",
    "fluoroethene_prop = vlx.firstorderprop.FirstOrderProperties()\n",
    "fluoroethene_prop.compute_scf_prop(opt_fluoroethene, fluoroethene_basis, fluoroethene_scfdrv.scf_tensors)\n",
    "fluoroethene_dipole_moment = fluoroethene_prop.get_property('dipole moment')\n",
    "\n",
    "chloroethene_prop = vlx.firstorderprop.FirstOrderProperties()\n",
    "chloroethene_prop.compute_scf_prop(opt_chloroethene, chloroethene_basis, chloroethene_scfdrv.scf_tensors)\n",
    "chloroethene_dipole_moment = chloroethene_prop.get_property('dipole moment')\n",
    "\n",
    "print(\"Ground state dipole moments:   x             y            z       \\n\")\n",
    "print(\"Ethene                     : %5.2f a.u.    %5.2f a.u.   %5.2f a.u.\" % (ethene_dipole_moment[0],\n",
    "                                                           ethene_dipole_moment[1],\n",
    "                                                           ethene_dipole_moment[2] ))\n",
    "print(\"Fluoroethene               : %5.2f a.u.    %5.2f a.u.   %5.2f a.u.\" % (fluoroethene_dipole_moment[0],\n",
    "                                                           fluoroethene_dipole_moment[1],\n",
    "                                                           fluoroethene_dipole_moment[2] ))\n",
    "print(\"Chloroethene               : %5.2f a.u.    %5.2f a.u.   %5.2f a.u.\" % (chloroethene_dipole_moment[0],\n",
    "                                                           chloroethene_dipole_moment[1],\n",
    "                                                           chloroethene_dipole_moment[2] ))\n",
    "print()\n",
    "\n",
    "ethene_moments = []\n",
    "fluoroethene_moments = []\n",
    "\n",
    "natm = opt_ethene.number_of_atoms()\n",
    "\n",
    "new_ethene_scfdrv = vlx.scfrestdriver.ScfRestrictedDriver()\n",
    "new_ethene_scfdrv.ostream.state=False\n",
    "ethene_displacements = ethene_hessian_drv.normal_modes[-1].reshape(natm, 3)\n",
    "ethene_labels = opt_ethene.get_labels()\n",
    "\n",
    "new_fluoroethene_scfdrv = vlx.scfrestdriver.ScfRestrictedDriver()\n",
    "new_fluoroethene_scfdrv.ostream.state=False\n",
    "fluoroethene_displacements = fluoroethene_hessian_drv.normal_modes[-1].reshape(natm, 3)\n",
    "fluoroethene_labels = opt_fluoroethene.get_labels()\n",
    "\n",
    "x_list = np.arange(-0.8,0.81,0.2)\n",
    "\n",
    "# Calculate the dipole moment for different displacements\n",
    "for x in x_list:\n",
    "    ethene_coords = opt_ethene.get_coordinates() * bohr_in_angstroms()\n",
    "    ethene_coords += x * ethene_displacements\n",
    "    new_ethene = vlx.molecule.Molecule(ethene_labels, ethene_coords, units='angstrom')\n",
    "    new_ethene_scfdrv.compute(new_ethene, ethene_basis)\n",
    "    ethene_prop.compute_scf_prop(new_ethene, ethene_basis, new_ethene_scfdrv.scf_tensors)\n",
    "    ethene_dipole_moment = ethene_prop.get_property('dipole moment')\n",
    "    ethene_moments.append(ethene_dipole_moment)\n",
    "\n",
    "for x in x_list:\n",
    "    fluoro_coords = opt_fluoroethene.get_coordinates() * bohr_in_angstroms()\n",
    "    fluoro_coords += x * fluoroethene_displacements\n",
    "    new_fluoroethene = vlx.molecule.Molecule(fluoroethene_labels, fluoro_coords, units='angstrom')\n",
    "    new_fluoroethene_scfdrv.compute(new_fluoroethene, fluoroethene_basis)\n",
    "    ethene_prop.compute_scf_prop(new_fluoroethene, fluoroethene_basis, new_fluoroethene_scfdrv.scf_tensors)\n",
    "    fluoroethene_dipole_moment = fluoroethene_prop.get_property('dipole moment')\n",
    "    fluoroethene_moments.append(fluoroethene_dipole_moment)\n",
    "    \n",
    "\n",
    "ethene_moments_array = np.array(ethene_moments)\n",
    "fluoroethene_moments_array = np.array(fluoroethene_moments)\n",
    "\n",
    "# Plot\n",
    "figure = plt.figure(figsize=(12,4))\n",
    "\n",
    "plt1 = figure.add_subplot(1, 2, 1)\n",
    "plt.plot(x_list, ethene_moments_array[:,0], '-o', label='x')\n",
    "plt.plot(x_list, ethene_moments_array[:,1], '-o', label='y')\n",
    "plt.plot(x_list, ethene_moments_array[:,2], '-o', label='z')\n",
    "plt.axis(xmin=-0.85, xmax=0.85)\n",
    "plt.xlabel('Displacement (%)')\n",
    "plt.ylabel('Dipole moment (a.u.)')\n",
    "plt.title(\"Ethene Dipole Moment along the %.2f cm-1 mode\" % ethene_hessian_drv.frequencies[-1])\n",
    "plt.legend()\n",
    "\n",
    "plt2 = figure.add_subplot(1, 2, 2)\n",
    "plt.plot(x_list, fluoroethene_moments_array[:,0], '-o', label='x')\n",
    "plt.plot(x_list, fluoroethene_moments_array[:,1], '-o', label='y')\n",
    "plt.plot(x_list, fluoroethene_moments_array[:,2], '-o', label='z')\n",
    "plt.axis(xmin=-0.85, xmax=0.85)\n",
    "plt.xlabel('Displacement (%)')\n",
    "plt.ylabel('Dipole moment (a.u.)')\n",
    "plt.title(\"Fluoroethene dipole moment along the %.2f cm-1 mode\" % fluoroethene_hessian_drv.frequencies[-1])\n",
    "plt.legend()\n",
    "\n",
    "plt.tight_layout(); plt.show()"
   ]
  },
  {
   "cell_type": "code",
   "execution_count": null,
   "id": "b1c3e15b",
   "metadata": {
    "tags": [
     "hide-output",
     "hide-input"
    ]
   },
   "outputs": [],
   "source": []
  },
  {
   "cell_type": "markdown",
   "id": "d3d24781-13da-4ab2-a384-97c60f9a4ead",
   "metadata": {},
   "source": [
    "Now select a mode which is Raman-active in ethene, but is suppressed in fluoroethene or chloroethene. Calculate the polarizability of the optimized molecule. How does the polarizability change during the vibration? "
   ]
  },
  {
   "cell_type": "markdown",
   "id": "9713c000-4ec7-4f26-a7ed-5e1a4e9a2302",
   "metadata": {},
   "source": [
    "```python\n",
    "# Calculate the polarizability of the optimized molecules\n",
    "# For this, we need to run a linear response calculation\n",
    "ethene_lrdrv = vlx.lrsolver.LinearResponseSolver()\n",
    "ethene_pol_dict = ethene_lrdrv.compute(opt_ethene, ethene_basis, ethene_scfdrv.scf_tensors)\n",
    "ethene_polarizability = ethene_pol_dict['response_functions']\n",
    "...\n",
    "\n",
    "# Select normal mode and get the array of atomic displacements\n",
    "...\n",
    "\n",
    "# Use the atomic displacement array to construct several new molecular configurations\n",
    "# along the vibrational mode, e.g. -0.75, -0.5, -0.25, 0.25, 0.5, 0.75 displacement \n",
    "...\n",
    "\n",
    "# Calculate the polarizability for the new configurations\n",
    "...\n",
    "\n",
    "# Plot component or norm as a function of displacement\n",
    "...\n",
    "```"
   ]
  },
  {
   "cell_type": "code",
   "execution_count": 22,
   "id": "e1c308ba-c56b-4a82-aed4-47610ddfa9c7",
   "metadata": {
    "tags": [
     "hide-output",
     "hide-input"
    ]
   },
   "outputs": [
    {
     "name": "stdout",
     "output_type": "stream",
     "text": [
      "Ground state polarizabilities:    xx             yy           zz\n",
      "\n",
      "Ethene                       : -19.19 a.u.    -32.45 a.u.   -7.15 a.u.\n",
      "Fluoroethene                 : -18.86 a.u.    -30.62 a.u.   -7.81 a.u.\n",
      "Chloroethene                 : -31.94 a.u.    -41.05 a.u.   -10.12 a.u.\n",
      "\n"
     ]
    },
    {
     "data": {
      "image/png": "[encoded data removed]",
      "text/plain": [
       "<Figure size 864x288 with 2 Axes>"
      ]
     },
     "metadata": {
      "needs_background": "light"
     },
     "output_type": "display_data"
    }
   ],
   "source": [
    "# Calculate the polarizability of the optimized molecules\n",
    "# For this, we need to run a linear response calculation\n",
    "ethene_lrdrv = vlx.lrsolver.LinearResponseSolver()\n",
    "ethene_lrdrv.ostream.state = False\n",
    "ethene_pol_dict = ethene_lrdrv.compute(opt_ethene, ethene_basis, ethene_scfdrv.scf_tensors)\n",
    "ethene_polarizability = ethene_pol_dict['response_functions']\n",
    "\n",
    "fluoroethene_lrdrv = vlx.lrsolver.LinearResponseSolver()\n",
    "fluoroethene_lrdrv.ostream.state = False\n",
    "fluoroethene_pol_dict = fluoroethene_lrdrv.compute(opt_fluoroethene, fluoroethene_basis, fluoroethene_scfdrv.scf_tensors)\n",
    "fluoroethene_polarizability = fluoroethene_pol_dict['response_functions']\n",
    "\n",
    "chloroethene_lrdrv = vlx.lrsolver.LinearResponseSolver()\n",
    "chloroethene_lrdrv.ostream.state = False\n",
    "chloroethene_pol_dict = chloroethene_lrdrv.compute(opt_chloroethene, chloroethene_basis, chloroethene_scfdrv.scf_tensors)\n",
    "chloroethene_polarizability = chloroethene_pol_dict['response_functions']\n",
    "\n",
    "print(\"Ground state polarizabilities:    xx             yy           zz\\n\")\n",
    "print(\"Ethene                       : %5.2f a.u.    %5.2f a.u.   %5.2f a.u.\"  % (ethene_polarizability[('x','x',0)],\n",
    "                                                           ethene_polarizability[('y','y',0)],\n",
    "                                                           ethene_polarizability[('z','z',0)]))\n",
    "print(\"Fluoroethene                 : %5.2f a.u.    %5.2f a.u.   %5.2f a.u.\" % (fluoroethene_polarizability[('x','x',0)],\n",
    "                                                           fluoroethene_polarizability[('y','y',0)],\n",
    "                                                           fluoroethene_polarizability[('z','z',0)]))\n",
    "print(\"Chloroethene                 : %5.2f a.u.    %5.2f a.u.   %5.2f a.u.\" % (chloroethene_polarizability[('x','x',0)],\n",
    "                                                           chloroethene_polarizability[('y','y',0)],\n",
    "                                                           chloroethene_polarizability[('z','z',0)]))\n",
    "print()\n",
    "\n",
    "# Save polarizability dictionary keys\n",
    "keys = ethene_pol_dict['response_functions'].keys()\n",
    "\n",
    "ethene_pol = []\n",
    "fluoroethene_pol = []\n",
    "\n",
    "# Create new linear response solvers to re-calculate the polarizabilities\n",
    "new_ethene_lrdrv = vlx.lrsolver.LinearResponseSolver()\n",
    "new_ethene_lrdrv.ostream.state = False\n",
    "\n",
    "new_fluoroethene_lrdrv = vlx.lrsolver.LinearResponseSolver()\n",
    "new_fluoroethene_lrdrv.ostream.state = False\n",
    "\n",
    "# Calculate the polarizability for different displacements\n",
    "for x in x_list:\n",
    "    ethene_coords = opt_ethene.get_coordinates() * bohr_in_angstroms()\n",
    "    ethene_coords += x * ethene_displacements\n",
    "    new_ethene = vlx.molecule.Molecule(ethene_labels, ethene_coords, units='angstrom')\n",
    "    new_ethene_scfdrv.compute(new_ethene, ethene_basis)\n",
    "\n",
    "    new_ethene_lrdrv.is_converged = False\n",
    "    new_ethene_pol_dict = new_ethene_lrdrv.compute(new_ethene, ethene_basis, new_ethene_scfdrv.scf_tensors)\n",
    "    \n",
    "    ethene_polarizability = np.zeros((9))\n",
    "    i = 0\n",
    "    for key in keys:\n",
    "        ethene_polarizability[i] = new_ethene_pol_dict['response_functions'][key]\n",
    "        i += 1\n",
    "    ethene_pol.append(ethene_polarizability.reshape(3,3))\n",
    "\n",
    "for x in x_list:\n",
    "    fluoro_coords = opt_fluoroethene.get_coordinates() * bohr_in_angstroms()\n",
    "    fluoro_coords += x * fluoroethene_displacements\n",
    "    new_fluoroethene = vlx.molecule.Molecule(fluoroethene_labels, fluoro_coords, units='angstrom')\n",
    "    new_fluoroethene_scfdrv.compute(new_fluoroethene, fluoroethene_basis)\n",
    "\n",
    "    new_fluoroethene_lrdrv.is_converged = False\n",
    "    new_fluoroethene_pol_dict = new_fluoroethene_lrdrv.compute(new_fluoroethene, fluoroethene_basis, new_fluoroethene_scfdrv.scf_tensors)\n",
    "    \n",
    "    fluoroethene_polarizability = np.zeros((9))\n",
    "    i = 0\n",
    "    for key in keys:\n",
    "        fluoroethene_polarizability[i] = new_fluoroethene_pol_dict['response_functions'][key]\n",
    "        i += 1\n",
    "    fluoroethene_pol.append(fluoroethene_polarizability.reshape(3,3))\n",
    "\n",
    "ethene_polarizability_array = np.array(ethene_pol)\n",
    "fluoroethene_polarizability_array = np.array(fluoroethene_pol)\n",
    "\n",
    "figure = plt.figure(figsize=(12,4))\n",
    "\n",
    "# Plot\n",
    "plt1 = figure.add_subplot(1, 2, 1)\n",
    "plt.plot(x_list, ethene_polarizability_array[:,0,0], '-o', label='xx')\n",
    "plt.plot(x_list, ethene_polarizability_array[:,1,1], '-o', label='yy')\n",
    "plt.plot(x_list, ethene_polarizability_array[:,2,2], '-o', label='zz')\n",
    "plt.axis(xmin=-0.85, xmax=0.85)\n",
    "plt.xlabel('Displacement (%)')\n",
    "plt.ylabel('Polarizability (a.u.)')\n",
    "plt.title(\"Ethene polarizability along the %.2f cm-1 mode \" % (ethene_hessian_drv.frequencies[-1]))\n",
    "plt.legend()\n",
    "\n",
    "plt2 = figure.add_subplot(1, 2, 2)\n",
    "plt.plot(x_list, fluoroethene_polarizability_array[:,0,0], '-o', label='xx')\n",
    "plt.plot(x_list, fluoroethene_polarizability_array[:,1,1], '-o', label='yy')\n",
    "plt.plot(x_list, fluoroethene_polarizability_array[:,2,2], '-o', label='zz')\n",
    "plt.axis(xmin=-0.85, xmax=0.85)\n",
    "plt.xlabel('Displacement (%)')\n",
    "plt.ylabel('Polarizability (a.u.)')\n",
    "plt.title(\"Fluoroethene polarizability along the %.2f cm-1 mode \" % (fluoroethene_hessian_drv.frequencies[-1]))\n",
    "plt.legend()\n",
    "\n",
    "plt.tight_layout(); plt.show()"
   ]
  }
 ],
 "metadata": {
  "kernelspec": {
   "display_name": "Python 3 (ipykernel)",
   "language": "python",
   "name": "python3"
  },
  "language_info": {
   "codemirror_mode": {
    "name": "ipython",
    "version": 3
   },
   "file_extension": ".py",
   "mimetype": "text/x-python",
   "name": "python",
   "nbconvert_exporter": "python",
   "pygments_lexer": "ipython3",
   "version": "3.9.13"
  }
 },
 "nbformat": 4,
 "nbformat_minor": 5
}
