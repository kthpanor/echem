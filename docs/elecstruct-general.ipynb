{
 "cells": [
  {
   "cell_type": "markdown",
   "id": "4b57bc93",
   "metadata": {},
   "source": [
    "# General aspects\n",
    "\n",
    "In this section we will cover general aspects of electronic structure theory calculations.\n",
    "\n",
    "- [Orbitals](orbitals) <br>\n",
    "An introduction to wave functions and operators for single-electron systems is given.\n",
    "- [Basis sets](basis) <br>\n",
    "How to interact with and use the basis set library.\n",
    "- [Slater determinants](slater) <br>\n",
    "An introduction to wave functions and operators for many-electron systems is given. The expectation value of the Hamiltonian serves as numerical example.\n",
    "- [Second quantization](secondquant) <br>\n",
    "A presentation of the occupation number formalism is given.\n",
    "\n"
   ]
  }
 ],
 "metadata": {
  "kernelspec": {
   "display_name": "Python 3 (ipykernel)",
   "language": "python",
   "name": "python3"
  },
  "language_info": {
   "codemirror_mode": {
    "name": "ipython",
    "version": 3
   },
   "file_extension": ".py",
   "mimetype": "text/x-python",
   "name": "python",
   "nbconvert_exporter": "python",
   "pygments_lexer": "ipython3",
   "version": "3.9.12"
  }
 },
 "nbformat": 4,
 "nbformat_minor": 5
}
