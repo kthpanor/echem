{
 "cells": [
  {
   "cell_type": "markdown",
   "id": "2d916eb3-9b88-4ae0-8afa-e7426d99a0f2",
   "metadata": {
    "editable": true,
    "slideshow": {
     "slide_type": ""
    },
    "tags": []
   },
   "source": [
    "# Non-polarizable embedding\n",
    "\n",
    "Let us consider a system with $N$ electrons and $M$ nuclei in the quantum mechanical (QM) region embedded by a molecular mechanical (MM) region that contains point charges, $q_s$, located at site positions $\\mathbf{R}_s$. In the non-polarizable embedding model, the electrostatic interaction operator between the QM and MM regions is given as\n",
    "\n",
    "$$\n",
    "\\hat{H}^\\mathrm{QM/MM} = V^\\mathrm{n,es} +  \\sum_{i=1}^N\n",
    "\\hat{v}^\\mathrm{es}(i)\n",
    "$$\n",
    "\n",
    "where\n",
    "\n",
    "$$\n",
    "V^\\mathrm{n,es} =\n",
    "\\sum_{A=1}^M \\sum_s\n",
    "\\frac{Z_A e \\, q_s}{4\\pi\\varepsilon_0 |\\mathbf{R}_A - \\mathbf{R}_s|} ; \\qquad\n",
    "%\n",
    "\\hat{v}^\\mathrm{es} = \n",
    "\\sum_s\n",
    "\\frac{-e q_s}{4\\pi\\varepsilon_0 |\\mathbf{r} - \\mathbf{R}_s|}\n",
    "$$\n",
    "\n",
    "To illustrate the concept, we consider the QM/MM embedding of water in water using the Hartree–Fock method. We determine the energy contributions and dipole moment of a QM water molecule embedded by four MM water molecules in a tetrahedral configuration. The oxygen in the QM region acts as donor and acceptor of two [hydrogen bonds](https://en.wikipedia.org/wiki/Hydrogen_bond) each.\n",
    "\n",
    "Let us first define the system coordinates and view the system."
   ]
  },
  {
   "cell_type": "code",
   "execution_count": 1,
   "id": "ec8e9df0-af38-4f88-ae06-6cd97718f7f2",
   "metadata": {
    "tags": [
     "hide-input",
     "remove-output"
    ]
   },
   "outputs": [
    {
     "name": "stdout",
     "output_type": "stream",
     "text": [
      "* Warning * Environment variable OMP_NUM_THREADS not set.\n",
      "* Warning * Setting OMP_NUM_THREADS to 4.\n"
     ]
    }
   ],
   "source": [
    "import numpy as np\n",
    "import py3Dmol\n",
    "import scipy\n",
    "import veloxchem as vlx\n",
    "\n",
    "h2o_xyz = \"\"\"3\n",
    "water\n",
    "O        0.0000000000      0.0000000000      0.0000000000                 \n",
    "H        0.6891400000      0.8324710000      0.0000000000                 \n",
    "H        0.7224340000     -0.8726890000      0.0000000000\n",
    "\"\"\"\n",
    "\n",
    "solvent_xyz = \"\"\"12\n",
    "water solvent\n",
    "O        1.0991810000      2.2167050000      0.2791250000                 \n",
    "H        2.2673500000      2.2529740000      0.6013580000                 \n",
    "H        0.9984050000      2.8080510000     -0.5840690000                 \n",
    "O       -0.8223690000      0.2141140000     -2.3767710000                 \n",
    "H       -1.5990410000      0.8408210000     -2.6698860000                 \n",
    "H       -0.4683410000      0.4151750000     -1.5365150000                 \n",
    "O        1.7377440000     -2.0168380000     -0.4861090000                 \n",
    "H        2.0753880000     -2.2446490000     -1.3654140000                 \n",
    "H        1.6636970000     -2.7516570000      0.0543720000                 \n",
    "O       -1.0758700000     -0.2692330000      2.5139440000                 \n",
    "H       -0.5822670000     -0.1887880000      1.5058600000                 \n",
    "H       -1.1632420000      0.7082890000      2.8568430000 \n",
    "\"\"\"\n",
    "\n",
    "donors_xyz = \"\"\"6\n",
    "water solvent                                  \n",
    "O       -0.8223690000      0.2141140000     -2.3767710000                 \n",
    "H       -1.5990410000      0.8408210000     -2.6698860000                 \n",
    "H       -0.4683410000      0.4151750000     -1.5365150000\n",
    "O       -1.0758700000     -0.2692330000      2.5139440000                 \n",
    "H       -0.5822670000     -0.1887880000      1.5058600000                 \n",
    "H       -1.1632420000      0.7082890000      2.8568430000\n",
    "\"\"\"\n",
    "\n",
    "acceptors_xyz = \"\"\"6\n",
    "water solvent\n",
    "O        1.0991810000      2.2167050000      0.2791250000                 \n",
    "H        2.2673500000      2.2529740000      0.6013580000                 \n",
    "H        0.9984050000      2.8080510000     -0.5840690000\n",
    "O        1.7377440000     -2.0168380000     -0.4861090000                 \n",
    "H        2.0753880000     -2.2446490000     -1.3654140000                 \n",
    "H        1.6636970000     -2.7516570000      0.0543720000              \n",
    "\"\"\""
   ]
  },
  {
   "cell_type": "code",
   "execution_count": 2,
   "id": "bc26862c-d1ad-4336-b72e-0ea87a76178d",
   "metadata": {
    "tags": []
   },
   "outputs": [
    {
     "data": {
      "application/3dmoljs_load.v0": "<div id=\"3dmolviewer_1699624764054816\"  style=\"position: relative; width: 300px; height: 300px;\">\n        <p id=\"3dmolwarning_1699624764054816\" style=\"background-color:#ffcccc;color:black\">You appear to be running in JupyterLab (or JavaScript failed to load for some other reason).  You need to install the 3dmol extension: <br>\n        <tt>jupyter labextension install jupyterlab_3dmol</tt></p>\n        </div>\n<script>\n\nvar loadScriptAsync = function(uri){\n  return new Promise((resolve, reject) => {\n    //this is to ignore the existence of requirejs amd\n    var savedexports, savedmodule;\n    if (typeof exports !== 'undefined') savedexports = exports;\n    else exports = {}\n    if (typeof module !== 'undefined') savedmodule = module;\n    else module = {}\n\n    var tag = document.createElement('script');\n    tag.src = uri;\n    tag.async = true;\n    tag.onload = () => {\n        exports = savedexports;\n        module = savedmodule;\n        resolve();\n    };\n  var firstScriptTag = document.getElementsByTagName('script')[0];\n  firstScriptTag.parentNode.insertBefore(tag, firstScriptTag);\n});\n};\n\nif(typeof $3Dmolpromise === 'undefined') {\n$3Dmolpromise = null;\n  $3Dmolpromise = loadScriptAsync('https://cdnjs.cloudflare.com/ajax/libs/3Dmol/2.0.4/3Dmol-min.js');\n}\n\nvar viewer_1699624764054816 = null;\nvar warn = document.getElementById(\"3dmolwarning_1699624764054816\");\nif(warn) {\n    warn.parentNode.removeChild(warn);\n}\n$3Dmolpromise.then(function() {\nviewer_1699624764054816 = $3Dmol.createViewer(document.getElementById(\"3dmolviewer_1699624764054816\"),{backgroundColor:\"white\"});\nviewer_1699624764054816.zoomTo();\n\tviewer_1699624764054816.addModel(\"3\\nwater\\nO        0.0000000000      0.0000000000      0.0000000000                 \\nH        0.6891400000      0.8324710000      0.0000000000                 \\nH        0.7224340000     -0.8726890000      0.0000000000\\n\");\n\tviewer_1699624764054816.addModel(\"12\\nwater solvent\\nO        1.0991810000      2.2167050000      0.2791250000                 \\nH        2.2673500000      2.2529740000      0.6013580000                 \\nH        0.9984050000      2.8080510000     -0.5840690000                 \\nO       -0.8223690000      0.2141140000     -2.3767710000                 \\nH       -1.5990410000      0.8408210000     -2.6698860000                 \\nH       -0.4683410000      0.4151750000     -1.5365150000                 \\nO        1.7377440000     -2.0168380000     -0.4861090000                 \\nH        2.0753880000     -2.2446490000     -1.3654140000                 \\nH        1.6636970000     -2.7516570000      0.0543720000                 \\nO       -1.0758700000     -0.2692330000      2.5139440000                 \\nH       -0.5822670000     -0.1887880000      1.5058600000                 \\nH       -1.1632420000      0.7082890000      2.8568430000 \\n\");\n\tviewer_1699624764054816.setStyle({\"stick\": {}});\n\tviewer_1699624764054816.setViewStyle({\"style\": \"outline\", \"color\": \"black\", \"width\": 0.1});\n\tviewer_1699624764054816.rotate(45,\"x\");\nviewer_1699624764054816.render();\n});\n</script>",
      "text/html": [
       "<div id=\"3dmolviewer_1699624764054816\"  style=\"position: relative; width: 300px; height: 300px;\">\n",
       "        <p id=\"3dmolwarning_1699624764054816\" style=\"background-color:#ffcccc;color:black\">You appear to be running in JupyterLab (or JavaScript failed to load for some other reason).  You need to install the 3dmol extension: <br>\n",
       "        <tt>jupyter labextension install jupyterlab_3dmol</tt></p>\n",
       "        </div>\n",
       "<script>\n",
       "\n",
       "var loadScriptAsync = function(uri){\n",
       "  return new Promise((resolve, reject) => {\n",
       "    //this is to ignore the existence of requirejs amd\n",
       "    var savedexports, savedmodule;\n",
       "    if (typeof exports !== 'undefined') savedexports = exports;\n",
       "    else exports = {}\n",
       "    if (typeof module !== 'undefined') savedmodule = module;\n",
       "    else module = {}\n",
       "\n",
       "    var tag = document.createElement('script');\n",
       "    tag.src = uri;\n",
       "    tag.async = true;\n",
       "    tag.onload = () => {\n",
       "        exports = savedexports;\n",
       "        module = savedmodule;\n",
       "        resolve();\n",
       "    };\n",
       "  var firstScriptTag = document.getElementsByTagName('script')[0];\n",
       "  firstScriptTag.parentNode.insertBefore(tag, firstScriptTag);\n",
       "});\n",
       "};\n",
       "\n",
       "if(typeof $3Dmolpromise === 'undefined') {\n",
       "$3Dmolpromise = null;\n",
       "  $3Dmolpromise = loadScriptAsync('https://cdnjs.cloudflare.com/ajax/libs/3Dmol/2.0.4/3Dmol-min.js');\n",
       "}\n",
       "\n",
       "var viewer_1699624764054816 = null;\n",
       "var warn = document.getElementById(\"3dmolwarning_1699624764054816\");\n",
       "if(warn) {\n",
       "    warn.parentNode.removeChild(warn);\n",
       "}\n",
       "$3Dmolpromise.then(function() {\n",
       "viewer_1699624764054816 = $3Dmol.createViewer(document.getElementById(\"3dmolviewer_1699624764054816\"),{backgroundColor:\"white\"});\n",
       "viewer_1699624764054816.zoomTo();\n",
       "\tviewer_1699624764054816.addModel(\"3\\nwater\\nO        0.0000000000      0.0000000000      0.0000000000                 \\nH        0.6891400000      0.8324710000      0.0000000000                 \\nH        0.7224340000     -0.8726890000      0.0000000000\\n\");\n",
       "\tviewer_1699624764054816.addModel(\"12\\nwater solvent\\nO        1.0991810000      2.2167050000      0.2791250000                 \\nH        2.2673500000      2.2529740000      0.6013580000                 \\nH        0.9984050000      2.8080510000     -0.5840690000                 \\nO       -0.8223690000      0.2141140000     -2.3767710000                 \\nH       -1.5990410000      0.8408210000     -2.6698860000                 \\nH       -0.4683410000      0.4151750000     -1.5365150000                 \\nO        1.7377440000     -2.0168380000     -0.4861090000                 \\nH        2.0753880000     -2.2446490000     -1.3654140000                 \\nH        1.6636970000     -2.7516570000      0.0543720000                 \\nO       -1.0758700000     -0.2692330000      2.5139440000                 \\nH       -0.5822670000     -0.1887880000      1.5058600000                 \\nH       -1.1632420000      0.7082890000      2.8568430000 \\n\");\n",
       "\tviewer_1699624764054816.setStyle({\"stick\": {}});\n",
       "\tviewer_1699624764054816.setViewStyle({\"style\": \"outline\", \"color\": \"black\", \"width\": 0.1});\n",
       "\tviewer_1699624764054816.rotate(45,\"x\");\n",
       "viewer_1699624764054816.render();\n",
       "});\n",
       "</script>"
      ]
     },
     "metadata": {},
     "output_type": "display_data"
    }
   ],
   "source": [
    "viewer = py3Dmol.view(width=300, height=300, linked=False)\n",
    "\n",
    "viewer.addModel(h2o_xyz)\n",
    "viewer.addModel(solvent_xyz)\n",
    "\n",
    "viewer.setStyle({\"stick\": {}})\n",
    "viewer.setViewStyle({\"style\": \"outline\", \"color\": \"black\", \"width\": 0.1})\n",
    "\n",
    "# rotate for a better initial view\n",
    "viewer.rotate(45, \"x\")\n",
    "\n",
    "viewer.show()"
   ]
  },
  {
   "cell_type": "markdown",
   "id": "631790be-eae0-4f16-b217-429df2afdd93",
   "metadata": {},
   "source": [
    "As a probe of the changes in the electron density of the solute water in the QM region as due to the embedding, we will study the molecular dipole moment. The dipole moment is the sum of its electronic and nuclear parts, where the electronic part is the expectation value of a one-electron operator and the nuclear part is obtained as a sum over point charges:\n",
    "\n",
    "$$\n",
    "\\boldsymbol{\\mu} = \\langle \\hat{\\boldsymbol{\\mu}} \\rangle + \\boldsymbol{\\mu}^\\mathrm{n}\n",
    "$$\n",
    "\n",
    "where \n",
    "\n",
    "$$\n",
    "\\boldsymbol{\\mu}^\\mathrm{n} = \\sum_{A = 1}^M\n",
    "Z_A \\mathbf{R}_A .\n",
    "$$"
   ]
  },
  {
   "cell_type": "code",
   "execution_count": 3,
   "id": "50385714-392e-4045-b955-0b039b1b6ac9",
   "metadata": {},
   "outputs": [],
   "source": [
    "element_charges = {\"H\": 1.0, \"O\": 8.0}"
   ]
  },
  {
   "cell_type": "markdown",
   "id": "c6177413-b272-4106-a5a3-8366464d6c03",
   "metadata": {},
   "source": [
    "We implement a function to determine the dipole moment given the one-particle density matrix in the atomic orbital (AO) basis."
   ]
  },
  {
   "cell_type": "code",
   "execution_count": 4,
   "id": "3a373335-3750-4f5e-a3ec-4021598e6ff2",
   "metadata": {},
   "outputs": [],
   "source": [
    "def dipmom(D):\n",
    "\n",
    "    mu_e = np.zeros(3)\n",
    "    mu_n = np.zeros(3)\n",
    "\n",
    "    # electronic part\n",
    "    mu_e[0] = np.einsum(\"ab, ab\", D, mu_x)\n",
    "    mu_e[1] = np.einsum(\"ab, ab\", D, mu_y)\n",
    "    mu_e[2] = np.einsum(\"ab, ab\", D, mu_z)\n",
    "\n",
    "    # nuclear part\n",
    "    for A, molecule_atom_label in enumerate(molecule.get_labels()):\n",
    "\n",
    "        R_A = np.array(molecule.get_atom_coordinates(A))\n",
    "        Z_A = element_charges[molecule_atom_label]\n",
    "\n",
    "        mu_n += Z_A * R_A\n",
    "\n",
    "    # total dipole moment\n",
    "    mu = mu_e + mu_n\n",
    "\n",
    "    return mu"
   ]
  },
  {
   "cell_type": "markdown",
   "id": "37989809-ab28-445b-b8a6-6a2bcbcb7833",
   "metadata": {},
   "source": [
    "## Gas phase water\n",
    "\n",
    "For reference, we determine the properties of an isolated water molecule."
   ]
  },
  {
   "cell_type": "code",
   "execution_count": 5,
   "id": "ee121a4b-46d7-4b08-92d4-1ac1fe8a0846",
   "metadata": {
    "scrolled": true,
    "tags": [
     "remove-output"
    ]
   },
   "outputs": [
    {
     "name": "stdout",
     "output_type": "stream",
     "text": [
      "* Info * Reading basis set from file: /opt/miniconda3/envs/echem/lib/python3.11/site-packages/veloxchem/basis/CC-PVDZ     \n",
      "                                                                                                                          \n",
      "                                              Molecular Basis (Atomic Basis)                                              \n",
      "                                             ================================                                             \n",
      "                                                                                                                          \n",
      "                               Basis: CC-PVDZ                                                                             \n",
      "                                                                                                                          \n",
      "                               Atom Contracted GTOs           Primitive GTOs                                              \n",
      "                                                                                                                          \n",
      "                                O   (3S,2P,1D)                (17S,4P,1D)                                                 \n",
      "                                H   (2S,1P)                   (4S,1P)                                                     \n",
      "                                                                                                                          \n",
      "                               Contracted Basis Functions : 24                                                            \n",
      "                               Primitive Basis Functions  : 48                                                            \n",
      "                                                                                                                          \n"
     ]
    }
   ],
   "source": [
    "molecule = vlx.Molecule.read_xyz_string(h2o_xyz)\n",
    "basis = vlx.MolecularBasis.read(molecule, \"cc-pvdz\")\n",
    "\n",
    "nocc = molecule.number_of_alpha_electrons()\n",
    "V_nuc = molecule.nuclear_repulsion_energy()"
   ]
  },
  {
   "cell_type": "markdown",
   "id": "25214e8c-b037-4cff-a0ea-49169e60d187",
   "metadata": {},
   "source": [
    "### SCF calculation"
   ]
  },
  {
   "cell_type": "markdown",
   "id": "2bce1a94-3959-4db3-81da-4878d7d26223",
   "metadata": {},
   "source": [
    "We first retrieve needed one- and two-electron integrals in the AO basis."
   ]
  },
  {
   "cell_type": "code",
   "execution_count": 6,
   "id": "c3765901-0304-40f0-a036-1dcffc186889",
   "metadata": {
    "tags": [
     "hide-input"
    ]
   },
   "outputs": [],
   "source": [
    "# overlap\n",
    "overlap_drv = vlx.OverlapIntegralsDriver()\n",
    "S = overlap_drv.compute(molecule, basis).to_numpy()\n",
    "\n",
    "# electric-dipole\n",
    "dipole_drv = vlx.ElectricDipoleIntegralsDriver()\n",
    "\n",
    "dipole_mats = dipole_drv.compute(molecule, basis)\n",
    "\n",
    "mu_x = -1.0 * dipole_mats.x_to_numpy()\n",
    "mu_y = -1.0 * dipole_mats.y_to_numpy()\n",
    "mu_z = -1.0 * dipole_mats.z_to_numpy()\n",
    "\n",
    "# kinetic energy\n",
    "kinetic_drv = vlx.KineticEnergyIntegralsDriver()\n",
    "T = kinetic_drv.compute(molecule, basis).to_numpy()\n",
    "\n",
    "# nuclear attraction\n",
    "nucpot_drv = vlx.NuclearPotentialIntegralsDriver()\n",
    "V = -1.0 * nucpot_drv.compute(molecule, basis).to_numpy()\n",
    "\n",
    "# one-electron Hamiltonian\n",
    "h = T + V\n",
    "\n",
    "# two-electron Hamiltonian\n",
    "eri_drv = vlx.ElectronRepulsionIntegralsDriver()\n",
    "g = eri_drv.compute_in_memory(molecule, basis)"
   ]
  },
  {
   "cell_type": "markdown",
   "id": "26347588-9abe-461d-8252-b053d1186ae9",
   "metadata": {},
   "source": [
    "The SCF optimization is performed with the following solver, see the [Hartree-Fock section](../elec_struct/hartree-fock) for details."
   ]
  },
  {
   "cell_type": "code",
   "execution_count": 7,
   "id": "08326b84-cd72-40f7-a688-1d872b2b9d16",
   "metadata": {},
   "outputs": [],
   "source": [
    "def scf_solver(h, V_nuc, C):\n",
    "\n",
    "    max_iter = 50\n",
    "    conv_thresh = 1e-4\n",
    "\n",
    "    print(\"iter      SCF energy    Error norm\")\n",
    "\n",
    "    for iter in range(max_iter):\n",
    "\n",
    "        D_alpha = np.einsum(\"ik,jk->ij\", C[:, :nocc], C[:, :nocc])\n",
    "\n",
    "        J = np.einsum(\"ijkl,kl->ij\", g, D_alpha)\n",
    "        K = np.einsum(\"ilkj,kl->ij\", g, D_alpha)\n",
    "        F = h + 2 * J - K\n",
    "\n",
    "        E = np.einsum(\"ij,ij->\", h + F, D_alpha) + V_nuc\n",
    "\n",
    "        # compute convergence metric\n",
    "        F_MO = np.einsum(\"ki,kl,lj->ij\", C, F, C)\n",
    "        e_vec = np.reshape(F_MO[:nocc, nocc:], -1)\n",
    "        error = np.linalg.norm(e_vec)\n",
    "        print(f\"{iter:>2d}  {E:16.8f}  {error:10.2e}\")\n",
    "\n",
    "        if error < conv_thresh:\n",
    "            print(\"SCF iterations converged!\")\n",
    "            break\n",
    "\n",
    "        epsilon, C = scipy.linalg.eigh(F, S)\n",
    "\n",
    "    return E, C"
   ]
  },
  {
   "cell_type": "markdown",
   "id": "079ae424-3295-4e4e-993b-0224c4618ef1",
   "metadata": {},
   "source": [
    "We perform an SCF optimization to get the Hartree–Fock wave function of an isolated water molecule."
   ]
  },
  {
   "cell_type": "code",
   "execution_count": 8,
   "id": "59ce2352-f81e-447d-aed3-940162a43073",
   "metadata": {
    "scrolled": true,
    "tags": [
     "remove-output"
    ]
   },
   "outputs": [
    {
     "name": "stdout",
     "output_type": "stream",
     "text": [
      "iter      SCF energy    Error norm\n",
      " 0      -68.97278671    1.97e+00\n",
      " 1      -69.54016846    1.83e+00\n",
      " 2      -72.78571482    1.77e+00\n",
      " 3      -72.80872293    1.48e+00\n",
      " 4      -74.05300746    1.49e+00\n",
      " 5      -74.77710497    1.14e+00\n",
      " 6      -75.34750222    9.29e-01\n",
      " 7      -75.66180142    6.38e-01\n",
      " 8      -75.83364767    4.64e-01\n",
      " 9      -75.91583567    3.07e-01\n",
      "10      -75.95476888    2.12e-01\n",
      "11      -75.97240552    1.41e-01\n",
      "12      -75.98042144    9.52e-02\n",
      "13      -75.98400915    6.33e-02\n",
      "14      -75.98562135    4.25e-02\n",
      "15      -75.98634173    2.84e-02\n",
      "16      -75.98666440    1.90e-02\n",
      "17      -75.98680860    1.27e-02\n",
      "18      -75.98687312    8.50e-03\n",
      "19      -75.98690196    5.68e-03\n",
      "20      -75.98691487    3.80e-03\n",
      "21      -75.98692063    2.54e-03\n",
      "22      -75.98692321    1.70e-03\n",
      "23      -75.98692437    1.14e-03\n",
      "24      -75.98692488    7.60e-04\n",
      "25      -75.98692511    5.08e-04\n",
      "26      -75.98692522    3.40e-04\n",
      "27      -75.98692526    2.27e-04\n",
      "28      -75.98692528    1.52e-04\n",
      "29      -75.98692529    1.02e-04\n",
      "30      -75.98692530    6.79e-05\n",
      "SCF iterations converged!\n"
     ]
    }
   ],
   "source": [
    "epsilon, C = scipy.linalg.eigh(h, S)  # initial guess\n",
    "E_HF, C_HF = scf_solver(h, V_nuc, C)"
   ]
  },
  {
   "cell_type": "markdown",
   "id": "4d190498-b0b0-4d97-af66-5ddcebf70a3e",
   "metadata": {},
   "source": [
    "### Dipole moment\n",
    "\n",
    "From the molecular orbital (MO) coefficients, we determine the density matrix and compute the dipole moment."
   ]
  },
  {
   "cell_type": "code",
   "execution_count": 9,
   "id": "056ba16a-7140-4658-8d4d-4d93bc24c5c5",
   "metadata": {
    "tags": []
   },
   "outputs": [
    {
     "name": "stdout",
     "output_type": "stream",
     "text": [
      "Vacuum dipole moment:  0.878333\n"
     ]
    }
   ],
   "source": [
    "D = 2 * np.einsum(\"ik,jk->ij\", C_HF[:, :nocc], C_HF[:, :nocc])\n",
    "mu_HF = dipmom(D)\n",
    "\n",
    "print(f\"Vacuum dipole moment: {np.linalg.norm(mu_HF) : 8.6f}\")"
   ]
  },
  {
   "cell_type": "markdown",
   "id": "7123ec4d-6b4a-4a4b-97d1-636a89348aac",
   "metadata": {},
   "source": [
    "## Liquid water"
   ]
  },
  {
   "cell_type": "markdown",
   "id": "4e889aa9-b002-4740-ab80-f92131f97593",
   "metadata": {},
   "source": [
    "The [TIP3P model](https://en.wikipedia.org/wiki/Water_model#3-site) provides a classical description of liquid water in terms of a three-site model with the following partial charges:\n",
    "\n",
    "| Element  | Charge    |\n",
    "| -------- | ----------|\n",
    "| O        | -0.834    |\n",
    "| H        | 0.417     |"
   ]
  },
  {
   "cell_type": "code",
   "execution_count": 10,
   "id": "0191c709-11e9-441d-8db2-f65e82c0ab87",
   "metadata": {},
   "outputs": [],
   "source": [
    "tip3p_charges = {\"H\": 0.417, \"O\": -0.834}"
   ]
  },
  {
   "cell_type": "markdown",
   "id": "b3ec7b14-dd58-4bb9-8b27-136015e138dc",
   "metadata": {},
   "source": [
    "Let us calculate the dipole moment for a water molecule in the TIP3P model."
   ]
  },
  {
   "cell_type": "code",
   "execution_count": 11,
   "id": "286cf70b-cfdd-4451-ad9b-748b719943e5",
   "metadata": {},
   "outputs": [
    {
     "name": "stdout",
     "output_type": "stream",
     "text": [
      "Dipole moment:  1.112794\n"
     ]
    }
   ],
   "source": [
    "mu_tip3p = np.zeros(3)\n",
    "\n",
    "for A, molecule_atom_label in enumerate(molecule.get_labels()):\n",
    "\n",
    "    R_A = np.array(molecule.get_atom_coordinates(A))\n",
    "    q_A = tip3p_charges[molecule_atom_label]\n",
    "\n",
    "    mu_tip3p += q_A * R_A\n",
    "\n",
    "print(f\"Dipole moment: {np.linalg.norm(mu_tip3p) : 8.6f}\")"
   ]
  },
  {
   "cell_type": "markdown",
   "id": "c74544f9-b11c-4d6d-9c71-63109cf80132",
   "metadata": {},
   "source": [
    "This dipole moment is substantially larger than the gas phase result.\n",
    "\n",
    "In order to determine a QM/MM value for the dipole moment of water, we adopt the TIP3P parameters for the description of the four water molecules in the environment (or solvent) that consists of two donors and two acceptors."
   ]
  },
  {
   "cell_type": "code",
   "execution_count": 12,
   "id": "3d7429af-c46c-4358-b388-785bf671bc33",
   "metadata": {},
   "outputs": [],
   "source": [
    "solvent = vlx.Molecule.read_xyz_string(solvent_xyz)\n",
    "donors = vlx.Molecule.read_xyz_string(donors_xyz)\n",
    "acceptors = vlx.Molecule.read_xyz_string(acceptors_xyz)"
   ]
  },
  {
   "cell_type": "markdown",
   "id": "2dc6c2b9-5861-40b8-9aaa-2e84621ae050",
   "metadata": {
    "tags": []
   },
   "source": [
    "### Embedding operator"
   ]
  },
  {
   "cell_type": "markdown",
   "id": "76716b89-f0a0-4276-99e6-c24046593e4c",
   "metadata": {},
   "source": [
    "We implement a function to construct the embedding operators given a `Molecule` object that contains the embedding atoms."
   ]
  },
  {
   "cell_type": "code",
   "execution_count": 13,
   "id": "fe802906-4388-4468-b8fe-74d510e87782",
   "metadata": {},
   "outputs": [],
   "source": [
    "def get_embedding_operator(embedding):\n",
    "\n",
    "    # electronic part\n",
    "    mm_sites = []\n",
    "    mm_charges = []\n",
    "    for atom_idx, atom_label in enumerate(embedding.get_labels()):\n",
    "\n",
    "        mm_sites.append(embedding.get_atom_coordinates(atom_idx))\n",
    "        mm_charges.append(tip3p_charges[atom_label])\n",
    "\n",
    "    pot_drv = vlx.NuclearPotentialIntegralsDriver()\n",
    "    v_es = -1.0 * pot_drv.compute(molecule, basis, mm_charges, mm_sites).to_numpy()\n",
    "\n",
    "    # nuclear part\n",
    "    V_n_es = 0.0\n",
    "    for A, molecule_atom_label in enumerate(molecule.get_labels()):\n",
    "\n",
    "        R_A = np.array(molecule.get_atom_coordinates(A))\n",
    "        Z_A = element_charges[molecule_atom_label]\n",
    "\n",
    "        for s, solvent_atom_label in enumerate(embedding.get_labels()):\n",
    "\n",
    "            R_s = np.array(embedding.get_atom_coordinates(s))\n",
    "            q_s = mm_charges[s]\n",
    "\n",
    "            V_n_es += Z_A * q_s / np.linalg.norm(R_A - R_s)\n",
    "\n",
    "    return V_n_es, v_es"
   ]
  },
  {
   "cell_type": "markdown",
   "id": "9daddcf3-6ba9-4357-abd9-d5aa6b5f6853",
   "metadata": {
    "tags": []
   },
   "source": [
    "### Solvation energies"
   ]
  },
  {
   "cell_type": "markdown",
   "id": "d1e43eb1-f2a2-43c3-9e07-838d83b76778",
   "metadata": {},
   "source": [
    "Using the initial guess for gas phase water, the SCF optimizations for three embedded systems are performed corresponding to (i) all four water molecules in the solvent, (ii) the two donors, and (iii) the two acceptors."
   ]
  },
  {
   "cell_type": "code",
   "execution_count": 14,
   "id": "86a72689-fa93-431b-963b-6124e1ebd505",
   "metadata": {
    "scrolled": true,
    "tags": [
     "remove-output"
    ]
   },
   "outputs": [
    {
     "name": "stdout",
     "output_type": "stream",
     "text": [
      "iter      SCF energy    Error norm\n",
      " 0      -76.04721904    6.37e-02\n",
      " 1      -76.05404597    3.00e-02\n",
      " 2      -76.05480572    1.40e-02\n",
      " 3      -76.05496833    9.79e-03\n",
      " 4      -76.05501549    5.76e-03\n",
      " 5      -76.05503195    3.89e-03\n",
      " 6      -76.05503832    2.44e-03\n",
      " 7      -76.05504091    1.61e-03\n",
      " 8      -76.05504198    1.04e-03\n",
      " 9      -76.05504243    6.77e-04\n",
      "10      -76.05504262    4.37e-04\n",
      "11      -76.05504270    2.85e-04\n",
      "12      -76.05504273    1.85e-04\n",
      "13      -76.05504274    1.20e-04\n",
      "14      -76.05504275    7.79e-05\n",
      "SCF iterations converged!\n",
      "iter      SCF energy    Error norm\n",
      " 0      -76.01164058    3.40e-02\n",
      " 1      -76.01344618    1.41e-02\n",
      " 2      -76.01364388    6.42e-03\n",
      " 3      -76.01368402    4.49e-03\n",
      " 4      -76.01369499    2.65e-03\n",
      " 5      -76.01369869    1.83e-03\n",
      " 6      -76.01370012    1.16e-03\n",
      " 7      -76.01370071    7.85e-04\n",
      " 8      -76.01370096    5.11e-04\n",
      " 9      -76.01370106    3.42e-04\n",
      "10      -76.01370111    2.25e-04\n",
      "11      -76.01370113    1.49e-04\n",
      "12      -76.01370114    9.87e-05\n",
      "SCF iterations converged!\n",
      "iter      SCF energy    Error norm\n",
      " 0      -76.02250376    3.98e-02\n",
      " 1      -76.02508400    1.79e-02\n",
      " 2      -76.02534197    8.27e-03\n",
      " 3      -76.02539710    5.90e-03\n",
      " 4      -76.02541372    3.52e-03\n",
      " 5      -76.02541974    2.40e-03\n",
      " 6      -76.02542215    1.53e-03\n",
      " 7      -76.02542314    1.02e-03\n",
      " 8      -76.02542357    6.58e-04\n",
      " 9      -76.02542375    4.34e-04\n",
      "10      -76.02542382    2.84e-04\n",
      "11      -76.02542386    1.86e-04\n",
      "12      -76.02542387    1.22e-04\n",
      "13      -76.02542388    8.00e-05\n",
      "SCF iterations converged!\n"
     ]
    }
   ],
   "source": [
    "V_n_s, v_s = get_embedding_operator(solvent)\n",
    "E_s, C_s = scf_solver(h + v_s, V_nuc + V_n_s, C_HF)\n",
    "\n",
    "V_n_d, v_d = get_embedding_operator(donors)\n",
    "E_d, C_d = scf_solver(h + v_d, V_nuc + V_n_d, C_HF)\n",
    "\n",
    "V_n_a, v_a = get_embedding_operator(acceptors)\n",
    "E_a, C_a = scf_solver(h + v_a, V_nuc + V_n_a, C_HF)"
   ]
  },
  {
   "cell_type": "markdown",
   "id": "69eb16b1-7419-4421-a2e4-a2d3fd4945f9",
   "metadata": {
    "tags": []
   },
   "source": [
    "The solvation energy of the fully coordinated pentamer is calculated as"
   ]
  },
  {
   "cell_type": "code",
   "execution_count": 15,
   "id": "6cde0426-d477-47f9-9d75-8cb02b3639ec",
   "metadata": {},
   "outputs": [
    {
     "name": "stdout",
     "output_type": "stream",
     "text": [
      "Nuclear QM/MM energy   :      -0.08545956\n",
      "Electronic QM/MM energy:       0.00987780\n",
      "-----------------------------------------\n",
      "Total QM/MM energy     :      -0.07558176\n"
     ]
    }
   ],
   "source": [
    "D = 2 * np.einsum(\"ik,jk->ij\", C_s[:, :nocc], C_s[:, :nocc])\n",
    "\n",
    "v_s_aver = np.einsum(\"ab, ab\", D, v_s)\n",
    "\n",
    "print(f\"Nuclear QM/MM energy   : {V_n_s : 16.8f}\")\n",
    "print(f\"Electronic QM/MM energy: {v_s_aver : 16.8f}\")\n",
    "print(41 * \"-\")\n",
    "print(f\"Total QM/MM energy     : {V_n_s + v_s_aver : 16.8f}\")"
   ]
  },
  {
   "cell_type": "markdown",
   "id": "fcdc14db-bf24-42c2-bc7a-097d0f448f68",
   "metadata": {},
   "source": [
    "As can be seen, the pure electronic contributions destabilizes the system, but the nuclear contributions stabilize it even more. As such, solvation is seen to be beneficial, as a result of the nuclear contributions. \n",
    "\n",
    "Let us next determine these energies for all three coordination complexes."
   ]
  },
  {
   "cell_type": "code",
   "execution_count": 16,
   "id": "3a072f4b-c5b7-434e-8702-247d455b745f",
   "metadata": {},
   "outputs": [
    {
     "name": "stdout",
     "output_type": "stream",
     "text": [
      "Structure   Total energy      Nuclear        Electronic   Diff. to vacuum  \n",
      "-------------------------------------------------------------------------\n",
      "   vacuum:  -75.98692530\n",
      " solution:  -76.05504275     -0.08545956    -75.96958319     0.01734211\n",
      "   donors:  -76.01370114      0.65101990    -76.66472104    -0.67779574\n",
      "acceptors:  -76.02542388     -0.73647946    -75.28894441     0.69798088\n"
     ]
    }
   ],
   "source": [
    "print(\"Structure   Total energy      Nuclear        Electronic   Diff. to vacuum  \")\n",
    "print(73 * \"-\")\n",
    "print(f\"   vacuum:  {E_HF : 12.8f}\")\n",
    "print(\n",
    "    f\" solution:  {E_s : 12.8f}  {V_n_s: 14.8f}  {E_s - V_n_s: 14.8f}  {E_s - V_n_s - E_HF: 13.8f}\"\n",
    ")\n",
    "print(\n",
    "    f\"   donors:  {E_d : 12.8f}  {V_n_d: 14.8f}  {E_d - V_n_d: 14.8f}  {E_d - V_n_d - E_HF: 13.8f}\"\n",
    ")\n",
    "print(\n",
    "    f\"acceptors:  {E_a : 12.8f}  {V_n_a: 14.8f}  {E_a - V_n_a: 14.8f}  {E_a - V_n_a - E_HF: 13.8f}\"\n",
    ")"
   ]
  },
  {
   "cell_type": "markdown",
   "id": "143a999c-b7bc-4773-b51c-b7bd9a1d5bbd",
   "metadata": {},
   "source": [
    "As can be seen, the purely electronic contributions of the donors stabilize the system, but not for the acceptors and the fully coordinated system. This can be understood by noting that the donors add positive point charges (hydrogens) close to the QM oxygen atom, which provides a beneficial potential for the electronic structure. Adding two acceptors instead puts two negative (oxygen) charges close to the electron density, and thus destabilize the system.\n",
    "\n",
    "### Dipole moments\n",
    "\n",
    "Next, we determine the dipole moments of the solute in the different configurations."
   ]
  },
  {
   "cell_type": "code",
   "execution_count": 17,
   "id": "876210cc-2eb1-480c-8add-7139b7b7e329",
   "metadata": {},
   "outputs": [
    {
     "name": "stdout",
     "output_type": "stream",
     "text": [
      "   vacuum:  0.878333\n",
      " solution:  1.147602\n",
      "   donors:  1.006242\n",
      "acceptors:  1.031627\n"
     ]
    }
   ],
   "source": [
    "D = 2 * np.einsum(\"ik,jk->ij\", C_s[:, :nocc], C_s[:, :nocc])\n",
    "mu_s = dipmom(D)\n",
    "\n",
    "D = 2 * np.einsum(\"ik,jk->ij\", C_d[:, :nocc], C_d[:, :nocc])\n",
    "mu_d = dipmom(D)\n",
    "\n",
    "D = 2 * np.einsum(\"ik,jk->ij\", C_a[:, :nocc], C_a[:, :nocc])\n",
    "mu_a = dipmom(D)\n",
    "\n",
    "print(f\"   vacuum: {np.linalg.norm(mu_HF) : 8.6f}\")\n",
    "print(f\" solution: {np.linalg.norm(mu_s) : 8.6f}\")\n",
    "print(f\"   donors: {np.linalg.norm(mu_d) : 8.6f}\")\n",
    "print(f\"acceptors: {np.linalg.norm(mu_a) : 8.6f}\")"
   ]
  },
  {
   "cell_type": "markdown",
   "id": "48299a82-0c60-489b-b72a-6e58ca95865a",
   "metadata": {},
   "source": [
    "The dipole moment is seen to substantially increase due to solvation. The donors pull and acceptors push the electron density of the solute in the direction from the hydrogens toward the oxygen and thus increase the polarization of the QM system.\n",
    "\n",
    "We note that the QM/MM dipole moment of the fully solvated water molecule is in good agreement with that of the TIP3P model."
   ]
  },
  {
   "cell_type": "markdown",
   "id": "c7bc89bb",
   "metadata": {
    "editable": true,
    "slideshow": {
     "slide_type": ""
    },
    "tags": []
   },
   "source": [
    "### Reference calculation"
   ]
  },
  {
   "cell_type": "markdown",
   "id": "4d3f3744",
   "metadata": {
    "editable": true,
    "slideshow": {
     "slide_type": ""
    },
    "tags": []
   },
   "source": [
    "Let us verify our results with a reference calculation using VeloxChem."
   ]
  },
  {
   "cell_type": "code",
   "execution_count": 18,
   "id": "8331d86b",
   "metadata": {},
   "outputs": [],
   "source": [
    "# define a sol.pot file\n",
    "with open(\"sol.pot\", \"w\") as sol_file:\n",
    "    sol_file.write(\"\"\"@environment\n",
    "units: angstrom\n",
    "xyz:\n",
    "O        1.0991810000      2.2167050000      0.2791250000   water 1        \n",
    "H        2.2673500000      2.2529740000      0.6013580000   water 1               \n",
    "H        0.9984050000      2.8080510000     -0.5840690000   water 1              \n",
    "O       -0.8223690000      0.2141140000     -2.3767710000   water 2               \n",
    "H       -1.5990410000      0.8408210000     -2.6698860000   water 2              \n",
    "H       -0.4683410000      0.4151750000     -1.5365150000   water 2              \n",
    "O        1.7377440000     -2.0168380000     -0.4861090000   water 3              \n",
    "H        2.0753880000     -2.2446490000     -1.3654140000   water 3               \n",
    "H        1.6636970000     -2.7516570000      0.0543720000   water 3              \n",
    "O       -1.0758700000     -0.2692330000      2.5139440000   water 4               \n",
    "H       -0.5822670000     -0.1887880000      1.5058600000   water 4              \n",
    "H       -1.1632420000      0.7082890000      2.8568430000   water 4\n",
    "@end\n",
    "\n",
    "@charges\n",
    "O  -0.834  water\n",
    "H   0.417  water\n",
    "H   0.417  water\n",
    "@end\n",
    "\"\"\")"
   ]
  },
  {
   "cell_type": "code",
   "execution_count": 19,
   "id": "357ea4d0",
   "metadata": {
    "editable": true,
    "scrolled": true,
    "slideshow": {
     "slide_type": ""
    },
    "tags": [
     "remove-output"
    ]
   },
   "outputs": [
    {
     "name": "stdout",
     "output_type": "stream",
     "text": [
      "* Info * Reading basis set from file: /opt/miniconda3/envs/echem/lib/python3.11/site-packages/veloxchem/basis/CC-PVDZ     \n",
      "                                                                                                                          \n",
      "                                              Molecular Basis (Atomic Basis)                                              \n",
      "                                             ================================                                             \n",
      "                                                                                                                          \n",
      "                               Basis: CC-PVDZ                                                                             \n",
      "                                                                                                                          \n",
      "                               Atom Contracted GTOs           Primitive GTOs                                              \n",
      "                                                                                                                          \n",
      "                                O   (3S,2P,1D)                (17S,4P,1D)                                                 \n",
      "                                H   (2S,1P)                   (4S,1P)                                                     \n",
      "                                                                                                                          \n",
      "                               Contracted Basis Functions : 24                                                            \n",
      "                               Primitive Basis Functions  : 48                                                            \n",
      "                                                                                                                          \n",
      "                                                                                                                          \n",
      "                                            Self Consistent Field Driver Setup                                            \n",
      "                                           ====================================                                           \n",
      "                                                                                                                          \n",
      "                   Wave Function Model             : Spin-Restricted Hartree-Fock with PE                                 \n",
      "                   Initial Guess Model             : Superposition of Atomic Densities                                    \n",
      "                   Convergence Accelerator         : Two Level Direct Inversion of Iterative Subspace                     \n",
      "                   Max. Number of Iterations       : 50                                                                   \n",
      "                   Max. Number of Error Vectors    : 10                                                                   \n",
      "                   Convergence Threshold           : 1.0e-06                                                              \n",
      "                   ERI Screening Scheme            : Cauchy Schwarz + Density                                             \n",
      "                   ERI Screening Mode              : Dynamic                                                              \n",
      "                   ERI Screening Threshold         : 1.0e-12                                                              \n",
      "                   Linear Dependence Threshold     : 1.0e-06                                                              \n",
      "                                                                                                                          \n",
      "* Info * Nuclear repulsion energy: 7.9643030247 a.u.                                                                      \n",
      "                                                                                                                          \n",
      "* Info * Using CPPE 0.3.2 for polarizable embedding.                                                                      \n",
      "                                                                                                                          \n",
      "* Info * Reading polarizable embedding potential: sol.cppe.pot                                                            \n",
      "                                                                                                                          \n",
      "* Info * Overlap matrix computed in 0.00 sec.                                                                             \n",
      "                                                                                                                          \n",
      "* Info * Kinetic energy matrix computed in 0.00 sec.                                                                      \n",
      "                                                                                                                          \n",
      "* Info * Nuclear potential matrix computed in 0.00 sec.                                                                   \n",
      "                                                                                                                          \n",
      "* Info * Orthogonalization matrix computed in 0.00 sec.                                                                   \n",
      "                                                                                                                          \n",
      "* Info * SAD initial guess computed in 0.00 sec.                                                                          \n",
      "                                                                                                                          \n",
      "* Info * Starting Reduced Basis SCF calculation...                                                                        \n",
      "* Info * ...done. SCF energy in reduced basis set: -75.952562932295 a.u. Time: 0.04 sec.                                  \n",
      "                                                                                                                          \n",
      "* Info * Overlap matrix computed in 0.00 sec.                                                                             \n",
      "                                                                                                                          \n",
      "* Info * Kinetic energy matrix computed in 0.00 sec.                                                                      \n",
      "                                                                                                                          \n",
      "* Info * Nuclear potential matrix computed in 0.00 sec.                                                                   \n",
      "                                                                                                                          \n",
      "* Info * Orthogonalization matrix computed in 0.00 sec.                                                                   \n",
      "                                                                                                                          \n",
      "                                                                                                                          \n",
      "               Iter. | Hartree-Fock Energy | Energy Change | Gradient Norm | Max. Gradient | Density Change               \n",
      "               --------------------------------------------------------------------------------------------               \n",
      "                  1       -76.052901426004    0.0000000000      0.12341044      0.01638190      0.00000000                \n",
      "                  2       -76.054698490732   -0.0017970647      0.04823540      0.00709066      0.03559270                \n",
      "                  3       -76.054987847385   -0.0002893567      0.02107928      0.00339068      0.01399173                \n",
      "                  4       -76.055040138875   -0.0000522915      0.00326700      0.00043881      0.00566363                \n",
      "                  5       -76.055042721940   -0.0000025831      0.00031907      0.00004395      0.00177066                \n",
      "                  6       -76.055042752068   -0.0000000301      0.00008653      0.00001233      0.00016677                \n",
      "                  7       -76.055042754944   -0.0000000029      0.00001817      0.00000208      0.00006101                \n",
      "                  8       -76.055042755047   -0.0000000001      0.00000235      0.00000028      0.00001189                \n",
      "                  9       -76.055042755048   -0.0000000000      0.00000059      0.00000007      0.00000133                \n",
      "                                                                                                                          \n",
      "               *** SCF converged in 9 iterations. Time: 0.56 sec.                                                         \n",
      "                                                                                                                          \n",
      "               Spin-Restricted Hartree-Fock with PE:                                                                      \n",
      "               -------------------------------------                                                                      \n",
      "               Total Energy                       :      -76.0550427550 a.u.                                              \n",
      "               Electronic Energy                  :      -84.0193457798 a.u.                                              \n",
      "               Nuclear Repulsion Energy           :        7.9643030247 a.u.                                              \n",
      "               ------------------------------------                                                                       \n",
      "               Gradient Norm                      :        0.0000005871 a.u.                                              \n",
      "                                                                                                                          \n",
      "                                                                                                                          \n",
      "               ----------------------------------------------------------------------                                     \n",
      "               Polarizable Embedding Summary:                                                                             \n",
      "                                                                                                                          \n",
      "                  Electrostatics:                                                                                         \n",
      "                     Electronic:                   0.00987456916235                                                       \n",
      "                     Nuclear:                      -0.0854595617018                                                       \n",
      "                     Multipole:                    0                                                                      \n",
      "                     Total:                        -0.0755849925395                                                       \n",
      "                                                                                                                          \n",
      "                  Polarization:                                                                                           \n",
      "                     Electronic:                   0                                                                      \n",
      "                     Nuclear:                      0                                                                      \n",
      "                     Multipole:                    0                                                                      \n",
      "                     Total:                        0                                                                      \n",
      "                                                                                                                          \n",
      "                  Total Energy:                    -0.0755849925395                                                       \n",
      "               ----------------------------------------------------------------------                                     \n",
      "                                                                                                                          \n",
      "                                                                                                                          \n",
      "               Ground State Information                                                                                   \n",
      "               ------------------------                                                                                   \n",
      "               Charge of Molecule            :  0.0                                                                       \n",
      "               Multiplicity (2S+1)           :  1.0                                                                       \n",
      "               Magnetic Quantum Number (M_S) :  0.0                                                                       \n",
      "                                                                                                                          \n",
      "                                                                                                                          \n",
      "                                                 Spin Restricted Orbitals                                                 \n",
      "                                                 ------------------------                                                 \n",
      "                                                                                                                          \n",
      "               Molecular Orbital No.   1:                                                                                 \n",
      "               --------------------------                                                                                 \n",
      "               Occupation: 2.000 Energy:  -20.54411 a.u.                                                                  \n",
      "               (   1 O   1s  :     1.00)                                                                                  \n",
      "                                                                                                                          \n",
      "               Molecular Orbital No.   2:                                                                                 \n",
      "               --------------------------                                                                                 \n",
      "               Occupation: 2.000 Energy:   -1.25296 a.u.                                                                  \n",
      "               (   1 O   2s  :     0.45) (   1 O   3s  :     0.48)                                                        \n",
      "                                                                                                                          \n",
      "               Molecular Orbital No.   3:                                                                                 \n",
      "               --------------------------                                                                                 \n",
      "               Occupation: 2.000 Energy:   -0.58998 a.u.                                                                  \n",
      "               (   1 O   1p-1:     0.49) (   1 O   2p-1:     0.30) (   2 H   1s  :     0.29)                              \n",
      "               (   3 H   1s  :    -0.26)                                                                                  \n",
      "                                                                                                                          \n",
      "               Molecular Orbital No.   4:                                                                                 \n",
      "               --------------------------                                                                                 \n",
      "               Occupation: 2.000 Energy:   -0.52431 a.u.                                                                  \n",
      "               (   1 O   3s  :     0.27) (   1 O   1p+1:    -0.53) (   1 O   2p+1:    -0.39)                              \n",
      "               (   2 H   1s  :    -0.18) (   3 H   1s  :    -0.22)                                                        \n",
      "                                                                                                                          \n",
      "               Molecular Orbital No.   5:                                                                                 \n",
      "               --------------------------                                                                                 \n",
      "               Occupation: 2.000 Energy:   -0.47381 a.u.                                                                  \n",
      "               (   1 O   1p0 :     0.62) (   1 O   2p0 :     0.52)                                                        \n",
      "                                                                                                                          \n",
      "               Molecular Orbital No.   6:                                                                                 \n",
      "               --------------------------                                                                                 \n",
      "               Occupation: 0.000 Energy:    0.21882 a.u.                                                                  \n",
      "               (   1 O   3s  :     0.82) (   1 O   1p+1:     0.23) (   1 O   2p+1:     0.38)                              \n",
      "               (   2 H   2s  :    -0.72) (   3 H   2s  :    -0.79)                                                        \n",
      "                                                                                                                          \n",
      "               Molecular Orbital No.   7:                                                                                 \n",
      "               --------------------------                                                                                 \n",
      "               Occupation: 0.000 Energy:    0.31205 a.u.                                                                  \n",
      "               (   1 O   1p-1:     0.33) (   1 O   2p-1:     0.62) (   2 H   2s  :    -1.23)                              \n",
      "               (   3 H   2s  :     1.08)                                                                                  \n",
      "                                                                                                                          \n",
      "               Molecular Orbital No.   8:                                                                                 \n",
      "               --------------------------                                                                                 \n",
      "               Occupation: 0.000 Energy:    0.74372 a.u.                                                                  \n",
      "               (   1 O   1p-1:     0.23) (   1 O   2p-1:     0.25) (   2 H   1s  :    -0.75)                              \n",
      "               (   2 H   2s  :     0.74) (   3 H   1s  :     1.10) (   3 H   2s  :    -1.04)                              \n",
      "                                                                                                                          \n",
      "               Molecular Orbital No.   9:                                                                                 \n",
      "               --------------------------                                                                                 \n",
      "               Occupation: 0.000 Energy:    0.80961 a.u.                                                                  \n",
      "               (   1 O   2s  :     0.24) (   1 O   3s  :    -0.32) (   1 O   1p+1:     0.34)                              \n",
      "               (   2 H   1s  :    -1.05) (   2 H   2s  :     0.75) (   2 H   1p-1:    -0.18)                              \n",
      "               (   3 H   1s  :    -0.67) (   3 H   2s  :     0.48) (   3 H   1p-1:     0.17)                              \n",
      "                                                                                                                          \n",
      "               Molecular Orbital No.  10:                                                                                 \n",
      "               --------------------------                                                                                 \n",
      "               Occupation: 0.000 Energy:    1.18947 a.u.                                                                  \n",
      "               (   1 O   1p+1:    -0.20) (   1 O   1p0 :     0.93) (   1 O   2p+1:     0.29)                              \n",
      "               (   1 O   2p0 :    -0.92)                                                                                  \n",
      "                                                                                                                          \n"
     ]
    }
   ],
   "source": [
    "scf_drv = vlx.ScfRestrictedDriver()\n",
    "scf_drv.potfile = \"sol.pot\"\n",
    "scf_results_sol = scf_drv.compute(molecule, basis)"
   ]
  },
  {
   "cell_type": "code",
   "execution_count": 21,
   "id": "a220f248",
   "metadata": {
    "editable": true,
    "slideshow": {
     "slide_type": ""
    },
    "tags": []
   },
   "outputs": [
    {
     "name": "stdout",
     "output_type": "stream",
     "text": [
      "Total energy: -76.05504276 Hartree\n"
     ]
    }
   ],
   "source": [
    "print(f\"Total energy: {scf_results_sol['scf_energy']:12.8f} Hartree\") "
   ]
  },
  {
   "cell_type": "markdown",
   "id": "aa1c0a1d",
   "metadata": {
    "editable": true,
    "slideshow": {
     "slide_type": ""
    },
    "tags": []
   },
   "source": [
    "We note that this energy is in perfect agreement with our previous result."
   ]
  }
 ],
 "metadata": {
  "kernelspec": {
   "display_name": "Python 3 (ipykernel)",
   "language": "python",
   "name": "python3"
  },
  "language_info": {
   "codemirror_mode": {
    "name": "ipython",
    "version": 3
   },
   "file_extension": ".py",
   "mimetype": "text/x-python",
   "name": "python",
   "nbconvert_exporter": "python",
   "pygments_lexer": "ipython3",
   "version": "3.11.6"
  }
 },
 "nbformat": 4,
 "nbformat_minor": 5
}
