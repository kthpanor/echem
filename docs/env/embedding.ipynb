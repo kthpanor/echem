{
 "cells": [
  {
   "cell_type": "markdown",
   "id": "a6a0a60c-42df-49a1-8d71-c3e5ab4b3ecb",
   "metadata": {},
   "source": [
    "# Embedding potentials\n",
    "\n",
    "The [hybrid QM/MM approach](https://en.wikipedia.org/wiki/QM/MM) for multiscale modeling of complex systems was recognized with the [Nobel Prize in chemistry in 2013](https://www.nobelprize.org/prizes/chemistry/2013/summary/). This model partitions the molecular system into a small quantum mechanical (QM) region containing up to a few hundred atoms and (typically) a larger molecular mechanical (MM) region containing up to several tens of thousands of atoms.\n",
    "\n",
    "Full or partial interactions (electrostatics, induction, dispersion, short-range repulsion) are accounted for in between the QM and MM parts of the system, resulting in a Hamiltonian of the form\n",
    "\n",
    "$$\n",
    "\\hat{H} = \\hat{H}_\\mathrm{QM} + \\hat{H}_\\mathrm{MM} + \\hat{H}_\\mathrm{QM/MM}\n",
    "$$\n",
    "\n",
    "and an associated energy\n",
    "\n",
    "$$\n",
    "E = E_\\mathrm{QM} + E_\\mathrm{MM} + E_\\mathrm{QM/MM} \n",
    "$$\n",
    "\n",
    "Force fields describing the MM part with parameters, such as point charges, higher-order charge moments, and distributed polarizabilities, are determined empirically or using quantum chemistry methods. Two categories of embedding models exist\n",
    "\n",
    "- [non-polarizable](nonpol_emb) \n",
    "\n",
    "- [polarizable](pol_emb)\n",
    "\n",
    "as presented in the subsequent sections of this book."
   ]
  },
  {
   "cell_type": "code",
   "execution_count": null,
   "id": "2bc87e0f-63dc-48ea-b1b8-ab6284ef0d5e",
   "metadata": {},
   "outputs": [],
   "source": []
  }
 ],
 "metadata": {
  "kernelspec": {
   "display_name": "Python 3 (ipykernel)",
   "language": "python",
   "name": "python3"
  },
  "language_info": {
   "codemirror_mode": {
    "name": "ipython",
    "version": 3
   },
   "file_extension": ".py",
   "mimetype": "text/x-python",
   "name": "python",
   "nbconvert_exporter": "python",
   "pygments_lexer": "ipython3",
   "version": "3.9.15"
  }
 },
 "nbformat": 4,
 "nbformat_minor": 5
}
