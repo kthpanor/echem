{
 "cells": [
  {
   "cell_type": "markdown",
   "id": "022b37fb-11cc-46a8-ac33-3590589b33c0",
   "metadata": {
    "editable": true,
    "slideshow": {
     "slide_type": ""
    },
    "tags": []
   },
   "source": [
    "(sec:chelpg_charges)=\n",
    "# CHELPG charges"
   ]
  },
  {
   "cell_type": "markdown",
   "id": "99e8beb5-b50f-4862-81fc-4ad44dfaf9d1",
   "metadata": {
    "editable": true,
    "slideshow": {
     "slide_type": ""
    },
    "tags": []
   },
   "source": [
    "Different choices of grid points in the [Merz–Kollman (MK) scheme](sec:esp_charges) can be made. CHELPG charges are obtained with grid points chosen on a dense cubic grid with exclusion made of grid points inside the van der Waals molecular volume {cite}`Brennan1990`.\n",
    "\n",
    "In contrast to the original MK scheme, the calculation of CHELPG charges involve grid points directly outside the van der Waals molecular volume, and since the electrostatic potential is here large, these points will be important for the minimization of the Lagrangian. We note that there is no universal grid-point choice that can be considered best for all situations. \n",
    "\n",
    "Let us determine the CHELPG charges of methanol at the Hartree–Fock/6-31G(d) level of theory."
   ]
  },
  {
   "cell_type": "code",
   "execution_count": 1,
   "id": "f84e90a6-99a4-47db-bcbc-4b32cc5a02b7",
   "metadata": {
    "editable": true,
    "slideshow": {
     "slide_type": ""
    },
    "tags": [
     "hide-input"
    ]
   },
   "outputs": [],
   "source": [
    "methanol_xyz = \"\"\"6\n",
    "\n",
    "  H      1.2001      0.0363      0.8431\n",
    "  C      0.7031      0.0083     -0.1305\n",
    "  H      0.9877      0.8943     -0.7114\n",
    "  H      1.0155     -0.8918     -0.6742\n",
    "  O     -0.6582     -0.0067      0.1730\n",
    "  H     -1.1326     -0.0311     -0.6482\n",
    "\"\"\""
   ]
  },
  {
   "cell_type": "code",
   "execution_count": 2,
   "id": "ae071f27-1ead-4b8c-9a3f-c1de1c1aabe2",
   "metadata": {
    "editable": true,
    "slideshow": {
     "slide_type": ""
    },
    "tags": [
     "remove-input"
    ]
   },
   "outputs": [
    {
     "data": {
      "application/3dmoljs_load.v0": "<div id=\"3dmolviewer_17013577799052138\"  style=\"position: relative; width: 300px; height: 200px;\">\n        <p id=\"3dmolwarning_17013577799052138\" style=\"background-color:#ffcccc;color:black\">You appear to be running in JupyterLab (or JavaScript failed to load for some other reason).  You need to install the 3dmol extension: <br>\n        <tt>jupyter labextension install jupyterlab_3dmol</tt></p>\n        </div>\n<script>\n\nvar loadScriptAsync = function(uri){\n  return new Promise((resolve, reject) => {\n    //this is to ignore the existence of requirejs amd\n    var savedexports, savedmodule;\n    if (typeof exports !== 'undefined') savedexports = exports;\n    else exports = {}\n    if (typeof module !== 'undefined') savedmodule = module;\n    else module = {}\n\n    var tag = document.createElement('script');\n    tag.src = uri;\n    tag.async = true;\n    tag.onload = () => {\n        exports = savedexports;\n        module = savedmodule;\n        resolve();\n    };\n  var firstScriptTag = document.getElementsByTagName('script')[0];\n  firstScriptTag.parentNode.insertBefore(tag, firstScriptTag);\n});\n};\n\nif(typeof $3Dmolpromise === 'undefined') {\n$3Dmolpromise = null;\n  $3Dmolpromise = loadScriptAsync('https://cdnjs.cloudflare.com/ajax/libs/3Dmol/2.0.4/3Dmol-min.js');\n}\n\nvar viewer_17013577799052138 = null;\nvar warn = document.getElementById(\"3dmolwarning_17013577799052138\");\nif(warn) {\n    warn.parentNode.removeChild(warn);\n}\n$3Dmolpromise.then(function() {\nviewer_17013577799052138 = $3Dmol.createViewer(document.getElementById(\"3dmolviewer_17013577799052138\"),{backgroundColor:\"white\"});\nviewer_17013577799052138.zoomTo();\n\tviewer_17013577799052138.addModel(\"6\\n\\n  H      1.2001      0.0363      0.8431\\n  C      0.7031      0.0083     -0.1305\\n  H      0.9877      0.8943     -0.7114\\n  H      1.0155     -0.8918     -0.6742\\n  O     -0.6582     -0.0067      0.1730\\n  H     -1.1326     -0.0311     -0.6482\\n\",\"xyz\");\n\tviewer_17013577799052138.setStyle({\"stick\": {}});\nviewer_17013577799052138.render();\n});\n</script>",
      "text/html": [
       "<div id=\"3dmolviewer_17013577799052138\"  style=\"position: relative; width: 300px; height: 200px;\">\n",
       "        <p id=\"3dmolwarning_17013577799052138\" style=\"background-color:#ffcccc;color:black\">You appear to be running in JupyterLab (or JavaScript failed to load for some other reason).  You need to install the 3dmol extension: <br>\n",
       "        <tt>jupyter labextension install jupyterlab_3dmol</tt></p>\n",
       "        </div>\n",
       "<script>\n",
       "\n",
       "var loadScriptAsync = function(uri){\n",
       "  return new Promise((resolve, reject) => {\n",
       "    //this is to ignore the existence of requirejs amd\n",
       "    var savedexports, savedmodule;\n",
       "    if (typeof exports !== 'undefined') savedexports = exports;\n",
       "    else exports = {}\n",
       "    if (typeof module !== 'undefined') savedmodule = module;\n",
       "    else module = {}\n",
       "\n",
       "    var tag = document.createElement('script');\n",
       "    tag.src = uri;\n",
       "    tag.async = true;\n",
       "    tag.onload = () => {\n",
       "        exports = savedexports;\n",
       "        module = savedmodule;\n",
       "        resolve();\n",
       "    };\n",
       "  var firstScriptTag = document.getElementsByTagName('script')[0];\n",
       "  firstScriptTag.parentNode.insertBefore(tag, firstScriptTag);\n",
       "});\n",
       "};\n",
       "\n",
       "if(typeof $3Dmolpromise === 'undefined') {\n",
       "$3Dmolpromise = null;\n",
       "  $3Dmolpromise = loadScriptAsync('https://cdnjs.cloudflare.com/ajax/libs/3Dmol/2.0.4/3Dmol-min.js');\n",
       "}\n",
       "\n",
       "var viewer_17013577799052138 = null;\n",
       "var warn = document.getElementById(\"3dmolwarning_17013577799052138\");\n",
       "if(warn) {\n",
       "    warn.parentNode.removeChild(warn);\n",
       "}\n",
       "$3Dmolpromise.then(function() {\n",
       "viewer_17013577799052138 = $3Dmol.createViewer(document.getElementById(\"3dmolviewer_17013577799052138\"),{backgroundColor:\"white\"});\n",
       "viewer_17013577799052138.zoomTo();\n",
       "\tviewer_17013577799052138.addModel(\"6\\n\\n  H      1.2001      0.0363      0.8431\\n  C      0.7031      0.0083     -0.1305\\n  H      0.9877      0.8943     -0.7114\\n  H      1.0155     -0.8918     -0.6742\\n  O     -0.6582     -0.0067      0.1730\\n  H     -1.1326     -0.0311     -0.6482\\n\",\"xyz\");\n",
       "\tviewer_17013577799052138.setStyle({\"stick\": {}});\n",
       "viewer_17013577799052138.render();\n",
       "});\n",
       "</script>"
      ]
     },
     "metadata": {},
     "output_type": "display_data"
    }
   ],
   "source": [
    "import py3Dmol as p3d\n",
    "\n",
    "viewer = p3d.view(width=300, height=200)\n",
    "\n",
    "viewer.addModel(methanol_xyz, \"xyz\")\n",
    "viewer.setStyle({\"stick\": {}})\n",
    "\n",
    "viewer.show()"
   ]
  },
  {
   "cell_type": "code",
   "execution_count": 3,
   "id": "e8444127-6bd7-411c-81c9-0af28acd15b2",
   "metadata": {
    "editable": true,
    "scrolled": true,
    "slideshow": {
     "slide_type": ""
    },
    "tags": [
     "remove-output"
    ]
   },
   "outputs": [
    {
     "name": "stdout",
     "output_type": "stream",
     "text": [
      "* Warning * Environment variable OMP_NUM_THREADS not set.\n",
      "* Warning * Setting OMP_NUM_THREADS to 6.\n"
     ]
    }
   ],
   "source": [
    "import veloxchem as vlx"
   ]
  },
  {
   "cell_type": "markdown",
   "id": "4302c9a7-be59-4a4a-8d38-03c88d4ddef7",
   "metadata": {
    "editable": true,
    "slideshow": {
     "slide_type": ""
    },
    "tags": []
   },
   "source": [
    "First, we determine the reference state of the system."
   ]
  },
  {
   "cell_type": "code",
   "execution_count": 4,
   "id": "8e1e19b4-aa98-41b8-ae4d-d44338c1a879",
   "metadata": {
    "editable": true,
    "scrolled": true,
    "slideshow": {
     "slide_type": ""
    },
    "tags": [
     "remove-output"
    ]
   },
   "outputs": [],
   "source": [
    "molecule = vlx.Molecule.read_xyz_string(methanol_xyz)\n",
    "basis = vlx.MolecularBasis.read(molecule, \"6-31G*\", ostream=None)\n",
    "\n",
    "scf_drv = vlx.ScfRestrictedDriver()\n",
    "scf_drv.ostream.mute()\n",
    "\n",
    "scf_results = scf_drv.compute(molecule, basis)"
   ]
  },
  {
   "cell_type": "markdown",
   "id": "1ffed70a-5ea4-4092-848f-fc7786306a5a",
   "metadata": {
    "editable": true,
    "slideshow": {
     "slide_type": ""
    },
    "tags": []
   },
   "source": [
    "Second, we calculate CHELPG charges with the `compute` method of the `RespChargesDriver` class."
   ]
  },
  {
   "cell_type": "code",
   "execution_count": 5,
   "id": "4e2a2f9d-a9cc-4a86-bc58-13a26eff5b3c",
   "metadata": {
    "editable": true,
    "scrolled": true,
    "slideshow": {
     "slide_type": ""
    },
    "tags": [
     "hide-output",
     "output_scroll"
    ]
   },
   "outputs": [
    {
     "name": "stdout",
     "output_type": "stream",
     "text": [
      "                                                                                                                          \n",
      "                                                 ESP Charges Driver Setup                                                 \n",
      "                                                ==========================                                                \n",
      "                                                                                                                          \n",
      "                                         Number of Conformers         :  1                                                \n",
      "                                         Grid Spacing in Angstrom     :  0.3                                              \n",
      "                                         Grid Margin in Angstrom      :  2.8                                              \n",
      "                                         Total Number of Grid Points  :  5890                                             \n",
      "                                                                                                                          \n",
      "                                                    CHELPG ESP Charges                                                    \n",
      "                                                --------------------------                                                \n",
      "                                                                                                                          \n",
      "                                              No.   Atom      Charge (a.u.)                                               \n",
      "                                             -------------------------------                                              \n",
      "                                                1     H         0.003200                                                  \n",
      "                                                2     C         0.225480                                                  \n",
      "                                                3     H         0.003200                                                  \n",
      "                                                4     H         0.003200                                                  \n",
      "                                                5     O        -0.611345                                                  \n",
      "                                                6     H         0.376265                                                  \n",
      "                                             -------------------------------                                              \n",
      "                                               Total Charge  :  0.000000                                                  \n",
      "                                                                                                                          \n",
      "                                                       Fit Quality                                                        \n",
      "                                                      -------------                                                       \n",
      "                                       Relative Root-Mean-Square Error  :  0.186800                                       \n",
      "                                                                                                                          \n",
      "                                       Reference:                                                                         \n",
      "                                       J. Comput. Chem. 1990, 11, 361-373.                                                \n",
      "                                                                                                                          \n"
     ]
    }
   ],
   "source": [
    "esp_drv = vlx.RespChargesDriver()\n",
    "\n",
    "esp_drv.grid_type = \"chelpg\"\n",
    "\n",
    "esp_drv.equal_charges = \"1=3, 1=4\"\n",
    "\n",
    "chelpg_charges = esp_drv.compute(molecule, basis, scf_results, \"esp\")"
   ]
  },
  {
   "cell_type": "markdown",
   "id": "372c6fee-7e61-4d9d-b4b2-2372379f2fed",
   "metadata": {
    "editable": true,
    "slideshow": {
     "slide_type": ""
    },
    "tags": []
   },
   "source": [
    "Third, we print out the results."
   ]
  },
  {
   "cell_type": "code",
   "execution_count": 6,
   "id": "f90a917b",
   "metadata": {
    "editable": true,
    "slideshow": {
     "slide_type": ""
    },
    "tags": []
   },
   "outputs": [
    {
     "name": "stdout",
     "output_type": "stream",
     "text": [
      "Atom   CHELPG charge\n",
      "--------------------\n",
      "H           0.003200\n",
      "C           0.225480\n",
      "H           0.003200\n",
      "H           0.003200\n",
      "O          -0.611345\n",
      "H           0.376265\n",
      "--------------------\n",
      "Total:      0.000000\n"
     ]
    }
   ],
   "source": [
    "print(\"Atom   CHELPG charge\")\n",
    "\n",
    "print(20 * \"-\")\n",
    "\n",
    "for label, chelpg_charge in zip(molecule.get_labels(), chelpg_charges):\n",
    "    print(f\"{label :s} {chelpg_charge : 18.6f}\")\n",
    "\n",
    "print(20 * \"-\")\n",
    "\n",
    "print(f\"Total: {chelpg_charges.sum() : 13.6f}\")"
   ]
  },
  {
   "cell_type": "markdown",
   "id": "4963896f-3e2b-4d69-baa5-79eb9b3c53c8",
   "metadata": {
    "editable": true,
    "slideshow": {
     "slide_type": ""
    },
    "tags": []
   },
   "source": [
    "Compared to the ESP results, the positive charge of the methyl group is here found to be more localized to the carbon atom."
   ]
  }
 ],
 "metadata": {
  "celltoolbar": "Tags",
  "kernelspec": {
   "display_name": "Python 3 (ipykernel)",
   "language": "python",
   "name": "python3"
  },
  "language_info": {
   "codemirror_mode": {
    "name": "ipython",
    "version": 3
   },
   "file_extension": ".py",
   "mimetype": "text/x-python",
   "name": "python",
   "nbconvert_exporter": "python",
   "pygments_lexer": "ipython3",
   "version": "3.11.6"
  }
 },
 "nbformat": 4,
 "nbformat_minor": 5
}
