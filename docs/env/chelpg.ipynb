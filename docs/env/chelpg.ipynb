{
 "cells": [
  {
   "cell_type": "markdown",
   "id": "022b37fb-11cc-46a8-ac33-3590589b33c0",
   "metadata": {
    "editable": true,
    "slideshow": {
     "slide_type": ""
    },
    "tags": []
   },
   "source": [
    "(sec:chelpg_charges)=\n",
    "# CHELPG charges"
   ]
  },
  {
   "cell_type": "markdown",
   "id": "99e8beb5-b50f-4862-81fc-4ad44dfaf9d1",
   "metadata": {
    "editable": true,
    "slideshow": {
     "slide_type": ""
    },
    "tags": []
   },
   "source": [
    "Different choices of grid points in the [Merz–Kollman (MK) scheme](sec:esp_charges) can be made. CHELPG charges are obtained with grid points chosen on a dense cubic grid with exclusion made of grid points inside the van der Waals molecular volume {cite}`Brennan1990`.\n",
    "\n",
    "In contrast to the original MK scheme, the calculation of CHELPG charges involve grid points directly outside the van der Waals molecular volume, and since the electrostatic potential is here large, these points will be important for the minimization of the Lagrangian. We note that there is no universal grid-point choice that can be considered best for all situations. \n",
    "\n",
    "Let us determine the CHELPG charges of methanol at the Hartree–Fock/6-31G(d) level of theory."
   ]
  },
  {
   "cell_type": "code",
   "execution_count": 1,
   "id": "abac06b2",
   "metadata": {
    "editable": true,
    "slideshow": {
     "slide_type": ""
    },
    "tags": [
     "hide-input"
    ]
   },
   "outputs": [
    {
     "data": {
      "application/3dmoljs_load.v0": "<div id=\"3dmolviewer_1699087009206622\"  style=\"position: relative; width: 300px; height: 200px;\">\n        <p id=\"3dmolwarning_1699087009206622\" style=\"background-color:#ffcccc;color:black\">You appear to be running in JupyterLab (or JavaScript failed to load for some other reason).  You need to install the 3dmol extension: <br>\n        <tt>jupyter labextension install jupyterlab_3dmol</tt></p>\n        </div>\n<script>\n\nvar loadScriptAsync = function(uri){\n  return new Promise((resolve, reject) => {\n    //this is to ignore the existence of requirejs amd\n    var savedexports, savedmodule;\n    if (typeof exports !== 'undefined') savedexports = exports;\n    else exports = {}\n    if (typeof module !== 'undefined') savedmodule = module;\n    else module = {}\n\n    var tag = document.createElement('script');\n    tag.src = uri;\n    tag.async = true;\n    tag.onload = () => {\n        exports = savedexports;\n        module = savedmodule;\n        resolve();\n    };\n  var firstScriptTag = document.getElementsByTagName('script')[0];\n  firstScriptTag.parentNode.insertBefore(tag, firstScriptTag);\n});\n};\n\nif(typeof $3Dmolpromise === 'undefined') {\n$3Dmolpromise = null;\n  $3Dmolpromise = loadScriptAsync('https://cdnjs.cloudflare.com/ajax/libs/3Dmol/2.0.4/3Dmol-min.js');\n}\n\nvar viewer_1699087009206622 = null;\nvar warn = document.getElementById(\"3dmolwarning_1699087009206622\");\nif(warn) {\n    warn.parentNode.removeChild(warn);\n}\n$3Dmolpromise.then(function() {\nviewer_1699087009206622 = $3Dmol.createViewer(document.getElementById(\"3dmolviewer_1699087009206622\"),{backgroundColor:\"white\"});\nviewer_1699087009206622.zoomTo();\n\tviewer_1699087009206622.addModel(\"6\\n\\n  H      1.2001      0.0363      0.8431\\n  C      0.7031      0.0083     -0.1305\\n  H      0.9877      0.8943     -0.7114\\n  H      1.0155     -0.8918     -0.6742\\n  O     -0.6582     -0.0067      0.1730\\n  H     -1.1326     -0.0311     -0.6482\\n\",\"xyz\");\n\tviewer_1699087009206622.setStyle({\"stick\": {}});\nviewer_1699087009206622.render();\n});\n</script>",
      "text/html": [
       "<div id=\"3dmolviewer_1699087009206622\"  style=\"position: relative; width: 300px; height: 200px;\">\n",
       "        <p id=\"3dmolwarning_1699087009206622\" style=\"background-color:#ffcccc;color:black\">You appear to be running in JupyterLab (or JavaScript failed to load for some other reason).  You need to install the 3dmol extension: <br>\n",
       "        <tt>jupyter labextension install jupyterlab_3dmol</tt></p>\n",
       "        </div>\n",
       "<script>\n",
       "\n",
       "var loadScriptAsync = function(uri){\n",
       "  return new Promise((resolve, reject) => {\n",
       "    //this is to ignore the existence of requirejs amd\n",
       "    var savedexports, savedmodule;\n",
       "    if (typeof exports !== 'undefined') savedexports = exports;\n",
       "    else exports = {}\n",
       "    if (typeof module !== 'undefined') savedmodule = module;\n",
       "    else module = {}\n",
       "\n",
       "    var tag = document.createElement('script');\n",
       "    tag.src = uri;\n",
       "    tag.async = true;\n",
       "    tag.onload = () => {\n",
       "        exports = savedexports;\n",
       "        module = savedmodule;\n",
       "        resolve();\n",
       "    };\n",
       "  var firstScriptTag = document.getElementsByTagName('script')[0];\n",
       "  firstScriptTag.parentNode.insertBefore(tag, firstScriptTag);\n",
       "});\n",
       "};\n",
       "\n",
       "if(typeof $3Dmolpromise === 'undefined') {\n",
       "$3Dmolpromise = null;\n",
       "  $3Dmolpromise = loadScriptAsync('https://cdnjs.cloudflare.com/ajax/libs/3Dmol/2.0.4/3Dmol-min.js');\n",
       "}\n",
       "\n",
       "var viewer_1699087009206622 = null;\n",
       "var warn = document.getElementById(\"3dmolwarning_1699087009206622\");\n",
       "if(warn) {\n",
       "    warn.parentNode.removeChild(warn);\n",
       "}\n",
       "$3Dmolpromise.then(function() {\n",
       "viewer_1699087009206622 = $3Dmol.createViewer(document.getElementById(\"3dmolviewer_1699087009206622\"),{backgroundColor:\"white\"});\n",
       "viewer_1699087009206622.zoomTo();\n",
       "\tviewer_1699087009206622.addModel(\"6\\n\\n  H      1.2001      0.0363      0.8431\\n  C      0.7031      0.0083     -0.1305\\n  H      0.9877      0.8943     -0.7114\\n  H      1.0155     -0.8918     -0.6742\\n  O     -0.6582     -0.0067      0.1730\\n  H     -1.1326     -0.0311     -0.6482\\n\",\"xyz\");\n",
       "\tviewer_1699087009206622.setStyle({\"stick\": {}});\n",
       "viewer_1699087009206622.render();\n",
       "});\n",
       "</script>"
      ]
     },
     "metadata": {},
     "output_type": "display_data"
    }
   ],
   "source": [
    "import py3Dmol as p3d\n",
    "\n",
    "methanol_xyz = \"\"\"6\n",
    "\n",
    "  H      1.2001      0.0363      0.8431\n",
    "  C      0.7031      0.0083     -0.1305\n",
    "  H      0.9877      0.8943     -0.7114\n",
    "  H      1.0155     -0.8918     -0.6742\n",
    "  O     -0.6582     -0.0067      0.1730\n",
    "  H     -1.1326     -0.0311     -0.6482\n",
    "\"\"\"\n",
    "\n",
    "viewer = p3d.view(width=300, height=200)\n",
    "\n",
    "viewer.addModel(methanol_xyz, \"xyz\")\n",
    "viewer.setStyle({\"stick\": {}})\n",
    "\n",
    "viewer.show()"
   ]
  },
  {
   "cell_type": "code",
   "execution_count": 4,
   "id": "103818c9-d062-41bc-8512-182b16269505",
   "metadata": {
    "editable": true,
    "scrolled": true,
    "slideshow": {
     "slide_type": ""
    },
    "tags": [
     "remove-output"
    ]
   },
   "outputs": [],
   "source": [
    "import veloxchem as vlx\n",
    "\n",
    "molecule = vlx.Molecule.read_xyz_string(methanol_xyz)\n",
    "basis = vlx.MolecularBasis.read(molecule, \"6-31g*\", ostream=None)"
   ]
  },
  {
   "cell_type": "markdown",
   "id": "32e26d97-5126-4b13-b28f-50f286e47ff9",
   "metadata": {
    "editable": true,
    "slideshow": {
     "slide_type": ""
    },
    "tags": []
   },
   "source": [
    "A calculation of CHELPG charges is performed with the `compute` method of the `RespChargesDriver` class."
   ]
  },
  {
   "cell_type": "code",
   "execution_count": 6,
   "id": "4e2a2f9d-a9cc-4a86-bc58-13a26eff5b3c",
   "metadata": {
    "editable": true,
    "scrolled": true,
    "slideshow": {
     "slide_type": ""
    },
    "tags": [
     "remove-output"
    ]
   },
   "outputs": [
    {
     "name": "stdout",
     "output_type": "stream",
     "text": [
      "                                                                                                                          \n",
      "                                            Self Consistent Field Driver Setup                                            \n",
      "                                           ====================================                                           \n",
      "                                                                                                                          \n",
      "                   Wave Function Model             : Spin-Restricted Hartree-Fock                                         \n",
      "                   Initial Guess Model             : Superposition of Atomic Densities                                    \n",
      "                   Convergence Accelerator         : Two Level Direct Inversion of Iterative Subspace                     \n",
      "                   Max. Number of Iterations       : 50                                                                   \n",
      "                   Max. Number of Error Vectors    : 10                                                                   \n",
      "                   Convergence Threshold           : 1.0e-06                                                              \n",
      "                   ERI Screening Scheme            : Cauchy Schwarz + Density                                             \n",
      "                   ERI Screening Mode              : Dynamic                                                              \n",
      "                   ERI Screening Threshold         : 1.0e-12                                                              \n",
      "                   Linear Dependence Threshold     : 1.0e-06                                                              \n",
      "                                                                                                                          \n",
      "* Info * Nuclear repulsion energy: 40.7905269056 a.u.                                                                     \n",
      "                                                                                                                          \n",
      "* Info * Overlap matrix computed in 0.00 sec.                                                                             \n",
      "                                                                                                                          \n",
      "* Info * Kinetic energy matrix computed in 0.00 sec.                                                                      \n",
      "                                                                                                                          \n",
      "* Info * Nuclear potential matrix computed in 0.00 sec.                                                                   \n",
      "                                                                                                                          \n",
      "* Info * Orthogonalization matrix computed in 0.00 sec.                                                                   \n",
      "                                                                                                                          \n",
      "* Info * SAD initial guess computed in 0.00 sec.                                                                          \n",
      "                                                                                                                          \n",
      "* Info * Starting Reduced Basis SCF calculation...                                                                        \n",
      "* Info * ...done. SCF energy in reduced basis set: -114.985032985890 a.u. Time: 0.07 sec.                                 \n",
      "                                                                                                                          \n",
      "* Info * Overlap matrix computed in 0.00 sec.                                                                             \n",
      "                                                                                                                          \n",
      "* Info * Kinetic energy matrix computed in 0.00 sec.                                                                      \n",
      "                                                                                                                          \n",
      "* Info * Nuclear potential matrix computed in 0.00 sec.                                                                   \n",
      "                                                                                                                          \n",
      "* Info * Orthogonalization matrix computed in 0.00 sec.                                                                   \n",
      "                                                                                                                          \n",
      "                                                                                                                          \n",
      "               Iter. | Hartree-Fock Energy | Energy Change | Gradient Norm | Max. Gradient | Density Change               \n",
      "               --------------------------------------------------------------------------------------------               \n",
      "                  1      -115.032021373767    0.0000000000      0.10561496      0.01073595      0.00000000                \n",
      "                  2      -115.033364531173   -0.0013431574      0.02950655      0.00322591      0.03217571                \n",
      "                  3      -115.033456600930   -0.0000920698      0.00704969      0.00102142      0.00818301                \n",
      "                  4      -115.033464330376   -0.0000077294      0.00228091      0.00024838      0.00293658                \n",
      "                  5      -115.033465128765   -0.0000007984      0.00072251      0.00008150      0.00125344                \n",
      "                  6      -115.033465190219   -0.0000000615      0.00018165      0.00002426      0.00023082                \n",
      "                  7      -115.033465197024   -0.0000000068      0.00002992      0.00000331      0.00011268                \n",
      "                  8      -115.033465197232   -0.0000000002      0.00000474      0.00000064      0.00001891                \n",
      "                  9      -115.033465197239   -0.0000000000      0.00000106      0.00000011      0.00000382                \n",
      "                 10      -115.033465197239   -0.0000000000      0.00000016      0.00000002      0.00000079                \n",
      "                                                                                                                          \n",
      "* Info * Checkpoint written to file: veloxchem_esp_2023-11-04T09.50.18_d2cbf8ac.scf.h5                                    \n",
      "                                                                                                                          \n",
      "* Info * SCF tensors written to file: veloxchem_esp_2023-11-04T09.50.18_d2cbf8ac.scf.tensors.h5                           \n",
      "                                                                                                                          \n",
      "               *** SCF converged in 10 iterations. Time: 0.60 sec.                                                        \n",
      "                                                                                                                          \n",
      "               Spin-Restricted Hartree-Fock:                                                                              \n",
      "               -----------------------------                                                                              \n",
      "               Total Energy                       :     -115.0334651972 a.u.                                              \n",
      "               Electronic Energy                  :     -155.8239921029 a.u.                                              \n",
      "               Nuclear Repulsion Energy           :       40.7905269056 a.u.                                              \n",
      "               ------------------------------------                                                                       \n",
      "               Gradient Norm                      :        0.0000001611 a.u.                                              \n",
      "                                                                                                                          \n",
      "                                                                                                                          \n",
      "               Ground State Information                                                                                   \n",
      "               ------------------------                                                                                   \n",
      "               Charge of Molecule            :  0.0                                                                       \n",
      "               Multiplicity (2S+1)           :  1.0                                                                       \n",
      "               Magnetic Quantum Number (M_S) :  0.0                                                                       \n",
      "                                                                                                                          \n",
      "                                                                                                                          \n",
      "                                                 Spin Restricted Orbitals                                                 \n",
      "                                                 ------------------------                                                 \n",
      "                                                                                                                          \n",
      "               Molecular Orbital No.   5:                                                                                 \n",
      "               --------------------------                                                                                 \n",
      "               Occupation: 2.000 Energy:   -0.69518 a.u.                                                                  \n",
      "               (   2 C   1p0 :     0.24) (   5 O   1p+1:     0.26) (   5 O   1p0 :     0.34)                              \n",
      "               (   5 O   2p0 :     0.21) (   6 H   1s  :    -0.21)                                                        \n",
      "                                                                                                                          \n",
      "               Molecular Orbital No.   6:                                                                                 \n",
      "               --------------------------                                                                                 \n",
      "               Occupation: 2.000 Energy:   -0.62095 a.u.                                                                  \n",
      "               (   2 C   1p-1:    -0.37) (   2 C   2p-1:    -0.17) (   3 H   1s  :    -0.18)                              \n",
      "               (   4 H   1s  :     0.18) (   5 O   1p-1:    -0.35) (   5 O   2p-1:    -0.24)                              \n",
      "                                                                                                                          \n",
      "               Molecular Orbital No.   7:                                                                                 \n",
      "               --------------------------                                                                                 \n",
      "               Occupation: 2.000 Energy:   -0.59115 a.u.                                                                  \n",
      "               (   1 H   1s  :    -0.20) (   2 C   1p+1:    -0.33) (   2 C   1p0 :    -0.18)                              \n",
      "               (   5 O   1p+1:     0.38) (   5 O   1p0 :    -0.20) (   5 O   2p+1:     0.26)                              \n",
      "                                                                                                                          \n",
      "               Molecular Orbital No.   8:                                                                                 \n",
      "               --------------------------                                                                                 \n",
      "               Occupation: 2.000 Energy:   -0.49854 a.u.                                                                  \n",
      "               (   1 H   1s  :     0.21) (   1 H   2s  :     0.19) (   2 C   1p0 :     0.33)                              \n",
      "               (   2 C   2p0 :     0.15) (   5 O   3s  :    -0.20) (   5 O   1p0 :    -0.39)                              \n",
      "               (   5 O   2p0 :    -0.31)                                                                                  \n",
      "                                                                                                                          \n",
      "               Molecular Orbital No.   9:                                                                                 \n",
      "               --------------------------                                                                                 \n",
      "               Occupation: 2.000 Energy:   -0.44280 a.u.                                                                  \n",
      "               (   2 C   1p-1:    -0.24) (   3 H   1s  :    -0.17) (   3 H   2s  :    -0.19)                              \n",
      "               (   4 H   1s  :     0.17) (   4 H   2s  :     0.19) (   5 O   1p-1:     0.54)                              \n",
      "               (   5 O   2p-1:     0.45)                                                                                  \n",
      "                                                                                                                          \n",
      "               Molecular Orbital No.  10:                                                                                 \n",
      "               --------------------------                                                                                 \n",
      "               Occupation: 0.000 Energy:    0.22679 a.u.                                                                  \n",
      "               (   1 H   2s  :     0.54) (   2 C   3s  :    -1.23) (   2 C   2p+1:    -0.55)                              \n",
      "               (   3 H   2s  :     0.68) (   4 H   2s  :     0.68) (   5 O   3s  :    -0.89)                              \n",
      "               (   5 O   1p0 :     0.17) (   5 O   2p+1:     0.16) (   5 O   2p0 :     0.41)                              \n",
      "               (   6 H   2s  :     1.19)                                                                                  \n",
      "                                                                                                                          \n",
      "               Molecular Orbital No.  11:                                                                                 \n",
      "               --------------------------                                                                                 \n",
      "               Occupation: 0.000 Energy:    0.28262 a.u.                                                                  \n",
      "               (   1 H   2s  :    -1.09) (   2 C   3s  :     2.27) (   2 C   2p+1:     0.19)                              \n",
      "               (   3 H   2s  :    -1.03) (   4 H   2s  :    -1.03) (   5 O   3s  :    -0.82)                              \n",
      "               (   5 O   2p0 :     0.35) (   6 H   2s  :     0.89)                                                        \n",
      "                                                                                                                          \n",
      "               Molecular Orbital No.  12:                                                                                 \n",
      "               --------------------------                                                                                 \n",
      "               Occupation: 0.000 Energy:    0.31869 a.u.                                                                  \n",
      "               (   1 H   2s  :     1.89) (   2 C   3s  :     0.17) (   2 C   1p0 :    -0.33)                              \n",
      "               (   2 C   2p+1:    -0.51) (   2 C   2p0 :    -1.41) (   3 H   2s  :    -0.90)                              \n",
      "               (   4 H   2s  :    -0.90) (   5 O   2p0 :     0.20) (   6 H   2s  :    -0.18)                              \n",
      "                                                                                                                          \n",
      "               Molecular Orbital No.  13:                                                                                 \n",
      "               --------------------------                                                                                 \n",
      "               Occupation: 0.000 Energy:    0.32827 a.u.                                                                  \n",
      "               (   2 C   1p-1:    -0.37) (   2 C   2p-1:    -1.50) (   3 H   2s  :     1.66)                              \n",
      "               (   4 H   2s  :    -1.66) (   5 O   2p-1:     0.26)                                                        \n",
      "                                                                                                                          \n",
      "               Molecular Orbital No.  14:                                                                                 \n",
      "               --------------------------                                                                                 \n",
      "               Occupation: 0.000 Energy:    0.38876 a.u.                                                                  \n",
      "               (   1 H   2s  :     0.42) (   2 C   3s  :    -1.11) (   2 C   1p+1:     0.17)                              \n",
      "               (   2 C   2p+1:     1.53) (   2 C   2p0 :    -0.70) (   3 H   2s  :    -0.28)                              \n",
      "               (   4 H   2s  :    -0.28) (   5 O   3s  :     0.88) (   5 O   1p+1:     0.31)                              \n",
      "               (   5 O   2p+1:     1.02) (   6 H   2s  :     0.93)                                                        \n",
      "                                                                                                                          \n",
      "                                                                                                                          \n",
      "                                                 ESP Charges Driver Setup                                                 \n",
      "                                                ==========================                                                \n",
      "                                                                                                                          \n",
      "                                         Number of Conformers         :  1                                                \n",
      "                                         Grid Spacing in Angstrom     :  0.3                                              \n",
      "                                         Grid Margin in Angstrom      :  2.8                                              \n",
      "                                         Total Number of Grid Points  :  5890                                             \n",
      "                                                                                                                          \n",
      "                                                    CHELPG ESP Charges                                                    \n",
      "                                                --------------------------                                                \n",
      "                                                                                                                          \n",
      "                                              No.   Atom      Charge (a.u.)                                               \n",
      "                                             -------------------------------                                              \n",
      "                                                1     H         0.003200                                                  \n",
      "                                                2     C         0.225480                                                  \n",
      "                                                3     H         0.003200                                                  \n",
      "                                                4     H         0.003200                                                  \n",
      "                                                5     O        -0.611345                                                  \n",
      "                                                6     H         0.376265                                                  \n",
      "                                             -------------------------------                                              \n",
      "                                               Total Charge  :  0.000000                                                  \n",
      "                                                                                                                          \n",
      "                                                       Fit Quality                                                        \n",
      "                                                      -------------                                                       \n",
      "                                       Relative Root-Mean-Square Error  :  0.186800                                       \n",
      "                                                                                                                          \n",
      "                                       Reference:                                                                         \n",
      "                                       J. Comput. Chem. 1990, 11, 361-373.                                                \n",
      "                                                                                                                          \n"
     ]
    }
   ],
   "source": [
    "esp_drv = vlx.RespChargesDriver()\n",
    "\n",
    "esp_drv.grid_type = \"chelpg\"\n",
    "\n",
    "esp_drv.equal_charges = \"1=3, 1=4\"\n",
    "\n",
    "chelpg_charges = esp_drv.compute(molecule, basis, \"esp\")"
   ]
  },
  {
   "cell_type": "code",
   "execution_count": 8,
   "id": "f90a917b",
   "metadata": {
    "editable": true,
    "slideshow": {
     "slide_type": ""
    },
    "tags": []
   },
   "outputs": [
    {
     "name": "stdout",
     "output_type": "stream",
     "text": [
      "Atom    CHELPG charge\n",
      "--------------------\n",
      "H           0.003200\n",
      "C           0.225480\n",
      "H           0.003200\n",
      "H           0.003200\n",
      "O          -0.611345\n",
      "H           0.376265\n",
      "--------------------\n",
      "Total:      0.000000\n"
     ]
    }
   ],
   "source": [
    "print(\"Atom    CHELPG charge\")\n",
    "\n",
    "print(20 * \"-\")\n",
    "\n",
    "for label, chelpg_charge in zip(molecule.get_labels(), chelpg_charges):\n",
    "    print(f\"{label :s} {chelpg_charge : 18.6f}\")\n",
    "\n",
    "print(20 * \"-\")\n",
    "\n",
    "print(f\"Total: {chelpg_charges.sum() : 13.6f}\")"
   ]
  },
  {
   "cell_type": "markdown",
   "id": "4963896f-3e2b-4d69-baa5-79eb9b3c53c8",
   "metadata": {
    "editable": true,
    "slideshow": {
     "slide_type": ""
    },
    "tags": []
   },
   "source": [
    "Compared to the ESP results, the positive charge of the methyl group is here found to be more localized to the carbon atom."
   ]
  }
 ],
 "metadata": {
  "celltoolbar": "Tags",
  "kernelspec": {
   "display_name": "Python 3 (ipykernel)",
   "language": "python",
   "name": "python3"
  },
  "language_info": {
   "codemirror_mode": {
    "name": "ipython",
    "version": 3
   },
   "file_extension": ".py",
   "mimetype": "text/x-python",
   "name": "python",
   "nbconvert_exporter": "python",
   "pygments_lexer": "ipython3",
   "version": "3.11.6"
  }
 },
 "nbformat": 4,
 "nbformat_minor": 5
}
