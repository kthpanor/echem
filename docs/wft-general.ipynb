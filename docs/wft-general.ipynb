{
 "cells": [
  {
   "cell_type": "markdown",
   "id": "hairy-connecticut",
   "metadata": {},
   "source": [
    "# General aspects\n",
    "\n",
    "In this section we will cover general aspects of electronic structure theory using wave function theory approaches.\n",
    "\n",
    "## Hamiltonian\n",
    "## Variational principle"
   ]
  },
  {
   "cell_type": "markdown",
   "id": "reserved-transmission",
   "metadata": {},
   "source": [
    "## Electron correlation\n",
    "\n",
    "The electron correlation describes instantaneous interaction between electrons in a molecular system. This interaction manifests itself as a relationship between one- and two-electron density matrices \n",
    "\n",
    "$$\n",
    "\\rho(\\mathbf{r}, \\mathbf{r}') \\neq \\rho(\\mathbf{r}) \\rho(\\mathbf{r}')\n",
    "$$\n",
    "\n",
    "where $\\rho(\\mathbf{r}, \\mathbf{r}')$ is the two-electron density. If the molecular system is described by the wave function model, which does not permit instantaneous electron interaction, the relationship between density matrices becomes \n",
    "\n",
    "$$\n",
    "\\rho(\\mathbf{r}, \\mathbf{r}') = \\rho(\\mathbf{r}) \\rho(\\mathbf{r}')\n",
    "$$\n",
    "\n",
    "indicating completely independent motion of electron in the molecular system. The electron correlation arises from two primary sources fermionic nature of electrons and interaction between electrons. From the perspective of the Hartree-Fock method,  the fermionic nature of electrons is accounted for by the construction of wave function from a single Slater determinant, and the latter source of electron correlation is neglected by introducing effective Coulomb interaction between electrons. The ability of the wave function model to describe electron correlation can be quantified via electron correlation energy $E_{corr}$, which is defined following Löwdin {cite:p}`Lowdin1980` as  \n",
    "\n",
    "$$\n",
    "E_{corr} = E_{WF} - E_{HF} \\ , \n",
    "$$\n",
    "where $E_{WF}$ is the energy of the molecular system computed by the selected wave function model, $E_{HF}$ is the energy of the molecular system computed using the Hartree-Fock method.\n",
    "\n",
    "To illustrate these concepts, we will use the configuration interaction (CI) method on the H$_2$ molecule. The theory for the method will be explained in the next section. For now, it suffices to say that it provides the exact correlation energy within the chosen atomic basis set."
   ]
  },
  {
   "cell_type": "code",
   "execution_count": 7,
   "id": "handmade-patent",
   "metadata": {
    "tags": [
     "output_scroll"
    ]
   },
   "outputs": [
    {
     "name": "stdout",
     "output_type": "stream",
     "text": [
      "                                                                                                                          \n",
      "                                            Self Consistent Field Driver Setup                                            \n",
      "                                           ====================================                                           \n",
      "                                                                                                                          \n",
      "                   Wave Function Model             : Spin-Restricted Hartree-Fock                                         \n",
      "                   Initial Guess Model             : Superposition of Atomic Densities                                    \n",
      "                   Convergence Accelerator         : Two Level Direct Inversion of Iterative Subspace                     \n",
      "                   Max. Number of Iterations       : 50                                                                   \n",
      "                   Max. Number of Error Vectors    : 10                                                                   \n",
      "                   Convergence Threshold           : 1.0e-06                                                              \n",
      "                   ERI Screening Scheme            : Cauchy Schwarz + Density                                             \n",
      "                   ERI Screening Mode              : Dynamic                                                              \n",
      "                   ERI Screening Threshold         : 1.0e-12                                                              \n",
      "                   Linear Dependence Threshold     : 1.0e-06                                                              \n",
      "                                                                                                                          \n",
      "* Info * Nuclear repulsion energy: 0.7141392860 au                                                                        \n",
      "                                                                                                                          \n",
      "* Info * Overlap matrix computed in 0.00 sec.                                                                             \n",
      "                                                                                                                          \n",
      "* Info * Kinetic energy matrix computed in 0.00 sec.                                                                      \n",
      "                                                                                                                          \n",
      "* Info * Nuclear potential matrix computed in 0.00 sec.                                                                   \n",
      "                                                                                                                          \n",
      "* Info * Orthogonalization matrix computed in 0.00 sec.                                                                   \n",
      "                                                                                                                          \n",
      "* Info * SAD initial guess computed in 0.02 sec.                                                                          \n",
      "                                                                                                                          \n",
      "* Info * Starting Reduced Basis SCF calculation...                                                                        \n",
      "* Info * ...done. SCF energy in reduced basis set: -1.116706137236 au. Time: 0.04 sec.                                    \n",
      "                                                                                                                          \n",
      "* Info * Overlap matrix computed in 0.01 sec.                                                                             \n",
      "                                                                                                                          \n",
      "* Info * Kinetic energy matrix computed in 0.00 sec.                                                                      \n",
      "                                                                                                                          \n",
      "* Info * Nuclear potential matrix computed in 0.00 sec.                                                                   \n",
      "                                                                                                                          \n",
      "* Info * Orthogonalization matrix computed in 0.00 sec.                                                                   \n",
      "                                                                                                                          \n",
      "                                                                                                                          \n",
      "               Iter. | Hartree-Fock Energy | Energy Change | Gradient Norm | Max. Gradient | Density Change               \n",
      "               --------------------------------------------------------------------------------------------               \n",
      "                  1        -1.116706137236    0.0000000000      0.00000000      0.00000000      0.00000000                \n",
      "                                                                                                                          \n",
      "               *** SCF converged in 1 iterations. Time: 0.03 sec.                                                         \n",
      "                                                                                                                          \n",
      "               Spin-Restricted Hartree-Fock:                                                                              \n",
      "               -----------------------------                                                                              \n",
      "               Total Energy                       :       -1.1167061372 au                                                \n",
      "               Electronic Energy                  :       -1.8308454232 au                                                \n",
      "               Nuclear Repulsion Energy           :        0.7141392860 au                                                \n",
      "               ------------------------------------                                                                       \n",
      "               Gradient Norm                      :        0.0000000000 au                                                \n",
      "                                                                                                                          \n",
      "                                                                                                                          \n",
      "               Ground State Information                                                                                   \n",
      "               ------------------------                                                                                   \n",
      "               Charge of Molecule            :  0.0                                                                       \n",
      "               Multiplicity (2S+1)           :  1.0                                                                       \n",
      "               Magnetic Quantum Number (M_S) :  0.0                                                                       \n",
      "                                                                                                                          \n",
      "                                                                                                                          \n",
      "                                                 Spin Restricted Orbitals                                                 \n",
      "                                                 ------------------------                                                 \n",
      "                                                                                                                          \n",
      "               Molecular Orbital No.   1:                                                                                 \n",
      "               --------------------------                                                                                 \n",
      "               Occupation: 2.0 Energy:   -0.57814 au                                                                      \n",
      "               (   1 H   1s  :    -0.55) (   2 H   1s  :    -0.55)                                                        \n",
      "                                                                                                                          \n",
      "               Molecular Orbital No.   2:                                                                                 \n",
      "               --------------------------                                                                                 \n",
      "               Occupation: 0.0 Energy:    0.67011 au                                                                      \n",
      "               (   1 H   1s  :     1.21) (   2 H   1s  :    -1.21)                                                        \n",
      "                                                                                                                          \n"
     ]
    },
    {
     "name": "stdout",
     "output_type": "stream",
     "text": [
      "\n",
      "          Active space definition:\n",
      "          ------------------------\n",
      "Number of inactive (occupied) orbitals: 0\n",
      "Number of active orbitals:              2\n",
      "Number of virtual orbitals:             0\n",
      "\n",
      "    This is a CASSCF wavefunction: CAS(2,2)\n",
      "\n",
      "          CI expansion:\n",
      "          -------------\n",
      "Number of determinants:      3\n",
      "\n",
      "\n",
      "\n",
      "        CI Iterations\n",
      "        -------------\n",
      "\n",
      "Iteration   Average energy      Time\n",
      "     1        -1.13727441   0:00:00\n",
      "Convergence reached in 1 iterations\n",
      "\n",
      "State energies:\n",
      "[-1.13727]\n",
      "\n",
      "Natural orbitals for state 1\n",
      "[1.97458 0.02542]\n"
     ]
    }
   ],
   "source": [
    "import veloxchem as vlx\n",
    "import multipsi as mtp\n",
    "import matplotlib.pyplot as plt\n",
    "import numpy as np\n",
    "from scipy import interpolate\n",
    "from scipy.integrate import simps\n",
    "\n",
    "mol_str = \"\"\"\n",
    "H     0.000000    0.000000   -0.370500\n",
    "H     0.000000    0.000000    0.370500\n",
    "\"\"\"\n",
    "\n",
    "au_to_nm = 0.0529177 # length conversion factor\n",
    "Hz = 0.370500 / 10 / au_to_nm #Position of the H in atomic units.\n",
    "\n",
    "molecule = vlx.Molecule.read_str(mol_str, units='angstrom')\n",
    "basis = vlx.MolecularBasis.read(molecule, 'sto-3g')\n",
    "\n",
    "scf_drv = vlx.ScfRestrictedDriver()\n",
    "scf_drv.compute(molecule, basis)\n",
    "\n",
    "space=mtp.MolSpace(molecule,scf_drv.mol_orbs)\n",
    "space.FCI()\n",
    "CIdrv=mtp.CIDriver(molecule,basis,space)\n",
    "CIdrv.compute(1)"
   ]
  },
  {
   "cell_type": "markdown",
   "id": "random-consumer",
   "metadata": {},
   "source": [
    "If we print the HF and the CI energy, we can see that the CI energy is indeed lower, although the electron correlation is a relatively small correction compared to the absolute energy of the molecule. In other words, HF already captured by far most of the energy of the system."
   ]
  },
  {
   "cell_type": "code",
   "execution_count": 3,
   "id": "adolescent-frontier",
   "metadata": {},
   "outputs": [
    {
     "name": "stdout",
     "output_type": "stream",
     "text": [
      "Hartree-Fock energy:              -1.116706137236124\n",
      "Configuration interaction energy: -1.1372744055294606\n",
      "Correlation energy:               -0.020568268293336578\n"
     ]
    }
   ],
   "source": [
    "print(\"Hartree-Fock energy:             \",scf_drv.get_scf_energy())\n",
    "print(\"Configuration interaction energy:\",CIdrv.getEnergies()[0])\n",
    "print(\"Correlation energy:              \", CIdrv.getEnergies()[0]-scf_drv.get_scf_energy())"
   ]
  },
  {
   "cell_type": "markdown",
   "id": "separated-combination",
   "metadata": {},
   "source": [
    "Now that we have both the Hartree-Fock and a correlated wavefunction, we can visualize the densities using the Visualization driver of Veloxchem. This module will give us the value of the two orbitals of the system ($\\sigma_g$ and $\\sigma_u$) along the z-axis."
   ]
  },
  {
   "cell_type": "code",
   "execution_count": 5,
   "id": "asian-quilt",
   "metadata": {},
   "outputs": [],
   "source": [
    "# visualization\n",
    "vis_drv = vlx.VisualizationDriver()\n",
    "\n",
    "# mo values at given coordinates\n",
    "mol_orbs = scf_drv.mol_orbs\n",
    "\n",
    "n = 100\n",
    "coords = np.zeros((n,3))\n",
    "coords[:,2] = np.linspace(-3, 3, n, endpoint=True)\n",
    "\n",
    "sigma_g = np.array(vis_drv.get_mo(coords, molecule, basis, mol_orbs, 0, 'alpha'))\n",
    "sigma_u = np.array(vis_drv.get_mo(coords, molecule, basis, mol_orbs, 1, 'alpha'))"
   ]
  },
  {
   "cell_type": "markdown",
   "id": "beneficial-inspiration",
   "metadata": {},
   "source": [
    "We can now plot the densities of both HF and CI along this axis. The density is simply the product of the density matrix with the value of the density of the orbitals on the grid. For HF, the density matrix is simply \"2\" for the occupied orbitals and \"0\" for the unoccupied ones. For CI, it is a bit more complicated, but is provided by the CI driver."
   ]
  },
  {
   "cell_type": "code",
   "execution_count": 25,
   "id": "tamil-portsmouth",
   "metadata": {},
   "outputs": [
    {
     "name": "stdout",
     "output_type": "stream",
     "text": [
      "CI density matrix\n",
      "[[1.97458 0.00000]\n",
      " [0.00000 0.02542]]\n"
     ]
    }
   ],
   "source": [
    "CIDM=CIdrv.get1den(0)\n",
    "print(\"CI density matrix\")\n",
    "print(CIDM)"
   ]
  },
  {
   "cell_type": "code",
   "execution_count": 26,
   "id": "personalized-zealand",
   "metadata": {},
   "outputs": [
    {
     "data": {
      "text/plain": [
       "[-3.0, 3.0, 0.0, 0.4]"
      ]
     },
     "execution_count": 26,
     "metadata": {},
     "output_type": "execute_result"
    },
    {
     "data": {
      "image/png": "[encoded data removed]",
      "text/plain": [
       "<Figure size 432x288 with 1 Axes>"
      ]
     },
     "metadata": {
      "needs_background": "light"
     },
     "output_type": "display_data"
    }
   ],
   "source": [
    "n1_HF = 2 * sigma_g**2\n",
    "n1_CI = CIDM[0,0] * sigma_g**2 + CIDM[1,1] * sigma_u**2\n",
    "\n",
    "fig = plt.figure(1)\n",
    "plt.axes()\n",
    "plt.plot(coords[:,2], n1_HF)\n",
    "plt.plot(coords[:,2], n1_CI)\n",
    "\n",
    "plt.axvline(x=Hz, color='0.5', linewidth = 0.7, dashes = [3,1,3,1])\n",
    "plt.axvline(x=-Hz, color='0.5', linewidth = 0.7, dashes = [3,1,3,1])\n",
    "plt.setp(plt.gca(), xlim = (-3,3), ylim = (0,0.4))"
   ]
  },
  {
   "cell_type": "markdown",
   "id": "liable-faculty",
   "metadata": {},
   "source": [
    "As you can see, the difference in densities is very minor. Looking closely, it is possible to notice a little decreased density in the middle of the bond for CI, compensated by a minor increase around the nuclei. It fits the intuitive picture that correlation allows the electrons to stay away from each other, increasing the probability that each is around a different nucleus and reducing the probability that they both stand in the center of the bond. Still the effect is relatively minor.\n",
    "\n",
    "Let us now look instead at the two-body density, but fixing the position of the first electron to be on the nucleus:"
   ]
  },
  {
   "cell_type": "code",
   "execution_count": 28,
   "id": "operating-spanish",
   "metadata": {},
   "outputs": [
    {
     "name": "stdout",
     "output_type": "stream",
     "text": [
      "CI 2-body density matrix\n",
      "[[[[1.97458 0.00000]\n",
      "   [0.00000 0.00000]]\n",
      "\n",
      "  [[0.00000 -0.22405]\n",
      "   [0.00000 -0.00000]]]\n",
      "\n",
      "\n",
      " [[[0.00000 0.00000]\n",
      "   [-0.22405 -0.00000]]\n",
      "\n",
      "  [[0.00000 -0.00000]\n",
      "   [-0.00000 0.02542]]]]\n"
     ]
    }
   ],
   "source": [
    "CIDM2=CIdrv.get2den(0)\n",
    "print(\"CI 2-body density matrix\")\n",
    "print(CIDM2)\n",
    "\n",
    "# electron 1 at the position of the hydrogen nucleus\n",
    "# electron 2 anywhere on the internuclear axis\n",
    "h1 = [[0, 0, Hz]]\n",
    "sigma_g_at_h1 = vis_drv.get_mo(h1, molecule, basis, mol_orbs, 0, 'alpha')[0]\n",
    "sigma_u_at_h1 = vis_drv.get_mo(h1, molecule, basis, mol_orbs, 1, 'alpha')[0]"
   ]
  },
  {
   "cell_type": "code",
   "execution_count": 29,
   "id": "bacterial-greece",
   "metadata": {},
   "outputs": [
    {
     "data": {
      "text/plain": [
       "[-3.0, 3.0, 0.0, 0.1]"
      ]
     },
     "execution_count": 29,
     "metadata": {},
     "output_type": "execute_result"
    },
    {
     "data": {
      "image/png": "[encoded data removed]",
      "text/plain": [
       "<Figure size 432x288 with 1 Axes>"
      ]
     },
     "metadata": {
      "needs_background": "light"
     },
     "output_type": "display_data"
    }
   ],
   "source": [
    "n12_HF = 2 * sigma_g_at_h1**2 * sigma_g**2\n",
    "n12_CI = (CIDM2[0,0,0,0] * sigma_g_at_h1**2 * sigma_g**2 \n",
    "       + CIDM2[1,1,1,1] * sigma_u_at_h1**2 * sigma_u**2\n",
    "       + 2* CIDM2[0,1,0,1] * sigma_g * sigma_u * sigma_g_at_h1* sigma_u_at_h1)\n",
    "        \n",
    "fig = plt.figure(2)\n",
    "plt.axes()\n",
    "plt.plot(coords[:,2], n12_HF)\n",
    "plt.plot(coords[:,2], n12_CI)\n",
    "\n",
    "plt.axvline(x=Hz, color='0.5', linewidth = 0.7, dashes = [3,1,3,1])\n",
    "plt.axvline(x=-Hz, color='0.5', linewidth = 0.7, dashes = [3,1,3,1])\n",
    "plt.setp(plt.gca(), xlim = (-3,3), ylim = (0,0.1))"
   ]
  },
  {
   "cell_type": "markdown",
   "id": "guilty-samoa",
   "metadata": {},
   "source": [
    "This results shows very clearly how for the CI wavefunction, the density of electron 2 for electron 1 fixed at the hydrogen atom is very different than the total density, with the second electron preferentially sitting on the other hydrogen. This effect was not showing in the 1-body density because the 1-body density shows only the averaged result, taking into account all possible positions of the other electron. On the other hand, for the Hartree-Fock wavefunction, even the two-body density does not show any correlation: the wavefunction itself is uncorrelated."
   ]
  },
  {
   "cell_type": "markdown",
   "id": "abstract-stranger",
   "metadata": {},
   "source": [
    "## Integral transformation techniques\n",
    "\n",
    "Most correlated wavefunction theories rely on the integrals in the molecular orbital basis. For some methods, like Møller-Plesset second order perturbation theory, this step is even the most time-consuming step of the calculation.\n",
    "\n",
    "Conventionally, this is done by transforming the atomic orbital integrals (a four-dimensional tensor) to molecular basis. For example the $\\langle ij|ab \\rangle$ integrals can be obtained via\n",
    "\n",
    "\\begin{eqnarray}\n",
    "\\langle \\mu \\nu|\\lambda b \\rangle &= \\sum_{\\sigma} C_{\\sigma b} \\langle \\mu \\nu | \\lambda \\sigma \\rangle \\\\\n",
    "\\langle \\mu \\nu|a b \\rangle &= \\sum_{\\lambda} C_{\\lambda a} \\langle \\mu \\nu | \\lambda b \\rangle \\\\\n",
    "\\langle \\mu j|a b \\rangle &= \\sum_{\\nu} C_{\\nu j} \\langle \\mu \\nu | a b \\rangle \\\\\n",
    "\\langle i j|a b \\rangle &= \\sum_{\\mu} C_{\\mu i} \\langle \\mu j | a b \\rangle\n",
    "\\end{eqnarray}\n",
    "\n",
    "where $\\mu$, $\\nu$, $\\lambda$ and $\\sigma$ denote the atomic orbitals.\n",
    "The computational cost of this procedure is $O(N^5)$, since each summation involves five indices. Note that the intermediate result of the transformation needs to be explicitly stored in memory. This can be demanding as the required memory increases as $O(N^4)$ where $N$ is the number of contracted basis functions.\n",
    "\n",
    "An alternative way of getting the molecular orbital integrals is through the direct formation of many Fock matrices. Taking the $\\langle ij|ab \\rangle$ integrals as an example, we can in practice build $N_{occ} \\times N_{occ}$ density matrices using the coefficients of the occupied orbitals, and form the corresponding Fock matrices that can then be transformed into molecular basis by the coefficients of the virtual orbitals. \n",
    "\n",
    "\\begin{eqnarray}\n",
    "D^{ij}_{\\mu \\nu} &= C_{\\mu i} C_{\\nu j} \\\\\n",
    "K^{ij}_{\\lambda \\sigma} &= \\sum_{\\mu\\nu} \\langle \\mu \\nu| \\lambda \\sigma \\rangle D^{ij}_{\\mu\\nu} \\\\\n",
    "\\langle ij|ab \\rangle &= \\sum_{\\lambda \\sigma} C_{\\lambda a} K^{ij}_{\\lambda \\sigma} C_{\\sigma b}\n",
    "\\end{eqnarray}\n",
    "\n",
    "The computational cost of this approach is formally $O(N^6)$; however, in practice the cost scales between $O(N^4)$ and $O(N^5)$ due to screening of integrals in the formation of Fock matrices. An advantage of this approach is that the Fock matrices can be computed and stored on individual compute nodes, making it suitable for large-scale parallelization on HPC systems."
   ]
  },
  {
   "cell_type": "markdown",
   "id": "latin-actor",
   "metadata": {
    "scrolled": true
   },
   "source": [
    "## Rayleigh--Schrödinger perturbation theory\n",
    "We want to solve the time-independent Schrödinger equation: \n",
    "\n",
    "$$\n",
    "\\hat{H} \\Psi = E \\Psi\n",
    "$$\n",
    "\n",
    "In perturbation theory, the Hamiltonian is partitioned into *zeroth-order* and *perturbation* terms:\n",
    "\n",
    "$$\n",
    "(\\hat{H_0} + \\lambda \\hat{V}) \\Psi = E \\Psi\n",
    "$$\n",
    "\n",
    "with $\\lambda$ the coupling strength of the perturbation. We assume that the complete spectrum of the zeroth-order Hamiltonian is known:\n",
    "\n",
    "$$\n",
    "\\label{E0}\n",
    "\\tag{1}\n",
    "\\hat{H_0} \\Psi^{(0)}_{n} = E_{n}^{(0)} \\Psi^{(0)}_{n}\n",
    "$$\n",
    "\n",
    "The energy and wavefunction are expanded in a formal power series in $\\lambda$ and terms to the same order are collected on the left- and right-hand sides:\n",
    "\n",
    "$$\n",
    "(\\hat{H_0} + \\lambda \\hat{V}) \\left( \\sum_{k} \\lambda^{k} \\Psi_{n}^{(k)} \\right) = \\left( \\sum_{k} \\lambda^{k} E_{n}^{(k)} \\right)  \\left(\\sum_{j} \\lambda^{j} \\Psi_{n}^{(j)}\\right).\n",
    "$$\n",
    "\n",
    "Thus:\n",
    "\n",
    "$$\n",
    "(E_{n}^{(0)} - \\hat{H_{0}})\\Psi_{n}^{(m)} = \\hat{V}\\Psi_{n}^{(m-1)} - \\sum_{l = 0}^{m-1} E_{n}^{(m-l)}\\Psi_{n}^{(l)}.\n",
    "$$\n",
    "\n",
    "Energy corrections and perturbative expansion coefficients, $a_{kn}^{(m)} \\equiv \\langle \\Psi_{k}^{(0)} | \\Psi_{n}^{(m)} \\rangle$ , for the wavefunction are obtained by projection onto the set of known zeroth-order eigenfunctions:\n",
    "\n",
    "$$\n",
    "E_{n}^{(m)} = \\left\\langle \\Psi_{n}^{(0)} \\left| \\hat{V} \\right| \\Psi_{n}^{(m-1)} \\right\\rangle,\n",
    "$$\n",
    "\n",
    "and:\n",
    "\n",
    "$$\n",
    "[E_{n}^{(0)} - E_{n}^{(0)}]a_{kn}^{(m)} = \n",
    "\\sum_{j} \\langle \\Psi_{k}^{(0)} | \\hat{V} | \\Psi_{j}^{(0)} \\rangle a_{jn}^{(m-1)} - \n",
    "\\sum_{l = 0}^{m-1} E_{n}^{(m-l)} a_{kn}^{(l)},\\quad \n",
    "a_{kn}^{(0)} = \\delta_{kn},\\,\\,a_{nn}^{(m)} = \\delta_{m0}\n",
    "$$\n",
    "\n",
    "For illustrative purposes, let's show the first terms for state 0 (the ground state). The zeroth order terms $E^{(0)}_{0}$ and $\\Psi^{(0)}_{0}$ are defined by equation \\ref{E0}. The first order terms are:\n",
    "\n",
    "$$\n",
    "E_{0}^{(1)} = \\left\\langle \\Psi_{0}^{(0)} \\left| \\hat{V} \\right| \\Psi_{0}^{(0)} \\right\\rangle\n",
    "$$\n",
    "such that\n",
    "\n",
    "$$\n",
    "E_{0}^{(0)} + E_{0}^{(1)} = \\left\\langle \\Psi_{0}^{(0)} \\left| \\hat{H} \\right| \\Psi_{0}^{(0)} \\right\\rangle\n",
    "$$\n",
    "\n",
    "and\n",
    "\n",
    "$$\n",
    "\\label{PT_amp1}\n",
    "\\tag{2}\n",
    "a_{k0}^{(1)} = \\frac{\\langle \\Psi_{k}^{(0)} | \\hat{V} | \\Psi_{0}^{(0)} \\rangle }{E_{k}^{(0)} - E_{0}^{(0)}}\n",
    "$$\n",
    "\n",
    "and finally, the second order energy becomes\n",
    "\n",
    "$$\n",
    "E_{0}^{(2)} = \\left\\langle \\Psi_{0}^{(0)} \\left| \\hat{V} \\right| \\Psi_{n}^{(1)} \\right\\rangle\n",
    "$$\n",
    "\n",
    "which can be combined with the amplitude equation to become\n",
    "\n",
    "$$ \n",
    "E_{0}^{(2)} =  \\sum_k \\frac{ \\langle \\Psi_{0}^{(0)} | \\hat{V} | \\Psi_{k}^{(0)} \\rangle \\langle \\Psi_{k}^{(0)} | \\hat{V} | \\Psi_{0}^{(0)} \\rangle }{E_{k}^{(0)} - E_{0}^{(0)}} \n",
    "$$"
   ]
  },
  {
   "cell_type": "markdown",
   "id": "periodic-backup",
   "metadata": {},
   "source": [
    "## Particle densities"
   ]
  },
  {
   "cell_type": "code",
   "execution_count": null,
   "id": "combined-bradford",
   "metadata": {},
   "outputs": [],
   "source": []
  }
 ],
 "metadata": {
  "kernelspec": {
   "display_name": "Python 3",
   "language": "python",
   "name": "python3"
  },
  "language_info": {
   "codemirror_mode": {
    "name": "ipython",
    "version": 3
   },
   "file_extension": ".py",
   "mimetype": "text/x-python",
   "name": "python",
   "nbconvert_exporter": "python",
   "pygments_lexer": "ipython3",
   "version": "3.8.6"
  }
 },
 "nbformat": 4,
 "nbformat_minor": 5
}
