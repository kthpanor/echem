{
 "cells": [
  {
   "cell_type": "markdown",
   "metadata": {},
   "source": [
    "# Exercises\n",
    "\n",
    "## n. Spectra\n",
    "\n",
    "Some interesting spectrum, ADC(2)/cc-pVDZ reference (or experimental)\n",
    "- BxLYP\n",
    "- TDHF\n",
    "- RPA versus TDA\n",
    "- ADC series\n",
    "- Multi-reference\n",
    "\n",
    "## Spectrum analysis\n",
    "\n",
    "Provide some experimental spectra - calculate and analyse\n",
    "\n",
    "\n",
    "## n. Charge-transfer state\n",
    "\n",
    "Identify charge-transfer states\n",
    "- TDA versus RPA\n",
    "- MOs\n",
    "- NTOs\n",
    "- Centroids of NTOs?\n",
    "\n",
    "\n",
    "## n. Cost-saving measures\n",
    "\n",
    "Frozen virtuals\n",
    "- Freeze n highest\n",
    "- Freeze with AD recipe\n",
    "- Other approach\n",
    "\n",
    "Compare computational costs\n",
    "- ADC series\n",
    "- CIS, TDHF, BLYP, B3LYP\n",
    "\n",
    "## n. Eigenstates versus CPP\n",
    "\n",
    "- How many states to get the same spectra?\n",
    "- Is the spectra *really* the same?\n",
    "- Changes with $\\gamma$"
   ]
  },
  {
   "cell_type": "markdown",
   "metadata": {},
   "source": [
    "## Solutions\n",
    "\n",
    "### 1. Spectra\n",
    "\n",
    "```{toggle}\n",
    "Results.\n",
    "```"
   ]
  }
 ],
 "metadata": {
  "celltoolbar": "Tags",
  "kernelspec": {
   "display_name": "Python 3 (ipykernel)",
   "language": "python",
   "name": "python3"
  },
  "language_info": {
   "codemirror_mode": {
    "name": "ipython",
    "version": 3
   },
   "file_extension": ".py",
   "mimetype": "text/x-python",
   "name": "python",
   "nbconvert_exporter": "python",
   "pygments_lexer": "ipython3",
   "version": "3.9.12"
  }
 },
 "nbformat": 4,
 "nbformat_minor": 4
}
