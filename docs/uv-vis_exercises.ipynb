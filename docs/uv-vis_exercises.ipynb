{
 "cells": [
  {
   "cell_type": "markdown",
   "metadata": {},
   "source": [
    "# Exercises\n",
    "\n",
    "## Spectrum calculation and assignment\n",
    "\n",
    "**Take your favorite (small) molecule:**\n",
    "- Perform [structure optimization](gsstructopt)\n",
    "    - [Visualize](exc_vis.ipynb) the initial and final structure\n",
    "- Calculate the valence spectra using:\n",
    "    - TDHF\n",
    "    - TDDFT\n",
    "        - BLYP\n",
    "        - B3LYP\n",
    "        - BHandHLYP\n",
    "    - ADC\n",
    "        - ADC(1)\n",
    "        - ADC(2)\n",
    "        - ADC(3/2)\n",
    "    - CI\n",
    "- Plot and compare the spectra\n",
    "    - Which methods agree/disagree?\n",
    "    - How does the absolute energy of BLYP - B3LYP - BHandHLYP - TDHF look?\n",
    "        - COmpare to HOMO-LUMO gaps\n",
    "    - TDHF and ADC(1) [or CIS] should be almost identical - check this\n",
    "- Analyse and assign the features (using the ADC(3/2) results)\n",
    "    - Looking at polarization\n",
    "    - Look at [MOs](exc_vis.ipynb)\n",
    "    - Look at [NTOs](sec:vis_ntos)\n",
    "    - Look at [attachment/detachment densities](sec:vis_attach_det)\n",
    "\n",
    "\n",
    "## Spectrum analysis\n",
    "\n",
    "- Provide some experimental spectra - calculate and analyse\n",
    "\n",
    "\n",
    "## Charge-transfer state\n",
    "\n",
    "Identify charge-transfer states\n",
    "- TDA versus RPA\n",
    "- MOs\n",
    "- NTOs\n",
    "- Centroids of NTOs?\n",
    "\n",
    "\n",
    "## Cost-saving measures\n",
    "\n",
    "Frozen virtuals\n",
    "- Freeze n highest\n",
    "- Freeze with AD recipe\n",
    "- Other approach\n",
    "\n",
    "Compare computational costs\n",
    "- ADC series\n",
    "- CIS, TDHF, BLYP, B3LYP\n",
    "\n",
    "## Eigenstates versus CPP\n",
    "\n",
    "- How many states to get the same spectra?\n",
    "- Is the spectra *really* the same?\n",
    "- Changes with $\\gamma$"
   ]
  },
  {
   "cell_type": "markdown",
   "metadata": {},
   "source": [
    "## Solutions\n",
    "\n",
    "### 1. Spectra\n",
    "\n",
    "```{toggle}\n",
    "Results.\n",
    "```"
   ]
  }
 ],
 "metadata": {
  "celltoolbar": "Tags",
  "kernelspec": {
   "display_name": "Python 3 (ipykernel)",
   "language": "python",
   "name": "python3"
  },
  "language_info": {
   "codemirror_mode": {
    "name": "ipython",
    "version": 3
   },
   "file_extension": ".py",
   "mimetype": "text/x-python",
   "name": "python",
   "nbconvert_exporter": "python",
   "pygments_lexer": "ipython3",
   "version": "3.7.9"
  }
 },
 "nbformat": 4,
 "nbformat_minor": 4
}
