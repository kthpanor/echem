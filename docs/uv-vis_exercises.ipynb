{
 "cells": [
  {
   "cell_type": "markdown",
   "metadata": {},
   "source": [
    "# Exercises\n",
    "\n",
    "```{note}\n",
    "This needs to be worked on. Order by approximate order of relevance, with more involved exercises further down. Could also order by spectroscopy.\n",
    "```\n",
    "\n",
    "\n",
    "## 1. Vibronic resolution\n",
    "\n",
    "In this exercise we will consider the five lowest excited states of bi-thiophene molecule in vacuum and water and determine solvent induced changes of excited states using QM/MM methods. \n",
    "\n",
    "1. Generate VeloxChem input file for vacuum, and MM potential files (tip3p.pot for TIP3P force field, and pol.pot for polarizable water \n",
    "model) using generator.py from GROMACS file. Download generator.py from https://gitlab.com/TheoChemBio/CourseMaterial/mmhpc. \n",
    "\n",
    "2. Compute the 5 first excited states for one snapshot in vacuum.\n",
    "\n",
    "3. Compute the 5 first excited states for one snapshot using TIP3P potential for MM region. Add to @method settings group keyword \\textit{potfile: tip3p.pot}\n",
    "\n",
    "4. Compute the 5 first excited states for one snapshot using polarizable potential for MM region . TIP3P potential for MM region. Add to @method settings group keyword \\textit{potfile: pol.pot}\n",
    "\n",
    "5. Compare solvent induced shifts for all excited states obtained using non-polarizable and polarizable MM regions. \n"
   ]
  },
  {
   "cell_type": "markdown",
   "metadata": {},
   "source": [
    "## Solutions\n",
    "\n",
    "### 1. Vibronic resolution\n",
    "\n",
    "```{toggle}\n",
    "Results.\n",
    "```"
   ]
  }
 ],
 "metadata": {
  "celltoolbar": "Tags",
  "kernelspec": {
   "display_name": "Python 3 (ipykernel)",
   "language": "python",
   "name": "python3"
  },
  "language_info": {
   "codemirror_mode": {
    "name": "ipython",
    "version": 3
   },
   "file_extension": ".py",
   "mimetype": "text/x-python",
   "name": "python",
   "nbconvert_exporter": "python",
   "pygments_lexer": "ipython3",
   "version": "3.9.7"
  }
 },
 "nbformat": 4,
 "nbformat_minor": 4
}
