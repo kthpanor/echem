{
 "cells": [
  {
   "cell_type": "markdown",
   "metadata": {},
   "source": [
    "# Non-standard calculations\n",
    "\n",
    "In this chapter we will consider some non-standard calculations. Some will be useful but need care for practical considerations (*i.e.* transient X-ray spectroscopy), and some are more illustrations of alternative (but not recommended) ways of modelling spectra.\n",
    "\n",
    "Included:\n",
    "- TR-XAS\n",
    "- TR-XPS?\n",
    "- (I)MOM\n",
    "- Full space versus CVS\n",
    "- Alternative XES\n",
    "- Alternative XAS (?)"
   ]
  },
  {
   "cell_type": "code",
   "execution_count": 2,
   "metadata": {
    "tags": [
     "hide-input",
     "remove-output"
    ]
   },
   "outputs": [
    {
     "name": "stderr",
     "output_type": "stream",
     "text": [
      "/home/thomas/Notebook/anaconda/envs/echem/lib/python3.9/site-packages/pyscf/lib/misc.py:46: H5pyDeprecationWarning: Using default_file_mode other than 'r' is deprecated. Pass the mode to h5py.File() instead.\n",
      "  h5py.get_config().default_file_mode = 'a'\n",
      "<frozen importlib._bootstrap>:228: RuntimeWarning: mpi4py.MPI.Status size changed, may indicate binary incompatibility. Expected 40 from C header, got 48 from PyObject\n",
      "<frozen importlib._bootstrap>:228: RuntimeWarning: mpi4py.MPI.Datatype size changed, may indicate binary incompatibility. Expected 24 from C header, got 32 from PyObject\n",
      "<frozen importlib._bootstrap>:228: RuntimeWarning: mpi4py.MPI.Request size changed, may indicate binary incompatibility. Expected 32 from C header, got 40 from PyObject\n",
      "<frozen importlib._bootstrap>:228: RuntimeWarning: mpi4py.MPI.Prequest size changed, may indicate binary incompatibility. Expected 32 from C header, got 40 from PyObject\n",
      "<frozen importlib._bootstrap>:228: RuntimeWarning: mpi4py.MPI.Grequest size changed, may indicate binary incompatibility. Expected 40 from C header, got 48 from PyObject\n",
      "<frozen importlib._bootstrap>:228: RuntimeWarning: mpi4py.MPI.Message size changed, may indicate binary incompatibility. Expected 32 from C header, got 40 from PyObject\n",
      "<frozen importlib._bootstrap>:228: RuntimeWarning: mpi4py.MPI.Op size changed, may indicate binary incompatibility. Expected 40 from C header, got 48 from PyObject\n",
      "<frozen importlib._bootstrap>:228: RuntimeWarning: mpi4py.MPI.Group size changed, may indicate binary incompatibility. Expected 24 from C header, got 32 from PyObject\n",
      "<frozen importlib._bootstrap>:228: RuntimeWarning: mpi4py.MPI.Info size changed, may indicate binary incompatibility. Expected 24 from C header, got 32 from PyObject\n",
      "<frozen importlib._bootstrap>:228: RuntimeWarning: mpi4py.MPI.Errhandler size changed, may indicate binary incompatibility. Expected 24 from C header, got 32 from PyObject\n",
      "<frozen importlib._bootstrap>:228: RuntimeWarning: mpi4py.MPI.Comm size changed, may indicate binary incompatibility. Expected 24 from C header, got 32 from PyObject\n",
      "<frozen importlib._bootstrap>:228: RuntimeWarning: mpi4py.MPI.Intracomm size changed, may indicate binary incompatibility. Expected 24 from C header, got 32 from PyObject\n",
      "<frozen importlib._bootstrap>:228: RuntimeWarning: mpi4py.MPI.Topocomm size changed, may indicate binary incompatibility. Expected 24 from C header, got 32 from PyObject\n",
      "<frozen importlib._bootstrap>:228: RuntimeWarning: mpi4py.MPI.Cartcomm size changed, may indicate binary incompatibility. Expected 24 from C header, got 32 from PyObject\n",
      "<frozen importlib._bootstrap>:228: RuntimeWarning: mpi4py.MPI.Graphcomm size changed, may indicate binary incompatibility. Expected 24 from C header, got 32 from PyObject\n",
      "<frozen importlib._bootstrap>:228: RuntimeWarning: mpi4py.MPI.Distgraphcomm size changed, may indicate binary incompatibility. Expected 24 from C header, got 32 from PyObject\n",
      "<frozen importlib._bootstrap>:228: RuntimeWarning: mpi4py.MPI.Intercomm size changed, may indicate binary incompatibility. Expected 24 from C header, got 32 from PyObject\n",
      "<frozen importlib._bootstrap>:228: RuntimeWarning: mpi4py.MPI.Win size changed, may indicate binary incompatibility. Expected 32 from C header, got 40 from PyObject\n",
      "<frozen importlib._bootstrap>:228: RuntimeWarning: mpi4py.MPI.File size changed, may indicate binary incompatibility. Expected 32 from C header, got 40 from PyObject\n",
      "Warning: importing 'simtk.openmm' is deprecated.  Import 'openmm' instead.\n"
     ]
    },
    {
     "name": "stdout",
     "output_type": "stream",
     "text": [
      "* Warning * Environment variable OMP_NUM_THREADS not set.\n",
      "* Warning * Setting OMP_NUM_THREADS to 4.\n"
     ]
    }
   ],
   "source": [
    "# standard Python modules and functions\n",
    "from scipy.interpolate import interp1d\n",
    "from matplotlib import gridspec\n",
    "import matplotlib.pyplot as plt\n",
    "import numpy as np\n",
    "import copy\n",
    "\n",
    "# QC software suites and functionalities\n",
    "from pyscf import gto, scf, mp, cc, dft\n",
    "import veloxchem as vlx\n",
    "import gator\n",
    "import adcc\n",
    "from veloxchem.rsplinabscross import LinearAbsorptionCrossSection\n",
    "\n",
    "# for vlx\n",
    "silent_ostream = vlx.OutputStream(None)\n",
    "from mpi4py import MPI\n",
    "comm = MPI.COMM_WORLD\n",
    "\n",
    "# au to eV conversion factor\n",
    "au2ev = 27.211386"
   ]
  },
  {
   "cell_type": "markdown",
   "metadata": {},
   "source": [
    "## Transient\n",
    "\n",
    "### Low-spin open-shell reference (LSOR)\n",
    "\n",
    "Here an electron from an occupied alpha spin-orbital is promoted to an unoccupied alpha spin-orbital. Note that spin-contaminated by construction, so should perhaps focus on HSOR... Check S2 and so on, consider what would be needed to be spin-pure\n",
    "\n",
    "- Include practical example with LSOR and HSOR"
   ]
  },
  {
   "cell_type": "code",
   "execution_count": 4,
   "metadata": {},
   "outputs": [
    {
     "name": "stdout",
     "output_type": "stream",
     "text": [
      "converged SCF energy = -75.9838703827192  <S^2> = 6.3344885e-12  2S+1 = 1\n",
      "Starting cvs-adc2x  Jacobi-Davidson ...\n",
      "Niter n_ss  max_residual  time  Ritz values\n",
      "  1     8        1.6222  937ms  [20.26123431 20.31992537 20.32302691 20.3464984  20.77599022]\n",
      "  2    16      0.083151  232ms  [19.71909108 19.74517237 19.78850074 19.81333602 20.43548576]\n",
      "  3    24     0.0053797  434ms  [19.69205492 19.71929679 19.77413246 19.79760548 20.43133363]\n",
      "  4    32     0.0011589  625ms  [19.68965835 19.71687333 19.77255677 19.79676938 20.43113845]\n",
      "  5    40    0.00010183  760ms  [19.68907709 19.71641759 19.7724787  19.79670158 20.43112515]\n",
      "=== Converged ===\n",
      "    Number of matrix applies:    40\n",
      "    Total solver time:             3s  14ms\n"
     ]
    },
    {
     "name": "stderr",
     "output_type": "stream",
     "text": [
      "Overwritten attributes  get_occ  of <class 'pyscf.scf.uhf.UHF'>\n"
     ]
    },
    {
     "name": "stdout",
     "output_type": "stream",
     "text": [
      "converged SCF energy = -75.7142931989802  <S^2> = 1.0127856  2S+1 = 2.2474747\n",
      "-7.3355725775951095\n",
      "Starting cvs-adc2x  Jacobi-Davidson ...\n",
      "Niter n_ss  max_residual  time  Ritz values\n",
      "  1     8        1.4197  944ms  [19.65025265 20.45690115 20.50695083 20.60577589 20.87460994]\n",
      "  2    16       0.61503  211ms  [19.42062302 19.947623   19.99001099 20.52523445 20.56375323]\n",
      "  3    24       0.13866  280ms  [19.41668154 19.90410164 19.94479007 20.071764   20.36786149]\n",
      "  4    32        0.7002  463ms  [19.41628888 19.9008495  19.93986716 20.01129509 20.28160489]\n",
      "  5    40       0.51076  411ms  [19.41624278 19.90054206 19.93902184 20.00607709 20.0152278 ]\n",
      "=== Restart ===\n",
      "  6    16       0.20678  360ms  [19.41623535 19.76616036 19.90050231 19.93894428 20.00537831]\n",
      "  7    24      0.046603  322ms  [19.41623306 19.6513648  19.90049127 19.93892677 20.00520365]\n",
      "  8    32     0.0071816  446ms  [19.41623272 19.62621905 19.90048986 19.9389235  20.00515954]\n",
      "  9    40    0.00053412  337ms  [19.41623268 19.62250827 19.90048969 19.93892289 20.00515557]\n",
      "=== Restart ===\n",
      " 10    16    6.6039e-05  393ms  [19.41623268 19.62224227 19.90048966 19.93892284 20.00515537]\n",
      "=== Converged ===\n",
      "    Number of matrix applies:    80\n",
      "    Total solver time:             4s 181ms\n",
      "converged SCF energy = -75.7278282670683  <S^2> = 2.0038371  2S+1 = 3.002557\n",
      "-6.967264425822885\n",
      "Starting cvs-adc2x  Jacobi-Davidson ...\n",
      "Niter n_ss  max_residual  time  Ritz values\n",
      "  1     9        1.3402   2.9s  [19.65310247 20.44001891 20.46846981 20.50328038 20.87239002]\n",
      "  2    18       0.11756  242ms  [19.4217916  19.95552731 19.98294836 20.03036606 20.62242844]\n",
      "  3    27       0.21374  369ms  [19.41843698 19.91184347 19.93648234 19.97966558 20.51210272]\n",
      "  4    36       0.02464  872ms  [19.41818793 19.90833174 19.93198212 19.97550496 20.38192777]\n",
      "  5    45      0.083416   1.4s  [19.41817362 19.90794076 19.93125584 19.97506049 20.34383719]\n",
      "=== Restart ===\n",
      "  6    18      0.017265  397ms  [19.41817283 19.90790728 19.93112402 19.97500891 20.29145965]\n",
      "  7    27     0.0036224  351ms  [19.41817275 19.90790115 19.93108056 19.97499724 20.27339332]\n",
      "  8    36      0.006205  903ms  [19.41817274 19.90790034 19.93107562 19.97499536 20.2615985 ]\n",
      "  9    45      0.002315  761ms  [19.41817274 19.90790025 19.93107471 19.97499515 20.25811703]\n",
      "=== Restart ===\n",
      " 10    18    0.00090932  369ms  [19.41817274 19.90790024 19.93107456 19.97499514 20.25681637]\n",
      " 11    27    0.00088398  637ms  [19.41817274 19.90790024 19.93107452 19.97499514 20.25597361]\n",
      " 12    36    0.00047102  549ms  [19.41817274 19.90790024 19.93107451 19.97499514 20.25511388]\n",
      " 13    45     0.0002145  469ms  [19.41817274 19.90790024 19.93107451 19.97499514 20.2546862 ]\n",
      "=== Converged ===\n",
      "    Number of matrix applies:    117\n",
      "    Total solver time:            10s 219ms\n"
     ]
    }
   ],
   "source": [
    "water_xyz = \"\"\"\n",
    "O       0.0000000000     0.0000000000     0.1178336003\n",
    "H      -0.7595754146    -0.0000000000    -0.4713344012\n",
    "H       0.7595754146     0.0000000000    -0.4713344012\n",
    "\"\"\"\n",
    "\n",
    "mol = gto.Mole()\n",
    "mol.atom = water_xyz\n",
    "mol.basis = '6-31G'\n",
    "mol.build()\n",
    "\n",
    "# GS\n",
    "scf_gs = scf.UHF(mol)\n",
    "scf_gs.kernel()\n",
    "adc_gs = adcc.cvs_adc2x(scf_gs, n_states=5, core_orbitals=1)\n",
    "\n",
    "# LSOR\n",
    "mo0 = copy.deepcopy(scf_gs.mo_coeff)\n",
    "occ0 = copy.deepcopy(scf_gs.mo_occ)\n",
    "occ0[0][4] = 0.0\n",
    "occ0[0][5] = 1.0\n",
    "scf_es = scf.UHF(mol)\n",
    "scf.addons.mom_occ(scf_es, mo0, occ0)\n",
    "scf_es.kernel()\n",
    "print(27.2114*(scf_gs.e_tot - scf_es.e_tot))\n",
    "adc_ls = adcc.cvs_adc2x(scf_es, n_states=5, core_orbitals=1)\n",
    "\n",
    "# HSOR\n",
    "mo0 = copy.deepcopy(scf_gs.mo_coeff)\n",
    "occ0 = copy.deepcopy(scf_gs.mo_occ)\n",
    "occ0[0][4] = 0.0\n",
    "occ0[1][5] = 1.0\n",
    "scf_es = scf.UHF(mol)\n",
    "scf.addons.mom_occ(scf_es, mo0, occ0)\n",
    "scf_es.kernel()\n",
    "print(27.2114*(scf_gs.e_tot - scf_es.e_tot))\n",
    "adc_hs = adcc.cvs_adc2x(scf_es, n_states=5, core_orbitals=1)"
   ]
  },
  {
   "cell_type": "code",
   "execution_count": 55,
   "metadata": {},
   "outputs": [
    {
     "data": {
      "image/png": "[encoded data removed]",
      "text/plain": [
       "<Figure size 432x288 with 1 Axes>"
      ]
     },
     "metadata": {
      "needs_background": "light"
     },
     "output_type": "display_data"
    }
   ],
   "source": [
    "plt.figure()\n",
    "adc_gs.plot_spectrum(label='GS')\n",
    "adc_ls.plot_spectrum(label='LSOR')\n",
    "adc_hs.plot_spectrum(label='HSOR')\n",
    "plt.legend(); plt.show()"
   ]
  },
  {
   "cell_type": "markdown",
   "metadata": {},
   "source": [
    "\n",
    "## MOM approaches\n",
    "\n",
    "*Maybe include:* comparing MOM and IMOM (thanks to Anna Kristina and Josefine):\n",
    "\n",
    "```{note}\n",
    "Currently just one version.\n",
    "```"
   ]
  },
  {
   "cell_type": "code",
   "execution_count": 2,
   "metadata": {},
   "outputs": [],
   "source": [
    "def imom(mf, mocoeffs, occnum):\n",
    "    '''Use initial maximum overlap method to determine occupation number for each orbital in every\n",
    "    iteration. It can be applied to unrestricted as well as restricted open-shell systems.'''\n",
    "    \n",
    "    # Copy initial MO coefficients for occupied orbitals\n",
    "    # This can be adapted for MOM / IMOM - need to look into\n",
    "    if (isinstance(mf, dft.rks.RKS) or isinstance(mf, scf.hf.RHF)):\n",
    "        coef_occ_a = mocoeffs[:, occnum>0]\n",
    "    elif (isinstance(mf, dft.uks.UKS) or isinstance(mf, scf.uhf.UHF)):\n",
    "        coef_occ_a = mocoeffs[0][:, occnum[0]>0]\n",
    "        coef_occ_b = mocoeffs[1][:, occnum[1]>0]\n",
    "        \n",
    "    # Write new get_occ routine for DFT kernel\n",
    "    def get_occ(mo_energy=None, mo_coeff=None):\n",
    "        # Get new MO energy and coefficients\n",
    "        if mo_energy is None: mo_energy = mf.mo_energy\n",
    "        if mo_coeff is None: mo_coeff = mf.mo_coeff\n",
    "        \n",
    "        # Restricted\n",
    "        if (isinstance(mf, dft.rks.RKS) or isinstance(mf, scf.hf.RHF)):   \n",
    "            mo_occ = np.zeros_like(occnum)\n",
    "            nocc_a = int(np.sum(occnum)/2) # number of occupied orbitals\n",
    "            \n",
    "            # Construct s_a = MO_coeff(old)*S*MO_coeff(new)\n",
    "            SC = np.matmul(mf.get_ovlp().T,mo_coeff)\n",
    "            s_a = np.matmul(coef_occ_a.T, SC)\n",
    "            \n",
    "            # Get indices for orbitals with largest p = sum_i s_a(ij)s_a(ij)\n",
    "            idx_a = np.argsort(np.einsum('ij,ij->j', s_a, s_a))[::-1]\n",
    "            \n",
    "            # Set occupation for selected MOs\n",
    "            mo_occ[idx_a[:nocc_a]] = 2.\n",
    "            \n",
    "        elif (isinstance(mf, dft.uks.UKS) or isinstance(mf, scf.uhf.UHF)):\n",
    "            mo_occ = np.zeros_like(occnum)\n",
    "            nocc_a = int(np.sum(occnum[0])) # number of occupied alpha orbitals\n",
    "            nocc_b = int(np.sum(occnum[1])) # number of occupied beta orbitals\n",
    "            \n",
    "            # Construct s_a = MO_coeff(old)*S*MO_coeff(new)\n",
    "            SC_a = np.matmul(mf.get_ovlp().T,mo_coeff[0])\n",
    "            s_a = np.matmul(coef_occ_a.T, SC_a)\n",
    "            # Likewise for s_b\n",
    "            SC_b = np.matmul(mf.get_ovlp().T,mo_coeff[1])\n",
    "            s_b = np.matmul(coef_occ_b.T, SC_b)\n",
    "            \n",
    "            # Get indices for orbitals with largest p_a = sum_i s_a(ij)s_a(ij)\n",
    "            idx_a = np.argsort(np.einsum('ij,ij->j', s_a, s_a))[::-1]\n",
    "            # Likewise for p_b\n",
    "            idx_b = np.argsort(np.einsum('ij,ij->j', s_b, s_b))[::-1]\n",
    "            \n",
    "            # Set occupation for selected MOs\n",
    "            mo_occ[0][idx_a[:nocc_a]] = 1.\n",
    "            mo_occ[1][idx_b[:nocc_b]] = 1.\n",
    "\n",
    "        return mo_occ\n",
    "    \n",
    "    # Redefine get_occ for DFT kernel as new function\n",
    "    mf.get_occ = get_occ\n",
    "    \n",
    "    return mf"
   ]
  },
  {
   "cell_type": "markdown",
   "metadata": {},
   "source": [
    "Example: single and double ionization energy of water."
   ]
  },
  {
   "cell_type": "code",
   "execution_count": 10,
   "metadata": {},
   "outputs": [
    {
     "name": "stdout",
     "output_type": "stream",
     "text": [
      "converged SCF energy = -75.2761808865588\n",
      "converged SCF energy = -75.2761808866238  <S^2> = 8.8817842e-16  2S+1 = 1\n",
      "converged SCF energy = -55.3337590090957  <S^2> = 0.7505567  2S+1 = 2.0005566\n",
      "Single ionization energy: 571.83 eV\n",
      "converged SCF energy = -31.2166877507321\n",
      "Double ionization energy: 1228.09 eV\n"
     ]
    }
   ],
   "source": [
    "water_xyz = \"\"\"\n",
    "O       0.0000000000     0.0000000000     0.1178336003\n",
    "H      -0.7595754146    -0.0000000000    -0.4713344012\n",
    "H       0.7595754146     0.0000000000    -0.4713344012\n",
    "\"\"\"\n",
    "\n",
    "# Create molecule object \n",
    "mol = gto.Mole()\n",
    "mol.atom  = water_xyz\n",
    "mol.basis = 'STO-3G'\n",
    "mol.build()\n",
    "\n",
    "# Index of core MO\n",
    "core = 0\n",
    "\n",
    "# Initial restricted/unrestricted SCF\n",
    "dft_re = dft.RKS(mol); dft_re.xc = 'b3lyp'; dft_re.kernel()\n",
    "dft_ur = dft.UKS(mol); dft_ur.xc = 'b3lyp'; dft_ur.kernel()\n",
    "\n",
    "# Single ionization energy\n",
    "mo0 = copy.deepcopy(dft_ur.mo_coeff)\n",
    "occ0 = copy.deepcopy(dft_ur.mo_occ)\n",
    "occ0[0][core] = 0.0\n",
    "dft_ion = dft.UKS(mol)\n",
    "dft_ion.xc = 'b3lyp'\n",
    "imom(dft_ion, mo0, occ0)\n",
    "dft_ion.kernel()\n",
    "print('Single ionization energy:',np.around(au2ev*(dft_ion.energy_tot() - dft_gs.energy_tot()),2),'eV')\n",
    "\n",
    "# Double ionization energy\n",
    "mo0 = copy.deepcopy(dft_re.mo_coeff)\n",
    "occ0 = copy.deepcopy(dft_re.mo_occ)\n",
    "occ0[core] = 0.0\n",
    "dft_ion = dft.RKS(mol)\n",
    "dft_ion.xc = 'b3lyp'\n",
    "imom(dft_ion, mo0, occ0)\n",
    "dft_ion.kernel()\n",
    "print('Double ionization energy:',np.around(au2ev*(dft_ion.energy_tot() - dft_gs.energy_tot()),2),'eV')"
   ]
  },
  {
   "cell_type": "markdown",
   "metadata": {},
   "source": [
    "Can compare these values to experiment *etc*.\n",
    "\n",
    "## Full space vs CVS\n",
    "\n",
    "In order to illustrate the restricted channel/CVS scheme in TDDFT, we here diagonalize the full-space and CVS-space matrices and compare the resulting spectra.\n",
    "\n",
    "### Full-space\n",
    "\n",
    "\n",
    "The linear response function for TDDFT (in TDHF also known as random phase approximation (RPA)), which can be written as\n",
    "\n",
    "$$\n",
    "\\langle\\langle \\hat{\\mu}_\\alpha; \\hat{V} \\rangle\\rangle_\\omega =\n",
    "-{\\mu^{[1]}}^\\dagger\n",
    "\\Big(\n",
    "E^{[2]} - \\omega S^{[2]}\n",
    "\\Big)^{-1}\n",
    "V^{[1]},\n",
    "$$\n",
    "\n",
    "with $E^{[2]}$ being the electronic Hessian, $\\omega$, being the excitation energies and $S^{[2]}$ being the overlap matrix. ${\\mu^{[1]}}$ and $V^{[1]}$ are denoted the property gradients. The electronic Hessian, overlap matrix, and property gradient takes the formes:\n",
    "\n",
    "$$\n",
    "E^{[2]} = \\left(\\begin{matrix}\n",
    "A  &  B \\\\\n",
    "B^* &  A\\\\\n",
    "\\end{matrix}\\right),\n",
    "\\qquad\n",
    "S^{[2]} = \\left(\\begin{matrix}\n",
    "1  &  0 \\\\\n",
    "1 &  -1\\\\\n",
    "\\end{matrix}\\right),\n",
    "\\qquad\n",
    "V^{[1]} = \\left(\\begin{matrix}\n",
    "g   \\\\\n",
    "g^* \\\\\n",
    "\\end{matrix}\\right).\n",
    "$$\n",
    "The excitation energies can be determined as the poles of the polarization propagator, i.e. $\n",
    "\\Big(E^{[2]} - \\omega S^{[2]}\\Big) = 0$, and thus to obtain these, we solve the eigenvalue problem\n",
    "\n",
    "$$\n",
    "E^{[2]}X = {\\lambda} S^{[2]}X \n",
    "$$\n",
    "\n",
    "where\n",
    "\n",
    "$$\n",
    "{\\lambda} =\\begin{pmatrix}\n",
    "\\lambda & 0\\\\\n",
    "0 & -\\lambda\n",
    "\\end{pmatrix}\n",
    "$$\n",
    "\n",
    "By rewriting the linear response equation, we can identify the transition moment as $X_n^{\\dagger}V_{\\beta}^{[1]}$, and obtain the oscillator strength as:\n",
    "\n",
    "$$\n",
    "(T^{\\mu})^{2} = \\sum_{\\beta=x,y,z}{\\mu_{\\beta}^{[1]}}^\\dagger X_n X_n^{\\dagger}\\mu_{\\beta}^{[1]}\\\\\n",
    "f_{osc}^{if} = \\frac{2}{3}\\cdot \\omega_{if}\\cdot(T^{\\mu})^2\n",
    "$$"
   ]
  },
  {
   "cell_type": "code",
   "execution_count": 3,
   "metadata": {},
   "outputs": [
    {
     "name": "stdout",
     "output_type": "stream",
     "text": [
      "                                                                                                                          \n",
      "                                            Self Consistent Field Driver Setup                                            \n",
      "                                           ====================================                                           \n",
      "                                                                                                                          \n",
      "                   Wave Function Model             : Spin-Restricted Kohn-Sham                                            \n",
      "                   Initial Guess Model             : Superposition of Atomic Densities                                    \n",
      "                   Convergence Accelerator         : Two Level Direct Inversion of Iterative Subspace                     \n",
      "                   Max. Number of Iterations       : 50                                                                   \n",
      "                   Max. Number of Error Vectors    : 10                                                                   \n",
      "                   Convergence Threshold           : 1.0e-06                                                              \n",
      "                   ERI Screening Scheme            : Cauchy Schwarz + Density                                             \n",
      "                   ERI Screening Mode              : Dynamic                                                              \n",
      "                   ERI Screening Threshold         : 1.0e-12                                                              \n",
      "                   Linear Dependence Threshold     : 1.0e-06                                                              \n",
      "                   Exchange-Correlation Functional : B3LYP                                                                \n",
      "                   Molecular Grid Level            : 4                                                                    \n",
      "                                                                                                                          \n",
      "* Info * Nuclear repulsion energy: 9.1561447197 a.u.                                                                      \n",
      "                                                                                                                          \n",
      "* Info * Molecular grid with 35950 points generated in 0.01 sec.                                                          \n",
      "                                                                                                                          \n",
      "* Info * Overlap matrix computed in 0.00 sec.                                                                             \n",
      "                                                                                                                          \n",
      "* Info * Kinetic energy matrix computed in 0.00 sec.                                                                      \n",
      "                                                                                                                          \n",
      "* Info * Nuclear potential matrix computed in 0.00 sec.                                                                   \n",
      "                                                                                                                          \n",
      "* Info * Orthogonalization matrix computed in 0.02 sec.                                                                   \n",
      "                                                                                                                          \n",
      "* Info * SAD initial guess computed in 0.00 sec.                                                                          \n",
      "                                                                                                                          \n",
      "* Info * Starting Reduced Basis SCF calculation...                                                                        \n",
      "* Info * ...done. SCF energy in reduced basis set: -74.963513296716 a.u. Time: 0.08 sec.                                  \n",
      "                                                                                                                          \n",
      "* Info * Overlap matrix computed in 0.01 sec.                                                                             \n",
      "                                                                                                                          \n",
      "* Info * Kinetic energy matrix computed in 0.00 sec.                                                                      \n",
      "                                                                                                                          \n",
      "* Info * Nuclear potential matrix computed in 0.00 sec.                                                                   \n",
      "                                                                                                                          \n",
      "* Info * Orthogonalization matrix computed in 0.00 sec.                                                                   \n",
      "                                                                                                                          \n",
      "                                                                                                                          \n",
      "               Iter. |    Kohn-Sham Energy | Energy Change | Gradient Norm | Max. Gradient | Density Change               \n",
      "               --------------------------------------------------------------------------------------------               \n",
      "                  1       -75.313458282842    0.0000000000      0.00468065      0.00150298      0.00000000                \n",
      "                  2       -75.313461859470   -0.0000035766      0.00245062      0.00058352      0.00349343                \n",
      "                  3       -75.313462865099   -0.0000010056      0.00051266      0.00014746      0.00150785                \n",
      "                  4       -75.313462907250   -0.0000000422      0.00000301      0.00000087      0.00022910                \n",
      "                  5       -75.313462907251   -0.0000000000      0.00000000      0.00000000      0.00000134                \n",
      "                                                                                                                          \n",
      "               *** SCF converged in 5 iterations. Time: 1.01 sec.                                                         \n",
      "                                                                                                                          \n",
      "               Spin-Restricted Kohn-Sham:                                                                                 \n",
      "               --------------------------                                                                                 \n",
      "               Total Energy                       :      -75.3134629073 a.u.                                              \n",
      "               Electronic Energy                  :      -84.4696076270 a.u.                                              \n",
      "               Nuclear Repulsion Energy           :        9.1561447197 a.u.                                              \n",
      "               ------------------------------------                                                                       \n",
      "               Gradient Norm                      :        0.0000000006 a.u.                                              \n",
      "                                                                                                                          \n",
      "                                                                                                                          \n",
      "               Ground State Information                                                                                   \n",
      "               ------------------------                                                                                   \n",
      "               Charge of Molecule            :  0.0                                                                       \n",
      "               Multiplicity (2S+1)           :  1.0                                                                       \n",
      "               Magnetic Quantum Number (M_S) :  0.0                                                                       \n",
      "                                                                                                                          \n",
      "                                                                                                                          \n",
      "                                                 Spin Restricted Orbitals                                                 \n",
      "                                                 ------------------------                                                 \n",
      "                                                                                                                          \n",
      "               Molecular Orbital No.   1:                                                                                 \n",
      "               --------------------------                                                                                 \n",
      "               Occupation: 2.0 Energy:  -18.83573 a.u.                                                                    \n",
      "               (   1 O   1s  :    -0.99)                                                                                  \n",
      "                                                                                                                          \n",
      "               Molecular Orbital No.   2:                                                                                 \n",
      "               --------------------------                                                                                 \n",
      "               Occupation: 2.0 Energy:   -0.93388 a.u.                                                                    \n",
      "               (   1 O   1s  :     0.23) (   1 O   2s  :    -0.80) (   1 O   1p0 :     0.19)                              \n",
      "               (   2 H   1s  :    -0.17) (   3 H   1s  :    -0.17)                                                        \n",
      "                                                                                                                          \n",
      "               Molecular Orbital No.   3:                                                                                 \n",
      "               --------------------------                                                                                 \n",
      "               Occupation: 2.0 Energy:   -0.44202 a.u.                                                                    \n",
      "               (   1 O   1p+1:    -0.61) (   2 H   1s  :     0.44) (   3 H   1s  :    -0.44)                              \n",
      "                                                                                                                          \n",
      "               Molecular Orbital No.   4:                                                                                 \n",
      "               --------------------------                                                                                 \n",
      "               Occupation: 2.0 Energy:   -0.23096 a.u.                                                                    \n",
      "               (   1 O   2s  :     0.61) (   1 O   1p0 :     0.75) (   2 H   1s  :    -0.28)                              \n",
      "               (   3 H   1s  :    -0.28)                                                                                  \n",
      "                                                                                                                          \n",
      "               Molecular Orbital No.   5:                                                                                 \n",
      "               --------------------------                                                                                 \n",
      "               Occupation: 2.0 Energy:   -0.14405 a.u.                                                                    \n",
      "               (   1 O   1p-1:     1.00)                                                                                  \n",
      "                                                                                                                          \n",
      "               Molecular Orbital No.   6:                                                                                 \n",
      "               --------------------------                                                                                 \n",
      "               Occupation: 0.0 Energy:    0.35227 a.u.                                                                    \n",
      "               (   1 O   2s  :     0.86) (   1 O   1p0 :    -0.75) (   2 H   1s  :    -0.79)                              \n",
      "               (   3 H   1s  :    -0.79)                                                                                  \n",
      "                                                                                                                          \n",
      "               Molecular Orbital No.   7:                                                                                 \n",
      "               --------------------------                                                                                 \n",
      "               Occupation: 0.0 Energy:    0.46758 a.u.                                                                    \n",
      "               (   1 O   1p+1:     0.99) (   2 H   1s  :     0.84) (   3 H   1s  :    -0.84)                              \n",
      "                                                                                                                          \n"
     ]
    }
   ],
   "source": [
    "water_xyz = \"\"\"\n",
    "O       0.0000000000     0.0000000000     0.1178336003\n",
    "H      -0.7595754146    -0.0000000000    -0.4713344012\n",
    "H       0.7595754146     0.0000000000    -0.4713344012\n",
    "\"\"\"\n",
    "basis = 'sto-3g'\n",
    "vlx_mol = vlx.Molecule.read_str(water_xyz, units='angstrom')\n",
    "vlx_bas = vlx.MolecularBasis.read(vlx_mol, basis)\n",
    "\n",
    "scf_drv = vlx.ScfRestrictedDriver()\n",
    "scf_settings = {'conv_thresh': 1.0e-6}\n",
    "method_settings = {'xcfun': 'b3lyp'}\n",
    "scf_drv.update_settings(scf_settings,method_settings)\n",
    "scf_drv.compute(vlx_mol, vlx_bas)"
   ]
  },
  {
   "cell_type": "markdown",
   "metadata": {},
   "source": [
    "Loading Hessian and property gradients and constructing overlap matrix:"
   ]
  },
  {
   "cell_type": "code",
   "execution_count": 22,
   "metadata": {},
   "outputs": [
    {
     "name": "stdout",
     "output_type": "stream",
     "text": [
      "                                                                                                                          \n",
      "* Info * Molecular grid with 35950 points generated in 0.01 sec.                                                          \n",
      "                                                                                                                          \n",
      "* Info * Processing Fock builds... (batch size: 40)                                                                       \n",
      "* Info *   batch 1/1                                                                                                      \n",
      "10\n"
     ]
    }
   ],
   "source": [
    "lrs = vlx.LinearResponseEigenSolver()\n",
    "lrs.update_settings(scf_settings, method_settings)\n",
    "rsp_drv = vlx.LinearResponseSolver()\n",
    "rsp_drv.update_settings(scf_settings, method_settings)\n",
    "\n",
    "# Electronic Hessian\n",
    "E2 = lrs.get_e2(vlx_mol, vlx_bas, scf_drv.scf_tensors)\n",
    "\n",
    "# Property gradients for dipole operator\n",
    "V1_x = rsp_drv.get_prop_grad('electric dipole', 'x', vlx_mol, vlx_bas, scf_drv.scf_tensors)[0]\n",
    "V1_y = rsp_drv.get_prop_grad('electric dipole', 'y', vlx_mol, vlx_bas, scf_drv.scf_tensors)[0]\n",
    "V1_z = rsp_drv.get_prop_grad('electric dipole', 'z', vlx_mol, vlx_bas, scf_drv.scf_tensors)[0]\n",
    "\n",
    "# Dimension\n",
    "c = int(len(E2) / 2)\n",
    "\n",
    "# Overlap matrix\n",
    "S2 = np.identity(2*c)\n",
    "S2[c:2*c,c:2*c] *= -1"
   ]
  },
  {
   "cell_type": "code",
   "execution_count": 25,
   "metadata": {},
   "outputs": [],
   "source": [
    "## Full diagonalization\n",
    "\n",
    "# Set up and solve eigenvalue problem\n",
    "Sinv = np.linalg.inv(S2) # for clarity - is identical\n",
    "M = np.matmul(Sinv, E2)\n",
    "eigs, X = np.linalg.eig(M)\n",
    "\n",
    "# Reorder results\n",
    "idx = np.argsort(eigs)\n",
    "eigs = np.array(eigs)[idx]\n",
    "X = np.array(X)[:,idx]\n",
    "\n",
    "# Compute oscillator strengths\n",
    "fosc = []\n",
    "for i in range(int(len(eigs)/2)):\n",
    "    j = i + int(len(eigs)/2) # focus on excitations\n",
    "    Xf = X[:,j]\n",
    "    Xf = Xf / np.sqrt(np.matmul(Xf.T, np.matmul(S2, Xf)))\n",
    "    tm = np.dot(Xf, V1_x)**2+np.dot(Xf, V1_y)**2+np.dot(Xf, V1_z)**2\n",
    "    fosc.append(tm*2.0/3.0*eigs[j])"
   ]
  },
  {
   "cell_type": "code",
   "execution_count": 27,
   "metadata": {},
   "outputs": [
    {
     "name": "stdout",
     "output_type": "stream",
     "text": [
      "Energy/eV    Osc. strength\n",
      "---------------------------\n",
      "  11.57         0.00115\n",
      "  13.86         0.00000\n",
      "  14.45         0.03201\n",
      "  17.77         0.02945\n",
      "  21.44         0.47266\n",
      "  26.74         0.21261\n",
      "  36.77         0.07077\n",
      "  36.91         0.02925\n",
      "  519.02         0.02692\n",
      "  521.26         0.04340\n",
      "---------------------------\n"
     ]
    }
   ],
   "source": [
    "au2ev = 27.211396\n",
    "\n",
    "print(f'Energy/eV    Osc. strength')\n",
    "print(f'---------------------------')\n",
    "for i in range(int(len(eigs)/2)):\n",
    "    j = i + int(len(eigs)/2) # focus on excitations\n",
    "    print(f' {au2ev*eigs[j] : .2f}        {fosc[i] : .5f}')\n",
    "print(f'---------------------------')"
   ]
  },
  {
   "cell_type": "markdown",
   "metadata": {},
   "source": [
    "### CVS space"
   ]
  },
  {
   "cell_type": "code",
   "execution_count": 32,
   "metadata": {},
   "outputs": [],
   "source": [
    "## Indices and dimensions\n",
    "\n",
    "# VUmber of virtuals\n",
    "nocc = vlx_mol.number_of_alpha_electrons()\n",
    "nvirt = vlx.MolecularBasis.get_dimensions_of_basis(vlx_bas, vlx_mol) - nocc\n",
    "n = nocc * nvirt\n",
    "\n",
    "# CVS space\n",
    "res_mo = 1\n",
    "res_indx = 0\n",
    "c = res_mo * nvirt"
   ]
  },
  {
   "cell_type": "code",
   "execution_count": 33,
   "metadata": {},
   "outputs": [],
   "source": [
    "## Construct CVS objects\n",
    "\n",
    "# Define starting index for deexcitation\n",
    "c_int_deex = n + res_indx\n",
    "\n",
    "# CVS Hessian\n",
    "E2_cvs = np.zeros((2 * c, 2 * c))\n",
    "E2_cvs[0:c, 0:c] = E2[res_indx:c, res_indx:c]\n",
    "E2_cvs[0:c, c:2*c] = E2[res_indx:c, c_int_deex:c_int_deex+c]\n",
    "E2_cvs[c:2*c, 0:c] = E2[c_int_deex:c_int_deex+c, res_indx:c]\n",
    "E2_cvs[c:2*c, c:2*c] = E2[c_int_deex:c_int_deex+c, c_int_deex:c_int_deex+c]\n",
    "\n",
    "# CVS overlap matrix\n",
    "S2_cvs = np.identity(2*c)\n",
    "S2_cvs[c:2*c,c:2*c] *= -1\n",
    "\n",
    "# CVS property gradients\n",
    "V1_cvs_x = np.zeros(2*c); V1_cvs_x[0:c] = V1_x[res_indx:c]; V1_cvs_x[c:2*c] = V1_x[c_int_deex:c_int_deex+c]\n",
    "V1_cvs_y = np.zeros(2*c); V1_cvs_y[0:c] = V1_y[res_indx:c]; V1_cvs_y[c:2*c] = V1_y[c_int_deex:c_int_deex+c]\n",
    "V1_cvs_z = np.zeros(2*c); V1_cvs_z[0:c] = V1_z[res_indx:c]; V1_cvs_z[c:2*c] = V1_z[c_int_deex:c_int_deex+c]"
   ]
  },
  {
   "cell_type": "code",
   "execution_count": 34,
   "metadata": {},
   "outputs": [],
   "source": [
    "## Full diagonalization in CVS space\n",
    "\n",
    "# Set up and solve eigenvalue problem\n",
    "Sinv = np.linalg.inv(S2_cvs) # for clarity - is identical\n",
    "M = np.matmul(Sinv, E2_cvs)\n",
    "eigs_cvs, X_cvs = np.linalg.eig(M)\n",
    "\n",
    "# Reorder results\n",
    "idx = np.argsort(eigs_cvs)\n",
    "eigs_cvs = np.array(eigs_cvs)[idx]\n",
    "X_cvs = np.array(X_cvs)[:,idx]\n",
    "\n",
    "# Compute oscillator strengths\n",
    "fosc_cvs = []\n",
    "for i in range(int(len(eigs_cvs)/2)):\n",
    "    j = i + int(len(eigs_cvs)/2) # focus on excitations\n",
    "    Xf_cvs = X_cvs[:,j]\n",
    "    Xf_cvs = Xf_cvs / np.sqrt(np.matmul(Xf_cvs.T, np.matmul(S2_cvs, Xf_cvs)))\n",
    "    tm_cvs = np.dot(Xf_cvs, V1_cvs_x)**2+np.dot(Xf_cvs, V1_cvs_y)**2+np.dot(Xf_cvs, V1_cvs_z)**2\n",
    "    fosc_cvs.append(tm_cvs*2.0/3.0*eigs_cvs[j])"
   ]
  },
  {
   "cell_type": "code",
   "execution_count": 35,
   "metadata": {},
   "outputs": [
    {
     "name": "stdout",
     "output_type": "stream",
     "text": [
      "Energy/eV    Osc. strength\n",
      "---------------------------\n",
      "  519.02         0.02669\n",
      "  521.26         0.04305\n",
      "---------------------------\n"
     ]
    }
   ],
   "source": [
    "## Print and plot results\n",
    "\n",
    "au2ev = 27.211396\n",
    "\n",
    "print(f'Energy/eV    Osc. strength')\n",
    "print(f'---------------------------')\n",
    "for i in range(int(len(eigs_cvs)/2)):\n",
    "    j = i + int(len(eigs_cvs)/2) # focus on excitations\n",
    "    print(f' {au2ev*eigs_cvs[j] : .2f}        {fosc_cvs[i] : .5f}')\n",
    "print(f'---------------------------')"
   ]
  },
  {
   "cell_type": "code",
   "execution_count": 50,
   "metadata": {},
   "outputs": [
    {
     "data": {
      "image/png": "[encoded data removed]",
      "text/plain": [
       "<Figure size 432x288 with 1 Axes>"
      ]
     },
     "metadata": {
      "needs_background": "light"
     },
     "output_type": "display_data"
    }
   ],
   "source": [
    "# Plot both sets\n",
    "\n",
    "def lorentzian(x, y, xmin, xmax, xstep, gamma):\n",
    "    xi = np.arange(xmin,xmax,xstep); yi=np.zeros(len(xi))\n",
    "    for i in range(len(xi)):\n",
    "        for k in range(len(x)): yi[i] = yi[i] + y[k] * (gamma/2.) / ( (xi[i]-x[k])**2 + (gamma/2.)**2 )\n",
    "    return xi,yi\n",
    "\n",
    "plt.figure()\n",
    "x,y = eigs[int(len(eigs)/2):], fosc\n",
    "x1,y1 = lorentzian(x,y,515/au2ev, 525/au2ev,0.001,0.3/au2ev); plt.plot(x1*au2ev,y1)\n",
    "x,y = eigs_cvs[int(len(eigs_cvs)/2):], fosc_cvs\n",
    "x2,y2 = lorentzian(x,y,515/au2ev, 525/au2ev,0.001,0.3/au2ev); plt.plot(x2*au2ev,y2)\n",
    "plt.plot(x2*au2ev,y1 - y2)\n",
    "plt.legend(('full space','CVS','difference'))\n",
    "\n",
    "plt.tight_layout(); plt.show()"
   ]
  },
  {
   "cell_type": "markdown",
   "metadata": {},
   "source": [
    "- Compare to functions in veloxchem\n",
    "- Can also consider TDA (and compare)"
   ]
  },
  {
   "cell_type": "markdown",
   "metadata": {},
   "source": [
    "## XAS in reverse\n",
    "\n",
    "One can also simply consider the XAS process in reverse, i.e. preparing a core excited state and determining the deexcitation energy and oscillator strength. \n",
    "\n",
    "```{note}\n",
    "Might remove - this approach is of no real practical use, and need to consider if it makes any sense...\n",
    "```"
   ]
  },
  {
   "cell_type": "code",
   "execution_count": 66,
   "metadata": {},
   "outputs": [
    {
     "name": "stdout",
     "output_type": "stream",
     "text": [
      "converged SCF energy = -75.9838703827192  <S^2> = 6.3415939e-12  2S+1 = 1\n",
      "converged SCF energy = -56.2454489455331  <S^2> = 1.0207474  2S+1 = 2.2545486\n",
      "Starting adc2  Jacobi-Davidson ...\n",
      "Niter n_ss  max_residual  time  Ritz values\n",
      "  1     4       0.94633   3.0s  [-19.28664166]\n",
      "  2     8      0.040054   76ms  [-19.67599841]\n",
      "  3    12     0.0019786   63ms  [-19.68727678]\n",
      "  4    16    1.8034e-05   87ms  [-19.68756532]\n",
      "=== Converged ===\n",
      "    Number of matrix applies:    16\n",
      "    Total solver time:             3s 186ms\n",
      "converged SCF energy = -56.1667062608725  <S^2> = 1.0169051  2S+1 = 2.2511376\n",
      "Starting adc2  Jacobi-Davidson ...\n",
      "Niter n_ss  max_residual  time  Ritz values\n",
      "  1     4       0.97754   3.2s  [-19.41096808]\n",
      "  2     8      0.004881  117ms  [-19.76424561]\n",
      "  3    12    2.6171e-07   73ms  [-19.7649555]\n",
      "=== Converged ===\n",
      "    Number of matrix applies:    12\n",
      "    Total solver time:             3s 396ms\n",
      "converged SCF energy = -56.2574562996861  <S^2> = 2.0096735  2S+1 = 3.0064421\n",
      "Starting adc2  Jacobi-Davidson ...\n",
      "Niter n_ss  max_residual  time  Ritz values\n",
      "  1     4       0.60645   2.7s  [-19.24661397]\n",
      "  2     8    0.00053921   53ms  [-19.40669751]\n",
      "  3    12    8.0953e-08  101ms  [-19.40673052]\n",
      "=== Converged ===\n",
      "    Number of matrix applies:    12\n",
      "    Total solver time:             2s 842ms\n",
      "converged SCF energy = -56.1792854348668  <S^2> = 2.0137925  2S+1 = 3.0091809\n",
      "Starting adc2  Jacobi-Davidson ...\n",
      "Niter n_ss  max_residual  time  Ritz values\n",
      "  1     4       0.62927   3.4s  [-19.23104698]\n",
      "  2     8    0.00058193   87ms  [-19.39242151]\n",
      "  3    12    7.9218e-08  101ms  [-19.39245648]\n",
      "=== Converged ===\n",
      "    Number of matrix applies:    12\n",
      "    Total solver time:             3s 541ms\n"
     ]
    }
   ],
   "source": [
    "xas_ls_E = []\n",
    "xas_ls_f = []\n",
    "xas_hs_E = []\n",
    "xas_hs_f = []\n",
    "\n",
    "# Perform unrestricted SCF calculation\n",
    "scf_res = scf.UHF(mol)\n",
    "scf_res.kernel()\n",
    "\n",
    "# Copy molecular orbital coefficients\n",
    "mo0 = copy.deepcopy(scf_res.mo_coeff)\n",
    "\n",
    "# LSOR\n",
    "for i in range(2):\n",
    "    # Copy molecular occupations and core excite from 1s alpha to a valence state\n",
    "    occ0 = copy.deepcopy(scf_res.mo_occ)\n",
    "    occ0[0][0] = 0.0\n",
    "    occ0[0][5+i] = 1.0\n",
    "    # Perform unrestricted SCF calculation with MOM constraint\n",
    "    scf_ion = scf.UHF(mol)\n",
    "    scf.addons.mom_occ(scf_ion, mo0, occ0)\n",
    "    scf_ion.kernel()\n",
    "    # Perform ADC calculation of first four states\n",
    "    adc_xas = adcc.adc2(scf_ion, n_states = 1)\n",
    "    xas_ls_E.append(-au2ev*adc_xas.excitation_energy) \n",
    "    xas_ls_f.append(adc_xas.oscillator_strength)\n",
    "    \n",
    "# HSOR\n",
    "for i in range(2):\n",
    "    # Copy molecular occupations and core excite from 1s alpha to a valence state\n",
    "    occ0 = copy.deepcopy(scf_res.mo_occ)\n",
    "    occ0[0][0] = 0.0\n",
    "    occ0[1][5+i] = 1.0\n",
    "    # Perform unrestricted SCF calculation with MOM constraint\n",
    "    scf_ion = scf.UHF(mol)\n",
    "    scf.addons.mom_occ(scf_ion, mo0, occ0)\n",
    "    scf_ion.kernel()\n",
    "    # Perform ADC calculation of first four states\n",
    "    adc_xas = adcc.adc2(scf_ion, n_states = 1)\n",
    "    xas_hs_E.append(-au2ev*adc_xas.excitation_energy) \n",
    "    xas_hs_f.append(adc_xas.oscillator_strength)"
   ]
  },
  {
   "cell_type": "code",
   "execution_count": 73,
   "metadata": {},
   "outputs": [
    {
     "name": "stdout",
     "output_type": "stream",
     "text": [
      "+--------------------------------------------------------------+\n",
      "| cvs-adc2x                                   any ,  converged |\n",
      "+--------------------------------------------------------------+\n",
      "|  #        excitation energy     osc str    |v1|^2    |v2|^2  |\n",
      "|          (au)           (eV)                                 |\n",
      "|  0      19.68908      535.7671   0.0000    0.8089    0.1911  |\n",
      "|  1      19.71642      536.5111   0.0174    0.8001    0.1999  |\n",
      "|  2      19.77248      538.0366   0.0000    0.8215    0.1785  |\n",
      "|  3       19.7967      538.6957   0.0368    0.8088    0.1912  |\n",
      "|  4      20.43113      555.9592   0.0000    0.8504    0.1496  |\n",
      "+--------------------------------------------------------------+\n",
      "\n",
      "\n",
      "Excitation Energy/eV     Osc. strength\n",
      "-------------------------------------------\n",
      "    535.73                    0.011365\n",
      "    537.83                    0.022696\n",
      "-------------------------------------------\n",
      "\n",
      "Excitation Energy/eV     Osc. strength\n",
      "-------------------------------------------\n",
      "    528.08                    0.054671\n",
      "    527.70                    0.054028\n",
      "-------------------------------------------\n"
     ]
    },
    {
     "data": {
      "image/png": "[encoded data removed]",
      "text/plain": [
       "<Figure size 432x360 with 1 Axes>"
      ]
     },
     "metadata": {
      "needs_background": "light"
     },
     "output_type": "display_data"
    }
   ],
   "source": [
    "print(adc_gs.describe())\n",
    "\n",
    "print(f'\\nExcitation Energy/eV     Osc. strength')\n",
    "print(f'-------------------------------------------')\n",
    "for i in range(len(xas_ls_E)):\n",
    "    print(f'   {xas_ls_E[i][0] : .2f}                   {xas_ls_f[i][0] : .6f}')\n",
    "print(f'-------------------------------------------')\n",
    "\n",
    "print(f'\\nExcitation Energy/eV     Osc. strength')\n",
    "print(f'-------------------------------------------')\n",
    "for i in range(len(xas_hs_E)):\n",
    "    print(f'   {xas_hs_E[i][0] : .2f}                   {xas_hs_f[i][0] : .6f}')\n",
    "print(f'-------------------------------------------')\n",
    "\n",
    "plt.figure(figsize=(6,5))\n",
    "x,y = xas_ls_E, xas_ls_f\n",
    "xi,yi = lorentzian(x,y,500,545,0.01,0.5); plt.plot(xi,yi)\n",
    "x,y = xas_hs_E, xas_hs_f\n",
    "xi,yi = lorentzian(x,y,500,545,0.01,0.5); plt.plot(xi,yi)\n",
    "x = au2ev*adc_gs.excitation_energy \n",
    "y = adc_gs.oscillator_strength\n",
    "xi,yi = lorentzian(x,y,500,545,0.01,0.5); plt.plot(xi,yi)\n",
    "plt.legend(('LSOR','HSOR','CVS'))\n",
    "plt.tight_layout(); plt.show()"
   ]
  },
  {
   "cell_type": "markdown",
   "metadata": {},
   "source": [
    "## XES in reverse\n",
    "\n",
    "The XES process can like the XAS process be considered in reverse and thus calculated from core excitation of a valence ionized state, rather than from valence deexcitations of a core ionized state."
   ]
  },
  {
   "cell_type": "code",
   "execution_count": 5,
   "metadata": {},
   "outputs": [
    {
     "name": "stdout",
     "output_type": "stream",
     "text": [
      "converged SCF energy = -75.9838703827191  <S^2> = 6.3398176e-12  2S+1 = 1\n",
      "converged SCF energy = -75.5809306304762  <S^2> = 0.75536251  2S+1 = 2.0053553\n",
      "Starting cvs-adc2  Jacobi-Davidson ...\n",
      "Niter n_ss  max_residual  time  Ritz values\n",
      "  1     4        1.0539   1.6s  [19.86337216]\n",
      "  2     8       0.04208  141ms  [19.52863384]\n",
      "  3    12    0.00013686   97ms  [19.51785025]\n",
      "=== Converged ===\n",
      "    Number of matrix applies:    12\n",
      "    Total solver time:             1s 852ms\n",
      "converged SCF energy = -75.5087995224459  <S^2> = 0.75179447  2S+1 = 2.0017937\n",
      "Starting cvs-adc2  Jacobi-Davidson ...\n",
      "Niter n_ss  max_residual  time  Ritz values\n",
      "  1     4        1.0608   1.6s  [19.78797676]\n",
      "  2     8      0.035086   67ms  [19.45415671]\n",
      "  3    12    0.00036322  107ms  [19.44536161]\n",
      "  4    16    3.8872e-05   94ms  [19.4452592]\n",
      "=== Converged ===\n",
      "    Number of matrix applies:    16\n",
      "    Total solver time:             1s 847ms\n",
      "converged SCF energy = -75.3327322228837  <S^2> = 0.7534135  2S+1 = 2.0034106\n",
      "Starting cvs-adc2  Jacobi-Davidson ...\n",
      "Niter n_ss  max_residual  time  Ritz values\n",
      "  1     4        1.2522   1.5s  [19.69173962]\n",
      "  2     8      0.044768  170ms  [19.28434327]\n",
      "  3    12     0.0021173   81ms  [19.27387791]\n",
      "  4    16    0.00033378   80ms  [19.27306443]\n",
      "  5    20    1.6899e-06   77ms  [19.27288521]\n",
      "=== Converged ===\n",
      "    Number of matrix applies:    20\n",
      "    Total solver time:             1s 907ms\n",
      "converged SCF energy = -74.7144411781722  <S^2> = 0.76453661  2S+1 = 2.0144842\n",
      "Starting cvs-adc2  Jacobi-Davidson ...\n",
      "Niter n_ss  max_residual  time  Ritz values\n",
      "  1     4       0.94626   1.4s  [18.95578235]\n",
      "  2     8     0.0099431  102ms  [18.67181373]\n",
      "  3    12    0.00011679  140ms  [18.66964014]\n",
      "=== Converged ===\n",
      "    Number of matrix applies:    12\n",
      "    Total solver time:             1s 672ms\n"
     ]
    }
   ],
   "source": [
    "xes_rev_E = []\n",
    "xes_rev_f = []\n",
    "\n",
    "# Perform unrestricted SCF calculation\n",
    "scf_res = scf.UHF(mol)\n",
    "scf_res.kernel()\n",
    "\n",
    "# Copy molecular orbital coefficients\n",
    "mo0 = copy.deepcopy(scf_res.mo_coeff)\n",
    "\n",
    "for i in range(4):\n",
    "    occ0 = copy.deepcopy(scf_res.mo_occ)\n",
    "    occ0[0][4-i] = 0.0\n",
    "    # Perform unrestricted SCF calculation with MOM constraint\n",
    "    scf_ion = scf.UHF(mol)\n",
    "    scf.addons.mom_occ(scf_ion, mo0, occ0)\n",
    "    scf_ion.kernel()\n",
    "    # Perform ADC calculation of first four states\n",
    "    adc_xes = adcc.cvs_adc2(scf_ion, n_states = 1, core_orbitals=1)\n",
    "    xes_rev_E.append(au2ev*adc_xes.excitation_energy) \n",
    "    xes_rev_f.append(adc_xes.oscillator_strength)"
   ]
  },
  {
   "cell_type": "code",
   "execution_count": 6,
   "metadata": {},
   "outputs": [
    {
     "name": "stdout",
     "output_type": "stream",
     "text": [
      "converged SCF energy = -56.0754789470865  <S^2> = 0.76257805  2S+1 = 2.0125387\n",
      "Starting adc2  Jacobi-Davidson ...\n",
      "Niter n_ss  max_residual  time  Ritz values\n",
      "  1     8       0.77768   1.6s  [-19.29082067 -19.19940205 -18.96181907 -18.3637012 ]\n",
      "  2    16     0.0010764  174ms  [-19.44427093 -19.36689642 -19.16826546 -18.57947501]\n",
      "  3    24    4.4301e-07  230ms  [-19.44429764 -19.3669284  -19.16831914 -18.57954987]\n",
      "=== Converged ===\n",
      "    Number of matrix applies:    24\n",
      "    Total solver time:             1s 975ms\n"
     ]
    }
   ],
   "source": [
    "# From a core-hole\n",
    "\n",
    "occ0 = copy.deepcopy(scf_res.mo_occ)\n",
    "occ0[0][0] = 0.0\n",
    "\n",
    "scf_ion = scf.UHF(mol)\n",
    "scf.addons.mom_occ(scf_ion, mo0, occ0)\n",
    "scf_ion.kernel()\n",
    "adc_xes = adcc.adc2(scf_ion, n_states = 4)\n",
    "xes_E = -au2ev*adc_xes.excitation_energy\n",
    "xes_f = adc_xes.oscillator_strength"
   ]
  },
  {
   "cell_type": "code",
   "execution_count": 9,
   "metadata": {},
   "outputs": [
    {
     "name": "stdout",
     "output_type": "stream",
     "text": [
      "\n",
      "Excitation Energy/eV     Osc. strength\n",
      "-------------------------------------------\n",
      "    529.11                    0.056837\n",
      "    529.11                    0.056837\n",
      "    529.11                    0.056837\n",
      "    529.11                    0.056837\n",
      "-------------------------------------------\n",
      "\n",
      "Excitation Energy/eV     Osc. strength\n",
      "-------------------------------------------\n",
      "    531.11                    0.052749\n",
      "    529.13                    0.043016\n",
      "    524.44                    0.039244\n",
      "    508.03                    0.003644\n",
      "-------------------------------------------\n"
     ]
    },
    {
     "data": {
      "image/png": "[encoded data removed]",
      "text/plain": [
       "<Figure size 432x360 with 1 Axes>"
      ]
     },
     "metadata": {
      "needs_background": "light"
     },
     "output_type": "display_data"
    }
   ],
   "source": [
    "print(f'\\nExcitation Energy/eV     Osc. strength')\n",
    "print(f'-------------------------------------------')\n",
    "for i in range(len(xes_E)):\n",
    "    print(f'   {xes_E[0] : .2f}                   {xes_f[0] : .6f}')\n",
    "print(f'-------------------------------------------')\n",
    "\n",
    "print(f'\\nExcitation Energy/eV     Osc. strength')\n",
    "print(f'-------------------------------------------')\n",
    "for i in range(len(xes_rev_E)):\n",
    "    print(f'   {xes_rev_E[i][0] : .2f}                   {xes_rev_f[i][0] : .6f}')\n",
    "print(f'-------------------------------------------')\n",
    "\n",
    "# Plot\n",
    "plt.figure(figsize=(6,5))\n",
    "x,y = xes_E, xes_f\n",
    "xi,yi = lorentzian(x,y,515,535,0.01,0.5); plt.plot(xi,yi)\n",
    "x,y = xes_rev_E, xes_rev_f\n",
    "xi,yi = lorentzian(x,y,515,535,0.01,0.5); plt.plot(xi,yi)\n",
    "plt.legend(('From core-hole','From valence-hole'))\n",
    "plt.tight_layout(); plt.show()"
   ]
  }
 ],
 "metadata": {
  "celltoolbar": "Tags",
  "kernelspec": {
   "display_name": "Python 3 (ipykernel)",
   "language": "python",
   "name": "python3"
  },
  "language_info": {
   "codemirror_mode": {
    "name": "ipython",
    "version": 3
   },
   "file_extension": ".py",
   "mimetype": "text/x-python",
   "name": "python",
   "nbconvert_exporter": "python",
   "pygments_lexer": "ipython3",
   "version": "3.9.12"
  }
 },
 "nbformat": 4,
 "nbformat_minor": 4
}
