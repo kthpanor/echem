{
 "cells": [
  {
   "cell_type": "markdown",
   "metadata": {},
   "source": [
    "# Non-standard calculations\n",
    "\n",
    "In this chapter we will consider some non-standard calculations. Some will be useful but need care for practical considerations (*i.e.* transient X-ray spectroscopy), and some are more illustrations of alternative (but not recommended) ways of modelling spectra.\n",
    "\n",
    "\n",
    "```{note}\n",
    "- Consider what to have here\n",
    "- Clean up\n",
    "```"
   ]
  },
  {
   "cell_type": "code",
   "execution_count": 1,
   "metadata": {
    "tags": [
     "hide-input",
     "remove-output"
    ]
   },
   "outputs": [
    {
     "name": "stdout",
     "output_type": "stream",
     "text": [
      "* Warning * Environment variable OMP_NUM_THREADS not set.\n",
      "* Warning * Setting OMP_NUM_THREADS to 4.\n",
      "* Warning * Setting MKL_THREADING_LAYER to \"GNU\".\n"
     ]
    }
   ],
   "source": [
    "import copy\n",
    "\n",
    "import adcc\n",
    "import gator\n",
    "import matplotlib.pyplot as plt\n",
    "import numpy as np\n",
    "import veloxchem as vlx\n",
    "from matplotlib import gridspec\n",
    "from pyscf import cc, dft, gto, mp, scf\n",
    "from scipy.interpolate import interp1d\n",
    "from veloxchem.rsplinabscross import LinearAbsorptionCrossSection\n",
    "\n",
    "# for vlx\n",
    "silent_ostream = vlx.OutputStream(None)\n",
    "from mpi4py import MPI\n",
    "\n",
    "comm = MPI.COMM_WORLD\n",
    "\n",
    "# au to eV conversion factor\n",
    "au2ev = 27.211386"
   ]
  },
  {
   "cell_type": "markdown",
   "metadata": {},
   "source": [
    "## Transient XAS\n",
    "\n",
    "### Valence-excited reference state\n",
    "\n",
    "Can consider low-spin open-shell reference (LSOR) and high-spin open-shell reference (HSOR).\n",
    "\n",
    "Here an electron from an occupied alpha spin-orbital is promoted to an unoccupied alpha spin-orbital. Note that spin-contaminated by construction, so should perhaps focus on HSOR... Check S2 and so on, consider what would be needed to be spin-pure"
   ]
  },
  {
   "cell_type": "code",
   "execution_count": 2,
   "metadata": {
    "tags": [
     "hide-output"
    ]
   },
   "outputs": [
    {
     "name": "stdout",
     "output_type": "stream",
     "text": [
      "converged SCF energy = -75.9838703827193  <S^2> = 6.3415939e-12  2S+1 = 1\n",
      "Starting cvs-adc2x  Jacobi-Davidson ...\n",
      "Niter n_ss  max_residual  time  Ritz values\n",
      "  1     8        1.6222  935ms  [20.26123431 20.31992537 20.32302691 20.3464984  20.77599022]\n",
      "  2    16      0.083151  289ms  [19.71909108 19.74517237 19.78850074 19.81333602 20.43548576]\n",
      "  3    24     0.0053797  960ms  [19.69205492 19.71929679 19.77413246 19.79760548 20.43133363]\n",
      "  4    32     0.0011589  529ms  [19.68965835 19.71687333 19.77255677 19.79676938 20.43113845]\n",
      "  5    40    0.00010183  731ms  [19.68907709 19.71641759 19.7724787  19.79670158 20.43112515]\n",
      "=== Converged ===\n",
      "    Number of matrix applies:    40\n",
      "    Total solver time:             3s 460ms\n"
     ]
    },
    {
     "name": "stderr",
     "output_type": "stream",
     "text": [
      "Overwritten attributes  get_occ  of <class 'pyscf.scf.uhf.UHF'>\n"
     ]
    },
    {
     "name": "stdout",
     "output_type": "stream",
     "text": [
      "converged SCF energy = -75.7142931989804  <S^2> = 1.0127856  2S+1 = 2.2474747\n",
      "-7.335572577593563\n",
      "Starting cvs-adc2x  Jacobi-Davidson ...\n",
      "Niter n_ss  max_residual  time  Ritz values\n",
      "  1     8        1.4197  779ms  [19.65025265 20.45690115 20.50695083 20.60577589 20.87460994]\n",
      "  2    16       0.61503  519ms  [19.42062302 19.947623   19.99001099 20.52523445 20.56375323]\n",
      "  3    24       0.13866  472ms  [19.41668154 19.90410164 19.94479007 20.071764   20.36786149]\n",
      "  4    32        0.7002  248ms  [19.41628888 19.9008495  19.93986716 20.01129509 20.28160489]\n",
      "  5    40       0.51076  296ms  [19.41624278 19.90054206 19.93902184 20.00607709 20.0152278 ]\n",
      "=== Restart ===\n",
      "  6    16       0.20678  243ms  [19.41623535 19.76616036 19.90050231 19.93894428 20.00537831]\n",
      "  7    24      0.046603  224ms  [19.41623306 19.6513648  19.90049127 19.93892677 20.00520365]\n",
      "  8    32     0.0071816  255ms  [19.41623272 19.62621905 19.90048986 19.9389235  20.00515954]\n",
      "  9    40    0.00053412  306ms  [19.41623268 19.62250827 19.90048969 19.93892289 20.00515557]\n",
      "=== Restart ===\n",
      " 10    16    6.6039e-05  456ms  [19.41623268 19.62224227 19.90048966 19.93892284 20.00515537]\n",
      "=== Converged ===\n",
      "    Number of matrix applies:    80\n",
      "    Total solver time:             3s 813ms\n",
      "converged SCF energy = -75.7278282670684  <S^2> = 2.0038371  2S+1 = 3.002557\n",
      "-6.967264425823657\n",
      "Starting cvs-adc2x  Jacobi-Davidson ...\n",
      "Niter n_ss  max_residual  time  Ritz values\n",
      "  1     9        1.3402   2.1s  [19.65310247 20.44001891 20.46846981 20.50328038 20.87239002]\n",
      "  2    18       0.11756  312ms  [19.4217916  19.95552731 19.98294836 20.03036606 20.62242844]\n",
      "  3    27       0.21374  300ms  [19.41843698 19.91184347 19.93648234 19.97966558 20.51210272]\n",
      "  4    36       0.02464  301ms  [19.41818793 19.90833174 19.93198212 19.97550496 20.38192777]\n",
      "  5    45      0.083416  365ms  [19.41817362 19.90794076 19.93125584 19.97506049 20.34383719]\n",
      "=== Restart ===\n",
      "  6    18      0.017265  327ms  [19.41817283 19.90790728 19.93112402 19.97500891 20.29145965]\n",
      "  7    27     0.0036224  421ms  [19.41817275 19.90790115 19.93108056 19.97499724 20.27339332]\n",
      "  8    36      0.006205  380ms  [19.41817274 19.90790034 19.93107562 19.97499536 20.2615985 ]\n",
      "  9    45      0.002315  444ms  [19.41817274 19.90790025 19.93107471 19.97499515 20.25811703]\n",
      "=== Restart ===\n",
      " 10    18    0.00090932  568ms  [19.41817274 19.90790024 19.93107456 19.97499514 20.25681637]\n",
      " 11    27    0.00088398  495ms  [19.41817274 19.90790024 19.93107452 19.97499514 20.25597361]\n",
      " 12    36    0.00047102  351ms  [19.41817274 19.90790024 19.93107451 19.97499514 20.25511388]\n",
      " 13    45     0.0002145  336ms  [19.41817274 19.90790024 19.93107451 19.97499514 20.2546862 ]\n",
      "=== Converged ===\n",
      "    Number of matrix applies:    117\n",
      "    Total solver time:             6s 704ms\n"
     ]
    }
   ],
   "source": [
    "water_xyz = \"\"\"\n",
    "O       0.0000000000     0.0000000000     0.1178336003\n",
    "H      -0.7595754146    -0.0000000000    -0.4713344012\n",
    "H       0.7595754146     0.0000000000    -0.4713344012\n",
    "\"\"\"\n",
    "\n",
    "mol = gto.Mole()\n",
    "mol.atom = water_xyz\n",
    "mol.basis = \"6-31G\"\n",
    "mol.build()\n",
    "\n",
    "# GS\n",
    "scf_gs = scf.UHF(mol)\n",
    "scf_gs.kernel()\n",
    "adc_gs = adcc.cvs_adc2x(scf_gs, n_states=5, core_orbitals=1)\n",
    "\n",
    "# LSOR\n",
    "mo0 = copy.deepcopy(scf_gs.mo_coeff)\n",
    "occ0 = copy.deepcopy(scf_gs.mo_occ)\n",
    "occ0[0][4] = 0.0\n",
    "occ0[0][5] = 1.0\n",
    "scf_es = scf.UHF(mol)\n",
    "scf.addons.mom_occ(scf_es, mo0, occ0)\n",
    "scf_es.kernel()\n",
    "print(27.2114 * (scf_gs.e_tot - scf_es.e_tot))\n",
    "adc_ls = adcc.cvs_adc2x(scf_es, n_states=5, core_orbitals=1)\n",
    "\n",
    "# HSOR\n",
    "mo0 = copy.deepcopy(scf_gs.mo_coeff)\n",
    "occ0 = copy.deepcopy(scf_gs.mo_occ)\n",
    "occ0[0][4] = 0.0\n",
    "occ0[1][5] = 1.0\n",
    "scf_es = scf.UHF(mol)\n",
    "scf.addons.mom_occ(scf_es, mo0, occ0)\n",
    "scf_es.kernel()\n",
    "print(27.2114 * (scf_gs.e_tot - scf_es.e_tot))\n",
    "adc_hs = adcc.cvs_adc2x(scf_es, n_states=5, core_orbitals=1)"
   ]
  },
  {
   "cell_type": "code",
   "execution_count": 3,
   "metadata": {},
   "outputs": [
    {
     "data": {
      "image/png": "[encoded data removed]",
      "text/plain": [
       "<Figure size 432x288 with 1 Axes>"
      ]
     },
     "metadata": {
      "needs_background": "light"
     },
     "output_type": "display_data"
    }
   ],
   "source": [
    "plt.figure()\n",
    "adc_gs.plot_spectrum(label=\"GS\")\n",
    "adc_ls.plot_spectrum(label=\"LSOR\")\n",
    "adc_hs.plot_spectrum(label=\"HSOR\")\n",
    "plt.legend()\n",
    "plt.show()"
   ]
  },
  {
   "cell_type": "markdown",
   "metadata": {},
   "source": [
    "### Coupling\n",
    "\n",
    "```{note}\n",
    "To be added\n",
    "```\n",
    "\n",
    "## MOM approaches\n",
    "\n",
    "*Maybe include:* comparing MOM and IMOM (thanks to Anna Kristina and Josefine):\n",
    "\n",
    "```{note}\n",
    "Currently just one version.\n",
    "```"
   ]
  },
  {
   "cell_type": "code",
   "execution_count": 4,
   "metadata": {},
   "outputs": [],
   "source": [
    "def imom(mf, mocoeffs, occnum):\n",
    "    \"\"\"Use initial maximum overlap method to determine occupation number for each orbital in every\n",
    "    iteration. It can be applied to unrestricted as well as restricted open-shell systems.\"\"\"\n",
    "\n",
    "    # Copy initial MO coefficients for occupied orbitals\n",
    "    # This can be adapted for MOM / IMOM - need to look into\n",
    "    if isinstance(mf, dft.rks.RKS) or isinstance(mf, scf.hf.RHF):\n",
    "        coef_occ_a = mocoeffs[:, occnum > 0]\n",
    "    elif isinstance(mf, dft.uks.UKS) or isinstance(mf, scf.uhf.UHF):\n",
    "        coef_occ_a = mocoeffs[0][:, occnum[0] > 0]\n",
    "        coef_occ_b = mocoeffs[1][:, occnum[1] > 0]\n",
    "\n",
    "    # Write new get_occ routine for DFT kernel\n",
    "    def get_occ(mo_energy=None, mo_coeff=None):\n",
    "        # Get new MO energy and coefficients\n",
    "        if mo_energy is None:\n",
    "            mo_energy = mf.mo_energy\n",
    "        if mo_coeff is None:\n",
    "            mo_coeff = mf.mo_coeff\n",
    "\n",
    "        # Restricted\n",
    "        if isinstance(mf, dft.rks.RKS) or isinstance(mf, scf.hf.RHF):\n",
    "            mo_occ = np.zeros_like(occnum)\n",
    "            nocc_a = int(np.sum(occnum) / 2)  # number of occupied orbitals\n",
    "\n",
    "            # Construct s_a = MO_coeff(old)*S*MO_coeff(new)\n",
    "            SC = np.matmul(mf.get_ovlp().T, mo_coeff)\n",
    "            s_a = np.matmul(coef_occ_a.T, SC)\n",
    "\n",
    "            # Get indices for orbitals with largest p = sum_i s_a(ij)s_a(ij)\n",
    "            idx_a = np.argsort(np.einsum(\"ij,ij->j\", s_a, s_a))[::-1]\n",
    "\n",
    "            # Set occupation for selected MOs\n",
    "            mo_occ[idx_a[:nocc_a]] = 2.0\n",
    "\n",
    "        elif isinstance(mf, dft.uks.UKS) or isinstance(mf, scf.uhf.UHF):\n",
    "            mo_occ = np.zeros_like(occnum)\n",
    "            nocc_a = int(np.sum(occnum[0]))  # number of occupied alpha orbitals\n",
    "            nocc_b = int(np.sum(occnum[1]))  # number of occupied beta orbitals\n",
    "\n",
    "            # Construct s_a = MO_coeff(old)*S*MO_coeff(new)\n",
    "            SC_a = np.matmul(mf.get_ovlp().T, mo_coeff[0])\n",
    "            s_a = np.matmul(coef_occ_a.T, SC_a)\n",
    "            # Likewise for s_b\n",
    "            SC_b = np.matmul(mf.get_ovlp().T, mo_coeff[1])\n",
    "            s_b = np.matmul(coef_occ_b.T, SC_b)\n",
    "\n",
    "            # Get indices for orbitals with largest p_a = sum_i s_a(ij)s_a(ij)\n",
    "            idx_a = np.argsort(np.einsum(\"ij,ij->j\", s_a, s_a))[::-1]\n",
    "            # Likewise for p_b\n",
    "            idx_b = np.argsort(np.einsum(\"ij,ij->j\", s_b, s_b))[::-1]\n",
    "\n",
    "            # Set occupation for selected MOs\n",
    "            mo_occ[0][idx_a[:nocc_a]] = 1.0\n",
    "            mo_occ[1][idx_b[:nocc_b]] = 1.0\n",
    "\n",
    "        return mo_occ\n",
    "\n",
    "    # Redefine get_occ for DFT kernel as new function\n",
    "    mf.get_occ = get_occ\n",
    "\n",
    "    return mf"
   ]
  },
  {
   "cell_type": "markdown",
   "metadata": {},
   "source": [
    "Example: single and double ionization energy of water."
   ]
  },
  {
   "cell_type": "code",
   "execution_count": 5,
   "metadata": {},
   "outputs": [
    {
     "name": "stdout",
     "output_type": "stream",
     "text": [
      "converged SCF energy = -75.2761808865589\n",
      "converged SCF energy = -75.2761808866238  <S^2> = 4.4408921e-15  2S+1 = 1\n"
     ]
    },
    {
     "name": "stderr",
     "output_type": "stream",
     "text": [
      "Overwritten attributes  get_occ  of <class 'pyscf.dft.uks.UKS'>\n"
     ]
    },
    {
     "name": "stdout",
     "output_type": "stream",
     "text": [
      "converged SCF energy = -55.3337590090957  <S^2> = 0.7505567  2S+1 = 2.0005566\n",
      "Single ionization energy: 542.66 eV\n"
     ]
    },
    {
     "name": "stderr",
     "output_type": "stream",
     "text": [
      "Overwritten attributes  get_occ  of <class 'pyscf.dft.rks.RKS'>\n"
     ]
    },
    {
     "name": "stdout",
     "output_type": "stream",
     "text": [
      "converged SCF energy = -31.2166877507322\n",
      "Double ionization energy: 1198.92 eV\n"
     ]
    }
   ],
   "source": [
    "water_xyz = \"\"\"\n",
    "O       0.0000000000     0.0000000000     0.1178336003\n",
    "H      -0.7595754146    -0.0000000000    -0.4713344012\n",
    "H       0.7595754146     0.0000000000    -0.4713344012\n",
    "\"\"\"\n",
    "\n",
    "# Create molecule object\n",
    "mol = gto.Mole()\n",
    "mol.atom = water_xyz\n",
    "mol.basis = \"STO-3G\"\n",
    "mol.build()\n",
    "\n",
    "# Index of core MO\n",
    "core = 0\n",
    "\n",
    "# Initial restricted/unrestricted SCF\n",
    "dft_re = dft.RKS(mol)\n",
    "dft_re.xc = \"b3lyp\"\n",
    "dft_re.kernel()\n",
    "dft_ur = dft.UKS(mol)\n",
    "dft_ur.xc = \"b3lyp\"\n",
    "dft_ur.kernel()\n",
    "\n",
    "# Single ionization energy\n",
    "mo0 = copy.deepcopy(dft_ur.mo_coeff)\n",
    "occ0 = copy.deepcopy(dft_ur.mo_occ)\n",
    "occ0[0][core] = 0.0\n",
    "dft_ion = dft.UKS(mol)\n",
    "dft_ion.xc = \"b3lyp\"\n",
    "imom(dft_ion, mo0, occ0)\n",
    "dft_ion.kernel()\n",
    "print(\n",
    "    \"Single ionization energy:\",\n",
    "    np.around(au2ev * (dft_ion.energy_tot() - dft_ur.energy_tot()), 2),\n",
    "    \"eV\",\n",
    ")\n",
    "\n",
    "# Double ionization energy\n",
    "mo0 = copy.deepcopy(dft_re.mo_coeff)\n",
    "occ0 = copy.deepcopy(dft_re.mo_occ)\n",
    "occ0[core] = 0.0\n",
    "dft_ion = dft.RKS(mol)\n",
    "dft_ion.xc = \"b3lyp\"\n",
    "imom(dft_ion, mo0, occ0)\n",
    "dft_ion.kernel()\n",
    "print(\n",
    "    \"Double ionization energy:\",\n",
    "    np.around(au2ev * (dft_ion.energy_tot() - dft_ur.energy_tot()), 2),\n",
    "    \"eV\",\n",
    ")"
   ]
  },
  {
   "cell_type": "markdown",
   "metadata": {},
   "source": [
    "Can compare these values to experiment *etc*.\n",
    "\n",
    "(sec:xray_cvs_vs_full)=\n",
    "## Full space vs CVS\n",
    "\n",
    "In order to illustrate the restricted channel/CVS scheme in TDDFT, we here diagonalize the full-space and CVS-space matrices and compare the resulting spectra.\n",
    "\n",
    "### Full-space\n",
    "\n",
    "\n",
    "The linear response function for TDDFT (in TDHF also known as random phase approximation (RPA)), which can be written as\n",
    "\n",
    "$$\n",
    "\\langle\\langle \\hat{\\mu}_\\alpha; \\hat{V} \\rangle\\rangle_\\omega =\n",
    "-{\\mu^{[1]}}^\\dagger\n",
    "\\Big(\n",
    "E^{[2]} - \\omega S^{[2]}\n",
    "\\Big)^{-1}\n",
    "V^{[1]},\n",
    "$$\n",
    "\n",
    "with $E^{[2]}$ being the electronic Hessian, $\\omega$, being the excitation energies and $S^{[2]}$ being the overlap matrix. ${\\mu^{[1]}}$ and $V^{[1]}$ are denoted the property gradients. The electronic Hessian, overlap matrix, and property gradient takes the formes:\n",
    "\n",
    "$$\n",
    "E^{[2]} = \\left(\\begin{matrix}\n",
    "A  &  B \\\\\n",
    "B^* &  A\\\\\n",
    "\\end{matrix}\\right),\n",
    "\\qquad\n",
    "S^{[2]} = \\left(\\begin{matrix}\n",
    "1  &  0 \\\\\n",
    "1 &  -1\\\\\n",
    "\\end{matrix}\\right),\n",
    "\\qquad\n",
    "V^{[1]} = \\left(\\begin{matrix}\n",
    "g   \\\\\n",
    "g^* \\\\\n",
    "\\end{matrix}\\right).\n",
    "$$\n",
    "The excitation energies can be determined as the poles of the polarization propagator, i.e. $\n",
    "\\Big(E^{[2]} - \\omega S^{[2]}\\Big) = 0$, and thus to obtain these, we solve the eigenvalue problem\n",
    "\n",
    "$$\n",
    "E^{[2]}X = {\\lambda} S^{[2]}X \n",
    "$$\n",
    "\n",
    "where\n",
    "\n",
    "$$\n",
    "{\\lambda} =\\begin{pmatrix}\n",
    "\\lambda & 0\\\\\n",
    "0 & -\\lambda\n",
    "\\end{pmatrix}\n",
    "$$\n",
    "\n",
    "By rewriting the linear response equation, we can identify the transition moment as $X_n^{\\dagger}V_{\\beta}^{[1]}$, and obtain the oscillator strength as:\n",
    "\n",
    "$$\n",
    "(T^{\\mu})^{2} = \\sum_{\\beta=x,y,z}{\\mu_{\\beta}^{[1]}}^\\dagger X_n X_n^{\\dagger}\\mu_{\\beta}^{[1]}\\\\\n",
    "f_{osc}^{if} = \\frac{2}{3}\\cdot \\omega_{if}\\cdot(T^{\\mu})^2\n",
    "$$"
   ]
  },
  {
   "cell_type": "code",
   "execution_count": 6,
   "metadata": {
    "tags": [
     "hide-output"
    ]
   },
   "outputs": [
    {
     "name": "stdout",
     "output_type": "stream",
     "text": [
      "                                                                                                                          \n",
      "                                            Self Consistent Field Driver Setup                                            \n",
      "                                           ====================================                                           \n",
      "                                                                                                                          \n",
      "                   Wave Function Model             : Spin-Restricted Kohn-Sham                                            \n",
      "                   Initial Guess Model             : Superposition of Atomic Densities                                    \n",
      "                   Convergence Accelerator         : Two Level Direct Inversion of Iterative Subspace                     \n",
      "                   Max. Number of Iterations       : 50                                                                   \n",
      "                   Max. Number of Error Vectors    : 10                                                                   \n",
      "                   Convergence Threshold           : 1.0e-06                                                              \n",
      "                   ERI Screening Scheme            : Cauchy Schwarz + Density                                             \n",
      "                   ERI Screening Mode              : Dynamic                                                              \n",
      "                   ERI Screening Threshold         : 1.0e-12                                                              \n",
      "                   Linear Dependence Threshold     : 1.0e-06                                                              \n",
      "                   Exchange-Correlation Functional : B3LYP                                                                \n",
      "                   Molecular Grid Level            : 4                                                                    \n",
      "                                                                                                                          \n",
      "* Info * Nuclear repulsion energy: 9.1561447194 a.u.                                                                      \n",
      "                                                                                                                          \n",
      "* Info * Molecular grid with 35950 points generated in 0.01 sec.                                                          \n",
      "                                                                                                                          \n",
      "* Info * Overlap matrix computed in 0.00 sec.                                                                             \n",
      "                                                                                                                          \n",
      "* Info * Kinetic energy matrix computed in 0.00 sec.                                                                      \n",
      "                                                                                                                          \n",
      "* Info * Nuclear potential matrix computed in 0.00 sec.                                                                   \n",
      "                                                                                                                          \n",
      "* Info * Orthogonalization matrix computed in 0.00 sec.                                                                   \n",
      "                                                                                                                          \n",
      "* Info * SAD initial guess computed in 0.00 sec.                                                                          \n",
      "                                                                                                                          \n",
      "* Info * Starting Reduced Basis SCF calculation...                                                                        \n",
      "* Info * ...done. SCF energy in reduced basis set: -74.963513321178 a.u. Time: 0.06 sec.                                  \n",
      "                                                                                                                          \n",
      "* Info * Overlap matrix computed in 0.00 sec.                                                                             \n",
      "                                                                                                                          \n",
      "* Info * Kinetic energy matrix computed in 0.00 sec.                                                                      \n",
      "                                                                                                                          \n",
      "* Info * Nuclear potential matrix computed in 0.00 sec.                                                                   \n",
      "                                                                                                                          \n",
      "* Info * Orthogonalization matrix computed in 0.00 sec.                                                                   \n",
      "                                                                                                                          \n",
      "                                                                                                                          \n",
      "               Iter. |    Kohn-Sham Energy | Energy Change | Gradient Norm | Max. Gradient | Density Change               \n",
      "               --------------------------------------------------------------------------------------------               \n",
      "                  1       -75.313458310096    0.0000000000      0.00468064      0.00150298      0.00000000                \n",
      "                  2       -75.313461886721   -0.0000035766      0.00245061      0.00058352      0.00349343                \n",
      "                  3       -75.313462892349   -0.0000010056      0.00051266      0.00014746      0.00150785                \n",
      "                  4       -75.313462934499   -0.0000000422      0.00000301      0.00000087      0.00022910                \n",
      "                  5       -75.313462934501   -0.0000000000      0.00000000      0.00000000      0.00000134                \n",
      "                                                                                                                          \n",
      "               *** SCF converged in 5 iterations. Time: 1.56 sec.                                                         \n",
      "                                                                                                                          \n",
      "               Spin-Restricted Kohn-Sham:                                                                                 \n",
      "               --------------------------                                                                                 \n",
      "               Total Energy                       :      -75.3134629345 a.u.                                              \n",
      "               Electronic Energy                  :      -84.4696076539 a.u.                                              \n",
      "               Nuclear Repulsion Energy           :        9.1561447194 a.u.                                              \n",
      "               ------------------------------------                                                                       \n",
      "               Gradient Norm                      :        0.0000000006 a.u.                                              \n",
      "                                                                                                                          \n",
      "                                                                                                                          \n",
      "               Ground State Information                                                                                   \n",
      "               ------------------------                                                                                   \n",
      "               Charge of Molecule            :  0.0                                                                       \n",
      "               Multiplicity (2S+1)           :  1.0                                                                       \n",
      "               Magnetic Quantum Number (M_S) :  0.0                                                                       \n",
      "                                                                                                                          \n",
      "                                                                                                                          \n",
      "                                                 Spin Restricted Orbitals                                                 \n",
      "                                                 ------------------------                                                 \n",
      "                                                                                                                          \n",
      "               Molecular Orbital No.   1:                                                                                 \n",
      "               --------------------------                                                                                 \n",
      "               Occupation: 2.000 Energy:  -18.83573 a.u.                                                                  \n",
      "               (   1 O   1s  :     0.99)                                                                                  \n",
      "                                                                                                                          \n",
      "               Molecular Orbital No.   2:                                                                                 \n",
      "               --------------------------                                                                                 \n",
      "               Occupation: 2.000 Energy:   -0.93388 a.u.                                                                  \n",
      "               (   1 O   1s  :    -0.23) (   1 O   2s  :     0.80) (   1 O   1p0 :    -0.19)                              \n",
      "               (   2 H   1s  :     0.17) (   3 H   1s  :     0.17)                                                        \n",
      "                                                                                                                          \n",
      "               Molecular Orbital No.   3:                                                                                 \n",
      "               --------------------------                                                                                 \n",
      "               Occupation: 2.000 Energy:   -0.44202 a.u.                                                                  \n",
      "               (   1 O   1p+1:     0.61) (   2 H   1s  :    -0.44) (   3 H   1s  :     0.44)                              \n",
      "                                                                                                                          \n",
      "               Molecular Orbital No.   4:                                                                                 \n",
      "               --------------------------                                                                                 \n",
      "               Occupation: 2.000 Energy:   -0.23096 a.u.                                                                  \n",
      "               (   1 O   2s  :    -0.61) (   1 O   1p0 :    -0.75) (   2 H   1s  :     0.28)                              \n",
      "               (   3 H   1s  :     0.28)                                                                                  \n",
      "                                                                                                                          \n",
      "               Molecular Orbital No.   5:                                                                                 \n",
      "               --------------------------                                                                                 \n",
      "               Occupation: 2.000 Energy:   -0.14405 a.u.                                                                  \n",
      "               (   1 O   1p-1:     1.00)                                                                                  \n",
      "                                                                                                                          \n",
      "               Molecular Orbital No.   6:                                                                                 \n",
      "               --------------------------                                                                                 \n",
      "               Occupation: 0.000 Energy:    0.35227 a.u.                                                                  \n",
      "               (   1 O   2s  :     0.86) (   1 O   1p0 :    -0.75) (   2 H   1s  :    -0.79)                              \n",
      "               (   3 H   1s  :    -0.79)                                                                                  \n",
      "                                                                                                                          \n",
      "               Molecular Orbital No.   7:                                                                                 \n",
      "               --------------------------                                                                                 \n",
      "               Occupation: 0.000 Energy:    0.46758 a.u.                                                                  \n",
      "               (   1 O   1p+1:     0.99) (   2 H   1s  :     0.84) (   3 H   1s  :    -0.84)                              \n",
      "                                                                                                                          \n"
     ]
    }
   ],
   "source": [
    "water_xyz = \"\"\"\n",
    "O       0.0000000000     0.0000000000     0.1178336003\n",
    "H      -0.7595754146    -0.0000000000    -0.4713344012\n",
    "H       0.7595754146     0.0000000000    -0.4713344012\n",
    "\"\"\"\n",
    "basis = \"sto-3g\"\n",
    "vlx_mol = vlx.Molecule.read_str(water_xyz, units=\"angstrom\")\n",
    "vlx_bas = vlx.MolecularBasis.read(vlx_mol, basis)\n",
    "\n",
    "scf_drv = vlx.ScfRestrictedDriver()\n",
    "scf_settings = {\"conv_thresh\": 1.0e-6}\n",
    "method_settings = {\"xcfun\": \"b3lyp\"}\n",
    "scf_drv.update_settings(scf_settings, method_settings)\n",
    "scf_drv.compute(vlx_mol, vlx_bas)"
   ]
  },
  {
   "cell_type": "markdown",
   "metadata": {},
   "source": [
    "Loading Hessian and property gradients and constructing overlap matrix:"
   ]
  },
  {
   "cell_type": "code",
   "execution_count": 7,
   "metadata": {},
   "outputs": [
    {
     "name": "stdout",
     "output_type": "stream",
     "text": [
      "* Info * Molecular grid with 35950 points generated in 0.01 sec.                                                          \n",
      "                                                                                                                          \n",
      "* Info * Processing Fock builds... (batch size: 40)                                                                       \n",
      "* Info *   batch 1/1                                                                                                      \n"
     ]
    }
   ],
   "source": [
    "lrs = vlx.LinearResponseEigenSolver()\n",
    "lrs.update_settings(scf_settings, method_settings)\n",
    "rsp_drv = vlx.LinearResponseSolver()\n",
    "rsp_drv.update_settings(scf_settings, method_settings)\n",
    "\n",
    "# Electronic Hessian\n",
    "E2 = lrs.get_e2(vlx_mol, vlx_bas, scf_drv.scf_tensors)\n",
    "\n",
    "# Property gradients for dipole operator\n",
    "V1_x = rsp_drv.get_prop_grad(\n",
    "    \"electric dipole\", \"x\", vlx_mol, vlx_bas, scf_drv.scf_tensors\n",
    ")[0]\n",
    "V1_y = rsp_drv.get_prop_grad(\n",
    "    \"electric dipole\", \"y\", vlx_mol, vlx_bas, scf_drv.scf_tensors\n",
    ")[0]\n",
    "V1_z = rsp_drv.get_prop_grad(\n",
    "    \"electric dipole\", \"z\", vlx_mol, vlx_bas, scf_drv.scf_tensors\n",
    ")[0]\n",
    "\n",
    "# Dimension\n",
    "c = int(len(E2) / 2)\n",
    "\n",
    "# Overlap matrix\n",
    "S2 = np.identity(2 * c)\n",
    "S2[c : 2 * c, c : 2 * c] *= -1"
   ]
  },
  {
   "cell_type": "code",
   "execution_count": 8,
   "metadata": {},
   "outputs": [],
   "source": [
    "## Full diagonalization\n",
    "\n",
    "# Set up and solve eigenvalue problem\n",
    "Sinv = np.linalg.inv(S2)  # for clarity - is identical\n",
    "M = np.matmul(Sinv, E2)\n",
    "eigs, X = np.linalg.eig(M)\n",
    "\n",
    "# Reorder results\n",
    "idx = np.argsort(eigs)\n",
    "eigs = np.array(eigs)[idx]\n",
    "X = np.array(X)[:, idx]\n",
    "\n",
    "# Compute oscillator strengths\n",
    "fosc = []\n",
    "for i in range(int(len(eigs) / 2)):\n",
    "    j = i + int(len(eigs) / 2)  # focus on excitations\n",
    "    Xf = X[:, j]\n",
    "    Xf = Xf / np.sqrt(np.matmul(Xf.T, np.matmul(S2, Xf)))\n",
    "    tm = np.dot(Xf, V1_x) ** 2 + np.dot(Xf, V1_y) ** 2 + np.dot(Xf, V1_z) ** 2\n",
    "    fosc.append(tm * 2.0 / 3.0 * eigs[j])"
   ]
  },
  {
   "cell_type": "code",
   "execution_count": 9,
   "metadata": {},
   "outputs": [
    {
     "name": "stdout",
     "output_type": "stream",
     "text": [
      "Energy/eV    Osc. strength\n",
      "---------------------------\n",
      "  11.57         0.00230\n",
      "  13.86         0.00000\n",
      "  14.45         0.06403\n",
      "  17.77         0.05891\n",
      "  21.44         0.94532\n",
      "  26.74         0.42522\n",
      "  36.77         0.14154\n",
      "  36.91         0.05850\n",
      "  519.02         0.05384\n",
      "  521.26         0.08679\n",
      "---------------------------\n"
     ]
    }
   ],
   "source": [
    "au2ev = 27.211396\n",
    "\n",
    "print(f\"Energy/eV    Osc. strength\")\n",
    "print(f\"---------------------------\")\n",
    "for i in range(int(len(eigs) / 2)):\n",
    "    j = i + int(len(eigs) / 2)  # focus on excitations\n",
    "    print(f\" {au2ev*eigs[j] : .2f}        {fosc[i] : .5f}\")\n",
    "print(f\"---------------------------\")"
   ]
  },
  {
   "cell_type": "markdown",
   "metadata": {},
   "source": [
    "### CVS space"
   ]
  },
  {
   "cell_type": "code",
   "execution_count": 10,
   "metadata": {},
   "outputs": [],
   "source": [
    "## Indices and dimensions\n",
    "\n",
    "# VUmber of virtuals\n",
    "nocc = vlx_mol.number_of_alpha_electrons()\n",
    "nvirt = vlx.MolecularBasis.get_dimensions_of_basis(vlx_bas, vlx_mol) - nocc\n",
    "n = nocc * nvirt\n",
    "\n",
    "# CVS space\n",
    "res_mo = 1\n",
    "res_indx = 0\n",
    "c = res_mo * nvirt"
   ]
  },
  {
   "cell_type": "code",
   "execution_count": 11,
   "metadata": {},
   "outputs": [],
   "source": [
    "## Construct CVS objects\n",
    "\n",
    "# Define starting index for deexcitation\n",
    "c_int_deex = n + res_indx\n",
    "\n",
    "# CVS Hessian\n",
    "E2_cvs = np.zeros((2 * c, 2 * c))\n",
    "E2_cvs[0:c, 0:c] = E2[res_indx:c, res_indx:c]\n",
    "E2_cvs[0:c, c : 2 * c] = E2[res_indx:c, c_int_deex : c_int_deex + c]\n",
    "E2_cvs[c : 2 * c, 0:c] = E2[c_int_deex : c_int_deex + c, res_indx:c]\n",
    "E2_cvs[c : 2 * c, c : 2 * c] = E2[\n",
    "    c_int_deex : c_int_deex + c, c_int_deex : c_int_deex + c\n",
    "]\n",
    "\n",
    "# CVS overlap matrix\n",
    "S2_cvs = np.identity(2 * c)\n",
    "S2_cvs[c : 2 * c, c : 2 * c] *= -1\n",
    "\n",
    "# CVS property gradients\n",
    "V1_cvs_x = np.zeros(2 * c)\n",
    "V1_cvs_x[0:c] = V1_x[res_indx:c]\n",
    "V1_cvs_x[c : 2 * c] = V1_x[c_int_deex : c_int_deex + c]\n",
    "V1_cvs_y = np.zeros(2 * c)\n",
    "V1_cvs_y[0:c] = V1_y[res_indx:c]\n",
    "V1_cvs_y[c : 2 * c] = V1_y[c_int_deex : c_int_deex + c]\n",
    "V1_cvs_z = np.zeros(2 * c)\n",
    "V1_cvs_z[0:c] = V1_z[res_indx:c]\n",
    "V1_cvs_z[c : 2 * c] = V1_z[c_int_deex : c_int_deex + c]"
   ]
  },
  {
   "cell_type": "code",
   "execution_count": 12,
   "metadata": {},
   "outputs": [],
   "source": [
    "## Full diagonalization in CVS space\n",
    "\n",
    "# Set up and solve eigenvalue problem\n",
    "Sinv = np.linalg.inv(S2_cvs)  # for clarity - is identical\n",
    "M = np.matmul(Sinv, E2_cvs)\n",
    "eigs_cvs, X_cvs = np.linalg.eig(M)\n",
    "\n",
    "# Reorder results\n",
    "idx = np.argsort(eigs_cvs)\n",
    "eigs_cvs = np.array(eigs_cvs)[idx]\n",
    "X_cvs = np.array(X_cvs)[:, idx]\n",
    "\n",
    "# Compute oscillator strengths\n",
    "fosc_cvs = []\n",
    "for i in range(int(len(eigs_cvs) / 2)):\n",
    "    j = i + int(len(eigs_cvs) / 2)  # focus on excitations\n",
    "    Xf_cvs = X_cvs[:, j]\n",
    "    Xf_cvs = Xf_cvs / np.sqrt(np.matmul(Xf_cvs.T, np.matmul(S2_cvs, Xf_cvs)))\n",
    "    tm_cvs = (\n",
    "        np.dot(Xf_cvs, V1_cvs_x) ** 2\n",
    "        + np.dot(Xf_cvs, V1_cvs_y) ** 2\n",
    "        + np.dot(Xf_cvs, V1_cvs_z) ** 2\n",
    "    )\n",
    "    fosc_cvs.append(tm_cvs * 2.0 / 3.0 * eigs_cvs[j])"
   ]
  },
  {
   "cell_type": "code",
   "execution_count": 13,
   "metadata": {},
   "outputs": [
    {
     "name": "stdout",
     "output_type": "stream",
     "text": [
      "Energy/eV    Osc. strength\n",
      "---------------------------\n",
      "  519.02         0.05339\n",
      "  521.26         0.08609\n",
      "---------------------------\n"
     ]
    }
   ],
   "source": [
    "## Print and plot results\n",
    "\n",
    "au2ev = 27.211396\n",
    "\n",
    "print(f\"Energy/eV    Osc. strength\")\n",
    "print(f\"---------------------------\")\n",
    "for i in range(int(len(eigs_cvs) / 2)):\n",
    "    j = i + int(len(eigs_cvs) / 2)  # focus on excitations\n",
    "    print(f\" {au2ev*eigs_cvs[j] : .2f}        {fosc_cvs[i] : .5f}\")\n",
    "print(f\"---------------------------\")"
   ]
  },
  {
   "cell_type": "code",
   "execution_count": 14,
   "metadata": {},
   "outputs": [
    {
     "data": {
      "image/png": "[encoded data removed]",
      "text/plain": [
       "<Figure size 432x288 with 1 Axes>"
      ]
     },
     "metadata": {
      "needs_background": "light"
     },
     "output_type": "display_data"
    }
   ],
   "source": [
    "# Plot both sets\n",
    "\n",
    "\n",
    "def lorentzian(x, y, xmin, xmax, xstep, gamma):\n",
    "    xi = np.arange(xmin, xmax, xstep)\n",
    "    yi = np.zeros(len(xi))\n",
    "    for i in range(len(xi)):\n",
    "        for k in range(len(x)):\n",
    "            yi[i] = yi[i] + y[k] * (gamma / 2.0) / (\n",
    "                (xi[i] - x[k]) ** 2 + (gamma / 2.0) ** 2\n",
    "            )\n",
    "    return xi, yi\n",
    "\n",
    "\n",
    "plt.figure()\n",
    "x, y = eigs[int(len(eigs) / 2) :], fosc\n",
    "x1, y1 = lorentzian(x, y, 515 / au2ev, 525 / au2ev, 0.001, 0.3 / au2ev)\n",
    "plt.plot(x1 * au2ev, y1)\n",
    "x, y = eigs_cvs[int(len(eigs_cvs) / 2) :], fosc_cvs\n",
    "x2, y2 = lorentzian(x, y, 515 / au2ev, 525 / au2ev, 0.001, 0.3 / au2ev)\n",
    "plt.plot(x2 * au2ev, y2)\n",
    "plt.plot(x2 * au2ev, y1 - y2)\n",
    "plt.legend((\"full space\", \"CVS\", \"difference\"))\n",
    "\n",
    "plt.tight_layout()\n",
    "plt.show()"
   ]
  },
  {
   "cell_type": "markdown",
   "metadata": {},
   "source": [
    "```{note}\n",
    "To be added: comparison to CVS functionalities in `VeloxChem` (currently unavailable).\n",
    "```\n",
    "\n",
    "(sec:xray_ie_diffuse)=\n",
    "## Ionization energies from XAS\n",
    "\n",
    "Using diffuse basis function. Spectra and IE.\n",
    "\n",
    "```{note}\n",
    "To be added.\n",
    "```\n",
    "\n",
    "## Ionization energies from XES\n",
    "\n",
    "Using diffuse basis function. IE.\n",
    "\n",
    "```{note}\n",
    "To be added.\n",
    "```"
   ]
  },
  {
   "cell_type": "markdown",
   "metadata": {},
   "source": [
    "## XES in reverse\n",
    "\n",
    "The XES process can like the XAS process be considered in reverse and thus calculated from core excitation of a valence ionized state, rather than from valence deexcitations of a core ionized state."
   ]
  },
  {
   "cell_type": "code",
   "execution_count": 15,
   "metadata": {
    "tags": [
     "hide-output"
    ]
   },
   "outputs": [
    {
     "name": "stdout",
     "output_type": "stream",
     "text": [
      "converged SCF energy = -74.9635132992207  <S^2> = 3.1334935e-12  2S+1 = 1\n",
      "converged SCF energy = -74.6571057626323  <S^2> = 0.75528744  2S+1 = 2.0052805\n",
      "Starting cvs-adc2  Jacobi-Davidson ...\n",
      "Niter n_ss  max_residual  time  Ritz values\n",
      "  1     3       0.13803   1.7s  [19.68772049]\n",
      "  2     6    6.4422e-07  198ms  [19.63606684]\n",
      "=== Converged ===\n",
      "    Number of matrix applies:    6\n",
      "    Total solver time:             1s 863ms\n",
      "converged SCF energy = -74.5728036635441  <S^2> = 0.75074736  2S+1 = 2.0007472\n",
      "Starting cvs-adc2  Jacobi-Davidson ...\n",
      "Niter n_ss  max_residual  time  Ritz values\n",
      "  1     3       0.14382   1.8s  [19.60198384]\n",
      "  2     6    1.8609e-06  107ms  [19.54756653]\n",
      "=== Converged ===\n",
      "    Number of matrix applies:    6\n",
      "    Total solver time:             1s 880ms\n",
      "converged SCF energy = -74.372398836201  <S^2> = 0.75404846  2S+1 = 2.0040444\n",
      "Starting cvs-adc2  Jacobi-Davidson ...\n",
      "Niter n_ss  max_residual  time  Ritz values\n",
      "  1     3       0.38131   1.2s  [19.5474759]\n",
      "  2     6      0.011991   55ms  [19.35738242]\n",
      "  3     9    5.6308e-06   99ms  [19.35364798]\n",
      "=== Converged ===\n",
      "    Number of matrix applies:    9\n",
      "    Total solver time:             1s 371ms\n",
      "converged SCF energy = -73.7433854173607  <S^2> = 0.7609779  2S+1 = 2.0109479\n",
      "Starting cvs-adc2  Jacobi-Davidson ...\n",
      "Niter n_ss  max_residual  time  Ritz values\n",
      "  1     3       0.17544   1.5s  [18.81395478]\n",
      "  2     6    0.00018419  133ms  [18.74134736]\n",
      "=== Converged ===\n",
      "    Number of matrix applies:    6\n",
      "    Total solver time:             1s 683ms\n"
     ]
    }
   ],
   "source": [
    "xes_rev_E = []\n",
    "xes_rev_f = []\n",
    "\n",
    "# Perform unrestricted SCF calculation\n",
    "scf_res = scf.UHF(mol)\n",
    "scf_res.kernel()\n",
    "\n",
    "# Copy molecular orbital coefficients\n",
    "mo0 = copy.deepcopy(scf_res.mo_coeff)\n",
    "\n",
    "for i in range(4):\n",
    "    occ0 = copy.deepcopy(scf_res.mo_occ)\n",
    "    occ0[0][4 - i] = 0.0\n",
    "    # Perform unrestricted SCF calculation with MOM constraint\n",
    "    scf_ion = scf.UHF(mol)\n",
    "    scf.addons.mom_occ(scf_ion, mo0, occ0)\n",
    "    scf_ion.kernel()\n",
    "    # Perform ADC calculation of first four states\n",
    "    adc_xes = adcc.cvs_adc2(scf_ion, n_states=1, core_orbitals=1)\n",
    "    xes_rev_E.append(au2ev * adc_xes.excitation_energy)\n",
    "    xes_rev_f.append(adc_xes.oscillator_strength)"
   ]
  },
  {
   "cell_type": "code",
   "execution_count": 16,
   "metadata": {
    "tags": [
     "hide-output"
    ]
   },
   "outputs": [
    {
     "name": "stdout",
     "output_type": "stream",
     "text": [
      "converged SCF energy = -55.0578426854961  <S^2> = 0.75156609  2S+1 = 2.0015655\n",
      "Starting adc2  Jacobi-Davidson ...\n",
      "Niter n_ss  max_residual  time  Ritz values\n",
      "  1     8       0.17337   1.4s  [-19.51438283 -19.42928246 -19.20529078 -18.57317527]\n",
      "  2    16    5.8712e-05  152ms  [-19.55996768 -19.47432374 -19.25374075 -18.63244417]\n",
      "=== Converged ===\n",
      "    Number of matrix applies:    16\n",
      "    Total solver time:             1s 526ms\n"
     ]
    }
   ],
   "source": [
    "# From a core-hole\n",
    "\n",
    "occ0 = copy.deepcopy(scf_res.mo_occ)\n",
    "occ0[0][0] = 0.0\n",
    "\n",
    "scf_ion = scf.UHF(mol)\n",
    "scf.addons.mom_occ(scf_ion, mo0, occ0)\n",
    "scf_ion.kernel()\n",
    "adc_xes = adcc.adc2(scf_ion, n_states=4)\n",
    "xes_E = -au2ev * adc_xes.excitation_energy\n",
    "xes_f = adc_xes.oscillator_strength"
   ]
  },
  {
   "cell_type": "code",
   "execution_count": 17,
   "metadata": {},
   "outputs": [
    {
     "name": "stdout",
     "output_type": "stream",
     "text": [
      "\n",
      "Excitation Energy/eV     Osc. strength\n",
      "-------------------------------------------\n",
      "    532.25                    0.053868\n",
      "    532.25                    0.053868\n",
      "    532.25                    0.053868\n",
      "    532.25                    0.053868\n",
      "-------------------------------------------\n",
      "\n",
      "Excitation Energy/eV     Osc. strength\n",
      "-------------------------------------------\n",
      "    534.32                    0.050481\n",
      "    531.92                    0.039291\n",
      "    526.64                    0.032744\n",
      "    509.98                    0.003519\n",
      "-------------------------------------------\n"
     ]
    },
    {
     "data": {
      "image/png": "[encoded data removed]",
      "text/plain": [
       "<Figure size 432x360 with 1 Axes>"
      ]
     },
     "metadata": {
      "needs_background": "light"
     },
     "output_type": "display_data"
    }
   ],
   "source": [
    "print(f\"\\nExcitation Energy/eV     Osc. strength\")\n",
    "print(f\"-------------------------------------------\")\n",
    "for i in range(len(xes_E)):\n",
    "    print(f\"   {xes_E[0] : .2f}                   {xes_f[0] : .6f}\")\n",
    "print(f\"-------------------------------------------\")\n",
    "\n",
    "print(f\"\\nExcitation Energy/eV     Osc. strength\")\n",
    "print(f\"-------------------------------------------\")\n",
    "for i in range(len(xes_rev_E)):\n",
    "    print(f\"   {xes_rev_E[i][0] : .2f}                   {xes_rev_f[i][0] : .6f}\")\n",
    "print(f\"-------------------------------------------\")\n",
    "\n",
    "# Plot\n",
    "plt.figure(figsize=(6, 5))\n",
    "x, y = xes_E, xes_f\n",
    "xi, yi = lorentzian(x, y, 515, 535, 0.01, 0.5)\n",
    "plt.plot(xi, yi)\n",
    "x, y = xes_rev_E, xes_rev_f\n",
    "xi, yi = lorentzian(x, y, 515, 535, 0.01, 0.5)\n",
    "plt.plot(xi, yi)\n",
    "plt.legend((\"From core-hole\", \"From valence-hole\"))\n",
    "plt.tight_layout()\n",
    "plt.show()"
   ]
  }
 ],
 "metadata": {
  "celltoolbar": "Tags",
  "kernelspec": {
   "display_name": "Python 3 (ipykernel)",
   "language": "python",
   "name": "python3"
  },
  "language_info": {
   "codemirror_mode": {
    "name": "ipython",
    "version": 3
   },
   "file_extension": ".py",
   "mimetype": "text/x-python",
   "name": "python",
   "nbconvert_exporter": "python",
   "pygments_lexer": "ipython3",
   "version": "3.9.12"
  }
 },
 "nbformat": 4,
 "nbformat_minor": 4
}
