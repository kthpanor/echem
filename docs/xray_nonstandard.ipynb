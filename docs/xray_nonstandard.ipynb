{
 "cells": [
  {
   "cell_type": "markdown",
   "metadata": {},
   "source": [
    "# Non-standard calculations\n",
    "\n",
    "In this chapter we will consider some non-standard calculations. Some can be useful but need care for practical considerations (*i.e.* transient X-ray spectroscopy), and some are more illustrations of alternative (but not recommended) ways of modelling spectra. Be careful before directly adopting these approaches for some practical problem."
   ]
  },
  {
   "cell_type": "code",
   "execution_count": 1,
   "metadata": {
    "tags": [
     "hide-input"
    ]
   },
   "outputs": [
    {
     "name": "stdout",
     "output_type": "stream",
     "text": [
      "* Warning * Environment variable OMP_NUM_THREADS not set.\n",
      "* Warning * Setting OMP_NUM_THREADS to 4.\n",
      "* Warning * Setting MKL_THREADING_LAYER to \"GNU\".\n"
     ]
    }
   ],
   "source": [
    "import copy\n",
    "import adcc\n",
    "import matplotlib.pyplot as plt\n",
    "import numpy as np\n",
    "from pyscf import gto, mp, scf\n",
    "import veloxchem as vlx\n",
    "\n",
    "def lorentzian(x, y, xmin, xmax, xstep, gamma):\n",
    "    xi = np.arange(xmin, xmax, xstep)\n",
    "    yi = np.zeros(len(xi))\n",
    "    for i in range(len(xi)):\n",
    "        for k in range(len(x)):\n",
    "            yi[i] = yi[i] + y[k] * (gamma / 2.0) / (\n",
    "                (xi[i] - x[k]) ** 2 + (gamma / 2.0) ** 2\n",
    "            )\n",
    "    return xi, yi\n",
    "\n",
    "au2ev = 27.211386"
   ]
  },
  {
   "cell_type": "markdown",
   "metadata": {},
   "source": [
    "## Transient X-ray absorption spectroscopy\n",
    "\n",
    "An increasingly large field of study is to use a pump-probe protocol, where some chemical reaction is initiated by some pump (typically a laser), and the dynamics are then probed using some X-ray spectroscopy. The modeling of such process is quite new, and we will here present some protocols of how such processes can be considered.\n",
    "\n",
    "### Valence-excited reference state\n",
    "\n",
    "By using an excited state as the references state, the X-ray absorption spectra can be considered in a manner similar to XES:\n",
    "1. Perform a ground state calculation\n",
    "2. Use the result as initial guess for a second calculation, where the occupations are changed to emulate that of the desired (valence) excited state\n",
    "3. Perform a wave function optimization with above configuration, using a constraint such as MOM to avoid a collapse to the ground state\n",
    "4. Calculate the X-ray absorption spectra of this reference state\n",
    "\n",
    "When considering (singlet) valence-excitations of a closed-shell molecule, two different reference state spin-muliticiplicity configurations are possible:\n",
    "- Low-spin open-shell reference (LSOR), which moves an electron within the same multiplicity\n",
    "- High-spin open-shell reference (HSOR), which flips the spin of the moved electron, and thus forms a triplet reference state (when considering singlet excitations of a closed-shell system)\n",
    "\n",
    "Note that the LSOR wave function will be heavily spin contaminated, as seen below. This has been claimed to lead to minimal errors, but care should be taken. Further note that converging to a reference state which represents the actual valence excitation is non-trivial, and may indeed be all but impossible. As such, this two-step approach is useful, but has some issues. Finally, if using correlated methods, there are some concerns that the [observed](https://doi.org/10.1063%2F4.0000070) relative energies are off from experimental values, which could relate to issues with using a [non-Aufbau](https://doi.org/10.1039/D2CP00584K) reference state.\n",
    "\n",
    "As an example we consider the first valence-excited state of water:"
   ]
  },
  {
   "cell_type": "code",
   "execution_count": 2,
   "metadata": {},
   "outputs": [
    {
     "name": "stdout",
     "output_type": "stream",
     "text": [
      "GS:\n",
      "converged SCF energy = -75.9838703827192  <S^2> = 6.3380412e-12  2S+1 = 1\n",
      "LSOR:\n"
     ]
    },
    {
     "name": "stderr",
     "output_type": "stream",
     "text": [
      "Overwritten attributes  get_occ  of <class 'pyscf.scf.uhf.UHF'>\n"
     ]
    },
    {
     "name": "stdout",
     "output_type": "stream",
     "text": [
      "converged SCF energy = -75.7142931989804  <S^2> = 1.0127856  2S+1 = 2.2474747\n",
      "HSOR:\n",
      "converged SCF energy = -75.7278282670683  <S^2> = 2.0038371  2S+1 = 3.002557\n"
     ]
    },
    {
     "data": {
      "text/plain": [
       "-75.72782826706828"
      ]
     },
     "execution_count": 2,
     "metadata": {},
     "output_type": "execute_result"
    }
   ],
   "source": [
    "water_xyz = \"\"\"\n",
    "O       0.0000000000     0.0000000000     0.1178336003\n",
    "H      -0.7595754146    -0.0000000000    -0.4713344012\n",
    "H       0.7595754146     0.0000000000    -0.4713344012\n",
    "\"\"\"\n",
    "\n",
    "mol = gto.Mole()\n",
    "mol.atom = water_xyz\n",
    "mol.basis = \"6-31G\"\n",
    "mol.build()\n",
    "\n",
    "print('GS:')\n",
    "scf_gs = scf.UHF(mol)\n",
    "scf_gs.kernel()\n",
    "\n",
    "print('LSOR:')\n",
    "mo0 = copy.deepcopy(scf_gs.mo_coeff)\n",
    "occ0 = copy.deepcopy(scf_gs.mo_occ)\n",
    "occ0[0][4] = 0.0\n",
    "occ0[0][5] = 1.0\n",
    "scf_lsor = scf.UHF(mol)\n",
    "scf.addons.mom_occ(scf_lsor, mo0, occ0)\n",
    "scf_lsor.kernel()\n",
    "\n",
    "print('HSOR:')\n",
    "mo0 = copy.deepcopy(scf_gs.mo_coeff)\n",
    "occ0 = copy.deepcopy(scf_gs.mo_occ)\n",
    "occ0[0][4] = 0.0\n",
    "occ0[1][5] = 1.0\n",
    "scf_hsor = scf.UHF(mol)\n",
    "scf.addons.mom_occ(scf_hsor, mo0, occ0)\n",
    "scf_hsor.kernel()"
   ]
  },
  {
   "cell_type": "markdown",
   "metadata": {},
   "source": [
    "As can be seen, the $\\langle S^2 \\rangle$ of the LSOR reference is close to 1, and thus represents an almost perfect mix of a singlet and triplet.\n",
    "\n",
    "Calculating the valence-excitation energies and comparing it to energy differences obtained from the different reference states:"
   ]
  },
  {
   "cell_type": "code",
   "execution_count": 3,
   "metadata": {
    "tags": [
     "hide-output"
    ]
   },
   "outputs": [
    {
     "name": "stdout",
     "output_type": "stream",
     "text": [
      "Starting adc2  Jacobi-Davidson ...\n",
      "Niter n_ss  max_residual  time  Ritz values\n",
      "  1    10       0.22058  713ms  [0.37446036 0.40081598 0.44565934 0.46679031 0.48399895]\n",
      "  2    20     0.0030002  196ms  [0.27713767 0.3056213  0.35895717 0.3715342  0.39063453]\n",
      "  3    30     9.786e-05  284ms  [0.27640472 0.30463815 0.35766488 0.37047079 0.38929738]\n",
      "=== Converged ===\n",
      "    Number of matrix applies:    30\n",
      "    Total solver time:             1s 202ms\n",
      "Starting cvs-adc2  Jacobi-Davidson ...\n",
      "Niter n_ss  max_residual  time  Ritz values\n",
      "  1     8        1.6222  603ms  [20.26123431 20.31992537 20.32302691 20.3464984  20.77599022]\n",
      "  2    16      0.059729  164ms  [19.77470975 19.80230856 19.84312303 19.87818817 20.5373859 ]\n",
      "  3    24     0.0025223  226ms  [19.75718509 19.78334186 19.84056229 19.86585919 20.53732181]\n",
      "  4    32    0.00064877  309ms  [19.75656768 19.78236576 19.84024749 19.86584883 20.53732181]\n",
      "  5    38    2.0368e-05  280ms  [19.756435   19.78211629 19.84024749 19.86584882 20.53732181]\n",
      "=== Converged ===\n",
      "    Number of matrix applies:    38\n",
      "    Total solver time:             1s 595ms\n",
      "Starting cvs-adc2  Jacobi-Davidson ...\n",
      "Niter n_ss  max_residual  time  Ritz values\n",
      "  1     8        1.4197  608ms  [19.65025265 20.45690115 20.50695083 20.60577589 20.87460994]\n",
      "  2    16       0.10186  167ms  [19.48097485 19.99916885 20.03363736 20.13668576 20.59740388]\n",
      "  3    24     0.0025102  281ms  [19.48081058 19.97028865 20.02430938 20.10063975 20.59579242]\n",
      "  4    32    0.00010515  312ms  [19.48081058 19.96947945 20.02423709 20.09930154 20.59579241]\n",
      "=== Converged ===\n",
      "    Number of matrix applies:    32\n",
      "    Total solver time:             1s 377ms\n",
      "Starting cvs-adc2  Jacobi-Davidson ...\n",
      "Niter n_ss  max_residual  time  Ritz values\n",
      "  1     9        1.3402   2.2s  [19.65310247 20.44001891 20.46846981 20.50328038 20.87239002]\n",
      "  2    18      0.081792  235ms  [19.48153505 19.99518847 20.03915758 20.06588885 20.59952219]\n",
      "  3    27     0.0012024  213ms  [19.48137709 19.98562519 20.0121162  20.05726204 20.59826671]\n",
      "  4    36    3.3226e-05  297ms  [19.48137709 19.98556281 20.01155346 20.05707419 20.59826671]\n",
      "=== Converged ===\n",
      "    Number of matrix applies:    36\n",
      "    Total solver time:             2s 937ms\n",
      "+--------------------------------------------------------------+\n",
      "| adc2                                        any ,  converged |\n",
      "+--------------------------------------------------------------+\n",
      "|  #        excitation energy     osc str    |v1|^2    |v2|^2  |\n",
      "|          (au)           (eV)                                 |\n",
      "|  0     0.2764047      7.521355   0.0000    0.9634   0.03655  |\n",
      "|  1     0.3046381      8.289626   0.0139    0.9591   0.04088  |\n",
      "|  2     0.3576649      9.732557   0.0000    0.9686   0.03135  |\n",
      "|  3     0.3704708      10.08102   0.0000     0.967   0.03295  |\n",
      "|  4     0.3892974      10.59332   0.0000    0.9636   0.03642  |\n",
      "+--------------------------------------------------------------+\n",
      "\n",
      "-8.230663923524949\n",
      "-7.85749980670181\n"
     ]
    }
   ],
   "source": [
    "adc_gs = adcc.adc2(scf_gs, n_states=5)\n",
    "adc_xas = adcc.cvs_adc2(scf_gs, n_states=5, core_orbitals=1)\n",
    "adc_lsor = adcc.cvs_adc2(scf_lsor, n_states=5, core_orbitals=1)\n",
    "adc_hsor = adcc.cvs_adc2(scf_hsor, n_states=5, core_orbitals=1)\n",
    "print(adc_gs.describe())\n",
    "print(27.2114 * (adc_gs.ground_state.energy() - adc_lsor.ground_state.energy()))\n",
    "print(27.2114 * (adc_gs.ground_state.energy() - adc_hsor.ground_state.energy()))"
   ]
  },
  {
   "cell_type": "markdown",
   "metadata": {},
   "source": [
    "The first allowed transition energy is relatively close to the $\\Delta$MP2 results (as we use the MP2 energies), in particular for the LSOR. Resulting spectra can now be plotted as:"
   ]
  },
  {
   "cell_type": "code",
   "execution_count": 4,
   "metadata": {},
   "outputs": [
    {
     "data": {
      "image/png": "[encoded data removed]",
      "text/plain": [
       "<Figure size 432x216 with 1 Axes>"
      ]
     },
     "metadata": {
      "needs_background": "light"
     },
     "output_type": "display_data"
    }
   ],
   "source": [
    "plt.figure(figsize=(6,3))\n",
    "adc_xas.plot_spectrum(label=\"GS\")\n",
    "adc_lsor.plot_spectrum(label=\"LSOR\")\n",
    "adc_hsor.plot_spectrum(label=\"HSOR\")\n",
    "plt.legend()\n",
    "plt.show()"
   ]
  },
  {
   "cell_type": "markdown",
   "metadata": {},
   "source": [
    "We see the occurance of a lower-energy feature, representing the 1s to SOMO transition, as well as an upward shift of remaining features."
   ]
  },
  {
   "cell_type": "markdown",
   "metadata": {},
   "source": [
    "### Coupling valence- and core-excited eigenstates\n",
    "\n",
    "- To be added\n",
    "\n",
    "\n",
    "## MOM approaches\n",
    "\n",
    "```{note}\n",
    "- Decide if to include\n",
    "- IMOM versus MOM (currently only IMOM)\n",
    "- Thanks to Anna Kristina and Josefine\n",
    "```\n",
    "\n",
    "As an illustration, the MOM approach [from pyscf](https://pyscf.org/_modules/pyscf/scf/addons.html#mom_occ_) has here been adapted to IMOM, *i.e.* considering overlap to the **initial** rather than most **recent** wave function. This has been done for both restricted (som simultaneously moving 2 electrons at a time) and unrestricted wave functions.\n",
    "\n",
    "```python\n",
    "def imom(mf, mocoeffs, occnum):\n",
    "    \"\"\"Use initial maximum overlap method to determine occupation number for each orbital in every\n",
    "    iteration. It can be applied to unrestricted as well as restricted open-shell systems.\"\"\"\n",
    "\n",
    "    # Copy initial MO coefficients for occupied orbitals\n",
    "    # This can be adapted for MOM / IMOM - need to look into\n",
    "    if isinstance(mf, dft.rks.RKS) or isinstance(mf, scf.hf.RHF):\n",
    "        coef_occ_a = mocoeffs[:, occnum > 0]\n",
    "    elif isinstance(mf, dft.uks.UKS) or isinstance(mf, scf.uhf.UHF):\n",
    "        coef_occ_a = mocoeffs[0][:, occnum[0] > 0]\n",
    "        coef_occ_b = mocoeffs[1][:, occnum[1] > 0]\n",
    "\n",
    "    # Write new get_occ routine for DFT kernel\n",
    "    def get_occ(mo_energy=None, mo_coeff=None):\n",
    "        # Get new MO energy and coefficients\n",
    "        if mo_energy is None:\n",
    "            mo_energy = mf.mo_energy\n",
    "        if mo_coeff is None:\n",
    "            mo_coeff = mf.mo_coeff\n",
    "\n",
    "        # Restricted\n",
    "        if isinstance(mf, dft.rks.RKS) or isinstance(mf, scf.hf.RHF):\n",
    "            mo_occ = np.zeros_like(occnum)\n",
    "            nocc_a = int(np.sum(occnum) / 2)  # number of occupied orbitals\n",
    "\n",
    "            # Construct s_a = MO_coeff(old)*S*MO_coeff(new)\n",
    "            SC = np.matmul(mf.get_ovlp().T, mo_coeff)\n",
    "            s_a = np.matmul(coef_occ_a.T, SC)\n",
    "\n",
    "            # Get indices for orbitals with largest p = sum_i s_a(ij)s_a(ij)\n",
    "            idx_a = np.argsort(np.einsum(\"ij,ij->j\", s_a, s_a))[::-1]\n",
    "\n",
    "            # Set occupation for selected MOs\n",
    "            mo_occ[idx_a[:nocc_a]] = 2.0\n",
    "\n",
    "        elif isinstance(mf, dft.uks.UKS) or isinstance(mf, scf.uhf.UHF):\n",
    "            mo_occ = np.zeros_like(occnum)\n",
    "            nocc_a = int(np.sum(occnum[0]))  # number of occupied alpha orbitals\n",
    "            nocc_b = int(np.sum(occnum[1]))  # number of occupied beta orbitals\n",
    "\n",
    "            # Construct s_a = MO_coeff(old)*S*MO_coeff(new)\n",
    "            SC_a = np.matmul(mf.get_ovlp().T, mo_coeff[0])\n",
    "            s_a = np.matmul(coef_occ_a.T, SC_a)\n",
    "            # Likewise for s_b\n",
    "            SC_b = np.matmul(mf.get_ovlp().T, mo_coeff[1])\n",
    "            s_b = np.matmul(coef_occ_b.T, SC_b)\n",
    "\n",
    "            # Get indices for orbitals with largest p_a = sum_i s_a(ij)s_a(ij)\n",
    "            idx_a = np.argsort(np.einsum(\"ij,ij->j\", s_a, s_a))[::-1]\n",
    "            # Likewise for p_b\n",
    "            idx_b = np.argsort(np.einsum(\"ij,ij->j\", s_b, s_b))[::-1]\n",
    "\n",
    "            # Set occupation for selected MOs\n",
    "            mo_occ[0][idx_a[:nocc_a]] = 1.0\n",
    "            mo_occ[1][idx_b[:nocc_b]] = 1.0\n",
    "\n",
    "        return mo_occ\n",
    "\n",
    "    # Redefine get_occ for DFT kernel as new function\n",
    "    mf.get_occ = get_occ\n",
    "\n",
    "    return mf\n",
    "```\n",
    "\n",
    "As examples, this can be used to calculate the single- and double-ionization energies of water:\n",
    "\n",
    "```python\n",
    "# Create molecule object\n",
    "mol = gto.Mole()\n",
    "mol.atom = water_xyz\n",
    "mol.basis = \"6-31G\"\n",
    "mol.build()\n",
    "\n",
    "# Index of core MO\n",
    "core = 0\n",
    "\n",
    "# Initial restricted/unrestricted SCF\n",
    "dft_re = dft.RKS(mol)\n",
    "dft_re.xc = \"b3lyp\"\n",
    "dft_re.kernel()\n",
    "dft_ur = dft.UKS(mol)\n",
    "dft_ur.xc = \"b3lyp\"\n",
    "dft_ur.kernel()\n",
    "\n",
    "# Single ionization energy\n",
    "mo0 = copy.deepcopy(dft_ur.mo_coeff)\n",
    "occ0 = copy.deepcopy(dft_ur.mo_occ)\n",
    "occ0[0][core] = 0.0\n",
    "dft_ion = dft.UKS(mol)\n",
    "dft_ion.xc = \"b3lyp\"\n",
    "imom(dft_ion, mo0, occ0)\n",
    "dft_ion.kernel()\n",
    "\n",
    "# Double ionization energy\n",
    "mo0 = copy.deepcopy(dft_re.mo_coeff)\n",
    "occ0 = copy.deepcopy(dft_re.mo_occ)\n",
    "occ0[core] = 0.0\n",
    "dft_ion = dft.RKS(mol)\n",
    "dft_ion.xc = \"b3lyp\"\n",
    "imom(dft_ion, mo0, occ0)\n",
    "dft_ion.kernel()\n",
    "\n",
    "print(\n",
    "    \"Single ionization energy:\",\n",
    "    np.around(au2ev * (dft_ion.energy_tot() - dft_ur.energy_tot()), 2),\n",
    "    \"eV\",\n",
    ")\n",
    "print(\n",
    "    \"Double ionization energy:\",\n",
    "    np.around(au2ev * (dft_ion.energy_tot() - dft_ur.energy_tot()), 2),\n",
    "    \"eV\",\n",
    ")\n",
    "```"
   ]
  },
  {
   "cell_type": "code",
   "execution_count": 5,
   "metadata": {
    "tags": [
     "hide-input"
    ]
   },
   "outputs": [
    {
     "name": "stdout",
     "output_type": "stream",
     "text": [
      "\n",
      "converged SCF energy = -76.3480474320894\n",
      "converged SCF energy = -76.3480474320839  <S^2> = 2.5504043e-11  2S+1 = 1\n",
      "converged SCF energy = -56.4125421194362  <S^2> = 0.75441021  2S+1 = 2.0044054\n",
      "converged SCF energy = -32.9492316840399\n",
      "Single ionization energy: 542.47 eV\n",
      "Double ionization energy: 1180.94 eV\n",
      "\n"
     ]
    }
   ],
   "source": [
    "res = \"\"\"\n",
    "converged SCF energy = -76.3480474320894\n",
    "converged SCF energy = -76.3480474320839  <S^2> = 2.5504043e-11  2S+1 = 1\n",
    "converged SCF energy = -56.4125421194362  <S^2> = 0.75441021  2S+1 = 2.0044054\n",
    "converged SCF energy = -32.9492316840399\n",
    "Single ionization energy: 542.47 eV\n",
    "Double ionization energy: 1180.94 eV\n",
    "\"\"\"\n",
    "print(res)"
   ]
  },
  {
   "cell_type": "markdown",
   "metadata": {},
   "source": [
    "(sec:xray_cvs_vs_full)=\n",
    "## Impact of channel restriction for TDDFT\n",
    "\n",
    "The influence of channel-restriction/CVS schemes for TDDFT can be considered for smaller systems by diagonalizing the full-space and CVS-space matrices, thus constructing the total global spectrum. This will not be possible for larger systems/basis sets, or for correlated method, where other [CVS relaxation schemes](https://doi.org/10.1063/5.0013538) have been used instead.\n",
    "\n",
    "For a discussion of the underlying theory, see related sections, and here we primarily note that we will construct and resolve the RPA, obtaining transition energies as poles by solving the eigenvalue problem:\n",
    "$$\n",
    "E^{[2]}X = {\\lambda} S^{[2]}X \n",
    "$$\n",
    "\n",
    "where\n",
    "\n",
    "$$\n",
    "{\\lambda} =\\begin{pmatrix}\n",
    "\\lambda & 0\\\\\n",
    "0 & -\\lambda\n",
    "\\end{pmatrix}\n",
    "$$\n",
    "\n",
    "By rewriting the linear response equation, we obtain the oscillator strength as:\n",
    "\n",
    "$$\n",
    "(T^{\\mu})^{2} = \\sum_{\\beta=x,y,z}{\\mu_{\\beta}^{[1]}}^\\dagger X_n X_n^{\\dagger}\\mu_{\\beta}^{[1]}\\\\\n",
    "f_{osc}^{if} = \\frac{2}{3}\\cdot \\omega_{if}\\cdot(T^{\\mu})^2\n",
    "$$\n",
    "\n",
    "This will now be done for water, where the ground state is calculated as:"
   ]
  },
  {
   "cell_type": "code",
   "execution_count": 6,
   "metadata": {
    "tags": [
     "hide-output"
    ]
   },
   "outputs": [
    {
     "name": "stdout",
     "output_type": "stream",
     "text": [
      "                                                                                                                          \n",
      "                                            Self Consistent Field Driver Setup                                            \n",
      "                                           ====================================                                           \n",
      "                                                                                                                          \n",
      "                   Wave Function Model             : Spin-Restricted Kohn-Sham                                            \n",
      "                   Initial Guess Model             : Superposition of Atomic Densities                                    \n",
      "                   Convergence Accelerator         : Two Level Direct Inversion of Iterative Subspace                     \n",
      "                   Max. Number of Iterations       : 50                                                                   \n",
      "                   Max. Number of Error Vectors    : 10                                                                   \n",
      "                   Convergence Threshold           : 1.0e-06                                                              \n",
      "                   ERI Screening Scheme            : Cauchy Schwarz + Density                                             \n",
      "                   ERI Screening Mode              : Dynamic                                                              \n",
      "                   ERI Screening Threshold         : 1.0e-12                                                              \n",
      "                   Linear Dependence Threshold     : 1.0e-06                                                              \n",
      "                   Exchange-Correlation Functional : B3LYP                                                                \n",
      "                   Molecular Grid Level            : 4                                                                    \n",
      "                                                                                                                          \n",
      "* Info * Nuclear repulsion energy: 9.1561447194 a.u.                                                                      \n",
      "                                                                                                                          \n",
      "* Info * Molecular grid with 35950 points generated in 0.01 sec.                                                          \n",
      "                                                                                                                          \n",
      "* Info * Overlap matrix computed in 0.00 sec.                                                                             \n",
      "                                                                                                                          \n",
      "* Info * Kinetic energy matrix computed in 0.00 sec.                                                                      \n",
      "                                                                                                                          \n",
      "* Info * Nuclear potential matrix computed in 0.00 sec.                                                                   \n",
      "                                                                                                                          \n",
      "* Info * Orthogonalization matrix computed in 0.00 sec.                                                                   \n",
      "                                                                                                                          \n",
      "* Info * SAD initial guess computed in 0.00 sec.                                                                          \n",
      "                                                                                                                          \n",
      "* Info * Starting Reduced Basis SCF calculation...                                                                        \n",
      "* Info * ...done. SCF energy in reduced basis set: -75.983870205311 a.u. Time: 0.05 sec.                                  \n",
      "                                                                                                                          \n",
      "* Info * Overlap matrix computed in 0.00 sec.                                                                             \n",
      "                                                                                                                          \n",
      "* Info * Kinetic energy matrix computed in 0.00 sec.                                                                      \n",
      "                                                                                                                          \n",
      "* Info * Nuclear potential matrix computed in 0.00 sec.                                                                   \n",
      "                                                                                                                          \n",
      "* Info * Orthogonalization matrix computed in 0.00 sec.                                                                   \n",
      "                                                                                                                          \n",
      "                                                                                                                          \n",
      "               Iter. |    Kohn-Sham Energy | Energy Change | Gradient Norm | Max. Gradient | Density Change               \n",
      "               --------------------------------------------------------------------------------------------               \n",
      "                  1       -76.384877806788    0.0000000000      0.05814398      0.01079242      0.00000000                \n",
      "                  2       -76.384691793132    0.0001860137      0.07420609      0.01375856      0.03127560                \n",
      "                  3       -76.385185991153   -0.0004941980      0.00038521      0.00008834      0.01651042                \n",
      "                  4       -76.385186023175   -0.0000000320      0.00007657      0.00002027      0.00029093                \n",
      "                  5       -76.385186023934   -0.0000000008      0.00000194      0.00000051      0.00002930                \n",
      "                  6       -76.385186023935   -0.0000000000      0.00000014      0.00000003      0.00000214                \n",
      "                                                                                                                          \n",
      "               *** SCF converged in 6 iterations. Time: 1.08 sec.                                                         \n",
      "                                                                                                                          \n",
      "               Spin-Restricted Kohn-Sham:                                                                                 \n",
      "               --------------------------                                                                                 \n",
      "               Total Energy                       :      -76.3851860239 a.u.                                              \n",
      "               Electronic Energy                  :      -85.5413307434 a.u.                                              \n",
      "               Nuclear Repulsion Energy           :        9.1561447194 a.u.                                              \n",
      "               ------------------------------------                                                                       \n",
      "               Gradient Norm                      :        0.0000001389 a.u.                                              \n",
      "                                                                                                                          \n",
      "                                                                                                                          \n",
      "               Ground State Information                                                                                   \n",
      "               ------------------------                                                                                   \n",
      "               Charge of Molecule            :  0.0                                                                       \n",
      "               Multiplicity (2S+1)           :  1.0                                                                       \n",
      "               Magnetic Quantum Number (M_S) :  0.0                                                                       \n",
      "                                                                                                                          \n",
      "                                                                                                                          \n",
      "                                                 Spin Restricted Orbitals                                                 \n",
      "                                                 ------------------------                                                 \n",
      "                                                                                                                          \n",
      "               Molecular Orbital No.   1:                                                                                 \n",
      "               --------------------------                                                                                 \n",
      "               Occupation: 2.000 Energy:  -19.13380 a.u.                                                                  \n",
      "               (   1 O   1s  :    -1.00)                                                                                  \n",
      "                                                                                                                          \n",
      "               Molecular Orbital No.   2:                                                                                 \n",
      "               --------------------------                                                                                 \n",
      "               Occupation: 2.000 Energy:   -1.01751 a.u.                                                                  \n",
      "               (   1 O   1s  :     0.21) (   1 O   2s  :    -0.46) (   1 O   3s  :    -0.45)                              \n",
      "               (   1 O   1p0 :     0.15) (   2 H   1s  :    -0.15) (   3 H   1s  :    -0.15)                              \n",
      "                                                                                                                          \n",
      "               Molecular Orbital No.   3:                                                                                 \n",
      "               --------------------------                                                                                 \n",
      "               Occupation: 2.000 Energy:   -0.52917 a.u.                                                                  \n",
      "               (   1 O   1p+1:     0.52) (   1 O   2p+1:     0.23) (   2 H   1s  :    -0.27)                              \n",
      "               (   2 H   2s  :    -0.15) (   3 H   1s  :     0.27) (   3 H   2s  :     0.15)                              \n",
      "                                                                                                                          \n",
      "               Molecular Orbital No.   4:                                                                                 \n",
      "               --------------------------                                                                                 \n",
      "               Occupation: 2.000 Energy:   -0.35661 a.u.                                                                  \n",
      "               (   1 O   2s  :    -0.20) (   1 O   3s  :    -0.37) (   1 O   1p0 :    -0.54)                              \n",
      "               (   1 O   2p0 :    -0.38)                                                                                  \n",
      "                                                                                                                          \n",
      "               Molecular Orbital No.   5:                                                                                 \n",
      "               --------------------------                                                                                 \n",
      "               Occupation: 2.000 Energy:   -0.29214 a.u.                                                                  \n",
      "               (   1 O   1p-1:     0.65) (   1 O   2p-1:     0.50)                                                        \n",
      "                                                                                                                          \n",
      "               Molecular Orbital No.   6:                                                                                 \n",
      "               --------------------------                                                                                 \n",
      "               Occupation: 0.000 Energy:    0.05639 a.u.                                                                  \n",
      "               (   1 O   2s  :     0.15) (   1 O   3s  :     1.09) (   1 O   1p0 :    -0.29)                              \n",
      "               (   1 O   2p0 :    -0.44) (   2 H   2s  :    -0.94) (   3 H   2s  :    -0.94)                              \n",
      "                                                                                                                          \n",
      "               Molecular Orbital No.   7:                                                                                 \n",
      "               --------------------------                                                                                 \n",
      "               Occupation: 0.000 Energy:    0.14625 a.u.                                                                  \n",
      "               (   1 O   1p+1:     0.42) (   1 O   2p+1:     0.75) (   2 H   2s  :     1.28)                              \n",
      "               (   3 H   2s  :    -1.28)                                                                                  \n",
      "                                                                                                                          \n",
      "               Molecular Orbital No.   8:                                                                                 \n",
      "               --------------------------                                                                                 \n",
      "               Occupation: 0.000 Energy:    0.80982 a.u.                                                                  \n",
      "               (   1 O   1p+1:    -0.20) (   1 O   2p+1:    -0.53) (   2 H   1s  :    -0.97)                              \n",
      "               (   2 H   2s  :     0.67) (   3 H   1s  :     0.97) (   3 H   2s  :    -0.67)                              \n",
      "                                                                                                                          \n",
      "               Molecular Orbital No.   9:                                                                                 \n",
      "               --------------------------                                                                                 \n",
      "               Occupation: 0.000 Energy:    0.87512 a.u.                                                                  \n",
      "               (   1 O   2s  :     0.18) (   1 O   3s  :    -0.28) (   1 O   1p0 :    -0.78)                              \n",
      "               (   1 O   2p0 :     0.50) (   2 H   1s  :    -0.71) (   2 H   2s  :     0.59)                              \n",
      "               (   3 H   1s  :    -0.71) (   3 H   2s  :     0.59)                                                        \n",
      "                                                                                                                          \n",
      "               Molecular Orbital No.  10:                                                                                 \n",
      "               --------------------------                                                                                 \n",
      "               Occupation: 0.000 Energy:    0.88918 a.u.                                                                  \n",
      "               (   1 O   1p-1:     0.96) (   1 O   2p-1:    -1.04)                                                        \n",
      "                                                                                                                          \n"
     ]
    }
   ],
   "source": [
    "basis = \"6-31G\"\n",
    "vlx_mol = vlx.Molecule.read_str(water_xyz)\n",
    "vlx_bas = vlx.MolecularBasis.read(vlx_mol, basis)\n",
    "\n",
    "scf_drv = vlx.ScfRestrictedDriver()\n",
    "scf_settings = {\"conv_thresh\": 1.0e-6}\n",
    "method_settings = {\"xcfun\": \"b3lyp\"}\n",
    "scf_drv.update_settings(scf_settings, method_settings)\n",
    "scf_drv.compute(vlx_mol, vlx_bas)"
   ]
  },
  {
   "cell_type": "markdown",
   "metadata": {},
   "source": [
    "### Full-space results\n",
    "\n",
    "For the full-space results, we construct the Hessian and property gradients:"
   ]
  },
  {
   "cell_type": "code",
   "execution_count": 7,
   "metadata": {
    "tags": [
     "hide-output"
    ]
   },
   "outputs": [
    {
     "name": "stdout",
     "output_type": "stream",
     "text": [
      "* Info * Molecular grid with 35950 points generated in 0.00 sec.                                                          \n",
      "                                                                                                                          \n",
      "* Info * Processing Fock builds... (batch size: 160)                                                                      \n",
      "* Info *   batch 1/1                                                                                                      \n"
     ]
    }
   ],
   "source": [
    "lrs = vlx.LinearResponseEigenSolver()\n",
    "lrs.update_settings(scf_settings, method_settings)\n",
    "rsp_drv = vlx.LinearResponseSolver()\n",
    "rsp_drv.update_settings(scf_settings, method_settings)\n",
    "\n",
    "# Electronic Hessian\n",
    "E2 = lrs.get_e2(vlx_mol, vlx_bas, scf_drv.scf_tensors)\n",
    "\n",
    "# Property gradients for dipole operator\n",
    "V1_x = rsp_drv.get_prop_grad(\n",
    "    \"electric dipole\", \"x\", vlx_mol, vlx_bas, scf_drv.scf_tensors\n",
    ")[0]\n",
    "V1_y = rsp_drv.get_prop_grad(\n",
    "    \"electric dipole\", \"y\", vlx_mol, vlx_bas, scf_drv.scf_tensors\n",
    ")[0]\n",
    "V1_z = rsp_drv.get_prop_grad(\n",
    "    \"electric dipole\", \"z\", vlx_mol, vlx_bas, scf_drv.scf_tensors\n",
    ")[0]\n",
    "\n",
    "# Dimension\n",
    "c = int(len(E2) / 2)\n",
    "\n",
    "# Overlap matrix\n",
    "S2 = np.identity(2 * c)\n",
    "S2[c : 2 * c, c : 2 * c] *= -1"
   ]
  },
  {
   "cell_type": "markdown",
   "metadata": {},
   "source": [
    "Calculating the excitation energies and oscillator strengths:"
   ]
  },
  {
   "cell_type": "code",
   "execution_count": 8,
   "metadata": {},
   "outputs": [],
   "source": [
    "# Set up and solve eigenvalue problem\n",
    "Sinv = np.linalg.inv(S2)  # for clarity - is identical\n",
    "M = np.matmul(Sinv, E2)\n",
    "eigs, X = np.linalg.eig(M)\n",
    "\n",
    "# Reorder results\n",
    "idx = np.argsort(eigs)\n",
    "eigs = np.array(eigs)[idx]\n",
    "X = np.array(X)[:, idx]\n",
    "\n",
    "# Compute oscillator strengths\n",
    "fosc = []\n",
    "for i in range(int(len(eigs) / 2)):\n",
    "    j = i + int(len(eigs) / 2)  # focus on excitations\n",
    "    Xf = X[:, j]\n",
    "    Xf = Xf / np.sqrt(np.matmul(Xf.T, np.matmul(S2, Xf)))\n",
    "    tm = np.dot(Xf, V1_x) ** 2 + np.dot(Xf, V1_y) ** 2 + np.dot(Xf, V1_z) ** 2\n",
    "    fosc.append(tm * 2.0 / 3.0 * eigs[j])"
   ]
  },
  {
   "cell_type": "markdown",
   "metadata": {},
   "source": [
    "### CVS-space results\n",
    "\n",
    "The dimensions of the CVS-space:"
   ]
  },
  {
   "cell_type": "code",
   "execution_count": 9,
   "metadata": {},
   "outputs": [],
   "source": [
    "# Number of virtuals\n",
    "nocc = vlx_mol.number_of_alpha_electrons()\n",
    "nvirt = vlx.MolecularBasis.get_dimensions_of_basis(vlx_bas, vlx_mol) - nocc\n",
    "n = nocc * nvirt\n",
    "\n",
    "# CVS space\n",
    "res_mo = 1\n",
    "res_indx = 0\n",
    "c = res_mo * nvirt"
   ]
  },
  {
   "cell_type": "markdown",
   "metadata": {},
   "source": [
    "Hessian and property gradients:"
   ]
  },
  {
   "cell_type": "code",
   "execution_count": 10,
   "metadata": {},
   "outputs": [],
   "source": [
    "## Construct CVS objects\n",
    "\n",
    "# Define starting index for deexcitation\n",
    "c_int_deex = n + res_indx\n",
    "\n",
    "# CVS Hessian\n",
    "E2_cvs = np.zeros((2 * c, 2 * c))\n",
    "E2_cvs[0:c, 0:c] = E2[res_indx:c, res_indx:c]\n",
    "E2_cvs[0:c, c : 2 * c] = E2[res_indx:c, c_int_deex : c_int_deex + c]\n",
    "E2_cvs[c : 2 * c, 0:c] = E2[c_int_deex : c_int_deex + c, res_indx:c]\n",
    "E2_cvs[c : 2 * c, c : 2 * c] = E2[\n",
    "    c_int_deex : c_int_deex + c, c_int_deex : c_int_deex + c\n",
    "]\n",
    "\n",
    "# CVS overlap matrix\n",
    "S2_cvs = np.identity(2 * c)\n",
    "S2_cvs[c : 2 * c, c : 2 * c] *= -1\n",
    "\n",
    "# CVS property gradients\n",
    "V1_cvs_x = np.zeros(2 * c)\n",
    "V1_cvs_x[0:c] = V1_x[res_indx:c]\n",
    "V1_cvs_x[c : 2 * c] = V1_x[c_int_deex : c_int_deex + c]\n",
    "V1_cvs_y = np.zeros(2 * c)\n",
    "V1_cvs_y[0:c] = V1_y[res_indx:c]\n",
    "V1_cvs_y[c : 2 * c] = V1_y[c_int_deex : c_int_deex + c]\n",
    "V1_cvs_z = np.zeros(2 * c)\n",
    "V1_cvs_z[0:c] = V1_z[res_indx:c]\n",
    "V1_cvs_z[c : 2 * c] = V1_z[c_int_deex : c_int_deex + c]"
   ]
  },
  {
   "cell_type": "markdown",
   "metadata": {},
   "source": [
    "Calculating energies and intensities:"
   ]
  },
  {
   "cell_type": "code",
   "execution_count": 11,
   "metadata": {},
   "outputs": [],
   "source": [
    "# Set up and solve eigenvalue problem\n",
    "Sinv = np.linalg.inv(S2_cvs)  # for clarity - is identical\n",
    "M = np.matmul(Sinv, E2_cvs)\n",
    "eigs_cvs, X_cvs = np.linalg.eig(M)\n",
    "\n",
    "# Reorder results\n",
    "idx = np.argsort(eigs_cvs)\n",
    "eigs_cvs = np.array(eigs_cvs)[idx]\n",
    "X_cvs = np.array(X_cvs)[:, idx]\n",
    "\n",
    "# Compute oscillator strengths\n",
    "fosc_cvs = []\n",
    "for i in range(int(len(eigs_cvs) / 2)):\n",
    "    j = i + int(len(eigs_cvs) / 2)  # focus on excitations\n",
    "    Xf_cvs = X_cvs[:, j]\n",
    "    Xf_cvs = Xf_cvs / np.sqrt(np.matmul(Xf_cvs.T, np.matmul(S2_cvs, Xf_cvs)))\n",
    "    tm_cvs = (\n",
    "        np.dot(Xf_cvs, V1_cvs_x) ** 2\n",
    "        + np.dot(Xf_cvs, V1_cvs_y) ** 2\n",
    "        + np.dot(Xf_cvs, V1_cvs_z) ** 2\n",
    "    )\n",
    "    fosc_cvs.append(tm_cvs * 2.0 / 3.0 * eigs_cvs[j])"
   ]
  },
  {
   "cell_type": "markdown",
   "metadata": {},
   "source": [
    "### Comparison\n",
    "\n",
    "Comparing the obtained spectra:"
   ]
  },
  {
   "cell_type": "code",
   "execution_count": 12,
   "metadata": {},
   "outputs": [
    {
     "data": {
      "image/png": "[encoded data removed]",
      "text/plain": [
       "<Figure size 432x216 with 1 Axes>"
      ]
     },
     "metadata": {
      "needs_background": "light"
     },
     "output_type": "display_data"
    }
   ],
   "source": [
    "plt.figure(figsize=(6,3))\n",
    "x, y = eigs[int(len(eigs) / 2) :], fosc\n",
    "x1, y1 = lorentzian(x, y, 518 / au2ev, 525 / au2ev, 0.001, 0.3 / au2ev)\n",
    "plt.plot(x1 * au2ev, y1)\n",
    "x, y = eigs_cvs[int(len(eigs_cvs) / 2) :], fosc_cvs\n",
    "x2, y2 = lorentzian(x, y, 518 / au2ev, 525 / au2ev, 0.001, 0.3 / au2ev)\n",
    "plt.plot(x2 * au2ev, y2)\n",
    "plt.plot(x2 * au2ev, 10*(y1 - y2))\n",
    "plt.legend((\"Full-space\", \"CVS-space\", \"Difference x10\"))\n",
    "plt.tight_layout()\n",
    "plt.show()"
   ]
  },
  {
   "cell_type": "markdown",
   "metadata": {},
   "source": [
    "We note a small difference between the two approaches. This difference has some dependence on the basis set, but will continue to be small for the *K*-edge.\n",
    "\n",
    "```{note}\n",
    "To be added: comparison to CVS functionalities in `VeloxChem` (currently unavailable).\n",
    "```"
   ]
  },
  {
   "cell_type": "markdown",
   "metadata": {},
   "source": [
    "(sec:xray_ie_diffuse)=\n",
    "## Ionization energies from XAS\n",
    "\n",
    "Can model the ionization energy by targetting excitations to extremely diffuse molecular orbital. Here: consider both spectrum and IE of water, at a CVS-ADC(2)-x/6-31G[+diffuse] level of theory.\n",
    "\n",
    "- To be added\n",
    "\n",
    "## Ionization energies from XES\n",
    "\n",
    "Can model the ionization energy by targetting decays from an extremely diffuse molecular orbital, with a core-electron already moved to it. The need of preparing this state makes the approach rather useless, but it can still provide insight into relaxation effects of XES. Here: consider the IE of water, at a CVS-ADC(2)/6-31G[+diffuse] level of theory.\n",
    "\n",
    "- To be added"
   ]
  },
  {
   "cell_type": "markdown",
   "metadata": {},
   "source": [
    "## XES considered in reverse\n",
    "\n",
    "Instead of modeling XES by looking at the (negative) eigenstates of a core-hole reference state, it is possible to use a valence-hole reference state, and then consider core-excitations into this hole. This thus models the XES process more from the point of view of XAS, *i.e.* in reverse. However, this approach presupposes:\n",
    "\n",
    "1. That a single-particle picture works quite well, and that specific valence-hole will yield reasonable representations of the valence-hole left following decay into a core-hole\n",
    "2. That the valence-hole can be converged well, and that the different (non-orthogonal) reference states from each calculation are sufficiently consistent with each other\n",
    "\n",
    "Furthermore, the calculation is made more tedious, as\n",
    "\n",
    "3. It requires one explicit calculation per state\n",
    "\n",
    "As such, this approach is by not suggested for practical calculations, but it does illustrate the ease of which such exotic calculations can be run, as well as teach us something about the relaxation of core-transitions.\n",
    "\n",
    "Considering the X-ray emission spectra of water, we create valence-holes in the four frontier valence MOs and construct a spectrum from this:\n",
    "\n",
    "```python\n",
    "# Containers for resulting energies and intensities\n",
    "xes_rev_E = []\n",
    "xes_rev_f = []\n",
    "\n",
    "# Perform unrestricted SCF calculation\n",
    "scf_res = scf.UHF(mol)\n",
    "scf_res.kernel()\n",
    "\n",
    "# Copy molecular orbital coefficients\n",
    "mo0 = copy.deepcopy(scf_res.mo_coeff)\n",
    "\n",
    "# Reference calculation from core-hole\n",
    "occ0 = copy.deepcopy(scf_res.mo_occ)\n",
    "occ0[0][0] = 0.0\n",
    "scf_ion = scf.UHF(mol)\n",
    "scf.addons.mom_occ(scf_ion, mo0, occ0)\n",
    "scf_ion.kernel()\n",
    "adc_xes = adcc.adc2(scf_ion, n_states=4)\n",
    "xes_E = -au2ev * adc_xes.excitation_energy\n",
    "xes_f = adc_xes.oscillator_strength\n",
    "\n",
    "for i in range(4):\n",
    "    occ0 = copy.deepcopy(scf_res.mo_occ)\n",
    "    occ0[0][4 - i] = 0.0\n",
    "    # Perform unrestricted SCF calculation with MOM constraint\n",
    "    scf_ion = scf.UHF(mol)\n",
    "    scf.addons.mom_occ(scf_ion, mo0, occ0)\n",
    "    scf_ion.kernel()\n",
    "    # Perform ADC calculation of first four states\n",
    "    adc_xes = adcc.cvs_adc2(scf_ion, n_states=1, core_orbitals=1)\n",
    "    xes_rev_E.append(au2ev * adc_xes.excitation_energy)\n",
    "    xes_rev_f.append(adc_xes.oscillator_strength)\n",
    "```\n",
    "\n",
    "Comparing the two different spectra:\n",
    "\n",
    "```python\n",
    "plt.figure(figsize=(6, 3))\n",
    "xi, yi = lorentzian(xes_E, xes_f, 518, 534, 0.01, 0.5)\n",
    "plt.plot(xi, yi)\n",
    "xi, yi = lorentzian(xes_rev_E, xes_rev_f, 518, 534, 0.01, 0.5)\n",
    "plt.plot(xi, yi)\n",
    "plt.legend((\"From core-hole\", \"From valence-hole\"))\n",
    "plt.tight_layout()\n",
    "plt.show()\n",
    "```\n",
    "\n",
    "\n",
    "```{figure} ../img/xray/xes_reverse.svg\n",
    "---\n",
    "name: xes_reverse\n",
    "scale: 8%\n",
    "---\n",
    "```"
   ]
  }
 ],
 "metadata": {
  "celltoolbar": "Tags",
  "kernelspec": {
   "display_name": "Python 3 (ipykernel)",
   "language": "python",
   "name": "python3"
  },
  "language_info": {
   "codemirror_mode": {
    "name": "ipython",
    "version": 3
   },
   "file_extension": ".py",
   "mimetype": "text/x-python",
   "name": "python",
   "nbconvert_exporter": "python",
   "pygments_lexer": "ipython3",
   "version": "3.9.12"
  }
 },
 "nbformat": 4,
 "nbformat_minor": 4
}
