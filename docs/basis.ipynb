{
 "cells": [
  {
   "cell_type": "markdown",
   "id": "559963f4",
   "metadata": {},
   "source": [
    "# Basis sets"
   ]
  },
  {
   "cell_type": "code",
   "execution_count": 4,
   "id": "c9332e31",
   "metadata": {
    "tags": [
     "remove-output"
    ]
   },
   "outputs": [],
   "source": [
    "import veloxchem as vlx\n",
    "\n",
    "mol_str = \"\"\"\n",
    "C        0.00000000    0.00000000    0.00000000\n",
    "O        0.00000000    0.00000000    1.43\n",
    "\"\"\"\n",
    "molecule = vlx.Molecule.read_str(mol_str, units='angstrom')\n",
    "basis = vlx.MolecularBasis.read(molecule, \"sto-3g\")"
   ]
  },
  {
   "cell_type": "markdown",
   "id": "7eda86cc",
   "metadata": {},
   "source": [
    "## Basis set library\n",
    "For a given element, the available basis sets in the VeloxChem library can be listed:"
   ]
  },
  {
   "cell_type": "code",
   "execution_count": 5,
   "id": "f28304d5",
   "metadata": {},
   "outputs": [
    {
     "name": "stdout",
     "output_type": "stream",
     "text": [
      "Available basis sets for carbon:\n",
      " ['6-31++G', '6-31+G', '6-31+G**', '6-311++G', '6-311++G(2D,2P)', '6-311++G**', '6-311+G', '6-311+G(2D,P)', '6-311G', '6-311G(2DF,2PD)', '6-31G', '6-31G(2DF,P)', 'AUG-CC-PCVDZ', 'AUG-CC-PCVQZ', 'AUG-CC-PCVTZ', 'AUG-CC-PVDZ', 'AUG-CC-PVTZ', 'CC-PCVDZ', 'CC-PVDZ', 'CC-PVDZ-RI', 'CC-PVTZ', 'CC-PVTZ-RI', 'D-AUG-CC-PVDZ', 'D-AUG-CC-PVQZ', 'D-AUG-CC-PVTZ', 'DEF2-QZVP', 'DEF2-QZVPD', 'DEF2-QZVPP', 'DEF2-QZVPPD', 'DEF2-RI-J', 'DEF2-SV(P)', 'DEF2-SVP', 'DEF2-SVPD', 'DEF2-TZVP', 'DEF2-TZVPP', 'DEF2-TZVPPD', 'MIN-CC-PVDZ', 'SADLEJ-PVTZ', 'STO-3G', 'STO-6G']\n"
     ]
    }
   ],
   "source": [
    "print('Available basis sets for carbon:\\n', basis.get_avail_basis('C'))"
   ]
  }
 ],
 "metadata": {
  "celltoolbar": "Tags",
  "kernelspec": {
   "display_name": "Python 3",
   "language": "python",
   "name": "python3"
  },
  "language_info": {
   "codemirror_mode": {
    "name": "ipython",
    "version": 3
   },
   "file_extension": ".py",
   "mimetype": "text/x-python",
   "name": "python",
   "nbconvert_exporter": "python",
   "pygments_lexer": "ipython3",
   "version": "3.9.5"
  }
 },
 "nbformat": 4,
 "nbformat_minor": 5
}
