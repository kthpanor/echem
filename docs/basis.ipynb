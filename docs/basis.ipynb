{
 "cells": [
  {
   "cell_type": "markdown",
   "id": "561faa01",
   "metadata": {},
   "source": [
    "# Basis sets"
   ]
  },
  {
   "cell_type": "code",
   "execution_count": 1,
   "id": "03a357d0",
   "metadata": {},
   "outputs": [
    {
     "name": "stdout",
     "output_type": "stream",
     "text": [
      "* Warning * Environment variable OMP_NUM_THREADS not set.\n",
      "* Warning * Setting OMP_NUM_THREADS to 8.\n"
     ]
    }
   ],
   "source": [
    "import veloxchem as vlx\n",
    "import numpy as np\n",
    "\n",
    "np.set_printoptions(precision = 3, suppress = True, linewidth = 170)\n",
    "silent_ostream = vlx.OutputStream(None) # suppress program output\n",
    "\n",
    "mol_str = \"\"\"\n",
    "C        0.00000000    0.00000000    0.00000000\n",
    "O        0.00000000    0.00000000    1.43\n",
    "\"\"\"\n",
    "molecule = vlx.Molecule.read_str(mol_str, units='angstrom')\n",
    "basis = vlx.MolecularBasis.read(molecule, \"sto-3g\")\n",
    "\n",
    "scf_drv = vlx.ScfRestrictedDriver(ostream=silent_ostream)\n",
    "scf_drv.compute(molecule, basis)"
   ]
  },
  {
   "cell_type": "markdown",
   "id": "a8eec752",
   "metadata": {},
   "source": [
    "## Ordering of atomic orbitals\n",
    "\n",
    "The VeloxChem program orders AO basis functions based on\n",
    "\n",
    "1. Angular momentum quantum number, $l$\n",
    "2. Angular momentum quantum number, $m_l$\n",
    "3. User-defined order of atoms\n",
    "\n",
    "In our present example of carbon monoxide using a mimal basis set, the order of basis functions become\n",
    "\n",
    "$\\chi_{1s}^{C}$, $\\chi_{2s}^{C}$, $\\chi_{1s}^{O}$, $\\chi_{2s}^{O}$\n",
    "$\\chi_{2py}^{C}$, $\\chi_{2py}^{O}$, $\\chi_{2pz}^{C}$, $\\chi_{2pz}^{O}$, $\\chi_{2px}^{C}$, $\\chi_{2px}^{O}$"
   ]
  },
  {
   "cell_type": "markdown",
   "id": "4682e1c8",
   "metadata": {},
   "source": [
    "## Basis set library\n",
    "For a given element, the available basis sets in the VeloxChem library can be listed:"
   ]
  },
  {
   "cell_type": "code",
   "execution_count": 2,
   "id": "019d0cd3",
   "metadata": {},
   "outputs": [
    {
     "name": "stdout",
     "output_type": "stream",
     "text": [
      "Available basis sets for carbon:\n",
      " ['6-31++G', '6-31+G', '6-31+G**', '6-311++G', '6-311++G(2D,2P)', '6-311++G**', '6-311+G', '6-311+G(2D,P)', '6-311G', '6-311G(2DF,2PD)', '6-31G', '6-31G(2DF,P)', 'AUG-CC-PCVDZ', 'AUG-CC-PCVQZ', 'AUG-CC-PCVTZ', 'AUG-CC-PVDZ', 'AUG-CC-PVTZ', 'CC-PCVDZ', 'CC-PVDZ', 'CC-PVDZ-RI', 'CC-PVTZ', 'CC-PVTZ-RI', 'D-AUG-CC-PVDZ', 'D-AUG-CC-PVQZ', 'D-AUG-CC-PVTZ', 'DEF2-QZVP', 'DEF2-QZVPD', 'DEF2-QZVPP', 'DEF2-QZVPPD', 'DEF2-RI-J', 'DEF2-SV(P)', 'DEF2-SVP', 'DEF2-SVPD', 'DEF2-TZVP', 'DEF2-TZVPP', 'DEF2-TZVPPD', 'MIN-CC-PVDZ', 'SADLEJ-PVTZ', 'STO-3G', 'STO-6G']\n"
     ]
    }
   ],
   "source": [
    "print('Available basis sets for carbon:\\n', basis.get_avail_basis('C'))"
   ]
  }
 ],
 "metadata": {
  "kernelspec": {
   "display_name": "Python 3",
   "language": "python",
   "name": "python3"
  },
  "language_info": {
   "codemirror_mode": {
    "name": "ipython",
    "version": 3
   },
   "file_extension": ".py",
   "mimetype": "text/x-python",
   "name": "python",
   "nbconvert_exporter": "python",
   "pygments_lexer": "ipython3",
   "version": "3.9.5"
  }
 },
 "nbformat": 4,
 "nbformat_minor": 5
}
