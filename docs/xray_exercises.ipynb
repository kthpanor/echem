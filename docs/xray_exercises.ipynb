{
 "cells": [
  {
   "cell_type": "markdown",
   "metadata": {},
   "source": [
    "# Exercises\n",
    "\n",
    "## Ionization energies\n",
    "\n",
    "- Look at the IE chemical shifts in the series of flurine-substituted ethenes, compare and contrast to results from XAS ($1s \\rightarrow \\pi^{\\ast}$) and XES ($\\pi \\rightarrow 1s$).\n",
    "\n",
    "\n",
    "\n",
    "## X-ray absorption spectra\n",
    "\n",
    "- Look at the NTOs and A/D densities for ADC(1) and ADC(2)-x, and note any similarities and differences.\n",
    "\n",
    "- Adapt the CVS full diagonalization to TDA and check how large the differences become\n",
    "\n",
    "- Calculate the spectra of difluoroethene and assign the features\n",
    "\n",
    "- Study how the region above the IE changes with more and more diffuse basis functions\n",
    "\n",
    "- Adapt the overlap model discussed for XES to XAS and see how this compares to, e.g., TDDFT\n",
    "\n",
    "## X-ray emission spectra\n",
    "\n",
    "- Look at the first feature of the emission spectra of the donor and acceptor in a water dimer. Why does the intensity shift so much? (tip: look at MOs/NTOs, compare to the water monomer)"
   ]
  }
 ],
 "metadata": {
  "celltoolbar": "Tags",
  "kernelspec": {
   "display_name": "Python 3",
   "language": "python",
   "name": "python3"
  },
  "language_info": {
   "codemirror_mode": {
    "name": "ipython",
    "version": 3
   },
   "file_extension": ".py",
   "mimetype": "text/x-python",
   "name": "python",
   "nbconvert_exporter": "python",
   "pygments_lexer": "ipython3",
   "version": "3.7.9"
  }
 },
 "nbformat": 4,
 "nbformat_minor": 4
}
