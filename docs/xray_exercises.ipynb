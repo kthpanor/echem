{
 "cells": [
  {
   "cell_type": "markdown",
   "metadata": {},
   "source": [
    "# Exercises\n",
    "\n",
    "```{note}\n",
    "This needs to be worked on. Order by approximate order of relevance, with more involved exercises further down. Could also order by spectroscopy.\n",
    "```\n",
    "\n",
    "## 1. Chemical shifts\n",
    "\n",
    "Calculatio the chemical shift between the two -**C**H$_2$ and -**C**F$_2$ ionization energies, $1s \\rightarrow \\pi^{\\ast}$ core-excitation energies (XAS), and $\\pi \\rightarrow 1s$ core-decay energies (XES) of 1,1-difluoroethene. How do the chemical shifts of the different spectroscopies compare, and what do you think is the reason for any (dis)similarlities?\n",
    "\n",
    "\n",
    "## 2. Ground-state model for XAS\n",
    "\n",
    "Starting with the ground-state model used to calculate X-ray emission spectra, adapt this to instead consider X-ray absorption spectra of 1,1-difluoroethene (energies from $\\epsilon_c - \\epsilon_v$, intensities from $\\langle \\psi_c | \\hat{\\mu} | \\psi_v \\rangle^2$). How does the absolute energies compare to experiment? What about relative features?\n",
    "\n",
    "\n",
    "## 3. Basis set augmentation\n",
    "\n",
    "```{note}\n",
    "Maybe something like this.\n",
    "```\n",
    "\n",
    "Primarily ionization energy harder with XES and XAS, but can include for comparison...). Look at neon, trying to capture the correct energy with $\\Delta$SCF. Using a 6-31G* basis set, add a single s-function with different exponents. Plot this. Where is the resulting IE the closest to experiment? What does it tell you?\n",
    "\n",
    "\n",
    "## 4. The Tamm-Dancoff approximation\n",
    "\n",
    "Adapt the full-space versus CVS-space comparison of X-ray absorption spectra calculated with TDDFT to one using the Tamm-Dancoff approximation. How does the full- versus CVS-space solutions compare? How does the TDA results compare to the full (RPA) results?\n",
    "\n",
    "## Ideas\n",
    "\n",
    "- Assignment of features\n",
    "- Look at the NTOs and A/D densities for ADC(1) and ADC(2)-x, and note any similarities and differences\n",
    "- Study how the region above the IE changes with more and more diffuse basis functions\n",
    "- Look at the first feature of the emission spectra of the donor and acceptor in a water dimer. Why does the intensity shift so much? (tip: look at MOs/NTOs, compare to the water monomer)"
   ]
  },
  {
   "cell_type": "markdown",
   "metadata": {},
   "source": [
    "## Solutions\n",
    "\n",
    "### 1. Chemical shift\n",
    "\n",
    "```{toggle}\n",
    "Energies obtained with 6-31G*:\n",
    "- IE ($\\Delta$MP2):\n",
    "- XAS (CVS-ADC(2)):\n",
    "- XES (ADC(2)):\n",
    "```\n",
    "\n",
    "### 2. Ground-state model for XAS\n",
    "\n",
    "```{toggle}\n",
    "Consider with HF and B3LYP, using a 6-311+G* basis set.\n",
    "```\n",
    "\n",
    "### 3. Basis set augmentation\n",
    "\n",
    "```{toggle}\n",
    "Compare to Z+1, provide reference.\n",
    "```\n",
    "\n",
    "### 4. The Tamm-Dancoff approximation\n",
    "\n",
    "```{toggle}\n",
    "Will compare to the RPA example in `non-standard calculations`.\n",
    "```\n"
   ]
  }
 ],
 "metadata": {
  "celltoolbar": "Tags",
  "kernelspec": {
   "display_name": "Python 3 (ipykernel)",
   "language": "python",
   "name": "python3"
  },
  "language_info": {
   "codemirror_mode": {
    "name": "ipython",
    "version": 3
   },
   "file_extension": ".py",
   "mimetype": "text/x-python",
   "name": "python",
   "nbconvert_exporter": "python",
   "pygments_lexer": "ipython3",
   "version": "3.9.7"
  }
 },
 "nbformat": 4,
 "nbformat_minor": 4
}
