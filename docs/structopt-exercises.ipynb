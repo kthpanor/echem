{
 "cells": [
  {
   "cell_type": "markdown",
   "id": "df22c7d6-3b1b-443c-b279-3d70529ed777",
   "metadata": {},
   "source": [
    "# Exercises\n",
    "## Gradient Descent\n",
    "\n",
    "In this exercise we will implement a routine to perform geometry optimizations using the gradient descent algorithm. This is the simplest optimization procedure and it requires knowledge only of the coordinates and gradient. \n",
    "\n",
    "Let's start by setting up a molecule, running an SCF calculation and setting up the gradient driver."
   ]
  },
  {
   "cell_type": "code",
   "execution_count": 1,
   "id": "ba5dfba9-4226-45fc-bc25-3ebf6efc6667",
   "metadata": {},
   "outputs": [],
   "source": [
    "import veloxchem as vlx\n",
    "import py3Dmol as p3d\n",
    "from veloxchem.veloxchemlib import bohr_in_angstroms\n",
    "import numpy as np"
   ]
  },
  {
   "cell_type": "code",
   "execution_count": 23,
   "id": "7bec9992-c18b-4338-918f-99db1da1f3b7",
   "metadata": {},
   "outputs": [],
   "source": [
    "basis_set_label = 'sto-3g'\n",
    "\n",
    "ethene_xyz = \"\"\"6\n",
    " ethene\n",
    " C          0.000000    -0.703984    0.000000\n",
    " C          0.000000     0.663984   0.000000\n",
    " H          0.919796    -1.223061   0.000000\n",
    " H         -0.919796    -1.223061   0.000000\n",
    " H          0.919796     1.223061   0.000000\n",
    " H         -0.919796     1.223061   0.000000\n",
    "\"\"\"\n",
    "molecule = vlx.Molecule.from_xyz_string(ethene_xyz)\n",
    "basis = vlx.MolecularBasis.read(molecule, basis_set_label)"
   ]
  },
  {
   "cell_type": "code",
   "execution_count": 24,
   "id": "27856b53-eac7-468c-9168-3d655107d0fd",
   "metadata": {},
   "outputs": [
    {
     "data": {
      "application/3dmoljs_load.v0": "<div id=\"3dmolviewer_1650011215413458\"  style=\"position: relative; width: 500px; height: 300px\">\n        <p id=\"3dmolwarning_1650011215413458\" style=\"background-color:#ffcccc;color:black\">You appear to be running in JupyterLab (or JavaScript failed to load for some other reason).  You need to install the 3dmol extension: <br>\n        <tt>jupyter labextension install jupyterlab_3dmol</tt></p>\n        </div>\n<script>\n\nvar loadScriptAsync = function(uri){\n  return new Promise((resolve, reject) => {\n    var tag = document.createElement('script');\n    tag.src = uri;\n    tag.async = true;\n    tag.onload = () => {\n      resolve();\n    };\n  var firstScriptTag = document.getElementsByTagName('script')[0];\n  firstScriptTag.parentNode.insertBefore(tag, firstScriptTag);\n});\n};\n\nif(typeof $3Dmolpromise === 'undefined') {\n$3Dmolpromise = null;\n  $3Dmolpromise = loadScriptAsync('https://3dmol.org/build/3Dmol.js');\n}\n\nvar viewer_1650011215413458 = null;\nvar warn = document.getElementById(\"3dmolwarning_1650011215413458\");\nif(warn) {\n    warn.parentNode.removeChild(warn);\n}\n$3Dmolpromise.then(function() {\nvar viewergrid_1650011215413458 = null;\nviewergrid_1650011215413458 = $3Dmol.createViewerGrid($(\"#3dmolviewer_1650011215413458\"),{rows: 1, cols: 1, control_all: true},{backgroundColor:\"white\"});\nviewer_1650011215413458 = viewergrid_1650011215413458[0][0];\nviewergrid_1650011215413458[0][0].zoomTo();\tviewergrid_1650011215413458[0][0].addModel(\"6\\n ethene\\n C          0.000000    -0.703984    0.000000\\n C          0.000000     0.663984   0.000000\\n H          0.919796    -1.223061   0.000000\\n H         -0.919796    -1.223061   0.000000\\n H          0.919796     1.223061   0.000000\\n H         -0.919796     1.223061   0.000000\\n\",\"xyz\");\n\tviewergrid_1650011215413458[0][0].setStyle({\"stick\": {}});\n\tviewergrid_1650011215413458[0][0].zoomTo();\nviewergrid_1650011215413458[0][0].render();\n});\n</script>",
      "text/html": [
       "<div id=\"3dmolviewer_1650011215413458\"  style=\"position: relative; width: 500px; height: 300px\">\n",
       "        <p id=\"3dmolwarning_1650011215413458\" style=\"background-color:#ffcccc;color:black\">You appear to be running in JupyterLab (or JavaScript failed to load for some other reason).  You need to install the 3dmol extension: <br>\n",
       "        <tt>jupyter labextension install jupyterlab_3dmol</tt></p>\n",
       "        </div>\n",
       "<script>\n",
       "\n",
       "var loadScriptAsync = function(uri){\n",
       "  return new Promise((resolve, reject) => {\n",
       "    var tag = document.createElement('script');\n",
       "    tag.src = uri;\n",
       "    tag.async = true;\n",
       "    tag.onload = () => {\n",
       "      resolve();\n",
       "    };\n",
       "  var firstScriptTag = document.getElementsByTagName('script')[0];\n",
       "  firstScriptTag.parentNode.insertBefore(tag, firstScriptTag);\n",
       "});\n",
       "};\n",
       "\n",
       "if(typeof $3Dmolpromise === 'undefined') {\n",
       "$3Dmolpromise = null;\n",
       "  $3Dmolpromise = loadScriptAsync('https://3dmol.org/build/3Dmol.js');\n",
       "}\n",
       "\n",
       "var viewer_1650011215413458 = null;\n",
       "var warn = document.getElementById(\"3dmolwarning_1650011215413458\");\n",
       "if(warn) {\n",
       "    warn.parentNode.removeChild(warn);\n",
       "}\n",
       "$3Dmolpromise.then(function() {\n",
       "var viewergrid_1650011215413458 = null;\n",
       "viewergrid_1650011215413458 = $3Dmol.createViewerGrid($(\"#3dmolviewer_1650011215413458\"),{rows: 1, cols: 1, control_all: true},{backgroundColor:\"white\"});\n",
       "viewer_1650011215413458 = viewergrid_1650011215413458[0][0];\n",
       "viewergrid_1650011215413458[0][0].zoomTo();\tviewergrid_1650011215413458[0][0].addModel(\"6\\n ethene\\n C          0.000000    -0.703984    0.000000\\n C          0.000000     0.663984   0.000000\\n H          0.919796    -1.223061   0.000000\\n H         -0.919796    -1.223061   0.000000\\n H          0.919796     1.223061   0.000000\\n H         -0.919796     1.223061   0.000000\\n\",\"xyz\");\n",
       "\tviewergrid_1650011215413458[0][0].setStyle({\"stick\": {}});\n",
       "\tviewergrid_1650011215413458[0][0].zoomTo();\n",
       "viewergrid_1650011215413458[0][0].render();\n",
       "});\n",
       "</script>"
      ]
     },
     "metadata": {},
     "output_type": "display_data"
    }
   ],
   "source": [
    "view = p3d.view(linked=True, viewergrid=(1,1),width=500,height=300)\n",
    "view.addModel(ethene_xyz, 'xyz', viewer=(0,0))\n",
    "view.setStyle({'stick': {}})\n",
    "view.zoomTo()\n",
    "view.show()"
   ]
  },
  {
   "cell_type": "code",
   "execution_count": 25,
   "id": "2ce0e4fa-0513-47ee-9d3b-f1365e3a0ff0",
   "metadata": {
    "scrolled": true,
    "tags": []
   },
   "outputs": [
    {
     "name": "stdout",
     "output_type": "stream",
     "text": [
      "                                                                                                                          \n",
      "                                            Self Consistent Field Driver Setup                                            \n",
      "                                           ====================================                                           \n",
      "                                                                                                                          \n",
      "                   Wave Function Model             : Spin-Restricted Hartree-Fock                                         \n",
      "                   Initial Guess Model             : Superposition of Atomic Densities                                    \n",
      "                   Convergence Accelerator         : Two Level Direct Inversion of Iterative Subspace                     \n",
      "                   Max. Number of Iterations       : 50                                                                   \n",
      "                   Max. Number of Error Vectors    : 10                                                                   \n",
      "                   Convergence Threshold           : 1.0e-10                                                              \n",
      "                   ERI Screening Scheme            : Cauchy Schwarz + Density                                             \n",
      "                   ERI Screening Mode              : Dynamic                                                              \n",
      "                   ERI Screening Threshold         : 1.0e-12                                                              \n",
      "                   Linear Dependence Threshold     : 1.0e-06                                                              \n",
      "                                                                                                                          \n",
      "* Info * Nuclear repulsion energy: 33.1906218280 a.u.                                                                     \n",
      "                                                                                                                          \n",
      "* Info * Overlap matrix computed in 0.00 sec.                                                                             \n",
      "                                                                                                                          \n",
      "* Info * Kinetic energy matrix computed in 0.00 sec.                                                                      \n",
      "                                                                                                                          \n",
      "* Info * Nuclear potential matrix computed in 0.00 sec.                                                                   \n",
      "                                                                                                                          \n",
      "* Info * Orthogonalization matrix computed in 0.00 sec.                                                                   \n",
      "                                                                                                                          \n",
      "* Info * SAD initial guess computed in 0.00 sec.                                                                          \n",
      "                                                                                                                          \n",
      "* Info * Starting Reduced Basis SCF calculation...                                                                        \n",
      "* Info * ...done. SCF energy in reduced basis set: -77.066493572739 a.u. Time: 0.05 sec.                                  \n",
      "                                                                                                                          \n",
      "* Info * Overlap matrix computed in 0.00 sec.                                                                             \n",
      "                                                                                                                          \n",
      "* Info * Kinetic energy matrix computed in 0.00 sec.                                                                      \n",
      "                                                                                                                          \n",
      "* Info * Nuclear potential matrix computed in 0.00 sec.                                                                   \n",
      "                                                                                                                          \n",
      "* Info * Orthogonalization matrix computed in 0.00 sec.                                                                   \n",
      "                                                                                                                          \n",
      "                                                                                                                          \n",
      "               Iter. | Hartree-Fock Energy | Energy Change | Gradient Norm | Max. Gradient | Density Change               \n",
      "               --------------------------------------------------------------------------------------------               \n",
      "                  1       -77.066493576975    0.0000000000      0.00004850      0.00001481      0.00000000                \n",
      "                  2       -77.066493577801   -0.0000000008      0.00004092      0.00000820      0.00004143                \n",
      "                  3       -77.066493578089   -0.0000000003      0.00000651      0.00000122      0.00002287                \n",
      "                  4       -77.066493578106   -0.0000000000      0.00000044      0.00000010      0.00000774                \n",
      "                  5       -77.066493578106   -0.0000000000      0.00000002      0.00000000      0.00000033                \n",
      "                  6       -77.066493578106    0.0000000000      0.00000000      0.00000000      0.00000001                \n",
      "                  7       -77.066493578106    0.0000000000      0.00000000      0.00000000      0.00000000                \n",
      "                  8       -77.066493578106    0.0000000000      0.00000000      0.00000000      0.00000000                \n",
      "                                                                                                                          \n",
      "               *** SCF converged in 8 iterations. Time: 0.09 sec.                                                         \n",
      "                                                                                                                          \n",
      "               Spin-Restricted Hartree-Fock:                                                                              \n",
      "               -----------------------------                                                                              \n",
      "               Total Energy                       :      -77.0664935781 a.u.                                              \n",
      "               Electronic Energy                  :     -110.2571154061 a.u.                                              \n",
      "               Nuclear Repulsion Energy           :       33.1906218280 a.u.                                              \n",
      "               ------------------------------------                                                                       \n",
      "               Gradient Norm                      :        0.0000000000 a.u.                                              \n",
      "                                                                                                                          \n",
      "                                                                                                                          \n",
      "               Ground State Information                                                                                   \n",
      "               ------------------------                                                                                   \n",
      "               Charge of Molecule            :  0.0                                                                       \n",
      "               Multiplicity (2S+1)           :  1.0                                                                       \n",
      "               Magnetic Quantum Number (M_S) :  0.0                                                                       \n",
      "                                                                                                                          \n",
      "                                                                                                                          \n",
      "                                                 Spin Restricted Orbitals                                                 \n",
      "                                                 ------------------------                                                 \n",
      "                                                                                                                          \n",
      "               Molecular Orbital No.   4:                                                                                 \n",
      "               --------------------------                                                                                 \n",
      "               Occupation: 2.000 Energy:   -0.75268 a.u.                                                                  \n",
      "               (   1 C   2s  :    -0.41) (   1 C   1p-1:     0.19) (   2 C   2s  :     0.43)                              \n",
      "               (   2 C   1p-1:     0.19) (   3 H   1s  :    -0.22) (   4 H   1s  :    -0.22)                              \n",
      "               (   5 H   1s  :     0.22) (   6 H   1s  :     0.22)                                                        \n",
      "                                                                                                                          \n",
      "               Molecular Orbital No.   5:                                                                                 \n",
      "               --------------------------                                                                                 \n",
      "               Occupation: 2.000 Energy:   -0.60803 a.u.                                                                  \n",
      "               (   1 C   1p+1:     0.41) (   2 C   1p+1:     0.37) (   3 H   1s  :     0.28)                              \n",
      "               (   4 H   1s  :    -0.28) (   5 H   1s  :     0.24) (   6 H   1s  :    -0.24)                              \n",
      "                                                                                                                          \n",
      "               Molecular Orbital No.   6:                                                                                 \n",
      "               --------------------------                                                                                 \n",
      "               Occupation: 2.000 Energy:   -0.52265 a.u.                                                                  \n",
      "               (   1 C   1p-1:    -0.51) (   2 C   1p-1:     0.51) (   3 H   1s  :     0.21)                              \n",
      "               (   4 H   1s  :     0.21) (   5 H   1s  :     0.21) (   6 H   1s  :     0.21)                              \n",
      "                                                                                                                          \n",
      "               Molecular Orbital No.   7:                                                                                 \n",
      "               --------------------------                                                                                 \n",
      "               Occupation: 2.000 Energy:   -0.47515 a.u.                                                                  \n",
      "               (   1 C   1p+1:     0.37) (   2 C   1p+1:    -0.41) (   3 H   1s  :     0.33)                              \n",
      "               (   4 H   1s  :    -0.33) (   5 H   1s  :    -0.36) (   6 H   1s  :     0.36)                              \n",
      "                                                                                                                          \n",
      "               Molecular Orbital No.   8:                                                                                 \n",
      "               --------------------------                                                                                 \n",
      "               Occupation: 2.000 Energy:   -0.31441 a.u.                                                                  \n",
      "               (   1 C   1p0 :     0.64) (   2 C   1p0 :     0.64)                                                        \n",
      "                                                                                                                          \n",
      "               Molecular Orbital No.   9:                                                                                 \n",
      "               --------------------------                                                                                 \n",
      "               Occupation: 0.000 Energy:    0.30575 a.u.                                                                  \n",
      "               (   1 C   1p0 :    -0.80) (   2 C   1p0 :     0.81)                                                        \n",
      "                                                                                                                          \n",
      "               Molecular Orbital No.  10:                                                                                 \n",
      "               --------------------------                                                                                 \n",
      "               Occupation: 0.000 Energy:    0.66217 a.u.                                                                  \n",
      "               (   1 C   1p+1:    -0.68) (   2 C   1p+1:    -0.78) (   3 H   1s  :     0.61)                              \n",
      "               (   4 H   1s  :    -0.61) (   5 H   1s  :     0.66) (   6 H   1s  :    -0.66)                              \n",
      "                                                                                                                          \n",
      "               Molecular Orbital No.  11:                                                                                 \n",
      "               --------------------------                                                                                 \n",
      "               Occupation: 0.000 Energy:    0.69661 a.u.                                                                  \n",
      "               (   1 C   2s  :     0.19) (   1 C   1p-1:    -0.39) (   2 C   1s  :    -0.20)                              \n",
      "               (   2 C   2s  :     1.27) (   2 C   1p-1:     0.51) (   3 H   1s  :    -0.25)                              \n",
      "               (   4 H   1s  :    -0.25) (   5 H   1s  :    -0.86) (   6 H   1s  :    -0.86)                              \n",
      "                                                                                                                          \n",
      "               Molecular Orbital No.  12:                                                                                 \n",
      "               --------------------------                                                                                 \n",
      "               Occupation: 0.000 Energy:    0.71232 a.u.                                                                  \n",
      "               (   1 C   1s  :     0.21) (   1 C   2s  :    -1.36) (   1 C   1p-1:     0.42)                              \n",
      "               (   2 C   2s  :     0.52) (   3 H   1s  :     0.89) (   4 H   1s  :     0.89)                              \n",
      "               (   5 H   1s  :    -0.26) (   6 H   1s  :    -0.26)                                                        \n",
      "                                                                                                                          \n",
      "               Molecular Orbital No.  13:                                                                                 \n",
      "               --------------------------                                                                                 \n",
      "               Occupation: 0.000 Energy:    0.93555 a.u.                                                                  \n",
      "               (   1 C   2s  :     0.79) (   1 C   1p-1:     1.11) (   2 C   2s  :    -0.73)                              \n",
      "               (   2 C   1p-1:     1.14) (   5 H   1s  :    -0.17) (   6 H   1s  :    -0.17)                              \n",
      "                                                                                                                          \n"
     ]
    }
   ],
   "source": [
    "scf_settings = {'conv_thresh': 1.0e-10}\n",
    "method_settings = {} #{'xcfun': 'b3lyp', 'grid_level': 4}\n",
    "\n",
    "# SCF\n",
    "scfdrv = vlx.ScfRestrictedDriver()\n",
    "scfdrv.update_settings(scf_settings, method_settings)\n",
    "scfdrv.compute(molecule, basis)"
   ]
  },
  {
   "cell_type": "code",
   "execution_count": 26,
   "id": "c679900d-a7d2-4de9-b2e8-9ae76f702c25",
   "metadata": {},
   "outputs": [
    {
     "name": "stdout",
     "output_type": "stream",
     "text": [
      "                                                                                                                          \n",
      "                                                   SCF Gradient Driver                                                    \n",
      "                                                  =====================                                                   \n",
      "                                                                                                                          \n",
      "                                              Molecular Geometry (Angstroms)                                              \n",
      "                                             ================================                                             \n",
      "                                                                                                                          \n",
      "                          Atom         Coordinate X          Coordinate Y          Coordinate Z                           \n",
      "                                                                                                                          \n",
      "                           C           0.000000000000       -0.703984000000        0.000000000000                         \n",
      "                           C           0.000000000000        0.663984000000        0.000000000000                         \n",
      "                           H           0.919796000000       -1.223061000000        0.000000000000                         \n",
      "                           H          -0.919796000000       -1.223061000000        0.000000000000                         \n",
      "                           H           0.919796000000        1.223061000000        0.000000000000                         \n",
      "                           H          -0.919796000000        1.223061000000        0.000000000000                         \n",
      "                                                                                                                          \n",
      "                                            Analytical Gradient (Hartree/Bohr)                                            \n",
      "                                           ------------------------------------                                           \n",
      "                                                                                                                          \n",
      "                          Atom           Gradient X            Gradient Y            Gradient Z                           \n",
      "                                                                                                                          \n",
      "                           C           0.000000000000       -0.125734926065       -0.000000000000                         \n",
      "                           C           0.000000000000        0.096164366468       -0.000000000000                         \n",
      "                           H          -0.017305529435        0.018727731691        0.000000000000                         \n",
      "                           H           0.017305529435        0.018727731691        0.000000000000                         \n",
      "                           H          -0.003606443647       -0.003942451893        0.000000000000                         \n",
      "                           H           0.003606443647       -0.003942451893        0.000000000000                         \n",
      "                                                                                                                          \n",
      "                                   *** Time spent in gradient calculation: 1.01 sec ***                                   \n",
      "                                                                                                                          \n"
     ]
    }
   ],
   "source": [
    "# Set up a gradient driver\n",
    "gradient_settings = {'numerical': 'no'}\n",
    "\n",
    "grad_driver = vlx.ScfGradientDriver(scf_drv=scfdrv)\n",
    "grad_driver.update_settings(gradient_settings, method_settings)\n",
    "grad_driver.compute(molecule, basis)\n",
    "cart_grad_array = grad_driver.gradient"
   ]
  },
  {
   "cell_type": "markdown",
   "id": "bd13d84a-dfa7-4284-b4a4-dad6fc25cc8b",
   "metadata": {},
   "source": [
    "Now let's write a routine which runs one gradient descent iteration:"
   ]
  },
  {
   "cell_type": "code",
   "execution_count": 27,
   "id": "91c92ba0-221f-429e-9910-a6e61e8329ae",
   "metadata": {},
   "outputs": [],
   "source": [
    "def gradient_descent_iteration(coordinates, gradient, step):\n",
    "    new_coordinates = coordinates - step * gradient\n",
    "    return new_coordinates"
   ]
  },
  {
   "cell_type": "markdown",
   "id": "f3c126a8-1a8e-4649-b816-dfc06d9e79e6",
   "metadata": {},
   "source": [
    "And the routine that runs the optimization:"
   ]
  },
  {
   "cell_type": "code",
   "execution_count": 35,
   "id": "1cfbf9d2-80d6-48b7-8b7c-9d06b8e83a57",
   "metadata": {},
   "outputs": [],
   "source": [
    "def gradient_descent(molecule, basis, scf_driver, gradient_driver,\n",
    "                     step=0.1, threshold=1e-3, max_iter=10):\n",
    "    # set ostream state to False, to avoid printout from every new scf calculation\n",
    "    ostream_state = scf_driver.ostream.state\n",
    "    scf_driver.ostream.state = False\n",
    "    gradient_driver.ostream.state = False\n",
    "    \n",
    "    iteration = 0\n",
    "    grad_norm = 100\n",
    "    # atom labels (symbols)\n",
    "    labels = molecule.get_labels()\n",
    "    # initial atomc coordinates\n",
    "    old_coords = molecule.get_coordinates()\n",
    "    old_energy = scf_driver.get_scf_energy() \n",
    "    old_gradient = gradient_driver.gradient\n",
    "    \n",
    "    print(\"Starting gradient descent:\\n\")\n",
    "    print(\"Iteration      Old Energy (H)       New Energy (H)         Difference (H)         Gradient norm (H/bohr)\")\n",
    "    \n",
    "    while (grad_norm >= threshold) and (iteration <= max_iter):\n",
    "        coords = gradient_descent_iteration(old_coords, old_gradient, step)\n",
    "        \n",
    "        # calculate the energy and gradient corresponding to the new coordinates\n",
    "        new_mol = vlx.molecule.Molecule(labels, coords, units='au')\n",
    "        scf_driver.compute(new_mol, basis, None)\n",
    "        energy = scf_driver.get_scf_energy()\n",
    "        gradient_driver.compute(new_mol, basis)\n",
    "        gradient = gradient_driver.gradient\n",
    "        grad_norm = np.linalg.norm(gradient)\n",
    "        \n",
    "        # calculate energy difference\n",
    "        delta_e = abs(energy - old_energy)\n",
    "        print(\"   %3d.     %15.7f      %15.7f       %15.7f          %15.7f\" % (iteration, old_energy, energy, delta_e, grad_norm))\n",
    "        \n",
    "        # save \n",
    "        old_energy = energy\n",
    "        old_gradient = gradient\n",
    "        old_coords = coords\n",
    "        iteration += 1\n",
    "    if iteration <= max_iter:\n",
    "        print(\"\\n   *** Gradient Descent converged in %d iteration(s). *** \" % iteration)\n",
    "        return new_mol\n",
    "    else:\n",
    "        print(\"\\n   !!! Gradient Descent did not converge  !!! \")\n",
    "        return None\n",
    "    scf_driver.ostream.state = ostream_state\n",
    "    gradient_driver.ostream.state = ostream_state"
   ]
  },
  {
   "cell_type": "code",
   "execution_count": 36,
   "id": "975df956-f45d-46aa-a4a3-e7b795fa7360",
   "metadata": {},
   "outputs": [
    {
     "name": "stdout",
     "output_type": "stream",
     "text": [
      "Starting gradient descent:\n",
      "\n",
      "Iteration      Old Energy (H)       New Energy (H)         Difference (H)         Gradient norm (H/bohr)\n",
      "     0.         -77.0738507          -77.0665655              0.0072852                0.1619443\n",
      "     1.         -77.0665655          -77.0689606              0.0023951                0.1336843\n",
      "     2.         -77.0689606          -77.0705872              0.0016266                0.1095736\n",
      "     3.         -77.0705872          -77.0716772              0.0010900                0.0893285\n",
      "     4.         -77.0716772          -77.0724003              0.0007232                0.0725710\n",
      "     5.         -77.0724003          -77.0728772              0.0004769                0.0588760\n",
      "     6.         -77.0728772          -77.0731912              0.0003139                0.0478101\n",
      "     7.         -77.0731912          -77.0733985              0.0002073                0.0389586\n",
      "     8.         -77.0733985          -77.0735364              0.0001380                0.0319420\n",
      "     9.         -77.0735364          -77.0736295              0.0000931                0.0264241\n",
      "    10.         -77.0736295          -77.0736936              0.0000640                0.0221128\n",
      "    11.         -77.0736936          -77.0737387              0.0000451                0.0187596\n",
      "    12.         -77.0737387          -77.0737714              0.0000327                0.0161558\n",
      "    13.         -77.0737714          -77.0737958              0.0000244                0.0141290\n",
      "    14.         -77.0737958          -77.0738146              0.0000188                0.0125405\n",
      "    15.         -77.0738146          -77.0738295              0.0000149                0.0112805\n",
      "    16.         -77.0738295          -77.0738417              0.0000121                0.0102652\n",
      "    17.         -77.0738417          -77.0738518              0.0000101                0.0094318\n",
      "\n",
      "   *** Gradient Descent converged in 18 iteration(s). *** \n"
     ]
    }
   ],
   "source": [
    "opt_mol = gradient_descent(molecule, basis, scfdrv, grad_driver, threshold=1e-2, max_iter=25)"
   ]
  },
  {
   "cell_type": "markdown",
   "id": "49441b62-0dba-451e-8063-f5dd466b32ed",
   "metadata": {},
   "source": [
    "\n",
    "Let's look at the optimized geometry and compare it to the starting geometry:"
   ]
  },
  {
   "cell_type": "code",
   "execution_count": 32,
   "id": "ce73646c-2e9d-4128-b73b-c64e372905a4",
   "metadata": {},
   "outputs": [],
   "source": [
    "def get_xyz(molecule):\n",
    "    natm = molecule.number_of_atoms()\n",
    "    elements = molecule.get_labels()\n",
    "    coords = molecule.get_coordinates() * bohr_in_angstroms()\n",
    "    txt = \"%d\\n\\n\" % natm\n",
    "    for i in range(natm):\n",
    "        txt += elements[i] + \" %15.7f %15.7f %15.7f\\n\" % (coords[i,0], coords[i,1], coords[i,2])\n",
    "    return txt"
   ]
  },
  {
   "cell_type": "code",
   "execution_count": 33,
   "id": "663d049d-58e3-4a77-af6e-2b6492551bd2",
   "metadata": {},
   "outputs": [
    {
     "name": "stdout",
     "output_type": "stream",
     "text": [
      "6\n",
      "\n",
      "C      -0.0000000      -0.6659314      -0.0000000\n",
      "C      -0.0000000       0.6419271      -0.0000000\n",
      "H       0.9231091      -1.2297824      -0.0000000\n",
      "H      -0.9231091      -1.2297824      -0.0000000\n",
      "H       0.9178287       1.2217846       0.0000000\n",
      "H      -0.9178287       1.2217846       0.0000000\n",
      "\n"
     ]
    }
   ],
   "source": [
    "opt_molecule_xyz = get_xyz(opt_mol)\n",
    "print(opt_molecule_xyz)"
   ]
  },
  {
   "cell_type": "code",
   "execution_count": 34,
   "id": "04c389d9-2356-4d90-a967-de1b3b08fa9f",
   "metadata": {},
   "outputs": [
    {
     "name": "stdout",
     "output_type": "stream",
     "text": [
      "        Initial geometry:              Optimized geometry:\n"
     ]
    },
    {
     "data": {
      "application/3dmoljs_load.v0": "<div id=\"3dmolviewer_16500113201250427\"  style=\"position: relative; width: 500px; height: 300px\">\n        <p id=\"3dmolwarning_16500113201250427\" style=\"background-color:#ffcccc;color:black\">You appear to be running in JupyterLab (or JavaScript failed to load for some other reason).  You need to install the 3dmol extension: <br>\n        <tt>jupyter labextension install jupyterlab_3dmol</tt></p>\n        </div>\n<script>\n\nvar loadScriptAsync = function(uri){\n  return new Promise((resolve, reject) => {\n    var tag = document.createElement('script');\n    tag.src = uri;\n    tag.async = true;\n    tag.onload = () => {\n      resolve();\n    };\n  var firstScriptTag = document.getElementsByTagName('script')[0];\n  firstScriptTag.parentNode.insertBefore(tag, firstScriptTag);\n});\n};\n\nif(typeof $3Dmolpromise === 'undefined') {\n$3Dmolpromise = null;\n  $3Dmolpromise = loadScriptAsync('https://3dmol.org/build/3Dmol.js');\n}\n\nvar viewer_16500113201250427 = null;\nvar warn = document.getElementById(\"3dmolwarning_16500113201250427\");\nif(warn) {\n    warn.parentNode.removeChild(warn);\n}\n$3Dmolpromise.then(function() {\nvar viewergrid_16500113201250427 = null;\nviewergrid_16500113201250427 = $3Dmol.createViewerGrid($(\"#3dmolviewer_16500113201250427\"),{rows: 1, cols: 2, control_all: true},{backgroundColor:\"white\"});\nviewer_16500113201250427 = viewergrid_16500113201250427[0][0];\nviewergrid_16500113201250427[0][0].zoomTo();viewergrid_16500113201250427[0][1].zoomTo();\tviewergrid_16500113201250427[0][0].addModel(\"6\\n ethene\\n C          0.000000    -0.703984    0.000000\\n C          0.000000     0.663984   0.000000\\n H          0.919796    -1.223061   0.000000\\n H         -0.919796    -1.223061   0.000000\\n H          0.919796     1.223061   0.000000\\n H         -0.919796     1.223061   0.000000\\n\",\"xyz\");\n\tviewergrid_16500113201250427[0][1].addModel(\"6\\n\\nC      -0.0000000      -0.6659314      -0.0000000\\nC      -0.0000000       0.6419271      -0.0000000\\nH       0.9231091      -1.2297824      -0.0000000\\nH      -0.9231091      -1.2297824      -0.0000000\\nH       0.9178287       1.2217846       0.0000000\\nH      -0.9178287       1.2217846       0.0000000\\n\",\"xyz\");\n\tviewergrid_16500113201250427[0][0].setStyle({\"stick\": {}});\n\tviewergrid_16500113201250427[0][1].setStyle({\"stick\": {}});\n\tviewergrid_16500113201250427[0][0].zoomTo();\n\tviewergrid_16500113201250427[0][1].zoomTo();\nviewergrid_16500113201250427[0][1].render();\nviewergrid_16500113201250427[0][0].render();\n});\n</script>",
      "text/html": [
       "<div id=\"3dmolviewer_16500113201250427\"  style=\"position: relative; width: 500px; height: 300px\">\n",
       "        <p id=\"3dmolwarning_16500113201250427\" style=\"background-color:#ffcccc;color:black\">You appear to be running in JupyterLab (or JavaScript failed to load for some other reason).  You need to install the 3dmol extension: <br>\n",
       "        <tt>jupyter labextension install jupyterlab_3dmol</tt></p>\n",
       "        </div>\n",
       "<script>\n",
       "\n",
       "var loadScriptAsync = function(uri){\n",
       "  return new Promise((resolve, reject) => {\n",
       "    var tag = document.createElement('script');\n",
       "    tag.src = uri;\n",
       "    tag.async = true;\n",
       "    tag.onload = () => {\n",
       "      resolve();\n",
       "    };\n",
       "  var firstScriptTag = document.getElementsByTagName('script')[0];\n",
       "  firstScriptTag.parentNode.insertBefore(tag, firstScriptTag);\n",
       "});\n",
       "};\n",
       "\n",
       "if(typeof $3Dmolpromise === 'undefined') {\n",
       "$3Dmolpromise = null;\n",
       "  $3Dmolpromise = loadScriptAsync('https://3dmol.org/build/3Dmol.js');\n",
       "}\n",
       "\n",
       "var viewer_16500113201250427 = null;\n",
       "var warn = document.getElementById(\"3dmolwarning_16500113201250427\");\n",
       "if(warn) {\n",
       "    warn.parentNode.removeChild(warn);\n",
       "}\n",
       "$3Dmolpromise.then(function() {\n",
       "var viewergrid_16500113201250427 = null;\n",
       "viewergrid_16500113201250427 = $3Dmol.createViewerGrid($(\"#3dmolviewer_16500113201250427\"),{rows: 1, cols: 2, control_all: true},{backgroundColor:\"white\"});\n",
       "viewer_16500113201250427 = viewergrid_16500113201250427[0][0];\n",
       "viewergrid_16500113201250427[0][0].zoomTo();viewergrid_16500113201250427[0][1].zoomTo();\tviewergrid_16500113201250427[0][0].addModel(\"6\\n ethene\\n C          0.000000    -0.703984    0.000000\\n C          0.000000     0.663984   0.000000\\n H          0.919796    -1.223061   0.000000\\n H         -0.919796    -1.223061   0.000000\\n H          0.919796     1.223061   0.000000\\n H         -0.919796     1.223061   0.000000\\n\",\"xyz\");\n",
       "\tviewergrid_16500113201250427[0][1].addModel(\"6\\n\\nC      -0.0000000      -0.6659314      -0.0000000\\nC      -0.0000000       0.6419271      -0.0000000\\nH       0.9231091      -1.2297824      -0.0000000\\nH      -0.9231091      -1.2297824      -0.0000000\\nH       0.9178287       1.2217846       0.0000000\\nH      -0.9178287       1.2217846       0.0000000\\n\",\"xyz\");\n",
       "\tviewergrid_16500113201250427[0][0].setStyle({\"stick\": {}});\n",
       "\tviewergrid_16500113201250427[0][1].setStyle({\"stick\": {}});\n",
       "\tviewergrid_16500113201250427[0][0].zoomTo();\n",
       "\tviewergrid_16500113201250427[0][1].zoomTo();\n",
       "viewergrid_16500113201250427[0][1].render();\n",
       "viewergrid_16500113201250427[0][0].render();\n",
       "});\n",
       "</script>"
      ]
     },
     "metadata": {},
     "output_type": "display_data"
    }
   ],
   "source": [
    "print(\"        Initial geometry:              Optimized geometry:\")\n",
    "view = p3d.view(linked=True, viewergrid=(1,2),width=500,height=300)\n",
    "view.addModel(ethene_xyz, 'xyz', viewer=(0,0))\n",
    "view.addModel(opt_molecule_xyz, 'xyz', viewer=(0,1))\n",
    "view.setStyle({'stick': {}})\n",
    "view.zoomTo()\n",
    "view.show()"
   ]
  },
  {
   "cell_type": "markdown",
   "id": "e0b46a77-11cc-4d95-a353-86bda9128494",
   "metadata": {},
   "source": [
    "How does the step size affect the convergence? How does the gradient descent algorithm behave?"
   ]
  },
  {
   "cell_type": "markdown",
   "id": "7abaf8a5-63bf-4eb2-bef2-567f22589b60",
   "metadata": {},
   "source": [
    "## Conjugate Gradient\n",
    "\n",
    "The conjugate gradient algorithm improves upon the gradient descent by keeping track of the history of the optimization. Let's implement the conjugate gradient algorithm and compare the two."
   ]
  },
  {
   "cell_type": "code",
   "execution_count": null,
   "id": "b981fc1a-689a-4734-93f9-b41c7a62b58a",
   "metadata": {},
   "outputs": [],
   "source": []
  },
  {
   "cell_type": "markdown",
   "id": "dacc7061-674d-4a53-b14b-c1502c19e7ad",
   "metadata": {},
   "source": [
    "## Newton-Raphson"
   ]
  },
  {
   "cell_type": "code",
   "execution_count": null,
   "id": "f5ac696f-1824-4275-bc23-3f2566c976e0",
   "metadata": {},
   "outputs": [],
   "source": []
  },
  {
   "cell_type": "markdown",
   "id": "63e2e0c5-c92c-4876-9ec6-a095a81494fc",
   "metadata": {},
   "source": [
    "## Comparison to geomeTRIC"
   ]
  },
  {
   "cell_type": "code",
   "execution_count": null,
   "id": "5b1415ad-8c68-4fcd-aa36-611abf32d30c",
   "metadata": {},
   "outputs": [],
   "source": []
  }
 ],
 "metadata": {
  "kernelspec": {
   "display_name": "Python 3",
   "language": "python",
   "name": "python3"
  },
  "language_info": {
   "codemirror_mode": {
    "name": "ipython",
    "version": 3
   },
   "file_extension": ".py",
   "mimetype": "text/x-python",
   "name": "python",
   "nbconvert_exporter": "python",
   "pygments_lexer": "ipython3",
   "version": "3.6.9"
  }
 },
 "nbformat": 4,
 "nbformat_minor": 5
}
