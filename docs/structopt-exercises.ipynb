{
 "cells": [
  {
   "cell_type": "markdown",
   "id": "df22c7d6-3b1b-443c-b279-3d70529ed777",
   "metadata": {},
   "source": [
    "# Exercises\n",
    "## Gradient Descent\n",
    "\n",
    "In this exercise we will implement a routine to perform geometry optimizations using the gradient descent algorithm. This is the simplest optimization procedure and it requires knowledge only of the coordinates and gradient. \n",
    "\n",
    "Let's start by setting up a molecule, running an SCF calculation and setting up the gradient driver."
   ]
  },
  {
   "cell_type": "code",
   "execution_count": 1,
   "id": "ba5dfba9-4226-45fc-bc25-3ebf6efc6667",
   "metadata": {},
   "outputs": [],
   "source": [
    "import veloxchem as vlx\n",
    "import py3Dmol as p3d\n",
    "from veloxchem.veloxchemlib import bohr_in_angstroms\n",
    "import numpy as np\n",
    "from matplotlib import pyplot as plt"
   ]
  },
  {
   "cell_type": "code",
   "execution_count": 2,
   "id": "7bec9992-c18b-4338-918f-99db1da1f3b7",
   "metadata": {},
   "outputs": [],
   "source": [
    "basis_set_label = 'sto-3g'\n",
    "\n",
    "ethene_xyz = \"\"\"6\n",
    " ethene\n",
    " C          0.000000    -0.703984    0.000000\n",
    " C          0.000000     0.663984   0.000000\n",
    " H          0.919796    -1.223061   0.000000\n",
    " H         -0.919796    -1.223061   0.000000\n",
    " H          0.919796     1.223061   0.000000\n",
    " H         -0.919796     1.223061   0.000000\n",
    "\"\"\"\n",
    "molecule = vlx.Molecule.from_xyz_string(ethene_xyz)\n",
    "basis = vlx.MolecularBasis.read(molecule, basis_set_label)"
   ]
  },
  {
   "cell_type": "code",
   "execution_count": 3,
   "id": "27856b53-eac7-468c-9168-3d655107d0fd",
   "metadata": {},
   "outputs": [
    {
     "data": {
      "application/3dmoljs_load.v0": "<div id=\"3dmolviewer_16501131589402175\"  style=\"position: relative; width: 500px; height: 300px\">\n        <p id=\"3dmolwarning_16501131589402175\" style=\"background-color:#ffcccc;color:black\">You appear to be running in JupyterLab (or JavaScript failed to load for some other reason).  You need to install the 3dmol extension: <br>\n        <tt>jupyter labextension install jupyterlab_3dmol</tt></p>\n        </div>\n<script>\n\nvar loadScriptAsync = function(uri){\n  return new Promise((resolve, reject) => {\n    var tag = document.createElement('script');\n    tag.src = uri;\n    tag.async = true;\n    tag.onload = () => {\n      resolve();\n    };\n  var firstScriptTag = document.getElementsByTagName('script')[0];\n  firstScriptTag.parentNode.insertBefore(tag, firstScriptTag);\n});\n};\n\nif(typeof $3Dmolpromise === 'undefined') {\n$3Dmolpromise = null;\n  $3Dmolpromise = loadScriptAsync('https://3dmol.org/build/3Dmol.js');\n}\n\nvar viewer_16501131589402175 = null;\nvar warn = document.getElementById(\"3dmolwarning_16501131589402175\");\nif(warn) {\n    warn.parentNode.removeChild(warn);\n}\n$3Dmolpromise.then(function() {\nvar viewergrid_16501131589402175 = null;\nviewergrid_16501131589402175 = $3Dmol.createViewerGrid($(\"#3dmolviewer_16501131589402175\"),{rows: 1, cols: 1, control_all: true},{backgroundColor:\"white\"});\nviewer_16501131589402175 = viewergrid_16501131589402175[0][0];\nviewergrid_16501131589402175[0][0].zoomTo();\tviewergrid_16501131589402175[0][0].addModel(\"6\\n ethene\\n C          0.000000    -0.703984    0.000000\\n C          0.000000     0.663984   0.000000\\n H          0.919796    -1.223061   0.000000\\n H         -0.919796    -1.223061   0.000000\\n H          0.919796     1.223061   0.000000\\n H         -0.919796     1.223061   0.000000\\n\",\"xyz\");\n\tviewergrid_16501131589402175[0][0].setStyle({\"stick\": {}});\n\tviewergrid_16501131589402175[0][0].zoomTo();\nviewergrid_16501131589402175[0][0].render();\n});\n</script>",
      "text/html": [
       "<div id=\"3dmolviewer_16501131589402175\"  style=\"position: relative; width: 500px; height: 300px\">\n",
       "        <p id=\"3dmolwarning_16501131589402175\" style=\"background-color:#ffcccc;color:black\">You appear to be running in JupyterLab (or JavaScript failed to load for some other reason).  You need to install the 3dmol extension: <br>\n",
       "        <tt>jupyter labextension install jupyterlab_3dmol</tt></p>\n",
       "        </div>\n",
       "<script>\n",
       "\n",
       "var loadScriptAsync = function(uri){\n",
       "  return new Promise((resolve, reject) => {\n",
       "    var tag = document.createElement('script');\n",
       "    tag.src = uri;\n",
       "    tag.async = true;\n",
       "    tag.onload = () => {\n",
       "      resolve();\n",
       "    };\n",
       "  var firstScriptTag = document.getElementsByTagName('script')[0];\n",
       "  firstScriptTag.parentNode.insertBefore(tag, firstScriptTag);\n",
       "});\n",
       "};\n",
       "\n",
       "if(typeof $3Dmolpromise === 'undefined') {\n",
       "$3Dmolpromise = null;\n",
       "  $3Dmolpromise = loadScriptAsync('https://3dmol.org/build/3Dmol.js');\n",
       "}\n",
       "\n",
       "var viewer_16501131589402175 = null;\n",
       "var warn = document.getElementById(\"3dmolwarning_16501131589402175\");\n",
       "if(warn) {\n",
       "    warn.parentNode.removeChild(warn);\n",
       "}\n",
       "$3Dmolpromise.then(function() {\n",
       "var viewergrid_16501131589402175 = null;\n",
       "viewergrid_16501131589402175 = $3Dmol.createViewerGrid($(\"#3dmolviewer_16501131589402175\"),{rows: 1, cols: 1, control_all: true},{backgroundColor:\"white\"});\n",
       "viewer_16501131589402175 = viewergrid_16501131589402175[0][0];\n",
       "viewergrid_16501131589402175[0][0].zoomTo();\tviewergrid_16501131589402175[0][0].addModel(\"6\\n ethene\\n C          0.000000    -0.703984    0.000000\\n C          0.000000     0.663984   0.000000\\n H          0.919796    -1.223061   0.000000\\n H         -0.919796    -1.223061   0.000000\\n H          0.919796     1.223061   0.000000\\n H         -0.919796     1.223061   0.000000\\n\",\"xyz\");\n",
       "\tviewergrid_16501131589402175[0][0].setStyle({\"stick\": {}});\n",
       "\tviewergrid_16501131589402175[0][0].zoomTo();\n",
       "viewergrid_16501131589402175[0][0].render();\n",
       "});\n",
       "</script>"
      ]
     },
     "metadata": {},
     "output_type": "display_data"
    }
   ],
   "source": [
    "view = p3d.view(linked=True, viewergrid=(1,1),width=500,height=300)\n",
    "view.addModel(ethene_xyz, 'xyz', viewer=(0,0))\n",
    "view.setStyle({'stick': {}})\n",
    "view.zoomTo()\n",
    "view.show()"
   ]
  },
  {
   "cell_type": "markdown",
   "id": "aa30b2ac-7a56-44d2-afee-190210e2e671",
   "metadata": {
    "tags": []
   },
   "source": [
    "```python\n",
    "scf_settings = {'conv_thresh': 1.0e-10}\n",
    "method_settings = {} #{'xcfun': 'b3lyp', 'grid_level': 4}\n",
    "\n",
    "# SCF\n",
    "scfdrv = vlx.ScfRestrictedDriver()\n",
    "scfdrv.update_settings(scf_settings, method_settings)\n",
    "scfdrv.compute(molecule, basis)\n",
    "```\n",
    "\n",
    "                                                                                                                              \n",
    "                                                Self Consistent Field Driver Setup                                            \n",
    "                                               ====================================                                           \n",
    "                                                                                                                              \n",
    "                       Wave Function Model             : Spin-Restricted Hartree-Fock                                         \n",
    "                       Initial Guess Model             : Superposition of Atomic Densities                                    \n",
    "                       Convergence Accelerator         : Two Level Direct Inversion of Iterative Subspace                     \n",
    "                       Max. Number of Iterations       : 50                                                                   \n",
    "                       Max. Number of Error Vectors    : 10                                                                   \n",
    "                       Convergence Threshold           : 1.0e-10                                                              \n",
    "                       ERI Screening Scheme            : Cauchy Schwarz + Density                                             \n",
    "                       ERI Screening Mode              : Dynamic                                                              \n",
    "                       ERI Screening Threshold         : 1.0e-12                                                              \n",
    "                       Linear Dependence Threshold     : 1.0e-06                                                              \n",
    "                                                                                                                              \n",
    "    * Info * Nuclear repulsion energy: 33.1906218280 a.u.\n",
    "                                                          ...\n",
    "                                                          ...\n",
    "                                                          ..."
   ]
  },
  {
   "cell_type": "markdown",
   "id": "e76ab14e-5786-4233-8175-33328afa07ce",
   "metadata": {},
   "source": [
    "```python\n",
    "# Set up a gradient driver\n",
    "gradient_settings = {'numerical': 'no'} # yes or leave out\n",
    "\n",
    "grad_driver = vlx.ScfGradientDriver(scf_drv=scfdrv)\n",
    "grad_driver.update_settings(gradient_settings, method_settings)\n",
    "grad_driver.compute(molecule, basis)\n",
    "cart_grad_array = grad_driver.gradient\n",
    "```"
   ]
  },
  {
   "cell_type": "markdown",
   "id": "bd13d84a-dfa7-4284-b4a4-dad6fc25cc8b",
   "metadata": {},
   "source": [
    "Now let's write a routine which runs one gradient descent iteration:"
   ]
  },
  {
   "cell_type": "markdown",
   "id": "101884c4-9aec-4a26-abc3-c75bedbb36e7",
   "metadata": {},
   "source": [
    "```python\n",
    "def gradient_descent_iteration(coordinates, gradient, step):\n",
    "        ...\n",
    "    return new_coordinates\n",
    "```"
   ]
  },
  {
   "cell_type": "markdown",
   "id": "f3c126a8-1a8e-4649-b816-dfc06d9e79e6",
   "metadata": {},
   "source": [
    "And the routine that runs the optimization:"
   ]
  },
  {
   "cell_type": "markdown",
   "id": "697cf915-66d0-44c7-8f67-1df80686279f",
   "metadata": {},
   "source": [
    "```python\n",
    "def gradient_descent(molecule, basis, scf_driver, gradient_driver,\n",
    "                     step=0.1, threshold=1e-3, max_iter=10):\n",
    "\n",
    "    # set ostream state to False, to avoid printout from every new scf calculation\n",
    "    ostream_state = scf_driver.ostream.state\n",
    "    scf_driver.ostream.state = False\n",
    "    gradient_driver.ostream.state = False\n",
    "    \n",
    "    iteration = 0\n",
    "    grad_norm = 100\n",
    "    # atom labels (symbols)\n",
    "    labels = molecule.get_labels()\n",
    "    # initial atomc coordinates\n",
    "    old_coords = molecule.get_coordinates()\n",
    "    scf_driver.compute(molecule, basis, None)\n",
    "    old_energy = scf_driver.get_scf_energy()\n",
    "    grad_driver.compute(molecule, basis)\n",
    "    old_gradient = gradient_driver.gradient\n",
    "    \n",
    "    print(\"Starting gradient descent:\\n\")\n",
    "    print(\"Iteration     Energy (H)      Max. displacement (bohr)    Gradient norm (H/bohr)\")\n",
    "\n",
    "    energies = [old_energy]\n",
    "    iterations = [0]\n",
    "\n",
    "    while (grad_norm >= threshold) and (iteration <= max_iter):\n",
    "        ...\n",
    "        ...\n",
    "        ...\n",
    "\n",
    "        \n",
    "    if iteration <= max_iter:\n",
    "        print(\"\\n   *** Gradient Descent converged in %d iteration(s). *** \" % iteration)\n",
    "        return new_mol, iterations, energies\n",
    "    else:\n",
    "        print(\"\\n   !!! Gradient Descent did not converge  !!! \")\n",
    "        return None, None, None\n",
    "\n",
    "    # Set the ostream state to initial value\n",
    "    scf_driver.ostream.state = ostream_state\n",
    "    gradient_driver.ostream.state = ostream_state\n",
    "```"
   ]
  },
  {
   "cell_type": "markdown",
   "id": "7a1f39a0-097f-4c6b-8a5c-8820e1554dd8",
   "metadata": {},
   "source": [
    "```python\n",
    "opt_mol, gd_iterations, gd_energies = gradient_descent(molecule, basis, scfdrv, grad_driver, threshold=5e-3, max_iter=100)\n",
    "```"
   ]
  },
  {
   "cell_type": "markdown",
   "id": "a80a1cb5-8c4a-4c5f-8b0a-775a88875609",
   "metadata": {},
   "source": [
    "\n",
    "    Starting gradient descent:\n",
    "    \n",
    "    Iteration     Energy (H)      Max. displacement (bohr)    Gradient norm (H/bohr)\n",
    "         0.      -77.0689063            0.0125735                0.1342139\n",
    "         1.      -77.0705461            0.0105244                0.1100517\n",
    "         2.      -77.0716458            0.0087580                0.0897577\n",
    "        ...        ...                     ...                      ..."
   ]
  },
  {
   "cell_type": "markdown",
   "id": "49441b62-0dba-451e-8063-f5dd466b32ed",
   "metadata": {},
   "source": [
    "\n",
    "Let's look at the optimized geometry and compare it to the starting geometry:"
   ]
  },
  {
   "cell_type": "markdown",
   "id": "8550f2e9-8bc1-460e-a9bd-74b1e59d2838",
   "metadata": {},
   "source": [
    "```python\n",
    "def get_xyz(molecule):\n",
    "    natm = molecule.number_of_atoms()\n",
    "    elements = molecule.get_labels()\n",
    "    coords = molecule.get_coordinates() * bohr_in_angstroms()\n",
    "    txt = \"%d\\n\\n\" % natm\n",
    "    for i in range(natm):\n",
    "        txt += elements[i] + \" %15.7f %15.7f %15.7f\\n\" % (coords[i,0], coords[i,1], coords[i,2])\n",
    "    return txt\n",
    "```"
   ]
  },
  {
   "cell_type": "code",
   "execution_count": 4,
   "id": "663d049d-58e3-4a77-af6e-2b6492551bd2",
   "metadata": {},
   "outputs": [],
   "source": [
    "opt_molecule_xyz = \"\"\"6\n",
    "\n",
    "C       0.0000000      -0.6632068       0.0000000\n",
    "C       0.0000000       0.6431715       0.0000000\n",
    "H       0.9220563      -1.2308716      -0.0000000\n",
    "H      -0.9220563      -1.2308716      -0.0000000\n",
    "H       0.9166605       1.2208893       0.0000000\n",
    "H      -0.9166605       1.2208893       0.0000000\"\"\""
   ]
  },
  {
   "cell_type": "code",
   "execution_count": 5,
   "id": "04c389d9-2356-4d90-a967-de1b3b08fa9f",
   "metadata": {},
   "outputs": [
    {
     "name": "stdout",
     "output_type": "stream",
     "text": [
      "        Initial geometry:             Optimized geometry:\n"
     ]
    },
    {
     "data": {
      "application/3dmoljs_load.v0": "<div id=\"3dmolviewer_16501139180612764\"  style=\"position: relative; width: 500px; height: 300px\">\n        <p id=\"3dmolwarning_16501139180612764\" style=\"background-color:#ffcccc;color:black\">You appear to be running in JupyterLab (or JavaScript failed to load for some other reason).  You need to install the 3dmol extension: <br>\n        <tt>jupyter labextension install jupyterlab_3dmol</tt></p>\n        </div>\n<script>\n\nvar loadScriptAsync = function(uri){\n  return new Promise((resolve, reject) => {\n    var tag = document.createElement('script');\n    tag.src = uri;\n    tag.async = true;\n    tag.onload = () => {\n      resolve();\n    };\n  var firstScriptTag = document.getElementsByTagName('script')[0];\n  firstScriptTag.parentNode.insertBefore(tag, firstScriptTag);\n});\n};\n\nif(typeof $3Dmolpromise === 'undefined') {\n$3Dmolpromise = null;\n  $3Dmolpromise = loadScriptAsync('https://3dmol.org/build/3Dmol.js');\n}\n\nvar viewer_16501139180612764 = null;\nvar warn = document.getElementById(\"3dmolwarning_16501139180612764\");\nif(warn) {\n    warn.parentNode.removeChild(warn);\n}\n$3Dmolpromise.then(function() {\nvar viewergrid_16501139180612764 = null;\nviewergrid_16501139180612764 = $3Dmol.createViewerGrid($(\"#3dmolviewer_16501139180612764\"),{rows: 1, cols: 2, control_all: true},{backgroundColor:\"white\"});\nviewer_16501139180612764 = viewergrid_16501139180612764[0][0];\nviewergrid_16501139180612764[0][0].zoomTo();viewergrid_16501139180612764[0][1].zoomTo();\tviewergrid_16501139180612764[0][0].addModel(\"6\\n ethene\\n C          0.000000    -0.703984    0.000000\\n C          0.000000     0.663984   0.000000\\n H          0.919796    -1.223061   0.000000\\n H         -0.919796    -1.223061   0.000000\\n H          0.919796     1.223061   0.000000\\n H         -0.919796     1.223061   0.000000\\n\",\"xyz\");\n\tviewergrid_16501139180612764[0][1].addModel(\"6\\n\\nC       0.0000000      -0.6632068       0.0000000\\nC       0.0000000       0.6431715       0.0000000\\nH       0.9220563      -1.2308716      -0.0000000\\nH      -0.9220563      -1.2308716      -0.0000000\\nH       0.9166605       1.2208893       0.0000000\\nH      -0.9166605       1.2208893       0.0000000\",\"xyz\");\n\tviewergrid_16501139180612764[0][0].setStyle({\"stick\": {}});\n\tviewergrid_16501139180612764[0][1].setStyle({\"stick\": {}});\n\tviewergrid_16501139180612764[0][0].zoomTo();\n\tviewergrid_16501139180612764[0][1].zoomTo();\nviewergrid_16501139180612764[0][1].render();\nviewergrid_16501139180612764[0][0].render();\n});\n</script>",
      "text/html": [
       "<div id=\"3dmolviewer_16501139180612764\"  style=\"position: relative; width: 500px; height: 300px\">\n",
       "        <p id=\"3dmolwarning_16501139180612764\" style=\"background-color:#ffcccc;color:black\">You appear to be running in JupyterLab (or JavaScript failed to load for some other reason).  You need to install the 3dmol extension: <br>\n",
       "        <tt>jupyter labextension install jupyterlab_3dmol</tt></p>\n",
       "        </div>\n",
       "<script>\n",
       "\n",
       "var loadScriptAsync = function(uri){\n",
       "  return new Promise((resolve, reject) => {\n",
       "    var tag = document.createElement('script');\n",
       "    tag.src = uri;\n",
       "    tag.async = true;\n",
       "    tag.onload = () => {\n",
       "      resolve();\n",
       "    };\n",
       "  var firstScriptTag = document.getElementsByTagName('script')[0];\n",
       "  firstScriptTag.parentNode.insertBefore(tag, firstScriptTag);\n",
       "});\n",
       "};\n",
       "\n",
       "if(typeof $3Dmolpromise === 'undefined') {\n",
       "$3Dmolpromise = null;\n",
       "  $3Dmolpromise = loadScriptAsync('https://3dmol.org/build/3Dmol.js');\n",
       "}\n",
       "\n",
       "var viewer_16501139180612764 = null;\n",
       "var warn = document.getElementById(\"3dmolwarning_16501139180612764\");\n",
       "if(warn) {\n",
       "    warn.parentNode.removeChild(warn);\n",
       "}\n",
       "$3Dmolpromise.then(function() {\n",
       "var viewergrid_16501139180612764 = null;\n",
       "viewergrid_16501139180612764 = $3Dmol.createViewerGrid($(\"#3dmolviewer_16501139180612764\"),{rows: 1, cols: 2, control_all: true},{backgroundColor:\"white\"});\n",
       "viewer_16501139180612764 = viewergrid_16501139180612764[0][0];\n",
       "viewergrid_16501139180612764[0][0].zoomTo();viewergrid_16501139180612764[0][1].zoomTo();\tviewergrid_16501139180612764[0][0].addModel(\"6\\n ethene\\n C          0.000000    -0.703984    0.000000\\n C          0.000000     0.663984   0.000000\\n H          0.919796    -1.223061   0.000000\\n H         -0.919796    -1.223061   0.000000\\n H          0.919796     1.223061   0.000000\\n H         -0.919796     1.223061   0.000000\\n\",\"xyz\");\n",
       "\tviewergrid_16501139180612764[0][1].addModel(\"6\\n\\nC       0.0000000      -0.6632068       0.0000000\\nC       0.0000000       0.6431715       0.0000000\\nH       0.9220563      -1.2308716      -0.0000000\\nH      -0.9220563      -1.2308716      -0.0000000\\nH       0.9166605       1.2208893       0.0000000\\nH      -0.9166605       1.2208893       0.0000000\",\"xyz\");\n",
       "\tviewergrid_16501139180612764[0][0].setStyle({\"stick\": {}});\n",
       "\tviewergrid_16501139180612764[0][1].setStyle({\"stick\": {}});\n",
       "\tviewergrid_16501139180612764[0][0].zoomTo();\n",
       "\tviewergrid_16501139180612764[0][1].zoomTo();\n",
       "viewergrid_16501139180612764[0][1].render();\n",
       "viewergrid_16501139180612764[0][0].render();\n",
       "});\n",
       "</script>"
      ]
     },
     "metadata": {},
     "output_type": "display_data"
    }
   ],
   "source": [
    "print(\"        Initial geometry:             Optimized geometry:\")\n",
    "view = p3d.view(linked=True, viewergrid=(1,2),width=500,height=300)\n",
    "view.addModel(ethene_xyz, 'xyz', viewer=(0,0))\n",
    "view.addModel(opt_molecule_xyz, 'xyz', viewer=(0,1))\n",
    "view.setStyle({'stick': {}})\n",
    "view.zoomTo()\n",
    "view.show()"
   ]
  },
  {
   "cell_type": "markdown",
   "id": "e0b46a77-11cc-4d95-a353-86bda9128494",
   "metadata": {},
   "source": [
    "How does the step size affect the convergence? Can you improve the convergence by using a step size which changes based on the gradient norm?"
   ]
  },
  {
   "cell_type": "markdown",
   "id": "7abaf8a5-63bf-4eb2-bef2-567f22589b60",
   "metadata": {},
   "source": [
    "## Conjugate Gradient\n",
    "\n",
    "The conjugate gradient algorithm improves upon the gradient descent by keeping track of two previous steps in the history of the optimization. Let's implement the conjugate gradient algorithm and see if and how it improves on the gradient descent algorithm."
   ]
  },
  {
   "cell_type": "markdown",
   "id": "9df322b5-eff9-40d7-98b9-72b866902124",
   "metadata": {},
   "source": [
    "```python\n",
    "def conjugate_gradient_iteration(coordinates, h, step):\n",
    "    ...\n",
    "    return new_coordinates\n",
    "```"
   ]
  },
  {
   "cell_type": "markdown",
   "id": "31d3a1e9-c3ee-4c85-8f6c-67f835a66db6",
   "metadata": {},
   "source": [
    "```python\n",
    "def conjugate_gradient(molecule, basis, scf_driver, gradient_driver,\n",
    "                       step=0.1, threshold=1e-3, max_iter=10):\n",
    "    # set ostream state to False, to avoid printout from every new scf calculation\n",
    "    ostream_state = scf_driver.ostream.state\n",
    "    scf_driver.ostream.state = False\n",
    "    gradient_driver.ostream.state = False\n",
    "    \n",
    "    iteration = 0\n",
    "    grad_norm = 100\n",
    "    # atom labels (symbols)\n",
    "    labels = molecule.get_labels()\n",
    "    # initial atomc coordinates\n",
    "    old_coords = molecule.get_coordinates()\n",
    "    scf_driver.compute(molecule, basis, None)\n",
    "    old_energy = scf_driver.get_scf_energy()\n",
    "    grad_driver.compute(molecule, basis)\n",
    "    old_gradient = gradient_driver.gradient\n",
    "    old_h = old_gradient\n",
    "    \n",
    "    print(\"Starting gradient descent:\\n\")\n",
    "    print(\"Iteration     Energy (H)      Max. displacement (bohr)    Gradient norm (H/bohr)      gamma\")\n",
    "    energies = [old_energy]\n",
    "    iterations = [0]\n",
    "    while (grad_norm >= threshold) and (iteration <= max_iter):\n",
    "        \n",
    "        ...\n",
    "        ...\n",
    "        ...\n",
    "        \n",
    "        gamma = grad_norm**2 / old_grad_norm**2\n",
    "        \n",
    "        print(\"   %3d.  %15.7f      %15.7f          %15.7f         %15.7f\" % (iteration, energy, max_disp, grad_norm, gamma))\n",
    "\n",
    "        h = gradient + gamma * old_h\n",
    "        \n",
    "        # save \n",
    "        old_energy = energy\n",
    "        old_gradient = gradient\n",
    "        old_coords = coords\n",
    "        old_h = h\n",
    "        iteration += 1\n",
    "        iterations.append(iteration)\n",
    "        \n",
    "    if iteration <= max_iter:\n",
    "        print(\"\\n   *** Conjugate Gradient converged in %d iteration(s). *** \" % iteration)\n",
    "        return new_mol, iterations, energies\n",
    "    else:\n",
    "        print(\"\\n   !!! Conjugate Gradient did not converge  !!! \")\n",
    "        return None, None, None\n",
    "\n",
    "    # restore ostream state to its original value\n",
    "    scf_driver.ostream.state = ostream_state\n",
    "    gradient_driver.ostream.state = ostream_state\n",
    "```"
   ]
  },
  {
   "cell_type": "markdown",
   "id": "060ddcda-58f4-45ff-900d-de85c4c7fb8c",
   "metadata": {},
   "source": [
    "```python\n",
    "cg_opt_mol, cg_iterations, cg_energies = conjugate_gradient(molecule, basis, scfdrv, grad_driver, threshold=5e-3, max_iter=50)\n",
    "```"
   ]
  },
  {
   "cell_type": "markdown",
   "id": "3bc776a0-7bb4-464e-b021-f26916f9a1ec",
   "metadata": {},
   "source": [
    "\n",
    "    Starting gradient descent:\n",
    "    \n",
    "    Iteration     Energy (H)      Max. displacement (bohr)    Gradient norm (H/bohr)      gamma\n",
    "         0.      -77.0689063            0.0125735                0.1342139               0.6819537\n",
    "         1.      -77.0716492            0.0190990                0.0894813               0.4444977\n",
    "         2.      -77.0730448            0.0157401                0.0519955               0.3376496\n",
    "        ...         ...                   ...                      ...                     ..."
   ]
  },
  {
   "cell_type": "markdown",
   "id": "e607bb8a-ab85-474a-ae62-21881563c4a8",
   "metadata": {},
   "source": [
    "### Comparison between Gradient Descent and Conjugate Gradient"
   ]
  },
  {
   "cell_type": "markdown",
   "id": "f2875996-0cdf-4668-8ca9-6acedf7ed4ca",
   "metadata": {},
   "source": [
    "```python\n",
    "plt.figure(figsize=(7,4))\n",
    "\n",
    "plt.plot(gd_iterations, gd_energies,'o-', label='Grad. Descent')\n",
    "plt.plot(cg_iterations, cg_energies,'x-', label='Conj. Grad.')\n",
    "\n",
    "plt.xlabel('Iteration')\n",
    "plt.ylabel('Energy (H)')\n",
    "plt.title(\"Gradient Descent vs. Conjugate Gradient\")\n",
    "plt.legend()\n",
    "plt.tight_layout(); plt.show()\n",
    "```"
   ]
  },
  {
   "cell_type": "markdown",
   "id": "72d58a01-9b73-4e24-bdc5-64d0a6345b03",
   "metadata": {},
   "source": []
  },
  {
   "cell_type": "markdown",
   "id": "63e2e0c5-c92c-4876-9ec6-a095a81494fc",
   "metadata": {},
   "source": [
    "## Comparison to geomeTRIC\n",
    "\n",
    "Run the same optimization using the veloxchem optimization driver which uses geomeTRIC to run the optimization steps. How do the gradient descent and conjugate gradient algorithms compare to geomeTRIC? Note that geomeTRIC uses the Newton-Raphons algorithm to take one optimization step. It offers different options for the type of coordinates used in the optimization: Cartesian, delocalized internal coordinates (DLC), as well as hybrid delocalized internal coordinates (HDLC). How does the choice of coordinates influence the optimization process?"
   ]
  },
  {
   "cell_type": "markdown",
   "id": "48aebcc9-673f-4cf5-9e11-b6674ab5e5d2",
   "metadata": {},
   "source": [
    "```python\n",
    "# Let's run the SCF and gradient again, to make sure we start from the same point:\n",
    "scfdrv.ostream.state = False\n",
    "grad_driver.ostream.state = False\n",
    "\n",
    "scfdrv.compute(molecule, basis)\n",
    "grad_driver.compute(molecule, basis)\n",
    "```"
   ]
  },
  {
   "cell_type": "markdown",
   "id": "be4b442c-43a0-448a-a724-ad0f87dfd85e",
   "metadata": {},
   "source": [
    "```python\n",
    "optimization_settings = {'coordsys' : 'cart'}\n",
    "# 'tric': TRIC, default\n",
    "# 'cart': Cartesian\n",
    "# 'prim': Primitive Internal Coordinates\n",
    "# 'dlc': Delocalized Internal Coordinates\n",
    "# 'hdlc': Hybrid Delocalized Internal Coordinates\n",
    "```"
   ]
  },
  {
   "cell_type": "markdown",
   "id": "525ffcd1-edd1-47b6-8d33-de051be16a1c",
   "metadata": {},
   "source": [
    "```python\n",
    "opt_drv = vlx.OptimizationDriver(grad_driver)\n",
    "opt_drv.update_settings(opt_dict=optimization_settings)\n",
    "cart_opt_mol = opt_drv.compute(molecule, basis)\n",
    "```"
   ]
  },
  {
   "cell_type": "markdown",
   "id": "413d8cd6-9a84-4237-8583-11695ca88cd7",
   "metadata": {
    "tags": []
   },
   "source": [
    "\n",
    "    geometric-optimize called with the following command line:\n",
    "    /home/emi/.local/lib/python3.6/site-packages/ipykernel_launcher.py -f /home/emi/.local/share/jupyter/runtime/kernel-8ba05a83-4427-4dd6-988c-3936ee431e65.json\n",
    "    \n",
    "                                            \u001b[91m())))))))))))))))/\u001b[0m                     \n",
    "                                        \u001b[91m())))))))))))))))))))))))),\u001b[0m                \n",
    "                                    \u001b[91m*)))))))))))))))))))))))))))))))))\u001b[0m             \n",
    "                            \u001b[94m#,\u001b[0m    \u001b[91m()))))))))/\u001b[0m                \u001b[91m.)))))))))),\u001b[0m          \n",
    "                          \u001b[94m#%%%%,\u001b[0m  \u001b[91m())))))\u001b[0m                        \u001b[91m.))))))))*\u001b[0m        \n",
    "                          \u001b[94m*%%%%%%,\u001b[0m  \u001b[91m))\u001b[0m              \u001b[93m..\u001b[0m              \u001b[91m,))))))).\u001b[0m      \n",
    "                            \u001b[94m*%%%%%%,\u001b[0m         \u001b[93m***************/.\u001b[0m        \u001b[91m.)))))))\u001b[0m     \n",
    "                    \u001b[94m#%%/\u001b[0m      \u001b[94m(%%%%%%,\u001b[0m    \u001b[93m/*********************.\u001b[0m       \u001b[91m)))))))\u001b[0m    \n",
    "                  \u001b[94m.%%%%%%#\u001b[0m      \u001b[94m*%%%%%%,\u001b[0m  \u001b[93m*******/,\u001b[0m     \u001b[93m**********,\u001b[0m      \u001b[91m.))))))\u001b[0m   \n",
    "                    \u001b[94m.%%%%%%/\u001b[0m      \u001b[94m*%%%%%%,\u001b[0m  \u001b[93m**\u001b[0m              \u001b[93m********\u001b[0m      \u001b[91m.))))))\u001b[0m  \n",
    "              \u001b[94m##\u001b[0m      \u001b[94m.%%%%%%/\u001b[0m      \u001b[94m(%%%%%%,\u001b[0m                  \u001b[93m,******\u001b[0m      \u001b[91m/)))))\u001b[0m  \n",
    "            \u001b[94m%%%%%%\u001b[0m      \u001b[94m.%%%%%%#\u001b[0m      \u001b[94m*%%%%%%,\u001b[0m    \u001b[92m,/////.\u001b[0m       \u001b[93m******\u001b[0m      \u001b[91m))))))\u001b[0m \n",
    "          \u001b[94m#%\u001b[0m      \u001b[94m%%\u001b[0m      \u001b[94m.%%%%%%/\u001b[0m      \u001b[94m*%%%%%%,\u001b[0m  \u001b[92m////////,\u001b[0m      \u001b[93m*****/\u001b[0m     \u001b[91m,)))))\u001b[0m \n",
    "        \u001b[94m#%%\u001b[0m  \u001b[94m%%%\u001b[0m  \u001b[94m%%%#\u001b[0m      \u001b[94m.%%%%%%/\u001b[0m      \u001b[94m(%%%%%%,\u001b[0m  \u001b[92m///////.\u001b[0m     \u001b[93m/*****\u001b[0m      \u001b[91m))))).\u001b[0m\n",
    "      \u001b[94m#%%%%.\u001b[0m      \u001b[94m%%%%%#\u001b[0m      \u001b[94m/%%%%%%*\u001b[0m      \u001b[94m#%%%%%%\u001b[0m   \u001b[92m/////)\u001b[0m     \u001b[93m******\u001b[0m      \u001b[91m))))),\u001b[0m\n",
    "        \u001b[94m#%%%%##%\u001b[0m  \u001b[94m%%%#\u001b[0m      \u001b[94m.%%%%%%/\u001b[0m      \u001b[94m(%%%%%%,\u001b[0m  \u001b[92m///////.\u001b[0m     \u001b[93m/*****\u001b[0m      \u001b[91m))))).\u001b[0m\n",
    "          \u001b[94m##\u001b[0m     \u001b[94m%%%\u001b[0m      \u001b[94m.%%%%%%/\u001b[0m      \u001b[94m*%%%%%%,\u001b[0m  \u001b[92m////////.\u001b[0m      \u001b[93m*****/\u001b[0m     \u001b[91m,)))))\u001b[0m \n",
    "            \u001b[94m#%%%%#\u001b[0m      \u001b[94m/%%%%%%/\u001b[0m      \u001b[94m(%%%%%%\u001b[0m      \u001b[92m/)/)//\u001b[0m       \u001b[93m******\u001b[0m      \u001b[91m))))))\u001b[0m \n",
    "              \u001b[94m##\u001b[0m      \u001b[94m.%%%%%%/\u001b[0m      \u001b[94m(%%%%%%,\u001b[0m                  \u001b[93m*******\u001b[0m      \u001b[91m))))))\u001b[0m  \n",
    "                    \u001b[94m.%%%%%%/\u001b[0m      \u001b[94m*%%%%%%,\u001b[0m  \u001b[93m**.\u001b[0m             \u001b[93m/*******\u001b[0m      \u001b[91m.))))))\u001b[0m  \n",
    "                  \u001b[94m*%%%%%%/\u001b[0m      \u001b[94m(%%%%%%\u001b[0m   \u001b[93m********/*..,*/*********\u001b[0m       \u001b[91m*))))))\u001b[0m   \n",
    "                    \u001b[94m#%%/\u001b[0m      \u001b[94m(%%%%%%,\u001b[0m    \u001b[93m*********************/\u001b[0m        \u001b[91m)))))))\u001b[0m    \n",
    "                            \u001b[94m*%%%%%%,\u001b[0m         \u001b[93m,**************/\u001b[0m         \u001b[91m,))))))/\u001b[0m     \n",
    "                          \u001b[94m(%%%%%%\u001b[0m   \u001b[91m()\u001b[0m                              \u001b[91m))))))))\u001b[0m       \n",
    "                          \u001b[94m#%%%%,\u001b[0m  \u001b[91m())))))\u001b[0m                        \u001b[91m,)))))))),\u001b[0m        \n",
    "                            \u001b[94m#,\u001b[0m    \u001b[91m())))))))))\u001b[0m                \u001b[91m,)))))))))).\u001b[0m          \n",
    "                                     \u001b[91m()))))))))))))))))))))))))))))))/\u001b[0m             \n",
    "                                        \u001b[91m())))))))))))))))))))))))).\u001b[0m                \n",
    "                                             \u001b[91m())))))))))))))),\u001b[0m                     \n",
    "    \n",
    "    -=# \u001b[1;94m geomeTRIC started. Version: 0.9.7.2+148.g31b929c.dirty \u001b[0m #=-\n",
    "    Custom engine selected.\n",
    "    18 Cartesian coordinates being used\n",
    "    Internal coordinate system (atoms numbered from 1):\n",
    "    ...\n",
    "    \n",
    "    "
   ]
  },
  {
   "cell_type": "markdown",
   "id": "443f8b69-99ae-41b5-a39f-0f53a1e14521",
   "metadata": {},
   "source": [
    "Let's compare the Gradient Descent, Conjugate Gradient, and the Newton-Raphson routine using delocalized internal coordinates:"
   ]
  },
  {
   "cell_type": "markdown",
   "id": "58d762d7-53a0-4c5a-a56c-be7100ebcdb9",
   "metadata": {},
   "source": [
    "```python\n",
    "plt.figure(figsize=(7,4))\n",
    "\n",
    "plt.plot(gd_iterations, gd_energies,'o-', label='Grad. Descent')\n",
    "plt.plot(cg_iterations, cg_energies,'x-', label='Conj. Grad.')\n",
    "plt.plot(hdlc_iterations, hdlc_energies,'*-', label='HDLC Newton-Raphson')\n",
    "\n",
    "plt.xlabel('Iteration')\n",
    "plt.ylabel('Energy (H)')\n",
    "plt.title(\"Gradient Descent vs. Conjugate Gradient vs. Newton-Raphson\")\n",
    "plt.legend()\n",
    "plt.tight_layout(); plt.show()\n",
    "```"
   ]
  },
  {
   "cell_type": "markdown",
   "id": "1ec0ed6f-8513-4eac-a65d-0c3041b1f088",
   "metadata": {},
   "source": [
    "Now let's compare the Newton-Raphson routine using different types of coordinates."
   ]
  },
  {
   "cell_type": "markdown",
   "id": "ad8ddcf3-2225-47ba-971b-cd2a35db4d9d",
   "metadata": {},
   "source": [
    "```python\n",
    "plt.figure(figsize=(7,4))\n",
    "\n",
    "plt.plot(cart_iterations, cart_energies,'o-', label='Cartesian Coordinates')\n",
    "plt.plot(dlc_iterations, dlc_energies,'x-', label='DLC Coordinates')\n",
    "plt.plot(hdlc_iterations, hdlc_energies,'*-', label='HDLC Coordinates')\n",
    "\n",
    "plt.xlabel('Iteration')\n",
    "plt.ylabel('Energy (H)')\n",
    "plt.ylim(-77.075, -77.065)\n",
    "plt.title(\"Newton-Raphson, different coordinate systems\")\n",
    "plt.legend()\n",
    "plt.tight_layout(); plt.show()\n",
    "```"
   ]
  }
 ],
 "metadata": {
  "kernelspec": {
   "display_name": "Python 3",
   "language": "python",
   "name": "python3"
  },
  "language_info": {
   "codemirror_mode": {
    "name": "ipython",
    "version": 3
   },
   "file_extension": ".py",
   "mimetype": "text/x-python",
   "name": "python",
   "nbconvert_exporter": "python",
   "pygments_lexer": "ipython3",
   "version": "3.6.9"
  }
 },
 "nbformat": 4,
 "nbformat_minor": 5
}
