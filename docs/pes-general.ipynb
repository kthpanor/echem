{
 "cells": [
  {
   "cell_type": "markdown",
   "id": "675387a8",
   "metadata": {},
   "source": [
    "# General aspects\n",
    "\n",
    "```{note}\n",
    "This needs to be finished.\n",
    "```\n",
    "\n",
    "In this section, we will present some general aspects of concern for explorations of potential energy surfaces.\n",
    "\n",
    "[add links to these sections]\n",
    "\n",
    "- Choice of coordinates\n",
    "- Gradients and Hessians\n"
   ]
  }
 ],
 "metadata": {
  "kernelspec": {
   "display_name": "Python 3 (ipykernel)",
   "language": "python",
   "name": "python3"
  },
  "language_info": {
   "codemirror_mode": {
    "name": "ipython",
    "version": 3
   },
   "file_extension": ".py",
   "mimetype": "text/x-python",
   "name": "python",
   "nbconvert_exporter": "python",
   "pygments_lexer": "ipython3",
   "version": "3.9.12"
  }
 },
 "nbformat": 4,
 "nbformat_minor": 5
}
