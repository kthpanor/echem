{
 "cells": [
  {
   "cell_type": "markdown",
   "metadata": {},
   "source": [
    "# Spectrum calculation\n",
    "\n",
    "```{note}\n",
    "- [ ] Clean up - minimize defining own functions\n",
    "- [ ] Include CVS-TDDFT\n",
    "- [ ] Consider RIXS discussion - DKH and 2-step (including polarization) approaches\n",
    "    - Maybe show improved resolution via HERFD\n",
    "```"
   ]
  },
  {
   "cell_type": "code",
   "execution_count": 2,
   "metadata": {
    "tags": [
     "remove-output",
     "hide-input"
    ]
   },
   "outputs": [
    {
     "name": "stdout",
     "output_type": "stream",
     "text": [
      "* Warning * Environment variable OMP_NUM_THREADS not set.\n",
      "* Warning * Setting OMP_NUM_THREADS to 4.\n"
     ]
    }
   ],
   "source": [
    "# loading modules etc\n",
    "\n",
    "# standard Python modules and functions\n",
    "from scipy.interpolate import interp1d\n",
    "from matplotlib import gridspec\n",
    "import matplotlib.pyplot as plt\n",
    "import numpy as np\n",
    "import copy\n",
    "\n",
    "# QC software suites and functionalities\n",
    "from pyscf import gto, scf, mp, cc\n",
    "import veloxchem as vlx\n",
    "import gator\n",
    "import adcc\n",
    "from veloxchem.rsplinabscross import LinearAbsorptionCrossSection\n",
    "\n",
    "# for vlx\n",
    "silent_ostream = vlx.OutputStream(None)\n",
    "from mpi4py import MPI\n",
    "comm = MPI.COMM_WORLD\n",
    "\n",
    "# au to eV conversion factor\n",
    "au2ev = 27.211386"
   ]
  },
  {
   "cell_type": "markdown",
   "metadata": {},
   "source": [
    "(sec:xray_calc_xps)=\n",
    "## X-ray photoemission spectroscopy\n",
    "\n",
    "In XPS the photoemission of electrons is measured, yielding information on core-electron binding energies. Here we focus on the calculation of ionization potentials (IP:s), from which the isotropic photoemission spectrum is formed by giving each IP the same intensity and then broadening with a function. Can go beyond that using Dyson orbitals, but it typically doesn't make much of a difference [refs: Dyson, difference]. For more details on the modeling of these processes with ADC and TDDFT, good starting points include [XPS with ADC/TDDFT].\n",
    "\n",
    "### IP:s from Koopmans' theorem\n",
    "\n",
    "A simple model for estimating ionization potentials and electron affinities is from Koopmans' theorem, where it is calculated from the MO energies. For water, we obtain a 1s IP estimate of:"
   ]
  },
  {
   "cell_type": "code",
   "execution_count": 4,
   "metadata": {},
   "outputs": [
    {
     "name": "stdout",
     "output_type": "stream",
     "text": [
      "1s IP from the Koopmans theorem: -559.5\n"
     ]
    }
   ],
   "source": [
    "water = \"\"\"\n",
    "O       0.0000000000     0.0000000000     0.1178336003\n",
    "H      -0.7595754146    -0.0000000000    -0.4713344012\n",
    "H       0.7595754146     0.0000000000    -0.4713344012\n",
    "\"\"\"\n",
    "\n",
    "# Create veloxchem mol and basis objects\n",
    "mol_vlx = vlx.Molecule.read_str(water) \n",
    "bas_vlx = vlx.MolecularBasis.read(mol_vlx,'6-31G') \n",
    "\n",
    "# Perform SCF calculation\n",
    "scf_gs = vlx.ScfRestrictedDriver(comm,ostream=silent_ostream)\n",
    "scf_gs.compute(mol_vlx, bas_vlx)\n",
    "\n",
    "# Extract orbital energies\n",
    "orbital_energies = scf_gs.scf_tensors['E']\n",
    "print('1s IP from the Koopmans theorem:',np.around(au2ev*orbital_energies[0],2))"
   ]
  },
  {
   "cell_type": "markdown",
   "metadata": {},
   "source": [
    "This can be compared to the experimental value, which is 539.9 eV. The overestimation of almost 20 eV is due to lack of [relaxation](relaxation), which results from the reorganization of the valence electrons in response to a reduction in screening of the nuclei. By comparison, in valence spectroscopies the change in shielding is significantly smaller, yielding a far smaller error due to the lack of relaxation for, e.g., calculation of HOMO IP:s or LUMO EA:s.\n",
    "\n",
    "An approach for including relaxation effects IP calculations is to instead use the $\\Delta\\textrm{SCF}$ approach, in which the difference in total energy between the neutral and a core-hole system yields estimates of core-electron binding energies.\n",
    "\n",
    "### The maximum overlap method (MOM)\n",
    "\n",
    "```{note}\n",
    "Improve this section.\n",
    "```\n",
    "\n",
    "In order to do this, a core-hole state need to be converged, as can be done using a number of methods including...[refs] We will here focus on the use of the maximum overlap method (MOM) [refs], using which a wave function optimization is restricted to contain the maximum overlap to the previous electronic structure. This is done by considering the  eigenvalue equation\n",
    "\n",
    "\\begin{equation}\n",
    "\\textbf{FC}^{\\textrm{new}} = \n",
    "\\textbf{SC}^{\\textrm{new}} \\epsilon\n",
    "\\end{equation}\n",
    "\n",
    "We then chose to overlap the most with the span\n",
    "\n",
    "\\begin{equation}\n",
    "\\textbf{O} = \n",
    "\\left( \\textbf{C} \\right)^{\\dagger} \\textbf{SC}^{\\textrm{new}}\n",
    "\\end{equation}\n",
    "\n",
    "A core-hole wave function can then be converged by:\n",
    "\n",
    "1. Calculating the wave function of the system lacking a core-hole.\n",
    "\n",
    "2. Use above wave function as a starting guess for a new wave function optimization, removing an electron from desired core orbital.\n",
    "\n",
    "3. Optimizing this state using the MOM restriction.\n",
    "\n",
    "This can then converge many unstable states, including core-ionized states and some core-excited states. Some care should observed, though:\n",
    "\n",
    "- If excited states are considered, check that the final state is reasonable.\n",
    "\n",
    "- Systems with delocalized core orbitals need to be localized, for example by employing ECP:s [refs].\n",
    "\n",
    "- If post-HF methods are used, the ground state calculation can attempt to (partially) fill the core-hole, leading to a corrupt wave function which represents some intermediate between a core-hole/valence-hole state [refs].\n",
    "\n",
    "```{note}\n",
    "We currently use `pyscf` for the calculations involving explicit core-holes, as VeloxChem lacks MOM (for now).\n",
    "```\n",
    "\n",
    "### IP:s from $\\Delta\\textrm{SCF}$\n",
    "\n",
    "The IP of water using $\\Delta\\textrm{SCF}$ is calculated ass:"
   ]
  },
  {
   "cell_type": "code",
   "execution_count": 7,
   "metadata": {},
   "outputs": [
    {
     "name": "stdout",
     "output_type": "stream",
     "text": [
      "converged SCF energy = -75.9838703827191  <S^2> = 6.3353767e-12  2S+1 = 1\n",
      "converged SCF energy = -56.0754789470864  <S^2> = 0.76257805  2S+1 = 2.0125387\n",
      "Ionization potential: 541.73 eV\n"
     ]
    },
    {
     "name": "stderr",
     "output_type": "stream",
     "text": [
      "Overwritten attributes  get_occ  of <class 'pyscf.scf.uhf.UHF'>\n"
     ]
    }
   ],
   "source": [
    "# Create pyscf mol object\n",
    "mol       = gto.Mole()\n",
    "mol.atom  = water\n",
    "mol.basis = '6-31G'\n",
    "mol.build()\n",
    "\n",
    "# Perform unrestricted SCF calculation\n",
    "scf_gs = scf.UHF(mol)\n",
    "scf_gs.kernel()\n",
    "\n",
    "# Copy molecular orbitals\n",
    "mo0  = copy.deepcopy(scf_gs.mo_coeff)\n",
    "occ0 = copy.deepcopy(scf_gs.mo_occ)\n",
    "\n",
    "# Create 1s core-hole by setting alpha_0 population to zero\n",
    "occ0[0][0] = 0.0\n",
    "    \n",
    "# Perform unrestricted SCF calculation with MOM constraint\n",
    "scf_ion = scf.UHF(mol)\n",
    "scf.addons.mom_occ(scf_ion, mo0, occ0)\n",
    "scf_ion.kernel()\n",
    "\n",
    "# Resulting IP from energy difference\n",
    "print('Ionization potential:',np.around(au2ev*(scf_ion.energy_tot() - scf_gs.energy_tot()),2),'eV')"
   ]
  },
  {
   "cell_type": "markdown",
   "metadata": {},
   "source": [
    "This estimate is within 2 eV from experiment, and we can include electron correlation using MP2:"
   ]
  },
  {
   "cell_type": "code",
   "execution_count": 8,
   "metadata": {},
   "outputs": [
    {
     "name": "stdout",
     "output_type": "stream",
     "text": [
      "E(UMP2) = -76.1130483955489  E_corr = -0.129178012829706\n",
      "E(UMP2) = -56.1523709631034  E_corr = -0.0768920160169647\n",
      "Ionization potential: 543.16 eV\n"
     ]
    }
   ],
   "source": [
    "# Run MP2 on neutral and core-hole wave functions\n",
    "mp_res = mp.MP2(scf_gs).run()\n",
    "mp_ion = mp.MP2(scf_ion).run()\n",
    "\n",
    "# IP from energy difference\n",
    "print('Ionization potential:',np.around(au2ev*(mp_ion.e_tot - mp_res.e_tot),2),'eV')"
   ]
  },
  {
   "cell_type": "markdown",
   "metadata": {},
   "source": [
    "And we can also use KS-DFT:"
   ]
  },
  {
   "cell_type": "code",
   "execution_count": 9,
   "metadata": {},
   "outputs": [
    {
     "name": "stdout",
     "output_type": "stream",
     "text": [
      "converged SCF energy = -76.3480474320838  <S^2> = 2.5503155e-11  2S+1 = 1\n"
     ]
    },
    {
     "name": "stderr",
     "output_type": "stream",
     "text": [
      "Overwritten attributes  get_occ  of <class 'pyscf.dft.uks.UKS'>\n"
     ]
    },
    {
     "name": "stdout",
     "output_type": "stream",
     "text": [
      "converged SCF energy = -56.4125421194361  <S^2> = 0.75441021  2S+1 = 2.0044054\n",
      "Ionization potential: 542.47 eV\n"
     ]
    }
   ],
   "source": [
    "# Perform unrestricted SCF calculation\n",
    "scf_gs    = scf.UKS(mol)\n",
    "scf_gs.xc = 'b3lyp'\n",
    "scf_gs.kernel()\n",
    "\n",
    "# Copy molecular orbitals\n",
    "mo0  = copy.deepcopy(scf_gs.mo_coeff)\n",
    "occ0 = copy.deepcopy(scf_gs.mo_occ)\n",
    "\n",
    "# Create 1s core-hole by setting alpha_0 population to zero\n",
    "occ0[0][0] = 0.0\n",
    "    \n",
    "# Perform unrestricted SCF calculation with MOM constraint\n",
    "scf_ion    = scf.UKS(mol)\n",
    "scf_ion.xc = 'b3lyp'\n",
    "scf.addons.mom_occ(scf_ion, mo0, occ0)\n",
    "scf_ion.kernel()\n",
    "\n",
    "# IP from energy difference\n",
    "print('Ionization potential:',np.around(au2ev*(scf_ion.energy_tot() - scf_gs.energy_tot()),2),'eV')"
   ]
  },
  {
   "cell_type": "markdown",
   "metadata": {},
   "source": [
    "MP2 and DFT currently brings us **away** from experiment, but we note that the basis set is small and ill suited for core properties. Using a cc-pCVTZ basis we obtain:\n",
    "- HF: 538.93 eV\n",
    "- MP2: 540.26 eV\n",
    "- B3LYP: 539.19 eV\n",
    "\n",
    "*i.e.* closer to experiment for the correlated methods (note that scalar-relativistic effects will shift these results upwards by $\\sim$0.37 eV).\n",
    "\n",
    "### Spectra from $\\Delta\\textrm{SCF}$\n",
    "\n",
    "The X-ray photoemission spectrum can be formed by calculating all relavant core-electron binding energies (IP:s), give each unique ionization equal intensity, and broaden over the result with a lorentzian or gaussian convolution formula. The choice of broadening depends on the dominant broadening effect (lifetime of excited/ionized state, experimental resolution, *etc*), but we will here focus on pure lorentzian broadening.\n",
    "\n",
    "We here consider ethyl trifluoroacetate( (CF$_3$-CO-O-CH$_2$-CH$_3$), also known as the ['ESCA' molecule](https://doi.org/10.1016/j.elspec.2012.05.009), which possess very illustrative shifts in XPS features (IP:s) of the carbon $K$-edge due to interactions with the very electronegative oxygen and fluorine atoms. We calculate the four carbon 1s IP:s with $\\Delta\\textrm{SCF}$:"
   ]
  },
  {
   "cell_type": "code",
   "execution_count": 10,
   "metadata": {
    "tags": [
     "hide-output"
    ]
   },
   "outputs": [
    {
     "name": "stdout",
     "output_type": "stream",
     "text": [
      "converged SCF energy = -602.175861644422  <S^2> = 3.7023966e-09  2S+1 = 1\n",
      "converged SCF energy = -591.070689333351  <S^2> = 0.83083621  2S+1 = 2.0792655\n",
      "converged SCF energy = -591.174502014538  <S^2> = 0.80088318  2S+1 = 2.0502519\n",
      "converged SCF energy = -591.319935518145  <S^2> = 0.78535309  2S+1 = 2.035046\n",
      "converged SCF energy = -591.398131413342  <S^2> = 0.77182164  2S+1 = 2.0217039\n"
     ]
    }
   ],
   "source": [
    "esca   = '''\n",
    "C         1.1183780041   -0.3449927563    0.0140172822\n",
    "C         0.2599020293    0.9430366372   -0.0248385056\n",
    "F         2.4019839124   -0.0408200726   -0.0368443870\n",
    "F         0.8399255955   -1.1560630574   -1.0169777359\n",
    "F         0.8945563482   -1.0267696528    1.1485539196\n",
    "O         0.7954196415    2.0187110930    0.0011424145\n",
    "O        -1.0675509573    0.8144007049   -0.0614767265\n",
    "C        -1.7486063992   -0.4602333713   -0.1739210991\n",
    "C        -3.1986940727   -0.1850294900    0.1302033614\n",
    "H        -1.3268717284   -1.1720377773    0.5289059043\n",
    "H        -1.6185520565   -0.8344576449   -1.1859838788\n",
    "H        -3.3116641442    0.1959612359    1.1419001202\n",
    "H        -3.7716619472   -1.1057672384    0.0380096706\n",
    "H        -3.6012985602    0.5468300237   -0.5651778685            \n",
    "'''\n",
    "\n",
    "# Create pyscf mol object\n",
    "mol       = gto.Mole()\n",
    "mol.atom  = esca\n",
    "mol.basis = '6-31G'\n",
    "mol.build()\n",
    "\n",
    "# Perform unrestricted SCF calculation\n",
    "scf_gs = scf.UHF(mol)\n",
    "scf_gs.kernel()\n",
    "\n",
    "# Perform core-hole calculation for each carbon atom (MOs 5-8) and append SCF IPs to a list\n",
    "esca_ips = []\n",
    "for i_mo in [5,6,7,8]:\n",
    "    # Copy molecular orbitals\n",
    "    mo0  = copy.deepcopy(scf_gs.mo_coeff)\n",
    "    occ0 = copy.deepcopy(scf_gs.mo_occ)\n",
    "    # Create 1s core-hole by setting alpha_n population to zero\n",
    "    occ0[0][i_mo] = 0.0\n",
    "    # Perform unrestricted SCF calculation with MOM constraint\n",
    "    scf_ion = scf.UHF(mol)\n",
    "    scf.addons.mom_occ(scf_ion, mo0, occ0)\n",
    "    scf_ion.kernel()\n",
    "    esca_ips.append(au2ev*(scf_ion.energy_tot() - scf_gs.energy_tot()))"
   ]
  },
  {
   "cell_type": "markdown",
   "metadata": {},
   "source": [
    "```{note}\n",
    "There are some convergence issues for the above calculation, largely relating to the minimal basis set used. These issues disappear for more flexible basis set.\n",
    "```\n",
    "\n",
    "The spectrum is formed by giving each IP equal weight and broadening with a lorentzian and a gaussian, for which FWHM $= \\gamma $ and FWHM $ 2\\sqrt{2\\ln{2}} \\sigma$, respectively."
   ]
  },
  {
   "cell_type": "code",
   "execution_count": 11,
   "metadata": {},
   "outputs": [
    {
     "data": {
      "image/png": "[encoded data removed]",
      "text/plain": [
       "<Figure size 432x360 with 2 Axes>"
      ]
     },
     "metadata": {
      "needs_background": "light"
     },
     "output_type": "display_data"
    }
   ],
   "source": [
    "# broadening functions, called with\n",
    "#         (energies, intensities, start energy, end energy, energy step, broadening)\n",
    "def lorentzian(x, y, xmin, xmax, xstep, gamma):\n",
    "    xi = np.arange(xmin,xmax,xstep); yi=np.zeros(len(xi))\n",
    "    for i in range(len(xi)):\n",
    "        for k in range(len(x)): yi[i] = yi[i] + y[k] * (gamma/2.) / ( (xi[i]-x[k])**2 + (gamma/2.)**2 )\n",
    "    return xi,yi\n",
    "\n",
    "def gaussian(x, y, xmin, xmax, xstep, sigma):\n",
    "    xi = np.arange(xmin,xmax,xstep); yi=np.zeros(len(xi))\n",
    "    for i in range(len(xi)):\n",
    "        for k in range(len(y)):\n",
    "            yi[i] = yi[i] + y[k]*np.e**(-((xi[i]-x[k])**2)/(2*sigma**2))\n",
    "    return xi,yi\n",
    "\n",
    "plt.figure(figsize=(6,5))\n",
    "# Broadening with a lorentzian, with FWHM = 0.4 eV\n",
    "plt.subplot(211); plt.title('Lorentzian broadening')\n",
    "x,y = esca_ips,np.ones((len(esca_ips)))\n",
    "xi,yi = lorentzian(x,y,min(x)-2,max(x)+2,0.01,0.4); plt.plot(xi,yi*0.4)\n",
    "# Broadening with a gaussian, with FWHM = 0.4 eV\n",
    "plt.subplot(212); plt.title('Gaussian broadening')\n",
    "xi,yi = gaussian(x,y,min(x)-2,max(x)+2,0.01,0.4/(2*np.sqrt(2*np.log(2)))); plt.plot(xi,yi)\n",
    "plt.tight_layout(); plt.show()"
   ]
  },
  {
   "cell_type": "markdown",
   "metadata": {},
   "source": [
    "For the comparison to [experiment](https://doi.org/10.1016/j.elspec.2012.05.009) a cc-pVTZ basis set is selected, augmented with additional core-polarizing functions for the carbon atoms (i.e. cc-pCVTZ):\n",
    "\n",
    "\n",
    "```{figure} ../img/xray/esca_xps.svg\n",
    "---\n",
    "name: esca_xps\n",
    "---\n",
    "Carbon 1s XPS of ESCA, comparing $\\Delta\\textrm{SCF}$ results to experiment. Theoretical spectrum shifted by 0.11 eV (to account for relativistic effects) and broadened by 0.3 eV.\n",
    "```\n",
    "\n",
    "The features originate in, from low to high energy: -CH$_3$, -CH$_2$-, -CO-, and CF$_3$. We note a good agreement for the first two features, but the comparison deteriorates for higher energies. This is largely an effect of the more significant change in electronic structure imposed by the very electronegative fluorine and oxygen atoms, which the current level of theory is not capable of describing as well as the other features.\n",
    "\n",
    "### Other approaches\n",
    "\n",
    "Brief discussion - IP-ADC, IP-CCSD, ...\n",
    "\n",
    "\n",
    "(sec:xray_calc_xas)=\n",
    "## X-ray absorption spectroscopy\n",
    "\n",
    "In XAS the energy-dependent photoabsorption of the sample is measured, probing excitation of core electrons to bound or continuum states. These two different final states then provide information on unoccupied states and local chemical environment, espectively, with a prototypical spectrum of a conjugated system: \n",
    "\n",
    "\n",
    "```{figure} ../img/xray/xafs.svg\n",
    "---\n",
    "name: xafs\n",
    "---\n",
    "Prototypical X-ray absorption spectrum of a conjugated system.\n",
    "```\n",
    "\n",
    "Above the spectrum we see the distinction of the various spectrum regions, consisting of:\n",
    "\n",
    "- **NEXAFS (near-edge X-ray absorption fine structure:** the region in which transitions to bound states is probed (this region is also known as XANES, X-ray absorption near-edge structure).\n",
    "\n",
    "- **EXAFS (extended X-ray absorption fine structure):** which consists of transitions to continuum states, which is modulated by constructive or destructive interference between the emitted electron and the environment. This thus provide information on local chemical bonds.\n",
    "\n",
    "- **XAFS (X-ray absorption fine structure):** spanning both regions.\n",
    "\n",
    "For the remainder of this tutorial we will focus on NEXAFS, with more details for modeling this process found in [wenzel, besley, fransson]. Discussions on modeling EXAFS can be found, e.g., in [exafs].\n",
    "\n",
    "Included in {numref}`xafs` is also the position of the IP, above which the oscillatory pattern due to interference with the environment is initiated, and assignment of typical features ($\\pi^*$, Rydberg, and $\\sigma^*$). Transitions to $\\pi^*$ states are typically low in energy and very intense, and thus easy to identify. Rydberg states are typically weak and converge to the ionization potential. Finally, transitions to $\\sigma^*$ states can be found above the ionization potential.\n",
    "\n",
    "(sec:xray_calc_cvs)=\n",
    "### Decoupling transitions from the valence continuum\n",
    "\n",
    "A complication that arise when considering core excitations is the embedding of the core-excited states into the continuum of valence-ionized states. A number of approaches have been developed to remove this issue, including:\n",
    "\n",
    "- The core-valence separation (CVS) approximation [schirmer, wenzel, coriani]\n",
    "\n",
    "- Restricted energy window, which share some common ideas with CVS [rew-tddft]\n",
    "\n",
    "- Using the complex polarization propagator (CPP), where the response at arbitrary frequencies is directly probed [norman]\n",
    "\n",
    "- Real-time propagation of the electronic structure [rt-methods]\n",
    "\n",
    "- Methods which construct explicit excited states [refs]\n",
    "\n",
    "The focus in this tutorial is the use of the CVS approximation and the CPP approach, with which interior eigenstates/response at arbitrary frequencies can be directly address:\n",
    "\n",
    "\n",
    "```{figure} ../img/xray/cvs_adc.svg\n",
    "---\n",
    "name: cvs_adc\n",
    "---\n",
    "Global spectrum of water, using the 6-311G basis set. Results obtained with ADC(1), CVS-ADC(1), ADC(2), CVS-ADC(2), and CPP-DFT. CPP-DFT results obtained using the B3LYP exchange-correlation functional and a large $\\gamma$ of 1 eV.\n",
    "```\n",
    "\n",
    "Here we see the global spectrum of water, using a rather limited basis set. Even so, ADC(1) requires more than 50 states to resolved the core-excitation region (situated at about 535 eV for water), and for ADC(2) 50 states brings us only to about 50 eV. With the CVS approximation we directly target the core-excitation region, but it should be noted that this also introduces a small error. However, this error has been shown to be relatively small (provided a reasonable basis set) and stable for [ADC](https://doi.org/10.1063/5.0013538), and for TDHF and TDDFT it is all but negligible. Using CPP-DFT, the error is avoided all together.\n",
    "\n",
    "\n",
    "### Spectra from CVS-ADC eigenstates\n",
    "\n",
    "With CVS-ADC, the core-excitation spectra are calculate by specifying the index of the probed core orbitals(s):"
   ]
  },
  {
   "cell_type": "code",
   "execution_count": 8,
   "metadata": {
    "scrolled": true,
    "tags": [
     "hide-output"
    ]
   },
   "outputs": [
    {
     "name": "stdout",
     "output_type": "stream",
     "text": [
      "SCF converged in 5 iterations.\n",
      "Total Energy: -75.9838703758 au\n",
      "                                                                                                                          \n",
      "                                        Algebraic Diagrammatic Construction (ADC)                                         \n",
      "                                       ===========================================                                        \n",
      "                                                                                                                          \n",
      "                               ADC method                   : cvs-adc2x                                                   \n",
      "                               Number of Singlet States     : 6                                                           \n",
      "                               CVS-ADC, Core Orbital Space  : 1                                                           \n",
      "                               Convergence threshold        : 1.0e-06                                                     \n",
      "                                                                                                                          \n"
     ]
    },
    {
     "name": "stderr",
     "output_type": "stream",
     "text": [
      "/home/thomas/pkg/adcc/adcc/backends/__init__.py:48: UserWarning: Could not check host program psi4 minimal version, since __version__ tag not found. Proceeding anyway.\n",
      "  \"\".format(module)\n"
     ]
    },
    {
     "name": "stdout",
     "output_type": "stream",
     "text": [
      "Starting cvs-adc2x singlet Jacobi-Davidson ...\n",
      "Niter n_ss  max_residual  time  Ritz values\n",
      "  1     8        1.4139  139ms  [20.27035892 20.30081816 20.86977772 20.91121522 21.10647259 21.17210946]\n",
      "  2    16       0.05362  416ms  [19.72495578 19.80691954 20.50880994 20.51569977 20.52445847 20.72564031]\n",
      "  3    24      0.014469  335ms  [19.71673636 19.7970775  20.49577427 20.50503424 20.5080414  20.63850295]\n",
      "  4    32      0.001267  338ms  [19.71639053 19.79671148 20.49373711 20.5048401  20.50629308 20.62964455]\n",
      "  5    40    0.00011958  422ms  [19.71637564 19.7966997  20.49353395 20.50482654 20.50617672 20.62883047]\n",
      "=== Restart ===\n",
      "  6    16    2.2907e-05  336ms  [19.71637513 19.79669899 20.4935131  20.5048246  20.50616999 20.6287565 ]\n",
      "  7    24    8.2765e-06  281ms  [19.7163751  19.7966989  20.49350792 20.50482377 20.50616868 20.62873489]\n",
      "  8    32    3.7389e-06  409ms  [19.7163751  19.7966989  20.49350748 20.50482367 20.5061685  20.62872983]\n",
      "  9    40     5.189e-07  403ms  [19.7163751  19.7966989  20.49350726 20.50482366 20.50616845 20.62872813]\n",
      "=== Converged ===\n",
      "    Number of matrix applies:    72\n",
      "    Total solver time:             3s 125ms\n",
      "                                                                                                                          \n",
      "                                                  ADC Summary of Results                                                  \n",
      "                                                 ------------------------                                                 \n",
      "                                                                                                                          \n",
      "                             +--------------------------------------------------------------+                             \n",
      "                             | cvs-adc2x                               singlet ,  converged |                             \n",
      "                             +--------------------------------------------------------------+                             \n",
      "                             |  #        excitation energy     osc str    |v1|^2    |v2|^2  |                             \n",
      "                             |          (au)           (eV)                                 |                             \n",
      "                             |  0      19.71638      536.5099   0.0175    0.8001    0.1999  |                             \n",
      "                             |  1       19.7967      538.6956   0.0368    0.8087    0.1913  |                             \n",
      "                             |  2      20.49351      557.6567   0.0098    0.7858    0.2142  |                             \n",
      "                             |  3      20.50482      557.9647   0.1007    0.8441    0.1559  |                             \n",
      "                             |  4      20.50617      558.0013   0.0881     0.835     0.165  |                             \n",
      "                             |  5      20.62873      561.3363   0.0104    0.7926    0.2074  |                             \n",
      "                             +--------------------------------------------------------------+                             \n",
      "                                                                                                                          \n",
      "                                          End of ADC calculation. All went well!                                          \n",
      "                                                                                                                          \n"
     ]
    }
   ],
   "source": [
    "# Construct molecule reference object and perform SCF calculation \n",
    "struct  = gator.get_molecule(water)\n",
    "basis   = gator.get_molecular_basis(struct,'6-31G')\n",
    "scf_res = gator.run_scf(struct,basis)\n",
    "\n",
    "# Calculate the 6 lowest eigenstates with CVS restriction to MO #1 (oxygen 1s)\n",
    "adc_res = gator.run_adc(struct,basis,scf_res,method='cvs-adc2x',singlets=6,core_orbitals=1)"
   ]
  },
  {
   "cell_type": "markdown",
   "metadata": {},
   "source": [
    "The resuls can be printed as a table, or convoluted and plotted using built-in functionalities or a custom broadening:"
   ]
  },
  {
   "cell_type": "code",
   "execution_count": 9,
   "metadata": {},
   "outputs": [
    {
     "name": "stdout",
     "output_type": "stream",
     "text": [
      "+--------------------------------------------------------------+\n",
      "| cvs-adc2x                               singlet ,  converged |\n",
      "+--------------------------------------------------------------+\n",
      "|  #        excitation energy     osc str    |v1|^2    |v2|^2  |\n",
      "|          (au)           (eV)                                 |\n",
      "|  0      19.71638      536.5099   0.0175    0.8001    0.1999  |\n",
      "|  1       19.7967      538.6956   0.0368    0.8087    0.1913  |\n",
      "|  2      20.49351      557.6567   0.0098    0.7858    0.2142  |\n",
      "|  3      20.50482      557.9647   0.1007    0.8441    0.1559  |\n",
      "|  4      20.50617      558.0013   0.0881     0.835     0.165  |\n",
      "|  5      20.62873      561.3363   0.0104    0.7926    0.2074  |\n",
      "+--------------------------------------------------------------+\n",
      "\n"
     ]
    },
    {
     "data": {
      "image/png": "[encoded data removed]",
      "text/plain": [
       "<Figure size 432x360 with 2 Axes>"
      ]
     },
     "metadata": {
      "needs_background": "light"
     },
     "output_type": "display_data"
    }
   ],
   "source": [
    "# Print information on eigenstates\n",
    "print(adc_res.describe())\n",
    "\n",
    "plt.figure(figsize=(6,5))\n",
    "# Convolute using functionalities available in gator and adcc\n",
    "plt.subplot(211); plt.title('Built-in broadening')\n",
    "adc_res.plot_spectrum()\n",
    "# Convoluted using information on excitation energies and oscillator strengths\n",
    "plt.subplot(212); plt.title('Custom broadening')\n",
    "x,y = au2ev*adc_res.excitation_energy, adc_res.oscillator_strength\n",
    "xi,yi = lorentzian(x,y,533,543,0.01,0.5); plt.plot(xi,yi)\n",
    "plt.tight_layout(); plt.show()"
   ]
  },
  {
   "cell_type": "markdown",
   "metadata": {},
   "source": [
    "The built-in functionality uses a small default broadening (which can be changed) and plots the full region which is resolved, while we might want to focus on lower-energy and larger broadenings (as done in the lower panel). We note that high-energy features can often be a result of a discretized continuum region, as seen by the unphysically intense feature at 558 eV. A larger basis set will flatten out this region, but care should be taken for any analysis of it [refs].\n",
    "\n",
    "Increasing the basis set to aug-cc-pCVTZ/cc-pVTZ (for oxygen and hydrogen, respectively), we obtain results in good agreement to experiment:\n",
    "\n",
    "\n",
    "```{figure} ../img/xray/adc_water_xas.svg\n",
    "---\n",
    "name: adc_water_xas\n",
    "---\n",
    "CVS-ADC(2)-x calculation of the oxygen X-ray absorption spectrum of gaseous water, as compared to experiment. Theoretical spectra has been shifted by 0.37 eV (to account for relativistic effects) and broadened by 0.4 eV.\n",
    "```\n"
   ]
  },
  {
   "cell_type": "markdown",
   "metadata": {},
   "source": [
    "### Spectra from TDDFT eigenstates\n",
    "\n",
    "\n",
    "```{note} \n",
    "To be added.\n",
    "```\n",
    "\n",
    "\n",
    "### Spectra from CPP-DFT\n",
    "\n",
    "With the complex polarization propagator (CPP), also called the damped linear response function, the absorption and dispersion spectrum can be evaluated at arbitrary energies. With this, the X-ray absorption spectrum using KS-DFT can then be directly calculated.\n",
    "\n",
    "For this, we just need to decide on which energy/frequency region to use, which can be estimated by, e.g.\n",
    "\n",
    "- Screen more extended energy regions with low step length. This could potentially be done using a smaller basis set.\n",
    "\n",
    "- With a method lacking relaxation: start the region a few eV below the IP from Koopmans' theorem. This will not work for methods capable of including relaxation, where IP:s from $\\Delta$SCF could instead be considered as a first rough estimate (noting that it will work better or worse for different levels of, e.g., ADC theory).\n",
    "\n",
    "Choosing an energy region of 514-525 eV, using a step length of 0.1 eV and a damping factor of 0.3 eV, we calculate the CPP-DFT (B3LYP) water spectrum as:"
   ]
  },
  {
   "cell_type": "code",
   "execution_count": 10,
   "metadata": {
    "tags": [
     "hide-output"
    ]
   },
   "outputs": [],
   "source": [
    "# Prepare molecule object\n",
    "molecule = vlx.Molecule.read_str(water, units='angstrom')\n",
    "basis    = vlx.MolecularBasis.read(molecule, \"6-31G\")\n",
    "\n",
    "# SCF  settings and calculation\n",
    "scf_drv         = vlx.ScfRestrictedDriver(comm,ostream=silent_ostream)\n",
    "scf_settings    = {'conv_thresh': 1.0e-6}\n",
    "method_settings = {'xcfun': 'b3lyp', 'grid_level': 4}\n",
    "scf_drv.update_settings(scf_settings,method_settings)\n",
    "scf_drv.compute(molecule, basis)\n",
    "\n",
    "# Calculate the response at desired frequencies\n",
    "freqs = np.arange(515.0,525.0,0.1)/au2ev; freqs_str = [str(x) for x in freqs]\n",
    "cpp_prop = LinearAbsorptionCrossSection({'frequencies': ','.join(freqs_str), 'damping': 0.3/au2ev},\n",
    "                                        method_settings)\n",
    "cpp_prop.init_driver(comm, ostream=silent_ostream)\n",
    "cpp_prop.compute(molecule, basis, scf_drv.scf_tensors)\n",
    "\n",
    "# Extract the imaginary part of the complex response function and convert to absorption cross section\n",
    "sigma = []\n",
    "for w in freqs:\n",
    "    axx = -cpp_prop.rsp_property['response_functions'][('x', 'x', w)].imag\n",
    "    ayy = -cpp_prop.rsp_property['response_functions'][('y', 'y', w)].imag\n",
    "    azz = -cpp_prop.rsp_property['response_functions'][('z', 'z', w)].imag\n",
    "    alpha_bar = (axx + ayy + azz) / 3.0; sigma.append(4.0 * np.pi * w * alpha_bar / 137.035999)"
   ]
  },
  {
   "cell_type": "markdown",
   "metadata": {},
   "source": [
    "Resulting spectra can be plotted as raw or splined, for smoother figures:"
   ]
  },
  {
   "cell_type": "code",
   "execution_count": 11,
   "metadata": {},
   "outputs": [
    {
     "data": {
      "image/png": "[encoded data removed]",
      "text/plain": [
       "<Figure size 576x288 with 4 Axes>"
      ]
     },
     "metadata": {
      "needs_background": "light"
     },
     "output_type": "display_data"
    }
   ],
   "source": [
    "# Make figure with panels of 3:1 width\n",
    "plt.figure(figsize=(8,4))\n",
    "gs = gridspec.GridSpec(2, 2, width_ratios=[3, 1]) \n",
    "\n",
    "# Raw results for full region\n",
    "plt.subplot(gs[0])\n",
    "plt.plot(au2ev*freqs,sigma,'bx-')\n",
    "\n",
    "# Raw results for zoomed in\n",
    "plt.subplot(gs[1])\n",
    "plt.plot(au2ev*freqs,sigma,'bx-')\n",
    "plt.xlim((519.5,520.5)); plt.ylim((0,0.10))\n",
    "\n",
    "# Raw and splined spectra\n",
    "plt.subplot(gs[2])\n",
    "plt.plot(au2ev*freqs,sigma,'bx')\n",
    "x = np.arange(min(au2ev*freqs),max(au2ev*freqs),0.01)\n",
    "y = interp1d(au2ev*freqs, sigma, kind='cubic')\n",
    "plt.plot(x,y(x),'r')\n",
    "plt.legend(('Raw','Splined'))\n",
    "\n",
    "# Zoomed in\n",
    "plt.subplot(gs[3])\n",
    "plt.plot(au2ev*freqs,sigma,'bx')\n",
    "plt.plot(x,y(x),'r')\n",
    "plt.xlim((519.5,520.5)); plt.ylim((0,0.10))\n",
    "plt.show()"
   ]
  },
  {
   "cell_type": "markdown",
   "metadata": {},
   "source": [
    "Increasing the basis set size and comparing to [experiment] we get:\n",
    "\n",
    "\n",
    "```{figure} ../img/xray/dft_water_xas.svg\n",
    "---\n",
    "name: dft_water_xas\n",
    "---\n",
    "CPP-DFT (B3LYP) X-ray absorption spectrum of water, as compared to experiment. Theoretical spectra shifted by 14.5 eV and broadened by 0.4 eV. Currently aug-cc-pVDZ..\n",
    "```\n",
    "\n",
    "```{note} \n",
    "Change above to aug-cc-pCVTZ/cc-pVTZ.\n",
    "```\n",
    "\n",
    "As can be seen, the absolute excitation energies are significantly of, with a shift of 14.5 eV required to yield an approximate alignment to experiment. Part of this shift is due to lack of relativistic effects (~0.37 eV), and a small discrepancy can be expected due to the use of a limited basis set, but the main part of the error is due to two different effects:\n",
    "\n",
    "1. Lack of [relaxation](#relaxation), which yield a final state too high in energy and thus shift theoretical spectra upwards in energy.\n",
    "\n",
    "2. The [self-interaction error](#self-interaction-error-in-dft), which yield an erroneous self-repulsion of the dense core orbitals, and results in too low core-excitation energies.\n",
    "\n",
    "For B3LYP the total effect of these two errors leads to too low transition energies, meaning that the SIE dominates. By changing the amount of HF exchange this balance will shift and the error eventually becomes positive.\n",
    "\n",
    "Nevertheless, the obtained CPP-DFT spectrum is in reasonable agreement with experiment once it has been shifted.\n",
    "\n",
    "\n",
    "### Other approaches\n",
    "\n",
    "Brief discussion - state-specific, CC, MR, ..."
   ]
  },
  {
   "cell_type": "markdown",
   "metadata": {},
   "source": [
    "(sec:xray_calc_xes)=\n",
    "## X-ray emission spectroscopy\n",
    "\n",
    "Following the creatying of a core-hole, the system will rapidly ($\\sim$fs) decay to a valence-hole or valence-excited satte, depending on whether the system is core-ionized or core-excited. These two different intermediate states  are probed when the X-ray pulse is in non-resonant (ionized) or resonant (excited regime), yieldig non-resonant/resonant X-ray emission spectroscopy. This section will focus on the former, with the latter following in the next section.\n",
    "\n",
    "In the decay process the system gain large amounts of energy which need to be discarded, which can occur by emission of high-energy photon (fluorescence) or higher-lying electron (Auger), with relative probability depending on edge and element. For the *K*-edge the relative probabilities follow:\n",
    "\n",
    "```{figure} ../img/xray/auger_vs_fluorescent.png\n",
    "---\n",
    "name: auger_vs_fluorescent\n",
    "---\n",
    "Fluorescence and Auger electron yields as a function of atomic number for *K*-edge core-holes. [Published](https://commons.wikimedia.org/wiki/File:Auger_xray_wiki_in_png_format.png) under CC BY-SA 4.0.\n",
    "```\n",
    "\n",
    "As can be seen, Auger decay dominates for light elements, which has impact on both our ability of obtaining well-resolved spectra for these elements, as well as the impact of X-ray damage on biological matter.\n",
    "\n",
    "In non-resonant XES we then probe the radiative decay of core-ionized states, through which we can probe the (element-specific) nature of the local chemical environment. For light elements the valence space is probed directly, but for heavier elements we obtain a number of different decay channels from the valence region and the outer core region. These lines vary considerably in energy, intensity, and information content [refs]:\n",
    "\n",
    "1. The $2p \\rightarrow 1s$ ($K\\alpha_1$ and $K\\alpha_2$) is the most intense (due to the large overlap) and of lowest energy, and is relatively insensitive to the valence region.\n",
    "\n",
    "2. The $3p \\rightarrow 1s$ ($K\\beta ' $ and $K\\beta_{1,3}$) is about an order of magnitude weaker and of higher energy, but more sensitive to the environment.\n",
    "\n",
    "3. Transitions from the ligand MO:s ($K\\beta '' $ and $K\\beta_{2,5}$), or valence-to-core (VtC), is the weakest, high-energy features which is most sensitive to the local environment.\n",
    "\n",
    "The discussion in this tutorial will focus on spectra of lighter elements, as can be modelled with DFT and ADC theory. A good starting point for such calculations include [XPS with ADC/TDDFT].\n",
    "\n",
    "\n",
    "### Spectra from ADC\n",
    "\n",
    "One approach for considering X-ray emission spectra is to converge the core-hole state (as above for $\\Delta\\textrm{SCF}$) and use this core-ionized system as the reference state. The core-decay transition then are the first negative eigenstates of the systemn, such that a standard Davidson calculation can be run on top.\n",
    "\n",
    "Considering water with ADC(2), the oxygen X-ray emission spectrum is calculated as:"
   ]
  },
  {
   "cell_type": "code",
   "execution_count": 12,
   "metadata": {
    "tags": [
     "hide-output"
    ]
   },
   "outputs": [
    {
     "name": "stdout",
     "output_type": "stream",
     "text": [
      "converged SCF energy = -75.9838703827193  <S^2> = 6.337153e-12  2S+1 = 1\n",
      "converged SCF energy = -56.0754789470864  <S^2> = 0.76257805  2S+1 = 2.0125387\n"
     ]
    },
    {
     "name": "stderr",
     "output_type": "stream",
     "text": [
      "/home/thomas/pkg/adcc/adcc/backends/__init__.py:48: UserWarning: Could not check host program psi4 minimal version, since __version__ tag not found. Proceeding anyway.\n",
      "  \"\".format(module)\n"
     ]
    },
    {
     "name": "stdout",
     "output_type": "stream",
     "text": [
      "Starting adc2  Jacobi-Davidson ...\n",
      "Niter n_ss  max_residual  time  Ritz values\n",
      "  1     8       0.77768   1.2s  [-19.29082067 -19.19940205 -18.96181907 -18.3637012 ]\n",
      "  2    16     0.0010764  162ms  [-19.44427093 -19.36689642 -19.16826546 -18.57947501]\n",
      "  3    24    4.4301e-07  274ms  [-19.44429764 -19.3669284  -19.16831914 -18.57954987]\n",
      "=== Converged ===\n",
      "    Number of matrix applies:    24\n",
      "    Total solver time:             1s 642ms\n"
     ]
    }
   ],
   "source": [
    "# Construct molecule object\n",
    "mol       = gto.Mole()\n",
    "mol.atom  = water\n",
    "mol.basis = '6-31G'\n",
    "mol.build()\n",
    "\n",
    "# Perform neutral SCF calculation\n",
    "scf_res = scf.UHF(mol)\n",
    "scf_res.kernel()\n",
    "\n",
    "# Use above SCF as starting guess, removing core electron and converging with MOM constraint\n",
    "mo0        = copy.deepcopy(scf_res.mo_coeff)\n",
    "occ0       = copy.deepcopy(scf_res.mo_occ)\n",
    "occ0[0][0] = 0.0\n",
    "scf_ion = scf.UHF(mol)\n",
    "scf.addons.mom_occ(scf_ion, mo0, occ0)\n",
    "scf_ion.kernel()\n",
    "\n",
    "# Perform ADC calculation\n",
    "adc_xes = adcc.adc2(scf_ion, n_states=4)"
   ]
  },
  {
   "cell_type": "markdown",
   "metadata": {},
   "source": [
    "```{note}\n",
    "There will be some convergence issues if including transitions from very different types, *e.g.* resolving transitions into the core and out to the unoccupied valence region simultaneously. As such, the number of resolved states should remain somewhat limited.\n",
    "```\n",
    "\n",
    "The resuls can be printed as a table, or convoluted and plotted using built-in functionalities or a custom broadening. Note that the eigenvalues are negative, and a sing change is appropriate when constructing the spectra."
   ]
  },
  {
   "cell_type": "code",
   "execution_count": 13,
   "metadata": {},
   "outputs": [
    {
     "name": "stdout",
     "output_type": "stream",
     "text": [
      "+--------------------------------------------------------------+\n",
      "| adc2                                        any ,  converged |\n",
      "+--------------------------------------------------------------+\n",
      "|  #        excitation energy     osc str    |v1|^2    |v2|^2  |\n",
      "|          (au)           (eV)                                 |\n",
      "|  0      -19.4443     -529.1063   0.0568    0.9548    0.0452  |\n",
      "|  1     -19.36693      -527.001   0.0458    0.9503   0.04966  |\n",
      "|  2     -19.16832     -521.5965   0.0419    0.9376   0.06245  |\n",
      "|  3     -18.57955     -505.5753   0.0031    0.9335   0.06655  |\n",
      "+--------------------------------------------------------------+\n",
      "\n"
     ]
    },
    {
     "data": {
      "image/png": "[encoded data removed]",
      "text/plain": [
       "<Figure size 432x360 with 2 Axes>"
      ]
     },
     "metadata": {
      "needs_background": "light"
     },
     "output_type": "display_data"
    }
   ],
   "source": [
    "# Print information on eigenstates\n",
    "print(adc_xes.describe())\n",
    "\n",
    "plt.figure(figsize=(6,5))\n",
    "# Convolute using functionalities available in gator and adcc\n",
    "plt.subplot(211); plt.title('Built-in broadening [note negative energies]')\n",
    "adc_xes.plot_spectrum()\n",
    "# Convoluted using information on excitation energies and oscillator strengths\n",
    "plt.subplot(212); plt.title('Custom broadening')\n",
    "x,y = -au2ev*adc_xes.excitation_energy, adc_xes.oscillator_strength\n",
    "xi,yi = lorentzian(x,y,519,531,0.01,0.5); plt.plot(xi,yi)\n",
    "plt.tight_layout(); plt.show()"
   ]
  },
  {
   "cell_type": "markdown",
   "metadata": {},
   "source": [
    "Using cc-pCVTZ/cc-pVTZ and comparing to experiment:\n",
    "\n",
    "```{figure} ../img/xray/overlap_water_xes.svg\n",
    "---\n",
    "name: overlap_water_xes\n",
    "---\n",
    "ADC(2) water X-ray emission spectrum, as compared to experiment. Theoretical spectra shifted by 0.37 eV (to account for relativistic effects) and broadened by 0.3 eV.\n",
    "```\n",
    "\n",
    "While the broadening between the different lines is noticably different, it is clear that the energy spacing and integrated intensities of the features are in good agreement with experiment. Note that the theoretical spectrum is obtained at the ADC(2) level of theory, which has been [shown](https://doi.org/10.1021/acs.jctc.8b01046) to be in better agreement than ADC(2)-x and ADC(3/2) for XES.\n",
    "\n",
    "\n",
    "### Spectra from TDDFT\n",
    "\n",
    "```{note}\n",
    "To be added.\n",
    "```"
   ]
  },
  {
   "cell_type": "markdown",
   "metadata": {},
   "source": [
    "### Spectra from ground state MO:s\n",
    "\n",
    "While we have previously seen that Koopmans' theorem is in significant disagreement with experimental ionization potentials (due to lack of relaxation), it has been noted that the **relative** position of the (valence) MO energies can still be quite reasonable. As such, a computationally very simple approach for modeling X-ray emission spectra has been utilized [refs], in which transition energies are estimated from\n",
    "\n",
    "\\begin{equation}\n",
    "\\Delta E = \\epsilon_v - \\epsilon_c\n",
    "\\end{equation}\n",
    "\n",
    "*i.e.* the difference in ground state MO energies. The intensities are taken to be proportional to the dipole moment:\n",
    "\n",
    "\\begin{equation}\n",
    "f \\propto \\left| \\langle \\phi_i \\left| \\hat{\\mu} \\right| \\phi_c \\rangle \\right| ^2\n",
    "\\end{equation}\n",
    "\n",
    "This method is very attractive in its simplicity, requiring only a single ground state calculation and the construction of some dipole moments for a full spectrum calculation. However, the absolute energies will be significantly off, and any differences in relaxation between the different channels will not be included.\n",
    "\n",
    "Nevertheless, this approach has been noted to yield good (relative) agreement to experimental measurements, and it is very capable of considering even massive molecular systems [refs]. The calculation of it then requires two steps:\n",
    "\n",
    "- The calculation of ground state wave function and constructing transition energies from MO energy differences:"
   ]
  },
  {
   "cell_type": "code",
   "execution_count": 14,
   "metadata": {},
   "outputs": [
    {
     "name": "stdout",
     "output_type": "stream",
     "text": [
      "Occupied MO energies: [-520.65709504  -27.68789281  -14.39952883   -9.70377533   -7.94952959]\n"
     ]
    }
   ],
   "source": [
    "# SCF calculation\n",
    "scf_drv          = vlx.ScfRestrictedDriver(comm,ostream=silent_ostream)\n",
    "scf_settings     = {'conv_thresh': 1.0e-6}\n",
    "method_settings  = {'xcfun': 'b3lyp', 'grid_level': 4}\n",
    "scf_drv.update_settings(scf_settings,method_settings)\n",
    "scf_drv.compute(molecule, basis)\n",
    "\n",
    "# Extract orbital energies and number of occupied MOs\n",
    "orbital_energies = scf_drv.scf_tensors['E']\n",
    "nocc = molecule.number_of_alpha_electrons()\n",
    "print('Occupied MO energies:',au2ev*orbital_energies[:nocc])\n",
    "\n",
    "# Define probed core MO(s) and calculate energy differences\n",
    "n_core = 0\n",
    "overlap_energy = []\n",
    "for n_mo in np.arange(nocc):\n",
    "    if n_mo != n_core:\n",
    "        overlap_energy.append(au2ev*(orbital_energies[n_mo]-orbital_energies[n_core]))"
   ]
  },
  {
   "cell_type": "markdown",
   "metadata": {},
   "source": [
    "- The calculation of dipole moments between the occupied states:"
   ]
  },
  {
   "cell_type": "code",
   "execution_count": 15,
   "metadata": {},
   "outputs": [],
   "source": [
    "# Load required functionalities\n",
    "dipole_drv      = vlx.ElectricDipoleIntegralsDriver(comm)\n",
    "dipole_matrices = dipole_drv.compute(molecule, basis)\n",
    "C = scf_drv.scf_tensors['C'] # MO coefficients\n",
    "\n",
    "# Calculated dipole moments and convert to MO basis\n",
    "x_ao = dipole_matrices.x_to_numpy(); x_mo = np.matmul(C.T, np.matmul(x_ao, C))\n",
    "y_ao = dipole_matrices.y_to_numpy(); y_mo = np.matmul(C.T, np.matmul(y_ao, C))\n",
    "z_ao = dipole_matrices.z_to_numpy(); z_mo = np.matmul(C.T, np.matmul(z_ao, C))\n",
    "\n",
    "# Calculate transition dipole moments and square modulus\n",
    "xx,yy,zz,osc_str = [],[],[],[]\n",
    "for n_mo in np.arange(nocc):\n",
    "    if n_mo != n_core:\n",
    "        x_tmp,y_tmp,z_tmp = x_mo[n_core,n_mo],y_mo[n_core,n_mo],z_mo[n_core,n_mo]\n",
    "        xx.append(x_tmp); yy.append(y_tmp); zz.append(z_tmp)\n",
    "        osc_str.append(x_tmp**2+y_tmp**2+z_tmp**2)"
   ]
  },
  {
   "cell_type": "markdown",
   "metadata": {},
   "source": [
    "From this we get the stick spectrum, which is printed with its decomposition. Further, it can be convoluted with a lorentzian, here focusing on the high-energy features."
   ]
  },
  {
   "cell_type": "code",
   "execution_count": 16,
   "metadata": {},
   "outputs": [
    {
     "name": "stdout",
     "output_type": "stream",
     "text": [
      "Energy   Osc. str.   x-component   y-component   z-component\n",
      "492.969   0.00022      0.00000      -0.00000      -0.01478\n",
      "506.258   0.00238     -0.04878       0.00000       0.00000\n",
      "510.953   0.00255     -0.00000      -0.00000       0.05050\n",
      "512.708   0.00342     -0.00000       0.05848       0.00000\n"
     ]
    },
    {
     "data": {
      "image/png": "[encoded data removed]",
      "text/plain": [
       "<Figure size 432x216 with 1 Axes>"
      ]
     },
     "metadata": {
      "needs_background": "light"
     },
     "output_type": "display_data"
    }
   ],
   "source": [
    "print('Energy   Osc. str.   x-component   y-component   z-component')\n",
    "for i in np.arange(len(overlap_energy)):\n",
    "    e,os,x,y,z = overlap_energy[i],osc_str[i],xx[i],yy[i],zz[i]\n",
    "    print('{:.3f}  {:8.5f}     {:8.5f}      {:8.5f}      {:8.5f}'.format(e,os,x,y,z))\n",
    "\n",
    "plt.figure(figsize=(6,3))\n",
    "x,y = overlap_energy,osc_str\n",
    "xi,yi = lorentzian(x,y,min(x)-5,max(x)+5,0.01,0.4)\n",
    "plt.plot(xi,yi)\n",
    "plt.xlim((504,514))\n",
    "plt.show()"
   ]
  },
  {
   "cell_type": "markdown",
   "metadata": {},
   "source": [
    "Using cc-pCVTZ/cc-pVTZ and comparing to experiment\n",
    "\n",
    "\n",
    "```{figure} ../img/xray//overlap_water_xes.svg\n",
    "---\n",
    "name: /overlap_water_xes\n",
    "---\n",
    "DFT (B3LYP) overlap X-ray emission spectrum of water, as compared to experiment. Theoretical spectra shifted to approximately align the high-energy feature, and broadened by 0.3 eV.\n",
    "```\n",
    "\n",
    "The resulting spectrum is quite off in energy, but the relative agreement to experiment is quite impressive.\n",
    "\n",
    "\n",
    "### Other approaches\n",
    "\n",
    "Brief discussion - CC, ..."
   ]
  },
  {
   "cell_type": "markdown",
   "metadata": {},
   "source": [
    "(sec:xray_calc_rixs)=\n",
    "## Resonant inelastic X-ray scattering\n",
    "\n",
    "```{note}\n",
    "- To be added.\n",
    "\n",
    "- One-step versus two-step.\n",
    "```\n",
    "\n",
    "Here focus on the electronic part of he RIXS plane.\n",
    "\n",
    "\n",
    "### Two-step approach with ADC"
   ]
  },
  {
   "cell_type": "code",
   "execution_count": 115,
   "metadata": {
    "scrolled": true,
    "tags": [
     "hide-output"
    ]
   },
   "outputs": [
    {
     "name": "stdout",
     "output_type": "stream",
     "text": [
      "converged SCF energy = -75.9838703827191  <S^2> = 6.3398176e-12  2S+1 = 1\n",
      "Starting cvs-adc2  Jacobi-Davidson ...\n",
      "Niter n_ss  max_residual  time  Ritz values\n",
      "  1     8        1.6222  841ms  [20.26123431 20.31992537 20.32302691 20.3464984  20.77599022]\n",
      "  2    16      0.059729  165ms  [19.77470975 19.80230856 19.84312303 19.87818817 20.5373859 ]\n",
      "  3    24     0.0025223  286ms  [19.75718509 19.78334186 19.84056229 19.86585919 20.53732181]\n",
      "  4    32    0.00064877  237ms  [19.75656768 19.78236576 19.84024749 19.86584883 20.53732181]\n",
      "  5    38    2.0368e-05  272ms  [19.756435   19.78211629 19.84024749 19.86584882 20.53732181]\n",
      "=== Converged ===\n",
      "    Number of matrix applies:    38\n",
      "    Total solver time:             1s 823ms\n"
     ]
    }
   ],
   "source": [
    "# Construct molecule object\n",
    "mol       = gto.Mole()\n",
    "mol.atom  = water\n",
    "mol.basis = '6-31G'\n",
    "mol.build()\n",
    "# Perform neutral SCF calculation\n",
    "scf_res = scf.UHF(mol)\n",
    "scf_res.kernel()\n",
    "# XAS\n",
    "adc_xas = adcc.cvs_adc2(scf_res, n_states=5,core_orbitals=1)\n",
    "\n",
    "adc_rixs = []\n",
    "for n in [5,6]:\n",
    "    mo0        = copy.deepcopy(scf_res.mo_coeff)\n",
    "    occ0       = copy.deepcopy(scf_res.mo_occ)\n",
    "    occ0[0][0] = 0.0; occ0[0][n] = 1.0\n",
    "    scf_ion = scf.UHF(mol); scf.addons.mom_occ(scf_ion, mo0, occ0)\n",
    "    scf_ion.kernel()\n",
    "    adc_rixs.append(adcc.adc2(scf_ion, n_states=4))"
   ]
  },
  {
   "cell_type": "code",
   "execution_count": 120,
   "metadata": {},
   "outputs": [
    {
     "name": "stdout",
     "output_type": "stream",
     "text": [
      "XAS\n",
      "+--------------------------------------------------------------+\n",
      "| cvs-adc2                                    any ,  converged |\n",
      "+--------------------------------------------------------------+\n",
      "|  #        excitation energy     osc str    |v1|^2    |v2|^2  |\n",
      "|          (au)           (eV)                                 |\n",
      "|  0      19.75644         537.6   0.0000    0.8488    0.1512  |\n",
      "|  1      19.78212      538.2988   0.0166    0.8393    0.1607  |\n",
      "|  2      19.84025      539.8806   0.0000    0.8617    0.1383  |\n",
      "|  3      19.86585      540.5773   0.0356    0.8518    0.1482  |\n",
      "|  4      20.53732       558.849   0.0000    0.9255   0.07451  |\n",
      "+--------------------------------------------------------------+\n",
      "\n",
      "\n",
      "LUMO\n",
      "+--------------------------------------------------------------+\n",
      "| adc2                                        any ,  converged |\n",
      "+--------------------------------------------------------------+\n",
      "|  #        excitation energy     osc str    |v1|^2    |v2|^2  |\n",
      "|          (au)           (eV)                                 |\n",
      "|  0     -19.68757      -535.726   0.0114    0.8589    0.1411  |\n",
      "|  1     -19.40573     -528.0569   0.0557    0.9523   0.04766  |\n",
      "|  2     -19.31551     -525.6018   0.0414    0.9357   0.06431  |\n",
      "|  3     -19.13752     -520.7586   0.0393    0.9311   0.06889  |\n",
      "+--------------------------------------------------------------+\n",
      "\n",
      "\n",
      "LUMO+1\n",
      "+--------------------------------------------------------------+\n",
      "| adc2                                        any ,  converged |\n",
      "+--------------------------------------------------------------+\n",
      "|  #        excitation energy     osc str    |v1|^2    |v2|^2  |\n",
      "|          (au)           (eV)                                 |\n",
      "|  0     -19.76496     -537.8318   0.0227    0.8732    0.1268  |\n",
      "|  1     -19.39657     -527.8077   0.0547    0.9519   0.04808  |\n",
      "|  2     -19.30101     -525.2072   0.0429    0.9443   0.05568  |\n",
      "|  3     -19.13354       -520.65   0.0347    0.9039   0.09609  |\n",
      "+--------------------------------------------------------------+\n",
      "\n"
     ]
    }
   ],
   "source": [
    "print(adc_xas.describe())\n",
    "print(adc_rixs[0].describe())\n",
    "print(adc_rixs[1].describe())"
   ]
  },
  {
   "cell_type": "code",
   "execution_count": 123,
   "metadata": {
    "scrolled": false
   },
   "outputs": [
    {
     "data": {
      "image/png": "[encoded data removed]",
      "text/plain": [
       "<Figure size 432x288 with 3 Axes>"
      ]
     },
     "metadata": {
      "needs_background": "light"
     },
     "output_type": "display_data"
    }
   ],
   "source": [
    "plt.figure()\n",
    "plt.subplot(222)\n",
    "x,y = au2ev*adc_xas.excitation_energy, adc_xas.oscillator_strength\n",
    "xi,yi = lorentzian(x,y,min(x)-2,min(x)+5,0.01,0.3)\n",
    "plt.plot(yi,xi)\n",
    "plt.subplot(223)\n",
    "x,y = -au2ev*adc_rixs[0].excitation_energy, adc_rixs[0].oscillator_strength\n",
    "xi,yi = lorentzian(x,y,x[1]-9,x[1]+2,0.01,0.3)\n",
    "plt.plot(xi,yi+au2ev*adc_xas.excitation_energy[0])\n",
    "x,y = -au2ev*adc_rixs[1].excitation_energy, adc_rixs[1].oscillator_strength\n",
    "xi,yi = lorentzian(x,y,x[1]-9,x[1]+2,0.01,0.3)\n",
    "plt.plot(xi,yi+au2ev*adc_xas.excitation_energy[1])\n",
    "\n",
    "plt.subplot(221)\n",
    "# LUMO\n",
    "indx = 1\n",
    "f1xas = au2ev*adc_xas.excitation_energy[indx]\n",
    "f1xes = -au2ev*adc_rixs[0].excitation_energy[1]\n",
    "f1int = adc_xas.oscillator_strength[indx]*adc_rixs[0].oscillator_strength[1]\n",
    "f2xas = f1xas\n",
    "f2xes = -au2ev*adc_rixs[0].excitation_energy[2]\n",
    "f2int = adc_xas.oscillator_strength[indx]*adc_rixs[0].oscillator_strength[2]\n",
    "plt.plot(f1xes,f1xas,'o',markersize=10000*f1int)\n",
    "plt.plot(f2xes,f2xas,'o',markersize=10000*f2int)\n",
    "# LUMO+1\n",
    "indx = 3\n",
    "f1xas = au2ev*adc_xas.excitation_energy[indx]\n",
    "f1xes = -au2ev*adc_rixs[1].excitation_energy[1]\n",
    "f1int = adc_xas.oscillator_strength[indx]*adc_rixs[1].oscillator_strength[1]\n",
    "f2xas = f1xas\n",
    "f2xes = -au2ev*adc_rixs[1].excitation_energy[2]\n",
    "f2int = adc_xas.oscillator_strength[indx]*adc_rixs[1].oscillator_strength[2]\n",
    "plt.plot(f1xes,f1xas,'o',markersize=10000*f1int)\n",
    "plt.plot(f2xes,f2xas,'o',markersize=10000*f2int)\n",
    "plt.ylim((535,543)); plt.xlim((519,530))\n",
    "plt.xlabel('Emission'); plt.ylabel('Absorption')\n",
    "plt.show()"
   ]
  },
  {
   "cell_type": "markdown",
   "metadata": {},
   "source": [
    "### Two-step approach with TDDFT\n",
    "\n",
    "```{note}\n",
    "To be added.\n",
    "```\n",
    "\n",
    "\n",
    "### Dirac-Kramer-Heisenberg with ADC\n",
    "\n",
    "```{note}\n",
    "To be added.\n",
    "```\n",
    "\n",
    "\n",
    "### Other approaches\n",
    "\n",
    "Overlap approach...?\n",
    "\n"
   ]
  }
 ],
 "metadata": {
  "celltoolbar": "Tags",
  "kernelspec": {
   "display_name": "Python 3",
   "language": "python",
   "name": "python3"
  },
  "language_info": {
   "codemirror_mode": {
    "name": "ipython",
    "version": 3
   },
   "file_extension": ".py",
   "mimetype": "text/x-python",
   "name": "python",
   "nbconvert_exporter": "python",
   "pygments_lexer": "ipython3",
   "version": "3.7.9"
  }
 },
 "nbformat": 4,
 "nbformat_minor": 4
}
