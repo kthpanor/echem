{
 "cells": [
  {
   "cell_type": "markdown",
   "id": "ce7ac16f-1fc0-4a88-936c-50e36aedeaa1",
   "metadata": {},
   "source": [
    "# Potential energy surfaces by interpolation\n",
    "\n",
    "In this tutorial we will get familiar with constructing the potential energy surface (PES) of a molecule by interpolation. The idea behind this method is to construct the global PES of the molecular ground or excited-state from a set of data points (configurations) calculated quantum-mechanically. For small molecules with few degrees of freedom, depending on the level of theory, the interpolated PES can have similar computational cost as constructing the PES _ab initio_. The use of an interpolated PES becomes very advantageous, especially when the molecule of interest is embedded in a larger environment (e.g. fluorescent probe in a protein), where this technique allows performing dynamics on the ground or excited state with quantum chemical accuracy, but at molecular mechanics computational cost.\n",
    "\n",
    "The idea behind PES interpolation is to write the potential energy at a new configuration $\\mathbf{q}$ as a weighted average between potentials defined from a set of _ab initio_ data points $\\{\\mathbf{q}_a\\}$:\n",
    "\n",
    "\\begin{equation}\n",
    "V(\\mathbf{q}) = \\sum_a w_a V_a(\\mathbf{q})\\,,\n",
    "\\end{equation}\n",
    "\n",
    "where the weights $w_a$ depend on the distance ($\\boldsymbol{\\Delta}_a$) beween the new configuration $\\mathbf{q}$ and a data configuration $\\mathbf{q}_a$. The potentials $V_a$ are local harmonic potentials written in terms of Taylor expansions based on the energy ($E_a$), gradient ($\\mathbf{g}_a$) and Hessian ($\\mathbf{H}_a$):\n",
    "\n",
    "\\begin{equation}\n",
    "V_a(\\mathbf{q}) = E_a + \\boldsymbol{\\Delta}^\\mathrm{T}_a \\mathbf{g}_a + \\frac{1}{2} \\boldsymbol{\\Delta}^\\mathrm{T}_a \\mathbf{H}_a\\boldsymbol{\\Delta}_a\\, .\n",
    "\\end{equation}\n",
    "The vector $\\mathbf{q}$ designating the position is in the internal coordinate system.\n",
    "The weights are provided by considering the distance between $\\mathbf{q}$ and $\\mathbf{q}_a$, such that the weight $w_a$ is larger for a data point $\\mathbf{q}_a$ that is closer to $\\mathbf{q}$.\n"
   ]
  },
  {
   "cell_type": "markdown",
   "id": "22404078-2b75-44b9-afe6-0ad135efeaba",
   "metadata": {},
   "source": [
    "## The ground state potential energy surface of water \n",
    "\n",
    "Let's construct the ground state PES for the water molecule by interpolation. We need to carry out the following steps:\n",
    "- transform the coordinates, gradients and Hessians from Cartesian coordinates to internal coordinates,\n",
    "- calculate the ground state energy, gradient, and Hessian for a several molecular configurations which will serve as data points for interpolation,\n",
    "- determine the harmonic potentials and weights,\n",
    "- perform the interpolation and determine the potential energy at new configurations $\\mathbf{q}$."
   ]
  },
  {
   "cell_type": "markdown",
   "id": "910ea9a6-20ea-4029-82ec-6dca7272818f",
   "metadata": {},
   "source": [
    "### Transforming from Cartesian to internal coordinates\n",
    "\n",
    "The steps required for the transformation of Cartesian coordinates to internal coordinates are described in details [here](sec:redundant-coordinates). We will implement a set of routines to transform the gradient and Hessian to internal coordinates, making use of routines from [geomeTRIC](https://github.com/leeping/geomeTRIC). Let's start by setting up the molecule and calculating the energy, gradient and Hessian. To make things faster, we will use the [XTB](https://xtb-docs.readthedocs.io/en/latest/contents.html) driver to run our calculations."
   ]
  },
  {
   "cell_type": "code",
   "execution_count": 35,
   "id": "d0b0cace-44a6-4ebb-9e03-eaf3ab88dffa",
   "metadata": {},
   "outputs": [],
   "source": [
    "import veloxchem as vlx\n",
    "import numpy as np\n",
    "import sys\n",
    "import py3Dmol as p3d\n",
    "import geometric\n",
    "from matplotlib import pyplot as plt\n",
    "\n",
    "np.set_printoptions(suppress=True, precision=7)"
   ]
  },
  {
   "cell_type": "code",
   "execution_count": 2,
   "id": "767ba002-3598-492c-9373-54fbf307d2fe",
   "metadata": {},
   "outputs": [],
   "source": [
    "molecule_string = \"\"\"3\n",
    "water                                                                                                                          \n",
    "O    0.000000000000        0.000000000000        0.000000000000                         \n",
    "H    0.000000000000        0.895700000000       -0.316700000000                         \n",
    "H    0.000000000000        0.000000000000        1.100000000000\n",
    "\"\"\"\n",
    "\n",
    "molecule = vlx.Molecule.from_xyz_string(molecule_string)"
   ]
  },
  {
   "cell_type": "code",
   "execution_count": 25,
   "id": "16c91e2b-8d49-4a74-8366-f1a914d5721e",
   "metadata": {},
   "outputs": [
    {
     "name": "stdout",
     "output_type": "stream",
     "text": [
      "\n",
      "Initial Geometry of the water molecule:\n"
     ]
    },
    {
     "data": {
      "application/3dmoljs_load.v0": "<div id=\"3dmolviewer_16511234153213637\"  style=\"position: relative; width: 300px; height: 200px\">\n        <p id=\"3dmolwarning_16511234153213637\" style=\"background-color:#ffcccc;color:black\">You appear to be running in JupyterLab (or JavaScript failed to load for some other reason).  You need to install the 3dmol extension: <br>\n        <tt>jupyter labextension install jupyterlab_3dmol</tt></p>\n        </div>\n<script>\n\nvar loadScriptAsync = function(uri){\n  return new Promise((resolve, reject) => {\n    var tag = document.createElement('script');\n    tag.src = uri;\n    tag.async = true;\n    tag.onload = () => {\n      resolve();\n    };\n  var firstScriptTag = document.getElementsByTagName('script')[0];\n  firstScriptTag.parentNode.insertBefore(tag, firstScriptTag);\n});\n};\n\nif(typeof $3Dmolpromise === 'undefined') {\n$3Dmolpromise = null;\n  $3Dmolpromise = loadScriptAsync('https://3dmol.org/build/3Dmol.js');\n}\n\nvar viewer_16511234153213637 = null;\nvar warn = document.getElementById(\"3dmolwarning_16511234153213637\");\nif(warn) {\n    warn.parentNode.removeChild(warn);\n}\n$3Dmolpromise.then(function() {\nvar viewergrid_16511234153213637 = null;\nviewergrid_16511234153213637 = $3Dmol.createViewerGrid($(\"#3dmolviewer_16511234153213637\"),{rows: 1, cols: 1, control_all: true},{backgroundColor:\"white\"});\nviewer_16511234153213637 = viewergrid_16511234153213637[0][0];\nviewergrid_16511234153213637[0][0].zoomTo();\tviewergrid_16511234153213637[0][0].addModel(\"3\\nwater                                                                                                                          \\nO    0.000000000000        0.000000000000        0.000000000000                         \\nH    0.000000000000        0.895700000000       -0.316700000000                         \\nH    0.000000000000        0.000000000000        1.100000000000\\n\",\"xyz\");\n\tviewergrid_16511234153213637[0][0].setStyle({\"stick\": {}});\nviewergrid_16511234153213637[0][0].render();\n});\n</script>",
      "text/html": [
       "<div id=\"3dmolviewer_16511234153213637\"  style=\"position: relative; width: 300px; height: 200px\">\n",
       "        <p id=\"3dmolwarning_16511234153213637\" style=\"background-color:#ffcccc;color:black\">You appear to be running in JupyterLab (or JavaScript failed to load for some other reason).  You need to install the 3dmol extension: <br>\n",
       "        <tt>jupyter labextension install jupyterlab_3dmol</tt></p>\n",
       "        </div>\n",
       "<script>\n",
       "\n",
       "var loadScriptAsync = function(uri){\n",
       "  return new Promise((resolve, reject) => {\n",
       "    var tag = document.createElement('script');\n",
       "    tag.src = uri;\n",
       "    tag.async = true;\n",
       "    tag.onload = () => {\n",
       "      resolve();\n",
       "    };\n",
       "  var firstScriptTag = document.getElementsByTagName('script')[0];\n",
       "  firstScriptTag.parentNode.insertBefore(tag, firstScriptTag);\n",
       "});\n",
       "};\n",
       "\n",
       "if(typeof $3Dmolpromise === 'undefined') {\n",
       "$3Dmolpromise = null;\n",
       "  $3Dmolpromise = loadScriptAsync('https://3dmol.org/build/3Dmol.js');\n",
       "}\n",
       "\n",
       "var viewer_16511234153213637 = null;\n",
       "var warn = document.getElementById(\"3dmolwarning_16511234153213637\");\n",
       "if(warn) {\n",
       "    warn.parentNode.removeChild(warn);\n",
       "}\n",
       "$3Dmolpromise.then(function() {\n",
       "var viewergrid_16511234153213637 = null;\n",
       "viewergrid_16511234153213637 = $3Dmol.createViewerGrid($(\"#3dmolviewer_16511234153213637\"),{rows: 1, cols: 1, control_all: true},{backgroundColor:\"white\"});\n",
       "viewer_16511234153213637 = viewergrid_16511234153213637[0][0];\n",
       "viewergrid_16511234153213637[0][0].zoomTo();\tviewergrid_16511234153213637[0][0].addModel(\"3\\nwater                                                                                                                          \\nO    0.000000000000        0.000000000000        0.000000000000                         \\nH    0.000000000000        0.895700000000       -0.316700000000                         \\nH    0.000000000000        0.000000000000        1.100000000000\\n\",\"xyz\");\n",
       "\tviewergrid_16511234153213637[0][0].setStyle({\"stick\": {}});\n",
       "viewergrid_16511234153213637[0][0].render();\n",
       "});\n",
       "</script>"
      ]
     },
     "metadata": {},
     "output_type": "display_data"
    }
   ],
   "source": [
    "print(\"\\nInitial Geometry of the water molecule:\")\n",
    "viewer = p3d.view(viewergrid=(1,1),width=300,height=200)\n",
    "viewer.addModel(molecule_string, 'xyz', viewer=(0,0))\n",
    "viewer.setStyle({'stick': {}})\n",
    "viewer.show()"
   ]
  },
  {
   "cell_type": "code",
   "execution_count": 4,
   "id": "8406ebe3-40d9-4682-8170-b06fc257c199",
   "metadata": {
    "scrolled": true,
    "tags": []
   },
   "outputs": [
    {
     "name": "stdout",
     "output_type": "stream",
     "text": [
      "                                                                                                                          \n",
      "                                                        XTB Driver                                                        \n",
      "                                                       ============                                                       \n",
      "                                                                                                                          \n",
      "* Info *   Energy   : -5.0581171578 a.u.                                                                                  \n",
      "* Info *   Gradient : 6.329546e-02 a.u. (RMS)                                                                             \n",
      "* Info *              7.985634e-02 a.u. (Max)                                                                             \n",
      "* Info *   Time     : 0.08 sec                                                                                            \n",
      "                                                                                                                          \n",
      "* Info * Reference: C. Bannwarth, E. Caldeweyher, S. Ehlert,                                                              \n",
      "* Info * A. Hansen, P. Pracht, J. Seibert, S. Spicher, S. Grimme,                                                         \n",
      "* Info * WIREs Comput. Mol. Sci., 2020, 11, e01493                                                                        \n",
      "                                                                                                                          \n"
     ]
    }
   ],
   "source": [
    "method_settings = {'xtb':'gfn2'}\n",
    "ostream = vlx.OutputStream(sys.stdout)\n",
    "xtb_drv = vlx.XTBDriver()\n",
    "xtb_drv.set_method(method_settings['xtb'].lower())\n",
    "xtb_drv.compute(molecule, ostream)"
   ]
  },
  {
   "cell_type": "code",
   "execution_count": 5,
   "id": "f7bfc435-6ca4-48d6-8e4c-d2ae205d5c7e",
   "metadata": {
    "scrolled": true,
    "tags": []
   },
   "outputs": [
    {
     "name": "stdout",
     "output_type": "stream",
     "text": [
      "                                                                                                                          \n",
      "                                                   XTB Gradient Driver                                                    \n",
      "                                                  =====================                                                   \n",
      "                                                                                                                          \n",
      "                                              Molecular Geometry (Angstroms)                                              \n",
      "                                             ================================                                             \n",
      "                                                                                                                          \n",
      "                          Atom         Coordinate X          Coordinate Y          Coordinate Z                           \n",
      "                                                                                                                          \n",
      "                           O           0.000000000000        0.000000000000        0.000000000000                         \n",
      "                           H           0.000000000000        0.895700000000       -0.316700000000                         \n",
      "                           H           0.000000000000        0.000000000000        1.100000000000                         \n",
      "                                                                                                                          \n",
      "                                                 Gradient (Hartree/Bohr)                                                  \n",
      "                                                -------------------------                                                 \n",
      "                                                                                                                          \n",
      "                          Atom           Gradient X            Gradient Y            Gradient Z                           \n",
      "                                                                                                                          \n",
      "                           O           0.000000000000       -0.012614520195       -0.073538358535                         \n",
      "                           H          -0.000000000000       -0.007845540038       -0.003652454643                         \n",
      "                           H           0.000000000000        0.020460060233        0.077190813177                         \n",
      "                                                                                                                          \n",
      "                                                                                                                          \n"
     ]
    }
   ],
   "source": [
    "xtb_grad_drv = vlx.XTBGradientDriver(xtb_drv)\n",
    "xtb_grad_drv.compute(molecule)"
   ]
  },
  {
   "cell_type": "code",
   "execution_count": 6,
   "id": "db7e6681-551f-4c89-b59d-5ec2887d1b6f",
   "metadata": {
    "scrolled": true,
    "tags": []
   },
   "outputs": [
    {
     "name": "stdout",
     "output_type": "stream",
     "text": [
      "                                                                                                                          \n",
      "                                                    XTB Hessian Driver                                                    \n",
      "                                                   ====================                                                   \n",
      "                                                                                                                          \n",
      "                                   *** Time spent in Hessian calculation: 0.13 sec ***                                    \n",
      "                                                                                                                          \n",
      "                                                                                                                          \n"
     ]
    }
   ],
   "source": [
    "xtb_hessian_drv = vlx.XTBHessianDriver(xtb_drv)\n",
    "xtb_hessian_drv.compute(molecule)"
   ]
  },
  {
   "cell_type": "code",
   "execution_count": 7,
   "id": "9fb937db-2f35-4575-9751-0615197c4147",
   "metadata": {},
   "outputs": [],
   "source": [
    "energy = xtb_drv.get_energy()\n",
    "gradient = xtb_grad_drv.gradient\n",
    "hessian = xtb_hessian_drv.hessian"
   ]
  },
  {
   "cell_type": "markdown",
   "id": "6f6626e1-3aaa-42c3-ba49-1ef1eeda8b5c",
   "metadata": {},
   "source": [
    "Now that we have an energy, gradient and Hessian, let's define the Z-matrix for the water molecule and write the routines required to transform from Cartesian coordinates to the internal coordinates defined by the Z-matrix. We will use geomeTRIC to set up the internal coordinates."
   ]
  },
  {
   "cell_type": "code",
   "execution_count": 8,
   "id": "7a41d843-f96b-4fb5-97e3-9b3c0d4180c5",
   "metadata": {},
   "outputs": [],
   "source": [
    "#            O-H1    O-H2   H1-O-H2\n",
    "z_matrix = [[0, 1], [0,2], [1,0,2]]\n",
    "\n",
    "internal_coordinates = []\n",
    "\n",
    "for z in z_matrix:\n",
    "    if len(z) == 2:\n",
    "        # define a bond distance object\n",
    "        q = geometric.internal.Distance(z[0], z[1])\n",
    "        \n",
    "    elif len(z) == 3:\n",
    "        # define a bond angle object\n",
    "        q = geometric.internal.Angle(z[0], z[1], z[2])\n",
    "        \n",
    "    else:\n",
    "        # define a dihedral angle object\n",
    "        q = geometric.internal.Dihedral(z[0], z[1], z[2], z[3])\n",
    "        \n",
    "    internal_coordinates.append(q)"
   ]
  },
  {
   "cell_type": "markdown",
   "id": "eed74fdb-d239-4ce8-b614-ff7bbf8bec1a",
   "metadata": {},
   "source": [
    "The internal coordinates defined through geomeTRIC have routines that allow us to calculate derivatives with respect to Cartesian coordinates ($\\mathbf{x}$), as required for constructing the Wilson $\\mathbf{B}$ matrix:\n",
    "\n",
    "\\begin{equation}\n",
    "B_{ij} = \\frac{\\partial q_i}{\\partial x_j}\\,.\n",
    "\\end{equation}\n",
    "\n",
    "Let's use these routines to get the B-matrix."
   ]
  },
  {
   "cell_type": "code",
   "execution_count": 9,
   "id": "b7734900-1302-4e75-820d-bdfce181b05c",
   "metadata": {},
   "outputs": [],
   "source": [
    "def get_b_matrix(molecule, internal_coordinates, z_matrix):\n",
    "    n_atoms = molecule.number_of_atoms()\n",
    "    \n",
    "    # number of Cartesian coordinates\n",
    "    n_cart = 3 * n_atoms\n",
    "    \n",
    "    # number of internal coordinates\n",
    "    n_int = len(internal_coordinates)\n",
    "    \n",
    "    # initialize the B-matrix\n",
    "    b_matrix = np.zeros((n_int, n_cart))\n",
    "    \n",
    "    # Cartesian coordinates\n",
    "    coords = molecule.get_coordinates().reshape( 3 * n_atoms)\n",
    "    \n",
    "    # calculate the derivatives of q with respect to coords\n",
    "    i = 0 # i runs over all the internal coordinates\n",
    "    for q in internal_coordinates:\n",
    "        deriv_q = q.derivative(coords)\n",
    "        # add the derivative values in the right spots of the b_matrix;\n",
    "        # we need the atom indices from the Z-matrix.\n",
    "        for a in z_matrix[i]:\n",
    "            # from 3 * atom_index to 3 * atom_index + 3\n",
    "            b_matrix[i, 3 * a : 3 * a + 3 ] = deriv_q[a]\n",
    "        i += 1\n",
    "    return b_matrix"
   ]
  },
  {
   "cell_type": "code",
   "execution_count": 10,
   "id": "a9d1922b-2e12-40e0-9d11-7a801d06a974",
   "metadata": {},
   "outputs": [],
   "source": [
    "b_mat = get_b_matrix(molecule, internal_coordinates, z_matrix)"
   ]
  },
  {
   "cell_type": "markdown",
   "id": "5fd2dd81-1028-4499-865f-17a948faa536",
   "metadata": {},
   "source": [
    "In order to transform from $\\mathbf{x}$ to $\\mathbf{q}$ we would need the inverse of $\\mathbf{B}$. However, $\\mathbf{B}$ is not a square matrix, so to get the inverse we have to first construct a rectangular matrix $\\mathbf{G}=\\mathbf{B}\\mathbf{B}^\\mathrm{T}$:"
   ]
  },
  {
   "cell_type": "code",
   "execution_count": 11,
   "id": "e46c9607-2f90-42b1-ab21-286bf3d948d8",
   "metadata": {
    "scrolled": true,
    "tags": []
   },
   "outputs": [],
   "source": [
    "g_mat = np.matmul(b_mat, b_mat.T)"
   ]
  },
  {
   "cell_type": "markdown",
   "id": "aa2109d5-4edc-4a3c-a32e-394be7ebf148",
   "metadata": {},
   "source": [
    "$\\mathbf{G}$ is diagnoalized to get its eigenvalues and eigenvectors. The inverse of the non-zero eigenvalues and corresponding eigenvectors will be then used to construct the $\\mathbf{G}^{-}$ matrix."
   ]
  },
  {
   "cell_type": "code",
   "execution_count": 12,
   "id": "4174816d-c5a5-4ac0-8863-709091121021",
   "metadata": {},
   "outputs": [],
   "source": [
    "g_val, g_vec = np.linalg.eig(g_mat)\n",
    "g_val_inverse = []\n",
    "for g in g_val:\n",
    "    if abs(g) > 1e-7:\n",
    "        g_val_inverse.append(1.0 / g)\n",
    "    else:\n",
    "        g_val_inverse.append(0.0)\n",
    "g_val_inverse_mat = np.diag(np.array(g_val_inverse))\n",
    "g_minus = np.linalg.multi_dot([g_vec, g_val_inverse_mat, g_vec.T])"
   ]
  },
  {
   "cell_type": "markdown",
   "id": "343163c1-fbb2-49e8-8143-4998d20c4889",
   "metadata": {},
   "source": [
    "Let's make this piece of code a general routine that we can use for an arbitrary $\\mathbf{B}$ matrix."
   ]
  },
  {
   "cell_type": "code",
   "execution_count": 13,
   "id": "593ca92f-c2fa-4389-9080-85977b6a2eed",
   "metadata": {},
   "outputs": [],
   "source": [
    "def get_g_minus(b_matrix):\n",
    "    g_mat = np.matmul(b_matrix, b_matrix.T)\n",
    "    g_val, g_vec = np.linalg.eig(g_mat)\n",
    "    g_val_inverse = []\n",
    "    for g in g_val:\n",
    "        if abs(g) > 1e-7:\n",
    "            g_val_inverse.append(1.0 / g)\n",
    "        else:\n",
    "            g_val_inverse.append(0.0)\n",
    "            \n",
    "    g_val_inverse_mat = np.diag(np.array(g_val_inverse))\n",
    "    g_minus = np.linalg.multi_dot([g_vec, g_val_inverse_mat, g_vec.T])\n",
    "    \n",
    "    return g_minus"
   ]
  },
  {
   "cell_type": "code",
   "execution_count": 14,
   "id": "fe5ea813-39b4-4276-a047-649fdf9ca1b3",
   "metadata": {},
   "outputs": [],
   "source": [
    "g = get_g_minus(b_mat) "
   ]
  },
  {
   "cell_type": "markdown",
   "id": "b9d7ecaf-a133-459b-b7b3-66e6acdb8c6a",
   "metadata": {},
   "source": [
    "Now we have all the ingredients to transform the gradient, but we need the second order derivatives of $\\mathbf{q}$ with respect to $\\mathbf{x}$ to be able to also transform the Hessian. Let's write a routine to calculate the second-order B-matrix, $\\mathbf{B}^{(2)}$."
   ]
  },
  {
   "cell_type": "code",
   "execution_count": 15,
   "id": "58ef6e99-fcfe-4094-a39c-41355cee1e3d",
   "metadata": {},
   "outputs": [],
   "source": [
    "def get_b2_matrix(molecule, internal_coordinates, z_matrix):\n",
    "    n_atoms = molecule.number_of_atoms()\n",
    "    \n",
    "    # number of Cartesian coordinates\n",
    "    n_cart = 3 * n_atoms\n",
    "    \n",
    "    # number of internal coordinates\n",
    "    n_int = len(internal_coordinates)\n",
    "    \n",
    "    # initialize the B-matrix\n",
    "    b2_matrix = np.zeros((n_int, n_cart, n_cart))\n",
    "    \n",
    "    # Cartesian coordinates\n",
    "    coords = molecule.get_coordinates().reshape( 3 * n_atoms)\n",
    "    \n",
    "    # calculate the derivatives of q with respect to coords\n",
    "    i = 0 # i runs over all the internal coordinates\n",
    "    for q in internal_coordinates:\n",
    "        second_deriv_q = q.second_derivative(coords)\n",
    "        # add the derivative values in the right spots of the b_matrix;\n",
    "        # we need the atom indices from the Z-matrix.\n",
    "        for a in z_matrix[i]:\n",
    "            for b in z_matrix[i]:\n",
    "                # from 3 * atom_index_a to 3 * atom_index_a + 3\n",
    "                # and from 3 * atom_index_b to 3 * atom_index_b + 3\n",
    "                b2_matrix[i, 3 * a : 3 * a + 3, \n",
    "                             3 * b : 3 * b + 3] = second_deriv_q[a, :, b, :]\n",
    "        i += 1\n",
    "    return b2_matrix"
   ]
  },
  {
   "cell_type": "code",
   "execution_count": 16,
   "id": "07b134c6-8194-4bf2-afc7-417baeb45bfa",
   "metadata": {},
   "outputs": [],
   "source": [
    "b2_matrix = get_b2_matrix(molecule, internal_coordinates, z_matrix)"
   ]
  },
  {
   "cell_type": "markdown",
   "id": "032e6acb-427b-4dff-8b59-16d53d43b6b3",
   "metadata": {},
   "source": [
    "Let's write the routines which transform the gradient and the Hessian from Cartesian coordinates to internal coordinates. We have to implement the following equations:\n",
    "\\begin{align}\n",
    "\\mathbf{g}_q &= \\mathbf{G}^{-}\\mathbf{B}\\mathbf{g}_x \\\\\n",
    "\\mathbf{H}_q &= \\mathbf{G}^{-}\\mathbf{B}\\big[ \\mathbf{H}_x - \\mathbf{g}_q\\mathbf{B}^{(2)}\\big]\\mathbf{B}^\\mathrm{T}\\mathbf{G}^{-\\mathrm{T}} \n",
    "\\end{align}"
   ]
  },
  {
   "cell_type": "code",
   "execution_count": 17,
   "id": "b2112cc5-8dff-4e58-bd98-825b2679fe04",
   "metadata": {},
   "outputs": [],
   "source": [
    "def convert_gradient_to_internal(gradient, b_matrix, g_minus):\n",
    "    n_atoms = gradient.shape[0]\n",
    "    # reshape the Cartesian gradient to match the dimensions of the \n",
    "    # g_minus and b_matrix\n",
    "    grad_x = gradient.reshape((3 * n_atoms))\n",
    "    # convert to internal coordinates\n",
    "    grad_q = np.linalg.multi_dot([g_minus, b_matrix, grad_x])\n",
    "\n",
    "    return grad_q"
   ]
  },
  {
   "cell_type": "code",
   "execution_count": 18,
   "id": "b11770fd-dead-4d36-b4ad-67f8816c7459",
   "metadata": {},
   "outputs": [
    {
     "name": "stdout",
     "output_type": "stream",
     "text": [
      "[-0.0002241  0.0720476 -0.0124905]\n"
     ]
    }
   ],
   "source": [
    "grad_q = convert_gradient_to_internal(gradient, b_mat, g_minus)\n",
    "print(grad_q)"
   ]
  },
  {
   "cell_type": "markdown",
   "id": "36d15f50-643c-4d12-8e6a-5259adaacd6b",
   "metadata": {},
   "source": [
    "Has the conversion worked correctly? How can you check?"
   ]
  },
  {
   "cell_type": "code",
   "execution_count": 19,
   "id": "b725f9e1-537f-4bd3-a058-ce638e476f91",
   "metadata": {},
   "outputs": [],
   "source": [
    "def convert_Hessian_to_internal(hessian, b_matrix, g_minus, b2_matrix, grad_q):\n",
    "    # calculate term related to the second order B-matrix\n",
    "    gradq_b2mat = np.einsum(\"i,ixy->xy\", grad_q, b2_matrix)\n",
    "    \n",
    "    # convert the Hessian from Cartesian to internal coordinates\n",
    "    hessian_q = np.linalg.multi_dot([g_minus, b_matrix, hessian - gradq_b2mat, b_matrix.T, g_minus.T])\n",
    "    \n",
    "    return hessian_q"
   ]
  },
  {
   "cell_type": "code",
   "execution_count": 20,
   "id": "563ca0b5-c841-4532-aa4b-8e41263811ab",
   "metadata": {},
   "outputs": [
    {
     "name": "stdout",
     "output_type": "stream",
     "text": [
      "[[ 0.513565   0.0000489 -0.0163276]\n",
      " [ 0.0040076  0.1524204  0.0225714]\n",
      " [ 0.0248769  0.0025197  0.0701795]]\n"
     ]
    }
   ],
   "source": [
    "hessian_q = convert_Hessian_to_internal(hessian, b_mat, g_minus, b2_matrix, grad_q)\n",
    "print(hessian_q)"
   ]
  },
  {
   "cell_type": "markdown",
   "id": "62c4becd-ce15-4cce-a921-0c95587e8cc2",
   "metadata": {},
   "source": [
    "### Ground-state PES by interpolation\n",
    "\n",
    "Now that we have set up the routines for conversion between Cartesian and internal coordiantes, we can start collecting data points for interpolation. Let's start with stretching one of the OH bonds and calculate three new points: one when the bond is contracted, one around equilibrium bond length, and one when the bond is stretched."
   ]
  },
  {
   "cell_type": "code",
   "execution_count": 44,
   "id": "e10fa504-9556-4030-92fc-1f11228de1ff",
   "metadata": {},
   "outputs": [],
   "source": [
    "mol_template = \"\"\"                                                                                                              \n",
    "O    0.000000000000        0.000000000000        0.000000000000                         \n",
    "H    0.000000000000        0.895700000000       -0.316700000000                         \n",
    "H    0.000000000000        0.000000000000        OHdist\n",
    "\"\"\"\n",
    "\n",
    "# list of bond distances\n",
    "distlist = [0.75, 0.95, 1.35]\n",
    "#distlist = [0.7,0.75,0.8,0.85,0.9,0.95,1.0,1.05,1.1,1.3,1.5,1.7,2,2.5,3,3.4,4.1]\n"
   ]
  },
  {
   "cell_type": "code",
   "execution_count": 49,
   "id": "8af2dea3-5ef8-4d4f-a89b-79866d15d70d",
   "metadata": {},
   "outputs": [
    {
     "name": "stdout",
     "output_type": "stream",
     "text": [
      "Calculating the energies, gradients and Hessians for...  0.75\n",
      "Calculating the energies, gradients and Hessians for...  0.95\n",
      "Calculating the energies, gradients and Hessians for...  1.35\n"
     ]
    }
   ],
   "source": [
    "# empty list to save the energies, gradients and hessians\n",
    "energies = []\n",
    "cart_gradients = []\n",
    "cart_hessians = []\n",
    "\n",
    "# list for molecular configurations\n",
    "molecules = []\n",
    "\n",
    "ostream.state = False # to disable printout\n",
    "\n",
    "for oh in distlist:\n",
    "    print(\"Calculating the energies, gradients and Hessians for... \", oh)\n",
    "    \n",
    "    # Create new molecule\n",
    "    mol_str = mol_template.replace(\"OHdist\", str(oh))\n",
    "    new_molecule = vlx.Molecule.read_str(mol_str, units='angstrom')\n",
    "    \n",
    "    # set-up an xtb driver, gradient driver and hessian driver\n",
    "    new_xtb_drv = vlx.XTBDriver()\n",
    "    new_xtb_drv.set_method(method_settings['xtb'].lower())\n",
    "    new_xtb_drv.compute(new_molecule, ostream)\n",
    "    \n",
    "    new_xtb_grad_drv = vlx.XTBGradientDriver(new_xtb_drv)\n",
    "    new_xtb_grad_drv.ostream.state = False # to disable printout\n",
    "    new_xtb_grad_drv.compute(new_molecule)\n",
    "    \n",
    "    new_xtb_hessian_drv = vlx.XTBHessianDriver(new_xtb_drv)\n",
    "    new_xtb_hessian_drv.ostream.state = False\n",
    "    new_xtb_hessian_drv.compute(new_molecule)\n",
    "    \n",
    "    # save the results:\n",
    "    energy = new_xtb_drv.get_energy()\n",
    "    cart_gradient = new_xtb_grad_drv.gradient\n",
    "    cart_hessian = new_xtb_hessian_drv.hessian\n",
    "    \n",
    "    energies.append(energy)\n",
    "    cart_gradients.append(cart_gradient)\n",
    "    cart_hessians.append(cart_hessian)\n",
    "    molecules.append(new_molecule)"
   ]
  },
  {
   "cell_type": "markdown",
   "id": "e46faa5c-e1c5-4f76-b0a3-e6ff06db985d",
   "metadata": {},
   "source": [
    "Now we have to transform the gradient and Hessian from Cartesian to internal coordinates in order to be able to use them for interpolation."
   ]
  },
  {
   "cell_type": "code",
   "execution_count": 50,
   "id": "3620581d-5188-4f65-ba5e-894d2a2fadcb",
   "metadata": {},
   "outputs": [
    {
     "name": "stdout",
     "output_type": "stream",
     "text": [
      "[]\n"
     ]
    }
   ],
   "source": [
    "print(gradients)"
   ]
  },
  {
   "cell_type": "code",
   "execution_count": 54,
   "id": "ae6336d9-c65e-4b9c-8eb1-6d9112be4df4",
   "metadata": {},
   "outputs": [],
   "source": [
    "# number of data points:\n",
    "n_data_pts = len(energies)\n",
    "\n",
    "# empty lists for the internal gradients and Hessians:\n",
    "int_gradients = []\n",
    "int_hessians = []\n",
    "\n",
    "for i in range(n_data_pts):\n",
    "    grad_x = cart_gradients[i]\n",
    "    hess_x = cart_hessians[i]\n",
    "    mol = molecules[i]\n",
    "    b_mat = get_b_matrix(mol, internal_coordinates, z_matrix)\n",
    "    g_minus = get_g_minus(b_mat)\n",
    "    b2_mat = get_b2_matrix(mol, internal_coordinates, z_matrix)\n",
    "    \n",
    "    grad_q = convert_gradient_to_internal(grad_x, b_mat, g_minus)\n",
    "    hess_q = convert_Hessian_to_internal(hess_x, b_mat, g_minus, b2_mat, grad_q)"
   ]
  },
  {
   "cell_type": "code",
   "execution_count": 43,
   "id": "64c73418-dac2-44a0-9a16-ba4e910f67ce",
   "metadata": {},
   "outputs": [
    {
     "data": {
      "image/png": "[encoded data removed]",
      "text/plain": [
       "<Figure size 432x288 with 1 Axes>"
      ]
     },
     "metadata": {
      "needs_background": "light"
     },
     "output_type": "display_data"
    }
   ],
   "source": [
    "plt.figure(figsize=(6,4))\n",
    "plt.title('Energy during O-H dissociation')\n",
    "plt.plot(distlist,energies, label='XTB')\n",
    "plt.legend()\n",
    "plt.tight_layout(); plt.show()"
   ]
  },
  {
   "cell_type": "code",
   "execution_count": null,
   "id": "484deb8b-ae43-4ef3-85b2-288d2cdf1cab",
   "metadata": {},
   "outputs": [],
   "source": []
  }
 ],
 "metadata": {
  "kernelspec": {
   "display_name": "Python 3 (ipykernel)",
   "language": "python",
   "name": "python3"
  },
  "language_info": {
   "codemirror_mode": {
    "name": "ipython",
    "version": 3
   },
   "file_extension": ".py",
   "mimetype": "text/x-python",
   "name": "python",
   "nbconvert_exporter": "python",
   "pygments_lexer": "ipython3",
   "version": "3.9.12"
  }
 },
 "nbformat": 4,
 "nbformat_minor": 5
}
