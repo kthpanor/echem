{
 "cells": [
  {
   "cell_type": "markdown",
   "id": "ce7ac16f-1fc0-4a88-936c-50e36aedeaa1",
   "metadata": {},
   "source": [
    "# Potential energy surfaces by interpolation\n",
    "\n",
    "The idea behind PES by interpolation is to construct the global PES of the molecular ground or excited-state from a set of data points (configurations) calculated quantum-mechanically (QM). For small molecules with few degrees of freedom, depending on the level of theory, the interpolated PES can have similar computational cost as constructing the PES *ab initio*. On the other hand, the use of an interpolated PES becomes very advantageous, especially when the molecule of interest is embedded in a larger environment (e.g. fluorescent probe in a protein), where this technique allows performing dynamics on the ground or excited state with quantum chemical accuracy, but at molecular mechanics computational cost {cite}`rhee2016interpolation`.\n",
    "\n",
    "The idea behind PES interpolation is to write the potential energy at a new configuration $\\mathbf{q}$ as a weighted average between potentials defined from a set of *ab initio* data points $\\{\\mathbf{q}_a\\}$:\n",
    "\n",
    "$$\n",
    "V(\\mathbf{q}) = \\sum_a w_a V_a(\\mathbf{q})\\,,\n",
    "$$\n",
    "\n",
    "where the weights $w_a$ depend on the distance ($\\boldsymbol{\\Delta}_a$) beween the new configuration $\\mathbf{q}$ and a data configuration $\\mathbf{q}_a$. The potentials $V_a$ are local harmonic potentials written in terms of Taylor expansions based on the energy ($E_a$), gradient ($\\mathbf{g}_a$) and Hessian ($\\mathbf{H}_a$):\n",
    "\n",
    "$$\n",
    "V_a(\\mathbf{q}) = E_a + \\boldsymbol{\\Delta}^\\mathrm{T}_a \\mathbf{g}_a + \\frac{1}{2} \\boldsymbol{\\Delta}^\\mathrm{T}_a \\mathbf{H}_a\\boldsymbol{\\Delta}_a\\, .\n",
    "$$\n",
    "\n",
    "The vector $\\mathbf{q}$ designating the position is in the internal coordinate system. The weights are provided by considering the distance between $\\mathbf{q}$ and $\\mathbf{q}_a$, such that the weight $w_a$ is larger for a data point $\\mathbf{q}_a$ that is closer to $\\mathbf{q}$. The weights $w_a$ are normalized weights: \n",
    "\n",
    "$$\n",
    "w_a = \\frac{v_a}{\\sum_i v_i}\\,\n",
    "$$\n",
    "\n",
    "where the un-normalized weights $v_a$ can be calculated in different ways, for example a simple weighting scheme is:\n",
    "\n",
    "$$\n",
    "v_a = \\frac{1}{|\\mathbf{q}-\\mathbf{q_a}|^{2p}}.\n",
    "$$\n",
    "\n",
    "The exponent $2p$ determines how fast the algorithm switches between data points {cite}`kim2016impesLargeMol`. \n",
    "\n",
    "Another approach to determine the un-normalized weights is the Shepard weighting scheme {cite}`kim2016impesLargeMol`:\n",
    "\n",
    "$$\n",
    "v_a = \\left[ \\left(\\frac{|\\mathbf{q}-\\mathbf{q_a}|}{r_a}\\right)^{2p} + \\left(\\frac{|\\mathbf{q}-\\mathbf{q_a}|}{r_a}\\right)^{2q} \\right]^{-1},\n",
    "$$\n",
    "\n",
    "where $r_a$ is the confidence radius for $\\mathbf{q_a}$. \n",
    "\n",
    "For a good overview of potential energy surfaces by interpolation, see {cite}`rhee2016interpolation`.\n"
   ]
  }
 ],
 "metadata": {
  "kernelspec": {
   "display_name": "Python 3 (ipykernel)",
   "language": "python",
   "name": "python3"
  },
  "language_info": {
   "codemirror_mode": {
    "name": "ipython",
    "version": 3
   },
   "file_extension": ".py",
   "mimetype": "text/x-python",
   "name": "python",
   "nbconvert_exporter": "python",
   "pygments_lexer": "ipython3",
   "version": "3.10.4"
  }
 },
 "nbformat": 4,
 "nbformat_minor": 5
}
