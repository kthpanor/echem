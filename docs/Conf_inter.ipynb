{
 "cells": [
  {
   "cell_type": "markdown",
   "id": "growing-cornell",
   "metadata": {},
   "source": [
    "## Configuration interaction\n",
    "### General theory\n",
    "\n",
    "One of the conceptually (but not computationally) simplest way to solve the Schrödinger equation is to simply expand our many-body wavefunction on a n-electron basis set (not to be confused with the 1-electron basis functions used to expand orbitals):\n",
    "\n",
    "$$| \\Psi_{CI} \\rangle = \\sum_k c_k | \\mathbf{k} \\rangle $$ \n",
    "\n",
    "with energy:\n",
    "\n",
    "$$ E = \\frac{\\langle \\Psi_{CI} | H | \\Psi_{CI} \\rangle}{\\langle \\Psi_{CI} | \\Psi_{CI} \\rangle} $$\n",
    "\n",
    "We will discuss in the next section the choice of the basis, but in all cases, as the size of this basis set increases, the solution converges to the exact solution of the Schrödinger equation.\n",
    "\n",
    "There is a redundancy in the parameters $c_k$ as multiplying them all by a constant does not change the energy. We thus add the constraint that the wavefunction should be normalised $\\langle \\Psi_{CI} | \\Psi_{CI} \\rangle = \\sum_k c_k^2 = 1$. To minimize the wavefunction subject to this constraint, we write a Lagrangian:\n",
    "\n",
    "$$ L = E - \\epsilon(\\sum_k c_k^2 -1) $$\n",
    "\n",
    "To define our minimisation we set the gradient of our Lagrangian to 0 and obtain:\n",
    "\n",
    "$$ \\frac{dL}{d c_k} =  \\sum_i \\langle \\mathbf{i} | H | \\mathbf{k} \\rangle c_i - \\epsilon c_k + cc.= 0 $$\n",
    "\n",
    "with $cc.$ the complex conjugate of the expression. This can finally be recast in the familiar form:\n",
    "\n",
    "$$ \\mathbf{H} \\mathbf{c} = \\epsilon \\mathbf{c} $$\n",
    "\n",
    "showing that minimising the wavefunction is equivalent to diagonalising the Hamiltonian matrix in our chosen basis, with the eigenvalues being the energies of all possible states in the system. The ground state simply corresponds to the lowest eigenvalue."
   ]
  },
  {
   "cell_type": "markdown",
   "id": "finnish-tomorrow",
   "metadata": {},
   "source": [
    "### The n-electron basis\n",
    "\n",
    "There are in principle an infinite number of possible n-electron basis to choose from, but we ideally want the expansion to converge quickly (compact expansion) and the functions to be easily manipulatable to quickly compute the Hamiltonian elements. Naturally, these two criteria often go opposite.\n",
    "\n",
    "As electron correlation depends on the distance between electrons, it would be natural to use functions that depend explicitely on this distance, the same way as our gaussian or Slater 1-electron basis depends explicitely on the distance between electron and nuclei. Wavefunction having this properties are typically called explicitly correlated wavefunctions, but this interelectronic distance makes the calculation of integrals very difficult as it couples multiple electrons together.\n",
    "\n",
    "We often drop this explicit dependence and instead use a wavefunction that is simply formed from products of one-electron functions, i.e. product of orbitals. The simplest of these basis functions if the Hartree product, but since we know the wavefunction should be antisymmetric with respect to the exchange of two electrons, we instead use the antisymmetrised version of the Hartree product: Slater determinants (SD). As each SD represents a different electronic configuration, the resulting method is called configuration interaction (CI). As discussed in the previous sections, this basis of SD constitutes a complete basis within a specified one-electron basis set, and thus the solution obtained by minimizing the energy of this wavefunction is the exact ground state within that one-electron basis.\n",
    "\n",
    "In some codes, configuration state functions (CSF) are used instead of SDs. CSF are fixed linear combinations of SD but with the attractive properties that they are also eigenfunctions of the $S^2$ spin operator. This spin constraints means that the resulting wavefunction will always be spin-adapted and also that CSF are less numerous than Slater Determinants which has advantages on a computational standpoint. However, SD can be expressed as ordered \"strings\" of $\\alpha$ and $\\beta$ creating operators, and this separation of $\\alpha$ and $\\beta$ electrons allows to write efficient computer implementation, outweighing the benefits of the slightly smaller expansion of CSF.\n",
    "\n",
    "Having chosen SD as our basis functions, we now need an efficient way to create our expansion, i.e. a direct link between a given index in our expansion and the corresponding occupation of the SD. This link should work both ways, matching a given occupation to the corresponding index in the expansion. A common choice is the so-called lexical ordering or the reverse lexical ordering. The details are beyond the scope of this page, but fortunately, the MultiPsi package provide the tools to do this.\n",
    "\n",
    "Let's start by initialising a calculation for O$_2$. We will first run a Hartree-Fock calculation to generate starting orbitals. The ground state of this molecule is a triplet, but for the Hartree-Fock step we will simply run a singlet closed-shell. This is not an issue as full CI is exact and does not depend on the actual shape of the orbitals."
   ]
  },
  {
   "cell_type": "code",
   "execution_count": 1,
   "id": "active-dubai",
   "metadata": {},
   "outputs": [
    {
     "name": "stdout",
     "output_type": "stream",
     "text": [
      "* Warning * Environment variable OMP_NUM_THREADS not set.\n",
      "* Warning * Setting OMP_NUM_THREADS to 4.\n",
      "Molecular Geometry (Angstroms)\n",
      "================================\n",
      "\n",
      "  Atom         Coordinate X          Coordinate Y          Coordinate Z  \n",
      "\n",
      "  O           0.000000000000        0.000000000000       -0.600000000000\n",
      "  O           0.000000000000        0.000000000000        0.600000000000\n",
      "\n",
      "\n",
      "Molecular Basis (Atomic Basis)\n",
      "================================\n",
      "\n",
      "Basis: STO-3G                                         \n",
      "\n",
      "  Atom Contracted GTOs          Primitive GTOs           \n",
      "\n",
      "  O   (2S,1P)                  (6S,3P)                  \n",
      "\n",
      "Contracted Basis Functions : 10                       \n",
      "Primitive Basis Functions  : 30                       \n",
      "\n",
      "\n",
      "                                                                                                                          \n",
      "                                            Self Consistent Field Driver Setup                                            \n",
      "                                           ====================================                                           \n",
      "                                                                                                                          \n",
      "                   Wave Function Model             : Spin-Restricted Hartree-Fock                                         \n",
      "                   Initial Guess Model             : Superposition of Atomic Densities                                    \n",
      "                   Convergence Accelerator         : Two Level Direct Inversion of Iterative Subspace                     \n",
      "                   Max. Number of Iterations       : 50                                                                   \n",
      "                   Max. Number of Error Vectors    : 10                                                                   \n",
      "                   Convergence Threshold           : 1.0e-06                                                              \n",
      "                   ERI Screening Scheme            : Cauchy Schwarz + Density                                             \n",
      "                   ERI Screening Mode              : Dynamic                                                              \n",
      "                   ERI Screening Threshold         : 1.0e-12                                                              \n",
      "                   Linear Dependence Threshold     : 1.0e-06                                                              \n",
      "                                                                                                                          \n",
      "* Info * Nuclear repulsion energy: 28.2227845824 au                                                                       \n",
      "                                                                                                                          \n",
      "* Info * Overlap matrix computed in 0.00 sec.                                                                             \n",
      "                                                                                                                          \n",
      "* Info * Kinetic energy matrix computed in 0.00 sec.                                                                      \n",
      "                                                                                                                          \n",
      "* Info * Nuclear potential matrix computed in 0.00 sec.                                                                   \n",
      "                                                                                                                          \n",
      "* Info * Orthogonalization matrix computed in 0.00 sec.                                                                   \n",
      "                                                                                                                          \n",
      "* Info * SAD initial guess computed in 0.00 sec.                                                                          \n",
      "                                                                                                                          \n",
      "* Info * Starting Reduced Basis SCF calculation...                                                                        \n",
      "* Info * ...done. SCF energy in reduced basis set: -147.550438910060 au. Time: 0.08 sec.                                  \n",
      "                                                                                                                          \n",
      "* Info * Overlap matrix computed in 0.00 sec.                                                                             \n",
      "                                                                                                                          \n",
      "* Info * Kinetic energy matrix computed in 0.00 sec.                                                                      \n",
      "                                                                                                                          \n",
      "* Info * Nuclear potential matrix computed in 0.00 sec.                                                                   \n",
      "                                                                                                                          \n",
      "* Info * Orthogonalization matrix computed in 0.00 sec.                                                                   \n",
      "                                                                                                                          \n",
      "                                                                                                                          \n",
      "               Iter. | Hartree-Fock Energy | Energy Change | Gradient Norm | Max. Gradient | Density Change               \n",
      "               --------------------------------------------------------------------------------------------               \n",
      "                  1      -147.550438910064    0.0000000000      0.00000114      0.00000034      0.00000000                \n",
      "                  2      -147.550438910064   -0.0000000000      0.00000004      0.00000001      0.00000081                \n",
      "                                                                                                                          \n",
      "               *** SCF converged in 2 iterations. Time: 0.06 sec.                                                         \n",
      "                                                                                                                          \n",
      "               Spin-Restricted Hartree-Fock:                                                                              \n",
      "               -----------------------------                                                                              \n",
      "               Total Energy                       :     -147.5504389101 au                                                \n",
      "               Electronic Energy                  :     -175.7732234925 au                                                \n",
      "               Nuclear Repulsion Energy           :       28.2227845824 au                                                \n",
      "               ------------------------------------                                                                       \n",
      "               Gradient Norm                      :        0.0000000359 au                                                \n",
      "                                                                                                                          \n",
      "                                                                                                                          \n",
      "               Ground State Information                                                                                   \n",
      "               ------------------------                                                                                   \n",
      "               Charge of Molecule            :  0.0                                                                       \n",
      "               Multiplicity (2S+1)           :  1.0                                                                       \n",
      "               Magnetic Quantum Number (M_S) :  0.0                                                                       \n",
      "                                                                                                                          \n",
      "                                                                                                                          \n",
      "                                                 Spin Restricted Orbitals                                                 \n",
      "                                                 ------------------------                                                 \n",
      "                                                                                                                          \n",
      "               Molecular Orbital No.   4:                                                                                 \n",
      "               --------------------------                                                                                 \n",
      "               Occupation: 2.0 Energy:   -0.99088 au                                                                      \n",
      "               (   1 O   1s  :     0.18) (   1 O   2s  :    -0.78) (   1 O   1p0 :     0.16)                              \n",
      "               (   2 O   1s  :    -0.18) (   2 O   2s  :     0.78) (   2 O   1p0 :     0.16)                              \n",
      "                                                                                                                          \n",
      "               Molecular Orbital No.   5:                                                                                 \n",
      "               --------------------------                                                                                 \n",
      "               Occupation: 2.0 Energy:   -0.64661 au                                                                      \n",
      "               (   1 O   1p+1:    -0.66) (   2 O   1p+1:    -0.66)                                                        \n",
      "                                                                                                                          \n",
      "               Molecular Orbital No.   6:                                                                                 \n",
      "               --------------------------                                                                                 \n",
      "               Occupation: 2.0 Energy:   -0.58501 au                                                                      \n",
      "               (   1 O   2s  :    -0.33) (   1 O   1p0 :     0.61) (   2 O   2s  :    -0.33)                              \n"
     ]
    },
    {
     "name": "stdout",
     "output_type": "stream",
     "text": [
      "               (   2 O   1p0 :    -0.61)                                                                                  \n",
      "                                                                                                                          \n",
      "               Molecular Orbital No.   7:                                                                                 \n",
      "               --------------------------                                                                                 \n",
      "               Occupation: 2.0 Energy:   -0.52415 au                                                                      \n",
      "               (   1 O   1p-1:    -0.66) (   2 O   1p-1:    -0.66)                                                        \n",
      "                                                                                                                          \n",
      "               Molecular Orbital No.   8:                                                                                 \n",
      "               --------------------------                                                                                 \n",
      "               Occupation: 2.0 Energy:   -0.32847 au                                                                      \n",
      "               (   1 O   1p+1:     0.77) (   2 O   1p+1:    -0.77)                                                        \n",
      "                                                                                                                          \n",
      "               Molecular Orbital No.   9:                                                                                 \n",
      "               --------------------------                                                                                 \n",
      "               Occupation: 0.0 Energy:    0.19167 au                                                                      \n",
      "               (   1 O   1p-1:    -0.77) (   2 O   1p-1:     0.77)                                                        \n",
      "                                                                                                                          \n",
      "               Molecular Orbital No.  10:                                                                                 \n",
      "               --------------------------                                                                                 \n",
      "               Occupation: 0.0 Energy:    0.74727 au                                                                      \n",
      "               (   1 O   2s  :    -0.59) (   1 O   1p0 :    -0.95) (   2 O   2s  :     0.59)                              \n",
      "               (   2 O   1p0 :    -0.95)                                                                                  \n",
      "                                                                                                                          \n"
     ]
    }
   ],
   "source": [
    "import veloxchem as vlx\n",
    "import multipsi as mtp\n",
    "import numpy as np\n",
    "O2_xyz=h2o_xyz = \"\"\"2\n",
    "water                                                                                                                          \n",
    "O    0.000000000000        0.000000000000       -0.600000000000 \n",
    "O    0.000000000000        0.000000000000        0.600000000000 \n",
    "\"\"\"\n",
    "\n",
    "molecule = vlx.Molecule.from_xyz_string(O2_xyz)\n",
    "print(molecule.get_string())\n",
    "\n",
    "basis = vlx.MolecularBasis.read(molecule,\"STO-3G\")\n",
    "print(basis.get_string(molecule))\n",
    "\n",
    "scfdrv = vlx.ScfRestrictedDriver()\n",
    "scfdrv.compute(molecule, basis)"
   ]
  },
  {
   "cell_type": "markdown",
   "id": "appropriate-appeal",
   "metadata": {},
   "source": [
    "Now we can switch the multiplicity back to a triplet."
   ]
  },
  {
   "cell_type": "code",
   "execution_count": 2,
   "id": "published-murder",
   "metadata": {},
   "outputs": [],
   "source": [
    "molecule.set_multiplicity(3)"
   ]
  },
  {
   "cell_type": "markdown",
   "id": "vietnamese-observation",
   "metadata": {},
   "source": [
    "The next step is to define our CI. The meaning of this step will become more clear when we discuss restricted CI and active spaces. Now we simply define a full CI by using the FCI keyword. Then we use the CIExpansion class to create the tools necessary to handle the CI expansion."
   ]
  },
  {
   "cell_type": "code",
   "execution_count": 7,
   "id": "radical-fetish",
   "metadata": {},
   "outputs": [
    {
     "name": "stdout",
     "output_type": "stream",
     "text": [
      "\n",
      "          CI expansion:\n",
      "          -------------\n",
      "Number of determinants:      1200\n",
      "\n",
      "\n"
     ]
    }
   ],
   "source": [
    "space=mtp.MolSpace(molecule,scfdrv.mol_orbs)\n",
    "space.FCI()\n",
    "expansion=mtp.CIExpansion(space)\n",
    "print(expansion)"
   ]
  },
  {
   "cell_type": "markdown",
   "id": "phantom-pierre",
   "metadata": {},
   "source": [
    "Printing the expansion shows the number of Slater determinants. As you can see, the number is already fairly large. This is not an issue in a real calculation, but for testing purposes, we will restrict this number a bit. For this, we will simply excluse the 1s and 2s of the oxygen from the calculation by defining an active space. There are 8 electrons and 6 orbitals remaining, so we will define it as a CAS(8,6): "
   ]
  },
  {
   "cell_type": "code",
   "execution_count": 9,
   "id": "postal-forum",
   "metadata": {},
   "outputs": [
    {
     "name": "stdout",
     "output_type": "stream",
     "text": [
      "\n",
      "          CI expansion:\n",
      "          -------------\n",
      "Number of determinants:      120\n",
      "\n",
      "\n"
     ]
    }
   ],
   "source": [
    "space.CAS(8,6)\n",
    "expansion=mtp.CIExpansion(space)\n",
    "print(expansion)"
   ]
  },
  {
   "cell_type": "markdown",
   "id": "attended-assembly",
   "metadata": {},
   "source": [
    "This number is much more manageable.\n",
    "\n",
    "Now we can look at the determinants themselves. The easiest way is to use the generator detlist() of the expansion class in a python for loop, which as the name implies will provide the determinants in order, here in reverse lexical ordering. By printing the determinant directly, we get the string representation, with a character for each orbital in the system. '2' indicates that the orbital is doubly occupied, 'a' and 'b' indicates an $\\alpha$ or $\\beta$ electron, and '0' an empty orbital. The determinant also provides a python list of the orbitals containing a $\\alpha$ or $\\beta$ electron."
   ]
  },
  {
   "cell_type": "code",
   "execution_count": 10,
   "id": "similar-suggestion",
   "metadata": {},
   "outputs": [
    {
     "name": "stdout",
     "output_type": "stream",
     "text": [
      "222aa0 [0, 1, 2, 3, 4] [0, 1, 2]\n",
      "22a2a0 [0, 1, 2, 3, 4] [0, 1, 3]\n",
      "2a22a0 [0, 1, 2, 3, 4] [0, 2, 3]\n",
      "a222a0 [0, 1, 2, 3, 4] [1, 2, 3]\n",
      "22aa20 [0, 1, 2, 3, 4] [0, 1, 4]\n",
      "2a2a20 [0, 1, 2, 3, 4] [0, 2, 4]\n",
      "a22a20 [0, 1, 2, 3, 4] [1, 2, 4]\n",
      "2aa220 [0, 1, 2, 3, 4] [0, 3, 4]\n",
      "a2a220 [0, 1, 2, 3, 4] [1, 3, 4]\n",
      "aa2220 [0, 1, 2, 3, 4] [2, 3, 4]\n",
      "22aaab [0, 1, 2, 3, 4] [0, 1, 5]\n",
      "2a2aab [0, 1, 2, 3, 4] [0, 2, 5]\n",
      "a22aab [0, 1, 2, 3, 4] [1, 2, 5]\n",
      "2aa2ab [0, 1, 2, 3, 4] [0, 3, 5]\n",
      "a2a2ab [0, 1, 2, 3, 4] [1, 3, 5]\n",
      "aa22ab [0, 1, 2, 3, 4] [2, 3, 5]\n",
      "2aaa2b [0, 1, 2, 3, 4] [0, 4, 5]\n",
      "a2aa2b [0, 1, 2, 3, 4] [1, 4, 5]\n",
      "aa2a2b [0, 1, 2, 3, 4] [2, 4, 5]\n",
      "aaa22b [0, 1, 2, 3, 4] [3, 4, 5]\n",
      "222a0a [0, 1, 2, 3, 5] [0, 1, 2]\n",
      "22a20a [0, 1, 2, 3, 5] [0, 1, 3]\n",
      "2a220a [0, 1, 2, 3, 5] [0, 2, 3]\n",
      "a2220a [0, 1, 2, 3, 5] [1, 2, 3]\n",
      "22aaba [0, 1, 2, 3, 5] [0, 1, 4]\n",
      "2a2aba [0, 1, 2, 3, 5] [0, 2, 4]\n",
      "a22aba [0, 1, 2, 3, 5] [1, 2, 4]\n",
      "2aa2ba [0, 1, 2, 3, 5] [0, 3, 4]\n",
      "a2a2ba [0, 1, 2, 3, 5] [1, 3, 4]\n",
      "aa22ba [0, 1, 2, 3, 5] [2, 3, 4]\n",
      "22aa02 [0, 1, 2, 3, 5] [0, 1, 5]\n",
      "2a2a02 [0, 1, 2, 3, 5] [0, 2, 5]\n",
      "a22a02 [0, 1, 2, 3, 5] [1, 2, 5]\n",
      "2aa202 [0, 1, 2, 3, 5] [0, 3, 5]\n",
      "a2a202 [0, 1, 2, 3, 5] [1, 3, 5]\n",
      "aa2202 [0, 1, 2, 3, 5] [2, 3, 5]\n",
      "2aaab2 [0, 1, 2, 3, 5] [0, 4, 5]\n",
      "a2aab2 [0, 1, 2, 3, 5] [1, 4, 5]\n",
      "aa2ab2 [0, 1, 2, 3, 5] [2, 4, 5]\n",
      "aaa2b2 [0, 1, 2, 3, 5] [3, 4, 5]\n",
      "2220aa [0, 1, 2, 4, 5] [0, 1, 2]\n",
      "22abaa [0, 1, 2, 4, 5] [0, 1, 3]\n",
      "2a2baa [0, 1, 2, 4, 5] [0, 2, 3]\n",
      "a22baa [0, 1, 2, 4, 5] [1, 2, 3]\n",
      "22a02a [0, 1, 2, 4, 5] [0, 1, 4]\n",
      "2a202a [0, 1, 2, 4, 5] [0, 2, 4]\n",
      "a2202a [0, 1, 2, 4, 5] [1, 2, 4]\n",
      "2aab2a [0, 1, 2, 4, 5] [0, 3, 4]\n",
      "a2ab2a [0, 1, 2, 4, 5] [1, 3, 4]\n",
      "aa2b2a [0, 1, 2, 4, 5] [2, 3, 4]\n",
      "22a0a2 [0, 1, 2, 4, 5] [0, 1, 5]\n",
      "2a20a2 [0, 1, 2, 4, 5] [0, 2, 5]\n",
      "a220a2 [0, 1, 2, 4, 5] [1, 2, 5]\n",
      "2aaba2 [0, 1, 2, 4, 5] [0, 3, 5]\n",
      "a2aba2 [0, 1, 2, 4, 5] [1, 3, 5]\n",
      "aa2ba2 [0, 1, 2, 4, 5] [2, 3, 5]\n",
      "2aa022 [0, 1, 2, 4, 5] [0, 4, 5]\n",
      "a2a022 [0, 1, 2, 4, 5] [1, 4, 5]\n",
      "aa2022 [0, 1, 2, 4, 5] [2, 4, 5]\n",
      "aaab22 [0, 1, 2, 4, 5] [3, 4, 5]\n",
      "22baaa [0, 1, 3, 4, 5] [0, 1, 2]\n",
      "2202aa [0, 1, 3, 4, 5] [0, 1, 3]\n",
      "2ab2aa [0, 1, 3, 4, 5] [0, 2, 3]\n",
      "a2b2aa [0, 1, 3, 4, 5] [1, 2, 3]\n",
      "220a2a [0, 1, 3, 4, 5] [0, 1, 4]\n",
      "2aba2a [0, 1, 3, 4, 5] [0, 2, 4]\n",
      "a2ba2a [0, 1, 3, 4, 5] [1, 2, 4]\n",
      "2a022a [0, 1, 3, 4, 5] [0, 3, 4]\n",
      "a2022a [0, 1, 3, 4, 5] [1, 3, 4]\n",
      "aab22a [0, 1, 3, 4, 5] [2, 3, 4]\n",
      "220aa2 [0, 1, 3, 4, 5] [0, 1, 5]\n",
      "2abaa2 [0, 1, 3, 4, 5] [0, 2, 5]\n",
      "a2baa2 [0, 1, 3, 4, 5] [1, 2, 5]\n",
      "2a02a2 [0, 1, 3, 4, 5] [0, 3, 5]\n",
      "a202a2 [0, 1, 3, 4, 5] [1, 3, 5]\n",
      "aab2a2 [0, 1, 3, 4, 5] [2, 3, 5]\n",
      "2a0a22 [0, 1, 3, 4, 5] [0, 4, 5]\n",
      "a20a22 [0, 1, 3, 4, 5] [1, 4, 5]\n",
      "aaba22 [0, 1, 3, 4, 5] [2, 4, 5]\n",
      "aa0222 [0, 1, 3, 4, 5] [3, 4, 5]\n",
      "2b2aaa [0, 2, 3, 4, 5] [0, 1, 2]\n",
      "2ba2aa [0, 2, 3, 4, 5] [0, 1, 3]\n",
      "2022aa [0, 2, 3, 4, 5] [0, 2, 3]\n",
      "ab22aa [0, 2, 3, 4, 5] [1, 2, 3]\n",
      "2baa2a [0, 2, 3, 4, 5] [0, 1, 4]\n",
      "202a2a [0, 2, 3, 4, 5] [0, 2, 4]\n",
      "ab2a2a [0, 2, 3, 4, 5] [1, 2, 4]\n",
      "20a22a [0, 2, 3, 4, 5] [0, 3, 4]\n",
      "aba22a [0, 2, 3, 4, 5] [1, 3, 4]\n",
      "a0222a [0, 2, 3, 4, 5] [2, 3, 4]\n",
      "2baaa2 [0, 2, 3, 4, 5] [0, 1, 5]\n",
      "202aa2 [0, 2, 3, 4, 5] [0, 2, 5]\n",
      "ab2aa2 [0, 2, 3, 4, 5] [1, 2, 5]\n",
      "20a2a2 [0, 2, 3, 4, 5] [0, 3, 5]\n",
      "aba2a2 [0, 2, 3, 4, 5] [1, 3, 5]\n",
      "a022a2 [0, 2, 3, 4, 5] [2, 3, 5]\n",
      "20aa22 [0, 2, 3, 4, 5] [0, 4, 5]\n",
      "abaa22 [0, 2, 3, 4, 5] [1, 4, 5]\n",
      "a02a22 [0, 2, 3, 4, 5] [2, 4, 5]\n",
      "a0a222 [0, 2, 3, 4, 5] [3, 4, 5]\n",
      "b22aaa [1, 2, 3, 4, 5] [0, 1, 2]\n",
      "b2a2aa [1, 2, 3, 4, 5] [0, 1, 3]\n",
      "ba22aa [1, 2, 3, 4, 5] [0, 2, 3]\n",
      "0222aa [1, 2, 3, 4, 5] [1, 2, 3]\n",
      "b2aa2a [1, 2, 3, 4, 5] [0, 1, 4]\n",
      "ba2a2a [1, 2, 3, 4, 5] [0, 2, 4]\n",
      "022a2a [1, 2, 3, 4, 5] [1, 2, 4]\n",
      "baa22a [1, 2, 3, 4, 5] [0, 3, 4]\n",
      "02a22a [1, 2, 3, 4, 5] [1, 3, 4]\n",
      "0a222a [1, 2, 3, 4, 5] [2, 3, 4]\n",
      "b2aaa2 [1, 2, 3, 4, 5] [0, 1, 5]\n",
      "ba2aa2 [1, 2, 3, 4, 5] [0, 2, 5]\n",
      "022aa2 [1, 2, 3, 4, 5] [1, 2, 5]\n",
      "baa2a2 [1, 2, 3, 4, 5] [0, 3, 5]\n",
      "02a2a2 [1, 2, 3, 4, 5] [1, 3, 5]\n",
      "0a22a2 [1, 2, 3, 4, 5] [2, 3, 5]\n",
      "baaa22 [1, 2, 3, 4, 5] [0, 4, 5]\n",
      "02aa22 [1, 2, 3, 4, 5] [1, 4, 5]\n",
      "0a2a22 [1, 2, 3, 4, 5] [2, 4, 5]\n",
      "0aa222 [1, 2, 3, 4, 5] [3, 4, 5]\n"
     ]
    }
   ],
   "source": [
    "for det in expansion.detlist():\n",
    "    print(det,det.occ_alpha(),det.occ_beta())"
   ]
  },
  {
   "cell_type": "markdown",
   "id": "executive-coach",
   "metadata": {},
   "source": [
    "### The CI Hamiltonian\n",
    "\n",
    "Now that we have the list of determinants, we only need to form the CI Hamiltonian. For this, we need to be able to calculate the matrix elements.\n",
    "\n",
    "MultiPsi also provides a function to do that. For this we need to initialise the CIHam class, which computes the  integrals in the molecular basis and provides several functions to use them in a CI calculation."
   ]
  },
  {
   "cell_type": "code",
   "execution_count": 11,
   "id": "straight-style",
   "metadata": {},
   "outputs": [],
   "source": [
    "CIham=mtp.CIHam(molecule,basis,expansion) #Contains integrals and functions using them\n",
    "CIham.compute_ints()"
   ]
  },
  {
   "cell_type": "markdown",
   "id": "bright-clause",
   "metadata": {},
   "source": [
    "We can now compute the Hamiltonian. The easiest is to simply do a double loop over SD and then computing the matrix element using the Hij function of CIHam:"
   ]
  },
  {
   "cell_type": "code",
   "execution_count": 12,
   "id": "specific-influence",
   "metadata": {},
   "outputs": [],
   "source": [
    "Ham=np.zeros((expansion.nDet,expansion.nDet))\n",
    "for i,idet in enumerate(expansion.detlist()):\n",
    "    for j,jdet in enumerate(expansion.detlist()):\n",
    "        Ham[i,j]=CIham.Hij(idet,jdet)"
   ]
  },
  {
   "cell_type": "markdown",
   "id": "animal-brazilian",
   "metadata": {},
   "source": [
    "If we diagonalise this hamiltonian, we now obtain all the energies of the system, both ground and excited states:"
   ]
  },
  {
   "cell_type": "code",
   "execution_count": 13,
   "id": "capable-blast",
   "metadata": {},
   "outputs": [
    {
     "name": "stdout",
     "output_type": "stream",
     "text": [
      "[-147.72142568 -147.49304166 -147.49304166 -147.48807549 -147.38735867\n",
      " -147.38735867 -147.30200521 -147.27544172 -147.27544172 -147.14731012\n",
      " -147.14731012 -147.08159062 -147.08159062 -147.07878345 -147.07001284\n",
      " -147.0603461  -147.0603461  -147.00846106 -147.00846106 -146.99566437\n",
      " -146.99566437 -146.97297096 -146.97297096 -146.94721035 -146.93555352\n",
      " -146.93555352 -146.92638429 -146.88519558 -146.88519558 -146.88031316\n",
      " -146.83656166 -146.83656166 -146.81941808 -146.74951722 -146.74951722\n",
      " -146.74448247 -146.74448247 -146.73931585 -146.73807678 -146.73807678\n",
      " -146.71308893 -146.71308893 -146.69767332 -146.69767332 -146.65702459\n",
      " -146.63644112 -146.63644112 -146.56808065 -146.5347469  -146.49721329\n",
      " -146.49721329 -146.49222217 -146.48988296 -146.48988296 -146.43557546\n",
      " -146.43557546 -146.43157041 -146.41342431 -146.3942147  -146.36844191\n",
      " -146.36844191 -146.3414047  -146.33447136 -146.33447136 -146.27735345\n",
      " -146.27735345 -146.27295046 -146.2602203  -146.22089315 -146.21143534\n",
      " -146.20231491 -146.20231491 -146.193644   -146.193644   -146.16203129\n",
      " -146.16203129 -146.16052965 -146.16052965 -146.12448416 -146.10706773\n",
      " -146.10706773 -146.06279697 -146.05373212 -146.05373212 -146.05166256\n",
      " -146.05166256 -146.04811383 -146.04811383 -145.9763996  -145.9763996\n",
      " -145.89737526 -145.89737526 -145.89541643 -145.89452504 -145.88798278\n",
      " -145.88798278 -145.80699569 -145.80699569 -145.77058046 -145.77002018\n",
      " -145.77002018 -145.76483211 -145.76483211 -145.75718118 -145.75483376\n",
      " -145.75483376 -145.71098623 -145.71098623 -145.69867906 -145.68762972\n",
      " -145.68762972 -145.66194027 -145.66043364 -145.66043364 -145.10614438\n",
      " -145.0054739  -144.90619332 -144.90619332 -144.87085696 -144.87085696]\n"
     ]
    }
   ],
   "source": [
    "w,v=np.linalg.eigh(Ham)\n",
    "print(w)"
   ]
  },
  {
   "cell_type": "markdown",
   "id": "portuguese-bible",
   "metadata": {},
   "source": [
    "Note how the first (and lowest) energy is indeed lower than the one found at the Hartree-Fock level. This comes both from electron correlation and from using the correct triplet multiplicity.\n",
    "\n",
    "It is important to note at that point that some of the states obtained here are not actually triplet but have a higher multiplicity. As we discussed in the previous section, the basis of Slater Determinant is not spin-adapted.  The only constraint in our expansion is the value of $m_s$, here $m_s = 1$, meaning we have two more $\\alpha$ electron than $\\beta$. This excluses singlet (which can only have $m_s=0$) but does not exclude some quintets or higher.\n",
    "\n",
    "You may be curious as to what happens in the Hij function, that is, how we compute the $\\langle i | H | j \\rangle $ matrix elements. The answer to this is the Slater-Condon rules. This rules define the matrix elements in terms of molecular integrals, depending on the difference in occupation between the 2 determinants. The difference in occupation is easily formulated in terms of excitations, with different rules depending on if $|j \\rangle$ is singly or doubly excited compared to $|i \\rangle$. Any higher excitation will simply lead to 0.\n",
    "\n",
    "These rules are relatively easy to derive, both in standard and second quantization formulation. The idea is that the Hamiltonian has to \"reconcile\" the excitations. Being a two-electron operator, the Hamiltonian can reconcile at most two excitations."
   ]
  },
  {
   "cell_type": "code",
   "execution_count": 14,
   "id": "precious-advocacy",
   "metadata": {},
   "outputs": [],
   "source": [
    "def SC_diag(occa, occb):\n",
    "    Hij=0\n",
    "    Hij+=CIham.inEne #Inactive energy (inc. nuclear repulsion)\n",
    "    for i in occa:\n",
    "        Hij+=CIham.Ftu[i,i] #1-e term = inactive Fock matrix\n",
    "        for j in occa:\n",
    "            if i<j:\n",
    "                Hij+=CIham.tuvw[i,i,j,j]-CIham.tuvw[i,j,j,i] #Coulomb-Exchange\n",
    "        for j in occb:\n",
    "            Hij+=CIham.tuvw[i,i,j,j]\n",
    "    for i in occb:\n",
    "        Hij+=CIham.Ftu[i,i]\n",
    "        for j in occb:\n",
    "            if i<j:\n",
    "                Hij+=CIham.tuvw[i,i,j,j]-CIham.tuvw[i,j,j,i]\n",
    "    return Hij\n",
    "def SC_1exc(i,a,ss_occ, os_occ):\n",
    "    Hij=0\n",
    "    Hij+=CIham.Ftu[i,a]\n",
    "    for k in ss_occ:\n",
    "        Hij+=CIham.tuvw[i,a,k,k]-CIham.tuvw[i,k,k,a]\n",
    "    for k in os_occ:\n",
    "        Hij+=CIham.tuvw[i,a,k,k]\n",
    "    return Hij\n",
    "def SC_ss1exc(i,a,j,b):\n",
    "    return CIham.tuvw[i,a,j,b]-CIham.tuvw[i,b,j,a]\n",
    "def SC_os1exc(i,a,j,b):\n",
    "    return CIham.tuvw[i,a,j,b]"
   ]
  },
  {
   "cell_type": "markdown",
   "id": "fitted-kitty",
   "metadata": {},
   "source": [
    "The difficult part is to make sure that the occupations of the Slater determinants are brought to maximum concordance. The expansion produced by lexical ordering may not have this property, but one can switch electrons until we reach this maximum concordance, introducing a negative phase factor at each electron exchange. Again, MultiPsi provides a convenient way to achieve this. The idea is to explicitely created the single excitation (or double by applying it twice) and then keeps track of the number of exchanges to bring it to natural ordering. The excite_alpha and excite_beta functions do this, providing both the excited determinant and the phase factor.\n",
    "\n",
    "One can now form the Hamiltonian as described below:"
   ]
  },
  {
   "cell_type": "code",
   "execution_count": 15,
   "id": "italian-rental",
   "metadata": {},
   "outputs": [],
   "source": [
    "Ham=np.zeros((expansion.nDet,expansion.nDet))\n",
    "for idet,det in enumerate(expansion.detlist()):\n",
    "    #Diagonal term\n",
    "    Ham[idet,idet]=SC_diag(det.occ_alpha(),det.occ_beta())\n",
    "    #Single excitations alpha\n",
    "    for i in det.occ_alpha():\n",
    "        for a in det.unocc_alpha():\n",
    "            phase,excdet=det.excite_alpha(i,a)\n",
    "            Ham[idet,excdet.index()]=phase*SC_1exc(i,a,det.occ_alpha(),det.occ_beta())\n",
    "            #alpha-alpha excitation\n",
    "            for j in det.occ_alpha():\n",
    "                if i==j:\n",
    "                    continue\n",
    "                for b in det.unocc_alpha():\n",
    "                    if a==b:\n",
    "                        continue\n",
    "                    phase2,exc2det=excdet.excite_alpha(j,b)\n",
    "                    Ham[idet,exc2det.index()]=phase*phase2*SC_ss1exc(i,a,j,b)\n",
    "            #alpha-beta excitation\n",
    "            for j in det.occ_beta():\n",
    "                for b in det.unocc_beta():\n",
    "                    phase2,exc2det=excdet.excite_beta(j,b)\n",
    "                    Ham[idet,exc2det.index()]=phase*phase2*SC_os1exc(i,a,j,b)\n",
    "    #Single excitations beta\n",
    "    for i in det.occ_beta():\n",
    "        for a in det.unocc_beta():\n",
    "            phase,excdet=det.excite_beta(i,a)\n",
    "            Ham[idet,excdet.index()]=phase*SC_1exc(i,a,det.occ_beta(),det.occ_alpha())\n",
    "            #beta-beta excitation\n",
    "            for j in det.occ_beta():\n",
    "                if i==j:\n",
    "                    continue\n",
    "                for b in det.unocc_beta():\n",
    "                    if a==b:\n",
    "                        continue\n",
    "                    phase2,exc2det=excdet.excite_beta(j,b)\n",
    "                    Ham[idet,exc2det.index()]=phase*phase2*SC_ss1exc(i,a,j,b) "
   ]
  },
  {
   "cell_type": "markdown",
   "id": "swedish-morning",
   "metadata": {},
   "source": [
    "The advantage of this loop structure is that we only compute the non-zero elements. It can be easily verified that we obtain the same result:"
   ]
  },
  {
   "cell_type": "code",
   "execution_count": 16,
   "id": "serial-effect",
   "metadata": {},
   "outputs": [
    {
     "name": "stdout",
     "output_type": "stream",
     "text": [
      "[-147.72142568 -147.49304166 -147.49304166]\n"
     ]
    }
   ],
   "source": [
    "w,v=np.linalg.eigh(Ham)\n",
    "print(w[0:3])"
   ]
  },
  {
   "cell_type": "markdown",
   "id": "signed-benefit",
   "metadata": {},
   "source": [
    "### Direct CI"
   ]
  },
  {
   "cell_type": "code",
   "execution_count": null,
   "id": "broad-columbia",
   "metadata": {},
   "outputs": [],
   "source": []
  }
 ],
 "metadata": {
  "kernelspec": {
   "display_name": "Python 3",
   "language": "python",
   "name": "python3"
  },
  "language_info": {
   "codemirror_mode": {
    "name": "ipython",
    "version": 3
   },
   "file_extension": ".py",
   "mimetype": "text/x-python",
   "name": "python",
   "nbconvert_exporter": "python",
   "pygments_lexer": "ipython3",
   "version": "3.9.0"
  }
 },
 "nbformat": 4,
 "nbformat_minor": 5
}
